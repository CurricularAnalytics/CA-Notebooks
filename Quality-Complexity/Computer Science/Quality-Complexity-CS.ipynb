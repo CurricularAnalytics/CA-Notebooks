{
 "cells": [
  {
   "cell_type": "markdown",
   "metadata": {},
   "source": [
    "# <center>Quality/Complexity of Computer Science Programs</center>\n",
    "\n",
    "<center>\n",
    "    <b>Hayden W. Free,$^\\dagger$ Johnny Flynn,$^\\dagger$ Camden Mackowiak,$^\\dagger$ Gregory L. Heileman$^\\ddagger$, Jerzy Jaromczyk$^\\dagger$ and Chaouki T. Abdallah$^\\star$</b> <br>\n",
    "    $^\\dagger$Department of Computer Science <br>\n",
    "    University of Kentucky <br>\n",
    "    {hayden.free, john.flynn, camden.mackowiak,jurek}@uky.edu <br>\n",
    "    $^\\ddagger$Department of Electrical & Computer Engineering <br>\n",
    "    Univeristy of Arizona <br>\n",
    "    heileman@arizona.edu <br>\n",
    "    $^\\star$Department of Electrical & Computer Engineering <br>\n",
    "    Georgia Institute of Technology <br>\n",
    "    ctabdallah@gatech.edu  <br>\n",
    "</center>\n",
    "\n",
    "## Introduction\n",
    "In this notebook we compare the complexity of computer science undergraduate programs across the ranking provided by the CSRankings.org <cite data-cite=\"be:19\">Berger (2019)</cite> \n",
    "\n",
    "This analysis is based upon recently developed curricular complexity metrics (see <cite data-cite=\"he:18\">Heileman, et. al, (2018)</cite>).  Research in this area demonstrates that according to these complexity metrics, STEM programs tend to be among the most complex univeristy curricula. This is attributed to the large number of prerequisites that accompany many of the courses in STEM programs, as well as the long prerequisite chains that tend to exist in these curricula. This notebook makes use use of a Curricular Analytics toolbox that was built to compute these curricular complexity metrics <cite data-cite=\"he:18\">Heileman, et. al. (2019)</cite>).    \n",
    "\n",
    "The following Julia packages are needed for this analyisis:"
   ]
  },
  {
   "cell_type": "code",
   "execution_count": 1,
   "metadata": {},
   "outputs": [
    {
     "name": "stderr",
     "output_type": "stream",
     "text": [
      "┌ Info: Recompiling stale cache file /Users/heileman/.julia/compiled/v1.1/CurricularAnalytics/pJfqI.ji for CurricularAnalytics [593ffa3d-269e-5d81-88bc-c3b6809c35a6]\n",
      "└ @ Base loading.jl:1184\n"
     ]
    },
    {
     "data": {
      "text/html": [
       "<script>\n",
       "// Immediately-invoked-function-expression to avoid global variables.\n",
       "(function() {\n",
       "    var warning_div = document.getElementById(\"webio-warning-6823730122449170650\");\n",
       "    var hide = function () {\n",
       "        var script = document.getElementById(\"webio-setup-10137589166750379700\");\n",
       "        var parent = script && script.parentElement;\n",
       "        var grandparent = parent && parent.parentElement;\n",
       "        if (grandparent) {\n",
       "            grandparent.style.display = \"none\";\n",
       "        }\n",
       "        warning_div.style.display = \"none\";\n",
       "    };\n",
       "    if (typeof Jupyter !== \"undefined\") {\n",
       "        console.log(\"WebIO detected Jupyter notebook environment.\");\n",
       "        // Jupyter notebook.\n",
       "        var extensions = (\n",
       "            Jupyter\n",
       "            && Jupyter.notebook.config.data\n",
       "            && Jupyter.notebook.config.data.load_extensions\n",
       "        );\n",
       "        if (extensions && extensions[\"webio/main\"]) {\n",
       "            // Extension already loaded.\n",
       "            console.log(\"Jupyter WebIO nbextension detected; not loading ad-hoc.\");\n",
       "            hide();\n",
       "            return;\n",
       "        }\n",
       "        console.warn(\"Loading WebIO Jupyter extension on an ad-hoc basis. Consider enabling the WebIO nbextension for a stabler experience (this should happen automatically when building WebIO).\");\n",
       "        warning_div.innerHTML = \"<strong>Loading WebIO Jupyter extension on an ad-hoc basis. Consider enabling the WebIO nbextension for a stabler experience (this should happen automatically when building WebIO).</strong>\";\n",
       "    } else if (window.location.pathname.includes(\"/lab\")) {\n",
       "        // Guessing JupyterLa\n",
       "        console.log(\"Jupyter Lab detected; make sure the @webio/jupyter-lab-provider labextension is installed.\");\n",
       "        hide();\n",
       "        return;\n",
       "    }\n",
       "})();\n",
       "\n",
       "</script>\n",
       "<p\n",
       "    id=\"webio-warning-6823730122449170650\"\n",
       "    class=\"output_text output_stderr\"\n",
       "    style=\"padding: 1em; font-weight: bold;\"\n",
       ">\n",
       "    Unable to load WebIO. Please make sure WebIO works for your Jupyter client.\n",
       "    For troubleshooting, please see <a href=\"https://juliagizmos.github.io/WebIO.jl/latest/providers/ijulia/\">\n",
       "    the WebIO/IJulia documentation</a>.\n",
       "    <!-- TODO: link to installation docs. -->\n",
       "</p>\n"
      ],
      "text/plain": [
       "HTML{String}(\"<script>\\n// Immediately-invoked-function-expression to avoid global variables.\\n(function() {\\n    var warning_div = document.getElementById(\\\"webio-warning-6823730122449170650\\\");\\n    var hide = function () {\\n        var script = document.getElementById(\\\"webio-setup-10137589166750379700\\\");\\n        var parent = script && script.parentElement;\\n        var grandparent = parent && parent.parentElement;\\n        if (grandparent) {\\n            grandparent.style.display = \\\"none\\\";\\n        }\\n        warning_div.style.display = \\\"none\\\";\\n    };\\n    if (typeof Jupyter !== \\\"undefined\\\") {\\n        console.log(\\\"WebIO detected Jupyter notebook environment.\\\");\\n        // Jupyter notebook.\\n        var extensions = (\\n            Jupyter\\n            && Jupyter.notebook.config.data\\n            && Jupyter.notebook.config.data.load_extensions\\n        );\\n        if (extensions && extensions[\\\"webio/main\\\"]) {\\n            // Extension already loaded.\\n            console.log(\\\"Jupyter WebIO nbextension detected; not loading ad-hoc.\\\");\\n            hide();\\n            return;\\n        }\\n        console.warn(\\\"Loading WebIO Jupyter extension on an ad-hoc basis. Consider enabling the WebIO nbextension for a stabler experience (this should happen automatically when building WebIO).\\\");\\n        warning_div.innerHTML = \\\"<strong>Loading WebIO Jupyter extension on an ad-hoc basis. Consider enabling the WebIO nbextension for a stabler experience (this should happen automatically when building WebIO).</strong>\\\";\\n    } else if (window.location.pathname.includes(\\\"/lab\\\")) {\\n        // Guessing JupyterLa\\n        console.log(\\\"Jupyter Lab detected; make sure the @webio/jupyter-lab-provider labextension is installed.\\\");\\n        hide();\\n        return;\\n    }\\n})();\\n\\n</script>\\n<p\\n    id=\\\"webio-warning-6823730122449170650\\\"\\n    class=\\\"output_text output_stderr\\\"\\n    style=\\\"padding: 1em; font-weight: bold;\\\"\\n>\\n    Unable to load WebIO. Please make sure WebIO works for your Jupyter client.\\n    For troubleshooting, please see <a href=\\\"https://juliagizmos.github.io/WebIO.jl/latest/providers/ijulia/\\\">\\n    the WebIO/IJulia documentation</a>.\\n    <!-- TODO: link to installation docs. -->\\n</p>\\n\")"
      ]
     },
     "metadata": {},
     "output_type": "display_data"
    }
   ],
   "source": [
    "########## use this to run CA locally\n",
    "using Pkg\n",
    "if split(pwd(),Base.Filesystem.path_separator)[end] != \"CurricularAnalytics.jl\"\n",
    "    cd(\"../../../CurricularAnalytics.jl/\")\n",
    "end\n",
    "pkg\"activate .\"\n",
    "cd(\"../CA-Notebooks/Quality-Complexity/Computer Science\")\n",
    "############\n",
    "using CurricularAnalytics\n",
    "using Glob\n",
    "using CSV\n",
    "using DataFrames\n",
    "using Statistics\n",
    "using StatsPlots"
   ]
  },
  {
   "cell_type": "markdown",
   "metadata": {},
   "source": [
    "## Complexity of Computer Science Curricula\n",
    "To get a sense of the diversity in the complexities of undergraduate computer science program curricula, below we provide  visulizations of a few computer science programs."
   ]
  },
  {
   "cell_type": "code",
   "execution_count": 2,
   "metadata": {
    "scrolled": false
   },
   "outputs": [
    {
     "name": "stderr",
     "output_type": "stream",
     "text": [
      "┌ Warning: Accessing `scope.id` is deprecated, use `scopeid(scope)` instead.\n",
      "│   caller = ip:0x0\n",
      "└ @ Core :-1\n"
     ]
    },
    {
     "data": {
      "application/vnd.webio.node+json": {
       "children": [
        {
         "children": [
          ""
         ],
         "instanceArgs": {
          "namespace": "html",
          "tag": "iframe"
         },
         "nodeType": "DOM",
         "props": {
          "events": {
           "load": "(function (){this.contentWindow.postMessage({\"options\":{\"hideTerms\":true,\"edit\":false},\"curriculum\":{\"name\":\"Computer Science\",\"dp_name\":\"\",\"curriculum_terms\":[{\"name\":\"Term 1\",\"curriculum_items\":[{\"curriculum_requisites\":[],\"name\":\"15 151\",\"metrics\":{},\"nameSub\":\"Mathematical Foundations for Computer Science\",\"id\":4,\"credits\":3.33,\"nameCanonical\":\"\"},{\"curriculum_requisites\":[],\"name\":\"15 122\",\"metrics\":{},\"nameSub\":\"Principles of Imperative Computation\",\"id\":2,\"credits\":3.33,\"nameCanonical\":\"\"},{\"curriculum_requisites\":[],\"name\":\"21 120\",\"metrics\":{},\"nameSub\":\"Differential and Integral Calculus\",\"id\":5,\"credits\":3.33,\"nameCanonical\":\"\"},{\"curriculum_requisites\":[],\"name\":\"7 128\",\"metrics\":{},\"nameSub\":\"Freshmman Immigration Course\",\"id\":1,\"credits\":0.33,\"nameCanonical\":\"\"},{\"curriculum_requisites\":[],\"name\":\"15 131\",\"metrics\":{},\"nameSub\":\"Great Practical Ideas for Computer Scientists\",\"id\":3,\"credits\":0.67,\"nameCanonical\":\"\"},{\"curriculum_requisites\":[],\"name\":\"76 101\",\"metrics\":{},\"nameSub\":\"Interpretation and Argument\",\"id\":6,\"credits\":3.0,\"nameCanonical\":\"\"},{\"curriculum_requisites\":[],\"name\":\"99 101\",\"metrics\":{},\"nameSub\":\"Computing @ Carnegie Mellon\",\"id\":7,\"credits\":1.0,\"nameCanonical\":\"\"},{\"curriculum_requisites\":[],\"name\":\" \",\"metrics\":{},\"nameSub\":\"Science/Engineering Course\",\"id\":11,\"credits\":3.0,\"nameCanonical\":\"\"},{\"curriculum_requisites\":[],\"name\":\" \",\"metrics\":{},\"nameSub\":\"Humanities and Arts Elective\",\"id\":12,\"credits\":3.0,\"nameCanonical\":\"\"}],\"id\":1},{\"name\":\"Term 2\",\"curriculum_items\":[{\"curriculum_requisites\":[{\"source_id\":4,\"target_id\":8,\"type\":\"prereq\"}],\"name\":\"15 150\",\"metrics\":{},\"nameSub\":\"Principles of Functional Programming\",\"id\":8,\"credits\":3.33,\"nameCanonical\":\"\"},{\"curriculum_requisites\":[{\"source_id\":5,\"target_id\":10,\"type\":\"prereq\"}],\"name\":\"21 122\",\"metrics\":{},\"nameSub\":\"Integration and Approximation\",\"id\":10,\"credits\":3.33,\"nameCanonical\":\"\"},{\"curriculum_requisites\":[{\"source_id\":2,\"target_id\":13,\"type\":\"prereq\"}],\"name\":\"15 213\",\"metrics\":{},\"nameSub\":\"Introduction to Computer Systems\",\"id\":13,\"credits\":4.0,\"nameCanonical\":\"\"},{\"curriculum_requisites\":[],\"name\":\"21 241\",\"metrics\":{},\"nameSub\":\"Matrices and Linear Transformations\",\"id\":14,\"credits\":3.33,\"nameCanonical\":\"\"},{\"curriculum_requisites\":[],\"name\":\" \",\"metrics\":{},\"nameSub\":\"Science/Engineering Course\",\"id\":15,\"credits\":3.0,\"nameCanonical\":\"\"},{\"curriculum_requisites\":[],\"name\":\" \",\"metrics\":{},\"nameSub\":\"Humanities and Arts Elective\",\"id\":16,\"credits\":3.0,\"nameCanonical\":\"\"}],\"id\":2},{\"name\":\"Term 3\",\"curriculum_items\":[{\"curriculum_requisites\":[{\"source_id\":4,\"target_id\":9,\"type\":\"prereq\"},{\"source_id\":2,\"target_id\":9,\"type\":\"prereq\"},{\"source_id\":8,\"target_id\":9,\"type\":\"prereq\"}],\"name\":\"15 251\",\"metrics\":{},\"nameSub\":\"Great Ideas in Theoretical Computer Science\",\"id\":9,\"credits\":4.0,\"nameCanonical\":\"\"},{\"curriculum_requisites\":[{\"source_id\":2,\"target_id\":18,\"type\":\"prereq\"},{\"source_id\":8,\"target_id\":18,\"type\":\"prereq\"}],\"name\":\"15 210\",\"metrics\":{},\"nameSub\":\"Parallel and Sequential Data Structures and Algorithms\",\"id\":18,\"credits\":4.0,\"nameCanonical\":\"\"},{\"curriculum_requisites\":[],\"name\":\" \",\"metrics\":{},\"nameSub\":\"Minor Requirement / Free Elective\",\"id\":17,\"credits\":3.0,\"nameCanonical\":\"\"},{\"curriculum_requisites\":[],\"name\":\" \",\"metrics\":{},\"nameSub\":\"Computer Science: Domains Elective\",\"id\":19,\"credits\":3.0,\"nameCanonical\":\"\"},{\"curriculum_requisites\":[],\"name\":\" \",\"metrics\":{},\"nameSub\":\"Science/Engineering Course\",\"id\":20,\"credits\":3.0,\"nameCanonical\":\"\"},{\"curriculum_requisites\":[],\"name\":\" \",\"metrics\":{},\"nameSub\":\"Humanities and Arts Elective\",\"id\":21,\"credits\":3.0,\"nameCanonical\":\"\"}],\"id\":3},{\"name\":\"Term 4\",\"curriculum_items\":[{\"curriculum_requisites\":[],\"name\":\" \",\"metrics\":{},\"nameSub\":\"Minor Requirement / Free Elective\",\"id\":22,\"credits\":3.0,\"nameCanonical\":\"\"},{\"curriculum_requisites\":[],\"name\":\" \",\"metrics\":{},\"nameSub\":\"Algorithm Design and Analysis\",\"id\":23,\"credits\":4.0,\"nameCanonical\":\"\"},{\"curriculum_requisites\":[],\"name\":\" \",\"metrics\":{},\"nameSub\":\"Computer Science: Logic/Languages Elective\",\"id\":24,\"credits\":3.0,\"nameCanonical\":\"\"},{\"curriculum_requisites\":[],\"name\":\" \",\"metrics\":{},\"nameSub\":\"Technical Communications Course\",\"id\":25,\"credits\":3.0,\"nameCanonical\":\"\"},{\"curriculum_requisites\":[],\"name\":\" \",\"metrics\":{},\"nameSub\":\"Probability Course\",\"id\":26,\"credits\":3.0,\"nameCanonical\":\"\"},{\"curriculum_requisites\":[],\"name\":\" \",\"metrics\":{},\"nameSub\":\"Minor Requirement / Free Elective\",\"id\":27,\"credits\":3.0,\"nameCanonical\":\"\"}],\"id\":4},{\"name\":\"Term 5\",\"curriculum_items\":[{\"curriculum_requisites\":[],\"name\":\" \",\"metrics\":{},\"nameSub\":\"Computer Science: Systems Elective\",\"id\":28,\"credits\":4.0,\"nameCanonical\":\"\"},{\"curriculum_requisites\":[],\"name\":\" \",\"metrics\":{},\"nameSub\":\"Computer Science: Artificial Intelligence Elective\",\"id\":29,\"credits\":3.0,\"nameCanonical\":\"\"},{\"curriculum_requisites\":[],\"name\":\" \",\"metrics\":{},\"nameSub\":\"Humanities and Arts Elective\",\"id\":30,\"credits\":3.0,\"nameCanonical\":\"\"},{\"curriculum_requisites\":[],\"name\":\" \",\"metrics\":{},\"nameSub\":\"Minor Requirement / Free Elective\",\"id\":31,\"credits\":3.0,\"nameCanonical\":\"\"},{\"curriculum_requisites\":[],\"name\":\" \",\"metrics\":{},\"nameSub\":\"Science/Engineering Course\",\"id\":32,\"credits\":3.0,\"nameCanonical\":\"\"},{\"curriculum_requisites\":[],\"name\":\" \",\"metrics\":{},\"nameSub\":\"School of Computer Science Elective\",\"id\":33,\"credits\":3.0,\"nameCanonical\":\"\"}],\"id\":5},{\"name\":\"Term 6\",\"curriculum_items\":[{\"curriculum_requisites\":[],\"name\":\" \",\"metrics\":{},\"nameSub\":\"Humanities and Arts Elective\",\"id\":34,\"credits\":3.0,\"nameCanonical\":\"\"},{\"curriculum_requisites\":[],\"name\":\" \",\"metrics\":{},\"nameSub\":\"Minor Requirement / Free Elective\",\"id\":35,\"credits\":3.0,\"nameCanonical\":\"\"},{\"curriculum_requisites\":[],\"name\":\" \",\"metrics\":{},\"nameSub\":\"Minor Requirement / Free Elective\",\"id\":36,\"credits\":3.0,\"nameCanonical\":\"\"},{\"curriculum_requisites\":[],\"name\":\" \",\"metrics\":{},\"nameSub\":\"School of Computer Science Elective\",\"id\":37,\"credits\":3.0,\"nameCanonical\":\"\"},{\"curriculum_requisites\":[],\"name\":\" \",\"metrics\":{},\"nameSub\":\"Humanities and Arts Elective\",\"id\":38,\"credits\":3.0,\"nameCanonical\":\"\"},{\"curriculum_requisites\":[],\"name\":\" \",\"metrics\":{},\"nameSub\":\"Minor Requirement / Free Elective\",\"id\":39,\"credits\":3.0,\"nameCanonical\":\"\"},{\"curriculum_requisites\":[],\"name\":\" \",\"metrics\":{},\"nameSub\":\"Minor Requirement / Free Elective\",\"id\":40,\"credits\":3.0,\"nameCanonical\":\"\"}],\"id\":6}],\"institution\":\"Carnegie Mellon University\"}},\"*\"); window.removeEventListener(\"message\",window.messageReceived); window.messageReceived=(function (event){return (event.data.curriculum!==undefined) ? (WebIO.setval({\"name\":\"curriculum-data\",\"scope\":\"6894259679995568796\",\"id\":\"ob_01\",\"type\":\"observable\"},event.data.curriculum)) : undefined}); return window.addEventListener(\"message\",window.messageReceived)})"
          },
          "id": "curriculum",
          "src": "http://localhost:8156",
          "style": {
           "border": "none",
           "height": "100vh",
           "margin": "0",
           "padding": "0",
           "width": "100%"
          }
         },
         "type": "node"
        }
       ],
       "instanceArgs": {
        "handlers": {},
        "id": "6894259679995568796",
        "imports": {
         "data": [],
         "type": "async_block"
        },
        "mount_callbacks": [],
        "observables": {
         "curriculum-data": {
          "id": "ob_01",
          "sync": true,
          "value": {
           "curriculum": {
            "curriculum_terms": [
             {
              "curriculum_items": [
               {
                "credits": 3.33,
                "curriculum_requisites": [],
                "id": 4,
                "metrics": {},
                "name": "15 151",
                "nameCanonical": "",
                "nameSub": "Mathematical Foundations for Computer Science"
               },
               {
                "credits": 3.33,
                "curriculum_requisites": [],
                "id": 2,
                "metrics": {},
                "name": "15 122",
                "nameCanonical": "",
                "nameSub": "Principles of Imperative Computation"
               },
               {
                "credits": 3.33,
                "curriculum_requisites": [],
                "id": 5,
                "metrics": {},
                "name": "21 120",
                "nameCanonical": "",
                "nameSub": "Differential and Integral Calculus"
               },
               {
                "credits": 0.33,
                "curriculum_requisites": [],
                "id": 1,
                "metrics": {},
                "name": "7 128",
                "nameCanonical": "",
                "nameSub": "Freshmman Immigration Course"
               },
               {
                "credits": 0.67,
                "curriculum_requisites": [],
                "id": 3,
                "metrics": {},
                "name": "15 131",
                "nameCanonical": "",
                "nameSub": "Great Practical Ideas for Computer Scientists"
               },
               {
                "credits": 3,
                "curriculum_requisites": [],
                "id": 6,
                "metrics": {},
                "name": "76 101",
                "nameCanonical": "",
                "nameSub": "Interpretation and Argument"
               },
               {
                "credits": 1,
                "curriculum_requisites": [],
                "id": 7,
                "metrics": {},
                "name": "99 101",
                "nameCanonical": "",
                "nameSub": "Computing @ Carnegie Mellon"
               },
               {
                "credits": 3,
                "curriculum_requisites": [],
                "id": 11,
                "metrics": {},
                "name": " ",
                "nameCanonical": "",
                "nameSub": "Science/Engineering Course"
               },
               {
                "credits": 3,
                "curriculum_requisites": [],
                "id": 12,
                "metrics": {},
                "name": " ",
                "nameCanonical": "",
                "nameSub": "Humanities and Arts Elective"
               }
              ],
              "id": 1,
              "name": "Term 1"
             },
             {
              "curriculum_items": [
               {
                "credits": 3.33,
                "curriculum_requisites": [
                 {
                  "source_id": 4,
                  "target_id": 8,
                  "type": "prereq"
                 }
                ],
                "id": 8,
                "metrics": {},
                "name": "15 150",
                "nameCanonical": "",
                "nameSub": "Principles of Functional Programming"
               },
               {
                "credits": 3.33,
                "curriculum_requisites": [
                 {
                  "source_id": 5,
                  "target_id": 10,
                  "type": "prereq"
                 }
                ],
                "id": 10,
                "metrics": {},
                "name": "21 122",
                "nameCanonical": "",
                "nameSub": "Integration and Approximation"
               },
               {
                "credits": 4,
                "curriculum_requisites": [
                 {
                  "source_id": 2,
                  "target_id": 13,
                  "type": "prereq"
                 }
                ],
                "id": 13,
                "metrics": {},
                "name": "15 213",
                "nameCanonical": "",
                "nameSub": "Introduction to Computer Systems"
               },
               {
                "credits": 3.33,
                "curriculum_requisites": [],
                "id": 14,
                "metrics": {},
                "name": "21 241",
                "nameCanonical": "",
                "nameSub": "Matrices and Linear Transformations"
               },
               {
                "credits": 3,
                "curriculum_requisites": [],
                "id": 15,
                "metrics": {},
                "name": " ",
                "nameCanonical": "",
                "nameSub": "Science/Engineering Course"
               },
               {
                "credits": 3,
                "curriculum_requisites": [],
                "id": 16,
                "metrics": {},
                "name": " ",
                "nameCanonical": "",
                "nameSub": "Humanities and Arts Elective"
               }
              ],
              "id": 2,
              "name": "Term 2"
             },
             {
              "curriculum_items": [
               {
                "credits": 4,
                "curriculum_requisites": [
                 {
                  "source_id": 4,
                  "target_id": 9,
                  "type": "prereq"
                 },
                 {
                  "source_id": 2,
                  "target_id": 9,
                  "type": "prereq"
                 },
                 {
                  "source_id": 8,
                  "target_id": 9,
                  "type": "prereq"
                 }
                ],
                "id": 9,
                "metrics": {},
                "name": "15 251",
                "nameCanonical": "",
                "nameSub": "Great Ideas in Theoretical Computer Science"
               },
               {
                "credits": 4,
                "curriculum_requisites": [
                 {
                  "source_id": 2,
                  "target_id": 18,
                  "type": "prereq"
                 },
                 {
                  "source_id": 8,
                  "target_id": 18,
                  "type": "prereq"
                 }
                ],
                "id": 18,
                "metrics": {},
                "name": "15 210",
                "nameCanonical": "",
                "nameSub": "Parallel and Sequential Data Structures and Algorithms"
               },
               {
                "credits": 3,
                "curriculum_requisites": [],
                "id": 17,
                "metrics": {},
                "name": " ",
                "nameCanonical": "",
                "nameSub": "Minor Requirement / Free Elective"
               },
               {
                "credits": 3,
                "curriculum_requisites": [],
                "id": 19,
                "metrics": {},
                "name": " ",
                "nameCanonical": "",
                "nameSub": "Computer Science: Domains Elective"
               },
               {
                "credits": 3,
                "curriculum_requisites": [],
                "id": 20,
                "metrics": {},
                "name": " ",
                "nameCanonical": "",
                "nameSub": "Science/Engineering Course"
               },
               {
                "credits": 3,
                "curriculum_requisites": [],
                "id": 21,
                "metrics": {},
                "name": " ",
                "nameCanonical": "",
                "nameSub": "Humanities and Arts Elective"
               }
              ],
              "id": 3,
              "name": "Term 3"
             },
             {
              "curriculum_items": [
               {
                "credits": 3,
                "curriculum_requisites": [],
                "id": 22,
                "metrics": {},
                "name": " ",
                "nameCanonical": "",
                "nameSub": "Minor Requirement / Free Elective"
               },
               {
                "credits": 4,
                "curriculum_requisites": [],
                "id": 23,
                "metrics": {},
                "name": " ",
                "nameCanonical": "",
                "nameSub": "Algorithm Design and Analysis"
               },
               {
                "credits": 3,
                "curriculum_requisites": [],
                "id": 24,
                "metrics": {},
                "name": " ",
                "nameCanonical": "",
                "nameSub": "Computer Science: Logic/Languages Elective"
               },
               {
                "credits": 3,
                "curriculum_requisites": [],
                "id": 25,
                "metrics": {},
                "name": " ",
                "nameCanonical": "",
                "nameSub": "Technical Communications Course"
               },
               {
                "credits": 3,
                "curriculum_requisites": [],
                "id": 26,
                "metrics": {},
                "name": " ",
                "nameCanonical": "",
                "nameSub": "Probability Course"
               },
               {
                "credits": 3,
                "curriculum_requisites": [],
                "id": 27,
                "metrics": {},
                "name": " ",
                "nameCanonical": "",
                "nameSub": "Minor Requirement / Free Elective"
               }
              ],
              "id": 4,
              "name": "Term 4"
             },
             {
              "curriculum_items": [
               {
                "credits": 4,
                "curriculum_requisites": [],
                "id": 28,
                "metrics": {},
                "name": " ",
                "nameCanonical": "",
                "nameSub": "Computer Science: Systems Elective"
               },
               {
                "credits": 3,
                "curriculum_requisites": [],
                "id": 29,
                "metrics": {},
                "name": " ",
                "nameCanonical": "",
                "nameSub": "Computer Science: Artificial Intelligence Elective"
               },
               {
                "credits": 3,
                "curriculum_requisites": [],
                "id": 30,
                "metrics": {},
                "name": " ",
                "nameCanonical": "",
                "nameSub": "Humanities and Arts Elective"
               },
               {
                "credits": 3,
                "curriculum_requisites": [],
                "id": 31,
                "metrics": {},
                "name": " ",
                "nameCanonical": "",
                "nameSub": "Minor Requirement / Free Elective"
               },
               {
                "credits": 3,
                "curriculum_requisites": [],
                "id": 32,
                "metrics": {},
                "name": " ",
                "nameCanonical": "",
                "nameSub": "Science/Engineering Course"
               },
               {
                "credits": 3,
                "curriculum_requisites": [],
                "id": 33,
                "metrics": {},
                "name": " ",
                "nameCanonical": "",
                "nameSub": "School of Computer Science Elective"
               }
              ],
              "id": 5,
              "name": "Term 5"
             },
             {
              "curriculum_items": [
               {
                "credits": 3,
                "curriculum_requisites": [],
                "id": 34,
                "metrics": {},
                "name": " ",
                "nameCanonical": "",
                "nameSub": "Humanities and Arts Elective"
               },
               {
                "credits": 3,
                "curriculum_requisites": [],
                "id": 35,
                "metrics": {},
                "name": " ",
                "nameCanonical": "",
                "nameSub": "Minor Requirement / Free Elective"
               },
               {
                "credits": 3,
                "curriculum_requisites": [],
                "id": 36,
                "metrics": {},
                "name": " ",
                "nameCanonical": "",
                "nameSub": "Minor Requirement / Free Elective"
               },
               {
                "credits": 3,
                "curriculum_requisites": [],
                "id": 37,
                "metrics": {},
                "name": " ",
                "nameCanonical": "",
                "nameSub": "School of Computer Science Elective"
               },
               {
                "credits": 3,
                "curriculum_requisites": [],
                "id": 38,
                "metrics": {},
                "name": " ",
                "nameCanonical": "",
                "nameSub": "Humanities and Arts Elective"
               },
               {
                "credits": 3,
                "curriculum_requisites": [],
                "id": 39,
                "metrics": {},
                "name": " ",
                "nameCanonical": "",
                "nameSub": "Minor Requirement / Free Elective"
               },
               {
                "credits": 3,
                "curriculum_requisites": [],
                "id": 40,
                "metrics": {},
                "name": " ",
                "nameCanonical": "",
                "nameSub": "Minor Requirement / Free Elective"
               }
              ],
              "id": 6,
              "name": "Term 6"
             }
            ],
            "dp_name": "",
            "institution": "Carnegie Mellon University",
            "name": "Computer Science"
           },
           "options": {
            "edit": false,
            "hideTerms": true
           }
          }
         }
        },
        "systemjs_options": null
       },
       "nodeType": "Scope",
       "props": {},
       "type": "node"
      },
      "text/html": [
       "<div\n",
       "    class=\"webio-mountpoint\"\n",
       "    data-webio-mountpoint=\"1880994611018173565\"\n",
       ">\n",
       "    <script>\n",
       "    if (window.require && require.defined && require.defined(\"nbextensions/webio/main\")) {\n",
       "        console.log(\"Jupyter WebIO extension detected, not mounting.\");\n",
       "    } else if (window.WebIO) {\n",
       "        WebIO.mount(\n",
       "            document.querySelector('[data-webio-mountpoint=\"1880994611018173565\"]'),\n",
       "            {\"props\":{},\"nodeType\":\"Scope\",\"type\":\"node\",\"instanceArgs\":{\"imports\":{\"data\":[],\"type\":\"async_block\"},\"id\":\"6894259679995568796\",\"handlers\":{},\"systemjs_options\":null,\"mount_callbacks\":[],\"observables\":{\"curriculum-data\":{\"sync\":true,\"id\":\"ob_01\",\"value\":{\"options\":{\"hideTerms\":true,\"edit\":false},\"curriculum\":{\"name\":\"Computer Science\",\"dp_name\":\"\",\"curriculum_terms\":[{\"name\":\"Term 1\",\"curriculum_items\":[{\"curriculum_requisites\":[],\"name\":\"15 151\",\"metrics\":{},\"nameSub\":\"Mathematical Foundations for Computer Science\",\"id\":4,\"credits\":3.33,\"nameCanonical\":\"\"},{\"curriculum_requisites\":[],\"name\":\"15 122\",\"metrics\":{},\"nameSub\":\"Principles of Imperative Computation\",\"id\":2,\"credits\":3.33,\"nameCanonical\":\"\"},{\"curriculum_requisites\":[],\"name\":\"21 120\",\"metrics\":{},\"nameSub\":\"Differential and Integral Calculus\",\"id\":5,\"credits\":3.33,\"nameCanonical\":\"\"},{\"curriculum_requisites\":[],\"name\":\"7 128\",\"metrics\":{},\"nameSub\":\"Freshmman Immigration Course\",\"id\":1,\"credits\":0.33,\"nameCanonical\":\"\"},{\"curriculum_requisites\":[],\"name\":\"15 131\",\"metrics\":{},\"nameSub\":\"Great Practical Ideas for Computer Scientists\",\"id\":3,\"credits\":0.67,\"nameCanonical\":\"\"},{\"curriculum_requisites\":[],\"name\":\"76 101\",\"metrics\":{},\"nameSub\":\"Interpretation and Argument\",\"id\":6,\"credits\":3.0,\"nameCanonical\":\"\"},{\"curriculum_requisites\":[],\"name\":\"99 101\",\"metrics\":{},\"nameSub\":\"Computing @ Carnegie Mellon\",\"id\":7,\"credits\":1.0,\"nameCanonical\":\"\"},{\"curriculum_requisites\":[],\"name\":\" \",\"metrics\":{},\"nameSub\":\"Science\\/Engineering Course\",\"id\":11,\"credits\":3.0,\"nameCanonical\":\"\"},{\"curriculum_requisites\":[],\"name\":\" \",\"metrics\":{},\"nameSub\":\"Humanities and Arts Elective\",\"id\":12,\"credits\":3.0,\"nameCanonical\":\"\"}],\"id\":1},{\"name\":\"Term 2\",\"curriculum_items\":[{\"curriculum_requisites\":[{\"source_id\":4,\"target_id\":8,\"type\":\"prereq\"}],\"name\":\"15 150\",\"metrics\":{},\"nameSub\":\"Principles of Functional Programming\",\"id\":8,\"credits\":3.33,\"nameCanonical\":\"\"},{\"curriculum_requisites\":[{\"source_id\":5,\"target_id\":10,\"type\":\"prereq\"}],\"name\":\"21 122\",\"metrics\":{},\"nameSub\":\"Integration and Approximation\",\"id\":10,\"credits\":3.33,\"nameCanonical\":\"\"},{\"curriculum_requisites\":[{\"source_id\":2,\"target_id\":13,\"type\":\"prereq\"}],\"name\":\"15 213\",\"metrics\":{},\"nameSub\":\"Introduction to Computer Systems\",\"id\":13,\"credits\":4.0,\"nameCanonical\":\"\"},{\"curriculum_requisites\":[],\"name\":\"21 241\",\"metrics\":{},\"nameSub\":\"Matrices and Linear Transformations\",\"id\":14,\"credits\":3.33,\"nameCanonical\":\"\"},{\"curriculum_requisites\":[],\"name\":\" \",\"metrics\":{},\"nameSub\":\"Science\\/Engineering Course\",\"id\":15,\"credits\":3.0,\"nameCanonical\":\"\"},{\"curriculum_requisites\":[],\"name\":\" \",\"metrics\":{},\"nameSub\":\"Humanities and Arts Elective\",\"id\":16,\"credits\":3.0,\"nameCanonical\":\"\"}],\"id\":2},{\"name\":\"Term 3\",\"curriculum_items\":[{\"curriculum_requisites\":[{\"source_id\":4,\"target_id\":9,\"type\":\"prereq\"},{\"source_id\":2,\"target_id\":9,\"type\":\"prereq\"},{\"source_id\":8,\"target_id\":9,\"type\":\"prereq\"}],\"name\":\"15 251\",\"metrics\":{},\"nameSub\":\"Great Ideas in Theoretical Computer Science\",\"id\":9,\"credits\":4.0,\"nameCanonical\":\"\"},{\"curriculum_requisites\":[{\"source_id\":2,\"target_id\":18,\"type\":\"prereq\"},{\"source_id\":8,\"target_id\":18,\"type\":\"prereq\"}],\"name\":\"15 210\",\"metrics\":{},\"nameSub\":\"Parallel and Sequential Data Structures and Algorithms\",\"id\":18,\"credits\":4.0,\"nameCanonical\":\"\"},{\"curriculum_requisites\":[],\"name\":\" \",\"metrics\":{},\"nameSub\":\"Minor Requirement \\/ Free Elective\",\"id\":17,\"credits\":3.0,\"nameCanonical\":\"\"},{\"curriculum_requisites\":[],\"name\":\" \",\"metrics\":{},\"nameSub\":\"Computer Science: Domains Elective\",\"id\":19,\"credits\":3.0,\"nameCanonical\":\"\"},{\"curriculum_requisites\":[],\"name\":\" \",\"metrics\":{},\"nameSub\":\"Science\\/Engineering Course\",\"id\":20,\"credits\":3.0,\"nameCanonical\":\"\"},{\"curriculum_requisites\":[],\"name\":\" \",\"metrics\":{},\"nameSub\":\"Humanities and Arts Elective\",\"id\":21,\"credits\":3.0,\"nameCanonical\":\"\"}],\"id\":3},{\"name\":\"Term 4\",\"curriculum_items\":[{\"curriculum_requisites\":[],\"name\":\" \",\"metrics\":{},\"nameSub\":\"Minor Requirement \\/ Free Elective\",\"id\":22,\"credits\":3.0,\"nameCanonical\":\"\"},{\"curriculum_requisites\":[],\"name\":\" \",\"metrics\":{},\"nameSub\":\"Algorithm Design and Analysis\",\"id\":23,\"credits\":4.0,\"nameCanonical\":\"\"},{\"curriculum_requisites\":[],\"name\":\" \",\"metrics\":{},\"nameSub\":\"Computer Science: Logic\\/Languages Elective\",\"id\":24,\"credits\":3.0,\"nameCanonical\":\"\"},{\"curriculum_requisites\":[],\"name\":\" \",\"metrics\":{},\"nameSub\":\"Technical Communications Course\",\"id\":25,\"credits\":3.0,\"nameCanonical\":\"\"},{\"curriculum_requisites\":[],\"name\":\" \",\"metrics\":{},\"nameSub\":\"Probability Course\",\"id\":26,\"credits\":3.0,\"nameCanonical\":\"\"},{\"curriculum_requisites\":[],\"name\":\" \",\"metrics\":{},\"nameSub\":\"Minor Requirement \\/ Free Elective\",\"id\":27,\"credits\":3.0,\"nameCanonical\":\"\"}],\"id\":4},{\"name\":\"Term 5\",\"curriculum_items\":[{\"curriculum_requisites\":[],\"name\":\" \",\"metrics\":{},\"nameSub\":\"Computer Science: Systems Elective\",\"id\":28,\"credits\":4.0,\"nameCanonical\":\"\"},{\"curriculum_requisites\":[],\"name\":\" \",\"metrics\":{},\"nameSub\":\"Computer Science: Artificial Intelligence Elective\",\"id\":29,\"credits\":3.0,\"nameCanonical\":\"\"},{\"curriculum_requisites\":[],\"name\":\" \",\"metrics\":{},\"nameSub\":\"Humanities and Arts Elective\",\"id\":30,\"credits\":3.0,\"nameCanonical\":\"\"},{\"curriculum_requisites\":[],\"name\":\" \",\"metrics\":{},\"nameSub\":\"Minor Requirement \\/ Free Elective\",\"id\":31,\"credits\":3.0,\"nameCanonical\":\"\"},{\"curriculum_requisites\":[],\"name\":\" \",\"metrics\":{},\"nameSub\":\"Science\\/Engineering Course\",\"id\":32,\"credits\":3.0,\"nameCanonical\":\"\"},{\"curriculum_requisites\":[],\"name\":\" \",\"metrics\":{},\"nameSub\":\"School of Computer Science Elective\",\"id\":33,\"credits\":3.0,\"nameCanonical\":\"\"}],\"id\":5},{\"name\":\"Term 6\",\"curriculum_items\":[{\"curriculum_requisites\":[],\"name\":\" \",\"metrics\":{},\"nameSub\":\"Humanities and Arts Elective\",\"id\":34,\"credits\":3.0,\"nameCanonical\":\"\"},{\"curriculum_requisites\":[],\"name\":\" \",\"metrics\":{},\"nameSub\":\"Minor Requirement \\/ Free Elective\",\"id\":35,\"credits\":3.0,\"nameCanonical\":\"\"},{\"curriculum_requisites\":[],\"name\":\" \",\"metrics\":{},\"nameSub\":\"Minor Requirement \\/ Free Elective\",\"id\":36,\"credits\":3.0,\"nameCanonical\":\"\"},{\"curriculum_requisites\":[],\"name\":\" \",\"metrics\":{},\"nameSub\":\"School of Computer Science Elective\",\"id\":37,\"credits\":3.0,\"nameCanonical\":\"\"},{\"curriculum_requisites\":[],\"name\":\" \",\"metrics\":{},\"nameSub\":\"Humanities and Arts Elective\",\"id\":38,\"credits\":3.0,\"nameCanonical\":\"\"},{\"curriculum_requisites\":[],\"name\":\" \",\"metrics\":{},\"nameSub\":\"Minor Requirement \\/ Free Elective\",\"id\":39,\"credits\":3.0,\"nameCanonical\":\"\"},{\"curriculum_requisites\":[],\"name\":\" \",\"metrics\":{},\"nameSub\":\"Minor Requirement \\/ Free Elective\",\"id\":40,\"credits\":3.0,\"nameCanonical\":\"\"}],\"id\":6}],\"institution\":\"Carnegie Mellon University\"}}}}},\"children\":[{\"props\":{\"src\":\"http:\\/\\/localhost:8156\",\"id\":\"curriculum\",\"events\":{\"load\":\"(function (){this.contentWindow.postMessage({\\\"options\\\":{\\\"hideTerms\\\":true,\\\"edit\\\":false},\\\"curriculum\\\":{\\\"name\\\":\\\"Computer Science\\\",\\\"dp_name\\\":\\\"\\\",\\\"curriculum_terms\\\":[{\\\"name\\\":\\\"Term 1\\\",\\\"curriculum_items\\\":[{\\\"curriculum_requisites\\\":[],\\\"name\\\":\\\"15 151\\\",\\\"metrics\\\":{},\\\"nameSub\\\":\\\"Mathematical Foundations for Computer Science\\\",\\\"id\\\":4,\\\"credits\\\":3.33,\\\"nameCanonical\\\":\\\"\\\"},{\\\"curriculum_requisites\\\":[],\\\"name\\\":\\\"15 122\\\",\\\"metrics\\\":{},\\\"nameSub\\\":\\\"Principles of Imperative Computation\\\",\\\"id\\\":2,\\\"credits\\\":3.33,\\\"nameCanonical\\\":\\\"\\\"},{\\\"curriculum_requisites\\\":[],\\\"name\\\":\\\"21 120\\\",\\\"metrics\\\":{},\\\"nameSub\\\":\\\"Differential and Integral Calculus\\\",\\\"id\\\":5,\\\"credits\\\":3.33,\\\"nameCanonical\\\":\\\"\\\"},{\\\"curriculum_requisites\\\":[],\\\"name\\\":\\\"7 128\\\",\\\"metrics\\\":{},\\\"nameSub\\\":\\\"Freshmman Immigration Course\\\",\\\"id\\\":1,\\\"credits\\\":0.33,\\\"nameCanonical\\\":\\\"\\\"},{\\\"curriculum_requisites\\\":[],\\\"name\\\":\\\"15 131\\\",\\\"metrics\\\":{},\\\"nameSub\\\":\\\"Great Practical Ideas for Computer Scientists\\\",\\\"id\\\":3,\\\"credits\\\":0.67,\\\"nameCanonical\\\":\\\"\\\"},{\\\"curriculum_requisites\\\":[],\\\"name\\\":\\\"76 101\\\",\\\"metrics\\\":{},\\\"nameSub\\\":\\\"Interpretation and Argument\\\",\\\"id\\\":6,\\\"credits\\\":3.0,\\\"nameCanonical\\\":\\\"\\\"},{\\\"curriculum_requisites\\\":[],\\\"name\\\":\\\"99 101\\\",\\\"metrics\\\":{},\\\"nameSub\\\":\\\"Computing @ Carnegie Mellon\\\",\\\"id\\\":7,\\\"credits\\\":1.0,\\\"nameCanonical\\\":\\\"\\\"},{\\\"curriculum_requisites\\\":[],\\\"name\\\":\\\" \\\",\\\"metrics\\\":{},\\\"nameSub\\\":\\\"Science\\/Engineering Course\\\",\\\"id\\\":11,\\\"credits\\\":3.0,\\\"nameCanonical\\\":\\\"\\\"},{\\\"curriculum_requisites\\\":[],\\\"name\\\":\\\" \\\",\\\"metrics\\\":{},\\\"nameSub\\\":\\\"Humanities and Arts Elective\\\",\\\"id\\\":12,\\\"credits\\\":3.0,\\\"nameCanonical\\\":\\\"\\\"}],\\\"id\\\":1},{\\\"name\\\":\\\"Term 2\\\",\\\"curriculum_items\\\":[{\\\"curriculum_requisites\\\":[{\\\"source_id\\\":4,\\\"target_id\\\":8,\\\"type\\\":\\\"prereq\\\"}],\\\"name\\\":\\\"15 150\\\",\\\"metrics\\\":{},\\\"nameSub\\\":\\\"Principles of Functional Programming\\\",\\\"id\\\":8,\\\"credits\\\":3.33,\\\"nameCanonical\\\":\\\"\\\"},{\\\"curriculum_requisites\\\":[{\\\"source_id\\\":5,\\\"target_id\\\":10,\\\"type\\\":\\\"prereq\\\"}],\\\"name\\\":\\\"21 122\\\",\\\"metrics\\\":{},\\\"nameSub\\\":\\\"Integration and Approximation\\\",\\\"id\\\":10,\\\"credits\\\":3.33,\\\"nameCanonical\\\":\\\"\\\"},{\\\"curriculum_requisites\\\":[{\\\"source_id\\\":2,\\\"target_id\\\":13,\\\"type\\\":\\\"prereq\\\"}],\\\"name\\\":\\\"15 213\\\",\\\"metrics\\\":{},\\\"nameSub\\\":\\\"Introduction to Computer Systems\\\",\\\"id\\\":13,\\\"credits\\\":4.0,\\\"nameCanonical\\\":\\\"\\\"},{\\\"curriculum_requisites\\\":[],\\\"name\\\":\\\"21 241\\\",\\\"metrics\\\":{},\\\"nameSub\\\":\\\"Matrices and Linear Transformations\\\",\\\"id\\\":14,\\\"credits\\\":3.33,\\\"nameCanonical\\\":\\\"\\\"},{\\\"curriculum_requisites\\\":[],\\\"name\\\":\\\" \\\",\\\"metrics\\\":{},\\\"nameSub\\\":\\\"Science\\/Engineering Course\\\",\\\"id\\\":15,\\\"credits\\\":3.0,\\\"nameCanonical\\\":\\\"\\\"},{\\\"curriculum_requisites\\\":[],\\\"name\\\":\\\" \\\",\\\"metrics\\\":{},\\\"nameSub\\\":\\\"Humanities and Arts Elective\\\",\\\"id\\\":16,\\\"credits\\\":3.0,\\\"nameCanonical\\\":\\\"\\\"}],\\\"id\\\":2},{\\\"name\\\":\\\"Term 3\\\",\\\"curriculum_items\\\":[{\\\"curriculum_requisites\\\":[{\\\"source_id\\\":4,\\\"target_id\\\":9,\\\"type\\\":\\\"prereq\\\"},{\\\"source_id\\\":2,\\\"target_id\\\":9,\\\"type\\\":\\\"prereq\\\"},{\\\"source_id\\\":8,\\\"target_id\\\":9,\\\"type\\\":\\\"prereq\\\"}],\\\"name\\\":\\\"15 251\\\",\\\"metrics\\\":{},\\\"nameSub\\\":\\\"Great Ideas in Theoretical Computer Science\\\",\\\"id\\\":9,\\\"credits\\\":4.0,\\\"nameCanonical\\\":\\\"\\\"},{\\\"curriculum_requisites\\\":[{\\\"source_id\\\":2,\\\"target_id\\\":18,\\\"type\\\":\\\"prereq\\\"},{\\\"source_id\\\":8,\\\"target_id\\\":18,\\\"type\\\":\\\"prereq\\\"}],\\\"name\\\":\\\"15 210\\\",\\\"metrics\\\":{},\\\"nameSub\\\":\\\"Parallel and Sequential Data Structures and Algorithms\\\",\\\"id\\\":18,\\\"credits\\\":4.0,\\\"nameCanonical\\\":\\\"\\\"},{\\\"curriculum_requisites\\\":[],\\\"name\\\":\\\" \\\",\\\"metrics\\\":{},\\\"nameSub\\\":\\\"Minor Requirement \\/ Free Elective\\\",\\\"id\\\":17,\\\"credits\\\":3.0,\\\"nameCanonical\\\":\\\"\\\"},{\\\"curriculum_requisites\\\":[],\\\"name\\\":\\\" \\\",\\\"metrics\\\":{},\\\"nameSub\\\":\\\"Computer Science: Domains Elective\\\",\\\"id\\\":19,\\\"credits\\\":3.0,\\\"nameCanonical\\\":\\\"\\\"},{\\\"curriculum_requisites\\\":[],\\\"name\\\":\\\" \\\",\\\"metrics\\\":{},\\\"nameSub\\\":\\\"Science\\/Engineering Course\\\",\\\"id\\\":20,\\\"credits\\\":3.0,\\\"nameCanonical\\\":\\\"\\\"},{\\\"curriculum_requisites\\\":[],\\\"name\\\":\\\" \\\",\\\"metrics\\\":{},\\\"nameSub\\\":\\\"Humanities and Arts Elective\\\",\\\"id\\\":21,\\\"credits\\\":3.0,\\\"nameCanonical\\\":\\\"\\\"}],\\\"id\\\":3},{\\\"name\\\":\\\"Term 4\\\",\\\"curriculum_items\\\":[{\\\"curriculum_requisites\\\":[],\\\"name\\\":\\\" \\\",\\\"metrics\\\":{},\\\"nameSub\\\":\\\"Minor Requirement \\/ Free Elective\\\",\\\"id\\\":22,\\\"credits\\\":3.0,\\\"nameCanonical\\\":\\\"\\\"},{\\\"curriculum_requisites\\\":[],\\\"name\\\":\\\" \\\",\\\"metrics\\\":{},\\\"nameSub\\\":\\\"Algorithm Design and Analysis\\\",\\\"id\\\":23,\\\"credits\\\":4.0,\\\"nameCanonical\\\":\\\"\\\"},{\\\"curriculum_requisites\\\":[],\\\"name\\\":\\\" \\\",\\\"metrics\\\":{},\\\"nameSub\\\":\\\"Computer Science: Logic\\/Languages Elective\\\",\\\"id\\\":24,\\\"credits\\\":3.0,\\\"nameCanonical\\\":\\\"\\\"},{\\\"curriculum_requisites\\\":[],\\\"name\\\":\\\" \\\",\\\"metrics\\\":{},\\\"nameSub\\\":\\\"Technical Communications Course\\\",\\\"id\\\":25,\\\"credits\\\":3.0,\\\"nameCanonical\\\":\\\"\\\"},{\\\"curriculum_requisites\\\":[],\\\"name\\\":\\\" \\\",\\\"metrics\\\":{},\\\"nameSub\\\":\\\"Probability Course\\\",\\\"id\\\":26,\\\"credits\\\":3.0,\\\"nameCanonical\\\":\\\"\\\"},{\\\"curriculum_requisites\\\":[],\\\"name\\\":\\\" \\\",\\\"metrics\\\":{},\\\"nameSub\\\":\\\"Minor Requirement \\/ Free Elective\\\",\\\"id\\\":27,\\\"credits\\\":3.0,\\\"nameCanonical\\\":\\\"\\\"}],\\\"id\\\":4},{\\\"name\\\":\\\"Term 5\\\",\\\"curriculum_items\\\":[{\\\"curriculum_requisites\\\":[],\\\"name\\\":\\\" \\\",\\\"metrics\\\":{},\\\"nameSub\\\":\\\"Computer Science: Systems Elective\\\",\\\"id\\\":28,\\\"credits\\\":4.0,\\\"nameCanonical\\\":\\\"\\\"},{\\\"curriculum_requisites\\\":[],\\\"name\\\":\\\" \\\",\\\"metrics\\\":{},\\\"nameSub\\\":\\\"Computer Science: Artificial Intelligence Elective\\\",\\\"id\\\":29,\\\"credits\\\":3.0,\\\"nameCanonical\\\":\\\"\\\"},{\\\"curriculum_requisites\\\":[],\\\"name\\\":\\\" \\\",\\\"metrics\\\":{},\\\"nameSub\\\":\\\"Humanities and Arts Elective\\\",\\\"id\\\":30,\\\"credits\\\":3.0,\\\"nameCanonical\\\":\\\"\\\"},{\\\"curriculum_requisites\\\":[],\\\"name\\\":\\\" \\\",\\\"metrics\\\":{},\\\"nameSub\\\":\\\"Minor Requirement \\/ Free Elective\\\",\\\"id\\\":31,\\\"credits\\\":3.0,\\\"nameCanonical\\\":\\\"\\\"},{\\\"curriculum_requisites\\\":[],\\\"name\\\":\\\" \\\",\\\"metrics\\\":{},\\\"nameSub\\\":\\\"Science\\/Engineering Course\\\",\\\"id\\\":32,\\\"credits\\\":3.0,\\\"nameCanonical\\\":\\\"\\\"},{\\\"curriculum_requisites\\\":[],\\\"name\\\":\\\" \\\",\\\"metrics\\\":{},\\\"nameSub\\\":\\\"School of Computer Science Elective\\\",\\\"id\\\":33,\\\"credits\\\":3.0,\\\"nameCanonical\\\":\\\"\\\"}],\\\"id\\\":5},{\\\"name\\\":\\\"Term 6\\\",\\\"curriculum_items\\\":[{\\\"curriculum_requisites\\\":[],\\\"name\\\":\\\" \\\",\\\"metrics\\\":{},\\\"nameSub\\\":\\\"Humanities and Arts Elective\\\",\\\"id\\\":34,\\\"credits\\\":3.0,\\\"nameCanonical\\\":\\\"\\\"},{\\\"curriculum_requisites\\\":[],\\\"name\\\":\\\" \\\",\\\"metrics\\\":{},\\\"nameSub\\\":\\\"Minor Requirement \\/ Free Elective\\\",\\\"id\\\":35,\\\"credits\\\":3.0,\\\"nameCanonical\\\":\\\"\\\"},{\\\"curriculum_requisites\\\":[],\\\"name\\\":\\\" \\\",\\\"metrics\\\":{},\\\"nameSub\\\":\\\"Minor Requirement \\/ Free Elective\\\",\\\"id\\\":36,\\\"credits\\\":3.0,\\\"nameCanonical\\\":\\\"\\\"},{\\\"curriculum_requisites\\\":[],\\\"name\\\":\\\" \\\",\\\"metrics\\\":{},\\\"nameSub\\\":\\\"School of Computer Science Elective\\\",\\\"id\\\":37,\\\"credits\\\":3.0,\\\"nameCanonical\\\":\\\"\\\"},{\\\"curriculum_requisites\\\":[],\\\"name\\\":\\\" \\\",\\\"metrics\\\":{},\\\"nameSub\\\":\\\"Humanities and Arts Elective\\\",\\\"id\\\":38,\\\"credits\\\":3.0,\\\"nameCanonical\\\":\\\"\\\"},{\\\"curriculum_requisites\\\":[],\\\"name\\\":\\\" \\\",\\\"metrics\\\":{},\\\"nameSub\\\":\\\"Minor Requirement \\/ Free Elective\\\",\\\"id\\\":39,\\\"credits\\\":3.0,\\\"nameCanonical\\\":\\\"\\\"},{\\\"curriculum_requisites\\\":[],\\\"name\\\":\\\" \\\",\\\"metrics\\\":{},\\\"nameSub\\\":\\\"Minor Requirement \\/ Free Elective\\\",\\\"id\\\":40,\\\"credits\\\":3.0,\\\"nameCanonical\\\":\\\"\\\"}],\\\"id\\\":6}],\\\"institution\\\":\\\"Carnegie Mellon University\\\"}},\\\"*\\\"); window.removeEventListener(\\\"message\\\",window.messageReceived); window.messageReceived=(function (event){return (event.data.curriculum!==undefined) ? (WebIO.setval({\\\"name\\\":\\\"curriculum-data\\\",\\\"scope\\\":\\\"6894259679995568796\\\",\\\"id\\\":\\\"ob_01\\\",\\\"type\\\":\\\"observable\\\"},event.data.curriculum)) : undefined}); return window.addEventListener(\\\"message\\\",window.messageReceived)})\"},\"style\":{\"padding\":\"0\",\"height\":\"100vh\",\"margin\":\"0\",\"border\":\"none\",\"width\":\"100%\"}},\"nodeType\":\"DOM\",\"type\":\"node\",\"instanceArgs\":{\"namespace\":\"html\",\"tag\":\"iframe\"},\"children\":[\"\"]}]},\n",
       "            window,\n",
       "        );\n",
       "    } else {\n",
       "        document\n",
       "            .querySelector('[data-webio-mountpoint=\"1880994611018173565\"]')\n",
       "            .innerHTML = '<strong>WebIO not detected.</strong>';\n",
       "    }\n",
       "    </script>\n",
       "</div>\n"
      ],
      "text/plain": [
       "WebIO.Scope(WebIO.Node{WebIO.DOM}(WebIO.DOM(:html, :iframe), Any[\"\"], Dict{Symbol,Any}(:src=>\"http://localhost:8156\",:id=>\"curriculum\",:events=>Dict(:load=>JSString(\"(function (){this.contentWindow.postMessage({\\\"options\\\":{\\\"hideTerms\\\":true,\\\"edit\\\":false},\\\"curriculum\\\":{\\\"name\\\":\\\"Computer Science\\\",\\\"dp_name\\\":\\\"\\\",\\\"curriculum_terms\\\":[{\\\"name\\\":\\\"Term 1\\\",\\\"curriculum_items\\\":[{\\\"curriculum_requisites\\\":[],\\\"name\\\":\\\"15 151\\\",\\\"metrics\\\":{},\\\"nameSub\\\":\\\"Mathematical Foundations for Computer Science\\\",\\\"id\\\":4,\\\"credits\\\":3.33,\\\"nameCanonical\\\":\\\"\\\"},{\\\"curriculum_requisites\\\":[],\\\"name\\\":\\\"15 122\\\",\\\"metrics\\\":{},\\\"nameSub\\\":\\\"Principles of Imperative Computation\\\",\\\"id\\\":2,\\\"credits\\\":3.33,\\\"nameCanonical\\\":\\\"\\\"},{\\\"curriculum_requisites\\\":[],\\\"name\\\":\\\"21 120\\\",\\\"metrics\\\":{},\\\"nameSub\\\":\\\"Differential and Integral Calculus\\\",\\\"id\\\":5,\\\"credits\\\":3.33,\\\"nameCanonical\\\":\\\"\\\"},{\\\"curriculum_requisites\\\":[],\\\"name\\\":\\\"7 128\\\",\\\"metrics\\\":{},\\\"nameSub\\\":\\\"Freshmman Immigration Course\\\",\\\"id\\\":1,\\\"credits\\\":0.33,\\\"nameCanonical\\\":\\\"\\\"},{\\\"curriculum_requisites\\\":[],\\\"name\\\":\\\"15 131\\\",\\\"metrics\\\":{},\\\"nameSub\\\":\\\"Great Practical Ideas for Computer Scientists\\\",\\\"id\\\":3,\\\"credits\\\":0.67,\\\"nameCanonical\\\":\\\"\\\"},{\\\"curriculum_requisites\\\":[],\\\"name\\\":\\\"76 101\\\",\\\"metrics\\\":{},\\\"nameSub\\\":\\\"Interpretation and Argument\\\",\\\"id\\\":6,\\\"credits\\\":3.0,\\\"nameCanonical\\\":\\\"\\\"},{\\\"curriculum_requisites\\\":[],\\\"name\\\":\\\"99 101\\\",\\\"metrics\\\":{},\\\"nameSub\\\":\\\"Computing @ Carnegie Mellon\\\",\\\"id\\\":7,\\\"credits\\\":1.0,\\\"nameCanonical\\\":\\\"\\\"},{\\\"curriculum_requisites\\\":[],\\\"name\\\":\\\" \\\",\\\"metrics\\\":{},\\\"nameSub\\\":\\\"Science/Engineering Course\\\",\\\"id\\\":11,\\\"credits\\\":3.0,\\\"nameCanonical\\\":\\\"\\\"},{\\\"curriculum_requisites\\\":[],\\\"name\\\":\\\" \\\",\\\"metrics\\\":{},\\\"nameSub\\\":\\\"Humanities and Arts Elective\\\",\\\"id\\\":12,\\\"credits\\\":3.0,\\\"nameCanonical\\\":\\\"\\\"}],\\\"id\\\":1},{\\\"name\\\":\\\"Term 2\\\",\\\"curriculum_items\\\":[{\\\"curriculum_requisites\\\":[{\\\"source_id\\\":4,\\\"target_id\\\":8,\\\"type\\\":\\\"prereq\\\"}],\\\"name\\\":\\\"15 150\\\",\\\"metrics\\\":{},\\\"nameSub\\\":\\\"Principles of Functional Programming\\\",\\\"id\\\":8,\\\"credits\\\":3.33,\\\"nameCanonical\\\":\\\"\\\"},{\\\"curriculum_requisites\\\":[{\\\"source_id\\\":5,\\\"target_id\\\":10,\\\"type\\\":\\\"prereq\\\"}],\\\"name\\\":\\\"21 122\\\",\\\"metrics\\\":{},\\\"nameSub\\\":\\\"Integration and Approximation\\\",\\\"id\\\":10,\\\"credits\\\":3.33,\\\"nameCanonical\\\":\\\"\\\"},{\\\"curriculum_requisites\\\":[{\\\"source_id\\\":2,\\\"target_id\\\":13,\\\"type\\\":\\\"prereq\\\"}],\\\"name\\\":\\\"15 213\\\",\\\"metrics\\\":{},\\\"nameSub\\\":\\\"Introduction to Computer Systems\\\",\\\"id\\\":13,\\\"credits\\\":4.0,\\\"nameCanonical\\\":\\\"\\\"},{\\\"curriculum_requisites\\\":[],\\\"name\\\":\\\"21 241\\\",\\\"metrics\\\":{},\\\"nameSub\\\":\\\"Matrices and Linear Transformations\\\",\\\"id\\\":14,\\\"credits\\\":3.33,\\\"nameCanonical\\\":\\\"\\\"},{\\\"curriculum_requisites\\\":[],\\\"name\\\":\\\" \\\",\\\"metrics\\\":{},\\\"nameSub\\\":\\\"Science/Engineering Course\\\",\\\"id\\\":15,\\\"credits\\\":3.0,\\\"nameCanonical\\\":\\\"\\\"},{\\\"curriculum_requisites\\\":[],\\\"name\\\":\\\" \\\",\\\"metrics\\\":{},\\\"nameSub\\\":\\\"Humanities and Arts Elective\\\",\\\"id\\\":16,\\\"credits\\\":3.0,\\\"nameCanonical\\\":\\\"\\\"}],\\\"id\\\":2},{\\\"name\\\":\\\"Term 3\\\",\\\"curriculum_items\\\":[{\\\"curriculum_requisites\\\":[{\\\"source_id\\\":4,\\\"target_id\\\":9,\\\"type\\\":\\\"prereq\\\"},{\\\"source_id\\\":2,\\\"target_id\\\":9,\\\"type\\\":\\\"prereq\\\"},{\\\"source_id\\\":8,\\\"target_id\\\":9,\\\"type\\\":\\\"prereq\\\"}],\\\"name\\\":\\\"15 251\\\",\\\"metrics\\\":{},\\\"nameSub\\\":\\\"Great Ideas in Theoretical Computer Science\\\",\\\"id\\\":9,\\\"credits\\\":4.0,\\\"nameCanonical\\\":\\\"\\\"},{\\\"curriculum_requisites\\\":[{\\\"source_id\\\":2,\\\"target_id\\\":18,\\\"type\\\":\\\"prereq\\\"},{\\\"source_id\\\":8,\\\"target_id\\\":18,\\\"type\\\":\\\"prereq\\\"}],\\\"name\\\":\\\"15 210\\\",\\\"metrics\\\":{},\\\"nameSub\\\":\\\"Parallel and Sequential Data Structures and Algorithms\\\",\\\"id\\\":18,\\\"credits\\\":4.0,\\\"nameCanonical\\\":\\\"\\\"},{\\\"curriculum_requisites\\\":[],\\\"name\\\":\\\" \\\",\\\"metrics\\\":{},\\\"nameSub\\\":\\\"Minor Requirement / Free Elective\\\",\\\"id\\\":17,\\\"credits\\\":3.0,\\\"nameCanonical\\\":\\\"\\\"},{\\\"curriculum_requisites\\\":[],\\\"name\\\":\\\" \\\",\\\"metrics\\\":{},\\\"nameSub\\\":\\\"Computer Science: Domains Elective\\\",\\\"id\\\":19,\\\"credits\\\":3.0,\\\"nameCanonical\\\":\\\"\\\"},{\\\"curriculum_requisites\\\":[],\\\"name\\\":\\\" \\\",\\\"metrics\\\":{},\\\"nameSub\\\":\\\"Science/Engineering Course\\\",\\\"id\\\":20,\\\"credits\\\":3.0,\\\"nameCanonical\\\":\\\"\\\"},{\\\"curriculum_requisites\\\":[],\\\"name\\\":\\\" \\\",\\\"metrics\\\":{},\\\"nameSub\\\":\\\"Humanities and Arts Elective\\\",\\\"id\\\":21,\\\"credits\\\":3.0,\\\"nameCanonical\\\":\\\"\\\"}],\\\"id\\\":3},{\\\"name\\\":\\\"Term 4\\\",\\\"curriculum_items\\\":[{\\\"curriculum_requisites\\\":[],\\\"name\\\":\\\" \\\",\\\"metrics\\\":{},\\\"nameSub\\\":\\\"Minor Requirement / Free Elective\\\",\\\"id\\\":22,\\\"credits\\\":3.0,\\\"nameCanonical\\\":\\\"\\\"},{\\\"curriculum_requisites\\\":[],\\\"name\\\":\\\" \\\",\\\"metrics\\\":{},\\\"nameSub\\\":\\\"Algorithm Design and Analysis\\\",\\\"id\\\":23,\\\"credits\\\":4.0,\\\"nameCanonical\\\":\\\"\\\"},{\\\"curriculum_requisites\\\":[],\\\"name\\\":\\\" \\\",\\\"metrics\\\":{},\\\"nameSub\\\":\\\"Computer Science: Logic/Languages Elective\\\",\\\"id\\\":24,\\\"credits\\\":3.0,\\\"nameCanonical\\\":\\\"\\\"},{\\\"curriculum_requisites\\\":[],\\\"name\\\":\\\" \\\",\\\"metrics\\\":{},\\\"nameSub\\\":\\\"Technical Communications Course\\\",\\\"id\\\":25,\\\"credits\\\":3.0,\\\"nameCanonical\\\":\\\"\\\"},{\\\"curriculum_requisites\\\":[],\\\"name\\\":\\\" \\\",\\\"metrics\\\":{},\\\"nameSub\\\":\\\"Probability Course\\\",\\\"id\\\":26,\\\"credits\\\":3.0,\\\"nameCanonical\\\":\\\"\\\"},{\\\"curriculum_requisites\\\":[],\\\"name\\\":\\\" \\\",\\\"metrics\\\":{},\\\"nameSub\\\":\\\"Minor Requirement / Free Elective\\\",\\\"id\\\":27,\\\"credits\\\":3.0,\\\"nameCanonical\\\":\\\"\\\"}],\\\"id\\\":4},{\\\"name\\\":\\\"Term 5\\\",\\\"curriculum_items\\\":[{\\\"curriculum_requisites\\\":[],\\\"name\\\":\\\" \\\",\\\"metrics\\\":{},\\\"nameSub\\\":\\\"Computer Science: Systems Elective\\\",\\\"id\\\":28,\\\"credits\\\":4.0,\\\"nameCanonical\\\":\\\"\\\"},{\\\"curriculum_requisites\\\":[],\\\"name\\\":\\\" \\\",\\\"metrics\\\":{},\\\"nameSub\\\":\\\"Computer Science: Artificial Intelligence Elective\\\",\\\"id\\\":29,\\\"credits\\\":3.0,\\\"nameCanonical\\\":\\\"\\\"},{\\\"curriculum_requisites\\\":[],\\\"name\\\":\\\" \\\",\\\"metrics\\\":{},\\\"nameSub\\\":\\\"Humanities and Arts Elective\\\",\\\"id\\\":30,\\\"credits\\\":3.0,\\\"nameCanonical\\\":\\\"\\\"},{\\\"curriculum_requisites\\\":[],\\\"name\\\":\\\" \\\",\\\"metrics\\\":{},\\\"nameSub\\\":\\\"Minor Requirement / Free Elective\\\",\\\"id\\\":31,\\\"credits\\\":3.0,\\\"nameCanonical\\\":\\\"\\\"},{\\\"curriculum_requisites\\\":[],\\\"name\\\":\\\" \\\",\\\"metrics\\\":{},\\\"nameSub\\\":\\\"Science/Engineering Course\\\",\\\"id\\\":32,\\\"credits\\\":3.0,\\\"nameCanonical\\\":\\\"\\\"},{\\\"curriculum_requisites\\\":[],\\\"name\\\":\\\" \\\",\\\"metrics\\\":{},\\\"nameSub\\\":\\\"School of Computer Science Elective\\\",\\\"id\\\":33,\\\"credits\\\":3.0,\\\"nameCanonical\\\":\\\"\\\"}],\\\"id\\\":5},{\\\"name\\\":\\\"Term 6\\\",\\\"curriculum_items\\\":[{\\\"curriculum_requisites\\\":[],\\\"name\\\":\\\" \\\",\\\"metrics\\\":{},\\\"nameSub\\\":\\\"Humanities and Arts Elective\\\",\\\"id\\\":34,\\\"credits\\\":3.0,\\\"nameCanonical\\\":\\\"\\\"},{\\\"curriculum_requisites\\\":[],\\\"name\\\":\\\" \\\",\\\"metrics\\\":{},\\\"nameSub\\\":\\\"Minor Requirement / Free Elective\\\",\\\"id\\\":35,\\\"credits\\\":3.0,\\\"nameCanonical\\\":\\\"\\\"},{\\\"curriculum_requisites\\\":[],\\\"name\\\":\\\" \\\",\\\"metrics\\\":{},\\\"nameSub\\\":\\\"Minor Requirement / Free Elective\\\",\\\"id\\\":36,\\\"credits\\\":3.0,\\\"nameCanonical\\\":\\\"\\\"},{\\\"curriculum_requisites\\\":[],\\\"name\\\":\\\" \\\",\\\"metrics\\\":{},\\\"nameSub\\\":\\\"School of Computer Science Elective\\\",\\\"id\\\":37,\\\"credits\\\":3.0,\\\"nameCanonical\\\":\\\"\\\"},{\\\"curriculum_requisites\\\":[],\\\"name\\\":\\\" \\\",\\\"metrics\\\":{},\\\"nameSub\\\":\\\"Humanities and Arts Elective\\\",\\\"id\\\":38,\\\"credits\\\":3.0,\\\"nameCanonical\\\":\\\"\\\"},{\\\"curriculum_requisites\\\":[],\\\"name\\\":\\\" \\\",\\\"metrics\\\":{},\\\"nameSub\\\":\\\"Minor Requirement / Free Elective\\\",\\\"id\\\":39,\\\"credits\\\":3.0,\\\"nameCanonical\\\":\\\"\\\"},{\\\"curriculum_requisites\\\":[],\\\"name\\\":\\\" \\\",\\\"metrics\\\":{},\\\"nameSub\\\":\\\"Minor Requirement / Free Elective\\\",\\\"id\\\":40,\\\"credits\\\":3.0,\\\"nameCanonical\\\":\\\"\\\"}],\\\"id\\\":6}],\\\"institution\\\":\\\"Carnegie Mellon University\\\"}},\\\"*\\\"); window.removeEventListener(\\\"message\\\",window.messageReceived); window.messageReceived=(function (event){return (event.data.curriculum!==undefined) ? (WebIO.setval({\\\"name\\\":\\\"curriculum-data\\\",\\\"scope\\\":\\\"6894259679995568796\\\",\\\"id\\\":\\\"ob_01\\\",\\\"type\\\":\\\"observable\\\"},event.data.curriculum)) : undefined}); return window.addEventListener(\\\"message\\\",window.messageReceived)})\")),:style=>Dict(:padding=>\"0\",:height=>\"100vh\",:margin=>\"0\",:border=>\"none\",:width=>\"100%\"))), Dict{String,Tuple{Observables.AbstractObservable,Union{Nothing, Bool}}}(\"curriculum-data\"=>(Observable{Dict{String,Any}} with 1 listeners. Value:\n",
       "Dict{String,Any}(\"options\"=>Dict{String,Any}(\"hideTerms\"=>true,\"edit\"=>false),\"curriculum\"=>Dict{String,Any}(\"name\"=>\"Computer Science\",\"dp_name\"=>\"\",\"curriculum_terms\"=>Dict{String,Any}[Dict(\"name\"=>\"Term 1\",\"curriculum_items\"=>Dict{String,Any}[Dict(\"curriculum_requisites\"=>Dict{String,Any}[],\"name\"=>\"15 151\",\"metrics\"=>Dict{String,Any}(),\"nameSub\"=>\"Mathematical Foundations for Computer Science\",\"id\"=>4,\"credits\"=>3.33,\"nameCanonical\"=>\"\"), Dict(\"curriculum_requisites\"=>Dict{String,Any}[],\"name\"=>\"15 122\",\"metrics\"=>Dict{String,Any}(),\"nameSub\"=>\"Principles of Imperative Computation\",\"id\"=>2,\"credits\"=>3.33,\"nameCanonical\"=>\"\"), Dict(\"curriculum_requisites\"=>Dict{String,Any}[],\"name\"=>\"21 120\",\"metrics\"=>Dict{String,Any}(),\"nameSub\"=>\"Differential and Integral Calculus\",\"id\"=>5,\"credits\"=>3.33,\"nameCanonical\"=>\"\"), Dict(\"curriculum_requisites\"=>Dict{String,Any}[],\"name\"=>\"7 128\",\"metrics\"=>Dict{String,Any}(),\"nameSub\"=>\"Freshmman Immigration Course\",\"id\"=>1,\"credits\"=>0.33,\"nameCanonical\"=>\"\"), Dict(\"curriculum_requisites\"=>Dict{String,Any}[],\"name\"=>\"15 131\",\"metrics\"=>Dict{String,Any}(),\"nameSub\"=>\"Great Practical Ideas for Computer Scientists\",\"id\"=>3,\"credits\"=>0.67,\"nameCanonical\"=>\"\"), Dict(\"curriculum_requisites\"=>Dict{String,Any}[],\"name\"=>\"76 101\",\"metrics\"=>Dict{String,Any}(),\"nameSub\"=>\"Interpretation and Argument\",\"id\"=>6,\"credits\"=>3.0,\"nameCanonical\"=>\"\"), Dict(\"curriculum_requisites\"=>Dict{String,Any}[],\"name\"=>\"99 101\",\"metrics\"=>Dict{String,Any}(),\"nameSub\"=>\"Computing @ Carnegie Mellon\",\"id\"=>7,\"credits\"=>1.0,\"nameCanonical\"=>\"\"), Dict(\"curriculum_requisites\"=>Dict{String,Any}[],\"name\"=>\" \",\"metrics\"=>Dict{String,Any}(),\"nameSub\"=>\"Science/Engineering Course\",\"id\"=>11,\"credits\"=>3.0,\"nameCanonical\"=>\"\"), Dict(\"curriculum_requisites\"=>Dict{String,Any}[],\"name\"=>\" \",\"metrics\"=>Dict{String,Any}(),\"nameSub\"=>\"Humanities and Arts Elective\",\"id\"=>12,\"credits\"=>3.0,\"nameCanonical\"=>\"\")],\"id\"=>1), Dict(\"name\"=>\"Term 2\",\"curriculum_items\"=>Dict{String,Any}[Dict(\"curriculum_requisites\"=>Dict{String,Any}[Dict(\"source_id\"=>4,\"target_id\"=>8,\"type\"=>\"prereq\")],\"name\"=>\"15 150\",\"metrics\"=>Dict{String,Any}(),\"nameSub\"=>\"Principles of Functional Programming\",\"id\"=>8,\"credits\"=>3.33,\"nameCanonical\"=>\"\"), Dict(\"curriculum_requisites\"=>Dict{String,Any}[Dict(\"source_id\"=>5,\"target_id\"=>10,\"type\"=>\"prereq\")],\"name\"=>\"21 122\",\"metrics\"=>Dict{String,Any}(),\"nameSub\"=>\"Integration and Approximation\",\"id\"=>10,\"credits\"=>3.33,\"nameCanonical\"=>\"\"), Dict(\"curriculum_requisites\"=>Dict{String,Any}[Dict(\"source_id\"=>2,\"target_id\"=>13,\"type\"=>\"prereq\")],\"name\"=>\"15 213\",\"metrics\"=>Dict{String,Any}(),\"nameSub\"=>\"Introduction to Computer Systems\",\"id\"=>13,\"credits\"=>4.0,\"nameCanonical\"=>\"\"), Dict(\"curriculum_requisites\"=>Dict{String,Any}[],\"name\"=>\"21 241\",\"metrics\"=>Dict{String,Any}(),\"nameSub\"=>\"Matrices and Linear Transformations\",\"id\"=>14,\"credits\"=>3.33,\"nameCanonical\"=>\"\"), Dict(\"curriculum_requisites\"=>Dict{String,Any}[],\"name\"=>\" \",\"metrics\"=>Dict{String,Any}(),\"nameSub\"=>\"Science/Engineering Course\",\"id\"=>15,\"credits\"=>3.0,\"nameCanonical\"=>\"\"), Dict(\"curriculum_requisites\"=>Dict{String,Any}[],\"name\"=>\" \",\"metrics\"=>Dict{String,Any}(),\"nameSub\"=>\"Humanities and Arts Elective\",\"id\"=>16,\"credits\"=>3.0,\"nameCanonical\"=>\"\")],\"id\"=>2), Dict(\"name\"=>\"Term 3\",\"curriculum_items\"=>Dict{String,Any}[Dict(\"curriculum_requisites\"=>Dict{String,Any}[Dict(\"source_id\"=>4,\"target_id\"=>9,\"type\"=>\"prereq\"), Dict(\"source_id\"=>2,\"target_id\"=>9,\"type\"=>\"prereq\"), Dict(\"source_id\"=>8,\"target_id\"=>9,\"type\"=>\"prereq\")],\"name\"=>\"15 251\",\"metrics\"=>Dict{String,Any}(),\"nameSub\"=>\"Great Ideas in Theoretical Computer Science\",\"id\"=>9,\"credits\"=>4.0,\"nameCanonical\"=>\"\"), Dict(\"curriculum_requisites\"=>Dict{String,Any}[Dict(\"source_id\"=>2,\"target_id\"=>18,\"type\"=>\"prereq\"), Dict(\"source_id\"=>8,\"target_id\"=>18,\"type\"=>\"prereq\")],\"name\"=>\"15 210\",\"metrics\"=>Dict{String,Any}(),\"nameSub\"=>\"Parallel and Sequential Data Structures and Algorithms\",\"id\"=>18,\"credits\"=>4.0,\"nameCanonical\"=>\"\"), Dict(\"curriculum_requisites\"=>Dict{String,Any}[],\"name\"=>\" \",\"metrics\"=>Dict{String,Any}(),\"nameSub\"=>\"Minor Requirement / Free Elective\",\"id\"=>17,\"credits\"=>3.0,\"nameCanonical\"=>\"\"), Dict(\"curriculum_requisites\"=>Dict{String,Any}[],\"name\"=>\" \",\"metrics\"=>Dict{String,Any}(),\"nameSub\"=>\"Computer Science: Domains Elective\",\"id\"=>19,\"credits\"=>3.0,\"nameCanonical\"=>\"\"), Dict(\"curriculum_requisites\"=>Dict{String,Any}[],\"name\"=>\" \",\"metrics\"=>Dict{String,Any}(),\"nameSub\"=>\"Science/Engineering Course\",\"id\"=>20,\"credits\"=>3.0,\"nameCanonical\"=>\"\"), Dict(\"curriculum_requisites\"=>Dict{String,Any}[],\"name\"=>\" \",\"metrics\"=>Dict{String,Any}(),\"nameSub\"=>\"Humanities and Arts Elective\",\"id\"=>21,\"credits\"=>3.0,\"nameCanonical\"=>\"\")],\"id\"=>3), Dict(\"name\"=>\"Term 4\",\"curriculum_items\"=>Dict{String,Any}[Dict(\"curriculum_requisites\"=>Dict{String,Any}[],\"name\"=>\" \",\"metrics\"=>Dict{String,Any}(),\"nameSub\"=>\"Minor Requirement / Free Elective\",\"id\"=>22,\"credits\"=>3.0,\"nameCanonical\"=>\"\"), Dict(\"curriculum_requisites\"=>Dict{String,Any}[],\"name\"=>\" \",\"metrics\"=>Dict{String,Any}(),\"nameSub\"=>\"Algorithm Design and Analysis\",\"id\"=>23,\"credits\"=>4.0,\"nameCanonical\"=>\"\"), Dict(\"curriculum_requisites\"=>Dict{String,Any}[],\"name\"=>\" \",\"metrics\"=>Dict{String,Any}(),\"nameSub\"=>\"Computer Science: Logic/Languages Elective\",\"id\"=>24,\"credits\"=>3.0,\"nameCanonical\"=>\"\"), Dict(\"curriculum_requisites\"=>Dict{String,Any}[],\"name\"=>\" \",\"metrics\"=>Dict{String,Any}(),\"nameSub\"=>\"Technical Communications Course\",\"id\"=>25,\"credits\"=>3.0,\"nameCanonical\"=>\"\"), Dict(\"curriculum_requisites\"=>Dict{String,Any}[],\"name\"=>\" \",\"metrics\"=>Dict{String,Any}(),\"nameSub\"=>\"Probability Course\",\"id\"=>26,\"credits\"=>3.0,\"nameCanonical\"=>\"\"), Dict(\"curriculum_requisites\"=>Dict{String,Any}[],\"name\"=>\" \",\"metrics\"=>Dict{String,Any}(),\"nameSub\"=>\"Minor Requirement / Free Elective\",\"id\"=>27,\"credits\"=>3.0,\"nameCanonical\"=>\"\")],\"id\"=>4), Dict(\"name\"=>\"Term 5\",\"curriculum_items\"=>Dict{String,Any}[Dict(\"curriculum_requisites\"=>Dict{String,Any}[],\"name\"=>\" \",\"metrics\"=>Dict{String,Any}(),\"nameSub\"=>\"Computer Science: Systems Elective\",\"id\"=>28,\"credits\"=>4.0,\"nameCanonical\"=>\"\"), Dict(\"curriculum_requisites\"=>Dict{String,Any}[],\"name\"=>\" \",\"metrics\"=>Dict{String,Any}(),\"nameSub\"=>\"Computer Science: Artificial Intelligence Elective\",\"id\"=>29,\"credits\"=>3.0,\"nameCanonical\"=>\"\"), Dict(\"curriculum_requisites\"=>Dict{String,Any}[],\"name\"=>\" \",\"metrics\"=>Dict{String,Any}(),\"nameSub\"=>\"Humanities and Arts Elective\",\"id\"=>30,\"credits\"=>3.0,\"nameCanonical\"=>\"\"), Dict(\"curriculum_requisites\"=>Dict{String,Any}[],\"name\"=>\" \",\"metrics\"=>Dict{String,Any}(),\"nameSub\"=>\"Minor Requirement / Free Elective\",\"id\"=>31,\"credits\"=>3.0,\"nameCanonical\"=>\"\"), Dict(\"curriculum_requisites\"=>Dict{String,Any}[],\"name\"=>\" \",\"metrics\"=>Dict{String,Any}(),\"nameSub\"=>\"Science/Engineering Course\",\"id\"=>32,\"credits\"=>3.0,\"nameCanonical\"=>\"\"), Dict(\"curriculum_requisites\"=>Dict{String,Any}[],\"name\"=>\" \",\"metrics\"=>Dict{String,Any}(),\"nameSub\"=>\"School of Computer Science Elective\",\"id\"=>33,\"credits\"=>3.0,\"nameCanonical\"=>\"\")],\"id\"=>5), Dict(\"name\"=>\"Term 6\",\"curriculum_items\"=>Dict{String,Any}[Dict(\"curriculum_requisites\"=>Dict{String,Any}[],\"name\"=>\" \",\"metrics\"=>Dict{String,Any}(),\"nameSub\"=>\"Humanities and Arts Elective\",\"id\"=>34,\"credits\"=>3.0,\"nameCanonical\"=>\"\"), Dict(\"curriculum_requisites\"=>Dict{String,Any}[],\"name\"=>\" \",\"metrics\"=>Dict{String,Any}(),\"nameSub\"=>\"Minor Requirement / Free Elective\",\"id\"=>35,\"credits\"=>3.0,\"nameCanonical\"=>\"\"), Dict(\"curriculum_requisites\"=>Dict{String,Any}[],\"name\"=>\" \",\"metrics\"=>Dict{String,Any}(),\"nameSub\"=>\"Minor Requirement / Free Elective\",\"id\"=>36,\"credits\"=>3.0,\"nameCanonical\"=>\"\"), Dict(\"curriculum_requisites\"=>Dict{String,Any}[],\"name\"=>\" \",\"metrics\"=>Dict{String,Any}(),\"nameSub\"=>\"School of Computer Science Elective\",\"id\"=>37,\"credits\"=>3.0,\"nameCanonical\"=>\"\"), Dict(\"curriculum_requisites\"=>Dict{String,Any}[],\"name\"=>\" \",\"metrics\"=>Dict{String,Any}(),\"nameSub\"=>\"Humanities and Arts Elective\",\"id\"=>38,\"credits\"=>3.0,\"nameCanonical\"=>\"\"), Dict(\"curriculum_requisites\"=>Dict{String,Any}[],\"name\"=>\" \",\"metrics\"=>Dict{String,Any}(),\"nameSub\"=>\"Minor Requirement / Free Elective\",\"id\"=>39,\"credits\"=>3.0,\"nameCanonical\"=>\"\"), Dict(\"curriculum_requisites\"=>Dict{String,Any}[],\"name\"=>\" \",\"metrics\"=>Dict{String,Any}(),\"nameSub\"=>\"Minor Requirement / Free Elective\",\"id\"=>40,\"credits\"=>3.0,\"nameCanonical\"=>\"\")],\"id\"=>6)],\"institution\"=>\"Carnegie Mellon University\")), nothing)), Set(String[]), nothing, WebIO.Asset[], Dict{Any,Any}(), WebIO.ConnectionPool(Channel{Any}(sz_max:9223372036854775807,sz_curr:0), Set(WebIO.AbstractConnection[]), Channel{WebIO.AbstractConnection}(sz_max:32,sz_curr:0)), WebIO.JSString[])"
      ]
     },
     "execution_count": 2,
     "metadata": {
      "application/vnd.webio.node+json": {
       "kernelId": "6344f015-7ad8-4edd-b8d0-88b0fc2bcf67"
      }
     },
     "output_type": "execute_result"
    }
   ],
   "source": [
    "curric = read_csv(\"./tier_top/Carnegie_Mellon-CS.csv\")\n",
    "visualize(curric, notebook=true)"
   ]
  },
  {
   "cell_type": "code",
   "execution_count": 3,
   "metadata": {},
   "outputs": [
    {
     "data": {
      "application/vnd.webio.node+json": {
       "children": [
        {
         "children": [
          ""
         ],
         "instanceArgs": {
          "namespace": "html",
          "tag": "iframe"
         },
         "nodeType": "DOM",
         "props": {
          "events": {
           "load": "(function (){this.contentWindow.postMessage({\"options\":{\"hideTerms\":true,\"edit\":false},\"curriculum\":{\"name\":\"Computer Science\",\"dp_name\":\"\",\"curriculum_terms\":[{\"name\":\"Term 1\",\"curriculum_items\":[{\"curriculum_requisites\":[],\"name\":\"CS 1150\",\"metrics\":{},\"nameSub\":\"Principles of Computer Science\",\"id\":1,\"credits\":3,\"nameCanonical\":\"\"},{\"curriculum_requisites\":[],\"name\":\"MATH 1350\",\"metrics\":{},\"nameSub\":\"Calculus I\",\"id\":21,\"credits\":4,\"nameCanonical\":\"\"},{\"curriculum_requisites\":[{\"source_id\":21,\"target_id\":27,\"type\":\"coreq\"}],\"name\":\"PES 1110\",\"metrics\":{},\"nameSub\":\"General Physics I\",\"id\":27,\"credits\":4,\"nameCanonical\":\"\"},{\"curriculum_requisites\":[],\"name\":\"ENGL 1310\",\"metrics\":{},\"nameSub\":\"Rhetoric & Writing\",\"id\":31,\"credits\":3,\"nameCanonical\":\"\"},{\"curriculum_requisites\":[{\"source_id\":27,\"target_id\":29,\"type\":\"coreq\"}],\"name\":\"PES 1160\",\"metrics\":{},\"nameSub\":\"General Physics Lab\",\"id\":29,\"credits\":1,\"nameCanonical\":\"\"},{\"curriculum_requisites\":[],\"name\":\" \",\"metrics\":{},\"nameSub\":\"Computer Science Electives\",\"id\":15,\"credits\":3,\"nameCanonical\":\"\"},{\"curriculum_requisites\":[],\"name\":\" \",\"metrics\":{},\"nameSub\":\"Computer Science Electives\",\"id\":16,\"credits\":3,\"nameCanonical\":\"\"}],\"id\":1},{\"name\":\"Term 2\",\"curriculum_items\":[{\"curriculum_requisites\":[{\"source_id\":1,\"target_id\":2,\"type\":\"prereq\"}],\"name\":\"CS 1450\",\"metrics\":{},\"nameSub\":\"Data Structures & Algorithms\",\"id\":2,\"credits\":3,\"nameCanonical\":\"\"},{\"curriculum_requisites\":[{\"source_id\":1,\"target_id\":3,\"type\":\"prereq\"}],\"name\":\"CS 2060\",\"metrics\":{},\"nameSub\":\"Programming in C\",\"id\":3,\"credits\":3,\"nameCanonical\":\"\"},{\"curriculum_requisites\":[{\"source_id\":21,\"target_id\":22,\"type\":\"prereq\"}],\"name\":\"MATH 1360\",\"metrics\":{},\"nameSub\":\"Calculus II\",\"id\":22,\"credits\":4,\"nameCanonical\":\"\"},{\"curriculum_requisites\":[{\"source_id\":21,\"target_id\":23,\"type\":\"prereq\"}],\"name\":\"MATH 2150\",\"metrics\":{},\"nameSub\":\"Discrete Mathematics\",\"id\":23,\"credits\":3,\"nameCanonical\":\"\"},{\"curriculum_requisites\":[{\"source_id\":21,\"target_id\":25,\"type\":\"prereq\"}],\"name\":\"MATH 3130\",\"metrics\":{},\"nameSub\":\"Intro. to Linear Algebra\",\"id\":25,\"credits\":3,\"nameCanonical\":\"\"},{\"curriculum_requisites\":[{\"source_id\":31,\"target_id\":32,\"type\":\"prereq\"}],\"name\":\"ENGL 2090\",\"metrics\":{},\"nameSub\":\"Technical Writing & Presentation\",\"id\":32,\"credits\":3,\"nameCanonical\":\"\"},{\"curriculum_requisites\":[],\"name\":\" \",\"metrics\":{},\"nameSub\":\"Computer Science Electives\",\"id\":17,\"credits\":3,\"nameCanonical\":\"\"}],\"id\":2},{\"name\":\"Term 3\",\"curriculum_items\":[{\"curriculum_requisites\":[{\"source_id\":2,\"target_id\":4,\"type\":\"prereq\"}],\"name\":\"CS 2080\",\"metrics\":{},\"nameSub\":\"Programming with UNIX\",\"id\":4,\"credits\":2,\"nameCanonical\":\"\"},{\"curriculum_requisites\":[{\"source_id\":2,\"target_id\":5,\"type\":\"prereq\"},{\"source_id\":3,\"target_id\":5,\"type\":\"prereq\"}],\"name\":\"CS 2160\",\"metrics\":{},\"nameSub\":\"Computer Org. & Assembly Language\",\"id\":5,\"credits\":3,\"nameCanonical\":\"\"},{\"curriculum_requisites\":[{\"source_id\":23,\"target_id\":13,\"type\":\"prereq\"},{\"source_id\":25,\"target_id\":13,\"type\":\"prereq\"}],\"name\":\"CS 4700\",\"metrics\":{},\"nameSub\":\"Computability, Automata & Formal Lang\",\"id\":13,\"credits\":3,\"nameCanonical\":\"\"},{\"curriculum_requisites\":[{\"source_id\":22,\"target_id\":24,\"type\":\"prereq\"}],\"name\":\"MATH 2350\",\"metrics\":{},\"nameSub\":\"Calculus III\",\"id\":24,\"credits\":4,\"nameCanonical\":\"\"},{\"curriculum_requisites\":[{\"source_id\":23,\"target_id\":14,\"type\":\"prereq\"},{\"source_id\":2,\"target_id\":14,\"type\":\"prereq\"}],\"name\":\"CS 4720\",\"metrics\":{},\"nameSub\":\"Design & Analysis of Algorithms\",\"id\":14,\"credits\":3,\"nameCanonical\":\"\"},{\"curriculum_requisites\":[{\"source_id\":27,\"target_id\":28,\"type\":\"prereq\"},{\"source_id\":22,\"target_id\":28,\"type\":\"coreq\"}],\"name\":\"PES 1120\",\"metrics\":{},\"nameSub\":\"General Physics II\",\"id\":28,\"credits\":4,\"nameCanonical\":\"\"},{\"curriculum_requisites\":[{\"source_id\":32,\"target_id\":33,\"type\":\"prereq\"}],\"name\":\"PORT 3000\",\"metrics\":{},\"nameSub\":\"Writing Portfolio Assessment\",\"id\":33,\"credits\":0,\"nameCanonical\":\"\"},{\"curriculum_requisites\":[],\"name\":\" \",\"metrics\":{},\"nameSub\":\"Technical Electives\",\"id\":18,\"credits\":3,\"nameCanonical\":\"\"}],\"id\":3},{\"name\":\"Term 4\",\"curriculum_items\":[{\"curriculum_requisites\":[{\"source_id\":4,\"target_id\":7,\"type\":\"prereq\"},{\"source_id\":3,\"target_id\":7,\"type\":\"prereq\"}],\"name\":\"CS 3060\",\"metrics\":{},\"nameSub\":\"Object Oriented Programming in C++\",\"id\":7,\"credits\":3,\"nameCanonical\":\"\"},{\"curriculum_requisites\":[{\"source_id\":5,\"target_id\":11,\"type\":\"prereq\"}],\"name\":\"CS 4200\",\"metrics\":{},\"nameSub\":\"Computer Architecture\",\"id\":11,\"credits\":3,\"nameCanonical\":\"\"},{\"curriculum_requisites\":[{\"source_id\":4,\"target_id\":6,\"type\":\"prereq\"}],\"name\":\"CS 3040\",\"metrics\":{},\"nameSub\":\"Computing Ethics\",\"id\":6,\"credits\":3,\"nameCanonical\":\"\"},{\"curriculum_requisites\":[{\"source_id\":24,\"target_id\":26,\"type\":\"prereq\"}],\"name\":\"MATH 3810\",\"metrics\":{},\"nameSub\":\"Intro. To Probability & Statistics\",\"id\":26,\"credits\":3,\"nameCanonical\":\"\"},{\"curriculum_requisites\":[],\"name\":\" \",\"metrics\":{},\"nameSub\":\"Technical Electives\",\"id\":19,\"credits\":3,\"nameCanonical\":\"\"},{\"curriculum_requisites\":[],\"name\":\" \",\"metrics\":{},\"nameSub\":\"Technical Electives\",\"id\":20,\"credits\":3,\"nameCanonical\":\"\"},{\"curriculum_requisites\":[],\"name\":\" \",\"metrics\":{},\"nameSub\":\"Free Elective\",\"id\":34,\"credits\":3,\"nameCanonical\":\"\"}],\"id\":4},{\"name\":\"Term 5\",\"curriculum_items\":[{\"curriculum_requisites\":[{\"source_id\":7,\"target_id\":8,\"type\":\"prereq\"},{\"source_id\":3,\"target_id\":8,\"type\":\"prereq\"},{\"source_id\":5,\"target_id\":8,\"type\":\"prereq\"}],\"name\":\"CS 3160\",\"metrics\":{},\"nameSub\":\"Concepts of Programming Languages\",\"id\":8,\"credits\":3,\"nameCanonical\":\"\"},{\"curriculum_requisites\":[{\"source_id\":4,\"target_id\":12,\"type\":\"prereq\"},{\"source_id\":3,\"target_id\":12,\"type\":\"prereq\"},{\"source_id\":11,\"target_id\":12,\"type\":\"prereq\"}],\"name\":\"CS 4500\",\"metrics\":{},\"nameSub\":\"Operating Systems\",\"id\":12,\"credits\":3,\"nameCanonical\":\"\"},{\"curriculum_requisites\":[],\"name\":\" \",\"metrics\":{},\"nameSub\":\"Basic Science Requirement\",\"id\":30,\"credits\":5,\"nameCanonical\":\"\"},{\"curriculum_requisites\":[],\"name\":\" \",\"metrics\":{},\"nameSub\":\"Free Elective\",\"id\":35,\"credits\":4,\"nameCanonical\":\"\"},{\"curriculum_requisites\":[],\"name\":\" \",\"metrics\":{},\"nameSub\":\"Compass Curriculum Humanities/Social Science Requirements\",\"id\":36,\"credits\":3,\"nameCanonical\":\"\"},{\"curriculum_requisites\":[],\"name\":\" \",\"metrics\":{},\"nameSub\":\"Compass Curriculum Humanities/Social Science Requirements\",\"id\":37,\"credits\":3,\"nameCanonical\":\"\"}],\"id\":5},{\"name\":\"Term 6\",\"curriculum_items\":[{\"curriculum_requisites\":[{\"source_id\":7,\"target_id\":9,\"type\":\"prereq\"},{\"source_id\":4,\"target_id\":9,\"type\":\"prereq\"},{\"source_id\":8,\"target_id\":9,\"type\":\"prereq\"}],\"name\":\"CS 3300\",\"metrics\":{},\"nameSub\":\"Software Engineering\",\"id\":9,\"credits\":3,\"nameCanonical\":\"\"},{\"curriculum_requisites\":[{\"source_id\":13,\"target_id\":10,\"type\":\"prereq\"},{\"source_id\":5,\"target_id\":10,\"type\":\"prereq\"},{\"source_id\":8,\"target_id\":10,\"type\":\"prereq\"}],\"name\":\"CS 4100\",\"metrics\":{},\"nameSub\":\"Compiler Design\",\"id\":10,\"credits\":3,\"nameCanonical\":\"\"},{\"curriculum_requisites\":[],\"name\":\" \",\"metrics\":{},\"nameSub\":\"Compass Curriculum Humanities/Social Science Requirements\",\"id\":38,\"credits\":3,\"nameCanonical\":\"\"},{\"curriculum_requisites\":[],\"name\":\" \",\"metrics\":{},\"nameSub\":\"Compass Curriculum Humanities/Social Science Requirements\",\"id\":39,\"credits\":3,\"nameCanonical\":\"\"},{\"curriculum_requisites\":[],\"name\":\" \",\"metrics\":{},\"nameSub\":\"Compass Curriculum Humanities/Social Science Requirements\",\"id\":40,\"credits\":3,\"nameCanonical\":\"\"},{\"curriculum_requisites\":[],\"name\":\" \",\"metrics\":{},\"nameSub\":\"Compass Curriculum Humanities/Social Science Requirements\",\"id\":41,\"credits\":3,\"nameCanonical\":\"\"},{\"curriculum_requisites\":[],\"name\":\" \",\"metrics\":{},\"nameSub\":\"Compass Curriculum Humanities/Social Science Requirements\",\"id\":42,\"credits\":3,\"nameCanonical\":\"\"}],\"id\":6}],\"institution\":\"University of Colorado Colorado Springs\"}},\"*\"); window.removeEventListener(\"message\",window.messageReceived); window.messageReceived=(function (event){return (event.data.curriculum!==undefined) ? (WebIO.setval({\"name\":\"curriculum-data\",\"scope\":\"3863313818476024141\",\"id\":\"ob_02\",\"type\":\"observable\"},event.data.curriculum)) : undefined}); return window.addEventListener(\"message\",window.messageReceived)})"
          },
          "id": "curriculum",
          "src": "http://localhost:8156",
          "style": {
           "border": "none",
           "height": "100vh",
           "margin": "0",
           "padding": "0",
           "width": "100%"
          }
         },
         "type": "node"
        }
       ],
       "instanceArgs": {
        "handlers": {},
        "id": "3863313818476024141",
        "imports": {
         "data": [],
         "type": "async_block"
        },
        "mount_callbacks": [],
        "observables": {
         "curriculum-data": {
          "id": "ob_02",
          "sync": true,
          "value": {
           "curriculum": {
            "curriculum_terms": [
             {
              "curriculum_items": [
               {
                "credits": 3,
                "curriculum_requisites": [],
                "id": 1,
                "metrics": {},
                "name": "CS 1150",
                "nameCanonical": "",
                "nameSub": "Principles of Computer Science"
               },
               {
                "credits": 4,
                "curriculum_requisites": [],
                "id": 21,
                "metrics": {},
                "name": "MATH 1350",
                "nameCanonical": "",
                "nameSub": "Calculus I"
               },
               {
                "credits": 4,
                "curriculum_requisites": [
                 {
                  "source_id": 21,
                  "target_id": 27,
                  "type": "coreq"
                 }
                ],
                "id": 27,
                "metrics": {},
                "name": "PES 1110",
                "nameCanonical": "",
                "nameSub": "General Physics I"
               },
               {
                "credits": 3,
                "curriculum_requisites": [],
                "id": 31,
                "metrics": {},
                "name": "ENGL 1310",
                "nameCanonical": "",
                "nameSub": "Rhetoric & Writing"
               },
               {
                "credits": 1,
                "curriculum_requisites": [
                 {
                  "source_id": 27,
                  "target_id": 29,
                  "type": "coreq"
                 }
                ],
                "id": 29,
                "metrics": {},
                "name": "PES 1160",
                "nameCanonical": "",
                "nameSub": "General Physics Lab"
               },
               {
                "credits": 3,
                "curriculum_requisites": [],
                "id": 15,
                "metrics": {},
                "name": " ",
                "nameCanonical": "",
                "nameSub": "Computer Science Electives"
               },
               {
                "credits": 3,
                "curriculum_requisites": [],
                "id": 16,
                "metrics": {},
                "name": " ",
                "nameCanonical": "",
                "nameSub": "Computer Science Electives"
               }
              ],
              "id": 1,
              "name": "Term 1"
             },
             {
              "curriculum_items": [
               {
                "credits": 3,
                "curriculum_requisites": [
                 {
                  "source_id": 1,
                  "target_id": 2,
                  "type": "prereq"
                 }
                ],
                "id": 2,
                "metrics": {},
                "name": "CS 1450",
                "nameCanonical": "",
                "nameSub": "Data Structures & Algorithms"
               },
               {
                "credits": 3,
                "curriculum_requisites": [
                 {
                  "source_id": 1,
                  "target_id": 3,
                  "type": "prereq"
                 }
                ],
                "id": 3,
                "metrics": {},
                "name": "CS 2060",
                "nameCanonical": "",
                "nameSub": "Programming in C"
               },
               {
                "credits": 4,
                "curriculum_requisites": [
                 {
                  "source_id": 21,
                  "target_id": 22,
                  "type": "prereq"
                 }
                ],
                "id": 22,
                "metrics": {},
                "name": "MATH 1360",
                "nameCanonical": "",
                "nameSub": "Calculus II"
               },
               {
                "credits": 3,
                "curriculum_requisites": [
                 {
                  "source_id": 21,
                  "target_id": 23,
                  "type": "prereq"
                 }
                ],
                "id": 23,
                "metrics": {},
                "name": "MATH 2150",
                "nameCanonical": "",
                "nameSub": "Discrete Mathematics"
               },
               {
                "credits": 3,
                "curriculum_requisites": [
                 {
                  "source_id": 21,
                  "target_id": 25,
                  "type": "prereq"
                 }
                ],
                "id": 25,
                "metrics": {},
                "name": "MATH 3130",
                "nameCanonical": "",
                "nameSub": "Intro. to Linear Algebra"
               },
               {
                "credits": 3,
                "curriculum_requisites": [
                 {
                  "source_id": 31,
                  "target_id": 32,
                  "type": "prereq"
                 }
                ],
                "id": 32,
                "metrics": {},
                "name": "ENGL 2090",
                "nameCanonical": "",
                "nameSub": "Technical Writing & Presentation"
               },
               {
                "credits": 3,
                "curriculum_requisites": [],
                "id": 17,
                "metrics": {},
                "name": " ",
                "nameCanonical": "",
                "nameSub": "Computer Science Electives"
               }
              ],
              "id": 2,
              "name": "Term 2"
             },
             {
              "curriculum_items": [
               {
                "credits": 2,
                "curriculum_requisites": [
                 {
                  "source_id": 2,
                  "target_id": 4,
                  "type": "prereq"
                 }
                ],
                "id": 4,
                "metrics": {},
                "name": "CS 2080",
                "nameCanonical": "",
                "nameSub": "Programming with UNIX"
               },
               {
                "credits": 3,
                "curriculum_requisites": [
                 {
                  "source_id": 2,
                  "target_id": 5,
                  "type": "prereq"
                 },
                 {
                  "source_id": 3,
                  "target_id": 5,
                  "type": "prereq"
                 }
                ],
                "id": 5,
                "metrics": {},
                "name": "CS 2160",
                "nameCanonical": "",
                "nameSub": "Computer Org. & Assembly Language"
               },
               {
                "credits": 3,
                "curriculum_requisites": [
                 {
                  "source_id": 23,
                  "target_id": 13,
                  "type": "prereq"
                 },
                 {
                  "source_id": 25,
                  "target_id": 13,
                  "type": "prereq"
                 }
                ],
                "id": 13,
                "metrics": {},
                "name": "CS 4700",
                "nameCanonical": "",
                "nameSub": "Computability, Automata & Formal Lang"
               },
               {
                "credits": 4,
                "curriculum_requisites": [
                 {
                  "source_id": 22,
                  "target_id": 24,
                  "type": "prereq"
                 }
                ],
                "id": 24,
                "metrics": {},
                "name": "MATH 2350",
                "nameCanonical": "",
                "nameSub": "Calculus III"
               },
               {
                "credits": 3,
                "curriculum_requisites": [
                 {
                  "source_id": 23,
                  "target_id": 14,
                  "type": "prereq"
                 },
                 {
                  "source_id": 2,
                  "target_id": 14,
                  "type": "prereq"
                 }
                ],
                "id": 14,
                "metrics": {},
                "name": "CS 4720",
                "nameCanonical": "",
                "nameSub": "Design & Analysis of Algorithms"
               },
               {
                "credits": 4,
                "curriculum_requisites": [
                 {
                  "source_id": 27,
                  "target_id": 28,
                  "type": "prereq"
                 },
                 {
                  "source_id": 22,
                  "target_id": 28,
                  "type": "coreq"
                 }
                ],
                "id": 28,
                "metrics": {},
                "name": "PES 1120",
                "nameCanonical": "",
                "nameSub": "General Physics II"
               },
               {
                "credits": 0,
                "curriculum_requisites": [
                 {
                  "source_id": 32,
                  "target_id": 33,
                  "type": "prereq"
                 }
                ],
                "id": 33,
                "metrics": {},
                "name": "PORT 3000",
                "nameCanonical": "",
                "nameSub": "Writing Portfolio Assessment"
               },
               {
                "credits": 3,
                "curriculum_requisites": [],
                "id": 18,
                "metrics": {},
                "name": " ",
                "nameCanonical": "",
                "nameSub": "Technical Electives"
               }
              ],
              "id": 3,
              "name": "Term 3"
             },
             {
              "curriculum_items": [
               {
                "credits": 3,
                "curriculum_requisites": [
                 {
                  "source_id": 4,
                  "target_id": 7,
                  "type": "prereq"
                 },
                 {
                  "source_id": 3,
                  "target_id": 7,
                  "type": "prereq"
                 }
                ],
                "id": 7,
                "metrics": {},
                "name": "CS 3060",
                "nameCanonical": "",
                "nameSub": "Object Oriented Programming in C++"
               },
               {
                "credits": 3,
                "curriculum_requisites": [
                 {
                  "source_id": 5,
                  "target_id": 11,
                  "type": "prereq"
                 }
                ],
                "id": 11,
                "metrics": {},
                "name": "CS 4200",
                "nameCanonical": "",
                "nameSub": "Computer Architecture"
               },
               {
                "credits": 3,
                "curriculum_requisites": [
                 {
                  "source_id": 4,
                  "target_id": 6,
                  "type": "prereq"
                 }
                ],
                "id": 6,
                "metrics": {},
                "name": "CS 3040",
                "nameCanonical": "",
                "nameSub": "Computing Ethics"
               },
               {
                "credits": 3,
                "curriculum_requisites": [
                 {
                  "source_id": 24,
                  "target_id": 26,
                  "type": "prereq"
                 }
                ],
                "id": 26,
                "metrics": {},
                "name": "MATH 3810",
                "nameCanonical": "",
                "nameSub": "Intro. To Probability & Statistics"
               },
               {
                "credits": 3,
                "curriculum_requisites": [],
                "id": 19,
                "metrics": {},
                "name": " ",
                "nameCanonical": "",
                "nameSub": "Technical Electives"
               },
               {
                "credits": 3,
                "curriculum_requisites": [],
                "id": 20,
                "metrics": {},
                "name": " ",
                "nameCanonical": "",
                "nameSub": "Technical Electives"
               },
               {
                "credits": 3,
                "curriculum_requisites": [],
                "id": 34,
                "metrics": {},
                "name": " ",
                "nameCanonical": "",
                "nameSub": "Free Elective"
               }
              ],
              "id": 4,
              "name": "Term 4"
             },
             {
              "curriculum_items": [
               {
                "credits": 3,
                "curriculum_requisites": [
                 {
                  "source_id": 7,
                  "target_id": 8,
                  "type": "prereq"
                 },
                 {
                  "source_id": 3,
                  "target_id": 8,
                  "type": "prereq"
                 },
                 {
                  "source_id": 5,
                  "target_id": 8,
                  "type": "prereq"
                 }
                ],
                "id": 8,
                "metrics": {},
                "name": "CS 3160",
                "nameCanonical": "",
                "nameSub": "Concepts of Programming Languages"
               },
               {
                "credits": 3,
                "curriculum_requisites": [
                 {
                  "source_id": 4,
                  "target_id": 12,
                  "type": "prereq"
                 },
                 {
                  "source_id": 3,
                  "target_id": 12,
                  "type": "prereq"
                 },
                 {
                  "source_id": 11,
                  "target_id": 12,
                  "type": "prereq"
                 }
                ],
                "id": 12,
                "metrics": {},
                "name": "CS 4500",
                "nameCanonical": "",
                "nameSub": "Operating Systems"
               },
               {
                "credits": 5,
                "curriculum_requisites": [],
                "id": 30,
                "metrics": {},
                "name": " ",
                "nameCanonical": "",
                "nameSub": "Basic Science Requirement"
               },
               {
                "credits": 4,
                "curriculum_requisites": [],
                "id": 35,
                "metrics": {},
                "name": " ",
                "nameCanonical": "",
                "nameSub": "Free Elective"
               },
               {
                "credits": 3,
                "curriculum_requisites": [],
                "id": 36,
                "metrics": {},
                "name": " ",
                "nameCanonical": "",
                "nameSub": "Compass Curriculum Humanities/Social Science Requirements"
               },
               {
                "credits": 3,
                "curriculum_requisites": [],
                "id": 37,
                "metrics": {},
                "name": " ",
                "nameCanonical": "",
                "nameSub": "Compass Curriculum Humanities/Social Science Requirements"
               }
              ],
              "id": 5,
              "name": "Term 5"
             },
             {
              "curriculum_items": [
               {
                "credits": 3,
                "curriculum_requisites": [
                 {
                  "source_id": 7,
                  "target_id": 9,
                  "type": "prereq"
                 },
                 {
                  "source_id": 4,
                  "target_id": 9,
                  "type": "prereq"
                 },
                 {
                  "source_id": 8,
                  "target_id": 9,
                  "type": "prereq"
                 }
                ],
                "id": 9,
                "metrics": {},
                "name": "CS 3300",
                "nameCanonical": "",
                "nameSub": "Software Engineering"
               },
               {
                "credits": 3,
                "curriculum_requisites": [
                 {
                  "source_id": 13,
                  "target_id": 10,
                  "type": "prereq"
                 },
                 {
                  "source_id": 5,
                  "target_id": 10,
                  "type": "prereq"
                 },
                 {
                  "source_id": 8,
                  "target_id": 10,
                  "type": "prereq"
                 }
                ],
                "id": 10,
                "metrics": {},
                "name": "CS 4100",
                "nameCanonical": "",
                "nameSub": "Compiler Design"
               },
               {
                "credits": 3,
                "curriculum_requisites": [],
                "id": 38,
                "metrics": {},
                "name": " ",
                "nameCanonical": "",
                "nameSub": "Compass Curriculum Humanities/Social Science Requirements"
               },
               {
                "credits": 3,
                "curriculum_requisites": [],
                "id": 39,
                "metrics": {},
                "name": " ",
                "nameCanonical": "",
                "nameSub": "Compass Curriculum Humanities/Social Science Requirements"
               },
               {
                "credits": 3,
                "curriculum_requisites": [],
                "id": 40,
                "metrics": {},
                "name": " ",
                "nameCanonical": "",
                "nameSub": "Compass Curriculum Humanities/Social Science Requirements"
               },
               {
                "credits": 3,
                "curriculum_requisites": [],
                "id": 41,
                "metrics": {},
                "name": " ",
                "nameCanonical": "",
                "nameSub": "Compass Curriculum Humanities/Social Science Requirements"
               },
               {
                "credits": 3,
                "curriculum_requisites": [],
                "id": 42,
                "metrics": {},
                "name": " ",
                "nameCanonical": "",
                "nameSub": "Compass Curriculum Humanities/Social Science Requirements"
               }
              ],
              "id": 6,
              "name": "Term 6"
             }
            ],
            "dp_name": "",
            "institution": "University of Colorado Colorado Springs",
            "name": "Computer Science"
           },
           "options": {
            "edit": false,
            "hideTerms": true
           }
          }
         }
        },
        "systemjs_options": null
       },
       "nodeType": "Scope",
       "props": {},
       "type": "node"
      },
      "text/html": [
       "<div\n",
       "    class=\"webio-mountpoint\"\n",
       "    data-webio-mountpoint=\"5384643540748434441\"\n",
       ">\n",
       "    <script>\n",
       "    if (window.require && require.defined && require.defined(\"nbextensions/webio/main\")) {\n",
       "        console.log(\"Jupyter WebIO extension detected, not mounting.\");\n",
       "    } else if (window.WebIO) {\n",
       "        WebIO.mount(\n",
       "            document.querySelector('[data-webio-mountpoint=\"5384643540748434441\"]'),\n",
       "            {\"props\":{},\"nodeType\":\"Scope\",\"type\":\"node\",\"instanceArgs\":{\"imports\":{\"data\":[],\"type\":\"async_block\"},\"id\":\"3863313818476024141\",\"handlers\":{},\"systemjs_options\":null,\"mount_callbacks\":[],\"observables\":{\"curriculum-data\":{\"sync\":true,\"id\":\"ob_02\",\"value\":{\"options\":{\"hideTerms\":true,\"edit\":false},\"curriculum\":{\"name\":\"Computer Science\",\"dp_name\":\"\",\"curriculum_terms\":[{\"name\":\"Term 1\",\"curriculum_items\":[{\"curriculum_requisites\":[],\"name\":\"CS 1150\",\"metrics\":{},\"nameSub\":\"Principles of Computer Science\",\"id\":1,\"credits\":3,\"nameCanonical\":\"\"},{\"curriculum_requisites\":[],\"name\":\"MATH 1350\",\"metrics\":{},\"nameSub\":\"Calculus I\",\"id\":21,\"credits\":4,\"nameCanonical\":\"\"},{\"curriculum_requisites\":[{\"source_id\":21,\"target_id\":27,\"type\":\"coreq\"}],\"name\":\"PES 1110\",\"metrics\":{},\"nameSub\":\"General Physics I\",\"id\":27,\"credits\":4,\"nameCanonical\":\"\"},{\"curriculum_requisites\":[],\"name\":\"ENGL 1310\",\"metrics\":{},\"nameSub\":\"Rhetoric & Writing\",\"id\":31,\"credits\":3,\"nameCanonical\":\"\"},{\"curriculum_requisites\":[{\"source_id\":27,\"target_id\":29,\"type\":\"coreq\"}],\"name\":\"PES 1160\",\"metrics\":{},\"nameSub\":\"General Physics Lab\",\"id\":29,\"credits\":1,\"nameCanonical\":\"\"},{\"curriculum_requisites\":[],\"name\":\" \",\"metrics\":{},\"nameSub\":\"Computer Science Electives\",\"id\":15,\"credits\":3,\"nameCanonical\":\"\"},{\"curriculum_requisites\":[],\"name\":\" \",\"metrics\":{},\"nameSub\":\"Computer Science Electives\",\"id\":16,\"credits\":3,\"nameCanonical\":\"\"}],\"id\":1},{\"name\":\"Term 2\",\"curriculum_items\":[{\"curriculum_requisites\":[{\"source_id\":1,\"target_id\":2,\"type\":\"prereq\"}],\"name\":\"CS 1450\",\"metrics\":{},\"nameSub\":\"Data Structures & Algorithms\",\"id\":2,\"credits\":3,\"nameCanonical\":\"\"},{\"curriculum_requisites\":[{\"source_id\":1,\"target_id\":3,\"type\":\"prereq\"}],\"name\":\"CS 2060\",\"metrics\":{},\"nameSub\":\"Programming in C\",\"id\":3,\"credits\":3,\"nameCanonical\":\"\"},{\"curriculum_requisites\":[{\"source_id\":21,\"target_id\":22,\"type\":\"prereq\"}],\"name\":\"MATH 1360\",\"metrics\":{},\"nameSub\":\"Calculus II\",\"id\":22,\"credits\":4,\"nameCanonical\":\"\"},{\"curriculum_requisites\":[{\"source_id\":21,\"target_id\":23,\"type\":\"prereq\"}],\"name\":\"MATH 2150\",\"metrics\":{},\"nameSub\":\"Discrete Mathematics\",\"id\":23,\"credits\":3,\"nameCanonical\":\"\"},{\"curriculum_requisites\":[{\"source_id\":21,\"target_id\":25,\"type\":\"prereq\"}],\"name\":\"MATH 3130\",\"metrics\":{},\"nameSub\":\"Intro. to Linear Algebra\",\"id\":25,\"credits\":3,\"nameCanonical\":\"\"},{\"curriculum_requisites\":[{\"source_id\":31,\"target_id\":32,\"type\":\"prereq\"}],\"name\":\"ENGL 2090\",\"metrics\":{},\"nameSub\":\"Technical Writing & Presentation\",\"id\":32,\"credits\":3,\"nameCanonical\":\"\"},{\"curriculum_requisites\":[],\"name\":\" \",\"metrics\":{},\"nameSub\":\"Computer Science Electives\",\"id\":17,\"credits\":3,\"nameCanonical\":\"\"}],\"id\":2},{\"name\":\"Term 3\",\"curriculum_items\":[{\"curriculum_requisites\":[{\"source_id\":2,\"target_id\":4,\"type\":\"prereq\"}],\"name\":\"CS 2080\",\"metrics\":{},\"nameSub\":\"Programming with UNIX\",\"id\":4,\"credits\":2,\"nameCanonical\":\"\"},{\"curriculum_requisites\":[{\"source_id\":2,\"target_id\":5,\"type\":\"prereq\"},{\"source_id\":3,\"target_id\":5,\"type\":\"prereq\"}],\"name\":\"CS 2160\",\"metrics\":{},\"nameSub\":\"Computer Org. & Assembly Language\",\"id\":5,\"credits\":3,\"nameCanonical\":\"\"},{\"curriculum_requisites\":[{\"source_id\":23,\"target_id\":13,\"type\":\"prereq\"},{\"source_id\":25,\"target_id\":13,\"type\":\"prereq\"}],\"name\":\"CS 4700\",\"metrics\":{},\"nameSub\":\"Computability, Automata & Formal Lang\",\"id\":13,\"credits\":3,\"nameCanonical\":\"\"},{\"curriculum_requisites\":[{\"source_id\":22,\"target_id\":24,\"type\":\"prereq\"}],\"name\":\"MATH 2350\",\"metrics\":{},\"nameSub\":\"Calculus III\",\"id\":24,\"credits\":4,\"nameCanonical\":\"\"},{\"curriculum_requisites\":[{\"source_id\":23,\"target_id\":14,\"type\":\"prereq\"},{\"source_id\":2,\"target_id\":14,\"type\":\"prereq\"}],\"name\":\"CS 4720\",\"metrics\":{},\"nameSub\":\"Design & Analysis of Algorithms\",\"id\":14,\"credits\":3,\"nameCanonical\":\"\"},{\"curriculum_requisites\":[{\"source_id\":27,\"target_id\":28,\"type\":\"prereq\"},{\"source_id\":22,\"target_id\":28,\"type\":\"coreq\"}],\"name\":\"PES 1120\",\"metrics\":{},\"nameSub\":\"General Physics II\",\"id\":28,\"credits\":4,\"nameCanonical\":\"\"},{\"curriculum_requisites\":[{\"source_id\":32,\"target_id\":33,\"type\":\"prereq\"}],\"name\":\"PORT 3000\",\"metrics\":{},\"nameSub\":\"Writing Portfolio Assessment\",\"id\":33,\"credits\":0,\"nameCanonical\":\"\"},{\"curriculum_requisites\":[],\"name\":\" \",\"metrics\":{},\"nameSub\":\"Technical Electives\",\"id\":18,\"credits\":3,\"nameCanonical\":\"\"}],\"id\":3},{\"name\":\"Term 4\",\"curriculum_items\":[{\"curriculum_requisites\":[{\"source_id\":4,\"target_id\":7,\"type\":\"prereq\"},{\"source_id\":3,\"target_id\":7,\"type\":\"prereq\"}],\"name\":\"CS 3060\",\"metrics\":{},\"nameSub\":\"Object Oriented Programming in C++\",\"id\":7,\"credits\":3,\"nameCanonical\":\"\"},{\"curriculum_requisites\":[{\"source_id\":5,\"target_id\":11,\"type\":\"prereq\"}],\"name\":\"CS 4200\",\"metrics\":{},\"nameSub\":\"Computer Architecture\",\"id\":11,\"credits\":3,\"nameCanonical\":\"\"},{\"curriculum_requisites\":[{\"source_id\":4,\"target_id\":6,\"type\":\"prereq\"}],\"name\":\"CS 3040\",\"metrics\":{},\"nameSub\":\"Computing Ethics\",\"id\":6,\"credits\":3,\"nameCanonical\":\"\"},{\"curriculum_requisites\":[{\"source_id\":24,\"target_id\":26,\"type\":\"prereq\"}],\"name\":\"MATH 3810\",\"metrics\":{},\"nameSub\":\"Intro. To Probability & Statistics\",\"id\":26,\"credits\":3,\"nameCanonical\":\"\"},{\"curriculum_requisites\":[],\"name\":\" \",\"metrics\":{},\"nameSub\":\"Technical Electives\",\"id\":19,\"credits\":3,\"nameCanonical\":\"\"},{\"curriculum_requisites\":[],\"name\":\" \",\"metrics\":{},\"nameSub\":\"Technical Electives\",\"id\":20,\"credits\":3,\"nameCanonical\":\"\"},{\"curriculum_requisites\":[],\"name\":\" \",\"metrics\":{},\"nameSub\":\"Free Elective\",\"id\":34,\"credits\":3,\"nameCanonical\":\"\"}],\"id\":4},{\"name\":\"Term 5\",\"curriculum_items\":[{\"curriculum_requisites\":[{\"source_id\":7,\"target_id\":8,\"type\":\"prereq\"},{\"source_id\":3,\"target_id\":8,\"type\":\"prereq\"},{\"source_id\":5,\"target_id\":8,\"type\":\"prereq\"}],\"name\":\"CS 3160\",\"metrics\":{},\"nameSub\":\"Concepts of Programming Languages\",\"id\":8,\"credits\":3,\"nameCanonical\":\"\"},{\"curriculum_requisites\":[{\"source_id\":4,\"target_id\":12,\"type\":\"prereq\"},{\"source_id\":3,\"target_id\":12,\"type\":\"prereq\"},{\"source_id\":11,\"target_id\":12,\"type\":\"prereq\"}],\"name\":\"CS 4500\",\"metrics\":{},\"nameSub\":\"Operating Systems\",\"id\":12,\"credits\":3,\"nameCanonical\":\"\"},{\"curriculum_requisites\":[],\"name\":\" \",\"metrics\":{},\"nameSub\":\"Basic Science Requirement\",\"id\":30,\"credits\":5,\"nameCanonical\":\"\"},{\"curriculum_requisites\":[],\"name\":\" \",\"metrics\":{},\"nameSub\":\"Free Elective\",\"id\":35,\"credits\":4,\"nameCanonical\":\"\"},{\"curriculum_requisites\":[],\"name\":\" \",\"metrics\":{},\"nameSub\":\"Compass Curriculum Humanities\\/Social Science Requirements\",\"id\":36,\"credits\":3,\"nameCanonical\":\"\"},{\"curriculum_requisites\":[],\"name\":\" \",\"metrics\":{},\"nameSub\":\"Compass Curriculum Humanities\\/Social Science Requirements\",\"id\":37,\"credits\":3,\"nameCanonical\":\"\"}],\"id\":5},{\"name\":\"Term 6\",\"curriculum_items\":[{\"curriculum_requisites\":[{\"source_id\":7,\"target_id\":9,\"type\":\"prereq\"},{\"source_id\":4,\"target_id\":9,\"type\":\"prereq\"},{\"source_id\":8,\"target_id\":9,\"type\":\"prereq\"}],\"name\":\"CS 3300\",\"metrics\":{},\"nameSub\":\"Software Engineering\",\"id\":9,\"credits\":3,\"nameCanonical\":\"\"},{\"curriculum_requisites\":[{\"source_id\":13,\"target_id\":10,\"type\":\"prereq\"},{\"source_id\":5,\"target_id\":10,\"type\":\"prereq\"},{\"source_id\":8,\"target_id\":10,\"type\":\"prereq\"}],\"name\":\"CS 4100\",\"metrics\":{},\"nameSub\":\"Compiler Design\",\"id\":10,\"credits\":3,\"nameCanonical\":\"\"},{\"curriculum_requisites\":[],\"name\":\" \",\"metrics\":{},\"nameSub\":\"Compass Curriculum Humanities\\/Social Science Requirements\",\"id\":38,\"credits\":3,\"nameCanonical\":\"\"},{\"curriculum_requisites\":[],\"name\":\" \",\"metrics\":{},\"nameSub\":\"Compass Curriculum Humanities\\/Social Science Requirements\",\"id\":39,\"credits\":3,\"nameCanonical\":\"\"},{\"curriculum_requisites\":[],\"name\":\" \",\"metrics\":{},\"nameSub\":\"Compass Curriculum Humanities\\/Social Science Requirements\",\"id\":40,\"credits\":3,\"nameCanonical\":\"\"},{\"curriculum_requisites\":[],\"name\":\" \",\"metrics\":{},\"nameSub\":\"Compass Curriculum Humanities\\/Social Science Requirements\",\"id\":41,\"credits\":3,\"nameCanonical\":\"\"},{\"curriculum_requisites\":[],\"name\":\" \",\"metrics\":{},\"nameSub\":\"Compass Curriculum Humanities\\/Social Science Requirements\",\"id\":42,\"credits\":3,\"nameCanonical\":\"\"}],\"id\":6}],\"institution\":\"University of Colorado Colorado Springs\"}}}}},\"children\":[{\"props\":{\"src\":\"http:\\/\\/localhost:8156\",\"id\":\"curriculum\",\"events\":{\"load\":\"(function (){this.contentWindow.postMessage({\\\"options\\\":{\\\"hideTerms\\\":true,\\\"edit\\\":false},\\\"curriculum\\\":{\\\"name\\\":\\\"Computer Science\\\",\\\"dp_name\\\":\\\"\\\",\\\"curriculum_terms\\\":[{\\\"name\\\":\\\"Term 1\\\",\\\"curriculum_items\\\":[{\\\"curriculum_requisites\\\":[],\\\"name\\\":\\\"CS 1150\\\",\\\"metrics\\\":{},\\\"nameSub\\\":\\\"Principles of Computer Science\\\",\\\"id\\\":1,\\\"credits\\\":3,\\\"nameCanonical\\\":\\\"\\\"},{\\\"curriculum_requisites\\\":[],\\\"name\\\":\\\"MATH 1350\\\",\\\"metrics\\\":{},\\\"nameSub\\\":\\\"Calculus I\\\",\\\"id\\\":21,\\\"credits\\\":4,\\\"nameCanonical\\\":\\\"\\\"},{\\\"curriculum_requisites\\\":[{\\\"source_id\\\":21,\\\"target_id\\\":27,\\\"type\\\":\\\"coreq\\\"}],\\\"name\\\":\\\"PES 1110\\\",\\\"metrics\\\":{},\\\"nameSub\\\":\\\"General Physics I\\\",\\\"id\\\":27,\\\"credits\\\":4,\\\"nameCanonical\\\":\\\"\\\"},{\\\"curriculum_requisites\\\":[],\\\"name\\\":\\\"ENGL 1310\\\",\\\"metrics\\\":{},\\\"nameSub\\\":\\\"Rhetoric & Writing\\\",\\\"id\\\":31,\\\"credits\\\":3,\\\"nameCanonical\\\":\\\"\\\"},{\\\"curriculum_requisites\\\":[{\\\"source_id\\\":27,\\\"target_id\\\":29,\\\"type\\\":\\\"coreq\\\"}],\\\"name\\\":\\\"PES 1160\\\",\\\"metrics\\\":{},\\\"nameSub\\\":\\\"General Physics Lab\\\",\\\"id\\\":29,\\\"credits\\\":1,\\\"nameCanonical\\\":\\\"\\\"},{\\\"curriculum_requisites\\\":[],\\\"name\\\":\\\" \\\",\\\"metrics\\\":{},\\\"nameSub\\\":\\\"Computer Science Electives\\\",\\\"id\\\":15,\\\"credits\\\":3,\\\"nameCanonical\\\":\\\"\\\"},{\\\"curriculum_requisites\\\":[],\\\"name\\\":\\\" \\\",\\\"metrics\\\":{},\\\"nameSub\\\":\\\"Computer Science Electives\\\",\\\"id\\\":16,\\\"credits\\\":3,\\\"nameCanonical\\\":\\\"\\\"}],\\\"id\\\":1},{\\\"name\\\":\\\"Term 2\\\",\\\"curriculum_items\\\":[{\\\"curriculum_requisites\\\":[{\\\"source_id\\\":1,\\\"target_id\\\":2,\\\"type\\\":\\\"prereq\\\"}],\\\"name\\\":\\\"CS 1450\\\",\\\"metrics\\\":{},\\\"nameSub\\\":\\\"Data Structures & Algorithms\\\",\\\"id\\\":2,\\\"credits\\\":3,\\\"nameCanonical\\\":\\\"\\\"},{\\\"curriculum_requisites\\\":[{\\\"source_id\\\":1,\\\"target_id\\\":3,\\\"type\\\":\\\"prereq\\\"}],\\\"name\\\":\\\"CS 2060\\\",\\\"metrics\\\":{},\\\"nameSub\\\":\\\"Programming in C\\\",\\\"id\\\":3,\\\"credits\\\":3,\\\"nameCanonical\\\":\\\"\\\"},{\\\"curriculum_requisites\\\":[{\\\"source_id\\\":21,\\\"target_id\\\":22,\\\"type\\\":\\\"prereq\\\"}],\\\"name\\\":\\\"MATH 1360\\\",\\\"metrics\\\":{},\\\"nameSub\\\":\\\"Calculus II\\\",\\\"id\\\":22,\\\"credits\\\":4,\\\"nameCanonical\\\":\\\"\\\"},{\\\"curriculum_requisites\\\":[{\\\"source_id\\\":21,\\\"target_id\\\":23,\\\"type\\\":\\\"prereq\\\"}],\\\"name\\\":\\\"MATH 2150\\\",\\\"metrics\\\":{},\\\"nameSub\\\":\\\"Discrete Mathematics\\\",\\\"id\\\":23,\\\"credits\\\":3,\\\"nameCanonical\\\":\\\"\\\"},{\\\"curriculum_requisites\\\":[{\\\"source_id\\\":21,\\\"target_id\\\":25,\\\"type\\\":\\\"prereq\\\"}],\\\"name\\\":\\\"MATH 3130\\\",\\\"metrics\\\":{},\\\"nameSub\\\":\\\"Intro. to Linear Algebra\\\",\\\"id\\\":25,\\\"credits\\\":3,\\\"nameCanonical\\\":\\\"\\\"},{\\\"curriculum_requisites\\\":[{\\\"source_id\\\":31,\\\"target_id\\\":32,\\\"type\\\":\\\"prereq\\\"}],\\\"name\\\":\\\"ENGL 2090\\\",\\\"metrics\\\":{},\\\"nameSub\\\":\\\"Technical Writing & Presentation\\\",\\\"id\\\":32,\\\"credits\\\":3,\\\"nameCanonical\\\":\\\"\\\"},{\\\"curriculum_requisites\\\":[],\\\"name\\\":\\\" \\\",\\\"metrics\\\":{},\\\"nameSub\\\":\\\"Computer Science Electives\\\",\\\"id\\\":17,\\\"credits\\\":3,\\\"nameCanonical\\\":\\\"\\\"}],\\\"id\\\":2},{\\\"name\\\":\\\"Term 3\\\",\\\"curriculum_items\\\":[{\\\"curriculum_requisites\\\":[{\\\"source_id\\\":2,\\\"target_id\\\":4,\\\"type\\\":\\\"prereq\\\"}],\\\"name\\\":\\\"CS 2080\\\",\\\"metrics\\\":{},\\\"nameSub\\\":\\\"Programming with UNIX\\\",\\\"id\\\":4,\\\"credits\\\":2,\\\"nameCanonical\\\":\\\"\\\"},{\\\"curriculum_requisites\\\":[{\\\"source_id\\\":2,\\\"target_id\\\":5,\\\"type\\\":\\\"prereq\\\"},{\\\"source_id\\\":3,\\\"target_id\\\":5,\\\"type\\\":\\\"prereq\\\"}],\\\"name\\\":\\\"CS 2160\\\",\\\"metrics\\\":{},\\\"nameSub\\\":\\\"Computer Org. & Assembly Language\\\",\\\"id\\\":5,\\\"credits\\\":3,\\\"nameCanonical\\\":\\\"\\\"},{\\\"curriculum_requisites\\\":[{\\\"source_id\\\":23,\\\"target_id\\\":13,\\\"type\\\":\\\"prereq\\\"},{\\\"source_id\\\":25,\\\"target_id\\\":13,\\\"type\\\":\\\"prereq\\\"}],\\\"name\\\":\\\"CS 4700\\\",\\\"metrics\\\":{},\\\"nameSub\\\":\\\"Computability, Automata & Formal Lang\\\",\\\"id\\\":13,\\\"credits\\\":3,\\\"nameCanonical\\\":\\\"\\\"},{\\\"curriculum_requisites\\\":[{\\\"source_id\\\":22,\\\"target_id\\\":24,\\\"type\\\":\\\"prereq\\\"}],\\\"name\\\":\\\"MATH 2350\\\",\\\"metrics\\\":{},\\\"nameSub\\\":\\\"Calculus III\\\",\\\"id\\\":24,\\\"credits\\\":4,\\\"nameCanonical\\\":\\\"\\\"},{\\\"curriculum_requisites\\\":[{\\\"source_id\\\":23,\\\"target_id\\\":14,\\\"type\\\":\\\"prereq\\\"},{\\\"source_id\\\":2,\\\"target_id\\\":14,\\\"type\\\":\\\"prereq\\\"}],\\\"name\\\":\\\"CS 4720\\\",\\\"metrics\\\":{},\\\"nameSub\\\":\\\"Design & Analysis of Algorithms\\\",\\\"id\\\":14,\\\"credits\\\":3,\\\"nameCanonical\\\":\\\"\\\"},{\\\"curriculum_requisites\\\":[{\\\"source_id\\\":27,\\\"target_id\\\":28,\\\"type\\\":\\\"prereq\\\"},{\\\"source_id\\\":22,\\\"target_id\\\":28,\\\"type\\\":\\\"coreq\\\"}],\\\"name\\\":\\\"PES 1120\\\",\\\"metrics\\\":{},\\\"nameSub\\\":\\\"General Physics II\\\",\\\"id\\\":28,\\\"credits\\\":4,\\\"nameCanonical\\\":\\\"\\\"},{\\\"curriculum_requisites\\\":[{\\\"source_id\\\":32,\\\"target_id\\\":33,\\\"type\\\":\\\"prereq\\\"}],\\\"name\\\":\\\"PORT 3000\\\",\\\"metrics\\\":{},\\\"nameSub\\\":\\\"Writing Portfolio Assessment\\\",\\\"id\\\":33,\\\"credits\\\":0,\\\"nameCanonical\\\":\\\"\\\"},{\\\"curriculum_requisites\\\":[],\\\"name\\\":\\\" \\\",\\\"metrics\\\":{},\\\"nameSub\\\":\\\"Technical Electives\\\",\\\"id\\\":18,\\\"credits\\\":3,\\\"nameCanonical\\\":\\\"\\\"}],\\\"id\\\":3},{\\\"name\\\":\\\"Term 4\\\",\\\"curriculum_items\\\":[{\\\"curriculum_requisites\\\":[{\\\"source_id\\\":4,\\\"target_id\\\":7,\\\"type\\\":\\\"prereq\\\"},{\\\"source_id\\\":3,\\\"target_id\\\":7,\\\"type\\\":\\\"prereq\\\"}],\\\"name\\\":\\\"CS 3060\\\",\\\"metrics\\\":{},\\\"nameSub\\\":\\\"Object Oriented Programming in C++\\\",\\\"id\\\":7,\\\"credits\\\":3,\\\"nameCanonical\\\":\\\"\\\"},{\\\"curriculum_requisites\\\":[{\\\"source_id\\\":5,\\\"target_id\\\":11,\\\"type\\\":\\\"prereq\\\"}],\\\"name\\\":\\\"CS 4200\\\",\\\"metrics\\\":{},\\\"nameSub\\\":\\\"Computer Architecture\\\",\\\"id\\\":11,\\\"credits\\\":3,\\\"nameCanonical\\\":\\\"\\\"},{\\\"curriculum_requisites\\\":[{\\\"source_id\\\":4,\\\"target_id\\\":6,\\\"type\\\":\\\"prereq\\\"}],\\\"name\\\":\\\"CS 3040\\\",\\\"metrics\\\":{},\\\"nameSub\\\":\\\"Computing Ethics\\\",\\\"id\\\":6,\\\"credits\\\":3,\\\"nameCanonical\\\":\\\"\\\"},{\\\"curriculum_requisites\\\":[{\\\"source_id\\\":24,\\\"target_id\\\":26,\\\"type\\\":\\\"prereq\\\"}],\\\"name\\\":\\\"MATH 3810\\\",\\\"metrics\\\":{},\\\"nameSub\\\":\\\"Intro. To Probability & Statistics\\\",\\\"id\\\":26,\\\"credits\\\":3,\\\"nameCanonical\\\":\\\"\\\"},{\\\"curriculum_requisites\\\":[],\\\"name\\\":\\\" \\\",\\\"metrics\\\":{},\\\"nameSub\\\":\\\"Technical Electives\\\",\\\"id\\\":19,\\\"credits\\\":3,\\\"nameCanonical\\\":\\\"\\\"},{\\\"curriculum_requisites\\\":[],\\\"name\\\":\\\" \\\",\\\"metrics\\\":{},\\\"nameSub\\\":\\\"Technical Electives\\\",\\\"id\\\":20,\\\"credits\\\":3,\\\"nameCanonical\\\":\\\"\\\"},{\\\"curriculum_requisites\\\":[],\\\"name\\\":\\\" \\\",\\\"metrics\\\":{},\\\"nameSub\\\":\\\"Free Elective\\\",\\\"id\\\":34,\\\"credits\\\":3,\\\"nameCanonical\\\":\\\"\\\"}],\\\"id\\\":4},{\\\"name\\\":\\\"Term 5\\\",\\\"curriculum_items\\\":[{\\\"curriculum_requisites\\\":[{\\\"source_id\\\":7,\\\"target_id\\\":8,\\\"type\\\":\\\"prereq\\\"},{\\\"source_id\\\":3,\\\"target_id\\\":8,\\\"type\\\":\\\"prereq\\\"},{\\\"source_id\\\":5,\\\"target_id\\\":8,\\\"type\\\":\\\"prereq\\\"}],\\\"name\\\":\\\"CS 3160\\\",\\\"metrics\\\":{},\\\"nameSub\\\":\\\"Concepts of Programming Languages\\\",\\\"id\\\":8,\\\"credits\\\":3,\\\"nameCanonical\\\":\\\"\\\"},{\\\"curriculum_requisites\\\":[{\\\"source_id\\\":4,\\\"target_id\\\":12,\\\"type\\\":\\\"prereq\\\"},{\\\"source_id\\\":3,\\\"target_id\\\":12,\\\"type\\\":\\\"prereq\\\"},{\\\"source_id\\\":11,\\\"target_id\\\":12,\\\"type\\\":\\\"prereq\\\"}],\\\"name\\\":\\\"CS 4500\\\",\\\"metrics\\\":{},\\\"nameSub\\\":\\\"Operating Systems\\\",\\\"id\\\":12,\\\"credits\\\":3,\\\"nameCanonical\\\":\\\"\\\"},{\\\"curriculum_requisites\\\":[],\\\"name\\\":\\\" \\\",\\\"metrics\\\":{},\\\"nameSub\\\":\\\"Basic Science Requirement\\\",\\\"id\\\":30,\\\"credits\\\":5,\\\"nameCanonical\\\":\\\"\\\"},{\\\"curriculum_requisites\\\":[],\\\"name\\\":\\\" \\\",\\\"metrics\\\":{},\\\"nameSub\\\":\\\"Free Elective\\\",\\\"id\\\":35,\\\"credits\\\":4,\\\"nameCanonical\\\":\\\"\\\"},{\\\"curriculum_requisites\\\":[],\\\"name\\\":\\\" \\\",\\\"metrics\\\":{},\\\"nameSub\\\":\\\"Compass Curriculum Humanities\\/Social Science Requirements\\\",\\\"id\\\":36,\\\"credits\\\":3,\\\"nameCanonical\\\":\\\"\\\"},{\\\"curriculum_requisites\\\":[],\\\"name\\\":\\\" \\\",\\\"metrics\\\":{},\\\"nameSub\\\":\\\"Compass Curriculum Humanities\\/Social Science Requirements\\\",\\\"id\\\":37,\\\"credits\\\":3,\\\"nameCanonical\\\":\\\"\\\"}],\\\"id\\\":5},{\\\"name\\\":\\\"Term 6\\\",\\\"curriculum_items\\\":[{\\\"curriculum_requisites\\\":[{\\\"source_id\\\":7,\\\"target_id\\\":9,\\\"type\\\":\\\"prereq\\\"},{\\\"source_id\\\":4,\\\"target_id\\\":9,\\\"type\\\":\\\"prereq\\\"},{\\\"source_id\\\":8,\\\"target_id\\\":9,\\\"type\\\":\\\"prereq\\\"}],\\\"name\\\":\\\"CS 3300\\\",\\\"metrics\\\":{},\\\"nameSub\\\":\\\"Software Engineering\\\",\\\"id\\\":9,\\\"credits\\\":3,\\\"nameCanonical\\\":\\\"\\\"},{\\\"curriculum_requisites\\\":[{\\\"source_id\\\":13,\\\"target_id\\\":10,\\\"type\\\":\\\"prereq\\\"},{\\\"source_id\\\":5,\\\"target_id\\\":10,\\\"type\\\":\\\"prereq\\\"},{\\\"source_id\\\":8,\\\"target_id\\\":10,\\\"type\\\":\\\"prereq\\\"}],\\\"name\\\":\\\"CS 4100\\\",\\\"metrics\\\":{},\\\"nameSub\\\":\\\"Compiler Design\\\",\\\"id\\\":10,\\\"credits\\\":3,\\\"nameCanonical\\\":\\\"\\\"},{\\\"curriculum_requisites\\\":[],\\\"name\\\":\\\" \\\",\\\"metrics\\\":{},\\\"nameSub\\\":\\\"Compass Curriculum Humanities\\/Social Science Requirements\\\",\\\"id\\\":38,\\\"credits\\\":3,\\\"nameCanonical\\\":\\\"\\\"},{\\\"curriculum_requisites\\\":[],\\\"name\\\":\\\" \\\",\\\"metrics\\\":{},\\\"nameSub\\\":\\\"Compass Curriculum Humanities\\/Social Science Requirements\\\",\\\"id\\\":39,\\\"credits\\\":3,\\\"nameCanonical\\\":\\\"\\\"},{\\\"curriculum_requisites\\\":[],\\\"name\\\":\\\" \\\",\\\"metrics\\\":{},\\\"nameSub\\\":\\\"Compass Curriculum Humanities\\/Social Science Requirements\\\",\\\"id\\\":40,\\\"credits\\\":3,\\\"nameCanonical\\\":\\\"\\\"},{\\\"curriculum_requisites\\\":[],\\\"name\\\":\\\" \\\",\\\"metrics\\\":{},\\\"nameSub\\\":\\\"Compass Curriculum Humanities\\/Social Science Requirements\\\",\\\"id\\\":41,\\\"credits\\\":3,\\\"nameCanonical\\\":\\\"\\\"},{\\\"curriculum_requisites\\\":[],\\\"name\\\":\\\" \\\",\\\"metrics\\\":{},\\\"nameSub\\\":\\\"Compass Curriculum Humanities\\/Social Science Requirements\\\",\\\"id\\\":42,\\\"credits\\\":3,\\\"nameCanonical\\\":\\\"\\\"}],\\\"id\\\":6}],\\\"institution\\\":\\\"University of Colorado Colorado Springs\\\"}},\\\"*\\\"); window.removeEventListener(\\\"message\\\",window.messageReceived); window.messageReceived=(function (event){return (event.data.curriculum!==undefined) ? (WebIO.setval({\\\"name\\\":\\\"curriculum-data\\\",\\\"scope\\\":\\\"3863313818476024141\\\",\\\"id\\\":\\\"ob_02\\\",\\\"type\\\":\\\"observable\\\"},event.data.curriculum)) : undefined}); return window.addEventListener(\\\"message\\\",window.messageReceived)})\"},\"style\":{\"padding\":\"0\",\"height\":\"100vh\",\"margin\":\"0\",\"border\":\"none\",\"width\":\"100%\"}},\"nodeType\":\"DOM\",\"type\":\"node\",\"instanceArgs\":{\"namespace\":\"html\",\"tag\":\"iframe\"},\"children\":[\"\"]}]},\n",
       "            window,\n",
       "        );\n",
       "    } else {\n",
       "        document\n",
       "            .querySelector('[data-webio-mountpoint=\"5384643540748434441\"]')\n",
       "            .innerHTML = '<strong>WebIO not detected.</strong>';\n",
       "    }\n",
       "    </script>\n",
       "</div>\n"
      ],
      "text/plain": [
       "WebIO.Scope(WebIO.Node{WebIO.DOM}(WebIO.DOM(:html, :iframe), Any[\"\"], Dict{Symbol,Any}(:src=>\"http://localhost:8156\",:id=>\"curriculum\",:events=>Dict(:load=>JSString(\"(function (){this.contentWindow.postMessage({\\\"options\\\":{\\\"hideTerms\\\":true,\\\"edit\\\":false},\\\"curriculum\\\":{\\\"name\\\":\\\"Computer Science\\\",\\\"dp_name\\\":\\\"\\\",\\\"curriculum_terms\\\":[{\\\"name\\\":\\\"Term 1\\\",\\\"curriculum_items\\\":[{\\\"curriculum_requisites\\\":[],\\\"name\\\":\\\"CS 1150\\\",\\\"metrics\\\":{},\\\"nameSub\\\":\\\"Principles of Computer Science\\\",\\\"id\\\":1,\\\"credits\\\":3,\\\"nameCanonical\\\":\\\"\\\"},{\\\"curriculum_requisites\\\":[],\\\"name\\\":\\\"MATH 1350\\\",\\\"metrics\\\":{},\\\"nameSub\\\":\\\"Calculus I\\\",\\\"id\\\":21,\\\"credits\\\":4,\\\"nameCanonical\\\":\\\"\\\"},{\\\"curriculum_requisites\\\":[{\\\"source_id\\\":21,\\\"target_id\\\":27,\\\"type\\\":\\\"coreq\\\"}],\\\"name\\\":\\\"PES 1110\\\",\\\"metrics\\\":{},\\\"nameSub\\\":\\\"General Physics I\\\",\\\"id\\\":27,\\\"credits\\\":4,\\\"nameCanonical\\\":\\\"\\\"},{\\\"curriculum_requisites\\\":[],\\\"name\\\":\\\"ENGL 1310\\\",\\\"metrics\\\":{},\\\"nameSub\\\":\\\"Rhetoric & Writing\\\",\\\"id\\\":31,\\\"credits\\\":3,\\\"nameCanonical\\\":\\\"\\\"},{\\\"curriculum_requisites\\\":[{\\\"source_id\\\":27,\\\"target_id\\\":29,\\\"type\\\":\\\"coreq\\\"}],\\\"name\\\":\\\"PES 1160\\\",\\\"metrics\\\":{},\\\"nameSub\\\":\\\"General Physics Lab\\\",\\\"id\\\":29,\\\"credits\\\":1,\\\"nameCanonical\\\":\\\"\\\"},{\\\"curriculum_requisites\\\":[],\\\"name\\\":\\\" \\\",\\\"metrics\\\":{},\\\"nameSub\\\":\\\"Computer Science Electives\\\",\\\"id\\\":15,\\\"credits\\\":3,\\\"nameCanonical\\\":\\\"\\\"},{\\\"curriculum_requisites\\\":[],\\\"name\\\":\\\" \\\",\\\"metrics\\\":{},\\\"nameSub\\\":\\\"Computer Science Electives\\\",\\\"id\\\":16,\\\"credits\\\":3,\\\"nameCanonical\\\":\\\"\\\"}],\\\"id\\\":1},{\\\"name\\\":\\\"Term 2\\\",\\\"curriculum_items\\\":[{\\\"curriculum_requisites\\\":[{\\\"source_id\\\":1,\\\"target_id\\\":2,\\\"type\\\":\\\"prereq\\\"}],\\\"name\\\":\\\"CS 1450\\\",\\\"metrics\\\":{},\\\"nameSub\\\":\\\"Data Structures & Algorithms\\\",\\\"id\\\":2,\\\"credits\\\":3,\\\"nameCanonical\\\":\\\"\\\"},{\\\"curriculum_requisites\\\":[{\\\"source_id\\\":1,\\\"target_id\\\":3,\\\"type\\\":\\\"prereq\\\"}],\\\"name\\\":\\\"CS 2060\\\",\\\"metrics\\\":{},\\\"nameSub\\\":\\\"Programming in C\\\",\\\"id\\\":3,\\\"credits\\\":3,\\\"nameCanonical\\\":\\\"\\\"},{\\\"curriculum_requisites\\\":[{\\\"source_id\\\":21,\\\"target_id\\\":22,\\\"type\\\":\\\"prereq\\\"}],\\\"name\\\":\\\"MATH 1360\\\",\\\"metrics\\\":{},\\\"nameSub\\\":\\\"Calculus II\\\",\\\"id\\\":22,\\\"credits\\\":4,\\\"nameCanonical\\\":\\\"\\\"},{\\\"curriculum_requisites\\\":[{\\\"source_id\\\":21,\\\"target_id\\\":23,\\\"type\\\":\\\"prereq\\\"}],\\\"name\\\":\\\"MATH 2150\\\",\\\"metrics\\\":{},\\\"nameSub\\\":\\\"Discrete Mathematics\\\",\\\"id\\\":23,\\\"credits\\\":3,\\\"nameCanonical\\\":\\\"\\\"},{\\\"curriculum_requisites\\\":[{\\\"source_id\\\":21,\\\"target_id\\\":25,\\\"type\\\":\\\"prereq\\\"}],\\\"name\\\":\\\"MATH 3130\\\",\\\"metrics\\\":{},\\\"nameSub\\\":\\\"Intro. to Linear Algebra\\\",\\\"id\\\":25,\\\"credits\\\":3,\\\"nameCanonical\\\":\\\"\\\"},{\\\"curriculum_requisites\\\":[{\\\"source_id\\\":31,\\\"target_id\\\":32,\\\"type\\\":\\\"prereq\\\"}],\\\"name\\\":\\\"ENGL 2090\\\",\\\"metrics\\\":{},\\\"nameSub\\\":\\\"Technical Writing & Presentation\\\",\\\"id\\\":32,\\\"credits\\\":3,\\\"nameCanonical\\\":\\\"\\\"},{\\\"curriculum_requisites\\\":[],\\\"name\\\":\\\" \\\",\\\"metrics\\\":{},\\\"nameSub\\\":\\\"Computer Science Electives\\\",\\\"id\\\":17,\\\"credits\\\":3,\\\"nameCanonical\\\":\\\"\\\"}],\\\"id\\\":2},{\\\"name\\\":\\\"Term 3\\\",\\\"curriculum_items\\\":[{\\\"curriculum_requisites\\\":[{\\\"source_id\\\":2,\\\"target_id\\\":4,\\\"type\\\":\\\"prereq\\\"}],\\\"name\\\":\\\"CS 2080\\\",\\\"metrics\\\":{},\\\"nameSub\\\":\\\"Programming with UNIX\\\",\\\"id\\\":4,\\\"credits\\\":2,\\\"nameCanonical\\\":\\\"\\\"},{\\\"curriculum_requisites\\\":[{\\\"source_id\\\":2,\\\"target_id\\\":5,\\\"type\\\":\\\"prereq\\\"},{\\\"source_id\\\":3,\\\"target_id\\\":5,\\\"type\\\":\\\"prereq\\\"}],\\\"name\\\":\\\"CS 2160\\\",\\\"metrics\\\":{},\\\"nameSub\\\":\\\"Computer Org. & Assembly Language\\\",\\\"id\\\":5,\\\"credits\\\":3,\\\"nameCanonical\\\":\\\"\\\"},{\\\"curriculum_requisites\\\":[{\\\"source_id\\\":23,\\\"target_id\\\":13,\\\"type\\\":\\\"prereq\\\"},{\\\"source_id\\\":25,\\\"target_id\\\":13,\\\"type\\\":\\\"prereq\\\"}],\\\"name\\\":\\\"CS 4700\\\",\\\"metrics\\\":{},\\\"nameSub\\\":\\\"Computability, Automata & Formal Lang\\\",\\\"id\\\":13,\\\"credits\\\":3,\\\"nameCanonical\\\":\\\"\\\"},{\\\"curriculum_requisites\\\":[{\\\"source_id\\\":22,\\\"target_id\\\":24,\\\"type\\\":\\\"prereq\\\"}],\\\"name\\\":\\\"MATH 2350\\\",\\\"metrics\\\":{},\\\"nameSub\\\":\\\"Calculus III\\\",\\\"id\\\":24,\\\"credits\\\":4,\\\"nameCanonical\\\":\\\"\\\"},{\\\"curriculum_requisites\\\":[{\\\"source_id\\\":23,\\\"target_id\\\":14,\\\"type\\\":\\\"prereq\\\"},{\\\"source_id\\\":2,\\\"target_id\\\":14,\\\"type\\\":\\\"prereq\\\"}],\\\"name\\\":\\\"CS 4720\\\",\\\"metrics\\\":{},\\\"nameSub\\\":\\\"Design & Analysis of Algorithms\\\",\\\"id\\\":14,\\\"credits\\\":3,\\\"nameCanonical\\\":\\\"\\\"},{\\\"curriculum_requisites\\\":[{\\\"source_id\\\":27,\\\"target_id\\\":28,\\\"type\\\":\\\"prereq\\\"},{\\\"source_id\\\":22,\\\"target_id\\\":28,\\\"type\\\":\\\"coreq\\\"}],\\\"name\\\":\\\"PES 1120\\\",\\\"metrics\\\":{},\\\"nameSub\\\":\\\"General Physics II\\\",\\\"id\\\":28,\\\"credits\\\":4,\\\"nameCanonical\\\":\\\"\\\"},{\\\"curriculum_requisites\\\":[{\\\"source_id\\\":32,\\\"target_id\\\":33,\\\"type\\\":\\\"prereq\\\"}],\\\"name\\\":\\\"PORT 3000\\\",\\\"metrics\\\":{},\\\"nameSub\\\":\\\"Writing Portfolio Assessment\\\",\\\"id\\\":33,\\\"credits\\\":0,\\\"nameCanonical\\\":\\\"\\\"},{\\\"curriculum_requisites\\\":[],\\\"name\\\":\\\" \\\",\\\"metrics\\\":{},\\\"nameSub\\\":\\\"Technical Electives\\\",\\\"id\\\":18,\\\"credits\\\":3,\\\"nameCanonical\\\":\\\"\\\"}],\\\"id\\\":3},{\\\"name\\\":\\\"Term 4\\\",\\\"curriculum_items\\\":[{\\\"curriculum_requisites\\\":[{\\\"source_id\\\":4,\\\"target_id\\\":7,\\\"type\\\":\\\"prereq\\\"},{\\\"source_id\\\":3,\\\"target_id\\\":7,\\\"type\\\":\\\"prereq\\\"}],\\\"name\\\":\\\"CS 3060\\\",\\\"metrics\\\":{},\\\"nameSub\\\":\\\"Object Oriented Programming in C++\\\",\\\"id\\\":7,\\\"credits\\\":3,\\\"nameCanonical\\\":\\\"\\\"},{\\\"curriculum_requisites\\\":[{\\\"source_id\\\":5,\\\"target_id\\\":11,\\\"type\\\":\\\"prereq\\\"}],\\\"name\\\":\\\"CS 4200\\\",\\\"metrics\\\":{},\\\"nameSub\\\":\\\"Computer Architecture\\\",\\\"id\\\":11,\\\"credits\\\":3,\\\"nameCanonical\\\":\\\"\\\"},{\\\"curriculum_requisites\\\":[{\\\"source_id\\\":4,\\\"target_id\\\":6,\\\"type\\\":\\\"prereq\\\"}],\\\"name\\\":\\\"CS 3040\\\",\\\"metrics\\\":{},\\\"nameSub\\\":\\\"Computing Ethics\\\",\\\"id\\\":6,\\\"credits\\\":3,\\\"nameCanonical\\\":\\\"\\\"},{\\\"curriculum_requisites\\\":[{\\\"source_id\\\":24,\\\"target_id\\\":26,\\\"type\\\":\\\"prereq\\\"}],\\\"name\\\":\\\"MATH 3810\\\",\\\"metrics\\\":{},\\\"nameSub\\\":\\\"Intro. To Probability & Statistics\\\",\\\"id\\\":26,\\\"credits\\\":3,\\\"nameCanonical\\\":\\\"\\\"},{\\\"curriculum_requisites\\\":[],\\\"name\\\":\\\" \\\",\\\"metrics\\\":{},\\\"nameSub\\\":\\\"Technical Electives\\\",\\\"id\\\":19,\\\"credits\\\":3,\\\"nameCanonical\\\":\\\"\\\"},{\\\"curriculum_requisites\\\":[],\\\"name\\\":\\\" \\\",\\\"metrics\\\":{},\\\"nameSub\\\":\\\"Technical Electives\\\",\\\"id\\\":20,\\\"credits\\\":3,\\\"nameCanonical\\\":\\\"\\\"},{\\\"curriculum_requisites\\\":[],\\\"name\\\":\\\" \\\",\\\"metrics\\\":{},\\\"nameSub\\\":\\\"Free Elective\\\",\\\"id\\\":34,\\\"credits\\\":3,\\\"nameCanonical\\\":\\\"\\\"}],\\\"id\\\":4},{\\\"name\\\":\\\"Term 5\\\",\\\"curriculum_items\\\":[{\\\"curriculum_requisites\\\":[{\\\"source_id\\\":7,\\\"target_id\\\":8,\\\"type\\\":\\\"prereq\\\"},{\\\"source_id\\\":3,\\\"target_id\\\":8,\\\"type\\\":\\\"prereq\\\"},{\\\"source_id\\\":5,\\\"target_id\\\":8,\\\"type\\\":\\\"prereq\\\"}],\\\"name\\\":\\\"CS 3160\\\",\\\"metrics\\\":{},\\\"nameSub\\\":\\\"Concepts of Programming Languages\\\",\\\"id\\\":8,\\\"credits\\\":3,\\\"nameCanonical\\\":\\\"\\\"},{\\\"curriculum_requisites\\\":[{\\\"source_id\\\":4,\\\"target_id\\\":12,\\\"type\\\":\\\"prereq\\\"},{\\\"source_id\\\":3,\\\"target_id\\\":12,\\\"type\\\":\\\"prereq\\\"},{\\\"source_id\\\":11,\\\"target_id\\\":12,\\\"type\\\":\\\"prereq\\\"}],\\\"name\\\":\\\"CS 4500\\\",\\\"metrics\\\":{},\\\"nameSub\\\":\\\"Operating Systems\\\",\\\"id\\\":12,\\\"credits\\\":3,\\\"nameCanonical\\\":\\\"\\\"},{\\\"curriculum_requisites\\\":[],\\\"name\\\":\\\" \\\",\\\"metrics\\\":{},\\\"nameSub\\\":\\\"Basic Science Requirement\\\",\\\"id\\\":30,\\\"credits\\\":5,\\\"nameCanonical\\\":\\\"\\\"},{\\\"curriculum_requisites\\\":[],\\\"name\\\":\\\" \\\",\\\"metrics\\\":{},\\\"nameSub\\\":\\\"Free Elective\\\",\\\"id\\\":35,\\\"credits\\\":4,\\\"nameCanonical\\\":\\\"\\\"},{\\\"curriculum_requisites\\\":[],\\\"name\\\":\\\" \\\",\\\"metrics\\\":{},\\\"nameSub\\\":\\\"Compass Curriculum Humanities/Social Science Requirements\\\",\\\"id\\\":36,\\\"credits\\\":3,\\\"nameCanonical\\\":\\\"\\\"},{\\\"curriculum_requisites\\\":[],\\\"name\\\":\\\" \\\",\\\"metrics\\\":{},\\\"nameSub\\\":\\\"Compass Curriculum Humanities/Social Science Requirements\\\",\\\"id\\\":37,\\\"credits\\\":3,\\\"nameCanonical\\\":\\\"\\\"}],\\\"id\\\":5},{\\\"name\\\":\\\"Term 6\\\",\\\"curriculum_items\\\":[{\\\"curriculum_requisites\\\":[{\\\"source_id\\\":7,\\\"target_id\\\":9,\\\"type\\\":\\\"prereq\\\"},{\\\"source_id\\\":4,\\\"target_id\\\":9,\\\"type\\\":\\\"prereq\\\"},{\\\"source_id\\\":8,\\\"target_id\\\":9,\\\"type\\\":\\\"prereq\\\"}],\\\"name\\\":\\\"CS 3300\\\",\\\"metrics\\\":{},\\\"nameSub\\\":\\\"Software Engineering\\\",\\\"id\\\":9,\\\"credits\\\":3,\\\"nameCanonical\\\":\\\"\\\"},{\\\"curriculum_requisites\\\":[{\\\"source_id\\\":13,\\\"target_id\\\":10,\\\"type\\\":\\\"prereq\\\"},{\\\"source_id\\\":5,\\\"target_id\\\":10,\\\"type\\\":\\\"prereq\\\"},{\\\"source_id\\\":8,\\\"target_id\\\":10,\\\"type\\\":\\\"prereq\\\"}],\\\"name\\\":\\\"CS 4100\\\",\\\"metrics\\\":{},\\\"nameSub\\\":\\\"Compiler Design\\\",\\\"id\\\":10,\\\"credits\\\":3,\\\"nameCanonical\\\":\\\"\\\"},{\\\"curriculum_requisites\\\":[],\\\"name\\\":\\\" \\\",\\\"metrics\\\":{},\\\"nameSub\\\":\\\"Compass Curriculum Humanities/Social Science Requirements\\\",\\\"id\\\":38,\\\"credits\\\":3,\\\"nameCanonical\\\":\\\"\\\"},{\\\"curriculum_requisites\\\":[],\\\"name\\\":\\\" \\\",\\\"metrics\\\":{},\\\"nameSub\\\":\\\"Compass Curriculum Humanities/Social Science Requirements\\\",\\\"id\\\":39,\\\"credits\\\":3,\\\"nameCanonical\\\":\\\"\\\"},{\\\"curriculum_requisites\\\":[],\\\"name\\\":\\\" \\\",\\\"metrics\\\":{},\\\"nameSub\\\":\\\"Compass Curriculum Humanities/Social Science Requirements\\\",\\\"id\\\":40,\\\"credits\\\":3,\\\"nameCanonical\\\":\\\"\\\"},{\\\"curriculum_requisites\\\":[],\\\"name\\\":\\\" \\\",\\\"metrics\\\":{},\\\"nameSub\\\":\\\"Compass Curriculum Humanities/Social Science Requirements\\\",\\\"id\\\":41,\\\"credits\\\":3,\\\"nameCanonical\\\":\\\"\\\"},{\\\"curriculum_requisites\\\":[],\\\"name\\\":\\\" \\\",\\\"metrics\\\":{},\\\"nameSub\\\":\\\"Compass Curriculum Humanities/Social Science Requirements\\\",\\\"id\\\":42,\\\"credits\\\":3,\\\"nameCanonical\\\":\\\"\\\"}],\\\"id\\\":6}],\\\"institution\\\":\\\"University of Colorado Colorado Springs\\\"}},\\\"*\\\"); window.removeEventListener(\\\"message\\\",window.messageReceived); window.messageReceived=(function (event){return (event.data.curriculum!==undefined) ? (WebIO.setval({\\\"name\\\":\\\"curriculum-data\\\",\\\"scope\\\":\\\"3863313818476024141\\\",\\\"id\\\":\\\"ob_02\\\",\\\"type\\\":\\\"observable\\\"},event.data.curriculum)) : undefined}); return window.addEventListener(\\\"message\\\",window.messageReceived)})\")),:style=>Dict(:padding=>\"0\",:height=>\"100vh\",:margin=>\"0\",:border=>\"none\",:width=>\"100%\"))), Dict{String,Tuple{Observables.AbstractObservable,Union{Nothing, Bool}}}(\"curriculum-data\"=>(Observable{Dict{String,Any}} with 1 listeners. Value:\n",
       "Dict{String,Any}(\"options\"=>Dict{String,Any}(\"hideTerms\"=>true,\"edit\"=>false),\"curriculum\"=>Dict{String,Any}(\"name\"=>\"Computer Science\",\"dp_name\"=>\"\",\"curriculum_terms\"=>Dict{String,Any}[Dict(\"name\"=>\"Term 1\",\"curriculum_items\"=>Dict{String,Any}[Dict(\"curriculum_requisites\"=>Dict{String,Any}[],\"name\"=>\"CS 1150\",\"metrics\"=>Dict{String,Any}(),\"nameSub\"=>\"Principles of Computer Science\",\"id\"=>1,\"credits\"=>3,\"nameCanonical\"=>\"\"), Dict(\"curriculum_requisites\"=>Dict{String,Any}[],\"name\"=>\"MATH 1350\",\"metrics\"=>Dict{String,Any}(),\"nameSub\"=>\"Calculus I\",\"id\"=>21,\"credits\"=>4,\"nameCanonical\"=>\"\"), Dict(\"curriculum_requisites\"=>Dict{String,Any}[Dict(\"source_id\"=>21,\"target_id\"=>27,\"type\"=>\"coreq\")],\"name\"=>\"PES 1110\",\"metrics\"=>Dict{String,Any}(),\"nameSub\"=>\"General Physics I\",\"id\"=>27,\"credits\"=>4,\"nameCanonical\"=>\"\"), Dict(\"curriculum_requisites\"=>Dict{String,Any}[],\"name\"=>\"ENGL 1310\",\"metrics\"=>Dict{String,Any}(),\"nameSub\"=>\"Rhetoric & Writing\",\"id\"=>31,\"credits\"=>3,\"nameCanonical\"=>\"\"), Dict(\"curriculum_requisites\"=>Dict{String,Any}[Dict(\"source_id\"=>27,\"target_id\"=>29,\"type\"=>\"coreq\")],\"name\"=>\"PES 1160\",\"metrics\"=>Dict{String,Any}(),\"nameSub\"=>\"General Physics Lab\",\"id\"=>29,\"credits\"=>1,\"nameCanonical\"=>\"\"), Dict(\"curriculum_requisites\"=>Dict{String,Any}[],\"name\"=>\" \",\"metrics\"=>Dict{String,Any}(),\"nameSub\"=>\"Computer Science Electives\",\"id\"=>15,\"credits\"=>3,\"nameCanonical\"=>\"\"), Dict(\"curriculum_requisites\"=>Dict{String,Any}[],\"name\"=>\" \",\"metrics\"=>Dict{String,Any}(),\"nameSub\"=>\"Computer Science Electives\",\"id\"=>16,\"credits\"=>3,\"nameCanonical\"=>\"\")],\"id\"=>1), Dict(\"name\"=>\"Term 2\",\"curriculum_items\"=>Dict{String,Any}[Dict(\"curriculum_requisites\"=>Dict{String,Any}[Dict(\"source_id\"=>1,\"target_id\"=>2,\"type\"=>\"prereq\")],\"name\"=>\"CS 1450\",\"metrics\"=>Dict{String,Any}(),\"nameSub\"=>\"Data Structures & Algorithms\",\"id\"=>2,\"credits\"=>3,\"nameCanonical\"=>\"\"), Dict(\"curriculum_requisites\"=>Dict{String,Any}[Dict(\"source_id\"=>1,\"target_id\"=>3,\"type\"=>\"prereq\")],\"name\"=>\"CS 2060\",\"metrics\"=>Dict{String,Any}(),\"nameSub\"=>\"Programming in C\",\"id\"=>3,\"credits\"=>3,\"nameCanonical\"=>\"\"), Dict(\"curriculum_requisites\"=>Dict{String,Any}[Dict(\"source_id\"=>21,\"target_id\"=>22,\"type\"=>\"prereq\")],\"name\"=>\"MATH 1360\",\"metrics\"=>Dict{String,Any}(),\"nameSub\"=>\"Calculus II\",\"id\"=>22,\"credits\"=>4,\"nameCanonical\"=>\"\"), Dict(\"curriculum_requisites\"=>Dict{String,Any}[Dict(\"source_id\"=>21,\"target_id\"=>23,\"type\"=>\"prereq\")],\"name\"=>\"MATH 2150\",\"metrics\"=>Dict{String,Any}(),\"nameSub\"=>\"Discrete Mathematics\",\"id\"=>23,\"credits\"=>3,\"nameCanonical\"=>\"\"), Dict(\"curriculum_requisites\"=>Dict{String,Any}[Dict(\"source_id\"=>21,\"target_id\"=>25,\"type\"=>\"prereq\")],\"name\"=>\"MATH 3130\",\"metrics\"=>Dict{String,Any}(),\"nameSub\"=>\"Intro. to Linear Algebra\",\"id\"=>25,\"credits\"=>3,\"nameCanonical\"=>\"\"), Dict(\"curriculum_requisites\"=>Dict{String,Any}[Dict(\"source_id\"=>31,\"target_id\"=>32,\"type\"=>\"prereq\")],\"name\"=>\"ENGL 2090\",\"metrics\"=>Dict{String,Any}(),\"nameSub\"=>\"Technical Writing & Presentation\",\"id\"=>32,\"credits\"=>3,\"nameCanonical\"=>\"\"), Dict(\"curriculum_requisites\"=>Dict{String,Any}[],\"name\"=>\" \",\"metrics\"=>Dict{String,Any}(),\"nameSub\"=>\"Computer Science Electives\",\"id\"=>17,\"credits\"=>3,\"nameCanonical\"=>\"\")],\"id\"=>2), Dict(\"name\"=>\"Term 3\",\"curriculum_items\"=>Dict{String,Any}[Dict(\"curriculum_requisites\"=>Dict{String,Any}[Dict(\"source_id\"=>2,\"target_id\"=>4,\"type\"=>\"prereq\")],\"name\"=>\"CS 2080\",\"metrics\"=>Dict{String,Any}(),\"nameSub\"=>\"Programming with UNIX\",\"id\"=>4,\"credits\"=>2,\"nameCanonical\"=>\"\"), Dict(\"curriculum_requisites\"=>Dict{String,Any}[Dict(\"source_id\"=>2,\"target_id\"=>5,\"type\"=>\"prereq\"), Dict(\"source_id\"=>3,\"target_id\"=>5,\"type\"=>\"prereq\")],\"name\"=>\"CS 2160\",\"metrics\"=>Dict{String,Any}(),\"nameSub\"=>\"Computer Org. & Assembly Language\",\"id\"=>5,\"credits\"=>3,\"nameCanonical\"=>\"\"), Dict(\"curriculum_requisites\"=>Dict{String,Any}[Dict(\"source_id\"=>23,\"target_id\"=>13,\"type\"=>\"prereq\"), Dict(\"source_id\"=>25,\"target_id\"=>13,\"type\"=>\"prereq\")],\"name\"=>\"CS 4700\",\"metrics\"=>Dict{String,Any}(),\"nameSub\"=>\"Computability, Automata & Formal Lang\",\"id\"=>13,\"credits\"=>3,\"nameCanonical\"=>\"\"), Dict(\"curriculum_requisites\"=>Dict{String,Any}[Dict(\"source_id\"=>22,\"target_id\"=>24,\"type\"=>\"prereq\")],\"name\"=>\"MATH 2350\",\"metrics\"=>Dict{String,Any}(),\"nameSub\"=>\"Calculus III\",\"id\"=>24,\"credits\"=>4,\"nameCanonical\"=>\"\"), Dict(\"curriculum_requisites\"=>Dict{String,Any}[Dict(\"source_id\"=>23,\"target_id\"=>14,\"type\"=>\"prereq\"), Dict(\"source_id\"=>2,\"target_id\"=>14,\"type\"=>\"prereq\")],\"name\"=>\"CS 4720\",\"metrics\"=>Dict{String,Any}(),\"nameSub\"=>\"Design & Analysis of Algorithms\",\"id\"=>14,\"credits\"=>3,\"nameCanonical\"=>\"\"), Dict(\"curriculum_requisites\"=>Dict{String,Any}[Dict(\"source_id\"=>27,\"target_id\"=>28,\"type\"=>\"prereq\"), Dict(\"source_id\"=>22,\"target_id\"=>28,\"type\"=>\"coreq\")],\"name\"=>\"PES 1120\",\"metrics\"=>Dict{String,Any}(),\"nameSub\"=>\"General Physics II\",\"id\"=>28,\"credits\"=>4,\"nameCanonical\"=>\"\"), Dict(\"curriculum_requisites\"=>Dict{String,Any}[Dict(\"source_id\"=>32,\"target_id\"=>33,\"type\"=>\"prereq\")],\"name\"=>\"PORT 3000\",\"metrics\"=>Dict{String,Any}(),\"nameSub\"=>\"Writing Portfolio Assessment\",\"id\"=>33,\"credits\"=>0,\"nameCanonical\"=>\"\"), Dict(\"curriculum_requisites\"=>Dict{String,Any}[],\"name\"=>\" \",\"metrics\"=>Dict{String,Any}(),\"nameSub\"=>\"Technical Electives\",\"id\"=>18,\"credits\"=>3,\"nameCanonical\"=>\"\")],\"id\"=>3), Dict(\"name\"=>\"Term 4\",\"curriculum_items\"=>Dict{String,Any}[Dict(\"curriculum_requisites\"=>Dict{String,Any}[Dict(\"source_id\"=>4,\"target_id\"=>7,\"type\"=>\"prereq\"), Dict(\"source_id\"=>3,\"target_id\"=>7,\"type\"=>\"prereq\")],\"name\"=>\"CS 3060\",\"metrics\"=>Dict{String,Any}(),\"nameSub\"=>\"Object Oriented Programming in C++\",\"id\"=>7,\"credits\"=>3,\"nameCanonical\"=>\"\"), Dict(\"curriculum_requisites\"=>Dict{String,Any}[Dict(\"source_id\"=>5,\"target_id\"=>11,\"type\"=>\"prereq\")],\"name\"=>\"CS 4200\",\"metrics\"=>Dict{String,Any}(),\"nameSub\"=>\"Computer Architecture\",\"id\"=>11,\"credits\"=>3,\"nameCanonical\"=>\"\"), Dict(\"curriculum_requisites\"=>Dict{String,Any}[Dict(\"source_id\"=>4,\"target_id\"=>6,\"type\"=>\"prereq\")],\"name\"=>\"CS 3040\",\"metrics\"=>Dict{String,Any}(),\"nameSub\"=>\"Computing Ethics\",\"id\"=>6,\"credits\"=>3,\"nameCanonical\"=>\"\"), Dict(\"curriculum_requisites\"=>Dict{String,Any}[Dict(\"source_id\"=>24,\"target_id\"=>26,\"type\"=>\"prereq\")],\"name\"=>\"MATH 3810\",\"metrics\"=>Dict{String,Any}(),\"nameSub\"=>\"Intro. To Probability & Statistics\",\"id\"=>26,\"credits\"=>3,\"nameCanonical\"=>\"\"), Dict(\"curriculum_requisites\"=>Dict{String,Any}[],\"name\"=>\" \",\"metrics\"=>Dict{String,Any}(),\"nameSub\"=>\"Technical Electives\",\"id\"=>19,\"credits\"=>3,\"nameCanonical\"=>\"\"), Dict(\"curriculum_requisites\"=>Dict{String,Any}[],\"name\"=>\" \",\"metrics\"=>Dict{String,Any}(),\"nameSub\"=>\"Technical Electives\",\"id\"=>20,\"credits\"=>3,\"nameCanonical\"=>\"\"), Dict(\"curriculum_requisites\"=>Dict{String,Any}[],\"name\"=>\" \",\"metrics\"=>Dict{String,Any}(),\"nameSub\"=>\"Free Elective\",\"id\"=>34,\"credits\"=>3,\"nameCanonical\"=>\"\")],\"id\"=>4), Dict(\"name\"=>\"Term 5\",\"curriculum_items\"=>Dict{String,Any}[Dict(\"curriculum_requisites\"=>Dict{String,Any}[Dict(\"source_id\"=>7,\"target_id\"=>8,\"type\"=>\"prereq\"), Dict(\"source_id\"=>3,\"target_id\"=>8,\"type\"=>\"prereq\"), Dict(\"source_id\"=>5,\"target_id\"=>8,\"type\"=>\"prereq\")],\"name\"=>\"CS 3160\",\"metrics\"=>Dict{String,Any}(),\"nameSub\"=>\"Concepts of Programming Languages\",\"id\"=>8,\"credits\"=>3,\"nameCanonical\"=>\"\"), Dict(\"curriculum_requisites\"=>Dict{String,Any}[Dict(\"source_id\"=>4,\"target_id\"=>12,\"type\"=>\"prereq\"), Dict(\"source_id\"=>3,\"target_id\"=>12,\"type\"=>\"prereq\"), Dict(\"source_id\"=>11,\"target_id\"=>12,\"type\"=>\"prereq\")],\"name\"=>\"CS 4500\",\"metrics\"=>Dict{String,Any}(),\"nameSub\"=>\"Operating Systems\",\"id\"=>12,\"credits\"=>3,\"nameCanonical\"=>\"\"), Dict(\"curriculum_requisites\"=>Dict{String,Any}[],\"name\"=>\" \",\"metrics\"=>Dict{String,Any}(),\"nameSub\"=>\"Basic Science Requirement\",\"id\"=>30,\"credits\"=>5,\"nameCanonical\"=>\"\"), Dict(\"curriculum_requisites\"=>Dict{String,Any}[],\"name\"=>\" \",\"metrics\"=>Dict{String,Any}(),\"nameSub\"=>\"Free Elective\",\"id\"=>35,\"credits\"=>4,\"nameCanonical\"=>\"\"), Dict(\"curriculum_requisites\"=>Dict{String,Any}[],\"name\"=>\" \",\"metrics\"=>Dict{String,Any}(),\"nameSub\"=>\"Compass Curriculum Humanities/Social Science Requirements\",\"id\"=>36,\"credits\"=>3,\"nameCanonical\"=>\"\"), Dict(\"curriculum_requisites\"=>Dict{String,Any}[],\"name\"=>\" \",\"metrics\"=>Dict{String,Any}(),\"nameSub\"=>\"Compass Curriculum Humanities/Social Science Requirements\",\"id\"=>37,\"credits\"=>3,\"nameCanonical\"=>\"\")],\"id\"=>5), Dict(\"name\"=>\"Term 6\",\"curriculum_items\"=>Dict{String,Any}[Dict(\"curriculum_requisites\"=>Dict{String,Any}[Dict(\"source_id\"=>7,\"target_id\"=>9,\"type\"=>\"prereq\"), Dict(\"source_id\"=>4,\"target_id\"=>9,\"type\"=>\"prereq\"), Dict(\"source_id\"=>8,\"target_id\"=>9,\"type\"=>\"prereq\")],\"name\"=>\"CS 3300\",\"metrics\"=>Dict{String,Any}(),\"nameSub\"=>\"Software Engineering\",\"id\"=>9,\"credits\"=>3,\"nameCanonical\"=>\"\"), Dict(\"curriculum_requisites\"=>Dict{String,Any}[Dict(\"source_id\"=>13,\"target_id\"=>10,\"type\"=>\"prereq\"), Dict(\"source_id\"=>5,\"target_id\"=>10,\"type\"=>\"prereq\"), Dict(\"source_id\"=>8,\"target_id\"=>10,\"type\"=>\"prereq\")],\"name\"=>\"CS 4100\",\"metrics\"=>Dict{String,Any}(),\"nameSub\"=>\"Compiler Design\",\"id\"=>10,\"credits\"=>3,\"nameCanonical\"=>\"\"), Dict(\"curriculum_requisites\"=>Dict{String,Any}[],\"name\"=>\" \",\"metrics\"=>Dict{String,Any}(),\"nameSub\"=>\"Compass Curriculum Humanities/Social Science Requirements\",\"id\"=>38,\"credits\"=>3,\"nameCanonical\"=>\"\"), Dict(\"curriculum_requisites\"=>Dict{String,Any}[],\"name\"=>\" \",\"metrics\"=>Dict{String,Any}(),\"nameSub\"=>\"Compass Curriculum Humanities/Social Science Requirements\",\"id\"=>39,\"credits\"=>3,\"nameCanonical\"=>\"\"), Dict(\"curriculum_requisites\"=>Dict{String,Any}[],\"name\"=>\" \",\"metrics\"=>Dict{String,Any}(),\"nameSub\"=>\"Compass Curriculum Humanities/Social Science Requirements\",\"id\"=>40,\"credits\"=>3,\"nameCanonical\"=>\"\"), Dict(\"curriculum_requisites\"=>Dict{String,Any}[],\"name\"=>\" \",\"metrics\"=>Dict{String,Any}(),\"nameSub\"=>\"Compass Curriculum Humanities/Social Science Requirements\",\"id\"=>41,\"credits\"=>3,\"nameCanonical\"=>\"\"), Dict(\"curriculum_requisites\"=>Dict{String,Any}[],\"name\"=>\" \",\"metrics\"=>Dict{String,Any}(),\"nameSub\"=>\"Compass Curriculum Humanities/Social Science Requirements\",\"id\"=>42,\"credits\"=>3,\"nameCanonical\"=>\"\")],\"id\"=>6)],\"institution\"=>\"University of Colorado Colorado Springs\")), nothing)), Set(String[]), nothing, WebIO.Asset[], Dict{Any,Any}(), WebIO.ConnectionPool(Channel{Any}(sz_max:9223372036854775807,sz_curr:0), Set(WebIO.AbstractConnection[]), Channel{WebIO.AbstractConnection}(sz_max:32,sz_curr:0)), WebIO.JSString[])"
      ]
     },
     "execution_count": 3,
     "metadata": {
      "application/vnd.webio.node+json": {
       "kernelId": "6344f015-7ad8-4edd-b8d0-88b0fc2bcf67"
      }
     },
     "output_type": "execute_result"
    }
   ],
   "source": [
    "dp = read_csv(\"./tier_middle/University_of_Colorado_Colorado_Springs-CS.csv\")\n",
    "visualize(dp, notebook=true)"
   ]
  },
  {
   "cell_type": "markdown",
   "metadata": {},
   "source": [
    "By hovering your mouse over the courses in these degree plans, you can view the contribution that various courses make to the overall compleixty of a curriculum."
   ]
  },
  {
   "cell_type": "markdown",
   "metadata": {},
   "source": [
    "## Methology\n",
    "In this study we used the rankings provided by the CSRankings of Computer Science departments as a proxy for program quality.  That is, for the purpose of this study, we assume that the highest ranked computer science departments are synonymous with the highest quality computer science undergraduate programs.  We acknowledge the concerns that are routinely expressed concerning these rankings such as these~\\cite{}.  However, it should be noted that this study uses aggregations of schools with tiers, and the statistics associated with the aggregations.  Thus, the specific rankings of the schools within the tiers are irrelevant, all that matters is the tier in which a school is placed. Upon inspection of the schools within each tier, we believe that knowledgable and impartial observes would agree that the three tiers constructed in this study are highly correlated with the program quality."
   ]
  },
  {
   "cell_type": "markdown",
   "metadata": {},
   "source": [
    "## Experimental Design\n",
    "The question of interest in this study is whether or not curricular complexity is related to program quality. In order to answer this question, we constructed an analysis of variance~(ANOVA) experiment that involved partitioning the schools in the CSRanking list according to their decile within the ranking. From these three groups were created as follows. A *top tier* of schools defined as those in the first decile of the ranking.  A *middle tier*, defined as the set of schools in the fifth and sixth deciles of the ranking that are equidistant from first to last ranked schools. A *bottom tier* of schools comprised of the schools ranked in the bottom two deciles. The null hypothesis is:\n",
    "\n",
    "    \"There is no difference between the mean values of the curricular complexities of those schools belonging \n",
    "     to the top, middle and bottom tiers.\" \n",
    "\n",
    "The alternative hypothesis is then: \n",
    "\n",
    "    \"At least one of the curricular complexity mean values of a school tier differs significantly from the \n",
    "     means of the other two tiers.\"\n",
    "     \n",
    "Histograms showing the curricular complexity distributions for the random samples drawn from each of the three tiers are shown below."
   ]
  },
  {
   "cell_type": "code",
   "execution_count": 4,
   "metadata": {
    "scrolled": false
   },
   "outputs": [],
   "source": [
    "tier_top_files = glob(\"*\", \"tier_top\")\n",
    "tier_middle_files = glob(\"*\", \"tier_middle\")\n",
    "tier_bottom_files = glob(\"*\", \"tier_bottom\")\n",
    "files = vcat(tier_top_files, tier_middle_files, tier_bottom_files)\n",
    "\n",
    "curriculum = Dict{String, Curriculum}()\n",
    "for csv_filepath in files\n",
    "    curric = read_csv(csv_filepath)\n",
    "#    if (typeof(curric) == DegreePlan)\n",
    "#        println(\"Whoa: $(curric.name) is a degree plan\")\n",
    "#    end\n",
    "#    println(\"Processing $(curric.institution)\")\n",
    "    complexity(curric)\n",
    "    curriculum[csv_filepath] = curric\n",
    "end"
   ]
  },
  {
   "cell_type": "code",
   "execution_count": null,
   "metadata": {},
   "outputs": [
    {
     "name": "stdout",
     "output_type": "stream",
     "text": [
      "Carnegie_Mellon-CS => 61.0\n",
      "Stanford-CS => 76.20000000000006\n",
      "Texas_A&M-CS => 136.0\n",
      "Northeastern_University-CS => 88.0\n",
      "University_of_Southern_California-CS => 111.0\n",
      "New_York_University-CS => 96.0\n",
      "Purdue_University-CS => 106.0\n",
      "University_of_Pennsylvania-CS => 91.0\n"
     ]
    }
   ],
   "source": [
    "top_tier = Array{Curriculum,1}()\n",
    "top_tier_total_cc = 0\n",
    "top_tier_avg_cc = 0\n",
    "for (key, val) in curriculum\n",
    "    if (split(key, \"/\")[1]) == \"tier_top\"\n",
    "        name = split(split(key, \"/\")[2], \".\")[1]\n",
    "        println(\"$name => $(val.metrics[\"complexity\"][1])\")\n",
    "        push!(top_tier, val)\n",
    "        top_tier_total_cc = top_tier_total_cc + val.metrics[\"complexity\"][1]\n",
    "    end\n",
    "    top_tier_avg_cc = top_tier_total_cc / length(top_tier)\n",
    "end\n",
    "metric_histogram(top_tier, \"complexity\", nbins=5, title=\"Top Tier\", xlabel=\"curricular complexity\", ylabel=\"# schools\", xlim=(40,300))"
   ]
  },
  {
   "cell_type": "markdown",
   "metadata": {},
   "source": [
    "Process the schools in top tier, extracting the curricular complexity scores:"
   ]
  },
  {
   "cell_type": "markdown",
   "metadata": {},
   "source": [
    "Process the schools in the middle tier, extracting the curricular complexity metrics:"
   ]
  },
  {
   "cell_type": "code",
   "execution_count": null,
   "metadata": {},
   "outputs": [],
   "source": [
    "middle_tier = Array{Curriculum,1}()\n",
    "middle_tier_total_cc = 0\n",
    "middle_tier_avg_cc = 0\n",
    "for (key, val) in curriculum\n",
    "    if (split(key, \"/\")[1]) == \"tier_middle\"\n",
    "        name = split(split(key, \"/\")[2], \".\")[1]\n",
    "        println(\"$name => $(val.metrics[\"complexity\"][1])\")\n",
    "        push!(middle_tier, val)\n",
    "        middle_tier_total_cc = middle_tier_total_cc + val.metrics[\"complexity\"][1]\n",
    "    end\n",
    "    middle_tier_avg_cc = middle_tier_total_cc / length(middle_tier)\n",
    "end\n",
    "metric_histogram(middle_tier, \"complexity\", nbins=5, title=\"Middle Tier\", xlabel=\"curricular complexity\", ylabel=\"# schools\", xlim=(0,300))"
   ]
  },
  {
   "cell_type": "markdown",
   "metadata": {},
   "source": [
    "Process the schools in the bottom tier, extracting their curricular complexity scores:"
   ]
  },
  {
   "cell_type": "code",
   "execution_count": null,
   "metadata": {},
   "outputs": [],
   "source": [
    "bottom_tier = Array{Curriculum,1}()\n",
    "bottom_tier_total_cc = 0\n",
    "bottom_tier_avg_cc = 0\n",
    "for (key, val) in curriculum\n",
    "    if (split(key, \"/\")[1]) == \"tier_bottom\"\n",
    "        name = split(split(key, \"/\")[2], \".\")[1]\n",
    "        println(\"$name => $(val.metrics[\"complexity\"][1])\")\n",
    "        push!(bottom_tier, val)\n",
    "        bottom_tier_total_cc = bottom_tier_total_cc + val.metrics[\"complexity\"][1]\n",
    "    end\n",
    "    bottom_tier_avg_cc = bottom_tier_total_cc / length(bottom_tier)\n",
    "end\n",
    "metric_histogram(bottom_tier, \"complexity\", nbins=5, title=\"Bottom Tier\", xlabel=\"curricular complexity\", ylabel=\"# schools\", xlim=(0,300))"
   ]
  },
  {
   "cell_type": "markdown",
   "metadata": {},
   "source": [
    "A box-and-whisker diagram for each of the three samples, provided below, shows the differences between the various statistics associated with these samples.  The quesion we will answer using ANOVA anlaysis is whether or not these variances are statistically significant across these three tiers."
   ]
  },
  {
   "cell_type": "code",
   "execution_count": null,
   "metadata": {},
   "outputs": [],
   "source": [
    "metric_boxplot([\"top\" \"middle\" \"bottom\"], [top_tier, middle_tier, bottom_tier], \"complexity\", ylabel=\"curricular complexity\")"
   ]
  },
  {
   "cell_type": "markdown",
   "metadata": {},
   "source": [
    "## ANOVA Analysis\n",
    "\n",
    "The ANOVA analysis involves random sampling of schools within each of the three tiers. In order to ensure the analysis is able to distinguish between actual curricular complexity differences among the tiers, and random variation, sufficient sample sizes must be determined. Under the assumption that the curricular complexity distributions within the tiers are approximately normal, with variance $\\sigma^2$, the number of samples that should be selected from each tier is given by\n",
    "\\begin{equation}\n",
    " n = \\left({\\sigma Z \\over E}\\right)^2,\n",
    "\\end{equation}\n",
    "where $Z$ is the confidence interval expressed using deviation within the standard normal distribution, and $E$ is the margin of error. To obtain an estimate of $\\sigma$, pilot samples from each of the three tiers were taken, yielding the estimate $\\hat{\\sigma} = 90$. For a 95\\% confidence interval, which corresponds to $Z = 1.96$, the margin of error will be 40 curricular complexity points, i.e., 20 points on either side of the mean for a tier. Using these values in the equation provided above leads to sample sizes of $n_1 = n_2 = n_3 = 20$, where $n_1, n_2$ and $n_3$ are the sample sizes for the top, medium and bottom tiers, respectively. Thus, by sampling at least 20 schools from each tier, we can have 95\\% confidence that the error in this analysis will be by no more than 40 curricular complexity points.\n",
    "\n",
    "In order to test the null hypothesis using ANOVA, we must assume the curricular complexity values of the schools within each tier are normally distributed, and that all three tiers have the same variance $\\sigma^2$. It should be noted that these conditions can be moderately relaxed (particularly the normality assumption) and the analysis will remain valid \\cite{MeScWa:81}. \n",
    "\n",
    "The ANOVA method partitions the total sum of squares of the deviations in curricular complexity across all schools into two independent parts, one that is attributed to the independent variable (program quality in this case), and a remainder that is attributed to random errors arising from other factors not accounted for in this experiment. That is,\n",
    "\\begin{equation}\n",
    " TSS = SST + SSE,\n",
    "\\end{equation}\n",
    "where $TSS$ denotes the total sum of squares of deviations, $SST$ represents the sum of squares of the deviations between the tiers, and SSE is the sum of squares attributed to errors or noise. More specifically, if we let $cc_{ij}$ denote the curricular complexity of the $j$\\nth school sampled from the $i$-th tier, then\n",
    "\\begin{equation}\n",
    " TSS = \\sum_{i=1}^3 \\sum_{j=1}^{n_i} \\left(cc_{ij} - \\overline{cc}\\right)^2,\n",
    "\\end{equation}\n",
    "where $\\overline{cc}$ is the sample mean for all samples drawn over all tiers.  The sum of squares deviation between the tiers is given by \n",
    "\\begin{equation}\n",
    " SST = \\sum_{i=1}^3 n_i\\left(\\overline{T}_i - \\overline{cc}\\right)^2,\n",
    "\\end{equation}\n",
    "where $T_i$ is the total curricular complexity of the schools sampled from the $i$-th tier, and $\\overline{T}_i = T_i/n_i, i = 1,2,3$, are the tier sample averages.\n",
    "Note that when the sample means for the three tiers are the same, $SST=0$.\n",
    "\n",
    "Substituting the TSS and SST equations provided above into $TSS = SST + SSE$, and solving for $SSE$ yields:\n",
    "\\begin{equation}\n",
    " SSE = {\\sum_{i=1}^3 \\sum_{j=1}^{n_i} \\left(cc_{ij} - \\bar{T}_i\\right)^2}.\n",
    "\\end{equation}\n",
    "\n",
    "The unbiased estimator of $\\sigma^2$ based on $n - 3$ degrees of freedom is given by the mean square error,\n",
    "\\begin{equation}\n",
    " MSE = {SSE \\over n - 3},\n",
    "\\end{equation}\n",
    "where $n = n_1 + n_2 + n_3$.\n",
    "\n",
    "The mean square for the tiers has 2 degrees of freedom, i.e., one less than the number of tiers, and is therefore\n",
    "\\begin{equation}\n",
    " MST = {SST \\over 2}. \n",
    "\\end{equation}\n",
    "\n",
    "In order to assess the statistical significance of a decision to reject the null hypothesis, an $F$-test is conducted to compare the deviation among the tier variances.  The $F$-test statistic is given by\n",
    "\\[\n",
    " F = {MST \\over MSE}.\n",
    "\\] \n",
    "Note that the $F$-test is a ratio that compares the mean square variability between the tiers to the mean square variability within the tiers. Thus, as $F$-test values increase above $1$, the data are increasingly inconsistent with the null hypothesis, and the null hypothesis should be rejected when $F > F_{\\alpha}$,\n",
    "where $F_{\\alpha}$ is the critical value of $F$ where the probability of a type I error is $\\alpha$.\n",
    "\n",
    "For the $F$ distribution with $(2, 60)$ degrees of freedom, $F_{0.05} = 3.15$.  That is, if the $F$-test for the experiment yields a value greater than $3.15$, we can reject the null hypothesis with only a 5\\% chance of doing so in error."
   ]
  },
  {
   "cell_type": "markdown",
   "metadata": {},
   "source": [
    "Let $n_1, n_2$ and $n_3$ be the sample sizes drawn from top, middle and bottom tier schools, respectively, with $n = n_1 + n_2 + n_3$."
   ]
  },
  {
   "cell_type": "code",
   "execution_count": null,
   "metadata": {},
   "outputs": [],
   "source": [
    "n_1 = length(top_tier)\n",
    "n_2 = length(middle_tier)\n",
    "n_3 = length(bottom_tier)\n",
    "\n",
    "n = n_1 + n_2 + n_3"
   ]
  },
  {
   "cell_type": "markdown",
   "metadata": {},
   "source": [
    "\\begin{equation}\n",
    " TSS = \\sum_{i=1}^3 \\sum_{j=1}^{n_i} \\left(cc_{ij} - \\overline{cc}\\right)^2\n",
    "\\end{equation}\n",
    "\n",
    "where $TSS$ denotes the total sum of squares of deviations, and $\\overline{cc}$ is the sample mean for all samples drawn over all tiers."
   ]
  },
  {
   "cell_type": "code",
   "execution_count": null,
   "metadata": {},
   "outputs": [],
   "source": [
    "cc_bar = (top_tier_total_cc + middle_tier_total_cc + bottom_tier_total_cc) / n \n",
    "TSS = 0.0\n",
    "for curric in values(top_tier)\n",
    "    cc_ij = curric.metrics[\"complexity\"][1]\n",
    "    TSS += (cc_ij - cc_bar)^2\n",
    "end\n",
    "for curric in values(middle_tier)\n",
    "    cc_ij = curric.metrics[\"complexity\"][1]\n",
    "    TSS += (cc_ij - cc_bar)^2\n",
    "end\n",
    "for curric in values(bottom_tier)\n",
    "    cc_ij = curric.metrics[\"complexity\"][1]\n",
    "    TSS += (cc_ij - cc_bar)^2\n",
    "end\n",
    "TSS = round(TSS, digits=2)"
   ]
  },
  {
   "cell_type": "markdown",
   "metadata": {},
   "source": [
    "\\begin{equation}\n",
    " TSS = SST + SSE\n",
    "\\end{equation}\n",
    "where $SST$ represents the sum of squares of the deviations between the tiers, and SSE is the sum of squares attributed to errors or noise. SST can be calculated as: \n",
    "\\begin{equation}\n",
    " SST = \\sum_{i=1}^3 n_i\\left(\\overline{T}_i - \\overline{cc}\\right)^2\n",
    "\\end{equation}\n",
    "where $T_i$ is the total curricular complexity of the schools sampled from the $i$-th tier, and $\\overline{T}_i = T_i/n_i, i = 1,2,3$, are the tier sample averages."
   ]
  },
  {
   "cell_type": "code",
   "execution_count": 15,
   "metadata": {},
   "outputs": [
    {
     "data": {
      "text/plain": [
       "30144.57"
      ]
     },
     "execution_count": 15,
     "metadata": {},
     "output_type": "execute_result"
    }
   ],
   "source": [
    "SST = round(n_1 * (top_tier_avg_cc - cc_bar)^2 + \n",
    "            n_2 * (middle_tier_avg_cc - cc_bar)^2 + \n",
    "            n_3 * (bottom_tier_avg_cc - cc_bar)^2, digits=2)"
   ]
  },
  {
   "cell_type": "markdown",
   "metadata": {},
   "source": [
    "The value of SSE can be calculated as: \n",
    "\\begin{equation}\n",
    " SSE = {\\sum_{i=1}^3 \\sum_{j=1}^{n_i} \\left(cc_{ij} - \\bar{T}_i\\right)^2}\n",
    "\\end{equation}"
   ]
  },
  {
   "cell_type": "code",
   "execution_count": 16,
   "metadata": {},
   "outputs": [
    {
     "name": "stdout",
     "output_type": "stream",
     "text": [
      "30144.57\n",
      "93385.63\n",
      "123530.20000000001\n"
     ]
    }
   ],
   "source": [
    "SSE = 0.0\n",
    "for curric in values(top_tier)\n",
    "    cc_ij = curric.metrics[\"complexity\"][1]\n",
    "    SSE += (cc_ij - top_tier_avg_cc)^2\n",
    "end\n",
    "for curric in values(middle_tier)\n",
    "    cc_ij = curric.metrics[\"complexity\"][1]\n",
    "    SSE += (cc_ij - middle_tier_avg_cc)^2\n",
    "end\n",
    "for curric in values(bottom_tier)\n",
    "    cc_ij = curric.metrics[\"complexity\"][1]\n",
    "    SSE += (cc_ij - bottom_tier_avg_cc)^2\n",
    "end\n",
    "SSE = round(SSE, digits=2)\n",
    "println(SST)\n",
    "println(SSE)\n",
    "println(SST+SSE)"
   ]
  },
  {
   "cell_type": "markdown",
   "metadata": {},
   "source": [
    "\\begin{equation}\n",
    " MSE = {SSE \\over n - 3}\n",
    "\\end{equation}"
   ]
  },
  {
   "cell_type": "code",
   "execution_count": 17,
   "metadata": {},
   "outputs": [
    {
     "data": {
      "text/plain": [
       "2223.47"
      ]
     },
     "execution_count": 17,
     "metadata": {},
     "output_type": "execute_result"
    }
   ],
   "source": [
    "MSE = round(SSE/(n-3), digits=2)"
   ]
  },
  {
   "cell_type": "markdown",
   "metadata": {},
   "source": [
    "\\begin{equation}\n",
    " MST = {SST \\over 2}\n",
    "\\end{equation}"
   ]
  },
  {
   "cell_type": "code",
   "execution_count": 18,
   "metadata": {},
   "outputs": [
    {
     "data": {
      "text/plain": [
       "15072.28"
      ]
     },
     "execution_count": 18,
     "metadata": {},
     "output_type": "execute_result"
    }
   ],
   "source": [
    "MST = round(SST/2, digits=2)"
   ]
  },
  {
   "cell_type": "markdown",
   "metadata": {},
   "source": [
    "The $F$-test statistic is given by\n",
    "\\begin{equation}\n",
    "F = {MST \\over MSE}\n",
    "\\end{equation}"
   ]
  },
  {
   "cell_type": "code",
   "execution_count": 19,
   "metadata": {},
   "outputs": [
    {
     "data": {
      "text/plain": [
       "6.78"
      ]
     },
     "execution_count": 19,
     "metadata": {},
     "output_type": "execute_result"
    }
   ],
   "source": [
    "F = round(MST/MSE, digits=2)"
   ]
  },
  {
   "cell_type": "markdown",
   "metadata": {},
   "source": [
    "The results of the ANOVA analysis associated with the samples selected from the three tiers of schools are shown below. "
   ]
  },
  {
   "cell_type": "code",
   "execution_count": 20,
   "metadata": {},
   "outputs": [
    {
     "name": "stdout",
     "output_type": "stream",
     "text": [
      "\t   SS\t\tdf\t\t  MS\t\t F\n",
      "\t-----------------------------------------------------\n",
      "Tiers  | 30144.57\t2\t\t15072.28\t6.78\n",
      "Error  | 93385.63\t42\t\t2223.47\n",
      "Totals | 123530.20000000001\t44\n"
     ]
    }
   ],
   "source": [
    "println(\"\\t   SS\\t\\tdf\\t\\t  MS\\t\\t F\")\n",
    "println(\"\\t-----------------------------------------------------\")\n",
    "println(\"Tiers  | $SST\\t2\\t\\t$MST\\t$F\")\n",
    "println(\"Error  | $SSE\\t$(n-3)\\t\\t$MSE\")\n",
    "println(\"Totals | $(SST+SSE)\\t$(n-1)\")"
   ]
  },
  {
   "cell_type": "markdown",
   "metadata": {},
   "source": [
    "Notice that the $F$-test statistic obtained from this analysis is $6.78$.  Because\n",
    "\\begin{equation}\n",
    "  6.78 > F_{0.05} = 3.15,\n",
    "\\end{equation}\n",
    "the null hypothesis should be rejected.  That is, with a low probability of error, the samples collected from each tier indicate that the mean curricular complexity values of the tiers are different.  This result, along with the evidence given in histograms and box-and-whisker diagram, provide strong evidence that higher quality undergraduate computer science programs have lower curricular complexity, and that lower quality undergraduate computer science programs have higher curricular complexity.  "
   ]
  },
  {
   "cell_type": "markdown",
   "metadata": {},
   "source": [
    "## Conclusions\n",
    "We have demonstrated that an inverse relationship exists between the complexity of the curricula in undergraduate computer science programs and the quality of these programs. Specifically, the complexity of the computer science undergraduate curricula at the highest quality schools (where quality is inferred from the rankings of computer science departments) is drastically less than the complexity of the curricula at those schools judged to be at the lower end of this quality ranking. The average complexity of those schools at the bottom of the ranking is almost twice the average of those schools in the top decile of the ranking. In addition, we demonstrated that this difference is statistically significant; that is, this difference is due to something other than chance. Because the complexity of a curriculum is a measure of the difficulty that students are expected to have completing that curriculum, this difference has important student success implications. In particular, if we were to equalize instructional factors (e.g., the difficulty of the courses in the curriculum, the support services provided to students, etc.) and student background preparation, we would expect students to graduate at a higher rate from the lower complexity curricula. This is indeed what we observe, and the fact that this benefit is most pronounced in the highest quality programs deserves further investigation. It is possible to produce arguments for both sides of a possible cause-and-effect relationship between curricular complexity and program quality.  Below we consider a few.\n",
    "\n",
    "One might argue that because the top tier schools admit better prepared students they can offer less complex curricula, as their students can more easily overcome any knowledge gaps that may exist due to having fewer prerequisites prior to attempting a given course, as well as fewer total courses in their curricula. It should be noted, however, that there are a number of schools outside the tier that have created pathways in the first year of their curricula that substantially reduce curricular complexity \\cite{HeHiSlAb:17}. These curricular innovations have been demonstrated to significantly improve graduation rates, as well as the attainment of program learning outcomes \\cite{KlBo:15}. That is, we belileve is possible to reduce the complexity of computer science programs that serve less-prepared students, while actually improving program quality (as judged by outcomes). More generally, we note that the principle of Occam's razor is often applied to guide engineering designs towards the simplest and therefore best solutions.  One of the most popular versions of this principle states, \"Entities are not to be multiplied without necessity.\"  We posit that this study indicates this principle applies to curricula.  Namely, the simplest curriculum (in terms of complexity) that allows students to attain a program's learning outcomes yields the best student success outcomes and therefore the highest quality program."
   ]
  },
  {
   "cell_type": "markdown",
   "metadata": {},
   "source": [
    "## References\n",
    "\n",
    "Emery Berger (2019).  https://CSRankings.org, accessed August 28, 2019.\n",
    "\n",
    "Heileman, G. L., Abdallah, C.T., Slim, A., and Hickman, M. (2018). Curricular analytics: A framework for quantifying the impact of curricular reforms and pedagogical innovations. www.arXiv.org, arXiv:1811.09676 [cs.CY].\n",
    "\n",
    "Heileman, G. L., Free, H. W., Abar, O. and Thompson-Arjona, W. G, (2019). CurricularAnalytics.jl Toolbox. https://github.com/heileman/CurricularAnalytics.jl."
   ]
  },
  {
   "cell_type": "code",
   "execution_count": null,
   "metadata": {},
   "outputs": [],
   "source": []
  }
 ],
 "metadata": {
  "@webio": {
   "lastCommId": "4e4da74cc82b4aa6a76f58096be1017a",
   "lastKernelId": "6344f015-7ad8-4edd-b8d0-88b0fc2bcf67"
  },
  "kernelspec": {
   "display_name": "Julia 1.1.1",
   "language": "julia",
   "name": "julia-1.1"
  },
  "language_info": {
   "file_extension": ".jl",
   "mimetype": "application/julia",
   "name": "julia",
   "version": "1.1.1"
  }
 },
 "nbformat": 4,
 "nbformat_minor": 2
}
