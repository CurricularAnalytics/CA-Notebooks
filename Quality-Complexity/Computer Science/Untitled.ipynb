{
 "cells": [
  {
   "cell_type": "markdown",
   "metadata": {},
   "source": [
    "Read the Computer Science rankings created by CSrankings.org.\n"
   ]
  },
  {
   "cell_type": "code",
   "execution_count": null,
   "metadata": {},
   "outputs": [],
   "source": [
    "rankings = readfile(\"rankings.csv\")  # rankings is an array of strings corresponding to the rows in the CSV file\n",
    "popfirst!(rankings)  # remove the header row\n",
    "decile_size = Int(floor(length(rankings)/10))\n",
    "tier_size = 2 * decile_size\n",
    "sample_size = 20\n",
    "\n",
    "# break schools into tiers according to rankings\n",
    "top_tier = Array{String,1}(undef, sample_size)\n",
    "schools = rankings[1:tier_size]\n",
    "for i in 1:sample_size\n",
    "  top_tier[i] = splice!(schools, rand(eachindex(schools)))\n",
    "end\n",
    "\n",
    "middle_tier = Array{String,1}(undef, sample_size)\n",
    "schools = rankings[70:118]\n",
    "for i in 1:sample_size\n",
    "  middle_tier[i] = splice!(schools, rand(eachindex(schools)))\n",
    "end\n",
    "\n",
    "bottom_tier = Array{String,1}(undef, sample_size)\n",
    "schools = rankings[137:end]\n",
    "for i in 1:sample_size\n",
    "  bottom_tier[i] = splice!(schools, rand(eachindex(schools)))\n",
    "end\n",
    "\n",
    "\n",
    "\n",
    "\n"
   ]
  }
 ],
 "metadata": {
  "kernelspec": {
   "display_name": "Julia 1.1.1",
   "language": "julia",
   "name": "julia-1.1"
  },
  "language_info": {
   "file_extension": ".jl",
   "mimetype": "application/julia",
   "name": "julia",
   "version": "1.1.1"
  }
 },
 "nbformat": 4,
 "nbformat_minor": 2
}
