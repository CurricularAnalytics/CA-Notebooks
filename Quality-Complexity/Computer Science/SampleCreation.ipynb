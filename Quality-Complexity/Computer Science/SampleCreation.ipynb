{
 "cells": [
  {
   "cell_type": "markdown",
   "metadata": {},
   "source": [
    "Read the Computer Science rankings created by CSrankings.org.\n"
   ]
  },
  {
   "cell_type": "code",
   "execution_count": 7,
   "metadata": {},
   "outputs": [
    {
     "data": {
      "text/plain": [
       "20-element Array{String,1}:\n",
       " \"20 ,New York University ,4.8,52\"                   \n",
       " \"35 ,Brown University ,3.2,27\"                      \n",
       " \"14 ,University of Pennsylvania ,5.8,51\"            \n",
       " \"15 ,University of Texas at Austin ,5.5,44\"         \n",
       " \"18 ,University of Southern California ,5.1,42\"     \n",
       " \"1 ,Carnegie Mellon University ,17.6,150\"           \n",
       " \"19 ,Purdue University ,4.9,53\"                     \n",
       " \"15 ,Northeastern University ,5.5,58\"               \n",
       " \"26 ,Northwestern University ,3.9,42\"               \n",
       " \"13 ,University of Wisconsin - Madison ,6.3,49\"     \n",
       " \"7 ,University of Michigan ,8.9,74\"                 \n",
       " \"17 ,University of California - Los Angeles ,5.4,38\"\n",
       " \"7 ,University of Washington ,8.9,61\"               \n",
       " \"21 ,Princeton University ,4.6,40\"                  \n",
       " \"26 ,Rutgers University ,3.9,47\"                    \n",
       " \"3 ,Stanford University ,11.2,64\"                   \n",
       " \"12 ,Columbia University ,6.6,49\"                   \n",
       " \"33 ,Texas A&M University ,3.3,41\"                  \n",
       " \"33 ,University of Minnesota ,3.3,39\"               \n",
       " \"31 ,University of Utah ,3.4,39\"                    "
      ]
     },
     "execution_count": 7,
     "metadata": {},
     "output_type": "execute_result"
    }
   ],
   "source": [
    "function readfile(file_path)\n",
    "    open(file_path) do f \n",
    "        lines = readlines(f)\n",
    "        return lines\n",
    "    end\n",
    "end\n",
    "\n",
    "rankings = readfile(\"rankings.csv\")  # rankings is an array of strings corresponding to the rows in the CSV file\n",
    "popfirst!(rankings)  # remove the header row\n",
    "decile_size = Int(floor(length(rankings)/10))\n",
    "tier_size = 2 * decile_size\n",
    "sample_size = 20\n",
    "\n",
    "# break schools into tiers according to rankings\n",
    "top_tier = Array{String,1}(undef, sample_size)\n",
    "schools = rankings[1:tier_size]\n",
    "for i in 1:sample_size\n",
    "  top_tier[i] = splice!(schools, rand(eachindex(schools)))\n",
    "end\n",
    "\n",
    "middle_tier = Array{String,1}(undef, sample_size)\n",
    "schools = rankings[70:118]\n",
    "for i in 1:sample_size\n",
    "  middle_tier[i] = splice!(schools, rand(eachindex(schools)))\n",
    "end\n",
    "\n",
    "bottom_tier = Array{String,1}(undef, sample_size)\n",
    "schools = rankings[137:end]\n",
    "for i in 1:sample_size\n",
    "  bottom_tier[i] = splice!(schools, rand(eachindex(schools)))\n",
    "end\n",
    "\n",
    "top_tier\n",
    "\n",
    "\n"
   ]
  },
  {
   "cell_type": "code",
   "execution_count": 8,
   "metadata": {},
   "outputs": [
    {
     "data": {
      "text/plain": [
       "20-element Array{String,1}:\n",
       " \"101 ,Virginia Commonwealth University ,1.3,7\"    \n",
       " \"101 ,University of Georgia ,1.3,9\"               \n",
       " \"101 ,UNC - Charlotte ,1.3,9\"                     \n",
       " \"80 ,Iowa State University ,1.5,17\"               \n",
       " \"80 ,University of Arizona ,1.5,17\"               \n",
       " \"101 ,Drexel University ,1.3,10\"                  \n",
       " \"89 ,University of Massachusetts Lowell ,1.4,15\"  \n",
       " \"101 ,University of Kentucky ,1.3,8\"              \n",
       " \"70 ,Rochester Institute of Technology ,1.7,30\"   \n",
       " \"101 ,University of South Florida ,1.3,11\"        \n",
       " \"101 ,Univ. of Colorado Colorado Springs ,1.3,8\"  \n",
       " \"89 ,Illinois Institute of Technology ,1.4,14\"    \n",
       " \"73 ,University of Tennessee ,1.6,14\"             \n",
       " \"73 ,University of Connecticut ,1.6,12\"           \n",
       " \"89 ,Univ. of Maryland - Baltimore County ,1.4,15\"\n",
       " \"70 ,University of Houston ,1.7,16\"               \n",
       " \"89 ,Clemson University ,1.4,19\"                  \n",
       " \"73 ,University of Iowa ,1.6,10\"                  \n",
       " \"73 ,College of William and Mary ,1.6,11\"         \n",
       " \"101 ,University of New Hampshire ,1.3,5\"         "
      ]
     },
     "execution_count": 8,
     "metadata": {},
     "output_type": "execute_result"
    }
   ],
   "source": [
    "middle_tier"
   ]
  },
  {
   "cell_type": "code",
   "execution_count": 9,
   "metadata": {},
   "outputs": [
    {
     "data": {
      "text/plain": [
       "20-element Array{String,1}:\n",
       " \"137 ,Missouri University of Technology ,1.1,4\"  \n",
       " \"162 ,University of Arkansas - Little Rock ,1,1\" \n",
       " \"137 ,University of Wisconsin - Milwaukee ,1.1,3\"\n",
       " \"137 ,Boston College ,1.1,3\"                     \n",
       " \"137 ,University of Michigan-Dearborn ,1.1,5\"    \n",
       " \"137 ,University of Tulsa ,1.1,4\"                \n",
       " \"137 ,University of Miami ,1.1,4\"                \n",
       " \"162 ,Helsinki University ,1,1\"                  \n",
       " \"162 ,University of Nevada Las Vegas ,1,1\"       \n",
       " \"137 ,University of Nebraska - Omaha ,1.1,5\"     \n",
       " \"137 ,Mississippi State University ,1.1,4\"       \n",
       " \"137 ,University of Oklahoma ,1.1,4\"             \n",
       " \"162 ,Montana State University ,1,3\"             \n",
       " \"137 ,University of Wyoming ,1.1,2\"              \n",
       " \"162 ,New Mexico Tech ,1,1\"                      \n",
       " \"137 ,Texas Tech University ,1.1,5\"              \n",
       " \"137 ,Boise State University ,1.1,7\"             \n",
       " \"137 ,University of Missouri ,1.1,6\"             \n",
       " \"162 ,Nova Southeastern University ,1,1\"         \n",
       " \"162 ,University of Groningen ,1,2\"              "
      ]
     },
     "execution_count": 9,
     "metadata": {},
     "output_type": "execute_result"
    }
   ],
   "source": [
    "bottom_tier"
   ]
  }
 ],
 "metadata": {
  "kernelspec": {
   "display_name": "Julia 1.1.1",
   "language": "julia",
   "name": "julia-1.1"
  },
  "language_info": {
   "file_extension": ".jl",
   "mimetype": "application/julia",
   "name": "julia",
   "version": "1.1.1"
  }
 },
 "nbformat": 4,
 "nbformat_minor": 2
}
