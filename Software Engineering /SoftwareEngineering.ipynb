{
 "cells": [
  {
   "cell_type": "markdown",
   "metadata": {},
   "source": [
    "# <center>New Program Creation: A Case Study</center>\n",
    "## <center> Undergraduate Software Engineering Curricula at the Univeristy of Arizona </center>\n",
    "\n",
    "<center>\n",
    "    <b>Gregory L. Heileman$^\\dagger$</b> <br>\n",
    "    $^\\dagger$Department of Electrical & Computer Engineering <br>\n",
    "    University of Arizona <br>\n",
    "    heileman@arizona.edu\n",
    "</center>"
   ]
  },
  {
   "cell_type": "markdown",
   "metadata": {},
   "source": [
    "## 1  Introduction\n",
    "In this case study we consider the creation of a new undergraduate software engineering program at the University of Arizona. This will include consideration of the expected demand for the major as well as the employment opportunites that will be available to the graduates of this programs. Next we will consider similar programs at peer institions, which will include an analysis of the curricula offered by Software Engineering programs at these institutions. "
   ]
  },
  {
   "cell_type": "markdown",
   "metadata": {},
   "source": [
    "## 2  Market Demand\n",
    "\n",
    "Software developer is ranked as the best technology job in America by the U.S. News & World Report\n",
    "\n",
    "Bureau of Labor Statistics predicts a 30% growth in software engineering jobs from 2010 through 2020 (1.85M to 2.4M)\n",
    "\n",
    "Co-ops/internships available at companies such as Lockheed Martin, Rockwell Collins and Citigroup\n",
    "\n",
    "<Complete using Stephanie's data>\n",
    "\n"
   ]
  },
  {
   "cell_type": "markdown",
   "metadata": {},
   "source": [
    "## 3  ABET Requirements \n",
    "\n",
    "In this section we consider the manner in which software engineering progrmas are offered at a number of peer institutions. Because our goal is to create a software engineering program that is accredited by ABET, we will consider only those peer programs that seek similar ABET accreditation. \n",
    "\n",
    "The requirements associated with ABET accreditation that are relevant to new program creation include the following items.  <Describe EAC and CSAB>\n",
    "\n",
    "**Program Educational Objectives.** In order for a program to recieve ABET accredition it must identify a set of *program education objectives* (PEOs) that broadly state what the program's graduates are expected to attain within a few years after graduation. These PEOs must be created and maintained so as to address the needs of the program's constituents. Thus, in constructing the PEOs for the University of Arizona software engineering program, we must indentify constituents and how the program will serve their needs. \n",
    "\n",
    "**Student Outcomes.** Using ABET terminology, student outcomes are program-level learning outcomes that the curriculum associted with *any* ABET-accreditied program must support. By attaining these outcomes, students will be prepared to enter the practice of engineering.  These outcomes include:\n",
    "\n",
    "1. an ability to identify, formulate, and solve complex engineering problems by applying principles of engineering, science, and mathematics\n",
    "2. an ability to apply engineering design to produce solutions that meet specified needs with consideration of public health, safety, and welfare, as well as global, cultural, social, environmental, and economic factors\n",
    "3. an ability to communicate effectively with a range of audiences\n",
    "4. an ability to recognize ethical and professional responsibilities in engineering situations and make informed judgments, which must consider the impact of engineering solutions in global, economic, environmental, and societal contexts\n",
    "5. an ability to function effectively on a team whose members together provide leadership, create a collaborative and inclusive environment, establish goals, plan tasks, and meet objectives\n",
    "6. an ability to develop and conduct appropriate experimentation, analyze and interpret data, and use engineering judgment to draw conclusions\n",
    "7. an ability to acquire and apply new knowledge as needed, using appropriate learning strategies.\n",
    "\n",
    "In addition, ABET \n",
    "    These program criteria apply to engineering programs that include “software” or similar modifiers in their titles.\n",
    "1. Curriculum.\n",
    "The curriculum must provide both breadth and depth across the range of engineering and computer science topics implied by the title and objectives of the program.\n",
    "The curriculum must include computing fundamentals, software design and construction, requirements analysis, security, verification, and validation; software engineering processes and tools appropriate for the development of complex software systems; and discrete mathematics, probability, and statistics, with applications appropriate to software engineering.\n",
    "2. Faculty.\n",
    "The program must demonstrate that faculty members teaching core software engineering topics have an understanding of professional practice in software engineering and maintain currency in their areas of professional or scholarly specialization."
   ]
  },
  {
   "cell_type": "markdown",
   "metadata": {},
   "source": [
    "## 4  Peer Comparisons\n",
    "There are a total of 37 ABET-accredited bachelor's level programs in Software Engineering, with 30 of these located in the United States (see: https://www.abet.org/accreditation/find-programs/).\n",
    "\n",
    "Note: The UC-Irvine program is NOT listed as having ABET accreditation, and Carnegie Mellon offers a Software Engineerig Minor that is not ABET accredited.\n",
    "\n",
    "In order to conduct curricular analyses of peer schools, we first need to load the packages associated with the Curricular Analtyics Toolbox."
   ]
  },
  {
   "cell_type": "code",
   "execution_count": 159,
   "metadata": {},
   "outputs": [],
   "source": [
    "using CurricularAnalytics, CurricularVisualization\n",
    "using DataFrames\n",
    "using GLM"
   ]
  },
  {
   "cell_type": "markdown",
   "metadata": {},
   "source": [
    "***Arizona State University.*** This program is located in the Schools of Engineering at ASU and leads to the Bachelor of Science in software engineering degree. They offer a 3-year accelerated programs, as well as an accelerated 4+1 program leading to a Master's of Science in software engineering."
   ]
  },
  {
   "cell_type": "code",
   "execution_count": 160,
   "metadata": {
    "scrolled": true
   },
   "outputs": [
    {
     "data": {
      "application/vnd.webio.node+json": {
       "children": [
        {
         "children": [
          ""
         ],
         "instanceArgs": {
          "namespace": "html",
          "tag": "iframe"
         },
         "nodeType": "DOM",
         "props": {
          "events": {
           "load": "(function (){this.contentWindow.postMessage({\"options\":{\"hideTerms\":false,\"edit\":false},\"curriculum\":{\"name\":\"Software Engineering\",\"dp_name\":\"2020-21 Degree Plan\",\"curriculum_terms\":[{\"name\":\"Term 1\",\"curriculum_items\":[{\"curriculum_requisites\":[],\"name\":\"CSE 110\",\"metrics\":{\"centrality\":0,\"complexity\":23.0,\"blocking factor\":16,\"delay factor\":7.0},\"nameSub\":\"Principles of Programming\",\"id\":1,\"credits\":3,\"nameCanonical\":\"Programming I\"},{\"curriculum_requisites\":[],\"name\":\"MAT 265\",\"metrics\":{\"centrality\":0,\"complexity\":26.0,\"blocking factor\":19,\"delay factor\":7.0},\"nameSub\":\"Calculus for Engineers I\",\"id\":2,\"credits\":3,\"nameCanonical\":\"Calculus I\"},{\"curriculum_requisites\":[],\"name\":\"ASU 101-CSE\",\"metrics\":{\"centrality\":0,\"complexity\":1.0,\"blocking factor\":0,\"delay factor\":1.0},\"nameSub\":\"The ASU Experience\",\"id\":3,\"credits\":1,\"nameCanonical\":\"\"},{\"curriculum_requisites\":[],\"name\":\"ENG 101\",\"metrics\":{\"centrality\":0,\"complexity\":6.0,\"blocking factor\":3,\"delay factor\":3.0},\"nameSub\":\"First-year Composition\",\"id\":4,\"credits\":3,\"nameCanonical\":\"First-year Composition I\"},{\"curriculum_requisites\":[],\"name\":\"FSE 100\",\"metrics\":{\"centrality\":0,\"complexity\":6.0,\"blocking factor\":3,\"delay factor\":3.0},\"nameSub\":\"Introduction to Engineering \",\"id\":5,\"credits\":2,\"nameCanonical\":\"Introduction to Engineering\"},{\"curriculum_requisites\":[],\"name\":\" \",\"metrics\":{\"centrality\":0,\"complexity\":1.0,\"blocking factor\":0,\"delay factor\":1.0},\"nameSub\":\"Social-Behavioral Sciences\",\"id\":6,\"credits\":3,\"nameCanonical\":\"\"}],\"id\":1},{\"name\":\"Term 2\",\"curriculum_items\":[{\"curriculum_requisites\":[{\"source_id\":1,\"target_id\":7,\"type\":\"CurriculumPrerequisite\"}],\"name\":\"CSE 205\",\"metrics\":{\"centrality\":72,\"complexity\":20.0,\"blocking factor\":13,\"delay factor\":7.0},\"nameSub\":\"Object-Oriented Programming and Data Structures\",\"id\":7,\"credits\":3,\"nameCanonical\":\"Data Structures\"},{\"curriculum_requisites\":[{\"source_id\":4,\"target_id\":8,\"type\":\"CurriculumCorequisite\"}],\"name\":\"EGR 104\",\"metrics\":{\"centrality\":0,\"complexity\":2.0,\"blocking factor\":0,\"delay factor\":2.0},\"nameSub\":\"Critical Inquiry in Engineering\",\"id\":8,\"credits\":3,\"nameCanonical\":\"\"},{\"curriculum_requisites\":[{\"source_id\":4,\"target_id\":9,\"type\":\"CurriculumPrerequisite\"}],\"name\":\"ENG 102\",\"metrics\":{\"centrality\":3,\"complexity\":4.0,\"blocking factor\":1,\"delay factor\":3.0},\"nameSub\":\"First-year Composition\",\"id\":9,\"credits\":3,\"nameCanonical\":\"First-year Composition II\"},{\"curriculum_requisites\":[{\"source_id\":2,\"target_id\":10,\"type\":\"CurriculumPrerequisite\"}],\"name\":\"MAT 266\",\"metrics\":{\"centrality\":9,\"complexity\":6.0,\"blocking factor\":3,\"delay factor\":3.0},\"nameSub\":\"Calculus for Engineers II\",\"id\":10,\"credits\":3,\"nameCanonical\":\"Calculus II\"},{\"curriculum_requisites\":[],\"name\":\" \",\"metrics\":{\"centrality\":0,\"complexity\":1.0,\"blocking factor\":0,\"delay factor\":1.0},\"nameSub\":\"Humanities, Arts and Design AND Cultural Diversity in the U.S.\",\"id\":11,\"credits\":3,\"nameCanonical\":\"\"}],\"id\":2},{\"name\":\"Term 3\",\"curriculum_items\":[{\"curriculum_requisites\":[{\"source_id\":2,\"target_id\":12,\"type\":\"CurriculumPrerequisite\"}],\"name\":\"MAT 243\",\"metrics\":{\"centrality\":69,\"complexity\":19.0,\"blocking factor\":12,\"delay factor\":7.0},\"nameSub\":\"Discrete Mathematical Structures\",\"id\":12,\"credits\":3,\"nameCanonical\":\"Discrete Mathematics\"},{\"curriculum_requisites\":[{\"source_id\":2,\"target_id\":13,\"type\":\"CurriculumPrerequisite\"},{\"source_id\":1,\"target_id\":13,\"type\":\"CurriculumPrerequisite\"}],\"name\":\"SER 232\",\"metrics\":{\"centrality\":0,\"complexity\":2.0,\"blocking factor\":0,\"delay factor\":2.0},\"nameSub\":\"Computer System Fundamentals\",\"id\":13,\"credits\":3,\"nameCanonical\":\"\"},{\"curriculum_requisites\":[{\"source_id\":7,\"target_id\":14,\"type\":\"CurriculumPrerequisite\"}],\"name\":\"CSE 240\",\"metrics\":{\"centrality\":0,\"complexity\":3.0,\"blocking factor\":0,\"delay factor\":3.0},\"nameSub\":\"Introduction to Programming Languages\",\"id\":14,\"credits\":3,\"nameCanonical\":\"\"},{\"curriculum_requisites\":[{\"source_id\":10,\"target_id\":15,\"type\":\"CurriculumPrerequisite\"}],\"name\":\"MAT 267\",\"metrics\":{\"centrality\":0,\"complexity\":3.0,\"blocking factor\":0,\"delay factor\":3.0},\"nameSub\":\"Calculus for Engineers III\",\"id\":15,\"credits\":3,\"nameCanonical\":\"\"},{\"curriculum_requisites\":[],\"name\":\" \",\"metrics\":{\"centrality\":0,\"complexity\":3.0,\"blocking factor\":1,\"delay factor\":2.0},\"nameSub\":\"Natural Science\",\"id\":16,\"credits\":4,\"nameCanonical\":\"\"}],\"id\":3},{\"name\":\"Term 4\",\"curriculum_items\":[{\"curriculum_requisites\":[{\"source_id\":7,\"target_id\":17,\"type\":\"CurriculumPrerequisite\"},{\"source_id\":12,\"target_id\":17,\"type\":\"CurriculumPrerequisite\"}],\"name\":\"SER 222\",\"metrics\":{\"centrality\":138,\"complexity\":18.0,\"blocking factor\":11,\"delay factor\":7.0},\"nameSub\":\"Design and Analysis of Data Structures and Algorithms\",\"id\":17,\"credits\":3,\"nameCanonical\":\"Algorithms\"},{\"curriculum_requisites\":[{\"source_id\":1,\"target_id\":18,\"type\":\"CurriculumPrerequisite\"}],\"name\":\"CSE 230\",\"metrics\":{\"centrality\":8,\"complexity\":7.0,\"blocking factor\":3,\"delay factor\":4.0},\"nameSub\":\"Computer Organization and Assembly Language Programming\",\"id\":18,\"credits\":3,\"nameCanonical\":\"Computer Organization\"},{\"curriculum_requisites\":[{\"source_id\":2,\"target_id\":19,\"type\":\"CurriculumPrerequisite\"}],\"name\":\"EGR 280\",\"metrics\":{\"centrality\":0,\"complexity\":2.0,\"blocking factor\":0,\"delay factor\":2.0},\"nameSub\":\"Engineering Statistics\",\"id\":19,\"credits\":3,\"nameCanonical\":\"Statistics\"},{\"curriculum_requisites\":[{\"source_id\":10,\"target_id\":20,\"type\":\"CurriculumCorequisite\"},{\"source_id\":2,\"target_id\":20,\"type\":\"CurriculumPrerequisite\"},{\"source_id\":21,\"target_id\":20,\"type\":\"CurriculumStrictCorequisite\"}],\"name\":\"PHY 121\",\"metrics\":{\"centrality\":0,\"complexity\":3.0,\"blocking factor\":0,\"delay factor\":3.0},\"nameSub\":\"University Physics I: Mechanics\",\"id\":20,\"credits\":3,\"nameCanonical\":\"Physics I\"},{\"curriculum_requisites\":[],\"name\":\"PHY 122\",\"metrics\":{\"centrality\":0,\"complexity\":3.0,\"blocking factor\":1,\"delay factor\":2.0},\"nameSub\":\"University Physics Laboratory\",\"id\":21,\"credits\":1,\"nameCanonical\":\"Physics I Lab\"},{\"curriculum_requisites\":[{\"source_id\":17,\"target_id\":22,\"type\":\"CurriculumCorequisite\"}],\"name\":\"SER 216\",\"metrics\":{\"centrality\":60,\"complexity\":14.0,\"blocking factor\":7,\"delay factor\":7.0},\"nameSub\":\"Software Enterprise: Personal Process and Quality\",\"id\":22,\"credits\":3,\"nameCanonical\":\"\"}],\"id\":4},{\"name\":\"Term 5\",\"curriculum_items\":[{\"curriculum_requisites\":[{\"source_id\":17,\"target_id\":23,\"type\":\"CurriculumCorequisite\"},{\"source_id\":18,\"target_id\":23,\"type\":\"CurriculumPrerequisite\"}],\"name\":\"SER 334\",\"metrics\":{\"centrality\":28,\"complexity\":7.0,\"blocking factor\":2,\"delay factor\":5.0},\"nameSub\":\"Operating Systems and System Programming\",\"id\":23,\"credits\":3,\"nameCanonical\":\"Operating Systems\"},{\"curriculum_requisites\":[{\"source_id\":10,\"target_id\":24,\"type\":\"CurriculumPrerequisite\"}],\"name\":\"MAT 343\",\"metrics\":{\"centrality\":0,\"complexity\":3.0,\"blocking factor\":0,\"delay factor\":3.0},\"nameSub\":\"Applied Linear Algebra\",\"id\":24,\"credits\":3,\"nameCanonical\":\"Linear Algebra\"},{\"curriculum_requisites\":[{\"source_id\":17,\"target_id\":25,\"type\":\"CurriculumPrerequisite\"},{\"source_id\":5,\"target_id\":25,\"type\":\"CurriculumCorequisite\"},{\"source_id\":22,\"target_id\":25,\"type\":\"CurriculumCorequisite\"}],\"name\":\"SER 315\",\"metrics\":{\"centrality\":50,\"complexity\":8.0,\"blocking factor\":2,\"delay factor\":6.0},\"nameSub\":\"Software Enterprise: Design and Process\",\"id\":25,\"credits\":3,\"nameCanonical\":\"\"},{\"curriculum_requisites\":[{\"source_id\":17,\"target_id\":26,\"type\":\"CurriculumPrerequisite\"}],\"name\":\"SER 322\",\"metrics\":{\"centrality\":0,\"complexity\":4.0,\"blocking factor\":0,\"delay factor\":4.0},\"nameSub\":\"Principles of Database Management\",\"id\":26,\"credits\":3,\"nameCanonical\":\"Database Management\"},{\"curriculum_requisites\":[{\"source_id\":16,\"target_id\":27,\"type\":\"CurriculumPrerequisite\"}],\"name\":\" \",\"metrics\":{\"centrality\":0,\"complexity\":2.0,\"blocking factor\":0,\"delay factor\":2.0},\"nameSub\":\"Natural Science\",\"id\":27,\"credits\":4,\"nameCanonical\":\"\"}],\"id\":5},{\"name\":\"Term 6\",\"curriculum_items\":[{\"curriculum_requisites\":[{\"source_id\":23,\"target_id\":28,\"type\":\"CurriculumCorequisite\"},{\"source_id\":17,\"target_id\":28,\"type\":\"CurriculumPrerequisite\"}],\"name\":\"SER 321\",\"metrics\":{\"centrality\":0,\"complexity\":5.0,\"blocking factor\":0,\"delay factor\":5.0},\"nameSub\":\"Principles of Distributed Software Systems \",\"id\":28,\"credits\":3,\"nameCanonical\":\"Distributed Systems \"},{\"curriculum_requisites\":[{\"source_id\":17,\"target_id\":29,\"type\":\"CurriculumPrerequisite\"},{\"source_id\":22,\"target_id\":29,\"type\":\"CurriculumPrerequisite\"}],\"name\":\"SER 316\",\"metrics\":{\"centrality\":48,\"complexity\":10.0,\"blocking factor\":3,\"delay factor\":7.0},\"nameSub\":\"Software Enterprise: Construction and Transition\",\"id\":29,\"credits\":3,\"nameCanonical\":\"\"},{\"curriculum_requisites\":[{\"source_id\":23,\"target_id\":30,\"type\":\"CurriculumCorequisite\"},{\"source_id\":25,\"target_id\":30,\"type\":\"CurriculumCorequisite\"},{\"source_id\":22,\"target_id\":30,\"type\":\"CurriculumPrerequisite\"}],\"name\":\"SER 335\",\"metrics\":{\"centrality\":0,\"complexity\":6.0,\"blocking factor\":0,\"delay factor\":6.0},\"nameSub\":\"Engineering Secure Software Systems\",\"id\":30,\"credits\":3,\"nameCanonical\":\"\"},{\"curriculum_requisites\":[],\"name\":\" \",\"metrics\":{\"centrality\":0,\"complexity\":1.0,\"blocking factor\":0,\"delay factor\":1.0},\"nameSub\":\"Technical Elective\",\"id\":31,\"credits\":3,\"nameCanonical\":\"\"},{\"curriculum_requisites\":[],\"name\":\" \",\"metrics\":{\"centrality\":0,\"complexity\":1.0,\"blocking factor\":0,\"delay factor\":1.0},\"nameSub\":\"Social-Behavioral Sciences AND Global Awareness\",\"id\":32,\"credits\":3,\"nameCanonical\":\"\"}],\"id\":6},{\"name\":\"Term 7\",\"curriculum_items\":[{\"curriculum_requisites\":[{\"source_id\":29,\"target_id\":33,\"type\":\"CurriculumPrerequisite\"}],\"name\":\"SER 401\",\"metrics\":{\"centrality\":26,\"complexity\":8.0,\"blocking factor\":1,\"delay factor\":7.0},\"nameSub\":\"Computing Capstone Project I\",\"id\":33,\"credits\":3,\"nameCanonical\":\"Senior Design I\"},{\"curriculum_requisites\":[{\"source_id\":25,\"target_id\":34,\"type\":\"CurriculumPrerequisite\"}],\"name\":\"SER 415\",\"metrics\":{\"centrality\":0,\"complexity\":6.0,\"blocking factor\":0,\"delay factor\":6.0},\"nameSub\":\"Software Enterprise: Inception and Elaboration\",\"id\":34,\"credits\":3,\"nameCanonical\":\"\"},{\"curriculum_requisites\":[],\"name\":\"SER 4xx\",\"metrics\":{\"centrality\":0,\"complexity\":1.0,\"blocking factor\":0,\"delay factor\":1.0},\"nameSub\":\"Software Engineering Elective\",\"id\":35,\"credits\":3,\"nameCanonical\":\"\"},{\"curriculum_requisites\":[{\"source_id\":9,\"target_id\":36,\"type\":\"CurriculumPrerequisite\"}],\"name\":\"HIST 318\",\"metrics\":{\"centrality\":0,\"complexity\":3.0,\"blocking factor\":0,\"delay factor\":3.0},\"nameSub\":\"Upper Division Social-Behavioral Sciences (HIST 318 recommended)\",\"id\":36,\"credits\":3,\"nameCanonical\":\"\"},{\"curriculum_requisites\":[],\"name\":\" \",\"metrics\":{\"centrality\":0,\"complexity\":1.0,\"blocking factor\":0,\"delay factor\":1.0},\"nameSub\":\"Humanities, Arts and Design AND Historical Awareness\",\"id\":37,\"credits\":3,\"nameCanonical\":\"\"}],\"id\":7},{\"name\":\"Term 8\",\"curriculum_items\":[{\"curriculum_requisites\":[{\"source_id\":33,\"target_id\":38,\"type\":\"CurriculumPrerequisite\"}],\"name\":\"SER 402\",\"metrics\":{\"centrality\":0,\"complexity\":7.0,\"blocking factor\":0,\"delay factor\":7.0},\"nameSub\":\"Computing Capstone Project II\",\"id\":38,\"credits\":3,\"nameCanonical\":\"Senior Design II\"},{\"curriculum_requisites\":[{\"source_id\":29,\"target_id\":39,\"type\":\"CurriculumPrerequisite\"}],\"name\":\"SER 416\",\"metrics\":{\"centrality\":0,\"complexity\":6.0,\"blocking factor\":0,\"delay factor\":6.0},\"nameSub\":\"Software Enterprise: Project and Process Management\",\"id\":39,\"credits\":3,\"nameCanonical\":\"\"},{\"curriculum_requisites\":[],\"name\":\"SER 4xx\",\"metrics\":{\"centrality\":0,\"complexity\":1.0,\"blocking factor\":0,\"delay factor\":1.0},\"nameSub\":\"Software Engineering Elective\",\"id\":40,\"credits\":3,\"nameCanonical\":\"\"},{\"curriculum_requisites\":[],\"name\":\"SER 4xx\",\"metrics\":{\"centrality\":0,\"complexity\":1.0,\"blocking factor\":0,\"delay factor\":1.0},\"nameSub\":\"Software Engineering Elective\",\"id\":41,\"credits\":3,\"nameCanonical\":\"\"}],\"id\":8}],\"institution\":\"Arizona State University (Polytechnic Campus)\"}},\"*\"); window.removeEventListener(\"message\",window.messageReceived); window.messageReceived=(function (event){return (event.data.curriculum!==undefined) ? (WebIO.setval({\"name\":\"curriculum-data\",\"scope\":\"4405695425285447142\",\"id\":\"18381686284699672222\",\"type\":\"observable\"},event.data.curriculum)) : undefined}); return window.addEventListener(\"message\",window.messageReceived)})"
          },
          "id": "curriculum",
          "src": "http://localhost:8156",
          "style": {
           "border": "none",
           "height": "90vh",
           "margin": "0",
           "padding": "0",
           "width": "100%"
          }
         },
         "type": "node"
        }
       ],
       "instanceArgs": {
        "handlers": {},
        "id": "4405695425285447142",
        "imports": {
         "data": [],
         "type": "async_block"
        },
        "mount_callbacks": [],
        "observables": {
         "curriculum-data": {
          "id": "18381686284699672222",
          "sync": true,
          "value": {
           "curriculum": {
            "curriculum_terms": [
             {
              "curriculum_items": [
               {
                "credits": 3,
                "curriculum_requisites": [],
                "id": 1,
                "metrics": {
                 "blocking factor": 16,
                 "centrality": 0,
                 "complexity": 23,
                 "delay factor": 7
                },
                "name": "CSE 110",
                "nameCanonical": "Programming I",
                "nameSub": "Principles of Programming"
               },
               {
                "credits": 3,
                "curriculum_requisites": [],
                "id": 2,
                "metrics": {
                 "blocking factor": 19,
                 "centrality": 0,
                 "complexity": 26,
                 "delay factor": 7
                },
                "name": "MAT 265",
                "nameCanonical": "Calculus I",
                "nameSub": "Calculus for Engineers I"
               },
               {
                "credits": 1,
                "curriculum_requisites": [],
                "id": 3,
                "metrics": {
                 "blocking factor": 0,
                 "centrality": 0,
                 "complexity": 1,
                 "delay factor": 1
                },
                "name": "ASU 101-CSE",
                "nameCanonical": "",
                "nameSub": "The ASU Experience"
               },
               {
                "credits": 3,
                "curriculum_requisites": [],
                "id": 4,
                "metrics": {
                 "blocking factor": 3,
                 "centrality": 0,
                 "complexity": 6,
                 "delay factor": 3
                },
                "name": "ENG 101",
                "nameCanonical": "First-year Composition I",
                "nameSub": "First-year Composition"
               },
               {
                "credits": 2,
                "curriculum_requisites": [],
                "id": 5,
                "metrics": {
                 "blocking factor": 3,
                 "centrality": 0,
                 "complexity": 6,
                 "delay factor": 3
                },
                "name": "FSE 100",
                "nameCanonical": "Introduction to Engineering",
                "nameSub": "Introduction to Engineering "
               },
               {
                "credits": 3,
                "curriculum_requisites": [],
                "id": 6,
                "metrics": {
                 "blocking factor": 0,
                 "centrality": 0,
                 "complexity": 1,
                 "delay factor": 1
                },
                "name": " ",
                "nameCanonical": "",
                "nameSub": "Social-Behavioral Sciences"
               }
              ],
              "id": 1,
              "name": "Term 1"
             },
             {
              "curriculum_items": [
               {
                "credits": 3,
                "curriculum_requisites": [
                 {
                  "source_id": 1,
                  "target_id": 7,
                  "type": "CurriculumPrerequisite"
                 }
                ],
                "id": 7,
                "metrics": {
                 "blocking factor": 13,
                 "centrality": 72,
                 "complexity": 20,
                 "delay factor": 7
                },
                "name": "CSE 205",
                "nameCanonical": "Data Structures",
                "nameSub": "Object-Oriented Programming and Data Structures"
               },
               {
                "credits": 3,
                "curriculum_requisites": [
                 {
                  "source_id": 4,
                  "target_id": 8,
                  "type": "CurriculumCorequisite"
                 }
                ],
                "id": 8,
                "metrics": {
                 "blocking factor": 0,
                 "centrality": 0,
                 "complexity": 2,
                 "delay factor": 2
                },
                "name": "EGR 104",
                "nameCanonical": "",
                "nameSub": "Critical Inquiry in Engineering"
               },
               {
                "credits": 3,
                "curriculum_requisites": [
                 {
                  "source_id": 4,
                  "target_id": 9,
                  "type": "CurriculumPrerequisite"
                 }
                ],
                "id": 9,
                "metrics": {
                 "blocking factor": 1,
                 "centrality": 3,
                 "complexity": 4,
                 "delay factor": 3
                },
                "name": "ENG 102",
                "nameCanonical": "First-year Composition II",
                "nameSub": "First-year Composition"
               },
               {
                "credits": 3,
                "curriculum_requisites": [
                 {
                  "source_id": 2,
                  "target_id": 10,
                  "type": "CurriculumPrerequisite"
                 }
                ],
                "id": 10,
                "metrics": {
                 "blocking factor": 3,
                 "centrality": 9,
                 "complexity": 6,
                 "delay factor": 3
                },
                "name": "MAT 266",
                "nameCanonical": "Calculus II",
                "nameSub": "Calculus for Engineers II"
               },
               {
                "credits": 3,
                "curriculum_requisites": [],
                "id": 11,
                "metrics": {
                 "blocking factor": 0,
                 "centrality": 0,
                 "complexity": 1,
                 "delay factor": 1
                },
                "name": " ",
                "nameCanonical": "",
                "nameSub": "Humanities, Arts and Design AND Cultural Diversity in the U.S."
               }
              ],
              "id": 2,
              "name": "Term 2"
             },
             {
              "curriculum_items": [
               {
                "credits": 3,
                "curriculum_requisites": [
                 {
                  "source_id": 2,
                  "target_id": 12,
                  "type": "CurriculumPrerequisite"
                 }
                ],
                "id": 12,
                "metrics": {
                 "blocking factor": 12,
                 "centrality": 69,
                 "complexity": 19,
                 "delay factor": 7
                },
                "name": "MAT 243",
                "nameCanonical": "Discrete Mathematics",
                "nameSub": "Discrete Mathematical Structures"
               },
               {
                "credits": 3,
                "curriculum_requisites": [
                 {
                  "source_id": 2,
                  "target_id": 13,
                  "type": "CurriculumPrerequisite"
                 },
                 {
                  "source_id": 1,
                  "target_id": 13,
                  "type": "CurriculumPrerequisite"
                 }
                ],
                "id": 13,
                "metrics": {
                 "blocking factor": 0,
                 "centrality": 0,
                 "complexity": 2,
                 "delay factor": 2
                },
                "name": "SER 232",
                "nameCanonical": "",
                "nameSub": "Computer System Fundamentals"
               },
               {
                "credits": 3,
                "curriculum_requisites": [
                 {
                  "source_id": 7,
                  "target_id": 14,
                  "type": "CurriculumPrerequisite"
                 }
                ],
                "id": 14,
                "metrics": {
                 "blocking factor": 0,
                 "centrality": 0,
                 "complexity": 3,
                 "delay factor": 3
                },
                "name": "CSE 240",
                "nameCanonical": "",
                "nameSub": "Introduction to Programming Languages"
               },
               {
                "credits": 3,
                "curriculum_requisites": [
                 {
                  "source_id": 10,
                  "target_id": 15,
                  "type": "CurriculumPrerequisite"
                 }
                ],
                "id": 15,
                "metrics": {
                 "blocking factor": 0,
                 "centrality": 0,
                 "complexity": 3,
                 "delay factor": 3
                },
                "name": "MAT 267",
                "nameCanonical": "",
                "nameSub": "Calculus for Engineers III"
               },
               {
                "credits": 4,
                "curriculum_requisites": [],
                "id": 16,
                "metrics": {
                 "blocking factor": 1,
                 "centrality": 0,
                 "complexity": 3,
                 "delay factor": 2
                },
                "name": " ",
                "nameCanonical": "",
                "nameSub": "Natural Science"
               }
              ],
              "id": 3,
              "name": "Term 3"
             },
             {
              "curriculum_items": [
               {
                "credits": 3,
                "curriculum_requisites": [
                 {
                  "source_id": 7,
                  "target_id": 17,
                  "type": "CurriculumPrerequisite"
                 },
                 {
                  "source_id": 12,
                  "target_id": 17,
                  "type": "CurriculumPrerequisite"
                 }
                ],
                "id": 17,
                "metrics": {
                 "blocking factor": 11,
                 "centrality": 138,
                 "complexity": 18,
                 "delay factor": 7
                },
                "name": "SER 222",
                "nameCanonical": "Algorithms",
                "nameSub": "Design and Analysis of Data Structures and Algorithms"
               },
               {
                "credits": 3,
                "curriculum_requisites": [
                 {
                  "source_id": 1,
                  "target_id": 18,
                  "type": "CurriculumPrerequisite"
                 }
                ],
                "id": 18,
                "metrics": {
                 "blocking factor": 3,
                 "centrality": 8,
                 "complexity": 7,
                 "delay factor": 4
                },
                "name": "CSE 230",
                "nameCanonical": "Computer Organization",
                "nameSub": "Computer Organization and Assembly Language Programming"
               },
               {
                "credits": 3,
                "curriculum_requisites": [
                 {
                  "source_id": 2,
                  "target_id": 19,
                  "type": "CurriculumPrerequisite"
                 }
                ],
                "id": 19,
                "metrics": {
                 "blocking factor": 0,
                 "centrality": 0,
                 "complexity": 2,
                 "delay factor": 2
                },
                "name": "EGR 280",
                "nameCanonical": "Statistics",
                "nameSub": "Engineering Statistics"
               },
               {
                "credits": 3,
                "curriculum_requisites": [
                 {
                  "source_id": 10,
                  "target_id": 20,
                  "type": "CurriculumCorequisite"
                 },
                 {
                  "source_id": 2,
                  "target_id": 20,
                  "type": "CurriculumPrerequisite"
                 },
                 {
                  "source_id": 21,
                  "target_id": 20,
                  "type": "CurriculumStrictCorequisite"
                 }
                ],
                "id": 20,
                "metrics": {
                 "blocking factor": 0,
                 "centrality": 0,
                 "complexity": 3,
                 "delay factor": 3
                },
                "name": "PHY 121",
                "nameCanonical": "Physics I",
                "nameSub": "University Physics I: Mechanics"
               },
               {
                "credits": 1,
                "curriculum_requisites": [],
                "id": 21,
                "metrics": {
                 "blocking factor": 1,
                 "centrality": 0,
                 "complexity": 3,
                 "delay factor": 2
                },
                "name": "PHY 122",
                "nameCanonical": "Physics I Lab",
                "nameSub": "University Physics Laboratory"
               },
               {
                "credits": 3,
                "curriculum_requisites": [
                 {
                  "source_id": 17,
                  "target_id": 22,
                  "type": "CurriculumCorequisite"
                 }
                ],
                "id": 22,
                "metrics": {
                 "blocking factor": 7,
                 "centrality": 60,
                 "complexity": 14,
                 "delay factor": 7
                },
                "name": "SER 216",
                "nameCanonical": "",
                "nameSub": "Software Enterprise: Personal Process and Quality"
               }
              ],
              "id": 4,
              "name": "Term 4"
             },
             {
              "curriculum_items": [
               {
                "credits": 3,
                "curriculum_requisites": [
                 {
                  "source_id": 17,
                  "target_id": 23,
                  "type": "CurriculumCorequisite"
                 },
                 {
                  "source_id": 18,
                  "target_id": 23,
                  "type": "CurriculumPrerequisite"
                 }
                ],
                "id": 23,
                "metrics": {
                 "blocking factor": 2,
                 "centrality": 28,
                 "complexity": 7,
                 "delay factor": 5
                },
                "name": "SER 334",
                "nameCanonical": "Operating Systems",
                "nameSub": "Operating Systems and System Programming"
               },
               {
                "credits": 3,
                "curriculum_requisites": [
                 {
                  "source_id": 10,
                  "target_id": 24,
                  "type": "CurriculumPrerequisite"
                 }
                ],
                "id": 24,
                "metrics": {
                 "blocking factor": 0,
                 "centrality": 0,
                 "complexity": 3,
                 "delay factor": 3
                },
                "name": "MAT 343",
                "nameCanonical": "Linear Algebra",
                "nameSub": "Applied Linear Algebra"
               },
               {
                "credits": 3,
                "curriculum_requisites": [
                 {
                  "source_id": 17,
                  "target_id": 25,
                  "type": "CurriculumPrerequisite"
                 },
                 {
                  "source_id": 5,
                  "target_id": 25,
                  "type": "CurriculumCorequisite"
                 },
                 {
                  "source_id": 22,
                  "target_id": 25,
                  "type": "CurriculumCorequisite"
                 }
                ],
                "id": 25,
                "metrics": {
                 "blocking factor": 2,
                 "centrality": 50,
                 "complexity": 8,
                 "delay factor": 6
                },
                "name": "SER 315",
                "nameCanonical": "",
                "nameSub": "Software Enterprise: Design and Process"
               },
               {
                "credits": 3,
                "curriculum_requisites": [
                 {
                  "source_id": 17,
                  "target_id": 26,
                  "type": "CurriculumPrerequisite"
                 }
                ],
                "id": 26,
                "metrics": {
                 "blocking factor": 0,
                 "centrality": 0,
                 "complexity": 4,
                 "delay factor": 4
                },
                "name": "SER 322",
                "nameCanonical": "Database Management",
                "nameSub": "Principles of Database Management"
               },
               {
                "credits": 4,
                "curriculum_requisites": [
                 {
                  "source_id": 16,
                  "target_id": 27,
                  "type": "CurriculumPrerequisite"
                 }
                ],
                "id": 27,
                "metrics": {
                 "blocking factor": 0,
                 "centrality": 0,
                 "complexity": 2,
                 "delay factor": 2
                },
                "name": " ",
                "nameCanonical": "",
                "nameSub": "Natural Science"
               }
              ],
              "id": 5,
              "name": "Term 5"
             },
             {
              "curriculum_items": [
               {
                "credits": 3,
                "curriculum_requisites": [
                 {
                  "source_id": 23,
                  "target_id": 28,
                  "type": "CurriculumCorequisite"
                 },
                 {
                  "source_id": 17,
                  "target_id": 28,
                  "type": "CurriculumPrerequisite"
                 }
                ],
                "id": 28,
                "metrics": {
                 "blocking factor": 0,
                 "centrality": 0,
                 "complexity": 5,
                 "delay factor": 5
                },
                "name": "SER 321",
                "nameCanonical": "Distributed Systems ",
                "nameSub": "Principles of Distributed Software Systems "
               },
               {
                "credits": 3,
                "curriculum_requisites": [
                 {
                  "source_id": 17,
                  "target_id": 29,
                  "type": "CurriculumPrerequisite"
                 },
                 {
                  "source_id": 22,
                  "target_id": 29,
                  "type": "CurriculumPrerequisite"
                 }
                ],
                "id": 29,
                "metrics": {
                 "blocking factor": 3,
                 "centrality": 48,
                 "complexity": 10,
                 "delay factor": 7
                },
                "name": "SER 316",
                "nameCanonical": "",
                "nameSub": "Software Enterprise: Construction and Transition"
               },
               {
                "credits": 3,
                "curriculum_requisites": [
                 {
                  "source_id": 23,
                  "target_id": 30,
                  "type": "CurriculumCorequisite"
                 },
                 {
                  "source_id": 25,
                  "target_id": 30,
                  "type": "CurriculumCorequisite"
                 },
                 {
                  "source_id": 22,
                  "target_id": 30,
                  "type": "CurriculumPrerequisite"
                 }
                ],
                "id": 30,
                "metrics": {
                 "blocking factor": 0,
                 "centrality": 0,
                 "complexity": 6,
                 "delay factor": 6
                },
                "name": "SER 335",
                "nameCanonical": "",
                "nameSub": "Engineering Secure Software Systems"
               },
               {
                "credits": 3,
                "curriculum_requisites": [],
                "id": 31,
                "metrics": {
                 "blocking factor": 0,
                 "centrality": 0,
                 "complexity": 1,
                 "delay factor": 1
                },
                "name": " ",
                "nameCanonical": "",
                "nameSub": "Technical Elective"
               },
               {
                "credits": 3,
                "curriculum_requisites": [],
                "id": 32,
                "metrics": {
                 "blocking factor": 0,
                 "centrality": 0,
                 "complexity": 1,
                 "delay factor": 1
                },
                "name": " ",
                "nameCanonical": "",
                "nameSub": "Social-Behavioral Sciences AND Global Awareness"
               }
              ],
              "id": 6,
              "name": "Term 6"
             },
             {
              "curriculum_items": [
               {
                "credits": 3,
                "curriculum_requisites": [
                 {
                  "source_id": 29,
                  "target_id": 33,
                  "type": "CurriculumPrerequisite"
                 }
                ],
                "id": 33,
                "metrics": {
                 "blocking factor": 1,
                 "centrality": 26,
                 "complexity": 8,
                 "delay factor": 7
                },
                "name": "SER 401",
                "nameCanonical": "Senior Design I",
                "nameSub": "Computing Capstone Project I"
               },
               {
                "credits": 3,
                "curriculum_requisites": [
                 {
                  "source_id": 25,
                  "target_id": 34,
                  "type": "CurriculumPrerequisite"
                 }
                ],
                "id": 34,
                "metrics": {
                 "blocking factor": 0,
                 "centrality": 0,
                 "complexity": 6,
                 "delay factor": 6
                },
                "name": "SER 415",
                "nameCanonical": "",
                "nameSub": "Software Enterprise: Inception and Elaboration"
               },
               {
                "credits": 3,
                "curriculum_requisites": [],
                "id": 35,
                "metrics": {
                 "blocking factor": 0,
                 "centrality": 0,
                 "complexity": 1,
                 "delay factor": 1
                },
                "name": "SER 4xx",
                "nameCanonical": "",
                "nameSub": "Software Engineering Elective"
               },
               {
                "credits": 3,
                "curriculum_requisites": [
                 {
                  "source_id": 9,
                  "target_id": 36,
                  "type": "CurriculumPrerequisite"
                 }
                ],
                "id": 36,
                "metrics": {
                 "blocking factor": 0,
                 "centrality": 0,
                 "complexity": 3,
                 "delay factor": 3
                },
                "name": "HIST 318",
                "nameCanonical": "",
                "nameSub": "Upper Division Social-Behavioral Sciences (HIST 318 recommended)"
               },
               {
                "credits": 3,
                "curriculum_requisites": [],
                "id": 37,
                "metrics": {
                 "blocking factor": 0,
                 "centrality": 0,
                 "complexity": 1,
                 "delay factor": 1
                },
                "name": " ",
                "nameCanonical": "",
                "nameSub": "Humanities, Arts and Design AND Historical Awareness"
               }
              ],
              "id": 7,
              "name": "Term 7"
             },
             {
              "curriculum_items": [
               {
                "credits": 3,
                "curriculum_requisites": [
                 {
                  "source_id": 33,
                  "target_id": 38,
                  "type": "CurriculumPrerequisite"
                 }
                ],
                "id": 38,
                "metrics": {
                 "blocking factor": 0,
                 "centrality": 0,
                 "complexity": 7,
                 "delay factor": 7
                },
                "name": "SER 402",
                "nameCanonical": "Senior Design II",
                "nameSub": "Computing Capstone Project II"
               },
               {
                "credits": 3,
                "curriculum_requisites": [
                 {
                  "source_id": 29,
                  "target_id": 39,
                  "type": "CurriculumPrerequisite"
                 }
                ],
                "id": 39,
                "metrics": {
                 "blocking factor": 0,
                 "centrality": 0,
                 "complexity": 6,
                 "delay factor": 6
                },
                "name": "SER 416",
                "nameCanonical": "",
                "nameSub": "Software Enterprise: Project and Process Management"
               },
               {
                "credits": 3,
                "curriculum_requisites": [],
                "id": 40,
                "metrics": {
                 "blocking factor": 0,
                 "centrality": 0,
                 "complexity": 1,
                 "delay factor": 1
                },
                "name": "SER 4xx",
                "nameCanonical": "",
                "nameSub": "Software Engineering Elective"
               },
               {
                "credits": 3,
                "curriculum_requisites": [],
                "id": 41,
                "metrics": {
                 "blocking factor": 0,
                 "centrality": 0,
                 "complexity": 1,
                 "delay factor": 1
                },
                "name": "SER 4xx",
                "nameCanonical": "",
                "nameSub": "Software Engineering Elective"
               }
              ],
              "id": 8,
              "name": "Term 8"
             }
            ],
            "dp_name": "2020-21 Degree Plan",
            "institution": "Arizona State University (Polytechnic Campus)",
            "name": "Software Engineering"
           },
           "options": {
            "edit": false,
            "hideTerms": false
           }
          }
         }
        },
        "systemjs_options": null
       },
       "nodeType": "Scope",
       "props": {},
       "type": "node"
      },
      "text/html": [
       "<div\n",
       "    class=\"webio-mountpoint\"\n",
       "    data-webio-mountpoint=\"17684496790718489198\"\n",
       ">\n",
       "    <script>\n",
       "    if (window.require && require.defined && require.defined(\"nbextensions/webio-jupyter-notebook\")) {\n",
       "        console.log(\"Jupyter WebIO extension detected, not mounting.\");\n",
       "    } else if (window.WebIO) {\n",
       "        WebIO.mount(\n",
       "            document.querySelector('[data-webio-mountpoint=\"17684496790718489198\"]'),\n",
       "            {\"props\":{},\"nodeType\":\"Scope\",\"type\":\"node\",\"instanceArgs\":{\"imports\":{\"data\":[],\"type\":\"async_block\"},\"id\":\"4405695425285447142\",\"handlers\":{},\"systemjs_options\":null,\"mount_callbacks\":[],\"observables\":{\"curriculum-data\":{\"sync\":true,\"id\":\"18381686284699672222\",\"value\":{\"options\":{\"hideTerms\":false,\"edit\":false},\"curriculum\":{\"name\":\"Software Engineering\",\"dp_name\":\"2020-21 Degree Plan\",\"curriculum_terms\":[{\"name\":\"Term 1\",\"curriculum_items\":[{\"curriculum_requisites\":[],\"name\":\"CSE 110\",\"metrics\":{\"centrality\":0,\"complexity\":23.0,\"blocking factor\":16,\"delay factor\":7.0},\"nameSub\":\"Principles of Programming\",\"id\":1,\"credits\":3,\"nameCanonical\":\"Programming I\"},{\"curriculum_requisites\":[],\"name\":\"MAT 265\",\"metrics\":{\"centrality\":0,\"complexity\":26.0,\"blocking factor\":19,\"delay factor\":7.0},\"nameSub\":\"Calculus for Engineers I\",\"id\":2,\"credits\":3,\"nameCanonical\":\"Calculus I\"},{\"curriculum_requisites\":[],\"name\":\"ASU 101-CSE\",\"metrics\":{\"centrality\":0,\"complexity\":1.0,\"blocking factor\":0,\"delay factor\":1.0},\"nameSub\":\"The ASU Experience\",\"id\":3,\"credits\":1,\"nameCanonical\":\"\"},{\"curriculum_requisites\":[],\"name\":\"ENG 101\",\"metrics\":{\"centrality\":0,\"complexity\":6.0,\"blocking factor\":3,\"delay factor\":3.0},\"nameSub\":\"First-year Composition\",\"id\":4,\"credits\":3,\"nameCanonical\":\"First-year Composition I\"},{\"curriculum_requisites\":[],\"name\":\"FSE 100\",\"metrics\":{\"centrality\":0,\"complexity\":6.0,\"blocking factor\":3,\"delay factor\":3.0},\"nameSub\":\"Introduction to Engineering \",\"id\":5,\"credits\":2,\"nameCanonical\":\"Introduction to Engineering\"},{\"curriculum_requisites\":[],\"name\":\" \",\"metrics\":{\"centrality\":0,\"complexity\":1.0,\"blocking factor\":0,\"delay factor\":1.0},\"nameSub\":\"Social-Behavioral Sciences\",\"id\":6,\"credits\":3,\"nameCanonical\":\"\"}],\"id\":1},{\"name\":\"Term 2\",\"curriculum_items\":[{\"curriculum_requisites\":[{\"source_id\":1,\"target_id\":7,\"type\":\"CurriculumPrerequisite\"}],\"name\":\"CSE 205\",\"metrics\":{\"centrality\":72,\"complexity\":20.0,\"blocking factor\":13,\"delay factor\":7.0},\"nameSub\":\"Object-Oriented Programming and Data Structures\",\"id\":7,\"credits\":3,\"nameCanonical\":\"Data Structures\"},{\"curriculum_requisites\":[{\"source_id\":4,\"target_id\":8,\"type\":\"CurriculumCorequisite\"}],\"name\":\"EGR 104\",\"metrics\":{\"centrality\":0,\"complexity\":2.0,\"blocking factor\":0,\"delay factor\":2.0},\"nameSub\":\"Critical Inquiry in Engineering\",\"id\":8,\"credits\":3,\"nameCanonical\":\"\"},{\"curriculum_requisites\":[{\"source_id\":4,\"target_id\":9,\"type\":\"CurriculumPrerequisite\"}],\"name\":\"ENG 102\",\"metrics\":{\"centrality\":3,\"complexity\":4.0,\"blocking factor\":1,\"delay factor\":3.0},\"nameSub\":\"First-year Composition\",\"id\":9,\"credits\":3,\"nameCanonical\":\"First-year Composition II\"},{\"curriculum_requisites\":[{\"source_id\":2,\"target_id\":10,\"type\":\"CurriculumPrerequisite\"}],\"name\":\"MAT 266\",\"metrics\":{\"centrality\":9,\"complexity\":6.0,\"blocking factor\":3,\"delay factor\":3.0},\"nameSub\":\"Calculus for Engineers II\",\"id\":10,\"credits\":3,\"nameCanonical\":\"Calculus II\"},{\"curriculum_requisites\":[],\"name\":\" \",\"metrics\":{\"centrality\":0,\"complexity\":1.0,\"blocking factor\":0,\"delay factor\":1.0},\"nameSub\":\"Humanities, Arts and Design AND Cultural Diversity in the U.S.\",\"id\":11,\"credits\":3,\"nameCanonical\":\"\"}],\"id\":2},{\"name\":\"Term 3\",\"curriculum_items\":[{\"curriculum_requisites\":[{\"source_id\":2,\"target_id\":12,\"type\":\"CurriculumPrerequisite\"}],\"name\":\"MAT 243\",\"metrics\":{\"centrality\":69,\"complexity\":19.0,\"blocking factor\":12,\"delay factor\":7.0},\"nameSub\":\"Discrete Mathematical Structures\",\"id\":12,\"credits\":3,\"nameCanonical\":\"Discrete Mathematics\"},{\"curriculum_requisites\":[{\"source_id\":2,\"target_id\":13,\"type\":\"CurriculumPrerequisite\"},{\"source_id\":1,\"target_id\":13,\"type\":\"CurriculumPrerequisite\"}],\"name\":\"SER 232\",\"metrics\":{\"centrality\":0,\"complexity\":2.0,\"blocking factor\":0,\"delay factor\":2.0},\"nameSub\":\"Computer System Fundamentals\",\"id\":13,\"credits\":3,\"nameCanonical\":\"\"},{\"curriculum_requisites\":[{\"source_id\":7,\"target_id\":14,\"type\":\"CurriculumPrerequisite\"}],\"name\":\"CSE 240\",\"metrics\":{\"centrality\":0,\"complexity\":3.0,\"blocking factor\":0,\"delay factor\":3.0},\"nameSub\":\"Introduction to Programming Languages\",\"id\":14,\"credits\":3,\"nameCanonical\":\"\"},{\"curriculum_requisites\":[{\"source_id\":10,\"target_id\":15,\"type\":\"CurriculumPrerequisite\"}],\"name\":\"MAT 267\",\"metrics\":{\"centrality\":0,\"complexity\":3.0,\"blocking factor\":0,\"delay factor\":3.0},\"nameSub\":\"Calculus for Engineers III\",\"id\":15,\"credits\":3,\"nameCanonical\":\"\"},{\"curriculum_requisites\":[],\"name\":\" \",\"metrics\":{\"centrality\":0,\"complexity\":3.0,\"blocking factor\":1,\"delay factor\":2.0},\"nameSub\":\"Natural Science\",\"id\":16,\"credits\":4,\"nameCanonical\":\"\"}],\"id\":3},{\"name\":\"Term 4\",\"curriculum_items\":[{\"curriculum_requisites\":[{\"source_id\":7,\"target_id\":17,\"type\":\"CurriculumPrerequisite\"},{\"source_id\":12,\"target_id\":17,\"type\":\"CurriculumPrerequisite\"}],\"name\":\"SER 222\",\"metrics\":{\"centrality\":138,\"complexity\":18.0,\"blocking factor\":11,\"delay factor\":7.0},\"nameSub\":\"Design and Analysis of Data Structures and Algorithms\",\"id\":17,\"credits\":3,\"nameCanonical\":\"Algorithms\"},{\"curriculum_requisites\":[{\"source_id\":1,\"target_id\":18,\"type\":\"CurriculumPrerequisite\"}],\"name\":\"CSE 230\",\"metrics\":{\"centrality\":8,\"complexity\":7.0,\"blocking factor\":3,\"delay factor\":4.0},\"nameSub\":\"Computer Organization and Assembly Language Programming\",\"id\":18,\"credits\":3,\"nameCanonical\":\"Computer Organization\"},{\"curriculum_requisites\":[{\"source_id\":2,\"target_id\":19,\"type\":\"CurriculumPrerequisite\"}],\"name\":\"EGR 280\",\"metrics\":{\"centrality\":0,\"complexity\":2.0,\"blocking factor\":0,\"delay factor\":2.0},\"nameSub\":\"Engineering Statistics\",\"id\":19,\"credits\":3,\"nameCanonical\":\"Statistics\"},{\"curriculum_requisites\":[{\"source_id\":10,\"target_id\":20,\"type\":\"CurriculumCorequisite\"},{\"source_id\":2,\"target_id\":20,\"type\":\"CurriculumPrerequisite\"},{\"source_id\":21,\"target_id\":20,\"type\":\"CurriculumStrictCorequisite\"}],\"name\":\"PHY 121\",\"metrics\":{\"centrality\":0,\"complexity\":3.0,\"blocking factor\":0,\"delay factor\":3.0},\"nameSub\":\"University Physics I: Mechanics\",\"id\":20,\"credits\":3,\"nameCanonical\":\"Physics I\"},{\"curriculum_requisites\":[],\"name\":\"PHY 122\",\"metrics\":{\"centrality\":0,\"complexity\":3.0,\"blocking factor\":1,\"delay factor\":2.0},\"nameSub\":\"University Physics Laboratory\",\"id\":21,\"credits\":1,\"nameCanonical\":\"Physics I Lab\"},{\"curriculum_requisites\":[{\"source_id\":17,\"target_id\":22,\"type\":\"CurriculumCorequisite\"}],\"name\":\"SER 216\",\"metrics\":{\"centrality\":60,\"complexity\":14.0,\"blocking factor\":7,\"delay factor\":7.0},\"nameSub\":\"Software Enterprise: Personal Process and Quality\",\"id\":22,\"credits\":3,\"nameCanonical\":\"\"}],\"id\":4},{\"name\":\"Term 5\",\"curriculum_items\":[{\"curriculum_requisites\":[{\"source_id\":17,\"target_id\":23,\"type\":\"CurriculumCorequisite\"},{\"source_id\":18,\"target_id\":23,\"type\":\"CurriculumPrerequisite\"}],\"name\":\"SER 334\",\"metrics\":{\"centrality\":28,\"complexity\":7.0,\"blocking factor\":2,\"delay factor\":5.0},\"nameSub\":\"Operating Systems and System Programming\",\"id\":23,\"credits\":3,\"nameCanonical\":\"Operating Systems\"},{\"curriculum_requisites\":[{\"source_id\":10,\"target_id\":24,\"type\":\"CurriculumPrerequisite\"}],\"name\":\"MAT 343\",\"metrics\":{\"centrality\":0,\"complexity\":3.0,\"blocking factor\":0,\"delay factor\":3.0},\"nameSub\":\"Applied Linear Algebra\",\"id\":24,\"credits\":3,\"nameCanonical\":\"Linear Algebra\"},{\"curriculum_requisites\":[{\"source_id\":17,\"target_id\":25,\"type\":\"CurriculumPrerequisite\"},{\"source_id\":5,\"target_id\":25,\"type\":\"CurriculumCorequisite\"},{\"source_id\":22,\"target_id\":25,\"type\":\"CurriculumCorequisite\"}],\"name\":\"SER 315\",\"metrics\":{\"centrality\":50,\"complexity\":8.0,\"blocking factor\":2,\"delay factor\":6.0},\"nameSub\":\"Software Enterprise: Design and Process\",\"id\":25,\"credits\":3,\"nameCanonical\":\"\"},{\"curriculum_requisites\":[{\"source_id\":17,\"target_id\":26,\"type\":\"CurriculumPrerequisite\"}],\"name\":\"SER 322\",\"metrics\":{\"centrality\":0,\"complexity\":4.0,\"blocking factor\":0,\"delay factor\":4.0},\"nameSub\":\"Principles of Database Management\",\"id\":26,\"credits\":3,\"nameCanonical\":\"Database Management\"},{\"curriculum_requisites\":[{\"source_id\":16,\"target_id\":27,\"type\":\"CurriculumPrerequisite\"}],\"name\":\" \",\"metrics\":{\"centrality\":0,\"complexity\":2.0,\"blocking factor\":0,\"delay factor\":2.0},\"nameSub\":\"Natural Science\",\"id\":27,\"credits\":4,\"nameCanonical\":\"\"}],\"id\":5},{\"name\":\"Term 6\",\"curriculum_items\":[{\"curriculum_requisites\":[{\"source_id\":23,\"target_id\":28,\"type\":\"CurriculumCorequisite\"},{\"source_id\":17,\"target_id\":28,\"type\":\"CurriculumPrerequisite\"}],\"name\":\"SER 321\",\"metrics\":{\"centrality\":0,\"complexity\":5.0,\"blocking factor\":0,\"delay factor\":5.0},\"nameSub\":\"Principles of Distributed Software Systems \",\"id\":28,\"credits\":3,\"nameCanonical\":\"Distributed Systems \"},{\"curriculum_requisites\":[{\"source_id\":17,\"target_id\":29,\"type\":\"CurriculumPrerequisite\"},{\"source_id\":22,\"target_id\":29,\"type\":\"CurriculumPrerequisite\"}],\"name\":\"SER 316\",\"metrics\":{\"centrality\":48,\"complexity\":10.0,\"blocking factor\":3,\"delay factor\":7.0},\"nameSub\":\"Software Enterprise: Construction and Transition\",\"id\":29,\"credits\":3,\"nameCanonical\":\"\"},{\"curriculum_requisites\":[{\"source_id\":23,\"target_id\":30,\"type\":\"CurriculumCorequisite\"},{\"source_id\":25,\"target_id\":30,\"type\":\"CurriculumCorequisite\"},{\"source_id\":22,\"target_id\":30,\"type\":\"CurriculumPrerequisite\"}],\"name\":\"SER 335\",\"metrics\":{\"centrality\":0,\"complexity\":6.0,\"blocking factor\":0,\"delay factor\":6.0},\"nameSub\":\"Engineering Secure Software Systems\",\"id\":30,\"credits\":3,\"nameCanonical\":\"\"},{\"curriculum_requisites\":[],\"name\":\" \",\"metrics\":{\"centrality\":0,\"complexity\":1.0,\"blocking factor\":0,\"delay factor\":1.0},\"nameSub\":\"Technical Elective\",\"id\":31,\"credits\":3,\"nameCanonical\":\"\"},{\"curriculum_requisites\":[],\"name\":\" \",\"metrics\":{\"centrality\":0,\"complexity\":1.0,\"blocking factor\":0,\"delay factor\":1.0},\"nameSub\":\"Social-Behavioral Sciences AND Global Awareness\",\"id\":32,\"credits\":3,\"nameCanonical\":\"\"}],\"id\":6},{\"name\":\"Term 7\",\"curriculum_items\":[{\"curriculum_requisites\":[{\"source_id\":29,\"target_id\":33,\"type\":\"CurriculumPrerequisite\"}],\"name\":\"SER 401\",\"metrics\":{\"centrality\":26,\"complexity\":8.0,\"blocking factor\":1,\"delay factor\":7.0},\"nameSub\":\"Computing Capstone Project I\",\"id\":33,\"credits\":3,\"nameCanonical\":\"Senior Design I\"},{\"curriculum_requisites\":[{\"source_id\":25,\"target_id\":34,\"type\":\"CurriculumPrerequisite\"}],\"name\":\"SER 415\",\"metrics\":{\"centrality\":0,\"complexity\":6.0,\"blocking factor\":0,\"delay factor\":6.0},\"nameSub\":\"Software Enterprise: Inception and Elaboration\",\"id\":34,\"credits\":3,\"nameCanonical\":\"\"},{\"curriculum_requisites\":[],\"name\":\"SER 4xx\",\"metrics\":{\"centrality\":0,\"complexity\":1.0,\"blocking factor\":0,\"delay factor\":1.0},\"nameSub\":\"Software Engineering Elective\",\"id\":35,\"credits\":3,\"nameCanonical\":\"\"},{\"curriculum_requisites\":[{\"source_id\":9,\"target_id\":36,\"type\":\"CurriculumPrerequisite\"}],\"name\":\"HIST 318\",\"metrics\":{\"centrality\":0,\"complexity\":3.0,\"blocking factor\":0,\"delay factor\":3.0},\"nameSub\":\"Upper Division Social-Behavioral Sciences (HIST 318 recommended)\",\"id\":36,\"credits\":3,\"nameCanonical\":\"\"},{\"curriculum_requisites\":[],\"name\":\" \",\"metrics\":{\"centrality\":0,\"complexity\":1.0,\"blocking factor\":0,\"delay factor\":1.0},\"nameSub\":\"Humanities, Arts and Design AND Historical Awareness\",\"id\":37,\"credits\":3,\"nameCanonical\":\"\"}],\"id\":7},{\"name\":\"Term 8\",\"curriculum_items\":[{\"curriculum_requisites\":[{\"source_id\":33,\"target_id\":38,\"type\":\"CurriculumPrerequisite\"}],\"name\":\"SER 402\",\"metrics\":{\"centrality\":0,\"complexity\":7.0,\"blocking factor\":0,\"delay factor\":7.0},\"nameSub\":\"Computing Capstone Project II\",\"id\":38,\"credits\":3,\"nameCanonical\":\"Senior Design II\"},{\"curriculum_requisites\":[{\"source_id\":29,\"target_id\":39,\"type\":\"CurriculumPrerequisite\"}],\"name\":\"SER 416\",\"metrics\":{\"centrality\":0,\"complexity\":6.0,\"blocking factor\":0,\"delay factor\":6.0},\"nameSub\":\"Software Enterprise: Project and Process Management\",\"id\":39,\"credits\":3,\"nameCanonical\":\"\"},{\"curriculum_requisites\":[],\"name\":\"SER 4xx\",\"metrics\":{\"centrality\":0,\"complexity\":1.0,\"blocking factor\":0,\"delay factor\":1.0},\"nameSub\":\"Software Engineering Elective\",\"id\":40,\"credits\":3,\"nameCanonical\":\"\"},{\"curriculum_requisites\":[],\"name\":\"SER 4xx\",\"metrics\":{\"centrality\":0,\"complexity\":1.0,\"blocking factor\":0,\"delay factor\":1.0},\"nameSub\":\"Software Engineering Elective\",\"id\":41,\"credits\":3,\"nameCanonical\":\"\"}],\"id\":8}],\"institution\":\"Arizona State University (Polytechnic Campus)\"}}}}},\"children\":[{\"props\":{\"src\":\"http:\\/\\/localhost:8156\",\"id\":\"curriculum\",\"events\":{\"load\":\"(function (){this.contentWindow.postMessage({\\\"options\\\":{\\\"hideTerms\\\":false,\\\"edit\\\":false},\\\"curriculum\\\":{\\\"name\\\":\\\"Software Engineering\\\",\\\"dp_name\\\":\\\"2020-21 Degree Plan\\\",\\\"curriculum_terms\\\":[{\\\"name\\\":\\\"Term 1\\\",\\\"curriculum_items\\\":[{\\\"curriculum_requisites\\\":[],\\\"name\\\":\\\"CSE 110\\\",\\\"metrics\\\":{\\\"centrality\\\":0,\\\"complexity\\\":23.0,\\\"blocking factor\\\":16,\\\"delay factor\\\":7.0},\\\"nameSub\\\":\\\"Principles of Programming\\\",\\\"id\\\":1,\\\"credits\\\":3,\\\"nameCanonical\\\":\\\"Programming I\\\"},{\\\"curriculum_requisites\\\":[],\\\"name\\\":\\\"MAT 265\\\",\\\"metrics\\\":{\\\"centrality\\\":0,\\\"complexity\\\":26.0,\\\"blocking factor\\\":19,\\\"delay factor\\\":7.0},\\\"nameSub\\\":\\\"Calculus for Engineers I\\\",\\\"id\\\":2,\\\"credits\\\":3,\\\"nameCanonical\\\":\\\"Calculus I\\\"},{\\\"curriculum_requisites\\\":[],\\\"name\\\":\\\"ASU 101-CSE\\\",\\\"metrics\\\":{\\\"centrality\\\":0,\\\"complexity\\\":1.0,\\\"blocking factor\\\":0,\\\"delay factor\\\":1.0},\\\"nameSub\\\":\\\"The ASU Experience\\\",\\\"id\\\":3,\\\"credits\\\":1,\\\"nameCanonical\\\":\\\"\\\"},{\\\"curriculum_requisites\\\":[],\\\"name\\\":\\\"ENG 101\\\",\\\"metrics\\\":{\\\"centrality\\\":0,\\\"complexity\\\":6.0,\\\"blocking factor\\\":3,\\\"delay factor\\\":3.0},\\\"nameSub\\\":\\\"First-year Composition\\\",\\\"id\\\":4,\\\"credits\\\":3,\\\"nameCanonical\\\":\\\"First-year Composition I\\\"},{\\\"curriculum_requisites\\\":[],\\\"name\\\":\\\"FSE 100\\\",\\\"metrics\\\":{\\\"centrality\\\":0,\\\"complexity\\\":6.0,\\\"blocking factor\\\":3,\\\"delay factor\\\":3.0},\\\"nameSub\\\":\\\"Introduction to Engineering \\\",\\\"id\\\":5,\\\"credits\\\":2,\\\"nameCanonical\\\":\\\"Introduction to Engineering\\\"},{\\\"curriculum_requisites\\\":[],\\\"name\\\":\\\" \\\",\\\"metrics\\\":{\\\"centrality\\\":0,\\\"complexity\\\":1.0,\\\"blocking factor\\\":0,\\\"delay factor\\\":1.0},\\\"nameSub\\\":\\\"Social-Behavioral Sciences\\\",\\\"id\\\":6,\\\"credits\\\":3,\\\"nameCanonical\\\":\\\"\\\"}],\\\"id\\\":1},{\\\"name\\\":\\\"Term 2\\\",\\\"curriculum_items\\\":[{\\\"curriculum_requisites\\\":[{\\\"source_id\\\":1,\\\"target_id\\\":7,\\\"type\\\":\\\"CurriculumPrerequisite\\\"}],\\\"name\\\":\\\"CSE 205\\\",\\\"metrics\\\":{\\\"centrality\\\":72,\\\"complexity\\\":20.0,\\\"blocking factor\\\":13,\\\"delay factor\\\":7.0},\\\"nameSub\\\":\\\"Object-Oriented Programming and Data Structures\\\",\\\"id\\\":7,\\\"credits\\\":3,\\\"nameCanonical\\\":\\\"Data Structures\\\"},{\\\"curriculum_requisites\\\":[{\\\"source_id\\\":4,\\\"target_id\\\":8,\\\"type\\\":\\\"CurriculumCorequisite\\\"}],\\\"name\\\":\\\"EGR 104\\\",\\\"metrics\\\":{\\\"centrality\\\":0,\\\"complexity\\\":2.0,\\\"blocking factor\\\":0,\\\"delay factor\\\":2.0},\\\"nameSub\\\":\\\"Critical Inquiry in Engineering\\\",\\\"id\\\":8,\\\"credits\\\":3,\\\"nameCanonical\\\":\\\"\\\"},{\\\"curriculum_requisites\\\":[{\\\"source_id\\\":4,\\\"target_id\\\":9,\\\"type\\\":\\\"CurriculumPrerequisite\\\"}],\\\"name\\\":\\\"ENG 102\\\",\\\"metrics\\\":{\\\"centrality\\\":3,\\\"complexity\\\":4.0,\\\"blocking factor\\\":1,\\\"delay factor\\\":3.0},\\\"nameSub\\\":\\\"First-year Composition\\\",\\\"id\\\":9,\\\"credits\\\":3,\\\"nameCanonical\\\":\\\"First-year Composition II\\\"},{\\\"curriculum_requisites\\\":[{\\\"source_id\\\":2,\\\"target_id\\\":10,\\\"type\\\":\\\"CurriculumPrerequisite\\\"}],\\\"name\\\":\\\"MAT 266\\\",\\\"metrics\\\":{\\\"centrality\\\":9,\\\"complexity\\\":6.0,\\\"blocking factor\\\":3,\\\"delay factor\\\":3.0},\\\"nameSub\\\":\\\"Calculus for Engineers II\\\",\\\"id\\\":10,\\\"credits\\\":3,\\\"nameCanonical\\\":\\\"Calculus II\\\"},{\\\"curriculum_requisites\\\":[],\\\"name\\\":\\\" \\\",\\\"metrics\\\":{\\\"centrality\\\":0,\\\"complexity\\\":1.0,\\\"blocking factor\\\":0,\\\"delay factor\\\":1.0},\\\"nameSub\\\":\\\"Humanities, Arts and Design AND Cultural Diversity in the U.S.\\\",\\\"id\\\":11,\\\"credits\\\":3,\\\"nameCanonical\\\":\\\"\\\"}],\\\"id\\\":2},{\\\"name\\\":\\\"Term 3\\\",\\\"curriculum_items\\\":[{\\\"curriculum_requisites\\\":[{\\\"source_id\\\":2,\\\"target_id\\\":12,\\\"type\\\":\\\"CurriculumPrerequisite\\\"}],\\\"name\\\":\\\"MAT 243\\\",\\\"metrics\\\":{\\\"centrality\\\":69,\\\"complexity\\\":19.0,\\\"blocking factor\\\":12,\\\"delay factor\\\":7.0},\\\"nameSub\\\":\\\"Discrete Mathematical Structures\\\",\\\"id\\\":12,\\\"credits\\\":3,\\\"nameCanonical\\\":\\\"Discrete Mathematics\\\"},{\\\"curriculum_requisites\\\":[{\\\"source_id\\\":2,\\\"target_id\\\":13,\\\"type\\\":\\\"CurriculumPrerequisite\\\"},{\\\"source_id\\\":1,\\\"target_id\\\":13,\\\"type\\\":\\\"CurriculumPrerequisite\\\"}],\\\"name\\\":\\\"SER 232\\\",\\\"metrics\\\":{\\\"centrality\\\":0,\\\"complexity\\\":2.0,\\\"blocking factor\\\":0,\\\"delay factor\\\":2.0},\\\"nameSub\\\":\\\"Computer System Fundamentals\\\",\\\"id\\\":13,\\\"credits\\\":3,\\\"nameCanonical\\\":\\\"\\\"},{\\\"curriculum_requisites\\\":[{\\\"source_id\\\":7,\\\"target_id\\\":14,\\\"type\\\":\\\"CurriculumPrerequisite\\\"}],\\\"name\\\":\\\"CSE 240\\\",\\\"metrics\\\":{\\\"centrality\\\":0,\\\"complexity\\\":3.0,\\\"blocking factor\\\":0,\\\"delay factor\\\":3.0},\\\"nameSub\\\":\\\"Introduction to Programming Languages\\\",\\\"id\\\":14,\\\"credits\\\":3,\\\"nameCanonical\\\":\\\"\\\"},{\\\"curriculum_requisites\\\":[{\\\"source_id\\\":10,\\\"target_id\\\":15,\\\"type\\\":\\\"CurriculumPrerequisite\\\"}],\\\"name\\\":\\\"MAT 267\\\",\\\"metrics\\\":{\\\"centrality\\\":0,\\\"complexity\\\":3.0,\\\"blocking factor\\\":0,\\\"delay factor\\\":3.0},\\\"nameSub\\\":\\\"Calculus for Engineers III\\\",\\\"id\\\":15,\\\"credits\\\":3,\\\"nameCanonical\\\":\\\"\\\"},{\\\"curriculum_requisites\\\":[],\\\"name\\\":\\\" \\\",\\\"metrics\\\":{\\\"centrality\\\":0,\\\"complexity\\\":3.0,\\\"blocking factor\\\":1,\\\"delay factor\\\":2.0},\\\"nameSub\\\":\\\"Natural Science\\\",\\\"id\\\":16,\\\"credits\\\":4,\\\"nameCanonical\\\":\\\"\\\"}],\\\"id\\\":3},{\\\"name\\\":\\\"Term 4\\\",\\\"curriculum_items\\\":[{\\\"curriculum_requisites\\\":[{\\\"source_id\\\":7,\\\"target_id\\\":17,\\\"type\\\":\\\"CurriculumPrerequisite\\\"},{\\\"source_id\\\":12,\\\"target_id\\\":17,\\\"type\\\":\\\"CurriculumPrerequisite\\\"}],\\\"name\\\":\\\"SER 222\\\",\\\"metrics\\\":{\\\"centrality\\\":138,\\\"complexity\\\":18.0,\\\"blocking factor\\\":11,\\\"delay factor\\\":7.0},\\\"nameSub\\\":\\\"Design and Analysis of Data Structures and Algorithms\\\",\\\"id\\\":17,\\\"credits\\\":3,\\\"nameCanonical\\\":\\\"Algorithms\\\"},{\\\"curriculum_requisites\\\":[{\\\"source_id\\\":1,\\\"target_id\\\":18,\\\"type\\\":\\\"CurriculumPrerequisite\\\"}],\\\"name\\\":\\\"CSE 230\\\",\\\"metrics\\\":{\\\"centrality\\\":8,\\\"complexity\\\":7.0,\\\"blocking factor\\\":3,\\\"delay factor\\\":4.0},\\\"nameSub\\\":\\\"Computer Organization and Assembly Language Programming\\\",\\\"id\\\":18,\\\"credits\\\":3,\\\"nameCanonical\\\":\\\"Computer Organization\\\"},{\\\"curriculum_requisites\\\":[{\\\"source_id\\\":2,\\\"target_id\\\":19,\\\"type\\\":\\\"CurriculumPrerequisite\\\"}],\\\"name\\\":\\\"EGR 280\\\",\\\"metrics\\\":{\\\"centrality\\\":0,\\\"complexity\\\":2.0,\\\"blocking factor\\\":0,\\\"delay factor\\\":2.0},\\\"nameSub\\\":\\\"Engineering Statistics\\\",\\\"id\\\":19,\\\"credits\\\":3,\\\"nameCanonical\\\":\\\"Statistics\\\"},{\\\"curriculum_requisites\\\":[{\\\"source_id\\\":10,\\\"target_id\\\":20,\\\"type\\\":\\\"CurriculumCorequisite\\\"},{\\\"source_id\\\":2,\\\"target_id\\\":20,\\\"type\\\":\\\"CurriculumPrerequisite\\\"},{\\\"source_id\\\":21,\\\"target_id\\\":20,\\\"type\\\":\\\"CurriculumStrictCorequisite\\\"}],\\\"name\\\":\\\"PHY 121\\\",\\\"metrics\\\":{\\\"centrality\\\":0,\\\"complexity\\\":3.0,\\\"blocking factor\\\":0,\\\"delay factor\\\":3.0},\\\"nameSub\\\":\\\"University Physics I: Mechanics\\\",\\\"id\\\":20,\\\"credits\\\":3,\\\"nameCanonical\\\":\\\"Physics I\\\"},{\\\"curriculum_requisites\\\":[],\\\"name\\\":\\\"PHY 122\\\",\\\"metrics\\\":{\\\"centrality\\\":0,\\\"complexity\\\":3.0,\\\"blocking factor\\\":1,\\\"delay factor\\\":2.0},\\\"nameSub\\\":\\\"University Physics Laboratory\\\",\\\"id\\\":21,\\\"credits\\\":1,\\\"nameCanonical\\\":\\\"Physics I Lab\\\"},{\\\"curriculum_requisites\\\":[{\\\"source_id\\\":17,\\\"target_id\\\":22,\\\"type\\\":\\\"CurriculumCorequisite\\\"}],\\\"name\\\":\\\"SER 216\\\",\\\"metrics\\\":{\\\"centrality\\\":60,\\\"complexity\\\":14.0,\\\"blocking factor\\\":7,\\\"delay factor\\\":7.0},\\\"nameSub\\\":\\\"Software Enterprise: Personal Process and Quality\\\",\\\"id\\\":22,\\\"credits\\\":3,\\\"nameCanonical\\\":\\\"\\\"}],\\\"id\\\":4},{\\\"name\\\":\\\"Term 5\\\",\\\"curriculum_items\\\":[{\\\"curriculum_requisites\\\":[{\\\"source_id\\\":17,\\\"target_id\\\":23,\\\"type\\\":\\\"CurriculumCorequisite\\\"},{\\\"source_id\\\":18,\\\"target_id\\\":23,\\\"type\\\":\\\"CurriculumPrerequisite\\\"}],\\\"name\\\":\\\"SER 334\\\",\\\"metrics\\\":{\\\"centrality\\\":28,\\\"complexity\\\":7.0,\\\"blocking factor\\\":2,\\\"delay factor\\\":5.0},\\\"nameSub\\\":\\\"Operating Systems and System Programming\\\",\\\"id\\\":23,\\\"credits\\\":3,\\\"nameCanonical\\\":\\\"Operating Systems\\\"},{\\\"curriculum_requisites\\\":[{\\\"source_id\\\":10,\\\"target_id\\\":24,\\\"type\\\":\\\"CurriculumPrerequisite\\\"}],\\\"name\\\":\\\"MAT 343\\\",\\\"metrics\\\":{\\\"centrality\\\":0,\\\"complexity\\\":3.0,\\\"blocking factor\\\":0,\\\"delay factor\\\":3.0},\\\"nameSub\\\":\\\"Applied Linear Algebra\\\",\\\"id\\\":24,\\\"credits\\\":3,\\\"nameCanonical\\\":\\\"Linear Algebra\\\"},{\\\"curriculum_requisites\\\":[{\\\"source_id\\\":17,\\\"target_id\\\":25,\\\"type\\\":\\\"CurriculumPrerequisite\\\"},{\\\"source_id\\\":5,\\\"target_id\\\":25,\\\"type\\\":\\\"CurriculumCorequisite\\\"},{\\\"source_id\\\":22,\\\"target_id\\\":25,\\\"type\\\":\\\"CurriculumCorequisite\\\"}],\\\"name\\\":\\\"SER 315\\\",\\\"metrics\\\":{\\\"centrality\\\":50,\\\"complexity\\\":8.0,\\\"blocking factor\\\":2,\\\"delay factor\\\":6.0},\\\"nameSub\\\":\\\"Software Enterprise: Design and Process\\\",\\\"id\\\":25,\\\"credits\\\":3,\\\"nameCanonical\\\":\\\"\\\"},{\\\"curriculum_requisites\\\":[{\\\"source_id\\\":17,\\\"target_id\\\":26,\\\"type\\\":\\\"CurriculumPrerequisite\\\"}],\\\"name\\\":\\\"SER 322\\\",\\\"metrics\\\":{\\\"centrality\\\":0,\\\"complexity\\\":4.0,\\\"blocking factor\\\":0,\\\"delay factor\\\":4.0},\\\"nameSub\\\":\\\"Principles of Database Management\\\",\\\"id\\\":26,\\\"credits\\\":3,\\\"nameCanonical\\\":\\\"Database Management\\\"},{\\\"curriculum_requisites\\\":[{\\\"source_id\\\":16,\\\"target_id\\\":27,\\\"type\\\":\\\"CurriculumPrerequisite\\\"}],\\\"name\\\":\\\" \\\",\\\"metrics\\\":{\\\"centrality\\\":0,\\\"complexity\\\":2.0,\\\"blocking factor\\\":0,\\\"delay factor\\\":2.0},\\\"nameSub\\\":\\\"Natural Science\\\",\\\"id\\\":27,\\\"credits\\\":4,\\\"nameCanonical\\\":\\\"\\\"}],\\\"id\\\":5},{\\\"name\\\":\\\"Term 6\\\",\\\"curriculum_items\\\":[{\\\"curriculum_requisites\\\":[{\\\"source_id\\\":23,\\\"target_id\\\":28,\\\"type\\\":\\\"CurriculumCorequisite\\\"},{\\\"source_id\\\":17,\\\"target_id\\\":28,\\\"type\\\":\\\"CurriculumPrerequisite\\\"}],\\\"name\\\":\\\"SER 321\\\",\\\"metrics\\\":{\\\"centrality\\\":0,\\\"complexity\\\":5.0,\\\"blocking factor\\\":0,\\\"delay factor\\\":5.0},\\\"nameSub\\\":\\\"Principles of Distributed Software Systems \\\",\\\"id\\\":28,\\\"credits\\\":3,\\\"nameCanonical\\\":\\\"Distributed Systems \\\"},{\\\"curriculum_requisites\\\":[{\\\"source_id\\\":17,\\\"target_id\\\":29,\\\"type\\\":\\\"CurriculumPrerequisite\\\"},{\\\"source_id\\\":22,\\\"target_id\\\":29,\\\"type\\\":\\\"CurriculumPrerequisite\\\"}],\\\"name\\\":\\\"SER 316\\\",\\\"metrics\\\":{\\\"centrality\\\":48,\\\"complexity\\\":10.0,\\\"blocking factor\\\":3,\\\"delay factor\\\":7.0},\\\"nameSub\\\":\\\"Software Enterprise: Construction and Transition\\\",\\\"id\\\":29,\\\"credits\\\":3,\\\"nameCanonical\\\":\\\"\\\"},{\\\"curriculum_requisites\\\":[{\\\"source_id\\\":23,\\\"target_id\\\":30,\\\"type\\\":\\\"CurriculumCorequisite\\\"},{\\\"source_id\\\":25,\\\"target_id\\\":30,\\\"type\\\":\\\"CurriculumCorequisite\\\"},{\\\"source_id\\\":22,\\\"target_id\\\":30,\\\"type\\\":\\\"CurriculumPrerequisite\\\"}],\\\"name\\\":\\\"SER 335\\\",\\\"metrics\\\":{\\\"centrality\\\":0,\\\"complexity\\\":6.0,\\\"blocking factor\\\":0,\\\"delay factor\\\":6.0},\\\"nameSub\\\":\\\"Engineering Secure Software Systems\\\",\\\"id\\\":30,\\\"credits\\\":3,\\\"nameCanonical\\\":\\\"\\\"},{\\\"curriculum_requisites\\\":[],\\\"name\\\":\\\" \\\",\\\"metrics\\\":{\\\"centrality\\\":0,\\\"complexity\\\":1.0,\\\"blocking factor\\\":0,\\\"delay factor\\\":1.0},\\\"nameSub\\\":\\\"Technical Elective\\\",\\\"id\\\":31,\\\"credits\\\":3,\\\"nameCanonical\\\":\\\"\\\"},{\\\"curriculum_requisites\\\":[],\\\"name\\\":\\\" \\\",\\\"metrics\\\":{\\\"centrality\\\":0,\\\"complexity\\\":1.0,\\\"blocking factor\\\":0,\\\"delay factor\\\":1.0},\\\"nameSub\\\":\\\"Social-Behavioral Sciences AND Global Awareness\\\",\\\"id\\\":32,\\\"credits\\\":3,\\\"nameCanonical\\\":\\\"\\\"}],\\\"id\\\":6},{\\\"name\\\":\\\"Term 7\\\",\\\"curriculum_items\\\":[{\\\"curriculum_requisites\\\":[{\\\"source_id\\\":29,\\\"target_id\\\":33,\\\"type\\\":\\\"CurriculumPrerequisite\\\"}],\\\"name\\\":\\\"SER 401\\\",\\\"metrics\\\":{\\\"centrality\\\":26,\\\"complexity\\\":8.0,\\\"blocking factor\\\":1,\\\"delay factor\\\":7.0},\\\"nameSub\\\":\\\"Computing Capstone Project I\\\",\\\"id\\\":33,\\\"credits\\\":3,\\\"nameCanonical\\\":\\\"Senior Design I\\\"},{\\\"curriculum_requisites\\\":[{\\\"source_id\\\":25,\\\"target_id\\\":34,\\\"type\\\":\\\"CurriculumPrerequisite\\\"}],\\\"name\\\":\\\"SER 415\\\",\\\"metrics\\\":{\\\"centrality\\\":0,\\\"complexity\\\":6.0,\\\"blocking factor\\\":0,\\\"delay factor\\\":6.0},\\\"nameSub\\\":\\\"Software Enterprise: Inception and Elaboration\\\",\\\"id\\\":34,\\\"credits\\\":3,\\\"nameCanonical\\\":\\\"\\\"},{\\\"curriculum_requisites\\\":[],\\\"name\\\":\\\"SER 4xx\\\",\\\"metrics\\\":{\\\"centrality\\\":0,\\\"complexity\\\":1.0,\\\"blocking factor\\\":0,\\\"delay factor\\\":1.0},\\\"nameSub\\\":\\\"Software Engineering Elective\\\",\\\"id\\\":35,\\\"credits\\\":3,\\\"nameCanonical\\\":\\\"\\\"},{\\\"curriculum_requisites\\\":[{\\\"source_id\\\":9,\\\"target_id\\\":36,\\\"type\\\":\\\"CurriculumPrerequisite\\\"}],\\\"name\\\":\\\"HIST 318\\\",\\\"metrics\\\":{\\\"centrality\\\":0,\\\"complexity\\\":3.0,\\\"blocking factor\\\":0,\\\"delay factor\\\":3.0},\\\"nameSub\\\":\\\"Upper Division Social-Behavioral Sciences (HIST 318 recommended)\\\",\\\"id\\\":36,\\\"credits\\\":3,\\\"nameCanonical\\\":\\\"\\\"},{\\\"curriculum_requisites\\\":[],\\\"name\\\":\\\" \\\",\\\"metrics\\\":{\\\"centrality\\\":0,\\\"complexity\\\":1.0,\\\"blocking factor\\\":0,\\\"delay factor\\\":1.0},\\\"nameSub\\\":\\\"Humanities, Arts and Design AND Historical Awareness\\\",\\\"id\\\":37,\\\"credits\\\":3,\\\"nameCanonical\\\":\\\"\\\"}],\\\"id\\\":7},{\\\"name\\\":\\\"Term 8\\\",\\\"curriculum_items\\\":[{\\\"curriculum_requisites\\\":[{\\\"source_id\\\":33,\\\"target_id\\\":38,\\\"type\\\":\\\"CurriculumPrerequisite\\\"}],\\\"name\\\":\\\"SER 402\\\",\\\"metrics\\\":{\\\"centrality\\\":0,\\\"complexity\\\":7.0,\\\"blocking factor\\\":0,\\\"delay factor\\\":7.0},\\\"nameSub\\\":\\\"Computing Capstone Project II\\\",\\\"id\\\":38,\\\"credits\\\":3,\\\"nameCanonical\\\":\\\"Senior Design II\\\"},{\\\"curriculum_requisites\\\":[{\\\"source_id\\\":29,\\\"target_id\\\":39,\\\"type\\\":\\\"CurriculumPrerequisite\\\"}],\\\"name\\\":\\\"SER 416\\\",\\\"metrics\\\":{\\\"centrality\\\":0,\\\"complexity\\\":6.0,\\\"blocking factor\\\":0,\\\"delay factor\\\":6.0},\\\"nameSub\\\":\\\"Software Enterprise: Project and Process Management\\\",\\\"id\\\":39,\\\"credits\\\":3,\\\"nameCanonical\\\":\\\"\\\"},{\\\"curriculum_requisites\\\":[],\\\"name\\\":\\\"SER 4xx\\\",\\\"metrics\\\":{\\\"centrality\\\":0,\\\"complexity\\\":1.0,\\\"blocking factor\\\":0,\\\"delay factor\\\":1.0},\\\"nameSub\\\":\\\"Software Engineering Elective\\\",\\\"id\\\":40,\\\"credits\\\":3,\\\"nameCanonical\\\":\\\"\\\"},{\\\"curriculum_requisites\\\":[],\\\"name\\\":\\\"SER 4xx\\\",\\\"metrics\\\":{\\\"centrality\\\":0,\\\"complexity\\\":1.0,\\\"blocking factor\\\":0,\\\"delay factor\\\":1.0},\\\"nameSub\\\":\\\"Software Engineering Elective\\\",\\\"id\\\":41,\\\"credits\\\":3,\\\"nameCanonical\\\":\\\"\\\"}],\\\"id\\\":8}],\\\"institution\\\":\\\"Arizona State University (Polytechnic Campus)\\\"}},\\\"*\\\"); window.removeEventListener(\\\"message\\\",window.messageReceived); window.messageReceived=(function (event){return (event.data.curriculum!==undefined) ? (WebIO.setval({\\\"name\\\":\\\"curriculum-data\\\",\\\"scope\\\":\\\"4405695425285447142\\\",\\\"id\\\":\\\"18381686284699672222\\\",\\\"type\\\":\\\"observable\\\"},event.data.curriculum)) : undefined}); return window.addEventListener(\\\"message\\\",window.messageReceived)})\"},\"style\":{\"padding\":\"0\",\"height\":\"90vh\",\"margin\":\"0\",\"border\":\"none\",\"width\":\"100%\"}},\"nodeType\":\"DOM\",\"type\":\"node\",\"instanceArgs\":{\"namespace\":\"html\",\"tag\":\"iframe\"},\"children\":[\"\"]}]},\n",
       "            window,\n",
       "        );\n",
       "    } else {\n",
       "        document\n",
       "            .querySelector('[data-webio-mountpoint=\"17684496790718489198\"]')\n",
       "            .innerHTML = (\n",
       "                '<div style=\"padding: 1em; background-color: #f8d6da; border: 1px solid #f5c6cb\">' +\n",
       "                '<p><strong>WebIO not detected.</strong></p>' +\n",
       "                '<p>Please read ' +\n",
       "                '<a href=\"https://juliagizmos.github.io/WebIO.jl/latest/troubleshooting/not-detected/\" target=\"_blank\">the troubleshooting guide</a> ' +\n",
       "                'for more information on how to resolve this issue.</p>' +\n",
       "                '<p><a href=\"https://juliagizmos.github.io/WebIO.jl/latest/troubleshooting/not-detected/\" target=\"_blank\">https://juliagizmos.github.io/WebIO.jl/latest/troubleshooting/not-detected/</a></p>' +\n",
       "                '</div>'\n",
       "            );\n",
       "    }\n",
       "    </script>\n",
       "</div>\n"
      ],
      "text/plain": [
       "WebIO.Scope(WebIO.Node{WebIO.DOM}(WebIO.DOM(:html, :iframe), Any[\"\"], Dict{Symbol,Any}(:src => \"http://localhost:8156\",:id => \"curriculum\",:events => Dict{Symbol,WebIO.JSString}(:load => WebIO.JSString(\"(function (){this.contentWindow.postMessage({\\\"options\\\":{\\\"hideTerms\\\":false,\\\"edit\\\":false},\\\"curriculum\\\":{\\\"name\\\":\\\"Software Engineering\\\",\\\"dp_name\\\":\\\"2020-21 Degree Plan\\\",\\\"curriculum_terms\\\":[{\\\"name\\\":\\\"Term 1\\\",\\\"curriculum_items\\\":[{\\\"curriculum_requisites\\\":[],\\\"name\\\":\\\"CSE 110\\\",\\\"metrics\\\":{\\\"centrality\\\":0,\\\"complexity\\\":23.0,\\\"blocking factor\\\":16,\\\"delay factor\\\":7.0},\\\"nameSub\\\":\\\"Principles of Programming\\\",\\\"id\\\":1,\\\"credits\\\":3,\\\"nameCanonical\\\":\\\"Programming I\\\"},{\\\"curriculum_requisites\\\":[],\\\"name\\\":\\\"MAT 265\\\",\\\"metrics\\\":{\\\"centrality\\\":0,\\\"complexity\\\":26.0,\\\"blocking factor\\\":19,\\\"delay factor\\\":7.0},\\\"nameSub\\\":\\\"Calculus for Engineers I\\\",\\\"id\\\":2,\\\"credits\\\":3,\\\"nameCanonical\\\":\\\"Calculus I\\\"},{\\\"curriculum_requisites\\\":[],\\\"name\\\":\\\"ASU 101-CSE\\\",\\\"metrics\\\":{\\\"centrality\\\":0,\\\"complexity\\\":1.0,\\\"blocking factor\\\":0,\\\"delay factor\\\":1.0},\\\"nameSub\\\":\\\"The ASU Experience\\\",\\\"id\\\":3,\\\"credits\\\":1,\\\"nameCanonical\\\":\\\"\\\"},{\\\"curriculum_requisites\\\":[],\\\"name\\\":\\\"ENG 101\\\",\\\"metrics\\\":{\\\"centrality\\\":0,\\\"complexity\\\":6.0,\\\"blocking factor\\\":3,\\\"delay factor\\\":3.0},\\\"nameSub\\\":\\\"First-year Composition\\\",\\\"id\\\":4,\\\"credits\\\":3,\\\"nameCanonical\\\":\\\"First-year Composition I\\\"},{\\\"curriculum_requisites\\\":[],\\\"name\\\":\\\"FSE 100\\\",\\\"metrics\\\":{\\\"centrality\\\":0,\\\"complexity\\\":6.0,\\\"blocking factor\\\":3,\\\"delay factor\\\":3.0},\\\"nameSub\\\":\\\"Introduction to Engineering \\\",\\\"id\\\":5,\\\"credits\\\":2,\\\"nameCanonical\\\":\\\"Introduction to Engineering\\\"},{\\\"curriculum_requisites\\\":[],\\\"name\\\":\\\" \\\",\\\"metrics\\\":{\\\"centrality\\\":0,\\\"complexity\\\":1.0,\\\"blocking factor\\\":0,\\\"delay factor\\\":1.0},\\\"nameSub\\\":\\\"Social-Behavioral Sciences\\\",\\\"id\\\":6,\\\"credits\\\":3,\\\"nameCanonical\\\":\\\"\\\"}],\\\"id\\\":1},{\\\"name\\\":\\\"Term 2\\\",\\\"curriculum_items\\\":[{\\\"curriculum_requisites\\\":[{\\\"source_id\\\":1,\\\"target_id\\\":7,\\\"type\\\":\\\"CurriculumPrerequisite\\\"}],\\\"name\\\":\\\"CSE 205\\\",\\\"metrics\\\":{\\\"centrality\\\":72,\\\"complexity\\\":20.0,\\\"blocking factor\\\":13,\\\"delay factor\\\":7.0},\\\"nameSub\\\":\\\"Object-Oriented Programming and Data Structures\\\",\\\"id\\\":7,\\\"credits\\\":3,\\\"nameCanonical\\\":\\\"Data Structures\\\"},{\\\"curriculum_requisites\\\":[{\\\"source_id\\\":4,\\\"target_id\\\":8,\\\"type\\\":\\\"CurriculumCorequisite\\\"}],\\\"name\\\":\\\"EGR 104\\\",\\\"metrics\\\":{\\\"centrality\\\":0,\\\"complexity\\\":2.0,\\\"blocking factor\\\":0,\\\"delay factor\\\":2.0},\\\"nameSub\\\":\\\"Critical Inquiry in Engineering\\\",\\\"id\\\":8,\\\"credits\\\":3,\\\"nameCanonical\\\":\\\"\\\"},{\\\"curriculum_requisites\\\":[{\\\"source_id\\\":4,\\\"target_id\\\":9,\\\"type\\\":\\\"CurriculumPrerequisite\\\"}],\\\"name\\\":\\\"ENG 102\\\",\\\"metrics\\\":{\\\"centrality\\\":3,\\\"complexity\\\":4.0,\\\"blocking factor\\\":1,\\\"delay factor\\\":3.0},\\\"nameSub\\\":\\\"First-year Composition\\\",\\\"id\\\":9,\\\"credits\\\":3,\\\"nameCanonical\\\":\\\"First-year Composition II\\\"},{\\\"curriculum_requisites\\\":[{\\\"source_id\\\":2,\\\"target_id\\\":10,\\\"type\\\":\\\"CurriculumPrerequisite\\\"}],\\\"name\\\":\\\"MAT 266\\\",\\\"metrics\\\":{\\\"centrality\\\":9,\\\"complexity\\\":6.0,\\\"blocking factor\\\":3,\\\"delay factor\\\":3.0},\\\"nameSub\\\":\\\"Calculus for Engineers II\\\",\\\"id\\\":10,\\\"credits\\\":3,\\\"nameCanonical\\\":\\\"Calculus II\\\"},{\\\"curriculum_requisites\\\":[],\\\"name\\\":\\\" \\\",\\\"metrics\\\":{\\\"centrality\\\":0,\\\"complexity\\\":1.0,\\\"blocking factor\\\":0,\\\"delay factor\\\":1.0},\\\"nameSub\\\":\\\"Humanities, Arts and Design AND Cultural Diversity in the U.S.\\\",\\\"id\\\":11,\\\"credits\\\":3,\\\"nameCanonical\\\":\\\"\\\"}],\\\"id\\\":2},{\\\"name\\\":\\\"Term 3\\\",\\\"curriculum_items\\\":[{\\\"curriculum_requisites\\\":[{\\\"source_id\\\":2,\\\"target_id\\\":12,\\\"type\\\":\\\"CurriculumPrerequisite\\\"}],\\\"name\\\":\\\"MAT 243\\\",\\\"metrics\\\":{\\\"centrality\\\":69,\\\"complexity\\\":19.0,\\\"blocking factor\\\":12,\\\"delay factor\\\":7.0},\\\"nameSub\\\":\\\"Discrete Mathematical Structures\\\",\\\"id\\\":12,\\\"credits\\\":3,\\\"nameCanonical\\\":\\\"Discrete Mathematics\\\"},{\\\"curriculum_requisites\\\":[{\\\"source_id\\\":2,\\\"target_id\\\":13,\\\"type\\\":\\\"CurriculumPrerequisite\\\"},{\\\"source_id\\\":1,\\\"target_id\\\":13,\\\"type\\\":\\\"CurriculumPrerequisite\\\"}],\\\"name\\\":\\\"SER 232\\\",\\\"metrics\\\":{\\\"centrality\\\":0,\\\"complexity\\\":2.0,\\\"blocking factor\\\":0,\\\"delay factor\\\":2.0},\\\"nameSub\\\":\\\"Computer System Fundamentals\\\",\\\"id\\\":13,\\\"credits\\\":3,\\\"nameCanonical\\\":\\\"\\\"},{\\\"curriculum_requisites\\\":[{\\\"source_id\\\":7,\\\"target_id\\\":14,\\\"type\\\":\\\"CurriculumPrerequisite\\\"}],\\\"name\\\":\\\"CSE 240\\\",\\\"metrics\\\":{\\\"centrality\\\":0,\\\"complexity\\\":3.0,\\\"blocking factor\\\":0,\\\"delay factor\\\":3.0},\\\"nameSub\\\":\\\"Introduction to Programming Languages\\\",\\\"id\\\":14,\\\"credits\\\":3,\\\"nameCanonical\\\":\\\"\\\"},{\\\"curriculum_requisites\\\":[{\\\"source_id\\\":10,\\\"target_id\\\":15,\\\"type\\\":\\\"CurriculumPrerequisite\\\"}],\\\"name\\\":\\\"MAT 267\\\",\\\"metrics\\\":{\\\"centrality\\\":0,\\\"complexity\\\":3.0,\\\"blocking factor\\\":0,\\\"delay factor\\\":3.0},\\\"nameSub\\\":\\\"Calculus for Engineers III\\\",\\\"id\\\":15,\\\"credits\\\":3,\\\"nameCanonical\\\":\\\"\\\"},{\\\"curriculum_requisites\\\":[],\\\"name\\\":\\\" \\\",\\\"metrics\\\":{\\\"centrality\\\":0,\\\"complexity\\\":3.0,\\\"blocking factor\\\":1,\\\"delay factor\\\":2.0},\\\"nameSub\\\":\\\"Natural Science\\\",\\\"id\\\":16,\\\"credits\\\":4,\\\"nameCanonical\\\":\\\"\\\"}],\\\"id\\\":3},{\\\"name\\\":\\\"Term 4\\\",\\\"curriculum_items\\\":[{\\\"curriculum_requisites\\\":[{\\\"source_id\\\":7,\\\"target_id\\\":17,\\\"type\\\":\\\"CurriculumPrerequisite\\\"},{\\\"source_id\\\":12,\\\"target_id\\\":17,\\\"type\\\":\\\"CurriculumPrerequisite\\\"}],\\\"name\\\":\\\"SER 222\\\",\\\"metrics\\\":{\\\"centrality\\\":138,\\\"complexity\\\":18.0,\\\"blocking factor\\\":11,\\\"delay factor\\\":7.0},\\\"nameSub\\\":\\\"Design and Analysis of Data Structures and Algorithms\\\",\\\"id\\\":17,\\\"credits\\\":3,\\\"nameCanonical\\\":\\\"Algorithms\\\"},{\\\"curriculum_requisites\\\":[{\\\"source_id\\\":1,\\\"target_id\\\":18,\\\"type\\\":\\\"CurriculumPrerequisite\\\"}],\\\"name\\\":\\\"CSE 230\\\",\\\"metrics\\\":{\\\"centrality\\\":8,\\\"complexity\\\":7.0,\\\"blocking factor\\\":3,\\\"delay factor\\\":4.0},\\\"nameSub\\\":\\\"Computer Organization and Assembly Language Programming\\\",\\\"id\\\":18,\\\"credits\\\":3,\\\"nameCanonical\\\":\\\"Computer Organization\\\"},{\\\"curriculum_requisites\\\":[{\\\"source_id\\\":2,\\\"target_id\\\":19,\\\"type\\\":\\\"CurriculumPrerequisite\\\"}],\\\"name\\\":\\\"EGR 280\\\",\\\"metrics\\\":{\\\"centrality\\\":0,\\\"complexity\\\":2.0,\\\"blocking factor\\\":0,\\\"delay factor\\\":2.0},\\\"nameSub\\\":\\\"Engineering Statistics\\\",\\\"id\\\":19,\\\"credits\\\":3,\\\"nameCanonical\\\":\\\"Statistics\\\"},{\\\"curriculum_requisites\\\":[{\\\"source_id\\\":10,\\\"target_id\\\":20,\\\"type\\\":\\\"CurriculumCorequisite\\\"},{\\\"source_id\\\":2,\\\"target_id\\\":20,\\\"type\\\":\\\"CurriculumPrerequisite\\\"},{\\\"source_id\\\":21,\\\"target_id\\\":20,\\\"type\\\":\\\"CurriculumStrictCorequisite\\\"}],\\\"name\\\":\\\"PHY 121\\\",\\\"metrics\\\":{\\\"centrality\\\":0,\\\"complexity\\\":3.0,\\\"blocking factor\\\":0,\\\"delay factor\\\":3.0},\\\"nameSub\\\":\\\"University Physics I: Mechanics\\\",\\\"id\\\":20,\\\"credits\\\":3,\\\"nameCanonical\\\":\\\"Physics I\\\"},{\\\"curriculum_requisites\\\":[],\\\"name\\\":\\\"PHY 122\\\",\\\"metrics\\\":{\\\"centrality\\\":0,\\\"complexity\\\":3.0,\\\"blocking factor\\\":1,\\\"delay factor\\\":2.0},\\\"nameSub\\\":\\\"University Physics Laboratory\\\",\\\"id\\\":21,\\\"credits\\\":1,\\\"nameCanonical\\\":\\\"Physics I Lab\\\"},{\\\"curriculum_requisites\\\":[{\\\"source_id\\\":17,\\\"target_id\\\":22,\\\"type\\\":\\\"CurriculumCorequisite\\\"}],\\\"name\\\":\\\"SER 216\\\",\\\"metrics\\\":{\\\"centrality\\\":60,\\\"complexity\\\":14.0,\\\"blocking factor\\\":7,\\\"delay factor\\\":7.0},\\\"nameSub\\\":\\\"Software Enterprise: Personal Process and Quality\\\",\\\"id\\\":22,\\\"credits\\\":3,\\\"nameCanonical\\\":\\\"\\\"}],\\\"id\\\":4},{\\\"name\\\":\\\"Term 5\\\",\\\"curriculum_items\\\":[{\\\"curriculum_requisites\\\":[{\\\"source_id\\\":17,\\\"target_id\\\":23,\\\"type\\\":\\\"CurriculumCorequisite\\\"},{\\\"source_id\\\":18,\\\"target_id\\\":23,\\\"type\\\":\\\"CurriculumPrerequisite\\\"}],\\\"name\\\":\\\"SER 334\\\",\\\"metrics\\\":{\\\"centrality\\\":28,\\\"complexity\\\":7.0,\\\"blocking factor\\\":2,\\\"delay factor\\\":5.0},\\\"nameSub\\\":\\\"Operating Systems and System Programming\\\",\\\"id\\\":23,\\\"credits\\\":3,\\\"nameCanonical\\\":\\\"Operating Systems\\\"},{\\\"curriculum_requisites\\\":[{\\\"source_id\\\":10,\\\"target_id\\\":24,\\\"type\\\":\\\"CurriculumPrerequisite\\\"}],\\\"name\\\":\\\"MAT 343\\\",\\\"metrics\\\":{\\\"centrality\\\":0,\\\"complexity\\\":3.0,\\\"blocking factor\\\":0,\\\"delay factor\\\":3.0},\\\"nameSub\\\":\\\"Applied Linear Algebra\\\",\\\"id\\\":24,\\\"credits\\\":3,\\\"nameCanonical\\\":\\\"Linear Algebra\\\"},{\\\"curriculum_requisites\\\":[{\\\"source_id\\\":17,\\\"target_id\\\":25,\\\"type\\\":\\\"CurriculumPrerequisite\\\"},{\\\"source_id\\\":5,\\\"target_id\\\":25,\\\"type\\\":\\\"CurriculumCorequisite\\\"},{\\\"source_id\\\":22,\\\"target_id\\\":25,\\\"type\\\":\\\"CurriculumCorequisite\\\"}],\\\"name\\\":\\\"SER 315\\\",\\\"metrics\\\":{\\\"centrality\\\":50,\\\"complexity\\\":8.0,\\\"blocking factor\\\":2,\\\"delay factor\\\":6.0},\\\"nameSub\\\":\\\"Software Enterprise: Design and Process\\\",\\\"id\\\":25,\\\"credits\\\":3,\\\"nameCanonical\\\":\\\"\\\"},{\\\"curriculum_requisites\\\":[{\\\"source_id\\\":17,\\\"target_id\\\":26,\\\"type\\\":\\\"CurriculumPrerequisite\\\"}],\\\"name\\\":\\\"SER 322\\\",\\\"metrics\\\":{\\\"centrality\\\":0,\\\"complexity\\\":4.0,\\\"blocking factor\\\":0,\\\"delay factor\\\":4.0},\\\"nameSub\\\":\\\"Principles of Database Management\\\",\\\"id\\\":26,\\\"credits\\\":3,\\\"nameCanonical\\\":\\\"Database Management\\\"},{\\\"curriculum_requisites\\\":[{\\\"source_id\\\":16,\\\"target_id\\\":27,\\\"type\\\":\\\"CurriculumPrerequisite\\\"}],\\\"name\\\":\\\" \\\",\\\"metrics\\\":{\\\"centrality\\\":0,\\\"complexity\\\":2.0,\\\"blocking factor\\\":0,\\\"delay factor\\\":2.0},\\\"nameSub\\\":\\\"Natural Science\\\",\\\"id\\\":27,\\\"credits\\\":4,\\\"nameCanonical\\\":\\\"\\\"}],\\\"id\\\":5},{\\\"name\\\":\\\"Term 6\\\",\\\"curriculum_items\\\":[{\\\"curriculum_requisites\\\":[{\\\"source_id\\\":23,\\\"target_id\\\":28,\\\"type\\\":\\\"CurriculumCorequisite\\\"},{\\\"source_id\\\":17,\\\"target_id\\\":28,\\\"type\\\":\\\"CurriculumPrerequisite\\\"}],\\\"name\\\":\\\"SER 321\\\",\\\"metrics\\\":{\\\"centrality\\\":0,\\\"complexity\\\":5.0,\\\"blocking factor\\\":0,\\\"delay factor\\\":5.0},\\\"nameSub\\\":\\\"Principles of Distributed Software Systems \\\",\\\"id\\\":28,\\\"credits\\\":3,\\\"nameCanonical\\\":\\\"Distributed Systems \\\"},{\\\"curriculum_requisites\\\":[{\\\"source_id\\\":17,\\\"target_id\\\":29,\\\"type\\\":\\\"CurriculumPrerequisite\\\"},{\\\"source_id\\\":22,\\\"target_id\\\":29,\\\"type\\\":\\\"CurriculumPrerequisite\\\"}],\\\"name\\\":\\\"SER 316\\\",\\\"metrics\\\":{\\\"centrality\\\":48,\\\"complexity\\\":10.0,\\\"blocking factor\\\":3,\\\"delay factor\\\":7.0},\\\"nameSub\\\":\\\"Software Enterprise: Construction and Transition\\\",\\\"id\\\":29,\\\"credits\\\":3,\\\"nameCanonical\\\":\\\"\\\"},{\\\"curriculum_requisites\\\":[{\\\"source_id\\\":23,\\\"target_id\\\":30,\\\"type\\\":\\\"CurriculumCorequisite\\\"},{\\\"source_id\\\":25,\\\"target_id\\\":30,\\\"type\\\":\\\"CurriculumCorequisite\\\"},{\\\"source_id\\\":22,\\\"target_id\\\":30,\\\"type\\\":\\\"CurriculumPrerequisite\\\"}],\\\"name\\\":\\\"SER 335\\\",\\\"metrics\\\":{\\\"centrality\\\":0,\\\"complexity\\\":6.0,\\\"blocking factor\\\":0,\\\"delay factor\\\":6.0},\\\"nameSub\\\":\\\"Engineering Secure Software Systems\\\",\\\"id\\\":30,\\\"credits\\\":3,\\\"nameCanonical\\\":\\\"\\\"},{\\\"curriculum_requisites\\\":[],\\\"name\\\":\\\" \\\",\\\"metrics\\\":{\\\"centrality\\\":0,\\\"complexity\\\":1.0,\\\"blocking factor\\\":0,\\\"delay factor\\\":1.0},\\\"nameSub\\\":\\\"Technical Elective\\\",\\\"id\\\":31,\\\"credits\\\":3,\\\"nameCanonical\\\":\\\"\\\"},{\\\"curriculum_requisites\\\":[],\\\"name\\\":\\\" \\\",\\\"metrics\\\":{\\\"centrality\\\":0,\\\"complexity\\\":1.0,\\\"blocking factor\\\":0,\\\"delay factor\\\":1.0},\\\"nameSub\\\":\\\"Social-Behavioral Sciences AND Global Awareness\\\",\\\"id\\\":32,\\\"credits\\\":3,\\\"nameCanonical\\\":\\\"\\\"}],\\\"id\\\":6},{\\\"name\\\":\\\"Term 7\\\",\\\"curriculum_items\\\":[{\\\"curriculum_requisites\\\":[{\\\"source_id\\\":29,\\\"target_id\\\":33,\\\"type\\\":\\\"CurriculumPrerequisite\\\"}],\\\"name\\\":\\\"SER 401\\\",\\\"metrics\\\":{\\\"centrality\\\":26,\\\"complexity\\\":8.0,\\\"blocking factor\\\":1,\\\"delay factor\\\":7.0},\\\"nameSub\\\":\\\"Computing Capstone Project I\\\",\\\"id\\\":33,\\\"credits\\\":3,\\\"nameCanonical\\\":\\\"Senior Design I\\\"},{\\\"curriculum_requisites\\\":[{\\\"source_id\\\":25,\\\"target_id\\\":34,\\\"type\\\":\\\"CurriculumPrerequisite\\\"}],\\\"name\\\":\\\"SER 415\\\",\\\"metrics\\\":{\\\"centrality\\\":0,\\\"complexity\\\":6.0,\\\"blocking factor\\\":0,\\\"delay factor\\\":6.0},\\\"nameSub\\\":\\\"Software Enterprise: Inception and Elaboration\\\",\\\"id\\\":34,\\\"credits\\\":3,\\\"nameCanonical\\\":\\\"\\\"},{\\\"curriculum_requisites\\\":[],\\\"name\\\":\\\"SER 4xx\\\",\\\"metrics\\\":{\\\"centrality\\\":0,\\\"complexity\\\":1.0,\\\"blocking factor\\\":0,\\\"delay factor\\\":1.0},\\\"nameSub\\\":\\\"Software Engineering Elective\\\",\\\"id\\\":35,\\\"credits\\\":3,\\\"nameCanonical\\\":\\\"\\\"},{\\\"curriculum_requisites\\\":[{\\\"source_id\\\":9,\\\"target_id\\\":36,\\\"type\\\":\\\"CurriculumPrerequisite\\\"}],\\\"name\\\":\\\"HIST 318\\\",\\\"metrics\\\":{\\\"centrality\\\":0,\\\"complexity\\\":3.0,\\\"blocking factor\\\":0,\\\"delay factor\\\":3.0},\\\"nameSub\\\":\\\"Upper Division Social-Behavioral Sciences (HIST 318 recommended)\\\",\\\"id\\\":36,\\\"credits\\\":3,\\\"nameCanonical\\\":\\\"\\\"},{\\\"curriculum_requisites\\\":[],\\\"name\\\":\\\" \\\",\\\"metrics\\\":{\\\"centrality\\\":0,\\\"complexity\\\":1.0,\\\"blocking factor\\\":0,\\\"delay factor\\\":1.0},\\\"nameSub\\\":\\\"Humanities, Arts and Design AND Historical Awareness\\\",\\\"id\\\":37,\\\"credits\\\":3,\\\"nameCanonical\\\":\\\"\\\"}],\\\"id\\\":7},{\\\"name\\\":\\\"Term 8\\\",\\\"curriculum_items\\\":[{\\\"curriculum_requisites\\\":[{\\\"source_id\\\":33,\\\"target_id\\\":38,\\\"type\\\":\\\"CurriculumPrerequisite\\\"}],\\\"name\\\":\\\"SER 402\\\",\\\"metrics\\\":{\\\"centrality\\\":0,\\\"complexity\\\":7.0,\\\"blocking factor\\\":0,\\\"delay factor\\\":7.0},\\\"nameSub\\\":\\\"Computing Capstone Project II\\\",\\\"id\\\":38,\\\"credits\\\":3,\\\"nameCanonical\\\":\\\"Senior Design II\\\"},{\\\"curriculum_requisites\\\":[{\\\"source_id\\\":29,\\\"target_id\\\":39,\\\"type\\\":\\\"CurriculumPrerequisite\\\"}],\\\"name\\\":\\\"SER 416\\\",\\\"metrics\\\":{\\\"centrality\\\":0,\\\"complexity\\\":6.0,\\\"blocking factor\\\":0,\\\"delay factor\\\":6.0},\\\"nameSub\\\":\\\"Software Enterprise: Project and Process Management\\\",\\\"id\\\":39,\\\"credits\\\":3,\\\"nameCanonical\\\":\\\"\\\"},{\\\"curriculum_requisites\\\":[],\\\"name\\\":\\\"SER 4xx\\\",\\\"metrics\\\":{\\\"centrality\\\":0,\\\"complexity\\\":1.0,\\\"blocking factor\\\":0,\\\"delay factor\\\":1.0},\\\"nameSub\\\":\\\"Software Engineering Elective\\\",\\\"id\\\":40,\\\"credits\\\":3,\\\"nameCanonical\\\":\\\"\\\"},{\\\"curriculum_requisites\\\":[],\\\"name\\\":\\\"SER 4xx\\\",\\\"metrics\\\":{\\\"centrality\\\":0,\\\"complexity\\\":1.0,\\\"blocking factor\\\":0,\\\"delay factor\\\":1.0},\\\"nameSub\\\":\\\"Software Engineering Elective\\\",\\\"id\\\":41,\\\"credits\\\":3,\\\"nameCanonical\\\":\\\"\\\"}],\\\"id\\\":8}],\\\"institution\\\":\\\"Arizona State University (Polytechnic Campus)\\\"}},\\\"*\\\"); window.removeEventListener(\\\"message\\\",window.messageReceived); window.messageReceived=(function (event){return (event.data.curriculum!==undefined) ? (WebIO.setval({\\\"name\\\":\\\"curriculum-data\\\",\\\"scope\\\":\\\"4405695425285447142\\\",\\\"id\\\":\\\"18381686284699672222\\\",\\\"type\\\":\\\"observable\\\"},event.data.curriculum)) : undefined}); return window.addEventListener(\\\"message\\\",window.messageReceived)})\")),:style => Dict(:padding => \"0\",:height => \"90vh\",:margin => \"0\",:border => \"none\",:width => \"100%\"))), Dict{String,Tuple{Observables.AbstractObservable,Union{Nothing, Bool}}}(\"curriculum-data\" => (Observable{Dict{String,Any}} with 1 listeners. Value:\n",
       "Dict{String,Any}(\"options\" => Dict{String,Any}(\"hideTerms\" => false,\"edit\" => false),\"curriculum\" => Dict{String,Any}(\"name\" => \"Software Engineering\",\"dp_name\" => \"2020-21 Degree Plan\",\"curriculum_terms\" => Dict{String,Any}[Dict(\"name\" => \"Term 1\",\"curriculum_items\" => Dict{String,Any}[Dict(\"curriculum_requisites\" => Dict{String,Any}[],\"name\" => \"CSE 110\",\"metrics\" => Dict{String,Any}(\"centrality\" => 0,\"complexity\" => 23.0,\"blocking factor\" => 16,\"delay factor\" => 7.0),\"nameSub\" => \"Principles of Programming\",\"id\" => 1,\"credits\" => 3,\"nameCanonical\" => \"Programming I\"), Dict(\"curriculum_requisites\" => Dict{String,Any}[],\"name\" => \"MAT 265\",\"metrics\" => Dict{String,Any}(\"centrality\" => 0,\"complexity\" => 26.0,\"blocking factor\" => 19,\"delay factor\" => 7.0),\"nameSub\" => \"Calculus for Engineers I\",\"id\" => 2,\"credits\" => 3,\"nameCanonical\" => \"Calculus I\"), Dict(\"curriculum_requisites\" => Dict{String,Any}[],\"name\" => \"ASU 101-CSE\",\"metrics\" => Dict{String,Any}(\"centrality\" => 0,\"complexity\" => 1.0,\"blocking factor\" => 0,\"delay factor\" => 1.0),\"nameSub\" => \"The ASU Experience\",\"id\" => 3,\"credits\" => 1,\"nameCanonical\" => \"\"), Dict(\"curriculum_requisites\" => Dict{String,Any}[],\"name\" => \"ENG 101\",\"metrics\" => Dict{String,Any}(\"centrality\" => 0,\"complexity\" => 6.0,\"blocking factor\" => 3,\"delay factor\" => 3.0),\"nameSub\" => \"First-year Composition\",\"id\" => 4,\"credits\" => 3,\"nameCanonical\" => \"First-year Composition I\"), Dict(\"curriculum_requisites\" => Dict{String,Any}[],\"name\" => \"FSE 100\",\"metrics\" => Dict{String,Any}(\"centrality\" => 0,\"complexity\" => 6.0,\"blocking factor\" => 3,\"delay factor\" => 3.0),\"nameSub\" => \"Introduction to Engineering \",\"id\" => 5,\"credits\" => 2,\"nameCanonical\" => \"Introduction to Engineering\"), Dict(\"curriculum_requisites\" => Dict{String,Any}[],\"name\" => \" \",\"metrics\" => Dict{String,Any}(\"centrality\" => 0,\"complexity\" => 1.0,\"blocking factor\" => 0,\"delay factor\" => 1.0),\"nameSub\" => \"Social-Behavioral Sciences\",\"id\" => 6,\"credits\" => 3,\"nameCanonical\" => \"\")],\"id\" => 1), Dict(\"name\" => \"Term 2\",\"curriculum_items\" => Dict{String,Any}[Dict(\"curriculum_requisites\" => Dict{String,Any}[Dict(\"source_id\" => 1,\"target_id\" => 7,\"type\" => \"CurriculumPrerequisite\")],\"name\" => \"CSE 205\",\"metrics\" => Dict{String,Any}(\"centrality\" => 72,\"complexity\" => 20.0,\"blocking factor\" => 13,\"delay factor\" => 7.0),\"nameSub\" => \"Object-Oriented Programming and Data Structures\",\"id\" => 7,\"credits\" => 3,\"nameCanonical\" => \"Data Structures\"), Dict(\"curriculum_requisites\" => Dict{String,Any}[Dict(\"source_id\" => 4,\"target_id\" => 8,\"type\" => \"CurriculumCorequisite\")],\"name\" => \"EGR 104\",\"metrics\" => Dict{String,Any}(\"centrality\" => 0,\"complexity\" => 2.0,\"blocking factor\" => 0,\"delay factor\" => 2.0),\"nameSub\" => \"Critical Inquiry in Engineering\",\"id\" => 8,\"credits\" => 3,\"nameCanonical\" => \"\"), Dict(\"curriculum_requisites\" => Dict{String,Any}[Dict(\"source_id\" => 4,\"target_id\" => 9,\"type\" => \"CurriculumPrerequisite\")],\"name\" => \"ENG 102\",\"metrics\" => Dict{String,Any}(\"centrality\" => 3,\"complexity\" => 4.0,\"blocking factor\" => 1,\"delay factor\" => 3.0),\"nameSub\" => \"First-year Composition\",\"id\" => 9,\"credits\" => 3,\"nameCanonical\" => \"First-year Composition II\"), Dict(\"curriculum_requisites\" => Dict{String,Any}[Dict(\"source_id\" => 2,\"target_id\" => 10,\"type\" => \"CurriculumPrerequisite\")],\"name\" => \"MAT 266\",\"metrics\" => Dict{String,Any}(\"centrality\" => 9,\"complexity\" => 6.0,\"blocking factor\" => 3,\"delay factor\" => 3.0),\"nameSub\" => \"Calculus for Engineers II\",\"id\" => 10,\"credits\" => 3,\"nameCanonical\" => \"Calculus II\"), Dict(\"curriculum_requisites\" => Dict{String,Any}[],\"name\" => \" \",\"metrics\" => Dict{String,Any}(\"centrality\" => 0,\"complexity\" => 1.0,\"blocking factor\" => 0,\"delay factor\" => 1.0),\"nameSub\" => \"Humanities, Arts and Design AND Cultural Diversity in the U.S.\",\"id\" => 11,\"credits\" => 3,\"nameCanonical\" => \"\")],\"id\" => 2), Dict(\"name\" => \"Term 3\",\"curriculum_items\" => Dict{String,Any}[Dict(\"curriculum_requisites\" => Dict{String,Any}[Dict(\"source_id\" => 2,\"target_id\" => 12,\"type\" => \"CurriculumPrerequisite\")],\"name\" => \"MAT 243\",\"metrics\" => Dict{String,Any}(\"centrality\" => 69,\"complexity\" => 19.0,\"blocking factor\" => 12,\"delay factor\" => 7.0),\"nameSub\" => \"Discrete Mathematical Structures\",\"id\" => 12,\"credits\" => 3,\"nameCanonical\" => \"Discrete Mathematics\"), Dict(\"curriculum_requisites\" => Dict{String,Any}[Dict(\"source_id\" => 2,\"target_id\" => 13,\"type\" => \"CurriculumPrerequisite\"), Dict(\"source_id\" => 1,\"target_id\" => 13,\"type\" => \"CurriculumPrerequisite\")],\"name\" => \"SER 232\",\"metrics\" => Dict{String,Any}(\"centrality\" => 0,\"complexity\" => 2.0,\"blocking factor\" => 0,\"delay factor\" => 2.0),\"nameSub\" => \"Computer System Fundamentals\",\"id\" => 13,\"credits\" => 3,\"nameCanonical\" => \"\"), Dict(\"curriculum_requisites\" => Dict{String,Any}[Dict(\"source_id\" => 7,\"target_id\" => 14,\"type\" => \"CurriculumPrerequisite\")],\"name\" => \"CSE 240\",\"metrics\" => Dict{String,Any}(\"centrality\" => 0,\"complexity\" => 3.0,\"blocking factor\" => 0,\"delay factor\" => 3.0),\"nameSub\" => \"Introduction to Programming Languages\",\"id\" => 14,\"credits\" => 3,\"nameCanonical\" => \"\"), Dict(\"curriculum_requisites\" => Dict{String,Any}[Dict(\"source_id\" => 10,\"target_id\" => 15,\"type\" => \"CurriculumPrerequisite\")],\"name\" => \"MAT 267\",\"metrics\" => Dict{String,Any}(\"centrality\" => 0,\"complexity\" => 3.0,\"blocking factor\" => 0,\"delay factor\" => 3.0),\"nameSub\" => \"Calculus for Engineers III\",\"id\" => 15,\"credits\" => 3,\"nameCanonical\" => \"\"), Dict(\"curriculum_requisites\" => Dict{String,Any}[],\"name\" => \" \",\"metrics\" => Dict{String,Any}(\"centrality\" => 0,\"complexity\" => 3.0,\"blocking factor\" => 1,\"delay factor\" => 2.0),\"nameSub\" => \"Natural Science\",\"id\" => 16,\"credits\" => 4,\"nameCanonical\" => \"\")],\"id\" => 3), Dict(\"name\" => \"Term 4\",\"curriculum_items\" => Dict{String,Any}[Dict(\"curriculum_requisites\" => Dict{String,Any}[Dict(\"source_id\" => 7,\"target_id\" => 17,\"type\" => \"CurriculumPrerequisite\"), Dict(\"source_id\" => 12,\"target_id\" => 17,\"type\" => \"CurriculumPrerequisite\")],\"name\" => \"SER 222\",\"metrics\" => Dict{String,Any}(\"centrality\" => 138,\"complexity\" => 18.0,\"blocking factor\" => 11,\"delay factor\" => 7.0),\"nameSub\" => \"Design and Analysis of Data Structures and Algorithms\",\"id\" => 17,\"credits\" => 3,\"nameCanonical\" => \"Algorithms\"), Dict(\"curriculum_requisites\" => Dict{String,Any}[Dict(\"source_id\" => 1,\"target_id\" => 18,\"type\" => \"CurriculumPrerequisite\")],\"name\" => \"CSE 230\",\"metrics\" => Dict{String,Any}(\"centrality\" => 8,\"complexity\" => 7.0,\"blocking factor\" => 3,\"delay factor\" => 4.0),\"nameSub\" => \"Computer Organization and Assembly Language Programming\",\"id\" => 18,\"credits\" => 3,\"nameCanonical\" => \"Computer Organization\"), Dict(\"curriculum_requisites\" => Dict{String,Any}[Dict(\"source_id\" => 2,\"target_id\" => 19,\"type\" => \"CurriculumPrerequisite\")],\"name\" => \"EGR 280\",\"metrics\" => Dict{String,Any}(\"centrality\" => 0,\"complexity\" => 2.0,\"blocking factor\" => 0,\"delay factor\" => 2.0),\"nameSub\" => \"Engineering Statistics\",\"id\" => 19,\"credits\" => 3,\"nameCanonical\" => \"Statistics\"), Dict(\"curriculum_requisites\" => Dict{String,Any}[Dict(\"source_id\" => 10,\"target_id\" => 20,\"type\" => \"CurriculumCorequisite\"), Dict(\"source_id\" => 2,\"target_id\" => 20,\"type\" => \"CurriculumPrerequisite\"), Dict(\"source_id\" => 21,\"target_id\" => 20,\"type\" => \"CurriculumStrictCorequisite\")],\"name\" => \"PHY 121\",\"metrics\" => Dict{String,Any}(\"centrality\" => 0,\"complexity\" => 3.0,\"blocking factor\" => 0,\"delay factor\" => 3.0),\"nameSub\" => \"University Physics I: Mechanics\",\"id\" => 20,\"credits\" => 3,\"nameCanonical\" => \"Physics I\"), Dict(\"curriculum_requisites\" => Dict{String,Any}[],\"name\" => \"PHY 122\",\"metrics\" => Dict{String,Any}(\"centrality\" => 0,\"complexity\" => 3.0,\"blocking factor\" => 1,\"delay factor\" => 2.0),\"nameSub\" => \"University Physics Laboratory\",\"id\" => 21,\"credits\" => 1,\"nameCanonical\" => \"Physics I Lab\"), Dict(\"curriculum_requisites\" => Dict{String,Any}[Dict(\"source_id\" => 17,\"target_id\" => 22,\"type\" => \"CurriculumCorequisite\")],\"name\" => \"SER 216\",\"metrics\" => Dict{String,Any}(\"centrality\" => 60,\"complexity\" => 14.0,\"blocking factor\" => 7,\"delay factor\" => 7.0),\"nameSub\" => \"Software Enterprise: Personal Process and Quality\",\"id\" => 22,\"credits\" => 3,\"nameCanonical\" => \"\")],\"id\" => 4), Dict(\"name\" => \"Term 5\",\"curriculum_items\" => Dict{String,Any}[Dict(\"curriculum_requisites\" => Dict{String,Any}[Dict(\"source_id\" => 17,\"target_id\" => 23,\"type\" => \"CurriculumCorequisite\"), Dict(\"source_id\" => 18,\"target_id\" => 23,\"type\" => \"CurriculumPrerequisite\")],\"name\" => \"SER 334\",\"metrics\" => Dict{String,Any}(\"centrality\" => 28,\"complexity\" => 7.0,\"blocking factor\" => 2,\"delay factor\" => 5.0),\"nameSub\" => \"Operating Systems and System Programming\",\"id\" => 23,\"credits\" => 3,\"nameCanonical\" => \"Operating Systems\"), Dict(\"curriculum_requisites\" => Dict{String,Any}[Dict(\"source_id\" => 10,\"target_id\" => 24,\"type\" => \"CurriculumPrerequisite\")],\"name\" => \"MAT 343\",\"metrics\" => Dict{String,Any}(\"centrality\" => 0,\"complexity\" => 3.0,\"blocking factor\" => 0,\"delay factor\" => 3.0),\"nameSub\" => \"Applied Linear Algebra\",\"id\" => 24,\"credits\" => 3,\"nameCanonical\" => \"Linear Algebra\"), Dict(\"curriculum_requisites\" => Dict{String,Any}[Dict(\"source_id\" => 17,\"target_id\" => 25,\"type\" => \"CurriculumPrerequisite\"), Dict(\"source_id\" => 5,\"target_id\" => 25,\"type\" => \"CurriculumCorequisite\"), Dict(\"source_id\" => 22,\"target_id\" => 25,\"type\" => \"CurriculumCorequisite\")],\"name\" => \"SER 315\",\"metrics\" => Dict{String,Any}(\"centrality\" => 50,\"complexity\" => 8.0,\"blocking factor\" => 2,\"delay factor\" => 6.0),\"nameSub\" => \"Software Enterprise: Design and Process\",\"id\" => 25,\"credits\" => 3,\"nameCanonical\" => \"\"), Dict(\"curriculum_requisites\" => Dict{String,Any}[Dict(\"source_id\" => 17,\"target_id\" => 26,\"type\" => \"CurriculumPrerequisite\")],\"name\" => \"SER 322\",\"metrics\" => Dict{String,Any}(\"centrality\" => 0,\"complexity\" => 4.0,\"blocking factor\" => 0,\"delay factor\" => 4.0),\"nameSub\" => \"Principles of Database Management\",\"id\" => 26,\"credits\" => 3,\"nameCanonical\" => \"Database Management\"), Dict(\"curriculum_requisites\" => Dict{String,Any}[Dict(\"source_id\" => 16,\"target_id\" => 27,\"type\" => \"CurriculumPrerequisite\")],\"name\" => \" \",\"metrics\" => Dict{String,Any}(\"centrality\" => 0,\"complexity\" => 2.0,\"blocking factor\" => 0,\"delay factor\" => 2.0),\"nameSub\" => \"Natural Science\",\"id\" => 27,\"credits\" => 4,\"nameCanonical\" => \"\")],\"id\" => 5), Dict(\"name\" => \"Term 6\",\"curriculum_items\" => Dict{String,Any}[Dict(\"curriculum_requisites\" => Dict{String,Any}[Dict(\"source_id\" => 23,\"target_id\" => 28,\"type\" => \"CurriculumCorequisite\"), Dict(\"source_id\" => 17,\"target_id\" => 28,\"type\" => \"CurriculumPrerequisite\")],\"name\" => \"SER 321\",\"metrics\" => Dict{String,Any}(\"centrality\" => 0,\"complexity\" => 5.0,\"blocking factor\" => 0,\"delay factor\" => 5.0),\"nameSub\" => \"Principles of Distributed Software Systems \",\"id\" => 28,\"credits\" => 3,\"nameCanonical\" => \"Distributed Systems \"), Dict(\"curriculum_requisites\" => Dict{String,Any}[Dict(\"source_id\" => 17,\"target_id\" => 29,\"type\" => \"CurriculumPrerequisite\"), Dict(\"source_id\" => 22,\"target_id\" => 29,\"type\" => \"CurriculumPrerequisite\")],\"name\" => \"SER 316\",\"metrics\" => Dict{String,Any}(\"centrality\" => 48,\"complexity\" => 10.0,\"blocking factor\" => 3,\"delay factor\" => 7.0),\"nameSub\" => \"Software Enterprise: Construction and Transition\",\"id\" => 29,\"credits\" => 3,\"nameCanonical\" => \"\"), Dict(\"curriculum_requisites\" => Dict{String,Any}[Dict(\"source_id\" => 23,\"target_id\" => 30,\"type\" => \"CurriculumCorequisite\"), Dict(\"source_id\" => 25,\"target_id\" => 30,\"type\" => \"CurriculumCorequisite\"), Dict(\"source_id\" => 22,\"target_id\" => 30,\"type\" => \"CurriculumPrerequisite\")],\"name\" => \"SER 335\",\"metrics\" => Dict{String,Any}(\"centrality\" => 0,\"complexity\" => 6.0,\"blocking factor\" => 0,\"delay factor\" => 6.0),\"nameSub\" => \"Engineering Secure Software Systems\",\"id\" => 30,\"credits\" => 3,\"nameCanonical\" => \"\"), Dict(\"curriculum_requisites\" => Dict{String,Any}[],\"name\" => \" \",\"metrics\" => Dict{String,Any}(\"centrality\" => 0,\"complexity\" => 1.0,\"blocking factor\" => 0,\"delay factor\" => 1.0),\"nameSub\" => \"Technical Elective\",\"id\" => 31,\"credits\" => 3,\"nameCanonical\" => \"\"), Dict(\"curriculum_requisites\" => Dict{String,Any}[],\"name\" => \" \",\"metrics\" => Dict{String,Any}(\"centrality\" => 0,\"complexity\" => 1.0,\"blocking factor\" => 0,\"delay factor\" => 1.0),\"nameSub\" => \"Social-Behavioral Sciences AND Global Awareness\",\"id\" => 32,\"credits\" => 3,\"nameCanonical\" => \"\")],\"id\" => 6), Dict(\"name\" => \"Term 7\",\"curriculum_items\" => Dict{String,Any}[Dict(\"curriculum_requisites\" => Dict{String,Any}[Dict(\"source_id\" => 29,\"target_id\" => 33,\"type\" => \"CurriculumPrerequisite\")],\"name\" => \"SER 401\",\"metrics\" => Dict{String,Any}(\"centrality\" => 26,\"complexity\" => 8.0,\"blocking factor\" => 1,\"delay factor\" => 7.0),\"nameSub\" => \"Computing Capstone Project I\",\"id\" => 33,\"credits\" => 3,\"nameCanonical\" => \"Senior Design I\"), Dict(\"curriculum_requisites\" => Dict{String,Any}[Dict(\"source_id\" => 25,\"target_id\" => 34,\"type\" => \"CurriculumPrerequisite\")],\"name\" => \"SER 415\",\"metrics\" => Dict{String,Any}(\"centrality\" => 0,\"complexity\" => 6.0,\"blocking factor\" => 0,\"delay factor\" => 6.0),\"nameSub\" => \"Software Enterprise: Inception and Elaboration\",\"id\" => 34,\"credits\" => 3,\"nameCanonical\" => \"\"), Dict(\"curriculum_requisites\" => Dict{String,Any}[],\"name\" => \"SER 4xx\",\"metrics\" => Dict{String,Any}(\"centrality\" => 0,\"complexity\" => 1.0,\"blocking factor\" => 0,\"delay factor\" => 1.0),\"nameSub\" => \"Software Engineering Elective\",\"id\" => 35,\"credits\" => 3,\"nameCanonical\" => \"\"), Dict(\"curriculum_requisites\" => Dict{String,Any}[Dict(\"source_id\" => 9,\"target_id\" => 36,\"type\" => \"CurriculumPrerequisite\")],\"name\" => \"HIST 318\",\"metrics\" => Dict{String,Any}(\"centrality\" => 0,\"complexity\" => 3.0,\"blocking factor\" => 0,\"delay factor\" => 3.0),\"nameSub\" => \"Upper Division Social-Behavioral Sciences (HIST 318 recommended)\",\"id\" => 36,\"credits\" => 3,\"nameCanonical\" => \"\"), Dict(\"curriculum_requisites\" => Dict{String,Any}[],\"name\" => \" \",\"metrics\" => Dict{String,Any}(\"centrality\" => 0,\"complexity\" => 1.0,\"blocking factor\" => 0,\"delay factor\" => 1.0),\"nameSub\" => \"Humanities, Arts and Design AND Historical Awareness\",\"id\" => 37,\"credits\" => 3,\"nameCanonical\" => \"\")],\"id\" => 7), Dict(\"name\" => \"Term 8\",\"curriculum_items\" => Dict{String,Any}[Dict(\"curriculum_requisites\" => Dict{String,Any}[Dict(\"source_id\" => 33,\"target_id\" => 38,\"type\" => \"CurriculumPrerequisite\")],\"name\" => \"SER 402\",\"metrics\" => Dict{String,Any}(\"centrality\" => 0,\"complexity\" => 7.0,\"blocking factor\" => 0,\"delay factor\" => 7.0),\"nameSub\" => \"Computing Capstone Project II\",\"id\" => 38,\"credits\" => 3,\"nameCanonical\" => \"Senior Design II\"), Dict(\"curriculum_requisites\" => Dict{String,Any}[Dict(\"source_id\" => 29,\"target_id\" => 39,\"type\" => \"CurriculumPrerequisite\")],\"name\" => \"SER 416\",\"metrics\" => Dict{String,Any}(\"centrality\" => 0,\"complexity\" => 6.0,\"blocking factor\" => 0,\"delay factor\" => 6.0),\"nameSub\" => \"Software Enterprise: Project and Process Management\",\"id\" => 39,\"credits\" => 3,\"nameCanonical\" => \"\"), Dict(\"curriculum_requisites\" => Dict{String,Any}[],\"name\" => \"SER 4xx\",\"metrics\" => Dict{String,Any}(\"centrality\" => 0,\"complexity\" => 1.0,\"blocking factor\" => 0,\"delay factor\" => 1.0),\"nameSub\" => \"Software Engineering Elective\",\"id\" => 40,\"credits\" => 3,\"nameCanonical\" => \"\"), Dict(\"curriculum_requisites\" => Dict{String,Any}[],\"name\" => \"SER 4xx\",\"metrics\" => Dict{String,Any}(\"centrality\" => 0,\"complexity\" => 1.0,\"blocking factor\" => 0,\"delay factor\" => 1.0),\"nameSub\" => \"Software Engineering Elective\",\"id\" => 41,\"credits\" => 3,\"nameCanonical\" => \"\")],\"id\" => 8)],\"institution\" => \"Arizona State University (Polytechnic Campus)\")), nothing)), Set{String}(), nothing, WebIO.Asset[], Dict{Any,Any}(), WebIO.ConnectionPool(Channel{Any}(sz_max:32,sz_curr:0), Set{WebIO.AbstractConnection}(), Base.GenericCondition{Base.AlwaysLockedST}(Base.InvasiveLinkedList{Task}(Task (runnable) @0x0000000114225d50, Task (runnable) @0x0000000114225d50), Base.AlwaysLockedST(1))), WebIO.JSString[])"
      ]
     },
     "execution_count": 160,
     "metadata": {
      "application/vnd.webio.node+json": {
       "kernelId": "5995f028-7d2e-4ab2-99b4-b65d8799194b"
      }
     },
     "output_type": "execute_result"
    }
   ],
   "source": [
    "ASU_plan = read_csv(\"./programs/Arizona-State-BSSE.csv\")\n",
    "visualize(ASU_plan, notebook=true, scale=0.9)"
   ]
  },
  {
   "cell_type": "markdown",
   "metadata": {},
   "source": [
    "This program was first ABET-accredited in 2014, and it currently has the following program educational objectives.\n",
    "\n",
    "Within a few years of completion, graduates exhibit the following characteristics:\n",
    "- Be agile software developers with a comprehensive set of skills appropriate to the needs of the dynamic global computing-based society.\n",
    "- Capable of team and organizational leadership in computing project settings, and have a broad understanding of ethical application of computing-based solutions to societal and organizational problems.\n",
    "- Acquire skills and knowledge to advance their career, including continually upgrading professional, communication, analytic, and technical skills.\n",
    "\n",
    "According to the ASU website, in 2018 there werew 1,268\tstudents enrolled in this program, with 122 degrees awarded,  and in 2019, there werew 1,322 student enrolled in this program, with 143 degrees awarded.\n",
    "\n",
    "The prefix for software engineering courses at ASU is \"SER.\"  Note in the degree plan above that the first SER course does not occur until the first semester of the sophomore year.  There total number of software engineering courses (i.e., courses with SER prefixes) in the ASU curriculum is:"
   ]
  },
  {
   "cell_type": "code",
   "execution_count": 161,
   "metadata": {},
   "outputs": [
    {
     "data": {
      "text/plain": [
       "16"
      ]
     },
     "execution_count": 161,
     "metadata": {},
     "output_type": "execute_result"
    }
   ],
   "source": [
    "SSE_ASU = mapreduce(x->x.prefix == \"SER\", +, ASU_plan.curriculum.courses)"
   ]
  },
  {
   "cell_type": "markdown",
   "metadata": {},
   "source": [
    "That is, in order to support this curriculum, ASU was required to create at least 16 new courses in the software engineering area.  The sofware engineering courses account for the following percentage of the entire curriculum:"
   ]
  },
  {
   "cell_type": "code",
   "execution_count": 162,
   "metadata": {},
   "outputs": [
    {
     "data": {
      "text/plain": [
       "39.0"
      ]
     },
     "execution_count": 162,
     "metadata": {},
     "output_type": "execute_result"
    }
   ],
   "source": [
    "round(SSE_ASU/length(ASU_plan.curriculum.courses) * 100)"
   ]
  },
  {
   "cell_type": "markdown",
   "metadata": {},
   "source": [
    "***Stevens Institute of Technolgy.*** This program is offered jointly by the School of Systems and Enterprises and the School of Engineering and Science, and leads to the Bachelor of Engineering in software engineering. The first graduates from this program occured in 2018. They also offer an accelerated Master's program. A minor in Software Engineering requires seven courses, two of which are required in any ABET-accredited computer science or computer engineering program. Thus, taking the other four courses as electives, it seems that it would be fairly easy for computer science of computer engineering undergraduate students at Stevens to earn a Software Engineering Minor.\n",
    "\n",
    "The program has a high number of total credit hours, but the goal of the program is to provide depth in both software engineering and systems engineering."
   ]
  },
  {
   "cell_type": "code",
   "execution_count": 163,
   "metadata": {
    "scrolled": false
   },
   "outputs": [
    {
     "data": {
      "application/vnd.webio.node+json": {
       "children": [
        {
         "children": [
          ""
         ],
         "instanceArgs": {
          "namespace": "html",
          "tag": "iframe"
         },
         "nodeType": "DOM",
         "props": {
          "events": {
           "load": "(function (){this.contentWindow.postMessage({\"options\":{\"hideTerms\":false,\"edit\":false},\"curriculum\":{\"name\":\"Software Engineering\",\"dp_name\":\"2020-21 Degree Plan\",\"curriculum_terms\":[{\"name\":\"Term 1\",\"curriculum_items\":[{\"curriculum_requisites\":[{\"source_id\":2,\"target_id\":1,\"type\":\"CurriculumStrictCorequisite\"}],\"name\":\"CH 115\",\"metrics\":{\"centrality\":7,\"complexity\":7.0,\"blocking factor\":3,\"delay factor\":4.0},\"nameSub\":\"General Chemistry I \",\"id\":1,\"credits\":3,\"nameCanonical\":\"Chemistry I\"},{\"curriculum_requisites\":[],\"name\":\"CH 117\",\"metrics\":{\"centrality\":0,\"complexity\":8.0,\"blocking factor\":4,\"delay factor\":4.0},\"nameSub\":\"General Chemistry Laboratory I \",\"id\":2,\"credits\":1,\"nameCanonical\":\"Chemistry I Lab\"},{\"curriculum_requisites\":[],\"name\":\"E 101\",\"metrics\":{\"centrality\":0,\"complexity\":1.0,\"blocking factor\":0,\"delay factor\":1.0},\"nameSub\":\"Engineering Experience I \",\"id\":3,\"credits\":1,\"nameCanonical\":\"\"},{\"curriculum_requisites\":[],\"name\":\"E 120\",\"metrics\":{\"centrality\":0,\"complexity\":11.0,\"blocking factor\":5,\"delay factor\":6.0},\"nameSub\":\"Engineering Graphics \",\"id\":4,\"credits\":1,\"nameCanonical\":\"\"},{\"curriculum_requisites\":[{\"source_id\":4,\"target_id\":5,\"type\":\"CurriculumCorequisite\"},{\"source_id\":6,\"target_id\":5,\"type\":\"CurriculumCorequisite\"}],\"name\":\"E 121\",\"metrics\":{\"centrality\":36,\"complexity\":10.0,\"blocking factor\":4,\"delay factor\":6.0},\"nameSub\":\"Engineering Design I: Introduction to Systems Thinking \",\"id\":5,\"credits\":2,\"nameCanonical\":\"\"},{\"curriculum_requisites\":[],\"name\":\"E 115\",\"metrics\":{\"centrality\":0,\"complexity\":15.0,\"blocking factor\":9,\"delay factor\":6.0},\"nameSub\":\"Introduction to Programming \",\"id\":6,\"credits\":2,\"nameCanonical\":\"Programming I\"},{\"curriculum_requisites\":[],\"name\":\"CAL 103\",\"metrics\":{\"centrality\":0,\"complexity\":1.0,\"blocking factor\":0,\"delay factor\":1.0},\"nameSub\":\"Writing And Communications Colloquium \",\"id\":7,\"credits\":3,\"nameCanonical\":\"\"},{\"curriculum_requisites\":[],\"name\":\"MA  121;122\",\"metrics\":{\"centrality\":0,\"complexity\":18.0,\"blocking factor\":12,\"delay factor\":6.0},\"nameSub\":\"Differential Calculus; Integral Calculus \",\"id\":8,\"credits\":4,\"nameCanonical\":\"\"}],\"id\":1},{\"name\":\"Term 2\",\"curriculum_items\":[{\"curriculum_requisites\":[],\"name\":\" \",\"metrics\":{\"centrality\":0,\"complexity\":1.0,\"blocking factor\":0,\"delay factor\":1.0},\"nameSub\":\"Science Elective\",\"id\":9,\"credits\":3,\"nameCanonical\":\"\"},{\"curriculum_requisites\":[{\"source_id\":8,\"target_id\":10,\"type\":\"CurriculumCorequisite\"}],\"name\":\"PEP 111\",\"metrics\":{\"centrality\":20,\"complexity\":13.0,\"blocking factor\":7,\"delay factor\":6.0},\"nameSub\":\"Mechanics\",\"id\":10,\"credits\":3,\"nameCanonical\":\"\"},{\"curriculum_requisites\":[{\"source_id\":5,\"target_id\":11,\"type\":\"CurriculumPrerequisite\"}],\"name\":\"E 122\",\"metrics\":{\"centrality\":30,\"complexity\":9.0,\"blocking factor\":3,\"delay factor\":6.0},\"nameSub\":\"Engineering Design II: Field Sustainable Systems with Sensors \",\"id\":11,\"credits\":2,\"nameCanonical\":\"\"},{\"curriculum_requisites\":[],\"name\":\"CAL 105\",\"metrics\":{\"centrality\":0,\"complexity\":1.0,\"blocking factor\":0,\"delay factor\":1.0},\"nameSub\":\"CAL Colloquium: Knowledge, Nature, Culture\",\"id\":12,\"credits\":3,\"nameCanonical\":\"\"},{\"curriculum_requisites\":[{\"source_id\":8,\"target_id\":13,\"type\":\"CurriculumPrerequisite\"}],\"name\":\"MA  123;124\",\"metrics\":{\"centrality\":12,\"complexity\":11.0,\"blocking factor\":6,\"delay factor\":5.0},\"nameSub\":\"Series, Vectors, Functions, and Surfaces; Calculus of Two Variables\",\"id\":13,\"credits\":4,\"nameCanonical\":\"\"},{\"curriculum_requisites\":[],\"name\":\"MGT 103\",\"metrics\":{\"centrality\":0,\"complexity\":7.0,\"blocking factor\":3,\"delay factor\":4.0},\"nameSub\":\"Introduction to Entrepreneurial Thinking \",\"id\":14,\"credits\":2,\"nameCanonical\":\"\"}],\"id\":2},{\"name\":\"Term 3\",\"curriculum_items\":[{\"curriculum_requisites\":[{\"source_id\":13,\"target_id\":15,\"type\":\"CurriculumPrerequisite\"}],\"name\":\"MA  221\",\"metrics\":{\"centrality\":0,\"complexity\":3.0,\"blocking factor\":0,\"delay factor\":3.0},\"nameSub\":\"Differential Equations \",\"id\":15,\"credits\":4,\"nameCanonical\":\"\"},{\"curriculum_requisites\":[{\"source_id\":10,\"target_id\":16,\"type\":\"CurriculumPrerequisite\"},{\"source_id\":8,\"target_id\":16,\"type\":\"CurriculumPrerequisite\"}],\"name\":\"PEP 112\",\"metrics\":{\"centrality\":11,\"complexity\":9.0,\"blocking factor\":3,\"delay factor\":6.0},\"nameSub\":\"Electricity and Magnetism \",\"id\":16,\"credits\":3,\"nameCanonical\":\"\"},{\"curriculum_requisites\":[{\"source_id\":10,\"target_id\":17,\"type\":\"CurriculumPrerequisite\"},{\"source_id\":8,\"target_id\":17,\"type\":\"CurriculumPrerequisite\"}],\"name\":\"E 126\",\"metrics\":{\"centrality\":20,\"complexity\":9.0,\"blocking factor\":3,\"delay factor\":6.0},\"nameSub\":\"Mechanics of Solids \",\"id\":17,\"credits\":4,\"nameCanonical\":\"\"},{\"curriculum_requisites\":[{\"source_id\":17,\"target_id\":18,\"type\":\"CurriculumCorequisite\"},{\"source_id\":11,\"target_id\":18,\"type\":\"CurriculumPrerequisite\"}],\"name\":\"E 231\",\"metrics\":{\"centrality\":42,\"complexity\":8.0,\"blocking factor\":2,\"delay factor\":6.0},\"nameSub\":\"Engineering Design III: Structural Performance and Failure \",\"id\":18,\"credits\":2,\"nameCanonical\":\"\"},{\"curriculum_requisites\":[{\"source_id\":13,\"target_id\":19,\"type\":\"CurriculumCorequisite\"},{\"source_id\":16,\"target_id\":19,\"type\":\"CurriculumCorequisite\"}],\"name\":\"E 245\",\"metrics\":{\"centrality\":16,\"complexity\":8.0,\"blocking factor\":2,\"delay factor\":6.0},\"nameSub\":\"Circuits and Systems \",\"id\":19,\"credits\":3,\"nameCanonical\":\"\"},{\"curriculum_requisites\":[],\"name\":\"HUM xxx\",\"metrics\":{\"centrality\":0,\"complexity\":1.0,\"blocking factor\":0,\"delay factor\":1.0},\"nameSub\":\"Humanities\",\"id\":20,\"credits\":3,\"nameCanonical\":\"\"}],\"id\":3},{\"name\":\"Term 4\",\"curriculum_items\":[{\"curriculum_requisites\":[{\"source_id\":19,\"target_id\":21,\"type\":\"CurriculumPrerequisite\"},{\"source_id\":18,\"target_id\":21,\"type\":\"CurriculumPrerequisite\"}],\"name\":\"E 232\",\"metrics\":{\"centrality\":39,\"complexity\":7.0,\"blocking factor\":1,\"delay factor\":6.0},\"nameSub\":\"Engineering Design IV: Systems with Analog Circuits \",\"id\":21,\"credits\":3,\"nameCanonical\":\"\"},{\"curriculum_requisites\":[{\"source_id\":10,\"target_id\":22,\"type\":\"CurriculumPrerequisite\"},{\"source_id\":8,\"target_id\":22,\"type\":\"CurriculumPrerequisite\"},{\"source_id\":1,\"target_id\":22,\"type\":\"CurriculumPrerequisite\"}],\"name\":\"E 234\",\"metrics\":{\"centrality\":0,\"complexity\":3.0,\"blocking factor\":0,\"delay factor\":3.0},\"nameSub\":\"Thermodynamics\",\"id\":22,\"credits\":3,\"nameCanonical\":\"\"},{\"curriculum_requisites\":[],\"name\":\" \",\"metrics\":{\"centrality\":0,\"complexity\":1.0,\"blocking factor\":0,\"delay factor\":1.0},\"nameSub\":\"Science Elective II\",\"id\":23,\"credits\":3,\"nameCanonical\":\"\"},{\"curriculum_requisites\":[],\"name\":\"MA  134\",\"metrics\":{\"centrality\":0,\"complexity\":7.0,\"blocking factor\":3,\"delay factor\":4.0},\"nameSub\":\"Discrete Math \",\"id\":24,\"credits\":3,\"nameCanonical\":\"\"},{\"curriculum_requisites\":[{\"source_id\":6,\"target_id\":25,\"type\":\"CurriculumPrerequisite\"}],\"name\":\"SSW 215\",\"metrics\":{\"centrality\":16,\"complexity\":8.0,\"blocking factor\":3,\"delay factor\":5.0},\"nameSub\":\"Individual Software Engineering\",\"id\":25,\"credits\":3,\"nameCanonical\":\"\"},{\"curriculum_requisites\":[],\"name\":\"HUM xxx\",\"metrics\":{\"centrality\":0,\"complexity\":1.0,\"blocking factor\":0,\"delay factor\":1.0},\"nameSub\":\"Humanities\",\"id\":26,\"credits\":3,\"nameCanonical\":\"\"}],\"id\":4},{\"name\":\"Term 5\",\"curriculum_items\":[{\"curriculum_requisites\":[{\"source_id\":30,\"target_id\":27,\"type\":\"CurriculumCorequisite\"}],\"name\":\"ISE 350\",\"metrics\":{\"centrality\":0,\"complexity\":4.0,\"blocking factor\":0,\"delay factor\":4.0},\"nameSub\":\"Logistics and Supply Chain Management\",\"id\":27,\"credits\":3,\"nameCanonical\":\"\"},{\"curriculum_requisites\":[{\"source_id\":29,\"target_id\":28,\"type\":\"CurriculumCorequisite\"}],\"name\":\"E 321\",\"metrics\":{\"centrality\":0,\"complexity\":4.0,\"blocking factor\":0,\"delay factor\":4.0},\"nameSub\":\"Engineering Design V: Materials Selection and Process Optimization \",\"id\":28,\"credits\":2,\"nameCanonical\":\"\"},{\"curriculum_requisites\":[{\"source_id\":1,\"target_id\":29,\"type\":\"CurriculumPrerequisite\"}],\"name\":\"E 344\",\"metrics\":{\"centrality\":4,\"complexity\":5.0,\"blocking factor\":1,\"delay factor\":4.0},\"nameSub\":\"Materials Processing\",\"id\":29,\"credits\":3,\"nameCanonical\":\"\"},{\"curriculum_requisites\":[{\"source_id\":13,\"target_id\":30,\"type\":\"CurriculumPrerequisite\"}],\"name\":\"E 243\",\"metrics\":{\"centrality\":4,\"complexity\":5.0,\"blocking factor\":1,\"delay factor\":4.0},\"nameSub\":\"Probability & Statistics For Engineers\",\"id\":30,\"credits\":3,\"nameCanonical\":\"Probability & Statistics\"},{\"curriculum_requisites\":[{\"source_id\":25,\"target_id\":31,\"type\":\"CurriculumPrerequisite\"}],\"name\":\"SSW 315\",\"metrics\":{\"centrality\":9,\"complexity\":7.0,\"blocking factor\":2,\"delay factor\":5.0},\"nameSub\":\"Object Based Software Development5 \",\"id\":31,\"credits\":3,\"nameCanonical\":\"\"},{\"curriculum_requisites\":[],\"name\":\"HUM xxx\",\"metrics\":{\"centrality\":0,\"complexity\":1.0,\"blocking factor\":0,\"delay factor\":1.0},\"nameSub\":\"Humanities\",\"id\":32,\"credits\":3,\"nameCanonical\":\"\"}],\"id\":5},{\"name\":\"Term 6\",\"curriculum_items\":[{\"curriculum_requisites\":[{\"source_id\":11,\"target_id\":33,\"type\":\"CurriculumPrerequisite\"},{\"source_id\":5,\"target_id\":33,\"type\":\"CurriculumPrerequisite\"},{\"source_id\":21,\"target_id\":33,\"type\":\"CurriculumPrerequisite\"},{\"source_id\":18,\"target_id\":33,\"type\":\"CurriculumPrerequisite\"}],\"name\":\"E 355\",\"metrics\":{\"centrality\":0,\"complexity\":6.0,\"blocking factor\":0,\"delay factor\":6.0},\"nameSub\":\"Engineering Economics\",\"id\":33,\"credits\":4,\"nameCanonical\":\"\"},{\"curriculum_requisites\":[{\"source_id\":24,\"target_id\":34,\"type\":\"CurriculumPrerequisite\"}],\"name\":\"SSW 345\",\"metrics\":{\"centrality\":7,\"complexity\":6.0,\"blocking factor\":2,\"delay factor\":4.0},\"nameSub\":\"Model-Based Software Engineering\",\"id\":34,\"credits\":3,\"nameCanonical\":\"\"},{\"curriculum_requisites\":[],\"name\":\"SSW 322\",\"metrics\":{\"centrality\":0,\"complexity\":5.0,\"blocking factor\":2,\"delay factor\":3.0},\"nameSub\":\"Software Design Evolution\",\"id\":35,\"credits\":3,\"nameCanonical\":\"\"},{\"curriculum_requisites\":[],\"name\":\"SSW 564\",\"metrics\":{\"centrality\":0,\"complexity\":1.0,\"blocking factor\":0,\"delay factor\":1.0},\"nameSub\":\"Software Requirements Engineering\",\"id\":36,\"credits\":3,\"nameCanonical\":\"\"},{\"curriculum_requisites\":[],\"name\":\" \",\"metrics\":{\"centrality\":0,\"complexity\":1.0,\"blocking factor\":0,\"delay factor\":1.0},\"nameSub\":\"General Elective \",\"id\":37,\"credits\":3,\"nameCanonical\":\"\"},{\"curriculum_requisites\":[],\"name\":\" \",\"metrics\":{\"centrality\":0,\"complexity\":1.0,\"blocking factor\":0,\"delay factor\":1.0},\"nameSub\":\"Domain Elective \",\"id\":38,\"credits\":3,\"nameCanonical\":\"\"},{\"curriculum_requisites\":[{\"source_id\":14,\"target_id\":39,\"type\":\"CurriculumPrerequisite\"}],\"name\":\"IDE 400\",\"metrics\":{\"centrality\":4,\"complexity\":6.0,\"blocking factor\":2,\"delay factor\":4.0},\"nameSub\":\"Senior Innovation I\",\"id\":39,\"credits\":1,\"nameCanonical\":\"\"}],\"id\":6},{\"name\":\"Term 7\",\"curriculum_items\":[{\"curriculum_requisites\":[],\"name\":\" \",\"metrics\":{\"centrality\":0,\"complexity\":1.0,\"blocking factor\":0,\"delay factor\":1.0},\"nameSub\":\"General Elective \",\"id\":40,\"credits\":3,\"nameCanonical\":\"\"},{\"curriculum_requisites\":[],\"name\":\"SSW 555\",\"metrics\":{\"centrality\":0,\"complexity\":1.0,\"blocking factor\":0,\"delay factor\":1.0},\"nameSub\":\"Agile Methods for Software Development\",\"id\":41,\"credits\":3,\"nameCanonical\":\"\"},{\"curriculum_requisites\":[],\"name\":\"SSW 533\",\"metrics\":{\"centrality\":0,\"complexity\":1.0,\"blocking factor\":0,\"delay factor\":1.0},\"nameSub\":\"Software Estimation and Metrics\",\"id\":42,\"credits\":3,\"nameCanonical\":\"\"},{\"curriculum_requisites\":[],\"name\":\" \",\"metrics\":{\"centrality\":0,\"complexity\":1.0,\"blocking factor\":0,\"delay factor\":1.0},\"nameSub\":\"Domain Elective \",\"id\":43,\"credits\":3,\"nameCanonical\":\"\"},{\"curriculum_requisites\":[{\"source_id\":25,\"target_id\":44,\"type\":\"CurriculumPrerequisite\"},{\"source_id\":31,\"target_id\":44,\"type\":\"CurriculumPrerequisite\"},{\"source_id\":34,\"target_id\":44,\"type\":\"CurriculumPrerequisite\"},{\"source_id\":35,\"target_id\":44,\"type\":\"CurriculumPrerequisite\"}],\"name\":\"SSW 423\",\"metrics\":{\"centrality\":16,\"complexity\":6.0,\"blocking factor\":1,\"delay factor\":5.0},\"nameSub\":\"Engineering Design VII\",\"id\":44,\"credits\":3,\"nameCanonical\":\"\"},{\"curriculum_requisites\":[{\"source_id\":39,\"target_id\":45,\"type\":\"CurriculumPrerequisite\"}],\"name\":\"IDE 401\",\"metrics\":{\"centrality\":4,\"complexity\":5.0,\"blocking factor\":1,\"delay factor\":4.0},\"nameSub\":\"Senior Innovation II \",\"id\":45,\"credits\":1,\"nameCanonical\":\"\"}],\"id\":7},{\"name\":\"Term 8\",\"curriculum_items\":[{\"curriculum_requisites\":[],\"name\":\"SSW 567\",\"metrics\":{\"centrality\":0,\"complexity\":1.0,\"blocking factor\":0,\"delay factor\":1.0},\"nameSub\":\"Software Testing and Quality Assurance\",\"id\":46,\"credits\":3,\"nameCanonical\":\"\"},{\"curriculum_requisites\":[],\"name\":\"SYS 581\",\"metrics\":{\"centrality\":0,\"complexity\":1.0,\"blocking factor\":0,\"delay factor\":1.0},\"nameSub\":\"Introduction to Systems Engineering\",\"id\":47,\"credits\":3,\"nameCanonical\":\"\"},{\"curriculum_requisites\":[],\"name\":\" \",\"metrics\":{\"centrality\":0,\"complexity\":1.0,\"blocking factor\":0,\"delay factor\":1.0},\"nameSub\":\"Introduction to Systems Engineering\",\"id\":48,\"credits\":3,\"nameCanonical\":\"\"},{\"curriculum_requisites\":[{\"source_id\":25,\"target_id\":49,\"type\":\"CurriculumPrerequisite\"},{\"source_id\":31,\"target_id\":49,\"type\":\"CurriculumPrerequisite\"},{\"source_id\":34,\"target_id\":49,\"type\":\"CurriculumPrerequisite\"},{\"source_id\":35,\"target_id\":49,\"type\":\"CurriculumPrerequisite\"},{\"source_id\":44,\"target_id\":49,\"type\":\"CurriculumPrerequisite\"}],\"name\":\"SSW 424\",\"metrics\":{\"centrality\":0,\"complexity\":5.0,\"blocking factor\":0,\"delay factor\":5.0},\"nameSub\":\"Engineering Design VIII\",\"id\":49,\"credits\":3,\"nameCanonical\":\"\"},{\"curriculum_requisites\":[],\"name\":\"HUM xxx\",\"metrics\":{\"centrality\":0,\"complexity\":1.0,\"blocking factor\":0,\"delay factor\":1.0},\"nameSub\":\"Humanities\",\"id\":50,\"credits\":3,\"nameCanonical\":\"\"},{\"curriculum_requisites\":[{\"source_id\":45,\"target_id\":51,\"type\":\"CurriculumPrerequisite\"}],\"name\":\"IDE 402\",\"metrics\":{\"centrality\":0,\"complexity\":4.0,\"blocking factor\":0,\"delay factor\":4.0},\"nameSub\":\"Senior Innovation III \",\"id\":51,\"credits\":1,\"nameCanonical\":\"\"}],\"id\":8}],\"institution\":\"Stevens Institute of Technology\"}},\"*\"); window.removeEventListener(\"message\",window.messageReceived); window.messageReceived=(function (event){return (event.data.curriculum!==undefined) ? (WebIO.setval({\"name\":\"curriculum-data\",\"scope\":\"12006268964555825939\",\"id\":\"5250591599569994742\",\"type\":\"observable\"},event.data.curriculum)) : undefined}); return window.addEventListener(\"message\",window.messageReceived)})"
          },
          "id": "curriculum",
          "src": "http://localhost:8156",
          "style": {
           "border": "none",
           "height": "100vh",
           "margin": "0",
           "padding": "0",
           "width": "100%"
          }
         },
         "type": "node"
        }
       ],
       "instanceArgs": {
        "handlers": {},
        "id": "12006268964555825939",
        "imports": {
         "data": [],
         "type": "async_block"
        },
        "mount_callbacks": [],
        "observables": {
         "curriculum-data": {
          "id": "5250591599569994742",
          "sync": true,
          "value": {
           "curriculum": {
            "curriculum_terms": [
             {
              "curriculum_items": [
               {
                "credits": 3,
                "curriculum_requisites": [
                 {
                  "source_id": 2,
                  "target_id": 1,
                  "type": "CurriculumStrictCorequisite"
                 }
                ],
                "id": 1,
                "metrics": {
                 "blocking factor": 3,
                 "centrality": 7,
                 "complexity": 7,
                 "delay factor": 4
                },
                "name": "CH 115",
                "nameCanonical": "Chemistry I",
                "nameSub": "General Chemistry I "
               },
               {
                "credits": 1,
                "curriculum_requisites": [],
                "id": 2,
                "metrics": {
                 "blocking factor": 4,
                 "centrality": 0,
                 "complexity": 8,
                 "delay factor": 4
                },
                "name": "CH 117",
                "nameCanonical": "Chemistry I Lab",
                "nameSub": "General Chemistry Laboratory I "
               },
               {
                "credits": 1,
                "curriculum_requisites": [],
                "id": 3,
                "metrics": {
                 "blocking factor": 0,
                 "centrality": 0,
                 "complexity": 1,
                 "delay factor": 1
                },
                "name": "E 101",
                "nameCanonical": "",
                "nameSub": "Engineering Experience I "
               },
               {
                "credits": 1,
                "curriculum_requisites": [],
                "id": 4,
                "metrics": {
                 "blocking factor": 5,
                 "centrality": 0,
                 "complexity": 11,
                 "delay factor": 6
                },
                "name": "E 120",
                "nameCanonical": "",
                "nameSub": "Engineering Graphics "
               },
               {
                "credits": 2,
                "curriculum_requisites": [
                 {
                  "source_id": 4,
                  "target_id": 5,
                  "type": "CurriculumCorequisite"
                 },
                 {
                  "source_id": 6,
                  "target_id": 5,
                  "type": "CurriculumCorequisite"
                 }
                ],
                "id": 5,
                "metrics": {
                 "blocking factor": 4,
                 "centrality": 36,
                 "complexity": 10,
                 "delay factor": 6
                },
                "name": "E 121",
                "nameCanonical": "",
                "nameSub": "Engineering Design I: Introduction to Systems Thinking "
               },
               {
                "credits": 2,
                "curriculum_requisites": [],
                "id": 6,
                "metrics": {
                 "blocking factor": 9,
                 "centrality": 0,
                 "complexity": 15,
                 "delay factor": 6
                },
                "name": "E 115",
                "nameCanonical": "Programming I",
                "nameSub": "Introduction to Programming "
               },
               {
                "credits": 3,
                "curriculum_requisites": [],
                "id": 7,
                "metrics": {
                 "blocking factor": 0,
                 "centrality": 0,
                 "complexity": 1,
                 "delay factor": 1
                },
                "name": "CAL 103",
                "nameCanonical": "",
                "nameSub": "Writing And Communications Colloquium "
               },
               {
                "credits": 4,
                "curriculum_requisites": [],
                "id": 8,
                "metrics": {
                 "blocking factor": 12,
                 "centrality": 0,
                 "complexity": 18,
                 "delay factor": 6
                },
                "name": "MA  121;122",
                "nameCanonical": "",
                "nameSub": "Differential Calculus; Integral Calculus "
               }
              ],
              "id": 1,
              "name": "Term 1"
             },
             {
              "curriculum_items": [
               {
                "credits": 3,
                "curriculum_requisites": [],
                "id": 9,
                "metrics": {
                 "blocking factor": 0,
                 "centrality": 0,
                 "complexity": 1,
                 "delay factor": 1
                },
                "name": " ",
                "nameCanonical": "",
                "nameSub": "Science Elective"
               },
               {
                "credits": 3,
                "curriculum_requisites": [
                 {
                  "source_id": 8,
                  "target_id": 10,
                  "type": "CurriculumCorequisite"
                 }
                ],
                "id": 10,
                "metrics": {
                 "blocking factor": 7,
                 "centrality": 20,
                 "complexity": 13,
                 "delay factor": 6
                },
                "name": "PEP 111",
                "nameCanonical": "",
                "nameSub": "Mechanics"
               },
               {
                "credits": 2,
                "curriculum_requisites": [
                 {
                  "source_id": 5,
                  "target_id": 11,
                  "type": "CurriculumPrerequisite"
                 }
                ],
                "id": 11,
                "metrics": {
                 "blocking factor": 3,
                 "centrality": 30,
                 "complexity": 9,
                 "delay factor": 6
                },
                "name": "E 122",
                "nameCanonical": "",
                "nameSub": "Engineering Design II: Field Sustainable Systems with Sensors "
               },
               {
                "credits": 3,
                "curriculum_requisites": [],
                "id": 12,
                "metrics": {
                 "blocking factor": 0,
                 "centrality": 0,
                 "complexity": 1,
                 "delay factor": 1
                },
                "name": "CAL 105",
                "nameCanonical": "",
                "nameSub": "CAL Colloquium: Knowledge, Nature, Culture"
               },
               {
                "credits": 4,
                "curriculum_requisites": [
                 {
                  "source_id": 8,
                  "target_id": 13,
                  "type": "CurriculumPrerequisite"
                 }
                ],
                "id": 13,
                "metrics": {
                 "blocking factor": 6,
                 "centrality": 12,
                 "complexity": 11,
                 "delay factor": 5
                },
                "name": "MA  123;124",
                "nameCanonical": "",
                "nameSub": "Series, Vectors, Functions, and Surfaces; Calculus of Two Variables"
               },
               {
                "credits": 2,
                "curriculum_requisites": [],
                "id": 14,
                "metrics": {
                 "blocking factor": 3,
                 "centrality": 0,
                 "complexity": 7,
                 "delay factor": 4
                },
                "name": "MGT 103",
                "nameCanonical": "",
                "nameSub": "Introduction to Entrepreneurial Thinking "
               }
              ],
              "id": 2,
              "name": "Term 2"
             },
             {
              "curriculum_items": [
               {
                "credits": 4,
                "curriculum_requisites": [
                 {
                  "source_id": 13,
                  "target_id": 15,
                  "type": "CurriculumPrerequisite"
                 }
                ],
                "id": 15,
                "metrics": {
                 "blocking factor": 0,
                 "centrality": 0,
                 "complexity": 3,
                 "delay factor": 3
                },
                "name": "MA  221",
                "nameCanonical": "",
                "nameSub": "Differential Equations "
               },
               {
                "credits": 3,
                "curriculum_requisites": [
                 {
                  "source_id": 10,
                  "target_id": 16,
                  "type": "CurriculumPrerequisite"
                 },
                 {
                  "source_id": 8,
                  "target_id": 16,
                  "type": "CurriculumPrerequisite"
                 }
                ],
                "id": 16,
                "metrics": {
                 "blocking factor": 3,
                 "centrality": 11,
                 "complexity": 9,
                 "delay factor": 6
                },
                "name": "PEP 112",
                "nameCanonical": "",
                "nameSub": "Electricity and Magnetism "
               },
               {
                "credits": 4,
                "curriculum_requisites": [
                 {
                  "source_id": 10,
                  "target_id": 17,
                  "type": "CurriculumPrerequisite"
                 },
                 {
                  "source_id": 8,
                  "target_id": 17,
                  "type": "CurriculumPrerequisite"
                 }
                ],
                "id": 17,
                "metrics": {
                 "blocking factor": 3,
                 "centrality": 20,
                 "complexity": 9,
                 "delay factor": 6
                },
                "name": "E 126",
                "nameCanonical": "",
                "nameSub": "Mechanics of Solids "
               },
               {
                "credits": 2,
                "curriculum_requisites": [
                 {
                  "source_id": 17,
                  "target_id": 18,
                  "type": "CurriculumCorequisite"
                 },
                 {
                  "source_id": 11,
                  "target_id": 18,
                  "type": "CurriculumPrerequisite"
                 }
                ],
                "id": 18,
                "metrics": {
                 "blocking factor": 2,
                 "centrality": 42,
                 "complexity": 8,
                 "delay factor": 6
                },
                "name": "E 231",
                "nameCanonical": "",
                "nameSub": "Engineering Design III: Structural Performance and Failure "
               },
               {
                "credits": 3,
                "curriculum_requisites": [
                 {
                  "source_id": 13,
                  "target_id": 19,
                  "type": "CurriculumCorequisite"
                 },
                 {
                  "source_id": 16,
                  "target_id": 19,
                  "type": "CurriculumCorequisite"
                 }
                ],
                "id": 19,
                "metrics": {
                 "blocking factor": 2,
                 "centrality": 16,
                 "complexity": 8,
                 "delay factor": 6
                },
                "name": "E 245",
                "nameCanonical": "",
                "nameSub": "Circuits and Systems "
               },
               {
                "credits": 3,
                "curriculum_requisites": [],
                "id": 20,
                "metrics": {
                 "blocking factor": 0,
                 "centrality": 0,
                 "complexity": 1,
                 "delay factor": 1
                },
                "name": "HUM xxx",
                "nameCanonical": "",
                "nameSub": "Humanities"
               }
              ],
              "id": 3,
              "name": "Term 3"
             },
             {
              "curriculum_items": [
               {
                "credits": 3,
                "curriculum_requisites": [
                 {
                  "source_id": 19,
                  "target_id": 21,
                  "type": "CurriculumPrerequisite"
                 },
                 {
                  "source_id": 18,
                  "target_id": 21,
                  "type": "CurriculumPrerequisite"
                 }
                ],
                "id": 21,
                "metrics": {
                 "blocking factor": 1,
                 "centrality": 39,
                 "complexity": 7,
                 "delay factor": 6
                },
                "name": "E 232",
                "nameCanonical": "",
                "nameSub": "Engineering Design IV: Systems with Analog Circuits "
               },
               {
                "credits": 3,
                "curriculum_requisites": [
                 {
                  "source_id": 10,
                  "target_id": 22,
                  "type": "CurriculumPrerequisite"
                 },
                 {
                  "source_id": 8,
                  "target_id": 22,
                  "type": "CurriculumPrerequisite"
                 },
                 {
                  "source_id": 1,
                  "target_id": 22,
                  "type": "CurriculumPrerequisite"
                 }
                ],
                "id": 22,
                "metrics": {
                 "blocking factor": 0,
                 "centrality": 0,
                 "complexity": 3,
                 "delay factor": 3
                },
                "name": "E 234",
                "nameCanonical": "",
                "nameSub": "Thermodynamics"
               },
               {
                "credits": 3,
                "curriculum_requisites": [],
                "id": 23,
                "metrics": {
                 "blocking factor": 0,
                 "centrality": 0,
                 "complexity": 1,
                 "delay factor": 1
                },
                "name": " ",
                "nameCanonical": "",
                "nameSub": "Science Elective II"
               },
               {
                "credits": 3,
                "curriculum_requisites": [],
                "id": 24,
                "metrics": {
                 "blocking factor": 3,
                 "centrality": 0,
                 "complexity": 7,
                 "delay factor": 4
                },
                "name": "MA  134",
                "nameCanonical": "",
                "nameSub": "Discrete Math "
               },
               {
                "credits": 3,
                "curriculum_requisites": [
                 {
                  "source_id": 6,
                  "target_id": 25,
                  "type": "CurriculumPrerequisite"
                 }
                ],
                "id": 25,
                "metrics": {
                 "blocking factor": 3,
                 "centrality": 16,
                 "complexity": 8,
                 "delay factor": 5
                },
                "name": "SSW 215",
                "nameCanonical": "",
                "nameSub": "Individual Software Engineering"
               },
               {
                "credits": 3,
                "curriculum_requisites": [],
                "id": 26,
                "metrics": {
                 "blocking factor": 0,
                 "centrality": 0,
                 "complexity": 1,
                 "delay factor": 1
                },
                "name": "HUM xxx",
                "nameCanonical": "",
                "nameSub": "Humanities"
               }
              ],
              "id": 4,
              "name": "Term 4"
             },
             {
              "curriculum_items": [
               {
                "credits": 3,
                "curriculum_requisites": [
                 {
                  "source_id": 30,
                  "target_id": 27,
                  "type": "CurriculumCorequisite"
                 }
                ],
                "id": 27,
                "metrics": {
                 "blocking factor": 0,
                 "centrality": 0,
                 "complexity": 4,
                 "delay factor": 4
                },
                "name": "ISE 350",
                "nameCanonical": "",
                "nameSub": "Logistics and Supply Chain Management"
               },
               {
                "credits": 2,
                "curriculum_requisites": [
                 {
                  "source_id": 29,
                  "target_id": 28,
                  "type": "CurriculumCorequisite"
                 }
                ],
                "id": 28,
                "metrics": {
                 "blocking factor": 0,
                 "centrality": 0,
                 "complexity": 4,
                 "delay factor": 4
                },
                "name": "E 321",
                "nameCanonical": "",
                "nameSub": "Engineering Design V: Materials Selection and Process Optimization "
               },
               {
                "credits": 3,
                "curriculum_requisites": [
                 {
                  "source_id": 1,
                  "target_id": 29,
                  "type": "CurriculumPrerequisite"
                 }
                ],
                "id": 29,
                "metrics": {
                 "blocking factor": 1,
                 "centrality": 4,
                 "complexity": 5,
                 "delay factor": 4
                },
                "name": "E 344",
                "nameCanonical": "",
                "nameSub": "Materials Processing"
               },
               {
                "credits": 3,
                "curriculum_requisites": [
                 {
                  "source_id": 13,
                  "target_id": 30,
                  "type": "CurriculumPrerequisite"
                 }
                ],
                "id": 30,
                "metrics": {
                 "blocking factor": 1,
                 "centrality": 4,
                 "complexity": 5,
                 "delay factor": 4
                },
                "name": "E 243",
                "nameCanonical": "Probability & Statistics",
                "nameSub": "Probability & Statistics For Engineers"
               },
               {
                "credits": 3,
                "curriculum_requisites": [
                 {
                  "source_id": 25,
                  "target_id": 31,
                  "type": "CurriculumPrerequisite"
                 }
                ],
                "id": 31,
                "metrics": {
                 "blocking factor": 2,
                 "centrality": 9,
                 "complexity": 7,
                 "delay factor": 5
                },
                "name": "SSW 315",
                "nameCanonical": "",
                "nameSub": "Object Based Software Development5 "
               },
               {
                "credits": 3,
                "curriculum_requisites": [],
                "id": 32,
                "metrics": {
                 "blocking factor": 0,
                 "centrality": 0,
                 "complexity": 1,
                 "delay factor": 1
                },
                "name": "HUM xxx",
                "nameCanonical": "",
                "nameSub": "Humanities"
               }
              ],
              "id": 5,
              "name": "Term 5"
             },
             {
              "curriculum_items": [
               {
                "credits": 4,
                "curriculum_requisites": [
                 {
                  "source_id": 11,
                  "target_id": 33,
                  "type": "CurriculumPrerequisite"
                 },
                 {
                  "source_id": 5,
                  "target_id": 33,
                  "type": "CurriculumPrerequisite"
                 },
                 {
                  "source_id": 21,
                  "target_id": 33,
                  "type": "CurriculumPrerequisite"
                 },
                 {
                  "source_id": 18,
                  "target_id": 33,
                  "type": "CurriculumPrerequisite"
                 }
                ],
                "id": 33,
                "metrics": {
                 "blocking factor": 0,
                 "centrality": 0,
                 "complexity": 6,
                 "delay factor": 6
                },
                "name": "E 355",
                "nameCanonical": "",
                "nameSub": "Engineering Economics"
               },
               {
                "credits": 3,
                "curriculum_requisites": [
                 {
                  "source_id": 24,
                  "target_id": 34,
                  "type": "CurriculumPrerequisite"
                 }
                ],
                "id": 34,
                "metrics": {
                 "blocking factor": 2,
                 "centrality": 7,
                 "complexity": 6,
                 "delay factor": 4
                },
                "name": "SSW 345",
                "nameCanonical": "",
                "nameSub": "Model-Based Software Engineering"
               },
               {
                "credits": 3,
                "curriculum_requisites": [],
                "id": 35,
                "metrics": {
                 "blocking factor": 2,
                 "centrality": 0,
                 "complexity": 5,
                 "delay factor": 3
                },
                "name": "SSW 322",
                "nameCanonical": "",
                "nameSub": "Software Design Evolution"
               },
               {
                "credits": 3,
                "curriculum_requisites": [],
                "id": 36,
                "metrics": {
                 "blocking factor": 0,
                 "centrality": 0,
                 "complexity": 1,
                 "delay factor": 1
                },
                "name": "SSW 564",
                "nameCanonical": "",
                "nameSub": "Software Requirements Engineering"
               },
               {
                "credits": 3,
                "curriculum_requisites": [],
                "id": 37,
                "metrics": {
                 "blocking factor": 0,
                 "centrality": 0,
                 "complexity": 1,
                 "delay factor": 1
                },
                "name": " ",
                "nameCanonical": "",
                "nameSub": "General Elective "
               },
               {
                "credits": 3,
                "curriculum_requisites": [],
                "id": 38,
                "metrics": {
                 "blocking factor": 0,
                 "centrality": 0,
                 "complexity": 1,
                 "delay factor": 1
                },
                "name": " ",
                "nameCanonical": "",
                "nameSub": "Domain Elective "
               },
               {
                "credits": 1,
                "curriculum_requisites": [
                 {
                  "source_id": 14,
                  "target_id": 39,
                  "type": "CurriculumPrerequisite"
                 }
                ],
                "id": 39,
                "metrics": {
                 "blocking factor": 2,
                 "centrality": 4,
                 "complexity": 6,
                 "delay factor": 4
                },
                "name": "IDE 400",
                "nameCanonical": "",
                "nameSub": "Senior Innovation I"
               }
              ],
              "id": 6,
              "name": "Term 6"
             },
             {
              "curriculum_items": [
               {
                "credits": 3,
                "curriculum_requisites": [],
                "id": 40,
                "metrics": {
                 "blocking factor": 0,
                 "centrality": 0,
                 "complexity": 1,
                 "delay factor": 1
                },
                "name": " ",
                "nameCanonical": "",
                "nameSub": "General Elective "
               },
               {
                "credits": 3,
                "curriculum_requisites": [],
                "id": 41,
                "metrics": {
                 "blocking factor": 0,
                 "centrality": 0,
                 "complexity": 1,
                 "delay factor": 1
                },
                "name": "SSW 555",
                "nameCanonical": "",
                "nameSub": "Agile Methods for Software Development"
               },
               {
                "credits": 3,
                "curriculum_requisites": [],
                "id": 42,
                "metrics": {
                 "blocking factor": 0,
                 "centrality": 0,
                 "complexity": 1,
                 "delay factor": 1
                },
                "name": "SSW 533",
                "nameCanonical": "",
                "nameSub": "Software Estimation and Metrics"
               },
               {
                "credits": 3,
                "curriculum_requisites": [],
                "id": 43,
                "metrics": {
                 "blocking factor": 0,
                 "centrality": 0,
                 "complexity": 1,
                 "delay factor": 1
                },
                "name": " ",
                "nameCanonical": "",
                "nameSub": "Domain Elective "
               },
               {
                "credits": 3,
                "curriculum_requisites": [
                 {
                  "source_id": 25,
                  "target_id": 44,
                  "type": "CurriculumPrerequisite"
                 },
                 {
                  "source_id": 31,
                  "target_id": 44,
                  "type": "CurriculumPrerequisite"
                 },
                 {
                  "source_id": 34,
                  "target_id": 44,
                  "type": "CurriculumPrerequisite"
                 },
                 {
                  "source_id": 35,
                  "target_id": 44,
                  "type": "CurriculumPrerequisite"
                 }
                ],
                "id": 44,
                "metrics": {
                 "blocking factor": 1,
                 "centrality": 16,
                 "complexity": 6,
                 "delay factor": 5
                },
                "name": "SSW 423",
                "nameCanonical": "",
                "nameSub": "Engineering Design VII"
               },
               {
                "credits": 1,
                "curriculum_requisites": [
                 {
                  "source_id": 39,
                  "target_id": 45,
                  "type": "CurriculumPrerequisite"
                 }
                ],
                "id": 45,
                "metrics": {
                 "blocking factor": 1,
                 "centrality": 4,
                 "complexity": 5,
                 "delay factor": 4
                },
                "name": "IDE 401",
                "nameCanonical": "",
                "nameSub": "Senior Innovation II "
               }
              ],
              "id": 7,
              "name": "Term 7"
             },
             {
              "curriculum_items": [
               {
                "credits": 3,
                "curriculum_requisites": [],
                "id": 46,
                "metrics": {
                 "blocking factor": 0,
                 "centrality": 0,
                 "complexity": 1,
                 "delay factor": 1
                },
                "name": "SSW 567",
                "nameCanonical": "",
                "nameSub": "Software Testing and Quality Assurance"
               },
               {
                "credits": 3,
                "curriculum_requisites": [],
                "id": 47,
                "metrics": {
                 "blocking factor": 0,
                 "centrality": 0,
                 "complexity": 1,
                 "delay factor": 1
                },
                "name": "SYS 581",
                "nameCanonical": "",
                "nameSub": "Introduction to Systems Engineering"
               },
               {
                "credits": 3,
                "curriculum_requisites": [],
                "id": 48,
                "metrics": {
                 "blocking factor": 0,
                 "centrality": 0,
                 "complexity": 1,
                 "delay factor": 1
                },
                "name": " ",
                "nameCanonical": "",
                "nameSub": "Introduction to Systems Engineering"
               },
               {
                "credits": 3,
                "curriculum_requisites": [
                 {
                  "source_id": 25,
                  "target_id": 49,
                  "type": "CurriculumPrerequisite"
                 },
                 {
                  "source_id": 31,
                  "target_id": 49,
                  "type": "CurriculumPrerequisite"
                 },
                 {
                  "source_id": 34,
                  "target_id": 49,
                  "type": "CurriculumPrerequisite"
                 },
                 {
                  "source_id": 35,
                  "target_id": 49,
                  "type": "CurriculumPrerequisite"
                 },
                 {
                  "source_id": 44,
                  "target_id": 49,
                  "type": "CurriculumPrerequisite"
                 }
                ],
                "id": 49,
                "metrics": {
                 "blocking factor": 0,
                 "centrality": 0,
                 "complexity": 5,
                 "delay factor": 5
                },
                "name": "SSW 424",
                "nameCanonical": "",
                "nameSub": "Engineering Design VIII"
               },
               {
                "credits": 3,
                "curriculum_requisites": [],
                "id": 50,
                "metrics": {
                 "blocking factor": 0,
                 "centrality": 0,
                 "complexity": 1,
                 "delay factor": 1
                },
                "name": "HUM xxx",
                "nameCanonical": "",
                "nameSub": "Humanities"
               },
               {
                "credits": 1,
                "curriculum_requisites": [
                 {
                  "source_id": 45,
                  "target_id": 51,
                  "type": "CurriculumPrerequisite"
                 }
                ],
                "id": 51,
                "metrics": {
                 "blocking factor": 0,
                 "centrality": 0,
                 "complexity": 4,
                 "delay factor": 4
                },
                "name": "IDE 402",
                "nameCanonical": "",
                "nameSub": "Senior Innovation III "
               }
              ],
              "id": 8,
              "name": "Term 8"
             }
            ],
            "dp_name": "2020-21 Degree Plan",
            "institution": "Stevens Institute of Technology",
            "name": "Software Engineering"
           },
           "options": {
            "edit": false,
            "hideTerms": false
           }
          }
         }
        },
        "systemjs_options": null
       },
       "nodeType": "Scope",
       "props": {},
       "type": "node"
      },
      "text/html": [
       "<div\n",
       "    class=\"webio-mountpoint\"\n",
       "    data-webio-mountpoint=\"6340926166392226998\"\n",
       ">\n",
       "    <script>\n",
       "    if (window.require && require.defined && require.defined(\"nbextensions/webio-jupyter-notebook\")) {\n",
       "        console.log(\"Jupyter WebIO extension detected, not mounting.\");\n",
       "    } else if (window.WebIO) {\n",
       "        WebIO.mount(\n",
       "            document.querySelector('[data-webio-mountpoint=\"6340926166392226998\"]'),\n",
       "            {\"props\":{},\"nodeType\":\"Scope\",\"type\":\"node\",\"instanceArgs\":{\"imports\":{\"data\":[],\"type\":\"async_block\"},\"id\":\"12006268964555825939\",\"handlers\":{},\"systemjs_options\":null,\"mount_callbacks\":[],\"observables\":{\"curriculum-data\":{\"sync\":true,\"id\":\"5250591599569994742\",\"value\":{\"options\":{\"hideTerms\":false,\"edit\":false},\"curriculum\":{\"name\":\"Software Engineering\",\"dp_name\":\"2020-21 Degree Plan\",\"curriculum_terms\":[{\"name\":\"Term 1\",\"curriculum_items\":[{\"curriculum_requisites\":[{\"source_id\":2,\"target_id\":1,\"type\":\"CurriculumStrictCorequisite\"}],\"name\":\"CH 115\",\"metrics\":{\"centrality\":7,\"complexity\":7.0,\"blocking factor\":3,\"delay factor\":4.0},\"nameSub\":\"General Chemistry I \",\"id\":1,\"credits\":3,\"nameCanonical\":\"Chemistry I\"},{\"curriculum_requisites\":[],\"name\":\"CH 117\",\"metrics\":{\"centrality\":0,\"complexity\":8.0,\"blocking factor\":4,\"delay factor\":4.0},\"nameSub\":\"General Chemistry Laboratory I \",\"id\":2,\"credits\":1,\"nameCanonical\":\"Chemistry I Lab\"},{\"curriculum_requisites\":[],\"name\":\"E 101\",\"metrics\":{\"centrality\":0,\"complexity\":1.0,\"blocking factor\":0,\"delay factor\":1.0},\"nameSub\":\"Engineering Experience I \",\"id\":3,\"credits\":1,\"nameCanonical\":\"\"},{\"curriculum_requisites\":[],\"name\":\"E 120\",\"metrics\":{\"centrality\":0,\"complexity\":11.0,\"blocking factor\":5,\"delay factor\":6.0},\"nameSub\":\"Engineering Graphics \",\"id\":4,\"credits\":1,\"nameCanonical\":\"\"},{\"curriculum_requisites\":[{\"source_id\":4,\"target_id\":5,\"type\":\"CurriculumCorequisite\"},{\"source_id\":6,\"target_id\":5,\"type\":\"CurriculumCorequisite\"}],\"name\":\"E 121\",\"metrics\":{\"centrality\":36,\"complexity\":10.0,\"blocking factor\":4,\"delay factor\":6.0},\"nameSub\":\"Engineering Design I: Introduction to Systems Thinking \",\"id\":5,\"credits\":2,\"nameCanonical\":\"\"},{\"curriculum_requisites\":[],\"name\":\"E 115\",\"metrics\":{\"centrality\":0,\"complexity\":15.0,\"blocking factor\":9,\"delay factor\":6.0},\"nameSub\":\"Introduction to Programming \",\"id\":6,\"credits\":2,\"nameCanonical\":\"Programming I\"},{\"curriculum_requisites\":[],\"name\":\"CAL 103\",\"metrics\":{\"centrality\":0,\"complexity\":1.0,\"blocking factor\":0,\"delay factor\":1.0},\"nameSub\":\"Writing And Communications Colloquium \",\"id\":7,\"credits\":3,\"nameCanonical\":\"\"},{\"curriculum_requisites\":[],\"name\":\"MA  121;122\",\"metrics\":{\"centrality\":0,\"complexity\":18.0,\"blocking factor\":12,\"delay factor\":6.0},\"nameSub\":\"Differential Calculus; Integral Calculus \",\"id\":8,\"credits\":4,\"nameCanonical\":\"\"}],\"id\":1},{\"name\":\"Term 2\",\"curriculum_items\":[{\"curriculum_requisites\":[],\"name\":\" \",\"metrics\":{\"centrality\":0,\"complexity\":1.0,\"blocking factor\":0,\"delay factor\":1.0},\"nameSub\":\"Science Elective\",\"id\":9,\"credits\":3,\"nameCanonical\":\"\"},{\"curriculum_requisites\":[{\"source_id\":8,\"target_id\":10,\"type\":\"CurriculumCorequisite\"}],\"name\":\"PEP 111\",\"metrics\":{\"centrality\":20,\"complexity\":13.0,\"blocking factor\":7,\"delay factor\":6.0},\"nameSub\":\"Mechanics\",\"id\":10,\"credits\":3,\"nameCanonical\":\"\"},{\"curriculum_requisites\":[{\"source_id\":5,\"target_id\":11,\"type\":\"CurriculumPrerequisite\"}],\"name\":\"E 122\",\"metrics\":{\"centrality\":30,\"complexity\":9.0,\"blocking factor\":3,\"delay factor\":6.0},\"nameSub\":\"Engineering Design II: Field Sustainable Systems with Sensors \",\"id\":11,\"credits\":2,\"nameCanonical\":\"\"},{\"curriculum_requisites\":[],\"name\":\"CAL 105\",\"metrics\":{\"centrality\":0,\"complexity\":1.0,\"blocking factor\":0,\"delay factor\":1.0},\"nameSub\":\"CAL Colloquium: Knowledge, Nature, Culture\",\"id\":12,\"credits\":3,\"nameCanonical\":\"\"},{\"curriculum_requisites\":[{\"source_id\":8,\"target_id\":13,\"type\":\"CurriculumPrerequisite\"}],\"name\":\"MA  123;124\",\"metrics\":{\"centrality\":12,\"complexity\":11.0,\"blocking factor\":6,\"delay factor\":5.0},\"nameSub\":\"Series, Vectors, Functions, and Surfaces; Calculus of Two Variables\",\"id\":13,\"credits\":4,\"nameCanonical\":\"\"},{\"curriculum_requisites\":[],\"name\":\"MGT 103\",\"metrics\":{\"centrality\":0,\"complexity\":7.0,\"blocking factor\":3,\"delay factor\":4.0},\"nameSub\":\"Introduction to Entrepreneurial Thinking \",\"id\":14,\"credits\":2,\"nameCanonical\":\"\"}],\"id\":2},{\"name\":\"Term 3\",\"curriculum_items\":[{\"curriculum_requisites\":[{\"source_id\":13,\"target_id\":15,\"type\":\"CurriculumPrerequisite\"}],\"name\":\"MA  221\",\"metrics\":{\"centrality\":0,\"complexity\":3.0,\"blocking factor\":0,\"delay factor\":3.0},\"nameSub\":\"Differential Equations \",\"id\":15,\"credits\":4,\"nameCanonical\":\"\"},{\"curriculum_requisites\":[{\"source_id\":10,\"target_id\":16,\"type\":\"CurriculumPrerequisite\"},{\"source_id\":8,\"target_id\":16,\"type\":\"CurriculumPrerequisite\"}],\"name\":\"PEP 112\",\"metrics\":{\"centrality\":11,\"complexity\":9.0,\"blocking factor\":3,\"delay factor\":6.0},\"nameSub\":\"Electricity and Magnetism \",\"id\":16,\"credits\":3,\"nameCanonical\":\"\"},{\"curriculum_requisites\":[{\"source_id\":10,\"target_id\":17,\"type\":\"CurriculumPrerequisite\"},{\"source_id\":8,\"target_id\":17,\"type\":\"CurriculumPrerequisite\"}],\"name\":\"E 126\",\"metrics\":{\"centrality\":20,\"complexity\":9.0,\"blocking factor\":3,\"delay factor\":6.0},\"nameSub\":\"Mechanics of Solids \",\"id\":17,\"credits\":4,\"nameCanonical\":\"\"},{\"curriculum_requisites\":[{\"source_id\":17,\"target_id\":18,\"type\":\"CurriculumCorequisite\"},{\"source_id\":11,\"target_id\":18,\"type\":\"CurriculumPrerequisite\"}],\"name\":\"E 231\",\"metrics\":{\"centrality\":42,\"complexity\":8.0,\"blocking factor\":2,\"delay factor\":6.0},\"nameSub\":\"Engineering Design III: Structural Performance and Failure \",\"id\":18,\"credits\":2,\"nameCanonical\":\"\"},{\"curriculum_requisites\":[{\"source_id\":13,\"target_id\":19,\"type\":\"CurriculumCorequisite\"},{\"source_id\":16,\"target_id\":19,\"type\":\"CurriculumCorequisite\"}],\"name\":\"E 245\",\"metrics\":{\"centrality\":16,\"complexity\":8.0,\"blocking factor\":2,\"delay factor\":6.0},\"nameSub\":\"Circuits and Systems \",\"id\":19,\"credits\":3,\"nameCanonical\":\"\"},{\"curriculum_requisites\":[],\"name\":\"HUM xxx\",\"metrics\":{\"centrality\":0,\"complexity\":1.0,\"blocking factor\":0,\"delay factor\":1.0},\"nameSub\":\"Humanities\",\"id\":20,\"credits\":3,\"nameCanonical\":\"\"}],\"id\":3},{\"name\":\"Term 4\",\"curriculum_items\":[{\"curriculum_requisites\":[{\"source_id\":19,\"target_id\":21,\"type\":\"CurriculumPrerequisite\"},{\"source_id\":18,\"target_id\":21,\"type\":\"CurriculumPrerequisite\"}],\"name\":\"E 232\",\"metrics\":{\"centrality\":39,\"complexity\":7.0,\"blocking factor\":1,\"delay factor\":6.0},\"nameSub\":\"Engineering Design IV: Systems with Analog Circuits \",\"id\":21,\"credits\":3,\"nameCanonical\":\"\"},{\"curriculum_requisites\":[{\"source_id\":10,\"target_id\":22,\"type\":\"CurriculumPrerequisite\"},{\"source_id\":8,\"target_id\":22,\"type\":\"CurriculumPrerequisite\"},{\"source_id\":1,\"target_id\":22,\"type\":\"CurriculumPrerequisite\"}],\"name\":\"E 234\",\"metrics\":{\"centrality\":0,\"complexity\":3.0,\"blocking factor\":0,\"delay factor\":3.0},\"nameSub\":\"Thermodynamics\",\"id\":22,\"credits\":3,\"nameCanonical\":\"\"},{\"curriculum_requisites\":[],\"name\":\" \",\"metrics\":{\"centrality\":0,\"complexity\":1.0,\"blocking factor\":0,\"delay factor\":1.0},\"nameSub\":\"Science Elective II\",\"id\":23,\"credits\":3,\"nameCanonical\":\"\"},{\"curriculum_requisites\":[],\"name\":\"MA  134\",\"metrics\":{\"centrality\":0,\"complexity\":7.0,\"blocking factor\":3,\"delay factor\":4.0},\"nameSub\":\"Discrete Math \",\"id\":24,\"credits\":3,\"nameCanonical\":\"\"},{\"curriculum_requisites\":[{\"source_id\":6,\"target_id\":25,\"type\":\"CurriculumPrerequisite\"}],\"name\":\"SSW 215\",\"metrics\":{\"centrality\":16,\"complexity\":8.0,\"blocking factor\":3,\"delay factor\":5.0},\"nameSub\":\"Individual Software Engineering\",\"id\":25,\"credits\":3,\"nameCanonical\":\"\"},{\"curriculum_requisites\":[],\"name\":\"HUM xxx\",\"metrics\":{\"centrality\":0,\"complexity\":1.0,\"blocking factor\":0,\"delay factor\":1.0},\"nameSub\":\"Humanities\",\"id\":26,\"credits\":3,\"nameCanonical\":\"\"}],\"id\":4},{\"name\":\"Term 5\",\"curriculum_items\":[{\"curriculum_requisites\":[{\"source_id\":30,\"target_id\":27,\"type\":\"CurriculumCorequisite\"}],\"name\":\"ISE 350\",\"metrics\":{\"centrality\":0,\"complexity\":4.0,\"blocking factor\":0,\"delay factor\":4.0},\"nameSub\":\"Logistics and Supply Chain Management\",\"id\":27,\"credits\":3,\"nameCanonical\":\"\"},{\"curriculum_requisites\":[{\"source_id\":29,\"target_id\":28,\"type\":\"CurriculumCorequisite\"}],\"name\":\"E 321\",\"metrics\":{\"centrality\":0,\"complexity\":4.0,\"blocking factor\":0,\"delay factor\":4.0},\"nameSub\":\"Engineering Design V: Materials Selection and Process Optimization \",\"id\":28,\"credits\":2,\"nameCanonical\":\"\"},{\"curriculum_requisites\":[{\"source_id\":1,\"target_id\":29,\"type\":\"CurriculumPrerequisite\"}],\"name\":\"E 344\",\"metrics\":{\"centrality\":4,\"complexity\":5.0,\"blocking factor\":1,\"delay factor\":4.0},\"nameSub\":\"Materials Processing\",\"id\":29,\"credits\":3,\"nameCanonical\":\"\"},{\"curriculum_requisites\":[{\"source_id\":13,\"target_id\":30,\"type\":\"CurriculumPrerequisite\"}],\"name\":\"E 243\",\"metrics\":{\"centrality\":4,\"complexity\":5.0,\"blocking factor\":1,\"delay factor\":4.0},\"nameSub\":\"Probability & Statistics For Engineers\",\"id\":30,\"credits\":3,\"nameCanonical\":\"Probability & Statistics\"},{\"curriculum_requisites\":[{\"source_id\":25,\"target_id\":31,\"type\":\"CurriculumPrerequisite\"}],\"name\":\"SSW 315\",\"metrics\":{\"centrality\":9,\"complexity\":7.0,\"blocking factor\":2,\"delay factor\":5.0},\"nameSub\":\"Object Based Software Development5 \",\"id\":31,\"credits\":3,\"nameCanonical\":\"\"},{\"curriculum_requisites\":[],\"name\":\"HUM xxx\",\"metrics\":{\"centrality\":0,\"complexity\":1.0,\"blocking factor\":0,\"delay factor\":1.0},\"nameSub\":\"Humanities\",\"id\":32,\"credits\":3,\"nameCanonical\":\"\"}],\"id\":5},{\"name\":\"Term 6\",\"curriculum_items\":[{\"curriculum_requisites\":[{\"source_id\":11,\"target_id\":33,\"type\":\"CurriculumPrerequisite\"},{\"source_id\":5,\"target_id\":33,\"type\":\"CurriculumPrerequisite\"},{\"source_id\":21,\"target_id\":33,\"type\":\"CurriculumPrerequisite\"},{\"source_id\":18,\"target_id\":33,\"type\":\"CurriculumPrerequisite\"}],\"name\":\"E 355\",\"metrics\":{\"centrality\":0,\"complexity\":6.0,\"blocking factor\":0,\"delay factor\":6.0},\"nameSub\":\"Engineering Economics\",\"id\":33,\"credits\":4,\"nameCanonical\":\"\"},{\"curriculum_requisites\":[{\"source_id\":24,\"target_id\":34,\"type\":\"CurriculumPrerequisite\"}],\"name\":\"SSW 345\",\"metrics\":{\"centrality\":7,\"complexity\":6.0,\"blocking factor\":2,\"delay factor\":4.0},\"nameSub\":\"Model-Based Software Engineering\",\"id\":34,\"credits\":3,\"nameCanonical\":\"\"},{\"curriculum_requisites\":[],\"name\":\"SSW 322\",\"metrics\":{\"centrality\":0,\"complexity\":5.0,\"blocking factor\":2,\"delay factor\":3.0},\"nameSub\":\"Software Design Evolution\",\"id\":35,\"credits\":3,\"nameCanonical\":\"\"},{\"curriculum_requisites\":[],\"name\":\"SSW 564\",\"metrics\":{\"centrality\":0,\"complexity\":1.0,\"blocking factor\":0,\"delay factor\":1.0},\"nameSub\":\"Software Requirements Engineering\",\"id\":36,\"credits\":3,\"nameCanonical\":\"\"},{\"curriculum_requisites\":[],\"name\":\" \",\"metrics\":{\"centrality\":0,\"complexity\":1.0,\"blocking factor\":0,\"delay factor\":1.0},\"nameSub\":\"General Elective \",\"id\":37,\"credits\":3,\"nameCanonical\":\"\"},{\"curriculum_requisites\":[],\"name\":\" \",\"metrics\":{\"centrality\":0,\"complexity\":1.0,\"blocking factor\":0,\"delay factor\":1.0},\"nameSub\":\"Domain Elective \",\"id\":38,\"credits\":3,\"nameCanonical\":\"\"},{\"curriculum_requisites\":[{\"source_id\":14,\"target_id\":39,\"type\":\"CurriculumPrerequisite\"}],\"name\":\"IDE 400\",\"metrics\":{\"centrality\":4,\"complexity\":6.0,\"blocking factor\":2,\"delay factor\":4.0},\"nameSub\":\"Senior Innovation I\",\"id\":39,\"credits\":1,\"nameCanonical\":\"\"}],\"id\":6},{\"name\":\"Term 7\",\"curriculum_items\":[{\"curriculum_requisites\":[],\"name\":\" \",\"metrics\":{\"centrality\":0,\"complexity\":1.0,\"blocking factor\":0,\"delay factor\":1.0},\"nameSub\":\"General Elective \",\"id\":40,\"credits\":3,\"nameCanonical\":\"\"},{\"curriculum_requisites\":[],\"name\":\"SSW 555\",\"metrics\":{\"centrality\":0,\"complexity\":1.0,\"blocking factor\":0,\"delay factor\":1.0},\"nameSub\":\"Agile Methods for Software Development\",\"id\":41,\"credits\":3,\"nameCanonical\":\"\"},{\"curriculum_requisites\":[],\"name\":\"SSW 533\",\"metrics\":{\"centrality\":0,\"complexity\":1.0,\"blocking factor\":0,\"delay factor\":1.0},\"nameSub\":\"Software Estimation and Metrics\",\"id\":42,\"credits\":3,\"nameCanonical\":\"\"},{\"curriculum_requisites\":[],\"name\":\" \",\"metrics\":{\"centrality\":0,\"complexity\":1.0,\"blocking factor\":0,\"delay factor\":1.0},\"nameSub\":\"Domain Elective \",\"id\":43,\"credits\":3,\"nameCanonical\":\"\"},{\"curriculum_requisites\":[{\"source_id\":25,\"target_id\":44,\"type\":\"CurriculumPrerequisite\"},{\"source_id\":31,\"target_id\":44,\"type\":\"CurriculumPrerequisite\"},{\"source_id\":34,\"target_id\":44,\"type\":\"CurriculumPrerequisite\"},{\"source_id\":35,\"target_id\":44,\"type\":\"CurriculumPrerequisite\"}],\"name\":\"SSW 423\",\"metrics\":{\"centrality\":16,\"complexity\":6.0,\"blocking factor\":1,\"delay factor\":5.0},\"nameSub\":\"Engineering Design VII\",\"id\":44,\"credits\":3,\"nameCanonical\":\"\"},{\"curriculum_requisites\":[{\"source_id\":39,\"target_id\":45,\"type\":\"CurriculumPrerequisite\"}],\"name\":\"IDE 401\",\"metrics\":{\"centrality\":4,\"complexity\":5.0,\"blocking factor\":1,\"delay factor\":4.0},\"nameSub\":\"Senior Innovation II \",\"id\":45,\"credits\":1,\"nameCanonical\":\"\"}],\"id\":7},{\"name\":\"Term 8\",\"curriculum_items\":[{\"curriculum_requisites\":[],\"name\":\"SSW 567\",\"metrics\":{\"centrality\":0,\"complexity\":1.0,\"blocking factor\":0,\"delay factor\":1.0},\"nameSub\":\"Software Testing and Quality Assurance\",\"id\":46,\"credits\":3,\"nameCanonical\":\"\"},{\"curriculum_requisites\":[],\"name\":\"SYS 581\",\"metrics\":{\"centrality\":0,\"complexity\":1.0,\"blocking factor\":0,\"delay factor\":1.0},\"nameSub\":\"Introduction to Systems Engineering\",\"id\":47,\"credits\":3,\"nameCanonical\":\"\"},{\"curriculum_requisites\":[],\"name\":\" \",\"metrics\":{\"centrality\":0,\"complexity\":1.0,\"blocking factor\":0,\"delay factor\":1.0},\"nameSub\":\"Introduction to Systems Engineering\",\"id\":48,\"credits\":3,\"nameCanonical\":\"\"},{\"curriculum_requisites\":[{\"source_id\":25,\"target_id\":49,\"type\":\"CurriculumPrerequisite\"},{\"source_id\":31,\"target_id\":49,\"type\":\"CurriculumPrerequisite\"},{\"source_id\":34,\"target_id\":49,\"type\":\"CurriculumPrerequisite\"},{\"source_id\":35,\"target_id\":49,\"type\":\"CurriculumPrerequisite\"},{\"source_id\":44,\"target_id\":49,\"type\":\"CurriculumPrerequisite\"}],\"name\":\"SSW 424\",\"metrics\":{\"centrality\":0,\"complexity\":5.0,\"blocking factor\":0,\"delay factor\":5.0},\"nameSub\":\"Engineering Design VIII\",\"id\":49,\"credits\":3,\"nameCanonical\":\"\"},{\"curriculum_requisites\":[],\"name\":\"HUM xxx\",\"metrics\":{\"centrality\":0,\"complexity\":1.0,\"blocking factor\":0,\"delay factor\":1.0},\"nameSub\":\"Humanities\",\"id\":50,\"credits\":3,\"nameCanonical\":\"\"},{\"curriculum_requisites\":[{\"source_id\":45,\"target_id\":51,\"type\":\"CurriculumPrerequisite\"}],\"name\":\"IDE 402\",\"metrics\":{\"centrality\":0,\"complexity\":4.0,\"blocking factor\":0,\"delay factor\":4.0},\"nameSub\":\"Senior Innovation III \",\"id\":51,\"credits\":1,\"nameCanonical\":\"\"}],\"id\":8}],\"institution\":\"Stevens Institute of Technology\"}}}}},\"children\":[{\"props\":{\"src\":\"http:\\/\\/localhost:8156\",\"id\":\"curriculum\",\"events\":{\"load\":\"(function (){this.contentWindow.postMessage({\\\"options\\\":{\\\"hideTerms\\\":false,\\\"edit\\\":false},\\\"curriculum\\\":{\\\"name\\\":\\\"Software Engineering\\\",\\\"dp_name\\\":\\\"2020-21 Degree Plan\\\",\\\"curriculum_terms\\\":[{\\\"name\\\":\\\"Term 1\\\",\\\"curriculum_items\\\":[{\\\"curriculum_requisites\\\":[{\\\"source_id\\\":2,\\\"target_id\\\":1,\\\"type\\\":\\\"CurriculumStrictCorequisite\\\"}],\\\"name\\\":\\\"CH 115\\\",\\\"metrics\\\":{\\\"centrality\\\":7,\\\"complexity\\\":7.0,\\\"blocking factor\\\":3,\\\"delay factor\\\":4.0},\\\"nameSub\\\":\\\"General Chemistry I \\\",\\\"id\\\":1,\\\"credits\\\":3,\\\"nameCanonical\\\":\\\"Chemistry I\\\"},{\\\"curriculum_requisites\\\":[],\\\"name\\\":\\\"CH 117\\\",\\\"metrics\\\":{\\\"centrality\\\":0,\\\"complexity\\\":8.0,\\\"blocking factor\\\":4,\\\"delay factor\\\":4.0},\\\"nameSub\\\":\\\"General Chemistry Laboratory I \\\",\\\"id\\\":2,\\\"credits\\\":1,\\\"nameCanonical\\\":\\\"Chemistry I Lab\\\"},{\\\"curriculum_requisites\\\":[],\\\"name\\\":\\\"E 101\\\",\\\"metrics\\\":{\\\"centrality\\\":0,\\\"complexity\\\":1.0,\\\"blocking factor\\\":0,\\\"delay factor\\\":1.0},\\\"nameSub\\\":\\\"Engineering Experience I \\\",\\\"id\\\":3,\\\"credits\\\":1,\\\"nameCanonical\\\":\\\"\\\"},{\\\"curriculum_requisites\\\":[],\\\"name\\\":\\\"E 120\\\",\\\"metrics\\\":{\\\"centrality\\\":0,\\\"complexity\\\":11.0,\\\"blocking factor\\\":5,\\\"delay factor\\\":6.0},\\\"nameSub\\\":\\\"Engineering Graphics \\\",\\\"id\\\":4,\\\"credits\\\":1,\\\"nameCanonical\\\":\\\"\\\"},{\\\"curriculum_requisites\\\":[{\\\"source_id\\\":4,\\\"target_id\\\":5,\\\"type\\\":\\\"CurriculumCorequisite\\\"},{\\\"source_id\\\":6,\\\"target_id\\\":5,\\\"type\\\":\\\"CurriculumCorequisite\\\"}],\\\"name\\\":\\\"E 121\\\",\\\"metrics\\\":{\\\"centrality\\\":36,\\\"complexity\\\":10.0,\\\"blocking factor\\\":4,\\\"delay factor\\\":6.0},\\\"nameSub\\\":\\\"Engineering Design I: Introduction to Systems Thinking \\\",\\\"id\\\":5,\\\"credits\\\":2,\\\"nameCanonical\\\":\\\"\\\"},{\\\"curriculum_requisites\\\":[],\\\"name\\\":\\\"E 115\\\",\\\"metrics\\\":{\\\"centrality\\\":0,\\\"complexity\\\":15.0,\\\"blocking factor\\\":9,\\\"delay factor\\\":6.0},\\\"nameSub\\\":\\\"Introduction to Programming \\\",\\\"id\\\":6,\\\"credits\\\":2,\\\"nameCanonical\\\":\\\"Programming I\\\"},{\\\"curriculum_requisites\\\":[],\\\"name\\\":\\\"CAL 103\\\",\\\"metrics\\\":{\\\"centrality\\\":0,\\\"complexity\\\":1.0,\\\"blocking factor\\\":0,\\\"delay factor\\\":1.0},\\\"nameSub\\\":\\\"Writing And Communications Colloquium \\\",\\\"id\\\":7,\\\"credits\\\":3,\\\"nameCanonical\\\":\\\"\\\"},{\\\"curriculum_requisites\\\":[],\\\"name\\\":\\\"MA  121;122\\\",\\\"metrics\\\":{\\\"centrality\\\":0,\\\"complexity\\\":18.0,\\\"blocking factor\\\":12,\\\"delay factor\\\":6.0},\\\"nameSub\\\":\\\"Differential Calculus; Integral Calculus \\\",\\\"id\\\":8,\\\"credits\\\":4,\\\"nameCanonical\\\":\\\"\\\"}],\\\"id\\\":1},{\\\"name\\\":\\\"Term 2\\\",\\\"curriculum_items\\\":[{\\\"curriculum_requisites\\\":[],\\\"name\\\":\\\" \\\",\\\"metrics\\\":{\\\"centrality\\\":0,\\\"complexity\\\":1.0,\\\"blocking factor\\\":0,\\\"delay factor\\\":1.0},\\\"nameSub\\\":\\\"Science Elective\\\",\\\"id\\\":9,\\\"credits\\\":3,\\\"nameCanonical\\\":\\\"\\\"},{\\\"curriculum_requisites\\\":[{\\\"source_id\\\":8,\\\"target_id\\\":10,\\\"type\\\":\\\"CurriculumCorequisite\\\"}],\\\"name\\\":\\\"PEP 111\\\",\\\"metrics\\\":{\\\"centrality\\\":20,\\\"complexity\\\":13.0,\\\"blocking factor\\\":7,\\\"delay factor\\\":6.0},\\\"nameSub\\\":\\\"Mechanics\\\",\\\"id\\\":10,\\\"credits\\\":3,\\\"nameCanonical\\\":\\\"\\\"},{\\\"curriculum_requisites\\\":[{\\\"source_id\\\":5,\\\"target_id\\\":11,\\\"type\\\":\\\"CurriculumPrerequisite\\\"}],\\\"name\\\":\\\"E 122\\\",\\\"metrics\\\":{\\\"centrality\\\":30,\\\"complexity\\\":9.0,\\\"blocking factor\\\":3,\\\"delay factor\\\":6.0},\\\"nameSub\\\":\\\"Engineering Design II: Field Sustainable Systems with Sensors \\\",\\\"id\\\":11,\\\"credits\\\":2,\\\"nameCanonical\\\":\\\"\\\"},{\\\"curriculum_requisites\\\":[],\\\"name\\\":\\\"CAL 105\\\",\\\"metrics\\\":{\\\"centrality\\\":0,\\\"complexity\\\":1.0,\\\"blocking factor\\\":0,\\\"delay factor\\\":1.0},\\\"nameSub\\\":\\\"CAL Colloquium: Knowledge, Nature, Culture\\\",\\\"id\\\":12,\\\"credits\\\":3,\\\"nameCanonical\\\":\\\"\\\"},{\\\"curriculum_requisites\\\":[{\\\"source_id\\\":8,\\\"target_id\\\":13,\\\"type\\\":\\\"CurriculumPrerequisite\\\"}],\\\"name\\\":\\\"MA  123;124\\\",\\\"metrics\\\":{\\\"centrality\\\":12,\\\"complexity\\\":11.0,\\\"blocking factor\\\":6,\\\"delay factor\\\":5.0},\\\"nameSub\\\":\\\"Series, Vectors, Functions, and Surfaces; Calculus of Two Variables\\\",\\\"id\\\":13,\\\"credits\\\":4,\\\"nameCanonical\\\":\\\"\\\"},{\\\"curriculum_requisites\\\":[],\\\"name\\\":\\\"MGT 103\\\",\\\"metrics\\\":{\\\"centrality\\\":0,\\\"complexity\\\":7.0,\\\"blocking factor\\\":3,\\\"delay factor\\\":4.0},\\\"nameSub\\\":\\\"Introduction to Entrepreneurial Thinking \\\",\\\"id\\\":14,\\\"credits\\\":2,\\\"nameCanonical\\\":\\\"\\\"}],\\\"id\\\":2},{\\\"name\\\":\\\"Term 3\\\",\\\"curriculum_items\\\":[{\\\"curriculum_requisites\\\":[{\\\"source_id\\\":13,\\\"target_id\\\":15,\\\"type\\\":\\\"CurriculumPrerequisite\\\"}],\\\"name\\\":\\\"MA  221\\\",\\\"metrics\\\":{\\\"centrality\\\":0,\\\"complexity\\\":3.0,\\\"blocking factor\\\":0,\\\"delay factor\\\":3.0},\\\"nameSub\\\":\\\"Differential Equations \\\",\\\"id\\\":15,\\\"credits\\\":4,\\\"nameCanonical\\\":\\\"\\\"},{\\\"curriculum_requisites\\\":[{\\\"source_id\\\":10,\\\"target_id\\\":16,\\\"type\\\":\\\"CurriculumPrerequisite\\\"},{\\\"source_id\\\":8,\\\"target_id\\\":16,\\\"type\\\":\\\"CurriculumPrerequisite\\\"}],\\\"name\\\":\\\"PEP 112\\\",\\\"metrics\\\":{\\\"centrality\\\":11,\\\"complexity\\\":9.0,\\\"blocking factor\\\":3,\\\"delay factor\\\":6.0},\\\"nameSub\\\":\\\"Electricity and Magnetism \\\",\\\"id\\\":16,\\\"credits\\\":3,\\\"nameCanonical\\\":\\\"\\\"},{\\\"curriculum_requisites\\\":[{\\\"source_id\\\":10,\\\"target_id\\\":17,\\\"type\\\":\\\"CurriculumPrerequisite\\\"},{\\\"source_id\\\":8,\\\"target_id\\\":17,\\\"type\\\":\\\"CurriculumPrerequisite\\\"}],\\\"name\\\":\\\"E 126\\\",\\\"metrics\\\":{\\\"centrality\\\":20,\\\"complexity\\\":9.0,\\\"blocking factor\\\":3,\\\"delay factor\\\":6.0},\\\"nameSub\\\":\\\"Mechanics of Solids \\\",\\\"id\\\":17,\\\"credits\\\":4,\\\"nameCanonical\\\":\\\"\\\"},{\\\"curriculum_requisites\\\":[{\\\"source_id\\\":17,\\\"target_id\\\":18,\\\"type\\\":\\\"CurriculumCorequisite\\\"},{\\\"source_id\\\":11,\\\"target_id\\\":18,\\\"type\\\":\\\"CurriculumPrerequisite\\\"}],\\\"name\\\":\\\"E 231\\\",\\\"metrics\\\":{\\\"centrality\\\":42,\\\"complexity\\\":8.0,\\\"blocking factor\\\":2,\\\"delay factor\\\":6.0},\\\"nameSub\\\":\\\"Engineering Design III: Structural Performance and Failure \\\",\\\"id\\\":18,\\\"credits\\\":2,\\\"nameCanonical\\\":\\\"\\\"},{\\\"curriculum_requisites\\\":[{\\\"source_id\\\":13,\\\"target_id\\\":19,\\\"type\\\":\\\"CurriculumCorequisite\\\"},{\\\"source_id\\\":16,\\\"target_id\\\":19,\\\"type\\\":\\\"CurriculumCorequisite\\\"}],\\\"name\\\":\\\"E 245\\\",\\\"metrics\\\":{\\\"centrality\\\":16,\\\"complexity\\\":8.0,\\\"blocking factor\\\":2,\\\"delay factor\\\":6.0},\\\"nameSub\\\":\\\"Circuits and Systems \\\",\\\"id\\\":19,\\\"credits\\\":3,\\\"nameCanonical\\\":\\\"\\\"},{\\\"curriculum_requisites\\\":[],\\\"name\\\":\\\"HUM xxx\\\",\\\"metrics\\\":{\\\"centrality\\\":0,\\\"complexity\\\":1.0,\\\"blocking factor\\\":0,\\\"delay factor\\\":1.0},\\\"nameSub\\\":\\\"Humanities\\\",\\\"id\\\":20,\\\"credits\\\":3,\\\"nameCanonical\\\":\\\"\\\"}],\\\"id\\\":3},{\\\"name\\\":\\\"Term 4\\\",\\\"curriculum_items\\\":[{\\\"curriculum_requisites\\\":[{\\\"source_id\\\":19,\\\"target_id\\\":21,\\\"type\\\":\\\"CurriculumPrerequisite\\\"},{\\\"source_id\\\":18,\\\"target_id\\\":21,\\\"type\\\":\\\"CurriculumPrerequisite\\\"}],\\\"name\\\":\\\"E 232\\\",\\\"metrics\\\":{\\\"centrality\\\":39,\\\"complexity\\\":7.0,\\\"blocking factor\\\":1,\\\"delay factor\\\":6.0},\\\"nameSub\\\":\\\"Engineering Design IV: Systems with Analog Circuits \\\",\\\"id\\\":21,\\\"credits\\\":3,\\\"nameCanonical\\\":\\\"\\\"},{\\\"curriculum_requisites\\\":[{\\\"source_id\\\":10,\\\"target_id\\\":22,\\\"type\\\":\\\"CurriculumPrerequisite\\\"},{\\\"source_id\\\":8,\\\"target_id\\\":22,\\\"type\\\":\\\"CurriculumPrerequisite\\\"},{\\\"source_id\\\":1,\\\"target_id\\\":22,\\\"type\\\":\\\"CurriculumPrerequisite\\\"}],\\\"name\\\":\\\"E 234\\\",\\\"metrics\\\":{\\\"centrality\\\":0,\\\"complexity\\\":3.0,\\\"blocking factor\\\":0,\\\"delay factor\\\":3.0},\\\"nameSub\\\":\\\"Thermodynamics\\\",\\\"id\\\":22,\\\"credits\\\":3,\\\"nameCanonical\\\":\\\"\\\"},{\\\"curriculum_requisites\\\":[],\\\"name\\\":\\\" \\\",\\\"metrics\\\":{\\\"centrality\\\":0,\\\"complexity\\\":1.0,\\\"blocking factor\\\":0,\\\"delay factor\\\":1.0},\\\"nameSub\\\":\\\"Science Elective II\\\",\\\"id\\\":23,\\\"credits\\\":3,\\\"nameCanonical\\\":\\\"\\\"},{\\\"curriculum_requisites\\\":[],\\\"name\\\":\\\"MA  134\\\",\\\"metrics\\\":{\\\"centrality\\\":0,\\\"complexity\\\":7.0,\\\"blocking factor\\\":3,\\\"delay factor\\\":4.0},\\\"nameSub\\\":\\\"Discrete Math \\\",\\\"id\\\":24,\\\"credits\\\":3,\\\"nameCanonical\\\":\\\"\\\"},{\\\"curriculum_requisites\\\":[{\\\"source_id\\\":6,\\\"target_id\\\":25,\\\"type\\\":\\\"CurriculumPrerequisite\\\"}],\\\"name\\\":\\\"SSW 215\\\",\\\"metrics\\\":{\\\"centrality\\\":16,\\\"complexity\\\":8.0,\\\"blocking factor\\\":3,\\\"delay factor\\\":5.0},\\\"nameSub\\\":\\\"Individual Software Engineering\\\",\\\"id\\\":25,\\\"credits\\\":3,\\\"nameCanonical\\\":\\\"\\\"},{\\\"curriculum_requisites\\\":[],\\\"name\\\":\\\"HUM xxx\\\",\\\"metrics\\\":{\\\"centrality\\\":0,\\\"complexity\\\":1.0,\\\"blocking factor\\\":0,\\\"delay factor\\\":1.0},\\\"nameSub\\\":\\\"Humanities\\\",\\\"id\\\":26,\\\"credits\\\":3,\\\"nameCanonical\\\":\\\"\\\"}],\\\"id\\\":4},{\\\"name\\\":\\\"Term 5\\\",\\\"curriculum_items\\\":[{\\\"curriculum_requisites\\\":[{\\\"source_id\\\":30,\\\"target_id\\\":27,\\\"type\\\":\\\"CurriculumCorequisite\\\"}],\\\"name\\\":\\\"ISE 350\\\",\\\"metrics\\\":{\\\"centrality\\\":0,\\\"complexity\\\":4.0,\\\"blocking factor\\\":0,\\\"delay factor\\\":4.0},\\\"nameSub\\\":\\\"Logistics and Supply Chain Management\\\",\\\"id\\\":27,\\\"credits\\\":3,\\\"nameCanonical\\\":\\\"\\\"},{\\\"curriculum_requisites\\\":[{\\\"source_id\\\":29,\\\"target_id\\\":28,\\\"type\\\":\\\"CurriculumCorequisite\\\"}],\\\"name\\\":\\\"E 321\\\",\\\"metrics\\\":{\\\"centrality\\\":0,\\\"complexity\\\":4.0,\\\"blocking factor\\\":0,\\\"delay factor\\\":4.0},\\\"nameSub\\\":\\\"Engineering Design V: Materials Selection and Process Optimization \\\",\\\"id\\\":28,\\\"credits\\\":2,\\\"nameCanonical\\\":\\\"\\\"},{\\\"curriculum_requisites\\\":[{\\\"source_id\\\":1,\\\"target_id\\\":29,\\\"type\\\":\\\"CurriculumPrerequisite\\\"}],\\\"name\\\":\\\"E 344\\\",\\\"metrics\\\":{\\\"centrality\\\":4,\\\"complexity\\\":5.0,\\\"blocking factor\\\":1,\\\"delay factor\\\":4.0},\\\"nameSub\\\":\\\"Materials Processing\\\",\\\"id\\\":29,\\\"credits\\\":3,\\\"nameCanonical\\\":\\\"\\\"},{\\\"curriculum_requisites\\\":[{\\\"source_id\\\":13,\\\"target_id\\\":30,\\\"type\\\":\\\"CurriculumPrerequisite\\\"}],\\\"name\\\":\\\"E 243\\\",\\\"metrics\\\":{\\\"centrality\\\":4,\\\"complexity\\\":5.0,\\\"blocking factor\\\":1,\\\"delay factor\\\":4.0},\\\"nameSub\\\":\\\"Probability & Statistics For Engineers\\\",\\\"id\\\":30,\\\"credits\\\":3,\\\"nameCanonical\\\":\\\"Probability & Statistics\\\"},{\\\"curriculum_requisites\\\":[{\\\"source_id\\\":25,\\\"target_id\\\":31,\\\"type\\\":\\\"CurriculumPrerequisite\\\"}],\\\"name\\\":\\\"SSW 315\\\",\\\"metrics\\\":{\\\"centrality\\\":9,\\\"complexity\\\":7.0,\\\"blocking factor\\\":2,\\\"delay factor\\\":5.0},\\\"nameSub\\\":\\\"Object Based Software Development5 \\\",\\\"id\\\":31,\\\"credits\\\":3,\\\"nameCanonical\\\":\\\"\\\"},{\\\"curriculum_requisites\\\":[],\\\"name\\\":\\\"HUM xxx\\\",\\\"metrics\\\":{\\\"centrality\\\":0,\\\"complexity\\\":1.0,\\\"blocking factor\\\":0,\\\"delay factor\\\":1.0},\\\"nameSub\\\":\\\"Humanities\\\",\\\"id\\\":32,\\\"credits\\\":3,\\\"nameCanonical\\\":\\\"\\\"}],\\\"id\\\":5},{\\\"name\\\":\\\"Term 6\\\",\\\"curriculum_items\\\":[{\\\"curriculum_requisites\\\":[{\\\"source_id\\\":11,\\\"target_id\\\":33,\\\"type\\\":\\\"CurriculumPrerequisite\\\"},{\\\"source_id\\\":5,\\\"target_id\\\":33,\\\"type\\\":\\\"CurriculumPrerequisite\\\"},{\\\"source_id\\\":21,\\\"target_id\\\":33,\\\"type\\\":\\\"CurriculumPrerequisite\\\"},{\\\"source_id\\\":18,\\\"target_id\\\":33,\\\"type\\\":\\\"CurriculumPrerequisite\\\"}],\\\"name\\\":\\\"E 355\\\",\\\"metrics\\\":{\\\"centrality\\\":0,\\\"complexity\\\":6.0,\\\"blocking factor\\\":0,\\\"delay factor\\\":6.0},\\\"nameSub\\\":\\\"Engineering Economics\\\",\\\"id\\\":33,\\\"credits\\\":4,\\\"nameCanonical\\\":\\\"\\\"},{\\\"curriculum_requisites\\\":[{\\\"source_id\\\":24,\\\"target_id\\\":34,\\\"type\\\":\\\"CurriculumPrerequisite\\\"}],\\\"name\\\":\\\"SSW 345\\\",\\\"metrics\\\":{\\\"centrality\\\":7,\\\"complexity\\\":6.0,\\\"blocking factor\\\":2,\\\"delay factor\\\":4.0},\\\"nameSub\\\":\\\"Model-Based Software Engineering\\\",\\\"id\\\":34,\\\"credits\\\":3,\\\"nameCanonical\\\":\\\"\\\"},{\\\"curriculum_requisites\\\":[],\\\"name\\\":\\\"SSW 322\\\",\\\"metrics\\\":{\\\"centrality\\\":0,\\\"complexity\\\":5.0,\\\"blocking factor\\\":2,\\\"delay factor\\\":3.0},\\\"nameSub\\\":\\\"Software Design Evolution\\\",\\\"id\\\":35,\\\"credits\\\":3,\\\"nameCanonical\\\":\\\"\\\"},{\\\"curriculum_requisites\\\":[],\\\"name\\\":\\\"SSW 564\\\",\\\"metrics\\\":{\\\"centrality\\\":0,\\\"complexity\\\":1.0,\\\"blocking factor\\\":0,\\\"delay factor\\\":1.0},\\\"nameSub\\\":\\\"Software Requirements Engineering\\\",\\\"id\\\":36,\\\"credits\\\":3,\\\"nameCanonical\\\":\\\"\\\"},{\\\"curriculum_requisites\\\":[],\\\"name\\\":\\\" \\\",\\\"metrics\\\":{\\\"centrality\\\":0,\\\"complexity\\\":1.0,\\\"blocking factor\\\":0,\\\"delay factor\\\":1.0},\\\"nameSub\\\":\\\"General Elective \\\",\\\"id\\\":37,\\\"credits\\\":3,\\\"nameCanonical\\\":\\\"\\\"},{\\\"curriculum_requisites\\\":[],\\\"name\\\":\\\" \\\",\\\"metrics\\\":{\\\"centrality\\\":0,\\\"complexity\\\":1.0,\\\"blocking factor\\\":0,\\\"delay factor\\\":1.0},\\\"nameSub\\\":\\\"Domain Elective \\\",\\\"id\\\":38,\\\"credits\\\":3,\\\"nameCanonical\\\":\\\"\\\"},{\\\"curriculum_requisites\\\":[{\\\"source_id\\\":14,\\\"target_id\\\":39,\\\"type\\\":\\\"CurriculumPrerequisite\\\"}],\\\"name\\\":\\\"IDE 400\\\",\\\"metrics\\\":{\\\"centrality\\\":4,\\\"complexity\\\":6.0,\\\"blocking factor\\\":2,\\\"delay factor\\\":4.0},\\\"nameSub\\\":\\\"Senior Innovation I\\\",\\\"id\\\":39,\\\"credits\\\":1,\\\"nameCanonical\\\":\\\"\\\"}],\\\"id\\\":6},{\\\"name\\\":\\\"Term 7\\\",\\\"curriculum_items\\\":[{\\\"curriculum_requisites\\\":[],\\\"name\\\":\\\" \\\",\\\"metrics\\\":{\\\"centrality\\\":0,\\\"complexity\\\":1.0,\\\"blocking factor\\\":0,\\\"delay factor\\\":1.0},\\\"nameSub\\\":\\\"General Elective \\\",\\\"id\\\":40,\\\"credits\\\":3,\\\"nameCanonical\\\":\\\"\\\"},{\\\"curriculum_requisites\\\":[],\\\"name\\\":\\\"SSW 555\\\",\\\"metrics\\\":{\\\"centrality\\\":0,\\\"complexity\\\":1.0,\\\"blocking factor\\\":0,\\\"delay factor\\\":1.0},\\\"nameSub\\\":\\\"Agile Methods for Software Development\\\",\\\"id\\\":41,\\\"credits\\\":3,\\\"nameCanonical\\\":\\\"\\\"},{\\\"curriculum_requisites\\\":[],\\\"name\\\":\\\"SSW 533\\\",\\\"metrics\\\":{\\\"centrality\\\":0,\\\"complexity\\\":1.0,\\\"blocking factor\\\":0,\\\"delay factor\\\":1.0},\\\"nameSub\\\":\\\"Software Estimation and Metrics\\\",\\\"id\\\":42,\\\"credits\\\":3,\\\"nameCanonical\\\":\\\"\\\"},{\\\"curriculum_requisites\\\":[],\\\"name\\\":\\\" \\\",\\\"metrics\\\":{\\\"centrality\\\":0,\\\"complexity\\\":1.0,\\\"blocking factor\\\":0,\\\"delay factor\\\":1.0},\\\"nameSub\\\":\\\"Domain Elective \\\",\\\"id\\\":43,\\\"credits\\\":3,\\\"nameCanonical\\\":\\\"\\\"},{\\\"curriculum_requisites\\\":[{\\\"source_id\\\":25,\\\"target_id\\\":44,\\\"type\\\":\\\"CurriculumPrerequisite\\\"},{\\\"source_id\\\":31,\\\"target_id\\\":44,\\\"type\\\":\\\"CurriculumPrerequisite\\\"},{\\\"source_id\\\":34,\\\"target_id\\\":44,\\\"type\\\":\\\"CurriculumPrerequisite\\\"},{\\\"source_id\\\":35,\\\"target_id\\\":44,\\\"type\\\":\\\"CurriculumPrerequisite\\\"}],\\\"name\\\":\\\"SSW 423\\\",\\\"metrics\\\":{\\\"centrality\\\":16,\\\"complexity\\\":6.0,\\\"blocking factor\\\":1,\\\"delay factor\\\":5.0},\\\"nameSub\\\":\\\"Engineering Design VII\\\",\\\"id\\\":44,\\\"credits\\\":3,\\\"nameCanonical\\\":\\\"\\\"},{\\\"curriculum_requisites\\\":[{\\\"source_id\\\":39,\\\"target_id\\\":45,\\\"type\\\":\\\"CurriculumPrerequisite\\\"}],\\\"name\\\":\\\"IDE 401\\\",\\\"metrics\\\":{\\\"centrality\\\":4,\\\"complexity\\\":5.0,\\\"blocking factor\\\":1,\\\"delay factor\\\":4.0},\\\"nameSub\\\":\\\"Senior Innovation II \\\",\\\"id\\\":45,\\\"credits\\\":1,\\\"nameCanonical\\\":\\\"\\\"}],\\\"id\\\":7},{\\\"name\\\":\\\"Term 8\\\",\\\"curriculum_items\\\":[{\\\"curriculum_requisites\\\":[],\\\"name\\\":\\\"SSW 567\\\",\\\"metrics\\\":{\\\"centrality\\\":0,\\\"complexity\\\":1.0,\\\"blocking factor\\\":0,\\\"delay factor\\\":1.0},\\\"nameSub\\\":\\\"Software Testing and Quality Assurance\\\",\\\"id\\\":46,\\\"credits\\\":3,\\\"nameCanonical\\\":\\\"\\\"},{\\\"curriculum_requisites\\\":[],\\\"name\\\":\\\"SYS 581\\\",\\\"metrics\\\":{\\\"centrality\\\":0,\\\"complexity\\\":1.0,\\\"blocking factor\\\":0,\\\"delay factor\\\":1.0},\\\"nameSub\\\":\\\"Introduction to Systems Engineering\\\",\\\"id\\\":47,\\\"credits\\\":3,\\\"nameCanonical\\\":\\\"\\\"},{\\\"curriculum_requisites\\\":[],\\\"name\\\":\\\" \\\",\\\"metrics\\\":{\\\"centrality\\\":0,\\\"complexity\\\":1.0,\\\"blocking factor\\\":0,\\\"delay factor\\\":1.0},\\\"nameSub\\\":\\\"Introduction to Systems Engineering\\\",\\\"id\\\":48,\\\"credits\\\":3,\\\"nameCanonical\\\":\\\"\\\"},{\\\"curriculum_requisites\\\":[{\\\"source_id\\\":25,\\\"target_id\\\":49,\\\"type\\\":\\\"CurriculumPrerequisite\\\"},{\\\"source_id\\\":31,\\\"target_id\\\":49,\\\"type\\\":\\\"CurriculumPrerequisite\\\"},{\\\"source_id\\\":34,\\\"target_id\\\":49,\\\"type\\\":\\\"CurriculumPrerequisite\\\"},{\\\"source_id\\\":35,\\\"target_id\\\":49,\\\"type\\\":\\\"CurriculumPrerequisite\\\"},{\\\"source_id\\\":44,\\\"target_id\\\":49,\\\"type\\\":\\\"CurriculumPrerequisite\\\"}],\\\"name\\\":\\\"SSW 424\\\",\\\"metrics\\\":{\\\"centrality\\\":0,\\\"complexity\\\":5.0,\\\"blocking factor\\\":0,\\\"delay factor\\\":5.0},\\\"nameSub\\\":\\\"Engineering Design VIII\\\",\\\"id\\\":49,\\\"credits\\\":3,\\\"nameCanonical\\\":\\\"\\\"},{\\\"curriculum_requisites\\\":[],\\\"name\\\":\\\"HUM xxx\\\",\\\"metrics\\\":{\\\"centrality\\\":0,\\\"complexity\\\":1.0,\\\"blocking factor\\\":0,\\\"delay factor\\\":1.0},\\\"nameSub\\\":\\\"Humanities\\\",\\\"id\\\":50,\\\"credits\\\":3,\\\"nameCanonical\\\":\\\"\\\"},{\\\"curriculum_requisites\\\":[{\\\"source_id\\\":45,\\\"target_id\\\":51,\\\"type\\\":\\\"CurriculumPrerequisite\\\"}],\\\"name\\\":\\\"IDE 402\\\",\\\"metrics\\\":{\\\"centrality\\\":0,\\\"complexity\\\":4.0,\\\"blocking factor\\\":0,\\\"delay factor\\\":4.0},\\\"nameSub\\\":\\\"Senior Innovation III \\\",\\\"id\\\":51,\\\"credits\\\":1,\\\"nameCanonical\\\":\\\"\\\"}],\\\"id\\\":8}],\\\"institution\\\":\\\"Stevens Institute of Technology\\\"}},\\\"*\\\"); window.removeEventListener(\\\"message\\\",window.messageReceived); window.messageReceived=(function (event){return (event.data.curriculum!==undefined) ? (WebIO.setval({\\\"name\\\":\\\"curriculum-data\\\",\\\"scope\\\":\\\"12006268964555825939\\\",\\\"id\\\":\\\"5250591599569994742\\\",\\\"type\\\":\\\"observable\\\"},event.data.curriculum)) : undefined}); return window.addEventListener(\\\"message\\\",window.messageReceived)})\"},\"style\":{\"padding\":\"0\",\"height\":\"100vh\",\"margin\":\"0\",\"border\":\"none\",\"width\":\"100%\"}},\"nodeType\":\"DOM\",\"type\":\"node\",\"instanceArgs\":{\"namespace\":\"html\",\"tag\":\"iframe\"},\"children\":[\"\"]}]},\n",
       "            window,\n",
       "        );\n",
       "    } else {\n",
       "        document\n",
       "            .querySelector('[data-webio-mountpoint=\"6340926166392226998\"]')\n",
       "            .innerHTML = (\n",
       "                '<div style=\"padding: 1em; background-color: #f8d6da; border: 1px solid #f5c6cb\">' +\n",
       "                '<p><strong>WebIO not detected.</strong></p>' +\n",
       "                '<p>Please read ' +\n",
       "                '<a href=\"https://juliagizmos.github.io/WebIO.jl/latest/troubleshooting/not-detected/\" target=\"_blank\">the troubleshooting guide</a> ' +\n",
       "                'for more information on how to resolve this issue.</p>' +\n",
       "                '<p><a href=\"https://juliagizmos.github.io/WebIO.jl/latest/troubleshooting/not-detected/\" target=\"_blank\">https://juliagizmos.github.io/WebIO.jl/latest/troubleshooting/not-detected/</a></p>' +\n",
       "                '</div>'\n",
       "            );\n",
       "    }\n",
       "    </script>\n",
       "</div>\n"
      ],
      "text/plain": [
       "WebIO.Scope(WebIO.Node{WebIO.DOM}(WebIO.DOM(:html, :iframe), Any[\"\"], Dict{Symbol,Any}(:src => \"http://localhost:8156\",:id => \"curriculum\",:events => Dict{Symbol,WebIO.JSString}(:load => WebIO.JSString(\"(function (){this.contentWindow.postMessage({\\\"options\\\":{\\\"hideTerms\\\":false,\\\"edit\\\":false},\\\"curriculum\\\":{\\\"name\\\":\\\"Software Engineering\\\",\\\"dp_name\\\":\\\"2020-21 Degree Plan\\\",\\\"curriculum_terms\\\":[{\\\"name\\\":\\\"Term 1\\\",\\\"curriculum_items\\\":[{\\\"curriculum_requisites\\\":[{\\\"source_id\\\":2,\\\"target_id\\\":1,\\\"type\\\":\\\"CurriculumStrictCorequisite\\\"}],\\\"name\\\":\\\"CH 115\\\",\\\"metrics\\\":{\\\"centrality\\\":7,\\\"complexity\\\":7.0,\\\"blocking factor\\\":3,\\\"delay factor\\\":4.0},\\\"nameSub\\\":\\\"General Chemistry I \\\",\\\"id\\\":1,\\\"credits\\\":3,\\\"nameCanonical\\\":\\\"Chemistry I\\\"},{\\\"curriculum_requisites\\\":[],\\\"name\\\":\\\"CH 117\\\",\\\"metrics\\\":{\\\"centrality\\\":0,\\\"complexity\\\":8.0,\\\"blocking factor\\\":4,\\\"delay factor\\\":4.0},\\\"nameSub\\\":\\\"General Chemistry Laboratory I \\\",\\\"id\\\":2,\\\"credits\\\":1,\\\"nameCanonical\\\":\\\"Chemistry I Lab\\\"},{\\\"curriculum_requisites\\\":[],\\\"name\\\":\\\"E 101\\\",\\\"metrics\\\":{\\\"centrality\\\":0,\\\"complexity\\\":1.0,\\\"blocking factor\\\":0,\\\"delay factor\\\":1.0},\\\"nameSub\\\":\\\"Engineering Experience I \\\",\\\"id\\\":3,\\\"credits\\\":1,\\\"nameCanonical\\\":\\\"\\\"},{\\\"curriculum_requisites\\\":[],\\\"name\\\":\\\"E 120\\\",\\\"metrics\\\":{\\\"centrality\\\":0,\\\"complexity\\\":11.0,\\\"blocking factor\\\":5,\\\"delay factor\\\":6.0},\\\"nameSub\\\":\\\"Engineering Graphics \\\",\\\"id\\\":4,\\\"credits\\\":1,\\\"nameCanonical\\\":\\\"\\\"},{\\\"curriculum_requisites\\\":[{\\\"source_id\\\":4,\\\"target_id\\\":5,\\\"type\\\":\\\"CurriculumCorequisite\\\"},{\\\"source_id\\\":6,\\\"target_id\\\":5,\\\"type\\\":\\\"CurriculumCorequisite\\\"}],\\\"name\\\":\\\"E 121\\\",\\\"metrics\\\":{\\\"centrality\\\":36,\\\"complexity\\\":10.0,\\\"blocking factor\\\":4,\\\"delay factor\\\":6.0},\\\"nameSub\\\":\\\"Engineering Design I: Introduction to Systems Thinking \\\",\\\"id\\\":5,\\\"credits\\\":2,\\\"nameCanonical\\\":\\\"\\\"},{\\\"curriculum_requisites\\\":[],\\\"name\\\":\\\"E 115\\\",\\\"metrics\\\":{\\\"centrality\\\":0,\\\"complexity\\\":15.0,\\\"blocking factor\\\":9,\\\"delay factor\\\":6.0},\\\"nameSub\\\":\\\"Introduction to Programming \\\",\\\"id\\\":6,\\\"credits\\\":2,\\\"nameCanonical\\\":\\\"Programming I\\\"},{\\\"curriculum_requisites\\\":[],\\\"name\\\":\\\"CAL 103\\\",\\\"metrics\\\":{\\\"centrality\\\":0,\\\"complexity\\\":1.0,\\\"blocking factor\\\":0,\\\"delay factor\\\":1.0},\\\"nameSub\\\":\\\"Writing And Communications Colloquium \\\",\\\"id\\\":7,\\\"credits\\\":3,\\\"nameCanonical\\\":\\\"\\\"},{\\\"curriculum_requisites\\\":[],\\\"name\\\":\\\"MA  121;122\\\",\\\"metrics\\\":{\\\"centrality\\\":0,\\\"complexity\\\":18.0,\\\"blocking factor\\\":12,\\\"delay factor\\\":6.0},\\\"nameSub\\\":\\\"Differential Calculus; Integral Calculus \\\",\\\"id\\\":8,\\\"credits\\\":4,\\\"nameCanonical\\\":\\\"\\\"}],\\\"id\\\":1},{\\\"name\\\":\\\"Term 2\\\",\\\"curriculum_items\\\":[{\\\"curriculum_requisites\\\":[],\\\"name\\\":\\\" \\\",\\\"metrics\\\":{\\\"centrality\\\":0,\\\"complexity\\\":1.0,\\\"blocking factor\\\":0,\\\"delay factor\\\":1.0},\\\"nameSub\\\":\\\"Science Elective\\\",\\\"id\\\":9,\\\"credits\\\":3,\\\"nameCanonical\\\":\\\"\\\"},{\\\"curriculum_requisites\\\":[{\\\"source_id\\\":8,\\\"target_id\\\":10,\\\"type\\\":\\\"CurriculumCorequisite\\\"}],\\\"name\\\":\\\"PEP 111\\\",\\\"metrics\\\":{\\\"centrality\\\":20,\\\"complexity\\\":13.0,\\\"blocking factor\\\":7,\\\"delay factor\\\":6.0},\\\"nameSub\\\":\\\"Mechanics\\\",\\\"id\\\":10,\\\"credits\\\":3,\\\"nameCanonical\\\":\\\"\\\"},{\\\"curriculum_requisites\\\":[{\\\"source_id\\\":5,\\\"target_id\\\":11,\\\"type\\\":\\\"CurriculumPrerequisite\\\"}],\\\"name\\\":\\\"E 122\\\",\\\"metrics\\\":{\\\"centrality\\\":30,\\\"complexity\\\":9.0,\\\"blocking factor\\\":3,\\\"delay factor\\\":6.0},\\\"nameSub\\\":\\\"Engineering Design II: Field Sustainable Systems with Sensors \\\",\\\"id\\\":11,\\\"credits\\\":2,\\\"nameCanonical\\\":\\\"\\\"},{\\\"curriculum_requisites\\\":[],\\\"name\\\":\\\"CAL 105\\\",\\\"metrics\\\":{\\\"centrality\\\":0,\\\"complexity\\\":1.0,\\\"blocking factor\\\":0,\\\"delay factor\\\":1.0},\\\"nameSub\\\":\\\"CAL Colloquium: Knowledge, Nature, Culture\\\",\\\"id\\\":12,\\\"credits\\\":3,\\\"nameCanonical\\\":\\\"\\\"},{\\\"curriculum_requisites\\\":[{\\\"source_id\\\":8,\\\"target_id\\\":13,\\\"type\\\":\\\"CurriculumPrerequisite\\\"}],\\\"name\\\":\\\"MA  123;124\\\",\\\"metrics\\\":{\\\"centrality\\\":12,\\\"complexity\\\":11.0,\\\"blocking factor\\\":6,\\\"delay factor\\\":5.0},\\\"nameSub\\\":\\\"Series, Vectors, Functions, and Surfaces; Calculus of Two Variables\\\",\\\"id\\\":13,\\\"credits\\\":4,\\\"nameCanonical\\\":\\\"\\\"},{\\\"curriculum_requisites\\\":[],\\\"name\\\":\\\"MGT 103\\\",\\\"metrics\\\":{\\\"centrality\\\":0,\\\"complexity\\\":7.0,\\\"blocking factor\\\":3,\\\"delay factor\\\":4.0},\\\"nameSub\\\":\\\"Introduction to Entrepreneurial Thinking \\\",\\\"id\\\":14,\\\"credits\\\":2,\\\"nameCanonical\\\":\\\"\\\"}],\\\"id\\\":2},{\\\"name\\\":\\\"Term 3\\\",\\\"curriculum_items\\\":[{\\\"curriculum_requisites\\\":[{\\\"source_id\\\":13,\\\"target_id\\\":15,\\\"type\\\":\\\"CurriculumPrerequisite\\\"}],\\\"name\\\":\\\"MA  221\\\",\\\"metrics\\\":{\\\"centrality\\\":0,\\\"complexity\\\":3.0,\\\"blocking factor\\\":0,\\\"delay factor\\\":3.0},\\\"nameSub\\\":\\\"Differential Equations \\\",\\\"id\\\":15,\\\"credits\\\":4,\\\"nameCanonical\\\":\\\"\\\"},{\\\"curriculum_requisites\\\":[{\\\"source_id\\\":10,\\\"target_id\\\":16,\\\"type\\\":\\\"CurriculumPrerequisite\\\"},{\\\"source_id\\\":8,\\\"target_id\\\":16,\\\"type\\\":\\\"CurriculumPrerequisite\\\"}],\\\"name\\\":\\\"PEP 112\\\",\\\"metrics\\\":{\\\"centrality\\\":11,\\\"complexity\\\":9.0,\\\"blocking factor\\\":3,\\\"delay factor\\\":6.0},\\\"nameSub\\\":\\\"Electricity and Magnetism \\\",\\\"id\\\":16,\\\"credits\\\":3,\\\"nameCanonical\\\":\\\"\\\"},{\\\"curriculum_requisites\\\":[{\\\"source_id\\\":10,\\\"target_id\\\":17,\\\"type\\\":\\\"CurriculumPrerequisite\\\"},{\\\"source_id\\\":8,\\\"target_id\\\":17,\\\"type\\\":\\\"CurriculumPrerequisite\\\"}],\\\"name\\\":\\\"E 126\\\",\\\"metrics\\\":{\\\"centrality\\\":20,\\\"complexity\\\":9.0,\\\"blocking factor\\\":3,\\\"delay factor\\\":6.0},\\\"nameSub\\\":\\\"Mechanics of Solids \\\",\\\"id\\\":17,\\\"credits\\\":4,\\\"nameCanonical\\\":\\\"\\\"},{\\\"curriculum_requisites\\\":[{\\\"source_id\\\":17,\\\"target_id\\\":18,\\\"type\\\":\\\"CurriculumCorequisite\\\"},{\\\"source_id\\\":11,\\\"target_id\\\":18,\\\"type\\\":\\\"CurriculumPrerequisite\\\"}],\\\"name\\\":\\\"E 231\\\",\\\"metrics\\\":{\\\"centrality\\\":42,\\\"complexity\\\":8.0,\\\"blocking factor\\\":2,\\\"delay factor\\\":6.0},\\\"nameSub\\\":\\\"Engineering Design III: Structural Performance and Failure \\\",\\\"id\\\":18,\\\"credits\\\":2,\\\"nameCanonical\\\":\\\"\\\"},{\\\"curriculum_requisites\\\":[{\\\"source_id\\\":13,\\\"target_id\\\":19,\\\"type\\\":\\\"CurriculumCorequisite\\\"},{\\\"source_id\\\":16,\\\"target_id\\\":19,\\\"type\\\":\\\"CurriculumCorequisite\\\"}],\\\"name\\\":\\\"E 245\\\",\\\"metrics\\\":{\\\"centrality\\\":16,\\\"complexity\\\":8.0,\\\"blocking factor\\\":2,\\\"delay factor\\\":6.0},\\\"nameSub\\\":\\\"Circuits and Systems \\\",\\\"id\\\":19,\\\"credits\\\":3,\\\"nameCanonical\\\":\\\"\\\"},{\\\"curriculum_requisites\\\":[],\\\"name\\\":\\\"HUM xxx\\\",\\\"metrics\\\":{\\\"centrality\\\":0,\\\"complexity\\\":1.0,\\\"blocking factor\\\":0,\\\"delay factor\\\":1.0},\\\"nameSub\\\":\\\"Humanities\\\",\\\"id\\\":20,\\\"credits\\\":3,\\\"nameCanonical\\\":\\\"\\\"}],\\\"id\\\":3},{\\\"name\\\":\\\"Term 4\\\",\\\"curriculum_items\\\":[{\\\"curriculum_requisites\\\":[{\\\"source_id\\\":19,\\\"target_id\\\":21,\\\"type\\\":\\\"CurriculumPrerequisite\\\"},{\\\"source_id\\\":18,\\\"target_id\\\":21,\\\"type\\\":\\\"CurriculumPrerequisite\\\"}],\\\"name\\\":\\\"E 232\\\",\\\"metrics\\\":{\\\"centrality\\\":39,\\\"complexity\\\":7.0,\\\"blocking factor\\\":1,\\\"delay factor\\\":6.0},\\\"nameSub\\\":\\\"Engineering Design IV: Systems with Analog Circuits \\\",\\\"id\\\":21,\\\"credits\\\":3,\\\"nameCanonical\\\":\\\"\\\"},{\\\"curriculum_requisites\\\":[{\\\"source_id\\\":10,\\\"target_id\\\":22,\\\"type\\\":\\\"CurriculumPrerequisite\\\"},{\\\"source_id\\\":8,\\\"target_id\\\":22,\\\"type\\\":\\\"CurriculumPrerequisite\\\"},{\\\"source_id\\\":1,\\\"target_id\\\":22,\\\"type\\\":\\\"CurriculumPrerequisite\\\"}],\\\"name\\\":\\\"E 234\\\",\\\"metrics\\\":{\\\"centrality\\\":0,\\\"complexity\\\":3.0,\\\"blocking factor\\\":0,\\\"delay factor\\\":3.0},\\\"nameSub\\\":\\\"Thermodynamics\\\",\\\"id\\\":22,\\\"credits\\\":3,\\\"nameCanonical\\\":\\\"\\\"},{\\\"curriculum_requisites\\\":[],\\\"name\\\":\\\" \\\",\\\"metrics\\\":{\\\"centrality\\\":0,\\\"complexity\\\":1.0,\\\"blocking factor\\\":0,\\\"delay factor\\\":1.0},\\\"nameSub\\\":\\\"Science Elective II\\\",\\\"id\\\":23,\\\"credits\\\":3,\\\"nameCanonical\\\":\\\"\\\"},{\\\"curriculum_requisites\\\":[],\\\"name\\\":\\\"MA  134\\\",\\\"metrics\\\":{\\\"centrality\\\":0,\\\"complexity\\\":7.0,\\\"blocking factor\\\":3,\\\"delay factor\\\":4.0},\\\"nameSub\\\":\\\"Discrete Math \\\",\\\"id\\\":24,\\\"credits\\\":3,\\\"nameCanonical\\\":\\\"\\\"},{\\\"curriculum_requisites\\\":[{\\\"source_id\\\":6,\\\"target_id\\\":25,\\\"type\\\":\\\"CurriculumPrerequisite\\\"}],\\\"name\\\":\\\"SSW 215\\\",\\\"metrics\\\":{\\\"centrality\\\":16,\\\"complexity\\\":8.0,\\\"blocking factor\\\":3,\\\"delay factor\\\":5.0},\\\"nameSub\\\":\\\"Individual Software Engineering\\\",\\\"id\\\":25,\\\"credits\\\":3,\\\"nameCanonical\\\":\\\"\\\"},{\\\"curriculum_requisites\\\":[],\\\"name\\\":\\\"HUM xxx\\\",\\\"metrics\\\":{\\\"centrality\\\":0,\\\"complexity\\\":1.0,\\\"blocking factor\\\":0,\\\"delay factor\\\":1.0},\\\"nameSub\\\":\\\"Humanities\\\",\\\"id\\\":26,\\\"credits\\\":3,\\\"nameCanonical\\\":\\\"\\\"}],\\\"id\\\":4},{\\\"name\\\":\\\"Term 5\\\",\\\"curriculum_items\\\":[{\\\"curriculum_requisites\\\":[{\\\"source_id\\\":30,\\\"target_id\\\":27,\\\"type\\\":\\\"CurriculumCorequisite\\\"}],\\\"name\\\":\\\"ISE 350\\\",\\\"metrics\\\":{\\\"centrality\\\":0,\\\"complexity\\\":4.0,\\\"blocking factor\\\":0,\\\"delay factor\\\":4.0},\\\"nameSub\\\":\\\"Logistics and Supply Chain Management\\\",\\\"id\\\":27,\\\"credits\\\":3,\\\"nameCanonical\\\":\\\"\\\"},{\\\"curriculum_requisites\\\":[{\\\"source_id\\\":29,\\\"target_id\\\":28,\\\"type\\\":\\\"CurriculumCorequisite\\\"}],\\\"name\\\":\\\"E 321\\\",\\\"metrics\\\":{\\\"centrality\\\":0,\\\"complexity\\\":4.0,\\\"blocking factor\\\":0,\\\"delay factor\\\":4.0},\\\"nameSub\\\":\\\"Engineering Design V: Materials Selection and Process Optimization \\\",\\\"id\\\":28,\\\"credits\\\":2,\\\"nameCanonical\\\":\\\"\\\"},{\\\"curriculum_requisites\\\":[{\\\"source_id\\\":1,\\\"target_id\\\":29,\\\"type\\\":\\\"CurriculumPrerequisite\\\"}],\\\"name\\\":\\\"E 344\\\",\\\"metrics\\\":{\\\"centrality\\\":4,\\\"complexity\\\":5.0,\\\"blocking factor\\\":1,\\\"delay factor\\\":4.0},\\\"nameSub\\\":\\\"Materials Processing\\\",\\\"id\\\":29,\\\"credits\\\":3,\\\"nameCanonical\\\":\\\"\\\"},{\\\"curriculum_requisites\\\":[{\\\"source_id\\\":13,\\\"target_id\\\":30,\\\"type\\\":\\\"CurriculumPrerequisite\\\"}],\\\"name\\\":\\\"E 243\\\",\\\"metrics\\\":{\\\"centrality\\\":4,\\\"complexity\\\":5.0,\\\"blocking factor\\\":1,\\\"delay factor\\\":4.0},\\\"nameSub\\\":\\\"Probability & Statistics For Engineers\\\",\\\"id\\\":30,\\\"credits\\\":3,\\\"nameCanonical\\\":\\\"Probability & Statistics\\\"},{\\\"curriculum_requisites\\\":[{\\\"source_id\\\":25,\\\"target_id\\\":31,\\\"type\\\":\\\"CurriculumPrerequisite\\\"}],\\\"name\\\":\\\"SSW 315\\\",\\\"metrics\\\":{\\\"centrality\\\":9,\\\"complexity\\\":7.0,\\\"blocking factor\\\":2,\\\"delay factor\\\":5.0},\\\"nameSub\\\":\\\"Object Based Software Development5 \\\",\\\"id\\\":31,\\\"credits\\\":3,\\\"nameCanonical\\\":\\\"\\\"},{\\\"curriculum_requisites\\\":[],\\\"name\\\":\\\"HUM xxx\\\",\\\"metrics\\\":{\\\"centrality\\\":0,\\\"complexity\\\":1.0,\\\"blocking factor\\\":0,\\\"delay factor\\\":1.0},\\\"nameSub\\\":\\\"Humanities\\\",\\\"id\\\":32,\\\"credits\\\":3,\\\"nameCanonical\\\":\\\"\\\"}],\\\"id\\\":5},{\\\"name\\\":\\\"Term 6\\\",\\\"curriculum_items\\\":[{\\\"curriculum_requisites\\\":[{\\\"source_id\\\":11,\\\"target_id\\\":33,\\\"type\\\":\\\"CurriculumPrerequisite\\\"},{\\\"source_id\\\":5,\\\"target_id\\\":33,\\\"type\\\":\\\"CurriculumPrerequisite\\\"},{\\\"source_id\\\":21,\\\"target_id\\\":33,\\\"type\\\":\\\"CurriculumPrerequisite\\\"},{\\\"source_id\\\":18,\\\"target_id\\\":33,\\\"type\\\":\\\"CurriculumPrerequisite\\\"}],\\\"name\\\":\\\"E 355\\\",\\\"metrics\\\":{\\\"centrality\\\":0,\\\"complexity\\\":6.0,\\\"blocking factor\\\":0,\\\"delay factor\\\":6.0},\\\"nameSub\\\":\\\"Engineering Economics\\\",\\\"id\\\":33,\\\"credits\\\":4,\\\"nameCanonical\\\":\\\"\\\"},{\\\"curriculum_requisites\\\":[{\\\"source_id\\\":24,\\\"target_id\\\":34,\\\"type\\\":\\\"CurriculumPrerequisite\\\"}],\\\"name\\\":\\\"SSW 345\\\",\\\"metrics\\\":{\\\"centrality\\\":7,\\\"complexity\\\":6.0,\\\"blocking factor\\\":2,\\\"delay factor\\\":4.0},\\\"nameSub\\\":\\\"Model-Based Software Engineering\\\",\\\"id\\\":34,\\\"credits\\\":3,\\\"nameCanonical\\\":\\\"\\\"},{\\\"curriculum_requisites\\\":[],\\\"name\\\":\\\"SSW 322\\\",\\\"metrics\\\":{\\\"centrality\\\":0,\\\"complexity\\\":5.0,\\\"blocking factor\\\":2,\\\"delay factor\\\":3.0},\\\"nameSub\\\":\\\"Software Design Evolution\\\",\\\"id\\\":35,\\\"credits\\\":3,\\\"nameCanonical\\\":\\\"\\\"},{\\\"curriculum_requisites\\\":[],\\\"name\\\":\\\"SSW 564\\\",\\\"metrics\\\":{\\\"centrality\\\":0,\\\"complexity\\\":1.0,\\\"blocking factor\\\":0,\\\"delay factor\\\":1.0},\\\"nameSub\\\":\\\"Software Requirements Engineering\\\",\\\"id\\\":36,\\\"credits\\\":3,\\\"nameCanonical\\\":\\\"\\\"},{\\\"curriculum_requisites\\\":[],\\\"name\\\":\\\" \\\",\\\"metrics\\\":{\\\"centrality\\\":0,\\\"complexity\\\":1.0,\\\"blocking factor\\\":0,\\\"delay factor\\\":1.0},\\\"nameSub\\\":\\\"General Elective \\\",\\\"id\\\":37,\\\"credits\\\":3,\\\"nameCanonical\\\":\\\"\\\"},{\\\"curriculum_requisites\\\":[],\\\"name\\\":\\\" \\\",\\\"metrics\\\":{\\\"centrality\\\":0,\\\"complexity\\\":1.0,\\\"blocking factor\\\":0,\\\"delay factor\\\":1.0},\\\"nameSub\\\":\\\"Domain Elective \\\",\\\"id\\\":38,\\\"credits\\\":3,\\\"nameCanonical\\\":\\\"\\\"},{\\\"curriculum_requisites\\\":[{\\\"source_id\\\":14,\\\"target_id\\\":39,\\\"type\\\":\\\"CurriculumPrerequisite\\\"}],\\\"name\\\":\\\"IDE 400\\\",\\\"metrics\\\":{\\\"centrality\\\":4,\\\"complexity\\\":6.0,\\\"blocking factor\\\":2,\\\"delay factor\\\":4.0},\\\"nameSub\\\":\\\"Senior Innovation I\\\",\\\"id\\\":39,\\\"credits\\\":1,\\\"nameCanonical\\\":\\\"\\\"}],\\\"id\\\":6},{\\\"name\\\":\\\"Term 7\\\",\\\"curriculum_items\\\":[{\\\"curriculum_requisites\\\":[],\\\"name\\\":\\\" \\\",\\\"metrics\\\":{\\\"centrality\\\":0,\\\"complexity\\\":1.0,\\\"blocking factor\\\":0,\\\"delay factor\\\":1.0},\\\"nameSub\\\":\\\"General Elective \\\",\\\"id\\\":40,\\\"credits\\\":3,\\\"nameCanonical\\\":\\\"\\\"},{\\\"curriculum_requisites\\\":[],\\\"name\\\":\\\"SSW 555\\\",\\\"metrics\\\":{\\\"centrality\\\":0,\\\"complexity\\\":1.0,\\\"blocking factor\\\":0,\\\"delay factor\\\":1.0},\\\"nameSub\\\":\\\"Agile Methods for Software Development\\\",\\\"id\\\":41,\\\"credits\\\":3,\\\"nameCanonical\\\":\\\"\\\"},{\\\"curriculum_requisites\\\":[],\\\"name\\\":\\\"SSW 533\\\",\\\"metrics\\\":{\\\"centrality\\\":0,\\\"complexity\\\":1.0,\\\"blocking factor\\\":0,\\\"delay factor\\\":1.0},\\\"nameSub\\\":\\\"Software Estimation and Metrics\\\",\\\"id\\\":42,\\\"credits\\\":3,\\\"nameCanonical\\\":\\\"\\\"},{\\\"curriculum_requisites\\\":[],\\\"name\\\":\\\" \\\",\\\"metrics\\\":{\\\"centrality\\\":0,\\\"complexity\\\":1.0,\\\"blocking factor\\\":0,\\\"delay factor\\\":1.0},\\\"nameSub\\\":\\\"Domain Elective \\\",\\\"id\\\":43,\\\"credits\\\":3,\\\"nameCanonical\\\":\\\"\\\"},{\\\"curriculum_requisites\\\":[{\\\"source_id\\\":25,\\\"target_id\\\":44,\\\"type\\\":\\\"CurriculumPrerequisite\\\"},{\\\"source_id\\\":31,\\\"target_id\\\":44,\\\"type\\\":\\\"CurriculumPrerequisite\\\"},{\\\"source_id\\\":34,\\\"target_id\\\":44,\\\"type\\\":\\\"CurriculumPrerequisite\\\"},{\\\"source_id\\\":35,\\\"target_id\\\":44,\\\"type\\\":\\\"CurriculumPrerequisite\\\"}],\\\"name\\\":\\\"SSW 423\\\",\\\"metrics\\\":{\\\"centrality\\\":16,\\\"complexity\\\":6.0,\\\"blocking factor\\\":1,\\\"delay factor\\\":5.0},\\\"nameSub\\\":\\\"Engineering Design VII\\\",\\\"id\\\":44,\\\"credits\\\":3,\\\"nameCanonical\\\":\\\"\\\"},{\\\"curriculum_requisites\\\":[{\\\"source_id\\\":39,\\\"target_id\\\":45,\\\"type\\\":\\\"CurriculumPrerequisite\\\"}],\\\"name\\\":\\\"IDE 401\\\",\\\"metrics\\\":{\\\"centrality\\\":4,\\\"complexity\\\":5.0,\\\"blocking factor\\\":1,\\\"delay factor\\\":4.0},\\\"nameSub\\\":\\\"Senior Innovation II \\\",\\\"id\\\":45,\\\"credits\\\":1,\\\"nameCanonical\\\":\\\"\\\"}],\\\"id\\\":7},{\\\"name\\\":\\\"Term 8\\\",\\\"curriculum_items\\\":[{\\\"curriculum_requisites\\\":[],\\\"name\\\":\\\"SSW 567\\\",\\\"metrics\\\":{\\\"centrality\\\":0,\\\"complexity\\\":1.0,\\\"blocking factor\\\":0,\\\"delay factor\\\":1.0},\\\"nameSub\\\":\\\"Software Testing and Quality Assurance\\\",\\\"id\\\":46,\\\"credits\\\":3,\\\"nameCanonical\\\":\\\"\\\"},{\\\"curriculum_requisites\\\":[],\\\"name\\\":\\\"SYS 581\\\",\\\"metrics\\\":{\\\"centrality\\\":0,\\\"complexity\\\":1.0,\\\"blocking factor\\\":0,\\\"delay factor\\\":1.0},\\\"nameSub\\\":\\\"Introduction to Systems Engineering\\\",\\\"id\\\":47,\\\"credits\\\":3,\\\"nameCanonical\\\":\\\"\\\"},{\\\"curriculum_requisites\\\":[],\\\"name\\\":\\\" \\\",\\\"metrics\\\":{\\\"centrality\\\":0,\\\"complexity\\\":1.0,\\\"blocking factor\\\":0,\\\"delay factor\\\":1.0},\\\"nameSub\\\":\\\"Introduction to Systems Engineering\\\",\\\"id\\\":48,\\\"credits\\\":3,\\\"nameCanonical\\\":\\\"\\\"},{\\\"curriculum_requisites\\\":[{\\\"source_id\\\":25,\\\"target_id\\\":49,\\\"type\\\":\\\"CurriculumPrerequisite\\\"},{\\\"source_id\\\":31,\\\"target_id\\\":49,\\\"type\\\":\\\"CurriculumPrerequisite\\\"},{\\\"source_id\\\":34,\\\"target_id\\\":49,\\\"type\\\":\\\"CurriculumPrerequisite\\\"},{\\\"source_id\\\":35,\\\"target_id\\\":49,\\\"type\\\":\\\"CurriculumPrerequisite\\\"},{\\\"source_id\\\":44,\\\"target_id\\\":49,\\\"type\\\":\\\"CurriculumPrerequisite\\\"}],\\\"name\\\":\\\"SSW 424\\\",\\\"metrics\\\":{\\\"centrality\\\":0,\\\"complexity\\\":5.0,\\\"blocking factor\\\":0,\\\"delay factor\\\":5.0},\\\"nameSub\\\":\\\"Engineering Design VIII\\\",\\\"id\\\":49,\\\"credits\\\":3,\\\"nameCanonical\\\":\\\"\\\"},{\\\"curriculum_requisites\\\":[],\\\"name\\\":\\\"HUM xxx\\\",\\\"metrics\\\":{\\\"centrality\\\":0,\\\"complexity\\\":1.0,\\\"blocking factor\\\":0,\\\"delay factor\\\":1.0},\\\"nameSub\\\":\\\"Humanities\\\",\\\"id\\\":50,\\\"credits\\\":3,\\\"nameCanonical\\\":\\\"\\\"},{\\\"curriculum_requisites\\\":[{\\\"source_id\\\":45,\\\"target_id\\\":51,\\\"type\\\":\\\"CurriculumPrerequisite\\\"}],\\\"name\\\":\\\"IDE 402\\\",\\\"metrics\\\":{\\\"centrality\\\":0,\\\"complexity\\\":4.0,\\\"blocking factor\\\":0,\\\"delay factor\\\":4.0},\\\"nameSub\\\":\\\"Senior Innovation III \\\",\\\"id\\\":51,\\\"credits\\\":1,\\\"nameCanonical\\\":\\\"\\\"}],\\\"id\\\":8}],\\\"institution\\\":\\\"Stevens Institute of Technology\\\"}},\\\"*\\\"); window.removeEventListener(\\\"message\\\",window.messageReceived); window.messageReceived=(function (event){return (event.data.curriculum!==undefined) ? (WebIO.setval({\\\"name\\\":\\\"curriculum-data\\\",\\\"scope\\\":\\\"12006268964555825939\\\",\\\"id\\\":\\\"5250591599569994742\\\",\\\"type\\\":\\\"observable\\\"},event.data.curriculum)) : undefined}); return window.addEventListener(\\\"message\\\",window.messageReceived)})\")),:style => Dict(:padding => \"0\",:height => \"100vh\",:margin => \"0\",:border => \"none\",:width => \"100%\"))), Dict{String,Tuple{Observables.AbstractObservable,Union{Nothing, Bool}}}(\"curriculum-data\" => (Observable{Dict{String,Any}} with 1 listeners. Value:\n",
       "Dict{String,Any}(\"options\" => Dict{String,Any}(\"hideTerms\" => false,\"edit\" => false),\"curriculum\" => Dict{String,Any}(\"name\" => \"Software Engineering\",\"dp_name\" => \"2020-21 Degree Plan\",\"curriculum_terms\" => Dict{String,Any}[Dict(\"name\" => \"Term 1\",\"curriculum_items\" => Dict{String,Any}[Dict(\"curriculum_requisites\" => Dict{String,Any}[Dict(\"source_id\" => 2,\"target_id\" => 1,\"type\" => \"CurriculumStrictCorequisite\")],\"name\" => \"CH 115\",\"metrics\" => Dict{String,Any}(\"centrality\" => 7,\"complexity\" => 7.0,\"blocking factor\" => 3,\"delay factor\" => 4.0),\"nameSub\" => \"General Chemistry I \",\"id\" => 1,\"credits\" => 3,\"nameCanonical\" => \"Chemistry I\"), Dict(\"curriculum_requisites\" => Dict{String,Any}[],\"name\" => \"CH 117\",\"metrics\" => Dict{String,Any}(\"centrality\" => 0,\"complexity\" => 8.0,\"blocking factor\" => 4,\"delay factor\" => 4.0),\"nameSub\" => \"General Chemistry Laboratory I \",\"id\" => 2,\"credits\" => 1,\"nameCanonical\" => \"Chemistry I Lab\"), Dict(\"curriculum_requisites\" => Dict{String,Any}[],\"name\" => \"E 101\",\"metrics\" => Dict{String,Any}(\"centrality\" => 0,\"complexity\" => 1.0,\"blocking factor\" => 0,\"delay factor\" => 1.0),\"nameSub\" => \"Engineering Experience I \",\"id\" => 3,\"credits\" => 1,\"nameCanonical\" => \"\"), Dict(\"curriculum_requisites\" => Dict{String,Any}[],\"name\" => \"E 120\",\"metrics\" => Dict{String,Any}(\"centrality\" => 0,\"complexity\" => 11.0,\"blocking factor\" => 5,\"delay factor\" => 6.0),\"nameSub\" => \"Engineering Graphics \",\"id\" => 4,\"credits\" => 1,\"nameCanonical\" => \"\"), Dict(\"curriculum_requisites\" => Dict{String,Any}[Dict(\"source_id\" => 4,\"target_id\" => 5,\"type\" => \"CurriculumCorequisite\"), Dict(\"source_id\" => 6,\"target_id\" => 5,\"type\" => \"CurriculumCorequisite\")],\"name\" => \"E 121\",\"metrics\" => Dict{String,Any}(\"centrality\" => 36,\"complexity\" => 10.0,\"blocking factor\" => 4,\"delay factor\" => 6.0),\"nameSub\" => \"Engineering Design I: Introduction to Systems Thinking \",\"id\" => 5,\"credits\" => 2,\"nameCanonical\" => \"\"), Dict(\"curriculum_requisites\" => Dict{String,Any}[],\"name\" => \"E 115\",\"metrics\" => Dict{String,Any}(\"centrality\" => 0,\"complexity\" => 15.0,\"blocking factor\" => 9,\"delay factor\" => 6.0),\"nameSub\" => \"Introduction to Programming \",\"id\" => 6,\"credits\" => 2,\"nameCanonical\" => \"Programming I\"), Dict(\"curriculum_requisites\" => Dict{String,Any}[],\"name\" => \"CAL 103\",\"metrics\" => Dict{String,Any}(\"centrality\" => 0,\"complexity\" => 1.0,\"blocking factor\" => 0,\"delay factor\" => 1.0),\"nameSub\" => \"Writing And Communications Colloquium \",\"id\" => 7,\"credits\" => 3,\"nameCanonical\" => \"\"), Dict(\"curriculum_requisites\" => Dict{String,Any}[],\"name\" => \"MA  121;122\",\"metrics\" => Dict{String,Any}(\"centrality\" => 0,\"complexity\" => 18.0,\"blocking factor\" => 12,\"delay factor\" => 6.0),\"nameSub\" => \"Differential Calculus; Integral Calculus \",\"id\" => 8,\"credits\" => 4,\"nameCanonical\" => \"\")],\"id\" => 1), Dict(\"name\" => \"Term 2\",\"curriculum_items\" => Dict{String,Any}[Dict(\"curriculum_requisites\" => Dict{String,Any}[],\"name\" => \" \",\"metrics\" => Dict{String,Any}(\"centrality\" => 0,\"complexity\" => 1.0,\"blocking factor\" => 0,\"delay factor\" => 1.0),\"nameSub\" => \"Science Elective\",\"id\" => 9,\"credits\" => 3,\"nameCanonical\" => \"\"), Dict(\"curriculum_requisites\" => Dict{String,Any}[Dict(\"source_id\" => 8,\"target_id\" => 10,\"type\" => \"CurriculumCorequisite\")],\"name\" => \"PEP 111\",\"metrics\" => Dict{String,Any}(\"centrality\" => 20,\"complexity\" => 13.0,\"blocking factor\" => 7,\"delay factor\" => 6.0),\"nameSub\" => \"Mechanics\",\"id\" => 10,\"credits\" => 3,\"nameCanonical\" => \"\"), Dict(\"curriculum_requisites\" => Dict{String,Any}[Dict(\"source_id\" => 5,\"target_id\" => 11,\"type\" => \"CurriculumPrerequisite\")],\"name\" => \"E 122\",\"metrics\" => Dict{String,Any}(\"centrality\" => 30,\"complexity\" => 9.0,\"blocking factor\" => 3,\"delay factor\" => 6.0),\"nameSub\" => \"Engineering Design II: Field Sustainable Systems with Sensors \",\"id\" => 11,\"credits\" => 2,\"nameCanonical\" => \"\"), Dict(\"curriculum_requisites\" => Dict{String,Any}[],\"name\" => \"CAL 105\",\"metrics\" => Dict{String,Any}(\"centrality\" => 0,\"complexity\" => 1.0,\"blocking factor\" => 0,\"delay factor\" => 1.0),\"nameSub\" => \"CAL Colloquium: Knowledge, Nature, Culture\",\"id\" => 12,\"credits\" => 3,\"nameCanonical\" => \"\"), Dict(\"curriculum_requisites\" => Dict{String,Any}[Dict(\"source_id\" => 8,\"target_id\" => 13,\"type\" => \"CurriculumPrerequisite\")],\"name\" => \"MA  123;124\",\"metrics\" => Dict{String,Any}(\"centrality\" => 12,\"complexity\" => 11.0,\"blocking factor\" => 6,\"delay factor\" => 5.0),\"nameSub\" => \"Series, Vectors, Functions, and Surfaces; Calculus of Two Variables\",\"id\" => 13,\"credits\" => 4,\"nameCanonical\" => \"\"), Dict(\"curriculum_requisites\" => Dict{String,Any}[],\"name\" => \"MGT 103\",\"metrics\" => Dict{String,Any}(\"centrality\" => 0,\"complexity\" => 7.0,\"blocking factor\" => 3,\"delay factor\" => 4.0),\"nameSub\" => \"Introduction to Entrepreneurial Thinking \",\"id\" => 14,\"credits\" => 2,\"nameCanonical\" => \"\")],\"id\" => 2), Dict(\"name\" => \"Term 3\",\"curriculum_items\" => Dict{String,Any}[Dict(\"curriculum_requisites\" => Dict{String,Any}[Dict(\"source_id\" => 13,\"target_id\" => 15,\"type\" => \"CurriculumPrerequisite\")],\"name\" => \"MA  221\",\"metrics\" => Dict{String,Any}(\"centrality\" => 0,\"complexity\" => 3.0,\"blocking factor\" => 0,\"delay factor\" => 3.0),\"nameSub\" => \"Differential Equations \",\"id\" => 15,\"credits\" => 4,\"nameCanonical\" => \"\"), Dict(\"curriculum_requisites\" => Dict{String,Any}[Dict(\"source_id\" => 10,\"target_id\" => 16,\"type\" => \"CurriculumPrerequisite\"), Dict(\"source_id\" => 8,\"target_id\" => 16,\"type\" => \"CurriculumPrerequisite\")],\"name\" => \"PEP 112\",\"metrics\" => Dict{String,Any}(\"centrality\" => 11,\"complexity\" => 9.0,\"blocking factor\" => 3,\"delay factor\" => 6.0),\"nameSub\" => \"Electricity and Magnetism \",\"id\" => 16,\"credits\" => 3,\"nameCanonical\" => \"\"), Dict(\"curriculum_requisites\" => Dict{String,Any}[Dict(\"source_id\" => 10,\"target_id\" => 17,\"type\" => \"CurriculumPrerequisite\"), Dict(\"source_id\" => 8,\"target_id\" => 17,\"type\" => \"CurriculumPrerequisite\")],\"name\" => \"E 126\",\"metrics\" => Dict{String,Any}(\"centrality\" => 20,\"complexity\" => 9.0,\"blocking factor\" => 3,\"delay factor\" => 6.0),\"nameSub\" => \"Mechanics of Solids \",\"id\" => 17,\"credits\" => 4,\"nameCanonical\" => \"\"), Dict(\"curriculum_requisites\" => Dict{String,Any}[Dict(\"source_id\" => 17,\"target_id\" => 18,\"type\" => \"CurriculumCorequisite\"), Dict(\"source_id\" => 11,\"target_id\" => 18,\"type\" => \"CurriculumPrerequisite\")],\"name\" => \"E 231\",\"metrics\" => Dict{String,Any}(\"centrality\" => 42,\"complexity\" => 8.0,\"blocking factor\" => 2,\"delay factor\" => 6.0),\"nameSub\" => \"Engineering Design III: Structural Performance and Failure \",\"id\" => 18,\"credits\" => 2,\"nameCanonical\" => \"\"), Dict(\"curriculum_requisites\" => Dict{String,Any}[Dict(\"source_id\" => 13,\"target_id\" => 19,\"type\" => \"CurriculumCorequisite\"), Dict(\"source_id\" => 16,\"target_id\" => 19,\"type\" => \"CurriculumCorequisite\")],\"name\" => \"E 245\",\"metrics\" => Dict{String,Any}(\"centrality\" => 16,\"complexity\" => 8.0,\"blocking factor\" => 2,\"delay factor\" => 6.0),\"nameSub\" => \"Circuits and Systems \",\"id\" => 19,\"credits\" => 3,\"nameCanonical\" => \"\"), Dict(\"curriculum_requisites\" => Dict{String,Any}[],\"name\" => \"HUM xxx\",\"metrics\" => Dict{String,Any}(\"centrality\" => 0,\"complexity\" => 1.0,\"blocking factor\" => 0,\"delay factor\" => 1.0),\"nameSub\" => \"Humanities\",\"id\" => 20,\"credits\" => 3,\"nameCanonical\" => \"\")],\"id\" => 3), Dict(\"name\" => \"Term 4\",\"curriculum_items\" => Dict{String,Any}[Dict(\"curriculum_requisites\" => Dict{String,Any}[Dict(\"source_id\" => 19,\"target_id\" => 21,\"type\" => \"CurriculumPrerequisite\"), Dict(\"source_id\" => 18,\"target_id\" => 21,\"type\" => \"CurriculumPrerequisite\")],\"name\" => \"E 232\",\"metrics\" => Dict{String,Any}(\"centrality\" => 39,\"complexity\" => 7.0,\"blocking factor\" => 1,\"delay factor\" => 6.0),\"nameSub\" => \"Engineering Design IV: Systems with Analog Circuits \",\"id\" => 21,\"credits\" => 3,\"nameCanonical\" => \"\"), Dict(\"curriculum_requisites\" => Dict{String,Any}[Dict(\"source_id\" => 10,\"target_id\" => 22,\"type\" => \"CurriculumPrerequisite\"), Dict(\"source_id\" => 8,\"target_id\" => 22,\"type\" => \"CurriculumPrerequisite\"), Dict(\"source_id\" => 1,\"target_id\" => 22,\"type\" => \"CurriculumPrerequisite\")],\"name\" => \"E 234\",\"metrics\" => Dict{String,Any}(\"centrality\" => 0,\"complexity\" => 3.0,\"blocking factor\" => 0,\"delay factor\" => 3.0),\"nameSub\" => \"Thermodynamics\",\"id\" => 22,\"credits\" => 3,\"nameCanonical\" => \"\"), Dict(\"curriculum_requisites\" => Dict{String,Any}[],\"name\" => \" \",\"metrics\" => Dict{String,Any}(\"centrality\" => 0,\"complexity\" => 1.0,\"blocking factor\" => 0,\"delay factor\" => 1.0),\"nameSub\" => \"Science Elective II\",\"id\" => 23,\"credits\" => 3,\"nameCanonical\" => \"\"), Dict(\"curriculum_requisites\" => Dict{String,Any}[],\"name\" => \"MA  134\",\"metrics\" => Dict{String,Any}(\"centrality\" => 0,\"complexity\" => 7.0,\"blocking factor\" => 3,\"delay factor\" => 4.0),\"nameSub\" => \"Discrete Math \",\"id\" => 24,\"credits\" => 3,\"nameCanonical\" => \"\"), Dict(\"curriculum_requisites\" => Dict{String,Any}[Dict(\"source_id\" => 6,\"target_id\" => 25,\"type\" => \"CurriculumPrerequisite\")],\"name\" => \"SSW 215\",\"metrics\" => Dict{String,Any}(\"centrality\" => 16,\"complexity\" => 8.0,\"blocking factor\" => 3,\"delay factor\" => 5.0),\"nameSub\" => \"Individual Software Engineering\",\"id\" => 25,\"credits\" => 3,\"nameCanonical\" => \"\"), Dict(\"curriculum_requisites\" => Dict{String,Any}[],\"name\" => \"HUM xxx\",\"metrics\" => Dict{String,Any}(\"centrality\" => 0,\"complexity\" => 1.0,\"blocking factor\" => 0,\"delay factor\" => 1.0),\"nameSub\" => \"Humanities\",\"id\" => 26,\"credits\" => 3,\"nameCanonical\" => \"\")],\"id\" => 4), Dict(\"name\" => \"Term 5\",\"curriculum_items\" => Dict{String,Any}[Dict(\"curriculum_requisites\" => Dict{String,Any}[Dict(\"source_id\" => 30,\"target_id\" => 27,\"type\" => \"CurriculumCorequisite\")],\"name\" => \"ISE 350\",\"metrics\" => Dict{String,Any}(\"centrality\" => 0,\"complexity\" => 4.0,\"blocking factor\" => 0,\"delay factor\" => 4.0),\"nameSub\" => \"Logistics and Supply Chain Management\",\"id\" => 27,\"credits\" => 3,\"nameCanonical\" => \"\"), Dict(\"curriculum_requisites\" => Dict{String,Any}[Dict(\"source_id\" => 29,\"target_id\" => 28,\"type\" => \"CurriculumCorequisite\")],\"name\" => \"E 321\",\"metrics\" => Dict{String,Any}(\"centrality\" => 0,\"complexity\" => 4.0,\"blocking factor\" => 0,\"delay factor\" => 4.0),\"nameSub\" => \"Engineering Design V: Materials Selection and Process Optimization \",\"id\" => 28,\"credits\" => 2,\"nameCanonical\" => \"\"), Dict(\"curriculum_requisites\" => Dict{String,Any}[Dict(\"source_id\" => 1,\"target_id\" => 29,\"type\" => \"CurriculumPrerequisite\")],\"name\" => \"E 344\",\"metrics\" => Dict{String,Any}(\"centrality\" => 4,\"complexity\" => 5.0,\"blocking factor\" => 1,\"delay factor\" => 4.0),\"nameSub\" => \"Materials Processing\",\"id\" => 29,\"credits\" => 3,\"nameCanonical\" => \"\"), Dict(\"curriculum_requisites\" => Dict{String,Any}[Dict(\"source_id\" => 13,\"target_id\" => 30,\"type\" => \"CurriculumPrerequisite\")],\"name\" => \"E 243\",\"metrics\" => Dict{String,Any}(\"centrality\" => 4,\"complexity\" => 5.0,\"blocking factor\" => 1,\"delay factor\" => 4.0),\"nameSub\" => \"Probability & Statistics For Engineers\",\"id\" => 30,\"credits\" => 3,\"nameCanonical\" => \"Probability & Statistics\"), Dict(\"curriculum_requisites\" => Dict{String,Any}[Dict(\"source_id\" => 25,\"target_id\" => 31,\"type\" => \"CurriculumPrerequisite\")],\"name\" => \"SSW 315\",\"metrics\" => Dict{String,Any}(\"centrality\" => 9,\"complexity\" => 7.0,\"blocking factor\" => 2,\"delay factor\" => 5.0),\"nameSub\" => \"Object Based Software Development5 \",\"id\" => 31,\"credits\" => 3,\"nameCanonical\" => \"\"), Dict(\"curriculum_requisites\" => Dict{String,Any}[],\"name\" => \"HUM xxx\",\"metrics\" => Dict{String,Any}(\"centrality\" => 0,\"complexity\" => 1.0,\"blocking factor\" => 0,\"delay factor\" => 1.0),\"nameSub\" => \"Humanities\",\"id\" => 32,\"credits\" => 3,\"nameCanonical\" => \"\")],\"id\" => 5), Dict(\"name\" => \"Term 6\",\"curriculum_items\" => Dict{String,Any}[Dict(\"curriculum_requisites\" => Dict{String,Any}[Dict(\"source_id\" => 11,\"target_id\" => 33,\"type\" => \"CurriculumPrerequisite\"), Dict(\"source_id\" => 5,\"target_id\" => 33,\"type\" => \"CurriculumPrerequisite\"), Dict(\"source_id\" => 21,\"target_id\" => 33,\"type\" => \"CurriculumPrerequisite\"), Dict(\"source_id\" => 18,\"target_id\" => 33,\"type\" => \"CurriculumPrerequisite\")],\"name\" => \"E 355\",\"metrics\" => Dict{String,Any}(\"centrality\" => 0,\"complexity\" => 6.0,\"blocking factor\" => 0,\"delay factor\" => 6.0),\"nameSub\" => \"Engineering Economics\",\"id\" => 33,\"credits\" => 4,\"nameCanonical\" => \"\"), Dict(\"curriculum_requisites\" => Dict{String,Any}[Dict(\"source_id\" => 24,\"target_id\" => 34,\"type\" => \"CurriculumPrerequisite\")],\"name\" => \"SSW 345\",\"metrics\" => Dict{String,Any}(\"centrality\" => 7,\"complexity\" => 6.0,\"blocking factor\" => 2,\"delay factor\" => 4.0),\"nameSub\" => \"Model-Based Software Engineering\",\"id\" => 34,\"credits\" => 3,\"nameCanonical\" => \"\"), Dict(\"curriculum_requisites\" => Dict{String,Any}[],\"name\" => \"SSW 322\",\"metrics\" => Dict{String,Any}(\"centrality\" => 0,\"complexity\" => 5.0,\"blocking factor\" => 2,\"delay factor\" => 3.0),\"nameSub\" => \"Software Design Evolution\",\"id\" => 35,\"credits\" => 3,\"nameCanonical\" => \"\"), Dict(\"curriculum_requisites\" => Dict{String,Any}[],\"name\" => \"SSW 564\",\"metrics\" => Dict{String,Any}(\"centrality\" => 0,\"complexity\" => 1.0,\"blocking factor\" => 0,\"delay factor\" => 1.0),\"nameSub\" => \"Software Requirements Engineering\",\"id\" => 36,\"credits\" => 3,\"nameCanonical\" => \"\"), Dict(\"curriculum_requisites\" => Dict{String,Any}[],\"name\" => \" \",\"metrics\" => Dict{String,Any}(\"centrality\" => 0,\"complexity\" => 1.0,\"blocking factor\" => 0,\"delay factor\" => 1.0),\"nameSub\" => \"General Elective \",\"id\" => 37,\"credits\" => 3,\"nameCanonical\" => \"\"), Dict(\"curriculum_requisites\" => Dict{String,Any}[],\"name\" => \" \",\"metrics\" => Dict{String,Any}(\"centrality\" => 0,\"complexity\" => 1.0,\"blocking factor\" => 0,\"delay factor\" => 1.0),\"nameSub\" => \"Domain Elective \",\"id\" => 38,\"credits\" => 3,\"nameCanonical\" => \"\"), Dict(\"curriculum_requisites\" => Dict{String,Any}[Dict(\"source_id\" => 14,\"target_id\" => 39,\"type\" => \"CurriculumPrerequisite\")],\"name\" => \"IDE 400\",\"metrics\" => Dict{String,Any}(\"centrality\" => 4,\"complexity\" => 6.0,\"blocking factor\" => 2,\"delay factor\" => 4.0),\"nameSub\" => \"Senior Innovation I\",\"id\" => 39,\"credits\" => 1,\"nameCanonical\" => \"\")],\"id\" => 6), Dict(\"name\" => \"Term 7\",\"curriculum_items\" => Dict{String,Any}[Dict(\"curriculum_requisites\" => Dict{String,Any}[],\"name\" => \" \",\"metrics\" => Dict{String,Any}(\"centrality\" => 0,\"complexity\" => 1.0,\"blocking factor\" => 0,\"delay factor\" => 1.0),\"nameSub\" => \"General Elective \",\"id\" => 40,\"credits\" => 3,\"nameCanonical\" => \"\"), Dict(\"curriculum_requisites\" => Dict{String,Any}[],\"name\" => \"SSW 555\",\"metrics\" => Dict{String,Any}(\"centrality\" => 0,\"complexity\" => 1.0,\"blocking factor\" => 0,\"delay factor\" => 1.0),\"nameSub\" => \"Agile Methods for Software Development\",\"id\" => 41,\"credits\" => 3,\"nameCanonical\" => \"\"), Dict(\"curriculum_requisites\" => Dict{String,Any}[],\"name\" => \"SSW 533\",\"metrics\" => Dict{String,Any}(\"centrality\" => 0,\"complexity\" => 1.0,\"blocking factor\" => 0,\"delay factor\" => 1.0),\"nameSub\" => \"Software Estimation and Metrics\",\"id\" => 42,\"credits\" => 3,\"nameCanonical\" => \"\"), Dict(\"curriculum_requisites\" => Dict{String,Any}[],\"name\" => \" \",\"metrics\" => Dict{String,Any}(\"centrality\" => 0,\"complexity\" => 1.0,\"blocking factor\" => 0,\"delay factor\" => 1.0),\"nameSub\" => \"Domain Elective \",\"id\" => 43,\"credits\" => 3,\"nameCanonical\" => \"\"), Dict(\"curriculum_requisites\" => Dict{String,Any}[Dict(\"source_id\" => 25,\"target_id\" => 44,\"type\" => \"CurriculumPrerequisite\"), Dict(\"source_id\" => 31,\"target_id\" => 44,\"type\" => \"CurriculumPrerequisite\"), Dict(\"source_id\" => 34,\"target_id\" => 44,\"type\" => \"CurriculumPrerequisite\"), Dict(\"source_id\" => 35,\"target_id\" => 44,\"type\" => \"CurriculumPrerequisite\")],\"name\" => \"SSW 423\",\"metrics\" => Dict{String,Any}(\"centrality\" => 16,\"complexity\" => 6.0,\"blocking factor\" => 1,\"delay factor\" => 5.0),\"nameSub\" => \"Engineering Design VII\",\"id\" => 44,\"credits\" => 3,\"nameCanonical\" => \"\"), Dict(\"curriculum_requisites\" => Dict{String,Any}[Dict(\"source_id\" => 39,\"target_id\" => 45,\"type\" => \"CurriculumPrerequisite\")],\"name\" => \"IDE 401\",\"metrics\" => Dict{String,Any}(\"centrality\" => 4,\"complexity\" => 5.0,\"blocking factor\" => 1,\"delay factor\" => 4.0),\"nameSub\" => \"Senior Innovation II \",\"id\" => 45,\"credits\" => 1,\"nameCanonical\" => \"\")],\"id\" => 7), Dict(\"name\" => \"Term 8\",\"curriculum_items\" => Dict{String,Any}[Dict(\"curriculum_requisites\" => Dict{String,Any}[],\"name\" => \"SSW 567\",\"metrics\" => Dict{String,Any}(\"centrality\" => 0,\"complexity\" => 1.0,\"blocking factor\" => 0,\"delay factor\" => 1.0),\"nameSub\" => \"Software Testing and Quality Assurance\",\"id\" => 46,\"credits\" => 3,\"nameCanonical\" => \"\"), Dict(\"curriculum_requisites\" => Dict{String,Any}[],\"name\" => \"SYS 581\",\"metrics\" => Dict{String,Any}(\"centrality\" => 0,\"complexity\" => 1.0,\"blocking factor\" => 0,\"delay factor\" => 1.0),\"nameSub\" => \"Introduction to Systems Engineering\",\"id\" => 47,\"credits\" => 3,\"nameCanonical\" => \"\"), Dict(\"curriculum_requisites\" => Dict{String,Any}[],\"name\" => \" \",\"metrics\" => Dict{String,Any}(\"centrality\" => 0,\"complexity\" => 1.0,\"blocking factor\" => 0,\"delay factor\" => 1.0),\"nameSub\" => \"Introduction to Systems Engineering\",\"id\" => 48,\"credits\" => 3,\"nameCanonical\" => \"\"), Dict(\"curriculum_requisites\" => Dict{String,Any}[Dict(\"source_id\" => 25,\"target_id\" => 49,\"type\" => \"CurriculumPrerequisite\"), Dict(\"source_id\" => 31,\"target_id\" => 49,\"type\" => \"CurriculumPrerequisite\"), Dict(\"source_id\" => 34,\"target_id\" => 49,\"type\" => \"CurriculumPrerequisite\"), Dict(\"source_id\" => 35,\"target_id\" => 49,\"type\" => \"CurriculumPrerequisite\"), Dict(\"source_id\" => 44,\"target_id\" => 49,\"type\" => \"CurriculumPrerequisite\")],\"name\" => \"SSW 424\",\"metrics\" => Dict{String,Any}(\"centrality\" => 0,\"complexity\" => 5.0,\"blocking factor\" => 0,\"delay factor\" => 5.0),\"nameSub\" => \"Engineering Design VIII\",\"id\" => 49,\"credits\" => 3,\"nameCanonical\" => \"\"), Dict(\"curriculum_requisites\" => Dict{String,Any}[],\"name\" => \"HUM xxx\",\"metrics\" => Dict{String,Any}(\"centrality\" => 0,\"complexity\" => 1.0,\"blocking factor\" => 0,\"delay factor\" => 1.0),\"nameSub\" => \"Humanities\",\"id\" => 50,\"credits\" => 3,\"nameCanonical\" => \"\"), Dict(\"curriculum_requisites\" => Dict{String,Any}[Dict(\"source_id\" => 45,\"target_id\" => 51,\"type\" => \"CurriculumPrerequisite\")],\"name\" => \"IDE 402\",\"metrics\" => Dict{String,Any}(\"centrality\" => 0,\"complexity\" => 4.0,\"blocking factor\" => 0,\"delay factor\" => 4.0),\"nameSub\" => \"Senior Innovation III \",\"id\" => 51,\"credits\" => 1,\"nameCanonical\" => \"\")],\"id\" => 8)],\"institution\" => \"Stevens Institute of Technology\")), nothing)), Set{String}(), nothing, WebIO.Asset[], Dict{Any,Any}(), WebIO.ConnectionPool(Channel{Any}(sz_max:32,sz_curr:0), Set{WebIO.AbstractConnection}(), Base.GenericCondition{Base.AlwaysLockedST}(Base.InvasiveLinkedList{Task}(Task (runnable) @0x0000000114225f90, Task (runnable) @0x0000000114225f90), Base.AlwaysLockedST(1))), WebIO.JSString[])"
      ]
     },
     "execution_count": 163,
     "metadata": {
      "application/vnd.webio.node+json": {
       "kernelId": "5995f028-7d2e-4ab2-99b4-b65d8799194b"
      }
     },
     "output_type": "execute_result"
    }
   ],
   "source": [
    "SIT_plan = read_csv(\"./programs/Stevens-Inst-BESE.csv\")\n",
    "visualize(SIT_plan, notebook=true)"
   ]
  },
  {
   "cell_type": "markdown",
   "metadata": {},
   "source": [
    "Even though this programs claims they are ABET-accredited, ABET does *not* list them as currently having an accredited program in software engineering.\n",
    "\n",
    "The Stevens website mentions that graduates from this program will be able to:\n",
    "- Design and develop software components for complex systems.\n",
    "- Communicate with engineers of all disciplines in the languages and methods of those engineers.\n",
    "- Understand the overall systems context for their projects and apply systems thinking in designing solutions that integrate components of different types, such as hardware, software, and people.\n",
    "\n",
    "Note: in my view, these do *not* read like ABET PEOs.  I also find it problematic that I cannot locate the ABET-requried enrollment and graduation data on the program's website.  I have asked the program for this information, but they have not provided it to me.\n",
    "\n",
    "The prefix for software engineering courses at Stevens is \"SSW.\"  Note in the degree plan above that the first SER course does not occur until the second semester of the sophomore year.  The total number of software engineering courses (i.e., courses with SSW prefixes) in the curriculum is:"
   ]
  },
  {
   "cell_type": "code",
   "execution_count": 164,
   "metadata": {},
   "outputs": [
    {
     "data": {
      "text/plain": [
       "10"
      ]
     },
     "execution_count": 164,
     "metadata": {},
     "output_type": "execute_result"
    }
   ],
   "source": [
    "SSW_SIT = mapreduce(x->x.prefix == \"SSW\", +, SIT_plan.curriculum.courses)"
   ]
  },
  {
   "cell_type": "markdown",
   "metadata": {},
   "source": [
    "Specifically, in order to support this curriculum, Stevens was required to create only 10 new courses in the software engineering area. Thus, even though this program has far more credit hours than the ASU software engineering program, it also involves 30% fewer software engineering courses.\n",
    "\n",
    "The Stevens sofware engineering courses account for the following percentage of the entire curriculum:"
   ]
  },
  {
   "cell_type": "code",
   "execution_count": 165,
   "metadata": {},
   "outputs": [
    {
     "data": {
      "text/plain": [
       "20.0"
      ]
     },
     "execution_count": 165,
     "metadata": {},
     "output_type": "execute_result"
    }
   ],
   "source": [
    "round(SSW_SIT/length(SIT_plan.curriculum.courses) * 100)"
   ]
  },
  {
   "cell_type": "markdown",
   "metadata": {},
   "source": [
    "### 4.1 Projected Program Enrollment\n",
    "\n",
    "The follwoing enrollment data, which a program must provide to the public as a part of their ABET accreditions, was obtained from the websites of:\n",
    "\n",
    " - Arizona State University \n",
    " - Auburn University\n",
    " - Mississippi State University\n",
    " - Rochester Institute of Technology\n",
    " - Rose-Hulman Institute of Technology\n",
    " - University of Texas at Arlington\n",
    " - University of Texas at Dallas\n",
    " - Washington State University\n",
    " \n",
    "Enrollment data was collected for the follwing commonly-offered programs:\n",
    " \n",
    " - biomedical engineering\n",
    " - chemical engineering \n",
    " - civil engineering\n",
    " - computer science\n",
    " - electrical engineering\n",
    " - mechanical engineering\n",
    " - software engineering"
   ]
  },
  {
   "cell_type": "code",
   "execution_count": 166,
   "metadata": {},
   "outputs": [],
   "source": [
    "peer_enrollment_data_2019 = DataFrame(School = [\"ASU\", \"Auburn\", \"Miss St U\", \"Rochester\", \"Rose Hulman\", \"UT-Arlington\", \"UT-Dallas \", \"Wash St U\"], \n",
    "    Biomed_Eng = [699, 107, 245, 289, 146, 54, 611, 159],\n",
    "    Chem_Eng = [648, 610, 413, 240, 180, missing, missing, 204],\n",
    "    Civil_Eng = [726, 555, 499, 258, 121, 95, missing, 461],\n",
    "    Comp_Sci = [2981, 646, 408, 984, 330, 127, 2350, 696],\n",
    "    Elec_Eng = [2369, 399, 380, 564, 151, 62, 619, 281],\n",
    "    Mech_Eng = [1505, 1275, 979, 770, 607, 128, 1099, 859],\n",
    "    Soft_Eng = [1322, 388, 159, 551, 70, 23, 480, 141]);"
   ]
  },
  {
   "cell_type": "code",
   "execution_count": 167,
   "metadata": {
    "scrolled": false
   },
   "outputs": [
    {
     "name": "stdout",
     "output_type": "stream",
     "text": [
      "8×8 DataFrame\n",
      "│ Row │ School       │ Biomed_Eng │ Chem_Eng │ Civil_Eng │ Comp_Sci │ Elec_Eng │\n",
      "│     │ \u001b[90mString\u001b[39m       │ \u001b[90mInt64\u001b[39m      │ \u001b[90mInt64?\u001b[39m   │ \u001b[90mInt64?\u001b[39m    │ \u001b[90mInt64\u001b[39m    │ \u001b[90mInt64\u001b[39m    │\n",
      "├─────┼──────────────┼────────────┼──────────┼───────────┼──────────┼──────────┤\n",
      "│ 1   │ ASU          │ 699        │ 648      │ 726       │ 2981     │ 2369     │\n",
      "│ 2   │ Auburn       │ 107        │ 610      │ 555       │ 646      │ 399      │\n",
      "│ 3   │ Miss St U    │ 245        │ 413      │ 499       │ 408      │ 380      │\n",
      "│ 4   │ Rochester    │ 289        │ 240      │ 258       │ 984      │ 564      │\n",
      "│ 5   │ Rose Hulman  │ 146        │ 180      │ 121       │ 330      │ 151      │\n",
      "│ 6   │ UT-Arlington │ 54         │ \u001b[90mmissing\u001b[39m  │ 95        │ 127      │ 62       │\n",
      "│ 7   │ UT-Dallas    │ 611        │ \u001b[90mmissing\u001b[39m  │ \u001b[90mmissing\u001b[39m   │ 2350     │ 619      │\n",
      "│ 8   │ Wash St U    │ 159        │ 204      │ 461       │ 696      │ 281      │\n",
      "\n",
      "│ Row │ Mech_Eng │ Soft_Eng │\n",
      "│     │ \u001b[90mInt64\u001b[39m    │ \u001b[90mInt64\u001b[39m    │\n",
      "├─────┼──────────┼──────────┤\n",
      "│ 1   │ 1505     │ 1322     │\n",
      "│ 2   │ 1275     │ 388      │\n",
      "│ 3   │ 979      │ 159      │\n",
      "│ 4   │ 770      │ 551      │\n",
      "│ 5   │ 607      │ 70       │\n",
      "│ 6   │ 128      │ 23       │\n",
      "│ 7   │ 1099     │ 480      │\n",
      "│ 8   │ 859      │ 141      │"
     ]
    }
   ],
   "source": [
    "showall(peer_enrollment_data_2019)"
   ]
  },
  {
   "cell_type": "markdown",
   "metadata": {},
   "source": [
    "### Linear Regression Model.\n",
    "\n",
    "Below we fit the enrollment data using a ordinary least squares linear regression. The dependent variable in this model is `software engineering enrollment`, and the independent variables are enrollments in all of the other programs, with the excpetion of chemical engineerig (as a number of the selected schools do not offer that program). Thus, we are trying to determine the relationship between software engineerig enrollments, and the enrollments in other engineering programs offered at the same school. "
   ]
  },
  {
   "cell_type": "code",
   "execution_count": 168,
   "metadata": {},
   "outputs": [
    {
     "data": {
      "text/plain": [
       "StatsModels.TableRegressionModel{LinearModel{GLM.LmResp{Array{Float64,1}},GLM.DensePredChol{Float64,LinearAlgebra.Cholesky{Float64,Array{Float64,2}}}},Array{Float64,2}}\n",
       "\n",
       "Soft_Eng ~ 1 + Biomed_Eng + Civil_Eng + Comp_Sci + Elec_Eng + Mech_Eng\n",
       "\n",
       "Coefficients:\n",
       "─────────────────────────────────────────────────────────────────────────────\n",
       "                  Coef.  Std. Error      t  Pr(>|t|)    Lower 95%   Upper 95%\n",
       "─────────────────────────────────────────────────────────────────────────────\n",
       "(Intercept)  -34.026     255.643     -0.13    0.9158  -3282.27     3214.22\n",
       "Biomed_Eng    -0.348615    1.61829   -0.22    0.8649    -20.911      20.2137\n",
       "Civil_Eng     -0.555588    1.04212   -0.53    0.6882    -13.7969     12.6858\n",
       "Comp_Sci       0.299436    0.608575   0.49    0.7089     -7.43324     8.03212\n",
       "Elec_Eng       0.271235    0.869113   0.31    0.8074    -10.7719     11.3144\n",
       "Mech_Eng       0.327285    0.553263   0.59    0.6599     -6.70259     7.35716\n",
       "─────────────────────────────────────────────────────────────────────────────"
      ]
     },
     "execution_count": 168,
     "metadata": {},
     "output_type": "execute_result"
    }
   ],
   "source": [
    "ols = fit(LinearModel, \n",
    "    @formula(Soft_Eng ~ Biomed_Eng + Civil_Eng + Comp_Sci + Elec_Eng + Mech_Eng),\n",
    "    peer_enrollment_data_2019)"
   ]
  },
  {
   "cell_type": "markdown",
   "metadata": {},
   "source": [
    "### Goodness of Fit.\n",
    "The $R^2$ value of this model provides a measure of how well the model fits the data. In particular, it measures the percentage of the variance in the dependent variable (software engineering enrollment) that is explained by the collection of independent variables (other program enrollments). "
   ]
  },
  {
   "cell_type": "code",
   "execution_count": 169,
   "metadata": {},
   "outputs": [
    {
     "data": {
      "text/plain": [
       "0.967372753359513"
      ]
     },
     "execution_count": 169,
     "metadata": {},
     "output_type": "execute_result"
    }
   ],
   "source": [
    "r2(ols)"
   ]
  },
  {
   "cell_type": "markdown",
   "metadata": {},
   "source": [
    "Thus, given that 97% of the variation in software engineering enrollments can be explained by the enrollments in the other programs, this model likely can be used to provide an useful prediction for the eventual enrollment in a new software engineering program at the Univeristy of Arizona.\n",
    "\n",
    "### Predicted Enrollment."
   ]
  },
  {
   "cell_type": "code",
   "execution_count": 170,
   "metadata": {},
   "outputs": [],
   "source": [
    "UA_enrollment_data_2019 = DataFrame(School = [\"UA\"], \n",
    "    Biomed_Eng = [163],\n",
    "    Chem_Eng = [258],\n",
    "    Civil_Eng = [123],\n",
    "    Comp_Sci = [1626],\n",
    "    Elec_Eng = [390],\n",
    "    Mech_Eng = [454],\n",
    "    Soft_Eng = [missing]);"
   ]
  },
  {
   "cell_type": "code",
   "execution_count": 171,
   "metadata": {},
   "outputs": [
    {
     "data": {
      "text/plain": [
       "1-element Array{Union{Missing, Float64},1}:\n",
       " 582.0644041096086"
      ]
     },
     "execution_count": 171,
     "metadata": {},
     "output_type": "execute_result"
    }
   ],
   "source": [
    "predict(ols, UA_enrollment_data_2019)"
   ]
  },
  {
   "cell_type": "markdown",
   "metadata": {},
   "source": [
    "Thus, at steady state, we should expect to have roughly 582 students enrolled in a software engineering program at the Univeristy of Arizona."
   ]
  },
  {
   "cell_type": "markdown",
   "metadata": {},
   "source": [
    "## 3. Basic Analytics\n",
    "Now that we have created the curriculum, associated degree plan, and verified there are no errors, we can quantitatively analyze the plan, and more specifically, the courses. \n"
   ]
  },
  {
   "cell_type": "markdown",
   "metadata": {},
   "source": [
    "## Basic Metrics\n",
    "If more masic metrics are desired such as:\n",
    "\n",
    "1. Total credit hours\n",
    "2. Avg. credits per term\n",
    "3. Number of terms\n",
    "4. Max. credits in a term\n",
    "5. Min. credit term\n",
    "6. Credit hour variance\n",
    "7. Max. credit term\n",
    "\n",
    "The following command may be run. Remember that the variable inside of () is whatever you set your degree plan to equal, in our case dp:"
   ]
  },
  {
   "cell_type": "code",
   "execution_count": 44,
   "metadata": {
    "scrolled": true
   },
   "outputs": [
    {
     "data": {
      "text/plain": [
       "Dict{String,Any} with 8 entries:\n",
       "  \"total credit hours\"         => 114\n",
       "  \"avg. credits per term\"      => 14.25\n",
       "  \"min. credits in a term\"     => 6\n",
       "  \"term credit hour std. dev.\" => 3.15238\n",
       "  \"number of terms\"            => 8\n",
       "  \"max. credits in a term\"     => 16\n",
       "  \"min. credit term\"           => 8\n",
       "  \"max. credit term\"           => 3"
      ]
     },
     "execution_count": 44,
     "metadata": {},
     "output_type": "execute_result"
    }
   ],
   "source": [
    "basic_metrics(ASU_plan)\n",
    "ASU_plan.metrics"
   ]
  },
  {
   "cell_type": "markdown",
   "metadata": {},
   "source": [
    "## Conclusions \n"
   ]
  },
  {
   "cell_type": "markdown",
   "metadata": {},
   "source": [
    "## References\n",
    "\n",
    "Heileman, G. L., Abdallah, C.T., Slim, A., and Hickman, M. (2018). Curricular analytics: A framework for quantifying the impact of curricular reforms and pedagogical innovations. www.arXiv.org, arXiv:1811.09676 [cs.CY].\n",
    "\n"
   ]
  },
  {
   "cell_type": "code",
   "execution_count": null,
   "metadata": {},
   "outputs": [],
   "source": []
  }
 ],
 "metadata": {
  "@webio": {
   "lastCommId": "cfdc8c21584b46b38af3276d486d74f2",
   "lastKernelId": "5995f028-7d2e-4ab2-99b4-b65d8799194b"
  },
  "kernelspec": {
   "display_name": "Julia 1.5.0",
   "language": "julia",
   "name": "julia-1.5"
  },
  "language_info": {
   "file_extension": ".jl",
   "mimetype": "application/julia",
   "name": "julia",
   "version": "1.5.0"
  }
 },
 "nbformat": 4,
 "nbformat_minor": 2
}
