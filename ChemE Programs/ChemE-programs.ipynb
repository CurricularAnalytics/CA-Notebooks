{
 "cells": [
  {
   "cell_type": "markdown",
   "metadata": {},
   "source": [
    "# <center>Chemical Engineering Programs</center>\n",
    "\n",
    "This notebook contains an analysis of the Chemical Engineering undergraduate program at the University of Arizona using tools and metrics contained in the CurricularAnalytics.jl toolbox.  In addition, analyses of the curricula and degree plans associated with undergraduate chemical engineering programs at other schools around the country are provided. These offer a means for comparing the University of Arizona chemical engineering program to other programs around the country, at the curriculum level. We have found that these comparisons often provide useful data to curriculum committees as a part of their continuous improvement efforts. In order to execute the analyses provided in this notebook, you need to load the following Julia programming language packages:"
   ]
  },
  {
   "cell_type": "code",
   "execution_count": 1,
   "metadata": {},
   "outputs": [
    {
     "data": {
      "application/vnd.webio.node+json": {
       "children": [],
       "instanceArgs": {
        "namespace": "html",
        "tag": "div"
       },
       "nodeType": "DOM",
       "props": {},
       "type": "node"
      },
      "text/html": [
       "<div style=\"padding: 1em; background-color: #f8d6da; border: 1px solid #f5c6cb; font-weight: bold;\">\n",
       "<p>The WebIO Jupyter extension was not detected. See the\n",
       "<a href=\"https://juliagizmos.github.io/WebIO.jl/latest/providers/ijulia/\" target=\"_blank\">\n",
       "    WebIO Jupyter integration documentation\n",
       "</a>\n",
       "for more information.\n",
       "</div>\n"
      ],
      "text/plain": [
       "WebIO._IJuliaInit()"
      ]
     },
     "metadata": {
      "application/vnd.webio.node+json": {
       "kernelId": "b1116678-2497-4976-979a-66e3b452fd18"
      }
     },
     "output_type": "display_data"
    }
   ],
   "source": [
    "using CurricularAnalytics, CurricularVisualization\n",
    "using Glob\n",
    "using CSV\n",
    "using Plots\n",
    "using GLM\n",
    "using DataFrames\n",
    "using Statistics"
   ]
  },
  {
   "cell_type": "markdown",
   "metadata": {},
   "source": [
    "## Curricular Analytics\n",
    "\n",
    "The analyses in this notebook makes use of the Curricular Analytics toolbox built using the Julia programming language and available as open source software [1]. If you would like to modify any of these analyses, you may find it useful to read the toolbox documenation, as well as the curricular analytics paper listed in the References section below [2]. The curricula associated with chemcial engineering undergraduate programs at various univiersites were collected from the  http://CurricularAnalytics.org website. These curricula were entered by those working at the various institutions that provide these curricula.  We have *not* validated them in any way, i.e., we are using them \"as is\" according to how they were entered into the afforementioned web application.  That said, it is realitvely straightforward to check these curricula by visiting the websites of the various universites offering these programs.  \n",
    "\n",
    "### What is Curricular Complexity?\n",
    "The curricular complexity metrics described below were derived based upon their impact on the ability of students to progress through a curriculum. Brief details of these metrics are provided below, for the sake of completeness; however, you can skip the technical details below without loss of understanding.\n",
    "\n",
    "As a high-level summary, we model the overall complexity of a curriculum as a function of two main components: (1) the manner in which courses in the curriculum are taught and supported, and (2) the manner in which the curriculum is structured. We refer to the former as the *instructional complexity* of the curriculum, and to the latter as the *structural complexity* of the curriculum [2]. Each of these main components are functions of numerous other curriculum-related factors. In this report we focus on the structural complexity compnents; however, if there is an interest in investigating the impact of instructional complexity on student progress, there are simulation capabilities within the CurricularAnalytics.jl toolbox that can be used for that purpose. \n",
    "\n",
    "The structural complexity components we use below are:\n",
    "\n",
    "#### Delay Factor\n",
    "Many curricula, particularly those in science, technology engineering and math (STEM) fields, contain a set of courses that must be completed in sequential order. It is not uncommon in these programs to find prerequisite pathways consisting of seven or eight courses—they span nearly every term in any possible degree plan. The ability to successfully navigate these long pathways without delay is critical for student success and on-time graduation.\n",
    "\n",
    "For any curriculum $c$ we can construct a *curriculum graph*, denoted $G_c = (V,E)$, that is determined by the prerequisites in the curriculum. Specifially, each vertex $v_1, . . . , v_n ∈ V$ represents a required course course in curriculum $c$. There is a directed edge $(v_i,v_j) ∈ E$ from course $v_i$ to $v_j$ if $v_i$ is a prerequisite of $v_j$.\n",
    "\n",
    "Based up this definition, we define the **delay factor** associated with a given course $v_k$ in a curriculum $c$, denoted $d_c(v_k)$, as the number of vertices in the longest path in $G_c$ that passes through $v_k$. \n",
    "\n",
    "\\begin{equation}\n",
    "d_c(v_k) = \\max_{i,j,k,l} \\{ \\#(v_i\\rightsquigarrow v_k \\rightsquigarrow v_j)\\}\n",
    "\\end{equation}\n",
    "\n",
    "We define the delay factor associated with an entire curriculum $c$ as:\n",
    "\n",
    "\\begin{equation}\n",
    "d(G_c)= \\sum_{v_k ∈ V} d_c(v_k)\n",
    "\\end{equation}\n",
    "\n",
    "#### Blocking Factor\n",
    "Another structural factor arises when one course serves as the gateway to many other courses in the curriculum. In this case, if a student is unable to pass the gateway course, they are **blocked** from attempting many of the other courses in the curriculum.\n",
    "\n",
    "For instance, *Calculus 1* is often a foundational first-term course in a STEM curriculum that must be completed before taking other major-specific classes in subsequent terms. It is obvious that a course which is a prerequisite for a large number of other courses in a curriculum is a highly important course in that curriculum.\n",
    "\n",
    "We will denote the situation where course $v_j$ is reachable from course $v_i$, via any prerequisite pathway, using $vi\\rightsquigarrow v_j$, and $v_i \\nrightarrow v_j$ will be used if course $v_j$ is not reachable from course $v_i$. The blocking factor associated with course $v_i$ in curriculum $G_c = (V, E)$, denoted $b_c(v_i)$, is then given by: \n",
    "\n",
    "\\begin{equation}\n",
    "b_c(v_i)= \\sum_{v_j ∈ V} I(v_i,v_j)\n",
    "\\end{equation}\n",
    "\n",
    "where $I$ is the indicator function :\n",
    "\n",
    "\\begin{equation}\n",
    "= I \\begin{cases}\n",
    "1 & if \\space \\space v_i\\rightsquigarrow v_j\\\\\n",
    "0 & if \\space \\space v_i \\nrightarrow v_j\n",
    "\\end{cases}\n",
    "\\end{equation}\n",
    "\n",
    "We define the blocking factor associated with an entire curriculum $c$ as:\n",
    "\n",
    "\\begin{equation}\n",
    "b(G_c)= \\sum_{v_i ∈ V} b_c(v_i)\n",
    "\\end{equation}\n",
    "\n",
    "#### Structural Complexity\n",
    "After computing the blocking and delay factors for a curriculum, a unitless measure for structural complexity can be computed for any curriculum. Keep in mind that structural complexity explicitly relates to the likelihood that a student can complete a curriculum, as well be demonstrated below..\n",
    "\n",
    "In order to determine this overall *structural complexity* metric, we simply add the blocking and delay factors of the entire curricula:\n",
    "\n",
    "\\begin{equation}\n",
    "Structural \\; Complexity = b(G_c) + d(G_c)\n",
    "\\end{equation}\n",
    "\n",
    "Given these definintions, we provide an analysis of the University of Arizona chemical engineering curriculum below. A visaulization of this curriculum is provided next. If you hover your mouse over the courses in this visualization, you will see the complexity metrics associated with each course in this curriculum."
   ]
  },
  {
   "cell_type": "code",
   "execution_count": 2,
   "metadata": {
    "scrolled": false
   },
   "outputs": [
    {
     "data": {
      "application/vnd.webio.node+json": {
       "children": [
        {
         "children": [
          ""
         ],
         "instanceArgs": {
          "namespace": "html",
          "tag": "iframe"
         },
         "nodeType": "DOM",
         "props": {
          "events": {
           "load": "(function (){this.contentWindow.postMessage({\"options\":{\"hideTerms\":false,\"edit\":false},\"curriculum\":{\"name\":\"Chemical Engineering - (Bachelor of Science in Chemical Engineering)\",\"dp_name\":\"2019-20 Degree Plan\",\"curriculum_terms\":[{\"name\":\"Term 1\",\"curriculum_items\":[{\"curriculum_requisites\":[{\"source_id\":4,\"target_id\":1,\"type\":\"CurriculumCorequisite\"}],\"name\":\"CHEM 151\",\"metrics\":{\"centrality\":141,\"complexity\":28.0,\"blocking factor\":16,\"delay factor\":12.0},\"nameSub\":\"General Chemistry I\",\"id\":1,\"credits\":4,\"nameCanonical\":\"\"},{\"curriculum_requisites\":[],\"name\":\" \",\"metrics\":{\"centrality\":0,\"complexity\":1.0,\"blocking factor\":0,\"delay factor\":1.0},\"nameSub\":\"Tier I General Education \",\"id\":2,\"credits\":3,\"nameCanonical\":\"\"},{\"curriculum_requisites\":[],\"name\":\"MATH 122A\",\"metrics\":{\"centrality\":0,\"complexity\":43.0,\"blocking factor\":31,\"delay factor\":12.0},\"nameSub\":\"Functions for Calculus\",\"id\":3,\"credits\":1,\"nameCanonical\":\"\"},{\"curriculum_requisites\":[{\"source_id\":3,\"target_id\":4,\"type\":\"CurriculumCorequisite\"}],\"name\":\"MATH 122B\",\"metrics\":{\"centrality\":1225,\"complexity\":42.0,\"blocking factor\":30,\"delay factor\":12.0},\"nameSub\":\"First-Semester Calculus\",\"id\":4,\"credits\":4,\"nameCanonical\":\"\"},{\"curriculum_requisites\":[],\"name\":\"ENGL 101\",\"metrics\":{\"centrality\":0,\"complexity\":3.0,\"blocking factor\":1,\"delay factor\":2.0},\"nameSub\":\"First-Year Composition\",\"id\":5,\"credits\":3,\"nameCanonical\":\"\"},{\"curriculum_requisites\":[],\"name\":\" \",\"metrics\":{\"centrality\":0,\"complexity\":1.0,\"blocking factor\":0,\"delay factor\":1.0},\"nameSub\":\"ENGR 102A/B or ENGR 102\",\"id\":6,\"credits\":3,\"nameCanonical\":\"\"}],\"id\":1},{\"name\":\"Term 2\",\"curriculum_items\":[{\"curriculum_requisites\":[{\"source_id\":4,\"target_id\":7,\"type\":\"CurriculumPrerequisite\"}],\"name\":\"MATH 129\",\"metrics\":{\"centrality\":393,\"complexity\":31.0,\"blocking factor\":20,\"delay factor\":11.0},\"nameSub\":\"Calculus II\",\"id\":7,\"credits\":3,\"nameCanonical\":\"\"},{\"curriculum_requisites\":[{\"source_id\":4,\"target_id\":8,\"type\":\"CurriculumPrerequisite\"},{\"source_id\":1,\"target_id\":8,\"type\":\"CurriculumPrerequisite\"}],\"name\":\"CHEM 152\",\"metrics\":{\"centrality\":266,\"complexity\":27.0,\"blocking factor\":15,\"delay factor\":12.0},\"nameSub\":\"General Chemistry II\",\"id\":8,\"credits\":4,\"nameCanonical\":\"\"},{\"curriculum_requisites\":[{\"source_id\":5,\"target_id\":9,\"type\":\"CurriculumPrerequisite\"}],\"name\":\"ENGL 102\",\"metrics\":{\"centrality\":0,\"complexity\":2.0,\"blocking factor\":0,\"delay factor\":2.0},\"nameSub\":\"First-Year Composition\",\"id\":9,\"credits\":3,\"nameCanonical\":\"\"},{\"curriculum_requisites\":[{\"source_id\":4,\"target_id\":10,\"type\":\"CurriculumPrerequisite\"}],\"name\":\"PHYS 141\",\"metrics\":{\"centrality\":197,\"complexity\":25.0,\"blocking factor\":15,\"delay factor\":10.0},\"nameSub\":\"Introductory Mechanics\",\"id\":10,\"credits\":4,\"nameCanonical\":\"\"},{\"curriculum_requisites\":[{\"source_id\":4,\"target_id\":11,\"type\":\"CurriculumPrerequisite\"}],\"name\":\"AME 105\",\"metrics\":{\"centrality\":174,\"complexity\":22.0,\"blocking factor\":10,\"delay factor\":12.0},\"nameSub\":\"Introduction to MATLAB I\",\"id\":11,\"credits\":1,\"nameCanonical\":\"\"}],\"id\":2},{\"name\":\"Term 3\",\"curriculum_items\":[{\"curriculum_requisites\":[{\"source_id\":16,\"target_id\":12,\"type\":\"CurriculumCorequisite\"},{\"source_id\":8,\"target_id\":12,\"type\":\"CurriculumPrerequisite\"}],\"name\":\"CHEM 243A\",\"metrics\":{\"centrality\":0,\"complexity\":6.0,\"blocking factor\":0,\"delay factor\":6.0},\"nameSub\":\"Organic Chemistry Laboratory I\",\"id\":12,\"credits\":1,\"nameCanonical\":\"\"},{\"curriculum_requisites\":[],\"name\":\" \",\"metrics\":{\"centrality\":0,\"complexity\":1.0,\"blocking factor\":0,\"delay factor\":1.0},\"nameSub\":\"Tier I General Education \",\"id\":13,\"credits\":3,\"nameCanonical\":\"\"},{\"curriculum_requisites\":[{\"source_id\":11,\"target_id\":14,\"type\":\"CurriculumPrerequisite\"}],\"name\":\"AME 205\",\"metrics\":{\"centrality\":116,\"complexity\":21.0,\"blocking factor\":9,\"delay factor\":12.0},\"nameSub\":\"Introduction to MATLAB II\",\"id\":14,\"credits\":1,\"nameCanonical\":\"\"},{\"curriculum_requisites\":[{\"source_id\":11,\"target_id\":15,\"type\":\"CurriculumPrerequisite\"},{\"source_id\":8,\"target_id\":15,\"type\":\"CurriculumPrerequisite\"},{\"source_id\":14,\"target_id\":15,\"type\":\"CurriculumCorequisite\"}],\"name\":\"CHEE 201L\",\"metrics\":{\"centrality\":244,\"complexity\":20.0,\"blocking factor\":8,\"delay factor\":12.0},\"nameSub\":\"Elements of Chemical & Environmental Engineering I - Computational Lab\",\"id\":15,\"credits\":1,\"nameCanonical\":\"\"},{\"curriculum_requisites\":[{\"source_id\":8,\"target_id\":16,\"type\":\"CurriculumPrerequisite\"}],\"name\":\"CHEM 241A\",\"metrics\":{\"centrality\":22,\"complexity\":8.0,\"blocking factor\":2,\"delay factor\":6.0},\"nameSub\":\"Lectures in Organic Chemistry\",\"id\":16,\"credits\":3,\"nameCanonical\":\"\"},{\"curriculum_requisites\":[{\"source_id\":7,\"target_id\":17,\"type\":\"CurriculumPrerequisite\"}],\"name\":\"MATH 223\",\"metrics\":{\"centrality\":60,\"complexity\":18.0,\"blocking factor\":8,\"delay factor\":10.0},\"nameSub\":\"Vector Calculus\",\"id\":17,\"credits\":4,\"nameCanonical\":\"\"},{\"curriculum_requisites\":[{\"source_id\":4,\"target_id\":18,\"type\":\"CurriculumPrerequisite\"},{\"source_id\":7,\"target_id\":18,\"type\":\"CurriculumCorequisite\"}],\"name\":\"CHEE 201\",\"metrics\":{\"centrality\":413,\"complexity\":25.0,\"blocking factor\":14,\"delay factor\":11.0},\"nameSub\":\"Elements of Chemical & Environmental Engineering I\",\"id\":18,\"credits\":3,\"nameCanonical\":\"\"}],\"id\":3},{\"name\":\"Term 4\",\"curriculum_items\":[{\"curriculum_requisites\":[{\"source_id\":16,\"target_id\":19,\"type\":\"CurriculumPrerequisite\"}],\"name\":\"CHEM 241B\",\"metrics\":{\"centrality\":0,\"complexity\":6.0,\"blocking factor\":0,\"delay factor\":6.0},\"nameSub\":\"Lectures in Organic Chemistry\",\"id\":19,\"credits\":3,\"nameCanonical\":\"\"},{\"curriculum_requisites\":[{\"source_id\":7,\"target_id\":20,\"type\":\"CurriculumPrerequisite\"},{\"source_id\":10,\"target_id\":20,\"type\":\"CurriculumPrerequisite\"}],\"name\":\"PHYS 241\",\"metrics\":{\"centrality\":10,\"complexity\":6.0,\"blocking factor\":1,\"delay factor\":5.0},\"nameSub\":\"Introductory Electricity and Magnetism\",\"id\":20,\"credits\":4,\"nameCanonical\":\"\"},{\"curriculum_requisites\":[{\"source_id\":22,\"target_id\":21,\"type\":\"CurriculumCorequisite\"},{\"source_id\":15,\"target_id\":21,\"type\":\"CurriculumPrerequisite\"},{\"source_id\":18,\"target_id\":21,\"type\":\"CurriculumPrerequisite\"}],\"name\":\"CHEE 202\",\"metrics\":{\"centrality\":412,\"complexity\":19.0,\"blocking factor\":7,\"delay factor\":12.0},\"nameSub\":\"Elements of Chemical and Environmental Engineering II\",\"id\":21,\"credits\":4,\"nameCanonical\":\"\"},{\"curriculum_requisites\":[{\"source_id\":7,\"target_id\":22,\"type\":\"CurriculumPrerequisite\"}],\"name\":\"MATH 254\",\"metrics\":{\"centrality\":110,\"complexity\":19.0,\"blocking factor\":8,\"delay factor\":11.0},\"nameSub\":\"Introduction to Ordinary Differential Equations\",\"id\":22,\"credits\":3,\"nameCanonical\":\"\"},{\"curriculum_requisites\":[{\"source_id\":10,\"target_id\":23,\"type\":\"CurriculumPrerequisite\"},{\"source_id\":18,\"target_id\":23,\"type\":\"CurriculumPrerequisite\"}],\"name\":\"CHEE 203\",\"metrics\":{\"centrality\":446,\"complexity\":22.0,\"blocking factor\":11,\"delay factor\":11.0},\"nameSub\":\"Chemical Engineering Heat Transfer and Fluid Flow\",\"id\":23,\"credits\":3,\"nameCanonical\":\"\"}],\"id\":4},{\"name\":\"Term 5\",\"curriculum_items\":[{\"curriculum_requisites\":[{\"source_id\":23,\"target_id\":24,\"type\":\"CurriculumPrerequisite\"}],\"name\":\"CHEE 303\",\"metrics\":{\"centrality\":352,\"complexity\":20.0,\"blocking factor\":9,\"delay factor\":11.0},\"nameSub\":\"Chemical Engineering Mass Transfer\",\"id\":24,\"credits\":3,\"nameCanonical\":\"\"},{\"curriculum_requisites\":[],\"name\":\" \",\"metrics\":{\"centrality\":0,\"complexity\":1.0,\"blocking factor\":0,\"delay factor\":1.0},\"nameSub\":\"Tier I General Education \",\"id\":25,\"credits\":3,\"nameCanonical\":\"\"},{\"curriculum_requisites\":[{\"source_id\":10,\"target_id\":26,\"type\":\"CurriculumPrerequisite\"},{\"source_id\":8,\"target_id\":26,\"type\":\"CurriculumPrerequisite\"},{\"source_id\":17,\"target_id\":26,\"type\":\"CurriculumPrerequisite\"}],\"name\":\"CHEM 480A\",\"metrics\":{\"centrality\":208,\"complexity\":16.0,\"blocking factor\":6,\"delay factor\":10.0},\"nameSub\":\"Physical Chemistry\",\"id\":26,\"credits\":3,\"nameCanonical\":\"\"},{\"curriculum_requisites\":[{\"source_id\":23,\"target_id\":27,\"type\":\"CurriculumPrerequisite\"}],\"name\":\"CHEE 301A\",\"metrics\":{\"centrality\":94,\"complexity\":14.0,\"blocking factor\":4,\"delay factor\":10.0},\"nameSub\":\"Chemcial Engineering Lab I\",\"id\":27,\"credits\":1,\"nameCanonical\":\"\"},{\"curriculum_requisites\":[],\"name\":\"CHEE 477R\",\"metrics\":{\"centrality\":0,\"complexity\":1.0,\"blocking factor\":0,\"delay factor\":1.0},\"nameSub\":\"Microbiology for Engineers\",\"id\":28,\"credits\":3,\"nameCanonical\":\"\"},{\"curriculum_requisites\":[{\"source_id\":22,\"target_id\":29,\"type\":\"CurriculumPrerequisite\"},{\"source_id\":21,\"target_id\":29,\"type\":\"CurriculumPrerequisite\"},{\"source_id\":14,\"target_id\":29,\"type\":\"CurriculumPrerequisite\"}],\"name\":\"CHEE 402\",\"metrics\":{\"centrality\":516,\"complexity\":18.0,\"blocking factor\":6,\"delay factor\":12.0},\"nameSub\":\"Chemical Engineering Modeling\",\"id\":29,\"credits\":3,\"nameCanonical\":\"\"}],\"id\":5},{\"name\":\"Term 6\",\"curriculum_items\":[{\"curriculum_requisites\":[{\"source_id\":29,\"target_id\":30,\"type\":\"CurriculumPrerequisite\"},{\"source_id\":24,\"target_id\":30,\"type\":\"CurriculumPrerequisite\"}],\"name\":\"CHEE 305\",\"metrics\":{\"centrality\":351,\"complexity\":16.0,\"blocking factor\":4,\"delay factor\":12.0},\"nameSub\":\"Chemical Engineering Transport Phenomena\",\"id\":30,\"credits\":3,\"nameCanonical\":\"\"},{\"curriculum_requisites\":[{\"source_id\":35,\"target_id\":31,\"type\":\"CurriculumStrictCorequisite\"},{\"source_id\":27,\"target_id\":31,\"type\":\"CurriculumPrerequisite\"},{\"source_id\":24,\"target_id\":31,\"type\":\"CurriculumPrerequisite\"},{\"source_id\":30,\"target_id\":31,\"type\":\"CurriculumStrictCorequisite\"}],\"name\":\"CHEE 301B\",\"metrics\":{\"centrality\":687,\"complexity\":15.0,\"blocking factor\":3,\"delay factor\":12.0},\"nameSub\":\"Chemical Engineering Lab II\",\"id\":31,\"credits\":1,\"nameCanonical\":\"\"},{\"curriculum_requisites\":[],\"name\":\"ABE 120\",\"metrics\":{\"centrality\":0,\"complexity\":1.0,\"blocking factor\":0,\"delay factor\":1.0},\"nameSub\":\"Basic Computer Skills for Office Applications\",\"id\":32,\"credits\":3,\"nameCanonical\":\"\"},{\"curriculum_requisites\":[],\"name\":\" \",\"metrics\":{\"centrality\":0,\"complexity\":1.0,\"blocking factor\":0,\"delay factor\":1.0},\"nameSub\":\"Chemical Engineering Technical Electives\",\"id\":33,\"credits\":3,\"nameCanonical\":\"\"},{\"curriculum_requisites\":[],\"name\":\" \",\"metrics\":{\"centrality\":0,\"complexity\":1.0,\"blocking factor\":0,\"delay factor\":1.0},\"nameSub\":\"Tier I General Education \",\"id\":34,\"credits\":3,\"nameCanonical\":\"\"},{\"curriculum_requisites\":[{\"source_id\":26,\"target_id\":35,\"type\":\"CurriculumPrerequisite\"},{\"source_id\":24,\"target_id\":35,\"type\":\"CurriculumPrerequisite\"}],\"name\":\"CHEE 326\",\"metrics\":{\"centrality\":379,\"complexity\":16.0,\"blocking factor\":5,\"delay factor\":11.0},\"nameSub\":\"Chemical and Physical Equilibrium\",\"id\":35,\"credits\":3,\"nameCanonical\":\"\"}],\"id\":6},{\"name\":\"Term 7\",\"curriculum_items\":[{\"curriculum_requisites\":[{\"source_id\":35,\"target_id\":36,\"type\":\"CurriculumPrerequisite\"},{\"source_id\":29,\"target_id\":36,\"type\":\"CurriculumCorequisite\"}],\"name\":\"CHEE 420\",\"metrics\":{\"centrality\":442,\"complexity\":14.0,\"blocking factor\":3,\"delay factor\":11.0},\"nameSub\":\"Chemical Reaction Engineering\",\"id\":36,\"credits\":3,\"nameCanonical\":\"\"},{\"curriculum_requisites\":[{\"source_id\":36,\"target_id\":37,\"type\":\"CurriculumStrictCorequisite\"},{\"source_id\":31,\"target_id\":37,\"type\":\"CurriculumPrerequisite\"}],\"name\":\"CHEE 401A\",\"metrics\":{\"centrality\":783,\"complexity\":14.0,\"blocking factor\":2,\"delay factor\":12.0},\"nameSub\":\"Chemical and Environmental Engineering Laboratory I\",\"id\":37,\"credits\":1,\"nameCanonical\":\"\"},{\"curriculum_requisites\":[{\"source_id\":20,\"target_id\":38,\"type\":\"CurriculumPrerequisite\"},{\"source_id\":8,\"target_id\":38,\"type\":\"CurriculumPrerequisite\"},{\"source_id\":17,\"target_id\":38,\"type\":\"CurriculumPrerequisite\"}],\"name\":\"CHEM 480B\",\"metrics\":{\"centrality\":0,\"complexity\":5.0,\"blocking factor\":0,\"delay factor\":5.0},\"nameSub\":\"Physical Chemistry\",\"id\":38,\"credits\":3,\"nameCanonical\":\"\"},{\"curriculum_requisites\":[{\"source_id\":24,\"target_id\":39,\"type\":\"CurriculumPrerequisite\"}],\"name\":\"CHEE 442\",\"metrics\":{\"centrality\":22,\"complexity\":9.0,\"blocking factor\":1,\"delay factor\":8.0},\"nameSub\":\"Chemical Engineering Design Principles\",\"id\":39,\"credits\":3,\"nameCanonical\":\"\"},{\"curriculum_requisites\":[],\"name\":\"AME 313\",\"metrics\":{\"centrality\":0,\"complexity\":1.0,\"blocking factor\":0,\"delay factor\":1.0},\"nameSub\":\"Aerospace/Mechanical Engineering Laboratory\",\"id\":40,\"credits\":3,\"nameCanonical\":\"\"},{\"curriculum_requisites\":[],\"name\":\" \",\"metrics\":{\"centrality\":0,\"complexity\":1.0,\"blocking factor\":0,\"delay factor\":1.0},\"nameSub\":\"Tier II General Education \",\"id\":41,\"credits\":3,\"nameCanonical\":\"\"}],\"id\":7},{\"name\":\"Term 8\",\"curriculum_items\":[{\"curriculum_requisites\":[{\"source_id\":36,\"target_id\":42,\"type\":\"CurriculumPrerequisite\"},{\"source_id\":37,\"target_id\":42,\"type\":\"CurriculumPrerequisite\"}],\"name\":\"CHEE 413\",\"metrics\":{\"centrality\":554,\"complexity\":13.0,\"blocking factor\":1,\"delay factor\":12.0},\"nameSub\":\"Process Control and Simulation\",\"id\":42,\"credits\":3,\"nameCanonical\":\"\"},{\"curriculum_requisites\":[],\"name\":\" \",\"metrics\":{\"centrality\":0,\"complexity\":1.0,\"blocking factor\":0,\"delay factor\":1.0},\"nameSub\":\"Chemical Engineering Technical Electives\",\"id\":43,\"credits\":3,\"nameCanonical\":\"\"},{\"curriculum_requisites\":[{\"source_id\":39,\"target_id\":44,\"type\":\"CurriculumPrerequisite\"}],\"name\":\"CHEE 443\",\"metrics\":{\"centrality\":0,\"complexity\":8.0,\"blocking factor\":0,\"delay factor\":8.0},\"nameSub\":\"Chemical Engineering Plant Design\",\"id\":44,\"credits\":3,\"nameCanonical\":\"\"},{\"curriculum_requisites\":[{\"source_id\":27,\"target_id\":45,\"type\":\"CurriculumPrerequisite\"},{\"source_id\":31,\"target_id\":45,\"type\":\"CurriculumPrerequisite\"},{\"source_id\":42,\"target_id\":45,\"type\":\"CurriculumCorequisite\"},{\"source_id\":37,\"target_id\":45,\"type\":\"CurriculumPrerequisite\"}],\"name\":\"CHEE 401B\",\"metrics\":{\"centrality\":0,\"complexity\":12.0,\"blocking factor\":0,\"delay factor\":12.0},\"nameSub\":\"Process Dynamics and Control Laboratory\",\"id\":45,\"credits\":1,\"nameCanonical\":\"\"},{\"curriculum_requisites\":[],\"name\":\" \",\"metrics\":{\"centrality\":0,\"complexity\":1.0,\"blocking factor\":0,\"delay factor\":1.0},\"nameSub\":\"Tier II General Education \",\"id\":46,\"credits\":3,\"nameCanonical\":\"\"},{\"curriculum_requisites\":[],\"name\":\"MSE 331R\",\"metrics\":{\"centrality\":0,\"complexity\":1.0,\"blocking factor\":0,\"delay factor\":1.0},\"nameSub\":\"Fundamentals of Materials for Engineers\",\"id\":47,\"credits\":3,\"nameCanonical\":\"\"}],\"id\":8}],\"institution\":\"University of Arizona\"}},\"*\"); window.removeEventListener(\"message\",window.messageReceived); window.messageReceived=(function (event){return (event.data.curriculum!==undefined) ? (WebIO.setval({\"name\":\"curriculum-data\",\"scope\":\"17776514461581644972\",\"id\":\"15453740922630858420\",\"type\":\"observable\"},event.data.curriculum)) : undefined}); return window.addEventListener(\"message\",window.messageReceived)})"
          },
          "id": "curriculum",
          "src": "https://curricula-api-embed.damoursystems.com/",
          "style": {
           "border": "none",
           "height": "100vh",
           "margin": "0",
           "padding": "0",
           "width": "100%"
          }
         },
         "type": "node"
        }
       ],
       "instanceArgs": {
        "handlers": {},
        "id": "17776514461581644972",
        "imports": {
         "data": [],
         "type": "async_block"
        },
        "mount_callbacks": [],
        "observables": {
         "curriculum-data": {
          "id": "15453740922630858420",
          "sync": true,
          "value": {
           "curriculum": {
            "curriculum_terms": [
             {
              "curriculum_items": [
               {
                "credits": 4,
                "curriculum_requisites": [
                 {
                  "source_id": 4,
                  "target_id": 1,
                  "type": "CurriculumCorequisite"
                 }
                ],
                "id": 1,
                "metrics": {
                 "blocking factor": 16,
                 "centrality": 141,
                 "complexity": 28,
                 "delay factor": 12
                },
                "name": "CHEM 151",
                "nameCanonical": "",
                "nameSub": "General Chemistry I"
               },
               {
                "credits": 3,
                "curriculum_requisites": [],
                "id": 2,
                "metrics": {
                 "blocking factor": 0,
                 "centrality": 0,
                 "complexity": 1,
                 "delay factor": 1
                },
                "name": " ",
                "nameCanonical": "",
                "nameSub": "Tier I General Education "
               },
               {
                "credits": 1,
                "curriculum_requisites": [],
                "id": 3,
                "metrics": {
                 "blocking factor": 31,
                 "centrality": 0,
                 "complexity": 43,
                 "delay factor": 12
                },
                "name": "MATH 122A",
                "nameCanonical": "",
                "nameSub": "Functions for Calculus"
               },
               {
                "credits": 4,
                "curriculum_requisites": [
                 {
                  "source_id": 3,
                  "target_id": 4,
                  "type": "CurriculumCorequisite"
                 }
                ],
                "id": 4,
                "metrics": {
                 "blocking factor": 30,
                 "centrality": 1225,
                 "complexity": 42,
                 "delay factor": 12
                },
                "name": "MATH 122B",
                "nameCanonical": "",
                "nameSub": "First-Semester Calculus"
               },
               {
                "credits": 3,
                "curriculum_requisites": [],
                "id": 5,
                "metrics": {
                 "blocking factor": 1,
                 "centrality": 0,
                 "complexity": 3,
                 "delay factor": 2
                },
                "name": "ENGL 101",
                "nameCanonical": "",
                "nameSub": "First-Year Composition"
               },
               {
                "credits": 3,
                "curriculum_requisites": [],
                "id": 6,
                "metrics": {
                 "blocking factor": 0,
                 "centrality": 0,
                 "complexity": 1,
                 "delay factor": 1
                },
                "name": " ",
                "nameCanonical": "",
                "nameSub": "ENGR 102A/B or ENGR 102"
               }
              ],
              "id": 1,
              "name": "Term 1"
             },
             {
              "curriculum_items": [
               {
                "credits": 3,
                "curriculum_requisites": [
                 {
                  "source_id": 4,
                  "target_id": 7,
                  "type": "CurriculumPrerequisite"
                 }
                ],
                "id": 7,
                "metrics": {
                 "blocking factor": 20,
                 "centrality": 393,
                 "complexity": 31,
                 "delay factor": 11
                },
                "name": "MATH 129",
                "nameCanonical": "",
                "nameSub": "Calculus II"
               },
               {
                "credits": 4,
                "curriculum_requisites": [
                 {
                  "source_id": 4,
                  "target_id": 8,
                  "type": "CurriculumPrerequisite"
                 },
                 {
                  "source_id": 1,
                  "target_id": 8,
                  "type": "CurriculumPrerequisite"
                 }
                ],
                "id": 8,
                "metrics": {
                 "blocking factor": 15,
                 "centrality": 266,
                 "complexity": 27,
                 "delay factor": 12
                },
                "name": "CHEM 152",
                "nameCanonical": "",
                "nameSub": "General Chemistry II"
               },
               {
                "credits": 3,
                "curriculum_requisites": [
                 {
                  "source_id": 5,
                  "target_id": 9,
                  "type": "CurriculumPrerequisite"
                 }
                ],
                "id": 9,
                "metrics": {
                 "blocking factor": 0,
                 "centrality": 0,
                 "complexity": 2,
                 "delay factor": 2
                },
                "name": "ENGL 102",
                "nameCanonical": "",
                "nameSub": "First-Year Composition"
               },
               {
                "credits": 4,
                "curriculum_requisites": [
                 {
                  "source_id": 4,
                  "target_id": 10,
                  "type": "CurriculumPrerequisite"
                 }
                ],
                "id": 10,
                "metrics": {
                 "blocking factor": 15,
                 "centrality": 197,
                 "complexity": 25,
                 "delay factor": 10
                },
                "name": "PHYS 141",
                "nameCanonical": "",
                "nameSub": "Introductory Mechanics"
               },
               {
                "credits": 1,
                "curriculum_requisites": [
                 {
                  "source_id": 4,
                  "target_id": 11,
                  "type": "CurriculumPrerequisite"
                 }
                ],
                "id": 11,
                "metrics": {
                 "blocking factor": 10,
                 "centrality": 174,
                 "complexity": 22,
                 "delay factor": 12
                },
                "name": "AME 105",
                "nameCanonical": "",
                "nameSub": "Introduction to MATLAB I"
               }
              ],
              "id": 2,
              "name": "Term 2"
             },
             {
              "curriculum_items": [
               {
                "credits": 1,
                "curriculum_requisites": [
                 {
                  "source_id": 16,
                  "target_id": 12,
                  "type": "CurriculumCorequisite"
                 },
                 {
                  "source_id": 8,
                  "target_id": 12,
                  "type": "CurriculumPrerequisite"
                 }
                ],
                "id": 12,
                "metrics": {
                 "blocking factor": 0,
                 "centrality": 0,
                 "complexity": 6,
                 "delay factor": 6
                },
                "name": "CHEM 243A",
                "nameCanonical": "",
                "nameSub": "Organic Chemistry Laboratory I"
               },
               {
                "credits": 3,
                "curriculum_requisites": [],
                "id": 13,
                "metrics": {
                 "blocking factor": 0,
                 "centrality": 0,
                 "complexity": 1,
                 "delay factor": 1
                },
                "name": " ",
                "nameCanonical": "",
                "nameSub": "Tier I General Education "
               },
               {
                "credits": 1,
                "curriculum_requisites": [
                 {
                  "source_id": 11,
                  "target_id": 14,
                  "type": "CurriculumPrerequisite"
                 }
                ],
                "id": 14,
                "metrics": {
                 "blocking factor": 9,
                 "centrality": 116,
                 "complexity": 21,
                 "delay factor": 12
                },
                "name": "AME 205",
                "nameCanonical": "",
                "nameSub": "Introduction to MATLAB II"
               },
               {
                "credits": 1,
                "curriculum_requisites": [
                 {
                  "source_id": 11,
                  "target_id": 15,
                  "type": "CurriculumPrerequisite"
                 },
                 {
                  "source_id": 8,
                  "target_id": 15,
                  "type": "CurriculumPrerequisite"
                 },
                 {
                  "source_id": 14,
                  "target_id": 15,
                  "type": "CurriculumCorequisite"
                 }
                ],
                "id": 15,
                "metrics": {
                 "blocking factor": 8,
                 "centrality": 244,
                 "complexity": 20,
                 "delay factor": 12
                },
                "name": "CHEE 201L",
                "nameCanonical": "",
                "nameSub": "Elements of Chemical & Environmental Engineering I - Computational Lab"
               },
               {
                "credits": 3,
                "curriculum_requisites": [
                 {
                  "source_id": 8,
                  "target_id": 16,
                  "type": "CurriculumPrerequisite"
                 }
                ],
                "id": 16,
                "metrics": {
                 "blocking factor": 2,
                 "centrality": 22,
                 "complexity": 8,
                 "delay factor": 6
                },
                "name": "CHEM 241A",
                "nameCanonical": "",
                "nameSub": "Lectures in Organic Chemistry"
               },
               {
                "credits": 4,
                "curriculum_requisites": [
                 {
                  "source_id": 7,
                  "target_id": 17,
                  "type": "CurriculumPrerequisite"
                 }
                ],
                "id": 17,
                "metrics": {
                 "blocking factor": 8,
                 "centrality": 60,
                 "complexity": 18,
                 "delay factor": 10
                },
                "name": "MATH 223",
                "nameCanonical": "",
                "nameSub": "Vector Calculus"
               },
               {
                "credits": 3,
                "curriculum_requisites": [
                 {
                  "source_id": 4,
                  "target_id": 18,
                  "type": "CurriculumPrerequisite"
                 },
                 {
                  "source_id": 7,
                  "target_id": 18,
                  "type": "CurriculumCorequisite"
                 }
                ],
                "id": 18,
                "metrics": {
                 "blocking factor": 14,
                 "centrality": 413,
                 "complexity": 25,
                 "delay factor": 11
                },
                "name": "CHEE 201",
                "nameCanonical": "",
                "nameSub": "Elements of Chemical & Environmental Engineering I"
               }
              ],
              "id": 3,
              "name": "Term 3"
             },
             {
              "curriculum_items": [
               {
                "credits": 3,
                "curriculum_requisites": [
                 {
                  "source_id": 16,
                  "target_id": 19,
                  "type": "CurriculumPrerequisite"
                 }
                ],
                "id": 19,
                "metrics": {
                 "blocking factor": 0,
                 "centrality": 0,
                 "complexity": 6,
                 "delay factor": 6
                },
                "name": "CHEM 241B",
                "nameCanonical": "",
                "nameSub": "Lectures in Organic Chemistry"
               },
               {
                "credits": 4,
                "curriculum_requisites": [
                 {
                  "source_id": 7,
                  "target_id": 20,
                  "type": "CurriculumPrerequisite"
                 },
                 {
                  "source_id": 10,
                  "target_id": 20,
                  "type": "CurriculumPrerequisite"
                 }
                ],
                "id": 20,
                "metrics": {
                 "blocking factor": 1,
                 "centrality": 10,
                 "complexity": 6,
                 "delay factor": 5
                },
                "name": "PHYS 241",
                "nameCanonical": "",
                "nameSub": "Introductory Electricity and Magnetism"
               },
               {
                "credits": 4,
                "curriculum_requisites": [
                 {
                  "source_id": 22,
                  "target_id": 21,
                  "type": "CurriculumCorequisite"
                 },
                 {
                  "source_id": 15,
                  "target_id": 21,
                  "type": "CurriculumPrerequisite"
                 },
                 {
                  "source_id": 18,
                  "target_id": 21,
                  "type": "CurriculumPrerequisite"
                 }
                ],
                "id": 21,
                "metrics": {
                 "blocking factor": 7,
                 "centrality": 412,
                 "complexity": 19,
                 "delay factor": 12
                },
                "name": "CHEE 202",
                "nameCanonical": "",
                "nameSub": "Elements of Chemical and Environmental Engineering II"
               },
               {
                "credits": 3,
                "curriculum_requisites": [
                 {
                  "source_id": 7,
                  "target_id": 22,
                  "type": "CurriculumPrerequisite"
                 }
                ],
                "id": 22,
                "metrics": {
                 "blocking factor": 8,
                 "centrality": 110,
                 "complexity": 19,
                 "delay factor": 11
                },
                "name": "MATH 254",
                "nameCanonical": "",
                "nameSub": "Introduction to Ordinary Differential Equations"
               },
               {
                "credits": 3,
                "curriculum_requisites": [
                 {
                  "source_id": 10,
                  "target_id": 23,
                  "type": "CurriculumPrerequisite"
                 },
                 {
                  "source_id": 18,
                  "target_id": 23,
                  "type": "CurriculumPrerequisite"
                 }
                ],
                "id": 23,
                "metrics": {
                 "blocking factor": 11,
                 "centrality": 446,
                 "complexity": 22,
                 "delay factor": 11
                },
                "name": "CHEE 203",
                "nameCanonical": "",
                "nameSub": "Chemical Engineering Heat Transfer and Fluid Flow"
               }
              ],
              "id": 4,
              "name": "Term 4"
             },
             {
              "curriculum_items": [
               {
                "credits": 3,
                "curriculum_requisites": [
                 {
                  "source_id": 23,
                  "target_id": 24,
                  "type": "CurriculumPrerequisite"
                 }
                ],
                "id": 24,
                "metrics": {
                 "blocking factor": 9,
                 "centrality": 352,
                 "complexity": 20,
                 "delay factor": 11
                },
                "name": "CHEE 303",
                "nameCanonical": "",
                "nameSub": "Chemical Engineering Mass Transfer"
               },
               {
                "credits": 3,
                "curriculum_requisites": [],
                "id": 25,
                "metrics": {
                 "blocking factor": 0,
                 "centrality": 0,
                 "complexity": 1,
                 "delay factor": 1
                },
                "name": " ",
                "nameCanonical": "",
                "nameSub": "Tier I General Education "
               },
               {
                "credits": 3,
                "curriculum_requisites": [
                 {
                  "source_id": 10,
                  "target_id": 26,
                  "type": "CurriculumPrerequisite"
                 },
                 {
                  "source_id": 8,
                  "target_id": 26,
                  "type": "CurriculumPrerequisite"
                 },
                 {
                  "source_id": 17,
                  "target_id": 26,
                  "type": "CurriculumPrerequisite"
                 }
                ],
                "id": 26,
                "metrics": {
                 "blocking factor": 6,
                 "centrality": 208,
                 "complexity": 16,
                 "delay factor": 10
                },
                "name": "CHEM 480A",
                "nameCanonical": "",
                "nameSub": "Physical Chemistry"
               },
               {
                "credits": 1,
                "curriculum_requisites": [
                 {
                  "source_id": 23,
                  "target_id": 27,
                  "type": "CurriculumPrerequisite"
                 }
                ],
                "id": 27,
                "metrics": {
                 "blocking factor": 4,
                 "centrality": 94,
                 "complexity": 14,
                 "delay factor": 10
                },
                "name": "CHEE 301A",
                "nameCanonical": "",
                "nameSub": "Chemcial Engineering Lab I"
               },
               {
                "credits": 3,
                "curriculum_requisites": [],
                "id": 28,
                "metrics": {
                 "blocking factor": 0,
                 "centrality": 0,
                 "complexity": 1,
                 "delay factor": 1
                },
                "name": "CHEE 477R",
                "nameCanonical": "",
                "nameSub": "Microbiology for Engineers"
               },
               {
                "credits": 3,
                "curriculum_requisites": [
                 {
                  "source_id": 22,
                  "target_id": 29,
                  "type": "CurriculumPrerequisite"
                 },
                 {
                  "source_id": 21,
                  "target_id": 29,
                  "type": "CurriculumPrerequisite"
                 },
                 {
                  "source_id": 14,
                  "target_id": 29,
                  "type": "CurriculumPrerequisite"
                 }
                ],
                "id": 29,
                "metrics": {
                 "blocking factor": 6,
                 "centrality": 516,
                 "complexity": 18,
                 "delay factor": 12
                },
                "name": "CHEE 402",
                "nameCanonical": "",
                "nameSub": "Chemical Engineering Modeling"
               }
              ],
              "id": 5,
              "name": "Term 5"
             },
             {
              "curriculum_items": [
               {
                "credits": 3,
                "curriculum_requisites": [
                 {
                  "source_id": 29,
                  "target_id": 30,
                  "type": "CurriculumPrerequisite"
                 },
                 {
                  "source_id": 24,
                  "target_id": 30,
                  "type": "CurriculumPrerequisite"
                 }
                ],
                "id": 30,
                "metrics": {
                 "blocking factor": 4,
                 "centrality": 351,
                 "complexity": 16,
                 "delay factor": 12
                },
                "name": "CHEE 305",
                "nameCanonical": "",
                "nameSub": "Chemical Engineering Transport Phenomena"
               },
               {
                "credits": 1,
                "curriculum_requisites": [
                 {
                  "source_id": 35,
                  "target_id": 31,
                  "type": "CurriculumStrictCorequisite"
                 },
                 {
                  "source_id": 27,
                  "target_id": 31,
                  "type": "CurriculumPrerequisite"
                 },
                 {
                  "source_id": 24,
                  "target_id": 31,
                  "type": "CurriculumPrerequisite"
                 },
                 {
                  "source_id": 30,
                  "target_id": 31,
                  "type": "CurriculumStrictCorequisite"
                 }
                ],
                "id": 31,
                "metrics": {
                 "blocking factor": 3,
                 "centrality": 687,
                 "complexity": 15,
                 "delay factor": 12
                },
                "name": "CHEE 301B",
                "nameCanonical": "",
                "nameSub": "Chemical Engineering Lab II"
               },
               {
                "credits": 3,
                "curriculum_requisites": [],
                "id": 32,
                "metrics": {
                 "blocking factor": 0,
                 "centrality": 0,
                 "complexity": 1,
                 "delay factor": 1
                },
                "name": "ABE 120",
                "nameCanonical": "",
                "nameSub": "Basic Computer Skills for Office Applications"
               },
               {
                "credits": 3,
                "curriculum_requisites": [],
                "id": 33,
                "metrics": {
                 "blocking factor": 0,
                 "centrality": 0,
                 "complexity": 1,
                 "delay factor": 1
                },
                "name": " ",
                "nameCanonical": "",
                "nameSub": "Chemical Engineering Technical Electives"
               },
               {
                "credits": 3,
                "curriculum_requisites": [],
                "id": 34,
                "metrics": {
                 "blocking factor": 0,
                 "centrality": 0,
                 "complexity": 1,
                 "delay factor": 1
                },
                "name": " ",
                "nameCanonical": "",
                "nameSub": "Tier I General Education "
               },
               {
                "credits": 3,
                "curriculum_requisites": [
                 {
                  "source_id": 26,
                  "target_id": 35,
                  "type": "CurriculumPrerequisite"
                 },
                 {
                  "source_id": 24,
                  "target_id": 35,
                  "type": "CurriculumPrerequisite"
                 }
                ],
                "id": 35,
                "metrics": {
                 "blocking factor": 5,
                 "centrality": 379,
                 "complexity": 16,
                 "delay factor": 11
                },
                "name": "CHEE 326",
                "nameCanonical": "",
                "nameSub": "Chemical and Physical Equilibrium"
               }
              ],
              "id": 6,
              "name": "Term 6"
             },
             {
              "curriculum_items": [
               {
                "credits": 3,
                "curriculum_requisites": [
                 {
                  "source_id": 35,
                  "target_id": 36,
                  "type": "CurriculumPrerequisite"
                 },
                 {
                  "source_id": 29,
                  "target_id": 36,
                  "type": "CurriculumCorequisite"
                 }
                ],
                "id": 36,
                "metrics": {
                 "blocking factor": 3,
                 "centrality": 442,
                 "complexity": 14,
                 "delay factor": 11
                },
                "name": "CHEE 420",
                "nameCanonical": "",
                "nameSub": "Chemical Reaction Engineering"
               },
               {
                "credits": 1,
                "curriculum_requisites": [
                 {
                  "source_id": 36,
                  "target_id": 37,
                  "type": "CurriculumStrictCorequisite"
                 },
                 {
                  "source_id": 31,
                  "target_id": 37,
                  "type": "CurriculumPrerequisite"
                 }
                ],
                "id": 37,
                "metrics": {
                 "blocking factor": 2,
                 "centrality": 783,
                 "complexity": 14,
                 "delay factor": 12
                },
                "name": "CHEE 401A",
                "nameCanonical": "",
                "nameSub": "Chemical and Environmental Engineering Laboratory I"
               },
               {
                "credits": 3,
                "curriculum_requisites": [
                 {
                  "source_id": 20,
                  "target_id": 38,
                  "type": "CurriculumPrerequisite"
                 },
                 {
                  "source_id": 8,
                  "target_id": 38,
                  "type": "CurriculumPrerequisite"
                 },
                 {
                  "source_id": 17,
                  "target_id": 38,
                  "type": "CurriculumPrerequisite"
                 }
                ],
                "id": 38,
                "metrics": {
                 "blocking factor": 0,
                 "centrality": 0,
                 "complexity": 5,
                 "delay factor": 5
                },
                "name": "CHEM 480B",
                "nameCanonical": "",
                "nameSub": "Physical Chemistry"
               },
               {
                "credits": 3,
                "curriculum_requisites": [
                 {
                  "source_id": 24,
                  "target_id": 39,
                  "type": "CurriculumPrerequisite"
                 }
                ],
                "id": 39,
                "metrics": {
                 "blocking factor": 1,
                 "centrality": 22,
                 "complexity": 9,
                 "delay factor": 8
                },
                "name": "CHEE 442",
                "nameCanonical": "",
                "nameSub": "Chemical Engineering Design Principles"
               },
               {
                "credits": 3,
                "curriculum_requisites": [],
                "id": 40,
                "metrics": {
                 "blocking factor": 0,
                 "centrality": 0,
                 "complexity": 1,
                 "delay factor": 1
                },
                "name": "AME 313",
                "nameCanonical": "",
                "nameSub": "Aerospace/Mechanical Engineering Laboratory"
               },
               {
                "credits": 3,
                "curriculum_requisites": [],
                "id": 41,
                "metrics": {
                 "blocking factor": 0,
                 "centrality": 0,
                 "complexity": 1,
                 "delay factor": 1
                },
                "name": " ",
                "nameCanonical": "",
                "nameSub": "Tier II General Education "
               }
              ],
              "id": 7,
              "name": "Term 7"
             },
             {
              "curriculum_items": [
               {
                "credits": 3,
                "curriculum_requisites": [
                 {
                  "source_id": 36,
                  "target_id": 42,
                  "type": "CurriculumPrerequisite"
                 },
                 {
                  "source_id": 37,
                  "target_id": 42,
                  "type": "CurriculumPrerequisite"
                 }
                ],
                "id": 42,
                "metrics": {
                 "blocking factor": 1,
                 "centrality": 554,
                 "complexity": 13,
                 "delay factor": 12
                },
                "name": "CHEE 413",
                "nameCanonical": "",
                "nameSub": "Process Control and Simulation"
               },
               {
                "credits": 3,
                "curriculum_requisites": [],
                "id": 43,
                "metrics": {
                 "blocking factor": 0,
                 "centrality": 0,
                 "complexity": 1,
                 "delay factor": 1
                },
                "name": " ",
                "nameCanonical": "",
                "nameSub": "Chemical Engineering Technical Electives"
               },
               {
                "credits": 3,
                "curriculum_requisites": [
                 {
                  "source_id": 39,
                  "target_id": 44,
                  "type": "CurriculumPrerequisite"
                 }
                ],
                "id": 44,
                "metrics": {
                 "blocking factor": 0,
                 "centrality": 0,
                 "complexity": 8,
                 "delay factor": 8
                },
                "name": "CHEE 443",
                "nameCanonical": "",
                "nameSub": "Chemical Engineering Plant Design"
               },
               {
                "credits": 1,
                "curriculum_requisites": [
                 {
                  "source_id": 27,
                  "target_id": 45,
                  "type": "CurriculumPrerequisite"
                 },
                 {
                  "source_id": 31,
                  "target_id": 45,
                  "type": "CurriculumPrerequisite"
                 },
                 {
                  "source_id": 42,
                  "target_id": 45,
                  "type": "CurriculumCorequisite"
                 },
                 {
                  "source_id": 37,
                  "target_id": 45,
                  "type": "CurriculumPrerequisite"
                 }
                ],
                "id": 45,
                "metrics": {
                 "blocking factor": 0,
                 "centrality": 0,
                 "complexity": 12,
                 "delay factor": 12
                },
                "name": "CHEE 401B",
                "nameCanonical": "",
                "nameSub": "Process Dynamics and Control Laboratory"
               },
               {
                "credits": 3,
                "curriculum_requisites": [],
                "id": 46,
                "metrics": {
                 "blocking factor": 0,
                 "centrality": 0,
                 "complexity": 1,
                 "delay factor": 1
                },
                "name": " ",
                "nameCanonical": "",
                "nameSub": "Tier II General Education "
               },
               {
                "credits": 3,
                "curriculum_requisites": [],
                "id": 47,
                "metrics": {
                 "blocking factor": 0,
                 "centrality": 0,
                 "complexity": 1,
                 "delay factor": 1
                },
                "name": "MSE 331R",
                "nameCanonical": "",
                "nameSub": "Fundamentals of Materials for Engineers"
               }
              ],
              "id": 8,
              "name": "Term 8"
             }
            ],
            "dp_name": "2019-20 Degree Plan",
            "institution": "University of Arizona",
            "name": "Chemical Engineering - (Bachelor of Science in Chemical Engineering)"
           },
           "options": {
            "edit": false,
            "hideTerms": false
           }
          }
         }
        },
        "systemjs_options": null
       },
       "nodeType": "Scope",
       "props": {},
       "type": "node"
      },
      "text/html": [
       "<div\n",
       "    class=\"webio-mountpoint\"\n",
       "    data-webio-mountpoint=\"5495677873022472958\"\n",
       ">\n",
       "    <script>\n",
       "    (function(){\n",
       "    // Some integrations (namely, IJulia/Jupyter) use an alternate render pathway than\n",
       "    // just putting the html on the page. If WebIO isn't defined, then it's pretty likely\n",
       "    // that we're in one of those situations and the integration just isn't installed\n",
       "    // correctly.\n",
       "    if (typeof window.WebIO === \"undefined\") {\n",
       "        document\n",
       "            .querySelector('[data-webio-mountpoint=\"5495677873022472958\"]')\n",
       "            .innerHTML = (\n",
       "                '<div style=\"padding: 1em; background-color: #f8d6da; border: 1px solid #f5c6cb; font-weight: bold;\">' +\n",
       "                '<p><strong>WebIO not detected.</strong></p>' +\n",
       "                '<p>Please read ' +\n",
       "                '<a href=\"https://juliagizmos.github.io/WebIO.jl/latest/troubleshooting/not-detected/\" target=\"_blank\">the troubleshooting guide</a> ' +\n",
       "                'for more information on how to resolve this issue.</p>' +\n",
       "                '<p><a href=\"https://juliagizmos.github.io/WebIO.jl/latest/troubleshooting/not-detected/\" target=\"_blank\">https://juliagizmos.github.io/WebIO.jl/latest/troubleshooting/not-detected/</a></p>' +\n",
       "                '</div>'\n",
       "            );\n",
       "        return;\n",
       "    }\n",
       "    WebIO.mount(\n",
       "        document.querySelector('[data-webio-mountpoint=\"5495677873022472958\"]'),\n",
       "        {\"props\":{},\"nodeType\":\"Scope\",\"type\":\"node\",\"instanceArgs\":{\"imports\":{\"data\":[],\"type\":\"async_block\"},\"id\":\"17776514461581644972\",\"handlers\":{},\"systemjs_options\":null,\"mount_callbacks\":[],\"observables\":{\"curriculum-data\":{\"sync\":true,\"id\":\"15453740922630858420\",\"value\":{\"options\":{\"hideTerms\":false,\"edit\":false},\"curriculum\":{\"name\":\"Chemical Engineering - (Bachelor of Science in Chemical Engineering)\",\"dp_name\":\"2019-20 Degree Plan\",\"curriculum_terms\":[{\"name\":\"Term 1\",\"curriculum_items\":[{\"curriculum_requisites\":[{\"source_id\":4,\"target_id\":1,\"type\":\"CurriculumCorequisite\"}],\"name\":\"CHEM 151\",\"metrics\":{\"centrality\":141,\"complexity\":28.0,\"blocking factor\":16,\"delay factor\":12.0},\"nameSub\":\"General Chemistry I\",\"id\":1,\"credits\":4,\"nameCanonical\":\"\"},{\"curriculum_requisites\":[],\"name\":\" \",\"metrics\":{\"centrality\":0,\"complexity\":1.0,\"blocking factor\":0,\"delay factor\":1.0},\"nameSub\":\"Tier I General Education \",\"id\":2,\"credits\":3,\"nameCanonical\":\"\"},{\"curriculum_requisites\":[],\"name\":\"MATH 122A\",\"metrics\":{\"centrality\":0,\"complexity\":43.0,\"blocking factor\":31,\"delay factor\":12.0},\"nameSub\":\"Functions for Calculus\",\"id\":3,\"credits\":1,\"nameCanonical\":\"\"},{\"curriculum_requisites\":[{\"source_id\":3,\"target_id\":4,\"type\":\"CurriculumCorequisite\"}],\"name\":\"MATH 122B\",\"metrics\":{\"centrality\":1225,\"complexity\":42.0,\"blocking factor\":30,\"delay factor\":12.0},\"nameSub\":\"First-Semester Calculus\",\"id\":4,\"credits\":4,\"nameCanonical\":\"\"},{\"curriculum_requisites\":[],\"name\":\"ENGL 101\",\"metrics\":{\"centrality\":0,\"complexity\":3.0,\"blocking factor\":1,\"delay factor\":2.0},\"nameSub\":\"First-Year Composition\",\"id\":5,\"credits\":3,\"nameCanonical\":\"\"},{\"curriculum_requisites\":[],\"name\":\" \",\"metrics\":{\"centrality\":0,\"complexity\":1.0,\"blocking factor\":0,\"delay factor\":1.0},\"nameSub\":\"ENGR 102A\\/B or ENGR 102\",\"id\":6,\"credits\":3,\"nameCanonical\":\"\"}],\"id\":1},{\"name\":\"Term 2\",\"curriculum_items\":[{\"curriculum_requisites\":[{\"source_id\":4,\"target_id\":7,\"type\":\"CurriculumPrerequisite\"}],\"name\":\"MATH 129\",\"metrics\":{\"centrality\":393,\"complexity\":31.0,\"blocking factor\":20,\"delay factor\":11.0},\"nameSub\":\"Calculus II\",\"id\":7,\"credits\":3,\"nameCanonical\":\"\"},{\"curriculum_requisites\":[{\"source_id\":4,\"target_id\":8,\"type\":\"CurriculumPrerequisite\"},{\"source_id\":1,\"target_id\":8,\"type\":\"CurriculumPrerequisite\"}],\"name\":\"CHEM 152\",\"metrics\":{\"centrality\":266,\"complexity\":27.0,\"blocking factor\":15,\"delay factor\":12.0},\"nameSub\":\"General Chemistry II\",\"id\":8,\"credits\":4,\"nameCanonical\":\"\"},{\"curriculum_requisites\":[{\"source_id\":5,\"target_id\":9,\"type\":\"CurriculumPrerequisite\"}],\"name\":\"ENGL 102\",\"metrics\":{\"centrality\":0,\"complexity\":2.0,\"blocking factor\":0,\"delay factor\":2.0},\"nameSub\":\"First-Year Composition\",\"id\":9,\"credits\":3,\"nameCanonical\":\"\"},{\"curriculum_requisites\":[{\"source_id\":4,\"target_id\":10,\"type\":\"CurriculumPrerequisite\"}],\"name\":\"PHYS 141\",\"metrics\":{\"centrality\":197,\"complexity\":25.0,\"blocking factor\":15,\"delay factor\":10.0},\"nameSub\":\"Introductory Mechanics\",\"id\":10,\"credits\":4,\"nameCanonical\":\"\"},{\"curriculum_requisites\":[{\"source_id\":4,\"target_id\":11,\"type\":\"CurriculumPrerequisite\"}],\"name\":\"AME 105\",\"metrics\":{\"centrality\":174,\"complexity\":22.0,\"blocking factor\":10,\"delay factor\":12.0},\"nameSub\":\"Introduction to MATLAB I\",\"id\":11,\"credits\":1,\"nameCanonical\":\"\"}],\"id\":2},{\"name\":\"Term 3\",\"curriculum_items\":[{\"curriculum_requisites\":[{\"source_id\":16,\"target_id\":12,\"type\":\"CurriculumCorequisite\"},{\"source_id\":8,\"target_id\":12,\"type\":\"CurriculumPrerequisite\"}],\"name\":\"CHEM 243A\",\"metrics\":{\"centrality\":0,\"complexity\":6.0,\"blocking factor\":0,\"delay factor\":6.0},\"nameSub\":\"Organic Chemistry Laboratory I\",\"id\":12,\"credits\":1,\"nameCanonical\":\"\"},{\"curriculum_requisites\":[],\"name\":\" \",\"metrics\":{\"centrality\":0,\"complexity\":1.0,\"blocking factor\":0,\"delay factor\":1.0},\"nameSub\":\"Tier I General Education \",\"id\":13,\"credits\":3,\"nameCanonical\":\"\"},{\"curriculum_requisites\":[{\"source_id\":11,\"target_id\":14,\"type\":\"CurriculumPrerequisite\"}],\"name\":\"AME 205\",\"metrics\":{\"centrality\":116,\"complexity\":21.0,\"blocking factor\":9,\"delay factor\":12.0},\"nameSub\":\"Introduction to MATLAB II\",\"id\":14,\"credits\":1,\"nameCanonical\":\"\"},{\"curriculum_requisites\":[{\"source_id\":11,\"target_id\":15,\"type\":\"CurriculumPrerequisite\"},{\"source_id\":8,\"target_id\":15,\"type\":\"CurriculumPrerequisite\"},{\"source_id\":14,\"target_id\":15,\"type\":\"CurriculumCorequisite\"}],\"name\":\"CHEE 201L\",\"metrics\":{\"centrality\":244,\"complexity\":20.0,\"blocking factor\":8,\"delay factor\":12.0},\"nameSub\":\"Elements of Chemical & Environmental Engineering I - Computational Lab\",\"id\":15,\"credits\":1,\"nameCanonical\":\"\"},{\"curriculum_requisites\":[{\"source_id\":8,\"target_id\":16,\"type\":\"CurriculumPrerequisite\"}],\"name\":\"CHEM 241A\",\"metrics\":{\"centrality\":22,\"complexity\":8.0,\"blocking factor\":2,\"delay factor\":6.0},\"nameSub\":\"Lectures in Organic Chemistry\",\"id\":16,\"credits\":3,\"nameCanonical\":\"\"},{\"curriculum_requisites\":[{\"source_id\":7,\"target_id\":17,\"type\":\"CurriculumPrerequisite\"}],\"name\":\"MATH 223\",\"metrics\":{\"centrality\":60,\"complexity\":18.0,\"blocking factor\":8,\"delay factor\":10.0},\"nameSub\":\"Vector Calculus\",\"id\":17,\"credits\":4,\"nameCanonical\":\"\"},{\"curriculum_requisites\":[{\"source_id\":4,\"target_id\":18,\"type\":\"CurriculumPrerequisite\"},{\"source_id\":7,\"target_id\":18,\"type\":\"CurriculumCorequisite\"}],\"name\":\"CHEE 201\",\"metrics\":{\"centrality\":413,\"complexity\":25.0,\"blocking factor\":14,\"delay factor\":11.0},\"nameSub\":\"Elements of Chemical & Environmental Engineering I\",\"id\":18,\"credits\":3,\"nameCanonical\":\"\"}],\"id\":3},{\"name\":\"Term 4\",\"curriculum_items\":[{\"curriculum_requisites\":[{\"source_id\":16,\"target_id\":19,\"type\":\"CurriculumPrerequisite\"}],\"name\":\"CHEM 241B\",\"metrics\":{\"centrality\":0,\"complexity\":6.0,\"blocking factor\":0,\"delay factor\":6.0},\"nameSub\":\"Lectures in Organic Chemistry\",\"id\":19,\"credits\":3,\"nameCanonical\":\"\"},{\"curriculum_requisites\":[{\"source_id\":7,\"target_id\":20,\"type\":\"CurriculumPrerequisite\"},{\"source_id\":10,\"target_id\":20,\"type\":\"CurriculumPrerequisite\"}],\"name\":\"PHYS 241\",\"metrics\":{\"centrality\":10,\"complexity\":6.0,\"blocking factor\":1,\"delay factor\":5.0},\"nameSub\":\"Introductory Electricity and Magnetism\",\"id\":20,\"credits\":4,\"nameCanonical\":\"\"},{\"curriculum_requisites\":[{\"source_id\":22,\"target_id\":21,\"type\":\"CurriculumCorequisite\"},{\"source_id\":15,\"target_id\":21,\"type\":\"CurriculumPrerequisite\"},{\"source_id\":18,\"target_id\":21,\"type\":\"CurriculumPrerequisite\"}],\"name\":\"CHEE 202\",\"metrics\":{\"centrality\":412,\"complexity\":19.0,\"blocking factor\":7,\"delay factor\":12.0},\"nameSub\":\"Elements of Chemical and Environmental Engineering II\",\"id\":21,\"credits\":4,\"nameCanonical\":\"\"},{\"curriculum_requisites\":[{\"source_id\":7,\"target_id\":22,\"type\":\"CurriculumPrerequisite\"}],\"name\":\"MATH 254\",\"metrics\":{\"centrality\":110,\"complexity\":19.0,\"blocking factor\":8,\"delay factor\":11.0},\"nameSub\":\"Introduction to Ordinary Differential Equations\",\"id\":22,\"credits\":3,\"nameCanonical\":\"\"},{\"curriculum_requisites\":[{\"source_id\":10,\"target_id\":23,\"type\":\"CurriculumPrerequisite\"},{\"source_id\":18,\"target_id\":23,\"type\":\"CurriculumPrerequisite\"}],\"name\":\"CHEE 203\",\"metrics\":{\"centrality\":446,\"complexity\":22.0,\"blocking factor\":11,\"delay factor\":11.0},\"nameSub\":\"Chemical Engineering Heat Transfer and Fluid Flow\",\"id\":23,\"credits\":3,\"nameCanonical\":\"\"}],\"id\":4},{\"name\":\"Term 5\",\"curriculum_items\":[{\"curriculum_requisites\":[{\"source_id\":23,\"target_id\":24,\"type\":\"CurriculumPrerequisite\"}],\"name\":\"CHEE 303\",\"metrics\":{\"centrality\":352,\"complexity\":20.0,\"blocking factor\":9,\"delay factor\":11.0},\"nameSub\":\"Chemical Engineering Mass Transfer\",\"id\":24,\"credits\":3,\"nameCanonical\":\"\"},{\"curriculum_requisites\":[],\"name\":\" \",\"metrics\":{\"centrality\":0,\"complexity\":1.0,\"blocking factor\":0,\"delay factor\":1.0},\"nameSub\":\"Tier I General Education \",\"id\":25,\"credits\":3,\"nameCanonical\":\"\"},{\"curriculum_requisites\":[{\"source_id\":10,\"target_id\":26,\"type\":\"CurriculumPrerequisite\"},{\"source_id\":8,\"target_id\":26,\"type\":\"CurriculumPrerequisite\"},{\"source_id\":17,\"target_id\":26,\"type\":\"CurriculumPrerequisite\"}],\"name\":\"CHEM 480A\",\"metrics\":{\"centrality\":208,\"complexity\":16.0,\"blocking factor\":6,\"delay factor\":10.0},\"nameSub\":\"Physical Chemistry\",\"id\":26,\"credits\":3,\"nameCanonical\":\"\"},{\"curriculum_requisites\":[{\"source_id\":23,\"target_id\":27,\"type\":\"CurriculumPrerequisite\"}],\"name\":\"CHEE 301A\",\"metrics\":{\"centrality\":94,\"complexity\":14.0,\"blocking factor\":4,\"delay factor\":10.0},\"nameSub\":\"Chemcial Engineering Lab I\",\"id\":27,\"credits\":1,\"nameCanonical\":\"\"},{\"curriculum_requisites\":[],\"name\":\"CHEE 477R\",\"metrics\":{\"centrality\":0,\"complexity\":1.0,\"blocking factor\":0,\"delay factor\":1.0},\"nameSub\":\"Microbiology for Engineers\",\"id\":28,\"credits\":3,\"nameCanonical\":\"\"},{\"curriculum_requisites\":[{\"source_id\":22,\"target_id\":29,\"type\":\"CurriculumPrerequisite\"},{\"source_id\":21,\"target_id\":29,\"type\":\"CurriculumPrerequisite\"},{\"source_id\":14,\"target_id\":29,\"type\":\"CurriculumPrerequisite\"}],\"name\":\"CHEE 402\",\"metrics\":{\"centrality\":516,\"complexity\":18.0,\"blocking factor\":6,\"delay factor\":12.0},\"nameSub\":\"Chemical Engineering Modeling\",\"id\":29,\"credits\":3,\"nameCanonical\":\"\"}],\"id\":5},{\"name\":\"Term 6\",\"curriculum_items\":[{\"curriculum_requisites\":[{\"source_id\":29,\"target_id\":30,\"type\":\"CurriculumPrerequisite\"},{\"source_id\":24,\"target_id\":30,\"type\":\"CurriculumPrerequisite\"}],\"name\":\"CHEE 305\",\"metrics\":{\"centrality\":351,\"complexity\":16.0,\"blocking factor\":4,\"delay factor\":12.0},\"nameSub\":\"Chemical Engineering Transport Phenomena\",\"id\":30,\"credits\":3,\"nameCanonical\":\"\"},{\"curriculum_requisites\":[{\"source_id\":35,\"target_id\":31,\"type\":\"CurriculumStrictCorequisite\"},{\"source_id\":27,\"target_id\":31,\"type\":\"CurriculumPrerequisite\"},{\"source_id\":24,\"target_id\":31,\"type\":\"CurriculumPrerequisite\"},{\"source_id\":30,\"target_id\":31,\"type\":\"CurriculumStrictCorequisite\"}],\"name\":\"CHEE 301B\",\"metrics\":{\"centrality\":687,\"complexity\":15.0,\"blocking factor\":3,\"delay factor\":12.0},\"nameSub\":\"Chemical Engineering Lab II\",\"id\":31,\"credits\":1,\"nameCanonical\":\"\"},{\"curriculum_requisites\":[],\"name\":\"ABE 120\",\"metrics\":{\"centrality\":0,\"complexity\":1.0,\"blocking factor\":0,\"delay factor\":1.0},\"nameSub\":\"Basic Computer Skills for Office Applications\",\"id\":32,\"credits\":3,\"nameCanonical\":\"\"},{\"curriculum_requisites\":[],\"name\":\" \",\"metrics\":{\"centrality\":0,\"complexity\":1.0,\"blocking factor\":0,\"delay factor\":1.0},\"nameSub\":\"Chemical Engineering Technical Electives\",\"id\":33,\"credits\":3,\"nameCanonical\":\"\"},{\"curriculum_requisites\":[],\"name\":\" \",\"metrics\":{\"centrality\":0,\"complexity\":1.0,\"blocking factor\":0,\"delay factor\":1.0},\"nameSub\":\"Tier I General Education \",\"id\":34,\"credits\":3,\"nameCanonical\":\"\"},{\"curriculum_requisites\":[{\"source_id\":26,\"target_id\":35,\"type\":\"CurriculumPrerequisite\"},{\"source_id\":24,\"target_id\":35,\"type\":\"CurriculumPrerequisite\"}],\"name\":\"CHEE 326\",\"metrics\":{\"centrality\":379,\"complexity\":16.0,\"blocking factor\":5,\"delay factor\":11.0},\"nameSub\":\"Chemical and Physical Equilibrium\",\"id\":35,\"credits\":3,\"nameCanonical\":\"\"}],\"id\":6},{\"name\":\"Term 7\",\"curriculum_items\":[{\"curriculum_requisites\":[{\"source_id\":35,\"target_id\":36,\"type\":\"CurriculumPrerequisite\"},{\"source_id\":29,\"target_id\":36,\"type\":\"CurriculumCorequisite\"}],\"name\":\"CHEE 420\",\"metrics\":{\"centrality\":442,\"complexity\":14.0,\"blocking factor\":3,\"delay factor\":11.0},\"nameSub\":\"Chemical Reaction Engineering\",\"id\":36,\"credits\":3,\"nameCanonical\":\"\"},{\"curriculum_requisites\":[{\"source_id\":36,\"target_id\":37,\"type\":\"CurriculumStrictCorequisite\"},{\"source_id\":31,\"target_id\":37,\"type\":\"CurriculumPrerequisite\"}],\"name\":\"CHEE 401A\",\"metrics\":{\"centrality\":783,\"complexity\":14.0,\"blocking factor\":2,\"delay factor\":12.0},\"nameSub\":\"Chemical and Environmental Engineering Laboratory I\",\"id\":37,\"credits\":1,\"nameCanonical\":\"\"},{\"curriculum_requisites\":[{\"source_id\":20,\"target_id\":38,\"type\":\"CurriculumPrerequisite\"},{\"source_id\":8,\"target_id\":38,\"type\":\"CurriculumPrerequisite\"},{\"source_id\":17,\"target_id\":38,\"type\":\"CurriculumPrerequisite\"}],\"name\":\"CHEM 480B\",\"metrics\":{\"centrality\":0,\"complexity\":5.0,\"blocking factor\":0,\"delay factor\":5.0},\"nameSub\":\"Physical Chemistry\",\"id\":38,\"credits\":3,\"nameCanonical\":\"\"},{\"curriculum_requisites\":[{\"source_id\":24,\"target_id\":39,\"type\":\"CurriculumPrerequisite\"}],\"name\":\"CHEE 442\",\"metrics\":{\"centrality\":22,\"complexity\":9.0,\"blocking factor\":1,\"delay factor\":8.0},\"nameSub\":\"Chemical Engineering Design Principles\",\"id\":39,\"credits\":3,\"nameCanonical\":\"\"},{\"curriculum_requisites\":[],\"name\":\"AME 313\",\"metrics\":{\"centrality\":0,\"complexity\":1.0,\"blocking factor\":0,\"delay factor\":1.0},\"nameSub\":\"Aerospace\\/Mechanical Engineering Laboratory\",\"id\":40,\"credits\":3,\"nameCanonical\":\"\"},{\"curriculum_requisites\":[],\"name\":\" \",\"metrics\":{\"centrality\":0,\"complexity\":1.0,\"blocking factor\":0,\"delay factor\":1.0},\"nameSub\":\"Tier II General Education \",\"id\":41,\"credits\":3,\"nameCanonical\":\"\"}],\"id\":7},{\"name\":\"Term 8\",\"curriculum_items\":[{\"curriculum_requisites\":[{\"source_id\":36,\"target_id\":42,\"type\":\"CurriculumPrerequisite\"},{\"source_id\":37,\"target_id\":42,\"type\":\"CurriculumPrerequisite\"}],\"name\":\"CHEE 413\",\"metrics\":{\"centrality\":554,\"complexity\":13.0,\"blocking factor\":1,\"delay factor\":12.0},\"nameSub\":\"Process Control and Simulation\",\"id\":42,\"credits\":3,\"nameCanonical\":\"\"},{\"curriculum_requisites\":[],\"name\":\" \",\"metrics\":{\"centrality\":0,\"complexity\":1.0,\"blocking factor\":0,\"delay factor\":1.0},\"nameSub\":\"Chemical Engineering Technical Electives\",\"id\":43,\"credits\":3,\"nameCanonical\":\"\"},{\"curriculum_requisites\":[{\"source_id\":39,\"target_id\":44,\"type\":\"CurriculumPrerequisite\"}],\"name\":\"CHEE 443\",\"metrics\":{\"centrality\":0,\"complexity\":8.0,\"blocking factor\":0,\"delay factor\":8.0},\"nameSub\":\"Chemical Engineering Plant Design\",\"id\":44,\"credits\":3,\"nameCanonical\":\"\"},{\"curriculum_requisites\":[{\"source_id\":27,\"target_id\":45,\"type\":\"CurriculumPrerequisite\"},{\"source_id\":31,\"target_id\":45,\"type\":\"CurriculumPrerequisite\"},{\"source_id\":42,\"target_id\":45,\"type\":\"CurriculumCorequisite\"},{\"source_id\":37,\"target_id\":45,\"type\":\"CurriculumPrerequisite\"}],\"name\":\"CHEE 401B\",\"metrics\":{\"centrality\":0,\"complexity\":12.0,\"blocking factor\":0,\"delay factor\":12.0},\"nameSub\":\"Process Dynamics and Control Laboratory\",\"id\":45,\"credits\":1,\"nameCanonical\":\"\"},{\"curriculum_requisites\":[],\"name\":\" \",\"metrics\":{\"centrality\":0,\"complexity\":1.0,\"blocking factor\":0,\"delay factor\":1.0},\"nameSub\":\"Tier II General Education \",\"id\":46,\"credits\":3,\"nameCanonical\":\"\"},{\"curriculum_requisites\":[],\"name\":\"MSE 331R\",\"metrics\":{\"centrality\":0,\"complexity\":1.0,\"blocking factor\":0,\"delay factor\":1.0},\"nameSub\":\"Fundamentals of Materials for Engineers\",\"id\":47,\"credits\":3,\"nameCanonical\":\"\"}],\"id\":8}],\"institution\":\"University of Arizona\"}}}}},\"children\":[{\"props\":{\"src\":\"https:\\/\\/curricula-api-embed.damoursystems.com\\/\",\"id\":\"curriculum\",\"events\":{\"load\":\"(function (){this.contentWindow.postMessage({\\\"options\\\":{\\\"hideTerms\\\":false,\\\"edit\\\":false},\\\"curriculum\\\":{\\\"name\\\":\\\"Chemical Engineering - (Bachelor of Science in Chemical Engineering)\\\",\\\"dp_name\\\":\\\"2019-20 Degree Plan\\\",\\\"curriculum_terms\\\":[{\\\"name\\\":\\\"Term 1\\\",\\\"curriculum_items\\\":[{\\\"curriculum_requisites\\\":[{\\\"source_id\\\":4,\\\"target_id\\\":1,\\\"type\\\":\\\"CurriculumCorequisite\\\"}],\\\"name\\\":\\\"CHEM 151\\\",\\\"metrics\\\":{\\\"centrality\\\":141,\\\"complexity\\\":28.0,\\\"blocking factor\\\":16,\\\"delay factor\\\":12.0},\\\"nameSub\\\":\\\"General Chemistry I\\\",\\\"id\\\":1,\\\"credits\\\":4,\\\"nameCanonical\\\":\\\"\\\"},{\\\"curriculum_requisites\\\":[],\\\"name\\\":\\\" \\\",\\\"metrics\\\":{\\\"centrality\\\":0,\\\"complexity\\\":1.0,\\\"blocking factor\\\":0,\\\"delay factor\\\":1.0},\\\"nameSub\\\":\\\"Tier I General Education \\\",\\\"id\\\":2,\\\"credits\\\":3,\\\"nameCanonical\\\":\\\"\\\"},{\\\"curriculum_requisites\\\":[],\\\"name\\\":\\\"MATH 122A\\\",\\\"metrics\\\":{\\\"centrality\\\":0,\\\"complexity\\\":43.0,\\\"blocking factor\\\":31,\\\"delay factor\\\":12.0},\\\"nameSub\\\":\\\"Functions for Calculus\\\",\\\"id\\\":3,\\\"credits\\\":1,\\\"nameCanonical\\\":\\\"\\\"},{\\\"curriculum_requisites\\\":[{\\\"source_id\\\":3,\\\"target_id\\\":4,\\\"type\\\":\\\"CurriculumCorequisite\\\"}],\\\"name\\\":\\\"MATH 122B\\\",\\\"metrics\\\":{\\\"centrality\\\":1225,\\\"complexity\\\":42.0,\\\"blocking factor\\\":30,\\\"delay factor\\\":12.0},\\\"nameSub\\\":\\\"First-Semester Calculus\\\",\\\"id\\\":4,\\\"credits\\\":4,\\\"nameCanonical\\\":\\\"\\\"},{\\\"curriculum_requisites\\\":[],\\\"name\\\":\\\"ENGL 101\\\",\\\"metrics\\\":{\\\"centrality\\\":0,\\\"complexity\\\":3.0,\\\"blocking factor\\\":1,\\\"delay factor\\\":2.0},\\\"nameSub\\\":\\\"First-Year Composition\\\",\\\"id\\\":5,\\\"credits\\\":3,\\\"nameCanonical\\\":\\\"\\\"},{\\\"curriculum_requisites\\\":[],\\\"name\\\":\\\" \\\",\\\"metrics\\\":{\\\"centrality\\\":0,\\\"complexity\\\":1.0,\\\"blocking factor\\\":0,\\\"delay factor\\\":1.0},\\\"nameSub\\\":\\\"ENGR 102A\\/B or ENGR 102\\\",\\\"id\\\":6,\\\"credits\\\":3,\\\"nameCanonical\\\":\\\"\\\"}],\\\"id\\\":1},{\\\"name\\\":\\\"Term 2\\\",\\\"curriculum_items\\\":[{\\\"curriculum_requisites\\\":[{\\\"source_id\\\":4,\\\"target_id\\\":7,\\\"type\\\":\\\"CurriculumPrerequisite\\\"}],\\\"name\\\":\\\"MATH 129\\\",\\\"metrics\\\":{\\\"centrality\\\":393,\\\"complexity\\\":31.0,\\\"blocking factor\\\":20,\\\"delay factor\\\":11.0},\\\"nameSub\\\":\\\"Calculus II\\\",\\\"id\\\":7,\\\"credits\\\":3,\\\"nameCanonical\\\":\\\"\\\"},{\\\"curriculum_requisites\\\":[{\\\"source_id\\\":4,\\\"target_id\\\":8,\\\"type\\\":\\\"CurriculumPrerequisite\\\"},{\\\"source_id\\\":1,\\\"target_id\\\":8,\\\"type\\\":\\\"CurriculumPrerequisite\\\"}],\\\"name\\\":\\\"CHEM 152\\\",\\\"metrics\\\":{\\\"centrality\\\":266,\\\"complexity\\\":27.0,\\\"blocking factor\\\":15,\\\"delay factor\\\":12.0},\\\"nameSub\\\":\\\"General Chemistry II\\\",\\\"id\\\":8,\\\"credits\\\":4,\\\"nameCanonical\\\":\\\"\\\"},{\\\"curriculum_requisites\\\":[{\\\"source_id\\\":5,\\\"target_id\\\":9,\\\"type\\\":\\\"CurriculumPrerequisite\\\"}],\\\"name\\\":\\\"ENGL 102\\\",\\\"metrics\\\":{\\\"centrality\\\":0,\\\"complexity\\\":2.0,\\\"blocking factor\\\":0,\\\"delay factor\\\":2.0},\\\"nameSub\\\":\\\"First-Year Composition\\\",\\\"id\\\":9,\\\"credits\\\":3,\\\"nameCanonical\\\":\\\"\\\"},{\\\"curriculum_requisites\\\":[{\\\"source_id\\\":4,\\\"target_id\\\":10,\\\"type\\\":\\\"CurriculumPrerequisite\\\"}],\\\"name\\\":\\\"PHYS 141\\\",\\\"metrics\\\":{\\\"centrality\\\":197,\\\"complexity\\\":25.0,\\\"blocking factor\\\":15,\\\"delay factor\\\":10.0},\\\"nameSub\\\":\\\"Introductory Mechanics\\\",\\\"id\\\":10,\\\"credits\\\":4,\\\"nameCanonical\\\":\\\"\\\"},{\\\"curriculum_requisites\\\":[{\\\"source_id\\\":4,\\\"target_id\\\":11,\\\"type\\\":\\\"CurriculumPrerequisite\\\"}],\\\"name\\\":\\\"AME 105\\\",\\\"metrics\\\":{\\\"centrality\\\":174,\\\"complexity\\\":22.0,\\\"blocking factor\\\":10,\\\"delay factor\\\":12.0},\\\"nameSub\\\":\\\"Introduction to MATLAB I\\\",\\\"id\\\":11,\\\"credits\\\":1,\\\"nameCanonical\\\":\\\"\\\"}],\\\"id\\\":2},{\\\"name\\\":\\\"Term 3\\\",\\\"curriculum_items\\\":[{\\\"curriculum_requisites\\\":[{\\\"source_id\\\":16,\\\"target_id\\\":12,\\\"type\\\":\\\"CurriculumCorequisite\\\"},{\\\"source_id\\\":8,\\\"target_id\\\":12,\\\"type\\\":\\\"CurriculumPrerequisite\\\"}],\\\"name\\\":\\\"CHEM 243A\\\",\\\"metrics\\\":{\\\"centrality\\\":0,\\\"complexity\\\":6.0,\\\"blocking factor\\\":0,\\\"delay factor\\\":6.0},\\\"nameSub\\\":\\\"Organic Chemistry Laboratory I\\\",\\\"id\\\":12,\\\"credits\\\":1,\\\"nameCanonical\\\":\\\"\\\"},{\\\"curriculum_requisites\\\":[],\\\"name\\\":\\\" \\\",\\\"metrics\\\":{\\\"centrality\\\":0,\\\"complexity\\\":1.0,\\\"blocking factor\\\":0,\\\"delay factor\\\":1.0},\\\"nameSub\\\":\\\"Tier I General Education \\\",\\\"id\\\":13,\\\"credits\\\":3,\\\"nameCanonical\\\":\\\"\\\"},{\\\"curriculum_requisites\\\":[{\\\"source_id\\\":11,\\\"target_id\\\":14,\\\"type\\\":\\\"CurriculumPrerequisite\\\"}],\\\"name\\\":\\\"AME 205\\\",\\\"metrics\\\":{\\\"centrality\\\":116,\\\"complexity\\\":21.0,\\\"blocking factor\\\":9,\\\"delay factor\\\":12.0},\\\"nameSub\\\":\\\"Introduction to MATLAB II\\\",\\\"id\\\":14,\\\"credits\\\":1,\\\"nameCanonical\\\":\\\"\\\"},{\\\"curriculum_requisites\\\":[{\\\"source_id\\\":11,\\\"target_id\\\":15,\\\"type\\\":\\\"CurriculumPrerequisite\\\"},{\\\"source_id\\\":8,\\\"target_id\\\":15,\\\"type\\\":\\\"CurriculumPrerequisite\\\"},{\\\"source_id\\\":14,\\\"target_id\\\":15,\\\"type\\\":\\\"CurriculumCorequisite\\\"}],\\\"name\\\":\\\"CHEE 201L\\\",\\\"metrics\\\":{\\\"centrality\\\":244,\\\"complexity\\\":20.0,\\\"blocking factor\\\":8,\\\"delay factor\\\":12.0},\\\"nameSub\\\":\\\"Elements of Chemical & Environmental Engineering I - Computational Lab\\\",\\\"id\\\":15,\\\"credits\\\":1,\\\"nameCanonical\\\":\\\"\\\"},{\\\"curriculum_requisites\\\":[{\\\"source_id\\\":8,\\\"target_id\\\":16,\\\"type\\\":\\\"CurriculumPrerequisite\\\"}],\\\"name\\\":\\\"CHEM 241A\\\",\\\"metrics\\\":{\\\"centrality\\\":22,\\\"complexity\\\":8.0,\\\"blocking factor\\\":2,\\\"delay factor\\\":6.0},\\\"nameSub\\\":\\\"Lectures in Organic Chemistry\\\",\\\"id\\\":16,\\\"credits\\\":3,\\\"nameCanonical\\\":\\\"\\\"},{\\\"curriculum_requisites\\\":[{\\\"source_id\\\":7,\\\"target_id\\\":17,\\\"type\\\":\\\"CurriculumPrerequisite\\\"}],\\\"name\\\":\\\"MATH 223\\\",\\\"metrics\\\":{\\\"centrality\\\":60,\\\"complexity\\\":18.0,\\\"blocking factor\\\":8,\\\"delay factor\\\":10.0},\\\"nameSub\\\":\\\"Vector Calculus\\\",\\\"id\\\":17,\\\"credits\\\":4,\\\"nameCanonical\\\":\\\"\\\"},{\\\"curriculum_requisites\\\":[{\\\"source_id\\\":4,\\\"target_id\\\":18,\\\"type\\\":\\\"CurriculumPrerequisite\\\"},{\\\"source_id\\\":7,\\\"target_id\\\":18,\\\"type\\\":\\\"CurriculumCorequisite\\\"}],\\\"name\\\":\\\"CHEE 201\\\",\\\"metrics\\\":{\\\"centrality\\\":413,\\\"complexity\\\":25.0,\\\"blocking factor\\\":14,\\\"delay factor\\\":11.0},\\\"nameSub\\\":\\\"Elements of Chemical & Environmental Engineering I\\\",\\\"id\\\":18,\\\"credits\\\":3,\\\"nameCanonical\\\":\\\"\\\"}],\\\"id\\\":3},{\\\"name\\\":\\\"Term 4\\\",\\\"curriculum_items\\\":[{\\\"curriculum_requisites\\\":[{\\\"source_id\\\":16,\\\"target_id\\\":19,\\\"type\\\":\\\"CurriculumPrerequisite\\\"}],\\\"name\\\":\\\"CHEM 241B\\\",\\\"metrics\\\":{\\\"centrality\\\":0,\\\"complexity\\\":6.0,\\\"blocking factor\\\":0,\\\"delay factor\\\":6.0},\\\"nameSub\\\":\\\"Lectures in Organic Chemistry\\\",\\\"id\\\":19,\\\"credits\\\":3,\\\"nameCanonical\\\":\\\"\\\"},{\\\"curriculum_requisites\\\":[{\\\"source_id\\\":7,\\\"target_id\\\":20,\\\"type\\\":\\\"CurriculumPrerequisite\\\"},{\\\"source_id\\\":10,\\\"target_id\\\":20,\\\"type\\\":\\\"CurriculumPrerequisite\\\"}],\\\"name\\\":\\\"PHYS 241\\\",\\\"metrics\\\":{\\\"centrality\\\":10,\\\"complexity\\\":6.0,\\\"blocking factor\\\":1,\\\"delay factor\\\":5.0},\\\"nameSub\\\":\\\"Introductory Electricity and Magnetism\\\",\\\"id\\\":20,\\\"credits\\\":4,\\\"nameCanonical\\\":\\\"\\\"},{\\\"curriculum_requisites\\\":[{\\\"source_id\\\":22,\\\"target_id\\\":21,\\\"type\\\":\\\"CurriculumCorequisite\\\"},{\\\"source_id\\\":15,\\\"target_id\\\":21,\\\"type\\\":\\\"CurriculumPrerequisite\\\"},{\\\"source_id\\\":18,\\\"target_id\\\":21,\\\"type\\\":\\\"CurriculumPrerequisite\\\"}],\\\"name\\\":\\\"CHEE 202\\\",\\\"metrics\\\":{\\\"centrality\\\":412,\\\"complexity\\\":19.0,\\\"blocking factor\\\":7,\\\"delay factor\\\":12.0},\\\"nameSub\\\":\\\"Elements of Chemical and Environmental Engineering II\\\",\\\"id\\\":21,\\\"credits\\\":4,\\\"nameCanonical\\\":\\\"\\\"},{\\\"curriculum_requisites\\\":[{\\\"source_id\\\":7,\\\"target_id\\\":22,\\\"type\\\":\\\"CurriculumPrerequisite\\\"}],\\\"name\\\":\\\"MATH 254\\\",\\\"metrics\\\":{\\\"centrality\\\":110,\\\"complexity\\\":19.0,\\\"blocking factor\\\":8,\\\"delay factor\\\":11.0},\\\"nameSub\\\":\\\"Introduction to Ordinary Differential Equations\\\",\\\"id\\\":22,\\\"credits\\\":3,\\\"nameCanonical\\\":\\\"\\\"},{\\\"curriculum_requisites\\\":[{\\\"source_id\\\":10,\\\"target_id\\\":23,\\\"type\\\":\\\"CurriculumPrerequisite\\\"},{\\\"source_id\\\":18,\\\"target_id\\\":23,\\\"type\\\":\\\"CurriculumPrerequisite\\\"}],\\\"name\\\":\\\"CHEE 203\\\",\\\"metrics\\\":{\\\"centrality\\\":446,\\\"complexity\\\":22.0,\\\"blocking factor\\\":11,\\\"delay factor\\\":11.0},\\\"nameSub\\\":\\\"Chemical Engineering Heat Transfer and Fluid Flow\\\",\\\"id\\\":23,\\\"credits\\\":3,\\\"nameCanonical\\\":\\\"\\\"}],\\\"id\\\":4},{\\\"name\\\":\\\"Term 5\\\",\\\"curriculum_items\\\":[{\\\"curriculum_requisites\\\":[{\\\"source_id\\\":23,\\\"target_id\\\":24,\\\"type\\\":\\\"CurriculumPrerequisite\\\"}],\\\"name\\\":\\\"CHEE 303\\\",\\\"metrics\\\":{\\\"centrality\\\":352,\\\"complexity\\\":20.0,\\\"blocking factor\\\":9,\\\"delay factor\\\":11.0},\\\"nameSub\\\":\\\"Chemical Engineering Mass Transfer\\\",\\\"id\\\":24,\\\"credits\\\":3,\\\"nameCanonical\\\":\\\"\\\"},{\\\"curriculum_requisites\\\":[],\\\"name\\\":\\\" \\\",\\\"metrics\\\":{\\\"centrality\\\":0,\\\"complexity\\\":1.0,\\\"blocking factor\\\":0,\\\"delay factor\\\":1.0},\\\"nameSub\\\":\\\"Tier I General Education \\\",\\\"id\\\":25,\\\"credits\\\":3,\\\"nameCanonical\\\":\\\"\\\"},{\\\"curriculum_requisites\\\":[{\\\"source_id\\\":10,\\\"target_id\\\":26,\\\"type\\\":\\\"CurriculumPrerequisite\\\"},{\\\"source_id\\\":8,\\\"target_id\\\":26,\\\"type\\\":\\\"CurriculumPrerequisite\\\"},{\\\"source_id\\\":17,\\\"target_id\\\":26,\\\"type\\\":\\\"CurriculumPrerequisite\\\"}],\\\"name\\\":\\\"CHEM 480A\\\",\\\"metrics\\\":{\\\"centrality\\\":208,\\\"complexity\\\":16.0,\\\"blocking factor\\\":6,\\\"delay factor\\\":10.0},\\\"nameSub\\\":\\\"Physical Chemistry\\\",\\\"id\\\":26,\\\"credits\\\":3,\\\"nameCanonical\\\":\\\"\\\"},{\\\"curriculum_requisites\\\":[{\\\"source_id\\\":23,\\\"target_id\\\":27,\\\"type\\\":\\\"CurriculumPrerequisite\\\"}],\\\"name\\\":\\\"CHEE 301A\\\",\\\"metrics\\\":{\\\"centrality\\\":94,\\\"complexity\\\":14.0,\\\"blocking factor\\\":4,\\\"delay factor\\\":10.0},\\\"nameSub\\\":\\\"Chemcial Engineering Lab I\\\",\\\"id\\\":27,\\\"credits\\\":1,\\\"nameCanonical\\\":\\\"\\\"},{\\\"curriculum_requisites\\\":[],\\\"name\\\":\\\"CHEE 477R\\\",\\\"metrics\\\":{\\\"centrality\\\":0,\\\"complexity\\\":1.0,\\\"blocking factor\\\":0,\\\"delay factor\\\":1.0},\\\"nameSub\\\":\\\"Microbiology for Engineers\\\",\\\"id\\\":28,\\\"credits\\\":3,\\\"nameCanonical\\\":\\\"\\\"},{\\\"curriculum_requisites\\\":[{\\\"source_id\\\":22,\\\"target_id\\\":29,\\\"type\\\":\\\"CurriculumPrerequisite\\\"},{\\\"source_id\\\":21,\\\"target_id\\\":29,\\\"type\\\":\\\"CurriculumPrerequisite\\\"},{\\\"source_id\\\":14,\\\"target_id\\\":29,\\\"type\\\":\\\"CurriculumPrerequisite\\\"}],\\\"name\\\":\\\"CHEE 402\\\",\\\"metrics\\\":{\\\"centrality\\\":516,\\\"complexity\\\":18.0,\\\"blocking factor\\\":6,\\\"delay factor\\\":12.0},\\\"nameSub\\\":\\\"Chemical Engineering Modeling\\\",\\\"id\\\":29,\\\"credits\\\":3,\\\"nameCanonical\\\":\\\"\\\"}],\\\"id\\\":5},{\\\"name\\\":\\\"Term 6\\\",\\\"curriculum_items\\\":[{\\\"curriculum_requisites\\\":[{\\\"source_id\\\":29,\\\"target_id\\\":30,\\\"type\\\":\\\"CurriculumPrerequisite\\\"},{\\\"source_id\\\":24,\\\"target_id\\\":30,\\\"type\\\":\\\"CurriculumPrerequisite\\\"}],\\\"name\\\":\\\"CHEE 305\\\",\\\"metrics\\\":{\\\"centrality\\\":351,\\\"complexity\\\":16.0,\\\"blocking factor\\\":4,\\\"delay factor\\\":12.0},\\\"nameSub\\\":\\\"Chemical Engineering Transport Phenomena\\\",\\\"id\\\":30,\\\"credits\\\":3,\\\"nameCanonical\\\":\\\"\\\"},{\\\"curriculum_requisites\\\":[{\\\"source_id\\\":35,\\\"target_id\\\":31,\\\"type\\\":\\\"CurriculumStrictCorequisite\\\"},{\\\"source_id\\\":27,\\\"target_id\\\":31,\\\"type\\\":\\\"CurriculumPrerequisite\\\"},{\\\"source_id\\\":24,\\\"target_id\\\":31,\\\"type\\\":\\\"CurriculumPrerequisite\\\"},{\\\"source_id\\\":30,\\\"target_id\\\":31,\\\"type\\\":\\\"CurriculumStrictCorequisite\\\"}],\\\"name\\\":\\\"CHEE 301B\\\",\\\"metrics\\\":{\\\"centrality\\\":687,\\\"complexity\\\":15.0,\\\"blocking factor\\\":3,\\\"delay factor\\\":12.0},\\\"nameSub\\\":\\\"Chemical Engineering Lab II\\\",\\\"id\\\":31,\\\"credits\\\":1,\\\"nameCanonical\\\":\\\"\\\"},{\\\"curriculum_requisites\\\":[],\\\"name\\\":\\\"ABE 120\\\",\\\"metrics\\\":{\\\"centrality\\\":0,\\\"complexity\\\":1.0,\\\"blocking factor\\\":0,\\\"delay factor\\\":1.0},\\\"nameSub\\\":\\\"Basic Computer Skills for Office Applications\\\",\\\"id\\\":32,\\\"credits\\\":3,\\\"nameCanonical\\\":\\\"\\\"},{\\\"curriculum_requisites\\\":[],\\\"name\\\":\\\" \\\",\\\"metrics\\\":{\\\"centrality\\\":0,\\\"complexity\\\":1.0,\\\"blocking factor\\\":0,\\\"delay factor\\\":1.0},\\\"nameSub\\\":\\\"Chemical Engineering Technical Electives\\\",\\\"id\\\":33,\\\"credits\\\":3,\\\"nameCanonical\\\":\\\"\\\"},{\\\"curriculum_requisites\\\":[],\\\"name\\\":\\\" \\\",\\\"metrics\\\":{\\\"centrality\\\":0,\\\"complexity\\\":1.0,\\\"blocking factor\\\":0,\\\"delay factor\\\":1.0},\\\"nameSub\\\":\\\"Tier I General Education \\\",\\\"id\\\":34,\\\"credits\\\":3,\\\"nameCanonical\\\":\\\"\\\"},{\\\"curriculum_requisites\\\":[{\\\"source_id\\\":26,\\\"target_id\\\":35,\\\"type\\\":\\\"CurriculumPrerequisite\\\"},{\\\"source_id\\\":24,\\\"target_id\\\":35,\\\"type\\\":\\\"CurriculumPrerequisite\\\"}],\\\"name\\\":\\\"CHEE 326\\\",\\\"metrics\\\":{\\\"centrality\\\":379,\\\"complexity\\\":16.0,\\\"blocking factor\\\":5,\\\"delay factor\\\":11.0},\\\"nameSub\\\":\\\"Chemical and Physical Equilibrium\\\",\\\"id\\\":35,\\\"credits\\\":3,\\\"nameCanonical\\\":\\\"\\\"}],\\\"id\\\":6},{\\\"name\\\":\\\"Term 7\\\",\\\"curriculum_items\\\":[{\\\"curriculum_requisites\\\":[{\\\"source_id\\\":35,\\\"target_id\\\":36,\\\"type\\\":\\\"CurriculumPrerequisite\\\"},{\\\"source_id\\\":29,\\\"target_id\\\":36,\\\"type\\\":\\\"CurriculumCorequisite\\\"}],\\\"name\\\":\\\"CHEE 420\\\",\\\"metrics\\\":{\\\"centrality\\\":442,\\\"complexity\\\":14.0,\\\"blocking factor\\\":3,\\\"delay factor\\\":11.0},\\\"nameSub\\\":\\\"Chemical Reaction Engineering\\\",\\\"id\\\":36,\\\"credits\\\":3,\\\"nameCanonical\\\":\\\"\\\"},{\\\"curriculum_requisites\\\":[{\\\"source_id\\\":36,\\\"target_id\\\":37,\\\"type\\\":\\\"CurriculumStrictCorequisite\\\"},{\\\"source_id\\\":31,\\\"target_id\\\":37,\\\"type\\\":\\\"CurriculumPrerequisite\\\"}],\\\"name\\\":\\\"CHEE 401A\\\",\\\"metrics\\\":{\\\"centrality\\\":783,\\\"complexity\\\":14.0,\\\"blocking factor\\\":2,\\\"delay factor\\\":12.0},\\\"nameSub\\\":\\\"Chemical and Environmental Engineering Laboratory I\\\",\\\"id\\\":37,\\\"credits\\\":1,\\\"nameCanonical\\\":\\\"\\\"},{\\\"curriculum_requisites\\\":[{\\\"source_id\\\":20,\\\"target_id\\\":38,\\\"type\\\":\\\"CurriculumPrerequisite\\\"},{\\\"source_id\\\":8,\\\"target_id\\\":38,\\\"type\\\":\\\"CurriculumPrerequisite\\\"},{\\\"source_id\\\":17,\\\"target_id\\\":38,\\\"type\\\":\\\"CurriculumPrerequisite\\\"}],\\\"name\\\":\\\"CHEM 480B\\\",\\\"metrics\\\":{\\\"centrality\\\":0,\\\"complexity\\\":5.0,\\\"blocking factor\\\":0,\\\"delay factor\\\":5.0},\\\"nameSub\\\":\\\"Physical Chemistry\\\",\\\"id\\\":38,\\\"credits\\\":3,\\\"nameCanonical\\\":\\\"\\\"},{\\\"curriculum_requisites\\\":[{\\\"source_id\\\":24,\\\"target_id\\\":39,\\\"type\\\":\\\"CurriculumPrerequisite\\\"}],\\\"name\\\":\\\"CHEE 442\\\",\\\"metrics\\\":{\\\"centrality\\\":22,\\\"complexity\\\":9.0,\\\"blocking factor\\\":1,\\\"delay factor\\\":8.0},\\\"nameSub\\\":\\\"Chemical Engineering Design Principles\\\",\\\"id\\\":39,\\\"credits\\\":3,\\\"nameCanonical\\\":\\\"\\\"},{\\\"curriculum_requisites\\\":[],\\\"name\\\":\\\"AME 313\\\",\\\"metrics\\\":{\\\"centrality\\\":0,\\\"complexity\\\":1.0,\\\"blocking factor\\\":0,\\\"delay factor\\\":1.0},\\\"nameSub\\\":\\\"Aerospace\\/Mechanical Engineering Laboratory\\\",\\\"id\\\":40,\\\"credits\\\":3,\\\"nameCanonical\\\":\\\"\\\"},{\\\"curriculum_requisites\\\":[],\\\"name\\\":\\\" \\\",\\\"metrics\\\":{\\\"centrality\\\":0,\\\"complexity\\\":1.0,\\\"blocking factor\\\":0,\\\"delay factor\\\":1.0},\\\"nameSub\\\":\\\"Tier II General Education \\\",\\\"id\\\":41,\\\"credits\\\":3,\\\"nameCanonical\\\":\\\"\\\"}],\\\"id\\\":7},{\\\"name\\\":\\\"Term 8\\\",\\\"curriculum_items\\\":[{\\\"curriculum_requisites\\\":[{\\\"source_id\\\":36,\\\"target_id\\\":42,\\\"type\\\":\\\"CurriculumPrerequisite\\\"},{\\\"source_id\\\":37,\\\"target_id\\\":42,\\\"type\\\":\\\"CurriculumPrerequisite\\\"}],\\\"name\\\":\\\"CHEE 413\\\",\\\"metrics\\\":{\\\"centrality\\\":554,\\\"complexity\\\":13.0,\\\"blocking factor\\\":1,\\\"delay factor\\\":12.0},\\\"nameSub\\\":\\\"Process Control and Simulation\\\",\\\"id\\\":42,\\\"credits\\\":3,\\\"nameCanonical\\\":\\\"\\\"},{\\\"curriculum_requisites\\\":[],\\\"name\\\":\\\" \\\",\\\"metrics\\\":{\\\"centrality\\\":0,\\\"complexity\\\":1.0,\\\"blocking factor\\\":0,\\\"delay factor\\\":1.0},\\\"nameSub\\\":\\\"Chemical Engineering Technical Electives\\\",\\\"id\\\":43,\\\"credits\\\":3,\\\"nameCanonical\\\":\\\"\\\"},{\\\"curriculum_requisites\\\":[{\\\"source_id\\\":39,\\\"target_id\\\":44,\\\"type\\\":\\\"CurriculumPrerequisite\\\"}],\\\"name\\\":\\\"CHEE 443\\\",\\\"metrics\\\":{\\\"centrality\\\":0,\\\"complexity\\\":8.0,\\\"blocking factor\\\":0,\\\"delay factor\\\":8.0},\\\"nameSub\\\":\\\"Chemical Engineering Plant Design\\\",\\\"id\\\":44,\\\"credits\\\":3,\\\"nameCanonical\\\":\\\"\\\"},{\\\"curriculum_requisites\\\":[{\\\"source_id\\\":27,\\\"target_id\\\":45,\\\"type\\\":\\\"CurriculumPrerequisite\\\"},{\\\"source_id\\\":31,\\\"target_id\\\":45,\\\"type\\\":\\\"CurriculumPrerequisite\\\"},{\\\"source_id\\\":42,\\\"target_id\\\":45,\\\"type\\\":\\\"CurriculumCorequisite\\\"},{\\\"source_id\\\":37,\\\"target_id\\\":45,\\\"type\\\":\\\"CurriculumPrerequisite\\\"}],\\\"name\\\":\\\"CHEE 401B\\\",\\\"metrics\\\":{\\\"centrality\\\":0,\\\"complexity\\\":12.0,\\\"blocking factor\\\":0,\\\"delay factor\\\":12.0},\\\"nameSub\\\":\\\"Process Dynamics and Control Laboratory\\\",\\\"id\\\":45,\\\"credits\\\":1,\\\"nameCanonical\\\":\\\"\\\"},{\\\"curriculum_requisites\\\":[],\\\"name\\\":\\\" \\\",\\\"metrics\\\":{\\\"centrality\\\":0,\\\"complexity\\\":1.0,\\\"blocking factor\\\":0,\\\"delay factor\\\":1.0},\\\"nameSub\\\":\\\"Tier II General Education \\\",\\\"id\\\":46,\\\"credits\\\":3,\\\"nameCanonical\\\":\\\"\\\"},{\\\"curriculum_requisites\\\":[],\\\"name\\\":\\\"MSE 331R\\\",\\\"metrics\\\":{\\\"centrality\\\":0,\\\"complexity\\\":1.0,\\\"blocking factor\\\":0,\\\"delay factor\\\":1.0},\\\"nameSub\\\":\\\"Fundamentals of Materials for Engineers\\\",\\\"id\\\":47,\\\"credits\\\":3,\\\"nameCanonical\\\":\\\"\\\"}],\\\"id\\\":8}],\\\"institution\\\":\\\"University of Arizona\\\"}},\\\"*\\\"); window.removeEventListener(\\\"message\\\",window.messageReceived); window.messageReceived=(function (event){return (event.data.curriculum!==undefined) ? (WebIO.setval({\\\"name\\\":\\\"curriculum-data\\\",\\\"scope\\\":\\\"17776514461581644972\\\",\\\"id\\\":\\\"15453740922630858420\\\",\\\"type\\\":\\\"observable\\\"},event.data.curriculum)) : undefined}); return window.addEventListener(\\\"message\\\",window.messageReceived)})\"},\"style\":{\"padding\":\"0\",\"height\":\"100vh\",\"margin\":\"0\",\"border\":\"none\",\"width\":\"100%\"}},\"nodeType\":\"DOM\",\"type\":\"node\",\"instanceArgs\":{\"namespace\":\"html\",\"tag\":\"iframe\"},\"children\":[\"\"]}]},\n",
       "        window,\n",
       "    );\n",
       "    })()\n",
       "    </script>\n",
       "</div>\n"
      ],
      "text/plain": [
       "WebIO.Scope(WebIO.Node{WebIO.DOM}(WebIO.DOM(:html, :iframe), Any[\"\"], Dict{Symbol, Any}(:src => \"https://curricula-api-embed.damoursystems.com/\", :id => \"curriculum\", :events => Dict{Symbol, WebIO.JSString}(:load => WebIO.JSString(\"(function (){this.contentWindow.postMessage({\\\"options\\\":{\\\"hideTerms\\\":false,\\\"edit\\\":false},\\\"curriculum\\\":{\\\"name\\\":\\\"Chemical Engineering - (Bachelor of Science in Chemical Engineering)\\\",\\\"dp_name\\\":\\\"2019-20 Degree Plan\\\",\\\"curriculum_terms\\\":[{\\\"name\\\":\\\"Term 1\\\",\\\"curriculum_items\\\":[{\\\"curriculum_requisites\\\":[{\\\"source_id\\\":4,\\\"target_id\\\":1,\\\"type\\\":\\\"CurriculumCorequisite\\\"}],\\\"name\\\":\\\"CHEM 151\\\",\\\"metrics\\\":{\\\"centrality\\\":141,\\\"complexity\\\":28.0,\\\"blocking factor\\\":16,\\\"delay factor\\\":12.0},\\\"nameSub\\\":\\\"General Chemistry I\\\",\\\"id\\\":1,\\\"credits\\\":4,\\\"nameCanonical\\\":\\\"\\\"},{\\\"curriculum_requisites\\\":[],\\\"name\\\":\\\" \\\",\\\"metrics\\\":{\\\"centrality\\\":0,\\\"complexity\\\":1.0,\\\"blocking factor\\\":0,\\\"delay factor\\\":1.0},\\\"nameSub\\\":\\\"Tier I General Education \\\",\\\"id\\\":2,\\\"credits\\\":3,\\\"nameCanonical\\\":\\\"\\\"},{\\\"curriculum_requisites\\\":[],\\\"name\\\":\\\"MATH 122A\\\",\\\"metrics\\\":{\\\"centrality\\\":0,\\\"complexity\\\":43.0,\\\"blocking factor\\\":31,\\\"delay factor\\\":12.0},\\\"nameSub\\\":\\\"Functions for Calculus\\\",\\\"id\\\":3,\\\"credits\\\":1,\\\"nameCanonical\\\":\\\"\\\"},{\\\"curriculum_requisites\\\":[{\\\"source_id\\\":3,\\\"target_id\\\":4,\\\"type\\\":\\\"CurriculumCorequisite\\\"}],\\\"name\\\":\\\"MATH 122B\\\",\\\"metrics\\\":{\\\"centrality\\\":1225,\\\"complexity\\\":42.0,\\\"blocking factor\\\":30,\\\"delay factor\\\":12.0},\\\"nameSub\\\":\\\"First-Semester Calculus\\\",\\\"id\\\":4,\\\"credits\\\":4,\\\"nameCanonical\\\":\\\"\\\"},{\\\"curriculum_requisites\\\":[],\\\"name\\\":\\\"ENGL 101\\\",\\\"metrics\\\":{\\\"centrality\\\":0,\\\"complexity\\\":3.0,\\\"blocking factor\\\":1,\\\"delay factor\\\":2.0},\\\"nameSub\\\":\\\"First-Year Composition\\\",\\\"id\\\":5,\\\"credits\\\":3,\\\"nameCanonical\\\":\\\"\\\"},{\\\"curriculum_requisites\\\":[],\\\"name\\\":\\\" \\\",\\\"metrics\\\":{\\\"centrality\\\":0,\\\"complexity\\\":1.0,\\\"blocking factor\\\":0,\\\"delay factor\\\":1.0},\\\"nameSub\\\":\\\"ENGR 102A/B or ENGR 102\\\",\\\"id\\\":6,\\\"credits\\\":3,\\\"nameCanonical\\\":\\\"\\\"}],\\\"id\\\":1},{\\\"name\\\":\\\"Term 2\\\",\\\"curriculum_items\\\":[{\\\"curriculum_requisites\\\":[{\\\"source_id\\\":4,\\\"target_id\\\":7,\\\"type\\\":\\\"CurriculumPrerequisite\\\"}],\\\"name\\\":\\\"MATH 129\\\",\\\"metrics\\\":{\\\"centrality\\\":393,\\\"complexity\\\":31.0,\\\"blocking factor\\\":20,\\\"delay factor\\\":11.0},\\\"nameSub\\\":\\\"Calculus II\\\",\\\"id\\\":7,\\\"credits\\\":3,\\\"nameCanonical\\\":\\\"\\\"},{\\\"curriculum_requisites\\\":[{\\\"source_id\\\":4,\\\"target_id\\\":8,\\\"type\\\":\\\"CurriculumPrerequisite\\\"},{\\\"source_id\\\":1,\\\"target_id\\\":8,\\\"type\\\":\\\"CurriculumPrerequisite\\\"}],\\\"name\\\":\\\"CHEM 152\\\",\\\"metrics\\\":{\\\"centrality\\\":266,\\\"complexity\\\":27.0,\\\"blocking factor\\\":15,\\\"delay factor\\\":12.0},\\\"nameSub\\\":\\\"General Chemistry II\\\",\\\"id\\\":8,\\\"credits\\\":4,\\\"nameCanonical\\\":\\\"\\\"},{\\\"curriculum_requisites\\\":[{\\\"source_id\\\":5,\\\"target_id\\\":9,\\\"type\\\":\\\"CurriculumPrerequisite\\\"}],\\\"name\\\":\\\"ENGL 102\\\",\\\"metrics\\\":{\\\"centrality\\\":0,\\\"complexity\\\":2.0,\\\"blocking factor\\\":0,\\\"delay factor\\\":2.0},\\\"nameSub\\\":\\\"First-Year Composition\\\",\\\"id\\\":9,\\\"credits\\\":3,\\\"nameCanonical\\\":\\\"\\\"},{\\\"curriculum_requisites\\\":[{\\\"source_id\\\":4,\\\"target_id\\\":10,\\\"type\\\":\\\"CurriculumPrerequisite\\\"}],\\\"name\\\":\\\"PHYS 141\\\",\\\"metrics\\\":{\\\"centrality\\\":197,\\\"complexity\\\":25.0,\\\"blocking factor\\\":15,\\\"delay factor\\\":10.0},\\\"nameSub\\\":\\\"Introductory Mechanics\\\",\\\"id\\\":10,\\\"credits\\\":4,\\\"nameCanonical\\\":\\\"\\\"},{\\\"curriculum_requisites\\\":[{\\\"source_id\\\":4,\\\"target_id\\\":11,\\\"type\\\":\\\"CurriculumPrerequisite\\\"}],\\\"name\\\":\\\"AME 105\\\",\\\"metrics\\\":{\\\"centrality\\\":174,\\\"complexity\\\":22.0,\\\"blocking factor\\\":10,\\\"delay factor\\\":12.0},\\\"nameSub\\\":\\\"Introduction to MATLAB I\\\",\\\"id\\\":11,\\\"credits\\\":1,\\\"nameCanonical\\\":\\\"\\\"}],\\\"id\\\":2},{\\\"name\\\":\\\"Term 3\\\",\\\"curriculum_items\\\":[{\\\"curriculum_requisites\\\":[{\\\"source_id\\\":16,\\\"target_id\\\":12,\\\"type\\\":\\\"CurriculumCorequisite\\\"},{\\\"source_id\\\":8,\\\"target_id\\\":12,\\\"type\\\":\\\"CurriculumPrerequisite\\\"}],\\\"name\\\":\\\"CHEM 243A\\\",\\\"metrics\\\":{\\\"centrality\\\":0,\\\"complexity\\\":6.0,\\\"blocking factor\\\":0,\\\"delay factor\\\":6.0},\\\"nameSub\\\":\\\"Organic Chemistry Laboratory I\\\",\\\"id\\\":12,\\\"credits\\\":1,\\\"nameCanonical\\\":\\\"\\\"},{\\\"curriculum_requisites\\\":[],\\\"name\\\":\\\" \\\",\\\"metrics\\\":{\\\"centrality\\\":0,\\\"complexity\\\":1.0,\\\"blocking factor\\\":0,\\\"delay factor\\\":1.0},\\\"nameSub\\\":\\\"Tier I General Education \\\",\\\"id\\\":13,\\\"credits\\\":3,\\\"nameCanonical\\\":\\\"\\\"},{\\\"curriculum_requisites\\\":[{\\\"source_id\\\":11,\\\"target_id\\\":14,\\\"type\\\":\\\"CurriculumPrerequisite\\\"}],\\\"name\\\":\\\"AME 205\\\",\\\"metrics\\\":{\\\"centrality\\\":116,\\\"complexity\\\":21.0,\\\"blocking factor\\\":9,\\\"delay factor\\\":12.0},\\\"nameSub\\\":\\\"Introduction to MATLAB II\\\",\\\"id\\\":14,\\\"credits\\\":1,\\\"nameCanonical\\\":\\\"\\\"},{\\\"curriculum_requisites\\\":[{\\\"source_id\\\":11,\\\"target_id\\\":15,\\\"type\\\":\\\"CurriculumPrerequisite\\\"},{\\\"source_id\\\":8,\\\"target_id\\\":15,\\\"type\\\":\\\"CurriculumPrerequisite\\\"},{\\\"source_id\\\":14,\\\"target_id\\\":15,\\\"type\\\":\\\"CurriculumCorequisite\\\"}],\\\"name\\\":\\\"CHEE 201L\\\",\\\"metrics\\\":{\\\"centrality\\\":244,\\\"complexity\\\":20.0,\\\"blocking factor\\\":8,\\\"delay factor\\\":12.0},\\\"nameSub\\\":\\\"Elements of Chemical & Environmental Engineering I - Computational Lab\\\",\\\"id\\\":15,\\\"credits\\\":1,\\\"nameCanonical\\\":\\\"\\\"},{\\\"curriculum_requisites\\\":[{\\\"source_id\\\":8,\\\"target_id\\\":16,\\\"type\\\":\\\"CurriculumPrerequisite\\\"}],\\\"name\\\":\\\"CHEM 241A\\\",\\\"metrics\\\":{\\\"centrality\\\":22,\\\"complexity\\\":8.0,\\\"blocking factor\\\":2,\\\"delay factor\\\":6.0},\\\"nameSub\\\":\\\"Lectures in Organic Chemistry\\\",\\\"id\\\":16,\\\"credits\\\":3,\\\"nameCanonical\\\":\\\"\\\"},{\\\"curriculum_requisites\\\":[{\\\"source_id\\\":7,\\\"target_id\\\":17,\\\"type\\\":\\\"CurriculumPrerequisite\\\"}],\\\"name\\\":\\\"MATH 223\\\",\\\"metrics\\\":{\\\"centrality\\\":60,\\\"complexity\\\":18.0,\\\"blocking factor\\\":8,\\\"delay factor\\\":10.0},\\\"nameSub\\\":\\\"Vector Calculus\\\",\\\"id\\\":17,\\\"credits\\\":4,\\\"nameCanonical\\\":\\\"\\\"},{\\\"curriculum_requisites\\\":[{\\\"source_id\\\":4,\\\"target_id\\\":18,\\\"type\\\":\\\"CurriculumPrerequisite\\\"},{\\\"source_id\\\":7,\\\"target_id\\\":18,\\\"type\\\":\\\"CurriculumCorequisite\\\"}],\\\"name\\\":\\\"CHEE 201\\\",\\\"metrics\\\":{\\\"centrality\\\":413,\\\"complexity\\\":25.0,\\\"blocking factor\\\":14,\\\"delay factor\\\":11.0},\\\"nameSub\\\":\\\"Elements of Chemical & Environmental Engineering I\\\",\\\"id\\\":18,\\\"credits\\\":3,\\\"nameCanonical\\\":\\\"\\\"}],\\\"id\\\":3},{\\\"name\\\":\\\"Term 4\\\",\\\"curriculum_items\\\":[{\\\"curriculum_requisites\\\":[{\\\"source_id\\\":16,\\\"target_id\\\":19,\\\"type\\\":\\\"CurriculumPrerequisite\\\"}],\\\"name\\\":\\\"CHEM 241B\\\",\\\"metrics\\\":{\\\"centrality\\\":0,\\\"complexity\\\":6.0,\\\"blocking factor\\\":0,\\\"delay factor\\\":6.0},\\\"nameSub\\\":\\\"Lectures in Organic Chemistry\\\",\\\"id\\\":19,\\\"credits\\\":3,\\\"nameCanonical\\\":\\\"\\\"},{\\\"curriculum_requisites\\\":[{\\\"source_id\\\":7,\\\"target_id\\\":20,\\\"type\\\":\\\"CurriculumPrerequisite\\\"},{\\\"source_id\\\":10,\\\"target_id\\\":20,\\\"type\\\":\\\"CurriculumPrerequisite\\\"}],\\\"name\\\":\\\"PHYS 241\\\",\\\"metrics\\\":{\\\"centrality\\\":10,\\\"complexity\\\":6.0,\\\"blocking factor\\\":1,\\\"delay factor\\\":5.0},\\\"nameSub\\\":\\\"Introductory Electricity and Magnetism\\\",\\\"id\\\":20,\\\"credits\\\":4,\\\"nameCanonical\\\":\\\"\\\"},{\\\"curriculum_requisites\\\":[{\\\"source_id\\\":22,\\\"target_id\\\":21,\\\"type\\\":\\\"CurriculumCorequisite\\\"},{\\\"source_id\\\":15,\\\"target_id\\\":21,\\\"type\\\":\\\"CurriculumPrerequisite\\\"},{\\\"source_id\\\":18,\\\"target_id\\\":21,\\\"type\\\":\\\"CurriculumPrerequisite\\\"}],\\\"name\\\":\\\"CHEE 202\\\",\\\"metrics\\\":{\\\"centrality\\\":412,\\\"complexity\\\":19.0,\\\"blocking factor\\\":7,\\\"delay factor\\\":12.0},\\\"nameSub\\\":\\\"Elements of Chemical and Environmental Engineering II\\\",\\\"id\\\":21,\\\"credits\\\":4,\\\"nameCanonical\\\":\\\"\\\"},{\\\"curriculum_requisites\\\":[{\\\"source_id\\\":7,\\\"target_id\\\":22,\\\"type\\\":\\\"CurriculumPrerequisite\\\"}],\\\"name\\\":\\\"MATH 254\\\",\\\"metrics\\\":{\\\"centrality\\\":110,\\\"complexity\\\":19.0,\\\"blocking factor\\\":8,\\\"delay factor\\\":11.0},\\\"nameSub\\\":\\\"Introduction to Ordinary Differential Equations\\\",\\\"id\\\":22,\\\"credits\\\":3,\\\"nameCanonical\\\":\\\"\\\"},{\\\"curriculum_requisites\\\":[{\\\"source_id\\\":10,\\\"target_id\\\":23,\\\"type\\\":\\\"CurriculumPrerequisite\\\"},{\\\"source_id\\\":18,\\\"target_id\\\":23,\\\"type\\\":\\\"CurriculumPrerequisite\\\"}],\\\"name\\\":\\\"CHEE 203\\\",\\\"metrics\\\":{\\\"centrality\\\":446,\\\"complexity\\\":22.0,\\\"blocking factor\\\":11,\\\"delay factor\\\":11.0},\\\"nameSub\\\":\\\"Chemical Engineering Heat Transfer and Fluid Flow\\\",\\\"id\\\":23,\\\"credits\\\":3,\\\"nameCanonical\\\":\\\"\\\"}],\\\"id\\\":4},{\\\"name\\\":\\\"Term 5\\\",\\\"curriculum_items\\\":[{\\\"curriculum_requisites\\\":[{\\\"source_id\\\":23,\\\"target_id\\\":24,\\\"type\\\":\\\"CurriculumPrerequisite\\\"}],\\\"name\\\":\\\"CHEE 303\\\",\\\"metrics\\\":{\\\"centrality\\\":352,\\\"complexity\\\":20.0,\\\"blocking factor\\\":9,\\\"delay factor\\\":11.0},\\\"nameSub\\\":\\\"Chemical Engineering Mass Transfer\\\",\\\"id\\\":24,\\\"credits\\\":3,\\\"nameCanonical\\\":\\\"\\\"},{\\\"curriculum_requisites\\\":[],\\\"name\\\":\\\" \\\",\\\"metrics\\\":{\\\"centrality\\\":0,\\\"complexity\\\":1.0,\\\"blocking factor\\\":0,\\\"delay factor\\\":1.0},\\\"nameSub\\\":\\\"Tier I General Education \\\",\\\"id\\\":25,\\\"credits\\\":3,\\\"nameCanonical\\\":\\\"\\\"},{\\\"curriculum_requisites\\\":[{\\\"source_id\\\":10,\\\"target_id\\\":26,\\\"type\\\":\\\"CurriculumPrerequisite\\\"},{\\\"source_id\\\":8,\\\"target_id\\\":26,\\\"type\\\":\\\"CurriculumPrerequisite\\\"},{\\\"source_id\\\":17,\\\"target_id\\\":26,\\\"type\\\":\\\"CurriculumPrerequisite\\\"}],\\\"name\\\":\\\"CHEM 480A\\\",\\\"metrics\\\":{\\\"centrality\\\":208,\\\"complexity\\\":16.0,\\\"blocking factor\\\":6,\\\"delay factor\\\":10.0},\\\"nameSub\\\":\\\"Physical Chemistry\\\",\\\"id\\\":26,\\\"credits\\\":3,\\\"nameCanonical\\\":\\\"\\\"},{\\\"curriculum_requisites\\\":[{\\\"source_id\\\":23,\\\"target_id\\\":27,\\\"type\\\":\\\"CurriculumPrerequisite\\\"}],\\\"name\\\":\\\"CHEE 301A\\\",\\\"metrics\\\":{\\\"centrality\\\":94,\\\"complexity\\\":14.0,\\\"blocking factor\\\":4,\\\"delay factor\\\":10.0},\\\"nameSub\\\":\\\"Chemcial Engineering Lab I\\\",\\\"id\\\":27,\\\"credits\\\":1,\\\"nameCanonical\\\":\\\"\\\"},{\\\"curriculum_requisites\\\":[],\\\"name\\\":\\\"CHEE 477R\\\",\\\"metrics\\\":{\\\"centrality\\\":0,\\\"complexity\\\":1.0,\\\"blocking factor\\\":0,\\\"delay factor\\\":1.0},\\\"nameSub\\\":\\\"Microbiology for Engineers\\\",\\\"id\\\":28,\\\"credits\\\":3,\\\"nameCanonical\\\":\\\"\\\"},{\\\"curriculum_requisites\\\":[{\\\"source_id\\\":22,\\\"target_id\\\":29,\\\"type\\\":\\\"CurriculumPrerequisite\\\"},{\\\"source_id\\\":21,\\\"target_id\\\":29,\\\"type\\\":\\\"CurriculumPrerequisite\\\"},{\\\"source_id\\\":14,\\\"target_id\\\":29,\\\"type\\\":\\\"CurriculumPrerequisite\\\"}],\\\"name\\\":\\\"CHEE 402\\\",\\\"metrics\\\":{\\\"centrality\\\":516,\\\"complexity\\\":18.0,\\\"blocking factor\\\":6,\\\"delay factor\\\":12.0},\\\"nameSub\\\":\\\"Chemical Engineering Modeling\\\",\\\"id\\\":29,\\\"credits\\\":3,\\\"nameCanonical\\\":\\\"\\\"}],\\\"id\\\":5},{\\\"name\\\":\\\"Term 6\\\",\\\"curriculum_items\\\":[{\\\"curriculum_requisites\\\":[{\\\"source_id\\\":29,\\\"target_id\\\":30,\\\"type\\\":\\\"CurriculumPrerequisite\\\"},{\\\"source_id\\\":24,\\\"target_id\\\":30,\\\"type\\\":\\\"CurriculumPrerequisite\\\"}],\\\"name\\\":\\\"CHEE 305\\\",\\\"metrics\\\":{\\\"centrality\\\":351,\\\"complexity\\\":16.0,\\\"blocking factor\\\":4,\\\"delay factor\\\":12.0},\\\"nameSub\\\":\\\"Chemical Engineering Transport Phenomena\\\",\\\"id\\\":30,\\\"credits\\\":3,\\\"nameCanonical\\\":\\\"\\\"},{\\\"curriculum_requisites\\\":[{\\\"source_id\\\":35,\\\"target_id\\\":31,\\\"type\\\":\\\"CurriculumStrictCorequisite\\\"},{\\\"source_id\\\":27,\\\"target_id\\\":31,\\\"type\\\":\\\"CurriculumPrerequisite\\\"},{\\\"source_id\\\":24,\\\"target_id\\\":31,\\\"type\\\":\\\"CurriculumPrerequisite\\\"},{\\\"source_id\\\":30,\\\"target_id\\\":31,\\\"type\\\":\\\"CurriculumStrictCorequisite\\\"}],\\\"name\\\":\\\"CHEE 301B\\\",\\\"metrics\\\":{\\\"centrality\\\":687,\\\"complexity\\\":15.0,\\\"blocking factor\\\":3,\\\"delay factor\\\":12.0},\\\"nameSub\\\":\\\"Chemical Engineering Lab II\\\",\\\"id\\\":31,\\\"credits\\\":1,\\\"nameCanonical\\\":\\\"\\\"},{\\\"curriculum_requisites\\\":[],\\\"name\\\":\\\"ABE 120\\\",\\\"metrics\\\":{\\\"centrality\\\":0,\\\"complexity\\\":1.0,\\\"blocking factor\\\":0,\\\"delay factor\\\":1.0},\\\"nameSub\\\":\\\"Basic Computer Skills for Office Applications\\\",\\\"id\\\":32,\\\"credits\\\":3,\\\"nameCanonical\\\":\\\"\\\"},{\\\"curriculum_requisites\\\":[],\\\"name\\\":\\\" \\\",\\\"metrics\\\":{\\\"centrality\\\":0,\\\"complexity\\\":1.0,\\\"blocking factor\\\":0,\\\"delay factor\\\":1.0},\\\"nameSub\\\":\\\"Chemical Engineering Technical Electives\\\",\\\"id\\\":33,\\\"credits\\\":3,\\\"nameCanonical\\\":\\\"\\\"},{\\\"curriculum_requisites\\\":[],\\\"name\\\":\\\" \\\",\\\"metrics\\\":{\\\"centrality\\\":0,\\\"complexity\\\":1.0,\\\"blocking factor\\\":0,\\\"delay factor\\\":1.0},\\\"nameSub\\\":\\\"Tier I General Education \\\",\\\"id\\\":34,\\\"credits\\\":3,\\\"nameCanonical\\\":\\\"\\\"},{\\\"curriculum_requisites\\\":[{\\\"source_id\\\":26,\\\"target_id\\\":35,\\\"type\\\":\\\"CurriculumPrerequisite\\\"},{\\\"source_id\\\":24,\\\"target_id\\\":35,\\\"type\\\":\\\"CurriculumPrerequisite\\\"}],\\\"name\\\":\\\"CHEE 326\\\",\\\"metrics\\\":{\\\"centrality\\\":379,\\\"complexity\\\":16.0,\\\"blocking factor\\\":5,\\\"delay factor\\\":11.0},\\\"nameSub\\\":\\\"Chemical and Physical Equilibrium\\\",\\\"id\\\":35,\\\"credits\\\":3,\\\"nameCanonical\\\":\\\"\\\"}],\\\"id\\\":6},{\\\"name\\\":\\\"Term 7\\\",\\\"curriculum_items\\\":[{\\\"curriculum_requisites\\\":[{\\\"source_id\\\":35,\\\"target_id\\\":36,\\\"type\\\":\\\"CurriculumPrerequisite\\\"},{\\\"source_id\\\":29,\\\"target_id\\\":36,\\\"type\\\":\\\"CurriculumCorequisite\\\"}],\\\"name\\\":\\\"CHEE 420\\\",\\\"metrics\\\":{\\\"centrality\\\":442,\\\"complexity\\\":14.0,\\\"blocking factor\\\":3,\\\"delay factor\\\":11.0},\\\"nameSub\\\":\\\"Chemical Reaction Engineering\\\",\\\"id\\\":36,\\\"credits\\\":3,\\\"nameCanonical\\\":\\\"\\\"},{\\\"curriculum_requisites\\\":[{\\\"source_id\\\":36,\\\"target_id\\\":37,\\\"type\\\":\\\"CurriculumStrictCorequisite\\\"},{\\\"source_id\\\":31,\\\"target_id\\\":37,\\\"type\\\":\\\"CurriculumPrerequisite\\\"}],\\\"name\\\":\\\"CHEE 401A\\\",\\\"metrics\\\":{\\\"centrality\\\":783,\\\"complexity\\\":14.0,\\\"blocking factor\\\":2,\\\"delay factor\\\":12.0},\\\"nameSub\\\":\\\"Chemical and Environmental Engineering Laboratory I\\\",\\\"id\\\":37,\\\"credits\\\":1,\\\"nameCanonical\\\":\\\"\\\"},{\\\"curriculum_requisites\\\":[{\\\"source_id\\\":20,\\\"target_id\\\":38,\\\"type\\\":\\\"CurriculumPrerequisite\\\"},{\\\"source_id\\\":8,\\\"target_id\\\":38,\\\"type\\\":\\\"CurriculumPrerequisite\\\"},{\\\"source_id\\\":17,\\\"target_id\\\":38,\\\"type\\\":\\\"CurriculumPrerequisite\\\"}],\\\"name\\\":\\\"CHEM 480B\\\",\\\"metrics\\\":{\\\"centrality\\\":0,\\\"complexity\\\":5.0,\\\"blocking factor\\\":0,\\\"delay factor\\\":5.0},\\\"nameSub\\\":\\\"Physical Chemistry\\\",\\\"id\\\":38,\\\"credits\\\":3,\\\"nameCanonical\\\":\\\"\\\"},{\\\"curriculum_requisites\\\":[{\\\"source_id\\\":24,\\\"target_id\\\":39,\\\"type\\\":\\\"CurriculumPrerequisite\\\"}],\\\"name\\\":\\\"CHEE 442\\\",\\\"metrics\\\":{\\\"centrality\\\":22,\\\"complexity\\\":9.0,\\\"blocking factor\\\":1,\\\"delay factor\\\":8.0},\\\"nameSub\\\":\\\"Chemical Engineering Design Principles\\\",\\\"id\\\":39,\\\"credits\\\":3,\\\"nameCanonical\\\":\\\"\\\"},{\\\"curriculum_requisites\\\":[],\\\"name\\\":\\\"AME 313\\\",\\\"metrics\\\":{\\\"centrality\\\":0,\\\"complexity\\\":1.0,\\\"blocking factor\\\":0,\\\"delay factor\\\":1.0},\\\"nameSub\\\":\\\"Aerospace/Mechanical Engineering Laboratory\\\",\\\"id\\\":40,\\\"credits\\\":3,\\\"nameCanonical\\\":\\\"\\\"},{\\\"curriculum_requisites\\\":[],\\\"name\\\":\\\" \\\",\\\"metrics\\\":{\\\"centrality\\\":0,\\\"complexity\\\":1.0,\\\"blocking factor\\\":0,\\\"delay factor\\\":1.0},\\\"nameSub\\\":\\\"Tier II General Education \\\",\\\"id\\\":41,\\\"credits\\\":3,\\\"nameCanonical\\\":\\\"\\\"}],\\\"id\\\":7},{\\\"name\\\":\\\"Term 8\\\",\\\"curriculum_items\\\":[{\\\"curriculum_requisites\\\":[{\\\"source_id\\\":36,\\\"target_id\\\":42,\\\"type\\\":\\\"CurriculumPrerequisite\\\"},{\\\"source_id\\\":37,\\\"target_id\\\":42,\\\"type\\\":\\\"CurriculumPrerequisite\\\"}],\\\"name\\\":\\\"CHEE 413\\\",\\\"metrics\\\":{\\\"centrality\\\":554,\\\"complexity\\\":13.0,\\\"blocking factor\\\":1,\\\"delay factor\\\":12.0},\\\"nameSub\\\":\\\"Process Control and Simulation\\\",\\\"id\\\":42,\\\"credits\\\":3,\\\"nameCanonical\\\":\\\"\\\"},{\\\"curriculum_requisites\\\":[],\\\"name\\\":\\\" \\\",\\\"metrics\\\":{\\\"centrality\\\":0,\\\"complexity\\\":1.0,\\\"blocking factor\\\":0,\\\"delay factor\\\":1.0},\\\"nameSub\\\":\\\"Chemical Engineering Technical Electives\\\",\\\"id\\\":43,\\\"credits\\\":3,\\\"nameCanonical\\\":\\\"\\\"},{\\\"curriculum_requisites\\\":[{\\\"source_id\\\":39,\\\"target_id\\\":44,\\\"type\\\":\\\"CurriculumPrerequisite\\\"}],\\\"name\\\":\\\"CHEE 443\\\",\\\"metrics\\\":{\\\"centrality\\\":0,\\\"complexity\\\":8.0,\\\"blocking factor\\\":0,\\\"delay factor\\\":8.0},\\\"nameSub\\\":\\\"Chemical Engineering Plant Design\\\",\\\"id\\\":44,\\\"credits\\\":3,\\\"nameCanonical\\\":\\\"\\\"},{\\\"curriculum_requisites\\\":[{\\\"source_id\\\":27,\\\"target_id\\\":45,\\\"type\\\":\\\"CurriculumPrerequisite\\\"},{\\\"source_id\\\":31,\\\"target_id\\\":45,\\\"type\\\":\\\"CurriculumPrerequisite\\\"},{\\\"source_id\\\":42,\\\"target_id\\\":45,\\\"type\\\":\\\"CurriculumCorequisite\\\"},{\\\"source_id\\\":37,\\\"target_id\\\":45,\\\"type\\\":\\\"CurriculumPrerequisite\\\"}],\\\"name\\\":\\\"CHEE 401B\\\",\\\"metrics\\\":{\\\"centrality\\\":0,\\\"complexity\\\":12.0,\\\"blocking factor\\\":0,\\\"delay factor\\\":12.0},\\\"nameSub\\\":\\\"Process Dynamics and Control Laboratory\\\",\\\"id\\\":45,\\\"credits\\\":1,\\\"nameCanonical\\\":\\\"\\\"},{\\\"curriculum_requisites\\\":[],\\\"name\\\":\\\" \\\",\\\"metrics\\\":{\\\"centrality\\\":0,\\\"complexity\\\":1.0,\\\"blocking factor\\\":0,\\\"delay factor\\\":1.0},\\\"nameSub\\\":\\\"Tier II General Education \\\",\\\"id\\\":46,\\\"credits\\\":3,\\\"nameCanonical\\\":\\\"\\\"},{\\\"curriculum_requisites\\\":[],\\\"name\\\":\\\"MSE 331R\\\",\\\"metrics\\\":{\\\"centrality\\\":0,\\\"complexity\\\":1.0,\\\"blocking factor\\\":0,\\\"delay factor\\\":1.0},\\\"nameSub\\\":\\\"Fundamentals of Materials for Engineers\\\",\\\"id\\\":47,\\\"credits\\\":3,\\\"nameCanonical\\\":\\\"\\\"}],\\\"id\\\":8}],\\\"institution\\\":\\\"University of Arizona\\\"}},\\\"*\\\"); window.removeEventListener(\\\"message\\\",window.messageReceived); window.messageReceived=(function (event){return (event.data.curriculum!==undefined) ? (WebIO.setval({\\\"name\\\":\\\"curriculum-data\\\",\\\"scope\\\":\\\"17776514461581644972\\\",\\\"id\\\":\\\"15453740922630858420\\\",\\\"type\\\":\\\"observable\\\"},event.data.curriculum)) : undefined}); return window.addEventListener(\\\"message\\\",window.messageReceived)})\")), :style => Dict(:padding => \"0\", :height => \"100vh\", :margin => \"0\", :border => \"none\", :width => \"100%\"))), Dict{String, Tuple{Observables.AbstractObservable, Union{Nothing, Bool}}}(\"curriculum-data\" => (Observable{Dict{String, Any}} with 1 listeners. Value:\n",
       "Dict{String, Any}(\"options\" => Dict{String, Any}(\"hideTerms\" => false, \"edit\" => false), \"curriculum\" => Dict{String, Any}(\"name\" => \"Chemical Engineering - (Bachelor of Science in Chemical Engineering)\", \"dp_name\" => \"2019-20 Degree Plan\", \"curriculum_terms\" => Dict{String, Any}[Dict(\"name\" => \"Term 1\", \"curriculum_items\" => Dict{String, Any}[Dict(\"curriculum_requisites\" => Dict{String, Any}[Dict(\"source_id\" => 4, \"target_id\" => 1, \"type\" => \"CurriculumCorequisite\")], \"name\" => \"CHEM 151\", \"metrics\" => Dict{String, Any}(\"centrality\" => 141, \"complexity\" => 28.0, \"blocking factor\" => 16, \"delay factor\" => 12.0), \"nameSub\" => \"General Chemistry I\", \"id\" => 1, \"credits\" => 4, \"nameCanonical\" => \"\"), Dict(\"curriculum_requisites\" => Dict{String, Any}[], \"name\" => \" \", \"metrics\" => Dict{String, Any}(\"centrality\" => 0, \"complexity\" => 1.0, \"blocking factor\" => 0, \"delay factor\" => 1.0), \"nameSub\" => \"Tier I General Education \", \"id\" => 2, \"credits\" => 3, \"nameCanonical\" => \"\"), Dict(\"curriculum_requisites\" => Dict{String, Any}[], \"name\" => \"MATH 122A\", \"metrics\" => Dict{String, Any}(\"centrality\" => 0, \"complexity\" => 43.0, \"blocking factor\" => 31, \"delay factor\" => 12.0), \"nameSub\" => \"Functions for Calculus\", \"id\" => 3, \"credits\" => 1, \"nameCanonical\" => \"\"), Dict(\"curriculum_requisites\" => Dict{String, Any}[Dict(\"source_id\" => 3, \"target_id\" => 4, \"type\" => \"CurriculumCorequisite\")], \"name\" => \"MATH 122B\", \"metrics\" => Dict{String, Any}(\"centrality\" => 1225, \"complexity\" => 42.0, \"blocking factor\" => 30, \"delay factor\" => 12.0), \"nameSub\" => \"First-Semester Calculus\", \"id\" => 4, \"credits\" => 4, \"nameCanonical\" => \"\"), Dict(\"curriculum_requisites\" => Dict{String, Any}[], \"name\" => \"ENGL 101\", \"metrics\" => Dict{String, Any}(\"centrality\" => 0, \"complexity\" => 3.0, \"blocking factor\" => 1, \"delay factor\" => 2.0), \"nameSub\" => \"First-Year Composition\", \"id\" => 5, \"credits\" => 3, \"nameCanonical\" => \"\"), Dict(\"curriculum_requisites\" => Dict{String, Any}[], \"name\" => \" \", \"metrics\" => Dict{String, Any}(\"centrality\" => 0, \"complexity\" => 1.0, \"blocking factor\" => 0, \"delay factor\" => 1.0), \"nameSub\" => \"ENGR 102A/B or ENGR 102\", \"id\" => 6, \"credits\" => 3, \"nameCanonical\" => \"\")], \"id\" => 1), Dict(\"name\" => \"Term 2\", \"curriculum_items\" => Dict{String, Any}[Dict(\"curriculum_requisites\" => Dict{String, Any}[Dict(\"source_id\" => 4, \"target_id\" => 7, \"type\" => \"CurriculumPrerequisite\")], \"name\" => \"MATH 129\", \"metrics\" => Dict{String, Any}(\"centrality\" => 393, \"complexity\" => 31.0, \"blocking factor\" => 20, \"delay factor\" => 11.0), \"nameSub\" => \"Calculus II\", \"id\" => 7, \"credits\" => 3, \"nameCanonical\" => \"\"), Dict(\"curriculum_requisites\" => Dict{String, Any}[Dict(\"source_id\" => 4, \"target_id\" => 8, \"type\" => \"CurriculumPrerequisite\"), Dict(\"source_id\" => 1, \"target_id\" => 8, \"type\" => \"CurriculumPrerequisite\")], \"name\" => \"CHEM 152\", \"metrics\" => Dict{String, Any}(\"centrality\" => 266, \"complexity\" => 27.0, \"blocking factor\" => 15, \"delay factor\" => 12.0), \"nameSub\" => \"General Chemistry II\", \"id\" => 8, \"credits\" => 4, \"nameCanonical\" => \"\"), Dict(\"curriculum_requisites\" => Dict{String, Any}[Dict(\"source_id\" => 5, \"target_id\" => 9, \"type\" => \"CurriculumPrerequisite\")], \"name\" => \"ENGL 102\", \"metrics\" => Dict{String, Any}(\"centrality\" => 0, \"complexity\" => 2.0, \"blocking factor\" => 0, \"delay factor\" => 2.0), \"nameSub\" => \"First-Year Composition\", \"id\" => 9, \"credits\" => 3, \"nameCanonical\" => \"\"), Dict(\"curriculum_requisites\" => Dict{String, Any}[Dict(\"source_id\" => 4, \"target_id\" => 10, \"type\" => \"CurriculumPrerequisite\")], \"name\" => \"PHYS 141\", \"metrics\" => Dict{String, Any}(\"centrality\" => 197, \"complexity\" => 25.0, \"blocking factor\" => 15, \"delay factor\" => 10.0), \"nameSub\" => \"Introductory Mechanics\", \"id\" => 10, \"credits\" => 4, \"nameCanonical\" => \"\"), Dict(\"curriculum_requisites\" => Dict{String, Any}[Dict(\"source_id\" => 4, \"target_id\" => 11, \"type\" => \"CurriculumPrerequisite\")], \"name\" => \"AME 105\", \"metrics\" => Dict{String, Any}(\"centrality\" => 174, \"complexity\" => 22.0, \"blocking factor\" => 10, \"delay factor\" => 12.0), \"nameSub\" => \"Introduction to MATLAB I\", \"id\" => 11, \"credits\" => 1, \"nameCanonical\" => \"\")], \"id\" => 2), Dict(\"name\" => \"Term 3\", \"curriculum_items\" => Dict{String, Any}[Dict(\"curriculum_requisites\" => Dict{String, Any}[Dict(\"source_id\" => 16, \"target_id\" => 12, \"type\" => \"CurriculumCorequisite\"), Dict(\"source_id\" => 8, \"target_id\" => 12, \"type\" => \"CurriculumPrerequisite\")], \"name\" => \"CHEM 243A\", \"metrics\" => Dict{String, Any}(\"centrality\" => 0, \"complexity\" => 6.0, \"blocking factor\" => 0, \"delay factor\" => 6.0), \"nameSub\" => \"Organic Chemistry Laboratory I\", \"id\" => 12, \"credits\" => 1, \"nameCanonical\" => \"\"), Dict(\"curriculum_requisites\" => Dict{String, Any}[], \"name\" => \" \", \"metrics\" => Dict{String, Any}(\"centrality\" => 0, \"complexity\" => 1.0, \"blocking factor\" => 0, \"delay factor\" => 1.0), \"nameSub\" => \"Tier I General Education \", \"id\" => 13, \"credits\" => 3, \"nameCanonical\" => \"\"), Dict(\"curriculum_requisites\" => Dict{String, Any}[Dict(\"source_id\" => 11, \"target_id\" => 14, \"type\" => \"CurriculumPrerequisite\")], \"name\" => \"AME 205\", \"metrics\" => Dict{String, Any}(\"centrality\" => 116, \"complexity\" => 21.0, \"blocking factor\" => 9, \"delay factor\" => 12.0), \"nameSub\" => \"Introduction to MATLAB II\", \"id\" => 14, \"credits\" => 1, \"nameCanonical\" => \"\"), Dict(\"curriculum_requisites\" => Dict{String, Any}[Dict(\"source_id\" => 11, \"target_id\" => 15, \"type\" => \"CurriculumPrerequisite\"), Dict(\"source_id\" => 8, \"target_id\" => 15, \"type\" => \"CurriculumPrerequisite\"), Dict(\"source_id\" => 14, \"target_id\" => 15, \"type\" => \"CurriculumCorequisite\")], \"name\" => \"CHEE 201L\", \"metrics\" => Dict{String, Any}(\"centrality\" => 244, \"complexity\" => 20.0, \"blocking factor\" => 8, \"delay factor\" => 12.0), \"nameSub\" => \"Elements of Chemical & Environmental Engineering I - Computational Lab\", \"id\" => 15, \"credits\" => 1, \"nameCanonical\" => \"\"), Dict(\"curriculum_requisites\" => Dict{String, Any}[Dict(\"source_id\" => 8, \"target_id\" => 16, \"type\" => \"CurriculumPrerequisite\")], \"name\" => \"CHEM 241A\", \"metrics\" => Dict{String, Any}(\"centrality\" => 22, \"complexity\" => 8.0, \"blocking factor\" => 2, \"delay factor\" => 6.0), \"nameSub\" => \"Lectures in Organic Chemistry\", \"id\" => 16, \"credits\" => 3, \"nameCanonical\" => \"\"), Dict(\"curriculum_requisites\" => Dict{String, Any}[Dict(\"source_id\" => 7, \"target_id\" => 17, \"type\" => \"CurriculumPrerequisite\")], \"name\" => \"MATH 223\", \"metrics\" => Dict{String, Any}(\"centrality\" => 60, \"complexity\" => 18.0, \"blocking factor\" => 8, \"delay factor\" => 10.0), \"nameSub\" => \"Vector Calculus\", \"id\" => 17, \"credits\" => 4, \"nameCanonical\" => \"\"), Dict(\"curriculum_requisites\" => Dict{String, Any}[Dict(\"source_id\" => 4, \"target_id\" => 18, \"type\" => \"CurriculumPrerequisite\"), Dict(\"source_id\" => 7, \"target_id\" => 18, \"type\" => \"CurriculumCorequisite\")], \"name\" => \"CHEE 201\", \"metrics\" => Dict{String, Any}(\"centrality\" => 413, \"complexity\" => 25.0, \"blocking factor\" => 14, \"delay factor\" => 11.0), \"nameSub\" => \"Elements of Chemical & Environmental Engineering I\", \"id\" => 18, \"credits\" => 3, \"nameCanonical\" => \"\")], \"id\" => 3), Dict(\"name\" => \"Term 4\", \"curriculum_items\" => Dict{String, Any}[Dict(\"curriculum_requisites\" => Dict{String, Any}[Dict(\"source_id\" => 16, \"target_id\" => 19, \"type\" => \"CurriculumPrerequisite\")], \"name\" => \"CHEM 241B\", \"metrics\" => Dict{String, Any}(\"centrality\" => 0, \"complexity\" => 6.0, \"blocking factor\" => 0, \"delay factor\" => 6.0), \"nameSub\" => \"Lectures in Organic Chemistry\", \"id\" => 19, \"credits\" => 3, \"nameCanonical\" => \"\"), Dict(\"curriculum_requisites\" => Dict{String, Any}[Dict(\"source_id\" => 7, \"target_id\" => 20, \"type\" => \"CurriculumPrerequisite\"), Dict(\"source_id\" => 10, \"target_id\" => 20, \"type\" => \"CurriculumPrerequisite\")], \"name\" => \"PHYS 241\", \"metrics\" => Dict{String, Any}(\"centrality\" => 10, \"complexity\" => 6.0, \"blocking factor\" => 1, \"delay factor\" => 5.0), \"nameSub\" => \"Introductory Electricity and Magnetism\", \"id\" => 20, \"credits\" => 4, \"nameCanonical\" => \"\"), Dict(\"curriculum_requisites\" => Dict{String, Any}[Dict(\"source_id\" => 22, \"target_id\" => 21, \"type\" => \"CurriculumCorequisite\"), Dict(\"source_id\" => 15, \"target_id\" => 21, \"type\" => \"CurriculumPrerequisite\"), Dict(\"source_id\" => 18, \"target_id\" => 21, \"type\" => \"CurriculumPrerequisite\")], \"name\" => \"CHEE 202\", \"metrics\" => Dict{String, Any}(\"centrality\" => 412, \"complexity\" => 19.0, \"blocking factor\" => 7, \"delay factor\" => 12.0), \"nameSub\" => \"Elements of Chemical and Environmental Engineering II\", \"id\" => 21, \"credits\" => 4, \"nameCanonical\" => \"\"), Dict(\"curriculum_requisites\" => Dict{String, Any}[Dict(\"source_id\" => 7, \"target_id\" => 22, \"type\" => \"CurriculumPrerequisite\")], \"name\" => \"MATH 254\", \"metrics\" => Dict{String, Any}(\"centrality\" => 110, \"complexity\" => 19.0, \"blocking factor\" => 8, \"delay factor\" => 11.0), \"nameSub\" => \"Introduction to Ordinary Differential Equations\", \"id\" => 22, \"credits\" => 3, \"nameCanonical\" => \"\"), Dict(\"curriculum_requisites\" => Dict{String, Any}[Dict(\"source_id\" => 10, \"target_id\" => 23, \"type\" => \"CurriculumPrerequisite\"), Dict(\"source_id\" => 18, \"target_id\" => 23, \"type\" => \"CurriculumPrerequisite\")], \"name\" => \"CHEE 203\", \"metrics\" => Dict{String, Any}(\"centrality\" => 446, \"complexity\" => 22.0, \"blocking factor\" => 11, \"delay factor\" => 11.0), \"nameSub\" => \"Chemical Engineering Heat Transfer and Fluid Flow\", \"id\" => 23, \"credits\" => 3, \"nameCanonical\" => \"\")], \"id\" => 4), Dict(\"name\" => \"Term 5\", \"curriculum_items\" => Dict{String, Any}[Dict(\"curriculum_requisites\" => Dict{String, Any}[Dict(\"source_id\" => 23, \"target_id\" => 24, \"type\" => \"CurriculumPrerequisite\")], \"name\" => \"CHEE 303\", \"metrics\" => Dict{String, Any}(\"centrality\" => 352, \"complexity\" => 20.0, \"blocking factor\" => 9, \"delay factor\" => 11.0), \"nameSub\" => \"Chemical Engineering Mass Transfer\", \"id\" => 24, \"credits\" => 3, \"nameCanonical\" => \"\"), Dict(\"curriculum_requisites\" => Dict{String, Any}[], \"name\" => \" \", \"metrics\" => Dict{String, Any}(\"centrality\" => 0, \"complexity\" => 1.0, \"blocking factor\" => 0, \"delay factor\" => 1.0), \"nameSub\" => \"Tier I General Education \", \"id\" => 25, \"credits\" => 3, \"nameCanonical\" => \"\"), Dict(\"curriculum_requisites\" => Dict{String, Any}[Dict(\"source_id\" => 10, \"target_id\" => 26, \"type\" => \"CurriculumPrerequisite\"), Dict(\"source_id\" => 8, \"target_id\" => 26, \"type\" => \"CurriculumPrerequisite\"), Dict(\"source_id\" => 17, \"target_id\" => 26, \"type\" => \"CurriculumPrerequisite\")], \"name\" => \"CHEM 480A\", \"metrics\" => Dict{String, Any}(\"centrality\" => 208, \"complexity\" => 16.0, \"blocking factor\" => 6, \"delay factor\" => 10.0), \"nameSub\" => \"Physical Chemistry\", \"id\" => 26, \"credits\" => 3, \"nameCanonical\" => \"\"), Dict(\"curriculum_requisites\" => Dict{String, Any}[Dict(\"source_id\" => 23, \"target_id\" => 27, \"type\" => \"CurriculumPrerequisite\")], \"name\" => \"CHEE 301A\", \"metrics\" => Dict{String, Any}(\"centrality\" => 94, \"complexity\" => 14.0, \"blocking factor\" => 4, \"delay factor\" => 10.0), \"nameSub\" => \"Chemcial Engineering Lab I\", \"id\" => 27, \"credits\" => 1, \"nameCanonical\" => \"\"), Dict(\"curriculum_requisites\" => Dict{String, Any}[], \"name\" => \"CHEE 477R\", \"metrics\" => Dict{String, Any}(\"centrality\" => 0, \"complexity\" => 1.0, \"blocking factor\" => 0, \"delay factor\" => 1.0), \"nameSub\" => \"Microbiology for Engineers\", \"id\" => 28, \"credits\" => 3, \"nameCanonical\" => \"\"), Dict(\"curriculum_requisites\" => Dict{String, Any}[Dict(\"source_id\" => 22, \"target_id\" => 29, \"type\" => \"CurriculumPrerequisite\"), Dict(\"source_id\" => 21, \"target_id\" => 29, \"type\" => \"CurriculumPrerequisite\"), Dict(\"source_id\" => 14, \"target_id\" => 29, \"type\" => \"CurriculumPrerequisite\")], \"name\" => \"CHEE 402\", \"metrics\" => Dict{String, Any}(\"centrality\" => 516, \"complexity\" => 18.0, \"blocking factor\" => 6, \"delay factor\" => 12.0), \"nameSub\" => \"Chemical Engineering Modeling\", \"id\" => 29, \"credits\" => 3, \"nameCanonical\" => \"\")], \"id\" => 5), Dict(\"name\" => \"Term 6\", \"curriculum_items\" => Dict{String, Any}[Dict(\"curriculum_requisites\" => Dict{String, Any}[Dict(\"source_id\" => 29, \"target_id\" => 30, \"type\" => \"CurriculumPrerequisite\"), Dict(\"source_id\" => 24, \"target_id\" => 30, \"type\" => \"CurriculumPrerequisite\")], \"name\" => \"CHEE 305\", \"metrics\" => Dict{String, Any}(\"centrality\" => 351, \"complexity\" => 16.0, \"blocking factor\" => 4, \"delay factor\" => 12.0), \"nameSub\" => \"Chemical Engineering Transport Phenomena\", \"id\" => 30, \"credits\" => 3, \"nameCanonical\" => \"\"), Dict(\"curriculum_requisites\" => Dict{String, Any}[Dict(\"source_id\" => 35, \"target_id\" => 31, \"type\" => \"CurriculumStrictCorequisite\"), Dict(\"source_id\" => 27, \"target_id\" => 31, \"type\" => \"CurriculumPrerequisite\"), Dict(\"source_id\" => 24, \"target_id\" => 31, \"type\" => \"CurriculumPrerequisite\"), Dict(\"source_id\" => 30, \"target_id\" => 31, \"type\" => \"CurriculumStrictCorequisite\")], \"name\" => \"CHEE 301B\", \"metrics\" => Dict{String, Any}(\"centrality\" => 687, \"complexity\" => 15.0, \"blocking factor\" => 3, \"delay factor\" => 12.0), \"nameSub\" => \"Chemical Engineering Lab II\", \"id\" => 31, \"credits\" => 1, \"nameCanonical\" => \"\"), Dict(\"curriculum_requisites\" => Dict{String, Any}[], \"name\" => \"ABE 120\", \"metrics\" => Dict{String, Any}(\"centrality\" => 0, \"complexity\" => 1.0, \"blocking factor\" => 0, \"delay factor\" => 1.0), \"nameSub\" => \"Basic Computer Skills for Office Applications\", \"id\" => 32, \"credits\" => 3, \"nameCanonical\" => \"\"), Dict(\"curriculum_requisites\" => Dict{String, Any}[], \"name\" => \" \", \"metrics\" => Dict{String, Any}(\"centrality\" => 0, \"complexity\" => 1.0, \"blocking factor\" => 0, \"delay factor\" => 1.0), \"nameSub\" => \"Chemical Engineering Technical Electives\", \"id\" => 33, \"credits\" => 3, \"nameCanonical\" => \"\"), Dict(\"curriculum_requisites\" => Dict{String, Any}[], \"name\" => \" \", \"metrics\" => Dict{String, Any}(\"centrality\" => 0, \"complexity\" => 1.0, \"blocking factor\" => 0, \"delay factor\" => 1.0), \"nameSub\" => \"Tier I General Education \", \"id\" => 34, \"credits\" => 3, \"nameCanonical\" => \"\"), Dict(\"curriculum_requisites\" => Dict{String, Any}[Dict(\"source_id\" => 26, \"target_id\" => 35, \"type\" => \"CurriculumPrerequisite\"), Dict(\"source_id\" => 24, \"target_id\" => 35, \"type\" => \"CurriculumPrerequisite\")], \"name\" => \"CHEE 326\", \"metrics\" => Dict{String, Any}(\"centrality\" => 379, \"complexity\" => 16.0, \"blocking factor\" => 5, \"delay factor\" => 11.0), \"nameSub\" => \"Chemical and Physical Equilibrium\", \"id\" => 35, \"credits\" => 3, \"nameCanonical\" => \"\")], \"id\" => 6), Dict(\"name\" => \"Term 7\", \"curriculum_items\" => Dict{String, Any}[Dict(\"curriculum_requisites\" => Dict{String, Any}[Dict(\"source_id\" => 35, \"target_id\" => 36, \"type\" => \"CurriculumPrerequisite\"), Dict(\"source_id\" => 29, \"target_id\" => 36, \"type\" => \"CurriculumCorequisite\")], \"name\" => \"CHEE 420\", \"metrics\" => Dict{String, Any}(\"centrality\" => 442, \"complexity\" => 14.0, \"blocking factor\" => 3, \"delay factor\" => 11.0), \"nameSub\" => \"Chemical Reaction Engineering\", \"id\" => 36, \"credits\" => 3, \"nameCanonical\" => \"\"), Dict(\"curriculum_requisites\" => Dict{String, Any}[Dict(\"source_id\" => 36, \"target_id\" => 37, \"type\" => \"CurriculumStrictCorequisite\"), Dict(\"source_id\" => 31, \"target_id\" => 37, \"type\" => \"CurriculumPrerequisite\")], \"name\" => \"CHEE 401A\", \"metrics\" => Dict{String, Any}(\"centrality\" => 783, \"complexity\" => 14.0, \"blocking factor\" => 2, \"delay factor\" => 12.0), \"nameSub\" => \"Chemical and Environmental Engineering Laboratory I\", \"id\" => 37, \"credits\" => 1, \"nameCanonical\" => \"\"), Dict(\"curriculum_requisites\" => Dict{String, Any}[Dict(\"source_id\" => 20, \"target_id\" => 38, \"type\" => \"CurriculumPrerequisite\"), Dict(\"source_id\" => 8, \"target_id\" => 38, \"type\" => \"CurriculumPrerequisite\"), Dict(\"source_id\" => 17, \"target_id\" => 38, \"type\" => \"CurriculumPrerequisite\")], \"name\" => \"CHEM 480B\", \"metrics\" => Dict{String, Any}(\"centrality\" => 0, \"complexity\" => 5.0, \"blocking factor\" => 0, \"delay factor\" => 5.0), \"nameSub\" => \"Physical Chemistry\", \"id\" => 38, \"credits\" => 3, \"nameCanonical\" => \"\"), Dict(\"curriculum_requisites\" => Dict{String, Any}[Dict(\"source_id\" => 24, \"target_id\" => 39, \"type\" => \"CurriculumPrerequisite\")], \"name\" => \"CHEE 442\", \"metrics\" => Dict{String, Any}(\"centrality\" => 22, \"complexity\" => 9.0, \"blocking factor\" => 1, \"delay factor\" => 8.0), \"nameSub\" => \"Chemical Engineering Design Principles\", \"id\" => 39, \"credits\" => 3, \"nameCanonical\" => \"\"), Dict(\"curriculum_requisites\" => Dict{String, Any}[], \"name\" => \"AME 313\", \"metrics\" => Dict{String, Any}(\"centrality\" => 0, \"complexity\" => 1.0, \"blocking factor\" => 0, \"delay factor\" => 1.0), \"nameSub\" => \"Aerospace/Mechanical Engineering Laboratory\", \"id\" => 40, \"credits\" => 3, \"nameCanonical\" => \"\"), Dict(\"curriculum_requisites\" => Dict{String, Any}[], \"name\" => \" \", \"metrics\" => Dict{String, Any}(\"centrality\" => 0, \"complexity\" => 1.0, \"blocking factor\" => 0, \"delay factor\" => 1.0), \"nameSub\" => \"Tier II General Education \", \"id\" => 41, \"credits\" => 3, \"nameCanonical\" => \"\")], \"id\" => 7), Dict(\"name\" => \"Term 8\", \"curriculum_items\" => Dict{String, Any}[Dict(\"curriculum_requisites\" => Dict{String, Any}[Dict(\"source_id\" => 36, \"target_id\" => 42, \"type\" => \"CurriculumPrerequisite\"), Dict(\"source_id\" => 37, \"target_id\" => 42, \"type\" => \"CurriculumPrerequisite\")], \"name\" => \"CHEE 413\", \"metrics\" => Dict{String, Any}(\"centrality\" => 554, \"complexity\" => 13.0, \"blocking factor\" => 1, \"delay factor\" => 12.0), \"nameSub\" => \"Process Control and Simulation\", \"id\" => 42, \"credits\" => 3, \"nameCanonical\" => \"\"), Dict(\"curriculum_requisites\" => Dict{String, Any}[], \"name\" => \" \", \"metrics\" => Dict{String, Any}(\"centrality\" => 0, \"complexity\" => 1.0, \"blocking factor\" => 0, \"delay factor\" => 1.0), \"nameSub\" => \"Chemical Engineering Technical Electives\", \"id\" => 43, \"credits\" => 3, \"nameCanonical\" => \"\"), Dict(\"curriculum_requisites\" => Dict{String, Any}[Dict(\"source_id\" => 39, \"target_id\" => 44, \"type\" => \"CurriculumPrerequisite\")], \"name\" => \"CHEE 443\", \"metrics\" => Dict{String, Any}(\"centrality\" => 0, \"complexity\" => 8.0, \"blocking factor\" => 0, \"delay factor\" => 8.0), \"nameSub\" => \"Chemical Engineering Plant Design\", \"id\" => 44, \"credits\" => 3, \"nameCanonical\" => \"\"), Dict(\"curriculum_requisites\" => Dict{String, Any}[Dict(\"source_id\" => 27, \"target_id\" => 45, \"type\" => \"CurriculumPrerequisite\"), Dict(\"source_id\" => 31, \"target_id\" => 45, \"type\" => \"CurriculumPrerequisite\"), Dict(\"source_id\" => 42, \"target_id\" => 45, \"type\" => \"CurriculumCorequisite\"), Dict(\"source_id\" => 37, \"target_id\" => 45, \"type\" => \"CurriculumPrerequisite\")], \"name\" => \"CHEE 401B\", \"metrics\" => Dict{String, Any}(\"centrality\" => 0, \"complexity\" => 12.0, \"blocking factor\" => 0, \"delay factor\" => 12.0), \"nameSub\" => \"Process Dynamics and Control Laboratory\", \"id\" => 45, \"credits\" => 1, \"nameCanonical\" => \"\"), Dict(\"curriculum_requisites\" => Dict{String, Any}[], \"name\" => \" \", \"metrics\" => Dict{String, Any}(\"centrality\" => 0, \"complexity\" => 1.0, \"blocking factor\" => 0, \"delay factor\" => 1.0), \"nameSub\" => \"Tier II General Education \", \"id\" => 46, \"credits\" => 3, \"nameCanonical\" => \"\"), Dict(\"curriculum_requisites\" => Dict{String, Any}[], \"name\" => \"MSE 331R\", \"metrics\" => Dict{String, Any}(\"centrality\" => 0, \"complexity\" => 1.0, \"blocking factor\" => 0, \"delay factor\" => 1.0), \"nameSub\" => \"Fundamentals of Materials for Engineers\", \"id\" => 47, \"credits\" => 3, \"nameCanonical\" => \"\")], \"id\" => 8)], \"institution\" => \"University of Arizona\")), nothing)), Set{String}(), nothing, WebIO.Asset[], Dict{Any, Any}(), WebIO.ConnectionPool(Channel{Any}(32), Set{WebIO.AbstractConnection}(), Condition(Base.InvasiveLinkedList{Task}(Task (runnable) @0x0000000172347880, Task (runnable) @0x0000000172347880), Base.AlwaysLockedST(1))), WebIO.JSString[])"
      ]
     },
     "execution_count": 2,
     "metadata": {
      "application/vnd.webio.node+json": {
       "kernelId": "b1116678-2497-4976-979a-66e3b452fd18"
      }
     },
     "output_type": "execute_result"
    }
   ],
   "source": [
    "UA_ChemE_plan = read_csv(\"./programs/plans/ChemE-DP-UA.csv\")\n",
    "visualize(UA_ChemE_plan, notebook=true)"
   ]
  },
  {
   "cell_type": "markdown",
   "metadata": {},
   "source": [
    "The curricular metrics for this program are as follows:"
   ]
  },
  {
   "cell_type": "code",
   "execution_count": 4,
   "metadata": {},
   "outputs": [
    {
     "name": "stdout",
     "output_type": "stream",
     "text": [
      "\n",
      "University of Arizona \n",
      "Curriculum: Chemical Engineering - (Bachelor of Science in Chemical Engineering)\n",
      "  credit hours = 130\n",
      "  number of courses = 47\n",
      "  Blocking Factor --\n",
      "    entire curriculum = 250\n",
      "    max. value = 31, for course(s): MATH 122A - Functions for Calculus\n",
      "  Centrality --\n",
      "    entire curriculum = 8617\n",
      "    max. value = 1225, for course(s): MATH 122B - First-Semester Calculus\n",
      "  Delay Factor --\n",
      "    entire curriculum = 346.0\n",
      "    max. value = 12.0, for course(s): CHEM 151 - General Chemistry I, MATH 122A - Functions for Calculus, MATH 122B - First-Semester Calculus, CHEM 152 - General Chemistry II, AME 105 - Introduction to MATLAB I, AME 205 - Introduction to MATLAB II, CHEE 201L - Elements of Chemical & Environmental Engineering I - Computational Lab, CHEE 202 - Elements of Chemical and Environmental Engineering II, CHEE 402 - Chemical Engineering Modeling, CHEE 305 - Chemical Engineering Transport Phenomena, CHEE 301B - Chemical Engineering Lab II, CHEE 401A - Chemical and Environmental Engineering Laboratory I, CHEE 413 - Process Control and Simulation, CHEE 401B - Process Dynamics and Control Laboratory\n",
      "  Complexity --\n",
      "    entire curriculum = 596.0\n",
      "    max. value = 43.0, for course(s): MATH 122A - Functions for Calculus\n",
      "  Longest Path(s) --\n",
      "    length = 12, number of paths = 2\n",
      "    path(s):\n",
      "    path 1 = MATH 122A - Functions for Calculus -> MATH 122B - First-Semester Calculus -> CHEM 151 - General Chemistry I -> CHEM 152 - General Chemistry II -> CHEE 201L - Elements of Chemical & Environmental Engineering I - Computational Lab -> CHEE 202 - Elements of Chemical and Environmental Engineering II -> CHEE 402 - Chemical Engineering Modeling -> CHEE 305 - Chemical Engineering Transport Phenomena -> CHEE 301B - Chemical Engineering Lab II -> CHEE 401A - Chemical and Environmental Engineering Laboratory I -> CHEE 413 - Process Control and Simulation -> CHEE 401B - Process Dynamics and Control Laboratory\n",
      "    path 2 = MATH 122A - Functions for Calculus -> MATH 122B - First-Semester Calculus -> AME 105 - Introduction to MATLAB I -> AME 205 - Introduction to MATLAB II -> CHEE 201L - Elements of Chemical & Environmental Engineering I - Computational Lab -> CHEE 202 - Elements of Chemical and Environmental Engineering II -> CHEE 402 - Chemical Engineering Modeling -> CHEE 305 - Chemical Engineering Transport Phenomena -> CHEE 301B - Chemical Engineering Lab II -> CHEE 401A - Chemical and Environmental Engineering Laboratory I -> CHEE 413 - Process Control and Simulation -> CHEE 401B - Process Dynamics and Control Laboratory\n",
      "\n"
     ]
    }
   ],
   "source": [
    "metrics = basic_metrics(UA_ChemE_plan.curriculum)\n",
    "println(String(take!(metrics)))"
   ]
  },
  {
   "cell_type": "code",
   "execution_count": 5,
   "metadata": {},
   "outputs": [
    {
     "name": "stdout",
     "output_type": "stream",
     "text": [
      "\n",
      "Curriculum: Chemical Engineering - (Bachelor of Science in Chemical Engineering)\n",
      "Degree Plan: 2019-20 Degree Plan\n",
      "  total credit hours = 130\n",
      "  number of terms = 8\n",
      "  max. credits in a term = 18, in term 1\n",
      "  min. credits in a term = 15, in term 2\n",
      "  avg. credits per term = 16.25, with std. dev. = 0.82915619758885\n",
      "\n"
     ]
    }
   ],
   "source": [
    "metrics = basic_metrics(UA_ChemE_plan)\n",
    "println(String(take!(metrics)))"
   ]
  },
  {
   "cell_type": "markdown",
   "metadata": {},
   "source": [
    "## Dead End Courses\n",
    "The following function can be used to find \"dead end\" courses in a curricula.  Dead end courses are those that appear at the end of a path (i.e., sink vertices), and are not a part of a course associated with the major.  E.g., in the case of the chemical engineering curriculum above, these would be courses at the end of a path that do not have the \"CHEE\" or \"ENGR\" prefix.  One might consider these courses dead ends, as their course outcomes are not (formally) used by any major-specific course, i.e., by any course with the prefix \"CHEE.\""
   ]
  },
  {
   "cell_type": "code",
   "execution_count": 6,
   "metadata": {},
   "outputs": [
    {
     "name": "stdout",
     "output_type": "stream",
     "text": [
      "\n",
      "Dead end courses in the Chemical Engineering - (Bachelor of Science in Chemical Engineering) curriculum:\n",
      "  ENGL 102: First-Year Composition\n",
      "  CHEM 243A: Organic Chemistry Laboratory I\n",
      "  CHEM 241B: Lectures in Organic Chemistry\n",
      "  CHEM 480B: Physical Chemistry\n"
     ]
    }
   ],
   "source": [
    "de = dead_ends(UA_ChemE_plan.curriculum, [\"ENGR\", \"CHEE\"])\n",
    "println(\"\\nDead end courses in the $(UA_ChemE_plan.curriculum.name) curriculum:\")\n",
    "for course in de[2]\n",
    "  println(\"  $(course.prefix) $(course.num): $(course.name)\")\n",
    "end"
   ]
  },
  {
   "cell_type": "markdown",
   "metadata": {},
   "source": [
    "Note that there may be elective courses in the major that do in fact commonly require these courses as prerequisites."
   ]
  },
  {
   "cell_type": "markdown",
   "metadata": {},
   "source": [
    "### Extraneous Prerequisites\n",
    "The following function will find prerequisites in a curriculum.  These are redundant prerequisites that are unnecessary in a curriculum.  For example, if a curriculum has the prerequisite \n",
    "relationships $c_1 \\rightarrow c_2 \\rightarrow c_3$ and $c_1 \\rightarrow c_3$, and $c_1$ and $c_2$ are \n",
    "*not* co-requisites, then $c_1 \\rightarrow c_3$ is redundant and therefore extraneous.  Extraneous prerequisites do not effect the curricular complexity metric, they simply are unnecessary clutter in a curriculum or degree plan."
   ]
  },
  {
   "cell_type": "code",
   "execution_count": 6,
   "metadata": {},
   "outputs": [
    {
     "name": "stdout",
     "output_type": "stream",
     "text": [
      "\n",
      "University of Arizona: curriculum Chemical Engineering - (Bachelor of Science in Chemical Engineering) has extraneous requisites:\n",
      "-Elements of Chemical & Environmental Engineering I has redundant requisite First-Semester Calculus\n",
      "-Organic Chemistry Laboratory I has redundant requisite General Chemistry II\n",
      "-Elements of Chemical & Environmental Engineering I - Computational Lab has redundant requisite Introduction to MATLAB I\n",
      "-Chemical Engineering Lab II has redundant requisite Chemical Engineering Mass Transfer\n",
      "-Process Dynamics and Control Laboratory has redundant requisite Chemcial Engineering Lab I\n",
      "-Process Dynamics and Control Laboratory has redundant requisite Chemical Engineering Lab II\n",
      "-Process Dynamics and Control Laboratory has redundant requisite Chemical and Environmental Engineering Laboratory I\n",
      "\n"
     ]
    }
   ],
   "source": [
    "extraneous_requisites(UA_ChemE_plan.curriculum, print=true);"
   ]
  },
  {
   "cell_type": "markdown",
   "metadata": {},
   "source": [
    "### Why Does Complexity Matter?\n",
    "Here is the complexity distrubtion of all undergraduate programs at the Unviersity of Arizona"
   ]
  },
  {
   "cell_type": "code",
   "execution_count": 7,
   "metadata": {},
   "outputs": [
    {
     "data": {
      "image/svg+xml": [
       "<?xml version=\"1.0\" encoding=\"utf-8\"?>\n",
       "<svg xmlns=\"http://www.w3.org/2000/svg\" xmlns:xlink=\"http://www.w3.org/1999/xlink\" width=\"600\" height=\"400\" viewBox=\"0 0 2400 1600\">\n",
       "<defs>\n",
       "  <clipPath id=\"clip450\">\n",
       "    <rect x=\"0\" y=\"0\" width=\"2400\" height=\"1600\"/>\n",
       "  </clipPath>\n",
       "</defs>\n",
       "<path clip-path=\"url(#clip450)\" d=\"\n",
       "M0 1600 L2400 1600 L2400 0 L0 0  Z\n",
       "  \" fill=\"#ffffff\" fill-rule=\"evenodd\" fill-opacity=\"1\"/>\n",
       "<defs>\n",
       "  <clipPath id=\"clip451\">\n",
       "    <rect x=\"480\" y=\"0\" width=\"1681\" height=\"1600\"/>\n",
       "  </clipPath>\n",
       "</defs>\n",
       "<path clip-path=\"url(#clip450)\" d=\"\n",
       "M232.389 1423.18 L2352.76 1423.18 L2352.76 47.2441 L232.389 47.2441  Z\n",
       "  \" fill=\"#ffffff\" fill-rule=\"evenodd\" fill-opacity=\"1\"/>\n",
       "<defs>\n",
       "  <clipPath id=\"clip452\">\n",
       "    <rect x=\"232\" y=\"47\" width=\"2121\" height=\"1377\"/>\n",
       "  </clipPath>\n",
       "</defs>\n",
       "<polyline clip-path=\"url(#clip452)\" style=\"stroke:#000000; stroke-linecap:butt; stroke-linejoin:round; stroke-width:2; stroke-opacity:0.1; fill:none\" points=\"\n",
       "  286.109,1423.18 286.109,47.2441 \n",
       "  \"/>\n",
       "<polyline clip-path=\"url(#clip452)\" style=\"stroke:#000000; stroke-linecap:butt; stroke-linejoin:round; stroke-width:2; stroke-opacity:0.1; fill:none\" points=\"\n",
       "  600.629,1423.18 600.629,47.2441 \n",
       "  \"/>\n",
       "<polyline clip-path=\"url(#clip452)\" style=\"stroke:#000000; stroke-linecap:butt; stroke-linejoin:round; stroke-width:2; stroke-opacity:0.1; fill:none\" points=\"\n",
       "  915.149,1423.18 915.149,47.2441 \n",
       "  \"/>\n",
       "<polyline clip-path=\"url(#clip452)\" style=\"stroke:#000000; stroke-linecap:butt; stroke-linejoin:round; stroke-width:2; stroke-opacity:0.1; fill:none\" points=\"\n",
       "  1229.67,1423.18 1229.67,47.2441 \n",
       "  \"/>\n",
       "<polyline clip-path=\"url(#clip452)\" style=\"stroke:#000000; stroke-linecap:butt; stroke-linejoin:round; stroke-width:2; stroke-opacity:0.1; fill:none\" points=\"\n",
       "  1544.19,1423.18 1544.19,47.2441 \n",
       "  \"/>\n",
       "<polyline clip-path=\"url(#clip452)\" style=\"stroke:#000000; stroke-linecap:butt; stroke-linejoin:round; stroke-width:2; stroke-opacity:0.1; fill:none\" points=\"\n",
       "  1858.71,1423.18 1858.71,47.2441 \n",
       "  \"/>\n",
       "<polyline clip-path=\"url(#clip452)\" style=\"stroke:#000000; stroke-linecap:butt; stroke-linejoin:round; stroke-width:2; stroke-opacity:0.1; fill:none\" points=\"\n",
       "  2173.23,1423.18 2173.23,47.2441 \n",
       "  \"/>\n",
       "<polyline clip-path=\"url(#clip450)\" style=\"stroke:#000000; stroke-linecap:butt; stroke-linejoin:round; stroke-width:4; stroke-opacity:1; fill:none\" points=\"\n",
       "  232.389,1423.18 2352.76,1423.18 \n",
       "  \"/>\n",
       "<polyline clip-path=\"url(#clip450)\" style=\"stroke:#000000; stroke-linecap:butt; stroke-linejoin:round; stroke-width:4; stroke-opacity:1; fill:none\" points=\"\n",
       "  286.109,1423.18 286.109,1404.28 \n",
       "  \"/>\n",
       "<polyline clip-path=\"url(#clip450)\" style=\"stroke:#000000; stroke-linecap:butt; stroke-linejoin:round; stroke-width:4; stroke-opacity:1; fill:none\" points=\"\n",
       "  600.629,1423.18 600.629,1404.28 \n",
       "  \"/>\n",
       "<polyline clip-path=\"url(#clip450)\" style=\"stroke:#000000; stroke-linecap:butt; stroke-linejoin:round; stroke-width:4; stroke-opacity:1; fill:none\" points=\"\n",
       "  915.149,1423.18 915.149,1404.28 \n",
       "  \"/>\n",
       "<polyline clip-path=\"url(#clip450)\" style=\"stroke:#000000; stroke-linecap:butt; stroke-linejoin:round; stroke-width:4; stroke-opacity:1; fill:none\" points=\"\n",
       "  1229.67,1423.18 1229.67,1404.28 \n",
       "  \"/>\n",
       "<polyline clip-path=\"url(#clip450)\" style=\"stroke:#000000; stroke-linecap:butt; stroke-linejoin:round; stroke-width:4; stroke-opacity:1; fill:none\" points=\"\n",
       "  1544.19,1423.18 1544.19,1404.28 \n",
       "  \"/>\n",
       "<polyline clip-path=\"url(#clip450)\" style=\"stroke:#000000; stroke-linecap:butt; stroke-linejoin:round; stroke-width:4; stroke-opacity:1; fill:none\" points=\"\n",
       "  1858.71,1423.18 1858.71,1404.28 \n",
       "  \"/>\n",
       "<polyline clip-path=\"url(#clip450)\" style=\"stroke:#000000; stroke-linecap:butt; stroke-linejoin:round; stroke-width:4; stroke-opacity:1; fill:none\" points=\"\n",
       "  2173.23,1423.18 2173.23,1404.28 \n",
       "  \"/>\n",
       "<path clip-path=\"url(#clip450)\" d=\"M286.109 1454.1 Q282.498 1454.1 280.67 1457.66 Q278.864 1461.2 278.864 1468.33 Q278.864 1475.44 280.67 1479.01 Q282.498 1482.55 286.109 1482.55 Q289.744 1482.55 291.549 1479.01 Q293.378 1475.44 293.378 1468.33 Q293.378 1461.2 291.549 1457.66 Q289.744 1454.1 286.109 1454.1 M286.109 1450.39 Q291.919 1450.39 294.975 1455 Q298.054 1459.58 298.054 1468.33 Q298.054 1477.06 294.975 1481.67 Q291.919 1486.25 286.109 1486.25 Q280.299 1486.25 277.22 1481.67 Q274.165 1477.06 274.165 1468.33 Q274.165 1459.58 277.22 1455 Q280.299 1450.39 286.109 1450.39 Z\" fill=\"#000000\" fill-rule=\"evenodd\" fill-opacity=\"1\" /><path clip-path=\"url(#clip450)\" d=\"M560.236 1481.64 L567.875 1481.64 L567.875 1455.28 L559.565 1456.95 L559.565 1452.69 L567.828 1451.02 L572.504 1451.02 L572.504 1481.64 L580.143 1481.64 L580.143 1485.58 L560.236 1485.58 L560.236 1481.64 Z\" fill=\"#000000\" fill-rule=\"evenodd\" fill-opacity=\"1\" /><path clip-path=\"url(#clip450)\" d=\"M599.587 1454.1 Q595.976 1454.1 594.148 1457.66 Q592.342 1461.2 592.342 1468.33 Q592.342 1475.44 594.148 1479.01 Q595.976 1482.55 599.587 1482.55 Q603.222 1482.55 605.027 1479.01 Q606.856 1475.44 606.856 1468.33 Q606.856 1461.2 605.027 1457.66 Q603.222 1454.1 599.587 1454.1 M599.587 1450.39 Q605.398 1450.39 608.453 1455 Q611.532 1459.58 611.532 1468.33 Q611.532 1477.06 608.453 1481.67 Q605.398 1486.25 599.587 1486.25 Q593.777 1486.25 590.699 1481.67 Q587.643 1477.06 587.643 1468.33 Q587.643 1459.58 590.699 1455 Q593.777 1450.39 599.587 1450.39 Z\" fill=\"#000000\" fill-rule=\"evenodd\" fill-opacity=\"1\" /><path clip-path=\"url(#clip450)\" d=\"M629.749 1454.1 Q626.138 1454.1 624.31 1457.66 Q622.504 1461.2 622.504 1468.33 Q622.504 1475.44 624.31 1479.01 Q626.138 1482.55 629.749 1482.55 Q633.384 1482.55 635.189 1479.01 Q637.018 1475.44 637.018 1468.33 Q637.018 1461.2 635.189 1457.66 Q633.384 1454.1 629.749 1454.1 M629.749 1450.39 Q635.559 1450.39 638.615 1455 Q641.694 1459.58 641.694 1468.33 Q641.694 1477.06 638.615 1481.67 Q635.559 1486.25 629.749 1486.25 Q623.939 1486.25 620.86 1481.67 Q617.805 1477.06 617.805 1468.33 Q617.805 1459.58 620.86 1455 Q623.939 1450.39 629.749 1450.39 Z\" fill=\"#000000\" fill-rule=\"evenodd\" fill-opacity=\"1\" /><path clip-path=\"url(#clip450)\" d=\"M878.841 1481.64 L895.161 1481.64 L895.161 1485.58 L873.216 1485.58 L873.216 1481.64 Q875.878 1478.89 880.462 1474.26 Q885.068 1469.61 886.249 1468.27 Q888.494 1465.74 889.374 1464.01 Q890.276 1462.25 890.276 1460.56 Q890.276 1457.8 888.332 1456.07 Q886.411 1454.33 883.309 1454.33 Q881.11 1454.33 878.656 1455.09 Q876.225 1455.86 873.448 1457.41 L873.448 1452.69 Q876.272 1451.55 878.725 1450.97 Q881.179 1450.39 883.216 1450.39 Q888.587 1450.39 891.781 1453.08 Q894.975 1455.77 894.975 1460.26 Q894.975 1462.39 894.165 1464.31 Q893.378 1466.2 891.272 1468.8 Q890.693 1469.47 887.591 1472.69 Q884.489 1475.88 878.841 1481.64 Z\" fill=\"#000000\" fill-rule=\"evenodd\" fill-opacity=\"1\" /><path clip-path=\"url(#clip450)\" d=\"M914.975 1454.1 Q911.364 1454.1 909.535 1457.66 Q907.73 1461.2 907.73 1468.33 Q907.73 1475.44 909.535 1479.01 Q911.364 1482.55 914.975 1482.55 Q918.61 1482.55 920.415 1479.01 Q922.244 1475.44 922.244 1468.33 Q922.244 1461.2 920.415 1457.66 Q918.61 1454.1 914.975 1454.1 M914.975 1450.39 Q920.785 1450.39 923.841 1455 Q926.92 1459.58 926.92 1468.33 Q926.92 1477.06 923.841 1481.67 Q920.785 1486.25 914.975 1486.25 Q909.165 1486.25 906.086 1481.67 Q903.031 1477.06 903.031 1468.33 Q903.031 1459.58 906.086 1455 Q909.165 1450.39 914.975 1450.39 Z\" fill=\"#000000\" fill-rule=\"evenodd\" fill-opacity=\"1\" /><path clip-path=\"url(#clip450)\" d=\"M945.137 1454.1 Q941.526 1454.1 939.697 1457.66 Q937.892 1461.2 937.892 1468.33 Q937.892 1475.44 939.697 1479.01 Q941.526 1482.55 945.137 1482.55 Q948.771 1482.55 950.577 1479.01 Q952.406 1475.44 952.406 1468.33 Q952.406 1461.2 950.577 1457.66 Q948.771 1454.1 945.137 1454.1 M945.137 1450.39 Q950.947 1450.39 954.003 1455 Q957.082 1459.58 957.082 1468.33 Q957.082 1477.06 954.003 1481.67 Q950.947 1486.25 945.137 1486.25 Q939.327 1486.25 936.248 1481.67 Q933.193 1477.06 933.193 1468.33 Q933.193 1459.58 936.248 1455 Q939.327 1450.39 945.137 1450.39 Z\" fill=\"#000000\" fill-rule=\"evenodd\" fill-opacity=\"1\" /><path clip-path=\"url(#clip450)\" d=\"M1203.43 1466.95 Q1206.79 1467.66 1208.66 1469.93 Q1210.56 1472.2 1210.56 1475.53 Q1210.56 1480.65 1207.04 1483.45 Q1203.52 1486.25 1197.04 1486.25 Q1194.87 1486.25 1192.55 1485.81 Q1190.26 1485.39 1187.81 1484.54 L1187.81 1480.02 Q1189.75 1481.16 1192.06 1481.74 Q1194.38 1482.32 1196.9 1482.32 Q1201.3 1482.32 1203.59 1480.58 Q1205.91 1478.84 1205.91 1475.53 Q1205.91 1472.48 1203.75 1470.77 Q1201.62 1469.03 1197.81 1469.03 L1193.78 1469.03 L1193.78 1465.19 L1197.99 1465.19 Q1201.44 1465.19 1203.27 1463.82 Q1205.1 1462.43 1205.1 1459.84 Q1205.1 1457.18 1203.2 1455.77 Q1201.32 1454.33 1197.81 1454.33 Q1195.88 1454.33 1193.69 1454.75 Q1191.49 1455.16 1188.85 1456.04 L1188.85 1451.88 Q1191.51 1451.14 1193.82 1450.77 Q1196.16 1450.39 1198.22 1450.39 Q1203.55 1450.39 1206.65 1452.83 Q1209.75 1455.23 1209.75 1459.35 Q1209.75 1462.22 1208.11 1464.21 Q1206.46 1466.18 1203.43 1466.95 Z\" fill=\"#000000\" fill-rule=\"evenodd\" fill-opacity=\"1\" /><path clip-path=\"url(#clip450)\" d=\"M1229.43 1454.1 Q1225.81 1454.1 1223.99 1457.66 Q1222.18 1461.2 1222.18 1468.33 Q1222.18 1475.44 1223.99 1479.01 Q1225.81 1482.55 1229.43 1482.55 Q1233.06 1482.55 1234.87 1479.01 Q1236.69 1475.44 1236.69 1468.33 Q1236.69 1461.2 1234.87 1457.66 Q1233.06 1454.1 1229.43 1454.1 M1229.43 1450.39 Q1235.24 1450.39 1238.29 1455 Q1241.37 1459.58 1241.37 1468.33 Q1241.37 1477.06 1238.29 1481.67 Q1235.24 1486.25 1229.43 1486.25 Q1223.62 1486.25 1220.54 1481.67 Q1217.48 1477.06 1217.48 1468.33 Q1217.48 1459.58 1220.54 1455 Q1223.62 1450.39 1229.43 1450.39 Z\" fill=\"#000000\" fill-rule=\"evenodd\" fill-opacity=\"1\" /><path clip-path=\"url(#clip450)\" d=\"M1259.59 1454.1 Q1255.98 1454.1 1254.15 1457.66 Q1252.34 1461.2 1252.34 1468.33 Q1252.34 1475.44 1254.15 1479.01 Q1255.98 1482.55 1259.59 1482.55 Q1263.22 1482.55 1265.03 1479.01 Q1266.86 1475.44 1266.86 1468.33 Q1266.86 1461.2 1265.03 1457.66 Q1263.22 1454.1 1259.59 1454.1 M1259.59 1450.39 Q1265.4 1450.39 1268.45 1455 Q1271.53 1459.58 1271.53 1468.33 Q1271.53 1477.06 1268.45 1481.67 Q1265.4 1486.25 1259.59 1486.25 Q1253.78 1486.25 1250.7 1481.67 Q1247.64 1477.06 1247.64 1468.33 Q1247.64 1459.58 1250.7 1455 Q1253.78 1450.39 1259.59 1450.39 Z\" fill=\"#000000\" fill-rule=\"evenodd\" fill-opacity=\"1\" /><path clip-path=\"url(#clip450)\" d=\"M1517.28 1455.09 L1505.47 1473.54 L1517.28 1473.54 L1517.28 1455.09 M1516.05 1451.02 L1521.93 1451.02 L1521.93 1473.54 L1526.86 1473.54 L1526.86 1477.43 L1521.93 1477.43 L1521.93 1485.58 L1517.28 1485.58 L1517.28 1477.43 L1501.68 1477.43 L1501.68 1472.92 L1516.05 1451.02 Z\" fill=\"#000000\" fill-rule=\"evenodd\" fill-opacity=\"1\" /><path clip-path=\"url(#clip450)\" d=\"M1544.59 1454.1 Q1540.98 1454.1 1539.15 1457.66 Q1537.35 1461.2 1537.35 1468.33 Q1537.35 1475.44 1539.15 1479.01 Q1540.98 1482.55 1544.59 1482.55 Q1548.23 1482.55 1550.03 1479.01 Q1551.86 1475.44 1551.86 1468.33 Q1551.86 1461.2 1550.03 1457.66 Q1548.23 1454.1 1544.59 1454.1 M1544.59 1450.39 Q1550.4 1450.39 1553.46 1455 Q1556.54 1459.58 1556.54 1468.33 Q1556.54 1477.06 1553.46 1481.67 Q1550.4 1486.25 1544.59 1486.25 Q1538.78 1486.25 1535.7 1481.67 Q1532.65 1477.06 1532.65 1468.33 Q1532.65 1459.58 1535.7 1455 Q1538.78 1450.39 1544.59 1450.39 Z\" fill=\"#000000\" fill-rule=\"evenodd\" fill-opacity=\"1\" /><path clip-path=\"url(#clip450)\" d=\"M1574.76 1454.1 Q1571.14 1454.1 1569.32 1457.66 Q1567.51 1461.2 1567.51 1468.33 Q1567.51 1475.44 1569.32 1479.01 Q1571.14 1482.55 1574.76 1482.55 Q1578.39 1482.55 1580.2 1479.01 Q1582.02 1475.44 1582.02 1468.33 Q1582.02 1461.2 1580.2 1457.66 Q1578.39 1454.1 1574.76 1454.1 M1574.76 1450.39 Q1580.57 1450.39 1583.62 1455 Q1586.7 1459.58 1586.7 1468.33 Q1586.7 1477.06 1583.62 1481.67 Q1580.57 1486.25 1574.76 1486.25 Q1568.95 1486.25 1565.87 1481.67 Q1562.81 1477.06 1562.81 1468.33 Q1562.81 1459.58 1565.87 1455 Q1568.95 1450.39 1574.76 1450.39 Z\" fill=\"#000000\" fill-rule=\"evenodd\" fill-opacity=\"1\" /><path clip-path=\"url(#clip450)\" d=\"M1818.33 1451.02 L1836.68 1451.02 L1836.68 1454.96 L1822.61 1454.96 L1822.61 1463.43 Q1823.63 1463.08 1824.65 1462.92 Q1825.66 1462.73 1826.68 1462.73 Q1832.47 1462.73 1835.85 1465.9 Q1839.23 1469.08 1839.23 1474.49 Q1839.23 1480.07 1835.76 1483.17 Q1832.28 1486.25 1825.97 1486.25 Q1823.79 1486.25 1821.52 1485.88 Q1819.28 1485.51 1816.87 1484.77 L1816.87 1480.07 Q1818.95 1481.2 1821.17 1481.76 Q1823.4 1482.32 1825.87 1482.32 Q1829.88 1482.32 1832.22 1480.21 Q1834.55 1478.1 1834.55 1474.49 Q1834.55 1470.88 1832.22 1468.77 Q1829.88 1466.67 1825.87 1466.67 Q1824 1466.67 1822.12 1467.08 Q1820.27 1467.5 1818.33 1468.38 L1818.33 1451.02 Z\" fill=\"#000000\" fill-rule=\"evenodd\" fill-opacity=\"1\" /><path clip-path=\"url(#clip450)\" d=\"M1858.44 1454.1 Q1854.83 1454.1 1853 1457.66 Q1851.2 1461.2 1851.2 1468.33 Q1851.2 1475.44 1853 1479.01 Q1854.83 1482.55 1858.44 1482.55 Q1862.08 1482.55 1863.88 1479.01 Q1865.71 1475.44 1865.71 1468.33 Q1865.71 1461.2 1863.88 1457.66 Q1862.08 1454.1 1858.44 1454.1 M1858.44 1450.39 Q1864.25 1450.39 1867.31 1455 Q1870.39 1459.58 1870.39 1468.33 Q1870.39 1477.06 1867.31 1481.67 Q1864.25 1486.25 1858.44 1486.25 Q1852.63 1486.25 1849.55 1481.67 Q1846.5 1477.06 1846.5 1468.33 Q1846.5 1459.58 1849.55 1455 Q1852.63 1450.39 1858.44 1450.39 Z\" fill=\"#000000\" fill-rule=\"evenodd\" fill-opacity=\"1\" /><path clip-path=\"url(#clip450)\" d=\"M1888.6 1454.1 Q1884.99 1454.1 1883.16 1457.66 Q1881.36 1461.2 1881.36 1468.33 Q1881.36 1475.44 1883.16 1479.01 Q1884.99 1482.55 1888.6 1482.55 Q1892.24 1482.55 1894.04 1479.01 Q1895.87 1475.44 1895.87 1468.33 Q1895.87 1461.2 1894.04 1457.66 Q1892.24 1454.1 1888.6 1454.1 M1888.6 1450.39 Q1894.41 1450.39 1897.47 1455 Q1900.55 1459.58 1900.55 1468.33 Q1900.55 1477.06 1897.47 1481.67 Q1894.41 1486.25 1888.6 1486.25 Q1882.79 1486.25 1879.72 1481.67 Q1876.66 1477.06 1876.66 1468.33 Q1876.66 1459.58 1879.72 1455 Q1882.79 1450.39 1888.6 1450.39 Z\" fill=\"#000000\" fill-rule=\"evenodd\" fill-opacity=\"1\" /><path clip-path=\"url(#clip450)\" d=\"M2143.55 1466.44 Q2140.4 1466.44 2138.55 1468.59 Q2136.72 1470.74 2136.72 1474.49 Q2136.72 1478.22 2138.55 1480.39 Q2140.4 1482.55 2143.55 1482.55 Q2146.7 1482.55 2148.53 1480.39 Q2150.38 1478.22 2150.38 1474.49 Q2150.38 1470.74 2148.53 1468.59 Q2146.7 1466.44 2143.55 1466.44 M2152.83 1451.78 L2152.83 1456.04 Q2151.08 1455.21 2149.27 1454.77 Q2147.49 1454.33 2145.73 1454.33 Q2141.1 1454.33 2138.64 1457.45 Q2136.21 1460.58 2135.87 1466.9 Q2137.23 1464.89 2139.29 1463.82 Q2141.35 1462.73 2143.83 1462.73 Q2149.04 1462.73 2152.05 1465.9 Q2155.08 1469.05 2155.08 1474.49 Q2155.08 1479.82 2151.93 1483.03 Q2148.78 1486.25 2143.55 1486.25 Q2137.56 1486.25 2134.39 1481.67 Q2131.21 1477.06 2131.21 1468.33 Q2131.21 1460.14 2135.1 1455.28 Q2138.99 1450.39 2145.54 1450.39 Q2147.3 1450.39 2149.08 1450.74 Q2150.89 1451.09 2152.83 1451.78 Z\" fill=\"#000000\" fill-rule=\"evenodd\" fill-opacity=\"1\" /><path clip-path=\"url(#clip450)\" d=\"M2173.14 1454.1 Q2169.52 1454.1 2167.7 1457.66 Q2165.89 1461.2 2165.89 1468.33 Q2165.89 1475.44 2167.7 1479.01 Q2169.52 1482.55 2173.14 1482.55 Q2176.77 1482.55 2178.58 1479.01 Q2180.4 1475.44 2180.4 1468.33 Q2180.4 1461.2 2178.58 1457.66 Q2176.77 1454.1 2173.14 1454.1 M2173.14 1450.39 Q2178.95 1450.39 2182 1455 Q2185.08 1459.58 2185.08 1468.33 Q2185.08 1477.06 2182 1481.67 Q2178.95 1486.25 2173.14 1486.25 Q2167.33 1486.25 2164.25 1481.67 Q2161.19 1477.06 2161.19 1468.33 Q2161.19 1459.58 2164.25 1455 Q2167.33 1450.39 2173.14 1450.39 Z\" fill=\"#000000\" fill-rule=\"evenodd\" fill-opacity=\"1\" /><path clip-path=\"url(#clip450)\" d=\"M2203.3 1454.1 Q2199.69 1454.1 2197.86 1457.66 Q2196.05 1461.2 2196.05 1468.33 Q2196.05 1475.44 2197.86 1479.01 Q2199.69 1482.55 2203.3 1482.55 Q2206.93 1482.55 2208.74 1479.01 Q2210.57 1475.44 2210.57 1468.33 Q2210.57 1461.2 2208.74 1457.66 Q2206.93 1454.1 2203.3 1454.1 M2203.3 1450.39 Q2209.11 1450.39 2212.16 1455 Q2215.24 1459.58 2215.24 1468.33 Q2215.24 1477.06 2212.16 1481.67 Q2209.11 1486.25 2203.3 1486.25 Q2197.49 1486.25 2194.41 1481.67 Q2191.35 1477.06 2191.35 1468.33 Q2191.35 1459.58 2194.41 1455 Q2197.49 1450.39 2203.3 1450.39 Z\" fill=\"#000000\" fill-rule=\"evenodd\" fill-opacity=\"1\" /><path clip-path=\"url(#clip450)\" d=\"M971.216 1525.81 L971.216 1543.66 L979.3 1543.66 Q983.788 1543.66 986.239 1541.34 Q988.69 1539.02 988.69 1534.72 Q988.69 1530.45 986.239 1528.13 Q983.788 1525.81 979.3 1525.81 L971.216 1525.81 M964.786 1520.52 L979.3 1520.52 Q987.289 1520.52 991.363 1524.15 Q995.469 1527.75 995.469 1534.72 Q995.469 1541.75 991.363 1545.35 Q987.289 1548.95 979.3 1548.95 L971.216 1548.95 L971.216 1568.04 L964.786 1568.04 L964.786 1520.52 Z\" fill=\"#000000\" fill-rule=\"evenodd\" fill-opacity=\"1\" /><path clip-path=\"url(#clip450)\" d=\"M1023.35 1537.87 Q1022.36 1537.3 1021.19 1537.04 Q1020.04 1536.76 1018.64 1536.76 Q1013.68 1536.76 1011 1540 Q1008.36 1543.22 1008.36 1549.27 L1008.36 1568.04 L1002.47 1568.04 L1002.47 1532.4 L1008.36 1532.4 L1008.36 1537.93 Q1010.21 1534.69 1013.17 1533.13 Q1016.13 1531.54 1020.36 1531.54 Q1020.96 1531.54 1021.7 1531.63 Q1022.43 1531.7 1023.32 1531.85 L1023.35 1537.87 Z\" fill=\"#000000\" fill-rule=\"evenodd\" fill-opacity=\"1\" /><path clip-path=\"url(#clip450)\" d=\"M1041.88 1536.5 Q1037.16 1536.5 1034.43 1540.19 Q1031.69 1543.85 1031.69 1550.25 Q1031.69 1556.65 1034.4 1560.34 Q1037.13 1564 1041.88 1564 Q1046.55 1564 1049.29 1560.31 Q1052.03 1556.62 1052.03 1550.25 Q1052.03 1543.92 1049.29 1540.23 Q1046.55 1536.5 1041.88 1536.5 M1041.88 1531.54 Q1049.51 1531.54 1053.87 1536.5 Q1058.24 1541.47 1058.24 1550.25 Q1058.24 1559 1053.87 1564 Q1049.51 1568.97 1041.88 1568.97 Q1034.2 1568.97 1029.84 1564 Q1025.52 1559 1025.52 1550.25 Q1025.52 1541.47 1029.84 1536.5 Q1034.2 1531.54 1041.88 1531.54 Z\" fill=\"#000000\" fill-rule=\"evenodd\" fill-opacity=\"1\" /><path clip-path=\"url(#clip450)\" d=\"M1091.4 1549.81 Q1091.4 1543.44 1088.76 1539.94 Q1086.15 1536.44 1081.41 1536.44 Q1076.7 1536.44 1074.05 1539.94 Q1071.44 1543.44 1071.44 1549.81 Q1071.44 1556.14 1074.05 1559.64 Q1076.7 1563.14 1081.41 1563.14 Q1086.15 1563.14 1088.76 1559.64 Q1091.4 1556.14 1091.4 1549.81 M1097.26 1563.62 Q1097.26 1572.72 1093.21 1577.15 Q1089.17 1581.6 1080.83 1581.6 Q1077.75 1581.6 1075.01 1581.13 Q1072.27 1580.68 1069.69 1579.72 L1069.69 1574.03 Q1072.27 1575.43 1074.79 1576.1 Q1077.3 1576.76 1079.91 1576.76 Q1085.67 1576.76 1088.54 1573.74 Q1091.4 1570.75 1091.4 1564.67 L1091.4 1561.77 Q1089.59 1564.92 1086.75 1566.48 Q1083.92 1568.04 1079.97 1568.04 Q1073.42 1568.04 1069.41 1563.05 Q1065.4 1558.05 1065.4 1549.81 Q1065.4 1541.53 1069.41 1536.53 Q1073.42 1531.54 1079.97 1531.54 Q1083.92 1531.54 1086.75 1533.1 Q1089.59 1534.66 1091.4 1537.81 L1091.4 1532.4 L1097.26 1532.4 L1097.26 1563.62 Z\" fill=\"#000000\" fill-rule=\"evenodd\" fill-opacity=\"1\" /><path clip-path=\"url(#clip450)\" d=\"M1129.98 1537.87 Q1128.99 1537.3 1127.81 1537.04 Q1126.67 1536.76 1125.27 1536.76 Q1120.3 1536.76 1117.63 1540 Q1114.99 1543.22 1114.99 1549.27 L1114.99 1568.04 L1109.1 1568.04 L1109.1 1532.4 L1114.99 1532.4 L1114.99 1537.93 Q1116.83 1534.69 1119.79 1533.13 Q1122.75 1531.54 1126.98 1531.54 Q1127.59 1531.54 1128.32 1531.63 Q1129.05 1531.7 1129.94 1531.85 L1129.98 1537.87 Z\" fill=\"#000000\" fill-rule=\"evenodd\" fill-opacity=\"1\" /><path clip-path=\"url(#clip450)\" d=\"M1152.32 1550.12 Q1145.22 1550.12 1142.49 1551.75 Q1139.75 1553.37 1139.75 1557.29 Q1139.75 1560.4 1141.78 1562.25 Q1143.85 1564.07 1147.39 1564.07 Q1152.26 1564.07 1155.18 1560.63 Q1158.14 1557.16 1158.14 1551.43 L1158.14 1550.12 L1152.32 1550.12 M1164 1547.71 L1164 1568.04 L1158.14 1568.04 L1158.14 1562.63 Q1156.14 1565.88 1153.15 1567.44 Q1150.16 1568.97 1145.83 1568.97 Q1140.35 1568.97 1137.11 1565.91 Q1133.89 1562.82 1133.89 1557.67 Q1133.89 1551.65 1137.9 1548.6 Q1141.94 1545.54 1149.93 1545.54 L1158.14 1545.54 L1158.14 1544.97 Q1158.14 1540.93 1155.47 1538.73 Q1152.83 1536.5 1148.02 1536.5 Q1144.97 1536.5 1142.07 1537.23 Q1139.18 1537.97 1136.5 1539.43 L1136.5 1534.02 Q1139.72 1532.78 1142.74 1532.17 Q1145.76 1531.54 1148.63 1531.54 Q1156.36 1531.54 1160.18 1535.55 Q1164 1539.56 1164 1547.71 Z\" fill=\"#000000\" fill-rule=\"evenodd\" fill-opacity=\"1\" /><path clip-path=\"url(#clip450)\" d=\"M1203.82 1539.24 Q1206.01 1535.29 1209.07 1533.41 Q1212.13 1531.54 1216.26 1531.54 Q1221.83 1531.54 1224.86 1535.45 Q1227.88 1539.33 1227.88 1546.53 L1227.88 1568.04 L1221.99 1568.04 L1221.99 1546.72 Q1221.99 1541.59 1220.18 1539.11 Q1218.36 1536.63 1214.64 1536.63 Q1210.09 1536.63 1207.45 1539.65 Q1204.81 1542.68 1204.81 1547.9 L1204.81 1568.04 L1198.92 1568.04 L1198.92 1546.72 Q1198.92 1541.56 1197.1 1539.11 Q1195.29 1536.63 1191.5 1536.63 Q1187.01 1536.63 1184.37 1539.68 Q1181.73 1542.71 1181.73 1547.9 L1181.73 1568.04 L1175.84 1568.04 L1175.84 1532.4 L1181.73 1532.4 L1181.73 1537.93 Q1183.73 1534.66 1186.54 1533.1 Q1189.34 1531.54 1193.19 1531.54 Q1197.07 1531.54 1199.78 1533.51 Q1202.51 1535.48 1203.82 1539.24 Z\" fill=\"#000000\" fill-rule=\"evenodd\" fill-opacity=\"1\" /><path clip-path=\"url(#clip450)\" d=\"M1296.12 1524.18 L1296.12 1530.96 Q1292.87 1527.94 1289.18 1526.44 Q1285.52 1524.95 1281.38 1524.95 Q1273.24 1524.95 1268.91 1529.95 Q1264.58 1534.91 1264.58 1544.33 Q1264.58 1553.72 1268.91 1558.72 Q1273.24 1563.68 1281.38 1563.68 Q1285.52 1563.68 1289.18 1562.19 Q1292.87 1560.69 1296.12 1557.67 L1296.12 1564.38 Q1292.75 1566.68 1288.96 1567.82 Q1285.2 1568.97 1281 1568.97 Q1270.21 1568.97 1264.01 1562.38 Q1257.8 1555.76 1257.8 1544.33 Q1257.8 1532.87 1264.01 1526.28 Q1270.21 1519.66 1281 1519.66 Q1285.27 1519.66 1289.02 1520.81 Q1292.81 1521.92 1296.12 1524.18 Z\" fill=\"#000000\" fill-rule=\"evenodd\" fill-opacity=\"1\" /><path clip-path=\"url(#clip450)\" d=\"M1319.61 1536.5 Q1314.9 1536.5 1312.16 1540.19 Q1309.43 1543.85 1309.43 1550.25 Q1309.43 1556.65 1312.13 1560.34 Q1314.87 1564 1319.61 1564 Q1324.29 1564 1327.03 1560.31 Q1329.76 1556.62 1329.76 1550.25 Q1329.76 1543.92 1327.03 1540.23 Q1324.29 1536.5 1319.61 1536.5 M1319.61 1531.54 Q1327.25 1531.54 1331.61 1536.5 Q1335.97 1541.47 1335.97 1550.25 Q1335.97 1559 1331.61 1564 Q1327.25 1568.97 1319.61 1568.97 Q1311.94 1568.97 1307.58 1564 Q1303.25 1559 1303.25 1550.25 Q1303.25 1541.47 1307.58 1536.5 Q1311.94 1531.54 1319.61 1531.54 Z\" fill=\"#000000\" fill-rule=\"evenodd\" fill-opacity=\"1\" /><path clip-path=\"url(#clip450)\" d=\"M1373.43 1539.24 Q1375.63 1535.29 1378.68 1533.41 Q1381.74 1531.54 1385.88 1531.54 Q1391.45 1531.54 1394.47 1535.45 Q1397.5 1539.33 1397.5 1546.53 L1397.5 1568.04 L1391.61 1568.04 L1391.61 1546.72 Q1391.61 1541.59 1389.79 1539.11 Q1387.98 1536.63 1384.25 1536.63 Q1379.7 1536.63 1377.06 1539.65 Q1374.42 1542.68 1374.42 1547.9 L1374.42 1568.04 L1368.53 1568.04 L1368.53 1546.72 Q1368.53 1541.56 1366.72 1539.11 Q1364.9 1536.63 1361.12 1536.63 Q1356.63 1536.63 1353.99 1539.68 Q1351.34 1542.71 1351.34 1547.9 L1351.34 1568.04 L1345.46 1568.04 L1345.46 1532.4 L1351.34 1532.4 L1351.34 1537.93 Q1353.35 1534.66 1356.15 1533.1 Q1358.95 1531.54 1362.8 1531.54 Q1366.69 1531.54 1369.39 1533.51 Q1372.13 1535.48 1373.43 1539.24 Z\" fill=\"#000000\" fill-rule=\"evenodd\" fill-opacity=\"1\" /><path clip-path=\"url(#clip450)\" d=\"M1414.84 1562.7 L1414.84 1581.6 L1408.95 1581.6 L1408.95 1532.4 L1414.84 1532.4 L1414.84 1537.81 Q1416.69 1534.62 1419.49 1533.1 Q1422.32 1531.54 1426.24 1531.54 Q1432.73 1531.54 1436.77 1536.69 Q1440.85 1541.85 1440.85 1550.25 Q1440.85 1558.65 1436.77 1563.81 Q1432.73 1568.97 1426.24 1568.97 Q1422.32 1568.97 1419.49 1567.44 Q1416.69 1565.88 1414.84 1562.7 M1434.77 1550.25 Q1434.77 1543.79 1432.09 1540.13 Q1429.45 1536.44 1424.8 1536.44 Q1420.16 1536.44 1417.48 1540.13 Q1414.84 1543.79 1414.84 1550.25 Q1414.84 1556.71 1417.48 1560.4 Q1420.16 1564.07 1424.8 1564.07 Q1429.45 1564.07 1432.09 1560.4 Q1434.77 1556.71 1434.77 1550.25 Z\" fill=\"#000000\" fill-rule=\"evenodd\" fill-opacity=\"1\" /><path clip-path=\"url(#clip450)\" d=\"M1450.55 1518.52 L1456.41 1518.52 L1456.41 1568.04 L1450.55 1568.04 L1450.55 1518.52 Z\" fill=\"#000000\" fill-rule=\"evenodd\" fill-opacity=\"1\" /><path clip-path=\"url(#clip450)\" d=\"M1499.16 1548.76 L1499.16 1551.62 L1472.23 1551.62 Q1472.61 1557.67 1475.86 1560.85 Q1479.14 1564 1484.96 1564 Q1488.33 1564 1491.49 1563.17 Q1494.67 1562.35 1497.79 1560.69 L1497.79 1566.23 Q1494.64 1567.57 1491.33 1568.27 Q1488.02 1568.97 1484.61 1568.97 Q1476.08 1568.97 1471.08 1564 Q1466.12 1559.04 1466.12 1550.57 Q1466.12 1541.82 1470.83 1536.69 Q1475.57 1531.54 1483.59 1531.54 Q1490.78 1531.54 1494.95 1536.18 Q1499.16 1540.8 1499.16 1548.76 M1493.3 1547.04 Q1493.24 1542.23 1490.59 1539.37 Q1487.98 1536.5 1483.66 1536.5 Q1478.75 1536.5 1475.79 1539.27 Q1472.87 1542.04 1472.42 1547.07 L1493.3 1547.04 Z\" fill=\"#000000\" fill-rule=\"evenodd\" fill-opacity=\"1\" /><path clip-path=\"url(#clip450)\" d=\"M1537.25 1532.4 L1524.36 1549.74 L1537.92 1568.04 L1531.02 1568.04 L1520.64 1554.04 L1510.26 1568.04 L1503.36 1568.04 L1517.2 1549.39 L1504.53 1532.4 L1511.44 1532.4 L1520.89 1545.1 L1530.35 1532.4 L1537.25 1532.4 Z\" fill=\"#000000\" fill-rule=\"evenodd\" fill-opacity=\"1\" /><path clip-path=\"url(#clip450)\" d=\"M1546.2 1532.4 L1552.05 1532.4 L1552.05 1568.04 L1546.2 1568.04 L1546.2 1532.4 M1546.2 1518.52 L1552.05 1518.52 L1552.05 1525.93 L1546.2 1525.93 L1546.2 1518.52 Z\" fill=\"#000000\" fill-rule=\"evenodd\" fill-opacity=\"1\" /><path clip-path=\"url(#clip450)\" d=\"M1570.1 1522.27 L1570.1 1532.4 L1582.16 1532.4 L1582.16 1536.95 L1570.1 1536.95 L1570.1 1556.3 Q1570.1 1560.66 1571.28 1561.9 Q1572.49 1563.14 1576.15 1563.14 L1582.16 1563.14 L1582.16 1568.04 L1576.15 1568.04 Q1569.37 1568.04 1566.79 1565.53 Q1564.21 1562.98 1564.21 1556.3 L1564.21 1536.95 L1559.92 1536.95 L1559.92 1532.4 L1564.21 1532.4 L1564.21 1522.27 L1570.1 1522.27 Z\" fill=\"#000000\" fill-rule=\"evenodd\" fill-opacity=\"1\" /><path clip-path=\"url(#clip450)\" d=\"M1604.7 1571.35 Q1602.22 1577.72 1599.86 1579.66 Q1597.51 1581.6 1593.56 1581.6 L1588.88 1581.6 L1588.88 1576.7 L1592.32 1576.7 Q1594.74 1576.7 1596.07 1575.56 Q1597.41 1574.41 1599.03 1570.14 L1600.08 1567.47 L1585.67 1532.4 L1591.87 1532.4 L1603.01 1560.28 L1614.15 1532.4 L1620.36 1532.4 L1604.7 1571.35 Z\" fill=\"#000000\" fill-rule=\"evenodd\" fill-opacity=\"1\" /><polyline clip-path=\"url(#clip452)\" style=\"stroke:#000000; stroke-linecap:butt; stroke-linejoin:round; stroke-width:2; stroke-opacity:0.1; fill:none\" points=\"\n",
       "  232.389,1384.24 2352.76,1384.24 \n",
       "  \"/>\n",
       "<polyline clip-path=\"url(#clip452)\" style=\"stroke:#000000; stroke-linecap:butt; stroke-linejoin:round; stroke-width:2; stroke-opacity:0.1; fill:none\" points=\"\n",
       "  232.389,1182.99 2352.76,1182.99 \n",
       "  \"/>\n",
       "<polyline clip-path=\"url(#clip452)\" style=\"stroke:#000000; stroke-linecap:butt; stroke-linejoin:round; stroke-width:2; stroke-opacity:0.1; fill:none\" points=\"\n",
       "  232.389,981.741 2352.76,981.741 \n",
       "  \"/>\n",
       "<polyline clip-path=\"url(#clip452)\" style=\"stroke:#000000; stroke-linecap:butt; stroke-linejoin:round; stroke-width:2; stroke-opacity:0.1; fill:none\" points=\"\n",
       "  232.389,780.493 2352.76,780.493 \n",
       "  \"/>\n",
       "<polyline clip-path=\"url(#clip452)\" style=\"stroke:#000000; stroke-linecap:butt; stroke-linejoin:round; stroke-width:2; stroke-opacity:0.1; fill:none\" points=\"\n",
       "  232.389,579.244 2352.76,579.244 \n",
       "  \"/>\n",
       "<polyline clip-path=\"url(#clip452)\" style=\"stroke:#000000; stroke-linecap:butt; stroke-linejoin:round; stroke-width:2; stroke-opacity:0.1; fill:none\" points=\"\n",
       "  232.389,377.996 2352.76,377.996 \n",
       "  \"/>\n",
       "<polyline clip-path=\"url(#clip452)\" style=\"stroke:#000000; stroke-linecap:butt; stroke-linejoin:round; stroke-width:2; stroke-opacity:0.1; fill:none\" points=\"\n",
       "  232.389,176.747 2352.76,176.747 \n",
       "  \"/>\n",
       "<polyline clip-path=\"url(#clip450)\" style=\"stroke:#000000; stroke-linecap:butt; stroke-linejoin:round; stroke-width:4; stroke-opacity:1; fill:none\" points=\"\n",
       "  232.389,1423.18 232.389,47.2441 \n",
       "  \"/>\n",
       "<polyline clip-path=\"url(#clip450)\" style=\"stroke:#000000; stroke-linecap:butt; stroke-linejoin:round; stroke-width:4; stroke-opacity:1; fill:none\" points=\"\n",
       "  232.389,1384.24 251.287,1384.24 \n",
       "  \"/>\n",
       "<polyline clip-path=\"url(#clip450)\" style=\"stroke:#000000; stroke-linecap:butt; stroke-linejoin:round; stroke-width:4; stroke-opacity:1; fill:none\" points=\"\n",
       "  232.389,1182.99 251.287,1182.99 \n",
       "  \"/>\n",
       "<polyline clip-path=\"url(#clip450)\" style=\"stroke:#000000; stroke-linecap:butt; stroke-linejoin:round; stroke-width:4; stroke-opacity:1; fill:none\" points=\"\n",
       "  232.389,981.741 251.287,981.741 \n",
       "  \"/>\n",
       "<polyline clip-path=\"url(#clip450)\" style=\"stroke:#000000; stroke-linecap:butt; stroke-linejoin:round; stroke-width:4; stroke-opacity:1; fill:none\" points=\"\n",
       "  232.389,780.493 251.287,780.493 \n",
       "  \"/>\n",
       "<polyline clip-path=\"url(#clip450)\" style=\"stroke:#000000; stroke-linecap:butt; stroke-linejoin:round; stroke-width:4; stroke-opacity:1; fill:none\" points=\"\n",
       "  232.389,579.244 251.287,579.244 \n",
       "  \"/>\n",
       "<polyline clip-path=\"url(#clip450)\" style=\"stroke:#000000; stroke-linecap:butt; stroke-linejoin:round; stroke-width:4; stroke-opacity:1; fill:none\" points=\"\n",
       "  232.389,377.996 251.287,377.996 \n",
       "  \"/>\n",
       "<polyline clip-path=\"url(#clip450)\" style=\"stroke:#000000; stroke-linecap:butt; stroke-linejoin:round; stroke-width:4; stroke-opacity:1; fill:none\" points=\"\n",
       "  232.389,176.747 251.287,176.747 \n",
       "  \"/>\n",
       "<path clip-path=\"url(#clip450)\" d=\"M184.445 1370.04 Q180.834 1370.04 179.005 1373.6 Q177.2 1377.14 177.2 1384.27 Q177.2 1391.38 179.005 1394.94 Q180.834 1398.49 184.445 1398.49 Q188.079 1398.49 189.885 1394.94 Q191.713 1391.38 191.713 1384.27 Q191.713 1377.14 189.885 1373.6 Q188.079 1370.04 184.445 1370.04 M184.445 1366.33 Q190.255 1366.33 193.311 1370.94 Q196.389 1375.52 196.389 1384.27 Q196.389 1393 193.311 1397.61 Q190.255 1402.19 184.445 1402.19 Q178.635 1402.19 175.556 1397.61 Q172.501 1393 172.501 1384.27 Q172.501 1375.52 175.556 1370.94 Q178.635 1366.33 184.445 1366.33 Z\" fill=\"#000000\" fill-rule=\"evenodd\" fill-opacity=\"1\" /><path clip-path=\"url(#clip450)\" d=\"M148.311 1196.33 L164.63 1196.33 L164.63 1200.27 L142.686 1200.27 L142.686 1196.33 Q145.348 1193.58 149.931 1188.95 Q154.538 1184.3 155.718 1182.96 Q157.964 1180.43 158.843 1178.7 Q159.746 1176.94 159.746 1175.25 Q159.746 1172.49 157.802 1170.76 Q155.88 1169.02 152.778 1169.02 Q150.579 1169.02 148.126 1169.78 Q145.695 1170.55 142.917 1172.1 L142.917 1167.38 Q145.741 1166.24 148.195 1165.66 Q150.649 1165.08 152.686 1165.08 Q158.056 1165.08 161.251 1167.77 Q164.445 1170.46 164.445 1174.95 Q164.445 1177.08 163.635 1179 Q162.848 1180.89 160.741 1183.49 Q160.163 1184.16 157.061 1187.38 Q153.959 1190.57 148.311 1196.33 Z\" fill=\"#000000\" fill-rule=\"evenodd\" fill-opacity=\"1\" /><path clip-path=\"url(#clip450)\" d=\"M184.445 1168.79 Q180.834 1168.79 179.005 1172.35 Q177.2 1175.89 177.2 1183.02 Q177.2 1190.13 179.005 1193.7 Q180.834 1197.24 184.445 1197.24 Q188.079 1197.24 189.885 1193.7 Q191.713 1190.13 191.713 1183.02 Q191.713 1175.89 189.885 1172.35 Q188.079 1168.79 184.445 1168.79 M184.445 1165.08 Q190.255 1165.08 193.311 1169.69 Q196.389 1174.27 196.389 1183.02 Q196.389 1191.75 193.311 1196.36 Q190.255 1200.94 184.445 1200.94 Q178.635 1200.94 175.556 1196.36 Q172.501 1191.75 172.501 1183.02 Q172.501 1174.27 175.556 1169.69 Q178.635 1165.08 184.445 1165.08 Z\" fill=\"#000000\" fill-rule=\"evenodd\" fill-opacity=\"1\" /><path clip-path=\"url(#clip450)\" d=\"M157.13 968.535 L145.325 986.984 L157.13 986.984 L157.13 968.535 M155.903 964.461 L161.783 964.461 L161.783 986.984 L166.714 986.984 L166.714 990.873 L161.783 990.873 L161.783 999.021 L157.13 999.021 L157.13 990.873 L141.529 990.873 L141.529 986.359 L155.903 964.461 Z\" fill=\"#000000\" fill-rule=\"evenodd\" fill-opacity=\"1\" /><path clip-path=\"url(#clip450)\" d=\"M184.445 967.54 Q180.834 967.54 179.005 971.105 Q177.2 974.646 177.2 981.776 Q177.2 988.883 179.005 992.447 Q180.834 995.989 184.445 995.989 Q188.079 995.989 189.885 992.447 Q191.713 988.883 191.713 981.776 Q191.713 974.646 189.885 971.105 Q188.079 967.54 184.445 967.54 M184.445 963.836 Q190.255 963.836 193.311 968.443 Q196.389 973.026 196.389 981.776 Q196.389 990.503 193.311 995.109 Q190.255 999.693 184.445 999.693 Q178.635 999.693 175.556 995.109 Q172.501 990.503 172.501 981.776 Q172.501 973.026 175.556 968.443 Q178.635 963.836 184.445 963.836 Z\" fill=\"#000000\" fill-rule=\"evenodd\" fill-opacity=\"1\" /><path clip-path=\"url(#clip450)\" d=\"M154.862 778.629 Q151.714 778.629 149.862 780.782 Q148.033 782.935 148.033 786.685 Q148.033 790.412 149.862 792.588 Q151.714 794.74 154.862 794.74 Q158.01 794.74 159.839 792.588 Q161.69 790.412 161.69 786.685 Q161.69 782.935 159.839 780.782 Q158.01 778.629 154.862 778.629 M164.144 763.977 L164.144 768.236 Q162.385 767.403 160.579 766.963 Q158.797 766.523 157.038 766.523 Q152.408 766.523 149.954 769.648 Q147.524 772.773 147.177 779.092 Q148.542 777.079 150.603 776.014 Q152.663 774.926 155.14 774.926 Q160.348 774.926 163.357 778.097 Q166.39 781.245 166.39 786.685 Q166.39 792.009 163.241 795.227 Q160.093 798.444 154.862 798.444 Q148.866 798.444 145.695 793.861 Q142.524 789.254 142.524 780.528 Q142.524 772.333 146.413 767.472 Q150.302 762.588 156.853 762.588 Q158.612 762.588 160.394 762.935 Q162.2 763.282 164.144 763.977 Z\" fill=\"#000000\" fill-rule=\"evenodd\" fill-opacity=\"1\" /><path clip-path=\"url(#clip450)\" d=\"M184.445 766.292 Q180.834 766.292 179.005 769.856 Q177.2 773.398 177.2 780.528 Q177.2 787.634 179.005 791.199 Q180.834 794.74 184.445 794.74 Q188.079 794.74 189.885 791.199 Q191.713 787.634 191.713 780.528 Q191.713 773.398 189.885 769.856 Q188.079 766.292 184.445 766.292 M184.445 762.588 Q190.255 762.588 193.311 767.194 Q196.389 771.778 196.389 780.528 Q196.389 789.254 193.311 793.861 Q190.255 798.444 184.445 798.444 Q178.635 798.444 175.556 793.861 Q172.501 789.254 172.501 780.528 Q172.501 771.778 175.556 767.194 Q178.635 762.588 184.445 762.588 Z\" fill=\"#000000\" fill-rule=\"evenodd\" fill-opacity=\"1\" /><path clip-path=\"url(#clip450)\" d=\"M154.283 580.112 Q150.95 580.112 149.028 581.895 Q147.13 583.677 147.13 586.802 Q147.13 589.927 149.028 591.71 Q150.95 593.492 154.283 593.492 Q157.616 593.492 159.538 591.71 Q161.459 589.904 161.459 586.802 Q161.459 583.677 159.538 581.895 Q157.64 580.112 154.283 580.112 M149.607 578.122 Q146.598 577.381 144.908 575.321 Q143.241 573.261 143.241 570.298 Q143.241 566.154 146.181 563.747 Q149.144 561.339 154.283 561.339 Q159.445 561.339 162.385 563.747 Q165.325 566.154 165.325 570.298 Q165.325 573.261 163.635 575.321 Q161.968 577.381 158.982 578.122 Q162.362 578.909 164.237 581.2 Q166.135 583.492 166.135 586.802 Q166.135 591.825 163.056 594.511 Q160.001 597.196 154.283 597.196 Q148.566 597.196 145.487 594.511 Q142.431 591.825 142.431 586.802 Q142.431 583.492 144.329 581.2 Q146.228 578.909 149.607 578.122 M147.894 570.738 Q147.894 573.423 149.561 574.927 Q151.251 576.432 154.283 576.432 Q157.292 576.432 158.982 574.927 Q160.695 573.423 160.695 570.738 Q160.695 568.052 158.982 566.548 Q157.292 565.043 154.283 565.043 Q151.251 565.043 149.561 566.548 Q147.894 568.052 147.894 570.738 Z\" fill=\"#000000\" fill-rule=\"evenodd\" fill-opacity=\"1\" /><path clip-path=\"url(#clip450)\" d=\"M184.445 565.043 Q180.834 565.043 179.005 568.608 Q177.2 572.15 177.2 579.279 Q177.2 586.386 179.005 589.95 Q180.834 593.492 184.445 593.492 Q188.079 593.492 189.885 589.95 Q191.713 586.386 191.713 579.279 Q191.713 572.15 189.885 568.608 Q188.079 565.043 184.445 565.043 M184.445 561.339 Q190.255 561.339 193.311 565.946 Q196.389 570.529 196.389 579.279 Q196.389 588.006 193.311 592.612 Q190.255 597.196 184.445 597.196 Q178.635 597.196 175.556 592.612 Q172.501 588.006 172.501 579.279 Q172.501 570.529 175.556 565.946 Q178.635 561.339 184.445 561.339 Z\" fill=\"#000000\" fill-rule=\"evenodd\" fill-opacity=\"1\" /><path clip-path=\"url(#clip450)\" d=\"M114.931 391.341 L122.57 391.341 L122.57 364.975 L114.26 366.642 L114.26 362.383 L122.524 360.716 L127.2 360.716 L127.2 391.341 L134.839 391.341 L134.839 395.276 L114.931 395.276 L114.931 391.341 Z\" fill=\"#000000\" fill-rule=\"evenodd\" fill-opacity=\"1\" /><path clip-path=\"url(#clip450)\" d=\"M154.283 363.795 Q150.672 363.795 148.843 367.359 Q147.038 370.901 147.038 378.031 Q147.038 385.137 148.843 388.702 Q150.672 392.244 154.283 392.244 Q157.917 392.244 159.723 388.702 Q161.552 385.137 161.552 378.031 Q161.552 370.901 159.723 367.359 Q157.917 363.795 154.283 363.795 M154.283 360.091 Q160.093 360.091 163.149 364.697 Q166.227 369.281 166.227 378.031 Q166.227 386.757 163.149 391.364 Q160.093 395.947 154.283 395.947 Q148.473 395.947 145.394 391.364 Q142.339 386.757 142.339 378.031 Q142.339 369.281 145.394 364.697 Q148.473 360.091 154.283 360.091 Z\" fill=\"#000000\" fill-rule=\"evenodd\" fill-opacity=\"1\" /><path clip-path=\"url(#clip450)\" d=\"M184.445 363.795 Q180.834 363.795 179.005 367.359 Q177.2 370.901 177.2 378.031 Q177.2 385.137 179.005 388.702 Q180.834 392.244 184.445 392.244 Q188.079 392.244 189.885 388.702 Q191.713 385.137 191.713 378.031 Q191.713 370.901 189.885 367.359 Q188.079 363.795 184.445 363.795 M184.445 360.091 Q190.255 360.091 193.311 364.697 Q196.389 369.281 196.389 378.031 Q196.389 386.757 193.311 391.364 Q190.255 395.947 184.445 395.947 Q178.635 395.947 175.556 391.364 Q172.501 386.757 172.501 378.031 Q172.501 369.281 175.556 364.697 Q178.635 360.091 184.445 360.091 Z\" fill=\"#000000\" fill-rule=\"evenodd\" fill-opacity=\"1\" /><path clip-path=\"url(#clip450)\" d=\"M114.931 190.092 L122.57 190.092 L122.57 163.727 L114.26 165.393 L114.26 161.134 L122.524 159.467 L127.2 159.467 L127.2 190.092 L134.839 190.092 L134.839 194.027 L114.931 194.027 L114.931 190.092 Z\" fill=\"#000000\" fill-rule=\"evenodd\" fill-opacity=\"1\" /><path clip-path=\"url(#clip450)\" d=\"M148.311 190.092 L164.63 190.092 L164.63 194.027 L142.686 194.027 L142.686 190.092 Q145.348 187.338 149.931 182.708 Q154.538 178.055 155.718 176.713 Q157.964 174.19 158.843 172.454 Q159.746 170.694 159.746 169.004 Q159.746 166.25 157.802 164.514 Q155.88 162.778 152.778 162.778 Q150.579 162.778 148.126 163.542 Q145.695 164.305 142.917 165.856 L142.917 161.134 Q145.741 160 148.195 159.421 Q150.649 158.842 152.686 158.842 Q158.056 158.842 161.251 161.528 Q164.445 164.213 164.445 168.704 Q164.445 170.833 163.635 172.754 Q162.848 174.653 160.741 177.245 Q160.163 177.916 157.061 181.134 Q153.959 184.328 148.311 190.092 Z\" fill=\"#000000\" fill-rule=\"evenodd\" fill-opacity=\"1\" /><path clip-path=\"url(#clip450)\" d=\"M184.445 162.546 Q180.834 162.546 179.005 166.111 Q177.2 169.653 177.2 176.782 Q177.2 183.889 179.005 187.453 Q180.834 190.995 184.445 190.995 Q188.079 190.995 189.885 187.453 Q191.713 183.889 191.713 176.782 Q191.713 169.653 189.885 166.111 Q188.079 162.546 184.445 162.546 M184.445 158.842 Q190.255 158.842 193.311 163.449 Q196.389 168.032 196.389 176.782 Q196.389 185.509 193.311 190.115 Q190.255 194.699 184.445 194.699 Q178.635 194.699 175.556 190.115 Q172.501 185.509 172.501 176.782 Q172.501 168.032 175.556 163.449 Q178.635 158.842 184.445 158.842 Z\" fill=\"#000000\" fill-rule=\"evenodd\" fill-opacity=\"1\" /><path clip-path=\"url(#clip450)\" d=\"M35.3266 938.358 L35.3266 947.62 L45.9574 950.293 L45.9574 940.968 L35.3266 938.358 M17.2162 943.132 L30.4251 946.442 L30.4251 937.148 L17.2162 933.806 L17.2162 928.714 L30.4251 931.992 L30.4251 922.061 L35.3266 922.061 L35.3266 933.233 L45.9574 935.843 L45.9574 925.722 L50.8271 925.722 L50.8271 937.084 L64.0042 940.395 L64.0042 945.487 L50.8271 942.209 L50.8271 951.535 L64.0042 954.813 L64.0042 959.937 L50.8271 956.627 L50.8271 966.653 L45.9574 966.653 L45.9574 955.45 L35.3266 952.776 L35.3266 963.025 L30.4251 963.025 L30.4251 951.535 L17.2162 948.288 L17.2162 943.132 Z\" fill=\"#000000\" fill-rule=\"evenodd\" fill-opacity=\"1\" /><path clip-path=\"url(#clip450)\" d=\"M32.4621 876.387 Q32.4621 881.098 36.1542 883.835 Q39.8145 886.573 46.212 886.573 Q52.6095 886.573 56.3017 883.867 Q59.9619 881.13 59.9619 876.387 Q59.9619 871.709 56.2698 868.971 Q52.5777 866.234 46.212 866.234 Q39.8781 866.234 36.186 868.971 Q32.4621 871.709 32.4621 876.387 M27.4968 876.387 Q27.4968 868.749 32.4621 864.388 Q37.4273 860.028 46.212 860.028 Q54.9649 860.028 59.9619 864.388 Q64.9272 868.749 64.9272 876.387 Q64.9272 884.058 59.9619 888.419 Q54.9649 892.747 46.212 892.747 Q37.4273 892.747 32.4621 888.419 Q27.4968 884.058 27.4968 876.387 Z\" fill=\"#000000\" fill-rule=\"evenodd\" fill-opacity=\"1\" /><path clip-path=\"url(#clip450)\" d=\"M14.479 832.273 L19.3487 832.273 L19.3487 837.875 Q19.3487 841.026 20.6219 842.267 Q21.895 843.477 25.2052 843.477 L28.3562 843.477 L28.3562 833.833 L32.9077 833.833 L32.9077 843.477 L64.0042 843.477 L64.0042 849.365 L32.9077 849.365 L32.9077 854.967 L28.3562 854.967 L28.3562 849.365 L25.8736 849.365 Q19.9216 849.365 17.2162 846.596 Q14.479 843.827 14.479 837.811 L14.479 832.273 Z\" fill=\"#000000\" fill-rule=\"evenodd\" fill-opacity=\"1\" /><path clip-path=\"url(#clip450)\" d=\"M58.657 800.986 L77.5631 800.986 L77.5631 806.874 L28.3562 806.874 L28.3562 800.986 L33.7671 800.986 Q30.5842 799.14 29.0564 796.339 Q27.4968 793.506 27.4968 789.591 Q27.4968 783.098 32.6531 779.056 Q37.8093 774.982 46.212 774.982 Q54.6147 774.982 59.771 779.056 Q64.9272 783.098 64.9272 789.591 Q64.9272 793.506 63.3994 796.339 Q61.8398 799.14 58.657 800.986 M46.212 781.061 Q39.7508 781.061 36.0905 783.735 Q32.3984 786.376 32.3984 791.023 Q32.3984 795.67 36.0905 798.344 Q39.7508 800.986 46.212 800.986 Q52.6732 800.986 56.3653 798.344 Q60.0256 795.67 60.0256 791.023 Q60.0256 786.376 56.3653 783.735 Q52.6732 781.061 46.212 781.061 Z\" fill=\"#000000\" fill-rule=\"evenodd\" fill-opacity=\"1\" /><path clip-path=\"url(#clip450)\" d=\"M33.8307 744.617 Q33.2578 745.604 33.0032 746.782 Q32.7167 747.927 32.7167 749.328 Q32.7167 754.293 35.9632 756.967 Q39.1779 759.609 45.2253 759.609 L64.0042 759.609 L64.0042 765.497 L28.3562 765.497 L28.3562 759.609 L33.8944 759.609 Q30.6479 757.762 29.0883 754.802 Q27.4968 751.842 27.4968 747.609 Q27.4968 747.004 27.5923 746.272 Q27.656 745.54 27.8151 744.649 L33.8307 744.617 Z\" fill=\"#000000\" fill-rule=\"evenodd\" fill-opacity=\"1\" /><path clip-path=\"url(#clip450)\" d=\"M32.4621 726.093 Q32.4621 730.804 36.1542 733.541 Q39.8145 736.278 46.212 736.278 Q52.6095 736.278 56.3017 733.573 Q59.9619 730.836 59.9619 726.093 Q59.9619 721.414 56.2698 718.677 Q52.5777 715.94 46.212 715.94 Q39.8781 715.94 36.186 718.677 Q32.4621 721.414 32.4621 726.093 M27.4968 726.093 Q27.4968 718.454 32.4621 714.094 Q37.4273 709.733 46.212 709.733 Q54.9649 709.733 59.9619 714.094 Q64.9272 718.454 64.9272 726.093 Q64.9272 733.764 59.9619 738.124 Q54.9649 742.453 46.212 742.453 Q37.4273 742.453 32.4621 738.124 Q27.4968 733.764 27.4968 726.093 Z\" fill=\"#000000\" fill-rule=\"evenodd\" fill-opacity=\"1\" /><path clip-path=\"url(#clip450)\" d=\"M45.7664 676.568 Q39.4007 676.568 35.8996 679.21 Q32.3984 681.82 32.3984 686.562 Q32.3984 691.273 35.8996 693.914 Q39.4007 696.524 45.7664 696.524 Q52.1003 696.524 55.6014 693.914 Q59.1026 691.273 59.1026 686.562 Q59.1026 681.82 55.6014 679.21 Q52.1003 676.568 45.7664 676.568 M59.58 670.711 Q68.683 670.711 73.1071 674.754 Q77.5631 678.796 77.5631 687.135 Q77.5631 690.222 77.0857 692.96 Q76.6401 695.697 75.6852 698.275 L69.9879 698.275 Q71.3884 695.697 72.0568 693.182 Q72.7252 690.668 72.7252 688.058 Q72.7252 682.297 69.7015 679.432 Q66.7096 676.568 60.6303 676.568 L57.7339 676.568 Q60.885 678.382 62.4446 681.215 Q64.0042 684.048 64.0042 687.994 Q64.0042 694.551 59.0071 698.561 Q54.01 702.572 45.7664 702.572 Q37.491 702.572 32.4939 698.561 Q27.4968 694.551 27.4968 687.994 Q27.4968 684.048 29.0564 681.215 Q30.616 678.382 33.7671 676.568 L28.3562 676.568 L28.3562 670.711 L59.58 670.711 Z\" fill=\"#000000\" fill-rule=\"evenodd\" fill-opacity=\"1\" /><path clip-path=\"url(#clip450)\" d=\"M33.8307 637.992 Q33.2578 638.978 33.0032 640.156 Q32.7167 641.302 32.7167 642.702 Q32.7167 647.668 35.9632 650.341 Q39.1779 652.983 45.2253 652.983 L64.0042 652.983 L64.0042 658.871 L28.3562 658.871 L28.3562 652.983 L33.8944 652.983 Q30.6479 651.137 29.0883 648.177 Q27.4968 645.217 27.4968 640.984 Q27.4968 640.379 27.5923 639.647 Q27.656 638.915 27.8151 638.024 L33.8307 637.992 Z\" fill=\"#000000\" fill-rule=\"evenodd\" fill-opacity=\"1\" /><path clip-path=\"url(#clip450)\" d=\"M46.0847 615.648 Q46.0847 622.746 47.7079 625.483 Q49.3312 628.22 53.2461 628.22 Q56.3653 628.22 58.2114 626.183 Q60.0256 624.114 60.0256 620.582 Q60.0256 615.712 56.5881 612.784 Q53.1188 609.823 47.3897 609.823 L46.0847 609.823 L46.0847 615.648 M43.6657 603.967 L64.0042 603.967 L64.0042 609.823 L58.5933 609.823 Q61.8398 611.829 63.3994 614.821 Q64.9272 617.812 64.9272 622.141 Q64.9272 627.616 61.8716 630.862 Q58.7843 634.077 53.6281 634.077 Q47.6125 634.077 44.5569 630.066 Q41.5014 626.024 41.5014 618.035 L41.5014 609.823 L40.9285 609.823 Q36.8862 609.823 34.6901 612.497 Q32.4621 615.139 32.4621 619.945 Q32.4621 623 33.1941 625.897 Q33.9262 628.793 35.3903 631.467 L29.9795 631.467 Q28.7381 628.252 28.1334 625.228 Q27.4968 622.205 27.4968 619.34 Q27.4968 611.606 31.5072 607.786 Q35.5176 603.967 43.6657 603.967 Z\" fill=\"#000000\" fill-rule=\"evenodd\" fill-opacity=\"1\" /><path clip-path=\"url(#clip450)\" d=\"M35.1993 564.15 Q31.2526 561.953 29.3747 558.898 Q27.4968 555.842 27.4968 551.705 Q27.4968 546.135 31.4117 543.111 Q35.2948 540.087 42.4881 540.087 L64.0042 540.087 L64.0042 545.975 L42.679 545.975 Q37.5546 545.975 35.072 547.79 Q32.5894 549.604 32.5894 553.328 Q32.5894 557.879 35.6131 560.521 Q38.6368 563.163 43.8567 563.163 L64.0042 563.163 L64.0042 569.051 L42.679 569.051 Q37.5228 569.051 35.072 570.865 Q32.5894 572.68 32.5894 576.467 Q32.5894 580.955 35.6449 583.597 Q38.6686 586.239 43.8567 586.239 L64.0042 586.239 L64.0042 592.127 L28.3562 592.127 L28.3562 586.239 L33.8944 586.239 Q30.616 584.233 29.0564 581.432 Q27.4968 578.631 27.4968 574.78 Q27.4968 570.897 29.4702 568.192 Q31.4436 565.454 35.1993 564.15 Z\" fill=\"#000000\" fill-rule=\"evenodd\" fill-opacity=\"1\" /><path clip-path=\"url(#clip450)\" d=\"M29.4065 505.681 L34.9447 505.681 Q33.6716 508.163 33.035 510.837 Q32.3984 513.51 32.3984 516.375 Q32.3984 520.735 33.7352 522.932 Q35.072 525.096 37.7456 525.096 Q39.7826 525.096 40.9603 523.536 Q42.1061 521.977 43.1565 517.266 L43.6021 515.261 Q44.9389 509.022 47.3897 506.413 Q49.8086 503.771 54.1691 503.771 Q59.1344 503.771 62.0308 507.718 Q64.9272 511.632 64.9272 518.507 Q64.9272 521.372 64.3543 524.491 Q63.8132 527.579 62.6992 531.016 L56.6518 531.016 Q58.3387 527.77 59.198 524.618 Q60.0256 521.467 60.0256 518.38 Q60.0256 514.242 58.6251 512.014 Q57.1929 509.786 54.6147 509.786 Q52.2276 509.786 50.9545 511.41 Q49.6813 513.001 48.5037 518.444 L48.0262 520.481 Q46.8804 525.923 44.5251 528.342 Q42.138 530.761 38.0002 530.761 Q32.9713 530.761 30.2341 527.197 Q27.4968 523.632 27.4968 517.075 Q27.4968 513.829 27.9743 510.964 Q28.4517 508.099 29.4065 505.681 Z\" fill=\"#000000\" fill-rule=\"evenodd\" fill-opacity=\"1\" /><path clip-path=\"url(#clip452)\" d=\"\n",
       "M349.013 1364.11 L349.013 1384.24 L411.917 1384.24 L411.917 1364.11 L349.013 1364.11 L349.013 1364.11  Z\n",
       "  \" fill=\"#009af9\" fill-rule=\"evenodd\" fill-opacity=\"1\"/>\n",
       "<polyline clip-path=\"url(#clip452)\" style=\"stroke:#000000; stroke-linecap:butt; stroke-linejoin:round; stroke-width:4; stroke-opacity:1; fill:none\" points=\"\n",
       "  349.013,1364.11 349.013,1384.24 411.917,1384.24 411.917,1364.11 349.013,1364.11 \n",
       "  \"/>\n",
       "<path clip-path=\"url(#clip452)\" d=\"\n",
       "M411.917 86.1857 L411.917 1384.24 L474.821 1384.24 L474.821 86.1857 L411.917 86.1857 L411.917 86.1857  Z\n",
       "  \" fill=\"#009af9\" fill-rule=\"evenodd\" fill-opacity=\"1\"/>\n",
       "<polyline clip-path=\"url(#clip452)\" style=\"stroke:#000000; stroke-linecap:butt; stroke-linejoin:round; stroke-width:4; stroke-opacity:1; fill:none\" points=\"\n",
       "  411.917,86.1857 411.917,1384.24 474.821,1384.24 474.821,86.1857 411.917,86.1857 \n",
       "  \"/>\n",
       "<path clip-path=\"url(#clip452)\" d=\"\n",
       "M474.821 840.867 L474.821 1384.24 L537.725 1384.24 L537.725 840.867 L474.821 840.867 L474.821 840.867  Z\n",
       "  \" fill=\"#009af9\" fill-rule=\"evenodd\" fill-opacity=\"1\"/>\n",
       "<polyline clip-path=\"url(#clip452)\" style=\"stroke:#000000; stroke-linecap:butt; stroke-linejoin:round; stroke-width:4; stroke-opacity:1; fill:none\" points=\"\n",
       "  474.821,840.867 474.821,1384.24 537.725,1384.24 537.725,840.867 474.821,840.867 \n",
       "  \"/>\n",
       "<path clip-path=\"url(#clip452)\" d=\"\n",
       "M537.725 1032.05 L537.725 1384.24 L600.629 1384.24 L600.629 1032.05 L537.725 1032.05 L537.725 1032.05  Z\n",
       "  \" fill=\"#009af9\" fill-rule=\"evenodd\" fill-opacity=\"1\"/>\n",
       "<polyline clip-path=\"url(#clip452)\" style=\"stroke:#000000; stroke-linecap:butt; stroke-linejoin:round; stroke-width:4; stroke-opacity:1; fill:none\" points=\"\n",
       "  537.725,1032.05 537.725,1384.24 600.629,1384.24 600.629,1032.05 537.725,1032.05 \n",
       "  \"/>\n",
       "<path clip-path=\"url(#clip452)\" d=\"\n",
       "M600.629 1193.05 L600.629 1384.24 L663.533 1384.24 L663.533 1193.05 L600.629 1193.05 L600.629 1193.05  Z\n",
       "  \" fill=\"#009af9\" fill-rule=\"evenodd\" fill-opacity=\"1\"/>\n",
       "<polyline clip-path=\"url(#clip452)\" style=\"stroke:#000000; stroke-linecap:butt; stroke-linejoin:round; stroke-width:4; stroke-opacity:1; fill:none\" points=\"\n",
       "  600.629,1193.05 600.629,1384.24 663.533,1384.24 663.533,1193.05 600.629,1193.05 \n",
       "  \"/>\n",
       "<path clip-path=\"url(#clip452)\" d=\"\n",
       "M663.533 1273.55 L663.533 1384.24 L726.437 1384.24 L726.437 1273.55 L663.533 1273.55 L663.533 1273.55  Z\n",
       "  \" fill=\"#009af9\" fill-rule=\"evenodd\" fill-opacity=\"1\"/>\n",
       "<polyline clip-path=\"url(#clip452)\" style=\"stroke:#000000; stroke-linecap:butt; stroke-linejoin:round; stroke-width:4; stroke-opacity:1; fill:none\" points=\"\n",
       "  663.533,1273.55 663.533,1384.24 726.437,1384.24 726.437,1273.55 663.533,1273.55 \n",
       "  \"/>\n",
       "<path clip-path=\"url(#clip452)\" d=\"\n",
       "M726.437 1233.3 L726.437 1384.24 L789.341 1384.24 L789.341 1233.3 L726.437 1233.3 L726.437 1233.3  Z\n",
       "  \" fill=\"#009af9\" fill-rule=\"evenodd\" fill-opacity=\"1\"/>\n",
       "<polyline clip-path=\"url(#clip452)\" style=\"stroke:#000000; stroke-linecap:butt; stroke-linejoin:round; stroke-width:4; stroke-opacity:1; fill:none\" points=\"\n",
       "  726.437,1233.3 726.437,1384.24 789.341,1384.24 789.341,1233.3 726.437,1233.3 \n",
       "  \"/>\n",
       "<path clip-path=\"url(#clip452)\" d=\"\n",
       "M789.341 1172.93 L789.341 1384.24 L852.245 1384.24 L852.245 1172.93 L789.341 1172.93 L789.341 1172.93  Z\n",
       "  \" fill=\"#009af9\" fill-rule=\"evenodd\" fill-opacity=\"1\"/>\n",
       "<polyline clip-path=\"url(#clip452)\" style=\"stroke:#000000; stroke-linecap:butt; stroke-linejoin:round; stroke-width:4; stroke-opacity:1; fill:none\" points=\"\n",
       "  789.341,1172.93 789.341,1384.24 852.245,1384.24 852.245,1172.93 789.341,1172.93 \n",
       "  \"/>\n",
       "<path clip-path=\"url(#clip452)\" d=\"\n",
       "M852.245 1354.05 L852.245 1384.24 L915.149 1384.24 L915.149 1354.05 L852.245 1354.05 L852.245 1354.05  Z\n",
       "  \" fill=\"#009af9\" fill-rule=\"evenodd\" fill-opacity=\"1\"/>\n",
       "<polyline clip-path=\"url(#clip452)\" style=\"stroke:#000000; stroke-linecap:butt; stroke-linejoin:round; stroke-width:4; stroke-opacity:1; fill:none\" points=\"\n",
       "  852.245,1354.05 852.245,1384.24 915.149,1384.24 915.149,1354.05 852.245,1354.05 \n",
       "  \"/>\n",
       "<path clip-path=\"url(#clip452)\" d=\"\n",
       "M915.149 1354.05 L915.149 1384.24 L978.053 1384.24 L978.053 1354.05 L915.149 1354.05 L915.149 1354.05  Z\n",
       "  \" fill=\"#009af9\" fill-rule=\"evenodd\" fill-opacity=\"1\"/>\n",
       "<polyline clip-path=\"url(#clip452)\" style=\"stroke:#000000; stroke-linecap:butt; stroke-linejoin:round; stroke-width:4; stroke-opacity:1; fill:none\" points=\"\n",
       "  915.149,1354.05 915.149,1384.24 978.053,1384.24 978.053,1354.05 915.149,1354.05 \n",
       "  \"/>\n",
       "<path clip-path=\"url(#clip452)\" d=\"\n",
       "M978.053 1364.11 L978.053 1384.24 L1040.96 1384.24 L1040.96 1364.11 L978.053 1364.11 L978.053 1364.11  Z\n",
       "  \" fill=\"#009af9\" fill-rule=\"evenodd\" fill-opacity=\"1\"/>\n",
       "<polyline clip-path=\"url(#clip452)\" style=\"stroke:#000000; stroke-linecap:butt; stroke-linejoin:round; stroke-width:4; stroke-opacity:1; fill:none\" points=\"\n",
       "  978.053,1364.11 978.053,1384.24 1040.96,1384.24 1040.96,1364.11 978.053,1364.11 \n",
       "  \"/>\n",
       "<path clip-path=\"url(#clip452)\" d=\"\n",
       "M1040.96 1374.18 L1040.96 1384.24 L1103.86 1384.24 L1103.86 1374.18 L1040.96 1374.18 L1040.96 1374.18  Z\n",
       "  \" fill=\"#009af9\" fill-rule=\"evenodd\" fill-opacity=\"1\"/>\n",
       "<polyline clip-path=\"url(#clip452)\" style=\"stroke:#000000; stroke-linecap:butt; stroke-linejoin:round; stroke-width:4; stroke-opacity:1; fill:none\" points=\"\n",
       "  1040.96,1374.18 1040.96,1384.24 1103.86,1384.24 1103.86,1374.18 1040.96,1374.18 \n",
       "  \"/>\n",
       "<path clip-path=\"url(#clip452)\" d=\"\n",
       "M1103.86 1364.11 L1103.86 1384.24 L1166.76 1384.24 L1166.76 1364.11 L1103.86 1364.11 L1103.86 1364.11  Z\n",
       "  \" fill=\"#009af9\" fill-rule=\"evenodd\" fill-opacity=\"1\"/>\n",
       "<polyline clip-path=\"url(#clip452)\" style=\"stroke:#000000; stroke-linecap:butt; stroke-linejoin:round; stroke-width:4; stroke-opacity:1; fill:none\" points=\"\n",
       "  1103.86,1364.11 1103.86,1384.24 1166.76,1384.24 1166.76,1364.11 1103.86,1364.11 \n",
       "  \"/>\n",
       "<path clip-path=\"url(#clip452)\" d=\"\n",
       "M1166.76 1384.24 L1166.76 1384.24 L1229.67 1384.24 L1229.67 1384.24 L1166.76 1384.24 L1166.76 1384.24  Z\n",
       "  \" fill=\"#009af9\" fill-rule=\"evenodd\" fill-opacity=\"1\"/>\n",
       "<polyline clip-path=\"url(#clip452)\" style=\"stroke:#000000; stroke-linecap:butt; stroke-linejoin:round; stroke-width:4; stroke-opacity:1; fill:none\" points=\"\n",
       "  1166.76,1384.24 1166.76,1384.24 1229.67,1384.24 1166.76,1384.24 \n",
       "  \"/>\n",
       "<path clip-path=\"url(#clip452)\" d=\"\n",
       "M1229.67 1354.05 L1229.67 1384.24 L1292.57 1384.24 L1292.57 1354.05 L1229.67 1354.05 L1229.67 1354.05  Z\n",
       "  \" fill=\"#009af9\" fill-rule=\"evenodd\" fill-opacity=\"1\"/>\n",
       "<polyline clip-path=\"url(#clip452)\" style=\"stroke:#000000; stroke-linecap:butt; stroke-linejoin:round; stroke-width:4; stroke-opacity:1; fill:none\" points=\"\n",
       "  1229.67,1354.05 1229.67,1384.24 1292.57,1384.24 1292.57,1354.05 1229.67,1354.05 \n",
       "  \"/>\n",
       "<path clip-path=\"url(#clip452)\" d=\"\n",
       "M1292.57 1374.18 L1292.57 1384.24 L1355.48 1384.24 L1355.48 1374.18 L1292.57 1374.18 L1292.57 1374.18  Z\n",
       "  \" fill=\"#009af9\" fill-rule=\"evenodd\" fill-opacity=\"1\"/>\n",
       "<polyline clip-path=\"url(#clip452)\" style=\"stroke:#000000; stroke-linecap:butt; stroke-linejoin:round; stroke-width:4; stroke-opacity:1; fill:none\" points=\"\n",
       "  1292.57,1374.18 1292.57,1384.24 1355.48,1384.24 1355.48,1374.18 1292.57,1374.18 \n",
       "  \"/>\n",
       "<path clip-path=\"url(#clip452)\" d=\"\n",
       "M1355.48 1374.18 L1355.48 1384.24 L1418.38 1384.24 L1418.38 1374.18 L1355.48 1374.18 L1355.48 1374.18  Z\n",
       "  \" fill=\"#009af9\" fill-rule=\"evenodd\" fill-opacity=\"1\"/>\n",
       "<polyline clip-path=\"url(#clip452)\" style=\"stroke:#000000; stroke-linecap:butt; stroke-linejoin:round; stroke-width:4; stroke-opacity:1; fill:none\" points=\"\n",
       "  1355.48,1374.18 1355.48,1384.24 1418.38,1384.24 1418.38,1374.18 1355.48,1374.18 \n",
       "  \"/>\n",
       "<path clip-path=\"url(#clip452)\" d=\"\n",
       "M1418.38 1374.18 L1418.38 1384.24 L1481.28 1384.24 L1481.28 1374.18 L1418.38 1374.18 L1418.38 1374.18  Z\n",
       "  \" fill=\"#009af9\" fill-rule=\"evenodd\" fill-opacity=\"1\"/>\n",
       "<polyline clip-path=\"url(#clip452)\" style=\"stroke:#000000; stroke-linecap:butt; stroke-linejoin:round; stroke-width:4; stroke-opacity:1; fill:none\" points=\"\n",
       "  1418.38,1374.18 1418.38,1384.24 1481.28,1384.24 1481.28,1374.18 1418.38,1374.18 \n",
       "  \"/>\n",
       "<path clip-path=\"url(#clip452)\" d=\"\n",
       "M1481.28 1364.11 L1481.28 1384.24 L1544.19 1384.24 L1544.19 1364.11 L1481.28 1364.11 L1481.28 1364.11  Z\n",
       "  \" fill=\"#009af9\" fill-rule=\"evenodd\" fill-opacity=\"1\"/>\n",
       "<polyline clip-path=\"url(#clip452)\" style=\"stroke:#000000; stroke-linecap:butt; stroke-linejoin:round; stroke-width:4; stroke-opacity:1; fill:none\" points=\"\n",
       "  1481.28,1364.11 1481.28,1384.24 1544.19,1384.24 1544.19,1364.11 1481.28,1364.11 \n",
       "  \"/>\n",
       "<path clip-path=\"url(#clip452)\" d=\"\n",
       "M1544.19 1384.24 L1544.19 1384.24 L1607.09 1384.24 L1607.09 1384.24 L1544.19 1384.24 L1544.19 1384.24  Z\n",
       "  \" fill=\"#009af9\" fill-rule=\"evenodd\" fill-opacity=\"1\"/>\n",
       "<polyline clip-path=\"url(#clip452)\" style=\"stroke:#000000; stroke-linecap:butt; stroke-linejoin:round; stroke-width:4; stroke-opacity:1; fill:none\" points=\"\n",
       "  1544.19,1384.24 1544.19,1384.24 1607.09,1384.24 1544.19,1384.24 \n",
       "  \"/>\n",
       "<path clip-path=\"url(#clip452)\" d=\"\n",
       "M1607.09 1384.24 L1607.09 1384.24 L1670 1384.24 L1670 1384.24 L1607.09 1384.24 L1607.09 1384.24  Z\n",
       "  \" fill=\"#009af9\" fill-rule=\"evenodd\" fill-opacity=\"1\"/>\n",
       "<polyline clip-path=\"url(#clip452)\" style=\"stroke:#000000; stroke-linecap:butt; stroke-linejoin:round; stroke-width:4; stroke-opacity:1; fill:none\" points=\"\n",
       "  1607.09,1384.24 1607.09,1384.24 1670,1384.24 1607.09,1384.24 \n",
       "  \"/>\n",
       "<path clip-path=\"url(#clip452)\" d=\"\n",
       "M1670 1384.24 L1670 1384.24 L1732.9 1384.24 L1732.9 1384.24 L1670 1384.24 L1670 1384.24  Z\n",
       "  \" fill=\"#009af9\" fill-rule=\"evenodd\" fill-opacity=\"1\"/>\n",
       "<polyline clip-path=\"url(#clip452)\" style=\"stroke:#000000; stroke-linecap:butt; stroke-linejoin:round; stroke-width:4; stroke-opacity:1; fill:none\" points=\"\n",
       "  1670,1384.24 1670,1384.24 1732.9,1384.24 1670,1384.24 \n",
       "  \"/>\n",
       "<path clip-path=\"url(#clip452)\" d=\"\n",
       "M1732.9 1374.18 L1732.9 1384.24 L1795.8 1384.24 L1795.8 1374.18 L1732.9 1374.18 L1732.9 1374.18  Z\n",
       "  \" fill=\"#009af9\" fill-rule=\"evenodd\" fill-opacity=\"1\"/>\n",
       "<polyline clip-path=\"url(#clip452)\" style=\"stroke:#000000; stroke-linecap:butt; stroke-linejoin:round; stroke-width:4; stroke-opacity:1; fill:none\" points=\"\n",
       "  1732.9,1374.18 1732.9,1384.24 1795.8,1384.24 1795.8,1374.18 1732.9,1374.18 \n",
       "  \"/>\n",
       "<path clip-path=\"url(#clip452)\" d=\"\n",
       "M1795.8 1384.24 L1795.8 1384.24 L1858.71 1384.24 L1858.71 1384.24 L1795.8 1384.24 L1795.8 1384.24  Z\n",
       "  \" fill=\"#009af9\" fill-rule=\"evenodd\" fill-opacity=\"1\"/>\n",
       "<polyline clip-path=\"url(#clip452)\" style=\"stroke:#000000; stroke-linecap:butt; stroke-linejoin:round; stroke-width:4; stroke-opacity:1; fill:none\" points=\"\n",
       "  1795.8,1384.24 1795.8,1384.24 1858.71,1384.24 1795.8,1384.24 \n",
       "  \"/>\n",
       "<path clip-path=\"url(#clip452)\" d=\"\n",
       "M1858.71 1384.24 L1858.71 1384.24 L1921.61 1384.24 L1921.61 1384.24 L1858.71 1384.24 L1858.71 1384.24  Z\n",
       "  \" fill=\"#009af9\" fill-rule=\"evenodd\" fill-opacity=\"1\"/>\n",
       "<polyline clip-path=\"url(#clip452)\" style=\"stroke:#000000; stroke-linecap:butt; stroke-linejoin:round; stroke-width:4; stroke-opacity:1; fill:none\" points=\"\n",
       "  1858.71,1384.24 1858.71,1384.24 1921.61,1384.24 1858.71,1384.24 \n",
       "  \"/>\n",
       "<path clip-path=\"url(#clip452)\" d=\"\n",
       "M1921.61 1384.24 L1921.61 1384.24 L1984.52 1384.24 L1984.52 1384.24 L1921.61 1384.24 L1921.61 1384.24  Z\n",
       "  \" fill=\"#009af9\" fill-rule=\"evenodd\" fill-opacity=\"1\"/>\n",
       "<polyline clip-path=\"url(#clip452)\" style=\"stroke:#000000; stroke-linecap:butt; stroke-linejoin:round; stroke-width:4; stroke-opacity:1; fill:none\" points=\"\n",
       "  1921.61,1384.24 1921.61,1384.24 1984.52,1384.24 1921.61,1384.24 \n",
       "  \"/>\n",
       "<path clip-path=\"url(#clip452)\" d=\"\n",
       "M1984.52 1384.24 L1984.52 1384.24 L2047.42 1384.24 L2047.42 1384.24 L1984.52 1384.24 L1984.52 1384.24  Z\n",
       "  \" fill=\"#009af9\" fill-rule=\"evenodd\" fill-opacity=\"1\"/>\n",
       "<polyline clip-path=\"url(#clip452)\" style=\"stroke:#000000; stroke-linecap:butt; stroke-linejoin:round; stroke-width:4; stroke-opacity:1; fill:none\" points=\"\n",
       "  1984.52,1384.24 1984.52,1384.24 2047.42,1384.24 1984.52,1384.24 \n",
       "  \"/>\n",
       "<path clip-path=\"url(#clip452)\" d=\"\n",
       "M2047.42 1384.24 L2047.42 1384.24 L2110.32 1384.24 L2110.32 1384.24 L2047.42 1384.24 L2047.42 1384.24  Z\n",
       "  \" fill=\"#009af9\" fill-rule=\"evenodd\" fill-opacity=\"1\"/>\n",
       "<polyline clip-path=\"url(#clip452)\" style=\"stroke:#000000; stroke-linecap:butt; stroke-linejoin:round; stroke-width:4; stroke-opacity:1; fill:none\" points=\"\n",
       "  2047.42,1384.24 2047.42,1384.24 2110.32,1384.24 2047.42,1384.24 \n",
       "  \"/>\n",
       "<path clip-path=\"url(#clip452)\" d=\"\n",
       "M2110.32 1384.24 L2110.32 1384.24 L2173.23 1384.24 L2173.23 1384.24 L2110.32 1384.24 L2110.32 1384.24  Z\n",
       "  \" fill=\"#009af9\" fill-rule=\"evenodd\" fill-opacity=\"1\"/>\n",
       "<polyline clip-path=\"url(#clip452)\" style=\"stroke:#000000; stroke-linecap:butt; stroke-linejoin:round; stroke-width:4; stroke-opacity:1; fill:none\" points=\"\n",
       "  2110.32,1384.24 2110.32,1384.24 2173.23,1384.24 2110.32,1384.24 \n",
       "  \"/>\n",
       "<path clip-path=\"url(#clip452)\" d=\"\n",
       "M2173.23 1374.18 L2173.23 1384.24 L2236.13 1384.24 L2236.13 1374.18 L2173.23 1374.18 L2173.23 1374.18  Z\n",
       "  \" fill=\"#009af9\" fill-rule=\"evenodd\" fill-opacity=\"1\"/>\n",
       "<polyline clip-path=\"url(#clip452)\" style=\"stroke:#000000; stroke-linecap:butt; stroke-linejoin:round; stroke-width:4; stroke-opacity:1; fill:none\" points=\"\n",
       "  2173.23,1374.18 2173.23,1384.24 2236.13,1384.24 2236.13,1374.18 2173.23,1374.18 \n",
       "  \"/>\n",
       "<circle clip-path=\"url(#clip452)\" style=\"fill:#009af9; stroke:none; fill-opacity:0\" cx=\"380.465\" cy=\"1364.11\" r=\"2\"/>\n",
       "<circle clip-path=\"url(#clip452)\" style=\"fill:#009af9; stroke:none; fill-opacity:0\" cx=\"443.369\" cy=\"86.1857\" r=\"2\"/>\n",
       "<circle clip-path=\"url(#clip452)\" style=\"fill:#009af9; stroke:none; fill-opacity:0\" cx=\"506.273\" cy=\"840.867\" r=\"2\"/>\n",
       "<circle clip-path=\"url(#clip452)\" style=\"fill:#009af9; stroke:none; fill-opacity:0\" cx=\"569.177\" cy=\"1032.05\" r=\"2\"/>\n",
       "<circle clip-path=\"url(#clip452)\" style=\"fill:#009af9; stroke:none; fill-opacity:0\" cx=\"632.081\" cy=\"1193.05\" r=\"2\"/>\n",
       "<circle clip-path=\"url(#clip452)\" style=\"fill:#009af9; stroke:none; fill-opacity:0\" cx=\"694.985\" cy=\"1273.55\" r=\"2\"/>\n",
       "<circle clip-path=\"url(#clip452)\" style=\"fill:#009af9; stroke:none; fill-opacity:0\" cx=\"757.889\" cy=\"1233.3\" r=\"2\"/>\n",
       "<circle clip-path=\"url(#clip452)\" style=\"fill:#009af9; stroke:none; fill-opacity:0\" cx=\"820.793\" cy=\"1172.93\" r=\"2\"/>\n",
       "<circle clip-path=\"url(#clip452)\" style=\"fill:#009af9; stroke:none; fill-opacity:0\" cx=\"883.697\" cy=\"1354.05\" r=\"2\"/>\n",
       "<circle clip-path=\"url(#clip452)\" style=\"fill:#009af9; stroke:none; fill-opacity:0\" cx=\"946.601\" cy=\"1354.05\" r=\"2\"/>\n",
       "<circle clip-path=\"url(#clip452)\" style=\"fill:#009af9; stroke:none; fill-opacity:0\" cx=\"1009.5\" cy=\"1364.11\" r=\"2\"/>\n",
       "<circle clip-path=\"url(#clip452)\" style=\"fill:#009af9; stroke:none; fill-opacity:0\" cx=\"1072.41\" cy=\"1374.18\" r=\"2\"/>\n",
       "<circle clip-path=\"url(#clip452)\" style=\"fill:#009af9; stroke:none; fill-opacity:0\" cx=\"1135.31\" cy=\"1364.11\" r=\"2\"/>\n",
       "<circle clip-path=\"url(#clip452)\" style=\"fill:#009af9; stroke:none; fill-opacity:0\" cx=\"1198.22\" cy=\"1384.24\" r=\"2\"/>\n",
       "<circle clip-path=\"url(#clip452)\" style=\"fill:#009af9; stroke:none; fill-opacity:0\" cx=\"1261.12\" cy=\"1354.05\" r=\"2\"/>\n",
       "<circle clip-path=\"url(#clip452)\" style=\"fill:#009af9; stroke:none; fill-opacity:0\" cx=\"1324.02\" cy=\"1374.18\" r=\"2\"/>\n",
       "<circle clip-path=\"url(#clip452)\" style=\"fill:#009af9; stroke:none; fill-opacity:0\" cx=\"1386.93\" cy=\"1374.18\" r=\"2\"/>\n",
       "<circle clip-path=\"url(#clip452)\" style=\"fill:#009af9; stroke:none; fill-opacity:0\" cx=\"1449.83\" cy=\"1374.18\" r=\"2\"/>\n",
       "<circle clip-path=\"url(#clip452)\" style=\"fill:#009af9; stroke:none; fill-opacity:0\" cx=\"1512.74\" cy=\"1364.11\" r=\"2\"/>\n",
       "<circle clip-path=\"url(#clip452)\" style=\"fill:#009af9; stroke:none; fill-opacity:0\" cx=\"1575.64\" cy=\"1384.24\" r=\"2\"/>\n",
       "<circle clip-path=\"url(#clip452)\" style=\"fill:#009af9; stroke:none; fill-opacity:0\" cx=\"1638.54\" cy=\"1384.24\" r=\"2\"/>\n",
       "<circle clip-path=\"url(#clip452)\" style=\"fill:#009af9; stroke:none; fill-opacity:0\" cx=\"1701.45\" cy=\"1384.24\" r=\"2\"/>\n",
       "<circle clip-path=\"url(#clip452)\" style=\"fill:#009af9; stroke:none; fill-opacity:0\" cx=\"1764.35\" cy=\"1374.18\" r=\"2\"/>\n",
       "<circle clip-path=\"url(#clip452)\" style=\"fill:#009af9; stroke:none; fill-opacity:0\" cx=\"1827.26\" cy=\"1384.24\" r=\"2\"/>\n",
       "<circle clip-path=\"url(#clip452)\" style=\"fill:#009af9; stroke:none; fill-opacity:0\" cx=\"1890.16\" cy=\"1384.24\" r=\"2\"/>\n",
       "<circle clip-path=\"url(#clip452)\" style=\"fill:#009af9; stroke:none; fill-opacity:0\" cx=\"1953.06\" cy=\"1384.24\" r=\"2\"/>\n",
       "<circle clip-path=\"url(#clip452)\" style=\"fill:#009af9; stroke:none; fill-opacity:0\" cx=\"2015.97\" cy=\"1384.24\" r=\"2\"/>\n",
       "<circle clip-path=\"url(#clip452)\" style=\"fill:#009af9; stroke:none; fill-opacity:0\" cx=\"2078.87\" cy=\"1384.24\" r=\"2\"/>\n",
       "<circle clip-path=\"url(#clip452)\" style=\"fill:#009af9; stroke:none; fill-opacity:0\" cx=\"2141.78\" cy=\"1384.24\" r=\"2\"/>\n",
       "<circle clip-path=\"url(#clip452)\" style=\"fill:#009af9; stroke:none; fill-opacity:0\" cx=\"2204.68\" cy=\"1374.18\" r=\"2\"/>\n",
       "</svg>\n"
      ]
     },
     "execution_count": 7,
     "metadata": {},
     "output_type": "execute_result"
    }
   ],
   "source": [
    "df = DataFrame(CSV.File(\"./Complexity_x_Grad_UA.csv\"));\n",
    "histogram(df.complexity_score, nbins=50, xlabel=\"Program Complexity\", ylabel=\"# of programs\", label=\"\")"
   ]
  },
  {
   "cell_type": "markdown",
   "metadata": {},
   "source": [
    "Note that the chemical engeinering programm has the highest complexity of any undergraduate program at the University of Arizona, and is among the highest complexity progams in the entire nation (based upon the data set collected at CurricularAnalytics.org)."
   ]
  },
  {
   "cell_type": "code",
   "execution_count": 8,
   "metadata": {},
   "outputs": [
    {
     "data": {
      "image/svg+xml": [
       "<?xml version=\"1.0\" encoding=\"utf-8\"?>\n",
       "<svg xmlns=\"http://www.w3.org/2000/svg\" xmlns:xlink=\"http://www.w3.org/1999/xlink\" width=\"600\" height=\"400\" viewBox=\"0 0 2400 1600\">\n",
       "<defs>\n",
       "  <clipPath id=\"clip490\">\n",
       "    <rect x=\"0\" y=\"0\" width=\"2400\" height=\"1600\"/>\n",
       "  </clipPath>\n",
       "</defs>\n",
       "<path clip-path=\"url(#clip490)\" d=\"\n",
       "M0 1600 L2400 1600 L2400 0 L0 0  Z\n",
       "  \" fill=\"#ffffff\" fill-rule=\"evenodd\" fill-opacity=\"1\"/>\n",
       "<defs>\n",
       "  <clipPath id=\"clip491\">\n",
       "    <rect x=\"480\" y=\"0\" width=\"1681\" height=\"1600\"/>\n",
       "  </clipPath>\n",
       "</defs>\n",
       "<path clip-path=\"url(#clip490)\" d=\"\n",
       "M265.445 1423.18 L2352.76 1423.18 L2352.76 47.2441 L265.445 47.2441  Z\n",
       "  \" fill=\"#ffffff\" fill-rule=\"evenodd\" fill-opacity=\"1\"/>\n",
       "<defs>\n",
       "  <clipPath id=\"clip492\">\n",
       "    <rect x=\"265\" y=\"47\" width=\"2088\" height=\"1377\"/>\n",
       "  </clipPath>\n",
       "</defs>\n",
       "<polyline clip-path=\"url(#clip492)\" style=\"stroke:#000000; stroke-linecap:butt; stroke-linejoin:round; stroke-width:2; stroke-opacity:0.1; fill:none\" points=\"\n",
       "  318.327,1423.18 318.327,47.2441 \n",
       "  \"/>\n",
       "<polyline clip-path=\"url(#clip492)\" style=\"stroke:#000000; stroke-linecap:butt; stroke-linejoin:round; stroke-width:2; stroke-opacity:0.1; fill:none\" points=\"\n",
       "  627.944,1423.18 627.944,47.2441 \n",
       "  \"/>\n",
       "<polyline clip-path=\"url(#clip492)\" style=\"stroke:#000000; stroke-linecap:butt; stroke-linejoin:round; stroke-width:2; stroke-opacity:0.1; fill:none\" points=\"\n",
       "  937.56,1423.18 937.56,47.2441 \n",
       "  \"/>\n",
       "<polyline clip-path=\"url(#clip492)\" style=\"stroke:#000000; stroke-linecap:butt; stroke-linejoin:round; stroke-width:2; stroke-opacity:0.1; fill:none\" points=\"\n",
       "  1247.18,1423.18 1247.18,47.2441 \n",
       "  \"/>\n",
       "<polyline clip-path=\"url(#clip492)\" style=\"stroke:#000000; stroke-linecap:butt; stroke-linejoin:round; stroke-width:2; stroke-opacity:0.1; fill:none\" points=\"\n",
       "  1556.79,1423.18 1556.79,47.2441 \n",
       "  \"/>\n",
       "<polyline clip-path=\"url(#clip492)\" style=\"stroke:#000000; stroke-linecap:butt; stroke-linejoin:round; stroke-width:2; stroke-opacity:0.1; fill:none\" points=\"\n",
       "  1866.41,1423.18 1866.41,47.2441 \n",
       "  \"/>\n",
       "<polyline clip-path=\"url(#clip492)\" style=\"stroke:#000000; stroke-linecap:butt; stroke-linejoin:round; stroke-width:2; stroke-opacity:0.1; fill:none\" points=\"\n",
       "  2176.03,1423.18 2176.03,47.2441 \n",
       "  \"/>\n",
       "<polyline clip-path=\"url(#clip490)\" style=\"stroke:#000000; stroke-linecap:butt; stroke-linejoin:round; stroke-width:4; stroke-opacity:1; fill:none\" points=\"\n",
       "  265.445,1423.18 2352.76,1423.18 \n",
       "  \"/>\n",
       "<polyline clip-path=\"url(#clip490)\" style=\"stroke:#000000; stroke-linecap:butt; stroke-linejoin:round; stroke-width:4; stroke-opacity:1; fill:none\" points=\"\n",
       "  318.327,1423.18 318.327,1404.28 \n",
       "  \"/>\n",
       "<polyline clip-path=\"url(#clip490)\" style=\"stroke:#000000; stroke-linecap:butt; stroke-linejoin:round; stroke-width:4; stroke-opacity:1; fill:none\" points=\"\n",
       "  627.944,1423.18 627.944,1404.28 \n",
       "  \"/>\n",
       "<polyline clip-path=\"url(#clip490)\" style=\"stroke:#000000; stroke-linecap:butt; stroke-linejoin:round; stroke-width:4; stroke-opacity:1; fill:none\" points=\"\n",
       "  937.56,1423.18 937.56,1404.28 \n",
       "  \"/>\n",
       "<polyline clip-path=\"url(#clip490)\" style=\"stroke:#000000; stroke-linecap:butt; stroke-linejoin:round; stroke-width:4; stroke-opacity:1; fill:none\" points=\"\n",
       "  1247.18,1423.18 1247.18,1404.28 \n",
       "  \"/>\n",
       "<polyline clip-path=\"url(#clip490)\" style=\"stroke:#000000; stroke-linecap:butt; stroke-linejoin:round; stroke-width:4; stroke-opacity:1; fill:none\" points=\"\n",
       "  1556.79,1423.18 1556.79,1404.28 \n",
       "  \"/>\n",
       "<polyline clip-path=\"url(#clip490)\" style=\"stroke:#000000; stroke-linecap:butt; stroke-linejoin:round; stroke-width:4; stroke-opacity:1; fill:none\" points=\"\n",
       "  1866.41,1423.18 1866.41,1404.28 \n",
       "  \"/>\n",
       "<polyline clip-path=\"url(#clip490)\" style=\"stroke:#000000; stroke-linecap:butt; stroke-linejoin:round; stroke-width:4; stroke-opacity:1; fill:none\" points=\"\n",
       "  2176.03,1423.18 2176.03,1404.28 \n",
       "  \"/>\n",
       "<path clip-path=\"url(#clip490)\" d=\"M318.327 1454.1 Q314.716 1454.1 312.887 1457.66 Q311.082 1461.2 311.082 1468.33 Q311.082 1475.44 312.887 1479.01 Q314.716 1482.55 318.327 1482.55 Q321.961 1482.55 323.767 1479.01 Q325.596 1475.44 325.596 1468.33 Q325.596 1461.2 323.767 1457.66 Q321.961 1454.1 318.327 1454.1 M318.327 1450.39 Q324.137 1450.39 327.193 1455 Q330.272 1459.58 330.272 1468.33 Q330.272 1477.06 327.193 1481.67 Q324.137 1486.25 318.327 1486.25 Q312.517 1486.25 309.438 1481.67 Q306.383 1477.06 306.383 1468.33 Q306.383 1459.58 309.438 1455 Q312.517 1450.39 318.327 1450.39 Z\" fill=\"#000000\" fill-rule=\"evenodd\" fill-opacity=\"1\" /><path clip-path=\"url(#clip490)\" d=\"M587.551 1481.64 L595.189 1481.64 L595.189 1455.28 L586.879 1456.95 L586.879 1452.69 L595.143 1451.02 L599.819 1451.02 L599.819 1481.64 L607.458 1481.64 L607.458 1485.58 L587.551 1485.58 L587.551 1481.64 Z\" fill=\"#000000\" fill-rule=\"evenodd\" fill-opacity=\"1\" /><path clip-path=\"url(#clip490)\" d=\"M626.902 1454.1 Q623.291 1454.1 621.462 1457.66 Q619.657 1461.2 619.657 1468.33 Q619.657 1475.44 621.462 1479.01 Q623.291 1482.55 626.902 1482.55 Q630.536 1482.55 632.342 1479.01 Q634.171 1475.44 634.171 1468.33 Q634.171 1461.2 632.342 1457.66 Q630.536 1454.1 626.902 1454.1 M626.902 1450.39 Q632.712 1450.39 635.768 1455 Q638.847 1459.58 638.847 1468.33 Q638.847 1477.06 635.768 1481.67 Q632.712 1486.25 626.902 1486.25 Q621.092 1486.25 618.013 1481.67 Q614.958 1477.06 614.958 1468.33 Q614.958 1459.58 618.013 1455 Q621.092 1450.39 626.902 1450.39 Z\" fill=\"#000000\" fill-rule=\"evenodd\" fill-opacity=\"1\" /><path clip-path=\"url(#clip490)\" d=\"M657.064 1454.1 Q653.453 1454.1 651.624 1457.66 Q649.819 1461.2 649.819 1468.33 Q649.819 1475.44 651.624 1479.01 Q653.453 1482.55 657.064 1482.55 Q660.698 1482.55 662.504 1479.01 Q664.333 1475.44 664.333 1468.33 Q664.333 1461.2 662.504 1457.66 Q660.698 1454.1 657.064 1454.1 M657.064 1450.39 Q662.874 1450.39 665.93 1455 Q669.008 1459.58 669.008 1468.33 Q669.008 1477.06 665.93 1481.67 Q662.874 1486.25 657.064 1486.25 Q651.254 1486.25 648.175 1481.67 Q645.12 1477.06 645.12 1468.33 Q645.12 1459.58 648.175 1455 Q651.254 1450.39 657.064 1450.39 Z\" fill=\"#000000\" fill-rule=\"evenodd\" fill-opacity=\"1\" /><path clip-path=\"url(#clip490)\" d=\"M901.253 1481.64 L917.572 1481.64 L917.572 1485.58 L895.628 1485.58 L895.628 1481.64 Q898.29 1478.89 902.873 1474.26 Q907.48 1469.61 908.66 1468.27 Q910.905 1465.74 911.785 1464.01 Q912.688 1462.25 912.688 1460.56 Q912.688 1457.8 910.743 1456.07 Q908.822 1454.33 905.72 1454.33 Q903.521 1454.33 901.068 1455.09 Q898.637 1455.86 895.859 1457.41 L895.859 1452.69 Q898.683 1451.55 901.137 1450.97 Q903.591 1450.39 905.628 1450.39 Q910.998 1450.39 914.192 1453.08 Q917.387 1455.77 917.387 1460.26 Q917.387 1462.39 916.577 1464.31 Q915.79 1466.2 913.683 1468.8 Q913.105 1469.47 910.003 1472.69 Q906.901 1475.88 901.253 1481.64 Z\" fill=\"#000000\" fill-rule=\"evenodd\" fill-opacity=\"1\" /><path clip-path=\"url(#clip490)\" d=\"M937.387 1454.1 Q933.776 1454.1 931.947 1457.66 Q930.141 1461.2 930.141 1468.33 Q930.141 1475.44 931.947 1479.01 Q933.776 1482.55 937.387 1482.55 Q941.021 1482.55 942.827 1479.01 Q944.655 1475.44 944.655 1468.33 Q944.655 1461.2 942.827 1457.66 Q941.021 1454.1 937.387 1454.1 M937.387 1450.39 Q943.197 1450.39 946.252 1455 Q949.331 1459.58 949.331 1468.33 Q949.331 1477.06 946.252 1481.67 Q943.197 1486.25 937.387 1486.25 Q931.577 1486.25 928.498 1481.67 Q925.442 1477.06 925.442 1468.33 Q925.442 1459.58 928.498 1455 Q931.577 1450.39 937.387 1450.39 Z\" fill=\"#000000\" fill-rule=\"evenodd\" fill-opacity=\"1\" /><path clip-path=\"url(#clip490)\" d=\"M967.549 1454.1 Q963.938 1454.1 962.109 1457.66 Q960.303 1461.2 960.303 1468.33 Q960.303 1475.44 962.109 1479.01 Q963.938 1482.55 967.549 1482.55 Q971.183 1482.55 972.988 1479.01 Q974.817 1475.44 974.817 1468.33 Q974.817 1461.2 972.988 1457.66 Q971.183 1454.1 967.549 1454.1 M967.549 1450.39 Q973.359 1450.39 976.414 1455 Q979.493 1459.58 979.493 1468.33 Q979.493 1477.06 976.414 1481.67 Q973.359 1486.25 967.549 1486.25 Q961.739 1486.25 958.66 1481.67 Q955.604 1477.06 955.604 1468.33 Q955.604 1459.58 958.66 1455 Q961.739 1450.39 967.549 1450.39 Z\" fill=\"#000000\" fill-rule=\"evenodd\" fill-opacity=\"1\" /><path clip-path=\"url(#clip490)\" d=\"M1220.94 1466.95 Q1224.3 1467.66 1226.17 1469.93 Q1228.07 1472.2 1228.07 1475.53 Q1228.07 1480.65 1224.55 1483.45 Q1221.03 1486.25 1214.55 1486.25 Q1212.37 1486.25 1210.06 1485.81 Q1207.77 1485.39 1205.31 1484.54 L1205.31 1480.02 Q1207.26 1481.16 1209.57 1481.74 Q1211.89 1482.32 1214.41 1482.32 Q1218.81 1482.32 1221.1 1480.58 Q1223.42 1478.84 1223.42 1475.53 Q1223.42 1472.48 1221.26 1470.77 Q1219.13 1469.03 1215.31 1469.03 L1211.29 1469.03 L1211.29 1465.19 L1215.5 1465.19 Q1218.95 1465.19 1220.78 1463.82 Q1222.61 1462.43 1222.61 1459.84 Q1222.61 1457.18 1220.71 1455.77 Q1218.83 1454.33 1215.31 1454.33 Q1213.39 1454.33 1211.19 1454.75 Q1208.99 1455.16 1206.36 1456.04 L1206.36 1451.88 Q1209.02 1451.14 1211.33 1450.77 Q1213.67 1450.39 1215.73 1450.39 Q1221.05 1450.39 1224.16 1452.83 Q1227.26 1455.23 1227.26 1459.35 Q1227.26 1462.22 1225.61 1464.21 Q1223.97 1466.18 1220.94 1466.95 Z\" fill=\"#000000\" fill-rule=\"evenodd\" fill-opacity=\"1\" /><path clip-path=\"url(#clip490)\" d=\"M1246.93 1454.1 Q1243.32 1454.1 1241.49 1457.66 Q1239.69 1461.2 1239.69 1468.33 Q1239.69 1475.44 1241.49 1479.01 Q1243.32 1482.55 1246.93 1482.55 Q1250.57 1482.55 1252.37 1479.01 Q1254.2 1475.44 1254.2 1468.33 Q1254.2 1461.2 1252.37 1457.66 Q1250.57 1454.1 1246.93 1454.1 M1246.93 1450.39 Q1252.74 1450.39 1255.8 1455 Q1258.88 1459.58 1258.88 1468.33 Q1258.88 1477.06 1255.8 1481.67 Q1252.74 1486.25 1246.93 1486.25 Q1241.12 1486.25 1238.05 1481.67 Q1234.99 1477.06 1234.99 1468.33 Q1234.99 1459.58 1238.05 1455 Q1241.12 1450.39 1246.93 1450.39 Z\" fill=\"#000000\" fill-rule=\"evenodd\" fill-opacity=\"1\" /><path clip-path=\"url(#clip490)\" d=\"M1277.1 1454.1 Q1273.48 1454.1 1271.66 1457.66 Q1269.85 1461.2 1269.85 1468.33 Q1269.85 1475.44 1271.66 1479.01 Q1273.48 1482.55 1277.1 1482.55 Q1280.73 1482.55 1282.54 1479.01 Q1284.36 1475.44 1284.36 1468.33 Q1284.36 1461.2 1282.54 1457.66 Q1280.73 1454.1 1277.1 1454.1 M1277.1 1450.39 Q1282.91 1450.39 1285.96 1455 Q1289.04 1459.58 1289.04 1468.33 Q1289.04 1477.06 1285.96 1481.67 Q1282.91 1486.25 1277.1 1486.25 Q1271.29 1486.25 1268.21 1481.67 Q1265.15 1477.06 1265.15 1468.33 Q1265.15 1459.58 1268.21 1455 Q1271.29 1450.39 1277.1 1450.39 Z\" fill=\"#000000\" fill-rule=\"evenodd\" fill-opacity=\"1\" /><path clip-path=\"url(#clip490)\" d=\"M1529.88 1455.09 L1518.08 1473.54 L1529.88 1473.54 L1529.88 1455.09 M1528.66 1451.02 L1534.54 1451.02 L1534.54 1473.54 L1539.47 1473.54 L1539.47 1477.43 L1534.54 1477.43 L1534.54 1485.58 L1529.88 1485.58 L1529.88 1477.43 L1514.28 1477.43 L1514.28 1472.92 L1528.66 1451.02 Z\" fill=\"#000000\" fill-rule=\"evenodd\" fill-opacity=\"1\" /><path clip-path=\"url(#clip490)\" d=\"M1557.2 1454.1 Q1553.59 1454.1 1551.76 1457.66 Q1549.95 1461.2 1549.95 1468.33 Q1549.95 1475.44 1551.76 1479.01 Q1553.59 1482.55 1557.2 1482.55 Q1560.83 1482.55 1562.64 1479.01 Q1564.47 1475.44 1564.47 1468.33 Q1564.47 1461.2 1562.64 1457.66 Q1560.83 1454.1 1557.2 1454.1 M1557.2 1450.39 Q1563.01 1450.39 1566.06 1455 Q1569.14 1459.58 1569.14 1468.33 Q1569.14 1477.06 1566.06 1481.67 Q1563.01 1486.25 1557.2 1486.25 Q1551.39 1486.25 1548.31 1481.67 Q1545.25 1477.06 1545.25 1468.33 Q1545.25 1459.58 1548.31 1455 Q1551.39 1450.39 1557.2 1450.39 Z\" fill=\"#000000\" fill-rule=\"evenodd\" fill-opacity=\"1\" /><path clip-path=\"url(#clip490)\" d=\"M1587.36 1454.1 Q1583.75 1454.1 1581.92 1457.66 Q1580.12 1461.2 1580.12 1468.33 Q1580.12 1475.44 1581.92 1479.01 Q1583.75 1482.55 1587.36 1482.55 Q1590.99 1482.55 1592.8 1479.01 Q1594.63 1475.44 1594.63 1468.33 Q1594.63 1461.2 1592.8 1457.66 Q1590.99 1454.1 1587.36 1454.1 M1587.36 1450.39 Q1593.17 1450.39 1596.23 1455 Q1599.3 1459.58 1599.3 1468.33 Q1599.3 1477.06 1596.23 1481.67 Q1593.17 1486.25 1587.36 1486.25 Q1581.55 1486.25 1578.47 1481.67 Q1575.42 1477.06 1575.42 1468.33 Q1575.42 1459.58 1578.47 1455 Q1581.55 1450.39 1587.36 1450.39 Z\" fill=\"#000000\" fill-rule=\"evenodd\" fill-opacity=\"1\" /><path clip-path=\"url(#clip490)\" d=\"M1826.03 1451.02 L1844.38 1451.02 L1844.38 1454.96 L1830.31 1454.96 L1830.31 1463.43 Q1831.33 1463.08 1832.35 1462.92 Q1833.37 1462.73 1834.38 1462.73 Q1840.17 1462.73 1843.55 1465.9 Q1846.93 1469.08 1846.93 1474.49 Q1846.93 1480.07 1843.46 1483.17 Q1839.99 1486.25 1833.67 1486.25 Q1831.49 1486.25 1829.22 1485.88 Q1826.98 1485.51 1824.57 1484.77 L1824.57 1480.07 Q1826.65 1481.2 1828.88 1481.76 Q1831.1 1482.32 1833.57 1482.32 Q1837.58 1482.32 1839.92 1480.21 Q1842.26 1478.1 1842.26 1474.49 Q1842.26 1470.88 1839.92 1468.77 Q1837.58 1466.67 1833.57 1466.67 Q1831.7 1466.67 1829.82 1467.08 Q1827.97 1467.5 1826.03 1468.38 L1826.03 1451.02 Z\" fill=\"#000000\" fill-rule=\"evenodd\" fill-opacity=\"1\" /><path clip-path=\"url(#clip490)\" d=\"M1866.14 1454.1 Q1862.53 1454.1 1860.7 1457.66 Q1858.9 1461.2 1858.9 1468.33 Q1858.9 1475.44 1860.7 1479.01 Q1862.53 1482.55 1866.14 1482.55 Q1869.78 1482.55 1871.58 1479.01 Q1873.41 1475.44 1873.41 1468.33 Q1873.41 1461.2 1871.58 1457.66 Q1869.78 1454.1 1866.14 1454.1 M1866.14 1450.39 Q1871.95 1450.39 1875.01 1455 Q1878.09 1459.58 1878.09 1468.33 Q1878.09 1477.06 1875.01 1481.67 Q1871.95 1486.25 1866.14 1486.25 Q1860.33 1486.25 1857.26 1481.67 Q1854.2 1477.06 1854.2 1468.33 Q1854.2 1459.58 1857.26 1455 Q1860.33 1450.39 1866.14 1450.39 Z\" fill=\"#000000\" fill-rule=\"evenodd\" fill-opacity=\"1\" /><path clip-path=\"url(#clip490)\" d=\"M1896.31 1454.1 Q1892.69 1454.1 1890.87 1457.66 Q1889.06 1461.2 1889.06 1468.33 Q1889.06 1475.44 1890.87 1479.01 Q1892.69 1482.55 1896.31 1482.55 Q1899.94 1482.55 1901.75 1479.01 Q1903.57 1475.44 1903.57 1468.33 Q1903.57 1461.2 1901.75 1457.66 Q1899.94 1454.1 1896.31 1454.1 M1896.31 1450.39 Q1902.12 1450.39 1905.17 1455 Q1908.25 1459.58 1908.25 1468.33 Q1908.25 1477.06 1905.17 1481.67 Q1902.12 1486.25 1896.31 1486.25 Q1890.5 1486.25 1887.42 1481.67 Q1884.36 1477.06 1884.36 1468.33 Q1884.36 1459.58 1887.42 1455 Q1890.5 1450.39 1896.31 1450.39 Z\" fill=\"#000000\" fill-rule=\"evenodd\" fill-opacity=\"1\" /><path clip-path=\"url(#clip490)\" d=\"M2146.35 1466.44 Q2143.2 1466.44 2141.35 1468.59 Q2139.52 1470.74 2139.52 1474.49 Q2139.52 1478.22 2141.35 1480.39 Q2143.2 1482.55 2146.35 1482.55 Q2149.5 1482.55 2151.33 1480.39 Q2153.18 1478.22 2153.18 1474.49 Q2153.18 1470.74 2151.33 1468.59 Q2149.5 1466.44 2146.35 1466.44 M2155.63 1451.78 L2155.63 1456.04 Q2153.87 1455.21 2152.07 1454.77 Q2150.29 1454.33 2148.53 1454.33 Q2143.9 1454.33 2141.44 1457.45 Q2139.01 1460.58 2138.67 1466.9 Q2140.03 1464.89 2142.09 1463.82 Q2144.15 1462.73 2146.63 1462.73 Q2151.84 1462.73 2154.85 1465.9 Q2157.88 1469.05 2157.88 1474.49 Q2157.88 1479.82 2154.73 1483.03 Q2151.58 1486.25 2146.35 1486.25 Q2140.36 1486.25 2137.18 1481.67 Q2134.01 1477.06 2134.01 1468.33 Q2134.01 1460.14 2137.9 1455.28 Q2141.79 1450.39 2148.34 1450.39 Q2150.1 1450.39 2151.88 1450.74 Q2153.69 1451.09 2155.63 1451.78 Z\" fill=\"#000000\" fill-rule=\"evenodd\" fill-opacity=\"1\" /><path clip-path=\"url(#clip490)\" d=\"M2175.93 1454.1 Q2172.32 1454.1 2170.49 1457.66 Q2168.69 1461.2 2168.69 1468.33 Q2168.69 1475.44 2170.49 1479.01 Q2172.32 1482.55 2175.93 1482.55 Q2179.57 1482.55 2181.37 1479.01 Q2183.2 1475.44 2183.2 1468.33 Q2183.2 1461.2 2181.37 1457.66 Q2179.57 1454.1 2175.93 1454.1 M2175.93 1450.39 Q2181.74 1450.39 2184.8 1455 Q2187.88 1459.58 2187.88 1468.33 Q2187.88 1477.06 2184.8 1481.67 Q2181.74 1486.25 2175.93 1486.25 Q2170.12 1486.25 2167.05 1481.67 Q2163.99 1477.06 2163.99 1468.33 Q2163.99 1459.58 2167.05 1455 Q2170.12 1450.39 2175.93 1450.39 Z\" fill=\"#000000\" fill-rule=\"evenodd\" fill-opacity=\"1\" /><path clip-path=\"url(#clip490)\" d=\"M2206.1 1454.1 Q2202.48 1454.1 2200.66 1457.66 Q2198.85 1461.2 2198.85 1468.33 Q2198.85 1475.44 2200.66 1479.01 Q2202.48 1482.55 2206.1 1482.55 Q2209.73 1482.55 2211.54 1479.01 Q2213.36 1475.44 2213.36 1468.33 Q2213.36 1461.2 2211.54 1457.66 Q2209.73 1454.1 2206.1 1454.1 M2206.1 1450.39 Q2211.91 1450.39 2214.96 1455 Q2218.04 1459.58 2218.04 1468.33 Q2218.04 1477.06 2214.96 1481.67 Q2211.91 1486.25 2206.1 1486.25 Q2200.29 1486.25 2197.21 1481.67 Q2194.15 1477.06 2194.15 1468.33 Q2194.15 1459.58 2197.21 1455 Q2200.29 1450.39 2206.1 1450.39 Z\" fill=\"#000000\" fill-rule=\"evenodd\" fill-opacity=\"1\" /><path clip-path=\"url(#clip490)\" d=\"M987.744 1525.81 L987.744 1543.66 L995.828 1543.66 Q1000.32 1543.66 1002.77 1541.34 Q1005.22 1539.02 1005.22 1534.72 Q1005.22 1530.45 1002.77 1528.13 Q1000.32 1525.81 995.828 1525.81 L987.744 1525.81 M981.314 1520.52 L995.828 1520.52 Q1003.82 1520.52 1007.89 1524.15 Q1012 1527.75 1012 1534.72 Q1012 1541.75 1007.89 1545.35 Q1003.82 1548.95 995.828 1548.95 L987.744 1548.95 L987.744 1568.04 L981.314 1568.04 L981.314 1520.52 Z\" fill=\"#000000\" fill-rule=\"evenodd\" fill-opacity=\"1\" /><path clip-path=\"url(#clip490)\" d=\"M1039.88 1537.87 Q1038.89 1537.3 1037.71 1537.04 Q1036.57 1536.76 1035.17 1536.76 Q1030.2 1536.76 1027.53 1540 Q1024.89 1543.22 1024.89 1549.27 L1024.89 1568.04 L1019 1568.04 L1019 1532.4 L1024.89 1532.4 L1024.89 1537.93 Q1026.73 1534.69 1029.69 1533.13 Q1032.65 1531.54 1036.89 1531.54 Q1037.49 1531.54 1038.22 1531.63 Q1038.96 1531.7 1039.85 1531.85 L1039.88 1537.87 Z\" fill=\"#000000\" fill-rule=\"evenodd\" fill-opacity=\"1\" /><path clip-path=\"url(#clip490)\" d=\"M1058.4 1536.5 Q1053.69 1536.5 1050.95 1540.19 Q1048.22 1543.85 1048.22 1550.25 Q1048.22 1556.65 1050.92 1560.34 Q1053.66 1564 1058.4 1564 Q1063.08 1564 1065.82 1560.31 Q1068.56 1556.62 1068.56 1550.25 Q1068.56 1543.92 1065.82 1540.23 Q1063.08 1536.5 1058.4 1536.5 M1058.4 1531.54 Q1066.04 1531.54 1070.4 1536.5 Q1074.76 1541.47 1074.76 1550.25 Q1074.76 1559 1070.4 1564 Q1066.04 1568.97 1058.4 1568.97 Q1050.73 1568.97 1046.37 1564 Q1042.04 1559 1042.04 1550.25 Q1042.04 1541.47 1046.37 1536.5 Q1050.73 1531.54 1058.4 1531.54 Z\" fill=\"#000000\" fill-rule=\"evenodd\" fill-opacity=\"1\" /><path clip-path=\"url(#clip490)\" d=\"M1107.93 1549.81 Q1107.93 1543.44 1105.29 1539.94 Q1102.68 1536.44 1097.93 1536.44 Q1093.22 1536.44 1090.58 1539.94 Q1087.97 1543.44 1087.97 1549.81 Q1087.97 1556.14 1090.58 1559.64 Q1093.22 1563.14 1097.93 1563.14 Q1102.68 1563.14 1105.29 1559.64 Q1107.93 1556.14 1107.93 1549.81 M1113.78 1563.62 Q1113.78 1572.72 1109.74 1577.15 Q1105.7 1581.6 1097.36 1581.6 Q1094.27 1581.6 1091.54 1581.13 Q1088.8 1580.68 1086.22 1579.72 L1086.22 1574.03 Q1088.8 1575.43 1091.31 1576.1 Q1093.83 1576.76 1096.44 1576.76 Q1102.2 1576.76 1105.06 1573.74 Q1107.93 1570.75 1107.93 1564.67 L1107.93 1561.77 Q1106.11 1564.92 1103.28 1566.48 Q1100.45 1568.04 1096.5 1568.04 Q1089.94 1568.04 1085.93 1563.05 Q1081.92 1558.05 1081.92 1549.81 Q1081.92 1541.53 1085.93 1536.53 Q1089.94 1531.54 1096.5 1531.54 Q1100.45 1531.54 1103.28 1533.1 Q1106.11 1534.66 1107.93 1537.81 L1107.93 1532.4 L1113.78 1532.4 L1113.78 1563.62 Z\" fill=\"#000000\" fill-rule=\"evenodd\" fill-opacity=\"1\" /><path clip-path=\"url(#clip490)\" d=\"M1146.5 1537.87 Q1145.52 1537.3 1144.34 1537.04 Q1143.19 1536.76 1141.79 1536.76 Q1136.83 1536.76 1134.15 1540 Q1131.51 1543.22 1131.51 1549.27 L1131.51 1568.04 L1125.62 1568.04 L1125.62 1532.4 L1131.51 1532.4 L1131.51 1537.93 Q1133.36 1534.69 1136.32 1533.13 Q1139.28 1531.54 1143.51 1531.54 Q1144.12 1531.54 1144.85 1531.63 Q1145.58 1531.7 1146.47 1531.85 L1146.5 1537.87 Z\" fill=\"#000000\" fill-rule=\"evenodd\" fill-opacity=\"1\" /><path clip-path=\"url(#clip490)\" d=\"M1168.85 1550.12 Q1161.75 1550.12 1159.01 1551.75 Q1156.28 1553.37 1156.28 1557.29 Q1156.28 1560.4 1158.31 1562.25 Q1160.38 1564.07 1163.91 1564.07 Q1168.78 1564.07 1171.71 1560.63 Q1174.67 1557.16 1174.67 1551.43 L1174.67 1550.12 L1168.85 1550.12 M1180.53 1547.71 L1180.53 1568.04 L1174.67 1568.04 L1174.67 1562.63 Q1172.67 1565.88 1169.68 1567.44 Q1166.68 1568.97 1162.35 1568.97 Q1156.88 1568.97 1153.63 1565.91 Q1150.42 1562.82 1150.42 1557.67 Q1150.42 1551.65 1154.43 1548.6 Q1158.47 1545.54 1166.46 1545.54 L1174.67 1545.54 L1174.67 1544.97 Q1174.67 1540.93 1172 1538.73 Q1169.36 1536.5 1164.55 1536.5 Q1161.5 1536.5 1158.6 1537.23 Q1155.7 1537.97 1153.03 1539.43 L1153.03 1534.02 Q1156.24 1532.78 1159.27 1532.17 Q1162.29 1531.54 1165.16 1531.54 Q1172.89 1531.54 1176.71 1535.55 Q1180.53 1539.56 1180.53 1547.71 Z\" fill=\"#000000\" fill-rule=\"evenodd\" fill-opacity=\"1\" /><path clip-path=\"url(#clip490)\" d=\"M1220.35 1539.24 Q1222.54 1535.29 1225.6 1533.41 Q1228.65 1531.54 1232.79 1531.54 Q1238.36 1531.54 1241.39 1535.45 Q1244.41 1539.33 1244.41 1546.53 L1244.41 1568.04 L1238.52 1568.04 L1238.52 1546.72 Q1238.52 1541.59 1236.71 1539.11 Q1234.89 1536.63 1231.17 1536.63 Q1226.62 1536.63 1223.97 1539.65 Q1221.33 1542.68 1221.33 1547.9 L1221.33 1568.04 L1215.44 1568.04 L1215.44 1546.72 Q1215.44 1541.56 1213.63 1539.11 Q1211.82 1536.63 1208.03 1536.63 Q1203.54 1536.63 1200.9 1539.68 Q1198.26 1542.71 1198.26 1547.9 L1198.26 1568.04 L1192.37 1568.04 L1192.37 1532.4 L1198.26 1532.4 L1198.26 1537.93 Q1200.26 1534.66 1203.06 1533.1 Q1205.86 1531.54 1209.72 1531.54 Q1213.6 1531.54 1216.3 1533.51 Q1219.04 1535.48 1220.35 1539.24 Z\" fill=\"#000000\" fill-rule=\"evenodd\" fill-opacity=\"1\" /><path clip-path=\"url(#clip490)\" d=\"M1312.65 1524.18 L1312.65 1530.96 Q1309.4 1527.94 1305.71 1526.44 Q1302.05 1524.95 1297.91 1524.95 Q1289.76 1524.95 1285.44 1529.95 Q1281.11 1534.91 1281.11 1544.33 Q1281.11 1553.72 1285.44 1558.72 Q1289.76 1563.68 1297.91 1563.68 Q1302.05 1563.68 1305.71 1562.19 Q1309.4 1560.69 1312.65 1557.67 L1312.65 1564.38 Q1309.28 1566.68 1305.49 1567.82 Q1301.73 1568.97 1297.53 1568.97 Q1286.74 1568.97 1280.53 1562.38 Q1274.33 1555.76 1274.33 1544.33 Q1274.33 1532.87 1280.53 1526.28 Q1286.74 1519.66 1297.53 1519.66 Q1301.8 1519.66 1305.55 1520.81 Q1309.34 1521.92 1312.65 1524.18 Z\" fill=\"#000000\" fill-rule=\"evenodd\" fill-opacity=\"1\" /><path clip-path=\"url(#clip490)\" d=\"M1336.14 1536.5 Q1331.43 1536.5 1328.69 1540.19 Q1325.95 1543.85 1325.95 1550.25 Q1325.95 1556.65 1328.66 1560.34 Q1331.4 1564 1336.14 1564 Q1340.82 1564 1343.55 1560.31 Q1346.29 1556.62 1346.29 1550.25 Q1346.29 1543.92 1343.55 1540.23 Q1340.82 1536.5 1336.14 1536.5 M1336.14 1531.54 Q1343.78 1531.54 1348.14 1536.5 Q1352.5 1541.47 1352.5 1550.25 Q1352.5 1559 1348.14 1564 Q1343.78 1568.97 1336.14 1568.97 Q1328.47 1568.97 1324.11 1564 Q1319.78 1559 1319.78 1550.25 Q1319.78 1541.47 1324.11 1536.5 Q1328.47 1531.54 1336.14 1531.54 Z\" fill=\"#000000\" fill-rule=\"evenodd\" fill-opacity=\"1\" /><path clip-path=\"url(#clip490)\" d=\"M1389.96 1539.24 Q1392.16 1535.29 1395.21 1533.41 Q1398.27 1531.54 1402.41 1531.54 Q1407.98 1531.54 1411 1535.45 Q1414.02 1539.33 1414.02 1546.53 L1414.02 1568.04 L1408.13 1568.04 L1408.13 1546.72 Q1408.13 1541.59 1406.32 1539.11 Q1404.51 1536.63 1400.78 1536.63 Q1396.23 1536.63 1393.59 1539.65 Q1390.95 1542.68 1390.95 1547.9 L1390.95 1568.04 L1385.06 1568.04 L1385.06 1546.72 Q1385.06 1541.56 1383.24 1539.11 Q1381.43 1536.63 1377.64 1536.63 Q1373.16 1536.63 1370.51 1539.68 Q1367.87 1542.71 1367.87 1547.9 L1367.87 1568.04 L1361.98 1568.04 L1361.98 1532.4 L1367.87 1532.4 L1367.87 1537.93 Q1369.88 1534.66 1372.68 1533.1 Q1375.48 1531.54 1379.33 1531.54 Q1383.21 1531.54 1385.92 1533.51 Q1388.66 1535.48 1389.96 1539.24 Z\" fill=\"#000000\" fill-rule=\"evenodd\" fill-opacity=\"1\" /><path clip-path=\"url(#clip490)\" d=\"M1431.37 1562.7 L1431.37 1581.6 L1425.48 1581.6 L1425.48 1532.4 L1431.37 1532.4 L1431.37 1537.81 Q1433.22 1534.62 1436.02 1533.1 Q1438.85 1531.54 1442.76 1531.54 Q1449.26 1531.54 1453.3 1536.69 Q1457.37 1541.85 1457.37 1550.25 Q1457.37 1558.65 1453.3 1563.81 Q1449.26 1568.97 1442.76 1568.97 Q1438.85 1568.97 1436.02 1567.44 Q1433.22 1565.88 1431.37 1562.7 M1451.29 1550.25 Q1451.29 1543.79 1448.62 1540.13 Q1445.98 1536.44 1441.33 1536.44 Q1436.68 1536.44 1434.01 1540.13 Q1431.37 1543.79 1431.37 1550.25 Q1431.37 1556.71 1434.01 1560.4 Q1436.68 1564.07 1441.33 1564.07 Q1445.98 1564.07 1448.62 1560.4 Q1451.29 1556.71 1451.29 1550.25 Z\" fill=\"#000000\" fill-rule=\"evenodd\" fill-opacity=\"1\" /><path clip-path=\"url(#clip490)\" d=\"M1467.08 1518.52 L1472.94 1518.52 L1472.94 1568.04 L1467.08 1568.04 L1467.08 1518.52 Z\" fill=\"#000000\" fill-rule=\"evenodd\" fill-opacity=\"1\" /><path clip-path=\"url(#clip490)\" d=\"M1515.68 1548.76 L1515.68 1551.62 L1488.76 1551.62 Q1489.14 1557.67 1492.38 1560.85 Q1495.66 1564 1501.49 1564 Q1504.86 1564 1508.01 1563.17 Q1511.2 1562.35 1514.31 1560.69 L1514.31 1566.23 Q1511.16 1567.57 1507.85 1568.27 Q1504.54 1568.97 1501.14 1568.97 Q1492.61 1568.97 1487.61 1564 Q1482.65 1559.04 1482.65 1550.57 Q1482.65 1541.82 1487.36 1536.69 Q1492.1 1531.54 1500.12 1531.54 Q1507.31 1531.54 1511.48 1536.18 Q1515.68 1540.8 1515.68 1548.76 M1509.83 1547.04 Q1509.76 1542.23 1507.12 1539.37 Q1504.51 1536.5 1500.18 1536.5 Q1495.28 1536.5 1492.32 1539.27 Q1489.39 1542.04 1488.95 1547.07 L1509.83 1547.04 Z\" fill=\"#000000\" fill-rule=\"evenodd\" fill-opacity=\"1\" /><path clip-path=\"url(#clip490)\" d=\"M1553.78 1532.4 L1540.89 1549.74 L1554.45 1568.04 L1547.54 1568.04 L1537.17 1554.04 L1526.79 1568.04 L1519.88 1568.04 L1533.73 1549.39 L1521.06 1532.4 L1527.97 1532.4 L1537.42 1545.1 L1546.88 1532.4 L1553.78 1532.4 Z\" fill=\"#000000\" fill-rule=\"evenodd\" fill-opacity=\"1\" /><path clip-path=\"url(#clip490)\" d=\"M1562.73 1532.4 L1568.58 1532.4 L1568.58 1568.04 L1562.73 1568.04 L1562.73 1532.4 M1562.73 1518.52 L1568.58 1518.52 L1568.58 1525.93 L1562.73 1525.93 L1562.73 1518.52 Z\" fill=\"#000000\" fill-rule=\"evenodd\" fill-opacity=\"1\" /><path clip-path=\"url(#clip490)\" d=\"M1586.63 1522.27 L1586.63 1532.4 L1598.69 1532.4 L1598.69 1536.95 L1586.63 1536.95 L1586.63 1556.3 Q1586.63 1560.66 1587.81 1561.9 Q1589.02 1563.14 1592.68 1563.14 L1598.69 1563.14 L1598.69 1568.04 L1592.68 1568.04 Q1585.9 1568.04 1583.32 1565.53 Q1580.74 1562.98 1580.74 1556.3 L1580.74 1536.95 L1576.44 1536.95 L1576.44 1532.4 L1580.74 1532.4 L1580.74 1522.27 L1586.63 1522.27 Z\" fill=\"#000000\" fill-rule=\"evenodd\" fill-opacity=\"1\" /><path clip-path=\"url(#clip490)\" d=\"M1621.23 1571.35 Q1618.74 1577.72 1616.39 1579.66 Q1614.03 1581.6 1610.09 1581.6 L1605.41 1581.6 L1605.41 1576.7 L1608.85 1576.7 Q1611.26 1576.7 1612.6 1575.56 Q1613.94 1574.41 1615.56 1570.14 L1616.61 1567.47 L1602.19 1532.4 L1608.4 1532.4 L1619.54 1560.28 L1630.68 1532.4 L1636.89 1532.4 L1621.23 1571.35 Z\" fill=\"#000000\" fill-rule=\"evenodd\" fill-opacity=\"1\" /><polyline clip-path=\"url(#clip492)\" style=\"stroke:#000000; stroke-linecap:butt; stroke-linejoin:round; stroke-width:2; stroke-opacity:0.1; fill:none\" points=\"\n",
       "  265.445,1384.24 2352.76,1384.24 \n",
       "  \"/>\n",
       "<polyline clip-path=\"url(#clip492)\" style=\"stroke:#000000; stroke-linecap:butt; stroke-linejoin:round; stroke-width:2; stroke-opacity:0.1; fill:none\" points=\"\n",
       "  265.445,1100.94 2352.76,1100.94 \n",
       "  \"/>\n",
       "<polyline clip-path=\"url(#clip492)\" style=\"stroke:#000000; stroke-linecap:butt; stroke-linejoin:round; stroke-width:2; stroke-opacity:0.1; fill:none\" points=\"\n",
       "  265.445,817.65 2352.76,817.65 \n",
       "  \"/>\n",
       "<polyline clip-path=\"url(#clip492)\" style=\"stroke:#000000; stroke-linecap:butt; stroke-linejoin:round; stroke-width:2; stroke-opacity:0.1; fill:none\" points=\"\n",
       "  265.445,534.357 2352.76,534.357 \n",
       "  \"/>\n",
       "<polyline clip-path=\"url(#clip492)\" style=\"stroke:#000000; stroke-linecap:butt; stroke-linejoin:round; stroke-width:2; stroke-opacity:0.1; fill:none\" points=\"\n",
       "  265.445,251.063 2352.76,251.063 \n",
       "  \"/>\n",
       "<polyline clip-path=\"url(#clip490)\" style=\"stroke:#000000; stroke-linecap:butt; stroke-linejoin:round; stroke-width:4; stroke-opacity:1; fill:none\" points=\"\n",
       "  265.445,1423.18 265.445,47.2441 \n",
       "  \"/>\n",
       "<polyline clip-path=\"url(#clip490)\" style=\"stroke:#000000; stroke-linecap:butt; stroke-linejoin:round; stroke-width:4; stroke-opacity:1; fill:none\" points=\"\n",
       "  265.445,1384.24 284.342,1384.24 \n",
       "  \"/>\n",
       "<polyline clip-path=\"url(#clip490)\" style=\"stroke:#000000; stroke-linecap:butt; stroke-linejoin:round; stroke-width:4; stroke-opacity:1; fill:none\" points=\"\n",
       "  265.445,1100.94 284.342,1100.94 \n",
       "  \"/>\n",
       "<polyline clip-path=\"url(#clip490)\" style=\"stroke:#000000; stroke-linecap:butt; stroke-linejoin:round; stroke-width:4; stroke-opacity:1; fill:none\" points=\"\n",
       "  265.445,817.65 284.342,817.65 \n",
       "  \"/>\n",
       "<polyline clip-path=\"url(#clip490)\" style=\"stroke:#000000; stroke-linecap:butt; stroke-linejoin:round; stroke-width:4; stroke-opacity:1; fill:none\" points=\"\n",
       "  265.445,534.357 284.342,534.357 \n",
       "  \"/>\n",
       "<polyline clip-path=\"url(#clip490)\" style=\"stroke:#000000; stroke-linecap:butt; stroke-linejoin:round; stroke-width:4; stroke-opacity:1; fill:none\" points=\"\n",
       "  265.445,251.063 284.342,251.063 \n",
       "  \"/>\n",
       "<path clip-path=\"url(#clip490)\" d=\"M217.5 1370.04 Q213.889 1370.04 212.061 1373.6 Q210.255 1377.14 210.255 1384.27 Q210.255 1391.38 212.061 1394.94 Q213.889 1398.49 217.5 1398.49 Q221.135 1398.49 222.94 1394.94 Q224.769 1391.38 224.769 1384.27 Q224.769 1377.14 222.94 1373.6 Q221.135 1370.04 217.5 1370.04 M217.5 1366.33 Q223.31 1366.33 226.366 1370.94 Q229.445 1375.52 229.445 1384.27 Q229.445 1393 226.366 1397.61 Q223.31 1402.19 217.5 1402.19 Q211.69 1402.19 208.612 1397.61 Q205.556 1393 205.556 1384.27 Q205.556 1375.52 208.612 1370.94 Q211.69 1366.33 217.5 1366.33 Z\" fill=\"#000000\" fill-rule=\"evenodd\" fill-opacity=\"1\" /><path clip-path=\"url(#clip490)\" d=\"M117.825 1114.29 L125.464 1114.29 L125.464 1087.92 L117.154 1089.59 L117.154 1085.33 L125.418 1083.66 L130.093 1083.66 L130.093 1114.29 L137.732 1114.29 L137.732 1118.22 L117.825 1118.22 L117.825 1114.29 Z\" fill=\"#000000\" fill-rule=\"evenodd\" fill-opacity=\"1\" /><path clip-path=\"url(#clip490)\" d=\"M157.177 1086.74 Q153.566 1086.74 151.737 1090.31 Q149.931 1093.85 149.931 1100.98 Q149.931 1108.09 151.737 1111.65 Q153.566 1115.19 157.177 1115.19 Q160.811 1115.19 162.616 1111.65 Q164.445 1108.09 164.445 1100.98 Q164.445 1093.85 162.616 1090.31 Q160.811 1086.74 157.177 1086.74 M157.177 1083.04 Q162.987 1083.04 166.042 1087.65 Q169.121 1092.23 169.121 1100.98 Q169.121 1109.71 166.042 1114.31 Q162.987 1118.9 157.177 1118.9 Q151.366 1118.9 148.288 1114.31 Q145.232 1109.71 145.232 1100.98 Q145.232 1092.23 148.288 1087.65 Q151.366 1083.04 157.177 1083.04 Z\" fill=\"#000000\" fill-rule=\"evenodd\" fill-opacity=\"1\" /><path clip-path=\"url(#clip490)\" d=\"M187.338 1086.74 Q183.727 1086.74 181.899 1090.31 Q180.093 1093.85 180.093 1100.98 Q180.093 1108.09 181.899 1111.65 Q183.727 1115.19 187.338 1115.19 Q190.973 1115.19 192.778 1111.65 Q194.607 1108.09 194.607 1100.98 Q194.607 1093.85 192.778 1090.31 Q190.973 1086.74 187.338 1086.74 M187.338 1083.04 Q193.149 1083.04 196.204 1087.65 Q199.283 1092.23 199.283 1100.98 Q199.283 1109.71 196.204 1114.31 Q193.149 1118.9 187.338 1118.9 Q181.528 1118.9 178.45 1114.31 Q175.394 1109.71 175.394 1100.98 Q175.394 1092.23 178.45 1087.65 Q181.528 1083.04 187.338 1083.04 Z\" fill=\"#000000\" fill-rule=\"evenodd\" fill-opacity=\"1\" /><path clip-path=\"url(#clip490)\" d=\"M217.5 1086.74 Q213.889 1086.74 212.061 1090.31 Q210.255 1093.85 210.255 1100.98 Q210.255 1108.09 212.061 1111.65 Q213.889 1115.19 217.5 1115.19 Q221.135 1115.19 222.94 1111.65 Q224.769 1108.09 224.769 1100.98 Q224.769 1093.85 222.94 1090.31 Q221.135 1086.74 217.5 1086.74 M217.5 1083.04 Q223.31 1083.04 226.366 1087.65 Q229.445 1092.23 229.445 1100.98 Q229.445 1109.71 226.366 1114.31 Q223.31 1118.9 217.5 1118.9 Q211.69 1118.9 208.612 1114.31 Q205.556 1109.71 205.556 1100.98 Q205.556 1092.23 208.612 1087.65 Q211.69 1083.04 217.5 1083.04 Z\" fill=\"#000000\" fill-rule=\"evenodd\" fill-opacity=\"1\" /><path clip-path=\"url(#clip490)\" d=\"M121.043 830.995 L137.362 830.995 L137.362 834.93 L115.418 834.93 L115.418 830.995 Q118.08 828.241 122.663 823.611 Q127.269 818.958 128.45 817.616 Q130.695 815.093 131.575 813.357 Q132.478 811.597 132.478 809.907 Q132.478 807.153 130.533 805.417 Q128.612 803.681 125.51 803.681 Q123.311 803.681 120.857 804.445 Q118.427 805.208 115.649 806.759 L115.649 802.037 Q118.473 800.903 120.927 800.324 Q123.38 799.745 125.418 799.745 Q130.788 799.745 133.982 802.431 Q137.177 805.116 137.177 809.607 Q137.177 811.736 136.367 813.657 Q135.579 815.556 133.473 818.148 Q132.894 818.819 129.792 822.037 Q126.691 825.231 121.043 830.995 Z\" fill=\"#000000\" fill-rule=\"evenodd\" fill-opacity=\"1\" /><path clip-path=\"url(#clip490)\" d=\"M157.177 803.449 Q153.566 803.449 151.737 807.014 Q149.931 810.556 149.931 817.685 Q149.931 824.792 151.737 828.356 Q153.566 831.898 157.177 831.898 Q160.811 831.898 162.616 828.356 Q164.445 824.792 164.445 817.685 Q164.445 810.556 162.616 807.014 Q160.811 803.449 157.177 803.449 M157.177 799.745 Q162.987 799.745 166.042 804.352 Q169.121 808.935 169.121 817.685 Q169.121 826.412 166.042 831.018 Q162.987 835.602 157.177 835.602 Q151.366 835.602 148.288 831.018 Q145.232 826.412 145.232 817.685 Q145.232 808.935 148.288 804.352 Q151.366 799.745 157.177 799.745 Z\" fill=\"#000000\" fill-rule=\"evenodd\" fill-opacity=\"1\" /><path clip-path=\"url(#clip490)\" d=\"M187.338 803.449 Q183.727 803.449 181.899 807.014 Q180.093 810.556 180.093 817.685 Q180.093 824.792 181.899 828.356 Q183.727 831.898 187.338 831.898 Q190.973 831.898 192.778 828.356 Q194.607 824.792 194.607 817.685 Q194.607 810.556 192.778 807.014 Q190.973 803.449 187.338 803.449 M187.338 799.745 Q193.149 799.745 196.204 804.352 Q199.283 808.935 199.283 817.685 Q199.283 826.412 196.204 831.018 Q193.149 835.602 187.338 835.602 Q181.528 835.602 178.45 831.018 Q175.394 826.412 175.394 817.685 Q175.394 808.935 178.45 804.352 Q181.528 799.745 187.338 799.745 Z\" fill=\"#000000\" fill-rule=\"evenodd\" fill-opacity=\"1\" /><path clip-path=\"url(#clip490)\" d=\"M217.5 803.449 Q213.889 803.449 212.061 807.014 Q210.255 810.556 210.255 817.685 Q210.255 824.792 212.061 828.356 Q213.889 831.898 217.5 831.898 Q221.135 831.898 222.94 828.356 Q224.769 824.792 224.769 817.685 Q224.769 810.556 222.94 807.014 Q221.135 803.449 217.5 803.449 M217.5 799.745 Q223.31 799.745 226.366 804.352 Q229.445 808.935 229.445 817.685 Q229.445 826.412 226.366 831.018 Q223.31 835.602 217.5 835.602 Q211.69 835.602 208.612 831.018 Q205.556 826.412 205.556 817.685 Q205.556 808.935 208.612 804.352 Q211.69 799.745 217.5 799.745 Z\" fill=\"#000000\" fill-rule=\"evenodd\" fill-opacity=\"1\" /><path clip-path=\"url(#clip490)\" d=\"M131.181 533.002 Q134.538 533.72 136.413 535.989 Q138.311 538.257 138.311 541.59 Q138.311 546.706 134.792 549.507 Q131.274 552.308 124.793 552.308 Q122.617 552.308 120.302 551.868 Q118.01 551.451 115.556 550.595 L115.556 546.081 Q117.501 547.215 119.816 547.794 Q122.13 548.373 124.654 548.373 Q129.052 548.373 131.343 546.637 Q133.658 544.901 133.658 541.59 Q133.658 538.535 131.505 536.822 Q129.376 535.086 125.556 535.086 L121.529 535.086 L121.529 531.243 L125.742 531.243 Q129.191 531.243 131.019 529.877 Q132.848 528.489 132.848 525.896 Q132.848 523.234 130.95 521.822 Q129.075 520.387 125.556 520.387 Q123.635 520.387 121.436 520.803 Q119.237 521.22 116.598 522.1 L116.598 517.933 Q119.26 517.192 121.575 516.822 Q123.913 516.452 125.973 516.452 Q131.297 516.452 134.399 518.882 Q137.501 521.29 137.501 525.41 Q137.501 528.28 135.857 530.271 Q134.214 532.239 131.181 533.002 Z\" fill=\"#000000\" fill-rule=\"evenodd\" fill-opacity=\"1\" /><path clip-path=\"url(#clip490)\" d=\"M157.177 520.155 Q153.566 520.155 151.737 523.72 Q149.931 527.262 149.931 534.391 Q149.931 541.498 151.737 545.063 Q153.566 548.604 157.177 548.604 Q160.811 548.604 162.616 545.063 Q164.445 541.498 164.445 534.391 Q164.445 527.262 162.616 523.72 Q160.811 520.155 157.177 520.155 M157.177 516.452 Q162.987 516.452 166.042 521.058 Q169.121 525.641 169.121 534.391 Q169.121 543.118 166.042 547.725 Q162.987 552.308 157.177 552.308 Q151.366 552.308 148.288 547.725 Q145.232 543.118 145.232 534.391 Q145.232 525.641 148.288 521.058 Q151.366 516.452 157.177 516.452 Z\" fill=\"#000000\" fill-rule=\"evenodd\" fill-opacity=\"1\" /><path clip-path=\"url(#clip490)\" d=\"M187.338 520.155 Q183.727 520.155 181.899 523.72 Q180.093 527.262 180.093 534.391 Q180.093 541.498 181.899 545.063 Q183.727 548.604 187.338 548.604 Q190.973 548.604 192.778 545.063 Q194.607 541.498 194.607 534.391 Q194.607 527.262 192.778 523.72 Q190.973 520.155 187.338 520.155 M187.338 516.452 Q193.149 516.452 196.204 521.058 Q199.283 525.641 199.283 534.391 Q199.283 543.118 196.204 547.725 Q193.149 552.308 187.338 552.308 Q181.528 552.308 178.45 547.725 Q175.394 543.118 175.394 534.391 Q175.394 525.641 178.45 521.058 Q181.528 516.452 187.338 516.452 Z\" fill=\"#000000\" fill-rule=\"evenodd\" fill-opacity=\"1\" /><path clip-path=\"url(#clip490)\" d=\"M217.5 520.155 Q213.889 520.155 212.061 523.72 Q210.255 527.262 210.255 534.391 Q210.255 541.498 212.061 545.063 Q213.889 548.604 217.5 548.604 Q221.135 548.604 222.94 545.063 Q224.769 541.498 224.769 534.391 Q224.769 527.262 222.94 523.72 Q221.135 520.155 217.5 520.155 M217.5 516.452 Q223.31 516.452 226.366 521.058 Q229.445 525.641 229.445 534.391 Q229.445 543.118 226.366 547.725 Q223.31 552.308 217.5 552.308 Q211.69 552.308 208.612 547.725 Q205.556 543.118 205.556 534.391 Q205.556 525.641 208.612 521.058 Q211.69 516.452 217.5 516.452 Z\" fill=\"#000000\" fill-rule=\"evenodd\" fill-opacity=\"1\" /><path clip-path=\"url(#clip490)\" d=\"M129.862 237.857 L118.056 256.306 L129.862 256.306 L129.862 237.857 M128.635 233.783 L134.515 233.783 L134.515 256.306 L139.445 256.306 L139.445 260.195 L134.515 260.195 L134.515 268.343 L129.862 268.343 L129.862 260.195 L114.26 260.195 L114.26 255.681 L128.635 233.783 Z\" fill=\"#000000\" fill-rule=\"evenodd\" fill-opacity=\"1\" /><path clip-path=\"url(#clip490)\" d=\"M157.177 236.861 Q153.566 236.861 151.737 240.426 Q149.931 243.968 149.931 251.097 Q149.931 258.204 151.737 261.769 Q153.566 265.31 157.177 265.31 Q160.811 265.31 162.616 261.769 Q164.445 258.204 164.445 251.097 Q164.445 243.968 162.616 240.426 Q160.811 236.861 157.177 236.861 M157.177 233.158 Q162.987 233.158 166.042 237.764 Q169.121 242.347 169.121 251.097 Q169.121 259.824 166.042 264.431 Q162.987 269.014 157.177 269.014 Q151.366 269.014 148.288 264.431 Q145.232 259.824 145.232 251.097 Q145.232 242.347 148.288 237.764 Q151.366 233.158 157.177 233.158 Z\" fill=\"#000000\" fill-rule=\"evenodd\" fill-opacity=\"1\" /><path clip-path=\"url(#clip490)\" d=\"M187.338 236.861 Q183.727 236.861 181.899 240.426 Q180.093 243.968 180.093 251.097 Q180.093 258.204 181.899 261.769 Q183.727 265.31 187.338 265.31 Q190.973 265.31 192.778 261.769 Q194.607 258.204 194.607 251.097 Q194.607 243.968 192.778 240.426 Q190.973 236.861 187.338 236.861 M187.338 233.158 Q193.149 233.158 196.204 237.764 Q199.283 242.347 199.283 251.097 Q199.283 259.824 196.204 264.431 Q193.149 269.014 187.338 269.014 Q181.528 269.014 178.45 264.431 Q175.394 259.824 175.394 251.097 Q175.394 242.347 178.45 237.764 Q181.528 233.158 187.338 233.158 Z\" fill=\"#000000\" fill-rule=\"evenodd\" fill-opacity=\"1\" /><path clip-path=\"url(#clip490)\" d=\"M217.5 236.861 Q213.889 236.861 212.061 240.426 Q210.255 243.968 210.255 251.097 Q210.255 258.204 212.061 261.769 Q213.889 265.31 217.5 265.31 Q221.135 265.31 222.94 261.769 Q224.769 258.204 224.769 251.097 Q224.769 243.968 222.94 240.426 Q221.135 236.861 217.5 236.861 M217.5 233.158 Q223.31 233.158 226.366 237.764 Q229.445 242.347 229.445 251.097 Q229.445 259.824 226.366 264.431 Q223.31 269.014 217.5 269.014 Q211.69 269.014 208.612 264.431 Q205.556 259.824 205.556 251.097 Q205.556 242.347 208.612 237.764 Q211.69 233.158 217.5 233.158 Z\" fill=\"#000000\" fill-rule=\"evenodd\" fill-opacity=\"1\" /><path clip-path=\"url(#clip490)\" d=\"M35.3266 923.828 L35.3266 933.09 L45.9574 935.764 L45.9574 926.438 L35.3266 923.828 M17.2162 928.602 L30.4251 931.912 L30.4251 922.618 L17.2162 919.276 L17.2162 914.184 L30.4251 917.462 L30.4251 907.532 L35.3266 907.532 L35.3266 918.703 L45.9574 921.313 L45.9574 911.192 L50.8271 911.192 L50.8271 922.555 L64.0042 925.865 L64.0042 930.957 L50.8271 927.679 L50.8271 937.005 L64.0042 940.283 L64.0042 945.408 L50.8271 942.097 L50.8271 952.123 L45.9574 952.123 L45.9574 940.92 L35.3266 938.246 L35.3266 948.495 L30.4251 948.495 L30.4251 937.005 L17.2162 933.758 L17.2162 928.602 Z\" fill=\"#000000\" fill-rule=\"evenodd\" fill-opacity=\"1\" /><path clip-path=\"url(#clip490)\" d=\"M32.4621 861.858 Q32.4621 866.568 36.1542 869.306 Q39.8145 872.043 46.212 872.043 Q52.6095 872.043 56.3017 869.337 Q59.9619 866.6 59.9619 861.858 Q59.9619 857.179 56.2698 854.442 Q52.5777 851.704 46.212 851.704 Q39.8781 851.704 36.186 854.442 Q32.4621 857.179 32.4621 861.858 M27.4968 861.858 Q27.4968 854.219 32.4621 849.858 Q37.4273 845.498 46.212 845.498 Q54.9649 845.498 59.9619 849.858 Q64.9272 854.219 64.9272 861.858 Q64.9272 869.528 59.9619 873.889 Q54.9649 878.218 46.212 878.218 Q37.4273 878.218 32.4621 873.889 Q27.4968 869.528 27.4968 861.858 Z\" fill=\"#000000\" fill-rule=\"evenodd\" fill-opacity=\"1\" /><path clip-path=\"url(#clip490)\" d=\"M14.479 817.743 L19.3487 817.743 L19.3487 823.345 Q19.3487 826.496 20.6219 827.738 Q21.895 828.947 25.2052 828.947 L28.3562 828.947 L28.3562 819.303 L32.9077 819.303 L32.9077 828.947 L64.0042 828.947 L64.0042 834.835 L32.9077 834.835 L32.9077 840.437 L28.3562 840.437 L28.3562 834.835 L25.8736 834.835 Q19.9216 834.835 17.2162 832.066 Q14.479 829.297 14.479 823.282 L14.479 817.743 Z\" fill=\"#000000\" fill-rule=\"evenodd\" fill-opacity=\"1\" /><path clip-path=\"url(#clip490)\" d=\"M29.4065 769.396 L34.9447 769.396 Q33.6716 771.878 33.035 774.552 Q32.3984 777.226 32.3984 780.09 Q32.3984 784.451 33.7352 786.647 Q35.072 788.811 37.7456 788.811 Q39.7826 788.811 40.9603 787.252 Q42.1061 785.692 43.1565 780.981 L43.6021 778.976 Q44.9389 772.738 47.3897 770.128 Q49.8086 767.486 54.1691 767.486 Q59.1344 767.486 62.0308 771.433 Q64.9272 775.348 64.9272 782.223 Q64.9272 785.087 64.3543 788.206 Q63.8132 791.294 62.6992 794.731 L56.6518 794.731 Q58.3387 791.485 59.198 788.334 Q60.0256 785.183 60.0256 782.095 Q60.0256 777.958 58.6251 775.73 Q57.1929 773.502 54.6147 773.502 Q52.2276 773.502 50.9545 775.125 Q49.6813 776.716 48.5037 782.159 L48.0262 784.196 Q46.8804 789.639 44.5251 792.058 Q42.138 794.477 38.0002 794.477 Q32.9713 794.477 30.2341 790.912 Q27.4968 787.347 27.4968 780.79 Q27.4968 777.544 27.9743 774.679 Q28.4517 771.815 29.4065 769.396 Z\" fill=\"#000000\" fill-rule=\"evenodd\" fill-opacity=\"1\" /><path clip-path=\"url(#clip490)\" d=\"M18.2347 752.368 L28.3562 752.368 L28.3562 740.305 L32.9077 740.305 L32.9077 752.368 L52.2594 752.368 Q56.6199 752.368 57.8613 751.19 Q59.1026 749.98 59.1026 746.32 L59.1026 740.305 L64.0042 740.305 L64.0042 746.32 Q64.0042 753.1 61.4897 755.678 Q58.9434 758.256 52.2594 758.256 L32.9077 758.256 L32.9077 762.553 L28.3562 762.553 L28.3562 758.256 L18.2347 758.256 L18.2347 752.368 Z\" fill=\"#000000\" fill-rule=\"evenodd\" fill-opacity=\"1\" /><path clip-path=\"url(#clip490)\" d=\"M49.9359 733.207 L28.3562 733.207 L28.3562 727.35 L49.7131 727.35 Q54.7739 727.35 57.3202 725.377 Q59.8346 723.404 59.8346 719.457 Q59.8346 714.714 56.8109 711.977 Q53.7872 709.208 48.5673 709.208 L28.3562 709.208 L28.3562 703.352 L64.0042 703.352 L64.0042 709.208 L58.5296 709.208 Q61.7762 711.341 63.3676 714.173 Q64.9272 716.974 64.9272 720.698 Q64.9272 726.841 61.1078 730.024 Q57.2883 733.207 49.9359 733.207 M27.4968 718.47 L27.4968 718.47 Z\" fill=\"#000000\" fill-rule=\"evenodd\" fill-opacity=\"1\" /><path clip-path=\"url(#clip490)\" d=\"M33.7671 667.831 L14.479 667.831 L14.479 661.975 L64.0042 661.975 L64.0042 667.831 L58.657 667.831 Q61.8398 669.677 63.3994 672.51 Q64.9272 675.311 64.9272 679.257 Q64.9272 685.719 59.771 689.793 Q54.6147 693.835 46.212 693.835 Q37.8093 693.835 32.6531 689.793 Q27.4968 685.719 27.4968 679.257 Q27.4968 675.311 29.0564 672.51 Q30.5842 669.677 33.7671 667.831 M46.212 687.787 Q52.6732 687.787 56.3653 685.146 Q60.0256 682.472 60.0256 677.825 Q60.0256 673.178 56.3653 670.505 Q52.6732 667.831 46.212 667.831 Q39.7508 667.831 36.0905 670.505 Q32.3984 673.178 32.3984 677.825 Q32.3984 682.472 36.0905 685.146 Q39.7508 687.787 46.212 687.787 Z\" fill=\"#000000\" fill-rule=\"evenodd\" fill-opacity=\"1\" /><path clip-path=\"url(#clip490)\" d=\"M44.7161 619.42 L47.5806 619.42 L47.5806 646.347 Q53.6281 645.965 56.8109 642.718 Q59.9619 639.44 59.9619 633.615 Q59.9619 630.241 59.1344 627.09 Q58.3069 623.908 56.6518 620.788 L62.1899 620.788 Q63.5267 623.939 64.227 627.25 Q64.9272 630.56 64.9272 633.965 Q64.9272 642.495 59.9619 647.493 Q54.9967 652.458 46.5303 652.458 Q37.7774 652.458 32.6531 647.747 Q27.4968 643.005 27.4968 634.984 Q27.4968 627.791 32.1438 623.621 Q36.7589 619.42 44.7161 619.42 M42.9973 625.276 Q38.1912 625.34 35.3266 627.982 Q32.4621 630.592 32.4621 634.92 Q32.4621 639.822 35.2312 642.782 Q38.0002 645.71 43.0292 646.156 L42.9973 625.276 Z\" fill=\"#000000\" fill-rule=\"evenodd\" fill-opacity=\"1\" /><path clip-path=\"url(#clip490)\" d=\"M42.4881 580.175 L64.0042 580.175 L64.0042 586.032 L42.679 586.032 Q37.6183 586.032 35.1038 588.005 Q32.5894 589.978 32.5894 593.925 Q32.5894 598.668 35.6131 601.405 Q38.6368 604.142 43.8567 604.142 L64.0042 604.142 L64.0042 610.03 L28.3562 610.03 L28.3562 604.142 L33.8944 604.142 Q30.6797 602.041 29.0883 599.209 Q27.4968 596.344 27.4968 592.62 Q27.4968 586.477 31.3163 583.326 Q35.1038 580.175 42.4881 580.175 Z\" fill=\"#000000\" fill-rule=\"evenodd\" fill-opacity=\"1\" /><path clip-path=\"url(#clip490)\" d=\"M18.2347 562.701 L28.3562 562.701 L28.3562 550.638 L32.9077 550.638 L32.9077 562.701 L52.2594 562.701 Q56.6199 562.701 57.8613 561.524 Q59.1026 560.314 59.1026 556.654 L59.1026 550.638 L64.0042 550.638 L64.0042 556.654 Q64.0042 563.433 61.4897 566.011 Q58.9434 568.59 52.2594 568.59 L32.9077 568.59 L32.9077 572.886 L28.3562 572.886 L28.3562 568.59 L18.2347 568.59 L18.2347 562.701 Z\" fill=\"#000000\" fill-rule=\"evenodd\" fill-opacity=\"1\" /><path clip-path=\"url(#clip490)\" d=\"M29.4065 520.21 L34.9447 520.21 Q33.6716 522.693 33.035 525.366 Q32.3984 528.04 32.3984 530.905 Q32.3984 535.265 33.7352 537.461 Q35.072 539.626 37.7456 539.626 Q39.7826 539.626 40.9603 538.066 Q42.1061 536.506 43.1565 531.796 L43.6021 529.791 Q44.9389 523.552 47.3897 520.942 Q49.8086 518.301 54.1691 518.301 Q59.1344 518.301 62.0308 522.247 Q64.9272 526.162 64.9272 533.037 Q64.9272 535.902 64.3543 539.021 Q63.8132 542.108 62.6992 545.546 L56.6518 545.546 Q58.3387 542.299 59.198 539.148 Q60.0256 535.997 60.0256 532.91 Q60.0256 528.772 58.6251 526.544 Q57.1929 524.316 54.6147 524.316 Q52.2276 524.316 50.9545 525.939 Q49.6813 527.531 48.5037 532.973 L48.0262 535.01 Q46.8804 540.453 44.5251 542.872 Q42.138 545.291 38.0002 545.291 Q32.9713 545.291 30.2341 541.726 Q27.4968 538.162 27.4968 531.605 Q27.4968 528.358 27.9743 525.494 Q28.4517 522.629 29.4065 520.21 Z\" fill=\"#000000\" fill-rule=\"evenodd\" fill-opacity=\"1\" /><path clip-path=\"url(#clip492)\" d=\"\n",
       "M380.251 1381.12 L380.251 1384.24 L442.174 1384.24 L442.174 1381.12 L380.251 1381.12 L380.251 1381.12  Z\n",
       "  \" fill=\"#009af9\" fill-rule=\"evenodd\" fill-opacity=\"1\"/>\n",
       "<polyline clip-path=\"url(#clip492)\" style=\"stroke:#000000; stroke-linecap:butt; stroke-linejoin:round; stroke-width:4; stroke-opacity:1; fill:none\" points=\"\n",
       "  380.251,1381.12 380.251,1384.24 442.174,1384.24 442.174,1381.12 380.251,1381.12 \n",
       "  \"/>\n",
       "<path clip-path=\"url(#clip492)\" d=\"\n",
       "M442.174 151.627 L442.174 1384.24 L504.097 1384.24 L504.097 151.627 L442.174 151.627 L442.174 151.627  Z\n",
       "  \" fill=\"#009af9\" fill-rule=\"evenodd\" fill-opacity=\"1\"/>\n",
       "<polyline clip-path=\"url(#clip492)\" style=\"stroke:#000000; stroke-linecap:butt; stroke-linejoin:round; stroke-width:4; stroke-opacity:1; fill:none\" points=\"\n",
       "  442.174,151.627 442.174,1384.24 504.097,1384.24 504.097,151.627 442.174,151.627 \n",
       "  \"/>\n",
       "<path clip-path=\"url(#clip492)\" d=\"\n",
       "M504.097 86.1857 L504.097 1384.24 L566.021 1384.24 L566.021 86.1857 L504.097 86.1857 L504.097 86.1857  Z\n",
       "  \" fill=\"#009af9\" fill-rule=\"evenodd\" fill-opacity=\"1\"/>\n",
       "<polyline clip-path=\"url(#clip492)\" style=\"stroke:#000000; stroke-linecap:butt; stroke-linejoin:round; stroke-width:4; stroke-opacity:1; fill:none\" points=\"\n",
       "  504.097,86.1857 504.097,1384.24 566.021,1384.24 566.021,86.1857 504.097,86.1857 \n",
       "  \"/>\n",
       "<path clip-path=\"url(#clip492)\" d=\"\n",
       "M566.021 720.481 L566.021 1384.24 L627.944 1384.24 L627.944 720.481 L566.021 720.481 L566.021 720.481  Z\n",
       "  \" fill=\"#009af9\" fill-rule=\"evenodd\" fill-opacity=\"1\"/>\n",
       "<polyline clip-path=\"url(#clip492)\" style=\"stroke:#000000; stroke-linecap:butt; stroke-linejoin:round; stroke-width:4; stroke-opacity:1; fill:none\" points=\"\n",
       "  566.021,720.481 566.021,1384.24 627.944,1384.24 627.944,720.481 566.021,720.481 \n",
       "  \"/>\n",
       "<path clip-path=\"url(#clip492)\" d=\"\n",
       "M627.944 1259.02 L627.944 1384.24 L689.867 1384.24 L689.867 1259.02 L627.944 1259.02 L627.944 1259.02  Z\n",
       "  \" fill=\"#009af9\" fill-rule=\"evenodd\" fill-opacity=\"1\"/>\n",
       "<polyline clip-path=\"url(#clip492)\" style=\"stroke:#000000; stroke-linecap:butt; stroke-linejoin:round; stroke-width:4; stroke-opacity:1; fill:none\" points=\"\n",
       "  627.944,1259.02 627.944,1384.24 689.867,1384.24 689.867,1259.02 627.944,1259.02 \n",
       "  \"/>\n",
       "<path clip-path=\"url(#clip492)\" d=\"\n",
       "M689.867 1052.78 L689.867 1384.24 L751.79 1384.24 L751.79 1052.78 L689.867 1052.78 L689.867 1052.78  Z\n",
       "  \" fill=\"#009af9\" fill-rule=\"evenodd\" fill-opacity=\"1\"/>\n",
       "<polyline clip-path=\"url(#clip492)\" style=\"stroke:#000000; stroke-linecap:butt; stroke-linejoin:round; stroke-width:4; stroke-opacity:1; fill:none\" points=\"\n",
       "  689.867,1052.78 689.867,1384.24 751.79,1384.24 751.79,1052.78 689.867,1052.78 \n",
       "  \"/>\n",
       "<path clip-path=\"url(#clip492)\" d=\"\n",
       "M751.79 1298.12 L751.79 1384.24 L813.714 1384.24 L813.714 1298.12 L751.79 1298.12 L751.79 1298.12  Z\n",
       "  \" fill=\"#009af9\" fill-rule=\"evenodd\" fill-opacity=\"1\"/>\n",
       "<polyline clip-path=\"url(#clip492)\" style=\"stroke:#000000; stroke-linecap:butt; stroke-linejoin:round; stroke-width:4; stroke-opacity:1; fill:none\" points=\"\n",
       "  751.79,1298.12 751.79,1384.24 813.714,1384.24 813.714,1298.12 751.79,1298.12 \n",
       "  \"/>\n",
       "<path clip-path=\"url(#clip492)\" d=\"\n",
       "M813.714 1278.29 L813.714 1384.24 L875.637 1384.24 L875.637 1278.29 L813.714 1278.29 L813.714 1278.29  Z\n",
       "  \" fill=\"#009af9\" fill-rule=\"evenodd\" fill-opacity=\"1\"/>\n",
       "<polyline clip-path=\"url(#clip492)\" style=\"stroke:#000000; stroke-linecap:butt; stroke-linejoin:round; stroke-width:4; stroke-opacity:1; fill:none\" points=\"\n",
       "  813.714,1278.29 813.714,1384.24 875.637,1384.24 875.637,1278.29 813.714,1278.29 \n",
       "  \"/>\n",
       "<path clip-path=\"url(#clip492)\" d=\"\n",
       "M875.637 1218.23 L875.637 1384.24 L937.56 1384.24 L937.56 1218.23 L875.637 1218.23 L875.637 1218.23  Z\n",
       "  \" fill=\"#009af9\" fill-rule=\"evenodd\" fill-opacity=\"1\"/>\n",
       "<polyline clip-path=\"url(#clip492)\" style=\"stroke:#000000; stroke-linecap:butt; stroke-linejoin:round; stroke-width:4; stroke-opacity:1; fill:none\" points=\"\n",
       "  875.637,1218.23 875.637,1384.24 937.56,1384.24 937.56,1218.23 875.637,1218.23 \n",
       "  \"/>\n",
       "<path clip-path=\"url(#clip492)\" d=\"\n",
       "M937.56 1294.15 L937.56 1384.24 L999.484 1384.24 L999.484 1294.15 L937.56 1294.15 L937.56 1294.15  Z\n",
       "  \" fill=\"#009af9\" fill-rule=\"evenodd\" fill-opacity=\"1\"/>\n",
       "<polyline clip-path=\"url(#clip492)\" style=\"stroke:#000000; stroke-linecap:butt; stroke-linejoin:round; stroke-width:4; stroke-opacity:1; fill:none\" points=\"\n",
       "  937.56,1294.15 937.56,1384.24 999.484,1384.24 999.484,1294.15 937.56,1294.15 \n",
       "  \"/>\n",
       "<path clip-path=\"url(#clip492)\" d=\"\n",
       "M999.484 1381.12 L999.484 1384.24 L1061.41 1384.24 L1061.41 1381.12 L999.484 1381.12 L999.484 1381.12  Z\n",
       "  \" fill=\"#009af9\" fill-rule=\"evenodd\" fill-opacity=\"1\"/>\n",
       "<polyline clip-path=\"url(#clip492)\" style=\"stroke:#000000; stroke-linecap:butt; stroke-linejoin:round; stroke-width:4; stroke-opacity:1; fill:none\" points=\"\n",
       "  999.484,1381.12 999.484,1384.24 1061.41,1384.24 1061.41,1381.12 999.484,1381.12 \n",
       "  \"/>\n",
       "<path clip-path=\"url(#clip492)\" d=\"\n",
       "M1061.41 1297.27 L1061.41 1384.24 L1123.33 1384.24 L1123.33 1297.27 L1061.41 1297.27 L1061.41 1297.27  Z\n",
       "  \" fill=\"#009af9\" fill-rule=\"evenodd\" fill-opacity=\"1\"/>\n",
       "<polyline clip-path=\"url(#clip492)\" style=\"stroke:#000000; stroke-linecap:butt; stroke-linejoin:round; stroke-width:4; stroke-opacity:1; fill:none\" points=\"\n",
       "  1061.41,1297.27 1061.41,1384.24 1123.33,1384.24 1123.33,1297.27 1061.41,1297.27 \n",
       "  \"/>\n",
       "<path clip-path=\"url(#clip492)\" d=\"\n",
       "M1123.33 1380.27 L1123.33 1384.24 L1185.25 1384.24 L1185.25 1380.27 L1123.33 1380.27 L1123.33 1380.27  Z\n",
       "  \" fill=\"#009af9\" fill-rule=\"evenodd\" fill-opacity=\"1\"/>\n",
       "<polyline clip-path=\"url(#clip492)\" style=\"stroke:#000000; stroke-linecap:butt; stroke-linejoin:round; stroke-width:4; stroke-opacity:1; fill:none\" points=\"\n",
       "  1123.33,1380.27 1123.33,1384.24 1185.25,1384.24 1185.25,1380.27 1123.33,1380.27 \n",
       "  \"/>\n",
       "<path clip-path=\"url(#clip492)\" d=\"\n",
       "M1185.25 1384.24 L1185.25 1384.24 L1247.18 1384.24 L1247.18 1384.24 L1185.25 1384.24 L1185.25 1384.24  Z\n",
       "  \" fill=\"#009af9\" fill-rule=\"evenodd\" fill-opacity=\"1\"/>\n",
       "<polyline clip-path=\"url(#clip492)\" style=\"stroke:#000000; stroke-linecap:butt; stroke-linejoin:round; stroke-width:4; stroke-opacity:1; fill:none\" points=\"\n",
       "  1185.25,1384.24 1185.25,1384.24 1247.18,1384.24 1185.25,1384.24 \n",
       "  \"/>\n",
       "<path clip-path=\"url(#clip492)\" d=\"\n",
       "M1247.18 1258.74 L1247.18 1384.24 L1309.1 1384.24 L1309.1 1258.74 L1247.18 1258.74 L1247.18 1258.74  Z\n",
       "  \" fill=\"#009af9\" fill-rule=\"evenodd\" fill-opacity=\"1\"/>\n",
       "<polyline clip-path=\"url(#clip492)\" style=\"stroke:#000000; stroke-linecap:butt; stroke-linejoin:round; stroke-width:4; stroke-opacity:1; fill:none\" points=\"\n",
       "  1247.18,1258.74 1247.18,1384.24 1309.1,1384.24 1309.1,1258.74 1247.18,1258.74 \n",
       "  \"/>\n",
       "<path clip-path=\"url(#clip492)\" d=\"\n",
       "M1309.1 1360.72 L1309.1 1384.24 L1371.02 1384.24 L1371.02 1360.72 L1309.1 1360.72 L1309.1 1360.72  Z\n",
       "  \" fill=\"#009af9\" fill-rule=\"evenodd\" fill-opacity=\"1\"/>\n",
       "<polyline clip-path=\"url(#clip492)\" style=\"stroke:#000000; stroke-linecap:butt; stroke-linejoin:round; stroke-width:4; stroke-opacity:1; fill:none\" points=\"\n",
       "  1309.1,1360.72 1309.1,1384.24 1371.02,1384.24 1371.02,1360.72 1309.1,1360.72 \n",
       "  \"/>\n",
       "<path clip-path=\"url(#clip492)\" d=\"\n",
       "M1371.02 1358.46 L1371.02 1384.24 L1432.95 1384.24 L1432.95 1358.46 L1371.02 1358.46 L1371.02 1358.46  Z\n",
       "  \" fill=\"#009af9\" fill-rule=\"evenodd\" fill-opacity=\"1\"/>\n",
       "<polyline clip-path=\"url(#clip492)\" style=\"stroke:#000000; stroke-linecap:butt; stroke-linejoin:round; stroke-width:4; stroke-opacity:1; fill:none\" points=\"\n",
       "  1371.02,1358.46 1371.02,1384.24 1432.95,1384.24 1432.95,1358.46 1371.02,1358.46 \n",
       "  \"/>\n",
       "<path clip-path=\"url(#clip492)\" d=\"\n",
       "M1432.95 1346.28 L1432.95 1384.24 L1494.87 1384.24 L1494.87 1346.28 L1432.95 1346.28 L1432.95 1346.28  Z\n",
       "  \" fill=\"#009af9\" fill-rule=\"evenodd\" fill-opacity=\"1\"/>\n",
       "<polyline clip-path=\"url(#clip492)\" style=\"stroke:#000000; stroke-linecap:butt; stroke-linejoin:round; stroke-width:4; stroke-opacity:1; fill:none\" points=\"\n",
       "  1432.95,1346.28 1432.95,1384.24 1494.87,1384.24 1494.87,1346.28 1432.95,1346.28 \n",
       "  \"/>\n",
       "<path clip-path=\"url(#clip492)\" d=\"\n",
       "M1494.87 1377.16 L1494.87 1384.24 L1556.79 1384.24 L1556.79 1377.16 L1494.87 1377.16 L1494.87 1377.16  Z\n",
       "  \" fill=\"#009af9\" fill-rule=\"evenodd\" fill-opacity=\"1\"/>\n",
       "<polyline clip-path=\"url(#clip492)\" style=\"stroke:#000000; stroke-linecap:butt; stroke-linejoin:round; stroke-width:4; stroke-opacity:1; fill:none\" points=\"\n",
       "  1494.87,1377.16 1494.87,1384.24 1556.79,1384.24 1556.79,1377.16 1494.87,1377.16 \n",
       "  \"/>\n",
       "<path clip-path=\"url(#clip492)\" d=\"\n",
       "M1556.79 1384.24 L1556.79 1384.24 L1618.72 1384.24 L1618.72 1384.24 L1556.79 1384.24 L1556.79 1384.24  Z\n",
       "  \" fill=\"#009af9\" fill-rule=\"evenodd\" fill-opacity=\"1\"/>\n",
       "<polyline clip-path=\"url(#clip492)\" style=\"stroke:#000000; stroke-linecap:butt; stroke-linejoin:round; stroke-width:4; stroke-opacity:1; fill:none\" points=\"\n",
       "  1556.79,1384.24 1556.79,1384.24 1618.72,1384.24 1556.79,1384.24 \n",
       "  \"/>\n",
       "<path clip-path=\"url(#clip492)\" d=\"\n",
       "M1618.72 1384.24 L1618.72 1384.24 L1680.64 1384.24 L1680.64 1384.24 L1618.72 1384.24 L1618.72 1384.24  Z\n",
       "  \" fill=\"#009af9\" fill-rule=\"evenodd\" fill-opacity=\"1\"/>\n",
       "<polyline clip-path=\"url(#clip492)\" style=\"stroke:#000000; stroke-linecap:butt; stroke-linejoin:round; stroke-width:4; stroke-opacity:1; fill:none\" points=\"\n",
       "  1618.72,1384.24 1618.72,1384.24 1680.64,1384.24 1618.72,1384.24 \n",
       "  \"/>\n",
       "<path clip-path=\"url(#clip492)\" d=\"\n",
       "M1680.64 1384.24 L1680.64 1384.24 L1742.56 1384.24 L1742.56 1384.24 L1680.64 1384.24 L1680.64 1384.24  Z\n",
       "  \" fill=\"#009af9\" fill-rule=\"evenodd\" fill-opacity=\"1\"/>\n",
       "<polyline clip-path=\"url(#clip492)\" style=\"stroke:#000000; stroke-linecap:butt; stroke-linejoin:round; stroke-width:4; stroke-opacity:1; fill:none\" points=\"\n",
       "  1680.64,1384.24 1680.64,1384.24 1742.56,1384.24 1680.64,1384.24 \n",
       "  \"/>\n",
       "<path clip-path=\"url(#clip492)\" d=\"\n",
       "M1742.56 1359.31 L1742.56 1384.24 L1804.49 1384.24 L1804.49 1359.31 L1742.56 1359.31 L1742.56 1359.31  Z\n",
       "  \" fill=\"#009af9\" fill-rule=\"evenodd\" fill-opacity=\"1\"/>\n",
       "<polyline clip-path=\"url(#clip492)\" style=\"stroke:#000000; stroke-linecap:butt; stroke-linejoin:round; stroke-width:4; stroke-opacity:1; fill:none\" points=\"\n",
       "  1742.56,1359.31 1742.56,1384.24 1804.49,1384.24 1804.49,1359.31 1742.56,1359.31 \n",
       "  \"/>\n",
       "<path clip-path=\"url(#clip492)\" d=\"\n",
       "M1804.49 1384.24 L1804.49 1384.24 L1866.41 1384.24 L1866.41 1384.24 L1804.49 1384.24 L1804.49 1384.24  Z\n",
       "  \" fill=\"#009af9\" fill-rule=\"evenodd\" fill-opacity=\"1\"/>\n",
       "<polyline clip-path=\"url(#clip492)\" style=\"stroke:#000000; stroke-linecap:butt; stroke-linejoin:round; stroke-width:4; stroke-opacity:1; fill:none\" points=\"\n",
       "  1804.49,1384.24 1804.49,1384.24 1866.41,1384.24 1804.49,1384.24 \n",
       "  \"/>\n",
       "<path clip-path=\"url(#clip492)\" d=\"\n",
       "M1866.41 1384.24 L1866.41 1384.24 L1928.33 1384.24 L1928.33 1384.24 L1866.41 1384.24 L1866.41 1384.24  Z\n",
       "  \" fill=\"#009af9\" fill-rule=\"evenodd\" fill-opacity=\"1\"/>\n",
       "<polyline clip-path=\"url(#clip492)\" style=\"stroke:#000000; stroke-linecap:butt; stroke-linejoin:round; stroke-width:4; stroke-opacity:1; fill:none\" points=\"\n",
       "  1866.41,1384.24 1866.41,1384.24 1928.33,1384.24 1866.41,1384.24 \n",
       "  \"/>\n",
       "<path clip-path=\"url(#clip492)\" d=\"\n",
       "M1928.33 1384.24 L1928.33 1384.24 L1990.26 1384.24 L1990.26 1384.24 L1928.33 1384.24 L1928.33 1384.24  Z\n",
       "  \" fill=\"#009af9\" fill-rule=\"evenodd\" fill-opacity=\"1\"/>\n",
       "<polyline clip-path=\"url(#clip492)\" style=\"stroke:#000000; stroke-linecap:butt; stroke-linejoin:round; stroke-width:4; stroke-opacity:1; fill:none\" points=\"\n",
       "  1928.33,1384.24 1928.33,1384.24 1990.26,1384.24 1928.33,1384.24 \n",
       "  \"/>\n",
       "<path clip-path=\"url(#clip492)\" d=\"\n",
       "M1990.26 1384.24 L1990.26 1384.24 L2052.18 1384.24 L2052.18 1384.24 L1990.26 1384.24 L1990.26 1384.24  Z\n",
       "  \" fill=\"#009af9\" fill-rule=\"evenodd\" fill-opacity=\"1\"/>\n",
       "<polyline clip-path=\"url(#clip492)\" style=\"stroke:#000000; stroke-linecap:butt; stroke-linejoin:round; stroke-width:4; stroke-opacity:1; fill:none\" points=\"\n",
       "  1990.26,1384.24 1990.26,1384.24 2052.18,1384.24 1990.26,1384.24 \n",
       "  \"/>\n",
       "<path clip-path=\"url(#clip492)\" d=\"\n",
       "M2052.18 1384.24 L2052.18 1384.24 L2114.1 1384.24 L2114.1 1384.24 L2052.18 1384.24 L2052.18 1384.24  Z\n",
       "  \" fill=\"#009af9\" fill-rule=\"evenodd\" fill-opacity=\"1\"/>\n",
       "<polyline clip-path=\"url(#clip492)\" style=\"stroke:#000000; stroke-linecap:butt; stroke-linejoin:round; stroke-width:4; stroke-opacity:1; fill:none\" points=\"\n",
       "  2052.18,1384.24 2052.18,1384.24 2114.1,1384.24 2052.18,1384.24 \n",
       "  \"/>\n",
       "<path clip-path=\"url(#clip492)\" d=\"\n",
       "M2114.1 1384.24 L2114.1 1384.24 L2176.03 1384.24 L2176.03 1384.24 L2114.1 1384.24 L2114.1 1384.24  Z\n",
       "  \" fill=\"#009af9\" fill-rule=\"evenodd\" fill-opacity=\"1\"/>\n",
       "<polyline clip-path=\"url(#clip492)\" style=\"stroke:#000000; stroke-linecap:butt; stroke-linejoin:round; stroke-width:4; stroke-opacity:1; fill:none\" points=\"\n",
       "  2114.1,1384.24 2114.1,1384.24 2176.03,1384.24 2114.1,1384.24 \n",
       "  \"/>\n",
       "<path clip-path=\"url(#clip492)\" d=\"\n",
       "M2176.03 1323.05 L2176.03 1384.24 L2237.95 1384.24 L2237.95 1323.05 L2176.03 1323.05 L2176.03 1323.05  Z\n",
       "  \" fill=\"#009af9\" fill-rule=\"evenodd\" fill-opacity=\"1\"/>\n",
       "<polyline clip-path=\"url(#clip492)\" style=\"stroke:#000000; stroke-linecap:butt; stroke-linejoin:round; stroke-width:4; stroke-opacity:1; fill:none\" points=\"\n",
       "  2176.03,1323.05 2176.03,1384.24 2237.95,1384.24 2237.95,1323.05 2176.03,1323.05 \n",
       "  \"/>\n",
       "<circle clip-path=\"url(#clip492)\" style=\"fill:#009af9; stroke:none; fill-opacity:0\" cx=\"411.212\" cy=\"1381.12\" r=\"2\"/>\n",
       "<circle clip-path=\"url(#clip492)\" style=\"fill:#009af9; stroke:none; fill-opacity:0\" cx=\"473.136\" cy=\"151.627\" r=\"2\"/>\n",
       "<circle clip-path=\"url(#clip492)\" style=\"fill:#009af9; stroke:none; fill-opacity:0\" cx=\"535.059\" cy=\"86.1857\" r=\"2\"/>\n",
       "<circle clip-path=\"url(#clip492)\" style=\"fill:#009af9; stroke:none; fill-opacity:0\" cx=\"596.982\" cy=\"720.481\" r=\"2\"/>\n",
       "<circle clip-path=\"url(#clip492)\" style=\"fill:#009af9; stroke:none; fill-opacity:0\" cx=\"658.905\" cy=\"1259.02\" r=\"2\"/>\n",
       "<circle clip-path=\"url(#clip492)\" style=\"fill:#009af9; stroke:none; fill-opacity:0\" cx=\"720.829\" cy=\"1052.78\" r=\"2\"/>\n",
       "<circle clip-path=\"url(#clip492)\" style=\"fill:#009af9; stroke:none; fill-opacity:0\" cx=\"782.752\" cy=\"1298.12\" r=\"2\"/>\n",
       "<circle clip-path=\"url(#clip492)\" style=\"fill:#009af9; stroke:none; fill-opacity:0\" cx=\"844.675\" cy=\"1278.29\" r=\"2\"/>\n",
       "<circle clip-path=\"url(#clip492)\" style=\"fill:#009af9; stroke:none; fill-opacity:0\" cx=\"906.599\" cy=\"1218.23\" r=\"2\"/>\n",
       "<circle clip-path=\"url(#clip492)\" style=\"fill:#009af9; stroke:none; fill-opacity:0\" cx=\"968.522\" cy=\"1294.15\" r=\"2\"/>\n",
       "<circle clip-path=\"url(#clip492)\" style=\"fill:#009af9; stroke:none; fill-opacity:0\" cx=\"1030.45\" cy=\"1381.12\" r=\"2\"/>\n",
       "<circle clip-path=\"url(#clip492)\" style=\"fill:#009af9; stroke:none; fill-opacity:0\" cx=\"1092.37\" cy=\"1297.27\" r=\"2\"/>\n",
       "<circle clip-path=\"url(#clip492)\" style=\"fill:#009af9; stroke:none; fill-opacity:0\" cx=\"1154.29\" cy=\"1380.27\" r=\"2\"/>\n",
       "<circle clip-path=\"url(#clip492)\" style=\"fill:#009af9; stroke:none; fill-opacity:0\" cx=\"1216.22\" cy=\"1384.24\" r=\"2\"/>\n",
       "<circle clip-path=\"url(#clip492)\" style=\"fill:#009af9; stroke:none; fill-opacity:0\" cx=\"1278.14\" cy=\"1258.74\" r=\"2\"/>\n",
       "<circle clip-path=\"url(#clip492)\" style=\"fill:#009af9; stroke:none; fill-opacity:0\" cx=\"1340.06\" cy=\"1360.72\" r=\"2\"/>\n",
       "<circle clip-path=\"url(#clip492)\" style=\"fill:#009af9; stroke:none; fill-opacity:0\" cx=\"1401.99\" cy=\"1358.46\" r=\"2\"/>\n",
       "<circle clip-path=\"url(#clip492)\" style=\"fill:#009af9; stroke:none; fill-opacity:0\" cx=\"1463.91\" cy=\"1346.28\" r=\"2\"/>\n",
       "<circle clip-path=\"url(#clip492)\" style=\"fill:#009af9; stroke:none; fill-opacity:0\" cx=\"1525.83\" cy=\"1377.16\" r=\"2\"/>\n",
       "<circle clip-path=\"url(#clip492)\" style=\"fill:#009af9; stroke:none; fill-opacity:0\" cx=\"1587.76\" cy=\"1384.24\" r=\"2\"/>\n",
       "<circle clip-path=\"url(#clip492)\" style=\"fill:#009af9; stroke:none; fill-opacity:0\" cx=\"1649.68\" cy=\"1384.24\" r=\"2\"/>\n",
       "<circle clip-path=\"url(#clip492)\" style=\"fill:#009af9; stroke:none; fill-opacity:0\" cx=\"1711.6\" cy=\"1384.24\" r=\"2\"/>\n",
       "<circle clip-path=\"url(#clip492)\" style=\"fill:#009af9; stroke:none; fill-opacity:0\" cx=\"1773.53\" cy=\"1359.31\" r=\"2\"/>\n",
       "<circle clip-path=\"url(#clip492)\" style=\"fill:#009af9; stroke:none; fill-opacity:0\" cx=\"1835.45\" cy=\"1384.24\" r=\"2\"/>\n",
       "<circle clip-path=\"url(#clip492)\" style=\"fill:#009af9; stroke:none; fill-opacity:0\" cx=\"1897.37\" cy=\"1384.24\" r=\"2\"/>\n",
       "<circle clip-path=\"url(#clip492)\" style=\"fill:#009af9; stroke:none; fill-opacity:0\" cx=\"1959.3\" cy=\"1384.24\" r=\"2\"/>\n",
       "<circle clip-path=\"url(#clip492)\" style=\"fill:#009af9; stroke:none; fill-opacity:0\" cx=\"2021.22\" cy=\"1384.24\" r=\"2\"/>\n",
       "<circle clip-path=\"url(#clip492)\" style=\"fill:#009af9; stroke:none; fill-opacity:0\" cx=\"2083.14\" cy=\"1384.24\" r=\"2\"/>\n",
       "<circle clip-path=\"url(#clip492)\" style=\"fill:#009af9; stroke:none; fill-opacity:0\" cx=\"2145.07\" cy=\"1384.24\" r=\"2\"/>\n",
       "<circle clip-path=\"url(#clip492)\" style=\"fill:#009af9; stroke:none; fill-opacity:0\" cx=\"2206.99\" cy=\"1323.05\" r=\"2\"/>\n",
       "</svg>\n"
      ]
     },
     "execution_count": 8,
     "metadata": {},
     "output_type": "execute_result"
    }
   ],
   "source": [
    "X = Array{Integer,1}() # curricular complexity score of program\n",
    "Y = Array{Bool,1}() # did student graduate within 4 years?\n",
    "Z = Array{Bool,1}() # did student graduate within 6 years?\n",
    "for row in eachrow(df)\n",
    "  for t in 1:row[\"four\"] \n",
    "    push!(X, row[\"complexity_score\"])\n",
    "    push!(Y, 1); push!(Z, 1)\n",
    "  end\n",
    "  s = row[\"total_degrees_awarded\"] - row[\"six\"]\n",
    "  for t in 1:(row[\"total_degrees_awarded\"] - row[\"four\"])\n",
    "    push!(X, row[\"complexity_score\"])\n",
    "    push!(Y, 0)\n",
    "    s > 0 ? (push!(Z, 1); s=s-1) : push!(Z, 0)\n",
    "  end\n",
    "end\n",
    "df_binary = DataFrame(Program_Complexity = X, grad4 = Y, grad6 = Z);\n",
    "histogram(X, nbins=50, xlabel=\"Program Complexity\", ylabel=\"# of students\", label=\"\")"
   ]
  },
  {
   "cell_type": "code",
   "execution_count": 9,
   "metadata": {},
   "outputs": [
    {
     "data": {
      "text/plain": [
       "StatsModels.TableRegressionModel{GeneralizedLinearModel{GLM.GlmResp{Vector{Float64}, Binomial{Float64}, ProbitLink}, GLM.DensePredChol{Float64, LinearAlgebra.Cholesky{Float64, Matrix{Float64}}}}, Matrix{Float64}}\n",
       "\n",
       "grad4 ~ 1 + Program_Complexity\n",
       "\n",
       "Coefficients:\n",
       "────────────────────────────────────────────────────────────────────────────────────────\n",
       "                          Coef.   Std. Error      z  Pr(>|z|)    Lower 95%     Upper 95%\n",
       "────────────────────────────────────────────────────────────────────────────────────────\n",
       "(Intercept)          0.654872    0.0158034    41.44    <1e-99   0.623898     0.685846\n",
       "Program_Complexity  -0.00070069  0.000106431  -6.58    <1e-10  -0.00090929  -0.000492089\n",
       "────────────────────────────────────────────────────────────────────────────────────────"
      ]
     },
     "execution_count": 9,
     "metadata": {},
     "output_type": "execute_result"
    }
   ],
   "source": [
    "probit4 = glm(@formula(grad4 ~ Program_Complexity), df_binary, Binomial(), ProbitLink())"
   ]
  },
  {
   "cell_type": "code",
   "execution_count": 10,
   "metadata": {},
   "outputs": [
    {
     "data": {
      "text/plain": [
       "StatsModels.TableRegressionModel{GeneralizedLinearModel{GLM.GlmResp{Vector{Float64}, Binomial{Float64}, ProbitLink}, GLM.DensePredChol{Float64, LinearAlgebra.Cholesky{Float64, Matrix{Float64}}}}, Matrix{Float64}}\n",
       "\n",
       "grad6 ~ 1 + Program_Complexity\n",
       "\n",
       "Coefficients:\n",
       "────────────────────────────────────────────────────────────────────────────────────────\n",
       "                           Coef.   Std. Error      z  Pr(>|z|)    Lower 95%    Upper 95%\n",
       "────────────────────────────────────────────────────────────────────────────────────────\n",
       "(Intercept)          0.844203     0.0164467    51.33    <1e-99   0.811968     0.876438\n",
       "Program_Complexity  -0.000841272  0.000108972  -7.72    <1e-13  -0.00105485  -0.00062769\n",
       "────────────────────────────────────────────────────────────────────────────────────────"
      ]
     },
     "execution_count": 10,
     "metadata": {},
     "output_type": "execute_result"
    }
   ],
   "source": [
    "probit6 = glm(@formula(grad6 ~ Program_Complexity), df_binary, Binomial(), ProbitLink())"
   ]
  },
  {
   "cell_type": "code",
   "execution_count": 11,
   "metadata": {},
   "outputs": [
    {
     "data": {
      "image/svg+xml": [
       "<?xml version=\"1.0\" encoding=\"utf-8\"?>\n",
       "<svg xmlns=\"http://www.w3.org/2000/svg\" xmlns:xlink=\"http://www.w3.org/1999/xlink\" width=\"600\" height=\"400\" viewBox=\"0 0 2400 1600\">\n",
       "<defs>\n",
       "  <clipPath id=\"clip530\">\n",
       "    <rect x=\"0\" y=\"0\" width=\"2400\" height=\"1600\"/>\n",
       "  </clipPath>\n",
       "</defs>\n",
       "<path clip-path=\"url(#clip530)\" d=\"\n",
       "M0 1600 L2400 1600 L2400 0 L0 0  Z\n",
       "  \" fill=\"#ffffff\" fill-rule=\"evenodd\" fill-opacity=\"1\"/>\n",
       "<defs>\n",
       "  <clipPath id=\"clip531\">\n",
       "    <rect x=\"480\" y=\"0\" width=\"1681\" height=\"1600\"/>\n",
       "  </clipPath>\n",
       "</defs>\n",
       "<path clip-path=\"url(#clip530)\" d=\"\n",
       "M186.274 1486.45 L2352.76 1486.45 L2352.76 123.472 L186.274 123.472  Z\n",
       "  \" fill=\"#ffffff\" fill-rule=\"evenodd\" fill-opacity=\"1\"/>\n",
       "<defs>\n",
       "  <clipPath id=\"clip532\">\n",
       "    <rect x=\"186\" y=\"123\" width=\"2167\" height=\"1364\"/>\n",
       "  </clipPath>\n",
       "</defs>\n",
       "<polyline clip-path=\"url(#clip532)\" style=\"stroke:#000000; stroke-linecap:butt; stroke-linejoin:round; stroke-width:2; stroke-opacity:0.1; fill:none\" points=\"\n",
       "  247.59,1486.45 247.59,123.472 \n",
       "  \"/>\n",
       "<polyline clip-path=\"url(#clip532)\" style=\"stroke:#000000; stroke-linecap:butt; stroke-linejoin:round; stroke-width:2; stroke-opacity:0.1; fill:none\" points=\"\n",
       "  562.028,1486.45 562.028,123.472 \n",
       "  \"/>\n",
       "<polyline clip-path=\"url(#clip532)\" style=\"stroke:#000000; stroke-linecap:butt; stroke-linejoin:round; stroke-width:2; stroke-opacity:0.1; fill:none\" points=\"\n",
       "  876.467,1486.45 876.467,123.472 \n",
       "  \"/>\n",
       "<polyline clip-path=\"url(#clip532)\" style=\"stroke:#000000; stroke-linecap:butt; stroke-linejoin:round; stroke-width:2; stroke-opacity:0.1; fill:none\" points=\"\n",
       "  1190.91,1486.45 1190.91,123.472 \n",
       "  \"/>\n",
       "<polyline clip-path=\"url(#clip532)\" style=\"stroke:#000000; stroke-linecap:butt; stroke-linejoin:round; stroke-width:2; stroke-opacity:0.1; fill:none\" points=\"\n",
       "  1505.34,1486.45 1505.34,123.472 \n",
       "  \"/>\n",
       "<polyline clip-path=\"url(#clip532)\" style=\"stroke:#000000; stroke-linecap:butt; stroke-linejoin:round; stroke-width:2; stroke-opacity:0.1; fill:none\" points=\"\n",
       "  1819.78,1486.45 1819.78,123.472 \n",
       "  \"/>\n",
       "<polyline clip-path=\"url(#clip532)\" style=\"stroke:#000000; stroke-linecap:butt; stroke-linejoin:round; stroke-width:2; stroke-opacity:0.1; fill:none\" points=\"\n",
       "  2134.22,1486.45 2134.22,123.472 \n",
       "  \"/>\n",
       "<polyline clip-path=\"url(#clip530)\" style=\"stroke:#000000; stroke-linecap:butt; stroke-linejoin:round; stroke-width:4; stroke-opacity:1; fill:none\" points=\"\n",
       "  186.274,1486.45 2352.76,1486.45 \n",
       "  \"/>\n",
       "<polyline clip-path=\"url(#clip530)\" style=\"stroke:#000000; stroke-linecap:butt; stroke-linejoin:round; stroke-width:4; stroke-opacity:1; fill:none\" points=\"\n",
       "  247.59,1486.45 247.59,1467.55 \n",
       "  \"/>\n",
       "<polyline clip-path=\"url(#clip530)\" style=\"stroke:#000000; stroke-linecap:butt; stroke-linejoin:round; stroke-width:4; stroke-opacity:1; fill:none\" points=\"\n",
       "  562.028,1486.45 562.028,1467.55 \n",
       "  \"/>\n",
       "<polyline clip-path=\"url(#clip530)\" style=\"stroke:#000000; stroke-linecap:butt; stroke-linejoin:round; stroke-width:4; stroke-opacity:1; fill:none\" points=\"\n",
       "  876.467,1486.45 876.467,1467.55 \n",
       "  \"/>\n",
       "<polyline clip-path=\"url(#clip530)\" style=\"stroke:#000000; stroke-linecap:butt; stroke-linejoin:round; stroke-width:4; stroke-opacity:1; fill:none\" points=\"\n",
       "  1190.91,1486.45 1190.91,1467.55 \n",
       "  \"/>\n",
       "<polyline clip-path=\"url(#clip530)\" style=\"stroke:#000000; stroke-linecap:butt; stroke-linejoin:round; stroke-width:4; stroke-opacity:1; fill:none\" points=\"\n",
       "  1505.34,1486.45 1505.34,1467.55 \n",
       "  \"/>\n",
       "<polyline clip-path=\"url(#clip530)\" style=\"stroke:#000000; stroke-linecap:butt; stroke-linejoin:round; stroke-width:4; stroke-opacity:1; fill:none\" points=\"\n",
       "  1819.78,1486.45 1819.78,1467.55 \n",
       "  \"/>\n",
       "<polyline clip-path=\"url(#clip530)\" style=\"stroke:#000000; stroke-linecap:butt; stroke-linejoin:round; stroke-width:4; stroke-opacity:1; fill:none\" points=\"\n",
       "  2134.22,1486.45 2134.22,1467.55 \n",
       "  \"/>\n",
       "<path clip-path=\"url(#clip530)\" d=\"M247.59 1517.37 Q243.978 1517.37 242.15 1520.93 Q240.344 1524.47 240.344 1531.6 Q240.344 1538.71 242.15 1542.27 Q243.978 1545.82 247.59 1545.82 Q251.224 1545.82 253.029 1542.27 Q254.858 1538.71 254.858 1531.6 Q254.858 1524.47 253.029 1520.93 Q251.224 1517.37 247.59 1517.37 M247.59 1513.66 Q253.4 1513.66 256.455 1518.27 Q259.534 1522.85 259.534 1531.6 Q259.534 1540.33 256.455 1544.94 Q253.4 1549.52 247.59 1549.52 Q241.779 1549.52 238.701 1544.94 Q235.645 1540.33 235.645 1531.6 Q235.645 1522.85 238.701 1518.27 Q241.779 1513.66 247.59 1513.66 Z\" fill=\"#000000\" fill-rule=\"evenodd\" fill-opacity=\"1\" /><path clip-path=\"url(#clip530)\" d=\"M521.635 1544.91 L529.274 1544.91 L529.274 1518.55 L520.964 1520.21 L520.964 1515.95 L529.227 1514.29 L533.903 1514.29 L533.903 1544.91 L541.542 1544.91 L541.542 1548.85 L521.635 1548.85 L521.635 1544.91 Z\" fill=\"#000000\" fill-rule=\"evenodd\" fill-opacity=\"1\" /><path clip-path=\"url(#clip530)\" d=\"M560.986 1517.37 Q557.375 1517.37 555.547 1520.93 Q553.741 1524.47 553.741 1531.6 Q553.741 1538.71 555.547 1542.27 Q557.375 1545.82 560.986 1545.82 Q564.621 1545.82 566.426 1542.27 Q568.255 1538.71 568.255 1531.6 Q568.255 1524.47 566.426 1520.93 Q564.621 1517.37 560.986 1517.37 M560.986 1513.66 Q566.797 1513.66 569.852 1518.27 Q572.931 1522.85 572.931 1531.6 Q572.931 1540.33 569.852 1544.94 Q566.797 1549.52 560.986 1549.52 Q555.176 1549.52 552.098 1544.94 Q549.042 1540.33 549.042 1531.6 Q549.042 1522.85 552.098 1518.27 Q555.176 1513.66 560.986 1513.66 Z\" fill=\"#000000\" fill-rule=\"evenodd\" fill-opacity=\"1\" /><path clip-path=\"url(#clip530)\" d=\"M591.148 1517.37 Q587.537 1517.37 585.709 1520.93 Q583.903 1524.47 583.903 1531.6 Q583.903 1538.71 585.709 1542.27 Q587.537 1545.82 591.148 1545.82 Q594.783 1545.82 596.588 1542.27 Q598.417 1538.71 598.417 1531.6 Q598.417 1524.47 596.588 1520.93 Q594.783 1517.37 591.148 1517.37 M591.148 1513.66 Q596.958 1513.66 600.014 1518.27 Q603.093 1522.85 603.093 1531.6 Q603.093 1540.33 600.014 1544.94 Q596.958 1549.52 591.148 1549.52 Q585.338 1549.52 582.259 1544.94 Q579.204 1540.33 579.204 1531.6 Q579.204 1522.85 582.259 1518.27 Q585.338 1513.66 591.148 1513.66 Z\" fill=\"#000000\" fill-rule=\"evenodd\" fill-opacity=\"1\" /><path clip-path=\"url(#clip530)\" d=\"M840.159 1544.91 L856.478 1544.91 L856.478 1548.85 L834.534 1548.85 L834.534 1544.91 Q837.196 1542.16 841.779 1537.53 Q846.386 1532.88 847.566 1531.53 Q849.812 1529.01 850.691 1527.27 Q851.594 1525.51 851.594 1523.82 Q851.594 1521.07 849.65 1519.33 Q847.728 1517.6 844.627 1517.6 Q842.428 1517.6 839.974 1518.36 Q837.543 1519.13 834.766 1520.68 L834.766 1515.95 Q837.59 1514.82 840.043 1514.24 Q842.497 1513.66 844.534 1513.66 Q849.904 1513.66 853.099 1516.35 Q856.293 1519.03 856.293 1523.52 Q856.293 1525.65 855.483 1527.57 Q854.696 1529.47 852.59 1532.07 Q852.011 1532.74 848.909 1535.95 Q845.807 1539.15 840.159 1544.91 Z\" fill=\"#000000\" fill-rule=\"evenodd\" fill-opacity=\"1\" /><path clip-path=\"url(#clip530)\" d=\"M876.293 1517.37 Q872.682 1517.37 870.853 1520.93 Q869.048 1524.47 869.048 1531.6 Q869.048 1538.71 870.853 1542.27 Q872.682 1545.82 876.293 1545.82 Q879.927 1545.82 881.733 1542.27 Q883.562 1538.71 883.562 1531.6 Q883.562 1524.47 881.733 1520.93 Q879.927 1517.37 876.293 1517.37 M876.293 1513.66 Q882.103 1513.66 885.159 1518.27 Q888.237 1522.85 888.237 1531.6 Q888.237 1540.33 885.159 1544.94 Q882.103 1549.52 876.293 1549.52 Q870.483 1549.52 867.404 1544.94 Q864.349 1540.33 864.349 1531.6 Q864.349 1522.85 867.404 1518.27 Q870.483 1513.66 876.293 1513.66 Z\" fill=\"#000000\" fill-rule=\"evenodd\" fill-opacity=\"1\" /><path clip-path=\"url(#clip530)\" d=\"M906.455 1517.37 Q902.844 1517.37 901.015 1520.93 Q899.21 1524.47 899.21 1531.6 Q899.21 1538.71 901.015 1542.27 Q902.844 1545.82 906.455 1545.82 Q910.089 1545.82 911.895 1542.27 Q913.723 1538.71 913.723 1531.6 Q913.723 1524.47 911.895 1520.93 Q910.089 1517.37 906.455 1517.37 M906.455 1513.66 Q912.265 1513.66 915.321 1518.27 Q918.399 1522.85 918.399 1531.6 Q918.399 1540.33 915.321 1544.94 Q912.265 1549.52 906.455 1549.52 Q900.645 1549.52 897.566 1544.94 Q894.511 1540.33 894.511 1531.6 Q894.511 1522.85 897.566 1518.27 Q900.645 1513.66 906.455 1513.66 Z\" fill=\"#000000\" fill-rule=\"evenodd\" fill-opacity=\"1\" /><path clip-path=\"url(#clip530)\" d=\"M1164.67 1530.21 Q1168.02 1530.93 1169.9 1533.2 Q1171.8 1535.47 1171.8 1538.8 Q1171.8 1543.92 1168.28 1546.72 Q1164.76 1549.52 1158.28 1549.52 Q1156.1 1549.52 1153.79 1549.08 Q1151.5 1548.66 1149.04 1547.81 L1149.04 1543.29 Q1150.99 1544.43 1153.3 1545.01 Q1155.62 1545.58 1158.14 1545.58 Q1162.54 1545.58 1164.83 1543.85 Q1167.14 1542.11 1167.14 1538.8 Q1167.14 1535.75 1164.99 1534.03 Q1162.86 1532.3 1159.04 1532.3 L1155.01 1532.3 L1155.01 1528.45 L1159.23 1528.45 Q1162.68 1528.45 1164.5 1527.09 Q1166.33 1525.7 1166.33 1523.11 Q1166.33 1520.45 1164.44 1519.03 Q1162.56 1517.6 1159.04 1517.6 Q1157.12 1517.6 1154.92 1518.01 Q1152.72 1518.43 1150.08 1519.31 L1150.08 1515.14 Q1152.75 1514.4 1155.06 1514.03 Q1157.4 1513.66 1159.46 1513.66 Q1164.78 1513.66 1167.88 1516.09 Q1170.99 1518.5 1170.99 1522.62 Q1170.99 1525.49 1169.34 1527.48 Q1167.7 1529.45 1164.67 1530.21 Z\" fill=\"#000000\" fill-rule=\"evenodd\" fill-opacity=\"1\" /><path clip-path=\"url(#clip530)\" d=\"M1190.66 1517.37 Q1187.05 1517.37 1185.22 1520.93 Q1183.42 1524.47 1183.42 1531.6 Q1183.42 1538.71 1185.22 1542.27 Q1187.05 1545.82 1190.66 1545.82 Q1194.3 1545.82 1196.1 1542.27 Q1197.93 1538.71 1197.93 1531.6 Q1197.93 1524.47 1196.1 1520.93 Q1194.3 1517.37 1190.66 1517.37 M1190.66 1513.66 Q1196.47 1513.66 1199.53 1518.27 Q1202.61 1522.85 1202.61 1531.6 Q1202.61 1540.33 1199.53 1544.94 Q1196.47 1549.52 1190.66 1549.52 Q1184.85 1549.52 1181.77 1544.94 Q1178.72 1540.33 1178.72 1531.6 Q1178.72 1522.85 1181.77 1518.27 Q1184.85 1513.66 1190.66 1513.66 Z\" fill=\"#000000\" fill-rule=\"evenodd\" fill-opacity=\"1\" /><path clip-path=\"url(#clip530)\" d=\"M1220.82 1517.37 Q1217.21 1517.37 1215.38 1520.93 Q1213.58 1524.47 1213.58 1531.6 Q1213.58 1538.71 1215.38 1542.27 Q1217.21 1545.82 1220.82 1545.82 Q1224.46 1545.82 1226.26 1542.27 Q1228.09 1538.71 1228.09 1531.6 Q1228.09 1524.47 1226.26 1520.93 Q1224.46 1517.37 1220.82 1517.37 M1220.82 1513.66 Q1226.63 1513.66 1229.69 1518.27 Q1232.77 1522.85 1232.77 1531.6 Q1232.77 1540.33 1229.69 1544.94 Q1226.63 1549.52 1220.82 1549.52 Q1215.01 1549.52 1211.94 1544.94 Q1208.88 1540.33 1208.88 1531.6 Q1208.88 1522.85 1211.94 1518.27 Q1215.01 1513.66 1220.82 1513.66 Z\" fill=\"#000000\" fill-rule=\"evenodd\" fill-opacity=\"1\" /><path clip-path=\"url(#clip530)\" d=\"M1478.43 1518.36 L1466.63 1536.81 L1478.43 1536.81 L1478.43 1518.36 M1477.21 1514.29 L1483.09 1514.29 L1483.09 1536.81 L1488.02 1536.81 L1488.02 1540.7 L1483.09 1540.7 L1483.09 1548.85 L1478.43 1548.85 L1478.43 1540.7 L1462.83 1540.7 L1462.83 1536.19 L1477.21 1514.29 Z\" fill=\"#000000\" fill-rule=\"evenodd\" fill-opacity=\"1\" /><path clip-path=\"url(#clip530)\" d=\"M1505.75 1517.37 Q1502.14 1517.37 1500.31 1520.93 Q1498.5 1524.47 1498.5 1531.6 Q1498.5 1538.71 1500.31 1542.27 Q1502.14 1545.82 1505.75 1545.82 Q1509.38 1545.82 1511.19 1542.27 Q1513.02 1538.71 1513.02 1531.6 Q1513.02 1524.47 1511.19 1520.93 Q1509.38 1517.37 1505.75 1517.37 M1505.75 1513.66 Q1511.56 1513.66 1514.61 1518.27 Q1517.69 1522.85 1517.69 1531.6 Q1517.69 1540.33 1514.61 1544.94 Q1511.56 1549.52 1505.75 1549.52 Q1499.94 1549.52 1496.86 1544.94 Q1493.8 1540.33 1493.8 1531.6 Q1493.8 1522.85 1496.86 1518.27 Q1499.94 1513.66 1505.75 1513.66 Z\" fill=\"#000000\" fill-rule=\"evenodd\" fill-opacity=\"1\" /><path clip-path=\"url(#clip530)\" d=\"M1535.91 1517.37 Q1532.3 1517.37 1530.47 1520.93 Q1528.67 1524.47 1528.67 1531.6 Q1528.67 1538.71 1530.47 1542.27 Q1532.3 1545.82 1535.91 1545.82 Q1539.55 1545.82 1541.35 1542.27 Q1543.18 1538.71 1543.18 1531.6 Q1543.18 1524.47 1541.35 1520.93 Q1539.55 1517.37 1535.91 1517.37 M1535.91 1513.66 Q1541.72 1513.66 1544.78 1518.27 Q1547.86 1522.85 1547.86 1531.6 Q1547.86 1540.33 1544.78 1544.94 Q1541.72 1549.52 1535.91 1549.52 Q1530.1 1549.52 1527.02 1544.94 Q1523.97 1540.33 1523.97 1531.6 Q1523.97 1522.85 1527.02 1518.27 Q1530.1 1513.66 1535.91 1513.66 Z\" fill=\"#000000\" fill-rule=\"evenodd\" fill-opacity=\"1\" /><path clip-path=\"url(#clip530)\" d=\"M1779.4 1514.29 L1797.76 1514.29 L1797.76 1518.22 L1783.68 1518.22 L1783.68 1526.7 Q1784.7 1526.35 1785.72 1526.19 Q1786.74 1526 1787.76 1526 Q1793.54 1526 1796.92 1529.17 Q1800.3 1532.34 1800.3 1537.76 Q1800.3 1543.34 1796.83 1546.44 Q1793.36 1549.52 1787.04 1549.52 Q1784.86 1549.52 1782.6 1549.15 Q1780.35 1548.78 1777.94 1548.04 L1777.94 1543.34 Q1780.03 1544.47 1782.25 1545.03 Q1784.47 1545.58 1786.95 1545.58 Q1790.95 1545.58 1793.29 1543.48 Q1795.63 1541.37 1795.63 1537.76 Q1795.63 1534.15 1793.29 1532.04 Q1790.95 1529.94 1786.95 1529.94 Q1785.07 1529.94 1783.2 1530.35 Q1781.35 1530.77 1779.4 1531.65 L1779.4 1514.29 Z\" fill=\"#000000\" fill-rule=\"evenodd\" fill-opacity=\"1\" /><path clip-path=\"url(#clip530)\" d=\"M1819.52 1517.37 Q1815.91 1517.37 1814.08 1520.93 Q1812.27 1524.47 1812.27 1531.6 Q1812.27 1538.71 1814.08 1542.27 Q1815.91 1545.82 1819.52 1545.82 Q1823.15 1545.82 1824.96 1542.27 Q1826.78 1538.71 1826.78 1531.6 Q1826.78 1524.47 1824.96 1520.93 Q1823.15 1517.37 1819.52 1517.37 M1819.52 1513.66 Q1825.33 1513.66 1828.38 1518.27 Q1831.46 1522.85 1831.46 1531.6 Q1831.46 1540.33 1828.38 1544.94 Q1825.33 1549.52 1819.52 1549.52 Q1813.71 1549.52 1810.63 1544.94 Q1807.57 1540.33 1807.57 1531.6 Q1807.57 1522.85 1810.63 1518.27 Q1813.71 1513.66 1819.52 1513.66 Z\" fill=\"#000000\" fill-rule=\"evenodd\" fill-opacity=\"1\" /><path clip-path=\"url(#clip530)\" d=\"M1849.68 1517.37 Q1846.07 1517.37 1844.24 1520.93 Q1842.43 1524.47 1842.43 1531.6 Q1842.43 1538.71 1844.24 1542.27 Q1846.07 1545.82 1849.68 1545.82 Q1853.31 1545.82 1855.12 1542.27 Q1856.95 1538.71 1856.95 1531.6 Q1856.95 1524.47 1855.12 1520.93 Q1853.31 1517.37 1849.68 1517.37 M1849.68 1513.66 Q1855.49 1513.66 1858.54 1518.27 Q1861.62 1522.85 1861.62 1531.6 Q1861.62 1540.33 1858.54 1544.94 Q1855.49 1549.52 1849.68 1549.52 Q1843.87 1549.52 1840.79 1544.94 Q1837.73 1540.33 1837.73 1531.6 Q1837.73 1522.85 1840.79 1518.27 Q1843.87 1513.66 1849.68 1513.66 Z\" fill=\"#000000\" fill-rule=\"evenodd\" fill-opacity=\"1\" /><path clip-path=\"url(#clip530)\" d=\"M2104.55 1529.7 Q2101.4 1529.7 2099.55 1531.86 Q2097.72 1534.01 2097.72 1537.76 Q2097.72 1541.49 2099.55 1543.66 Q2101.4 1545.82 2104.55 1545.82 Q2107.69 1545.82 2109.52 1543.66 Q2111.37 1541.49 2111.37 1537.76 Q2111.37 1534.01 2109.52 1531.86 Q2107.69 1529.7 2104.55 1529.7 M2113.83 1515.05 L2113.83 1519.31 Q2112.07 1518.48 2110.26 1518.04 Q2108.48 1517.6 2106.72 1517.6 Q2102.09 1517.6 2099.64 1520.72 Q2097.21 1523.85 2096.86 1530.17 Q2098.23 1528.15 2100.29 1527.09 Q2102.35 1526 2104.82 1526 Q2110.03 1526 2113.04 1529.17 Q2116.07 1532.32 2116.07 1537.76 Q2116.07 1543.08 2112.92 1546.3 Q2109.78 1549.52 2104.55 1549.52 Q2098.55 1549.52 2095.38 1544.94 Q2092.21 1540.33 2092.21 1531.6 Q2092.21 1523.41 2096.1 1518.55 Q2099.99 1513.66 2106.54 1513.66 Q2108.3 1513.66 2110.08 1514.01 Q2111.88 1514.36 2113.83 1515.05 Z\" fill=\"#000000\" fill-rule=\"evenodd\" fill-opacity=\"1\" /><path clip-path=\"url(#clip530)\" d=\"M2134.13 1517.37 Q2130.52 1517.37 2128.69 1520.93 Q2126.88 1524.47 2126.88 1531.6 Q2126.88 1538.71 2128.69 1542.27 Q2130.52 1545.82 2134.13 1545.82 Q2137.76 1545.82 2139.57 1542.27 Q2141.4 1538.71 2141.4 1531.6 Q2141.4 1524.47 2139.57 1520.93 Q2137.76 1517.37 2134.13 1517.37 M2134.13 1513.66 Q2139.94 1513.66 2142.99 1518.27 Q2146.07 1522.85 2146.07 1531.6 Q2146.07 1540.33 2142.99 1544.94 Q2139.94 1549.52 2134.13 1549.52 Q2128.32 1549.52 2125.24 1544.94 Q2122.18 1540.33 2122.18 1531.6 Q2122.18 1522.85 2125.24 1518.27 Q2128.32 1513.66 2134.13 1513.66 Z\" fill=\"#000000\" fill-rule=\"evenodd\" fill-opacity=\"1\" /><path clip-path=\"url(#clip530)\" d=\"M2164.29 1517.37 Q2160.68 1517.37 2158.85 1520.93 Q2157.05 1524.47 2157.05 1531.6 Q2157.05 1538.71 2158.85 1542.27 Q2160.68 1545.82 2164.29 1545.82 Q2167.92 1545.82 2169.73 1542.27 Q2171.56 1538.71 2171.56 1531.6 Q2171.56 1524.47 2169.73 1520.93 Q2167.92 1517.37 2164.29 1517.37 M2164.29 1513.66 Q2170.1 1513.66 2173.16 1518.27 Q2176.23 1522.85 2176.23 1531.6 Q2176.23 1540.33 2173.16 1544.94 Q2170.1 1549.52 2164.29 1549.52 Q2158.48 1549.52 2155.4 1544.94 Q2152.35 1540.33 2152.35 1531.6 Q2152.35 1522.85 2155.4 1518.27 Q2158.48 1513.66 2164.29 1513.66 Z\" fill=\"#000000\" fill-rule=\"evenodd\" fill-opacity=\"1\" /><polyline clip-path=\"url(#clip532)\" style=\"stroke:#000000; stroke-linecap:butt; stroke-linejoin:round; stroke-width:2; stroke-opacity:0.1; fill:none\" points=\"\n",
       "  186.274,1372.57 2352.76,1372.57 \n",
       "  \"/>\n",
       "<polyline clip-path=\"url(#clip532)\" style=\"stroke:#000000; stroke-linecap:butt; stroke-linejoin:round; stroke-width:2; stroke-opacity:0.1; fill:none\" points=\"\n",
       "  186.274,1139.42 2352.76,1139.42 \n",
       "  \"/>\n",
       "<polyline clip-path=\"url(#clip532)\" style=\"stroke:#000000; stroke-linecap:butt; stroke-linejoin:round; stroke-width:2; stroke-opacity:0.1; fill:none\" points=\"\n",
       "  186.274,906.275 2352.76,906.275 \n",
       "  \"/>\n",
       "<polyline clip-path=\"url(#clip532)\" style=\"stroke:#000000; stroke-linecap:butt; stroke-linejoin:round; stroke-width:2; stroke-opacity:0.1; fill:none\" points=\"\n",
       "  186.274,673.127 2352.76,673.127 \n",
       "  \"/>\n",
       "<polyline clip-path=\"url(#clip532)\" style=\"stroke:#000000; stroke-linecap:butt; stroke-linejoin:round; stroke-width:2; stroke-opacity:0.1; fill:none\" points=\"\n",
       "  186.274,439.978 2352.76,439.978 \n",
       "  \"/>\n",
       "<polyline clip-path=\"url(#clip532)\" style=\"stroke:#000000; stroke-linecap:butt; stroke-linejoin:round; stroke-width:2; stroke-opacity:0.1; fill:none\" points=\"\n",
       "  186.274,206.83 2352.76,206.83 \n",
       "  \"/>\n",
       "<polyline clip-path=\"url(#clip530)\" style=\"stroke:#000000; stroke-linecap:butt; stroke-linejoin:round; stroke-width:4; stroke-opacity:1; fill:none\" points=\"\n",
       "  186.274,1486.45 186.274,123.472 \n",
       "  \"/>\n",
       "<polyline clip-path=\"url(#clip530)\" style=\"stroke:#000000; stroke-linecap:butt; stroke-linejoin:round; stroke-width:4; stroke-opacity:1; fill:none\" points=\"\n",
       "  186.274,1372.57 205.172,1372.57 \n",
       "  \"/>\n",
       "<polyline clip-path=\"url(#clip530)\" style=\"stroke:#000000; stroke-linecap:butt; stroke-linejoin:round; stroke-width:4; stroke-opacity:1; fill:none\" points=\"\n",
       "  186.274,1139.42 205.172,1139.42 \n",
       "  \"/>\n",
       "<polyline clip-path=\"url(#clip530)\" style=\"stroke:#000000; stroke-linecap:butt; stroke-linejoin:round; stroke-width:4; stroke-opacity:1; fill:none\" points=\"\n",
       "  186.274,906.275 205.172,906.275 \n",
       "  \"/>\n",
       "<polyline clip-path=\"url(#clip530)\" style=\"stroke:#000000; stroke-linecap:butt; stroke-linejoin:round; stroke-width:4; stroke-opacity:1; fill:none\" points=\"\n",
       "  186.274,673.127 205.172,673.127 \n",
       "  \"/>\n",
       "<polyline clip-path=\"url(#clip530)\" style=\"stroke:#000000; stroke-linecap:butt; stroke-linejoin:round; stroke-width:4; stroke-opacity:1; fill:none\" points=\"\n",
       "  186.274,439.978 205.172,439.978 \n",
       "  \"/>\n",
       "<polyline clip-path=\"url(#clip530)\" style=\"stroke:#000000; stroke-linecap:butt; stroke-linejoin:round; stroke-width:4; stroke-opacity:1; fill:none\" points=\"\n",
       "  186.274,206.83 205.172,206.83 \n",
       "  \"/>\n",
       "<path clip-path=\"url(#clip530)\" d=\"M63.9319 1358.37 Q60.3208 1358.37 58.4921 1361.93 Q56.6865 1365.48 56.6865 1372.61 Q56.6865 1379.71 58.4921 1383.28 Q60.3208 1386.82 63.9319 1386.82 Q67.5661 1386.82 69.3717 1383.28 Q71.2004 1379.71 71.2004 1372.61 Q71.2004 1365.48 69.3717 1361.93 Q67.5661 1358.37 63.9319 1358.37 M63.9319 1354.67 Q69.742 1354.67 72.7976 1359.27 Q75.8763 1363.86 75.8763 1372.61 Q75.8763 1381.33 72.7976 1385.94 Q69.742 1390.52 63.9319 1390.52 Q58.1217 1390.52 55.043 1385.94 Q51.9875 1381.33 51.9875 1372.61 Q51.9875 1363.86 55.043 1359.27 Q58.1217 1354.67 63.9319 1354.67 Z\" fill=\"#000000\" fill-rule=\"evenodd\" fill-opacity=\"1\" /><path clip-path=\"url(#clip530)\" d=\"M84.0938 1383.97 L88.978 1383.97 L88.978 1389.85 L84.0938 1389.85 L84.0938 1383.97 Z\" fill=\"#000000\" fill-rule=\"evenodd\" fill-opacity=\"1\" /><path clip-path=\"url(#clip530)\" d=\"M99.2095 1355.29 L117.566 1355.29 L117.566 1359.23 L103.492 1359.23 L103.492 1367.7 Q104.51 1367.35 105.529 1367.19 Q106.547 1367 107.566 1367 Q113.353 1367 116.733 1370.18 Q120.112 1373.35 120.112 1378.76 Q120.112 1384.34 116.64 1387.44 Q113.168 1390.52 106.848 1390.52 Q104.672 1390.52 102.404 1390.15 Q100.159 1389.78 97.7511 1389.04 L97.7511 1384.34 Q99.8345 1385.48 102.057 1386.03 Q104.279 1386.59 106.756 1386.59 Q110.76 1386.59 113.098 1384.48 Q115.436 1382.37 115.436 1378.76 Q115.436 1375.15 113.098 1373.05 Q110.76 1370.94 106.756 1370.94 Q104.881 1370.94 103.006 1371.36 Q101.154 1371.77 99.2095 1372.65 L99.2095 1355.29 Z\" fill=\"#000000\" fill-rule=\"evenodd\" fill-opacity=\"1\" /><path clip-path=\"url(#clip530)\" d=\"M129.371 1355.29 L147.728 1355.29 L147.728 1359.23 L133.654 1359.23 L133.654 1367.7 Q134.672 1367.35 135.691 1367.19 Q136.709 1367 137.728 1367 Q143.515 1367 146.894 1370.18 Q150.274 1373.35 150.274 1378.76 Q150.274 1384.34 146.802 1387.44 Q143.33 1390.52 137.01 1390.52 Q134.834 1390.52 132.566 1390.15 Q130.32 1389.78 127.913 1389.04 L127.913 1384.34 Q129.996 1385.48 132.219 1386.03 Q134.441 1386.59 136.918 1386.59 Q140.922 1386.59 143.26 1384.48 Q145.598 1382.37 145.598 1378.76 Q145.598 1375.15 143.26 1373.05 Q140.922 1370.94 136.918 1370.94 Q135.043 1370.94 133.168 1371.36 Q131.316 1371.77 129.371 1372.65 L129.371 1355.29 Z\" fill=\"#000000\" fill-rule=\"evenodd\" fill-opacity=\"1\" /><path clip-path=\"url(#clip530)\" d=\"M62.9365 1125.22 Q59.3254 1125.22 57.4967 1128.79 Q55.6912 1132.33 55.6912 1139.46 Q55.6912 1146.56 57.4967 1150.13 Q59.3254 1153.67 62.9365 1153.67 Q66.5707 1153.67 68.3763 1150.13 Q70.205 1146.56 70.205 1139.46 Q70.205 1132.33 68.3763 1128.79 Q66.5707 1125.22 62.9365 1125.22 M62.9365 1121.52 Q68.7467 1121.52 71.8022 1126.12 Q74.8809 1130.71 74.8809 1139.46 Q74.8809 1148.18 71.8022 1152.79 Q68.7467 1157.37 62.9365 1157.37 Q57.1264 1157.37 54.0477 1152.79 Q50.9921 1148.18 50.9921 1139.46 Q50.9921 1130.71 54.0477 1126.12 Q57.1264 1121.52 62.9365 1121.52 Z\" fill=\"#000000\" fill-rule=\"evenodd\" fill-opacity=\"1\" /><path clip-path=\"url(#clip530)\" d=\"M83.0984 1150.82 L87.9827 1150.82 L87.9827 1156.7 L83.0984 1156.7 L83.0984 1150.82 Z\" fill=\"#000000\" fill-rule=\"evenodd\" fill-opacity=\"1\" /><path clip-path=\"url(#clip530)\" d=\"M108.746 1137.56 Q105.598 1137.56 103.746 1139.71 Q101.918 1141.87 101.918 1145.62 Q101.918 1149.34 103.746 1151.52 Q105.598 1153.67 108.746 1153.67 Q111.895 1153.67 113.723 1151.52 Q115.575 1149.34 115.575 1145.62 Q115.575 1141.87 113.723 1139.71 Q111.895 1137.56 108.746 1137.56 M118.029 1122.91 L118.029 1127.17 Q116.27 1126.33 114.464 1125.89 Q112.682 1125.45 110.922 1125.45 Q106.293 1125.45 103.839 1128.58 Q101.409 1131.7 101.061 1138.02 Q102.427 1136.01 104.487 1134.94 Q106.547 1133.86 109.024 1133.86 Q114.233 1133.86 117.242 1137.03 Q120.274 1140.18 120.274 1145.62 Q120.274 1150.94 117.126 1154.16 Q113.978 1157.37 108.746 1157.37 Q102.751 1157.37 99.5798 1152.79 Q96.4085 1148.18 96.4085 1139.46 Q96.4085 1131.26 100.297 1126.4 Q104.186 1121.52 110.737 1121.52 Q112.496 1121.52 114.279 1121.87 Q116.084 1122.21 118.029 1122.91 Z\" fill=\"#000000\" fill-rule=\"evenodd\" fill-opacity=\"1\" /><path clip-path=\"url(#clip530)\" d=\"M138.33 1125.22 Q134.719 1125.22 132.89 1128.79 Q131.084 1132.33 131.084 1139.46 Q131.084 1146.56 132.89 1150.13 Q134.719 1153.67 138.33 1153.67 Q141.964 1153.67 143.769 1150.13 Q145.598 1146.56 145.598 1139.46 Q145.598 1132.33 143.769 1128.79 Q141.964 1125.22 138.33 1125.22 M138.33 1121.52 Q144.14 1121.52 147.195 1126.12 Q150.274 1130.71 150.274 1139.46 Q150.274 1148.18 147.195 1152.79 Q144.14 1157.37 138.33 1157.37 Q132.519 1157.37 129.441 1152.79 Q126.385 1148.18 126.385 1139.46 Q126.385 1130.71 129.441 1126.12 Q132.519 1121.52 138.33 1121.52 Z\" fill=\"#000000\" fill-rule=\"evenodd\" fill-opacity=\"1\" /><path clip-path=\"url(#clip530)\" d=\"M63.9319 892.074 Q60.3208 892.074 58.4921 895.638 Q56.6865 899.18 56.6865 906.31 Q56.6865 913.416 58.4921 916.981 Q60.3208 920.523 63.9319 920.523 Q67.5661 920.523 69.3717 916.981 Q71.2004 913.416 71.2004 906.31 Q71.2004 899.18 69.3717 895.638 Q67.5661 892.074 63.9319 892.074 M63.9319 888.37 Q69.742 888.37 72.7976 892.976 Q75.8763 897.56 75.8763 906.31 Q75.8763 915.036 72.7976 919.643 Q69.742 924.226 63.9319 924.226 Q58.1217 924.226 55.043 919.643 Q51.9875 915.036 51.9875 906.31 Q51.9875 897.56 55.043 892.976 Q58.1217 888.37 63.9319 888.37 Z\" fill=\"#000000\" fill-rule=\"evenodd\" fill-opacity=\"1\" /><path clip-path=\"url(#clip530)\" d=\"M84.0938 917.675 L88.978 917.675 L88.978 923.555 L84.0938 923.555 L84.0938 917.675 Z\" fill=\"#000000\" fill-rule=\"evenodd\" fill-opacity=\"1\" /><path clip-path=\"url(#clip530)\" d=\"M109.742 904.411 Q106.594 904.411 104.742 906.564 Q102.913 908.717 102.913 912.467 Q102.913 916.194 104.742 918.37 Q106.594 920.523 109.742 920.523 Q112.89 920.523 114.719 918.37 Q116.57 916.194 116.57 912.467 Q116.57 908.717 114.719 906.564 Q112.89 904.411 109.742 904.411 M119.024 889.759 L119.024 894.018 Q117.265 893.185 115.459 892.745 Q113.677 892.305 111.918 892.305 Q107.288 892.305 104.834 895.43 Q102.404 898.555 102.057 904.874 Q103.422 902.861 105.483 901.796 Q107.543 900.708 110.02 900.708 Q115.228 900.708 118.237 903.879 Q121.27 907.027 121.27 912.467 Q121.27 917.791 118.121 921.009 Q114.973 924.226 109.742 924.226 Q103.746 924.226 100.575 919.643 Q97.4039 915.036 97.4039 906.31 Q97.4039 898.115 101.293 893.254 Q105.182 888.37 111.733 888.37 Q113.492 888.37 115.274 888.717 Q117.08 889.064 119.024 889.759 Z\" fill=\"#000000\" fill-rule=\"evenodd\" fill-opacity=\"1\" /><path clip-path=\"url(#clip530)\" d=\"M129.371 888.995 L147.728 888.995 L147.728 892.93 L133.654 892.93 L133.654 901.402 Q134.672 901.055 135.691 900.893 Q136.709 900.708 137.728 900.708 Q143.515 900.708 146.894 903.879 Q150.274 907.05 150.274 912.467 Q150.274 918.046 146.802 921.148 Q143.33 924.226 137.01 924.226 Q134.834 924.226 132.566 923.856 Q130.32 923.485 127.913 922.745 L127.913 918.046 Q129.996 919.18 132.219 919.735 Q134.441 920.291 136.918 920.291 Q140.922 920.291 143.26 918.185 Q145.598 916.078 145.598 912.467 Q145.598 908.856 143.26 906.749 Q140.922 904.643 136.918 904.643 Q135.043 904.643 133.168 905.06 Q131.316 905.476 129.371 906.356 L129.371 888.995 Z\" fill=\"#000000\" fill-rule=\"evenodd\" fill-opacity=\"1\" /><path clip-path=\"url(#clip530)\" d=\"M62.9365 658.925 Q59.3254 658.925 57.4967 662.49 Q55.6912 666.032 55.6912 673.161 Q55.6912 680.268 57.4967 683.833 Q59.3254 687.374 62.9365 687.374 Q66.5707 687.374 68.3763 683.833 Q70.205 680.268 70.205 673.161 Q70.205 666.032 68.3763 662.49 Q66.5707 658.925 62.9365 658.925 M62.9365 655.222 Q68.7467 655.222 71.8022 659.828 Q74.8809 664.411 74.8809 673.161 Q74.8809 681.888 71.8022 686.495 Q68.7467 691.078 62.9365 691.078 Q57.1264 691.078 54.0477 686.495 Q50.9921 681.888 50.9921 673.161 Q50.9921 664.411 54.0477 659.828 Q57.1264 655.222 62.9365 655.222 Z\" fill=\"#000000\" fill-rule=\"evenodd\" fill-opacity=\"1\" /><path clip-path=\"url(#clip530)\" d=\"M83.0984 684.527 L87.9827 684.527 L87.9827 690.407 L83.0984 690.407 L83.0984 684.527 Z\" fill=\"#000000\" fill-rule=\"evenodd\" fill-opacity=\"1\" /><path clip-path=\"url(#clip530)\" d=\"M96.9872 655.847 L119.209 655.847 L119.209 657.837 L106.663 690.407 L101.779 690.407 L113.584 659.782 L96.9872 659.782 L96.9872 655.847 Z\" fill=\"#000000\" fill-rule=\"evenodd\" fill-opacity=\"1\" /><path clip-path=\"url(#clip530)\" d=\"M138.33 658.925 Q134.719 658.925 132.89 662.49 Q131.084 666.032 131.084 673.161 Q131.084 680.268 132.89 683.833 Q134.719 687.374 138.33 687.374 Q141.964 687.374 143.769 683.833 Q145.598 680.268 145.598 673.161 Q145.598 666.032 143.769 662.49 Q141.964 658.925 138.33 658.925 M138.33 655.222 Q144.14 655.222 147.195 659.828 Q150.274 664.411 150.274 673.161 Q150.274 681.888 147.195 686.495 Q144.14 691.078 138.33 691.078 Q132.519 691.078 129.441 686.495 Q126.385 681.888 126.385 673.161 Q126.385 664.411 129.441 659.828 Q132.519 655.222 138.33 655.222 Z\" fill=\"#000000\" fill-rule=\"evenodd\" fill-opacity=\"1\" /><path clip-path=\"url(#clip530)\" d=\"M63.9319 425.777 Q60.3208 425.777 58.4921 429.342 Q56.6865 432.883 56.6865 440.013 Q56.6865 447.119 58.4921 450.684 Q60.3208 454.226 63.9319 454.226 Q67.5661 454.226 69.3717 450.684 Q71.2004 447.119 71.2004 440.013 Q71.2004 432.883 69.3717 429.342 Q67.5661 425.777 63.9319 425.777 M63.9319 422.073 Q69.742 422.073 72.7976 426.68 Q75.8763 431.263 75.8763 440.013 Q75.8763 448.74 72.7976 453.346 Q69.742 457.93 63.9319 457.93 Q58.1217 457.93 55.043 453.346 Q51.9875 448.74 51.9875 440.013 Q51.9875 431.263 55.043 426.68 Q58.1217 422.073 63.9319 422.073 Z\" fill=\"#000000\" fill-rule=\"evenodd\" fill-opacity=\"1\" /><path clip-path=\"url(#clip530)\" d=\"M84.0938 451.379 L88.978 451.379 L88.978 457.258 L84.0938 457.258 L84.0938 451.379 Z\" fill=\"#000000\" fill-rule=\"evenodd\" fill-opacity=\"1\" /><path clip-path=\"url(#clip530)\" d=\"M97.9826 422.698 L120.205 422.698 L120.205 424.689 L107.658 457.258 L102.774 457.258 L114.58 426.633 L97.9826 426.633 L97.9826 422.698 Z\" fill=\"#000000\" fill-rule=\"evenodd\" fill-opacity=\"1\" /><path clip-path=\"url(#clip530)\" d=\"M129.371 422.698 L147.728 422.698 L147.728 426.633 L133.654 426.633 L133.654 435.106 Q134.672 434.758 135.691 434.596 Q136.709 434.411 137.728 434.411 Q143.515 434.411 146.894 437.582 Q150.274 440.754 150.274 446.17 Q150.274 451.749 146.802 454.851 Q143.33 457.93 137.01 457.93 Q134.834 457.93 132.566 457.559 Q130.32 457.189 127.913 456.448 L127.913 451.749 Q129.996 452.883 132.219 453.439 Q134.441 453.994 136.918 453.994 Q140.922 453.994 143.26 451.888 Q145.598 449.781 145.598 446.17 Q145.598 442.559 143.26 440.453 Q140.922 438.346 136.918 438.346 Q135.043 438.346 133.168 438.763 Q131.316 439.18 129.371 440.059 L129.371 422.698 Z\" fill=\"#000000\" fill-rule=\"evenodd\" fill-opacity=\"1\" /><path clip-path=\"url(#clip530)\" d=\"M62.9365 192.629 Q59.3254 192.629 57.4967 196.193 Q55.6912 199.735 55.6912 206.865 Q55.6912 213.971 57.4967 217.536 Q59.3254 221.078 62.9365 221.078 Q66.5707 221.078 68.3763 217.536 Q70.205 213.971 70.205 206.865 Q70.205 199.735 68.3763 196.193 Q66.5707 192.629 62.9365 192.629 M62.9365 188.925 Q68.7467 188.925 71.8022 193.531 Q74.8809 198.115 74.8809 206.865 Q74.8809 215.592 71.8022 220.198 Q68.7467 224.781 62.9365 224.781 Q57.1264 224.781 54.0477 220.198 Q50.9921 215.592 50.9921 206.865 Q50.9921 198.115 54.0477 193.531 Q57.1264 188.925 62.9365 188.925 Z\" fill=\"#000000\" fill-rule=\"evenodd\" fill-opacity=\"1\" /><path clip-path=\"url(#clip530)\" d=\"M83.0984 218.23 L87.9827 218.23 L87.9827 224.11 L83.0984 224.11 L83.0984 218.23 Z\" fill=\"#000000\" fill-rule=\"evenodd\" fill-opacity=\"1\" /><path clip-path=\"url(#clip530)\" d=\"M108.168 207.698 Q104.834 207.698 102.913 209.48 Q101.015 211.263 101.015 214.388 Q101.015 217.513 102.913 219.295 Q104.834 221.078 108.168 221.078 Q111.501 221.078 113.422 219.295 Q115.344 217.49 115.344 214.388 Q115.344 211.263 113.422 209.48 Q111.524 207.698 108.168 207.698 M103.492 205.707 Q100.483 204.967 98.7928 202.906 Q97.1261 200.846 97.1261 197.883 Q97.1261 193.74 100.066 191.332 Q103.029 188.925 108.168 188.925 Q113.33 188.925 116.27 191.332 Q119.209 193.74 119.209 197.883 Q119.209 200.846 117.52 202.906 Q115.853 204.967 112.867 205.707 Q116.246 206.494 118.121 208.786 Q120.02 211.078 120.02 214.388 Q120.02 219.411 116.941 222.096 Q113.885 224.781 108.168 224.781 Q102.45 224.781 99.3715 222.096 Q96.316 219.411 96.316 214.388 Q96.316 211.078 98.2141 208.786 Q100.112 206.494 103.492 205.707 M101.779 198.323 Q101.779 201.008 103.446 202.513 Q105.135 204.017 108.168 204.017 Q111.177 204.017 112.867 202.513 Q114.58 201.008 114.58 198.323 Q114.58 195.638 112.867 194.133 Q111.177 192.629 108.168 192.629 Q105.135 192.629 103.446 194.133 Q101.779 195.638 101.779 198.323 Z\" fill=\"#000000\" fill-rule=\"evenodd\" fill-opacity=\"1\" /><path clip-path=\"url(#clip530)\" d=\"M138.33 192.629 Q134.719 192.629 132.89 196.193 Q131.084 199.735 131.084 206.865 Q131.084 213.971 132.89 217.536 Q134.719 221.078 138.33 221.078 Q141.964 221.078 143.769 217.536 Q145.598 213.971 145.598 206.865 Q145.598 199.735 143.769 196.193 Q141.964 192.629 138.33 192.629 M138.33 188.925 Q144.14 188.925 147.195 193.531 Q150.274 198.115 150.274 206.865 Q150.274 215.592 147.195 220.198 Q144.14 224.781 138.33 224.781 Q132.519 224.781 129.441 220.198 Q126.385 215.592 126.385 206.865 Q126.385 198.115 129.441 193.531 Q132.519 188.925 138.33 188.925 Z\" fill=\"#000000\" fill-rule=\"evenodd\" fill-opacity=\"1\" /><path clip-path=\"url(#clip530)\" d=\"M1102.54 63.9476 L1102.54 47.7034 L1089.17 47.7034 L1089.17 40.9789 L1110.64 40.9789 L1110.64 66.9452 Q1105.9 70.3075 1100.19 72.0494 Q1094.48 73.7508 1087.99 73.7508 Q1073.82 73.7508 1065.79 65.4869 Q1057.81 57.1826 1057.81 42.3968 Q1057.81 27.5705 1065.79 19.3066 Q1073.82 11.0023 1087.99 11.0023 Q1093.91 11.0023 1099.21 12.4606 Q1104.56 13.9189 1109.06 16.7545 L1109.06 25.464 Q1104.52 21.6156 1099.42 19.6712 Q1094.31 17.7268 1088.68 17.7268 Q1077.58 17.7268 1071.99 23.9246 Q1066.44 30.1225 1066.44 42.3968 Q1066.44 54.6305 1071.99 60.8284 Q1077.58 67.0263 1088.68 67.0263 Q1093.02 67.0263 1096.42 66.2971 Q1099.82 65.5274 1102.54 63.9476 Z\" fill=\"#000000\" fill-rule=\"evenodd\" fill-opacity=\"1\" /><path clip-path=\"url(#clip530)\" d=\"M1151.55 34.1734 Q1150.3 33.4443 1148.8 33.1202 Q1147.34 32.7556 1145.56 32.7556 Q1139.24 32.7556 1135.84 36.8875 Q1132.47 40.9789 1132.47 48.6757 L1132.47 72.576 L1124.98 72.576 L1124.98 27.2059 L1132.47 27.2059 L1132.47 34.2544 Q1134.82 30.1225 1138.59 28.1376 Q1142.36 26.1121 1147.74 26.1121 Q1148.51 26.1121 1149.45 26.2337 Q1150.38 26.3147 1151.51 26.5172 L1151.55 34.1734 Z\" fill=\"#000000\" fill-rule=\"evenodd\" fill-opacity=\"1\" /><path clip-path=\"url(#clip530)\" d=\"M1179.99 49.7694 Q1170.96 49.7694 1167.47 51.8354 Q1163.99 53.9013 1163.99 58.8839 Q1163.99 62.8538 1166.58 65.2034 Q1169.21 67.5124 1173.71 67.5124 Q1179.91 67.5124 1183.64 63.1374 Q1187.4 58.7219 1187.4 51.4303 L1187.4 49.7694 L1179.99 49.7694 M1194.86 46.6907 L1194.86 72.576 L1187.4 72.576 L1187.4 65.6895 Q1184.85 69.8214 1181.04 71.8063 Q1177.24 73.7508 1171.73 73.7508 Q1164.76 73.7508 1160.63 69.8619 Q1156.54 65.9325 1156.54 59.3701 Q1156.54 51.7138 1161.64 47.825 Q1166.78 43.9361 1176.95 43.9361 L1187.4 43.9361 L1187.4 43.2069 Q1187.4 38.0623 1184 35.2672 Q1180.64 32.4315 1174.52 32.4315 Q1170.63 32.4315 1166.95 33.3632 Q1163.26 34.295 1159.86 36.1584 L1159.86 29.2718 Q1163.95 27.692 1167.8 26.9223 Q1171.65 26.1121 1175.29 26.1121 Q1185.13 26.1121 1190 31.2163 Q1194.86 36.3204 1194.86 46.6907 Z\" fill=\"#000000\" fill-rule=\"evenodd\" fill-opacity=\"1\" /><path clip-path=\"url(#clip530)\" d=\"M1240.06 34.0924 L1240.06 9.54393 L1247.52 9.54393 L1247.52 72.576 L1240.06 72.576 L1240.06 65.7705 Q1237.72 69.8214 1234.11 71.8063 Q1230.55 73.7508 1225.52 73.7508 Q1217.3 73.7508 1212.11 67.1883 Q1206.97 60.6258 1206.97 49.9314 Q1206.97 39.2371 1212.11 32.6746 Q1217.3 26.1121 1225.52 26.1121 Q1230.55 26.1121 1234.11 28.0971 Q1237.72 30.0415 1240.06 34.0924 M1214.67 49.9314 Q1214.67 58.1548 1218.03 62.8538 Q1221.43 67.5124 1227.35 67.5124 Q1233.26 67.5124 1236.66 62.8538 Q1240.06 58.1548 1240.06 49.9314 Q1240.06 41.7081 1236.66 37.0496 Q1233.26 32.3505 1227.35 32.3505 Q1221.43 32.3505 1218.03 37.0496 Q1214.67 41.7081 1214.67 49.9314 Z\" fill=\"#000000\" fill-rule=\"evenodd\" fill-opacity=\"1\" /><path clip-path=\"url(#clip530)\" d=\"M1262.1 54.671 L1262.1 27.2059 L1269.56 27.2059 L1269.56 54.3874 Q1269.56 60.8284 1272.07 64.0691 Q1274.58 67.2693 1279.6 67.2693 Q1285.64 67.2693 1289.12 63.421 Q1292.65 59.5726 1292.65 52.9291 L1292.65 27.2059 L1300.1 27.2059 L1300.1 72.576 L1292.65 72.576 L1292.65 65.6084 Q1289.93 69.7404 1286.33 71.7658 Q1282.76 73.7508 1278.02 73.7508 Q1270.2 73.7508 1266.15 68.8897 Q1262.1 64.0286 1262.1 54.671 M1280.86 26.1121 L1280.86 26.1121 Z\" fill=\"#000000\" fill-rule=\"evenodd\" fill-opacity=\"1\" /><path clip-path=\"url(#clip530)\" d=\"M1336.07 49.7694 Q1327.04 49.7694 1323.55 51.8354 Q1320.07 53.9013 1320.07 58.8839 Q1320.07 62.8538 1322.66 65.2034 Q1325.3 67.5124 1329.79 67.5124 Q1335.99 67.5124 1339.72 63.1374 Q1343.48 58.7219 1343.48 51.4303 L1343.48 49.7694 L1336.07 49.7694 M1350.94 46.6907 L1350.94 72.576 L1343.48 72.576 L1343.48 65.6895 Q1340.93 69.8214 1337.12 71.8063 Q1333.32 73.7508 1327.81 73.7508 Q1320.84 73.7508 1316.71 69.8619 Q1312.62 65.9325 1312.62 59.3701 Q1312.62 51.7138 1317.72 47.825 Q1322.87 43.9361 1333.03 43.9361 L1343.48 43.9361 L1343.48 43.2069 Q1343.48 38.0623 1340.08 35.2672 Q1336.72 32.4315 1330.6 32.4315 Q1326.71 32.4315 1323.03 33.3632 Q1319.34 34.295 1315.94 36.1584 L1315.94 29.2718 Q1320.03 27.692 1323.88 26.9223 Q1327.73 26.1121 1331.37 26.1121 Q1341.22 26.1121 1346.08 31.2163 Q1350.94 36.3204 1350.94 46.6907 Z\" fill=\"#000000\" fill-rule=\"evenodd\" fill-opacity=\"1\" /><path clip-path=\"url(#clip530)\" d=\"M1373.66 14.324 L1373.66 27.2059 L1389.02 27.2059 L1389.02 32.9987 L1373.66 32.9987 L1373.66 57.6282 Q1373.66 63.1779 1375.16 64.7578 Q1376.7 66.3376 1381.36 66.3376 L1389.02 66.3376 L1389.02 72.576 L1381.36 72.576 Q1372.73 72.576 1369.45 69.3758 Q1366.17 66.1351 1366.17 57.6282 L1366.17 32.9987 L1360.7 32.9987 L1360.7 27.2059 L1366.17 27.2059 L1366.17 14.324 L1373.66 14.324 Z\" fill=\"#000000\" fill-rule=\"evenodd\" fill-opacity=\"1\" /><path clip-path=\"url(#clip530)\" d=\"M1437.63 48.0275 L1437.63 51.6733 L1403.36 51.6733 Q1403.84 59.3701 1407.97 63.421 Q1412.15 67.4314 1419.56 67.4314 Q1423.85 67.4314 1427.86 66.3781 Q1431.92 65.3249 1435.89 63.2184 L1435.89 70.267 Q1431.88 71.9684 1427.66 72.8596 Q1423.45 73.7508 1419.11 73.7508 Q1408.26 73.7508 1401.9 67.4314 Q1395.58 61.1119 1395.58 50.3365 Q1395.58 39.1965 1401.57 32.6746 Q1407.61 26.1121 1417.82 26.1121 Q1426.97 26.1121 1432.28 32.0264 Q1437.63 37.9003 1437.63 48.0275 M1430.17 45.84 Q1430.09 39.7232 1426.73 36.0774 Q1423.41 32.4315 1417.9 32.4315 Q1411.66 32.4315 1407.89 35.9558 Q1404.17 39.4801 1403.6 45.8805 L1430.17 45.84 Z\" fill=\"#000000\" fill-rule=\"evenodd\" fill-opacity=\"1\" /><path clip-path=\"url(#clip530)\" d=\"M1478.78 28.5427 L1478.78 35.5912 Q1475.62 33.9709 1472.22 33.1607 Q1468.82 32.3505 1465.17 32.3505 Q1459.62 32.3505 1456.83 34.0519 Q1454.07 35.7533 1454.07 39.156 Q1454.07 41.7486 1456.06 43.2475 Q1458.04 44.7058 1464.04 46.0426 L1466.59 46.6097 Q1474.53 48.3111 1477.85 51.4303 Q1481.22 54.509 1481.22 60.0587 Q1481.22 66.3781 1476.19 70.0644 Q1471.21 73.7508 1462.46 73.7508 Q1458.81 73.7508 1454.84 73.0216 Q1450.91 72.3329 1446.54 70.9151 L1446.54 63.2184 Q1450.67 65.3654 1454.68 66.4591 Q1458.69 67.5124 1462.62 67.5124 Q1467.89 67.5124 1470.72 65.73 Q1473.56 63.9071 1473.56 60.6258 Q1473.56 57.5877 1471.49 55.9673 Q1469.47 54.3469 1462.54 52.8481 L1459.95 52.2405 Q1453.02 50.7821 1449.94 47.7845 Q1446.86 44.7463 1446.86 39.4801 Q1446.86 33.0797 1451.4 29.5959 Q1455.94 26.1121 1464.28 26.1121 Q1468.41 26.1121 1472.06 26.7198 Q1475.71 27.3274 1478.78 28.5427 Z\" fill=\"#000000\" fill-rule=\"evenodd\" fill-opacity=\"1\" /><path clip-path=\"url(#clip532)\" d=\"\n",
       "M247.59 516.205 L279.033 524.626 L310.477 533.189 L341.921 541.913 L373.365 550.82 L404.809 559.936 L436.253 569.29 L467.697 578.91 L499.14 588.827 L530.584 599.071 \n",
       "  L562.028 609.665 L593.472 620.628 L624.916 631.967 L656.36 643.683 L687.804 655.764 L719.247 668.191 L750.691 680.943 L782.135 693.992 L813.579 707.311 L845.023 720.875 \n",
       "  L876.467 734.659 L907.911 748.643 L939.354 762.806 L970.798 777.133 L1002.24 791.608 L1033.69 806.22 L1065.13 820.958 L1096.57 835.812 L1128.02 850.775 L1159.46 865.839 \n",
       "  L1190.91 880.999 L1222.35 896.249 L1253.79 911.583 L1285.24 926.999 L1316.68 942.491 L1348.12 958.057 L1379.57 973.693 L1411.01 989.396 L1442.46 1005.16 L1473.9 1020.99 \n",
       "  L1505.34 1036.88 L1536.79 1052.83 L1568.23 1068.83 L1599.68 1084.88 L1631.12 1100.99 L1662.56 1117.14 L1694.01 1133.34 L1725.45 1149.59 L1756.89 1165.88 L1788.34 1182.21 \n",
       "  L1819.78 1198.58 L1851.23 1214.99 L1882.67 1231.44 L1914.11 1247.92 L1945.56 1264.43 L1977 1280.98 L2008.45 1297.56 L2039.89 1314.17 L2071.33 1330.8 L2102.78 1347.46 \n",
       "  L2134.22 1364.14 L2165.66 1380.85 L2197.11 1397.58 L2228.55 1414.33 L2260 1431.09 L2291.44 1447.87 L2291.44 1031.25 L2260 1022.48 L2228.55 1013.72 L2197.11 1004.97 \n",
       "  L2165.66 996.239 L2134.22 987.516 L2102.78 978.804 L2071.33 970.105 L2039.89 961.417 L2008.45 952.742 L1977 944.078 L1945.56 935.425 L1914.11 926.785 L1882.67 918.156 \n",
       "  L1851.23 909.538 L1819.78 900.932 L1788.34 892.337 L1756.89 883.753 L1725.45 875.179 L1694.01 866.617 L1662.56 858.064 L1631.12 849.521 L1599.68 840.987 L1568.23 832.462 \n",
       "  L1536.79 823.946 L1505.34 815.436 L1473.9 806.934 L1442.46 798.437 L1411.01 789.944 L1379.57 781.455 L1348.12 772.968 L1316.68 764.482 L1285.24 755.993 L1253.79 747.501 \n",
       "  L1222.35 739.002 L1190.91 730.494 L1159.46 721.972 L1128.02 713.433 L1096.57 704.872 L1065.13 696.282 L1033.69 687.658 L1002.24 678.99 L970.798 670.27 L939.354 661.486 \n",
       "  L907.911 652.624 L876.467 643.67 L845.023 634.605 L813.579 625.409 L782.135 616.059 L750.691 606.53 L719.247 596.795 L687.804 586.831 L656.36 576.613 L624.916 566.126 \n",
       "  L593.472 555.359 L562.028 544.312 L530.584 532.996 L499.14 521.427 L467.697 509.632 L436.253 497.641 L404.809 485.484 L373.365 473.192 L341.921 460.795 L310.477 448.318 \n",
       "  L279.033 435.785 L247.59 423.215  Z\n",
       "  \" fill=\"#009af9\" fill-rule=\"evenodd\" fill-opacity=\"0.5\"/>\n",
       "<circle clip-path=\"url(#clip532)\" cx=\"247.59\" cy=\"469.238\" r=\"14\" fill=\"#009af9\" fill-rule=\"evenodd\" fill-opacity=\"1\" stroke=\"#000000\" stroke-opacity=\"1\" stroke-width=\"3.2\"/>\n",
       "<circle clip-path=\"url(#clip532)\" cx=\"279.033\" cy=\"479.781\" r=\"14\" fill=\"#009af9\" fill-rule=\"evenodd\" fill-opacity=\"1\" stroke=\"#000000\" stroke-opacity=\"1\" stroke-width=\"3.2\"/>\n",
       "<circle clip-path=\"url(#clip532)\" cx=\"310.477\" cy=\"490.372\" r=\"14\" fill=\"#009af9\" fill-rule=\"evenodd\" fill-opacity=\"1\" stroke=\"#000000\" stroke-opacity=\"1\" stroke-width=\"3.2\"/>\n",
       "<circle clip-path=\"url(#clip532)\" cx=\"341.921\" cy=\"501.011\" r=\"14\" fill=\"#009af9\" fill-rule=\"evenodd\" fill-opacity=\"1\" stroke=\"#000000\" stroke-opacity=\"1\" stroke-width=\"3.2\"/>\n",
       "<circle clip-path=\"url(#clip532)\" cx=\"373.365\" cy=\"511.697\" r=\"14\" fill=\"#009af9\" fill-rule=\"evenodd\" fill-opacity=\"1\" stroke=\"#000000\" stroke-opacity=\"1\" stroke-width=\"3.2\"/>\n",
       "<circle clip-path=\"url(#clip532)\" cx=\"404.809\" cy=\"522.43\" r=\"14\" fill=\"#009af9\" fill-rule=\"evenodd\" fill-opacity=\"1\" stroke=\"#000000\" stroke-opacity=\"1\" stroke-width=\"3.2\"/>\n",
       "<circle clip-path=\"url(#clip532)\" cx=\"436.253\" cy=\"533.21\" r=\"14\" fill=\"#009af9\" fill-rule=\"evenodd\" fill-opacity=\"1\" stroke=\"#000000\" stroke-opacity=\"1\" stroke-width=\"3.2\"/>\n",
       "<circle clip-path=\"url(#clip532)\" cx=\"467.697\" cy=\"544.036\" r=\"14\" fill=\"#009af9\" fill-rule=\"evenodd\" fill-opacity=\"1\" stroke=\"#000000\" stroke-opacity=\"1\" stroke-width=\"3.2\"/>\n",
       "<circle clip-path=\"url(#clip532)\" cx=\"499.14\" cy=\"554.908\" r=\"14\" fill=\"#009af9\" fill-rule=\"evenodd\" fill-opacity=\"1\" stroke=\"#000000\" stroke-opacity=\"1\" stroke-width=\"3.2\"/>\n",
       "<circle clip-path=\"url(#clip532)\" cx=\"530.584\" cy=\"565.826\" r=\"14\" fill=\"#009af9\" fill-rule=\"evenodd\" fill-opacity=\"1\" stroke=\"#000000\" stroke-opacity=\"1\" stroke-width=\"3.2\"/>\n",
       "<circle clip-path=\"url(#clip532)\" cx=\"562.028\" cy=\"576.79\" r=\"14\" fill=\"#009af9\" fill-rule=\"evenodd\" fill-opacity=\"1\" stroke=\"#000000\" stroke-opacity=\"1\" stroke-width=\"3.2\"/>\n",
       "<circle clip-path=\"url(#clip532)\" cx=\"593.472\" cy=\"587.798\" r=\"14\" fill=\"#009af9\" fill-rule=\"evenodd\" fill-opacity=\"1\" stroke=\"#000000\" stroke-opacity=\"1\" stroke-width=\"3.2\"/>\n",
       "<circle clip-path=\"url(#clip532)\" cx=\"624.916\" cy=\"598.851\" r=\"14\" fill=\"#009af9\" fill-rule=\"evenodd\" fill-opacity=\"1\" stroke=\"#000000\" stroke-opacity=\"1\" stroke-width=\"3.2\"/>\n",
       "<circle clip-path=\"url(#clip532)\" cx=\"656.36\" cy=\"609.948\" r=\"14\" fill=\"#009af9\" fill-rule=\"evenodd\" fill-opacity=\"1\" stroke=\"#000000\" stroke-opacity=\"1\" stroke-width=\"3.2\"/>\n",
       "<circle clip-path=\"url(#clip532)\" cx=\"687.804\" cy=\"621.09\" r=\"14\" fill=\"#009af9\" fill-rule=\"evenodd\" fill-opacity=\"1\" stroke=\"#000000\" stroke-opacity=\"1\" stroke-width=\"3.2\"/>\n",
       "<circle clip-path=\"url(#clip532)\" cx=\"719.247\" cy=\"632.274\" r=\"14\" fill=\"#009af9\" fill-rule=\"evenodd\" fill-opacity=\"1\" stroke=\"#000000\" stroke-opacity=\"1\" stroke-width=\"3.2\"/>\n",
       "<circle clip-path=\"url(#clip532)\" cx=\"750.691\" cy=\"643.502\" r=\"14\" fill=\"#009af9\" fill-rule=\"evenodd\" fill-opacity=\"1\" stroke=\"#000000\" stroke-opacity=\"1\" stroke-width=\"3.2\"/>\n",
       "<circle clip-path=\"url(#clip532)\" cx=\"782.135\" cy=\"654.773\" r=\"14\" fill=\"#009af9\" fill-rule=\"evenodd\" fill-opacity=\"1\" stroke=\"#000000\" stroke-opacity=\"1\" stroke-width=\"3.2\"/>\n",
       "<circle clip-path=\"url(#clip532)\" cx=\"813.579\" cy=\"666.086\" r=\"14\" fill=\"#009af9\" fill-rule=\"evenodd\" fill-opacity=\"1\" stroke=\"#000000\" stroke-opacity=\"1\" stroke-width=\"3.2\"/>\n",
       "<circle clip-path=\"url(#clip532)\" cx=\"845.023\" cy=\"677.441\" r=\"14\" fill=\"#009af9\" fill-rule=\"evenodd\" fill-opacity=\"1\" stroke=\"#000000\" stroke-opacity=\"1\" stroke-width=\"3.2\"/>\n",
       "<circle clip-path=\"url(#clip532)\" cx=\"876.467\" cy=\"688.838\" r=\"14\" fill=\"#009af9\" fill-rule=\"evenodd\" fill-opacity=\"1\" stroke=\"#000000\" stroke-opacity=\"1\" stroke-width=\"3.2\"/>\n",
       "<circle clip-path=\"url(#clip532)\" cx=\"907.911\" cy=\"700.276\" r=\"14\" fill=\"#009af9\" fill-rule=\"evenodd\" fill-opacity=\"1\" stroke=\"#000000\" stroke-opacity=\"1\" stroke-width=\"3.2\"/>\n",
       "<circle clip-path=\"url(#clip532)\" cx=\"939.354\" cy=\"711.754\" r=\"14\" fill=\"#009af9\" fill-rule=\"evenodd\" fill-opacity=\"1\" stroke=\"#000000\" stroke-opacity=\"1\" stroke-width=\"3.2\"/>\n",
       "<circle clip-path=\"url(#clip532)\" cx=\"970.798\" cy=\"723.273\" r=\"14\" fill=\"#009af9\" fill-rule=\"evenodd\" fill-opacity=\"1\" stroke=\"#000000\" stroke-opacity=\"1\" stroke-width=\"3.2\"/>\n",
       "<circle clip-path=\"url(#clip532)\" cx=\"1002.24\" cy=\"734.832\" r=\"14\" fill=\"#009af9\" fill-rule=\"evenodd\" fill-opacity=\"1\" stroke=\"#000000\" stroke-opacity=\"1\" stroke-width=\"3.2\"/>\n",
       "<circle clip-path=\"url(#clip532)\" cx=\"1033.69\" cy=\"746.43\" r=\"14\" fill=\"#009af9\" fill-rule=\"evenodd\" fill-opacity=\"1\" stroke=\"#000000\" stroke-opacity=\"1\" stroke-width=\"3.2\"/>\n",
       "<circle clip-path=\"url(#clip532)\" cx=\"1065.13\" cy=\"758.068\" r=\"14\" fill=\"#009af9\" fill-rule=\"evenodd\" fill-opacity=\"1\" stroke=\"#000000\" stroke-opacity=\"1\" stroke-width=\"3.2\"/>\n",
       "<circle clip-path=\"url(#clip532)\" cx=\"1096.57\" cy=\"769.744\" r=\"14\" fill=\"#009af9\" fill-rule=\"evenodd\" fill-opacity=\"1\" stroke=\"#000000\" stroke-opacity=\"1\" stroke-width=\"3.2\"/>\n",
       "<circle clip-path=\"url(#clip532)\" cx=\"1128.02\" cy=\"781.458\" r=\"14\" fill=\"#009af9\" fill-rule=\"evenodd\" fill-opacity=\"1\" stroke=\"#000000\" stroke-opacity=\"1\" stroke-width=\"3.2\"/>\n",
       "<circle clip-path=\"url(#clip532)\" cx=\"1159.46\" cy=\"793.21\" r=\"14\" fill=\"#009af9\" fill-rule=\"evenodd\" fill-opacity=\"1\" stroke=\"#000000\" stroke-opacity=\"1\" stroke-width=\"3.2\"/>\n",
       "<circle clip-path=\"url(#clip532)\" cx=\"1190.91\" cy=\"804.999\" r=\"14\" fill=\"#009af9\" fill-rule=\"evenodd\" fill-opacity=\"1\" stroke=\"#000000\" stroke-opacity=\"1\" stroke-width=\"3.2\"/>\n",
       "<circle clip-path=\"url(#clip532)\" cx=\"1222.35\" cy=\"816.825\" r=\"14\" fill=\"#009af9\" fill-rule=\"evenodd\" fill-opacity=\"1\" stroke=\"#000000\" stroke-opacity=\"1\" stroke-width=\"3.2\"/>\n",
       "<circle clip-path=\"url(#clip532)\" cx=\"1253.79\" cy=\"828.687\" r=\"14\" fill=\"#009af9\" fill-rule=\"evenodd\" fill-opacity=\"1\" stroke=\"#000000\" stroke-opacity=\"1\" stroke-width=\"3.2\"/>\n",
       "<circle clip-path=\"url(#clip532)\" cx=\"1285.24\" cy=\"840.585\" r=\"14\" fill=\"#009af9\" fill-rule=\"evenodd\" fill-opacity=\"1\" stroke=\"#000000\" stroke-opacity=\"1\" stroke-width=\"3.2\"/>\n",
       "<circle clip-path=\"url(#clip532)\" cx=\"1316.68\" cy=\"852.519\" r=\"14\" fill=\"#009af9\" fill-rule=\"evenodd\" fill-opacity=\"1\" stroke=\"#000000\" stroke-opacity=\"1\" stroke-width=\"3.2\"/>\n",
       "<circle clip-path=\"url(#clip532)\" cx=\"1348.12\" cy=\"864.487\" r=\"14\" fill=\"#009af9\" fill-rule=\"evenodd\" fill-opacity=\"1\" stroke=\"#000000\" stroke-opacity=\"1\" stroke-width=\"3.2\"/>\n",
       "<circle clip-path=\"url(#clip532)\" cx=\"1379.57\" cy=\"876.49\" r=\"14\" fill=\"#009af9\" fill-rule=\"evenodd\" fill-opacity=\"1\" stroke=\"#000000\" stroke-opacity=\"1\" stroke-width=\"3.2\"/>\n",
       "<circle clip-path=\"url(#clip532)\" cx=\"1411.01\" cy=\"888.527\" r=\"14\" fill=\"#009af9\" fill-rule=\"evenodd\" fill-opacity=\"1\" stroke=\"#000000\" stroke-opacity=\"1\" stroke-width=\"3.2\"/>\n",
       "<circle clip-path=\"url(#clip532)\" cx=\"1442.46\" cy=\"900.597\" r=\"14\" fill=\"#009af9\" fill-rule=\"evenodd\" fill-opacity=\"1\" stroke=\"#000000\" stroke-opacity=\"1\" stroke-width=\"3.2\"/>\n",
       "<circle clip-path=\"url(#clip532)\" cx=\"1473.9\" cy=\"912.7\" r=\"14\" fill=\"#009af9\" fill-rule=\"evenodd\" fill-opacity=\"1\" stroke=\"#000000\" stroke-opacity=\"1\" stroke-width=\"3.2\"/>\n",
       "<circle clip-path=\"url(#clip532)\" cx=\"1505.34\" cy=\"924.835\" r=\"14\" fill=\"#009af9\" fill-rule=\"evenodd\" fill-opacity=\"1\" stroke=\"#000000\" stroke-opacity=\"1\" stroke-width=\"3.2\"/>\n",
       "<circle clip-path=\"url(#clip532)\" cx=\"1536.79\" cy=\"937.002\" r=\"14\" fill=\"#009af9\" fill-rule=\"evenodd\" fill-opacity=\"1\" stroke=\"#000000\" stroke-opacity=\"1\" stroke-width=\"3.2\"/>\n",
       "<circle clip-path=\"url(#clip532)\" cx=\"1568.23\" cy=\"949.201\" r=\"14\" fill=\"#009af9\" fill-rule=\"evenodd\" fill-opacity=\"1\" stroke=\"#000000\" stroke-opacity=\"1\" stroke-width=\"3.2\"/>\n",
       "<circle clip-path=\"url(#clip532)\" cx=\"1599.68\" cy=\"961.431\" r=\"14\" fill=\"#009af9\" fill-rule=\"evenodd\" fill-opacity=\"1\" stroke=\"#000000\" stroke-opacity=\"1\" stroke-width=\"3.2\"/>\n",
       "<circle clip-path=\"url(#clip532)\" cx=\"1631.12\" cy=\"973.69\" r=\"14\" fill=\"#009af9\" fill-rule=\"evenodd\" fill-opacity=\"1\" stroke=\"#000000\" stroke-opacity=\"1\" stroke-width=\"3.2\"/>\n",
       "<circle clip-path=\"url(#clip532)\" cx=\"1662.56\" cy=\"985.98\" r=\"14\" fill=\"#009af9\" fill-rule=\"evenodd\" fill-opacity=\"1\" stroke=\"#000000\" stroke-opacity=\"1\" stroke-width=\"3.2\"/>\n",
       "<circle clip-path=\"url(#clip532)\" cx=\"1694.01\" cy=\"998.299\" r=\"14\" fill=\"#009af9\" fill-rule=\"evenodd\" fill-opacity=\"1\" stroke=\"#000000\" stroke-opacity=\"1\" stroke-width=\"3.2\"/>\n",
       "<circle clip-path=\"url(#clip532)\" cx=\"1725.45\" cy=\"1010.65\" r=\"14\" fill=\"#009af9\" fill-rule=\"evenodd\" fill-opacity=\"1\" stroke=\"#000000\" stroke-opacity=\"1\" stroke-width=\"3.2\"/>\n",
       "<circle clip-path=\"url(#clip532)\" cx=\"1756.89\" cy=\"1023.02\" r=\"14\" fill=\"#009af9\" fill-rule=\"evenodd\" fill-opacity=\"1\" stroke=\"#000000\" stroke-opacity=\"1\" stroke-width=\"3.2\"/>\n",
       "<circle clip-path=\"url(#clip532)\" cx=\"1788.34\" cy=\"1035.43\" r=\"14\" fill=\"#009af9\" fill-rule=\"evenodd\" fill-opacity=\"1\" stroke=\"#000000\" stroke-opacity=\"1\" stroke-width=\"3.2\"/>\n",
       "<circle clip-path=\"url(#clip532)\" cx=\"1819.78\" cy=\"1047.86\" r=\"14\" fill=\"#009af9\" fill-rule=\"evenodd\" fill-opacity=\"1\" stroke=\"#000000\" stroke-opacity=\"1\" stroke-width=\"3.2\"/>\n",
       "<circle clip-path=\"url(#clip532)\" cx=\"1851.23\" cy=\"1060.31\" r=\"14\" fill=\"#009af9\" fill-rule=\"evenodd\" fill-opacity=\"1\" stroke=\"#000000\" stroke-opacity=\"1\" stroke-width=\"3.2\"/>\n",
       "<circle clip-path=\"url(#clip532)\" cx=\"1882.67\" cy=\"1072.8\" r=\"14\" fill=\"#009af9\" fill-rule=\"evenodd\" fill-opacity=\"1\" stroke=\"#000000\" stroke-opacity=\"1\" stroke-width=\"3.2\"/>\n",
       "<circle clip-path=\"url(#clip532)\" cx=\"1914.11\" cy=\"1085.31\" r=\"14\" fill=\"#009af9\" fill-rule=\"evenodd\" fill-opacity=\"1\" stroke=\"#000000\" stroke-opacity=\"1\" stroke-width=\"3.2\"/>\n",
       "<circle clip-path=\"url(#clip532)\" cx=\"1945.56\" cy=\"1097.84\" r=\"14\" fill=\"#009af9\" fill-rule=\"evenodd\" fill-opacity=\"1\" stroke=\"#000000\" stroke-opacity=\"1\" stroke-width=\"3.2\"/>\n",
       "<circle clip-path=\"url(#clip532)\" cx=\"1977\" cy=\"1110.4\" r=\"14\" fill=\"#009af9\" fill-rule=\"evenodd\" fill-opacity=\"1\" stroke=\"#000000\" stroke-opacity=\"1\" stroke-width=\"3.2\"/>\n",
       "<circle clip-path=\"url(#clip532)\" cx=\"2008.45\" cy=\"1122.98\" r=\"14\" fill=\"#009af9\" fill-rule=\"evenodd\" fill-opacity=\"1\" stroke=\"#000000\" stroke-opacity=\"1\" stroke-width=\"3.2\"/>\n",
       "<circle clip-path=\"url(#clip532)\" cx=\"2039.89\" cy=\"1135.58\" r=\"14\" fill=\"#009af9\" fill-rule=\"evenodd\" fill-opacity=\"1\" stroke=\"#000000\" stroke-opacity=\"1\" stroke-width=\"3.2\"/>\n",
       "<circle clip-path=\"url(#clip532)\" cx=\"2071.33\" cy=\"1148.21\" r=\"14\" fill=\"#009af9\" fill-rule=\"evenodd\" fill-opacity=\"1\" stroke=\"#000000\" stroke-opacity=\"1\" stroke-width=\"3.2\"/>\n",
       "<circle clip-path=\"url(#clip532)\" cx=\"2102.78\" cy=\"1160.86\" r=\"14\" fill=\"#009af9\" fill-rule=\"evenodd\" fill-opacity=\"1\" stroke=\"#000000\" stroke-opacity=\"1\" stroke-width=\"3.2\"/>\n",
       "<circle clip-path=\"url(#clip532)\" cx=\"2134.22\" cy=\"1173.53\" r=\"14\" fill=\"#009af9\" fill-rule=\"evenodd\" fill-opacity=\"1\" stroke=\"#000000\" stroke-opacity=\"1\" stroke-width=\"3.2\"/>\n",
       "<circle clip-path=\"url(#clip532)\" cx=\"2165.66\" cy=\"1186.22\" r=\"14\" fill=\"#009af9\" fill-rule=\"evenodd\" fill-opacity=\"1\" stroke=\"#000000\" stroke-opacity=\"1\" stroke-width=\"3.2\"/>\n",
       "<circle clip-path=\"url(#clip532)\" cx=\"2197.11\" cy=\"1198.93\" r=\"14\" fill=\"#009af9\" fill-rule=\"evenodd\" fill-opacity=\"1\" stroke=\"#000000\" stroke-opacity=\"1\" stroke-width=\"3.2\"/>\n",
       "<circle clip-path=\"url(#clip532)\" cx=\"2228.55\" cy=\"1211.67\" r=\"14\" fill=\"#009af9\" fill-rule=\"evenodd\" fill-opacity=\"1\" stroke=\"#000000\" stroke-opacity=\"1\" stroke-width=\"3.2\"/>\n",
       "<circle clip-path=\"url(#clip532)\" cx=\"2260\" cy=\"1224.42\" r=\"14\" fill=\"#009af9\" fill-rule=\"evenodd\" fill-opacity=\"1\" stroke=\"#000000\" stroke-opacity=\"1\" stroke-width=\"3.2\"/>\n",
       "<circle clip-path=\"url(#clip532)\" cx=\"2291.44\" cy=\"1237.18\" r=\"14\" fill=\"#009af9\" fill-rule=\"evenodd\" fill-opacity=\"1\" stroke=\"#000000\" stroke-opacity=\"1\" stroke-width=\"3.2\"/>\n",
       "<path clip-path=\"url(#clip532)\" d=\"\n",
       "M247.59 246.022 L279.033 255.23 L310.477 264.59 L341.921 274.118 L373.365 283.836 L404.809 293.766 L436.253 303.933 L467.697 314.364 L499.14 325.089 L530.584 336.133 \n",
       "  L562.028 347.521 L593.472 359.27 L624.916 371.392 L656.36 383.888 L687.804 396.753 L719.247 409.974 L750.691 423.533 L782.135 437.407 L813.579 451.575 L845.023 466.013 \n",
       "  L876.467 480.702 L907.911 495.621 L939.354 510.754 L970.798 526.086 L1002.24 541.602 L1033.69 557.292 L1065.13 573.146 L1096.57 589.154 L1128.02 605.309 L1159.46 621.604 \n",
       "  L1190.91 638.034 L1222.35 654.592 L1253.79 671.274 L1285.24 688.076 L1316.68 704.993 L1348.12 722.022 L1379.57 739.16 L1411.01 756.403 L1442.46 773.749 L1473.9 791.194 \n",
       "  L1505.34 808.735 L1536.79 826.371 L1568.23 844.098 L1599.68 861.915 L1631.12 879.818 L1662.56 897.806 L1694.01 915.876 L1725.45 934.026 L1756.89 952.254 L1788.34 970.557 \n",
       "  L1819.78 988.934 L1851.23 1007.38 L1882.67 1025.9 L1914.11 1044.48 L1945.56 1063.13 L1977 1081.84 L2008.45 1100.61 L2039.89 1119.44 L2071.33 1138.33 L2102.78 1157.27 \n",
       "  L2134.22 1176.26 L2165.66 1195.3 L2197.11 1214.39 L2228.55 1233.52 L2260 1252.7 L2291.44 1271.92 L2291.44 856.437 L2260 845.671 L2228.55 834.931 L2197.11 824.218 \n",
       "  L2165.66 813.531 L2134.22 802.871 L2102.78 792.238 L2071.33 781.632 L2039.89 771.053 L2008.45 760.502 L1977 749.979 L1945.56 739.483 L1914.11 729.016 L1882.67 718.576 \n",
       "  L1851.23 708.164 L1819.78 697.78 L1788.34 687.425 L1756.89 677.097 L1725.45 666.796 L1694.01 656.524 L1662.56 646.279 L1631.12 636.061 L1599.68 625.87 L1568.23 615.706 \n",
       "  L1536.79 605.568 L1505.34 595.455 L1473.9 585.367 L1442.46 575.303 L1411.01 565.263 L1379.57 555.244 L1348.12 545.247 L1316.68 535.268 L1285.24 525.307 L1253.79 515.362 \n",
       "  L1222.35 505.43 L1190.91 495.509 L1159.46 485.594 L1128.02 475.683 L1096.57 465.771 L1065.13 455.852 L1033.69 445.92 L1002.24 435.968 L970.798 425.986 L939.354 415.966 \n",
       "  L907.911 405.894 L876.467 395.757 L845.023 385.539 L813.579 375.221 L782.135 364.784 L750.691 354.207 L719.247 343.467 L687.804 332.546 L656.36 321.424 L624.916 310.091 \n",
       "  L593.472 298.541 L562.028 286.777 L530.584 274.812 L499.14 262.663 L467.697 250.356 L436.253 237.918 L404.809 225.378 L373.365 212.763 L341.921 200.101 L310.477 187.414 \n",
       "  L279.033 174.723 L247.59 162.047  Z\n",
       "  \" fill=\"#e26f46\" fill-rule=\"evenodd\" fill-opacity=\"0.5\"/>\n",
       "<circle clip-path=\"url(#clip532)\" cx=\"247.59\" cy=\"203.463\" r=\"14\" fill=\"#e26f46\" fill-rule=\"evenodd\" fill-opacity=\"1\" stroke=\"#000000\" stroke-opacity=\"1\" stroke-width=\"3.2\"/>\n",
       "<circle clip-path=\"url(#clip532)\" cx=\"279.033\" cy=\"214.461\" r=\"14\" fill=\"#e26f46\" fill-rule=\"evenodd\" fill-opacity=\"1\" stroke=\"#000000\" stroke-opacity=\"1\" stroke-width=\"3.2\"/>\n",
       "<circle clip-path=\"url(#clip532)\" cx=\"310.477\" cy=\"225.536\" r=\"14\" fill=\"#e26f46\" fill-rule=\"evenodd\" fill-opacity=\"1\" stroke=\"#000000\" stroke-opacity=\"1\" stroke-width=\"3.2\"/>\n",
       "<circle clip-path=\"url(#clip532)\" cx=\"341.921\" cy=\"236.688\" r=\"14\" fill=\"#e26f46\" fill-rule=\"evenodd\" fill-opacity=\"1\" stroke=\"#000000\" stroke-opacity=\"1\" stroke-width=\"3.2\"/>\n",
       "<circle clip-path=\"url(#clip532)\" cx=\"373.365\" cy=\"247.918\" r=\"14\" fill=\"#e26f46\" fill-rule=\"evenodd\" fill-opacity=\"1\" stroke=\"#000000\" stroke-opacity=\"1\" stroke-width=\"3.2\"/>\n",
       "<circle clip-path=\"url(#clip532)\" cx=\"404.809\" cy=\"259.224\" r=\"14\" fill=\"#e26f46\" fill-rule=\"evenodd\" fill-opacity=\"1\" stroke=\"#000000\" stroke-opacity=\"1\" stroke-width=\"3.2\"/>\n",
       "<circle clip-path=\"url(#clip532)\" cx=\"436.253\" cy=\"270.607\" r=\"14\" fill=\"#e26f46\" fill-rule=\"evenodd\" fill-opacity=\"1\" stroke=\"#000000\" stroke-opacity=\"1\" stroke-width=\"3.2\"/>\n",
       "<circle clip-path=\"url(#clip532)\" cx=\"467.697\" cy=\"282.066\" r=\"14\" fill=\"#e26f46\" fill-rule=\"evenodd\" fill-opacity=\"1\" stroke=\"#000000\" stroke-opacity=\"1\" stroke-width=\"3.2\"/>\n",
       "<circle clip-path=\"url(#clip532)\" cx=\"499.14\" cy=\"293.601\" r=\"14\" fill=\"#e26f46\" fill-rule=\"evenodd\" fill-opacity=\"1\" stroke=\"#000000\" stroke-opacity=\"1\" stroke-width=\"3.2\"/>\n",
       "<circle clip-path=\"url(#clip532)\" cx=\"530.584\" cy=\"305.212\" r=\"14\" fill=\"#e26f46\" fill-rule=\"evenodd\" fill-opacity=\"1\" stroke=\"#000000\" stroke-opacity=\"1\" stroke-width=\"3.2\"/>\n",
       "<circle clip-path=\"url(#clip532)\" cx=\"562.028\" cy=\"316.898\" r=\"14\" fill=\"#e26f46\" fill-rule=\"evenodd\" fill-opacity=\"1\" stroke=\"#000000\" stroke-opacity=\"1\" stroke-width=\"3.2\"/>\n",
       "<circle clip-path=\"url(#clip532)\" cx=\"593.472\" cy=\"328.659\" r=\"14\" fill=\"#e26f46\" fill-rule=\"evenodd\" fill-opacity=\"1\" stroke=\"#000000\" stroke-opacity=\"1\" stroke-width=\"3.2\"/>\n",
       "<circle clip-path=\"url(#clip532)\" cx=\"624.916\" cy=\"340.494\" r=\"14\" fill=\"#e26f46\" fill-rule=\"evenodd\" fill-opacity=\"1\" stroke=\"#000000\" stroke-opacity=\"1\" stroke-width=\"3.2\"/>\n",
       "<circle clip-path=\"url(#clip532)\" cx=\"656.36\" cy=\"352.404\" r=\"14\" fill=\"#e26f46\" fill-rule=\"evenodd\" fill-opacity=\"1\" stroke=\"#000000\" stroke-opacity=\"1\" stroke-width=\"3.2\"/>\n",
       "<circle clip-path=\"url(#clip532)\" cx=\"687.804\" cy=\"364.388\" r=\"14\" fill=\"#e26f46\" fill-rule=\"evenodd\" fill-opacity=\"1\" stroke=\"#000000\" stroke-opacity=\"1\" stroke-width=\"3.2\"/>\n",
       "<circle clip-path=\"url(#clip532)\" cx=\"719.247\" cy=\"376.445\" r=\"14\" fill=\"#e26f46\" fill-rule=\"evenodd\" fill-opacity=\"1\" stroke=\"#000000\" stroke-opacity=\"1\" stroke-width=\"3.2\"/>\n",
       "<circle clip-path=\"url(#clip532)\" cx=\"750.691\" cy=\"388.575\" r=\"14\" fill=\"#e26f46\" fill-rule=\"evenodd\" fill-opacity=\"1\" stroke=\"#000000\" stroke-opacity=\"1\" stroke-width=\"3.2\"/>\n",
       "<circle clip-path=\"url(#clip532)\" cx=\"782.135\" cy=\"400.778\" r=\"14\" fill=\"#e26f46\" fill-rule=\"evenodd\" fill-opacity=\"1\" stroke=\"#000000\" stroke-opacity=\"1\" stroke-width=\"3.2\"/>\n",
       "<circle clip-path=\"url(#clip532)\" cx=\"813.579\" cy=\"413.053\" r=\"14\" fill=\"#e26f46\" fill-rule=\"evenodd\" fill-opacity=\"1\" stroke=\"#000000\" stroke-opacity=\"1\" stroke-width=\"3.2\"/>\n",
       "<circle clip-path=\"url(#clip532)\" cx=\"845.023\" cy=\"425.4\" r=\"14\" fill=\"#e26f46\" fill-rule=\"evenodd\" fill-opacity=\"1\" stroke=\"#000000\" stroke-opacity=\"1\" stroke-width=\"3.2\"/>\n",
       "<circle clip-path=\"url(#clip532)\" cx=\"876.467\" cy=\"437.818\" r=\"14\" fill=\"#e26f46\" fill-rule=\"evenodd\" fill-opacity=\"1\" stroke=\"#000000\" stroke-opacity=\"1\" stroke-width=\"3.2\"/>\n",
       "<circle clip-path=\"url(#clip532)\" cx=\"907.911\" cy=\"450.306\" r=\"14\" fill=\"#e26f46\" fill-rule=\"evenodd\" fill-opacity=\"1\" stroke=\"#000000\" stroke-opacity=\"1\" stroke-width=\"3.2\"/>\n",
       "<circle clip-path=\"url(#clip532)\" cx=\"939.354\" cy=\"462.866\" r=\"14\" fill=\"#e26f46\" fill-rule=\"evenodd\" fill-opacity=\"1\" stroke=\"#000000\" stroke-opacity=\"1\" stroke-width=\"3.2\"/>\n",
       "<circle clip-path=\"url(#clip532)\" cx=\"970.798\" cy=\"475.495\" r=\"14\" fill=\"#e26f46\" fill-rule=\"evenodd\" fill-opacity=\"1\" stroke=\"#000000\" stroke-opacity=\"1\" stroke-width=\"3.2\"/>\n",
       "<circle clip-path=\"url(#clip532)\" cx=\"1002.24\" cy=\"488.193\" r=\"14\" fill=\"#e26f46\" fill-rule=\"evenodd\" fill-opacity=\"1\" stroke=\"#000000\" stroke-opacity=\"1\" stroke-width=\"3.2\"/>\n",
       "<circle clip-path=\"url(#clip532)\" cx=\"1033.69\" cy=\"500.96\" r=\"14\" fill=\"#e26f46\" fill-rule=\"evenodd\" fill-opacity=\"1\" stroke=\"#000000\" stroke-opacity=\"1\" stroke-width=\"3.2\"/>\n",
       "<circle clip-path=\"url(#clip532)\" cx=\"1065.13\" cy=\"513.796\" r=\"14\" fill=\"#e26f46\" fill-rule=\"evenodd\" fill-opacity=\"1\" stroke=\"#000000\" stroke-opacity=\"1\" stroke-width=\"3.2\"/>\n",
       "<circle clip-path=\"url(#clip532)\" cx=\"1096.57\" cy=\"526.699\" r=\"14\" fill=\"#e26f46\" fill-rule=\"evenodd\" fill-opacity=\"1\" stroke=\"#000000\" stroke-opacity=\"1\" stroke-width=\"3.2\"/>\n",
       "<circle clip-path=\"url(#clip532)\" cx=\"1128.02\" cy=\"539.669\" r=\"14\" fill=\"#e26f46\" fill-rule=\"evenodd\" fill-opacity=\"1\" stroke=\"#000000\" stroke-opacity=\"1\" stroke-width=\"3.2\"/>\n",
       "<circle clip-path=\"url(#clip532)\" cx=\"1159.46\" cy=\"552.706\" r=\"14\" fill=\"#e26f46\" fill-rule=\"evenodd\" fill-opacity=\"1\" stroke=\"#000000\" stroke-opacity=\"1\" stroke-width=\"3.2\"/>\n",
       "<circle clip-path=\"url(#clip532)\" cx=\"1190.91\" cy=\"565.809\" r=\"14\" fill=\"#e26f46\" fill-rule=\"evenodd\" fill-opacity=\"1\" stroke=\"#000000\" stroke-opacity=\"1\" stroke-width=\"3.2\"/>\n",
       "<circle clip-path=\"url(#clip532)\" cx=\"1222.35\" cy=\"578.977\" r=\"14\" fill=\"#e26f46\" fill-rule=\"evenodd\" fill-opacity=\"1\" stroke=\"#000000\" stroke-opacity=\"1\" stroke-width=\"3.2\"/>\n",
       "<circle clip-path=\"url(#clip532)\" cx=\"1253.79\" cy=\"592.21\" r=\"14\" fill=\"#e26f46\" fill-rule=\"evenodd\" fill-opacity=\"1\" stroke=\"#000000\" stroke-opacity=\"1\" stroke-width=\"3.2\"/>\n",
       "<circle clip-path=\"url(#clip532)\" cx=\"1285.24\" cy=\"605.507\" r=\"14\" fill=\"#e26f46\" fill-rule=\"evenodd\" fill-opacity=\"1\" stroke=\"#000000\" stroke-opacity=\"1\" stroke-width=\"3.2\"/>\n",
       "<circle clip-path=\"url(#clip532)\" cx=\"1316.68\" cy=\"618.868\" r=\"14\" fill=\"#e26f46\" fill-rule=\"evenodd\" fill-opacity=\"1\" stroke=\"#000000\" stroke-opacity=\"1\" stroke-width=\"3.2\"/>\n",
       "<circle clip-path=\"url(#clip532)\" cx=\"1348.12\" cy=\"632.292\" r=\"14\" fill=\"#e26f46\" fill-rule=\"evenodd\" fill-opacity=\"1\" stroke=\"#000000\" stroke-opacity=\"1\" stroke-width=\"3.2\"/>\n",
       "<circle clip-path=\"url(#clip532)\" cx=\"1379.57\" cy=\"645.778\" r=\"14\" fill=\"#e26f46\" fill-rule=\"evenodd\" fill-opacity=\"1\" stroke=\"#000000\" stroke-opacity=\"1\" stroke-width=\"3.2\"/>\n",
       "<circle clip-path=\"url(#clip532)\" cx=\"1411.01\" cy=\"659.325\" r=\"14\" fill=\"#e26f46\" fill-rule=\"evenodd\" fill-opacity=\"1\" stroke=\"#000000\" stroke-opacity=\"1\" stroke-width=\"3.2\"/>\n",
       "<circle clip-path=\"url(#clip532)\" cx=\"1442.46\" cy=\"672.933\" r=\"14\" fill=\"#e26f46\" fill-rule=\"evenodd\" fill-opacity=\"1\" stroke=\"#000000\" stroke-opacity=\"1\" stroke-width=\"3.2\"/>\n",
       "<circle clip-path=\"url(#clip532)\" cx=\"1473.9\" cy=\"686.602\" r=\"14\" fill=\"#e26f46\" fill-rule=\"evenodd\" fill-opacity=\"1\" stroke=\"#000000\" stroke-opacity=\"1\" stroke-width=\"3.2\"/>\n",
       "<circle clip-path=\"url(#clip532)\" cx=\"1505.34\" cy=\"700.33\" r=\"14\" fill=\"#e26f46\" fill-rule=\"evenodd\" fill-opacity=\"1\" stroke=\"#000000\" stroke-opacity=\"1\" stroke-width=\"3.2\"/>\n",
       "<circle clip-path=\"url(#clip532)\" cx=\"1536.79\" cy=\"714.116\" r=\"14\" fill=\"#e26f46\" fill-rule=\"evenodd\" fill-opacity=\"1\" stroke=\"#000000\" stroke-opacity=\"1\" stroke-width=\"3.2\"/>\n",
       "<circle clip-path=\"url(#clip532)\" cx=\"1568.23\" cy=\"727.961\" r=\"14\" fill=\"#e26f46\" fill-rule=\"evenodd\" fill-opacity=\"1\" stroke=\"#000000\" stroke-opacity=\"1\" stroke-width=\"3.2\"/>\n",
       "<circle clip-path=\"url(#clip532)\" cx=\"1599.68\" cy=\"741.863\" r=\"14\" fill=\"#e26f46\" fill-rule=\"evenodd\" fill-opacity=\"1\" stroke=\"#000000\" stroke-opacity=\"1\" stroke-width=\"3.2\"/>\n",
       "<circle clip-path=\"url(#clip532)\" cx=\"1631.12\" cy=\"755.822\" r=\"14\" fill=\"#e26f46\" fill-rule=\"evenodd\" fill-opacity=\"1\" stroke=\"#000000\" stroke-opacity=\"1\" stroke-width=\"3.2\"/>\n",
       "<circle clip-path=\"url(#clip532)\" cx=\"1662.56\" cy=\"769.836\" r=\"14\" fill=\"#e26f46\" fill-rule=\"evenodd\" fill-opacity=\"1\" stroke=\"#000000\" stroke-opacity=\"1\" stroke-width=\"3.2\"/>\n",
       "<circle clip-path=\"url(#clip532)\" cx=\"1694.01\" cy=\"783.905\" r=\"14\" fill=\"#e26f46\" fill-rule=\"evenodd\" fill-opacity=\"1\" stroke=\"#000000\" stroke-opacity=\"1\" stroke-width=\"3.2\"/>\n",
       "<circle clip-path=\"url(#clip532)\" cx=\"1725.45\" cy=\"798.029\" r=\"14\" fill=\"#e26f46\" fill-rule=\"evenodd\" fill-opacity=\"1\" stroke=\"#000000\" stroke-opacity=\"1\" stroke-width=\"3.2\"/>\n",
       "<circle clip-path=\"url(#clip532)\" cx=\"1756.89\" cy=\"812.206\" r=\"14\" fill=\"#e26f46\" fill-rule=\"evenodd\" fill-opacity=\"1\" stroke=\"#000000\" stroke-opacity=\"1\" stroke-width=\"3.2\"/>\n",
       "<circle clip-path=\"url(#clip532)\" cx=\"1788.34\" cy=\"826.436\" r=\"14\" fill=\"#e26f46\" fill-rule=\"evenodd\" fill-opacity=\"1\" stroke=\"#000000\" stroke-opacity=\"1\" stroke-width=\"3.2\"/>\n",
       "<circle clip-path=\"url(#clip532)\" cx=\"1819.78\" cy=\"840.717\" r=\"14\" fill=\"#e26f46\" fill-rule=\"evenodd\" fill-opacity=\"1\" stroke=\"#000000\" stroke-opacity=\"1\" stroke-width=\"3.2\"/>\n",
       "<circle clip-path=\"url(#clip532)\" cx=\"1851.23\" cy=\"855.05\" r=\"14\" fill=\"#e26f46\" fill-rule=\"evenodd\" fill-opacity=\"1\" stroke=\"#000000\" stroke-opacity=\"1\" stroke-width=\"3.2\"/>\n",
       "<circle clip-path=\"url(#clip532)\" cx=\"1882.67\" cy=\"869.432\" r=\"14\" fill=\"#e26f46\" fill-rule=\"evenodd\" fill-opacity=\"1\" stroke=\"#000000\" stroke-opacity=\"1\" stroke-width=\"3.2\"/>\n",
       "<circle clip-path=\"url(#clip532)\" cx=\"1914.11\" cy=\"883.864\" r=\"14\" fill=\"#e26f46\" fill-rule=\"evenodd\" fill-opacity=\"1\" stroke=\"#000000\" stroke-opacity=\"1\" stroke-width=\"3.2\"/>\n",
       "<circle clip-path=\"url(#clip532)\" cx=\"1945.56\" cy=\"898.344\" r=\"14\" fill=\"#e26f46\" fill-rule=\"evenodd\" fill-opacity=\"1\" stroke=\"#000000\" stroke-opacity=\"1\" stroke-width=\"3.2\"/>\n",
       "<circle clip-path=\"url(#clip532)\" cx=\"1977\" cy=\"912.872\" r=\"14\" fill=\"#e26f46\" fill-rule=\"evenodd\" fill-opacity=\"1\" stroke=\"#000000\" stroke-opacity=\"1\" stroke-width=\"3.2\"/>\n",
       "<circle clip-path=\"url(#clip532)\" cx=\"2008.45\" cy=\"927.447\" r=\"14\" fill=\"#e26f46\" fill-rule=\"evenodd\" fill-opacity=\"1\" stroke=\"#000000\" stroke-opacity=\"1\" stroke-width=\"3.2\"/>\n",
       "<circle clip-path=\"url(#clip532)\" cx=\"2039.89\" cy=\"942.067\" r=\"14\" fill=\"#e26f46\" fill-rule=\"evenodd\" fill-opacity=\"1\" stroke=\"#000000\" stroke-opacity=\"1\" stroke-width=\"3.2\"/>\n",
       "<circle clip-path=\"url(#clip532)\" cx=\"2071.33\" cy=\"956.732\" r=\"14\" fill=\"#e26f46\" fill-rule=\"evenodd\" fill-opacity=\"1\" stroke=\"#000000\" stroke-opacity=\"1\" stroke-width=\"3.2\"/>\n",
       "<circle clip-path=\"url(#clip532)\" cx=\"2102.78\" cy=\"971.442\" r=\"14\" fill=\"#e26f46\" fill-rule=\"evenodd\" fill-opacity=\"1\" stroke=\"#000000\" stroke-opacity=\"1\" stroke-width=\"3.2\"/>\n",
       "<circle clip-path=\"url(#clip532)\" cx=\"2134.22\" cy=\"986.194\" r=\"14\" fill=\"#e26f46\" fill-rule=\"evenodd\" fill-opacity=\"1\" stroke=\"#000000\" stroke-opacity=\"1\" stroke-width=\"3.2\"/>\n",
       "<circle clip-path=\"url(#clip532)\" cx=\"2165.66\" cy=\"1000.99\" r=\"14\" fill=\"#e26f46\" fill-rule=\"evenodd\" fill-opacity=\"1\" stroke=\"#000000\" stroke-opacity=\"1\" stroke-width=\"3.2\"/>\n",
       "<circle clip-path=\"url(#clip532)\" cx=\"2197.11\" cy=\"1015.82\" r=\"14\" fill=\"#e26f46\" fill-rule=\"evenodd\" fill-opacity=\"1\" stroke=\"#000000\" stroke-opacity=\"1\" stroke-width=\"3.2\"/>\n",
       "<circle clip-path=\"url(#clip532)\" cx=\"2228.55\" cy=\"1030.7\" r=\"14\" fill=\"#e26f46\" fill-rule=\"evenodd\" fill-opacity=\"1\" stroke=\"#000000\" stroke-opacity=\"1\" stroke-width=\"3.2\"/>\n",
       "<circle clip-path=\"url(#clip532)\" cx=\"2260\" cy=\"1045.62\" r=\"14\" fill=\"#e26f46\" fill-rule=\"evenodd\" fill-opacity=\"1\" stroke=\"#000000\" stroke-opacity=\"1\" stroke-width=\"3.2\"/>\n",
       "<circle clip-path=\"url(#clip532)\" cx=\"2291.44\" cy=\"1060.57\" r=\"14\" fill=\"#e26f46\" fill-rule=\"evenodd\" fill-opacity=\"1\" stroke=\"#000000\" stroke-opacity=\"1\" stroke-width=\"3.2\"/>\n",
       "<path clip-path=\"url(#clip530)\" d=\"\n",
       "M1868.76 324.425 L2280.54 324.425 L2280.54 168.905 L1868.76 168.905  Z\n",
       "  \" fill=\"#ffffff\" fill-rule=\"evenodd\" fill-opacity=\"1\"/>\n",
       "<polyline clip-path=\"url(#clip530)\" style=\"stroke:#000000; stroke-linecap:butt; stroke-linejoin:round; stroke-width:4; stroke-opacity:1; fill:none\" points=\"\n",
       "  1868.76,324.425 2280.54,324.425 2280.54,168.905 1868.76,168.905 1868.76,324.425 \n",
       "  \"/>\n",
       "<circle clip-path=\"url(#clip530)\" cx=\"1965.04\" cy=\"220.745\" r=\"23\" fill=\"#009af9\" fill-rule=\"evenodd\" fill-opacity=\"1\" stroke=\"#000000\" stroke-opacity=\"1\" stroke-width=\"5.12\"/>\n",
       "<path clip-path=\"url(#clip530)\" d=\"M2076.93 207.539 L2065.13 225.988 L2076.93 225.988 L2076.93 207.539 M2075.71 203.465 L2081.59 203.465 L2081.59 225.988 L2086.52 225.988 L2086.52 229.877 L2081.59 229.877 L2081.59 238.025 L2076.93 238.025 L2076.93 229.877 L2061.33 229.877 L2061.33 225.363 L2075.71 203.465 Z\" fill=\"#000000\" fill-rule=\"evenodd\" fill-opacity=\"1\" /><path clip-path=\"url(#clip530)\" d=\"M2119.5 240.432 Q2117.7 245.062 2115.98 246.474 Q2114.27 247.886 2111.4 247.886 L2108 247.886 L2108 244.321 L2110.5 244.321 Q2112.26 244.321 2113.23 243.488 Q2114.2 242.654 2115.38 239.552 L2116.15 237.608 L2105.66 212.099 L2110.17 212.099 L2118.28 232.377 L2126.38 212.099 L2130.89 212.099 L2119.5 240.432 Z\" fill=\"#000000\" fill-rule=\"evenodd\" fill-opacity=\"1\" /><path clip-path=\"url(#clip530)\" d=\"M2158.95 223.997 L2158.95 226.08 L2139.36 226.08 Q2139.64 230.478 2142 232.793 Q2144.39 235.085 2148.62 235.085 Q2151.08 235.085 2153.37 234.483 Q2155.68 233.881 2157.95 232.677 L2157.95 236.705 Q2155.66 237.677 2153.25 238.187 Q2150.85 238.696 2148.37 238.696 Q2142.16 238.696 2138.53 235.085 Q2134.92 231.474 2134.92 225.316 Q2134.92 218.951 2138.35 215.224 Q2141.79 211.474 2147.63 211.474 Q2152.86 211.474 2155.89 214.853 Q2158.95 218.21 2158.95 223.997 M2154.69 222.747 Q2154.64 219.252 2152.72 217.168 Q2150.82 215.085 2147.67 215.085 Q2144.11 215.085 2141.96 217.099 Q2139.83 219.113 2139.5 222.77 L2154.69 222.747 Z\" fill=\"#000000\" fill-rule=\"evenodd\" fill-opacity=\"1\" /><path clip-path=\"url(#clip530)\" d=\"M2177.72 224.992 Q2172.56 224.992 2170.57 226.173 Q2168.58 227.353 2168.58 230.201 Q2168.58 232.469 2170.06 233.812 Q2171.56 235.131 2174.13 235.131 Q2177.67 235.131 2179.8 232.631 Q2181.96 230.108 2181.96 225.941 L2181.96 224.992 L2177.72 224.992 M2186.22 223.233 L2186.22 238.025 L2181.96 238.025 L2181.96 234.089 Q2180.5 236.451 2178.32 237.585 Q2176.15 238.696 2173 238.696 Q2169.02 238.696 2166.66 236.474 Q2164.32 234.228 2164.32 230.478 Q2164.32 226.103 2167.23 223.881 Q2170.17 221.659 2175.98 221.659 L2181.96 221.659 L2181.96 221.242 Q2181.96 218.303 2180.01 216.705 Q2178.09 215.085 2174.6 215.085 Q2172.37 215.085 2170.27 215.617 Q2168.16 216.15 2166.22 217.215 L2166.22 213.279 Q2168.55 212.377 2170.75 211.937 Q2172.95 211.474 2175.03 211.474 Q2180.66 211.474 2183.44 214.391 Q2186.22 217.307 2186.22 223.233 Z\" fill=\"#000000\" fill-rule=\"evenodd\" fill-opacity=\"1\" /><path clip-path=\"url(#clip530)\" d=\"M2210.01 216.08 Q2209.29 215.664 2208.44 215.478 Q2207.6 215.27 2206.59 215.27 Q2202.97 215.27 2201.03 217.631 Q2199.11 219.969 2199.11 224.367 L2199.11 238.025 L2194.83 238.025 L2194.83 212.099 L2199.11 212.099 L2199.11 216.127 Q2200.45 213.766 2202.6 212.631 Q2204.76 211.474 2207.84 211.474 Q2208.28 211.474 2208.81 211.543 Q2209.34 211.59 2209.99 211.705 L2210.01 216.08 Z\" fill=\"#000000\" fill-rule=\"evenodd\" fill-opacity=\"1\" /><path clip-path=\"url(#clip530)\" d=\"M2231.01 212.863 L2231.01 216.891 Q2229.2 215.965 2227.26 215.502 Q2225.31 215.039 2223.23 215.039 Q2220.06 215.039 2218.46 216.011 Q2216.89 216.983 2216.89 218.928 Q2216.89 220.409 2218.02 221.265 Q2219.16 222.099 2222.58 222.863 L2224.04 223.187 Q2228.58 224.159 2230.47 225.941 Q2232.4 227.701 2232.4 230.872 Q2232.4 234.483 2229.53 236.589 Q2226.68 238.696 2221.68 238.696 Q2219.59 238.696 2217.33 238.279 Q2215.08 237.886 2212.58 237.076 L2212.58 232.677 Q2214.94 233.904 2217.23 234.529 Q2219.53 235.131 2221.77 235.131 Q2224.78 235.131 2226.4 234.113 Q2228.02 233.071 2228.02 231.196 Q2228.02 229.46 2226.84 228.534 Q2225.68 227.608 2221.72 226.752 L2220.24 226.404 Q2216.28 225.571 2214.53 223.858 Q2212.77 222.122 2212.77 219.113 Q2212.77 215.455 2215.36 213.465 Q2217.95 211.474 2222.72 211.474 Q2225.08 211.474 2227.16 211.821 Q2229.25 212.168 2231.01 212.863 Z\" fill=\"#000000\" fill-rule=\"evenodd\" fill-opacity=\"1\" /><circle clip-path=\"url(#clip530)\" cx=\"1965.04\" cy=\"272.585\" r=\"23\" fill=\"#e26f46\" fill-rule=\"evenodd\" fill-opacity=\"1\" stroke=\"#000000\" stroke-opacity=\"1\" stroke-width=\"5.12\"/>\n",
       "<path clip-path=\"url(#clip530)\" d=\"M2073.67 270.721 Q2070.52 270.721 2068.67 272.874 Q2066.84 275.027 2066.84 278.777 Q2066.84 282.504 2068.67 284.679 Q2070.52 286.832 2073.67 286.832 Q2076.82 286.832 2078.65 284.679 Q2080.5 282.504 2080.5 278.777 Q2080.5 275.027 2078.65 272.874 Q2076.82 270.721 2073.67 270.721 M2082.95 256.069 L2082.95 260.328 Q2081.19 259.494 2079.39 259.055 Q2077.6 258.615 2075.85 258.615 Q2071.22 258.615 2068.76 261.74 Q2066.33 264.865 2065.98 271.184 Q2067.35 269.17 2069.41 268.106 Q2071.47 267.018 2073.95 267.018 Q2079.16 267.018 2082.17 270.189 Q2085.2 273.337 2085.2 278.777 Q2085.2 284.101 2082.05 287.318 Q2078.9 290.536 2073.67 290.536 Q2067.67 290.536 2064.5 285.953 Q2061.33 281.346 2061.33 272.619 Q2061.33 264.425 2065.22 259.564 Q2069.11 254.68 2075.66 254.68 Q2077.42 254.68 2079.2 255.027 Q2081.01 255.374 2082.95 256.069 Z\" fill=\"#000000\" fill-rule=\"evenodd\" fill-opacity=\"1\" /><path clip-path=\"url(#clip530)\" d=\"M2118.51 292.272 Q2116.7 296.902 2114.99 298.314 Q2113.28 299.726 2110.41 299.726 L2107 299.726 L2107 296.161 L2109.5 296.161 Q2111.26 296.161 2112.23 295.328 Q2113.21 294.494 2114.39 291.392 L2115.15 289.448 L2104.67 263.939 L2109.18 263.939 L2117.28 284.217 L2125.38 263.939 L2129.9 263.939 L2118.51 292.272 Z\" fill=\"#000000\" fill-rule=\"evenodd\" fill-opacity=\"1\" /><path clip-path=\"url(#clip530)\" d=\"M2157.95 275.837 L2157.95 277.92 L2138.37 277.92 Q2138.65 282.318 2141.01 284.633 Q2143.39 286.925 2147.63 286.925 Q2150.08 286.925 2152.37 286.323 Q2154.69 285.721 2156.96 284.517 L2156.96 288.545 Q2154.66 289.517 2152.26 290.027 Q2149.85 290.536 2147.37 290.536 Q2141.17 290.536 2137.54 286.925 Q2133.92 283.314 2133.92 277.156 Q2133.92 270.791 2137.35 267.064 Q2140.8 263.314 2146.63 263.314 Q2151.86 263.314 2154.9 266.693 Q2157.95 270.05 2157.95 275.837 M2153.69 274.587 Q2153.65 271.092 2151.72 269.008 Q2149.83 266.925 2146.68 266.925 Q2143.11 266.925 2140.96 268.939 Q2138.83 270.953 2138.51 274.61 L2153.69 274.587 Z\" fill=\"#000000\" fill-rule=\"evenodd\" fill-opacity=\"1\" /><path clip-path=\"url(#clip530)\" d=\"M2176.72 276.832 Q2171.56 276.832 2169.57 278.013 Q2167.58 279.193 2167.58 282.041 Q2167.58 284.309 2169.06 285.652 Q2170.57 286.971 2173.14 286.971 Q2176.68 286.971 2178.81 284.471 Q2180.96 281.948 2180.96 277.781 L2180.96 276.832 L2176.72 276.832 M2185.22 275.073 L2185.22 289.865 L2180.96 289.865 L2180.96 285.929 Q2179.5 288.291 2177.33 289.425 Q2175.15 290.536 2172 290.536 Q2168.02 290.536 2165.66 288.314 Q2163.32 286.068 2163.32 282.318 Q2163.32 277.943 2166.24 275.721 Q2169.18 273.499 2174.99 273.499 L2180.96 273.499 L2180.96 273.082 Q2180.96 270.143 2179.02 268.545 Q2177.1 266.925 2173.6 266.925 Q2171.38 266.925 2169.27 267.457 Q2167.16 267.99 2165.22 269.055 L2165.22 265.119 Q2167.56 264.217 2169.76 263.777 Q2171.96 263.314 2174.04 263.314 Q2179.66 263.314 2182.44 266.231 Q2185.22 269.147 2185.22 275.073 Z\" fill=\"#000000\" fill-rule=\"evenodd\" fill-opacity=\"1\" /><path clip-path=\"url(#clip530)\" d=\"M2209.02 267.92 Q2208.3 267.504 2207.44 267.318 Q2206.61 267.11 2205.59 267.11 Q2201.98 267.11 2200.03 269.471 Q2198.11 271.809 2198.11 276.207 L2198.11 289.865 L2193.83 289.865 L2193.83 263.939 L2198.11 263.939 L2198.11 267.967 Q2199.46 265.606 2201.61 264.471 Q2203.76 263.314 2206.84 263.314 Q2207.28 263.314 2207.81 263.383 Q2208.35 263.43 2208.99 263.545 L2209.02 267.92 Z\" fill=\"#000000\" fill-rule=\"evenodd\" fill-opacity=\"1\" /><path clip-path=\"url(#clip530)\" d=\"M2230.01 264.703 L2230.01 268.731 Q2228.21 267.805 2226.26 267.342 Q2224.32 266.879 2222.23 266.879 Q2219.06 266.879 2217.47 267.851 Q2215.89 268.823 2215.89 270.768 Q2215.89 272.249 2217.03 273.105 Q2218.16 273.939 2221.59 274.703 L2223.04 275.027 Q2227.58 275.999 2229.48 277.781 Q2231.4 279.541 2231.4 282.712 Q2231.4 286.323 2228.53 288.429 Q2225.68 290.536 2220.68 290.536 Q2218.6 290.536 2216.33 290.119 Q2214.09 289.726 2211.59 288.916 L2211.59 284.517 Q2213.95 285.744 2216.24 286.369 Q2218.53 286.971 2220.78 286.971 Q2223.78 286.971 2225.41 285.953 Q2227.03 284.911 2227.03 283.036 Q2227.03 281.3 2225.84 280.374 Q2224.69 279.448 2220.73 278.592 L2219.25 278.244 Q2215.29 277.411 2213.53 275.698 Q2211.77 273.962 2211.77 270.953 Q2211.77 267.295 2214.36 265.305 Q2216.96 263.314 2221.72 263.314 Q2224.09 263.314 2226.17 263.661 Q2228.25 264.008 2230.01 264.703 Z\" fill=\"#000000\" fill-rule=\"evenodd\" fill-opacity=\"1\" /></svg>\n"
      ]
     },
     "execution_count": 11,
     "metadata": {},
     "output_type": "execute_result"
    }
   ],
   "source": [
    "CC_scores = DataFrame(Program_Complexity = 0:10:650)\n",
    "pred4 = predict(probit4, CC_scores, interval = :confidence)\n",
    "pred6 = predict(probit6, CC_scores, interval = :confidence)\n",
    "plot(title=\"Graduates\")\n",
    "plot!(CC_scores.Program_Complexity, pred4.prediction , seriestype = :scatter, labels=\"4 years\",\n",
    "       ribbon = (pred4.prediction .- pred4.lower, pred4.upper .- pred4.prediction))\n",
    "plot!(CC_scores.Program_Complexity, pred6.prediction , seriestype = :scatter, labels=\"6 years\",\n",
    "       ribbon = (pred6.prediction .- pred6.lower, pred6.upper .- pred6.prediction))"
   ]
  },
  {
   "cell_type": "markdown",
   "metadata": {},
   "source": [
    "### Create the Data Structures \n",
    "Below we read each of the stored curricula into an array of curricula that will be used throughout the remainder of this notebook."
   ]
  },
  {
   "cell_type": "code",
   "execution_count": 12,
   "metadata": {},
   "outputs": [],
   "source": [
    "currics = Array{Curriculum,1}()\n",
    "program_files = glob(\"*\", \"./programs/curricula\")\n",
    "for program in program_files\n",
    "    curric = read_csv(program)\n",
    "    complexity(curric)  # compute the curricular complexity of the curriculum\n",
    "    push!(currics, curric)    # store the curriculum in the darray \n",
    "end"
   ]
  },
  {
   "cell_type": "markdown",
   "metadata": {},
   "source": [
    "The institutions represented in this chemical engineering curricula data set include:"
   ]
  },
  {
   "cell_type": "code",
   "execution_count": 13,
   "metadata": {},
   "outputs": [
    {
     "name": "stdout",
     "output_type": "stream",
     "text": [
      "American University of Beirut\n",
      "Bucknell University\n",
      "Cal Poly Pomona\n",
      "Drexel University\n",
      "Illinois Institute of Technology\n",
      "Louisiana State University\n",
      "Montana State University\n",
      "Oklahoma State University\n",
      "Rose-Hulman Institute of Technology\n",
      "University of Arizona\n",
      "University of Kentucky\n",
      "University of Nebraska-Lincoln\n",
      "University of Nevada-Reno\n",
      "University of South Carolina\n",
      "University of South Florida\n",
      "Virginia Tech\n",
      "Yale University\n"
     ]
    }
   ],
   "source": [
    "for c in currics\n",
    "    println(c.institution)\n",
    "end"
   ]
  },
  {
   "cell_type": "markdown",
   "metadata": {},
   "source": [
    "First we will analyze the structural properties of a curriculum in the college.  The structural properties of a curriculum are determined by the underlying structural properties of its corresponding curriculum graph (i.e., the graph showing the prerequisite relationships between the courses in a curriculum, ignoring term information).  Here's the degree plan for the Electrical Engineering program.  By hovering your mouse over the courses in this figure, various metrics will be displayed."
   ]
  },
  {
   "cell_type": "code",
   "execution_count": 14,
   "metadata": {},
   "outputs": [
    {
     "name": "stdout",
     "output_type": "stream",
     "text": [
      "\n",
      " Metric -- complexity\n",
      "  Number of curricula = 17\n",
      "  Mean = 447.0117647058823\n",
      "  STD = 50.20772774281546\n",
      "  Max. = 720.0\n",
      "  Min. = 229.0\n"
     ]
    },
    {
     "data": {
      "image/svg+xml": [
       "<?xml version=\"1.0\" encoding=\"utf-8\"?>\n",
       "<svg xmlns=\"http://www.w3.org/2000/svg\" xmlns:xlink=\"http://www.w3.org/1999/xlink\" width=\"600\" height=\"400\" viewBox=\"0 0 2400 1600\">\n",
       "<defs>\n",
       "  <clipPath id=\"clip570\">\n",
       "    <rect x=\"0\" y=\"0\" width=\"2400\" height=\"1600\"/>\n",
       "  </clipPath>\n",
       "</defs>\n",
       "<path clip-path=\"url(#clip570)\" d=\"\n",
       "M0 1600 L2400 1600 L2400 0 L0 0  Z\n",
       "  \" fill=\"#ffffff\" fill-rule=\"evenodd\" fill-opacity=\"1\"/>\n",
       "<defs>\n",
       "  <clipPath id=\"clip571\">\n",
       "    <rect x=\"480\" y=\"0\" width=\"1681\" height=\"1600\"/>\n",
       "  </clipPath>\n",
       "</defs>\n",
       "<path clip-path=\"url(#clip570)\" d=\"\n",
       "M175.445 1423.18 L2352.76 1423.18 L2352.76 123.472 L175.445 123.472  Z\n",
       "  \" fill=\"#ffffff\" fill-rule=\"evenodd\" fill-opacity=\"1\"/>\n",
       "<defs>\n",
       "  <clipPath id=\"clip572\">\n",
       "    <rect x=\"175\" y=\"123\" width=\"2178\" height=\"1301\"/>\n",
       "  </clipPath>\n",
       "</defs>\n",
       "<polyline clip-path=\"url(#clip572)\" style=\"stroke:#000000; stroke-linecap:butt; stroke-linejoin:round; stroke-width:2; stroke-opacity:0.1; fill:none\" points=\"\n",
       "  175.445,1423.18 175.445,123.472 \n",
       "  \"/>\n",
       "<polyline clip-path=\"url(#clip572)\" style=\"stroke:#000000; stroke-linecap:butt; stroke-linejoin:round; stroke-width:2; stroke-opacity:0.1; fill:none\" points=\"\n",
       "  901.215,1423.18 901.215,123.472 \n",
       "  \"/>\n",
       "<polyline clip-path=\"url(#clip572)\" style=\"stroke:#000000; stroke-linecap:butt; stroke-linejoin:round; stroke-width:2; stroke-opacity:0.1; fill:none\" points=\"\n",
       "  1626.99,1423.18 1626.99,123.472 \n",
       "  \"/>\n",
       "<polyline clip-path=\"url(#clip572)\" style=\"stroke:#000000; stroke-linecap:butt; stroke-linejoin:round; stroke-width:2; stroke-opacity:0.1; fill:none\" points=\"\n",
       "  2352.76,1423.18 2352.76,123.472 \n",
       "  \"/>\n",
       "<polyline clip-path=\"url(#clip570)\" style=\"stroke:#000000; stroke-linecap:butt; stroke-linejoin:round; stroke-width:4; stroke-opacity:1; fill:none\" points=\"\n",
       "  175.445,1423.18 2352.76,1423.18 \n",
       "  \"/>\n",
       "<polyline clip-path=\"url(#clip570)\" style=\"stroke:#000000; stroke-linecap:butt; stroke-linejoin:round; stroke-width:4; stroke-opacity:1; fill:none\" points=\"\n",
       "  175.445,1423.18 175.445,1404.28 \n",
       "  \"/>\n",
       "<polyline clip-path=\"url(#clip570)\" style=\"stroke:#000000; stroke-linecap:butt; stroke-linejoin:round; stroke-width:4; stroke-opacity:1; fill:none\" points=\"\n",
       "  901.215,1423.18 901.215,1404.28 \n",
       "  \"/>\n",
       "<polyline clip-path=\"url(#clip570)\" style=\"stroke:#000000; stroke-linecap:butt; stroke-linejoin:round; stroke-width:4; stroke-opacity:1; fill:none\" points=\"\n",
       "  1626.99,1423.18 1626.99,1404.28 \n",
       "  \"/>\n",
       "<polyline clip-path=\"url(#clip570)\" style=\"stroke:#000000; stroke-linecap:butt; stroke-linejoin:round; stroke-width:4; stroke-opacity:1; fill:none\" points=\"\n",
       "  2352.76,1423.18 2352.76,1404.28 \n",
       "  \"/>\n",
       "<path clip-path=\"url(#clip570)\" d=\"M175.445 1454.1 Q171.834 1454.1 170.005 1457.66 Q168.2 1461.2 168.2 1468.33 Q168.2 1475.44 170.005 1479.01 Q171.834 1482.55 175.445 1482.55 Q179.079 1482.55 180.885 1479.01 Q182.714 1475.44 182.714 1468.33 Q182.714 1461.2 180.885 1457.66 Q179.079 1454.1 175.445 1454.1 M175.445 1450.39 Q181.255 1450.39 184.311 1455 Q187.39 1459.58 187.39 1468.33 Q187.39 1477.06 184.311 1481.67 Q181.255 1486.25 175.445 1486.25 Q169.635 1486.25 166.556 1481.67 Q163.501 1477.06 163.501 1468.33 Q163.501 1459.58 166.556 1455 Q169.635 1450.39 175.445 1450.39 Z\" fill=\"#000000\" fill-rule=\"evenodd\" fill-opacity=\"1\" /><path clip-path=\"url(#clip570)\" d=\"M874.977 1466.95 Q878.334 1467.66 880.209 1469.93 Q882.107 1472.2 882.107 1475.53 Q882.107 1480.65 878.588 1483.45 Q875.07 1486.25 868.588 1486.25 Q866.412 1486.25 864.098 1485.81 Q861.806 1485.39 859.352 1484.54 L859.352 1480.02 Q861.297 1481.16 863.611 1481.74 Q865.926 1482.32 868.449 1482.32 Q872.848 1482.32 875.139 1480.58 Q877.454 1478.84 877.454 1475.53 Q877.454 1472.48 875.301 1470.77 Q873.172 1469.03 869.352 1469.03 L865.324 1469.03 L865.324 1465.19 L869.537 1465.19 Q872.986 1465.19 874.815 1463.82 Q876.644 1462.43 876.644 1459.84 Q876.644 1457.18 874.746 1455.77 Q872.871 1454.33 869.352 1454.33 Q867.431 1454.33 865.232 1454.75 Q863.033 1455.16 860.394 1456.04 L860.394 1451.88 Q863.056 1451.14 865.371 1450.77 Q867.709 1450.39 869.769 1450.39 Q875.093 1450.39 878.195 1452.83 Q881.297 1455.23 881.297 1459.35 Q881.297 1462.22 879.653 1464.21 Q878.01 1466.18 874.977 1466.95 Z\" fill=\"#000000\" fill-rule=\"evenodd\" fill-opacity=\"1\" /><path clip-path=\"url(#clip570)\" d=\"M900.972 1454.1 Q897.361 1454.1 895.533 1457.66 Q893.727 1461.2 893.727 1468.33 Q893.727 1475.44 895.533 1479.01 Q897.361 1482.55 900.972 1482.55 Q904.607 1482.55 906.412 1479.01 Q908.241 1475.44 908.241 1468.33 Q908.241 1461.2 906.412 1457.66 Q904.607 1454.1 900.972 1454.1 M900.972 1450.39 Q906.783 1450.39 909.838 1455 Q912.917 1459.58 912.917 1468.33 Q912.917 1477.06 909.838 1481.67 Q906.783 1486.25 900.972 1486.25 Q895.162 1486.25 892.084 1481.67 Q889.028 1477.06 889.028 1468.33 Q889.028 1459.58 892.084 1455 Q895.162 1450.39 900.972 1450.39 Z\" fill=\"#000000\" fill-rule=\"evenodd\" fill-opacity=\"1\" /><path clip-path=\"url(#clip570)\" d=\"M931.134 1454.1 Q927.523 1454.1 925.694 1457.66 Q923.889 1461.2 923.889 1468.33 Q923.889 1475.44 925.694 1479.01 Q927.523 1482.55 931.134 1482.55 Q934.769 1482.55 936.574 1479.01 Q938.403 1475.44 938.403 1468.33 Q938.403 1461.2 936.574 1457.66 Q934.769 1454.1 931.134 1454.1 M931.134 1450.39 Q936.944 1450.39 940 1455 Q943.079 1459.58 943.079 1468.33 Q943.079 1477.06 940 1481.67 Q936.944 1486.25 931.134 1486.25 Q925.324 1486.25 922.245 1481.67 Q919.19 1477.06 919.19 1468.33 Q919.19 1459.58 922.245 1455 Q925.324 1450.39 931.134 1450.39 Z\" fill=\"#000000\" fill-rule=\"evenodd\" fill-opacity=\"1\" /><path clip-path=\"url(#clip570)\" d=\"M1597.31 1466.44 Q1594.16 1466.44 1592.31 1468.59 Q1590.48 1470.74 1590.48 1474.49 Q1590.48 1478.22 1592.31 1480.39 Q1594.16 1482.55 1597.31 1482.55 Q1600.46 1482.55 1602.29 1480.39 Q1604.14 1478.22 1604.14 1474.49 Q1604.14 1470.74 1602.29 1468.59 Q1600.46 1466.44 1597.31 1466.44 M1606.59 1451.78 L1606.59 1456.04 Q1604.83 1455.21 1603.03 1454.77 Q1601.25 1454.33 1599.49 1454.33 Q1594.86 1454.33 1592.4 1457.45 Q1589.97 1460.58 1589.62 1466.9 Q1590.99 1464.89 1593.05 1463.82 Q1595.11 1462.73 1597.59 1462.73 Q1602.8 1462.73 1605.81 1465.9 Q1608.84 1469.05 1608.84 1474.49 Q1608.84 1479.82 1605.69 1483.03 Q1602.54 1486.25 1597.31 1486.25 Q1591.31 1486.25 1588.14 1481.67 Q1584.97 1477.06 1584.97 1468.33 Q1584.97 1460.14 1588.86 1455.28 Q1592.75 1450.39 1599.3 1450.39 Q1601.06 1450.39 1602.84 1450.74 Q1604.65 1451.09 1606.59 1451.78 Z\" fill=\"#000000\" fill-rule=\"evenodd\" fill-opacity=\"1\" /><path clip-path=\"url(#clip570)\" d=\"M1626.89 1454.1 Q1623.28 1454.1 1621.45 1457.66 Q1619.65 1461.2 1619.65 1468.33 Q1619.65 1475.44 1621.45 1479.01 Q1623.28 1482.55 1626.89 1482.55 Q1630.53 1482.55 1632.33 1479.01 Q1634.16 1475.44 1634.16 1468.33 Q1634.16 1461.2 1632.33 1457.66 Q1630.53 1454.1 1626.89 1454.1 M1626.89 1450.39 Q1632.7 1450.39 1635.76 1455 Q1638.84 1459.58 1638.84 1468.33 Q1638.84 1477.06 1635.76 1481.67 Q1632.7 1486.25 1626.89 1486.25 Q1621.08 1486.25 1618 1481.67 Q1614.95 1477.06 1614.95 1468.33 Q1614.95 1459.58 1618 1455 Q1621.08 1450.39 1626.89 1450.39 Z\" fill=\"#000000\" fill-rule=\"evenodd\" fill-opacity=\"1\" /><path clip-path=\"url(#clip570)\" d=\"M1657.05 1454.1 Q1653.44 1454.1 1651.62 1457.66 Q1649.81 1461.2 1649.81 1468.33 Q1649.81 1475.44 1651.62 1479.01 Q1653.44 1482.55 1657.05 1482.55 Q1660.69 1482.55 1662.49 1479.01 Q1664.32 1475.44 1664.32 1468.33 Q1664.32 1461.2 1662.49 1457.66 Q1660.69 1454.1 1657.05 1454.1 M1657.05 1450.39 Q1662.87 1450.39 1665.92 1455 Q1669 1459.58 1669 1468.33 Q1669 1477.06 1665.92 1481.67 Q1662.87 1486.25 1657.05 1486.25 Q1651.24 1486.25 1648.17 1481.67 Q1645.11 1477.06 1645.11 1468.33 Q1645.11 1459.58 1648.17 1455 Q1651.24 1450.39 1657.05 1450.39 Z\" fill=\"#000000\" fill-rule=\"evenodd\" fill-opacity=\"1\" /><path clip-path=\"url(#clip570)\" d=\"M2312.8 1484.86 L2312.8 1480.6 Q2314.56 1481.44 2316.37 1481.88 Q2318.17 1482.32 2319.91 1482.32 Q2324.54 1482.32 2326.97 1479.21 Q2329.42 1476.09 2329.77 1469.75 Q2328.43 1471.74 2326.37 1472.8 Q2324.31 1473.87 2321.81 1473.87 Q2316.62 1473.87 2313.59 1470.74 Q2310.58 1467.59 2310.58 1462.15 Q2310.58 1456.83 2313.73 1453.61 Q2316.88 1450.39 2322.11 1450.39 Q2328.1 1450.39 2331.25 1455 Q2334.42 1459.58 2334.42 1468.33 Q2334.42 1476.51 2330.53 1481.39 Q2326.67 1486.25 2320.12 1486.25 Q2318.36 1486.25 2316.55 1485.9 Q2314.75 1485.56 2312.8 1484.86 M2322.11 1470.21 Q2325.26 1470.21 2327.08 1468.06 Q2328.94 1465.9 2328.94 1462.15 Q2328.94 1458.43 2327.08 1456.27 Q2325.26 1454.1 2322.11 1454.1 Q2318.96 1454.1 2317.11 1456.27 Q2315.28 1458.43 2315.28 1462.15 Q2315.28 1465.9 2317.11 1468.06 Q2318.96 1470.21 2322.11 1470.21 Z\" fill=\"#000000\" fill-rule=\"evenodd\" fill-opacity=\"1\" /><path clip-path=\"url(#clip570)\" d=\"M2352.83 1454.1 Q2349.21 1454.1 2347.39 1457.66 Q2345.58 1461.2 2345.58 1468.33 Q2345.58 1475.44 2347.39 1479.01 Q2349.21 1482.55 2352.83 1482.55 Q2356.46 1482.55 2358.27 1479.01 Q2360.09 1475.44 2360.09 1468.33 Q2360.09 1461.2 2358.27 1457.66 Q2356.46 1454.1 2352.83 1454.1 M2352.83 1450.39 Q2358.64 1450.39 2361.69 1455 Q2364.77 1459.58 2364.77 1468.33 Q2364.77 1477.06 2361.69 1481.67 Q2358.64 1486.25 2352.83 1486.25 Q2347.02 1486.25 2343.94 1481.67 Q2340.88 1477.06 2340.88 1468.33 Q2340.88 1459.58 2343.94 1455 Q2347.02 1450.39 2352.83 1450.39 Z\" fill=\"#000000\" fill-rule=\"evenodd\" fill-opacity=\"1\" /><path clip-path=\"url(#clip570)\" d=\"M2382.99 1454.1 Q2379.38 1454.1 2377.55 1457.66 Q2375.74 1461.2 2375.74 1468.33 Q2375.74 1475.44 2377.55 1479.01 Q2379.38 1482.55 2382.99 1482.55 Q2386.62 1482.55 2388.43 1479.01 Q2390.26 1475.44 2390.26 1468.33 Q2390.26 1461.2 2388.43 1457.66 Q2386.62 1454.1 2382.99 1454.1 M2382.99 1450.39 Q2388.8 1450.39 2391.85 1455 Q2394.93 1459.58 2394.93 1468.33 Q2394.93 1477.06 2391.85 1481.67 Q2388.8 1486.25 2382.99 1486.25 Q2377.18 1486.25 2374.1 1481.67 Q2371.04 1477.06 2371.04 1468.33 Q2371.04 1459.58 2374.1 1455 Q2377.18 1450.39 2382.99 1450.39 Z\" fill=\"#000000\" fill-rule=\"evenodd\" fill-opacity=\"1\" /><path clip-path=\"url(#clip570)\" d=\"M1115.83 1533.76 L1115.83 1539.24 Q1113.34 1537.87 1110.83 1537.2 Q1108.35 1536.5 1105.8 1536.5 Q1100.1 1536.5 1096.95 1540.13 Q1093.8 1543.73 1093.8 1550.25 Q1093.8 1556.78 1096.95 1560.4 Q1100.1 1564 1105.8 1564 Q1108.35 1564 1110.83 1563.33 Q1113.34 1562.63 1115.83 1561.26 L1115.83 1566.68 Q1113.38 1567.82 1110.73 1568.39 Q1108.12 1568.97 1105.16 1568.97 Q1097.11 1568.97 1092.37 1563.91 Q1087.63 1558.85 1087.63 1550.25 Q1087.63 1541.53 1092.4 1536.53 Q1097.21 1531.54 1105.55 1531.54 Q1108.25 1531.54 1110.83 1532.11 Q1113.41 1532.65 1115.83 1533.76 Z\" fill=\"#000000\" fill-rule=\"evenodd\" fill-opacity=\"1\" /><path clip-path=\"url(#clip570)\" d=\"M1139.83 1536.5 Q1135.12 1536.5 1132.38 1540.19 Q1129.64 1543.85 1129.64 1550.25 Q1129.64 1556.65 1132.35 1560.34 Q1135.08 1564 1139.83 1564 Q1144.5 1564 1147.24 1560.31 Q1149.98 1556.62 1149.98 1550.25 Q1149.98 1543.92 1147.24 1540.23 Q1144.5 1536.5 1139.83 1536.5 M1139.83 1531.54 Q1147.46 1531.54 1151.83 1536.5 Q1156.19 1541.47 1156.19 1550.25 Q1156.19 1559 1151.83 1564 Q1147.46 1568.97 1139.83 1568.97 Q1132.16 1568.97 1127.79 1564 Q1123.47 1559 1123.47 1550.25 Q1123.47 1541.47 1127.79 1536.5 Q1132.16 1531.54 1139.83 1531.54 Z\" fill=\"#000000\" fill-rule=\"evenodd\" fill-opacity=\"1\" /><path clip-path=\"url(#clip570)\" d=\"M1193.65 1539.24 Q1195.84 1535.29 1198.9 1533.41 Q1201.96 1531.54 1206.09 1531.54 Q1211.66 1531.54 1214.69 1535.45 Q1217.71 1539.33 1217.71 1546.53 L1217.71 1568.04 L1211.82 1568.04 L1211.82 1546.72 Q1211.82 1541.59 1210.01 1539.11 Q1208.19 1536.63 1204.47 1536.63 Q1199.92 1536.63 1197.28 1539.65 Q1194.63 1542.68 1194.63 1547.9 L1194.63 1568.04 L1188.75 1568.04 L1188.75 1546.72 Q1188.75 1541.56 1186.93 1539.11 Q1185.12 1536.63 1181.33 1536.63 Q1176.84 1536.63 1174.2 1539.68 Q1171.56 1542.71 1171.56 1547.9 L1171.56 1568.04 L1165.67 1568.04 L1165.67 1532.4 L1171.56 1532.4 L1171.56 1537.93 Q1173.56 1534.66 1176.37 1533.1 Q1179.17 1531.54 1183.02 1531.54 Q1186.9 1531.54 1189.61 1533.51 Q1192.34 1535.48 1193.65 1539.24 Z\" fill=\"#000000\" fill-rule=\"evenodd\" fill-opacity=\"1\" /><path clip-path=\"url(#clip570)\" d=\"M1235.06 1562.7 L1235.06 1581.6 L1229.17 1581.6 L1229.17 1532.4 L1235.06 1532.4 L1235.06 1537.81 Q1236.9 1534.62 1239.7 1533.1 Q1242.54 1531.54 1246.45 1531.54 Q1252.94 1531.54 1256.99 1536.69 Q1261.06 1541.85 1261.06 1550.25 Q1261.06 1558.65 1256.99 1563.81 Q1252.94 1568.97 1246.45 1568.97 Q1242.54 1568.97 1239.7 1567.44 Q1236.9 1565.88 1235.06 1562.7 M1254.98 1550.25 Q1254.98 1543.79 1252.31 1540.13 Q1249.67 1536.44 1245.02 1536.44 Q1240.37 1536.44 1237.7 1540.13 Q1235.06 1543.79 1235.06 1550.25 Q1235.06 1556.71 1237.7 1560.4 Q1240.37 1564.07 1245.02 1564.07 Q1249.67 1564.07 1252.31 1560.4 Q1254.98 1556.71 1254.98 1550.25 Z\" fill=\"#000000\" fill-rule=\"evenodd\" fill-opacity=\"1\" /><path clip-path=\"url(#clip570)\" d=\"M1270.77 1518.52 L1276.63 1518.52 L1276.63 1568.04 L1270.77 1568.04 L1270.77 1518.52 Z\" fill=\"#000000\" fill-rule=\"evenodd\" fill-opacity=\"1\" /><path clip-path=\"url(#clip570)\" d=\"M1319.37 1548.76 L1319.37 1551.62 L1292.44 1551.62 Q1292.83 1557.67 1296.07 1560.85 Q1299.35 1564 1305.18 1564 Q1308.55 1564 1311.7 1563.17 Q1314.88 1562.35 1318 1560.69 L1318 1566.23 Q1314.85 1567.57 1311.54 1568.27 Q1308.23 1568.97 1304.83 1568.97 Q1296.3 1568.97 1291.3 1564 Q1286.33 1559.04 1286.33 1550.57 Q1286.33 1541.82 1291.04 1536.69 Q1295.79 1531.54 1303.81 1531.54 Q1311 1531.54 1315.17 1536.18 Q1319.37 1540.8 1319.37 1548.76 M1313.51 1547.04 Q1313.45 1542.23 1310.81 1539.37 Q1308.2 1536.5 1303.87 1536.5 Q1298.97 1536.5 1296.01 1539.27 Q1293.08 1542.04 1292.63 1547.07 L1313.51 1547.04 Z\" fill=\"#000000\" fill-rule=\"evenodd\" fill-opacity=\"1\" /><path clip-path=\"url(#clip570)\" d=\"M1357.47 1532.4 L1344.58 1549.74 L1358.14 1568.04 L1351.23 1568.04 L1340.86 1554.04 L1330.48 1568.04 L1323.57 1568.04 L1337.42 1549.39 L1324.75 1532.4 L1331.66 1532.4 L1341.11 1545.1 L1350.56 1532.4 L1357.47 1532.4 Z\" fill=\"#000000\" fill-rule=\"evenodd\" fill-opacity=\"1\" /><path clip-path=\"url(#clip570)\" d=\"M1366.41 1532.4 L1372.27 1532.4 L1372.27 1568.04 L1366.41 1568.04 L1366.41 1532.4 M1366.41 1518.52 L1372.27 1518.52 L1372.27 1525.93 L1366.41 1525.93 L1366.41 1518.52 Z\" fill=\"#000000\" fill-rule=\"evenodd\" fill-opacity=\"1\" /><path clip-path=\"url(#clip570)\" d=\"M1390.32 1522.27 L1390.32 1532.4 L1402.38 1532.4 L1402.38 1536.95 L1390.32 1536.95 L1390.32 1556.3 Q1390.32 1560.66 1391.49 1561.9 Q1392.7 1563.14 1396.36 1563.14 L1402.38 1563.14 L1402.38 1568.04 L1396.36 1568.04 Q1389.58 1568.04 1387.01 1565.53 Q1384.43 1562.98 1384.43 1556.3 L1384.43 1536.95 L1380.13 1536.95 L1380.13 1532.4 L1384.43 1532.4 L1384.43 1522.27 L1390.32 1522.27 Z\" fill=\"#000000\" fill-rule=\"evenodd\" fill-opacity=\"1\" /><path clip-path=\"url(#clip570)\" d=\"M1424.91 1571.35 Q1422.43 1577.72 1420.08 1579.66 Q1417.72 1581.6 1413.77 1581.6 L1409.1 1581.6 L1409.1 1576.7 L1412.53 1576.7 Q1414.95 1576.7 1416.29 1575.56 Q1417.63 1574.41 1419.25 1570.14 L1420.3 1567.47 L1405.88 1532.4 L1412.09 1532.4 L1423.23 1560.28 L1434.37 1532.4 L1440.57 1532.4 L1424.91 1571.35 Z\" fill=\"#000000\" fill-rule=\"evenodd\" fill-opacity=\"1\" /><polyline clip-path=\"url(#clip572)\" style=\"stroke:#000000; stroke-linecap:butt; stroke-linejoin:round; stroke-width:2; stroke-opacity:0.1; fill:none\" points=\"\n",
       "  175.445,1423.18 2352.76,1423.18 \n",
       "  \"/>\n",
       "<polyline clip-path=\"url(#clip572)\" style=\"stroke:#000000; stroke-linecap:butt; stroke-linejoin:round; stroke-width:2; stroke-opacity:0.1; fill:none\" points=\"\n",
       "  175.445,1117.37 2352.76,1117.37 \n",
       "  \"/>\n",
       "<polyline clip-path=\"url(#clip572)\" style=\"stroke:#000000; stroke-linecap:butt; stroke-linejoin:round; stroke-width:2; stroke-opacity:0.1; fill:none\" points=\"\n",
       "  175.445,811.553 2352.76,811.553 \n",
       "  \"/>\n",
       "<polyline clip-path=\"url(#clip572)\" style=\"stroke:#000000; stroke-linecap:butt; stroke-linejoin:round; stroke-width:2; stroke-opacity:0.1; fill:none\" points=\"\n",
       "  175.445,505.739 2352.76,505.739 \n",
       "  \"/>\n",
       "<polyline clip-path=\"url(#clip572)\" style=\"stroke:#000000; stroke-linecap:butt; stroke-linejoin:round; stroke-width:2; stroke-opacity:0.1; fill:none\" points=\"\n",
       "  175.445,199.926 2352.76,199.926 \n",
       "  \"/>\n",
       "<polyline clip-path=\"url(#clip570)\" style=\"stroke:#000000; stroke-linecap:butt; stroke-linejoin:round; stroke-width:4; stroke-opacity:1; fill:none\" points=\"\n",
       "  175.445,1423.18 175.445,123.472 \n",
       "  \"/>\n",
       "<polyline clip-path=\"url(#clip570)\" style=\"stroke:#000000; stroke-linecap:butt; stroke-linejoin:round; stroke-width:4; stroke-opacity:1; fill:none\" points=\"\n",
       "  175.445,1423.18 194.343,1423.18 \n",
       "  \"/>\n",
       "<polyline clip-path=\"url(#clip570)\" style=\"stroke:#000000; stroke-linecap:butt; stroke-linejoin:round; stroke-width:4; stroke-opacity:1; fill:none\" points=\"\n",
       "  175.445,1117.37 194.343,1117.37 \n",
       "  \"/>\n",
       "<polyline clip-path=\"url(#clip570)\" style=\"stroke:#000000; stroke-linecap:butt; stroke-linejoin:round; stroke-width:4; stroke-opacity:1; fill:none\" points=\"\n",
       "  175.445,811.553 194.343,811.553 \n",
       "  \"/>\n",
       "<polyline clip-path=\"url(#clip570)\" style=\"stroke:#000000; stroke-linecap:butt; stroke-linejoin:round; stroke-width:4; stroke-opacity:1; fill:none\" points=\"\n",
       "  175.445,505.739 194.343,505.739 \n",
       "  \"/>\n",
       "<polyline clip-path=\"url(#clip570)\" style=\"stroke:#000000; stroke-linecap:butt; stroke-linejoin:round; stroke-width:4; stroke-opacity:1; fill:none\" points=\"\n",
       "  175.445,199.926 194.343,199.926 \n",
       "  \"/>\n",
       "<path clip-path=\"url(#clip570)\" d=\"M127.501 1408.98 Q123.89 1408.98 122.061 1412.54 Q120.255 1416.08 120.255 1423.21 Q120.255 1430.32 122.061 1433.89 Q123.89 1437.43 127.501 1437.43 Q131.135 1437.43 132.941 1433.89 Q134.769 1430.32 134.769 1423.21 Q134.769 1416.08 132.941 1412.54 Q131.135 1408.98 127.501 1408.98 M127.501 1405.27 Q133.311 1405.27 136.367 1409.88 Q139.445 1414.46 139.445 1423.21 Q139.445 1431.94 136.367 1436.55 Q133.311 1441.13 127.501 1441.13 Q121.691 1441.13 118.612 1436.55 Q115.556 1431.94 115.556 1423.21 Q115.556 1414.46 118.612 1409.88 Q121.691 1405.27 127.501 1405.27 Z\" fill=\"#000000\" fill-rule=\"evenodd\" fill-opacity=\"1\" /><path clip-path=\"url(#clip570)\" d=\"M123.126 1130.71 L139.445 1130.71 L139.445 1134.65 L117.501 1134.65 L117.501 1130.71 Q120.163 1127.96 124.746 1123.33 Q129.353 1118.67 130.533 1117.33 Q132.779 1114.81 133.658 1113.07 Q134.561 1111.31 134.561 1109.62 Q134.561 1106.87 132.617 1105.13 Q130.695 1103.4 127.593 1103.4 Q125.394 1103.4 122.941 1104.16 Q120.51 1104.92 117.732 1106.48 L117.732 1101.75 Q120.556 1100.62 123.01 1100.04 Q125.464 1099.46 127.501 1099.46 Q132.871 1099.46 136.066 1102.15 Q139.26 1104.83 139.26 1109.32 Q139.26 1111.45 138.45 1113.37 Q137.663 1115.27 135.556 1117.86 Q134.978 1118.54 131.876 1121.75 Q128.774 1124.95 123.126 1130.71 Z\" fill=\"#000000\" fill-rule=\"evenodd\" fill-opacity=\"1\" /><path clip-path=\"url(#clip570)\" d=\"M129.862 798.347 L118.056 816.796 L129.862 816.796 L129.862 798.347 M128.635 794.273 L134.515 794.273 L134.515 816.796 L139.445 816.796 L139.445 820.685 L134.515 820.685 L134.515 828.833 L129.862 828.833 L129.862 820.685 L114.26 820.685 L114.26 816.171 L128.635 794.273 Z\" fill=\"#000000\" fill-rule=\"evenodd\" fill-opacity=\"1\" /><path clip-path=\"url(#clip570)\" d=\"M127.917 503.876 Q124.769 503.876 122.918 506.028 Q121.089 508.181 121.089 511.931 Q121.089 515.658 122.918 517.834 Q124.769 519.987 127.917 519.987 Q131.066 519.987 132.894 517.834 Q134.746 515.658 134.746 511.931 Q134.746 508.181 132.894 506.028 Q131.066 503.876 127.917 503.876 M137.2 489.223 L137.2 493.482 Q135.441 492.649 133.635 492.209 Q131.853 491.769 130.093 491.769 Q125.464 491.769 123.01 494.894 Q120.58 498.019 120.232 504.339 Q121.598 502.325 123.658 501.26 Q125.718 500.172 128.195 500.172 Q133.404 500.172 136.413 503.343 Q139.445 506.491 139.445 511.931 Q139.445 517.255 136.297 520.473 Q133.149 523.69 127.917 523.69 Q121.922 523.69 118.751 519.107 Q115.58 514.501 115.58 505.774 Q115.58 497.579 119.468 492.718 Q123.357 487.834 129.908 487.834 Q131.667 487.834 133.45 488.181 Q135.255 488.529 137.2 489.223 Z\" fill=\"#000000\" fill-rule=\"evenodd\" fill-opacity=\"1\" /><path clip-path=\"url(#clip570)\" d=\"M127.593 200.794 Q124.26 200.794 122.339 202.576 Q120.441 204.358 120.441 207.483 Q120.441 210.608 122.339 212.391 Q124.26 214.173 127.593 214.173 Q130.927 214.173 132.848 212.391 Q134.769 210.585 134.769 207.483 Q134.769 204.358 132.848 202.576 Q130.95 200.794 127.593 200.794 M122.918 198.803 Q119.908 198.062 118.218 196.002 Q116.552 193.942 116.552 190.979 Q116.552 186.835 119.492 184.428 Q122.455 182.021 127.593 182.021 Q132.755 182.021 135.695 184.428 Q138.635 186.835 138.635 190.979 Q138.635 193.942 136.945 196.002 Q135.279 198.062 132.292 198.803 Q135.672 199.59 137.547 201.882 Q139.445 204.173 139.445 207.483 Q139.445 212.506 136.367 215.192 Q133.311 217.877 127.593 217.877 Q121.876 217.877 118.797 215.192 Q115.742 212.506 115.742 207.483 Q115.742 204.173 117.64 201.882 Q119.538 199.59 122.918 198.803 M121.205 191.419 Q121.205 194.104 122.871 195.608 Q124.561 197.113 127.593 197.113 Q130.603 197.113 132.292 195.608 Q134.005 194.104 134.005 191.419 Q134.005 188.733 132.292 187.229 Q130.603 185.724 127.593 185.724 Q124.561 185.724 122.871 187.229 Q121.205 188.733 121.205 191.419 Z\" fill=\"#000000\" fill-rule=\"evenodd\" fill-opacity=\"1\" /><path clip-path=\"url(#clip570)\" d=\"M35.3266 960.462 L35.3266 969.724 L45.9574 972.398 L45.9574 963.072 L35.3266 960.462 M17.2162 965.236 L30.4251 968.546 L30.4251 959.252 L17.2162 955.91 L17.2162 950.818 L30.4251 954.096 L30.4251 944.166 L35.3266 944.166 L35.3266 955.337 L45.9574 957.947 L45.9574 947.826 L50.8271 947.826 L50.8271 959.189 L64.0042 962.499 L64.0042 967.591 L50.8271 964.313 L50.8271 973.639 L64.0042 976.917 L64.0042 982.042 L50.8271 978.731 L50.8271 988.757 L45.9574 988.757 L45.9574 977.554 L35.3266 974.88 L35.3266 985.129 L30.4251 985.129 L30.4251 973.639 L17.2162 970.392 L17.2162 965.236 Z\" fill=\"#000000\" fill-rule=\"evenodd\" fill-opacity=\"1\" /><path clip-path=\"url(#clip570)\" d=\"M32.4621 898.492 Q32.4621 903.202 36.1542 905.94 Q39.8145 908.677 46.212 908.677 Q52.6095 908.677 56.3017 905.971 Q59.9619 903.234 59.9619 898.492 Q59.9619 893.813 56.2698 891.076 Q52.5777 888.338 46.212 888.338 Q39.8781 888.338 36.186 891.076 Q32.4621 893.813 32.4621 898.492 M27.4968 898.492 Q27.4968 890.853 32.4621 886.492 Q37.4273 882.132 46.212 882.132 Q54.9649 882.132 59.9619 886.492 Q64.9272 890.853 64.9272 898.492 Q64.9272 906.162 59.9619 910.523 Q54.9649 914.852 46.212 914.852 Q37.4273 914.852 32.4621 910.523 Q27.4968 906.162 27.4968 898.492 Z\" fill=\"#000000\" fill-rule=\"evenodd\" fill-opacity=\"1\" /><path clip-path=\"url(#clip570)\" d=\"M14.479 854.377 L19.3487 854.377 L19.3487 859.979 Q19.3487 863.13 20.6219 864.372 Q21.895 865.581 25.2052 865.581 L28.3562 865.581 L28.3562 855.937 L32.9077 855.937 L32.9077 865.581 L64.0042 865.581 L64.0042 871.469 L32.9077 871.469 L32.9077 877.071 L28.3562 877.071 L28.3562 871.469 L25.8736 871.469 Q19.9216 871.469 17.2162 868.7 Q14.479 865.931 14.479 859.916 L14.479 854.377 Z\" fill=\"#000000\" fill-rule=\"evenodd\" fill-opacity=\"1\" /><path clip-path=\"url(#clip570)\" d=\"M29.7248 803.102 L35.1993 803.102 Q33.8307 805.584 33.1623 808.099 Q32.4621 810.581 32.4621 813.128 Q32.4621 818.825 36.0905 821.976 Q39.6872 825.127 46.212 825.127 Q52.7369 825.127 56.3653 821.976 Q59.9619 818.825 59.9619 813.128 Q59.9619 810.581 59.2935 808.099 Q58.5933 805.584 57.2247 803.102 L62.6355 803.102 Q63.7814 805.552 64.3543 808.194 Q64.9272 810.804 64.9272 813.764 Q64.9272 821.817 59.8664 826.559 Q54.8057 831.302 46.212 831.302 Q37.491 831.302 32.4939 826.527 Q27.4968 821.721 27.4968 813.382 Q27.4968 810.677 28.0697 808.099 Q28.6108 805.521 29.7248 803.102 Z\" fill=\"#000000\" fill-rule=\"evenodd\" fill-opacity=\"1\" /><path clip-path=\"url(#clip570)\" d=\"M49.9359 793.521 L28.3562 793.521 L28.3562 787.665 L49.7131 787.665 Q54.7739 787.665 57.3202 785.691 Q59.8346 783.718 59.8346 779.771 Q59.8346 775.029 56.8109 772.292 Q53.7872 769.522 48.5673 769.522 L28.3562 769.522 L28.3562 763.666 L64.0042 763.666 L64.0042 769.522 L58.5296 769.522 Q61.7762 771.655 63.3676 774.488 Q64.9272 777.289 64.9272 781.013 Q64.9272 787.155 61.1078 790.338 Q57.2883 793.521 49.9359 793.521 M27.4968 778.785 L27.4968 778.785 Z\" fill=\"#000000\" fill-rule=\"evenodd\" fill-opacity=\"1\" /><path clip-path=\"url(#clip570)\" d=\"M33.8307 730.946 Q33.2578 731.933 33.0032 733.111 Q32.7167 734.256 32.7167 735.657 Q32.7167 740.622 35.9632 743.296 Q39.1779 745.938 45.2253 745.938 L64.0042 745.938 L64.0042 751.826 L28.3562 751.826 L28.3562 745.938 L33.8944 745.938 Q30.6479 744.091 29.0883 741.131 Q27.4968 738.171 27.4968 733.938 Q27.4968 733.333 27.5923 732.601 Q27.656 731.869 27.8151 730.978 L33.8307 730.946 Z\" fill=\"#000000\" fill-rule=\"evenodd\" fill-opacity=\"1\" /><path clip-path=\"url(#clip570)\" d=\"M33.8307 705.292 Q33.2578 706.279 33.0032 707.457 Q32.7167 708.603 32.7167 710.003 Q32.7167 714.968 35.9632 717.642 Q39.1779 720.284 45.2253 720.284 L64.0042 720.284 L64.0042 726.172 L28.3562 726.172 L28.3562 720.284 L33.8944 720.284 Q30.6479 718.438 29.0883 715.478 Q27.4968 712.518 27.4968 708.284 Q27.4968 707.68 27.5923 706.948 Q27.656 706.216 27.8151 705.324 L33.8307 705.292 Z\" fill=\"#000000\" fill-rule=\"evenodd\" fill-opacity=\"1\" /><path clip-path=\"url(#clip570)\" d=\"M28.3562 699.15 L28.3562 693.293 L64.0042 693.293 L64.0042 699.15 L28.3562 699.15 M14.479 699.15 L14.479 693.293 L21.895 693.293 L21.895 699.15 L14.479 699.15 Z\" fill=\"#000000\" fill-rule=\"evenodd\" fill-opacity=\"1\" /><path clip-path=\"url(#clip570)\" d=\"M29.7248 655.385 L35.1993 655.385 Q33.8307 657.868 33.1623 660.382 Q32.4621 662.865 32.4621 665.411 Q32.4621 671.109 36.0905 674.26 Q39.6872 677.411 46.212 677.411 Q52.7369 677.411 56.3653 674.26 Q59.9619 671.109 59.9619 665.411 Q59.9619 662.865 59.2935 660.382 Q58.5933 657.868 57.2247 655.385 L62.6355 655.385 Q63.7814 657.836 64.3543 660.478 Q64.9272 663.088 64.9272 666.048 Q64.9272 674.101 59.8664 678.843 Q54.8057 683.585 46.212 683.585 Q37.491 683.585 32.4939 678.811 Q27.4968 674.005 27.4968 665.666 Q27.4968 662.961 28.0697 660.382 Q28.6108 657.804 29.7248 655.385 Z\" fill=\"#000000\" fill-rule=\"evenodd\" fill-opacity=\"1\" /><path clip-path=\"url(#clip570)\" d=\"M49.9359 645.805 L28.3562 645.805 L28.3562 639.949 L49.7131 639.949 Q54.7739 639.949 57.3202 637.975 Q59.8346 636.002 59.8346 632.055 Q59.8346 627.313 56.8109 624.575 Q53.7872 621.806 48.5673 621.806 L28.3562 621.806 L28.3562 615.95 L64.0042 615.95 L64.0042 621.806 L58.5296 621.806 Q61.7762 623.939 63.3676 626.772 Q64.9272 629.572 64.9272 633.296 Q64.9272 639.439 61.1078 642.622 Q57.2883 645.805 49.9359 645.805 M27.4968 631.068 L27.4968 631.068 Z\" fill=\"#000000\" fill-rule=\"evenodd\" fill-opacity=\"1\" /><path clip-path=\"url(#clip570)\" d=\"M14.479 603.887 L14.479 598.03 L64.0042 598.03 L64.0042 603.887 L14.479 603.887 Z\" fill=\"#000000\" fill-rule=\"evenodd\" fill-opacity=\"1\" /><path clip-path=\"url(#clip570)\" d=\"M46.0847 569.576 Q46.0847 576.673 47.7079 579.411 Q49.3312 582.148 53.2461 582.148 Q56.3653 582.148 58.2114 580.111 Q60.0256 578.042 60.0256 574.509 Q60.0256 569.639 56.5881 566.711 Q53.1188 563.751 47.3897 563.751 L46.0847 563.751 L46.0847 569.576 M43.6657 557.895 L64.0042 557.895 L64.0042 563.751 L58.5933 563.751 Q61.8398 565.756 63.3994 568.748 Q64.9272 571.74 64.9272 576.069 Q64.9272 581.543 61.8716 584.79 Q58.7843 588.004 53.6281 588.004 Q47.6125 588.004 44.5569 583.994 Q41.5014 579.952 41.5014 571.963 L41.5014 563.751 L40.9285 563.751 Q36.8862 563.751 34.6901 566.425 Q32.4621 569.066 32.4621 573.872 Q32.4621 576.928 33.1941 579.824 Q33.9262 582.721 35.3903 585.394 L29.9795 585.394 Q28.7381 582.18 28.1334 579.156 Q27.4968 576.132 27.4968 573.268 Q27.4968 565.533 31.5072 561.714 Q35.5176 557.895 43.6657 557.895 Z\" fill=\"#000000\" fill-rule=\"evenodd\" fill-opacity=\"1\" /><path clip-path=\"url(#clip570)\" d=\"M652.88 16.7545 L652.88 25.383 Q648.748 21.5346 644.049 19.6307 Q639.39 17.7268 634.124 17.7268 Q623.754 17.7268 618.245 24.0867 Q612.735 30.4061 612.735 42.3968 Q612.735 54.3469 618.245 60.7069 Q623.754 67.0263 634.124 67.0263 Q639.39 67.0263 644.049 65.1223 Q648.748 63.2184 652.88 59.3701 L652.88 67.9175 Q648.586 70.8341 643.765 72.2924 Q638.985 73.7508 633.638 73.7508 Q619.906 73.7508 612.006 65.3654 Q604.107 56.9395 604.107 42.3968 Q604.107 27.8135 612.006 19.4281 Q619.906 11.0023 633.638 11.0023 Q639.066 11.0023 643.846 12.4606 Q648.667 13.8784 652.88 16.7545 Z\" fill=\"#000000\" fill-rule=\"evenodd\" fill-opacity=\"1\" /><path clip-path=\"url(#clip570)\" d=\"M702.909 45.1919 L702.909 72.576 L695.455 72.576 L695.455 45.4349 Q695.455 38.994 692.943 35.7938 Q690.432 32.5936 685.409 32.5936 Q679.373 32.5936 675.889 36.4419 Q672.405 40.2903 672.405 46.9338 L672.405 72.576 L664.911 72.576 L664.911 9.54393 L672.405 9.54393 L672.405 34.2544 Q675.079 30.163 678.684 28.1376 Q682.33 26.1121 687.07 26.1121 Q694.888 26.1121 698.898 30.9732 Q702.909 35.7938 702.909 45.1919 Z\" fill=\"#000000\" fill-rule=\"evenodd\" fill-opacity=\"1\" /><path clip-path=\"url(#clip570)\" d=\"M756.583 48.0275 L756.583 51.6733 L722.312 51.6733 Q722.798 59.3701 726.93 63.421 Q731.103 67.4314 738.516 67.4314 Q742.81 67.4314 746.82 66.3781 Q750.871 65.3249 754.841 63.2184 L754.841 70.267 Q750.831 71.9684 746.618 72.8596 Q742.405 73.7508 738.07 73.7508 Q727.214 73.7508 720.854 67.4314 Q714.535 61.1119 714.535 50.3365 Q714.535 39.1965 720.53 32.6746 Q726.566 26.1121 736.774 26.1121 Q745.929 26.1121 751.236 32.0264 Q756.583 37.9003 756.583 48.0275 M749.129 45.84 Q749.048 39.7232 745.686 36.0774 Q742.364 32.4315 736.855 32.4315 Q730.617 32.4315 726.849 35.9558 Q723.123 39.4801 722.555 45.8805 L749.129 45.84 Z\" fill=\"#000000\" fill-rule=\"evenodd\" fill-opacity=\"1\" /><path clip-path=\"url(#clip570)\" d=\"M804.141 35.9153 Q806.936 30.8922 810.825 28.5022 Q814.713 26.1121 819.98 26.1121 Q827.069 26.1121 830.917 31.0947 Q834.765 36.0368 834.765 45.1919 L834.765 72.576 L827.271 72.576 L827.271 45.4349 Q827.271 38.913 824.962 35.7533 Q822.653 32.5936 817.914 32.5936 Q812.121 32.5936 808.759 36.4419 Q805.396 40.2903 805.396 46.9338 L805.396 72.576 L797.902 72.576 L797.902 45.4349 Q797.902 38.8725 795.593 35.7533 Q793.284 32.5936 788.464 32.5936 Q782.752 32.5936 779.39 36.4824 Q776.027 40.3308 776.027 46.9338 L776.027 72.576 L768.533 72.576 L768.533 27.2059 L776.027 27.2059 L776.027 34.2544 Q778.579 30.082 782.144 28.0971 Q785.709 26.1121 790.611 26.1121 Q795.553 26.1121 798.996 28.6237 Q802.48 31.1352 804.141 35.9153 Z\" fill=\"#000000\" fill-rule=\"evenodd\" fill-opacity=\"1\" /><path clip-path=\"url(#clip570)\" d=\"M849.632 27.2059 L857.086 27.2059 L857.086 72.576 L849.632 72.576 L849.632 27.2059 M849.632 9.54393 L857.086 9.54393 L857.086 18.9825 L849.632 18.9825 L849.632 9.54393 Z\" fill=\"#000000\" fill-rule=\"evenodd\" fill-opacity=\"1\" /><path clip-path=\"url(#clip570)\" d=\"M905.332 28.9478 L905.332 35.9153 Q902.173 34.1734 898.972 33.3227 Q895.813 32.4315 892.572 32.4315 Q885.321 32.4315 881.31 37.0496 Q877.3 41.6271 877.3 49.9314 Q877.3 58.2358 881.31 62.8538 Q885.321 67.4314 892.572 67.4314 Q895.813 67.4314 898.972 66.5807 Q902.173 65.6895 905.332 63.9476 L905.332 70.8341 Q902.213 72.2924 898.851 73.0216 Q895.529 73.7508 891.762 73.7508 Q881.513 73.7508 875.477 67.3098 Q869.441 60.8689 869.441 49.9314 Q869.441 38.832 875.518 32.472 Q881.634 26.1121 892.248 26.1121 Q895.691 26.1121 898.972 26.8413 Q902.254 27.5299 905.332 28.9478 Z\" fill=\"#000000\" fill-rule=\"evenodd\" fill-opacity=\"1\" /><path clip-path=\"url(#clip570)\" d=\"M938.914 49.7694 Q929.881 49.7694 926.397 51.8354 Q922.913 53.9013 922.913 58.8839 Q922.913 62.8538 925.506 65.2034 Q928.139 67.5124 932.635 67.5124 Q938.833 67.5124 942.56 63.1374 Q946.327 58.7219 946.327 51.4303 L946.327 49.7694 L938.914 49.7694 M953.781 46.6907 L953.781 72.576 L946.327 72.576 L946.327 65.6895 Q943.775 69.8214 939.967 71.8063 Q936.16 73.7508 930.65 73.7508 Q923.683 73.7508 919.551 69.8619 Q915.459 65.9325 915.459 59.3701 Q915.459 51.7138 920.564 47.825 Q925.708 43.9361 935.876 43.9361 L946.327 43.9361 L946.327 43.2069 Q946.327 38.0623 942.925 35.2672 Q939.562 32.4315 933.445 32.4315 Q929.557 32.4315 925.87 33.3632 Q922.184 34.295 918.781 36.1584 L918.781 29.2718 Q922.873 27.692 926.721 26.9223 Q930.569 26.1121 934.215 26.1121 Q944.059 26.1121 948.92 31.2163 Q953.781 36.3204 953.781 46.6907 Z\" fill=\"#000000\" fill-rule=\"evenodd\" fill-opacity=\"1\" /><path clip-path=\"url(#clip570)\" d=\"M969.134 9.54393 L976.588 9.54393 L976.588 72.576 L969.134 72.576 L969.134 9.54393 Z\" fill=\"#000000\" fill-rule=\"evenodd\" fill-opacity=\"1\" /><path clip-path=\"url(#clip570)\" d=\"M1018.88 12.096 L1057.12 12.096 L1057.12 18.9825 L1027.06 18.9825 L1027.06 36.8875 L1055.86 36.8875 L1055.86 43.7741 L1027.06 43.7741 L1027.06 65.6895 L1057.85 65.6895 L1057.85 72.576 L1018.88 72.576 L1018.88 12.096 Z\" fill=\"#000000\" fill-rule=\"evenodd\" fill-opacity=\"1\" /><path clip-path=\"url(#clip570)\" d=\"M1108.69 45.1919 L1108.69 72.576 L1101.23 72.576 L1101.23 45.4349 Q1101.23 38.994 1098.72 35.7938 Q1096.21 32.5936 1091.19 32.5936 Q1085.15 32.5936 1081.67 36.4419 Q1078.18 40.2903 1078.18 46.9338 L1078.18 72.576 L1070.69 72.576 L1070.69 27.2059 L1078.18 27.2059 L1078.18 34.2544 Q1080.86 30.163 1084.46 28.1376 Q1088.11 26.1121 1092.85 26.1121 Q1100.67 26.1121 1104.68 30.9732 Q1108.69 35.7938 1108.69 45.1919 Z\" fill=\"#000000\" fill-rule=\"evenodd\" fill-opacity=\"1\" /><path clip-path=\"url(#clip570)\" d=\"M1153.41 49.3643 Q1153.41 41.2625 1150.05 36.8065 Q1146.73 32.3505 1140.69 32.3505 Q1134.69 32.3505 1131.33 36.8065 Q1128.01 41.2625 1128.01 49.3643 Q1128.01 57.4256 1131.33 61.8816 Q1134.69 66.3376 1140.69 66.3376 Q1146.73 66.3376 1150.05 61.8816 Q1153.41 57.4256 1153.41 49.3643 M1160.86 66.9452 Q1160.86 78.5308 1155.72 84.1616 Q1150.57 89.8329 1139.96 89.8329 Q1136.03 89.8329 1132.55 89.2252 Q1129.06 88.6581 1125.78 87.4428 L1125.78 80.1917 Q1129.06 81.9741 1132.26 82.8248 Q1135.46 83.6755 1138.79 83.6755 Q1146.12 83.6755 1149.76 79.8271 Q1153.41 76.0193 1153.41 68.282 L1153.41 64.5957 Q1151.1 68.6061 1147.5 70.5911 Q1143.89 72.576 1138.87 72.576 Q1130.52 72.576 1125.42 66.2161 Q1120.31 59.8562 1120.31 49.3643 Q1120.31 38.832 1125.42 32.472 Q1130.52 26.1121 1138.87 26.1121 Q1143.89 26.1121 1147.5 28.0971 Q1151.1 30.082 1153.41 34.0924 L1153.41 27.2059 L1160.86 27.2059 L1160.86 66.9452 Z\" fill=\"#000000\" fill-rule=\"evenodd\" fill-opacity=\"1\" /><path clip-path=\"url(#clip570)\" d=\"M1176.22 27.2059 L1183.67 27.2059 L1183.67 72.576 L1176.22 72.576 L1176.22 27.2059 M1176.22 9.54393 L1183.67 9.54393 L1183.67 18.9825 L1176.22 18.9825 L1176.22 9.54393 Z\" fill=\"#000000\" fill-rule=\"evenodd\" fill-opacity=\"1\" /><path clip-path=\"url(#clip570)\" d=\"M1236.98 45.1919 L1236.98 72.576 L1229.53 72.576 L1229.53 45.4349 Q1229.53 38.994 1227.01 35.7938 Q1224.5 32.5936 1219.48 32.5936 Q1213.44 32.5936 1209.96 36.4419 Q1206.48 40.2903 1206.48 46.9338 L1206.48 72.576 L1198.98 72.576 L1198.98 27.2059 L1206.48 27.2059 L1206.48 34.2544 Q1209.15 30.163 1212.76 28.1376 Q1216.4 26.1121 1221.14 26.1121 Q1228.96 26.1121 1232.97 30.9732 Q1236.98 35.7938 1236.98 45.1919 Z\" fill=\"#000000\" fill-rule=\"evenodd\" fill-opacity=\"1\" /><path clip-path=\"url(#clip570)\" d=\"M1290.65 48.0275 L1290.65 51.6733 L1256.38 51.6733 Q1256.87 59.3701 1261 63.421 Q1265.17 67.4314 1272.59 67.4314 Q1276.88 67.4314 1280.89 66.3781 Q1284.94 65.3249 1288.91 63.2184 L1288.91 70.267 Q1284.9 71.9684 1280.69 72.8596 Q1276.48 73.7508 1272.14 73.7508 Q1261.29 73.7508 1254.93 67.4314 Q1248.61 61.1119 1248.61 50.3365 Q1248.61 39.1965 1254.6 32.6746 Q1260.64 26.1121 1270.85 26.1121 Q1280 26.1121 1285.31 32.0264 Q1290.65 37.9003 1290.65 48.0275 M1283.2 45.84 Q1283.12 39.7232 1279.76 36.0774 Q1276.44 32.4315 1270.93 32.4315 Q1264.69 32.4315 1260.92 35.9558 Q1257.19 39.4801 1256.63 45.8805 L1283.2 45.84 Z\" fill=\"#000000\" fill-rule=\"evenodd\" fill-opacity=\"1\" /><path clip-path=\"url(#clip570)\" d=\"M1341.7 48.0275 L1341.7 51.6733 L1307.42 51.6733 Q1307.91 59.3701 1312.04 63.421 Q1316.22 67.4314 1323.63 67.4314 Q1327.92 67.4314 1331.93 66.3781 Q1335.98 65.3249 1339.95 63.2184 L1339.95 70.267 Q1335.94 71.9684 1331.73 72.8596 Q1327.52 73.7508 1323.18 73.7508 Q1312.33 73.7508 1305.97 67.4314 Q1299.65 61.1119 1299.65 50.3365 Q1299.65 39.1965 1305.64 32.6746 Q1311.68 26.1121 1321.89 26.1121 Q1331.04 26.1121 1336.35 32.0264 Q1341.7 37.9003 1341.7 48.0275 M1334.24 45.84 Q1334.16 39.7232 1330.8 36.0774 Q1327.48 32.4315 1321.97 32.4315 Q1315.73 32.4315 1311.96 35.9558 Q1308.24 39.4801 1307.67 45.8805 L1334.24 45.84 Z\" fill=\"#000000\" fill-rule=\"evenodd\" fill-opacity=\"1\" /><path clip-path=\"url(#clip570)\" d=\"M1380.22 34.1734 Q1378.96 33.4443 1377.47 33.1202 Q1376.01 32.7556 1374.22 32.7556 Q1367.9 32.7556 1364.5 36.8875 Q1361.14 40.9789 1361.14 48.6757 L1361.14 72.576 L1353.65 72.576 L1353.65 27.2059 L1361.14 27.2059 L1361.14 34.2544 Q1363.49 30.1225 1367.26 28.1376 Q1371.02 26.1121 1376.41 26.1121 Q1377.18 26.1121 1378.11 26.2337 Q1379.04 26.3147 1380.18 26.5172 L1380.22 34.1734 Z\" fill=\"#000000\" fill-rule=\"evenodd\" fill-opacity=\"1\" /><path clip-path=\"url(#clip570)\" d=\"M1388.04 27.2059 L1395.49 27.2059 L1395.49 72.576 L1388.04 72.576 L1388.04 27.2059 M1388.04 9.54393 L1395.49 9.54393 L1395.49 18.9825 L1388.04 18.9825 L1388.04 9.54393 Z\" fill=\"#000000\" fill-rule=\"evenodd\" fill-opacity=\"1\" /><path clip-path=\"url(#clip570)\" d=\"M1448.8 45.1919 L1448.8 72.576 L1441.35 72.576 L1441.35 45.4349 Q1441.35 38.994 1438.84 35.7938 Q1436.32 32.5936 1431.3 32.5936 Q1425.27 32.5936 1421.78 36.4419 Q1418.3 40.2903 1418.3 46.9338 L1418.3 72.576 L1410.8 72.576 L1410.8 27.2059 L1418.3 27.2059 L1418.3 34.2544 Q1420.97 30.163 1424.58 28.1376 Q1428.22 26.1121 1432.96 26.1121 Q1440.78 26.1121 1444.79 30.9732 Q1448.8 35.7938 1448.8 45.1919 Z\" fill=\"#000000\" fill-rule=\"evenodd\" fill-opacity=\"1\" /><path clip-path=\"url(#clip570)\" d=\"M1493.52 49.3643 Q1493.52 41.2625 1490.16 36.8065 Q1486.84 32.3505 1480.8 32.3505 Q1474.81 32.3505 1471.45 36.8065 Q1468.12 41.2625 1468.12 49.3643 Q1468.12 57.4256 1471.45 61.8816 Q1474.81 66.3376 1480.8 66.3376 Q1486.84 66.3376 1490.16 61.8816 Q1493.52 57.4256 1493.52 49.3643 M1500.98 66.9452 Q1500.98 78.5308 1495.83 84.1616 Q1490.69 89.8329 1480.07 89.8329 Q1476.15 89.8329 1472.66 89.2252 Q1469.18 88.6581 1465.9 87.4428 L1465.9 80.1917 Q1469.18 81.9741 1472.38 82.8248 Q1475.58 83.6755 1478.9 83.6755 Q1486.23 83.6755 1489.88 79.8271 Q1493.52 76.0193 1493.52 68.282 L1493.52 64.5957 Q1491.21 68.6061 1487.61 70.5911 Q1484 72.576 1478.98 72.576 Q1470.64 72.576 1465.53 66.2161 Q1460.43 59.8562 1460.43 49.3643 Q1460.43 38.832 1465.53 32.472 Q1470.64 26.1121 1478.98 26.1121 Q1484 26.1121 1487.61 28.0971 Q1491.21 30.082 1493.52 34.0924 L1493.52 27.2059 L1500.98 27.2059 L1500.98 66.9452 Z\" fill=\"#000000\" fill-rule=\"evenodd\" fill-opacity=\"1\" /><path clip-path=\"url(#clip570)\" d=\"M1551.21 18.8205 L1551.21 41.5461 L1561.5 41.5461 Q1567.21 41.5461 1570.33 38.5889 Q1573.45 35.6318 1573.45 30.163 Q1573.45 24.7348 1570.33 21.7777 Q1567.21 18.8205 1561.5 18.8205 L1551.21 18.8205 M1543.03 12.096 L1561.5 12.096 Q1571.67 12.096 1576.85 16.714 Q1582.08 21.2916 1582.08 30.163 Q1582.08 39.1155 1576.85 43.6931 Q1571.67 48.2706 1561.5 48.2706 L1551.21 48.2706 L1551.21 72.576 L1543.03 72.576 L1543.03 12.096 Z\" fill=\"#000000\" fill-rule=\"evenodd\" fill-opacity=\"1\" /><path clip-path=\"url(#clip570)\" d=\"M1617.56 34.1734 Q1616.31 33.4443 1614.81 33.1202 Q1613.35 32.7556 1611.57 32.7556 Q1605.25 32.7556 1601.84 36.8875 Q1598.48 40.9789 1598.48 48.6757 L1598.48 72.576 L1590.99 72.576 L1590.99 27.2059 L1598.48 27.2059 L1598.48 34.2544 Q1600.83 30.1225 1604.6 28.1376 Q1608.37 26.1121 1613.75 26.1121 Q1614.52 26.1121 1615.46 26.2337 Q1616.39 26.3147 1617.52 26.5172 L1617.56 34.1734 Z\" fill=\"#000000\" fill-rule=\"evenodd\" fill-opacity=\"1\" /><path clip-path=\"url(#clip570)\" d=\"M1641.14 32.4315 Q1635.14 32.4315 1631.66 37.1306 Q1628.18 41.7891 1628.18 49.9314 Q1628.18 58.0738 1631.62 62.7728 Q1635.1 67.4314 1641.14 67.4314 Q1647.09 67.4314 1650.58 62.7323 Q1654.06 58.0333 1654.06 49.9314 Q1654.06 41.8701 1650.58 37.1711 Q1647.09 32.4315 1641.14 32.4315 M1641.14 26.1121 Q1650.86 26.1121 1656.41 32.4315 Q1661.96 38.7509 1661.96 49.9314 Q1661.96 61.0714 1656.41 67.4314 Q1650.86 73.7508 1641.14 73.7508 Q1631.38 73.7508 1625.83 67.4314 Q1620.32 61.0714 1620.32 49.9314 Q1620.32 38.7509 1625.83 32.4315 Q1631.38 26.1121 1641.14 26.1121 Z\" fill=\"#000000\" fill-rule=\"evenodd\" fill-opacity=\"1\" /><path clip-path=\"url(#clip570)\" d=\"M1704.17 49.3643 Q1704.17 41.2625 1700.81 36.8065 Q1697.49 32.3505 1691.45 32.3505 Q1685.46 32.3505 1682.09 36.8065 Q1678.77 41.2625 1678.77 49.3643 Q1678.77 57.4256 1682.09 61.8816 Q1685.46 66.3376 1691.45 66.3376 Q1697.49 66.3376 1700.81 61.8816 Q1704.17 57.4256 1704.17 49.3643 M1711.62 66.9452 Q1711.62 78.5308 1706.48 84.1616 Q1701.33 89.8329 1690.72 89.8329 Q1686.79 89.8329 1683.31 89.2252 Q1679.82 88.6581 1676.54 87.4428 L1676.54 80.1917 Q1679.82 81.9741 1683.02 82.8248 Q1686.23 83.6755 1689.55 83.6755 Q1696.88 83.6755 1700.52 79.8271 Q1704.17 76.0193 1704.17 68.282 L1704.17 64.5957 Q1701.86 68.6061 1698.26 70.5911 Q1694.65 72.576 1689.63 72.576 Q1681.28 72.576 1676.18 66.2161 Q1671.07 59.8562 1671.07 49.3643 Q1671.07 38.832 1676.18 32.472 Q1681.28 26.1121 1689.63 26.1121 Q1694.65 26.1121 1698.26 28.0971 Q1701.86 30.082 1704.17 34.0924 L1704.17 27.2059 L1711.62 27.2059 L1711.62 66.9452 Z\" fill=\"#000000\" fill-rule=\"evenodd\" fill-opacity=\"1\" /><path clip-path=\"url(#clip570)\" d=\"M1753.27 34.1734 Q1752.01 33.4443 1750.51 33.1202 Q1749.05 32.7556 1747.27 32.7556 Q1740.95 32.7556 1737.55 36.8875 Q1734.19 40.9789 1734.19 48.6757 L1734.19 72.576 L1726.69 72.576 L1726.69 27.2059 L1734.19 27.2059 L1734.19 34.2544 Q1736.54 30.1225 1740.3 28.1376 Q1744.07 26.1121 1749.46 26.1121 Q1750.23 26.1121 1751.16 26.2337 Q1752.09 26.3147 1753.23 26.5172 L1753.27 34.1734 Z\" fill=\"#000000\" fill-rule=\"evenodd\" fill-opacity=\"1\" /><path clip-path=\"url(#clip570)\" d=\"M1781.7 49.7694 Q1772.67 49.7694 1769.19 51.8354 Q1765.7 53.9013 1765.7 58.8839 Q1765.7 62.8538 1768.3 65.2034 Q1770.93 67.5124 1775.43 67.5124 Q1781.62 67.5124 1785.35 63.1374 Q1789.12 58.7219 1789.12 51.4303 L1789.12 49.7694 L1781.7 49.7694 M1796.57 46.6907 L1796.57 72.576 L1789.12 72.576 L1789.12 65.6895 Q1786.57 69.8214 1782.76 71.8063 Q1778.95 73.7508 1773.44 73.7508 Q1766.47 73.7508 1762.34 69.8619 Q1758.25 65.9325 1758.25 59.3701 Q1758.25 51.7138 1763.35 47.825 Q1768.5 43.9361 1778.67 43.9361 L1789.12 43.9361 L1789.12 43.2069 Q1789.12 38.0623 1785.72 35.2672 Q1782.35 32.4315 1776.24 32.4315 Q1772.35 32.4315 1768.66 33.3632 Q1764.97 34.295 1761.57 36.1584 L1761.57 29.2718 Q1765.66 27.692 1769.51 26.9223 Q1773.36 26.1121 1777.01 26.1121 Q1786.85 26.1121 1791.71 31.2163 Q1796.57 36.3204 1796.57 46.6907 Z\" fill=\"#000000\" fill-rule=\"evenodd\" fill-opacity=\"1\" /><path clip-path=\"url(#clip570)\" d=\"M1847.25 35.9153 Q1850.04 30.8922 1853.93 28.5022 Q1857.82 26.1121 1863.09 26.1121 Q1870.18 26.1121 1874.02 31.0947 Q1877.87 36.0368 1877.87 45.1919 L1877.87 72.576 L1870.38 72.576 L1870.38 45.4349 Q1870.38 38.913 1868.07 35.7533 Q1865.76 32.5936 1861.02 32.5936 Q1855.23 32.5936 1851.87 36.4419 Q1848.5 40.2903 1848.5 46.9338 L1848.5 72.576 L1841.01 72.576 L1841.01 45.4349 Q1841.01 38.8725 1838.7 35.7533 Q1836.39 32.5936 1831.57 32.5936 Q1825.86 32.5936 1822.5 36.4824 Q1819.14 40.3308 1819.14 46.9338 L1819.14 72.576 L1811.64 72.576 L1811.64 27.2059 L1819.14 27.2059 L1819.14 34.2544 Q1821.69 30.082 1825.25 28.0971 Q1828.82 26.1121 1833.72 26.1121 Q1838.66 26.1121 1842.1 28.6237 Q1845.59 31.1352 1847.25 35.9153 Z\" fill=\"#000000\" fill-rule=\"evenodd\" fill-opacity=\"1\" /><path clip-path=\"url(#clip570)\" d=\"M1921.66 28.5427 L1921.66 35.5912 Q1918.5 33.9709 1915.1 33.1607 Q1911.7 32.3505 1908.05 32.3505 Q1902.5 32.3505 1899.71 34.0519 Q1896.95 35.7533 1896.95 39.156 Q1896.95 41.7486 1898.94 43.2475 Q1900.92 44.7058 1906.92 46.0426 L1909.47 46.6097 Q1917.41 48.3111 1920.73 51.4303 Q1924.09 54.509 1924.09 60.0587 Q1924.09 66.3781 1919.07 70.0644 Q1914.09 73.7508 1905.34 73.7508 Q1901.69 73.7508 1897.72 73.0216 Q1893.79 72.3329 1889.42 70.9151 L1889.42 63.2184 Q1893.55 65.3654 1897.56 66.4591 Q1901.57 67.5124 1905.5 67.5124 Q1910.77 67.5124 1913.6 65.73 Q1916.44 63.9071 1916.44 60.6258 Q1916.44 57.5877 1914.37 55.9673 Q1912.35 54.3469 1905.42 52.8481 L1902.83 52.2405 Q1895.9 50.7821 1892.82 47.7845 Q1889.74 44.7463 1889.74 39.4801 Q1889.74 33.0797 1894.28 29.5959 Q1898.82 26.1121 1907.16 26.1121 Q1911.29 26.1121 1914.94 26.7198 Q1918.58 27.3274 1921.66 28.5427 Z\" fill=\"#000000\" fill-rule=\"evenodd\" fill-opacity=\"1\" /><path clip-path=\"url(#clip572)\" d=\"\n",
       "M659.292 964.459 L659.292 1423.18 L901.215 1423.18 L901.215 964.459 L659.292 964.459 L659.292 964.459  Z\n",
       "  \" fill=\"#1874cd\" fill-rule=\"evenodd\" fill-opacity=\"0.7\"/>\n",
       "<polyline clip-path=\"url(#clip572)\" style=\"stroke:#000000; stroke-linecap:butt; stroke-linejoin:round; stroke-width:4; stroke-opacity:0.7; fill:none\" points=\"\n",
       "  659.292,964.459 659.292,1423.18 901.215,1423.18 901.215,964.459 659.292,964.459 \n",
       "  \"/>\n",
       "<path clip-path=\"url(#clip572)\" d=\"\n",
       "M901.215 964.459 L901.215 1423.18 L1143.14 1423.18 L1143.14 964.459 L901.215 964.459 L901.215 964.459  Z\n",
       "  \" fill=\"#1874cd\" fill-rule=\"evenodd\" fill-opacity=\"0.7\"/>\n",
       "<polyline clip-path=\"url(#clip572)\" style=\"stroke:#000000; stroke-linecap:butt; stroke-linejoin:round; stroke-width:4; stroke-opacity:0.7; fill:none\" points=\"\n",
       "  901.215,964.459 901.215,1423.18 1143.14,1423.18 1143.14,964.459 901.215,964.459 \n",
       "  \"/>\n",
       "<path clip-path=\"url(#clip572)\" d=\"\n",
       "M1143.14 352.832 L1143.14 1423.18 L1385.06 1423.18 L1385.06 352.832 L1143.14 352.832 L1143.14 352.832  Z\n",
       "  \" fill=\"#1874cd\" fill-rule=\"evenodd\" fill-opacity=\"0.7\"/>\n",
       "<polyline clip-path=\"url(#clip572)\" style=\"stroke:#000000; stroke-linecap:butt; stroke-linejoin:round; stroke-width:4; stroke-opacity:0.7; fill:none\" points=\"\n",
       "  1143.14,352.832 1143.14,1423.18 1385.06,1423.18 1385.06,352.832 1143.14,352.832 \n",
       "  \"/>\n",
       "<path clip-path=\"url(#clip572)\" d=\"\n",
       "M1385.06 964.459 L1385.06 1423.18 L1626.99 1423.18 L1626.99 964.459 L1385.06 964.459 L1385.06 964.459  Z\n",
       "  \" fill=\"#1874cd\" fill-rule=\"evenodd\" fill-opacity=\"0.7\"/>\n",
       "<polyline clip-path=\"url(#clip572)\" style=\"stroke:#000000; stroke-linecap:butt; stroke-linejoin:round; stroke-width:4; stroke-opacity:0.7; fill:none\" points=\"\n",
       "  1385.06,964.459 1385.06,1423.18 1626.99,1423.18 1626.99,964.459 1385.06,964.459 \n",
       "  \"/>\n",
       "<path clip-path=\"url(#clip572)\" d=\"\n",
       "M1626.99 1270.27 L1626.99 1423.18 L1868.91 1423.18 L1868.91 1270.27 L1626.99 1270.27 L1626.99 1270.27  Z\n",
       "  \" fill=\"#1874cd\" fill-rule=\"evenodd\" fill-opacity=\"0.7\"/>\n",
       "<polyline clip-path=\"url(#clip572)\" style=\"stroke:#000000; stroke-linecap:butt; stroke-linejoin:round; stroke-width:4; stroke-opacity:0.7; fill:none\" points=\"\n",
       "  1626.99,1270.27 1626.99,1423.18 1868.91,1423.18 1868.91,1270.27 1626.99,1270.27 \n",
       "  \"/>\n",
       "<circle clip-path=\"url(#clip572)\" style=\"fill:#1874cd; stroke:none; fill-opacity:0\" cx=\"780.254\" cy=\"964.459\" r=\"2\"/>\n",
       "<circle clip-path=\"url(#clip572)\" style=\"fill:#1874cd; stroke:none; fill-opacity:0\" cx=\"1022.18\" cy=\"964.459\" r=\"2\"/>\n",
       "<circle clip-path=\"url(#clip572)\" style=\"fill:#1874cd; stroke:none; fill-opacity:0\" cx=\"1264.1\" cy=\"352.832\" r=\"2\"/>\n",
       "<circle clip-path=\"url(#clip572)\" style=\"fill:#1874cd; stroke:none; fill-opacity:0\" cx=\"1506.02\" cy=\"964.459\" r=\"2\"/>\n",
       "<circle clip-path=\"url(#clip572)\" style=\"fill:#1874cd; stroke:none; fill-opacity:0\" cx=\"1747.95\" cy=\"1270.27\" r=\"2\"/>\n",
       "</svg>\n"
      ]
     },
     "metadata": {},
     "output_type": "display_data"
    }
   ],
   "source": [
    "metric = \"complexity\"\n",
    "currics[3].metrics[\"complexity\"] = (currics[3].metrics[\"complexity\"][1] * 2/3)  # adjust for quarter system at Pamona \n",
    "stats = basic_statistics(currics, \"complexity\")\n",
    "currics[3].metrics[\"complexity\"] = (currics[3].metrics[\"complexity\"][1] * 2/3)  # adjust for quarter system at Pamona \n",
    "println(String(take!(stats))); flush(stdout)  \n",
    "display(metric_histogram(currics, metric, title=\"Chemical Engineering Programs\", xlabel=\"$(metric)\", \n",
    "          ylabel=\"# of curricula\", xlim=(0,900)))"
   ]
  },
  {
   "cell_type": "markdown",
   "metadata": {},
   "source": [
    "There are 120 (semester) credit hour programs at Stanford University, the University of New Mexico, the University of South Florida, and Yale University."
   ]
  },
  {
   "cell_type": "markdown",
   "metadata": {},
   "source": [
    "## References\n",
    "<a id='References'></a>\n",
    "\n",
    "[1] Heileman, G. L., Abdallah, C.T., Slim, A., and Hickman, M. (2018). Curricular analytics: A framework for quantifying the impact of curricular reforms and pedagogical innovations. www.arXiv.org, arXiv:1811.09676 [cs.CY].\n",
    "\n",
    "[2] Heileman, G. L., Free, H. W., Abar, O. and Thompson-Arjona, W. G, (2019). CurricularAnalytics.jl Toolbox. https://github.com/heileman/CurricularAnalytics.jl."
   ]
  }
 ],
 "metadata": {
  "@webio": {
   "lastCommId": "d08b276009954b4380b318c895e988b7",
   "lastKernelId": "b1116678-2497-4976-979a-66e3b452fd18"
  },
  "kernelspec": {
   "display_name": "Julia 1.7.3",
   "language": "julia",
   "name": "julia-1.7"
  },
  "language_info": {
   "file_extension": ".jl",
   "mimetype": "application/julia",
   "name": "julia",
   "version": "1.7.3"
  }
 },
 "nbformat": 4,
 "nbformat_minor": 2
}
