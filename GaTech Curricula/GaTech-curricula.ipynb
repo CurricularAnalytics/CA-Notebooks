{
 "cells": [
  {
   "cell_type": "markdown",
   "metadata": {},
   "source": [
    "# <center>Georgia Institute of Technology Curricula - College of Engineering</center>\n",
    "\n",
    "This notebook contains a prelmininary analyses of the curricula and degree plans associated with the undergradatue programs in the College of Engineering at the Georgia Institute of Technology.  In order to execute the analyses provided in this notebook, you need to load the following Julia packages:"
   ]
  },
  {
   "cell_type": "code",
   "execution_count": 71,
   "metadata": {},
   "outputs": [],
   "source": [
    "using CurricularAnalytics, CurricularVisualization\n",
    "using CurricularOptimization # this package requires special access rights, if you commented out, you won't be able to run the optimzation-related functions\n",
    "using Glob\n",
    "using CSV\n",
    "using DataFrames\n",
    "using Statistics"
   ]
  },
  {
   "cell_type": "markdown",
   "metadata": {},
   "source": [
    "## Curricular Analytics Toolbox\n",
    "\n",
    "The analyses in this notebook makes use of the Curricular Analytics toolbox built using the Julia programming language and available as open source software [1]. As a starting point, you may find it useful to read the toolbox documenation, as well as the curricular analytics paper listed in the References section below [2].\n",
    "\n",
    "### Create the Data Structures \n",
    "Degree plans associated with the undergraduate programs in the College of Engineering were collected. The degree plans were stored as CSV files using the format for degree plans specified in the Curricular Analytics toolbox.  The files are organized in a directory structure that is assumed to be in the same directory as this notebook as follows:  `./programs/<college-name>/`\n",
    "\n",
    "Assuming the aforementioned directory structure, we first create an dictionay called `plans` containing the degree plans for each of the programs in a given college, in this case the college of engineering."
   ]
  },
  {
   "cell_type": "code",
   "execution_count": 72,
   "metadata": {},
   "outputs": [],
   "source": [
    "college = \"engineering\"\n",
    "plans = Dict{String, DegreePlan}()\n",
    "program_files = glob(\"*\", \"./programs/$college\")\n",
    "for program in program_files\n",
    "    dp = read_csv(program)\n",
    "    complexity(dp.curriculum)  # compute the curricular complexity of the degree plan\n",
    "    plans[dp.curriculum.name] = dp    # store the degree plan the dictionary \n",
    "end"
   ]
  },
  {
   "cell_type": "markdown",
   "metadata": {},
   "source": [
    "First we will analyze the structural properties of a curriculum in the college.  The structural properties of a curriculum are determined by the underlying structural properties of its corresponding curriculum graph (i.e., the graph showing the prerequisite relationships between the courses in a curriculum, ignoring term information).  Here's the degree plan for the Electrical Engineering program.  By hovering your mouse over the courses in this figure, various metrics will be displayed."
   ]
  },
  {
   "cell_type": "code",
   "execution_count": 73,
   "metadata": {},
   "outputs": [
    {
     "data": {
      "application/vnd.webio.node+json": {
       "children": [
        {
         "children": [
          ""
         ],
         "instanceArgs": {
          "namespace": "html",
          "tag": "iframe"
         },
         "nodeType": "DOM",
         "props": {
          "events": {
           "load": "(function (){this.contentWindow.postMessage({\"options\":{\"hideTerms\":false,\"edit\":false},\"curriculum\":{\"name\":\"Aerospace Engineering\",\"dp_name\":\"2021-22 Plan\",\"curriculum_terms\":[{\"name\":\"Term 1\",\"curriculum_items\":[{\"curriculum_requisites\":[],\"name\":\"MATH 1501\",\"metrics\":{\"complexity\":37.0,\"centrality\":0,\"blocking factor\":30,\"delay factor\":7.0},\"nameSub\":\"Calculus I\",\"id\":1,\"credits\":4,\"nameCanonical\":\"\"}],\"id\":1},{\"name\":\"Term 2\",\"curriculum_items\":[{\"curriculum_requisites\":[{\"source_id\":1,\"target_id\":2,\"type\":\"CurriculumPrerequisite\"}],\"name\":\"MATH 1552\",\"metrics\":{\"complexity\":34.0,\"centrality\":262,\"blocking factor\":27,\"delay factor\":7.0},\"nameSub\":\"Integral Calculus\",\"id\":2,\"credits\":4,\"nameCanonical\":\"\"},{\"curriculum_requisites\":[],\"name\":\"CHEM 1310\",\"metrics\":{\"complexity\":22.0,\"centrality\":0,\"blocking factor\":16,\"delay factor\":6.0},\"nameSub\":\"General Chemistry\",\"id\":3,\"credits\":4,\"nameCanonical\":\"\"},{\"curriculum_requisites\":[],\"name\":\"CS 1371\",\"metrics\":{\"complexity\":5.0,\"centrality\":0,\"blocking factor\":2,\"delay factor\":3.0},\"nameSub\":\"Computing for Engineers\",\"id\":4,\"credits\":3,\"nameCanonical\":\"\"},{\"curriculum_requisites\":[],\"name\":\"ENGL 1101\",\"metrics\":{\"complexity\":3.0,\"centrality\":0,\"blocking factor\":1,\"delay factor\":2.0},\"nameSub\":\"English Composition I\",\"id\":5,\"credits\":3,\"nameCanonical\":\"\"},{\"curriculum_requisites\":[],\"name\":\"APPH 1040\",\"metrics\":{\"complexity\":1.0,\"centrality\":0,\"blocking factor\":0,\"delay factor\":1.0},\"nameSub\":\"Applied Pysiology\",\"id\":6,\"credits\":2,\"nameCanonical\":\"\"}],\"id\":2},{\"name\":\"Term 3\",\"curriculum_items\":[{\"curriculum_requisites\":[{\"source_id\":1,\"target_id\":7,\"type\":\"CurriculumPrerequisite\"}],\"name\":\"MATH 1553\",\"metrics\":{\"complexity\":29.0,\"centrality\":146,\"blocking factor\":22,\"delay factor\":7.0},\"nameSub\":\"Intro to Linear Algebra\",\"id\":7,\"credits\":2,\"nameCanonical\":\"\"},{\"curriculum_requisites\":[{\"source_id\":2,\"target_id\":8,\"type\":\"CurriculumPrerequisite\"}],\"name\":\"PHYS  2211\",\"metrics\":{\"complexity\":26.0,\"centrality\":96,\"blocking factor\":19,\"delay factor\":7.0},\"nameSub\":\"Intro Physics 1\",\"id\":8,\"credits\":4,\"nameCanonical\":\"\"},{\"curriculum_requisites\":[{\"source_id\":1,\"target_id\":9,\"type\":\"CurriculumPrerequisite\"}],\"name\":\"AE 1601\",\"metrics\":{\"complexity\":9.0,\"centrality\":12,\"blocking factor\":5,\"delay factor\":4.0},\"nameSub\":\"Intro To Aerosapce Eng.\",\"id\":9,\"credits\":1,\"nameCanonical\":\"\"},{\"curriculum_requisites\":[{\"source_id\":5,\"target_id\":10,\"type\":\"CurriculumPrerequisite\"}],\"name\":\"ENGL 1102\",\"metrics\":{\"complexity\":2.0,\"centrality\":0,\"blocking factor\":0,\"delay factor\":2.0},\"nameSub\":\"English Composition II\",\"id\":10,\"credits\":3,\"nameCanonical\":\"\"},{\"curriculum_requisites\":[],\"name\":\"ME 1670\",\"metrics\":{\"complexity\":1.0,\"centrality\":0,\"blocking factor\":0,\"delay factor\":1.0},\"nameSub\":\"Intro. To Eng. Graphics\",\"id\":11,\"credits\":3,\"nameCanonical\":\"\"},{\"curriculum_requisites\":[],\"name\":\" \",\"metrics\":{\"complexity\":1.0,\"centrality\":0,\"blocking factor\":0,\"delay factor\":1.0},\"nameSub\":\"Social Science Elective\",\"id\":12,\"credits\":3,\"nameCanonical\":\"\"}],\"id\":3},{\"name\":\"Term 4\",\"curriculum_items\":[{\"curriculum_requisites\":[{\"source_id\":7,\"target_id\":13,\"type\":\"CurriculumPrerequisite\"},{\"source_id\":2,\"target_id\":13,\"type\":\"CurriculumPrerequisite\"}],\"name\":\"MATH 2551\",\"metrics\":{\"complexity\":22.0,\"centrality\":146,\"blocking factor\":15,\"delay factor\":7.0},\"nameSub\":\"Multivariable Calculus\",\"id\":13,\"credits\":4,\"nameCanonical\":\"\"},{\"curriculum_requisites\":[{\"source_id\":8,\"target_id\":14,\"type\":\"CurriculumPrerequisite\"}],\"name\":\"PHYS  2212\",\"metrics\":{\"complexity\":11.0,\"centrality\":18,\"blocking factor\":5,\"delay factor\":6.0},\"nameSub\":\"Intro. Physics 2\",\"id\":14,\"credits\":4,\"nameCanonical\":\"\"},{\"curriculum_requisites\":[{\"source_id\":2,\"target_id\":15,\"type\":\"CurriculumPrerequisite\"},{\"source_id\":8,\"target_id\":15,\"type\":\"CurriculumPrerequisite\"}],\"name\":\"COE 2001\",\"metrics\":{\"complexity\":11.0,\"centrality\":44,\"blocking factor\":5,\"delay factor\":6.0},\"nameSub\":\"Statics\",\"id\":15,\"credits\":2,\"nameCanonical\":\"\"},{\"curriculum_requisites\":[{\"source_id\":3,\"target_id\":16,\"type\":\"CurriculumPrerequisite\"}],\"name\":\"MSE 2001\",\"metrics\":{\"complexity\":13.0,\"centrality\":22,\"blocking factor\":7,\"delay factor\":6.0},\"nameSub\":\"Eng Materials\",\"id\":16,\"credits\":3,\"nameCanonical\":\"\"},{\"curriculum_requisites\":[],\"name\":\" \",\"metrics\":{\"complexity\":1.0,\"centrality\":0,\"blocking factor\":0,\"delay factor\":1.0},\"nameSub\":\"Economics Elective\",\"id\":17,\"credits\":3,\"nameCanonical\":\"\"}],\"id\":4},{\"name\":\"Term 5\",\"curriculum_items\":[{\"curriculum_requisites\":[{\"source_id\":7,\"target_id\":18,\"type\":\"CurriculumPrerequisite\"},{\"source_id\":2,\"target_id\":18,\"type\":\"CurriculumPrerequisite\"}],\"name\":\"MATH 2552\",\"metrics\":{\"complexity\":19.0,\"centrality\":146,\"blocking factor\":12,\"delay factor\":7.0},\"nameSub\":\"Differential Equations\",\"id\":18,\"credits\":4,\"nameCanonical\":\"\"},{\"curriculum_requisites\":[{\"source_id\":13,\"target_id\":19,\"type\":\"CurriculumPrerequisite\"},{\"source_id\":8,\"target_id\":19,\"type\":\"CurriculumPrerequisite\"},{\"source_id\":3,\"target_id\":19,\"type\":\"CurriculumPrerequisite\"}],\"name\":\"AE 2010\",\"metrics\":{\"complexity\":18.0,\"centrality\":198,\"blocking factor\":11,\"delay factor\":7.0},\"nameSub\":\"Termo and Fluid Fund.\",\"id\":19,\"credits\":4,\"nameCanonical\":\"\"},{\"curriculum_requisites\":[{\"source_id\":16,\"target_id\":20,\"type\":\"CurriculumPrerequisite\"},{\"source_id\":18,\"target_id\":20,\"type\":\"CurriculumCorequisite\"}],\"name\":\"AE 2220\",\"metrics\":{\"complexity\":13.0,\"centrality\":74,\"blocking factor\":6,\"delay factor\":7.0},\"nameSub\":\"Dynamics\",\"id\":20,\"credits\":3,\"nameCanonical\":\"\"},{\"curriculum_requisites\":[{\"source_id\":22,\"target_id\":21,\"type\":\"CurriculumStrictCorequisite\"},{\"source_id\":13,\"target_id\":21,\"type\":\"CurriculumCorequisite\"},{\"source_id\":15,\"target_id\":21,\"type\":\"CurriculumCorequisite\"},{\"source_id\":9,\"target_id\":21,\"type\":\"CurriculumPrerequisite\"},{\"source_id\":14,\"target_id\":21,\"type\":\"CurriculumCorequisite\"}],\"name\":\"AE 2610\",\"metrics\":{\"complexity\":8.0,\"centrality\":68,\"blocking factor\":2,\"delay factor\":6.0},\"nameSub\":\"Intro Exp Methods Lab\",\"id\":21,\"credits\":1,\"nameCanonical\":\"\"},{\"curriculum_requisites\":[],\"name\":\"AE 2611\",\"metrics\":{\"complexity\":6.0,\"centrality\":0,\"blocking factor\":3,\"delay factor\":3.0},\"nameSub\":\"Technical Comm for AE\",\"id\":22,\"credits\":1,\"nameCanonical\":\"\"},{\"curriculum_requisites\":[{\"source_id\":14,\"target_id\":23,\"type\":\"CurriculumPrerequisite\"}],\"name\":\"ECE 3710\",\"metrics\":{\"complexity\":7.0,\"centrality\":6,\"blocking factor\":1,\"delay factor\":6.0},\"nameSub\":\"Circuits & Electronics\",\"id\":23,\"credits\":2,\"nameCanonical\":\"\"}],\"id\":5},{\"name\":\"Term 6\",\"curriculum_items\":[{\"curriculum_requisites\":[{\"source_id\":13,\"target_id\":24,\"type\":\"CurriculumPrerequisite\"}],\"name\":\" \",\"metrics\":{\"complexity\":4.0,\"centrality\":0,\"blocking factor\":0,\"delay factor\":4.0},\"nameSub\":\"Math Option\",\"id\":24,\"credits\":3,\"nameCanonical\":\"\"},{\"curriculum_requisites\":[{\"source_id\":15,\"target_id\":25,\"type\":\"CurriculumPrerequisite\"},{\"source_id\":18,\"target_id\":25,\"type\":\"CurriculumCorequisite\"}],\"name\":\"COE 3001\",\"metrics\":{\"complexity\":8.0,\"centrality\":42,\"blocking factor\":2,\"delay factor\":6.0},\"nameSub\":\"Deformable Bodies\",\"id\":25,\"credits\":3,\"nameCanonical\":\"\"},{\"curriculum_requisites\":[{\"source_id\":19,\"target_id\":26,\"type\":\"CurriculumPrerequisite\"}],\"name\":\"AE 3030\",\"metrics\":{\"complexity\":14.0,\"centrality\":144,\"blocking factor\":7,\"delay factor\":7.0},\"nameSub\":\"Aerodynamics\",\"id\":26,\"credits\":4,\"nameCanonical\":\"\"},{\"curriculum_requisites\":[{\"source_id\":18,\"target_id\":27,\"type\":\"CurriculumPrerequisite\"},{\"source_id\":26,\"target_id\":27,\"type\":\"CurriculumCorequisite\"}],\"name\":\"AE 3330\",\"metrics\":{\"complexity\":10.0,\"centrality\":108,\"blocking factor\":3,\"delay factor\":7.0},\"nameSub\":\"AE Vehicle Performance\",\"id\":27,\"credits\":3,\"nameCanonical\":\"\"},{\"curriculum_requisites\":[{\"source_id\":20,\"target_id\":28,\"type\":\"CurriculumPrerequisite\"},{\"source_id\":18,\"target_id\":28,\"type\":\"CurriculumPrerequisite\"}],\"name\":\"AE 3530\",\"metrics\":{\"complexity\":12.0,\"centrality\":118,\"blocking factor\":5,\"delay factor\":7.0},\"nameSub\":\"Sys Dynamics & Vib\",\"id\":28,\"credits\":3,\"nameCanonical\":\"\"},{\"curriculum_requisites\":[{\"source_id\":23,\"target_id\":29,\"type\":\"CurriculumPrerequisite\"}],\"name\":\"ECE 3741\",\"metrics\":{\"complexity\":6.0,\"centrality\":0,\"blocking factor\":0,\"delay factor\":6.0},\"nameSub\":\"Circuits /Electronics Lab\",\"id\":29,\"credits\":1,\"nameCanonical\":\"\"}],\"id\":6},{\"name\":\"Term 7\",\"curriculum_items\":[{\"curriculum_requisites\":[{\"source_id\":4,\"target_id\":30,\"type\":\"CurriculumPrerequisite\"},{\"source_id\":13,\"target_id\":30,\"type\":\"CurriculumPrerequisite\"},{\"source_id\":9,\"target_id\":30,\"type\":\"CurriculumPrerequisite\"}],\"name\":\"AE 3340\",\"metrics\":{\"complexity\":6.0,\"centrality\":17,\"blocking factor\":1,\"delay factor\":5.0},\"nameSub\":\"Design Methods\",\"id\":30,\"credits\":2,\"nameCanonical\":\"\"},{\"curriculum_requisites\":[{\"source_id\":25,\"target_id\":31,\"type\":\"CurriculumPrerequisite\"}],\"name\":\"AE 3140\",\"metrics\":{\"complexity\":6.0,\"centrality\":0,\"blocking factor\":0,\"delay factor\":6.0},\"nameSub\":\"Structural Analysis\",\"id\":31,\"credits\":3,\"nameCanonical\":\"\"},{\"curriculum_requisites\":[{\"source_id\":19,\"target_id\":32,\"type\":\"CurriculumPrerequisite\"}],\"name\":\"AE 4451\",\"metrics\":{\"complexity\":5.0,\"centrality\":0,\"blocking factor\":0,\"delay factor\":5.0},\"nameSub\":\"Jet & Rocket Propulsion\",\"id\":32,\"credits\":3,\"nameCanonical\":\"\"},{\"curriculum_requisites\":[{\"source_id\":21,\"target_id\":33,\"type\":\"CurriculumPrerequisite\"},{\"source_id\":25,\"target_id\":33,\"type\":\"CurriculumPrerequisite\"},{\"source_id\":19,\"target_id\":33,\"type\":\"CurriculumPrerequisite\"}],\"name\":\"AE 3610\",\"metrics\":{\"complexity\":6.0,\"centrality\":0,\"blocking factor\":0,\"delay factor\":6.0},\"nameSub\":\"Exp Fluids/Solids Lab\",\"id\":33,\"credits\":2,\"nameCanonical\":\"\"},{\"curriculum_requisites\":[{\"source_id\":28,\"target_id\":34,\"type\":\"CurriculumPrerequisite\"}],\"name\":\"AE 3531\",\"metrics\":{\"complexity\":9.0,\"centrality\":64,\"blocking factor\":2,\"delay factor\":7.0},\"nameSub\":\"Control Sys Analysis/Design\",\"id\":34,\"credits\":3,\"nameCanonical\":\"\"},{\"curriculum_requisites\":[],\"name\":\" \",\"metrics\":{\"complexity\":1.0,\"centrality\":0,\"blocking factor\":0,\"delay factor\":1.0},\"nameSub\":\"Free Elective\",\"id\":35,\"credits\":3,\"nameCanonical\":\"\"}],\"id\":7},{\"name\":\"Term 8\",\"curriculum_items\":[{\"curriculum_requisites\":[{\"source_id\":27,\"target_id\":36,\"type\":\"CurriculumPrerequisite\"},{\"source_id\":30,\"target_id\":36,\"type\":\"CurriculumPrerequisite\"}],\"name\":\"AE  4341/2/3\",\"metrics\":{\"complexity\":7.0,\"centrality\":0,\"blocking factor\":0,\"delay factor\":7.0},\"nameSub\":\"Air/Space/Rotor Design\",\"id\":36,\"credits\":3,\"nameCanonical\":\"\"},{\"curriculum_requisites\":[{\"source_id\":26,\"target_id\":37,\"type\":\"CurriculumPrerequisite\"}],\"name\":\" \",\"metrics\":{\"complexity\":6.0,\"centrality\":0,\"blocking factor\":0,\"delay factor\":6.0},\"nameSub\":\"AE Option\",\"id\":37,\"credits\":3,\"nameCanonical\":\"\"},{\"curriculum_requisites\":[{\"source_id\":34,\"target_id\":38,\"type\":\"CurriculumCorequisite\"},{\"source_id\":27,\"target_id\":38,\"type\":\"CurriculumPrerequisite\"}],\"name\":\"AE 4531\",\"metrics\":{\"complexity\":7.0,\"centrality\":0,\"blocking factor\":0,\"delay factor\":7.0},\"nameSub\":\"Aircraft Flt Dynamics\",\"id\":38,\"credits\":3,\"nameCanonical\":\"\"},{\"curriculum_requisites\":[{\"source_id\":27,\"target_id\":39,\"type\":\"CurriculumPrerequisite\"},{\"source_id\":28,\"target_id\":39,\"type\":\"CurriculumPrerequisite\"}],\"name\":\"AE 4532\",\"metrics\":{\"complexity\":7.0,\"centrality\":0,\"blocking factor\":0,\"delay factor\":7.0},\"nameSub\":\"Spacecraft Flt Dynamics\",\"id\":39,\"credits\":3,\"nameCanonical\":\"\"},{\"curriculum_requisites\":[],\"name\":\" \",\"metrics\":{\"complexity\":1.0,\"centrality\":0,\"blocking factor\":0,\"delay factor\":1.0},\"nameSub\":\"Humanities Elective\",\"id\":40,\"credits\":3,\"nameCanonical\":\"\"},{\"curriculum_requisites\":[],\"name\":\" \",\"metrics\":{\"complexity\":1.0,\"centrality\":0,\"blocking factor\":0,\"delay factor\":1.0},\"nameSub\":\"Free Elective\",\"id\":41,\"credits\":3,\"nameCanonical\":\"\"},{\"curriculum_requisites\":[],\"name\":\" \",\"metrics\":{\"complexity\":1.0,\"centrality\":0,\"blocking factor\":0,\"delay factor\":1.0},\"nameSub\":\"Social Science Elective\",\"id\":42,\"credits\":3,\"nameCanonical\":\"\"}],\"id\":8},{\"name\":\"Term 9\",\"curriculum_items\":[{\"curriculum_requisites\":[{\"source_id\":34,\"target_id\":43,\"type\":\"CurriculumPrerequisite\"},{\"source_id\":21,\"target_id\":43,\"type\":\"CurriculumPrerequisite\"},{\"source_id\":19,\"target_id\":43,\"type\":\"CurriculumPrerequisite\"}],\"name\":\"AE 4610\",\"metrics\":{\"complexity\":7.0,\"centrality\":0,\"blocking factor\":0,\"delay factor\":7.0},\"nameSub\":\"Dynamics & Controls Lab\",\"id\":43,\"credits\":2,\"nameCanonical\":\"\"},{\"curriculum_requisites\":[{\"source_id\":26,\"target_id\":44,\"type\":\"CurriculumPrerequisite\"},{\"source_id\":28,\"target_id\":44,\"type\":\"CurriculumPrerequisite\"}],\"name\":\" \",\"metrics\":{\"complexity\":6.0,\"centrality\":0,\"blocking factor\":0,\"delay factor\":6.0},\"nameSub\":\"AE Option \",\"id\":44,\"credits\":3,\"nameCanonical\":\"\"},{\"curriculum_requisites\":[{\"source_id\":26,\"target_id\":45,\"type\":\"CurriculumPrerequisite\"}],\"name\":\" \",\"metrics\":{\"complexity\":6.0,\"centrality\":0,\"blocking factor\":0,\"delay factor\":6.0},\"nameSub\":\"AE Option\",\"id\":45,\"credits\":2,\"nameCanonical\":\"\"},{\"curriculum_requisites\":[],\"name\":\" \",\"metrics\":{\"complexity\":1.0,\"centrality\":0,\"blocking factor\":0,\"delay factor\":1.0},\"nameSub\":\"Humanities Elective\",\"id\":46,\"credits\":3,\"nameCanonical\":\"\"},{\"curriculum_requisites\":[],\"name\":\" \",\"metrics\":{\"complexity\":1.0,\"centrality\":0,\"blocking factor\":0,\"delay factor\":1.0},\"nameSub\":\"Free Elective\",\"id\":47,\"credits\":3,\"nameCanonical\":\"\"},{\"curriculum_requisites\":[],\"name\":\" \",\"metrics\":{\"complexity\":1.0,\"centrality\":0,\"blocking factor\":0,\"delay factor\":1.0},\"nameSub\":\"Social Science Elective\",\"id\":48,\"credits\":3,\"nameCanonical\":\"\"}],\"id\":9}],\"institution\":\"Georgia Institute of Technology\"}},\"*\"); window.removeEventListener(\"message\",window.messageReceived); window.messageReceived=(function (event){return (event.data.curriculum!==undefined) ? (WebIO.setval({\"name\":\"curriculum-data\",\"scope\":\"2497756243983982627\",\"id\":\"12678649697774388425\",\"type\":\"observable\"},event.data.curriculum)) : undefined}); return window.addEventListener(\"message\",window.messageReceived)})"
          },
          "id": "curriculum",
          "src": "https://curricula-api-embed.damoursystems.com/",
          "style": {
           "border": "none",
           "height": "100vh",
           "margin": "0",
           "padding": "0",
           "width": "100%"
          }
         },
         "type": "node"
        }
       ],
       "instanceArgs": {
        "handlers": {},
        "id": "2497756243983982627",
        "imports": {
         "data": [],
         "type": "async_block"
        },
        "mount_callbacks": [],
        "observables": {
         "curriculum-data": {
          "id": "12678649697774388425",
          "sync": true,
          "value": {
           "curriculum": {
            "curriculum_terms": [
             {
              "curriculum_items": [
               {
                "credits": 4,
                "curriculum_requisites": [],
                "id": 1,
                "metrics": {
                 "blocking factor": 30,
                 "centrality": 0,
                 "complexity": 37,
                 "delay factor": 7
                },
                "name": "MATH 1501",
                "nameCanonical": "",
                "nameSub": "Calculus I"
               }
              ],
              "id": 1,
              "name": "Term 1"
             },
             {
              "curriculum_items": [
               {
                "credits": 4,
                "curriculum_requisites": [
                 {
                  "source_id": 1,
                  "target_id": 2,
                  "type": "CurriculumPrerequisite"
                 }
                ],
                "id": 2,
                "metrics": {
                 "blocking factor": 27,
                 "centrality": 262,
                 "complexity": 34,
                 "delay factor": 7
                },
                "name": "MATH 1552",
                "nameCanonical": "",
                "nameSub": "Integral Calculus"
               },
               {
                "credits": 4,
                "curriculum_requisites": [],
                "id": 3,
                "metrics": {
                 "blocking factor": 16,
                 "centrality": 0,
                 "complexity": 22,
                 "delay factor": 6
                },
                "name": "CHEM 1310",
                "nameCanonical": "",
                "nameSub": "General Chemistry"
               },
               {
                "credits": 3,
                "curriculum_requisites": [],
                "id": 4,
                "metrics": {
                 "blocking factor": 2,
                 "centrality": 0,
                 "complexity": 5,
                 "delay factor": 3
                },
                "name": "CS 1371",
                "nameCanonical": "",
                "nameSub": "Computing for Engineers"
               },
               {
                "credits": 3,
                "curriculum_requisites": [],
                "id": 5,
                "metrics": {
                 "blocking factor": 1,
                 "centrality": 0,
                 "complexity": 3,
                 "delay factor": 2
                },
                "name": "ENGL 1101",
                "nameCanonical": "",
                "nameSub": "English Composition I"
               },
               {
                "credits": 2,
                "curriculum_requisites": [],
                "id": 6,
                "metrics": {
                 "blocking factor": 0,
                 "centrality": 0,
                 "complexity": 1,
                 "delay factor": 1
                },
                "name": "APPH 1040",
                "nameCanonical": "",
                "nameSub": "Applied Pysiology"
               }
              ],
              "id": 2,
              "name": "Term 2"
             },
             {
              "curriculum_items": [
               {
                "credits": 2,
                "curriculum_requisites": [
                 {
                  "source_id": 1,
                  "target_id": 7,
                  "type": "CurriculumPrerequisite"
                 }
                ],
                "id": 7,
                "metrics": {
                 "blocking factor": 22,
                 "centrality": 146,
                 "complexity": 29,
                 "delay factor": 7
                },
                "name": "MATH 1553",
                "nameCanonical": "",
                "nameSub": "Intro to Linear Algebra"
               },
               {
                "credits": 4,
                "curriculum_requisites": [
                 {
                  "source_id": 2,
                  "target_id": 8,
                  "type": "CurriculumPrerequisite"
                 }
                ],
                "id": 8,
                "metrics": {
                 "blocking factor": 19,
                 "centrality": 96,
                 "complexity": 26,
                 "delay factor": 7
                },
                "name": "PHYS  2211",
                "nameCanonical": "",
                "nameSub": "Intro Physics 1"
               },
               {
                "credits": 1,
                "curriculum_requisites": [
                 {
                  "source_id": 1,
                  "target_id": 9,
                  "type": "CurriculumPrerequisite"
                 }
                ],
                "id": 9,
                "metrics": {
                 "blocking factor": 5,
                 "centrality": 12,
                 "complexity": 9,
                 "delay factor": 4
                },
                "name": "AE 1601",
                "nameCanonical": "",
                "nameSub": "Intro To Aerosapce Eng."
               },
               {
                "credits": 3,
                "curriculum_requisites": [
                 {
                  "source_id": 5,
                  "target_id": 10,
                  "type": "CurriculumPrerequisite"
                 }
                ],
                "id": 10,
                "metrics": {
                 "blocking factor": 0,
                 "centrality": 0,
                 "complexity": 2,
                 "delay factor": 2
                },
                "name": "ENGL 1102",
                "nameCanonical": "",
                "nameSub": "English Composition II"
               },
               {
                "credits": 3,
                "curriculum_requisites": [],
                "id": 11,
                "metrics": {
                 "blocking factor": 0,
                 "centrality": 0,
                 "complexity": 1,
                 "delay factor": 1
                },
                "name": "ME 1670",
                "nameCanonical": "",
                "nameSub": "Intro. To Eng. Graphics"
               },
               {
                "credits": 3,
                "curriculum_requisites": [],
                "id": 12,
                "metrics": {
                 "blocking factor": 0,
                 "centrality": 0,
                 "complexity": 1,
                 "delay factor": 1
                },
                "name": " ",
                "nameCanonical": "",
                "nameSub": "Social Science Elective"
               }
              ],
              "id": 3,
              "name": "Term 3"
             },
             {
              "curriculum_items": [
               {
                "credits": 4,
                "curriculum_requisites": [
                 {
                  "source_id": 7,
                  "target_id": 13,
                  "type": "CurriculumPrerequisite"
                 },
                 {
                  "source_id": 2,
                  "target_id": 13,
                  "type": "CurriculumPrerequisite"
                 }
                ],
                "id": 13,
                "metrics": {
                 "blocking factor": 15,
                 "centrality": 146,
                 "complexity": 22,
                 "delay factor": 7
                },
                "name": "MATH 2551",
                "nameCanonical": "",
                "nameSub": "Multivariable Calculus"
               },
               {
                "credits": 4,
                "curriculum_requisites": [
                 {
                  "source_id": 8,
                  "target_id": 14,
                  "type": "CurriculumPrerequisite"
                 }
                ],
                "id": 14,
                "metrics": {
                 "blocking factor": 5,
                 "centrality": 18,
                 "complexity": 11,
                 "delay factor": 6
                },
                "name": "PHYS  2212",
                "nameCanonical": "",
                "nameSub": "Intro. Physics 2"
               },
               {
                "credits": 2,
                "curriculum_requisites": [
                 {
                  "source_id": 2,
                  "target_id": 15,
                  "type": "CurriculumPrerequisite"
                 },
                 {
                  "source_id": 8,
                  "target_id": 15,
                  "type": "CurriculumPrerequisite"
                 }
                ],
                "id": 15,
                "metrics": {
                 "blocking factor": 5,
                 "centrality": 44,
                 "complexity": 11,
                 "delay factor": 6
                },
                "name": "COE 2001",
                "nameCanonical": "",
                "nameSub": "Statics"
               },
               {
                "credits": 3,
                "curriculum_requisites": [
                 {
                  "source_id": 3,
                  "target_id": 16,
                  "type": "CurriculumPrerequisite"
                 }
                ],
                "id": 16,
                "metrics": {
                 "blocking factor": 7,
                 "centrality": 22,
                 "complexity": 13,
                 "delay factor": 6
                },
                "name": "MSE 2001",
                "nameCanonical": "",
                "nameSub": "Eng Materials"
               },
               {
                "credits": 3,
                "curriculum_requisites": [],
                "id": 17,
                "metrics": {
                 "blocking factor": 0,
                 "centrality": 0,
                 "complexity": 1,
                 "delay factor": 1
                },
                "name": " ",
                "nameCanonical": "",
                "nameSub": "Economics Elective"
               }
              ],
              "id": 4,
              "name": "Term 4"
             },
             {
              "curriculum_items": [
               {
                "credits": 4,
                "curriculum_requisites": [
                 {
                  "source_id": 7,
                  "target_id": 18,
                  "type": "CurriculumPrerequisite"
                 },
                 {
                  "source_id": 2,
                  "target_id": 18,
                  "type": "CurriculumPrerequisite"
                 }
                ],
                "id": 18,
                "metrics": {
                 "blocking factor": 12,
                 "centrality": 146,
                 "complexity": 19,
                 "delay factor": 7
                },
                "name": "MATH 2552",
                "nameCanonical": "",
                "nameSub": "Differential Equations"
               },
               {
                "credits": 4,
                "curriculum_requisites": [
                 {
                  "source_id": 13,
                  "target_id": 19,
                  "type": "CurriculumPrerequisite"
                 },
                 {
                  "source_id": 8,
                  "target_id": 19,
                  "type": "CurriculumPrerequisite"
                 },
                 {
                  "source_id": 3,
                  "target_id": 19,
                  "type": "CurriculumPrerequisite"
                 }
                ],
                "id": 19,
                "metrics": {
                 "blocking factor": 11,
                 "centrality": 198,
                 "complexity": 18,
                 "delay factor": 7
                },
                "name": "AE 2010",
                "nameCanonical": "",
                "nameSub": "Termo and Fluid Fund."
               },
               {
                "credits": 3,
                "curriculum_requisites": [
                 {
                  "source_id": 16,
                  "target_id": 20,
                  "type": "CurriculumPrerequisite"
                 },
                 {
                  "source_id": 18,
                  "target_id": 20,
                  "type": "CurriculumCorequisite"
                 }
                ],
                "id": 20,
                "metrics": {
                 "blocking factor": 6,
                 "centrality": 74,
                 "complexity": 13,
                 "delay factor": 7
                },
                "name": "AE 2220",
                "nameCanonical": "",
                "nameSub": "Dynamics"
               },
               {
                "credits": 1,
                "curriculum_requisites": [
                 {
                  "source_id": 22,
                  "target_id": 21,
                  "type": "CurriculumStrictCorequisite"
                 },
                 {
                  "source_id": 13,
                  "target_id": 21,
                  "type": "CurriculumCorequisite"
                 },
                 {
                  "source_id": 15,
                  "target_id": 21,
                  "type": "CurriculumCorequisite"
                 },
                 {
                  "source_id": 9,
                  "target_id": 21,
                  "type": "CurriculumPrerequisite"
                 },
                 {
                  "source_id": 14,
                  "target_id": 21,
                  "type": "CurriculumCorequisite"
                 }
                ],
                "id": 21,
                "metrics": {
                 "blocking factor": 2,
                 "centrality": 68,
                 "complexity": 8,
                 "delay factor": 6
                },
                "name": "AE 2610",
                "nameCanonical": "",
                "nameSub": "Intro Exp Methods Lab"
               },
               {
                "credits": 1,
                "curriculum_requisites": [],
                "id": 22,
                "metrics": {
                 "blocking factor": 3,
                 "centrality": 0,
                 "complexity": 6,
                 "delay factor": 3
                },
                "name": "AE 2611",
                "nameCanonical": "",
                "nameSub": "Technical Comm for AE"
               },
               {
                "credits": 2,
                "curriculum_requisites": [
                 {
                  "source_id": 14,
                  "target_id": 23,
                  "type": "CurriculumPrerequisite"
                 }
                ],
                "id": 23,
                "metrics": {
                 "blocking factor": 1,
                 "centrality": 6,
                 "complexity": 7,
                 "delay factor": 6
                },
                "name": "ECE 3710",
                "nameCanonical": "",
                "nameSub": "Circuits & Electronics"
               }
              ],
              "id": 5,
              "name": "Term 5"
             },
             {
              "curriculum_items": [
               {
                "credits": 3,
                "curriculum_requisites": [
                 {
                  "source_id": 13,
                  "target_id": 24,
                  "type": "CurriculumPrerequisite"
                 }
                ],
                "id": 24,
                "metrics": {
                 "blocking factor": 0,
                 "centrality": 0,
                 "complexity": 4,
                 "delay factor": 4
                },
                "name": " ",
                "nameCanonical": "",
                "nameSub": "Math Option"
               },
               {
                "credits": 3,
                "curriculum_requisites": [
                 {
                  "source_id": 15,
                  "target_id": 25,
                  "type": "CurriculumPrerequisite"
                 },
                 {
                  "source_id": 18,
                  "target_id": 25,
                  "type": "CurriculumCorequisite"
                 }
                ],
                "id": 25,
                "metrics": {
                 "blocking factor": 2,
                 "centrality": 42,
                 "complexity": 8,
                 "delay factor": 6
                },
                "name": "COE 3001",
                "nameCanonical": "",
                "nameSub": "Deformable Bodies"
               },
               {
                "credits": 4,
                "curriculum_requisites": [
                 {
                  "source_id": 19,
                  "target_id": 26,
                  "type": "CurriculumPrerequisite"
                 }
                ],
                "id": 26,
                "metrics": {
                 "blocking factor": 7,
                 "centrality": 144,
                 "complexity": 14,
                 "delay factor": 7
                },
                "name": "AE 3030",
                "nameCanonical": "",
                "nameSub": "Aerodynamics"
               },
               {
                "credits": 3,
                "curriculum_requisites": [
                 {
                  "source_id": 18,
                  "target_id": 27,
                  "type": "CurriculumPrerequisite"
                 },
                 {
                  "source_id": 26,
                  "target_id": 27,
                  "type": "CurriculumCorequisite"
                 }
                ],
                "id": 27,
                "metrics": {
                 "blocking factor": 3,
                 "centrality": 108,
                 "complexity": 10,
                 "delay factor": 7
                },
                "name": "AE 3330",
                "nameCanonical": "",
                "nameSub": "AE Vehicle Performance"
               },
               {
                "credits": 3,
                "curriculum_requisites": [
                 {
                  "source_id": 20,
                  "target_id": 28,
                  "type": "CurriculumPrerequisite"
                 },
                 {
                  "source_id": 18,
                  "target_id": 28,
                  "type": "CurriculumPrerequisite"
                 }
                ],
                "id": 28,
                "metrics": {
                 "blocking factor": 5,
                 "centrality": 118,
                 "complexity": 12,
                 "delay factor": 7
                },
                "name": "AE 3530",
                "nameCanonical": "",
                "nameSub": "Sys Dynamics & Vib"
               },
               {
                "credits": 1,
                "curriculum_requisites": [
                 {
                  "source_id": 23,
                  "target_id": 29,
                  "type": "CurriculumPrerequisite"
                 }
                ],
                "id": 29,
                "metrics": {
                 "blocking factor": 0,
                 "centrality": 0,
                 "complexity": 6,
                 "delay factor": 6
                },
                "name": "ECE 3741",
                "nameCanonical": "",
                "nameSub": "Circuits /Electronics Lab"
               }
              ],
              "id": 6,
              "name": "Term 6"
             },
             {
              "curriculum_items": [
               {
                "credits": 2,
                "curriculum_requisites": [
                 {
                  "source_id": 4,
                  "target_id": 30,
                  "type": "CurriculumPrerequisite"
                 },
                 {
                  "source_id": 13,
                  "target_id": 30,
                  "type": "CurriculumPrerequisite"
                 },
                 {
                  "source_id": 9,
                  "target_id": 30,
                  "type": "CurriculumPrerequisite"
                 }
                ],
                "id": 30,
                "metrics": {
                 "blocking factor": 1,
                 "centrality": 17,
                 "complexity": 6,
                 "delay factor": 5
                },
                "name": "AE 3340",
                "nameCanonical": "",
                "nameSub": "Design Methods"
               },
               {
                "credits": 3,
                "curriculum_requisites": [
                 {
                  "source_id": 25,
                  "target_id": 31,
                  "type": "CurriculumPrerequisite"
                 }
                ],
                "id": 31,
                "metrics": {
                 "blocking factor": 0,
                 "centrality": 0,
                 "complexity": 6,
                 "delay factor": 6
                },
                "name": "AE 3140",
                "nameCanonical": "",
                "nameSub": "Structural Analysis"
               },
               {
                "credits": 3,
                "curriculum_requisites": [
                 {
                  "source_id": 19,
                  "target_id": 32,
                  "type": "CurriculumPrerequisite"
                 }
                ],
                "id": 32,
                "metrics": {
                 "blocking factor": 0,
                 "centrality": 0,
                 "complexity": 5,
                 "delay factor": 5
                },
                "name": "AE 4451",
                "nameCanonical": "",
                "nameSub": "Jet & Rocket Propulsion"
               },
               {
                "credits": 2,
                "curriculum_requisites": [
                 {
                  "source_id": 21,
                  "target_id": 33,
                  "type": "CurriculumPrerequisite"
                 },
                 {
                  "source_id": 25,
                  "target_id": 33,
                  "type": "CurriculumPrerequisite"
                 },
                 {
                  "source_id": 19,
                  "target_id": 33,
                  "type": "CurriculumPrerequisite"
                 }
                ],
                "id": 33,
                "metrics": {
                 "blocking factor": 0,
                 "centrality": 0,
                 "complexity": 6,
                 "delay factor": 6
                },
                "name": "AE 3610",
                "nameCanonical": "",
                "nameSub": "Exp Fluids/Solids Lab"
               },
               {
                "credits": 3,
                "curriculum_requisites": [
                 {
                  "source_id": 28,
                  "target_id": 34,
                  "type": "CurriculumPrerequisite"
                 }
                ],
                "id": 34,
                "metrics": {
                 "blocking factor": 2,
                 "centrality": 64,
                 "complexity": 9,
                 "delay factor": 7
                },
                "name": "AE 3531",
                "nameCanonical": "",
                "nameSub": "Control Sys Analysis/Design"
               },
               {
                "credits": 3,
                "curriculum_requisites": [],
                "id": 35,
                "metrics": {
                 "blocking factor": 0,
                 "centrality": 0,
                 "complexity": 1,
                 "delay factor": 1
                },
                "name": " ",
                "nameCanonical": "",
                "nameSub": "Free Elective"
               }
              ],
              "id": 7,
              "name": "Term 7"
             },
             {
              "curriculum_items": [
               {
                "credits": 3,
                "curriculum_requisites": [
                 {
                  "source_id": 27,
                  "target_id": 36,
                  "type": "CurriculumPrerequisite"
                 },
                 {
                  "source_id": 30,
                  "target_id": 36,
                  "type": "CurriculumPrerequisite"
                 }
                ],
                "id": 36,
                "metrics": {
                 "blocking factor": 0,
                 "centrality": 0,
                 "complexity": 7,
                 "delay factor": 7
                },
                "name": "AE  4341/2/3",
                "nameCanonical": "",
                "nameSub": "Air/Space/Rotor Design"
               },
               {
                "credits": 3,
                "curriculum_requisites": [
                 {
                  "source_id": 26,
                  "target_id": 37,
                  "type": "CurriculumPrerequisite"
                 }
                ],
                "id": 37,
                "metrics": {
                 "blocking factor": 0,
                 "centrality": 0,
                 "complexity": 6,
                 "delay factor": 6
                },
                "name": " ",
                "nameCanonical": "",
                "nameSub": "AE Option"
               },
               {
                "credits": 3,
                "curriculum_requisites": [
                 {
                  "source_id": 34,
                  "target_id": 38,
                  "type": "CurriculumCorequisite"
                 },
                 {
                  "source_id": 27,
                  "target_id": 38,
                  "type": "CurriculumPrerequisite"
                 }
                ],
                "id": 38,
                "metrics": {
                 "blocking factor": 0,
                 "centrality": 0,
                 "complexity": 7,
                 "delay factor": 7
                },
                "name": "AE 4531",
                "nameCanonical": "",
                "nameSub": "Aircraft Flt Dynamics"
               },
               {
                "credits": 3,
                "curriculum_requisites": [
                 {
                  "source_id": 27,
                  "target_id": 39,
                  "type": "CurriculumPrerequisite"
                 },
                 {
                  "source_id": 28,
                  "target_id": 39,
                  "type": "CurriculumPrerequisite"
                 }
                ],
                "id": 39,
                "metrics": {
                 "blocking factor": 0,
                 "centrality": 0,
                 "complexity": 7,
                 "delay factor": 7
                },
                "name": "AE 4532",
                "nameCanonical": "",
                "nameSub": "Spacecraft Flt Dynamics"
               },
               {
                "credits": 3,
                "curriculum_requisites": [],
                "id": 40,
                "metrics": {
                 "blocking factor": 0,
                 "centrality": 0,
                 "complexity": 1,
                 "delay factor": 1
                },
                "name": " ",
                "nameCanonical": "",
                "nameSub": "Humanities Elective"
               },
               {
                "credits": 3,
                "curriculum_requisites": [],
                "id": 41,
                "metrics": {
                 "blocking factor": 0,
                 "centrality": 0,
                 "complexity": 1,
                 "delay factor": 1
                },
                "name": " ",
                "nameCanonical": "",
                "nameSub": "Free Elective"
               },
               {
                "credits": 3,
                "curriculum_requisites": [],
                "id": 42,
                "metrics": {
                 "blocking factor": 0,
                 "centrality": 0,
                 "complexity": 1,
                 "delay factor": 1
                },
                "name": " ",
                "nameCanonical": "",
                "nameSub": "Social Science Elective"
               }
              ],
              "id": 8,
              "name": "Term 8"
             },
             {
              "curriculum_items": [
               {
                "credits": 2,
                "curriculum_requisites": [
                 {
                  "source_id": 34,
                  "target_id": 43,
                  "type": "CurriculumPrerequisite"
                 },
                 {
                  "source_id": 21,
                  "target_id": 43,
                  "type": "CurriculumPrerequisite"
                 },
                 {
                  "source_id": 19,
                  "target_id": 43,
                  "type": "CurriculumPrerequisite"
                 }
                ],
                "id": 43,
                "metrics": {
                 "blocking factor": 0,
                 "centrality": 0,
                 "complexity": 7,
                 "delay factor": 7
                },
                "name": "AE 4610",
                "nameCanonical": "",
                "nameSub": "Dynamics & Controls Lab"
               },
               {
                "credits": 3,
                "curriculum_requisites": [
                 {
                  "source_id": 26,
                  "target_id": 44,
                  "type": "CurriculumPrerequisite"
                 },
                 {
                  "source_id": 28,
                  "target_id": 44,
                  "type": "CurriculumPrerequisite"
                 }
                ],
                "id": 44,
                "metrics": {
                 "blocking factor": 0,
                 "centrality": 0,
                 "complexity": 6,
                 "delay factor": 6
                },
                "name": " ",
                "nameCanonical": "",
                "nameSub": "AE Option "
               },
               {
                "credits": 2,
                "curriculum_requisites": [
                 {
                  "source_id": 26,
                  "target_id": 45,
                  "type": "CurriculumPrerequisite"
                 }
                ],
                "id": 45,
                "metrics": {
                 "blocking factor": 0,
                 "centrality": 0,
                 "complexity": 6,
                 "delay factor": 6
                },
                "name": " ",
                "nameCanonical": "",
                "nameSub": "AE Option"
               },
               {
                "credits": 3,
                "curriculum_requisites": [],
                "id": 46,
                "metrics": {
                 "blocking factor": 0,
                 "centrality": 0,
                 "complexity": 1,
                 "delay factor": 1
                },
                "name": " ",
                "nameCanonical": "",
                "nameSub": "Humanities Elective"
               },
               {
                "credits": 3,
                "curriculum_requisites": [],
                "id": 47,
                "metrics": {
                 "blocking factor": 0,
                 "centrality": 0,
                 "complexity": 1,
                 "delay factor": 1
                },
                "name": " ",
                "nameCanonical": "",
                "nameSub": "Free Elective"
               },
               {
                "credits": 3,
                "curriculum_requisites": [],
                "id": 48,
                "metrics": {
                 "blocking factor": 0,
                 "centrality": 0,
                 "complexity": 1,
                 "delay factor": 1
                },
                "name": " ",
                "nameCanonical": "",
                "nameSub": "Social Science Elective"
               }
              ],
              "id": 9,
              "name": "Term 9"
             }
            ],
            "dp_name": "2021-22 Plan",
            "institution": "Georgia Institute of Technology",
            "name": "Aerospace Engineering"
           },
           "options": {
            "edit": false,
            "hideTerms": false
           }
          }
         }
        },
        "systemjs_options": null
       },
       "nodeType": "Scope",
       "props": {},
       "type": "node"
      },
      "text/html": [
       "<div\n",
       "    class=\"webio-mountpoint\"\n",
       "    data-webio-mountpoint=\"7573937824431417635\"\n",
       ">\n",
       "    <script>\n",
       "    if (window.require && require.defined && require.defined(\"nbextensions/webio-jupyter-notebook\")) {\n",
       "        console.log(\"Jupyter WebIO extension detected, not mounting.\");\n",
       "    } else if (window.WebIO) {\n",
       "        WebIO.mount(\n",
       "            document.querySelector('[data-webio-mountpoint=\"7573937824431417635\"]'),\n",
       "            {\"props\":{},\"nodeType\":\"Scope\",\"type\":\"node\",\"instanceArgs\":{\"imports\":{\"data\":[],\"type\":\"async_block\"},\"id\":\"2497756243983982627\",\"handlers\":{},\"systemjs_options\":null,\"mount_callbacks\":[],\"observables\":{\"curriculum-data\":{\"sync\":true,\"id\":\"12678649697774388425\",\"value\":{\"options\":{\"hideTerms\":false,\"edit\":false},\"curriculum\":{\"name\":\"Aerospace Engineering\",\"dp_name\":\"2021-22 Plan\",\"curriculum_terms\":[{\"name\":\"Term 1\",\"curriculum_items\":[{\"curriculum_requisites\":[],\"name\":\"MATH 1501\",\"metrics\":{\"complexity\":37.0,\"centrality\":0,\"blocking factor\":30,\"delay factor\":7.0},\"nameSub\":\"Calculus I\",\"id\":1,\"credits\":4,\"nameCanonical\":\"\"}],\"id\":1},{\"name\":\"Term 2\",\"curriculum_items\":[{\"curriculum_requisites\":[{\"source_id\":1,\"target_id\":2,\"type\":\"CurriculumPrerequisite\"}],\"name\":\"MATH 1552\",\"metrics\":{\"complexity\":34.0,\"centrality\":262,\"blocking factor\":27,\"delay factor\":7.0},\"nameSub\":\"Integral Calculus\",\"id\":2,\"credits\":4,\"nameCanonical\":\"\"},{\"curriculum_requisites\":[],\"name\":\"CHEM 1310\",\"metrics\":{\"complexity\":22.0,\"centrality\":0,\"blocking factor\":16,\"delay factor\":6.0},\"nameSub\":\"General Chemistry\",\"id\":3,\"credits\":4,\"nameCanonical\":\"\"},{\"curriculum_requisites\":[],\"name\":\"CS 1371\",\"metrics\":{\"complexity\":5.0,\"centrality\":0,\"blocking factor\":2,\"delay factor\":3.0},\"nameSub\":\"Computing for Engineers\",\"id\":4,\"credits\":3,\"nameCanonical\":\"\"},{\"curriculum_requisites\":[],\"name\":\"ENGL 1101\",\"metrics\":{\"complexity\":3.0,\"centrality\":0,\"blocking factor\":1,\"delay factor\":2.0},\"nameSub\":\"English Composition I\",\"id\":5,\"credits\":3,\"nameCanonical\":\"\"},{\"curriculum_requisites\":[],\"name\":\"APPH 1040\",\"metrics\":{\"complexity\":1.0,\"centrality\":0,\"blocking factor\":0,\"delay factor\":1.0},\"nameSub\":\"Applied Pysiology\",\"id\":6,\"credits\":2,\"nameCanonical\":\"\"}],\"id\":2},{\"name\":\"Term 3\",\"curriculum_items\":[{\"curriculum_requisites\":[{\"source_id\":1,\"target_id\":7,\"type\":\"CurriculumPrerequisite\"}],\"name\":\"MATH 1553\",\"metrics\":{\"complexity\":29.0,\"centrality\":146,\"blocking factor\":22,\"delay factor\":7.0},\"nameSub\":\"Intro to Linear Algebra\",\"id\":7,\"credits\":2,\"nameCanonical\":\"\"},{\"curriculum_requisites\":[{\"source_id\":2,\"target_id\":8,\"type\":\"CurriculumPrerequisite\"}],\"name\":\"PHYS  2211\",\"metrics\":{\"complexity\":26.0,\"centrality\":96,\"blocking factor\":19,\"delay factor\":7.0},\"nameSub\":\"Intro Physics 1\",\"id\":8,\"credits\":4,\"nameCanonical\":\"\"},{\"curriculum_requisites\":[{\"source_id\":1,\"target_id\":9,\"type\":\"CurriculumPrerequisite\"}],\"name\":\"AE 1601\",\"metrics\":{\"complexity\":9.0,\"centrality\":12,\"blocking factor\":5,\"delay factor\":4.0},\"nameSub\":\"Intro To Aerosapce Eng.\",\"id\":9,\"credits\":1,\"nameCanonical\":\"\"},{\"curriculum_requisites\":[{\"source_id\":5,\"target_id\":10,\"type\":\"CurriculumPrerequisite\"}],\"name\":\"ENGL 1102\",\"metrics\":{\"complexity\":2.0,\"centrality\":0,\"blocking factor\":0,\"delay factor\":2.0},\"nameSub\":\"English Composition II\",\"id\":10,\"credits\":3,\"nameCanonical\":\"\"},{\"curriculum_requisites\":[],\"name\":\"ME 1670\",\"metrics\":{\"complexity\":1.0,\"centrality\":0,\"blocking factor\":0,\"delay factor\":1.0},\"nameSub\":\"Intro. To Eng. Graphics\",\"id\":11,\"credits\":3,\"nameCanonical\":\"\"},{\"curriculum_requisites\":[],\"name\":\" \",\"metrics\":{\"complexity\":1.0,\"centrality\":0,\"blocking factor\":0,\"delay factor\":1.0},\"nameSub\":\"Social Science Elective\",\"id\":12,\"credits\":3,\"nameCanonical\":\"\"}],\"id\":3},{\"name\":\"Term 4\",\"curriculum_items\":[{\"curriculum_requisites\":[{\"source_id\":7,\"target_id\":13,\"type\":\"CurriculumPrerequisite\"},{\"source_id\":2,\"target_id\":13,\"type\":\"CurriculumPrerequisite\"}],\"name\":\"MATH 2551\",\"metrics\":{\"complexity\":22.0,\"centrality\":146,\"blocking factor\":15,\"delay factor\":7.0},\"nameSub\":\"Multivariable Calculus\",\"id\":13,\"credits\":4,\"nameCanonical\":\"\"},{\"curriculum_requisites\":[{\"source_id\":8,\"target_id\":14,\"type\":\"CurriculumPrerequisite\"}],\"name\":\"PHYS  2212\",\"metrics\":{\"complexity\":11.0,\"centrality\":18,\"blocking factor\":5,\"delay factor\":6.0},\"nameSub\":\"Intro. Physics 2\",\"id\":14,\"credits\":4,\"nameCanonical\":\"\"},{\"curriculum_requisites\":[{\"source_id\":2,\"target_id\":15,\"type\":\"CurriculumPrerequisite\"},{\"source_id\":8,\"target_id\":15,\"type\":\"CurriculumPrerequisite\"}],\"name\":\"COE 2001\",\"metrics\":{\"complexity\":11.0,\"centrality\":44,\"blocking factor\":5,\"delay factor\":6.0},\"nameSub\":\"Statics\",\"id\":15,\"credits\":2,\"nameCanonical\":\"\"},{\"curriculum_requisites\":[{\"source_id\":3,\"target_id\":16,\"type\":\"CurriculumPrerequisite\"}],\"name\":\"MSE 2001\",\"metrics\":{\"complexity\":13.0,\"centrality\":22,\"blocking factor\":7,\"delay factor\":6.0},\"nameSub\":\"Eng Materials\",\"id\":16,\"credits\":3,\"nameCanonical\":\"\"},{\"curriculum_requisites\":[],\"name\":\" \",\"metrics\":{\"complexity\":1.0,\"centrality\":0,\"blocking factor\":0,\"delay factor\":1.0},\"nameSub\":\"Economics Elective\",\"id\":17,\"credits\":3,\"nameCanonical\":\"\"}],\"id\":4},{\"name\":\"Term 5\",\"curriculum_items\":[{\"curriculum_requisites\":[{\"source_id\":7,\"target_id\":18,\"type\":\"CurriculumPrerequisite\"},{\"source_id\":2,\"target_id\":18,\"type\":\"CurriculumPrerequisite\"}],\"name\":\"MATH 2552\",\"metrics\":{\"complexity\":19.0,\"centrality\":146,\"blocking factor\":12,\"delay factor\":7.0},\"nameSub\":\"Differential Equations\",\"id\":18,\"credits\":4,\"nameCanonical\":\"\"},{\"curriculum_requisites\":[{\"source_id\":13,\"target_id\":19,\"type\":\"CurriculumPrerequisite\"},{\"source_id\":8,\"target_id\":19,\"type\":\"CurriculumPrerequisite\"},{\"source_id\":3,\"target_id\":19,\"type\":\"CurriculumPrerequisite\"}],\"name\":\"AE 2010\",\"metrics\":{\"complexity\":18.0,\"centrality\":198,\"blocking factor\":11,\"delay factor\":7.0},\"nameSub\":\"Termo and Fluid Fund.\",\"id\":19,\"credits\":4,\"nameCanonical\":\"\"},{\"curriculum_requisites\":[{\"source_id\":16,\"target_id\":20,\"type\":\"CurriculumPrerequisite\"},{\"source_id\":18,\"target_id\":20,\"type\":\"CurriculumCorequisite\"}],\"name\":\"AE 2220\",\"metrics\":{\"complexity\":13.0,\"centrality\":74,\"blocking factor\":6,\"delay factor\":7.0},\"nameSub\":\"Dynamics\",\"id\":20,\"credits\":3,\"nameCanonical\":\"\"},{\"curriculum_requisites\":[{\"source_id\":22,\"target_id\":21,\"type\":\"CurriculumStrictCorequisite\"},{\"source_id\":13,\"target_id\":21,\"type\":\"CurriculumCorequisite\"},{\"source_id\":15,\"target_id\":21,\"type\":\"CurriculumCorequisite\"},{\"source_id\":9,\"target_id\":21,\"type\":\"CurriculumPrerequisite\"},{\"source_id\":14,\"target_id\":21,\"type\":\"CurriculumCorequisite\"}],\"name\":\"AE 2610\",\"metrics\":{\"complexity\":8.0,\"centrality\":68,\"blocking factor\":2,\"delay factor\":6.0},\"nameSub\":\"Intro Exp Methods Lab\",\"id\":21,\"credits\":1,\"nameCanonical\":\"\"},{\"curriculum_requisites\":[],\"name\":\"AE 2611\",\"metrics\":{\"complexity\":6.0,\"centrality\":0,\"blocking factor\":3,\"delay factor\":3.0},\"nameSub\":\"Technical Comm for AE\",\"id\":22,\"credits\":1,\"nameCanonical\":\"\"},{\"curriculum_requisites\":[{\"source_id\":14,\"target_id\":23,\"type\":\"CurriculumPrerequisite\"}],\"name\":\"ECE 3710\",\"metrics\":{\"complexity\":7.0,\"centrality\":6,\"blocking factor\":1,\"delay factor\":6.0},\"nameSub\":\"Circuits & Electronics\",\"id\":23,\"credits\":2,\"nameCanonical\":\"\"}],\"id\":5},{\"name\":\"Term 6\",\"curriculum_items\":[{\"curriculum_requisites\":[{\"source_id\":13,\"target_id\":24,\"type\":\"CurriculumPrerequisite\"}],\"name\":\" \",\"metrics\":{\"complexity\":4.0,\"centrality\":0,\"blocking factor\":0,\"delay factor\":4.0},\"nameSub\":\"Math Option\",\"id\":24,\"credits\":3,\"nameCanonical\":\"\"},{\"curriculum_requisites\":[{\"source_id\":15,\"target_id\":25,\"type\":\"CurriculumPrerequisite\"},{\"source_id\":18,\"target_id\":25,\"type\":\"CurriculumCorequisite\"}],\"name\":\"COE 3001\",\"metrics\":{\"complexity\":8.0,\"centrality\":42,\"blocking factor\":2,\"delay factor\":6.0},\"nameSub\":\"Deformable Bodies\",\"id\":25,\"credits\":3,\"nameCanonical\":\"\"},{\"curriculum_requisites\":[{\"source_id\":19,\"target_id\":26,\"type\":\"CurriculumPrerequisite\"}],\"name\":\"AE 3030\",\"metrics\":{\"complexity\":14.0,\"centrality\":144,\"blocking factor\":7,\"delay factor\":7.0},\"nameSub\":\"Aerodynamics\",\"id\":26,\"credits\":4,\"nameCanonical\":\"\"},{\"curriculum_requisites\":[{\"source_id\":18,\"target_id\":27,\"type\":\"CurriculumPrerequisite\"},{\"source_id\":26,\"target_id\":27,\"type\":\"CurriculumCorequisite\"}],\"name\":\"AE 3330\",\"metrics\":{\"complexity\":10.0,\"centrality\":108,\"blocking factor\":3,\"delay factor\":7.0},\"nameSub\":\"AE Vehicle Performance\",\"id\":27,\"credits\":3,\"nameCanonical\":\"\"},{\"curriculum_requisites\":[{\"source_id\":20,\"target_id\":28,\"type\":\"CurriculumPrerequisite\"},{\"source_id\":18,\"target_id\":28,\"type\":\"CurriculumPrerequisite\"}],\"name\":\"AE 3530\",\"metrics\":{\"complexity\":12.0,\"centrality\":118,\"blocking factor\":5,\"delay factor\":7.0},\"nameSub\":\"Sys Dynamics & Vib\",\"id\":28,\"credits\":3,\"nameCanonical\":\"\"},{\"curriculum_requisites\":[{\"source_id\":23,\"target_id\":29,\"type\":\"CurriculumPrerequisite\"}],\"name\":\"ECE 3741\",\"metrics\":{\"complexity\":6.0,\"centrality\":0,\"blocking factor\":0,\"delay factor\":6.0},\"nameSub\":\"Circuits \\/Electronics Lab\",\"id\":29,\"credits\":1,\"nameCanonical\":\"\"}],\"id\":6},{\"name\":\"Term 7\",\"curriculum_items\":[{\"curriculum_requisites\":[{\"source_id\":4,\"target_id\":30,\"type\":\"CurriculumPrerequisite\"},{\"source_id\":13,\"target_id\":30,\"type\":\"CurriculumPrerequisite\"},{\"source_id\":9,\"target_id\":30,\"type\":\"CurriculumPrerequisite\"}],\"name\":\"AE 3340\",\"metrics\":{\"complexity\":6.0,\"centrality\":17,\"blocking factor\":1,\"delay factor\":5.0},\"nameSub\":\"Design Methods\",\"id\":30,\"credits\":2,\"nameCanonical\":\"\"},{\"curriculum_requisites\":[{\"source_id\":25,\"target_id\":31,\"type\":\"CurriculumPrerequisite\"}],\"name\":\"AE 3140\",\"metrics\":{\"complexity\":6.0,\"centrality\":0,\"blocking factor\":0,\"delay factor\":6.0},\"nameSub\":\"Structural Analysis\",\"id\":31,\"credits\":3,\"nameCanonical\":\"\"},{\"curriculum_requisites\":[{\"source_id\":19,\"target_id\":32,\"type\":\"CurriculumPrerequisite\"}],\"name\":\"AE 4451\",\"metrics\":{\"complexity\":5.0,\"centrality\":0,\"blocking factor\":0,\"delay factor\":5.0},\"nameSub\":\"Jet & Rocket Propulsion\",\"id\":32,\"credits\":3,\"nameCanonical\":\"\"},{\"curriculum_requisites\":[{\"source_id\":21,\"target_id\":33,\"type\":\"CurriculumPrerequisite\"},{\"source_id\":25,\"target_id\":33,\"type\":\"CurriculumPrerequisite\"},{\"source_id\":19,\"target_id\":33,\"type\":\"CurriculumPrerequisite\"}],\"name\":\"AE 3610\",\"metrics\":{\"complexity\":6.0,\"centrality\":0,\"blocking factor\":0,\"delay factor\":6.0},\"nameSub\":\"Exp Fluids\\/Solids Lab\",\"id\":33,\"credits\":2,\"nameCanonical\":\"\"},{\"curriculum_requisites\":[{\"source_id\":28,\"target_id\":34,\"type\":\"CurriculumPrerequisite\"}],\"name\":\"AE 3531\",\"metrics\":{\"complexity\":9.0,\"centrality\":64,\"blocking factor\":2,\"delay factor\":7.0},\"nameSub\":\"Control Sys Analysis\\/Design\",\"id\":34,\"credits\":3,\"nameCanonical\":\"\"},{\"curriculum_requisites\":[],\"name\":\" \",\"metrics\":{\"complexity\":1.0,\"centrality\":0,\"blocking factor\":0,\"delay factor\":1.0},\"nameSub\":\"Free Elective\",\"id\":35,\"credits\":3,\"nameCanonical\":\"\"}],\"id\":7},{\"name\":\"Term 8\",\"curriculum_items\":[{\"curriculum_requisites\":[{\"source_id\":27,\"target_id\":36,\"type\":\"CurriculumPrerequisite\"},{\"source_id\":30,\"target_id\":36,\"type\":\"CurriculumPrerequisite\"}],\"name\":\"AE  4341\\/2\\/3\",\"metrics\":{\"complexity\":7.0,\"centrality\":0,\"blocking factor\":0,\"delay factor\":7.0},\"nameSub\":\"Air\\/Space\\/Rotor Design\",\"id\":36,\"credits\":3,\"nameCanonical\":\"\"},{\"curriculum_requisites\":[{\"source_id\":26,\"target_id\":37,\"type\":\"CurriculumPrerequisite\"}],\"name\":\" \",\"metrics\":{\"complexity\":6.0,\"centrality\":0,\"blocking factor\":0,\"delay factor\":6.0},\"nameSub\":\"AE Option\",\"id\":37,\"credits\":3,\"nameCanonical\":\"\"},{\"curriculum_requisites\":[{\"source_id\":34,\"target_id\":38,\"type\":\"CurriculumCorequisite\"},{\"source_id\":27,\"target_id\":38,\"type\":\"CurriculumPrerequisite\"}],\"name\":\"AE 4531\",\"metrics\":{\"complexity\":7.0,\"centrality\":0,\"blocking factor\":0,\"delay factor\":7.0},\"nameSub\":\"Aircraft Flt Dynamics\",\"id\":38,\"credits\":3,\"nameCanonical\":\"\"},{\"curriculum_requisites\":[{\"source_id\":27,\"target_id\":39,\"type\":\"CurriculumPrerequisite\"},{\"source_id\":28,\"target_id\":39,\"type\":\"CurriculumPrerequisite\"}],\"name\":\"AE 4532\",\"metrics\":{\"complexity\":7.0,\"centrality\":0,\"blocking factor\":0,\"delay factor\":7.0},\"nameSub\":\"Spacecraft Flt Dynamics\",\"id\":39,\"credits\":3,\"nameCanonical\":\"\"},{\"curriculum_requisites\":[],\"name\":\" \",\"metrics\":{\"complexity\":1.0,\"centrality\":0,\"blocking factor\":0,\"delay factor\":1.0},\"nameSub\":\"Humanities Elective\",\"id\":40,\"credits\":3,\"nameCanonical\":\"\"},{\"curriculum_requisites\":[],\"name\":\" \",\"metrics\":{\"complexity\":1.0,\"centrality\":0,\"blocking factor\":0,\"delay factor\":1.0},\"nameSub\":\"Free Elective\",\"id\":41,\"credits\":3,\"nameCanonical\":\"\"},{\"curriculum_requisites\":[],\"name\":\" \",\"metrics\":{\"complexity\":1.0,\"centrality\":0,\"blocking factor\":0,\"delay factor\":1.0},\"nameSub\":\"Social Science Elective\",\"id\":42,\"credits\":3,\"nameCanonical\":\"\"}],\"id\":8},{\"name\":\"Term 9\",\"curriculum_items\":[{\"curriculum_requisites\":[{\"source_id\":34,\"target_id\":43,\"type\":\"CurriculumPrerequisite\"},{\"source_id\":21,\"target_id\":43,\"type\":\"CurriculumPrerequisite\"},{\"source_id\":19,\"target_id\":43,\"type\":\"CurriculumPrerequisite\"}],\"name\":\"AE 4610\",\"metrics\":{\"complexity\":7.0,\"centrality\":0,\"blocking factor\":0,\"delay factor\":7.0},\"nameSub\":\"Dynamics & Controls Lab\",\"id\":43,\"credits\":2,\"nameCanonical\":\"\"},{\"curriculum_requisites\":[{\"source_id\":26,\"target_id\":44,\"type\":\"CurriculumPrerequisite\"},{\"source_id\":28,\"target_id\":44,\"type\":\"CurriculumPrerequisite\"}],\"name\":\" \",\"metrics\":{\"complexity\":6.0,\"centrality\":0,\"blocking factor\":0,\"delay factor\":6.0},\"nameSub\":\"AE Option \",\"id\":44,\"credits\":3,\"nameCanonical\":\"\"},{\"curriculum_requisites\":[{\"source_id\":26,\"target_id\":45,\"type\":\"CurriculumPrerequisite\"}],\"name\":\" \",\"metrics\":{\"complexity\":6.0,\"centrality\":0,\"blocking factor\":0,\"delay factor\":6.0},\"nameSub\":\"AE Option\",\"id\":45,\"credits\":2,\"nameCanonical\":\"\"},{\"curriculum_requisites\":[],\"name\":\" \",\"metrics\":{\"complexity\":1.0,\"centrality\":0,\"blocking factor\":0,\"delay factor\":1.0},\"nameSub\":\"Humanities Elective\",\"id\":46,\"credits\":3,\"nameCanonical\":\"\"},{\"curriculum_requisites\":[],\"name\":\" \",\"metrics\":{\"complexity\":1.0,\"centrality\":0,\"blocking factor\":0,\"delay factor\":1.0},\"nameSub\":\"Free Elective\",\"id\":47,\"credits\":3,\"nameCanonical\":\"\"},{\"curriculum_requisites\":[],\"name\":\" \",\"metrics\":{\"complexity\":1.0,\"centrality\":0,\"blocking factor\":0,\"delay factor\":1.0},\"nameSub\":\"Social Science Elective\",\"id\":48,\"credits\":3,\"nameCanonical\":\"\"}],\"id\":9}],\"institution\":\"Georgia Institute of Technology\"}}}}},\"children\":[{\"props\":{\"src\":\"https:\\/\\/curricula-api-embed.damoursystems.com\\/\",\"id\":\"curriculum\",\"events\":{\"load\":\"(function (){this.contentWindow.postMessage({\\\"options\\\":{\\\"hideTerms\\\":false,\\\"edit\\\":false},\\\"curriculum\\\":{\\\"name\\\":\\\"Aerospace Engineering\\\",\\\"dp_name\\\":\\\"2021-22 Plan\\\",\\\"curriculum_terms\\\":[{\\\"name\\\":\\\"Term 1\\\",\\\"curriculum_items\\\":[{\\\"curriculum_requisites\\\":[],\\\"name\\\":\\\"MATH 1501\\\",\\\"metrics\\\":{\\\"complexity\\\":37.0,\\\"centrality\\\":0,\\\"blocking factor\\\":30,\\\"delay factor\\\":7.0},\\\"nameSub\\\":\\\"Calculus I\\\",\\\"id\\\":1,\\\"credits\\\":4,\\\"nameCanonical\\\":\\\"\\\"}],\\\"id\\\":1},{\\\"name\\\":\\\"Term 2\\\",\\\"curriculum_items\\\":[{\\\"curriculum_requisites\\\":[{\\\"source_id\\\":1,\\\"target_id\\\":2,\\\"type\\\":\\\"CurriculumPrerequisite\\\"}],\\\"name\\\":\\\"MATH 1552\\\",\\\"metrics\\\":{\\\"complexity\\\":34.0,\\\"centrality\\\":262,\\\"blocking factor\\\":27,\\\"delay factor\\\":7.0},\\\"nameSub\\\":\\\"Integral Calculus\\\",\\\"id\\\":2,\\\"credits\\\":4,\\\"nameCanonical\\\":\\\"\\\"},{\\\"curriculum_requisites\\\":[],\\\"name\\\":\\\"CHEM 1310\\\",\\\"metrics\\\":{\\\"complexity\\\":22.0,\\\"centrality\\\":0,\\\"blocking factor\\\":16,\\\"delay factor\\\":6.0},\\\"nameSub\\\":\\\"General Chemistry\\\",\\\"id\\\":3,\\\"credits\\\":4,\\\"nameCanonical\\\":\\\"\\\"},{\\\"curriculum_requisites\\\":[],\\\"name\\\":\\\"CS 1371\\\",\\\"metrics\\\":{\\\"complexity\\\":5.0,\\\"centrality\\\":0,\\\"blocking factor\\\":2,\\\"delay factor\\\":3.0},\\\"nameSub\\\":\\\"Computing for Engineers\\\",\\\"id\\\":4,\\\"credits\\\":3,\\\"nameCanonical\\\":\\\"\\\"},{\\\"curriculum_requisites\\\":[],\\\"name\\\":\\\"ENGL 1101\\\",\\\"metrics\\\":{\\\"complexity\\\":3.0,\\\"centrality\\\":0,\\\"blocking factor\\\":1,\\\"delay factor\\\":2.0},\\\"nameSub\\\":\\\"English Composition I\\\",\\\"id\\\":5,\\\"credits\\\":3,\\\"nameCanonical\\\":\\\"\\\"},{\\\"curriculum_requisites\\\":[],\\\"name\\\":\\\"APPH 1040\\\",\\\"metrics\\\":{\\\"complexity\\\":1.0,\\\"centrality\\\":0,\\\"blocking factor\\\":0,\\\"delay factor\\\":1.0},\\\"nameSub\\\":\\\"Applied Pysiology\\\",\\\"id\\\":6,\\\"credits\\\":2,\\\"nameCanonical\\\":\\\"\\\"}],\\\"id\\\":2},{\\\"name\\\":\\\"Term 3\\\",\\\"curriculum_items\\\":[{\\\"curriculum_requisites\\\":[{\\\"source_id\\\":1,\\\"target_id\\\":7,\\\"type\\\":\\\"CurriculumPrerequisite\\\"}],\\\"name\\\":\\\"MATH 1553\\\",\\\"metrics\\\":{\\\"complexity\\\":29.0,\\\"centrality\\\":146,\\\"blocking factor\\\":22,\\\"delay factor\\\":7.0},\\\"nameSub\\\":\\\"Intro to Linear Algebra\\\",\\\"id\\\":7,\\\"credits\\\":2,\\\"nameCanonical\\\":\\\"\\\"},{\\\"curriculum_requisites\\\":[{\\\"source_id\\\":2,\\\"target_id\\\":8,\\\"type\\\":\\\"CurriculumPrerequisite\\\"}],\\\"name\\\":\\\"PHYS  2211\\\",\\\"metrics\\\":{\\\"complexity\\\":26.0,\\\"centrality\\\":96,\\\"blocking factor\\\":19,\\\"delay factor\\\":7.0},\\\"nameSub\\\":\\\"Intro Physics 1\\\",\\\"id\\\":8,\\\"credits\\\":4,\\\"nameCanonical\\\":\\\"\\\"},{\\\"curriculum_requisites\\\":[{\\\"source_id\\\":1,\\\"target_id\\\":9,\\\"type\\\":\\\"CurriculumPrerequisite\\\"}],\\\"name\\\":\\\"AE 1601\\\",\\\"metrics\\\":{\\\"complexity\\\":9.0,\\\"centrality\\\":12,\\\"blocking factor\\\":5,\\\"delay factor\\\":4.0},\\\"nameSub\\\":\\\"Intro To Aerosapce Eng.\\\",\\\"id\\\":9,\\\"credits\\\":1,\\\"nameCanonical\\\":\\\"\\\"},{\\\"curriculum_requisites\\\":[{\\\"source_id\\\":5,\\\"target_id\\\":10,\\\"type\\\":\\\"CurriculumPrerequisite\\\"}],\\\"name\\\":\\\"ENGL 1102\\\",\\\"metrics\\\":{\\\"complexity\\\":2.0,\\\"centrality\\\":0,\\\"blocking factor\\\":0,\\\"delay factor\\\":2.0},\\\"nameSub\\\":\\\"English Composition II\\\",\\\"id\\\":10,\\\"credits\\\":3,\\\"nameCanonical\\\":\\\"\\\"},{\\\"curriculum_requisites\\\":[],\\\"name\\\":\\\"ME 1670\\\",\\\"metrics\\\":{\\\"complexity\\\":1.0,\\\"centrality\\\":0,\\\"blocking factor\\\":0,\\\"delay factor\\\":1.0},\\\"nameSub\\\":\\\"Intro. To Eng. Graphics\\\",\\\"id\\\":11,\\\"credits\\\":3,\\\"nameCanonical\\\":\\\"\\\"},{\\\"curriculum_requisites\\\":[],\\\"name\\\":\\\" \\\",\\\"metrics\\\":{\\\"complexity\\\":1.0,\\\"centrality\\\":0,\\\"blocking factor\\\":0,\\\"delay factor\\\":1.0},\\\"nameSub\\\":\\\"Social Science Elective\\\",\\\"id\\\":12,\\\"credits\\\":3,\\\"nameCanonical\\\":\\\"\\\"}],\\\"id\\\":3},{\\\"name\\\":\\\"Term 4\\\",\\\"curriculum_items\\\":[{\\\"curriculum_requisites\\\":[{\\\"source_id\\\":7,\\\"target_id\\\":13,\\\"type\\\":\\\"CurriculumPrerequisite\\\"},{\\\"source_id\\\":2,\\\"target_id\\\":13,\\\"type\\\":\\\"CurriculumPrerequisite\\\"}],\\\"name\\\":\\\"MATH 2551\\\",\\\"metrics\\\":{\\\"complexity\\\":22.0,\\\"centrality\\\":146,\\\"blocking factor\\\":15,\\\"delay factor\\\":7.0},\\\"nameSub\\\":\\\"Multivariable Calculus\\\",\\\"id\\\":13,\\\"credits\\\":4,\\\"nameCanonical\\\":\\\"\\\"},{\\\"curriculum_requisites\\\":[{\\\"source_id\\\":8,\\\"target_id\\\":14,\\\"type\\\":\\\"CurriculumPrerequisite\\\"}],\\\"name\\\":\\\"PHYS  2212\\\",\\\"metrics\\\":{\\\"complexity\\\":11.0,\\\"centrality\\\":18,\\\"blocking factor\\\":5,\\\"delay factor\\\":6.0},\\\"nameSub\\\":\\\"Intro. Physics 2\\\",\\\"id\\\":14,\\\"credits\\\":4,\\\"nameCanonical\\\":\\\"\\\"},{\\\"curriculum_requisites\\\":[{\\\"source_id\\\":2,\\\"target_id\\\":15,\\\"type\\\":\\\"CurriculumPrerequisite\\\"},{\\\"source_id\\\":8,\\\"target_id\\\":15,\\\"type\\\":\\\"CurriculumPrerequisite\\\"}],\\\"name\\\":\\\"COE 2001\\\",\\\"metrics\\\":{\\\"complexity\\\":11.0,\\\"centrality\\\":44,\\\"blocking factor\\\":5,\\\"delay factor\\\":6.0},\\\"nameSub\\\":\\\"Statics\\\",\\\"id\\\":15,\\\"credits\\\":2,\\\"nameCanonical\\\":\\\"\\\"},{\\\"curriculum_requisites\\\":[{\\\"source_id\\\":3,\\\"target_id\\\":16,\\\"type\\\":\\\"CurriculumPrerequisite\\\"}],\\\"name\\\":\\\"MSE 2001\\\",\\\"metrics\\\":{\\\"complexity\\\":13.0,\\\"centrality\\\":22,\\\"blocking factor\\\":7,\\\"delay factor\\\":6.0},\\\"nameSub\\\":\\\"Eng Materials\\\",\\\"id\\\":16,\\\"credits\\\":3,\\\"nameCanonical\\\":\\\"\\\"},{\\\"curriculum_requisites\\\":[],\\\"name\\\":\\\" \\\",\\\"metrics\\\":{\\\"complexity\\\":1.0,\\\"centrality\\\":0,\\\"blocking factor\\\":0,\\\"delay factor\\\":1.0},\\\"nameSub\\\":\\\"Economics Elective\\\",\\\"id\\\":17,\\\"credits\\\":3,\\\"nameCanonical\\\":\\\"\\\"}],\\\"id\\\":4},{\\\"name\\\":\\\"Term 5\\\",\\\"curriculum_items\\\":[{\\\"curriculum_requisites\\\":[{\\\"source_id\\\":7,\\\"target_id\\\":18,\\\"type\\\":\\\"CurriculumPrerequisite\\\"},{\\\"source_id\\\":2,\\\"target_id\\\":18,\\\"type\\\":\\\"CurriculumPrerequisite\\\"}],\\\"name\\\":\\\"MATH 2552\\\",\\\"metrics\\\":{\\\"complexity\\\":19.0,\\\"centrality\\\":146,\\\"blocking factor\\\":12,\\\"delay factor\\\":7.0},\\\"nameSub\\\":\\\"Differential Equations\\\",\\\"id\\\":18,\\\"credits\\\":4,\\\"nameCanonical\\\":\\\"\\\"},{\\\"curriculum_requisites\\\":[{\\\"source_id\\\":13,\\\"target_id\\\":19,\\\"type\\\":\\\"CurriculumPrerequisite\\\"},{\\\"source_id\\\":8,\\\"target_id\\\":19,\\\"type\\\":\\\"CurriculumPrerequisite\\\"},{\\\"source_id\\\":3,\\\"target_id\\\":19,\\\"type\\\":\\\"CurriculumPrerequisite\\\"}],\\\"name\\\":\\\"AE 2010\\\",\\\"metrics\\\":{\\\"complexity\\\":18.0,\\\"centrality\\\":198,\\\"blocking factor\\\":11,\\\"delay factor\\\":7.0},\\\"nameSub\\\":\\\"Termo and Fluid Fund.\\\",\\\"id\\\":19,\\\"credits\\\":4,\\\"nameCanonical\\\":\\\"\\\"},{\\\"curriculum_requisites\\\":[{\\\"source_id\\\":16,\\\"target_id\\\":20,\\\"type\\\":\\\"CurriculumPrerequisite\\\"},{\\\"source_id\\\":18,\\\"target_id\\\":20,\\\"type\\\":\\\"CurriculumCorequisite\\\"}],\\\"name\\\":\\\"AE 2220\\\",\\\"metrics\\\":{\\\"complexity\\\":13.0,\\\"centrality\\\":74,\\\"blocking factor\\\":6,\\\"delay factor\\\":7.0},\\\"nameSub\\\":\\\"Dynamics\\\",\\\"id\\\":20,\\\"credits\\\":3,\\\"nameCanonical\\\":\\\"\\\"},{\\\"curriculum_requisites\\\":[{\\\"source_id\\\":22,\\\"target_id\\\":21,\\\"type\\\":\\\"CurriculumStrictCorequisite\\\"},{\\\"source_id\\\":13,\\\"target_id\\\":21,\\\"type\\\":\\\"CurriculumCorequisite\\\"},{\\\"source_id\\\":15,\\\"target_id\\\":21,\\\"type\\\":\\\"CurriculumCorequisite\\\"},{\\\"source_id\\\":9,\\\"target_id\\\":21,\\\"type\\\":\\\"CurriculumPrerequisite\\\"},{\\\"source_id\\\":14,\\\"target_id\\\":21,\\\"type\\\":\\\"CurriculumCorequisite\\\"}],\\\"name\\\":\\\"AE 2610\\\",\\\"metrics\\\":{\\\"complexity\\\":8.0,\\\"centrality\\\":68,\\\"blocking factor\\\":2,\\\"delay factor\\\":6.0},\\\"nameSub\\\":\\\"Intro Exp Methods Lab\\\",\\\"id\\\":21,\\\"credits\\\":1,\\\"nameCanonical\\\":\\\"\\\"},{\\\"curriculum_requisites\\\":[],\\\"name\\\":\\\"AE 2611\\\",\\\"metrics\\\":{\\\"complexity\\\":6.0,\\\"centrality\\\":0,\\\"blocking factor\\\":3,\\\"delay factor\\\":3.0},\\\"nameSub\\\":\\\"Technical Comm for AE\\\",\\\"id\\\":22,\\\"credits\\\":1,\\\"nameCanonical\\\":\\\"\\\"},{\\\"curriculum_requisites\\\":[{\\\"source_id\\\":14,\\\"target_id\\\":23,\\\"type\\\":\\\"CurriculumPrerequisite\\\"}],\\\"name\\\":\\\"ECE 3710\\\",\\\"metrics\\\":{\\\"complexity\\\":7.0,\\\"centrality\\\":6,\\\"blocking factor\\\":1,\\\"delay factor\\\":6.0},\\\"nameSub\\\":\\\"Circuits & Electronics\\\",\\\"id\\\":23,\\\"credits\\\":2,\\\"nameCanonical\\\":\\\"\\\"}],\\\"id\\\":5},{\\\"name\\\":\\\"Term 6\\\",\\\"curriculum_items\\\":[{\\\"curriculum_requisites\\\":[{\\\"source_id\\\":13,\\\"target_id\\\":24,\\\"type\\\":\\\"CurriculumPrerequisite\\\"}],\\\"name\\\":\\\" \\\",\\\"metrics\\\":{\\\"complexity\\\":4.0,\\\"centrality\\\":0,\\\"blocking factor\\\":0,\\\"delay factor\\\":4.0},\\\"nameSub\\\":\\\"Math Option\\\",\\\"id\\\":24,\\\"credits\\\":3,\\\"nameCanonical\\\":\\\"\\\"},{\\\"curriculum_requisites\\\":[{\\\"source_id\\\":15,\\\"target_id\\\":25,\\\"type\\\":\\\"CurriculumPrerequisite\\\"},{\\\"source_id\\\":18,\\\"target_id\\\":25,\\\"type\\\":\\\"CurriculumCorequisite\\\"}],\\\"name\\\":\\\"COE 3001\\\",\\\"metrics\\\":{\\\"complexity\\\":8.0,\\\"centrality\\\":42,\\\"blocking factor\\\":2,\\\"delay factor\\\":6.0},\\\"nameSub\\\":\\\"Deformable Bodies\\\",\\\"id\\\":25,\\\"credits\\\":3,\\\"nameCanonical\\\":\\\"\\\"},{\\\"curriculum_requisites\\\":[{\\\"source_id\\\":19,\\\"target_id\\\":26,\\\"type\\\":\\\"CurriculumPrerequisite\\\"}],\\\"name\\\":\\\"AE 3030\\\",\\\"metrics\\\":{\\\"complexity\\\":14.0,\\\"centrality\\\":144,\\\"blocking factor\\\":7,\\\"delay factor\\\":7.0},\\\"nameSub\\\":\\\"Aerodynamics\\\",\\\"id\\\":26,\\\"credits\\\":4,\\\"nameCanonical\\\":\\\"\\\"},{\\\"curriculum_requisites\\\":[{\\\"source_id\\\":18,\\\"target_id\\\":27,\\\"type\\\":\\\"CurriculumPrerequisite\\\"},{\\\"source_id\\\":26,\\\"target_id\\\":27,\\\"type\\\":\\\"CurriculumCorequisite\\\"}],\\\"name\\\":\\\"AE 3330\\\",\\\"metrics\\\":{\\\"complexity\\\":10.0,\\\"centrality\\\":108,\\\"blocking factor\\\":3,\\\"delay factor\\\":7.0},\\\"nameSub\\\":\\\"AE Vehicle Performance\\\",\\\"id\\\":27,\\\"credits\\\":3,\\\"nameCanonical\\\":\\\"\\\"},{\\\"curriculum_requisites\\\":[{\\\"source_id\\\":20,\\\"target_id\\\":28,\\\"type\\\":\\\"CurriculumPrerequisite\\\"},{\\\"source_id\\\":18,\\\"target_id\\\":28,\\\"type\\\":\\\"CurriculumPrerequisite\\\"}],\\\"name\\\":\\\"AE 3530\\\",\\\"metrics\\\":{\\\"complexity\\\":12.0,\\\"centrality\\\":118,\\\"blocking factor\\\":5,\\\"delay factor\\\":7.0},\\\"nameSub\\\":\\\"Sys Dynamics & Vib\\\",\\\"id\\\":28,\\\"credits\\\":3,\\\"nameCanonical\\\":\\\"\\\"},{\\\"curriculum_requisites\\\":[{\\\"source_id\\\":23,\\\"target_id\\\":29,\\\"type\\\":\\\"CurriculumPrerequisite\\\"}],\\\"name\\\":\\\"ECE 3741\\\",\\\"metrics\\\":{\\\"complexity\\\":6.0,\\\"centrality\\\":0,\\\"blocking factor\\\":0,\\\"delay factor\\\":6.0},\\\"nameSub\\\":\\\"Circuits \\/Electronics Lab\\\",\\\"id\\\":29,\\\"credits\\\":1,\\\"nameCanonical\\\":\\\"\\\"}],\\\"id\\\":6},{\\\"name\\\":\\\"Term 7\\\",\\\"curriculum_items\\\":[{\\\"curriculum_requisites\\\":[{\\\"source_id\\\":4,\\\"target_id\\\":30,\\\"type\\\":\\\"CurriculumPrerequisite\\\"},{\\\"source_id\\\":13,\\\"target_id\\\":30,\\\"type\\\":\\\"CurriculumPrerequisite\\\"},{\\\"source_id\\\":9,\\\"target_id\\\":30,\\\"type\\\":\\\"CurriculumPrerequisite\\\"}],\\\"name\\\":\\\"AE 3340\\\",\\\"metrics\\\":{\\\"complexity\\\":6.0,\\\"centrality\\\":17,\\\"blocking factor\\\":1,\\\"delay factor\\\":5.0},\\\"nameSub\\\":\\\"Design Methods\\\",\\\"id\\\":30,\\\"credits\\\":2,\\\"nameCanonical\\\":\\\"\\\"},{\\\"curriculum_requisites\\\":[{\\\"source_id\\\":25,\\\"target_id\\\":31,\\\"type\\\":\\\"CurriculumPrerequisite\\\"}],\\\"name\\\":\\\"AE 3140\\\",\\\"metrics\\\":{\\\"complexity\\\":6.0,\\\"centrality\\\":0,\\\"blocking factor\\\":0,\\\"delay factor\\\":6.0},\\\"nameSub\\\":\\\"Structural Analysis\\\",\\\"id\\\":31,\\\"credits\\\":3,\\\"nameCanonical\\\":\\\"\\\"},{\\\"curriculum_requisites\\\":[{\\\"source_id\\\":19,\\\"target_id\\\":32,\\\"type\\\":\\\"CurriculumPrerequisite\\\"}],\\\"name\\\":\\\"AE 4451\\\",\\\"metrics\\\":{\\\"complexity\\\":5.0,\\\"centrality\\\":0,\\\"blocking factor\\\":0,\\\"delay factor\\\":5.0},\\\"nameSub\\\":\\\"Jet & Rocket Propulsion\\\",\\\"id\\\":32,\\\"credits\\\":3,\\\"nameCanonical\\\":\\\"\\\"},{\\\"curriculum_requisites\\\":[{\\\"source_id\\\":21,\\\"target_id\\\":33,\\\"type\\\":\\\"CurriculumPrerequisite\\\"},{\\\"source_id\\\":25,\\\"target_id\\\":33,\\\"type\\\":\\\"CurriculumPrerequisite\\\"},{\\\"source_id\\\":19,\\\"target_id\\\":33,\\\"type\\\":\\\"CurriculumPrerequisite\\\"}],\\\"name\\\":\\\"AE 3610\\\",\\\"metrics\\\":{\\\"complexity\\\":6.0,\\\"centrality\\\":0,\\\"blocking factor\\\":0,\\\"delay factor\\\":6.0},\\\"nameSub\\\":\\\"Exp Fluids\\/Solids Lab\\\",\\\"id\\\":33,\\\"credits\\\":2,\\\"nameCanonical\\\":\\\"\\\"},{\\\"curriculum_requisites\\\":[{\\\"source_id\\\":28,\\\"target_id\\\":34,\\\"type\\\":\\\"CurriculumPrerequisite\\\"}],\\\"name\\\":\\\"AE 3531\\\",\\\"metrics\\\":{\\\"complexity\\\":9.0,\\\"centrality\\\":64,\\\"blocking factor\\\":2,\\\"delay factor\\\":7.0},\\\"nameSub\\\":\\\"Control Sys Analysis\\/Design\\\",\\\"id\\\":34,\\\"credits\\\":3,\\\"nameCanonical\\\":\\\"\\\"},{\\\"curriculum_requisites\\\":[],\\\"name\\\":\\\" \\\",\\\"metrics\\\":{\\\"complexity\\\":1.0,\\\"centrality\\\":0,\\\"blocking factor\\\":0,\\\"delay factor\\\":1.0},\\\"nameSub\\\":\\\"Free Elective\\\",\\\"id\\\":35,\\\"credits\\\":3,\\\"nameCanonical\\\":\\\"\\\"}],\\\"id\\\":7},{\\\"name\\\":\\\"Term 8\\\",\\\"curriculum_items\\\":[{\\\"curriculum_requisites\\\":[{\\\"source_id\\\":27,\\\"target_id\\\":36,\\\"type\\\":\\\"CurriculumPrerequisite\\\"},{\\\"source_id\\\":30,\\\"target_id\\\":36,\\\"type\\\":\\\"CurriculumPrerequisite\\\"}],\\\"name\\\":\\\"AE  4341\\/2\\/3\\\",\\\"metrics\\\":{\\\"complexity\\\":7.0,\\\"centrality\\\":0,\\\"blocking factor\\\":0,\\\"delay factor\\\":7.0},\\\"nameSub\\\":\\\"Air\\/Space\\/Rotor Design\\\",\\\"id\\\":36,\\\"credits\\\":3,\\\"nameCanonical\\\":\\\"\\\"},{\\\"curriculum_requisites\\\":[{\\\"source_id\\\":26,\\\"target_id\\\":37,\\\"type\\\":\\\"CurriculumPrerequisite\\\"}],\\\"name\\\":\\\" \\\",\\\"metrics\\\":{\\\"complexity\\\":6.0,\\\"centrality\\\":0,\\\"blocking factor\\\":0,\\\"delay factor\\\":6.0},\\\"nameSub\\\":\\\"AE Option\\\",\\\"id\\\":37,\\\"credits\\\":3,\\\"nameCanonical\\\":\\\"\\\"},{\\\"curriculum_requisites\\\":[{\\\"source_id\\\":34,\\\"target_id\\\":38,\\\"type\\\":\\\"CurriculumCorequisite\\\"},{\\\"source_id\\\":27,\\\"target_id\\\":38,\\\"type\\\":\\\"CurriculumPrerequisite\\\"}],\\\"name\\\":\\\"AE 4531\\\",\\\"metrics\\\":{\\\"complexity\\\":7.0,\\\"centrality\\\":0,\\\"blocking factor\\\":0,\\\"delay factor\\\":7.0},\\\"nameSub\\\":\\\"Aircraft Flt Dynamics\\\",\\\"id\\\":38,\\\"credits\\\":3,\\\"nameCanonical\\\":\\\"\\\"},{\\\"curriculum_requisites\\\":[{\\\"source_id\\\":27,\\\"target_id\\\":39,\\\"type\\\":\\\"CurriculumPrerequisite\\\"},{\\\"source_id\\\":28,\\\"target_id\\\":39,\\\"type\\\":\\\"CurriculumPrerequisite\\\"}],\\\"name\\\":\\\"AE 4532\\\",\\\"metrics\\\":{\\\"complexity\\\":7.0,\\\"centrality\\\":0,\\\"blocking factor\\\":0,\\\"delay factor\\\":7.0},\\\"nameSub\\\":\\\"Spacecraft Flt Dynamics\\\",\\\"id\\\":39,\\\"credits\\\":3,\\\"nameCanonical\\\":\\\"\\\"},{\\\"curriculum_requisites\\\":[],\\\"name\\\":\\\" \\\",\\\"metrics\\\":{\\\"complexity\\\":1.0,\\\"centrality\\\":0,\\\"blocking factor\\\":0,\\\"delay factor\\\":1.0},\\\"nameSub\\\":\\\"Humanities Elective\\\",\\\"id\\\":40,\\\"credits\\\":3,\\\"nameCanonical\\\":\\\"\\\"},{\\\"curriculum_requisites\\\":[],\\\"name\\\":\\\" \\\",\\\"metrics\\\":{\\\"complexity\\\":1.0,\\\"centrality\\\":0,\\\"blocking factor\\\":0,\\\"delay factor\\\":1.0},\\\"nameSub\\\":\\\"Free Elective\\\",\\\"id\\\":41,\\\"credits\\\":3,\\\"nameCanonical\\\":\\\"\\\"},{\\\"curriculum_requisites\\\":[],\\\"name\\\":\\\" \\\",\\\"metrics\\\":{\\\"complexity\\\":1.0,\\\"centrality\\\":0,\\\"blocking factor\\\":0,\\\"delay factor\\\":1.0},\\\"nameSub\\\":\\\"Social Science Elective\\\",\\\"id\\\":42,\\\"credits\\\":3,\\\"nameCanonical\\\":\\\"\\\"}],\\\"id\\\":8},{\\\"name\\\":\\\"Term 9\\\",\\\"curriculum_items\\\":[{\\\"curriculum_requisites\\\":[{\\\"source_id\\\":34,\\\"target_id\\\":43,\\\"type\\\":\\\"CurriculumPrerequisite\\\"},{\\\"source_id\\\":21,\\\"target_id\\\":43,\\\"type\\\":\\\"CurriculumPrerequisite\\\"},{\\\"source_id\\\":19,\\\"target_id\\\":43,\\\"type\\\":\\\"CurriculumPrerequisite\\\"}],\\\"name\\\":\\\"AE 4610\\\",\\\"metrics\\\":{\\\"complexity\\\":7.0,\\\"centrality\\\":0,\\\"blocking factor\\\":0,\\\"delay factor\\\":7.0},\\\"nameSub\\\":\\\"Dynamics & Controls Lab\\\",\\\"id\\\":43,\\\"credits\\\":2,\\\"nameCanonical\\\":\\\"\\\"},{\\\"curriculum_requisites\\\":[{\\\"source_id\\\":26,\\\"target_id\\\":44,\\\"type\\\":\\\"CurriculumPrerequisite\\\"},{\\\"source_id\\\":28,\\\"target_id\\\":44,\\\"type\\\":\\\"CurriculumPrerequisite\\\"}],\\\"name\\\":\\\" \\\",\\\"metrics\\\":{\\\"complexity\\\":6.0,\\\"centrality\\\":0,\\\"blocking factor\\\":0,\\\"delay factor\\\":6.0},\\\"nameSub\\\":\\\"AE Option \\\",\\\"id\\\":44,\\\"credits\\\":3,\\\"nameCanonical\\\":\\\"\\\"},{\\\"curriculum_requisites\\\":[{\\\"source_id\\\":26,\\\"target_id\\\":45,\\\"type\\\":\\\"CurriculumPrerequisite\\\"}],\\\"name\\\":\\\" \\\",\\\"metrics\\\":{\\\"complexity\\\":6.0,\\\"centrality\\\":0,\\\"blocking factor\\\":0,\\\"delay factor\\\":6.0},\\\"nameSub\\\":\\\"AE Option\\\",\\\"id\\\":45,\\\"credits\\\":2,\\\"nameCanonical\\\":\\\"\\\"},{\\\"curriculum_requisites\\\":[],\\\"name\\\":\\\" \\\",\\\"metrics\\\":{\\\"complexity\\\":1.0,\\\"centrality\\\":0,\\\"blocking factor\\\":0,\\\"delay factor\\\":1.0},\\\"nameSub\\\":\\\"Humanities Elective\\\",\\\"id\\\":46,\\\"credits\\\":3,\\\"nameCanonical\\\":\\\"\\\"},{\\\"curriculum_requisites\\\":[],\\\"name\\\":\\\" \\\",\\\"metrics\\\":{\\\"complexity\\\":1.0,\\\"centrality\\\":0,\\\"blocking factor\\\":0,\\\"delay factor\\\":1.0},\\\"nameSub\\\":\\\"Free Elective\\\",\\\"id\\\":47,\\\"credits\\\":3,\\\"nameCanonical\\\":\\\"\\\"},{\\\"curriculum_requisites\\\":[],\\\"name\\\":\\\" \\\",\\\"metrics\\\":{\\\"complexity\\\":1.0,\\\"centrality\\\":0,\\\"blocking factor\\\":0,\\\"delay factor\\\":1.0},\\\"nameSub\\\":\\\"Social Science Elective\\\",\\\"id\\\":48,\\\"credits\\\":3,\\\"nameCanonical\\\":\\\"\\\"}],\\\"id\\\":9}],\\\"institution\\\":\\\"Georgia Institute of Technology\\\"}},\\\"*\\\"); window.removeEventListener(\\\"message\\\",window.messageReceived); window.messageReceived=(function (event){return (event.data.curriculum!==undefined) ? (WebIO.setval({\\\"name\\\":\\\"curriculum-data\\\",\\\"scope\\\":\\\"2497756243983982627\\\",\\\"id\\\":\\\"12678649697774388425\\\",\\\"type\\\":\\\"observable\\\"},event.data.curriculum)) : undefined}); return window.addEventListener(\\\"message\\\",window.messageReceived)})\"},\"style\":{\"padding\":\"0\",\"height\":\"100vh\",\"margin\":\"0\",\"border\":\"none\",\"width\":\"100%\"}},\"nodeType\":\"DOM\",\"type\":\"node\",\"instanceArgs\":{\"namespace\":\"html\",\"tag\":\"iframe\"},\"children\":[\"\"]}]},\n",
       "            window,\n",
       "        );\n",
       "    } else {\n",
       "        document\n",
       "            .querySelector('[data-webio-mountpoint=\"7573937824431417635\"]')\n",
       "            .innerHTML = (\n",
       "                '<div style=\"padding: 1em; background-color: #f8d6da; border: 1px solid #f5c6cb\">' +\n",
       "                '<p><strong>WebIO not detected.</strong></p>' +\n",
       "                '<p>Please read ' +\n",
       "                '<a href=\"https://juliagizmos.github.io/WebIO.jl/latest/troubleshooting/not-detected/\" target=\"_blank\">the troubleshooting guide</a> ' +\n",
       "                'for more information on how to resolve this issue.</p>' +\n",
       "                '<p><a href=\"https://juliagizmos.github.io/WebIO.jl/latest/troubleshooting/not-detected/\" target=\"_blank\">https://juliagizmos.github.io/WebIO.jl/latest/troubleshooting/not-detected/</a></p>' +\n",
       "                '</div>'\n",
       "            );\n",
       "    }\n",
       "    </script>\n",
       "</div>\n"
      ],
      "text/plain": [
       "WebIO.Scope(WebIO.Node{WebIO.DOM}(WebIO.DOM(:html, :iframe), Any[\"\"], Dict{Symbol, Any}(:src => \"https://curricula-api-embed.damoursystems.com/\", :id => \"curriculum\", :events => Dict{Symbol, WebIO.JSString}(:load => WebIO.JSString(\"(function (){this.contentWindow.postMessage({\\\"options\\\":{\\\"hideTerms\\\":false,\\\"edit\\\":false},\\\"curriculum\\\":{\\\"name\\\":\\\"Aerospace Engineering\\\",\\\"dp_name\\\":\\\"2021-22 Plan\\\",\\\"curriculum_terms\\\":[{\\\"name\\\":\\\"Term 1\\\",\\\"curriculum_items\\\":[{\\\"curriculum_requisites\\\":[],\\\"name\\\":\\\"MATH 1501\\\",\\\"metrics\\\":{\\\"complexity\\\":37.0,\\\"centrality\\\":0,\\\"blocking factor\\\":30,\\\"delay factor\\\":7.0},\\\"nameSub\\\":\\\"Calculus I\\\",\\\"id\\\":1,\\\"credits\\\":4,\\\"nameCanonical\\\":\\\"\\\"}],\\\"id\\\":1},{\\\"name\\\":\\\"Term 2\\\",\\\"curriculum_items\\\":[{\\\"curriculum_requisites\\\":[{\\\"source_id\\\":1,\\\"target_id\\\":2,\\\"type\\\":\\\"CurriculumPrerequisite\\\"}],\\\"name\\\":\\\"MATH 1552\\\",\\\"metrics\\\":{\\\"complexity\\\":34.0,\\\"centrality\\\":262,\\\"blocking factor\\\":27,\\\"delay factor\\\":7.0},\\\"nameSub\\\":\\\"Integral Calculus\\\",\\\"id\\\":2,\\\"credits\\\":4,\\\"nameCanonical\\\":\\\"\\\"},{\\\"curriculum_requisites\\\":[],\\\"name\\\":\\\"CHEM 1310\\\",\\\"metrics\\\":{\\\"complexity\\\":22.0,\\\"centrality\\\":0,\\\"blocking factor\\\":16,\\\"delay factor\\\":6.0},\\\"nameSub\\\":\\\"General Chemistry\\\",\\\"id\\\":3,\\\"credits\\\":4,\\\"nameCanonical\\\":\\\"\\\"},{\\\"curriculum_requisites\\\":[],\\\"name\\\":\\\"CS 1371\\\",\\\"metrics\\\":{\\\"complexity\\\":5.0,\\\"centrality\\\":0,\\\"blocking factor\\\":2,\\\"delay factor\\\":3.0},\\\"nameSub\\\":\\\"Computing for Engineers\\\",\\\"id\\\":4,\\\"credits\\\":3,\\\"nameCanonical\\\":\\\"\\\"},{\\\"curriculum_requisites\\\":[],\\\"name\\\":\\\"ENGL 1101\\\",\\\"metrics\\\":{\\\"complexity\\\":3.0,\\\"centrality\\\":0,\\\"blocking factor\\\":1,\\\"delay factor\\\":2.0},\\\"nameSub\\\":\\\"English Composition I\\\",\\\"id\\\":5,\\\"credits\\\":3,\\\"nameCanonical\\\":\\\"\\\"},{\\\"curriculum_requisites\\\":[],\\\"name\\\":\\\"APPH 1040\\\",\\\"metrics\\\":{\\\"complexity\\\":1.0,\\\"centrality\\\":0,\\\"blocking factor\\\":0,\\\"delay factor\\\":1.0},\\\"nameSub\\\":\\\"Applied Pysiology\\\",\\\"id\\\":6,\\\"credits\\\":2,\\\"nameCanonical\\\":\\\"\\\"}],\\\"id\\\":2},{\\\"name\\\":\\\"Term 3\\\",\\\"curriculum_items\\\":[{\\\"curriculum_requisites\\\":[{\\\"source_id\\\":1,\\\"target_id\\\":7,\\\"type\\\":\\\"CurriculumPrerequisite\\\"}],\\\"name\\\":\\\"MATH 1553\\\",\\\"metrics\\\":{\\\"complexity\\\":29.0,\\\"centrality\\\":146,\\\"blocking factor\\\":22,\\\"delay factor\\\":7.0},\\\"nameSub\\\":\\\"Intro to Linear Algebra\\\",\\\"id\\\":7,\\\"credits\\\":2,\\\"nameCanonical\\\":\\\"\\\"},{\\\"curriculum_requisites\\\":[{\\\"source_id\\\":2,\\\"target_id\\\":8,\\\"type\\\":\\\"CurriculumPrerequisite\\\"}],\\\"name\\\":\\\"PHYS  2211\\\",\\\"metrics\\\":{\\\"complexity\\\":26.0,\\\"centrality\\\":96,\\\"blocking factor\\\":19,\\\"delay factor\\\":7.0},\\\"nameSub\\\":\\\"Intro Physics 1\\\",\\\"id\\\":8,\\\"credits\\\":4,\\\"nameCanonical\\\":\\\"\\\"},{\\\"curriculum_requisites\\\":[{\\\"source_id\\\":1,\\\"target_id\\\":9,\\\"type\\\":\\\"CurriculumPrerequisite\\\"}],\\\"name\\\":\\\"AE 1601\\\",\\\"metrics\\\":{\\\"complexity\\\":9.0,\\\"centrality\\\":12,\\\"blocking factor\\\":5,\\\"delay factor\\\":4.0},\\\"nameSub\\\":\\\"Intro To Aerosapce Eng.\\\",\\\"id\\\":9,\\\"credits\\\":1,\\\"nameCanonical\\\":\\\"\\\"},{\\\"curriculum_requisites\\\":[{\\\"source_id\\\":5,\\\"target_id\\\":10,\\\"type\\\":\\\"CurriculumPrerequisite\\\"}],\\\"name\\\":\\\"ENGL 1102\\\",\\\"metrics\\\":{\\\"complexity\\\":2.0,\\\"centrality\\\":0,\\\"blocking factor\\\":0,\\\"delay factor\\\":2.0},\\\"nameSub\\\":\\\"English Composition II\\\",\\\"id\\\":10,\\\"credits\\\":3,\\\"nameCanonical\\\":\\\"\\\"},{\\\"curriculum_requisites\\\":[],\\\"name\\\":\\\"ME 1670\\\",\\\"metrics\\\":{\\\"complexity\\\":1.0,\\\"centrality\\\":0,\\\"blocking factor\\\":0,\\\"delay factor\\\":1.0},\\\"nameSub\\\":\\\"Intro. To Eng. Graphics\\\",\\\"id\\\":11,\\\"credits\\\":3,\\\"nameCanonical\\\":\\\"\\\"},{\\\"curriculum_requisites\\\":[],\\\"name\\\":\\\" \\\",\\\"metrics\\\":{\\\"complexity\\\":1.0,\\\"centrality\\\":0,\\\"blocking factor\\\":0,\\\"delay factor\\\":1.0},\\\"nameSub\\\":\\\"Social Science Elective\\\",\\\"id\\\":12,\\\"credits\\\":3,\\\"nameCanonical\\\":\\\"\\\"}],\\\"id\\\":3},{\\\"name\\\":\\\"Term 4\\\",\\\"curriculum_items\\\":[{\\\"curriculum_requisites\\\":[{\\\"source_id\\\":7,\\\"target_id\\\":13,\\\"type\\\":\\\"CurriculumPrerequisite\\\"},{\\\"source_id\\\":2,\\\"target_id\\\":13,\\\"type\\\":\\\"CurriculumPrerequisite\\\"}],\\\"name\\\":\\\"MATH 2551\\\",\\\"metrics\\\":{\\\"complexity\\\":22.0,\\\"centrality\\\":146,\\\"blocking factor\\\":15,\\\"delay factor\\\":7.0},\\\"nameSub\\\":\\\"Multivariable Calculus\\\",\\\"id\\\":13,\\\"credits\\\":4,\\\"nameCanonical\\\":\\\"\\\"},{\\\"curriculum_requisites\\\":[{\\\"source_id\\\":8,\\\"target_id\\\":14,\\\"type\\\":\\\"CurriculumPrerequisite\\\"}],\\\"name\\\":\\\"PHYS  2212\\\",\\\"metrics\\\":{\\\"complexity\\\":11.0,\\\"centrality\\\":18,\\\"blocking factor\\\":5,\\\"delay factor\\\":6.0},\\\"nameSub\\\":\\\"Intro. Physics 2\\\",\\\"id\\\":14,\\\"credits\\\":4,\\\"nameCanonical\\\":\\\"\\\"},{\\\"curriculum_requisites\\\":[{\\\"source_id\\\":2,\\\"target_id\\\":15,\\\"type\\\":\\\"CurriculumPrerequisite\\\"},{\\\"source_id\\\":8,\\\"target_id\\\":15,\\\"type\\\":\\\"CurriculumPrerequisite\\\"}],\\\"name\\\":\\\"COE 2001\\\",\\\"metrics\\\":{\\\"complexity\\\":11.0,\\\"centrality\\\":44,\\\"blocking factor\\\":5,\\\"delay factor\\\":6.0},\\\"nameSub\\\":\\\"Statics\\\",\\\"id\\\":15,\\\"credits\\\":2,\\\"nameCanonical\\\":\\\"\\\"},{\\\"curriculum_requisites\\\":[{\\\"source_id\\\":3,\\\"target_id\\\":16,\\\"type\\\":\\\"CurriculumPrerequisite\\\"}],\\\"name\\\":\\\"MSE 2001\\\",\\\"metrics\\\":{\\\"complexity\\\":13.0,\\\"centrality\\\":22,\\\"blocking factor\\\":7,\\\"delay factor\\\":6.0},\\\"nameSub\\\":\\\"Eng Materials\\\",\\\"id\\\":16,\\\"credits\\\":3,\\\"nameCanonical\\\":\\\"\\\"},{\\\"curriculum_requisites\\\":[],\\\"name\\\":\\\" \\\",\\\"metrics\\\":{\\\"complexity\\\":1.0,\\\"centrality\\\":0,\\\"blocking factor\\\":0,\\\"delay factor\\\":1.0},\\\"nameSub\\\":\\\"Economics Elective\\\",\\\"id\\\":17,\\\"credits\\\":3,\\\"nameCanonical\\\":\\\"\\\"}],\\\"id\\\":4},{\\\"name\\\":\\\"Term 5\\\",\\\"curriculum_items\\\":[{\\\"curriculum_requisites\\\":[{\\\"source_id\\\":7,\\\"target_id\\\":18,\\\"type\\\":\\\"CurriculumPrerequisite\\\"},{\\\"source_id\\\":2,\\\"target_id\\\":18,\\\"type\\\":\\\"CurriculumPrerequisite\\\"}],\\\"name\\\":\\\"MATH 2552\\\",\\\"metrics\\\":{\\\"complexity\\\":19.0,\\\"centrality\\\":146,\\\"blocking factor\\\":12,\\\"delay factor\\\":7.0},\\\"nameSub\\\":\\\"Differential Equations\\\",\\\"id\\\":18,\\\"credits\\\":4,\\\"nameCanonical\\\":\\\"\\\"},{\\\"curriculum_requisites\\\":[{\\\"source_id\\\":13,\\\"target_id\\\":19,\\\"type\\\":\\\"CurriculumPrerequisite\\\"},{\\\"source_id\\\":8,\\\"target_id\\\":19,\\\"type\\\":\\\"CurriculumPrerequisite\\\"},{\\\"source_id\\\":3,\\\"target_id\\\":19,\\\"type\\\":\\\"CurriculumPrerequisite\\\"}],\\\"name\\\":\\\"AE 2010\\\",\\\"metrics\\\":{\\\"complexity\\\":18.0,\\\"centrality\\\":198,\\\"blocking factor\\\":11,\\\"delay factor\\\":7.0},\\\"nameSub\\\":\\\"Termo and Fluid Fund.\\\",\\\"id\\\":19,\\\"credits\\\":4,\\\"nameCanonical\\\":\\\"\\\"},{\\\"curriculum_requisites\\\":[{\\\"source_id\\\":16,\\\"target_id\\\":20,\\\"type\\\":\\\"CurriculumPrerequisite\\\"},{\\\"source_id\\\":18,\\\"target_id\\\":20,\\\"type\\\":\\\"CurriculumCorequisite\\\"}],\\\"name\\\":\\\"AE 2220\\\",\\\"metrics\\\":{\\\"complexity\\\":13.0,\\\"centrality\\\":74,\\\"blocking factor\\\":6,\\\"delay factor\\\":7.0},\\\"nameSub\\\":\\\"Dynamics\\\",\\\"id\\\":20,\\\"credits\\\":3,\\\"nameCanonical\\\":\\\"\\\"},{\\\"curriculum_requisites\\\":[{\\\"source_id\\\":22,\\\"target_id\\\":21,\\\"type\\\":\\\"CurriculumStrictCorequisite\\\"},{\\\"source_id\\\":13,\\\"target_id\\\":21,\\\"type\\\":\\\"CurriculumCorequisite\\\"},{\\\"source_id\\\":15,\\\"target_id\\\":21,\\\"type\\\":\\\"CurriculumCorequisite\\\"},{\\\"source_id\\\":9,\\\"target_id\\\":21,\\\"type\\\":\\\"CurriculumPrerequisite\\\"},{\\\"source_id\\\":14,\\\"target_id\\\":21,\\\"type\\\":\\\"CurriculumCorequisite\\\"}],\\\"name\\\":\\\"AE 2610\\\",\\\"metrics\\\":{\\\"complexity\\\":8.0,\\\"centrality\\\":68,\\\"blocking factor\\\":2,\\\"delay factor\\\":6.0},\\\"nameSub\\\":\\\"Intro Exp Methods Lab\\\",\\\"id\\\":21,\\\"credits\\\":1,\\\"nameCanonical\\\":\\\"\\\"},{\\\"curriculum_requisites\\\":[],\\\"name\\\":\\\"AE 2611\\\",\\\"metrics\\\":{\\\"complexity\\\":6.0,\\\"centrality\\\":0,\\\"blocking factor\\\":3,\\\"delay factor\\\":3.0},\\\"nameSub\\\":\\\"Technical Comm for AE\\\",\\\"id\\\":22,\\\"credits\\\":1,\\\"nameCanonical\\\":\\\"\\\"},{\\\"curriculum_requisites\\\":[{\\\"source_id\\\":14,\\\"target_id\\\":23,\\\"type\\\":\\\"CurriculumPrerequisite\\\"}],\\\"name\\\":\\\"ECE 3710\\\",\\\"metrics\\\":{\\\"complexity\\\":7.0,\\\"centrality\\\":6,\\\"blocking factor\\\":1,\\\"delay factor\\\":6.0},\\\"nameSub\\\":\\\"Circuits & Electronics\\\",\\\"id\\\":23,\\\"credits\\\":2,\\\"nameCanonical\\\":\\\"\\\"}],\\\"id\\\":5},{\\\"name\\\":\\\"Term 6\\\",\\\"curriculum_items\\\":[{\\\"curriculum_requisites\\\":[{\\\"source_id\\\":13,\\\"target_id\\\":24,\\\"type\\\":\\\"CurriculumPrerequisite\\\"}],\\\"name\\\":\\\" \\\",\\\"metrics\\\":{\\\"complexity\\\":4.0,\\\"centrality\\\":0,\\\"blocking factor\\\":0,\\\"delay factor\\\":4.0},\\\"nameSub\\\":\\\"Math Option\\\",\\\"id\\\":24,\\\"credits\\\":3,\\\"nameCanonical\\\":\\\"\\\"},{\\\"curriculum_requisites\\\":[{\\\"source_id\\\":15,\\\"target_id\\\":25,\\\"type\\\":\\\"CurriculumPrerequisite\\\"},{\\\"source_id\\\":18,\\\"target_id\\\":25,\\\"type\\\":\\\"CurriculumCorequisite\\\"}],\\\"name\\\":\\\"COE 3001\\\",\\\"metrics\\\":{\\\"complexity\\\":8.0,\\\"centrality\\\":42,\\\"blocking factor\\\":2,\\\"delay factor\\\":6.0},\\\"nameSub\\\":\\\"Deformable Bodies\\\",\\\"id\\\":25,\\\"credits\\\":3,\\\"nameCanonical\\\":\\\"\\\"},{\\\"curriculum_requisites\\\":[{\\\"source_id\\\":19,\\\"target_id\\\":26,\\\"type\\\":\\\"CurriculumPrerequisite\\\"}],\\\"name\\\":\\\"AE 3030\\\",\\\"metrics\\\":{\\\"complexity\\\":14.0,\\\"centrality\\\":144,\\\"blocking factor\\\":7,\\\"delay factor\\\":7.0},\\\"nameSub\\\":\\\"Aerodynamics\\\",\\\"id\\\":26,\\\"credits\\\":4,\\\"nameCanonical\\\":\\\"\\\"},{\\\"curriculum_requisites\\\":[{\\\"source_id\\\":18,\\\"target_id\\\":27,\\\"type\\\":\\\"CurriculumPrerequisite\\\"},{\\\"source_id\\\":26,\\\"target_id\\\":27,\\\"type\\\":\\\"CurriculumCorequisite\\\"}],\\\"name\\\":\\\"AE 3330\\\",\\\"metrics\\\":{\\\"complexity\\\":10.0,\\\"centrality\\\":108,\\\"blocking factor\\\":3,\\\"delay factor\\\":7.0},\\\"nameSub\\\":\\\"AE Vehicle Performance\\\",\\\"id\\\":27,\\\"credits\\\":3,\\\"nameCanonical\\\":\\\"\\\"},{\\\"curriculum_requisites\\\":[{\\\"source_id\\\":20,\\\"target_id\\\":28,\\\"type\\\":\\\"CurriculumPrerequisite\\\"},{\\\"source_id\\\":18,\\\"target_id\\\":28,\\\"type\\\":\\\"CurriculumPrerequisite\\\"}],\\\"name\\\":\\\"AE 3530\\\",\\\"metrics\\\":{\\\"complexity\\\":12.0,\\\"centrality\\\":118,\\\"blocking factor\\\":5,\\\"delay factor\\\":7.0},\\\"nameSub\\\":\\\"Sys Dynamics & Vib\\\",\\\"id\\\":28,\\\"credits\\\":3,\\\"nameCanonical\\\":\\\"\\\"},{\\\"curriculum_requisites\\\":[{\\\"source_id\\\":23,\\\"target_id\\\":29,\\\"type\\\":\\\"CurriculumPrerequisite\\\"}],\\\"name\\\":\\\"ECE 3741\\\",\\\"metrics\\\":{\\\"complexity\\\":6.0,\\\"centrality\\\":0,\\\"blocking factor\\\":0,\\\"delay factor\\\":6.0},\\\"nameSub\\\":\\\"Circuits /Electronics Lab\\\",\\\"id\\\":29,\\\"credits\\\":1,\\\"nameCanonical\\\":\\\"\\\"}],\\\"id\\\":6},{\\\"name\\\":\\\"Term 7\\\",\\\"curriculum_items\\\":[{\\\"curriculum_requisites\\\":[{\\\"source_id\\\":4,\\\"target_id\\\":30,\\\"type\\\":\\\"CurriculumPrerequisite\\\"},{\\\"source_id\\\":13,\\\"target_id\\\":30,\\\"type\\\":\\\"CurriculumPrerequisite\\\"},{\\\"source_id\\\":9,\\\"target_id\\\":30,\\\"type\\\":\\\"CurriculumPrerequisite\\\"}],\\\"name\\\":\\\"AE 3340\\\",\\\"metrics\\\":{\\\"complexity\\\":6.0,\\\"centrality\\\":17,\\\"blocking factor\\\":1,\\\"delay factor\\\":5.0},\\\"nameSub\\\":\\\"Design Methods\\\",\\\"id\\\":30,\\\"credits\\\":2,\\\"nameCanonical\\\":\\\"\\\"},{\\\"curriculum_requisites\\\":[{\\\"source_id\\\":25,\\\"target_id\\\":31,\\\"type\\\":\\\"CurriculumPrerequisite\\\"}],\\\"name\\\":\\\"AE 3140\\\",\\\"metrics\\\":{\\\"complexity\\\":6.0,\\\"centrality\\\":0,\\\"blocking factor\\\":0,\\\"delay factor\\\":6.0},\\\"nameSub\\\":\\\"Structural Analysis\\\",\\\"id\\\":31,\\\"credits\\\":3,\\\"nameCanonical\\\":\\\"\\\"},{\\\"curriculum_requisites\\\":[{\\\"source_id\\\":19,\\\"target_id\\\":32,\\\"type\\\":\\\"CurriculumPrerequisite\\\"}],\\\"name\\\":\\\"AE 4451\\\",\\\"metrics\\\":{\\\"complexity\\\":5.0,\\\"centrality\\\":0,\\\"blocking factor\\\":0,\\\"delay factor\\\":5.0},\\\"nameSub\\\":\\\"Jet & Rocket Propulsion\\\",\\\"id\\\":32,\\\"credits\\\":3,\\\"nameCanonical\\\":\\\"\\\"},{\\\"curriculum_requisites\\\":[{\\\"source_id\\\":21,\\\"target_id\\\":33,\\\"type\\\":\\\"CurriculumPrerequisite\\\"},{\\\"source_id\\\":25,\\\"target_id\\\":33,\\\"type\\\":\\\"CurriculumPrerequisite\\\"},{\\\"source_id\\\":19,\\\"target_id\\\":33,\\\"type\\\":\\\"CurriculumPrerequisite\\\"}],\\\"name\\\":\\\"AE 3610\\\",\\\"metrics\\\":{\\\"complexity\\\":6.0,\\\"centrality\\\":0,\\\"blocking factor\\\":0,\\\"delay factor\\\":6.0},\\\"nameSub\\\":\\\"Exp Fluids/Solids Lab\\\",\\\"id\\\":33,\\\"credits\\\":2,\\\"nameCanonical\\\":\\\"\\\"},{\\\"curriculum_requisites\\\":[{\\\"source_id\\\":28,\\\"target_id\\\":34,\\\"type\\\":\\\"CurriculumPrerequisite\\\"}],\\\"name\\\":\\\"AE 3531\\\",\\\"metrics\\\":{\\\"complexity\\\":9.0,\\\"centrality\\\":64,\\\"blocking factor\\\":2,\\\"delay factor\\\":7.0},\\\"nameSub\\\":\\\"Control Sys Analysis/Design\\\",\\\"id\\\":34,\\\"credits\\\":3,\\\"nameCanonical\\\":\\\"\\\"},{\\\"curriculum_requisites\\\":[],\\\"name\\\":\\\" \\\",\\\"metrics\\\":{\\\"complexity\\\":1.0,\\\"centrality\\\":0,\\\"blocking factor\\\":0,\\\"delay factor\\\":1.0},\\\"nameSub\\\":\\\"Free Elective\\\",\\\"id\\\":35,\\\"credits\\\":3,\\\"nameCanonical\\\":\\\"\\\"}],\\\"id\\\":7},{\\\"name\\\":\\\"Term 8\\\",\\\"curriculum_items\\\":[{\\\"curriculum_requisites\\\":[{\\\"source_id\\\":27,\\\"target_id\\\":36,\\\"type\\\":\\\"CurriculumPrerequisite\\\"},{\\\"source_id\\\":30,\\\"target_id\\\":36,\\\"type\\\":\\\"CurriculumPrerequisite\\\"}],\\\"name\\\":\\\"AE  4341/2/3\\\",\\\"metrics\\\":{\\\"complexity\\\":7.0,\\\"centrality\\\":0,\\\"blocking factor\\\":0,\\\"delay factor\\\":7.0},\\\"nameSub\\\":\\\"Air/Space/Rotor Design\\\",\\\"id\\\":36,\\\"credits\\\":3,\\\"nameCanonical\\\":\\\"\\\"},{\\\"curriculum_requisites\\\":[{\\\"source_id\\\":26,\\\"target_id\\\":37,\\\"type\\\":\\\"CurriculumPrerequisite\\\"}],\\\"name\\\":\\\" \\\",\\\"metrics\\\":{\\\"complexity\\\":6.0,\\\"centrality\\\":0,\\\"blocking factor\\\":0,\\\"delay factor\\\":6.0},\\\"nameSub\\\":\\\"AE Option\\\",\\\"id\\\":37,\\\"credits\\\":3,\\\"nameCanonical\\\":\\\"\\\"},{\\\"curriculum_requisites\\\":[{\\\"source_id\\\":34,\\\"target_id\\\":38,\\\"type\\\":\\\"CurriculumCorequisite\\\"},{\\\"source_id\\\":27,\\\"target_id\\\":38,\\\"type\\\":\\\"CurriculumPrerequisite\\\"}],\\\"name\\\":\\\"AE 4531\\\",\\\"metrics\\\":{\\\"complexity\\\":7.0,\\\"centrality\\\":0,\\\"blocking factor\\\":0,\\\"delay factor\\\":7.0},\\\"nameSub\\\":\\\"Aircraft Flt Dynamics\\\",\\\"id\\\":38,\\\"credits\\\":3,\\\"nameCanonical\\\":\\\"\\\"},{\\\"curriculum_requisites\\\":[{\\\"source_id\\\":27,\\\"target_id\\\":39,\\\"type\\\":\\\"CurriculumPrerequisite\\\"},{\\\"source_id\\\":28,\\\"target_id\\\":39,\\\"type\\\":\\\"CurriculumPrerequisite\\\"}],\\\"name\\\":\\\"AE 4532\\\",\\\"metrics\\\":{\\\"complexity\\\":7.0,\\\"centrality\\\":0,\\\"blocking factor\\\":0,\\\"delay factor\\\":7.0},\\\"nameSub\\\":\\\"Spacecraft Flt Dynamics\\\",\\\"id\\\":39,\\\"credits\\\":3,\\\"nameCanonical\\\":\\\"\\\"},{\\\"curriculum_requisites\\\":[],\\\"name\\\":\\\" \\\",\\\"metrics\\\":{\\\"complexity\\\":1.0,\\\"centrality\\\":0,\\\"blocking factor\\\":0,\\\"delay factor\\\":1.0},\\\"nameSub\\\":\\\"Humanities Elective\\\",\\\"id\\\":40,\\\"credits\\\":3,\\\"nameCanonical\\\":\\\"\\\"},{\\\"curriculum_requisites\\\":[],\\\"name\\\":\\\" \\\",\\\"metrics\\\":{\\\"complexity\\\":1.0,\\\"centrality\\\":0,\\\"blocking factor\\\":0,\\\"delay factor\\\":1.0},\\\"nameSub\\\":\\\"Free Elective\\\",\\\"id\\\":41,\\\"credits\\\":3,\\\"nameCanonical\\\":\\\"\\\"},{\\\"curriculum_requisites\\\":[],\\\"name\\\":\\\" \\\",\\\"metrics\\\":{\\\"complexity\\\":1.0,\\\"centrality\\\":0,\\\"blocking factor\\\":0,\\\"delay factor\\\":1.0},\\\"nameSub\\\":\\\"Social Science Elective\\\",\\\"id\\\":42,\\\"credits\\\":3,\\\"nameCanonical\\\":\\\"\\\"}],\\\"id\\\":8},{\\\"name\\\":\\\"Term 9\\\",\\\"curriculum_items\\\":[{\\\"curriculum_requisites\\\":[{\\\"source_id\\\":34,\\\"target_id\\\":43,\\\"type\\\":\\\"CurriculumPrerequisite\\\"},{\\\"source_id\\\":21,\\\"target_id\\\":43,\\\"type\\\":\\\"CurriculumPrerequisite\\\"},{\\\"source_id\\\":19,\\\"target_id\\\":43,\\\"type\\\":\\\"CurriculumPrerequisite\\\"}],\\\"name\\\":\\\"AE 4610\\\",\\\"metrics\\\":{\\\"complexity\\\":7.0,\\\"centrality\\\":0,\\\"blocking factor\\\":0,\\\"delay factor\\\":7.0},\\\"nameSub\\\":\\\"Dynamics & Controls Lab\\\",\\\"id\\\":43,\\\"credits\\\":2,\\\"nameCanonical\\\":\\\"\\\"},{\\\"curriculum_requisites\\\":[{\\\"source_id\\\":26,\\\"target_id\\\":44,\\\"type\\\":\\\"CurriculumPrerequisite\\\"},{\\\"source_id\\\":28,\\\"target_id\\\":44,\\\"type\\\":\\\"CurriculumPrerequisite\\\"}],\\\"name\\\":\\\" \\\",\\\"metrics\\\":{\\\"complexity\\\":6.0,\\\"centrality\\\":0,\\\"blocking factor\\\":0,\\\"delay factor\\\":6.0},\\\"nameSub\\\":\\\"AE Option \\\",\\\"id\\\":44,\\\"credits\\\":3,\\\"nameCanonical\\\":\\\"\\\"},{\\\"curriculum_requisites\\\":[{\\\"source_id\\\":26,\\\"target_id\\\":45,\\\"type\\\":\\\"CurriculumPrerequisite\\\"}],\\\"name\\\":\\\" \\\",\\\"metrics\\\":{\\\"complexity\\\":6.0,\\\"centrality\\\":0,\\\"blocking factor\\\":0,\\\"delay factor\\\":6.0},\\\"nameSub\\\":\\\"AE Option\\\",\\\"id\\\":45,\\\"credits\\\":2,\\\"nameCanonical\\\":\\\"\\\"},{\\\"curriculum_requisites\\\":[],\\\"name\\\":\\\" \\\",\\\"metrics\\\":{\\\"complexity\\\":1.0,\\\"centrality\\\":0,\\\"blocking factor\\\":0,\\\"delay factor\\\":1.0},\\\"nameSub\\\":\\\"Humanities Elective\\\",\\\"id\\\":46,\\\"credits\\\":3,\\\"nameCanonical\\\":\\\"\\\"},{\\\"curriculum_requisites\\\":[],\\\"name\\\":\\\" \\\",\\\"metrics\\\":{\\\"complexity\\\":1.0,\\\"centrality\\\":0,\\\"blocking factor\\\":0,\\\"delay factor\\\":1.0},\\\"nameSub\\\":\\\"Free Elective\\\",\\\"id\\\":47,\\\"credits\\\":3,\\\"nameCanonical\\\":\\\"\\\"},{\\\"curriculum_requisites\\\":[],\\\"name\\\":\\\" \\\",\\\"metrics\\\":{\\\"complexity\\\":1.0,\\\"centrality\\\":0,\\\"blocking factor\\\":0,\\\"delay factor\\\":1.0},\\\"nameSub\\\":\\\"Social Science Elective\\\",\\\"id\\\":48,\\\"credits\\\":3,\\\"nameCanonical\\\":\\\"\\\"}],\\\"id\\\":9}],\\\"institution\\\":\\\"Georgia Institute of Technology\\\"}},\\\"*\\\"); window.removeEventListener(\\\"message\\\",window.messageReceived); window.messageReceived=(function (event){return (event.data.curriculum!==undefined) ? (WebIO.setval({\\\"name\\\":\\\"curriculum-data\\\",\\\"scope\\\":\\\"2497756243983982627\\\",\\\"id\\\":\\\"12678649697774388425\\\",\\\"type\\\":\\\"observable\\\"},event.data.curriculum)) : undefined}); return window.addEventListener(\\\"message\\\",window.messageReceived)})\")), :style => Dict(:padding => \"0\", :height => \"100vh\", :margin => \"0\", :border => \"none\", :width => \"100%\"))), Dict{String, Tuple{Observables.AbstractObservable, Union{Nothing, Bool}}}(\"curriculum-data\" => (Observable{Dict{String, Any}} with 1 listeners. Value:\n",
       "Dict{String, Any}(\"options\" => Dict{String, Any}(\"hideTerms\" => false, \"edit\" => false), \"curriculum\" => Dict{String, Any}(\"name\" => \"Aerospace Engineering\", \"dp_name\" => \"2021-22 Plan\", \"curriculum_terms\" => Dict{String, Any}[Dict(\"name\" => \"Term 1\", \"curriculum_items\" => Dict{String, Any}[Dict(\"curriculum_requisites\" => Dict{String, Any}[], \"name\" => \"MATH 1501\", \"metrics\" => Dict{String, Any}(\"complexity\" => 37.0, \"centrality\" => 0, \"blocking factor\" => 30, \"delay factor\" => 7.0), \"nameSub\" => \"Calculus I\", \"id\" => 1, \"credits\" => 4, \"nameCanonical\" => \"\")], \"id\" => 1), Dict(\"name\" => \"Term 2\", \"curriculum_items\" => Dict{String, Any}[Dict(\"curriculum_requisites\" => Dict{String, Any}[Dict(\"source_id\" => 1, \"target_id\" => 2, \"type\" => \"CurriculumPrerequisite\")], \"name\" => \"MATH 1552\", \"metrics\" => Dict{String, Any}(\"complexity\" => 34.0, \"centrality\" => 262, \"blocking factor\" => 27, \"delay factor\" => 7.0), \"nameSub\" => \"Integral Calculus\", \"id\" => 2, \"credits\" => 4, \"nameCanonical\" => \"\"), Dict(\"curriculum_requisites\" => Dict{String, Any}[], \"name\" => \"CHEM 1310\", \"metrics\" => Dict{String, Any}(\"complexity\" => 22.0, \"centrality\" => 0, \"blocking factor\" => 16, \"delay factor\" => 6.0), \"nameSub\" => \"General Chemistry\", \"id\" => 3, \"credits\" => 4, \"nameCanonical\" => \"\"), Dict(\"curriculum_requisites\" => Dict{String, Any}[], \"name\" => \"CS 1371\", \"metrics\" => Dict{String, Any}(\"complexity\" => 5.0, \"centrality\" => 0, \"blocking factor\" => 2, \"delay factor\" => 3.0), \"nameSub\" => \"Computing for Engineers\", \"id\" => 4, \"credits\" => 3, \"nameCanonical\" => \"\"), Dict(\"curriculum_requisites\" => Dict{String, Any}[], \"name\" => \"ENGL 1101\", \"metrics\" => Dict{String, Any}(\"complexity\" => 3.0, \"centrality\" => 0, \"blocking factor\" => 1, \"delay factor\" => 2.0), \"nameSub\" => \"English Composition I\", \"id\" => 5, \"credits\" => 3, \"nameCanonical\" => \"\"), Dict(\"curriculum_requisites\" => Dict{String, Any}[], \"name\" => \"APPH 1040\", \"metrics\" => Dict{String, Any}(\"complexity\" => 1.0, \"centrality\" => 0, \"blocking factor\" => 0, \"delay factor\" => 1.0), \"nameSub\" => \"Applied Pysiology\", \"id\" => 6, \"credits\" => 2, \"nameCanonical\" => \"\")], \"id\" => 2), Dict(\"name\" => \"Term 3\", \"curriculum_items\" => Dict{String, Any}[Dict(\"curriculum_requisites\" => Dict{String, Any}[Dict(\"source_id\" => 1, \"target_id\" => 7, \"type\" => \"CurriculumPrerequisite\")], \"name\" => \"MATH 1553\", \"metrics\" => Dict{String, Any}(\"complexity\" => 29.0, \"centrality\" => 146, \"blocking factor\" => 22, \"delay factor\" => 7.0), \"nameSub\" => \"Intro to Linear Algebra\", \"id\" => 7, \"credits\" => 2, \"nameCanonical\" => \"\"), Dict(\"curriculum_requisites\" => Dict{String, Any}[Dict(\"source_id\" => 2, \"target_id\" => 8, \"type\" => \"CurriculumPrerequisite\")], \"name\" => \"PHYS  2211\", \"metrics\" => Dict{String, Any}(\"complexity\" => 26.0, \"centrality\" => 96, \"blocking factor\" => 19, \"delay factor\" => 7.0), \"nameSub\" => \"Intro Physics 1\", \"id\" => 8, \"credits\" => 4, \"nameCanonical\" => \"\"), Dict(\"curriculum_requisites\" => Dict{String, Any}[Dict(\"source_id\" => 1, \"target_id\" => 9, \"type\" => \"CurriculumPrerequisite\")], \"name\" => \"AE 1601\", \"metrics\" => Dict{String, Any}(\"complexity\" => 9.0, \"centrality\" => 12, \"blocking factor\" => 5, \"delay factor\" => 4.0), \"nameSub\" => \"Intro To Aerosapce Eng.\", \"id\" => 9, \"credits\" => 1, \"nameCanonical\" => \"\"), Dict(\"curriculum_requisites\" => Dict{String, Any}[Dict(\"source_id\" => 5, \"target_id\" => 10, \"type\" => \"CurriculumPrerequisite\")], \"name\" => \"ENGL 1102\", \"metrics\" => Dict{String, Any}(\"complexity\" => 2.0, \"centrality\" => 0, \"blocking factor\" => 0, \"delay factor\" => 2.0), \"nameSub\" => \"English Composition II\", \"id\" => 10, \"credits\" => 3, \"nameCanonical\" => \"\"), Dict(\"curriculum_requisites\" => Dict{String, Any}[], \"name\" => \"ME 1670\", \"metrics\" => Dict{String, Any}(\"complexity\" => 1.0, \"centrality\" => 0, \"blocking factor\" => 0, \"delay factor\" => 1.0), \"nameSub\" => \"Intro. To Eng. Graphics\", \"id\" => 11, \"credits\" => 3, \"nameCanonical\" => \"\"), Dict(\"curriculum_requisites\" => Dict{String, Any}[], \"name\" => \" \", \"metrics\" => Dict{String, Any}(\"complexity\" => 1.0, \"centrality\" => 0, \"blocking factor\" => 0, \"delay factor\" => 1.0), \"nameSub\" => \"Social Science Elective\", \"id\" => 12, \"credits\" => 3, \"nameCanonical\" => \"\")], \"id\" => 3), Dict(\"name\" => \"Term 4\", \"curriculum_items\" => Dict{String, Any}[Dict(\"curriculum_requisites\" => Dict{String, Any}[Dict(\"source_id\" => 7, \"target_id\" => 13, \"type\" => \"CurriculumPrerequisite\"), Dict(\"source_id\" => 2, \"target_id\" => 13, \"type\" => \"CurriculumPrerequisite\")], \"name\" => \"MATH 2551\", \"metrics\" => Dict{String, Any}(\"complexity\" => 22.0, \"centrality\" => 146, \"blocking factor\" => 15, \"delay factor\" => 7.0), \"nameSub\" => \"Multivariable Calculus\", \"id\" => 13, \"credits\" => 4, \"nameCanonical\" => \"\"), Dict(\"curriculum_requisites\" => Dict{String, Any}[Dict(\"source_id\" => 8, \"target_id\" => 14, \"type\" => \"CurriculumPrerequisite\")], \"name\" => \"PHYS  2212\", \"metrics\" => Dict{String, Any}(\"complexity\" => 11.0, \"centrality\" => 18, \"blocking factor\" => 5, \"delay factor\" => 6.0), \"nameSub\" => \"Intro. Physics 2\", \"id\" => 14, \"credits\" => 4, \"nameCanonical\" => \"\"), Dict(\"curriculum_requisites\" => Dict{String, Any}[Dict(\"source_id\" => 2, \"target_id\" => 15, \"type\" => \"CurriculumPrerequisite\"), Dict(\"source_id\" => 8, \"target_id\" => 15, \"type\" => \"CurriculumPrerequisite\")], \"name\" => \"COE 2001\", \"metrics\" => Dict{String, Any}(\"complexity\" => 11.0, \"centrality\" => 44, \"blocking factor\" => 5, \"delay factor\" => 6.0), \"nameSub\" => \"Statics\", \"id\" => 15, \"credits\" => 2, \"nameCanonical\" => \"\"), Dict(\"curriculum_requisites\" => Dict{String, Any}[Dict(\"source_id\" => 3, \"target_id\" => 16, \"type\" => \"CurriculumPrerequisite\")], \"name\" => \"MSE 2001\", \"metrics\" => Dict{String, Any}(\"complexity\" => 13.0, \"centrality\" => 22, \"blocking factor\" => 7, \"delay factor\" => 6.0), \"nameSub\" => \"Eng Materials\", \"id\" => 16, \"credits\" => 3, \"nameCanonical\" => \"\"), Dict(\"curriculum_requisites\" => Dict{String, Any}[], \"name\" => \" \", \"metrics\" => Dict{String, Any}(\"complexity\" => 1.0, \"centrality\" => 0, \"blocking factor\" => 0, \"delay factor\" => 1.0), \"nameSub\" => \"Economics Elective\", \"id\" => 17, \"credits\" => 3, \"nameCanonical\" => \"\")], \"id\" => 4), Dict(\"name\" => \"Term 5\", \"curriculum_items\" => Dict{String, Any}[Dict(\"curriculum_requisites\" => Dict{String, Any}[Dict(\"source_id\" => 7, \"target_id\" => 18, \"type\" => \"CurriculumPrerequisite\"), Dict(\"source_id\" => 2, \"target_id\" => 18, \"type\" => \"CurriculumPrerequisite\")], \"name\" => \"MATH 2552\", \"metrics\" => Dict{String, Any}(\"complexity\" => 19.0, \"centrality\" => 146, \"blocking factor\" => 12, \"delay factor\" => 7.0), \"nameSub\" => \"Differential Equations\", \"id\" => 18, \"credits\" => 4, \"nameCanonical\" => \"\"), Dict(\"curriculum_requisites\" => Dict{String, Any}[Dict(\"source_id\" => 13, \"target_id\" => 19, \"type\" => \"CurriculumPrerequisite\"), Dict(\"source_id\" => 8, \"target_id\" => 19, \"type\" => \"CurriculumPrerequisite\"), Dict(\"source_id\" => 3, \"target_id\" => 19, \"type\" => \"CurriculumPrerequisite\")], \"name\" => \"AE 2010\", \"metrics\" => Dict{String, Any}(\"complexity\" => 18.0, \"centrality\" => 198, \"blocking factor\" => 11, \"delay factor\" => 7.0), \"nameSub\" => \"Termo and Fluid Fund.\", \"id\" => 19, \"credits\" => 4, \"nameCanonical\" => \"\"), Dict(\"curriculum_requisites\" => Dict{String, Any}[Dict(\"source_id\" => 16, \"target_id\" => 20, \"type\" => \"CurriculumPrerequisite\"), Dict(\"source_id\" => 18, \"target_id\" => 20, \"type\" => \"CurriculumCorequisite\")], \"name\" => \"AE 2220\", \"metrics\" => Dict{String, Any}(\"complexity\" => 13.0, \"centrality\" => 74, \"blocking factor\" => 6, \"delay factor\" => 7.0), \"nameSub\" => \"Dynamics\", \"id\" => 20, \"credits\" => 3, \"nameCanonical\" => \"\"), Dict(\"curriculum_requisites\" => Dict{String, Any}[Dict(\"source_id\" => 22, \"target_id\" => 21, \"type\" => \"CurriculumStrictCorequisite\"), Dict(\"source_id\" => 13, \"target_id\" => 21, \"type\" => \"CurriculumCorequisite\"), Dict(\"source_id\" => 15, \"target_id\" => 21, \"type\" => \"CurriculumCorequisite\"), Dict(\"source_id\" => 9, \"target_id\" => 21, \"type\" => \"CurriculumPrerequisite\"), Dict(\"source_id\" => 14, \"target_id\" => 21, \"type\" => \"CurriculumCorequisite\")], \"name\" => \"AE 2610\", \"metrics\" => Dict{String, Any}(\"complexity\" => 8.0, \"centrality\" => 68, \"blocking factor\" => 2, \"delay factor\" => 6.0), \"nameSub\" => \"Intro Exp Methods Lab\", \"id\" => 21, \"credits\" => 1, \"nameCanonical\" => \"\"), Dict(\"curriculum_requisites\" => Dict{String, Any}[], \"name\" => \"AE 2611\", \"metrics\" => Dict{String, Any}(\"complexity\" => 6.0, \"centrality\" => 0, \"blocking factor\" => 3, \"delay factor\" => 3.0), \"nameSub\" => \"Technical Comm for AE\", \"id\" => 22, \"credits\" => 1, \"nameCanonical\" => \"\"), Dict(\"curriculum_requisites\" => Dict{String, Any}[Dict(\"source_id\" => 14, \"target_id\" => 23, \"type\" => \"CurriculumPrerequisite\")], \"name\" => \"ECE 3710\", \"metrics\" => Dict{String, Any}(\"complexity\" => 7.0, \"centrality\" => 6, \"blocking factor\" => 1, \"delay factor\" => 6.0), \"nameSub\" => \"Circuits & Electronics\", \"id\" => 23, \"credits\" => 2, \"nameCanonical\" => \"\")], \"id\" => 5), Dict(\"name\" => \"Term 6\", \"curriculum_items\" => Dict{String, Any}[Dict(\"curriculum_requisites\" => Dict{String, Any}[Dict(\"source_id\" => 13, \"target_id\" => 24, \"type\" => \"CurriculumPrerequisite\")], \"name\" => \" \", \"metrics\" => Dict{String, Any}(\"complexity\" => 4.0, \"centrality\" => 0, \"blocking factor\" => 0, \"delay factor\" => 4.0), \"nameSub\" => \"Math Option\", \"id\" => 24, \"credits\" => 3, \"nameCanonical\" => \"\"), Dict(\"curriculum_requisites\" => Dict{String, Any}[Dict(\"source_id\" => 15, \"target_id\" => 25, \"type\" => \"CurriculumPrerequisite\"), Dict(\"source_id\" => 18, \"target_id\" => 25, \"type\" => \"CurriculumCorequisite\")], \"name\" => \"COE 3001\", \"metrics\" => Dict{String, Any}(\"complexity\" => 8.0, \"centrality\" => 42, \"blocking factor\" => 2, \"delay factor\" => 6.0), \"nameSub\" => \"Deformable Bodies\", \"id\" => 25, \"credits\" => 3, \"nameCanonical\" => \"\"), Dict(\"curriculum_requisites\" => Dict{String, Any}[Dict(\"source_id\" => 19, \"target_id\" => 26, \"type\" => \"CurriculumPrerequisite\")], \"name\" => \"AE 3030\", \"metrics\" => Dict{String, Any}(\"complexity\" => 14.0, \"centrality\" => 144, \"blocking factor\" => 7, \"delay factor\" => 7.0), \"nameSub\" => \"Aerodynamics\", \"id\" => 26, \"credits\" => 4, \"nameCanonical\" => \"\"), Dict(\"curriculum_requisites\" => Dict{String, Any}[Dict(\"source_id\" => 18, \"target_id\" => 27, \"type\" => \"CurriculumPrerequisite\"), Dict(\"source_id\" => 26, \"target_id\" => 27, \"type\" => \"CurriculumCorequisite\")], \"name\" => \"AE 3330\", \"metrics\" => Dict{String, Any}(\"complexity\" => 10.0, \"centrality\" => 108, \"blocking factor\" => 3, \"delay factor\" => 7.0), \"nameSub\" => \"AE Vehicle Performance\", \"id\" => 27, \"credits\" => 3, \"nameCanonical\" => \"\"), Dict(\"curriculum_requisites\" => Dict{String, Any}[Dict(\"source_id\" => 20, \"target_id\" => 28, \"type\" => \"CurriculumPrerequisite\"), Dict(\"source_id\" => 18, \"target_id\" => 28, \"type\" => \"CurriculumPrerequisite\")], \"name\" => \"AE 3530\", \"metrics\" => Dict{String, Any}(\"complexity\" => 12.0, \"centrality\" => 118, \"blocking factor\" => 5, \"delay factor\" => 7.0), \"nameSub\" => \"Sys Dynamics & Vib\", \"id\" => 28, \"credits\" => 3, \"nameCanonical\" => \"\"), Dict(\"curriculum_requisites\" => Dict{String, Any}[Dict(\"source_id\" => 23, \"target_id\" => 29, \"type\" => \"CurriculumPrerequisite\")], \"name\" => \"ECE 3741\", \"metrics\" => Dict{String, Any}(\"complexity\" => 6.0, \"centrality\" => 0, \"blocking factor\" => 0, \"delay factor\" => 6.0), \"nameSub\" => \"Circuits /Electronics Lab\", \"id\" => 29, \"credits\" => 1, \"nameCanonical\" => \"\")], \"id\" => 6), Dict(\"name\" => \"Term 7\", \"curriculum_items\" => Dict{String, Any}[Dict(\"curriculum_requisites\" => Dict{String, Any}[Dict(\"source_id\" => 4, \"target_id\" => 30, \"type\" => \"CurriculumPrerequisite\"), Dict(\"source_id\" => 13, \"target_id\" => 30, \"type\" => \"CurriculumPrerequisite\"), Dict(\"source_id\" => 9, \"target_id\" => 30, \"type\" => \"CurriculumPrerequisite\")], \"name\" => \"AE 3340\", \"metrics\" => Dict{String, Any}(\"complexity\" => 6.0, \"centrality\" => 17, \"blocking factor\" => 1, \"delay factor\" => 5.0), \"nameSub\" => \"Design Methods\", \"id\" => 30, \"credits\" => 2, \"nameCanonical\" => \"\"), Dict(\"curriculum_requisites\" => Dict{String, Any}[Dict(\"source_id\" => 25, \"target_id\" => 31, \"type\" => \"CurriculumPrerequisite\")], \"name\" => \"AE 3140\", \"metrics\" => Dict{String, Any}(\"complexity\" => 6.0, \"centrality\" => 0, \"blocking factor\" => 0, \"delay factor\" => 6.0), \"nameSub\" => \"Structural Analysis\", \"id\" => 31, \"credits\" => 3, \"nameCanonical\" => \"\"), Dict(\"curriculum_requisites\" => Dict{String, Any}[Dict(\"source_id\" => 19, \"target_id\" => 32, \"type\" => \"CurriculumPrerequisite\")], \"name\" => \"AE 4451\", \"metrics\" => Dict{String, Any}(\"complexity\" => 5.0, \"centrality\" => 0, \"blocking factor\" => 0, \"delay factor\" => 5.0), \"nameSub\" => \"Jet & Rocket Propulsion\", \"id\" => 32, \"credits\" => 3, \"nameCanonical\" => \"\"), Dict(\"curriculum_requisites\" => Dict{String, Any}[Dict(\"source_id\" => 21, \"target_id\" => 33, \"type\" => \"CurriculumPrerequisite\"), Dict(\"source_id\" => 25, \"target_id\" => 33, \"type\" => \"CurriculumPrerequisite\"), Dict(\"source_id\" => 19, \"target_id\" => 33, \"type\" => \"CurriculumPrerequisite\")], \"name\" => \"AE 3610\", \"metrics\" => Dict{String, Any}(\"complexity\" => 6.0, \"centrality\" => 0, \"blocking factor\" => 0, \"delay factor\" => 6.0), \"nameSub\" => \"Exp Fluids/Solids Lab\", \"id\" => 33, \"credits\" => 2, \"nameCanonical\" => \"\"), Dict(\"curriculum_requisites\" => Dict{String, Any}[Dict(\"source_id\" => 28, \"target_id\" => 34, \"type\" => \"CurriculumPrerequisite\")], \"name\" => \"AE 3531\", \"metrics\" => Dict{String, Any}(\"complexity\" => 9.0, \"centrality\" => 64, \"blocking factor\" => 2, \"delay factor\" => 7.0), \"nameSub\" => \"Control Sys Analysis/Design\", \"id\" => 34, \"credits\" => 3, \"nameCanonical\" => \"\"), Dict(\"curriculum_requisites\" => Dict{String, Any}[], \"name\" => \" \", \"metrics\" => Dict{String, Any}(\"complexity\" => 1.0, \"centrality\" => 0, \"blocking factor\" => 0, \"delay factor\" => 1.0), \"nameSub\" => \"Free Elective\", \"id\" => 35, \"credits\" => 3, \"nameCanonical\" => \"\")], \"id\" => 7), Dict(\"name\" => \"Term 8\", \"curriculum_items\" => Dict{String, Any}[Dict(\"curriculum_requisites\" => Dict{String, Any}[Dict(\"source_id\" => 27, \"target_id\" => 36, \"type\" => \"CurriculumPrerequisite\"), Dict(\"source_id\" => 30, \"target_id\" => 36, \"type\" => \"CurriculumPrerequisite\")], \"name\" => \"AE  4341/2/3\", \"metrics\" => Dict{String, Any}(\"complexity\" => 7.0, \"centrality\" => 0, \"blocking factor\" => 0, \"delay factor\" => 7.0), \"nameSub\" => \"Air/Space/Rotor Design\", \"id\" => 36, \"credits\" => 3, \"nameCanonical\" => \"\"), Dict(\"curriculum_requisites\" => Dict{String, Any}[Dict(\"source_id\" => 26, \"target_id\" => 37, \"type\" => \"CurriculumPrerequisite\")], \"name\" => \" \", \"metrics\" => Dict{String, Any}(\"complexity\" => 6.0, \"centrality\" => 0, \"blocking factor\" => 0, \"delay factor\" => 6.0), \"nameSub\" => \"AE Option\", \"id\" => 37, \"credits\" => 3, \"nameCanonical\" => \"\"), Dict(\"curriculum_requisites\" => Dict{String, Any}[Dict(\"source_id\" => 34, \"target_id\" => 38, \"type\" => \"CurriculumCorequisite\"), Dict(\"source_id\" => 27, \"target_id\" => 38, \"type\" => \"CurriculumPrerequisite\")], \"name\" => \"AE 4531\", \"metrics\" => Dict{String, Any}(\"complexity\" => 7.0, \"centrality\" => 0, \"blocking factor\" => 0, \"delay factor\" => 7.0), \"nameSub\" => \"Aircraft Flt Dynamics\", \"id\" => 38, \"credits\" => 3, \"nameCanonical\" => \"\"), Dict(\"curriculum_requisites\" => Dict{String, Any}[Dict(\"source_id\" => 27, \"target_id\" => 39, \"type\" => \"CurriculumPrerequisite\"), Dict(\"source_id\" => 28, \"target_id\" => 39, \"type\" => \"CurriculumPrerequisite\")], \"name\" => \"AE 4532\", \"metrics\" => Dict{String, Any}(\"complexity\" => 7.0, \"centrality\" => 0, \"blocking factor\" => 0, \"delay factor\" => 7.0), \"nameSub\" => \"Spacecraft Flt Dynamics\", \"id\" => 39, \"credits\" => 3, \"nameCanonical\" => \"\"), Dict(\"curriculum_requisites\" => Dict{String, Any}[], \"name\" => \" \", \"metrics\" => Dict{String, Any}(\"complexity\" => 1.0, \"centrality\" => 0, \"blocking factor\" => 0, \"delay factor\" => 1.0), \"nameSub\" => \"Humanities Elective\", \"id\" => 40, \"credits\" => 3, \"nameCanonical\" => \"\"), Dict(\"curriculum_requisites\" => Dict{String, Any}[], \"name\" => \" \", \"metrics\" => Dict{String, Any}(\"complexity\" => 1.0, \"centrality\" => 0, \"blocking factor\" => 0, \"delay factor\" => 1.0), \"nameSub\" => \"Free Elective\", \"id\" => 41, \"credits\" => 3, \"nameCanonical\" => \"\"), Dict(\"curriculum_requisites\" => Dict{String, Any}[], \"name\" => \" \", \"metrics\" => Dict{String, Any}(\"complexity\" => 1.0, \"centrality\" => 0, \"blocking factor\" => 0, \"delay factor\" => 1.0), \"nameSub\" => \"Social Science Elective\", \"id\" => 42, \"credits\" => 3, \"nameCanonical\" => \"\")], \"id\" => 8), Dict(\"name\" => \"Term 9\", \"curriculum_items\" => Dict{String, Any}[Dict(\"curriculum_requisites\" => Dict{String, Any}[Dict(\"source_id\" => 34, \"target_id\" => 43, \"type\" => \"CurriculumPrerequisite\"), Dict(\"source_id\" => 21, \"target_id\" => 43, \"type\" => \"CurriculumPrerequisite\"), Dict(\"source_id\" => 19, \"target_id\" => 43, \"type\" => \"CurriculumPrerequisite\")], \"name\" => \"AE 4610\", \"metrics\" => Dict{String, Any}(\"complexity\" => 7.0, \"centrality\" => 0, \"blocking factor\" => 0, \"delay factor\" => 7.0), \"nameSub\" => \"Dynamics & Controls Lab\", \"id\" => 43, \"credits\" => 2, \"nameCanonical\" => \"\"), Dict(\"curriculum_requisites\" => Dict{String, Any}[Dict(\"source_id\" => 26, \"target_id\" => 44, \"type\" => \"CurriculumPrerequisite\"), Dict(\"source_id\" => 28, \"target_id\" => 44, \"type\" => \"CurriculumPrerequisite\")], \"name\" => \" \", \"metrics\" => Dict{String, Any}(\"complexity\" => 6.0, \"centrality\" => 0, \"blocking factor\" => 0, \"delay factor\" => 6.0), \"nameSub\" => \"AE Option \", \"id\" => 44, \"credits\" => 3, \"nameCanonical\" => \"\"), Dict(\"curriculum_requisites\" => Dict{String, Any}[Dict(\"source_id\" => 26, \"target_id\" => 45, \"type\" => \"CurriculumPrerequisite\")], \"name\" => \" \", \"metrics\" => Dict{String, Any}(\"complexity\" => 6.0, \"centrality\" => 0, \"blocking factor\" => 0, \"delay factor\" => 6.0), \"nameSub\" => \"AE Option\", \"id\" => 45, \"credits\" => 2, \"nameCanonical\" => \"\"), Dict(\"curriculum_requisites\" => Dict{String, Any}[], \"name\" => \" \", \"metrics\" => Dict{String, Any}(\"complexity\" => 1.0, \"centrality\" => 0, \"blocking factor\" => 0, \"delay factor\" => 1.0), \"nameSub\" => \"Humanities Elective\", \"id\" => 46, \"credits\" => 3, \"nameCanonical\" => \"\"), Dict(\"curriculum_requisites\" => Dict{String, Any}[], \"name\" => \" \", \"metrics\" => Dict{String, Any}(\"complexity\" => 1.0, \"centrality\" => 0, \"blocking factor\" => 0, \"delay factor\" => 1.0), \"nameSub\" => \"Free Elective\", \"id\" => 47, \"credits\" => 3, \"nameCanonical\" => \"\"), Dict(\"curriculum_requisites\" => Dict{String, Any}[], \"name\" => \" \", \"metrics\" => Dict{String, Any}(\"complexity\" => 1.0, \"centrality\" => 0, \"blocking factor\" => 0, \"delay factor\" => 1.0), \"nameSub\" => \"Social Science Elective\", \"id\" => 48, \"credits\" => 3, \"nameCanonical\" => \"\")], \"id\" => 9)], \"institution\" => \"Georgia Institute of Technology\")), nothing)), Set{String}(), nothing, WebIO.Asset[], Dict{Any, Any}(), WebIO.ConnectionPool(Channel{Any}(32), Set{WebIO.AbstractConnection}(), Condition(Base.InvasiveLinkedList{Task}(Task (runnable) @0x000000011ef98340, Task (runnable) @0x000000011ef98340), Base.AlwaysLockedST(1))), WebIO.JSString[])"
      ]
     },
     "execution_count": 73,
     "metadata": {
      "application/vnd.webio.node+json": {
       "kernelId": "a39c6238-ca0e-48ee-9ca4-865bd5853f2a"
      }
     },
     "output_type": "execute_result"
    }
   ],
   "source": [
    "AE_plan = plans[\"Aerospace Engineering\"]\n",
    "visualize(AE_plan, notebook=true)"
   ]
  },
  {
   "cell_type": "code",
   "execution_count": 74,
   "metadata": {},
   "outputs": [
    {
     "data": {
      "application/vnd.webio.node+json": {
       "children": [
        {
         "children": [
          ""
         ],
         "instanceArgs": {
          "namespace": "html",
          "tag": "iframe"
         },
         "nodeType": "DOM",
         "props": {
          "events": {
           "load": "(function (){this.contentWindow.postMessage({\"options\":{\"hideTerms\":false,\"edit\":false},\"curriculum\":{\"name\":\"Electrical Engineering - Electronic Devices and Circuit Technology\",\"dp_name\":\"2021-22 Plan\",\"curriculum_terms\":[{\"name\":\"Term 1\",\"curriculum_items\":[{\"curriculum_requisites\":[],\"name\":\"CHEM 1310\",\"metrics\":{\"complexity\":6.0,\"centrality\":0,\"blocking factor\":3,\"delay factor\":3.0},\"nameSub\":\"General Chemistry\",\"id\":1,\"credits\":4,\"nameCanonical\":\"\"},{\"curriculum_requisites\":[],\"name\":\"CS 1301\",\"metrics\":{\"complexity\":16.0,\"centrality\":0,\"blocking factor\":10,\"delay factor\":6.0},\"nameSub\":\"Intro to Computing\",\"id\":2,\"credits\":3,\"nameCanonical\":\"\"},{\"curriculum_requisites\":[],\"name\":\"ECE 1100\",\"metrics\":{\"complexity\":1.0,\"centrality\":0,\"blocking factor\":0,\"delay factor\":1.0},\"nameSub\":\"ECE Discovery Studio\",\"id\":3,\"credits\":1,\"nameCanonical\":\"\"},{\"curriculum_requisites\":[],\"name\":\"ENGL 1101\",\"metrics\":{\"complexity\":3.0,\"centrality\":0,\"blocking factor\":1,\"delay factor\":2.0},\"nameSub\":\"English Composition I\",\"id\":4,\"credits\":3,\"nameCanonical\":\"\"},{\"curriculum_requisites\":[],\"name\":\"MATH 1551\",\"metrics\":{\"complexity\":27.0,\"centrality\":0,\"blocking factor\":19,\"delay factor\":8.0},\"nameSub\":\"Differential Calculus\",\"id\":5,\"credits\":2,\"nameCanonical\":\"\"},{\"curriculum_requisites\":[{\"source_id\":5,\"target_id\":6,\"type\":\"CurriculumCorequisite\"}],\"name\":\"MATH 1554\",\"metrics\":{\"complexity\":19.0,\"centrality\":55,\"blocking factor\":12,\"delay factor\":7.0},\"nameSub\":\"Linear Algebra\",\"id\":6,\"credits\":4,\"nameCanonical\":\"\"}],\"id\":1},{\"name\":\"Term 2\",\"curriculum_items\":[{\"curriculum_requisites\":[{\"source_id\":2,\"target_id\":7,\"type\":\"CurriculumPrerequisite\"}],\"name\":\"ECE 2020\",\"metrics\":{\"complexity\":11.0,\"centrality\":41,\"blocking factor\":5,\"delay factor\":6.0},\"nameSub\":\"Fund. of Digital System Design\",\"id\":7,\"credits\":3,\"nameCanonical\":\"\"},{\"curriculum_requisites\":[{\"source_id\":4,\"target_id\":8,\"type\":\"CurriculumPrerequisite\"}],\"name\":\"ENGL 1102\",\"metrics\":{\"complexity\":2.0,\"centrality\":0,\"blocking factor\":0,\"delay factor\":2.0},\"nameSub\":\"English Composition II\",\"id\":8,\"credits\":3,\"nameCanonical\":\"\"},{\"curriculum_requisites\":[{\"source_id\":5,\"target_id\":9,\"type\":\"CurriculumPrerequisite\"}],\"name\":\"MATH 1552\",\"metrics\":{\"complexity\":25.0,\"centrality\":111,\"blocking factor\":17,\"delay factor\":8.0},\"nameSub\":\"Integral Calculus\",\"id\":9,\"credits\":4,\"nameCanonical\":\"\"},{\"curriculum_requisites\":[{\"source_id\":9,\"target_id\":10,\"type\":\"CurriculumCorequisite\"}],\"name\":\"PHYS  2211\",\"metrics\":{\"complexity\":20.0,\"centrality\":46,\"blocking factor\":12,\"delay factor\":8.0},\"nameSub\":\"Intro Physics 1\",\"id\":10,\"credits\":4,\"nameCanonical\":\"\"},{\"curriculum_requisites\":[],\"name\":\" \",\"metrics\":{\"complexity\":1.0,\"centrality\":0,\"blocking factor\":0,\"delay factor\":1.0},\"nameSub\":\"History/Government Elective\",\"id\":11,\"credits\":3,\"nameCanonical\":\"\"}],\"id\":2},{\"name\":\"Term 3\",\"curriculum_items\":[{\"curriculum_requisites\":[{\"source_id\":2,\"target_id\":12,\"type\":\"CurriculumPrerequisite\"},{\"source_id\":9,\"target_id\":12,\"type\":\"CurriculumPrerequisite\"}],\"name\":\"ECE 2026\",\"metrics\":{\"complexity\":9.0,\"centrality\":11,\"blocking factor\":3,\"delay factor\":6.0},\"nameSub\":\"Intro. to Signal Processing\",\"id\":12,\"credits\":3,\"nameCanonical\":\"\"},{\"curriculum_requisites\":[],\"name\":\" \",\"metrics\":{\"complexity\":1.0,\"centrality\":0,\"blocking factor\":0,\"delay factor\":1.0},\"nameSub\":\"Econ/Social Science Elective\",\"id\":13,\"credits\":3,\"nameCanonical\":\"\"},{\"curriculum_requisites\":[],\"name\":\" \",\"metrics\":{\"complexity\":1.0,\"centrality\":0,\"blocking factor\":0,\"delay factor\":1.0},\"nameSub\":\"Humanities Elective\",\"id\":14,\"credits\":3,\"nameCanonical\":\"\"},{\"curriculum_requisites\":[{\"source_id\":6,\"target_id\":15,\"type\":\"CurriculumPrerequisite\"},{\"source_id\":9,\"target_id\":15,\"type\":\"CurriculumPrerequisite\"}],\"name\":\"MATH 2552\",\"metrics\":{\"complexity\":18.0,\"centrality\":110,\"blocking factor\":11,\"delay factor\":7.0},\"nameSub\":\"Differential Equations\",\"id\":15,\"credits\":4,\"nameCanonical\":\"\"},{\"curriculum_requisites\":[{\"source_id\":10,\"target_id\":16,\"type\":\"CurriculumPrerequisite\"}],\"name\":\"PHYS  2212\",\"metrics\":{\"complexity\":19.0,\"centrality\":46,\"blocking factor\":11,\"delay factor\":8.0},\"nameSub\":\"Intro. Physics 2\",\"id\":16,\"credits\":4,\"nameCanonical\":\"\"}],\"id\":3},{\"name\":\"Term 4\",\"curriculum_items\":[{\"curriculum_requisites\":[{\"source_id\":7,\"target_id\":17,\"type\":\"CurriculumPrerequisite\"},{\"source_id\":18,\"target_id\":17,\"type\":\"CurriculumCorequisite\"}],\"name\":\"ECE 2031\",\"metrics\":{\"complexity\":9.0,\"centrality\":31,\"blocking factor\":3,\"delay factor\":6.0},\"nameSub\":\"Digital Design Lab\",\"id\":17,\"credits\":2,\"nameCanonical\":\"\"},{\"curriculum_requisites\":[{\"source_id\":7,\"target_id\":18,\"type\":\"CurriculumPrerequisite\"}],\"name\":\"ECE 2035\",\"metrics\":{\"complexity\":10.0,\"centrality\":27,\"blocking factor\":4,\"delay factor\":6.0},\"nameSub\":\"Programming Elective\",\"id\":18,\"credits\":4,\"nameCanonical\":\"\"},{\"curriculum_requisites\":[{\"source_id\":16,\"target_id\":19,\"type\":\"CurriculumPrerequisite\"},{\"source_id\":15,\"target_id\":19,\"type\":\"CurriculumPrerequisite\"}],\"name\":\"ECE 2040\",\"metrics\":{\"complexity\":18.0,\"centrality\":124,\"blocking factor\":10,\"delay factor\":8.0},\"nameSub\":\"Circuit Analysis\",\"id\":19,\"credits\":3,\"nameCanonical\":\"\"},{\"curriculum_requisites\":[{\"source_id\":9,\"target_id\":20,\"type\":\"CurriculumPrerequisite\"}],\"name\":\"MATH 2551\",\"metrics\":{\"complexity\":5.0,\"centrality\":4,\"blocking factor\":1,\"delay factor\":4.0},\"nameSub\":\"Multivariate Calculus\",\"id\":20,\"credits\":4,\"nameCanonical\":\"\"},{\"curriculum_requisites\":[],\"name\":\" \",\"metrics\":{\"complexity\":1.0,\"centrality\":0,\"blocking factor\":0,\"delay factor\":1.0},\"nameSub\":\"Science Elective\",\"id\":21,\"credits\":3,\"nameCanonical\":\"\"}],\"id\":4},{\"name\":\"Term 5\",\"curriculum_items\":[{\"curriculum_requisites\":[{\"source_id\":15,\"target_id\":22,\"type\":\"CurriculumPrerequisite\"},{\"source_id\":18,\"target_id\":22,\"type\":\"CurriculumPrerequisite\"},{\"source_id\":17,\"target_id\":22,\"type\":\"CurriculumPrerequisite\"},{\"source_id\":1,\"target_id\":22,\"type\":\"CurriculumPrerequisite\"},{\"source_id\":19,\"target_id\":22,\"type\":\"CurriculumPrerequisite\"}],\"name\":\"ECE 3040\",\"metrics\":{\"complexity\":9.0,\"centrality\":96,\"blocking factor\":2,\"delay factor\":7.0},\"nameSub\":\"Microelectronic Circuits\",\"id\":22,\"credits\":4,\"nameCanonical\":\"\"},{\"curriculum_requisites\":[{\"source_id\":22,\"target_id\":23,\"type\":\"CurriculumCorequisite\"},{\"source_id\":17,\"target_id\":23,\"type\":\"CurriculumPrerequisite\"}],\"name\":\"ECE 3043\",\"metrics\":{\"complexity\":7.0,\"centrality\":0,\"blocking factor\":0,\"delay factor\":7.0},\"nameSub\":\"Measurements, Circuits and Microelectronics Lab\",\"id\":23,\"credits\":2,\"nameCanonical\":\"\"},{\"curriculum_requisites\":[{\"source_id\":15,\"target_id\":24,\"type\":\"CurriculumPrerequisite\"},{\"source_id\":12,\"target_id\":24,\"type\":\"CurriculumPrerequisite\"},{\"source_id\":19,\"target_id\":24,\"type\":\"CurriculumPrerequisite\"}],\"name\":\"ECE 3025\",\"metrics\":{\"complexity\":10.0,\"centrality\":45,\"blocking factor\":2,\"delay factor\":8.0},\"nameSub\":\"Electromagnetics\",\"id\":24,\"credits\":3,\"nameCanonical\":\"\"},{\"curriculum_requisites\":[{\"source_id\":20,\"target_id\":25,\"type\":\"CurriculumPrerequisite\"}],\"name\":\" \",\"metrics\":{\"complexity\":4.0,\"centrality\":0,\"blocking factor\":0,\"delay factor\":4.0},\"nameSub\":\"Prob & Stat Elective\",\"id\":25,\"credits\":3,\"nameCanonical\":\"\"},{\"curriculum_requisites\":[],\"name\":\"APPH 1040\",\"metrics\":{\"complexity\":1.0,\"centrality\":0,\"blocking factor\":0,\"delay factor\":1.0},\"nameSub\":\"\",\"id\":26,\"credits\":2,\"nameCanonical\":\"\"},{\"curriculum_requisites\":[],\"name\":\" \",\"metrics\":{\"complexity\":1.0,\"centrality\":0,\"blocking factor\":0,\"delay factor\":1.0},\"nameSub\":\"Humanities Elective\",\"id\":27,\"credits\":3,\"nameCanonical\":\"\"}],\"id\":5},{\"name\":\"Term 6\",\"curriculum_items\":[{\"curriculum_requisites\":[],\"name\":\"ECE 3005\",\"metrics\":{\"complexity\":1.0,\"centrality\":0,\"blocking factor\":0,\"delay factor\":1.0},\"nameSub\":\"\",\"id\":28,\"credits\":1,\"nameCanonical\":\"\"},{\"curriculum_requisites\":[],\"name\":\" \",\"metrics\":{\"complexity\":1.0,\"centrality\":0,\"blocking factor\":0,\"delay factor\":1.0},\"nameSub\":\"Elective Hours\",\"id\":29,\"credits\":3,\"nameCanonical\":\"\"},{\"curriculum_requisites\":[],\"name\":\"ECE 3450\",\"metrics\":{\"complexity\":1.0,\"centrality\":0,\"blocking factor\":0,\"delay factor\":1.0},\"nameSub\":\"\",\"id\":30,\"credits\":3,\"nameCanonical\":\"\"},{\"curriculum_requisites\":[],\"name\":\"ECE 3400\",\"metrics\":{\"complexity\":1.0,\"centrality\":0,\"blocking factor\":0,\"delay factor\":1.0},\"nameSub\":\"\",\"id\":31,\"credits\":3,\"nameCanonical\":\"\"},{\"curriculum_requisites\":[],\"name\":\" \",\"metrics\":{\"complexity\":1.0,\"centrality\":0,\"blocking factor\":0,\"delay factor\":1.0},\"nameSub\":\"Social Science Elective\",\"id\":32,\"credits\":3,\"nameCanonical\":\"\"},{\"curriculum_requisites\":[],\"name\":\" \",\"metrics\":{\"complexity\":1.0,\"centrality\":0,\"blocking factor\":0,\"delay factor\":1.0},\"nameSub\":\"Elective Hours\",\"id\":33,\"credits\":3,\"nameCanonical\":\"\"}],\"id\":6},{\"name\":\"Term 7\",\"curriculum_items\":[{\"curriculum_requisites\":[{\"source_id\":24,\"target_id\":35,\"type\":\"CurriculumPrerequisite\"}],\"name\":\" \",\"metrics\":{\"complexity\":9.0,\"centrality\":45,\"blocking factor\":1,\"delay factor\":8.0},\"nameSub\":\"Senior Design Sequence\",\"id\":35,\"credits\":1,\"nameCanonical\":\"\"},{\"curriculum_requisites\":[{\"source_id\":22,\"target_id\":36,\"type\":\"CurriculumPrerequisite\"}],\"name\":\" \",\"metrics\":{\"complexity\":7.0,\"centrality\":0,\"blocking factor\":0,\"delay factor\":7.0},\"nameSub\":\"Electronic Devices Topics\",\"id\":36,\"credits\":3,\"nameCanonical\":\"\"},{\"curriculum_requisites\":[{\"source_id\":19,\"target_id\":37,\"type\":\"CurriculumPrerequisite\"}],\"name\":\" \",\"metrics\":{\"complexity\":6.0,\"centrality\":0,\"blocking factor\":0,\"delay factor\":6.0},\"nameSub\":\"ECE 3000/4000 Elective\",\"id\":37,\"credits\":3,\"nameCanonical\":\"\"},{\"curriculum_requisites\":[],\"name\":\"ECE 4452\",\"metrics\":{\"complexity\":1.0,\"centrality\":0,\"blocking factor\":0,\"delay factor\":1.0},\"nameSub\":\"\",\"id\":38,\"credits\":3,\"nameCanonical\":\"\"},{\"curriculum_requisites\":[],\"name\":\" \",\"metrics\":{\"complexity\":1.0,\"centrality\":0,\"blocking factor\":0,\"delay factor\":1.0},\"nameSub\":\"Elective Hours\",\"id\":39,\"credits\":2,\"nameCanonical\":\"\"},{\"curriculum_requisites\":[],\"name\":\" \",\"metrics\":{\"complexity\":1.0,\"centrality\":0,\"blocking factor\":0,\"delay factor\":1.0},\"nameSub\":\"Social Science Elective\",\"id\":40,\"credits\":3,\"nameCanonical\":\"\"}],\"id\":7},{\"name\":\"Term 8\",\"curriculum_items\":[{\"curriculum_requisites\":[{\"source_id\":35,\"target_id\":41,\"type\":\"CurriculumPrerequisite\"}],\"name\":\" \",\"metrics\":{\"complexity\":8.0,\"centrality\":0,\"blocking factor\":0,\"delay factor\":8.0},\"nameSub\":\"Senior Design Sequence\",\"id\":41,\"credits\":2,\"nameCanonical\":\"\"},{\"curriculum_requisites\":[{\"source_id\":19,\"target_id\":42,\"type\":\"CurriculumPrerequisite\"}],\"name\":\" \",\"metrics\":{\"complexity\":6.0,\"centrality\":0,\"blocking factor\":0,\"delay factor\":6.0},\"nameSub\":\"ECE 3000/4000 Elective\",\"id\":42,\"credits\":3,\"nameCanonical\":\"\"},{\"curriculum_requisites\":[{\"source_id\":19,\"target_id\":43,\"type\":\"CurriculumPrerequisite\"}],\"name\":\" \",\"metrics\":{\"complexity\":6.0,\"centrality\":0,\"blocking factor\":0,\"delay factor\":6.0},\"nameSub\":\"ECE 3000/4000 Elective\",\"id\":43,\"credits\":3,\"nameCanonical\":\"\"},{\"curriculum_requisites\":[],\"name\":\" \",\"metrics\":{\"complexity\":1.0,\"centrality\":0,\"blocking factor\":0,\"delay factor\":1.0},\"nameSub\":\"Elective Hours\",\"id\":44,\"credits\":3,\"nameCanonical\":\"\"},{\"curriculum_requisites\":[{\"source_id\":19,\"target_id\":45,\"type\":\"CurriculumPrerequisite\"}],\"name\":\" \",\"metrics\":{\"complexity\":6.0,\"centrality\":0,\"blocking factor\":0,\"delay factor\":6.0},\"nameSub\":\"Circuit Technologies Topics\",\"id\":45,\"credits\":3,\"nameCanonical\":\"\"}],\"id\":8}],\"institution\":\"Georgia Institute of Technology\"}},\"*\"); window.removeEventListener(\"message\",window.messageReceived); window.messageReceived=(function (event){return (event.data.curriculum!==undefined) ? (WebIO.setval({\"name\":\"curriculum-data\",\"scope\":\"6514538879447663807\",\"id\":\"2355412272623310522\",\"type\":\"observable\"},event.data.curriculum)) : undefined}); return window.addEventListener(\"message\",window.messageReceived)})"
          },
          "id": "curriculum",
          "src": "https://curricula-api-embed.damoursystems.com/",
          "style": {
           "border": "none",
           "height": "100vh",
           "margin": "0",
           "padding": "0",
           "width": "100%"
          }
         },
         "type": "node"
        }
       ],
       "instanceArgs": {
        "handlers": {},
        "id": "6514538879447663807",
        "imports": {
         "data": [],
         "type": "async_block"
        },
        "mount_callbacks": [],
        "observables": {
         "curriculum-data": {
          "id": "2355412272623310522",
          "sync": true,
          "value": {
           "curriculum": {
            "curriculum_terms": [
             {
              "curriculum_items": [
               {
                "credits": 4,
                "curriculum_requisites": [],
                "id": 1,
                "metrics": {
                 "blocking factor": 3,
                 "centrality": 0,
                 "complexity": 6,
                 "delay factor": 3
                },
                "name": "CHEM 1310",
                "nameCanonical": "",
                "nameSub": "General Chemistry"
               },
               {
                "credits": 3,
                "curriculum_requisites": [],
                "id": 2,
                "metrics": {
                 "blocking factor": 10,
                 "centrality": 0,
                 "complexity": 16,
                 "delay factor": 6
                },
                "name": "CS 1301",
                "nameCanonical": "",
                "nameSub": "Intro to Computing"
               },
               {
                "credits": 1,
                "curriculum_requisites": [],
                "id": 3,
                "metrics": {
                 "blocking factor": 0,
                 "centrality": 0,
                 "complexity": 1,
                 "delay factor": 1
                },
                "name": "ECE 1100",
                "nameCanonical": "",
                "nameSub": "ECE Discovery Studio"
               },
               {
                "credits": 3,
                "curriculum_requisites": [],
                "id": 4,
                "metrics": {
                 "blocking factor": 1,
                 "centrality": 0,
                 "complexity": 3,
                 "delay factor": 2
                },
                "name": "ENGL 1101",
                "nameCanonical": "",
                "nameSub": "English Composition I"
               },
               {
                "credits": 2,
                "curriculum_requisites": [],
                "id": 5,
                "metrics": {
                 "blocking factor": 19,
                 "centrality": 0,
                 "complexity": 27,
                 "delay factor": 8
                },
                "name": "MATH 1551",
                "nameCanonical": "",
                "nameSub": "Differential Calculus"
               },
               {
                "credits": 4,
                "curriculum_requisites": [
                 {
                  "source_id": 5,
                  "target_id": 6,
                  "type": "CurriculumCorequisite"
                 }
                ],
                "id": 6,
                "metrics": {
                 "blocking factor": 12,
                 "centrality": 55,
                 "complexity": 19,
                 "delay factor": 7
                },
                "name": "MATH 1554",
                "nameCanonical": "",
                "nameSub": "Linear Algebra"
               }
              ],
              "id": 1,
              "name": "Term 1"
             },
             {
              "curriculum_items": [
               {
                "credits": 3,
                "curriculum_requisites": [
                 {
                  "source_id": 2,
                  "target_id": 7,
                  "type": "CurriculumPrerequisite"
                 }
                ],
                "id": 7,
                "metrics": {
                 "blocking factor": 5,
                 "centrality": 41,
                 "complexity": 11,
                 "delay factor": 6
                },
                "name": "ECE 2020",
                "nameCanonical": "",
                "nameSub": "Fund. of Digital System Design"
               },
               {
                "credits": 3,
                "curriculum_requisites": [
                 {
                  "source_id": 4,
                  "target_id": 8,
                  "type": "CurriculumPrerequisite"
                 }
                ],
                "id": 8,
                "metrics": {
                 "blocking factor": 0,
                 "centrality": 0,
                 "complexity": 2,
                 "delay factor": 2
                },
                "name": "ENGL 1102",
                "nameCanonical": "",
                "nameSub": "English Composition II"
               },
               {
                "credits": 4,
                "curriculum_requisites": [
                 {
                  "source_id": 5,
                  "target_id": 9,
                  "type": "CurriculumPrerequisite"
                 }
                ],
                "id": 9,
                "metrics": {
                 "blocking factor": 17,
                 "centrality": 111,
                 "complexity": 25,
                 "delay factor": 8
                },
                "name": "MATH 1552",
                "nameCanonical": "",
                "nameSub": "Integral Calculus"
               },
               {
                "credits": 4,
                "curriculum_requisites": [
                 {
                  "source_id": 9,
                  "target_id": 10,
                  "type": "CurriculumCorequisite"
                 }
                ],
                "id": 10,
                "metrics": {
                 "blocking factor": 12,
                 "centrality": 46,
                 "complexity": 20,
                 "delay factor": 8
                },
                "name": "PHYS  2211",
                "nameCanonical": "",
                "nameSub": "Intro Physics 1"
               },
               {
                "credits": 3,
                "curriculum_requisites": [],
                "id": 11,
                "metrics": {
                 "blocking factor": 0,
                 "centrality": 0,
                 "complexity": 1,
                 "delay factor": 1
                },
                "name": " ",
                "nameCanonical": "",
                "nameSub": "History/Government Elective"
               }
              ],
              "id": 2,
              "name": "Term 2"
             },
             {
              "curriculum_items": [
               {
                "credits": 3,
                "curriculum_requisites": [
                 {
                  "source_id": 2,
                  "target_id": 12,
                  "type": "CurriculumPrerequisite"
                 },
                 {
                  "source_id": 9,
                  "target_id": 12,
                  "type": "CurriculumPrerequisite"
                 }
                ],
                "id": 12,
                "metrics": {
                 "blocking factor": 3,
                 "centrality": 11,
                 "complexity": 9,
                 "delay factor": 6
                },
                "name": "ECE 2026",
                "nameCanonical": "",
                "nameSub": "Intro. to Signal Processing"
               },
               {
                "credits": 3,
                "curriculum_requisites": [],
                "id": 13,
                "metrics": {
                 "blocking factor": 0,
                 "centrality": 0,
                 "complexity": 1,
                 "delay factor": 1
                },
                "name": " ",
                "nameCanonical": "",
                "nameSub": "Econ/Social Science Elective"
               },
               {
                "credits": 3,
                "curriculum_requisites": [],
                "id": 14,
                "metrics": {
                 "blocking factor": 0,
                 "centrality": 0,
                 "complexity": 1,
                 "delay factor": 1
                },
                "name": " ",
                "nameCanonical": "",
                "nameSub": "Humanities Elective"
               },
               {
                "credits": 4,
                "curriculum_requisites": [
                 {
                  "source_id": 6,
                  "target_id": 15,
                  "type": "CurriculumPrerequisite"
                 },
                 {
                  "source_id": 9,
                  "target_id": 15,
                  "type": "CurriculumPrerequisite"
                 }
                ],
                "id": 15,
                "metrics": {
                 "blocking factor": 11,
                 "centrality": 110,
                 "complexity": 18,
                 "delay factor": 7
                },
                "name": "MATH 2552",
                "nameCanonical": "",
                "nameSub": "Differential Equations"
               },
               {
                "credits": 4,
                "curriculum_requisites": [
                 {
                  "source_id": 10,
                  "target_id": 16,
                  "type": "CurriculumPrerequisite"
                 }
                ],
                "id": 16,
                "metrics": {
                 "blocking factor": 11,
                 "centrality": 46,
                 "complexity": 19,
                 "delay factor": 8
                },
                "name": "PHYS  2212",
                "nameCanonical": "",
                "nameSub": "Intro. Physics 2"
               }
              ],
              "id": 3,
              "name": "Term 3"
             },
             {
              "curriculum_items": [
               {
                "credits": 2,
                "curriculum_requisites": [
                 {
                  "source_id": 7,
                  "target_id": 17,
                  "type": "CurriculumPrerequisite"
                 },
                 {
                  "source_id": 18,
                  "target_id": 17,
                  "type": "CurriculumCorequisite"
                 }
                ],
                "id": 17,
                "metrics": {
                 "blocking factor": 3,
                 "centrality": 31,
                 "complexity": 9,
                 "delay factor": 6
                },
                "name": "ECE 2031",
                "nameCanonical": "",
                "nameSub": "Digital Design Lab"
               },
               {
                "credits": 4,
                "curriculum_requisites": [
                 {
                  "source_id": 7,
                  "target_id": 18,
                  "type": "CurriculumPrerequisite"
                 }
                ],
                "id": 18,
                "metrics": {
                 "blocking factor": 4,
                 "centrality": 27,
                 "complexity": 10,
                 "delay factor": 6
                },
                "name": "ECE 2035",
                "nameCanonical": "",
                "nameSub": "Programming Elective"
               },
               {
                "credits": 3,
                "curriculum_requisites": [
                 {
                  "source_id": 16,
                  "target_id": 19,
                  "type": "CurriculumPrerequisite"
                 },
                 {
                  "source_id": 15,
                  "target_id": 19,
                  "type": "CurriculumPrerequisite"
                 }
                ],
                "id": 19,
                "metrics": {
                 "blocking factor": 10,
                 "centrality": 124,
                 "complexity": 18,
                 "delay factor": 8
                },
                "name": "ECE 2040",
                "nameCanonical": "",
                "nameSub": "Circuit Analysis"
               },
               {
                "credits": 4,
                "curriculum_requisites": [
                 {
                  "source_id": 9,
                  "target_id": 20,
                  "type": "CurriculumPrerequisite"
                 }
                ],
                "id": 20,
                "metrics": {
                 "blocking factor": 1,
                 "centrality": 4,
                 "complexity": 5,
                 "delay factor": 4
                },
                "name": "MATH 2551",
                "nameCanonical": "",
                "nameSub": "Multivariate Calculus"
               },
               {
                "credits": 3,
                "curriculum_requisites": [],
                "id": 21,
                "metrics": {
                 "blocking factor": 0,
                 "centrality": 0,
                 "complexity": 1,
                 "delay factor": 1
                },
                "name": " ",
                "nameCanonical": "",
                "nameSub": "Science Elective"
               }
              ],
              "id": 4,
              "name": "Term 4"
             },
             {
              "curriculum_items": [
               {
                "credits": 4,
                "curriculum_requisites": [
                 {
                  "source_id": 15,
                  "target_id": 22,
                  "type": "CurriculumPrerequisite"
                 },
                 {
                  "source_id": 18,
                  "target_id": 22,
                  "type": "CurriculumPrerequisite"
                 },
                 {
                  "source_id": 17,
                  "target_id": 22,
                  "type": "CurriculumPrerequisite"
                 },
                 {
                  "source_id": 1,
                  "target_id": 22,
                  "type": "CurriculumPrerequisite"
                 },
                 {
                  "source_id": 19,
                  "target_id": 22,
                  "type": "CurriculumPrerequisite"
                 }
                ],
                "id": 22,
                "metrics": {
                 "blocking factor": 2,
                 "centrality": 96,
                 "complexity": 9,
                 "delay factor": 7
                },
                "name": "ECE 3040",
                "nameCanonical": "",
                "nameSub": "Microelectronic Circuits"
               },
               {
                "credits": 2,
                "curriculum_requisites": [
                 {
                  "source_id": 22,
                  "target_id": 23,
                  "type": "CurriculumCorequisite"
                 },
                 {
                  "source_id": 17,
                  "target_id": 23,
                  "type": "CurriculumPrerequisite"
                 }
                ],
                "id": 23,
                "metrics": {
                 "blocking factor": 0,
                 "centrality": 0,
                 "complexity": 7,
                 "delay factor": 7
                },
                "name": "ECE 3043",
                "nameCanonical": "",
                "nameSub": "Measurements, Circuits and Microelectronics Lab"
               },
               {
                "credits": 3,
                "curriculum_requisites": [
                 {
                  "source_id": 15,
                  "target_id": 24,
                  "type": "CurriculumPrerequisite"
                 },
                 {
                  "source_id": 12,
                  "target_id": 24,
                  "type": "CurriculumPrerequisite"
                 },
                 {
                  "source_id": 19,
                  "target_id": 24,
                  "type": "CurriculumPrerequisite"
                 }
                ],
                "id": 24,
                "metrics": {
                 "blocking factor": 2,
                 "centrality": 45,
                 "complexity": 10,
                 "delay factor": 8
                },
                "name": "ECE 3025",
                "nameCanonical": "",
                "nameSub": "Electromagnetics"
               },
               {
                "credits": 3,
                "curriculum_requisites": [
                 {
                  "source_id": 20,
                  "target_id": 25,
                  "type": "CurriculumPrerequisite"
                 }
                ],
                "id": 25,
                "metrics": {
                 "blocking factor": 0,
                 "centrality": 0,
                 "complexity": 4,
                 "delay factor": 4
                },
                "name": " ",
                "nameCanonical": "",
                "nameSub": "Prob & Stat Elective"
               },
               {
                "credits": 2,
                "curriculum_requisites": [],
                "id": 26,
                "metrics": {
                 "blocking factor": 0,
                 "centrality": 0,
                 "complexity": 1,
                 "delay factor": 1
                },
                "name": "APPH 1040",
                "nameCanonical": "",
                "nameSub": ""
               },
               {
                "credits": 3,
                "curriculum_requisites": [],
                "id": 27,
                "metrics": {
                 "blocking factor": 0,
                 "centrality": 0,
                 "complexity": 1,
                 "delay factor": 1
                },
                "name": " ",
                "nameCanonical": "",
                "nameSub": "Humanities Elective"
               }
              ],
              "id": 5,
              "name": "Term 5"
             },
             {
              "curriculum_items": [
               {
                "credits": 1,
                "curriculum_requisites": [],
                "id": 28,
                "metrics": {
                 "blocking factor": 0,
                 "centrality": 0,
                 "complexity": 1,
                 "delay factor": 1
                },
                "name": "ECE 3005",
                "nameCanonical": "",
                "nameSub": ""
               },
               {
                "credits": 3,
                "curriculum_requisites": [],
                "id": 29,
                "metrics": {
                 "blocking factor": 0,
                 "centrality": 0,
                 "complexity": 1,
                 "delay factor": 1
                },
                "name": " ",
                "nameCanonical": "",
                "nameSub": "Elective Hours"
               },
               {
                "credits": 3,
                "curriculum_requisites": [],
                "id": 30,
                "metrics": {
                 "blocking factor": 0,
                 "centrality": 0,
                 "complexity": 1,
                 "delay factor": 1
                },
                "name": "ECE 3450",
                "nameCanonical": "",
                "nameSub": ""
               },
               {
                "credits": 3,
                "curriculum_requisites": [],
                "id": 31,
                "metrics": {
                 "blocking factor": 0,
                 "centrality": 0,
                 "complexity": 1,
                 "delay factor": 1
                },
                "name": "ECE 3400",
                "nameCanonical": "",
                "nameSub": ""
               },
               {
                "credits": 3,
                "curriculum_requisites": [],
                "id": 32,
                "metrics": {
                 "blocking factor": 0,
                 "centrality": 0,
                 "complexity": 1,
                 "delay factor": 1
                },
                "name": " ",
                "nameCanonical": "",
                "nameSub": "Social Science Elective"
               },
               {
                "credits": 3,
                "curriculum_requisites": [],
                "id": 33,
                "metrics": {
                 "blocking factor": 0,
                 "centrality": 0,
                 "complexity": 1,
                 "delay factor": 1
                },
                "name": " ",
                "nameCanonical": "",
                "nameSub": "Elective Hours"
               }
              ],
              "id": 6,
              "name": "Term 6"
             },
             {
              "curriculum_items": [
               {
                "credits": 1,
                "curriculum_requisites": [
                 {
                  "source_id": 24,
                  "target_id": 35,
                  "type": "CurriculumPrerequisite"
                 }
                ],
                "id": 35,
                "metrics": {
                 "blocking factor": 1,
                 "centrality": 45,
                 "complexity": 9,
                 "delay factor": 8
                },
                "name": " ",
                "nameCanonical": "",
                "nameSub": "Senior Design Sequence"
               },
               {
                "credits": 3,
                "curriculum_requisites": [
                 {
                  "source_id": 22,
                  "target_id": 36,
                  "type": "CurriculumPrerequisite"
                 }
                ],
                "id": 36,
                "metrics": {
                 "blocking factor": 0,
                 "centrality": 0,
                 "complexity": 7,
                 "delay factor": 7
                },
                "name": " ",
                "nameCanonical": "",
                "nameSub": "Electronic Devices Topics"
               },
               {
                "credits": 3,
                "curriculum_requisites": [
                 {
                  "source_id": 19,
                  "target_id": 37,
                  "type": "CurriculumPrerequisite"
                 }
                ],
                "id": 37,
                "metrics": {
                 "blocking factor": 0,
                 "centrality": 0,
                 "complexity": 6,
                 "delay factor": 6
                },
                "name": " ",
                "nameCanonical": "",
                "nameSub": "ECE 3000/4000 Elective"
               },
               {
                "credits": 3,
                "curriculum_requisites": [],
                "id": 38,
                "metrics": {
                 "blocking factor": 0,
                 "centrality": 0,
                 "complexity": 1,
                 "delay factor": 1
                },
                "name": "ECE 4452",
                "nameCanonical": "",
                "nameSub": ""
               },
               {
                "credits": 2,
                "curriculum_requisites": [],
                "id": 39,
                "metrics": {
                 "blocking factor": 0,
                 "centrality": 0,
                 "complexity": 1,
                 "delay factor": 1
                },
                "name": " ",
                "nameCanonical": "",
                "nameSub": "Elective Hours"
               },
               {
                "credits": 3,
                "curriculum_requisites": [],
                "id": 40,
                "metrics": {
                 "blocking factor": 0,
                 "centrality": 0,
                 "complexity": 1,
                 "delay factor": 1
                },
                "name": " ",
                "nameCanonical": "",
                "nameSub": "Social Science Elective"
               }
              ],
              "id": 7,
              "name": "Term 7"
             },
             {
              "curriculum_items": [
               {
                "credits": 2,
                "curriculum_requisites": [
                 {
                  "source_id": 35,
                  "target_id": 41,
                  "type": "CurriculumPrerequisite"
                 }
                ],
                "id": 41,
                "metrics": {
                 "blocking factor": 0,
                 "centrality": 0,
                 "complexity": 8,
                 "delay factor": 8
                },
                "name": " ",
                "nameCanonical": "",
                "nameSub": "Senior Design Sequence"
               },
               {
                "credits": 3,
                "curriculum_requisites": [
                 {
                  "source_id": 19,
                  "target_id": 42,
                  "type": "CurriculumPrerequisite"
                 }
                ],
                "id": 42,
                "metrics": {
                 "blocking factor": 0,
                 "centrality": 0,
                 "complexity": 6,
                 "delay factor": 6
                },
                "name": " ",
                "nameCanonical": "",
                "nameSub": "ECE 3000/4000 Elective"
               },
               {
                "credits": 3,
                "curriculum_requisites": [
                 {
                  "source_id": 19,
                  "target_id": 43,
                  "type": "CurriculumPrerequisite"
                 }
                ],
                "id": 43,
                "metrics": {
                 "blocking factor": 0,
                 "centrality": 0,
                 "complexity": 6,
                 "delay factor": 6
                },
                "name": " ",
                "nameCanonical": "",
                "nameSub": "ECE 3000/4000 Elective"
               },
               {
                "credits": 3,
                "curriculum_requisites": [],
                "id": 44,
                "metrics": {
                 "blocking factor": 0,
                 "centrality": 0,
                 "complexity": 1,
                 "delay factor": 1
                },
                "name": " ",
                "nameCanonical": "",
                "nameSub": "Elective Hours"
               },
               {
                "credits": 3,
                "curriculum_requisites": [
                 {
                  "source_id": 19,
                  "target_id": 45,
                  "type": "CurriculumPrerequisite"
                 }
                ],
                "id": 45,
                "metrics": {
                 "blocking factor": 0,
                 "centrality": 0,
                 "complexity": 6,
                 "delay factor": 6
                },
                "name": " ",
                "nameCanonical": "",
                "nameSub": "Circuit Technologies Topics"
               }
              ],
              "id": 8,
              "name": "Term 8"
             }
            ],
            "dp_name": "2021-22 Plan",
            "institution": "Georgia Institute of Technology",
            "name": "Electrical Engineering - Electronic Devices and Circuit Technology"
           },
           "options": {
            "edit": false,
            "hideTerms": false
           }
          }
         }
        },
        "systemjs_options": null
       },
       "nodeType": "Scope",
       "props": {},
       "type": "node"
      },
      "text/html": [
       "<div\n",
       "    class=\"webio-mountpoint\"\n",
       "    data-webio-mountpoint=\"13209584528881900276\"\n",
       ">\n",
       "    <script>\n",
       "    if (window.require && require.defined && require.defined(\"nbextensions/webio-jupyter-notebook\")) {\n",
       "        console.log(\"Jupyter WebIO extension detected, not mounting.\");\n",
       "    } else if (window.WebIO) {\n",
       "        WebIO.mount(\n",
       "            document.querySelector('[data-webio-mountpoint=\"13209584528881900276\"]'),\n",
       "            {\"props\":{},\"nodeType\":\"Scope\",\"type\":\"node\",\"instanceArgs\":{\"imports\":{\"data\":[],\"type\":\"async_block\"},\"id\":\"6514538879447663807\",\"handlers\":{},\"systemjs_options\":null,\"mount_callbacks\":[],\"observables\":{\"curriculum-data\":{\"sync\":true,\"id\":\"2355412272623310522\",\"value\":{\"options\":{\"hideTerms\":false,\"edit\":false},\"curriculum\":{\"name\":\"Electrical Engineering - Electronic Devices and Circuit Technology\",\"dp_name\":\"2021-22 Plan\",\"curriculum_terms\":[{\"name\":\"Term 1\",\"curriculum_items\":[{\"curriculum_requisites\":[],\"name\":\"CHEM 1310\",\"metrics\":{\"complexity\":6.0,\"centrality\":0,\"blocking factor\":3,\"delay factor\":3.0},\"nameSub\":\"General Chemistry\",\"id\":1,\"credits\":4,\"nameCanonical\":\"\"},{\"curriculum_requisites\":[],\"name\":\"CS 1301\",\"metrics\":{\"complexity\":16.0,\"centrality\":0,\"blocking factor\":10,\"delay factor\":6.0},\"nameSub\":\"Intro to Computing\",\"id\":2,\"credits\":3,\"nameCanonical\":\"\"},{\"curriculum_requisites\":[],\"name\":\"ECE 1100\",\"metrics\":{\"complexity\":1.0,\"centrality\":0,\"blocking factor\":0,\"delay factor\":1.0},\"nameSub\":\"ECE Discovery Studio\",\"id\":3,\"credits\":1,\"nameCanonical\":\"\"},{\"curriculum_requisites\":[],\"name\":\"ENGL 1101\",\"metrics\":{\"complexity\":3.0,\"centrality\":0,\"blocking factor\":1,\"delay factor\":2.0},\"nameSub\":\"English Composition I\",\"id\":4,\"credits\":3,\"nameCanonical\":\"\"},{\"curriculum_requisites\":[],\"name\":\"MATH 1551\",\"metrics\":{\"complexity\":27.0,\"centrality\":0,\"blocking factor\":19,\"delay factor\":8.0},\"nameSub\":\"Differential Calculus\",\"id\":5,\"credits\":2,\"nameCanonical\":\"\"},{\"curriculum_requisites\":[{\"source_id\":5,\"target_id\":6,\"type\":\"CurriculumCorequisite\"}],\"name\":\"MATH 1554\",\"metrics\":{\"complexity\":19.0,\"centrality\":55,\"blocking factor\":12,\"delay factor\":7.0},\"nameSub\":\"Linear Algebra\",\"id\":6,\"credits\":4,\"nameCanonical\":\"\"}],\"id\":1},{\"name\":\"Term 2\",\"curriculum_items\":[{\"curriculum_requisites\":[{\"source_id\":2,\"target_id\":7,\"type\":\"CurriculumPrerequisite\"}],\"name\":\"ECE 2020\",\"metrics\":{\"complexity\":11.0,\"centrality\":41,\"blocking factor\":5,\"delay factor\":6.0},\"nameSub\":\"Fund. of Digital System Design\",\"id\":7,\"credits\":3,\"nameCanonical\":\"\"},{\"curriculum_requisites\":[{\"source_id\":4,\"target_id\":8,\"type\":\"CurriculumPrerequisite\"}],\"name\":\"ENGL 1102\",\"metrics\":{\"complexity\":2.0,\"centrality\":0,\"blocking factor\":0,\"delay factor\":2.0},\"nameSub\":\"English Composition II\",\"id\":8,\"credits\":3,\"nameCanonical\":\"\"},{\"curriculum_requisites\":[{\"source_id\":5,\"target_id\":9,\"type\":\"CurriculumPrerequisite\"}],\"name\":\"MATH 1552\",\"metrics\":{\"complexity\":25.0,\"centrality\":111,\"blocking factor\":17,\"delay factor\":8.0},\"nameSub\":\"Integral Calculus\",\"id\":9,\"credits\":4,\"nameCanonical\":\"\"},{\"curriculum_requisites\":[{\"source_id\":9,\"target_id\":10,\"type\":\"CurriculumCorequisite\"}],\"name\":\"PHYS  2211\",\"metrics\":{\"complexity\":20.0,\"centrality\":46,\"blocking factor\":12,\"delay factor\":8.0},\"nameSub\":\"Intro Physics 1\",\"id\":10,\"credits\":4,\"nameCanonical\":\"\"},{\"curriculum_requisites\":[],\"name\":\" \",\"metrics\":{\"complexity\":1.0,\"centrality\":0,\"blocking factor\":0,\"delay factor\":1.0},\"nameSub\":\"History\\/Government Elective\",\"id\":11,\"credits\":3,\"nameCanonical\":\"\"}],\"id\":2},{\"name\":\"Term 3\",\"curriculum_items\":[{\"curriculum_requisites\":[{\"source_id\":2,\"target_id\":12,\"type\":\"CurriculumPrerequisite\"},{\"source_id\":9,\"target_id\":12,\"type\":\"CurriculumPrerequisite\"}],\"name\":\"ECE 2026\",\"metrics\":{\"complexity\":9.0,\"centrality\":11,\"blocking factor\":3,\"delay factor\":6.0},\"nameSub\":\"Intro. to Signal Processing\",\"id\":12,\"credits\":3,\"nameCanonical\":\"\"},{\"curriculum_requisites\":[],\"name\":\" \",\"metrics\":{\"complexity\":1.0,\"centrality\":0,\"blocking factor\":0,\"delay factor\":1.0},\"nameSub\":\"Econ\\/Social Science Elective\",\"id\":13,\"credits\":3,\"nameCanonical\":\"\"},{\"curriculum_requisites\":[],\"name\":\" \",\"metrics\":{\"complexity\":1.0,\"centrality\":0,\"blocking factor\":0,\"delay factor\":1.0},\"nameSub\":\"Humanities Elective\",\"id\":14,\"credits\":3,\"nameCanonical\":\"\"},{\"curriculum_requisites\":[{\"source_id\":6,\"target_id\":15,\"type\":\"CurriculumPrerequisite\"},{\"source_id\":9,\"target_id\":15,\"type\":\"CurriculumPrerequisite\"}],\"name\":\"MATH 2552\",\"metrics\":{\"complexity\":18.0,\"centrality\":110,\"blocking factor\":11,\"delay factor\":7.0},\"nameSub\":\"Differential Equations\",\"id\":15,\"credits\":4,\"nameCanonical\":\"\"},{\"curriculum_requisites\":[{\"source_id\":10,\"target_id\":16,\"type\":\"CurriculumPrerequisite\"}],\"name\":\"PHYS  2212\",\"metrics\":{\"complexity\":19.0,\"centrality\":46,\"blocking factor\":11,\"delay factor\":8.0},\"nameSub\":\"Intro. Physics 2\",\"id\":16,\"credits\":4,\"nameCanonical\":\"\"}],\"id\":3},{\"name\":\"Term 4\",\"curriculum_items\":[{\"curriculum_requisites\":[{\"source_id\":7,\"target_id\":17,\"type\":\"CurriculumPrerequisite\"},{\"source_id\":18,\"target_id\":17,\"type\":\"CurriculumCorequisite\"}],\"name\":\"ECE 2031\",\"metrics\":{\"complexity\":9.0,\"centrality\":31,\"blocking factor\":3,\"delay factor\":6.0},\"nameSub\":\"Digital Design Lab\",\"id\":17,\"credits\":2,\"nameCanonical\":\"\"},{\"curriculum_requisites\":[{\"source_id\":7,\"target_id\":18,\"type\":\"CurriculumPrerequisite\"}],\"name\":\"ECE 2035\",\"metrics\":{\"complexity\":10.0,\"centrality\":27,\"blocking factor\":4,\"delay factor\":6.0},\"nameSub\":\"Programming Elective\",\"id\":18,\"credits\":4,\"nameCanonical\":\"\"},{\"curriculum_requisites\":[{\"source_id\":16,\"target_id\":19,\"type\":\"CurriculumPrerequisite\"},{\"source_id\":15,\"target_id\":19,\"type\":\"CurriculumPrerequisite\"}],\"name\":\"ECE 2040\",\"metrics\":{\"complexity\":18.0,\"centrality\":124,\"blocking factor\":10,\"delay factor\":8.0},\"nameSub\":\"Circuit Analysis\",\"id\":19,\"credits\":3,\"nameCanonical\":\"\"},{\"curriculum_requisites\":[{\"source_id\":9,\"target_id\":20,\"type\":\"CurriculumPrerequisite\"}],\"name\":\"MATH 2551\",\"metrics\":{\"complexity\":5.0,\"centrality\":4,\"blocking factor\":1,\"delay factor\":4.0},\"nameSub\":\"Multivariate Calculus\",\"id\":20,\"credits\":4,\"nameCanonical\":\"\"},{\"curriculum_requisites\":[],\"name\":\" \",\"metrics\":{\"complexity\":1.0,\"centrality\":0,\"blocking factor\":0,\"delay factor\":1.0},\"nameSub\":\"Science Elective\",\"id\":21,\"credits\":3,\"nameCanonical\":\"\"}],\"id\":4},{\"name\":\"Term 5\",\"curriculum_items\":[{\"curriculum_requisites\":[{\"source_id\":15,\"target_id\":22,\"type\":\"CurriculumPrerequisite\"},{\"source_id\":18,\"target_id\":22,\"type\":\"CurriculumPrerequisite\"},{\"source_id\":17,\"target_id\":22,\"type\":\"CurriculumPrerequisite\"},{\"source_id\":1,\"target_id\":22,\"type\":\"CurriculumPrerequisite\"},{\"source_id\":19,\"target_id\":22,\"type\":\"CurriculumPrerequisite\"}],\"name\":\"ECE 3040\",\"metrics\":{\"complexity\":9.0,\"centrality\":96,\"blocking factor\":2,\"delay factor\":7.0},\"nameSub\":\"Microelectronic Circuits\",\"id\":22,\"credits\":4,\"nameCanonical\":\"\"},{\"curriculum_requisites\":[{\"source_id\":22,\"target_id\":23,\"type\":\"CurriculumCorequisite\"},{\"source_id\":17,\"target_id\":23,\"type\":\"CurriculumPrerequisite\"}],\"name\":\"ECE 3043\",\"metrics\":{\"complexity\":7.0,\"centrality\":0,\"blocking factor\":0,\"delay factor\":7.0},\"nameSub\":\"Measurements, Circuits and Microelectronics Lab\",\"id\":23,\"credits\":2,\"nameCanonical\":\"\"},{\"curriculum_requisites\":[{\"source_id\":15,\"target_id\":24,\"type\":\"CurriculumPrerequisite\"},{\"source_id\":12,\"target_id\":24,\"type\":\"CurriculumPrerequisite\"},{\"source_id\":19,\"target_id\":24,\"type\":\"CurriculumPrerequisite\"}],\"name\":\"ECE 3025\",\"metrics\":{\"complexity\":10.0,\"centrality\":45,\"blocking factor\":2,\"delay factor\":8.0},\"nameSub\":\"Electromagnetics\",\"id\":24,\"credits\":3,\"nameCanonical\":\"\"},{\"curriculum_requisites\":[{\"source_id\":20,\"target_id\":25,\"type\":\"CurriculumPrerequisite\"}],\"name\":\" \",\"metrics\":{\"complexity\":4.0,\"centrality\":0,\"blocking factor\":0,\"delay factor\":4.0},\"nameSub\":\"Prob & Stat Elective\",\"id\":25,\"credits\":3,\"nameCanonical\":\"\"},{\"curriculum_requisites\":[],\"name\":\"APPH 1040\",\"metrics\":{\"complexity\":1.0,\"centrality\":0,\"blocking factor\":0,\"delay factor\":1.0},\"nameSub\":\"\",\"id\":26,\"credits\":2,\"nameCanonical\":\"\"},{\"curriculum_requisites\":[],\"name\":\" \",\"metrics\":{\"complexity\":1.0,\"centrality\":0,\"blocking factor\":0,\"delay factor\":1.0},\"nameSub\":\"Humanities Elective\",\"id\":27,\"credits\":3,\"nameCanonical\":\"\"}],\"id\":5},{\"name\":\"Term 6\",\"curriculum_items\":[{\"curriculum_requisites\":[],\"name\":\"ECE 3005\",\"metrics\":{\"complexity\":1.0,\"centrality\":0,\"blocking factor\":0,\"delay factor\":1.0},\"nameSub\":\"\",\"id\":28,\"credits\":1,\"nameCanonical\":\"\"},{\"curriculum_requisites\":[],\"name\":\" \",\"metrics\":{\"complexity\":1.0,\"centrality\":0,\"blocking factor\":0,\"delay factor\":1.0},\"nameSub\":\"Elective Hours\",\"id\":29,\"credits\":3,\"nameCanonical\":\"\"},{\"curriculum_requisites\":[],\"name\":\"ECE 3450\",\"metrics\":{\"complexity\":1.0,\"centrality\":0,\"blocking factor\":0,\"delay factor\":1.0},\"nameSub\":\"\",\"id\":30,\"credits\":3,\"nameCanonical\":\"\"},{\"curriculum_requisites\":[],\"name\":\"ECE 3400\",\"metrics\":{\"complexity\":1.0,\"centrality\":0,\"blocking factor\":0,\"delay factor\":1.0},\"nameSub\":\"\",\"id\":31,\"credits\":3,\"nameCanonical\":\"\"},{\"curriculum_requisites\":[],\"name\":\" \",\"metrics\":{\"complexity\":1.0,\"centrality\":0,\"blocking factor\":0,\"delay factor\":1.0},\"nameSub\":\"Social Science Elective\",\"id\":32,\"credits\":3,\"nameCanonical\":\"\"},{\"curriculum_requisites\":[],\"name\":\" \",\"metrics\":{\"complexity\":1.0,\"centrality\":0,\"blocking factor\":0,\"delay factor\":1.0},\"nameSub\":\"Elective Hours\",\"id\":33,\"credits\":3,\"nameCanonical\":\"\"}],\"id\":6},{\"name\":\"Term 7\",\"curriculum_items\":[{\"curriculum_requisites\":[{\"source_id\":24,\"target_id\":35,\"type\":\"CurriculumPrerequisite\"}],\"name\":\" \",\"metrics\":{\"complexity\":9.0,\"centrality\":45,\"blocking factor\":1,\"delay factor\":8.0},\"nameSub\":\"Senior Design Sequence\",\"id\":35,\"credits\":1,\"nameCanonical\":\"\"},{\"curriculum_requisites\":[{\"source_id\":22,\"target_id\":36,\"type\":\"CurriculumPrerequisite\"}],\"name\":\" \",\"metrics\":{\"complexity\":7.0,\"centrality\":0,\"blocking factor\":0,\"delay factor\":7.0},\"nameSub\":\"Electronic Devices Topics\",\"id\":36,\"credits\":3,\"nameCanonical\":\"\"},{\"curriculum_requisites\":[{\"source_id\":19,\"target_id\":37,\"type\":\"CurriculumPrerequisite\"}],\"name\":\" \",\"metrics\":{\"complexity\":6.0,\"centrality\":0,\"blocking factor\":0,\"delay factor\":6.0},\"nameSub\":\"ECE 3000\\/4000 Elective\",\"id\":37,\"credits\":3,\"nameCanonical\":\"\"},{\"curriculum_requisites\":[],\"name\":\"ECE 4452\",\"metrics\":{\"complexity\":1.0,\"centrality\":0,\"blocking factor\":0,\"delay factor\":1.0},\"nameSub\":\"\",\"id\":38,\"credits\":3,\"nameCanonical\":\"\"},{\"curriculum_requisites\":[],\"name\":\" \",\"metrics\":{\"complexity\":1.0,\"centrality\":0,\"blocking factor\":0,\"delay factor\":1.0},\"nameSub\":\"Elective Hours\",\"id\":39,\"credits\":2,\"nameCanonical\":\"\"},{\"curriculum_requisites\":[],\"name\":\" \",\"metrics\":{\"complexity\":1.0,\"centrality\":0,\"blocking factor\":0,\"delay factor\":1.0},\"nameSub\":\"Social Science Elective\",\"id\":40,\"credits\":3,\"nameCanonical\":\"\"}],\"id\":7},{\"name\":\"Term 8\",\"curriculum_items\":[{\"curriculum_requisites\":[{\"source_id\":35,\"target_id\":41,\"type\":\"CurriculumPrerequisite\"}],\"name\":\" \",\"metrics\":{\"complexity\":8.0,\"centrality\":0,\"blocking factor\":0,\"delay factor\":8.0},\"nameSub\":\"Senior Design Sequence\",\"id\":41,\"credits\":2,\"nameCanonical\":\"\"},{\"curriculum_requisites\":[{\"source_id\":19,\"target_id\":42,\"type\":\"CurriculumPrerequisite\"}],\"name\":\" \",\"metrics\":{\"complexity\":6.0,\"centrality\":0,\"blocking factor\":0,\"delay factor\":6.0},\"nameSub\":\"ECE 3000\\/4000 Elective\",\"id\":42,\"credits\":3,\"nameCanonical\":\"\"},{\"curriculum_requisites\":[{\"source_id\":19,\"target_id\":43,\"type\":\"CurriculumPrerequisite\"}],\"name\":\" \",\"metrics\":{\"complexity\":6.0,\"centrality\":0,\"blocking factor\":0,\"delay factor\":6.0},\"nameSub\":\"ECE 3000\\/4000 Elective\",\"id\":43,\"credits\":3,\"nameCanonical\":\"\"},{\"curriculum_requisites\":[],\"name\":\" \",\"metrics\":{\"complexity\":1.0,\"centrality\":0,\"blocking factor\":0,\"delay factor\":1.0},\"nameSub\":\"Elective Hours\",\"id\":44,\"credits\":3,\"nameCanonical\":\"\"},{\"curriculum_requisites\":[{\"source_id\":19,\"target_id\":45,\"type\":\"CurriculumPrerequisite\"}],\"name\":\" \",\"metrics\":{\"complexity\":6.0,\"centrality\":0,\"blocking factor\":0,\"delay factor\":6.0},\"nameSub\":\"Circuit Technologies Topics\",\"id\":45,\"credits\":3,\"nameCanonical\":\"\"}],\"id\":8}],\"institution\":\"Georgia Institute of Technology\"}}}}},\"children\":[{\"props\":{\"src\":\"https:\\/\\/curricula-api-embed.damoursystems.com\\/\",\"id\":\"curriculum\",\"events\":{\"load\":\"(function (){this.contentWindow.postMessage({\\\"options\\\":{\\\"hideTerms\\\":false,\\\"edit\\\":false},\\\"curriculum\\\":{\\\"name\\\":\\\"Electrical Engineering - Electronic Devices and Circuit Technology\\\",\\\"dp_name\\\":\\\"2021-22 Plan\\\",\\\"curriculum_terms\\\":[{\\\"name\\\":\\\"Term 1\\\",\\\"curriculum_items\\\":[{\\\"curriculum_requisites\\\":[],\\\"name\\\":\\\"CHEM 1310\\\",\\\"metrics\\\":{\\\"complexity\\\":6.0,\\\"centrality\\\":0,\\\"blocking factor\\\":3,\\\"delay factor\\\":3.0},\\\"nameSub\\\":\\\"General Chemistry\\\",\\\"id\\\":1,\\\"credits\\\":4,\\\"nameCanonical\\\":\\\"\\\"},{\\\"curriculum_requisites\\\":[],\\\"name\\\":\\\"CS 1301\\\",\\\"metrics\\\":{\\\"complexity\\\":16.0,\\\"centrality\\\":0,\\\"blocking factor\\\":10,\\\"delay factor\\\":6.0},\\\"nameSub\\\":\\\"Intro to Computing\\\",\\\"id\\\":2,\\\"credits\\\":3,\\\"nameCanonical\\\":\\\"\\\"},{\\\"curriculum_requisites\\\":[],\\\"name\\\":\\\"ECE 1100\\\",\\\"metrics\\\":{\\\"complexity\\\":1.0,\\\"centrality\\\":0,\\\"blocking factor\\\":0,\\\"delay factor\\\":1.0},\\\"nameSub\\\":\\\"ECE Discovery Studio\\\",\\\"id\\\":3,\\\"credits\\\":1,\\\"nameCanonical\\\":\\\"\\\"},{\\\"curriculum_requisites\\\":[],\\\"name\\\":\\\"ENGL 1101\\\",\\\"metrics\\\":{\\\"complexity\\\":3.0,\\\"centrality\\\":0,\\\"blocking factor\\\":1,\\\"delay factor\\\":2.0},\\\"nameSub\\\":\\\"English Composition I\\\",\\\"id\\\":4,\\\"credits\\\":3,\\\"nameCanonical\\\":\\\"\\\"},{\\\"curriculum_requisites\\\":[],\\\"name\\\":\\\"MATH 1551\\\",\\\"metrics\\\":{\\\"complexity\\\":27.0,\\\"centrality\\\":0,\\\"blocking factor\\\":19,\\\"delay factor\\\":8.0},\\\"nameSub\\\":\\\"Differential Calculus\\\",\\\"id\\\":5,\\\"credits\\\":2,\\\"nameCanonical\\\":\\\"\\\"},{\\\"curriculum_requisites\\\":[{\\\"source_id\\\":5,\\\"target_id\\\":6,\\\"type\\\":\\\"CurriculumCorequisite\\\"}],\\\"name\\\":\\\"MATH 1554\\\",\\\"metrics\\\":{\\\"complexity\\\":19.0,\\\"centrality\\\":55,\\\"blocking factor\\\":12,\\\"delay factor\\\":7.0},\\\"nameSub\\\":\\\"Linear Algebra\\\",\\\"id\\\":6,\\\"credits\\\":4,\\\"nameCanonical\\\":\\\"\\\"}],\\\"id\\\":1},{\\\"name\\\":\\\"Term 2\\\",\\\"curriculum_items\\\":[{\\\"curriculum_requisites\\\":[{\\\"source_id\\\":2,\\\"target_id\\\":7,\\\"type\\\":\\\"CurriculumPrerequisite\\\"}],\\\"name\\\":\\\"ECE 2020\\\",\\\"metrics\\\":{\\\"complexity\\\":11.0,\\\"centrality\\\":41,\\\"blocking factor\\\":5,\\\"delay factor\\\":6.0},\\\"nameSub\\\":\\\"Fund. of Digital System Design\\\",\\\"id\\\":7,\\\"credits\\\":3,\\\"nameCanonical\\\":\\\"\\\"},{\\\"curriculum_requisites\\\":[{\\\"source_id\\\":4,\\\"target_id\\\":8,\\\"type\\\":\\\"CurriculumPrerequisite\\\"}],\\\"name\\\":\\\"ENGL 1102\\\",\\\"metrics\\\":{\\\"complexity\\\":2.0,\\\"centrality\\\":0,\\\"blocking factor\\\":0,\\\"delay factor\\\":2.0},\\\"nameSub\\\":\\\"English Composition II\\\",\\\"id\\\":8,\\\"credits\\\":3,\\\"nameCanonical\\\":\\\"\\\"},{\\\"curriculum_requisites\\\":[{\\\"source_id\\\":5,\\\"target_id\\\":9,\\\"type\\\":\\\"CurriculumPrerequisite\\\"}],\\\"name\\\":\\\"MATH 1552\\\",\\\"metrics\\\":{\\\"complexity\\\":25.0,\\\"centrality\\\":111,\\\"blocking factor\\\":17,\\\"delay factor\\\":8.0},\\\"nameSub\\\":\\\"Integral Calculus\\\",\\\"id\\\":9,\\\"credits\\\":4,\\\"nameCanonical\\\":\\\"\\\"},{\\\"curriculum_requisites\\\":[{\\\"source_id\\\":9,\\\"target_id\\\":10,\\\"type\\\":\\\"CurriculumCorequisite\\\"}],\\\"name\\\":\\\"PHYS  2211\\\",\\\"metrics\\\":{\\\"complexity\\\":20.0,\\\"centrality\\\":46,\\\"blocking factor\\\":12,\\\"delay factor\\\":8.0},\\\"nameSub\\\":\\\"Intro Physics 1\\\",\\\"id\\\":10,\\\"credits\\\":4,\\\"nameCanonical\\\":\\\"\\\"},{\\\"curriculum_requisites\\\":[],\\\"name\\\":\\\" \\\",\\\"metrics\\\":{\\\"complexity\\\":1.0,\\\"centrality\\\":0,\\\"blocking factor\\\":0,\\\"delay factor\\\":1.0},\\\"nameSub\\\":\\\"History\\/Government Elective\\\",\\\"id\\\":11,\\\"credits\\\":3,\\\"nameCanonical\\\":\\\"\\\"}],\\\"id\\\":2},{\\\"name\\\":\\\"Term 3\\\",\\\"curriculum_items\\\":[{\\\"curriculum_requisites\\\":[{\\\"source_id\\\":2,\\\"target_id\\\":12,\\\"type\\\":\\\"CurriculumPrerequisite\\\"},{\\\"source_id\\\":9,\\\"target_id\\\":12,\\\"type\\\":\\\"CurriculumPrerequisite\\\"}],\\\"name\\\":\\\"ECE 2026\\\",\\\"metrics\\\":{\\\"complexity\\\":9.0,\\\"centrality\\\":11,\\\"blocking factor\\\":3,\\\"delay factor\\\":6.0},\\\"nameSub\\\":\\\"Intro. to Signal Processing\\\",\\\"id\\\":12,\\\"credits\\\":3,\\\"nameCanonical\\\":\\\"\\\"},{\\\"curriculum_requisites\\\":[],\\\"name\\\":\\\" \\\",\\\"metrics\\\":{\\\"complexity\\\":1.0,\\\"centrality\\\":0,\\\"blocking factor\\\":0,\\\"delay factor\\\":1.0},\\\"nameSub\\\":\\\"Econ\\/Social Science Elective\\\",\\\"id\\\":13,\\\"credits\\\":3,\\\"nameCanonical\\\":\\\"\\\"},{\\\"curriculum_requisites\\\":[],\\\"name\\\":\\\" \\\",\\\"metrics\\\":{\\\"complexity\\\":1.0,\\\"centrality\\\":0,\\\"blocking factor\\\":0,\\\"delay factor\\\":1.0},\\\"nameSub\\\":\\\"Humanities Elective\\\",\\\"id\\\":14,\\\"credits\\\":3,\\\"nameCanonical\\\":\\\"\\\"},{\\\"curriculum_requisites\\\":[{\\\"source_id\\\":6,\\\"target_id\\\":15,\\\"type\\\":\\\"CurriculumPrerequisite\\\"},{\\\"source_id\\\":9,\\\"target_id\\\":15,\\\"type\\\":\\\"CurriculumPrerequisite\\\"}],\\\"name\\\":\\\"MATH 2552\\\",\\\"metrics\\\":{\\\"complexity\\\":18.0,\\\"centrality\\\":110,\\\"blocking factor\\\":11,\\\"delay factor\\\":7.0},\\\"nameSub\\\":\\\"Differential Equations\\\",\\\"id\\\":15,\\\"credits\\\":4,\\\"nameCanonical\\\":\\\"\\\"},{\\\"curriculum_requisites\\\":[{\\\"source_id\\\":10,\\\"target_id\\\":16,\\\"type\\\":\\\"CurriculumPrerequisite\\\"}],\\\"name\\\":\\\"PHYS  2212\\\",\\\"metrics\\\":{\\\"complexity\\\":19.0,\\\"centrality\\\":46,\\\"blocking factor\\\":11,\\\"delay factor\\\":8.0},\\\"nameSub\\\":\\\"Intro. Physics 2\\\",\\\"id\\\":16,\\\"credits\\\":4,\\\"nameCanonical\\\":\\\"\\\"}],\\\"id\\\":3},{\\\"name\\\":\\\"Term 4\\\",\\\"curriculum_items\\\":[{\\\"curriculum_requisites\\\":[{\\\"source_id\\\":7,\\\"target_id\\\":17,\\\"type\\\":\\\"CurriculumPrerequisite\\\"},{\\\"source_id\\\":18,\\\"target_id\\\":17,\\\"type\\\":\\\"CurriculumCorequisite\\\"}],\\\"name\\\":\\\"ECE 2031\\\",\\\"metrics\\\":{\\\"complexity\\\":9.0,\\\"centrality\\\":31,\\\"blocking factor\\\":3,\\\"delay factor\\\":6.0},\\\"nameSub\\\":\\\"Digital Design Lab\\\",\\\"id\\\":17,\\\"credits\\\":2,\\\"nameCanonical\\\":\\\"\\\"},{\\\"curriculum_requisites\\\":[{\\\"source_id\\\":7,\\\"target_id\\\":18,\\\"type\\\":\\\"CurriculumPrerequisite\\\"}],\\\"name\\\":\\\"ECE 2035\\\",\\\"metrics\\\":{\\\"complexity\\\":10.0,\\\"centrality\\\":27,\\\"blocking factor\\\":4,\\\"delay factor\\\":6.0},\\\"nameSub\\\":\\\"Programming Elective\\\",\\\"id\\\":18,\\\"credits\\\":4,\\\"nameCanonical\\\":\\\"\\\"},{\\\"curriculum_requisites\\\":[{\\\"source_id\\\":16,\\\"target_id\\\":19,\\\"type\\\":\\\"CurriculumPrerequisite\\\"},{\\\"source_id\\\":15,\\\"target_id\\\":19,\\\"type\\\":\\\"CurriculumPrerequisite\\\"}],\\\"name\\\":\\\"ECE 2040\\\",\\\"metrics\\\":{\\\"complexity\\\":18.0,\\\"centrality\\\":124,\\\"blocking factor\\\":10,\\\"delay factor\\\":8.0},\\\"nameSub\\\":\\\"Circuit Analysis\\\",\\\"id\\\":19,\\\"credits\\\":3,\\\"nameCanonical\\\":\\\"\\\"},{\\\"curriculum_requisites\\\":[{\\\"source_id\\\":9,\\\"target_id\\\":20,\\\"type\\\":\\\"CurriculumPrerequisite\\\"}],\\\"name\\\":\\\"MATH 2551\\\",\\\"metrics\\\":{\\\"complexity\\\":5.0,\\\"centrality\\\":4,\\\"blocking factor\\\":1,\\\"delay factor\\\":4.0},\\\"nameSub\\\":\\\"Multivariate Calculus\\\",\\\"id\\\":20,\\\"credits\\\":4,\\\"nameCanonical\\\":\\\"\\\"},{\\\"curriculum_requisites\\\":[],\\\"name\\\":\\\" \\\",\\\"metrics\\\":{\\\"complexity\\\":1.0,\\\"centrality\\\":0,\\\"blocking factor\\\":0,\\\"delay factor\\\":1.0},\\\"nameSub\\\":\\\"Science Elective\\\",\\\"id\\\":21,\\\"credits\\\":3,\\\"nameCanonical\\\":\\\"\\\"}],\\\"id\\\":4},{\\\"name\\\":\\\"Term 5\\\",\\\"curriculum_items\\\":[{\\\"curriculum_requisites\\\":[{\\\"source_id\\\":15,\\\"target_id\\\":22,\\\"type\\\":\\\"CurriculumPrerequisite\\\"},{\\\"source_id\\\":18,\\\"target_id\\\":22,\\\"type\\\":\\\"CurriculumPrerequisite\\\"},{\\\"source_id\\\":17,\\\"target_id\\\":22,\\\"type\\\":\\\"CurriculumPrerequisite\\\"},{\\\"source_id\\\":1,\\\"target_id\\\":22,\\\"type\\\":\\\"CurriculumPrerequisite\\\"},{\\\"source_id\\\":19,\\\"target_id\\\":22,\\\"type\\\":\\\"CurriculumPrerequisite\\\"}],\\\"name\\\":\\\"ECE 3040\\\",\\\"metrics\\\":{\\\"complexity\\\":9.0,\\\"centrality\\\":96,\\\"blocking factor\\\":2,\\\"delay factor\\\":7.0},\\\"nameSub\\\":\\\"Microelectronic Circuits\\\",\\\"id\\\":22,\\\"credits\\\":4,\\\"nameCanonical\\\":\\\"\\\"},{\\\"curriculum_requisites\\\":[{\\\"source_id\\\":22,\\\"target_id\\\":23,\\\"type\\\":\\\"CurriculumCorequisite\\\"},{\\\"source_id\\\":17,\\\"target_id\\\":23,\\\"type\\\":\\\"CurriculumPrerequisite\\\"}],\\\"name\\\":\\\"ECE 3043\\\",\\\"metrics\\\":{\\\"complexity\\\":7.0,\\\"centrality\\\":0,\\\"blocking factor\\\":0,\\\"delay factor\\\":7.0},\\\"nameSub\\\":\\\"Measurements, Circuits and Microelectronics Lab\\\",\\\"id\\\":23,\\\"credits\\\":2,\\\"nameCanonical\\\":\\\"\\\"},{\\\"curriculum_requisites\\\":[{\\\"source_id\\\":15,\\\"target_id\\\":24,\\\"type\\\":\\\"CurriculumPrerequisite\\\"},{\\\"source_id\\\":12,\\\"target_id\\\":24,\\\"type\\\":\\\"CurriculumPrerequisite\\\"},{\\\"source_id\\\":19,\\\"target_id\\\":24,\\\"type\\\":\\\"CurriculumPrerequisite\\\"}],\\\"name\\\":\\\"ECE 3025\\\",\\\"metrics\\\":{\\\"complexity\\\":10.0,\\\"centrality\\\":45,\\\"blocking factor\\\":2,\\\"delay factor\\\":8.0},\\\"nameSub\\\":\\\"Electromagnetics\\\",\\\"id\\\":24,\\\"credits\\\":3,\\\"nameCanonical\\\":\\\"\\\"},{\\\"curriculum_requisites\\\":[{\\\"source_id\\\":20,\\\"target_id\\\":25,\\\"type\\\":\\\"CurriculumPrerequisite\\\"}],\\\"name\\\":\\\" \\\",\\\"metrics\\\":{\\\"complexity\\\":4.0,\\\"centrality\\\":0,\\\"blocking factor\\\":0,\\\"delay factor\\\":4.0},\\\"nameSub\\\":\\\"Prob & Stat Elective\\\",\\\"id\\\":25,\\\"credits\\\":3,\\\"nameCanonical\\\":\\\"\\\"},{\\\"curriculum_requisites\\\":[],\\\"name\\\":\\\"APPH 1040\\\",\\\"metrics\\\":{\\\"complexity\\\":1.0,\\\"centrality\\\":0,\\\"blocking factor\\\":0,\\\"delay factor\\\":1.0},\\\"nameSub\\\":\\\"\\\",\\\"id\\\":26,\\\"credits\\\":2,\\\"nameCanonical\\\":\\\"\\\"},{\\\"curriculum_requisites\\\":[],\\\"name\\\":\\\" \\\",\\\"metrics\\\":{\\\"complexity\\\":1.0,\\\"centrality\\\":0,\\\"blocking factor\\\":0,\\\"delay factor\\\":1.0},\\\"nameSub\\\":\\\"Humanities Elective\\\",\\\"id\\\":27,\\\"credits\\\":3,\\\"nameCanonical\\\":\\\"\\\"}],\\\"id\\\":5},{\\\"name\\\":\\\"Term 6\\\",\\\"curriculum_items\\\":[{\\\"curriculum_requisites\\\":[],\\\"name\\\":\\\"ECE 3005\\\",\\\"metrics\\\":{\\\"complexity\\\":1.0,\\\"centrality\\\":0,\\\"blocking factor\\\":0,\\\"delay factor\\\":1.0},\\\"nameSub\\\":\\\"\\\",\\\"id\\\":28,\\\"credits\\\":1,\\\"nameCanonical\\\":\\\"\\\"},{\\\"curriculum_requisites\\\":[],\\\"name\\\":\\\" \\\",\\\"metrics\\\":{\\\"complexity\\\":1.0,\\\"centrality\\\":0,\\\"blocking factor\\\":0,\\\"delay factor\\\":1.0},\\\"nameSub\\\":\\\"Elective Hours\\\",\\\"id\\\":29,\\\"credits\\\":3,\\\"nameCanonical\\\":\\\"\\\"},{\\\"curriculum_requisites\\\":[],\\\"name\\\":\\\"ECE 3450\\\",\\\"metrics\\\":{\\\"complexity\\\":1.0,\\\"centrality\\\":0,\\\"blocking factor\\\":0,\\\"delay factor\\\":1.0},\\\"nameSub\\\":\\\"\\\",\\\"id\\\":30,\\\"credits\\\":3,\\\"nameCanonical\\\":\\\"\\\"},{\\\"curriculum_requisites\\\":[],\\\"name\\\":\\\"ECE 3400\\\",\\\"metrics\\\":{\\\"complexity\\\":1.0,\\\"centrality\\\":0,\\\"blocking factor\\\":0,\\\"delay factor\\\":1.0},\\\"nameSub\\\":\\\"\\\",\\\"id\\\":31,\\\"credits\\\":3,\\\"nameCanonical\\\":\\\"\\\"},{\\\"curriculum_requisites\\\":[],\\\"name\\\":\\\" \\\",\\\"metrics\\\":{\\\"complexity\\\":1.0,\\\"centrality\\\":0,\\\"blocking factor\\\":0,\\\"delay factor\\\":1.0},\\\"nameSub\\\":\\\"Social Science Elective\\\",\\\"id\\\":32,\\\"credits\\\":3,\\\"nameCanonical\\\":\\\"\\\"},{\\\"curriculum_requisites\\\":[],\\\"name\\\":\\\" \\\",\\\"metrics\\\":{\\\"complexity\\\":1.0,\\\"centrality\\\":0,\\\"blocking factor\\\":0,\\\"delay factor\\\":1.0},\\\"nameSub\\\":\\\"Elective Hours\\\",\\\"id\\\":33,\\\"credits\\\":3,\\\"nameCanonical\\\":\\\"\\\"}],\\\"id\\\":6},{\\\"name\\\":\\\"Term 7\\\",\\\"curriculum_items\\\":[{\\\"curriculum_requisites\\\":[{\\\"source_id\\\":24,\\\"target_id\\\":35,\\\"type\\\":\\\"CurriculumPrerequisite\\\"}],\\\"name\\\":\\\" \\\",\\\"metrics\\\":{\\\"complexity\\\":9.0,\\\"centrality\\\":45,\\\"blocking factor\\\":1,\\\"delay factor\\\":8.0},\\\"nameSub\\\":\\\"Senior Design Sequence\\\",\\\"id\\\":35,\\\"credits\\\":1,\\\"nameCanonical\\\":\\\"\\\"},{\\\"curriculum_requisites\\\":[{\\\"source_id\\\":22,\\\"target_id\\\":36,\\\"type\\\":\\\"CurriculumPrerequisite\\\"}],\\\"name\\\":\\\" \\\",\\\"metrics\\\":{\\\"complexity\\\":7.0,\\\"centrality\\\":0,\\\"blocking factor\\\":0,\\\"delay factor\\\":7.0},\\\"nameSub\\\":\\\"Electronic Devices Topics\\\",\\\"id\\\":36,\\\"credits\\\":3,\\\"nameCanonical\\\":\\\"\\\"},{\\\"curriculum_requisites\\\":[{\\\"source_id\\\":19,\\\"target_id\\\":37,\\\"type\\\":\\\"CurriculumPrerequisite\\\"}],\\\"name\\\":\\\" \\\",\\\"metrics\\\":{\\\"complexity\\\":6.0,\\\"centrality\\\":0,\\\"blocking factor\\\":0,\\\"delay factor\\\":6.0},\\\"nameSub\\\":\\\"ECE 3000\\/4000 Elective\\\",\\\"id\\\":37,\\\"credits\\\":3,\\\"nameCanonical\\\":\\\"\\\"},{\\\"curriculum_requisites\\\":[],\\\"name\\\":\\\"ECE 4452\\\",\\\"metrics\\\":{\\\"complexity\\\":1.0,\\\"centrality\\\":0,\\\"blocking factor\\\":0,\\\"delay factor\\\":1.0},\\\"nameSub\\\":\\\"\\\",\\\"id\\\":38,\\\"credits\\\":3,\\\"nameCanonical\\\":\\\"\\\"},{\\\"curriculum_requisites\\\":[],\\\"name\\\":\\\" \\\",\\\"metrics\\\":{\\\"complexity\\\":1.0,\\\"centrality\\\":0,\\\"blocking factor\\\":0,\\\"delay factor\\\":1.0},\\\"nameSub\\\":\\\"Elective Hours\\\",\\\"id\\\":39,\\\"credits\\\":2,\\\"nameCanonical\\\":\\\"\\\"},{\\\"curriculum_requisites\\\":[],\\\"name\\\":\\\" \\\",\\\"metrics\\\":{\\\"complexity\\\":1.0,\\\"centrality\\\":0,\\\"blocking factor\\\":0,\\\"delay factor\\\":1.0},\\\"nameSub\\\":\\\"Social Science Elective\\\",\\\"id\\\":40,\\\"credits\\\":3,\\\"nameCanonical\\\":\\\"\\\"}],\\\"id\\\":7},{\\\"name\\\":\\\"Term 8\\\",\\\"curriculum_items\\\":[{\\\"curriculum_requisites\\\":[{\\\"source_id\\\":35,\\\"target_id\\\":41,\\\"type\\\":\\\"CurriculumPrerequisite\\\"}],\\\"name\\\":\\\" \\\",\\\"metrics\\\":{\\\"complexity\\\":8.0,\\\"centrality\\\":0,\\\"blocking factor\\\":0,\\\"delay factor\\\":8.0},\\\"nameSub\\\":\\\"Senior Design Sequence\\\",\\\"id\\\":41,\\\"credits\\\":2,\\\"nameCanonical\\\":\\\"\\\"},{\\\"curriculum_requisites\\\":[{\\\"source_id\\\":19,\\\"target_id\\\":42,\\\"type\\\":\\\"CurriculumPrerequisite\\\"}],\\\"name\\\":\\\" \\\",\\\"metrics\\\":{\\\"complexity\\\":6.0,\\\"centrality\\\":0,\\\"blocking factor\\\":0,\\\"delay factor\\\":6.0},\\\"nameSub\\\":\\\"ECE 3000\\/4000 Elective\\\",\\\"id\\\":42,\\\"credits\\\":3,\\\"nameCanonical\\\":\\\"\\\"},{\\\"curriculum_requisites\\\":[{\\\"source_id\\\":19,\\\"target_id\\\":43,\\\"type\\\":\\\"CurriculumPrerequisite\\\"}],\\\"name\\\":\\\" \\\",\\\"metrics\\\":{\\\"complexity\\\":6.0,\\\"centrality\\\":0,\\\"blocking factor\\\":0,\\\"delay factor\\\":6.0},\\\"nameSub\\\":\\\"ECE 3000\\/4000 Elective\\\",\\\"id\\\":43,\\\"credits\\\":3,\\\"nameCanonical\\\":\\\"\\\"},{\\\"curriculum_requisites\\\":[],\\\"name\\\":\\\" \\\",\\\"metrics\\\":{\\\"complexity\\\":1.0,\\\"centrality\\\":0,\\\"blocking factor\\\":0,\\\"delay factor\\\":1.0},\\\"nameSub\\\":\\\"Elective Hours\\\",\\\"id\\\":44,\\\"credits\\\":3,\\\"nameCanonical\\\":\\\"\\\"},{\\\"curriculum_requisites\\\":[{\\\"source_id\\\":19,\\\"target_id\\\":45,\\\"type\\\":\\\"CurriculumPrerequisite\\\"}],\\\"name\\\":\\\" \\\",\\\"metrics\\\":{\\\"complexity\\\":6.0,\\\"centrality\\\":0,\\\"blocking factor\\\":0,\\\"delay factor\\\":6.0},\\\"nameSub\\\":\\\"Circuit Technologies Topics\\\",\\\"id\\\":45,\\\"credits\\\":3,\\\"nameCanonical\\\":\\\"\\\"}],\\\"id\\\":8}],\\\"institution\\\":\\\"Georgia Institute of Technology\\\"}},\\\"*\\\"); window.removeEventListener(\\\"message\\\",window.messageReceived); window.messageReceived=(function (event){return (event.data.curriculum!==undefined) ? (WebIO.setval({\\\"name\\\":\\\"curriculum-data\\\",\\\"scope\\\":\\\"6514538879447663807\\\",\\\"id\\\":\\\"2355412272623310522\\\",\\\"type\\\":\\\"observable\\\"},event.data.curriculum)) : undefined}); return window.addEventListener(\\\"message\\\",window.messageReceived)})\"},\"style\":{\"padding\":\"0\",\"height\":\"100vh\",\"margin\":\"0\",\"border\":\"none\",\"width\":\"100%\"}},\"nodeType\":\"DOM\",\"type\":\"node\",\"instanceArgs\":{\"namespace\":\"html\",\"tag\":\"iframe\"},\"children\":[\"\"]}]},\n",
       "            window,\n",
       "        );\n",
       "    } else {\n",
       "        document\n",
       "            .querySelector('[data-webio-mountpoint=\"13209584528881900276\"]')\n",
       "            .innerHTML = (\n",
       "                '<div style=\"padding: 1em; background-color: #f8d6da; border: 1px solid #f5c6cb\">' +\n",
       "                '<p><strong>WebIO not detected.</strong></p>' +\n",
       "                '<p>Please read ' +\n",
       "                '<a href=\"https://juliagizmos.github.io/WebIO.jl/latest/troubleshooting/not-detected/\" target=\"_blank\">the troubleshooting guide</a> ' +\n",
       "                'for more information on how to resolve this issue.</p>' +\n",
       "                '<p><a href=\"https://juliagizmos.github.io/WebIO.jl/latest/troubleshooting/not-detected/\" target=\"_blank\">https://juliagizmos.github.io/WebIO.jl/latest/troubleshooting/not-detected/</a></p>' +\n",
       "                '</div>'\n",
       "            );\n",
       "    }\n",
       "    </script>\n",
       "</div>\n"
      ],
      "text/plain": [
       "WebIO.Scope(WebIO.Node{WebIO.DOM}(WebIO.DOM(:html, :iframe), Any[\"\"], Dict{Symbol, Any}(:src => \"https://curricula-api-embed.damoursystems.com/\", :id => \"curriculum\", :events => Dict{Symbol, WebIO.JSString}(:load => WebIO.JSString(\"(function (){this.contentWindow.postMessage({\\\"options\\\":{\\\"hideTerms\\\":false,\\\"edit\\\":false},\\\"curriculum\\\":{\\\"name\\\":\\\"Electrical Engineering - Electronic Devices and Circuit Technology\\\",\\\"dp_name\\\":\\\"2021-22 Plan\\\",\\\"curriculum_terms\\\":[{\\\"name\\\":\\\"Term 1\\\",\\\"curriculum_items\\\":[{\\\"curriculum_requisites\\\":[],\\\"name\\\":\\\"CHEM 1310\\\",\\\"metrics\\\":{\\\"complexity\\\":6.0,\\\"centrality\\\":0,\\\"blocking factor\\\":3,\\\"delay factor\\\":3.0},\\\"nameSub\\\":\\\"General Chemistry\\\",\\\"id\\\":1,\\\"credits\\\":4,\\\"nameCanonical\\\":\\\"\\\"},{\\\"curriculum_requisites\\\":[],\\\"name\\\":\\\"CS 1301\\\",\\\"metrics\\\":{\\\"complexity\\\":16.0,\\\"centrality\\\":0,\\\"blocking factor\\\":10,\\\"delay factor\\\":6.0},\\\"nameSub\\\":\\\"Intro to Computing\\\",\\\"id\\\":2,\\\"credits\\\":3,\\\"nameCanonical\\\":\\\"\\\"},{\\\"curriculum_requisites\\\":[],\\\"name\\\":\\\"ECE 1100\\\",\\\"metrics\\\":{\\\"complexity\\\":1.0,\\\"centrality\\\":0,\\\"blocking factor\\\":0,\\\"delay factor\\\":1.0},\\\"nameSub\\\":\\\"ECE Discovery Studio\\\",\\\"id\\\":3,\\\"credits\\\":1,\\\"nameCanonical\\\":\\\"\\\"},{\\\"curriculum_requisites\\\":[],\\\"name\\\":\\\"ENGL 1101\\\",\\\"metrics\\\":{\\\"complexity\\\":3.0,\\\"centrality\\\":0,\\\"blocking factor\\\":1,\\\"delay factor\\\":2.0},\\\"nameSub\\\":\\\"English Composition I\\\",\\\"id\\\":4,\\\"credits\\\":3,\\\"nameCanonical\\\":\\\"\\\"},{\\\"curriculum_requisites\\\":[],\\\"name\\\":\\\"MATH 1551\\\",\\\"metrics\\\":{\\\"complexity\\\":27.0,\\\"centrality\\\":0,\\\"blocking factor\\\":19,\\\"delay factor\\\":8.0},\\\"nameSub\\\":\\\"Differential Calculus\\\",\\\"id\\\":5,\\\"credits\\\":2,\\\"nameCanonical\\\":\\\"\\\"},{\\\"curriculum_requisites\\\":[{\\\"source_id\\\":5,\\\"target_id\\\":6,\\\"type\\\":\\\"CurriculumCorequisite\\\"}],\\\"name\\\":\\\"MATH 1554\\\",\\\"metrics\\\":{\\\"complexity\\\":19.0,\\\"centrality\\\":55,\\\"blocking factor\\\":12,\\\"delay factor\\\":7.0},\\\"nameSub\\\":\\\"Linear Algebra\\\",\\\"id\\\":6,\\\"credits\\\":4,\\\"nameCanonical\\\":\\\"\\\"}],\\\"id\\\":1},{\\\"name\\\":\\\"Term 2\\\",\\\"curriculum_items\\\":[{\\\"curriculum_requisites\\\":[{\\\"source_id\\\":2,\\\"target_id\\\":7,\\\"type\\\":\\\"CurriculumPrerequisite\\\"}],\\\"name\\\":\\\"ECE 2020\\\",\\\"metrics\\\":{\\\"complexity\\\":11.0,\\\"centrality\\\":41,\\\"blocking factor\\\":5,\\\"delay factor\\\":6.0},\\\"nameSub\\\":\\\"Fund. of Digital System Design\\\",\\\"id\\\":7,\\\"credits\\\":3,\\\"nameCanonical\\\":\\\"\\\"},{\\\"curriculum_requisites\\\":[{\\\"source_id\\\":4,\\\"target_id\\\":8,\\\"type\\\":\\\"CurriculumPrerequisite\\\"}],\\\"name\\\":\\\"ENGL 1102\\\",\\\"metrics\\\":{\\\"complexity\\\":2.0,\\\"centrality\\\":0,\\\"blocking factor\\\":0,\\\"delay factor\\\":2.0},\\\"nameSub\\\":\\\"English Composition II\\\",\\\"id\\\":8,\\\"credits\\\":3,\\\"nameCanonical\\\":\\\"\\\"},{\\\"curriculum_requisites\\\":[{\\\"source_id\\\":5,\\\"target_id\\\":9,\\\"type\\\":\\\"CurriculumPrerequisite\\\"}],\\\"name\\\":\\\"MATH 1552\\\",\\\"metrics\\\":{\\\"complexity\\\":25.0,\\\"centrality\\\":111,\\\"blocking factor\\\":17,\\\"delay factor\\\":8.0},\\\"nameSub\\\":\\\"Integral Calculus\\\",\\\"id\\\":9,\\\"credits\\\":4,\\\"nameCanonical\\\":\\\"\\\"},{\\\"curriculum_requisites\\\":[{\\\"source_id\\\":9,\\\"target_id\\\":10,\\\"type\\\":\\\"CurriculumCorequisite\\\"}],\\\"name\\\":\\\"PHYS  2211\\\",\\\"metrics\\\":{\\\"complexity\\\":20.0,\\\"centrality\\\":46,\\\"blocking factor\\\":12,\\\"delay factor\\\":8.0},\\\"nameSub\\\":\\\"Intro Physics 1\\\",\\\"id\\\":10,\\\"credits\\\":4,\\\"nameCanonical\\\":\\\"\\\"},{\\\"curriculum_requisites\\\":[],\\\"name\\\":\\\" \\\",\\\"metrics\\\":{\\\"complexity\\\":1.0,\\\"centrality\\\":0,\\\"blocking factor\\\":0,\\\"delay factor\\\":1.0},\\\"nameSub\\\":\\\"History/Government Elective\\\",\\\"id\\\":11,\\\"credits\\\":3,\\\"nameCanonical\\\":\\\"\\\"}],\\\"id\\\":2},{\\\"name\\\":\\\"Term 3\\\",\\\"curriculum_items\\\":[{\\\"curriculum_requisites\\\":[{\\\"source_id\\\":2,\\\"target_id\\\":12,\\\"type\\\":\\\"CurriculumPrerequisite\\\"},{\\\"source_id\\\":9,\\\"target_id\\\":12,\\\"type\\\":\\\"CurriculumPrerequisite\\\"}],\\\"name\\\":\\\"ECE 2026\\\",\\\"metrics\\\":{\\\"complexity\\\":9.0,\\\"centrality\\\":11,\\\"blocking factor\\\":3,\\\"delay factor\\\":6.0},\\\"nameSub\\\":\\\"Intro. to Signal Processing\\\",\\\"id\\\":12,\\\"credits\\\":3,\\\"nameCanonical\\\":\\\"\\\"},{\\\"curriculum_requisites\\\":[],\\\"name\\\":\\\" \\\",\\\"metrics\\\":{\\\"complexity\\\":1.0,\\\"centrality\\\":0,\\\"blocking factor\\\":0,\\\"delay factor\\\":1.0},\\\"nameSub\\\":\\\"Econ/Social Science Elective\\\",\\\"id\\\":13,\\\"credits\\\":3,\\\"nameCanonical\\\":\\\"\\\"},{\\\"curriculum_requisites\\\":[],\\\"name\\\":\\\" \\\",\\\"metrics\\\":{\\\"complexity\\\":1.0,\\\"centrality\\\":0,\\\"blocking factor\\\":0,\\\"delay factor\\\":1.0},\\\"nameSub\\\":\\\"Humanities Elective\\\",\\\"id\\\":14,\\\"credits\\\":3,\\\"nameCanonical\\\":\\\"\\\"},{\\\"curriculum_requisites\\\":[{\\\"source_id\\\":6,\\\"target_id\\\":15,\\\"type\\\":\\\"CurriculumPrerequisite\\\"},{\\\"source_id\\\":9,\\\"target_id\\\":15,\\\"type\\\":\\\"CurriculumPrerequisite\\\"}],\\\"name\\\":\\\"MATH 2552\\\",\\\"metrics\\\":{\\\"complexity\\\":18.0,\\\"centrality\\\":110,\\\"blocking factor\\\":11,\\\"delay factor\\\":7.0},\\\"nameSub\\\":\\\"Differential Equations\\\",\\\"id\\\":15,\\\"credits\\\":4,\\\"nameCanonical\\\":\\\"\\\"},{\\\"curriculum_requisites\\\":[{\\\"source_id\\\":10,\\\"target_id\\\":16,\\\"type\\\":\\\"CurriculumPrerequisite\\\"}],\\\"name\\\":\\\"PHYS  2212\\\",\\\"metrics\\\":{\\\"complexity\\\":19.0,\\\"centrality\\\":46,\\\"blocking factor\\\":11,\\\"delay factor\\\":8.0},\\\"nameSub\\\":\\\"Intro. Physics 2\\\",\\\"id\\\":16,\\\"credits\\\":4,\\\"nameCanonical\\\":\\\"\\\"}],\\\"id\\\":3},{\\\"name\\\":\\\"Term 4\\\",\\\"curriculum_items\\\":[{\\\"curriculum_requisites\\\":[{\\\"source_id\\\":7,\\\"target_id\\\":17,\\\"type\\\":\\\"CurriculumPrerequisite\\\"},{\\\"source_id\\\":18,\\\"target_id\\\":17,\\\"type\\\":\\\"CurriculumCorequisite\\\"}],\\\"name\\\":\\\"ECE 2031\\\",\\\"metrics\\\":{\\\"complexity\\\":9.0,\\\"centrality\\\":31,\\\"blocking factor\\\":3,\\\"delay factor\\\":6.0},\\\"nameSub\\\":\\\"Digital Design Lab\\\",\\\"id\\\":17,\\\"credits\\\":2,\\\"nameCanonical\\\":\\\"\\\"},{\\\"curriculum_requisites\\\":[{\\\"source_id\\\":7,\\\"target_id\\\":18,\\\"type\\\":\\\"CurriculumPrerequisite\\\"}],\\\"name\\\":\\\"ECE 2035\\\",\\\"metrics\\\":{\\\"complexity\\\":10.0,\\\"centrality\\\":27,\\\"blocking factor\\\":4,\\\"delay factor\\\":6.0},\\\"nameSub\\\":\\\"Programming Elective\\\",\\\"id\\\":18,\\\"credits\\\":4,\\\"nameCanonical\\\":\\\"\\\"},{\\\"curriculum_requisites\\\":[{\\\"source_id\\\":16,\\\"target_id\\\":19,\\\"type\\\":\\\"CurriculumPrerequisite\\\"},{\\\"source_id\\\":15,\\\"target_id\\\":19,\\\"type\\\":\\\"CurriculumPrerequisite\\\"}],\\\"name\\\":\\\"ECE 2040\\\",\\\"metrics\\\":{\\\"complexity\\\":18.0,\\\"centrality\\\":124,\\\"blocking factor\\\":10,\\\"delay factor\\\":8.0},\\\"nameSub\\\":\\\"Circuit Analysis\\\",\\\"id\\\":19,\\\"credits\\\":3,\\\"nameCanonical\\\":\\\"\\\"},{\\\"curriculum_requisites\\\":[{\\\"source_id\\\":9,\\\"target_id\\\":20,\\\"type\\\":\\\"CurriculumPrerequisite\\\"}],\\\"name\\\":\\\"MATH 2551\\\",\\\"metrics\\\":{\\\"complexity\\\":5.0,\\\"centrality\\\":4,\\\"blocking factor\\\":1,\\\"delay factor\\\":4.0},\\\"nameSub\\\":\\\"Multivariate Calculus\\\",\\\"id\\\":20,\\\"credits\\\":4,\\\"nameCanonical\\\":\\\"\\\"},{\\\"curriculum_requisites\\\":[],\\\"name\\\":\\\" \\\",\\\"metrics\\\":{\\\"complexity\\\":1.0,\\\"centrality\\\":0,\\\"blocking factor\\\":0,\\\"delay factor\\\":1.0},\\\"nameSub\\\":\\\"Science Elective\\\",\\\"id\\\":21,\\\"credits\\\":3,\\\"nameCanonical\\\":\\\"\\\"}],\\\"id\\\":4},{\\\"name\\\":\\\"Term 5\\\",\\\"curriculum_items\\\":[{\\\"curriculum_requisites\\\":[{\\\"source_id\\\":15,\\\"target_id\\\":22,\\\"type\\\":\\\"CurriculumPrerequisite\\\"},{\\\"source_id\\\":18,\\\"target_id\\\":22,\\\"type\\\":\\\"CurriculumPrerequisite\\\"},{\\\"source_id\\\":17,\\\"target_id\\\":22,\\\"type\\\":\\\"CurriculumPrerequisite\\\"},{\\\"source_id\\\":1,\\\"target_id\\\":22,\\\"type\\\":\\\"CurriculumPrerequisite\\\"},{\\\"source_id\\\":19,\\\"target_id\\\":22,\\\"type\\\":\\\"CurriculumPrerequisite\\\"}],\\\"name\\\":\\\"ECE 3040\\\",\\\"metrics\\\":{\\\"complexity\\\":9.0,\\\"centrality\\\":96,\\\"blocking factor\\\":2,\\\"delay factor\\\":7.0},\\\"nameSub\\\":\\\"Microelectronic Circuits\\\",\\\"id\\\":22,\\\"credits\\\":4,\\\"nameCanonical\\\":\\\"\\\"},{\\\"curriculum_requisites\\\":[{\\\"source_id\\\":22,\\\"target_id\\\":23,\\\"type\\\":\\\"CurriculumCorequisite\\\"},{\\\"source_id\\\":17,\\\"target_id\\\":23,\\\"type\\\":\\\"CurriculumPrerequisite\\\"}],\\\"name\\\":\\\"ECE 3043\\\",\\\"metrics\\\":{\\\"complexity\\\":7.0,\\\"centrality\\\":0,\\\"blocking factor\\\":0,\\\"delay factor\\\":7.0},\\\"nameSub\\\":\\\"Measurements, Circuits and Microelectronics Lab\\\",\\\"id\\\":23,\\\"credits\\\":2,\\\"nameCanonical\\\":\\\"\\\"},{\\\"curriculum_requisites\\\":[{\\\"source_id\\\":15,\\\"target_id\\\":24,\\\"type\\\":\\\"CurriculumPrerequisite\\\"},{\\\"source_id\\\":12,\\\"target_id\\\":24,\\\"type\\\":\\\"CurriculumPrerequisite\\\"},{\\\"source_id\\\":19,\\\"target_id\\\":24,\\\"type\\\":\\\"CurriculumPrerequisite\\\"}],\\\"name\\\":\\\"ECE 3025\\\",\\\"metrics\\\":{\\\"complexity\\\":10.0,\\\"centrality\\\":45,\\\"blocking factor\\\":2,\\\"delay factor\\\":8.0},\\\"nameSub\\\":\\\"Electromagnetics\\\",\\\"id\\\":24,\\\"credits\\\":3,\\\"nameCanonical\\\":\\\"\\\"},{\\\"curriculum_requisites\\\":[{\\\"source_id\\\":20,\\\"target_id\\\":25,\\\"type\\\":\\\"CurriculumPrerequisite\\\"}],\\\"name\\\":\\\" \\\",\\\"metrics\\\":{\\\"complexity\\\":4.0,\\\"centrality\\\":0,\\\"blocking factor\\\":0,\\\"delay factor\\\":4.0},\\\"nameSub\\\":\\\"Prob & Stat Elective\\\",\\\"id\\\":25,\\\"credits\\\":3,\\\"nameCanonical\\\":\\\"\\\"},{\\\"curriculum_requisites\\\":[],\\\"name\\\":\\\"APPH 1040\\\",\\\"metrics\\\":{\\\"complexity\\\":1.0,\\\"centrality\\\":0,\\\"blocking factor\\\":0,\\\"delay factor\\\":1.0},\\\"nameSub\\\":\\\"\\\",\\\"id\\\":26,\\\"credits\\\":2,\\\"nameCanonical\\\":\\\"\\\"},{\\\"curriculum_requisites\\\":[],\\\"name\\\":\\\" \\\",\\\"metrics\\\":{\\\"complexity\\\":1.0,\\\"centrality\\\":0,\\\"blocking factor\\\":0,\\\"delay factor\\\":1.0},\\\"nameSub\\\":\\\"Humanities Elective\\\",\\\"id\\\":27,\\\"credits\\\":3,\\\"nameCanonical\\\":\\\"\\\"}],\\\"id\\\":5},{\\\"name\\\":\\\"Term 6\\\",\\\"curriculum_items\\\":[{\\\"curriculum_requisites\\\":[],\\\"name\\\":\\\"ECE 3005\\\",\\\"metrics\\\":{\\\"complexity\\\":1.0,\\\"centrality\\\":0,\\\"blocking factor\\\":0,\\\"delay factor\\\":1.0},\\\"nameSub\\\":\\\"\\\",\\\"id\\\":28,\\\"credits\\\":1,\\\"nameCanonical\\\":\\\"\\\"},{\\\"curriculum_requisites\\\":[],\\\"name\\\":\\\" \\\",\\\"metrics\\\":{\\\"complexity\\\":1.0,\\\"centrality\\\":0,\\\"blocking factor\\\":0,\\\"delay factor\\\":1.0},\\\"nameSub\\\":\\\"Elective Hours\\\",\\\"id\\\":29,\\\"credits\\\":3,\\\"nameCanonical\\\":\\\"\\\"},{\\\"curriculum_requisites\\\":[],\\\"name\\\":\\\"ECE 3450\\\",\\\"metrics\\\":{\\\"complexity\\\":1.0,\\\"centrality\\\":0,\\\"blocking factor\\\":0,\\\"delay factor\\\":1.0},\\\"nameSub\\\":\\\"\\\",\\\"id\\\":30,\\\"credits\\\":3,\\\"nameCanonical\\\":\\\"\\\"},{\\\"curriculum_requisites\\\":[],\\\"name\\\":\\\"ECE 3400\\\",\\\"metrics\\\":{\\\"complexity\\\":1.0,\\\"centrality\\\":0,\\\"blocking factor\\\":0,\\\"delay factor\\\":1.0},\\\"nameSub\\\":\\\"\\\",\\\"id\\\":31,\\\"credits\\\":3,\\\"nameCanonical\\\":\\\"\\\"},{\\\"curriculum_requisites\\\":[],\\\"name\\\":\\\" \\\",\\\"metrics\\\":{\\\"complexity\\\":1.0,\\\"centrality\\\":0,\\\"blocking factor\\\":0,\\\"delay factor\\\":1.0},\\\"nameSub\\\":\\\"Social Science Elective\\\",\\\"id\\\":32,\\\"credits\\\":3,\\\"nameCanonical\\\":\\\"\\\"},{\\\"curriculum_requisites\\\":[],\\\"name\\\":\\\" \\\",\\\"metrics\\\":{\\\"complexity\\\":1.0,\\\"centrality\\\":0,\\\"blocking factor\\\":0,\\\"delay factor\\\":1.0},\\\"nameSub\\\":\\\"Elective Hours\\\",\\\"id\\\":33,\\\"credits\\\":3,\\\"nameCanonical\\\":\\\"\\\"}],\\\"id\\\":6},{\\\"name\\\":\\\"Term 7\\\",\\\"curriculum_items\\\":[{\\\"curriculum_requisites\\\":[{\\\"source_id\\\":24,\\\"target_id\\\":35,\\\"type\\\":\\\"CurriculumPrerequisite\\\"}],\\\"name\\\":\\\" \\\",\\\"metrics\\\":{\\\"complexity\\\":9.0,\\\"centrality\\\":45,\\\"blocking factor\\\":1,\\\"delay factor\\\":8.0},\\\"nameSub\\\":\\\"Senior Design Sequence\\\",\\\"id\\\":35,\\\"credits\\\":1,\\\"nameCanonical\\\":\\\"\\\"},{\\\"curriculum_requisites\\\":[{\\\"source_id\\\":22,\\\"target_id\\\":36,\\\"type\\\":\\\"CurriculumPrerequisite\\\"}],\\\"name\\\":\\\" \\\",\\\"metrics\\\":{\\\"complexity\\\":7.0,\\\"centrality\\\":0,\\\"blocking factor\\\":0,\\\"delay factor\\\":7.0},\\\"nameSub\\\":\\\"Electronic Devices Topics\\\",\\\"id\\\":36,\\\"credits\\\":3,\\\"nameCanonical\\\":\\\"\\\"},{\\\"curriculum_requisites\\\":[{\\\"source_id\\\":19,\\\"target_id\\\":37,\\\"type\\\":\\\"CurriculumPrerequisite\\\"}],\\\"name\\\":\\\" \\\",\\\"metrics\\\":{\\\"complexity\\\":6.0,\\\"centrality\\\":0,\\\"blocking factor\\\":0,\\\"delay factor\\\":6.0},\\\"nameSub\\\":\\\"ECE 3000/4000 Elective\\\",\\\"id\\\":37,\\\"credits\\\":3,\\\"nameCanonical\\\":\\\"\\\"},{\\\"curriculum_requisites\\\":[],\\\"name\\\":\\\"ECE 4452\\\",\\\"metrics\\\":{\\\"complexity\\\":1.0,\\\"centrality\\\":0,\\\"blocking factor\\\":0,\\\"delay factor\\\":1.0},\\\"nameSub\\\":\\\"\\\",\\\"id\\\":38,\\\"credits\\\":3,\\\"nameCanonical\\\":\\\"\\\"},{\\\"curriculum_requisites\\\":[],\\\"name\\\":\\\" \\\",\\\"metrics\\\":{\\\"complexity\\\":1.0,\\\"centrality\\\":0,\\\"blocking factor\\\":0,\\\"delay factor\\\":1.0},\\\"nameSub\\\":\\\"Elective Hours\\\",\\\"id\\\":39,\\\"credits\\\":2,\\\"nameCanonical\\\":\\\"\\\"},{\\\"curriculum_requisites\\\":[],\\\"name\\\":\\\" \\\",\\\"metrics\\\":{\\\"complexity\\\":1.0,\\\"centrality\\\":0,\\\"blocking factor\\\":0,\\\"delay factor\\\":1.0},\\\"nameSub\\\":\\\"Social Science Elective\\\",\\\"id\\\":40,\\\"credits\\\":3,\\\"nameCanonical\\\":\\\"\\\"}],\\\"id\\\":7},{\\\"name\\\":\\\"Term 8\\\",\\\"curriculum_items\\\":[{\\\"curriculum_requisites\\\":[{\\\"source_id\\\":35,\\\"target_id\\\":41,\\\"type\\\":\\\"CurriculumPrerequisite\\\"}],\\\"name\\\":\\\" \\\",\\\"metrics\\\":{\\\"complexity\\\":8.0,\\\"centrality\\\":0,\\\"blocking factor\\\":0,\\\"delay factor\\\":8.0},\\\"nameSub\\\":\\\"Senior Design Sequence\\\",\\\"id\\\":41,\\\"credits\\\":2,\\\"nameCanonical\\\":\\\"\\\"},{\\\"curriculum_requisites\\\":[{\\\"source_id\\\":19,\\\"target_id\\\":42,\\\"type\\\":\\\"CurriculumPrerequisite\\\"}],\\\"name\\\":\\\" \\\",\\\"metrics\\\":{\\\"complexity\\\":6.0,\\\"centrality\\\":0,\\\"blocking factor\\\":0,\\\"delay factor\\\":6.0},\\\"nameSub\\\":\\\"ECE 3000/4000 Elective\\\",\\\"id\\\":42,\\\"credits\\\":3,\\\"nameCanonical\\\":\\\"\\\"},{\\\"curriculum_requisites\\\":[{\\\"source_id\\\":19,\\\"target_id\\\":43,\\\"type\\\":\\\"CurriculumPrerequisite\\\"}],\\\"name\\\":\\\" \\\",\\\"metrics\\\":{\\\"complexity\\\":6.0,\\\"centrality\\\":0,\\\"blocking factor\\\":0,\\\"delay factor\\\":6.0},\\\"nameSub\\\":\\\"ECE 3000/4000 Elective\\\",\\\"id\\\":43,\\\"credits\\\":3,\\\"nameCanonical\\\":\\\"\\\"},{\\\"curriculum_requisites\\\":[],\\\"name\\\":\\\" \\\",\\\"metrics\\\":{\\\"complexity\\\":1.0,\\\"centrality\\\":0,\\\"blocking factor\\\":0,\\\"delay factor\\\":1.0},\\\"nameSub\\\":\\\"Elective Hours\\\",\\\"id\\\":44,\\\"credits\\\":3,\\\"nameCanonical\\\":\\\"\\\"},{\\\"curriculum_requisites\\\":[{\\\"source_id\\\":19,\\\"target_id\\\":45,\\\"type\\\":\\\"CurriculumPrerequisite\\\"}],\\\"name\\\":\\\" \\\",\\\"metrics\\\":{\\\"complexity\\\":6.0,\\\"centrality\\\":0,\\\"blocking factor\\\":0,\\\"delay factor\\\":6.0},\\\"nameSub\\\":\\\"Circuit Technologies Topics\\\",\\\"id\\\":45,\\\"credits\\\":3,\\\"nameCanonical\\\":\\\"\\\"}],\\\"id\\\":8}],\\\"institution\\\":\\\"Georgia Institute of Technology\\\"}},\\\"*\\\"); window.removeEventListener(\\\"message\\\",window.messageReceived); window.messageReceived=(function (event){return (event.data.curriculum!==undefined) ? (WebIO.setval({\\\"name\\\":\\\"curriculum-data\\\",\\\"scope\\\":\\\"6514538879447663807\\\",\\\"id\\\":\\\"2355412272623310522\\\",\\\"type\\\":\\\"observable\\\"},event.data.curriculum)) : undefined}); return window.addEventListener(\\\"message\\\",window.messageReceived)})\")), :style => Dict(:padding => \"0\", :height => \"100vh\", :margin => \"0\", :border => \"none\", :width => \"100%\"))), Dict{String, Tuple{Observables.AbstractObservable, Union{Nothing, Bool}}}(\"curriculum-data\" => (Observable{Dict{String, Any}} with 1 listeners. Value:\n",
       "Dict{String, Any}(\"options\" => Dict{String, Any}(\"hideTerms\" => false, \"edit\" => false), \"curriculum\" => Dict{String, Any}(\"name\" => \"Electrical Engineering - Electronic Devices and Circuit Technology\", \"dp_name\" => \"2021-22 Plan\", \"curriculum_terms\" => Dict{String, Any}[Dict(\"name\" => \"Term 1\", \"curriculum_items\" => Dict{String, Any}[Dict(\"curriculum_requisites\" => Dict{String, Any}[], \"name\" => \"CHEM 1310\", \"metrics\" => Dict{String, Any}(\"complexity\" => 6.0, \"centrality\" => 0, \"blocking factor\" => 3, \"delay factor\" => 3.0), \"nameSub\" => \"General Chemistry\", \"id\" => 1, \"credits\" => 4, \"nameCanonical\" => \"\"), Dict(\"curriculum_requisites\" => Dict{String, Any}[], \"name\" => \"CS 1301\", \"metrics\" => Dict{String, Any}(\"complexity\" => 16.0, \"centrality\" => 0, \"blocking factor\" => 10, \"delay factor\" => 6.0), \"nameSub\" => \"Intro to Computing\", \"id\" => 2, \"credits\" => 3, \"nameCanonical\" => \"\"), Dict(\"curriculum_requisites\" => Dict{String, Any}[], \"name\" => \"ECE 1100\", \"metrics\" => Dict{String, Any}(\"complexity\" => 1.0, \"centrality\" => 0, \"blocking factor\" => 0, \"delay factor\" => 1.0), \"nameSub\" => \"ECE Discovery Studio\", \"id\" => 3, \"credits\" => 1, \"nameCanonical\" => \"\"), Dict(\"curriculum_requisites\" => Dict{String, Any}[], \"name\" => \"ENGL 1101\", \"metrics\" => Dict{String, Any}(\"complexity\" => 3.0, \"centrality\" => 0, \"blocking factor\" => 1, \"delay factor\" => 2.0), \"nameSub\" => \"English Composition I\", \"id\" => 4, \"credits\" => 3, \"nameCanonical\" => \"\"), Dict(\"curriculum_requisites\" => Dict{String, Any}[], \"name\" => \"MATH 1551\", \"metrics\" => Dict{String, Any}(\"complexity\" => 27.0, \"centrality\" => 0, \"blocking factor\" => 19, \"delay factor\" => 8.0), \"nameSub\" => \"Differential Calculus\", \"id\" => 5, \"credits\" => 2, \"nameCanonical\" => \"\"), Dict(\"curriculum_requisites\" => Dict{String, Any}[Dict(\"source_id\" => 5, \"target_id\" => 6, \"type\" => \"CurriculumCorequisite\")], \"name\" => \"MATH 1554\", \"metrics\" => Dict{String, Any}(\"complexity\" => 19.0, \"centrality\" => 55, \"blocking factor\" => 12, \"delay factor\" => 7.0), \"nameSub\" => \"Linear Algebra\", \"id\" => 6, \"credits\" => 4, \"nameCanonical\" => \"\")], \"id\" => 1), Dict(\"name\" => \"Term 2\", \"curriculum_items\" => Dict{String, Any}[Dict(\"curriculum_requisites\" => Dict{String, Any}[Dict(\"source_id\" => 2, \"target_id\" => 7, \"type\" => \"CurriculumPrerequisite\")], \"name\" => \"ECE 2020\", \"metrics\" => Dict{String, Any}(\"complexity\" => 11.0, \"centrality\" => 41, \"blocking factor\" => 5, \"delay factor\" => 6.0), \"nameSub\" => \"Fund. of Digital System Design\", \"id\" => 7, \"credits\" => 3, \"nameCanonical\" => \"\"), Dict(\"curriculum_requisites\" => Dict{String, Any}[Dict(\"source_id\" => 4, \"target_id\" => 8, \"type\" => \"CurriculumPrerequisite\")], \"name\" => \"ENGL 1102\", \"metrics\" => Dict{String, Any}(\"complexity\" => 2.0, \"centrality\" => 0, \"blocking factor\" => 0, \"delay factor\" => 2.0), \"nameSub\" => \"English Composition II\", \"id\" => 8, \"credits\" => 3, \"nameCanonical\" => \"\"), Dict(\"curriculum_requisites\" => Dict{String, Any}[Dict(\"source_id\" => 5, \"target_id\" => 9, \"type\" => \"CurriculumPrerequisite\")], \"name\" => \"MATH 1552\", \"metrics\" => Dict{String, Any}(\"complexity\" => 25.0, \"centrality\" => 111, \"blocking factor\" => 17, \"delay factor\" => 8.0), \"nameSub\" => \"Integral Calculus\", \"id\" => 9, \"credits\" => 4, \"nameCanonical\" => \"\"), Dict(\"curriculum_requisites\" => Dict{String, Any}[Dict(\"source_id\" => 9, \"target_id\" => 10, \"type\" => \"CurriculumCorequisite\")], \"name\" => \"PHYS  2211\", \"metrics\" => Dict{String, Any}(\"complexity\" => 20.0, \"centrality\" => 46, \"blocking factor\" => 12, \"delay factor\" => 8.0), \"nameSub\" => \"Intro Physics 1\", \"id\" => 10, \"credits\" => 4, \"nameCanonical\" => \"\"), Dict(\"curriculum_requisites\" => Dict{String, Any}[], \"name\" => \" \", \"metrics\" => Dict{String, Any}(\"complexity\" => 1.0, \"centrality\" => 0, \"blocking factor\" => 0, \"delay factor\" => 1.0), \"nameSub\" => \"History/Government Elective\", \"id\" => 11, \"credits\" => 3, \"nameCanonical\" => \"\")], \"id\" => 2), Dict(\"name\" => \"Term 3\", \"curriculum_items\" => Dict{String, Any}[Dict(\"curriculum_requisites\" => Dict{String, Any}[Dict(\"source_id\" => 2, \"target_id\" => 12, \"type\" => \"CurriculumPrerequisite\"), Dict(\"source_id\" => 9, \"target_id\" => 12, \"type\" => \"CurriculumPrerequisite\")], \"name\" => \"ECE 2026\", \"metrics\" => Dict{String, Any}(\"complexity\" => 9.0, \"centrality\" => 11, \"blocking factor\" => 3, \"delay factor\" => 6.0), \"nameSub\" => \"Intro. to Signal Processing\", \"id\" => 12, \"credits\" => 3, \"nameCanonical\" => \"\"), Dict(\"curriculum_requisites\" => Dict{String, Any}[], \"name\" => \" \", \"metrics\" => Dict{String, Any}(\"complexity\" => 1.0, \"centrality\" => 0, \"blocking factor\" => 0, \"delay factor\" => 1.0), \"nameSub\" => \"Econ/Social Science Elective\", \"id\" => 13, \"credits\" => 3, \"nameCanonical\" => \"\"), Dict(\"curriculum_requisites\" => Dict{String, Any}[], \"name\" => \" \", \"metrics\" => Dict{String, Any}(\"complexity\" => 1.0, \"centrality\" => 0, \"blocking factor\" => 0, \"delay factor\" => 1.0), \"nameSub\" => \"Humanities Elective\", \"id\" => 14, \"credits\" => 3, \"nameCanonical\" => \"\"), Dict(\"curriculum_requisites\" => Dict{String, Any}[Dict(\"source_id\" => 6, \"target_id\" => 15, \"type\" => \"CurriculumPrerequisite\"), Dict(\"source_id\" => 9, \"target_id\" => 15, \"type\" => \"CurriculumPrerequisite\")], \"name\" => \"MATH 2552\", \"metrics\" => Dict{String, Any}(\"complexity\" => 18.0, \"centrality\" => 110, \"blocking factor\" => 11, \"delay factor\" => 7.0), \"nameSub\" => \"Differential Equations\", \"id\" => 15, \"credits\" => 4, \"nameCanonical\" => \"\"), Dict(\"curriculum_requisites\" => Dict{String, Any}[Dict(\"source_id\" => 10, \"target_id\" => 16, \"type\" => \"CurriculumPrerequisite\")], \"name\" => \"PHYS  2212\", \"metrics\" => Dict{String, Any}(\"complexity\" => 19.0, \"centrality\" => 46, \"blocking factor\" => 11, \"delay factor\" => 8.0), \"nameSub\" => \"Intro. Physics 2\", \"id\" => 16, \"credits\" => 4, \"nameCanonical\" => \"\")], \"id\" => 3), Dict(\"name\" => \"Term 4\", \"curriculum_items\" => Dict{String, Any}[Dict(\"curriculum_requisites\" => Dict{String, Any}[Dict(\"source_id\" => 7, \"target_id\" => 17, \"type\" => \"CurriculumPrerequisite\"), Dict(\"source_id\" => 18, \"target_id\" => 17, \"type\" => \"CurriculumCorequisite\")], \"name\" => \"ECE 2031\", \"metrics\" => Dict{String, Any}(\"complexity\" => 9.0, \"centrality\" => 31, \"blocking factor\" => 3, \"delay factor\" => 6.0), \"nameSub\" => \"Digital Design Lab\", \"id\" => 17, \"credits\" => 2, \"nameCanonical\" => \"\"), Dict(\"curriculum_requisites\" => Dict{String, Any}[Dict(\"source_id\" => 7, \"target_id\" => 18, \"type\" => \"CurriculumPrerequisite\")], \"name\" => \"ECE 2035\", \"metrics\" => Dict{String, Any}(\"complexity\" => 10.0, \"centrality\" => 27, \"blocking factor\" => 4, \"delay factor\" => 6.0), \"nameSub\" => \"Programming Elective\", \"id\" => 18, \"credits\" => 4, \"nameCanonical\" => \"\"), Dict(\"curriculum_requisites\" => Dict{String, Any}[Dict(\"source_id\" => 16, \"target_id\" => 19, \"type\" => \"CurriculumPrerequisite\"), Dict(\"source_id\" => 15, \"target_id\" => 19, \"type\" => \"CurriculumPrerequisite\")], \"name\" => \"ECE 2040\", \"metrics\" => Dict{String, Any}(\"complexity\" => 18.0, \"centrality\" => 124, \"blocking factor\" => 10, \"delay factor\" => 8.0), \"nameSub\" => \"Circuit Analysis\", \"id\" => 19, \"credits\" => 3, \"nameCanonical\" => \"\"), Dict(\"curriculum_requisites\" => Dict{String, Any}[Dict(\"source_id\" => 9, \"target_id\" => 20, \"type\" => \"CurriculumPrerequisite\")], \"name\" => \"MATH 2551\", \"metrics\" => Dict{String, Any}(\"complexity\" => 5.0, \"centrality\" => 4, \"blocking factor\" => 1, \"delay factor\" => 4.0), \"nameSub\" => \"Multivariate Calculus\", \"id\" => 20, \"credits\" => 4, \"nameCanonical\" => \"\"), Dict(\"curriculum_requisites\" => Dict{String, Any}[], \"name\" => \" \", \"metrics\" => Dict{String, Any}(\"complexity\" => 1.0, \"centrality\" => 0, \"blocking factor\" => 0, \"delay factor\" => 1.0), \"nameSub\" => \"Science Elective\", \"id\" => 21, \"credits\" => 3, \"nameCanonical\" => \"\")], \"id\" => 4), Dict(\"name\" => \"Term 5\", \"curriculum_items\" => Dict{String, Any}[Dict(\"curriculum_requisites\" => Dict{String, Any}[Dict(\"source_id\" => 15, \"target_id\" => 22, \"type\" => \"CurriculumPrerequisite\"), Dict(\"source_id\" => 18, \"target_id\" => 22, \"type\" => \"CurriculumPrerequisite\"), Dict(\"source_id\" => 17, \"target_id\" => 22, \"type\" => \"CurriculumPrerequisite\"), Dict(\"source_id\" => 1, \"target_id\" => 22, \"type\" => \"CurriculumPrerequisite\"), Dict(\"source_id\" => 19, \"target_id\" => 22, \"type\" => \"CurriculumPrerequisite\")], \"name\" => \"ECE 3040\", \"metrics\" => Dict{String, Any}(\"complexity\" => 9.0, \"centrality\" => 96, \"blocking factor\" => 2, \"delay factor\" => 7.0), \"nameSub\" => \"Microelectronic Circuits\", \"id\" => 22, \"credits\" => 4, \"nameCanonical\" => \"\"), Dict(\"curriculum_requisites\" => Dict{String, Any}[Dict(\"source_id\" => 22, \"target_id\" => 23, \"type\" => \"CurriculumCorequisite\"), Dict(\"source_id\" => 17, \"target_id\" => 23, \"type\" => \"CurriculumPrerequisite\")], \"name\" => \"ECE 3043\", \"metrics\" => Dict{String, Any}(\"complexity\" => 7.0, \"centrality\" => 0, \"blocking factor\" => 0, \"delay factor\" => 7.0), \"nameSub\" => \"Measurements, Circuits and Microelectronics Lab\", \"id\" => 23, \"credits\" => 2, \"nameCanonical\" => \"\"), Dict(\"curriculum_requisites\" => Dict{String, Any}[Dict(\"source_id\" => 15, \"target_id\" => 24, \"type\" => \"CurriculumPrerequisite\"), Dict(\"source_id\" => 12, \"target_id\" => 24, \"type\" => \"CurriculumPrerequisite\"), Dict(\"source_id\" => 19, \"target_id\" => 24, \"type\" => \"CurriculumPrerequisite\")], \"name\" => \"ECE 3025\", \"metrics\" => Dict{String, Any}(\"complexity\" => 10.0, \"centrality\" => 45, \"blocking factor\" => 2, \"delay factor\" => 8.0), \"nameSub\" => \"Electromagnetics\", \"id\" => 24, \"credits\" => 3, \"nameCanonical\" => \"\"), Dict(\"curriculum_requisites\" => Dict{String, Any}[Dict(\"source_id\" => 20, \"target_id\" => 25, \"type\" => \"CurriculumPrerequisite\")], \"name\" => \" \", \"metrics\" => Dict{String, Any}(\"complexity\" => 4.0, \"centrality\" => 0, \"blocking factor\" => 0, \"delay factor\" => 4.0), \"nameSub\" => \"Prob & Stat Elective\", \"id\" => 25, \"credits\" => 3, \"nameCanonical\" => \"\"), Dict(\"curriculum_requisites\" => Dict{String, Any}[], \"name\" => \"APPH 1040\", \"metrics\" => Dict{String, Any}(\"complexity\" => 1.0, \"centrality\" => 0, \"blocking factor\" => 0, \"delay factor\" => 1.0), \"nameSub\" => \"\", \"id\" => 26, \"credits\" => 2, \"nameCanonical\" => \"\"), Dict(\"curriculum_requisites\" => Dict{String, Any}[], \"name\" => \" \", \"metrics\" => Dict{String, Any}(\"complexity\" => 1.0, \"centrality\" => 0, \"blocking factor\" => 0, \"delay factor\" => 1.0), \"nameSub\" => \"Humanities Elective\", \"id\" => 27, \"credits\" => 3, \"nameCanonical\" => \"\")], \"id\" => 5), Dict(\"name\" => \"Term 6\", \"curriculum_items\" => Dict{String, Any}[Dict(\"curriculum_requisites\" => Dict{String, Any}[], \"name\" => \"ECE 3005\", \"metrics\" => Dict{String, Any}(\"complexity\" => 1.0, \"centrality\" => 0, \"blocking factor\" => 0, \"delay factor\" => 1.0), \"nameSub\" => \"\", \"id\" => 28, \"credits\" => 1, \"nameCanonical\" => \"\"), Dict(\"curriculum_requisites\" => Dict{String, Any}[], \"name\" => \" \", \"metrics\" => Dict{String, Any}(\"complexity\" => 1.0, \"centrality\" => 0, \"blocking factor\" => 0, \"delay factor\" => 1.0), \"nameSub\" => \"Elective Hours\", \"id\" => 29, \"credits\" => 3, \"nameCanonical\" => \"\"), Dict(\"curriculum_requisites\" => Dict{String, Any}[], \"name\" => \"ECE 3450\", \"metrics\" => Dict{String, Any}(\"complexity\" => 1.0, \"centrality\" => 0, \"blocking factor\" => 0, \"delay factor\" => 1.0), \"nameSub\" => \"\", \"id\" => 30, \"credits\" => 3, \"nameCanonical\" => \"\"), Dict(\"curriculum_requisites\" => Dict{String, Any}[], \"name\" => \"ECE 3400\", \"metrics\" => Dict{String, Any}(\"complexity\" => 1.0, \"centrality\" => 0, \"blocking factor\" => 0, \"delay factor\" => 1.0), \"nameSub\" => \"\", \"id\" => 31, \"credits\" => 3, \"nameCanonical\" => \"\"), Dict(\"curriculum_requisites\" => Dict{String, Any}[], \"name\" => \" \", \"metrics\" => Dict{String, Any}(\"complexity\" => 1.0, \"centrality\" => 0, \"blocking factor\" => 0, \"delay factor\" => 1.0), \"nameSub\" => \"Social Science Elective\", \"id\" => 32, \"credits\" => 3, \"nameCanonical\" => \"\"), Dict(\"curriculum_requisites\" => Dict{String, Any}[], \"name\" => \" \", \"metrics\" => Dict{String, Any}(\"complexity\" => 1.0, \"centrality\" => 0, \"blocking factor\" => 0, \"delay factor\" => 1.0), \"nameSub\" => \"Elective Hours\", \"id\" => 33, \"credits\" => 3, \"nameCanonical\" => \"\")], \"id\" => 6), Dict(\"name\" => \"Term 7\", \"curriculum_items\" => Dict{String, Any}[Dict(\"curriculum_requisites\" => Dict{String, Any}[Dict(\"source_id\" => 24, \"target_id\" => 35, \"type\" => \"CurriculumPrerequisite\")], \"name\" => \" \", \"metrics\" => Dict{String, Any}(\"complexity\" => 9.0, \"centrality\" => 45, \"blocking factor\" => 1, \"delay factor\" => 8.0), \"nameSub\" => \"Senior Design Sequence\", \"id\" => 35, \"credits\" => 1, \"nameCanonical\" => \"\"), Dict(\"curriculum_requisites\" => Dict{String, Any}[Dict(\"source_id\" => 22, \"target_id\" => 36, \"type\" => \"CurriculumPrerequisite\")], \"name\" => \" \", \"metrics\" => Dict{String, Any}(\"complexity\" => 7.0, \"centrality\" => 0, \"blocking factor\" => 0, \"delay factor\" => 7.0), \"nameSub\" => \"Electronic Devices Topics\", \"id\" => 36, \"credits\" => 3, \"nameCanonical\" => \"\"), Dict(\"curriculum_requisites\" => Dict{String, Any}[Dict(\"source_id\" => 19, \"target_id\" => 37, \"type\" => \"CurriculumPrerequisite\")], \"name\" => \" \", \"metrics\" => Dict{String, Any}(\"complexity\" => 6.0, \"centrality\" => 0, \"blocking factor\" => 0, \"delay factor\" => 6.0), \"nameSub\" => \"ECE 3000/4000 Elective\", \"id\" => 37, \"credits\" => 3, \"nameCanonical\" => \"\"), Dict(\"curriculum_requisites\" => Dict{String, Any}[], \"name\" => \"ECE 4452\", \"metrics\" => Dict{String, Any}(\"complexity\" => 1.0, \"centrality\" => 0, \"blocking factor\" => 0, \"delay factor\" => 1.0), \"nameSub\" => \"\", \"id\" => 38, \"credits\" => 3, \"nameCanonical\" => \"\"), Dict(\"curriculum_requisites\" => Dict{String, Any}[], \"name\" => \" \", \"metrics\" => Dict{String, Any}(\"complexity\" => 1.0, \"centrality\" => 0, \"blocking factor\" => 0, \"delay factor\" => 1.0), \"nameSub\" => \"Elective Hours\", \"id\" => 39, \"credits\" => 2, \"nameCanonical\" => \"\"), Dict(\"curriculum_requisites\" => Dict{String, Any}[], \"name\" => \" \", \"metrics\" => Dict{String, Any}(\"complexity\" => 1.0, \"centrality\" => 0, \"blocking factor\" => 0, \"delay factor\" => 1.0), \"nameSub\" => \"Social Science Elective\", \"id\" => 40, \"credits\" => 3, \"nameCanonical\" => \"\")], \"id\" => 7), Dict(\"name\" => \"Term 8\", \"curriculum_items\" => Dict{String, Any}[Dict(\"curriculum_requisites\" => Dict{String, Any}[Dict(\"source_id\" => 35, \"target_id\" => 41, \"type\" => \"CurriculumPrerequisite\")], \"name\" => \" \", \"metrics\" => Dict{String, Any}(\"complexity\" => 8.0, \"centrality\" => 0, \"blocking factor\" => 0, \"delay factor\" => 8.0), \"nameSub\" => \"Senior Design Sequence\", \"id\" => 41, \"credits\" => 2, \"nameCanonical\" => \"\"), Dict(\"curriculum_requisites\" => Dict{String, Any}[Dict(\"source_id\" => 19, \"target_id\" => 42, \"type\" => \"CurriculumPrerequisite\")], \"name\" => \" \", \"metrics\" => Dict{String, Any}(\"complexity\" => 6.0, \"centrality\" => 0, \"blocking factor\" => 0, \"delay factor\" => 6.0), \"nameSub\" => \"ECE 3000/4000 Elective\", \"id\" => 42, \"credits\" => 3, \"nameCanonical\" => \"\"), Dict(\"curriculum_requisites\" => Dict{String, Any}[Dict(\"source_id\" => 19, \"target_id\" => 43, \"type\" => \"CurriculumPrerequisite\")], \"name\" => \" \", \"metrics\" => Dict{String, Any}(\"complexity\" => 6.0, \"centrality\" => 0, \"blocking factor\" => 0, \"delay factor\" => 6.0), \"nameSub\" => \"ECE 3000/4000 Elective\", \"id\" => 43, \"credits\" => 3, \"nameCanonical\" => \"\"), Dict(\"curriculum_requisites\" => Dict{String, Any}[], \"name\" => \" \", \"metrics\" => Dict{String, Any}(\"complexity\" => 1.0, \"centrality\" => 0, \"blocking factor\" => 0, \"delay factor\" => 1.0), \"nameSub\" => \"Elective Hours\", \"id\" => 44, \"credits\" => 3, \"nameCanonical\" => \"\"), Dict(\"curriculum_requisites\" => Dict{String, Any}[Dict(\"source_id\" => 19, \"target_id\" => 45, \"type\" => \"CurriculumPrerequisite\")], \"name\" => \" \", \"metrics\" => Dict{String, Any}(\"complexity\" => 6.0, \"centrality\" => 0, \"blocking factor\" => 0, \"delay factor\" => 6.0), \"nameSub\" => \"Circuit Technologies Topics\", \"id\" => 45, \"credits\" => 3, \"nameCanonical\" => \"\")], \"id\" => 8)], \"institution\" => \"Georgia Institute of Technology\")), nothing)), Set{String}(), nothing, WebIO.Asset[], Dict{Any, Any}(), WebIO.ConnectionPool(Channel{Any}(32), Set{WebIO.AbstractConnection}(), Condition(Base.InvasiveLinkedList{Task}(Task (runnable) @0x000000011f145770, Task (runnable) @0x000000011f145770), Base.AlwaysLockedST(1))), WebIO.JSString[])"
      ]
     },
     "execution_count": 74,
     "metadata": {
      "application/vnd.webio.node+json": {
       "kernelId": "a39c6238-ca0e-48ee-9ca4-865bd5853f2a"
      }
     },
     "output_type": "execute_result"
    }
   ],
   "source": [
    "EE_plan = plans[\"Electrical Engineering - Electronic Devices and Circuit Technology\"]\n",
    "visualize(EE_plan, notebook=true)"
   ]
  },
  {
   "cell_type": "markdown",
   "metadata": {},
   "source": [
    "The `basic_metrics()` function can be used to output a set of basic metrics associatd with a curriculum. As an example, here are the basic curricular metrics associated with the Electrical Engineering and Computer Science programs:"
   ]
  },
  {
   "cell_type": "code",
   "execution_count": 75,
   "metadata": {},
   "outputs": [
    {
     "name": "stdout",
     "output_type": "stream",
     "text": [
      "\n",
      "Georgia Institute of Technology \n",
      "Curriculum: Aerospace Engineering\n",
      "  credit hours = 137\n",
      "  number of courses = 48\n",
      "  Blocking Factor --\n",
      "    entire curriculum = 209\n",
      "    max. value = 30, for course(s): MATH 1501 - Calculus I\n",
      "  Centrality --\n",
      "    entire curriculum = 1731\n",
      "    max. value = 262, for course(s): MATH 1552 - Integral Calculus\n",
      "  Delay Factor --\n",
      "    entire curriculum = 229.0\n",
      "    max. value = 7.0, for course(s): MATH 1501 - Calculus I, MATH 1552 - Integral Calculus, MATH 1553 - Intro to Linear Algebra, PHYS  2211 - Intro Physics 1, MATH 2551 - Multivariable Calculus, MATH 2552 - Differential Equations, AE 2010 - Termo and Fluid Fund., AE 2220 - Dynamics, AE 3030 - Aerodynamics, AE 3330 - AE Vehicle Performance, AE 3530 - Sys Dynamics & Vib, AE 3531 - Control Sys Analysis/Design, AE  4341/2/3 - Air/Space/Rotor Design, AE 4531 - Aircraft Flt Dynamics, AE 4532 - Spacecraft Flt Dynamics, AE 4610 - Dynamics & Controls Lab\n",
      "  Complexity --\n",
      "    entire curriculum = 438.0\n",
      "    max. value = 37.0, for course(s): MATH 1501 - Calculus I\n",
      "  Longest Path(s) --\n",
      "    length = 7, number of paths = 13\n",
      "    path(s):\n",
      "    path 1 = MATH 1501 - Calculus I -> MATH 1552 - Integral Calculus -> PHYS  2211 - Intro Physics 1 -> AE 2010 - Termo and Fluid Fund. -> AE 3030 - Aerodynamics -> AE 3330 - AE Vehicle Performance -> AE  4341/2/3 - Air/Space/Rotor Design\n",
      "    path 2 = MATH 1501 - Calculus I -> MATH 1552 - Integral Calculus -> MATH 2551 - Multivariable Calculus -> AE 2010 - Termo and Fluid Fund. -> AE 3030 - Aerodynamics -> AE 3330 - AE Vehicle Performance -> AE  4341/2/3 - Air/Space/Rotor Design\n",
      "    path 3 = MATH 1501 - Calculus I -> MATH 1553 - Intro to Linear Algebra -> MATH 2551 - Multivariable Calculus -> AE 2010 - Termo and Fluid Fund. -> AE 3030 - Aerodynamics -> AE 3330 - AE Vehicle Performance -> AE  4341/2/3 - Air/Space/Rotor Design\n",
      "    path 4 = MATH 1501 - Calculus I -> MATH 1552 - Integral Calculus -> PHYS  2211 - Intro Physics 1 -> AE 2010 - Termo and Fluid Fund. -> AE 3030 - Aerodynamics -> AE 3330 - AE Vehicle Performance -> AE 4531 - Aircraft Flt Dynamics\n",
      "    path 5 = MATH 1501 - Calculus I -> MATH 1552 - Integral Calculus -> MATH 2551 - Multivariable Calculus -> AE 2010 - Termo and Fluid Fund. -> AE 3030 - Aerodynamics -> AE 3330 - AE Vehicle Performance -> AE 4531 - Aircraft Flt Dynamics\n",
      "    path 6 = MATH 1501 - Calculus I -> MATH 1553 - Intro to Linear Algebra -> MATH 2551 - Multivariable Calculus -> AE 2010 - Termo and Fluid Fund. -> AE 3030 - Aerodynamics -> AE 3330 - AE Vehicle Performance -> AE 4531 - Aircraft Flt Dynamics\n",
      "    path 7 = MATH 1501 - Calculus I -> MATH 1552 - Integral Calculus -> MATH 2552 - Differential Equations -> AE 2220 - Dynamics -> AE 3530 - Sys Dynamics & Vib -> AE 3531 - Control Sys Analysis/Design -> AE 4531 - Aircraft Flt Dynamics\n",
      "    path 8 = MATH 1501 - Calculus I -> MATH 1553 - Intro to Linear Algebra -> MATH 2552 - Differential Equations -> AE 2220 - Dynamics -> AE 3530 - Sys Dynamics & Vib -> AE 3531 - Control Sys Analysis/Design -> AE 4531 - Aircraft Flt Dynamics\n",
      "    path 9 = MATH 1501 - Calculus I -> MATH 1552 - Integral Calculus -> PHYS  2211 - Intro Physics 1 -> AE 2010 - Termo and Fluid Fund. -> AE 3030 - Aerodynamics -> AE 3330 - AE Vehicle Performance -> AE 4532 - Spacecraft Flt Dynamics\n",
      "    path 10 = MATH 1501 - Calculus I -> MATH 1552 - Integral Calculus -> MATH 2551 - Multivariable Calculus -> AE 2010 - Termo and Fluid Fund. -> AE 3030 - Aerodynamics -> AE 3330 - AE Vehicle Performance -> AE 4532 - Spacecraft Flt Dynamics\n",
      "    path 11 = MATH 1501 - Calculus I -> MATH 1553 - Intro to Linear Algebra -> MATH 2551 - Multivariable Calculus -> AE 2010 - Termo and Fluid Fund. -> AE 3030 - Aerodynamics -> AE 3330 - AE Vehicle Performance -> AE 4532 - Spacecraft Flt Dynamics\n",
      "    path 12 = MATH 1501 - Calculus I -> MATH 1552 - Integral Calculus -> MATH 2552 - Differential Equations -> AE 2220 - Dynamics -> AE 3530 - Sys Dynamics & Vib -> AE 3531 - Control Sys Analysis/Design -> AE 4610 - Dynamics & Controls Lab\n",
      "    path 13 = MATH 1501 - Calculus I -> MATH 1553 - Intro to Linear Algebra -> MATH 2552 - Differential Equations -> AE 2220 - Dynamics -> AE 3530 - Sys Dynamics & Vib -> AE 3531 - Control Sys Analysis/Design -> AE 4610 - Dynamics & Controls Lab\n",
      "\n"
     ]
    }
   ],
   "source": [
    "metrics = basic_metrics(AE_plan.curriculum)\n",
    "println(String(take!(metrics)))"
   ]
  },
  {
   "cell_type": "code",
   "execution_count": 76,
   "metadata": {},
   "outputs": [
    {
     "name": "stdout",
     "output_type": "stream",
     "text": [
      "\n",
      "Georgia Institute of Technology \n",
      "Curriculum: Electrical Engineering - Electronic Devices and Circuit Technology\n",
      "  credit hours = 129\n",
      "  number of courses = 44\n",
      "  Blocking Factor --\n",
      "    entire curriculum = 127\n",
      "    max. value = 19, for course(s): MATH 1551 - Differential Calculus\n",
      "  Centrality --\n",
      "    entire curriculum = 792\n",
      "    max. value = 124, for course(s): ECE 2040 - Circuit Analysis\n",
      "  Delay Factor --\n",
      "    entire curriculum = 185.0\n",
      "    max. value = 8.0, for course(s): MATH 1551 - Differential Calculus, MATH 1552 - Integral Calculus, PHYS  2211 - Intro Physics 1, PHYS  2212 - Intro. Physics 2, ECE 2040 - Circuit Analysis, ECE 3025 - Electromagnetics, Senior Design Sequence, Senior Design Sequence\n",
      "  Complexity --\n",
      "    entire curriculum = 312.0\n",
      "    max. value = 27.0, for course(s): MATH 1551 - Differential Calculus\n",
      "  Longest Path(s) --\n",
      "    length = 8, number of paths = 1\n",
      "    path(s):\n",
      "    path 1 = MATH 1551 - Differential Calculus -> MATH 1552 - Integral Calculus -> PHYS  2211 - Intro Physics 1 -> PHYS  2212 - Intro. Physics 2 -> ECE 2040 - Circuit Analysis -> ECE 3025 - Electromagnetics -> Senior Design Sequence -> Senior Design Sequence\n",
      "\n"
     ]
    }
   ],
   "source": [
    "metrics = basic_metrics(EE_plan.curriculum)\n",
    "println(String(take!(metrics)))"
   ]
  },
  {
   "cell_type": "code",
   "execution_count": 77,
   "metadata": {
    "scrolled": false
   },
   "outputs": [
    {
     "data": {
      "image/svg+xml": [
       "<?xml version=\"1.0\" encoding=\"utf-8\"?>\n",
       "<svg xmlns=\"http://www.w3.org/2000/svg\" xmlns:xlink=\"http://www.w3.org/1999/xlink\" width=\"600\" height=\"400\" viewBox=\"0 0 2400 1600\">\n",
       "<defs>\n",
       "  <clipPath id=\"clip520\">\n",
       "    <rect x=\"0\" y=\"0\" width=\"2400\" height=\"1600\"/>\n",
       "  </clipPath>\n",
       "</defs>\n",
       "<path clip-path=\"url(#clip520)\" d=\"\n",
       "M0 1600 L2400 1600 L2400 0 L0 0  Z\n",
       "  \" fill=\"#ffffff\" fill-rule=\"evenodd\" fill-opacity=\"1\"/>\n",
       "<defs>\n",
       "  <clipPath id=\"clip521\">\n",
       "    <rect x=\"480\" y=\"0\" width=\"1681\" height=\"1600\"/>\n",
       "  </clipPath>\n",
       "</defs>\n",
       "<path clip-path=\"url(#clip520)\" d=\"\n",
       "M219.38 1423.18 L2352.76 1423.18 L2352.76 123.472 L219.38 123.472  Z\n",
       "  \" fill=\"#ffffff\" fill-rule=\"evenodd\" fill-opacity=\"1\"/>\n",
       "<defs>\n",
       "  <clipPath id=\"clip522\">\n",
       "    <rect x=\"219\" y=\"123\" width=\"2134\" height=\"1301\"/>\n",
       "  </clipPath>\n",
       "</defs>\n",
       "<polyline clip-path=\"url(#clip522)\" style=\"stroke:#000000; stroke-width:2; stroke-opacity:0.1; fill:none\" points=\"\n",
       "  219.38,1423.18 219.38,123.472 \n",
       "  \"/>\n",
       "<polyline clip-path=\"url(#clip522)\" style=\"stroke:#000000; stroke-width:2; stroke-opacity:0.1; fill:none\" points=\"\n",
       "  646.055,1423.18 646.055,123.472 \n",
       "  \"/>\n",
       "<polyline clip-path=\"url(#clip522)\" style=\"stroke:#000000; stroke-width:2; stroke-opacity:0.1; fill:none\" points=\"\n",
       "  1072.73,1423.18 1072.73,123.472 \n",
       "  \"/>\n",
       "<polyline clip-path=\"url(#clip522)\" style=\"stroke:#000000; stroke-width:2; stroke-opacity:0.1; fill:none\" points=\"\n",
       "  1499.41,1423.18 1499.41,123.472 \n",
       "  \"/>\n",
       "<polyline clip-path=\"url(#clip522)\" style=\"stroke:#000000; stroke-width:2; stroke-opacity:0.1; fill:none\" points=\"\n",
       "  1926.08,1423.18 1926.08,123.472 \n",
       "  \"/>\n",
       "<polyline clip-path=\"url(#clip522)\" style=\"stroke:#000000; stroke-width:2; stroke-opacity:0.1; fill:none\" points=\"\n",
       "  2352.76,1423.18 2352.76,123.472 \n",
       "  \"/>\n",
       "<polyline clip-path=\"url(#clip520)\" style=\"stroke:#000000; stroke-width:4; stroke-opacity:1; fill:none\" points=\"\n",
       "  219.38,1423.18 2352.76,1423.18 \n",
       "  \"/>\n",
       "<polyline clip-path=\"url(#clip520)\" style=\"stroke:#000000; stroke-width:4; stroke-opacity:1; fill:none\" points=\"\n",
       "  219.38,1423.18 219.38,1407.58 \n",
       "  \"/>\n",
       "<polyline clip-path=\"url(#clip520)\" style=\"stroke:#000000; stroke-width:4; stroke-opacity:1; fill:none\" points=\"\n",
       "  646.055,1423.18 646.055,1407.58 \n",
       "  \"/>\n",
       "<polyline clip-path=\"url(#clip520)\" style=\"stroke:#000000; stroke-width:4; stroke-opacity:1; fill:none\" points=\"\n",
       "  1072.73,1423.18 1072.73,1407.58 \n",
       "  \"/>\n",
       "<polyline clip-path=\"url(#clip520)\" style=\"stroke:#000000; stroke-width:4; stroke-opacity:1; fill:none\" points=\"\n",
       "  1499.41,1423.18 1499.41,1407.58 \n",
       "  \"/>\n",
       "<polyline clip-path=\"url(#clip520)\" style=\"stroke:#000000; stroke-width:4; stroke-opacity:1; fill:none\" points=\"\n",
       "  1926.08,1423.18 1926.08,1407.58 \n",
       "  \"/>\n",
       "<polyline clip-path=\"url(#clip520)\" style=\"stroke:#000000; stroke-width:4; stroke-opacity:1; fill:none\" points=\"\n",
       "  2352.76,1423.18 2352.76,1407.58 \n",
       "  \"/>\n",
       "<path clip-path=\"url(#clip520)\" d=\"M 0 0 M219.38 1452.37 Q215.769 1452.37 213.94 1455.94 Q212.135 1459.48 212.135 1466.61 Q212.135 1473.71 213.94 1477.28 Q215.769 1480.82 219.38 1480.82 Q223.014 1480.82 224.82 1477.28 Q226.649 1473.71 226.649 1466.61 Q226.649 1459.48 224.82 1455.94 Q223.014 1452.37 219.38 1452.37 M219.38 1448.67 Q225.19 1448.67 228.246 1453.27 Q231.325 1457.86 231.325 1466.61 Q231.325 1475.33 228.246 1479.94 Q225.19 1484.52 219.38 1484.52 Q213.57 1484.52 210.491 1479.94 Q207.436 1475.33 207.436 1466.61 Q207.436 1457.86 210.491 1453.27 Q213.57 1448.67 219.38 1448.67 Z\" fill=\"#000000\" fill-rule=\"evenodd\" fill-opacity=\"1\" /><path clip-path=\"url(#clip520)\" d=\"M 0 0 M605.662 1479.92 L613.301 1479.92 L613.301 1453.55 L604.991 1455.22 L604.991 1450.96 L613.255 1449.29 L617.93 1449.29 L617.93 1479.92 L625.569 1479.92 L625.569 1483.85 L605.662 1483.85 L605.662 1479.92 Z\" fill=\"#000000\" fill-rule=\"evenodd\" fill-opacity=\"1\" /><path clip-path=\"url(#clip520)\" d=\"M 0 0 M645.014 1452.37 Q641.403 1452.37 639.574 1455.94 Q637.768 1459.48 637.768 1466.61 Q637.768 1473.71 639.574 1477.28 Q641.403 1480.82 645.014 1480.82 Q648.648 1480.82 650.453 1477.28 Q652.282 1473.71 652.282 1466.61 Q652.282 1459.48 650.453 1455.94 Q648.648 1452.37 645.014 1452.37 M645.014 1448.67 Q650.824 1448.67 653.879 1453.27 Q656.958 1457.86 656.958 1466.61 Q656.958 1475.33 653.879 1479.94 Q650.824 1484.52 645.014 1484.52 Q639.203 1484.52 636.125 1479.94 Q633.069 1475.33 633.069 1466.61 Q633.069 1457.86 636.125 1453.27 Q639.203 1448.67 645.014 1448.67 Z\" fill=\"#000000\" fill-rule=\"evenodd\" fill-opacity=\"1\" /><path clip-path=\"url(#clip520)\" d=\"M 0 0 M675.176 1452.37 Q671.564 1452.37 669.736 1455.94 Q667.93 1459.48 667.93 1466.61 Q667.93 1473.71 669.736 1477.28 Q671.564 1480.82 675.176 1480.82 Q678.81 1480.82 680.615 1477.28 Q682.444 1473.71 682.444 1466.61 Q682.444 1459.48 680.615 1455.94 Q678.81 1452.37 675.176 1452.37 M675.176 1448.67 Q680.986 1448.67 684.041 1453.27 Q687.12 1457.86 687.12 1466.61 Q687.12 1475.33 684.041 1479.94 Q680.986 1484.52 675.176 1484.52 Q669.365 1484.52 666.287 1479.94 Q663.231 1475.33 663.231 1466.61 Q663.231 1457.86 666.287 1453.27 Q669.365 1448.67 675.176 1448.67 Z\" fill=\"#000000\" fill-rule=\"evenodd\" fill-opacity=\"1\" /><path clip-path=\"url(#clip520)\" d=\"M 0 0 M1036.42 1479.92 L1052.74 1479.92 L1052.74 1483.85 L1030.8 1483.85 L1030.8 1479.92 Q1033.46 1477.16 1038.04 1472.53 Q1042.65 1467.88 1043.83 1466.54 Q1046.08 1464.01 1046.96 1462.28 Q1047.86 1460.52 1047.86 1458.83 Q1047.86 1456.07 1045.91 1454.34 Q1043.99 1452.6 1040.89 1452.6 Q1038.69 1452.6 1036.24 1453.37 Q1033.81 1454.13 1031.03 1455.68 L1031.03 1450.96 Q1033.85 1449.82 1036.31 1449.25 Q1038.76 1448.67 1040.8 1448.67 Q1046.17 1448.67 1049.36 1451.35 Q1052.56 1454.04 1052.56 1458.53 Q1052.56 1460.66 1051.75 1462.58 Q1050.96 1464.48 1048.85 1467.07 Q1048.27 1467.74 1045.17 1470.96 Q1042.07 1474.15 1036.42 1479.92 Z\" fill=\"#000000\" fill-rule=\"evenodd\" fill-opacity=\"1\" /><path clip-path=\"url(#clip520)\" d=\"M 0 0 M1072.56 1452.37 Q1068.95 1452.37 1067.12 1455.94 Q1065.31 1459.48 1065.31 1466.61 Q1065.31 1473.71 1067.12 1477.28 Q1068.95 1480.82 1072.56 1480.82 Q1076.19 1480.82 1078 1477.28 Q1079.83 1473.71 1079.83 1466.61 Q1079.83 1459.48 1078 1455.94 Q1076.19 1452.37 1072.56 1452.37 M1072.56 1448.67 Q1078.37 1448.67 1081.42 1453.27 Q1084.5 1457.86 1084.5 1466.61 Q1084.5 1475.33 1081.42 1479.94 Q1078.37 1484.52 1072.56 1484.52 Q1066.75 1484.52 1063.67 1479.94 Q1060.61 1475.33 1060.61 1466.61 Q1060.61 1457.86 1063.67 1453.27 Q1066.75 1448.67 1072.56 1448.67 Z\" fill=\"#000000\" fill-rule=\"evenodd\" fill-opacity=\"1\" /><path clip-path=\"url(#clip520)\" d=\"M 0 0 M1102.72 1452.37 Q1099.11 1452.37 1097.28 1455.94 Q1095.47 1459.48 1095.47 1466.61 Q1095.47 1473.71 1097.28 1477.28 Q1099.11 1480.82 1102.72 1480.82 Q1106.35 1480.82 1108.16 1477.28 Q1109.99 1473.71 1109.99 1466.61 Q1109.99 1459.48 1108.16 1455.94 Q1106.35 1452.37 1102.72 1452.37 M1102.72 1448.67 Q1108.53 1448.67 1111.58 1453.27 Q1114.66 1457.86 1114.66 1466.61 Q1114.66 1475.33 1111.58 1479.94 Q1108.53 1484.52 1102.72 1484.52 Q1096.91 1484.52 1093.83 1479.94 Q1090.77 1475.33 1090.77 1466.61 Q1090.77 1457.86 1093.83 1453.27 Q1096.91 1448.67 1102.72 1448.67 Z\" fill=\"#000000\" fill-rule=\"evenodd\" fill-opacity=\"1\" /><path clip-path=\"url(#clip520)\" d=\"M 0 0 M1473.17 1465.22 Q1476.52 1465.94 1478.4 1468.2 Q1480.3 1470.47 1480.3 1473.81 Q1480.3 1478.92 1476.78 1481.72 Q1473.26 1484.52 1466.78 1484.52 Q1464.6 1484.52 1462.29 1484.08 Q1460 1483.67 1457.54 1482.81 L1457.54 1478.3 Q1459.49 1479.43 1461.8 1480.01 Q1464.12 1480.59 1466.64 1480.59 Q1471.04 1480.59 1473.33 1478.85 Q1475.64 1477.12 1475.64 1473.81 Q1475.64 1470.75 1473.49 1469.04 Q1471.36 1467.3 1467.54 1467.3 L1463.51 1467.3 L1463.51 1463.46 L1467.73 1463.46 Q1471.18 1463.46 1473.01 1462.09 Q1474.83 1460.7 1474.83 1458.11 Q1474.83 1455.45 1472.94 1454.04 Q1471.06 1452.6 1467.54 1452.6 Q1465.62 1452.6 1463.42 1453.02 Q1461.22 1453.44 1458.58 1454.31 L1458.58 1450.15 Q1461.25 1449.41 1463.56 1449.04 Q1465.9 1448.67 1467.96 1448.67 Q1473.28 1448.67 1476.38 1451.1 Q1479.49 1453.5 1479.49 1457.63 Q1479.49 1460.5 1477.84 1462.49 Q1476.2 1464.45 1473.17 1465.22 Z\" fill=\"#000000\" fill-rule=\"evenodd\" fill-opacity=\"1\" /><path clip-path=\"url(#clip520)\" d=\"M 0 0 M1499.16 1452.37 Q1495.55 1452.37 1493.72 1455.94 Q1491.92 1459.48 1491.92 1466.61 Q1491.92 1473.71 1493.72 1477.28 Q1495.55 1480.82 1499.16 1480.82 Q1502.8 1480.82 1504.6 1477.28 Q1506.43 1473.71 1506.43 1466.61 Q1506.43 1459.48 1504.6 1455.94 Q1502.8 1452.37 1499.16 1452.37 M1499.16 1448.67 Q1504.97 1448.67 1508.03 1453.27 Q1511.11 1457.86 1511.11 1466.61 Q1511.11 1475.33 1508.03 1479.94 Q1504.97 1484.52 1499.16 1484.52 Q1493.35 1484.52 1490.27 1479.94 Q1487.22 1475.33 1487.22 1466.61 Q1487.22 1457.86 1490.27 1453.27 Q1493.35 1448.67 1499.16 1448.67 Z\" fill=\"#000000\" fill-rule=\"evenodd\" fill-opacity=\"1\" /><path clip-path=\"url(#clip520)\" d=\"M 0 0 M1529.32 1452.37 Q1525.71 1452.37 1523.88 1455.94 Q1522.08 1459.48 1522.08 1466.61 Q1522.08 1473.71 1523.88 1477.28 Q1525.71 1480.82 1529.32 1480.82 Q1532.96 1480.82 1534.76 1477.28 Q1536.59 1473.71 1536.59 1466.61 Q1536.59 1459.48 1534.76 1455.94 Q1532.96 1452.37 1529.32 1452.37 M1529.32 1448.67 Q1535.13 1448.67 1538.19 1453.27 Q1541.27 1457.86 1541.27 1466.61 Q1541.27 1475.33 1538.19 1479.94 Q1535.13 1484.52 1529.32 1484.52 Q1523.51 1484.52 1520.44 1479.94 Q1517.38 1475.33 1517.38 1466.61 Q1517.38 1457.86 1520.44 1453.27 Q1523.51 1448.67 1529.32 1448.67 Z\" fill=\"#000000\" fill-rule=\"evenodd\" fill-opacity=\"1\" /><path clip-path=\"url(#clip520)\" d=\"M 0 0 M1899.17 1453.37 L1887.37 1471.81 L1899.17 1471.81 L1899.17 1453.37 M1897.94 1449.29 L1903.82 1449.29 L1903.82 1471.81 L1908.75 1471.81 L1908.75 1475.7 L1903.82 1475.7 L1903.82 1483.85 L1899.17 1483.85 L1899.17 1475.7 L1883.57 1475.7 L1883.57 1471.19 L1897.94 1449.29 Z\" fill=\"#000000\" fill-rule=\"evenodd\" fill-opacity=\"1\" /><path clip-path=\"url(#clip520)\" d=\"M 0 0 M1926.49 1452.37 Q1922.87 1452.37 1921.05 1455.94 Q1919.24 1459.48 1919.24 1466.61 Q1919.24 1473.71 1921.05 1477.28 Q1922.87 1480.82 1926.49 1480.82 Q1930.12 1480.82 1931.93 1477.28 Q1933.75 1473.71 1933.75 1466.61 Q1933.75 1459.48 1931.93 1455.94 Q1930.12 1452.37 1926.49 1452.37 M1926.49 1448.67 Q1932.3 1448.67 1935.35 1453.27 Q1938.43 1457.86 1938.43 1466.61 Q1938.43 1475.33 1935.35 1479.94 Q1932.3 1484.52 1926.49 1484.52 Q1920.68 1484.52 1917.6 1479.94 Q1914.54 1475.33 1914.54 1466.61 Q1914.54 1457.86 1917.6 1453.27 Q1920.68 1448.67 1926.49 1448.67 Z\" fill=\"#000000\" fill-rule=\"evenodd\" fill-opacity=\"1\" /><path clip-path=\"url(#clip520)\" d=\"M 0 0 M1956.65 1452.37 Q1953.04 1452.37 1951.21 1455.94 Q1949.4 1459.48 1949.4 1466.61 Q1949.4 1473.71 1951.21 1477.28 Q1953.04 1480.82 1956.65 1480.82 Q1960.28 1480.82 1962.09 1477.28 Q1963.92 1473.71 1963.92 1466.61 Q1963.92 1459.48 1962.09 1455.94 Q1960.28 1452.37 1956.65 1452.37 M1956.65 1448.67 Q1962.46 1448.67 1965.51 1453.27 Q1968.59 1457.86 1968.59 1466.61 Q1968.59 1475.33 1965.51 1479.94 Q1962.46 1484.52 1956.65 1484.52 Q1950.84 1484.52 1947.76 1479.94 Q1944.7 1475.33 1944.7 1466.61 Q1944.7 1457.86 1947.76 1453.27 Q1950.84 1448.67 1956.65 1448.67 Z\" fill=\"#000000\" fill-rule=\"evenodd\" fill-opacity=\"1\" /><path clip-path=\"url(#clip520)\" d=\"M 0 0 M2312.37 1449.29 L2330.73 1449.29 L2330.73 1453.23 L2316.66 1453.23 L2316.66 1461.7 Q2317.68 1461.35 2318.69 1461.19 Q2319.71 1461 2320.73 1461 Q2326.52 1461 2329.9 1464.18 Q2333.28 1467.35 2333.28 1472.76 Q2333.28 1478.34 2329.8 1481.44 Q2326.33 1484.52 2320.01 1484.52 Q2317.84 1484.52 2315.57 1484.15 Q2313.32 1483.78 2310.92 1483.04 L2310.92 1478.34 Q2313 1479.48 2315.22 1480.03 Q2317.44 1480.59 2319.92 1480.59 Q2323.93 1480.59 2326.26 1478.48 Q2328.6 1476.38 2328.6 1472.76 Q2328.6 1469.15 2326.26 1467.05 Q2323.93 1464.94 2319.92 1464.94 Q2318.05 1464.94 2316.17 1465.36 Q2314.32 1465.77 2312.37 1466.65 L2312.37 1449.29 Z\" fill=\"#000000\" fill-rule=\"evenodd\" fill-opacity=\"1\" /><path clip-path=\"url(#clip520)\" d=\"M 0 0 M2352.49 1452.37 Q2348.88 1452.37 2347.05 1455.94 Q2345.24 1459.48 2345.24 1466.61 Q2345.24 1473.71 2347.05 1477.28 Q2348.88 1480.82 2352.49 1480.82 Q2356.12 1480.82 2357.93 1477.28 Q2359.76 1473.71 2359.76 1466.61 Q2359.76 1459.48 2357.93 1455.94 Q2356.12 1452.37 2352.49 1452.37 M2352.49 1448.67 Q2358.3 1448.67 2361.36 1453.27 Q2364.43 1457.86 2364.43 1466.61 Q2364.43 1475.33 2361.36 1479.94 Q2358.3 1484.52 2352.49 1484.52 Q2346.68 1484.52 2343.6 1479.94 Q2340.55 1475.33 2340.55 1466.61 Q2340.55 1457.86 2343.6 1453.27 Q2346.68 1448.67 2352.49 1448.67 Z\" fill=\"#000000\" fill-rule=\"evenodd\" fill-opacity=\"1\" /><path clip-path=\"url(#clip520)\" d=\"M 0 0 M2382.65 1452.37 Q2379.04 1452.37 2377.21 1455.94 Q2375.41 1459.48 2375.41 1466.61 Q2375.41 1473.71 2377.21 1477.28 Q2379.04 1480.82 2382.65 1480.82 Q2386.29 1480.82 2388.09 1477.28 Q2389.92 1473.71 2389.92 1466.61 Q2389.92 1459.48 2388.09 1455.94 Q2386.29 1452.37 2382.65 1452.37 M2382.65 1448.67 Q2388.46 1448.67 2391.52 1453.27 Q2394.6 1457.86 2394.6 1466.61 Q2394.6 1475.33 2391.52 1479.94 Q2388.46 1484.52 2382.65 1484.52 Q2376.84 1484.52 2373.76 1479.94 Q2370.71 1475.33 2370.71 1466.61 Q2370.71 1457.86 2373.76 1453.27 Q2376.84 1448.67 2382.65 1448.67 Z\" fill=\"#000000\" fill-rule=\"evenodd\" fill-opacity=\"1\" /><path clip-path=\"url(#clip520)\" d=\"M 0 0 M1137.79 1533.76 L1137.79 1539.24 Q1135.31 1537.87 1132.8 1537.2 Q1130.32 1536.5 1127.77 1536.5 Q1122.07 1536.5 1118.92 1540.13 Q1115.77 1543.73 1115.77 1550.25 Q1115.77 1556.78 1118.92 1560.4 Q1122.07 1564 1127.77 1564 Q1130.32 1564 1132.8 1563.33 Q1135.31 1562.63 1137.79 1561.26 L1137.79 1566.68 Q1135.34 1567.82 1132.7 1568.39 Q1130.09 1568.97 1127.13 1568.97 Q1119.08 1568.97 1114.34 1563.91 Q1109.59 1558.85 1109.59 1550.25 Q1109.59 1541.53 1114.37 1536.53 Q1119.18 1531.54 1127.51 1531.54 Q1130.22 1531.54 1132.8 1532.11 Q1135.38 1532.65 1137.79 1533.76 Z\" fill=\"#000000\" fill-rule=\"evenodd\" fill-opacity=\"1\" /><path clip-path=\"url(#clip520)\" d=\"M 0 0 M1161.79 1536.5 Q1157.08 1536.5 1154.35 1540.19 Q1151.61 1543.85 1151.61 1550.25 Q1151.61 1556.65 1154.31 1560.34 Q1157.05 1564 1161.79 1564 Q1166.47 1564 1169.21 1560.31 Q1171.95 1556.62 1171.95 1550.25 Q1171.95 1543.92 1169.21 1540.23 Q1166.47 1536.5 1161.79 1536.5 M1161.79 1531.54 Q1169.43 1531.54 1173.79 1536.5 Q1178.15 1541.47 1178.15 1550.25 Q1178.15 1559 1173.79 1564 Q1169.43 1568.97 1161.79 1568.97 Q1154.12 1568.97 1149.76 1564 Q1145.43 1559 1145.43 1550.25 Q1145.43 1541.47 1149.76 1536.5 Q1154.12 1531.54 1161.79 1531.54 Z\" fill=\"#000000\" fill-rule=\"evenodd\" fill-opacity=\"1\" /><path clip-path=\"url(#clip520)\" d=\"M 0 0 M1215.62 1539.24 Q1217.81 1535.29 1220.87 1533.41 Q1223.92 1531.54 1228.06 1531.54 Q1233.63 1531.54 1236.65 1535.45 Q1239.68 1539.33 1239.68 1546.53 L1239.68 1568.04 L1233.79 1568.04 L1233.79 1546.72 Q1233.79 1541.59 1231.98 1539.11 Q1230.16 1536.63 1226.44 1536.63 Q1221.89 1536.63 1219.24 1539.65 Q1216.6 1542.68 1216.6 1547.9 L1216.6 1568.04 L1210.71 1568.04 L1210.71 1546.72 Q1210.71 1541.56 1208.9 1539.11 Q1207.09 1536.63 1203.3 1536.63 Q1198.81 1536.63 1196.17 1539.68 Q1193.53 1542.71 1193.53 1547.9 L1193.53 1568.04 L1187.64 1568.04 L1187.64 1532.4 L1193.53 1532.4 L1193.53 1537.93 Q1195.53 1534.66 1198.33 1533.1 Q1201.13 1531.54 1204.98 1531.54 Q1208.87 1531.54 1211.57 1533.51 Q1214.31 1535.48 1215.62 1539.24 Z\" fill=\"#000000\" fill-rule=\"evenodd\" fill-opacity=\"1\" /><path clip-path=\"url(#clip520)\" d=\"M 0 0 M1257.02 1562.7 L1257.02 1581.6 L1251.14 1581.6 L1251.14 1532.4 L1257.02 1532.4 L1257.02 1537.81 Q1258.87 1534.62 1261.67 1533.1 Q1264.5 1531.54 1268.42 1531.54 Q1274.91 1531.54 1278.95 1536.69 Q1283.03 1541.85 1283.03 1550.25 Q1283.03 1558.65 1278.95 1563.81 Q1274.91 1568.97 1268.42 1568.97 Q1264.5 1568.97 1261.67 1567.44 Q1258.87 1565.88 1257.02 1562.7 M1276.95 1550.25 Q1276.95 1543.79 1274.28 1540.13 Q1271.63 1536.44 1266.99 1536.44 Q1262.34 1536.44 1259.67 1540.13 Q1257.02 1543.79 1257.02 1550.25 Q1257.02 1556.71 1259.67 1560.4 Q1262.34 1564.07 1266.99 1564.07 Q1271.63 1564.07 1274.28 1560.4 Q1276.95 1556.71 1276.95 1550.25 Z\" fill=\"#000000\" fill-rule=\"evenodd\" fill-opacity=\"1\" /><path clip-path=\"url(#clip520)\" d=\"M 0 0 M1292.74 1518.52 L1298.59 1518.52 L1298.59 1568.04 L1292.74 1568.04 L1292.74 1518.52 Z\" fill=\"#000000\" fill-rule=\"evenodd\" fill-opacity=\"1\" /><path clip-path=\"url(#clip520)\" d=\"M 0 0 M1341.34 1548.76 L1341.34 1551.62 L1314.41 1551.62 Q1314.79 1557.67 1318.04 1560.85 Q1321.32 1564 1327.14 1564 Q1330.52 1564 1333.67 1563.17 Q1336.85 1562.35 1339.97 1560.69 L1339.97 1566.23 Q1336.82 1567.57 1333.51 1568.27 Q1330.2 1568.97 1326.79 1568.97 Q1318.26 1568.97 1313.27 1564 Q1308.3 1559.04 1308.3 1550.57 Q1308.3 1541.82 1313.01 1536.69 Q1317.75 1531.54 1325.77 1531.54 Q1332.97 1531.54 1337.14 1536.18 Q1341.34 1540.8 1341.34 1548.76 M1335.48 1547.04 Q1335.42 1542.23 1332.78 1539.37 Q1330.17 1536.5 1325.84 1536.5 Q1320.94 1536.5 1317.98 1539.27 Q1315.05 1542.04 1314.6 1547.07 L1335.48 1547.04 Z\" fill=\"#000000\" fill-rule=\"evenodd\" fill-opacity=\"1\" /><path clip-path=\"url(#clip520)\" d=\"M 0 0 M1379.44 1532.4 L1366.55 1549.74 L1380.11 1568.04 L1373.2 1568.04 L1362.82 1554.04 L1352.45 1568.04 L1345.54 1568.04 L1359.39 1549.39 L1346.72 1532.4 L1353.62 1532.4 L1363.08 1545.1 L1372.53 1532.4 L1379.44 1532.4 Z\" fill=\"#000000\" fill-rule=\"evenodd\" fill-opacity=\"1\" /><path clip-path=\"url(#clip520)\" d=\"M 0 0 M1388.38 1532.4 L1394.24 1532.4 L1394.24 1568.04 L1388.38 1568.04 L1388.38 1532.4 M1388.38 1518.52 L1394.24 1518.52 L1394.24 1525.93 L1388.38 1525.93 L1388.38 1518.52 Z\" fill=\"#000000\" fill-rule=\"evenodd\" fill-opacity=\"1\" /><path clip-path=\"url(#clip520)\" d=\"M 0 0 M1412.28 1522.27 L1412.28 1532.4 L1424.35 1532.4 L1424.35 1536.95 L1412.28 1536.95 L1412.28 1556.3 Q1412.28 1560.66 1413.46 1561.9 Q1414.67 1563.14 1418.33 1563.14 L1424.35 1563.14 L1424.35 1568.04 L1418.33 1568.04 Q1411.55 1568.04 1408.97 1565.53 Q1406.4 1562.98 1406.4 1556.3 L1406.4 1536.95 L1402.1 1536.95 L1402.1 1532.4 L1406.4 1532.4 L1406.4 1522.27 L1412.28 1522.27 Z\" fill=\"#000000\" fill-rule=\"evenodd\" fill-opacity=\"1\" /><path clip-path=\"url(#clip520)\" d=\"M 0 0 M1446.88 1571.35 Q1444.4 1577.72 1442.04 1579.66 Q1439.69 1581.6 1435.74 1581.6 L1431.06 1581.6 L1431.06 1576.7 L1434.5 1576.7 Q1436.92 1576.7 1438.26 1575.56 Q1439.59 1574.41 1441.22 1570.14 L1442.27 1567.47 L1427.85 1532.4 L1434.05 1532.4 L1445.19 1560.28 L1456.33 1532.4 L1462.54 1532.4 L1446.88 1571.35 Z\" fill=\"#000000\" fill-rule=\"evenodd\" fill-opacity=\"1\" /><polyline clip-path=\"url(#clip522)\" style=\"stroke:#000000; stroke-width:2; stroke-opacity:0.1; fill:none\" points=\"\n",
       "  219.38,1423.18 2352.76,1423.18 \n",
       "  \"/>\n",
       "<polyline clip-path=\"url(#clip522)\" style=\"stroke:#000000; stroke-width:2; stroke-opacity:0.1; fill:none\" points=\"\n",
       "  219.38,989.944 2352.76,989.944 \n",
       "  \"/>\n",
       "<polyline clip-path=\"url(#clip522)\" style=\"stroke:#000000; stroke-width:2; stroke-opacity:0.1; fill:none\" points=\"\n",
       "  219.38,556.708 2352.76,556.708 \n",
       "  \"/>\n",
       "<polyline clip-path=\"url(#clip522)\" style=\"stroke:#000000; stroke-width:2; stroke-opacity:0.1; fill:none\" points=\"\n",
       "  219.38,123.472 2352.76,123.472 \n",
       "  \"/>\n",
       "<polyline clip-path=\"url(#clip520)\" style=\"stroke:#000000; stroke-width:4; stroke-opacity:1; fill:none\" points=\"\n",
       "  219.38,1423.18 219.38,123.472 \n",
       "  \"/>\n",
       "<polyline clip-path=\"url(#clip520)\" style=\"stroke:#000000; stroke-width:4; stroke-opacity:1; fill:none\" points=\"\n",
       "  219.38,1423.18 244.981,1423.18 \n",
       "  \"/>\n",
       "<polyline clip-path=\"url(#clip520)\" style=\"stroke:#000000; stroke-width:4; stroke-opacity:1; fill:none\" points=\"\n",
       "  219.38,989.944 244.981,989.944 \n",
       "  \"/>\n",
       "<polyline clip-path=\"url(#clip520)\" style=\"stroke:#000000; stroke-width:4; stroke-opacity:1; fill:none\" points=\"\n",
       "  219.38,556.708 244.981,556.708 \n",
       "  \"/>\n",
       "<polyline clip-path=\"url(#clip520)\" style=\"stroke:#000000; stroke-width:4; stroke-opacity:1; fill:none\" points=\"\n",
       "  219.38,123.472 244.981,123.472 \n",
       "  \"/>\n",
       "<path clip-path=\"url(#clip520)\" d=\"M 0 0 M126.205 1408.98 Q122.593 1408.98 120.765 1412.54 Q118.959 1416.08 118.959 1423.21 Q118.959 1430.32 120.765 1433.89 Q122.593 1437.43 126.205 1437.43 Q129.839 1437.43 131.644 1433.89 Q133.473 1430.32 133.473 1423.21 Q133.473 1416.08 131.644 1412.54 Q129.839 1408.98 126.205 1408.98 M126.205 1405.27 Q132.015 1405.27 135.07 1409.88 Q138.149 1414.46 138.149 1423.21 Q138.149 1431.94 135.07 1436.55 Q132.015 1441.13 126.205 1441.13 Q120.394 1441.13 117.316 1436.55 Q114.26 1431.94 114.26 1423.21 Q114.26 1414.46 117.316 1409.88 Q120.394 1405.27 126.205 1405.27 Z\" fill=\"#000000\" fill-rule=\"evenodd\" fill-opacity=\"1\" /><path clip-path=\"url(#clip520)\" d=\"M 0 0 M146.366 1434.58 L151.251 1434.58 L151.251 1440.46 L146.366 1440.46 L146.366 1434.58 Z\" fill=\"#000000\" fill-rule=\"evenodd\" fill-opacity=\"1\" /><path clip-path=\"url(#clip520)\" d=\"M 0 0 M171.436 1408.98 Q167.825 1408.98 165.996 1412.54 Q164.19 1416.08 164.19 1423.21 Q164.19 1430.32 165.996 1433.89 Q167.825 1437.43 171.436 1437.43 Q175.07 1437.43 176.876 1433.89 Q178.704 1430.32 178.704 1423.21 Q178.704 1416.08 176.876 1412.54 Q175.07 1408.98 171.436 1408.98 M171.436 1405.27 Q177.246 1405.27 180.301 1409.88 Q183.38 1414.46 183.38 1423.21 Q183.38 1431.94 180.301 1436.55 Q177.246 1441.13 171.436 1441.13 Q165.626 1441.13 162.547 1436.55 Q159.491 1431.94 159.491 1423.21 Q159.491 1414.46 162.547 1409.88 Q165.626 1405.27 171.436 1405.27 Z\" fill=\"#000000\" fill-rule=\"evenodd\" fill-opacity=\"1\" /><path clip-path=\"url(#clip520)\" d=\"M 0 0 M127.2 975.743 Q123.589 975.743 121.76 979.307 Q119.955 982.849 119.955 989.979 Q119.955 997.085 121.76 1000.65 Q123.589 1004.19 127.2 1004.19 Q130.834 1004.19 132.64 1000.65 Q134.468 997.085 134.468 989.979 Q134.468 982.849 132.64 979.307 Q130.834 975.743 127.2 975.743 M127.2 972.039 Q133.01 972.039 136.066 976.645 Q139.144 981.229 139.144 989.979 Q139.144 998.705 136.066 1003.31 Q133.01 1007.9 127.2 1007.9 Q121.39 1007.9 118.311 1003.31 Q115.256 998.705 115.256 989.979 Q115.256 981.229 118.311 976.645 Q121.39 972.039 127.2 972.039 Z\" fill=\"#000000\" fill-rule=\"evenodd\" fill-opacity=\"1\" /><path clip-path=\"url(#clip520)\" d=\"M 0 0 M147.362 1001.34 L152.246 1001.34 L152.246 1007.22 L147.362 1007.22 L147.362 1001.34 Z\" fill=\"#000000\" fill-rule=\"evenodd\" fill-opacity=\"1\" /><path clip-path=\"url(#clip520)\" d=\"M 0 0 M162.477 972.664 L180.834 972.664 L180.834 976.599 L166.76 976.599 L166.76 985.071 Q167.778 984.724 168.797 984.562 Q169.815 984.377 170.834 984.377 Q176.621 984.377 180.001 987.548 Q183.38 990.719 183.38 996.136 Q183.38 1001.71 179.908 1004.82 Q176.436 1007.9 170.116 1007.9 Q167.94 1007.9 165.672 1007.52 Q163.427 1007.15 161.019 1006.41 L161.019 1001.71 Q163.102 1002.85 165.325 1003.4 Q167.547 1003.96 170.024 1003.96 Q174.028 1003.96 176.366 1001.85 Q178.704 999.747 178.704 996.136 Q178.704 992.525 176.366 990.418 Q174.028 988.312 170.024 988.312 Q168.149 988.312 166.274 988.729 Q164.422 989.145 162.477 990.025 L162.477 972.664 Z\" fill=\"#000000\" fill-rule=\"evenodd\" fill-opacity=\"1\" /><path clip-path=\"url(#clip520)\" d=\"M 0 0 M117.015 570.053 L124.654 570.053 L124.654 543.687 L116.343 545.354 L116.343 541.095 L124.607 539.428 L129.283 539.428 L129.283 570.053 L136.922 570.053 L136.922 573.988 L117.015 573.988 L117.015 570.053 Z\" fill=\"#000000\" fill-rule=\"evenodd\" fill-opacity=\"1\" /><path clip-path=\"url(#clip520)\" d=\"M 0 0 M146.366 568.108 L151.251 568.108 L151.251 573.988 L146.366 573.988 L146.366 568.108 Z\" fill=\"#000000\" fill-rule=\"evenodd\" fill-opacity=\"1\" /><path clip-path=\"url(#clip520)\" d=\"M 0 0 M171.436 542.507 Q167.825 542.507 165.996 546.072 Q164.19 549.613 164.19 556.743 Q164.19 563.849 165.996 567.414 Q167.825 570.956 171.436 570.956 Q175.07 570.956 176.876 567.414 Q178.704 563.849 178.704 556.743 Q178.704 549.613 176.876 546.072 Q175.07 542.507 171.436 542.507 M171.436 538.803 Q177.246 538.803 180.301 543.409 Q183.38 547.993 183.38 556.743 Q183.38 565.47 180.301 570.076 Q177.246 574.659 171.436 574.659 Q165.626 574.659 162.547 570.076 Q159.491 565.47 159.491 556.743 Q159.491 547.993 162.547 543.409 Q165.626 538.803 171.436 538.803 Z\" fill=\"#000000\" fill-rule=\"evenodd\" fill-opacity=\"1\" /><path clip-path=\"url(#clip520)\" d=\"M 0 0 M118.01 136.817 L125.649 136.817 L125.649 110.451 L117.339 112.118 L117.339 107.859 L125.603 106.192 L130.279 106.192 L130.279 136.817 L137.917 136.817 L137.917 140.752 L118.01 140.752 L118.01 136.817 Z\" fill=\"#000000\" fill-rule=\"evenodd\" fill-opacity=\"1\" /><path clip-path=\"url(#clip520)\" d=\"M 0 0 M147.362 134.873 L152.246 134.873 L152.246 140.752 L147.362 140.752 L147.362 134.873 Z\" fill=\"#000000\" fill-rule=\"evenodd\" fill-opacity=\"1\" /><path clip-path=\"url(#clip520)\" d=\"M 0 0 M162.477 106.192 L180.834 106.192 L180.834 110.127 L166.76 110.127 L166.76 118.599 Q167.778 118.252 168.797 118.09 Q169.815 117.905 170.834 117.905 Q176.621 117.905 180.001 121.076 Q183.38 124.248 183.38 129.664 Q183.38 135.243 179.908 138.345 Q176.436 141.423 170.116 141.423 Q167.94 141.423 165.672 141.053 Q163.427 140.683 161.019 139.942 L161.019 135.243 Q163.102 136.377 165.325 136.933 Q167.547 137.488 170.024 137.488 Q174.028 137.488 176.366 135.382 Q178.704 133.275 178.704 129.664 Q178.704 126.053 176.366 123.947 Q174.028 121.84 170.024 121.84 Q168.149 121.84 166.274 122.257 Q164.422 122.674 162.477 123.553 L162.477 106.192 Z\" fill=\"#000000\" fill-rule=\"evenodd\" fill-opacity=\"1\" /><path clip-path=\"url(#clip520)\" d=\"M 0 0 M35.3266 960.462 L35.3266 969.724 L45.9574 972.398 L45.9574 963.072 L35.3266 960.462 M17.2162 965.236 L30.4251 968.546 L30.4251 959.252 L17.2162 955.91 L17.2162 950.818 L30.4251 954.096 L30.4251 944.166 L35.3266 944.166 L35.3266 955.337 L45.9574 957.947 L45.9574 947.826 L50.8271 947.826 L50.8271 959.189 L64.0042 962.499 L64.0042 967.591 L50.8271 964.313 L50.8271 973.639 L64.0042 976.917 L64.0042 982.042 L50.8271 978.731 L50.8271 988.757 L45.9574 988.757 L45.9574 977.554 L35.3266 974.88 L35.3266 985.129 L30.4251 985.129 L30.4251 973.639 L17.2162 970.392 L17.2162 965.236 Z\" fill=\"#000000\" fill-rule=\"evenodd\" fill-opacity=\"1\" /><path clip-path=\"url(#clip520)\" d=\"M 0 0 M32.4621 898.492 Q32.4621 903.202 36.1542 905.94 Q39.8145 908.677 46.212 908.677 Q52.6095 908.677 56.3017 905.971 Q59.9619 903.234 59.9619 898.492 Q59.9619 893.813 56.2698 891.076 Q52.5777 888.338 46.212 888.338 Q39.8781 888.338 36.186 891.076 Q32.4621 893.813 32.4621 898.492 M27.4968 898.492 Q27.4968 890.853 32.4621 886.492 Q37.4273 882.132 46.212 882.132 Q54.9649 882.132 59.9619 886.492 Q64.9272 890.853 64.9272 898.492 Q64.9272 906.162 59.9619 910.523 Q54.9649 914.852 46.212 914.852 Q37.4273 914.852 32.4621 910.523 Q27.4968 906.162 27.4968 898.492 Z\" fill=\"#000000\" fill-rule=\"evenodd\" fill-opacity=\"1\" /><path clip-path=\"url(#clip520)\" d=\"M 0 0 M14.479 854.377 L19.3487 854.377 L19.3487 859.979 Q19.3487 863.13 20.6219 864.372 Q21.895 865.581 25.2052 865.581 L28.3562 865.581 L28.3562 855.937 L32.9077 855.937 L32.9077 865.581 L64.0042 865.581 L64.0042 871.469 L32.9077 871.469 L32.9077 877.071 L28.3562 877.071 L28.3562 871.469 L25.8736 871.469 Q19.9216 871.469 17.2162 868.7 Q14.479 865.931 14.479 859.916 L14.479 854.377 Z\" fill=\"#000000\" fill-rule=\"evenodd\" fill-opacity=\"1\" /><path clip-path=\"url(#clip520)\" d=\"M 0 0 M29.7248 803.102 L35.1993 803.102 Q33.8307 805.584 33.1623 808.099 Q32.4621 810.581 32.4621 813.128 Q32.4621 818.825 36.0905 821.976 Q39.6872 825.127 46.212 825.127 Q52.7369 825.127 56.3653 821.976 Q59.9619 818.825 59.9619 813.128 Q59.9619 810.581 59.2935 808.099 Q58.5933 805.584 57.2247 803.102 L62.6355 803.102 Q63.7814 805.552 64.3543 808.194 Q64.9272 810.804 64.9272 813.764 Q64.9272 821.817 59.8664 826.559 Q54.8057 831.302 46.212 831.302 Q37.491 831.302 32.4939 826.527 Q27.4968 821.721 27.4968 813.382 Q27.4968 810.677 28.0697 808.099 Q28.6108 805.521 29.7248 803.102 Z\" fill=\"#000000\" fill-rule=\"evenodd\" fill-opacity=\"1\" /><path clip-path=\"url(#clip520)\" d=\"M 0 0 M49.9359 793.521 L28.3562 793.521 L28.3562 787.665 L49.7131 787.665 Q54.7739 787.665 57.3202 785.691 Q59.8346 783.718 59.8346 779.771 Q59.8346 775.029 56.8109 772.292 Q53.7872 769.522 48.5673 769.522 L28.3562 769.522 L28.3562 763.666 L64.0042 763.666 L64.0042 769.522 L58.5296 769.522 Q61.7762 771.655 63.3676 774.488 Q64.9272 777.289 64.9272 781.013 Q64.9272 787.155 61.1078 790.338 Q57.2883 793.521 49.9359 793.521 M27.4968 778.785 L27.4968 778.785 Z\" fill=\"#000000\" fill-rule=\"evenodd\" fill-opacity=\"1\" /><path clip-path=\"url(#clip520)\" d=\"M 0 0 M33.8307 730.946 Q33.2578 731.933 33.0032 733.111 Q32.7167 734.256 32.7167 735.657 Q32.7167 740.622 35.9632 743.296 Q39.1779 745.938 45.2253 745.938 L64.0042 745.938 L64.0042 751.826 L28.3562 751.826 L28.3562 745.938 L33.8944 745.938 Q30.6479 744.091 29.0883 741.131 Q27.4968 738.171 27.4968 733.938 Q27.4968 733.333 27.5923 732.601 Q27.656 731.869 27.8151 730.978 L33.8307 730.946 Z\" fill=\"#000000\" fill-rule=\"evenodd\" fill-opacity=\"1\" /><path clip-path=\"url(#clip520)\" d=\"M 0 0 M33.8307 705.292 Q33.2578 706.279 33.0032 707.457 Q32.7167 708.603 32.7167 710.003 Q32.7167 714.968 35.9632 717.642 Q39.1779 720.284 45.2253 720.284 L64.0042 720.284 L64.0042 726.172 L28.3562 726.172 L28.3562 720.284 L33.8944 720.284 Q30.6479 718.438 29.0883 715.478 Q27.4968 712.518 27.4968 708.284 Q27.4968 707.68 27.5923 706.948 Q27.656 706.216 27.8151 705.324 L33.8307 705.292 Z\" fill=\"#000000\" fill-rule=\"evenodd\" fill-opacity=\"1\" /><path clip-path=\"url(#clip520)\" d=\"M 0 0 M28.3562 699.15 L28.3562 693.293 L64.0042 693.293 L64.0042 699.15 L28.3562 699.15 M14.479 699.15 L14.479 693.293 L21.895 693.293 L21.895 699.15 L14.479 699.15 Z\" fill=\"#000000\" fill-rule=\"evenodd\" fill-opacity=\"1\" /><path clip-path=\"url(#clip520)\" d=\"M 0 0 M29.7248 655.385 L35.1993 655.385 Q33.8307 657.868 33.1623 660.382 Q32.4621 662.865 32.4621 665.411 Q32.4621 671.109 36.0905 674.26 Q39.6872 677.411 46.212 677.411 Q52.7369 677.411 56.3653 674.26 Q59.9619 671.109 59.9619 665.411 Q59.9619 662.865 59.2935 660.382 Q58.5933 657.868 57.2247 655.385 L62.6355 655.385 Q63.7814 657.836 64.3543 660.478 Q64.9272 663.088 64.9272 666.048 Q64.9272 674.101 59.8664 678.843 Q54.8057 683.585 46.212 683.585 Q37.491 683.585 32.4939 678.811 Q27.4968 674.005 27.4968 665.666 Q27.4968 662.961 28.0697 660.382 Q28.6108 657.804 29.7248 655.385 Z\" fill=\"#000000\" fill-rule=\"evenodd\" fill-opacity=\"1\" /><path clip-path=\"url(#clip520)\" d=\"M 0 0 M49.9359 645.805 L28.3562 645.805 L28.3562 639.949 L49.7131 639.949 Q54.7739 639.949 57.3202 637.975 Q59.8346 636.002 59.8346 632.055 Q59.8346 627.313 56.8109 624.575 Q53.7872 621.806 48.5673 621.806 L28.3562 621.806 L28.3562 615.95 L64.0042 615.95 L64.0042 621.806 L58.5296 621.806 Q61.7762 623.939 63.3676 626.772 Q64.9272 629.572 64.9272 633.296 Q64.9272 639.439 61.1078 642.622 Q57.2883 645.805 49.9359 645.805 M27.4968 631.068 L27.4968 631.068 Z\" fill=\"#000000\" fill-rule=\"evenodd\" fill-opacity=\"1\" /><path clip-path=\"url(#clip520)\" d=\"M 0 0 M14.479 603.887 L14.479 598.03 L64.0042 598.03 L64.0042 603.887 L14.479 603.887 Z\" fill=\"#000000\" fill-rule=\"evenodd\" fill-opacity=\"1\" /><path clip-path=\"url(#clip520)\" d=\"M 0 0 M46.0847 569.576 Q46.0847 576.673 47.7079 579.411 Q49.3312 582.148 53.2461 582.148 Q56.3653 582.148 58.2114 580.111 Q60.0256 578.042 60.0256 574.509 Q60.0256 569.639 56.5881 566.711 Q53.1188 563.751 47.3897 563.751 L46.0847 563.751 L46.0847 569.576 M43.6657 557.895 L64.0042 557.895 L64.0042 563.751 L58.5933 563.751 Q61.8398 565.756 63.3994 568.748 Q64.9272 571.74 64.9272 576.069 Q64.9272 581.543 61.8716 584.79 Q58.7843 588.004 53.6281 588.004 Q47.6125 588.004 44.5569 583.994 Q41.5014 579.952 41.5014 571.963 L41.5014 563.751 L40.9285 563.751 Q36.8862 563.751 34.6901 566.425 Q32.4621 569.066 32.4621 573.872 Q32.4621 576.928 33.1941 579.824 Q33.9262 582.721 35.3903 585.394 L29.9795 585.394 Q28.7381 582.18 28.1334 579.156 Q27.4968 576.132 27.4968 573.268 Q27.4968 565.533 31.5072 561.714 Q35.5176 557.895 43.6657 557.895 Z\" fill=\"#000000\" fill-rule=\"evenodd\" fill-opacity=\"1\" /><path clip-path=\"url(#clip520)\" d=\"M 0 0 M1120.97 18.8205 L1120.97 41.5461 L1131.26 41.5461 Q1136.97 41.5461 1140.09 38.5889 Q1143.21 35.6318 1143.21 30.163 Q1143.21 24.7348 1140.09 21.7777 Q1136.97 18.8205 1131.26 18.8205 L1120.97 18.8205 M1112.79 12.096 L1131.26 12.096 Q1141.43 12.096 1146.62 16.714 Q1151.84 21.2916 1151.84 30.163 Q1151.84 39.1155 1146.62 43.6931 Q1141.43 48.2706 1131.26 48.2706 L1120.97 48.2706 L1120.97 72.576 L1112.79 72.576 L1112.79 12.096 Z\" fill=\"#000000\" fill-rule=\"evenodd\" fill-opacity=\"1\" /><path clip-path=\"url(#clip520)\" d=\"M 0 0 M1187.33 34.1734 Q1186.07 33.4443 1184.57 33.1202 Q1183.11 32.7556 1181.33 32.7556 Q1175.01 32.7556 1171.61 36.8875 Q1168.25 40.9789 1168.25 48.6757 L1168.25 72.576 L1160.75 72.576 L1160.75 27.2059 L1168.25 27.2059 L1168.25 34.2544 Q1170.6 30.1225 1174.36 28.1376 Q1178.13 26.1121 1183.52 26.1121 Q1184.29 26.1121 1185.22 26.2337 Q1186.15 26.3147 1187.29 26.5172 L1187.33 34.1734 Z\" fill=\"#000000\" fill-rule=\"evenodd\" fill-opacity=\"1\" /><path clip-path=\"url(#clip520)\" d=\"M 0 0 M1210.9 32.4315 Q1204.91 32.4315 1201.42 37.1306 Q1197.94 41.7891 1197.94 49.9314 Q1197.94 58.0738 1201.38 62.7728 Q1204.87 67.4314 1210.9 67.4314 Q1216.86 67.4314 1220.34 62.7323 Q1223.83 58.0333 1223.83 49.9314 Q1223.83 41.8701 1220.34 37.1711 Q1216.86 32.4315 1210.9 32.4315 M1210.9 26.1121 Q1220.63 26.1121 1226.18 32.4315 Q1231.73 38.7509 1231.73 49.9314 Q1231.73 61.0714 1226.18 67.4314 Q1220.63 73.7508 1210.9 73.7508 Q1201.14 73.7508 1195.59 67.4314 Q1190.08 61.0714 1190.08 49.9314 Q1190.08 38.7509 1195.59 32.4315 Q1201.14 26.1121 1210.9 26.1121 Z\" fill=\"#000000\" fill-rule=\"evenodd\" fill-opacity=\"1\" /><path clip-path=\"url(#clip520)\" d=\"M 0 0 M1273.94 49.3643 Q1273.94 41.2625 1270.57 36.8065 Q1267.25 32.3505 1261.22 32.3505 Q1255.22 32.3505 1251.86 36.8065 Q1248.54 41.2625 1248.54 49.3643 Q1248.54 57.4256 1251.86 61.8816 Q1255.22 66.3376 1261.22 66.3376 Q1267.25 66.3376 1270.57 61.8816 Q1273.94 57.4256 1273.94 49.3643 M1281.39 66.9452 Q1281.39 78.5308 1276.24 84.1616 Q1271.1 89.8329 1260.49 89.8329 Q1256.56 89.8329 1253.07 89.2252 Q1249.59 88.6581 1246.31 87.4428 L1246.31 80.1917 Q1249.59 81.9741 1252.79 82.8248 Q1255.99 83.6755 1259.31 83.6755 Q1266.64 83.6755 1270.29 79.8271 Q1273.94 76.0193 1273.94 68.282 L1273.94 64.5957 Q1271.63 68.6061 1268.02 70.5911 Q1264.42 72.576 1259.39 72.576 Q1251.05 72.576 1245.94 66.2161 Q1240.84 59.8562 1240.84 49.3643 Q1240.84 38.832 1245.94 32.472 Q1251.05 26.1121 1259.39 26.1121 Q1264.42 26.1121 1268.02 28.0971 Q1271.63 30.082 1273.94 34.0924 L1273.94 27.2059 L1281.39 27.2059 L1281.39 66.9452 Z\" fill=\"#000000\" fill-rule=\"evenodd\" fill-opacity=\"1\" /><path clip-path=\"url(#clip520)\" d=\"M 0 0 M1323.03 34.1734 Q1321.78 33.4443 1320.28 33.1202 Q1318.82 32.7556 1317.04 32.7556 Q1310.72 32.7556 1307.32 36.8875 Q1303.95 40.9789 1303.95 48.6757 L1303.95 72.576 L1296.46 72.576 L1296.46 27.2059 L1303.95 27.2059 L1303.95 34.2544 Q1306.3 30.1225 1310.07 28.1376 Q1313.84 26.1121 1319.22 26.1121 Q1319.99 26.1121 1320.93 26.2337 Q1321.86 26.3147 1322.99 26.5172 L1323.03 34.1734 Z\" fill=\"#000000\" fill-rule=\"evenodd\" fill-opacity=\"1\" /><path clip-path=\"url(#clip520)\" d=\"M 0 0 M1351.47 49.7694 Q1342.44 49.7694 1338.95 51.8354 Q1335.47 53.9013 1335.47 58.8839 Q1335.47 62.8538 1338.06 65.2034 Q1340.69 67.5124 1345.19 67.5124 Q1351.39 67.5124 1355.12 63.1374 Q1358.88 58.7219 1358.88 51.4303 L1358.88 49.7694 L1351.47 49.7694 M1366.34 46.6907 L1366.34 72.576 L1358.88 72.576 L1358.88 65.6895 Q1356.33 69.8214 1352.52 71.8063 Q1348.72 73.7508 1343.21 73.7508 Q1336.24 73.7508 1332.11 69.8619 Q1328.02 65.9325 1328.02 59.3701 Q1328.02 51.7138 1333.12 47.825 Q1338.26 43.9361 1348.43 43.9361 L1358.88 43.9361 L1358.88 43.2069 Q1358.88 38.0623 1355.48 35.2672 Q1352.12 32.4315 1346 32.4315 Q1342.11 32.4315 1338.43 33.3632 Q1334.74 34.295 1331.34 36.1584 L1331.34 29.2718 Q1335.43 27.692 1339.28 26.9223 Q1343.13 26.1121 1346.77 26.1121 Q1356.61 26.1121 1361.48 31.2163 Q1366.34 36.3204 1366.34 46.6907 Z\" fill=\"#000000\" fill-rule=\"evenodd\" fill-opacity=\"1\" /><path clip-path=\"url(#clip520)\" d=\"M 0 0 M1417.01 35.9153 Q1419.81 30.8922 1423.7 28.5022 Q1427.59 26.1121 1432.85 26.1121 Q1439.94 26.1121 1443.79 31.0947 Q1447.64 36.0368 1447.64 45.1919 L1447.64 72.576 L1440.14 72.576 L1440.14 45.4349 Q1440.14 38.913 1437.84 35.7533 Q1435.53 32.5936 1430.79 32.5936 Q1424.99 32.5936 1421.63 36.4419 Q1418.27 40.2903 1418.27 46.9338 L1418.27 72.576 L1410.78 72.576 L1410.78 45.4349 Q1410.78 38.8725 1408.47 35.7533 Q1406.16 32.5936 1401.34 32.5936 Q1395.62 32.5936 1392.26 36.4824 Q1388.9 40.3308 1388.9 46.9338 L1388.9 72.576 L1381.41 72.576 L1381.41 27.2059 L1388.9 27.2059 L1388.9 34.2544 Q1391.45 30.082 1395.02 28.0971 Q1398.58 26.1121 1403.48 26.1121 Q1408.43 26.1121 1411.87 28.6237 Q1415.35 31.1352 1417.01 35.9153 Z\" fill=\"#000000\" fill-rule=\"evenodd\" fill-opacity=\"1\" /><path clip-path=\"url(#clip520)\" d=\"M 0 0 M1491.43 28.5427 L1491.43 35.5912 Q1488.27 33.9709 1484.87 33.1607 Q1481.46 32.3505 1477.82 32.3505 Q1472.27 32.3505 1469.47 34.0519 Q1466.72 35.7533 1466.72 39.156 Q1466.72 41.7486 1468.7 43.2475 Q1470.69 44.7058 1476.68 46.0426 L1479.24 46.6097 Q1487.18 48.3111 1490.5 51.4303 Q1493.86 54.509 1493.86 60.0587 Q1493.86 66.3781 1488.84 70.0644 Q1483.85 73.7508 1475.1 73.7508 Q1471.46 73.7508 1467.49 73.0216 Q1463.56 72.3329 1459.18 70.9151 L1459.18 63.2184 Q1463.32 65.3654 1467.33 66.4591 Q1471.34 67.5124 1475.27 67.5124 Q1480.53 67.5124 1483.37 65.73 Q1486.2 63.9071 1486.2 60.6258 Q1486.2 57.5877 1484.14 55.9673 Q1482.11 54.3469 1475.18 52.8481 L1472.59 52.2405 Q1465.66 50.7821 1462.59 47.7845 Q1459.51 44.7463 1459.51 39.4801 Q1459.51 33.0797 1464.04 29.5959 Q1468.58 26.1121 1476.93 26.1121 Q1481.06 26.1121 1484.7 26.7198 Q1488.35 27.3274 1491.43 28.5427 Z\" fill=\"#000000\" fill-rule=\"evenodd\" fill-opacity=\"1\" /><path clip-path=\"url(#clip522)\" d=\"\n",
       "M1286.07 556.708 L1286.07 1423.18 L1499.41 1423.18 L1499.41 556.708 L1286.07 556.708 L1286.07 556.708  Z\n",
       "  \" fill=\"#1874cd\" fill-rule=\"evenodd\" fill-opacity=\"0.7\"/>\n",
       "<polyline clip-path=\"url(#clip522)\" style=\"stroke:#000000; stroke-width:4; stroke-opacity:0.7; fill:none\" points=\"\n",
       "  1286.07,556.708 1286.07,1423.18 1499.41,1423.18 1499.41,556.708 1286.07,556.708 \n",
       "  \"/>\n",
       "<path clip-path=\"url(#clip522)\" d=\"\n",
       "M1499.41 556.708 L1499.41 1423.18 L1712.74 1423.18 L1712.74 556.708 L1499.41 556.708 L1499.41 556.708  Z\n",
       "  \" fill=\"#1874cd\" fill-rule=\"evenodd\" fill-opacity=\"0.7\"/>\n",
       "<polyline clip-path=\"url(#clip522)\" style=\"stroke:#000000; stroke-width:4; stroke-opacity:0.7; fill:none\" points=\"\n",
       "  1499.41,556.708 1499.41,1423.18 1712.74,1423.18 1712.74,556.708 1499.41,556.708 \n",
       "  \"/>\n",
       "<path clip-path=\"url(#clip522)\" d=\"\n",
       "M1712.74 1423.18 L1712.74 1423.18 L1926.08 1423.18 L1926.08 1423.18 L1712.74 1423.18 L1712.74 1423.18  Z\n",
       "  \" fill=\"#1874cd\" fill-rule=\"evenodd\" fill-opacity=\"0.7\"/>\n",
       "<polyline clip-path=\"url(#clip522)\" style=\"stroke:#000000; stroke-width:4; stroke-opacity:0.7; fill:none\" points=\"\n",
       "  1712.74,1423.18 1712.74,1423.18 1926.08,1423.18 1712.74,1423.18 \n",
       "  \"/>\n",
       "<path clip-path=\"url(#clip522)\" d=\"\n",
       "M1926.08 556.708 L1926.08 1423.18 L2139.42 1423.18 L2139.42 556.708 L1926.08 556.708 L1926.08 556.708  Z\n",
       "  \" fill=\"#1874cd\" fill-rule=\"evenodd\" fill-opacity=\"0.7\"/>\n",
       "<polyline clip-path=\"url(#clip522)\" style=\"stroke:#000000; stroke-width:4; stroke-opacity:0.7; fill:none\" points=\"\n",
       "  1926.08,556.708 1926.08,1423.18 2139.42,1423.18 2139.42,556.708 1926.08,556.708 \n",
       "  \"/>\n",
       "</svg>\n"
      ]
     },
     "metadata": {},
     "output_type": "display_data"
    }
   ],
   "source": [
    "curricula = Array{Curriculum,1}()\n",
    "metric = \"complexity\"\n",
    "for (key, val) in plans\n",
    "    push!(curricula, val.curriculum)\n",
    "end\n",
    "display(metric_histogram(curricula, metric, title=\" Programs\", xlabel=\"$(metric)\", ylabel=\"# of curricula\", xlim=(0,500)))"
   ]
  },
  {
   "cell_type": "markdown",
   "metadata": {},
   "source": [
    "# Extraneous Prerequisites\n",
    "The following function will find prerequisites in a curriculum.  These are redundant prerequisites that are unnecessary in a curriculum.  For example, if a curriculum has the prerequisite \n",
    "relationships $c_1 \\rightarrow c_2 \\rightarrow c_3$ and $c_1 \\rightarrow c_3$, and $c_1$ and $c_2$ are \n",
    "*not* co-requisites, then $c_1 \\rightarrow c_3$ is redundant and therefore extraneous.  Extraneous prerequisites do not effect the curricular complexity metric, they simply are unnecessary clutter in a curriculum or degree plan."
   ]
  },
  {
   "cell_type": "code",
   "execution_count": 78,
   "metadata": {},
   "outputs": [
    {
     "name": "stdout",
     "output_type": "stream",
     "text": [
      "\n",
      "Georgia Institute of Technology: curriculum Aerospace Engineering has extraneous requisites:\n",
      "-Statics has redundant requisite Integral Calculus\n",
      "\n",
      "\n",
      "\n",
      "Georgia Institute of Technology: curriculum Electrical Engineering - Electronic Devices and Circuit Technology has extraneous requisites:\n",
      "-Digital Design Lab has redundant requisite Fund. of Digital System Design\n",
      "-Microelectronic Circuits has redundant requisite Differential Equations\n",
      "-Electromagnetics has redundant requisite Differential Equations\n",
      "-Measurements, Circuits and Microelectronics Lab has redundant requisite Digital Design Lab\n",
      "\n"
     ]
    }
   ],
   "source": [
    "for plan in plans\n",
    "    extraneous_requisites(plan[2].curriculum, print=true)\n",
    "end"
   ]
  },
  {
   "cell_type": "markdown",
   "metadata": {},
   "source": [
    "## Dead End Courses\n",
    "The following function can be used to find \"dead end\" courses in a curricula.  Dead end courses are those that appear at the end of a path (i.e., sink vertices), and are not a part of a course associated with the major.  E.g., in the case of the ECE curriculum above, these would be courses at the end of a path that do not have the \"ECE\" or \"ENGR\" prefix.  One might consider these courses dead ends, as their course outcomes are not (formally) used by any \n",
    "major-specific course, i.e., by any course with the prefix \"ECE.\""
   ]
  },
  {
   "cell_type": "code",
   "execution_count": 79,
   "metadata": {},
   "outputs": [],
   "source": [
    "prefixes = Dict{String, Array{String,1}}()\n",
    "prefixes[\"Electrical Engineering\"] = [\"ECE\"];\n",
    "prefixes[\"Electrical Engineering - Electronic Devices and Circuit Technology\"] = [\"ECE\"];\n",
    "prefixes[\"Aerospace Engineering\"] = [\"AE\"];"
   ]
  },
  {
   "cell_type": "code",
   "execution_count": 80,
   "metadata": {},
   "outputs": [
    {
     "name": "stdout",
     "output_type": "stream",
     "text": [
      "\n",
      "Dead end courses in the Aerospace Engineering curriculum:\n",
      "ENGL 1102: English Composition II\n",
      "ECE 3741: Circuits /Electronics Lab\n",
      "AE  4341/2/3: Air/Space/Rotor Design\n",
      "\n",
      "Dead end courses in the Electrical Engineering curriculum:\n",
      "\n",
      "Dead end courses in the Electrical Engineering - Electronic Devices and Circuit Technology curriculum:\n",
      "ENGL 1102: English Composition II\n"
     ]
    }
   ],
   "source": [
    "for plan in plans\n",
    "    de = dead_ends(plan[2].curriculum, prefixes[plan[2].curriculum.name])\n",
    "    println(\"\\nDead end courses in the $(plan[2].curriculum.name) curriculum:\")\n",
    "    for course in de[2]\n",
    "        println(\"$(course.prefix) $(course.num): $(course.name)\")\n",
    "    end\n",
    "end"
   ]
  },
  {
   "cell_type": "markdown",
   "metadata": {},
   "source": [
    "# Degree Plan Optimization \n",
    "The Curricular Analytics toolbox contains a number of functions that will create different degree plans for a curriculum depending upon various optimization criteria.  In order to use these functions, you must first install the Gourbi solver, called [Gurobi Optimizer](https://www.gurobi.com/downloads/gurobi-optimizer-eula). Gurobi is a commercial product, and requires a license key; however, [academic licenses](https://www.gurobi.com/downloads/end-user-license-agreement-academic) are available at no cost."
   ]
  },
  {
   "cell_type": "code",
   "execution_count": 81,
   "metadata": {},
   "outputs": [],
   "source": [
    "# Uncomment the following two lines if the Gurobi package has not yet been included in your Julia environment.\n",
    "#using Pkg\n",
    "#Pkg.add(\"Gurobi\")\n",
    "using Gurobi"
   ]
  },
  {
   "cell_type": "code",
   "execution_count": 82,
   "metadata": {},
   "outputs": [
    {
     "name": "stdout",
     "output_type": "stream",
     "text": [
      "\n",
      "Curriculum: Electrical Engineering - Electronic Devices and Circuit Technology\n",
      "Degree Plan: 2021-22 Plan\n",
      "  total credit hours = 129\n",
      "  number of terms = 8\n",
      "  max. credits in a term = 17, in term 1\n",
      "  min. credits in a term = 14, in term 8\n",
      "  avg. credits per term = 16.125, with std. dev. = 1.0532687216470449\n",
      "\n"
     ]
    }
   ],
   "source": [
    "metrics = basic_metrics(EE_plan)\n",
    "println(String(take!(metrics)))"
   ]
  },
  {
   "cell_type": "code",
   "execution_count": 97,
   "metadata": {
    "scrolled": false
   },
   "outputs": [
    {
     "name": "stdout",
     "output_type": "stream",
     "text": [
      "Academic license - for non-commercial use only\n",
      "An optimal solution was found with objective value = 14.0\n"
     ]
    },
    {
     "data": {
      "application/vnd.webio.node+json": {
       "children": [
        {
         "children": [
          ""
         ],
         "instanceArgs": {
          "namespace": "html",
          "tag": "iframe"
         },
         "nodeType": "DOM",
         "props": {
          "events": {
           "load": "(function (){this.contentWindow.postMessage({\"options\":{\"hideTerms\":false,\"edit\":false},\"curriculum\":{\"name\":\"Electrical Engineering - Electronic Devices and Circuit Technology\",\"dp_name\":\"\",\"curriculum_terms\":[{\"name\":\"Term 1\",\"curriculum_items\":[{\"curriculum_requisites\":[],\"name\":\"MATH 1551\",\"metrics\":{\"complexity\":27.0,\"centrality\":0,\"blocking factor\":19,\"delay factor\":8.0},\"nameSub\":\"Differential Calculus\",\"id\":5,\"credits\":2,\"nameCanonical\":\"\"},{\"curriculum_requisites\":[{\"source_id\":5,\"target_id\":6,\"type\":\"CurriculumCorequisite\"}],\"name\":\"MATH 1554\",\"metrics\":{\"complexity\":19.0,\"centrality\":55,\"blocking factor\":12,\"delay factor\":7.0},\"nameSub\":\"Linear Algebra\",\"id\":6,\"credits\":4,\"nameCanonical\":\"\"},{\"curriculum_requisites\":[],\"name\":\"CHEM 1310\",\"metrics\":{\"complexity\":6.0,\"centrality\":0,\"blocking factor\":3,\"delay factor\":3.0},\"nameSub\":\"General Chemistry\",\"id\":1,\"credits\":4,\"nameCanonical\":\"\"},{\"curriculum_requisites\":[],\"name\":\"CS 1301\",\"metrics\":{\"complexity\":16.0,\"centrality\":0,\"blocking factor\":10,\"delay factor\":6.0},\"nameSub\":\"Intro to Computing\",\"id\":2,\"credits\":3,\"nameCanonical\":\"\"},{\"curriculum_requisites\":[],\"name\":\" \",\"metrics\":{\"complexity\":1.0,\"centrality\":0,\"blocking factor\":0,\"delay factor\":1.0},\"nameSub\":\"Humanities Elective\",\"id\":27,\"credits\":3,\"nameCanonical\":\"\"}],\"id\":1},{\"name\":\"Term 2\",\"curriculum_items\":[{\"curriculum_requisites\":[{\"source_id\":5,\"target_id\":9,\"type\":\"CurriculumPrerequisite\"}],\"name\":\"MATH 1552\",\"metrics\":{\"complexity\":25.0,\"centrality\":111,\"blocking factor\":17,\"delay factor\":8.0},\"nameSub\":\"Integral Calculus\",\"id\":9,\"credits\":4,\"nameCanonical\":\"\"},{\"curriculum_requisites\":[],\"name\":\"ECE 3400\",\"metrics\":{\"complexity\":1.0,\"centrality\":0,\"blocking factor\":0,\"delay factor\":1.0},\"nameSub\":\"\",\"id\":31,\"credits\":3,\"nameCanonical\":\"\"},{\"curriculum_requisites\":[],\"name\":\"ENGL 1101\",\"metrics\":{\"complexity\":3.0,\"centrality\":0,\"blocking factor\":1,\"delay factor\":2.0},\"nameSub\":\"English Composition I\",\"id\":4,\"credits\":3,\"nameCanonical\":\"\"},{\"curriculum_requisites\":[],\"name\":\"ECE 4452\",\"metrics\":{\"complexity\":1.0,\"centrality\":0,\"blocking factor\":0,\"delay factor\":1.0},\"nameSub\":\"\",\"id\":38,\"credits\":3,\"nameCanonical\":\"\"},{\"curriculum_requisites\":[{\"source_id\":9,\"target_id\":10,\"type\":\"CurriculumCorequisite\"}],\"name\":\"PHYS  2211\",\"metrics\":{\"complexity\":20.0,\"centrality\":46,\"blocking factor\":12,\"delay factor\":8.0},\"nameSub\":\"Intro Physics 1\",\"id\":10,\"credits\":4,\"nameCanonical\":\"\"}],\"id\":2},{\"name\":\"Term 3\",\"curriculum_items\":[{\"curriculum_requisites\":[{\"source_id\":10,\"target_id\":16,\"type\":\"CurriculumPrerequisite\"}],\"name\":\"PHYS  2212\",\"metrics\":{\"complexity\":19.0,\"centrality\":46,\"blocking factor\":11,\"delay factor\":8.0},\"nameSub\":\"Intro. Physics 2\",\"id\":16,\"credits\":4,\"nameCanonical\":\"\"},{\"curriculum_requisites\":[{\"source_id\":2,\"target_id\":7,\"type\":\"CurriculumPrerequisite\"}],\"name\":\"ECE 2020\",\"metrics\":{\"complexity\":11.0,\"centrality\":41,\"blocking factor\":5,\"delay factor\":6.0},\"nameSub\":\"Fund. of Digital System Design\",\"id\":7,\"credits\":3,\"nameCanonical\":\"\"},{\"curriculum_requisites\":[],\"name\":\" \",\"metrics\":{\"complexity\":1.0,\"centrality\":0,\"blocking factor\":0,\"delay factor\":1.0},\"nameSub\":\"Social Science Elective\",\"id\":40,\"credits\":3,\"nameCanonical\":\"\"},{\"curriculum_requisites\":[{\"source_id\":6,\"target_id\":15,\"type\":\"CurriculumPrerequisite\"},{\"source_id\":9,\"target_id\":15,\"type\":\"CurriculumPrerequisite\"}],\"name\":\"MATH 2552\",\"metrics\":{\"complexity\":18.0,\"centrality\":110,\"blocking factor\":11,\"delay factor\":7.0},\"nameSub\":\"Differential Equations\",\"id\":15,\"credits\":4,\"nameCanonical\":\"\"},{\"curriculum_requisites\":[],\"name\":\"APPH 1040\",\"metrics\":{\"complexity\":1.0,\"centrality\":0,\"blocking factor\":0,\"delay factor\":1.0},\"nameSub\":\"\",\"id\":26,\"credits\":2,\"nameCanonical\":\"\"}],\"id\":3},{\"name\":\"Term 4\",\"curriculum_items\":[{\"curriculum_requisites\":[{\"source_id\":16,\"target_id\":19,\"type\":\"CurriculumPrerequisite\"},{\"source_id\":15,\"target_id\":19,\"type\":\"CurriculumPrerequisite\"}],\"name\":\"ECE 2040\",\"metrics\":{\"complexity\":18.0,\"centrality\":124,\"blocking factor\":10,\"delay factor\":8.0},\"nameSub\":\"Circuit Analysis\",\"id\":19,\"credits\":3,\"nameCanonical\":\"\"},{\"curriculum_requisites\":[{\"source_id\":2,\"target_id\":12,\"type\":\"CurriculumPrerequisite\"},{\"source_id\":9,\"target_id\":12,\"type\":\"CurriculumPrerequisite\"}],\"name\":\"ECE 2026\",\"metrics\":{\"complexity\":9.0,\"centrality\":11,\"blocking factor\":3,\"delay factor\":6.0},\"nameSub\":\"Intro. to Signal Processing\",\"id\":12,\"credits\":3,\"nameCanonical\":\"\"},{\"curriculum_requisites\":[],\"name\":\" \",\"metrics\":{\"complexity\":1.0,\"centrality\":0,\"blocking factor\":0,\"delay factor\":1.0},\"nameSub\":\"History/Government Elective\",\"id\":11,\"credits\":3,\"nameCanonical\":\"\"},{\"curriculum_requisites\":[],\"name\":\" \",\"metrics\":{\"complexity\":1.0,\"centrality\":0,\"blocking factor\":0,\"delay factor\":1.0},\"nameSub\":\"Humanities Elective\",\"id\":14,\"credits\":3,\"nameCanonical\":\"\"},{\"curriculum_requisites\":[{\"source_id\":7,\"target_id\":18,\"type\":\"CurriculumPrerequisite\"}],\"name\":\"ECE 2035\",\"metrics\":{\"complexity\":10.0,\"centrality\":27,\"blocking factor\":4,\"delay factor\":6.0},\"nameSub\":\"Programming Elective\",\"id\":18,\"credits\":4,\"nameCanonical\":\"\"}],\"id\":4},{\"name\":\"Term 5\",\"curriculum_items\":[{\"curriculum_requisites\":[{\"source_id\":19,\"target_id\":45,\"type\":\"CurriculumPrerequisite\"}],\"name\":\" \",\"metrics\":{\"complexity\":6.0,\"centrality\":0,\"blocking factor\":0,\"delay factor\":6.0},\"nameSub\":\"Circuit Technologies Topics\",\"id\":45,\"credits\":3,\"nameCanonical\":\"\"},{\"curriculum_requisites\":[],\"name\":\" \",\"metrics\":{\"complexity\":1.0,\"centrality\":0,\"blocking factor\":0,\"delay factor\":1.0},\"nameSub\":\"Econ/Social Science Elective\",\"id\":13,\"credits\":3,\"nameCanonical\":\"\"},{\"curriculum_requisites\":[{\"source_id\":15,\"target_id\":24,\"type\":\"CurriculumPrerequisite\"},{\"source_id\":12,\"target_id\":24,\"type\":\"CurriculumPrerequisite\"},{\"source_id\":19,\"target_id\":24,\"type\":\"CurriculumPrerequisite\"}],\"name\":\"ECE 3025\",\"metrics\":{\"complexity\":10.0,\"centrality\":45,\"blocking factor\":2,\"delay factor\":8.0},\"nameSub\":\"Electromagnetics\",\"id\":24,\"credits\":3,\"nameCanonical\":\"\"},{\"curriculum_requisites\":[],\"name\":\"ECE 3005\",\"metrics\":{\"complexity\":1.0,\"centrality\":0,\"blocking factor\":0,\"delay factor\":1.0},\"nameSub\":\"\",\"id\":28,\"credits\":1,\"nameCanonical\":\"\"},{\"curriculum_requisites\":[{\"source_id\":4,\"target_id\":8,\"type\":\"CurriculumPrerequisite\"}],\"name\":\"ENGL 1102\",\"metrics\":{\"complexity\":2.0,\"centrality\":0,\"blocking factor\":0,\"delay factor\":2.0},\"nameSub\":\"English Composition II\",\"id\":8,\"credits\":3,\"nameCanonical\":\"\"},{\"curriculum_requisites\":[],\"name\":\" \",\"metrics\":{\"complexity\":1.0,\"centrality\":0,\"blocking factor\":0,\"delay factor\":1.0},\"nameSub\":\"Elective Hours\",\"id\":33,\"credits\":3,\"nameCanonical\":\"\"}],\"id\":5},{\"name\":\"Term 6\",\"curriculum_items\":[{\"curriculum_requisites\":[{\"source_id\":9,\"target_id\":20,\"type\":\"CurriculumPrerequisite\"}],\"name\":\"MATH 2551\",\"metrics\":{\"complexity\":5.0,\"centrality\":4,\"blocking factor\":1,\"delay factor\":4.0},\"nameSub\":\"Multivariate Calculus\",\"id\":20,\"credits\":4,\"nameCanonical\":\"\"},{\"curriculum_requisites\":[{\"source_id\":24,\"target_id\":35,\"type\":\"CurriculumPrerequisite\"}],\"name\":\" \",\"metrics\":{\"complexity\":9.0,\"centrality\":45,\"blocking factor\":1,\"delay factor\":8.0},\"nameSub\":\"Senior Design Sequence\",\"id\":35,\"credits\":1,\"nameCanonical\":\"\"},{\"curriculum_requisites\":[],\"name\":\" \",\"metrics\":{\"complexity\":1.0,\"centrality\":0,\"blocking factor\":0,\"delay factor\":1.0},\"nameSub\":\"Elective Hours\",\"id\":44,\"credits\":3,\"nameCanonical\":\"\"},{\"curriculum_requisites\":[{\"source_id\":7,\"target_id\":17,\"type\":\"CurriculumPrerequisite\"},{\"source_id\":18,\"target_id\":17,\"type\":\"CurriculumCorequisite\"}],\"name\":\"ECE 2031\",\"metrics\":{\"complexity\":9.0,\"centrality\":31,\"blocking factor\":3,\"delay factor\":6.0},\"nameSub\":\"Digital Design Lab\",\"id\":17,\"credits\":2,\"nameCanonical\":\"\"},{\"curriculum_requisites\":[{\"source_id\":19,\"target_id\":43,\"type\":\"CurriculumPrerequisite\"}],\"name\":\" \",\"metrics\":{\"complexity\":6.0,\"centrality\":0,\"blocking factor\":0,\"delay factor\":6.0},\"nameSub\":\"ECE 3000/4000 Elective\",\"id\":43,\"credits\":3,\"nameCanonical\":\"\"},{\"curriculum_requisites\":[],\"name\":\"ECE 1100\",\"metrics\":{\"complexity\":1.0,\"centrality\":0,\"blocking factor\":0,\"delay factor\":1.0},\"nameSub\":\"ECE Discovery Studio\",\"id\":3,\"credits\":1,\"nameCanonical\":\"\"},{\"curriculum_requisites\":[],\"name\":\" \",\"metrics\":{\"complexity\":1.0,\"centrality\":0,\"blocking factor\":0,\"delay factor\":1.0},\"nameSub\":\"Elective Hours\",\"id\":39,\"credits\":2,\"nameCanonical\":\"\"}],\"id\":6},{\"name\":\"Term 7\",\"curriculum_items\":[{\"curriculum_requisites\":[],\"name\":\" \",\"metrics\":{\"complexity\":1.0,\"centrality\":0,\"blocking factor\":0,\"delay factor\":1.0},\"nameSub\":\"Elective Hours\",\"id\":29,\"credits\":3,\"nameCanonical\":\"\"},{\"curriculum_requisites\":[],\"name\":\" \",\"metrics\":{\"complexity\":1.0,\"centrality\":0,\"blocking factor\":0,\"delay factor\":1.0},\"nameSub\":\"Science Elective\",\"id\":21,\"credits\":3,\"nameCanonical\":\"\"},{\"curriculum_requisites\":[{\"source_id\":19,\"target_id\":37,\"type\":\"CurriculumPrerequisite\"}],\"name\":\" \",\"metrics\":{\"complexity\":6.0,\"centrality\":0,\"blocking factor\":0,\"delay factor\":6.0},\"nameSub\":\"ECE 3000/4000 Elective\",\"id\":37,\"credits\":3,\"nameCanonical\":\"\"},{\"curriculum_requisites\":[{\"source_id\":15,\"target_id\":22,\"type\":\"CurriculumPrerequisite\"},{\"source_id\":18,\"target_id\":22,\"type\":\"CurriculumPrerequisite\"},{\"source_id\":17,\"target_id\":22,\"type\":\"CurriculumPrerequisite\"},{\"source_id\":1,\"target_id\":22,\"type\":\"CurriculumPrerequisite\"},{\"source_id\":19,\"target_id\":22,\"type\":\"CurriculumPrerequisite\"}],\"name\":\"ECE 3040\",\"metrics\":{\"complexity\":9.0,\"centrality\":96,\"blocking factor\":2,\"delay factor\":7.0},\"nameSub\":\"Microelectronic Circuits\",\"id\":22,\"credits\":4,\"nameCanonical\":\"\"},{\"curriculum_requisites\":[{\"source_id\":19,\"target_id\":42,\"type\":\"CurriculumPrerequisite\"}],\"name\":\" \",\"metrics\":{\"complexity\":6.0,\"centrality\":0,\"blocking factor\":0,\"delay factor\":6.0},\"nameSub\":\"ECE 3000/4000 Elective\",\"id\":42,\"credits\":3,\"nameCanonical\":\"\"}],\"id\":7},{\"name\":\"Term 8\",\"curriculum_items\":[{\"curriculum_requisites\":[],\"name\":\"ECE 3450\",\"metrics\":{\"complexity\":1.0,\"centrality\":0,\"blocking factor\":0,\"delay factor\":1.0},\"nameSub\":\"\",\"id\":30,\"credits\":3,\"nameCanonical\":\"\"},{\"curriculum_requisites\":[],\"name\":\" \",\"metrics\":{\"complexity\":1.0,\"centrality\":0,\"blocking factor\":0,\"delay factor\":1.0},\"nameSub\":\"Social Science Elective\",\"id\":32,\"credits\":3,\"nameCanonical\":\"\"},{\"curriculum_requisites\":[{\"source_id\":22,\"target_id\":23,\"type\":\"CurriculumCorequisite\"},{\"source_id\":17,\"target_id\":23,\"type\":\"CurriculumPrerequisite\"}],\"name\":\"ECE 3043\",\"metrics\":{\"complexity\":7.0,\"centrality\":0,\"blocking factor\":0,\"delay factor\":7.0},\"nameSub\":\"Measurements, Circuits and Microelectronics Lab\",\"id\":23,\"credits\":2,\"nameCanonical\":\"\"},{\"curriculum_requisites\":[{\"source_id\":35,\"target_id\":41,\"type\":\"CurriculumPrerequisite\"}],\"name\":\" \",\"metrics\":{\"complexity\":8.0,\"centrality\":0,\"blocking factor\":0,\"delay factor\":8.0},\"nameSub\":\"Senior Design Sequence\",\"id\":41,\"credits\":2,\"nameCanonical\":\"\"},{\"curriculum_requisites\":[{\"source_id\":22,\"target_id\":36,\"type\":\"CurriculumPrerequisite\"}],\"name\":\" \",\"metrics\":{\"complexity\":7.0,\"centrality\":0,\"blocking factor\":0,\"delay factor\":7.0},\"nameSub\":\"Electronic Devices Topics\",\"id\":36,\"credits\":3,\"nameCanonical\":\"\"},{\"curriculum_requisites\":[{\"source_id\":20,\"target_id\":25,\"type\":\"CurriculumPrerequisite\"}],\"name\":\" \",\"metrics\":{\"complexity\":4.0,\"centrality\":0,\"blocking factor\":0,\"delay factor\":4.0},\"nameSub\":\"Prob & Stat Elective\",\"id\":25,\"credits\":3,\"nameCanonical\":\"\"}],\"id\":8}],\"institution\":\"Georgia Institute of Technology\"}},\"*\"); window.removeEventListener(\"message\",window.messageReceived); window.messageReceived=(function (event){return (event.data.curriculum!==undefined) ? (WebIO.setval({\"name\":\"curriculum-data\",\"scope\":\"12677882534064347218\",\"id\":\"16296954021657332833\",\"type\":\"observable\"},event.data.curriculum)) : undefined}); return window.addEventListener(\"message\",window.messageReceived)})"
          },
          "id": "curriculum",
          "src": "https://curricula-api-embed.damoursystems.com/",
          "style": {
           "border": "none",
           "height": "100vh",
           "margin": "0",
           "padding": "0",
           "width": "100%"
          }
         },
         "type": "node"
        }
       ],
       "instanceArgs": {
        "handlers": {},
        "id": "12677882534064347218",
        "imports": {
         "data": [],
         "type": "async_block"
        },
        "mount_callbacks": [],
        "observables": {
         "curriculum-data": {
          "id": "16296954021657332833",
          "sync": true,
          "value": {
           "curriculum": {
            "curriculum_terms": [
             {
              "curriculum_items": [
               {
                "credits": 2,
                "curriculum_requisites": [],
                "id": 5,
                "metrics": {
                 "blocking factor": 19,
                 "centrality": 0,
                 "complexity": 27,
                 "delay factor": 8
                },
                "name": "MATH 1551",
                "nameCanonical": "",
                "nameSub": "Differential Calculus"
               },
               {
                "credits": 4,
                "curriculum_requisites": [
                 {
                  "source_id": 5,
                  "target_id": 6,
                  "type": "CurriculumCorequisite"
                 }
                ],
                "id": 6,
                "metrics": {
                 "blocking factor": 12,
                 "centrality": 55,
                 "complexity": 19,
                 "delay factor": 7
                },
                "name": "MATH 1554",
                "nameCanonical": "",
                "nameSub": "Linear Algebra"
               },
               {
                "credits": 4,
                "curriculum_requisites": [],
                "id": 1,
                "metrics": {
                 "blocking factor": 3,
                 "centrality": 0,
                 "complexity": 6,
                 "delay factor": 3
                },
                "name": "CHEM 1310",
                "nameCanonical": "",
                "nameSub": "General Chemistry"
               },
               {
                "credits": 3,
                "curriculum_requisites": [],
                "id": 2,
                "metrics": {
                 "blocking factor": 10,
                 "centrality": 0,
                 "complexity": 16,
                 "delay factor": 6
                },
                "name": "CS 1301",
                "nameCanonical": "",
                "nameSub": "Intro to Computing"
               },
               {
                "credits": 3,
                "curriculum_requisites": [],
                "id": 27,
                "metrics": {
                 "blocking factor": 0,
                 "centrality": 0,
                 "complexity": 1,
                 "delay factor": 1
                },
                "name": " ",
                "nameCanonical": "",
                "nameSub": "Humanities Elective"
               }
              ],
              "id": 1,
              "name": "Term 1"
             },
             {
              "curriculum_items": [
               {
                "credits": 4,
                "curriculum_requisites": [
                 {
                  "source_id": 5,
                  "target_id": 9,
                  "type": "CurriculumPrerequisite"
                 }
                ],
                "id": 9,
                "metrics": {
                 "blocking factor": 17,
                 "centrality": 111,
                 "complexity": 25,
                 "delay factor": 8
                },
                "name": "MATH 1552",
                "nameCanonical": "",
                "nameSub": "Integral Calculus"
               },
               {
                "credits": 3,
                "curriculum_requisites": [],
                "id": 31,
                "metrics": {
                 "blocking factor": 0,
                 "centrality": 0,
                 "complexity": 1,
                 "delay factor": 1
                },
                "name": "ECE 3400",
                "nameCanonical": "",
                "nameSub": ""
               },
               {
                "credits": 3,
                "curriculum_requisites": [],
                "id": 4,
                "metrics": {
                 "blocking factor": 1,
                 "centrality": 0,
                 "complexity": 3,
                 "delay factor": 2
                },
                "name": "ENGL 1101",
                "nameCanonical": "",
                "nameSub": "English Composition I"
               },
               {
                "credits": 3,
                "curriculum_requisites": [],
                "id": 38,
                "metrics": {
                 "blocking factor": 0,
                 "centrality": 0,
                 "complexity": 1,
                 "delay factor": 1
                },
                "name": "ECE 4452",
                "nameCanonical": "",
                "nameSub": ""
               },
               {
                "credits": 4,
                "curriculum_requisites": [
                 {
                  "source_id": 9,
                  "target_id": 10,
                  "type": "CurriculumCorequisite"
                 }
                ],
                "id": 10,
                "metrics": {
                 "blocking factor": 12,
                 "centrality": 46,
                 "complexity": 20,
                 "delay factor": 8
                },
                "name": "PHYS  2211",
                "nameCanonical": "",
                "nameSub": "Intro Physics 1"
               }
              ],
              "id": 2,
              "name": "Term 2"
             },
             {
              "curriculum_items": [
               {
                "credits": 4,
                "curriculum_requisites": [
                 {
                  "source_id": 10,
                  "target_id": 16,
                  "type": "CurriculumPrerequisite"
                 }
                ],
                "id": 16,
                "metrics": {
                 "blocking factor": 11,
                 "centrality": 46,
                 "complexity": 19,
                 "delay factor": 8
                },
                "name": "PHYS  2212",
                "nameCanonical": "",
                "nameSub": "Intro. Physics 2"
               },
               {
                "credits": 3,
                "curriculum_requisites": [
                 {
                  "source_id": 2,
                  "target_id": 7,
                  "type": "CurriculumPrerequisite"
                 }
                ],
                "id": 7,
                "metrics": {
                 "blocking factor": 5,
                 "centrality": 41,
                 "complexity": 11,
                 "delay factor": 6
                },
                "name": "ECE 2020",
                "nameCanonical": "",
                "nameSub": "Fund. of Digital System Design"
               },
               {
                "credits": 3,
                "curriculum_requisites": [],
                "id": 40,
                "metrics": {
                 "blocking factor": 0,
                 "centrality": 0,
                 "complexity": 1,
                 "delay factor": 1
                },
                "name": " ",
                "nameCanonical": "",
                "nameSub": "Social Science Elective"
               },
               {
                "credits": 4,
                "curriculum_requisites": [
                 {
                  "source_id": 6,
                  "target_id": 15,
                  "type": "CurriculumPrerequisite"
                 },
                 {
                  "source_id": 9,
                  "target_id": 15,
                  "type": "CurriculumPrerequisite"
                 }
                ],
                "id": 15,
                "metrics": {
                 "blocking factor": 11,
                 "centrality": 110,
                 "complexity": 18,
                 "delay factor": 7
                },
                "name": "MATH 2552",
                "nameCanonical": "",
                "nameSub": "Differential Equations"
               },
               {
                "credits": 2,
                "curriculum_requisites": [],
                "id": 26,
                "metrics": {
                 "blocking factor": 0,
                 "centrality": 0,
                 "complexity": 1,
                 "delay factor": 1
                },
                "name": "APPH 1040",
                "nameCanonical": "",
                "nameSub": ""
               }
              ],
              "id": 3,
              "name": "Term 3"
             },
             {
              "curriculum_items": [
               {
                "credits": 3,
                "curriculum_requisites": [
                 {
                  "source_id": 16,
                  "target_id": 19,
                  "type": "CurriculumPrerequisite"
                 },
                 {
                  "source_id": 15,
                  "target_id": 19,
                  "type": "CurriculumPrerequisite"
                 }
                ],
                "id": 19,
                "metrics": {
                 "blocking factor": 10,
                 "centrality": 124,
                 "complexity": 18,
                 "delay factor": 8
                },
                "name": "ECE 2040",
                "nameCanonical": "",
                "nameSub": "Circuit Analysis"
               },
               {
                "credits": 3,
                "curriculum_requisites": [
                 {
                  "source_id": 2,
                  "target_id": 12,
                  "type": "CurriculumPrerequisite"
                 },
                 {
                  "source_id": 9,
                  "target_id": 12,
                  "type": "CurriculumPrerequisite"
                 }
                ],
                "id": 12,
                "metrics": {
                 "blocking factor": 3,
                 "centrality": 11,
                 "complexity": 9,
                 "delay factor": 6
                },
                "name": "ECE 2026",
                "nameCanonical": "",
                "nameSub": "Intro. to Signal Processing"
               },
               {
                "credits": 3,
                "curriculum_requisites": [],
                "id": 11,
                "metrics": {
                 "blocking factor": 0,
                 "centrality": 0,
                 "complexity": 1,
                 "delay factor": 1
                },
                "name": " ",
                "nameCanonical": "",
                "nameSub": "History/Government Elective"
               },
               {
                "credits": 3,
                "curriculum_requisites": [],
                "id": 14,
                "metrics": {
                 "blocking factor": 0,
                 "centrality": 0,
                 "complexity": 1,
                 "delay factor": 1
                },
                "name": " ",
                "nameCanonical": "",
                "nameSub": "Humanities Elective"
               },
               {
                "credits": 4,
                "curriculum_requisites": [
                 {
                  "source_id": 7,
                  "target_id": 18,
                  "type": "CurriculumPrerequisite"
                 }
                ],
                "id": 18,
                "metrics": {
                 "blocking factor": 4,
                 "centrality": 27,
                 "complexity": 10,
                 "delay factor": 6
                },
                "name": "ECE 2035",
                "nameCanonical": "",
                "nameSub": "Programming Elective"
               }
              ],
              "id": 4,
              "name": "Term 4"
             },
             {
              "curriculum_items": [
               {
                "credits": 3,
                "curriculum_requisites": [
                 {
                  "source_id": 19,
                  "target_id": 45,
                  "type": "CurriculumPrerequisite"
                 }
                ],
                "id": 45,
                "metrics": {
                 "blocking factor": 0,
                 "centrality": 0,
                 "complexity": 6,
                 "delay factor": 6
                },
                "name": " ",
                "nameCanonical": "",
                "nameSub": "Circuit Technologies Topics"
               },
               {
                "credits": 3,
                "curriculum_requisites": [],
                "id": 13,
                "metrics": {
                 "blocking factor": 0,
                 "centrality": 0,
                 "complexity": 1,
                 "delay factor": 1
                },
                "name": " ",
                "nameCanonical": "",
                "nameSub": "Econ/Social Science Elective"
               },
               {
                "credits": 3,
                "curriculum_requisites": [
                 {
                  "source_id": 15,
                  "target_id": 24,
                  "type": "CurriculumPrerequisite"
                 },
                 {
                  "source_id": 12,
                  "target_id": 24,
                  "type": "CurriculumPrerequisite"
                 },
                 {
                  "source_id": 19,
                  "target_id": 24,
                  "type": "CurriculumPrerequisite"
                 }
                ],
                "id": 24,
                "metrics": {
                 "blocking factor": 2,
                 "centrality": 45,
                 "complexity": 10,
                 "delay factor": 8
                },
                "name": "ECE 3025",
                "nameCanonical": "",
                "nameSub": "Electromagnetics"
               },
               {
                "credits": 1,
                "curriculum_requisites": [],
                "id": 28,
                "metrics": {
                 "blocking factor": 0,
                 "centrality": 0,
                 "complexity": 1,
                 "delay factor": 1
                },
                "name": "ECE 3005",
                "nameCanonical": "",
                "nameSub": ""
               },
               {
                "credits": 3,
                "curriculum_requisites": [
                 {
                  "source_id": 4,
                  "target_id": 8,
                  "type": "CurriculumPrerequisite"
                 }
                ],
                "id": 8,
                "metrics": {
                 "blocking factor": 0,
                 "centrality": 0,
                 "complexity": 2,
                 "delay factor": 2
                },
                "name": "ENGL 1102",
                "nameCanonical": "",
                "nameSub": "English Composition II"
               },
               {
                "credits": 3,
                "curriculum_requisites": [],
                "id": 33,
                "metrics": {
                 "blocking factor": 0,
                 "centrality": 0,
                 "complexity": 1,
                 "delay factor": 1
                },
                "name": " ",
                "nameCanonical": "",
                "nameSub": "Elective Hours"
               }
              ],
              "id": 5,
              "name": "Term 5"
             },
             {
              "curriculum_items": [
               {
                "credits": 4,
                "curriculum_requisites": [
                 {
                  "source_id": 9,
                  "target_id": 20,
                  "type": "CurriculumPrerequisite"
                 }
                ],
                "id": 20,
                "metrics": {
                 "blocking factor": 1,
                 "centrality": 4,
                 "complexity": 5,
                 "delay factor": 4
                },
                "name": "MATH 2551",
                "nameCanonical": "",
                "nameSub": "Multivariate Calculus"
               },
               {
                "credits": 1,
                "curriculum_requisites": [
                 {
                  "source_id": 24,
                  "target_id": 35,
                  "type": "CurriculumPrerequisite"
                 }
                ],
                "id": 35,
                "metrics": {
                 "blocking factor": 1,
                 "centrality": 45,
                 "complexity": 9,
                 "delay factor": 8
                },
                "name": " ",
                "nameCanonical": "",
                "nameSub": "Senior Design Sequence"
               },
               {
                "credits": 3,
                "curriculum_requisites": [],
                "id": 44,
                "metrics": {
                 "blocking factor": 0,
                 "centrality": 0,
                 "complexity": 1,
                 "delay factor": 1
                },
                "name": " ",
                "nameCanonical": "",
                "nameSub": "Elective Hours"
               },
               {
                "credits": 2,
                "curriculum_requisites": [
                 {
                  "source_id": 7,
                  "target_id": 17,
                  "type": "CurriculumPrerequisite"
                 },
                 {
                  "source_id": 18,
                  "target_id": 17,
                  "type": "CurriculumCorequisite"
                 }
                ],
                "id": 17,
                "metrics": {
                 "blocking factor": 3,
                 "centrality": 31,
                 "complexity": 9,
                 "delay factor": 6
                },
                "name": "ECE 2031",
                "nameCanonical": "",
                "nameSub": "Digital Design Lab"
               },
               {
                "credits": 3,
                "curriculum_requisites": [
                 {
                  "source_id": 19,
                  "target_id": 43,
                  "type": "CurriculumPrerequisite"
                 }
                ],
                "id": 43,
                "metrics": {
                 "blocking factor": 0,
                 "centrality": 0,
                 "complexity": 6,
                 "delay factor": 6
                },
                "name": " ",
                "nameCanonical": "",
                "nameSub": "ECE 3000/4000 Elective"
               },
               {
                "credits": 1,
                "curriculum_requisites": [],
                "id": 3,
                "metrics": {
                 "blocking factor": 0,
                 "centrality": 0,
                 "complexity": 1,
                 "delay factor": 1
                },
                "name": "ECE 1100",
                "nameCanonical": "",
                "nameSub": "ECE Discovery Studio"
               },
               {
                "credits": 2,
                "curriculum_requisites": [],
                "id": 39,
                "metrics": {
                 "blocking factor": 0,
                 "centrality": 0,
                 "complexity": 1,
                 "delay factor": 1
                },
                "name": " ",
                "nameCanonical": "",
                "nameSub": "Elective Hours"
               }
              ],
              "id": 6,
              "name": "Term 6"
             },
             {
              "curriculum_items": [
               {
                "credits": 3,
                "curriculum_requisites": [],
                "id": 29,
                "metrics": {
                 "blocking factor": 0,
                 "centrality": 0,
                 "complexity": 1,
                 "delay factor": 1
                },
                "name": " ",
                "nameCanonical": "",
                "nameSub": "Elective Hours"
               },
               {
                "credits": 3,
                "curriculum_requisites": [],
                "id": 21,
                "metrics": {
                 "blocking factor": 0,
                 "centrality": 0,
                 "complexity": 1,
                 "delay factor": 1
                },
                "name": " ",
                "nameCanonical": "",
                "nameSub": "Science Elective"
               },
               {
                "credits": 3,
                "curriculum_requisites": [
                 {
                  "source_id": 19,
                  "target_id": 37,
                  "type": "CurriculumPrerequisite"
                 }
                ],
                "id": 37,
                "metrics": {
                 "blocking factor": 0,
                 "centrality": 0,
                 "complexity": 6,
                 "delay factor": 6
                },
                "name": " ",
                "nameCanonical": "",
                "nameSub": "ECE 3000/4000 Elective"
               },
               {
                "credits": 4,
                "curriculum_requisites": [
                 {
                  "source_id": 15,
                  "target_id": 22,
                  "type": "CurriculumPrerequisite"
                 },
                 {
                  "source_id": 18,
                  "target_id": 22,
                  "type": "CurriculumPrerequisite"
                 },
                 {
                  "source_id": 17,
                  "target_id": 22,
                  "type": "CurriculumPrerequisite"
                 },
                 {
                  "source_id": 1,
                  "target_id": 22,
                  "type": "CurriculumPrerequisite"
                 },
                 {
                  "source_id": 19,
                  "target_id": 22,
                  "type": "CurriculumPrerequisite"
                 }
                ],
                "id": 22,
                "metrics": {
                 "blocking factor": 2,
                 "centrality": 96,
                 "complexity": 9,
                 "delay factor": 7
                },
                "name": "ECE 3040",
                "nameCanonical": "",
                "nameSub": "Microelectronic Circuits"
               },
               {
                "credits": 3,
                "curriculum_requisites": [
                 {
                  "source_id": 19,
                  "target_id": 42,
                  "type": "CurriculumPrerequisite"
                 }
                ],
                "id": 42,
                "metrics": {
                 "blocking factor": 0,
                 "centrality": 0,
                 "complexity": 6,
                 "delay factor": 6
                },
                "name": " ",
                "nameCanonical": "",
                "nameSub": "ECE 3000/4000 Elective"
               }
              ],
              "id": 7,
              "name": "Term 7"
             },
             {
              "curriculum_items": [
               {
                "credits": 3,
                "curriculum_requisites": [],
                "id": 30,
                "metrics": {
                 "blocking factor": 0,
                 "centrality": 0,
                 "complexity": 1,
                 "delay factor": 1
                },
                "name": "ECE 3450",
                "nameCanonical": "",
                "nameSub": ""
               },
               {
                "credits": 3,
                "curriculum_requisites": [],
                "id": 32,
                "metrics": {
                 "blocking factor": 0,
                 "centrality": 0,
                 "complexity": 1,
                 "delay factor": 1
                },
                "name": " ",
                "nameCanonical": "",
                "nameSub": "Social Science Elective"
               },
               {
                "credits": 2,
                "curriculum_requisites": [
                 {
                  "source_id": 22,
                  "target_id": 23,
                  "type": "CurriculumCorequisite"
                 },
                 {
                  "source_id": 17,
                  "target_id": 23,
                  "type": "CurriculumPrerequisite"
                 }
                ],
                "id": 23,
                "metrics": {
                 "blocking factor": 0,
                 "centrality": 0,
                 "complexity": 7,
                 "delay factor": 7
                },
                "name": "ECE 3043",
                "nameCanonical": "",
                "nameSub": "Measurements, Circuits and Microelectronics Lab"
               },
               {
                "credits": 2,
                "curriculum_requisites": [
                 {
                  "source_id": 35,
                  "target_id": 41,
                  "type": "CurriculumPrerequisite"
                 }
                ],
                "id": 41,
                "metrics": {
                 "blocking factor": 0,
                 "centrality": 0,
                 "complexity": 8,
                 "delay factor": 8
                },
                "name": " ",
                "nameCanonical": "",
                "nameSub": "Senior Design Sequence"
               },
               {
                "credits": 3,
                "curriculum_requisites": [
                 {
                  "source_id": 22,
                  "target_id": 36,
                  "type": "CurriculumPrerequisite"
                 }
                ],
                "id": 36,
                "metrics": {
                 "blocking factor": 0,
                 "centrality": 0,
                 "complexity": 7,
                 "delay factor": 7
                },
                "name": " ",
                "nameCanonical": "",
                "nameSub": "Electronic Devices Topics"
               },
               {
                "credits": 3,
                "curriculum_requisites": [
                 {
                  "source_id": 20,
                  "target_id": 25,
                  "type": "CurriculumPrerequisite"
                 }
                ],
                "id": 25,
                "metrics": {
                 "blocking factor": 0,
                 "centrality": 0,
                 "complexity": 4,
                 "delay factor": 4
                },
                "name": " ",
                "nameCanonical": "",
                "nameSub": "Prob & Stat Elective"
               }
              ],
              "id": 8,
              "name": "Term 8"
             }
            ],
            "dp_name": "",
            "institution": "Georgia Institute of Technology",
            "name": "Electrical Engineering - Electronic Devices and Circuit Technology"
           },
           "options": {
            "edit": false,
            "hideTerms": false
           }
          }
         }
        },
        "systemjs_options": null
       },
       "nodeType": "Scope",
       "props": {},
       "type": "node"
      },
      "text/html": [
       "<div\n",
       "    class=\"webio-mountpoint\"\n",
       "    data-webio-mountpoint=\"11711522492350217438\"\n",
       ">\n",
       "    <script>\n",
       "    if (window.require && require.defined && require.defined(\"nbextensions/webio-jupyter-notebook\")) {\n",
       "        console.log(\"Jupyter WebIO extension detected, not mounting.\");\n",
       "    } else if (window.WebIO) {\n",
       "        WebIO.mount(\n",
       "            document.querySelector('[data-webio-mountpoint=\"11711522492350217438\"]'),\n",
       "            {\"props\":{},\"nodeType\":\"Scope\",\"type\":\"node\",\"instanceArgs\":{\"imports\":{\"data\":[],\"type\":\"async_block\"},\"id\":\"12677882534064347218\",\"handlers\":{},\"systemjs_options\":null,\"mount_callbacks\":[],\"observables\":{\"curriculum-data\":{\"sync\":true,\"id\":\"16296954021657332833\",\"value\":{\"options\":{\"hideTerms\":false,\"edit\":false},\"curriculum\":{\"name\":\"Electrical Engineering - Electronic Devices and Circuit Technology\",\"dp_name\":\"\",\"curriculum_terms\":[{\"name\":\"Term 1\",\"curriculum_items\":[{\"curriculum_requisites\":[],\"name\":\"MATH 1551\",\"metrics\":{\"complexity\":27.0,\"centrality\":0,\"blocking factor\":19,\"delay factor\":8.0},\"nameSub\":\"Differential Calculus\",\"id\":5,\"credits\":2,\"nameCanonical\":\"\"},{\"curriculum_requisites\":[{\"source_id\":5,\"target_id\":6,\"type\":\"CurriculumCorequisite\"}],\"name\":\"MATH 1554\",\"metrics\":{\"complexity\":19.0,\"centrality\":55,\"blocking factor\":12,\"delay factor\":7.0},\"nameSub\":\"Linear Algebra\",\"id\":6,\"credits\":4,\"nameCanonical\":\"\"},{\"curriculum_requisites\":[],\"name\":\"CHEM 1310\",\"metrics\":{\"complexity\":6.0,\"centrality\":0,\"blocking factor\":3,\"delay factor\":3.0},\"nameSub\":\"General Chemistry\",\"id\":1,\"credits\":4,\"nameCanonical\":\"\"},{\"curriculum_requisites\":[],\"name\":\"CS 1301\",\"metrics\":{\"complexity\":16.0,\"centrality\":0,\"blocking factor\":10,\"delay factor\":6.0},\"nameSub\":\"Intro to Computing\",\"id\":2,\"credits\":3,\"nameCanonical\":\"\"},{\"curriculum_requisites\":[],\"name\":\" \",\"metrics\":{\"complexity\":1.0,\"centrality\":0,\"blocking factor\":0,\"delay factor\":1.0},\"nameSub\":\"Humanities Elective\",\"id\":27,\"credits\":3,\"nameCanonical\":\"\"}],\"id\":1},{\"name\":\"Term 2\",\"curriculum_items\":[{\"curriculum_requisites\":[{\"source_id\":5,\"target_id\":9,\"type\":\"CurriculumPrerequisite\"}],\"name\":\"MATH 1552\",\"metrics\":{\"complexity\":25.0,\"centrality\":111,\"blocking factor\":17,\"delay factor\":8.0},\"nameSub\":\"Integral Calculus\",\"id\":9,\"credits\":4,\"nameCanonical\":\"\"},{\"curriculum_requisites\":[],\"name\":\"ECE 3400\",\"metrics\":{\"complexity\":1.0,\"centrality\":0,\"blocking factor\":0,\"delay factor\":1.0},\"nameSub\":\"\",\"id\":31,\"credits\":3,\"nameCanonical\":\"\"},{\"curriculum_requisites\":[],\"name\":\"ENGL 1101\",\"metrics\":{\"complexity\":3.0,\"centrality\":0,\"blocking factor\":1,\"delay factor\":2.0},\"nameSub\":\"English Composition I\",\"id\":4,\"credits\":3,\"nameCanonical\":\"\"},{\"curriculum_requisites\":[],\"name\":\"ECE 4452\",\"metrics\":{\"complexity\":1.0,\"centrality\":0,\"blocking factor\":0,\"delay factor\":1.0},\"nameSub\":\"\",\"id\":38,\"credits\":3,\"nameCanonical\":\"\"},{\"curriculum_requisites\":[{\"source_id\":9,\"target_id\":10,\"type\":\"CurriculumCorequisite\"}],\"name\":\"PHYS  2211\",\"metrics\":{\"complexity\":20.0,\"centrality\":46,\"blocking factor\":12,\"delay factor\":8.0},\"nameSub\":\"Intro Physics 1\",\"id\":10,\"credits\":4,\"nameCanonical\":\"\"}],\"id\":2},{\"name\":\"Term 3\",\"curriculum_items\":[{\"curriculum_requisites\":[{\"source_id\":10,\"target_id\":16,\"type\":\"CurriculumPrerequisite\"}],\"name\":\"PHYS  2212\",\"metrics\":{\"complexity\":19.0,\"centrality\":46,\"blocking factor\":11,\"delay factor\":8.0},\"nameSub\":\"Intro. Physics 2\",\"id\":16,\"credits\":4,\"nameCanonical\":\"\"},{\"curriculum_requisites\":[{\"source_id\":2,\"target_id\":7,\"type\":\"CurriculumPrerequisite\"}],\"name\":\"ECE 2020\",\"metrics\":{\"complexity\":11.0,\"centrality\":41,\"blocking factor\":5,\"delay factor\":6.0},\"nameSub\":\"Fund. of Digital System Design\",\"id\":7,\"credits\":3,\"nameCanonical\":\"\"},{\"curriculum_requisites\":[],\"name\":\" \",\"metrics\":{\"complexity\":1.0,\"centrality\":0,\"blocking factor\":0,\"delay factor\":1.0},\"nameSub\":\"Social Science Elective\",\"id\":40,\"credits\":3,\"nameCanonical\":\"\"},{\"curriculum_requisites\":[{\"source_id\":6,\"target_id\":15,\"type\":\"CurriculumPrerequisite\"},{\"source_id\":9,\"target_id\":15,\"type\":\"CurriculumPrerequisite\"}],\"name\":\"MATH 2552\",\"metrics\":{\"complexity\":18.0,\"centrality\":110,\"blocking factor\":11,\"delay factor\":7.0},\"nameSub\":\"Differential Equations\",\"id\":15,\"credits\":4,\"nameCanonical\":\"\"},{\"curriculum_requisites\":[],\"name\":\"APPH 1040\",\"metrics\":{\"complexity\":1.0,\"centrality\":0,\"blocking factor\":0,\"delay factor\":1.0},\"nameSub\":\"\",\"id\":26,\"credits\":2,\"nameCanonical\":\"\"}],\"id\":3},{\"name\":\"Term 4\",\"curriculum_items\":[{\"curriculum_requisites\":[{\"source_id\":16,\"target_id\":19,\"type\":\"CurriculumPrerequisite\"},{\"source_id\":15,\"target_id\":19,\"type\":\"CurriculumPrerequisite\"}],\"name\":\"ECE 2040\",\"metrics\":{\"complexity\":18.0,\"centrality\":124,\"blocking factor\":10,\"delay factor\":8.0},\"nameSub\":\"Circuit Analysis\",\"id\":19,\"credits\":3,\"nameCanonical\":\"\"},{\"curriculum_requisites\":[{\"source_id\":2,\"target_id\":12,\"type\":\"CurriculumPrerequisite\"},{\"source_id\":9,\"target_id\":12,\"type\":\"CurriculumPrerequisite\"}],\"name\":\"ECE 2026\",\"metrics\":{\"complexity\":9.0,\"centrality\":11,\"blocking factor\":3,\"delay factor\":6.0},\"nameSub\":\"Intro. to Signal Processing\",\"id\":12,\"credits\":3,\"nameCanonical\":\"\"},{\"curriculum_requisites\":[],\"name\":\" \",\"metrics\":{\"complexity\":1.0,\"centrality\":0,\"blocking factor\":0,\"delay factor\":1.0},\"nameSub\":\"History\\/Government Elective\",\"id\":11,\"credits\":3,\"nameCanonical\":\"\"},{\"curriculum_requisites\":[],\"name\":\" \",\"metrics\":{\"complexity\":1.0,\"centrality\":0,\"blocking factor\":0,\"delay factor\":1.0},\"nameSub\":\"Humanities Elective\",\"id\":14,\"credits\":3,\"nameCanonical\":\"\"},{\"curriculum_requisites\":[{\"source_id\":7,\"target_id\":18,\"type\":\"CurriculumPrerequisite\"}],\"name\":\"ECE 2035\",\"metrics\":{\"complexity\":10.0,\"centrality\":27,\"blocking factor\":4,\"delay factor\":6.0},\"nameSub\":\"Programming Elective\",\"id\":18,\"credits\":4,\"nameCanonical\":\"\"}],\"id\":4},{\"name\":\"Term 5\",\"curriculum_items\":[{\"curriculum_requisites\":[{\"source_id\":19,\"target_id\":45,\"type\":\"CurriculumPrerequisite\"}],\"name\":\" \",\"metrics\":{\"complexity\":6.0,\"centrality\":0,\"blocking factor\":0,\"delay factor\":6.0},\"nameSub\":\"Circuit Technologies Topics\",\"id\":45,\"credits\":3,\"nameCanonical\":\"\"},{\"curriculum_requisites\":[],\"name\":\" \",\"metrics\":{\"complexity\":1.0,\"centrality\":0,\"blocking factor\":0,\"delay factor\":1.0},\"nameSub\":\"Econ\\/Social Science Elective\",\"id\":13,\"credits\":3,\"nameCanonical\":\"\"},{\"curriculum_requisites\":[{\"source_id\":15,\"target_id\":24,\"type\":\"CurriculumPrerequisite\"},{\"source_id\":12,\"target_id\":24,\"type\":\"CurriculumPrerequisite\"},{\"source_id\":19,\"target_id\":24,\"type\":\"CurriculumPrerequisite\"}],\"name\":\"ECE 3025\",\"metrics\":{\"complexity\":10.0,\"centrality\":45,\"blocking factor\":2,\"delay factor\":8.0},\"nameSub\":\"Electromagnetics\",\"id\":24,\"credits\":3,\"nameCanonical\":\"\"},{\"curriculum_requisites\":[],\"name\":\"ECE 3005\",\"metrics\":{\"complexity\":1.0,\"centrality\":0,\"blocking factor\":0,\"delay factor\":1.0},\"nameSub\":\"\",\"id\":28,\"credits\":1,\"nameCanonical\":\"\"},{\"curriculum_requisites\":[{\"source_id\":4,\"target_id\":8,\"type\":\"CurriculumPrerequisite\"}],\"name\":\"ENGL 1102\",\"metrics\":{\"complexity\":2.0,\"centrality\":0,\"blocking factor\":0,\"delay factor\":2.0},\"nameSub\":\"English Composition II\",\"id\":8,\"credits\":3,\"nameCanonical\":\"\"},{\"curriculum_requisites\":[],\"name\":\" \",\"metrics\":{\"complexity\":1.0,\"centrality\":0,\"blocking factor\":0,\"delay factor\":1.0},\"nameSub\":\"Elective Hours\",\"id\":33,\"credits\":3,\"nameCanonical\":\"\"}],\"id\":5},{\"name\":\"Term 6\",\"curriculum_items\":[{\"curriculum_requisites\":[{\"source_id\":9,\"target_id\":20,\"type\":\"CurriculumPrerequisite\"}],\"name\":\"MATH 2551\",\"metrics\":{\"complexity\":5.0,\"centrality\":4,\"blocking factor\":1,\"delay factor\":4.0},\"nameSub\":\"Multivariate Calculus\",\"id\":20,\"credits\":4,\"nameCanonical\":\"\"},{\"curriculum_requisites\":[{\"source_id\":24,\"target_id\":35,\"type\":\"CurriculumPrerequisite\"}],\"name\":\" \",\"metrics\":{\"complexity\":9.0,\"centrality\":45,\"blocking factor\":1,\"delay factor\":8.0},\"nameSub\":\"Senior Design Sequence\",\"id\":35,\"credits\":1,\"nameCanonical\":\"\"},{\"curriculum_requisites\":[],\"name\":\" \",\"metrics\":{\"complexity\":1.0,\"centrality\":0,\"blocking factor\":0,\"delay factor\":1.0},\"nameSub\":\"Elective Hours\",\"id\":44,\"credits\":3,\"nameCanonical\":\"\"},{\"curriculum_requisites\":[{\"source_id\":7,\"target_id\":17,\"type\":\"CurriculumPrerequisite\"},{\"source_id\":18,\"target_id\":17,\"type\":\"CurriculumCorequisite\"}],\"name\":\"ECE 2031\",\"metrics\":{\"complexity\":9.0,\"centrality\":31,\"blocking factor\":3,\"delay factor\":6.0},\"nameSub\":\"Digital Design Lab\",\"id\":17,\"credits\":2,\"nameCanonical\":\"\"},{\"curriculum_requisites\":[{\"source_id\":19,\"target_id\":43,\"type\":\"CurriculumPrerequisite\"}],\"name\":\" \",\"metrics\":{\"complexity\":6.0,\"centrality\":0,\"blocking factor\":0,\"delay factor\":6.0},\"nameSub\":\"ECE 3000\\/4000 Elective\",\"id\":43,\"credits\":3,\"nameCanonical\":\"\"},{\"curriculum_requisites\":[],\"name\":\"ECE 1100\",\"metrics\":{\"complexity\":1.0,\"centrality\":0,\"blocking factor\":0,\"delay factor\":1.0},\"nameSub\":\"ECE Discovery Studio\",\"id\":3,\"credits\":1,\"nameCanonical\":\"\"},{\"curriculum_requisites\":[],\"name\":\" \",\"metrics\":{\"complexity\":1.0,\"centrality\":0,\"blocking factor\":0,\"delay factor\":1.0},\"nameSub\":\"Elective Hours\",\"id\":39,\"credits\":2,\"nameCanonical\":\"\"}],\"id\":6},{\"name\":\"Term 7\",\"curriculum_items\":[{\"curriculum_requisites\":[],\"name\":\" \",\"metrics\":{\"complexity\":1.0,\"centrality\":0,\"blocking factor\":0,\"delay factor\":1.0},\"nameSub\":\"Elective Hours\",\"id\":29,\"credits\":3,\"nameCanonical\":\"\"},{\"curriculum_requisites\":[],\"name\":\" \",\"metrics\":{\"complexity\":1.0,\"centrality\":0,\"blocking factor\":0,\"delay factor\":1.0},\"nameSub\":\"Science Elective\",\"id\":21,\"credits\":3,\"nameCanonical\":\"\"},{\"curriculum_requisites\":[{\"source_id\":19,\"target_id\":37,\"type\":\"CurriculumPrerequisite\"}],\"name\":\" \",\"metrics\":{\"complexity\":6.0,\"centrality\":0,\"blocking factor\":0,\"delay factor\":6.0},\"nameSub\":\"ECE 3000\\/4000 Elective\",\"id\":37,\"credits\":3,\"nameCanonical\":\"\"},{\"curriculum_requisites\":[{\"source_id\":15,\"target_id\":22,\"type\":\"CurriculumPrerequisite\"},{\"source_id\":18,\"target_id\":22,\"type\":\"CurriculumPrerequisite\"},{\"source_id\":17,\"target_id\":22,\"type\":\"CurriculumPrerequisite\"},{\"source_id\":1,\"target_id\":22,\"type\":\"CurriculumPrerequisite\"},{\"source_id\":19,\"target_id\":22,\"type\":\"CurriculumPrerequisite\"}],\"name\":\"ECE 3040\",\"metrics\":{\"complexity\":9.0,\"centrality\":96,\"blocking factor\":2,\"delay factor\":7.0},\"nameSub\":\"Microelectronic Circuits\",\"id\":22,\"credits\":4,\"nameCanonical\":\"\"},{\"curriculum_requisites\":[{\"source_id\":19,\"target_id\":42,\"type\":\"CurriculumPrerequisite\"}],\"name\":\" \",\"metrics\":{\"complexity\":6.0,\"centrality\":0,\"blocking factor\":0,\"delay factor\":6.0},\"nameSub\":\"ECE 3000\\/4000 Elective\",\"id\":42,\"credits\":3,\"nameCanonical\":\"\"}],\"id\":7},{\"name\":\"Term 8\",\"curriculum_items\":[{\"curriculum_requisites\":[],\"name\":\"ECE 3450\",\"metrics\":{\"complexity\":1.0,\"centrality\":0,\"blocking factor\":0,\"delay factor\":1.0},\"nameSub\":\"\",\"id\":30,\"credits\":3,\"nameCanonical\":\"\"},{\"curriculum_requisites\":[],\"name\":\" \",\"metrics\":{\"complexity\":1.0,\"centrality\":0,\"blocking factor\":0,\"delay factor\":1.0},\"nameSub\":\"Social Science Elective\",\"id\":32,\"credits\":3,\"nameCanonical\":\"\"},{\"curriculum_requisites\":[{\"source_id\":22,\"target_id\":23,\"type\":\"CurriculumCorequisite\"},{\"source_id\":17,\"target_id\":23,\"type\":\"CurriculumPrerequisite\"}],\"name\":\"ECE 3043\",\"metrics\":{\"complexity\":7.0,\"centrality\":0,\"blocking factor\":0,\"delay factor\":7.0},\"nameSub\":\"Measurements, Circuits and Microelectronics Lab\",\"id\":23,\"credits\":2,\"nameCanonical\":\"\"},{\"curriculum_requisites\":[{\"source_id\":35,\"target_id\":41,\"type\":\"CurriculumPrerequisite\"}],\"name\":\" \",\"metrics\":{\"complexity\":8.0,\"centrality\":0,\"blocking factor\":0,\"delay factor\":8.0},\"nameSub\":\"Senior Design Sequence\",\"id\":41,\"credits\":2,\"nameCanonical\":\"\"},{\"curriculum_requisites\":[{\"source_id\":22,\"target_id\":36,\"type\":\"CurriculumPrerequisite\"}],\"name\":\" \",\"metrics\":{\"complexity\":7.0,\"centrality\":0,\"blocking factor\":0,\"delay factor\":7.0},\"nameSub\":\"Electronic Devices Topics\",\"id\":36,\"credits\":3,\"nameCanonical\":\"\"},{\"curriculum_requisites\":[{\"source_id\":20,\"target_id\":25,\"type\":\"CurriculumPrerequisite\"}],\"name\":\" \",\"metrics\":{\"complexity\":4.0,\"centrality\":0,\"blocking factor\":0,\"delay factor\":4.0},\"nameSub\":\"Prob & Stat Elective\",\"id\":25,\"credits\":3,\"nameCanonical\":\"\"}],\"id\":8}],\"institution\":\"Georgia Institute of Technology\"}}}}},\"children\":[{\"props\":{\"src\":\"https:\\/\\/curricula-api-embed.damoursystems.com\\/\",\"id\":\"curriculum\",\"events\":{\"load\":\"(function (){this.contentWindow.postMessage({\\\"options\\\":{\\\"hideTerms\\\":false,\\\"edit\\\":false},\\\"curriculum\\\":{\\\"name\\\":\\\"Electrical Engineering - Electronic Devices and Circuit Technology\\\",\\\"dp_name\\\":\\\"\\\",\\\"curriculum_terms\\\":[{\\\"name\\\":\\\"Term 1\\\",\\\"curriculum_items\\\":[{\\\"curriculum_requisites\\\":[],\\\"name\\\":\\\"MATH 1551\\\",\\\"metrics\\\":{\\\"complexity\\\":27.0,\\\"centrality\\\":0,\\\"blocking factor\\\":19,\\\"delay factor\\\":8.0},\\\"nameSub\\\":\\\"Differential Calculus\\\",\\\"id\\\":5,\\\"credits\\\":2,\\\"nameCanonical\\\":\\\"\\\"},{\\\"curriculum_requisites\\\":[{\\\"source_id\\\":5,\\\"target_id\\\":6,\\\"type\\\":\\\"CurriculumCorequisite\\\"}],\\\"name\\\":\\\"MATH 1554\\\",\\\"metrics\\\":{\\\"complexity\\\":19.0,\\\"centrality\\\":55,\\\"blocking factor\\\":12,\\\"delay factor\\\":7.0},\\\"nameSub\\\":\\\"Linear Algebra\\\",\\\"id\\\":6,\\\"credits\\\":4,\\\"nameCanonical\\\":\\\"\\\"},{\\\"curriculum_requisites\\\":[],\\\"name\\\":\\\"CHEM 1310\\\",\\\"metrics\\\":{\\\"complexity\\\":6.0,\\\"centrality\\\":0,\\\"blocking factor\\\":3,\\\"delay factor\\\":3.0},\\\"nameSub\\\":\\\"General Chemistry\\\",\\\"id\\\":1,\\\"credits\\\":4,\\\"nameCanonical\\\":\\\"\\\"},{\\\"curriculum_requisites\\\":[],\\\"name\\\":\\\"CS 1301\\\",\\\"metrics\\\":{\\\"complexity\\\":16.0,\\\"centrality\\\":0,\\\"blocking factor\\\":10,\\\"delay factor\\\":6.0},\\\"nameSub\\\":\\\"Intro to Computing\\\",\\\"id\\\":2,\\\"credits\\\":3,\\\"nameCanonical\\\":\\\"\\\"},{\\\"curriculum_requisites\\\":[],\\\"name\\\":\\\" \\\",\\\"metrics\\\":{\\\"complexity\\\":1.0,\\\"centrality\\\":0,\\\"blocking factor\\\":0,\\\"delay factor\\\":1.0},\\\"nameSub\\\":\\\"Humanities Elective\\\",\\\"id\\\":27,\\\"credits\\\":3,\\\"nameCanonical\\\":\\\"\\\"}],\\\"id\\\":1},{\\\"name\\\":\\\"Term 2\\\",\\\"curriculum_items\\\":[{\\\"curriculum_requisites\\\":[{\\\"source_id\\\":5,\\\"target_id\\\":9,\\\"type\\\":\\\"CurriculumPrerequisite\\\"}],\\\"name\\\":\\\"MATH 1552\\\",\\\"metrics\\\":{\\\"complexity\\\":25.0,\\\"centrality\\\":111,\\\"blocking factor\\\":17,\\\"delay factor\\\":8.0},\\\"nameSub\\\":\\\"Integral Calculus\\\",\\\"id\\\":9,\\\"credits\\\":4,\\\"nameCanonical\\\":\\\"\\\"},{\\\"curriculum_requisites\\\":[],\\\"name\\\":\\\"ECE 3400\\\",\\\"metrics\\\":{\\\"complexity\\\":1.0,\\\"centrality\\\":0,\\\"blocking factor\\\":0,\\\"delay factor\\\":1.0},\\\"nameSub\\\":\\\"\\\",\\\"id\\\":31,\\\"credits\\\":3,\\\"nameCanonical\\\":\\\"\\\"},{\\\"curriculum_requisites\\\":[],\\\"name\\\":\\\"ENGL 1101\\\",\\\"metrics\\\":{\\\"complexity\\\":3.0,\\\"centrality\\\":0,\\\"blocking factor\\\":1,\\\"delay factor\\\":2.0},\\\"nameSub\\\":\\\"English Composition I\\\",\\\"id\\\":4,\\\"credits\\\":3,\\\"nameCanonical\\\":\\\"\\\"},{\\\"curriculum_requisites\\\":[],\\\"name\\\":\\\"ECE 4452\\\",\\\"metrics\\\":{\\\"complexity\\\":1.0,\\\"centrality\\\":0,\\\"blocking factor\\\":0,\\\"delay factor\\\":1.0},\\\"nameSub\\\":\\\"\\\",\\\"id\\\":38,\\\"credits\\\":3,\\\"nameCanonical\\\":\\\"\\\"},{\\\"curriculum_requisites\\\":[{\\\"source_id\\\":9,\\\"target_id\\\":10,\\\"type\\\":\\\"CurriculumCorequisite\\\"}],\\\"name\\\":\\\"PHYS  2211\\\",\\\"metrics\\\":{\\\"complexity\\\":20.0,\\\"centrality\\\":46,\\\"blocking factor\\\":12,\\\"delay factor\\\":8.0},\\\"nameSub\\\":\\\"Intro Physics 1\\\",\\\"id\\\":10,\\\"credits\\\":4,\\\"nameCanonical\\\":\\\"\\\"}],\\\"id\\\":2},{\\\"name\\\":\\\"Term 3\\\",\\\"curriculum_items\\\":[{\\\"curriculum_requisites\\\":[{\\\"source_id\\\":10,\\\"target_id\\\":16,\\\"type\\\":\\\"CurriculumPrerequisite\\\"}],\\\"name\\\":\\\"PHYS  2212\\\",\\\"metrics\\\":{\\\"complexity\\\":19.0,\\\"centrality\\\":46,\\\"blocking factor\\\":11,\\\"delay factor\\\":8.0},\\\"nameSub\\\":\\\"Intro. Physics 2\\\",\\\"id\\\":16,\\\"credits\\\":4,\\\"nameCanonical\\\":\\\"\\\"},{\\\"curriculum_requisites\\\":[{\\\"source_id\\\":2,\\\"target_id\\\":7,\\\"type\\\":\\\"CurriculumPrerequisite\\\"}],\\\"name\\\":\\\"ECE 2020\\\",\\\"metrics\\\":{\\\"complexity\\\":11.0,\\\"centrality\\\":41,\\\"blocking factor\\\":5,\\\"delay factor\\\":6.0},\\\"nameSub\\\":\\\"Fund. of Digital System Design\\\",\\\"id\\\":7,\\\"credits\\\":3,\\\"nameCanonical\\\":\\\"\\\"},{\\\"curriculum_requisites\\\":[],\\\"name\\\":\\\" \\\",\\\"metrics\\\":{\\\"complexity\\\":1.0,\\\"centrality\\\":0,\\\"blocking factor\\\":0,\\\"delay factor\\\":1.0},\\\"nameSub\\\":\\\"Social Science Elective\\\",\\\"id\\\":40,\\\"credits\\\":3,\\\"nameCanonical\\\":\\\"\\\"},{\\\"curriculum_requisites\\\":[{\\\"source_id\\\":6,\\\"target_id\\\":15,\\\"type\\\":\\\"CurriculumPrerequisite\\\"},{\\\"source_id\\\":9,\\\"target_id\\\":15,\\\"type\\\":\\\"CurriculumPrerequisite\\\"}],\\\"name\\\":\\\"MATH 2552\\\",\\\"metrics\\\":{\\\"complexity\\\":18.0,\\\"centrality\\\":110,\\\"blocking factor\\\":11,\\\"delay factor\\\":7.0},\\\"nameSub\\\":\\\"Differential Equations\\\",\\\"id\\\":15,\\\"credits\\\":4,\\\"nameCanonical\\\":\\\"\\\"},{\\\"curriculum_requisites\\\":[],\\\"name\\\":\\\"APPH 1040\\\",\\\"metrics\\\":{\\\"complexity\\\":1.0,\\\"centrality\\\":0,\\\"blocking factor\\\":0,\\\"delay factor\\\":1.0},\\\"nameSub\\\":\\\"\\\",\\\"id\\\":26,\\\"credits\\\":2,\\\"nameCanonical\\\":\\\"\\\"}],\\\"id\\\":3},{\\\"name\\\":\\\"Term 4\\\",\\\"curriculum_items\\\":[{\\\"curriculum_requisites\\\":[{\\\"source_id\\\":16,\\\"target_id\\\":19,\\\"type\\\":\\\"CurriculumPrerequisite\\\"},{\\\"source_id\\\":15,\\\"target_id\\\":19,\\\"type\\\":\\\"CurriculumPrerequisite\\\"}],\\\"name\\\":\\\"ECE 2040\\\",\\\"metrics\\\":{\\\"complexity\\\":18.0,\\\"centrality\\\":124,\\\"blocking factor\\\":10,\\\"delay factor\\\":8.0},\\\"nameSub\\\":\\\"Circuit Analysis\\\",\\\"id\\\":19,\\\"credits\\\":3,\\\"nameCanonical\\\":\\\"\\\"},{\\\"curriculum_requisites\\\":[{\\\"source_id\\\":2,\\\"target_id\\\":12,\\\"type\\\":\\\"CurriculumPrerequisite\\\"},{\\\"source_id\\\":9,\\\"target_id\\\":12,\\\"type\\\":\\\"CurriculumPrerequisite\\\"}],\\\"name\\\":\\\"ECE 2026\\\",\\\"metrics\\\":{\\\"complexity\\\":9.0,\\\"centrality\\\":11,\\\"blocking factor\\\":3,\\\"delay factor\\\":6.0},\\\"nameSub\\\":\\\"Intro. to Signal Processing\\\",\\\"id\\\":12,\\\"credits\\\":3,\\\"nameCanonical\\\":\\\"\\\"},{\\\"curriculum_requisites\\\":[],\\\"name\\\":\\\" \\\",\\\"metrics\\\":{\\\"complexity\\\":1.0,\\\"centrality\\\":0,\\\"blocking factor\\\":0,\\\"delay factor\\\":1.0},\\\"nameSub\\\":\\\"History\\/Government Elective\\\",\\\"id\\\":11,\\\"credits\\\":3,\\\"nameCanonical\\\":\\\"\\\"},{\\\"curriculum_requisites\\\":[],\\\"name\\\":\\\" \\\",\\\"metrics\\\":{\\\"complexity\\\":1.0,\\\"centrality\\\":0,\\\"blocking factor\\\":0,\\\"delay factor\\\":1.0},\\\"nameSub\\\":\\\"Humanities Elective\\\",\\\"id\\\":14,\\\"credits\\\":3,\\\"nameCanonical\\\":\\\"\\\"},{\\\"curriculum_requisites\\\":[{\\\"source_id\\\":7,\\\"target_id\\\":18,\\\"type\\\":\\\"CurriculumPrerequisite\\\"}],\\\"name\\\":\\\"ECE 2035\\\",\\\"metrics\\\":{\\\"complexity\\\":10.0,\\\"centrality\\\":27,\\\"blocking factor\\\":4,\\\"delay factor\\\":6.0},\\\"nameSub\\\":\\\"Programming Elective\\\",\\\"id\\\":18,\\\"credits\\\":4,\\\"nameCanonical\\\":\\\"\\\"}],\\\"id\\\":4},{\\\"name\\\":\\\"Term 5\\\",\\\"curriculum_items\\\":[{\\\"curriculum_requisites\\\":[{\\\"source_id\\\":19,\\\"target_id\\\":45,\\\"type\\\":\\\"CurriculumPrerequisite\\\"}],\\\"name\\\":\\\" \\\",\\\"metrics\\\":{\\\"complexity\\\":6.0,\\\"centrality\\\":0,\\\"blocking factor\\\":0,\\\"delay factor\\\":6.0},\\\"nameSub\\\":\\\"Circuit Technologies Topics\\\",\\\"id\\\":45,\\\"credits\\\":3,\\\"nameCanonical\\\":\\\"\\\"},{\\\"curriculum_requisites\\\":[],\\\"name\\\":\\\" \\\",\\\"metrics\\\":{\\\"complexity\\\":1.0,\\\"centrality\\\":0,\\\"blocking factor\\\":0,\\\"delay factor\\\":1.0},\\\"nameSub\\\":\\\"Econ\\/Social Science Elective\\\",\\\"id\\\":13,\\\"credits\\\":3,\\\"nameCanonical\\\":\\\"\\\"},{\\\"curriculum_requisites\\\":[{\\\"source_id\\\":15,\\\"target_id\\\":24,\\\"type\\\":\\\"CurriculumPrerequisite\\\"},{\\\"source_id\\\":12,\\\"target_id\\\":24,\\\"type\\\":\\\"CurriculumPrerequisite\\\"},{\\\"source_id\\\":19,\\\"target_id\\\":24,\\\"type\\\":\\\"CurriculumPrerequisite\\\"}],\\\"name\\\":\\\"ECE 3025\\\",\\\"metrics\\\":{\\\"complexity\\\":10.0,\\\"centrality\\\":45,\\\"blocking factor\\\":2,\\\"delay factor\\\":8.0},\\\"nameSub\\\":\\\"Electromagnetics\\\",\\\"id\\\":24,\\\"credits\\\":3,\\\"nameCanonical\\\":\\\"\\\"},{\\\"curriculum_requisites\\\":[],\\\"name\\\":\\\"ECE 3005\\\",\\\"metrics\\\":{\\\"complexity\\\":1.0,\\\"centrality\\\":0,\\\"blocking factor\\\":0,\\\"delay factor\\\":1.0},\\\"nameSub\\\":\\\"\\\",\\\"id\\\":28,\\\"credits\\\":1,\\\"nameCanonical\\\":\\\"\\\"},{\\\"curriculum_requisites\\\":[{\\\"source_id\\\":4,\\\"target_id\\\":8,\\\"type\\\":\\\"CurriculumPrerequisite\\\"}],\\\"name\\\":\\\"ENGL 1102\\\",\\\"metrics\\\":{\\\"complexity\\\":2.0,\\\"centrality\\\":0,\\\"blocking factor\\\":0,\\\"delay factor\\\":2.0},\\\"nameSub\\\":\\\"English Composition II\\\",\\\"id\\\":8,\\\"credits\\\":3,\\\"nameCanonical\\\":\\\"\\\"},{\\\"curriculum_requisites\\\":[],\\\"name\\\":\\\" \\\",\\\"metrics\\\":{\\\"complexity\\\":1.0,\\\"centrality\\\":0,\\\"blocking factor\\\":0,\\\"delay factor\\\":1.0},\\\"nameSub\\\":\\\"Elective Hours\\\",\\\"id\\\":33,\\\"credits\\\":3,\\\"nameCanonical\\\":\\\"\\\"}],\\\"id\\\":5},{\\\"name\\\":\\\"Term 6\\\",\\\"curriculum_items\\\":[{\\\"curriculum_requisites\\\":[{\\\"source_id\\\":9,\\\"target_id\\\":20,\\\"type\\\":\\\"CurriculumPrerequisite\\\"}],\\\"name\\\":\\\"MATH 2551\\\",\\\"metrics\\\":{\\\"complexity\\\":5.0,\\\"centrality\\\":4,\\\"blocking factor\\\":1,\\\"delay factor\\\":4.0},\\\"nameSub\\\":\\\"Multivariate Calculus\\\",\\\"id\\\":20,\\\"credits\\\":4,\\\"nameCanonical\\\":\\\"\\\"},{\\\"curriculum_requisites\\\":[{\\\"source_id\\\":24,\\\"target_id\\\":35,\\\"type\\\":\\\"CurriculumPrerequisite\\\"}],\\\"name\\\":\\\" \\\",\\\"metrics\\\":{\\\"complexity\\\":9.0,\\\"centrality\\\":45,\\\"blocking factor\\\":1,\\\"delay factor\\\":8.0},\\\"nameSub\\\":\\\"Senior Design Sequence\\\",\\\"id\\\":35,\\\"credits\\\":1,\\\"nameCanonical\\\":\\\"\\\"},{\\\"curriculum_requisites\\\":[],\\\"name\\\":\\\" \\\",\\\"metrics\\\":{\\\"complexity\\\":1.0,\\\"centrality\\\":0,\\\"blocking factor\\\":0,\\\"delay factor\\\":1.0},\\\"nameSub\\\":\\\"Elective Hours\\\",\\\"id\\\":44,\\\"credits\\\":3,\\\"nameCanonical\\\":\\\"\\\"},{\\\"curriculum_requisites\\\":[{\\\"source_id\\\":7,\\\"target_id\\\":17,\\\"type\\\":\\\"CurriculumPrerequisite\\\"},{\\\"source_id\\\":18,\\\"target_id\\\":17,\\\"type\\\":\\\"CurriculumCorequisite\\\"}],\\\"name\\\":\\\"ECE 2031\\\",\\\"metrics\\\":{\\\"complexity\\\":9.0,\\\"centrality\\\":31,\\\"blocking factor\\\":3,\\\"delay factor\\\":6.0},\\\"nameSub\\\":\\\"Digital Design Lab\\\",\\\"id\\\":17,\\\"credits\\\":2,\\\"nameCanonical\\\":\\\"\\\"},{\\\"curriculum_requisites\\\":[{\\\"source_id\\\":19,\\\"target_id\\\":43,\\\"type\\\":\\\"CurriculumPrerequisite\\\"}],\\\"name\\\":\\\" \\\",\\\"metrics\\\":{\\\"complexity\\\":6.0,\\\"centrality\\\":0,\\\"blocking factor\\\":0,\\\"delay factor\\\":6.0},\\\"nameSub\\\":\\\"ECE 3000\\/4000 Elective\\\",\\\"id\\\":43,\\\"credits\\\":3,\\\"nameCanonical\\\":\\\"\\\"},{\\\"curriculum_requisites\\\":[],\\\"name\\\":\\\"ECE 1100\\\",\\\"metrics\\\":{\\\"complexity\\\":1.0,\\\"centrality\\\":0,\\\"blocking factor\\\":0,\\\"delay factor\\\":1.0},\\\"nameSub\\\":\\\"ECE Discovery Studio\\\",\\\"id\\\":3,\\\"credits\\\":1,\\\"nameCanonical\\\":\\\"\\\"},{\\\"curriculum_requisites\\\":[],\\\"name\\\":\\\" \\\",\\\"metrics\\\":{\\\"complexity\\\":1.0,\\\"centrality\\\":0,\\\"blocking factor\\\":0,\\\"delay factor\\\":1.0},\\\"nameSub\\\":\\\"Elective Hours\\\",\\\"id\\\":39,\\\"credits\\\":2,\\\"nameCanonical\\\":\\\"\\\"}],\\\"id\\\":6},{\\\"name\\\":\\\"Term 7\\\",\\\"curriculum_items\\\":[{\\\"curriculum_requisites\\\":[],\\\"name\\\":\\\" \\\",\\\"metrics\\\":{\\\"complexity\\\":1.0,\\\"centrality\\\":0,\\\"blocking factor\\\":0,\\\"delay factor\\\":1.0},\\\"nameSub\\\":\\\"Elective Hours\\\",\\\"id\\\":29,\\\"credits\\\":3,\\\"nameCanonical\\\":\\\"\\\"},{\\\"curriculum_requisites\\\":[],\\\"name\\\":\\\" \\\",\\\"metrics\\\":{\\\"complexity\\\":1.0,\\\"centrality\\\":0,\\\"blocking factor\\\":0,\\\"delay factor\\\":1.0},\\\"nameSub\\\":\\\"Science Elective\\\",\\\"id\\\":21,\\\"credits\\\":3,\\\"nameCanonical\\\":\\\"\\\"},{\\\"curriculum_requisites\\\":[{\\\"source_id\\\":19,\\\"target_id\\\":37,\\\"type\\\":\\\"CurriculumPrerequisite\\\"}],\\\"name\\\":\\\" \\\",\\\"metrics\\\":{\\\"complexity\\\":6.0,\\\"centrality\\\":0,\\\"blocking factor\\\":0,\\\"delay factor\\\":6.0},\\\"nameSub\\\":\\\"ECE 3000\\/4000 Elective\\\",\\\"id\\\":37,\\\"credits\\\":3,\\\"nameCanonical\\\":\\\"\\\"},{\\\"curriculum_requisites\\\":[{\\\"source_id\\\":15,\\\"target_id\\\":22,\\\"type\\\":\\\"CurriculumPrerequisite\\\"},{\\\"source_id\\\":18,\\\"target_id\\\":22,\\\"type\\\":\\\"CurriculumPrerequisite\\\"},{\\\"source_id\\\":17,\\\"target_id\\\":22,\\\"type\\\":\\\"CurriculumPrerequisite\\\"},{\\\"source_id\\\":1,\\\"target_id\\\":22,\\\"type\\\":\\\"CurriculumPrerequisite\\\"},{\\\"source_id\\\":19,\\\"target_id\\\":22,\\\"type\\\":\\\"CurriculumPrerequisite\\\"}],\\\"name\\\":\\\"ECE 3040\\\",\\\"metrics\\\":{\\\"complexity\\\":9.0,\\\"centrality\\\":96,\\\"blocking factor\\\":2,\\\"delay factor\\\":7.0},\\\"nameSub\\\":\\\"Microelectronic Circuits\\\",\\\"id\\\":22,\\\"credits\\\":4,\\\"nameCanonical\\\":\\\"\\\"},{\\\"curriculum_requisites\\\":[{\\\"source_id\\\":19,\\\"target_id\\\":42,\\\"type\\\":\\\"CurriculumPrerequisite\\\"}],\\\"name\\\":\\\" \\\",\\\"metrics\\\":{\\\"complexity\\\":6.0,\\\"centrality\\\":0,\\\"blocking factor\\\":0,\\\"delay factor\\\":6.0},\\\"nameSub\\\":\\\"ECE 3000\\/4000 Elective\\\",\\\"id\\\":42,\\\"credits\\\":3,\\\"nameCanonical\\\":\\\"\\\"}],\\\"id\\\":7},{\\\"name\\\":\\\"Term 8\\\",\\\"curriculum_items\\\":[{\\\"curriculum_requisites\\\":[],\\\"name\\\":\\\"ECE 3450\\\",\\\"metrics\\\":{\\\"complexity\\\":1.0,\\\"centrality\\\":0,\\\"blocking factor\\\":0,\\\"delay factor\\\":1.0},\\\"nameSub\\\":\\\"\\\",\\\"id\\\":30,\\\"credits\\\":3,\\\"nameCanonical\\\":\\\"\\\"},{\\\"curriculum_requisites\\\":[],\\\"name\\\":\\\" \\\",\\\"metrics\\\":{\\\"complexity\\\":1.0,\\\"centrality\\\":0,\\\"blocking factor\\\":0,\\\"delay factor\\\":1.0},\\\"nameSub\\\":\\\"Social Science Elective\\\",\\\"id\\\":32,\\\"credits\\\":3,\\\"nameCanonical\\\":\\\"\\\"},{\\\"curriculum_requisites\\\":[{\\\"source_id\\\":22,\\\"target_id\\\":23,\\\"type\\\":\\\"CurriculumCorequisite\\\"},{\\\"source_id\\\":17,\\\"target_id\\\":23,\\\"type\\\":\\\"CurriculumPrerequisite\\\"}],\\\"name\\\":\\\"ECE 3043\\\",\\\"metrics\\\":{\\\"complexity\\\":7.0,\\\"centrality\\\":0,\\\"blocking factor\\\":0,\\\"delay factor\\\":7.0},\\\"nameSub\\\":\\\"Measurements, Circuits and Microelectronics Lab\\\",\\\"id\\\":23,\\\"credits\\\":2,\\\"nameCanonical\\\":\\\"\\\"},{\\\"curriculum_requisites\\\":[{\\\"source_id\\\":35,\\\"target_id\\\":41,\\\"type\\\":\\\"CurriculumPrerequisite\\\"}],\\\"name\\\":\\\" \\\",\\\"metrics\\\":{\\\"complexity\\\":8.0,\\\"centrality\\\":0,\\\"blocking factor\\\":0,\\\"delay factor\\\":8.0},\\\"nameSub\\\":\\\"Senior Design Sequence\\\",\\\"id\\\":41,\\\"credits\\\":2,\\\"nameCanonical\\\":\\\"\\\"},{\\\"curriculum_requisites\\\":[{\\\"source_id\\\":22,\\\"target_id\\\":36,\\\"type\\\":\\\"CurriculumPrerequisite\\\"}],\\\"name\\\":\\\" \\\",\\\"metrics\\\":{\\\"complexity\\\":7.0,\\\"centrality\\\":0,\\\"blocking factor\\\":0,\\\"delay factor\\\":7.0},\\\"nameSub\\\":\\\"Electronic Devices Topics\\\",\\\"id\\\":36,\\\"credits\\\":3,\\\"nameCanonical\\\":\\\"\\\"},{\\\"curriculum_requisites\\\":[{\\\"source_id\\\":20,\\\"target_id\\\":25,\\\"type\\\":\\\"CurriculumPrerequisite\\\"}],\\\"name\\\":\\\" \\\",\\\"metrics\\\":{\\\"complexity\\\":4.0,\\\"centrality\\\":0,\\\"blocking factor\\\":0,\\\"delay factor\\\":4.0},\\\"nameSub\\\":\\\"Prob & Stat Elective\\\",\\\"id\\\":25,\\\"credits\\\":3,\\\"nameCanonical\\\":\\\"\\\"}],\\\"id\\\":8}],\\\"institution\\\":\\\"Georgia Institute of Technology\\\"}},\\\"*\\\"); window.removeEventListener(\\\"message\\\",window.messageReceived); window.messageReceived=(function (event){return (event.data.curriculum!==undefined) ? (WebIO.setval({\\\"name\\\":\\\"curriculum-data\\\",\\\"scope\\\":\\\"12677882534064347218\\\",\\\"id\\\":\\\"16296954021657332833\\\",\\\"type\\\":\\\"observable\\\"},event.data.curriculum)) : undefined}); return window.addEventListener(\\\"message\\\",window.messageReceived)})\"},\"style\":{\"padding\":\"0\",\"height\":\"100vh\",\"margin\":\"0\",\"border\":\"none\",\"width\":\"100%\"}},\"nodeType\":\"DOM\",\"type\":\"node\",\"instanceArgs\":{\"namespace\":\"html\",\"tag\":\"iframe\"},\"children\":[\"\"]}]},\n",
       "            window,\n",
       "        );\n",
       "    } else {\n",
       "        document\n",
       "            .querySelector('[data-webio-mountpoint=\"11711522492350217438\"]')\n",
       "            .innerHTML = (\n",
       "                '<div style=\"padding: 1em; background-color: #f8d6da; border: 1px solid #f5c6cb\">' +\n",
       "                '<p><strong>WebIO not detected.</strong></p>' +\n",
       "                '<p>Please read ' +\n",
       "                '<a href=\"https://juliagizmos.github.io/WebIO.jl/latest/troubleshooting/not-detected/\" target=\"_blank\">the troubleshooting guide</a> ' +\n",
       "                'for more information on how to resolve this issue.</p>' +\n",
       "                '<p><a href=\"https://juliagizmos.github.io/WebIO.jl/latest/troubleshooting/not-detected/\" target=\"_blank\">https://juliagizmos.github.io/WebIO.jl/latest/troubleshooting/not-detected/</a></p>' +\n",
       "                '</div>'\n",
       "            );\n",
       "    }\n",
       "    </script>\n",
       "</div>\n"
      ],
      "text/plain": [
       "WebIO.Scope(WebIO.Node{WebIO.DOM}(WebIO.DOM(:html, :iframe), Any[\"\"], Dict{Symbol, Any}(:src => \"https://curricula-api-embed.damoursystems.com/\", :id => \"curriculum\", :events => Dict{Symbol, WebIO.JSString}(:load => WebIO.JSString(\"(function (){this.contentWindow.postMessage({\\\"options\\\":{\\\"hideTerms\\\":false,\\\"edit\\\":false},\\\"curriculum\\\":{\\\"name\\\":\\\"Electrical Engineering - Electronic Devices and Circuit Technology\\\",\\\"dp_name\\\":\\\"\\\",\\\"curriculum_terms\\\":[{\\\"name\\\":\\\"Term 1\\\",\\\"curriculum_items\\\":[{\\\"curriculum_requisites\\\":[],\\\"name\\\":\\\"MATH 1551\\\",\\\"metrics\\\":{\\\"complexity\\\":27.0,\\\"centrality\\\":0,\\\"blocking factor\\\":19,\\\"delay factor\\\":8.0},\\\"nameSub\\\":\\\"Differential Calculus\\\",\\\"id\\\":5,\\\"credits\\\":2,\\\"nameCanonical\\\":\\\"\\\"},{\\\"curriculum_requisites\\\":[{\\\"source_id\\\":5,\\\"target_id\\\":6,\\\"type\\\":\\\"CurriculumCorequisite\\\"}],\\\"name\\\":\\\"MATH 1554\\\",\\\"metrics\\\":{\\\"complexity\\\":19.0,\\\"centrality\\\":55,\\\"blocking factor\\\":12,\\\"delay factor\\\":7.0},\\\"nameSub\\\":\\\"Linear Algebra\\\",\\\"id\\\":6,\\\"credits\\\":4,\\\"nameCanonical\\\":\\\"\\\"},{\\\"curriculum_requisites\\\":[],\\\"name\\\":\\\"CHEM 1310\\\",\\\"metrics\\\":{\\\"complexity\\\":6.0,\\\"centrality\\\":0,\\\"blocking factor\\\":3,\\\"delay factor\\\":3.0},\\\"nameSub\\\":\\\"General Chemistry\\\",\\\"id\\\":1,\\\"credits\\\":4,\\\"nameCanonical\\\":\\\"\\\"},{\\\"curriculum_requisites\\\":[],\\\"name\\\":\\\"CS 1301\\\",\\\"metrics\\\":{\\\"complexity\\\":16.0,\\\"centrality\\\":0,\\\"blocking factor\\\":10,\\\"delay factor\\\":6.0},\\\"nameSub\\\":\\\"Intro to Computing\\\",\\\"id\\\":2,\\\"credits\\\":3,\\\"nameCanonical\\\":\\\"\\\"},{\\\"curriculum_requisites\\\":[],\\\"name\\\":\\\" \\\",\\\"metrics\\\":{\\\"complexity\\\":1.0,\\\"centrality\\\":0,\\\"blocking factor\\\":0,\\\"delay factor\\\":1.0},\\\"nameSub\\\":\\\"Humanities Elective\\\",\\\"id\\\":27,\\\"credits\\\":3,\\\"nameCanonical\\\":\\\"\\\"}],\\\"id\\\":1},{\\\"name\\\":\\\"Term 2\\\",\\\"curriculum_items\\\":[{\\\"curriculum_requisites\\\":[{\\\"source_id\\\":5,\\\"target_id\\\":9,\\\"type\\\":\\\"CurriculumPrerequisite\\\"}],\\\"name\\\":\\\"MATH 1552\\\",\\\"metrics\\\":{\\\"complexity\\\":25.0,\\\"centrality\\\":111,\\\"blocking factor\\\":17,\\\"delay factor\\\":8.0},\\\"nameSub\\\":\\\"Integral Calculus\\\",\\\"id\\\":9,\\\"credits\\\":4,\\\"nameCanonical\\\":\\\"\\\"},{\\\"curriculum_requisites\\\":[],\\\"name\\\":\\\"ECE 3400\\\",\\\"metrics\\\":{\\\"complexity\\\":1.0,\\\"centrality\\\":0,\\\"blocking factor\\\":0,\\\"delay factor\\\":1.0},\\\"nameSub\\\":\\\"\\\",\\\"id\\\":31,\\\"credits\\\":3,\\\"nameCanonical\\\":\\\"\\\"},{\\\"curriculum_requisites\\\":[],\\\"name\\\":\\\"ENGL 1101\\\",\\\"metrics\\\":{\\\"complexity\\\":3.0,\\\"centrality\\\":0,\\\"blocking factor\\\":1,\\\"delay factor\\\":2.0},\\\"nameSub\\\":\\\"English Composition I\\\",\\\"id\\\":4,\\\"credits\\\":3,\\\"nameCanonical\\\":\\\"\\\"},{\\\"curriculum_requisites\\\":[],\\\"name\\\":\\\"ECE 4452\\\",\\\"metrics\\\":{\\\"complexity\\\":1.0,\\\"centrality\\\":0,\\\"blocking factor\\\":0,\\\"delay factor\\\":1.0},\\\"nameSub\\\":\\\"\\\",\\\"id\\\":38,\\\"credits\\\":3,\\\"nameCanonical\\\":\\\"\\\"},{\\\"curriculum_requisites\\\":[{\\\"source_id\\\":9,\\\"target_id\\\":10,\\\"type\\\":\\\"CurriculumCorequisite\\\"}],\\\"name\\\":\\\"PHYS  2211\\\",\\\"metrics\\\":{\\\"complexity\\\":20.0,\\\"centrality\\\":46,\\\"blocking factor\\\":12,\\\"delay factor\\\":8.0},\\\"nameSub\\\":\\\"Intro Physics 1\\\",\\\"id\\\":10,\\\"credits\\\":4,\\\"nameCanonical\\\":\\\"\\\"}],\\\"id\\\":2},{\\\"name\\\":\\\"Term 3\\\",\\\"curriculum_items\\\":[{\\\"curriculum_requisites\\\":[{\\\"source_id\\\":10,\\\"target_id\\\":16,\\\"type\\\":\\\"CurriculumPrerequisite\\\"}],\\\"name\\\":\\\"PHYS  2212\\\",\\\"metrics\\\":{\\\"complexity\\\":19.0,\\\"centrality\\\":46,\\\"blocking factor\\\":11,\\\"delay factor\\\":8.0},\\\"nameSub\\\":\\\"Intro. Physics 2\\\",\\\"id\\\":16,\\\"credits\\\":4,\\\"nameCanonical\\\":\\\"\\\"},{\\\"curriculum_requisites\\\":[{\\\"source_id\\\":2,\\\"target_id\\\":7,\\\"type\\\":\\\"CurriculumPrerequisite\\\"}],\\\"name\\\":\\\"ECE 2020\\\",\\\"metrics\\\":{\\\"complexity\\\":11.0,\\\"centrality\\\":41,\\\"blocking factor\\\":5,\\\"delay factor\\\":6.0},\\\"nameSub\\\":\\\"Fund. of Digital System Design\\\",\\\"id\\\":7,\\\"credits\\\":3,\\\"nameCanonical\\\":\\\"\\\"},{\\\"curriculum_requisites\\\":[],\\\"name\\\":\\\" \\\",\\\"metrics\\\":{\\\"complexity\\\":1.0,\\\"centrality\\\":0,\\\"blocking factor\\\":0,\\\"delay factor\\\":1.0},\\\"nameSub\\\":\\\"Social Science Elective\\\",\\\"id\\\":40,\\\"credits\\\":3,\\\"nameCanonical\\\":\\\"\\\"},{\\\"curriculum_requisites\\\":[{\\\"source_id\\\":6,\\\"target_id\\\":15,\\\"type\\\":\\\"CurriculumPrerequisite\\\"},{\\\"source_id\\\":9,\\\"target_id\\\":15,\\\"type\\\":\\\"CurriculumPrerequisite\\\"}],\\\"name\\\":\\\"MATH 2552\\\",\\\"metrics\\\":{\\\"complexity\\\":18.0,\\\"centrality\\\":110,\\\"blocking factor\\\":11,\\\"delay factor\\\":7.0},\\\"nameSub\\\":\\\"Differential Equations\\\",\\\"id\\\":15,\\\"credits\\\":4,\\\"nameCanonical\\\":\\\"\\\"},{\\\"curriculum_requisites\\\":[],\\\"name\\\":\\\"APPH 1040\\\",\\\"metrics\\\":{\\\"complexity\\\":1.0,\\\"centrality\\\":0,\\\"blocking factor\\\":0,\\\"delay factor\\\":1.0},\\\"nameSub\\\":\\\"\\\",\\\"id\\\":26,\\\"credits\\\":2,\\\"nameCanonical\\\":\\\"\\\"}],\\\"id\\\":3},{\\\"name\\\":\\\"Term 4\\\",\\\"curriculum_items\\\":[{\\\"curriculum_requisites\\\":[{\\\"source_id\\\":16,\\\"target_id\\\":19,\\\"type\\\":\\\"CurriculumPrerequisite\\\"},{\\\"source_id\\\":15,\\\"target_id\\\":19,\\\"type\\\":\\\"CurriculumPrerequisite\\\"}],\\\"name\\\":\\\"ECE 2040\\\",\\\"metrics\\\":{\\\"complexity\\\":18.0,\\\"centrality\\\":124,\\\"blocking factor\\\":10,\\\"delay factor\\\":8.0},\\\"nameSub\\\":\\\"Circuit Analysis\\\",\\\"id\\\":19,\\\"credits\\\":3,\\\"nameCanonical\\\":\\\"\\\"},{\\\"curriculum_requisites\\\":[{\\\"source_id\\\":2,\\\"target_id\\\":12,\\\"type\\\":\\\"CurriculumPrerequisite\\\"},{\\\"source_id\\\":9,\\\"target_id\\\":12,\\\"type\\\":\\\"CurriculumPrerequisite\\\"}],\\\"name\\\":\\\"ECE 2026\\\",\\\"metrics\\\":{\\\"complexity\\\":9.0,\\\"centrality\\\":11,\\\"blocking factor\\\":3,\\\"delay factor\\\":6.0},\\\"nameSub\\\":\\\"Intro. to Signal Processing\\\",\\\"id\\\":12,\\\"credits\\\":3,\\\"nameCanonical\\\":\\\"\\\"},{\\\"curriculum_requisites\\\":[],\\\"name\\\":\\\" \\\",\\\"metrics\\\":{\\\"complexity\\\":1.0,\\\"centrality\\\":0,\\\"blocking factor\\\":0,\\\"delay factor\\\":1.0},\\\"nameSub\\\":\\\"History/Government Elective\\\",\\\"id\\\":11,\\\"credits\\\":3,\\\"nameCanonical\\\":\\\"\\\"},{\\\"curriculum_requisites\\\":[],\\\"name\\\":\\\" \\\",\\\"metrics\\\":{\\\"complexity\\\":1.0,\\\"centrality\\\":0,\\\"blocking factor\\\":0,\\\"delay factor\\\":1.0},\\\"nameSub\\\":\\\"Humanities Elective\\\",\\\"id\\\":14,\\\"credits\\\":3,\\\"nameCanonical\\\":\\\"\\\"},{\\\"curriculum_requisites\\\":[{\\\"source_id\\\":7,\\\"target_id\\\":18,\\\"type\\\":\\\"CurriculumPrerequisite\\\"}],\\\"name\\\":\\\"ECE 2035\\\",\\\"metrics\\\":{\\\"complexity\\\":10.0,\\\"centrality\\\":27,\\\"blocking factor\\\":4,\\\"delay factor\\\":6.0},\\\"nameSub\\\":\\\"Programming Elective\\\",\\\"id\\\":18,\\\"credits\\\":4,\\\"nameCanonical\\\":\\\"\\\"}],\\\"id\\\":4},{\\\"name\\\":\\\"Term 5\\\",\\\"curriculum_items\\\":[{\\\"curriculum_requisites\\\":[{\\\"source_id\\\":19,\\\"target_id\\\":45,\\\"type\\\":\\\"CurriculumPrerequisite\\\"}],\\\"name\\\":\\\" \\\",\\\"metrics\\\":{\\\"complexity\\\":6.0,\\\"centrality\\\":0,\\\"blocking factor\\\":0,\\\"delay factor\\\":6.0},\\\"nameSub\\\":\\\"Circuit Technologies Topics\\\",\\\"id\\\":45,\\\"credits\\\":3,\\\"nameCanonical\\\":\\\"\\\"},{\\\"curriculum_requisites\\\":[],\\\"name\\\":\\\" \\\",\\\"metrics\\\":{\\\"complexity\\\":1.0,\\\"centrality\\\":0,\\\"blocking factor\\\":0,\\\"delay factor\\\":1.0},\\\"nameSub\\\":\\\"Econ/Social Science Elective\\\",\\\"id\\\":13,\\\"credits\\\":3,\\\"nameCanonical\\\":\\\"\\\"},{\\\"curriculum_requisites\\\":[{\\\"source_id\\\":15,\\\"target_id\\\":24,\\\"type\\\":\\\"CurriculumPrerequisite\\\"},{\\\"source_id\\\":12,\\\"target_id\\\":24,\\\"type\\\":\\\"CurriculumPrerequisite\\\"},{\\\"source_id\\\":19,\\\"target_id\\\":24,\\\"type\\\":\\\"CurriculumPrerequisite\\\"}],\\\"name\\\":\\\"ECE 3025\\\",\\\"metrics\\\":{\\\"complexity\\\":10.0,\\\"centrality\\\":45,\\\"blocking factor\\\":2,\\\"delay factor\\\":8.0},\\\"nameSub\\\":\\\"Electromagnetics\\\",\\\"id\\\":24,\\\"credits\\\":3,\\\"nameCanonical\\\":\\\"\\\"},{\\\"curriculum_requisites\\\":[],\\\"name\\\":\\\"ECE 3005\\\",\\\"metrics\\\":{\\\"complexity\\\":1.0,\\\"centrality\\\":0,\\\"blocking factor\\\":0,\\\"delay factor\\\":1.0},\\\"nameSub\\\":\\\"\\\",\\\"id\\\":28,\\\"credits\\\":1,\\\"nameCanonical\\\":\\\"\\\"},{\\\"curriculum_requisites\\\":[{\\\"source_id\\\":4,\\\"target_id\\\":8,\\\"type\\\":\\\"CurriculumPrerequisite\\\"}],\\\"name\\\":\\\"ENGL 1102\\\",\\\"metrics\\\":{\\\"complexity\\\":2.0,\\\"centrality\\\":0,\\\"blocking factor\\\":0,\\\"delay factor\\\":2.0},\\\"nameSub\\\":\\\"English Composition II\\\",\\\"id\\\":8,\\\"credits\\\":3,\\\"nameCanonical\\\":\\\"\\\"},{\\\"curriculum_requisites\\\":[],\\\"name\\\":\\\" \\\",\\\"metrics\\\":{\\\"complexity\\\":1.0,\\\"centrality\\\":0,\\\"blocking factor\\\":0,\\\"delay factor\\\":1.0},\\\"nameSub\\\":\\\"Elective Hours\\\",\\\"id\\\":33,\\\"credits\\\":3,\\\"nameCanonical\\\":\\\"\\\"}],\\\"id\\\":5},{\\\"name\\\":\\\"Term 6\\\",\\\"curriculum_items\\\":[{\\\"curriculum_requisites\\\":[{\\\"source_id\\\":9,\\\"target_id\\\":20,\\\"type\\\":\\\"CurriculumPrerequisite\\\"}],\\\"name\\\":\\\"MATH 2551\\\",\\\"metrics\\\":{\\\"complexity\\\":5.0,\\\"centrality\\\":4,\\\"blocking factor\\\":1,\\\"delay factor\\\":4.0},\\\"nameSub\\\":\\\"Multivariate Calculus\\\",\\\"id\\\":20,\\\"credits\\\":4,\\\"nameCanonical\\\":\\\"\\\"},{\\\"curriculum_requisites\\\":[{\\\"source_id\\\":24,\\\"target_id\\\":35,\\\"type\\\":\\\"CurriculumPrerequisite\\\"}],\\\"name\\\":\\\" \\\",\\\"metrics\\\":{\\\"complexity\\\":9.0,\\\"centrality\\\":45,\\\"blocking factor\\\":1,\\\"delay factor\\\":8.0},\\\"nameSub\\\":\\\"Senior Design Sequence\\\",\\\"id\\\":35,\\\"credits\\\":1,\\\"nameCanonical\\\":\\\"\\\"},{\\\"curriculum_requisites\\\":[],\\\"name\\\":\\\" \\\",\\\"metrics\\\":{\\\"complexity\\\":1.0,\\\"centrality\\\":0,\\\"blocking factor\\\":0,\\\"delay factor\\\":1.0},\\\"nameSub\\\":\\\"Elective Hours\\\",\\\"id\\\":44,\\\"credits\\\":3,\\\"nameCanonical\\\":\\\"\\\"},{\\\"curriculum_requisites\\\":[{\\\"source_id\\\":7,\\\"target_id\\\":17,\\\"type\\\":\\\"CurriculumPrerequisite\\\"},{\\\"source_id\\\":18,\\\"target_id\\\":17,\\\"type\\\":\\\"CurriculumCorequisite\\\"}],\\\"name\\\":\\\"ECE 2031\\\",\\\"metrics\\\":{\\\"complexity\\\":9.0,\\\"centrality\\\":31,\\\"blocking factor\\\":3,\\\"delay factor\\\":6.0},\\\"nameSub\\\":\\\"Digital Design Lab\\\",\\\"id\\\":17,\\\"credits\\\":2,\\\"nameCanonical\\\":\\\"\\\"},{\\\"curriculum_requisites\\\":[{\\\"source_id\\\":19,\\\"target_id\\\":43,\\\"type\\\":\\\"CurriculumPrerequisite\\\"}],\\\"name\\\":\\\" \\\",\\\"metrics\\\":{\\\"complexity\\\":6.0,\\\"centrality\\\":0,\\\"blocking factor\\\":0,\\\"delay factor\\\":6.0},\\\"nameSub\\\":\\\"ECE 3000/4000 Elective\\\",\\\"id\\\":43,\\\"credits\\\":3,\\\"nameCanonical\\\":\\\"\\\"},{\\\"curriculum_requisites\\\":[],\\\"name\\\":\\\"ECE 1100\\\",\\\"metrics\\\":{\\\"complexity\\\":1.0,\\\"centrality\\\":0,\\\"blocking factor\\\":0,\\\"delay factor\\\":1.0},\\\"nameSub\\\":\\\"ECE Discovery Studio\\\",\\\"id\\\":3,\\\"credits\\\":1,\\\"nameCanonical\\\":\\\"\\\"},{\\\"curriculum_requisites\\\":[],\\\"name\\\":\\\" \\\",\\\"metrics\\\":{\\\"complexity\\\":1.0,\\\"centrality\\\":0,\\\"blocking factor\\\":0,\\\"delay factor\\\":1.0},\\\"nameSub\\\":\\\"Elective Hours\\\",\\\"id\\\":39,\\\"credits\\\":2,\\\"nameCanonical\\\":\\\"\\\"}],\\\"id\\\":6},{\\\"name\\\":\\\"Term 7\\\",\\\"curriculum_items\\\":[{\\\"curriculum_requisites\\\":[],\\\"name\\\":\\\" \\\",\\\"metrics\\\":{\\\"complexity\\\":1.0,\\\"centrality\\\":0,\\\"blocking factor\\\":0,\\\"delay factor\\\":1.0},\\\"nameSub\\\":\\\"Elective Hours\\\",\\\"id\\\":29,\\\"credits\\\":3,\\\"nameCanonical\\\":\\\"\\\"},{\\\"curriculum_requisites\\\":[],\\\"name\\\":\\\" \\\",\\\"metrics\\\":{\\\"complexity\\\":1.0,\\\"centrality\\\":0,\\\"blocking factor\\\":0,\\\"delay factor\\\":1.0},\\\"nameSub\\\":\\\"Science Elective\\\",\\\"id\\\":21,\\\"credits\\\":3,\\\"nameCanonical\\\":\\\"\\\"},{\\\"curriculum_requisites\\\":[{\\\"source_id\\\":19,\\\"target_id\\\":37,\\\"type\\\":\\\"CurriculumPrerequisite\\\"}],\\\"name\\\":\\\" \\\",\\\"metrics\\\":{\\\"complexity\\\":6.0,\\\"centrality\\\":0,\\\"blocking factor\\\":0,\\\"delay factor\\\":6.0},\\\"nameSub\\\":\\\"ECE 3000/4000 Elective\\\",\\\"id\\\":37,\\\"credits\\\":3,\\\"nameCanonical\\\":\\\"\\\"},{\\\"curriculum_requisites\\\":[{\\\"source_id\\\":15,\\\"target_id\\\":22,\\\"type\\\":\\\"CurriculumPrerequisite\\\"},{\\\"source_id\\\":18,\\\"target_id\\\":22,\\\"type\\\":\\\"CurriculumPrerequisite\\\"},{\\\"source_id\\\":17,\\\"target_id\\\":22,\\\"type\\\":\\\"CurriculumPrerequisite\\\"},{\\\"source_id\\\":1,\\\"target_id\\\":22,\\\"type\\\":\\\"CurriculumPrerequisite\\\"},{\\\"source_id\\\":19,\\\"target_id\\\":22,\\\"type\\\":\\\"CurriculumPrerequisite\\\"}],\\\"name\\\":\\\"ECE 3040\\\",\\\"metrics\\\":{\\\"complexity\\\":9.0,\\\"centrality\\\":96,\\\"blocking factor\\\":2,\\\"delay factor\\\":7.0},\\\"nameSub\\\":\\\"Microelectronic Circuits\\\",\\\"id\\\":22,\\\"credits\\\":4,\\\"nameCanonical\\\":\\\"\\\"},{\\\"curriculum_requisites\\\":[{\\\"source_id\\\":19,\\\"target_id\\\":42,\\\"type\\\":\\\"CurriculumPrerequisite\\\"}],\\\"name\\\":\\\" \\\",\\\"metrics\\\":{\\\"complexity\\\":6.0,\\\"centrality\\\":0,\\\"blocking factor\\\":0,\\\"delay factor\\\":6.0},\\\"nameSub\\\":\\\"ECE 3000/4000 Elective\\\",\\\"id\\\":42,\\\"credits\\\":3,\\\"nameCanonical\\\":\\\"\\\"}],\\\"id\\\":7},{\\\"name\\\":\\\"Term 8\\\",\\\"curriculum_items\\\":[{\\\"curriculum_requisites\\\":[],\\\"name\\\":\\\"ECE 3450\\\",\\\"metrics\\\":{\\\"complexity\\\":1.0,\\\"centrality\\\":0,\\\"blocking factor\\\":0,\\\"delay factor\\\":1.0},\\\"nameSub\\\":\\\"\\\",\\\"id\\\":30,\\\"credits\\\":3,\\\"nameCanonical\\\":\\\"\\\"},{\\\"curriculum_requisites\\\":[],\\\"name\\\":\\\" \\\",\\\"metrics\\\":{\\\"complexity\\\":1.0,\\\"centrality\\\":0,\\\"blocking factor\\\":0,\\\"delay factor\\\":1.0},\\\"nameSub\\\":\\\"Social Science Elective\\\",\\\"id\\\":32,\\\"credits\\\":3,\\\"nameCanonical\\\":\\\"\\\"},{\\\"curriculum_requisites\\\":[{\\\"source_id\\\":22,\\\"target_id\\\":23,\\\"type\\\":\\\"CurriculumCorequisite\\\"},{\\\"source_id\\\":17,\\\"target_id\\\":23,\\\"type\\\":\\\"CurriculumPrerequisite\\\"}],\\\"name\\\":\\\"ECE 3043\\\",\\\"metrics\\\":{\\\"complexity\\\":7.0,\\\"centrality\\\":0,\\\"blocking factor\\\":0,\\\"delay factor\\\":7.0},\\\"nameSub\\\":\\\"Measurements, Circuits and Microelectronics Lab\\\",\\\"id\\\":23,\\\"credits\\\":2,\\\"nameCanonical\\\":\\\"\\\"},{\\\"curriculum_requisites\\\":[{\\\"source_id\\\":35,\\\"target_id\\\":41,\\\"type\\\":\\\"CurriculumPrerequisite\\\"}],\\\"name\\\":\\\" \\\",\\\"metrics\\\":{\\\"complexity\\\":8.0,\\\"centrality\\\":0,\\\"blocking factor\\\":0,\\\"delay factor\\\":8.0},\\\"nameSub\\\":\\\"Senior Design Sequence\\\",\\\"id\\\":41,\\\"credits\\\":2,\\\"nameCanonical\\\":\\\"\\\"},{\\\"curriculum_requisites\\\":[{\\\"source_id\\\":22,\\\"target_id\\\":36,\\\"type\\\":\\\"CurriculumPrerequisite\\\"}],\\\"name\\\":\\\" \\\",\\\"metrics\\\":{\\\"complexity\\\":7.0,\\\"centrality\\\":0,\\\"blocking factor\\\":0,\\\"delay factor\\\":7.0},\\\"nameSub\\\":\\\"Electronic Devices Topics\\\",\\\"id\\\":36,\\\"credits\\\":3,\\\"nameCanonical\\\":\\\"\\\"},{\\\"curriculum_requisites\\\":[{\\\"source_id\\\":20,\\\"target_id\\\":25,\\\"type\\\":\\\"CurriculumPrerequisite\\\"}],\\\"name\\\":\\\" \\\",\\\"metrics\\\":{\\\"complexity\\\":4.0,\\\"centrality\\\":0,\\\"blocking factor\\\":0,\\\"delay factor\\\":4.0},\\\"nameSub\\\":\\\"Prob & Stat Elective\\\",\\\"id\\\":25,\\\"credits\\\":3,\\\"nameCanonical\\\":\\\"\\\"}],\\\"id\\\":8}],\\\"institution\\\":\\\"Georgia Institute of Technology\\\"}},\\\"*\\\"); window.removeEventListener(\\\"message\\\",window.messageReceived); window.messageReceived=(function (event){return (event.data.curriculum!==undefined) ? (WebIO.setval({\\\"name\\\":\\\"curriculum-data\\\",\\\"scope\\\":\\\"12677882534064347218\\\",\\\"id\\\":\\\"16296954021657332833\\\",\\\"type\\\":\\\"observable\\\"},event.data.curriculum)) : undefined}); return window.addEventListener(\\\"message\\\",window.messageReceived)})\")), :style => Dict(:padding => \"0\", :height => \"100vh\", :margin => \"0\", :border => \"none\", :width => \"100%\"))), Dict{String, Tuple{Observables.AbstractObservable, Union{Nothing, Bool}}}(\"curriculum-data\" => (Observable{Dict{String, Any}} with 1 listeners. Value:\n",
       "Dict{String, Any}(\"options\" => Dict{String, Any}(\"hideTerms\" => false, \"edit\" => false), \"curriculum\" => Dict{String, Any}(\"name\" => \"Electrical Engineering - Electronic Devices and Circuit Technology\", \"dp_name\" => \"\", \"curriculum_terms\" => Dict{String, Any}[Dict(\"name\" => \"Term 1\", \"curriculum_items\" => Dict{String, Any}[Dict(\"curriculum_requisites\" => Dict{String, Any}[], \"name\" => \"MATH 1551\", \"metrics\" => Dict{String, Any}(\"complexity\" => 27.0, \"centrality\" => 0, \"blocking factor\" => 19, \"delay factor\" => 8.0), \"nameSub\" => \"Differential Calculus\", \"id\" => 5, \"credits\" => 2, \"nameCanonical\" => \"\"), Dict(\"curriculum_requisites\" => Dict{String, Any}[Dict(\"source_id\" => 5, \"target_id\" => 6, \"type\" => \"CurriculumCorequisite\")], \"name\" => \"MATH 1554\", \"metrics\" => Dict{String, Any}(\"complexity\" => 19.0, \"centrality\" => 55, \"blocking factor\" => 12, \"delay factor\" => 7.0), \"nameSub\" => \"Linear Algebra\", \"id\" => 6, \"credits\" => 4, \"nameCanonical\" => \"\"), Dict(\"curriculum_requisites\" => Dict{String, Any}[], \"name\" => \"CHEM 1310\", \"metrics\" => Dict{String, Any}(\"complexity\" => 6.0, \"centrality\" => 0, \"blocking factor\" => 3, \"delay factor\" => 3.0), \"nameSub\" => \"General Chemistry\", \"id\" => 1, \"credits\" => 4, \"nameCanonical\" => \"\"), Dict(\"curriculum_requisites\" => Dict{String, Any}[], \"name\" => \"CS 1301\", \"metrics\" => Dict{String, Any}(\"complexity\" => 16.0, \"centrality\" => 0, \"blocking factor\" => 10, \"delay factor\" => 6.0), \"nameSub\" => \"Intro to Computing\", \"id\" => 2, \"credits\" => 3, \"nameCanonical\" => \"\"), Dict(\"curriculum_requisites\" => Dict{String, Any}[], \"name\" => \" \", \"metrics\" => Dict{String, Any}(\"complexity\" => 1.0, \"centrality\" => 0, \"blocking factor\" => 0, \"delay factor\" => 1.0), \"nameSub\" => \"Humanities Elective\", \"id\" => 27, \"credits\" => 3, \"nameCanonical\" => \"\")], \"id\" => 1), Dict(\"name\" => \"Term 2\", \"curriculum_items\" => Dict{String, Any}[Dict(\"curriculum_requisites\" => Dict{String, Any}[Dict(\"source_id\" => 5, \"target_id\" => 9, \"type\" => \"CurriculumPrerequisite\")], \"name\" => \"MATH 1552\", \"metrics\" => Dict{String, Any}(\"complexity\" => 25.0, \"centrality\" => 111, \"blocking factor\" => 17, \"delay factor\" => 8.0), \"nameSub\" => \"Integral Calculus\", \"id\" => 9, \"credits\" => 4, \"nameCanonical\" => \"\"), Dict(\"curriculum_requisites\" => Dict{String, Any}[], \"name\" => \"ECE 3400\", \"metrics\" => Dict{String, Any}(\"complexity\" => 1.0, \"centrality\" => 0, \"blocking factor\" => 0, \"delay factor\" => 1.0), \"nameSub\" => \"\", \"id\" => 31, \"credits\" => 3, \"nameCanonical\" => \"\"), Dict(\"curriculum_requisites\" => Dict{String, Any}[], \"name\" => \"ENGL 1101\", \"metrics\" => Dict{String, Any}(\"complexity\" => 3.0, \"centrality\" => 0, \"blocking factor\" => 1, \"delay factor\" => 2.0), \"nameSub\" => \"English Composition I\", \"id\" => 4, \"credits\" => 3, \"nameCanonical\" => \"\"), Dict(\"curriculum_requisites\" => Dict{String, Any}[], \"name\" => \"ECE 4452\", \"metrics\" => Dict{String, Any}(\"complexity\" => 1.0, \"centrality\" => 0, \"blocking factor\" => 0, \"delay factor\" => 1.0), \"nameSub\" => \"\", \"id\" => 38, \"credits\" => 3, \"nameCanonical\" => \"\"), Dict(\"curriculum_requisites\" => Dict{String, Any}[Dict(\"source_id\" => 9, \"target_id\" => 10, \"type\" => \"CurriculumCorequisite\")], \"name\" => \"PHYS  2211\", \"metrics\" => Dict{String, Any}(\"complexity\" => 20.0, \"centrality\" => 46, \"blocking factor\" => 12, \"delay factor\" => 8.0), \"nameSub\" => \"Intro Physics 1\", \"id\" => 10, \"credits\" => 4, \"nameCanonical\" => \"\")], \"id\" => 2), Dict(\"name\" => \"Term 3\", \"curriculum_items\" => Dict{String, Any}[Dict(\"curriculum_requisites\" => Dict{String, Any}[Dict(\"source_id\" => 10, \"target_id\" => 16, \"type\" => \"CurriculumPrerequisite\")], \"name\" => \"PHYS  2212\", \"metrics\" => Dict{String, Any}(\"complexity\" => 19.0, \"centrality\" => 46, \"blocking factor\" => 11, \"delay factor\" => 8.0), \"nameSub\" => \"Intro. Physics 2\", \"id\" => 16, \"credits\" => 4, \"nameCanonical\" => \"\"), Dict(\"curriculum_requisites\" => Dict{String, Any}[Dict(\"source_id\" => 2, \"target_id\" => 7, \"type\" => \"CurriculumPrerequisite\")], \"name\" => \"ECE 2020\", \"metrics\" => Dict{String, Any}(\"complexity\" => 11.0, \"centrality\" => 41, \"blocking factor\" => 5, \"delay factor\" => 6.0), \"nameSub\" => \"Fund. of Digital System Design\", \"id\" => 7, \"credits\" => 3, \"nameCanonical\" => \"\"), Dict(\"curriculum_requisites\" => Dict{String, Any}[], \"name\" => \" \", \"metrics\" => Dict{String, Any}(\"complexity\" => 1.0, \"centrality\" => 0, \"blocking factor\" => 0, \"delay factor\" => 1.0), \"nameSub\" => \"Social Science Elective\", \"id\" => 40, \"credits\" => 3, \"nameCanonical\" => \"\"), Dict(\"curriculum_requisites\" => Dict{String, Any}[Dict(\"source_id\" => 6, \"target_id\" => 15, \"type\" => \"CurriculumPrerequisite\"), Dict(\"source_id\" => 9, \"target_id\" => 15, \"type\" => \"CurriculumPrerequisite\")], \"name\" => \"MATH 2552\", \"metrics\" => Dict{String, Any}(\"complexity\" => 18.0, \"centrality\" => 110, \"blocking factor\" => 11, \"delay factor\" => 7.0), \"nameSub\" => \"Differential Equations\", \"id\" => 15, \"credits\" => 4, \"nameCanonical\" => \"\"), Dict(\"curriculum_requisites\" => Dict{String, Any}[], \"name\" => \"APPH 1040\", \"metrics\" => Dict{String, Any}(\"complexity\" => 1.0, \"centrality\" => 0, \"blocking factor\" => 0, \"delay factor\" => 1.0), \"nameSub\" => \"\", \"id\" => 26, \"credits\" => 2, \"nameCanonical\" => \"\")], \"id\" => 3), Dict(\"name\" => \"Term 4\", \"curriculum_items\" => Dict{String, Any}[Dict(\"curriculum_requisites\" => Dict{String, Any}[Dict(\"source_id\" => 16, \"target_id\" => 19, \"type\" => \"CurriculumPrerequisite\"), Dict(\"source_id\" => 15, \"target_id\" => 19, \"type\" => \"CurriculumPrerequisite\")], \"name\" => \"ECE 2040\", \"metrics\" => Dict{String, Any}(\"complexity\" => 18.0, \"centrality\" => 124, \"blocking factor\" => 10, \"delay factor\" => 8.0), \"nameSub\" => \"Circuit Analysis\", \"id\" => 19, \"credits\" => 3, \"nameCanonical\" => \"\"), Dict(\"curriculum_requisites\" => Dict{String, Any}[Dict(\"source_id\" => 2, \"target_id\" => 12, \"type\" => \"CurriculumPrerequisite\"), Dict(\"source_id\" => 9, \"target_id\" => 12, \"type\" => \"CurriculumPrerequisite\")], \"name\" => \"ECE 2026\", \"metrics\" => Dict{String, Any}(\"complexity\" => 9.0, \"centrality\" => 11, \"blocking factor\" => 3, \"delay factor\" => 6.0), \"nameSub\" => \"Intro. to Signal Processing\", \"id\" => 12, \"credits\" => 3, \"nameCanonical\" => \"\"), Dict(\"curriculum_requisites\" => Dict{String, Any}[], \"name\" => \" \", \"metrics\" => Dict{String, Any}(\"complexity\" => 1.0, \"centrality\" => 0, \"blocking factor\" => 0, \"delay factor\" => 1.0), \"nameSub\" => \"History/Government Elective\", \"id\" => 11, \"credits\" => 3, \"nameCanonical\" => \"\"), Dict(\"curriculum_requisites\" => Dict{String, Any}[], \"name\" => \" \", \"metrics\" => Dict{String, Any}(\"complexity\" => 1.0, \"centrality\" => 0, \"blocking factor\" => 0, \"delay factor\" => 1.0), \"nameSub\" => \"Humanities Elective\", \"id\" => 14, \"credits\" => 3, \"nameCanonical\" => \"\"), Dict(\"curriculum_requisites\" => Dict{String, Any}[Dict(\"source_id\" => 7, \"target_id\" => 18, \"type\" => \"CurriculumPrerequisite\")], \"name\" => \"ECE 2035\", \"metrics\" => Dict{String, Any}(\"complexity\" => 10.0, \"centrality\" => 27, \"blocking factor\" => 4, \"delay factor\" => 6.0), \"nameSub\" => \"Programming Elective\", \"id\" => 18, \"credits\" => 4, \"nameCanonical\" => \"\")], \"id\" => 4), Dict(\"name\" => \"Term 5\", \"curriculum_items\" => Dict{String, Any}[Dict(\"curriculum_requisites\" => Dict{String, Any}[Dict(\"source_id\" => 19, \"target_id\" => 45, \"type\" => \"CurriculumPrerequisite\")], \"name\" => \" \", \"metrics\" => Dict{String, Any}(\"complexity\" => 6.0, \"centrality\" => 0, \"blocking factor\" => 0, \"delay factor\" => 6.0), \"nameSub\" => \"Circuit Technologies Topics\", \"id\" => 45, \"credits\" => 3, \"nameCanonical\" => \"\"), Dict(\"curriculum_requisites\" => Dict{String, Any}[], \"name\" => \" \", \"metrics\" => Dict{String, Any}(\"complexity\" => 1.0, \"centrality\" => 0, \"blocking factor\" => 0, \"delay factor\" => 1.0), \"nameSub\" => \"Econ/Social Science Elective\", \"id\" => 13, \"credits\" => 3, \"nameCanonical\" => \"\"), Dict(\"curriculum_requisites\" => Dict{String, Any}[Dict(\"source_id\" => 15, \"target_id\" => 24, \"type\" => \"CurriculumPrerequisite\"), Dict(\"source_id\" => 12, \"target_id\" => 24, \"type\" => \"CurriculumPrerequisite\"), Dict(\"source_id\" => 19, \"target_id\" => 24, \"type\" => \"CurriculumPrerequisite\")], \"name\" => \"ECE 3025\", \"metrics\" => Dict{String, Any}(\"complexity\" => 10.0, \"centrality\" => 45, \"blocking factor\" => 2, \"delay factor\" => 8.0), \"nameSub\" => \"Electromagnetics\", \"id\" => 24, \"credits\" => 3, \"nameCanonical\" => \"\"), Dict(\"curriculum_requisites\" => Dict{String, Any}[], \"name\" => \"ECE 3005\", \"metrics\" => Dict{String, Any}(\"complexity\" => 1.0, \"centrality\" => 0, \"blocking factor\" => 0, \"delay factor\" => 1.0), \"nameSub\" => \"\", \"id\" => 28, \"credits\" => 1, \"nameCanonical\" => \"\"), Dict(\"curriculum_requisites\" => Dict{String, Any}[Dict(\"source_id\" => 4, \"target_id\" => 8, \"type\" => \"CurriculumPrerequisite\")], \"name\" => \"ENGL 1102\", \"metrics\" => Dict{String, Any}(\"complexity\" => 2.0, \"centrality\" => 0, \"blocking factor\" => 0, \"delay factor\" => 2.0), \"nameSub\" => \"English Composition II\", \"id\" => 8, \"credits\" => 3, \"nameCanonical\" => \"\"), Dict(\"curriculum_requisites\" => Dict{String, Any}[], \"name\" => \" \", \"metrics\" => Dict{String, Any}(\"complexity\" => 1.0, \"centrality\" => 0, \"blocking factor\" => 0, \"delay factor\" => 1.0), \"nameSub\" => \"Elective Hours\", \"id\" => 33, \"credits\" => 3, \"nameCanonical\" => \"\")], \"id\" => 5), Dict(\"name\" => \"Term 6\", \"curriculum_items\" => Dict{String, Any}[Dict(\"curriculum_requisites\" => Dict{String, Any}[Dict(\"source_id\" => 9, \"target_id\" => 20, \"type\" => \"CurriculumPrerequisite\")], \"name\" => \"MATH 2551\", \"metrics\" => Dict{String, Any}(\"complexity\" => 5.0, \"centrality\" => 4, \"blocking factor\" => 1, \"delay factor\" => 4.0), \"nameSub\" => \"Multivariate Calculus\", \"id\" => 20, \"credits\" => 4, \"nameCanonical\" => \"\"), Dict(\"curriculum_requisites\" => Dict{String, Any}[Dict(\"source_id\" => 24, \"target_id\" => 35, \"type\" => \"CurriculumPrerequisite\")], \"name\" => \" \", \"metrics\" => Dict{String, Any}(\"complexity\" => 9.0, \"centrality\" => 45, \"blocking factor\" => 1, \"delay factor\" => 8.0), \"nameSub\" => \"Senior Design Sequence\", \"id\" => 35, \"credits\" => 1, \"nameCanonical\" => \"\"), Dict(\"curriculum_requisites\" => Dict{String, Any}[], \"name\" => \" \", \"metrics\" => Dict{String, Any}(\"complexity\" => 1.0, \"centrality\" => 0, \"blocking factor\" => 0, \"delay factor\" => 1.0), \"nameSub\" => \"Elective Hours\", \"id\" => 44, \"credits\" => 3, \"nameCanonical\" => \"\"), Dict(\"curriculum_requisites\" => Dict{String, Any}[Dict(\"source_id\" => 7, \"target_id\" => 17, \"type\" => \"CurriculumPrerequisite\"), Dict(\"source_id\" => 18, \"target_id\" => 17, \"type\" => \"CurriculumCorequisite\")], \"name\" => \"ECE 2031\", \"metrics\" => Dict{String, Any}(\"complexity\" => 9.0, \"centrality\" => 31, \"blocking factor\" => 3, \"delay factor\" => 6.0), \"nameSub\" => \"Digital Design Lab\", \"id\" => 17, \"credits\" => 2, \"nameCanonical\" => \"\"), Dict(\"curriculum_requisites\" => Dict{String, Any}[Dict(\"source_id\" => 19, \"target_id\" => 43, \"type\" => \"CurriculumPrerequisite\")], \"name\" => \" \", \"metrics\" => Dict{String, Any}(\"complexity\" => 6.0, \"centrality\" => 0, \"blocking factor\" => 0, \"delay factor\" => 6.0), \"nameSub\" => \"ECE 3000/4000 Elective\", \"id\" => 43, \"credits\" => 3, \"nameCanonical\" => \"\"), Dict(\"curriculum_requisites\" => Dict{String, Any}[], \"name\" => \"ECE 1100\", \"metrics\" => Dict{String, Any}(\"complexity\" => 1.0, \"centrality\" => 0, \"blocking factor\" => 0, \"delay factor\" => 1.0), \"nameSub\" => \"ECE Discovery Studio\", \"id\" => 3, \"credits\" => 1, \"nameCanonical\" => \"\"), Dict(\"curriculum_requisites\" => Dict{String, Any}[], \"name\" => \" \", \"metrics\" => Dict{String, Any}(\"complexity\" => 1.0, \"centrality\" => 0, \"blocking factor\" => 0, \"delay factor\" => 1.0), \"nameSub\" => \"Elective Hours\", \"id\" => 39, \"credits\" => 2, \"nameCanonical\" => \"\")], \"id\" => 6), Dict(\"name\" => \"Term 7\", \"curriculum_items\" => Dict{String, Any}[Dict(\"curriculum_requisites\" => Dict{String, Any}[], \"name\" => \" \", \"metrics\" => Dict{String, Any}(\"complexity\" => 1.0, \"centrality\" => 0, \"blocking factor\" => 0, \"delay factor\" => 1.0), \"nameSub\" => \"Elective Hours\", \"id\" => 29, \"credits\" => 3, \"nameCanonical\" => \"\"), Dict(\"curriculum_requisites\" => Dict{String, Any}[], \"name\" => \" \", \"metrics\" => Dict{String, Any}(\"complexity\" => 1.0, \"centrality\" => 0, \"blocking factor\" => 0, \"delay factor\" => 1.0), \"nameSub\" => \"Science Elective\", \"id\" => 21, \"credits\" => 3, \"nameCanonical\" => \"\"), Dict(\"curriculum_requisites\" => Dict{String, Any}[Dict(\"source_id\" => 19, \"target_id\" => 37, \"type\" => \"CurriculumPrerequisite\")], \"name\" => \" \", \"metrics\" => Dict{String, Any}(\"complexity\" => 6.0, \"centrality\" => 0, \"blocking factor\" => 0, \"delay factor\" => 6.0), \"nameSub\" => \"ECE 3000/4000 Elective\", \"id\" => 37, \"credits\" => 3, \"nameCanonical\" => \"\"), Dict(\"curriculum_requisites\" => Dict{String, Any}[Dict(\"source_id\" => 15, \"target_id\" => 22, \"type\" => \"CurriculumPrerequisite\"), Dict(\"source_id\" => 18, \"target_id\" => 22, \"type\" => \"CurriculumPrerequisite\"), Dict(\"source_id\" => 17, \"target_id\" => 22, \"type\" => \"CurriculumPrerequisite\"), Dict(\"source_id\" => 1, \"target_id\" => 22, \"type\" => \"CurriculumPrerequisite\"), Dict(\"source_id\" => 19, \"target_id\" => 22, \"type\" => \"CurriculumPrerequisite\")], \"name\" => \"ECE 3040\", \"metrics\" => Dict{String, Any}(\"complexity\" => 9.0, \"centrality\" => 96, \"blocking factor\" => 2, \"delay factor\" => 7.0), \"nameSub\" => \"Microelectronic Circuits\", \"id\" => 22, \"credits\" => 4, \"nameCanonical\" => \"\"), Dict(\"curriculum_requisites\" => Dict{String, Any}[Dict(\"source_id\" => 19, \"target_id\" => 42, \"type\" => \"CurriculumPrerequisite\")], \"name\" => \" \", \"metrics\" => Dict{String, Any}(\"complexity\" => 6.0, \"centrality\" => 0, \"blocking factor\" => 0, \"delay factor\" => 6.0), \"nameSub\" => \"ECE 3000/4000 Elective\", \"id\" => 42, \"credits\" => 3, \"nameCanonical\" => \"\")], \"id\" => 7), Dict(\"name\" => \"Term 8\", \"curriculum_items\" => Dict{String, Any}[Dict(\"curriculum_requisites\" => Dict{String, Any}[], \"name\" => \"ECE 3450\", \"metrics\" => Dict{String, Any}(\"complexity\" => 1.0, \"centrality\" => 0, \"blocking factor\" => 0, \"delay factor\" => 1.0), \"nameSub\" => \"\", \"id\" => 30, \"credits\" => 3, \"nameCanonical\" => \"\"), Dict(\"curriculum_requisites\" => Dict{String, Any}[], \"name\" => \" \", \"metrics\" => Dict{String, Any}(\"complexity\" => 1.0, \"centrality\" => 0, \"blocking factor\" => 0, \"delay factor\" => 1.0), \"nameSub\" => \"Social Science Elective\", \"id\" => 32, \"credits\" => 3, \"nameCanonical\" => \"\"), Dict(\"curriculum_requisites\" => Dict{String, Any}[Dict(\"source_id\" => 22, \"target_id\" => 23, \"type\" => \"CurriculumCorequisite\"), Dict(\"source_id\" => 17, \"target_id\" => 23, \"type\" => \"CurriculumPrerequisite\")], \"name\" => \"ECE 3043\", \"metrics\" => Dict{String, Any}(\"complexity\" => 7.0, \"centrality\" => 0, \"blocking factor\" => 0, \"delay factor\" => 7.0), \"nameSub\" => \"Measurements, Circuits and Microelectronics Lab\", \"id\" => 23, \"credits\" => 2, \"nameCanonical\" => \"\"), Dict(\"curriculum_requisites\" => Dict{String, Any}[Dict(\"source_id\" => 35, \"target_id\" => 41, \"type\" => \"CurriculumPrerequisite\")], \"name\" => \" \", \"metrics\" => Dict{String, Any}(\"complexity\" => 8.0, \"centrality\" => 0, \"blocking factor\" => 0, \"delay factor\" => 8.0), \"nameSub\" => \"Senior Design Sequence\", \"id\" => 41, \"credits\" => 2, \"nameCanonical\" => \"\"), Dict(\"curriculum_requisites\" => Dict{String, Any}[Dict(\"source_id\" => 22, \"target_id\" => 36, \"type\" => \"CurriculumPrerequisite\")], \"name\" => \" \", \"metrics\" => Dict{String, Any}(\"complexity\" => 7.0, \"centrality\" => 0, \"blocking factor\" => 0, \"delay factor\" => 7.0), \"nameSub\" => \"Electronic Devices Topics\", \"id\" => 36, \"credits\" => 3, \"nameCanonical\" => \"\"), Dict(\"curriculum_requisites\" => Dict{String, Any}[Dict(\"source_id\" => 20, \"target_id\" => 25, \"type\" => \"CurriculumPrerequisite\")], \"name\" => \" \", \"metrics\" => Dict{String, Any}(\"complexity\" => 4.0, \"centrality\" => 0, \"blocking factor\" => 0, \"delay factor\" => 4.0), \"nameSub\" => \"Prob & Stat Elective\", \"id\" => 25, \"credits\" => 3, \"nameCanonical\" => \"\")], \"id\" => 8)], \"institution\" => \"Georgia Institute of Technology\")), nothing)), Set{String}(), nothing, WebIO.Asset[], Dict{Any, Any}(), WebIO.ConnectionPool(Channel{Any}(32), Set{WebIO.AbstractConnection}(), Condition(Base.InvasiveLinkedList{Task}(Task (runnable) @0x0000000172a4aa90, Task (runnable) @0x0000000172a4aa90), Base.AlwaysLockedST(1))), WebIO.JSString[])"
      ]
     },
     "execution_count": 97,
     "metadata": {
      "application/vnd.webio.node+json": {
       "kernelId": "a39c6238-ca0e-48ee-9ca4-865bd5853f2a"
      }
     },
     "output_type": "execute_result"
    }
   ],
   "source": [
    "EE_new_1 = optimize_plan(EE_plan.curriculum, 8, 12, 18, balance_obj);\n",
    "visualize(EE_new_1, notebook=true)"
   ]
  },
  {
   "cell_type": "code",
   "execution_count": 99,
   "metadata": {},
   "outputs": [
    {
     "name": "stdout",
     "output_type": "stream",
     "text": [
      "\n",
      "Curriculum: Electrical Engineering - Electronic Devices and Circuit Technology\n",
      "Degree Plan: \n",
      "  total credit hours = 129\n",
      "  number of terms = 8\n",
      "  max. credits in a term = 17, in term 2\n",
      "  min. credits in a term = 16, in term 1\n",
      "  avg. credits per term = 16.125, with std. dev. = 0.33071891388307384\n",
      "\n"
     ]
    }
   ],
   "source": [
    "metrics = basic_metrics(plan_new)\n",
    "println(String(take!(metrics)))"
   ]
  },
  {
   "cell_type": "code",
   "execution_count": 107,
   "metadata": {},
   "outputs": [
    {
     "data": {
      "text/plain": [
       "1-element Vector{Pair{Course, Course}}:\n",
       " Course(130350880, Dict(1157590204 => 5), \"Differential Calculus\", 2, \"MATH\", \"1551\", \"\", \"\", \"\", Course[], \"\", Dict{Int64, Requisite}(), LearningOutcome[], Dict{String, Any}(\"complexity\" => 27.0, \"centrality\" => 0, \"blocking factor\" => 19, \"delay factor\" => 8.0), Dict{String, Any}(), 0.5) => Course(2403336617, Dict(1157590204 => 6), \"Linear Algebra\", 4, \"MATH\", \"1554\", \"\", \"\", \"\", Course[], \"\", Dict{Int64, Requisite}(130350880 => co), LearningOutcome[], Dict{String, Any}(\"complexity\" => 19.0, \"centrality\" => 55, \"blocking factor\" => 12, \"delay factor\" => 7.0), Dict{String, Any}(), 0.5)"
      ]
     },
     "execution_count": 107,
     "metadata": {},
     "output_type": "execute_result"
    }
   ],
   "source": [
    "curric = deepcopy(EE_plan.curriculum)\n",
    "convert_ids(curric)\n",
    "toxic = Array{Pair{Course,Course},1}()\n",
    "# Differential Calc is toxic to Linear Algebra\n",
    "push!(toxic, course(curric, \"MATH\", \"1551\", \"Differential Calculus\", \"\") => course(curric, \"MATH\", \"1554\", \"Linear Algebra\", \"\"))"
   ]
  },
  {
   "cell_type": "code",
   "execution_count": 100,
   "metadata": {},
   "outputs": [
    {
     "name": "stdout",
     "output_type": "stream",
     "text": [
      "Academic license - for non-commercial use only\n",
      "An optimal solution was found with objective value = 35.0\n"
     ]
    },
    {
     "data": {
      "application/vnd.webio.node+json": {
       "children": [
        {
         "children": [
          ""
         ],
         "instanceArgs": {
          "namespace": "html",
          "tag": "iframe"
         },
         "nodeType": "DOM",
         "props": {
          "events": {
           "load": "(function (){this.contentWindow.postMessage({\"options\":{\"hideTerms\":false,\"edit\":false},\"curriculum\":{\"name\":\"Electrical Engineering - Electronic Devices and Circuit Technology\",\"dp_name\":\"\",\"curriculum_terms\":[{\"name\":\"Term 1\",\"curriculum_items\":[{\"curriculum_requisites\":[],\"name\":\"ECE 3450\",\"metrics\":{\"complexity\":1.0,\"centrality\":0,\"blocking factor\":0,\"delay factor\":1.0},\"nameSub\":\"\",\"id\":30,\"credits\":3,\"nameCanonical\":\"\"},{\"curriculum_requisites\":[],\"name\":\" \",\"metrics\":{\"complexity\":1.0,\"centrality\":0,\"blocking factor\":0,\"delay factor\":1.0},\"nameSub\":\"Elective Hours\",\"id\":44,\"credits\":3,\"nameCanonical\":\"\"},{\"curriculum_requisites\":[],\"name\":\"ECE 3400\",\"metrics\":{\"complexity\":1.0,\"centrality\":0,\"blocking factor\":0,\"delay factor\":1.0},\"nameSub\":\"\",\"id\":31,\"credits\":3,\"nameCanonical\":\"\"},{\"curriculum_requisites\":[],\"name\":\"ENGL 1101\",\"metrics\":{\"complexity\":3.0,\"centrality\":0,\"blocking factor\":1,\"delay factor\":2.0},\"nameSub\":\"English Composition I\",\"id\":4,\"credits\":3,\"nameCanonical\":\"\"},{\"curriculum_requisites\":[],\"name\":\" \",\"metrics\":{\"complexity\":1.0,\"centrality\":0,\"blocking factor\":0,\"delay factor\":1.0},\"nameSub\":\"Elective Hours\",\"id\":33,\"credits\":3,\"nameCanonical\":\"\"},{\"curriculum_requisites\":[],\"name\":\"APPH 1040\",\"metrics\":{\"complexity\":1.0,\"centrality\":0,\"blocking factor\":0,\"delay factor\":1.0},\"nameSub\":\"\",\"id\":26,\"credits\":2,\"nameCanonical\":\"\"}],\"id\":1},{\"name\":\"Term 2\",\"curriculum_items\":[{\"curriculum_requisites\":[],\"name\":\"MATH 1551\",\"metrics\":{\"complexity\":27.0,\"centrality\":0,\"blocking factor\":19,\"delay factor\":8.0},\"nameSub\":\"Differential Calculus\",\"id\":5,\"credits\":2,\"nameCanonical\":\"\"},{\"curriculum_requisites\":[{\"source_id\":5,\"target_id\":6,\"type\":\"CurriculumCorequisite\"}],\"name\":\"MATH 1554\",\"metrics\":{\"complexity\":19.0,\"centrality\":55,\"blocking factor\":12,\"delay factor\":7.0},\"nameSub\":\"Linear Algebra\",\"id\":6,\"credits\":4,\"nameCanonical\":\"\"},{\"curriculum_requisites\":[],\"name\":\"ECE 4452\",\"metrics\":{\"complexity\":1.0,\"centrality\":0,\"blocking factor\":0,\"delay factor\":1.0},\"nameSub\":\"\",\"id\":38,\"credits\":3,\"nameCanonical\":\"\"},{\"curriculum_requisites\":[{\"source_id\":4,\"target_id\":8,\"type\":\"CurriculumPrerequisite\"}],\"name\":\"ENGL 1102\",\"metrics\":{\"complexity\":2.0,\"centrality\":0,\"blocking factor\":0,\"delay factor\":2.0},\"nameSub\":\"English Composition II\",\"id\":8,\"credits\":3,\"nameCanonical\":\"\"}],\"id\":2},{\"name\":\"Term 3\",\"curriculum_items\":[{\"curriculum_requisites\":[],\"name\":\" \",\"metrics\":{\"complexity\":1.0,\"centrality\":0,\"blocking factor\":0,\"delay factor\":1.0},\"nameSub\":\"Social Science Elective\",\"id\":32,\"credits\":3,\"nameCanonical\":\"\"},{\"curriculum_requisites\":[{\"source_id\":5,\"target_id\":9,\"type\":\"CurriculumPrerequisite\"}],\"name\":\"MATH 1552\",\"metrics\":{\"complexity\":25.0,\"centrality\":111,\"blocking factor\":17,\"delay factor\":8.0},\"nameSub\":\"Integral Calculus\",\"id\":9,\"credits\":4,\"nameCanonical\":\"\"},{\"curriculum_requisites\":[],\"name\":\"ECE 3005\",\"metrics\":{\"complexity\":1.0,\"centrality\":0,\"blocking factor\":0,\"delay factor\":1.0},\"nameSub\":\"\",\"id\":28,\"credits\":1,\"nameCanonical\":\"\"},{\"curriculum_requisites\":[],\"name\":\"ECE 1100\",\"metrics\":{\"complexity\":1.0,\"centrality\":0,\"blocking factor\":0,\"delay factor\":1.0},\"nameSub\":\"ECE Discovery Studio\",\"id\":3,\"credits\":1,\"nameCanonical\":\"\"},{\"curriculum_requisites\":[],\"name\":\"CS 1301\",\"metrics\":{\"complexity\":16.0,\"centrality\":0,\"blocking factor\":10,\"delay factor\":6.0},\"nameSub\":\"Intro to Computing\",\"id\":2,\"credits\":3,\"nameCanonical\":\"\"},{\"curriculum_requisites\":[{\"source_id\":9,\"target_id\":10,\"type\":\"CurriculumCorequisite\"}],\"name\":\"PHYS  2211\",\"metrics\":{\"complexity\":20.0,\"centrality\":46,\"blocking factor\":12,\"delay factor\":8.0},\"nameSub\":\"Intro Physics 1\",\"id\":10,\"credits\":4,\"nameCanonical\":\"\"}],\"id\":3},{\"name\":\"Term 4\",\"curriculum_items\":[{\"curriculum_requisites\":[{\"source_id\":10,\"target_id\":16,\"type\":\"CurriculumPrerequisite\"}],\"name\":\"PHYS  2212\",\"metrics\":{\"complexity\":19.0,\"centrality\":46,\"blocking factor\":11,\"delay factor\":8.0},\"nameSub\":\"Intro. Physics 2\",\"id\":16,\"credits\":4,\"nameCanonical\":\"\"},{\"curriculum_requisites\":[{\"source_id\":9,\"target_id\":20,\"type\":\"CurriculumPrerequisite\"}],\"name\":\"MATH 2551\",\"metrics\":{\"complexity\":5.0,\"centrality\":4,\"blocking factor\":1,\"delay factor\":4.0},\"nameSub\":\"Multivariate Calculus\",\"id\":20,\"credits\":4,\"nameCanonical\":\"\"},{\"curriculum_requisites\":[{\"source_id\":2,\"target_id\":12,\"type\":\"CurriculumPrerequisite\"},{\"source_id\":9,\"target_id\":12,\"type\":\"CurriculumPrerequisite\"}],\"name\":\"ECE 2026\",\"metrics\":{\"complexity\":9.0,\"centrality\":11,\"blocking factor\":3,\"delay factor\":6.0},\"nameSub\":\"Intro. to Signal Processing\",\"id\":12,\"credits\":3,\"nameCanonical\":\"\"},{\"curriculum_requisites\":[{\"source_id\":2,\"target_id\":7,\"type\":\"CurriculumPrerequisite\"}],\"name\":\"ECE 2020\",\"metrics\":{\"complexity\":11.0,\"centrality\":41,\"blocking factor\":5,\"delay factor\":6.0},\"nameSub\":\"Fund. of Digital System Design\",\"id\":7,\"credits\":3,\"nameCanonical\":\"\"},{\"curriculum_requisites\":[{\"source_id\":6,\"target_id\":15,\"type\":\"CurriculumPrerequisite\"},{\"source_id\":9,\"target_id\":15,\"type\":\"CurriculumPrerequisite\"}],\"name\":\"MATH 2552\",\"metrics\":{\"complexity\":18.0,\"centrality\":110,\"blocking factor\":11,\"delay factor\":7.0},\"nameSub\":\"Differential Equations\",\"id\":15,\"credits\":4,\"nameCanonical\":\"\"}],\"id\":4},{\"name\":\"Term 5\",\"curriculum_items\":[{\"curriculum_requisites\":[{\"source_id\":16,\"target_id\":19,\"type\":\"CurriculumPrerequisite\"},{\"source_id\":15,\"target_id\":19,\"type\":\"CurriculumPrerequisite\"}],\"name\":\"ECE 2040\",\"metrics\":{\"complexity\":18.0,\"centrality\":124,\"blocking factor\":10,\"delay factor\":8.0},\"nameSub\":\"Circuit Analysis\",\"id\":19,\"credits\":3,\"nameCanonical\":\"\"},{\"curriculum_requisites\":[{\"source_id\":7,\"target_id\":17,\"type\":\"CurriculumPrerequisite\"},{\"source_id\":18,\"target_id\":17,\"type\":\"CurriculumCorequisite\"}],\"name\":\"ECE 2031\",\"metrics\":{\"complexity\":9.0,\"centrality\":31,\"blocking factor\":3,\"delay factor\":6.0},\"nameSub\":\"Digital Design Lab\",\"id\":17,\"credits\":2,\"nameCanonical\":\"\"},{\"curriculum_requisites\":[],\"name\":\"CHEM 1310\",\"metrics\":{\"complexity\":6.0,\"centrality\":0,\"blocking factor\":3,\"delay factor\":3.0},\"nameSub\":\"General Chemistry\",\"id\":1,\"credits\":4,\"nameCanonical\":\"\"},{\"curriculum_requisites\":[{\"source_id\":20,\"target_id\":25,\"type\":\"CurriculumPrerequisite\"}],\"name\":\" \",\"metrics\":{\"complexity\":4.0,\"centrality\":0,\"blocking factor\":0,\"delay factor\":4.0},\"nameSub\":\"Prob & Stat Elective\",\"id\":25,\"credits\":3,\"nameCanonical\":\"\"},{\"curriculum_requisites\":[{\"source_id\":7,\"target_id\":18,\"type\":\"CurriculumPrerequisite\"}],\"name\":\"ECE 2035\",\"metrics\":{\"complexity\":10.0,\"centrality\":27,\"blocking factor\":4,\"delay factor\":6.0},\"nameSub\":\"Programming Elective\",\"id\":18,\"credits\":4,\"nameCanonical\":\"\"}],\"id\":5},{\"name\":\"Term 6\",\"curriculum_items\":[{\"curriculum_requisites\":[{\"source_id\":15,\"target_id\":24,\"type\":\"CurriculumPrerequisite\"},{\"source_id\":12,\"target_id\":24,\"type\":\"CurriculumPrerequisite\"},{\"source_id\":19,\"target_id\":24,\"type\":\"CurriculumPrerequisite\"}],\"name\":\"ECE 3025\",\"metrics\":{\"complexity\":10.0,\"centrality\":45,\"blocking factor\":2,\"delay factor\":8.0},\"nameSub\":\"Electromagnetics\",\"id\":24,\"credits\":3,\"nameCanonical\":\"\"},{\"curriculum_requisites\":[{\"source_id\":19,\"target_id\":37,\"type\":\"CurriculumPrerequisite\"}],\"name\":\" \",\"metrics\":{\"complexity\":6.0,\"centrality\":0,\"blocking factor\":0,\"delay factor\":6.0},\"nameSub\":\"ECE 3000/4000 Elective\",\"id\":37,\"credits\":3,\"nameCanonical\":\"\"},{\"curriculum_requisites\":[{\"source_id\":22,\"target_id\":23,\"type\":\"CurriculumCorequisite\"},{\"source_id\":17,\"target_id\":23,\"type\":\"CurriculumPrerequisite\"}],\"name\":\"ECE 3043\",\"metrics\":{\"complexity\":7.0,\"centrality\":0,\"blocking factor\":0,\"delay factor\":7.0},\"nameSub\":\"Measurements, Circuits and Microelectronics Lab\",\"id\":23,\"credits\":2,\"nameCanonical\":\"\"},{\"curriculum_requisites\":[{\"source_id\":15,\"target_id\":22,\"type\":\"CurriculumPrerequisite\"},{\"source_id\":18,\"target_id\":22,\"type\":\"CurriculumPrerequisite\"},{\"source_id\":17,\"target_id\":22,\"type\":\"CurriculumPrerequisite\"},{\"source_id\":1,\"target_id\":22,\"type\":\"CurriculumPrerequisite\"},{\"source_id\":19,\"target_id\":22,\"type\":\"CurriculumPrerequisite\"}],\"name\":\"ECE 3040\",\"metrics\":{\"complexity\":9.0,\"centrality\":96,\"blocking factor\":2,\"delay factor\":7.0},\"nameSub\":\"Microelectronic Circuits\",\"id\":22,\"credits\":4,\"nameCanonical\":\"\"},{\"curriculum_requisites\":[{\"source_id\":19,\"target_id\":43,\"type\":\"CurriculumPrerequisite\"}],\"name\":\" \",\"metrics\":{\"complexity\":6.0,\"centrality\":0,\"blocking factor\":0,\"delay factor\":6.0},\"nameSub\":\"ECE 3000/4000 Elective\",\"id\":43,\"credits\":3,\"nameCanonical\":\"\"},{\"curriculum_requisites\":[{\"source_id\":19,\"target_id\":42,\"type\":\"CurriculumPrerequisite\"}],\"name\":\" \",\"metrics\":{\"complexity\":6.0,\"centrality\":0,\"blocking factor\":0,\"delay factor\":6.0},\"nameSub\":\"ECE 3000/4000 Elective\",\"id\":42,\"credits\":3,\"nameCanonical\":\"\"}],\"id\":6},{\"name\":\"Term 7\",\"curriculum_items\":[{\"curriculum_requisites\":[{\"source_id\":24,\"target_id\":35,\"type\":\"CurriculumPrerequisite\"}],\"name\":\" \",\"metrics\":{\"complexity\":9.0,\"centrality\":45,\"blocking factor\":1,\"delay factor\":8.0},\"nameSub\":\"Senior Design Sequence\",\"id\":35,\"credits\":1,\"nameCanonical\":\"\"},{\"curriculum_requisites\":[{\"source_id\":19,\"target_id\":45,\"type\":\"CurriculumPrerequisite\"}],\"name\":\" \",\"metrics\":{\"complexity\":6.0,\"centrality\":0,\"blocking factor\":0,\"delay factor\":6.0},\"nameSub\":\"Circuit Technologies Topics\",\"id\":45,\"credits\":3,\"nameCanonical\":\"\"},{\"curriculum_requisites\":[],\"name\":\" \",\"metrics\":{\"complexity\":1.0,\"centrality\":0,\"blocking factor\":0,\"delay factor\":1.0},\"nameSub\":\"Econ/Social Science Elective\",\"id\":13,\"credits\":3,\"nameCanonical\":\"\"},{\"curriculum_requisites\":[],\"name\":\" \",\"metrics\":{\"complexity\":1.0,\"centrality\":0,\"blocking factor\":0,\"delay factor\":1.0},\"nameSub\":\"History/Government Elective\",\"id\":11,\"credits\":3,\"nameCanonical\":\"\"},{\"curriculum_requisites\":[{\"source_id\":22,\"target_id\":36,\"type\":\"CurriculumPrerequisite\"}],\"name\":\" \",\"metrics\":{\"complexity\":7.0,\"centrality\":0,\"blocking factor\":0,\"delay factor\":7.0},\"nameSub\":\"Electronic Devices Topics\",\"id\":36,\"credits\":3,\"nameCanonical\":\"\"},{\"curriculum_requisites\":[],\"name\":\" \",\"metrics\":{\"complexity\":1.0,\"centrality\":0,\"blocking factor\":0,\"delay factor\":1.0},\"nameSub\":\"Elective Hours\",\"id\":39,\"credits\":2,\"nameCanonical\":\"\"}],\"id\":7},{\"name\":\"Term 8\",\"curriculum_items\":[{\"curriculum_requisites\":[],\"name\":\" \",\"metrics\":{\"complexity\":1.0,\"centrality\":0,\"blocking factor\":0,\"delay factor\":1.0},\"nameSub\":\"Elective Hours\",\"id\":29,\"credits\":3,\"nameCanonical\":\"\"},{\"curriculum_requisites\":[],\"name\":\" \",\"metrics\":{\"complexity\":1.0,\"centrality\":0,\"blocking factor\":0,\"delay factor\":1.0},\"nameSub\":\"Science Elective\",\"id\":21,\"credits\":3,\"nameCanonical\":\"\"},{\"curriculum_requisites\":[{\"source_id\":35,\"target_id\":41,\"type\":\"CurriculumPrerequisite\"}],\"name\":\" \",\"metrics\":{\"complexity\":8.0,\"centrality\":0,\"blocking factor\":0,\"delay factor\":8.0},\"nameSub\":\"Senior Design Sequence\",\"id\":41,\"credits\":2,\"nameCanonical\":\"\"},{\"curriculum_requisites\":[],\"name\":\" \",\"metrics\":{\"complexity\":1.0,\"centrality\":0,\"blocking factor\":0,\"delay factor\":1.0},\"nameSub\":\"Humanities Elective\",\"id\":14,\"credits\":3,\"nameCanonical\":\"\"},{\"curriculum_requisites\":[],\"name\":\" \",\"metrics\":{\"complexity\":1.0,\"centrality\":0,\"blocking factor\":0,\"delay factor\":1.0},\"nameSub\":\"Social Science Elective\",\"id\":40,\"credits\":3,\"nameCanonical\":\"\"},{\"curriculum_requisites\":[],\"name\":\" \",\"metrics\":{\"complexity\":1.0,\"centrality\":0,\"blocking factor\":0,\"delay factor\":1.0},\"nameSub\":\"Humanities Elective\",\"id\":27,\"credits\":3,\"nameCanonical\":\"\"}],\"id\":8}],\"institution\":\"Georgia Institute of Technology\"}},\"*\"); window.removeEventListener(\"message\",window.messageReceived); window.messageReceived=(function (event){return (event.data.curriculum!==undefined) ? (WebIO.setval({\"name\":\"curriculum-data\",\"scope\":\"6960145415219535016\",\"id\":\"18002252389565642118\",\"type\":\"observable\"},event.data.curriculum)) : undefined}); return window.addEventListener(\"message\",window.messageReceived)})"
          },
          "id": "curriculum",
          "src": "https://curricula-api-embed.damoursystems.com/",
          "style": {
           "border": "none",
           "height": "100vh",
           "margin": "0",
           "padding": "0",
           "width": "100%"
          }
         },
         "type": "node"
        }
       ],
       "instanceArgs": {
        "handlers": {},
        "id": "6960145415219535016",
        "imports": {
         "data": [],
         "type": "async_block"
        },
        "mount_callbacks": [],
        "observables": {
         "curriculum-data": {
          "id": "18002252389565642118",
          "sync": true,
          "value": {
           "curriculum": {
            "curriculum_terms": [
             {
              "curriculum_items": [
               {
                "credits": 3,
                "curriculum_requisites": [],
                "id": 30,
                "metrics": {
                 "blocking factor": 0,
                 "centrality": 0,
                 "complexity": 1,
                 "delay factor": 1
                },
                "name": "ECE 3450",
                "nameCanonical": "",
                "nameSub": ""
               },
               {
                "credits": 3,
                "curriculum_requisites": [],
                "id": 44,
                "metrics": {
                 "blocking factor": 0,
                 "centrality": 0,
                 "complexity": 1,
                 "delay factor": 1
                },
                "name": " ",
                "nameCanonical": "",
                "nameSub": "Elective Hours"
               },
               {
                "credits": 3,
                "curriculum_requisites": [],
                "id": 31,
                "metrics": {
                 "blocking factor": 0,
                 "centrality": 0,
                 "complexity": 1,
                 "delay factor": 1
                },
                "name": "ECE 3400",
                "nameCanonical": "",
                "nameSub": ""
               },
               {
                "credits": 3,
                "curriculum_requisites": [],
                "id": 4,
                "metrics": {
                 "blocking factor": 1,
                 "centrality": 0,
                 "complexity": 3,
                 "delay factor": 2
                },
                "name": "ENGL 1101",
                "nameCanonical": "",
                "nameSub": "English Composition I"
               },
               {
                "credits": 3,
                "curriculum_requisites": [],
                "id": 33,
                "metrics": {
                 "blocking factor": 0,
                 "centrality": 0,
                 "complexity": 1,
                 "delay factor": 1
                },
                "name": " ",
                "nameCanonical": "",
                "nameSub": "Elective Hours"
               },
               {
                "credits": 2,
                "curriculum_requisites": [],
                "id": 26,
                "metrics": {
                 "blocking factor": 0,
                 "centrality": 0,
                 "complexity": 1,
                 "delay factor": 1
                },
                "name": "APPH 1040",
                "nameCanonical": "",
                "nameSub": ""
               }
              ],
              "id": 1,
              "name": "Term 1"
             },
             {
              "curriculum_items": [
               {
                "credits": 2,
                "curriculum_requisites": [],
                "id": 5,
                "metrics": {
                 "blocking factor": 19,
                 "centrality": 0,
                 "complexity": 27,
                 "delay factor": 8
                },
                "name": "MATH 1551",
                "nameCanonical": "",
                "nameSub": "Differential Calculus"
               },
               {
                "credits": 4,
                "curriculum_requisites": [
                 {
                  "source_id": 5,
                  "target_id": 6,
                  "type": "CurriculumCorequisite"
                 }
                ],
                "id": 6,
                "metrics": {
                 "blocking factor": 12,
                 "centrality": 55,
                 "complexity": 19,
                 "delay factor": 7
                },
                "name": "MATH 1554",
                "nameCanonical": "",
                "nameSub": "Linear Algebra"
               },
               {
                "credits": 3,
                "curriculum_requisites": [],
                "id": 38,
                "metrics": {
                 "blocking factor": 0,
                 "centrality": 0,
                 "complexity": 1,
                 "delay factor": 1
                },
                "name": "ECE 4452",
                "nameCanonical": "",
                "nameSub": ""
               },
               {
                "credits": 3,
                "curriculum_requisites": [
                 {
                  "source_id": 4,
                  "target_id": 8,
                  "type": "CurriculumPrerequisite"
                 }
                ],
                "id": 8,
                "metrics": {
                 "blocking factor": 0,
                 "centrality": 0,
                 "complexity": 2,
                 "delay factor": 2
                },
                "name": "ENGL 1102",
                "nameCanonical": "",
                "nameSub": "English Composition II"
               }
              ],
              "id": 2,
              "name": "Term 2"
             },
             {
              "curriculum_items": [
               {
                "credits": 3,
                "curriculum_requisites": [],
                "id": 32,
                "metrics": {
                 "blocking factor": 0,
                 "centrality": 0,
                 "complexity": 1,
                 "delay factor": 1
                },
                "name": " ",
                "nameCanonical": "",
                "nameSub": "Social Science Elective"
               },
               {
                "credits": 4,
                "curriculum_requisites": [
                 {
                  "source_id": 5,
                  "target_id": 9,
                  "type": "CurriculumPrerequisite"
                 }
                ],
                "id": 9,
                "metrics": {
                 "blocking factor": 17,
                 "centrality": 111,
                 "complexity": 25,
                 "delay factor": 8
                },
                "name": "MATH 1552",
                "nameCanonical": "",
                "nameSub": "Integral Calculus"
               },
               {
                "credits": 1,
                "curriculum_requisites": [],
                "id": 28,
                "metrics": {
                 "blocking factor": 0,
                 "centrality": 0,
                 "complexity": 1,
                 "delay factor": 1
                },
                "name": "ECE 3005",
                "nameCanonical": "",
                "nameSub": ""
               },
               {
                "credits": 1,
                "curriculum_requisites": [],
                "id": 3,
                "metrics": {
                 "blocking factor": 0,
                 "centrality": 0,
                 "complexity": 1,
                 "delay factor": 1
                },
                "name": "ECE 1100",
                "nameCanonical": "",
                "nameSub": "ECE Discovery Studio"
               },
               {
                "credits": 3,
                "curriculum_requisites": [],
                "id": 2,
                "metrics": {
                 "blocking factor": 10,
                 "centrality": 0,
                 "complexity": 16,
                 "delay factor": 6
                },
                "name": "CS 1301",
                "nameCanonical": "",
                "nameSub": "Intro to Computing"
               },
               {
                "credits": 4,
                "curriculum_requisites": [
                 {
                  "source_id": 9,
                  "target_id": 10,
                  "type": "CurriculumCorequisite"
                 }
                ],
                "id": 10,
                "metrics": {
                 "blocking factor": 12,
                 "centrality": 46,
                 "complexity": 20,
                 "delay factor": 8
                },
                "name": "PHYS  2211",
                "nameCanonical": "",
                "nameSub": "Intro Physics 1"
               }
              ],
              "id": 3,
              "name": "Term 3"
             },
             {
              "curriculum_items": [
               {
                "credits": 4,
                "curriculum_requisites": [
                 {
                  "source_id": 10,
                  "target_id": 16,
                  "type": "CurriculumPrerequisite"
                 }
                ],
                "id": 16,
                "metrics": {
                 "blocking factor": 11,
                 "centrality": 46,
                 "complexity": 19,
                 "delay factor": 8
                },
                "name": "PHYS  2212",
                "nameCanonical": "",
                "nameSub": "Intro. Physics 2"
               },
               {
                "credits": 4,
                "curriculum_requisites": [
                 {
                  "source_id": 9,
                  "target_id": 20,
                  "type": "CurriculumPrerequisite"
                 }
                ],
                "id": 20,
                "metrics": {
                 "blocking factor": 1,
                 "centrality": 4,
                 "complexity": 5,
                 "delay factor": 4
                },
                "name": "MATH 2551",
                "nameCanonical": "",
                "nameSub": "Multivariate Calculus"
               },
               {
                "credits": 3,
                "curriculum_requisites": [
                 {
                  "source_id": 2,
                  "target_id": 12,
                  "type": "CurriculumPrerequisite"
                 },
                 {
                  "source_id": 9,
                  "target_id": 12,
                  "type": "CurriculumPrerequisite"
                 }
                ],
                "id": 12,
                "metrics": {
                 "blocking factor": 3,
                 "centrality": 11,
                 "complexity": 9,
                 "delay factor": 6
                },
                "name": "ECE 2026",
                "nameCanonical": "",
                "nameSub": "Intro. to Signal Processing"
               },
               {
                "credits": 3,
                "curriculum_requisites": [
                 {
                  "source_id": 2,
                  "target_id": 7,
                  "type": "CurriculumPrerequisite"
                 }
                ],
                "id": 7,
                "metrics": {
                 "blocking factor": 5,
                 "centrality": 41,
                 "complexity": 11,
                 "delay factor": 6
                },
                "name": "ECE 2020",
                "nameCanonical": "",
                "nameSub": "Fund. of Digital System Design"
               },
               {
                "credits": 4,
                "curriculum_requisites": [
                 {
                  "source_id": 6,
                  "target_id": 15,
                  "type": "CurriculumPrerequisite"
                 },
                 {
                  "source_id": 9,
                  "target_id": 15,
                  "type": "CurriculumPrerequisite"
                 }
                ],
                "id": 15,
                "metrics": {
                 "blocking factor": 11,
                 "centrality": 110,
                 "complexity": 18,
                 "delay factor": 7
                },
                "name": "MATH 2552",
                "nameCanonical": "",
                "nameSub": "Differential Equations"
               }
              ],
              "id": 4,
              "name": "Term 4"
             },
             {
              "curriculum_items": [
               {
                "credits": 3,
                "curriculum_requisites": [
                 {
                  "source_id": 16,
                  "target_id": 19,
                  "type": "CurriculumPrerequisite"
                 },
                 {
                  "source_id": 15,
                  "target_id": 19,
                  "type": "CurriculumPrerequisite"
                 }
                ],
                "id": 19,
                "metrics": {
                 "blocking factor": 10,
                 "centrality": 124,
                 "complexity": 18,
                 "delay factor": 8
                },
                "name": "ECE 2040",
                "nameCanonical": "",
                "nameSub": "Circuit Analysis"
               },
               {
                "credits": 2,
                "curriculum_requisites": [
                 {
                  "source_id": 7,
                  "target_id": 17,
                  "type": "CurriculumPrerequisite"
                 },
                 {
                  "source_id": 18,
                  "target_id": 17,
                  "type": "CurriculumCorequisite"
                 }
                ],
                "id": 17,
                "metrics": {
                 "blocking factor": 3,
                 "centrality": 31,
                 "complexity": 9,
                 "delay factor": 6
                },
                "name": "ECE 2031",
                "nameCanonical": "",
                "nameSub": "Digital Design Lab"
               },
               {
                "credits": 4,
                "curriculum_requisites": [],
                "id": 1,
                "metrics": {
                 "blocking factor": 3,
                 "centrality": 0,
                 "complexity": 6,
                 "delay factor": 3
                },
                "name": "CHEM 1310",
                "nameCanonical": "",
                "nameSub": "General Chemistry"
               },
               {
                "credits": 3,
                "curriculum_requisites": [
                 {
                  "source_id": 20,
                  "target_id": 25,
                  "type": "CurriculumPrerequisite"
                 }
                ],
                "id": 25,
                "metrics": {
                 "blocking factor": 0,
                 "centrality": 0,
                 "complexity": 4,
                 "delay factor": 4
                },
                "name": " ",
                "nameCanonical": "",
                "nameSub": "Prob & Stat Elective"
               },
               {
                "credits": 4,
                "curriculum_requisites": [
                 {
                  "source_id": 7,
                  "target_id": 18,
                  "type": "CurriculumPrerequisite"
                 }
                ],
                "id": 18,
                "metrics": {
                 "blocking factor": 4,
                 "centrality": 27,
                 "complexity": 10,
                 "delay factor": 6
                },
                "name": "ECE 2035",
                "nameCanonical": "",
                "nameSub": "Programming Elective"
               }
              ],
              "id": 5,
              "name": "Term 5"
             },
             {
              "curriculum_items": [
               {
                "credits": 3,
                "curriculum_requisites": [
                 {
                  "source_id": 15,
                  "target_id": 24,
                  "type": "CurriculumPrerequisite"
                 },
                 {
                  "source_id": 12,
                  "target_id": 24,
                  "type": "CurriculumPrerequisite"
                 },
                 {
                  "source_id": 19,
                  "target_id": 24,
                  "type": "CurriculumPrerequisite"
                 }
                ],
                "id": 24,
                "metrics": {
                 "blocking factor": 2,
                 "centrality": 45,
                 "complexity": 10,
                 "delay factor": 8
                },
                "name": "ECE 3025",
                "nameCanonical": "",
                "nameSub": "Electromagnetics"
               },
               {
                "credits": 3,
                "curriculum_requisites": [
                 {
                  "source_id": 19,
                  "target_id": 37,
                  "type": "CurriculumPrerequisite"
                 }
                ],
                "id": 37,
                "metrics": {
                 "blocking factor": 0,
                 "centrality": 0,
                 "complexity": 6,
                 "delay factor": 6
                },
                "name": " ",
                "nameCanonical": "",
                "nameSub": "ECE 3000/4000 Elective"
               },
               {
                "credits": 2,
                "curriculum_requisites": [
                 {
                  "source_id": 22,
                  "target_id": 23,
                  "type": "CurriculumCorequisite"
                 },
                 {
                  "source_id": 17,
                  "target_id": 23,
                  "type": "CurriculumPrerequisite"
                 }
                ],
                "id": 23,
                "metrics": {
                 "blocking factor": 0,
                 "centrality": 0,
                 "complexity": 7,
                 "delay factor": 7
                },
                "name": "ECE 3043",
                "nameCanonical": "",
                "nameSub": "Measurements, Circuits and Microelectronics Lab"
               },
               {
                "credits": 4,
                "curriculum_requisites": [
                 {
                  "source_id": 15,
                  "target_id": 22,
                  "type": "CurriculumPrerequisite"
                 },
                 {
                  "source_id": 18,
                  "target_id": 22,
                  "type": "CurriculumPrerequisite"
                 },
                 {
                  "source_id": 17,
                  "target_id": 22,
                  "type": "CurriculumPrerequisite"
                 },
                 {
                  "source_id": 1,
                  "target_id": 22,
                  "type": "CurriculumPrerequisite"
                 },
                 {
                  "source_id": 19,
                  "target_id": 22,
                  "type": "CurriculumPrerequisite"
                 }
                ],
                "id": 22,
                "metrics": {
                 "blocking factor": 2,
                 "centrality": 96,
                 "complexity": 9,
                 "delay factor": 7
                },
                "name": "ECE 3040",
                "nameCanonical": "",
                "nameSub": "Microelectronic Circuits"
               },
               {
                "credits": 3,
                "curriculum_requisites": [
                 {
                  "source_id": 19,
                  "target_id": 43,
                  "type": "CurriculumPrerequisite"
                 }
                ],
                "id": 43,
                "metrics": {
                 "blocking factor": 0,
                 "centrality": 0,
                 "complexity": 6,
                 "delay factor": 6
                },
                "name": " ",
                "nameCanonical": "",
                "nameSub": "ECE 3000/4000 Elective"
               },
               {
                "credits": 3,
                "curriculum_requisites": [
                 {
                  "source_id": 19,
                  "target_id": 42,
                  "type": "CurriculumPrerequisite"
                 }
                ],
                "id": 42,
                "metrics": {
                 "blocking factor": 0,
                 "centrality": 0,
                 "complexity": 6,
                 "delay factor": 6
                },
                "name": " ",
                "nameCanonical": "",
                "nameSub": "ECE 3000/4000 Elective"
               }
              ],
              "id": 6,
              "name": "Term 6"
             },
             {
              "curriculum_items": [
               {
                "credits": 1,
                "curriculum_requisites": [
                 {
                  "source_id": 24,
                  "target_id": 35,
                  "type": "CurriculumPrerequisite"
                 }
                ],
                "id": 35,
                "metrics": {
                 "blocking factor": 1,
                 "centrality": 45,
                 "complexity": 9,
                 "delay factor": 8
                },
                "name": " ",
                "nameCanonical": "",
                "nameSub": "Senior Design Sequence"
               },
               {
                "credits": 3,
                "curriculum_requisites": [
                 {
                  "source_id": 19,
                  "target_id": 45,
                  "type": "CurriculumPrerequisite"
                 }
                ],
                "id": 45,
                "metrics": {
                 "blocking factor": 0,
                 "centrality": 0,
                 "complexity": 6,
                 "delay factor": 6
                },
                "name": " ",
                "nameCanonical": "",
                "nameSub": "Circuit Technologies Topics"
               },
               {
                "credits": 3,
                "curriculum_requisites": [],
                "id": 13,
                "metrics": {
                 "blocking factor": 0,
                 "centrality": 0,
                 "complexity": 1,
                 "delay factor": 1
                },
                "name": " ",
                "nameCanonical": "",
                "nameSub": "Econ/Social Science Elective"
               },
               {
                "credits": 3,
                "curriculum_requisites": [],
                "id": 11,
                "metrics": {
                 "blocking factor": 0,
                 "centrality": 0,
                 "complexity": 1,
                 "delay factor": 1
                },
                "name": " ",
                "nameCanonical": "",
                "nameSub": "History/Government Elective"
               },
               {
                "credits": 3,
                "curriculum_requisites": [
                 {
                  "source_id": 22,
                  "target_id": 36,
                  "type": "CurriculumPrerequisite"
                 }
                ],
                "id": 36,
                "metrics": {
                 "blocking factor": 0,
                 "centrality": 0,
                 "complexity": 7,
                 "delay factor": 7
                },
                "name": " ",
                "nameCanonical": "",
                "nameSub": "Electronic Devices Topics"
               },
               {
                "credits": 2,
                "curriculum_requisites": [],
                "id": 39,
                "metrics": {
                 "blocking factor": 0,
                 "centrality": 0,
                 "complexity": 1,
                 "delay factor": 1
                },
                "name": " ",
                "nameCanonical": "",
                "nameSub": "Elective Hours"
               }
              ],
              "id": 7,
              "name": "Term 7"
             },
             {
              "curriculum_items": [
               {
                "credits": 3,
                "curriculum_requisites": [],
                "id": 29,
                "metrics": {
                 "blocking factor": 0,
                 "centrality": 0,
                 "complexity": 1,
                 "delay factor": 1
                },
                "name": " ",
                "nameCanonical": "",
                "nameSub": "Elective Hours"
               },
               {
                "credits": 3,
                "curriculum_requisites": [],
                "id": 21,
                "metrics": {
                 "blocking factor": 0,
                 "centrality": 0,
                 "complexity": 1,
                 "delay factor": 1
                },
                "name": " ",
                "nameCanonical": "",
                "nameSub": "Science Elective"
               },
               {
                "credits": 2,
                "curriculum_requisites": [
                 {
                  "source_id": 35,
                  "target_id": 41,
                  "type": "CurriculumPrerequisite"
                 }
                ],
                "id": 41,
                "metrics": {
                 "blocking factor": 0,
                 "centrality": 0,
                 "complexity": 8,
                 "delay factor": 8
                },
                "name": " ",
                "nameCanonical": "",
                "nameSub": "Senior Design Sequence"
               },
               {
                "credits": 3,
                "curriculum_requisites": [],
                "id": 14,
                "metrics": {
                 "blocking factor": 0,
                 "centrality": 0,
                 "complexity": 1,
                 "delay factor": 1
                },
                "name": " ",
                "nameCanonical": "",
                "nameSub": "Humanities Elective"
               },
               {
                "credits": 3,
                "curriculum_requisites": [],
                "id": 40,
                "metrics": {
                 "blocking factor": 0,
                 "centrality": 0,
                 "complexity": 1,
                 "delay factor": 1
                },
                "name": " ",
                "nameCanonical": "",
                "nameSub": "Social Science Elective"
               },
               {
                "credits": 3,
                "curriculum_requisites": [],
                "id": 27,
                "metrics": {
                 "blocking factor": 0,
                 "centrality": 0,
                 "complexity": 1,
                 "delay factor": 1
                },
                "name": " ",
                "nameCanonical": "",
                "nameSub": "Humanities Elective"
               }
              ],
              "id": 8,
              "name": "Term 8"
             }
            ],
            "dp_name": "",
            "institution": "Georgia Institute of Technology",
            "name": "Electrical Engineering - Electronic Devices and Circuit Technology"
           },
           "options": {
            "edit": false,
            "hideTerms": false
           }
          }
         }
        },
        "systemjs_options": null
       },
       "nodeType": "Scope",
       "props": {},
       "type": "node"
      },
      "text/html": [
       "<div\n",
       "    class=\"webio-mountpoint\"\n",
       "    data-webio-mountpoint=\"9918793592076927582\"\n",
       ">\n",
       "    <script>\n",
       "    if (window.require && require.defined && require.defined(\"nbextensions/webio-jupyter-notebook\")) {\n",
       "        console.log(\"Jupyter WebIO extension detected, not mounting.\");\n",
       "    } else if (window.WebIO) {\n",
       "        WebIO.mount(\n",
       "            document.querySelector('[data-webio-mountpoint=\"9918793592076927582\"]'),\n",
       "            {\"props\":{},\"nodeType\":\"Scope\",\"type\":\"node\",\"instanceArgs\":{\"imports\":{\"data\":[],\"type\":\"async_block\"},\"id\":\"6960145415219535016\",\"handlers\":{},\"systemjs_options\":null,\"mount_callbacks\":[],\"observables\":{\"curriculum-data\":{\"sync\":true,\"id\":\"18002252389565642118\",\"value\":{\"options\":{\"hideTerms\":false,\"edit\":false},\"curriculum\":{\"name\":\"Electrical Engineering - Electronic Devices and Circuit Technology\",\"dp_name\":\"\",\"curriculum_terms\":[{\"name\":\"Term 1\",\"curriculum_items\":[{\"curriculum_requisites\":[],\"name\":\"ECE 3450\",\"metrics\":{\"complexity\":1.0,\"centrality\":0,\"blocking factor\":0,\"delay factor\":1.0},\"nameSub\":\"\",\"id\":30,\"credits\":3,\"nameCanonical\":\"\"},{\"curriculum_requisites\":[],\"name\":\" \",\"metrics\":{\"complexity\":1.0,\"centrality\":0,\"blocking factor\":0,\"delay factor\":1.0},\"nameSub\":\"Elective Hours\",\"id\":44,\"credits\":3,\"nameCanonical\":\"\"},{\"curriculum_requisites\":[],\"name\":\"ECE 3400\",\"metrics\":{\"complexity\":1.0,\"centrality\":0,\"blocking factor\":0,\"delay factor\":1.0},\"nameSub\":\"\",\"id\":31,\"credits\":3,\"nameCanonical\":\"\"},{\"curriculum_requisites\":[],\"name\":\"ENGL 1101\",\"metrics\":{\"complexity\":3.0,\"centrality\":0,\"blocking factor\":1,\"delay factor\":2.0},\"nameSub\":\"English Composition I\",\"id\":4,\"credits\":3,\"nameCanonical\":\"\"},{\"curriculum_requisites\":[],\"name\":\" \",\"metrics\":{\"complexity\":1.0,\"centrality\":0,\"blocking factor\":0,\"delay factor\":1.0},\"nameSub\":\"Elective Hours\",\"id\":33,\"credits\":3,\"nameCanonical\":\"\"},{\"curriculum_requisites\":[],\"name\":\"APPH 1040\",\"metrics\":{\"complexity\":1.0,\"centrality\":0,\"blocking factor\":0,\"delay factor\":1.0},\"nameSub\":\"\",\"id\":26,\"credits\":2,\"nameCanonical\":\"\"}],\"id\":1},{\"name\":\"Term 2\",\"curriculum_items\":[{\"curriculum_requisites\":[],\"name\":\"MATH 1551\",\"metrics\":{\"complexity\":27.0,\"centrality\":0,\"blocking factor\":19,\"delay factor\":8.0},\"nameSub\":\"Differential Calculus\",\"id\":5,\"credits\":2,\"nameCanonical\":\"\"},{\"curriculum_requisites\":[{\"source_id\":5,\"target_id\":6,\"type\":\"CurriculumCorequisite\"}],\"name\":\"MATH 1554\",\"metrics\":{\"complexity\":19.0,\"centrality\":55,\"blocking factor\":12,\"delay factor\":7.0},\"nameSub\":\"Linear Algebra\",\"id\":6,\"credits\":4,\"nameCanonical\":\"\"},{\"curriculum_requisites\":[],\"name\":\"ECE 4452\",\"metrics\":{\"complexity\":1.0,\"centrality\":0,\"blocking factor\":0,\"delay factor\":1.0},\"nameSub\":\"\",\"id\":38,\"credits\":3,\"nameCanonical\":\"\"},{\"curriculum_requisites\":[{\"source_id\":4,\"target_id\":8,\"type\":\"CurriculumPrerequisite\"}],\"name\":\"ENGL 1102\",\"metrics\":{\"complexity\":2.0,\"centrality\":0,\"blocking factor\":0,\"delay factor\":2.0},\"nameSub\":\"English Composition II\",\"id\":8,\"credits\":3,\"nameCanonical\":\"\"}],\"id\":2},{\"name\":\"Term 3\",\"curriculum_items\":[{\"curriculum_requisites\":[],\"name\":\" \",\"metrics\":{\"complexity\":1.0,\"centrality\":0,\"blocking factor\":0,\"delay factor\":1.0},\"nameSub\":\"Social Science Elective\",\"id\":32,\"credits\":3,\"nameCanonical\":\"\"},{\"curriculum_requisites\":[{\"source_id\":5,\"target_id\":9,\"type\":\"CurriculumPrerequisite\"}],\"name\":\"MATH 1552\",\"metrics\":{\"complexity\":25.0,\"centrality\":111,\"blocking factor\":17,\"delay factor\":8.0},\"nameSub\":\"Integral Calculus\",\"id\":9,\"credits\":4,\"nameCanonical\":\"\"},{\"curriculum_requisites\":[],\"name\":\"ECE 3005\",\"metrics\":{\"complexity\":1.0,\"centrality\":0,\"blocking factor\":0,\"delay factor\":1.0},\"nameSub\":\"\",\"id\":28,\"credits\":1,\"nameCanonical\":\"\"},{\"curriculum_requisites\":[],\"name\":\"ECE 1100\",\"metrics\":{\"complexity\":1.0,\"centrality\":0,\"blocking factor\":0,\"delay factor\":1.0},\"nameSub\":\"ECE Discovery Studio\",\"id\":3,\"credits\":1,\"nameCanonical\":\"\"},{\"curriculum_requisites\":[],\"name\":\"CS 1301\",\"metrics\":{\"complexity\":16.0,\"centrality\":0,\"blocking factor\":10,\"delay factor\":6.0},\"nameSub\":\"Intro to Computing\",\"id\":2,\"credits\":3,\"nameCanonical\":\"\"},{\"curriculum_requisites\":[{\"source_id\":9,\"target_id\":10,\"type\":\"CurriculumCorequisite\"}],\"name\":\"PHYS  2211\",\"metrics\":{\"complexity\":20.0,\"centrality\":46,\"blocking factor\":12,\"delay factor\":8.0},\"nameSub\":\"Intro Physics 1\",\"id\":10,\"credits\":4,\"nameCanonical\":\"\"}],\"id\":3},{\"name\":\"Term 4\",\"curriculum_items\":[{\"curriculum_requisites\":[{\"source_id\":10,\"target_id\":16,\"type\":\"CurriculumPrerequisite\"}],\"name\":\"PHYS  2212\",\"metrics\":{\"complexity\":19.0,\"centrality\":46,\"blocking factor\":11,\"delay factor\":8.0},\"nameSub\":\"Intro. Physics 2\",\"id\":16,\"credits\":4,\"nameCanonical\":\"\"},{\"curriculum_requisites\":[{\"source_id\":9,\"target_id\":20,\"type\":\"CurriculumPrerequisite\"}],\"name\":\"MATH 2551\",\"metrics\":{\"complexity\":5.0,\"centrality\":4,\"blocking factor\":1,\"delay factor\":4.0},\"nameSub\":\"Multivariate Calculus\",\"id\":20,\"credits\":4,\"nameCanonical\":\"\"},{\"curriculum_requisites\":[{\"source_id\":2,\"target_id\":12,\"type\":\"CurriculumPrerequisite\"},{\"source_id\":9,\"target_id\":12,\"type\":\"CurriculumPrerequisite\"}],\"name\":\"ECE 2026\",\"metrics\":{\"complexity\":9.0,\"centrality\":11,\"blocking factor\":3,\"delay factor\":6.0},\"nameSub\":\"Intro. to Signal Processing\",\"id\":12,\"credits\":3,\"nameCanonical\":\"\"},{\"curriculum_requisites\":[{\"source_id\":2,\"target_id\":7,\"type\":\"CurriculumPrerequisite\"}],\"name\":\"ECE 2020\",\"metrics\":{\"complexity\":11.0,\"centrality\":41,\"blocking factor\":5,\"delay factor\":6.0},\"nameSub\":\"Fund. of Digital System Design\",\"id\":7,\"credits\":3,\"nameCanonical\":\"\"},{\"curriculum_requisites\":[{\"source_id\":6,\"target_id\":15,\"type\":\"CurriculumPrerequisite\"},{\"source_id\":9,\"target_id\":15,\"type\":\"CurriculumPrerequisite\"}],\"name\":\"MATH 2552\",\"metrics\":{\"complexity\":18.0,\"centrality\":110,\"blocking factor\":11,\"delay factor\":7.0},\"nameSub\":\"Differential Equations\",\"id\":15,\"credits\":4,\"nameCanonical\":\"\"}],\"id\":4},{\"name\":\"Term 5\",\"curriculum_items\":[{\"curriculum_requisites\":[{\"source_id\":16,\"target_id\":19,\"type\":\"CurriculumPrerequisite\"},{\"source_id\":15,\"target_id\":19,\"type\":\"CurriculumPrerequisite\"}],\"name\":\"ECE 2040\",\"metrics\":{\"complexity\":18.0,\"centrality\":124,\"blocking factor\":10,\"delay factor\":8.0},\"nameSub\":\"Circuit Analysis\",\"id\":19,\"credits\":3,\"nameCanonical\":\"\"},{\"curriculum_requisites\":[{\"source_id\":7,\"target_id\":17,\"type\":\"CurriculumPrerequisite\"},{\"source_id\":18,\"target_id\":17,\"type\":\"CurriculumCorequisite\"}],\"name\":\"ECE 2031\",\"metrics\":{\"complexity\":9.0,\"centrality\":31,\"blocking factor\":3,\"delay factor\":6.0},\"nameSub\":\"Digital Design Lab\",\"id\":17,\"credits\":2,\"nameCanonical\":\"\"},{\"curriculum_requisites\":[],\"name\":\"CHEM 1310\",\"metrics\":{\"complexity\":6.0,\"centrality\":0,\"blocking factor\":3,\"delay factor\":3.0},\"nameSub\":\"General Chemistry\",\"id\":1,\"credits\":4,\"nameCanonical\":\"\"},{\"curriculum_requisites\":[{\"source_id\":20,\"target_id\":25,\"type\":\"CurriculumPrerequisite\"}],\"name\":\" \",\"metrics\":{\"complexity\":4.0,\"centrality\":0,\"blocking factor\":0,\"delay factor\":4.0},\"nameSub\":\"Prob & Stat Elective\",\"id\":25,\"credits\":3,\"nameCanonical\":\"\"},{\"curriculum_requisites\":[{\"source_id\":7,\"target_id\":18,\"type\":\"CurriculumPrerequisite\"}],\"name\":\"ECE 2035\",\"metrics\":{\"complexity\":10.0,\"centrality\":27,\"blocking factor\":4,\"delay factor\":6.0},\"nameSub\":\"Programming Elective\",\"id\":18,\"credits\":4,\"nameCanonical\":\"\"}],\"id\":5},{\"name\":\"Term 6\",\"curriculum_items\":[{\"curriculum_requisites\":[{\"source_id\":15,\"target_id\":24,\"type\":\"CurriculumPrerequisite\"},{\"source_id\":12,\"target_id\":24,\"type\":\"CurriculumPrerequisite\"},{\"source_id\":19,\"target_id\":24,\"type\":\"CurriculumPrerequisite\"}],\"name\":\"ECE 3025\",\"metrics\":{\"complexity\":10.0,\"centrality\":45,\"blocking factor\":2,\"delay factor\":8.0},\"nameSub\":\"Electromagnetics\",\"id\":24,\"credits\":3,\"nameCanonical\":\"\"},{\"curriculum_requisites\":[{\"source_id\":19,\"target_id\":37,\"type\":\"CurriculumPrerequisite\"}],\"name\":\" \",\"metrics\":{\"complexity\":6.0,\"centrality\":0,\"blocking factor\":0,\"delay factor\":6.0},\"nameSub\":\"ECE 3000\\/4000 Elective\",\"id\":37,\"credits\":3,\"nameCanonical\":\"\"},{\"curriculum_requisites\":[{\"source_id\":22,\"target_id\":23,\"type\":\"CurriculumCorequisite\"},{\"source_id\":17,\"target_id\":23,\"type\":\"CurriculumPrerequisite\"}],\"name\":\"ECE 3043\",\"metrics\":{\"complexity\":7.0,\"centrality\":0,\"blocking factor\":0,\"delay factor\":7.0},\"nameSub\":\"Measurements, Circuits and Microelectronics Lab\",\"id\":23,\"credits\":2,\"nameCanonical\":\"\"},{\"curriculum_requisites\":[{\"source_id\":15,\"target_id\":22,\"type\":\"CurriculumPrerequisite\"},{\"source_id\":18,\"target_id\":22,\"type\":\"CurriculumPrerequisite\"},{\"source_id\":17,\"target_id\":22,\"type\":\"CurriculumPrerequisite\"},{\"source_id\":1,\"target_id\":22,\"type\":\"CurriculumPrerequisite\"},{\"source_id\":19,\"target_id\":22,\"type\":\"CurriculumPrerequisite\"}],\"name\":\"ECE 3040\",\"metrics\":{\"complexity\":9.0,\"centrality\":96,\"blocking factor\":2,\"delay factor\":7.0},\"nameSub\":\"Microelectronic Circuits\",\"id\":22,\"credits\":4,\"nameCanonical\":\"\"},{\"curriculum_requisites\":[{\"source_id\":19,\"target_id\":43,\"type\":\"CurriculumPrerequisite\"}],\"name\":\" \",\"metrics\":{\"complexity\":6.0,\"centrality\":0,\"blocking factor\":0,\"delay factor\":6.0},\"nameSub\":\"ECE 3000\\/4000 Elective\",\"id\":43,\"credits\":3,\"nameCanonical\":\"\"},{\"curriculum_requisites\":[{\"source_id\":19,\"target_id\":42,\"type\":\"CurriculumPrerequisite\"}],\"name\":\" \",\"metrics\":{\"complexity\":6.0,\"centrality\":0,\"blocking factor\":0,\"delay factor\":6.0},\"nameSub\":\"ECE 3000\\/4000 Elective\",\"id\":42,\"credits\":3,\"nameCanonical\":\"\"}],\"id\":6},{\"name\":\"Term 7\",\"curriculum_items\":[{\"curriculum_requisites\":[{\"source_id\":24,\"target_id\":35,\"type\":\"CurriculumPrerequisite\"}],\"name\":\" \",\"metrics\":{\"complexity\":9.0,\"centrality\":45,\"blocking factor\":1,\"delay factor\":8.0},\"nameSub\":\"Senior Design Sequence\",\"id\":35,\"credits\":1,\"nameCanonical\":\"\"},{\"curriculum_requisites\":[{\"source_id\":19,\"target_id\":45,\"type\":\"CurriculumPrerequisite\"}],\"name\":\" \",\"metrics\":{\"complexity\":6.0,\"centrality\":0,\"blocking factor\":0,\"delay factor\":6.0},\"nameSub\":\"Circuit Technologies Topics\",\"id\":45,\"credits\":3,\"nameCanonical\":\"\"},{\"curriculum_requisites\":[],\"name\":\" \",\"metrics\":{\"complexity\":1.0,\"centrality\":0,\"blocking factor\":0,\"delay factor\":1.0},\"nameSub\":\"Econ\\/Social Science Elective\",\"id\":13,\"credits\":3,\"nameCanonical\":\"\"},{\"curriculum_requisites\":[],\"name\":\" \",\"metrics\":{\"complexity\":1.0,\"centrality\":0,\"blocking factor\":0,\"delay factor\":1.0},\"nameSub\":\"History\\/Government Elective\",\"id\":11,\"credits\":3,\"nameCanonical\":\"\"},{\"curriculum_requisites\":[{\"source_id\":22,\"target_id\":36,\"type\":\"CurriculumPrerequisite\"}],\"name\":\" \",\"metrics\":{\"complexity\":7.0,\"centrality\":0,\"blocking factor\":0,\"delay factor\":7.0},\"nameSub\":\"Electronic Devices Topics\",\"id\":36,\"credits\":3,\"nameCanonical\":\"\"},{\"curriculum_requisites\":[],\"name\":\" \",\"metrics\":{\"complexity\":1.0,\"centrality\":0,\"blocking factor\":0,\"delay factor\":1.0},\"nameSub\":\"Elective Hours\",\"id\":39,\"credits\":2,\"nameCanonical\":\"\"}],\"id\":7},{\"name\":\"Term 8\",\"curriculum_items\":[{\"curriculum_requisites\":[],\"name\":\" \",\"metrics\":{\"complexity\":1.0,\"centrality\":0,\"blocking factor\":0,\"delay factor\":1.0},\"nameSub\":\"Elective Hours\",\"id\":29,\"credits\":3,\"nameCanonical\":\"\"},{\"curriculum_requisites\":[],\"name\":\" \",\"metrics\":{\"complexity\":1.0,\"centrality\":0,\"blocking factor\":0,\"delay factor\":1.0},\"nameSub\":\"Science Elective\",\"id\":21,\"credits\":3,\"nameCanonical\":\"\"},{\"curriculum_requisites\":[{\"source_id\":35,\"target_id\":41,\"type\":\"CurriculumPrerequisite\"}],\"name\":\" \",\"metrics\":{\"complexity\":8.0,\"centrality\":0,\"blocking factor\":0,\"delay factor\":8.0},\"nameSub\":\"Senior Design Sequence\",\"id\":41,\"credits\":2,\"nameCanonical\":\"\"},{\"curriculum_requisites\":[],\"name\":\" \",\"metrics\":{\"complexity\":1.0,\"centrality\":0,\"blocking factor\":0,\"delay factor\":1.0},\"nameSub\":\"Humanities Elective\",\"id\":14,\"credits\":3,\"nameCanonical\":\"\"},{\"curriculum_requisites\":[],\"name\":\" \",\"metrics\":{\"complexity\":1.0,\"centrality\":0,\"blocking factor\":0,\"delay factor\":1.0},\"nameSub\":\"Social Science Elective\",\"id\":40,\"credits\":3,\"nameCanonical\":\"\"},{\"curriculum_requisites\":[],\"name\":\" \",\"metrics\":{\"complexity\":1.0,\"centrality\":0,\"blocking factor\":0,\"delay factor\":1.0},\"nameSub\":\"Humanities Elective\",\"id\":27,\"credits\":3,\"nameCanonical\":\"\"}],\"id\":8}],\"institution\":\"Georgia Institute of Technology\"}}}}},\"children\":[{\"props\":{\"src\":\"https:\\/\\/curricula-api-embed.damoursystems.com\\/\",\"id\":\"curriculum\",\"events\":{\"load\":\"(function (){this.contentWindow.postMessage({\\\"options\\\":{\\\"hideTerms\\\":false,\\\"edit\\\":false},\\\"curriculum\\\":{\\\"name\\\":\\\"Electrical Engineering - Electronic Devices and Circuit Technology\\\",\\\"dp_name\\\":\\\"\\\",\\\"curriculum_terms\\\":[{\\\"name\\\":\\\"Term 1\\\",\\\"curriculum_items\\\":[{\\\"curriculum_requisites\\\":[],\\\"name\\\":\\\"ECE 3450\\\",\\\"metrics\\\":{\\\"complexity\\\":1.0,\\\"centrality\\\":0,\\\"blocking factor\\\":0,\\\"delay factor\\\":1.0},\\\"nameSub\\\":\\\"\\\",\\\"id\\\":30,\\\"credits\\\":3,\\\"nameCanonical\\\":\\\"\\\"},{\\\"curriculum_requisites\\\":[],\\\"name\\\":\\\" \\\",\\\"metrics\\\":{\\\"complexity\\\":1.0,\\\"centrality\\\":0,\\\"blocking factor\\\":0,\\\"delay factor\\\":1.0},\\\"nameSub\\\":\\\"Elective Hours\\\",\\\"id\\\":44,\\\"credits\\\":3,\\\"nameCanonical\\\":\\\"\\\"},{\\\"curriculum_requisites\\\":[],\\\"name\\\":\\\"ECE 3400\\\",\\\"metrics\\\":{\\\"complexity\\\":1.0,\\\"centrality\\\":0,\\\"blocking factor\\\":0,\\\"delay factor\\\":1.0},\\\"nameSub\\\":\\\"\\\",\\\"id\\\":31,\\\"credits\\\":3,\\\"nameCanonical\\\":\\\"\\\"},{\\\"curriculum_requisites\\\":[],\\\"name\\\":\\\"ENGL 1101\\\",\\\"metrics\\\":{\\\"complexity\\\":3.0,\\\"centrality\\\":0,\\\"blocking factor\\\":1,\\\"delay factor\\\":2.0},\\\"nameSub\\\":\\\"English Composition I\\\",\\\"id\\\":4,\\\"credits\\\":3,\\\"nameCanonical\\\":\\\"\\\"},{\\\"curriculum_requisites\\\":[],\\\"name\\\":\\\" \\\",\\\"metrics\\\":{\\\"complexity\\\":1.0,\\\"centrality\\\":0,\\\"blocking factor\\\":0,\\\"delay factor\\\":1.0},\\\"nameSub\\\":\\\"Elective Hours\\\",\\\"id\\\":33,\\\"credits\\\":3,\\\"nameCanonical\\\":\\\"\\\"},{\\\"curriculum_requisites\\\":[],\\\"name\\\":\\\"APPH 1040\\\",\\\"metrics\\\":{\\\"complexity\\\":1.0,\\\"centrality\\\":0,\\\"blocking factor\\\":0,\\\"delay factor\\\":1.0},\\\"nameSub\\\":\\\"\\\",\\\"id\\\":26,\\\"credits\\\":2,\\\"nameCanonical\\\":\\\"\\\"}],\\\"id\\\":1},{\\\"name\\\":\\\"Term 2\\\",\\\"curriculum_items\\\":[{\\\"curriculum_requisites\\\":[],\\\"name\\\":\\\"MATH 1551\\\",\\\"metrics\\\":{\\\"complexity\\\":27.0,\\\"centrality\\\":0,\\\"blocking factor\\\":19,\\\"delay factor\\\":8.0},\\\"nameSub\\\":\\\"Differential Calculus\\\",\\\"id\\\":5,\\\"credits\\\":2,\\\"nameCanonical\\\":\\\"\\\"},{\\\"curriculum_requisites\\\":[{\\\"source_id\\\":5,\\\"target_id\\\":6,\\\"type\\\":\\\"CurriculumCorequisite\\\"}],\\\"name\\\":\\\"MATH 1554\\\",\\\"metrics\\\":{\\\"complexity\\\":19.0,\\\"centrality\\\":55,\\\"blocking factor\\\":12,\\\"delay factor\\\":7.0},\\\"nameSub\\\":\\\"Linear Algebra\\\",\\\"id\\\":6,\\\"credits\\\":4,\\\"nameCanonical\\\":\\\"\\\"},{\\\"curriculum_requisites\\\":[],\\\"name\\\":\\\"ECE 4452\\\",\\\"metrics\\\":{\\\"complexity\\\":1.0,\\\"centrality\\\":0,\\\"blocking factor\\\":0,\\\"delay factor\\\":1.0},\\\"nameSub\\\":\\\"\\\",\\\"id\\\":38,\\\"credits\\\":3,\\\"nameCanonical\\\":\\\"\\\"},{\\\"curriculum_requisites\\\":[{\\\"source_id\\\":4,\\\"target_id\\\":8,\\\"type\\\":\\\"CurriculumPrerequisite\\\"}],\\\"name\\\":\\\"ENGL 1102\\\",\\\"metrics\\\":{\\\"complexity\\\":2.0,\\\"centrality\\\":0,\\\"blocking factor\\\":0,\\\"delay factor\\\":2.0},\\\"nameSub\\\":\\\"English Composition II\\\",\\\"id\\\":8,\\\"credits\\\":3,\\\"nameCanonical\\\":\\\"\\\"}],\\\"id\\\":2},{\\\"name\\\":\\\"Term 3\\\",\\\"curriculum_items\\\":[{\\\"curriculum_requisites\\\":[],\\\"name\\\":\\\" \\\",\\\"metrics\\\":{\\\"complexity\\\":1.0,\\\"centrality\\\":0,\\\"blocking factor\\\":0,\\\"delay factor\\\":1.0},\\\"nameSub\\\":\\\"Social Science Elective\\\",\\\"id\\\":32,\\\"credits\\\":3,\\\"nameCanonical\\\":\\\"\\\"},{\\\"curriculum_requisites\\\":[{\\\"source_id\\\":5,\\\"target_id\\\":9,\\\"type\\\":\\\"CurriculumPrerequisite\\\"}],\\\"name\\\":\\\"MATH 1552\\\",\\\"metrics\\\":{\\\"complexity\\\":25.0,\\\"centrality\\\":111,\\\"blocking factor\\\":17,\\\"delay factor\\\":8.0},\\\"nameSub\\\":\\\"Integral Calculus\\\",\\\"id\\\":9,\\\"credits\\\":4,\\\"nameCanonical\\\":\\\"\\\"},{\\\"curriculum_requisites\\\":[],\\\"name\\\":\\\"ECE 3005\\\",\\\"metrics\\\":{\\\"complexity\\\":1.0,\\\"centrality\\\":0,\\\"blocking factor\\\":0,\\\"delay factor\\\":1.0},\\\"nameSub\\\":\\\"\\\",\\\"id\\\":28,\\\"credits\\\":1,\\\"nameCanonical\\\":\\\"\\\"},{\\\"curriculum_requisites\\\":[],\\\"name\\\":\\\"ECE 1100\\\",\\\"metrics\\\":{\\\"complexity\\\":1.0,\\\"centrality\\\":0,\\\"blocking factor\\\":0,\\\"delay factor\\\":1.0},\\\"nameSub\\\":\\\"ECE Discovery Studio\\\",\\\"id\\\":3,\\\"credits\\\":1,\\\"nameCanonical\\\":\\\"\\\"},{\\\"curriculum_requisites\\\":[],\\\"name\\\":\\\"CS 1301\\\",\\\"metrics\\\":{\\\"complexity\\\":16.0,\\\"centrality\\\":0,\\\"blocking factor\\\":10,\\\"delay factor\\\":6.0},\\\"nameSub\\\":\\\"Intro to Computing\\\",\\\"id\\\":2,\\\"credits\\\":3,\\\"nameCanonical\\\":\\\"\\\"},{\\\"curriculum_requisites\\\":[{\\\"source_id\\\":9,\\\"target_id\\\":10,\\\"type\\\":\\\"CurriculumCorequisite\\\"}],\\\"name\\\":\\\"PHYS  2211\\\",\\\"metrics\\\":{\\\"complexity\\\":20.0,\\\"centrality\\\":46,\\\"blocking factor\\\":12,\\\"delay factor\\\":8.0},\\\"nameSub\\\":\\\"Intro Physics 1\\\",\\\"id\\\":10,\\\"credits\\\":4,\\\"nameCanonical\\\":\\\"\\\"}],\\\"id\\\":3},{\\\"name\\\":\\\"Term 4\\\",\\\"curriculum_items\\\":[{\\\"curriculum_requisites\\\":[{\\\"source_id\\\":10,\\\"target_id\\\":16,\\\"type\\\":\\\"CurriculumPrerequisite\\\"}],\\\"name\\\":\\\"PHYS  2212\\\",\\\"metrics\\\":{\\\"complexity\\\":19.0,\\\"centrality\\\":46,\\\"blocking factor\\\":11,\\\"delay factor\\\":8.0},\\\"nameSub\\\":\\\"Intro. Physics 2\\\",\\\"id\\\":16,\\\"credits\\\":4,\\\"nameCanonical\\\":\\\"\\\"},{\\\"curriculum_requisites\\\":[{\\\"source_id\\\":9,\\\"target_id\\\":20,\\\"type\\\":\\\"CurriculumPrerequisite\\\"}],\\\"name\\\":\\\"MATH 2551\\\",\\\"metrics\\\":{\\\"complexity\\\":5.0,\\\"centrality\\\":4,\\\"blocking factor\\\":1,\\\"delay factor\\\":4.0},\\\"nameSub\\\":\\\"Multivariate Calculus\\\",\\\"id\\\":20,\\\"credits\\\":4,\\\"nameCanonical\\\":\\\"\\\"},{\\\"curriculum_requisites\\\":[{\\\"source_id\\\":2,\\\"target_id\\\":12,\\\"type\\\":\\\"CurriculumPrerequisite\\\"},{\\\"source_id\\\":9,\\\"target_id\\\":12,\\\"type\\\":\\\"CurriculumPrerequisite\\\"}],\\\"name\\\":\\\"ECE 2026\\\",\\\"metrics\\\":{\\\"complexity\\\":9.0,\\\"centrality\\\":11,\\\"blocking factor\\\":3,\\\"delay factor\\\":6.0},\\\"nameSub\\\":\\\"Intro. to Signal Processing\\\",\\\"id\\\":12,\\\"credits\\\":3,\\\"nameCanonical\\\":\\\"\\\"},{\\\"curriculum_requisites\\\":[{\\\"source_id\\\":2,\\\"target_id\\\":7,\\\"type\\\":\\\"CurriculumPrerequisite\\\"}],\\\"name\\\":\\\"ECE 2020\\\",\\\"metrics\\\":{\\\"complexity\\\":11.0,\\\"centrality\\\":41,\\\"blocking factor\\\":5,\\\"delay factor\\\":6.0},\\\"nameSub\\\":\\\"Fund. of Digital System Design\\\",\\\"id\\\":7,\\\"credits\\\":3,\\\"nameCanonical\\\":\\\"\\\"},{\\\"curriculum_requisites\\\":[{\\\"source_id\\\":6,\\\"target_id\\\":15,\\\"type\\\":\\\"CurriculumPrerequisite\\\"},{\\\"source_id\\\":9,\\\"target_id\\\":15,\\\"type\\\":\\\"CurriculumPrerequisite\\\"}],\\\"name\\\":\\\"MATH 2552\\\",\\\"metrics\\\":{\\\"complexity\\\":18.0,\\\"centrality\\\":110,\\\"blocking factor\\\":11,\\\"delay factor\\\":7.0},\\\"nameSub\\\":\\\"Differential Equations\\\",\\\"id\\\":15,\\\"credits\\\":4,\\\"nameCanonical\\\":\\\"\\\"}],\\\"id\\\":4},{\\\"name\\\":\\\"Term 5\\\",\\\"curriculum_items\\\":[{\\\"curriculum_requisites\\\":[{\\\"source_id\\\":16,\\\"target_id\\\":19,\\\"type\\\":\\\"CurriculumPrerequisite\\\"},{\\\"source_id\\\":15,\\\"target_id\\\":19,\\\"type\\\":\\\"CurriculumPrerequisite\\\"}],\\\"name\\\":\\\"ECE 2040\\\",\\\"metrics\\\":{\\\"complexity\\\":18.0,\\\"centrality\\\":124,\\\"blocking factor\\\":10,\\\"delay factor\\\":8.0},\\\"nameSub\\\":\\\"Circuit Analysis\\\",\\\"id\\\":19,\\\"credits\\\":3,\\\"nameCanonical\\\":\\\"\\\"},{\\\"curriculum_requisites\\\":[{\\\"source_id\\\":7,\\\"target_id\\\":17,\\\"type\\\":\\\"CurriculumPrerequisite\\\"},{\\\"source_id\\\":18,\\\"target_id\\\":17,\\\"type\\\":\\\"CurriculumCorequisite\\\"}],\\\"name\\\":\\\"ECE 2031\\\",\\\"metrics\\\":{\\\"complexity\\\":9.0,\\\"centrality\\\":31,\\\"blocking factor\\\":3,\\\"delay factor\\\":6.0},\\\"nameSub\\\":\\\"Digital Design Lab\\\",\\\"id\\\":17,\\\"credits\\\":2,\\\"nameCanonical\\\":\\\"\\\"},{\\\"curriculum_requisites\\\":[],\\\"name\\\":\\\"CHEM 1310\\\",\\\"metrics\\\":{\\\"complexity\\\":6.0,\\\"centrality\\\":0,\\\"blocking factor\\\":3,\\\"delay factor\\\":3.0},\\\"nameSub\\\":\\\"General Chemistry\\\",\\\"id\\\":1,\\\"credits\\\":4,\\\"nameCanonical\\\":\\\"\\\"},{\\\"curriculum_requisites\\\":[{\\\"source_id\\\":20,\\\"target_id\\\":25,\\\"type\\\":\\\"CurriculumPrerequisite\\\"}],\\\"name\\\":\\\" \\\",\\\"metrics\\\":{\\\"complexity\\\":4.0,\\\"centrality\\\":0,\\\"blocking factor\\\":0,\\\"delay factor\\\":4.0},\\\"nameSub\\\":\\\"Prob & Stat Elective\\\",\\\"id\\\":25,\\\"credits\\\":3,\\\"nameCanonical\\\":\\\"\\\"},{\\\"curriculum_requisites\\\":[{\\\"source_id\\\":7,\\\"target_id\\\":18,\\\"type\\\":\\\"CurriculumPrerequisite\\\"}],\\\"name\\\":\\\"ECE 2035\\\",\\\"metrics\\\":{\\\"complexity\\\":10.0,\\\"centrality\\\":27,\\\"blocking factor\\\":4,\\\"delay factor\\\":6.0},\\\"nameSub\\\":\\\"Programming Elective\\\",\\\"id\\\":18,\\\"credits\\\":4,\\\"nameCanonical\\\":\\\"\\\"}],\\\"id\\\":5},{\\\"name\\\":\\\"Term 6\\\",\\\"curriculum_items\\\":[{\\\"curriculum_requisites\\\":[{\\\"source_id\\\":15,\\\"target_id\\\":24,\\\"type\\\":\\\"CurriculumPrerequisite\\\"},{\\\"source_id\\\":12,\\\"target_id\\\":24,\\\"type\\\":\\\"CurriculumPrerequisite\\\"},{\\\"source_id\\\":19,\\\"target_id\\\":24,\\\"type\\\":\\\"CurriculumPrerequisite\\\"}],\\\"name\\\":\\\"ECE 3025\\\",\\\"metrics\\\":{\\\"complexity\\\":10.0,\\\"centrality\\\":45,\\\"blocking factor\\\":2,\\\"delay factor\\\":8.0},\\\"nameSub\\\":\\\"Electromagnetics\\\",\\\"id\\\":24,\\\"credits\\\":3,\\\"nameCanonical\\\":\\\"\\\"},{\\\"curriculum_requisites\\\":[{\\\"source_id\\\":19,\\\"target_id\\\":37,\\\"type\\\":\\\"CurriculumPrerequisite\\\"}],\\\"name\\\":\\\" \\\",\\\"metrics\\\":{\\\"complexity\\\":6.0,\\\"centrality\\\":0,\\\"blocking factor\\\":0,\\\"delay factor\\\":6.0},\\\"nameSub\\\":\\\"ECE 3000\\/4000 Elective\\\",\\\"id\\\":37,\\\"credits\\\":3,\\\"nameCanonical\\\":\\\"\\\"},{\\\"curriculum_requisites\\\":[{\\\"source_id\\\":22,\\\"target_id\\\":23,\\\"type\\\":\\\"CurriculumCorequisite\\\"},{\\\"source_id\\\":17,\\\"target_id\\\":23,\\\"type\\\":\\\"CurriculumPrerequisite\\\"}],\\\"name\\\":\\\"ECE 3043\\\",\\\"metrics\\\":{\\\"complexity\\\":7.0,\\\"centrality\\\":0,\\\"blocking factor\\\":0,\\\"delay factor\\\":7.0},\\\"nameSub\\\":\\\"Measurements, Circuits and Microelectronics Lab\\\",\\\"id\\\":23,\\\"credits\\\":2,\\\"nameCanonical\\\":\\\"\\\"},{\\\"curriculum_requisites\\\":[{\\\"source_id\\\":15,\\\"target_id\\\":22,\\\"type\\\":\\\"CurriculumPrerequisite\\\"},{\\\"source_id\\\":18,\\\"target_id\\\":22,\\\"type\\\":\\\"CurriculumPrerequisite\\\"},{\\\"source_id\\\":17,\\\"target_id\\\":22,\\\"type\\\":\\\"CurriculumPrerequisite\\\"},{\\\"source_id\\\":1,\\\"target_id\\\":22,\\\"type\\\":\\\"CurriculumPrerequisite\\\"},{\\\"source_id\\\":19,\\\"target_id\\\":22,\\\"type\\\":\\\"CurriculumPrerequisite\\\"}],\\\"name\\\":\\\"ECE 3040\\\",\\\"metrics\\\":{\\\"complexity\\\":9.0,\\\"centrality\\\":96,\\\"blocking factor\\\":2,\\\"delay factor\\\":7.0},\\\"nameSub\\\":\\\"Microelectronic Circuits\\\",\\\"id\\\":22,\\\"credits\\\":4,\\\"nameCanonical\\\":\\\"\\\"},{\\\"curriculum_requisites\\\":[{\\\"source_id\\\":19,\\\"target_id\\\":43,\\\"type\\\":\\\"CurriculumPrerequisite\\\"}],\\\"name\\\":\\\" \\\",\\\"metrics\\\":{\\\"complexity\\\":6.0,\\\"centrality\\\":0,\\\"blocking factor\\\":0,\\\"delay factor\\\":6.0},\\\"nameSub\\\":\\\"ECE 3000\\/4000 Elective\\\",\\\"id\\\":43,\\\"credits\\\":3,\\\"nameCanonical\\\":\\\"\\\"},{\\\"curriculum_requisites\\\":[{\\\"source_id\\\":19,\\\"target_id\\\":42,\\\"type\\\":\\\"CurriculumPrerequisite\\\"}],\\\"name\\\":\\\" \\\",\\\"metrics\\\":{\\\"complexity\\\":6.0,\\\"centrality\\\":0,\\\"blocking factor\\\":0,\\\"delay factor\\\":6.0},\\\"nameSub\\\":\\\"ECE 3000\\/4000 Elective\\\",\\\"id\\\":42,\\\"credits\\\":3,\\\"nameCanonical\\\":\\\"\\\"}],\\\"id\\\":6},{\\\"name\\\":\\\"Term 7\\\",\\\"curriculum_items\\\":[{\\\"curriculum_requisites\\\":[{\\\"source_id\\\":24,\\\"target_id\\\":35,\\\"type\\\":\\\"CurriculumPrerequisite\\\"}],\\\"name\\\":\\\" \\\",\\\"metrics\\\":{\\\"complexity\\\":9.0,\\\"centrality\\\":45,\\\"blocking factor\\\":1,\\\"delay factor\\\":8.0},\\\"nameSub\\\":\\\"Senior Design Sequence\\\",\\\"id\\\":35,\\\"credits\\\":1,\\\"nameCanonical\\\":\\\"\\\"},{\\\"curriculum_requisites\\\":[{\\\"source_id\\\":19,\\\"target_id\\\":45,\\\"type\\\":\\\"CurriculumPrerequisite\\\"}],\\\"name\\\":\\\" \\\",\\\"metrics\\\":{\\\"complexity\\\":6.0,\\\"centrality\\\":0,\\\"blocking factor\\\":0,\\\"delay factor\\\":6.0},\\\"nameSub\\\":\\\"Circuit Technologies Topics\\\",\\\"id\\\":45,\\\"credits\\\":3,\\\"nameCanonical\\\":\\\"\\\"},{\\\"curriculum_requisites\\\":[],\\\"name\\\":\\\" \\\",\\\"metrics\\\":{\\\"complexity\\\":1.0,\\\"centrality\\\":0,\\\"blocking factor\\\":0,\\\"delay factor\\\":1.0},\\\"nameSub\\\":\\\"Econ\\/Social Science Elective\\\",\\\"id\\\":13,\\\"credits\\\":3,\\\"nameCanonical\\\":\\\"\\\"},{\\\"curriculum_requisites\\\":[],\\\"name\\\":\\\" \\\",\\\"metrics\\\":{\\\"complexity\\\":1.0,\\\"centrality\\\":0,\\\"blocking factor\\\":0,\\\"delay factor\\\":1.0},\\\"nameSub\\\":\\\"History\\/Government Elective\\\",\\\"id\\\":11,\\\"credits\\\":3,\\\"nameCanonical\\\":\\\"\\\"},{\\\"curriculum_requisites\\\":[{\\\"source_id\\\":22,\\\"target_id\\\":36,\\\"type\\\":\\\"CurriculumPrerequisite\\\"}],\\\"name\\\":\\\" \\\",\\\"metrics\\\":{\\\"complexity\\\":7.0,\\\"centrality\\\":0,\\\"blocking factor\\\":0,\\\"delay factor\\\":7.0},\\\"nameSub\\\":\\\"Electronic Devices Topics\\\",\\\"id\\\":36,\\\"credits\\\":3,\\\"nameCanonical\\\":\\\"\\\"},{\\\"curriculum_requisites\\\":[],\\\"name\\\":\\\" \\\",\\\"metrics\\\":{\\\"complexity\\\":1.0,\\\"centrality\\\":0,\\\"blocking factor\\\":0,\\\"delay factor\\\":1.0},\\\"nameSub\\\":\\\"Elective Hours\\\",\\\"id\\\":39,\\\"credits\\\":2,\\\"nameCanonical\\\":\\\"\\\"}],\\\"id\\\":7},{\\\"name\\\":\\\"Term 8\\\",\\\"curriculum_items\\\":[{\\\"curriculum_requisites\\\":[],\\\"name\\\":\\\" \\\",\\\"metrics\\\":{\\\"complexity\\\":1.0,\\\"centrality\\\":0,\\\"blocking factor\\\":0,\\\"delay factor\\\":1.0},\\\"nameSub\\\":\\\"Elective Hours\\\",\\\"id\\\":29,\\\"credits\\\":3,\\\"nameCanonical\\\":\\\"\\\"},{\\\"curriculum_requisites\\\":[],\\\"name\\\":\\\" \\\",\\\"metrics\\\":{\\\"complexity\\\":1.0,\\\"centrality\\\":0,\\\"blocking factor\\\":0,\\\"delay factor\\\":1.0},\\\"nameSub\\\":\\\"Science Elective\\\",\\\"id\\\":21,\\\"credits\\\":3,\\\"nameCanonical\\\":\\\"\\\"},{\\\"curriculum_requisites\\\":[{\\\"source_id\\\":35,\\\"target_id\\\":41,\\\"type\\\":\\\"CurriculumPrerequisite\\\"}],\\\"name\\\":\\\" \\\",\\\"metrics\\\":{\\\"complexity\\\":8.0,\\\"centrality\\\":0,\\\"blocking factor\\\":0,\\\"delay factor\\\":8.0},\\\"nameSub\\\":\\\"Senior Design Sequence\\\",\\\"id\\\":41,\\\"credits\\\":2,\\\"nameCanonical\\\":\\\"\\\"},{\\\"curriculum_requisites\\\":[],\\\"name\\\":\\\" \\\",\\\"metrics\\\":{\\\"complexity\\\":1.0,\\\"centrality\\\":0,\\\"blocking factor\\\":0,\\\"delay factor\\\":1.0},\\\"nameSub\\\":\\\"Humanities Elective\\\",\\\"id\\\":14,\\\"credits\\\":3,\\\"nameCanonical\\\":\\\"\\\"},{\\\"curriculum_requisites\\\":[],\\\"name\\\":\\\" \\\",\\\"metrics\\\":{\\\"complexity\\\":1.0,\\\"centrality\\\":0,\\\"blocking factor\\\":0,\\\"delay factor\\\":1.0},\\\"nameSub\\\":\\\"Social Science Elective\\\",\\\"id\\\":40,\\\"credits\\\":3,\\\"nameCanonical\\\":\\\"\\\"},{\\\"curriculum_requisites\\\":[],\\\"name\\\":\\\" \\\",\\\"metrics\\\":{\\\"complexity\\\":1.0,\\\"centrality\\\":0,\\\"blocking factor\\\":0,\\\"delay factor\\\":1.0},\\\"nameSub\\\":\\\"Humanities Elective\\\",\\\"id\\\":27,\\\"credits\\\":3,\\\"nameCanonical\\\":\\\"\\\"}],\\\"id\\\":8}],\\\"institution\\\":\\\"Georgia Institute of Technology\\\"}},\\\"*\\\"); window.removeEventListener(\\\"message\\\",window.messageReceived); window.messageReceived=(function (event){return (event.data.curriculum!==undefined) ? (WebIO.setval({\\\"name\\\":\\\"curriculum-data\\\",\\\"scope\\\":\\\"6960145415219535016\\\",\\\"id\\\":\\\"18002252389565642118\\\",\\\"type\\\":\\\"observable\\\"},event.data.curriculum)) : undefined}); return window.addEventListener(\\\"message\\\",window.messageReceived)})\"},\"style\":{\"padding\":\"0\",\"height\":\"100vh\",\"margin\":\"0\",\"border\":\"none\",\"width\":\"100%\"}},\"nodeType\":\"DOM\",\"type\":\"node\",\"instanceArgs\":{\"namespace\":\"html\",\"tag\":\"iframe\"},\"children\":[\"\"]}]},\n",
       "            window,\n",
       "        );\n",
       "    } else {\n",
       "        document\n",
       "            .querySelector('[data-webio-mountpoint=\"9918793592076927582\"]')\n",
       "            .innerHTML = (\n",
       "                '<div style=\"padding: 1em; background-color: #f8d6da; border: 1px solid #f5c6cb\">' +\n",
       "                '<p><strong>WebIO not detected.</strong></p>' +\n",
       "                '<p>Please read ' +\n",
       "                '<a href=\"https://juliagizmos.github.io/WebIO.jl/latest/troubleshooting/not-detected/\" target=\"_blank\">the troubleshooting guide</a> ' +\n",
       "                'for more information on how to resolve this issue.</p>' +\n",
       "                '<p><a href=\"https://juliagizmos.github.io/WebIO.jl/latest/troubleshooting/not-detected/\" target=\"_blank\">https://juliagizmos.github.io/WebIO.jl/latest/troubleshooting/not-detected/</a></p>' +\n",
       "                '</div>'\n",
       "            );\n",
       "    }\n",
       "    </script>\n",
       "</div>\n"
      ],
      "text/plain": [
       "WebIO.Scope(WebIO.Node{WebIO.DOM}(WebIO.DOM(:html, :iframe), Any[\"\"], Dict{Symbol, Any}(:src => \"https://curricula-api-embed.damoursystems.com/\", :id => \"curriculum\", :events => Dict{Symbol, WebIO.JSString}(:load => WebIO.JSString(\"(function (){this.contentWindow.postMessage({\\\"options\\\":{\\\"hideTerms\\\":false,\\\"edit\\\":false},\\\"curriculum\\\":{\\\"name\\\":\\\"Electrical Engineering - Electronic Devices and Circuit Technology\\\",\\\"dp_name\\\":\\\"\\\",\\\"curriculum_terms\\\":[{\\\"name\\\":\\\"Term 1\\\",\\\"curriculum_items\\\":[{\\\"curriculum_requisites\\\":[],\\\"name\\\":\\\"ECE 3450\\\",\\\"metrics\\\":{\\\"complexity\\\":1.0,\\\"centrality\\\":0,\\\"blocking factor\\\":0,\\\"delay factor\\\":1.0},\\\"nameSub\\\":\\\"\\\",\\\"id\\\":30,\\\"credits\\\":3,\\\"nameCanonical\\\":\\\"\\\"},{\\\"curriculum_requisites\\\":[],\\\"name\\\":\\\" \\\",\\\"metrics\\\":{\\\"complexity\\\":1.0,\\\"centrality\\\":0,\\\"blocking factor\\\":0,\\\"delay factor\\\":1.0},\\\"nameSub\\\":\\\"Elective Hours\\\",\\\"id\\\":44,\\\"credits\\\":3,\\\"nameCanonical\\\":\\\"\\\"},{\\\"curriculum_requisites\\\":[],\\\"name\\\":\\\"ECE 3400\\\",\\\"metrics\\\":{\\\"complexity\\\":1.0,\\\"centrality\\\":0,\\\"blocking factor\\\":0,\\\"delay factor\\\":1.0},\\\"nameSub\\\":\\\"\\\",\\\"id\\\":31,\\\"credits\\\":3,\\\"nameCanonical\\\":\\\"\\\"},{\\\"curriculum_requisites\\\":[],\\\"name\\\":\\\"ENGL 1101\\\",\\\"metrics\\\":{\\\"complexity\\\":3.0,\\\"centrality\\\":0,\\\"blocking factor\\\":1,\\\"delay factor\\\":2.0},\\\"nameSub\\\":\\\"English Composition I\\\",\\\"id\\\":4,\\\"credits\\\":3,\\\"nameCanonical\\\":\\\"\\\"},{\\\"curriculum_requisites\\\":[],\\\"name\\\":\\\" \\\",\\\"metrics\\\":{\\\"complexity\\\":1.0,\\\"centrality\\\":0,\\\"blocking factor\\\":0,\\\"delay factor\\\":1.0},\\\"nameSub\\\":\\\"Elective Hours\\\",\\\"id\\\":33,\\\"credits\\\":3,\\\"nameCanonical\\\":\\\"\\\"},{\\\"curriculum_requisites\\\":[],\\\"name\\\":\\\"APPH 1040\\\",\\\"metrics\\\":{\\\"complexity\\\":1.0,\\\"centrality\\\":0,\\\"blocking factor\\\":0,\\\"delay factor\\\":1.0},\\\"nameSub\\\":\\\"\\\",\\\"id\\\":26,\\\"credits\\\":2,\\\"nameCanonical\\\":\\\"\\\"}],\\\"id\\\":1},{\\\"name\\\":\\\"Term 2\\\",\\\"curriculum_items\\\":[{\\\"curriculum_requisites\\\":[],\\\"name\\\":\\\"MATH 1551\\\",\\\"metrics\\\":{\\\"complexity\\\":27.0,\\\"centrality\\\":0,\\\"blocking factor\\\":19,\\\"delay factor\\\":8.0},\\\"nameSub\\\":\\\"Differential Calculus\\\",\\\"id\\\":5,\\\"credits\\\":2,\\\"nameCanonical\\\":\\\"\\\"},{\\\"curriculum_requisites\\\":[{\\\"source_id\\\":5,\\\"target_id\\\":6,\\\"type\\\":\\\"CurriculumCorequisite\\\"}],\\\"name\\\":\\\"MATH 1554\\\",\\\"metrics\\\":{\\\"complexity\\\":19.0,\\\"centrality\\\":55,\\\"blocking factor\\\":12,\\\"delay factor\\\":7.0},\\\"nameSub\\\":\\\"Linear Algebra\\\",\\\"id\\\":6,\\\"credits\\\":4,\\\"nameCanonical\\\":\\\"\\\"},{\\\"curriculum_requisites\\\":[],\\\"name\\\":\\\"ECE 4452\\\",\\\"metrics\\\":{\\\"complexity\\\":1.0,\\\"centrality\\\":0,\\\"blocking factor\\\":0,\\\"delay factor\\\":1.0},\\\"nameSub\\\":\\\"\\\",\\\"id\\\":38,\\\"credits\\\":3,\\\"nameCanonical\\\":\\\"\\\"},{\\\"curriculum_requisites\\\":[{\\\"source_id\\\":4,\\\"target_id\\\":8,\\\"type\\\":\\\"CurriculumPrerequisite\\\"}],\\\"name\\\":\\\"ENGL 1102\\\",\\\"metrics\\\":{\\\"complexity\\\":2.0,\\\"centrality\\\":0,\\\"blocking factor\\\":0,\\\"delay factor\\\":2.0},\\\"nameSub\\\":\\\"English Composition II\\\",\\\"id\\\":8,\\\"credits\\\":3,\\\"nameCanonical\\\":\\\"\\\"}],\\\"id\\\":2},{\\\"name\\\":\\\"Term 3\\\",\\\"curriculum_items\\\":[{\\\"curriculum_requisites\\\":[],\\\"name\\\":\\\" \\\",\\\"metrics\\\":{\\\"complexity\\\":1.0,\\\"centrality\\\":0,\\\"blocking factor\\\":0,\\\"delay factor\\\":1.0},\\\"nameSub\\\":\\\"Social Science Elective\\\",\\\"id\\\":32,\\\"credits\\\":3,\\\"nameCanonical\\\":\\\"\\\"},{\\\"curriculum_requisites\\\":[{\\\"source_id\\\":5,\\\"target_id\\\":9,\\\"type\\\":\\\"CurriculumPrerequisite\\\"}],\\\"name\\\":\\\"MATH 1552\\\",\\\"metrics\\\":{\\\"complexity\\\":25.0,\\\"centrality\\\":111,\\\"blocking factor\\\":17,\\\"delay factor\\\":8.0},\\\"nameSub\\\":\\\"Integral Calculus\\\",\\\"id\\\":9,\\\"credits\\\":4,\\\"nameCanonical\\\":\\\"\\\"},{\\\"curriculum_requisites\\\":[],\\\"name\\\":\\\"ECE 3005\\\",\\\"metrics\\\":{\\\"complexity\\\":1.0,\\\"centrality\\\":0,\\\"blocking factor\\\":0,\\\"delay factor\\\":1.0},\\\"nameSub\\\":\\\"\\\",\\\"id\\\":28,\\\"credits\\\":1,\\\"nameCanonical\\\":\\\"\\\"},{\\\"curriculum_requisites\\\":[],\\\"name\\\":\\\"ECE 1100\\\",\\\"metrics\\\":{\\\"complexity\\\":1.0,\\\"centrality\\\":0,\\\"blocking factor\\\":0,\\\"delay factor\\\":1.0},\\\"nameSub\\\":\\\"ECE Discovery Studio\\\",\\\"id\\\":3,\\\"credits\\\":1,\\\"nameCanonical\\\":\\\"\\\"},{\\\"curriculum_requisites\\\":[],\\\"name\\\":\\\"CS 1301\\\",\\\"metrics\\\":{\\\"complexity\\\":16.0,\\\"centrality\\\":0,\\\"blocking factor\\\":10,\\\"delay factor\\\":6.0},\\\"nameSub\\\":\\\"Intro to Computing\\\",\\\"id\\\":2,\\\"credits\\\":3,\\\"nameCanonical\\\":\\\"\\\"},{\\\"curriculum_requisites\\\":[{\\\"source_id\\\":9,\\\"target_id\\\":10,\\\"type\\\":\\\"CurriculumCorequisite\\\"}],\\\"name\\\":\\\"PHYS  2211\\\",\\\"metrics\\\":{\\\"complexity\\\":20.0,\\\"centrality\\\":46,\\\"blocking factor\\\":12,\\\"delay factor\\\":8.0},\\\"nameSub\\\":\\\"Intro Physics 1\\\",\\\"id\\\":10,\\\"credits\\\":4,\\\"nameCanonical\\\":\\\"\\\"}],\\\"id\\\":3},{\\\"name\\\":\\\"Term 4\\\",\\\"curriculum_items\\\":[{\\\"curriculum_requisites\\\":[{\\\"source_id\\\":10,\\\"target_id\\\":16,\\\"type\\\":\\\"CurriculumPrerequisite\\\"}],\\\"name\\\":\\\"PHYS  2212\\\",\\\"metrics\\\":{\\\"complexity\\\":19.0,\\\"centrality\\\":46,\\\"blocking factor\\\":11,\\\"delay factor\\\":8.0},\\\"nameSub\\\":\\\"Intro. Physics 2\\\",\\\"id\\\":16,\\\"credits\\\":4,\\\"nameCanonical\\\":\\\"\\\"},{\\\"curriculum_requisites\\\":[{\\\"source_id\\\":9,\\\"target_id\\\":20,\\\"type\\\":\\\"CurriculumPrerequisite\\\"}],\\\"name\\\":\\\"MATH 2551\\\",\\\"metrics\\\":{\\\"complexity\\\":5.0,\\\"centrality\\\":4,\\\"blocking factor\\\":1,\\\"delay factor\\\":4.0},\\\"nameSub\\\":\\\"Multivariate Calculus\\\",\\\"id\\\":20,\\\"credits\\\":4,\\\"nameCanonical\\\":\\\"\\\"},{\\\"curriculum_requisites\\\":[{\\\"source_id\\\":2,\\\"target_id\\\":12,\\\"type\\\":\\\"CurriculumPrerequisite\\\"},{\\\"source_id\\\":9,\\\"target_id\\\":12,\\\"type\\\":\\\"CurriculumPrerequisite\\\"}],\\\"name\\\":\\\"ECE 2026\\\",\\\"metrics\\\":{\\\"complexity\\\":9.0,\\\"centrality\\\":11,\\\"blocking factor\\\":3,\\\"delay factor\\\":6.0},\\\"nameSub\\\":\\\"Intro. to Signal Processing\\\",\\\"id\\\":12,\\\"credits\\\":3,\\\"nameCanonical\\\":\\\"\\\"},{\\\"curriculum_requisites\\\":[{\\\"source_id\\\":2,\\\"target_id\\\":7,\\\"type\\\":\\\"CurriculumPrerequisite\\\"}],\\\"name\\\":\\\"ECE 2020\\\",\\\"metrics\\\":{\\\"complexity\\\":11.0,\\\"centrality\\\":41,\\\"blocking factor\\\":5,\\\"delay factor\\\":6.0},\\\"nameSub\\\":\\\"Fund. of Digital System Design\\\",\\\"id\\\":7,\\\"credits\\\":3,\\\"nameCanonical\\\":\\\"\\\"},{\\\"curriculum_requisites\\\":[{\\\"source_id\\\":6,\\\"target_id\\\":15,\\\"type\\\":\\\"CurriculumPrerequisite\\\"},{\\\"source_id\\\":9,\\\"target_id\\\":15,\\\"type\\\":\\\"CurriculumPrerequisite\\\"}],\\\"name\\\":\\\"MATH 2552\\\",\\\"metrics\\\":{\\\"complexity\\\":18.0,\\\"centrality\\\":110,\\\"blocking factor\\\":11,\\\"delay factor\\\":7.0},\\\"nameSub\\\":\\\"Differential Equations\\\",\\\"id\\\":15,\\\"credits\\\":4,\\\"nameCanonical\\\":\\\"\\\"}],\\\"id\\\":4},{\\\"name\\\":\\\"Term 5\\\",\\\"curriculum_items\\\":[{\\\"curriculum_requisites\\\":[{\\\"source_id\\\":16,\\\"target_id\\\":19,\\\"type\\\":\\\"CurriculumPrerequisite\\\"},{\\\"source_id\\\":15,\\\"target_id\\\":19,\\\"type\\\":\\\"CurriculumPrerequisite\\\"}],\\\"name\\\":\\\"ECE 2040\\\",\\\"metrics\\\":{\\\"complexity\\\":18.0,\\\"centrality\\\":124,\\\"blocking factor\\\":10,\\\"delay factor\\\":8.0},\\\"nameSub\\\":\\\"Circuit Analysis\\\",\\\"id\\\":19,\\\"credits\\\":3,\\\"nameCanonical\\\":\\\"\\\"},{\\\"curriculum_requisites\\\":[{\\\"source_id\\\":7,\\\"target_id\\\":17,\\\"type\\\":\\\"CurriculumPrerequisite\\\"},{\\\"source_id\\\":18,\\\"target_id\\\":17,\\\"type\\\":\\\"CurriculumCorequisite\\\"}],\\\"name\\\":\\\"ECE 2031\\\",\\\"metrics\\\":{\\\"complexity\\\":9.0,\\\"centrality\\\":31,\\\"blocking factor\\\":3,\\\"delay factor\\\":6.0},\\\"nameSub\\\":\\\"Digital Design Lab\\\",\\\"id\\\":17,\\\"credits\\\":2,\\\"nameCanonical\\\":\\\"\\\"},{\\\"curriculum_requisites\\\":[],\\\"name\\\":\\\"CHEM 1310\\\",\\\"metrics\\\":{\\\"complexity\\\":6.0,\\\"centrality\\\":0,\\\"blocking factor\\\":3,\\\"delay factor\\\":3.0},\\\"nameSub\\\":\\\"General Chemistry\\\",\\\"id\\\":1,\\\"credits\\\":4,\\\"nameCanonical\\\":\\\"\\\"},{\\\"curriculum_requisites\\\":[{\\\"source_id\\\":20,\\\"target_id\\\":25,\\\"type\\\":\\\"CurriculumPrerequisite\\\"}],\\\"name\\\":\\\" \\\",\\\"metrics\\\":{\\\"complexity\\\":4.0,\\\"centrality\\\":0,\\\"blocking factor\\\":0,\\\"delay factor\\\":4.0},\\\"nameSub\\\":\\\"Prob & Stat Elective\\\",\\\"id\\\":25,\\\"credits\\\":3,\\\"nameCanonical\\\":\\\"\\\"},{\\\"curriculum_requisites\\\":[{\\\"source_id\\\":7,\\\"target_id\\\":18,\\\"type\\\":\\\"CurriculumPrerequisite\\\"}],\\\"name\\\":\\\"ECE 2035\\\",\\\"metrics\\\":{\\\"complexity\\\":10.0,\\\"centrality\\\":27,\\\"blocking factor\\\":4,\\\"delay factor\\\":6.0},\\\"nameSub\\\":\\\"Programming Elective\\\",\\\"id\\\":18,\\\"credits\\\":4,\\\"nameCanonical\\\":\\\"\\\"}],\\\"id\\\":5},{\\\"name\\\":\\\"Term 6\\\",\\\"curriculum_items\\\":[{\\\"curriculum_requisites\\\":[{\\\"source_id\\\":15,\\\"target_id\\\":24,\\\"type\\\":\\\"CurriculumPrerequisite\\\"},{\\\"source_id\\\":12,\\\"target_id\\\":24,\\\"type\\\":\\\"CurriculumPrerequisite\\\"},{\\\"source_id\\\":19,\\\"target_id\\\":24,\\\"type\\\":\\\"CurriculumPrerequisite\\\"}],\\\"name\\\":\\\"ECE 3025\\\",\\\"metrics\\\":{\\\"complexity\\\":10.0,\\\"centrality\\\":45,\\\"blocking factor\\\":2,\\\"delay factor\\\":8.0},\\\"nameSub\\\":\\\"Electromagnetics\\\",\\\"id\\\":24,\\\"credits\\\":3,\\\"nameCanonical\\\":\\\"\\\"},{\\\"curriculum_requisites\\\":[{\\\"source_id\\\":19,\\\"target_id\\\":37,\\\"type\\\":\\\"CurriculumPrerequisite\\\"}],\\\"name\\\":\\\" \\\",\\\"metrics\\\":{\\\"complexity\\\":6.0,\\\"centrality\\\":0,\\\"blocking factor\\\":0,\\\"delay factor\\\":6.0},\\\"nameSub\\\":\\\"ECE 3000/4000 Elective\\\",\\\"id\\\":37,\\\"credits\\\":3,\\\"nameCanonical\\\":\\\"\\\"},{\\\"curriculum_requisites\\\":[{\\\"source_id\\\":22,\\\"target_id\\\":23,\\\"type\\\":\\\"CurriculumCorequisite\\\"},{\\\"source_id\\\":17,\\\"target_id\\\":23,\\\"type\\\":\\\"CurriculumPrerequisite\\\"}],\\\"name\\\":\\\"ECE 3043\\\",\\\"metrics\\\":{\\\"complexity\\\":7.0,\\\"centrality\\\":0,\\\"blocking factor\\\":0,\\\"delay factor\\\":7.0},\\\"nameSub\\\":\\\"Measurements, Circuits and Microelectronics Lab\\\",\\\"id\\\":23,\\\"credits\\\":2,\\\"nameCanonical\\\":\\\"\\\"},{\\\"curriculum_requisites\\\":[{\\\"source_id\\\":15,\\\"target_id\\\":22,\\\"type\\\":\\\"CurriculumPrerequisite\\\"},{\\\"source_id\\\":18,\\\"target_id\\\":22,\\\"type\\\":\\\"CurriculumPrerequisite\\\"},{\\\"source_id\\\":17,\\\"target_id\\\":22,\\\"type\\\":\\\"CurriculumPrerequisite\\\"},{\\\"source_id\\\":1,\\\"target_id\\\":22,\\\"type\\\":\\\"CurriculumPrerequisite\\\"},{\\\"source_id\\\":19,\\\"target_id\\\":22,\\\"type\\\":\\\"CurriculumPrerequisite\\\"}],\\\"name\\\":\\\"ECE 3040\\\",\\\"metrics\\\":{\\\"complexity\\\":9.0,\\\"centrality\\\":96,\\\"blocking factor\\\":2,\\\"delay factor\\\":7.0},\\\"nameSub\\\":\\\"Microelectronic Circuits\\\",\\\"id\\\":22,\\\"credits\\\":4,\\\"nameCanonical\\\":\\\"\\\"},{\\\"curriculum_requisites\\\":[{\\\"source_id\\\":19,\\\"target_id\\\":43,\\\"type\\\":\\\"CurriculumPrerequisite\\\"}],\\\"name\\\":\\\" \\\",\\\"metrics\\\":{\\\"complexity\\\":6.0,\\\"centrality\\\":0,\\\"blocking factor\\\":0,\\\"delay factor\\\":6.0},\\\"nameSub\\\":\\\"ECE 3000/4000 Elective\\\",\\\"id\\\":43,\\\"credits\\\":3,\\\"nameCanonical\\\":\\\"\\\"},{\\\"curriculum_requisites\\\":[{\\\"source_id\\\":19,\\\"target_id\\\":42,\\\"type\\\":\\\"CurriculumPrerequisite\\\"}],\\\"name\\\":\\\" \\\",\\\"metrics\\\":{\\\"complexity\\\":6.0,\\\"centrality\\\":0,\\\"blocking factor\\\":0,\\\"delay factor\\\":6.0},\\\"nameSub\\\":\\\"ECE 3000/4000 Elective\\\",\\\"id\\\":42,\\\"credits\\\":3,\\\"nameCanonical\\\":\\\"\\\"}],\\\"id\\\":6},{\\\"name\\\":\\\"Term 7\\\",\\\"curriculum_items\\\":[{\\\"curriculum_requisites\\\":[{\\\"source_id\\\":24,\\\"target_id\\\":35,\\\"type\\\":\\\"CurriculumPrerequisite\\\"}],\\\"name\\\":\\\" \\\",\\\"metrics\\\":{\\\"complexity\\\":9.0,\\\"centrality\\\":45,\\\"blocking factor\\\":1,\\\"delay factor\\\":8.0},\\\"nameSub\\\":\\\"Senior Design Sequence\\\",\\\"id\\\":35,\\\"credits\\\":1,\\\"nameCanonical\\\":\\\"\\\"},{\\\"curriculum_requisites\\\":[{\\\"source_id\\\":19,\\\"target_id\\\":45,\\\"type\\\":\\\"CurriculumPrerequisite\\\"}],\\\"name\\\":\\\" \\\",\\\"metrics\\\":{\\\"complexity\\\":6.0,\\\"centrality\\\":0,\\\"blocking factor\\\":0,\\\"delay factor\\\":6.0},\\\"nameSub\\\":\\\"Circuit Technologies Topics\\\",\\\"id\\\":45,\\\"credits\\\":3,\\\"nameCanonical\\\":\\\"\\\"},{\\\"curriculum_requisites\\\":[],\\\"name\\\":\\\" \\\",\\\"metrics\\\":{\\\"complexity\\\":1.0,\\\"centrality\\\":0,\\\"blocking factor\\\":0,\\\"delay factor\\\":1.0},\\\"nameSub\\\":\\\"Econ/Social Science Elective\\\",\\\"id\\\":13,\\\"credits\\\":3,\\\"nameCanonical\\\":\\\"\\\"},{\\\"curriculum_requisites\\\":[],\\\"name\\\":\\\" \\\",\\\"metrics\\\":{\\\"complexity\\\":1.0,\\\"centrality\\\":0,\\\"blocking factor\\\":0,\\\"delay factor\\\":1.0},\\\"nameSub\\\":\\\"History/Government Elective\\\",\\\"id\\\":11,\\\"credits\\\":3,\\\"nameCanonical\\\":\\\"\\\"},{\\\"curriculum_requisites\\\":[{\\\"source_id\\\":22,\\\"target_id\\\":36,\\\"type\\\":\\\"CurriculumPrerequisite\\\"}],\\\"name\\\":\\\" \\\",\\\"metrics\\\":{\\\"complexity\\\":7.0,\\\"centrality\\\":0,\\\"blocking factor\\\":0,\\\"delay factor\\\":7.0},\\\"nameSub\\\":\\\"Electronic Devices Topics\\\",\\\"id\\\":36,\\\"credits\\\":3,\\\"nameCanonical\\\":\\\"\\\"},{\\\"curriculum_requisites\\\":[],\\\"name\\\":\\\" \\\",\\\"metrics\\\":{\\\"complexity\\\":1.0,\\\"centrality\\\":0,\\\"blocking factor\\\":0,\\\"delay factor\\\":1.0},\\\"nameSub\\\":\\\"Elective Hours\\\",\\\"id\\\":39,\\\"credits\\\":2,\\\"nameCanonical\\\":\\\"\\\"}],\\\"id\\\":7},{\\\"name\\\":\\\"Term 8\\\",\\\"curriculum_items\\\":[{\\\"curriculum_requisites\\\":[],\\\"name\\\":\\\" \\\",\\\"metrics\\\":{\\\"complexity\\\":1.0,\\\"centrality\\\":0,\\\"blocking factor\\\":0,\\\"delay factor\\\":1.0},\\\"nameSub\\\":\\\"Elective Hours\\\",\\\"id\\\":29,\\\"credits\\\":3,\\\"nameCanonical\\\":\\\"\\\"},{\\\"curriculum_requisites\\\":[],\\\"name\\\":\\\" \\\",\\\"metrics\\\":{\\\"complexity\\\":1.0,\\\"centrality\\\":0,\\\"blocking factor\\\":0,\\\"delay factor\\\":1.0},\\\"nameSub\\\":\\\"Science Elective\\\",\\\"id\\\":21,\\\"credits\\\":3,\\\"nameCanonical\\\":\\\"\\\"},{\\\"curriculum_requisites\\\":[{\\\"source_id\\\":35,\\\"target_id\\\":41,\\\"type\\\":\\\"CurriculumPrerequisite\\\"}],\\\"name\\\":\\\" \\\",\\\"metrics\\\":{\\\"complexity\\\":8.0,\\\"centrality\\\":0,\\\"blocking factor\\\":0,\\\"delay factor\\\":8.0},\\\"nameSub\\\":\\\"Senior Design Sequence\\\",\\\"id\\\":41,\\\"credits\\\":2,\\\"nameCanonical\\\":\\\"\\\"},{\\\"curriculum_requisites\\\":[],\\\"name\\\":\\\" \\\",\\\"metrics\\\":{\\\"complexity\\\":1.0,\\\"centrality\\\":0,\\\"blocking factor\\\":0,\\\"delay factor\\\":1.0},\\\"nameSub\\\":\\\"Humanities Elective\\\",\\\"id\\\":14,\\\"credits\\\":3,\\\"nameCanonical\\\":\\\"\\\"},{\\\"curriculum_requisites\\\":[],\\\"name\\\":\\\" \\\",\\\"metrics\\\":{\\\"complexity\\\":1.0,\\\"centrality\\\":0,\\\"blocking factor\\\":0,\\\"delay factor\\\":1.0},\\\"nameSub\\\":\\\"Social Science Elective\\\",\\\"id\\\":40,\\\"credits\\\":3,\\\"nameCanonical\\\":\\\"\\\"},{\\\"curriculum_requisites\\\":[],\\\"name\\\":\\\" \\\",\\\"metrics\\\":{\\\"complexity\\\":1.0,\\\"centrality\\\":0,\\\"blocking factor\\\":0,\\\"delay factor\\\":1.0},\\\"nameSub\\\":\\\"Humanities Elective\\\",\\\"id\\\":27,\\\"credits\\\":3,\\\"nameCanonical\\\":\\\"\\\"}],\\\"id\\\":8}],\\\"institution\\\":\\\"Georgia Institute of Technology\\\"}},\\\"*\\\"); window.removeEventListener(\\\"message\\\",window.messageReceived); window.messageReceived=(function (event){return (event.data.curriculum!==undefined) ? (WebIO.setval({\\\"name\\\":\\\"curriculum-data\\\",\\\"scope\\\":\\\"6960145415219535016\\\",\\\"id\\\":\\\"18002252389565642118\\\",\\\"type\\\":\\\"observable\\\"},event.data.curriculum)) : undefined}); return window.addEventListener(\\\"message\\\",window.messageReceived)})\")), :style => Dict(:padding => \"0\", :height => \"100vh\", :margin => \"0\", :border => \"none\", :width => \"100%\"))), Dict{String, Tuple{Observables.AbstractObservable, Union{Nothing, Bool}}}(\"curriculum-data\" => (Observable{Dict{String, Any}} with 1 listeners. Value:\n",
       "Dict{String, Any}(\"options\" => Dict{String, Any}(\"hideTerms\" => false, \"edit\" => false), \"curriculum\" => Dict{String, Any}(\"name\" => \"Electrical Engineering - Electronic Devices and Circuit Technology\", \"dp_name\" => \"\", \"curriculum_terms\" => Dict{String, Any}[Dict(\"name\" => \"Term 1\", \"curriculum_items\" => Dict{String, Any}[Dict(\"curriculum_requisites\" => Dict{String, Any}[], \"name\" => \"ECE 3450\", \"metrics\" => Dict{String, Any}(\"complexity\" => 1.0, \"centrality\" => 0, \"blocking factor\" => 0, \"delay factor\" => 1.0), \"nameSub\" => \"\", \"id\" => 30, \"credits\" => 3, \"nameCanonical\" => \"\"), Dict(\"curriculum_requisites\" => Dict{String, Any}[], \"name\" => \" \", \"metrics\" => Dict{String, Any}(\"complexity\" => 1.0, \"centrality\" => 0, \"blocking factor\" => 0, \"delay factor\" => 1.0), \"nameSub\" => \"Elective Hours\", \"id\" => 44, \"credits\" => 3, \"nameCanonical\" => \"\"), Dict(\"curriculum_requisites\" => Dict{String, Any}[], \"name\" => \"ECE 3400\", \"metrics\" => Dict{String, Any}(\"complexity\" => 1.0, \"centrality\" => 0, \"blocking factor\" => 0, \"delay factor\" => 1.0), \"nameSub\" => \"\", \"id\" => 31, \"credits\" => 3, \"nameCanonical\" => \"\"), Dict(\"curriculum_requisites\" => Dict{String, Any}[], \"name\" => \"ENGL 1101\", \"metrics\" => Dict{String, Any}(\"complexity\" => 3.0, \"centrality\" => 0, \"blocking factor\" => 1, \"delay factor\" => 2.0), \"nameSub\" => \"English Composition I\", \"id\" => 4, \"credits\" => 3, \"nameCanonical\" => \"\"), Dict(\"curriculum_requisites\" => Dict{String, Any}[], \"name\" => \" \", \"metrics\" => Dict{String, Any}(\"complexity\" => 1.0, \"centrality\" => 0, \"blocking factor\" => 0, \"delay factor\" => 1.0), \"nameSub\" => \"Elective Hours\", \"id\" => 33, \"credits\" => 3, \"nameCanonical\" => \"\"), Dict(\"curriculum_requisites\" => Dict{String, Any}[], \"name\" => \"APPH 1040\", \"metrics\" => Dict{String, Any}(\"complexity\" => 1.0, \"centrality\" => 0, \"blocking factor\" => 0, \"delay factor\" => 1.0), \"nameSub\" => \"\", \"id\" => 26, \"credits\" => 2, \"nameCanonical\" => \"\")], \"id\" => 1), Dict(\"name\" => \"Term 2\", \"curriculum_items\" => Dict{String, Any}[Dict(\"curriculum_requisites\" => Dict{String, Any}[], \"name\" => \"MATH 1551\", \"metrics\" => Dict{String, Any}(\"complexity\" => 27.0, \"centrality\" => 0, \"blocking factor\" => 19, \"delay factor\" => 8.0), \"nameSub\" => \"Differential Calculus\", \"id\" => 5, \"credits\" => 2, \"nameCanonical\" => \"\"), Dict(\"curriculum_requisites\" => Dict{String, Any}[Dict(\"source_id\" => 5, \"target_id\" => 6, \"type\" => \"CurriculumCorequisite\")], \"name\" => \"MATH 1554\", \"metrics\" => Dict{String, Any}(\"complexity\" => 19.0, \"centrality\" => 55, \"blocking factor\" => 12, \"delay factor\" => 7.0), \"nameSub\" => \"Linear Algebra\", \"id\" => 6, \"credits\" => 4, \"nameCanonical\" => \"\"), Dict(\"curriculum_requisites\" => Dict{String, Any}[], \"name\" => \"ECE 4452\", \"metrics\" => Dict{String, Any}(\"complexity\" => 1.0, \"centrality\" => 0, \"blocking factor\" => 0, \"delay factor\" => 1.0), \"nameSub\" => \"\", \"id\" => 38, \"credits\" => 3, \"nameCanonical\" => \"\"), Dict(\"curriculum_requisites\" => Dict{String, Any}[Dict(\"source_id\" => 4, \"target_id\" => 8, \"type\" => \"CurriculumPrerequisite\")], \"name\" => \"ENGL 1102\", \"metrics\" => Dict{String, Any}(\"complexity\" => 2.0, \"centrality\" => 0, \"blocking factor\" => 0, \"delay factor\" => 2.0), \"nameSub\" => \"English Composition II\", \"id\" => 8, \"credits\" => 3, \"nameCanonical\" => \"\")], \"id\" => 2), Dict(\"name\" => \"Term 3\", \"curriculum_items\" => Dict{String, Any}[Dict(\"curriculum_requisites\" => Dict{String, Any}[], \"name\" => \" \", \"metrics\" => Dict{String, Any}(\"complexity\" => 1.0, \"centrality\" => 0, \"blocking factor\" => 0, \"delay factor\" => 1.0), \"nameSub\" => \"Social Science Elective\", \"id\" => 32, \"credits\" => 3, \"nameCanonical\" => \"\"), Dict(\"curriculum_requisites\" => Dict{String, Any}[Dict(\"source_id\" => 5, \"target_id\" => 9, \"type\" => \"CurriculumPrerequisite\")], \"name\" => \"MATH 1552\", \"metrics\" => Dict{String, Any}(\"complexity\" => 25.0, \"centrality\" => 111, \"blocking factor\" => 17, \"delay factor\" => 8.0), \"nameSub\" => \"Integral Calculus\", \"id\" => 9, \"credits\" => 4, \"nameCanonical\" => \"\"), Dict(\"curriculum_requisites\" => Dict{String, Any}[], \"name\" => \"ECE 3005\", \"metrics\" => Dict{String, Any}(\"complexity\" => 1.0, \"centrality\" => 0, \"blocking factor\" => 0, \"delay factor\" => 1.0), \"nameSub\" => \"\", \"id\" => 28, \"credits\" => 1, \"nameCanonical\" => \"\"), Dict(\"curriculum_requisites\" => Dict{String, Any}[], \"name\" => \"ECE 1100\", \"metrics\" => Dict{String, Any}(\"complexity\" => 1.0, \"centrality\" => 0, \"blocking factor\" => 0, \"delay factor\" => 1.0), \"nameSub\" => \"ECE Discovery Studio\", \"id\" => 3, \"credits\" => 1, \"nameCanonical\" => \"\"), Dict(\"curriculum_requisites\" => Dict{String, Any}[], \"name\" => \"CS 1301\", \"metrics\" => Dict{String, Any}(\"complexity\" => 16.0, \"centrality\" => 0, \"blocking factor\" => 10, \"delay factor\" => 6.0), \"nameSub\" => \"Intro to Computing\", \"id\" => 2, \"credits\" => 3, \"nameCanonical\" => \"\"), Dict(\"curriculum_requisites\" => Dict{String, Any}[Dict(\"source_id\" => 9, \"target_id\" => 10, \"type\" => \"CurriculumCorequisite\")], \"name\" => \"PHYS  2211\", \"metrics\" => Dict{String, Any}(\"complexity\" => 20.0, \"centrality\" => 46, \"blocking factor\" => 12, \"delay factor\" => 8.0), \"nameSub\" => \"Intro Physics 1\", \"id\" => 10, \"credits\" => 4, \"nameCanonical\" => \"\")], \"id\" => 3), Dict(\"name\" => \"Term 4\", \"curriculum_items\" => Dict{String, Any}[Dict(\"curriculum_requisites\" => Dict{String, Any}[Dict(\"source_id\" => 10, \"target_id\" => 16, \"type\" => \"CurriculumPrerequisite\")], \"name\" => \"PHYS  2212\", \"metrics\" => Dict{String, Any}(\"complexity\" => 19.0, \"centrality\" => 46, \"blocking factor\" => 11, \"delay factor\" => 8.0), \"nameSub\" => \"Intro. Physics 2\", \"id\" => 16, \"credits\" => 4, \"nameCanonical\" => \"\"), Dict(\"curriculum_requisites\" => Dict{String, Any}[Dict(\"source_id\" => 9, \"target_id\" => 20, \"type\" => \"CurriculumPrerequisite\")], \"name\" => \"MATH 2551\", \"metrics\" => Dict{String, Any}(\"complexity\" => 5.0, \"centrality\" => 4, \"blocking factor\" => 1, \"delay factor\" => 4.0), \"nameSub\" => \"Multivariate Calculus\", \"id\" => 20, \"credits\" => 4, \"nameCanonical\" => \"\"), Dict(\"curriculum_requisites\" => Dict{String, Any}[Dict(\"source_id\" => 2, \"target_id\" => 12, \"type\" => \"CurriculumPrerequisite\"), Dict(\"source_id\" => 9, \"target_id\" => 12, \"type\" => \"CurriculumPrerequisite\")], \"name\" => \"ECE 2026\", \"metrics\" => Dict{String, Any}(\"complexity\" => 9.0, \"centrality\" => 11, \"blocking factor\" => 3, \"delay factor\" => 6.0), \"nameSub\" => \"Intro. to Signal Processing\", \"id\" => 12, \"credits\" => 3, \"nameCanonical\" => \"\"), Dict(\"curriculum_requisites\" => Dict{String, Any}[Dict(\"source_id\" => 2, \"target_id\" => 7, \"type\" => \"CurriculumPrerequisite\")], \"name\" => \"ECE 2020\", \"metrics\" => Dict{String, Any}(\"complexity\" => 11.0, \"centrality\" => 41, \"blocking factor\" => 5, \"delay factor\" => 6.0), \"nameSub\" => \"Fund. of Digital System Design\", \"id\" => 7, \"credits\" => 3, \"nameCanonical\" => \"\"), Dict(\"curriculum_requisites\" => Dict{String, Any}[Dict(\"source_id\" => 6, \"target_id\" => 15, \"type\" => \"CurriculumPrerequisite\"), Dict(\"source_id\" => 9, \"target_id\" => 15, \"type\" => \"CurriculumPrerequisite\")], \"name\" => \"MATH 2552\", \"metrics\" => Dict{String, Any}(\"complexity\" => 18.0, \"centrality\" => 110, \"blocking factor\" => 11, \"delay factor\" => 7.0), \"nameSub\" => \"Differential Equations\", \"id\" => 15, \"credits\" => 4, \"nameCanonical\" => \"\")], \"id\" => 4), Dict(\"name\" => \"Term 5\", \"curriculum_items\" => Dict{String, Any}[Dict(\"curriculum_requisites\" => Dict{String, Any}[Dict(\"source_id\" => 16, \"target_id\" => 19, \"type\" => \"CurriculumPrerequisite\"), Dict(\"source_id\" => 15, \"target_id\" => 19, \"type\" => \"CurriculumPrerequisite\")], \"name\" => \"ECE 2040\", \"metrics\" => Dict{String, Any}(\"complexity\" => 18.0, \"centrality\" => 124, \"blocking factor\" => 10, \"delay factor\" => 8.0), \"nameSub\" => \"Circuit Analysis\", \"id\" => 19, \"credits\" => 3, \"nameCanonical\" => \"\"), Dict(\"curriculum_requisites\" => Dict{String, Any}[Dict(\"source_id\" => 7, \"target_id\" => 17, \"type\" => \"CurriculumPrerequisite\"), Dict(\"source_id\" => 18, \"target_id\" => 17, \"type\" => \"CurriculumCorequisite\")], \"name\" => \"ECE 2031\", \"metrics\" => Dict{String, Any}(\"complexity\" => 9.0, \"centrality\" => 31, \"blocking factor\" => 3, \"delay factor\" => 6.0), \"nameSub\" => \"Digital Design Lab\", \"id\" => 17, \"credits\" => 2, \"nameCanonical\" => \"\"), Dict(\"curriculum_requisites\" => Dict{String, Any}[], \"name\" => \"CHEM 1310\", \"metrics\" => Dict{String, Any}(\"complexity\" => 6.0, \"centrality\" => 0, \"blocking factor\" => 3, \"delay factor\" => 3.0), \"nameSub\" => \"General Chemistry\", \"id\" => 1, \"credits\" => 4, \"nameCanonical\" => \"\"), Dict(\"curriculum_requisites\" => Dict{String, Any}[Dict(\"source_id\" => 20, \"target_id\" => 25, \"type\" => \"CurriculumPrerequisite\")], \"name\" => \" \", \"metrics\" => Dict{String, Any}(\"complexity\" => 4.0, \"centrality\" => 0, \"blocking factor\" => 0, \"delay factor\" => 4.0), \"nameSub\" => \"Prob & Stat Elective\", \"id\" => 25, \"credits\" => 3, \"nameCanonical\" => \"\"), Dict(\"curriculum_requisites\" => Dict{String, Any}[Dict(\"source_id\" => 7, \"target_id\" => 18, \"type\" => \"CurriculumPrerequisite\")], \"name\" => \"ECE 2035\", \"metrics\" => Dict{String, Any}(\"complexity\" => 10.0, \"centrality\" => 27, \"blocking factor\" => 4, \"delay factor\" => 6.0), \"nameSub\" => \"Programming Elective\", \"id\" => 18, \"credits\" => 4, \"nameCanonical\" => \"\")], \"id\" => 5), Dict(\"name\" => \"Term 6\", \"curriculum_items\" => Dict{String, Any}[Dict(\"curriculum_requisites\" => Dict{String, Any}[Dict(\"source_id\" => 15, \"target_id\" => 24, \"type\" => \"CurriculumPrerequisite\"), Dict(\"source_id\" => 12, \"target_id\" => 24, \"type\" => \"CurriculumPrerequisite\"), Dict(\"source_id\" => 19, \"target_id\" => 24, \"type\" => \"CurriculumPrerequisite\")], \"name\" => \"ECE 3025\", \"metrics\" => Dict{String, Any}(\"complexity\" => 10.0, \"centrality\" => 45, \"blocking factor\" => 2, \"delay factor\" => 8.0), \"nameSub\" => \"Electromagnetics\", \"id\" => 24, \"credits\" => 3, \"nameCanonical\" => \"\"), Dict(\"curriculum_requisites\" => Dict{String, Any}[Dict(\"source_id\" => 19, \"target_id\" => 37, \"type\" => \"CurriculumPrerequisite\")], \"name\" => \" \", \"metrics\" => Dict{String, Any}(\"complexity\" => 6.0, \"centrality\" => 0, \"blocking factor\" => 0, \"delay factor\" => 6.0), \"nameSub\" => \"ECE 3000/4000 Elective\", \"id\" => 37, \"credits\" => 3, \"nameCanonical\" => \"\"), Dict(\"curriculum_requisites\" => Dict{String, Any}[Dict(\"source_id\" => 22, \"target_id\" => 23, \"type\" => \"CurriculumCorequisite\"), Dict(\"source_id\" => 17, \"target_id\" => 23, \"type\" => \"CurriculumPrerequisite\")], \"name\" => \"ECE 3043\", \"metrics\" => Dict{String, Any}(\"complexity\" => 7.0, \"centrality\" => 0, \"blocking factor\" => 0, \"delay factor\" => 7.0), \"nameSub\" => \"Measurements, Circuits and Microelectronics Lab\", \"id\" => 23, \"credits\" => 2, \"nameCanonical\" => \"\"), Dict(\"curriculum_requisites\" => Dict{String, Any}[Dict(\"source_id\" => 15, \"target_id\" => 22, \"type\" => \"CurriculumPrerequisite\"), Dict(\"source_id\" => 18, \"target_id\" => 22, \"type\" => \"CurriculumPrerequisite\"), Dict(\"source_id\" => 17, \"target_id\" => 22, \"type\" => \"CurriculumPrerequisite\"), Dict(\"source_id\" => 1, \"target_id\" => 22, \"type\" => \"CurriculumPrerequisite\"), Dict(\"source_id\" => 19, \"target_id\" => 22, \"type\" => \"CurriculumPrerequisite\")], \"name\" => \"ECE 3040\", \"metrics\" => Dict{String, Any}(\"complexity\" => 9.0, \"centrality\" => 96, \"blocking factor\" => 2, \"delay factor\" => 7.0), \"nameSub\" => \"Microelectronic Circuits\", \"id\" => 22, \"credits\" => 4, \"nameCanonical\" => \"\"), Dict(\"curriculum_requisites\" => Dict{String, Any}[Dict(\"source_id\" => 19, \"target_id\" => 43, \"type\" => \"CurriculumPrerequisite\")], \"name\" => \" \", \"metrics\" => Dict{String, Any}(\"complexity\" => 6.0, \"centrality\" => 0, \"blocking factor\" => 0, \"delay factor\" => 6.0), \"nameSub\" => \"ECE 3000/4000 Elective\", \"id\" => 43, \"credits\" => 3, \"nameCanonical\" => \"\"), Dict(\"curriculum_requisites\" => Dict{String, Any}[Dict(\"source_id\" => 19, \"target_id\" => 42, \"type\" => \"CurriculumPrerequisite\")], \"name\" => \" \", \"metrics\" => Dict{String, Any}(\"complexity\" => 6.0, \"centrality\" => 0, \"blocking factor\" => 0, \"delay factor\" => 6.0), \"nameSub\" => \"ECE 3000/4000 Elective\", \"id\" => 42, \"credits\" => 3, \"nameCanonical\" => \"\")], \"id\" => 6), Dict(\"name\" => \"Term 7\", \"curriculum_items\" => Dict{String, Any}[Dict(\"curriculum_requisites\" => Dict{String, Any}[Dict(\"source_id\" => 24, \"target_id\" => 35, \"type\" => \"CurriculumPrerequisite\")], \"name\" => \" \", \"metrics\" => Dict{String, Any}(\"complexity\" => 9.0, \"centrality\" => 45, \"blocking factor\" => 1, \"delay factor\" => 8.0), \"nameSub\" => \"Senior Design Sequence\", \"id\" => 35, \"credits\" => 1, \"nameCanonical\" => \"\"), Dict(\"curriculum_requisites\" => Dict{String, Any}[Dict(\"source_id\" => 19, \"target_id\" => 45, \"type\" => \"CurriculumPrerequisite\")], \"name\" => \" \", \"metrics\" => Dict{String, Any}(\"complexity\" => 6.0, \"centrality\" => 0, \"blocking factor\" => 0, \"delay factor\" => 6.0), \"nameSub\" => \"Circuit Technologies Topics\", \"id\" => 45, \"credits\" => 3, \"nameCanonical\" => \"\"), Dict(\"curriculum_requisites\" => Dict{String, Any}[], \"name\" => \" \", \"metrics\" => Dict{String, Any}(\"complexity\" => 1.0, \"centrality\" => 0, \"blocking factor\" => 0, \"delay factor\" => 1.0), \"nameSub\" => \"Econ/Social Science Elective\", \"id\" => 13, \"credits\" => 3, \"nameCanonical\" => \"\"), Dict(\"curriculum_requisites\" => Dict{String, Any}[], \"name\" => \" \", \"metrics\" => Dict{String, Any}(\"complexity\" => 1.0, \"centrality\" => 0, \"blocking factor\" => 0, \"delay factor\" => 1.0), \"nameSub\" => \"History/Government Elective\", \"id\" => 11, \"credits\" => 3, \"nameCanonical\" => \"\"), Dict(\"curriculum_requisites\" => Dict{String, Any}[Dict(\"source_id\" => 22, \"target_id\" => 36, \"type\" => \"CurriculumPrerequisite\")], \"name\" => \" \", \"metrics\" => Dict{String, Any}(\"complexity\" => 7.0, \"centrality\" => 0, \"blocking factor\" => 0, \"delay factor\" => 7.0), \"nameSub\" => \"Electronic Devices Topics\", \"id\" => 36, \"credits\" => 3, \"nameCanonical\" => \"\"), Dict(\"curriculum_requisites\" => Dict{String, Any}[], \"name\" => \" \", \"metrics\" => Dict{String, Any}(\"complexity\" => 1.0, \"centrality\" => 0, \"blocking factor\" => 0, \"delay factor\" => 1.0), \"nameSub\" => \"Elective Hours\", \"id\" => 39, \"credits\" => 2, \"nameCanonical\" => \"\")], \"id\" => 7), Dict(\"name\" => \"Term 8\", \"curriculum_items\" => Dict{String, Any}[Dict(\"curriculum_requisites\" => Dict{String, Any}[], \"name\" => \" \", \"metrics\" => Dict{String, Any}(\"complexity\" => 1.0, \"centrality\" => 0, \"blocking factor\" => 0, \"delay factor\" => 1.0), \"nameSub\" => \"Elective Hours\", \"id\" => 29, \"credits\" => 3, \"nameCanonical\" => \"\"), Dict(\"curriculum_requisites\" => Dict{String, Any}[], \"name\" => \" \", \"metrics\" => Dict{String, Any}(\"complexity\" => 1.0, \"centrality\" => 0, \"blocking factor\" => 0, \"delay factor\" => 1.0), \"nameSub\" => \"Science Elective\", \"id\" => 21, \"credits\" => 3, \"nameCanonical\" => \"\"), Dict(\"curriculum_requisites\" => Dict{String, Any}[Dict(\"source_id\" => 35, \"target_id\" => 41, \"type\" => \"CurriculumPrerequisite\")], \"name\" => \" \", \"metrics\" => Dict{String, Any}(\"complexity\" => 8.0, \"centrality\" => 0, \"blocking factor\" => 0, \"delay factor\" => 8.0), \"nameSub\" => \"Senior Design Sequence\", \"id\" => 41, \"credits\" => 2, \"nameCanonical\" => \"\"), Dict(\"curriculum_requisites\" => Dict{String, Any}[], \"name\" => \" \", \"metrics\" => Dict{String, Any}(\"complexity\" => 1.0, \"centrality\" => 0, \"blocking factor\" => 0, \"delay factor\" => 1.0), \"nameSub\" => \"Humanities Elective\", \"id\" => 14, \"credits\" => 3, \"nameCanonical\" => \"\"), Dict(\"curriculum_requisites\" => Dict{String, Any}[], \"name\" => \" \", \"metrics\" => Dict{String, Any}(\"complexity\" => 1.0, \"centrality\" => 0, \"blocking factor\" => 0, \"delay factor\" => 1.0), \"nameSub\" => \"Social Science Elective\", \"id\" => 40, \"credits\" => 3, \"nameCanonical\" => \"\"), Dict(\"curriculum_requisites\" => Dict{String, Any}[], \"name\" => \" \", \"metrics\" => Dict{String, Any}(\"complexity\" => 1.0, \"centrality\" => 0, \"blocking factor\" => 0, \"delay factor\" => 1.0), \"nameSub\" => \"Humanities Elective\", \"id\" => 27, \"credits\" => 3, \"nameCanonical\" => \"\")], \"id\" => 8)], \"institution\" => \"Georgia Institute of Technology\")), nothing)), Set{String}(), nothing, WebIO.Asset[], Dict{Any, Any}(), WebIO.ConnectionPool(Channel{Any}(32), Set{WebIO.AbstractConnection}(), Condition(Base.InvasiveLinkedList{Task}(Task (runnable) @0x00000001745c8bc0, Task (runnable) @0x00000001745c8bc0), Base.AlwaysLockedST(1))), WebIO.JSString[])"
      ]
     },
     "execution_count": 100,
     "metadata": {
      "application/vnd.webio.node+json": {
       "kernelId": "a39c6238-ca0e-48ee-9ca4-865bd5853f2a"
      }
     },
     "output_type": "execute_result"
    }
   ],
   "source": [
    "EE_new_2 = optimize_plan(EE_plan.curriculum, 8, 12, 18, req_distance_obj);\n",
    "visualize(EE_new_2, notebook=true)"
   ]
  },
  {
   "cell_type": "code",
   "execution_count": 101,
   "metadata": {},
   "outputs": [
    {
     "name": "stdout",
     "output_type": "stream",
     "text": [
      "\n",
      "Curriculum: Electrical Engineering - Electronic Devices and Circuit Technology\n",
      "Degree Plan: \n",
      "  total credit hours = 129\n",
      "  number of terms = 8\n",
      "  max. credits in a term = 18, in term 4\n",
      "  min. credits in a term = 12, in term 2\n",
      "  avg. credits per term = 16.125, with std. dev. = 1.8328597873268975\n",
      "\n"
     ]
    }
   ],
   "source": [
    "metrics = basic_metrics(EE_new_2)\n",
    "println(String(take!(metrics)))"
   ]
  },
  {
   "cell_type": "code",
   "execution_count": 110,
   "metadata": {},
   "outputs": [
    {
     "name": "stdout",
     "output_type": "stream",
     "text": [
      "Academic license - for non-commercial use only\n",
      "An optimal solution was found with objective value = 14.0\n"
     ]
    },
    {
     "data": {
      "application/vnd.webio.node+json": {
       "children": [
        {
         "children": [
          ""
         ],
         "instanceArgs": {
          "namespace": "html",
          "tag": "iframe"
         },
         "nodeType": "DOM",
         "props": {
          "events": {
           "load": "(function (){this.contentWindow.postMessage({\"options\":{\"hideTerms\":false,\"edit\":false},\"curriculum\":{\"name\":\"Electrical Engineering - Electronic Devices and Circuit Technology\",\"dp_name\":\"\",\"curriculum_terms\":[{\"name\":\"Term 1\",\"curriculum_items\":[{\"curriculum_requisites\":[],\"name\":\"MATH 1551\",\"metrics\":{\"complexity\":27.0,\"centrality\":0,\"blocking factor\":19,\"delay factor\":8.0},\"nameSub\":\"Differential Calculus\",\"id\":5,\"credits\":2,\"nameCanonical\":\"\"},{\"curriculum_requisites\":[{\"source_id\":5,\"target_id\":6,\"type\":\"CurriculumCorequisite\"}],\"name\":\"MATH 1554\",\"metrics\":{\"complexity\":19.0,\"centrality\":55,\"blocking factor\":12,\"delay factor\":7.0},\"nameSub\":\"Linear Algebra\",\"id\":6,\"credits\":4,\"nameCanonical\":\"\"},{\"curriculum_requisites\":[],\"name\":\"ENGL 1101\",\"metrics\":{\"complexity\":3.0,\"centrality\":0,\"blocking factor\":1,\"delay factor\":2.0},\"nameSub\":\"English Composition I\",\"id\":4,\"credits\":3,\"nameCanonical\":\"\"},{\"curriculum_requisites\":[],\"name\":\"ECE 3005\",\"metrics\":{\"complexity\":1.0,\"centrality\":0,\"blocking factor\":0,\"delay factor\":1.0},\"nameSub\":\"\",\"id\":28,\"credits\":1,\"nameCanonical\":\"\"},{\"curriculum_requisites\":[],\"name\":\" \",\"metrics\":{\"complexity\":1.0,\"centrality\":0,\"blocking factor\":0,\"delay factor\":1.0},\"nameSub\":\"History/Government Elective\",\"id\":11,\"credits\":3,\"nameCanonical\":\"\"},{\"curriculum_requisites\":[],\"name\":\" \",\"metrics\":{\"complexity\":1.0,\"centrality\":0,\"blocking factor\":0,\"delay factor\":1.0},\"nameSub\":\"Social Science Elective\",\"id\":40,\"credits\":3,\"nameCanonical\":\"\"}],\"id\":1},{\"name\":\"Term 2\",\"curriculum_items\":[{\"curriculum_requisites\":[{\"source_id\":5,\"target_id\":9,\"type\":\"CurriculumPrerequisite\"}],\"name\":\"MATH 1552\",\"metrics\":{\"complexity\":25.0,\"centrality\":111,\"blocking factor\":17,\"delay factor\":8.0},\"nameSub\":\"Integral Calculus\",\"id\":9,\"credits\":4,\"nameCanonical\":\"\"},{\"curriculum_requisites\":[{\"source_id\":4,\"target_id\":8,\"type\":\"CurriculumPrerequisite\"}],\"name\":\"ENGL 1102\",\"metrics\":{\"complexity\":2.0,\"centrality\":0,\"blocking factor\":0,\"delay factor\":2.0},\"nameSub\":\"English Composition II\",\"id\":8,\"credits\":3,\"nameCanonical\":\"\"},{\"curriculum_requisites\":[],\"name\":\" \",\"metrics\":{\"complexity\":1.0,\"centrality\":0,\"blocking factor\":0,\"delay factor\":1.0},\"nameSub\":\"Elective Hours\",\"id\":39,\"credits\":2,\"nameCanonical\":\"\"},{\"curriculum_requisites\":[],\"name\":\"CS 1301\",\"metrics\":{\"complexity\":16.0,\"centrality\":0,\"blocking factor\":10,\"delay factor\":6.0},\"nameSub\":\"Intro to Computing\",\"id\":2,\"credits\":3,\"nameCanonical\":\"\"},{\"curriculum_requisites\":[{\"source_id\":9,\"target_id\":10,\"type\":\"CurriculumCorequisite\"}],\"name\":\"PHYS  2211\",\"metrics\":{\"complexity\":20.0,\"centrality\":46,\"blocking factor\":12,\"delay factor\":8.0},\"nameSub\":\"Intro Physics 1\",\"id\":10,\"credits\":4,\"nameCanonical\":\"\"}],\"id\":2},{\"name\":\"Term 3\",\"curriculum_items\":[{\"curriculum_requisites\":[{\"source_id\":10,\"target_id\":16,\"type\":\"CurriculumPrerequisite\"}],\"name\":\"PHYS  2212\",\"metrics\":{\"complexity\":19.0,\"centrality\":46,\"blocking factor\":11,\"delay factor\":8.0},\"nameSub\":\"Intro. Physics 2\",\"id\":16,\"credits\":4,\"nameCanonical\":\"\"},{\"curriculum_requisites\":[{\"source_id\":2,\"target_id\":12,\"type\":\"CurriculumPrerequisite\"},{\"source_id\":9,\"target_id\":12,\"type\":\"CurriculumPrerequisite\"}],\"name\":\"ECE 2026\",\"metrics\":{\"complexity\":9.0,\"centrality\":11,\"blocking factor\":3,\"delay factor\":6.0},\"nameSub\":\"Intro. to Signal Processing\",\"id\":12,\"credits\":3,\"nameCanonical\":\"\"},{\"curriculum_requisites\":[{\"source_id\":2,\"target_id\":7,\"type\":\"CurriculumPrerequisite\"}],\"name\":\"ECE 2020\",\"metrics\":{\"complexity\":11.0,\"centrality\":41,\"blocking factor\":5,\"delay factor\":6.0},\"nameSub\":\"Fund. of Digital System Design\",\"id\":7,\"credits\":3,\"nameCanonical\":\"\"},{\"curriculum_requisites\":[{\"source_id\":6,\"target_id\":15,\"type\":\"CurriculumPrerequisite\"},{\"source_id\":9,\"target_id\":15,\"type\":\"CurriculumPrerequisite\"}],\"name\":\"MATH 2552\",\"metrics\":{\"complexity\":18.0,\"centrality\":110,\"blocking factor\":11,\"delay factor\":7.0},\"nameSub\":\"Differential Equations\",\"id\":15,\"credits\":4,\"nameCanonical\":\"\"},{\"curriculum_requisites\":[],\"name\":\"APPH 1040\",\"metrics\":{\"complexity\":1.0,\"centrality\":0,\"blocking factor\":0,\"delay factor\":1.0},\"nameSub\":\"\",\"id\":26,\"credits\":2,\"nameCanonical\":\"\"}],\"id\":3},{\"name\":\"Term 4\",\"curriculum_items\":[{\"curriculum_requisites\":[{\"source_id\":16,\"target_id\":19,\"type\":\"CurriculumPrerequisite\"},{\"source_id\":15,\"target_id\":19,\"type\":\"CurriculumPrerequisite\"}],\"name\":\"ECE 2040\",\"metrics\":{\"complexity\":18.0,\"centrality\":124,\"blocking factor\":10,\"delay factor\":8.0},\"nameSub\":\"Circuit Analysis\",\"id\":19,\"credits\":3,\"nameCanonical\":\"\"},{\"curriculum_requisites\":[{\"source_id\":7,\"target_id\":17,\"type\":\"CurriculumPrerequisite\"},{\"source_id\":18,\"target_id\":17,\"type\":\"CurriculumCorequisite\"}],\"name\":\"ECE 2031\",\"metrics\":{\"complexity\":9.0,\"centrality\":31,\"blocking factor\":3,\"delay factor\":6.0},\"nameSub\":\"Digital Design Lab\",\"id\":17,\"credits\":2,\"nameCanonical\":\"\"},{\"curriculum_requisites\":[],\"name\":\"CHEM 1310\",\"metrics\":{\"complexity\":6.0,\"centrality\":0,\"blocking factor\":3,\"delay factor\":3.0},\"nameSub\":\"General Chemistry\",\"id\":1,\"credits\":4,\"nameCanonical\":\"\"},{\"curriculum_requisites\":[],\"name\":\" \",\"metrics\":{\"complexity\":1.0,\"centrality\":0,\"blocking factor\":0,\"delay factor\":1.0},\"nameSub\":\"Humanities Elective\",\"id\":14,\"credits\":3,\"nameCanonical\":\"\"},{\"curriculum_requisites\":[{\"source_id\":7,\"target_id\":18,\"type\":\"CurriculumPrerequisite\"}],\"name\":\"ECE 2035\",\"metrics\":{\"complexity\":10.0,\"centrality\":27,\"blocking factor\":4,\"delay factor\":6.0},\"nameSub\":\"Programming Elective\",\"id\":18,\"credits\":4,\"nameCanonical\":\"\"}],\"id\":4},{\"name\":\"Term 5\",\"curriculum_items\":[{\"curriculum_requisites\":[{\"source_id\":9,\"target_id\":20,\"type\":\"CurriculumPrerequisite\"}],\"name\":\"MATH 2551\",\"metrics\":{\"complexity\":5.0,\"centrality\":4,\"blocking factor\":1,\"delay factor\":4.0},\"nameSub\":\"Multivariate Calculus\",\"id\":20,\"credits\":4,\"nameCanonical\":\"\"},{\"curriculum_requisites\":[{\"source_id\":15,\"target_id\":24,\"type\":\"CurriculumPrerequisite\"},{\"source_id\":12,\"target_id\":24,\"type\":\"CurriculumPrerequisite\"},{\"source_id\":19,\"target_id\":24,\"type\":\"CurriculumPrerequisite\"}],\"name\":\"ECE 3025\",\"metrics\":{\"complexity\":10.0,\"centrality\":45,\"blocking factor\":2,\"delay factor\":8.0},\"nameSub\":\"Electromagnetics\",\"id\":24,\"credits\":3,\"nameCanonical\":\"\"},{\"curriculum_requisites\":[{\"source_id\":22,\"target_id\":23,\"type\":\"CurriculumCorequisite\"},{\"source_id\":17,\"target_id\":23,\"type\":\"CurriculumPrerequisite\"}],\"name\":\"ECE 3043\",\"metrics\":{\"complexity\":7.0,\"centrality\":0,\"blocking factor\":0,\"delay factor\":7.0},\"nameSub\":\"Measurements, Circuits and Microelectronics Lab\",\"id\":23,\"credits\":2,\"nameCanonical\":\"\"},{\"curriculum_requisites\":[{\"source_id\":15,\"target_id\":22,\"type\":\"CurriculumPrerequisite\"},{\"source_id\":18,\"target_id\":22,\"type\":\"CurriculumPrerequisite\"},{\"source_id\":17,\"target_id\":22,\"type\":\"CurriculumPrerequisite\"},{\"source_id\":1,\"target_id\":22,\"type\":\"CurriculumPrerequisite\"},{\"source_id\":19,\"target_id\":22,\"type\":\"CurriculumPrerequisite\"}],\"name\":\"ECE 3040\",\"metrics\":{\"complexity\":9.0,\"centrality\":96,\"blocking factor\":2,\"delay factor\":7.0},\"nameSub\":\"Microelectronic Circuits\",\"id\":22,\"credits\":4,\"nameCanonical\":\"\"},{\"curriculum_requisites\":[{\"source_id\":19,\"target_id\":43,\"type\":\"CurriculumPrerequisite\"}],\"name\":\" \",\"metrics\":{\"complexity\":6.0,\"centrality\":0,\"blocking factor\":0,\"delay factor\":6.0},\"nameSub\":\"ECE 3000/4000 Elective\",\"id\":43,\"credits\":3,\"nameCanonical\":\"\"}],\"id\":5},{\"name\":\"Term 6\",\"curriculum_items\":[{\"curriculum_requisites\":[{\"source_id\":24,\"target_id\":35,\"type\":\"CurriculumPrerequisite\"}],\"name\":\" \",\"metrics\":{\"complexity\":9.0,\"centrality\":45,\"blocking factor\":1,\"delay factor\":8.0},\"nameSub\":\"Senior Design Sequence\",\"id\":35,\"credits\":1,\"nameCanonical\":\"\"},{\"curriculum_requisites\":[{\"source_id\":19,\"target_id\":45,\"type\":\"CurriculumPrerequisite\"}],\"name\":\" \",\"metrics\":{\"complexity\":6.0,\"centrality\":0,\"blocking factor\":0,\"delay factor\":6.0},\"nameSub\":\"Circuit Technologies Topics\",\"id\":45,\"credits\":3,\"nameCanonical\":\"\"},{\"curriculum_requisites\":[{\"source_id\":19,\"target_id\":37,\"type\":\"CurriculumPrerequisite\"}],\"name\":\" \",\"metrics\":{\"complexity\":6.0,\"centrality\":0,\"blocking factor\":0,\"delay factor\":6.0},\"nameSub\":\"ECE 3000/4000 Elective\",\"id\":37,\"credits\":3,\"nameCanonical\":\"\"},{\"curriculum_requisites\":[{\"source_id\":22,\"target_id\":36,\"type\":\"CurriculumPrerequisite\"}],\"name\":\" \",\"metrics\":{\"complexity\":7.0,\"centrality\":0,\"blocking factor\":0,\"delay factor\":7.0},\"nameSub\":\"Electronic Devices Topics\",\"id\":36,\"credits\":3,\"nameCanonical\":\"\"},{\"curriculum_requisites\":[{\"source_id\":20,\"target_id\":25,\"type\":\"CurriculumPrerequisite\"}],\"name\":\" \",\"metrics\":{\"complexity\":4.0,\"centrality\":0,\"blocking factor\":0,\"delay factor\":4.0},\"nameSub\":\"Prob & Stat Elective\",\"id\":25,\"credits\":3,\"nameCanonical\":\"\"},{\"curriculum_requisites\":[{\"source_id\":19,\"target_id\":42,\"type\":\"CurriculumPrerequisite\"}],\"name\":\" \",\"metrics\":{\"complexity\":6.0,\"centrality\":0,\"blocking factor\":0,\"delay factor\":6.0},\"nameSub\":\"ECE 3000/4000 Elective\",\"id\":42,\"credits\":3,\"nameCanonical\":\"\"}],\"id\":6},{\"name\":\"Term 7\",\"curriculum_items\":[{\"curriculum_requisites\":[],\"name\":\" \",\"metrics\":{\"complexity\":1.0,\"centrality\":0,\"blocking factor\":0,\"delay factor\":1.0},\"nameSub\":\"Elective Hours\",\"id\":44,\"credits\":3,\"nameCanonical\":\"\"},{\"curriculum_requisites\":[],\"name\":\" \",\"metrics\":{\"complexity\":1.0,\"centrality\":0,\"blocking factor\":0,\"delay factor\":1.0},\"nameSub\":\"Econ/Social Science Elective\",\"id\":13,\"credits\":3,\"nameCanonical\":\"\"},{\"curriculum_requisites\":[],\"name\":\" \",\"metrics\":{\"complexity\":1.0,\"centrality\":0,\"blocking factor\":0,\"delay factor\":1.0},\"nameSub\":\"Science Elective\",\"id\":21,\"credits\":3,\"nameCanonical\":\"\"},{\"curriculum_requisites\":[{\"source_id\":35,\"target_id\":41,\"type\":\"CurriculumPrerequisite\"}],\"name\":\" \",\"metrics\":{\"complexity\":8.0,\"centrality\":0,\"blocking factor\":0,\"delay factor\":8.0},\"nameSub\":\"Senior Design Sequence\",\"id\":41,\"credits\":2,\"nameCanonical\":\"\"},{\"curriculum_requisites\":[],\"name\":\" \",\"metrics\":{\"complexity\":1.0,\"centrality\":0,\"blocking factor\":0,\"delay factor\":1.0},\"nameSub\":\"Elective Hours\",\"id\":33,\"credits\":3,\"nameCanonical\":\"\"},{\"curriculum_requisites\":[],\"name\":\" \",\"metrics\":{\"complexity\":1.0,\"centrality\":0,\"blocking factor\":0,\"delay factor\":1.0},\"nameSub\":\"Humanities Elective\",\"id\":27,\"credits\":3,\"nameCanonical\":\"\"}],\"id\":7},{\"name\":\"Term 8\",\"curriculum_items\":[{\"curriculum_requisites\":[],\"name\":\"ECE 3450\",\"metrics\":{\"complexity\":1.0,\"centrality\":0,\"blocking factor\":0,\"delay factor\":1.0},\"nameSub\":\"\",\"id\":30,\"credits\":3,\"nameCanonical\":\"\"},{\"curriculum_requisites\":[],\"name\":\" \",\"metrics\":{\"complexity\":1.0,\"centrality\":0,\"blocking factor\":0,\"delay factor\":1.0},\"nameSub\":\"Social Science Elective\",\"id\":32,\"credits\":3,\"nameCanonical\":\"\"},{\"curriculum_requisites\":[],\"name\":\"ECE 3400\",\"metrics\":{\"complexity\":1.0,\"centrality\":0,\"blocking factor\":0,\"delay factor\":1.0},\"nameSub\":\"\",\"id\":31,\"credits\":3,\"nameCanonical\":\"\"},{\"curriculum_requisites\":[],\"name\":\" \",\"metrics\":{\"complexity\":1.0,\"centrality\":0,\"blocking factor\":0,\"delay factor\":1.0},\"nameSub\":\"Elective Hours\",\"id\":29,\"credits\":3,\"nameCanonical\":\"\"},{\"curriculum_requisites\":[],\"name\":\"ECE 4452\",\"metrics\":{\"complexity\":1.0,\"centrality\":0,\"blocking factor\":0,\"delay factor\":1.0},\"nameSub\":\"\",\"id\":38,\"credits\":3,\"nameCanonical\":\"\"},{\"curriculum_requisites\":[],\"name\":\"ECE 1100\",\"metrics\":{\"complexity\":1.0,\"centrality\":0,\"blocking factor\":0,\"delay factor\":1.0},\"nameSub\":\"ECE Discovery Studio\",\"id\":3,\"credits\":1,\"nameCanonical\":\"\"}],\"id\":8}],\"institution\":\"Georgia Institute of Technology\"}},\"*\"); window.removeEventListener(\"message\",window.messageReceived); window.messageReceived=(function (event){return (event.data.curriculum!==undefined) ? (WebIO.setval({\"name\":\"curriculum-data\",\"scope\":\"3955449964297723881\",\"id\":\"10962947106259573380\",\"type\":\"observable\"},event.data.curriculum)) : undefined}); return window.addEventListener(\"message\",window.messageReceived)})"
          },
          "id": "curriculum",
          "src": "https://curricula-api-embed.damoursystems.com/",
          "style": {
           "border": "none",
           "height": "100vh",
           "margin": "0",
           "padding": "0",
           "width": "100%"
          }
         },
         "type": "node"
        }
       ],
       "instanceArgs": {
        "handlers": {},
        "id": "3955449964297723881",
        "imports": {
         "data": [],
         "type": "async_block"
        },
        "mount_callbacks": [],
        "observables": {
         "curriculum-data": {
          "id": "10962947106259573380",
          "sync": true,
          "value": {
           "curriculum": {
            "curriculum_terms": [
             {
              "curriculum_items": [
               {
                "credits": 2,
                "curriculum_requisites": [],
                "id": 5,
                "metrics": {
                 "blocking factor": 19,
                 "centrality": 0,
                 "complexity": 27,
                 "delay factor": 8
                },
                "name": "MATH 1551",
                "nameCanonical": "",
                "nameSub": "Differential Calculus"
               },
               {
                "credits": 4,
                "curriculum_requisites": [
                 {
                  "source_id": 5,
                  "target_id": 6,
                  "type": "CurriculumCorequisite"
                 }
                ],
                "id": 6,
                "metrics": {
                 "blocking factor": 12,
                 "centrality": 55,
                 "complexity": 19,
                 "delay factor": 7
                },
                "name": "MATH 1554",
                "nameCanonical": "",
                "nameSub": "Linear Algebra"
               },
               {
                "credits": 3,
                "curriculum_requisites": [],
                "id": 4,
                "metrics": {
                 "blocking factor": 1,
                 "centrality": 0,
                 "complexity": 3,
                 "delay factor": 2
                },
                "name": "ENGL 1101",
                "nameCanonical": "",
                "nameSub": "English Composition I"
               },
               {
                "credits": 1,
                "curriculum_requisites": [],
                "id": 28,
                "metrics": {
                 "blocking factor": 0,
                 "centrality": 0,
                 "complexity": 1,
                 "delay factor": 1
                },
                "name": "ECE 3005",
                "nameCanonical": "",
                "nameSub": ""
               },
               {
                "credits": 3,
                "curriculum_requisites": [],
                "id": 11,
                "metrics": {
                 "blocking factor": 0,
                 "centrality": 0,
                 "complexity": 1,
                 "delay factor": 1
                },
                "name": " ",
                "nameCanonical": "",
                "nameSub": "History/Government Elective"
               },
               {
                "credits": 3,
                "curriculum_requisites": [],
                "id": 40,
                "metrics": {
                 "blocking factor": 0,
                 "centrality": 0,
                 "complexity": 1,
                 "delay factor": 1
                },
                "name": " ",
                "nameCanonical": "",
                "nameSub": "Social Science Elective"
               }
              ],
              "id": 1,
              "name": "Term 1"
             },
             {
              "curriculum_items": [
               {
                "credits": 4,
                "curriculum_requisites": [
                 {
                  "source_id": 5,
                  "target_id": 9,
                  "type": "CurriculumPrerequisite"
                 }
                ],
                "id": 9,
                "metrics": {
                 "blocking factor": 17,
                 "centrality": 111,
                 "complexity": 25,
                 "delay factor": 8
                },
                "name": "MATH 1552",
                "nameCanonical": "",
                "nameSub": "Integral Calculus"
               },
               {
                "credits": 3,
                "curriculum_requisites": [
                 {
                  "source_id": 4,
                  "target_id": 8,
                  "type": "CurriculumPrerequisite"
                 }
                ],
                "id": 8,
                "metrics": {
                 "blocking factor": 0,
                 "centrality": 0,
                 "complexity": 2,
                 "delay factor": 2
                },
                "name": "ENGL 1102",
                "nameCanonical": "",
                "nameSub": "English Composition II"
               },
               {
                "credits": 2,
                "curriculum_requisites": [],
                "id": 39,
                "metrics": {
                 "blocking factor": 0,
                 "centrality": 0,
                 "complexity": 1,
                 "delay factor": 1
                },
                "name": " ",
                "nameCanonical": "",
                "nameSub": "Elective Hours"
               },
               {
                "credits": 3,
                "curriculum_requisites": [],
                "id": 2,
                "metrics": {
                 "blocking factor": 10,
                 "centrality": 0,
                 "complexity": 16,
                 "delay factor": 6
                },
                "name": "CS 1301",
                "nameCanonical": "",
                "nameSub": "Intro to Computing"
               },
               {
                "credits": 4,
                "curriculum_requisites": [
                 {
                  "source_id": 9,
                  "target_id": 10,
                  "type": "CurriculumCorequisite"
                 }
                ],
                "id": 10,
                "metrics": {
                 "blocking factor": 12,
                 "centrality": 46,
                 "complexity": 20,
                 "delay factor": 8
                },
                "name": "PHYS  2211",
                "nameCanonical": "",
                "nameSub": "Intro Physics 1"
               }
              ],
              "id": 2,
              "name": "Term 2"
             },
             {
              "curriculum_items": [
               {
                "credits": 4,
                "curriculum_requisites": [
                 {
                  "source_id": 10,
                  "target_id": 16,
                  "type": "CurriculumPrerequisite"
                 }
                ],
                "id": 16,
                "metrics": {
                 "blocking factor": 11,
                 "centrality": 46,
                 "complexity": 19,
                 "delay factor": 8
                },
                "name": "PHYS  2212",
                "nameCanonical": "",
                "nameSub": "Intro. Physics 2"
               },
               {
                "credits": 3,
                "curriculum_requisites": [
                 {
                  "source_id": 2,
                  "target_id": 12,
                  "type": "CurriculumPrerequisite"
                 },
                 {
                  "source_id": 9,
                  "target_id": 12,
                  "type": "CurriculumPrerequisite"
                 }
                ],
                "id": 12,
                "metrics": {
                 "blocking factor": 3,
                 "centrality": 11,
                 "complexity": 9,
                 "delay factor": 6
                },
                "name": "ECE 2026",
                "nameCanonical": "",
                "nameSub": "Intro. to Signal Processing"
               },
               {
                "credits": 3,
                "curriculum_requisites": [
                 {
                  "source_id": 2,
                  "target_id": 7,
                  "type": "CurriculumPrerequisite"
                 }
                ],
                "id": 7,
                "metrics": {
                 "blocking factor": 5,
                 "centrality": 41,
                 "complexity": 11,
                 "delay factor": 6
                },
                "name": "ECE 2020",
                "nameCanonical": "",
                "nameSub": "Fund. of Digital System Design"
               },
               {
                "credits": 4,
                "curriculum_requisites": [
                 {
                  "source_id": 6,
                  "target_id": 15,
                  "type": "CurriculumPrerequisite"
                 },
                 {
                  "source_id": 9,
                  "target_id": 15,
                  "type": "CurriculumPrerequisite"
                 }
                ],
                "id": 15,
                "metrics": {
                 "blocking factor": 11,
                 "centrality": 110,
                 "complexity": 18,
                 "delay factor": 7
                },
                "name": "MATH 2552",
                "nameCanonical": "",
                "nameSub": "Differential Equations"
               },
               {
                "credits": 2,
                "curriculum_requisites": [],
                "id": 26,
                "metrics": {
                 "blocking factor": 0,
                 "centrality": 0,
                 "complexity": 1,
                 "delay factor": 1
                },
                "name": "APPH 1040",
                "nameCanonical": "",
                "nameSub": ""
               }
              ],
              "id": 3,
              "name": "Term 3"
             },
             {
              "curriculum_items": [
               {
                "credits": 3,
                "curriculum_requisites": [
                 {
                  "source_id": 16,
                  "target_id": 19,
                  "type": "CurriculumPrerequisite"
                 },
                 {
                  "source_id": 15,
                  "target_id": 19,
                  "type": "CurriculumPrerequisite"
                 }
                ],
                "id": 19,
                "metrics": {
                 "blocking factor": 10,
                 "centrality": 124,
                 "complexity": 18,
                 "delay factor": 8
                },
                "name": "ECE 2040",
                "nameCanonical": "",
                "nameSub": "Circuit Analysis"
               },
               {
                "credits": 2,
                "curriculum_requisites": [
                 {
                  "source_id": 7,
                  "target_id": 17,
                  "type": "CurriculumPrerequisite"
                 },
                 {
                  "source_id": 18,
                  "target_id": 17,
                  "type": "CurriculumCorequisite"
                 }
                ],
                "id": 17,
                "metrics": {
                 "blocking factor": 3,
                 "centrality": 31,
                 "complexity": 9,
                 "delay factor": 6
                },
                "name": "ECE 2031",
                "nameCanonical": "",
                "nameSub": "Digital Design Lab"
               },
               {
                "credits": 4,
                "curriculum_requisites": [],
                "id": 1,
                "metrics": {
                 "blocking factor": 3,
                 "centrality": 0,
                 "complexity": 6,
                 "delay factor": 3
                },
                "name": "CHEM 1310",
                "nameCanonical": "",
                "nameSub": "General Chemistry"
               },
               {
                "credits": 3,
                "curriculum_requisites": [],
                "id": 14,
                "metrics": {
                 "blocking factor": 0,
                 "centrality": 0,
                 "complexity": 1,
                 "delay factor": 1
                },
                "name": " ",
                "nameCanonical": "",
                "nameSub": "Humanities Elective"
               },
               {
                "credits": 4,
                "curriculum_requisites": [
                 {
                  "source_id": 7,
                  "target_id": 18,
                  "type": "CurriculumPrerequisite"
                 }
                ],
                "id": 18,
                "metrics": {
                 "blocking factor": 4,
                 "centrality": 27,
                 "complexity": 10,
                 "delay factor": 6
                },
                "name": "ECE 2035",
                "nameCanonical": "",
                "nameSub": "Programming Elective"
               }
              ],
              "id": 4,
              "name": "Term 4"
             },
             {
              "curriculum_items": [
               {
                "credits": 4,
                "curriculum_requisites": [
                 {
                  "source_id": 9,
                  "target_id": 20,
                  "type": "CurriculumPrerequisite"
                 }
                ],
                "id": 20,
                "metrics": {
                 "blocking factor": 1,
                 "centrality": 4,
                 "complexity": 5,
                 "delay factor": 4
                },
                "name": "MATH 2551",
                "nameCanonical": "",
                "nameSub": "Multivariate Calculus"
               },
               {
                "credits": 3,
                "curriculum_requisites": [
                 {
                  "source_id": 15,
                  "target_id": 24,
                  "type": "CurriculumPrerequisite"
                 },
                 {
                  "source_id": 12,
                  "target_id": 24,
                  "type": "CurriculumPrerequisite"
                 },
                 {
                  "source_id": 19,
                  "target_id": 24,
                  "type": "CurriculumPrerequisite"
                 }
                ],
                "id": 24,
                "metrics": {
                 "blocking factor": 2,
                 "centrality": 45,
                 "complexity": 10,
                 "delay factor": 8
                },
                "name": "ECE 3025",
                "nameCanonical": "",
                "nameSub": "Electromagnetics"
               },
               {
                "credits": 2,
                "curriculum_requisites": [
                 {
                  "source_id": 22,
                  "target_id": 23,
                  "type": "CurriculumCorequisite"
                 },
                 {
                  "source_id": 17,
                  "target_id": 23,
                  "type": "CurriculumPrerequisite"
                 }
                ],
                "id": 23,
                "metrics": {
                 "blocking factor": 0,
                 "centrality": 0,
                 "complexity": 7,
                 "delay factor": 7
                },
                "name": "ECE 3043",
                "nameCanonical": "",
                "nameSub": "Measurements, Circuits and Microelectronics Lab"
               },
               {
                "credits": 4,
                "curriculum_requisites": [
                 {
                  "source_id": 15,
                  "target_id": 22,
                  "type": "CurriculumPrerequisite"
                 },
                 {
                  "source_id": 18,
                  "target_id": 22,
                  "type": "CurriculumPrerequisite"
                 },
                 {
                  "source_id": 17,
                  "target_id": 22,
                  "type": "CurriculumPrerequisite"
                 },
                 {
                  "source_id": 1,
                  "target_id": 22,
                  "type": "CurriculumPrerequisite"
                 },
                 {
                  "source_id": 19,
                  "target_id": 22,
                  "type": "CurriculumPrerequisite"
                 }
                ],
                "id": 22,
                "metrics": {
                 "blocking factor": 2,
                 "centrality": 96,
                 "complexity": 9,
                 "delay factor": 7
                },
                "name": "ECE 3040",
                "nameCanonical": "",
                "nameSub": "Microelectronic Circuits"
               },
               {
                "credits": 3,
                "curriculum_requisites": [
                 {
                  "source_id": 19,
                  "target_id": 43,
                  "type": "CurriculumPrerequisite"
                 }
                ],
                "id": 43,
                "metrics": {
                 "blocking factor": 0,
                 "centrality": 0,
                 "complexity": 6,
                 "delay factor": 6
                },
                "name": " ",
                "nameCanonical": "",
                "nameSub": "ECE 3000/4000 Elective"
               }
              ],
              "id": 5,
              "name": "Term 5"
             },
             {
              "curriculum_items": [
               {
                "credits": 1,
                "curriculum_requisites": [
                 {
                  "source_id": 24,
                  "target_id": 35,
                  "type": "CurriculumPrerequisite"
                 }
                ],
                "id": 35,
                "metrics": {
                 "blocking factor": 1,
                 "centrality": 45,
                 "complexity": 9,
                 "delay factor": 8
                },
                "name": " ",
                "nameCanonical": "",
                "nameSub": "Senior Design Sequence"
               },
               {
                "credits": 3,
                "curriculum_requisites": [
                 {
                  "source_id": 19,
                  "target_id": 45,
                  "type": "CurriculumPrerequisite"
                 }
                ],
                "id": 45,
                "metrics": {
                 "blocking factor": 0,
                 "centrality": 0,
                 "complexity": 6,
                 "delay factor": 6
                },
                "name": " ",
                "nameCanonical": "",
                "nameSub": "Circuit Technologies Topics"
               },
               {
                "credits": 3,
                "curriculum_requisites": [
                 {
                  "source_id": 19,
                  "target_id": 37,
                  "type": "CurriculumPrerequisite"
                 }
                ],
                "id": 37,
                "metrics": {
                 "blocking factor": 0,
                 "centrality": 0,
                 "complexity": 6,
                 "delay factor": 6
                },
                "name": " ",
                "nameCanonical": "",
                "nameSub": "ECE 3000/4000 Elective"
               },
               {
                "credits": 3,
                "curriculum_requisites": [
                 {
                  "source_id": 22,
                  "target_id": 36,
                  "type": "CurriculumPrerequisite"
                 }
                ],
                "id": 36,
                "metrics": {
                 "blocking factor": 0,
                 "centrality": 0,
                 "complexity": 7,
                 "delay factor": 7
                },
                "name": " ",
                "nameCanonical": "",
                "nameSub": "Electronic Devices Topics"
               },
               {
                "credits": 3,
                "curriculum_requisites": [
                 {
                  "source_id": 20,
                  "target_id": 25,
                  "type": "CurriculumPrerequisite"
                 }
                ],
                "id": 25,
                "metrics": {
                 "blocking factor": 0,
                 "centrality": 0,
                 "complexity": 4,
                 "delay factor": 4
                },
                "name": " ",
                "nameCanonical": "",
                "nameSub": "Prob & Stat Elective"
               },
               {
                "credits": 3,
                "curriculum_requisites": [
                 {
                  "source_id": 19,
                  "target_id": 42,
                  "type": "CurriculumPrerequisite"
                 }
                ],
                "id": 42,
                "metrics": {
                 "blocking factor": 0,
                 "centrality": 0,
                 "complexity": 6,
                 "delay factor": 6
                },
                "name": " ",
                "nameCanonical": "",
                "nameSub": "ECE 3000/4000 Elective"
               }
              ],
              "id": 6,
              "name": "Term 6"
             },
             {
              "curriculum_items": [
               {
                "credits": 3,
                "curriculum_requisites": [],
                "id": 44,
                "metrics": {
                 "blocking factor": 0,
                 "centrality": 0,
                 "complexity": 1,
                 "delay factor": 1
                },
                "name": " ",
                "nameCanonical": "",
                "nameSub": "Elective Hours"
               },
               {
                "credits": 3,
                "curriculum_requisites": [],
                "id": 13,
                "metrics": {
                 "blocking factor": 0,
                 "centrality": 0,
                 "complexity": 1,
                 "delay factor": 1
                },
                "name": " ",
                "nameCanonical": "",
                "nameSub": "Econ/Social Science Elective"
               },
               {
                "credits": 3,
                "curriculum_requisites": [],
                "id": 21,
                "metrics": {
                 "blocking factor": 0,
                 "centrality": 0,
                 "complexity": 1,
                 "delay factor": 1
                },
                "name": " ",
                "nameCanonical": "",
                "nameSub": "Science Elective"
               },
               {
                "credits": 2,
                "curriculum_requisites": [
                 {
                  "source_id": 35,
                  "target_id": 41,
                  "type": "CurriculumPrerequisite"
                 }
                ],
                "id": 41,
                "metrics": {
                 "blocking factor": 0,
                 "centrality": 0,
                 "complexity": 8,
                 "delay factor": 8
                },
                "name": " ",
                "nameCanonical": "",
                "nameSub": "Senior Design Sequence"
               },
               {
                "credits": 3,
                "curriculum_requisites": [],
                "id": 33,
                "metrics": {
                 "blocking factor": 0,
                 "centrality": 0,
                 "complexity": 1,
                 "delay factor": 1
                },
                "name": " ",
                "nameCanonical": "",
                "nameSub": "Elective Hours"
               },
               {
                "credits": 3,
                "curriculum_requisites": [],
                "id": 27,
                "metrics": {
                 "blocking factor": 0,
                 "centrality": 0,
                 "complexity": 1,
                 "delay factor": 1
                },
                "name": " ",
                "nameCanonical": "",
                "nameSub": "Humanities Elective"
               }
              ],
              "id": 7,
              "name": "Term 7"
             },
             {
              "curriculum_items": [
               {
                "credits": 3,
                "curriculum_requisites": [],
                "id": 30,
                "metrics": {
                 "blocking factor": 0,
                 "centrality": 0,
                 "complexity": 1,
                 "delay factor": 1
                },
                "name": "ECE 3450",
                "nameCanonical": "",
                "nameSub": ""
               },
               {
                "credits": 3,
                "curriculum_requisites": [],
                "id": 32,
                "metrics": {
                 "blocking factor": 0,
                 "centrality": 0,
                 "complexity": 1,
                 "delay factor": 1
                },
                "name": " ",
                "nameCanonical": "",
                "nameSub": "Social Science Elective"
               },
               {
                "credits": 3,
                "curriculum_requisites": [],
                "id": 31,
                "metrics": {
                 "blocking factor": 0,
                 "centrality": 0,
                 "complexity": 1,
                 "delay factor": 1
                },
                "name": "ECE 3400",
                "nameCanonical": "",
                "nameSub": ""
               },
               {
                "credits": 3,
                "curriculum_requisites": [],
                "id": 29,
                "metrics": {
                 "blocking factor": 0,
                 "centrality": 0,
                 "complexity": 1,
                 "delay factor": 1
                },
                "name": " ",
                "nameCanonical": "",
                "nameSub": "Elective Hours"
               },
               {
                "credits": 3,
                "curriculum_requisites": [],
                "id": 38,
                "metrics": {
                 "blocking factor": 0,
                 "centrality": 0,
                 "complexity": 1,
                 "delay factor": 1
                },
                "name": "ECE 4452",
                "nameCanonical": "",
                "nameSub": ""
               },
               {
                "credits": 1,
                "curriculum_requisites": [],
                "id": 3,
                "metrics": {
                 "blocking factor": 0,
                 "centrality": 0,
                 "complexity": 1,
                 "delay factor": 1
                },
                "name": "ECE 1100",
                "nameCanonical": "",
                "nameSub": "ECE Discovery Studio"
               }
              ],
              "id": 8,
              "name": "Term 8"
             }
            ],
            "dp_name": "",
            "institution": "Georgia Institute of Technology",
            "name": "Electrical Engineering - Electronic Devices and Circuit Technology"
           },
           "options": {
            "edit": false,
            "hideTerms": false
           }
          }
         }
        },
        "systemjs_options": null
       },
       "nodeType": "Scope",
       "props": {},
       "type": "node"
      },
      "text/html": [
       "<div\n",
       "    class=\"webio-mountpoint\"\n",
       "    data-webio-mountpoint=\"6028667540988096618\"\n",
       ">\n",
       "    <script>\n",
       "    if (window.require && require.defined && require.defined(\"nbextensions/webio-jupyter-notebook\")) {\n",
       "        console.log(\"Jupyter WebIO extension detected, not mounting.\");\n",
       "    } else if (window.WebIO) {\n",
       "        WebIO.mount(\n",
       "            document.querySelector('[data-webio-mountpoint=\"6028667540988096618\"]'),\n",
       "            {\"props\":{},\"nodeType\":\"Scope\",\"type\":\"node\",\"instanceArgs\":{\"imports\":{\"data\":[],\"type\":\"async_block\"},\"id\":\"3955449964297723881\",\"handlers\":{},\"systemjs_options\":null,\"mount_callbacks\":[],\"observables\":{\"curriculum-data\":{\"sync\":true,\"id\":\"10962947106259573380\",\"value\":{\"options\":{\"hideTerms\":false,\"edit\":false},\"curriculum\":{\"name\":\"Electrical Engineering - Electronic Devices and Circuit Technology\",\"dp_name\":\"\",\"curriculum_terms\":[{\"name\":\"Term 1\",\"curriculum_items\":[{\"curriculum_requisites\":[],\"name\":\"MATH 1551\",\"metrics\":{\"complexity\":27.0,\"centrality\":0,\"blocking factor\":19,\"delay factor\":8.0},\"nameSub\":\"Differential Calculus\",\"id\":5,\"credits\":2,\"nameCanonical\":\"\"},{\"curriculum_requisites\":[{\"source_id\":5,\"target_id\":6,\"type\":\"CurriculumCorequisite\"}],\"name\":\"MATH 1554\",\"metrics\":{\"complexity\":19.0,\"centrality\":55,\"blocking factor\":12,\"delay factor\":7.0},\"nameSub\":\"Linear Algebra\",\"id\":6,\"credits\":4,\"nameCanonical\":\"\"},{\"curriculum_requisites\":[],\"name\":\"ENGL 1101\",\"metrics\":{\"complexity\":3.0,\"centrality\":0,\"blocking factor\":1,\"delay factor\":2.0},\"nameSub\":\"English Composition I\",\"id\":4,\"credits\":3,\"nameCanonical\":\"\"},{\"curriculum_requisites\":[],\"name\":\"ECE 3005\",\"metrics\":{\"complexity\":1.0,\"centrality\":0,\"blocking factor\":0,\"delay factor\":1.0},\"nameSub\":\"\",\"id\":28,\"credits\":1,\"nameCanonical\":\"\"},{\"curriculum_requisites\":[],\"name\":\" \",\"metrics\":{\"complexity\":1.0,\"centrality\":0,\"blocking factor\":0,\"delay factor\":1.0},\"nameSub\":\"History\\/Government Elective\",\"id\":11,\"credits\":3,\"nameCanonical\":\"\"},{\"curriculum_requisites\":[],\"name\":\" \",\"metrics\":{\"complexity\":1.0,\"centrality\":0,\"blocking factor\":0,\"delay factor\":1.0},\"nameSub\":\"Social Science Elective\",\"id\":40,\"credits\":3,\"nameCanonical\":\"\"}],\"id\":1},{\"name\":\"Term 2\",\"curriculum_items\":[{\"curriculum_requisites\":[{\"source_id\":5,\"target_id\":9,\"type\":\"CurriculumPrerequisite\"}],\"name\":\"MATH 1552\",\"metrics\":{\"complexity\":25.0,\"centrality\":111,\"blocking factor\":17,\"delay factor\":8.0},\"nameSub\":\"Integral Calculus\",\"id\":9,\"credits\":4,\"nameCanonical\":\"\"},{\"curriculum_requisites\":[{\"source_id\":4,\"target_id\":8,\"type\":\"CurriculumPrerequisite\"}],\"name\":\"ENGL 1102\",\"metrics\":{\"complexity\":2.0,\"centrality\":0,\"blocking factor\":0,\"delay factor\":2.0},\"nameSub\":\"English Composition II\",\"id\":8,\"credits\":3,\"nameCanonical\":\"\"},{\"curriculum_requisites\":[],\"name\":\" \",\"metrics\":{\"complexity\":1.0,\"centrality\":0,\"blocking factor\":0,\"delay factor\":1.0},\"nameSub\":\"Elective Hours\",\"id\":39,\"credits\":2,\"nameCanonical\":\"\"},{\"curriculum_requisites\":[],\"name\":\"CS 1301\",\"metrics\":{\"complexity\":16.0,\"centrality\":0,\"blocking factor\":10,\"delay factor\":6.0},\"nameSub\":\"Intro to Computing\",\"id\":2,\"credits\":3,\"nameCanonical\":\"\"},{\"curriculum_requisites\":[{\"source_id\":9,\"target_id\":10,\"type\":\"CurriculumCorequisite\"}],\"name\":\"PHYS  2211\",\"metrics\":{\"complexity\":20.0,\"centrality\":46,\"blocking factor\":12,\"delay factor\":8.0},\"nameSub\":\"Intro Physics 1\",\"id\":10,\"credits\":4,\"nameCanonical\":\"\"}],\"id\":2},{\"name\":\"Term 3\",\"curriculum_items\":[{\"curriculum_requisites\":[{\"source_id\":10,\"target_id\":16,\"type\":\"CurriculumPrerequisite\"}],\"name\":\"PHYS  2212\",\"metrics\":{\"complexity\":19.0,\"centrality\":46,\"blocking factor\":11,\"delay factor\":8.0},\"nameSub\":\"Intro. Physics 2\",\"id\":16,\"credits\":4,\"nameCanonical\":\"\"},{\"curriculum_requisites\":[{\"source_id\":2,\"target_id\":12,\"type\":\"CurriculumPrerequisite\"},{\"source_id\":9,\"target_id\":12,\"type\":\"CurriculumPrerequisite\"}],\"name\":\"ECE 2026\",\"metrics\":{\"complexity\":9.0,\"centrality\":11,\"blocking factor\":3,\"delay factor\":6.0},\"nameSub\":\"Intro. to Signal Processing\",\"id\":12,\"credits\":3,\"nameCanonical\":\"\"},{\"curriculum_requisites\":[{\"source_id\":2,\"target_id\":7,\"type\":\"CurriculumPrerequisite\"}],\"name\":\"ECE 2020\",\"metrics\":{\"complexity\":11.0,\"centrality\":41,\"blocking factor\":5,\"delay factor\":6.0},\"nameSub\":\"Fund. of Digital System Design\",\"id\":7,\"credits\":3,\"nameCanonical\":\"\"},{\"curriculum_requisites\":[{\"source_id\":6,\"target_id\":15,\"type\":\"CurriculumPrerequisite\"},{\"source_id\":9,\"target_id\":15,\"type\":\"CurriculumPrerequisite\"}],\"name\":\"MATH 2552\",\"metrics\":{\"complexity\":18.0,\"centrality\":110,\"blocking factor\":11,\"delay factor\":7.0},\"nameSub\":\"Differential Equations\",\"id\":15,\"credits\":4,\"nameCanonical\":\"\"},{\"curriculum_requisites\":[],\"name\":\"APPH 1040\",\"metrics\":{\"complexity\":1.0,\"centrality\":0,\"blocking factor\":0,\"delay factor\":1.0},\"nameSub\":\"\",\"id\":26,\"credits\":2,\"nameCanonical\":\"\"}],\"id\":3},{\"name\":\"Term 4\",\"curriculum_items\":[{\"curriculum_requisites\":[{\"source_id\":16,\"target_id\":19,\"type\":\"CurriculumPrerequisite\"},{\"source_id\":15,\"target_id\":19,\"type\":\"CurriculumPrerequisite\"}],\"name\":\"ECE 2040\",\"metrics\":{\"complexity\":18.0,\"centrality\":124,\"blocking factor\":10,\"delay factor\":8.0},\"nameSub\":\"Circuit Analysis\",\"id\":19,\"credits\":3,\"nameCanonical\":\"\"},{\"curriculum_requisites\":[{\"source_id\":7,\"target_id\":17,\"type\":\"CurriculumPrerequisite\"},{\"source_id\":18,\"target_id\":17,\"type\":\"CurriculumCorequisite\"}],\"name\":\"ECE 2031\",\"metrics\":{\"complexity\":9.0,\"centrality\":31,\"blocking factor\":3,\"delay factor\":6.0},\"nameSub\":\"Digital Design Lab\",\"id\":17,\"credits\":2,\"nameCanonical\":\"\"},{\"curriculum_requisites\":[],\"name\":\"CHEM 1310\",\"metrics\":{\"complexity\":6.0,\"centrality\":0,\"blocking factor\":3,\"delay factor\":3.0},\"nameSub\":\"General Chemistry\",\"id\":1,\"credits\":4,\"nameCanonical\":\"\"},{\"curriculum_requisites\":[],\"name\":\" \",\"metrics\":{\"complexity\":1.0,\"centrality\":0,\"blocking factor\":0,\"delay factor\":1.0},\"nameSub\":\"Humanities Elective\",\"id\":14,\"credits\":3,\"nameCanonical\":\"\"},{\"curriculum_requisites\":[{\"source_id\":7,\"target_id\":18,\"type\":\"CurriculumPrerequisite\"}],\"name\":\"ECE 2035\",\"metrics\":{\"complexity\":10.0,\"centrality\":27,\"blocking factor\":4,\"delay factor\":6.0},\"nameSub\":\"Programming Elective\",\"id\":18,\"credits\":4,\"nameCanonical\":\"\"}],\"id\":4},{\"name\":\"Term 5\",\"curriculum_items\":[{\"curriculum_requisites\":[{\"source_id\":9,\"target_id\":20,\"type\":\"CurriculumPrerequisite\"}],\"name\":\"MATH 2551\",\"metrics\":{\"complexity\":5.0,\"centrality\":4,\"blocking factor\":1,\"delay factor\":4.0},\"nameSub\":\"Multivariate Calculus\",\"id\":20,\"credits\":4,\"nameCanonical\":\"\"},{\"curriculum_requisites\":[{\"source_id\":15,\"target_id\":24,\"type\":\"CurriculumPrerequisite\"},{\"source_id\":12,\"target_id\":24,\"type\":\"CurriculumPrerequisite\"},{\"source_id\":19,\"target_id\":24,\"type\":\"CurriculumPrerequisite\"}],\"name\":\"ECE 3025\",\"metrics\":{\"complexity\":10.0,\"centrality\":45,\"blocking factor\":2,\"delay factor\":8.0},\"nameSub\":\"Electromagnetics\",\"id\":24,\"credits\":3,\"nameCanonical\":\"\"},{\"curriculum_requisites\":[{\"source_id\":22,\"target_id\":23,\"type\":\"CurriculumCorequisite\"},{\"source_id\":17,\"target_id\":23,\"type\":\"CurriculumPrerequisite\"}],\"name\":\"ECE 3043\",\"metrics\":{\"complexity\":7.0,\"centrality\":0,\"blocking factor\":0,\"delay factor\":7.0},\"nameSub\":\"Measurements, Circuits and Microelectronics Lab\",\"id\":23,\"credits\":2,\"nameCanonical\":\"\"},{\"curriculum_requisites\":[{\"source_id\":15,\"target_id\":22,\"type\":\"CurriculumPrerequisite\"},{\"source_id\":18,\"target_id\":22,\"type\":\"CurriculumPrerequisite\"},{\"source_id\":17,\"target_id\":22,\"type\":\"CurriculumPrerequisite\"},{\"source_id\":1,\"target_id\":22,\"type\":\"CurriculumPrerequisite\"},{\"source_id\":19,\"target_id\":22,\"type\":\"CurriculumPrerequisite\"}],\"name\":\"ECE 3040\",\"metrics\":{\"complexity\":9.0,\"centrality\":96,\"blocking factor\":2,\"delay factor\":7.0},\"nameSub\":\"Microelectronic Circuits\",\"id\":22,\"credits\":4,\"nameCanonical\":\"\"},{\"curriculum_requisites\":[{\"source_id\":19,\"target_id\":43,\"type\":\"CurriculumPrerequisite\"}],\"name\":\" \",\"metrics\":{\"complexity\":6.0,\"centrality\":0,\"blocking factor\":0,\"delay factor\":6.0},\"nameSub\":\"ECE 3000\\/4000 Elective\",\"id\":43,\"credits\":3,\"nameCanonical\":\"\"}],\"id\":5},{\"name\":\"Term 6\",\"curriculum_items\":[{\"curriculum_requisites\":[{\"source_id\":24,\"target_id\":35,\"type\":\"CurriculumPrerequisite\"}],\"name\":\" \",\"metrics\":{\"complexity\":9.0,\"centrality\":45,\"blocking factor\":1,\"delay factor\":8.0},\"nameSub\":\"Senior Design Sequence\",\"id\":35,\"credits\":1,\"nameCanonical\":\"\"},{\"curriculum_requisites\":[{\"source_id\":19,\"target_id\":45,\"type\":\"CurriculumPrerequisite\"}],\"name\":\" \",\"metrics\":{\"complexity\":6.0,\"centrality\":0,\"blocking factor\":0,\"delay factor\":6.0},\"nameSub\":\"Circuit Technologies Topics\",\"id\":45,\"credits\":3,\"nameCanonical\":\"\"},{\"curriculum_requisites\":[{\"source_id\":19,\"target_id\":37,\"type\":\"CurriculumPrerequisite\"}],\"name\":\" \",\"metrics\":{\"complexity\":6.0,\"centrality\":0,\"blocking factor\":0,\"delay factor\":6.0},\"nameSub\":\"ECE 3000\\/4000 Elective\",\"id\":37,\"credits\":3,\"nameCanonical\":\"\"},{\"curriculum_requisites\":[{\"source_id\":22,\"target_id\":36,\"type\":\"CurriculumPrerequisite\"}],\"name\":\" \",\"metrics\":{\"complexity\":7.0,\"centrality\":0,\"blocking factor\":0,\"delay factor\":7.0},\"nameSub\":\"Electronic Devices Topics\",\"id\":36,\"credits\":3,\"nameCanonical\":\"\"},{\"curriculum_requisites\":[{\"source_id\":20,\"target_id\":25,\"type\":\"CurriculumPrerequisite\"}],\"name\":\" \",\"metrics\":{\"complexity\":4.0,\"centrality\":0,\"blocking factor\":0,\"delay factor\":4.0},\"nameSub\":\"Prob & Stat Elective\",\"id\":25,\"credits\":3,\"nameCanonical\":\"\"},{\"curriculum_requisites\":[{\"source_id\":19,\"target_id\":42,\"type\":\"CurriculumPrerequisite\"}],\"name\":\" \",\"metrics\":{\"complexity\":6.0,\"centrality\":0,\"blocking factor\":0,\"delay factor\":6.0},\"nameSub\":\"ECE 3000\\/4000 Elective\",\"id\":42,\"credits\":3,\"nameCanonical\":\"\"}],\"id\":6},{\"name\":\"Term 7\",\"curriculum_items\":[{\"curriculum_requisites\":[],\"name\":\" \",\"metrics\":{\"complexity\":1.0,\"centrality\":0,\"blocking factor\":0,\"delay factor\":1.0},\"nameSub\":\"Elective Hours\",\"id\":44,\"credits\":3,\"nameCanonical\":\"\"},{\"curriculum_requisites\":[],\"name\":\" \",\"metrics\":{\"complexity\":1.0,\"centrality\":0,\"blocking factor\":0,\"delay factor\":1.0},\"nameSub\":\"Econ\\/Social Science Elective\",\"id\":13,\"credits\":3,\"nameCanonical\":\"\"},{\"curriculum_requisites\":[],\"name\":\" \",\"metrics\":{\"complexity\":1.0,\"centrality\":0,\"blocking factor\":0,\"delay factor\":1.0},\"nameSub\":\"Science Elective\",\"id\":21,\"credits\":3,\"nameCanonical\":\"\"},{\"curriculum_requisites\":[{\"source_id\":35,\"target_id\":41,\"type\":\"CurriculumPrerequisite\"}],\"name\":\" \",\"metrics\":{\"complexity\":8.0,\"centrality\":0,\"blocking factor\":0,\"delay factor\":8.0},\"nameSub\":\"Senior Design Sequence\",\"id\":41,\"credits\":2,\"nameCanonical\":\"\"},{\"curriculum_requisites\":[],\"name\":\" \",\"metrics\":{\"complexity\":1.0,\"centrality\":0,\"blocking factor\":0,\"delay factor\":1.0},\"nameSub\":\"Elective Hours\",\"id\":33,\"credits\":3,\"nameCanonical\":\"\"},{\"curriculum_requisites\":[],\"name\":\" \",\"metrics\":{\"complexity\":1.0,\"centrality\":0,\"blocking factor\":0,\"delay factor\":1.0},\"nameSub\":\"Humanities Elective\",\"id\":27,\"credits\":3,\"nameCanonical\":\"\"}],\"id\":7},{\"name\":\"Term 8\",\"curriculum_items\":[{\"curriculum_requisites\":[],\"name\":\"ECE 3450\",\"metrics\":{\"complexity\":1.0,\"centrality\":0,\"blocking factor\":0,\"delay factor\":1.0},\"nameSub\":\"\",\"id\":30,\"credits\":3,\"nameCanonical\":\"\"},{\"curriculum_requisites\":[],\"name\":\" \",\"metrics\":{\"complexity\":1.0,\"centrality\":0,\"blocking factor\":0,\"delay factor\":1.0},\"nameSub\":\"Social Science Elective\",\"id\":32,\"credits\":3,\"nameCanonical\":\"\"},{\"curriculum_requisites\":[],\"name\":\"ECE 3400\",\"metrics\":{\"complexity\":1.0,\"centrality\":0,\"blocking factor\":0,\"delay factor\":1.0},\"nameSub\":\"\",\"id\":31,\"credits\":3,\"nameCanonical\":\"\"},{\"curriculum_requisites\":[],\"name\":\" \",\"metrics\":{\"complexity\":1.0,\"centrality\":0,\"blocking factor\":0,\"delay factor\":1.0},\"nameSub\":\"Elective Hours\",\"id\":29,\"credits\":3,\"nameCanonical\":\"\"},{\"curriculum_requisites\":[],\"name\":\"ECE 4452\",\"metrics\":{\"complexity\":1.0,\"centrality\":0,\"blocking factor\":0,\"delay factor\":1.0},\"nameSub\":\"\",\"id\":38,\"credits\":3,\"nameCanonical\":\"\"},{\"curriculum_requisites\":[],\"name\":\"ECE 1100\",\"metrics\":{\"complexity\":1.0,\"centrality\":0,\"blocking factor\":0,\"delay factor\":1.0},\"nameSub\":\"ECE Discovery Studio\",\"id\":3,\"credits\":1,\"nameCanonical\":\"\"}],\"id\":8}],\"institution\":\"Georgia Institute of Technology\"}}}}},\"children\":[{\"props\":{\"src\":\"https:\\/\\/curricula-api-embed.damoursystems.com\\/\",\"id\":\"curriculum\",\"events\":{\"load\":\"(function (){this.contentWindow.postMessage({\\\"options\\\":{\\\"hideTerms\\\":false,\\\"edit\\\":false},\\\"curriculum\\\":{\\\"name\\\":\\\"Electrical Engineering - Electronic Devices and Circuit Technology\\\",\\\"dp_name\\\":\\\"\\\",\\\"curriculum_terms\\\":[{\\\"name\\\":\\\"Term 1\\\",\\\"curriculum_items\\\":[{\\\"curriculum_requisites\\\":[],\\\"name\\\":\\\"MATH 1551\\\",\\\"metrics\\\":{\\\"complexity\\\":27.0,\\\"centrality\\\":0,\\\"blocking factor\\\":19,\\\"delay factor\\\":8.0},\\\"nameSub\\\":\\\"Differential Calculus\\\",\\\"id\\\":5,\\\"credits\\\":2,\\\"nameCanonical\\\":\\\"\\\"},{\\\"curriculum_requisites\\\":[{\\\"source_id\\\":5,\\\"target_id\\\":6,\\\"type\\\":\\\"CurriculumCorequisite\\\"}],\\\"name\\\":\\\"MATH 1554\\\",\\\"metrics\\\":{\\\"complexity\\\":19.0,\\\"centrality\\\":55,\\\"blocking factor\\\":12,\\\"delay factor\\\":7.0},\\\"nameSub\\\":\\\"Linear Algebra\\\",\\\"id\\\":6,\\\"credits\\\":4,\\\"nameCanonical\\\":\\\"\\\"},{\\\"curriculum_requisites\\\":[],\\\"name\\\":\\\"ENGL 1101\\\",\\\"metrics\\\":{\\\"complexity\\\":3.0,\\\"centrality\\\":0,\\\"blocking factor\\\":1,\\\"delay factor\\\":2.0},\\\"nameSub\\\":\\\"English Composition I\\\",\\\"id\\\":4,\\\"credits\\\":3,\\\"nameCanonical\\\":\\\"\\\"},{\\\"curriculum_requisites\\\":[],\\\"name\\\":\\\"ECE 3005\\\",\\\"metrics\\\":{\\\"complexity\\\":1.0,\\\"centrality\\\":0,\\\"blocking factor\\\":0,\\\"delay factor\\\":1.0},\\\"nameSub\\\":\\\"\\\",\\\"id\\\":28,\\\"credits\\\":1,\\\"nameCanonical\\\":\\\"\\\"},{\\\"curriculum_requisites\\\":[],\\\"name\\\":\\\" \\\",\\\"metrics\\\":{\\\"complexity\\\":1.0,\\\"centrality\\\":0,\\\"blocking factor\\\":0,\\\"delay factor\\\":1.0},\\\"nameSub\\\":\\\"History\\/Government Elective\\\",\\\"id\\\":11,\\\"credits\\\":3,\\\"nameCanonical\\\":\\\"\\\"},{\\\"curriculum_requisites\\\":[],\\\"name\\\":\\\" \\\",\\\"metrics\\\":{\\\"complexity\\\":1.0,\\\"centrality\\\":0,\\\"blocking factor\\\":0,\\\"delay factor\\\":1.0},\\\"nameSub\\\":\\\"Social Science Elective\\\",\\\"id\\\":40,\\\"credits\\\":3,\\\"nameCanonical\\\":\\\"\\\"}],\\\"id\\\":1},{\\\"name\\\":\\\"Term 2\\\",\\\"curriculum_items\\\":[{\\\"curriculum_requisites\\\":[{\\\"source_id\\\":5,\\\"target_id\\\":9,\\\"type\\\":\\\"CurriculumPrerequisite\\\"}],\\\"name\\\":\\\"MATH 1552\\\",\\\"metrics\\\":{\\\"complexity\\\":25.0,\\\"centrality\\\":111,\\\"blocking factor\\\":17,\\\"delay factor\\\":8.0},\\\"nameSub\\\":\\\"Integral Calculus\\\",\\\"id\\\":9,\\\"credits\\\":4,\\\"nameCanonical\\\":\\\"\\\"},{\\\"curriculum_requisites\\\":[{\\\"source_id\\\":4,\\\"target_id\\\":8,\\\"type\\\":\\\"CurriculumPrerequisite\\\"}],\\\"name\\\":\\\"ENGL 1102\\\",\\\"metrics\\\":{\\\"complexity\\\":2.0,\\\"centrality\\\":0,\\\"blocking factor\\\":0,\\\"delay factor\\\":2.0},\\\"nameSub\\\":\\\"English Composition II\\\",\\\"id\\\":8,\\\"credits\\\":3,\\\"nameCanonical\\\":\\\"\\\"},{\\\"curriculum_requisites\\\":[],\\\"name\\\":\\\" \\\",\\\"metrics\\\":{\\\"complexity\\\":1.0,\\\"centrality\\\":0,\\\"blocking factor\\\":0,\\\"delay factor\\\":1.0},\\\"nameSub\\\":\\\"Elective Hours\\\",\\\"id\\\":39,\\\"credits\\\":2,\\\"nameCanonical\\\":\\\"\\\"},{\\\"curriculum_requisites\\\":[],\\\"name\\\":\\\"CS 1301\\\",\\\"metrics\\\":{\\\"complexity\\\":16.0,\\\"centrality\\\":0,\\\"blocking factor\\\":10,\\\"delay factor\\\":6.0},\\\"nameSub\\\":\\\"Intro to Computing\\\",\\\"id\\\":2,\\\"credits\\\":3,\\\"nameCanonical\\\":\\\"\\\"},{\\\"curriculum_requisites\\\":[{\\\"source_id\\\":9,\\\"target_id\\\":10,\\\"type\\\":\\\"CurriculumCorequisite\\\"}],\\\"name\\\":\\\"PHYS  2211\\\",\\\"metrics\\\":{\\\"complexity\\\":20.0,\\\"centrality\\\":46,\\\"blocking factor\\\":12,\\\"delay factor\\\":8.0},\\\"nameSub\\\":\\\"Intro Physics 1\\\",\\\"id\\\":10,\\\"credits\\\":4,\\\"nameCanonical\\\":\\\"\\\"}],\\\"id\\\":2},{\\\"name\\\":\\\"Term 3\\\",\\\"curriculum_items\\\":[{\\\"curriculum_requisites\\\":[{\\\"source_id\\\":10,\\\"target_id\\\":16,\\\"type\\\":\\\"CurriculumPrerequisite\\\"}],\\\"name\\\":\\\"PHYS  2212\\\",\\\"metrics\\\":{\\\"complexity\\\":19.0,\\\"centrality\\\":46,\\\"blocking factor\\\":11,\\\"delay factor\\\":8.0},\\\"nameSub\\\":\\\"Intro. Physics 2\\\",\\\"id\\\":16,\\\"credits\\\":4,\\\"nameCanonical\\\":\\\"\\\"},{\\\"curriculum_requisites\\\":[{\\\"source_id\\\":2,\\\"target_id\\\":12,\\\"type\\\":\\\"CurriculumPrerequisite\\\"},{\\\"source_id\\\":9,\\\"target_id\\\":12,\\\"type\\\":\\\"CurriculumPrerequisite\\\"}],\\\"name\\\":\\\"ECE 2026\\\",\\\"metrics\\\":{\\\"complexity\\\":9.0,\\\"centrality\\\":11,\\\"blocking factor\\\":3,\\\"delay factor\\\":6.0},\\\"nameSub\\\":\\\"Intro. to Signal Processing\\\",\\\"id\\\":12,\\\"credits\\\":3,\\\"nameCanonical\\\":\\\"\\\"},{\\\"curriculum_requisites\\\":[{\\\"source_id\\\":2,\\\"target_id\\\":7,\\\"type\\\":\\\"CurriculumPrerequisite\\\"}],\\\"name\\\":\\\"ECE 2020\\\",\\\"metrics\\\":{\\\"complexity\\\":11.0,\\\"centrality\\\":41,\\\"blocking factor\\\":5,\\\"delay factor\\\":6.0},\\\"nameSub\\\":\\\"Fund. of Digital System Design\\\",\\\"id\\\":7,\\\"credits\\\":3,\\\"nameCanonical\\\":\\\"\\\"},{\\\"curriculum_requisites\\\":[{\\\"source_id\\\":6,\\\"target_id\\\":15,\\\"type\\\":\\\"CurriculumPrerequisite\\\"},{\\\"source_id\\\":9,\\\"target_id\\\":15,\\\"type\\\":\\\"CurriculumPrerequisite\\\"}],\\\"name\\\":\\\"MATH 2552\\\",\\\"metrics\\\":{\\\"complexity\\\":18.0,\\\"centrality\\\":110,\\\"blocking factor\\\":11,\\\"delay factor\\\":7.0},\\\"nameSub\\\":\\\"Differential Equations\\\",\\\"id\\\":15,\\\"credits\\\":4,\\\"nameCanonical\\\":\\\"\\\"},{\\\"curriculum_requisites\\\":[],\\\"name\\\":\\\"APPH 1040\\\",\\\"metrics\\\":{\\\"complexity\\\":1.0,\\\"centrality\\\":0,\\\"blocking factor\\\":0,\\\"delay factor\\\":1.0},\\\"nameSub\\\":\\\"\\\",\\\"id\\\":26,\\\"credits\\\":2,\\\"nameCanonical\\\":\\\"\\\"}],\\\"id\\\":3},{\\\"name\\\":\\\"Term 4\\\",\\\"curriculum_items\\\":[{\\\"curriculum_requisites\\\":[{\\\"source_id\\\":16,\\\"target_id\\\":19,\\\"type\\\":\\\"CurriculumPrerequisite\\\"},{\\\"source_id\\\":15,\\\"target_id\\\":19,\\\"type\\\":\\\"CurriculumPrerequisite\\\"}],\\\"name\\\":\\\"ECE 2040\\\",\\\"metrics\\\":{\\\"complexity\\\":18.0,\\\"centrality\\\":124,\\\"blocking factor\\\":10,\\\"delay factor\\\":8.0},\\\"nameSub\\\":\\\"Circuit Analysis\\\",\\\"id\\\":19,\\\"credits\\\":3,\\\"nameCanonical\\\":\\\"\\\"},{\\\"curriculum_requisites\\\":[{\\\"source_id\\\":7,\\\"target_id\\\":17,\\\"type\\\":\\\"CurriculumPrerequisite\\\"},{\\\"source_id\\\":18,\\\"target_id\\\":17,\\\"type\\\":\\\"CurriculumCorequisite\\\"}],\\\"name\\\":\\\"ECE 2031\\\",\\\"metrics\\\":{\\\"complexity\\\":9.0,\\\"centrality\\\":31,\\\"blocking factor\\\":3,\\\"delay factor\\\":6.0},\\\"nameSub\\\":\\\"Digital Design Lab\\\",\\\"id\\\":17,\\\"credits\\\":2,\\\"nameCanonical\\\":\\\"\\\"},{\\\"curriculum_requisites\\\":[],\\\"name\\\":\\\"CHEM 1310\\\",\\\"metrics\\\":{\\\"complexity\\\":6.0,\\\"centrality\\\":0,\\\"blocking factor\\\":3,\\\"delay factor\\\":3.0},\\\"nameSub\\\":\\\"General Chemistry\\\",\\\"id\\\":1,\\\"credits\\\":4,\\\"nameCanonical\\\":\\\"\\\"},{\\\"curriculum_requisites\\\":[],\\\"name\\\":\\\" \\\",\\\"metrics\\\":{\\\"complexity\\\":1.0,\\\"centrality\\\":0,\\\"blocking factor\\\":0,\\\"delay factor\\\":1.0},\\\"nameSub\\\":\\\"Humanities Elective\\\",\\\"id\\\":14,\\\"credits\\\":3,\\\"nameCanonical\\\":\\\"\\\"},{\\\"curriculum_requisites\\\":[{\\\"source_id\\\":7,\\\"target_id\\\":18,\\\"type\\\":\\\"CurriculumPrerequisite\\\"}],\\\"name\\\":\\\"ECE 2035\\\",\\\"metrics\\\":{\\\"complexity\\\":10.0,\\\"centrality\\\":27,\\\"blocking factor\\\":4,\\\"delay factor\\\":6.0},\\\"nameSub\\\":\\\"Programming Elective\\\",\\\"id\\\":18,\\\"credits\\\":4,\\\"nameCanonical\\\":\\\"\\\"}],\\\"id\\\":4},{\\\"name\\\":\\\"Term 5\\\",\\\"curriculum_items\\\":[{\\\"curriculum_requisites\\\":[{\\\"source_id\\\":9,\\\"target_id\\\":20,\\\"type\\\":\\\"CurriculumPrerequisite\\\"}],\\\"name\\\":\\\"MATH 2551\\\",\\\"metrics\\\":{\\\"complexity\\\":5.0,\\\"centrality\\\":4,\\\"blocking factor\\\":1,\\\"delay factor\\\":4.0},\\\"nameSub\\\":\\\"Multivariate Calculus\\\",\\\"id\\\":20,\\\"credits\\\":4,\\\"nameCanonical\\\":\\\"\\\"},{\\\"curriculum_requisites\\\":[{\\\"source_id\\\":15,\\\"target_id\\\":24,\\\"type\\\":\\\"CurriculumPrerequisite\\\"},{\\\"source_id\\\":12,\\\"target_id\\\":24,\\\"type\\\":\\\"CurriculumPrerequisite\\\"},{\\\"source_id\\\":19,\\\"target_id\\\":24,\\\"type\\\":\\\"CurriculumPrerequisite\\\"}],\\\"name\\\":\\\"ECE 3025\\\",\\\"metrics\\\":{\\\"complexity\\\":10.0,\\\"centrality\\\":45,\\\"blocking factor\\\":2,\\\"delay factor\\\":8.0},\\\"nameSub\\\":\\\"Electromagnetics\\\",\\\"id\\\":24,\\\"credits\\\":3,\\\"nameCanonical\\\":\\\"\\\"},{\\\"curriculum_requisites\\\":[{\\\"source_id\\\":22,\\\"target_id\\\":23,\\\"type\\\":\\\"CurriculumCorequisite\\\"},{\\\"source_id\\\":17,\\\"target_id\\\":23,\\\"type\\\":\\\"CurriculumPrerequisite\\\"}],\\\"name\\\":\\\"ECE 3043\\\",\\\"metrics\\\":{\\\"complexity\\\":7.0,\\\"centrality\\\":0,\\\"blocking factor\\\":0,\\\"delay factor\\\":7.0},\\\"nameSub\\\":\\\"Measurements, Circuits and Microelectronics Lab\\\",\\\"id\\\":23,\\\"credits\\\":2,\\\"nameCanonical\\\":\\\"\\\"},{\\\"curriculum_requisites\\\":[{\\\"source_id\\\":15,\\\"target_id\\\":22,\\\"type\\\":\\\"CurriculumPrerequisite\\\"},{\\\"source_id\\\":18,\\\"target_id\\\":22,\\\"type\\\":\\\"CurriculumPrerequisite\\\"},{\\\"source_id\\\":17,\\\"target_id\\\":22,\\\"type\\\":\\\"CurriculumPrerequisite\\\"},{\\\"source_id\\\":1,\\\"target_id\\\":22,\\\"type\\\":\\\"CurriculumPrerequisite\\\"},{\\\"source_id\\\":19,\\\"target_id\\\":22,\\\"type\\\":\\\"CurriculumPrerequisite\\\"}],\\\"name\\\":\\\"ECE 3040\\\",\\\"metrics\\\":{\\\"complexity\\\":9.0,\\\"centrality\\\":96,\\\"blocking factor\\\":2,\\\"delay factor\\\":7.0},\\\"nameSub\\\":\\\"Microelectronic Circuits\\\",\\\"id\\\":22,\\\"credits\\\":4,\\\"nameCanonical\\\":\\\"\\\"},{\\\"curriculum_requisites\\\":[{\\\"source_id\\\":19,\\\"target_id\\\":43,\\\"type\\\":\\\"CurriculumPrerequisite\\\"}],\\\"name\\\":\\\" \\\",\\\"metrics\\\":{\\\"complexity\\\":6.0,\\\"centrality\\\":0,\\\"blocking factor\\\":0,\\\"delay factor\\\":6.0},\\\"nameSub\\\":\\\"ECE 3000\\/4000 Elective\\\",\\\"id\\\":43,\\\"credits\\\":3,\\\"nameCanonical\\\":\\\"\\\"}],\\\"id\\\":5},{\\\"name\\\":\\\"Term 6\\\",\\\"curriculum_items\\\":[{\\\"curriculum_requisites\\\":[{\\\"source_id\\\":24,\\\"target_id\\\":35,\\\"type\\\":\\\"CurriculumPrerequisite\\\"}],\\\"name\\\":\\\" \\\",\\\"metrics\\\":{\\\"complexity\\\":9.0,\\\"centrality\\\":45,\\\"blocking factor\\\":1,\\\"delay factor\\\":8.0},\\\"nameSub\\\":\\\"Senior Design Sequence\\\",\\\"id\\\":35,\\\"credits\\\":1,\\\"nameCanonical\\\":\\\"\\\"},{\\\"curriculum_requisites\\\":[{\\\"source_id\\\":19,\\\"target_id\\\":45,\\\"type\\\":\\\"CurriculumPrerequisite\\\"}],\\\"name\\\":\\\" \\\",\\\"metrics\\\":{\\\"complexity\\\":6.0,\\\"centrality\\\":0,\\\"blocking factor\\\":0,\\\"delay factor\\\":6.0},\\\"nameSub\\\":\\\"Circuit Technologies Topics\\\",\\\"id\\\":45,\\\"credits\\\":3,\\\"nameCanonical\\\":\\\"\\\"},{\\\"curriculum_requisites\\\":[{\\\"source_id\\\":19,\\\"target_id\\\":37,\\\"type\\\":\\\"CurriculumPrerequisite\\\"}],\\\"name\\\":\\\" \\\",\\\"metrics\\\":{\\\"complexity\\\":6.0,\\\"centrality\\\":0,\\\"blocking factor\\\":0,\\\"delay factor\\\":6.0},\\\"nameSub\\\":\\\"ECE 3000\\/4000 Elective\\\",\\\"id\\\":37,\\\"credits\\\":3,\\\"nameCanonical\\\":\\\"\\\"},{\\\"curriculum_requisites\\\":[{\\\"source_id\\\":22,\\\"target_id\\\":36,\\\"type\\\":\\\"CurriculumPrerequisite\\\"}],\\\"name\\\":\\\" \\\",\\\"metrics\\\":{\\\"complexity\\\":7.0,\\\"centrality\\\":0,\\\"blocking factor\\\":0,\\\"delay factor\\\":7.0},\\\"nameSub\\\":\\\"Electronic Devices Topics\\\",\\\"id\\\":36,\\\"credits\\\":3,\\\"nameCanonical\\\":\\\"\\\"},{\\\"curriculum_requisites\\\":[{\\\"source_id\\\":20,\\\"target_id\\\":25,\\\"type\\\":\\\"CurriculumPrerequisite\\\"}],\\\"name\\\":\\\" \\\",\\\"metrics\\\":{\\\"complexity\\\":4.0,\\\"centrality\\\":0,\\\"blocking factor\\\":0,\\\"delay factor\\\":4.0},\\\"nameSub\\\":\\\"Prob & Stat Elective\\\",\\\"id\\\":25,\\\"credits\\\":3,\\\"nameCanonical\\\":\\\"\\\"},{\\\"curriculum_requisites\\\":[{\\\"source_id\\\":19,\\\"target_id\\\":42,\\\"type\\\":\\\"CurriculumPrerequisite\\\"}],\\\"name\\\":\\\" \\\",\\\"metrics\\\":{\\\"complexity\\\":6.0,\\\"centrality\\\":0,\\\"blocking factor\\\":0,\\\"delay factor\\\":6.0},\\\"nameSub\\\":\\\"ECE 3000\\/4000 Elective\\\",\\\"id\\\":42,\\\"credits\\\":3,\\\"nameCanonical\\\":\\\"\\\"}],\\\"id\\\":6},{\\\"name\\\":\\\"Term 7\\\",\\\"curriculum_items\\\":[{\\\"curriculum_requisites\\\":[],\\\"name\\\":\\\" \\\",\\\"metrics\\\":{\\\"complexity\\\":1.0,\\\"centrality\\\":0,\\\"blocking factor\\\":0,\\\"delay factor\\\":1.0},\\\"nameSub\\\":\\\"Elective Hours\\\",\\\"id\\\":44,\\\"credits\\\":3,\\\"nameCanonical\\\":\\\"\\\"},{\\\"curriculum_requisites\\\":[],\\\"name\\\":\\\" \\\",\\\"metrics\\\":{\\\"complexity\\\":1.0,\\\"centrality\\\":0,\\\"blocking factor\\\":0,\\\"delay factor\\\":1.0},\\\"nameSub\\\":\\\"Econ\\/Social Science Elective\\\",\\\"id\\\":13,\\\"credits\\\":3,\\\"nameCanonical\\\":\\\"\\\"},{\\\"curriculum_requisites\\\":[],\\\"name\\\":\\\" \\\",\\\"metrics\\\":{\\\"complexity\\\":1.0,\\\"centrality\\\":0,\\\"blocking factor\\\":0,\\\"delay factor\\\":1.0},\\\"nameSub\\\":\\\"Science Elective\\\",\\\"id\\\":21,\\\"credits\\\":3,\\\"nameCanonical\\\":\\\"\\\"},{\\\"curriculum_requisites\\\":[{\\\"source_id\\\":35,\\\"target_id\\\":41,\\\"type\\\":\\\"CurriculumPrerequisite\\\"}],\\\"name\\\":\\\" \\\",\\\"metrics\\\":{\\\"complexity\\\":8.0,\\\"centrality\\\":0,\\\"blocking factor\\\":0,\\\"delay factor\\\":8.0},\\\"nameSub\\\":\\\"Senior Design Sequence\\\",\\\"id\\\":41,\\\"credits\\\":2,\\\"nameCanonical\\\":\\\"\\\"},{\\\"curriculum_requisites\\\":[],\\\"name\\\":\\\" \\\",\\\"metrics\\\":{\\\"complexity\\\":1.0,\\\"centrality\\\":0,\\\"blocking factor\\\":0,\\\"delay factor\\\":1.0},\\\"nameSub\\\":\\\"Elective Hours\\\",\\\"id\\\":33,\\\"credits\\\":3,\\\"nameCanonical\\\":\\\"\\\"},{\\\"curriculum_requisites\\\":[],\\\"name\\\":\\\" \\\",\\\"metrics\\\":{\\\"complexity\\\":1.0,\\\"centrality\\\":0,\\\"blocking factor\\\":0,\\\"delay factor\\\":1.0},\\\"nameSub\\\":\\\"Humanities Elective\\\",\\\"id\\\":27,\\\"credits\\\":3,\\\"nameCanonical\\\":\\\"\\\"}],\\\"id\\\":7},{\\\"name\\\":\\\"Term 8\\\",\\\"curriculum_items\\\":[{\\\"curriculum_requisites\\\":[],\\\"name\\\":\\\"ECE 3450\\\",\\\"metrics\\\":{\\\"complexity\\\":1.0,\\\"centrality\\\":0,\\\"blocking factor\\\":0,\\\"delay factor\\\":1.0},\\\"nameSub\\\":\\\"\\\",\\\"id\\\":30,\\\"credits\\\":3,\\\"nameCanonical\\\":\\\"\\\"},{\\\"curriculum_requisites\\\":[],\\\"name\\\":\\\" \\\",\\\"metrics\\\":{\\\"complexity\\\":1.0,\\\"centrality\\\":0,\\\"blocking factor\\\":0,\\\"delay factor\\\":1.0},\\\"nameSub\\\":\\\"Social Science Elective\\\",\\\"id\\\":32,\\\"credits\\\":3,\\\"nameCanonical\\\":\\\"\\\"},{\\\"curriculum_requisites\\\":[],\\\"name\\\":\\\"ECE 3400\\\",\\\"metrics\\\":{\\\"complexity\\\":1.0,\\\"centrality\\\":0,\\\"blocking factor\\\":0,\\\"delay factor\\\":1.0},\\\"nameSub\\\":\\\"\\\",\\\"id\\\":31,\\\"credits\\\":3,\\\"nameCanonical\\\":\\\"\\\"},{\\\"curriculum_requisites\\\":[],\\\"name\\\":\\\" \\\",\\\"metrics\\\":{\\\"complexity\\\":1.0,\\\"centrality\\\":0,\\\"blocking factor\\\":0,\\\"delay factor\\\":1.0},\\\"nameSub\\\":\\\"Elective Hours\\\",\\\"id\\\":29,\\\"credits\\\":3,\\\"nameCanonical\\\":\\\"\\\"},{\\\"curriculum_requisites\\\":[],\\\"name\\\":\\\"ECE 4452\\\",\\\"metrics\\\":{\\\"complexity\\\":1.0,\\\"centrality\\\":0,\\\"blocking factor\\\":0,\\\"delay factor\\\":1.0},\\\"nameSub\\\":\\\"\\\",\\\"id\\\":38,\\\"credits\\\":3,\\\"nameCanonical\\\":\\\"\\\"},{\\\"curriculum_requisites\\\":[],\\\"name\\\":\\\"ECE 1100\\\",\\\"metrics\\\":{\\\"complexity\\\":1.0,\\\"centrality\\\":0,\\\"blocking factor\\\":0,\\\"delay factor\\\":1.0},\\\"nameSub\\\":\\\"ECE Discovery Studio\\\",\\\"id\\\":3,\\\"credits\\\":1,\\\"nameCanonical\\\":\\\"\\\"}],\\\"id\\\":8}],\\\"institution\\\":\\\"Georgia Institute of Technology\\\"}},\\\"*\\\"); window.removeEventListener(\\\"message\\\",window.messageReceived); window.messageReceived=(function (event){return (event.data.curriculum!==undefined) ? (WebIO.setval({\\\"name\\\":\\\"curriculum-data\\\",\\\"scope\\\":\\\"3955449964297723881\\\",\\\"id\\\":\\\"10962947106259573380\\\",\\\"type\\\":\\\"observable\\\"},event.data.curriculum)) : undefined}); return window.addEventListener(\\\"message\\\",window.messageReceived)})\"},\"style\":{\"padding\":\"0\",\"height\":\"100vh\",\"margin\":\"0\",\"border\":\"none\",\"width\":\"100%\"}},\"nodeType\":\"DOM\",\"type\":\"node\",\"instanceArgs\":{\"namespace\":\"html\",\"tag\":\"iframe\"},\"children\":[\"\"]}]},\n",
       "            window,\n",
       "        );\n",
       "    } else {\n",
       "        document\n",
       "            .querySelector('[data-webio-mountpoint=\"6028667540988096618\"]')\n",
       "            .innerHTML = (\n",
       "                '<div style=\"padding: 1em; background-color: #f8d6da; border: 1px solid #f5c6cb\">' +\n",
       "                '<p><strong>WebIO not detected.</strong></p>' +\n",
       "                '<p>Please read ' +\n",
       "                '<a href=\"https://juliagizmos.github.io/WebIO.jl/latest/troubleshooting/not-detected/\" target=\"_blank\">the troubleshooting guide</a> ' +\n",
       "                'for more information on how to resolve this issue.</p>' +\n",
       "                '<p><a href=\"https://juliagizmos.github.io/WebIO.jl/latest/troubleshooting/not-detected/\" target=\"_blank\">https://juliagizmos.github.io/WebIO.jl/latest/troubleshooting/not-detected/</a></p>' +\n",
       "                '</div>'\n",
       "            );\n",
       "    }\n",
       "    </script>\n",
       "</div>\n"
      ],
      "text/plain": [
       "WebIO.Scope(WebIO.Node{WebIO.DOM}(WebIO.DOM(:html, :iframe), Any[\"\"], Dict{Symbol, Any}(:src => \"https://curricula-api-embed.damoursystems.com/\", :id => \"curriculum\", :events => Dict{Symbol, WebIO.JSString}(:load => WebIO.JSString(\"(function (){this.contentWindow.postMessage({\\\"options\\\":{\\\"hideTerms\\\":false,\\\"edit\\\":false},\\\"curriculum\\\":{\\\"name\\\":\\\"Electrical Engineering - Electronic Devices and Circuit Technology\\\",\\\"dp_name\\\":\\\"\\\",\\\"curriculum_terms\\\":[{\\\"name\\\":\\\"Term 1\\\",\\\"curriculum_items\\\":[{\\\"curriculum_requisites\\\":[],\\\"name\\\":\\\"MATH 1551\\\",\\\"metrics\\\":{\\\"complexity\\\":27.0,\\\"centrality\\\":0,\\\"blocking factor\\\":19,\\\"delay factor\\\":8.0},\\\"nameSub\\\":\\\"Differential Calculus\\\",\\\"id\\\":5,\\\"credits\\\":2,\\\"nameCanonical\\\":\\\"\\\"},{\\\"curriculum_requisites\\\":[{\\\"source_id\\\":5,\\\"target_id\\\":6,\\\"type\\\":\\\"CurriculumCorequisite\\\"}],\\\"name\\\":\\\"MATH 1554\\\",\\\"metrics\\\":{\\\"complexity\\\":19.0,\\\"centrality\\\":55,\\\"blocking factor\\\":12,\\\"delay factor\\\":7.0},\\\"nameSub\\\":\\\"Linear Algebra\\\",\\\"id\\\":6,\\\"credits\\\":4,\\\"nameCanonical\\\":\\\"\\\"},{\\\"curriculum_requisites\\\":[],\\\"name\\\":\\\"ENGL 1101\\\",\\\"metrics\\\":{\\\"complexity\\\":3.0,\\\"centrality\\\":0,\\\"blocking factor\\\":1,\\\"delay factor\\\":2.0},\\\"nameSub\\\":\\\"English Composition I\\\",\\\"id\\\":4,\\\"credits\\\":3,\\\"nameCanonical\\\":\\\"\\\"},{\\\"curriculum_requisites\\\":[],\\\"name\\\":\\\"ECE 3005\\\",\\\"metrics\\\":{\\\"complexity\\\":1.0,\\\"centrality\\\":0,\\\"blocking factor\\\":0,\\\"delay factor\\\":1.0},\\\"nameSub\\\":\\\"\\\",\\\"id\\\":28,\\\"credits\\\":1,\\\"nameCanonical\\\":\\\"\\\"},{\\\"curriculum_requisites\\\":[],\\\"name\\\":\\\" \\\",\\\"metrics\\\":{\\\"complexity\\\":1.0,\\\"centrality\\\":0,\\\"blocking factor\\\":0,\\\"delay factor\\\":1.0},\\\"nameSub\\\":\\\"History/Government Elective\\\",\\\"id\\\":11,\\\"credits\\\":3,\\\"nameCanonical\\\":\\\"\\\"},{\\\"curriculum_requisites\\\":[],\\\"name\\\":\\\" \\\",\\\"metrics\\\":{\\\"complexity\\\":1.0,\\\"centrality\\\":0,\\\"blocking factor\\\":0,\\\"delay factor\\\":1.0},\\\"nameSub\\\":\\\"Social Science Elective\\\",\\\"id\\\":40,\\\"credits\\\":3,\\\"nameCanonical\\\":\\\"\\\"}],\\\"id\\\":1},{\\\"name\\\":\\\"Term 2\\\",\\\"curriculum_items\\\":[{\\\"curriculum_requisites\\\":[{\\\"source_id\\\":5,\\\"target_id\\\":9,\\\"type\\\":\\\"CurriculumPrerequisite\\\"}],\\\"name\\\":\\\"MATH 1552\\\",\\\"metrics\\\":{\\\"complexity\\\":25.0,\\\"centrality\\\":111,\\\"blocking factor\\\":17,\\\"delay factor\\\":8.0},\\\"nameSub\\\":\\\"Integral Calculus\\\",\\\"id\\\":9,\\\"credits\\\":4,\\\"nameCanonical\\\":\\\"\\\"},{\\\"curriculum_requisites\\\":[{\\\"source_id\\\":4,\\\"target_id\\\":8,\\\"type\\\":\\\"CurriculumPrerequisite\\\"}],\\\"name\\\":\\\"ENGL 1102\\\",\\\"metrics\\\":{\\\"complexity\\\":2.0,\\\"centrality\\\":0,\\\"blocking factor\\\":0,\\\"delay factor\\\":2.0},\\\"nameSub\\\":\\\"English Composition II\\\",\\\"id\\\":8,\\\"credits\\\":3,\\\"nameCanonical\\\":\\\"\\\"},{\\\"curriculum_requisites\\\":[],\\\"name\\\":\\\" \\\",\\\"metrics\\\":{\\\"complexity\\\":1.0,\\\"centrality\\\":0,\\\"blocking factor\\\":0,\\\"delay factor\\\":1.0},\\\"nameSub\\\":\\\"Elective Hours\\\",\\\"id\\\":39,\\\"credits\\\":2,\\\"nameCanonical\\\":\\\"\\\"},{\\\"curriculum_requisites\\\":[],\\\"name\\\":\\\"CS 1301\\\",\\\"metrics\\\":{\\\"complexity\\\":16.0,\\\"centrality\\\":0,\\\"blocking factor\\\":10,\\\"delay factor\\\":6.0},\\\"nameSub\\\":\\\"Intro to Computing\\\",\\\"id\\\":2,\\\"credits\\\":3,\\\"nameCanonical\\\":\\\"\\\"},{\\\"curriculum_requisites\\\":[{\\\"source_id\\\":9,\\\"target_id\\\":10,\\\"type\\\":\\\"CurriculumCorequisite\\\"}],\\\"name\\\":\\\"PHYS  2211\\\",\\\"metrics\\\":{\\\"complexity\\\":20.0,\\\"centrality\\\":46,\\\"blocking factor\\\":12,\\\"delay factor\\\":8.0},\\\"nameSub\\\":\\\"Intro Physics 1\\\",\\\"id\\\":10,\\\"credits\\\":4,\\\"nameCanonical\\\":\\\"\\\"}],\\\"id\\\":2},{\\\"name\\\":\\\"Term 3\\\",\\\"curriculum_items\\\":[{\\\"curriculum_requisites\\\":[{\\\"source_id\\\":10,\\\"target_id\\\":16,\\\"type\\\":\\\"CurriculumPrerequisite\\\"}],\\\"name\\\":\\\"PHYS  2212\\\",\\\"metrics\\\":{\\\"complexity\\\":19.0,\\\"centrality\\\":46,\\\"blocking factor\\\":11,\\\"delay factor\\\":8.0},\\\"nameSub\\\":\\\"Intro. Physics 2\\\",\\\"id\\\":16,\\\"credits\\\":4,\\\"nameCanonical\\\":\\\"\\\"},{\\\"curriculum_requisites\\\":[{\\\"source_id\\\":2,\\\"target_id\\\":12,\\\"type\\\":\\\"CurriculumPrerequisite\\\"},{\\\"source_id\\\":9,\\\"target_id\\\":12,\\\"type\\\":\\\"CurriculumPrerequisite\\\"}],\\\"name\\\":\\\"ECE 2026\\\",\\\"metrics\\\":{\\\"complexity\\\":9.0,\\\"centrality\\\":11,\\\"blocking factor\\\":3,\\\"delay factor\\\":6.0},\\\"nameSub\\\":\\\"Intro. to Signal Processing\\\",\\\"id\\\":12,\\\"credits\\\":3,\\\"nameCanonical\\\":\\\"\\\"},{\\\"curriculum_requisites\\\":[{\\\"source_id\\\":2,\\\"target_id\\\":7,\\\"type\\\":\\\"CurriculumPrerequisite\\\"}],\\\"name\\\":\\\"ECE 2020\\\",\\\"metrics\\\":{\\\"complexity\\\":11.0,\\\"centrality\\\":41,\\\"blocking factor\\\":5,\\\"delay factor\\\":6.0},\\\"nameSub\\\":\\\"Fund. of Digital System Design\\\",\\\"id\\\":7,\\\"credits\\\":3,\\\"nameCanonical\\\":\\\"\\\"},{\\\"curriculum_requisites\\\":[{\\\"source_id\\\":6,\\\"target_id\\\":15,\\\"type\\\":\\\"CurriculumPrerequisite\\\"},{\\\"source_id\\\":9,\\\"target_id\\\":15,\\\"type\\\":\\\"CurriculumPrerequisite\\\"}],\\\"name\\\":\\\"MATH 2552\\\",\\\"metrics\\\":{\\\"complexity\\\":18.0,\\\"centrality\\\":110,\\\"blocking factor\\\":11,\\\"delay factor\\\":7.0},\\\"nameSub\\\":\\\"Differential Equations\\\",\\\"id\\\":15,\\\"credits\\\":4,\\\"nameCanonical\\\":\\\"\\\"},{\\\"curriculum_requisites\\\":[],\\\"name\\\":\\\"APPH 1040\\\",\\\"metrics\\\":{\\\"complexity\\\":1.0,\\\"centrality\\\":0,\\\"blocking factor\\\":0,\\\"delay factor\\\":1.0},\\\"nameSub\\\":\\\"\\\",\\\"id\\\":26,\\\"credits\\\":2,\\\"nameCanonical\\\":\\\"\\\"}],\\\"id\\\":3},{\\\"name\\\":\\\"Term 4\\\",\\\"curriculum_items\\\":[{\\\"curriculum_requisites\\\":[{\\\"source_id\\\":16,\\\"target_id\\\":19,\\\"type\\\":\\\"CurriculumPrerequisite\\\"},{\\\"source_id\\\":15,\\\"target_id\\\":19,\\\"type\\\":\\\"CurriculumPrerequisite\\\"}],\\\"name\\\":\\\"ECE 2040\\\",\\\"metrics\\\":{\\\"complexity\\\":18.0,\\\"centrality\\\":124,\\\"blocking factor\\\":10,\\\"delay factor\\\":8.0},\\\"nameSub\\\":\\\"Circuit Analysis\\\",\\\"id\\\":19,\\\"credits\\\":3,\\\"nameCanonical\\\":\\\"\\\"},{\\\"curriculum_requisites\\\":[{\\\"source_id\\\":7,\\\"target_id\\\":17,\\\"type\\\":\\\"CurriculumPrerequisite\\\"},{\\\"source_id\\\":18,\\\"target_id\\\":17,\\\"type\\\":\\\"CurriculumCorequisite\\\"}],\\\"name\\\":\\\"ECE 2031\\\",\\\"metrics\\\":{\\\"complexity\\\":9.0,\\\"centrality\\\":31,\\\"blocking factor\\\":3,\\\"delay factor\\\":6.0},\\\"nameSub\\\":\\\"Digital Design Lab\\\",\\\"id\\\":17,\\\"credits\\\":2,\\\"nameCanonical\\\":\\\"\\\"},{\\\"curriculum_requisites\\\":[],\\\"name\\\":\\\"CHEM 1310\\\",\\\"metrics\\\":{\\\"complexity\\\":6.0,\\\"centrality\\\":0,\\\"blocking factor\\\":3,\\\"delay factor\\\":3.0},\\\"nameSub\\\":\\\"General Chemistry\\\",\\\"id\\\":1,\\\"credits\\\":4,\\\"nameCanonical\\\":\\\"\\\"},{\\\"curriculum_requisites\\\":[],\\\"name\\\":\\\" \\\",\\\"metrics\\\":{\\\"complexity\\\":1.0,\\\"centrality\\\":0,\\\"blocking factor\\\":0,\\\"delay factor\\\":1.0},\\\"nameSub\\\":\\\"Humanities Elective\\\",\\\"id\\\":14,\\\"credits\\\":3,\\\"nameCanonical\\\":\\\"\\\"},{\\\"curriculum_requisites\\\":[{\\\"source_id\\\":7,\\\"target_id\\\":18,\\\"type\\\":\\\"CurriculumPrerequisite\\\"}],\\\"name\\\":\\\"ECE 2035\\\",\\\"metrics\\\":{\\\"complexity\\\":10.0,\\\"centrality\\\":27,\\\"blocking factor\\\":4,\\\"delay factor\\\":6.0},\\\"nameSub\\\":\\\"Programming Elective\\\",\\\"id\\\":18,\\\"credits\\\":4,\\\"nameCanonical\\\":\\\"\\\"}],\\\"id\\\":4},{\\\"name\\\":\\\"Term 5\\\",\\\"curriculum_items\\\":[{\\\"curriculum_requisites\\\":[{\\\"source_id\\\":9,\\\"target_id\\\":20,\\\"type\\\":\\\"CurriculumPrerequisite\\\"}],\\\"name\\\":\\\"MATH 2551\\\",\\\"metrics\\\":{\\\"complexity\\\":5.0,\\\"centrality\\\":4,\\\"blocking factor\\\":1,\\\"delay factor\\\":4.0},\\\"nameSub\\\":\\\"Multivariate Calculus\\\",\\\"id\\\":20,\\\"credits\\\":4,\\\"nameCanonical\\\":\\\"\\\"},{\\\"curriculum_requisites\\\":[{\\\"source_id\\\":15,\\\"target_id\\\":24,\\\"type\\\":\\\"CurriculumPrerequisite\\\"},{\\\"source_id\\\":12,\\\"target_id\\\":24,\\\"type\\\":\\\"CurriculumPrerequisite\\\"},{\\\"source_id\\\":19,\\\"target_id\\\":24,\\\"type\\\":\\\"CurriculumPrerequisite\\\"}],\\\"name\\\":\\\"ECE 3025\\\",\\\"metrics\\\":{\\\"complexity\\\":10.0,\\\"centrality\\\":45,\\\"blocking factor\\\":2,\\\"delay factor\\\":8.0},\\\"nameSub\\\":\\\"Electromagnetics\\\",\\\"id\\\":24,\\\"credits\\\":3,\\\"nameCanonical\\\":\\\"\\\"},{\\\"curriculum_requisites\\\":[{\\\"source_id\\\":22,\\\"target_id\\\":23,\\\"type\\\":\\\"CurriculumCorequisite\\\"},{\\\"source_id\\\":17,\\\"target_id\\\":23,\\\"type\\\":\\\"CurriculumPrerequisite\\\"}],\\\"name\\\":\\\"ECE 3043\\\",\\\"metrics\\\":{\\\"complexity\\\":7.0,\\\"centrality\\\":0,\\\"blocking factor\\\":0,\\\"delay factor\\\":7.0},\\\"nameSub\\\":\\\"Measurements, Circuits and Microelectronics Lab\\\",\\\"id\\\":23,\\\"credits\\\":2,\\\"nameCanonical\\\":\\\"\\\"},{\\\"curriculum_requisites\\\":[{\\\"source_id\\\":15,\\\"target_id\\\":22,\\\"type\\\":\\\"CurriculumPrerequisite\\\"},{\\\"source_id\\\":18,\\\"target_id\\\":22,\\\"type\\\":\\\"CurriculumPrerequisite\\\"},{\\\"source_id\\\":17,\\\"target_id\\\":22,\\\"type\\\":\\\"CurriculumPrerequisite\\\"},{\\\"source_id\\\":1,\\\"target_id\\\":22,\\\"type\\\":\\\"CurriculumPrerequisite\\\"},{\\\"source_id\\\":19,\\\"target_id\\\":22,\\\"type\\\":\\\"CurriculumPrerequisite\\\"}],\\\"name\\\":\\\"ECE 3040\\\",\\\"metrics\\\":{\\\"complexity\\\":9.0,\\\"centrality\\\":96,\\\"blocking factor\\\":2,\\\"delay factor\\\":7.0},\\\"nameSub\\\":\\\"Microelectronic Circuits\\\",\\\"id\\\":22,\\\"credits\\\":4,\\\"nameCanonical\\\":\\\"\\\"},{\\\"curriculum_requisites\\\":[{\\\"source_id\\\":19,\\\"target_id\\\":43,\\\"type\\\":\\\"CurriculumPrerequisite\\\"}],\\\"name\\\":\\\" \\\",\\\"metrics\\\":{\\\"complexity\\\":6.0,\\\"centrality\\\":0,\\\"blocking factor\\\":0,\\\"delay factor\\\":6.0},\\\"nameSub\\\":\\\"ECE 3000/4000 Elective\\\",\\\"id\\\":43,\\\"credits\\\":3,\\\"nameCanonical\\\":\\\"\\\"}],\\\"id\\\":5},{\\\"name\\\":\\\"Term 6\\\",\\\"curriculum_items\\\":[{\\\"curriculum_requisites\\\":[{\\\"source_id\\\":24,\\\"target_id\\\":35,\\\"type\\\":\\\"CurriculumPrerequisite\\\"}],\\\"name\\\":\\\" \\\",\\\"metrics\\\":{\\\"complexity\\\":9.0,\\\"centrality\\\":45,\\\"blocking factor\\\":1,\\\"delay factor\\\":8.0},\\\"nameSub\\\":\\\"Senior Design Sequence\\\",\\\"id\\\":35,\\\"credits\\\":1,\\\"nameCanonical\\\":\\\"\\\"},{\\\"curriculum_requisites\\\":[{\\\"source_id\\\":19,\\\"target_id\\\":45,\\\"type\\\":\\\"CurriculumPrerequisite\\\"}],\\\"name\\\":\\\" \\\",\\\"metrics\\\":{\\\"complexity\\\":6.0,\\\"centrality\\\":0,\\\"blocking factor\\\":0,\\\"delay factor\\\":6.0},\\\"nameSub\\\":\\\"Circuit Technologies Topics\\\",\\\"id\\\":45,\\\"credits\\\":3,\\\"nameCanonical\\\":\\\"\\\"},{\\\"curriculum_requisites\\\":[{\\\"source_id\\\":19,\\\"target_id\\\":37,\\\"type\\\":\\\"CurriculumPrerequisite\\\"}],\\\"name\\\":\\\" \\\",\\\"metrics\\\":{\\\"complexity\\\":6.0,\\\"centrality\\\":0,\\\"blocking factor\\\":0,\\\"delay factor\\\":6.0},\\\"nameSub\\\":\\\"ECE 3000/4000 Elective\\\",\\\"id\\\":37,\\\"credits\\\":3,\\\"nameCanonical\\\":\\\"\\\"},{\\\"curriculum_requisites\\\":[{\\\"source_id\\\":22,\\\"target_id\\\":36,\\\"type\\\":\\\"CurriculumPrerequisite\\\"}],\\\"name\\\":\\\" \\\",\\\"metrics\\\":{\\\"complexity\\\":7.0,\\\"centrality\\\":0,\\\"blocking factor\\\":0,\\\"delay factor\\\":7.0},\\\"nameSub\\\":\\\"Electronic Devices Topics\\\",\\\"id\\\":36,\\\"credits\\\":3,\\\"nameCanonical\\\":\\\"\\\"},{\\\"curriculum_requisites\\\":[{\\\"source_id\\\":20,\\\"target_id\\\":25,\\\"type\\\":\\\"CurriculumPrerequisite\\\"}],\\\"name\\\":\\\" \\\",\\\"metrics\\\":{\\\"complexity\\\":4.0,\\\"centrality\\\":0,\\\"blocking factor\\\":0,\\\"delay factor\\\":4.0},\\\"nameSub\\\":\\\"Prob & Stat Elective\\\",\\\"id\\\":25,\\\"credits\\\":3,\\\"nameCanonical\\\":\\\"\\\"},{\\\"curriculum_requisites\\\":[{\\\"source_id\\\":19,\\\"target_id\\\":42,\\\"type\\\":\\\"CurriculumPrerequisite\\\"}],\\\"name\\\":\\\" \\\",\\\"metrics\\\":{\\\"complexity\\\":6.0,\\\"centrality\\\":0,\\\"blocking factor\\\":0,\\\"delay factor\\\":6.0},\\\"nameSub\\\":\\\"ECE 3000/4000 Elective\\\",\\\"id\\\":42,\\\"credits\\\":3,\\\"nameCanonical\\\":\\\"\\\"}],\\\"id\\\":6},{\\\"name\\\":\\\"Term 7\\\",\\\"curriculum_items\\\":[{\\\"curriculum_requisites\\\":[],\\\"name\\\":\\\" \\\",\\\"metrics\\\":{\\\"complexity\\\":1.0,\\\"centrality\\\":0,\\\"blocking factor\\\":0,\\\"delay factor\\\":1.0},\\\"nameSub\\\":\\\"Elective Hours\\\",\\\"id\\\":44,\\\"credits\\\":3,\\\"nameCanonical\\\":\\\"\\\"},{\\\"curriculum_requisites\\\":[],\\\"name\\\":\\\" \\\",\\\"metrics\\\":{\\\"complexity\\\":1.0,\\\"centrality\\\":0,\\\"blocking factor\\\":0,\\\"delay factor\\\":1.0},\\\"nameSub\\\":\\\"Econ/Social Science Elective\\\",\\\"id\\\":13,\\\"credits\\\":3,\\\"nameCanonical\\\":\\\"\\\"},{\\\"curriculum_requisites\\\":[],\\\"name\\\":\\\" \\\",\\\"metrics\\\":{\\\"complexity\\\":1.0,\\\"centrality\\\":0,\\\"blocking factor\\\":0,\\\"delay factor\\\":1.0},\\\"nameSub\\\":\\\"Science Elective\\\",\\\"id\\\":21,\\\"credits\\\":3,\\\"nameCanonical\\\":\\\"\\\"},{\\\"curriculum_requisites\\\":[{\\\"source_id\\\":35,\\\"target_id\\\":41,\\\"type\\\":\\\"CurriculumPrerequisite\\\"}],\\\"name\\\":\\\" \\\",\\\"metrics\\\":{\\\"complexity\\\":8.0,\\\"centrality\\\":0,\\\"blocking factor\\\":0,\\\"delay factor\\\":8.0},\\\"nameSub\\\":\\\"Senior Design Sequence\\\",\\\"id\\\":41,\\\"credits\\\":2,\\\"nameCanonical\\\":\\\"\\\"},{\\\"curriculum_requisites\\\":[],\\\"name\\\":\\\" \\\",\\\"metrics\\\":{\\\"complexity\\\":1.0,\\\"centrality\\\":0,\\\"blocking factor\\\":0,\\\"delay factor\\\":1.0},\\\"nameSub\\\":\\\"Elective Hours\\\",\\\"id\\\":33,\\\"credits\\\":3,\\\"nameCanonical\\\":\\\"\\\"},{\\\"curriculum_requisites\\\":[],\\\"name\\\":\\\" \\\",\\\"metrics\\\":{\\\"complexity\\\":1.0,\\\"centrality\\\":0,\\\"blocking factor\\\":0,\\\"delay factor\\\":1.0},\\\"nameSub\\\":\\\"Humanities Elective\\\",\\\"id\\\":27,\\\"credits\\\":3,\\\"nameCanonical\\\":\\\"\\\"}],\\\"id\\\":7},{\\\"name\\\":\\\"Term 8\\\",\\\"curriculum_items\\\":[{\\\"curriculum_requisites\\\":[],\\\"name\\\":\\\"ECE 3450\\\",\\\"metrics\\\":{\\\"complexity\\\":1.0,\\\"centrality\\\":0,\\\"blocking factor\\\":0,\\\"delay factor\\\":1.0},\\\"nameSub\\\":\\\"\\\",\\\"id\\\":30,\\\"credits\\\":3,\\\"nameCanonical\\\":\\\"\\\"},{\\\"curriculum_requisites\\\":[],\\\"name\\\":\\\" \\\",\\\"metrics\\\":{\\\"complexity\\\":1.0,\\\"centrality\\\":0,\\\"blocking factor\\\":0,\\\"delay factor\\\":1.0},\\\"nameSub\\\":\\\"Social Science Elective\\\",\\\"id\\\":32,\\\"credits\\\":3,\\\"nameCanonical\\\":\\\"\\\"},{\\\"curriculum_requisites\\\":[],\\\"name\\\":\\\"ECE 3400\\\",\\\"metrics\\\":{\\\"complexity\\\":1.0,\\\"centrality\\\":0,\\\"blocking factor\\\":0,\\\"delay factor\\\":1.0},\\\"nameSub\\\":\\\"\\\",\\\"id\\\":31,\\\"credits\\\":3,\\\"nameCanonical\\\":\\\"\\\"},{\\\"curriculum_requisites\\\":[],\\\"name\\\":\\\" \\\",\\\"metrics\\\":{\\\"complexity\\\":1.0,\\\"centrality\\\":0,\\\"blocking factor\\\":0,\\\"delay factor\\\":1.0},\\\"nameSub\\\":\\\"Elective Hours\\\",\\\"id\\\":29,\\\"credits\\\":3,\\\"nameCanonical\\\":\\\"\\\"},{\\\"curriculum_requisites\\\":[],\\\"name\\\":\\\"ECE 4452\\\",\\\"metrics\\\":{\\\"complexity\\\":1.0,\\\"centrality\\\":0,\\\"blocking factor\\\":0,\\\"delay factor\\\":1.0},\\\"nameSub\\\":\\\"\\\",\\\"id\\\":38,\\\"credits\\\":3,\\\"nameCanonical\\\":\\\"\\\"},{\\\"curriculum_requisites\\\":[],\\\"name\\\":\\\"ECE 1100\\\",\\\"metrics\\\":{\\\"complexity\\\":1.0,\\\"centrality\\\":0,\\\"blocking factor\\\":0,\\\"delay factor\\\":1.0},\\\"nameSub\\\":\\\"ECE Discovery Studio\\\",\\\"id\\\":3,\\\"credits\\\":1,\\\"nameCanonical\\\":\\\"\\\"}],\\\"id\\\":8}],\\\"institution\\\":\\\"Georgia Institute of Technology\\\"}},\\\"*\\\"); window.removeEventListener(\\\"message\\\",window.messageReceived); window.messageReceived=(function (event){return (event.data.curriculum!==undefined) ? (WebIO.setval({\\\"name\\\":\\\"curriculum-data\\\",\\\"scope\\\":\\\"3955449964297723881\\\",\\\"id\\\":\\\"10962947106259573380\\\",\\\"type\\\":\\\"observable\\\"},event.data.curriculum)) : undefined}); return window.addEventListener(\\\"message\\\",window.messageReceived)})\")), :style => Dict(:padding => \"0\", :height => \"100vh\", :margin => \"0\", :border => \"none\", :width => \"100%\"))), Dict{String, Tuple{Observables.AbstractObservable, Union{Nothing, Bool}}}(\"curriculum-data\" => (Observable{Dict{String, Any}} with 1 listeners. Value:\n",
       "Dict{String, Any}(\"options\" => Dict{String, Any}(\"hideTerms\" => false, \"edit\" => false), \"curriculum\" => Dict{String, Any}(\"name\" => \"Electrical Engineering - Electronic Devices and Circuit Technology\", \"dp_name\" => \"\", \"curriculum_terms\" => Dict{String, Any}[Dict(\"name\" => \"Term 1\", \"curriculum_items\" => Dict{String, Any}[Dict(\"curriculum_requisites\" => Dict{String, Any}[], \"name\" => \"MATH 1551\", \"metrics\" => Dict{String, Any}(\"complexity\" => 27.0, \"centrality\" => 0, \"blocking factor\" => 19, \"delay factor\" => 8.0), \"nameSub\" => \"Differential Calculus\", \"id\" => 5, \"credits\" => 2, \"nameCanonical\" => \"\"), Dict(\"curriculum_requisites\" => Dict{String, Any}[Dict(\"source_id\" => 5, \"target_id\" => 6, \"type\" => \"CurriculumCorequisite\")], \"name\" => \"MATH 1554\", \"metrics\" => Dict{String, Any}(\"complexity\" => 19.0, \"centrality\" => 55, \"blocking factor\" => 12, \"delay factor\" => 7.0), \"nameSub\" => \"Linear Algebra\", \"id\" => 6, \"credits\" => 4, \"nameCanonical\" => \"\"), Dict(\"curriculum_requisites\" => Dict{String, Any}[], \"name\" => \"ENGL 1101\", \"metrics\" => Dict{String, Any}(\"complexity\" => 3.0, \"centrality\" => 0, \"blocking factor\" => 1, \"delay factor\" => 2.0), \"nameSub\" => \"English Composition I\", \"id\" => 4, \"credits\" => 3, \"nameCanonical\" => \"\"), Dict(\"curriculum_requisites\" => Dict{String, Any}[], \"name\" => \"ECE 3005\", \"metrics\" => Dict{String, Any}(\"complexity\" => 1.0, \"centrality\" => 0, \"blocking factor\" => 0, \"delay factor\" => 1.0), \"nameSub\" => \"\", \"id\" => 28, \"credits\" => 1, \"nameCanonical\" => \"\"), Dict(\"curriculum_requisites\" => Dict{String, Any}[], \"name\" => \" \", \"metrics\" => Dict{String, Any}(\"complexity\" => 1.0, \"centrality\" => 0, \"blocking factor\" => 0, \"delay factor\" => 1.0), \"nameSub\" => \"History/Government Elective\", \"id\" => 11, \"credits\" => 3, \"nameCanonical\" => \"\"), Dict(\"curriculum_requisites\" => Dict{String, Any}[], \"name\" => \" \", \"metrics\" => Dict{String, Any}(\"complexity\" => 1.0, \"centrality\" => 0, \"blocking factor\" => 0, \"delay factor\" => 1.0), \"nameSub\" => \"Social Science Elective\", \"id\" => 40, \"credits\" => 3, \"nameCanonical\" => \"\")], \"id\" => 1), Dict(\"name\" => \"Term 2\", \"curriculum_items\" => Dict{String, Any}[Dict(\"curriculum_requisites\" => Dict{String, Any}[Dict(\"source_id\" => 5, \"target_id\" => 9, \"type\" => \"CurriculumPrerequisite\")], \"name\" => \"MATH 1552\", \"metrics\" => Dict{String, Any}(\"complexity\" => 25.0, \"centrality\" => 111, \"blocking factor\" => 17, \"delay factor\" => 8.0), \"nameSub\" => \"Integral Calculus\", \"id\" => 9, \"credits\" => 4, \"nameCanonical\" => \"\"), Dict(\"curriculum_requisites\" => Dict{String, Any}[Dict(\"source_id\" => 4, \"target_id\" => 8, \"type\" => \"CurriculumPrerequisite\")], \"name\" => \"ENGL 1102\", \"metrics\" => Dict{String, Any}(\"complexity\" => 2.0, \"centrality\" => 0, \"blocking factor\" => 0, \"delay factor\" => 2.0), \"nameSub\" => \"English Composition II\", \"id\" => 8, \"credits\" => 3, \"nameCanonical\" => \"\"), Dict(\"curriculum_requisites\" => Dict{String, Any}[], \"name\" => \" \", \"metrics\" => Dict{String, Any}(\"complexity\" => 1.0, \"centrality\" => 0, \"blocking factor\" => 0, \"delay factor\" => 1.0), \"nameSub\" => \"Elective Hours\", \"id\" => 39, \"credits\" => 2, \"nameCanonical\" => \"\"), Dict(\"curriculum_requisites\" => Dict{String, Any}[], \"name\" => \"CS 1301\", \"metrics\" => Dict{String, Any}(\"complexity\" => 16.0, \"centrality\" => 0, \"blocking factor\" => 10, \"delay factor\" => 6.0), \"nameSub\" => \"Intro to Computing\", \"id\" => 2, \"credits\" => 3, \"nameCanonical\" => \"\"), Dict(\"curriculum_requisites\" => Dict{String, Any}[Dict(\"source_id\" => 9, \"target_id\" => 10, \"type\" => \"CurriculumCorequisite\")], \"name\" => \"PHYS  2211\", \"metrics\" => Dict{String, Any}(\"complexity\" => 20.0, \"centrality\" => 46, \"blocking factor\" => 12, \"delay factor\" => 8.0), \"nameSub\" => \"Intro Physics 1\", \"id\" => 10, \"credits\" => 4, \"nameCanonical\" => \"\")], \"id\" => 2), Dict(\"name\" => \"Term 3\", \"curriculum_items\" => Dict{String, Any}[Dict(\"curriculum_requisites\" => Dict{String, Any}[Dict(\"source_id\" => 10, \"target_id\" => 16, \"type\" => \"CurriculumPrerequisite\")], \"name\" => \"PHYS  2212\", \"metrics\" => Dict{String, Any}(\"complexity\" => 19.0, \"centrality\" => 46, \"blocking factor\" => 11, \"delay factor\" => 8.0), \"nameSub\" => \"Intro. Physics 2\", \"id\" => 16, \"credits\" => 4, \"nameCanonical\" => \"\"), Dict(\"curriculum_requisites\" => Dict{String, Any}[Dict(\"source_id\" => 2, \"target_id\" => 12, \"type\" => \"CurriculumPrerequisite\"), Dict(\"source_id\" => 9, \"target_id\" => 12, \"type\" => \"CurriculumPrerequisite\")], \"name\" => \"ECE 2026\", \"metrics\" => Dict{String, Any}(\"complexity\" => 9.0, \"centrality\" => 11, \"blocking factor\" => 3, \"delay factor\" => 6.0), \"nameSub\" => \"Intro. to Signal Processing\", \"id\" => 12, \"credits\" => 3, \"nameCanonical\" => \"\"), Dict(\"curriculum_requisites\" => Dict{String, Any}[Dict(\"source_id\" => 2, \"target_id\" => 7, \"type\" => \"CurriculumPrerequisite\")], \"name\" => \"ECE 2020\", \"metrics\" => Dict{String, Any}(\"complexity\" => 11.0, \"centrality\" => 41, \"blocking factor\" => 5, \"delay factor\" => 6.0), \"nameSub\" => \"Fund. of Digital System Design\", \"id\" => 7, \"credits\" => 3, \"nameCanonical\" => \"\"), Dict(\"curriculum_requisites\" => Dict{String, Any}[Dict(\"source_id\" => 6, \"target_id\" => 15, \"type\" => \"CurriculumPrerequisite\"), Dict(\"source_id\" => 9, \"target_id\" => 15, \"type\" => \"CurriculumPrerequisite\")], \"name\" => \"MATH 2552\", \"metrics\" => Dict{String, Any}(\"complexity\" => 18.0, \"centrality\" => 110, \"blocking factor\" => 11, \"delay factor\" => 7.0), \"nameSub\" => \"Differential Equations\", \"id\" => 15, \"credits\" => 4, \"nameCanonical\" => \"\"), Dict(\"curriculum_requisites\" => Dict{String, Any}[], \"name\" => \"APPH 1040\", \"metrics\" => Dict{String, Any}(\"complexity\" => 1.0, \"centrality\" => 0, \"blocking factor\" => 0, \"delay factor\" => 1.0), \"nameSub\" => \"\", \"id\" => 26, \"credits\" => 2, \"nameCanonical\" => \"\")], \"id\" => 3), Dict(\"name\" => \"Term 4\", \"curriculum_items\" => Dict{String, Any}[Dict(\"curriculum_requisites\" => Dict{String, Any}[Dict(\"source_id\" => 16, \"target_id\" => 19, \"type\" => \"CurriculumPrerequisite\"), Dict(\"source_id\" => 15, \"target_id\" => 19, \"type\" => \"CurriculumPrerequisite\")], \"name\" => \"ECE 2040\", \"metrics\" => Dict{String, Any}(\"complexity\" => 18.0, \"centrality\" => 124, \"blocking factor\" => 10, \"delay factor\" => 8.0), \"nameSub\" => \"Circuit Analysis\", \"id\" => 19, \"credits\" => 3, \"nameCanonical\" => \"\"), Dict(\"curriculum_requisites\" => Dict{String, Any}[Dict(\"source_id\" => 7, \"target_id\" => 17, \"type\" => \"CurriculumPrerequisite\"), Dict(\"source_id\" => 18, \"target_id\" => 17, \"type\" => \"CurriculumCorequisite\")], \"name\" => \"ECE 2031\", \"metrics\" => Dict{String, Any}(\"complexity\" => 9.0, \"centrality\" => 31, \"blocking factor\" => 3, \"delay factor\" => 6.0), \"nameSub\" => \"Digital Design Lab\", \"id\" => 17, \"credits\" => 2, \"nameCanonical\" => \"\"), Dict(\"curriculum_requisites\" => Dict{String, Any}[], \"name\" => \"CHEM 1310\", \"metrics\" => Dict{String, Any}(\"complexity\" => 6.0, \"centrality\" => 0, \"blocking factor\" => 3, \"delay factor\" => 3.0), \"nameSub\" => \"General Chemistry\", \"id\" => 1, \"credits\" => 4, \"nameCanonical\" => \"\"), Dict(\"curriculum_requisites\" => Dict{String, Any}[], \"name\" => \" \", \"metrics\" => Dict{String, Any}(\"complexity\" => 1.0, \"centrality\" => 0, \"blocking factor\" => 0, \"delay factor\" => 1.0), \"nameSub\" => \"Humanities Elective\", \"id\" => 14, \"credits\" => 3, \"nameCanonical\" => \"\"), Dict(\"curriculum_requisites\" => Dict{String, Any}[Dict(\"source_id\" => 7, \"target_id\" => 18, \"type\" => \"CurriculumPrerequisite\")], \"name\" => \"ECE 2035\", \"metrics\" => Dict{String, Any}(\"complexity\" => 10.0, \"centrality\" => 27, \"blocking factor\" => 4, \"delay factor\" => 6.0), \"nameSub\" => \"Programming Elective\", \"id\" => 18, \"credits\" => 4, \"nameCanonical\" => \"\")], \"id\" => 4), Dict(\"name\" => \"Term 5\", \"curriculum_items\" => Dict{String, Any}[Dict(\"curriculum_requisites\" => Dict{String, Any}[Dict(\"source_id\" => 9, \"target_id\" => 20, \"type\" => \"CurriculumPrerequisite\")], \"name\" => \"MATH 2551\", \"metrics\" => Dict{String, Any}(\"complexity\" => 5.0, \"centrality\" => 4, \"blocking factor\" => 1, \"delay factor\" => 4.0), \"nameSub\" => \"Multivariate Calculus\", \"id\" => 20, \"credits\" => 4, \"nameCanonical\" => \"\"), Dict(\"curriculum_requisites\" => Dict{String, Any}[Dict(\"source_id\" => 15, \"target_id\" => 24, \"type\" => \"CurriculumPrerequisite\"), Dict(\"source_id\" => 12, \"target_id\" => 24, \"type\" => \"CurriculumPrerequisite\"), Dict(\"source_id\" => 19, \"target_id\" => 24, \"type\" => \"CurriculumPrerequisite\")], \"name\" => \"ECE 3025\", \"metrics\" => Dict{String, Any}(\"complexity\" => 10.0, \"centrality\" => 45, \"blocking factor\" => 2, \"delay factor\" => 8.0), \"nameSub\" => \"Electromagnetics\", \"id\" => 24, \"credits\" => 3, \"nameCanonical\" => \"\"), Dict(\"curriculum_requisites\" => Dict{String, Any}[Dict(\"source_id\" => 22, \"target_id\" => 23, \"type\" => \"CurriculumCorequisite\"), Dict(\"source_id\" => 17, \"target_id\" => 23, \"type\" => \"CurriculumPrerequisite\")], \"name\" => \"ECE 3043\", \"metrics\" => Dict{String, Any}(\"complexity\" => 7.0, \"centrality\" => 0, \"blocking factor\" => 0, \"delay factor\" => 7.0), \"nameSub\" => \"Measurements, Circuits and Microelectronics Lab\", \"id\" => 23, \"credits\" => 2, \"nameCanonical\" => \"\"), Dict(\"curriculum_requisites\" => Dict{String, Any}[Dict(\"source_id\" => 15, \"target_id\" => 22, \"type\" => \"CurriculumPrerequisite\"), Dict(\"source_id\" => 18, \"target_id\" => 22, \"type\" => \"CurriculumPrerequisite\"), Dict(\"source_id\" => 17, \"target_id\" => 22, \"type\" => \"CurriculumPrerequisite\"), Dict(\"source_id\" => 1, \"target_id\" => 22, \"type\" => \"CurriculumPrerequisite\"), Dict(\"source_id\" => 19, \"target_id\" => 22, \"type\" => \"CurriculumPrerequisite\")], \"name\" => \"ECE 3040\", \"metrics\" => Dict{String, Any}(\"complexity\" => 9.0, \"centrality\" => 96, \"blocking factor\" => 2, \"delay factor\" => 7.0), \"nameSub\" => \"Microelectronic Circuits\", \"id\" => 22, \"credits\" => 4, \"nameCanonical\" => \"\"), Dict(\"curriculum_requisites\" => Dict{String, Any}[Dict(\"source_id\" => 19, \"target_id\" => 43, \"type\" => \"CurriculumPrerequisite\")], \"name\" => \" \", \"metrics\" => Dict{String, Any}(\"complexity\" => 6.0, \"centrality\" => 0, \"blocking factor\" => 0, \"delay factor\" => 6.0), \"nameSub\" => \"ECE 3000/4000 Elective\", \"id\" => 43, \"credits\" => 3, \"nameCanonical\" => \"\")], \"id\" => 5), Dict(\"name\" => \"Term 6\", \"curriculum_items\" => Dict{String, Any}[Dict(\"curriculum_requisites\" => Dict{String, Any}[Dict(\"source_id\" => 24, \"target_id\" => 35, \"type\" => \"CurriculumPrerequisite\")], \"name\" => \" \", \"metrics\" => Dict{String, Any}(\"complexity\" => 9.0, \"centrality\" => 45, \"blocking factor\" => 1, \"delay factor\" => 8.0), \"nameSub\" => \"Senior Design Sequence\", \"id\" => 35, \"credits\" => 1, \"nameCanonical\" => \"\"), Dict(\"curriculum_requisites\" => Dict{String, Any}[Dict(\"source_id\" => 19, \"target_id\" => 45, \"type\" => \"CurriculumPrerequisite\")], \"name\" => \" \", \"metrics\" => Dict{String, Any}(\"complexity\" => 6.0, \"centrality\" => 0, \"blocking factor\" => 0, \"delay factor\" => 6.0), \"nameSub\" => \"Circuit Technologies Topics\", \"id\" => 45, \"credits\" => 3, \"nameCanonical\" => \"\"), Dict(\"curriculum_requisites\" => Dict{String, Any}[Dict(\"source_id\" => 19, \"target_id\" => 37, \"type\" => \"CurriculumPrerequisite\")], \"name\" => \" \", \"metrics\" => Dict{String, Any}(\"complexity\" => 6.0, \"centrality\" => 0, \"blocking factor\" => 0, \"delay factor\" => 6.0), \"nameSub\" => \"ECE 3000/4000 Elective\", \"id\" => 37, \"credits\" => 3, \"nameCanonical\" => \"\"), Dict(\"curriculum_requisites\" => Dict{String, Any}[Dict(\"source_id\" => 22, \"target_id\" => 36, \"type\" => \"CurriculumPrerequisite\")], \"name\" => \" \", \"metrics\" => Dict{String, Any}(\"complexity\" => 7.0, \"centrality\" => 0, \"blocking factor\" => 0, \"delay factor\" => 7.0), \"nameSub\" => \"Electronic Devices Topics\", \"id\" => 36, \"credits\" => 3, \"nameCanonical\" => \"\"), Dict(\"curriculum_requisites\" => Dict{String, Any}[Dict(\"source_id\" => 20, \"target_id\" => 25, \"type\" => \"CurriculumPrerequisite\")], \"name\" => \" \", \"metrics\" => Dict{String, Any}(\"complexity\" => 4.0, \"centrality\" => 0, \"blocking factor\" => 0, \"delay factor\" => 4.0), \"nameSub\" => \"Prob & Stat Elective\", \"id\" => 25, \"credits\" => 3, \"nameCanonical\" => \"\"), Dict(\"curriculum_requisites\" => Dict{String, Any}[Dict(\"source_id\" => 19, \"target_id\" => 42, \"type\" => \"CurriculumPrerequisite\")], \"name\" => \" \", \"metrics\" => Dict{String, Any}(\"complexity\" => 6.0, \"centrality\" => 0, \"blocking factor\" => 0, \"delay factor\" => 6.0), \"nameSub\" => \"ECE 3000/4000 Elective\", \"id\" => 42, \"credits\" => 3, \"nameCanonical\" => \"\")], \"id\" => 6), Dict(\"name\" => \"Term 7\", \"curriculum_items\" => Dict{String, Any}[Dict(\"curriculum_requisites\" => Dict{String, Any}[], \"name\" => \" \", \"metrics\" => Dict{String, Any}(\"complexity\" => 1.0, \"centrality\" => 0, \"blocking factor\" => 0, \"delay factor\" => 1.0), \"nameSub\" => \"Elective Hours\", \"id\" => 44, \"credits\" => 3, \"nameCanonical\" => \"\"), Dict(\"curriculum_requisites\" => Dict{String, Any}[], \"name\" => \" \", \"metrics\" => Dict{String, Any}(\"complexity\" => 1.0, \"centrality\" => 0, \"blocking factor\" => 0, \"delay factor\" => 1.0), \"nameSub\" => \"Econ/Social Science Elective\", \"id\" => 13, \"credits\" => 3, \"nameCanonical\" => \"\"), Dict(\"curriculum_requisites\" => Dict{String, Any}[], \"name\" => \" \", \"metrics\" => Dict{String, Any}(\"complexity\" => 1.0, \"centrality\" => 0, \"blocking factor\" => 0, \"delay factor\" => 1.0), \"nameSub\" => \"Science Elective\", \"id\" => 21, \"credits\" => 3, \"nameCanonical\" => \"\"), Dict(\"curriculum_requisites\" => Dict{String, Any}[Dict(\"source_id\" => 35, \"target_id\" => 41, \"type\" => \"CurriculumPrerequisite\")], \"name\" => \" \", \"metrics\" => Dict{String, Any}(\"complexity\" => 8.0, \"centrality\" => 0, \"blocking factor\" => 0, \"delay factor\" => 8.0), \"nameSub\" => \"Senior Design Sequence\", \"id\" => 41, \"credits\" => 2, \"nameCanonical\" => \"\"), Dict(\"curriculum_requisites\" => Dict{String, Any}[], \"name\" => \" \", \"metrics\" => Dict{String, Any}(\"complexity\" => 1.0, \"centrality\" => 0, \"blocking factor\" => 0, \"delay factor\" => 1.0), \"nameSub\" => \"Elective Hours\", \"id\" => 33, \"credits\" => 3, \"nameCanonical\" => \"\"), Dict(\"curriculum_requisites\" => Dict{String, Any}[], \"name\" => \" \", \"metrics\" => Dict{String, Any}(\"complexity\" => 1.0, \"centrality\" => 0, \"blocking factor\" => 0, \"delay factor\" => 1.0), \"nameSub\" => \"Humanities Elective\", \"id\" => 27, \"credits\" => 3, \"nameCanonical\" => \"\")], \"id\" => 7), Dict(\"name\" => \"Term 8\", \"curriculum_items\" => Dict{String, Any}[Dict(\"curriculum_requisites\" => Dict{String, Any}[], \"name\" => \"ECE 3450\", \"metrics\" => Dict{String, Any}(\"complexity\" => 1.0, \"centrality\" => 0, \"blocking factor\" => 0, \"delay factor\" => 1.0), \"nameSub\" => \"\", \"id\" => 30, \"credits\" => 3, \"nameCanonical\" => \"\"), Dict(\"curriculum_requisites\" => Dict{String, Any}[], \"name\" => \" \", \"metrics\" => Dict{String, Any}(\"complexity\" => 1.0, \"centrality\" => 0, \"blocking factor\" => 0, \"delay factor\" => 1.0), \"nameSub\" => \"Social Science Elective\", \"id\" => 32, \"credits\" => 3, \"nameCanonical\" => \"\"), Dict(\"curriculum_requisites\" => Dict{String, Any}[], \"name\" => \"ECE 3400\", \"metrics\" => Dict{String, Any}(\"complexity\" => 1.0, \"centrality\" => 0, \"blocking factor\" => 0, \"delay factor\" => 1.0), \"nameSub\" => \"\", \"id\" => 31, \"credits\" => 3, \"nameCanonical\" => \"\"), Dict(\"curriculum_requisites\" => Dict{String, Any}[], \"name\" => \" \", \"metrics\" => Dict{String, Any}(\"complexity\" => 1.0, \"centrality\" => 0, \"blocking factor\" => 0, \"delay factor\" => 1.0), \"nameSub\" => \"Elective Hours\", \"id\" => 29, \"credits\" => 3, \"nameCanonical\" => \"\"), Dict(\"curriculum_requisites\" => Dict{String, Any}[], \"name\" => \"ECE 4452\", \"metrics\" => Dict{String, Any}(\"complexity\" => 1.0, \"centrality\" => 0, \"blocking factor\" => 0, \"delay factor\" => 1.0), \"nameSub\" => \"\", \"id\" => 38, \"credits\" => 3, \"nameCanonical\" => \"\"), Dict(\"curriculum_requisites\" => Dict{String, Any}[], \"name\" => \"ECE 1100\", \"metrics\" => Dict{String, Any}(\"complexity\" => 1.0, \"centrality\" => 0, \"blocking factor\" => 0, \"delay factor\" => 1.0), \"nameSub\" => \"ECE Discovery Studio\", \"id\" => 3, \"credits\" => 1, \"nameCanonical\" => \"\")], \"id\" => 8)], \"institution\" => \"Georgia Institute of Technology\")), nothing)), Set{String}(), nothing, WebIO.Asset[], Dict{Any, Any}(), WebIO.ConnectionPool(Channel{Any}(32), Set{WebIO.AbstractConnection}(), Condition(Base.InvasiveLinkedList{Task}(Task (runnable) @0x0000000171bf89a0, Task (runnable) @0x0000000171bf89a0), Base.AlwaysLockedST(1))), WebIO.JSString[])"
      ]
     },
     "execution_count": 110,
     "metadata": {
      "application/vnd.webio.node+json": {
       "kernelId": "a39c6238-ca0e-48ee-9ca4-865bd5853f2a"
      }
     },
     "output_type": "execute_result"
    }
   ],
   "source": [
    "EE_new_3 = optimize_plan(EE_plan.curriculum, 8, 12, 18, [balance_obj, req_distance_obj]);\n",
    "visualize(EE_new_3, notebook=true)"
   ]
  },
  {
   "cell_type": "code",
   "execution_count": 103,
   "metadata": {},
   "outputs": [
    {
     "name": "stdout",
     "output_type": "stream",
     "text": [
      "\n",
      "Curriculum: Electrical Engineering - Electronic Devices and Circuit Technology\n",
      "Degree Plan: \n",
      "  total credit hours = 129\n",
      "  number of terms = 8\n",
      "  max. credits in a term = 17, in term 7\n",
      "  min. credits in a term = 16, in term 1\n",
      "  avg. credits per term = 16.125, with std. dev. = 0.33071891388307384\n",
      "\n"
     ]
    }
   ],
   "source": [
    "metrics = basic_metrics(EE_new_3)\n",
    "println(String(take!(metrics)))"
   ]
  },
  {
   "cell_type": "code",
   "execution_count": 109,
   "metadata": {},
   "outputs": [
    {
     "name": "stdout",
     "output_type": "stream",
     "text": [
      "Academic license - for non-commercial use only\n"
     ]
    },
    {
     "ename": "LoadError",
     "evalue": "There are no feasbile degree plans.  To create a feasible degree plan, you may need to relax some constraints.",
     "output_type": "error",
     "traceback": [
      "There are no feasbile degree plans.  To create a feasible degree plan, you may need to relax some constraints.",
      "",
      "Stacktrace:",
      " [1] error(s::String)",
      "   @ Base ./error.jl:33",
      " [2] optimize_plan(curric::Curriculum, term_count::Int64, min_cpt::Int64, max_cpt::Int64, objective::Vector{Function}; name::String, fixed_terms::Dict{Course, Int64}, consecutive_terms::Vector{Pair{Course, Course}}, term_range::Dict{Course, Pair{Int64, Int64}}, toxic_courses::Vector{Pair{Course, Course}}, synergistic_courses::Vector{Pair{Course, Course}}, fall_only_courses::Vector{Course}, spring_only_courses::Vector{Course}, prior_courses::Vector{Course}, prior_terms::Vector{Term}, toxicity_dict::Dict{Pair{Course, Course}, Float64}, suppress_output::Bool)",
      "   @ CurricularOptimization ~/.julia/packages/CurricularOptimization/Ih1NZ/src/DegreePlanCreation.jl:121",
      " [3] #optimize_plan#4",
      "   @ ~/.julia/packages/CurricularOptimization/Ih1NZ/src/DegreePlanCreation.jl:136 [inlined]",
      " [4] optimize_plan(curric::Curriculum, term_count::Int64, min_cpt::Int64, max_cpt::Int64, objective::Function)",
      "   @ CurricularOptimization ~/.julia/packages/CurricularOptimization/Ih1NZ/src/DegreePlanCreation.jl:134",
      " [5] top-level scope",
      "   @ In[109]:1",
      " [6] eval",
      "   @ ./boot.jl:360 [inlined]",
      " [7] include_string(mapexpr::typeof(REPL.softscope), mod::Module, code::String, filename::String)",
      "   @ Base ./loading.jl:1094"
     ]
    }
   ],
   "source": [
    "EE_new_a = optimize_plan(curric, 8, 12, 18, balance_obj);\n",
    "visualize(EE_new_a, notebook=true)"
   ]
  },
  {
   "cell_type": "code",
   "execution_count": 111,
   "metadata": {},
   "outputs": [
    {
     "data": {
      "text/plain": [
       "Blink.AtomShell.Window(1, Blink.AtomShell.Electron(Process(`\u001b[4m/Users/heileman/.julia/packages/Blink/mwJC9/deps/Julia.app/Contents/MacOS/Julia\u001b[24m \u001b[4m/Users/heileman/.julia/packages/Blink/mwJC9/src/AtomShell/main.js\u001b[24m \u001b[4mport\u001b[24m \u001b[4m6368\u001b[24m`, ProcessRunning), Sockets.TCPSocket(RawFD(52) active, 0 bytes waiting), Dict{String, Any}(\"callback\" => Blink.var\"#1#2\"())), Blink.Page(1, WebSocket(server, \u001b[32mCONNECTED\u001b[39m), Dict{String, Any}(\"webio\" => Blink.AtomShell.var\"#24#25\"{Blink.AtomShell.WebIOBlinkComm}(Blink.AtomShell.WebIOBlinkComm(Blink.AtomShell.Window(#= circular reference @-5 =#))), \"callback\" => Blink.var\"#1#2\"()), Distributed.Future(1, 1, 1, Some(true))), Task (done) @0x0000000171668ab0)"
      ]
     },
     "execution_count": 111,
     "metadata": {},
     "output_type": "execute_result"
    }
   ],
   "source": [
    "visualize(curric)"
   ]
  },
  {
   "cell_type": "code",
   "execution_count": 106,
   "metadata": {},
   "outputs": [
    {
     "name": "stdout",
     "output_type": "stream",
     "text": [
      "Academic license - for non-commercial use only\n"
     ]
    },
    {
     "ename": "LoadError",
     "evalue": "Vertex ID cannot be found for either course Differential Calculus or Linear Algebra",
     "output_type": "error",
     "traceback": [
      "Vertex ID cannot be found for either course Differential Calculus or Linear Algebra",
      "",
      "Stacktrace:",
      " [1] error(s::String)",
      "   @ Base ./error.jl:33",
      " [2] course_assignment_constraints(model::JuMP.Model, curric::Curriculum, term_count::Int64, fixed_terms::Dict{Course, Int64}, consecutive_terms::Vector{Pair{Course, Course}}, term_range::Dict{Course, Pair{Int64, Int64}}, toxic_courses::Vector{Pair{Course, Course}}, synergistic_courses::Vector{Pair{Course, Course}}, fall_only_courses::Vector{Course}, spring_only_courses::Vector{Course})",
      "   @ CurricularOptimization ~/.julia/packages/CurricularOptimization/Ih1NZ/src/DegreePlanCreation.jl:222",
      " [3] optimize_plan(curric::Curriculum, term_count::Int64, min_cpt::Int64, max_cpt::Int64, objective::Vector{Function}; name::String, fixed_terms::Dict{Course, Int64}, consecutive_terms::Vector{Pair{Course, Course}}, term_range::Dict{Course, Pair{Int64, Int64}}, toxic_courses::Vector{Pair{Course, Course}}, synergistic_courses::Vector{Pair{Course, Course}}, fall_only_courses::Vector{Course}, spring_only_courses::Vector{Course}, prior_courses::Vector{Course}, prior_terms::Vector{Term}, toxicity_dict::Dict{Pair{Course, Course}, Float64}, suppress_output::Bool)",
      "   @ CurricularOptimization ~/.julia/packages/CurricularOptimization/Ih1NZ/src/DegreePlanCreation.jl:90",
      " [4] top-level scope",
      "   @ In[106]:1",
      " [5] eval",
      "   @ ./boot.jl:360 [inlined]",
      " [6] include_string(mapexpr::typeof(REPL.softscope), mod::Module, code::String, filename::String)",
      "   @ Base ./loading.jl:1094"
     ]
    }
   ],
   "source": [
    "EE_new_4 = optimize_plan(EE_plan.curriculum, 8, 12, 18, [balance_obj, req_distance_obj], toxic_courses=toxic);\n",
    "visualize(EE_new_4, notebook=true)"
   ]
  },
  {
   "cell_type": "markdown",
   "metadata": {},
   "source": [
    "## References\n",
    "<a id='References'></a>\n",
    "\n",
    "[1] Heileman, G. L., Abdallah, C.T., Slim, A., and Hickman, M. (2018). Curricular analytics: A framework for quantifying the impact of curricular reforms and pedagogical innovations. www.arXiv.org, arXiv:1811.09676 [cs.CY].\n",
    "\n",
    "[2] Heileman, G. L., Free, H. W., Abar, O. and Thompson-Arjona, W. G, (2019). CurricularAnalytics.jl Toolbox. https://github.com/heileman/CurricularAnalytics.jl."
   ]
  }
 ],
 "metadata": {
  "@webio": {
   "lastCommId": "06031c7d479f43a2b0039c57feaf0605",
   "lastKernelId": "a39c6238-ca0e-48ee-9ca4-865bd5853f2a"
  },
  "kernelspec": {
   "display_name": "Julia 1.6.0",
   "language": "julia",
   "name": "julia-1.6"
  },
  "language_info": {
   "file_extension": ".jl",
   "mimetype": "application/julia",
   "name": "julia",
   "version": "1.6.0"
  }
 },
 "nbformat": 4,
 "nbformat_minor": 2
}
