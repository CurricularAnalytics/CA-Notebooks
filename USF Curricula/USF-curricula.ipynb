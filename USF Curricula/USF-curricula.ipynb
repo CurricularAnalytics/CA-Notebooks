{
 "cells": [
  {
   "cell_type": "markdown",
   "metadata": {},
   "source": [
    "# <center>University of South Florda Curriculaa - College of Engineering</center>\n",
    "\n",
    "This notebook contains a prelmininary analyses of the curricula and degree plans associated with the undergradatue programs in the College of Engineering at the University of South.  In order to execute the analyses provided in this notebook, you need to load the following Julia packages:"
   ]
  },
  {
   "cell_type": "code",
   "execution_count": 3,
   "metadata": {},
   "outputs": [
    {
     "name": "stderr",
     "output_type": "stream",
     "text": [
      "┌ Info: Precompiling CurricularAnalytics [593ffa3d-269e-5d81-88bc-c3b6809c35a6]\n",
      "└ @ Base loading.jl:1273\n"
     ]
    },
    {
     "data": {
      "text/html": [
       "<script>\n",
       "// Immediately-invoked-function-expression to avoid global variables.\n",
       "(function() {\n",
       "    var warning_div = document.getElementById(\"webio-warning-764235417723658675\");\n",
       "    var hide = function () {\n",
       "        var script = document.getElementById(\"webio-setup-17901449647627095447\");\n",
       "        var parent = script && script.parentElement;\n",
       "        var grandparent = parent && parent.parentElement;\n",
       "        if (grandparent) {\n",
       "            grandparent.style.display = \"none\";\n",
       "        }\n",
       "        warning_div.style.display = \"none\";\n",
       "    };\n",
       "    if (typeof Jupyter !== \"undefined\") {\n",
       "        console.log(\"WebIO detected Jupyter notebook environment.\");\n",
       "        // Jupyter notebook.\n",
       "        var extensions = (\n",
       "            Jupyter\n",
       "            && Jupyter.notebook.config.data\n",
       "            && Jupyter.notebook.config.data.load_extensions\n",
       "        );\n",
       "        if (extensions && extensions[\"webio-jupyter-notebook\"]) {\n",
       "            // Extension already loaded.\n",
       "            console.log(\"Jupyter WebIO nbextension detected; not loading ad-hoc.\");\n",
       "            hide();\n",
       "            return;\n",
       "        }\n",
       "    } else if (window.location.pathname.includes(\"/lab\")) {\n",
       "        // Guessing JupyterLa\n",
       "        console.log(\"Jupyter Lab detected; make sure the @webio/jupyter-lab-provider labextension is installed.\");\n",
       "        hide();\n",
       "        return;\n",
       "    }\n",
       "})();\n",
       "\n",
       "</script>\n",
       "<p\n",
       "    id=\"webio-warning-764235417723658675\"\n",
       "    class=\"output_text output_stderr\"\n",
       "    style=\"padding: 1em; font-weight: bold;\"\n",
       ">\n",
       "    Unable to load WebIO. Please make sure WebIO works for your Jupyter client.\n",
       "    For troubleshooting, please see <a href=\"https://juliagizmos.github.io/WebIO.jl/latest/providers/ijulia/\">\n",
       "    the WebIO/IJulia documentation</a>.\n",
       "    <!-- TODO: link to installation docs. -->\n",
       "</p>\n"
      ],
      "text/plain": [
       "HTML{String}(\"<script>\\n// Immediately-invoked-function-expression to avoid global variables.\\n(function() {\\n    var warning_div = document.getElementById(\\\"webio-warning-764235417723658675\\\");\\n    var hide = function () {\\n        var script = document.getElementById(\\\"webio-setup-17901449647627095447\\\");\\n        var parent = script && script.parentElement;\\n        var grandparent = parent && parent.parentElement;\\n        if (grandparent) {\\n            grandparent.style.display = \\\"none\\\";\\n        }\\n        warning_div.style.display = \\\"none\\\";\\n    };\\n    if (typeof Jupyter !== \\\"undefined\\\") {\\n        console.log(\\\"WebIO detected Jupyter notebook environment.\\\");\\n        // Jupyter notebook.\\n        var extensions = (\\n            Jupyter\\n            && Jupyter.notebook.config.data\\n            && Jupyter.notebook.config.data.load_extensions\\n        );\\n        if (extensions && extensions[\\\"webio-jupyter-notebook\\\"]) {\\n            // Extension already loaded.\\n            console.log(\\\"Jupyter WebIO nbextension detected; not loading ad-hoc.\\\");\\n            hide();\\n            return;\\n        }\\n    } else if (window.location.pathname.includes(\\\"/lab\\\")) {\\n        // Guessing JupyterLa\\n        console.log(\\\"Jupyter Lab detected; make sure the @webio/jupyter-lab-provider labextension is installed.\\\");\\n        hide();\\n        return;\\n    }\\n})();\\n\\n</script>\\n<p\\n    id=\\\"webio-warning-764235417723658675\\\"\\n    class=\\\"output_text output_stderr\\\"\\n    style=\\\"padding: 1em; font-weight: bold;\\\"\\n>\\n    Unable to load WebIO. Please make sure WebIO works for your Jupyter client.\\n    For troubleshooting, please see <a href=\\\"https://juliagizmos.github.io/WebIO.jl/latest/providers/ijulia/\\\">\\n    the WebIO/IJulia documentation</a>.\\n    <!-- TODO: link to installation docs. -->\\n</p>\\n\")"
      ]
     },
     "metadata": {},
     "output_type": "display_data"
    }
   ],
   "source": [
    "using CurricularAnalytics\n",
    "using Glob\n",
    "using CSV\n",
    "using DataFrames\n",
    "using Statistics"
   ]
  },
  {
   "cell_type": "markdown",
   "metadata": {},
   "source": [
    "## Create the Data Structures \n",
    "Degree plans associated with the undergraduate programs in the College of Engineering were collected. The degree plans were stored as CSV files using the format for degree plans specified in the Curricular Analytics toolbox.  The files are organized in a directory structure that is assumed to be in the same directory as this notebook as follows:  `./programs/<college-name>/`\n",
    "\n",
    "Assuming the aforementioned directory structure, we first create an dictionay called `plans` containing the degree plans for each of the programs in a given college, in this case the college of engineering."
   ]
  },
  {
   "cell_type": "code",
   "execution_count": 8,
   "metadata": {},
   "outputs": [],
   "source": [
    "college = \"College of Engineering\"\n",
    "plan = Dict{String, DegreePlan}()\n",
    "program_files = glob(\"*\", \"./programs/$college\")\n",
    "for filename in program_files\n",
    "    if occursin(\"-DP.csv\", filename)\n",
    "        dp = read_csv(filename)\n",
    "        complexity(dp.curriculum)  # compute the curricular complexity of the degree plan\n",
    "        plan[dp.name] = dp    # store the degree plan the dictionary \n",
    "    end\n",
    "end"
   ]
  },
  {
   "cell_type": "code",
   "execution_count": 9,
   "metadata": {},
   "outputs": [
    {
     "data": {
      "application/vnd.webio.node+json": {
       "children": [
        {
         "children": [
          ""
         ],
         "instanceArgs": {
          "namespace": "html",
          "tag": "iframe"
         },
         "nodeType": "DOM",
         "props": {
          "events": {
           "load": "(function (){this.contentWindow.postMessage({\"options\":{\"hideTerms\":false,\"edit\":false},\"curriculum\":{\"name\":\"BSEE-Electrical Engineering\",\"dp_name\":\"EEL-CALC+CHM ready\",\"curriculum_terms\":[{\"name\":\"Term 1\",\"curriculum_items\":[{\"curriculum_requisites\":[],\"name\":\"MAC 2281\",\"metrics\":{\"complexity\":20.0,\"centrality\":0,\"blocking factor\":13,\"delay factor\":7.0},\"nameSub\":\"Engineering Calculus I\",\"id\":24950,\"credits\":4,\"nameCanonical\":\"\"},{\"curriculum_requisites\":[],\"name\":\"CHM/CHS 2045/2440\",\"metrics\":{\"complexity\":1.0,\"centrality\":0,\"blocking factor\":0,\"delay factor\":1.0},\"nameSub\":\"General Chemistry I/Chem for Engineers \",\"id\":25478,\"credits\":3,\"nameCanonical\":\"\"},{\"curriculum_requisites\":[],\"name\":\"ENC 1101\",\"metrics\":{\"complexity\":3.0,\"centrality\":0,\"blocking factor\":1,\"delay factor\":2.0},\"nameSub\":\"Composition I\",\"id\":23525,\"credits\":3,\"nameCanonical\":\"\"},{\"curriculum_requisites\":[],\"name\":\"CHM/CHS 2045/2440L\",\"metrics\":{\"complexity\":5.0,\"centrality\":0,\"blocking factor\":2,\"delay factor\":3.0},\"nameSub\":\"General Chemistry I/Chem for Engineers Laboratory\",\"id\":25479,\"credits\":1,\"nameCanonical\":\"\"},{\"curriculum_requisites\":[],\"name\":\"EGN 3000L\",\"metrics\":{\"complexity\":1.0,\"centrality\":0,\"blocking factor\":0,\"delay factor\":1.0},\"nameSub\":\"Foundations of Engineering Lab\",\"id\":23287,\"credits\":3,\"nameCanonical\":\"\"},{\"curriculum_requisites\":[],\"name\":\"EGN 3000\",\"metrics\":{\"complexity\":1.0,\"centrality\":0,\"blocking factor\":0,\"delay factor\":1.0},\"nameSub\":\"Foundations of Engineering\",\"id\":28172,\"credits\":0,\"nameCanonical\":\"\"}],\"id\":1},{\"name\":\"Term 2\",\"curriculum_items\":[{\"curriculum_requisites\":[{\"source_id\":24950,\"target_id\":24951,\"type\":\"prereq\"}],\"name\":\"MAC 2282\",\"metrics\":{\"complexity\":17.0,\"centrality\":29,\"blocking factor\":10,\"delay factor\":7.0},\"nameSub\":\"Engineering Calculus II\",\"id\":24951,\"credits\":4,\"nameCanonical\":\"\"},{\"curriculum_requisites\":[{\"source_id\":23525,\"target_id\":23526,\"type\":\"prereq\"}],\"name\":\"ENC 1102\",\"metrics\":{\"complexity\":2.0,\"centrality\":0,\"blocking factor\":0,\"delay factor\":2.0},\"nameSub\":\"Composition II\",\"id\":23526,\"credits\":3,\"nameCanonical\":\"\"},{\"curriculum_requisites\":[{\"source_id\":24950,\"target_id\":26014,\"type\":\"prereq\"}],\"name\":\"PHY 2048\",\"metrics\":{\"complexity\":5.0,\"centrality\":4,\"blocking factor\":2,\"delay factor\":3.0},\"nameSub\":\"General Physics I - Calculus Based\",\"id\":26014,\"credits\":3,\"nameCanonical\":\"\"},{\"curriculum_requisites\":[{\"source_id\":24950,\"target_id\":26015,\"type\":\"prereq\"}],\"name\":\"PHY 2048L\",\"metrics\":{\"complexity\":2.0,\"centrality\":0,\"blocking factor\":0,\"delay factor\":2.0},\"nameSub\":\"General Physics I Laboratory\",\"id\":26015,\"credits\":1,\"nameCanonical\":\"\"},{\"curriculum_requisites\":[],\"name\":\"EEL 3705\",\"metrics\":{\"complexity\":3.0,\"centrality\":0,\"blocking factor\":1,\"delay factor\":2.0},\"nameSub\":\"Fundamentals of Digital Circuits\",\"id\":23747,\"credits\":3,\"nameCanonical\":\"\"}],\"id\":2},{\"name\":\"Term 3\",\"curriculum_items\":[{\"curriculum_requisites\":[{\"source_id\":24951,\"target_id\":24952,\"type\":\"prereq\"}],\"name\":\"MAC 2283\",\"metrics\":{\"complexity\":14.0,\"centrality\":18,\"blocking factor\":7,\"delay factor\":7.0},\"nameSub\":\"Engineering Calculus III\",\"id\":24952,\"credits\":4,\"nameCanonical\":\"\"},{\"curriculum_requisites\":[{\"source_id\":24951,\"target_id\":25357,\"type\":\"prereq\"}],\"name\":\"EGN 3420\",\"metrics\":{\"complexity\":5.0,\"centrality\":8,\"blocking factor\":2,\"delay factor\":3.0},\"nameSub\":\"Engineering Analysis\",\"id\":25357,\"credits\":4,\"nameCanonical\":\"\"},{\"curriculum_requisites\":[{\"source_id\":25479,\"target_id\":27967,\"type\":\"prereq\"},{\"source_id\":24952,\"target_id\":27967,\"type\":\"coreq\"},{\"source_id\":26014,\"target_id\":27967,\"type\":\"prereq\"}],\"name\":\"EEE 3394\",\"metrics\":{\"complexity\":6.0,\"centrality\":12,\"blocking factor\":1,\"delay factor\":5.0},\"nameSub\":\"Electrical Engineering Science I - Electronic Materials\",\"id\":27967,\"credits\":3,\"nameCanonical\":\"\"},{\"curriculum_requisites\":[{\"source_id\":23747,\"target_id\":26896,\"type\":\"prereq\"}],\"name\":\"EEL 3705L\",\"metrics\":{\"complexity\":2.0,\"centrality\":0,\"blocking factor\":0,\"delay factor\":2.0},\"nameSub\":\"Fundamentals of Digital Circuits Laboratory\",\"id\":26896,\"credits\":1,\"nameCanonical\":\"\"},{\"curriculum_requisites\":[],\"name\":\"SGEH \",\"metrics\":{\"complexity\":1.0,\"centrality\":0,\"blocking factor\":0,\"delay factor\":1.0},\"nameSub\":\"State Humanities Gen Ed\",\"id\":4,\"credits\":3,\"nameCanonical\":\"\"}],\"id\":3},{\"name\":\"Term 4\",\"curriculum_items\":[{\"curriculum_requisites\":[{\"source_id\":24959,\"target_id\":25981,\"type\":\"coreq\"}],\"name\":\"EGN 3373\",\"metrics\":{\"complexity\":10.0,\"centrality\":13,\"blocking factor\":3,\"delay factor\":7.0},\"nameSub\":\"Introduction to Electrical Systems I\",\"id\":25981,\"credits\":3,\"nameCanonical\":\"\"},{\"curriculum_requisites\":[{\"source_id\":24952,\"target_id\":24959,\"type\":\"prereq\"}],\"name\":\"MAP 2302\",\"metrics\":{\"complexity\":11.0,\"centrality\":13,\"blocking factor\":4,\"delay factor\":7.0},\"nameSub\":\"Differential Equations\",\"id\":24959,\"credits\":3,\"nameCanonical\":\"\"},{\"curriculum_requisites\":[{\"source_id\":25357,\"target_id\":29920,\"type\":\"prereq\"},{\"source_id\":27967,\"target_id\":29920,\"type\":\"prereq\"}],\"name\":\"EEL 3472C\",\"metrics\":{\"complexity\":5.0,\"centrality\":0,\"blocking factor\":0,\"delay factor\":5.0},\"nameSub\":\"Electrical Engineering Science II - Electromagnetics\",\"id\":29920,\"credits\":4,\"nameCanonical\":\"\"},{\"curriculum_requisites\":[],\"name\":\"EEL 2161\",\"metrics\":{\"complexity\":3.0,\"centrality\":0,\"blocking factor\":1,\"delay factor\":2.0},\"nameSub\":\"Programming with C\",\"id\":24974,\"credits\":3,\"nameCanonical\":\"\"},{\"curriculum_requisites\":[],\"name\":\"EGS 2070\",\"metrics\":{\"complexity\":5.0,\"centrality\":0,\"blocking factor\":2,\"delay factor\":3.0},\"nameSub\":\"Professional Formation of Engineers I\",\"id\":6,\"credits\":1,\"nameCanonical\":\"\"}],\"id\":4},{\"name\":\"Term 5\",\"curriculum_items\":[{\"curriculum_requisites\":[{\"source_id\":25981,\"target_id\":27018,\"type\":\"prereq\"}],\"name\":\"EGN 3374\",\"metrics\":{\"complexity\":8.0,\"centrality\":7,\"blocking factor\":1,\"delay factor\":7.0},\"nameSub\":\"Introduction to Electrical Systems II\",\"id\":27018,\"credits\":3,\"nameCanonical\":\"\"},{\"curriculum_requisites\":[{\"source_id\":24951,\"target_id\":25983,\"type\":\"prereq\"}],\"name\":\"EGN 3443\",\"metrics\":{\"complexity\":3.0,\"centrality\":0,\"blocking factor\":0,\"delay factor\":3.0},\"nameSub\":\"Probability and Statistics for Engineers\",\"id\":25983,\"credits\":3,\"nameCanonical\":\"\"},{\"curriculum_requisites\":[],\"name\":\"EGN 3615\",\"metrics\":{\"complexity\":1.0,\"centrality\":0,\"blocking factor\":0,\"delay factor\":1.0},\"nameSub\":\"Engineering Economics with Social and Global Implications\",\"id\":24859,\"credits\":3,\"nameCanonical\":\"\"}],\"id\":5},{\"name\":\"Term 6\",\"curriculum_items\":[{\"curriculum_requisites\":[{\"source_id\":25981,\"target_id\":26911,\"type\":\"prereq\"}],\"name\":\"EEL 3115L\",\"metrics\":{\"complexity\":6.0,\"centrality\":0,\"blocking factor\":0,\"delay factor\":6.0},\"nameSub\":\"Laboratory I\",\"id\":26911,\"credits\":1,\"nameCanonical\":\"\"},{\"curriculum_requisites\":[],\"name\":\" \",\"metrics\":{\"complexity\":1.0,\"centrality\":0,\"blocking factor\":0,\"delay factor\":1.0},\"nameSub\":\"EE Core Technical Elective\",\"id\":9,\"credits\":3,\"nameCanonical\":\"\"},{\"curriculum_requisites\":[],\"name\":\" \",\"metrics\":{\"complexity\":1.0,\"centrality\":0,\"blocking factor\":0,\"delay factor\":1.0},\"nameSub\":\"EE Core Technical Elective\",\"id\":10,\"credits\":3,\"nameCanonical\":\"\"},{\"curriculum_requisites\":[{\"source_id\":27018,\"target_id\":25885,\"type\":\"prereq\"},{\"source_id\":25357,\"target_id\":25885,\"type\":\"prereq\"}],\"name\":\"EEL 4102\",\"metrics\":{\"complexity\":7.0,\"centrality\":0,\"blocking factor\":0,\"delay factor\":7.0},\"nameSub\":\"Signals and Systems\",\"id\":25885,\"credits\":3,\"nameCanonical\":\"\"},{\"curriculum_requisites\":[{\"source_id\":24974,\"target_id\":29988,\"type\":\"prereq\"}],\"name\":\"EEL 3163C\",\"metrics\":{\"complexity\":2.0,\"centrality\":0,\"blocking factor\":0,\"delay factor\":2.0},\"nameSub\":\"Computer Tool Lab\",\"id\":29988,\"credits\":1,\"nameCanonical\":\"\"},{\"curriculum_requisites\":[],\"name\":\"ENC 3246\",\"metrics\":{\"complexity\":1.0,\"centrality\":0,\"blocking factor\":0,\"delay factor\":1.0},\"nameSub\":\"Communication for Engineers\",\"id\":27719,\"credits\":3,\"nameCanonical\":\"\"},{\"curriculum_requisites\":[{\"source_id\":6,\"target_id\":11,\"type\":\"prereq\"}],\"name\":\"EGS 3071\",\"metrics\":{\"complexity\":4.0,\"centrality\":3,\"blocking factor\":1,\"delay factor\":3.0},\"nameSub\":\"Professional Formation of Engineers II\",\"id\":11,\"credits\":1,\"nameCanonical\":\"\"}],\"id\":6},{\"name\":\"Term 7\",\"curriculum_items\":[{\"curriculum_requisites\":[],\"name\":\" \",\"metrics\":{\"complexity\":1.0,\"centrality\":0,\"blocking factor\":0,\"delay factor\":1.0},\"nameSub\":\"EE Core Technical Elective\",\"id\":12,\"credits\":3,\"nameCanonical\":\"\"},{\"curriculum_requisites\":[],\"name\":\" \",\"metrics\":{\"complexity\":1.0,\"centrality\":0,\"blocking factor\":0,\"delay factor\":1.0},\"nameSub\":\"EE Core Technical Elective\",\"id\":13,\"credits\":3,\"nameCanonical\":\"\"},{\"curriculum_requisites\":[],\"name\":\" \",\"metrics\":{\"complexity\":1.0,\"centrality\":0,\"blocking factor\":0,\"delay factor\":1.0},\"nameSub\":\"EE Track Elective\",\"id\":14,\"credits\":3,\"nameCanonical\":\"\"},{\"curriculum_requisites\":[],\"name\":\" \",\"metrics\":{\"complexity\":1.0,\"centrality\":0,\"blocking factor\":0,\"delay factor\":1.0},\"nameSub\":\"EE Track Elective\",\"id\":15,\"credits\":3,\"nameCanonical\":\"\"},{\"curriculum_requisites\":[],\"name\":\" \",\"metrics\":{\"complexity\":1.0,\"centrality\":0,\"blocking factor\":0,\"delay factor\":1.0},\"nameSub\":\"EE Track Elective Lab\",\"id\":16,\"credits\":1,\"nameCanonical\":\"\"},{\"curriculum_requisites\":[{\"source_id\":11,\"target_id\":17,\"type\":\"prereq\"}],\"name\":\"EGS 3072\",\"metrics\":{\"complexity\":3.0,\"centrality\":0,\"blocking factor\":0,\"delay factor\":3.0},\"nameSub\":\"Professional Formation of Engineers III\",\"id\":17,\"credits\":1,\"nameCanonical\":\"\"},{\"curriculum_requisites\":[],\"name\":\" \",\"metrics\":{\"complexity\":1.0,\"centrality\":0,\"blocking factor\":0,\"delay factor\":1.0},\"nameSub\":\"Upper-Level Department Elective Lab\",\"id\":18,\"credits\":1,\"nameCanonical\":\"\"}],\"id\":7},{\"name\":\"Term 8\",\"curriculum_items\":[{\"curriculum_requisites\":[],\"name\":\" \",\"metrics\":{\"complexity\":1.0,\"centrality\":0,\"blocking factor\":0,\"delay factor\":1.0},\"nameSub\":\"Internship/Co-op Participation\",\"id\":20,\"credits\":0,\"nameCanonical\":\"\"}],\"id\":8},{\"name\":\"Term 9\",\"curriculum_items\":[{\"curriculum_requisites\":[],\"name\":\"EEL 4906\",\"metrics\":{\"complexity\":3.0,\"centrality\":0,\"blocking factor\":1,\"delay factor\":2.0},\"nameSub\":\"EE Design 1\",\"id\":26904,\"credits\":3,\"nameCanonical\":\"\"},{\"curriculum_requisites\":[],\"name\":\" \",\"metrics\":{\"complexity\":1.0,\"centrality\":0,\"blocking factor\":0,\"delay factor\":1.0},\"nameSub\":\"Upper-Level Department Elective\",\"id\":21,\"credits\":3,\"nameCanonical\":\"\"},{\"curriculum_requisites\":[],\"name\":\" \",\"metrics\":{\"complexity\":1.0,\"centrality\":0,\"blocking factor\":0,\"delay factor\":1.0},\"nameSub\":\"EE Track Elective\",\"id\":22,\"credits\":3,\"nameCanonical\":\"\"},{\"curriculum_requisites\":[],\"name\":\" \",\"metrics\":{\"complexity\":1.0,\"centrality\":0,\"blocking factor\":0,\"delay factor\":1.0},\"nameSub\":\"EE Track Elective\",\"id\":23,\"credits\":3,\"nameCanonical\":\"\"},{\"curriculum_requisites\":[],\"name\":\" \",\"metrics\":{\"complexity\":1.0,\"centrality\":0,\"blocking factor\":0,\"delay factor\":1.0},\"nameSub\":\"EE Track Elective Lab\",\"id\":24,\"credits\":1,\"nameCanonical\":\"\"},{\"curriculum_requisites\":[],\"name\":\" \",\"metrics\":{\"complexity\":1.0,\"centrality\":0,\"blocking factor\":0,\"delay factor\":1.0},\"nameSub\":\"Upper-Level Department Elective\",\"id\":25,\"credits\":3,\"nameCanonical\":\"\"}],\"id\":9},{\"name\":\"Term 10\",\"curriculum_items\":[{\"curriculum_requisites\":[{\"source_id\":26904,\"target_id\":27855,\"type\":\"prereq\"}],\"name\":\"EEL 4914\",\"metrics\":{\"complexity\":2.0,\"centrality\":0,\"blocking factor\":0,\"delay factor\":2.0},\"nameSub\":\"EE Design 2\",\"id\":27855,\"credits\":3,\"nameCanonical\":\"\"},{\"curriculum_requisites\":[],\"name\":\" \",\"metrics\":{\"complexity\":1.0,\"centrality\":0,\"blocking factor\":0,\"delay factor\":1.0},\"nameSub\":\"Upper-Level Department Elective\",\"id\":27,\"credits\":3,\"nameCanonical\":\"\"},{\"curriculum_requisites\":[],\"name\":\" \",\"metrics\":{\"complexity\":1.0,\"centrality\":0,\"blocking factor\":0,\"delay factor\":1.0},\"nameSub\":\"Upper-Level Department Elective\",\"id\":28,\"credits\":3,\"nameCanonical\":\"\"},{\"curriculum_requisites\":[],\"name\":\" \",\"metrics\":{\"complexity\":1.0,\"centrality\":0,\"blocking factor\":0,\"delay factor\":1.0},\"nameSub\":\"General Elective\",\"id\":29,\"credits\":3,\"nameCanonical\":\"\"},{\"curriculum_requisites\":[],\"name\":\" \",\"metrics\":{\"complexity\":1.0,\"centrality\":0,\"blocking factor\":0,\"delay factor\":1.0},\"nameSub\":\"General Elective\",\"id\":30,\"credits\":1,\"nameCanonical\":\"\"},{\"curriculum_requisites\":[],\"name\":\"SGES \",\"metrics\":{\"complexity\":1.0,\"centrality\":0,\"blocking factor\":0,\"delay factor\":1.0},\"nameSub\":\"State Social Science Gen Ed\",\"id\":31,\"credits\":3,\"nameCanonical\":\"\"}],\"id\":10}],\"institution\":\"USF\"}},\"*\"); window.removeEventListener(\"message\",window.messageReceived); window.messageReceived=(function (event){return (event.data.curriculum!==undefined) ? (WebIO.setval({\"name\":\"curriculum-data\",\"scope\":\"17202971111688970390\",\"id\":\"ob_01\",\"type\":\"observable\"},event.data.curriculum)) : undefined}); return window.addEventListener(\"message\",window.messageReceived)})"
          },
          "id": "curriculum",
          "src": "http://localhost:8156",
          "style": {
           "border": "none",
           "height": "100vh",
           "margin": "0",
           "padding": "0",
           "width": "100%"
          }
         },
         "type": "node"
        }
       ],
       "instanceArgs": {
        "handlers": {},
        "id": "17202971111688970390",
        "imports": {
         "data": [],
         "type": "async_block"
        },
        "mount_callbacks": [],
        "observables": {
         "curriculum-data": {
          "id": "ob_01",
          "sync": true,
          "value": {
           "curriculum": {
            "curriculum_terms": [
             {
              "curriculum_items": [
               {
                "credits": 4,
                "curriculum_requisites": [],
                "id": 24950,
                "metrics": {
                 "blocking factor": 13,
                 "centrality": 0,
                 "complexity": 20,
                 "delay factor": 7
                },
                "name": "MAC 2281",
                "nameCanonical": "",
                "nameSub": "Engineering Calculus I"
               },
               {
                "credits": 3,
                "curriculum_requisites": [],
                "id": 25478,
                "metrics": {
                 "blocking factor": 0,
                 "centrality": 0,
                 "complexity": 1,
                 "delay factor": 1
                },
                "name": "CHM/CHS 2045/2440",
                "nameCanonical": "",
                "nameSub": "General Chemistry I/Chem for Engineers "
               },
               {
                "credits": 3,
                "curriculum_requisites": [],
                "id": 23525,
                "metrics": {
                 "blocking factor": 1,
                 "centrality": 0,
                 "complexity": 3,
                 "delay factor": 2
                },
                "name": "ENC 1101",
                "nameCanonical": "",
                "nameSub": "Composition I"
               },
               {
                "credits": 1,
                "curriculum_requisites": [],
                "id": 25479,
                "metrics": {
                 "blocking factor": 2,
                 "centrality": 0,
                 "complexity": 5,
                 "delay factor": 3
                },
                "name": "CHM/CHS 2045/2440L",
                "nameCanonical": "",
                "nameSub": "General Chemistry I/Chem for Engineers Laboratory"
               },
               {
                "credits": 3,
                "curriculum_requisites": [],
                "id": 23287,
                "metrics": {
                 "blocking factor": 0,
                 "centrality": 0,
                 "complexity": 1,
                 "delay factor": 1
                },
                "name": "EGN 3000L",
                "nameCanonical": "",
                "nameSub": "Foundations of Engineering Lab"
               },
               {
                "credits": 0,
                "curriculum_requisites": [],
                "id": 28172,
                "metrics": {
                 "blocking factor": 0,
                 "centrality": 0,
                 "complexity": 1,
                 "delay factor": 1
                },
                "name": "EGN 3000",
                "nameCanonical": "",
                "nameSub": "Foundations of Engineering"
               }
              ],
              "id": 1,
              "name": "Term 1"
             },
             {
              "curriculum_items": [
               {
                "credits": 4,
                "curriculum_requisites": [
                 {
                  "source_id": 24950,
                  "target_id": 24951,
                  "type": "prereq"
                 }
                ],
                "id": 24951,
                "metrics": {
                 "blocking factor": 10,
                 "centrality": 29,
                 "complexity": 17,
                 "delay factor": 7
                },
                "name": "MAC 2282",
                "nameCanonical": "",
                "nameSub": "Engineering Calculus II"
               },
               {
                "credits": 3,
                "curriculum_requisites": [
                 {
                  "source_id": 23525,
                  "target_id": 23526,
                  "type": "prereq"
                 }
                ],
                "id": 23526,
                "metrics": {
                 "blocking factor": 0,
                 "centrality": 0,
                 "complexity": 2,
                 "delay factor": 2
                },
                "name": "ENC 1102",
                "nameCanonical": "",
                "nameSub": "Composition II"
               },
               {
                "credits": 3,
                "curriculum_requisites": [
                 {
                  "source_id": 24950,
                  "target_id": 26014,
                  "type": "prereq"
                 }
                ],
                "id": 26014,
                "metrics": {
                 "blocking factor": 2,
                 "centrality": 4,
                 "complexity": 5,
                 "delay factor": 3
                },
                "name": "PHY 2048",
                "nameCanonical": "",
                "nameSub": "General Physics I - Calculus Based"
               },
               {
                "credits": 1,
                "curriculum_requisites": [
                 {
                  "source_id": 24950,
                  "target_id": 26015,
                  "type": "prereq"
                 }
                ],
                "id": 26015,
                "metrics": {
                 "blocking factor": 0,
                 "centrality": 0,
                 "complexity": 2,
                 "delay factor": 2
                },
                "name": "PHY 2048L",
                "nameCanonical": "",
                "nameSub": "General Physics I Laboratory"
               },
               {
                "credits": 3,
                "curriculum_requisites": [],
                "id": 23747,
                "metrics": {
                 "blocking factor": 1,
                 "centrality": 0,
                 "complexity": 3,
                 "delay factor": 2
                },
                "name": "EEL 3705",
                "nameCanonical": "",
                "nameSub": "Fundamentals of Digital Circuits"
               }
              ],
              "id": 2,
              "name": "Term 2"
             },
             {
              "curriculum_items": [
               {
                "credits": 4,
                "curriculum_requisites": [
                 {
                  "source_id": 24951,
                  "target_id": 24952,
                  "type": "prereq"
                 }
                ],
                "id": 24952,
                "metrics": {
                 "blocking factor": 7,
                 "centrality": 18,
                 "complexity": 14,
                 "delay factor": 7
                },
                "name": "MAC 2283",
                "nameCanonical": "",
                "nameSub": "Engineering Calculus III"
               },
               {
                "credits": 4,
                "curriculum_requisites": [
                 {
                  "source_id": 24951,
                  "target_id": 25357,
                  "type": "prereq"
                 }
                ],
                "id": 25357,
                "metrics": {
                 "blocking factor": 2,
                 "centrality": 8,
                 "complexity": 5,
                 "delay factor": 3
                },
                "name": "EGN 3420",
                "nameCanonical": "",
                "nameSub": "Engineering Analysis"
               },
               {
                "credits": 3,
                "curriculum_requisites": [
                 {
                  "source_id": 25479,
                  "target_id": 27967,
                  "type": "prereq"
                 },
                 {
                  "source_id": 24952,
                  "target_id": 27967,
                  "type": "coreq"
                 },
                 {
                  "source_id": 26014,
                  "target_id": 27967,
                  "type": "prereq"
                 }
                ],
                "id": 27967,
                "metrics": {
                 "blocking factor": 1,
                 "centrality": 12,
                 "complexity": 6,
                 "delay factor": 5
                },
                "name": "EEE 3394",
                "nameCanonical": "",
                "nameSub": "Electrical Engineering Science I - Electronic Materials"
               },
               {
                "credits": 1,
                "curriculum_requisites": [
                 {
                  "source_id": 23747,
                  "target_id": 26896,
                  "type": "prereq"
                 }
                ],
                "id": 26896,
                "metrics": {
                 "blocking factor": 0,
                 "centrality": 0,
                 "complexity": 2,
                 "delay factor": 2
                },
                "name": "EEL 3705L",
                "nameCanonical": "",
                "nameSub": "Fundamentals of Digital Circuits Laboratory"
               },
               {
                "credits": 3,
                "curriculum_requisites": [],
                "id": 4,
                "metrics": {
                 "blocking factor": 0,
                 "centrality": 0,
                 "complexity": 1,
                 "delay factor": 1
                },
                "name": "SGEH ",
                "nameCanonical": "",
                "nameSub": "State Humanities Gen Ed"
               }
              ],
              "id": 3,
              "name": "Term 3"
             },
             {
              "curriculum_items": [
               {
                "credits": 3,
                "curriculum_requisites": [
                 {
                  "source_id": 24959,
                  "target_id": 25981,
                  "type": "coreq"
                 }
                ],
                "id": 25981,
                "metrics": {
                 "blocking factor": 3,
                 "centrality": 13,
                 "complexity": 10,
                 "delay factor": 7
                },
                "name": "EGN 3373",
                "nameCanonical": "",
                "nameSub": "Introduction to Electrical Systems I"
               },
               {
                "credits": 3,
                "curriculum_requisites": [
                 {
                  "source_id": 24952,
                  "target_id": 24959,
                  "type": "prereq"
                 }
                ],
                "id": 24959,
                "metrics": {
                 "blocking factor": 4,
                 "centrality": 13,
                 "complexity": 11,
                 "delay factor": 7
                },
                "name": "MAP 2302",
                "nameCanonical": "",
                "nameSub": "Differential Equations"
               },
               {
                "credits": 4,
                "curriculum_requisites": [
                 {
                  "source_id": 25357,
                  "target_id": 29920,
                  "type": "prereq"
                 },
                 {
                  "source_id": 27967,
                  "target_id": 29920,
                  "type": "prereq"
                 }
                ],
                "id": 29920,
                "metrics": {
                 "blocking factor": 0,
                 "centrality": 0,
                 "complexity": 5,
                 "delay factor": 5
                },
                "name": "EEL 3472C",
                "nameCanonical": "",
                "nameSub": "Electrical Engineering Science II - Electromagnetics"
               },
               {
                "credits": 3,
                "curriculum_requisites": [],
                "id": 24974,
                "metrics": {
                 "blocking factor": 1,
                 "centrality": 0,
                 "complexity": 3,
                 "delay factor": 2
                },
                "name": "EEL 2161",
                "nameCanonical": "",
                "nameSub": "Programming with C"
               },
               {
                "credits": 1,
                "curriculum_requisites": [],
                "id": 6,
                "metrics": {
                 "blocking factor": 2,
                 "centrality": 0,
                 "complexity": 5,
                 "delay factor": 3
                },
                "name": "EGS 2070",
                "nameCanonical": "",
                "nameSub": "Professional Formation of Engineers I"
               }
              ],
              "id": 4,
              "name": "Term 4"
             },
             {
              "curriculum_items": [
               {
                "credits": 3,
                "curriculum_requisites": [
                 {
                  "source_id": 25981,
                  "target_id": 27018,
                  "type": "prereq"
                 }
                ],
                "id": 27018,
                "metrics": {
                 "blocking factor": 1,
                 "centrality": 7,
                 "complexity": 8,
                 "delay factor": 7
                },
                "name": "EGN 3374",
                "nameCanonical": "",
                "nameSub": "Introduction to Electrical Systems II"
               },
               {
                "credits": 3,
                "curriculum_requisites": [
                 {
                  "source_id": 24951,
                  "target_id": 25983,
                  "type": "prereq"
                 }
                ],
                "id": 25983,
                "metrics": {
                 "blocking factor": 0,
                 "centrality": 0,
                 "complexity": 3,
                 "delay factor": 3
                },
                "name": "EGN 3443",
                "nameCanonical": "",
                "nameSub": "Probability and Statistics for Engineers"
               },
               {
                "credits": 3,
                "curriculum_requisites": [],
                "id": 24859,
                "metrics": {
                 "blocking factor": 0,
                 "centrality": 0,
                 "complexity": 1,
                 "delay factor": 1
                },
                "name": "EGN 3615",
                "nameCanonical": "",
                "nameSub": "Engineering Economics with Social and Global Implications"
               }
              ],
              "id": 5,
              "name": "Term 5"
             },
             {
              "curriculum_items": [
               {
                "credits": 1,
                "curriculum_requisites": [
                 {
                  "source_id": 25981,
                  "target_id": 26911,
                  "type": "prereq"
                 }
                ],
                "id": 26911,
                "metrics": {
                 "blocking factor": 0,
                 "centrality": 0,
                 "complexity": 6,
                 "delay factor": 6
                },
                "name": "EEL 3115L",
                "nameCanonical": "",
                "nameSub": "Laboratory I"
               },
               {
                "credits": 3,
                "curriculum_requisites": [],
                "id": 9,
                "metrics": {
                 "blocking factor": 0,
                 "centrality": 0,
                 "complexity": 1,
                 "delay factor": 1
                },
                "name": " ",
                "nameCanonical": "",
                "nameSub": "EE Core Technical Elective"
               },
               {
                "credits": 3,
                "curriculum_requisites": [],
                "id": 10,
                "metrics": {
                 "blocking factor": 0,
                 "centrality": 0,
                 "complexity": 1,
                 "delay factor": 1
                },
                "name": " ",
                "nameCanonical": "",
                "nameSub": "EE Core Technical Elective"
               },
               {
                "credits": 3,
                "curriculum_requisites": [
                 {
                  "source_id": 27018,
                  "target_id": 25885,
                  "type": "prereq"
                 },
                 {
                  "source_id": 25357,
                  "target_id": 25885,
                  "type": "prereq"
                 }
                ],
                "id": 25885,
                "metrics": {
                 "blocking factor": 0,
                 "centrality": 0,
                 "complexity": 7,
                 "delay factor": 7
                },
                "name": "EEL 4102",
                "nameCanonical": "",
                "nameSub": "Signals and Systems"
               },
               {
                "credits": 1,
                "curriculum_requisites": [
                 {
                  "source_id": 24974,
                  "target_id": 29988,
                  "type": "prereq"
                 }
                ],
                "id": 29988,
                "metrics": {
                 "blocking factor": 0,
                 "centrality": 0,
                 "complexity": 2,
                 "delay factor": 2
                },
                "name": "EEL 3163C",
                "nameCanonical": "",
                "nameSub": "Computer Tool Lab"
               },
               {
                "credits": 3,
                "curriculum_requisites": [],
                "id": 27719,
                "metrics": {
                 "blocking factor": 0,
                 "centrality": 0,
                 "complexity": 1,
                 "delay factor": 1
                },
                "name": "ENC 3246",
                "nameCanonical": "",
                "nameSub": "Communication for Engineers"
               },
               {
                "credits": 1,
                "curriculum_requisites": [
                 {
                  "source_id": 6,
                  "target_id": 11,
                  "type": "prereq"
                 }
                ],
                "id": 11,
                "metrics": {
                 "blocking factor": 1,
                 "centrality": 3,
                 "complexity": 4,
                 "delay factor": 3
                },
                "name": "EGS 3071",
                "nameCanonical": "",
                "nameSub": "Professional Formation of Engineers II"
               }
              ],
              "id": 6,
              "name": "Term 6"
             },
             {
              "curriculum_items": [
               {
                "credits": 3,
                "curriculum_requisites": [],
                "id": 12,
                "metrics": {
                 "blocking factor": 0,
                 "centrality": 0,
                 "complexity": 1,
                 "delay factor": 1
                },
                "name": " ",
                "nameCanonical": "",
                "nameSub": "EE Core Technical Elective"
               },
               {
                "credits": 3,
                "curriculum_requisites": [],
                "id": 13,
                "metrics": {
                 "blocking factor": 0,
                 "centrality": 0,
                 "complexity": 1,
                 "delay factor": 1
                },
                "name": " ",
                "nameCanonical": "",
                "nameSub": "EE Core Technical Elective"
               },
               {
                "credits": 3,
                "curriculum_requisites": [],
                "id": 14,
                "metrics": {
                 "blocking factor": 0,
                 "centrality": 0,
                 "complexity": 1,
                 "delay factor": 1
                },
                "name": " ",
                "nameCanonical": "",
                "nameSub": "EE Track Elective"
               },
               {
                "credits": 3,
                "curriculum_requisites": [],
                "id": 15,
                "metrics": {
                 "blocking factor": 0,
                 "centrality": 0,
                 "complexity": 1,
                 "delay factor": 1
                },
                "name": " ",
                "nameCanonical": "",
                "nameSub": "EE Track Elective"
               },
               {
                "credits": 1,
                "curriculum_requisites": [],
                "id": 16,
                "metrics": {
                 "blocking factor": 0,
                 "centrality": 0,
                 "complexity": 1,
                 "delay factor": 1
                },
                "name": " ",
                "nameCanonical": "",
                "nameSub": "EE Track Elective Lab"
               },
               {
                "credits": 1,
                "curriculum_requisites": [
                 {
                  "source_id": 11,
                  "target_id": 17,
                  "type": "prereq"
                 }
                ],
                "id": 17,
                "metrics": {
                 "blocking factor": 0,
                 "centrality": 0,
                 "complexity": 3,
                 "delay factor": 3
                },
                "name": "EGS 3072",
                "nameCanonical": "",
                "nameSub": "Professional Formation of Engineers III"
               },
               {
                "credits": 1,
                "curriculum_requisites": [],
                "id": 18,
                "metrics": {
                 "blocking factor": 0,
                 "centrality": 0,
                 "complexity": 1,
                 "delay factor": 1
                },
                "name": " ",
                "nameCanonical": "",
                "nameSub": "Upper-Level Department Elective Lab"
               }
              ],
              "id": 7,
              "name": "Term 7"
             },
             {
              "curriculum_items": [
               {
                "credits": 0,
                "curriculum_requisites": [],
                "id": 20,
                "metrics": {
                 "blocking factor": 0,
                 "centrality": 0,
                 "complexity": 1,
                 "delay factor": 1
                },
                "name": " ",
                "nameCanonical": "",
                "nameSub": "Internship/Co-op Participation"
               }
              ],
              "id": 8,
              "name": "Term 8"
             },
             {
              "curriculum_items": [
               {
                "credits": 3,
                "curriculum_requisites": [],
                "id": 26904,
                "metrics": {
                 "blocking factor": 1,
                 "centrality": 0,
                 "complexity": 3,
                 "delay factor": 2
                },
                "name": "EEL 4906",
                "nameCanonical": "",
                "nameSub": "EE Design 1"
               },
               {
                "credits": 3,
                "curriculum_requisites": [],
                "id": 21,
                "metrics": {
                 "blocking factor": 0,
                 "centrality": 0,
                 "complexity": 1,
                 "delay factor": 1
                },
                "name": " ",
                "nameCanonical": "",
                "nameSub": "Upper-Level Department Elective"
               },
               {
                "credits": 3,
                "curriculum_requisites": [],
                "id": 22,
                "metrics": {
                 "blocking factor": 0,
                 "centrality": 0,
                 "complexity": 1,
                 "delay factor": 1
                },
                "name": " ",
                "nameCanonical": "",
                "nameSub": "EE Track Elective"
               },
               {
                "credits": 3,
                "curriculum_requisites": [],
                "id": 23,
                "metrics": {
                 "blocking factor": 0,
                 "centrality": 0,
                 "complexity": 1,
                 "delay factor": 1
                },
                "name": " ",
                "nameCanonical": "",
                "nameSub": "EE Track Elective"
               },
               {
                "credits": 1,
                "curriculum_requisites": [],
                "id": 24,
                "metrics": {
                 "blocking factor": 0,
                 "centrality": 0,
                 "complexity": 1,
                 "delay factor": 1
                },
                "name": " ",
                "nameCanonical": "",
                "nameSub": "EE Track Elective Lab"
               },
               {
                "credits": 3,
                "curriculum_requisites": [],
                "id": 25,
                "metrics": {
                 "blocking factor": 0,
                 "centrality": 0,
                 "complexity": 1,
                 "delay factor": 1
                },
                "name": " ",
                "nameCanonical": "",
                "nameSub": "Upper-Level Department Elective"
               }
              ],
              "id": 9,
              "name": "Term 9"
             },
             {
              "curriculum_items": [
               {
                "credits": 3,
                "curriculum_requisites": [
                 {
                  "source_id": 26904,
                  "target_id": 27855,
                  "type": "prereq"
                 }
                ],
                "id": 27855,
                "metrics": {
                 "blocking factor": 0,
                 "centrality": 0,
                 "complexity": 2,
                 "delay factor": 2
                },
                "name": "EEL 4914",
                "nameCanonical": "",
                "nameSub": "EE Design 2"
               },
               {
                "credits": 3,
                "curriculum_requisites": [],
                "id": 27,
                "metrics": {
                 "blocking factor": 0,
                 "centrality": 0,
                 "complexity": 1,
                 "delay factor": 1
                },
                "name": " ",
                "nameCanonical": "",
                "nameSub": "Upper-Level Department Elective"
               },
               {
                "credits": 3,
                "curriculum_requisites": [],
                "id": 28,
                "metrics": {
                 "blocking factor": 0,
                 "centrality": 0,
                 "complexity": 1,
                 "delay factor": 1
                },
                "name": " ",
                "nameCanonical": "",
                "nameSub": "Upper-Level Department Elective"
               },
               {
                "credits": 3,
                "curriculum_requisites": [],
                "id": 29,
                "metrics": {
                 "blocking factor": 0,
                 "centrality": 0,
                 "complexity": 1,
                 "delay factor": 1
                },
                "name": " ",
                "nameCanonical": "",
                "nameSub": "General Elective"
               },
               {
                "credits": 1,
                "curriculum_requisites": [],
                "id": 30,
                "metrics": {
                 "blocking factor": 0,
                 "centrality": 0,
                 "complexity": 1,
                 "delay factor": 1
                },
                "name": " ",
                "nameCanonical": "",
                "nameSub": "General Elective"
               },
               {
                "credits": 3,
                "curriculum_requisites": [],
                "id": 31,
                "metrics": {
                 "blocking factor": 0,
                 "centrality": 0,
                 "complexity": 1,
                 "delay factor": 1
                },
                "name": "SGES ",
                "nameCanonical": "",
                "nameSub": "State Social Science Gen Ed"
               }
              ],
              "id": 10,
              "name": "Term 10"
             }
            ],
            "dp_name": "EEL-CALC+CHM ready",
            "institution": "USF",
            "name": "BSEE-Electrical Engineering"
           },
           "options": {
            "edit": false,
            "hideTerms": false
           }
          }
         }
        },
        "systemjs_options": null
       },
       "nodeType": "Scope",
       "props": {},
       "type": "node"
      },
      "text/html": [
       "<div\n",
       "    class=\"webio-mountpoint\"\n",
       "    data-webio-mountpoint=\"11051053109061834756\"\n",
       ">\n",
       "    <script>\n",
       "    if (window.require && require.defined && require.defined(\"nbextensions/webio-jupyter-notebook\")) {\n",
       "        console.log(\"Jupyter WebIO extension detected, not mounting.\");\n",
       "    } else if (window.WebIO) {\n",
       "        WebIO.mount(\n",
       "            document.querySelector('[data-webio-mountpoint=\"11051053109061834756\"]'),\n",
       "            {\"props\":{},\"nodeType\":\"Scope\",\"type\":\"node\",\"instanceArgs\":{\"imports\":{\"data\":[],\"type\":\"async_block\"},\"id\":\"17202971111688970390\",\"handlers\":{},\"systemjs_options\":null,\"mount_callbacks\":[],\"observables\":{\"curriculum-data\":{\"sync\":true,\"id\":\"ob_01\",\"value\":{\"options\":{\"hideTerms\":false,\"edit\":false},\"curriculum\":{\"name\":\"BSEE-Electrical Engineering\",\"dp_name\":\"EEL-CALC+CHM ready\",\"curriculum_terms\":[{\"name\":\"Term 1\",\"curriculum_items\":[{\"curriculum_requisites\":[],\"name\":\"MAC 2281\",\"metrics\":{\"complexity\":20.0,\"centrality\":0,\"blocking factor\":13,\"delay factor\":7.0},\"nameSub\":\"Engineering Calculus I\",\"id\":24950,\"credits\":4,\"nameCanonical\":\"\"},{\"curriculum_requisites\":[],\"name\":\"CHM\\/CHS 2045\\/2440\",\"metrics\":{\"complexity\":1.0,\"centrality\":0,\"blocking factor\":0,\"delay factor\":1.0},\"nameSub\":\"General Chemistry I\\/Chem for Engineers \",\"id\":25478,\"credits\":3,\"nameCanonical\":\"\"},{\"curriculum_requisites\":[],\"name\":\"ENC 1101\",\"metrics\":{\"complexity\":3.0,\"centrality\":0,\"blocking factor\":1,\"delay factor\":2.0},\"nameSub\":\"Composition I\",\"id\":23525,\"credits\":3,\"nameCanonical\":\"\"},{\"curriculum_requisites\":[],\"name\":\"CHM\\/CHS 2045\\/2440L\",\"metrics\":{\"complexity\":5.0,\"centrality\":0,\"blocking factor\":2,\"delay factor\":3.0},\"nameSub\":\"General Chemistry I\\/Chem for Engineers Laboratory\",\"id\":25479,\"credits\":1,\"nameCanonical\":\"\"},{\"curriculum_requisites\":[],\"name\":\"EGN 3000L\",\"metrics\":{\"complexity\":1.0,\"centrality\":0,\"blocking factor\":0,\"delay factor\":1.0},\"nameSub\":\"Foundations of Engineering Lab\",\"id\":23287,\"credits\":3,\"nameCanonical\":\"\"},{\"curriculum_requisites\":[],\"name\":\"EGN 3000\",\"metrics\":{\"complexity\":1.0,\"centrality\":0,\"blocking factor\":0,\"delay factor\":1.0},\"nameSub\":\"Foundations of Engineering\",\"id\":28172,\"credits\":0,\"nameCanonical\":\"\"}],\"id\":1},{\"name\":\"Term 2\",\"curriculum_items\":[{\"curriculum_requisites\":[{\"source_id\":24950,\"target_id\":24951,\"type\":\"prereq\"}],\"name\":\"MAC 2282\",\"metrics\":{\"complexity\":17.0,\"centrality\":29,\"blocking factor\":10,\"delay factor\":7.0},\"nameSub\":\"Engineering Calculus II\",\"id\":24951,\"credits\":4,\"nameCanonical\":\"\"},{\"curriculum_requisites\":[{\"source_id\":23525,\"target_id\":23526,\"type\":\"prereq\"}],\"name\":\"ENC 1102\",\"metrics\":{\"complexity\":2.0,\"centrality\":0,\"blocking factor\":0,\"delay factor\":2.0},\"nameSub\":\"Composition II\",\"id\":23526,\"credits\":3,\"nameCanonical\":\"\"},{\"curriculum_requisites\":[{\"source_id\":24950,\"target_id\":26014,\"type\":\"prereq\"}],\"name\":\"PHY 2048\",\"metrics\":{\"complexity\":5.0,\"centrality\":4,\"blocking factor\":2,\"delay factor\":3.0},\"nameSub\":\"General Physics I - Calculus Based\",\"id\":26014,\"credits\":3,\"nameCanonical\":\"\"},{\"curriculum_requisites\":[{\"source_id\":24950,\"target_id\":26015,\"type\":\"prereq\"}],\"name\":\"PHY 2048L\",\"metrics\":{\"complexity\":2.0,\"centrality\":0,\"blocking factor\":0,\"delay factor\":2.0},\"nameSub\":\"General Physics I Laboratory\",\"id\":26015,\"credits\":1,\"nameCanonical\":\"\"},{\"curriculum_requisites\":[],\"name\":\"EEL 3705\",\"metrics\":{\"complexity\":3.0,\"centrality\":0,\"blocking factor\":1,\"delay factor\":2.0},\"nameSub\":\"Fundamentals of Digital Circuits\",\"id\":23747,\"credits\":3,\"nameCanonical\":\"\"}],\"id\":2},{\"name\":\"Term 3\",\"curriculum_items\":[{\"curriculum_requisites\":[{\"source_id\":24951,\"target_id\":24952,\"type\":\"prereq\"}],\"name\":\"MAC 2283\",\"metrics\":{\"complexity\":14.0,\"centrality\":18,\"blocking factor\":7,\"delay factor\":7.0},\"nameSub\":\"Engineering Calculus III\",\"id\":24952,\"credits\":4,\"nameCanonical\":\"\"},{\"curriculum_requisites\":[{\"source_id\":24951,\"target_id\":25357,\"type\":\"prereq\"}],\"name\":\"EGN 3420\",\"metrics\":{\"complexity\":5.0,\"centrality\":8,\"blocking factor\":2,\"delay factor\":3.0},\"nameSub\":\"Engineering Analysis\",\"id\":25357,\"credits\":4,\"nameCanonical\":\"\"},{\"curriculum_requisites\":[{\"source_id\":25479,\"target_id\":27967,\"type\":\"prereq\"},{\"source_id\":24952,\"target_id\":27967,\"type\":\"coreq\"},{\"source_id\":26014,\"target_id\":27967,\"type\":\"prereq\"}],\"name\":\"EEE 3394\",\"metrics\":{\"complexity\":6.0,\"centrality\":12,\"blocking factor\":1,\"delay factor\":5.0},\"nameSub\":\"Electrical Engineering Science I - Electronic Materials\",\"id\":27967,\"credits\":3,\"nameCanonical\":\"\"},{\"curriculum_requisites\":[{\"source_id\":23747,\"target_id\":26896,\"type\":\"prereq\"}],\"name\":\"EEL 3705L\",\"metrics\":{\"complexity\":2.0,\"centrality\":0,\"blocking factor\":0,\"delay factor\":2.0},\"nameSub\":\"Fundamentals of Digital Circuits Laboratory\",\"id\":26896,\"credits\":1,\"nameCanonical\":\"\"},{\"curriculum_requisites\":[],\"name\":\"SGEH \",\"metrics\":{\"complexity\":1.0,\"centrality\":0,\"blocking factor\":0,\"delay factor\":1.0},\"nameSub\":\"State Humanities Gen Ed\",\"id\":4,\"credits\":3,\"nameCanonical\":\"\"}],\"id\":3},{\"name\":\"Term 4\",\"curriculum_items\":[{\"curriculum_requisites\":[{\"source_id\":24959,\"target_id\":25981,\"type\":\"coreq\"}],\"name\":\"EGN 3373\",\"metrics\":{\"complexity\":10.0,\"centrality\":13,\"blocking factor\":3,\"delay factor\":7.0},\"nameSub\":\"Introduction to Electrical Systems I\",\"id\":25981,\"credits\":3,\"nameCanonical\":\"\"},{\"curriculum_requisites\":[{\"source_id\":24952,\"target_id\":24959,\"type\":\"prereq\"}],\"name\":\"MAP 2302\",\"metrics\":{\"complexity\":11.0,\"centrality\":13,\"blocking factor\":4,\"delay factor\":7.0},\"nameSub\":\"Differential Equations\",\"id\":24959,\"credits\":3,\"nameCanonical\":\"\"},{\"curriculum_requisites\":[{\"source_id\":25357,\"target_id\":29920,\"type\":\"prereq\"},{\"source_id\":27967,\"target_id\":29920,\"type\":\"prereq\"}],\"name\":\"EEL 3472C\",\"metrics\":{\"complexity\":5.0,\"centrality\":0,\"blocking factor\":0,\"delay factor\":5.0},\"nameSub\":\"Electrical Engineering Science II - Electromagnetics\",\"id\":29920,\"credits\":4,\"nameCanonical\":\"\"},{\"curriculum_requisites\":[],\"name\":\"EEL 2161\",\"metrics\":{\"complexity\":3.0,\"centrality\":0,\"blocking factor\":1,\"delay factor\":2.0},\"nameSub\":\"Programming with C\",\"id\":24974,\"credits\":3,\"nameCanonical\":\"\"},{\"curriculum_requisites\":[],\"name\":\"EGS 2070\",\"metrics\":{\"complexity\":5.0,\"centrality\":0,\"blocking factor\":2,\"delay factor\":3.0},\"nameSub\":\"Professional Formation of Engineers I\",\"id\":6,\"credits\":1,\"nameCanonical\":\"\"}],\"id\":4},{\"name\":\"Term 5\",\"curriculum_items\":[{\"curriculum_requisites\":[{\"source_id\":25981,\"target_id\":27018,\"type\":\"prereq\"}],\"name\":\"EGN 3374\",\"metrics\":{\"complexity\":8.0,\"centrality\":7,\"blocking factor\":1,\"delay factor\":7.0},\"nameSub\":\"Introduction to Electrical Systems II\",\"id\":27018,\"credits\":3,\"nameCanonical\":\"\"},{\"curriculum_requisites\":[{\"source_id\":24951,\"target_id\":25983,\"type\":\"prereq\"}],\"name\":\"EGN 3443\",\"metrics\":{\"complexity\":3.0,\"centrality\":0,\"blocking factor\":0,\"delay factor\":3.0},\"nameSub\":\"Probability and Statistics for Engineers\",\"id\":25983,\"credits\":3,\"nameCanonical\":\"\"},{\"curriculum_requisites\":[],\"name\":\"EGN 3615\",\"metrics\":{\"complexity\":1.0,\"centrality\":0,\"blocking factor\":0,\"delay factor\":1.0},\"nameSub\":\"Engineering Economics with Social and Global Implications\",\"id\":24859,\"credits\":3,\"nameCanonical\":\"\"}],\"id\":5},{\"name\":\"Term 6\",\"curriculum_items\":[{\"curriculum_requisites\":[{\"source_id\":25981,\"target_id\":26911,\"type\":\"prereq\"}],\"name\":\"EEL 3115L\",\"metrics\":{\"complexity\":6.0,\"centrality\":0,\"blocking factor\":0,\"delay factor\":6.0},\"nameSub\":\"Laboratory I\",\"id\":26911,\"credits\":1,\"nameCanonical\":\"\"},{\"curriculum_requisites\":[],\"name\":\" \",\"metrics\":{\"complexity\":1.0,\"centrality\":0,\"blocking factor\":0,\"delay factor\":1.0},\"nameSub\":\"EE Core Technical Elective\",\"id\":9,\"credits\":3,\"nameCanonical\":\"\"},{\"curriculum_requisites\":[],\"name\":\" \",\"metrics\":{\"complexity\":1.0,\"centrality\":0,\"blocking factor\":0,\"delay factor\":1.0},\"nameSub\":\"EE Core Technical Elective\",\"id\":10,\"credits\":3,\"nameCanonical\":\"\"},{\"curriculum_requisites\":[{\"source_id\":27018,\"target_id\":25885,\"type\":\"prereq\"},{\"source_id\":25357,\"target_id\":25885,\"type\":\"prereq\"}],\"name\":\"EEL 4102\",\"metrics\":{\"complexity\":7.0,\"centrality\":0,\"blocking factor\":0,\"delay factor\":7.0},\"nameSub\":\"Signals and Systems\",\"id\":25885,\"credits\":3,\"nameCanonical\":\"\"},{\"curriculum_requisites\":[{\"source_id\":24974,\"target_id\":29988,\"type\":\"prereq\"}],\"name\":\"EEL 3163C\",\"metrics\":{\"complexity\":2.0,\"centrality\":0,\"blocking factor\":0,\"delay factor\":2.0},\"nameSub\":\"Computer Tool Lab\",\"id\":29988,\"credits\":1,\"nameCanonical\":\"\"},{\"curriculum_requisites\":[],\"name\":\"ENC 3246\",\"metrics\":{\"complexity\":1.0,\"centrality\":0,\"blocking factor\":0,\"delay factor\":1.0},\"nameSub\":\"Communication for Engineers\",\"id\":27719,\"credits\":3,\"nameCanonical\":\"\"},{\"curriculum_requisites\":[{\"source_id\":6,\"target_id\":11,\"type\":\"prereq\"}],\"name\":\"EGS 3071\",\"metrics\":{\"complexity\":4.0,\"centrality\":3,\"blocking factor\":1,\"delay factor\":3.0},\"nameSub\":\"Professional Formation of Engineers II\",\"id\":11,\"credits\":1,\"nameCanonical\":\"\"}],\"id\":6},{\"name\":\"Term 7\",\"curriculum_items\":[{\"curriculum_requisites\":[],\"name\":\" \",\"metrics\":{\"complexity\":1.0,\"centrality\":0,\"blocking factor\":0,\"delay factor\":1.0},\"nameSub\":\"EE Core Technical Elective\",\"id\":12,\"credits\":3,\"nameCanonical\":\"\"},{\"curriculum_requisites\":[],\"name\":\" \",\"metrics\":{\"complexity\":1.0,\"centrality\":0,\"blocking factor\":0,\"delay factor\":1.0},\"nameSub\":\"EE Core Technical Elective\",\"id\":13,\"credits\":3,\"nameCanonical\":\"\"},{\"curriculum_requisites\":[],\"name\":\" \",\"metrics\":{\"complexity\":1.0,\"centrality\":0,\"blocking factor\":0,\"delay factor\":1.0},\"nameSub\":\"EE Track Elective\",\"id\":14,\"credits\":3,\"nameCanonical\":\"\"},{\"curriculum_requisites\":[],\"name\":\" \",\"metrics\":{\"complexity\":1.0,\"centrality\":0,\"blocking factor\":0,\"delay factor\":1.0},\"nameSub\":\"EE Track Elective\",\"id\":15,\"credits\":3,\"nameCanonical\":\"\"},{\"curriculum_requisites\":[],\"name\":\" \",\"metrics\":{\"complexity\":1.0,\"centrality\":0,\"blocking factor\":0,\"delay factor\":1.0},\"nameSub\":\"EE Track Elective Lab\",\"id\":16,\"credits\":1,\"nameCanonical\":\"\"},{\"curriculum_requisites\":[{\"source_id\":11,\"target_id\":17,\"type\":\"prereq\"}],\"name\":\"EGS 3072\",\"metrics\":{\"complexity\":3.0,\"centrality\":0,\"blocking factor\":0,\"delay factor\":3.0},\"nameSub\":\"Professional Formation of Engineers III\",\"id\":17,\"credits\":1,\"nameCanonical\":\"\"},{\"curriculum_requisites\":[],\"name\":\" \",\"metrics\":{\"complexity\":1.0,\"centrality\":0,\"blocking factor\":0,\"delay factor\":1.0},\"nameSub\":\"Upper-Level Department Elective Lab\",\"id\":18,\"credits\":1,\"nameCanonical\":\"\"}],\"id\":7},{\"name\":\"Term 8\",\"curriculum_items\":[{\"curriculum_requisites\":[],\"name\":\" \",\"metrics\":{\"complexity\":1.0,\"centrality\":0,\"blocking factor\":0,\"delay factor\":1.0},\"nameSub\":\"Internship\\/Co-op Participation\",\"id\":20,\"credits\":0,\"nameCanonical\":\"\"}],\"id\":8},{\"name\":\"Term 9\",\"curriculum_items\":[{\"curriculum_requisites\":[],\"name\":\"EEL 4906\",\"metrics\":{\"complexity\":3.0,\"centrality\":0,\"blocking factor\":1,\"delay factor\":2.0},\"nameSub\":\"EE Design 1\",\"id\":26904,\"credits\":3,\"nameCanonical\":\"\"},{\"curriculum_requisites\":[],\"name\":\" \",\"metrics\":{\"complexity\":1.0,\"centrality\":0,\"blocking factor\":0,\"delay factor\":1.0},\"nameSub\":\"Upper-Level Department Elective\",\"id\":21,\"credits\":3,\"nameCanonical\":\"\"},{\"curriculum_requisites\":[],\"name\":\" \",\"metrics\":{\"complexity\":1.0,\"centrality\":0,\"blocking factor\":0,\"delay factor\":1.0},\"nameSub\":\"EE Track Elective\",\"id\":22,\"credits\":3,\"nameCanonical\":\"\"},{\"curriculum_requisites\":[],\"name\":\" \",\"metrics\":{\"complexity\":1.0,\"centrality\":0,\"blocking factor\":0,\"delay factor\":1.0},\"nameSub\":\"EE Track Elective\",\"id\":23,\"credits\":3,\"nameCanonical\":\"\"},{\"curriculum_requisites\":[],\"name\":\" \",\"metrics\":{\"complexity\":1.0,\"centrality\":0,\"blocking factor\":0,\"delay factor\":1.0},\"nameSub\":\"EE Track Elective Lab\",\"id\":24,\"credits\":1,\"nameCanonical\":\"\"},{\"curriculum_requisites\":[],\"name\":\" \",\"metrics\":{\"complexity\":1.0,\"centrality\":0,\"blocking factor\":0,\"delay factor\":1.0},\"nameSub\":\"Upper-Level Department Elective\",\"id\":25,\"credits\":3,\"nameCanonical\":\"\"}],\"id\":9},{\"name\":\"Term 10\",\"curriculum_items\":[{\"curriculum_requisites\":[{\"source_id\":26904,\"target_id\":27855,\"type\":\"prereq\"}],\"name\":\"EEL 4914\",\"metrics\":{\"complexity\":2.0,\"centrality\":0,\"blocking factor\":0,\"delay factor\":2.0},\"nameSub\":\"EE Design 2\",\"id\":27855,\"credits\":3,\"nameCanonical\":\"\"},{\"curriculum_requisites\":[],\"name\":\" \",\"metrics\":{\"complexity\":1.0,\"centrality\":0,\"blocking factor\":0,\"delay factor\":1.0},\"nameSub\":\"Upper-Level Department Elective\",\"id\":27,\"credits\":3,\"nameCanonical\":\"\"},{\"curriculum_requisites\":[],\"name\":\" \",\"metrics\":{\"complexity\":1.0,\"centrality\":0,\"blocking factor\":0,\"delay factor\":1.0},\"nameSub\":\"Upper-Level Department Elective\",\"id\":28,\"credits\":3,\"nameCanonical\":\"\"},{\"curriculum_requisites\":[],\"name\":\" \",\"metrics\":{\"complexity\":1.0,\"centrality\":0,\"blocking factor\":0,\"delay factor\":1.0},\"nameSub\":\"General Elective\",\"id\":29,\"credits\":3,\"nameCanonical\":\"\"},{\"curriculum_requisites\":[],\"name\":\" \",\"metrics\":{\"complexity\":1.0,\"centrality\":0,\"blocking factor\":0,\"delay factor\":1.0},\"nameSub\":\"General Elective\",\"id\":30,\"credits\":1,\"nameCanonical\":\"\"},{\"curriculum_requisites\":[],\"name\":\"SGES \",\"metrics\":{\"complexity\":1.0,\"centrality\":0,\"blocking factor\":0,\"delay factor\":1.0},\"nameSub\":\"State Social Science Gen Ed\",\"id\":31,\"credits\":3,\"nameCanonical\":\"\"}],\"id\":10}],\"institution\":\"USF\"}}}}},\"children\":[{\"props\":{\"src\":\"http:\\/\\/localhost:8156\",\"id\":\"curriculum\",\"events\":{\"load\":\"(function (){this.contentWindow.postMessage({\\\"options\\\":{\\\"hideTerms\\\":false,\\\"edit\\\":false},\\\"curriculum\\\":{\\\"name\\\":\\\"BSEE-Electrical Engineering\\\",\\\"dp_name\\\":\\\"EEL-CALC+CHM ready\\\",\\\"curriculum_terms\\\":[{\\\"name\\\":\\\"Term 1\\\",\\\"curriculum_items\\\":[{\\\"curriculum_requisites\\\":[],\\\"name\\\":\\\"MAC 2281\\\",\\\"metrics\\\":{\\\"complexity\\\":20.0,\\\"centrality\\\":0,\\\"blocking factor\\\":13,\\\"delay factor\\\":7.0},\\\"nameSub\\\":\\\"Engineering Calculus I\\\",\\\"id\\\":24950,\\\"credits\\\":4,\\\"nameCanonical\\\":\\\"\\\"},{\\\"curriculum_requisites\\\":[],\\\"name\\\":\\\"CHM\\/CHS 2045\\/2440\\\",\\\"metrics\\\":{\\\"complexity\\\":1.0,\\\"centrality\\\":0,\\\"blocking factor\\\":0,\\\"delay factor\\\":1.0},\\\"nameSub\\\":\\\"General Chemistry I\\/Chem for Engineers \\\",\\\"id\\\":25478,\\\"credits\\\":3,\\\"nameCanonical\\\":\\\"\\\"},{\\\"curriculum_requisites\\\":[],\\\"name\\\":\\\"ENC 1101\\\",\\\"metrics\\\":{\\\"complexity\\\":3.0,\\\"centrality\\\":0,\\\"blocking factor\\\":1,\\\"delay factor\\\":2.0},\\\"nameSub\\\":\\\"Composition I\\\",\\\"id\\\":23525,\\\"credits\\\":3,\\\"nameCanonical\\\":\\\"\\\"},{\\\"curriculum_requisites\\\":[],\\\"name\\\":\\\"CHM\\/CHS 2045\\/2440L\\\",\\\"metrics\\\":{\\\"complexity\\\":5.0,\\\"centrality\\\":0,\\\"blocking factor\\\":2,\\\"delay factor\\\":3.0},\\\"nameSub\\\":\\\"General Chemistry I\\/Chem for Engineers Laboratory\\\",\\\"id\\\":25479,\\\"credits\\\":1,\\\"nameCanonical\\\":\\\"\\\"},{\\\"curriculum_requisites\\\":[],\\\"name\\\":\\\"EGN 3000L\\\",\\\"metrics\\\":{\\\"complexity\\\":1.0,\\\"centrality\\\":0,\\\"blocking factor\\\":0,\\\"delay factor\\\":1.0},\\\"nameSub\\\":\\\"Foundations of Engineering Lab\\\",\\\"id\\\":23287,\\\"credits\\\":3,\\\"nameCanonical\\\":\\\"\\\"},{\\\"curriculum_requisites\\\":[],\\\"name\\\":\\\"EGN 3000\\\",\\\"metrics\\\":{\\\"complexity\\\":1.0,\\\"centrality\\\":0,\\\"blocking factor\\\":0,\\\"delay factor\\\":1.0},\\\"nameSub\\\":\\\"Foundations of Engineering\\\",\\\"id\\\":28172,\\\"credits\\\":0,\\\"nameCanonical\\\":\\\"\\\"}],\\\"id\\\":1},{\\\"name\\\":\\\"Term 2\\\",\\\"curriculum_items\\\":[{\\\"curriculum_requisites\\\":[{\\\"source_id\\\":24950,\\\"target_id\\\":24951,\\\"type\\\":\\\"prereq\\\"}],\\\"name\\\":\\\"MAC 2282\\\",\\\"metrics\\\":{\\\"complexity\\\":17.0,\\\"centrality\\\":29,\\\"blocking factor\\\":10,\\\"delay factor\\\":7.0},\\\"nameSub\\\":\\\"Engineering Calculus II\\\",\\\"id\\\":24951,\\\"credits\\\":4,\\\"nameCanonical\\\":\\\"\\\"},{\\\"curriculum_requisites\\\":[{\\\"source_id\\\":23525,\\\"target_id\\\":23526,\\\"type\\\":\\\"prereq\\\"}],\\\"name\\\":\\\"ENC 1102\\\",\\\"metrics\\\":{\\\"complexity\\\":2.0,\\\"centrality\\\":0,\\\"blocking factor\\\":0,\\\"delay factor\\\":2.0},\\\"nameSub\\\":\\\"Composition II\\\",\\\"id\\\":23526,\\\"credits\\\":3,\\\"nameCanonical\\\":\\\"\\\"},{\\\"curriculum_requisites\\\":[{\\\"source_id\\\":24950,\\\"target_id\\\":26014,\\\"type\\\":\\\"prereq\\\"}],\\\"name\\\":\\\"PHY 2048\\\",\\\"metrics\\\":{\\\"complexity\\\":5.0,\\\"centrality\\\":4,\\\"blocking factor\\\":2,\\\"delay factor\\\":3.0},\\\"nameSub\\\":\\\"General Physics I - Calculus Based\\\",\\\"id\\\":26014,\\\"credits\\\":3,\\\"nameCanonical\\\":\\\"\\\"},{\\\"curriculum_requisites\\\":[{\\\"source_id\\\":24950,\\\"target_id\\\":26015,\\\"type\\\":\\\"prereq\\\"}],\\\"name\\\":\\\"PHY 2048L\\\",\\\"metrics\\\":{\\\"complexity\\\":2.0,\\\"centrality\\\":0,\\\"blocking factor\\\":0,\\\"delay factor\\\":2.0},\\\"nameSub\\\":\\\"General Physics I Laboratory\\\",\\\"id\\\":26015,\\\"credits\\\":1,\\\"nameCanonical\\\":\\\"\\\"},{\\\"curriculum_requisites\\\":[],\\\"name\\\":\\\"EEL 3705\\\",\\\"metrics\\\":{\\\"complexity\\\":3.0,\\\"centrality\\\":0,\\\"blocking factor\\\":1,\\\"delay factor\\\":2.0},\\\"nameSub\\\":\\\"Fundamentals of Digital Circuits\\\",\\\"id\\\":23747,\\\"credits\\\":3,\\\"nameCanonical\\\":\\\"\\\"}],\\\"id\\\":2},{\\\"name\\\":\\\"Term 3\\\",\\\"curriculum_items\\\":[{\\\"curriculum_requisites\\\":[{\\\"source_id\\\":24951,\\\"target_id\\\":24952,\\\"type\\\":\\\"prereq\\\"}],\\\"name\\\":\\\"MAC 2283\\\",\\\"metrics\\\":{\\\"complexity\\\":14.0,\\\"centrality\\\":18,\\\"blocking factor\\\":7,\\\"delay factor\\\":7.0},\\\"nameSub\\\":\\\"Engineering Calculus III\\\",\\\"id\\\":24952,\\\"credits\\\":4,\\\"nameCanonical\\\":\\\"\\\"},{\\\"curriculum_requisites\\\":[{\\\"source_id\\\":24951,\\\"target_id\\\":25357,\\\"type\\\":\\\"prereq\\\"}],\\\"name\\\":\\\"EGN 3420\\\",\\\"metrics\\\":{\\\"complexity\\\":5.0,\\\"centrality\\\":8,\\\"blocking factor\\\":2,\\\"delay factor\\\":3.0},\\\"nameSub\\\":\\\"Engineering Analysis\\\",\\\"id\\\":25357,\\\"credits\\\":4,\\\"nameCanonical\\\":\\\"\\\"},{\\\"curriculum_requisites\\\":[{\\\"source_id\\\":25479,\\\"target_id\\\":27967,\\\"type\\\":\\\"prereq\\\"},{\\\"source_id\\\":24952,\\\"target_id\\\":27967,\\\"type\\\":\\\"coreq\\\"},{\\\"source_id\\\":26014,\\\"target_id\\\":27967,\\\"type\\\":\\\"prereq\\\"}],\\\"name\\\":\\\"EEE 3394\\\",\\\"metrics\\\":{\\\"complexity\\\":6.0,\\\"centrality\\\":12,\\\"blocking factor\\\":1,\\\"delay factor\\\":5.0},\\\"nameSub\\\":\\\"Electrical Engineering Science I - Electronic Materials\\\",\\\"id\\\":27967,\\\"credits\\\":3,\\\"nameCanonical\\\":\\\"\\\"},{\\\"curriculum_requisites\\\":[{\\\"source_id\\\":23747,\\\"target_id\\\":26896,\\\"type\\\":\\\"prereq\\\"}],\\\"name\\\":\\\"EEL 3705L\\\",\\\"metrics\\\":{\\\"complexity\\\":2.0,\\\"centrality\\\":0,\\\"blocking factor\\\":0,\\\"delay factor\\\":2.0},\\\"nameSub\\\":\\\"Fundamentals of Digital Circuits Laboratory\\\",\\\"id\\\":26896,\\\"credits\\\":1,\\\"nameCanonical\\\":\\\"\\\"},{\\\"curriculum_requisites\\\":[],\\\"name\\\":\\\"SGEH \\\",\\\"metrics\\\":{\\\"complexity\\\":1.0,\\\"centrality\\\":0,\\\"blocking factor\\\":0,\\\"delay factor\\\":1.0},\\\"nameSub\\\":\\\"State Humanities Gen Ed\\\",\\\"id\\\":4,\\\"credits\\\":3,\\\"nameCanonical\\\":\\\"\\\"}],\\\"id\\\":3},{\\\"name\\\":\\\"Term 4\\\",\\\"curriculum_items\\\":[{\\\"curriculum_requisites\\\":[{\\\"source_id\\\":24959,\\\"target_id\\\":25981,\\\"type\\\":\\\"coreq\\\"}],\\\"name\\\":\\\"EGN 3373\\\",\\\"metrics\\\":{\\\"complexity\\\":10.0,\\\"centrality\\\":13,\\\"blocking factor\\\":3,\\\"delay factor\\\":7.0},\\\"nameSub\\\":\\\"Introduction to Electrical Systems I\\\",\\\"id\\\":25981,\\\"credits\\\":3,\\\"nameCanonical\\\":\\\"\\\"},{\\\"curriculum_requisites\\\":[{\\\"source_id\\\":24952,\\\"target_id\\\":24959,\\\"type\\\":\\\"prereq\\\"}],\\\"name\\\":\\\"MAP 2302\\\",\\\"metrics\\\":{\\\"complexity\\\":11.0,\\\"centrality\\\":13,\\\"blocking factor\\\":4,\\\"delay factor\\\":7.0},\\\"nameSub\\\":\\\"Differential Equations\\\",\\\"id\\\":24959,\\\"credits\\\":3,\\\"nameCanonical\\\":\\\"\\\"},{\\\"curriculum_requisites\\\":[{\\\"source_id\\\":25357,\\\"target_id\\\":29920,\\\"type\\\":\\\"prereq\\\"},{\\\"source_id\\\":27967,\\\"target_id\\\":29920,\\\"type\\\":\\\"prereq\\\"}],\\\"name\\\":\\\"EEL 3472C\\\",\\\"metrics\\\":{\\\"complexity\\\":5.0,\\\"centrality\\\":0,\\\"blocking factor\\\":0,\\\"delay factor\\\":5.0},\\\"nameSub\\\":\\\"Electrical Engineering Science II - Electromagnetics\\\",\\\"id\\\":29920,\\\"credits\\\":4,\\\"nameCanonical\\\":\\\"\\\"},{\\\"curriculum_requisites\\\":[],\\\"name\\\":\\\"EEL 2161\\\",\\\"metrics\\\":{\\\"complexity\\\":3.0,\\\"centrality\\\":0,\\\"blocking factor\\\":1,\\\"delay factor\\\":2.0},\\\"nameSub\\\":\\\"Programming with C\\\",\\\"id\\\":24974,\\\"credits\\\":3,\\\"nameCanonical\\\":\\\"\\\"},{\\\"curriculum_requisites\\\":[],\\\"name\\\":\\\"EGS 2070\\\",\\\"metrics\\\":{\\\"complexity\\\":5.0,\\\"centrality\\\":0,\\\"blocking factor\\\":2,\\\"delay factor\\\":3.0},\\\"nameSub\\\":\\\"Professional Formation of Engineers I\\\",\\\"id\\\":6,\\\"credits\\\":1,\\\"nameCanonical\\\":\\\"\\\"}],\\\"id\\\":4},{\\\"name\\\":\\\"Term 5\\\",\\\"curriculum_items\\\":[{\\\"curriculum_requisites\\\":[{\\\"source_id\\\":25981,\\\"target_id\\\":27018,\\\"type\\\":\\\"prereq\\\"}],\\\"name\\\":\\\"EGN 3374\\\",\\\"metrics\\\":{\\\"complexity\\\":8.0,\\\"centrality\\\":7,\\\"blocking factor\\\":1,\\\"delay factor\\\":7.0},\\\"nameSub\\\":\\\"Introduction to Electrical Systems II\\\",\\\"id\\\":27018,\\\"credits\\\":3,\\\"nameCanonical\\\":\\\"\\\"},{\\\"curriculum_requisites\\\":[{\\\"source_id\\\":24951,\\\"target_id\\\":25983,\\\"type\\\":\\\"prereq\\\"}],\\\"name\\\":\\\"EGN 3443\\\",\\\"metrics\\\":{\\\"complexity\\\":3.0,\\\"centrality\\\":0,\\\"blocking factor\\\":0,\\\"delay factor\\\":3.0},\\\"nameSub\\\":\\\"Probability and Statistics for Engineers\\\",\\\"id\\\":25983,\\\"credits\\\":3,\\\"nameCanonical\\\":\\\"\\\"},{\\\"curriculum_requisites\\\":[],\\\"name\\\":\\\"EGN 3615\\\",\\\"metrics\\\":{\\\"complexity\\\":1.0,\\\"centrality\\\":0,\\\"blocking factor\\\":0,\\\"delay factor\\\":1.0},\\\"nameSub\\\":\\\"Engineering Economics with Social and Global Implications\\\",\\\"id\\\":24859,\\\"credits\\\":3,\\\"nameCanonical\\\":\\\"\\\"}],\\\"id\\\":5},{\\\"name\\\":\\\"Term 6\\\",\\\"curriculum_items\\\":[{\\\"curriculum_requisites\\\":[{\\\"source_id\\\":25981,\\\"target_id\\\":26911,\\\"type\\\":\\\"prereq\\\"}],\\\"name\\\":\\\"EEL 3115L\\\",\\\"metrics\\\":{\\\"complexity\\\":6.0,\\\"centrality\\\":0,\\\"blocking factor\\\":0,\\\"delay factor\\\":6.0},\\\"nameSub\\\":\\\"Laboratory I\\\",\\\"id\\\":26911,\\\"credits\\\":1,\\\"nameCanonical\\\":\\\"\\\"},{\\\"curriculum_requisites\\\":[],\\\"name\\\":\\\" \\\",\\\"metrics\\\":{\\\"complexity\\\":1.0,\\\"centrality\\\":0,\\\"blocking factor\\\":0,\\\"delay factor\\\":1.0},\\\"nameSub\\\":\\\"EE Core Technical Elective\\\",\\\"id\\\":9,\\\"credits\\\":3,\\\"nameCanonical\\\":\\\"\\\"},{\\\"curriculum_requisites\\\":[],\\\"name\\\":\\\" \\\",\\\"metrics\\\":{\\\"complexity\\\":1.0,\\\"centrality\\\":0,\\\"blocking factor\\\":0,\\\"delay factor\\\":1.0},\\\"nameSub\\\":\\\"EE Core Technical Elective\\\",\\\"id\\\":10,\\\"credits\\\":3,\\\"nameCanonical\\\":\\\"\\\"},{\\\"curriculum_requisites\\\":[{\\\"source_id\\\":27018,\\\"target_id\\\":25885,\\\"type\\\":\\\"prereq\\\"},{\\\"source_id\\\":25357,\\\"target_id\\\":25885,\\\"type\\\":\\\"prereq\\\"}],\\\"name\\\":\\\"EEL 4102\\\",\\\"metrics\\\":{\\\"complexity\\\":7.0,\\\"centrality\\\":0,\\\"blocking factor\\\":0,\\\"delay factor\\\":7.0},\\\"nameSub\\\":\\\"Signals and Systems\\\",\\\"id\\\":25885,\\\"credits\\\":3,\\\"nameCanonical\\\":\\\"\\\"},{\\\"curriculum_requisites\\\":[{\\\"source_id\\\":24974,\\\"target_id\\\":29988,\\\"type\\\":\\\"prereq\\\"}],\\\"name\\\":\\\"EEL 3163C\\\",\\\"metrics\\\":{\\\"complexity\\\":2.0,\\\"centrality\\\":0,\\\"blocking factor\\\":0,\\\"delay factor\\\":2.0},\\\"nameSub\\\":\\\"Computer Tool Lab\\\",\\\"id\\\":29988,\\\"credits\\\":1,\\\"nameCanonical\\\":\\\"\\\"},{\\\"curriculum_requisites\\\":[],\\\"name\\\":\\\"ENC 3246\\\",\\\"metrics\\\":{\\\"complexity\\\":1.0,\\\"centrality\\\":0,\\\"blocking factor\\\":0,\\\"delay factor\\\":1.0},\\\"nameSub\\\":\\\"Communication for Engineers\\\",\\\"id\\\":27719,\\\"credits\\\":3,\\\"nameCanonical\\\":\\\"\\\"},{\\\"curriculum_requisites\\\":[{\\\"source_id\\\":6,\\\"target_id\\\":11,\\\"type\\\":\\\"prereq\\\"}],\\\"name\\\":\\\"EGS 3071\\\",\\\"metrics\\\":{\\\"complexity\\\":4.0,\\\"centrality\\\":3,\\\"blocking factor\\\":1,\\\"delay factor\\\":3.0},\\\"nameSub\\\":\\\"Professional Formation of Engineers II\\\",\\\"id\\\":11,\\\"credits\\\":1,\\\"nameCanonical\\\":\\\"\\\"}],\\\"id\\\":6},{\\\"name\\\":\\\"Term 7\\\",\\\"curriculum_items\\\":[{\\\"curriculum_requisites\\\":[],\\\"name\\\":\\\" \\\",\\\"metrics\\\":{\\\"complexity\\\":1.0,\\\"centrality\\\":0,\\\"blocking factor\\\":0,\\\"delay factor\\\":1.0},\\\"nameSub\\\":\\\"EE Core Technical Elective\\\",\\\"id\\\":12,\\\"credits\\\":3,\\\"nameCanonical\\\":\\\"\\\"},{\\\"curriculum_requisites\\\":[],\\\"name\\\":\\\" \\\",\\\"metrics\\\":{\\\"complexity\\\":1.0,\\\"centrality\\\":0,\\\"blocking factor\\\":0,\\\"delay factor\\\":1.0},\\\"nameSub\\\":\\\"EE Core Technical Elective\\\",\\\"id\\\":13,\\\"credits\\\":3,\\\"nameCanonical\\\":\\\"\\\"},{\\\"curriculum_requisites\\\":[],\\\"name\\\":\\\" \\\",\\\"metrics\\\":{\\\"complexity\\\":1.0,\\\"centrality\\\":0,\\\"blocking factor\\\":0,\\\"delay factor\\\":1.0},\\\"nameSub\\\":\\\"EE Track Elective\\\",\\\"id\\\":14,\\\"credits\\\":3,\\\"nameCanonical\\\":\\\"\\\"},{\\\"curriculum_requisites\\\":[],\\\"name\\\":\\\" \\\",\\\"metrics\\\":{\\\"complexity\\\":1.0,\\\"centrality\\\":0,\\\"blocking factor\\\":0,\\\"delay factor\\\":1.0},\\\"nameSub\\\":\\\"EE Track Elective\\\",\\\"id\\\":15,\\\"credits\\\":3,\\\"nameCanonical\\\":\\\"\\\"},{\\\"curriculum_requisites\\\":[],\\\"name\\\":\\\" \\\",\\\"metrics\\\":{\\\"complexity\\\":1.0,\\\"centrality\\\":0,\\\"blocking factor\\\":0,\\\"delay factor\\\":1.0},\\\"nameSub\\\":\\\"EE Track Elective Lab\\\",\\\"id\\\":16,\\\"credits\\\":1,\\\"nameCanonical\\\":\\\"\\\"},{\\\"curriculum_requisites\\\":[{\\\"source_id\\\":11,\\\"target_id\\\":17,\\\"type\\\":\\\"prereq\\\"}],\\\"name\\\":\\\"EGS 3072\\\",\\\"metrics\\\":{\\\"complexity\\\":3.0,\\\"centrality\\\":0,\\\"blocking factor\\\":0,\\\"delay factor\\\":3.0},\\\"nameSub\\\":\\\"Professional Formation of Engineers III\\\",\\\"id\\\":17,\\\"credits\\\":1,\\\"nameCanonical\\\":\\\"\\\"},{\\\"curriculum_requisites\\\":[],\\\"name\\\":\\\" \\\",\\\"metrics\\\":{\\\"complexity\\\":1.0,\\\"centrality\\\":0,\\\"blocking factor\\\":0,\\\"delay factor\\\":1.0},\\\"nameSub\\\":\\\"Upper-Level Department Elective Lab\\\",\\\"id\\\":18,\\\"credits\\\":1,\\\"nameCanonical\\\":\\\"\\\"}],\\\"id\\\":7},{\\\"name\\\":\\\"Term 8\\\",\\\"curriculum_items\\\":[{\\\"curriculum_requisites\\\":[],\\\"name\\\":\\\" \\\",\\\"metrics\\\":{\\\"complexity\\\":1.0,\\\"centrality\\\":0,\\\"blocking factor\\\":0,\\\"delay factor\\\":1.0},\\\"nameSub\\\":\\\"Internship\\/Co-op Participation\\\",\\\"id\\\":20,\\\"credits\\\":0,\\\"nameCanonical\\\":\\\"\\\"}],\\\"id\\\":8},{\\\"name\\\":\\\"Term 9\\\",\\\"curriculum_items\\\":[{\\\"curriculum_requisites\\\":[],\\\"name\\\":\\\"EEL 4906\\\",\\\"metrics\\\":{\\\"complexity\\\":3.0,\\\"centrality\\\":0,\\\"blocking factor\\\":1,\\\"delay factor\\\":2.0},\\\"nameSub\\\":\\\"EE Design 1\\\",\\\"id\\\":26904,\\\"credits\\\":3,\\\"nameCanonical\\\":\\\"\\\"},{\\\"curriculum_requisites\\\":[],\\\"name\\\":\\\" \\\",\\\"metrics\\\":{\\\"complexity\\\":1.0,\\\"centrality\\\":0,\\\"blocking factor\\\":0,\\\"delay factor\\\":1.0},\\\"nameSub\\\":\\\"Upper-Level Department Elective\\\",\\\"id\\\":21,\\\"credits\\\":3,\\\"nameCanonical\\\":\\\"\\\"},{\\\"curriculum_requisites\\\":[],\\\"name\\\":\\\" \\\",\\\"metrics\\\":{\\\"complexity\\\":1.0,\\\"centrality\\\":0,\\\"blocking factor\\\":0,\\\"delay factor\\\":1.0},\\\"nameSub\\\":\\\"EE Track Elective\\\",\\\"id\\\":22,\\\"credits\\\":3,\\\"nameCanonical\\\":\\\"\\\"},{\\\"curriculum_requisites\\\":[],\\\"name\\\":\\\" \\\",\\\"metrics\\\":{\\\"complexity\\\":1.0,\\\"centrality\\\":0,\\\"blocking factor\\\":0,\\\"delay factor\\\":1.0},\\\"nameSub\\\":\\\"EE Track Elective\\\",\\\"id\\\":23,\\\"credits\\\":3,\\\"nameCanonical\\\":\\\"\\\"},{\\\"curriculum_requisites\\\":[],\\\"name\\\":\\\" \\\",\\\"metrics\\\":{\\\"complexity\\\":1.0,\\\"centrality\\\":0,\\\"blocking factor\\\":0,\\\"delay factor\\\":1.0},\\\"nameSub\\\":\\\"EE Track Elective Lab\\\",\\\"id\\\":24,\\\"credits\\\":1,\\\"nameCanonical\\\":\\\"\\\"},{\\\"curriculum_requisites\\\":[],\\\"name\\\":\\\" \\\",\\\"metrics\\\":{\\\"complexity\\\":1.0,\\\"centrality\\\":0,\\\"blocking factor\\\":0,\\\"delay factor\\\":1.0},\\\"nameSub\\\":\\\"Upper-Level Department Elective\\\",\\\"id\\\":25,\\\"credits\\\":3,\\\"nameCanonical\\\":\\\"\\\"}],\\\"id\\\":9},{\\\"name\\\":\\\"Term 10\\\",\\\"curriculum_items\\\":[{\\\"curriculum_requisites\\\":[{\\\"source_id\\\":26904,\\\"target_id\\\":27855,\\\"type\\\":\\\"prereq\\\"}],\\\"name\\\":\\\"EEL 4914\\\",\\\"metrics\\\":{\\\"complexity\\\":2.0,\\\"centrality\\\":0,\\\"blocking factor\\\":0,\\\"delay factor\\\":2.0},\\\"nameSub\\\":\\\"EE Design 2\\\",\\\"id\\\":27855,\\\"credits\\\":3,\\\"nameCanonical\\\":\\\"\\\"},{\\\"curriculum_requisites\\\":[],\\\"name\\\":\\\" \\\",\\\"metrics\\\":{\\\"complexity\\\":1.0,\\\"centrality\\\":0,\\\"blocking factor\\\":0,\\\"delay factor\\\":1.0},\\\"nameSub\\\":\\\"Upper-Level Department Elective\\\",\\\"id\\\":27,\\\"credits\\\":3,\\\"nameCanonical\\\":\\\"\\\"},{\\\"curriculum_requisites\\\":[],\\\"name\\\":\\\" \\\",\\\"metrics\\\":{\\\"complexity\\\":1.0,\\\"centrality\\\":0,\\\"blocking factor\\\":0,\\\"delay factor\\\":1.0},\\\"nameSub\\\":\\\"Upper-Level Department Elective\\\",\\\"id\\\":28,\\\"credits\\\":3,\\\"nameCanonical\\\":\\\"\\\"},{\\\"curriculum_requisites\\\":[],\\\"name\\\":\\\" \\\",\\\"metrics\\\":{\\\"complexity\\\":1.0,\\\"centrality\\\":0,\\\"blocking factor\\\":0,\\\"delay factor\\\":1.0},\\\"nameSub\\\":\\\"General Elective\\\",\\\"id\\\":29,\\\"credits\\\":3,\\\"nameCanonical\\\":\\\"\\\"},{\\\"curriculum_requisites\\\":[],\\\"name\\\":\\\" \\\",\\\"metrics\\\":{\\\"complexity\\\":1.0,\\\"centrality\\\":0,\\\"blocking factor\\\":0,\\\"delay factor\\\":1.0},\\\"nameSub\\\":\\\"General Elective\\\",\\\"id\\\":30,\\\"credits\\\":1,\\\"nameCanonical\\\":\\\"\\\"},{\\\"curriculum_requisites\\\":[],\\\"name\\\":\\\"SGES \\\",\\\"metrics\\\":{\\\"complexity\\\":1.0,\\\"centrality\\\":0,\\\"blocking factor\\\":0,\\\"delay factor\\\":1.0},\\\"nameSub\\\":\\\"State Social Science Gen Ed\\\",\\\"id\\\":31,\\\"credits\\\":3,\\\"nameCanonical\\\":\\\"\\\"}],\\\"id\\\":10}],\\\"institution\\\":\\\"USF\\\"}},\\\"*\\\"); window.removeEventListener(\\\"message\\\",window.messageReceived); window.messageReceived=(function (event){return (event.data.curriculum!==undefined) ? (WebIO.setval({\\\"name\\\":\\\"curriculum-data\\\",\\\"scope\\\":\\\"17202971111688970390\\\",\\\"id\\\":\\\"ob_01\\\",\\\"type\\\":\\\"observable\\\"},event.data.curriculum)) : undefined}); return window.addEventListener(\\\"message\\\",window.messageReceived)})\"},\"style\":{\"padding\":\"0\",\"height\":\"100vh\",\"margin\":\"0\",\"border\":\"none\",\"width\":\"100%\"}},\"nodeType\":\"DOM\",\"type\":\"node\",\"instanceArgs\":{\"namespace\":\"html\",\"tag\":\"iframe\"},\"children\":[\"\"]}]},\n",
       "            window,\n",
       "        );\n",
       "    } else {\n",
       "        document\n",
       "            .querySelector('[data-webio-mountpoint=\"11051053109061834756\"]')\n",
       "            .innerHTML = (\n",
       "                '<div style=\"padding: 1em; background-color: #f8d6da; border: 1px solid #f5c6cb\">' +\n",
       "                '<p><strong>WebIO not detected.</strong></p>' +\n",
       "                '<p>Please read ' +\n",
       "                '<a href=\"https://juliagizmos.github.io/WebIO.jl/latest/troubleshooting/not-detected/\" target=\"_blank\">the troubleshooting guide</a> ' +\n",
       "                'for more information on how to resolve this issue.</p>' +\n",
       "                '<p><a href=\"https://juliagizmos.github.io/WebIO.jl/latest/troubleshooting/not-detected/\" target=\"_blank\">https://juliagizmos.github.io/WebIO.jl/latest/troubleshooting/not-detected/</a></p>' +\n",
       "                '</div>'\n",
       "            );\n",
       "    }\n",
       "    </script>\n",
       "</div>\n"
      ],
      "text/plain": [
       "WebIO.Scope(WebIO.Node{WebIO.DOM}(WebIO.DOM(:html, :iframe), Any[\"\"], Dict{Symbol,Any}(:src => \"http://localhost:8156\",:id => \"curriculum\",:events => Dict(:load => WebIO.JSString(\"(function (){this.contentWindow.postMessage({\\\"options\\\":{\\\"hideTerms\\\":false,\\\"edit\\\":false},\\\"curriculum\\\":{\\\"name\\\":\\\"BSEE-Electrical Engineering\\\",\\\"dp_name\\\":\\\"EEL-CALC+CHM ready\\\",\\\"curriculum_terms\\\":[{\\\"name\\\":\\\"Term 1\\\",\\\"curriculum_items\\\":[{\\\"curriculum_requisites\\\":[],\\\"name\\\":\\\"MAC 2281\\\",\\\"metrics\\\":{\\\"complexity\\\":20.0,\\\"centrality\\\":0,\\\"blocking factor\\\":13,\\\"delay factor\\\":7.0},\\\"nameSub\\\":\\\"Engineering Calculus I\\\",\\\"id\\\":24950,\\\"credits\\\":4,\\\"nameCanonical\\\":\\\"\\\"},{\\\"curriculum_requisites\\\":[],\\\"name\\\":\\\"CHM/CHS 2045/2440\\\",\\\"metrics\\\":{\\\"complexity\\\":1.0,\\\"centrality\\\":0,\\\"blocking factor\\\":0,\\\"delay factor\\\":1.0},\\\"nameSub\\\":\\\"General Chemistry I/Chem for Engineers \\\",\\\"id\\\":25478,\\\"credits\\\":3,\\\"nameCanonical\\\":\\\"\\\"},{\\\"curriculum_requisites\\\":[],\\\"name\\\":\\\"ENC 1101\\\",\\\"metrics\\\":{\\\"complexity\\\":3.0,\\\"centrality\\\":0,\\\"blocking factor\\\":1,\\\"delay factor\\\":2.0},\\\"nameSub\\\":\\\"Composition I\\\",\\\"id\\\":23525,\\\"credits\\\":3,\\\"nameCanonical\\\":\\\"\\\"},{\\\"curriculum_requisites\\\":[],\\\"name\\\":\\\"CHM/CHS 2045/2440L\\\",\\\"metrics\\\":{\\\"complexity\\\":5.0,\\\"centrality\\\":0,\\\"blocking factor\\\":2,\\\"delay factor\\\":3.0},\\\"nameSub\\\":\\\"General Chemistry I/Chem for Engineers Laboratory\\\",\\\"id\\\":25479,\\\"credits\\\":1,\\\"nameCanonical\\\":\\\"\\\"},{\\\"curriculum_requisites\\\":[],\\\"name\\\":\\\"EGN 3000L\\\",\\\"metrics\\\":{\\\"complexity\\\":1.0,\\\"centrality\\\":0,\\\"blocking factor\\\":0,\\\"delay factor\\\":1.0},\\\"nameSub\\\":\\\"Foundations of Engineering Lab\\\",\\\"id\\\":23287,\\\"credits\\\":3,\\\"nameCanonical\\\":\\\"\\\"},{\\\"curriculum_requisites\\\":[],\\\"name\\\":\\\"EGN 3000\\\",\\\"metrics\\\":{\\\"complexity\\\":1.0,\\\"centrality\\\":0,\\\"blocking factor\\\":0,\\\"delay factor\\\":1.0},\\\"nameSub\\\":\\\"Foundations of Engineering\\\",\\\"id\\\":28172,\\\"credits\\\":0,\\\"nameCanonical\\\":\\\"\\\"}],\\\"id\\\":1},{\\\"name\\\":\\\"Term 2\\\",\\\"curriculum_items\\\":[{\\\"curriculum_requisites\\\":[{\\\"source_id\\\":24950,\\\"target_id\\\":24951,\\\"type\\\":\\\"prereq\\\"}],\\\"name\\\":\\\"MAC 2282\\\",\\\"metrics\\\":{\\\"complexity\\\":17.0,\\\"centrality\\\":29,\\\"blocking factor\\\":10,\\\"delay factor\\\":7.0},\\\"nameSub\\\":\\\"Engineering Calculus II\\\",\\\"id\\\":24951,\\\"credits\\\":4,\\\"nameCanonical\\\":\\\"\\\"},{\\\"curriculum_requisites\\\":[{\\\"source_id\\\":23525,\\\"target_id\\\":23526,\\\"type\\\":\\\"prereq\\\"}],\\\"name\\\":\\\"ENC 1102\\\",\\\"metrics\\\":{\\\"complexity\\\":2.0,\\\"centrality\\\":0,\\\"blocking factor\\\":0,\\\"delay factor\\\":2.0},\\\"nameSub\\\":\\\"Composition II\\\",\\\"id\\\":23526,\\\"credits\\\":3,\\\"nameCanonical\\\":\\\"\\\"},{\\\"curriculum_requisites\\\":[{\\\"source_id\\\":24950,\\\"target_id\\\":26014,\\\"type\\\":\\\"prereq\\\"}],\\\"name\\\":\\\"PHY 2048\\\",\\\"metrics\\\":{\\\"complexity\\\":5.0,\\\"centrality\\\":4,\\\"blocking factor\\\":2,\\\"delay factor\\\":3.0},\\\"nameSub\\\":\\\"General Physics I - Calculus Based\\\",\\\"id\\\":26014,\\\"credits\\\":3,\\\"nameCanonical\\\":\\\"\\\"},{\\\"curriculum_requisites\\\":[{\\\"source_id\\\":24950,\\\"target_id\\\":26015,\\\"type\\\":\\\"prereq\\\"}],\\\"name\\\":\\\"PHY 2048L\\\",\\\"metrics\\\":{\\\"complexity\\\":2.0,\\\"centrality\\\":0,\\\"blocking factor\\\":0,\\\"delay factor\\\":2.0},\\\"nameSub\\\":\\\"General Physics I Laboratory\\\",\\\"id\\\":26015,\\\"credits\\\":1,\\\"nameCanonical\\\":\\\"\\\"},{\\\"curriculum_requisites\\\":[],\\\"name\\\":\\\"EEL 3705\\\",\\\"metrics\\\":{\\\"complexity\\\":3.0,\\\"centrality\\\":0,\\\"blocking factor\\\":1,\\\"delay factor\\\":2.0},\\\"nameSub\\\":\\\"Fundamentals of Digital Circuits\\\",\\\"id\\\":23747,\\\"credits\\\":3,\\\"nameCanonical\\\":\\\"\\\"}],\\\"id\\\":2},{\\\"name\\\":\\\"Term 3\\\",\\\"curriculum_items\\\":[{\\\"curriculum_requisites\\\":[{\\\"source_id\\\":24951,\\\"target_id\\\":24952,\\\"type\\\":\\\"prereq\\\"}],\\\"name\\\":\\\"MAC 2283\\\",\\\"metrics\\\":{\\\"complexity\\\":14.0,\\\"centrality\\\":18,\\\"blocking factor\\\":7,\\\"delay factor\\\":7.0},\\\"nameSub\\\":\\\"Engineering Calculus III\\\",\\\"id\\\":24952,\\\"credits\\\":4,\\\"nameCanonical\\\":\\\"\\\"},{\\\"curriculum_requisites\\\":[{\\\"source_id\\\":24951,\\\"target_id\\\":25357,\\\"type\\\":\\\"prereq\\\"}],\\\"name\\\":\\\"EGN 3420\\\",\\\"metrics\\\":{\\\"complexity\\\":5.0,\\\"centrality\\\":8,\\\"blocking factor\\\":2,\\\"delay factor\\\":3.0},\\\"nameSub\\\":\\\"Engineering Analysis\\\",\\\"id\\\":25357,\\\"credits\\\":4,\\\"nameCanonical\\\":\\\"\\\"},{\\\"curriculum_requisites\\\":[{\\\"source_id\\\":25479,\\\"target_id\\\":27967,\\\"type\\\":\\\"prereq\\\"},{\\\"source_id\\\":24952,\\\"target_id\\\":27967,\\\"type\\\":\\\"coreq\\\"},{\\\"source_id\\\":26014,\\\"target_id\\\":27967,\\\"type\\\":\\\"prereq\\\"}],\\\"name\\\":\\\"EEE 3394\\\",\\\"metrics\\\":{\\\"complexity\\\":6.0,\\\"centrality\\\":12,\\\"blocking factor\\\":1,\\\"delay factor\\\":5.0},\\\"nameSub\\\":\\\"Electrical Engineering Science I - Electronic Materials\\\",\\\"id\\\":27967,\\\"credits\\\":3,\\\"nameCanonical\\\":\\\"\\\"},{\\\"curriculum_requisites\\\":[{\\\"source_id\\\":23747,\\\"target_id\\\":26896,\\\"type\\\":\\\"prereq\\\"}],\\\"name\\\":\\\"EEL 3705L\\\",\\\"metrics\\\":{\\\"complexity\\\":2.0,\\\"centrality\\\":0,\\\"blocking factor\\\":0,\\\"delay factor\\\":2.0},\\\"nameSub\\\":\\\"Fundamentals of Digital Circuits Laboratory\\\",\\\"id\\\":26896,\\\"credits\\\":1,\\\"nameCanonical\\\":\\\"\\\"},{\\\"curriculum_requisites\\\":[],\\\"name\\\":\\\"SGEH \\\",\\\"metrics\\\":{\\\"complexity\\\":1.0,\\\"centrality\\\":0,\\\"blocking factor\\\":0,\\\"delay factor\\\":1.0},\\\"nameSub\\\":\\\"State Humanities Gen Ed\\\",\\\"id\\\":4,\\\"credits\\\":3,\\\"nameCanonical\\\":\\\"\\\"}],\\\"id\\\":3},{\\\"name\\\":\\\"Term 4\\\",\\\"curriculum_items\\\":[{\\\"curriculum_requisites\\\":[{\\\"source_id\\\":24959,\\\"target_id\\\":25981,\\\"type\\\":\\\"coreq\\\"}],\\\"name\\\":\\\"EGN 3373\\\",\\\"metrics\\\":{\\\"complexity\\\":10.0,\\\"centrality\\\":13,\\\"blocking factor\\\":3,\\\"delay factor\\\":7.0},\\\"nameSub\\\":\\\"Introduction to Electrical Systems I\\\",\\\"id\\\":25981,\\\"credits\\\":3,\\\"nameCanonical\\\":\\\"\\\"},{\\\"curriculum_requisites\\\":[{\\\"source_id\\\":24952,\\\"target_id\\\":24959,\\\"type\\\":\\\"prereq\\\"}],\\\"name\\\":\\\"MAP 2302\\\",\\\"metrics\\\":{\\\"complexity\\\":11.0,\\\"centrality\\\":13,\\\"blocking factor\\\":4,\\\"delay factor\\\":7.0},\\\"nameSub\\\":\\\"Differential Equations\\\",\\\"id\\\":24959,\\\"credits\\\":3,\\\"nameCanonical\\\":\\\"\\\"},{\\\"curriculum_requisites\\\":[{\\\"source_id\\\":25357,\\\"target_id\\\":29920,\\\"type\\\":\\\"prereq\\\"},{\\\"source_id\\\":27967,\\\"target_id\\\":29920,\\\"type\\\":\\\"prereq\\\"}],\\\"name\\\":\\\"EEL 3472C\\\",\\\"metrics\\\":{\\\"complexity\\\":5.0,\\\"centrality\\\":0,\\\"blocking factor\\\":0,\\\"delay factor\\\":5.0},\\\"nameSub\\\":\\\"Electrical Engineering Science II - Electromagnetics\\\",\\\"id\\\":29920,\\\"credits\\\":4,\\\"nameCanonical\\\":\\\"\\\"},{\\\"curriculum_requisites\\\":[],\\\"name\\\":\\\"EEL 2161\\\",\\\"metrics\\\":{\\\"complexity\\\":3.0,\\\"centrality\\\":0,\\\"blocking factor\\\":1,\\\"delay factor\\\":2.0},\\\"nameSub\\\":\\\"Programming with C\\\",\\\"id\\\":24974,\\\"credits\\\":3,\\\"nameCanonical\\\":\\\"\\\"},{\\\"curriculum_requisites\\\":[],\\\"name\\\":\\\"EGS 2070\\\",\\\"metrics\\\":{\\\"complexity\\\":5.0,\\\"centrality\\\":0,\\\"blocking factor\\\":2,\\\"delay factor\\\":3.0},\\\"nameSub\\\":\\\"Professional Formation of Engineers I\\\",\\\"id\\\":6,\\\"credits\\\":1,\\\"nameCanonical\\\":\\\"\\\"}],\\\"id\\\":4},{\\\"name\\\":\\\"Term 5\\\",\\\"curriculum_items\\\":[{\\\"curriculum_requisites\\\":[{\\\"source_id\\\":25981,\\\"target_id\\\":27018,\\\"type\\\":\\\"prereq\\\"}],\\\"name\\\":\\\"EGN 3374\\\",\\\"metrics\\\":{\\\"complexity\\\":8.0,\\\"centrality\\\":7,\\\"blocking factor\\\":1,\\\"delay factor\\\":7.0},\\\"nameSub\\\":\\\"Introduction to Electrical Systems II\\\",\\\"id\\\":27018,\\\"credits\\\":3,\\\"nameCanonical\\\":\\\"\\\"},{\\\"curriculum_requisites\\\":[{\\\"source_id\\\":24951,\\\"target_id\\\":25983,\\\"type\\\":\\\"prereq\\\"}],\\\"name\\\":\\\"EGN 3443\\\",\\\"metrics\\\":{\\\"complexity\\\":3.0,\\\"centrality\\\":0,\\\"blocking factor\\\":0,\\\"delay factor\\\":3.0},\\\"nameSub\\\":\\\"Probability and Statistics for Engineers\\\",\\\"id\\\":25983,\\\"credits\\\":3,\\\"nameCanonical\\\":\\\"\\\"},{\\\"curriculum_requisites\\\":[],\\\"name\\\":\\\"EGN 3615\\\",\\\"metrics\\\":{\\\"complexity\\\":1.0,\\\"centrality\\\":0,\\\"blocking factor\\\":0,\\\"delay factor\\\":1.0},\\\"nameSub\\\":\\\"Engineering Economics with Social and Global Implications\\\",\\\"id\\\":24859,\\\"credits\\\":3,\\\"nameCanonical\\\":\\\"\\\"}],\\\"id\\\":5},{\\\"name\\\":\\\"Term 6\\\",\\\"curriculum_items\\\":[{\\\"curriculum_requisites\\\":[{\\\"source_id\\\":25981,\\\"target_id\\\":26911,\\\"type\\\":\\\"prereq\\\"}],\\\"name\\\":\\\"EEL 3115L\\\",\\\"metrics\\\":{\\\"complexity\\\":6.0,\\\"centrality\\\":0,\\\"blocking factor\\\":0,\\\"delay factor\\\":6.0},\\\"nameSub\\\":\\\"Laboratory I\\\",\\\"id\\\":26911,\\\"credits\\\":1,\\\"nameCanonical\\\":\\\"\\\"},{\\\"curriculum_requisites\\\":[],\\\"name\\\":\\\" \\\",\\\"metrics\\\":{\\\"complexity\\\":1.0,\\\"centrality\\\":0,\\\"blocking factor\\\":0,\\\"delay factor\\\":1.0},\\\"nameSub\\\":\\\"EE Core Technical Elective\\\",\\\"id\\\":9,\\\"credits\\\":3,\\\"nameCanonical\\\":\\\"\\\"},{\\\"curriculum_requisites\\\":[],\\\"name\\\":\\\" \\\",\\\"metrics\\\":{\\\"complexity\\\":1.0,\\\"centrality\\\":0,\\\"blocking factor\\\":0,\\\"delay factor\\\":1.0},\\\"nameSub\\\":\\\"EE Core Technical Elective\\\",\\\"id\\\":10,\\\"credits\\\":3,\\\"nameCanonical\\\":\\\"\\\"},{\\\"curriculum_requisites\\\":[{\\\"source_id\\\":27018,\\\"target_id\\\":25885,\\\"type\\\":\\\"prereq\\\"},{\\\"source_id\\\":25357,\\\"target_id\\\":25885,\\\"type\\\":\\\"prereq\\\"}],\\\"name\\\":\\\"EEL 4102\\\",\\\"metrics\\\":{\\\"complexity\\\":7.0,\\\"centrality\\\":0,\\\"blocking factor\\\":0,\\\"delay factor\\\":7.0},\\\"nameSub\\\":\\\"Signals and Systems\\\",\\\"id\\\":25885,\\\"credits\\\":3,\\\"nameCanonical\\\":\\\"\\\"},{\\\"curriculum_requisites\\\":[{\\\"source_id\\\":24974,\\\"target_id\\\":29988,\\\"type\\\":\\\"prereq\\\"}],\\\"name\\\":\\\"EEL 3163C\\\",\\\"metrics\\\":{\\\"complexity\\\":2.0,\\\"centrality\\\":0,\\\"blocking factor\\\":0,\\\"delay factor\\\":2.0},\\\"nameSub\\\":\\\"Computer Tool Lab\\\",\\\"id\\\":29988,\\\"credits\\\":1,\\\"nameCanonical\\\":\\\"\\\"},{\\\"curriculum_requisites\\\":[],\\\"name\\\":\\\"ENC 3246\\\",\\\"metrics\\\":{\\\"complexity\\\":1.0,\\\"centrality\\\":0,\\\"blocking factor\\\":0,\\\"delay factor\\\":1.0},\\\"nameSub\\\":\\\"Communication for Engineers\\\",\\\"id\\\":27719,\\\"credits\\\":3,\\\"nameCanonical\\\":\\\"\\\"},{\\\"curriculum_requisites\\\":[{\\\"source_id\\\":6,\\\"target_id\\\":11,\\\"type\\\":\\\"prereq\\\"}],\\\"name\\\":\\\"EGS 3071\\\",\\\"metrics\\\":{\\\"complexity\\\":4.0,\\\"centrality\\\":3,\\\"blocking factor\\\":1,\\\"delay factor\\\":3.0},\\\"nameSub\\\":\\\"Professional Formation of Engineers II\\\",\\\"id\\\":11,\\\"credits\\\":1,\\\"nameCanonical\\\":\\\"\\\"}],\\\"id\\\":6},{\\\"name\\\":\\\"Term 7\\\",\\\"curriculum_items\\\":[{\\\"curriculum_requisites\\\":[],\\\"name\\\":\\\" \\\",\\\"metrics\\\":{\\\"complexity\\\":1.0,\\\"centrality\\\":0,\\\"blocking factor\\\":0,\\\"delay factor\\\":1.0},\\\"nameSub\\\":\\\"EE Core Technical Elective\\\",\\\"id\\\":12,\\\"credits\\\":3,\\\"nameCanonical\\\":\\\"\\\"},{\\\"curriculum_requisites\\\":[],\\\"name\\\":\\\" \\\",\\\"metrics\\\":{\\\"complexity\\\":1.0,\\\"centrality\\\":0,\\\"blocking factor\\\":0,\\\"delay factor\\\":1.0},\\\"nameSub\\\":\\\"EE Core Technical Elective\\\",\\\"id\\\":13,\\\"credits\\\":3,\\\"nameCanonical\\\":\\\"\\\"},{\\\"curriculum_requisites\\\":[],\\\"name\\\":\\\" \\\",\\\"metrics\\\":{\\\"complexity\\\":1.0,\\\"centrality\\\":0,\\\"blocking factor\\\":0,\\\"delay factor\\\":1.0},\\\"nameSub\\\":\\\"EE Track Elective\\\",\\\"id\\\":14,\\\"credits\\\":3,\\\"nameCanonical\\\":\\\"\\\"},{\\\"curriculum_requisites\\\":[],\\\"name\\\":\\\" \\\",\\\"metrics\\\":{\\\"complexity\\\":1.0,\\\"centrality\\\":0,\\\"blocking factor\\\":0,\\\"delay factor\\\":1.0},\\\"nameSub\\\":\\\"EE Track Elective\\\",\\\"id\\\":15,\\\"credits\\\":3,\\\"nameCanonical\\\":\\\"\\\"},{\\\"curriculum_requisites\\\":[],\\\"name\\\":\\\" \\\",\\\"metrics\\\":{\\\"complexity\\\":1.0,\\\"centrality\\\":0,\\\"blocking factor\\\":0,\\\"delay factor\\\":1.0},\\\"nameSub\\\":\\\"EE Track Elective Lab\\\",\\\"id\\\":16,\\\"credits\\\":1,\\\"nameCanonical\\\":\\\"\\\"},{\\\"curriculum_requisites\\\":[{\\\"source_id\\\":11,\\\"target_id\\\":17,\\\"type\\\":\\\"prereq\\\"}],\\\"name\\\":\\\"EGS 3072\\\",\\\"metrics\\\":{\\\"complexity\\\":3.0,\\\"centrality\\\":0,\\\"blocking factor\\\":0,\\\"delay factor\\\":3.0},\\\"nameSub\\\":\\\"Professional Formation of Engineers III\\\",\\\"id\\\":17,\\\"credits\\\":1,\\\"nameCanonical\\\":\\\"\\\"},{\\\"curriculum_requisites\\\":[],\\\"name\\\":\\\" \\\",\\\"metrics\\\":{\\\"complexity\\\":1.0,\\\"centrality\\\":0,\\\"blocking factor\\\":0,\\\"delay factor\\\":1.0},\\\"nameSub\\\":\\\"Upper-Level Department Elective Lab\\\",\\\"id\\\":18,\\\"credits\\\":1,\\\"nameCanonical\\\":\\\"\\\"}],\\\"id\\\":7},{\\\"name\\\":\\\"Term 8\\\",\\\"curriculum_items\\\":[{\\\"curriculum_requisites\\\":[],\\\"name\\\":\\\" \\\",\\\"metrics\\\":{\\\"complexity\\\":1.0,\\\"centrality\\\":0,\\\"blocking factor\\\":0,\\\"delay factor\\\":1.0},\\\"nameSub\\\":\\\"Internship/Co-op Participation\\\",\\\"id\\\":20,\\\"credits\\\":0,\\\"nameCanonical\\\":\\\"\\\"}],\\\"id\\\":8},{\\\"name\\\":\\\"Term 9\\\",\\\"curriculum_items\\\":[{\\\"curriculum_requisites\\\":[],\\\"name\\\":\\\"EEL 4906\\\",\\\"metrics\\\":{\\\"complexity\\\":3.0,\\\"centrality\\\":0,\\\"blocking factor\\\":1,\\\"delay factor\\\":2.0},\\\"nameSub\\\":\\\"EE Design 1\\\",\\\"id\\\":26904,\\\"credits\\\":3,\\\"nameCanonical\\\":\\\"\\\"},{\\\"curriculum_requisites\\\":[],\\\"name\\\":\\\" \\\",\\\"metrics\\\":{\\\"complexity\\\":1.0,\\\"centrality\\\":0,\\\"blocking factor\\\":0,\\\"delay factor\\\":1.0},\\\"nameSub\\\":\\\"Upper-Level Department Elective\\\",\\\"id\\\":21,\\\"credits\\\":3,\\\"nameCanonical\\\":\\\"\\\"},{\\\"curriculum_requisites\\\":[],\\\"name\\\":\\\" \\\",\\\"metrics\\\":{\\\"complexity\\\":1.0,\\\"centrality\\\":0,\\\"blocking factor\\\":0,\\\"delay factor\\\":1.0},\\\"nameSub\\\":\\\"EE Track Elective\\\",\\\"id\\\":22,\\\"credits\\\":3,\\\"nameCanonical\\\":\\\"\\\"},{\\\"curriculum_requisites\\\":[],\\\"name\\\":\\\" \\\",\\\"metrics\\\":{\\\"complexity\\\":1.0,\\\"centrality\\\":0,\\\"blocking factor\\\":0,\\\"delay factor\\\":1.0},\\\"nameSub\\\":\\\"EE Track Elective\\\",\\\"id\\\":23,\\\"credits\\\":3,\\\"nameCanonical\\\":\\\"\\\"},{\\\"curriculum_requisites\\\":[],\\\"name\\\":\\\" \\\",\\\"metrics\\\":{\\\"complexity\\\":1.0,\\\"centrality\\\":0,\\\"blocking factor\\\":0,\\\"delay factor\\\":1.0},\\\"nameSub\\\":\\\"EE Track Elective Lab\\\",\\\"id\\\":24,\\\"credits\\\":1,\\\"nameCanonical\\\":\\\"\\\"},{\\\"curriculum_requisites\\\":[],\\\"name\\\":\\\" \\\",\\\"metrics\\\":{\\\"complexity\\\":1.0,\\\"centrality\\\":0,\\\"blocking factor\\\":0,\\\"delay factor\\\":1.0},\\\"nameSub\\\":\\\"Upper-Level Department Elective\\\",\\\"id\\\":25,\\\"credits\\\":3,\\\"nameCanonical\\\":\\\"\\\"}],\\\"id\\\":9},{\\\"name\\\":\\\"Term 10\\\",\\\"curriculum_items\\\":[{\\\"curriculum_requisites\\\":[{\\\"source_id\\\":26904,\\\"target_id\\\":27855,\\\"type\\\":\\\"prereq\\\"}],\\\"name\\\":\\\"EEL 4914\\\",\\\"metrics\\\":{\\\"complexity\\\":2.0,\\\"centrality\\\":0,\\\"blocking factor\\\":0,\\\"delay factor\\\":2.0},\\\"nameSub\\\":\\\"EE Design 2\\\",\\\"id\\\":27855,\\\"credits\\\":3,\\\"nameCanonical\\\":\\\"\\\"},{\\\"curriculum_requisites\\\":[],\\\"name\\\":\\\" \\\",\\\"metrics\\\":{\\\"complexity\\\":1.0,\\\"centrality\\\":0,\\\"blocking factor\\\":0,\\\"delay factor\\\":1.0},\\\"nameSub\\\":\\\"Upper-Level Department Elective\\\",\\\"id\\\":27,\\\"credits\\\":3,\\\"nameCanonical\\\":\\\"\\\"},{\\\"curriculum_requisites\\\":[],\\\"name\\\":\\\" \\\",\\\"metrics\\\":{\\\"complexity\\\":1.0,\\\"centrality\\\":0,\\\"blocking factor\\\":0,\\\"delay factor\\\":1.0},\\\"nameSub\\\":\\\"Upper-Level Department Elective\\\",\\\"id\\\":28,\\\"credits\\\":3,\\\"nameCanonical\\\":\\\"\\\"},{\\\"curriculum_requisites\\\":[],\\\"name\\\":\\\" \\\",\\\"metrics\\\":{\\\"complexity\\\":1.0,\\\"centrality\\\":0,\\\"blocking factor\\\":0,\\\"delay factor\\\":1.0},\\\"nameSub\\\":\\\"General Elective\\\",\\\"id\\\":29,\\\"credits\\\":3,\\\"nameCanonical\\\":\\\"\\\"},{\\\"curriculum_requisites\\\":[],\\\"name\\\":\\\" \\\",\\\"metrics\\\":{\\\"complexity\\\":1.0,\\\"centrality\\\":0,\\\"blocking factor\\\":0,\\\"delay factor\\\":1.0},\\\"nameSub\\\":\\\"General Elective\\\",\\\"id\\\":30,\\\"credits\\\":1,\\\"nameCanonical\\\":\\\"\\\"},{\\\"curriculum_requisites\\\":[],\\\"name\\\":\\\"SGES \\\",\\\"metrics\\\":{\\\"complexity\\\":1.0,\\\"centrality\\\":0,\\\"blocking factor\\\":0,\\\"delay factor\\\":1.0},\\\"nameSub\\\":\\\"State Social Science Gen Ed\\\",\\\"id\\\":31,\\\"credits\\\":3,\\\"nameCanonical\\\":\\\"\\\"}],\\\"id\\\":10}],\\\"institution\\\":\\\"USF\\\"}},\\\"*\\\"); window.removeEventListener(\\\"message\\\",window.messageReceived); window.messageReceived=(function (event){return (event.data.curriculum!==undefined) ? (WebIO.setval({\\\"name\\\":\\\"curriculum-data\\\",\\\"scope\\\":\\\"17202971111688970390\\\",\\\"id\\\":\\\"ob_01\\\",\\\"type\\\":\\\"observable\\\"},event.data.curriculum)) : undefined}); return window.addEventListener(\\\"message\\\",window.messageReceived)})\")),:style => Dict(:padding => \"0\",:height => \"100vh\",:margin => \"0\",:border => \"none\",:width => \"100%\"))), Dict{String,Tuple{Observables.AbstractObservable,Union{Nothing, Bool}}}(\"curriculum-data\" => (Observable{Dict{String,Any}} with 1 listeners. Value:\n",
       "Dict{String,Any}(\"options\" => Dict{String,Any}(\"hideTerms\" => false,\"edit\" => false),\"curriculum\" => Dict{String,Any}(\"name\" => \"BSEE-Electrical Engineering\",\"dp_name\" => \"EEL-CALC+CHM ready\",\"curriculum_terms\" => Dict{String,Any}[Dict(\"name\" => \"Term 1\",\"curriculum_items\" => Dict{String,Any}[Dict(\"curriculum_requisites\" => Dict{String,Any}[],\"name\" => \"MAC 2281\",\"metrics\" => Dict{String,Any}(\"complexity\" => 20.0,\"centrality\" => 0,\"blocking factor\" => 13,\"delay factor\" => 7.0),\"nameSub\" => \"Engineering Calculus I\",\"id\" => 24950,\"credits\" => 4,\"nameCanonical\" => \"\"), Dict(\"curriculum_requisites\" => Dict{String,Any}[],\"name\" => \"CHM/CHS 2045/2440\",\"metrics\" => Dict{String,Any}(\"complexity\" => 1.0,\"centrality\" => 0,\"blocking factor\" => 0,\"delay factor\" => 1.0),\"nameSub\" => \"General Chemistry I/Chem for Engineers \",\"id\" => 25478,\"credits\" => 3,\"nameCanonical\" => \"\"), Dict(\"curriculum_requisites\" => Dict{String,Any}[],\"name\" => \"ENC 1101\",\"metrics\" => Dict{String,Any}(\"complexity\" => 3.0,\"centrality\" => 0,\"blocking factor\" => 1,\"delay factor\" => 2.0),\"nameSub\" => \"Composition I\",\"id\" => 23525,\"credits\" => 3,\"nameCanonical\" => \"\"), Dict(\"curriculum_requisites\" => Dict{String,Any}[],\"name\" => \"CHM/CHS 2045/2440L\",\"metrics\" => Dict{String,Any}(\"complexity\" => 5.0,\"centrality\" => 0,\"blocking factor\" => 2,\"delay factor\" => 3.0),\"nameSub\" => \"General Chemistry I/Chem for Engineers Laboratory\",\"id\" => 25479,\"credits\" => 1,\"nameCanonical\" => \"\"), Dict(\"curriculum_requisites\" => Dict{String,Any}[],\"name\" => \"EGN 3000L\",\"metrics\" => Dict{String,Any}(\"complexity\" => 1.0,\"centrality\" => 0,\"blocking factor\" => 0,\"delay factor\" => 1.0),\"nameSub\" => \"Foundations of Engineering Lab\",\"id\" => 23287,\"credits\" => 3,\"nameCanonical\" => \"\"), Dict(\"curriculum_requisites\" => Dict{String,Any}[],\"name\" => \"EGN 3000\",\"metrics\" => Dict{String,Any}(\"complexity\" => 1.0,\"centrality\" => 0,\"blocking factor\" => 0,\"delay factor\" => 1.0),\"nameSub\" => \"Foundations of Engineering\",\"id\" => 28172,\"credits\" => 0,\"nameCanonical\" => \"\")],\"id\" => 1), Dict(\"name\" => \"Term 2\",\"curriculum_items\" => Dict{String,Any}[Dict(\"curriculum_requisites\" => Dict{String,Any}[Dict(\"source_id\" => 24950,\"target_id\" => 24951,\"type\" => \"prereq\")],\"name\" => \"MAC 2282\",\"metrics\" => Dict{String,Any}(\"complexity\" => 17.0,\"centrality\" => 29,\"blocking factor\" => 10,\"delay factor\" => 7.0),\"nameSub\" => \"Engineering Calculus II\",\"id\" => 24951,\"credits\" => 4,\"nameCanonical\" => \"\"), Dict(\"curriculum_requisites\" => Dict{String,Any}[Dict(\"source_id\" => 23525,\"target_id\" => 23526,\"type\" => \"prereq\")],\"name\" => \"ENC 1102\",\"metrics\" => Dict{String,Any}(\"complexity\" => 2.0,\"centrality\" => 0,\"blocking factor\" => 0,\"delay factor\" => 2.0),\"nameSub\" => \"Composition II\",\"id\" => 23526,\"credits\" => 3,\"nameCanonical\" => \"\"), Dict(\"curriculum_requisites\" => Dict{String,Any}[Dict(\"source_id\" => 24950,\"target_id\" => 26014,\"type\" => \"prereq\")],\"name\" => \"PHY 2048\",\"metrics\" => Dict{String,Any}(\"complexity\" => 5.0,\"centrality\" => 4,\"blocking factor\" => 2,\"delay factor\" => 3.0),\"nameSub\" => \"General Physics I - Calculus Based\",\"id\" => 26014,\"credits\" => 3,\"nameCanonical\" => \"\"), Dict(\"curriculum_requisites\" => Dict{String,Any}[Dict(\"source_id\" => 24950,\"target_id\" => 26015,\"type\" => \"prereq\")],\"name\" => \"PHY 2048L\",\"metrics\" => Dict{String,Any}(\"complexity\" => 2.0,\"centrality\" => 0,\"blocking factor\" => 0,\"delay factor\" => 2.0),\"nameSub\" => \"General Physics I Laboratory\",\"id\" => 26015,\"credits\" => 1,\"nameCanonical\" => \"\"), Dict(\"curriculum_requisites\" => Dict{String,Any}[],\"name\" => \"EEL 3705\",\"metrics\" => Dict{String,Any}(\"complexity\" => 3.0,\"centrality\" => 0,\"blocking factor\" => 1,\"delay factor\" => 2.0),\"nameSub\" => \"Fundamentals of Digital Circuits\",\"id\" => 23747,\"credits\" => 3,\"nameCanonical\" => \"\")],\"id\" => 2), Dict(\"name\" => \"Term 3\",\"curriculum_items\" => Dict{String,Any}[Dict(\"curriculum_requisites\" => Dict{String,Any}[Dict(\"source_id\" => 24951,\"target_id\" => 24952,\"type\" => \"prereq\")],\"name\" => \"MAC 2283\",\"metrics\" => Dict{String,Any}(\"complexity\" => 14.0,\"centrality\" => 18,\"blocking factor\" => 7,\"delay factor\" => 7.0),\"nameSub\" => \"Engineering Calculus III\",\"id\" => 24952,\"credits\" => 4,\"nameCanonical\" => \"\"), Dict(\"curriculum_requisites\" => Dict{String,Any}[Dict(\"source_id\" => 24951,\"target_id\" => 25357,\"type\" => \"prereq\")],\"name\" => \"EGN 3420\",\"metrics\" => Dict{String,Any}(\"complexity\" => 5.0,\"centrality\" => 8,\"blocking factor\" => 2,\"delay factor\" => 3.0),\"nameSub\" => \"Engineering Analysis\",\"id\" => 25357,\"credits\" => 4,\"nameCanonical\" => \"\"), Dict(\"curriculum_requisites\" => Dict{String,Any}[Dict(\"source_id\" => 25479,\"target_id\" => 27967,\"type\" => \"prereq\"), Dict(\"source_id\" => 24952,\"target_id\" => 27967,\"type\" => \"coreq\"), Dict(\"source_id\" => 26014,\"target_id\" => 27967,\"type\" => \"prereq\")],\"name\" => \"EEE 3394\",\"metrics\" => Dict{String,Any}(\"complexity\" => 6.0,\"centrality\" => 12,\"blocking factor\" => 1,\"delay factor\" => 5.0),\"nameSub\" => \"Electrical Engineering Science I - Electronic Materials\",\"id\" => 27967,\"credits\" => 3,\"nameCanonical\" => \"\"), Dict(\"curriculum_requisites\" => Dict{String,Any}[Dict(\"source_id\" => 23747,\"target_id\" => 26896,\"type\" => \"prereq\")],\"name\" => \"EEL 3705L\",\"metrics\" => Dict{String,Any}(\"complexity\" => 2.0,\"centrality\" => 0,\"blocking factor\" => 0,\"delay factor\" => 2.0),\"nameSub\" => \"Fundamentals of Digital Circuits Laboratory\",\"id\" => 26896,\"credits\" => 1,\"nameCanonical\" => \"\"), Dict(\"curriculum_requisites\" => Dict{String,Any}[],\"name\" => \"SGEH \",\"metrics\" => Dict{String,Any}(\"complexity\" => 1.0,\"centrality\" => 0,\"blocking factor\" => 0,\"delay factor\" => 1.0),\"nameSub\" => \"State Humanities Gen Ed\",\"id\" => 4,\"credits\" => 3,\"nameCanonical\" => \"\")],\"id\" => 3), Dict(\"name\" => \"Term 4\",\"curriculum_items\" => Dict{String,Any}[Dict(\"curriculum_requisites\" => Dict{String,Any}[Dict(\"source_id\" => 24959,\"target_id\" => 25981,\"type\" => \"coreq\")],\"name\" => \"EGN 3373\",\"metrics\" => Dict{String,Any}(\"complexity\" => 10.0,\"centrality\" => 13,\"blocking factor\" => 3,\"delay factor\" => 7.0),\"nameSub\" => \"Introduction to Electrical Systems I\",\"id\" => 25981,\"credits\" => 3,\"nameCanonical\" => \"\"), Dict(\"curriculum_requisites\" => Dict{String,Any}[Dict(\"source_id\" => 24952,\"target_id\" => 24959,\"type\" => \"prereq\")],\"name\" => \"MAP 2302\",\"metrics\" => Dict{String,Any}(\"complexity\" => 11.0,\"centrality\" => 13,\"blocking factor\" => 4,\"delay factor\" => 7.0),\"nameSub\" => \"Differential Equations\",\"id\" => 24959,\"credits\" => 3,\"nameCanonical\" => \"\"), Dict(\"curriculum_requisites\" => Dict{String,Any}[Dict(\"source_id\" => 25357,\"target_id\" => 29920,\"type\" => \"prereq\"), Dict(\"source_id\" => 27967,\"target_id\" => 29920,\"type\" => \"prereq\")],\"name\" => \"EEL 3472C\",\"metrics\" => Dict{String,Any}(\"complexity\" => 5.0,\"centrality\" => 0,\"blocking factor\" => 0,\"delay factor\" => 5.0),\"nameSub\" => \"Electrical Engineering Science II - Electromagnetics\",\"id\" => 29920,\"credits\" => 4,\"nameCanonical\" => \"\"), Dict(\"curriculum_requisites\" => Dict{String,Any}[],\"name\" => \"EEL 2161\",\"metrics\" => Dict{String,Any}(\"complexity\" => 3.0,\"centrality\" => 0,\"blocking factor\" => 1,\"delay factor\" => 2.0),\"nameSub\" => \"Programming with C\",\"id\" => 24974,\"credits\" => 3,\"nameCanonical\" => \"\"), Dict(\"curriculum_requisites\" => Dict{String,Any}[],\"name\" => \"EGS 2070\",\"metrics\" => Dict{String,Any}(\"complexity\" => 5.0,\"centrality\" => 0,\"blocking factor\" => 2,\"delay factor\" => 3.0),\"nameSub\" => \"Professional Formation of Engineers I\",\"id\" => 6,\"credits\" => 1,\"nameCanonical\" => \"\")],\"id\" => 4), Dict(\"name\" => \"Term 5\",\"curriculum_items\" => Dict{String,Any}[Dict(\"curriculum_requisites\" => Dict{String,Any}[Dict(\"source_id\" => 25981,\"target_id\" => 27018,\"type\" => \"prereq\")],\"name\" => \"EGN 3374\",\"metrics\" => Dict{String,Any}(\"complexity\" => 8.0,\"centrality\" => 7,\"blocking factor\" => 1,\"delay factor\" => 7.0),\"nameSub\" => \"Introduction to Electrical Systems II\",\"id\" => 27018,\"credits\" => 3,\"nameCanonical\" => \"\"), Dict(\"curriculum_requisites\" => Dict{String,Any}[Dict(\"source_id\" => 24951,\"target_id\" => 25983,\"type\" => \"prereq\")],\"name\" => \"EGN 3443\",\"metrics\" => Dict{String,Any}(\"complexity\" => 3.0,\"centrality\" => 0,\"blocking factor\" => 0,\"delay factor\" => 3.0),\"nameSub\" => \"Probability and Statistics for Engineers\",\"id\" => 25983,\"credits\" => 3,\"nameCanonical\" => \"\"), Dict(\"curriculum_requisites\" => Dict{String,Any}[],\"name\" => \"EGN 3615\",\"metrics\" => Dict{String,Any}(\"complexity\" => 1.0,\"centrality\" => 0,\"blocking factor\" => 0,\"delay factor\" => 1.0),\"nameSub\" => \"Engineering Economics with Social and Global Implications\",\"id\" => 24859,\"credits\" => 3,\"nameCanonical\" => \"\")],\"id\" => 5), Dict(\"name\" => \"Term 6\",\"curriculum_items\" => Dict{String,Any}[Dict(\"curriculum_requisites\" => Dict{String,Any}[Dict(\"source_id\" => 25981,\"target_id\" => 26911,\"type\" => \"prereq\")],\"name\" => \"EEL 3115L\",\"metrics\" => Dict{String,Any}(\"complexity\" => 6.0,\"centrality\" => 0,\"blocking factor\" => 0,\"delay factor\" => 6.0),\"nameSub\" => \"Laboratory I\",\"id\" => 26911,\"credits\" => 1,\"nameCanonical\" => \"\"), Dict(\"curriculum_requisites\" => Dict{String,Any}[],\"name\" => \" \",\"metrics\" => Dict{String,Any}(\"complexity\" => 1.0,\"centrality\" => 0,\"blocking factor\" => 0,\"delay factor\" => 1.0),\"nameSub\" => \"EE Core Technical Elective\",\"id\" => 9,\"credits\" => 3,\"nameCanonical\" => \"\"), Dict(\"curriculum_requisites\" => Dict{String,Any}[],\"name\" => \" \",\"metrics\" => Dict{String,Any}(\"complexity\" => 1.0,\"centrality\" => 0,\"blocking factor\" => 0,\"delay factor\" => 1.0),\"nameSub\" => \"EE Core Technical Elective\",\"id\" => 10,\"credits\" => 3,\"nameCanonical\" => \"\"), Dict(\"curriculum_requisites\" => Dict{String,Any}[Dict(\"source_id\" => 27018,\"target_id\" => 25885,\"type\" => \"prereq\"), Dict(\"source_id\" => 25357,\"target_id\" => 25885,\"type\" => \"prereq\")],\"name\" => \"EEL 4102\",\"metrics\" => Dict{String,Any}(\"complexity\" => 7.0,\"centrality\" => 0,\"blocking factor\" => 0,\"delay factor\" => 7.0),\"nameSub\" => \"Signals and Systems\",\"id\" => 25885,\"credits\" => 3,\"nameCanonical\" => \"\"), Dict(\"curriculum_requisites\" => Dict{String,Any}[Dict(\"source_id\" => 24974,\"target_id\" => 29988,\"type\" => \"prereq\")],\"name\" => \"EEL 3163C\",\"metrics\" => Dict{String,Any}(\"complexity\" => 2.0,\"centrality\" => 0,\"blocking factor\" => 0,\"delay factor\" => 2.0),\"nameSub\" => \"Computer Tool Lab\",\"id\" => 29988,\"credits\" => 1,\"nameCanonical\" => \"\"), Dict(\"curriculum_requisites\" => Dict{String,Any}[],\"name\" => \"ENC 3246\",\"metrics\" => Dict{String,Any}(\"complexity\" => 1.0,\"centrality\" => 0,\"blocking factor\" => 0,\"delay factor\" => 1.0),\"nameSub\" => \"Communication for Engineers\",\"id\" => 27719,\"credits\" => 3,\"nameCanonical\" => \"\"), Dict(\"curriculum_requisites\" => Dict{String,Any}[Dict(\"source_id\" => 6,\"target_id\" => 11,\"type\" => \"prereq\")],\"name\" => \"EGS 3071\",\"metrics\" => Dict{String,Any}(\"complexity\" => 4.0,\"centrality\" => 3,\"blocking factor\" => 1,\"delay factor\" => 3.0),\"nameSub\" => \"Professional Formation of Engineers II\",\"id\" => 11,\"credits\" => 1,\"nameCanonical\" => \"\")],\"id\" => 6), Dict(\"name\" => \"Term 7\",\"curriculum_items\" => Dict{String,Any}[Dict(\"curriculum_requisites\" => Dict{String,Any}[],\"name\" => \" \",\"metrics\" => Dict{String,Any}(\"complexity\" => 1.0,\"centrality\" => 0,\"blocking factor\" => 0,\"delay factor\" => 1.0),\"nameSub\" => \"EE Core Technical Elective\",\"id\" => 12,\"credits\" => 3,\"nameCanonical\" => \"\"), Dict(\"curriculum_requisites\" => Dict{String,Any}[],\"name\" => \" \",\"metrics\" => Dict{String,Any}(\"complexity\" => 1.0,\"centrality\" => 0,\"blocking factor\" => 0,\"delay factor\" => 1.0),\"nameSub\" => \"EE Core Technical Elective\",\"id\" => 13,\"credits\" => 3,\"nameCanonical\" => \"\"), Dict(\"curriculum_requisites\" => Dict{String,Any}[],\"name\" => \" \",\"metrics\" => Dict{String,Any}(\"complexity\" => 1.0,\"centrality\" => 0,\"blocking factor\" => 0,\"delay factor\" => 1.0),\"nameSub\" => \"EE Track Elective\",\"id\" => 14,\"credits\" => 3,\"nameCanonical\" => \"\"), Dict(\"curriculum_requisites\" => Dict{String,Any}[],\"name\" => \" \",\"metrics\" => Dict{String,Any}(\"complexity\" => 1.0,\"centrality\" => 0,\"blocking factor\" => 0,\"delay factor\" => 1.0),\"nameSub\" => \"EE Track Elective\",\"id\" => 15,\"credits\" => 3,\"nameCanonical\" => \"\"), Dict(\"curriculum_requisites\" => Dict{String,Any}[],\"name\" => \" \",\"metrics\" => Dict{String,Any}(\"complexity\" => 1.0,\"centrality\" => 0,\"blocking factor\" => 0,\"delay factor\" => 1.0),\"nameSub\" => \"EE Track Elective Lab\",\"id\" => 16,\"credits\" => 1,\"nameCanonical\" => \"\"), Dict(\"curriculum_requisites\" => Dict{String,Any}[Dict(\"source_id\" => 11,\"target_id\" => 17,\"type\" => \"prereq\")],\"name\" => \"EGS 3072\",\"metrics\" => Dict{String,Any}(\"complexity\" => 3.0,\"centrality\" => 0,\"blocking factor\" => 0,\"delay factor\" => 3.0),\"nameSub\" => \"Professional Formation of Engineers III\",\"id\" => 17,\"credits\" => 1,\"nameCanonical\" => \"\"), Dict(\"curriculum_requisites\" => Dict{String,Any}[],\"name\" => \" \",\"metrics\" => Dict{String,Any}(\"complexity\" => 1.0,\"centrality\" => 0,\"blocking factor\" => 0,\"delay factor\" => 1.0),\"nameSub\" => \"Upper-Level Department Elective Lab\",\"id\" => 18,\"credits\" => 1,\"nameCanonical\" => \"\")],\"id\" => 7), Dict(\"name\" => \"Term 8\",\"curriculum_items\" => Dict{String,Any}[Dict(\"curriculum_requisites\" => Dict{String,Any}[],\"name\" => \" \",\"metrics\" => Dict{String,Any}(\"complexity\" => 1.0,\"centrality\" => 0,\"blocking factor\" => 0,\"delay factor\" => 1.0),\"nameSub\" => \"Internship/Co-op Participation\",\"id\" => 20,\"credits\" => 0,\"nameCanonical\" => \"\")],\"id\" => 8), Dict(\"name\" => \"Term 9\",\"curriculum_items\" => Dict{String,Any}[Dict(\"curriculum_requisites\" => Dict{String,Any}[],\"name\" => \"EEL 4906\",\"metrics\" => Dict{String,Any}(\"complexity\" => 3.0,\"centrality\" => 0,\"blocking factor\" => 1,\"delay factor\" => 2.0),\"nameSub\" => \"EE Design 1\",\"id\" => 26904,\"credits\" => 3,\"nameCanonical\" => \"\"), Dict(\"curriculum_requisites\" => Dict{String,Any}[],\"name\" => \" \",\"metrics\" => Dict{String,Any}(\"complexity\" => 1.0,\"centrality\" => 0,\"blocking factor\" => 0,\"delay factor\" => 1.0),\"nameSub\" => \"Upper-Level Department Elective\",\"id\" => 21,\"credits\" => 3,\"nameCanonical\" => \"\"), Dict(\"curriculum_requisites\" => Dict{String,Any}[],\"name\" => \" \",\"metrics\" => Dict{String,Any}(\"complexity\" => 1.0,\"centrality\" => 0,\"blocking factor\" => 0,\"delay factor\" => 1.0),\"nameSub\" => \"EE Track Elective\",\"id\" => 22,\"credits\" => 3,\"nameCanonical\" => \"\"), Dict(\"curriculum_requisites\" => Dict{String,Any}[],\"name\" => \" \",\"metrics\" => Dict{String,Any}(\"complexity\" => 1.0,\"centrality\" => 0,\"blocking factor\" => 0,\"delay factor\" => 1.0),\"nameSub\" => \"EE Track Elective\",\"id\" => 23,\"credits\" => 3,\"nameCanonical\" => \"\"), Dict(\"curriculum_requisites\" => Dict{String,Any}[],\"name\" => \" \",\"metrics\" => Dict{String,Any}(\"complexity\" => 1.0,\"centrality\" => 0,\"blocking factor\" => 0,\"delay factor\" => 1.0),\"nameSub\" => \"EE Track Elective Lab\",\"id\" => 24,\"credits\" => 1,\"nameCanonical\" => \"\"), Dict(\"curriculum_requisites\" => Dict{String,Any}[],\"name\" => \" \",\"metrics\" => Dict{String,Any}(\"complexity\" => 1.0,\"centrality\" => 0,\"blocking factor\" => 0,\"delay factor\" => 1.0),\"nameSub\" => \"Upper-Level Department Elective\",\"id\" => 25,\"credits\" => 3,\"nameCanonical\" => \"\")],\"id\" => 9), Dict(\"name\" => \"Term 10\",\"curriculum_items\" => Dict{String,Any}[Dict(\"curriculum_requisites\" => Dict{String,Any}[Dict(\"source_id\" => 26904,\"target_id\" => 27855,\"type\" => \"prereq\")],\"name\" => \"EEL 4914\",\"metrics\" => Dict{String,Any}(\"complexity\" => 2.0,\"centrality\" => 0,\"blocking factor\" => 0,\"delay factor\" => 2.0),\"nameSub\" => \"EE Design 2\",\"id\" => 27855,\"credits\" => 3,\"nameCanonical\" => \"\"), Dict(\"curriculum_requisites\" => Dict{String,Any}[],\"name\" => \" \",\"metrics\" => Dict{String,Any}(\"complexity\" => 1.0,\"centrality\" => 0,\"blocking factor\" => 0,\"delay factor\" => 1.0),\"nameSub\" => \"Upper-Level Department Elective\",\"id\" => 27,\"credits\" => 3,\"nameCanonical\" => \"\"), Dict(\"curriculum_requisites\" => Dict{String,Any}[],\"name\" => \" \",\"metrics\" => Dict{String,Any}(\"complexity\" => 1.0,\"centrality\" => 0,\"blocking factor\" => 0,\"delay factor\" => 1.0),\"nameSub\" => \"Upper-Level Department Elective\",\"id\" => 28,\"credits\" => 3,\"nameCanonical\" => \"\"), Dict(\"curriculum_requisites\" => Dict{String,Any}[],\"name\" => \" \",\"metrics\" => Dict{String,Any}(\"complexity\" => 1.0,\"centrality\" => 0,\"blocking factor\" => 0,\"delay factor\" => 1.0),\"nameSub\" => \"General Elective\",\"id\" => 29,\"credits\" => 3,\"nameCanonical\" => \"\"), Dict(\"curriculum_requisites\" => Dict{String,Any}[],\"name\" => \" \",\"metrics\" => Dict{String,Any}(\"complexity\" => 1.0,\"centrality\" => 0,\"blocking factor\" => 0,\"delay factor\" => 1.0),\"nameSub\" => \"General Elective\",\"id\" => 30,\"credits\" => 1,\"nameCanonical\" => \"\"), Dict(\"curriculum_requisites\" => Dict{String,Any}[],\"name\" => \"SGES \",\"metrics\" => Dict{String,Any}(\"complexity\" => 1.0,\"centrality\" => 0,\"blocking factor\" => 0,\"delay factor\" => 1.0),\"nameSub\" => \"State Social Science Gen Ed\",\"id\" => 31,\"credits\" => 3,\"nameCanonical\" => \"\")],\"id\" => 10)],\"institution\" => \"USF\")), nothing)), Set(String[]), nothing, WebIO.Asset[], Dict{Any,Any}(), WebIO.ConnectionPool(Channel{Any}(sz_max:32,sz_curr:0), Set(WebIO.AbstractConnection[]), Base.GenericCondition{Base.AlwaysLockedST}(Base.InvasiveLinkedList{Task}(Task (runnable) @0x00000001253cb3d0, Task (runnable) @0x00000001253cb3d0), Base.AlwaysLockedST(1))), WebIO.JSString[])"
      ]
     },
     "execution_count": 9,
     "metadata": {
      "application/vnd.webio.node+json": {
       "kernelId": "a033a4fb-e505-43ef-bc72-a9b6a6d5ceb3"
      }
     },
     "output_type": "execute_result"
    }
   ],
   "source": [
    "EE_plan = plan[\"EEL-CALC+CHM ready\"]\n",
    "visualize(EE_plan, notebook=true)"
   ]
  },
  {
   "cell_type": "code",
   "execution_count": 10,
   "metadata": {},
   "outputs": [
    {
     "data": {
      "application/vnd.webio.node+json": {
       "children": [
        {
         "children": [
          ""
         ],
         "instanceArgs": {
          "namespace": "html",
          "tag": "iframe"
         },
         "nodeType": "DOM",
         "props": {
          "events": {
           "load": "(function (){this.contentWindow.postMessage({\"options\":{\"hideTerms\":false,\"edit\":false},\"curriculum\":{\"name\":\"BSEE-Electrical Engineering\",\"dp_name\":\"EEL-NOT CALCorCHM ready-MAC1114&1140\",\"curriculum_terms\":[{\"name\":\"Term 1\",\"curriculum_items\":[{\"curriculum_requisites\":[],\"name\":\"CHM 2023\",\"metrics\":{\"complexity\":7.0,\"centrality\":0,\"blocking factor\":3,\"delay factor\":4.0},\"nameSub\":\"Chemistry for Today\",\"id\":26602,\"credits\":3,\"nameCanonical\":\"\"},{\"curriculum_requisites\":[],\"name\":\"MAT 1033\",\"metrics\":{\"complexity\":28.0,\"centrality\":0,\"blocking factor\":17,\"delay factor\":11.0},\"nameSub\":\"Intermediate Algebra\",\"id\":28218,\"credits\":3,\"nameCanonical\":\"\"}],\"id\":1},{\"name\":\"Term 2\",\"curriculum_items\":[{\"curriculum_requisites\":[{\"source_id\":28218,\"target_id\":25855,\"type\":\"prereq\"}],\"name\":\"MAC 1105\",\"metrics\":{\"complexity\":27.0,\"centrality\":226,\"blocking factor\":16,\"delay factor\":11.0},\"nameSub\":\"College Algebra\",\"id\":25855,\"credits\":3,\"nameCanonical\":\"\"}],\"id\":2},{\"name\":\"Term 3\",\"curriculum_items\":[{\"curriculum_requisites\":[{\"source_id\":25855,\"target_id\":25856,\"type\":\"prereq\"},{\"source_id\":27685,\"target_id\":25856,\"type\":\"coreq\"}],\"name\":\"MAC 1114\",\"metrics\":{\"complexity\":25.0,\"centrality\":154,\"blocking factor\":14,\"delay factor\":11.0},\"nameSub\":\"Precalculus Trigonometry\",\"id\":25856,\"credits\":2,\"nameCanonical\":\"\"},{\"curriculum_requisites\":[{\"source_id\":25855,\"target_id\":27685,\"type\":\"prereq\"}],\"name\":\"MAC 1140\",\"metrics\":{\"complexity\":26.0,\"centrality\":154,\"blocking factor\":15,\"delay factor\":11.0},\"nameSub\":\"Precalculus Algebra\",\"id\":27685,\"credits\":3,\"nameCanonical\":\"\"}],\"id\":3},{\"name\":\"Term 4\",\"curriculum_items\":[{\"curriculum_requisites\":[{\"source_id\":25856,\"target_id\":24950,\"type\":\"prereq\"},{\"source_id\":27685,\"target_id\":24950,\"type\":\"prereq\"}],\"name\":\"MAC 2281\",\"metrics\":{\"complexity\":24.0,\"centrality\":226,\"blocking factor\":13,\"delay factor\":11.0},\"nameSub\":\"Engineering Calculus I\",\"id\":24950,\"credits\":4,\"nameCanonical\":\"\"},{\"curriculum_requisites\":[{\"source_id\":26602,\"target_id\":25478,\"type\":\"prereq\"}],\"name\":\"CHM/CHS 2045/2440\",\"metrics\":{\"complexity\":6.0,\"centrality\":4,\"blocking factor\":2,\"delay factor\":4.0},\"nameSub\":\"General Chemistry I/Chem for Engineers \",\"id\":25478,\"credits\":3,\"nameCanonical\":\"\"},{\"curriculum_requisites\":[],\"name\":\"ENC 1101\",\"metrics\":{\"complexity\":3.0,\"centrality\":0,\"blocking factor\":1,\"delay factor\":2.0},\"nameSub\":\"Composition I\",\"id\":23525,\"credits\":3,\"nameCanonical\":\"\"},{\"curriculum_requisites\":[],\"name\":\"CHM/CHS 2045/2440L\",\"metrics\":{\"complexity\":1.0,\"centrality\":0,\"blocking factor\":0,\"delay factor\":1.0},\"nameSub\":\"General Chemistry I/Chem for Engineers Laboratory\",\"id\":25479,\"credits\":1,\"nameCanonical\":\"\"},{\"curriculum_requisites\":[],\"name\":\"EGN 3000L\",\"metrics\":{\"complexity\":1.0,\"centrality\":0,\"blocking factor\":0,\"delay factor\":1.0},\"nameSub\":\"Foundations of Engineering Lab\",\"id\":23287,\"credits\":3,\"nameCanonical\":\"\"},{\"curriculum_requisites\":[],\"name\":\"EGN 3000\",\"metrics\":{\"complexity\":1.0,\"centrality\":0,\"blocking factor\":0,\"delay factor\":1.0},\"nameSub\":\"Foundations of Engineering\",\"id\":28172,\"credits\":0,\"nameCanonical\":\"\"}],\"id\":4},{\"name\":\"Term 5\",\"curriculum_items\":[{\"curriculum_requisites\":[{\"source_id\":24950,\"target_id\":24951,\"type\":\"prereq\"}],\"name\":\"MAC 2282\",\"metrics\":{\"complexity\":21.0,\"centrality\":166,\"blocking factor\":10,\"delay factor\":11.0},\"nameSub\":\"Engineering Calculus II\",\"id\":24951,\"credits\":4,\"nameCanonical\":\"\"},{\"curriculum_requisites\":[{\"source_id\":23525,\"target_id\":23526,\"type\":\"prereq\"}],\"name\":\"ENC 1102\",\"metrics\":{\"complexity\":2.0,\"centrality\":0,\"blocking factor\":0,\"delay factor\":2.0},\"nameSub\":\"Composition II\",\"id\":23526,\"credits\":3,\"nameCanonical\":\"\"},{\"curriculum_requisites\":[{\"source_id\":24950,\"target_id\":26014,\"type\":\"prereq\"}],\"name\":\"PHY 2048\",\"metrics\":{\"complexity\":8.0,\"centrality\":41,\"blocking factor\":2,\"delay factor\":6.0},\"nameSub\":\"General Physics I - Calculus Based\",\"id\":26014,\"credits\":3,\"nameCanonical\":\"\"},{\"curriculum_requisites\":[{\"source_id\":24950,\"target_id\":26015,\"type\":\"prereq\"}],\"name\":\"PHY 2048L\",\"metrics\":{\"complexity\":7.0,\"centrality\":19,\"blocking factor\":1,\"delay factor\":6.0},\"nameSub\":\"General Physics I Laboratory\",\"id\":26015,\"credits\":1,\"nameCanonical\":\"\"},{\"curriculum_requisites\":[],\"name\":\"EEL 3705\",\"metrics\":{\"complexity\":3.0,\"centrality\":0,\"blocking factor\":1,\"delay factor\":2.0},\"nameSub\":\"Fundamentals of Digital Circuits\",\"id\":23747,\"credits\":3,\"nameCanonical\":\"\"}],\"id\":5},{\"name\":\"Term 6\",\"curriculum_items\":[{\"curriculum_requisites\":[{\"source_id\":24951,\"target_id\":24952,\"type\":\"prereq\"}],\"name\":\"MAC 2283\",\"metrics\":{\"complexity\":18.0,\"centrality\":84,\"blocking factor\":7,\"delay factor\":11.0},\"nameSub\":\"Engineering Calculus III\",\"id\":24952,\"credits\":4,\"nameCanonical\":\"\"},{\"curriculum_requisites\":[{\"source_id\":24951,\"target_id\":25357,\"type\":\"prereq\"}],\"name\":\"EGN 3420\",\"metrics\":{\"complexity\":9.0,\"centrality\":44,\"blocking factor\":2,\"delay factor\":7.0},\"nameSub\":\"Engineering Analysis\",\"id\":25357,\"credits\":4,\"nameCanonical\":\"\"},{\"curriculum_requisites\":[{\"source_id\":24952,\"target_id\":27967,\"type\":\"coreq\"},{\"source_id\":26014,\"target_id\":27967,\"type\":\"prereq\"},{\"source_id\":25478,\"target_id\":27967,\"type\":\"prereq\"}],\"name\":\"EEE 3394\",\"metrics\":{\"complexity\":10.0,\"centrality\":51,\"blocking factor\":1,\"delay factor\":9.0},\"nameSub\":\"Electrical Engineering Science I - Electronic Materials\",\"id\":27967,\"credits\":3,\"nameCanonical\":\"\"},{\"curriculum_requisites\":[{\"source_id\":23747,\"target_id\":26896,\"type\":\"prereq\"}],\"name\":\"EEL 3705L\",\"metrics\":{\"complexity\":2.0,\"centrality\":0,\"blocking factor\":0,\"delay factor\":2.0},\"nameSub\":\"Fundamentals of Digital Circuits Laboratory\",\"id\":26896,\"credits\":1,\"nameCanonical\":\"\"},{\"curriculum_requisites\":[],\"name\":\"SGEH \",\"metrics\":{\"complexity\":1.0,\"centrality\":0,\"blocking factor\":0,\"delay factor\":1.0},\"nameSub\":\"State Humanities Gen Ed\",\"id\":4,\"credits\":3,\"nameCanonical\":\"\"}],\"id\":6},{\"name\":\"Term 7\",\"curriculum_items\":[{\"curriculum_requisites\":[{\"source_id\":24959,\"target_id\":25981,\"type\":\"coreq\"}],\"name\":\"EGN 3373\",\"metrics\":{\"complexity\":14.0,\"centrality\":59,\"blocking factor\":3,\"delay factor\":11.0},\"nameSub\":\"Introduction to Electrical Systems I\",\"id\":25981,\"credits\":3,\"nameCanonical\":\"\"},{\"curriculum_requisites\":[{\"source_id\":24952,\"target_id\":24959,\"type\":\"prereq\"}],\"name\":\"MAP 2302\",\"metrics\":{\"complexity\":15.0,\"centrality\":59,\"blocking factor\":4,\"delay factor\":11.0},\"nameSub\":\"Differential Equations\",\"id\":24959,\"credits\":3,\"nameCanonical\":\"\"},{\"curriculum_requisites\":[{\"source_id\":24951,\"target_id\":29920,\"type\":\"prereq\"},{\"source_id\":25357,\"target_id\":29920,\"type\":\"prereq\"},{\"source_id\":27967,\"target_id\":29920,\"type\":\"prereq\"},{\"source_id\":26014,\"target_id\":29920,\"type\":\"prereq\"},{\"source_id\":26015,\"target_id\":29920,\"type\":\"prereq\"}],\"name\":\"EEL/PHY 3472C/2049 + 2049L\",\"metrics\":{\"complexity\":9.0,\"centrality\":0,\"blocking factor\":0,\"delay factor\":9.0},\"nameSub\":\"Electrical Engineering Science II - Electromagnetics/Physics II + Lab\",\"id\":29920,\"credits\":4,\"nameCanonical\":\"\"},{\"curriculum_requisites\":[],\"name\":\"EEL 2161\",\"metrics\":{\"complexity\":3.0,\"centrality\":0,\"blocking factor\":1,\"delay factor\":2.0},\"nameSub\":\"Programming with C\",\"id\":24974,\"credits\":3,\"nameCanonical\":\"\"},{\"curriculum_requisites\":[],\"name\":\"EGS 2070\",\"metrics\":{\"complexity\":5.0,\"centrality\":0,\"blocking factor\":2,\"delay factor\":3.0},\"nameSub\":\"Professional Formation of Engineers I\",\"id\":6,\"credits\":1,\"nameCanonical\":\"\"}],\"id\":7},{\"name\":\"Term 8\",\"curriculum_items\":[{\"curriculum_requisites\":[{\"source_id\":25981,\"target_id\":27018,\"type\":\"prereq\"}],\"name\":\"EGN 3374\",\"metrics\":{\"complexity\":12.0,\"centrality\":31,\"blocking factor\":1,\"delay factor\":11.0},\"nameSub\":\"Introduction to Electrical Systems II\",\"id\":27018,\"credits\":3,\"nameCanonical\":\"\"},{\"curriculum_requisites\":[{\"source_id\":24951,\"target_id\":25983,\"type\":\"prereq\"}],\"name\":\"EGN 3443\",\"metrics\":{\"complexity\":7.0,\"centrality\":0,\"blocking factor\":0,\"delay factor\":7.0},\"nameSub\":\"Probability and Statistics for Engineers\",\"id\":25983,\"credits\":3,\"nameCanonical\":\"\"},{\"curriculum_requisites\":[],\"name\":\"EGN 3615\",\"metrics\":{\"complexity\":1.0,\"centrality\":0,\"blocking factor\":0,\"delay factor\":1.0},\"nameSub\":\"Engineering Economics with Social and Global Implications\",\"id\":24859,\"credits\":3,\"nameCanonical\":\"\"}],\"id\":8},{\"name\":\"Term 9\",\"curriculum_items\":[{\"curriculum_requisites\":[{\"source_id\":25981,\"target_id\":26911,\"type\":\"prereq\"}],\"name\":\"EEL 3115L\",\"metrics\":{\"complexity\":10.0,\"centrality\":0,\"blocking factor\":0,\"delay factor\":10.0},\"nameSub\":\"Laboratory I\",\"id\":26911,\"credits\":1,\"nameCanonical\":\"\"},{\"curriculum_requisites\":[],\"name\":\" \",\"metrics\":{\"complexity\":1.0,\"centrality\":0,\"blocking factor\":0,\"delay factor\":1.0},\"nameSub\":\"EE Core Technical Elective\",\"id\":9,\"credits\":3,\"nameCanonical\":\"\"},{\"curriculum_requisites\":[],\"name\":\" \",\"metrics\":{\"complexity\":1.0,\"centrality\":0,\"blocking factor\":0,\"delay factor\":1.0},\"nameSub\":\"EE Core Technical Elective\",\"id\":10,\"credits\":3,\"nameCanonical\":\"\"},{\"curriculum_requisites\":[{\"source_id\":27018,\"target_id\":25885,\"type\":\"prereq\"},{\"source_id\":25357,\"target_id\":25885,\"type\":\"prereq\"}],\"name\":\"EEL 4102\",\"metrics\":{\"complexity\":11.0,\"centrality\":0,\"blocking factor\":0,\"delay factor\":11.0},\"nameSub\":\"Signals and Systems\",\"id\":25885,\"credits\":3,\"nameCanonical\":\"\"},{\"curriculum_requisites\":[{\"source_id\":24974,\"target_id\":29988,\"type\":\"prereq\"}],\"name\":\"EEL 3163C\",\"metrics\":{\"complexity\":2.0,\"centrality\":0,\"blocking factor\":0,\"delay factor\":2.0},\"nameSub\":\"Computer Tool Lab\",\"id\":29988,\"credits\":1,\"nameCanonical\":\"\"},{\"curriculum_requisites\":[],\"name\":\"ENC 3246\",\"metrics\":{\"complexity\":1.0,\"centrality\":0,\"blocking factor\":0,\"delay factor\":1.0},\"nameSub\":\"Communication for Engineers\",\"id\":27719,\"credits\":3,\"nameCanonical\":\"\"},{\"curriculum_requisites\":[{\"source_id\":6,\"target_id\":11,\"type\":\"prereq\"}],\"name\":\"EGS 3071\",\"metrics\":{\"complexity\":4.0,\"centrality\":3,\"blocking factor\":1,\"delay factor\":3.0},\"nameSub\":\"Professional Formation of Engineers II\",\"id\":11,\"credits\":1,\"nameCanonical\":\"\"}],\"id\":9},{\"name\":\"Term 10\",\"curriculum_items\":[{\"curriculum_requisites\":[],\"name\":\" \",\"metrics\":{\"complexity\":1.0,\"centrality\":0,\"blocking factor\":0,\"delay factor\":1.0},\"nameSub\":\"EE Core Technical Elective\",\"id\":12,\"credits\":3,\"nameCanonical\":\"\"},{\"curriculum_requisites\":[],\"name\":\" \",\"metrics\":{\"complexity\":1.0,\"centrality\":0,\"blocking factor\":0,\"delay factor\":1.0},\"nameSub\":\"EE Core Technical Elective\",\"id\":13,\"credits\":3,\"nameCanonical\":\"\"},{\"curriculum_requisites\":[],\"name\":\" \",\"metrics\":{\"complexity\":1.0,\"centrality\":0,\"blocking factor\":0,\"delay factor\":1.0},\"nameSub\":\"EE Track Elective\",\"id\":14,\"credits\":3,\"nameCanonical\":\"\"},{\"curriculum_requisites\":[],\"name\":\" \",\"metrics\":{\"complexity\":1.0,\"centrality\":0,\"blocking factor\":0,\"delay factor\":1.0},\"nameSub\":\"EE Track Elective\",\"id\":15,\"credits\":3,\"nameCanonical\":\"\"},{\"curriculum_requisites\":[],\"name\":\" \",\"metrics\":{\"complexity\":1.0,\"centrality\":0,\"blocking factor\":0,\"delay factor\":1.0},\"nameSub\":\"EE Track Elective Lab\",\"id\":16,\"credits\":1,\"nameCanonical\":\"\"},{\"curriculum_requisites\":[{\"source_id\":11,\"target_id\":17,\"type\":\"prereq\"}],\"name\":\"EGS 3072\",\"metrics\":{\"complexity\":3.0,\"centrality\":0,\"blocking factor\":0,\"delay factor\":3.0},\"nameSub\":\"Professional Formation of Engineers III\",\"id\":17,\"credits\":1,\"nameCanonical\":\"\"},{\"curriculum_requisites\":[],\"name\":\" \",\"metrics\":{\"complexity\":1.0,\"centrality\":0,\"blocking factor\":0,\"delay factor\":1.0},\"nameSub\":\"Upper-Level Department Elective Lab\",\"id\":18,\"credits\":1,\"nameCanonical\":\"\"}],\"id\":10},{\"name\":\"Term 11\",\"curriculum_items\":[{\"curriculum_requisites\":[],\"name\":\" \",\"metrics\":{\"complexity\":1.0,\"centrality\":0,\"blocking factor\":0,\"delay factor\":1.0},\"nameSub\":\"Internship/Co-op Participation\",\"id\":20,\"credits\":0,\"nameCanonical\":\"\"}],\"id\":11},{\"name\":\"Term 12\",\"curriculum_items\":[{\"curriculum_requisites\":[],\"name\":\"EEL 4906\",\"metrics\":{\"complexity\":3.0,\"centrality\":0,\"blocking factor\":1,\"delay factor\":2.0},\"nameSub\":\"EE Design 1\",\"id\":26904,\"credits\":3,\"nameCanonical\":\"\"},{\"curriculum_requisites\":[],\"name\":\" \",\"metrics\":{\"complexity\":1.0,\"centrality\":0,\"blocking factor\":0,\"delay factor\":1.0},\"nameSub\":\"Upper-Level Department Elective\",\"id\":21,\"credits\":3,\"nameCanonical\":\"\"},{\"curriculum_requisites\":[],\"name\":\" \",\"metrics\":{\"complexity\":1.0,\"centrality\":0,\"blocking factor\":0,\"delay factor\":1.0},\"nameSub\":\"EE Track Elective\",\"id\":22,\"credits\":3,\"nameCanonical\":\"\"},{\"curriculum_requisites\":[],\"name\":\" \",\"metrics\":{\"complexity\":1.0,\"centrality\":0,\"blocking factor\":0,\"delay factor\":1.0},\"nameSub\":\"EE Track Elective\",\"id\":23,\"credits\":3,\"nameCanonical\":\"\"},{\"curriculum_requisites\":[],\"name\":\" \",\"metrics\":{\"complexity\":1.0,\"centrality\":0,\"blocking factor\":0,\"delay factor\":1.0},\"nameSub\":\"EE Track Elective Lab\",\"id\":24,\"credits\":1,\"nameCanonical\":\"\"},{\"curriculum_requisites\":[],\"name\":\" \",\"metrics\":{\"complexity\":1.0,\"centrality\":0,\"blocking factor\":0,\"delay factor\":1.0},\"nameSub\":\"Upper-Level Department Elective\",\"id\":25,\"credits\":3,\"nameCanonical\":\"\"}],\"id\":12},{\"name\":\"Term 13\",\"curriculum_items\":[{\"curriculum_requisites\":[{\"source_id\":26904,\"target_id\":27855,\"type\":\"prereq\"}],\"name\":\"EEL 4914\",\"metrics\":{\"complexity\":2.0,\"centrality\":0,\"blocking factor\":0,\"delay factor\":2.0},\"nameSub\":\"EE Design 2\",\"id\":27855,\"credits\":3,\"nameCanonical\":\"\"},{\"curriculum_requisites\":[],\"name\":\" \",\"metrics\":{\"complexity\":1.0,\"centrality\":0,\"blocking factor\":0,\"delay factor\":1.0},\"nameSub\":\"Upper-Level Department Elective\",\"id\":27,\"credits\":3,\"nameCanonical\":\"\"},{\"curriculum_requisites\":[],\"name\":\" \",\"metrics\":{\"complexity\":1.0,\"centrality\":0,\"blocking factor\":0,\"delay factor\":1.0},\"nameSub\":\"Upper-Level Department Elective\",\"id\":28,\"credits\":3,\"nameCanonical\":\"\"},{\"curriculum_requisites\":[],\"name\":\" \",\"metrics\":{\"complexity\":1.0,\"centrality\":0,\"blocking factor\":0,\"delay factor\":1.0},\"nameSub\":\"General Elective\",\"id\":29,\"credits\":3,\"nameCanonical\":\"\"},{\"curriculum_requisites\":[],\"name\":\" \",\"metrics\":{\"complexity\":1.0,\"centrality\":0,\"blocking factor\":0,\"delay factor\":1.0},\"nameSub\":\"General Elective\",\"id\":30,\"credits\":1,\"nameCanonical\":\"\"},{\"curriculum_requisites\":[],\"name\":\"SGES \",\"metrics\":{\"complexity\":1.0,\"centrality\":0,\"blocking factor\":0,\"delay factor\":1.0},\"nameSub\":\"State Social Science Gen Ed\",\"id\":31,\"credits\":3,\"nameCanonical\":\"\"}],\"id\":13}],\"institution\":\"USF\"}},\"*\"); window.removeEventListener(\"message\",window.messageReceived); window.messageReceived=(function (event){return (event.data.curriculum!==undefined) ? (WebIO.setval({\"name\":\"curriculum-data\",\"scope\":\"3936003754690179936\",\"id\":\"ob_02\",\"type\":\"observable\"},event.data.curriculum)) : undefined}); return window.addEventListener(\"message\",window.messageReceived)})"
          },
          "id": "curriculum",
          "src": "http://localhost:8156",
          "style": {
           "border": "none",
           "height": "100vh",
           "margin": "0",
           "padding": "0",
           "width": "100%"
          }
         },
         "type": "node"
        }
       ],
       "instanceArgs": {
        "handlers": {},
        "id": "3936003754690179936",
        "imports": {
         "data": [],
         "type": "async_block"
        },
        "mount_callbacks": [],
        "observables": {
         "curriculum-data": {
          "id": "ob_02",
          "sync": true,
          "value": {
           "curriculum": {
            "curriculum_terms": [
             {
              "curriculum_items": [
               {
                "credits": 3,
                "curriculum_requisites": [],
                "id": 26602,
                "metrics": {
                 "blocking factor": 3,
                 "centrality": 0,
                 "complexity": 7,
                 "delay factor": 4
                },
                "name": "CHM 2023",
                "nameCanonical": "",
                "nameSub": "Chemistry for Today"
               },
               {
                "credits": 3,
                "curriculum_requisites": [],
                "id": 28218,
                "metrics": {
                 "blocking factor": 17,
                 "centrality": 0,
                 "complexity": 28,
                 "delay factor": 11
                },
                "name": "MAT 1033",
                "nameCanonical": "",
                "nameSub": "Intermediate Algebra"
               }
              ],
              "id": 1,
              "name": "Term 1"
             },
             {
              "curriculum_items": [
               {
                "credits": 3,
                "curriculum_requisites": [
                 {
                  "source_id": 28218,
                  "target_id": 25855,
                  "type": "prereq"
                 }
                ],
                "id": 25855,
                "metrics": {
                 "blocking factor": 16,
                 "centrality": 226,
                 "complexity": 27,
                 "delay factor": 11
                },
                "name": "MAC 1105",
                "nameCanonical": "",
                "nameSub": "College Algebra"
               }
              ],
              "id": 2,
              "name": "Term 2"
             },
             {
              "curriculum_items": [
               {
                "credits": 2,
                "curriculum_requisites": [
                 {
                  "source_id": 25855,
                  "target_id": 25856,
                  "type": "prereq"
                 },
                 {
                  "source_id": 27685,
                  "target_id": 25856,
                  "type": "coreq"
                 }
                ],
                "id": 25856,
                "metrics": {
                 "blocking factor": 14,
                 "centrality": 154,
                 "complexity": 25,
                 "delay factor": 11
                },
                "name": "MAC 1114",
                "nameCanonical": "",
                "nameSub": "Precalculus Trigonometry"
               },
               {
                "credits": 3,
                "curriculum_requisites": [
                 {
                  "source_id": 25855,
                  "target_id": 27685,
                  "type": "prereq"
                 }
                ],
                "id": 27685,
                "metrics": {
                 "blocking factor": 15,
                 "centrality": 154,
                 "complexity": 26,
                 "delay factor": 11
                },
                "name": "MAC 1140",
                "nameCanonical": "",
                "nameSub": "Precalculus Algebra"
               }
              ],
              "id": 3,
              "name": "Term 3"
             },
             {
              "curriculum_items": [
               {
                "credits": 4,
                "curriculum_requisites": [
                 {
                  "source_id": 25856,
                  "target_id": 24950,
                  "type": "prereq"
                 },
                 {
                  "source_id": 27685,
                  "target_id": 24950,
                  "type": "prereq"
                 }
                ],
                "id": 24950,
                "metrics": {
                 "blocking factor": 13,
                 "centrality": 226,
                 "complexity": 24,
                 "delay factor": 11
                },
                "name": "MAC 2281",
                "nameCanonical": "",
                "nameSub": "Engineering Calculus I"
               },
               {
                "credits": 3,
                "curriculum_requisites": [
                 {
                  "source_id": 26602,
                  "target_id": 25478,
                  "type": "prereq"
                 }
                ],
                "id": 25478,
                "metrics": {
                 "blocking factor": 2,
                 "centrality": 4,
                 "complexity": 6,
                 "delay factor": 4
                },
                "name": "CHM/CHS 2045/2440",
                "nameCanonical": "",
                "nameSub": "General Chemistry I/Chem for Engineers "
               },
               {
                "credits": 3,
                "curriculum_requisites": [],
                "id": 23525,
                "metrics": {
                 "blocking factor": 1,
                 "centrality": 0,
                 "complexity": 3,
                 "delay factor": 2
                },
                "name": "ENC 1101",
                "nameCanonical": "",
                "nameSub": "Composition I"
               },
               {
                "credits": 1,
                "curriculum_requisites": [],
                "id": 25479,
                "metrics": {
                 "blocking factor": 0,
                 "centrality": 0,
                 "complexity": 1,
                 "delay factor": 1
                },
                "name": "CHM/CHS 2045/2440L",
                "nameCanonical": "",
                "nameSub": "General Chemistry I/Chem for Engineers Laboratory"
               },
               {
                "credits": 3,
                "curriculum_requisites": [],
                "id": 23287,
                "metrics": {
                 "blocking factor": 0,
                 "centrality": 0,
                 "complexity": 1,
                 "delay factor": 1
                },
                "name": "EGN 3000L",
                "nameCanonical": "",
                "nameSub": "Foundations of Engineering Lab"
               },
               {
                "credits": 0,
                "curriculum_requisites": [],
                "id": 28172,
                "metrics": {
                 "blocking factor": 0,
                 "centrality": 0,
                 "complexity": 1,
                 "delay factor": 1
                },
                "name": "EGN 3000",
                "nameCanonical": "",
                "nameSub": "Foundations of Engineering"
               }
              ],
              "id": 4,
              "name": "Term 4"
             },
             {
              "curriculum_items": [
               {
                "credits": 4,
                "curriculum_requisites": [
                 {
                  "source_id": 24950,
                  "target_id": 24951,
                  "type": "prereq"
                 }
                ],
                "id": 24951,
                "metrics": {
                 "blocking factor": 10,
                 "centrality": 166,
                 "complexity": 21,
                 "delay factor": 11
                },
                "name": "MAC 2282",
                "nameCanonical": "",
                "nameSub": "Engineering Calculus II"
               },
               {
                "credits": 3,
                "curriculum_requisites": [
                 {
                  "source_id": 23525,
                  "target_id": 23526,
                  "type": "prereq"
                 }
                ],
                "id": 23526,
                "metrics": {
                 "blocking factor": 0,
                 "centrality": 0,
                 "complexity": 2,
                 "delay factor": 2
                },
                "name": "ENC 1102",
                "nameCanonical": "",
                "nameSub": "Composition II"
               },
               {
                "credits": 3,
                "curriculum_requisites": [
                 {
                  "source_id": 24950,
                  "target_id": 26014,
                  "type": "prereq"
                 }
                ],
                "id": 26014,
                "metrics": {
                 "blocking factor": 2,
                 "centrality": 41,
                 "complexity": 8,
                 "delay factor": 6
                },
                "name": "PHY 2048",
                "nameCanonical": "",
                "nameSub": "General Physics I - Calculus Based"
               },
               {
                "credits": 1,
                "curriculum_requisites": [
                 {
                  "source_id": 24950,
                  "target_id": 26015,
                  "type": "prereq"
                 }
                ],
                "id": 26015,
                "metrics": {
                 "blocking factor": 1,
                 "centrality": 19,
                 "complexity": 7,
                 "delay factor": 6
                },
                "name": "PHY 2048L",
                "nameCanonical": "",
                "nameSub": "General Physics I Laboratory"
               },
               {
                "credits": 3,
                "curriculum_requisites": [],
                "id": 23747,
                "metrics": {
                 "blocking factor": 1,
                 "centrality": 0,
                 "complexity": 3,
                 "delay factor": 2
                },
                "name": "EEL 3705",
                "nameCanonical": "",
                "nameSub": "Fundamentals of Digital Circuits"
               }
              ],
              "id": 5,
              "name": "Term 5"
             },
             {
              "curriculum_items": [
               {
                "credits": 4,
                "curriculum_requisites": [
                 {
                  "source_id": 24951,
                  "target_id": 24952,
                  "type": "prereq"
                 }
                ],
                "id": 24952,
                "metrics": {
                 "blocking factor": 7,
                 "centrality": 84,
                 "complexity": 18,
                 "delay factor": 11
                },
                "name": "MAC 2283",
                "nameCanonical": "",
                "nameSub": "Engineering Calculus III"
               },
               {
                "credits": 4,
                "curriculum_requisites": [
                 {
                  "source_id": 24951,
                  "target_id": 25357,
                  "type": "prereq"
                 }
                ],
                "id": 25357,
                "metrics": {
                 "blocking factor": 2,
                 "centrality": 44,
                 "complexity": 9,
                 "delay factor": 7
                },
                "name": "EGN 3420",
                "nameCanonical": "",
                "nameSub": "Engineering Analysis"
               },
               {
                "credits": 3,
                "curriculum_requisites": [
                 {
                  "source_id": 24952,
                  "target_id": 27967,
                  "type": "coreq"
                 },
                 {
                  "source_id": 26014,
                  "target_id": 27967,
                  "type": "prereq"
                 },
                 {
                  "source_id": 25478,
                  "target_id": 27967,
                  "type": "prereq"
                 }
                ],
                "id": 27967,
                "metrics": {
                 "blocking factor": 1,
                 "centrality": 51,
                 "complexity": 10,
                 "delay factor": 9
                },
                "name": "EEE 3394",
                "nameCanonical": "",
                "nameSub": "Electrical Engineering Science I - Electronic Materials"
               },
               {
                "credits": 1,
                "curriculum_requisites": [
                 {
                  "source_id": 23747,
                  "target_id": 26896,
                  "type": "prereq"
                 }
                ],
                "id": 26896,
                "metrics": {
                 "blocking factor": 0,
                 "centrality": 0,
                 "complexity": 2,
                 "delay factor": 2
                },
                "name": "EEL 3705L",
                "nameCanonical": "",
                "nameSub": "Fundamentals of Digital Circuits Laboratory"
               },
               {
                "credits": 3,
                "curriculum_requisites": [],
                "id": 4,
                "metrics": {
                 "blocking factor": 0,
                 "centrality": 0,
                 "complexity": 1,
                 "delay factor": 1
                },
                "name": "SGEH ",
                "nameCanonical": "",
                "nameSub": "State Humanities Gen Ed"
               }
              ],
              "id": 6,
              "name": "Term 6"
             },
             {
              "curriculum_items": [
               {
                "credits": 3,
                "curriculum_requisites": [
                 {
                  "source_id": 24959,
                  "target_id": 25981,
                  "type": "coreq"
                 }
                ],
                "id": 25981,
                "metrics": {
                 "blocking factor": 3,
                 "centrality": 59,
                 "complexity": 14,
                 "delay factor": 11
                },
                "name": "EGN 3373",
                "nameCanonical": "",
                "nameSub": "Introduction to Electrical Systems I"
               },
               {
                "credits": 3,
                "curriculum_requisites": [
                 {
                  "source_id": 24952,
                  "target_id": 24959,
                  "type": "prereq"
                 }
                ],
                "id": 24959,
                "metrics": {
                 "blocking factor": 4,
                 "centrality": 59,
                 "complexity": 15,
                 "delay factor": 11
                },
                "name": "MAP 2302",
                "nameCanonical": "",
                "nameSub": "Differential Equations"
               },
               {
                "credits": 4,
                "curriculum_requisites": [
                 {
                  "source_id": 24951,
                  "target_id": 29920,
                  "type": "prereq"
                 },
                 {
                  "source_id": 25357,
                  "target_id": 29920,
                  "type": "prereq"
                 },
                 {
                  "source_id": 27967,
                  "target_id": 29920,
                  "type": "prereq"
                 },
                 {
                  "source_id": 26014,
                  "target_id": 29920,
                  "type": "prereq"
                 },
                 {
                  "source_id": 26015,
                  "target_id": 29920,
                  "type": "prereq"
                 }
                ],
                "id": 29920,
                "metrics": {
                 "blocking factor": 0,
                 "centrality": 0,
                 "complexity": 9,
                 "delay factor": 9
                },
                "name": "EEL/PHY 3472C/2049 + 2049L",
                "nameCanonical": "",
                "nameSub": "Electrical Engineering Science II - Electromagnetics/Physics II + Lab"
               },
               {
                "credits": 3,
                "curriculum_requisites": [],
                "id": 24974,
                "metrics": {
                 "blocking factor": 1,
                 "centrality": 0,
                 "complexity": 3,
                 "delay factor": 2
                },
                "name": "EEL 2161",
                "nameCanonical": "",
                "nameSub": "Programming with C"
               },
               {
                "credits": 1,
                "curriculum_requisites": [],
                "id": 6,
                "metrics": {
                 "blocking factor": 2,
                 "centrality": 0,
                 "complexity": 5,
                 "delay factor": 3
                },
                "name": "EGS 2070",
                "nameCanonical": "",
                "nameSub": "Professional Formation of Engineers I"
               }
              ],
              "id": 7,
              "name": "Term 7"
             },
             {
              "curriculum_items": [
               {
                "credits": 3,
                "curriculum_requisites": [
                 {
                  "source_id": 25981,
                  "target_id": 27018,
                  "type": "prereq"
                 }
                ],
                "id": 27018,
                "metrics": {
                 "blocking factor": 1,
                 "centrality": 31,
                 "complexity": 12,
                 "delay factor": 11
                },
                "name": "EGN 3374",
                "nameCanonical": "",
                "nameSub": "Introduction to Electrical Systems II"
               },
               {
                "credits": 3,
                "curriculum_requisites": [
                 {
                  "source_id": 24951,
                  "target_id": 25983,
                  "type": "prereq"
                 }
                ],
                "id": 25983,
                "metrics": {
                 "blocking factor": 0,
                 "centrality": 0,
                 "complexity": 7,
                 "delay factor": 7
                },
                "name": "EGN 3443",
                "nameCanonical": "",
                "nameSub": "Probability and Statistics for Engineers"
               },
               {
                "credits": 3,
                "curriculum_requisites": [],
                "id": 24859,
                "metrics": {
                 "blocking factor": 0,
                 "centrality": 0,
                 "complexity": 1,
                 "delay factor": 1
                },
                "name": "EGN 3615",
                "nameCanonical": "",
                "nameSub": "Engineering Economics with Social and Global Implications"
               }
              ],
              "id": 8,
              "name": "Term 8"
             },
             {
              "curriculum_items": [
               {
                "credits": 1,
                "curriculum_requisites": [
                 {
                  "source_id": 25981,
                  "target_id": 26911,
                  "type": "prereq"
                 }
                ],
                "id": 26911,
                "metrics": {
                 "blocking factor": 0,
                 "centrality": 0,
                 "complexity": 10,
                 "delay factor": 10
                },
                "name": "EEL 3115L",
                "nameCanonical": "",
                "nameSub": "Laboratory I"
               },
               {
                "credits": 3,
                "curriculum_requisites": [],
                "id": 9,
                "metrics": {
                 "blocking factor": 0,
                 "centrality": 0,
                 "complexity": 1,
                 "delay factor": 1
                },
                "name": " ",
                "nameCanonical": "",
                "nameSub": "EE Core Technical Elective"
               },
               {
                "credits": 3,
                "curriculum_requisites": [],
                "id": 10,
                "metrics": {
                 "blocking factor": 0,
                 "centrality": 0,
                 "complexity": 1,
                 "delay factor": 1
                },
                "name": " ",
                "nameCanonical": "",
                "nameSub": "EE Core Technical Elective"
               },
               {
                "credits": 3,
                "curriculum_requisites": [
                 {
                  "source_id": 27018,
                  "target_id": 25885,
                  "type": "prereq"
                 },
                 {
                  "source_id": 25357,
                  "target_id": 25885,
                  "type": "prereq"
                 }
                ],
                "id": 25885,
                "metrics": {
                 "blocking factor": 0,
                 "centrality": 0,
                 "complexity": 11,
                 "delay factor": 11
                },
                "name": "EEL 4102",
                "nameCanonical": "",
                "nameSub": "Signals and Systems"
               },
               {
                "credits": 1,
                "curriculum_requisites": [
                 {
                  "source_id": 24974,
                  "target_id": 29988,
                  "type": "prereq"
                 }
                ],
                "id": 29988,
                "metrics": {
                 "blocking factor": 0,
                 "centrality": 0,
                 "complexity": 2,
                 "delay factor": 2
                },
                "name": "EEL 3163C",
                "nameCanonical": "",
                "nameSub": "Computer Tool Lab"
               },
               {
                "credits": 3,
                "curriculum_requisites": [],
                "id": 27719,
                "metrics": {
                 "blocking factor": 0,
                 "centrality": 0,
                 "complexity": 1,
                 "delay factor": 1
                },
                "name": "ENC 3246",
                "nameCanonical": "",
                "nameSub": "Communication for Engineers"
               },
               {
                "credits": 1,
                "curriculum_requisites": [
                 {
                  "source_id": 6,
                  "target_id": 11,
                  "type": "prereq"
                 }
                ],
                "id": 11,
                "metrics": {
                 "blocking factor": 1,
                 "centrality": 3,
                 "complexity": 4,
                 "delay factor": 3
                },
                "name": "EGS 3071",
                "nameCanonical": "",
                "nameSub": "Professional Formation of Engineers II"
               }
              ],
              "id": 9,
              "name": "Term 9"
             },
             {
              "curriculum_items": [
               {
                "credits": 3,
                "curriculum_requisites": [],
                "id": 12,
                "metrics": {
                 "blocking factor": 0,
                 "centrality": 0,
                 "complexity": 1,
                 "delay factor": 1
                },
                "name": " ",
                "nameCanonical": "",
                "nameSub": "EE Core Technical Elective"
               },
               {
                "credits": 3,
                "curriculum_requisites": [],
                "id": 13,
                "metrics": {
                 "blocking factor": 0,
                 "centrality": 0,
                 "complexity": 1,
                 "delay factor": 1
                },
                "name": " ",
                "nameCanonical": "",
                "nameSub": "EE Core Technical Elective"
               },
               {
                "credits": 3,
                "curriculum_requisites": [],
                "id": 14,
                "metrics": {
                 "blocking factor": 0,
                 "centrality": 0,
                 "complexity": 1,
                 "delay factor": 1
                },
                "name": " ",
                "nameCanonical": "",
                "nameSub": "EE Track Elective"
               },
               {
                "credits": 3,
                "curriculum_requisites": [],
                "id": 15,
                "metrics": {
                 "blocking factor": 0,
                 "centrality": 0,
                 "complexity": 1,
                 "delay factor": 1
                },
                "name": " ",
                "nameCanonical": "",
                "nameSub": "EE Track Elective"
               },
               {
                "credits": 1,
                "curriculum_requisites": [],
                "id": 16,
                "metrics": {
                 "blocking factor": 0,
                 "centrality": 0,
                 "complexity": 1,
                 "delay factor": 1
                },
                "name": " ",
                "nameCanonical": "",
                "nameSub": "EE Track Elective Lab"
               },
               {
                "credits": 1,
                "curriculum_requisites": [
                 {
                  "source_id": 11,
                  "target_id": 17,
                  "type": "prereq"
                 }
                ],
                "id": 17,
                "metrics": {
                 "blocking factor": 0,
                 "centrality": 0,
                 "complexity": 3,
                 "delay factor": 3
                },
                "name": "EGS 3072",
                "nameCanonical": "",
                "nameSub": "Professional Formation of Engineers III"
               },
               {
                "credits": 1,
                "curriculum_requisites": [],
                "id": 18,
                "metrics": {
                 "blocking factor": 0,
                 "centrality": 0,
                 "complexity": 1,
                 "delay factor": 1
                },
                "name": " ",
                "nameCanonical": "",
                "nameSub": "Upper-Level Department Elective Lab"
               }
              ],
              "id": 10,
              "name": "Term 10"
             },
             {
              "curriculum_items": [
               {
                "credits": 0,
                "curriculum_requisites": [],
                "id": 20,
                "metrics": {
                 "blocking factor": 0,
                 "centrality": 0,
                 "complexity": 1,
                 "delay factor": 1
                },
                "name": " ",
                "nameCanonical": "",
                "nameSub": "Internship/Co-op Participation"
               }
              ],
              "id": 11,
              "name": "Term 11"
             },
             {
              "curriculum_items": [
               {
                "credits": 3,
                "curriculum_requisites": [],
                "id": 26904,
                "metrics": {
                 "blocking factor": 1,
                 "centrality": 0,
                 "complexity": 3,
                 "delay factor": 2
                },
                "name": "EEL 4906",
                "nameCanonical": "",
                "nameSub": "EE Design 1"
               },
               {
                "credits": 3,
                "curriculum_requisites": [],
                "id": 21,
                "metrics": {
                 "blocking factor": 0,
                 "centrality": 0,
                 "complexity": 1,
                 "delay factor": 1
                },
                "name": " ",
                "nameCanonical": "",
                "nameSub": "Upper-Level Department Elective"
               },
               {
                "credits": 3,
                "curriculum_requisites": [],
                "id": 22,
                "metrics": {
                 "blocking factor": 0,
                 "centrality": 0,
                 "complexity": 1,
                 "delay factor": 1
                },
                "name": " ",
                "nameCanonical": "",
                "nameSub": "EE Track Elective"
               },
               {
                "credits": 3,
                "curriculum_requisites": [],
                "id": 23,
                "metrics": {
                 "blocking factor": 0,
                 "centrality": 0,
                 "complexity": 1,
                 "delay factor": 1
                },
                "name": " ",
                "nameCanonical": "",
                "nameSub": "EE Track Elective"
               },
               {
                "credits": 1,
                "curriculum_requisites": [],
                "id": 24,
                "metrics": {
                 "blocking factor": 0,
                 "centrality": 0,
                 "complexity": 1,
                 "delay factor": 1
                },
                "name": " ",
                "nameCanonical": "",
                "nameSub": "EE Track Elective Lab"
               },
               {
                "credits": 3,
                "curriculum_requisites": [],
                "id": 25,
                "metrics": {
                 "blocking factor": 0,
                 "centrality": 0,
                 "complexity": 1,
                 "delay factor": 1
                },
                "name": " ",
                "nameCanonical": "",
                "nameSub": "Upper-Level Department Elective"
               }
              ],
              "id": 12,
              "name": "Term 12"
             },
             {
              "curriculum_items": [
               {
                "credits": 3,
                "curriculum_requisites": [
                 {
                  "source_id": 26904,
                  "target_id": 27855,
                  "type": "prereq"
                 }
                ],
                "id": 27855,
                "metrics": {
                 "blocking factor": 0,
                 "centrality": 0,
                 "complexity": 2,
                 "delay factor": 2
                },
                "name": "EEL 4914",
                "nameCanonical": "",
                "nameSub": "EE Design 2"
               },
               {
                "credits": 3,
                "curriculum_requisites": [],
                "id": 27,
                "metrics": {
                 "blocking factor": 0,
                 "centrality": 0,
                 "complexity": 1,
                 "delay factor": 1
                },
                "name": " ",
                "nameCanonical": "",
                "nameSub": "Upper-Level Department Elective"
               },
               {
                "credits": 3,
                "curriculum_requisites": [],
                "id": 28,
                "metrics": {
                 "blocking factor": 0,
                 "centrality": 0,
                 "complexity": 1,
                 "delay factor": 1
                },
                "name": " ",
                "nameCanonical": "",
                "nameSub": "Upper-Level Department Elective"
               },
               {
                "credits": 3,
                "curriculum_requisites": [],
                "id": 29,
                "metrics": {
                 "blocking factor": 0,
                 "centrality": 0,
                 "complexity": 1,
                 "delay factor": 1
                },
                "name": " ",
                "nameCanonical": "",
                "nameSub": "General Elective"
               },
               {
                "credits": 1,
                "curriculum_requisites": [],
                "id": 30,
                "metrics": {
                 "blocking factor": 0,
                 "centrality": 0,
                 "complexity": 1,
                 "delay factor": 1
                },
                "name": " ",
                "nameCanonical": "",
                "nameSub": "General Elective"
               },
               {
                "credits": 3,
                "curriculum_requisites": [],
                "id": 31,
                "metrics": {
                 "blocking factor": 0,
                 "centrality": 0,
                 "complexity": 1,
                 "delay factor": 1
                },
                "name": "SGES ",
                "nameCanonical": "",
                "nameSub": "State Social Science Gen Ed"
               }
              ],
              "id": 13,
              "name": "Term 13"
             }
            ],
            "dp_name": "EEL-NOT CALCorCHM ready-MAC1114&1140",
            "institution": "USF",
            "name": "BSEE-Electrical Engineering"
           },
           "options": {
            "edit": false,
            "hideTerms": false
           }
          }
         }
        },
        "systemjs_options": null
       },
       "nodeType": "Scope",
       "props": {},
       "type": "node"
      },
      "text/html": [
       "<div\n",
       "    class=\"webio-mountpoint\"\n",
       "    data-webio-mountpoint=\"15834043643207626363\"\n",
       ">\n",
       "    <script>\n",
       "    if (window.require && require.defined && require.defined(\"nbextensions/webio-jupyter-notebook\")) {\n",
       "        console.log(\"Jupyter WebIO extension detected, not mounting.\");\n",
       "    } else if (window.WebIO) {\n",
       "        WebIO.mount(\n",
       "            document.querySelector('[data-webio-mountpoint=\"15834043643207626363\"]'),\n",
       "            {\"props\":{},\"nodeType\":\"Scope\",\"type\":\"node\",\"instanceArgs\":{\"imports\":{\"data\":[],\"type\":\"async_block\"},\"id\":\"3936003754690179936\",\"handlers\":{},\"systemjs_options\":null,\"mount_callbacks\":[],\"observables\":{\"curriculum-data\":{\"sync\":true,\"id\":\"ob_02\",\"value\":{\"options\":{\"hideTerms\":false,\"edit\":false},\"curriculum\":{\"name\":\"BSEE-Electrical Engineering\",\"dp_name\":\"EEL-NOT CALCorCHM ready-MAC1114&1140\",\"curriculum_terms\":[{\"name\":\"Term 1\",\"curriculum_items\":[{\"curriculum_requisites\":[],\"name\":\"CHM 2023\",\"metrics\":{\"complexity\":7.0,\"centrality\":0,\"blocking factor\":3,\"delay factor\":4.0},\"nameSub\":\"Chemistry for Today\",\"id\":26602,\"credits\":3,\"nameCanonical\":\"\"},{\"curriculum_requisites\":[],\"name\":\"MAT 1033\",\"metrics\":{\"complexity\":28.0,\"centrality\":0,\"blocking factor\":17,\"delay factor\":11.0},\"nameSub\":\"Intermediate Algebra\",\"id\":28218,\"credits\":3,\"nameCanonical\":\"\"}],\"id\":1},{\"name\":\"Term 2\",\"curriculum_items\":[{\"curriculum_requisites\":[{\"source_id\":28218,\"target_id\":25855,\"type\":\"prereq\"}],\"name\":\"MAC 1105\",\"metrics\":{\"complexity\":27.0,\"centrality\":226,\"blocking factor\":16,\"delay factor\":11.0},\"nameSub\":\"College Algebra\",\"id\":25855,\"credits\":3,\"nameCanonical\":\"\"}],\"id\":2},{\"name\":\"Term 3\",\"curriculum_items\":[{\"curriculum_requisites\":[{\"source_id\":25855,\"target_id\":25856,\"type\":\"prereq\"},{\"source_id\":27685,\"target_id\":25856,\"type\":\"coreq\"}],\"name\":\"MAC 1114\",\"metrics\":{\"complexity\":25.0,\"centrality\":154,\"blocking factor\":14,\"delay factor\":11.0},\"nameSub\":\"Precalculus Trigonometry\",\"id\":25856,\"credits\":2,\"nameCanonical\":\"\"},{\"curriculum_requisites\":[{\"source_id\":25855,\"target_id\":27685,\"type\":\"prereq\"}],\"name\":\"MAC 1140\",\"metrics\":{\"complexity\":26.0,\"centrality\":154,\"blocking factor\":15,\"delay factor\":11.0},\"nameSub\":\"Precalculus Algebra\",\"id\":27685,\"credits\":3,\"nameCanonical\":\"\"}],\"id\":3},{\"name\":\"Term 4\",\"curriculum_items\":[{\"curriculum_requisites\":[{\"source_id\":25856,\"target_id\":24950,\"type\":\"prereq\"},{\"source_id\":27685,\"target_id\":24950,\"type\":\"prereq\"}],\"name\":\"MAC 2281\",\"metrics\":{\"complexity\":24.0,\"centrality\":226,\"blocking factor\":13,\"delay factor\":11.0},\"nameSub\":\"Engineering Calculus I\",\"id\":24950,\"credits\":4,\"nameCanonical\":\"\"},{\"curriculum_requisites\":[{\"source_id\":26602,\"target_id\":25478,\"type\":\"prereq\"}],\"name\":\"CHM\\/CHS 2045\\/2440\",\"metrics\":{\"complexity\":6.0,\"centrality\":4,\"blocking factor\":2,\"delay factor\":4.0},\"nameSub\":\"General Chemistry I\\/Chem for Engineers \",\"id\":25478,\"credits\":3,\"nameCanonical\":\"\"},{\"curriculum_requisites\":[],\"name\":\"ENC 1101\",\"metrics\":{\"complexity\":3.0,\"centrality\":0,\"blocking factor\":1,\"delay factor\":2.0},\"nameSub\":\"Composition I\",\"id\":23525,\"credits\":3,\"nameCanonical\":\"\"},{\"curriculum_requisites\":[],\"name\":\"CHM\\/CHS 2045\\/2440L\",\"metrics\":{\"complexity\":1.0,\"centrality\":0,\"blocking factor\":0,\"delay factor\":1.0},\"nameSub\":\"General Chemistry I\\/Chem for Engineers Laboratory\",\"id\":25479,\"credits\":1,\"nameCanonical\":\"\"},{\"curriculum_requisites\":[],\"name\":\"EGN 3000L\",\"metrics\":{\"complexity\":1.0,\"centrality\":0,\"blocking factor\":0,\"delay factor\":1.0},\"nameSub\":\"Foundations of Engineering Lab\",\"id\":23287,\"credits\":3,\"nameCanonical\":\"\"},{\"curriculum_requisites\":[],\"name\":\"EGN 3000\",\"metrics\":{\"complexity\":1.0,\"centrality\":0,\"blocking factor\":0,\"delay factor\":1.0},\"nameSub\":\"Foundations of Engineering\",\"id\":28172,\"credits\":0,\"nameCanonical\":\"\"}],\"id\":4},{\"name\":\"Term 5\",\"curriculum_items\":[{\"curriculum_requisites\":[{\"source_id\":24950,\"target_id\":24951,\"type\":\"prereq\"}],\"name\":\"MAC 2282\",\"metrics\":{\"complexity\":21.0,\"centrality\":166,\"blocking factor\":10,\"delay factor\":11.0},\"nameSub\":\"Engineering Calculus II\",\"id\":24951,\"credits\":4,\"nameCanonical\":\"\"},{\"curriculum_requisites\":[{\"source_id\":23525,\"target_id\":23526,\"type\":\"prereq\"}],\"name\":\"ENC 1102\",\"metrics\":{\"complexity\":2.0,\"centrality\":0,\"blocking factor\":0,\"delay factor\":2.0},\"nameSub\":\"Composition II\",\"id\":23526,\"credits\":3,\"nameCanonical\":\"\"},{\"curriculum_requisites\":[{\"source_id\":24950,\"target_id\":26014,\"type\":\"prereq\"}],\"name\":\"PHY 2048\",\"metrics\":{\"complexity\":8.0,\"centrality\":41,\"blocking factor\":2,\"delay factor\":6.0},\"nameSub\":\"General Physics I - Calculus Based\",\"id\":26014,\"credits\":3,\"nameCanonical\":\"\"},{\"curriculum_requisites\":[{\"source_id\":24950,\"target_id\":26015,\"type\":\"prereq\"}],\"name\":\"PHY 2048L\",\"metrics\":{\"complexity\":7.0,\"centrality\":19,\"blocking factor\":1,\"delay factor\":6.0},\"nameSub\":\"General Physics I Laboratory\",\"id\":26015,\"credits\":1,\"nameCanonical\":\"\"},{\"curriculum_requisites\":[],\"name\":\"EEL 3705\",\"metrics\":{\"complexity\":3.0,\"centrality\":0,\"blocking factor\":1,\"delay factor\":2.0},\"nameSub\":\"Fundamentals of Digital Circuits\",\"id\":23747,\"credits\":3,\"nameCanonical\":\"\"}],\"id\":5},{\"name\":\"Term 6\",\"curriculum_items\":[{\"curriculum_requisites\":[{\"source_id\":24951,\"target_id\":24952,\"type\":\"prereq\"}],\"name\":\"MAC 2283\",\"metrics\":{\"complexity\":18.0,\"centrality\":84,\"blocking factor\":7,\"delay factor\":11.0},\"nameSub\":\"Engineering Calculus III\",\"id\":24952,\"credits\":4,\"nameCanonical\":\"\"},{\"curriculum_requisites\":[{\"source_id\":24951,\"target_id\":25357,\"type\":\"prereq\"}],\"name\":\"EGN 3420\",\"metrics\":{\"complexity\":9.0,\"centrality\":44,\"blocking factor\":2,\"delay factor\":7.0},\"nameSub\":\"Engineering Analysis\",\"id\":25357,\"credits\":4,\"nameCanonical\":\"\"},{\"curriculum_requisites\":[{\"source_id\":24952,\"target_id\":27967,\"type\":\"coreq\"},{\"source_id\":26014,\"target_id\":27967,\"type\":\"prereq\"},{\"source_id\":25478,\"target_id\":27967,\"type\":\"prereq\"}],\"name\":\"EEE 3394\",\"metrics\":{\"complexity\":10.0,\"centrality\":51,\"blocking factor\":1,\"delay factor\":9.0},\"nameSub\":\"Electrical Engineering Science I - Electronic Materials\",\"id\":27967,\"credits\":3,\"nameCanonical\":\"\"},{\"curriculum_requisites\":[{\"source_id\":23747,\"target_id\":26896,\"type\":\"prereq\"}],\"name\":\"EEL 3705L\",\"metrics\":{\"complexity\":2.0,\"centrality\":0,\"blocking factor\":0,\"delay factor\":2.0},\"nameSub\":\"Fundamentals of Digital Circuits Laboratory\",\"id\":26896,\"credits\":1,\"nameCanonical\":\"\"},{\"curriculum_requisites\":[],\"name\":\"SGEH \",\"metrics\":{\"complexity\":1.0,\"centrality\":0,\"blocking factor\":0,\"delay factor\":1.0},\"nameSub\":\"State Humanities Gen Ed\",\"id\":4,\"credits\":3,\"nameCanonical\":\"\"}],\"id\":6},{\"name\":\"Term 7\",\"curriculum_items\":[{\"curriculum_requisites\":[{\"source_id\":24959,\"target_id\":25981,\"type\":\"coreq\"}],\"name\":\"EGN 3373\",\"metrics\":{\"complexity\":14.0,\"centrality\":59,\"blocking factor\":3,\"delay factor\":11.0},\"nameSub\":\"Introduction to Electrical Systems I\",\"id\":25981,\"credits\":3,\"nameCanonical\":\"\"},{\"curriculum_requisites\":[{\"source_id\":24952,\"target_id\":24959,\"type\":\"prereq\"}],\"name\":\"MAP 2302\",\"metrics\":{\"complexity\":15.0,\"centrality\":59,\"blocking factor\":4,\"delay factor\":11.0},\"nameSub\":\"Differential Equations\",\"id\":24959,\"credits\":3,\"nameCanonical\":\"\"},{\"curriculum_requisites\":[{\"source_id\":24951,\"target_id\":29920,\"type\":\"prereq\"},{\"source_id\":25357,\"target_id\":29920,\"type\":\"prereq\"},{\"source_id\":27967,\"target_id\":29920,\"type\":\"prereq\"},{\"source_id\":26014,\"target_id\":29920,\"type\":\"prereq\"},{\"source_id\":26015,\"target_id\":29920,\"type\":\"prereq\"}],\"name\":\"EEL\\/PHY 3472C\\/2049 + 2049L\",\"metrics\":{\"complexity\":9.0,\"centrality\":0,\"blocking factor\":0,\"delay factor\":9.0},\"nameSub\":\"Electrical Engineering Science II - Electromagnetics\\/Physics II + Lab\",\"id\":29920,\"credits\":4,\"nameCanonical\":\"\"},{\"curriculum_requisites\":[],\"name\":\"EEL 2161\",\"metrics\":{\"complexity\":3.0,\"centrality\":0,\"blocking factor\":1,\"delay factor\":2.0},\"nameSub\":\"Programming with C\",\"id\":24974,\"credits\":3,\"nameCanonical\":\"\"},{\"curriculum_requisites\":[],\"name\":\"EGS 2070\",\"metrics\":{\"complexity\":5.0,\"centrality\":0,\"blocking factor\":2,\"delay factor\":3.0},\"nameSub\":\"Professional Formation of Engineers I\",\"id\":6,\"credits\":1,\"nameCanonical\":\"\"}],\"id\":7},{\"name\":\"Term 8\",\"curriculum_items\":[{\"curriculum_requisites\":[{\"source_id\":25981,\"target_id\":27018,\"type\":\"prereq\"}],\"name\":\"EGN 3374\",\"metrics\":{\"complexity\":12.0,\"centrality\":31,\"blocking factor\":1,\"delay factor\":11.0},\"nameSub\":\"Introduction to Electrical Systems II\",\"id\":27018,\"credits\":3,\"nameCanonical\":\"\"},{\"curriculum_requisites\":[{\"source_id\":24951,\"target_id\":25983,\"type\":\"prereq\"}],\"name\":\"EGN 3443\",\"metrics\":{\"complexity\":7.0,\"centrality\":0,\"blocking factor\":0,\"delay factor\":7.0},\"nameSub\":\"Probability and Statistics for Engineers\",\"id\":25983,\"credits\":3,\"nameCanonical\":\"\"},{\"curriculum_requisites\":[],\"name\":\"EGN 3615\",\"metrics\":{\"complexity\":1.0,\"centrality\":0,\"blocking factor\":0,\"delay factor\":1.0},\"nameSub\":\"Engineering Economics with Social and Global Implications\",\"id\":24859,\"credits\":3,\"nameCanonical\":\"\"}],\"id\":8},{\"name\":\"Term 9\",\"curriculum_items\":[{\"curriculum_requisites\":[{\"source_id\":25981,\"target_id\":26911,\"type\":\"prereq\"}],\"name\":\"EEL 3115L\",\"metrics\":{\"complexity\":10.0,\"centrality\":0,\"blocking factor\":0,\"delay factor\":10.0},\"nameSub\":\"Laboratory I\",\"id\":26911,\"credits\":1,\"nameCanonical\":\"\"},{\"curriculum_requisites\":[],\"name\":\" \",\"metrics\":{\"complexity\":1.0,\"centrality\":0,\"blocking factor\":0,\"delay factor\":1.0},\"nameSub\":\"EE Core Technical Elective\",\"id\":9,\"credits\":3,\"nameCanonical\":\"\"},{\"curriculum_requisites\":[],\"name\":\" \",\"metrics\":{\"complexity\":1.0,\"centrality\":0,\"blocking factor\":0,\"delay factor\":1.0},\"nameSub\":\"EE Core Technical Elective\",\"id\":10,\"credits\":3,\"nameCanonical\":\"\"},{\"curriculum_requisites\":[{\"source_id\":27018,\"target_id\":25885,\"type\":\"prereq\"},{\"source_id\":25357,\"target_id\":25885,\"type\":\"prereq\"}],\"name\":\"EEL 4102\",\"metrics\":{\"complexity\":11.0,\"centrality\":0,\"blocking factor\":0,\"delay factor\":11.0},\"nameSub\":\"Signals and Systems\",\"id\":25885,\"credits\":3,\"nameCanonical\":\"\"},{\"curriculum_requisites\":[{\"source_id\":24974,\"target_id\":29988,\"type\":\"prereq\"}],\"name\":\"EEL 3163C\",\"metrics\":{\"complexity\":2.0,\"centrality\":0,\"blocking factor\":0,\"delay factor\":2.0},\"nameSub\":\"Computer Tool Lab\",\"id\":29988,\"credits\":1,\"nameCanonical\":\"\"},{\"curriculum_requisites\":[],\"name\":\"ENC 3246\",\"metrics\":{\"complexity\":1.0,\"centrality\":0,\"blocking factor\":0,\"delay factor\":1.0},\"nameSub\":\"Communication for Engineers\",\"id\":27719,\"credits\":3,\"nameCanonical\":\"\"},{\"curriculum_requisites\":[{\"source_id\":6,\"target_id\":11,\"type\":\"prereq\"}],\"name\":\"EGS 3071\",\"metrics\":{\"complexity\":4.0,\"centrality\":3,\"blocking factor\":1,\"delay factor\":3.0},\"nameSub\":\"Professional Formation of Engineers II\",\"id\":11,\"credits\":1,\"nameCanonical\":\"\"}],\"id\":9},{\"name\":\"Term 10\",\"curriculum_items\":[{\"curriculum_requisites\":[],\"name\":\" \",\"metrics\":{\"complexity\":1.0,\"centrality\":0,\"blocking factor\":0,\"delay factor\":1.0},\"nameSub\":\"EE Core Technical Elective\",\"id\":12,\"credits\":3,\"nameCanonical\":\"\"},{\"curriculum_requisites\":[],\"name\":\" \",\"metrics\":{\"complexity\":1.0,\"centrality\":0,\"blocking factor\":0,\"delay factor\":1.0},\"nameSub\":\"EE Core Technical Elective\",\"id\":13,\"credits\":3,\"nameCanonical\":\"\"},{\"curriculum_requisites\":[],\"name\":\" \",\"metrics\":{\"complexity\":1.0,\"centrality\":0,\"blocking factor\":0,\"delay factor\":1.0},\"nameSub\":\"EE Track Elective\",\"id\":14,\"credits\":3,\"nameCanonical\":\"\"},{\"curriculum_requisites\":[],\"name\":\" \",\"metrics\":{\"complexity\":1.0,\"centrality\":0,\"blocking factor\":0,\"delay factor\":1.0},\"nameSub\":\"EE Track Elective\",\"id\":15,\"credits\":3,\"nameCanonical\":\"\"},{\"curriculum_requisites\":[],\"name\":\" \",\"metrics\":{\"complexity\":1.0,\"centrality\":0,\"blocking factor\":0,\"delay factor\":1.0},\"nameSub\":\"EE Track Elective Lab\",\"id\":16,\"credits\":1,\"nameCanonical\":\"\"},{\"curriculum_requisites\":[{\"source_id\":11,\"target_id\":17,\"type\":\"prereq\"}],\"name\":\"EGS 3072\",\"metrics\":{\"complexity\":3.0,\"centrality\":0,\"blocking factor\":0,\"delay factor\":3.0},\"nameSub\":\"Professional Formation of Engineers III\",\"id\":17,\"credits\":1,\"nameCanonical\":\"\"},{\"curriculum_requisites\":[],\"name\":\" \",\"metrics\":{\"complexity\":1.0,\"centrality\":0,\"blocking factor\":0,\"delay factor\":1.0},\"nameSub\":\"Upper-Level Department Elective Lab\",\"id\":18,\"credits\":1,\"nameCanonical\":\"\"}],\"id\":10},{\"name\":\"Term 11\",\"curriculum_items\":[{\"curriculum_requisites\":[],\"name\":\" \",\"metrics\":{\"complexity\":1.0,\"centrality\":0,\"blocking factor\":0,\"delay factor\":1.0},\"nameSub\":\"Internship\\/Co-op Participation\",\"id\":20,\"credits\":0,\"nameCanonical\":\"\"}],\"id\":11},{\"name\":\"Term 12\",\"curriculum_items\":[{\"curriculum_requisites\":[],\"name\":\"EEL 4906\",\"metrics\":{\"complexity\":3.0,\"centrality\":0,\"blocking factor\":1,\"delay factor\":2.0},\"nameSub\":\"EE Design 1\",\"id\":26904,\"credits\":3,\"nameCanonical\":\"\"},{\"curriculum_requisites\":[],\"name\":\" \",\"metrics\":{\"complexity\":1.0,\"centrality\":0,\"blocking factor\":0,\"delay factor\":1.0},\"nameSub\":\"Upper-Level Department Elective\",\"id\":21,\"credits\":3,\"nameCanonical\":\"\"},{\"curriculum_requisites\":[],\"name\":\" \",\"metrics\":{\"complexity\":1.0,\"centrality\":0,\"blocking factor\":0,\"delay factor\":1.0},\"nameSub\":\"EE Track Elective\",\"id\":22,\"credits\":3,\"nameCanonical\":\"\"},{\"curriculum_requisites\":[],\"name\":\" \",\"metrics\":{\"complexity\":1.0,\"centrality\":0,\"blocking factor\":0,\"delay factor\":1.0},\"nameSub\":\"EE Track Elective\",\"id\":23,\"credits\":3,\"nameCanonical\":\"\"},{\"curriculum_requisites\":[],\"name\":\" \",\"metrics\":{\"complexity\":1.0,\"centrality\":0,\"blocking factor\":0,\"delay factor\":1.0},\"nameSub\":\"EE Track Elective Lab\",\"id\":24,\"credits\":1,\"nameCanonical\":\"\"},{\"curriculum_requisites\":[],\"name\":\" \",\"metrics\":{\"complexity\":1.0,\"centrality\":0,\"blocking factor\":0,\"delay factor\":1.0},\"nameSub\":\"Upper-Level Department Elective\",\"id\":25,\"credits\":3,\"nameCanonical\":\"\"}],\"id\":12},{\"name\":\"Term 13\",\"curriculum_items\":[{\"curriculum_requisites\":[{\"source_id\":26904,\"target_id\":27855,\"type\":\"prereq\"}],\"name\":\"EEL 4914\",\"metrics\":{\"complexity\":2.0,\"centrality\":0,\"blocking factor\":0,\"delay factor\":2.0},\"nameSub\":\"EE Design 2\",\"id\":27855,\"credits\":3,\"nameCanonical\":\"\"},{\"curriculum_requisites\":[],\"name\":\" \",\"metrics\":{\"complexity\":1.0,\"centrality\":0,\"blocking factor\":0,\"delay factor\":1.0},\"nameSub\":\"Upper-Level Department Elective\",\"id\":27,\"credits\":3,\"nameCanonical\":\"\"},{\"curriculum_requisites\":[],\"name\":\" \",\"metrics\":{\"complexity\":1.0,\"centrality\":0,\"blocking factor\":0,\"delay factor\":1.0},\"nameSub\":\"Upper-Level Department Elective\",\"id\":28,\"credits\":3,\"nameCanonical\":\"\"},{\"curriculum_requisites\":[],\"name\":\" \",\"metrics\":{\"complexity\":1.0,\"centrality\":0,\"blocking factor\":0,\"delay factor\":1.0},\"nameSub\":\"General Elective\",\"id\":29,\"credits\":3,\"nameCanonical\":\"\"},{\"curriculum_requisites\":[],\"name\":\" \",\"metrics\":{\"complexity\":1.0,\"centrality\":0,\"blocking factor\":0,\"delay factor\":1.0},\"nameSub\":\"General Elective\",\"id\":30,\"credits\":1,\"nameCanonical\":\"\"},{\"curriculum_requisites\":[],\"name\":\"SGES \",\"metrics\":{\"complexity\":1.0,\"centrality\":0,\"blocking factor\":0,\"delay factor\":1.0},\"nameSub\":\"State Social Science Gen Ed\",\"id\":31,\"credits\":3,\"nameCanonical\":\"\"}],\"id\":13}],\"institution\":\"USF\"}}}}},\"children\":[{\"props\":{\"src\":\"http:\\/\\/localhost:8156\",\"id\":\"curriculum\",\"events\":{\"load\":\"(function (){this.contentWindow.postMessage({\\\"options\\\":{\\\"hideTerms\\\":false,\\\"edit\\\":false},\\\"curriculum\\\":{\\\"name\\\":\\\"BSEE-Electrical Engineering\\\",\\\"dp_name\\\":\\\"EEL-NOT CALCorCHM ready-MAC1114&1140\\\",\\\"curriculum_terms\\\":[{\\\"name\\\":\\\"Term 1\\\",\\\"curriculum_items\\\":[{\\\"curriculum_requisites\\\":[],\\\"name\\\":\\\"CHM 2023\\\",\\\"metrics\\\":{\\\"complexity\\\":7.0,\\\"centrality\\\":0,\\\"blocking factor\\\":3,\\\"delay factor\\\":4.0},\\\"nameSub\\\":\\\"Chemistry for Today\\\",\\\"id\\\":26602,\\\"credits\\\":3,\\\"nameCanonical\\\":\\\"\\\"},{\\\"curriculum_requisites\\\":[],\\\"name\\\":\\\"MAT 1033\\\",\\\"metrics\\\":{\\\"complexity\\\":28.0,\\\"centrality\\\":0,\\\"blocking factor\\\":17,\\\"delay factor\\\":11.0},\\\"nameSub\\\":\\\"Intermediate Algebra\\\",\\\"id\\\":28218,\\\"credits\\\":3,\\\"nameCanonical\\\":\\\"\\\"}],\\\"id\\\":1},{\\\"name\\\":\\\"Term 2\\\",\\\"curriculum_items\\\":[{\\\"curriculum_requisites\\\":[{\\\"source_id\\\":28218,\\\"target_id\\\":25855,\\\"type\\\":\\\"prereq\\\"}],\\\"name\\\":\\\"MAC 1105\\\",\\\"metrics\\\":{\\\"complexity\\\":27.0,\\\"centrality\\\":226,\\\"blocking factor\\\":16,\\\"delay factor\\\":11.0},\\\"nameSub\\\":\\\"College Algebra\\\",\\\"id\\\":25855,\\\"credits\\\":3,\\\"nameCanonical\\\":\\\"\\\"}],\\\"id\\\":2},{\\\"name\\\":\\\"Term 3\\\",\\\"curriculum_items\\\":[{\\\"curriculum_requisites\\\":[{\\\"source_id\\\":25855,\\\"target_id\\\":25856,\\\"type\\\":\\\"prereq\\\"},{\\\"source_id\\\":27685,\\\"target_id\\\":25856,\\\"type\\\":\\\"coreq\\\"}],\\\"name\\\":\\\"MAC 1114\\\",\\\"metrics\\\":{\\\"complexity\\\":25.0,\\\"centrality\\\":154,\\\"blocking factor\\\":14,\\\"delay factor\\\":11.0},\\\"nameSub\\\":\\\"Precalculus Trigonometry\\\",\\\"id\\\":25856,\\\"credits\\\":2,\\\"nameCanonical\\\":\\\"\\\"},{\\\"curriculum_requisites\\\":[{\\\"source_id\\\":25855,\\\"target_id\\\":27685,\\\"type\\\":\\\"prereq\\\"}],\\\"name\\\":\\\"MAC 1140\\\",\\\"metrics\\\":{\\\"complexity\\\":26.0,\\\"centrality\\\":154,\\\"blocking factor\\\":15,\\\"delay factor\\\":11.0},\\\"nameSub\\\":\\\"Precalculus Algebra\\\",\\\"id\\\":27685,\\\"credits\\\":3,\\\"nameCanonical\\\":\\\"\\\"}],\\\"id\\\":3},{\\\"name\\\":\\\"Term 4\\\",\\\"curriculum_items\\\":[{\\\"curriculum_requisites\\\":[{\\\"source_id\\\":25856,\\\"target_id\\\":24950,\\\"type\\\":\\\"prereq\\\"},{\\\"source_id\\\":27685,\\\"target_id\\\":24950,\\\"type\\\":\\\"prereq\\\"}],\\\"name\\\":\\\"MAC 2281\\\",\\\"metrics\\\":{\\\"complexity\\\":24.0,\\\"centrality\\\":226,\\\"blocking factor\\\":13,\\\"delay factor\\\":11.0},\\\"nameSub\\\":\\\"Engineering Calculus I\\\",\\\"id\\\":24950,\\\"credits\\\":4,\\\"nameCanonical\\\":\\\"\\\"},{\\\"curriculum_requisites\\\":[{\\\"source_id\\\":26602,\\\"target_id\\\":25478,\\\"type\\\":\\\"prereq\\\"}],\\\"name\\\":\\\"CHM\\/CHS 2045\\/2440\\\",\\\"metrics\\\":{\\\"complexity\\\":6.0,\\\"centrality\\\":4,\\\"blocking factor\\\":2,\\\"delay factor\\\":4.0},\\\"nameSub\\\":\\\"General Chemistry I\\/Chem for Engineers \\\",\\\"id\\\":25478,\\\"credits\\\":3,\\\"nameCanonical\\\":\\\"\\\"},{\\\"curriculum_requisites\\\":[],\\\"name\\\":\\\"ENC 1101\\\",\\\"metrics\\\":{\\\"complexity\\\":3.0,\\\"centrality\\\":0,\\\"blocking factor\\\":1,\\\"delay factor\\\":2.0},\\\"nameSub\\\":\\\"Composition I\\\",\\\"id\\\":23525,\\\"credits\\\":3,\\\"nameCanonical\\\":\\\"\\\"},{\\\"curriculum_requisites\\\":[],\\\"name\\\":\\\"CHM\\/CHS 2045\\/2440L\\\",\\\"metrics\\\":{\\\"complexity\\\":1.0,\\\"centrality\\\":0,\\\"blocking factor\\\":0,\\\"delay factor\\\":1.0},\\\"nameSub\\\":\\\"General Chemistry I\\/Chem for Engineers Laboratory\\\",\\\"id\\\":25479,\\\"credits\\\":1,\\\"nameCanonical\\\":\\\"\\\"},{\\\"curriculum_requisites\\\":[],\\\"name\\\":\\\"EGN 3000L\\\",\\\"metrics\\\":{\\\"complexity\\\":1.0,\\\"centrality\\\":0,\\\"blocking factor\\\":0,\\\"delay factor\\\":1.0},\\\"nameSub\\\":\\\"Foundations of Engineering Lab\\\",\\\"id\\\":23287,\\\"credits\\\":3,\\\"nameCanonical\\\":\\\"\\\"},{\\\"curriculum_requisites\\\":[],\\\"name\\\":\\\"EGN 3000\\\",\\\"metrics\\\":{\\\"complexity\\\":1.0,\\\"centrality\\\":0,\\\"blocking factor\\\":0,\\\"delay factor\\\":1.0},\\\"nameSub\\\":\\\"Foundations of Engineering\\\",\\\"id\\\":28172,\\\"credits\\\":0,\\\"nameCanonical\\\":\\\"\\\"}],\\\"id\\\":4},{\\\"name\\\":\\\"Term 5\\\",\\\"curriculum_items\\\":[{\\\"curriculum_requisites\\\":[{\\\"source_id\\\":24950,\\\"target_id\\\":24951,\\\"type\\\":\\\"prereq\\\"}],\\\"name\\\":\\\"MAC 2282\\\",\\\"metrics\\\":{\\\"complexity\\\":21.0,\\\"centrality\\\":166,\\\"blocking factor\\\":10,\\\"delay factor\\\":11.0},\\\"nameSub\\\":\\\"Engineering Calculus II\\\",\\\"id\\\":24951,\\\"credits\\\":4,\\\"nameCanonical\\\":\\\"\\\"},{\\\"curriculum_requisites\\\":[{\\\"source_id\\\":23525,\\\"target_id\\\":23526,\\\"type\\\":\\\"prereq\\\"}],\\\"name\\\":\\\"ENC 1102\\\",\\\"metrics\\\":{\\\"complexity\\\":2.0,\\\"centrality\\\":0,\\\"blocking factor\\\":0,\\\"delay factor\\\":2.0},\\\"nameSub\\\":\\\"Composition II\\\",\\\"id\\\":23526,\\\"credits\\\":3,\\\"nameCanonical\\\":\\\"\\\"},{\\\"curriculum_requisites\\\":[{\\\"source_id\\\":24950,\\\"target_id\\\":26014,\\\"type\\\":\\\"prereq\\\"}],\\\"name\\\":\\\"PHY 2048\\\",\\\"metrics\\\":{\\\"complexity\\\":8.0,\\\"centrality\\\":41,\\\"blocking factor\\\":2,\\\"delay factor\\\":6.0},\\\"nameSub\\\":\\\"General Physics I - Calculus Based\\\",\\\"id\\\":26014,\\\"credits\\\":3,\\\"nameCanonical\\\":\\\"\\\"},{\\\"curriculum_requisites\\\":[{\\\"source_id\\\":24950,\\\"target_id\\\":26015,\\\"type\\\":\\\"prereq\\\"}],\\\"name\\\":\\\"PHY 2048L\\\",\\\"metrics\\\":{\\\"complexity\\\":7.0,\\\"centrality\\\":19,\\\"blocking factor\\\":1,\\\"delay factor\\\":6.0},\\\"nameSub\\\":\\\"General Physics I Laboratory\\\",\\\"id\\\":26015,\\\"credits\\\":1,\\\"nameCanonical\\\":\\\"\\\"},{\\\"curriculum_requisites\\\":[],\\\"name\\\":\\\"EEL 3705\\\",\\\"metrics\\\":{\\\"complexity\\\":3.0,\\\"centrality\\\":0,\\\"blocking factor\\\":1,\\\"delay factor\\\":2.0},\\\"nameSub\\\":\\\"Fundamentals of Digital Circuits\\\",\\\"id\\\":23747,\\\"credits\\\":3,\\\"nameCanonical\\\":\\\"\\\"}],\\\"id\\\":5},{\\\"name\\\":\\\"Term 6\\\",\\\"curriculum_items\\\":[{\\\"curriculum_requisites\\\":[{\\\"source_id\\\":24951,\\\"target_id\\\":24952,\\\"type\\\":\\\"prereq\\\"}],\\\"name\\\":\\\"MAC 2283\\\",\\\"metrics\\\":{\\\"complexity\\\":18.0,\\\"centrality\\\":84,\\\"blocking factor\\\":7,\\\"delay factor\\\":11.0},\\\"nameSub\\\":\\\"Engineering Calculus III\\\",\\\"id\\\":24952,\\\"credits\\\":4,\\\"nameCanonical\\\":\\\"\\\"},{\\\"curriculum_requisites\\\":[{\\\"source_id\\\":24951,\\\"target_id\\\":25357,\\\"type\\\":\\\"prereq\\\"}],\\\"name\\\":\\\"EGN 3420\\\",\\\"metrics\\\":{\\\"complexity\\\":9.0,\\\"centrality\\\":44,\\\"blocking factor\\\":2,\\\"delay factor\\\":7.0},\\\"nameSub\\\":\\\"Engineering Analysis\\\",\\\"id\\\":25357,\\\"credits\\\":4,\\\"nameCanonical\\\":\\\"\\\"},{\\\"curriculum_requisites\\\":[{\\\"source_id\\\":24952,\\\"target_id\\\":27967,\\\"type\\\":\\\"coreq\\\"},{\\\"source_id\\\":26014,\\\"target_id\\\":27967,\\\"type\\\":\\\"prereq\\\"},{\\\"source_id\\\":25478,\\\"target_id\\\":27967,\\\"type\\\":\\\"prereq\\\"}],\\\"name\\\":\\\"EEE 3394\\\",\\\"metrics\\\":{\\\"complexity\\\":10.0,\\\"centrality\\\":51,\\\"blocking factor\\\":1,\\\"delay factor\\\":9.0},\\\"nameSub\\\":\\\"Electrical Engineering Science I - Electronic Materials\\\",\\\"id\\\":27967,\\\"credits\\\":3,\\\"nameCanonical\\\":\\\"\\\"},{\\\"curriculum_requisites\\\":[{\\\"source_id\\\":23747,\\\"target_id\\\":26896,\\\"type\\\":\\\"prereq\\\"}],\\\"name\\\":\\\"EEL 3705L\\\",\\\"metrics\\\":{\\\"complexity\\\":2.0,\\\"centrality\\\":0,\\\"blocking factor\\\":0,\\\"delay factor\\\":2.0},\\\"nameSub\\\":\\\"Fundamentals of Digital Circuits Laboratory\\\",\\\"id\\\":26896,\\\"credits\\\":1,\\\"nameCanonical\\\":\\\"\\\"},{\\\"curriculum_requisites\\\":[],\\\"name\\\":\\\"SGEH \\\",\\\"metrics\\\":{\\\"complexity\\\":1.0,\\\"centrality\\\":0,\\\"blocking factor\\\":0,\\\"delay factor\\\":1.0},\\\"nameSub\\\":\\\"State Humanities Gen Ed\\\",\\\"id\\\":4,\\\"credits\\\":3,\\\"nameCanonical\\\":\\\"\\\"}],\\\"id\\\":6},{\\\"name\\\":\\\"Term 7\\\",\\\"curriculum_items\\\":[{\\\"curriculum_requisites\\\":[{\\\"source_id\\\":24959,\\\"target_id\\\":25981,\\\"type\\\":\\\"coreq\\\"}],\\\"name\\\":\\\"EGN 3373\\\",\\\"metrics\\\":{\\\"complexity\\\":14.0,\\\"centrality\\\":59,\\\"blocking factor\\\":3,\\\"delay factor\\\":11.0},\\\"nameSub\\\":\\\"Introduction to Electrical Systems I\\\",\\\"id\\\":25981,\\\"credits\\\":3,\\\"nameCanonical\\\":\\\"\\\"},{\\\"curriculum_requisites\\\":[{\\\"source_id\\\":24952,\\\"target_id\\\":24959,\\\"type\\\":\\\"prereq\\\"}],\\\"name\\\":\\\"MAP 2302\\\",\\\"metrics\\\":{\\\"complexity\\\":15.0,\\\"centrality\\\":59,\\\"blocking factor\\\":4,\\\"delay factor\\\":11.0},\\\"nameSub\\\":\\\"Differential Equations\\\",\\\"id\\\":24959,\\\"credits\\\":3,\\\"nameCanonical\\\":\\\"\\\"},{\\\"curriculum_requisites\\\":[{\\\"source_id\\\":24951,\\\"target_id\\\":29920,\\\"type\\\":\\\"prereq\\\"},{\\\"source_id\\\":25357,\\\"target_id\\\":29920,\\\"type\\\":\\\"prereq\\\"},{\\\"source_id\\\":27967,\\\"target_id\\\":29920,\\\"type\\\":\\\"prereq\\\"},{\\\"source_id\\\":26014,\\\"target_id\\\":29920,\\\"type\\\":\\\"prereq\\\"},{\\\"source_id\\\":26015,\\\"target_id\\\":29920,\\\"type\\\":\\\"prereq\\\"}],\\\"name\\\":\\\"EEL\\/PHY 3472C\\/2049 + 2049L\\\",\\\"metrics\\\":{\\\"complexity\\\":9.0,\\\"centrality\\\":0,\\\"blocking factor\\\":0,\\\"delay factor\\\":9.0},\\\"nameSub\\\":\\\"Electrical Engineering Science II - Electromagnetics\\/Physics II + Lab\\\",\\\"id\\\":29920,\\\"credits\\\":4,\\\"nameCanonical\\\":\\\"\\\"},{\\\"curriculum_requisites\\\":[],\\\"name\\\":\\\"EEL 2161\\\",\\\"metrics\\\":{\\\"complexity\\\":3.0,\\\"centrality\\\":0,\\\"blocking factor\\\":1,\\\"delay factor\\\":2.0},\\\"nameSub\\\":\\\"Programming with C\\\",\\\"id\\\":24974,\\\"credits\\\":3,\\\"nameCanonical\\\":\\\"\\\"},{\\\"curriculum_requisites\\\":[],\\\"name\\\":\\\"EGS 2070\\\",\\\"metrics\\\":{\\\"complexity\\\":5.0,\\\"centrality\\\":0,\\\"blocking factor\\\":2,\\\"delay factor\\\":3.0},\\\"nameSub\\\":\\\"Professional Formation of Engineers I\\\",\\\"id\\\":6,\\\"credits\\\":1,\\\"nameCanonical\\\":\\\"\\\"}],\\\"id\\\":7},{\\\"name\\\":\\\"Term 8\\\",\\\"curriculum_items\\\":[{\\\"curriculum_requisites\\\":[{\\\"source_id\\\":25981,\\\"target_id\\\":27018,\\\"type\\\":\\\"prereq\\\"}],\\\"name\\\":\\\"EGN 3374\\\",\\\"metrics\\\":{\\\"complexity\\\":12.0,\\\"centrality\\\":31,\\\"blocking factor\\\":1,\\\"delay factor\\\":11.0},\\\"nameSub\\\":\\\"Introduction to Electrical Systems II\\\",\\\"id\\\":27018,\\\"credits\\\":3,\\\"nameCanonical\\\":\\\"\\\"},{\\\"curriculum_requisites\\\":[{\\\"source_id\\\":24951,\\\"target_id\\\":25983,\\\"type\\\":\\\"prereq\\\"}],\\\"name\\\":\\\"EGN 3443\\\",\\\"metrics\\\":{\\\"complexity\\\":7.0,\\\"centrality\\\":0,\\\"blocking factor\\\":0,\\\"delay factor\\\":7.0},\\\"nameSub\\\":\\\"Probability and Statistics for Engineers\\\",\\\"id\\\":25983,\\\"credits\\\":3,\\\"nameCanonical\\\":\\\"\\\"},{\\\"curriculum_requisites\\\":[],\\\"name\\\":\\\"EGN 3615\\\",\\\"metrics\\\":{\\\"complexity\\\":1.0,\\\"centrality\\\":0,\\\"blocking factor\\\":0,\\\"delay factor\\\":1.0},\\\"nameSub\\\":\\\"Engineering Economics with Social and Global Implications\\\",\\\"id\\\":24859,\\\"credits\\\":3,\\\"nameCanonical\\\":\\\"\\\"}],\\\"id\\\":8},{\\\"name\\\":\\\"Term 9\\\",\\\"curriculum_items\\\":[{\\\"curriculum_requisites\\\":[{\\\"source_id\\\":25981,\\\"target_id\\\":26911,\\\"type\\\":\\\"prereq\\\"}],\\\"name\\\":\\\"EEL 3115L\\\",\\\"metrics\\\":{\\\"complexity\\\":10.0,\\\"centrality\\\":0,\\\"blocking factor\\\":0,\\\"delay factor\\\":10.0},\\\"nameSub\\\":\\\"Laboratory I\\\",\\\"id\\\":26911,\\\"credits\\\":1,\\\"nameCanonical\\\":\\\"\\\"},{\\\"curriculum_requisites\\\":[],\\\"name\\\":\\\" \\\",\\\"metrics\\\":{\\\"complexity\\\":1.0,\\\"centrality\\\":0,\\\"blocking factor\\\":0,\\\"delay factor\\\":1.0},\\\"nameSub\\\":\\\"EE Core Technical Elective\\\",\\\"id\\\":9,\\\"credits\\\":3,\\\"nameCanonical\\\":\\\"\\\"},{\\\"curriculum_requisites\\\":[],\\\"name\\\":\\\" \\\",\\\"metrics\\\":{\\\"complexity\\\":1.0,\\\"centrality\\\":0,\\\"blocking factor\\\":0,\\\"delay factor\\\":1.0},\\\"nameSub\\\":\\\"EE Core Technical Elective\\\",\\\"id\\\":10,\\\"credits\\\":3,\\\"nameCanonical\\\":\\\"\\\"},{\\\"curriculum_requisites\\\":[{\\\"source_id\\\":27018,\\\"target_id\\\":25885,\\\"type\\\":\\\"prereq\\\"},{\\\"source_id\\\":25357,\\\"target_id\\\":25885,\\\"type\\\":\\\"prereq\\\"}],\\\"name\\\":\\\"EEL 4102\\\",\\\"metrics\\\":{\\\"complexity\\\":11.0,\\\"centrality\\\":0,\\\"blocking factor\\\":0,\\\"delay factor\\\":11.0},\\\"nameSub\\\":\\\"Signals and Systems\\\",\\\"id\\\":25885,\\\"credits\\\":3,\\\"nameCanonical\\\":\\\"\\\"},{\\\"curriculum_requisites\\\":[{\\\"source_id\\\":24974,\\\"target_id\\\":29988,\\\"type\\\":\\\"prereq\\\"}],\\\"name\\\":\\\"EEL 3163C\\\",\\\"metrics\\\":{\\\"complexity\\\":2.0,\\\"centrality\\\":0,\\\"blocking factor\\\":0,\\\"delay factor\\\":2.0},\\\"nameSub\\\":\\\"Computer Tool Lab\\\",\\\"id\\\":29988,\\\"credits\\\":1,\\\"nameCanonical\\\":\\\"\\\"},{\\\"curriculum_requisites\\\":[],\\\"name\\\":\\\"ENC 3246\\\",\\\"metrics\\\":{\\\"complexity\\\":1.0,\\\"centrality\\\":0,\\\"blocking factor\\\":0,\\\"delay factor\\\":1.0},\\\"nameSub\\\":\\\"Communication for Engineers\\\",\\\"id\\\":27719,\\\"credits\\\":3,\\\"nameCanonical\\\":\\\"\\\"},{\\\"curriculum_requisites\\\":[{\\\"source_id\\\":6,\\\"target_id\\\":11,\\\"type\\\":\\\"prereq\\\"}],\\\"name\\\":\\\"EGS 3071\\\",\\\"metrics\\\":{\\\"complexity\\\":4.0,\\\"centrality\\\":3,\\\"blocking factor\\\":1,\\\"delay factor\\\":3.0},\\\"nameSub\\\":\\\"Professional Formation of Engineers II\\\",\\\"id\\\":11,\\\"credits\\\":1,\\\"nameCanonical\\\":\\\"\\\"}],\\\"id\\\":9},{\\\"name\\\":\\\"Term 10\\\",\\\"curriculum_items\\\":[{\\\"curriculum_requisites\\\":[],\\\"name\\\":\\\" \\\",\\\"metrics\\\":{\\\"complexity\\\":1.0,\\\"centrality\\\":0,\\\"blocking factor\\\":0,\\\"delay factor\\\":1.0},\\\"nameSub\\\":\\\"EE Core Technical Elective\\\",\\\"id\\\":12,\\\"credits\\\":3,\\\"nameCanonical\\\":\\\"\\\"},{\\\"curriculum_requisites\\\":[],\\\"name\\\":\\\" \\\",\\\"metrics\\\":{\\\"complexity\\\":1.0,\\\"centrality\\\":0,\\\"blocking factor\\\":0,\\\"delay factor\\\":1.0},\\\"nameSub\\\":\\\"EE Core Technical Elective\\\",\\\"id\\\":13,\\\"credits\\\":3,\\\"nameCanonical\\\":\\\"\\\"},{\\\"curriculum_requisites\\\":[],\\\"name\\\":\\\" \\\",\\\"metrics\\\":{\\\"complexity\\\":1.0,\\\"centrality\\\":0,\\\"blocking factor\\\":0,\\\"delay factor\\\":1.0},\\\"nameSub\\\":\\\"EE Track Elective\\\",\\\"id\\\":14,\\\"credits\\\":3,\\\"nameCanonical\\\":\\\"\\\"},{\\\"curriculum_requisites\\\":[],\\\"name\\\":\\\" \\\",\\\"metrics\\\":{\\\"complexity\\\":1.0,\\\"centrality\\\":0,\\\"blocking factor\\\":0,\\\"delay factor\\\":1.0},\\\"nameSub\\\":\\\"EE Track Elective\\\",\\\"id\\\":15,\\\"credits\\\":3,\\\"nameCanonical\\\":\\\"\\\"},{\\\"curriculum_requisites\\\":[],\\\"name\\\":\\\" \\\",\\\"metrics\\\":{\\\"complexity\\\":1.0,\\\"centrality\\\":0,\\\"blocking factor\\\":0,\\\"delay factor\\\":1.0},\\\"nameSub\\\":\\\"EE Track Elective Lab\\\",\\\"id\\\":16,\\\"credits\\\":1,\\\"nameCanonical\\\":\\\"\\\"},{\\\"curriculum_requisites\\\":[{\\\"source_id\\\":11,\\\"target_id\\\":17,\\\"type\\\":\\\"prereq\\\"}],\\\"name\\\":\\\"EGS 3072\\\",\\\"metrics\\\":{\\\"complexity\\\":3.0,\\\"centrality\\\":0,\\\"blocking factor\\\":0,\\\"delay factor\\\":3.0},\\\"nameSub\\\":\\\"Professional Formation of Engineers III\\\",\\\"id\\\":17,\\\"credits\\\":1,\\\"nameCanonical\\\":\\\"\\\"},{\\\"curriculum_requisites\\\":[],\\\"name\\\":\\\" \\\",\\\"metrics\\\":{\\\"complexity\\\":1.0,\\\"centrality\\\":0,\\\"blocking factor\\\":0,\\\"delay factor\\\":1.0},\\\"nameSub\\\":\\\"Upper-Level Department Elective Lab\\\",\\\"id\\\":18,\\\"credits\\\":1,\\\"nameCanonical\\\":\\\"\\\"}],\\\"id\\\":10},{\\\"name\\\":\\\"Term 11\\\",\\\"curriculum_items\\\":[{\\\"curriculum_requisites\\\":[],\\\"name\\\":\\\" \\\",\\\"metrics\\\":{\\\"complexity\\\":1.0,\\\"centrality\\\":0,\\\"blocking factor\\\":0,\\\"delay factor\\\":1.0},\\\"nameSub\\\":\\\"Internship\\/Co-op Participation\\\",\\\"id\\\":20,\\\"credits\\\":0,\\\"nameCanonical\\\":\\\"\\\"}],\\\"id\\\":11},{\\\"name\\\":\\\"Term 12\\\",\\\"curriculum_items\\\":[{\\\"curriculum_requisites\\\":[],\\\"name\\\":\\\"EEL 4906\\\",\\\"metrics\\\":{\\\"complexity\\\":3.0,\\\"centrality\\\":0,\\\"blocking factor\\\":1,\\\"delay factor\\\":2.0},\\\"nameSub\\\":\\\"EE Design 1\\\",\\\"id\\\":26904,\\\"credits\\\":3,\\\"nameCanonical\\\":\\\"\\\"},{\\\"curriculum_requisites\\\":[],\\\"name\\\":\\\" \\\",\\\"metrics\\\":{\\\"complexity\\\":1.0,\\\"centrality\\\":0,\\\"blocking factor\\\":0,\\\"delay factor\\\":1.0},\\\"nameSub\\\":\\\"Upper-Level Department Elective\\\",\\\"id\\\":21,\\\"credits\\\":3,\\\"nameCanonical\\\":\\\"\\\"},{\\\"curriculum_requisites\\\":[],\\\"name\\\":\\\" \\\",\\\"metrics\\\":{\\\"complexity\\\":1.0,\\\"centrality\\\":0,\\\"blocking factor\\\":0,\\\"delay factor\\\":1.0},\\\"nameSub\\\":\\\"EE Track Elective\\\",\\\"id\\\":22,\\\"credits\\\":3,\\\"nameCanonical\\\":\\\"\\\"},{\\\"curriculum_requisites\\\":[],\\\"name\\\":\\\" \\\",\\\"metrics\\\":{\\\"complexity\\\":1.0,\\\"centrality\\\":0,\\\"blocking factor\\\":0,\\\"delay factor\\\":1.0},\\\"nameSub\\\":\\\"EE Track Elective\\\",\\\"id\\\":23,\\\"credits\\\":3,\\\"nameCanonical\\\":\\\"\\\"},{\\\"curriculum_requisites\\\":[],\\\"name\\\":\\\" \\\",\\\"metrics\\\":{\\\"complexity\\\":1.0,\\\"centrality\\\":0,\\\"blocking factor\\\":0,\\\"delay factor\\\":1.0},\\\"nameSub\\\":\\\"EE Track Elective Lab\\\",\\\"id\\\":24,\\\"credits\\\":1,\\\"nameCanonical\\\":\\\"\\\"},{\\\"curriculum_requisites\\\":[],\\\"name\\\":\\\" \\\",\\\"metrics\\\":{\\\"complexity\\\":1.0,\\\"centrality\\\":0,\\\"blocking factor\\\":0,\\\"delay factor\\\":1.0},\\\"nameSub\\\":\\\"Upper-Level Department Elective\\\",\\\"id\\\":25,\\\"credits\\\":3,\\\"nameCanonical\\\":\\\"\\\"}],\\\"id\\\":12},{\\\"name\\\":\\\"Term 13\\\",\\\"curriculum_items\\\":[{\\\"curriculum_requisites\\\":[{\\\"source_id\\\":26904,\\\"target_id\\\":27855,\\\"type\\\":\\\"prereq\\\"}],\\\"name\\\":\\\"EEL 4914\\\",\\\"metrics\\\":{\\\"complexity\\\":2.0,\\\"centrality\\\":0,\\\"blocking factor\\\":0,\\\"delay factor\\\":2.0},\\\"nameSub\\\":\\\"EE Design 2\\\",\\\"id\\\":27855,\\\"credits\\\":3,\\\"nameCanonical\\\":\\\"\\\"},{\\\"curriculum_requisites\\\":[],\\\"name\\\":\\\" \\\",\\\"metrics\\\":{\\\"complexity\\\":1.0,\\\"centrality\\\":0,\\\"blocking factor\\\":0,\\\"delay factor\\\":1.0},\\\"nameSub\\\":\\\"Upper-Level Department Elective\\\",\\\"id\\\":27,\\\"credits\\\":3,\\\"nameCanonical\\\":\\\"\\\"},{\\\"curriculum_requisites\\\":[],\\\"name\\\":\\\" \\\",\\\"metrics\\\":{\\\"complexity\\\":1.0,\\\"centrality\\\":0,\\\"blocking factor\\\":0,\\\"delay factor\\\":1.0},\\\"nameSub\\\":\\\"Upper-Level Department Elective\\\",\\\"id\\\":28,\\\"credits\\\":3,\\\"nameCanonical\\\":\\\"\\\"},{\\\"curriculum_requisites\\\":[],\\\"name\\\":\\\" \\\",\\\"metrics\\\":{\\\"complexity\\\":1.0,\\\"centrality\\\":0,\\\"blocking factor\\\":0,\\\"delay factor\\\":1.0},\\\"nameSub\\\":\\\"General Elective\\\",\\\"id\\\":29,\\\"credits\\\":3,\\\"nameCanonical\\\":\\\"\\\"},{\\\"curriculum_requisites\\\":[],\\\"name\\\":\\\" \\\",\\\"metrics\\\":{\\\"complexity\\\":1.0,\\\"centrality\\\":0,\\\"blocking factor\\\":0,\\\"delay factor\\\":1.0},\\\"nameSub\\\":\\\"General Elective\\\",\\\"id\\\":30,\\\"credits\\\":1,\\\"nameCanonical\\\":\\\"\\\"},{\\\"curriculum_requisites\\\":[],\\\"name\\\":\\\"SGES \\\",\\\"metrics\\\":{\\\"complexity\\\":1.0,\\\"centrality\\\":0,\\\"blocking factor\\\":0,\\\"delay factor\\\":1.0},\\\"nameSub\\\":\\\"State Social Science Gen Ed\\\",\\\"id\\\":31,\\\"credits\\\":3,\\\"nameCanonical\\\":\\\"\\\"}],\\\"id\\\":13}],\\\"institution\\\":\\\"USF\\\"}},\\\"*\\\"); window.removeEventListener(\\\"message\\\",window.messageReceived); window.messageReceived=(function (event){return (event.data.curriculum!==undefined) ? (WebIO.setval({\\\"name\\\":\\\"curriculum-data\\\",\\\"scope\\\":\\\"3936003754690179936\\\",\\\"id\\\":\\\"ob_02\\\",\\\"type\\\":\\\"observable\\\"},event.data.curriculum)) : undefined}); return window.addEventListener(\\\"message\\\",window.messageReceived)})\"},\"style\":{\"padding\":\"0\",\"height\":\"100vh\",\"margin\":\"0\",\"border\":\"none\",\"width\":\"100%\"}},\"nodeType\":\"DOM\",\"type\":\"node\",\"instanceArgs\":{\"namespace\":\"html\",\"tag\":\"iframe\"},\"children\":[\"\"]}]},\n",
       "            window,\n",
       "        );\n",
       "    } else {\n",
       "        document\n",
       "            .querySelector('[data-webio-mountpoint=\"15834043643207626363\"]')\n",
       "            .innerHTML = (\n",
       "                '<div style=\"padding: 1em; background-color: #f8d6da; border: 1px solid #f5c6cb\">' +\n",
       "                '<p><strong>WebIO not detected.</strong></p>' +\n",
       "                '<p>Please read ' +\n",
       "                '<a href=\"https://juliagizmos.github.io/WebIO.jl/latest/troubleshooting/not-detected/\" target=\"_blank\">the troubleshooting guide</a> ' +\n",
       "                'for more information on how to resolve this issue.</p>' +\n",
       "                '<p><a href=\"https://juliagizmos.github.io/WebIO.jl/latest/troubleshooting/not-detected/\" target=\"_blank\">https://juliagizmos.github.io/WebIO.jl/latest/troubleshooting/not-detected/</a></p>' +\n",
       "                '</div>'\n",
       "            );\n",
       "    }\n",
       "    </script>\n",
       "</div>\n"
      ],
      "text/plain": [
       "WebIO.Scope(WebIO.Node{WebIO.DOM}(WebIO.DOM(:html, :iframe), Any[\"\"], Dict{Symbol,Any}(:src => \"http://localhost:8156\",:id => \"curriculum\",:events => Dict(:load => WebIO.JSString(\"(function (){this.contentWindow.postMessage({\\\"options\\\":{\\\"hideTerms\\\":false,\\\"edit\\\":false},\\\"curriculum\\\":{\\\"name\\\":\\\"BSEE-Electrical Engineering\\\",\\\"dp_name\\\":\\\"EEL-NOT CALCorCHM ready-MAC1114&1140\\\",\\\"curriculum_terms\\\":[{\\\"name\\\":\\\"Term 1\\\",\\\"curriculum_items\\\":[{\\\"curriculum_requisites\\\":[],\\\"name\\\":\\\"CHM 2023\\\",\\\"metrics\\\":{\\\"complexity\\\":7.0,\\\"centrality\\\":0,\\\"blocking factor\\\":3,\\\"delay factor\\\":4.0},\\\"nameSub\\\":\\\"Chemistry for Today\\\",\\\"id\\\":26602,\\\"credits\\\":3,\\\"nameCanonical\\\":\\\"\\\"},{\\\"curriculum_requisites\\\":[],\\\"name\\\":\\\"MAT 1033\\\",\\\"metrics\\\":{\\\"complexity\\\":28.0,\\\"centrality\\\":0,\\\"blocking factor\\\":17,\\\"delay factor\\\":11.0},\\\"nameSub\\\":\\\"Intermediate Algebra\\\",\\\"id\\\":28218,\\\"credits\\\":3,\\\"nameCanonical\\\":\\\"\\\"}],\\\"id\\\":1},{\\\"name\\\":\\\"Term 2\\\",\\\"curriculum_items\\\":[{\\\"curriculum_requisites\\\":[{\\\"source_id\\\":28218,\\\"target_id\\\":25855,\\\"type\\\":\\\"prereq\\\"}],\\\"name\\\":\\\"MAC 1105\\\",\\\"metrics\\\":{\\\"complexity\\\":27.0,\\\"centrality\\\":226,\\\"blocking factor\\\":16,\\\"delay factor\\\":11.0},\\\"nameSub\\\":\\\"College Algebra\\\",\\\"id\\\":25855,\\\"credits\\\":3,\\\"nameCanonical\\\":\\\"\\\"}],\\\"id\\\":2},{\\\"name\\\":\\\"Term 3\\\",\\\"curriculum_items\\\":[{\\\"curriculum_requisites\\\":[{\\\"source_id\\\":25855,\\\"target_id\\\":25856,\\\"type\\\":\\\"prereq\\\"},{\\\"source_id\\\":27685,\\\"target_id\\\":25856,\\\"type\\\":\\\"coreq\\\"}],\\\"name\\\":\\\"MAC 1114\\\",\\\"metrics\\\":{\\\"complexity\\\":25.0,\\\"centrality\\\":154,\\\"blocking factor\\\":14,\\\"delay factor\\\":11.0},\\\"nameSub\\\":\\\"Precalculus Trigonometry\\\",\\\"id\\\":25856,\\\"credits\\\":2,\\\"nameCanonical\\\":\\\"\\\"},{\\\"curriculum_requisites\\\":[{\\\"source_id\\\":25855,\\\"target_id\\\":27685,\\\"type\\\":\\\"prereq\\\"}],\\\"name\\\":\\\"MAC 1140\\\",\\\"metrics\\\":{\\\"complexity\\\":26.0,\\\"centrality\\\":154,\\\"blocking factor\\\":15,\\\"delay factor\\\":11.0},\\\"nameSub\\\":\\\"Precalculus Algebra\\\",\\\"id\\\":27685,\\\"credits\\\":3,\\\"nameCanonical\\\":\\\"\\\"}],\\\"id\\\":3},{\\\"name\\\":\\\"Term 4\\\",\\\"curriculum_items\\\":[{\\\"curriculum_requisites\\\":[{\\\"source_id\\\":25856,\\\"target_id\\\":24950,\\\"type\\\":\\\"prereq\\\"},{\\\"source_id\\\":27685,\\\"target_id\\\":24950,\\\"type\\\":\\\"prereq\\\"}],\\\"name\\\":\\\"MAC 2281\\\",\\\"metrics\\\":{\\\"complexity\\\":24.0,\\\"centrality\\\":226,\\\"blocking factor\\\":13,\\\"delay factor\\\":11.0},\\\"nameSub\\\":\\\"Engineering Calculus I\\\",\\\"id\\\":24950,\\\"credits\\\":4,\\\"nameCanonical\\\":\\\"\\\"},{\\\"curriculum_requisites\\\":[{\\\"source_id\\\":26602,\\\"target_id\\\":25478,\\\"type\\\":\\\"prereq\\\"}],\\\"name\\\":\\\"CHM/CHS 2045/2440\\\",\\\"metrics\\\":{\\\"complexity\\\":6.0,\\\"centrality\\\":4,\\\"blocking factor\\\":2,\\\"delay factor\\\":4.0},\\\"nameSub\\\":\\\"General Chemistry I/Chem for Engineers \\\",\\\"id\\\":25478,\\\"credits\\\":3,\\\"nameCanonical\\\":\\\"\\\"},{\\\"curriculum_requisites\\\":[],\\\"name\\\":\\\"ENC 1101\\\",\\\"metrics\\\":{\\\"complexity\\\":3.0,\\\"centrality\\\":0,\\\"blocking factor\\\":1,\\\"delay factor\\\":2.0},\\\"nameSub\\\":\\\"Composition I\\\",\\\"id\\\":23525,\\\"credits\\\":3,\\\"nameCanonical\\\":\\\"\\\"},{\\\"curriculum_requisites\\\":[],\\\"name\\\":\\\"CHM/CHS 2045/2440L\\\",\\\"metrics\\\":{\\\"complexity\\\":1.0,\\\"centrality\\\":0,\\\"blocking factor\\\":0,\\\"delay factor\\\":1.0},\\\"nameSub\\\":\\\"General Chemistry I/Chem for Engineers Laboratory\\\",\\\"id\\\":25479,\\\"credits\\\":1,\\\"nameCanonical\\\":\\\"\\\"},{\\\"curriculum_requisites\\\":[],\\\"name\\\":\\\"EGN 3000L\\\",\\\"metrics\\\":{\\\"complexity\\\":1.0,\\\"centrality\\\":0,\\\"blocking factor\\\":0,\\\"delay factor\\\":1.0},\\\"nameSub\\\":\\\"Foundations of Engineering Lab\\\",\\\"id\\\":23287,\\\"credits\\\":3,\\\"nameCanonical\\\":\\\"\\\"},{\\\"curriculum_requisites\\\":[],\\\"name\\\":\\\"EGN 3000\\\",\\\"metrics\\\":{\\\"complexity\\\":1.0,\\\"centrality\\\":0,\\\"blocking factor\\\":0,\\\"delay factor\\\":1.0},\\\"nameSub\\\":\\\"Foundations of Engineering\\\",\\\"id\\\":28172,\\\"credits\\\":0,\\\"nameCanonical\\\":\\\"\\\"}],\\\"id\\\":4},{\\\"name\\\":\\\"Term 5\\\",\\\"curriculum_items\\\":[{\\\"curriculum_requisites\\\":[{\\\"source_id\\\":24950,\\\"target_id\\\":24951,\\\"type\\\":\\\"prereq\\\"}],\\\"name\\\":\\\"MAC 2282\\\",\\\"metrics\\\":{\\\"complexity\\\":21.0,\\\"centrality\\\":166,\\\"blocking factor\\\":10,\\\"delay factor\\\":11.0},\\\"nameSub\\\":\\\"Engineering Calculus II\\\",\\\"id\\\":24951,\\\"credits\\\":4,\\\"nameCanonical\\\":\\\"\\\"},{\\\"curriculum_requisites\\\":[{\\\"source_id\\\":23525,\\\"target_id\\\":23526,\\\"type\\\":\\\"prereq\\\"}],\\\"name\\\":\\\"ENC 1102\\\",\\\"metrics\\\":{\\\"complexity\\\":2.0,\\\"centrality\\\":0,\\\"blocking factor\\\":0,\\\"delay factor\\\":2.0},\\\"nameSub\\\":\\\"Composition II\\\",\\\"id\\\":23526,\\\"credits\\\":3,\\\"nameCanonical\\\":\\\"\\\"},{\\\"curriculum_requisites\\\":[{\\\"source_id\\\":24950,\\\"target_id\\\":26014,\\\"type\\\":\\\"prereq\\\"}],\\\"name\\\":\\\"PHY 2048\\\",\\\"metrics\\\":{\\\"complexity\\\":8.0,\\\"centrality\\\":41,\\\"blocking factor\\\":2,\\\"delay factor\\\":6.0},\\\"nameSub\\\":\\\"General Physics I - Calculus Based\\\",\\\"id\\\":26014,\\\"credits\\\":3,\\\"nameCanonical\\\":\\\"\\\"},{\\\"curriculum_requisites\\\":[{\\\"source_id\\\":24950,\\\"target_id\\\":26015,\\\"type\\\":\\\"prereq\\\"}],\\\"name\\\":\\\"PHY 2048L\\\",\\\"metrics\\\":{\\\"complexity\\\":7.0,\\\"centrality\\\":19,\\\"blocking factor\\\":1,\\\"delay factor\\\":6.0},\\\"nameSub\\\":\\\"General Physics I Laboratory\\\",\\\"id\\\":26015,\\\"credits\\\":1,\\\"nameCanonical\\\":\\\"\\\"},{\\\"curriculum_requisites\\\":[],\\\"name\\\":\\\"EEL 3705\\\",\\\"metrics\\\":{\\\"complexity\\\":3.0,\\\"centrality\\\":0,\\\"blocking factor\\\":1,\\\"delay factor\\\":2.0},\\\"nameSub\\\":\\\"Fundamentals of Digital Circuits\\\",\\\"id\\\":23747,\\\"credits\\\":3,\\\"nameCanonical\\\":\\\"\\\"}],\\\"id\\\":5},{\\\"name\\\":\\\"Term 6\\\",\\\"curriculum_items\\\":[{\\\"curriculum_requisites\\\":[{\\\"source_id\\\":24951,\\\"target_id\\\":24952,\\\"type\\\":\\\"prereq\\\"}],\\\"name\\\":\\\"MAC 2283\\\",\\\"metrics\\\":{\\\"complexity\\\":18.0,\\\"centrality\\\":84,\\\"blocking factor\\\":7,\\\"delay factor\\\":11.0},\\\"nameSub\\\":\\\"Engineering Calculus III\\\",\\\"id\\\":24952,\\\"credits\\\":4,\\\"nameCanonical\\\":\\\"\\\"},{\\\"curriculum_requisites\\\":[{\\\"source_id\\\":24951,\\\"target_id\\\":25357,\\\"type\\\":\\\"prereq\\\"}],\\\"name\\\":\\\"EGN 3420\\\",\\\"metrics\\\":{\\\"complexity\\\":9.0,\\\"centrality\\\":44,\\\"blocking factor\\\":2,\\\"delay factor\\\":7.0},\\\"nameSub\\\":\\\"Engineering Analysis\\\",\\\"id\\\":25357,\\\"credits\\\":4,\\\"nameCanonical\\\":\\\"\\\"},{\\\"curriculum_requisites\\\":[{\\\"source_id\\\":24952,\\\"target_id\\\":27967,\\\"type\\\":\\\"coreq\\\"},{\\\"source_id\\\":26014,\\\"target_id\\\":27967,\\\"type\\\":\\\"prereq\\\"},{\\\"source_id\\\":25478,\\\"target_id\\\":27967,\\\"type\\\":\\\"prereq\\\"}],\\\"name\\\":\\\"EEE 3394\\\",\\\"metrics\\\":{\\\"complexity\\\":10.0,\\\"centrality\\\":51,\\\"blocking factor\\\":1,\\\"delay factor\\\":9.0},\\\"nameSub\\\":\\\"Electrical Engineering Science I - Electronic Materials\\\",\\\"id\\\":27967,\\\"credits\\\":3,\\\"nameCanonical\\\":\\\"\\\"},{\\\"curriculum_requisites\\\":[{\\\"source_id\\\":23747,\\\"target_id\\\":26896,\\\"type\\\":\\\"prereq\\\"}],\\\"name\\\":\\\"EEL 3705L\\\",\\\"metrics\\\":{\\\"complexity\\\":2.0,\\\"centrality\\\":0,\\\"blocking factor\\\":0,\\\"delay factor\\\":2.0},\\\"nameSub\\\":\\\"Fundamentals of Digital Circuits Laboratory\\\",\\\"id\\\":26896,\\\"credits\\\":1,\\\"nameCanonical\\\":\\\"\\\"},{\\\"curriculum_requisites\\\":[],\\\"name\\\":\\\"SGEH \\\",\\\"metrics\\\":{\\\"complexity\\\":1.0,\\\"centrality\\\":0,\\\"blocking factor\\\":0,\\\"delay factor\\\":1.0},\\\"nameSub\\\":\\\"State Humanities Gen Ed\\\",\\\"id\\\":4,\\\"credits\\\":3,\\\"nameCanonical\\\":\\\"\\\"}],\\\"id\\\":6},{\\\"name\\\":\\\"Term 7\\\",\\\"curriculum_items\\\":[{\\\"curriculum_requisites\\\":[{\\\"source_id\\\":24959,\\\"target_id\\\":25981,\\\"type\\\":\\\"coreq\\\"}],\\\"name\\\":\\\"EGN 3373\\\",\\\"metrics\\\":{\\\"complexity\\\":14.0,\\\"centrality\\\":59,\\\"blocking factor\\\":3,\\\"delay factor\\\":11.0},\\\"nameSub\\\":\\\"Introduction to Electrical Systems I\\\",\\\"id\\\":25981,\\\"credits\\\":3,\\\"nameCanonical\\\":\\\"\\\"},{\\\"curriculum_requisites\\\":[{\\\"source_id\\\":24952,\\\"target_id\\\":24959,\\\"type\\\":\\\"prereq\\\"}],\\\"name\\\":\\\"MAP 2302\\\",\\\"metrics\\\":{\\\"complexity\\\":15.0,\\\"centrality\\\":59,\\\"blocking factor\\\":4,\\\"delay factor\\\":11.0},\\\"nameSub\\\":\\\"Differential Equations\\\",\\\"id\\\":24959,\\\"credits\\\":3,\\\"nameCanonical\\\":\\\"\\\"},{\\\"curriculum_requisites\\\":[{\\\"source_id\\\":24951,\\\"target_id\\\":29920,\\\"type\\\":\\\"prereq\\\"},{\\\"source_id\\\":25357,\\\"target_id\\\":29920,\\\"type\\\":\\\"prereq\\\"},{\\\"source_id\\\":27967,\\\"target_id\\\":29920,\\\"type\\\":\\\"prereq\\\"},{\\\"source_id\\\":26014,\\\"target_id\\\":29920,\\\"type\\\":\\\"prereq\\\"},{\\\"source_id\\\":26015,\\\"target_id\\\":29920,\\\"type\\\":\\\"prereq\\\"}],\\\"name\\\":\\\"EEL/PHY 3472C/2049 + 2049L\\\",\\\"metrics\\\":{\\\"complexity\\\":9.0,\\\"centrality\\\":0,\\\"blocking factor\\\":0,\\\"delay factor\\\":9.0},\\\"nameSub\\\":\\\"Electrical Engineering Science II - Electromagnetics/Physics II + Lab\\\",\\\"id\\\":29920,\\\"credits\\\":4,\\\"nameCanonical\\\":\\\"\\\"},{\\\"curriculum_requisites\\\":[],\\\"name\\\":\\\"EEL 2161\\\",\\\"metrics\\\":{\\\"complexity\\\":3.0,\\\"centrality\\\":0,\\\"blocking factor\\\":1,\\\"delay factor\\\":2.0},\\\"nameSub\\\":\\\"Programming with C\\\",\\\"id\\\":24974,\\\"credits\\\":3,\\\"nameCanonical\\\":\\\"\\\"},{\\\"curriculum_requisites\\\":[],\\\"name\\\":\\\"EGS 2070\\\",\\\"metrics\\\":{\\\"complexity\\\":5.0,\\\"centrality\\\":0,\\\"blocking factor\\\":2,\\\"delay factor\\\":3.0},\\\"nameSub\\\":\\\"Professional Formation of Engineers I\\\",\\\"id\\\":6,\\\"credits\\\":1,\\\"nameCanonical\\\":\\\"\\\"}],\\\"id\\\":7},{\\\"name\\\":\\\"Term 8\\\",\\\"curriculum_items\\\":[{\\\"curriculum_requisites\\\":[{\\\"source_id\\\":25981,\\\"target_id\\\":27018,\\\"type\\\":\\\"prereq\\\"}],\\\"name\\\":\\\"EGN 3374\\\",\\\"metrics\\\":{\\\"complexity\\\":12.0,\\\"centrality\\\":31,\\\"blocking factor\\\":1,\\\"delay factor\\\":11.0},\\\"nameSub\\\":\\\"Introduction to Electrical Systems II\\\",\\\"id\\\":27018,\\\"credits\\\":3,\\\"nameCanonical\\\":\\\"\\\"},{\\\"curriculum_requisites\\\":[{\\\"source_id\\\":24951,\\\"target_id\\\":25983,\\\"type\\\":\\\"prereq\\\"}],\\\"name\\\":\\\"EGN 3443\\\",\\\"metrics\\\":{\\\"complexity\\\":7.0,\\\"centrality\\\":0,\\\"blocking factor\\\":0,\\\"delay factor\\\":7.0},\\\"nameSub\\\":\\\"Probability and Statistics for Engineers\\\",\\\"id\\\":25983,\\\"credits\\\":3,\\\"nameCanonical\\\":\\\"\\\"},{\\\"curriculum_requisites\\\":[],\\\"name\\\":\\\"EGN 3615\\\",\\\"metrics\\\":{\\\"complexity\\\":1.0,\\\"centrality\\\":0,\\\"blocking factor\\\":0,\\\"delay factor\\\":1.0},\\\"nameSub\\\":\\\"Engineering Economics with Social and Global Implications\\\",\\\"id\\\":24859,\\\"credits\\\":3,\\\"nameCanonical\\\":\\\"\\\"}],\\\"id\\\":8},{\\\"name\\\":\\\"Term 9\\\",\\\"curriculum_items\\\":[{\\\"curriculum_requisites\\\":[{\\\"source_id\\\":25981,\\\"target_id\\\":26911,\\\"type\\\":\\\"prereq\\\"}],\\\"name\\\":\\\"EEL 3115L\\\",\\\"metrics\\\":{\\\"complexity\\\":10.0,\\\"centrality\\\":0,\\\"blocking factor\\\":0,\\\"delay factor\\\":10.0},\\\"nameSub\\\":\\\"Laboratory I\\\",\\\"id\\\":26911,\\\"credits\\\":1,\\\"nameCanonical\\\":\\\"\\\"},{\\\"curriculum_requisites\\\":[],\\\"name\\\":\\\" \\\",\\\"metrics\\\":{\\\"complexity\\\":1.0,\\\"centrality\\\":0,\\\"blocking factor\\\":0,\\\"delay factor\\\":1.0},\\\"nameSub\\\":\\\"EE Core Technical Elective\\\",\\\"id\\\":9,\\\"credits\\\":3,\\\"nameCanonical\\\":\\\"\\\"},{\\\"curriculum_requisites\\\":[],\\\"name\\\":\\\" \\\",\\\"metrics\\\":{\\\"complexity\\\":1.0,\\\"centrality\\\":0,\\\"blocking factor\\\":0,\\\"delay factor\\\":1.0},\\\"nameSub\\\":\\\"EE Core Technical Elective\\\",\\\"id\\\":10,\\\"credits\\\":3,\\\"nameCanonical\\\":\\\"\\\"},{\\\"curriculum_requisites\\\":[{\\\"source_id\\\":27018,\\\"target_id\\\":25885,\\\"type\\\":\\\"prereq\\\"},{\\\"source_id\\\":25357,\\\"target_id\\\":25885,\\\"type\\\":\\\"prereq\\\"}],\\\"name\\\":\\\"EEL 4102\\\",\\\"metrics\\\":{\\\"complexity\\\":11.0,\\\"centrality\\\":0,\\\"blocking factor\\\":0,\\\"delay factor\\\":11.0},\\\"nameSub\\\":\\\"Signals and Systems\\\",\\\"id\\\":25885,\\\"credits\\\":3,\\\"nameCanonical\\\":\\\"\\\"},{\\\"curriculum_requisites\\\":[{\\\"source_id\\\":24974,\\\"target_id\\\":29988,\\\"type\\\":\\\"prereq\\\"}],\\\"name\\\":\\\"EEL 3163C\\\",\\\"metrics\\\":{\\\"complexity\\\":2.0,\\\"centrality\\\":0,\\\"blocking factor\\\":0,\\\"delay factor\\\":2.0},\\\"nameSub\\\":\\\"Computer Tool Lab\\\",\\\"id\\\":29988,\\\"credits\\\":1,\\\"nameCanonical\\\":\\\"\\\"},{\\\"curriculum_requisites\\\":[],\\\"name\\\":\\\"ENC 3246\\\",\\\"metrics\\\":{\\\"complexity\\\":1.0,\\\"centrality\\\":0,\\\"blocking factor\\\":0,\\\"delay factor\\\":1.0},\\\"nameSub\\\":\\\"Communication for Engineers\\\",\\\"id\\\":27719,\\\"credits\\\":3,\\\"nameCanonical\\\":\\\"\\\"},{\\\"curriculum_requisites\\\":[{\\\"source_id\\\":6,\\\"target_id\\\":11,\\\"type\\\":\\\"prereq\\\"}],\\\"name\\\":\\\"EGS 3071\\\",\\\"metrics\\\":{\\\"complexity\\\":4.0,\\\"centrality\\\":3,\\\"blocking factor\\\":1,\\\"delay factor\\\":3.0},\\\"nameSub\\\":\\\"Professional Formation of Engineers II\\\",\\\"id\\\":11,\\\"credits\\\":1,\\\"nameCanonical\\\":\\\"\\\"}],\\\"id\\\":9},{\\\"name\\\":\\\"Term 10\\\",\\\"curriculum_items\\\":[{\\\"curriculum_requisites\\\":[],\\\"name\\\":\\\" \\\",\\\"metrics\\\":{\\\"complexity\\\":1.0,\\\"centrality\\\":0,\\\"blocking factor\\\":0,\\\"delay factor\\\":1.0},\\\"nameSub\\\":\\\"EE Core Technical Elective\\\",\\\"id\\\":12,\\\"credits\\\":3,\\\"nameCanonical\\\":\\\"\\\"},{\\\"curriculum_requisites\\\":[],\\\"name\\\":\\\" \\\",\\\"metrics\\\":{\\\"complexity\\\":1.0,\\\"centrality\\\":0,\\\"blocking factor\\\":0,\\\"delay factor\\\":1.0},\\\"nameSub\\\":\\\"EE Core Technical Elective\\\",\\\"id\\\":13,\\\"credits\\\":3,\\\"nameCanonical\\\":\\\"\\\"},{\\\"curriculum_requisites\\\":[],\\\"name\\\":\\\" \\\",\\\"metrics\\\":{\\\"complexity\\\":1.0,\\\"centrality\\\":0,\\\"blocking factor\\\":0,\\\"delay factor\\\":1.0},\\\"nameSub\\\":\\\"EE Track Elective\\\",\\\"id\\\":14,\\\"credits\\\":3,\\\"nameCanonical\\\":\\\"\\\"},{\\\"curriculum_requisites\\\":[],\\\"name\\\":\\\" \\\",\\\"metrics\\\":{\\\"complexity\\\":1.0,\\\"centrality\\\":0,\\\"blocking factor\\\":0,\\\"delay factor\\\":1.0},\\\"nameSub\\\":\\\"EE Track Elective\\\",\\\"id\\\":15,\\\"credits\\\":3,\\\"nameCanonical\\\":\\\"\\\"},{\\\"curriculum_requisites\\\":[],\\\"name\\\":\\\" \\\",\\\"metrics\\\":{\\\"complexity\\\":1.0,\\\"centrality\\\":0,\\\"blocking factor\\\":0,\\\"delay factor\\\":1.0},\\\"nameSub\\\":\\\"EE Track Elective Lab\\\",\\\"id\\\":16,\\\"credits\\\":1,\\\"nameCanonical\\\":\\\"\\\"},{\\\"curriculum_requisites\\\":[{\\\"source_id\\\":11,\\\"target_id\\\":17,\\\"type\\\":\\\"prereq\\\"}],\\\"name\\\":\\\"EGS 3072\\\",\\\"metrics\\\":{\\\"complexity\\\":3.0,\\\"centrality\\\":0,\\\"blocking factor\\\":0,\\\"delay factor\\\":3.0},\\\"nameSub\\\":\\\"Professional Formation of Engineers III\\\",\\\"id\\\":17,\\\"credits\\\":1,\\\"nameCanonical\\\":\\\"\\\"},{\\\"curriculum_requisites\\\":[],\\\"name\\\":\\\" \\\",\\\"metrics\\\":{\\\"complexity\\\":1.0,\\\"centrality\\\":0,\\\"blocking factor\\\":0,\\\"delay factor\\\":1.0},\\\"nameSub\\\":\\\"Upper-Level Department Elective Lab\\\",\\\"id\\\":18,\\\"credits\\\":1,\\\"nameCanonical\\\":\\\"\\\"}],\\\"id\\\":10},{\\\"name\\\":\\\"Term 11\\\",\\\"curriculum_items\\\":[{\\\"curriculum_requisites\\\":[],\\\"name\\\":\\\" \\\",\\\"metrics\\\":{\\\"complexity\\\":1.0,\\\"centrality\\\":0,\\\"blocking factor\\\":0,\\\"delay factor\\\":1.0},\\\"nameSub\\\":\\\"Internship/Co-op Participation\\\",\\\"id\\\":20,\\\"credits\\\":0,\\\"nameCanonical\\\":\\\"\\\"}],\\\"id\\\":11},{\\\"name\\\":\\\"Term 12\\\",\\\"curriculum_items\\\":[{\\\"curriculum_requisites\\\":[],\\\"name\\\":\\\"EEL 4906\\\",\\\"metrics\\\":{\\\"complexity\\\":3.0,\\\"centrality\\\":0,\\\"blocking factor\\\":1,\\\"delay factor\\\":2.0},\\\"nameSub\\\":\\\"EE Design 1\\\",\\\"id\\\":26904,\\\"credits\\\":3,\\\"nameCanonical\\\":\\\"\\\"},{\\\"curriculum_requisites\\\":[],\\\"name\\\":\\\" \\\",\\\"metrics\\\":{\\\"complexity\\\":1.0,\\\"centrality\\\":0,\\\"blocking factor\\\":0,\\\"delay factor\\\":1.0},\\\"nameSub\\\":\\\"Upper-Level Department Elective\\\",\\\"id\\\":21,\\\"credits\\\":3,\\\"nameCanonical\\\":\\\"\\\"},{\\\"curriculum_requisites\\\":[],\\\"name\\\":\\\" \\\",\\\"metrics\\\":{\\\"complexity\\\":1.0,\\\"centrality\\\":0,\\\"blocking factor\\\":0,\\\"delay factor\\\":1.0},\\\"nameSub\\\":\\\"EE Track Elective\\\",\\\"id\\\":22,\\\"credits\\\":3,\\\"nameCanonical\\\":\\\"\\\"},{\\\"curriculum_requisites\\\":[],\\\"name\\\":\\\" \\\",\\\"metrics\\\":{\\\"complexity\\\":1.0,\\\"centrality\\\":0,\\\"blocking factor\\\":0,\\\"delay factor\\\":1.0},\\\"nameSub\\\":\\\"EE Track Elective\\\",\\\"id\\\":23,\\\"credits\\\":3,\\\"nameCanonical\\\":\\\"\\\"},{\\\"curriculum_requisites\\\":[],\\\"name\\\":\\\" \\\",\\\"metrics\\\":{\\\"complexity\\\":1.0,\\\"centrality\\\":0,\\\"blocking factor\\\":0,\\\"delay factor\\\":1.0},\\\"nameSub\\\":\\\"EE Track Elective Lab\\\",\\\"id\\\":24,\\\"credits\\\":1,\\\"nameCanonical\\\":\\\"\\\"},{\\\"curriculum_requisites\\\":[],\\\"name\\\":\\\" \\\",\\\"metrics\\\":{\\\"complexity\\\":1.0,\\\"centrality\\\":0,\\\"blocking factor\\\":0,\\\"delay factor\\\":1.0},\\\"nameSub\\\":\\\"Upper-Level Department Elective\\\",\\\"id\\\":25,\\\"credits\\\":3,\\\"nameCanonical\\\":\\\"\\\"}],\\\"id\\\":12},{\\\"name\\\":\\\"Term 13\\\",\\\"curriculum_items\\\":[{\\\"curriculum_requisites\\\":[{\\\"source_id\\\":26904,\\\"target_id\\\":27855,\\\"type\\\":\\\"prereq\\\"}],\\\"name\\\":\\\"EEL 4914\\\",\\\"metrics\\\":{\\\"complexity\\\":2.0,\\\"centrality\\\":0,\\\"blocking factor\\\":0,\\\"delay factor\\\":2.0},\\\"nameSub\\\":\\\"EE Design 2\\\",\\\"id\\\":27855,\\\"credits\\\":3,\\\"nameCanonical\\\":\\\"\\\"},{\\\"curriculum_requisites\\\":[],\\\"name\\\":\\\" \\\",\\\"metrics\\\":{\\\"complexity\\\":1.0,\\\"centrality\\\":0,\\\"blocking factor\\\":0,\\\"delay factor\\\":1.0},\\\"nameSub\\\":\\\"Upper-Level Department Elective\\\",\\\"id\\\":27,\\\"credits\\\":3,\\\"nameCanonical\\\":\\\"\\\"},{\\\"curriculum_requisites\\\":[],\\\"name\\\":\\\" \\\",\\\"metrics\\\":{\\\"complexity\\\":1.0,\\\"centrality\\\":0,\\\"blocking factor\\\":0,\\\"delay factor\\\":1.0},\\\"nameSub\\\":\\\"Upper-Level Department Elective\\\",\\\"id\\\":28,\\\"credits\\\":3,\\\"nameCanonical\\\":\\\"\\\"},{\\\"curriculum_requisites\\\":[],\\\"name\\\":\\\" \\\",\\\"metrics\\\":{\\\"complexity\\\":1.0,\\\"centrality\\\":0,\\\"blocking factor\\\":0,\\\"delay factor\\\":1.0},\\\"nameSub\\\":\\\"General Elective\\\",\\\"id\\\":29,\\\"credits\\\":3,\\\"nameCanonical\\\":\\\"\\\"},{\\\"curriculum_requisites\\\":[],\\\"name\\\":\\\" \\\",\\\"metrics\\\":{\\\"complexity\\\":1.0,\\\"centrality\\\":0,\\\"blocking factor\\\":0,\\\"delay factor\\\":1.0},\\\"nameSub\\\":\\\"General Elective\\\",\\\"id\\\":30,\\\"credits\\\":1,\\\"nameCanonical\\\":\\\"\\\"},{\\\"curriculum_requisites\\\":[],\\\"name\\\":\\\"SGES \\\",\\\"metrics\\\":{\\\"complexity\\\":1.0,\\\"centrality\\\":0,\\\"blocking factor\\\":0,\\\"delay factor\\\":1.0},\\\"nameSub\\\":\\\"State Social Science Gen Ed\\\",\\\"id\\\":31,\\\"credits\\\":3,\\\"nameCanonical\\\":\\\"\\\"}],\\\"id\\\":13}],\\\"institution\\\":\\\"USF\\\"}},\\\"*\\\"); window.removeEventListener(\\\"message\\\",window.messageReceived); window.messageReceived=(function (event){return (event.data.curriculum!==undefined) ? (WebIO.setval({\\\"name\\\":\\\"curriculum-data\\\",\\\"scope\\\":\\\"3936003754690179936\\\",\\\"id\\\":\\\"ob_02\\\",\\\"type\\\":\\\"observable\\\"},event.data.curriculum)) : undefined}); return window.addEventListener(\\\"message\\\",window.messageReceived)})\")),:style => Dict(:padding => \"0\",:height => \"100vh\",:margin => \"0\",:border => \"none\",:width => \"100%\"))), Dict{String,Tuple{Observables.AbstractObservable,Union{Nothing, Bool}}}(\"curriculum-data\" => (Observable{Dict{String,Any}} with 1 listeners. Value:\n",
       "Dict{String,Any}(\"options\" => Dict{String,Any}(\"hideTerms\" => false,\"edit\" => false),\"curriculum\" => Dict{String,Any}(\"name\" => \"BSEE-Electrical Engineering\",\"dp_name\" => \"EEL-NOT CALCorCHM ready-MAC1114&1140\",\"curriculum_terms\" => Dict{String,Any}[Dict(\"name\" => \"Term 1\",\"curriculum_items\" => Dict{String,Any}[Dict(\"curriculum_requisites\" => Dict{String,Any}[],\"name\" => \"CHM 2023\",\"metrics\" => Dict{String,Any}(\"complexity\" => 7.0,\"centrality\" => 0,\"blocking factor\" => 3,\"delay factor\" => 4.0),\"nameSub\" => \"Chemistry for Today\",\"id\" => 26602,\"credits\" => 3,\"nameCanonical\" => \"\"), Dict(\"curriculum_requisites\" => Dict{String,Any}[],\"name\" => \"MAT 1033\",\"metrics\" => Dict{String,Any}(\"complexity\" => 28.0,\"centrality\" => 0,\"blocking factor\" => 17,\"delay factor\" => 11.0),\"nameSub\" => \"Intermediate Algebra\",\"id\" => 28218,\"credits\" => 3,\"nameCanonical\" => \"\")],\"id\" => 1), Dict(\"name\" => \"Term 2\",\"curriculum_items\" => Dict{String,Any}[Dict(\"curriculum_requisites\" => Dict{String,Any}[Dict(\"source_id\" => 28218,\"target_id\" => 25855,\"type\" => \"prereq\")],\"name\" => \"MAC 1105\",\"metrics\" => Dict{String,Any}(\"complexity\" => 27.0,\"centrality\" => 226,\"blocking factor\" => 16,\"delay factor\" => 11.0),\"nameSub\" => \"College Algebra\",\"id\" => 25855,\"credits\" => 3,\"nameCanonical\" => \"\")],\"id\" => 2), Dict(\"name\" => \"Term 3\",\"curriculum_items\" => Dict{String,Any}[Dict(\"curriculum_requisites\" => Dict{String,Any}[Dict(\"source_id\" => 25855,\"target_id\" => 25856,\"type\" => \"prereq\"), Dict(\"source_id\" => 27685,\"target_id\" => 25856,\"type\" => \"coreq\")],\"name\" => \"MAC 1114\",\"metrics\" => Dict{String,Any}(\"complexity\" => 25.0,\"centrality\" => 154,\"blocking factor\" => 14,\"delay factor\" => 11.0),\"nameSub\" => \"Precalculus Trigonometry\",\"id\" => 25856,\"credits\" => 2,\"nameCanonical\" => \"\"), Dict(\"curriculum_requisites\" => Dict{String,Any}[Dict(\"source_id\" => 25855,\"target_id\" => 27685,\"type\" => \"prereq\")],\"name\" => \"MAC 1140\",\"metrics\" => Dict{String,Any}(\"complexity\" => 26.0,\"centrality\" => 154,\"blocking factor\" => 15,\"delay factor\" => 11.0),\"nameSub\" => \"Precalculus Algebra\",\"id\" => 27685,\"credits\" => 3,\"nameCanonical\" => \"\")],\"id\" => 3), Dict(\"name\" => \"Term 4\",\"curriculum_items\" => Dict{String,Any}[Dict(\"curriculum_requisites\" => Dict{String,Any}[Dict(\"source_id\" => 25856,\"target_id\" => 24950,\"type\" => \"prereq\"), Dict(\"source_id\" => 27685,\"target_id\" => 24950,\"type\" => \"prereq\")],\"name\" => \"MAC 2281\",\"metrics\" => Dict{String,Any}(\"complexity\" => 24.0,\"centrality\" => 226,\"blocking factor\" => 13,\"delay factor\" => 11.0),\"nameSub\" => \"Engineering Calculus I\",\"id\" => 24950,\"credits\" => 4,\"nameCanonical\" => \"\"), Dict(\"curriculum_requisites\" => Dict{String,Any}[Dict(\"source_id\" => 26602,\"target_id\" => 25478,\"type\" => \"prereq\")],\"name\" => \"CHM/CHS 2045/2440\",\"metrics\" => Dict{String,Any}(\"complexity\" => 6.0,\"centrality\" => 4,\"blocking factor\" => 2,\"delay factor\" => 4.0),\"nameSub\" => \"General Chemistry I/Chem for Engineers \",\"id\" => 25478,\"credits\" => 3,\"nameCanonical\" => \"\"), Dict(\"curriculum_requisites\" => Dict{String,Any}[],\"name\" => \"ENC 1101\",\"metrics\" => Dict{String,Any}(\"complexity\" => 3.0,\"centrality\" => 0,\"blocking factor\" => 1,\"delay factor\" => 2.0),\"nameSub\" => \"Composition I\",\"id\" => 23525,\"credits\" => 3,\"nameCanonical\" => \"\"), Dict(\"curriculum_requisites\" => Dict{String,Any}[],\"name\" => \"CHM/CHS 2045/2440L\",\"metrics\" => Dict{String,Any}(\"complexity\" => 1.0,\"centrality\" => 0,\"blocking factor\" => 0,\"delay factor\" => 1.0),\"nameSub\" => \"General Chemistry I/Chem for Engineers Laboratory\",\"id\" => 25479,\"credits\" => 1,\"nameCanonical\" => \"\"), Dict(\"curriculum_requisites\" => Dict{String,Any}[],\"name\" => \"EGN 3000L\",\"metrics\" => Dict{String,Any}(\"complexity\" => 1.0,\"centrality\" => 0,\"blocking factor\" => 0,\"delay factor\" => 1.0),\"nameSub\" => \"Foundations of Engineering Lab\",\"id\" => 23287,\"credits\" => 3,\"nameCanonical\" => \"\"), Dict(\"curriculum_requisites\" => Dict{String,Any}[],\"name\" => \"EGN 3000\",\"metrics\" => Dict{String,Any}(\"complexity\" => 1.0,\"centrality\" => 0,\"blocking factor\" => 0,\"delay factor\" => 1.0),\"nameSub\" => \"Foundations of Engineering\",\"id\" => 28172,\"credits\" => 0,\"nameCanonical\" => \"\")],\"id\" => 4), Dict(\"name\" => \"Term 5\",\"curriculum_items\" => Dict{String,Any}[Dict(\"curriculum_requisites\" => Dict{String,Any}[Dict(\"source_id\" => 24950,\"target_id\" => 24951,\"type\" => \"prereq\")],\"name\" => \"MAC 2282\",\"metrics\" => Dict{String,Any}(\"complexity\" => 21.0,\"centrality\" => 166,\"blocking factor\" => 10,\"delay factor\" => 11.0),\"nameSub\" => \"Engineering Calculus II\",\"id\" => 24951,\"credits\" => 4,\"nameCanonical\" => \"\"), Dict(\"curriculum_requisites\" => Dict{String,Any}[Dict(\"source_id\" => 23525,\"target_id\" => 23526,\"type\" => \"prereq\")],\"name\" => \"ENC 1102\",\"metrics\" => Dict{String,Any}(\"complexity\" => 2.0,\"centrality\" => 0,\"blocking factor\" => 0,\"delay factor\" => 2.0),\"nameSub\" => \"Composition II\",\"id\" => 23526,\"credits\" => 3,\"nameCanonical\" => \"\"), Dict(\"curriculum_requisites\" => Dict{String,Any}[Dict(\"source_id\" => 24950,\"target_id\" => 26014,\"type\" => \"prereq\")],\"name\" => \"PHY 2048\",\"metrics\" => Dict{String,Any}(\"complexity\" => 8.0,\"centrality\" => 41,\"blocking factor\" => 2,\"delay factor\" => 6.0),\"nameSub\" => \"General Physics I - Calculus Based\",\"id\" => 26014,\"credits\" => 3,\"nameCanonical\" => \"\"), Dict(\"curriculum_requisites\" => Dict{String,Any}[Dict(\"source_id\" => 24950,\"target_id\" => 26015,\"type\" => \"prereq\")],\"name\" => \"PHY 2048L\",\"metrics\" => Dict{String,Any}(\"complexity\" => 7.0,\"centrality\" => 19,\"blocking factor\" => 1,\"delay factor\" => 6.0),\"nameSub\" => \"General Physics I Laboratory\",\"id\" => 26015,\"credits\" => 1,\"nameCanonical\" => \"\"), Dict(\"curriculum_requisites\" => Dict{String,Any}[],\"name\" => \"EEL 3705\",\"metrics\" => Dict{String,Any}(\"complexity\" => 3.0,\"centrality\" => 0,\"blocking factor\" => 1,\"delay factor\" => 2.0),\"nameSub\" => \"Fundamentals of Digital Circuits\",\"id\" => 23747,\"credits\" => 3,\"nameCanonical\" => \"\")],\"id\" => 5), Dict(\"name\" => \"Term 6\",\"curriculum_items\" => Dict{String,Any}[Dict(\"curriculum_requisites\" => Dict{String,Any}[Dict(\"source_id\" => 24951,\"target_id\" => 24952,\"type\" => \"prereq\")],\"name\" => \"MAC 2283\",\"metrics\" => Dict{String,Any}(\"complexity\" => 18.0,\"centrality\" => 84,\"blocking factor\" => 7,\"delay factor\" => 11.0),\"nameSub\" => \"Engineering Calculus III\",\"id\" => 24952,\"credits\" => 4,\"nameCanonical\" => \"\"), Dict(\"curriculum_requisites\" => Dict{String,Any}[Dict(\"source_id\" => 24951,\"target_id\" => 25357,\"type\" => \"prereq\")],\"name\" => \"EGN 3420\",\"metrics\" => Dict{String,Any}(\"complexity\" => 9.0,\"centrality\" => 44,\"blocking factor\" => 2,\"delay factor\" => 7.0),\"nameSub\" => \"Engineering Analysis\",\"id\" => 25357,\"credits\" => 4,\"nameCanonical\" => \"\"), Dict(\"curriculum_requisites\" => Dict{String,Any}[Dict(\"source_id\" => 24952,\"target_id\" => 27967,\"type\" => \"coreq\"), Dict(\"source_id\" => 26014,\"target_id\" => 27967,\"type\" => \"prereq\"), Dict(\"source_id\" => 25478,\"target_id\" => 27967,\"type\" => \"prereq\")],\"name\" => \"EEE 3394\",\"metrics\" => Dict{String,Any}(\"complexity\" => 10.0,\"centrality\" => 51,\"blocking factor\" => 1,\"delay factor\" => 9.0),\"nameSub\" => \"Electrical Engineering Science I - Electronic Materials\",\"id\" => 27967,\"credits\" => 3,\"nameCanonical\" => \"\"), Dict(\"curriculum_requisites\" => Dict{String,Any}[Dict(\"source_id\" => 23747,\"target_id\" => 26896,\"type\" => \"prereq\")],\"name\" => \"EEL 3705L\",\"metrics\" => Dict{String,Any}(\"complexity\" => 2.0,\"centrality\" => 0,\"blocking factor\" => 0,\"delay factor\" => 2.0),\"nameSub\" => \"Fundamentals of Digital Circuits Laboratory\",\"id\" => 26896,\"credits\" => 1,\"nameCanonical\" => \"\"), Dict(\"curriculum_requisites\" => Dict{String,Any}[],\"name\" => \"SGEH \",\"metrics\" => Dict{String,Any}(\"complexity\" => 1.0,\"centrality\" => 0,\"blocking factor\" => 0,\"delay factor\" => 1.0),\"nameSub\" => \"State Humanities Gen Ed\",\"id\" => 4,\"credits\" => 3,\"nameCanonical\" => \"\")],\"id\" => 6), Dict(\"name\" => \"Term 7\",\"curriculum_items\" => Dict{String,Any}[Dict(\"curriculum_requisites\" => Dict{String,Any}[Dict(\"source_id\" => 24959,\"target_id\" => 25981,\"type\" => \"coreq\")],\"name\" => \"EGN 3373\",\"metrics\" => Dict{String,Any}(\"complexity\" => 14.0,\"centrality\" => 59,\"blocking factor\" => 3,\"delay factor\" => 11.0),\"nameSub\" => \"Introduction to Electrical Systems I\",\"id\" => 25981,\"credits\" => 3,\"nameCanonical\" => \"\"), Dict(\"curriculum_requisites\" => Dict{String,Any}[Dict(\"source_id\" => 24952,\"target_id\" => 24959,\"type\" => \"prereq\")],\"name\" => \"MAP 2302\",\"metrics\" => Dict{String,Any}(\"complexity\" => 15.0,\"centrality\" => 59,\"blocking factor\" => 4,\"delay factor\" => 11.0),\"nameSub\" => \"Differential Equations\",\"id\" => 24959,\"credits\" => 3,\"nameCanonical\" => \"\"), Dict(\"curriculum_requisites\" => Dict{String,Any}[Dict(\"source_id\" => 24951,\"target_id\" => 29920,\"type\" => \"prereq\"), Dict(\"source_id\" => 25357,\"target_id\" => 29920,\"type\" => \"prereq\"), Dict(\"source_id\" => 27967,\"target_id\" => 29920,\"type\" => \"prereq\"), Dict(\"source_id\" => 26014,\"target_id\" => 29920,\"type\" => \"prereq\"), Dict(\"source_id\" => 26015,\"target_id\" => 29920,\"type\" => \"prereq\")],\"name\" => \"EEL/PHY 3472C/2049 + 2049L\",\"metrics\" => Dict{String,Any}(\"complexity\" => 9.0,\"centrality\" => 0,\"blocking factor\" => 0,\"delay factor\" => 9.0),\"nameSub\" => \"Electrical Engineering Science II - Electromagnetics/Physics II + Lab\",\"id\" => 29920,\"credits\" => 4,\"nameCanonical\" => \"\"), Dict(\"curriculum_requisites\" => Dict{String,Any}[],\"name\" => \"EEL 2161\",\"metrics\" => Dict{String,Any}(\"complexity\" => 3.0,\"centrality\" => 0,\"blocking factor\" => 1,\"delay factor\" => 2.0),\"nameSub\" => \"Programming with C\",\"id\" => 24974,\"credits\" => 3,\"nameCanonical\" => \"\"), Dict(\"curriculum_requisites\" => Dict{String,Any}[],\"name\" => \"EGS 2070\",\"metrics\" => Dict{String,Any}(\"complexity\" => 5.0,\"centrality\" => 0,\"blocking factor\" => 2,\"delay factor\" => 3.0),\"nameSub\" => \"Professional Formation of Engineers I\",\"id\" => 6,\"credits\" => 1,\"nameCanonical\" => \"\")],\"id\" => 7), Dict(\"name\" => \"Term 8\",\"curriculum_items\" => Dict{String,Any}[Dict(\"curriculum_requisites\" => Dict{String,Any}[Dict(\"source_id\" => 25981,\"target_id\" => 27018,\"type\" => \"prereq\")],\"name\" => \"EGN 3374\",\"metrics\" => Dict{String,Any}(\"complexity\" => 12.0,\"centrality\" => 31,\"blocking factor\" => 1,\"delay factor\" => 11.0),\"nameSub\" => \"Introduction to Electrical Systems II\",\"id\" => 27018,\"credits\" => 3,\"nameCanonical\" => \"\"), Dict(\"curriculum_requisites\" => Dict{String,Any}[Dict(\"source_id\" => 24951,\"target_id\" => 25983,\"type\" => \"prereq\")],\"name\" => \"EGN 3443\",\"metrics\" => Dict{String,Any}(\"complexity\" => 7.0,\"centrality\" => 0,\"blocking factor\" => 0,\"delay factor\" => 7.0),\"nameSub\" => \"Probability and Statistics for Engineers\",\"id\" => 25983,\"credits\" => 3,\"nameCanonical\" => \"\"), Dict(\"curriculum_requisites\" => Dict{String,Any}[],\"name\" => \"EGN 3615\",\"metrics\" => Dict{String,Any}(\"complexity\" => 1.0,\"centrality\" => 0,\"blocking factor\" => 0,\"delay factor\" => 1.0),\"nameSub\" => \"Engineering Economics with Social and Global Implications\",\"id\" => 24859,\"credits\" => 3,\"nameCanonical\" => \"\")],\"id\" => 8), Dict(\"name\" => \"Term 9\",\"curriculum_items\" => Dict{String,Any}[Dict(\"curriculum_requisites\" => Dict{String,Any}[Dict(\"source_id\" => 25981,\"target_id\" => 26911,\"type\" => \"prereq\")],\"name\" => \"EEL 3115L\",\"metrics\" => Dict{String,Any}(\"complexity\" => 10.0,\"centrality\" => 0,\"blocking factor\" => 0,\"delay factor\" => 10.0),\"nameSub\" => \"Laboratory I\",\"id\" => 26911,\"credits\" => 1,\"nameCanonical\" => \"\"), Dict(\"curriculum_requisites\" => Dict{String,Any}[],\"name\" => \" \",\"metrics\" => Dict{String,Any}(\"complexity\" => 1.0,\"centrality\" => 0,\"blocking factor\" => 0,\"delay factor\" => 1.0),\"nameSub\" => \"EE Core Technical Elective\",\"id\" => 9,\"credits\" => 3,\"nameCanonical\" => \"\"), Dict(\"curriculum_requisites\" => Dict{String,Any}[],\"name\" => \" \",\"metrics\" => Dict{String,Any}(\"complexity\" => 1.0,\"centrality\" => 0,\"blocking factor\" => 0,\"delay factor\" => 1.0),\"nameSub\" => \"EE Core Technical Elective\",\"id\" => 10,\"credits\" => 3,\"nameCanonical\" => \"\"), Dict(\"curriculum_requisites\" => Dict{String,Any}[Dict(\"source_id\" => 27018,\"target_id\" => 25885,\"type\" => \"prereq\"), Dict(\"source_id\" => 25357,\"target_id\" => 25885,\"type\" => \"prereq\")],\"name\" => \"EEL 4102\",\"metrics\" => Dict{String,Any}(\"complexity\" => 11.0,\"centrality\" => 0,\"blocking factor\" => 0,\"delay factor\" => 11.0),\"nameSub\" => \"Signals and Systems\",\"id\" => 25885,\"credits\" => 3,\"nameCanonical\" => \"\"), Dict(\"curriculum_requisites\" => Dict{String,Any}[Dict(\"source_id\" => 24974,\"target_id\" => 29988,\"type\" => \"prereq\")],\"name\" => \"EEL 3163C\",\"metrics\" => Dict{String,Any}(\"complexity\" => 2.0,\"centrality\" => 0,\"blocking factor\" => 0,\"delay factor\" => 2.0),\"nameSub\" => \"Computer Tool Lab\",\"id\" => 29988,\"credits\" => 1,\"nameCanonical\" => \"\"), Dict(\"curriculum_requisites\" => Dict{String,Any}[],\"name\" => \"ENC 3246\",\"metrics\" => Dict{String,Any}(\"complexity\" => 1.0,\"centrality\" => 0,\"blocking factor\" => 0,\"delay factor\" => 1.0),\"nameSub\" => \"Communication for Engineers\",\"id\" => 27719,\"credits\" => 3,\"nameCanonical\" => \"\"), Dict(\"curriculum_requisites\" => Dict{String,Any}[Dict(\"source_id\" => 6,\"target_id\" => 11,\"type\" => \"prereq\")],\"name\" => \"EGS 3071\",\"metrics\" => Dict{String,Any}(\"complexity\" => 4.0,\"centrality\" => 3,\"blocking factor\" => 1,\"delay factor\" => 3.0),\"nameSub\" => \"Professional Formation of Engineers II\",\"id\" => 11,\"credits\" => 1,\"nameCanonical\" => \"\")],\"id\" => 9), Dict(\"name\" => \"Term 10\",\"curriculum_items\" => Dict{String,Any}[Dict(\"curriculum_requisites\" => Dict{String,Any}[],\"name\" => \" \",\"metrics\" => Dict{String,Any}(\"complexity\" => 1.0,\"centrality\" => 0,\"blocking factor\" => 0,\"delay factor\" => 1.0),\"nameSub\" => \"EE Core Technical Elective\",\"id\" => 12,\"credits\" => 3,\"nameCanonical\" => \"\"), Dict(\"curriculum_requisites\" => Dict{String,Any}[],\"name\" => \" \",\"metrics\" => Dict{String,Any}(\"complexity\" => 1.0,\"centrality\" => 0,\"blocking factor\" => 0,\"delay factor\" => 1.0),\"nameSub\" => \"EE Core Technical Elective\",\"id\" => 13,\"credits\" => 3,\"nameCanonical\" => \"\"), Dict(\"curriculum_requisites\" => Dict{String,Any}[],\"name\" => \" \",\"metrics\" => Dict{String,Any}(\"complexity\" => 1.0,\"centrality\" => 0,\"blocking factor\" => 0,\"delay factor\" => 1.0),\"nameSub\" => \"EE Track Elective\",\"id\" => 14,\"credits\" => 3,\"nameCanonical\" => \"\"), Dict(\"curriculum_requisites\" => Dict{String,Any}[],\"name\" => \" \",\"metrics\" => Dict{String,Any}(\"complexity\" => 1.0,\"centrality\" => 0,\"blocking factor\" => 0,\"delay factor\" => 1.0),\"nameSub\" => \"EE Track Elective\",\"id\" => 15,\"credits\" => 3,\"nameCanonical\" => \"\"), Dict(\"curriculum_requisites\" => Dict{String,Any}[],\"name\" => \" \",\"metrics\" => Dict{String,Any}(\"complexity\" => 1.0,\"centrality\" => 0,\"blocking factor\" => 0,\"delay factor\" => 1.0),\"nameSub\" => \"EE Track Elective Lab\",\"id\" => 16,\"credits\" => 1,\"nameCanonical\" => \"\"), Dict(\"curriculum_requisites\" => Dict{String,Any}[Dict(\"source_id\" => 11,\"target_id\" => 17,\"type\" => \"prereq\")],\"name\" => \"EGS 3072\",\"metrics\" => Dict{String,Any}(\"complexity\" => 3.0,\"centrality\" => 0,\"blocking factor\" => 0,\"delay factor\" => 3.0),\"nameSub\" => \"Professional Formation of Engineers III\",\"id\" => 17,\"credits\" => 1,\"nameCanonical\" => \"\"), Dict(\"curriculum_requisites\" => Dict{String,Any}[],\"name\" => \" \",\"metrics\" => Dict{String,Any}(\"complexity\" => 1.0,\"centrality\" => 0,\"blocking factor\" => 0,\"delay factor\" => 1.0),\"nameSub\" => \"Upper-Level Department Elective Lab\",\"id\" => 18,\"credits\" => 1,\"nameCanonical\" => \"\")],\"id\" => 10), Dict(\"name\" => \"Term 11\",\"curriculum_items\" => Dict{String,Any}[Dict(\"curriculum_requisites\" => Dict{String,Any}[],\"name\" => \" \",\"metrics\" => Dict{String,Any}(\"complexity\" => 1.0,\"centrality\" => 0,\"blocking factor\" => 0,\"delay factor\" => 1.0),\"nameSub\" => \"Internship/Co-op Participation\",\"id\" => 20,\"credits\" => 0,\"nameCanonical\" => \"\")],\"id\" => 11), Dict(\"name\" => \"Term 12\",\"curriculum_items\" => Dict{String,Any}[Dict(\"curriculum_requisites\" => Dict{String,Any}[],\"name\" => \"EEL 4906\",\"metrics\" => Dict{String,Any}(\"complexity\" => 3.0,\"centrality\" => 0,\"blocking factor\" => 1,\"delay factor\" => 2.0),\"nameSub\" => \"EE Design 1\",\"id\" => 26904,\"credits\" => 3,\"nameCanonical\" => \"\"), Dict(\"curriculum_requisites\" => Dict{String,Any}[],\"name\" => \" \",\"metrics\" => Dict{String,Any}(\"complexity\" => 1.0,\"centrality\" => 0,\"blocking factor\" => 0,\"delay factor\" => 1.0),\"nameSub\" => \"Upper-Level Department Elective\",\"id\" => 21,\"credits\" => 3,\"nameCanonical\" => \"\"), Dict(\"curriculum_requisites\" => Dict{String,Any}[],\"name\" => \" \",\"metrics\" => Dict{String,Any}(\"complexity\" => 1.0,\"centrality\" => 0,\"blocking factor\" => 0,\"delay factor\" => 1.0),\"nameSub\" => \"EE Track Elective\",\"id\" => 22,\"credits\" => 3,\"nameCanonical\" => \"\"), Dict(\"curriculum_requisites\" => Dict{String,Any}[],\"name\" => \" \",\"metrics\" => Dict{String,Any}(\"complexity\" => 1.0,\"centrality\" => 0,\"blocking factor\" => 0,\"delay factor\" => 1.0),\"nameSub\" => \"EE Track Elective\",\"id\" => 23,\"credits\" => 3,\"nameCanonical\" => \"\"), Dict(\"curriculum_requisites\" => Dict{String,Any}[],\"name\" => \" \",\"metrics\" => Dict{String,Any}(\"complexity\" => 1.0,\"centrality\" => 0,\"blocking factor\" => 0,\"delay factor\" => 1.0),\"nameSub\" => \"EE Track Elective Lab\",\"id\" => 24,\"credits\" => 1,\"nameCanonical\" => \"\"), Dict(\"curriculum_requisites\" => Dict{String,Any}[],\"name\" => \" \",\"metrics\" => Dict{String,Any}(\"complexity\" => 1.0,\"centrality\" => 0,\"blocking factor\" => 0,\"delay factor\" => 1.0),\"nameSub\" => \"Upper-Level Department Elective\",\"id\" => 25,\"credits\" => 3,\"nameCanonical\" => \"\")],\"id\" => 12), Dict(\"name\" => \"Term 13\",\"curriculum_items\" => Dict{String,Any}[Dict(\"curriculum_requisites\" => Dict{String,Any}[Dict(\"source_id\" => 26904,\"target_id\" => 27855,\"type\" => \"prereq\")],\"name\" => \"EEL 4914\",\"metrics\" => Dict{String,Any}(\"complexity\" => 2.0,\"centrality\" => 0,\"blocking factor\" => 0,\"delay factor\" => 2.0),\"nameSub\" => \"EE Design 2\",\"id\" => 27855,\"credits\" => 3,\"nameCanonical\" => \"\"), Dict(\"curriculum_requisites\" => Dict{String,Any}[],\"name\" => \" \",\"metrics\" => Dict{String,Any}(\"complexity\" => 1.0,\"centrality\" => 0,\"blocking factor\" => 0,\"delay factor\" => 1.0),\"nameSub\" => \"Upper-Level Department Elective\",\"id\" => 27,\"credits\" => 3,\"nameCanonical\" => \"\"), Dict(\"curriculum_requisites\" => Dict{String,Any}[],\"name\" => \" \",\"metrics\" => Dict{String,Any}(\"complexity\" => 1.0,\"centrality\" => 0,\"blocking factor\" => 0,\"delay factor\" => 1.0),\"nameSub\" => \"Upper-Level Department Elective\",\"id\" => 28,\"credits\" => 3,\"nameCanonical\" => \"\"), Dict(\"curriculum_requisites\" => Dict{String,Any}[],\"name\" => \" \",\"metrics\" => Dict{String,Any}(\"complexity\" => 1.0,\"centrality\" => 0,\"blocking factor\" => 0,\"delay factor\" => 1.0),\"nameSub\" => \"General Elective\",\"id\" => 29,\"credits\" => 3,\"nameCanonical\" => \"\"), Dict(\"curriculum_requisites\" => Dict{String,Any}[],\"name\" => \" \",\"metrics\" => Dict{String,Any}(\"complexity\" => 1.0,\"centrality\" => 0,\"blocking factor\" => 0,\"delay factor\" => 1.0),\"nameSub\" => \"General Elective\",\"id\" => 30,\"credits\" => 1,\"nameCanonical\" => \"\"), Dict(\"curriculum_requisites\" => Dict{String,Any}[],\"name\" => \"SGES \",\"metrics\" => Dict{String,Any}(\"complexity\" => 1.0,\"centrality\" => 0,\"blocking factor\" => 0,\"delay factor\" => 1.0),\"nameSub\" => \"State Social Science Gen Ed\",\"id\" => 31,\"credits\" => 3,\"nameCanonical\" => \"\")],\"id\" => 13)],\"institution\" => \"USF\")), nothing)), Set(String[]), nothing, WebIO.Asset[], Dict{Any,Any}(), WebIO.ConnectionPool(Channel{Any}(sz_max:32,sz_curr:0), Set(WebIO.AbstractConnection[]), Base.GenericCondition{Base.AlwaysLockedST}(Base.InvasiveLinkedList{Task}(Task (runnable) @0x0000000139f00fd0, Task (runnable) @0x0000000139f00fd0), Base.AlwaysLockedST(1))), WebIO.JSString[])"
      ]
     },
     "execution_count": 10,
     "metadata": {
      "application/vnd.webio.node+json": {
       "kernelId": "a033a4fb-e505-43ef-bc72-a9b6a6d5ceb3"
      }
     },
     "output_type": "execute_result"
    }
   ],
   "source": [
    "EE_plan = plan[\"EEL-NOT CALCorCHM ready-MAC1114&1140\"]\n",
    "visualize(EE_plan, notebook=true)"
   ]
  },
  {
   "cell_type": "code",
   "execution_count": null,
   "metadata": {},
   "outputs": [],
   "source": []
  }
 ],
 "metadata": {
  "@webio": {
   "lastCommId": "628099bf5c324bed9a754613fd839533",
   "lastKernelId": "a033a4fb-e505-43ef-bc72-a9b6a6d5ceb3"
  },
  "kernelspec": {
   "display_name": "Julia 1.3.1",
   "language": "julia",
   "name": "julia-1.3"
  },
  "language_info": {
   "file_extension": ".jl",
   "mimetype": "application/julia",
   "name": "julia",
   "version": "1.3.1"
  }
 },
 "nbformat": 4,
 "nbformat_minor": 2
}
