{
 "cells": [
  {
   "cell_type": "code",
   "execution_count": 1,
   "id": "c8f8acef",
   "metadata": {},
   "outputs": [],
   "source": [
    "using MaximumLikelihoodPower\n",
    "const MLE = MaximumLikelihoodPower; "
   ]
  },
  {
   "cell_type": "code",
   "execution_count": 2,
   "id": "bff46a4a",
   "metadata": {},
   "outputs": [],
   "source": [
    "seed = 12; α = 0.5;\n",
    "data = MLE.Example.makeparetodata(α, seed);"
   ]
  },
  {
   "cell_type": "code",
   "execution_count": 16,
   "id": "dee01657",
   "metadata": {},
   "outputs": [
    {
     "data": {
      "text/plain": [
       "3-element Vector{Float64}:\n",
       " 0.499\n",
       " 0.5\n",
       " 0.501"
      ]
     },
     "execution_count": 16,
     "metadata": {},
     "output_type": "execute_result"
    }
   ],
   "source": [
    "scanKS(data, range(.495, length=11, stop=.505))"
   ]
  },
  {
   "cell_type": "code",
   "execution_count": 15,
   "id": "3acdfc44",
   "metadata": {},
   "outputs": [
    {
     "data": {
      "text/plain": [
       "0.495:0.001:0.505"
      ]
     },
     "execution_count": 15,
     "metadata": {},
     "output_type": "execute_result"
    }
   ],
   "source": [
    "range(.495, length=11, stop=.505)"
   ]
  },
  {
   "cell_type": "code",
   "execution_count": null,
   "id": "b18ed701",
   "metadata": {},
   "outputs": [],
   "source": []
  }
 ],
 "metadata": {
  "kernelspec": {
   "display_name": "Julia 1.7.3",
   "language": "julia",
   "name": "julia-1.7"
  },
  "language_info": {
   "file_extension": ".jl",
   "mimetype": "application/julia",
   "name": "julia",
   "version": "1.7.3"
  }
 },
 "nbformat": 4,
 "nbformat_minor": 5
}
