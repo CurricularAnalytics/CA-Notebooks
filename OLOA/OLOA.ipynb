{
 "cells": [
  {
   "cell_type": "markdown",
   "id": "81e567db",
   "metadata": {},
   "source": [
    "# <center>Optimizing Curricula around Learning Outcomes Attainment</center>\n",
    "\n",
    "<center>\n",
    "    <b>Gregory L. Heileman and Yiming Zhang</b> <br>\n",
    "    Department of Electrical & Computer Engineering <br>\n",
    "    Univeristy of Arizaon <br>\n",
    "    heileman@arizona.edu\n",
    "</center>\n",
    "\n",
    "## Introduction\n",
    "This notebook considers the Optimal Learning Outcomes Assignment (OLOA) problem, which involves assigning learning outcomes to courses during backwards design in a way that minimizes the complexity of the resulting curriculum. An approximation algorithm for the OLOA problem is provided that yields novel solutions to important engineering curricular design challenges. Background: Engineering programs offer some of the most complex curricula in higher education. This complexity negatively impacts various student success metrics, including time-to-degree and graduation rates. Intended Outcomes: Reduc- ing curricular complexity, while maintaining effective learning outcomes attainment, increases the likelihood students will com- plete a curriculum and earn a degree. Application Design: The rationale for this work follows from the fact that by rearranging the learning outcomes among the courses in a curriculum, the overall structure of a curriculum can be changed. The OLOA problem provides a criterion for finding curricular structures that enhance student success. Findings: The OLOA problem is shown to be strongly NP-complete; however, an integer quadratic pro- gramming approximation algorithm is described that effectively produces practical, efficient, and novel solutions for attaining the most important leaning outcomes in an undergraduate electrical engineering curriculum. This method is generally applicable to curriculum design in any discipline.\n",
    "\n",
    "This analysis will make use of the Curricular Analytics toolbox (see <cite data-cite=\"he:18\">Heileman, et. al, (2018)</cite> and <cite data-cite=\"he:18\">Heileman, et. al. (2019)</cite>) for detailed documentation about this toolbox), a Julia programming language package created to support the study of university curricula.  The following commands will install the toolbox: "
   ]
  },
  {
   "cell_type": "code",
   "execution_count": 3,
   "id": "a21f6a31",
   "metadata": {},
   "outputs": [],
   "source": [
    "using CurricularAnalytics, CurricularVisualization"
   ]
  },
  {
   "cell_type": "code",
   "execution_count": 4,
   "id": "b58efdf9",
   "metadata": {},
   "outputs": [
    {
     "data": {
      "application/vnd.webio.node+json": {
       "children": [
        {
         "children": [
          ""
         ],
         "instanceArgs": {
          "namespace": "html",
          "tag": "iframe"
         },
         "nodeType": "DOM",
         "props": {
          "events": {
           "load": "(function (){this.contentWindow.postMessage({\"options\":{\"hideTerms\":false,\"edit\":false},\"curriculum\":{\"name\":\"Circuits I Design Pattern\",\"dp_name\":\"Calculus ready\",\"curriculum_terms\":[{\"name\":\"Term 1\",\"curriculum_items\":[{\"curriculum_requisites\":[],\"name\":\" \",\"metrics\":{\"centrality\":0,\"complexity\":11.0,\"blocking factor\":6,\"delay factor\":5.0},\"nameSub\":\"Calculus I\",\"id\":1,\"credits\":4,\"nameCanonical\":\"\"},{\"curriculum_requisites\":[{\"source_id\":1,\"target_id\":3,\"type\":\"CurriculumCorequisite\"}],\"name\":\" \",\"metrics\":{\"centrality\":5,\"complexity\":8.0,\"blocking factor\":3,\"delay factor\":5.0},\"nameSub\":\"Physics I\",\"id\":3,\"credits\":4,\"nameCanonical\":\"\"}],\"id\":1},{\"name\":\"Term 2\",\"curriculum_items\":[{\"curriculum_requisites\":[{\"source_id\":1,\"target_id\":2,\"type\":\"CurriculumPrerequisite\"}],\"name\":\" \",\"metrics\":{\"centrality\":13,\"complexity\":9.0,\"blocking factor\":4,\"delay factor\":5.0},\"nameSub\":\"Calculus II\",\"id\":2,\"credits\":3,\"nameCanonical\":\"\"},{\"curriculum_requisites\":[{\"source_id\":2,\"target_id\":4,\"type\":\"CurriculumCorequisite\"},{\"source_id\":3,\"target_id\":4,\"type\":\"CurriculumPrerequisite\"}],\"name\":\" \",\"metrics\":{\"centrality\":10,\"complexity\":7.0,\"blocking factor\":2,\"delay factor\":5.0},\"nameSub\":\"Physics II\",\"id\":4,\"credits\":4,\"nameCanonical\":\"\"}],\"id\":2},{\"name\":\"Term 3\",\"curriculum_items\":[{\"curriculum_requisites\":[{\"source_id\":2,\"target_id\":5,\"type\":\"CurriculumPrerequisite\"}],\"name\":\" \",\"metrics\":{\"centrality\":4,\"complexity\":5.0,\"blocking factor\":1,\"delay factor\":4.0},\"nameSub\":\"Differential Eqs.\",\"id\":5,\"credits\":3,\"nameCanonical\":\"\"},{\"curriculum_requisites\":[{\"source_id\":4,\"target_id\":6,\"type\":\"CurriculumCorequisite\"},{\"source_id\":2,\"target_id\":6,\"type\":\"CurriculumPrerequisite\"}],\"name\":\" \",\"metrics\":{\"centrality\":14,\"complexity\":6.0,\"blocking factor\":1,\"delay factor\":5.0},\"nameSub\":\"Circuits I\",\"id\":6,\"credits\":3,\"nameCanonical\":\"\"}],\"id\":3},{\"name\":\"Term 4\",\"curriculum_items\":[{\"curriculum_requisites\":[{\"source_id\":5,\"target_id\":7,\"type\":\"CurriculumCorequisite\"},{\"source_id\":6,\"target_id\":7,\"type\":\"CurriculumPrerequisite\"}],\"name\":\" \",\"metrics\":{\"centrality\":0,\"complexity\":5.0,\"blocking factor\":0,\"delay factor\":5.0},\"nameSub\":\"Circuits II\",\"id\":7,\"credits\":3,\"nameCanonical\":\"\"}],\"id\":4}],\"institution\":\"\"}},\"*\"); window.removeEventListener(\"message\",window.messageReceived); window.messageReceived=(function (event){return (event.data.curriculum!==undefined) ? (WebIO.setval({\"name\":\"curriculum-data\",\"scope\":\"14531220163277467616\",\"id\":\"12867335347254247347\",\"type\":\"observable\"},event.data.curriculum)) : undefined}); return window.addEventListener(\"message\",window.messageReceived)})"
          },
          "id": "curriculum",
          "src": "https://curricula-api-embed.damoursystems.com/",
          "style": {
           "border": "none",
           "height": "70vh",
           "margin": "0",
           "padding": "0",
           "width": "100%"
          }
         },
         "type": "node"
        }
       ],
       "instanceArgs": {
        "handlers": {},
        "id": "14531220163277467616",
        "imports": {
         "data": [],
         "type": "async_block"
        },
        "mount_callbacks": [],
        "observables": {
         "curriculum-data": {
          "id": "12867335347254247347",
          "sync": true,
          "value": {
           "curriculum": {
            "curriculum_terms": [
             {
              "curriculum_items": [
               {
                "credits": 4,
                "curriculum_requisites": [],
                "id": 1,
                "metrics": {
                 "blocking factor": 6,
                 "centrality": 0,
                 "complexity": 11,
                 "delay factor": 5
                },
                "name": " ",
                "nameCanonical": "",
                "nameSub": "Calculus I"
               },
               {
                "credits": 4,
                "curriculum_requisites": [
                 {
                  "source_id": 1,
                  "target_id": 3,
                  "type": "CurriculumCorequisite"
                 }
                ],
                "id": 3,
                "metrics": {
                 "blocking factor": 3,
                 "centrality": 5,
                 "complexity": 8,
                 "delay factor": 5
                },
                "name": " ",
                "nameCanonical": "",
                "nameSub": "Physics I"
               }
              ],
              "id": 1,
              "name": "Term 1"
             },
             {
              "curriculum_items": [
               {
                "credits": 3,
                "curriculum_requisites": [
                 {
                  "source_id": 1,
                  "target_id": 2,
                  "type": "CurriculumPrerequisite"
                 }
                ],
                "id": 2,
                "metrics": {
                 "blocking factor": 4,
                 "centrality": 13,
                 "complexity": 9,
                 "delay factor": 5
                },
                "name": " ",
                "nameCanonical": "",
                "nameSub": "Calculus II"
               },
               {
                "credits": 4,
                "curriculum_requisites": [
                 {
                  "source_id": 2,
                  "target_id": 4,
                  "type": "CurriculumCorequisite"
                 },
                 {
                  "source_id": 3,
                  "target_id": 4,
                  "type": "CurriculumPrerequisite"
                 }
                ],
                "id": 4,
                "metrics": {
                 "blocking factor": 2,
                 "centrality": 10,
                 "complexity": 7,
                 "delay factor": 5
                },
                "name": " ",
                "nameCanonical": "",
                "nameSub": "Physics II"
               }
              ],
              "id": 2,
              "name": "Term 2"
             },
             {
              "curriculum_items": [
               {
                "credits": 3,
                "curriculum_requisites": [
                 {
                  "source_id": 2,
                  "target_id": 5,
                  "type": "CurriculumPrerequisite"
                 }
                ],
                "id": 5,
                "metrics": {
                 "blocking factor": 1,
                 "centrality": 4,
                 "complexity": 5,
                 "delay factor": 4
                },
                "name": " ",
                "nameCanonical": "",
                "nameSub": "Differential Eqs."
               },
               {
                "credits": 3,
                "curriculum_requisites": [
                 {
                  "source_id": 4,
                  "target_id": 6,
                  "type": "CurriculumCorequisite"
                 },
                 {
                  "source_id": 2,
                  "target_id": 6,
                  "type": "CurriculumPrerequisite"
                 }
                ],
                "id": 6,
                "metrics": {
                 "blocking factor": 1,
                 "centrality": 14,
                 "complexity": 6,
                 "delay factor": 5
                },
                "name": " ",
                "nameCanonical": "",
                "nameSub": "Circuits I"
               }
              ],
              "id": 3,
              "name": "Term 3"
             },
             {
              "curriculum_items": [
               {
                "credits": 3,
                "curriculum_requisites": [
                 {
                  "source_id": 5,
                  "target_id": 7,
                  "type": "CurriculumCorequisite"
                 },
                 {
                  "source_id": 6,
                  "target_id": 7,
                  "type": "CurriculumPrerequisite"
                 }
                ],
                "id": 7,
                "metrics": {
                 "blocking factor": 0,
                 "centrality": 0,
                 "complexity": 5,
                 "delay factor": 5
                },
                "name": " ",
                "nameCanonical": "",
                "nameSub": "Circuits II"
               }
              ],
              "id": 4,
              "name": "Term 4"
             }
            ],
            "dp_name": "Calculus ready",
            "institution": "",
            "name": "Circuits I Design Pattern"
           },
           "options": {
            "edit": false,
            "hideTerms": false
           }
          }
         }
        },
        "systemjs_options": null
       },
       "nodeType": "Scope",
       "props": {},
       "type": "node"
      },
      "text/html": [
       "<div\n",
       "    class=\"webio-mountpoint\"\n",
       "    data-webio-mountpoint=\"10855206110469477236\"\n",
       ">\n",
       "    <script>\n",
       "    (function(){\n",
       "    // Some integrations (namely, IJulia/Jupyter) use an alternate render pathway than\n",
       "    // just putting the html on the page. If WebIO isn't defined, then it's pretty likely\n",
       "    // that we're in one of those situations and the integration just isn't installed\n",
       "    // correctly.\n",
       "    if (typeof window.WebIO === \"undefined\") {\n",
       "        document\n",
       "            .querySelector('[data-webio-mountpoint=\"10855206110469477236\"]')\n",
       "            .innerHTML = (\n",
       "                '<div style=\"padding: 1em; background-color: #f8d6da; border: 1px solid #f5c6cb; font-weight: bold;\">' +\n",
       "                '<p><strong>WebIO not detected.</strong></p>' +\n",
       "                '<p>Please read ' +\n",
       "                '<a href=\"https://juliagizmos.github.io/WebIO.jl/latest/troubleshooting/not-detected/\" target=\"_blank\">the troubleshooting guide</a> ' +\n",
       "                'for more information on how to resolve this issue.</p>' +\n",
       "                '<p><a href=\"https://juliagizmos.github.io/WebIO.jl/latest/troubleshooting/not-detected/\" target=\"_blank\">https://juliagizmos.github.io/WebIO.jl/latest/troubleshooting/not-detected/</a></p>' +\n",
       "                '</div>'\n",
       "            );\n",
       "        return;\n",
       "    }\n",
       "    WebIO.mount(\n",
       "        document.querySelector('[data-webio-mountpoint=\"10855206110469477236\"]'),\n",
       "        {\"props\":{},\"nodeType\":\"Scope\",\"type\":\"node\",\"instanceArgs\":{\"imports\":{\"data\":[],\"type\":\"async_block\"},\"id\":\"14531220163277467616\",\"handlers\":{},\"systemjs_options\":null,\"mount_callbacks\":[],\"observables\":{\"curriculum-data\":{\"sync\":true,\"id\":\"12867335347254247347\",\"value\":{\"options\":{\"hideTerms\":false,\"edit\":false},\"curriculum\":{\"name\":\"Circuits I Design Pattern\",\"dp_name\":\"Calculus ready\",\"curriculum_terms\":[{\"name\":\"Term 1\",\"curriculum_items\":[{\"curriculum_requisites\":[],\"name\":\" \",\"metrics\":{\"centrality\":0,\"complexity\":11.0,\"blocking factor\":6,\"delay factor\":5.0},\"nameSub\":\"Calculus I\",\"id\":1,\"credits\":4,\"nameCanonical\":\"\"},{\"curriculum_requisites\":[{\"source_id\":1,\"target_id\":3,\"type\":\"CurriculumCorequisite\"}],\"name\":\" \",\"metrics\":{\"centrality\":5,\"complexity\":8.0,\"blocking factor\":3,\"delay factor\":5.0},\"nameSub\":\"Physics I\",\"id\":3,\"credits\":4,\"nameCanonical\":\"\"}],\"id\":1},{\"name\":\"Term 2\",\"curriculum_items\":[{\"curriculum_requisites\":[{\"source_id\":1,\"target_id\":2,\"type\":\"CurriculumPrerequisite\"}],\"name\":\" \",\"metrics\":{\"centrality\":13,\"complexity\":9.0,\"blocking factor\":4,\"delay factor\":5.0},\"nameSub\":\"Calculus II\",\"id\":2,\"credits\":3,\"nameCanonical\":\"\"},{\"curriculum_requisites\":[{\"source_id\":2,\"target_id\":4,\"type\":\"CurriculumCorequisite\"},{\"source_id\":3,\"target_id\":4,\"type\":\"CurriculumPrerequisite\"}],\"name\":\" \",\"metrics\":{\"centrality\":10,\"complexity\":7.0,\"blocking factor\":2,\"delay factor\":5.0},\"nameSub\":\"Physics II\",\"id\":4,\"credits\":4,\"nameCanonical\":\"\"}],\"id\":2},{\"name\":\"Term 3\",\"curriculum_items\":[{\"curriculum_requisites\":[{\"source_id\":2,\"target_id\":5,\"type\":\"CurriculumPrerequisite\"}],\"name\":\" \",\"metrics\":{\"centrality\":4,\"complexity\":5.0,\"blocking factor\":1,\"delay factor\":4.0},\"nameSub\":\"Differential Eqs.\",\"id\":5,\"credits\":3,\"nameCanonical\":\"\"},{\"curriculum_requisites\":[{\"source_id\":4,\"target_id\":6,\"type\":\"CurriculumCorequisite\"},{\"source_id\":2,\"target_id\":6,\"type\":\"CurriculumPrerequisite\"}],\"name\":\" \",\"metrics\":{\"centrality\":14,\"complexity\":6.0,\"blocking factor\":1,\"delay factor\":5.0},\"nameSub\":\"Circuits I\",\"id\":6,\"credits\":3,\"nameCanonical\":\"\"}],\"id\":3},{\"name\":\"Term 4\",\"curriculum_items\":[{\"curriculum_requisites\":[{\"source_id\":5,\"target_id\":7,\"type\":\"CurriculumCorequisite\"},{\"source_id\":6,\"target_id\":7,\"type\":\"CurriculumPrerequisite\"}],\"name\":\" \",\"metrics\":{\"centrality\":0,\"complexity\":5.0,\"blocking factor\":0,\"delay factor\":5.0},\"nameSub\":\"Circuits II\",\"id\":7,\"credits\":3,\"nameCanonical\":\"\"}],\"id\":4}],\"institution\":\"\"}}}}},\"children\":[{\"props\":{\"src\":\"https:\\/\\/curricula-api-embed.damoursystems.com\\/\",\"id\":\"curriculum\",\"events\":{\"load\":\"(function (){this.contentWindow.postMessage({\\\"options\\\":{\\\"hideTerms\\\":false,\\\"edit\\\":false},\\\"curriculum\\\":{\\\"name\\\":\\\"Circuits I Design Pattern\\\",\\\"dp_name\\\":\\\"Calculus ready\\\",\\\"curriculum_terms\\\":[{\\\"name\\\":\\\"Term 1\\\",\\\"curriculum_items\\\":[{\\\"curriculum_requisites\\\":[],\\\"name\\\":\\\" \\\",\\\"metrics\\\":{\\\"centrality\\\":0,\\\"complexity\\\":11.0,\\\"blocking factor\\\":6,\\\"delay factor\\\":5.0},\\\"nameSub\\\":\\\"Calculus I\\\",\\\"id\\\":1,\\\"credits\\\":4,\\\"nameCanonical\\\":\\\"\\\"},{\\\"curriculum_requisites\\\":[{\\\"source_id\\\":1,\\\"target_id\\\":3,\\\"type\\\":\\\"CurriculumCorequisite\\\"}],\\\"name\\\":\\\" \\\",\\\"metrics\\\":{\\\"centrality\\\":5,\\\"complexity\\\":8.0,\\\"blocking factor\\\":3,\\\"delay factor\\\":5.0},\\\"nameSub\\\":\\\"Physics I\\\",\\\"id\\\":3,\\\"credits\\\":4,\\\"nameCanonical\\\":\\\"\\\"}],\\\"id\\\":1},{\\\"name\\\":\\\"Term 2\\\",\\\"curriculum_items\\\":[{\\\"curriculum_requisites\\\":[{\\\"source_id\\\":1,\\\"target_id\\\":2,\\\"type\\\":\\\"CurriculumPrerequisite\\\"}],\\\"name\\\":\\\" \\\",\\\"metrics\\\":{\\\"centrality\\\":13,\\\"complexity\\\":9.0,\\\"blocking factor\\\":4,\\\"delay factor\\\":5.0},\\\"nameSub\\\":\\\"Calculus II\\\",\\\"id\\\":2,\\\"credits\\\":3,\\\"nameCanonical\\\":\\\"\\\"},{\\\"curriculum_requisites\\\":[{\\\"source_id\\\":2,\\\"target_id\\\":4,\\\"type\\\":\\\"CurriculumCorequisite\\\"},{\\\"source_id\\\":3,\\\"target_id\\\":4,\\\"type\\\":\\\"CurriculumPrerequisite\\\"}],\\\"name\\\":\\\" \\\",\\\"metrics\\\":{\\\"centrality\\\":10,\\\"complexity\\\":7.0,\\\"blocking factor\\\":2,\\\"delay factor\\\":5.0},\\\"nameSub\\\":\\\"Physics II\\\",\\\"id\\\":4,\\\"credits\\\":4,\\\"nameCanonical\\\":\\\"\\\"}],\\\"id\\\":2},{\\\"name\\\":\\\"Term 3\\\",\\\"curriculum_items\\\":[{\\\"curriculum_requisites\\\":[{\\\"source_id\\\":2,\\\"target_id\\\":5,\\\"type\\\":\\\"CurriculumPrerequisite\\\"}],\\\"name\\\":\\\" \\\",\\\"metrics\\\":{\\\"centrality\\\":4,\\\"complexity\\\":5.0,\\\"blocking factor\\\":1,\\\"delay factor\\\":4.0},\\\"nameSub\\\":\\\"Differential Eqs.\\\",\\\"id\\\":5,\\\"credits\\\":3,\\\"nameCanonical\\\":\\\"\\\"},{\\\"curriculum_requisites\\\":[{\\\"source_id\\\":4,\\\"target_id\\\":6,\\\"type\\\":\\\"CurriculumCorequisite\\\"},{\\\"source_id\\\":2,\\\"target_id\\\":6,\\\"type\\\":\\\"CurriculumPrerequisite\\\"}],\\\"name\\\":\\\" \\\",\\\"metrics\\\":{\\\"centrality\\\":14,\\\"complexity\\\":6.0,\\\"blocking factor\\\":1,\\\"delay factor\\\":5.0},\\\"nameSub\\\":\\\"Circuits I\\\",\\\"id\\\":6,\\\"credits\\\":3,\\\"nameCanonical\\\":\\\"\\\"}],\\\"id\\\":3},{\\\"name\\\":\\\"Term 4\\\",\\\"curriculum_items\\\":[{\\\"curriculum_requisites\\\":[{\\\"source_id\\\":5,\\\"target_id\\\":7,\\\"type\\\":\\\"CurriculumCorequisite\\\"},{\\\"source_id\\\":6,\\\"target_id\\\":7,\\\"type\\\":\\\"CurriculumPrerequisite\\\"}],\\\"name\\\":\\\" \\\",\\\"metrics\\\":{\\\"centrality\\\":0,\\\"complexity\\\":5.0,\\\"blocking factor\\\":0,\\\"delay factor\\\":5.0},\\\"nameSub\\\":\\\"Circuits II\\\",\\\"id\\\":7,\\\"credits\\\":3,\\\"nameCanonical\\\":\\\"\\\"}],\\\"id\\\":4}],\\\"institution\\\":\\\"\\\"}},\\\"*\\\"); window.removeEventListener(\\\"message\\\",window.messageReceived); window.messageReceived=(function (event){return (event.data.curriculum!==undefined) ? (WebIO.setval({\\\"name\\\":\\\"curriculum-data\\\",\\\"scope\\\":\\\"14531220163277467616\\\",\\\"id\\\":\\\"12867335347254247347\\\",\\\"type\\\":\\\"observable\\\"},event.data.curriculum)) : undefined}); return window.addEventListener(\\\"message\\\",window.messageReceived)})\"},\"style\":{\"padding\":\"0\",\"height\":\"70vh\",\"margin\":\"0\",\"border\":\"none\",\"width\":\"100%\"}},\"nodeType\":\"DOM\",\"type\":\"node\",\"instanceArgs\":{\"namespace\":\"html\",\"tag\":\"iframe\"},\"children\":[\"\"]}]},\n",
       "        window,\n",
       "    );\n",
       "    })()\n",
       "    </script>\n",
       "</div>\n"
      ],
      "text/plain": [
       "WebIO.Scope(WebIO.Node{WebIO.DOM}(WebIO.DOM(:html, :iframe), Any[\"\"], Dict{Symbol, Any}(:src => \"https://curricula-api-embed.damoursystems.com/\", :id => \"curriculum\", :events => Dict{Symbol, WebIO.JSString}(:load => WebIO.JSString(\"(function (){this.contentWindow.postMessage({\\\"options\\\":{\\\"hideTerms\\\":false,\\\"edit\\\":false},\\\"curriculum\\\":{\\\"name\\\":\\\"Circuits I Design Pattern\\\",\\\"dp_name\\\":\\\"Calculus ready\\\",\\\"curriculum_terms\\\":[{\\\"name\\\":\\\"Term 1\\\",\\\"curriculum_items\\\":[{\\\"curriculum_requisites\\\":[],\\\"name\\\":\\\" \\\",\\\"metrics\\\":{\\\"centrality\\\":0,\\\"complexity\\\":11.0,\\\"blocking factor\\\":6,\\\"delay factor\\\":5.0},\\\"nameSub\\\":\\\"Calculus I\\\",\\\"id\\\":1,\\\"credits\\\":4,\\\"nameCanonical\\\":\\\"\\\"},{\\\"curriculum_requisites\\\":[{\\\"source_id\\\":1,\\\"target_id\\\":3,\\\"type\\\":\\\"CurriculumCorequisite\\\"}],\\\"name\\\":\\\" \\\",\\\"metrics\\\":{\\\"centrality\\\":5,\\\"complexity\\\":8.0,\\\"blocking factor\\\":3,\\\"delay factor\\\":5.0},\\\"nameSub\\\":\\\"Physics I\\\",\\\"id\\\":3,\\\"credits\\\":4,\\\"nameCanonical\\\":\\\"\\\"}],\\\"id\\\":1},{\\\"name\\\":\\\"Term 2\\\",\\\"curriculum_items\\\":[{\\\"curriculum_requisites\\\":[{\\\"source_id\\\":1,\\\"target_id\\\":2,\\\"type\\\":\\\"CurriculumPrerequisite\\\"}],\\\"name\\\":\\\" \\\",\\\"metrics\\\":{\\\"centrality\\\":13,\\\"complexity\\\":9.0,\\\"blocking factor\\\":4,\\\"delay factor\\\":5.0},\\\"nameSub\\\":\\\"Calculus II\\\",\\\"id\\\":2,\\\"credits\\\":3,\\\"nameCanonical\\\":\\\"\\\"},{\\\"curriculum_requisites\\\":[{\\\"source_id\\\":2,\\\"target_id\\\":4,\\\"type\\\":\\\"CurriculumCorequisite\\\"},{\\\"source_id\\\":3,\\\"target_id\\\":4,\\\"type\\\":\\\"CurriculumPrerequisite\\\"}],\\\"name\\\":\\\" \\\",\\\"metrics\\\":{\\\"centrality\\\":10,\\\"complexity\\\":7.0,\\\"blocking factor\\\":2,\\\"delay factor\\\":5.0},\\\"nameSub\\\":\\\"Physics II\\\",\\\"id\\\":4,\\\"credits\\\":4,\\\"nameCanonical\\\":\\\"\\\"}],\\\"id\\\":2},{\\\"name\\\":\\\"Term 3\\\",\\\"curriculum_items\\\":[{\\\"curriculum_requisites\\\":[{\\\"source_id\\\":2,\\\"target_id\\\":5,\\\"type\\\":\\\"CurriculumPrerequisite\\\"}],\\\"name\\\":\\\" \\\",\\\"metrics\\\":{\\\"centrality\\\":4,\\\"complexity\\\":5.0,\\\"blocking factor\\\":1,\\\"delay factor\\\":4.0},\\\"nameSub\\\":\\\"Differential Eqs.\\\",\\\"id\\\":5,\\\"credits\\\":3,\\\"nameCanonical\\\":\\\"\\\"},{\\\"curriculum_requisites\\\":[{\\\"source_id\\\":4,\\\"target_id\\\":6,\\\"type\\\":\\\"CurriculumCorequisite\\\"},{\\\"source_id\\\":2,\\\"target_id\\\":6,\\\"type\\\":\\\"CurriculumPrerequisite\\\"}],\\\"name\\\":\\\" \\\",\\\"metrics\\\":{\\\"centrality\\\":14,\\\"complexity\\\":6.0,\\\"blocking factor\\\":1,\\\"delay factor\\\":5.0},\\\"nameSub\\\":\\\"Circuits I\\\",\\\"id\\\":6,\\\"credits\\\":3,\\\"nameCanonical\\\":\\\"\\\"}],\\\"id\\\":3},{\\\"name\\\":\\\"Term 4\\\",\\\"curriculum_items\\\":[{\\\"curriculum_requisites\\\":[{\\\"source_id\\\":5,\\\"target_id\\\":7,\\\"type\\\":\\\"CurriculumCorequisite\\\"},{\\\"source_id\\\":6,\\\"target_id\\\":7,\\\"type\\\":\\\"CurriculumPrerequisite\\\"}],\\\"name\\\":\\\" \\\",\\\"metrics\\\":{\\\"centrality\\\":0,\\\"complexity\\\":5.0,\\\"blocking factor\\\":0,\\\"delay factor\\\":5.0},\\\"nameSub\\\":\\\"Circuits II\\\",\\\"id\\\":7,\\\"credits\\\":3,\\\"nameCanonical\\\":\\\"\\\"}],\\\"id\\\":4}],\\\"institution\\\":\\\"\\\"}},\\\"*\\\"); window.removeEventListener(\\\"message\\\",window.messageReceived); window.messageReceived=(function (event){return (event.data.curriculum!==undefined) ? (WebIO.setval({\\\"name\\\":\\\"curriculum-data\\\",\\\"scope\\\":\\\"14531220163277467616\\\",\\\"id\\\":\\\"12867335347254247347\\\",\\\"type\\\":\\\"observable\\\"},event.data.curriculum)) : undefined}); return window.addEventListener(\\\"message\\\",window.messageReceived)})\")), :style => Dict(:padding => \"0\", :height => \"70vh\", :margin => \"0\", :border => \"none\", :width => \"100%\"))), Dict{String, Tuple{Observables.AbstractObservable, Union{Nothing, Bool}}}(\"curriculum-data\" => (Observable{Dict{String, Any}} with 1 listeners. Value:\n",
       "Dict{String, Any}(\"options\" => Dict{String, Any}(\"hideTerms\" => false, \"edit\" => false), \"curriculum\" => Dict{String, Any}(\"name\" => \"Circuits I Design Pattern\", \"dp_name\" => \"Calculus ready\", \"curriculum_terms\" => Dict{String, Any}[Dict(\"name\" => \"Term 1\", \"curriculum_items\" => Dict{String, Any}[Dict(\"curriculum_requisites\" => Dict{String, Any}[], \"name\" => \" \", \"metrics\" => Dict{String, Any}(\"centrality\" => 0, \"complexity\" => 11.0, \"blocking factor\" => 6, \"delay factor\" => 5.0), \"nameSub\" => \"Calculus I\", \"id\" => 1, \"credits\" => 4, \"nameCanonical\" => \"\"), Dict(\"curriculum_requisites\" => Dict{String, Any}[Dict(\"source_id\" => 1, \"target_id\" => 3, \"type\" => \"CurriculumCorequisite\")], \"name\" => \" \", \"metrics\" => Dict{String, Any}(\"centrality\" => 5, \"complexity\" => 8.0, \"blocking factor\" => 3, \"delay factor\" => 5.0), \"nameSub\" => \"Physics I\", \"id\" => 3, \"credits\" => 4, \"nameCanonical\" => \"\")], \"id\" => 1), Dict(\"name\" => \"Term 2\", \"curriculum_items\" => Dict{String, Any}[Dict(\"curriculum_requisites\" => Dict{String, Any}[Dict(\"source_id\" => 1, \"target_id\" => 2, \"type\" => \"CurriculumPrerequisite\")], \"name\" => \" \", \"metrics\" => Dict{String, Any}(\"centrality\" => 13, \"complexity\" => 9.0, \"blocking factor\" => 4, \"delay factor\" => 5.0), \"nameSub\" => \"Calculus II\", \"id\" => 2, \"credits\" => 3, \"nameCanonical\" => \"\"), Dict(\"curriculum_requisites\" => Dict{String, Any}[Dict(\"source_id\" => 2, \"target_id\" => 4, \"type\" => \"CurriculumCorequisite\"), Dict(\"source_id\" => 3, \"target_id\" => 4, \"type\" => \"CurriculumPrerequisite\")], \"name\" => \" \", \"metrics\" => Dict{String, Any}(\"centrality\" => 10, \"complexity\" => 7.0, \"blocking factor\" => 2, \"delay factor\" => 5.0), \"nameSub\" => \"Physics II\", \"id\" => 4, \"credits\" => 4, \"nameCanonical\" => \"\")], \"id\" => 2), Dict(\"name\" => \"Term 3\", \"curriculum_items\" => Dict{String, Any}[Dict(\"curriculum_requisites\" => Dict{String, Any}[Dict(\"source_id\" => 2, \"target_id\" => 5, \"type\" => \"CurriculumPrerequisite\")], \"name\" => \" \", \"metrics\" => Dict{String, Any}(\"centrality\" => 4, \"complexity\" => 5.0, \"blocking factor\" => 1, \"delay factor\" => 4.0), \"nameSub\" => \"Differential Eqs.\", \"id\" => 5, \"credits\" => 3, \"nameCanonical\" => \"\"), Dict(\"curriculum_requisites\" => Dict{String, Any}[Dict(\"source_id\" => 4, \"target_id\" => 6, \"type\" => \"CurriculumCorequisite\"), Dict(\"source_id\" => 2, \"target_id\" => 6, \"type\" => \"CurriculumPrerequisite\")], \"name\" => \" \", \"metrics\" => Dict{String, Any}(\"centrality\" => 14, \"complexity\" => 6.0, \"blocking factor\" => 1, \"delay factor\" => 5.0), \"nameSub\" => \"Circuits I\", \"id\" => 6, \"credits\" => 3, \"nameCanonical\" => \"\")], \"id\" => 3), Dict(\"name\" => \"Term 4\", \"curriculum_items\" => Dict{String, Any}[Dict(\"curriculum_requisites\" => Dict{String, Any}[Dict(\"source_id\" => 5, \"target_id\" => 7, \"type\" => \"CurriculumCorequisite\"), Dict(\"source_id\" => 6, \"target_id\" => 7, \"type\" => \"CurriculumPrerequisite\")], \"name\" => \" \", \"metrics\" => Dict{String, Any}(\"centrality\" => 0, \"complexity\" => 5.0, \"blocking factor\" => 0, \"delay factor\" => 5.0), \"nameSub\" => \"Circuits II\", \"id\" => 7, \"credits\" => 3, \"nameCanonical\" => \"\")], \"id\" => 4)], \"institution\" => \"\")), nothing)), Set{String}(), nothing, WebIO.Asset[], Dict{Any, Any}(), WebIO.ConnectionPool(Channel{Any}(32), Set{WebIO.AbstractConnection}(), Condition(Base.InvasiveLinkedList{Task}(Task (runnable) @0x00000001151a42b0, Task (runnable) @0x00000001151a42b0), Base.AlwaysLockedST(1))), WebIO.JSString[])"
      ]
     },
     "execution_count": 4,
     "metadata": {
      "application/vnd.webio.node+json": {
       "kernelId": "7772f636-9c06-4b2c-88ed-15c742964664"
      }
     },
     "output_type": "execute_result"
    },
    {
     "ename": "UndefVarError",
     "evalue": "UndefVarError: setexcludinghandlers! not defined",
     "output_type": "error",
     "traceback": [
      "KERNEL EXCEPTION",
      "UndefVarError: setexcludinghandlers! not defined",
      "",
      "Stacktrace:",
      "  [1] set_nosync(ob::Observables.Observable{Dict{String, Any}}, val::Dict{String, Any})",
      "    @ WebIO ~/.julia/packages/WebIO/4JqEH/src/scope.jl:352",
      "  [2] dispatch(ctx::WebIO.Scope, key::String, data::Dict{String, Any})",
      "    @ WebIO ~/.julia/packages/WebIO/4JqEH/src/scope.jl:368",
      "  [3] dispatch_command(conn::WebIO.IJuliaConnection, data::Dict{String, Any})",
      "    @ WebIO ~/.julia/packages/WebIO/4JqEH/src/messaging.jl:104",
      "  [4] dispatch(conn::WebIO.IJuliaConnection, data::Dict{String, Any})",
      "    @ WebIO ~/.julia/packages/WebIO/4JqEH/src/messaging.jl:81",
      "  [5] (::WebIO.var\"#101#102\"{WebIO.IJuliaConnection})(msg::IJulia.Msg)",
      "    @ WebIO ~/.julia/packages/WebIO/4JqEH/src/providers/ijulia.jl:21",
      "  [6] comm_msg(sock::ZMQ.Socket, msg::IJulia.Msg)",
      "    @ IJulia.CommManager ~/.julia/packages/IJulia/AQu2H/src/comm_manager.jl:134",
      "  [7] #invokelatest#2",
      "    @ ./essentials.jl:716 [inlined]",
      "  [8] invokelatest",
      "    @ ./essentials.jl:714 [inlined]",
      "  [9] eventloop(socket::ZMQ.Socket)",
      "    @ IJulia ~/.julia/packages/IJulia/AQu2H/src/eventloop.jl:8",
      " [10] (::IJulia.var\"#15#18\")()",
      "    @ IJulia ./task.jl:429"
     ]
    }
   ],
   "source": [
    "calc_ready = read_csv(\"./EE-CalculusReady.csv\")\n",
    "visualize(calc_ready, notebook=true, scale=0.7)"
   ]
  },
  {
   "cell_type": "code",
   "execution_count": 5,
   "id": "9d288627",
   "metadata": {},
   "outputs": [
    {
     "name": "stdout",
     "output_type": "stream",
     "text": [
      "\n",
      " \n",
      "Curriculum: Circuits I Design Pattern\n",
      "  credit hours = 24\n",
      "  number of courses = 7\n",
      "  Blocking Factor --\n",
      "    entire curriculum = 17\n",
      "    max. value = 6, for course(s): Calculus I\n",
      "  Centrality --\n",
      "    entire curriculum = 46\n",
      "    max. value = 14, for course(s): Circuits I\n",
      "  Delay Factor --\n",
      "    entire curriculum = 34.0\n",
      "    max. value = 5.0, for course(s): Calculus I, Calculus II, Physics I, Physics II, Circuits I, Circuits II\n",
      "  Complexity --\n",
      "    entire curriculum = 51.0\n",
      "    max. value = 11.0, for course(s): Calculus I\n",
      "  Longest Path(s) --\n",
      "    length = 5, number of paths = 2\n",
      "    path(s):\n",
      "    path 1 = Calculus I -> Calculus II -> Physics II -> Circuits I -> Circuits II\n",
      "    path 2 = Calculus I -> Physics I -> Physics II -> Circuits I -> Circuits II\n",
      "\n"
     ]
    }
   ],
   "source": [
    "metrics = basic_metrics(calc_ready.curriculum)\n",
    "println(String(take!(metrics)))"
   ]
  },
  {
   "cell_type": "code",
   "execution_count": 6,
   "id": "0338a377",
   "metadata": {},
   "outputs": [
    {
     "data": {
      "application/vnd.webio.node+json": {
       "children": [
        {
         "children": [
          ""
         ],
         "instanceArgs": {
          "namespace": "html",
          "tag": "iframe"
         },
         "nodeType": "DOM",
         "props": {
          "events": {
           "load": "(function (){this.contentWindow.postMessage({\"options\":{\"hideTerms\":false,\"edit\":false},\"curriculum\":{\"name\":\"Circuits I Design Pattern\",\"dp_name\":\"Precalculus ready\",\"curriculum_terms\":[{\"name\":\"Term 1\",\"curriculum_items\":[{\"curriculum_requisites\":[],\"name\":\" \",\"metrics\":{\"centrality\":0,\"complexity\":13.0,\"blocking factor\":7,\"delay factor\":6.0},\"nameSub\":\"Precalculus\",\"id\":8,\"credits\":3,\"nameCanonical\":\"\"}],\"id\":1},{\"name\":\"Term 2\",\"curriculum_items\":[{\"curriculum_requisites\":[{\"source_id\":8,\"target_id\":1,\"type\":\"CurriculumPrerequisite\"}],\"name\":\" \",\"metrics\":{\"centrality\":22,\"complexity\":12.0,\"blocking factor\":6,\"delay factor\":6.0},\"nameSub\":\"Calculus I\",\"id\":1,\"credits\":4,\"nameCanonical\":\"\"},{\"curriculum_requisites\":[{\"source_id\":1,\"target_id\":3,\"type\":\"CurriculumCorequisite\"}],\"name\":\" \",\"metrics\":{\"centrality\":6,\"complexity\":9.0,\"blocking factor\":3,\"delay factor\":6.0},\"nameSub\":\"Physics I\",\"id\":3,\"credits\":4,\"nameCanonical\":\"\"}],\"id\":2},{\"name\":\"Term 3\",\"curriculum_items\":[{\"curriculum_requisites\":[{\"source_id\":1,\"target_id\":2,\"type\":\"CurriculumPrerequisite\"}],\"name\":\" \",\"metrics\":{\"centrality\":16,\"complexity\":10.0,\"blocking factor\":4,\"delay factor\":6.0},\"nameSub\":\"Calculus II\",\"id\":2,\"credits\":3,\"nameCanonical\":\"\"},{\"curriculum_requisites\":[{\"source_id\":2,\"target_id\":4,\"type\":\"CurriculumCorequisite\"},{\"source_id\":3,\"target_id\":4,\"type\":\"CurriculumPrerequisite\"}],\"name\":\" \",\"metrics\":{\"centrality\":12,\"complexity\":8.0,\"blocking factor\":2,\"delay factor\":6.0},\"nameSub\":\"Physics II\",\"id\":4,\"credits\":4,\"nameCanonical\":\"\"}],\"id\":3},{\"name\":\"Term 4\",\"curriculum_items\":[{\"curriculum_requisites\":[{\"source_id\":2,\"target_id\":5,\"type\":\"CurriculumPrerequisite\"}],\"name\":\" \",\"metrics\":{\"centrality\":5,\"complexity\":6.0,\"blocking factor\":1,\"delay factor\":5.0},\"nameSub\":\"Differential Eqs.\",\"id\":5,\"credits\":3,\"nameCanonical\":\"\"},{\"curriculum_requisites\":[{\"source_id\":4,\"target_id\":6,\"type\":\"CurriculumCorequisite\"},{\"source_id\":2,\"target_id\":6,\"type\":\"CurriculumPrerequisite\"}],\"name\":\" \",\"metrics\":{\"centrality\":17,\"complexity\":7.0,\"blocking factor\":1,\"delay factor\":6.0},\"nameSub\":\"Circuits I\",\"id\":6,\"credits\":3,\"nameCanonical\":\"\"}],\"id\":4},{\"name\":\"Term 5\",\"curriculum_items\":[{\"curriculum_requisites\":[{\"source_id\":5,\"target_id\":7,\"type\":\"CurriculumCorequisite\"},{\"source_id\":6,\"target_id\":7,\"type\":\"CurriculumPrerequisite\"}],\"name\":\" \",\"metrics\":{\"centrality\":0,\"complexity\":6.0,\"blocking factor\":0,\"delay factor\":6.0},\"nameSub\":\"Circuits II\",\"id\":7,\"credits\":3,\"nameCanonical\":\"\"}],\"id\":5}],\"institution\":\"\"}},\"*\"); window.removeEventListener(\"message\",window.messageReceived); window.messageReceived=(function (event){return (event.data.curriculum!==undefined) ? (WebIO.setval({\"name\":\"curriculum-data\",\"scope\":\"18364231078036174668\",\"id\":\"16456594863417125425\",\"type\":\"observable\"},event.data.curriculum)) : undefined}); return window.addEventListener(\"message\",window.messageReceived)})"
          },
          "id": "curriculum",
          "src": "https://curricula-api-embed.damoursystems.com/",
          "style": {
           "border": "none",
           "height": "70vh",
           "margin": "0",
           "padding": "0",
           "width": "100%"
          }
         },
         "type": "node"
        }
       ],
       "instanceArgs": {
        "handlers": {},
        "id": "18364231078036174668",
        "imports": {
         "data": [],
         "type": "async_block"
        },
        "mount_callbacks": [],
        "observables": {
         "curriculum-data": {
          "id": "16456594863417125425",
          "sync": true,
          "value": {
           "curriculum": {
            "curriculum_terms": [
             {
              "curriculum_items": [
               {
                "credits": 3,
                "curriculum_requisites": [],
                "id": 8,
                "metrics": {
                 "blocking factor": 7,
                 "centrality": 0,
                 "complexity": 13,
                 "delay factor": 6
                },
                "name": " ",
                "nameCanonical": "",
                "nameSub": "Precalculus"
               }
              ],
              "id": 1,
              "name": "Term 1"
             },
             {
              "curriculum_items": [
               {
                "credits": 4,
                "curriculum_requisites": [
                 {
                  "source_id": 8,
                  "target_id": 1,
                  "type": "CurriculumPrerequisite"
                 }
                ],
                "id": 1,
                "metrics": {
                 "blocking factor": 6,
                 "centrality": 22,
                 "complexity": 12,
                 "delay factor": 6
                },
                "name": " ",
                "nameCanonical": "",
                "nameSub": "Calculus I"
               },
               {
                "credits": 4,
                "curriculum_requisites": [
                 {
                  "source_id": 1,
                  "target_id": 3,
                  "type": "CurriculumCorequisite"
                 }
                ],
                "id": 3,
                "metrics": {
                 "blocking factor": 3,
                 "centrality": 6,
                 "complexity": 9,
                 "delay factor": 6
                },
                "name": " ",
                "nameCanonical": "",
                "nameSub": "Physics I"
               }
              ],
              "id": 2,
              "name": "Term 2"
             },
             {
              "curriculum_items": [
               {
                "credits": 3,
                "curriculum_requisites": [
                 {
                  "source_id": 1,
                  "target_id": 2,
                  "type": "CurriculumPrerequisite"
                 }
                ],
                "id": 2,
                "metrics": {
                 "blocking factor": 4,
                 "centrality": 16,
                 "complexity": 10,
                 "delay factor": 6
                },
                "name": " ",
                "nameCanonical": "",
                "nameSub": "Calculus II"
               },
               {
                "credits": 4,
                "curriculum_requisites": [
                 {
                  "source_id": 2,
                  "target_id": 4,
                  "type": "CurriculumCorequisite"
                 },
                 {
                  "source_id": 3,
                  "target_id": 4,
                  "type": "CurriculumPrerequisite"
                 }
                ],
                "id": 4,
                "metrics": {
                 "blocking factor": 2,
                 "centrality": 12,
                 "complexity": 8,
                 "delay factor": 6
                },
                "name": " ",
                "nameCanonical": "",
                "nameSub": "Physics II"
               }
              ],
              "id": 3,
              "name": "Term 3"
             },
             {
              "curriculum_items": [
               {
                "credits": 3,
                "curriculum_requisites": [
                 {
                  "source_id": 2,
                  "target_id": 5,
                  "type": "CurriculumPrerequisite"
                 }
                ],
                "id": 5,
                "metrics": {
                 "blocking factor": 1,
                 "centrality": 5,
                 "complexity": 6,
                 "delay factor": 5
                },
                "name": " ",
                "nameCanonical": "",
                "nameSub": "Differential Eqs."
               },
               {
                "credits": 3,
                "curriculum_requisites": [
                 {
                  "source_id": 4,
                  "target_id": 6,
                  "type": "CurriculumCorequisite"
                 },
                 {
                  "source_id": 2,
                  "target_id": 6,
                  "type": "CurriculumPrerequisite"
                 }
                ],
                "id": 6,
                "metrics": {
                 "blocking factor": 1,
                 "centrality": 17,
                 "complexity": 7,
                 "delay factor": 6
                },
                "name": " ",
                "nameCanonical": "",
                "nameSub": "Circuits I"
               }
              ],
              "id": 4,
              "name": "Term 4"
             },
             {
              "curriculum_items": [
               {
                "credits": 3,
                "curriculum_requisites": [
                 {
                  "source_id": 5,
                  "target_id": 7,
                  "type": "CurriculumCorequisite"
                 },
                 {
                  "source_id": 6,
                  "target_id": 7,
                  "type": "CurriculumPrerequisite"
                 }
                ],
                "id": 7,
                "metrics": {
                 "blocking factor": 0,
                 "centrality": 0,
                 "complexity": 6,
                 "delay factor": 6
                },
                "name": " ",
                "nameCanonical": "",
                "nameSub": "Circuits II"
               }
              ],
              "id": 5,
              "name": "Term 5"
             }
            ],
            "dp_name": "Precalculus ready",
            "institution": "",
            "name": "Circuits I Design Pattern"
           },
           "options": {
            "edit": false,
            "hideTerms": false
           }
          }
         }
        },
        "systemjs_options": null
       },
       "nodeType": "Scope",
       "props": {},
       "type": "node"
      },
      "text/html": [
       "<div\n",
       "    class=\"webio-mountpoint\"\n",
       "    data-webio-mountpoint=\"16931924543660053371\"\n",
       ">\n",
       "    <script>\n",
       "    (function(){\n",
       "    // Some integrations (namely, IJulia/Jupyter) use an alternate render pathway than\n",
       "    // just putting the html on the page. If WebIO isn't defined, then it's pretty likely\n",
       "    // that we're in one of those situations and the integration just isn't installed\n",
       "    // correctly.\n",
       "    if (typeof window.WebIO === \"undefined\") {\n",
       "        document\n",
       "            .querySelector('[data-webio-mountpoint=\"16931924543660053371\"]')\n",
       "            .innerHTML = (\n",
       "                '<div style=\"padding: 1em; background-color: #f8d6da; border: 1px solid #f5c6cb; font-weight: bold;\">' +\n",
       "                '<p><strong>WebIO not detected.</strong></p>' +\n",
       "                '<p>Please read ' +\n",
       "                '<a href=\"https://juliagizmos.github.io/WebIO.jl/latest/troubleshooting/not-detected/\" target=\"_blank\">the troubleshooting guide</a> ' +\n",
       "                'for more information on how to resolve this issue.</p>' +\n",
       "                '<p><a href=\"https://juliagizmos.github.io/WebIO.jl/latest/troubleshooting/not-detected/\" target=\"_blank\">https://juliagizmos.github.io/WebIO.jl/latest/troubleshooting/not-detected/</a></p>' +\n",
       "                '</div>'\n",
       "            );\n",
       "        return;\n",
       "    }\n",
       "    WebIO.mount(\n",
       "        document.querySelector('[data-webio-mountpoint=\"16931924543660053371\"]'),\n",
       "        {\"props\":{},\"nodeType\":\"Scope\",\"type\":\"node\",\"instanceArgs\":{\"imports\":{\"data\":[],\"type\":\"async_block\"},\"id\":\"18364231078036174668\",\"handlers\":{},\"systemjs_options\":null,\"mount_callbacks\":[],\"observables\":{\"curriculum-data\":{\"sync\":true,\"id\":\"16456594863417125425\",\"value\":{\"options\":{\"hideTerms\":false,\"edit\":false},\"curriculum\":{\"name\":\"Circuits I Design Pattern\",\"dp_name\":\"Precalculus ready\",\"curriculum_terms\":[{\"name\":\"Term 1\",\"curriculum_items\":[{\"curriculum_requisites\":[],\"name\":\" \",\"metrics\":{\"centrality\":0,\"complexity\":13.0,\"blocking factor\":7,\"delay factor\":6.0},\"nameSub\":\"Precalculus\",\"id\":8,\"credits\":3,\"nameCanonical\":\"\"}],\"id\":1},{\"name\":\"Term 2\",\"curriculum_items\":[{\"curriculum_requisites\":[{\"source_id\":8,\"target_id\":1,\"type\":\"CurriculumPrerequisite\"}],\"name\":\" \",\"metrics\":{\"centrality\":22,\"complexity\":12.0,\"blocking factor\":6,\"delay factor\":6.0},\"nameSub\":\"Calculus I\",\"id\":1,\"credits\":4,\"nameCanonical\":\"\"},{\"curriculum_requisites\":[{\"source_id\":1,\"target_id\":3,\"type\":\"CurriculumCorequisite\"}],\"name\":\" \",\"metrics\":{\"centrality\":6,\"complexity\":9.0,\"blocking factor\":3,\"delay factor\":6.0},\"nameSub\":\"Physics I\",\"id\":3,\"credits\":4,\"nameCanonical\":\"\"}],\"id\":2},{\"name\":\"Term 3\",\"curriculum_items\":[{\"curriculum_requisites\":[{\"source_id\":1,\"target_id\":2,\"type\":\"CurriculumPrerequisite\"}],\"name\":\" \",\"metrics\":{\"centrality\":16,\"complexity\":10.0,\"blocking factor\":4,\"delay factor\":6.0},\"nameSub\":\"Calculus II\",\"id\":2,\"credits\":3,\"nameCanonical\":\"\"},{\"curriculum_requisites\":[{\"source_id\":2,\"target_id\":4,\"type\":\"CurriculumCorequisite\"},{\"source_id\":3,\"target_id\":4,\"type\":\"CurriculumPrerequisite\"}],\"name\":\" \",\"metrics\":{\"centrality\":12,\"complexity\":8.0,\"blocking factor\":2,\"delay factor\":6.0},\"nameSub\":\"Physics II\",\"id\":4,\"credits\":4,\"nameCanonical\":\"\"}],\"id\":3},{\"name\":\"Term 4\",\"curriculum_items\":[{\"curriculum_requisites\":[{\"source_id\":2,\"target_id\":5,\"type\":\"CurriculumPrerequisite\"}],\"name\":\" \",\"metrics\":{\"centrality\":5,\"complexity\":6.0,\"blocking factor\":1,\"delay factor\":5.0},\"nameSub\":\"Differential Eqs.\",\"id\":5,\"credits\":3,\"nameCanonical\":\"\"},{\"curriculum_requisites\":[{\"source_id\":4,\"target_id\":6,\"type\":\"CurriculumCorequisite\"},{\"source_id\":2,\"target_id\":6,\"type\":\"CurriculumPrerequisite\"}],\"name\":\" \",\"metrics\":{\"centrality\":17,\"complexity\":7.0,\"blocking factor\":1,\"delay factor\":6.0},\"nameSub\":\"Circuits I\",\"id\":6,\"credits\":3,\"nameCanonical\":\"\"}],\"id\":4},{\"name\":\"Term 5\",\"curriculum_items\":[{\"curriculum_requisites\":[{\"source_id\":5,\"target_id\":7,\"type\":\"CurriculumCorequisite\"},{\"source_id\":6,\"target_id\":7,\"type\":\"CurriculumPrerequisite\"}],\"name\":\" \",\"metrics\":{\"centrality\":0,\"complexity\":6.0,\"blocking factor\":0,\"delay factor\":6.0},\"nameSub\":\"Circuits II\",\"id\":7,\"credits\":3,\"nameCanonical\":\"\"}],\"id\":5}],\"institution\":\"\"}}}}},\"children\":[{\"props\":{\"src\":\"https:\\/\\/curricula-api-embed.damoursystems.com\\/\",\"id\":\"curriculum\",\"events\":{\"load\":\"(function (){this.contentWindow.postMessage({\\\"options\\\":{\\\"hideTerms\\\":false,\\\"edit\\\":false},\\\"curriculum\\\":{\\\"name\\\":\\\"Circuits I Design Pattern\\\",\\\"dp_name\\\":\\\"Precalculus ready\\\",\\\"curriculum_terms\\\":[{\\\"name\\\":\\\"Term 1\\\",\\\"curriculum_items\\\":[{\\\"curriculum_requisites\\\":[],\\\"name\\\":\\\" \\\",\\\"metrics\\\":{\\\"centrality\\\":0,\\\"complexity\\\":13.0,\\\"blocking factor\\\":7,\\\"delay factor\\\":6.0},\\\"nameSub\\\":\\\"Precalculus\\\",\\\"id\\\":8,\\\"credits\\\":3,\\\"nameCanonical\\\":\\\"\\\"}],\\\"id\\\":1},{\\\"name\\\":\\\"Term 2\\\",\\\"curriculum_items\\\":[{\\\"curriculum_requisites\\\":[{\\\"source_id\\\":8,\\\"target_id\\\":1,\\\"type\\\":\\\"CurriculumPrerequisite\\\"}],\\\"name\\\":\\\" \\\",\\\"metrics\\\":{\\\"centrality\\\":22,\\\"complexity\\\":12.0,\\\"blocking factor\\\":6,\\\"delay factor\\\":6.0},\\\"nameSub\\\":\\\"Calculus I\\\",\\\"id\\\":1,\\\"credits\\\":4,\\\"nameCanonical\\\":\\\"\\\"},{\\\"curriculum_requisites\\\":[{\\\"source_id\\\":1,\\\"target_id\\\":3,\\\"type\\\":\\\"CurriculumCorequisite\\\"}],\\\"name\\\":\\\" \\\",\\\"metrics\\\":{\\\"centrality\\\":6,\\\"complexity\\\":9.0,\\\"blocking factor\\\":3,\\\"delay factor\\\":6.0},\\\"nameSub\\\":\\\"Physics I\\\",\\\"id\\\":3,\\\"credits\\\":4,\\\"nameCanonical\\\":\\\"\\\"}],\\\"id\\\":2},{\\\"name\\\":\\\"Term 3\\\",\\\"curriculum_items\\\":[{\\\"curriculum_requisites\\\":[{\\\"source_id\\\":1,\\\"target_id\\\":2,\\\"type\\\":\\\"CurriculumPrerequisite\\\"}],\\\"name\\\":\\\" \\\",\\\"metrics\\\":{\\\"centrality\\\":16,\\\"complexity\\\":10.0,\\\"blocking factor\\\":4,\\\"delay factor\\\":6.0},\\\"nameSub\\\":\\\"Calculus II\\\",\\\"id\\\":2,\\\"credits\\\":3,\\\"nameCanonical\\\":\\\"\\\"},{\\\"curriculum_requisites\\\":[{\\\"source_id\\\":2,\\\"target_id\\\":4,\\\"type\\\":\\\"CurriculumCorequisite\\\"},{\\\"source_id\\\":3,\\\"target_id\\\":4,\\\"type\\\":\\\"CurriculumPrerequisite\\\"}],\\\"name\\\":\\\" \\\",\\\"metrics\\\":{\\\"centrality\\\":12,\\\"complexity\\\":8.0,\\\"blocking factor\\\":2,\\\"delay factor\\\":6.0},\\\"nameSub\\\":\\\"Physics II\\\",\\\"id\\\":4,\\\"credits\\\":4,\\\"nameCanonical\\\":\\\"\\\"}],\\\"id\\\":3},{\\\"name\\\":\\\"Term 4\\\",\\\"curriculum_items\\\":[{\\\"curriculum_requisites\\\":[{\\\"source_id\\\":2,\\\"target_id\\\":5,\\\"type\\\":\\\"CurriculumPrerequisite\\\"}],\\\"name\\\":\\\" \\\",\\\"metrics\\\":{\\\"centrality\\\":5,\\\"complexity\\\":6.0,\\\"blocking factor\\\":1,\\\"delay factor\\\":5.0},\\\"nameSub\\\":\\\"Differential Eqs.\\\",\\\"id\\\":5,\\\"credits\\\":3,\\\"nameCanonical\\\":\\\"\\\"},{\\\"curriculum_requisites\\\":[{\\\"source_id\\\":4,\\\"target_id\\\":6,\\\"type\\\":\\\"CurriculumCorequisite\\\"},{\\\"source_id\\\":2,\\\"target_id\\\":6,\\\"type\\\":\\\"CurriculumPrerequisite\\\"}],\\\"name\\\":\\\" \\\",\\\"metrics\\\":{\\\"centrality\\\":17,\\\"complexity\\\":7.0,\\\"blocking factor\\\":1,\\\"delay factor\\\":6.0},\\\"nameSub\\\":\\\"Circuits I\\\",\\\"id\\\":6,\\\"credits\\\":3,\\\"nameCanonical\\\":\\\"\\\"}],\\\"id\\\":4},{\\\"name\\\":\\\"Term 5\\\",\\\"curriculum_items\\\":[{\\\"curriculum_requisites\\\":[{\\\"source_id\\\":5,\\\"target_id\\\":7,\\\"type\\\":\\\"CurriculumCorequisite\\\"},{\\\"source_id\\\":6,\\\"target_id\\\":7,\\\"type\\\":\\\"CurriculumPrerequisite\\\"}],\\\"name\\\":\\\" \\\",\\\"metrics\\\":{\\\"centrality\\\":0,\\\"complexity\\\":6.0,\\\"blocking factor\\\":0,\\\"delay factor\\\":6.0},\\\"nameSub\\\":\\\"Circuits II\\\",\\\"id\\\":7,\\\"credits\\\":3,\\\"nameCanonical\\\":\\\"\\\"}],\\\"id\\\":5}],\\\"institution\\\":\\\"\\\"}},\\\"*\\\"); window.removeEventListener(\\\"message\\\",window.messageReceived); window.messageReceived=(function (event){return (event.data.curriculum!==undefined) ? (WebIO.setval({\\\"name\\\":\\\"curriculum-data\\\",\\\"scope\\\":\\\"18364231078036174668\\\",\\\"id\\\":\\\"16456594863417125425\\\",\\\"type\\\":\\\"observable\\\"},event.data.curriculum)) : undefined}); return window.addEventListener(\\\"message\\\",window.messageReceived)})\"},\"style\":{\"padding\":\"0\",\"height\":\"70vh\",\"margin\":\"0\",\"border\":\"none\",\"width\":\"100%\"}},\"nodeType\":\"DOM\",\"type\":\"node\",\"instanceArgs\":{\"namespace\":\"html\",\"tag\":\"iframe\"},\"children\":[\"\"]}]},\n",
       "        window,\n",
       "    );\n",
       "    })()\n",
       "    </script>\n",
       "</div>\n"
      ],
      "text/plain": [
       "WebIO.Scope(WebIO.Node{WebIO.DOM}(WebIO.DOM(:html, :iframe), Any[\"\"], Dict{Symbol, Any}(:src => \"https://curricula-api-embed.damoursystems.com/\", :id => \"curriculum\", :events => Dict{Symbol, WebIO.JSString}(:load => WebIO.JSString(\"(function (){this.contentWindow.postMessage({\\\"options\\\":{\\\"hideTerms\\\":false,\\\"edit\\\":false},\\\"curriculum\\\":{\\\"name\\\":\\\"Circuits I Design Pattern\\\",\\\"dp_name\\\":\\\"Precalculus ready\\\",\\\"curriculum_terms\\\":[{\\\"name\\\":\\\"Term 1\\\",\\\"curriculum_items\\\":[{\\\"curriculum_requisites\\\":[],\\\"name\\\":\\\" \\\",\\\"metrics\\\":{\\\"centrality\\\":0,\\\"complexity\\\":13.0,\\\"blocking factor\\\":7,\\\"delay factor\\\":6.0},\\\"nameSub\\\":\\\"Precalculus\\\",\\\"id\\\":8,\\\"credits\\\":3,\\\"nameCanonical\\\":\\\"\\\"}],\\\"id\\\":1},{\\\"name\\\":\\\"Term 2\\\",\\\"curriculum_items\\\":[{\\\"curriculum_requisites\\\":[{\\\"source_id\\\":8,\\\"target_id\\\":1,\\\"type\\\":\\\"CurriculumPrerequisite\\\"}],\\\"name\\\":\\\" \\\",\\\"metrics\\\":{\\\"centrality\\\":22,\\\"complexity\\\":12.0,\\\"blocking factor\\\":6,\\\"delay factor\\\":6.0},\\\"nameSub\\\":\\\"Calculus I\\\",\\\"id\\\":1,\\\"credits\\\":4,\\\"nameCanonical\\\":\\\"\\\"},{\\\"curriculum_requisites\\\":[{\\\"source_id\\\":1,\\\"target_id\\\":3,\\\"type\\\":\\\"CurriculumCorequisite\\\"}],\\\"name\\\":\\\" \\\",\\\"metrics\\\":{\\\"centrality\\\":6,\\\"complexity\\\":9.0,\\\"blocking factor\\\":3,\\\"delay factor\\\":6.0},\\\"nameSub\\\":\\\"Physics I\\\",\\\"id\\\":3,\\\"credits\\\":4,\\\"nameCanonical\\\":\\\"\\\"}],\\\"id\\\":2},{\\\"name\\\":\\\"Term 3\\\",\\\"curriculum_items\\\":[{\\\"curriculum_requisites\\\":[{\\\"source_id\\\":1,\\\"target_id\\\":2,\\\"type\\\":\\\"CurriculumPrerequisite\\\"}],\\\"name\\\":\\\" \\\",\\\"metrics\\\":{\\\"centrality\\\":16,\\\"complexity\\\":10.0,\\\"blocking factor\\\":4,\\\"delay factor\\\":6.0},\\\"nameSub\\\":\\\"Calculus II\\\",\\\"id\\\":2,\\\"credits\\\":3,\\\"nameCanonical\\\":\\\"\\\"},{\\\"curriculum_requisites\\\":[{\\\"source_id\\\":2,\\\"target_id\\\":4,\\\"type\\\":\\\"CurriculumCorequisite\\\"},{\\\"source_id\\\":3,\\\"target_id\\\":4,\\\"type\\\":\\\"CurriculumPrerequisite\\\"}],\\\"name\\\":\\\" \\\",\\\"metrics\\\":{\\\"centrality\\\":12,\\\"complexity\\\":8.0,\\\"blocking factor\\\":2,\\\"delay factor\\\":6.0},\\\"nameSub\\\":\\\"Physics II\\\",\\\"id\\\":4,\\\"credits\\\":4,\\\"nameCanonical\\\":\\\"\\\"}],\\\"id\\\":3},{\\\"name\\\":\\\"Term 4\\\",\\\"curriculum_items\\\":[{\\\"curriculum_requisites\\\":[{\\\"source_id\\\":2,\\\"target_id\\\":5,\\\"type\\\":\\\"CurriculumPrerequisite\\\"}],\\\"name\\\":\\\" \\\",\\\"metrics\\\":{\\\"centrality\\\":5,\\\"complexity\\\":6.0,\\\"blocking factor\\\":1,\\\"delay factor\\\":5.0},\\\"nameSub\\\":\\\"Differential Eqs.\\\",\\\"id\\\":5,\\\"credits\\\":3,\\\"nameCanonical\\\":\\\"\\\"},{\\\"curriculum_requisites\\\":[{\\\"source_id\\\":4,\\\"target_id\\\":6,\\\"type\\\":\\\"CurriculumCorequisite\\\"},{\\\"source_id\\\":2,\\\"target_id\\\":6,\\\"type\\\":\\\"CurriculumPrerequisite\\\"}],\\\"name\\\":\\\" \\\",\\\"metrics\\\":{\\\"centrality\\\":17,\\\"complexity\\\":7.0,\\\"blocking factor\\\":1,\\\"delay factor\\\":6.0},\\\"nameSub\\\":\\\"Circuits I\\\",\\\"id\\\":6,\\\"credits\\\":3,\\\"nameCanonical\\\":\\\"\\\"}],\\\"id\\\":4},{\\\"name\\\":\\\"Term 5\\\",\\\"curriculum_items\\\":[{\\\"curriculum_requisites\\\":[{\\\"source_id\\\":5,\\\"target_id\\\":7,\\\"type\\\":\\\"CurriculumCorequisite\\\"},{\\\"source_id\\\":6,\\\"target_id\\\":7,\\\"type\\\":\\\"CurriculumPrerequisite\\\"}],\\\"name\\\":\\\" \\\",\\\"metrics\\\":{\\\"centrality\\\":0,\\\"complexity\\\":6.0,\\\"blocking factor\\\":0,\\\"delay factor\\\":6.0},\\\"nameSub\\\":\\\"Circuits II\\\",\\\"id\\\":7,\\\"credits\\\":3,\\\"nameCanonical\\\":\\\"\\\"}],\\\"id\\\":5}],\\\"institution\\\":\\\"\\\"}},\\\"*\\\"); window.removeEventListener(\\\"message\\\",window.messageReceived); window.messageReceived=(function (event){return (event.data.curriculum!==undefined) ? (WebIO.setval({\\\"name\\\":\\\"curriculum-data\\\",\\\"scope\\\":\\\"18364231078036174668\\\",\\\"id\\\":\\\"16456594863417125425\\\",\\\"type\\\":\\\"observable\\\"},event.data.curriculum)) : undefined}); return window.addEventListener(\\\"message\\\",window.messageReceived)})\")), :style => Dict(:padding => \"0\", :height => \"70vh\", :margin => \"0\", :border => \"none\", :width => \"100%\"))), Dict{String, Tuple{Observables.AbstractObservable, Union{Nothing, Bool}}}(\"curriculum-data\" => (Observable{Dict{String, Any}} with 1 listeners. Value:\n",
       "Dict{String, Any}(\"options\" => Dict{String, Any}(\"hideTerms\" => false, \"edit\" => false), \"curriculum\" => Dict{String, Any}(\"name\" => \"Circuits I Design Pattern\", \"dp_name\" => \"Precalculus ready\", \"curriculum_terms\" => Dict{String, Any}[Dict(\"name\" => \"Term 1\", \"curriculum_items\" => Dict{String, Any}[Dict(\"curriculum_requisites\" => Dict{String, Any}[], \"name\" => \" \", \"metrics\" => Dict{String, Any}(\"centrality\" => 0, \"complexity\" => 13.0, \"blocking factor\" => 7, \"delay factor\" => 6.0), \"nameSub\" => \"Precalculus\", \"id\" => 8, \"credits\" => 3, \"nameCanonical\" => \"\")], \"id\" => 1), Dict(\"name\" => \"Term 2\", \"curriculum_items\" => Dict{String, Any}[Dict(\"curriculum_requisites\" => Dict{String, Any}[Dict(\"source_id\" => 8, \"target_id\" => 1, \"type\" => \"CurriculumPrerequisite\")], \"name\" => \" \", \"metrics\" => Dict{String, Any}(\"centrality\" => 22, \"complexity\" => 12.0, \"blocking factor\" => 6, \"delay factor\" => 6.0), \"nameSub\" => \"Calculus I\", \"id\" => 1, \"credits\" => 4, \"nameCanonical\" => \"\"), Dict(\"curriculum_requisites\" => Dict{String, Any}[Dict(\"source_id\" => 1, \"target_id\" => 3, \"type\" => \"CurriculumCorequisite\")], \"name\" => \" \", \"metrics\" => Dict{String, Any}(\"centrality\" => 6, \"complexity\" => 9.0, \"blocking factor\" => 3, \"delay factor\" => 6.0), \"nameSub\" => \"Physics I\", \"id\" => 3, \"credits\" => 4, \"nameCanonical\" => \"\")], \"id\" => 2), Dict(\"name\" => \"Term 3\", \"curriculum_items\" => Dict{String, Any}[Dict(\"curriculum_requisites\" => Dict{String, Any}[Dict(\"source_id\" => 1, \"target_id\" => 2, \"type\" => \"CurriculumPrerequisite\")], \"name\" => \" \", \"metrics\" => Dict{String, Any}(\"centrality\" => 16, \"complexity\" => 10.0, \"blocking factor\" => 4, \"delay factor\" => 6.0), \"nameSub\" => \"Calculus II\", \"id\" => 2, \"credits\" => 3, \"nameCanonical\" => \"\"), Dict(\"curriculum_requisites\" => Dict{String, Any}[Dict(\"source_id\" => 2, \"target_id\" => 4, \"type\" => \"CurriculumCorequisite\"), Dict(\"source_id\" => 3, \"target_id\" => 4, \"type\" => \"CurriculumPrerequisite\")], \"name\" => \" \", \"metrics\" => Dict{String, Any}(\"centrality\" => 12, \"complexity\" => 8.0, \"blocking factor\" => 2, \"delay factor\" => 6.0), \"nameSub\" => \"Physics II\", \"id\" => 4, \"credits\" => 4, \"nameCanonical\" => \"\")], \"id\" => 3), Dict(\"name\" => \"Term 4\", \"curriculum_items\" => Dict{String, Any}[Dict(\"curriculum_requisites\" => Dict{String, Any}[Dict(\"source_id\" => 2, \"target_id\" => 5, \"type\" => \"CurriculumPrerequisite\")], \"name\" => \" \", \"metrics\" => Dict{String, Any}(\"centrality\" => 5, \"complexity\" => 6.0, \"blocking factor\" => 1, \"delay factor\" => 5.0), \"nameSub\" => \"Differential Eqs.\", \"id\" => 5, \"credits\" => 3, \"nameCanonical\" => \"\"), Dict(\"curriculum_requisites\" => Dict{String, Any}[Dict(\"source_id\" => 4, \"target_id\" => 6, \"type\" => \"CurriculumCorequisite\"), Dict(\"source_id\" => 2, \"target_id\" => 6, \"type\" => \"CurriculumPrerequisite\")], \"name\" => \" \", \"metrics\" => Dict{String, Any}(\"centrality\" => 17, \"complexity\" => 7.0, \"blocking factor\" => 1, \"delay factor\" => 6.0), \"nameSub\" => \"Circuits I\", \"id\" => 6, \"credits\" => 3, \"nameCanonical\" => \"\")], \"id\" => 4), Dict(\"name\" => \"Term 5\", \"curriculum_items\" => Dict{String, Any}[Dict(\"curriculum_requisites\" => Dict{String, Any}[Dict(\"source_id\" => 5, \"target_id\" => 7, \"type\" => \"CurriculumCorequisite\"), Dict(\"source_id\" => 6, \"target_id\" => 7, \"type\" => \"CurriculumPrerequisite\")], \"name\" => \" \", \"metrics\" => Dict{String, Any}(\"centrality\" => 0, \"complexity\" => 6.0, \"blocking factor\" => 0, \"delay factor\" => 6.0), \"nameSub\" => \"Circuits II\", \"id\" => 7, \"credits\" => 3, \"nameCanonical\" => \"\")], \"id\" => 5)], \"institution\" => \"\")), nothing)), Set{String}(), nothing, WebIO.Asset[], Dict{Any, Any}(), WebIO.ConnectionPool(Channel{Any}(32), Set{WebIO.AbstractConnection}(), Condition(Base.InvasiveLinkedList{Task}(Task (runnable) @0x000000011545b340, Task (runnable) @0x000000011545b340), Base.AlwaysLockedST(1))), WebIO.JSString[])"
      ]
     },
     "execution_count": 6,
     "metadata": {
      "application/vnd.webio.node+json": {
       "kernelId": "7772f636-9c06-4b2c-88ed-15c742964664"
      }
     },
     "output_type": "execute_result"
    },
    {
     "ename": "UndefVarError",
     "evalue": "UndefVarError: setexcludinghandlers! not defined",
     "output_type": "error",
     "traceback": [
      "KERNEL EXCEPTION",
      "UndefVarError: setexcludinghandlers! not defined",
      "",
      "Stacktrace:",
      "  [1] set_nosync(ob::Observables.Observable{Dict{String, Any}}, val::Dict{String, Any})",
      "    @ WebIO ~/.julia/packages/WebIO/4JqEH/src/scope.jl:352",
      "  [2] dispatch(ctx::WebIO.Scope, key::String, data::Dict{String, Any})",
      "    @ WebIO ~/.julia/packages/WebIO/4JqEH/src/scope.jl:368",
      "  [3] dispatch_command(conn::WebIO.IJuliaConnection, data::Dict{String, Any})",
      "    @ WebIO ~/.julia/packages/WebIO/4JqEH/src/messaging.jl:104",
      "  [4] dispatch(conn::WebIO.IJuliaConnection, data::Dict{String, Any})",
      "    @ WebIO ~/.julia/packages/WebIO/4JqEH/src/messaging.jl:81",
      "  [5] (::WebIO.var\"#101#102\"{WebIO.IJuliaConnection})(msg::IJulia.Msg)",
      "    @ WebIO ~/.julia/packages/WebIO/4JqEH/src/providers/ijulia.jl:21",
      "  [6] comm_msg(sock::ZMQ.Socket, msg::IJulia.Msg)",
      "    @ IJulia.CommManager ~/.julia/packages/IJulia/AQu2H/src/comm_manager.jl:134",
      "  [7] #invokelatest#2",
      "    @ ./essentials.jl:716 [inlined]",
      "  [8] invokelatest",
      "    @ ./essentials.jl:714 [inlined]",
      "  [9] eventloop(socket::ZMQ.Socket)",
      "    @ IJulia ~/.julia/packages/IJulia/AQu2H/src/eventloop.jl:8",
      " [10] (::IJulia.var\"#15#18\")()",
      "    @ IJulia ./task.jl:429"
     ]
    }
   ],
   "source": [
    "precalc_ready = read_csv(\"./EE-PrecalculusReady.csv\")\n",
    "visualize(precalc_ready, notebook=true, scale=0.7)"
   ]
  },
  {
   "cell_type": "code",
   "execution_count": 7,
   "id": "ab869b6c",
   "metadata": {},
   "outputs": [
    {
     "name": "stdout",
     "output_type": "stream",
     "text": [
      "\n",
      " \n",
      "Curriculum: Circuits I Design Pattern\n",
      "  credit hours = 27\n",
      "  number of courses = 8\n",
      "  Blocking Factor --\n",
      "    entire curriculum = 24\n",
      "    max. value = 7, for course(s): Precalculus\n",
      "  Centrality --\n",
      "    entire curriculum = 78\n",
      "    max. value = 22, for course(s): Calculus I\n",
      "  Delay Factor --\n",
      "    entire curriculum = 47.0\n",
      "    max. value = 6.0, for course(s): Calculus I, Calculus II, Physics I, Physics II, Circuits I, Circuits II, Precalculus\n",
      "  Complexity --\n",
      "    entire curriculum = 71.0\n",
      "    max. value = 13.0, for course(s): Precalculus\n",
      "  Longest Path(s) --\n",
      "    length = 6, number of paths = 2\n",
      "    path(s):\n",
      "    path 1 = Precalculus -> Calculus I -> Calculus II -> Physics II -> Circuits I -> Circuits II\n",
      "    path 2 = Precalculus -> Calculus I -> Physics I -> Physics II -> Circuits I -> Circuits II\n",
      "\n"
     ]
    }
   ],
   "source": [
    "metrics = basic_metrics(precalc_ready.curriculum)\n",
    "println(String(take!(metrics)))"
   ]
  },
  {
   "cell_type": "code",
   "execution_count": 8,
   "id": "e8257fad",
   "metadata": {},
   "outputs": [
    {
     "data": {
      "application/vnd.webio.node+json": {
       "children": [
        {
         "children": [
          ""
         ],
         "instanceArgs": {
          "namespace": "html",
          "tag": "iframe"
         },
         "nodeType": "DOM",
         "props": {
          "events": {
           "load": "(function (){this.contentWindow.postMessage({\"options\":{\"hideTerms\":false,\"edit\":false},\"curriculum\":{\"name\":\"Circuits I Design Pattern\",\"dp_name\":\"Engineering 101 ready\",\"curriculum_terms\":[{\"name\":\"Term 1\",\"curriculum_items\":[{\"curriculum_requisites\":[],\"name\":\" \",\"metrics\":{\"centrality\":0,\"complexity\":12.0,\"blocking factor\":7,\"delay factor\":5.0},\"nameSub\":\"Engineering  Math\",\"id\":1,\"credits\":4,\"nameCanonical\":\"\"}],\"id\":1},{\"name\":\"Term 2\",\"curriculum_items\":[{\"curriculum_requisites\":[{\"source_id\":1,\"target_id\":2,\"type\":\"CurriculumPrerequisite\"}],\"name\":\" \",\"metrics\":{\"centrality\":13,\"complexity\":10.0,\"blocking factor\":5,\"delay factor\":5.0},\"nameSub\":\"Calculus I\",\"id\":2,\"credits\":4,\"nameCanonical\":\"\"},{\"curriculum_requisites\":[{\"source_id\":2,\"target_id\":4,\"type\":\"CurriculumCorequisite\"}],\"name\":\" \",\"metrics\":{\"centrality\":4,\"complexity\":5.0,\"blocking factor\":1,\"delay factor\":4.0},\"nameSub\":\"Physics I\",\"id\":4,\"credits\":3,\"nameCanonical\":\"\"}],\"id\":2},{\"name\":\"Term 3\",\"curriculum_items\":[{\"curriculum_requisites\":[{\"source_id\":2,\"target_id\":3,\"type\":\"CurriculumPrerequisite\"}],\"name\":\" \",\"metrics\":{\"centrality\":9,\"complexity\":8.0,\"blocking factor\":3,\"delay factor\":5.0},\"nameSub\":\"Calculus II\",\"id\":3,\"credits\":4,\"nameCanonical\":\"\"},{\"curriculum_requisites\":[{\"source_id\":4,\"target_id\":5,\"type\":\"CurriculumPrerequisite\"},{\"source_id\":3,\"target_id\":5,\"type\":\"CurriculumCorequisite\"}],\"name\":\" \",\"metrics\":{\"centrality\":0,\"complexity\":4.0,\"blocking factor\":0,\"delay factor\":4.0},\"nameSub\":\"Physics II\",\"id\":5,\"credits\":3,\"nameCanonical\":\"\"},{\"curriculum_requisites\":[{\"source_id\":1,\"target_id\":7,\"type\":\"CurriculumPrerequisite\"}],\"name\":\" \",\"metrics\":{\"centrality\":3,\"complexity\":4.0,\"blocking factor\":1,\"delay factor\":3.0},\"nameSub\":\"Circuits I\",\"id\":7,\"credits\":3,\"nameCanonical\":\"\"}],\"id\":3},{\"name\":\"Term 4\",\"curriculum_items\":[{\"curriculum_requisites\":[{\"source_id\":3,\"target_id\":6,\"type\":\"CurriculumPrerequisite\"}],\"name\":\" \",\"metrics\":{\"centrality\":5,\"complexity\":6.0,\"blocking factor\":1,\"delay factor\":5.0},\"nameSub\":\"Differential Eqs.\",\"id\":6,\"credits\":3,\"nameCanonical\":\"\"},{\"curriculum_requisites\":[{\"source_id\":6,\"target_id\":8,\"type\":\"CurriculumCorequisite\"},{\"source_id\":7,\"target_id\":8,\"type\":\"CurriculumPrerequisite\"}],\"name\":\" \",\"metrics\":{\"centrality\":0,\"complexity\":5.0,\"blocking factor\":0,\"delay factor\":5.0},\"nameSub\":\"Circuits II\",\"id\":8,\"credits\":3,\"nameCanonical\":\"\"}],\"id\":4}],\"institution\":\"\"}},\"*\"); window.removeEventListener(\"message\",window.messageReceived); window.messageReceived=(function (event){return (event.data.curriculum!==undefined) ? (WebIO.setval({\"name\":\"curriculum-data\",\"scope\":\"17517903511358015152\",\"id\":\"2622566724113896336\",\"type\":\"observable\"},event.data.curriculum)) : undefined}); return window.addEventListener(\"message\",window.messageReceived)})"
          },
          "id": "curriculum",
          "src": "https://curricula-api-embed.damoursystems.com/",
          "style": {
           "border": "none",
           "height": "70vh",
           "margin": "0",
           "padding": "0",
           "width": "100%"
          }
         },
         "type": "node"
        }
       ],
       "instanceArgs": {
        "handlers": {},
        "id": "17517903511358015152",
        "imports": {
         "data": [],
         "type": "async_block"
        },
        "mount_callbacks": [],
        "observables": {
         "curriculum-data": {
          "id": "2622566724113896336",
          "sync": true,
          "value": {
           "curriculum": {
            "curriculum_terms": [
             {
              "curriculum_items": [
               {
                "credits": 4,
                "curriculum_requisites": [],
                "id": 1,
                "metrics": {
                 "blocking factor": 7,
                 "centrality": 0,
                 "complexity": 12,
                 "delay factor": 5
                },
                "name": " ",
                "nameCanonical": "",
                "nameSub": "Engineering  Math"
               }
              ],
              "id": 1,
              "name": "Term 1"
             },
             {
              "curriculum_items": [
               {
                "credits": 4,
                "curriculum_requisites": [
                 {
                  "source_id": 1,
                  "target_id": 2,
                  "type": "CurriculumPrerequisite"
                 }
                ],
                "id": 2,
                "metrics": {
                 "blocking factor": 5,
                 "centrality": 13,
                 "complexity": 10,
                 "delay factor": 5
                },
                "name": " ",
                "nameCanonical": "",
                "nameSub": "Calculus I"
               },
               {
                "credits": 3,
                "curriculum_requisites": [
                 {
                  "source_id": 2,
                  "target_id": 4,
                  "type": "CurriculumCorequisite"
                 }
                ],
                "id": 4,
                "metrics": {
                 "blocking factor": 1,
                 "centrality": 4,
                 "complexity": 5,
                 "delay factor": 4
                },
                "name": " ",
                "nameCanonical": "",
                "nameSub": "Physics I"
               }
              ],
              "id": 2,
              "name": "Term 2"
             },
             {
              "curriculum_items": [
               {
                "credits": 4,
                "curriculum_requisites": [
                 {
                  "source_id": 2,
                  "target_id": 3,
                  "type": "CurriculumPrerequisite"
                 }
                ],
                "id": 3,
                "metrics": {
                 "blocking factor": 3,
                 "centrality": 9,
                 "complexity": 8,
                 "delay factor": 5
                },
                "name": " ",
                "nameCanonical": "",
                "nameSub": "Calculus II"
               },
               {
                "credits": 3,
                "curriculum_requisites": [
                 {
                  "source_id": 4,
                  "target_id": 5,
                  "type": "CurriculumPrerequisite"
                 },
                 {
                  "source_id": 3,
                  "target_id": 5,
                  "type": "CurriculumCorequisite"
                 }
                ],
                "id": 5,
                "metrics": {
                 "blocking factor": 0,
                 "centrality": 0,
                 "complexity": 4,
                 "delay factor": 4
                },
                "name": " ",
                "nameCanonical": "",
                "nameSub": "Physics II"
               },
               {
                "credits": 3,
                "curriculum_requisites": [
                 {
                  "source_id": 1,
                  "target_id": 7,
                  "type": "CurriculumPrerequisite"
                 }
                ],
                "id": 7,
                "metrics": {
                 "blocking factor": 1,
                 "centrality": 3,
                 "complexity": 4,
                 "delay factor": 3
                },
                "name": " ",
                "nameCanonical": "",
                "nameSub": "Circuits I"
               }
              ],
              "id": 3,
              "name": "Term 3"
             },
             {
              "curriculum_items": [
               {
                "credits": 3,
                "curriculum_requisites": [
                 {
                  "source_id": 3,
                  "target_id": 6,
                  "type": "CurriculumPrerequisite"
                 }
                ],
                "id": 6,
                "metrics": {
                 "blocking factor": 1,
                 "centrality": 5,
                 "complexity": 6,
                 "delay factor": 5
                },
                "name": " ",
                "nameCanonical": "",
                "nameSub": "Differential Eqs."
               },
               {
                "credits": 3,
                "curriculum_requisites": [
                 {
                  "source_id": 6,
                  "target_id": 8,
                  "type": "CurriculumCorequisite"
                 },
                 {
                  "source_id": 7,
                  "target_id": 8,
                  "type": "CurriculumPrerequisite"
                 }
                ],
                "id": 8,
                "metrics": {
                 "blocking factor": 0,
                 "centrality": 0,
                 "complexity": 5,
                 "delay factor": 5
                },
                "name": " ",
                "nameCanonical": "",
                "nameSub": "Circuits II"
               }
              ],
              "id": 4,
              "name": "Term 4"
             }
            ],
            "dp_name": "Engineering 101 ready",
            "institution": "",
            "name": "Circuits I Design Pattern"
           },
           "options": {
            "edit": false,
            "hideTerms": false
           }
          }
         }
        },
        "systemjs_options": null
       },
       "nodeType": "Scope",
       "props": {},
       "type": "node"
      },
      "text/html": [
       "<div\n",
       "    class=\"webio-mountpoint\"\n",
       "    data-webio-mountpoint=\"2751598763577656080\"\n",
       ">\n",
       "    <script>\n",
       "    (function(){\n",
       "    // Some integrations (namely, IJulia/Jupyter) use an alternate render pathway than\n",
       "    // just putting the html on the page. If WebIO isn't defined, then it's pretty likely\n",
       "    // that we're in one of those situations and the integration just isn't installed\n",
       "    // correctly.\n",
       "    if (typeof window.WebIO === \"undefined\") {\n",
       "        document\n",
       "            .querySelector('[data-webio-mountpoint=\"2751598763577656080\"]')\n",
       "            .innerHTML = (\n",
       "                '<div style=\"padding: 1em; background-color: #f8d6da; border: 1px solid #f5c6cb; font-weight: bold;\">' +\n",
       "                '<p><strong>WebIO not detected.</strong></p>' +\n",
       "                '<p>Please read ' +\n",
       "                '<a href=\"https://juliagizmos.github.io/WebIO.jl/latest/troubleshooting/not-detected/\" target=\"_blank\">the troubleshooting guide</a> ' +\n",
       "                'for more information on how to resolve this issue.</p>' +\n",
       "                '<p><a href=\"https://juliagizmos.github.io/WebIO.jl/latest/troubleshooting/not-detected/\" target=\"_blank\">https://juliagizmos.github.io/WebIO.jl/latest/troubleshooting/not-detected/</a></p>' +\n",
       "                '</div>'\n",
       "            );\n",
       "        return;\n",
       "    }\n",
       "    WebIO.mount(\n",
       "        document.querySelector('[data-webio-mountpoint=\"2751598763577656080\"]'),\n",
       "        {\"props\":{},\"nodeType\":\"Scope\",\"type\":\"node\",\"instanceArgs\":{\"imports\":{\"data\":[],\"type\":\"async_block\"},\"id\":\"17517903511358015152\",\"handlers\":{},\"systemjs_options\":null,\"mount_callbacks\":[],\"observables\":{\"curriculum-data\":{\"sync\":true,\"id\":\"2622566724113896336\",\"value\":{\"options\":{\"hideTerms\":false,\"edit\":false},\"curriculum\":{\"name\":\"Circuits I Design Pattern\",\"dp_name\":\"Engineering 101 ready\",\"curriculum_terms\":[{\"name\":\"Term 1\",\"curriculum_items\":[{\"curriculum_requisites\":[],\"name\":\" \",\"metrics\":{\"centrality\":0,\"complexity\":12.0,\"blocking factor\":7,\"delay factor\":5.0},\"nameSub\":\"Engineering  Math\",\"id\":1,\"credits\":4,\"nameCanonical\":\"\"}],\"id\":1},{\"name\":\"Term 2\",\"curriculum_items\":[{\"curriculum_requisites\":[{\"source_id\":1,\"target_id\":2,\"type\":\"CurriculumPrerequisite\"}],\"name\":\" \",\"metrics\":{\"centrality\":13,\"complexity\":10.0,\"blocking factor\":5,\"delay factor\":5.0},\"nameSub\":\"Calculus I\",\"id\":2,\"credits\":4,\"nameCanonical\":\"\"},{\"curriculum_requisites\":[{\"source_id\":2,\"target_id\":4,\"type\":\"CurriculumCorequisite\"}],\"name\":\" \",\"metrics\":{\"centrality\":4,\"complexity\":5.0,\"blocking factor\":1,\"delay factor\":4.0},\"nameSub\":\"Physics I\",\"id\":4,\"credits\":3,\"nameCanonical\":\"\"}],\"id\":2},{\"name\":\"Term 3\",\"curriculum_items\":[{\"curriculum_requisites\":[{\"source_id\":2,\"target_id\":3,\"type\":\"CurriculumPrerequisite\"}],\"name\":\" \",\"metrics\":{\"centrality\":9,\"complexity\":8.0,\"blocking factor\":3,\"delay factor\":5.0},\"nameSub\":\"Calculus II\",\"id\":3,\"credits\":4,\"nameCanonical\":\"\"},{\"curriculum_requisites\":[{\"source_id\":4,\"target_id\":5,\"type\":\"CurriculumPrerequisite\"},{\"source_id\":3,\"target_id\":5,\"type\":\"CurriculumCorequisite\"}],\"name\":\" \",\"metrics\":{\"centrality\":0,\"complexity\":4.0,\"blocking factor\":0,\"delay factor\":4.0},\"nameSub\":\"Physics II\",\"id\":5,\"credits\":3,\"nameCanonical\":\"\"},{\"curriculum_requisites\":[{\"source_id\":1,\"target_id\":7,\"type\":\"CurriculumPrerequisite\"}],\"name\":\" \",\"metrics\":{\"centrality\":3,\"complexity\":4.0,\"blocking factor\":1,\"delay factor\":3.0},\"nameSub\":\"Circuits I\",\"id\":7,\"credits\":3,\"nameCanonical\":\"\"}],\"id\":3},{\"name\":\"Term 4\",\"curriculum_items\":[{\"curriculum_requisites\":[{\"source_id\":3,\"target_id\":6,\"type\":\"CurriculumPrerequisite\"}],\"name\":\" \",\"metrics\":{\"centrality\":5,\"complexity\":6.0,\"blocking factor\":1,\"delay factor\":5.0},\"nameSub\":\"Differential Eqs.\",\"id\":6,\"credits\":3,\"nameCanonical\":\"\"},{\"curriculum_requisites\":[{\"source_id\":6,\"target_id\":8,\"type\":\"CurriculumCorequisite\"},{\"source_id\":7,\"target_id\":8,\"type\":\"CurriculumPrerequisite\"}],\"name\":\" \",\"metrics\":{\"centrality\":0,\"complexity\":5.0,\"blocking factor\":0,\"delay factor\":5.0},\"nameSub\":\"Circuits II\",\"id\":8,\"credits\":3,\"nameCanonical\":\"\"}],\"id\":4}],\"institution\":\"\"}}}}},\"children\":[{\"props\":{\"src\":\"https:\\/\\/curricula-api-embed.damoursystems.com\\/\",\"id\":\"curriculum\",\"events\":{\"load\":\"(function (){this.contentWindow.postMessage({\\\"options\\\":{\\\"hideTerms\\\":false,\\\"edit\\\":false},\\\"curriculum\\\":{\\\"name\\\":\\\"Circuits I Design Pattern\\\",\\\"dp_name\\\":\\\"Engineering 101 ready\\\",\\\"curriculum_terms\\\":[{\\\"name\\\":\\\"Term 1\\\",\\\"curriculum_items\\\":[{\\\"curriculum_requisites\\\":[],\\\"name\\\":\\\" \\\",\\\"metrics\\\":{\\\"centrality\\\":0,\\\"complexity\\\":12.0,\\\"blocking factor\\\":7,\\\"delay factor\\\":5.0},\\\"nameSub\\\":\\\"Engineering  Math\\\",\\\"id\\\":1,\\\"credits\\\":4,\\\"nameCanonical\\\":\\\"\\\"}],\\\"id\\\":1},{\\\"name\\\":\\\"Term 2\\\",\\\"curriculum_items\\\":[{\\\"curriculum_requisites\\\":[{\\\"source_id\\\":1,\\\"target_id\\\":2,\\\"type\\\":\\\"CurriculumPrerequisite\\\"}],\\\"name\\\":\\\" \\\",\\\"metrics\\\":{\\\"centrality\\\":13,\\\"complexity\\\":10.0,\\\"blocking factor\\\":5,\\\"delay factor\\\":5.0},\\\"nameSub\\\":\\\"Calculus I\\\",\\\"id\\\":2,\\\"credits\\\":4,\\\"nameCanonical\\\":\\\"\\\"},{\\\"curriculum_requisites\\\":[{\\\"source_id\\\":2,\\\"target_id\\\":4,\\\"type\\\":\\\"CurriculumCorequisite\\\"}],\\\"name\\\":\\\" \\\",\\\"metrics\\\":{\\\"centrality\\\":4,\\\"complexity\\\":5.0,\\\"blocking factor\\\":1,\\\"delay factor\\\":4.0},\\\"nameSub\\\":\\\"Physics I\\\",\\\"id\\\":4,\\\"credits\\\":3,\\\"nameCanonical\\\":\\\"\\\"}],\\\"id\\\":2},{\\\"name\\\":\\\"Term 3\\\",\\\"curriculum_items\\\":[{\\\"curriculum_requisites\\\":[{\\\"source_id\\\":2,\\\"target_id\\\":3,\\\"type\\\":\\\"CurriculumPrerequisite\\\"}],\\\"name\\\":\\\" \\\",\\\"metrics\\\":{\\\"centrality\\\":9,\\\"complexity\\\":8.0,\\\"blocking factor\\\":3,\\\"delay factor\\\":5.0},\\\"nameSub\\\":\\\"Calculus II\\\",\\\"id\\\":3,\\\"credits\\\":4,\\\"nameCanonical\\\":\\\"\\\"},{\\\"curriculum_requisites\\\":[{\\\"source_id\\\":4,\\\"target_id\\\":5,\\\"type\\\":\\\"CurriculumPrerequisite\\\"},{\\\"source_id\\\":3,\\\"target_id\\\":5,\\\"type\\\":\\\"CurriculumCorequisite\\\"}],\\\"name\\\":\\\" \\\",\\\"metrics\\\":{\\\"centrality\\\":0,\\\"complexity\\\":4.0,\\\"blocking factor\\\":0,\\\"delay factor\\\":4.0},\\\"nameSub\\\":\\\"Physics II\\\",\\\"id\\\":5,\\\"credits\\\":3,\\\"nameCanonical\\\":\\\"\\\"},{\\\"curriculum_requisites\\\":[{\\\"source_id\\\":1,\\\"target_id\\\":7,\\\"type\\\":\\\"CurriculumPrerequisite\\\"}],\\\"name\\\":\\\" \\\",\\\"metrics\\\":{\\\"centrality\\\":3,\\\"complexity\\\":4.0,\\\"blocking factor\\\":1,\\\"delay factor\\\":3.0},\\\"nameSub\\\":\\\"Circuits I\\\",\\\"id\\\":7,\\\"credits\\\":3,\\\"nameCanonical\\\":\\\"\\\"}],\\\"id\\\":3},{\\\"name\\\":\\\"Term 4\\\",\\\"curriculum_items\\\":[{\\\"curriculum_requisites\\\":[{\\\"source_id\\\":3,\\\"target_id\\\":6,\\\"type\\\":\\\"CurriculumPrerequisite\\\"}],\\\"name\\\":\\\" \\\",\\\"metrics\\\":{\\\"centrality\\\":5,\\\"complexity\\\":6.0,\\\"blocking factor\\\":1,\\\"delay factor\\\":5.0},\\\"nameSub\\\":\\\"Differential Eqs.\\\",\\\"id\\\":6,\\\"credits\\\":3,\\\"nameCanonical\\\":\\\"\\\"},{\\\"curriculum_requisites\\\":[{\\\"source_id\\\":6,\\\"target_id\\\":8,\\\"type\\\":\\\"CurriculumCorequisite\\\"},{\\\"source_id\\\":7,\\\"target_id\\\":8,\\\"type\\\":\\\"CurriculumPrerequisite\\\"}],\\\"name\\\":\\\" \\\",\\\"metrics\\\":{\\\"centrality\\\":0,\\\"complexity\\\":5.0,\\\"blocking factor\\\":0,\\\"delay factor\\\":5.0},\\\"nameSub\\\":\\\"Circuits II\\\",\\\"id\\\":8,\\\"credits\\\":3,\\\"nameCanonical\\\":\\\"\\\"}],\\\"id\\\":4}],\\\"institution\\\":\\\"\\\"}},\\\"*\\\"); window.removeEventListener(\\\"message\\\",window.messageReceived); window.messageReceived=(function (event){return (event.data.curriculum!==undefined) ? (WebIO.setval({\\\"name\\\":\\\"curriculum-data\\\",\\\"scope\\\":\\\"17517903511358015152\\\",\\\"id\\\":\\\"2622566724113896336\\\",\\\"type\\\":\\\"observable\\\"},event.data.curriculum)) : undefined}); return window.addEventListener(\\\"message\\\",window.messageReceived)})\"},\"style\":{\"padding\":\"0\",\"height\":\"70vh\",\"margin\":\"0\",\"border\":\"none\",\"width\":\"100%\"}},\"nodeType\":\"DOM\",\"type\":\"node\",\"instanceArgs\":{\"namespace\":\"html\",\"tag\":\"iframe\"},\"children\":[\"\"]}]},\n",
       "        window,\n",
       "    );\n",
       "    })()\n",
       "    </script>\n",
       "</div>\n"
      ],
      "text/plain": [
       "WebIO.Scope(WebIO.Node{WebIO.DOM}(WebIO.DOM(:html, :iframe), Any[\"\"], Dict{Symbol, Any}(:src => \"https://curricula-api-embed.damoursystems.com/\", :id => \"curriculum\", :events => Dict{Symbol, WebIO.JSString}(:load => WebIO.JSString(\"(function (){this.contentWindow.postMessage({\\\"options\\\":{\\\"hideTerms\\\":false,\\\"edit\\\":false},\\\"curriculum\\\":{\\\"name\\\":\\\"Circuits I Design Pattern\\\",\\\"dp_name\\\":\\\"Engineering 101 ready\\\",\\\"curriculum_terms\\\":[{\\\"name\\\":\\\"Term 1\\\",\\\"curriculum_items\\\":[{\\\"curriculum_requisites\\\":[],\\\"name\\\":\\\" \\\",\\\"metrics\\\":{\\\"centrality\\\":0,\\\"complexity\\\":12.0,\\\"blocking factor\\\":7,\\\"delay factor\\\":5.0},\\\"nameSub\\\":\\\"Engineering  Math\\\",\\\"id\\\":1,\\\"credits\\\":4,\\\"nameCanonical\\\":\\\"\\\"}],\\\"id\\\":1},{\\\"name\\\":\\\"Term 2\\\",\\\"curriculum_items\\\":[{\\\"curriculum_requisites\\\":[{\\\"source_id\\\":1,\\\"target_id\\\":2,\\\"type\\\":\\\"CurriculumPrerequisite\\\"}],\\\"name\\\":\\\" \\\",\\\"metrics\\\":{\\\"centrality\\\":13,\\\"complexity\\\":10.0,\\\"blocking factor\\\":5,\\\"delay factor\\\":5.0},\\\"nameSub\\\":\\\"Calculus I\\\",\\\"id\\\":2,\\\"credits\\\":4,\\\"nameCanonical\\\":\\\"\\\"},{\\\"curriculum_requisites\\\":[{\\\"source_id\\\":2,\\\"target_id\\\":4,\\\"type\\\":\\\"CurriculumCorequisite\\\"}],\\\"name\\\":\\\" \\\",\\\"metrics\\\":{\\\"centrality\\\":4,\\\"complexity\\\":5.0,\\\"blocking factor\\\":1,\\\"delay factor\\\":4.0},\\\"nameSub\\\":\\\"Physics I\\\",\\\"id\\\":4,\\\"credits\\\":3,\\\"nameCanonical\\\":\\\"\\\"}],\\\"id\\\":2},{\\\"name\\\":\\\"Term 3\\\",\\\"curriculum_items\\\":[{\\\"curriculum_requisites\\\":[{\\\"source_id\\\":2,\\\"target_id\\\":3,\\\"type\\\":\\\"CurriculumPrerequisite\\\"}],\\\"name\\\":\\\" \\\",\\\"metrics\\\":{\\\"centrality\\\":9,\\\"complexity\\\":8.0,\\\"blocking factor\\\":3,\\\"delay factor\\\":5.0},\\\"nameSub\\\":\\\"Calculus II\\\",\\\"id\\\":3,\\\"credits\\\":4,\\\"nameCanonical\\\":\\\"\\\"},{\\\"curriculum_requisites\\\":[{\\\"source_id\\\":4,\\\"target_id\\\":5,\\\"type\\\":\\\"CurriculumPrerequisite\\\"},{\\\"source_id\\\":3,\\\"target_id\\\":5,\\\"type\\\":\\\"CurriculumCorequisite\\\"}],\\\"name\\\":\\\" \\\",\\\"metrics\\\":{\\\"centrality\\\":0,\\\"complexity\\\":4.0,\\\"blocking factor\\\":0,\\\"delay factor\\\":4.0},\\\"nameSub\\\":\\\"Physics II\\\",\\\"id\\\":5,\\\"credits\\\":3,\\\"nameCanonical\\\":\\\"\\\"},{\\\"curriculum_requisites\\\":[{\\\"source_id\\\":1,\\\"target_id\\\":7,\\\"type\\\":\\\"CurriculumPrerequisite\\\"}],\\\"name\\\":\\\" \\\",\\\"metrics\\\":{\\\"centrality\\\":3,\\\"complexity\\\":4.0,\\\"blocking factor\\\":1,\\\"delay factor\\\":3.0},\\\"nameSub\\\":\\\"Circuits I\\\",\\\"id\\\":7,\\\"credits\\\":3,\\\"nameCanonical\\\":\\\"\\\"}],\\\"id\\\":3},{\\\"name\\\":\\\"Term 4\\\",\\\"curriculum_items\\\":[{\\\"curriculum_requisites\\\":[{\\\"source_id\\\":3,\\\"target_id\\\":6,\\\"type\\\":\\\"CurriculumPrerequisite\\\"}],\\\"name\\\":\\\" \\\",\\\"metrics\\\":{\\\"centrality\\\":5,\\\"complexity\\\":6.0,\\\"blocking factor\\\":1,\\\"delay factor\\\":5.0},\\\"nameSub\\\":\\\"Differential Eqs.\\\",\\\"id\\\":6,\\\"credits\\\":3,\\\"nameCanonical\\\":\\\"\\\"},{\\\"curriculum_requisites\\\":[{\\\"source_id\\\":6,\\\"target_id\\\":8,\\\"type\\\":\\\"CurriculumCorequisite\\\"},{\\\"source_id\\\":7,\\\"target_id\\\":8,\\\"type\\\":\\\"CurriculumPrerequisite\\\"}],\\\"name\\\":\\\" \\\",\\\"metrics\\\":{\\\"centrality\\\":0,\\\"complexity\\\":5.0,\\\"blocking factor\\\":0,\\\"delay factor\\\":5.0},\\\"nameSub\\\":\\\"Circuits II\\\",\\\"id\\\":8,\\\"credits\\\":3,\\\"nameCanonical\\\":\\\"\\\"}],\\\"id\\\":4}],\\\"institution\\\":\\\"\\\"}},\\\"*\\\"); window.removeEventListener(\\\"message\\\",window.messageReceived); window.messageReceived=(function (event){return (event.data.curriculum!==undefined) ? (WebIO.setval({\\\"name\\\":\\\"curriculum-data\\\",\\\"scope\\\":\\\"17517903511358015152\\\",\\\"id\\\":\\\"2622566724113896336\\\",\\\"type\\\":\\\"observable\\\"},event.data.curriculum)) : undefined}); return window.addEventListener(\\\"message\\\",window.messageReceived)})\")), :style => Dict(:padding => \"0\", :height => \"70vh\", :margin => \"0\", :border => \"none\", :width => \"100%\"))), Dict{String, Tuple{Observables.AbstractObservable, Union{Nothing, Bool}}}(\"curriculum-data\" => (Observable{Dict{String, Any}} with 1 listeners. Value:\n",
       "Dict{String, Any}(\"options\" => Dict{String, Any}(\"hideTerms\" => false, \"edit\" => false), \"curriculum\" => Dict{String, Any}(\"name\" => \"Circuits I Design Pattern\", \"dp_name\" => \"Engineering 101 ready\", \"curriculum_terms\" => Dict{String, Any}[Dict(\"name\" => \"Term 1\", \"curriculum_items\" => Dict{String, Any}[Dict(\"curriculum_requisites\" => Dict{String, Any}[], \"name\" => \" \", \"metrics\" => Dict{String, Any}(\"centrality\" => 0, \"complexity\" => 12.0, \"blocking factor\" => 7, \"delay factor\" => 5.0), \"nameSub\" => \"Engineering  Math\", \"id\" => 1, \"credits\" => 4, \"nameCanonical\" => \"\")], \"id\" => 1), Dict(\"name\" => \"Term 2\", \"curriculum_items\" => Dict{String, Any}[Dict(\"curriculum_requisites\" => Dict{String, Any}[Dict(\"source_id\" => 1, \"target_id\" => 2, \"type\" => \"CurriculumPrerequisite\")], \"name\" => \" \", \"metrics\" => Dict{String, Any}(\"centrality\" => 13, \"complexity\" => 10.0, \"blocking factor\" => 5, \"delay factor\" => 5.0), \"nameSub\" => \"Calculus I\", \"id\" => 2, \"credits\" => 4, \"nameCanonical\" => \"\"), Dict(\"curriculum_requisites\" => Dict{String, Any}[Dict(\"source_id\" => 2, \"target_id\" => 4, \"type\" => \"CurriculumCorequisite\")], \"name\" => \" \", \"metrics\" => Dict{String, Any}(\"centrality\" => 4, \"complexity\" => 5.0, \"blocking factor\" => 1, \"delay factor\" => 4.0), \"nameSub\" => \"Physics I\", \"id\" => 4, \"credits\" => 3, \"nameCanonical\" => \"\")], \"id\" => 2), Dict(\"name\" => \"Term 3\", \"curriculum_items\" => Dict{String, Any}[Dict(\"curriculum_requisites\" => Dict{String, Any}[Dict(\"source_id\" => 2, \"target_id\" => 3, \"type\" => \"CurriculumPrerequisite\")], \"name\" => \" \", \"metrics\" => Dict{String, Any}(\"centrality\" => 9, \"complexity\" => 8.0, \"blocking factor\" => 3, \"delay factor\" => 5.0), \"nameSub\" => \"Calculus II\", \"id\" => 3, \"credits\" => 4, \"nameCanonical\" => \"\"), Dict(\"curriculum_requisites\" => Dict{String, Any}[Dict(\"source_id\" => 4, \"target_id\" => 5, \"type\" => \"CurriculumPrerequisite\"), Dict(\"source_id\" => 3, \"target_id\" => 5, \"type\" => \"CurriculumCorequisite\")], \"name\" => \" \", \"metrics\" => Dict{String, Any}(\"centrality\" => 0, \"complexity\" => 4.0, \"blocking factor\" => 0, \"delay factor\" => 4.0), \"nameSub\" => \"Physics II\", \"id\" => 5, \"credits\" => 3, \"nameCanonical\" => \"\"), Dict(\"curriculum_requisites\" => Dict{String, Any}[Dict(\"source_id\" => 1, \"target_id\" => 7, \"type\" => \"CurriculumPrerequisite\")], \"name\" => \" \", \"metrics\" => Dict{String, Any}(\"centrality\" => 3, \"complexity\" => 4.0, \"blocking factor\" => 1, \"delay factor\" => 3.0), \"nameSub\" => \"Circuits I\", \"id\" => 7, \"credits\" => 3, \"nameCanonical\" => \"\")], \"id\" => 3), Dict(\"name\" => \"Term 4\", \"curriculum_items\" => Dict{String, Any}[Dict(\"curriculum_requisites\" => Dict{String, Any}[Dict(\"source_id\" => 3, \"target_id\" => 6, \"type\" => \"CurriculumPrerequisite\")], \"name\" => \" \", \"metrics\" => Dict{String, Any}(\"centrality\" => 5, \"complexity\" => 6.0, \"blocking factor\" => 1, \"delay factor\" => 5.0), \"nameSub\" => \"Differential Eqs.\", \"id\" => 6, \"credits\" => 3, \"nameCanonical\" => \"\"), Dict(\"curriculum_requisites\" => Dict{String, Any}[Dict(\"source_id\" => 6, \"target_id\" => 8, \"type\" => \"CurriculumCorequisite\"), Dict(\"source_id\" => 7, \"target_id\" => 8, \"type\" => \"CurriculumPrerequisite\")], \"name\" => \" \", \"metrics\" => Dict{String, Any}(\"centrality\" => 0, \"complexity\" => 5.0, \"blocking factor\" => 0, \"delay factor\" => 5.0), \"nameSub\" => \"Circuits II\", \"id\" => 8, \"credits\" => 3, \"nameCanonical\" => \"\")], \"id\" => 4)], \"institution\" => \"\")), nothing)), Set{String}(), nothing, WebIO.Asset[], Dict{Any, Any}(), WebIO.ConnectionPool(Channel{Any}(32), Set{WebIO.AbstractConnection}(), Condition(Base.InvasiveLinkedList{Task}(Task (runnable) @0x000000011545b5e0, Task (runnable) @0x000000011545b5e0), Base.AlwaysLockedST(1))), WebIO.JSString[])"
      ]
     },
     "execution_count": 8,
     "metadata": {
      "application/vnd.webio.node+json": {
       "kernelId": "7772f636-9c06-4b2c-88ed-15c742964664"
      }
     },
     "output_type": "execute_result"
    },
    {
     "ename": "UndefVarError",
     "evalue": "UndefVarError: setexcludinghandlers! not defined",
     "output_type": "error",
     "traceback": [
      "KERNEL EXCEPTION",
      "UndefVarError: setexcludinghandlers! not defined",
      "",
      "Stacktrace:",
      "  [1] set_nosync(ob::Observables.Observable{Dict{String, Any}}, val::Dict{String, Any})",
      "    @ WebIO ~/.julia/packages/WebIO/4JqEH/src/scope.jl:352",
      "  [2] dispatch(ctx::WebIO.Scope, key::String, data::Dict{String, Any})",
      "    @ WebIO ~/.julia/packages/WebIO/4JqEH/src/scope.jl:368",
      "  [3] dispatch_command(conn::WebIO.IJuliaConnection, data::Dict{String, Any})",
      "    @ WebIO ~/.julia/packages/WebIO/4JqEH/src/messaging.jl:104",
      "  [4] dispatch(conn::WebIO.IJuliaConnection, data::Dict{String, Any})",
      "    @ WebIO ~/.julia/packages/WebIO/4JqEH/src/messaging.jl:81",
      "  [5] (::WebIO.var\"#101#102\"{WebIO.IJuliaConnection})(msg::IJulia.Msg)",
      "    @ WebIO ~/.julia/packages/WebIO/4JqEH/src/providers/ijulia.jl:21",
      "  [6] comm_msg(sock::ZMQ.Socket, msg::IJulia.Msg)",
      "    @ IJulia.CommManager ~/.julia/packages/IJulia/AQu2H/src/comm_manager.jl:134",
      "  [7] #invokelatest#2",
      "    @ ./essentials.jl:716 [inlined]",
      "  [8] invokelatest",
      "    @ ./essentials.jl:714 [inlined]",
      "  [9] eventloop(socket::ZMQ.Socket)",
      "    @ IJulia ~/.julia/packages/IJulia/AQu2H/src/eventloop.jl:8",
      " [10] (::IJulia.var\"#15#18\")()",
      "    @ IJulia ./task.jl:429"
     ]
    }
   ],
   "source": [
    "WrightSt = read_csv(\"./EE-WrightSt.csv\")\n",
    "visualize(WrightSt, notebook=true, scale=0.7)"
   ]
  },
  {
   "cell_type": "code",
   "execution_count": 9,
   "id": "10c70840",
   "metadata": {},
   "outputs": [
    {
     "name": "stdout",
     "output_type": "stream",
     "text": [
      "\n",
      " \n",
      "Curriculum: Circuits I Design Pattern\n",
      "  credit hours = 27\n",
      "  number of courses = 8\n",
      "  Blocking Factor --\n",
      "    entire curriculum = 18\n",
      "    max. value = 7, for course(s): Engineering  Math\n",
      "  Centrality --\n",
      "    entire curriculum = 34\n",
      "    max. value = 13, for course(s): Calculus I\n",
      "  Delay Factor --\n",
      "    entire curriculum = 36.0\n",
      "    max. value = 5.0, for course(s): Engineering  Math, Calculus I, Calculus II, Differential Eqs., Circuits II\n",
      "  Complexity --\n",
      "    entire curriculum = 54.0\n",
      "    max. value = 12.0, for course(s): Engineering  Math\n",
      "  Longest Path(s) --\n",
      "    length = 5, number of paths = 1\n",
      "    path(s):\n",
      "    path 1 = Engineering  Math -> Calculus I -> Calculus II -> Differential Eqs. -> Circuits II\n",
      "\n"
     ]
    }
   ],
   "source": [
    "metrics = basic_metrics(WrightSt.curriculum)\n",
    "println(String(take!(metrics)))"
   ]
  },
  {
   "cell_type": "code",
   "execution_count": 10,
   "id": "3cf6f62c",
   "metadata": {},
   "outputs": [
    {
     "data": {
      "application/vnd.webio.node+json": {
       "children": [
        {
         "children": [
          ""
         ],
         "instanceArgs": {
          "namespace": "html",
          "tag": "iframe"
         },
         "nodeType": "DOM",
         "props": {
          "events": {
           "load": "(function (){this.contentWindow.postMessage({\"options\":{\"hideTerms\":false,\"edit\":false},\"curriculum\":{\"name\":\"Circuits I Design Pattern\",\"dp_name\":\"OLOA pattern\",\"curriculum_terms\":[{\"name\":\"Term 1\",\"curriculum_items\":[{\"curriculum_requisites\":[],\"name\":\" \",\"metrics\":{\"centrality\":0,\"complexity\":11.0,\"blocking factor\":7,\"delay factor\":4.0},\"nameSub\":\"W1\",\"id\":1,\"credits\":4,\"nameCanonical\":\"\"}],\"id\":1},{\"name\":\"Term 2\",\"curriculum_items\":[{\"curriculum_requisites\":[{\"source_id\":1,\"target_id\":2,\"type\":\"CurriculumPrerequisite\"}],\"name\":\" \",\"metrics\":{\"centrality\":0,\"complexity\":2.0,\"blocking factor\":0,\"delay factor\":2.0},\"nameSub\":\"W2\",\"id\":2,\"credits\":4,\"nameCanonical\":\"\"},{\"curriculum_requisites\":[{\"source_id\":1,\"target_id\":3,\"type\":\"CurriculumPrerequisite\"}],\"name\":\" \",\"metrics\":{\"centrality\":14,\"complexity\":9.0,\"blocking factor\":5,\"delay factor\":4.0},\"nameSub\":\"W3\",\"id\":3,\"credits\":4,\"nameCanonical\":\"\"}],\"id\":2},{\"name\":\"Term 3\",\"curriculum_items\":[{\"curriculum_requisites\":[{\"source_id\":3,\"target_id\":4,\"type\":\"CurriculumPrerequisite\"}],\"name\":\" \",\"metrics\":{\"centrality\":4,\"complexity\":5.0,\"blocking factor\":1,\"delay factor\":4.0},\"nameSub\":\"W4\",\"id\":4,\"credits\":3,\"nameCanonical\":\"\"},{\"curriculum_requisites\":[{\"source_id\":3,\"target_id\":5,\"type\":\"CurriculumPrerequisite\"}],\"name\":\" \",\"metrics\":{\"centrality\":0,\"complexity\":3.0,\"blocking factor\":0,\"delay factor\":3.0},\"nameSub\":\"W5\",\"id\":5,\"credits\":3,\"nameCanonical\":\"\"},{\"curriculum_requisites\":[{\"source_id\":3,\"target_id\":6,\"type\":\"CurriculumPrerequisite\"}],\"name\":\" \",\"metrics\":{\"centrality\":0,\"complexity\":3.0,\"blocking factor\":0,\"delay factor\":3.0},\"nameSub\":\"W6\",\"id\":6,\"credits\":3,\"nameCanonical\":\"\"},{\"curriculum_requisites\":[{\"source_id\":3,\"target_id\":7,\"type\":\"CurriculumPrerequisite\"}],\"name\":\" \",\"metrics\":{\"centrality\":4,\"complexity\":5.0,\"blocking factor\":1,\"delay factor\":4.0},\"nameSub\":\"W7\",\"id\":7,\"credits\":3,\"nameCanonical\":\"\"}],\"id\":3},{\"name\":\"Term 4\",\"curriculum_items\":[{\"curriculum_requisites\":[{\"source_id\":4,\"target_id\":8,\"type\":\"CurriculumPrerequisite\"},{\"source_id\":7,\"target_id\":8,\"type\":\"CurriculumPrerequisite\"}],\"name\":\" \",\"metrics\":{\"centrality\":0,\"complexity\":4.0,\"blocking factor\":0,\"delay factor\":4.0},\"nameSub\":\"W8\",\"id\":8,\"credits\":3,\"nameCanonical\":\"\"}],\"id\":4}],\"institution\":\"\"}},\"*\"); window.removeEventListener(\"message\",window.messageReceived); window.messageReceived=(function (event){return (event.data.curriculum!==undefined) ? (WebIO.setval({\"name\":\"curriculum-data\",\"scope\":\"409962630618874154\",\"id\":\"11145323068738462917\",\"type\":\"observable\"},event.data.curriculum)) : undefined}); return window.addEventListener(\"message\",window.messageReceived)})"
          },
          "id": "curriculum",
          "src": "https://curricula-api-embed.damoursystems.com/",
          "style": {
           "border": "none",
           "height": "70vh",
           "margin": "0",
           "padding": "0",
           "width": "100%"
          }
         },
         "type": "node"
        }
       ],
       "instanceArgs": {
        "handlers": {},
        "id": "409962630618874154",
        "imports": {
         "data": [],
         "type": "async_block"
        },
        "mount_callbacks": [],
        "observables": {
         "curriculum-data": {
          "id": "11145323068738462917",
          "sync": true,
          "value": {
           "curriculum": {
            "curriculum_terms": [
             {
              "curriculum_items": [
               {
                "credits": 4,
                "curriculum_requisites": [],
                "id": 1,
                "metrics": {
                 "blocking factor": 7,
                 "centrality": 0,
                 "complexity": 11,
                 "delay factor": 4
                },
                "name": " ",
                "nameCanonical": "",
                "nameSub": "W1"
               }
              ],
              "id": 1,
              "name": "Term 1"
             },
             {
              "curriculum_items": [
               {
                "credits": 4,
                "curriculum_requisites": [
                 {
                  "source_id": 1,
                  "target_id": 2,
                  "type": "CurriculumPrerequisite"
                 }
                ],
                "id": 2,
                "metrics": {
                 "blocking factor": 0,
                 "centrality": 0,
                 "complexity": 2,
                 "delay factor": 2
                },
                "name": " ",
                "nameCanonical": "",
                "nameSub": "W2"
               },
               {
                "credits": 4,
                "curriculum_requisites": [
                 {
                  "source_id": 1,
                  "target_id": 3,
                  "type": "CurriculumPrerequisite"
                 }
                ],
                "id": 3,
                "metrics": {
                 "blocking factor": 5,
                 "centrality": 14,
                 "complexity": 9,
                 "delay factor": 4
                },
                "name": " ",
                "nameCanonical": "",
                "nameSub": "W3"
               }
              ],
              "id": 2,
              "name": "Term 2"
             },
             {
              "curriculum_items": [
               {
                "credits": 3,
                "curriculum_requisites": [
                 {
                  "source_id": 3,
                  "target_id": 4,
                  "type": "CurriculumPrerequisite"
                 }
                ],
                "id": 4,
                "metrics": {
                 "blocking factor": 1,
                 "centrality": 4,
                 "complexity": 5,
                 "delay factor": 4
                },
                "name": " ",
                "nameCanonical": "",
                "nameSub": "W4"
               },
               {
                "credits": 3,
                "curriculum_requisites": [
                 {
                  "source_id": 3,
                  "target_id": 5,
                  "type": "CurriculumPrerequisite"
                 }
                ],
                "id": 5,
                "metrics": {
                 "blocking factor": 0,
                 "centrality": 0,
                 "complexity": 3,
                 "delay factor": 3
                },
                "name": " ",
                "nameCanonical": "",
                "nameSub": "W5"
               },
               {
                "credits": 3,
                "curriculum_requisites": [
                 {
                  "source_id": 3,
                  "target_id": 6,
                  "type": "CurriculumPrerequisite"
                 }
                ],
                "id": 6,
                "metrics": {
                 "blocking factor": 0,
                 "centrality": 0,
                 "complexity": 3,
                 "delay factor": 3
                },
                "name": " ",
                "nameCanonical": "",
                "nameSub": "W6"
               },
               {
                "credits": 3,
                "curriculum_requisites": [
                 {
                  "source_id": 3,
                  "target_id": 7,
                  "type": "CurriculumPrerequisite"
                 }
                ],
                "id": 7,
                "metrics": {
                 "blocking factor": 1,
                 "centrality": 4,
                 "complexity": 5,
                 "delay factor": 4
                },
                "name": " ",
                "nameCanonical": "",
                "nameSub": "W7"
               }
              ],
              "id": 3,
              "name": "Term 3"
             },
             {
              "curriculum_items": [
               {
                "credits": 3,
                "curriculum_requisites": [
                 {
                  "source_id": 4,
                  "target_id": 8,
                  "type": "CurriculumPrerequisite"
                 },
                 {
                  "source_id": 7,
                  "target_id": 8,
                  "type": "CurriculumPrerequisite"
                 }
                ],
                "id": 8,
                "metrics": {
                 "blocking factor": 0,
                 "centrality": 0,
                 "complexity": 4,
                 "delay factor": 4
                },
                "name": " ",
                "nameCanonical": "",
                "nameSub": "W8"
               }
              ],
              "id": 4,
              "name": "Term 4"
             }
            ],
            "dp_name": "OLOA pattern",
            "institution": "",
            "name": "Circuits I Design Pattern"
           },
           "options": {
            "edit": false,
            "hideTerms": false
           }
          }
         }
        },
        "systemjs_options": null
       },
       "nodeType": "Scope",
       "props": {},
       "type": "node"
      },
      "text/html": [
       "<div\n",
       "    class=\"webio-mountpoint\"\n",
       "    data-webio-mountpoint=\"2618960018769688960\"\n",
       ">\n",
       "    <script>\n",
       "    (function(){\n",
       "    // Some integrations (namely, IJulia/Jupyter) use an alternate render pathway than\n",
       "    // just putting the html on the page. If WebIO isn't defined, then it's pretty likely\n",
       "    // that we're in one of those situations and the integration just isn't installed\n",
       "    // correctly.\n",
       "    if (typeof window.WebIO === \"undefined\") {\n",
       "        document\n",
       "            .querySelector('[data-webio-mountpoint=\"2618960018769688960\"]')\n",
       "            .innerHTML = (\n",
       "                '<div style=\"padding: 1em; background-color: #f8d6da; border: 1px solid #f5c6cb; font-weight: bold;\">' +\n",
       "                '<p><strong>WebIO not detected.</strong></p>' +\n",
       "                '<p>Please read ' +\n",
       "                '<a href=\"https://juliagizmos.github.io/WebIO.jl/latest/troubleshooting/not-detected/\" target=\"_blank\">the troubleshooting guide</a> ' +\n",
       "                'for more information on how to resolve this issue.</p>' +\n",
       "                '<p><a href=\"https://juliagizmos.github.io/WebIO.jl/latest/troubleshooting/not-detected/\" target=\"_blank\">https://juliagizmos.github.io/WebIO.jl/latest/troubleshooting/not-detected/</a></p>' +\n",
       "                '</div>'\n",
       "            );\n",
       "        return;\n",
       "    }\n",
       "    WebIO.mount(\n",
       "        document.querySelector('[data-webio-mountpoint=\"2618960018769688960\"]'),\n",
       "        {\"props\":{},\"nodeType\":\"Scope\",\"type\":\"node\",\"instanceArgs\":{\"imports\":{\"data\":[],\"type\":\"async_block\"},\"id\":\"409962630618874154\",\"handlers\":{},\"systemjs_options\":null,\"mount_callbacks\":[],\"observables\":{\"curriculum-data\":{\"sync\":true,\"id\":\"11145323068738462917\",\"value\":{\"options\":{\"hideTerms\":false,\"edit\":false},\"curriculum\":{\"name\":\"Circuits I Design Pattern\",\"dp_name\":\"OLOA pattern\",\"curriculum_terms\":[{\"name\":\"Term 1\",\"curriculum_items\":[{\"curriculum_requisites\":[],\"name\":\" \",\"metrics\":{\"centrality\":0,\"complexity\":11.0,\"blocking factor\":7,\"delay factor\":4.0},\"nameSub\":\"W1\",\"id\":1,\"credits\":4,\"nameCanonical\":\"\"}],\"id\":1},{\"name\":\"Term 2\",\"curriculum_items\":[{\"curriculum_requisites\":[{\"source_id\":1,\"target_id\":2,\"type\":\"CurriculumPrerequisite\"}],\"name\":\" \",\"metrics\":{\"centrality\":0,\"complexity\":2.0,\"blocking factor\":0,\"delay factor\":2.0},\"nameSub\":\"W2\",\"id\":2,\"credits\":4,\"nameCanonical\":\"\"},{\"curriculum_requisites\":[{\"source_id\":1,\"target_id\":3,\"type\":\"CurriculumPrerequisite\"}],\"name\":\" \",\"metrics\":{\"centrality\":14,\"complexity\":9.0,\"blocking factor\":5,\"delay factor\":4.0},\"nameSub\":\"W3\",\"id\":3,\"credits\":4,\"nameCanonical\":\"\"}],\"id\":2},{\"name\":\"Term 3\",\"curriculum_items\":[{\"curriculum_requisites\":[{\"source_id\":3,\"target_id\":4,\"type\":\"CurriculumPrerequisite\"}],\"name\":\" \",\"metrics\":{\"centrality\":4,\"complexity\":5.0,\"blocking factor\":1,\"delay factor\":4.0},\"nameSub\":\"W4\",\"id\":4,\"credits\":3,\"nameCanonical\":\"\"},{\"curriculum_requisites\":[{\"source_id\":3,\"target_id\":5,\"type\":\"CurriculumPrerequisite\"}],\"name\":\" \",\"metrics\":{\"centrality\":0,\"complexity\":3.0,\"blocking factor\":0,\"delay factor\":3.0},\"nameSub\":\"W5\",\"id\":5,\"credits\":3,\"nameCanonical\":\"\"},{\"curriculum_requisites\":[{\"source_id\":3,\"target_id\":6,\"type\":\"CurriculumPrerequisite\"}],\"name\":\" \",\"metrics\":{\"centrality\":0,\"complexity\":3.0,\"blocking factor\":0,\"delay factor\":3.0},\"nameSub\":\"W6\",\"id\":6,\"credits\":3,\"nameCanonical\":\"\"},{\"curriculum_requisites\":[{\"source_id\":3,\"target_id\":7,\"type\":\"CurriculumPrerequisite\"}],\"name\":\" \",\"metrics\":{\"centrality\":4,\"complexity\":5.0,\"blocking factor\":1,\"delay factor\":4.0},\"nameSub\":\"W7\",\"id\":7,\"credits\":3,\"nameCanonical\":\"\"}],\"id\":3},{\"name\":\"Term 4\",\"curriculum_items\":[{\"curriculum_requisites\":[{\"source_id\":4,\"target_id\":8,\"type\":\"CurriculumPrerequisite\"},{\"source_id\":7,\"target_id\":8,\"type\":\"CurriculumPrerequisite\"}],\"name\":\" \",\"metrics\":{\"centrality\":0,\"complexity\":4.0,\"blocking factor\":0,\"delay factor\":4.0},\"nameSub\":\"W8\",\"id\":8,\"credits\":3,\"nameCanonical\":\"\"}],\"id\":4}],\"institution\":\"\"}}}}},\"children\":[{\"props\":{\"src\":\"https:\\/\\/curricula-api-embed.damoursystems.com\\/\",\"id\":\"curriculum\",\"events\":{\"load\":\"(function (){this.contentWindow.postMessage({\\\"options\\\":{\\\"hideTerms\\\":false,\\\"edit\\\":false},\\\"curriculum\\\":{\\\"name\\\":\\\"Circuits I Design Pattern\\\",\\\"dp_name\\\":\\\"OLOA pattern\\\",\\\"curriculum_terms\\\":[{\\\"name\\\":\\\"Term 1\\\",\\\"curriculum_items\\\":[{\\\"curriculum_requisites\\\":[],\\\"name\\\":\\\" \\\",\\\"metrics\\\":{\\\"centrality\\\":0,\\\"complexity\\\":11.0,\\\"blocking factor\\\":7,\\\"delay factor\\\":4.0},\\\"nameSub\\\":\\\"W1\\\",\\\"id\\\":1,\\\"credits\\\":4,\\\"nameCanonical\\\":\\\"\\\"}],\\\"id\\\":1},{\\\"name\\\":\\\"Term 2\\\",\\\"curriculum_items\\\":[{\\\"curriculum_requisites\\\":[{\\\"source_id\\\":1,\\\"target_id\\\":2,\\\"type\\\":\\\"CurriculumPrerequisite\\\"}],\\\"name\\\":\\\" \\\",\\\"metrics\\\":{\\\"centrality\\\":0,\\\"complexity\\\":2.0,\\\"blocking factor\\\":0,\\\"delay factor\\\":2.0},\\\"nameSub\\\":\\\"W2\\\",\\\"id\\\":2,\\\"credits\\\":4,\\\"nameCanonical\\\":\\\"\\\"},{\\\"curriculum_requisites\\\":[{\\\"source_id\\\":1,\\\"target_id\\\":3,\\\"type\\\":\\\"CurriculumPrerequisite\\\"}],\\\"name\\\":\\\" \\\",\\\"metrics\\\":{\\\"centrality\\\":14,\\\"complexity\\\":9.0,\\\"blocking factor\\\":5,\\\"delay factor\\\":4.0},\\\"nameSub\\\":\\\"W3\\\",\\\"id\\\":3,\\\"credits\\\":4,\\\"nameCanonical\\\":\\\"\\\"}],\\\"id\\\":2},{\\\"name\\\":\\\"Term 3\\\",\\\"curriculum_items\\\":[{\\\"curriculum_requisites\\\":[{\\\"source_id\\\":3,\\\"target_id\\\":4,\\\"type\\\":\\\"CurriculumPrerequisite\\\"}],\\\"name\\\":\\\" \\\",\\\"metrics\\\":{\\\"centrality\\\":4,\\\"complexity\\\":5.0,\\\"blocking factor\\\":1,\\\"delay factor\\\":4.0},\\\"nameSub\\\":\\\"W4\\\",\\\"id\\\":4,\\\"credits\\\":3,\\\"nameCanonical\\\":\\\"\\\"},{\\\"curriculum_requisites\\\":[{\\\"source_id\\\":3,\\\"target_id\\\":5,\\\"type\\\":\\\"CurriculumPrerequisite\\\"}],\\\"name\\\":\\\" \\\",\\\"metrics\\\":{\\\"centrality\\\":0,\\\"complexity\\\":3.0,\\\"blocking factor\\\":0,\\\"delay factor\\\":3.0},\\\"nameSub\\\":\\\"W5\\\",\\\"id\\\":5,\\\"credits\\\":3,\\\"nameCanonical\\\":\\\"\\\"},{\\\"curriculum_requisites\\\":[{\\\"source_id\\\":3,\\\"target_id\\\":6,\\\"type\\\":\\\"CurriculumPrerequisite\\\"}],\\\"name\\\":\\\" \\\",\\\"metrics\\\":{\\\"centrality\\\":0,\\\"complexity\\\":3.0,\\\"blocking factor\\\":0,\\\"delay factor\\\":3.0},\\\"nameSub\\\":\\\"W6\\\",\\\"id\\\":6,\\\"credits\\\":3,\\\"nameCanonical\\\":\\\"\\\"},{\\\"curriculum_requisites\\\":[{\\\"source_id\\\":3,\\\"target_id\\\":7,\\\"type\\\":\\\"CurriculumPrerequisite\\\"}],\\\"name\\\":\\\" \\\",\\\"metrics\\\":{\\\"centrality\\\":4,\\\"complexity\\\":5.0,\\\"blocking factor\\\":1,\\\"delay factor\\\":4.0},\\\"nameSub\\\":\\\"W7\\\",\\\"id\\\":7,\\\"credits\\\":3,\\\"nameCanonical\\\":\\\"\\\"}],\\\"id\\\":3},{\\\"name\\\":\\\"Term 4\\\",\\\"curriculum_items\\\":[{\\\"curriculum_requisites\\\":[{\\\"source_id\\\":4,\\\"target_id\\\":8,\\\"type\\\":\\\"CurriculumPrerequisite\\\"},{\\\"source_id\\\":7,\\\"target_id\\\":8,\\\"type\\\":\\\"CurriculumPrerequisite\\\"}],\\\"name\\\":\\\" \\\",\\\"metrics\\\":{\\\"centrality\\\":0,\\\"complexity\\\":4.0,\\\"blocking factor\\\":0,\\\"delay factor\\\":4.0},\\\"nameSub\\\":\\\"W8\\\",\\\"id\\\":8,\\\"credits\\\":3,\\\"nameCanonical\\\":\\\"\\\"}],\\\"id\\\":4}],\\\"institution\\\":\\\"\\\"}},\\\"*\\\"); window.removeEventListener(\\\"message\\\",window.messageReceived); window.messageReceived=(function (event){return (event.data.curriculum!==undefined) ? (WebIO.setval({\\\"name\\\":\\\"curriculum-data\\\",\\\"scope\\\":\\\"409962630618874154\\\",\\\"id\\\":\\\"11145323068738462917\\\",\\\"type\\\":\\\"observable\\\"},event.data.curriculum)) : undefined}); return window.addEventListener(\\\"message\\\",window.messageReceived)})\"},\"style\":{\"padding\":\"0\",\"height\":\"70vh\",\"margin\":\"0\",\"border\":\"none\",\"width\":\"100%\"}},\"nodeType\":\"DOM\",\"type\":\"node\",\"instanceArgs\":{\"namespace\":\"html\",\"tag\":\"iframe\"},\"children\":[\"\"]}]},\n",
       "        window,\n",
       "    );\n",
       "    })()\n",
       "    </script>\n",
       "</div>\n"
      ],
      "text/plain": [
       "WebIO.Scope(WebIO.Node{WebIO.DOM}(WebIO.DOM(:html, :iframe), Any[\"\"], Dict{Symbol, Any}(:src => \"https://curricula-api-embed.damoursystems.com/\", :id => \"curriculum\", :events => Dict{Symbol, WebIO.JSString}(:load => WebIO.JSString(\"(function (){this.contentWindow.postMessage({\\\"options\\\":{\\\"hideTerms\\\":false,\\\"edit\\\":false},\\\"curriculum\\\":{\\\"name\\\":\\\"Circuits I Design Pattern\\\",\\\"dp_name\\\":\\\"OLOA pattern\\\",\\\"curriculum_terms\\\":[{\\\"name\\\":\\\"Term 1\\\",\\\"curriculum_items\\\":[{\\\"curriculum_requisites\\\":[],\\\"name\\\":\\\" \\\",\\\"metrics\\\":{\\\"centrality\\\":0,\\\"complexity\\\":11.0,\\\"blocking factor\\\":7,\\\"delay factor\\\":4.0},\\\"nameSub\\\":\\\"W1\\\",\\\"id\\\":1,\\\"credits\\\":4,\\\"nameCanonical\\\":\\\"\\\"}],\\\"id\\\":1},{\\\"name\\\":\\\"Term 2\\\",\\\"curriculum_items\\\":[{\\\"curriculum_requisites\\\":[{\\\"source_id\\\":1,\\\"target_id\\\":2,\\\"type\\\":\\\"CurriculumPrerequisite\\\"}],\\\"name\\\":\\\" \\\",\\\"metrics\\\":{\\\"centrality\\\":0,\\\"complexity\\\":2.0,\\\"blocking factor\\\":0,\\\"delay factor\\\":2.0},\\\"nameSub\\\":\\\"W2\\\",\\\"id\\\":2,\\\"credits\\\":4,\\\"nameCanonical\\\":\\\"\\\"},{\\\"curriculum_requisites\\\":[{\\\"source_id\\\":1,\\\"target_id\\\":3,\\\"type\\\":\\\"CurriculumPrerequisite\\\"}],\\\"name\\\":\\\" \\\",\\\"metrics\\\":{\\\"centrality\\\":14,\\\"complexity\\\":9.0,\\\"blocking factor\\\":5,\\\"delay factor\\\":4.0},\\\"nameSub\\\":\\\"W3\\\",\\\"id\\\":3,\\\"credits\\\":4,\\\"nameCanonical\\\":\\\"\\\"}],\\\"id\\\":2},{\\\"name\\\":\\\"Term 3\\\",\\\"curriculum_items\\\":[{\\\"curriculum_requisites\\\":[{\\\"source_id\\\":3,\\\"target_id\\\":4,\\\"type\\\":\\\"CurriculumPrerequisite\\\"}],\\\"name\\\":\\\" \\\",\\\"metrics\\\":{\\\"centrality\\\":4,\\\"complexity\\\":5.0,\\\"blocking factor\\\":1,\\\"delay factor\\\":4.0},\\\"nameSub\\\":\\\"W4\\\",\\\"id\\\":4,\\\"credits\\\":3,\\\"nameCanonical\\\":\\\"\\\"},{\\\"curriculum_requisites\\\":[{\\\"source_id\\\":3,\\\"target_id\\\":5,\\\"type\\\":\\\"CurriculumPrerequisite\\\"}],\\\"name\\\":\\\" \\\",\\\"metrics\\\":{\\\"centrality\\\":0,\\\"complexity\\\":3.0,\\\"blocking factor\\\":0,\\\"delay factor\\\":3.0},\\\"nameSub\\\":\\\"W5\\\",\\\"id\\\":5,\\\"credits\\\":3,\\\"nameCanonical\\\":\\\"\\\"},{\\\"curriculum_requisites\\\":[{\\\"source_id\\\":3,\\\"target_id\\\":6,\\\"type\\\":\\\"CurriculumPrerequisite\\\"}],\\\"name\\\":\\\" \\\",\\\"metrics\\\":{\\\"centrality\\\":0,\\\"complexity\\\":3.0,\\\"blocking factor\\\":0,\\\"delay factor\\\":3.0},\\\"nameSub\\\":\\\"W6\\\",\\\"id\\\":6,\\\"credits\\\":3,\\\"nameCanonical\\\":\\\"\\\"},{\\\"curriculum_requisites\\\":[{\\\"source_id\\\":3,\\\"target_id\\\":7,\\\"type\\\":\\\"CurriculumPrerequisite\\\"}],\\\"name\\\":\\\" \\\",\\\"metrics\\\":{\\\"centrality\\\":4,\\\"complexity\\\":5.0,\\\"blocking factor\\\":1,\\\"delay factor\\\":4.0},\\\"nameSub\\\":\\\"W7\\\",\\\"id\\\":7,\\\"credits\\\":3,\\\"nameCanonical\\\":\\\"\\\"}],\\\"id\\\":3},{\\\"name\\\":\\\"Term 4\\\",\\\"curriculum_items\\\":[{\\\"curriculum_requisites\\\":[{\\\"source_id\\\":4,\\\"target_id\\\":8,\\\"type\\\":\\\"CurriculumPrerequisite\\\"},{\\\"source_id\\\":7,\\\"target_id\\\":8,\\\"type\\\":\\\"CurriculumPrerequisite\\\"}],\\\"name\\\":\\\" \\\",\\\"metrics\\\":{\\\"centrality\\\":0,\\\"complexity\\\":4.0,\\\"blocking factor\\\":0,\\\"delay factor\\\":4.0},\\\"nameSub\\\":\\\"W8\\\",\\\"id\\\":8,\\\"credits\\\":3,\\\"nameCanonical\\\":\\\"\\\"}],\\\"id\\\":4}],\\\"institution\\\":\\\"\\\"}},\\\"*\\\"); window.removeEventListener(\\\"message\\\",window.messageReceived); window.messageReceived=(function (event){return (event.data.curriculum!==undefined) ? (WebIO.setval({\\\"name\\\":\\\"curriculum-data\\\",\\\"scope\\\":\\\"409962630618874154\\\",\\\"id\\\":\\\"11145323068738462917\\\",\\\"type\\\":\\\"observable\\\"},event.data.curriculum)) : undefined}); return window.addEventListener(\\\"message\\\",window.messageReceived)})\")), :style => Dict(:padding => \"0\", :height => \"70vh\", :margin => \"0\", :border => \"none\", :width => \"100%\"))), Dict{String, Tuple{Observables.AbstractObservable, Union{Nothing, Bool}}}(\"curriculum-data\" => (Observable{Dict{String, Any}} with 1 listeners. Value:\n",
       "Dict{String, Any}(\"options\" => Dict{String, Any}(\"hideTerms\" => false, \"edit\" => false), \"curriculum\" => Dict{String, Any}(\"name\" => \"Circuits I Design Pattern\", \"dp_name\" => \"OLOA pattern\", \"curriculum_terms\" => Dict{String, Any}[Dict(\"name\" => \"Term 1\", \"curriculum_items\" => Dict{String, Any}[Dict(\"curriculum_requisites\" => Dict{String, Any}[], \"name\" => \" \", \"metrics\" => Dict{String, Any}(\"centrality\" => 0, \"complexity\" => 11.0, \"blocking factor\" => 7, \"delay factor\" => 4.0), \"nameSub\" => \"W1\", \"id\" => 1, \"credits\" => 4, \"nameCanonical\" => \"\")], \"id\" => 1), Dict(\"name\" => \"Term 2\", \"curriculum_items\" => Dict{String, Any}[Dict(\"curriculum_requisites\" => Dict{String, Any}[Dict(\"source_id\" => 1, \"target_id\" => 2, \"type\" => \"CurriculumPrerequisite\")], \"name\" => \" \", \"metrics\" => Dict{String, Any}(\"centrality\" => 0, \"complexity\" => 2.0, \"blocking factor\" => 0, \"delay factor\" => 2.0), \"nameSub\" => \"W2\", \"id\" => 2, \"credits\" => 4, \"nameCanonical\" => \"\"), Dict(\"curriculum_requisites\" => Dict{String, Any}[Dict(\"source_id\" => 1, \"target_id\" => 3, \"type\" => \"CurriculumPrerequisite\")], \"name\" => \" \", \"metrics\" => Dict{String, Any}(\"centrality\" => 14, \"complexity\" => 9.0, \"blocking factor\" => 5, \"delay factor\" => 4.0), \"nameSub\" => \"W3\", \"id\" => 3, \"credits\" => 4, \"nameCanonical\" => \"\")], \"id\" => 2), Dict(\"name\" => \"Term 3\", \"curriculum_items\" => Dict{String, Any}[Dict(\"curriculum_requisites\" => Dict{String, Any}[Dict(\"source_id\" => 3, \"target_id\" => 4, \"type\" => \"CurriculumPrerequisite\")], \"name\" => \" \", \"metrics\" => Dict{String, Any}(\"centrality\" => 4, \"complexity\" => 5.0, \"blocking factor\" => 1, \"delay factor\" => 4.0), \"nameSub\" => \"W4\", \"id\" => 4, \"credits\" => 3, \"nameCanonical\" => \"\"), Dict(\"curriculum_requisites\" => Dict{String, Any}[Dict(\"source_id\" => 3, \"target_id\" => 5, \"type\" => \"CurriculumPrerequisite\")], \"name\" => \" \", \"metrics\" => Dict{String, Any}(\"centrality\" => 0, \"complexity\" => 3.0, \"blocking factor\" => 0, \"delay factor\" => 3.0), \"nameSub\" => \"W5\", \"id\" => 5, \"credits\" => 3, \"nameCanonical\" => \"\"), Dict(\"curriculum_requisites\" => Dict{String, Any}[Dict(\"source_id\" => 3, \"target_id\" => 6, \"type\" => \"CurriculumPrerequisite\")], \"name\" => \" \", \"metrics\" => Dict{String, Any}(\"centrality\" => 0, \"complexity\" => 3.0, \"blocking factor\" => 0, \"delay factor\" => 3.0), \"nameSub\" => \"W6\", \"id\" => 6, \"credits\" => 3, \"nameCanonical\" => \"\"), Dict(\"curriculum_requisites\" => Dict{String, Any}[Dict(\"source_id\" => 3, \"target_id\" => 7, \"type\" => \"CurriculumPrerequisite\")], \"name\" => \" \", \"metrics\" => Dict{String, Any}(\"centrality\" => 4, \"complexity\" => 5.0, \"blocking factor\" => 1, \"delay factor\" => 4.0), \"nameSub\" => \"W7\", \"id\" => 7, \"credits\" => 3, \"nameCanonical\" => \"\")], \"id\" => 3), Dict(\"name\" => \"Term 4\", \"curriculum_items\" => Dict{String, Any}[Dict(\"curriculum_requisites\" => Dict{String, Any}[Dict(\"source_id\" => 4, \"target_id\" => 8, \"type\" => \"CurriculumPrerequisite\"), Dict(\"source_id\" => 7, \"target_id\" => 8, \"type\" => \"CurriculumPrerequisite\")], \"name\" => \" \", \"metrics\" => Dict{String, Any}(\"centrality\" => 0, \"complexity\" => 4.0, \"blocking factor\" => 0, \"delay factor\" => 4.0), \"nameSub\" => \"W8\", \"id\" => 8, \"credits\" => 3, \"nameCanonical\" => \"\")], \"id\" => 4)], \"institution\" => \"\")), nothing)), Set{String}(), nothing, WebIO.Asset[], Dict{Any, Any}(), WebIO.ConnectionPool(Channel{Any}(32), Set{WebIO.AbstractConnection}(), Condition(Base.InvasiveLinkedList{Task}(Task (runnable) @0x0000000115cbc2b0, Task (runnable) @0x0000000115cbc2b0), Base.AlwaysLockedST(1))), WebIO.JSString[])"
      ]
     },
     "execution_count": 10,
     "metadata": {
      "application/vnd.webio.node+json": {
       "kernelId": "7772f636-9c06-4b2c-88ed-15c742964664"
      }
     },
     "output_type": "execute_result"
    },
    {
     "ename": "UndefVarError",
     "evalue": "UndefVarError: setexcludinghandlers! not defined",
     "output_type": "error",
     "traceback": [
      "KERNEL EXCEPTION",
      "UndefVarError: setexcludinghandlers! not defined",
      "",
      "Stacktrace:",
      "  [1] set_nosync(ob::Observables.Observable{Dict{String, Any}}, val::Dict{String, Any})",
      "    @ WebIO ~/.julia/packages/WebIO/4JqEH/src/scope.jl:352",
      "  [2] dispatch(ctx::WebIO.Scope, key::String, data::Dict{String, Any})",
      "    @ WebIO ~/.julia/packages/WebIO/4JqEH/src/scope.jl:368",
      "  [3] dispatch_command(conn::WebIO.IJuliaConnection, data::Dict{String, Any})",
      "    @ WebIO ~/.julia/packages/WebIO/4JqEH/src/messaging.jl:104",
      "  [4] dispatch(conn::WebIO.IJuliaConnection, data::Dict{String, Any})",
      "    @ WebIO ~/.julia/packages/WebIO/4JqEH/src/messaging.jl:81",
      "  [5] (::WebIO.var\"#101#102\"{WebIO.IJuliaConnection})(msg::IJulia.Msg)",
      "    @ WebIO ~/.julia/packages/WebIO/4JqEH/src/providers/ijulia.jl:21",
      "  [6] comm_msg(sock::ZMQ.Socket, msg::IJulia.Msg)",
      "    @ IJulia.CommManager ~/.julia/packages/IJulia/AQu2H/src/comm_manager.jl:134",
      "  [7] #invokelatest#2",
      "    @ ./essentials.jl:716 [inlined]",
      "  [8] invokelatest",
      "    @ ./essentials.jl:714 [inlined]",
      "  [9] eventloop(socket::ZMQ.Socket)",
      "    @ IJulia ~/.julia/packages/IJulia/AQu2H/src/eventloop.jl:8",
      " [10] (::IJulia.var\"#15#18\")()",
      "    @ IJulia ./task.jl:429"
     ]
    }
   ],
   "source": [
    "reformed = read_csv(\"./EE-Reformed.csv\")\n",
    "visualize(reformed, notebook=true, scale=0.7)"
   ]
  },
  {
   "cell_type": "code",
   "execution_count": 11,
   "id": "cdd82090",
   "metadata": {},
   "outputs": [
    {
     "name": "stdout",
     "output_type": "stream",
     "text": [
      "\n",
      " \n",
      "Curriculum: Circuits I Design Pattern\n",
      "  credit hours = 27\n",
      "  number of courses = 8\n",
      "  Blocking Factor --\n",
      "    entire curriculum = 14\n",
      "    max. value = 7, for course(s): W1\n",
      "  Centrality --\n",
      "    entire curriculum = 22\n",
      "    max. value = 14, for course(s): W3\n",
      "  Delay Factor --\n",
      "    entire curriculum = 28.0\n",
      "    max. value = 4.0, for course(s): W1, W3, W4, W7, W8\n",
      "  Complexity --\n",
      "    entire curriculum = 42.0\n",
      "    max. value = 11.0, for course(s): W1\n",
      "  Longest Path(s) --\n",
      "    length = 4, number of paths = 2\n",
      "    path(s):\n",
      "    path 1 = W1 -> W3 -> W4 -> W8\n",
      "    path 2 = W1 -> W3 -> W7 -> W8\n",
      "\n"
     ]
    }
   ],
   "source": [
    "metrics = basic_metrics(reformed.curriculum)\n",
    "println(String(take!(metrics)))"
   ]
  },
  {
   "cell_type": "code",
   "execution_count": 13,
   "id": "8fd4207a",
   "metadata": {},
   "outputs": [
    {
     "name": "stdout",
     "output_type": "stream",
     "text": [
      "\n",
      " Circuits I Design Pattern, OLOA pattern\n",
      "\n",
      "\u001b[0m\u001b[1m------------ Simulation Report ------------\u001b[22m\n",
      "Circuits I Design Pattern, BS -- OLOA pattern\n",
      "\n",
      "-------- Simulation Statistics --------\n",
      "Number of terms: 6\n",
      "Max Credits per Term: 12\n",
      "Max Course Attempts: 3\n",
      "Number of Students: 1000\n",
      "Preset Course Pass Rates: 75.0%\n",
      "\n",
      "-------- Graduation Statistics --------\n",
      "Number of Students Graduated: 741\n",
      "Graduation Rate: 74.1%\n",
      "Term Graduation Rates: \n",
      "[0.0, 0.0, 0.0, 0.169, 0.475, 0.741]\n",
      "Average time to degree: 5.130904183535763 terms\n",
      "\n",
      "-------- Stop out Statistics --------\n",
      "Number of Students Stopped Out (Stopout Model Prediction + Reached Max Attempts): 0\n",
      "Number of Students Reaching Max Attempts: 98\n",
      "Stop-out Rate: 0.0%\n",
      "Cumulative Term Stop-out Rates (including reached max course attempts students): \n",
      "[0.0, 0.0, 0.0, 0.0, 0.0, 0.0]\n",
      "\n",
      "Cumulative Term Stop-out Rates (excluding reaching max course attempts students): \n",
      "[0.0, 0.0, -0.007, -0.031, -0.077, -0.098]\n",
      "\n",
      "Cumulative Term Reached Max Course Attempts Rates: \n",
      "[0.0, 0.0, 0.007, 0.031, 0.077, 0.098]\n",
      "\n",
      "\n",
      "-------- Course Pass Rates by Term --------\n",
      "\n",
      "│ Row │ COUSE     │ TERM1 │ TERM2 │ TERM3 │ TERM4 │ TERM5  │ TERM6  │\n",
      "├─────┼───────────┼───────┼───────┼───────┼───────┼────────┼────────┤\n",
      "│ 1   │ W1        │ 77.0% │ 94.7% │ 99.3% │ 99.7% │ 100.0% │ 100.0% │\n",
      "│ 2   │ W2        │ 0.0%  │ 58.8% │ 85.1% │ 95.6% │ 98.8%  │ 99.5%  │\n",
      "│ 3   │ W3        │ 0.0%  │ 58.9% │ 85.0% │ 96.6% │ 98.6%  │ 99.7%  │\n",
      "│ 4   │ W4        │ 0.0%  │ 0.0%  │ 45.0% │ 73.8% │ 90.6%  │ 96.8%  │\n",
      "│ 5   │ W5        │ 0.0%  │ 0.0%  │ 42.0% │ 74.4% │ 91.1%  │ 97.0%  │\n",
      "│ 6   │ W6        │ 0.0%  │ 0.0%  │ 35.1% │ 69.1% │ 88.4%  │ 96.3%  │\n",
      "│ 7   │ W7        │ 0.0%  │ 0.0%  │ 34.2% │ 68.8% │ 88.3%  │ 96.0%  │\n",
      "│ 8   │ W8        │ 0.0%  │ 0.0%  │ 0.0%  │ 19.2% │ 50.6%  │ 75.4%  │\n",
      "│ 9   │ GRAD RATE │ 0.0%  │ 0.0%  │ 0.0%  │ 16.9% │ 47.5%  │ 74.1%  │"
     ]
    }
   ],
   "source": [
    "num_students = 1000\n",
    "course_passrate = 0.75\n",
    "course_attempt_limit = 3\n",
    "max_credits = 12\n",
    "duration = 6\n",
    "duration_lock = true\n",
    "stopouts = false\n",
    "\n",
    "performance_model = PassRate\n",
    "enrollment_model = Enrollment\n",
    "students = simple_students(num_students)    # Create a cohort of students for simulation\n",
    "\n",
    "degree_plan = reformed\n",
    "courses = degree_plan.curriculum.courses\n",
    "set_passrates(courses, course_passrate)     # set pass rate for all courses\n",
    "# run the simulation\n",
    "simulation = simulate(degree_plan,\n",
    "                      course_attempt_limit,\n",
    "                      students,\n",
    "                      max_credits = max_credits,\n",
    "                      performance_model = PassRate,\n",
    "                      enrollment_model = Enrollment,\n",
    "                      duration = duration,\n",
    "                      duration_lock = duration_lock,\n",
    "                      stopouts = stopouts)\n",
    "\n",
    "# print simuilation results\n",
    "println(\"\\n $(degree_plan.curriculum.name), $(degree_plan.name)\")\n",
    "simulation_report(simulation, duration, course_passrate, max_credits, false)"
   ]
  },
  {
   "cell_type": "code",
   "execution_count": 14,
   "id": "8480afbd",
   "metadata": {},
   "outputs": [
    {
     "name": "stdout",
     "output_type": "stream",
     "text": [
      "\n",
      " Circuits I Design Pattern, Precalculus ready\n",
      "\n",
      "\u001b[0m\u001b[1m------------ Simulation Report ------------\u001b[22m\n",
      "Circuits I Design Pattern, BS -- Precalculus ready\n",
      "\n",
      "-------- Simulation Statistics --------\n",
      "Number of terms: 6\n",
      "Max Credits per Term: 12\n",
      "Max Course Attempts: 3\n",
      "Number of Students: 1000\n",
      "Preset Course Pass Rates: 75.0%\n",
      "\n",
      "-------- Graduation Statistics --------\n",
      "Number of Students Graduated: 520\n",
      "Graduation Rate: 52.0%\n",
      "Term Graduation Rates: \n",
      "[0.0, 0.0, 0.0, 0.0, 0.214, 0.52]\n",
      "Average time to degree: 5.588461538461538 terms\n",
      "\n",
      "-------- Stop out Statistics --------\n",
      "Number of Students Stopped Out (Stopout Model Prediction + Reached Max Attempts): 0\n",
      "Number of Students Reaching Max Attempts: 86\n",
      "Stop-out Rate: 0.0%\n",
      "Cumulative Term Stop-out Rates (including reached max course attempts students): \n",
      "[0.0, 0.0, 0.0, 0.0, 0.0, 0.0]\n",
      "\n",
      "Cumulative Term Stop-out Rates (excluding reaching max course attempts students): \n",
      "[0.0, 0.0, -0.033, -0.047, -0.065, -0.086]\n",
      "\n",
      "Cumulative Term Reached Max Course Attempts Rates: \n",
      "[0.0, 0.0, 0.033, 0.047, 0.065, 0.086]\n",
      "\n",
      "\n",
      "-------- Course Pass Rates by Term --------\n",
      "\n",
      "│ Row │ COUSE             │ TERM1 │ TERM2 │ TERM3 │ TERM4 │ TERM5  │ TERM6  │\n",
      "├─────┼───────────────────┼───────┼───────┼───────┼───────┼────────┼────────┤\n",
      "│ 1   │ Calculus I        │ 0.0%  │ 56.8% │ 85.0% │ 95.6% │ 98.9%  │ 99.8%  │\n",
      "│ 2   │ Calculus II       │ 0.0%  │ 0.0%  │ 41.7% │ 74.9% │ 90.3%  │ 96.8%  │\n",
      "│ 3   │ Physics I         │ 72.3% │ 93.5% │ 98.0% │ 99.3% │ 99.9%  │ 100.0% │\n",
      "│ 4   │ Physics II        │ 0.0%  │ 54.2% │ 85.0% │ 94.6% │ 98.5%  │ 99.6%  │\n",
      "│ 5   │ Differential Eqs. │ 0.0%  │ 0.0%  │ 0.0%  │ 30.9% │ 63.4%  │ 83.4%  │\n",
      "│ 6   │ Circuits I        │ 0.0%  │ 0.0%  │ 0.0%  │ 30.6% │ 65.1%  │ 84.5%  │\n",
      "│ 7   │ Circuits II       │ 0.0%  │ 0.0%  │ 0.0%  │ 0.0%  │ 22.4%  │ 54.9%  │\n",
      "│ 8   │ Precalculus       │ 75.1% │ 93.9% │ 98.7% │ 99.9% │ 100.0% │ 100.0% │\n",
      "│ 9   │ GRAD RATE         │ 0.0%  │ 0.0%  │ 0.0%  │ 0.0%  │ 21.4%  │ 52.0%  │"
     ]
    }
   ],
   "source": [
    "num_students = 1000\n",
    "course_passrate = 0.75\n",
    "course_attempt_limit = 3\n",
    "max_credits = 12\n",
    "duration = 6\n",
    "duration_lock = true\n",
    "stopouts = false\n",
    "\n",
    "performance_model = PassRate\n",
    "enrollment_model = Enrollment\n",
    "students = simple_students(num_students)    # Create a cohort of students for simulation\n",
    "\n",
    "degree_plan = precalc_ready\n",
    "courses = degree_plan.curriculum.courses\n",
    "set_passrates(courses, course_passrate)     # set pass rate for all courses\n",
    "# run the simulation\n",
    "simulation = simulate(degree_plan,\n",
    "                      course_attempt_limit,\n",
    "                      students,\n",
    "                      max_credits = max_credits,\n",
    "                      performance_model = PassRate,\n",
    "                      enrollment_model = Enrollment,\n",
    "                      duration = duration,\n",
    "                      duration_lock = duration_lock,\n",
    "                      stopouts = stopouts)\n",
    "\n",
    "# print simuilation results\n",
    "println(\"\\n $(degree_plan.curriculum.name), $(degree_plan.name)\")\n",
    "simulation_report(simulation, duration, course_passrate, max_credits, false)"
   ]
  },
  {
   "cell_type": "code",
   "execution_count": 15,
   "id": "9e46ccbd",
   "metadata": {},
   "outputs": [
    {
     "name": "stdout",
     "output_type": "stream",
     "text": [
      "\n",
      " Circuits I Design Pattern, Engineering 101 ready\n",
      "\n",
      "\u001b[0m\u001b[1m------------ Simulation Report ------------\u001b[22m\n",
      "Circuits I Design Pattern, BS -- Engineering 101 ready\n",
      "\n",
      "-------- Simulation Statistics --------\n",
      "Number of terms: 6\n",
      "Max Credits per Term: 12\n",
      "Max Course Attempts: 3\n",
      "Number of Students: 1000\n",
      "Preset Course Pass Rates: 75.0%\n",
      "\n",
      "-------- Graduation Statistics --------\n",
      "Number of Students Graduated: 803\n",
      "Graduation Rate: 80.30000000000001%\n",
      "Term Graduation Rates: \n",
      "[0.0, 0.0, 0.0, 0.249, 0.575, 0.803]\n",
      "Average time to degree: 4.973848069738481 terms\n",
      "\n",
      "-------- Stop out Statistics --------\n",
      "Number of Students Stopped Out (Stopout Model Prediction + Reached Max Attempts): 0\n",
      "Number of Students Reaching Max Attempts: 109\n",
      "Stop-out Rate: 0.0%\n",
      "Cumulative Term Stop-out Rates (including reached max course attempts students): \n",
      "[0.0, 0.0, 0.0, 0.0, 0.0, 0.0]\n",
      "\n",
      "Cumulative Term Stop-out Rates (excluding reaching max course attempts students): \n",
      "[0.0, 0.0, -0.033, -0.074, -0.099, -0.109]\n",
      "\n",
      "Cumulative Term Reached Max Course Attempts Rates: \n",
      "[0.0, 0.0, 0.033, 0.074, 0.099, 0.109]\n",
      "\n",
      "\n",
      "-------- Course Pass Rates by Term --------\n",
      "\n",
      "│ Row │ COUSE             │ TERM1 │ TERM2 │ TERM3 │ TERM4 │ TERM5  │ TERM6  │\n",
      "├─────┼───────────────────┼───────┼───────┼───────┼───────┼────────┼────────┤\n",
      "│ 1   │ Engineering  Math │ 73.4% │ 93.3% │ 98.5% │ 99.4% │ 100.0% │ 100.0% │\n",
      "│ 2   │ Calculus I        │ 0.0%  │ 54.6% │ 82.3% │ 94.5% │ 97.9%  │ 99.8%  │\n",
      "│ 3   │ Calculus II       │ 0.0%  │ 0.0%  │ 40.3% │ 73.4% │ 89.6%  │ 96.0%  │\n",
      "│ 4   │ Physics I         │ 73.9% │ 93.6% │ 98.2% │ 99.6% │ 99.8%  │ 100.0% │\n",
      "│ 5   │ Physics II        │ 0.0%  │ 55.4% │ 83.9% │ 94.9% │ 98.6%  │ 99.4%  │\n",
      "│ 6   │ Differential Eqs. │ 0.0%  │ 0.0%  │ 0.0%  │ 30.4% │ 62.2%  │ 82.7%  │\n",
      "│ 7   │ Circuits I        │ 0.0%  │ 56.3% │ 84.6% │ 94.9% │ 98.5%  │ 99.8%  │\n",
      "│ 8   │ Circuits II       │ 0.0%  │ 0.0%  │ 43.1% │ 73.5% │ 90.0%  │ 96.5%  │\n",
      "│ 9   │ GRAD RATE         │ 0.0%  │ 0.0%  │ 0.0%  │ 24.9% │ 57.5%  │ 80.3%  │"
     ]
    }
   ],
   "source": [
    "num_students = 1000\n",
    "course_passrate = 0.75\n",
    "course_attempt_limit = 3\n",
    "max_credits = 12\n",
    "duration = 6\n",
    "duration_lock = true\n",
    "stopouts = false\n",
    "\n",
    "performance_model = PassRate\n",
    "enrollment_model = Enrollment\n",
    "students = simple_students(num_students)    # Create a cohort of students for simulation\n",
    "\n",
    "degree_plan = WrightSt\n",
    "courses = degree_plan.curriculum.courses\n",
    "set_passrates(courses, course_passrate)     # set pass rate for all courses\n",
    "# run the simulation\n",
    "simulation = simulate(degree_plan,\n",
    "                      course_attempt_limit,\n",
    "                      students,\n",
    "                      max_credits = max_credits,\n",
    "                      performance_model = PassRate,\n",
    "                      enrollment_model = Enrollment,\n",
    "                      duration = duration,\n",
    "                      duration_lock = duration_lock,\n",
    "                      stopouts = stopouts)\n",
    "\n",
    "# print simuilation results\n",
    "println(\"\\n $(degree_plan.curriculum.name), $(degree_plan.name)\")\n",
    "simulation_report(simulation, duration, course_passrate, max_credits, false)"
   ]
  },
  {
   "cell_type": "code",
   "execution_count": 16,
   "id": "efab5c84",
   "metadata": {},
   "outputs": [
    {
     "name": "stdout",
     "output_type": "stream",
     "text": [
      "\n",
      " Circuits I Design Pattern, Engineering 101 ready\n",
      "\n",
      "\u001b[0m\u001b[1m------------ Simulation Report ------------\u001b[22m\n",
      "Circuits I Design Pattern, BS -- Engineering 101 ready\n",
      "\n",
      "-------- Simulation Statistics --------\n",
      "Number of terms: 6\n",
      "Max Credits per Term: 12\n",
      "Max Course Attempts: 3\n",
      "Number of Students: 1000\n",
      "Preset Course Pass Rates: 75.0%\n",
      "\n",
      "-------- Graduation Statistics --------\n",
      "Number of Students Graduated: 880\n",
      "Graduation Rate: 88.0%\n",
      "Term Graduation Rates: \n",
      "[0.0, 0.0, 0.0, 0.313, 0.68, 0.88]\n",
      "Average time to degree: 4.8715909090909095 terms\n",
      "\n",
      "-------- Stop out Statistics --------\n",
      "Number of Students Stopped Out (Stopout Model Prediction + Reached Max Attempts): 0\n",
      "Number of Students Reaching Max Attempts: 87\n",
      "Stop-out Rate: 0.0%\n",
      "Cumulative Term Stop-out Rates (including reached max course attempts students): \n",
      "[0.0, 0.0, 0.0, 0.0, 0.0, 0.0]\n",
      "\n",
      "Cumulative Term Stop-out Rates (excluding reaching max course attempts students): \n",
      "[0.0, 0.0, -0.015, -0.048, -0.076, -0.087]\n",
      "\n",
      "Cumulative Term Reached Max Course Attempts Rates: \n",
      "[0.0, 0.0, 0.015, 0.048, 0.076, 0.087]\n",
      "\n",
      "\n",
      "-------- Course Pass Rates by Term --------\n",
      "\n",
      "│ Row │ COUSE             │ TERM1 │ TERM2 │ TERM3  │ TERM4  │ TERM5  │ TERM6  │\n",
      "├─────┼───────────────────┼───────┼───────┼────────┼────────┼────────┼────────┤\n",
      "│ 1   │ Engineering  Math │ 95.6% │ 99.4% │ 100.0% │ 100.0% │ 100.0% │ 100.0% │\n",
      "│ 2   │ Calculus I        │ 0.0%  │ 74.0% │ 92.8%  │ 98.9%  │ 99.7%  │ 99.9%  │\n",
      "│ 3   │ Calculus II       │ 0.0%  │ 0.0%  │ 54.0%  │ 83.6%  │ 94.6%  │ 98.6%  │\n",
      "│ 4   │ Physics I         │ 73.8% │ 94.5% │ 98.5%  │ 99.3%  │ 99.6%  │ 99.9%  │\n",
      "│ 5   │ Physics II        │ 0.0%  │ 54.5% │ 84.4%  │ 93.9%  │ 97.8%  │ 99.1%  │\n",
      "│ 6   │ Differential Eqs. │ 0.0%  │ 0.0%  │ 0.0%   │ 40.8%  │ 73.5%  │ 89.6%  │\n",
      "│ 7   │ Circuits I        │ 0.0%  │ 71.8% │ 93.1%  │ 98.6%  │ 99.8%  │ 99.8%  │\n",
      "│ 8   │ Circuits II       │ 0.0%  │ 0.0%  │ 54.9%  │ 84.5%  │ 95.3%  │ 99.0%  │\n",
      "│ 9   │ GRAD RATE         │ 0.0%  │ 0.0%  │ 0.0%   │ 31.3%  │ 68.0%  │ 88.0%  │"
     ]
    }
   ],
   "source": [
    "num_students = 1000\n",
    "course_passrate = 0.75\n",
    "course_attempt_limit = 3\n",
    "max_credits = 12\n",
    "duration = 6\n",
    "duration_lock = true\n",
    "stopouts = false\n",
    "\n",
    "performance_model = PassRate\n",
    "enrollment_model = Enrollment\n",
    "students = simple_students(num_students)    # Create a cohort of students for simulation\n",
    "\n",
    "degree_plan = WrightSt\n",
    "courses = degree_plan.curriculum.courses\n",
    "set_passrates(courses, course_passrate)     # set pass rate for all courses\n",
    "eng_math = course_from_id(WrightSt.curriculum, 1) #change passrate of engineering math to 90%\n",
    "set_passrate_for_course(eng_math, 0.95)\n",
    "\n",
    "# run the simulation\n",
    "simulation = simulate(degree_plan,\n",
    "                      course_attempt_limit,\n",
    "                      students,\n",
    "                      max_credits = max_credits,\n",
    "                      performance_model = PassRate,\n",
    "                      enrollment_model = Enrollment,\n",
    "                      duration = duration,\n",
    "                      duration_lock = duration_lock,\n",
    "                      stopouts = stopouts)\n",
    "\n",
    "# print simuilation results\n",
    "println(\"\\n $(degree_plan.curriculum.name), $(degree_plan.name)\")\n",
    "simulation_report(simulation, duration, course_passrate, max_credits, false)"
   ]
  },
  {
   "cell_type": "code",
   "execution_count": 77,
   "id": "e5b7930e",
   "metadata": {},
   "outputs": [
    {
     "name": "stdout",
     "output_type": "stream",
     "text": [
      "\n",
      " Circuits I Design Pattern, OLOA pattern\n",
      "\n",
      "\u001b[0m\u001b[1m------------ Simulation Report ------------\u001b[22m\n",
      "Circuits I Design Pattern, BS -- OLOA pattern\n",
      "\n",
      "-------- Simulation Statistics --------\n",
      "Number of terms: 6\n",
      "Max Credits per Term: 12\n",
      "Max Course Attempts: 3\n",
      "Number of Students: 1000\n",
      "Preset Course Pass Rates: 75.0%\n",
      "\n",
      "-------- Graduation Statistics --------\n",
      "Number of Students Graduated: 729\n",
      "Graduation Rate: 72.89999999999999%\n",
      "Term Graduation Rates: \n",
      "[0.0, 0.0, 0.0, 0.171, 0.47, 0.729]\n",
      "Average time to degree: 5.127705081316325 terms\n",
      "\n",
      "-------- Stop out Statistics --------\n",
      "Number of Students Stopped Out (Stopout Model Prediction + Reached Max Attempts): 0\n",
      "Number of Students Reaching Max Attempts: 114\n",
      "Stop-out Rate: 0.0%\n",
      "Cumulative Term Stop-out Rates (including reached max course attempts students): \n",
      "[0.0, 0.0, 0.0, 0.0, 0.0, 0.0]\n",
      "\n",
      "Cumulative Term Stop-out Rates (excluding reaching max course attempts students): \n",
      "[0.0, 0.0, -0.014, -0.045, -0.093, -0.114]\n",
      "\n",
      "Cumulative Term Reached Max Course Attempts Rates: \n",
      "[0.0, 0.0, 0.014, 0.045, 0.093, 0.114]\n",
      "\n",
      "\n",
      "-------- Course Pass Rates by Term --------\n",
      "\n",
      "│ Row │ COUSE     │ TERM1 │ TERM2 │ TERM3 │ TERM4 │ TERM5 │ TERM6 │\n",
      "├─────┼───────────┼───────┼───────┼───────┼───────┼───────┼───────┤\n",
      "│ 1   │ W1        │ 76.4% │ 94.4% │ 98.6% │ 99.4% │ 99.6% │ 99.9% │\n",
      "│ 2   │ W2        │ 0.0%  │ 56.6% │ 84.7% │ 94.4% │ 98.4% │ 99.1% │\n",
      "│ 3   │ W3        │ 0.0%  │ 56.9% │ 85.4% │ 94.5% │ 98.2% │ 99.1% │\n",
      "│ 4   │ W4        │ 0.0%  │ 0.0%  │ 44.2% │ 74.9% │ 88.4% │ 96.1% │\n",
      "│ 5   │ W5        │ 0.0%  │ 0.0%  │ 41.1% │ 74.0% │ 88.4% │ 95.9% │\n",
      "│ 6   │ W6        │ 0.0%  │ 0.0%  │ 30.5% │ 66.7% │ 87.0% │ 95.6% │\n",
      "│ 7   │ W7        │ 0.0%  │ 0.0%  │ 30.8% │ 68.5% │ 87.7% │ 95.6% │\n",
      "│ 8   │ W8        │ 0.0%  │ 0.0%  │ 0.0%  │ 19.6% │ 50.9% │ 75.0% │\n",
      "│ 9   │ GRAD RATE │ 0.0%  │ 0.0%  │ 0.0%  │ 17.1% │ 47.0% │ 72.9% │"
     ]
    }
   ],
   "source": [
    "num_students = 1000\n",
    "course_passrate = 0.75\n",
    "course_attempt_limit = 3\n",
    "max_credits = 12\n",
    "duration = 6\n",
    "duration_lock = true\n",
    "stopouts = false\n",
    "\n",
    "performance_model = PassRate\n",
    "enrollment_model = Enrollment\n",
    "students = simple_students(num_students)    # Create a cohort of students for simulation\n",
    "\n",
    "degree_plan = reformed\n",
    "courses = degree_plan.curriculum.courses\n",
    "set_passrates(courses, course_passrate)     # set pass rate for all courses\n",
    "#eng_math = course_from_id(WrightSt.curriculum, 1) #change passrate of engineering math to 90%\n",
    "#set_passrate_for_course(eng_math, 0.95)\n",
    "\n",
    "# run the simulation\n",
    "simulation = simulate(degree_plan,\n",
    "                      course_attempt_limit,\n",
    "                      students,\n",
    "                      max_credits = max_credits,\n",
    "                      performance_model = PassRate,\n",
    "                      enrollment_model = Enrollment,\n",
    "                      duration = duration,\n",
    "                      duration_lock = duration_lock,\n",
    "                      stopouts = stopouts)\n",
    "\n",
    "# print simuilation results\n",
    "println(\"\\n $(degree_plan.curriculum.name), $(degree_plan.name)\")\n",
    "simulation_report(simulation, duration, course_passrate, max_credits, false)"
   ]
  },
  {
   "cell_type": "code",
   "execution_count": null,
   "id": "0afedacc",
   "metadata": {},
   "outputs": [],
   "source": []
  }
 ],
 "metadata": {
  "@webio": {
   "lastCommId": "b12f89378e574f819c61e68fbec33250",
   "lastKernelId": "7772f636-9c06-4b2c-88ed-15c742964664"
  },
  "kernelspec": {
   "display_name": "Julia 1.7.3",
   "language": "julia",
   "name": "julia-1.7"
  },
  "language_info": {
   "file_extension": ".jl",
   "mimetype": "application/julia",
   "name": "julia",
   "version": "1.7.3"
  }
 },
 "nbformat": 4,
 "nbformat_minor": 5
}
