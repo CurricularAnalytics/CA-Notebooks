{
 "cells": [
  {
   "cell_type": "markdown",
   "metadata": {},
   "source": [
    "# <center>APLU Western Cluster Curricular Analytics Study</center>\n",
    "\n",
    "In this notebook we analyze the curricula associated with a set of programs at universities in the APLU \n",
    "Western Cluster. The cluster of schools is one of the \"transformation clusters\" formed as a part of APLU's \n",
    "[Powered by Publics Initiative]\n",
    "(https://www.aplu.org/projects-and-initiatives/center-for-public-university-transformation/powered-by-publics) \n",
    "<cite data-cite=\"APLU:18\">(APLU, 2019)</cite>. The schools in the Western Cluster include:\n",
    "\n",
    "- Colorado State University\n",
    "- Langston University\n",
    "- Montana State University\n",
    "- New Mexico State University\n",
    "- North Dakota State University\n",
    "- Oklahoma State University\n",
    "- South Dakota State University\n",
    "- University of Idaho\n",
    "- University of Nevada-Reno\n",
    "- University of Wyoming\n",
    "- Utah State University\n",
    "\n",
    "The analyses in this notebook makes use of the [Curricular Analytics toolbox](https://github.com/CurricularAnalytics/CurricularAnalytics.jl) \n",
    "built using the Julia programming language  and available as open source software (<cite data-cite=\"he:19\">Heileman, et. al., 2019</cite>). As a starting \n",
    "point, you may find it useful to read the [toolbox documenation](https://curricularanalytics.github.io/CurricularAnalytics.jl/latest/), as well as \n",
    "the <cite data-cite=\"he:18\">Heileman, et. al., (2018)</cite> paper listed in the [References](#References) \n",
    "section below.\n",
    "\n",
    "If you are interested in joining the community of scholars working to apply curricular analytics, please \n",
    "feel free to make [suggestions](need to add this link) about future development or [contribute](https://curricularanalytics.github.io/CurricularAnalytics.jl/latest/contributing.html) to the \n",
    "CurricularAnalytics.jl project.\n"
   ]
  },
  {
   "cell_type": "markdown",
   "metadata": {},
   "source": [
    "In order to execute the analyses provided in this notebook, you need to load the following Julia packages."
   ]
  },
  {
   "cell_type": "code",
   "execution_count": 2,
   "metadata": {
    "scrolled": false
   },
   "outputs": [
    {
     "name": "stderr",
     "output_type": "stream",
     "text": [
      "┌ Info: Recompiling stale cache file /Users/heileman/.julia/compiled/v1.1/CurricularAnalytics/pJfqI.ji for CurricularAnalytics [593ffa3d-269e-5d81-88bc-c3b6809c35a6]\n",
      "└ @ Base loading.jl:1184\n",
      "ERROR: LoadError: LoadError: ArgumentError: invalid type for argument xlim in method definition for #metric_histogram#57 at /Users/heileman/Library/Mobile Documents/com~apple~CloudDocs/work/research/Curricular Analytics/CurricularAnalytics.jl/src/Visualization.jl:223\n",
      "Stacktrace:\n",
      " [1] top-level scope at none:0\n",
      " [2] include at ./boot.jl:326 [inlined]\n",
      " [3] include_relative(::Module, ::String) at ./loading.jl:1038\n",
      " [4] include at ./sysimg.jl:29 [inlined]\n",
      " [5] include(::String) at /Users/heileman/Library/Mobile Documents/com~apple~CloudDocs/work/research/Curricular Analytics/CurricularAnalytics.jl/src/CurricularAnalytics.jl:9\n",
      " [6] top-level scope at none:0\n",
      " [7] include at ./boot.jl:326 [inlined]\n",
      " [8] include_relative(::Module, ::String) at ./loading.jl:1038\n",
      " [9] include(::Module, ::String) at ./sysimg.jl:29\n",
      " [10] top-level scope at none:2\n",
      " [11] eval at ./boot.jl:328 [inlined]\n",
      " [12] eval(::Expr) at ./client.jl:404\n",
      " [13] top-level scope at ./none:3\n",
      "in expression starting at /Users/heileman/Library/Mobile Documents/com~apple~CloudDocs/work/research/Curricular Analytics/CurricularAnalytics.jl/src/Visualization.jl:221\n",
      "in expression starting at /Users/heileman/Library/Mobile Documents/com~apple~CloudDocs/work/research/Curricular Analytics/CurricularAnalytics.jl/src/CurricularAnalytics.jl:25\n"
     ]
    },
    {
     "ename": "ErrorException",
     "evalue": "Failed to precompile CurricularAnalytics [593ffa3d-269e-5d81-88bc-c3b6809c35a6] to /Users/heileman/.julia/compiled/v1.1/CurricularAnalytics/pJfqI.ji.",
     "output_type": "error",
     "traceback": [
      "Failed to precompile CurricularAnalytics [593ffa3d-269e-5d81-88bc-c3b6809c35a6] to /Users/heileman/.julia/compiled/v1.1/CurricularAnalytics/pJfqI.ji.",
      "",
      "Stacktrace:",
      " [1] error(::String) at ./error.jl:33",
      " [2] compilecache(::Base.PkgId, ::String) at ./loading.jl:1197",
      " [3] _require(::Base.PkgId) at ./loading.jl:960",
      " [4] require(::Base.PkgId) at ./loading.jl:858",
      " [5] require(::Module, ::Symbol) at ./loading.jl:853",
      " [6] top-level scope at In[2]:8"
     ]
    }
   ],
   "source": [
    "########## use this to run CA locally\n",
    "using Pkg\n",
    "if split(pwd(),Base.Filesystem.path_separator)[end] != \"CurricularAnalytics.jl\"\n",
    "    cd(\"../../CurricularAnalytics.jl/\")\n",
    "end\n",
    "pkg\"activate .\"\n",
    "cd(\"../CA-Notebooks/Western Cluster-APLU\")\n",
    "############\n",
    "using CurricularAnalytics\n",
    "using Glob\n",
    "using CSV\n",
    "using DataFrames\n",
    "using Statistics"
   ]
  },
  {
   "cell_type": "markdown",
   "metadata": {},
   "source": [
    "## Create the Data Structures \n",
    "First, create an array called `schools` containing the names of the schools in the cluster, given by the subdirectory names in the ./cluster directory."
   ]
  },
  {
   "cell_type": "code",
   "execution_count": 3,
   "metadata": {},
   "outputs": [
    {
     "ename": "UndefVarError",
     "evalue": "UndefVarError: glob not defined",
     "output_type": "error",
     "traceback": [
      "UndefVarError: glob not defined",
      "",
      "Stacktrace:",
      " [1] top-level scope at ./In[3]:3"
     ]
    }
   ],
   "source": [
    "# read all of the schools stored in the ./cluster directory\n",
    "schools = Array{String,1}()\n",
    "for path in glob(\"*\", \"./cluster\")\n",
    "  push!(schools, replace(path, \"./cluster/\" => \"\"))\n",
    "end"
   ]
  },
  {
   "cell_type": "markdown",
   "metadata": {},
   "source": [
    "The degree plans for the selected programs at these schools are stored as CSV files in the `./cluster` directory associated with this notebook.  Next, we will read each of these degree plans, and store them as `DegreePlan` objects in a `school_plans` dictionary."
   ]
  },
  {
   "cell_type": "code",
   "execution_count": 4,
   "metadata": {
    "scrolled": false
   },
   "outputs": [
    {
     "ename": "UndefVarError",
     "evalue": "UndefVarError: DegreePlan not defined",
     "output_type": "error",
     "traceback": [
      "UndefVarError: DegreePlan not defined",
      "",
      "Stacktrace:",
      " [1] top-level scope at In[4]:1"
     ]
    }
   ],
   "source": [
    "schools_plans = Dict{String, Dict{String, DegreePlan}}()\n",
    "for school in schools\n",
    "  plans = Dict{String, DegreePlan}()\n",
    "  programs = glob(\"*\", \"./cluster/$(school)\")\n",
    "  for program in programs\n",
    "    program_name = replace(split(\"$(program)\", \"/\")[end], \".csv\" => \"\")\n",
    "    plans[program_name] = read_csv(program)\n",
    "    complexity(plans[program_name].curriculum)  # compute the curricular complexity of the degree plan\n",
    "  end\n",
    "  schools_plans[school] = plans\n",
    "end"
   ]
  },
  {
   "cell_type": "markdown",
   "metadata": {},
   "source": [
    "You can now access and visualize the degree plan associate witha a particular program at a particular school as follows:"
   ]
  },
  {
   "cell_type": "code",
   "execution_count": 5,
   "metadata": {
    "scrolled": false
   },
   "outputs": [
    {
     "ename": "UndefVarError",
     "evalue": "UndefVarError: schools_plans not defined",
     "output_type": "error",
     "traceback": [
      "UndefVarError: schools_plans not defined",
      "",
      "Stacktrace:",
      " [1] top-level scope at In[5]:1"
     ]
    }
   ],
   "source": [
    "dp = schools_plans[\"colorado-state\"][\"music-education\"]\n",
    "visualize(dp, notebook=true)"
   ]
  },
  {
   "cell_type": "markdown",
   "metadata": {},
   "source": [
    "## Curricular Analytics"
   ]
  },
  {
   "cell_type": "markdown",
   "metadata": {},
   "source": [
    "### Analysis of a single curriclum \n",
    "The `basic_metrics()` function can be used to output a set of basic metrics associatd with a curriculum. As an example, here are the basic curricular metrics associated with the Music Education program at Colorado State Univeristy:"
   ]
  },
  {
   "cell_type": "code",
   "execution_count": 5,
   "metadata": {},
   "outputs": [
    {
     "name": "stdout",
     "output_type": "stream",
     "text": [
      "\n",
      "Colorado State University \n",
      "Curriculum: Music Education\n",
      "  credit hours = 120\n",
      "  number of courses = 62\n",
      "  Blocking Factor --\n",
      "    entire curriculum = 96\n",
      "    max. value = 14, for course(s): MU 117\n",
      "  Centrality --\n",
      "    entire curriculum = 647\n",
      "    max. value = 138, for course(s): EDUC 450\n",
      "  Delay Factor --\n",
      "    entire curriculum = 199.0\n",
      "    max. value = 8.0, for course(s): MU 117, MU 118, EDUC 275, MU 217, EDUC 340, EDUC 350, EDUC 386, EDUC 475, EDUC 450, EDUC 477, EDUC 485A, EDUC 485B, EDUC 493A\n",
      "  Complexity --\n",
      "    entire curriculum = 295.0\n",
      "    max. value = 22.0, for course(s): MU 117\n",
      "  Longest Path(s) --\n",
      "    length = 8, number of paths = 2\n",
      "    path(s):\n",
      "    path 1 = EDUC 340 -> EDUC 475 -> EDUC 386 -> EDUC 350 -> EDUC 450 -> EDUC 493A -> EDUC 485B -> EDUC 485A\n",
      "    path 2 = MU 117 -> MU 118 -> MU 217 -> EDUC 477 -> EDUC 450 -> EDUC 493A -> EDUC 485B -> EDUC 485A\n",
      "\n"
     ]
    }
   ],
   "source": [
    "dp = schools_plans[\"colorado-state\"][\"music-education\"]\n",
    "metrics = basic_metrics(dp.curriculum)\n",
    "println(String(take!(metrics)))"
   ]
  },
  {
   "cell_type": "markdown",
   "metadata": {},
   "source": [
    "Here are the basic curricular metrics associated with the Mechanical Engineering program at Colorado State Univeristy:"
   ]
  },
  {
   "cell_type": "code",
   "execution_count": 6,
   "metadata": {},
   "outputs": [
    {
     "name": "stdout",
     "output_type": "stream",
     "text": [
      "\n",
      "Colorado State University \n",
      "Curriculum: Mechanical Engineering\n",
      "  credit hours = 129\n",
      "  number of courses = 39\n",
      "  Blocking Factor --\n",
      "    entire curriculum = 143\n",
      "    max. value = 26, for course(s): MATH 160\n",
      "  Centrality --\n",
      "    entire curriculum = 680\n",
      "    max. value = 81, for course(s): PH 141\n",
      "  Delay Factor --\n",
      "    entire curriculum = 176.0\n",
      "    max. value = 7.0, for course(s): MATH 160, MATH 161, MATH 261, MATH 340, MECH 342, MECH 338, MECH 486B, MECH 498B\n",
      "  Complexity --\n",
      "    entire curriculum = 319.0\n",
      "    max. value = 33.0, for course(s): MATH 160\n",
      "  Longest Path(s) --\n",
      "    length = 7, number of paths = 4\n",
      "    path(s):\n",
      "    path 1 = MATH 160 -> MATH 161 -> MATH 261 -> MATH 340 -> MECH 342 -> MECH 338 -> MECH 486B\n",
      "    path 2 = MATH 160 -> MATH 161 -> MATH 261 -> MECH 337 -> MECH 342 -> MECH 338 -> MECH 486B\n",
      "    path 3 = MATH 160 -> MATH 161 -> MATH 261 -> MATH 340 -> MECH 342 -> MECH 338 -> MECH 498B\n",
      "    path 4 = MATH 160 -> MATH 161 -> MATH 261 -> MECH 337 -> MECH 342 -> MECH 338 -> MECH 498B\n",
      "\n"
     ]
    }
   ],
   "source": [
    "dp = schools_plans[\"colorado-state\"][\"mechanical-engineering\"]\n",
    "metrics = basic_metrics(dp.curriculum)\n",
    "println(String(take!(metrics)))"
   ]
  },
  {
   "cell_type": "markdown",
   "metadata": {},
   "source": [
    "### Analysis of programs across all cluster schools."
   ]
  },
  {
   "cell_type": "code",
   "execution_count": 7,
   "metadata": {},
   "outputs": [
    {
     "name": "stdout",
     "output_type": "stream",
     "text": [
      "Western Cluster animal-science programs complexity metrics:\n",
      " Number of programs = 4\n",
      " Mean = 178.25\n",
      " STD = 88.24728513293388\n",
      " Min. = 103.0\n",
      " Max. = 306.0\n",
      "\n",
      "\n",
      "Western Cluster mechanical-engineering programs complexity metrics:\n",
      " Number of programs = 10\n",
      " Mean = 309.1\n",
      " STD = 97.46161637622612\n",
      " Min. = 140.0\n",
      " Max. = 496.0\n",
      "\n",
      "\n",
      "Western Cluster music-education programs complexity metrics:\n",
      " Number of programs = 9\n",
      " Mean = 213.66666666666666\n",
      " STD = 52.853571307906904\n",
      " Min. = 145.0\n",
      " Max. = 295.0\n",
      "\n",
      "\n",
      "Western Cluster psychology programs complexity metrics:\n",
      " Number of programs = 9\n",
      " Mean = 76.55555555555556\n",
      " STD = 23.324403052978177\n",
      " Min. = 40.0\n",
      " Max. = 113.0\n",
      "\n",
      "\n"
     ]
    }
   ],
   "source": [
    "programs = [\"animal-science\", \"mechanical-engineering\", \"music-education\", \"psychology\"]\n",
    "for program in programs \n",
    "    cc = Array{Real,1}()  # new array for storing curricular complexity values\n",
    "    for school in schools\n",
    "      path = \"./cluster/$(school)\"\n",
    "      if \"$(program).csv\" in readdir(path)\n",
    "        push!(cc, schools_plans[school][program].curriculum.metrics[\"complexity\"][1])\n",
    "      end\n",
    "    end\n",
    "    println(\"Western Cluster $(program) programs complexity metrics:\") \n",
    "    println(\" Number of programs = $(length(cc))\")\n",
    "    println(\" Mean = $(mean(cc))\\n STD = $(std(cc))\\n Min. = $(minimum(cc))\\n Max. = $(maximum(cc))\\n\\n\")\n",
    "end"
   ]
  },
  {
   "cell_type": "code",
   "execution_count": 8,
   "metadata": {},
   "outputs": [
    {
     "data": {
      "image/svg+xml": [
       "<?xml version=\"1.0\" encoding=\"utf-8\"?>\n",
       "<svg xmlns=\"http://www.w3.org/2000/svg\" xmlns:xlink=\"http://www.w3.org/1999/xlink\" width=\"600\" height=\"400\" viewBox=\"0 0 2400 1600\">\n",
       "<defs>\n",
       "  <clipPath id=\"clip0100\">\n",
       "    <rect x=\"0\" y=\"0\" width=\"2400\" height=\"1600\"/>\n",
       "  </clipPath>\n",
       "</defs>\n",
       "<polygon clip-path=\"url(#clip0100)\" points=\"\n",
       "0,1600 2400,1600 2400,0 0,0 \n",
       "  \" fill=\"#ffffff\" fill-rule=\"evenodd\" fill-opacity=\"1\"/>\n",
       "<defs>\n",
       "  <clipPath id=\"clip0101\">\n",
       "    <rect x=\"480\" y=\"0\" width=\"1681\" height=\"1600\"/>\n",
       "  </clipPath>\n",
       "</defs>\n",
       "<polygon clip-path=\"url(#clip0100)\" points=\"\n",
       "202.373,1425.62 2352.76,1425.62 2352.76,121.675 202.373,121.675 \n",
       "  \" fill=\"#ffffff\" fill-rule=\"evenodd\" fill-opacity=\"1\"/>\n",
       "<defs>\n",
       "  <clipPath id=\"clip0102\">\n",
       "    <rect x=\"202\" y=\"121\" width=\"2151\" height=\"1305\"/>\n",
       "  </clipPath>\n",
       "</defs>\n",
       "<polyline clip-path=\"url(#clip0102)\" style=\"stroke:#000000; stroke-width:2; stroke-opacity:0.1; fill:none\" points=\"\n",
       "  202.373,1425.62 202.373,121.675 \n",
       "  \"/>\n",
       "<polyline clip-path=\"url(#clip0102)\" style=\"stroke:#000000; stroke-width:2; stroke-opacity:0.1; fill:none\" points=\"\n",
       "  635.918,1425.62 635.918,121.675 \n",
       "  \"/>\n",
       "<polyline clip-path=\"url(#clip0102)\" style=\"stroke:#000000; stroke-width:2; stroke-opacity:0.1; fill:none\" points=\"\n",
       "  1069.46,1425.62 1069.46,121.675 \n",
       "  \"/>\n",
       "<polyline clip-path=\"url(#clip0102)\" style=\"stroke:#000000; stroke-width:2; stroke-opacity:0.1; fill:none\" points=\"\n",
       "  1503.01,1425.62 1503.01,121.675 \n",
       "  \"/>\n",
       "<polyline clip-path=\"url(#clip0102)\" style=\"stroke:#000000; stroke-width:2; stroke-opacity:0.1; fill:none\" points=\"\n",
       "  1936.55,1425.62 1936.55,121.675 \n",
       "  \"/>\n",
       "<polyline clip-path=\"url(#clip0102)\" style=\"stroke:#000000; stroke-width:2; stroke-opacity:0.1; fill:none\" points=\"\n",
       "  202.373,1425.62 2352.76,1425.62 \n",
       "  \"/>\n",
       "<polyline clip-path=\"url(#clip0102)\" style=\"stroke:#000000; stroke-width:2; stroke-opacity:0.1; fill:none\" points=\"\n",
       "  202.373,1164.83 2352.76,1164.83 \n",
       "  \"/>\n",
       "<polyline clip-path=\"url(#clip0102)\" style=\"stroke:#000000; stroke-width:2; stroke-opacity:0.1; fill:none\" points=\"\n",
       "  202.373,904.041 2352.76,904.041 \n",
       "  \"/>\n",
       "<polyline clip-path=\"url(#clip0102)\" style=\"stroke:#000000; stroke-width:2; stroke-opacity:0.1; fill:none\" points=\"\n",
       "  202.373,643.253 2352.76,643.253 \n",
       "  \"/>\n",
       "<polyline clip-path=\"url(#clip0102)\" style=\"stroke:#000000; stroke-width:2; stroke-opacity:0.1; fill:none\" points=\"\n",
       "  202.373,382.464 2352.76,382.464 \n",
       "  \"/>\n",
       "<polyline clip-path=\"url(#clip0102)\" style=\"stroke:#000000; stroke-width:2; stroke-opacity:0.1; fill:none\" points=\"\n",
       "  202.373,121.675 2352.76,121.675 \n",
       "  \"/>\n",
       "<polyline clip-path=\"url(#clip0100)\" style=\"stroke:#000000; stroke-width:4; stroke-opacity:1; fill:none\" points=\"\n",
       "  202.373,1425.62 2352.76,1425.62 \n",
       "  \"/>\n",
       "<polyline clip-path=\"url(#clip0100)\" style=\"stroke:#000000; stroke-width:4; stroke-opacity:1; fill:none\" points=\"\n",
       "  202.373,1425.62 202.373,121.675 \n",
       "  \"/>\n",
       "<polyline clip-path=\"url(#clip0100)\" style=\"stroke:#000000; stroke-width:4; stroke-opacity:1; fill:none\" points=\"\n",
       "  202.373,1425.62 202.373,1406.06 \n",
       "  \"/>\n",
       "<polyline clip-path=\"url(#clip0100)\" style=\"stroke:#000000; stroke-width:4; stroke-opacity:1; fill:none\" points=\"\n",
       "  635.918,1425.62 635.918,1406.06 \n",
       "  \"/>\n",
       "<polyline clip-path=\"url(#clip0100)\" style=\"stroke:#000000; stroke-width:4; stroke-opacity:1; fill:none\" points=\"\n",
       "  1069.46,1425.62 1069.46,1406.06 \n",
       "  \"/>\n",
       "<polyline clip-path=\"url(#clip0100)\" style=\"stroke:#000000; stroke-width:4; stroke-opacity:1; fill:none\" points=\"\n",
       "  1503.01,1425.62 1503.01,1406.06 \n",
       "  \"/>\n",
       "<polyline clip-path=\"url(#clip0100)\" style=\"stroke:#000000; stroke-width:4; stroke-opacity:1; fill:none\" points=\"\n",
       "  1936.55,1425.62 1936.55,1406.06 \n",
       "  \"/>\n",
       "<polyline clip-path=\"url(#clip0100)\" style=\"stroke:#000000; stroke-width:4; stroke-opacity:1; fill:none\" points=\"\n",
       "  202.373,1425.62 234.629,1425.62 \n",
       "  \"/>\n",
       "<polyline clip-path=\"url(#clip0100)\" style=\"stroke:#000000; stroke-width:4; stroke-opacity:1; fill:none\" points=\"\n",
       "  202.373,1164.83 234.629,1164.83 \n",
       "  \"/>\n",
       "<polyline clip-path=\"url(#clip0100)\" style=\"stroke:#000000; stroke-width:4; stroke-opacity:1; fill:none\" points=\"\n",
       "  202.373,904.041 234.629,904.041 \n",
       "  \"/>\n",
       "<polyline clip-path=\"url(#clip0100)\" style=\"stroke:#000000; stroke-width:4; stroke-opacity:1; fill:none\" points=\"\n",
       "  202.373,643.253 234.629,643.253 \n",
       "  \"/>\n",
       "<polyline clip-path=\"url(#clip0100)\" style=\"stroke:#000000; stroke-width:4; stroke-opacity:1; fill:none\" points=\"\n",
       "  202.373,382.464 234.629,382.464 \n",
       "  \"/>\n",
       "<polyline clip-path=\"url(#clip0100)\" style=\"stroke:#000000; stroke-width:4; stroke-opacity:1; fill:none\" points=\"\n",
       "  202.373,121.675 234.629,121.675 \n",
       "  \"/>\n",
       "<g clip-path=\"url(#clip0100)\">\n",
       "<text style=\"fill:#000000; fill-opacity:1; font-family:Arial,Helvetica Neue,Helvetica,sans-serif; font-size:48px; text-anchor:middle;\" transform=\"rotate(0, 202.373, 1479.62)\" x=\"202.373\" y=\"1479.62\">0</text>\n",
       "</g>\n",
       "<g clip-path=\"url(#clip0100)\">\n",
       "<text style=\"fill:#000000; fill-opacity:1; font-family:Arial,Helvetica Neue,Helvetica,sans-serif; font-size:48px; text-anchor:middle;\" transform=\"rotate(0, 635.918, 1479.62)\" x=\"635.918\" y=\"1479.62\">100</text>\n",
       "</g>\n",
       "<g clip-path=\"url(#clip0100)\">\n",
       "<text style=\"fill:#000000; fill-opacity:1; font-family:Arial,Helvetica Neue,Helvetica,sans-serif; font-size:48px; text-anchor:middle;\" transform=\"rotate(0, 1069.46, 1479.62)\" x=\"1069.46\" y=\"1479.62\">200</text>\n",
       "</g>\n",
       "<g clip-path=\"url(#clip0100)\">\n",
       "<text style=\"fill:#000000; fill-opacity:1; font-family:Arial,Helvetica Neue,Helvetica,sans-serif; font-size:48px; text-anchor:middle;\" transform=\"rotate(0, 1503.01, 1479.62)\" x=\"1503.01\" y=\"1479.62\">300</text>\n",
       "</g>\n",
       "<g clip-path=\"url(#clip0100)\">\n",
       "<text style=\"fill:#000000; fill-opacity:1; font-family:Arial,Helvetica Neue,Helvetica,sans-serif; font-size:48px; text-anchor:middle;\" transform=\"rotate(0, 1936.55, 1479.62)\" x=\"1936.55\" y=\"1479.62\">400</text>\n",
       "</g>\n",
       "<g clip-path=\"url(#clip0100)\">\n",
       "<text style=\"fill:#000000; fill-opacity:1; font-family:Arial,Helvetica Neue,Helvetica,sans-serif; font-size:48px; text-anchor:end;\" transform=\"rotate(0, 178.373, 1443.12)\" x=\"178.373\" y=\"1443.12\">0</text>\n",
       "</g>\n",
       "<g clip-path=\"url(#clip0100)\">\n",
       "<text style=\"fill:#000000; fill-opacity:1; font-family:Arial,Helvetica Neue,Helvetica,sans-serif; font-size:48px; text-anchor:end;\" transform=\"rotate(0, 178.373, 1182.33)\" x=\"178.373\" y=\"1182.33\">2</text>\n",
       "</g>\n",
       "<g clip-path=\"url(#clip0100)\">\n",
       "<text style=\"fill:#000000; fill-opacity:1; font-family:Arial,Helvetica Neue,Helvetica,sans-serif; font-size:48px; text-anchor:end;\" transform=\"rotate(0, 178.373, 921.541)\" x=\"178.373\" y=\"921.541\">4</text>\n",
       "</g>\n",
       "<g clip-path=\"url(#clip0100)\">\n",
       "<text style=\"fill:#000000; fill-opacity:1; font-family:Arial,Helvetica Neue,Helvetica,sans-serif; font-size:48px; text-anchor:end;\" transform=\"rotate(0, 178.373, 660.753)\" x=\"178.373\" y=\"660.753\">6</text>\n",
       "</g>\n",
       "<g clip-path=\"url(#clip0100)\">\n",
       "<text style=\"fill:#000000; fill-opacity:1; font-family:Arial,Helvetica Neue,Helvetica,sans-serif; font-size:48px; text-anchor:end;\" transform=\"rotate(0, 178.373, 399.964)\" x=\"178.373\" y=\"399.964\">8</text>\n",
       "</g>\n",
       "<g clip-path=\"url(#clip0100)\">\n",
       "<text style=\"fill:#000000; fill-opacity:1; font-family:Arial,Helvetica Neue,Helvetica,sans-serif; font-size:48px; text-anchor:end;\" transform=\"rotate(0, 178.373, 139.175)\" x=\"178.373\" y=\"139.175\">10</text>\n",
       "</g>\n",
       "<g clip-path=\"url(#clip0100)\">\n",
       "<text style=\"fill:#000000; fill-opacity:1; font-family:Arial,Helvetica Neue,Helvetica,sans-serif; font-size:84px; text-anchor:middle;\" transform=\"rotate(0, 1277.56, 73.2)\" x=\"1277.56\" y=\"73.2\">mechanical-engineering programs</text>\n",
       "</g>\n",
       "<g clip-path=\"url(#clip0100)\">\n",
       "<text style=\"fill:#000000; fill-opacity:1; font-family:Arial,Helvetica Neue,Helvetica,sans-serif; font-size:66px; text-anchor:middle;\" transform=\"rotate(0, 1277.56, 1559.48)\" x=\"1277.56\" y=\"1559.48\">complexity</text>\n",
       "</g>\n",
       "<g clip-path=\"url(#clip0100)\">\n",
       "<text style=\"fill:#000000; fill-opacity:1; font-family:Arial,Helvetica Neue,Helvetica,sans-serif; font-size:66px; text-anchor:middle;\" transform=\"rotate(-90, 89.2861, 773.647)\" x=\"89.2861\" y=\"773.647\"># of curricula</text>\n",
       "</g>\n",
       "<polygon clip-path=\"url(#clip0102)\" points=\"\n",
       "635.918,1295.22 635.918,1425.62 1069.46,1425.62 1069.46,1295.22 635.918,1295.22 635.918,1295.22 \n",
       "  \" fill=\"#1874cd\" fill-rule=\"evenodd\" fill-opacity=\"0.7\"/>\n",
       "<polyline clip-path=\"url(#clip0102)\" style=\"stroke:#000000; stroke-width:4; stroke-opacity:0.7; fill:none\" points=\"\n",
       "  635.918,1295.22 635.918,1425.62 1069.46,1425.62 1069.46,1295.22 635.918,1295.22 \n",
       "  \"/>\n",
       "<polygon clip-path=\"url(#clip0102)\" points=\"\n",
       "1069.46,1034.44 1069.46,1425.62 1503.01,1425.62 1503.01,1034.44 1069.46,1034.44 1069.46,1034.44 \n",
       "  \" fill=\"#1874cd\" fill-rule=\"evenodd\" fill-opacity=\"0.7\"/>\n",
       "<polyline clip-path=\"url(#clip0102)\" style=\"stroke:#000000; stroke-width:4; stroke-opacity:0.7; fill:none\" points=\"\n",
       "  1069.46,1034.44 1069.46,1425.62 1503.01,1425.62 1503.01,1034.44 1069.46,1034.44 \n",
       "  \"/>\n",
       "<polygon clip-path=\"url(#clip0102)\" points=\"\n",
       "1503.01,773.647 1503.01,1425.62 1936.55,1425.62 1936.55,773.647 1503.01,773.647 1503.01,773.647 \n",
       "  \" fill=\"#1874cd\" fill-rule=\"evenodd\" fill-opacity=\"0.7\"/>\n",
       "<polyline clip-path=\"url(#clip0102)\" style=\"stroke:#000000; stroke-width:4; stroke-opacity:0.7; fill:none\" points=\"\n",
       "  1503.01,773.647 1503.01,1425.62 1936.55,1425.62 1936.55,773.647 1503.01,773.647 \n",
       "  \"/>\n",
       "<polygon clip-path=\"url(#clip0102)\" points=\"\n",
       "1936.55,1295.22 1936.55,1425.62 2370.1,1425.62 2370.1,1295.22 1936.55,1295.22 1936.55,1295.22 \n",
       "  \" fill=\"#1874cd\" fill-rule=\"evenodd\" fill-opacity=\"0.7\"/>\n",
       "<polyline clip-path=\"url(#clip0102)\" style=\"stroke:#000000; stroke-width:4; stroke-opacity:0.7; fill:none\" points=\"\n",
       "  1936.55,1295.22 1936.55,1425.62 2370.1,1425.62 2370.1,1295.22 1936.55,1295.22 \n",
       "  \"/>\n",
       "</svg>\n"
      ]
     },
     "execution_count": 8,
     "metadata": {},
     "output_type": "execute_result"
    }
   ],
   "source": [
    "program = \"mechanical-engineering\"\n",
    "metric = \"complexity\"\n",
    "curricula = Array{Curriculum,1}()  # new array for storing curricular complexity values\n",
    "for school in schools\n",
    "    path = \"./cluster/$(school)\"\n",
    "    if \"$(program).csv\" in readdir(path)\n",
    "        push!(curricula, schools_plans[school][program].curriculum)\n",
    "    end\n",
    "end\n",
    "metric_histogram(curricula, metric, 5, title = \"$(program) programs\", xlabel=\"$(metric)\", ylabel=\"# of curricula\")"
   ]
  },
  {
   "cell_type": "markdown",
   "metadata": {},
   "source": [
    "## Degree Plan Analytics"
   ]
  },
  {
   "cell_type": "markdown",
   "metadata": {},
   "source": [
    "### Analysis of a single degree plan \n",
    "Music Education at CSU:"
   ]
  },
  {
   "cell_type": "code",
   "execution_count": 16,
   "metadata": {},
   "outputs": [
    {
     "name": "stdout",
     "output_type": "stream",
     "text": [
      "\n",
      "Curriculum: Mechanical Engineering\n",
      "Degree Plan: 4-Year Plan\n",
      "  total credit hours = 129\n",
      "  number of terms = 8\n",
      "  max. credits in a term = 20, in term 4\n",
      "  min. credits in a term = 13, in term 6\n",
      "  avg. credits per term = 16.125, with std. dev. = 2.0879116360612584\n",
      "\n"
     ]
    }
   ],
   "source": [
    "metrics = basic_metrics(dp)\n",
    "println(String(take!(metrics)))"
   ]
  },
  {
   "cell_type": "markdown",
   "metadata": {},
   "source": [
    "## References\n",
    "<a id='References'></a>\n",
    "\n",
    "APLU, Powered by Publics website (accessed August 15, 2019). https://www.aplu.org/projects-and-initiatives/center-for-public-university-transformation/powered-by-publics\n",
    "\n",
    "Heileman, G. L., Abdallah, C.T., Slim, A., and Hickman, M. (2018). Curricular analytics: A framework for quantifying the impact of curricular reforms and pedagogical innovations. www.arXiv.org, arXiv:1811.09676 [cs.CY].\n",
    "\n",
    "Heileman, G. L., Free, H. W., Abar, O. and Thompson-Arjona, W. G, (2019). CurricularAnalytics.jl Toolbox. https://github.com/heileman/CurricularAnalytics.jl."
   ]
  }
 ],
 "metadata": {
  "@webio": {
   "lastCommId": "35272b196edd4fe9830df3372a464a77",
   "lastKernelId": "87ea3b3a-7939-4637-9dbd-416246ac822d"
  },
  "kernelspec": {
   "display_name": "Julia 1.1.1",
   "language": "julia",
   "name": "julia-1.1"
  },
  "language_info": {
   "file_extension": ".jl",
   "mimetype": "application/julia",
   "name": "julia",
   "version": "1.1.1"
  }
 },
 "nbformat": 4,
 "nbformat_minor": 2
}
