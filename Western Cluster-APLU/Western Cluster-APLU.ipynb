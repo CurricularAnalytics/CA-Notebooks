{
 "cells": [
  {
   "cell_type": "markdown",
   "metadata": {},
   "source": [
    "# <center>APLU Western Cluster Curricular Analytics Study</center>\n",
    "\n",
    "In this notebook we analyze the curricula associated with a set of programs at universities in the APLU \n",
    "Western Cluster. The cluster of schools is one of the \"transformation clusters\" formed as a part of APLU's \n",
    "[Powered by Publics Initiative]\n",
    "(https://www.aplu.org/projects-and-initiatives/center-for-public-university-transformation/powered-by-publics) \n",
    "<cite data-cite=\"APLU:18\">(APLU, 2019)</cite>. The schools in the Western Cluster include:\n",
    "\n",
    "- Colorado State University\n",
    "- Langston University\n",
    "- Montana State University\n",
    "- New Mexico State University\n",
    "- North Dakota State University\n",
    "- Oklahoma State University\n",
    "- South Dakota State University\n",
    "- University of Idaho\n",
    "- University of Nevada-Reno\n",
    "- University of Wyoming\n",
    "- Utah State University\n",
    "\n",
    "The analyses in this notebook makes use of the [Curricular Analytics toolbox](https://github.com/CurricularAnalytics/CurricularAnalytics.jl) \n",
    "built using the Julia programming language  and available as open source software (<cite data-cite=\"he:19\">Heileman, et. al., 2019</cite>). As a starting \n",
    "point, you may find it useful to read the [toolbox documenation](https://curricularanalytics.github.io/CurricularAnalytics.jl/latest/), as well as \n",
    "the <cite data-cite=\"he:18\">Heileman, et. al., (2018)</cite> paper listed in the [References](#References) \n",
    "section below.\n",
    "\n",
    "If you are interested in joining the community of scholars working to apply curricular analytics, please \n",
    "feel free to make [suggestions](need to add this link) about future development or [contribute](https://curricularanalytics.github.io/CurricularAnalytics.jl/latest/contributing.html) to the \n",
    "CurricularAnalytics.jl project.\n"
   ]
  },
  {
   "cell_type": "markdown",
   "metadata": {},
   "source": [
    "In order to execute the analyses provided in this notebook, you need to load the following Julia packages."
   ]
  },
  {
   "cell_type": "code",
   "execution_count": 1,
   "metadata": {
    "scrolled": false
   },
   "outputs": [
    {
     "name": "stderr",
     "output_type": "stream",
     "text": [
      "┌ Info: Recompiling stale cache file /Users/heileman/.julia/compiled/v1.1/CurricularAnalytics/pJfqI.ji for CurricularAnalytics [593ffa3d-269e-5d81-88bc-c3b6809c35a6]\n",
      "└ @ Base loading.jl:1184\n"
     ]
    },
    {
     "data": {
      "text/html": [
       "<script>\n",
       "// Immediately-invoked-function-expression to avoid global variables.\n",
       "(function() {\n",
       "    var warning_div = document.getElementById(\"webio-warning-12239370530067994923\");\n",
       "    var hide = function () {\n",
       "        var script = document.getElementById(\"webio-setup-5748823005165942080\");\n",
       "        var parent = script && script.parentElement;\n",
       "        var grandparent = parent && parent.parentElement;\n",
       "        if (grandparent) {\n",
       "            grandparent.style.display = \"none\";\n",
       "        }\n",
       "        warning_div.style.display = \"none\";\n",
       "    };\n",
       "    if (typeof Jupyter !== \"undefined\") {\n",
       "        console.log(\"WebIO detected Jupyter notebook environment.\");\n",
       "        // Jupyter notebook.\n",
       "        var extensions = (\n",
       "            Jupyter\n",
       "            && Jupyter.notebook.config.data\n",
       "            && Jupyter.notebook.config.data.load_extensions\n",
       "        );\n",
       "        if (extensions && extensions[\"webio/main\"]) {\n",
       "            // Extension already loaded.\n",
       "            console.log(\"Jupyter WebIO nbextension detected; not loading ad-hoc.\");\n",
       "            hide();\n",
       "            return;\n",
       "        }\n",
       "        console.warn(\"Loading WebIO Jupyter extension on an ad-hoc basis. Consider enabling the WebIO nbextension for a stabler experience (this should happen automatically when building WebIO).\");\n",
       "        warning_div.innerHTML = \"<strong>Loading WebIO Jupyter extension on an ad-hoc basis. Consider enabling the WebIO nbextension for a stabler experience (this should happen automatically when building WebIO).</strong>\";\n",
       "    } else if (window.location.pathname.includes(\"/lab\")) {\n",
       "        // Guessing JupyterLa\n",
       "        console.log(\"Jupyter Lab detected; make sure the @webio/jupyter-lab-provider labextension is installed.\");\n",
       "        hide();\n",
       "        return;\n",
       "    }\n",
       "})();\n",
       "\n",
       "</script>\n",
       "<p\n",
       "    id=\"webio-warning-12239370530067994923\"\n",
       "    class=\"output_text output_stderr\"\n",
       "    style=\"padding: 1em; font-weight: bold;\"\n",
       ">\n",
       "    Unable to load WebIO. Please make sure WebIO works for your Jupyter client.\n",
       "    For troubleshooting, please see <a href=\"https://juliagizmos.github.io/WebIO.jl/latest/providers/ijulia/\">\n",
       "    the WebIO/IJulia documentation</a>.\n",
       "    <!-- TODO: link to installation docs. -->\n",
       "</p>\n"
      ],
      "text/plain": [
       "HTML{String}(\"<script>\\n// Immediately-invoked-function-expression to avoid global variables.\\n(function() {\\n    var warning_div = document.getElementById(\\\"webio-warning-12239370530067994923\\\");\\n    var hide = function () {\\n        var script = document.getElementById(\\\"webio-setup-5748823005165942080\\\");\\n        var parent = script && script.parentElement;\\n        var grandparent = parent && parent.parentElement;\\n        if (grandparent) {\\n            grandparent.style.display = \\\"none\\\";\\n        }\\n        warning_div.style.display = \\\"none\\\";\\n    };\\n    if (typeof Jupyter !== \\\"undefined\\\") {\\n        console.log(\\\"WebIO detected Jupyter notebook environment.\\\");\\n        // Jupyter notebook.\\n        var extensions = (\\n            Jupyter\\n            && Jupyter.notebook.config.data\\n            && Jupyter.notebook.config.data.load_extensions\\n        );\\n        if (extensions && extensions[\\\"webio/main\\\"]) {\\n            // Extension already loaded.\\n            console.log(\\\"Jupyter WebIO nbextension detected; not loading ad-hoc.\\\");\\n            hide();\\n            return;\\n        }\\n        console.warn(\\\"Loading WebIO Jupyter extension on an ad-hoc basis. Consider enabling the WebIO nbextension for a stabler experience (this should happen automatically when building WebIO).\\\");\\n        warning_div.innerHTML = \\\"<strong>Loading WebIO Jupyter extension on an ad-hoc basis. Consider enabling the WebIO nbextension for a stabler experience (this should happen automatically when building WebIO).</strong>\\\";\\n    } else if (window.location.pathname.includes(\\\"/lab\\\")) {\\n        // Guessing JupyterLa\\n        console.log(\\\"Jupyter Lab detected; make sure the @webio/jupyter-lab-provider labextension is installed.\\\");\\n        hide();\\n        return;\\n    }\\n})();\\n\\n</script>\\n<p\\n    id=\\\"webio-warning-12239370530067994923\\\"\\n    class=\\\"output_text output_stderr\\\"\\n    style=\\\"padding: 1em; font-weight: bold;\\\"\\n>\\n    Unable to load WebIO. Please make sure WebIO works for your Jupyter client.\\n    For troubleshooting, please see <a href=\\\"https://juliagizmos.github.io/WebIO.jl/latest/providers/ijulia/\\\">\\n    the WebIO/IJulia documentation</a>.\\n    <!-- TODO: link to installation docs. -->\\n</p>\\n\")"
      ]
     },
     "metadata": {},
     "output_type": "display_data"
    }
   ],
   "source": [
    "########## use this to run CA locally\n",
    "using Pkg\n",
    "if split(pwd(),Base.Filesystem.path_separator)[end] != \"CurricularAnalytics.jl\"\n",
    "    cd(\"../../CurricularAnalytics.jl/\")\n",
    "end\n",
    "pkg\"activate .\"\n",
    "cd(\"../CA-Notebooks/Western Cluster-APLU\")\n",
    "############\n",
    "using CurricularAnalytics\n",
    "using Glob\n",
    "using CSV\n",
    "using DataFrames\n",
    "using Statistics"
   ]
  },
  {
   "cell_type": "markdown",
   "metadata": {},
   "source": [
    "## Create the Data Structures \n",
    "First, create an array called `schools` containing the names of the schools in the cluster, given by the subdirectory names in the ./cluster directory."
   ]
  },
  {
   "cell_type": "code",
   "execution_count": 2,
   "metadata": {},
   "outputs": [],
   "source": [
    "# read all of the degree plans stored in the ./cluster directory\n",
    "schools = Array{String,1}()\n",
    "for path in glob(\"*\", \"./cluster\")\n",
    "  push!(schools, replace(path, \"./cluster/\" => \"\"))\n",
    "end"
   ]
  },
  {
   "cell_type": "markdown",
   "metadata": {},
   "source": [
    "The degree plans for the selected programs at these schools are stored as CSV files in the `./cluster` directory associated with this notebook.  Next, we will read each of these degree plans, and store them as `DegreePlan` objects in a `school_plans` dictionary."
   ]
  },
  {
   "cell_type": "code",
   "execution_count": 3,
   "metadata": {
    "scrolled": false
   },
   "outputs": [
    {
     "name": "stdout",
     "output_type": "stream",
     "text": [
      "\u001b[33mWARNING: Curriculum was created, but is invalid:\u001b[39m\n",
      "Curriculum 'Biomedical-Mechanical Engineering' has extraneous requisites:\n",
      "-MATH 161 has redundant requisite MATH 160\n",
      "-MECH 105 has redundant requisite MATH 160\n",
      "-CIVE 260 has redundant requisite MATH 160\n",
      "-ECE 204 has redundant requisite MATH 161\n",
      "-MECH 338 has redundant requisite MECH 337\n",
      "\n",
      "\u001b[33mWARNING: Curriculum was created, but is invalid:\u001b[39m\n",
      "Curriculum 'Music Education' has extraneous requisites:\n",
      "-EDUC 350 has redundant requisite EDUC 275\n",
      "-EDUC 386 has redundant requisite EDUC 275\n",
      "-EDUC 350 has redundant requisite EDUC 340\n",
      "-EDUC 386 has redundant requisite EDUC 340\n",
      "-EDUC 485A has redundant requisite EDUC 450\n",
      "-EDUC 485B has redundant requisite EDUC 450\n",
      "\n",
      "\u001b[33mWARNING: Curriculum was created, but is invalid:\u001b[39m\n",
      "Curriculum 'Psychology' has extraneous requisites:\n",
      "-PY 3213 has redundant requisite PY 1113\n",
      "-PY 3323 has redundant requisite PY 1113\n",
      "-PY 3033 has redundant requisite PY 1113\n",
      "-PY 4013 has redundant requisite PY 1113\n",
      "-PY 4213 has redundant requisite PY 1113\n",
      "\n",
      "\u001b[33mWARNING: Curriculum was created, but is invalid:\u001b[39m\n",
      "Curriculum 'Animal Science' has extraneous requisites:\n",
      "-ANSC 337 has redundant requisite ANSC 100\n",
      "-Elective ES has redundant requisite ANSC 100\n",
      "-ANSC 266 has redundant requisite BIOB 160\n",
      "\n",
      "\u001b[33mWARNING: Curriculum was created, but is invalid:\u001b[39m\n",
      "Curriculum 'Animal Science' has extraneous requisites:\n",
      "-ANSC 316 has redundant requisite CHMY 121IN\n",
      "-ANSC 337 has redundant requisite ANSC 100\n",
      "-Elective LM has redundant requisite ANSC 100\n",
      "-ANSC 266 has redundant requisite BIOB 160\n",
      "-Elective LM has redundant requisite BIOB 160\n",
      "\n",
      "\u001b[33mWARNING: Curriculum was created, but is invalid:\u001b[39m\n",
      "Curriculum 'Animal Science' has extraneous requisites:\n",
      "-Elective LM has redundant requisite CHMY 141\n",
      "-Elective Restricted has redundant requisite ANSC 100\n",
      "-Elective LM has redundant requisite ANSC 100\n",
      "-ANSC 266 has redundant requisite BIOB 160\n",
      "-Elective Restricted has redundant requisite BIOB 160\n",
      "-Elective LM has redundant requisite BIOB 160\n",
      "-Elective Restricted has redundant requisite ANSC 266\n",
      "\n",
      "\u001b[33mWARNING: Curriculum was created, but is invalid:\u001b[39m\n",
      "Curriculum 'Mechanical Engineering' has extraneous requisites:\n",
      "-EMAT 252 has redundant requisite CHMY 141\n",
      "-ETME 216 has redundant requisite M 172Q\n",
      "-EMAT 252 has redundant requisite M 172Q\n",
      "-ETME 215 has redundant requisite M 172Q\n",
      "-EMAT 252 has redundant requisite WRIT 101W\n",
      "-EMEC 303 has redundant requisite M 273Q\n",
      "\n",
      "\u001b[33mWARNING: Curriculum was created, but is invalid:\u001b[39m\n",
      "Curriculum 'Music Education' has extraneous requisites:\n",
      "-MUSI 303 has redundant requisite MUSI 106\n",
      "-MUSE 239 has redundant requisite MUSI 240\n",
      "\n",
      "\u001b[33mWARNING: Curriculum was created, but is invalid:\u001b[39m\n",
      "Curriculum 'Animal Science' has extraneous requisites:\n",
      "-CHEM 101 has redundant requisite MATH 121G\n",
      "-CHEM 102 has redundant requisite CHEM 111G\n",
      "-CHEM 315 has redundant requisite CHEM 313\n",
      "\n",
      "\u001b[33mWARNING: Curriculum was created, but is invalid:\u001b[39m\n",
      "Curriculum 'Psychology' has extraneous requisites:\n",
      "-PSY 301 has redundant requisite STAT 251G\n",
      "-PSY 320 has redundant requisite STAT 251G\n",
      "-PSY 301 has redundant requisite PSY 201G\n",
      "-PSY 320 has redundant requisite PSY 201G\n",
      "\n",
      "\u001b[33mWARNING: Curriculum was created, but is invalid:\u001b[39m\n",
      "Curriculum 'Music Education' has extraneous requisites:\n",
      "-EDUC 487 has redundant requisite EDUC 321\n",
      "-EDUC 487 has redundant requisite EDUC 322\n",
      "-EDUC 485 has redundant requisite EDUC 486\n",
      "\n",
      "\u001b[33mWARNING: Curriculum was created, but is invalid:\u001b[39m\n",
      "Curriculum 'Mechanical Engineering' has extraneous requisites:\n",
      "-ENSC 2113 has redundant requisite MATH 2144\n",
      "-ENSC 2213 has redundant requisite MATH 2144\n",
      "-MAE 3324 has redundant requisite ENSC 2113\n",
      "\n",
      "\u001b[33mWARNING: Curriculum was created, but is invalid:\u001b[39m\n",
      "Curriculum 'Music Education' has extraneous requisites:\n",
      "-MUSI 3842 has redundant requisite MUSI 2722\n",
      "\n",
      "\u001b[33mWARNING: Curriculum was created, but is invalid:\u001b[39m\n",
      "Curriculum 'Psychology' has extraneous requisites:\n",
      "-PSYC 3914 has redundant requisite PSYC 1113\n",
      "\n",
      "\u001b[33mWARNING: Curriculum was created, but is invalid:\u001b[39m\n",
      "Curriculum 'Mechanical Engineering' has extraneous requisites:\n",
      "-ME 476 has redundant requisite EM 331\n",
      "\n",
      "\u001b[33mWARNING: Curriculum was created, but is invalid:\u001b[39m\n",
      "Curriculum 'Music Education' has extraneous requisites:\n",
      "-MUS 433 has redundant requisite MUS 130\n",
      "\n",
      "\u001b[33mWARNING: Curriculum was created, but is invalid:\u001b[39m\n",
      "Curriculum 'Animal Veterinary Science (Business)' has extraneous requisites:\n",
      "-AVS 110L has redundant requisite AVS 109\n",
      "\n",
      "\u001b[33mWARNING: Curriculum was created, but is invalid:\u001b[39m\n",
      "Curriculum 'Animal Veterinary Science (Dairy)' has extraneous requisites:\n",
      "-AVS 110L has redundant requisite AVS 109\n",
      "-AVS 463 has redundant requisite AVS 109\n",
      "-AVS 472 has redundant requisite AVS 109\n",
      "-AVS 474 has redundant requisite AVS 109\n",
      "\n",
      "\u001b[33mWARNING: Curriculum was created, but is invalid:\u001b[39m\n",
      "Curriculum 'Animal Veterinary Science (Pre-Vet)' has extraneous requisites:\n",
      "-AVS 110L has redundant requisite AVS 109\n",
      "-AVS 472 has redundant requisite AVS 109\n",
      "-AVS 474 has redundant requisite AVS 109\n",
      "-AVS 373 has redundant requisite BIOL 115L\n",
      "-PHYS 111L has redundant requisite MATH 143\n",
      "-PHYS 112L has redundant requisite PHYS 111L\n",
      "\n",
      "\u001b[33mWARNING: Curriculum was created, but is invalid:\u001b[39m\n",
      "Curriculum 'Animal Veterinary Science (Production)' has extraneous requisites:\n",
      "-AVS 110L has redundant requisite AVS 109\n",
      "-AVS 472 has redundant requisite AVS 109\n",
      "-AVS 474 has redundant requisite AVS 109\n",
      "-AVS 373 has redundant requisite BIOL 115L\n",
      "\n",
      "\u001b[33mWARNING: Curriculum was created, but is invalid:\u001b[39m\n",
      "Curriculum 'Mechanical Engineering' has extraneous requisites:\n",
      "-ENGR 350 has redundant requisite MATH 175\n",
      "-ME 424 has redundant requisite ME 301\n",
      "\n",
      "\u001b[33mWARNING: Curriculum was created, but is invalid:\u001b[39m\n",
      "Curriculum 'Music Education (Instrumental)' has extraneous requisites:\n",
      "-MUSC 239 has redundant requisite MUSC 139\n",
      "\n",
      "\u001b[33mWARNING: Curriculum was created, but is invalid:\u001b[39m\n",
      "Curriculum 'Music Education (Vocal)' has extraneous requisites:\n",
      "-MUSC 239 has redundant requisite MUSC 139\n",
      "\n",
      "\u001b[33mWARNING: Curriculum was created, but is invalid:\u001b[39m\n",
      "Curriculum 'Animal Science' has extraneous requisites:\n",
      "-CHEM 121A has redundant requisite MATH 126\n",
      "-CHEM 121L has redundant requisite MATH 126\n",
      "-AGSC 425 has redundant requisite AGSC 100\n",
      "-AGSC 206 has redundant requisite CHEM 121A\n",
      "-CHEM 122A has redundant requisite CHEM 121A\n",
      "-BIOL 192 has redundant requisite BIOL 190\n",
      "-AGSC 211 has redundant requisite BIOL 190\n",
      "-VM 328 has redundant requisite BIOL 190\n",
      "\n",
      "\u001b[33mWARNING: Curriculum was created, but is invalid:\u001b[39m\n",
      "Curriculum 'Mechanical Engineering' has extraneous requisites:\n",
      "-ME 203 has redundant requisite PHYS 180\n",
      "-ME 310 has redundant requisite MATH 285\n",
      "-ME 322 has redundant requisite ENGR 360\n",
      "-ME 322 has redundant requisite ME 311\n",
      "\n",
      "\u001b[33mWARNING: Curriculum was created, but is invalid:\u001b[39m\n",
      "Curriculum 'Music Education' has extraneous requisites:\n",
      "-MUS 431 has redundant requisite ENG 102\n",
      "\n",
      "\u001b[33mWARNING: Curriculum was created, but is invalid:\u001b[39m\n",
      "Curriculum 'Animal Science (Animal Biology)' has extraneous requisites:\n",
      "-ANSC3010 has redundant requisite LIFE1010\n",
      "-LIFE3050 has redundant requisite LIFE1010\n",
      "\n",
      "\u001b[33mWARNING: Curriculum was created, but is invalid:\u001b[39m\n",
      "Curriculum 'Animal Science (Meat Food)' has extraneous requisites:\n",
      "-ANSC3010 has redundant requisite LIFE1010\n",
      "\n",
      "\u001b[33mWARNING: Curriculum was created, but is invalid:\u001b[39m\n",
      "Curriculum 'Animal Science (Pre-Vet)' has extraneous requisites:\n",
      "-LIFE3050 has redundant requisite LIFE1010\n",
      "-ANSC3010 has redundant requisite LIFE1010\n",
      "-PATB4500 has redundant requisite LIFE1010\n",
      "\n",
      "\u001b[33mWARNING: Curriculum was created, but is invalid:\u001b[39m\n",
      "Curriculum 'Mechanical Engineering' has extraneous requisites:\n",
      "-PHYS1220 has redundant requisite MATH2200\n",
      "-MESC has redundant requisite MATH2200\n",
      "-MESC has redundant requisite ES2110\n",
      "-ME3005 has redundant requisite ES1060\n",
      "-ME3060 has redundant requisite ES1060\n",
      "-MESC has redundant requisite ES2120\n",
      "-ME3020 has redundant requisite ES2210\n",
      "-ME3020 has redundant requisite MATH2310\n",
      "-ME3360 has redundant requisite MATH2310\n",
      "-ME3040 has redundant requisite ES2310\n",
      "-ME3360 has redundant requisite ES2310\n",
      "-ME3450 has redundant requisite ES2310\n",
      "-ME3160 has redundant requisite ES2330\n",
      "-ME3360 has redundant requisite ES2330\n",
      "-ME3010 has redundant requisite ES2410\n",
      "-ME3170 has redundant requisite ES2410\n",
      "-ME3160 has redundant requisite MESC\n",
      "-ME4060 has redundant requisite MESC\n",
      "-ME4020 has redundant requisite MESC\n",
      "-ME4150 has redundant requisite MESC\n",
      "-ME4070 has redundant requisite MESC\n",
      "\n",
      "\u001b[33mWARNING: Curriculum was created, but is invalid:\u001b[39m\n",
      "Curriculum 'Music Education (Brass Woodwind Percussion)' has extraneous requisites:\n",
      "-MUSC2030 has redundant requisite MUSC1030\n",
      "-MUSC2035 has redundant requisite MUSC1035\n",
      "-MUSC4070 has redundant requisite MUSC2030\n",
      "-MUSC4070 has redundant requisite MUSC2035\n",
      "\n"
     ]
    },
    {
     "name": "stdout",
     "output_type": "stream",
     "text": [
      "\u001b[33mWARNING: Curriculum was created, but is invalid:\u001b[39m\n",
      "Curriculum 'Music Education (String)' has extraneous requisites:\n",
      "-MUSC2030 has redundant requisite MUSC1030\n",
      "-MUSC2035 has redundant requisite MUSC1035\n",
      "-MUSC4070 has redundant requisite MUSC2030\n",
      "-MUSC4070 has redundant requisite MUSC2035\n",
      "\n",
      "\u001b[33mWARNING: Curriculum was created, but is invalid:\u001b[39m\n",
      "Curriculum 'Music Education (Vocal)' has extraneous requisites:\n",
      "-MUSC2030 has redundant requisite MUSC1030\n",
      "-MUSC2035 has redundant requisite MUSC1035\n",
      "-MUSC4070 has redundant requisite MUSC2030\n",
      "-MUSC4070 has redundant requisite MUSC2035\n",
      "\n",
      "\u001b[33mWARNING: Curriculum was created, but is invalid:\u001b[39m\n",
      "Curriculum 'Mechanical Engineering' has extraneous requisites:\n",
      "-PHYS 2220 has redundant requisite MATH 1210\n",
      "-ENGR 2030 has redundant requisite MATH 1220\n",
      "-MAE 3210 has redundant requisite MATH 2210\n",
      "-MAE 3440 has redundant requisite MAE 2300\n",
      "\n",
      "\u001b[33mWARNING: Curriculum was created, but is invalid:\u001b[39m\n",
      "Curriculum 'Music Education' has extraneous requisites:\n",
      "-MUSC 3180 has redundant requisite MUSC 1110\n",
      "-MUSC 3180 has redundant requisite MUSC 1120\n",
      "\n"
     ]
    }
   ],
   "source": [
    "schools_plans = Dict{String, Dict{String, DegreePlan}}()\n",
    "for school in schools\n",
    "  plans = Dict{String, DegreePlan}()\n",
    "  programs = glob(\"*\", \"./cluster/$(school)\")\n",
    "  for program in programs\n",
    "    program_name = replace(split(\"$(program)\", \"/\")[end], \".csv\" => \"\")\n",
    "    plans[program_name] = read_csv(program)\n",
    "    complexity(plans[program_name].curriculum)  # compute the curricular complexity of the degree plan\n",
    "  end\n",
    "  schools_plans[school] = plans\n",
    "end"
   ]
  },
  {
   "cell_type": "markdown",
   "metadata": {},
   "source": [
    "You can now access and visualize the degree plan associate witha a particular program at a particular school as follows:"
   ]
  },
  {
   "cell_type": "code",
   "execution_count": 4,
   "metadata": {
    "scrolled": false
   },
   "outputs": [
    {
     "name": "stderr",
     "output_type": "stream",
     "text": [
      "┌ Warning: Accessing `scope.id` is deprecated, use `scopeid(scope)` instead.\n",
      "│   caller = ip:0x0\n",
      "└ @ Core :-1\n"
     ]
    },
    {
     "data": {
      "application/vnd.webio.node+json": {
       "children": [
        {
         "children": [
          ""
         ],
         "instanceArgs": {
          "namespace": "html",
          "tag": "iframe"
         },
         "nodeType": "DOM",
         "props": {
          "events": {
           "load": "(function (){this.contentWindow.postMessage({\"options\":{\"hideTerms\":false,\"edit\":false},\"curriculum\":{\"name\":\"Music Education\",\"dp_name\":\"4-Year Plan\",\"curriculum_terms\":[{\"name\":\"Term 1\",\"curriculum_items\":[{\"curriculum_requisites\":[],\"name\":\" \",\"metrics\":{\"complexity\":3.0,\"centrality\":0,\"blocking factor\":1,\"delay factor\":2.0},\"nameSub\":\"CO 150\",\"id\":1,\"credits\":3,\"nameCanonical\":\"\"},{\"curriculum_requisites\":[],\"name\":\" \",\"metrics\":{\"complexity\":22.0,\"centrality\":0,\"blocking factor\":14,\"delay factor\":8.0},\"nameSub\":\"MU 117\",\"id\":2,\"credits\":3,\"nameCanonical\":\"\"},{\"curriculum_requisites\":[],\"name\":\" \",\"metrics\":{\"complexity\":7.0,\"centrality\":0,\"blocking factor\":3,\"delay factor\":4.0},\"nameSub\":\"MU 127\",\"id\":3,\"credits\":1,\"nameCanonical\":\"\"},{\"curriculum_requisites\":[],\"name\":\" \",\"metrics\":{\"complexity\":4.0,\"centrality\":0,\"blocking factor\":2,\"delay factor\":2.0},\"nameSub\":\"MU 131\",\"id\":4,\"credits\":3,\"nameCanonical\":\"\"},{\"curriculum_requisites\":[],\"name\":\" \",\"metrics\":{\"complexity\":3.0,\"centrality\":0,\"blocking factor\":1,\"delay factor\":2.0},\"nameSub\":\"MU 150\",\"id\":5,\"credits\":1,\"nameCanonical\":\"\"},{\"curriculum_requisites\":[],\"name\":\" \",\"metrics\":{\"complexity\":1.0,\"centrality\":0,\"blocking factor\":0,\"delay factor\":1.0},\"nameSub\":\"MU 251\",\"id\":6,\"credits\":1,\"nameCanonical\":\"\"},{\"curriculum_requisites\":[],\"name\":\" \",\"metrics\":{\"complexity\":1.0,\"centrality\":0,\"blocking factor\":0,\"delay factor\":1.0},\"nameSub\":\"MU 272\",\"id\":7,\"credits\":1,\"nameCanonical\":\"\"},{\"curriculum_requisites\":[],\"name\":\" \",\"metrics\":{\"complexity\":1.0,\"centrality\":0,\"blocking factor\":0,\"delay factor\":1.0},\"nameSub\":\"MU 286\",\"id\":8,\"credits\":3,\"nameCanonical\":\"\"},{\"curriculum_requisites\":[],\"name\":\" \",\"metrics\":{\"complexity\":1.0,\"centrality\":0,\"blocking factor\":0,\"delay factor\":1.0},\"nameSub\":\"ENSEMBLE\",\"id\":9,\"credits\":1,\"nameCanonical\":\"\"}],\"id\":1},{\"name\":\"Term 2\",\"curriculum_items\":[{\"curriculum_requisites\":[{\"source_id\":2,\"target_id\":10,\"type\":\"prereq\"}],\"name\":\" \",\"metrics\":{\"complexity\":19.0,\"centrality\":48,\"blocking factor\":11,\"delay factor\":8.0},\"nameSub\":\"MU 118\",\"id\":10,\"credits\":3,\"nameCanonical\":\"\"},{\"curriculum_requisites\":[{\"source_id\":3,\"target_id\":11,\"type\":\"prereq\"}],\"name\":\" \",\"metrics\":{\"complexity\":6.0,\"centrality\":4,\"blocking factor\":2,\"delay factor\":4.0},\"nameSub\":\"MU 128\",\"id\":11,\"credits\":1,\"nameCanonical\":\"\"},{\"curriculum_requisites\":[{\"source_id\":5,\"target_id\":12,\"type\":\"prereq\"}],\"name\":\" \",\"metrics\":{\"complexity\":2.0,\"centrality\":0,\"blocking factor\":0,\"delay factor\":2.0},\"nameSub\":\"MU 151A\",\"id\":12,\"credits\":1,\"nameCanonical\":\"\"},{\"curriculum_requisites\":[],\"name\":\" \",\"metrics\":{\"complexity\":1.0,\"centrality\":0,\"blocking factor\":0,\"delay factor\":1.0},\"nameSub\":\"MU 252B\",\"id\":13,\"credits\":2,\"nameCanonical\":\"\"},{\"curriculum_requisites\":[],\"name\":\" \",\"metrics\":{\"complexity\":1.0,\"centrality\":0,\"blocking factor\":0,\"delay factor\":1.0},\"nameSub\":\"MU 272\",\"id\":14,\"credits\":1,\"nameCanonical\":\"\"},{\"curriculum_requisites\":[],\"name\":\" \",\"metrics\":{\"complexity\":1.0,\"centrality\":0,\"blocking factor\":0,\"delay factor\":1.0},\"nameSub\":\"ENSEMBLE\",\"id\":15,\"credits\":1,\"nameCanonical\":\"\"},{\"curriculum_requisites\":[],\"name\":\" \",\"metrics\":{\"complexity\":1.0,\"centrality\":0,\"blocking factor\":0,\"delay factor\":1.0},\"nameSub\":\"AUCC 3B\",\"id\":16,\"credits\":3,\"nameCanonical\":\"\"},{\"curriculum_requisites\":[],\"name\":\" \",\"metrics\":{\"complexity\":1.0,\"centrality\":0,\"blocking factor\":0,\"delay factor\":1.0},\"nameSub\":\"AUCC MATH\",\"id\":17,\"credits\":3,\"nameCanonical\":\"\"}],\"id\":2},{\"name\":\"Term 3\",\"curriculum_items\":[{\"curriculum_requisites\":[],\"name\":\" \",\"metrics\":{\"complexity\":16.0,\"centrality\":0,\"blocking factor\":8,\"delay factor\":8.0},\"nameSub\":\"EDUC 275\",\"id\":18,\"credits\":3,\"nameCanonical\":\"\"},{\"curriculum_requisites\":[{\"source_id\":10,\"target_id\":19,\"type\":\"prereq\"}],\"name\":\" \",\"metrics\":{\"complexity\":16.0,\"centrality\":42,\"blocking factor\":8,\"delay factor\":8.0},\"nameSub\":\"MU 217\",\"id\":19,\"credits\":3,\"nameCanonical\":\"\"},{\"curriculum_requisites\":[{\"source_id\":11,\"target_id\":20,\"type\":\"prereq\"}],\"name\":\" \",\"metrics\":{\"complexity\":5.0,\"centrality\":4,\"blocking factor\":1,\"delay factor\":4.0},\"nameSub\":\"MU 227\",\"id\":20,\"credits\":1,\"nameCanonical\":\"\"},{\"curriculum_requisites\":[],\"name\":\" \",\"metrics\":{\"complexity\":1.0,\"centrality\":0,\"blocking factor\":0,\"delay factor\":1.0},\"nameSub\":\"MU 252C\",\"id\":21,\"credits\":1,\"nameCanonical\":\"\"},{\"curriculum_requisites\":[],\"name\":\" \",\"metrics\":{\"complexity\":1.0,\"centrality\":0,\"blocking factor\":0,\"delay factor\":1.0},\"nameSub\":\"MU 272\",\"id\":22,\"credits\":1,\"nameCanonical\":\"\"},{\"curriculum_requisites\":[],\"name\":\" \",\"metrics\":{\"complexity\":1.0,\"centrality\":0,\"blocking factor\":0,\"delay factor\":1.0},\"nameSub\":\"ENSEMBLE\",\"id\":23,\"credits\":1,\"nameCanonical\":\"\"},{\"curriculum_requisites\":[{\"source_id\":1,\"target_id\":24,\"type\":\"prereq\"}],\"name\":\" \",\"metrics\":{\"complexity\":2.0,\"centrality\":0,\"blocking factor\":0,\"delay factor\":2.0},\"nameSub\":\"AUCC Advanced Writing\",\"id\":24,\"credits\":3,\"nameCanonical\":\"\"},{\"curriculum_requisites\":[],\"name\":\" \",\"metrics\":{\"complexity\":1.0,\"centrality\":0,\"blocking factor\":0,\"delay factor\":1.0},\"nameSub\":\"AUCC 3D\",\"id\":25,\"credits\":3,\"nameCanonical\":\"\"}],\"id\":3},{\"name\":\"Term 4\",\"curriculum_items\":[{\"curriculum_requisites\":[],\"name\":\" \",\"metrics\":{\"complexity\":16.0,\"centrality\":0,\"blocking factor\":8,\"delay factor\":8.0},\"nameSub\":\"EDUC 340\",\"id\":26,\"credits\":3,\"nameCanonical\":\"\"},{\"curriculum_requisites\":[{\"source_id\":19,\"target_id\":27,\"type\":\"prereq\"}],\"name\":\" \",\"metrics\":{\"complexity\":7.0,\"centrality\":10,\"blocking factor\":2,\"delay factor\":5.0},\"nameSub\":\"MU 218\",\"id\":27,\"credits\":3,\"nameCanonical\":\"\"},{\"curriculum_requisites\":[{\"source_id\":20,\"target_id\":28,\"type\":\"prereq\"}],\"name\":\" \",\"metrics\":{\"complexity\":4.0,\"centrality\":0,\"blocking factor\":0,\"delay factor\":4.0},\"nameSub\":\"MU 228\",\"id\":28,\"credits\":1,\"nameCanonical\":\"\"},{\"curriculum_requisites\":[],\"name\":\" \",\"metrics\":{\"complexity\":1.0,\"centrality\":0,\"blocking factor\":0,\"delay factor\":1.0},\"nameSub\":\"MU 252A\",\"id\":29,\"credits\":2,\"nameCanonical\":\"\"},{\"curriculum_requisites\":[],\"name\":\" \",\"metrics\":{\"complexity\":1.0,\"centrality\":0,\"blocking factor\":0,\"delay factor\":1.0},\"nameSub\":\"MU 272\",\"id\":30,\"credits\":1,\"nameCanonical\":\"\"},{\"curriculum_requisites\":[],\"name\":\" \",\"metrics\":{\"complexity\":1.0,\"centrality\":0,\"blocking factor\":0,\"delay factor\":1.0},\"nameSub\":\"ENSEMBLE\",\"id\":31,\"credits\":1,\"nameCanonical\":\"\"},{\"curriculum_requisites\":[],\"name\":\" \",\"metrics\":{\"complexity\":1.0,\"centrality\":0,\"blocking factor\":0,\"delay factor\":1.0},\"nameSub\":\"AUCC 3A\",\"id\":32,\"credits\":4,\"nameCanonical\":\"\"}],\"id\":4},{\"name\":\"Term 5\",\"curriculum_items\":[{\"curriculum_requisites\":[{\"source_id\":26,\"target_id\":33,\"type\":\"prereq\"},{\"source_id\":18,\"target_id\":33,\"type\":\"prereq\"}],\"name\":\" \",\"metrics\":{\"complexity\":9.0,\"centrality\":30,\"blocking factor\":4,\"delay factor\":5.0},\"nameSub\":\"EDUC 331\",\"id\":33,\"credits\":2,\"nameCanonical\":\"\"},{\"curriculum_requisites\":[],\"name\":\" \",\"metrics\":{\"complexity\":1.0,\"centrality\":0,\"blocking factor\":0,\"delay factor\":1.0},\"nameSub\":\"EDUC 474\",\"id\":34,\"credits\":2,\"nameCanonical\":\"\"},{\"curriculum_requisites\":[{\"source_id\":2,\"target_id\":35,\"type\":\"prereq\"}],\"name\":\" \",\"metrics\":{\"complexity\":4.0,\"centrality\":3,\"blocking factor\":1,\"delay factor\":3.0},\"nameSub\":\"MU 254\",\"id\":35,\"credits\":2,\"nameCanonical\":\"\"},{\"curriculum_requisites\":[{\"source_id\":27,\"target_id\":36,\"type\":\"prereq\"}],\"name\":\" \",\"metrics\":{\"complexity\":5.0,\"centrality\":0,\"blocking factor\":0,\"delay factor\":5.0},\"nameSub\":\"MU 317\",\"id\":36,\"credits\":2,\"nameCanonical\":\"\"},{\"curriculum_requisites\":[{\"source_id\":4,\"target_id\":37,\"type\":\"prereq\"},{\"source_id\":10,\"target_id\":37,\"type\":\"prereq\"}],\"name\":\" \",\"metrics\":{\"complexity\":3.0,\"centrality\":0,\"blocking factor\":0,\"delay factor\":3.0},\"nameSub\":\"MU 334\",\"id\":37,\"credits\":3,\"nameCanonical\":\"\"},{\"curriculum_requisites\":[],\"name\":\" \",\"metrics\":{\"complexity\":1.0,\"centrality\":0,\"blocking factor\":0,\"delay factor\":1.0},\"nameSub\":\"MU 472\",\"id\":38,\"credits\":1,\"nameCanonical\":\"\"},{\"curriculum_requisites\":[],\"name\":\" \",\"metrics\":{\"complexity\":1.0,\"centrality\":0,\"blocking factor\":0,\"delay factor\":1.0},\"nameSub\":\"ENSEMBLE\",\"id\":39,\"credits\":1,\"nameCanonical\":\"\"},{\"curriculum_requisites\":[],\"name\":\" \",\"metrics\":{\"complexity\":1.0,\"centrality\":0,\"blocking factor\":0,\"delay factor\":1.0},\"nameSub\":\"AUCC 3A\",\"id\":40,\"credits\":3,\"nameCanonical\":\"\"}],\"id\":5},{\"name\":\"Term 6\",\"curriculum_items\":[{\"curriculum_requisites\":[{\"source_id\":26,\"target_id\":41,\"type\":\"prereq\"},{\"source_id\":42,\"target_id\":41,\"type\":\"coreq\"},{\"source_id\":18,\"target_id\":41,\"type\":\"prereq\"}],\"name\":\" \",\"metrics\":{\"complexity\":12.0,\"centrality\":108,\"blocking factor\":4,\"delay factor\":8.0},\"nameSub\":\"EDUC 350\",\"id\":41,\"credits\":3,\"nameCanonical\":\"\"},{\"curriculum_requisites\":[{\"source_id\":26,\"target_id\":42,\"type\":\"prereq\"},{\"source_id\":43,\"target_id\":42,\"type\":\"coreq\"},{\"source_id\":18,\"target_id\":42,\"type\":\"prereq\"}],\"name\":\" \",\"metrics\":{\"complexity\":13.0,\"centrality\":144,\"blocking factor\":5,\"delay factor\":8.0},\"nameSub\":\"EDUC 386\",\"id\":42,\"credits\":1,\"nameCanonical\":\"\"},{\"curriculum_requisites\":[{\"source_id\":26,\"target_id\":43,\"type\":\"prereq\"},{\"source_id\":18,\"target_id\":43,\"type\":\"prereq\"}],\"name\":\" \",\"metrics\":{\"complexity\":14.0,\"centrality\":78,\"blocking factor\":6,\"delay factor\":8.0},\"nameSub\":\"EDUC 475\",\"id\":43,\"credits\":1,\"nameCanonical\":\"\"},{\"curriculum_requisites\":[{\"source_id\":27,\"target_id\":44,\"type\":\"prereq\"}],\"name\":\" \",\"metrics\":{\"complexity\":5.0,\"centrality\":0,\"blocking factor\":0,\"delay factor\":5.0},\"nameSub\":\"MU 318\",\"id\":44,\"credits\":1,\"nameCanonical\":\"\"},{\"curriculum_requisites\":[{\"source_id\":4,\"target_id\":45,\"type\":\"prereq\"},{\"source_id\":10,\"target_id\":45,\"type\":\"prereq\"}],\"name\":\" \",\"metrics\":{\"complexity\":3.0,\"centrality\":0,\"blocking factor\":0,\"delay factor\":3.0},\"nameSub\":\"MU 335\",\"id\":45,\"credits\":1,\"nameCanonical\":\"\"},{\"curriculum_requisites\":[{\"source_id\":35,\"target_id\":46,\"type\":\"prereq\"}],\"name\":\" \",\"metrics\":{\"complexity\":3.0,\"centrality\":0,\"blocking factor\":0,\"delay factor\":3.0},\"nameSub\":\"MU 356\",\"id\":46,\"credits\":1,\"nameCanonical\":\"\"},{\"curriculum_requisites\":[],\"name\":\" \",\"metrics\":{\"complexity\":1.0,\"centrality\":0,\"blocking factor\":0,\"delay factor\":1.0},\"nameSub\":\"MU ELECTIVE\",\"id\":47,\"credits\":1,\"nameCanonical\":\"\"},{\"curriculum_requisites\":[],\"name\":\" \",\"metrics\":{\"complexity\":1.0,\"centrality\":0,\"blocking factor\":0,\"delay factor\":1.0},\"nameSub\":\"MU 472\",\"id\":48,\"credits\":1,\"nameCanonical\":\"\"},{\"curriculum_requisites\":[],\"name\":\" \",\"metrics\":{\"complexity\":1.0,\"centrality\":0,\"blocking factor\":0,\"delay factor\":1.0},\"nameSub\":\"ENSEMBLE\",\"id\":49,\"credits\":1,\"nameCanonical\":\"\"}],\"id\":6},{\"name\":\"Term 7\",\"curriculum_items\":[{\"curriculum_requisites\":[{\"source_id\":42,\"target_id\":50,\"type\":\"prereq\"},{\"source_id\":51,\"target_id\":50,\"type\":\"coreq\"},{\"source_id\":41,\"target_id\":50,\"type\":\"prereq\"},{\"source_id\":33,\"target_id\":50,\"type\":\"prereq\"}],\"name\":\" \",\"metrics\":{\"complexity\":11.0,\"centrality\":240,\"blocking factor\":3,\"delay factor\":8.0},\"nameSub\":\"EDUC 450\",\"id\":50,\"credits\":4,\"nameCanonical\":\"\"},{\"curriculum_requisites\":[{\"source_id\":19,\"target_id\":51,\"type\":\"prereq\"},{\"source_id\":52,\"target_id\":51,\"type\":\"coreq\"}],\"name\":\" \",\"metrics\":{\"complexity\":12.0,\"centrality\":54,\"blocking factor\":4,\"delay factor\":8.0},\"nameSub\":\"EDUC 477\",\"id\":51,\"credits\":2,\"nameCanonical\":\"\"},{\"curriculum_requisites\":[],\"name\":\" \",\"metrics\":{\"complexity\":11.0,\"centrality\":0,\"blocking factor\":5,\"delay factor\":6.0},\"nameSub\":\"EDUC 486E\",\"id\":52,\"credits\":1,\"nameCanonical\":\"\"},{\"curriculum_requisites\":[],\"name\":\" \",\"metrics\":{\"complexity\":1.0,\"centrality\":0,\"blocking factor\":0,\"delay factor\":1.0},\"nameSub\":\"MU 252D\",\"id\":53,\"credits\":1,\"nameCanonical\":\"\"},{\"curriculum_requisites\":[],\"name\":\" \",\"metrics\":{\"complexity\":1.0,\"centrality\":0,\"blocking factor\":0,\"delay factor\":1.0},\"nameSub\":\"MU 425\",\"id\":54,\"credits\":2,\"nameCanonical\":\"\"},{\"curriculum_requisites\":[],\"name\":\" \",\"metrics\":{\"complexity\":1.0,\"centrality\":0,\"blocking factor\":0,\"delay factor\":1.0},\"nameSub\":\"MU 471\",\"id\":55,\"credits\":1,\"nameCanonical\":\"\"},{\"curriculum_requisites\":[],\"name\":\" \",\"metrics\":{\"complexity\":1.0,\"centrality\":0,\"blocking factor\":0,\"delay factor\":1.0},\"nameSub\":\"MU 472\",\"id\":56,\"credits\":1,\"nameCanonical\":\"\"},{\"curriculum_requisites\":[],\"name\":\" \",\"metrics\":{\"complexity\":1.0,\"centrality\":0,\"blocking factor\":0,\"delay factor\":1.0},\"nameSub\":\"ENSEMBLE\",\"id\":57,\"credits\":1,\"nameCanonical\":\"\"},{\"curriculum_requisites\":[],\"name\":\" \",\"metrics\":{\"complexity\":1.0,\"centrality\":0,\"blocking factor\":0,\"delay factor\":1.0},\"nameSub\":\"AUCC 3E\",\"id\":58,\"credits\":3,\"nameCanonical\":\"\"}],\"id\":7},{\"name\":\"Term 8\",\"curriculum_items\":[{\"curriculum_requisites\":[{\"source_id\":50,\"target_id\":59,\"type\":\"prereq\"},{\"source_id\":60,\"target_id\":59,\"type\":\"coreq\"},{\"source_id\":51,\"target_id\":59,\"type\":\"prereq\"}],\"name\":\" \",\"metrics\":{\"complexity\":8.0,\"centrality\":0,\"blocking factor\":0,\"delay factor\":8.0},\"nameSub\":\"EDUC 485A\",\"id\":59,\"credits\":6,\"nameCanonical\":\"\"},{\"curriculum_requisites\":[{\"source_id\":50,\"target_id\":60,\"type\":\"prereq\"},{\"source_id\":61,\"target_id\":60,\"type\":\"coreq\"},{\"source_id\":51,\"target_id\":60,\"type\":\"prereq\"}],\"name\":\" \",\"metrics\":{\"complexity\":9.0,\"centrality\":184,\"blocking factor\":1,\"delay factor\":8.0},\"nameSub\":\"EDUC 485B\",\"id\":60,\"credits\":6,\"nameCanonical\":\"\"},{\"curriculum_requisites\":[{\"source_id\":50,\"target_id\":61,\"type\":\"prereq\"}],\"name\":\" \",\"metrics\":{\"complexity\":10.0,\"centrality\":94,\"blocking factor\":2,\"delay factor\":8.0},\"nameSub\":\"EDUC 493A\",\"id\":61,\"credits\":1,\"nameCanonical\":\"\"},{\"curriculum_requisites\":[],\"name\":\" \",\"metrics\":{\"complexity\":1.0,\"centrality\":0,\"blocking factor\":0,\"delay factor\":1.0},\"nameSub\":\"ELECTIVE\",\"id\":62,\"credits\":1,\"nameCanonical\":\"\"}],\"id\":8}],\"institution\":\"Colorado State University\"}},\"*\"); window.removeEventListener(\"message\",window.messageReceived); window.messageReceived=(function (event){return (event.data.curriculum!==undefined) ? (WebIO.setval({\"name\":\"curriculum-data\",\"scope\":\"9534437054002831018\",\"id\":\"ob_01\",\"type\":\"observable\"},event.data.curriculum)) : undefined}); return window.addEventListener(\"message\",window.messageReceived)})"
          },
          "id": "curriculum",
          "src": "http://localhost:8156",
          "style": {
           "border": "none",
           "height": "100vh",
           "margin": "0",
           "padding": "0",
           "width": "100%"
          }
         },
         "type": "node"
        }
       ],
       "instanceArgs": {
        "handlers": {},
        "id": "9534437054002831018",
        "imports": {
         "data": [],
         "type": "async_block"
        },
        "mount_callbacks": [],
        "observables": {
         "curriculum-data": {
          "id": "ob_01",
          "sync": true,
          "value": {
           "curriculum": {
            "curriculum_terms": [
             {
              "curriculum_items": [
               {
                "credits": 3,
                "curriculum_requisites": [],
                "id": 1,
                "metrics": {
                 "blocking factor": 1,
                 "centrality": 0,
                 "complexity": 3,
                 "delay factor": 2
                },
                "name": " ",
                "nameCanonical": "",
                "nameSub": "CO 150"
               },
               {
                "credits": 3,
                "curriculum_requisites": [],
                "id": 2,
                "metrics": {
                 "blocking factor": 14,
                 "centrality": 0,
                 "complexity": 22,
                 "delay factor": 8
                },
                "name": " ",
                "nameCanonical": "",
                "nameSub": "MU 117"
               },
               {
                "credits": 1,
                "curriculum_requisites": [],
                "id": 3,
                "metrics": {
                 "blocking factor": 3,
                 "centrality": 0,
                 "complexity": 7,
                 "delay factor": 4
                },
                "name": " ",
                "nameCanonical": "",
                "nameSub": "MU 127"
               },
               {
                "credits": 3,
                "curriculum_requisites": [],
                "id": 4,
                "metrics": {
                 "blocking factor": 2,
                 "centrality": 0,
                 "complexity": 4,
                 "delay factor": 2
                },
                "name": " ",
                "nameCanonical": "",
                "nameSub": "MU 131"
               },
               {
                "credits": 1,
                "curriculum_requisites": [],
                "id": 5,
                "metrics": {
                 "blocking factor": 1,
                 "centrality": 0,
                 "complexity": 3,
                 "delay factor": 2
                },
                "name": " ",
                "nameCanonical": "",
                "nameSub": "MU 150"
               },
               {
                "credits": 1,
                "curriculum_requisites": [],
                "id": 6,
                "metrics": {
                 "blocking factor": 0,
                 "centrality": 0,
                 "complexity": 1,
                 "delay factor": 1
                },
                "name": " ",
                "nameCanonical": "",
                "nameSub": "MU 251"
               },
               {
                "credits": 1,
                "curriculum_requisites": [],
                "id": 7,
                "metrics": {
                 "blocking factor": 0,
                 "centrality": 0,
                 "complexity": 1,
                 "delay factor": 1
                },
                "name": " ",
                "nameCanonical": "",
                "nameSub": "MU 272"
               },
               {
                "credits": 3,
                "curriculum_requisites": [],
                "id": 8,
                "metrics": {
                 "blocking factor": 0,
                 "centrality": 0,
                 "complexity": 1,
                 "delay factor": 1
                },
                "name": " ",
                "nameCanonical": "",
                "nameSub": "MU 286"
               },
               {
                "credits": 1,
                "curriculum_requisites": [],
                "id": 9,
                "metrics": {
                 "blocking factor": 0,
                 "centrality": 0,
                 "complexity": 1,
                 "delay factor": 1
                },
                "name": " ",
                "nameCanonical": "",
                "nameSub": "ENSEMBLE"
               }
              ],
              "id": 1,
              "name": "Term 1"
             },
             {
              "curriculum_items": [
               {
                "credits": 3,
                "curriculum_requisites": [
                 {
                  "source_id": 2,
                  "target_id": 10,
                  "type": "prereq"
                 }
                ],
                "id": 10,
                "metrics": {
                 "blocking factor": 11,
                 "centrality": 48,
                 "complexity": 19,
                 "delay factor": 8
                },
                "name": " ",
                "nameCanonical": "",
                "nameSub": "MU 118"
               },
               {
                "credits": 1,
                "curriculum_requisites": [
                 {
                  "source_id": 3,
                  "target_id": 11,
                  "type": "prereq"
                 }
                ],
                "id": 11,
                "metrics": {
                 "blocking factor": 2,
                 "centrality": 4,
                 "complexity": 6,
                 "delay factor": 4
                },
                "name": " ",
                "nameCanonical": "",
                "nameSub": "MU 128"
               },
               {
                "credits": 1,
                "curriculum_requisites": [
                 {
                  "source_id": 5,
                  "target_id": 12,
                  "type": "prereq"
                 }
                ],
                "id": 12,
                "metrics": {
                 "blocking factor": 0,
                 "centrality": 0,
                 "complexity": 2,
                 "delay factor": 2
                },
                "name": " ",
                "nameCanonical": "",
                "nameSub": "MU 151A"
               },
               {
                "credits": 2,
                "curriculum_requisites": [],
                "id": 13,
                "metrics": {
                 "blocking factor": 0,
                 "centrality": 0,
                 "complexity": 1,
                 "delay factor": 1
                },
                "name": " ",
                "nameCanonical": "",
                "nameSub": "MU 252B"
               },
               {
                "credits": 1,
                "curriculum_requisites": [],
                "id": 14,
                "metrics": {
                 "blocking factor": 0,
                 "centrality": 0,
                 "complexity": 1,
                 "delay factor": 1
                },
                "name": " ",
                "nameCanonical": "",
                "nameSub": "MU 272"
               },
               {
                "credits": 1,
                "curriculum_requisites": [],
                "id": 15,
                "metrics": {
                 "blocking factor": 0,
                 "centrality": 0,
                 "complexity": 1,
                 "delay factor": 1
                },
                "name": " ",
                "nameCanonical": "",
                "nameSub": "ENSEMBLE"
               },
               {
                "credits": 3,
                "curriculum_requisites": [],
                "id": 16,
                "metrics": {
                 "blocking factor": 0,
                 "centrality": 0,
                 "complexity": 1,
                 "delay factor": 1
                },
                "name": " ",
                "nameCanonical": "",
                "nameSub": "AUCC 3B"
               },
               {
                "credits": 3,
                "curriculum_requisites": [],
                "id": 17,
                "metrics": {
                 "blocking factor": 0,
                 "centrality": 0,
                 "complexity": 1,
                 "delay factor": 1
                },
                "name": " ",
                "nameCanonical": "",
                "nameSub": "AUCC MATH"
               }
              ],
              "id": 2,
              "name": "Term 2"
             },
             {
              "curriculum_items": [
               {
                "credits": 3,
                "curriculum_requisites": [],
                "id": 18,
                "metrics": {
                 "blocking factor": 8,
                 "centrality": 0,
                 "complexity": 16,
                 "delay factor": 8
                },
                "name": " ",
                "nameCanonical": "",
                "nameSub": "EDUC 275"
               },
               {
                "credits": 3,
                "curriculum_requisites": [
                 {
                  "source_id": 10,
                  "target_id": 19,
                  "type": "prereq"
                 }
                ],
                "id": 19,
                "metrics": {
                 "blocking factor": 8,
                 "centrality": 42,
                 "complexity": 16,
                 "delay factor": 8
                },
                "name": " ",
                "nameCanonical": "",
                "nameSub": "MU 217"
               },
               {
                "credits": 1,
                "curriculum_requisites": [
                 {
                  "source_id": 11,
                  "target_id": 20,
                  "type": "prereq"
                 }
                ],
                "id": 20,
                "metrics": {
                 "blocking factor": 1,
                 "centrality": 4,
                 "complexity": 5,
                 "delay factor": 4
                },
                "name": " ",
                "nameCanonical": "",
                "nameSub": "MU 227"
               },
               {
                "credits": 1,
                "curriculum_requisites": [],
                "id": 21,
                "metrics": {
                 "blocking factor": 0,
                 "centrality": 0,
                 "complexity": 1,
                 "delay factor": 1
                },
                "name": " ",
                "nameCanonical": "",
                "nameSub": "MU 252C"
               },
               {
                "credits": 1,
                "curriculum_requisites": [],
                "id": 22,
                "metrics": {
                 "blocking factor": 0,
                 "centrality": 0,
                 "complexity": 1,
                 "delay factor": 1
                },
                "name": " ",
                "nameCanonical": "",
                "nameSub": "MU 272"
               },
               {
                "credits": 1,
                "curriculum_requisites": [],
                "id": 23,
                "metrics": {
                 "blocking factor": 0,
                 "centrality": 0,
                 "complexity": 1,
                 "delay factor": 1
                },
                "name": " ",
                "nameCanonical": "",
                "nameSub": "ENSEMBLE"
               },
               {
                "credits": 3,
                "curriculum_requisites": [
                 {
                  "source_id": 1,
                  "target_id": 24,
                  "type": "prereq"
                 }
                ],
                "id": 24,
                "metrics": {
                 "blocking factor": 0,
                 "centrality": 0,
                 "complexity": 2,
                 "delay factor": 2
                },
                "name": " ",
                "nameCanonical": "",
                "nameSub": "AUCC Advanced Writing"
               },
               {
                "credits": 3,
                "curriculum_requisites": [],
                "id": 25,
                "metrics": {
                 "blocking factor": 0,
                 "centrality": 0,
                 "complexity": 1,
                 "delay factor": 1
                },
                "name": " ",
                "nameCanonical": "",
                "nameSub": "AUCC 3D"
               }
              ],
              "id": 3,
              "name": "Term 3"
             },
             {
              "curriculum_items": [
               {
                "credits": 3,
                "curriculum_requisites": [],
                "id": 26,
                "metrics": {
                 "blocking factor": 8,
                 "centrality": 0,
                 "complexity": 16,
                 "delay factor": 8
                },
                "name": " ",
                "nameCanonical": "",
                "nameSub": "EDUC 340"
               },
               {
                "credits": 3,
                "curriculum_requisites": [
                 {
                  "source_id": 19,
                  "target_id": 27,
                  "type": "prereq"
                 }
                ],
                "id": 27,
                "metrics": {
                 "blocking factor": 2,
                 "centrality": 10,
                 "complexity": 7,
                 "delay factor": 5
                },
                "name": " ",
                "nameCanonical": "",
                "nameSub": "MU 218"
               },
               {
                "credits": 1,
                "curriculum_requisites": [
                 {
                  "source_id": 20,
                  "target_id": 28,
                  "type": "prereq"
                 }
                ],
                "id": 28,
                "metrics": {
                 "blocking factor": 0,
                 "centrality": 0,
                 "complexity": 4,
                 "delay factor": 4
                },
                "name": " ",
                "nameCanonical": "",
                "nameSub": "MU 228"
               },
               {
                "credits": 2,
                "curriculum_requisites": [],
                "id": 29,
                "metrics": {
                 "blocking factor": 0,
                 "centrality": 0,
                 "complexity": 1,
                 "delay factor": 1
                },
                "name": " ",
                "nameCanonical": "",
                "nameSub": "MU 252A"
               },
               {
                "credits": 1,
                "curriculum_requisites": [],
                "id": 30,
                "metrics": {
                 "blocking factor": 0,
                 "centrality": 0,
                 "complexity": 1,
                 "delay factor": 1
                },
                "name": " ",
                "nameCanonical": "",
                "nameSub": "MU 272"
               },
               {
                "credits": 1,
                "curriculum_requisites": [],
                "id": 31,
                "metrics": {
                 "blocking factor": 0,
                 "centrality": 0,
                 "complexity": 1,
                 "delay factor": 1
                },
                "name": " ",
                "nameCanonical": "",
                "nameSub": "ENSEMBLE"
               },
               {
                "credits": 4,
                "curriculum_requisites": [],
                "id": 32,
                "metrics": {
                 "blocking factor": 0,
                 "centrality": 0,
                 "complexity": 1,
                 "delay factor": 1
                },
                "name": " ",
                "nameCanonical": "",
                "nameSub": "AUCC 3A"
               }
              ],
              "id": 4,
              "name": "Term 4"
             },
             {
              "curriculum_items": [
               {
                "credits": 2,
                "curriculum_requisites": [
                 {
                  "source_id": 26,
                  "target_id": 33,
                  "type": "prereq"
                 },
                 {
                  "source_id": 18,
                  "target_id": 33,
                  "type": "prereq"
                 }
                ],
                "id": 33,
                "metrics": {
                 "blocking factor": 4,
                 "centrality": 30,
                 "complexity": 9,
                 "delay factor": 5
                },
                "name": " ",
                "nameCanonical": "",
                "nameSub": "EDUC 331"
               },
               {
                "credits": 2,
                "curriculum_requisites": [],
                "id": 34,
                "metrics": {
                 "blocking factor": 0,
                 "centrality": 0,
                 "complexity": 1,
                 "delay factor": 1
                },
                "name": " ",
                "nameCanonical": "",
                "nameSub": "EDUC 474"
               },
               {
                "credits": 2,
                "curriculum_requisites": [
                 {
                  "source_id": 2,
                  "target_id": 35,
                  "type": "prereq"
                 }
                ],
                "id": 35,
                "metrics": {
                 "blocking factor": 1,
                 "centrality": 3,
                 "complexity": 4,
                 "delay factor": 3
                },
                "name": " ",
                "nameCanonical": "",
                "nameSub": "MU 254"
               },
               {
                "credits": 2,
                "curriculum_requisites": [
                 {
                  "source_id": 27,
                  "target_id": 36,
                  "type": "prereq"
                 }
                ],
                "id": 36,
                "metrics": {
                 "blocking factor": 0,
                 "centrality": 0,
                 "complexity": 5,
                 "delay factor": 5
                },
                "name": " ",
                "nameCanonical": "",
                "nameSub": "MU 317"
               },
               {
                "credits": 3,
                "curriculum_requisites": [
                 {
                  "source_id": 4,
                  "target_id": 37,
                  "type": "prereq"
                 },
                 {
                  "source_id": 10,
                  "target_id": 37,
                  "type": "prereq"
                 }
                ],
                "id": 37,
                "metrics": {
                 "blocking factor": 0,
                 "centrality": 0,
                 "complexity": 3,
                 "delay factor": 3
                },
                "name": " ",
                "nameCanonical": "",
                "nameSub": "MU 334"
               },
               {
                "credits": 1,
                "curriculum_requisites": [],
                "id": 38,
                "metrics": {
                 "blocking factor": 0,
                 "centrality": 0,
                 "complexity": 1,
                 "delay factor": 1
                },
                "name": " ",
                "nameCanonical": "",
                "nameSub": "MU 472"
               },
               {
                "credits": 1,
                "curriculum_requisites": [],
                "id": 39,
                "metrics": {
                 "blocking factor": 0,
                 "centrality": 0,
                 "complexity": 1,
                 "delay factor": 1
                },
                "name": " ",
                "nameCanonical": "",
                "nameSub": "ENSEMBLE"
               },
               {
                "credits": 3,
                "curriculum_requisites": [],
                "id": 40,
                "metrics": {
                 "blocking factor": 0,
                 "centrality": 0,
                 "complexity": 1,
                 "delay factor": 1
                },
                "name": " ",
                "nameCanonical": "",
                "nameSub": "AUCC 3A"
               }
              ],
              "id": 5,
              "name": "Term 5"
             },
             {
              "curriculum_items": [
               {
                "credits": 3,
                "curriculum_requisites": [
                 {
                  "source_id": 26,
                  "target_id": 41,
                  "type": "prereq"
                 },
                 {
                  "source_id": 42,
                  "target_id": 41,
                  "type": "coreq"
                 },
                 {
                  "source_id": 18,
                  "target_id": 41,
                  "type": "prereq"
                 }
                ],
                "id": 41,
                "metrics": {
                 "blocking factor": 4,
                 "centrality": 108,
                 "complexity": 12,
                 "delay factor": 8
                },
                "name": " ",
                "nameCanonical": "",
                "nameSub": "EDUC 350"
               },
               {
                "credits": 1,
                "curriculum_requisites": [
                 {
                  "source_id": 26,
                  "target_id": 42,
                  "type": "prereq"
                 },
                 {
                  "source_id": 43,
                  "target_id": 42,
                  "type": "coreq"
                 },
                 {
                  "source_id": 18,
                  "target_id": 42,
                  "type": "prereq"
                 }
                ],
                "id": 42,
                "metrics": {
                 "blocking factor": 5,
                 "centrality": 144,
                 "complexity": 13,
                 "delay factor": 8
                },
                "name": " ",
                "nameCanonical": "",
                "nameSub": "EDUC 386"
               },
               {
                "credits": 1,
                "curriculum_requisites": [
                 {
                  "source_id": 26,
                  "target_id": 43,
                  "type": "prereq"
                 },
                 {
                  "source_id": 18,
                  "target_id": 43,
                  "type": "prereq"
                 }
                ],
                "id": 43,
                "metrics": {
                 "blocking factor": 6,
                 "centrality": 78,
                 "complexity": 14,
                 "delay factor": 8
                },
                "name": " ",
                "nameCanonical": "",
                "nameSub": "EDUC 475"
               },
               {
                "credits": 1,
                "curriculum_requisites": [
                 {
                  "source_id": 27,
                  "target_id": 44,
                  "type": "prereq"
                 }
                ],
                "id": 44,
                "metrics": {
                 "blocking factor": 0,
                 "centrality": 0,
                 "complexity": 5,
                 "delay factor": 5
                },
                "name": " ",
                "nameCanonical": "",
                "nameSub": "MU 318"
               },
               {
                "credits": 1,
                "curriculum_requisites": [
                 {
                  "source_id": 4,
                  "target_id": 45,
                  "type": "prereq"
                 },
                 {
                  "source_id": 10,
                  "target_id": 45,
                  "type": "prereq"
                 }
                ],
                "id": 45,
                "metrics": {
                 "blocking factor": 0,
                 "centrality": 0,
                 "complexity": 3,
                 "delay factor": 3
                },
                "name": " ",
                "nameCanonical": "",
                "nameSub": "MU 335"
               },
               {
                "credits": 1,
                "curriculum_requisites": [
                 {
                  "source_id": 35,
                  "target_id": 46,
                  "type": "prereq"
                 }
                ],
                "id": 46,
                "metrics": {
                 "blocking factor": 0,
                 "centrality": 0,
                 "complexity": 3,
                 "delay factor": 3
                },
                "name": " ",
                "nameCanonical": "",
                "nameSub": "MU 356"
               },
               {
                "credits": 1,
                "curriculum_requisites": [],
                "id": 47,
                "metrics": {
                 "blocking factor": 0,
                 "centrality": 0,
                 "complexity": 1,
                 "delay factor": 1
                },
                "name": " ",
                "nameCanonical": "",
                "nameSub": "MU ELECTIVE"
               },
               {
                "credits": 1,
                "curriculum_requisites": [],
                "id": 48,
                "metrics": {
                 "blocking factor": 0,
                 "centrality": 0,
                 "complexity": 1,
                 "delay factor": 1
                },
                "name": " ",
                "nameCanonical": "",
                "nameSub": "MU 472"
               },
               {
                "credits": 1,
                "curriculum_requisites": [],
                "id": 49,
                "metrics": {
                 "blocking factor": 0,
                 "centrality": 0,
                 "complexity": 1,
                 "delay factor": 1
                },
                "name": " ",
                "nameCanonical": "",
                "nameSub": "ENSEMBLE"
               }
              ],
              "id": 6,
              "name": "Term 6"
             },
             {
              "curriculum_items": [
               {
                "credits": 4,
                "curriculum_requisites": [
                 {
                  "source_id": 42,
                  "target_id": 50,
                  "type": "prereq"
                 },
                 {
                  "source_id": 51,
                  "target_id": 50,
                  "type": "coreq"
                 },
                 {
                  "source_id": 41,
                  "target_id": 50,
                  "type": "prereq"
                 },
                 {
                  "source_id": 33,
                  "target_id": 50,
                  "type": "prereq"
                 }
                ],
                "id": 50,
                "metrics": {
                 "blocking factor": 3,
                 "centrality": 240,
                 "complexity": 11,
                 "delay factor": 8
                },
                "name": " ",
                "nameCanonical": "",
                "nameSub": "EDUC 450"
               },
               {
                "credits": 2,
                "curriculum_requisites": [
                 {
                  "source_id": 19,
                  "target_id": 51,
                  "type": "prereq"
                 },
                 {
                  "source_id": 52,
                  "target_id": 51,
                  "type": "coreq"
                 }
                ],
                "id": 51,
                "metrics": {
                 "blocking factor": 4,
                 "centrality": 54,
                 "complexity": 12,
                 "delay factor": 8
                },
                "name": " ",
                "nameCanonical": "",
                "nameSub": "EDUC 477"
               },
               {
                "credits": 1,
                "curriculum_requisites": [],
                "id": 52,
                "metrics": {
                 "blocking factor": 5,
                 "centrality": 0,
                 "complexity": 11,
                 "delay factor": 6
                },
                "name": " ",
                "nameCanonical": "",
                "nameSub": "EDUC 486E"
               },
               {
                "credits": 1,
                "curriculum_requisites": [],
                "id": 53,
                "metrics": {
                 "blocking factor": 0,
                 "centrality": 0,
                 "complexity": 1,
                 "delay factor": 1
                },
                "name": " ",
                "nameCanonical": "",
                "nameSub": "MU 252D"
               },
               {
                "credits": 2,
                "curriculum_requisites": [],
                "id": 54,
                "metrics": {
                 "blocking factor": 0,
                 "centrality": 0,
                 "complexity": 1,
                 "delay factor": 1
                },
                "name": " ",
                "nameCanonical": "",
                "nameSub": "MU 425"
               },
               {
                "credits": 1,
                "curriculum_requisites": [],
                "id": 55,
                "metrics": {
                 "blocking factor": 0,
                 "centrality": 0,
                 "complexity": 1,
                 "delay factor": 1
                },
                "name": " ",
                "nameCanonical": "",
                "nameSub": "MU 471"
               },
               {
                "credits": 1,
                "curriculum_requisites": [],
                "id": 56,
                "metrics": {
                 "blocking factor": 0,
                 "centrality": 0,
                 "complexity": 1,
                 "delay factor": 1
                },
                "name": " ",
                "nameCanonical": "",
                "nameSub": "MU 472"
               },
               {
                "credits": 1,
                "curriculum_requisites": [],
                "id": 57,
                "metrics": {
                 "blocking factor": 0,
                 "centrality": 0,
                 "complexity": 1,
                 "delay factor": 1
                },
                "name": " ",
                "nameCanonical": "",
                "nameSub": "ENSEMBLE"
               },
               {
                "credits": 3,
                "curriculum_requisites": [],
                "id": 58,
                "metrics": {
                 "blocking factor": 0,
                 "centrality": 0,
                 "complexity": 1,
                 "delay factor": 1
                },
                "name": " ",
                "nameCanonical": "",
                "nameSub": "AUCC 3E"
               }
              ],
              "id": 7,
              "name": "Term 7"
             },
             {
              "curriculum_items": [
               {
                "credits": 6,
                "curriculum_requisites": [
                 {
                  "source_id": 50,
                  "target_id": 59,
                  "type": "prereq"
                 },
                 {
                  "source_id": 60,
                  "target_id": 59,
                  "type": "coreq"
                 },
                 {
                  "source_id": 51,
                  "target_id": 59,
                  "type": "prereq"
                 }
                ],
                "id": 59,
                "metrics": {
                 "blocking factor": 0,
                 "centrality": 0,
                 "complexity": 8,
                 "delay factor": 8
                },
                "name": " ",
                "nameCanonical": "",
                "nameSub": "EDUC 485A"
               },
               {
                "credits": 6,
                "curriculum_requisites": [
                 {
                  "source_id": 50,
                  "target_id": 60,
                  "type": "prereq"
                 },
                 {
                  "source_id": 61,
                  "target_id": 60,
                  "type": "coreq"
                 },
                 {
                  "source_id": 51,
                  "target_id": 60,
                  "type": "prereq"
                 }
                ],
                "id": 60,
                "metrics": {
                 "blocking factor": 1,
                 "centrality": 184,
                 "complexity": 9,
                 "delay factor": 8
                },
                "name": " ",
                "nameCanonical": "",
                "nameSub": "EDUC 485B"
               },
               {
                "credits": 1,
                "curriculum_requisites": [
                 {
                  "source_id": 50,
                  "target_id": 61,
                  "type": "prereq"
                 }
                ],
                "id": 61,
                "metrics": {
                 "blocking factor": 2,
                 "centrality": 94,
                 "complexity": 10,
                 "delay factor": 8
                },
                "name": " ",
                "nameCanonical": "",
                "nameSub": "EDUC 493A"
               },
               {
                "credits": 1,
                "curriculum_requisites": [],
                "id": 62,
                "metrics": {
                 "blocking factor": 0,
                 "centrality": 0,
                 "complexity": 1,
                 "delay factor": 1
                },
                "name": " ",
                "nameCanonical": "",
                "nameSub": "ELECTIVE"
               }
              ],
              "id": 8,
              "name": "Term 8"
             }
            ],
            "dp_name": "4-Year Plan",
            "institution": "Colorado State University",
            "name": "Music Education"
           },
           "options": {
            "edit": false,
            "hideTerms": false
           }
          }
         }
        },
        "systemjs_options": null
       },
       "nodeType": "Scope",
       "props": {},
       "type": "node"
      },
      "text/html": [
       "<div\n",
       "    class=\"webio-mountpoint\"\n",
       "    data-webio-mountpoint=\"8366160680185756549\"\n",
       ">\n",
       "    <script>\n",
       "    if (window.require && require.defined && require.defined(\"nbextensions/webio/main\")) {\n",
       "        console.log(\"Jupyter WebIO extension detected, not mounting.\");\n",
       "    } else if (window.WebIO) {\n",
       "        WebIO.mount(\n",
       "            document.querySelector('[data-webio-mountpoint=\"8366160680185756549\"]'),\n",
       "            {\"props\":{},\"nodeType\":\"Scope\",\"type\":\"node\",\"instanceArgs\":{\"imports\":{\"data\":[],\"type\":\"async_block\"},\"id\":\"9534437054002831018\",\"handlers\":{},\"systemjs_options\":null,\"mount_callbacks\":[],\"observables\":{\"curriculum-data\":{\"sync\":true,\"id\":\"ob_01\",\"value\":{\"options\":{\"hideTerms\":false,\"edit\":false},\"curriculum\":{\"name\":\"Music Education\",\"dp_name\":\"4-Year Plan\",\"curriculum_terms\":[{\"name\":\"Term 1\",\"curriculum_items\":[{\"curriculum_requisites\":[],\"name\":\" \",\"metrics\":{\"complexity\":3.0,\"centrality\":0,\"blocking factor\":1,\"delay factor\":2.0},\"nameSub\":\"CO 150\",\"id\":1,\"credits\":3,\"nameCanonical\":\"\"},{\"curriculum_requisites\":[],\"name\":\" \",\"metrics\":{\"complexity\":22.0,\"centrality\":0,\"blocking factor\":14,\"delay factor\":8.0},\"nameSub\":\"MU 117\",\"id\":2,\"credits\":3,\"nameCanonical\":\"\"},{\"curriculum_requisites\":[],\"name\":\" \",\"metrics\":{\"complexity\":7.0,\"centrality\":0,\"blocking factor\":3,\"delay factor\":4.0},\"nameSub\":\"MU 127\",\"id\":3,\"credits\":1,\"nameCanonical\":\"\"},{\"curriculum_requisites\":[],\"name\":\" \",\"metrics\":{\"complexity\":4.0,\"centrality\":0,\"blocking factor\":2,\"delay factor\":2.0},\"nameSub\":\"MU 131\",\"id\":4,\"credits\":3,\"nameCanonical\":\"\"},{\"curriculum_requisites\":[],\"name\":\" \",\"metrics\":{\"complexity\":3.0,\"centrality\":0,\"blocking factor\":1,\"delay factor\":2.0},\"nameSub\":\"MU 150\",\"id\":5,\"credits\":1,\"nameCanonical\":\"\"},{\"curriculum_requisites\":[],\"name\":\" \",\"metrics\":{\"complexity\":1.0,\"centrality\":0,\"blocking factor\":0,\"delay factor\":1.0},\"nameSub\":\"MU 251\",\"id\":6,\"credits\":1,\"nameCanonical\":\"\"},{\"curriculum_requisites\":[],\"name\":\" \",\"metrics\":{\"complexity\":1.0,\"centrality\":0,\"blocking factor\":0,\"delay factor\":1.0},\"nameSub\":\"MU 272\",\"id\":7,\"credits\":1,\"nameCanonical\":\"\"},{\"curriculum_requisites\":[],\"name\":\" \",\"metrics\":{\"complexity\":1.0,\"centrality\":0,\"blocking factor\":0,\"delay factor\":1.0},\"nameSub\":\"MU 286\",\"id\":8,\"credits\":3,\"nameCanonical\":\"\"},{\"curriculum_requisites\":[],\"name\":\" \",\"metrics\":{\"complexity\":1.0,\"centrality\":0,\"blocking factor\":0,\"delay factor\":1.0},\"nameSub\":\"ENSEMBLE\",\"id\":9,\"credits\":1,\"nameCanonical\":\"\"}],\"id\":1},{\"name\":\"Term 2\",\"curriculum_items\":[{\"curriculum_requisites\":[{\"source_id\":2,\"target_id\":10,\"type\":\"prereq\"}],\"name\":\" \",\"metrics\":{\"complexity\":19.0,\"centrality\":48,\"blocking factor\":11,\"delay factor\":8.0},\"nameSub\":\"MU 118\",\"id\":10,\"credits\":3,\"nameCanonical\":\"\"},{\"curriculum_requisites\":[{\"source_id\":3,\"target_id\":11,\"type\":\"prereq\"}],\"name\":\" \",\"metrics\":{\"complexity\":6.0,\"centrality\":4,\"blocking factor\":2,\"delay factor\":4.0},\"nameSub\":\"MU 128\",\"id\":11,\"credits\":1,\"nameCanonical\":\"\"},{\"curriculum_requisites\":[{\"source_id\":5,\"target_id\":12,\"type\":\"prereq\"}],\"name\":\" \",\"metrics\":{\"complexity\":2.0,\"centrality\":0,\"blocking factor\":0,\"delay factor\":2.0},\"nameSub\":\"MU 151A\",\"id\":12,\"credits\":1,\"nameCanonical\":\"\"},{\"curriculum_requisites\":[],\"name\":\" \",\"metrics\":{\"complexity\":1.0,\"centrality\":0,\"blocking factor\":0,\"delay factor\":1.0},\"nameSub\":\"MU 252B\",\"id\":13,\"credits\":2,\"nameCanonical\":\"\"},{\"curriculum_requisites\":[],\"name\":\" \",\"metrics\":{\"complexity\":1.0,\"centrality\":0,\"blocking factor\":0,\"delay factor\":1.0},\"nameSub\":\"MU 272\",\"id\":14,\"credits\":1,\"nameCanonical\":\"\"},{\"curriculum_requisites\":[],\"name\":\" \",\"metrics\":{\"complexity\":1.0,\"centrality\":0,\"blocking factor\":0,\"delay factor\":1.0},\"nameSub\":\"ENSEMBLE\",\"id\":15,\"credits\":1,\"nameCanonical\":\"\"},{\"curriculum_requisites\":[],\"name\":\" \",\"metrics\":{\"complexity\":1.0,\"centrality\":0,\"blocking factor\":0,\"delay factor\":1.0},\"nameSub\":\"AUCC 3B\",\"id\":16,\"credits\":3,\"nameCanonical\":\"\"},{\"curriculum_requisites\":[],\"name\":\" \",\"metrics\":{\"complexity\":1.0,\"centrality\":0,\"blocking factor\":0,\"delay factor\":1.0},\"nameSub\":\"AUCC MATH\",\"id\":17,\"credits\":3,\"nameCanonical\":\"\"}],\"id\":2},{\"name\":\"Term 3\",\"curriculum_items\":[{\"curriculum_requisites\":[],\"name\":\" \",\"metrics\":{\"complexity\":16.0,\"centrality\":0,\"blocking factor\":8,\"delay factor\":8.0},\"nameSub\":\"EDUC 275\",\"id\":18,\"credits\":3,\"nameCanonical\":\"\"},{\"curriculum_requisites\":[{\"source_id\":10,\"target_id\":19,\"type\":\"prereq\"}],\"name\":\" \",\"metrics\":{\"complexity\":16.0,\"centrality\":42,\"blocking factor\":8,\"delay factor\":8.0},\"nameSub\":\"MU 217\",\"id\":19,\"credits\":3,\"nameCanonical\":\"\"},{\"curriculum_requisites\":[{\"source_id\":11,\"target_id\":20,\"type\":\"prereq\"}],\"name\":\" \",\"metrics\":{\"complexity\":5.0,\"centrality\":4,\"blocking factor\":1,\"delay factor\":4.0},\"nameSub\":\"MU 227\",\"id\":20,\"credits\":1,\"nameCanonical\":\"\"},{\"curriculum_requisites\":[],\"name\":\" \",\"metrics\":{\"complexity\":1.0,\"centrality\":0,\"blocking factor\":0,\"delay factor\":1.0},\"nameSub\":\"MU 252C\",\"id\":21,\"credits\":1,\"nameCanonical\":\"\"},{\"curriculum_requisites\":[],\"name\":\" \",\"metrics\":{\"complexity\":1.0,\"centrality\":0,\"blocking factor\":0,\"delay factor\":1.0},\"nameSub\":\"MU 272\",\"id\":22,\"credits\":1,\"nameCanonical\":\"\"},{\"curriculum_requisites\":[],\"name\":\" \",\"metrics\":{\"complexity\":1.0,\"centrality\":0,\"blocking factor\":0,\"delay factor\":1.0},\"nameSub\":\"ENSEMBLE\",\"id\":23,\"credits\":1,\"nameCanonical\":\"\"},{\"curriculum_requisites\":[{\"source_id\":1,\"target_id\":24,\"type\":\"prereq\"}],\"name\":\" \",\"metrics\":{\"complexity\":2.0,\"centrality\":0,\"blocking factor\":0,\"delay factor\":2.0},\"nameSub\":\"AUCC Advanced Writing\",\"id\":24,\"credits\":3,\"nameCanonical\":\"\"},{\"curriculum_requisites\":[],\"name\":\" \",\"metrics\":{\"complexity\":1.0,\"centrality\":0,\"blocking factor\":0,\"delay factor\":1.0},\"nameSub\":\"AUCC 3D\",\"id\":25,\"credits\":3,\"nameCanonical\":\"\"}],\"id\":3},{\"name\":\"Term 4\",\"curriculum_items\":[{\"curriculum_requisites\":[],\"name\":\" \",\"metrics\":{\"complexity\":16.0,\"centrality\":0,\"blocking factor\":8,\"delay factor\":8.0},\"nameSub\":\"EDUC 340\",\"id\":26,\"credits\":3,\"nameCanonical\":\"\"},{\"curriculum_requisites\":[{\"source_id\":19,\"target_id\":27,\"type\":\"prereq\"}],\"name\":\" \",\"metrics\":{\"complexity\":7.0,\"centrality\":10,\"blocking factor\":2,\"delay factor\":5.0},\"nameSub\":\"MU 218\",\"id\":27,\"credits\":3,\"nameCanonical\":\"\"},{\"curriculum_requisites\":[{\"source_id\":20,\"target_id\":28,\"type\":\"prereq\"}],\"name\":\" \",\"metrics\":{\"complexity\":4.0,\"centrality\":0,\"blocking factor\":0,\"delay factor\":4.0},\"nameSub\":\"MU 228\",\"id\":28,\"credits\":1,\"nameCanonical\":\"\"},{\"curriculum_requisites\":[],\"name\":\" \",\"metrics\":{\"complexity\":1.0,\"centrality\":0,\"blocking factor\":0,\"delay factor\":1.0},\"nameSub\":\"MU 252A\",\"id\":29,\"credits\":2,\"nameCanonical\":\"\"},{\"curriculum_requisites\":[],\"name\":\" \",\"metrics\":{\"complexity\":1.0,\"centrality\":0,\"blocking factor\":0,\"delay factor\":1.0},\"nameSub\":\"MU 272\",\"id\":30,\"credits\":1,\"nameCanonical\":\"\"},{\"curriculum_requisites\":[],\"name\":\" \",\"metrics\":{\"complexity\":1.0,\"centrality\":0,\"blocking factor\":0,\"delay factor\":1.0},\"nameSub\":\"ENSEMBLE\",\"id\":31,\"credits\":1,\"nameCanonical\":\"\"},{\"curriculum_requisites\":[],\"name\":\" \",\"metrics\":{\"complexity\":1.0,\"centrality\":0,\"blocking factor\":0,\"delay factor\":1.0},\"nameSub\":\"AUCC 3A\",\"id\":32,\"credits\":4,\"nameCanonical\":\"\"}],\"id\":4},{\"name\":\"Term 5\",\"curriculum_items\":[{\"curriculum_requisites\":[{\"source_id\":26,\"target_id\":33,\"type\":\"prereq\"},{\"source_id\":18,\"target_id\":33,\"type\":\"prereq\"}],\"name\":\" \",\"metrics\":{\"complexity\":9.0,\"centrality\":30,\"blocking factor\":4,\"delay factor\":5.0},\"nameSub\":\"EDUC 331\",\"id\":33,\"credits\":2,\"nameCanonical\":\"\"},{\"curriculum_requisites\":[],\"name\":\" \",\"metrics\":{\"complexity\":1.0,\"centrality\":0,\"blocking factor\":0,\"delay factor\":1.0},\"nameSub\":\"EDUC 474\",\"id\":34,\"credits\":2,\"nameCanonical\":\"\"},{\"curriculum_requisites\":[{\"source_id\":2,\"target_id\":35,\"type\":\"prereq\"}],\"name\":\" \",\"metrics\":{\"complexity\":4.0,\"centrality\":3,\"blocking factor\":1,\"delay factor\":3.0},\"nameSub\":\"MU 254\",\"id\":35,\"credits\":2,\"nameCanonical\":\"\"},{\"curriculum_requisites\":[{\"source_id\":27,\"target_id\":36,\"type\":\"prereq\"}],\"name\":\" \",\"metrics\":{\"complexity\":5.0,\"centrality\":0,\"blocking factor\":0,\"delay factor\":5.0},\"nameSub\":\"MU 317\",\"id\":36,\"credits\":2,\"nameCanonical\":\"\"},{\"curriculum_requisites\":[{\"source_id\":4,\"target_id\":37,\"type\":\"prereq\"},{\"source_id\":10,\"target_id\":37,\"type\":\"prereq\"}],\"name\":\" \",\"metrics\":{\"complexity\":3.0,\"centrality\":0,\"blocking factor\":0,\"delay factor\":3.0},\"nameSub\":\"MU 334\",\"id\":37,\"credits\":3,\"nameCanonical\":\"\"},{\"curriculum_requisites\":[],\"name\":\" \",\"metrics\":{\"complexity\":1.0,\"centrality\":0,\"blocking factor\":0,\"delay factor\":1.0},\"nameSub\":\"MU 472\",\"id\":38,\"credits\":1,\"nameCanonical\":\"\"},{\"curriculum_requisites\":[],\"name\":\" \",\"metrics\":{\"complexity\":1.0,\"centrality\":0,\"blocking factor\":0,\"delay factor\":1.0},\"nameSub\":\"ENSEMBLE\",\"id\":39,\"credits\":1,\"nameCanonical\":\"\"},{\"curriculum_requisites\":[],\"name\":\" \",\"metrics\":{\"complexity\":1.0,\"centrality\":0,\"blocking factor\":0,\"delay factor\":1.0},\"nameSub\":\"AUCC 3A\",\"id\":40,\"credits\":3,\"nameCanonical\":\"\"}],\"id\":5},{\"name\":\"Term 6\",\"curriculum_items\":[{\"curriculum_requisites\":[{\"source_id\":26,\"target_id\":41,\"type\":\"prereq\"},{\"source_id\":42,\"target_id\":41,\"type\":\"coreq\"},{\"source_id\":18,\"target_id\":41,\"type\":\"prereq\"}],\"name\":\" \",\"metrics\":{\"complexity\":12.0,\"centrality\":108,\"blocking factor\":4,\"delay factor\":8.0},\"nameSub\":\"EDUC 350\",\"id\":41,\"credits\":3,\"nameCanonical\":\"\"},{\"curriculum_requisites\":[{\"source_id\":26,\"target_id\":42,\"type\":\"prereq\"},{\"source_id\":43,\"target_id\":42,\"type\":\"coreq\"},{\"source_id\":18,\"target_id\":42,\"type\":\"prereq\"}],\"name\":\" \",\"metrics\":{\"complexity\":13.0,\"centrality\":144,\"blocking factor\":5,\"delay factor\":8.0},\"nameSub\":\"EDUC 386\",\"id\":42,\"credits\":1,\"nameCanonical\":\"\"},{\"curriculum_requisites\":[{\"source_id\":26,\"target_id\":43,\"type\":\"prereq\"},{\"source_id\":18,\"target_id\":43,\"type\":\"prereq\"}],\"name\":\" \",\"metrics\":{\"complexity\":14.0,\"centrality\":78,\"blocking factor\":6,\"delay factor\":8.0},\"nameSub\":\"EDUC 475\",\"id\":43,\"credits\":1,\"nameCanonical\":\"\"},{\"curriculum_requisites\":[{\"source_id\":27,\"target_id\":44,\"type\":\"prereq\"}],\"name\":\" \",\"metrics\":{\"complexity\":5.0,\"centrality\":0,\"blocking factor\":0,\"delay factor\":5.0},\"nameSub\":\"MU 318\",\"id\":44,\"credits\":1,\"nameCanonical\":\"\"},{\"curriculum_requisites\":[{\"source_id\":4,\"target_id\":45,\"type\":\"prereq\"},{\"source_id\":10,\"target_id\":45,\"type\":\"prereq\"}],\"name\":\" \",\"metrics\":{\"complexity\":3.0,\"centrality\":0,\"blocking factor\":0,\"delay factor\":3.0},\"nameSub\":\"MU 335\",\"id\":45,\"credits\":1,\"nameCanonical\":\"\"},{\"curriculum_requisites\":[{\"source_id\":35,\"target_id\":46,\"type\":\"prereq\"}],\"name\":\" \",\"metrics\":{\"complexity\":3.0,\"centrality\":0,\"blocking factor\":0,\"delay factor\":3.0},\"nameSub\":\"MU 356\",\"id\":46,\"credits\":1,\"nameCanonical\":\"\"},{\"curriculum_requisites\":[],\"name\":\" \",\"metrics\":{\"complexity\":1.0,\"centrality\":0,\"blocking factor\":0,\"delay factor\":1.0},\"nameSub\":\"MU ELECTIVE\",\"id\":47,\"credits\":1,\"nameCanonical\":\"\"},{\"curriculum_requisites\":[],\"name\":\" \",\"metrics\":{\"complexity\":1.0,\"centrality\":0,\"blocking factor\":0,\"delay factor\":1.0},\"nameSub\":\"MU 472\",\"id\":48,\"credits\":1,\"nameCanonical\":\"\"},{\"curriculum_requisites\":[],\"name\":\" \",\"metrics\":{\"complexity\":1.0,\"centrality\":0,\"blocking factor\":0,\"delay factor\":1.0},\"nameSub\":\"ENSEMBLE\",\"id\":49,\"credits\":1,\"nameCanonical\":\"\"}],\"id\":6},{\"name\":\"Term 7\",\"curriculum_items\":[{\"curriculum_requisites\":[{\"source_id\":42,\"target_id\":50,\"type\":\"prereq\"},{\"source_id\":51,\"target_id\":50,\"type\":\"coreq\"},{\"source_id\":41,\"target_id\":50,\"type\":\"prereq\"},{\"source_id\":33,\"target_id\":50,\"type\":\"prereq\"}],\"name\":\" \",\"metrics\":{\"complexity\":11.0,\"centrality\":240,\"blocking factor\":3,\"delay factor\":8.0},\"nameSub\":\"EDUC 450\",\"id\":50,\"credits\":4,\"nameCanonical\":\"\"},{\"curriculum_requisites\":[{\"source_id\":19,\"target_id\":51,\"type\":\"prereq\"},{\"source_id\":52,\"target_id\":51,\"type\":\"coreq\"}],\"name\":\" \",\"metrics\":{\"complexity\":12.0,\"centrality\":54,\"blocking factor\":4,\"delay factor\":8.0},\"nameSub\":\"EDUC 477\",\"id\":51,\"credits\":2,\"nameCanonical\":\"\"},{\"curriculum_requisites\":[],\"name\":\" \",\"metrics\":{\"complexity\":11.0,\"centrality\":0,\"blocking factor\":5,\"delay factor\":6.0},\"nameSub\":\"EDUC 486E\",\"id\":52,\"credits\":1,\"nameCanonical\":\"\"},{\"curriculum_requisites\":[],\"name\":\" \",\"metrics\":{\"complexity\":1.0,\"centrality\":0,\"blocking factor\":0,\"delay factor\":1.0},\"nameSub\":\"MU 252D\",\"id\":53,\"credits\":1,\"nameCanonical\":\"\"},{\"curriculum_requisites\":[],\"name\":\" \",\"metrics\":{\"complexity\":1.0,\"centrality\":0,\"blocking factor\":0,\"delay factor\":1.0},\"nameSub\":\"MU 425\",\"id\":54,\"credits\":2,\"nameCanonical\":\"\"},{\"curriculum_requisites\":[],\"name\":\" \",\"metrics\":{\"complexity\":1.0,\"centrality\":0,\"blocking factor\":0,\"delay factor\":1.0},\"nameSub\":\"MU 471\",\"id\":55,\"credits\":1,\"nameCanonical\":\"\"},{\"curriculum_requisites\":[],\"name\":\" \",\"metrics\":{\"complexity\":1.0,\"centrality\":0,\"blocking factor\":0,\"delay factor\":1.0},\"nameSub\":\"MU 472\",\"id\":56,\"credits\":1,\"nameCanonical\":\"\"},{\"curriculum_requisites\":[],\"name\":\" \",\"metrics\":{\"complexity\":1.0,\"centrality\":0,\"blocking factor\":0,\"delay factor\":1.0},\"nameSub\":\"ENSEMBLE\",\"id\":57,\"credits\":1,\"nameCanonical\":\"\"},{\"curriculum_requisites\":[],\"name\":\" \",\"metrics\":{\"complexity\":1.0,\"centrality\":0,\"blocking factor\":0,\"delay factor\":1.0},\"nameSub\":\"AUCC 3E\",\"id\":58,\"credits\":3,\"nameCanonical\":\"\"}],\"id\":7},{\"name\":\"Term 8\",\"curriculum_items\":[{\"curriculum_requisites\":[{\"source_id\":50,\"target_id\":59,\"type\":\"prereq\"},{\"source_id\":60,\"target_id\":59,\"type\":\"coreq\"},{\"source_id\":51,\"target_id\":59,\"type\":\"prereq\"}],\"name\":\" \",\"metrics\":{\"complexity\":8.0,\"centrality\":0,\"blocking factor\":0,\"delay factor\":8.0},\"nameSub\":\"EDUC 485A\",\"id\":59,\"credits\":6,\"nameCanonical\":\"\"},{\"curriculum_requisites\":[{\"source_id\":50,\"target_id\":60,\"type\":\"prereq\"},{\"source_id\":61,\"target_id\":60,\"type\":\"coreq\"},{\"source_id\":51,\"target_id\":60,\"type\":\"prereq\"}],\"name\":\" \",\"metrics\":{\"complexity\":9.0,\"centrality\":184,\"blocking factor\":1,\"delay factor\":8.0},\"nameSub\":\"EDUC 485B\",\"id\":60,\"credits\":6,\"nameCanonical\":\"\"},{\"curriculum_requisites\":[{\"source_id\":50,\"target_id\":61,\"type\":\"prereq\"}],\"name\":\" \",\"metrics\":{\"complexity\":10.0,\"centrality\":94,\"blocking factor\":2,\"delay factor\":8.0},\"nameSub\":\"EDUC 493A\",\"id\":61,\"credits\":1,\"nameCanonical\":\"\"},{\"curriculum_requisites\":[],\"name\":\" \",\"metrics\":{\"complexity\":1.0,\"centrality\":0,\"blocking factor\":0,\"delay factor\":1.0},\"nameSub\":\"ELECTIVE\",\"id\":62,\"credits\":1,\"nameCanonical\":\"\"}],\"id\":8}],\"institution\":\"Colorado State University\"}}}}},\"children\":[{\"props\":{\"src\":\"http:\\/\\/localhost:8156\",\"id\":\"curriculum\",\"events\":{\"load\":\"(function (){this.contentWindow.postMessage({\\\"options\\\":{\\\"hideTerms\\\":false,\\\"edit\\\":false},\\\"curriculum\\\":{\\\"name\\\":\\\"Music Education\\\",\\\"dp_name\\\":\\\"4-Year Plan\\\",\\\"curriculum_terms\\\":[{\\\"name\\\":\\\"Term 1\\\",\\\"curriculum_items\\\":[{\\\"curriculum_requisites\\\":[],\\\"name\\\":\\\" \\\",\\\"metrics\\\":{\\\"complexity\\\":3.0,\\\"centrality\\\":0,\\\"blocking factor\\\":1,\\\"delay factor\\\":2.0},\\\"nameSub\\\":\\\"CO 150\\\",\\\"id\\\":1,\\\"credits\\\":3,\\\"nameCanonical\\\":\\\"\\\"},{\\\"curriculum_requisites\\\":[],\\\"name\\\":\\\" \\\",\\\"metrics\\\":{\\\"complexity\\\":22.0,\\\"centrality\\\":0,\\\"blocking factor\\\":14,\\\"delay factor\\\":8.0},\\\"nameSub\\\":\\\"MU 117\\\",\\\"id\\\":2,\\\"credits\\\":3,\\\"nameCanonical\\\":\\\"\\\"},{\\\"curriculum_requisites\\\":[],\\\"name\\\":\\\" \\\",\\\"metrics\\\":{\\\"complexity\\\":7.0,\\\"centrality\\\":0,\\\"blocking factor\\\":3,\\\"delay factor\\\":4.0},\\\"nameSub\\\":\\\"MU 127\\\",\\\"id\\\":3,\\\"credits\\\":1,\\\"nameCanonical\\\":\\\"\\\"},{\\\"curriculum_requisites\\\":[],\\\"name\\\":\\\" \\\",\\\"metrics\\\":{\\\"complexity\\\":4.0,\\\"centrality\\\":0,\\\"blocking factor\\\":2,\\\"delay factor\\\":2.0},\\\"nameSub\\\":\\\"MU 131\\\",\\\"id\\\":4,\\\"credits\\\":3,\\\"nameCanonical\\\":\\\"\\\"},{\\\"curriculum_requisites\\\":[],\\\"name\\\":\\\" \\\",\\\"metrics\\\":{\\\"complexity\\\":3.0,\\\"centrality\\\":0,\\\"blocking factor\\\":1,\\\"delay factor\\\":2.0},\\\"nameSub\\\":\\\"MU 150\\\",\\\"id\\\":5,\\\"credits\\\":1,\\\"nameCanonical\\\":\\\"\\\"},{\\\"curriculum_requisites\\\":[],\\\"name\\\":\\\" \\\",\\\"metrics\\\":{\\\"complexity\\\":1.0,\\\"centrality\\\":0,\\\"blocking factor\\\":0,\\\"delay factor\\\":1.0},\\\"nameSub\\\":\\\"MU 251\\\",\\\"id\\\":6,\\\"credits\\\":1,\\\"nameCanonical\\\":\\\"\\\"},{\\\"curriculum_requisites\\\":[],\\\"name\\\":\\\" \\\",\\\"metrics\\\":{\\\"complexity\\\":1.0,\\\"centrality\\\":0,\\\"blocking factor\\\":0,\\\"delay factor\\\":1.0},\\\"nameSub\\\":\\\"MU 272\\\",\\\"id\\\":7,\\\"credits\\\":1,\\\"nameCanonical\\\":\\\"\\\"},{\\\"curriculum_requisites\\\":[],\\\"name\\\":\\\" \\\",\\\"metrics\\\":{\\\"complexity\\\":1.0,\\\"centrality\\\":0,\\\"blocking factor\\\":0,\\\"delay factor\\\":1.0},\\\"nameSub\\\":\\\"MU 286\\\",\\\"id\\\":8,\\\"credits\\\":3,\\\"nameCanonical\\\":\\\"\\\"},{\\\"curriculum_requisites\\\":[],\\\"name\\\":\\\" \\\",\\\"metrics\\\":{\\\"complexity\\\":1.0,\\\"centrality\\\":0,\\\"blocking factor\\\":0,\\\"delay factor\\\":1.0},\\\"nameSub\\\":\\\"ENSEMBLE\\\",\\\"id\\\":9,\\\"credits\\\":1,\\\"nameCanonical\\\":\\\"\\\"}],\\\"id\\\":1},{\\\"name\\\":\\\"Term 2\\\",\\\"curriculum_items\\\":[{\\\"curriculum_requisites\\\":[{\\\"source_id\\\":2,\\\"target_id\\\":10,\\\"type\\\":\\\"prereq\\\"}],\\\"name\\\":\\\" \\\",\\\"metrics\\\":{\\\"complexity\\\":19.0,\\\"centrality\\\":48,\\\"blocking factor\\\":11,\\\"delay factor\\\":8.0},\\\"nameSub\\\":\\\"MU 118\\\",\\\"id\\\":10,\\\"credits\\\":3,\\\"nameCanonical\\\":\\\"\\\"},{\\\"curriculum_requisites\\\":[{\\\"source_id\\\":3,\\\"target_id\\\":11,\\\"type\\\":\\\"prereq\\\"}],\\\"name\\\":\\\" \\\",\\\"metrics\\\":{\\\"complexity\\\":6.0,\\\"centrality\\\":4,\\\"blocking factor\\\":2,\\\"delay factor\\\":4.0},\\\"nameSub\\\":\\\"MU 128\\\",\\\"id\\\":11,\\\"credits\\\":1,\\\"nameCanonical\\\":\\\"\\\"},{\\\"curriculum_requisites\\\":[{\\\"source_id\\\":5,\\\"target_id\\\":12,\\\"type\\\":\\\"prereq\\\"}],\\\"name\\\":\\\" \\\",\\\"metrics\\\":{\\\"complexity\\\":2.0,\\\"centrality\\\":0,\\\"blocking factor\\\":0,\\\"delay factor\\\":2.0},\\\"nameSub\\\":\\\"MU 151A\\\",\\\"id\\\":12,\\\"credits\\\":1,\\\"nameCanonical\\\":\\\"\\\"},{\\\"curriculum_requisites\\\":[],\\\"name\\\":\\\" \\\",\\\"metrics\\\":{\\\"complexity\\\":1.0,\\\"centrality\\\":0,\\\"blocking factor\\\":0,\\\"delay factor\\\":1.0},\\\"nameSub\\\":\\\"MU 252B\\\",\\\"id\\\":13,\\\"credits\\\":2,\\\"nameCanonical\\\":\\\"\\\"},{\\\"curriculum_requisites\\\":[],\\\"name\\\":\\\" \\\",\\\"metrics\\\":{\\\"complexity\\\":1.0,\\\"centrality\\\":0,\\\"blocking factor\\\":0,\\\"delay factor\\\":1.0},\\\"nameSub\\\":\\\"MU 272\\\",\\\"id\\\":14,\\\"credits\\\":1,\\\"nameCanonical\\\":\\\"\\\"},{\\\"curriculum_requisites\\\":[],\\\"name\\\":\\\" \\\",\\\"metrics\\\":{\\\"complexity\\\":1.0,\\\"centrality\\\":0,\\\"blocking factor\\\":0,\\\"delay factor\\\":1.0},\\\"nameSub\\\":\\\"ENSEMBLE\\\",\\\"id\\\":15,\\\"credits\\\":1,\\\"nameCanonical\\\":\\\"\\\"},{\\\"curriculum_requisites\\\":[],\\\"name\\\":\\\" \\\",\\\"metrics\\\":{\\\"complexity\\\":1.0,\\\"centrality\\\":0,\\\"blocking factor\\\":0,\\\"delay factor\\\":1.0},\\\"nameSub\\\":\\\"AUCC 3B\\\",\\\"id\\\":16,\\\"credits\\\":3,\\\"nameCanonical\\\":\\\"\\\"},{\\\"curriculum_requisites\\\":[],\\\"name\\\":\\\" \\\",\\\"metrics\\\":{\\\"complexity\\\":1.0,\\\"centrality\\\":0,\\\"blocking factor\\\":0,\\\"delay factor\\\":1.0},\\\"nameSub\\\":\\\"AUCC MATH\\\",\\\"id\\\":17,\\\"credits\\\":3,\\\"nameCanonical\\\":\\\"\\\"}],\\\"id\\\":2},{\\\"name\\\":\\\"Term 3\\\",\\\"curriculum_items\\\":[{\\\"curriculum_requisites\\\":[],\\\"name\\\":\\\" \\\",\\\"metrics\\\":{\\\"complexity\\\":16.0,\\\"centrality\\\":0,\\\"blocking factor\\\":8,\\\"delay factor\\\":8.0},\\\"nameSub\\\":\\\"EDUC 275\\\",\\\"id\\\":18,\\\"credits\\\":3,\\\"nameCanonical\\\":\\\"\\\"},{\\\"curriculum_requisites\\\":[{\\\"source_id\\\":10,\\\"target_id\\\":19,\\\"type\\\":\\\"prereq\\\"}],\\\"name\\\":\\\" \\\",\\\"metrics\\\":{\\\"complexity\\\":16.0,\\\"centrality\\\":42,\\\"blocking factor\\\":8,\\\"delay factor\\\":8.0},\\\"nameSub\\\":\\\"MU 217\\\",\\\"id\\\":19,\\\"credits\\\":3,\\\"nameCanonical\\\":\\\"\\\"},{\\\"curriculum_requisites\\\":[{\\\"source_id\\\":11,\\\"target_id\\\":20,\\\"type\\\":\\\"prereq\\\"}],\\\"name\\\":\\\" \\\",\\\"metrics\\\":{\\\"complexity\\\":5.0,\\\"centrality\\\":4,\\\"blocking factor\\\":1,\\\"delay factor\\\":4.0},\\\"nameSub\\\":\\\"MU 227\\\",\\\"id\\\":20,\\\"credits\\\":1,\\\"nameCanonical\\\":\\\"\\\"},{\\\"curriculum_requisites\\\":[],\\\"name\\\":\\\" \\\",\\\"metrics\\\":{\\\"complexity\\\":1.0,\\\"centrality\\\":0,\\\"blocking factor\\\":0,\\\"delay factor\\\":1.0},\\\"nameSub\\\":\\\"MU 252C\\\",\\\"id\\\":21,\\\"credits\\\":1,\\\"nameCanonical\\\":\\\"\\\"},{\\\"curriculum_requisites\\\":[],\\\"name\\\":\\\" \\\",\\\"metrics\\\":{\\\"complexity\\\":1.0,\\\"centrality\\\":0,\\\"blocking factor\\\":0,\\\"delay factor\\\":1.0},\\\"nameSub\\\":\\\"MU 272\\\",\\\"id\\\":22,\\\"credits\\\":1,\\\"nameCanonical\\\":\\\"\\\"},{\\\"curriculum_requisites\\\":[],\\\"name\\\":\\\" \\\",\\\"metrics\\\":{\\\"complexity\\\":1.0,\\\"centrality\\\":0,\\\"blocking factor\\\":0,\\\"delay factor\\\":1.0},\\\"nameSub\\\":\\\"ENSEMBLE\\\",\\\"id\\\":23,\\\"credits\\\":1,\\\"nameCanonical\\\":\\\"\\\"},{\\\"curriculum_requisites\\\":[{\\\"source_id\\\":1,\\\"target_id\\\":24,\\\"type\\\":\\\"prereq\\\"}],\\\"name\\\":\\\" \\\",\\\"metrics\\\":{\\\"complexity\\\":2.0,\\\"centrality\\\":0,\\\"blocking factor\\\":0,\\\"delay factor\\\":2.0},\\\"nameSub\\\":\\\"AUCC Advanced Writing\\\",\\\"id\\\":24,\\\"credits\\\":3,\\\"nameCanonical\\\":\\\"\\\"},{\\\"curriculum_requisites\\\":[],\\\"name\\\":\\\" \\\",\\\"metrics\\\":{\\\"complexity\\\":1.0,\\\"centrality\\\":0,\\\"blocking factor\\\":0,\\\"delay factor\\\":1.0},\\\"nameSub\\\":\\\"AUCC 3D\\\",\\\"id\\\":25,\\\"credits\\\":3,\\\"nameCanonical\\\":\\\"\\\"}],\\\"id\\\":3},{\\\"name\\\":\\\"Term 4\\\",\\\"curriculum_items\\\":[{\\\"curriculum_requisites\\\":[],\\\"name\\\":\\\" \\\",\\\"metrics\\\":{\\\"complexity\\\":16.0,\\\"centrality\\\":0,\\\"blocking factor\\\":8,\\\"delay factor\\\":8.0},\\\"nameSub\\\":\\\"EDUC 340\\\",\\\"id\\\":26,\\\"credits\\\":3,\\\"nameCanonical\\\":\\\"\\\"},{\\\"curriculum_requisites\\\":[{\\\"source_id\\\":19,\\\"target_id\\\":27,\\\"type\\\":\\\"prereq\\\"}],\\\"name\\\":\\\" \\\",\\\"metrics\\\":{\\\"complexity\\\":7.0,\\\"centrality\\\":10,\\\"blocking factor\\\":2,\\\"delay factor\\\":5.0},\\\"nameSub\\\":\\\"MU 218\\\",\\\"id\\\":27,\\\"credits\\\":3,\\\"nameCanonical\\\":\\\"\\\"},{\\\"curriculum_requisites\\\":[{\\\"source_id\\\":20,\\\"target_id\\\":28,\\\"type\\\":\\\"prereq\\\"}],\\\"name\\\":\\\" \\\",\\\"metrics\\\":{\\\"complexity\\\":4.0,\\\"centrality\\\":0,\\\"blocking factor\\\":0,\\\"delay factor\\\":4.0},\\\"nameSub\\\":\\\"MU 228\\\",\\\"id\\\":28,\\\"credits\\\":1,\\\"nameCanonical\\\":\\\"\\\"},{\\\"curriculum_requisites\\\":[],\\\"name\\\":\\\" \\\",\\\"metrics\\\":{\\\"complexity\\\":1.0,\\\"centrality\\\":0,\\\"blocking factor\\\":0,\\\"delay factor\\\":1.0},\\\"nameSub\\\":\\\"MU 252A\\\",\\\"id\\\":29,\\\"credits\\\":2,\\\"nameCanonical\\\":\\\"\\\"},{\\\"curriculum_requisites\\\":[],\\\"name\\\":\\\" \\\",\\\"metrics\\\":{\\\"complexity\\\":1.0,\\\"centrality\\\":0,\\\"blocking factor\\\":0,\\\"delay factor\\\":1.0},\\\"nameSub\\\":\\\"MU 272\\\",\\\"id\\\":30,\\\"credits\\\":1,\\\"nameCanonical\\\":\\\"\\\"},{\\\"curriculum_requisites\\\":[],\\\"name\\\":\\\" \\\",\\\"metrics\\\":{\\\"complexity\\\":1.0,\\\"centrality\\\":0,\\\"blocking factor\\\":0,\\\"delay factor\\\":1.0},\\\"nameSub\\\":\\\"ENSEMBLE\\\",\\\"id\\\":31,\\\"credits\\\":1,\\\"nameCanonical\\\":\\\"\\\"},{\\\"curriculum_requisites\\\":[],\\\"name\\\":\\\" \\\",\\\"metrics\\\":{\\\"complexity\\\":1.0,\\\"centrality\\\":0,\\\"blocking factor\\\":0,\\\"delay factor\\\":1.0},\\\"nameSub\\\":\\\"AUCC 3A\\\",\\\"id\\\":32,\\\"credits\\\":4,\\\"nameCanonical\\\":\\\"\\\"}],\\\"id\\\":4},{\\\"name\\\":\\\"Term 5\\\",\\\"curriculum_items\\\":[{\\\"curriculum_requisites\\\":[{\\\"source_id\\\":26,\\\"target_id\\\":33,\\\"type\\\":\\\"prereq\\\"},{\\\"source_id\\\":18,\\\"target_id\\\":33,\\\"type\\\":\\\"prereq\\\"}],\\\"name\\\":\\\" \\\",\\\"metrics\\\":{\\\"complexity\\\":9.0,\\\"centrality\\\":30,\\\"blocking factor\\\":4,\\\"delay factor\\\":5.0},\\\"nameSub\\\":\\\"EDUC 331\\\",\\\"id\\\":33,\\\"credits\\\":2,\\\"nameCanonical\\\":\\\"\\\"},{\\\"curriculum_requisites\\\":[],\\\"name\\\":\\\" \\\",\\\"metrics\\\":{\\\"complexity\\\":1.0,\\\"centrality\\\":0,\\\"blocking factor\\\":0,\\\"delay factor\\\":1.0},\\\"nameSub\\\":\\\"EDUC 474\\\",\\\"id\\\":34,\\\"credits\\\":2,\\\"nameCanonical\\\":\\\"\\\"},{\\\"curriculum_requisites\\\":[{\\\"source_id\\\":2,\\\"target_id\\\":35,\\\"type\\\":\\\"prereq\\\"}],\\\"name\\\":\\\" \\\",\\\"metrics\\\":{\\\"complexity\\\":4.0,\\\"centrality\\\":3,\\\"blocking factor\\\":1,\\\"delay factor\\\":3.0},\\\"nameSub\\\":\\\"MU 254\\\",\\\"id\\\":35,\\\"credits\\\":2,\\\"nameCanonical\\\":\\\"\\\"},{\\\"curriculum_requisites\\\":[{\\\"source_id\\\":27,\\\"target_id\\\":36,\\\"type\\\":\\\"prereq\\\"}],\\\"name\\\":\\\" \\\",\\\"metrics\\\":{\\\"complexity\\\":5.0,\\\"centrality\\\":0,\\\"blocking factor\\\":0,\\\"delay factor\\\":5.0},\\\"nameSub\\\":\\\"MU 317\\\",\\\"id\\\":36,\\\"credits\\\":2,\\\"nameCanonical\\\":\\\"\\\"},{\\\"curriculum_requisites\\\":[{\\\"source_id\\\":4,\\\"target_id\\\":37,\\\"type\\\":\\\"prereq\\\"},{\\\"source_id\\\":10,\\\"target_id\\\":37,\\\"type\\\":\\\"prereq\\\"}],\\\"name\\\":\\\" \\\",\\\"metrics\\\":{\\\"complexity\\\":3.0,\\\"centrality\\\":0,\\\"blocking factor\\\":0,\\\"delay factor\\\":3.0},\\\"nameSub\\\":\\\"MU 334\\\",\\\"id\\\":37,\\\"credits\\\":3,\\\"nameCanonical\\\":\\\"\\\"},{\\\"curriculum_requisites\\\":[],\\\"name\\\":\\\" \\\",\\\"metrics\\\":{\\\"complexity\\\":1.0,\\\"centrality\\\":0,\\\"blocking factor\\\":0,\\\"delay factor\\\":1.0},\\\"nameSub\\\":\\\"MU 472\\\",\\\"id\\\":38,\\\"credits\\\":1,\\\"nameCanonical\\\":\\\"\\\"},{\\\"curriculum_requisites\\\":[],\\\"name\\\":\\\" \\\",\\\"metrics\\\":{\\\"complexity\\\":1.0,\\\"centrality\\\":0,\\\"blocking factor\\\":0,\\\"delay factor\\\":1.0},\\\"nameSub\\\":\\\"ENSEMBLE\\\",\\\"id\\\":39,\\\"credits\\\":1,\\\"nameCanonical\\\":\\\"\\\"},{\\\"curriculum_requisites\\\":[],\\\"name\\\":\\\" \\\",\\\"metrics\\\":{\\\"complexity\\\":1.0,\\\"centrality\\\":0,\\\"blocking factor\\\":0,\\\"delay factor\\\":1.0},\\\"nameSub\\\":\\\"AUCC 3A\\\",\\\"id\\\":40,\\\"credits\\\":3,\\\"nameCanonical\\\":\\\"\\\"}],\\\"id\\\":5},{\\\"name\\\":\\\"Term 6\\\",\\\"curriculum_items\\\":[{\\\"curriculum_requisites\\\":[{\\\"source_id\\\":26,\\\"target_id\\\":41,\\\"type\\\":\\\"prereq\\\"},{\\\"source_id\\\":42,\\\"target_id\\\":41,\\\"type\\\":\\\"coreq\\\"},{\\\"source_id\\\":18,\\\"target_id\\\":41,\\\"type\\\":\\\"prereq\\\"}],\\\"name\\\":\\\" \\\",\\\"metrics\\\":{\\\"complexity\\\":12.0,\\\"centrality\\\":108,\\\"blocking factor\\\":4,\\\"delay factor\\\":8.0},\\\"nameSub\\\":\\\"EDUC 350\\\",\\\"id\\\":41,\\\"credits\\\":3,\\\"nameCanonical\\\":\\\"\\\"},{\\\"curriculum_requisites\\\":[{\\\"source_id\\\":26,\\\"target_id\\\":42,\\\"type\\\":\\\"prereq\\\"},{\\\"source_id\\\":43,\\\"target_id\\\":42,\\\"type\\\":\\\"coreq\\\"},{\\\"source_id\\\":18,\\\"target_id\\\":42,\\\"type\\\":\\\"prereq\\\"}],\\\"name\\\":\\\" \\\",\\\"metrics\\\":{\\\"complexity\\\":13.0,\\\"centrality\\\":144,\\\"blocking factor\\\":5,\\\"delay factor\\\":8.0},\\\"nameSub\\\":\\\"EDUC 386\\\",\\\"id\\\":42,\\\"credits\\\":1,\\\"nameCanonical\\\":\\\"\\\"},{\\\"curriculum_requisites\\\":[{\\\"source_id\\\":26,\\\"target_id\\\":43,\\\"type\\\":\\\"prereq\\\"},{\\\"source_id\\\":18,\\\"target_id\\\":43,\\\"type\\\":\\\"prereq\\\"}],\\\"name\\\":\\\" \\\",\\\"metrics\\\":{\\\"complexity\\\":14.0,\\\"centrality\\\":78,\\\"blocking factor\\\":6,\\\"delay factor\\\":8.0},\\\"nameSub\\\":\\\"EDUC 475\\\",\\\"id\\\":43,\\\"credits\\\":1,\\\"nameCanonical\\\":\\\"\\\"},{\\\"curriculum_requisites\\\":[{\\\"source_id\\\":27,\\\"target_id\\\":44,\\\"type\\\":\\\"prereq\\\"}],\\\"name\\\":\\\" \\\",\\\"metrics\\\":{\\\"complexity\\\":5.0,\\\"centrality\\\":0,\\\"blocking factor\\\":0,\\\"delay factor\\\":5.0},\\\"nameSub\\\":\\\"MU 318\\\",\\\"id\\\":44,\\\"credits\\\":1,\\\"nameCanonical\\\":\\\"\\\"},{\\\"curriculum_requisites\\\":[{\\\"source_id\\\":4,\\\"target_id\\\":45,\\\"type\\\":\\\"prereq\\\"},{\\\"source_id\\\":10,\\\"target_id\\\":45,\\\"type\\\":\\\"prereq\\\"}],\\\"name\\\":\\\" \\\",\\\"metrics\\\":{\\\"complexity\\\":3.0,\\\"centrality\\\":0,\\\"blocking factor\\\":0,\\\"delay factor\\\":3.0},\\\"nameSub\\\":\\\"MU 335\\\",\\\"id\\\":45,\\\"credits\\\":1,\\\"nameCanonical\\\":\\\"\\\"},{\\\"curriculum_requisites\\\":[{\\\"source_id\\\":35,\\\"target_id\\\":46,\\\"type\\\":\\\"prereq\\\"}],\\\"name\\\":\\\" \\\",\\\"metrics\\\":{\\\"complexity\\\":3.0,\\\"centrality\\\":0,\\\"blocking factor\\\":0,\\\"delay factor\\\":3.0},\\\"nameSub\\\":\\\"MU 356\\\",\\\"id\\\":46,\\\"credits\\\":1,\\\"nameCanonical\\\":\\\"\\\"},{\\\"curriculum_requisites\\\":[],\\\"name\\\":\\\" \\\",\\\"metrics\\\":{\\\"complexity\\\":1.0,\\\"centrality\\\":0,\\\"blocking factor\\\":0,\\\"delay factor\\\":1.0},\\\"nameSub\\\":\\\"MU ELECTIVE\\\",\\\"id\\\":47,\\\"credits\\\":1,\\\"nameCanonical\\\":\\\"\\\"},{\\\"curriculum_requisites\\\":[],\\\"name\\\":\\\" \\\",\\\"metrics\\\":{\\\"complexity\\\":1.0,\\\"centrality\\\":0,\\\"blocking factor\\\":0,\\\"delay factor\\\":1.0},\\\"nameSub\\\":\\\"MU 472\\\",\\\"id\\\":48,\\\"credits\\\":1,\\\"nameCanonical\\\":\\\"\\\"},{\\\"curriculum_requisites\\\":[],\\\"name\\\":\\\" \\\",\\\"metrics\\\":{\\\"complexity\\\":1.0,\\\"centrality\\\":0,\\\"blocking factor\\\":0,\\\"delay factor\\\":1.0},\\\"nameSub\\\":\\\"ENSEMBLE\\\",\\\"id\\\":49,\\\"credits\\\":1,\\\"nameCanonical\\\":\\\"\\\"}],\\\"id\\\":6},{\\\"name\\\":\\\"Term 7\\\",\\\"curriculum_items\\\":[{\\\"curriculum_requisites\\\":[{\\\"source_id\\\":42,\\\"target_id\\\":50,\\\"type\\\":\\\"prereq\\\"},{\\\"source_id\\\":51,\\\"target_id\\\":50,\\\"type\\\":\\\"coreq\\\"},{\\\"source_id\\\":41,\\\"target_id\\\":50,\\\"type\\\":\\\"prereq\\\"},{\\\"source_id\\\":33,\\\"target_id\\\":50,\\\"type\\\":\\\"prereq\\\"}],\\\"name\\\":\\\" \\\",\\\"metrics\\\":{\\\"complexity\\\":11.0,\\\"centrality\\\":240,\\\"blocking factor\\\":3,\\\"delay factor\\\":8.0},\\\"nameSub\\\":\\\"EDUC 450\\\",\\\"id\\\":50,\\\"credits\\\":4,\\\"nameCanonical\\\":\\\"\\\"},{\\\"curriculum_requisites\\\":[{\\\"source_id\\\":19,\\\"target_id\\\":51,\\\"type\\\":\\\"prereq\\\"},{\\\"source_id\\\":52,\\\"target_id\\\":51,\\\"type\\\":\\\"coreq\\\"}],\\\"name\\\":\\\" \\\",\\\"metrics\\\":{\\\"complexity\\\":12.0,\\\"centrality\\\":54,\\\"blocking factor\\\":4,\\\"delay factor\\\":8.0},\\\"nameSub\\\":\\\"EDUC 477\\\",\\\"id\\\":51,\\\"credits\\\":2,\\\"nameCanonical\\\":\\\"\\\"},{\\\"curriculum_requisites\\\":[],\\\"name\\\":\\\" \\\",\\\"metrics\\\":{\\\"complexity\\\":11.0,\\\"centrality\\\":0,\\\"blocking factor\\\":5,\\\"delay factor\\\":6.0},\\\"nameSub\\\":\\\"EDUC 486E\\\",\\\"id\\\":52,\\\"credits\\\":1,\\\"nameCanonical\\\":\\\"\\\"},{\\\"curriculum_requisites\\\":[],\\\"name\\\":\\\" \\\",\\\"metrics\\\":{\\\"complexity\\\":1.0,\\\"centrality\\\":0,\\\"blocking factor\\\":0,\\\"delay factor\\\":1.0},\\\"nameSub\\\":\\\"MU 252D\\\",\\\"id\\\":53,\\\"credits\\\":1,\\\"nameCanonical\\\":\\\"\\\"},{\\\"curriculum_requisites\\\":[],\\\"name\\\":\\\" \\\",\\\"metrics\\\":{\\\"complexity\\\":1.0,\\\"centrality\\\":0,\\\"blocking factor\\\":0,\\\"delay factor\\\":1.0},\\\"nameSub\\\":\\\"MU 425\\\",\\\"id\\\":54,\\\"credits\\\":2,\\\"nameCanonical\\\":\\\"\\\"},{\\\"curriculum_requisites\\\":[],\\\"name\\\":\\\" \\\",\\\"metrics\\\":{\\\"complexity\\\":1.0,\\\"centrality\\\":0,\\\"blocking factor\\\":0,\\\"delay factor\\\":1.0},\\\"nameSub\\\":\\\"MU 471\\\",\\\"id\\\":55,\\\"credits\\\":1,\\\"nameCanonical\\\":\\\"\\\"},{\\\"curriculum_requisites\\\":[],\\\"name\\\":\\\" \\\",\\\"metrics\\\":{\\\"complexity\\\":1.0,\\\"centrality\\\":0,\\\"blocking factor\\\":0,\\\"delay factor\\\":1.0},\\\"nameSub\\\":\\\"MU 472\\\",\\\"id\\\":56,\\\"credits\\\":1,\\\"nameCanonical\\\":\\\"\\\"},{\\\"curriculum_requisites\\\":[],\\\"name\\\":\\\" \\\",\\\"metrics\\\":{\\\"complexity\\\":1.0,\\\"centrality\\\":0,\\\"blocking factor\\\":0,\\\"delay factor\\\":1.0},\\\"nameSub\\\":\\\"ENSEMBLE\\\",\\\"id\\\":57,\\\"credits\\\":1,\\\"nameCanonical\\\":\\\"\\\"},{\\\"curriculum_requisites\\\":[],\\\"name\\\":\\\" \\\",\\\"metrics\\\":{\\\"complexity\\\":1.0,\\\"centrality\\\":0,\\\"blocking factor\\\":0,\\\"delay factor\\\":1.0},\\\"nameSub\\\":\\\"AUCC 3E\\\",\\\"id\\\":58,\\\"credits\\\":3,\\\"nameCanonical\\\":\\\"\\\"}],\\\"id\\\":7},{\\\"name\\\":\\\"Term 8\\\",\\\"curriculum_items\\\":[{\\\"curriculum_requisites\\\":[{\\\"source_id\\\":50,\\\"target_id\\\":59,\\\"type\\\":\\\"prereq\\\"},{\\\"source_id\\\":60,\\\"target_id\\\":59,\\\"type\\\":\\\"coreq\\\"},{\\\"source_id\\\":51,\\\"target_id\\\":59,\\\"type\\\":\\\"prereq\\\"}],\\\"name\\\":\\\" \\\",\\\"metrics\\\":{\\\"complexity\\\":8.0,\\\"centrality\\\":0,\\\"blocking factor\\\":0,\\\"delay factor\\\":8.0},\\\"nameSub\\\":\\\"EDUC 485A\\\",\\\"id\\\":59,\\\"credits\\\":6,\\\"nameCanonical\\\":\\\"\\\"},{\\\"curriculum_requisites\\\":[{\\\"source_id\\\":50,\\\"target_id\\\":60,\\\"type\\\":\\\"prereq\\\"},{\\\"source_id\\\":61,\\\"target_id\\\":60,\\\"type\\\":\\\"coreq\\\"},{\\\"source_id\\\":51,\\\"target_id\\\":60,\\\"type\\\":\\\"prereq\\\"}],\\\"name\\\":\\\" \\\",\\\"metrics\\\":{\\\"complexity\\\":9.0,\\\"centrality\\\":184,\\\"blocking factor\\\":1,\\\"delay factor\\\":8.0},\\\"nameSub\\\":\\\"EDUC 485B\\\",\\\"id\\\":60,\\\"credits\\\":6,\\\"nameCanonical\\\":\\\"\\\"},{\\\"curriculum_requisites\\\":[{\\\"source_id\\\":50,\\\"target_id\\\":61,\\\"type\\\":\\\"prereq\\\"}],\\\"name\\\":\\\" \\\",\\\"metrics\\\":{\\\"complexity\\\":10.0,\\\"centrality\\\":94,\\\"blocking factor\\\":2,\\\"delay factor\\\":8.0},\\\"nameSub\\\":\\\"EDUC 493A\\\",\\\"id\\\":61,\\\"credits\\\":1,\\\"nameCanonical\\\":\\\"\\\"},{\\\"curriculum_requisites\\\":[],\\\"name\\\":\\\" \\\",\\\"metrics\\\":{\\\"complexity\\\":1.0,\\\"centrality\\\":0,\\\"blocking factor\\\":0,\\\"delay factor\\\":1.0},\\\"nameSub\\\":\\\"ELECTIVE\\\",\\\"id\\\":62,\\\"credits\\\":1,\\\"nameCanonical\\\":\\\"\\\"}],\\\"id\\\":8}],\\\"institution\\\":\\\"Colorado State University\\\"}},\\\"*\\\"); window.removeEventListener(\\\"message\\\",window.messageReceived); window.messageReceived=(function (event){return (event.data.curriculum!==undefined) ? (WebIO.setval({\\\"name\\\":\\\"curriculum-data\\\",\\\"scope\\\":\\\"9534437054002831018\\\",\\\"id\\\":\\\"ob_01\\\",\\\"type\\\":\\\"observable\\\"},event.data.curriculum)) : undefined}); return window.addEventListener(\\\"message\\\",window.messageReceived)})\"},\"style\":{\"padding\":\"0\",\"height\":\"100vh\",\"margin\":\"0\",\"border\":\"none\",\"width\":\"100%\"}},\"nodeType\":\"DOM\",\"type\":\"node\",\"instanceArgs\":{\"namespace\":\"html\",\"tag\":\"iframe\"},\"children\":[\"\"]}]},\n",
       "            window,\n",
       "        );\n",
       "    } else {\n",
       "        document\n",
       "            .querySelector('[data-webio-mountpoint=\"8366160680185756549\"]')\n",
       "            .innerHTML = '<strong>WebIO not detected.</strong>';\n",
       "    }\n",
       "    </script>\n",
       "</div>\n"
      ],
      "text/plain": [
       "WebIO.Scope(WebIO.Node{WebIO.DOM}(WebIO.DOM(:html, :iframe), Any[\"\"], Dict{Symbol,Any}(:src=>\"http://localhost:8156\",:id=>\"curriculum\",:events=>Dict(:load=>JSString(\"(function (){this.contentWindow.postMessage({\\\"options\\\":{\\\"hideTerms\\\":false,\\\"edit\\\":false},\\\"curriculum\\\":{\\\"name\\\":\\\"Music Education\\\",\\\"dp_name\\\":\\\"4-Year Plan\\\",\\\"curriculum_terms\\\":[{\\\"name\\\":\\\"Term 1\\\",\\\"curriculum_items\\\":[{\\\"curriculum_requisites\\\":[],\\\"name\\\":\\\" \\\",\\\"metrics\\\":{\\\"complexity\\\":3.0,\\\"centrality\\\":0,\\\"blocking factor\\\":1,\\\"delay factor\\\":2.0},\\\"nameSub\\\":\\\"CO 150\\\",\\\"id\\\":1,\\\"credits\\\":3,\\\"nameCanonical\\\":\\\"\\\"},{\\\"curriculum_requisites\\\":[],\\\"name\\\":\\\" \\\",\\\"metrics\\\":{\\\"complexity\\\":22.0,\\\"centrality\\\":0,\\\"blocking factor\\\":14,\\\"delay factor\\\":8.0},\\\"nameSub\\\":\\\"MU 117\\\",\\\"id\\\":2,\\\"credits\\\":3,\\\"nameCanonical\\\":\\\"\\\"},{\\\"curriculum_requisites\\\":[],\\\"name\\\":\\\" \\\",\\\"metrics\\\":{\\\"complexity\\\":7.0,\\\"centrality\\\":0,\\\"blocking factor\\\":3,\\\"delay factor\\\":4.0},\\\"nameSub\\\":\\\"MU 127\\\",\\\"id\\\":3,\\\"credits\\\":1,\\\"nameCanonical\\\":\\\"\\\"},{\\\"curriculum_requisites\\\":[],\\\"name\\\":\\\" \\\",\\\"metrics\\\":{\\\"complexity\\\":4.0,\\\"centrality\\\":0,\\\"blocking factor\\\":2,\\\"delay factor\\\":2.0},\\\"nameSub\\\":\\\"MU 131\\\",\\\"id\\\":4,\\\"credits\\\":3,\\\"nameCanonical\\\":\\\"\\\"},{\\\"curriculum_requisites\\\":[],\\\"name\\\":\\\" \\\",\\\"metrics\\\":{\\\"complexity\\\":3.0,\\\"centrality\\\":0,\\\"blocking factor\\\":1,\\\"delay factor\\\":2.0},\\\"nameSub\\\":\\\"MU 150\\\",\\\"id\\\":5,\\\"credits\\\":1,\\\"nameCanonical\\\":\\\"\\\"},{\\\"curriculum_requisites\\\":[],\\\"name\\\":\\\" \\\",\\\"metrics\\\":{\\\"complexity\\\":1.0,\\\"centrality\\\":0,\\\"blocking factor\\\":0,\\\"delay factor\\\":1.0},\\\"nameSub\\\":\\\"MU 251\\\",\\\"id\\\":6,\\\"credits\\\":1,\\\"nameCanonical\\\":\\\"\\\"},{\\\"curriculum_requisites\\\":[],\\\"name\\\":\\\" \\\",\\\"metrics\\\":{\\\"complexity\\\":1.0,\\\"centrality\\\":0,\\\"blocking factor\\\":0,\\\"delay factor\\\":1.0},\\\"nameSub\\\":\\\"MU 272\\\",\\\"id\\\":7,\\\"credits\\\":1,\\\"nameCanonical\\\":\\\"\\\"},{\\\"curriculum_requisites\\\":[],\\\"name\\\":\\\" \\\",\\\"metrics\\\":{\\\"complexity\\\":1.0,\\\"centrality\\\":0,\\\"blocking factor\\\":0,\\\"delay factor\\\":1.0},\\\"nameSub\\\":\\\"MU 286\\\",\\\"id\\\":8,\\\"credits\\\":3,\\\"nameCanonical\\\":\\\"\\\"},{\\\"curriculum_requisites\\\":[],\\\"name\\\":\\\" \\\",\\\"metrics\\\":{\\\"complexity\\\":1.0,\\\"centrality\\\":0,\\\"blocking factor\\\":0,\\\"delay factor\\\":1.0},\\\"nameSub\\\":\\\"ENSEMBLE\\\",\\\"id\\\":9,\\\"credits\\\":1,\\\"nameCanonical\\\":\\\"\\\"}],\\\"id\\\":1},{\\\"name\\\":\\\"Term 2\\\",\\\"curriculum_items\\\":[{\\\"curriculum_requisites\\\":[{\\\"source_id\\\":2,\\\"target_id\\\":10,\\\"type\\\":\\\"prereq\\\"}],\\\"name\\\":\\\" \\\",\\\"metrics\\\":{\\\"complexity\\\":19.0,\\\"centrality\\\":48,\\\"blocking factor\\\":11,\\\"delay factor\\\":8.0},\\\"nameSub\\\":\\\"MU 118\\\",\\\"id\\\":10,\\\"credits\\\":3,\\\"nameCanonical\\\":\\\"\\\"},{\\\"curriculum_requisites\\\":[{\\\"source_id\\\":3,\\\"target_id\\\":11,\\\"type\\\":\\\"prereq\\\"}],\\\"name\\\":\\\" \\\",\\\"metrics\\\":{\\\"complexity\\\":6.0,\\\"centrality\\\":4,\\\"blocking factor\\\":2,\\\"delay factor\\\":4.0},\\\"nameSub\\\":\\\"MU 128\\\",\\\"id\\\":11,\\\"credits\\\":1,\\\"nameCanonical\\\":\\\"\\\"},{\\\"curriculum_requisites\\\":[{\\\"source_id\\\":5,\\\"target_id\\\":12,\\\"type\\\":\\\"prereq\\\"}],\\\"name\\\":\\\" \\\",\\\"metrics\\\":{\\\"complexity\\\":2.0,\\\"centrality\\\":0,\\\"blocking factor\\\":0,\\\"delay factor\\\":2.0},\\\"nameSub\\\":\\\"MU 151A\\\",\\\"id\\\":12,\\\"credits\\\":1,\\\"nameCanonical\\\":\\\"\\\"},{\\\"curriculum_requisites\\\":[],\\\"name\\\":\\\" \\\",\\\"metrics\\\":{\\\"complexity\\\":1.0,\\\"centrality\\\":0,\\\"blocking factor\\\":0,\\\"delay factor\\\":1.0},\\\"nameSub\\\":\\\"MU 252B\\\",\\\"id\\\":13,\\\"credits\\\":2,\\\"nameCanonical\\\":\\\"\\\"},{\\\"curriculum_requisites\\\":[],\\\"name\\\":\\\" \\\",\\\"metrics\\\":{\\\"complexity\\\":1.0,\\\"centrality\\\":0,\\\"blocking factor\\\":0,\\\"delay factor\\\":1.0},\\\"nameSub\\\":\\\"MU 272\\\",\\\"id\\\":14,\\\"credits\\\":1,\\\"nameCanonical\\\":\\\"\\\"},{\\\"curriculum_requisites\\\":[],\\\"name\\\":\\\" \\\",\\\"metrics\\\":{\\\"complexity\\\":1.0,\\\"centrality\\\":0,\\\"blocking factor\\\":0,\\\"delay factor\\\":1.0},\\\"nameSub\\\":\\\"ENSEMBLE\\\",\\\"id\\\":15,\\\"credits\\\":1,\\\"nameCanonical\\\":\\\"\\\"},{\\\"curriculum_requisites\\\":[],\\\"name\\\":\\\" \\\",\\\"metrics\\\":{\\\"complexity\\\":1.0,\\\"centrality\\\":0,\\\"blocking factor\\\":0,\\\"delay factor\\\":1.0},\\\"nameSub\\\":\\\"AUCC 3B\\\",\\\"id\\\":16,\\\"credits\\\":3,\\\"nameCanonical\\\":\\\"\\\"},{\\\"curriculum_requisites\\\":[],\\\"name\\\":\\\" \\\",\\\"metrics\\\":{\\\"complexity\\\":1.0,\\\"centrality\\\":0,\\\"blocking factor\\\":0,\\\"delay factor\\\":1.0},\\\"nameSub\\\":\\\"AUCC MATH\\\",\\\"id\\\":17,\\\"credits\\\":3,\\\"nameCanonical\\\":\\\"\\\"}],\\\"id\\\":2},{\\\"name\\\":\\\"Term 3\\\",\\\"curriculum_items\\\":[{\\\"curriculum_requisites\\\":[],\\\"name\\\":\\\" \\\",\\\"metrics\\\":{\\\"complexity\\\":16.0,\\\"centrality\\\":0,\\\"blocking factor\\\":8,\\\"delay factor\\\":8.0},\\\"nameSub\\\":\\\"EDUC 275\\\",\\\"id\\\":18,\\\"credits\\\":3,\\\"nameCanonical\\\":\\\"\\\"},{\\\"curriculum_requisites\\\":[{\\\"source_id\\\":10,\\\"target_id\\\":19,\\\"type\\\":\\\"prereq\\\"}],\\\"name\\\":\\\" \\\",\\\"metrics\\\":{\\\"complexity\\\":16.0,\\\"centrality\\\":42,\\\"blocking factor\\\":8,\\\"delay factor\\\":8.0},\\\"nameSub\\\":\\\"MU 217\\\",\\\"id\\\":19,\\\"credits\\\":3,\\\"nameCanonical\\\":\\\"\\\"},{\\\"curriculum_requisites\\\":[{\\\"source_id\\\":11,\\\"target_id\\\":20,\\\"type\\\":\\\"prereq\\\"}],\\\"name\\\":\\\" \\\",\\\"metrics\\\":{\\\"complexity\\\":5.0,\\\"centrality\\\":4,\\\"blocking factor\\\":1,\\\"delay factor\\\":4.0},\\\"nameSub\\\":\\\"MU 227\\\",\\\"id\\\":20,\\\"credits\\\":1,\\\"nameCanonical\\\":\\\"\\\"},{\\\"curriculum_requisites\\\":[],\\\"name\\\":\\\" \\\",\\\"metrics\\\":{\\\"complexity\\\":1.0,\\\"centrality\\\":0,\\\"blocking factor\\\":0,\\\"delay factor\\\":1.0},\\\"nameSub\\\":\\\"MU 252C\\\",\\\"id\\\":21,\\\"credits\\\":1,\\\"nameCanonical\\\":\\\"\\\"},{\\\"curriculum_requisites\\\":[],\\\"name\\\":\\\" \\\",\\\"metrics\\\":{\\\"complexity\\\":1.0,\\\"centrality\\\":0,\\\"blocking factor\\\":0,\\\"delay factor\\\":1.0},\\\"nameSub\\\":\\\"MU 272\\\",\\\"id\\\":22,\\\"credits\\\":1,\\\"nameCanonical\\\":\\\"\\\"},{\\\"curriculum_requisites\\\":[],\\\"name\\\":\\\" \\\",\\\"metrics\\\":{\\\"complexity\\\":1.0,\\\"centrality\\\":0,\\\"blocking factor\\\":0,\\\"delay factor\\\":1.0},\\\"nameSub\\\":\\\"ENSEMBLE\\\",\\\"id\\\":23,\\\"credits\\\":1,\\\"nameCanonical\\\":\\\"\\\"},{\\\"curriculum_requisites\\\":[{\\\"source_id\\\":1,\\\"target_id\\\":24,\\\"type\\\":\\\"prereq\\\"}],\\\"name\\\":\\\" \\\",\\\"metrics\\\":{\\\"complexity\\\":2.0,\\\"centrality\\\":0,\\\"blocking factor\\\":0,\\\"delay factor\\\":2.0},\\\"nameSub\\\":\\\"AUCC Advanced Writing\\\",\\\"id\\\":24,\\\"credits\\\":3,\\\"nameCanonical\\\":\\\"\\\"},{\\\"curriculum_requisites\\\":[],\\\"name\\\":\\\" \\\",\\\"metrics\\\":{\\\"complexity\\\":1.0,\\\"centrality\\\":0,\\\"blocking factor\\\":0,\\\"delay factor\\\":1.0},\\\"nameSub\\\":\\\"AUCC 3D\\\",\\\"id\\\":25,\\\"credits\\\":3,\\\"nameCanonical\\\":\\\"\\\"}],\\\"id\\\":3},{\\\"name\\\":\\\"Term 4\\\",\\\"curriculum_items\\\":[{\\\"curriculum_requisites\\\":[],\\\"name\\\":\\\" \\\",\\\"metrics\\\":{\\\"complexity\\\":16.0,\\\"centrality\\\":0,\\\"blocking factor\\\":8,\\\"delay factor\\\":8.0},\\\"nameSub\\\":\\\"EDUC 340\\\",\\\"id\\\":26,\\\"credits\\\":3,\\\"nameCanonical\\\":\\\"\\\"},{\\\"curriculum_requisites\\\":[{\\\"source_id\\\":19,\\\"target_id\\\":27,\\\"type\\\":\\\"prereq\\\"}],\\\"name\\\":\\\" \\\",\\\"metrics\\\":{\\\"complexity\\\":7.0,\\\"centrality\\\":10,\\\"blocking factor\\\":2,\\\"delay factor\\\":5.0},\\\"nameSub\\\":\\\"MU 218\\\",\\\"id\\\":27,\\\"credits\\\":3,\\\"nameCanonical\\\":\\\"\\\"},{\\\"curriculum_requisites\\\":[{\\\"source_id\\\":20,\\\"target_id\\\":28,\\\"type\\\":\\\"prereq\\\"}],\\\"name\\\":\\\" \\\",\\\"metrics\\\":{\\\"complexity\\\":4.0,\\\"centrality\\\":0,\\\"blocking factor\\\":0,\\\"delay factor\\\":4.0},\\\"nameSub\\\":\\\"MU 228\\\",\\\"id\\\":28,\\\"credits\\\":1,\\\"nameCanonical\\\":\\\"\\\"},{\\\"curriculum_requisites\\\":[],\\\"name\\\":\\\" \\\",\\\"metrics\\\":{\\\"complexity\\\":1.0,\\\"centrality\\\":0,\\\"blocking factor\\\":0,\\\"delay factor\\\":1.0},\\\"nameSub\\\":\\\"MU 252A\\\",\\\"id\\\":29,\\\"credits\\\":2,\\\"nameCanonical\\\":\\\"\\\"},{\\\"curriculum_requisites\\\":[],\\\"name\\\":\\\" \\\",\\\"metrics\\\":{\\\"complexity\\\":1.0,\\\"centrality\\\":0,\\\"blocking factor\\\":0,\\\"delay factor\\\":1.0},\\\"nameSub\\\":\\\"MU 272\\\",\\\"id\\\":30,\\\"credits\\\":1,\\\"nameCanonical\\\":\\\"\\\"},{\\\"curriculum_requisites\\\":[],\\\"name\\\":\\\" \\\",\\\"metrics\\\":{\\\"complexity\\\":1.0,\\\"centrality\\\":0,\\\"blocking factor\\\":0,\\\"delay factor\\\":1.0},\\\"nameSub\\\":\\\"ENSEMBLE\\\",\\\"id\\\":31,\\\"credits\\\":1,\\\"nameCanonical\\\":\\\"\\\"},{\\\"curriculum_requisites\\\":[],\\\"name\\\":\\\" \\\",\\\"metrics\\\":{\\\"complexity\\\":1.0,\\\"centrality\\\":0,\\\"blocking factor\\\":0,\\\"delay factor\\\":1.0},\\\"nameSub\\\":\\\"AUCC 3A\\\",\\\"id\\\":32,\\\"credits\\\":4,\\\"nameCanonical\\\":\\\"\\\"}],\\\"id\\\":4},{\\\"name\\\":\\\"Term 5\\\",\\\"curriculum_items\\\":[{\\\"curriculum_requisites\\\":[{\\\"source_id\\\":26,\\\"target_id\\\":33,\\\"type\\\":\\\"prereq\\\"},{\\\"source_id\\\":18,\\\"target_id\\\":33,\\\"type\\\":\\\"prereq\\\"}],\\\"name\\\":\\\" \\\",\\\"metrics\\\":{\\\"complexity\\\":9.0,\\\"centrality\\\":30,\\\"blocking factor\\\":4,\\\"delay factor\\\":5.0},\\\"nameSub\\\":\\\"EDUC 331\\\",\\\"id\\\":33,\\\"credits\\\":2,\\\"nameCanonical\\\":\\\"\\\"},{\\\"curriculum_requisites\\\":[],\\\"name\\\":\\\" \\\",\\\"metrics\\\":{\\\"complexity\\\":1.0,\\\"centrality\\\":0,\\\"blocking factor\\\":0,\\\"delay factor\\\":1.0},\\\"nameSub\\\":\\\"EDUC 474\\\",\\\"id\\\":34,\\\"credits\\\":2,\\\"nameCanonical\\\":\\\"\\\"},{\\\"curriculum_requisites\\\":[{\\\"source_id\\\":2,\\\"target_id\\\":35,\\\"type\\\":\\\"prereq\\\"}],\\\"name\\\":\\\" \\\",\\\"metrics\\\":{\\\"complexity\\\":4.0,\\\"centrality\\\":3,\\\"blocking factor\\\":1,\\\"delay factor\\\":3.0},\\\"nameSub\\\":\\\"MU 254\\\",\\\"id\\\":35,\\\"credits\\\":2,\\\"nameCanonical\\\":\\\"\\\"},{\\\"curriculum_requisites\\\":[{\\\"source_id\\\":27,\\\"target_id\\\":36,\\\"type\\\":\\\"prereq\\\"}],\\\"name\\\":\\\" \\\",\\\"metrics\\\":{\\\"complexity\\\":5.0,\\\"centrality\\\":0,\\\"blocking factor\\\":0,\\\"delay factor\\\":5.0},\\\"nameSub\\\":\\\"MU 317\\\",\\\"id\\\":36,\\\"credits\\\":2,\\\"nameCanonical\\\":\\\"\\\"},{\\\"curriculum_requisites\\\":[{\\\"source_id\\\":4,\\\"target_id\\\":37,\\\"type\\\":\\\"prereq\\\"},{\\\"source_id\\\":10,\\\"target_id\\\":37,\\\"type\\\":\\\"prereq\\\"}],\\\"name\\\":\\\" \\\",\\\"metrics\\\":{\\\"complexity\\\":3.0,\\\"centrality\\\":0,\\\"blocking factor\\\":0,\\\"delay factor\\\":3.0},\\\"nameSub\\\":\\\"MU 334\\\",\\\"id\\\":37,\\\"credits\\\":3,\\\"nameCanonical\\\":\\\"\\\"},{\\\"curriculum_requisites\\\":[],\\\"name\\\":\\\" \\\",\\\"metrics\\\":{\\\"complexity\\\":1.0,\\\"centrality\\\":0,\\\"blocking factor\\\":0,\\\"delay factor\\\":1.0},\\\"nameSub\\\":\\\"MU 472\\\",\\\"id\\\":38,\\\"credits\\\":1,\\\"nameCanonical\\\":\\\"\\\"},{\\\"curriculum_requisites\\\":[],\\\"name\\\":\\\" \\\",\\\"metrics\\\":{\\\"complexity\\\":1.0,\\\"centrality\\\":0,\\\"blocking factor\\\":0,\\\"delay factor\\\":1.0},\\\"nameSub\\\":\\\"ENSEMBLE\\\",\\\"id\\\":39,\\\"credits\\\":1,\\\"nameCanonical\\\":\\\"\\\"},{\\\"curriculum_requisites\\\":[],\\\"name\\\":\\\" \\\",\\\"metrics\\\":{\\\"complexity\\\":1.0,\\\"centrality\\\":0,\\\"blocking factor\\\":0,\\\"delay factor\\\":1.0},\\\"nameSub\\\":\\\"AUCC 3A\\\",\\\"id\\\":40,\\\"credits\\\":3,\\\"nameCanonical\\\":\\\"\\\"}],\\\"id\\\":5},{\\\"name\\\":\\\"Term 6\\\",\\\"curriculum_items\\\":[{\\\"curriculum_requisites\\\":[{\\\"source_id\\\":26,\\\"target_id\\\":41,\\\"type\\\":\\\"prereq\\\"},{\\\"source_id\\\":42,\\\"target_id\\\":41,\\\"type\\\":\\\"coreq\\\"},{\\\"source_id\\\":18,\\\"target_id\\\":41,\\\"type\\\":\\\"prereq\\\"}],\\\"name\\\":\\\" \\\",\\\"metrics\\\":{\\\"complexity\\\":12.0,\\\"centrality\\\":108,\\\"blocking factor\\\":4,\\\"delay factor\\\":8.0},\\\"nameSub\\\":\\\"EDUC 350\\\",\\\"id\\\":41,\\\"credits\\\":3,\\\"nameCanonical\\\":\\\"\\\"},{\\\"curriculum_requisites\\\":[{\\\"source_id\\\":26,\\\"target_id\\\":42,\\\"type\\\":\\\"prereq\\\"},{\\\"source_id\\\":43,\\\"target_id\\\":42,\\\"type\\\":\\\"coreq\\\"},{\\\"source_id\\\":18,\\\"target_id\\\":42,\\\"type\\\":\\\"prereq\\\"}],\\\"name\\\":\\\" \\\",\\\"metrics\\\":{\\\"complexity\\\":13.0,\\\"centrality\\\":144,\\\"blocking factor\\\":5,\\\"delay factor\\\":8.0},\\\"nameSub\\\":\\\"EDUC 386\\\",\\\"id\\\":42,\\\"credits\\\":1,\\\"nameCanonical\\\":\\\"\\\"},{\\\"curriculum_requisites\\\":[{\\\"source_id\\\":26,\\\"target_id\\\":43,\\\"type\\\":\\\"prereq\\\"},{\\\"source_id\\\":18,\\\"target_id\\\":43,\\\"type\\\":\\\"prereq\\\"}],\\\"name\\\":\\\" \\\",\\\"metrics\\\":{\\\"complexity\\\":14.0,\\\"centrality\\\":78,\\\"blocking factor\\\":6,\\\"delay factor\\\":8.0},\\\"nameSub\\\":\\\"EDUC 475\\\",\\\"id\\\":43,\\\"credits\\\":1,\\\"nameCanonical\\\":\\\"\\\"},{\\\"curriculum_requisites\\\":[{\\\"source_id\\\":27,\\\"target_id\\\":44,\\\"type\\\":\\\"prereq\\\"}],\\\"name\\\":\\\" \\\",\\\"metrics\\\":{\\\"complexity\\\":5.0,\\\"centrality\\\":0,\\\"blocking factor\\\":0,\\\"delay factor\\\":5.0},\\\"nameSub\\\":\\\"MU 318\\\",\\\"id\\\":44,\\\"credits\\\":1,\\\"nameCanonical\\\":\\\"\\\"},{\\\"curriculum_requisites\\\":[{\\\"source_id\\\":4,\\\"target_id\\\":45,\\\"type\\\":\\\"prereq\\\"},{\\\"source_id\\\":10,\\\"target_id\\\":45,\\\"type\\\":\\\"prereq\\\"}],\\\"name\\\":\\\" \\\",\\\"metrics\\\":{\\\"complexity\\\":3.0,\\\"centrality\\\":0,\\\"blocking factor\\\":0,\\\"delay factor\\\":3.0},\\\"nameSub\\\":\\\"MU 335\\\",\\\"id\\\":45,\\\"credits\\\":1,\\\"nameCanonical\\\":\\\"\\\"},{\\\"curriculum_requisites\\\":[{\\\"source_id\\\":35,\\\"target_id\\\":46,\\\"type\\\":\\\"prereq\\\"}],\\\"name\\\":\\\" \\\",\\\"metrics\\\":{\\\"complexity\\\":3.0,\\\"centrality\\\":0,\\\"blocking factor\\\":0,\\\"delay factor\\\":3.0},\\\"nameSub\\\":\\\"MU 356\\\",\\\"id\\\":46,\\\"credits\\\":1,\\\"nameCanonical\\\":\\\"\\\"},{\\\"curriculum_requisites\\\":[],\\\"name\\\":\\\" \\\",\\\"metrics\\\":{\\\"complexity\\\":1.0,\\\"centrality\\\":0,\\\"blocking factor\\\":0,\\\"delay factor\\\":1.0},\\\"nameSub\\\":\\\"MU ELECTIVE\\\",\\\"id\\\":47,\\\"credits\\\":1,\\\"nameCanonical\\\":\\\"\\\"},{\\\"curriculum_requisites\\\":[],\\\"name\\\":\\\" \\\",\\\"metrics\\\":{\\\"complexity\\\":1.0,\\\"centrality\\\":0,\\\"blocking factor\\\":0,\\\"delay factor\\\":1.0},\\\"nameSub\\\":\\\"MU 472\\\",\\\"id\\\":48,\\\"credits\\\":1,\\\"nameCanonical\\\":\\\"\\\"},{\\\"curriculum_requisites\\\":[],\\\"name\\\":\\\" \\\",\\\"metrics\\\":{\\\"complexity\\\":1.0,\\\"centrality\\\":0,\\\"blocking factor\\\":0,\\\"delay factor\\\":1.0},\\\"nameSub\\\":\\\"ENSEMBLE\\\",\\\"id\\\":49,\\\"credits\\\":1,\\\"nameCanonical\\\":\\\"\\\"}],\\\"id\\\":6},{\\\"name\\\":\\\"Term 7\\\",\\\"curriculum_items\\\":[{\\\"curriculum_requisites\\\":[{\\\"source_id\\\":42,\\\"target_id\\\":50,\\\"type\\\":\\\"prereq\\\"},{\\\"source_id\\\":51,\\\"target_id\\\":50,\\\"type\\\":\\\"coreq\\\"},{\\\"source_id\\\":41,\\\"target_id\\\":50,\\\"type\\\":\\\"prereq\\\"},{\\\"source_id\\\":33,\\\"target_id\\\":50,\\\"type\\\":\\\"prereq\\\"}],\\\"name\\\":\\\" \\\",\\\"metrics\\\":{\\\"complexity\\\":11.0,\\\"centrality\\\":240,\\\"blocking factor\\\":3,\\\"delay factor\\\":8.0},\\\"nameSub\\\":\\\"EDUC 450\\\",\\\"id\\\":50,\\\"credits\\\":4,\\\"nameCanonical\\\":\\\"\\\"},{\\\"curriculum_requisites\\\":[{\\\"source_id\\\":19,\\\"target_id\\\":51,\\\"type\\\":\\\"prereq\\\"},{\\\"source_id\\\":52,\\\"target_id\\\":51,\\\"type\\\":\\\"coreq\\\"}],\\\"name\\\":\\\" \\\",\\\"metrics\\\":{\\\"complexity\\\":12.0,\\\"centrality\\\":54,\\\"blocking factor\\\":4,\\\"delay factor\\\":8.0},\\\"nameSub\\\":\\\"EDUC 477\\\",\\\"id\\\":51,\\\"credits\\\":2,\\\"nameCanonical\\\":\\\"\\\"},{\\\"curriculum_requisites\\\":[],\\\"name\\\":\\\" \\\",\\\"metrics\\\":{\\\"complexity\\\":11.0,\\\"centrality\\\":0,\\\"blocking factor\\\":5,\\\"delay factor\\\":6.0},\\\"nameSub\\\":\\\"EDUC 486E\\\",\\\"id\\\":52,\\\"credits\\\":1,\\\"nameCanonical\\\":\\\"\\\"},{\\\"curriculum_requisites\\\":[],\\\"name\\\":\\\" \\\",\\\"metrics\\\":{\\\"complexity\\\":1.0,\\\"centrality\\\":0,\\\"blocking factor\\\":0,\\\"delay factor\\\":1.0},\\\"nameSub\\\":\\\"MU 252D\\\",\\\"id\\\":53,\\\"credits\\\":1,\\\"nameCanonical\\\":\\\"\\\"},{\\\"curriculum_requisites\\\":[],\\\"name\\\":\\\" \\\",\\\"metrics\\\":{\\\"complexity\\\":1.0,\\\"centrality\\\":0,\\\"blocking factor\\\":0,\\\"delay factor\\\":1.0},\\\"nameSub\\\":\\\"MU 425\\\",\\\"id\\\":54,\\\"credits\\\":2,\\\"nameCanonical\\\":\\\"\\\"},{\\\"curriculum_requisites\\\":[],\\\"name\\\":\\\" \\\",\\\"metrics\\\":{\\\"complexity\\\":1.0,\\\"centrality\\\":0,\\\"blocking factor\\\":0,\\\"delay factor\\\":1.0},\\\"nameSub\\\":\\\"MU 471\\\",\\\"id\\\":55,\\\"credits\\\":1,\\\"nameCanonical\\\":\\\"\\\"},{\\\"curriculum_requisites\\\":[],\\\"name\\\":\\\" \\\",\\\"metrics\\\":{\\\"complexity\\\":1.0,\\\"centrality\\\":0,\\\"blocking factor\\\":0,\\\"delay factor\\\":1.0},\\\"nameSub\\\":\\\"MU 472\\\",\\\"id\\\":56,\\\"credits\\\":1,\\\"nameCanonical\\\":\\\"\\\"},{\\\"curriculum_requisites\\\":[],\\\"name\\\":\\\" \\\",\\\"metrics\\\":{\\\"complexity\\\":1.0,\\\"centrality\\\":0,\\\"blocking factor\\\":0,\\\"delay factor\\\":1.0},\\\"nameSub\\\":\\\"ENSEMBLE\\\",\\\"id\\\":57,\\\"credits\\\":1,\\\"nameCanonical\\\":\\\"\\\"},{\\\"curriculum_requisites\\\":[],\\\"name\\\":\\\" \\\",\\\"metrics\\\":{\\\"complexity\\\":1.0,\\\"centrality\\\":0,\\\"blocking factor\\\":0,\\\"delay factor\\\":1.0},\\\"nameSub\\\":\\\"AUCC 3E\\\",\\\"id\\\":58,\\\"credits\\\":3,\\\"nameCanonical\\\":\\\"\\\"}],\\\"id\\\":7},{\\\"name\\\":\\\"Term 8\\\",\\\"curriculum_items\\\":[{\\\"curriculum_requisites\\\":[{\\\"source_id\\\":50,\\\"target_id\\\":59,\\\"type\\\":\\\"prereq\\\"},{\\\"source_id\\\":60,\\\"target_id\\\":59,\\\"type\\\":\\\"coreq\\\"},{\\\"source_id\\\":51,\\\"target_id\\\":59,\\\"type\\\":\\\"prereq\\\"}],\\\"name\\\":\\\" \\\",\\\"metrics\\\":{\\\"complexity\\\":8.0,\\\"centrality\\\":0,\\\"blocking factor\\\":0,\\\"delay factor\\\":8.0},\\\"nameSub\\\":\\\"EDUC 485A\\\",\\\"id\\\":59,\\\"credits\\\":6,\\\"nameCanonical\\\":\\\"\\\"},{\\\"curriculum_requisites\\\":[{\\\"source_id\\\":50,\\\"target_id\\\":60,\\\"type\\\":\\\"prereq\\\"},{\\\"source_id\\\":61,\\\"target_id\\\":60,\\\"type\\\":\\\"coreq\\\"},{\\\"source_id\\\":51,\\\"target_id\\\":60,\\\"type\\\":\\\"prereq\\\"}],\\\"name\\\":\\\" \\\",\\\"metrics\\\":{\\\"complexity\\\":9.0,\\\"centrality\\\":184,\\\"blocking factor\\\":1,\\\"delay factor\\\":8.0},\\\"nameSub\\\":\\\"EDUC 485B\\\",\\\"id\\\":60,\\\"credits\\\":6,\\\"nameCanonical\\\":\\\"\\\"},{\\\"curriculum_requisites\\\":[{\\\"source_id\\\":50,\\\"target_id\\\":61,\\\"type\\\":\\\"prereq\\\"}],\\\"name\\\":\\\" \\\",\\\"metrics\\\":{\\\"complexity\\\":10.0,\\\"centrality\\\":94,\\\"blocking factor\\\":2,\\\"delay factor\\\":8.0},\\\"nameSub\\\":\\\"EDUC 493A\\\",\\\"id\\\":61,\\\"credits\\\":1,\\\"nameCanonical\\\":\\\"\\\"},{\\\"curriculum_requisites\\\":[],\\\"name\\\":\\\" \\\",\\\"metrics\\\":{\\\"complexity\\\":1.0,\\\"centrality\\\":0,\\\"blocking factor\\\":0,\\\"delay factor\\\":1.0},\\\"nameSub\\\":\\\"ELECTIVE\\\",\\\"id\\\":62,\\\"credits\\\":1,\\\"nameCanonical\\\":\\\"\\\"}],\\\"id\\\":8}],\\\"institution\\\":\\\"Colorado State University\\\"}},\\\"*\\\"); window.removeEventListener(\\\"message\\\",window.messageReceived); window.messageReceived=(function (event){return (event.data.curriculum!==undefined) ? (WebIO.setval({\\\"name\\\":\\\"curriculum-data\\\",\\\"scope\\\":\\\"9534437054002831018\\\",\\\"id\\\":\\\"ob_01\\\",\\\"type\\\":\\\"observable\\\"},event.data.curriculum)) : undefined}); return window.addEventListener(\\\"message\\\",window.messageReceived)})\")),:style=>Dict(:padding=>\"0\",:height=>\"100vh\",:margin=>\"0\",:border=>\"none\",:width=>\"100%\"))), Dict{String,Tuple{Observables.AbstractObservable,Union{Nothing, Bool}}}(\"curriculum-data\"=>(Observable{Dict{String,Any}} with 1 listeners. Value:\n",
       "Dict{String,Any}(\"options\"=>Dict{String,Any}(\"hideTerms\"=>false,\"edit\"=>false),\"curriculum\"=>Dict{String,Any}(\"name\"=>\"Music Education\",\"dp_name\"=>\"4-Year Plan\",\"curriculum_terms\"=>Dict{String,Any}[Dict(\"name\"=>\"Term 1\",\"curriculum_items\"=>Dict{String,Any}[Dict(\"curriculum_requisites\"=>Dict{String,Any}[],\"name\"=>\" \",\"metrics\"=>Dict{String,Any}(\"complexity\"=>3.0,\"centrality\"=>0,\"blocking factor\"=>1,\"delay factor\"=>2.0),\"nameSub\"=>\"CO 150\",\"id\"=>1,\"credits\"=>3,\"nameCanonical\"=>\"\"), Dict(\"curriculum_requisites\"=>Dict{String,Any}[],\"name\"=>\" \",\"metrics\"=>Dict{String,Any}(\"complexity\"=>22.0,\"centrality\"=>0,\"blocking factor\"=>14,\"delay factor\"=>8.0),\"nameSub\"=>\"MU 117\",\"id\"=>2,\"credits\"=>3,\"nameCanonical\"=>\"\"), Dict(\"curriculum_requisites\"=>Dict{String,Any}[],\"name\"=>\" \",\"metrics\"=>Dict{String,Any}(\"complexity\"=>7.0,\"centrality\"=>0,\"blocking factor\"=>3,\"delay factor\"=>4.0),\"nameSub\"=>\"MU 127\",\"id\"=>3,\"credits\"=>1,\"nameCanonical\"=>\"\"), Dict(\"curriculum_requisites\"=>Dict{String,Any}[],\"name\"=>\" \",\"metrics\"=>Dict{String,Any}(\"complexity\"=>4.0,\"centrality\"=>0,\"blocking factor\"=>2,\"delay factor\"=>2.0),\"nameSub\"=>\"MU 131\",\"id\"=>4,\"credits\"=>3,\"nameCanonical\"=>\"\"), Dict(\"curriculum_requisites\"=>Dict{String,Any}[],\"name\"=>\" \",\"metrics\"=>Dict{String,Any}(\"complexity\"=>3.0,\"centrality\"=>0,\"blocking factor\"=>1,\"delay factor\"=>2.0),\"nameSub\"=>\"MU 150\",\"id\"=>5,\"credits\"=>1,\"nameCanonical\"=>\"\"), Dict(\"curriculum_requisites\"=>Dict{String,Any}[],\"name\"=>\" \",\"metrics\"=>Dict{String,Any}(\"complexity\"=>1.0,\"centrality\"=>0,\"blocking factor\"=>0,\"delay factor\"=>1.0),\"nameSub\"=>\"MU 251\",\"id\"=>6,\"credits\"=>1,\"nameCanonical\"=>\"\"), Dict(\"curriculum_requisites\"=>Dict{String,Any}[],\"name\"=>\" \",\"metrics\"=>Dict{String,Any}(\"complexity\"=>1.0,\"centrality\"=>0,\"blocking factor\"=>0,\"delay factor\"=>1.0),\"nameSub\"=>\"MU 272\",\"id\"=>7,\"credits\"=>1,\"nameCanonical\"=>\"\"), Dict(\"curriculum_requisites\"=>Dict{String,Any}[],\"name\"=>\" \",\"metrics\"=>Dict{String,Any}(\"complexity\"=>1.0,\"centrality\"=>0,\"blocking factor\"=>0,\"delay factor\"=>1.0),\"nameSub\"=>\"MU 286\",\"id\"=>8,\"credits\"=>3,\"nameCanonical\"=>\"\"), Dict(\"curriculum_requisites\"=>Dict{String,Any}[],\"name\"=>\" \",\"metrics\"=>Dict{String,Any}(\"complexity\"=>1.0,\"centrality\"=>0,\"blocking factor\"=>0,\"delay factor\"=>1.0),\"nameSub\"=>\"ENSEMBLE\",\"id\"=>9,\"credits\"=>1,\"nameCanonical\"=>\"\")],\"id\"=>1), Dict(\"name\"=>\"Term 2\",\"curriculum_items\"=>Dict{String,Any}[Dict(\"curriculum_requisites\"=>Dict{String,Any}[Dict(\"source_id\"=>2,\"target_id\"=>10,\"type\"=>\"prereq\")],\"name\"=>\" \",\"metrics\"=>Dict{String,Any}(\"complexity\"=>19.0,\"centrality\"=>48,\"blocking factor\"=>11,\"delay factor\"=>8.0),\"nameSub\"=>\"MU 118\",\"id\"=>10,\"credits\"=>3,\"nameCanonical\"=>\"\"), Dict(\"curriculum_requisites\"=>Dict{String,Any}[Dict(\"source_id\"=>3,\"target_id\"=>11,\"type\"=>\"prereq\")],\"name\"=>\" \",\"metrics\"=>Dict{String,Any}(\"complexity\"=>6.0,\"centrality\"=>4,\"blocking factor\"=>2,\"delay factor\"=>4.0),\"nameSub\"=>\"MU 128\",\"id\"=>11,\"credits\"=>1,\"nameCanonical\"=>\"\"), Dict(\"curriculum_requisites\"=>Dict{String,Any}[Dict(\"source_id\"=>5,\"target_id\"=>12,\"type\"=>\"prereq\")],\"name\"=>\" \",\"metrics\"=>Dict{String,Any}(\"complexity\"=>2.0,\"centrality\"=>0,\"blocking factor\"=>0,\"delay factor\"=>2.0),\"nameSub\"=>\"MU 151A\",\"id\"=>12,\"credits\"=>1,\"nameCanonical\"=>\"\"), Dict(\"curriculum_requisites\"=>Dict{String,Any}[],\"name\"=>\" \",\"metrics\"=>Dict{String,Any}(\"complexity\"=>1.0,\"centrality\"=>0,\"blocking factor\"=>0,\"delay factor\"=>1.0),\"nameSub\"=>\"MU 252B\",\"id\"=>13,\"credits\"=>2,\"nameCanonical\"=>\"\"), Dict(\"curriculum_requisites\"=>Dict{String,Any}[],\"name\"=>\" \",\"metrics\"=>Dict{String,Any}(\"complexity\"=>1.0,\"centrality\"=>0,\"blocking factor\"=>0,\"delay factor\"=>1.0),\"nameSub\"=>\"MU 272\",\"id\"=>14,\"credits\"=>1,\"nameCanonical\"=>\"\"), Dict(\"curriculum_requisites\"=>Dict{String,Any}[],\"name\"=>\" \",\"metrics\"=>Dict{String,Any}(\"complexity\"=>1.0,\"centrality\"=>0,\"blocking factor\"=>0,\"delay factor\"=>1.0),\"nameSub\"=>\"ENSEMBLE\",\"id\"=>15,\"credits\"=>1,\"nameCanonical\"=>\"\"), Dict(\"curriculum_requisites\"=>Dict{String,Any}[],\"name\"=>\" \",\"metrics\"=>Dict{String,Any}(\"complexity\"=>1.0,\"centrality\"=>0,\"blocking factor\"=>0,\"delay factor\"=>1.0),\"nameSub\"=>\"AUCC 3B\",\"id\"=>16,\"credits\"=>3,\"nameCanonical\"=>\"\"), Dict(\"curriculum_requisites\"=>Dict{String,Any}[],\"name\"=>\" \",\"metrics\"=>Dict{String,Any}(\"complexity\"=>1.0,\"centrality\"=>0,\"blocking factor\"=>0,\"delay factor\"=>1.0),\"nameSub\"=>\"AUCC MATH\",\"id\"=>17,\"credits\"=>3,\"nameCanonical\"=>\"\")],\"id\"=>2), Dict(\"name\"=>\"Term 3\",\"curriculum_items\"=>Dict{String,Any}[Dict(\"curriculum_requisites\"=>Dict{String,Any}[],\"name\"=>\" \",\"metrics\"=>Dict{String,Any}(\"complexity\"=>16.0,\"centrality\"=>0,\"blocking factor\"=>8,\"delay factor\"=>8.0),\"nameSub\"=>\"EDUC 275\",\"id\"=>18,\"credits\"=>3,\"nameCanonical\"=>\"\"), Dict(\"curriculum_requisites\"=>Dict{String,Any}[Dict(\"source_id\"=>10,\"target_id\"=>19,\"type\"=>\"prereq\")],\"name\"=>\" \",\"metrics\"=>Dict{String,Any}(\"complexity\"=>16.0,\"centrality\"=>42,\"blocking factor\"=>8,\"delay factor\"=>8.0),\"nameSub\"=>\"MU 217\",\"id\"=>19,\"credits\"=>3,\"nameCanonical\"=>\"\"), Dict(\"curriculum_requisites\"=>Dict{String,Any}[Dict(\"source_id\"=>11,\"target_id\"=>20,\"type\"=>\"prereq\")],\"name\"=>\" \",\"metrics\"=>Dict{String,Any}(\"complexity\"=>5.0,\"centrality\"=>4,\"blocking factor\"=>1,\"delay factor\"=>4.0),\"nameSub\"=>\"MU 227\",\"id\"=>20,\"credits\"=>1,\"nameCanonical\"=>\"\"), Dict(\"curriculum_requisites\"=>Dict{String,Any}[],\"name\"=>\" \",\"metrics\"=>Dict{String,Any}(\"complexity\"=>1.0,\"centrality\"=>0,\"blocking factor\"=>0,\"delay factor\"=>1.0),\"nameSub\"=>\"MU 252C\",\"id\"=>21,\"credits\"=>1,\"nameCanonical\"=>\"\"), Dict(\"curriculum_requisites\"=>Dict{String,Any}[],\"name\"=>\" \",\"metrics\"=>Dict{String,Any}(\"complexity\"=>1.0,\"centrality\"=>0,\"blocking factor\"=>0,\"delay factor\"=>1.0),\"nameSub\"=>\"MU 272\",\"id\"=>22,\"credits\"=>1,\"nameCanonical\"=>\"\"), Dict(\"curriculum_requisites\"=>Dict{String,Any}[],\"name\"=>\" \",\"metrics\"=>Dict{String,Any}(\"complexity\"=>1.0,\"centrality\"=>0,\"blocking factor\"=>0,\"delay factor\"=>1.0),\"nameSub\"=>\"ENSEMBLE\",\"id\"=>23,\"credits\"=>1,\"nameCanonical\"=>\"\"), Dict(\"curriculum_requisites\"=>Dict{String,Any}[Dict(\"source_id\"=>1,\"target_id\"=>24,\"type\"=>\"prereq\")],\"name\"=>\" \",\"metrics\"=>Dict{String,Any}(\"complexity\"=>2.0,\"centrality\"=>0,\"blocking factor\"=>0,\"delay factor\"=>2.0),\"nameSub\"=>\"AUCC Advanced Writing\",\"id\"=>24,\"credits\"=>3,\"nameCanonical\"=>\"\"), Dict(\"curriculum_requisites\"=>Dict{String,Any}[],\"name\"=>\" \",\"metrics\"=>Dict{String,Any}(\"complexity\"=>1.0,\"centrality\"=>0,\"blocking factor\"=>0,\"delay factor\"=>1.0),\"nameSub\"=>\"AUCC 3D\",\"id\"=>25,\"credits\"=>3,\"nameCanonical\"=>\"\")],\"id\"=>3), Dict(\"name\"=>\"Term 4\",\"curriculum_items\"=>Dict{String,Any}[Dict(\"curriculum_requisites\"=>Dict{String,Any}[],\"name\"=>\" \",\"metrics\"=>Dict{String,Any}(\"complexity\"=>16.0,\"centrality\"=>0,\"blocking factor\"=>8,\"delay factor\"=>8.0),\"nameSub\"=>\"EDUC 340\",\"id\"=>26,\"credits\"=>3,\"nameCanonical\"=>\"\"), Dict(\"curriculum_requisites\"=>Dict{String,Any}[Dict(\"source_id\"=>19,\"target_id\"=>27,\"type\"=>\"prereq\")],\"name\"=>\" \",\"metrics\"=>Dict{String,Any}(\"complexity\"=>7.0,\"centrality\"=>10,\"blocking factor\"=>2,\"delay factor\"=>5.0),\"nameSub\"=>\"MU 218\",\"id\"=>27,\"credits\"=>3,\"nameCanonical\"=>\"\"), Dict(\"curriculum_requisites\"=>Dict{String,Any}[Dict(\"source_id\"=>20,\"target_id\"=>28,\"type\"=>\"prereq\")],\"name\"=>\" \",\"metrics\"=>Dict{String,Any}(\"complexity\"=>4.0,\"centrality\"=>0,\"blocking factor\"=>0,\"delay factor\"=>4.0),\"nameSub\"=>\"MU 228\",\"id\"=>28,\"credits\"=>1,\"nameCanonical\"=>\"\"), Dict(\"curriculum_requisites\"=>Dict{String,Any}[],\"name\"=>\" \",\"metrics\"=>Dict{String,Any}(\"complexity\"=>1.0,\"centrality\"=>0,\"blocking factor\"=>0,\"delay factor\"=>1.0),\"nameSub\"=>\"MU 252A\",\"id\"=>29,\"credits\"=>2,\"nameCanonical\"=>\"\"), Dict(\"curriculum_requisites\"=>Dict{String,Any}[],\"name\"=>\" \",\"metrics\"=>Dict{String,Any}(\"complexity\"=>1.0,\"centrality\"=>0,\"blocking factor\"=>0,\"delay factor\"=>1.0),\"nameSub\"=>\"MU 272\",\"id\"=>30,\"credits\"=>1,\"nameCanonical\"=>\"\"), Dict(\"curriculum_requisites\"=>Dict{String,Any}[],\"name\"=>\" \",\"metrics\"=>Dict{String,Any}(\"complexity\"=>1.0,\"centrality\"=>0,\"blocking factor\"=>0,\"delay factor\"=>1.0),\"nameSub\"=>\"ENSEMBLE\",\"id\"=>31,\"credits\"=>1,\"nameCanonical\"=>\"\"), Dict(\"curriculum_requisites\"=>Dict{String,Any}[],\"name\"=>\" \",\"metrics\"=>Dict{String,Any}(\"complexity\"=>1.0,\"centrality\"=>0,\"blocking factor\"=>0,\"delay factor\"=>1.0),\"nameSub\"=>\"AUCC 3A\",\"id\"=>32,\"credits\"=>4,\"nameCanonical\"=>\"\")],\"id\"=>4), Dict(\"name\"=>\"Term 5\",\"curriculum_items\"=>Dict{String,Any}[Dict(\"curriculum_requisites\"=>Dict{String,Any}[Dict(\"source_id\"=>26,\"target_id\"=>33,\"type\"=>\"prereq\"), Dict(\"source_id\"=>18,\"target_id\"=>33,\"type\"=>\"prereq\")],\"name\"=>\" \",\"metrics\"=>Dict{String,Any}(\"complexity\"=>9.0,\"centrality\"=>30,\"blocking factor\"=>4,\"delay factor\"=>5.0),\"nameSub\"=>\"EDUC 331\",\"id\"=>33,\"credits\"=>2,\"nameCanonical\"=>\"\"), Dict(\"curriculum_requisites\"=>Dict{String,Any}[],\"name\"=>\" \",\"metrics\"=>Dict{String,Any}(\"complexity\"=>1.0,\"centrality\"=>0,\"blocking factor\"=>0,\"delay factor\"=>1.0),\"nameSub\"=>\"EDUC 474\",\"id\"=>34,\"credits\"=>2,\"nameCanonical\"=>\"\"), Dict(\"curriculum_requisites\"=>Dict{String,Any}[Dict(\"source_id\"=>2,\"target_id\"=>35,\"type\"=>\"prereq\")],\"name\"=>\" \",\"metrics\"=>Dict{String,Any}(\"complexity\"=>4.0,\"centrality\"=>3,\"blocking factor\"=>1,\"delay factor\"=>3.0),\"nameSub\"=>\"MU 254\",\"id\"=>35,\"credits\"=>2,\"nameCanonical\"=>\"\"), Dict(\"curriculum_requisites\"=>Dict{String,Any}[Dict(\"source_id\"=>27,\"target_id\"=>36,\"type\"=>\"prereq\")],\"name\"=>\" \",\"metrics\"=>Dict{String,Any}(\"complexity\"=>5.0,\"centrality\"=>0,\"blocking factor\"=>0,\"delay factor\"=>5.0),\"nameSub\"=>\"MU 317\",\"id\"=>36,\"credits\"=>2,\"nameCanonical\"=>\"\"), Dict(\"curriculum_requisites\"=>Dict{String,Any}[Dict(\"source_id\"=>4,\"target_id\"=>37,\"type\"=>\"prereq\"), Dict(\"source_id\"=>10,\"target_id\"=>37,\"type\"=>\"prereq\")],\"name\"=>\" \",\"metrics\"=>Dict{String,Any}(\"complexity\"=>3.0,\"centrality\"=>0,\"blocking factor\"=>0,\"delay factor\"=>3.0),\"nameSub\"=>\"MU 334\",\"id\"=>37,\"credits\"=>3,\"nameCanonical\"=>\"\"), Dict(\"curriculum_requisites\"=>Dict{String,Any}[],\"name\"=>\" \",\"metrics\"=>Dict{String,Any}(\"complexity\"=>1.0,\"centrality\"=>0,\"blocking factor\"=>0,\"delay factor\"=>1.0),\"nameSub\"=>\"MU 472\",\"id\"=>38,\"credits\"=>1,\"nameCanonical\"=>\"\"), Dict(\"curriculum_requisites\"=>Dict{String,Any}[],\"name\"=>\" \",\"metrics\"=>Dict{String,Any}(\"complexity\"=>1.0,\"centrality\"=>0,\"blocking factor\"=>0,\"delay factor\"=>1.0),\"nameSub\"=>\"ENSEMBLE\",\"id\"=>39,\"credits\"=>1,\"nameCanonical\"=>\"\"), Dict(\"curriculum_requisites\"=>Dict{String,Any}[],\"name\"=>\" \",\"metrics\"=>Dict{String,Any}(\"complexity\"=>1.0,\"centrality\"=>0,\"blocking factor\"=>0,\"delay factor\"=>1.0),\"nameSub\"=>\"AUCC 3A\",\"id\"=>40,\"credits\"=>3,\"nameCanonical\"=>\"\")],\"id\"=>5), Dict(\"name\"=>\"Term 6\",\"curriculum_items\"=>Dict{String,Any}[Dict(\"curriculum_requisites\"=>Dict{String,Any}[Dict(\"source_id\"=>26,\"target_id\"=>41,\"type\"=>\"prereq\"), Dict(\"source_id\"=>42,\"target_id\"=>41,\"type\"=>\"coreq\"), Dict(\"source_id\"=>18,\"target_id\"=>41,\"type\"=>\"prereq\")],\"name\"=>\" \",\"metrics\"=>Dict{String,Any}(\"complexity\"=>12.0,\"centrality\"=>108,\"blocking factor\"=>4,\"delay factor\"=>8.0),\"nameSub\"=>\"EDUC 350\",\"id\"=>41,\"credits\"=>3,\"nameCanonical\"=>\"\"), Dict(\"curriculum_requisites\"=>Dict{String,Any}[Dict(\"source_id\"=>26,\"target_id\"=>42,\"type\"=>\"prereq\"), Dict(\"source_id\"=>43,\"target_id\"=>42,\"type\"=>\"coreq\"), Dict(\"source_id\"=>18,\"target_id\"=>42,\"type\"=>\"prereq\")],\"name\"=>\" \",\"metrics\"=>Dict{String,Any}(\"complexity\"=>13.0,\"centrality\"=>144,\"blocking factor\"=>5,\"delay factor\"=>8.0),\"nameSub\"=>\"EDUC 386\",\"id\"=>42,\"credits\"=>1,\"nameCanonical\"=>\"\"), Dict(\"curriculum_requisites\"=>Dict{String,Any}[Dict(\"source_id\"=>26,\"target_id\"=>43,\"type\"=>\"prereq\"), Dict(\"source_id\"=>18,\"target_id\"=>43,\"type\"=>\"prereq\")],\"name\"=>\" \",\"metrics\"=>Dict{String,Any}(\"complexity\"=>14.0,\"centrality\"=>78,\"blocking factor\"=>6,\"delay factor\"=>8.0),\"nameSub\"=>\"EDUC 475\",\"id\"=>43,\"credits\"=>1,\"nameCanonical\"=>\"\"), Dict(\"curriculum_requisites\"=>Dict{String,Any}[Dict(\"source_id\"=>27,\"target_id\"=>44,\"type\"=>\"prereq\")],\"name\"=>\" \",\"metrics\"=>Dict{String,Any}(\"complexity\"=>5.0,\"centrality\"=>0,\"blocking factor\"=>0,\"delay factor\"=>5.0),\"nameSub\"=>\"MU 318\",\"id\"=>44,\"credits\"=>1,\"nameCanonical\"=>\"\"), Dict(\"curriculum_requisites\"=>Dict{String,Any}[Dict(\"source_id\"=>4,\"target_id\"=>45,\"type\"=>\"prereq\"), Dict(\"source_id\"=>10,\"target_id\"=>45,\"type\"=>\"prereq\")],\"name\"=>\" \",\"metrics\"=>Dict{String,Any}(\"complexity\"=>3.0,\"centrality\"=>0,\"blocking factor\"=>0,\"delay factor\"=>3.0),\"nameSub\"=>\"MU 335\",\"id\"=>45,\"credits\"=>1,\"nameCanonical\"=>\"\"), Dict(\"curriculum_requisites\"=>Dict{String,Any}[Dict(\"source_id\"=>35,\"target_id\"=>46,\"type\"=>\"prereq\")],\"name\"=>\" \",\"metrics\"=>Dict{String,Any}(\"complexity\"=>3.0,\"centrality\"=>0,\"blocking factor\"=>0,\"delay factor\"=>3.0),\"nameSub\"=>\"MU 356\",\"id\"=>46,\"credits\"=>1,\"nameCanonical\"=>\"\"), Dict(\"curriculum_requisites\"=>Dict{String,Any}[],\"name\"=>\" \",\"metrics\"=>Dict{String,Any}(\"complexity\"=>1.0,\"centrality\"=>0,\"blocking factor\"=>0,\"delay factor\"=>1.0),\"nameSub\"=>\"MU ELECTIVE\",\"id\"=>47,\"credits\"=>1,\"nameCanonical\"=>\"\"), Dict(\"curriculum_requisites\"=>Dict{String,Any}[],\"name\"=>\" \",\"metrics\"=>Dict{String,Any}(\"complexity\"=>1.0,\"centrality\"=>0,\"blocking factor\"=>0,\"delay factor\"=>1.0),\"nameSub\"=>\"MU 472\",\"id\"=>48,\"credits\"=>1,\"nameCanonical\"=>\"\"), Dict(\"curriculum_requisites\"=>Dict{String,Any}[],\"name\"=>\" \",\"metrics\"=>Dict{String,Any}(\"complexity\"=>1.0,\"centrality\"=>0,\"blocking factor\"=>0,\"delay factor\"=>1.0),\"nameSub\"=>\"ENSEMBLE\",\"id\"=>49,\"credits\"=>1,\"nameCanonical\"=>\"\")],\"id\"=>6), Dict(\"name\"=>\"Term 7\",\"curriculum_items\"=>Dict{String,Any}[Dict(\"curriculum_requisites\"=>Dict{String,Any}[Dict(\"source_id\"=>42,\"target_id\"=>50,\"type\"=>\"prereq\"), Dict(\"source_id\"=>51,\"target_id\"=>50,\"type\"=>\"coreq\"), Dict(\"source_id\"=>41,\"target_id\"=>50,\"type\"=>\"prereq\"), Dict(\"source_id\"=>33,\"target_id\"=>50,\"type\"=>\"prereq\")],\"name\"=>\" \",\"metrics\"=>Dict{String,Any}(\"complexity\"=>11.0,\"centrality\"=>240,\"blocking factor\"=>3,\"delay factor\"=>8.0),\"nameSub\"=>\"EDUC 450\",\"id\"=>50,\"credits\"=>4,\"nameCanonical\"=>\"\"), Dict(\"curriculum_requisites\"=>Dict{String,Any}[Dict(\"source_id\"=>19,\"target_id\"=>51,\"type\"=>\"prereq\"), Dict(\"source_id\"=>52,\"target_id\"=>51,\"type\"=>\"coreq\")],\"name\"=>\" \",\"metrics\"=>Dict{String,Any}(\"complexity\"=>12.0,\"centrality\"=>54,\"blocking factor\"=>4,\"delay factor\"=>8.0),\"nameSub\"=>\"EDUC 477\",\"id\"=>51,\"credits\"=>2,\"nameCanonical\"=>\"\"), Dict(\"curriculum_requisites\"=>Dict{String,Any}[],\"name\"=>\" \",\"metrics\"=>Dict{String,Any}(\"complexity\"=>11.0,\"centrality\"=>0,\"blocking factor\"=>5,\"delay factor\"=>6.0),\"nameSub\"=>\"EDUC 486E\",\"id\"=>52,\"credits\"=>1,\"nameCanonical\"=>\"\"), Dict(\"curriculum_requisites\"=>Dict{String,Any}[],\"name\"=>\" \",\"metrics\"=>Dict{String,Any}(\"complexity\"=>1.0,\"centrality\"=>0,\"blocking factor\"=>0,\"delay factor\"=>1.0),\"nameSub\"=>\"MU 252D\",\"id\"=>53,\"credits\"=>1,\"nameCanonical\"=>\"\"), Dict(\"curriculum_requisites\"=>Dict{String,Any}[],\"name\"=>\" \",\"metrics\"=>Dict{String,Any}(\"complexity\"=>1.0,\"centrality\"=>0,\"blocking factor\"=>0,\"delay factor\"=>1.0),\"nameSub\"=>\"MU 425\",\"id\"=>54,\"credits\"=>2,\"nameCanonical\"=>\"\"), Dict(\"curriculum_requisites\"=>Dict{String,Any}[],\"name\"=>\" \",\"metrics\"=>Dict{String,Any}(\"complexity\"=>1.0,\"centrality\"=>0,\"blocking factor\"=>0,\"delay factor\"=>1.0),\"nameSub\"=>\"MU 471\",\"id\"=>55,\"credits\"=>1,\"nameCanonical\"=>\"\"), Dict(\"curriculum_requisites\"=>Dict{String,Any}[],\"name\"=>\" \",\"metrics\"=>Dict{String,Any}(\"complexity\"=>1.0,\"centrality\"=>0,\"blocking factor\"=>0,\"delay factor\"=>1.0),\"nameSub\"=>\"MU 472\",\"id\"=>56,\"credits\"=>1,\"nameCanonical\"=>\"\"), Dict(\"curriculum_requisites\"=>Dict{String,Any}[],\"name\"=>\" \",\"metrics\"=>Dict{String,Any}(\"complexity\"=>1.0,\"centrality\"=>0,\"blocking factor\"=>0,\"delay factor\"=>1.0),\"nameSub\"=>\"ENSEMBLE\",\"id\"=>57,\"credits\"=>1,\"nameCanonical\"=>\"\"), Dict(\"curriculum_requisites\"=>Dict{String,Any}[],\"name\"=>\" \",\"metrics\"=>Dict{String,Any}(\"complexity\"=>1.0,\"centrality\"=>0,\"blocking factor\"=>0,\"delay factor\"=>1.0),\"nameSub\"=>\"AUCC 3E\",\"id\"=>58,\"credits\"=>3,\"nameCanonical\"=>\"\")],\"id\"=>7), Dict(\"name\"=>\"Term 8\",\"curriculum_items\"=>Dict{String,Any}[Dict(\"curriculum_requisites\"=>Dict{String,Any}[Dict(\"source_id\"=>50,\"target_id\"=>59,\"type\"=>\"prereq\"), Dict(\"source_id\"=>60,\"target_id\"=>59,\"type\"=>\"coreq\"), Dict(\"source_id\"=>51,\"target_id\"=>59,\"type\"=>\"prereq\")],\"name\"=>\" \",\"metrics\"=>Dict{String,Any}(\"complexity\"=>8.0,\"centrality\"=>0,\"blocking factor\"=>0,\"delay factor\"=>8.0),\"nameSub\"=>\"EDUC 485A\",\"id\"=>59,\"credits\"=>6,\"nameCanonical\"=>\"\"), Dict(\"curriculum_requisites\"=>Dict{String,Any}[Dict(\"source_id\"=>50,\"target_id\"=>60,\"type\"=>\"prereq\"), Dict(\"source_id\"=>61,\"target_id\"=>60,\"type\"=>\"coreq\"), Dict(\"source_id\"=>51,\"target_id\"=>60,\"type\"=>\"prereq\")],\"name\"=>\" \",\"metrics\"=>Dict{String,Any}(\"complexity\"=>9.0,\"centrality\"=>184,\"blocking factor\"=>1,\"delay factor\"=>8.0),\"nameSub\"=>\"EDUC 485B\",\"id\"=>60,\"credits\"=>6,\"nameCanonical\"=>\"\"), Dict(\"curriculum_requisites\"=>Dict{String,Any}[Dict(\"source_id\"=>50,\"target_id\"=>61,\"type\"=>\"prereq\")],\"name\"=>\" \",\"metrics\"=>Dict{String,Any}(\"complexity\"=>10.0,\"centrality\"=>94,\"blocking factor\"=>2,\"delay factor\"=>8.0),\"nameSub\"=>\"EDUC 493A\",\"id\"=>61,\"credits\"=>1,\"nameCanonical\"=>\"\"), Dict(\"curriculum_requisites\"=>Dict{String,Any}[],\"name\"=>\" \",\"metrics\"=>Dict{String,Any}(\"complexity\"=>1.0,\"centrality\"=>0,\"blocking factor\"=>0,\"delay factor\"=>1.0),\"nameSub\"=>\"ELECTIVE\",\"id\"=>62,\"credits\"=>1,\"nameCanonical\"=>\"\")],\"id\"=>8)],\"institution\"=>\"Colorado State University\")), nothing)), Set(String[]), nothing, WebIO.Asset[], Dict{Any,Any}(), WebIO.ConnectionPool(Channel{Any}(sz_max:32,sz_curr:0), Set(WebIO.AbstractConnection[]), Channel{WebIO.AbstractConnection}(sz_max:32,sz_curr:0)), WebIO.JSString[])"
      ]
     },
     "execution_count": 4,
     "metadata": {
      "application/vnd.webio.node+json": {
       "kernelId": "d7247b7d-3cae-47de-84f4-efc7c3f4a22c"
      }
     },
     "output_type": "execute_result"
    }
   ],
   "source": [
    "dp = schools_plans[\"colorado-state\"][\"music-education\"]\n",
    "visualize(dp, notebook=true)"
   ]
  },
  {
   "cell_type": "markdown",
   "metadata": {},
   "source": [
    "## Curricular Analytics"
   ]
  },
  {
   "cell_type": "markdown",
   "metadata": {},
   "source": [
    "### Analysis of a single curriclum \n",
    "Music Education at CSU:"
   ]
  },
  {
   "cell_type": "code",
   "execution_count": 5,
   "metadata": {},
   "outputs": [
    {
     "name": "stdout",
     "output_type": "stream",
     "text": [
      "\n",
      "Curriculum: Music Education\n",
      "  credit hours = 120\n",
      "  number of courses = 62\n",
      "  Blocking Factor --\n",
      "    entire curriculum = 96\n",
      "    max. value = 14, for course(s):   MU 117\n",
      "  Centrality --\n",
      "    entire curriculum = 1043\n",
      "    max. value = 240, for course(s):   EDUC 450\n",
      "  Delay Factor --\n",
      "    entire curriculum = 199.0\n",
      "    max. value = 8.0, for course(s):   MU 117,   MU 118,   EDUC 275,   MU 217,   EDUC 340,   EDUC 350,   EDUC 386,   EDUC 475,   EDUC 450,   EDUC 477,   EDUC 485A,   EDUC 485B,   EDUC 493A\n",
      "  Complexity --\n",
      "    entire curriculum = 295.0\n",
      "    max. value = 22.0, for course(s):   MU 117\n"
     ]
    }
   ],
   "source": [
    "dp = schools_plans[\"colorado-state\"][\"music-education\"]\n",
    "metrics = basic_metrics(dp.curriculum)\n",
    "println(String(take!(metrics)))"
   ]
  },
  {
   "cell_type": "markdown",
   "metadata": {},
   "source": [
    "### Analysis of programs across all cluster schools."
   ]
  },
  {
   "cell_type": "code",
   "execution_count": 6,
   "metadata": {},
   "outputs": [
    {
     "name": "stdout",
     "output_type": "stream",
     "text": [
      "Western Cluster animal-science programs complexity metrics:\n",
      " Number of programs = 4\n",
      " Mean = 178.25\n",
      " STD = 88.24728513293388\n",
      " Min. = 103.0\n",
      " Max. = 306.0\n",
      "\n",
      "\n",
      "Western Cluster mechanical-engineering programs complexity metrics:\n",
      " Number of programs = 10\n",
      " Mean = 309.1\n",
      " STD = 97.46161637622612\n",
      " Min. = 140.0\n",
      " Max. = 496.0\n",
      "\n",
      "\n",
      "Western Cluster music-education programs complexity metrics:\n",
      " Number of programs = 9\n",
      " Mean = 213.66666666666666\n",
      " STD = 52.853571307906904\n",
      " Min. = 145.0\n",
      " Max. = 295.0\n",
      "\n",
      "\n",
      "Western Cluster psychology programs complexity metrics:\n",
      " Number of programs = 9\n",
      " Mean = 76.55555555555556\n",
      " STD = 23.324403052978177\n",
      " Min. = 40.0\n",
      " Max. = 113.0\n",
      "\n",
      "\n"
     ]
    }
   ],
   "source": [
    "programs = [\"animal-science\", \"mechanical-engineering\", \"music-education\", \"psychology\"]\n",
    "for program in programs \n",
    "    cc = Array{Real,1}()  # new array for storing curricular complexity values\n",
    "    for school in schools\n",
    "      path = \"./cluster/$(school)\"\n",
    "      if \"$(program).csv\" in readdir(path)\n",
    "        push!(cc, schools_plans[school][program].curriculum.metrics[\"complexity\"][1])\n",
    "      end\n",
    "    end\n",
    "    println(\"Western Cluster $(program) programs complexity metrics:\") \n",
    "    println(\" Number of programs = $(length(cc))\")\n",
    "    println(\" Mean = $(mean(cc))\\n STD = $(std(cc))\\n Min. = $(minimum(cc))\\n Max. = $(maximum(cc))\\n\\n\")\n",
    "end"
   ]
  },
  {
   "cell_type": "markdown",
   "metadata": {},
   "source": [
    "## Degree Plan Analytics"
   ]
  },
  {
   "cell_type": "markdown",
   "metadata": {},
   "source": [
    "### Analysis of a single curriclum \n",
    "Music Education at CSU:"
   ]
  },
  {
   "cell_type": "code",
   "execution_count": 7,
   "metadata": {},
   "outputs": [
    {
     "name": "stdout",
     "output_type": "stream",
     "text": [
      "\n",
      "Curriculum: Music Education\n",
      "Degree Plan: 4-Year Plan\n",
      "  total credit hours = 120\n",
      "  number of terms = 8\n",
      "  max. credits in a term = 17, in term 1\n",
      "  min. credits in a term = 11, in term 6\n",
      "  avg. credits per term = 15.0, with std. dev. = 1.7320508075688772\n",
      "\n"
     ]
    }
   ],
   "source": [
    "metrics = basic_metrics(dp)\n",
    "println(String(take!(metrics)))\n"
   ]
  },
  {
   "cell_type": "markdown",
   "metadata": {},
   "source": [
    "## References\n",
    "<a id='References'></a>\n",
    "\n",
    "APLU, Powered by Publics website (accessed August 15, 2019). https://www.aplu.org/projects-and-initiatives/center-for-public-university-transformation/powered-by-publics\n",
    "\n",
    "Heileman, G. L., Abdallah, C.T., Slim, A., and Hickman, M. (2018). Curricular analytics: A framework for quantifying the impact of curricular reforms and pedagogical innovations. www.arXiv.org, arXiv:1811.09676 [cs.CY].\n",
    "\n",
    "Heileman, G. L., Free, H. W., Abar, O. and Thompson-Arjona, W. G, (2019). CurricularAnalytics.jl Toolbox. https://github.com/heileman/CurricularAnalytics.jl."
   ]
  }
 ],
 "metadata": {
  "@webio": {
   "lastCommId": "6940c908b8014735ade2f5d5c943ea5b",
   "lastKernelId": "d7247b7d-3cae-47de-84f4-efc7c3f4a22c"
  },
  "kernelspec": {
   "display_name": "Julia 1.1.1",
   "language": "julia",
   "name": "julia-1.1"
  },
  "language_info": {
   "file_extension": ".jl",
   "mimetype": "application/julia",
   "name": "julia",
   "version": "1.1.1"
  }
 },
 "nbformat": 4,
 "nbformat_minor": 2
}
