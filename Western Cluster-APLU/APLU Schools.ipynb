{
 "cells": [
  {
   "cell_type": "code",
   "execution_count": null,
   "metadata": {},
   "outputs": [
    {
     "data": {
      "text/html": [
       "<script>\n",
       "// Immediately-invoked-function-expression to avoid global variables.\n",
       "(function() {\n",
       "    var warning_div = document.getElementById(\"webio-warning-12599355530915342043\");\n",
       "    var hide = function () {\n",
       "        var script = document.getElementById(\"webio-setup-9215502285373789106\");\n",
       "        var parent = script && script.parentElement;\n",
       "        var grandparent = parent && parent.parentElement;\n",
       "        if (grandparent) {\n",
       "            grandparent.style.display = \"none\";\n",
       "        }\n",
       "        warning_div.style.display = \"none\";\n",
       "    };\n",
       "    if (typeof Jupyter !== \"undefined\") {\n",
       "        console.log(\"WebIO detected Jupyter notebook environment.\");\n",
       "        // Jupyter notebook.\n",
       "        var extensions = (\n",
       "            Jupyter\n",
       "            && Jupyter.notebook.config.data\n",
       "            && Jupyter.notebook.config.data.load_extensions\n",
       "        );\n",
       "        if (extensions && extensions[\"webio/main\"]) {\n",
       "            // Extension already loaded.\n",
       "            console.log(\"Jupyter WebIO nbextension detected; not loading ad-hoc.\");\n",
       "            hide();\n",
       "            return;\n",
       "        }\n",
       "        console.warn(\"Loading WebIO Jupyter extension on an ad-hoc basis. Consider enabling the WebIO nbextension for a stabler experience (this should happen automatically when building WebIO).\");\n",
       "        warning_div.innerHTML = \"<strong>Loading WebIO Jupyter extension on an ad-hoc basis. Consider enabling the WebIO nbextension for a stabler experience (this should happen automatically when building WebIO).</strong>\";\n",
       "    } else if (window.location.pathname.includes(\"/lab\")) {\n",
       "        // Guessing JupyterLa\n",
       "        console.log(\"Jupyter Lab detected; make sure the @webio/jupyter-lab-provider labextension is installed.\");\n",
       "        hide();\n",
       "        return;\n",
       "    }\n",
       "})();\n",
       "\n",
       "</script>\n",
       "<p\n",
       "    id=\"webio-warning-12599355530915342043\"\n",
       "    class=\"output_text output_stderr\"\n",
       "    style=\"padding: 1em; font-weight: bold;\"\n",
       ">\n",
       "    Unable to load WebIO. Please make sure WebIO works for your Jupyter client.\n",
       "    For troubleshooting, please see <a href=\"https://juliagizmos.github.io/WebIO.jl/latest/providers/ijulia/\">\n",
       "    the WebIO/IJulia documentation</a>.\n",
       "    <!-- TODO: link to installation docs. -->\n",
       "</p>\n"
      ],
      "text/plain": [
       "HTML{String}(\"<script>\\n// Immediately-invoked-function-expression to avoid global variables.\\n(function() {\\n    var warning_div = document.getElementById(\\\"webio-warning-12599355530915342043\\\");\\n    var hide = function () {\\n        var script = document.getElementById(\\\"webio-setup-9215502285373789106\\\");\\n        var parent = script && script.parentElement;\\n        var grandparent = parent && parent.parentElement;\\n        if (grandparent) {\\n            grandparent.style.display = \\\"none\\\";\\n        }\\n        warning_div.style.display = \\\"none\\\";\\n    };\\n    if (typeof Jupyter !== \\\"undefined\\\") {\\n        console.log(\\\"WebIO detected Jupyter notebook environment.\\\");\\n        // Jupyter notebook.\\n        var extensions = (\\n            Jupyter\\n            && Jupyter.notebook.config.data\\n            && Jupyter.notebook.config.data.load_extensions\\n        );\\n        if (extensions && extensions[\\\"webio/main\\\"]) {\\n            // Extension already loaded.\\n            console.log(\\\"Jupyter WebIO nbextension detected; not loading ad-hoc.\\\");\\n            hide();\\n            return;\\n        }\\n        console.warn(\\\"Loading WebIO Jupyter extension on an ad-hoc basis. Consider enabling the WebIO nbextension for a stabler experience (this should happen automatically when building WebIO).\\\");\\n        warning_div.innerHTML = \\\"<strong>Loading WebIO Jupyter extension on an ad-hoc basis. Consider enabling the WebIO nbextension for a stabler experience (this should happen automatically when building WebIO).</strong>\\\";\\n    } else if (window.location.pathname.includes(\\\"/lab\\\")) {\\n        // Guessing JupyterLa\\n        console.log(\\\"Jupyter Lab detected; make sure the @webio/jupyter-lab-provider labextension is installed.\\\");\\n        hide();\\n        return;\\n    }\\n})();\\n\\n</script>\\n<p\\n    id=\\\"webio-warning-12599355530915342043\\\"\\n    class=\\\"output_text output_stderr\\\"\\n    style=\\\"padding: 1em; font-weight: bold;\\\"\\n>\\n    Unable to load WebIO. Please make sure WebIO works for your Jupyter client.\\n    For troubleshooting, please see <a href=\\\"https://juliagizmos.github.io/WebIO.jl/latest/providers/ijulia/\\\">\\n    the WebIO/IJulia documentation</a>.\\n    <!-- TODO: link to installation docs. -->\\n</p>\\n\")"
      ]
     },
     "metadata": {},
     "output_type": "display_data"
    }
   ],
   "source": [
    "using CurricularAnalytics\n",
    "using Glob\n",
    "using CSV\n",
    "using DataFrames\n",
    "using Parameters\n",
    "\n",
    "@with_kw struct Universities\n",
    "    colorado_state::Dict{String, DegreePlan} = Dict{String, DegreePlan}()\n",
    "    langston_university::Dict{String, DegreePlan} = Dict{String, DegreePlan}()\n",
    "    montana_state::Dict{String, DegreePlan} = Dict{String, DegreePlan}()\n",
    "    new_mexico_state::Dict{String, DegreePlan} = Dict{String, DegreePlan}()\n",
    "    north_dakota_state::Dict{String, DegreePlan} = Dict{String, DegreePlan}()\n",
    "    oklahoma_state::Dict{String, DegreePlan} = Dict{String, DegreePlan}()\n",
    "    south_dakota_state::Dict{String, DegreePlan} = Dict{String, DegreePlan}()\n",
    "    university_of_idaho::Dict{String, DegreePlan} = Dict{String, DegreePlan}()\n",
    "    university_of_nevada_reno::Dict{String, DegreePlan} = Dict{String, DegreePlan}()\n",
    "    university_of_wyoming::Dict{String, DegreePlan} = Dict{String, DegreePlan}()\n",
    "    utah_state::Dict{String, DegreePlan} = Dict{String, DegreePlan}()\n",
    "end\n",
    "\n",
    "Base.getproperty(u_s::Universities, name::Symbol) = getfield(u_s, name)\n",
    "\n",
    "u = Universities()\n",
    "\n",
    "println(u.colorado_state)\n",
    "\n",
    "all_universities = glob(\"*\", \"original\")\n",
    "for university in all_universities\n",
    "    println(\"uni: $university\")\n",
    "    university = glob(\"*\", university)\n",
    "    for csv_filepath in university \n",
    "        split_path = split(csv_filepath, Base.Filesystem.path_separator)\n",
    "        println(\"seperate: $(split_path[2])\")\n",
    "        if length(split_path) == 3\n",
    "            \n",
    "#             add_course_id(csv_filepath, split_path[1] * Base.Filesystem.path_separator * split_path[2] * Base.Filesystem.path_separator)\n",
    "#             c_array, terms = read_csv_old(csv_filepath)\n",
    "#             curric = Curriculum(\"Curriculum\", c_array)\n",
    "#             dp = DegreePlan(split_path[3], curric, terms)\n",
    "#             write_csv(dp, \"converted\"*Base.Filesystem.path_separator*split_path[2]*Base.Filesystem.path_separator * split_path[3])\n",
    "        end\n",
    "    end\n",
    "end"
   ]
  },
  {
   "cell_type": "code",
   "execution_count": null,
   "metadata": {},
   "outputs": [],
   "source": []
  }
 ],
 "metadata": {
  "@webio": {
   "lastCommId": null,
   "lastKernelId": null
  },
  "kernelspec": {
   "display_name": "Julia 1.1.1",
   "language": "julia",
   "name": "julia-1.1"
  },
  "language_info": {
   "file_extension": ".jl",
   "mimetype": "application/julia",
   "name": "julia",
   "version": "1.1.1"
  }
 },
 "nbformat": 4,
 "nbformat_minor": 2
}
