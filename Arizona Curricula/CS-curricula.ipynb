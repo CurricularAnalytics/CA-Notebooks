{
 "cells": [
  {
   "cell_type": "markdown",
   "metadata": {},
   "source": [
    "# <center>University of Arizona Curricula - Computer Science</center>\n",
    "\n",
    "This notebook contains a prelmininary analyses of the curricula and degree plan associated with the undergradatue Computer Science program in the College of Science at the University of Arizona.  In addition, we provide some comparisons to other undergraduate Computer Science programs around the country using data collected as a part of a prior study."
   ]
  },
  {
   "cell_type": "code",
   "execution_count": 21,
   "metadata": {},
   "outputs": [
    {
     "name": "stdout",
     "output_type": "stream",
     "text": [
      "\u001b[32m\u001b[1mActivating\u001b[22m\u001b[39m environment at `~/Library/Mobile Documents/com~apple~CloudDocs/work/research/Curricular Analytics/CurricularAnalytics.jl/Project.toml`\n"
     ]
    }
   ],
   "source": [
    "using Pkg\n",
    "if split(pwd(),Base.Filesystem.path_separator)[end] != \"CurricularAnalytics.jl\"\n",
    "    cd(\"../../CurricularAnalytics.jl/\")\n",
    "end\n",
    "pkg\"activate .\"\n",
    "using CurricularAnalytics\n",
    "cd(\"../CA-Notebooks/Arizona Curricula\")"
   ]
  },
  {
   "cell_type": "code",
   "execution_count": 22,
   "metadata": {},
   "outputs": [],
   "source": [
    "#using CurricularAnalytics\n",
    "using Glob\n",
    "using CSV\n",
    "using DataFrames\n",
    "using Statistics"
   ]
  },
  {
   "cell_type": "markdown",
   "metadata": {},
   "source": [
    "## Curricular Analytics Toolbox\n",
    "\n",
    "The analyses in this notebook makes use of the Curricular Analytics toolbox built using the Julia programming language and available as open source software [1]. As a starting point, you may find it useful to read the toolbox documenation, as well as the curricular analytics paper listed in the References section below [2].\n",
    "\n",
    "### Create the Data Structures \n",
    "The degree plan associated with the CS program was stored as CSV files using the format for degree plans specified in the Curricular Analytics toolbox.  The files are organized in a directory structure that is assumed to be in the same directory as this notebook as follows:  `./programs/<college-name>/`.  If you place the degree plans of your other programs in this folder, we will be able to analyze them. \n",
    "\n",
    "Asuuming the aforementioned directory structure, we first create an dictionay called `plans` containing the degree plans for each of the programs in a given college, in this case the college of engineering."
   ]
  },
  {
   "cell_type": "code",
   "execution_count": 57,
   "metadata": {},
   "outputs": [],
   "source": [
    "college = \"college_of_science\"\n",
    "plans = Dict{String, DegreePlan}()\n",
    "program_files = glob(\"*\", \"./programs/$college\")\n",
    "for program in program_files\n",
    "    dp = read_csv(program)\n",
    "    complexity(dp.curriculum)  # compute the curricular complexity of the degree plan\n",
    "    plans[dp.curriculum.name] = dp    # store the degree plan the dictionary \n",
    "end"
   ]
  },
  {
   "cell_type": "markdown",
   "metadata": {},
   "source": [
    "## The Computer Science Program"
   ]
  },
  {
   "cell_type": "markdown",
   "metadata": {},
   "source": [
    "First we will analyze the structural properties of a curriculum in the college.  The structural properties of a curriculum are determined by the underlying structural properties of its corresponding curriculum graph (i.e., the graph showing the prerequisite relationships between the courses in a curriculum, ignoring term information).  Here's the degree plan for the Computer Science program.  By hovering your mouse over the courses in this figure, various metrics will be displayed.\n",
    "\n",
    "Notice that the math starting point for students is Pre-Calculus, which shoud accomodate many of the students entering the University of Arizona."
   ]
  },
  {
   "cell_type": "code",
   "execution_count": 58,
   "metadata": {
    "scrolled": false
   },
   "outputs": [
    {
     "data": {
      "application/vnd.webio.node+json": {
       "children": [
        {
         "children": [
          ""
         ],
         "instanceArgs": {
          "namespace": "html",
          "tag": "iframe"
         },
         "nodeType": "DOM",
         "props": {
          "events": {
           "load": "(function (){this.contentWindow.postMessage({\"options\":{\"hideTerms\":false,\"edit\":false},\"curriculum\":{\"name\":\"Computer Science\",\"dp_name\":\"2019-20 Degree Plan\",\"curriculum_terms\":[{\"name\":\"Term 1\",\"curriculum_items\":[{\"curriculum_requisites\":[{\"source_id\":2,\"target_id\":1,\"type\":\"CurriculumCorequisite\"}],\"name\":\"CSC 110\",\"metrics\":{\"complexity\":12.0,\"centrality\":25,\"blocking factor\":7,\"delay factor\":5.0},\"nameSub\":\"Intro to Computer Programming I\",\"id\":1,\"credits\":4,\"nameCanonical\":\"\"},{\"curriculum_requisites\":[],\"name\":\"MATH 120R\",\"metrics\":{\"complexity\":15.0,\"centrality\":0,\"blocking factor\":10,\"delay factor\":5.0},\"nameSub\":\"Pre-Calculus\",\"id\":2,\"credits\":4,\"nameCanonical\":\"\"},{\"curriculum_requisites\":[],\"name\":\"ENGL 101\",\"metrics\":{\"complexity\":3.0,\"centrality\":0,\"blocking factor\":1,\"delay factor\":2.0},\"nameSub\":\"English Composition I\",\"id\":3,\"credits\":3,\"nameCanonical\":\"\"},{\"curriculum_requisites\":[],\"name\":\" \",\"metrics\":{\"complexity\":3.0,\"centrality\":0,\"blocking factor\":1,\"delay factor\":2.0},\"nameSub\":\"1st Semester Second Language\",\"id\":4,\"credits\":4,\"nameCanonical\":\"\"}],\"id\":1},{\"name\":\"Term 2\",\"curriculum_items\":[{\"curriculum_requisites\":[{\"source_id\":1,\"target_id\":5,\"type\":\"CurriculumPrerequisite\"}],\"name\":\"CSC 120\",\"metrics\":{\"complexity\":11.0,\"centrality\":25,\"blocking factor\":6,\"delay factor\":5.0},\"nameSub\":\"Intro to Computer Programming II\",\"id\":5,\"credits\":4,\"nameCanonical\":\"\"},{\"curriculum_requisites\":[{\"source_id\":2,\"target_id\":6,\"type\":\"CurriculumPrerequisite\"}],\"name\":\"MATH 122A/B\",\"metrics\":{\"complexity\":4.0,\"centrality\":3,\"blocking factor\":1,\"delay factor\":3.0},\"nameSub\":\"Calculus I\",\"id\":6,\"credits\":5,\"nameCanonical\":\"\"},{\"curriculum_requisites\":[{\"source_id\":3,\"target_id\":7,\"type\":\"CurriculumPrerequisite\"}],\"name\":\"ENGL 102\",\"metrics\":{\"complexity\":2.0,\"centrality\":0,\"blocking factor\":0,\"delay factor\":2.0},\"nameSub\":\"English Composition II\",\"id\":7,\"credits\":4,\"nameCanonical\":\"\"},{\"curriculum_requisites\":[{\"source_id\":4,\"target_id\":8,\"type\":\"CurriculumPrerequisite\"}],\"name\":\" \",\"metrics\":{\"complexity\":2.0,\"centrality\":0,\"blocking factor\":0,\"delay factor\":2.0},\"nameSub\":\"2nd Semester Second Language\",\"id\":8,\"credits\":4,\"nameCanonical\":\"\"}],\"id\":2},{\"name\":\"Term 3\",\"curriculum_items\":[{\"curriculum_requisites\":[{\"source_id\":5,\"target_id\":9,\"type\":\"CurriculumPrerequisite\"}],\"name\":\"CSC 210\",\"metrics\":{\"complexity\":9.0,\"centrality\":20,\"blocking factor\":4,\"delay factor\":5.0},\"nameSub\":\"Software Development\",\"id\":9,\"credits\":4,\"nameCanonical\":\"\"},{\"curriculum_requisites\":[{\"source_id\":5,\"target_id\":10,\"type\":\"CurriculumPrerequisite\"}],\"name\":\"CSC 245\",\"metrics\":{\"complexity\":6.0,\"centrality\":5,\"blocking factor\":1,\"delay factor\":5.0},\"nameSub\":\"Intro to Discrete Structures\",\"id\":10,\"credits\":3,\"nameCanonical\":\"\"},{\"curriculum_requisites\":[{\"source_id\":6,\"target_id\":11,\"type\":\"CurriculumPrerequisite\"}],\"name\":\"MATH 129\",\"metrics\":{\"complexity\":3.0,\"centrality\":0,\"blocking factor\":0,\"delay factor\":3.0},\"nameSub\":\"Calculus II\",\"id\":11,\"credits\":3,\"nameCanonical\":\"\"},{\"curriculum_requisites\":[],\"name\":\" \",\"metrics\":{\"complexity\":1.0,\"centrality\":0,\"blocking factor\":0,\"delay factor\":1.0},\"nameSub\":\"Tier 1 General Education 1\",\"id\":12,\"credits\":3,\"nameCanonical\":\"\"},{\"curriculum_requisites\":[],\"name\":\" \",\"metrics\":{\"complexity\":1.0,\"centrality\":0,\"blocking factor\":0,\"delay factor\":1.0},\"nameSub\":\"Tier 1 General Education 2\",\"id\":13,\"credits\":3,\"nameCanonical\":\"\"}],\"id\":3},{\"name\":\"Term 4\",\"curriculum_items\":[{\"curriculum_requisites\":[{\"source_id\":9,\"target_id\":14,\"type\":\"CurriculumPrerequisite\"}],\"name\":\"CSC 252\",\"metrics\":{\"complexity\":5.0,\"centrality\":0,\"blocking factor\":0,\"delay factor\":5.0},\"nameSub\":\"Computer Organization\",\"id\":14,\"credits\":3,\"nameCanonical\":\"\"},{\"curriculum_requisites\":[{\"source_id\":9,\"target_id\":15,\"type\":\"CurriculumPrerequisite\"}],\"name\":\"CSC 352\",\"metrics\":{\"complexity\":5.0,\"centrality\":0,\"blocking factor\":0,\"delay factor\":5.0},\"nameSub\":\"Systems Programming & Unix\",\"id\":15,\"credits\":3,\"nameCanonical\":\"\"},{\"curriculum_requisites\":[],\"name\":\" \",\"metrics\":{\"complexity\":1.0,\"centrality\":0,\"blocking factor\":0,\"delay factor\":1.0},\"nameSub\":\"Supporting Science #1\",\"id\":16,\"credits\":4,\"nameCanonical\":\"\"},{\"curriculum_requisites\":[],\"name\":\" \",\"metrics\":{\"complexity\":1.0,\"centrality\":0,\"blocking factor\":0,\"delay factor\":1.0},\"nameSub\":\"Tier 1 General Education 3\",\"id\":17,\"credits\":3,\"nameCanonical\":\"\"},{\"curriculum_requisites\":[],\"name\":\" \",\"metrics\":{\"complexity\":1.0,\"centrality\":0,\"blocking factor\":0,\"delay factor\":1.0},\"nameSub\":\"Tier 1 General Education 4\",\"id\":18,\"credits\":3,\"nameCanonical\":\"\"}],\"id\":4},{\"name\":\"Term 5\",\"curriculum_items\":[{\"curriculum_requisites\":[{\"source_id\":9,\"target_id\":19,\"type\":\"CurriculumPrerequisite\"}],\"name\":\"CSC 335\",\"metrics\":{\"complexity\":5.0,\"centrality\":0,\"blocking factor\":0,\"delay factor\":5.0},\"nameSub\":\"Object-Oriented Programming\",\"id\":19,\"credits\":3,\"nameCanonical\":\"\"},{\"curriculum_requisites\":[{\"source_id\":9,\"target_id\":20,\"type\":\"CurriculumPrerequisite\"},{\"source_id\":10,\"target_id\":20,\"type\":\"CurriculumPrerequisite\"}],\"name\":\"CSC 345\",\"metrics\":{\"complexity\":5.0,\"centrality\":0,\"blocking factor\":0,\"delay factor\":5.0},\"nameSub\":\"Analysis of Discrete Structures\",\"id\":20,\"credits\":3,\"nameCanonical\":\"\"},{\"curriculum_requisites\":[],\"name\":\" \",\"metrics\":{\"complexity\":1.0,\"centrality\":0,\"blocking factor\":0,\"delay factor\":1.0},\"nameSub\":\"Supporting Science #2\",\"id\":21,\"credits\":4,\"nameCanonical\":\"\"},{\"curriculum_requisites\":[],\"name\":\" \",\"metrics\":{\"complexity\":1.0,\"centrality\":0,\"blocking factor\":0,\"delay factor\":1.0},\"nameSub\":\"Tier 2 Gen Ed/Upper-Division 1\",\"id\":22,\"credits\":3,\"nameCanonical\":\"\"},{\"curriculum_requisites\":[],\"name\":\" \",\"metrics\":{\"complexity\":1.0,\"centrality\":0,\"blocking factor\":0,\"delay factor\":1.0},\"nameSub\":\"Upper-Division Elective\",\"id\":23,\"credits\":3,\"nameCanonical\":\"\"}],\"id\":5},{\"name\":\"Term 6\",\"curriculum_items\":[{\"curriculum_requisites\":[],\"name\":\"CSC \",\"metrics\":{\"complexity\":1.0,\"centrality\":0,\"blocking factor\":0,\"delay factor\":1.0},\"nameSub\":\"CSC Paradigms Elective\",\"id\":24,\"credits\":3,\"nameCanonical\":\"\"},{\"curriculum_requisites\":[],\"name\":\"CSC \",\"metrics\":{\"complexity\":1.0,\"centrality\":0,\"blocking factor\":0,\"delay factor\":1.0},\"nameSub\":\"CSC 400-Level Elective 1\",\"id\":25,\"credits\":3,\"nameCanonical\":\"\"},{\"curriculum_requisites\":[],\"name\":\" \",\"metrics\":{\"complexity\":1.0,\"centrality\":0,\"blocking factor\":0,\"delay factor\":1.0},\"nameSub\":\"Tier 2 Gen Ed/Upper-Division 2\",\"id\":26,\"credits\":3,\"nameCanonical\":\"\"},{\"curriculum_requisites\":[],\"name\":\" \",\"metrics\":{\"complexity\":1.0,\"centrality\":0,\"blocking factor\":0,\"delay factor\":1.0},\"nameSub\":\"Tier 2 Gen Ed/Upper-Division 3\",\"id\":27,\"credits\":3,\"nameCanonical\":\"\"},{\"curriculum_requisites\":[],\"name\":\" \",\"metrics\":{\"complexity\":1.0,\"centrality\":0,\"blocking factor\":0,\"delay factor\":1.0},\"nameSub\":\"Elective 1\",\"id\":28,\"credits\":3,\"nameCanonical\":\"\"}],\"id\":6},{\"name\":\"Term 7\",\"curriculum_items\":[{\"curriculum_requisites\":[],\"name\":\"CSC \",\"metrics\":{\"complexity\":1.0,\"centrality\":0,\"blocking factor\":0,\"delay factor\":1.0},\"nameSub\":\"CSC Theory & Writing Elective\",\"id\":29,\"credits\":3,\"nameCanonical\":\"\"},{\"curriculum_requisites\":[],\"name\":\"CSC \",\"metrics\":{\"complexity\":1.0,\"centrality\":0,\"blocking factor\":0,\"delay factor\":1.0},\"nameSub\":\"CSC 400-Level Elective 2\",\"id\":30,\"credits\":3,\"nameCanonical\":\"\"},{\"curriculum_requisites\":[],\"name\":\" \",\"metrics\":{\"complexity\":1.0,\"centrality\":0,\"blocking factor\":0,\"delay factor\":1.0},\"nameSub\":\"Elective 2\",\"id\":31,\"credits\":3,\"nameCanonical\":\"\"},{\"curriculum_requisites\":[],\"name\":\" \",\"metrics\":{\"complexity\":1.0,\"centrality\":0,\"blocking factor\":0,\"delay factor\":1.0},\"nameSub\":\"Elective 3\",\"id\":32,\"credits\":3,\"nameCanonical\":\"\"},{\"curriculum_requisites\":[],\"name\":\" \",\"metrics\":{\"complexity\":1.0,\"centrality\":0,\"blocking factor\":0,\"delay factor\":1.0},\"nameSub\":\"Elective 4\",\"id\":33,\"credits\":3,\"nameCanonical\":\"\"}],\"id\":7},{\"name\":\"Term 8\",\"curriculum_items\":[{\"curriculum_requisites\":[],\"name\":\"CSC \",\"metrics\":{\"complexity\":1.0,\"centrality\":0,\"blocking factor\":0,\"delay factor\":1.0},\"nameSub\":\"CSC Systems Elective\",\"id\":34,\"credits\":3,\"nameCanonical\":\"\"},{\"curriculum_requisites\":[],\"name\":\"CSC \",\"metrics\":{\"complexity\":1.0,\"centrality\":0,\"blocking factor\":0,\"delay factor\":1.0},\"nameSub\":\"CSC 300/400-Level Elective\",\"id\":35,\"credits\":3,\"nameCanonical\":\"\"},{\"curriculum_requisites\":[],\"name\":\" \",\"metrics\":{\"complexity\":1.0,\"centrality\":0,\"blocking factor\":0,\"delay factor\":1.0},\"nameSub\":\"Upper-Division Elective 1\",\"id\":36,\"credits\":3,\"nameCanonical\":\"\"},{\"curriculum_requisites\":[],\"name\":\" \",\"metrics\":{\"complexity\":1.0,\"centrality\":0,\"blocking factor\":0,\"delay factor\":1.0},\"nameSub\":\"Upper-Division Elective 2\",\"id\":37,\"credits\":3,\"nameCanonical\":\"\"}],\"id\":8}],\"institution\":\"University of Arizona\"}},\"*\"); window.removeEventListener(\"message\",window.messageReceived); window.messageReceived=(function (event){return (event.data.curriculum!==undefined) ? (WebIO.setval({\"name\":\"curriculum-data\",\"scope\":\"15664823260496684953\",\"id\":\"ob_11\",\"type\":\"observable\"},event.data.curriculum)) : undefined}); return window.addEventListener(\"message\",window.messageReceived)})"
          },
          "id": "curriculum",
          "src": "http://localhost:8156",
          "style": {
           "border": "none",
           "height": "100vh",
           "margin": "0",
           "padding": "0",
           "width": "100%"
          }
         },
         "type": "node"
        }
       ],
       "instanceArgs": {
        "handlers": {},
        "id": "15664823260496684953",
        "imports": {
         "data": [],
         "type": "async_block"
        },
        "mount_callbacks": [],
        "observables": {
         "curriculum-data": {
          "id": "ob_11",
          "sync": true,
          "value": {
           "curriculum": {
            "curriculum_terms": [
             {
              "curriculum_items": [
               {
                "credits": 4,
                "curriculum_requisites": [
                 {
                  "source_id": 2,
                  "target_id": 1,
                  "type": "CurriculumCorequisite"
                 }
                ],
                "id": 1,
                "metrics": {
                 "blocking factor": 7,
                 "centrality": 25,
                 "complexity": 12,
                 "delay factor": 5
                },
                "name": "CSC 110",
                "nameCanonical": "",
                "nameSub": "Intro to Computer Programming I"
               },
               {
                "credits": 4,
                "curriculum_requisites": [],
                "id": 2,
                "metrics": {
                 "blocking factor": 10,
                 "centrality": 0,
                 "complexity": 15,
                 "delay factor": 5
                },
                "name": "MATH 120R",
                "nameCanonical": "",
                "nameSub": "Pre-Calculus"
               },
               {
                "credits": 3,
                "curriculum_requisites": [],
                "id": 3,
                "metrics": {
                 "blocking factor": 1,
                 "centrality": 0,
                 "complexity": 3,
                 "delay factor": 2
                },
                "name": "ENGL 101",
                "nameCanonical": "",
                "nameSub": "English Composition I"
               },
               {
                "credits": 4,
                "curriculum_requisites": [],
                "id": 4,
                "metrics": {
                 "blocking factor": 1,
                 "centrality": 0,
                 "complexity": 3,
                 "delay factor": 2
                },
                "name": " ",
                "nameCanonical": "",
                "nameSub": "1st Semester Second Language"
               }
              ],
              "id": 1,
              "name": "Term 1"
             },
             {
              "curriculum_items": [
               {
                "credits": 4,
                "curriculum_requisites": [
                 {
                  "source_id": 1,
                  "target_id": 5,
                  "type": "CurriculumPrerequisite"
                 }
                ],
                "id": 5,
                "metrics": {
                 "blocking factor": 6,
                 "centrality": 25,
                 "complexity": 11,
                 "delay factor": 5
                },
                "name": "CSC 120",
                "nameCanonical": "",
                "nameSub": "Intro to Computer Programming II"
               },
               {
                "credits": 5,
                "curriculum_requisites": [
                 {
                  "source_id": 2,
                  "target_id": 6,
                  "type": "CurriculumPrerequisite"
                 }
                ],
                "id": 6,
                "metrics": {
                 "blocking factor": 1,
                 "centrality": 3,
                 "complexity": 4,
                 "delay factor": 3
                },
                "name": "MATH 122A/B",
                "nameCanonical": "",
                "nameSub": "Calculus I"
               },
               {
                "credits": 4,
                "curriculum_requisites": [
                 {
                  "source_id": 3,
                  "target_id": 7,
                  "type": "CurriculumPrerequisite"
                 }
                ],
                "id": 7,
                "metrics": {
                 "blocking factor": 0,
                 "centrality": 0,
                 "complexity": 2,
                 "delay factor": 2
                },
                "name": "ENGL 102",
                "nameCanonical": "",
                "nameSub": "English Composition II"
               },
               {
                "credits": 4,
                "curriculum_requisites": [
                 {
                  "source_id": 4,
                  "target_id": 8,
                  "type": "CurriculumPrerequisite"
                 }
                ],
                "id": 8,
                "metrics": {
                 "blocking factor": 0,
                 "centrality": 0,
                 "complexity": 2,
                 "delay factor": 2
                },
                "name": " ",
                "nameCanonical": "",
                "nameSub": "2nd Semester Second Language"
               }
              ],
              "id": 2,
              "name": "Term 2"
             },
             {
              "curriculum_items": [
               {
                "credits": 4,
                "curriculum_requisites": [
                 {
                  "source_id": 5,
                  "target_id": 9,
                  "type": "CurriculumPrerequisite"
                 }
                ],
                "id": 9,
                "metrics": {
                 "blocking factor": 4,
                 "centrality": 20,
                 "complexity": 9,
                 "delay factor": 5
                },
                "name": "CSC 210",
                "nameCanonical": "",
                "nameSub": "Software Development"
               },
               {
                "credits": 3,
                "curriculum_requisites": [
                 {
                  "source_id": 5,
                  "target_id": 10,
                  "type": "CurriculumPrerequisite"
                 }
                ],
                "id": 10,
                "metrics": {
                 "blocking factor": 1,
                 "centrality": 5,
                 "complexity": 6,
                 "delay factor": 5
                },
                "name": "CSC 245",
                "nameCanonical": "",
                "nameSub": "Intro to Discrete Structures"
               },
               {
                "credits": 3,
                "curriculum_requisites": [
                 {
                  "source_id": 6,
                  "target_id": 11,
                  "type": "CurriculumPrerequisite"
                 }
                ],
                "id": 11,
                "metrics": {
                 "blocking factor": 0,
                 "centrality": 0,
                 "complexity": 3,
                 "delay factor": 3
                },
                "name": "MATH 129",
                "nameCanonical": "",
                "nameSub": "Calculus II"
               },
               {
                "credits": 3,
                "curriculum_requisites": [],
                "id": 12,
                "metrics": {
                 "blocking factor": 0,
                 "centrality": 0,
                 "complexity": 1,
                 "delay factor": 1
                },
                "name": " ",
                "nameCanonical": "",
                "nameSub": "Tier 1 General Education 1"
               },
               {
                "credits": 3,
                "curriculum_requisites": [],
                "id": 13,
                "metrics": {
                 "blocking factor": 0,
                 "centrality": 0,
                 "complexity": 1,
                 "delay factor": 1
                },
                "name": " ",
                "nameCanonical": "",
                "nameSub": "Tier 1 General Education 2"
               }
              ],
              "id": 3,
              "name": "Term 3"
             },
             {
              "curriculum_items": [
               {
                "credits": 3,
                "curriculum_requisites": [
                 {
                  "source_id": 9,
                  "target_id": 14,
                  "type": "CurriculumPrerequisite"
                 }
                ],
                "id": 14,
                "metrics": {
                 "blocking factor": 0,
                 "centrality": 0,
                 "complexity": 5,
                 "delay factor": 5
                },
                "name": "CSC 252",
                "nameCanonical": "",
                "nameSub": "Computer Organization"
               },
               {
                "credits": 3,
                "curriculum_requisites": [
                 {
                  "source_id": 9,
                  "target_id": 15,
                  "type": "CurriculumPrerequisite"
                 }
                ],
                "id": 15,
                "metrics": {
                 "blocking factor": 0,
                 "centrality": 0,
                 "complexity": 5,
                 "delay factor": 5
                },
                "name": "CSC 352",
                "nameCanonical": "",
                "nameSub": "Systems Programming & Unix"
               },
               {
                "credits": 4,
                "curriculum_requisites": [],
                "id": 16,
                "metrics": {
                 "blocking factor": 0,
                 "centrality": 0,
                 "complexity": 1,
                 "delay factor": 1
                },
                "name": " ",
                "nameCanonical": "",
                "nameSub": "Supporting Science #1"
               },
               {
                "credits": 3,
                "curriculum_requisites": [],
                "id": 17,
                "metrics": {
                 "blocking factor": 0,
                 "centrality": 0,
                 "complexity": 1,
                 "delay factor": 1
                },
                "name": " ",
                "nameCanonical": "",
                "nameSub": "Tier 1 General Education 3"
               },
               {
                "credits": 3,
                "curriculum_requisites": [],
                "id": 18,
                "metrics": {
                 "blocking factor": 0,
                 "centrality": 0,
                 "complexity": 1,
                 "delay factor": 1
                },
                "name": " ",
                "nameCanonical": "",
                "nameSub": "Tier 1 General Education 4"
               }
              ],
              "id": 4,
              "name": "Term 4"
             },
             {
              "curriculum_items": [
               {
                "credits": 3,
                "curriculum_requisites": [
                 {
                  "source_id": 9,
                  "target_id": 19,
                  "type": "CurriculumPrerequisite"
                 }
                ],
                "id": 19,
                "metrics": {
                 "blocking factor": 0,
                 "centrality": 0,
                 "complexity": 5,
                 "delay factor": 5
                },
                "name": "CSC 335",
                "nameCanonical": "",
                "nameSub": "Object-Oriented Programming"
               },
               {
                "credits": 3,
                "curriculum_requisites": [
                 {
                  "source_id": 9,
                  "target_id": 20,
                  "type": "CurriculumPrerequisite"
                 },
                 {
                  "source_id": 10,
                  "target_id": 20,
                  "type": "CurriculumPrerequisite"
                 }
                ],
                "id": 20,
                "metrics": {
                 "blocking factor": 0,
                 "centrality": 0,
                 "complexity": 5,
                 "delay factor": 5
                },
                "name": "CSC 345",
                "nameCanonical": "",
                "nameSub": "Analysis of Discrete Structures"
               },
               {
                "credits": 4,
                "curriculum_requisites": [],
                "id": 21,
                "metrics": {
                 "blocking factor": 0,
                 "centrality": 0,
                 "complexity": 1,
                 "delay factor": 1
                },
                "name": " ",
                "nameCanonical": "",
                "nameSub": "Supporting Science #2"
               },
               {
                "credits": 3,
                "curriculum_requisites": [],
                "id": 22,
                "metrics": {
                 "blocking factor": 0,
                 "centrality": 0,
                 "complexity": 1,
                 "delay factor": 1
                },
                "name": " ",
                "nameCanonical": "",
                "nameSub": "Tier 2 Gen Ed/Upper-Division 1"
               },
               {
                "credits": 3,
                "curriculum_requisites": [],
                "id": 23,
                "metrics": {
                 "blocking factor": 0,
                 "centrality": 0,
                 "complexity": 1,
                 "delay factor": 1
                },
                "name": " ",
                "nameCanonical": "",
                "nameSub": "Upper-Division Elective"
               }
              ],
              "id": 5,
              "name": "Term 5"
             },
             {
              "curriculum_items": [
               {
                "credits": 3,
                "curriculum_requisites": [],
                "id": 24,
                "metrics": {
                 "blocking factor": 0,
                 "centrality": 0,
                 "complexity": 1,
                 "delay factor": 1
                },
                "name": "CSC ",
                "nameCanonical": "",
                "nameSub": "CSC Paradigms Elective"
               },
               {
                "credits": 3,
                "curriculum_requisites": [],
                "id": 25,
                "metrics": {
                 "blocking factor": 0,
                 "centrality": 0,
                 "complexity": 1,
                 "delay factor": 1
                },
                "name": "CSC ",
                "nameCanonical": "",
                "nameSub": "CSC 400-Level Elective 1"
               },
               {
                "credits": 3,
                "curriculum_requisites": [],
                "id": 26,
                "metrics": {
                 "blocking factor": 0,
                 "centrality": 0,
                 "complexity": 1,
                 "delay factor": 1
                },
                "name": " ",
                "nameCanonical": "",
                "nameSub": "Tier 2 Gen Ed/Upper-Division 2"
               },
               {
                "credits": 3,
                "curriculum_requisites": [],
                "id": 27,
                "metrics": {
                 "blocking factor": 0,
                 "centrality": 0,
                 "complexity": 1,
                 "delay factor": 1
                },
                "name": " ",
                "nameCanonical": "",
                "nameSub": "Tier 2 Gen Ed/Upper-Division 3"
               },
               {
                "credits": 3,
                "curriculum_requisites": [],
                "id": 28,
                "metrics": {
                 "blocking factor": 0,
                 "centrality": 0,
                 "complexity": 1,
                 "delay factor": 1
                },
                "name": " ",
                "nameCanonical": "",
                "nameSub": "Elective 1"
               }
              ],
              "id": 6,
              "name": "Term 6"
             },
             {
              "curriculum_items": [
               {
                "credits": 3,
                "curriculum_requisites": [],
                "id": 29,
                "metrics": {
                 "blocking factor": 0,
                 "centrality": 0,
                 "complexity": 1,
                 "delay factor": 1
                },
                "name": "CSC ",
                "nameCanonical": "",
                "nameSub": "CSC Theory & Writing Elective"
               },
               {
                "credits": 3,
                "curriculum_requisites": [],
                "id": 30,
                "metrics": {
                 "blocking factor": 0,
                 "centrality": 0,
                 "complexity": 1,
                 "delay factor": 1
                },
                "name": "CSC ",
                "nameCanonical": "",
                "nameSub": "CSC 400-Level Elective 2"
               },
               {
                "credits": 3,
                "curriculum_requisites": [],
                "id": 31,
                "metrics": {
                 "blocking factor": 0,
                 "centrality": 0,
                 "complexity": 1,
                 "delay factor": 1
                },
                "name": " ",
                "nameCanonical": "",
                "nameSub": "Elective 2"
               },
               {
                "credits": 3,
                "curriculum_requisites": [],
                "id": 32,
                "metrics": {
                 "blocking factor": 0,
                 "centrality": 0,
                 "complexity": 1,
                 "delay factor": 1
                },
                "name": " ",
                "nameCanonical": "",
                "nameSub": "Elective 3"
               },
               {
                "credits": 3,
                "curriculum_requisites": [],
                "id": 33,
                "metrics": {
                 "blocking factor": 0,
                 "centrality": 0,
                 "complexity": 1,
                 "delay factor": 1
                },
                "name": " ",
                "nameCanonical": "",
                "nameSub": "Elective 4"
               }
              ],
              "id": 7,
              "name": "Term 7"
             },
             {
              "curriculum_items": [
               {
                "credits": 3,
                "curriculum_requisites": [],
                "id": 34,
                "metrics": {
                 "blocking factor": 0,
                 "centrality": 0,
                 "complexity": 1,
                 "delay factor": 1
                },
                "name": "CSC ",
                "nameCanonical": "",
                "nameSub": "CSC Systems Elective"
               },
               {
                "credits": 3,
                "curriculum_requisites": [],
                "id": 35,
                "metrics": {
                 "blocking factor": 0,
                 "centrality": 0,
                 "complexity": 1,
                 "delay factor": 1
                },
                "name": "CSC ",
                "nameCanonical": "",
                "nameSub": "CSC 300/400-Level Elective"
               },
               {
                "credits": 3,
                "curriculum_requisites": [],
                "id": 36,
                "metrics": {
                 "blocking factor": 0,
                 "centrality": 0,
                 "complexity": 1,
                 "delay factor": 1
                },
                "name": " ",
                "nameCanonical": "",
                "nameSub": "Upper-Division Elective 1"
               },
               {
                "credits": 3,
                "curriculum_requisites": [],
                "id": 37,
                "metrics": {
                 "blocking factor": 0,
                 "centrality": 0,
                 "complexity": 1,
                 "delay factor": 1
                },
                "name": " ",
                "nameCanonical": "",
                "nameSub": "Upper-Division Elective 2"
               }
              ],
              "id": 8,
              "name": "Term 8"
             }
            ],
            "dp_name": "2019-20 Degree Plan",
            "institution": "University of Arizona",
            "name": "Computer Science"
           },
           "options": {
            "edit": false,
            "hideTerms": false
           }
          }
         }
        },
        "systemjs_options": null
       },
       "nodeType": "Scope",
       "props": {},
       "type": "node"
      },
      "text/html": [
       "<div\n",
       "    class=\"webio-mountpoint\"\n",
       "    data-webio-mountpoint=\"5108853849590174964\"\n",
       ">\n",
       "    <script>\n",
       "    if (window.require && require.defined && require.defined(\"nbextensions/webio-jupyter-notebook\")) {\n",
       "        console.log(\"Jupyter WebIO extension detected, not mounting.\");\n",
       "    } else if (window.WebIO) {\n",
       "        WebIO.mount(\n",
       "            document.querySelector('[data-webio-mountpoint=\"5108853849590174964\"]'),\n",
       "            {\"props\":{},\"nodeType\":\"Scope\",\"type\":\"node\",\"instanceArgs\":{\"imports\":{\"data\":[],\"type\":\"async_block\"},\"id\":\"15664823260496684953\",\"handlers\":{},\"systemjs_options\":null,\"mount_callbacks\":[],\"observables\":{\"curriculum-data\":{\"sync\":true,\"id\":\"ob_11\",\"value\":{\"options\":{\"hideTerms\":false,\"edit\":false},\"curriculum\":{\"name\":\"Computer Science\",\"dp_name\":\"2019-20 Degree Plan\",\"curriculum_terms\":[{\"name\":\"Term 1\",\"curriculum_items\":[{\"curriculum_requisites\":[{\"source_id\":2,\"target_id\":1,\"type\":\"CurriculumCorequisite\"}],\"name\":\"CSC 110\",\"metrics\":{\"complexity\":12.0,\"centrality\":25,\"blocking factor\":7,\"delay factor\":5.0},\"nameSub\":\"Intro to Computer Programming I\",\"id\":1,\"credits\":4,\"nameCanonical\":\"\"},{\"curriculum_requisites\":[],\"name\":\"MATH 120R\",\"metrics\":{\"complexity\":15.0,\"centrality\":0,\"blocking factor\":10,\"delay factor\":5.0},\"nameSub\":\"Pre-Calculus\",\"id\":2,\"credits\":4,\"nameCanonical\":\"\"},{\"curriculum_requisites\":[],\"name\":\"ENGL 101\",\"metrics\":{\"complexity\":3.0,\"centrality\":0,\"blocking factor\":1,\"delay factor\":2.0},\"nameSub\":\"English Composition I\",\"id\":3,\"credits\":3,\"nameCanonical\":\"\"},{\"curriculum_requisites\":[],\"name\":\" \",\"metrics\":{\"complexity\":3.0,\"centrality\":0,\"blocking factor\":1,\"delay factor\":2.0},\"nameSub\":\"1st Semester Second Language\",\"id\":4,\"credits\":4,\"nameCanonical\":\"\"}],\"id\":1},{\"name\":\"Term 2\",\"curriculum_items\":[{\"curriculum_requisites\":[{\"source_id\":1,\"target_id\":5,\"type\":\"CurriculumPrerequisite\"}],\"name\":\"CSC 120\",\"metrics\":{\"complexity\":11.0,\"centrality\":25,\"blocking factor\":6,\"delay factor\":5.0},\"nameSub\":\"Intro to Computer Programming II\",\"id\":5,\"credits\":4,\"nameCanonical\":\"\"},{\"curriculum_requisites\":[{\"source_id\":2,\"target_id\":6,\"type\":\"CurriculumPrerequisite\"}],\"name\":\"MATH 122A\\/B\",\"metrics\":{\"complexity\":4.0,\"centrality\":3,\"blocking factor\":1,\"delay factor\":3.0},\"nameSub\":\"Calculus I\",\"id\":6,\"credits\":5,\"nameCanonical\":\"\"},{\"curriculum_requisites\":[{\"source_id\":3,\"target_id\":7,\"type\":\"CurriculumPrerequisite\"}],\"name\":\"ENGL 102\",\"metrics\":{\"complexity\":2.0,\"centrality\":0,\"blocking factor\":0,\"delay factor\":2.0},\"nameSub\":\"English Composition II\",\"id\":7,\"credits\":4,\"nameCanonical\":\"\"},{\"curriculum_requisites\":[{\"source_id\":4,\"target_id\":8,\"type\":\"CurriculumPrerequisite\"}],\"name\":\" \",\"metrics\":{\"complexity\":2.0,\"centrality\":0,\"blocking factor\":0,\"delay factor\":2.0},\"nameSub\":\"2nd Semester Second Language\",\"id\":8,\"credits\":4,\"nameCanonical\":\"\"}],\"id\":2},{\"name\":\"Term 3\",\"curriculum_items\":[{\"curriculum_requisites\":[{\"source_id\":5,\"target_id\":9,\"type\":\"CurriculumPrerequisite\"}],\"name\":\"CSC 210\",\"metrics\":{\"complexity\":9.0,\"centrality\":20,\"blocking factor\":4,\"delay factor\":5.0},\"nameSub\":\"Software Development\",\"id\":9,\"credits\":4,\"nameCanonical\":\"\"},{\"curriculum_requisites\":[{\"source_id\":5,\"target_id\":10,\"type\":\"CurriculumPrerequisite\"}],\"name\":\"CSC 245\",\"metrics\":{\"complexity\":6.0,\"centrality\":5,\"blocking factor\":1,\"delay factor\":5.0},\"nameSub\":\"Intro to Discrete Structures\",\"id\":10,\"credits\":3,\"nameCanonical\":\"\"},{\"curriculum_requisites\":[{\"source_id\":6,\"target_id\":11,\"type\":\"CurriculumPrerequisite\"}],\"name\":\"MATH 129\",\"metrics\":{\"complexity\":3.0,\"centrality\":0,\"blocking factor\":0,\"delay factor\":3.0},\"nameSub\":\"Calculus II\",\"id\":11,\"credits\":3,\"nameCanonical\":\"\"},{\"curriculum_requisites\":[],\"name\":\" \",\"metrics\":{\"complexity\":1.0,\"centrality\":0,\"blocking factor\":0,\"delay factor\":1.0},\"nameSub\":\"Tier 1 General Education 1\",\"id\":12,\"credits\":3,\"nameCanonical\":\"\"},{\"curriculum_requisites\":[],\"name\":\" \",\"metrics\":{\"complexity\":1.0,\"centrality\":0,\"blocking factor\":0,\"delay factor\":1.0},\"nameSub\":\"Tier 1 General Education 2\",\"id\":13,\"credits\":3,\"nameCanonical\":\"\"}],\"id\":3},{\"name\":\"Term 4\",\"curriculum_items\":[{\"curriculum_requisites\":[{\"source_id\":9,\"target_id\":14,\"type\":\"CurriculumPrerequisite\"}],\"name\":\"CSC 252\",\"metrics\":{\"complexity\":5.0,\"centrality\":0,\"blocking factor\":0,\"delay factor\":5.0},\"nameSub\":\"Computer Organization\",\"id\":14,\"credits\":3,\"nameCanonical\":\"\"},{\"curriculum_requisites\":[{\"source_id\":9,\"target_id\":15,\"type\":\"CurriculumPrerequisite\"}],\"name\":\"CSC 352\",\"metrics\":{\"complexity\":5.0,\"centrality\":0,\"blocking factor\":0,\"delay factor\":5.0},\"nameSub\":\"Systems Programming & Unix\",\"id\":15,\"credits\":3,\"nameCanonical\":\"\"},{\"curriculum_requisites\":[],\"name\":\" \",\"metrics\":{\"complexity\":1.0,\"centrality\":0,\"blocking factor\":0,\"delay factor\":1.0},\"nameSub\":\"Supporting Science #1\",\"id\":16,\"credits\":4,\"nameCanonical\":\"\"},{\"curriculum_requisites\":[],\"name\":\" \",\"metrics\":{\"complexity\":1.0,\"centrality\":0,\"blocking factor\":0,\"delay factor\":1.0},\"nameSub\":\"Tier 1 General Education 3\",\"id\":17,\"credits\":3,\"nameCanonical\":\"\"},{\"curriculum_requisites\":[],\"name\":\" \",\"metrics\":{\"complexity\":1.0,\"centrality\":0,\"blocking factor\":0,\"delay factor\":1.0},\"nameSub\":\"Tier 1 General Education 4\",\"id\":18,\"credits\":3,\"nameCanonical\":\"\"}],\"id\":4},{\"name\":\"Term 5\",\"curriculum_items\":[{\"curriculum_requisites\":[{\"source_id\":9,\"target_id\":19,\"type\":\"CurriculumPrerequisite\"}],\"name\":\"CSC 335\",\"metrics\":{\"complexity\":5.0,\"centrality\":0,\"blocking factor\":0,\"delay factor\":5.0},\"nameSub\":\"Object-Oriented Programming\",\"id\":19,\"credits\":3,\"nameCanonical\":\"\"},{\"curriculum_requisites\":[{\"source_id\":9,\"target_id\":20,\"type\":\"CurriculumPrerequisite\"},{\"source_id\":10,\"target_id\":20,\"type\":\"CurriculumPrerequisite\"}],\"name\":\"CSC 345\",\"metrics\":{\"complexity\":5.0,\"centrality\":0,\"blocking factor\":0,\"delay factor\":5.0},\"nameSub\":\"Analysis of Discrete Structures\",\"id\":20,\"credits\":3,\"nameCanonical\":\"\"},{\"curriculum_requisites\":[],\"name\":\" \",\"metrics\":{\"complexity\":1.0,\"centrality\":0,\"blocking factor\":0,\"delay factor\":1.0},\"nameSub\":\"Supporting Science #2\",\"id\":21,\"credits\":4,\"nameCanonical\":\"\"},{\"curriculum_requisites\":[],\"name\":\" \",\"metrics\":{\"complexity\":1.0,\"centrality\":0,\"blocking factor\":0,\"delay factor\":1.0},\"nameSub\":\"Tier 2 Gen Ed\\/Upper-Division 1\",\"id\":22,\"credits\":3,\"nameCanonical\":\"\"},{\"curriculum_requisites\":[],\"name\":\" \",\"metrics\":{\"complexity\":1.0,\"centrality\":0,\"blocking factor\":0,\"delay factor\":1.0},\"nameSub\":\"Upper-Division Elective\",\"id\":23,\"credits\":3,\"nameCanonical\":\"\"}],\"id\":5},{\"name\":\"Term 6\",\"curriculum_items\":[{\"curriculum_requisites\":[],\"name\":\"CSC \",\"metrics\":{\"complexity\":1.0,\"centrality\":0,\"blocking factor\":0,\"delay factor\":1.0},\"nameSub\":\"CSC Paradigms Elective\",\"id\":24,\"credits\":3,\"nameCanonical\":\"\"},{\"curriculum_requisites\":[],\"name\":\"CSC \",\"metrics\":{\"complexity\":1.0,\"centrality\":0,\"blocking factor\":0,\"delay factor\":1.0},\"nameSub\":\"CSC 400-Level Elective 1\",\"id\":25,\"credits\":3,\"nameCanonical\":\"\"},{\"curriculum_requisites\":[],\"name\":\" \",\"metrics\":{\"complexity\":1.0,\"centrality\":0,\"blocking factor\":0,\"delay factor\":1.0},\"nameSub\":\"Tier 2 Gen Ed\\/Upper-Division 2\",\"id\":26,\"credits\":3,\"nameCanonical\":\"\"},{\"curriculum_requisites\":[],\"name\":\" \",\"metrics\":{\"complexity\":1.0,\"centrality\":0,\"blocking factor\":0,\"delay factor\":1.0},\"nameSub\":\"Tier 2 Gen Ed\\/Upper-Division 3\",\"id\":27,\"credits\":3,\"nameCanonical\":\"\"},{\"curriculum_requisites\":[],\"name\":\" \",\"metrics\":{\"complexity\":1.0,\"centrality\":0,\"blocking factor\":0,\"delay factor\":1.0},\"nameSub\":\"Elective 1\",\"id\":28,\"credits\":3,\"nameCanonical\":\"\"}],\"id\":6},{\"name\":\"Term 7\",\"curriculum_items\":[{\"curriculum_requisites\":[],\"name\":\"CSC \",\"metrics\":{\"complexity\":1.0,\"centrality\":0,\"blocking factor\":0,\"delay factor\":1.0},\"nameSub\":\"CSC Theory & Writing Elective\",\"id\":29,\"credits\":3,\"nameCanonical\":\"\"},{\"curriculum_requisites\":[],\"name\":\"CSC \",\"metrics\":{\"complexity\":1.0,\"centrality\":0,\"blocking factor\":0,\"delay factor\":1.0},\"nameSub\":\"CSC 400-Level Elective 2\",\"id\":30,\"credits\":3,\"nameCanonical\":\"\"},{\"curriculum_requisites\":[],\"name\":\" \",\"metrics\":{\"complexity\":1.0,\"centrality\":0,\"blocking factor\":0,\"delay factor\":1.0},\"nameSub\":\"Elective 2\",\"id\":31,\"credits\":3,\"nameCanonical\":\"\"},{\"curriculum_requisites\":[],\"name\":\" \",\"metrics\":{\"complexity\":1.0,\"centrality\":0,\"blocking factor\":0,\"delay factor\":1.0},\"nameSub\":\"Elective 3\",\"id\":32,\"credits\":3,\"nameCanonical\":\"\"},{\"curriculum_requisites\":[],\"name\":\" \",\"metrics\":{\"complexity\":1.0,\"centrality\":0,\"blocking factor\":0,\"delay factor\":1.0},\"nameSub\":\"Elective 4\",\"id\":33,\"credits\":3,\"nameCanonical\":\"\"}],\"id\":7},{\"name\":\"Term 8\",\"curriculum_items\":[{\"curriculum_requisites\":[],\"name\":\"CSC \",\"metrics\":{\"complexity\":1.0,\"centrality\":0,\"blocking factor\":0,\"delay factor\":1.0},\"nameSub\":\"CSC Systems Elective\",\"id\":34,\"credits\":3,\"nameCanonical\":\"\"},{\"curriculum_requisites\":[],\"name\":\"CSC \",\"metrics\":{\"complexity\":1.0,\"centrality\":0,\"blocking factor\":0,\"delay factor\":1.0},\"nameSub\":\"CSC 300\\/400-Level Elective\",\"id\":35,\"credits\":3,\"nameCanonical\":\"\"},{\"curriculum_requisites\":[],\"name\":\" \",\"metrics\":{\"complexity\":1.0,\"centrality\":0,\"blocking factor\":0,\"delay factor\":1.0},\"nameSub\":\"Upper-Division Elective 1\",\"id\":36,\"credits\":3,\"nameCanonical\":\"\"},{\"curriculum_requisites\":[],\"name\":\" \",\"metrics\":{\"complexity\":1.0,\"centrality\":0,\"blocking factor\":0,\"delay factor\":1.0},\"nameSub\":\"Upper-Division Elective 2\",\"id\":37,\"credits\":3,\"nameCanonical\":\"\"}],\"id\":8}],\"institution\":\"University of Arizona\"}}}}},\"children\":[{\"props\":{\"src\":\"http:\\/\\/localhost:8156\",\"id\":\"curriculum\",\"events\":{\"load\":\"(function (){this.contentWindow.postMessage({\\\"options\\\":{\\\"hideTerms\\\":false,\\\"edit\\\":false},\\\"curriculum\\\":{\\\"name\\\":\\\"Computer Science\\\",\\\"dp_name\\\":\\\"2019-20 Degree Plan\\\",\\\"curriculum_terms\\\":[{\\\"name\\\":\\\"Term 1\\\",\\\"curriculum_items\\\":[{\\\"curriculum_requisites\\\":[{\\\"source_id\\\":2,\\\"target_id\\\":1,\\\"type\\\":\\\"CurriculumCorequisite\\\"}],\\\"name\\\":\\\"CSC 110\\\",\\\"metrics\\\":{\\\"complexity\\\":12.0,\\\"centrality\\\":25,\\\"blocking factor\\\":7,\\\"delay factor\\\":5.0},\\\"nameSub\\\":\\\"Intro to Computer Programming I\\\",\\\"id\\\":1,\\\"credits\\\":4,\\\"nameCanonical\\\":\\\"\\\"},{\\\"curriculum_requisites\\\":[],\\\"name\\\":\\\"MATH 120R\\\",\\\"metrics\\\":{\\\"complexity\\\":15.0,\\\"centrality\\\":0,\\\"blocking factor\\\":10,\\\"delay factor\\\":5.0},\\\"nameSub\\\":\\\"Pre-Calculus\\\",\\\"id\\\":2,\\\"credits\\\":4,\\\"nameCanonical\\\":\\\"\\\"},{\\\"curriculum_requisites\\\":[],\\\"name\\\":\\\"ENGL 101\\\",\\\"metrics\\\":{\\\"complexity\\\":3.0,\\\"centrality\\\":0,\\\"blocking factor\\\":1,\\\"delay factor\\\":2.0},\\\"nameSub\\\":\\\"English Composition I\\\",\\\"id\\\":3,\\\"credits\\\":3,\\\"nameCanonical\\\":\\\"\\\"},{\\\"curriculum_requisites\\\":[],\\\"name\\\":\\\" \\\",\\\"metrics\\\":{\\\"complexity\\\":3.0,\\\"centrality\\\":0,\\\"blocking factor\\\":1,\\\"delay factor\\\":2.0},\\\"nameSub\\\":\\\"1st Semester Second Language\\\",\\\"id\\\":4,\\\"credits\\\":4,\\\"nameCanonical\\\":\\\"\\\"}],\\\"id\\\":1},{\\\"name\\\":\\\"Term 2\\\",\\\"curriculum_items\\\":[{\\\"curriculum_requisites\\\":[{\\\"source_id\\\":1,\\\"target_id\\\":5,\\\"type\\\":\\\"CurriculumPrerequisite\\\"}],\\\"name\\\":\\\"CSC 120\\\",\\\"metrics\\\":{\\\"complexity\\\":11.0,\\\"centrality\\\":25,\\\"blocking factor\\\":6,\\\"delay factor\\\":5.0},\\\"nameSub\\\":\\\"Intro to Computer Programming II\\\",\\\"id\\\":5,\\\"credits\\\":4,\\\"nameCanonical\\\":\\\"\\\"},{\\\"curriculum_requisites\\\":[{\\\"source_id\\\":2,\\\"target_id\\\":6,\\\"type\\\":\\\"CurriculumPrerequisite\\\"}],\\\"name\\\":\\\"MATH 122A\\/B\\\",\\\"metrics\\\":{\\\"complexity\\\":4.0,\\\"centrality\\\":3,\\\"blocking factor\\\":1,\\\"delay factor\\\":3.0},\\\"nameSub\\\":\\\"Calculus I\\\",\\\"id\\\":6,\\\"credits\\\":5,\\\"nameCanonical\\\":\\\"\\\"},{\\\"curriculum_requisites\\\":[{\\\"source_id\\\":3,\\\"target_id\\\":7,\\\"type\\\":\\\"CurriculumPrerequisite\\\"}],\\\"name\\\":\\\"ENGL 102\\\",\\\"metrics\\\":{\\\"complexity\\\":2.0,\\\"centrality\\\":0,\\\"blocking factor\\\":0,\\\"delay factor\\\":2.0},\\\"nameSub\\\":\\\"English Composition II\\\",\\\"id\\\":7,\\\"credits\\\":4,\\\"nameCanonical\\\":\\\"\\\"},{\\\"curriculum_requisites\\\":[{\\\"source_id\\\":4,\\\"target_id\\\":8,\\\"type\\\":\\\"CurriculumPrerequisite\\\"}],\\\"name\\\":\\\" \\\",\\\"metrics\\\":{\\\"complexity\\\":2.0,\\\"centrality\\\":0,\\\"blocking factor\\\":0,\\\"delay factor\\\":2.0},\\\"nameSub\\\":\\\"2nd Semester Second Language\\\",\\\"id\\\":8,\\\"credits\\\":4,\\\"nameCanonical\\\":\\\"\\\"}],\\\"id\\\":2},{\\\"name\\\":\\\"Term 3\\\",\\\"curriculum_items\\\":[{\\\"curriculum_requisites\\\":[{\\\"source_id\\\":5,\\\"target_id\\\":9,\\\"type\\\":\\\"CurriculumPrerequisite\\\"}],\\\"name\\\":\\\"CSC 210\\\",\\\"metrics\\\":{\\\"complexity\\\":9.0,\\\"centrality\\\":20,\\\"blocking factor\\\":4,\\\"delay factor\\\":5.0},\\\"nameSub\\\":\\\"Software Development\\\",\\\"id\\\":9,\\\"credits\\\":4,\\\"nameCanonical\\\":\\\"\\\"},{\\\"curriculum_requisites\\\":[{\\\"source_id\\\":5,\\\"target_id\\\":10,\\\"type\\\":\\\"CurriculumPrerequisite\\\"}],\\\"name\\\":\\\"CSC 245\\\",\\\"metrics\\\":{\\\"complexity\\\":6.0,\\\"centrality\\\":5,\\\"blocking factor\\\":1,\\\"delay factor\\\":5.0},\\\"nameSub\\\":\\\"Intro to Discrete Structures\\\",\\\"id\\\":10,\\\"credits\\\":3,\\\"nameCanonical\\\":\\\"\\\"},{\\\"curriculum_requisites\\\":[{\\\"source_id\\\":6,\\\"target_id\\\":11,\\\"type\\\":\\\"CurriculumPrerequisite\\\"}],\\\"name\\\":\\\"MATH 129\\\",\\\"metrics\\\":{\\\"complexity\\\":3.0,\\\"centrality\\\":0,\\\"blocking factor\\\":0,\\\"delay factor\\\":3.0},\\\"nameSub\\\":\\\"Calculus II\\\",\\\"id\\\":11,\\\"credits\\\":3,\\\"nameCanonical\\\":\\\"\\\"},{\\\"curriculum_requisites\\\":[],\\\"name\\\":\\\" \\\",\\\"metrics\\\":{\\\"complexity\\\":1.0,\\\"centrality\\\":0,\\\"blocking factor\\\":0,\\\"delay factor\\\":1.0},\\\"nameSub\\\":\\\"Tier 1 General Education 1\\\",\\\"id\\\":12,\\\"credits\\\":3,\\\"nameCanonical\\\":\\\"\\\"},{\\\"curriculum_requisites\\\":[],\\\"name\\\":\\\" \\\",\\\"metrics\\\":{\\\"complexity\\\":1.0,\\\"centrality\\\":0,\\\"blocking factor\\\":0,\\\"delay factor\\\":1.0},\\\"nameSub\\\":\\\"Tier 1 General Education 2\\\",\\\"id\\\":13,\\\"credits\\\":3,\\\"nameCanonical\\\":\\\"\\\"}],\\\"id\\\":3},{\\\"name\\\":\\\"Term 4\\\",\\\"curriculum_items\\\":[{\\\"curriculum_requisites\\\":[{\\\"source_id\\\":9,\\\"target_id\\\":14,\\\"type\\\":\\\"CurriculumPrerequisite\\\"}],\\\"name\\\":\\\"CSC 252\\\",\\\"metrics\\\":{\\\"complexity\\\":5.0,\\\"centrality\\\":0,\\\"blocking factor\\\":0,\\\"delay factor\\\":5.0},\\\"nameSub\\\":\\\"Computer Organization\\\",\\\"id\\\":14,\\\"credits\\\":3,\\\"nameCanonical\\\":\\\"\\\"},{\\\"curriculum_requisites\\\":[{\\\"source_id\\\":9,\\\"target_id\\\":15,\\\"type\\\":\\\"CurriculumPrerequisite\\\"}],\\\"name\\\":\\\"CSC 352\\\",\\\"metrics\\\":{\\\"complexity\\\":5.0,\\\"centrality\\\":0,\\\"blocking factor\\\":0,\\\"delay factor\\\":5.0},\\\"nameSub\\\":\\\"Systems Programming & Unix\\\",\\\"id\\\":15,\\\"credits\\\":3,\\\"nameCanonical\\\":\\\"\\\"},{\\\"curriculum_requisites\\\":[],\\\"name\\\":\\\" \\\",\\\"metrics\\\":{\\\"complexity\\\":1.0,\\\"centrality\\\":0,\\\"blocking factor\\\":0,\\\"delay factor\\\":1.0},\\\"nameSub\\\":\\\"Supporting Science #1\\\",\\\"id\\\":16,\\\"credits\\\":4,\\\"nameCanonical\\\":\\\"\\\"},{\\\"curriculum_requisites\\\":[],\\\"name\\\":\\\" \\\",\\\"metrics\\\":{\\\"complexity\\\":1.0,\\\"centrality\\\":0,\\\"blocking factor\\\":0,\\\"delay factor\\\":1.0},\\\"nameSub\\\":\\\"Tier 1 General Education 3\\\",\\\"id\\\":17,\\\"credits\\\":3,\\\"nameCanonical\\\":\\\"\\\"},{\\\"curriculum_requisites\\\":[],\\\"name\\\":\\\" \\\",\\\"metrics\\\":{\\\"complexity\\\":1.0,\\\"centrality\\\":0,\\\"blocking factor\\\":0,\\\"delay factor\\\":1.0},\\\"nameSub\\\":\\\"Tier 1 General Education 4\\\",\\\"id\\\":18,\\\"credits\\\":3,\\\"nameCanonical\\\":\\\"\\\"}],\\\"id\\\":4},{\\\"name\\\":\\\"Term 5\\\",\\\"curriculum_items\\\":[{\\\"curriculum_requisites\\\":[{\\\"source_id\\\":9,\\\"target_id\\\":19,\\\"type\\\":\\\"CurriculumPrerequisite\\\"}],\\\"name\\\":\\\"CSC 335\\\",\\\"metrics\\\":{\\\"complexity\\\":5.0,\\\"centrality\\\":0,\\\"blocking factor\\\":0,\\\"delay factor\\\":5.0},\\\"nameSub\\\":\\\"Object-Oriented Programming\\\",\\\"id\\\":19,\\\"credits\\\":3,\\\"nameCanonical\\\":\\\"\\\"},{\\\"curriculum_requisites\\\":[{\\\"source_id\\\":9,\\\"target_id\\\":20,\\\"type\\\":\\\"CurriculumPrerequisite\\\"},{\\\"source_id\\\":10,\\\"target_id\\\":20,\\\"type\\\":\\\"CurriculumPrerequisite\\\"}],\\\"name\\\":\\\"CSC 345\\\",\\\"metrics\\\":{\\\"complexity\\\":5.0,\\\"centrality\\\":0,\\\"blocking factor\\\":0,\\\"delay factor\\\":5.0},\\\"nameSub\\\":\\\"Analysis of Discrete Structures\\\",\\\"id\\\":20,\\\"credits\\\":3,\\\"nameCanonical\\\":\\\"\\\"},{\\\"curriculum_requisites\\\":[],\\\"name\\\":\\\" \\\",\\\"metrics\\\":{\\\"complexity\\\":1.0,\\\"centrality\\\":0,\\\"blocking factor\\\":0,\\\"delay factor\\\":1.0},\\\"nameSub\\\":\\\"Supporting Science #2\\\",\\\"id\\\":21,\\\"credits\\\":4,\\\"nameCanonical\\\":\\\"\\\"},{\\\"curriculum_requisites\\\":[],\\\"name\\\":\\\" \\\",\\\"metrics\\\":{\\\"complexity\\\":1.0,\\\"centrality\\\":0,\\\"blocking factor\\\":0,\\\"delay factor\\\":1.0},\\\"nameSub\\\":\\\"Tier 2 Gen Ed\\/Upper-Division 1\\\",\\\"id\\\":22,\\\"credits\\\":3,\\\"nameCanonical\\\":\\\"\\\"},{\\\"curriculum_requisites\\\":[],\\\"name\\\":\\\" \\\",\\\"metrics\\\":{\\\"complexity\\\":1.0,\\\"centrality\\\":0,\\\"blocking factor\\\":0,\\\"delay factor\\\":1.0},\\\"nameSub\\\":\\\"Upper-Division Elective\\\",\\\"id\\\":23,\\\"credits\\\":3,\\\"nameCanonical\\\":\\\"\\\"}],\\\"id\\\":5},{\\\"name\\\":\\\"Term 6\\\",\\\"curriculum_items\\\":[{\\\"curriculum_requisites\\\":[],\\\"name\\\":\\\"CSC \\\",\\\"metrics\\\":{\\\"complexity\\\":1.0,\\\"centrality\\\":0,\\\"blocking factor\\\":0,\\\"delay factor\\\":1.0},\\\"nameSub\\\":\\\"CSC Paradigms Elective\\\",\\\"id\\\":24,\\\"credits\\\":3,\\\"nameCanonical\\\":\\\"\\\"},{\\\"curriculum_requisites\\\":[],\\\"name\\\":\\\"CSC \\\",\\\"metrics\\\":{\\\"complexity\\\":1.0,\\\"centrality\\\":0,\\\"blocking factor\\\":0,\\\"delay factor\\\":1.0},\\\"nameSub\\\":\\\"CSC 400-Level Elective 1\\\",\\\"id\\\":25,\\\"credits\\\":3,\\\"nameCanonical\\\":\\\"\\\"},{\\\"curriculum_requisites\\\":[],\\\"name\\\":\\\" \\\",\\\"metrics\\\":{\\\"complexity\\\":1.0,\\\"centrality\\\":0,\\\"blocking factor\\\":0,\\\"delay factor\\\":1.0},\\\"nameSub\\\":\\\"Tier 2 Gen Ed\\/Upper-Division 2\\\",\\\"id\\\":26,\\\"credits\\\":3,\\\"nameCanonical\\\":\\\"\\\"},{\\\"curriculum_requisites\\\":[],\\\"name\\\":\\\" \\\",\\\"metrics\\\":{\\\"complexity\\\":1.0,\\\"centrality\\\":0,\\\"blocking factor\\\":0,\\\"delay factor\\\":1.0},\\\"nameSub\\\":\\\"Tier 2 Gen Ed\\/Upper-Division 3\\\",\\\"id\\\":27,\\\"credits\\\":3,\\\"nameCanonical\\\":\\\"\\\"},{\\\"curriculum_requisites\\\":[],\\\"name\\\":\\\" \\\",\\\"metrics\\\":{\\\"complexity\\\":1.0,\\\"centrality\\\":0,\\\"blocking factor\\\":0,\\\"delay factor\\\":1.0},\\\"nameSub\\\":\\\"Elective 1\\\",\\\"id\\\":28,\\\"credits\\\":3,\\\"nameCanonical\\\":\\\"\\\"}],\\\"id\\\":6},{\\\"name\\\":\\\"Term 7\\\",\\\"curriculum_items\\\":[{\\\"curriculum_requisites\\\":[],\\\"name\\\":\\\"CSC \\\",\\\"metrics\\\":{\\\"complexity\\\":1.0,\\\"centrality\\\":0,\\\"blocking factor\\\":0,\\\"delay factor\\\":1.0},\\\"nameSub\\\":\\\"CSC Theory & Writing Elective\\\",\\\"id\\\":29,\\\"credits\\\":3,\\\"nameCanonical\\\":\\\"\\\"},{\\\"curriculum_requisites\\\":[],\\\"name\\\":\\\"CSC \\\",\\\"metrics\\\":{\\\"complexity\\\":1.0,\\\"centrality\\\":0,\\\"blocking factor\\\":0,\\\"delay factor\\\":1.0},\\\"nameSub\\\":\\\"CSC 400-Level Elective 2\\\",\\\"id\\\":30,\\\"credits\\\":3,\\\"nameCanonical\\\":\\\"\\\"},{\\\"curriculum_requisites\\\":[],\\\"name\\\":\\\" \\\",\\\"metrics\\\":{\\\"complexity\\\":1.0,\\\"centrality\\\":0,\\\"blocking factor\\\":0,\\\"delay factor\\\":1.0},\\\"nameSub\\\":\\\"Elective 2\\\",\\\"id\\\":31,\\\"credits\\\":3,\\\"nameCanonical\\\":\\\"\\\"},{\\\"curriculum_requisites\\\":[],\\\"name\\\":\\\" \\\",\\\"metrics\\\":{\\\"complexity\\\":1.0,\\\"centrality\\\":0,\\\"blocking factor\\\":0,\\\"delay factor\\\":1.0},\\\"nameSub\\\":\\\"Elective 3\\\",\\\"id\\\":32,\\\"credits\\\":3,\\\"nameCanonical\\\":\\\"\\\"},{\\\"curriculum_requisites\\\":[],\\\"name\\\":\\\" \\\",\\\"metrics\\\":{\\\"complexity\\\":1.0,\\\"centrality\\\":0,\\\"blocking factor\\\":0,\\\"delay factor\\\":1.0},\\\"nameSub\\\":\\\"Elective 4\\\",\\\"id\\\":33,\\\"credits\\\":3,\\\"nameCanonical\\\":\\\"\\\"}],\\\"id\\\":7},{\\\"name\\\":\\\"Term 8\\\",\\\"curriculum_items\\\":[{\\\"curriculum_requisites\\\":[],\\\"name\\\":\\\"CSC \\\",\\\"metrics\\\":{\\\"complexity\\\":1.0,\\\"centrality\\\":0,\\\"blocking factor\\\":0,\\\"delay factor\\\":1.0},\\\"nameSub\\\":\\\"CSC Systems Elective\\\",\\\"id\\\":34,\\\"credits\\\":3,\\\"nameCanonical\\\":\\\"\\\"},{\\\"curriculum_requisites\\\":[],\\\"name\\\":\\\"CSC \\\",\\\"metrics\\\":{\\\"complexity\\\":1.0,\\\"centrality\\\":0,\\\"blocking factor\\\":0,\\\"delay factor\\\":1.0},\\\"nameSub\\\":\\\"CSC 300\\/400-Level Elective\\\",\\\"id\\\":35,\\\"credits\\\":3,\\\"nameCanonical\\\":\\\"\\\"},{\\\"curriculum_requisites\\\":[],\\\"name\\\":\\\" \\\",\\\"metrics\\\":{\\\"complexity\\\":1.0,\\\"centrality\\\":0,\\\"blocking factor\\\":0,\\\"delay factor\\\":1.0},\\\"nameSub\\\":\\\"Upper-Division Elective 1\\\",\\\"id\\\":36,\\\"credits\\\":3,\\\"nameCanonical\\\":\\\"\\\"},{\\\"curriculum_requisites\\\":[],\\\"name\\\":\\\" \\\",\\\"metrics\\\":{\\\"complexity\\\":1.0,\\\"centrality\\\":0,\\\"blocking factor\\\":0,\\\"delay factor\\\":1.0},\\\"nameSub\\\":\\\"Upper-Division Elective 2\\\",\\\"id\\\":37,\\\"credits\\\":3,\\\"nameCanonical\\\":\\\"\\\"}],\\\"id\\\":8}],\\\"institution\\\":\\\"University of Arizona\\\"}},\\\"*\\\"); window.removeEventListener(\\\"message\\\",window.messageReceived); window.messageReceived=(function (event){return (event.data.curriculum!==undefined) ? (WebIO.setval({\\\"name\\\":\\\"curriculum-data\\\",\\\"scope\\\":\\\"15664823260496684953\\\",\\\"id\\\":\\\"ob_11\\\",\\\"type\\\":\\\"observable\\\"},event.data.curriculum)) : undefined}); return window.addEventListener(\\\"message\\\",window.messageReceived)})\"},\"style\":{\"padding\":\"0\",\"height\":\"100vh\",\"margin\":\"0\",\"border\":\"none\",\"width\":\"100%\"}},\"nodeType\":\"DOM\",\"type\":\"node\",\"instanceArgs\":{\"namespace\":\"html\",\"tag\":\"iframe\"},\"children\":[\"\"]}]},\n",
       "            window,\n",
       "        );\n",
       "    } else {\n",
       "        document\n",
       "            .querySelector('[data-webio-mountpoint=\"5108853849590174964\"]')\n",
       "            .innerHTML = (\n",
       "                '<div style=\"padding: 1em; background-color: #f8d6da; border: 1px solid #f5c6cb\">' +\n",
       "                '<p><strong>WebIO not detected.</strong></p>' +\n",
       "                '<p>Please read ' +\n",
       "                '<a href=\"https://juliagizmos.github.io/WebIO.jl/latest/troubleshooting/not-detected/\" target=\"_blank\">the troubleshooting guide</a> ' +\n",
       "                'for more information on how to resolve this issue.</p>' +\n",
       "                '<p><a href=\"https://juliagizmos.github.io/WebIO.jl/latest/troubleshooting/not-detected/\" target=\"_blank\">https://juliagizmos.github.io/WebIO.jl/latest/troubleshooting/not-detected/</a></p>' +\n",
       "                '</div>'\n",
       "            );\n",
       "    }\n",
       "    </script>\n",
       "</div>\n"
      ],
      "text/plain": [
       "WebIO.Scope(WebIO.Node{WebIO.DOM}(WebIO.DOM(:html, :iframe), Any[\"\"], Dict{Symbol,Any}(:src => \"http://localhost:8156\",:id => \"curriculum\",:events => Dict(:load => WebIO.JSString(\"(function (){this.contentWindow.postMessage({\\\"options\\\":{\\\"hideTerms\\\":false,\\\"edit\\\":false},\\\"curriculum\\\":{\\\"name\\\":\\\"Computer Science\\\",\\\"dp_name\\\":\\\"2019-20 Degree Plan\\\",\\\"curriculum_terms\\\":[{\\\"name\\\":\\\"Term 1\\\",\\\"curriculum_items\\\":[{\\\"curriculum_requisites\\\":[{\\\"source_id\\\":2,\\\"target_id\\\":1,\\\"type\\\":\\\"CurriculumCorequisite\\\"}],\\\"name\\\":\\\"CSC 110\\\",\\\"metrics\\\":{\\\"complexity\\\":12.0,\\\"centrality\\\":25,\\\"blocking factor\\\":7,\\\"delay factor\\\":5.0},\\\"nameSub\\\":\\\"Intro to Computer Programming I\\\",\\\"id\\\":1,\\\"credits\\\":4,\\\"nameCanonical\\\":\\\"\\\"},{\\\"curriculum_requisites\\\":[],\\\"name\\\":\\\"MATH 120R\\\",\\\"metrics\\\":{\\\"complexity\\\":15.0,\\\"centrality\\\":0,\\\"blocking factor\\\":10,\\\"delay factor\\\":5.0},\\\"nameSub\\\":\\\"Pre-Calculus\\\",\\\"id\\\":2,\\\"credits\\\":4,\\\"nameCanonical\\\":\\\"\\\"},{\\\"curriculum_requisites\\\":[],\\\"name\\\":\\\"ENGL 101\\\",\\\"metrics\\\":{\\\"complexity\\\":3.0,\\\"centrality\\\":0,\\\"blocking factor\\\":1,\\\"delay factor\\\":2.0},\\\"nameSub\\\":\\\"English Composition I\\\",\\\"id\\\":3,\\\"credits\\\":3,\\\"nameCanonical\\\":\\\"\\\"},{\\\"curriculum_requisites\\\":[],\\\"name\\\":\\\" \\\",\\\"metrics\\\":{\\\"complexity\\\":3.0,\\\"centrality\\\":0,\\\"blocking factor\\\":1,\\\"delay factor\\\":2.0},\\\"nameSub\\\":\\\"1st Semester Second Language\\\",\\\"id\\\":4,\\\"credits\\\":4,\\\"nameCanonical\\\":\\\"\\\"}],\\\"id\\\":1},{\\\"name\\\":\\\"Term 2\\\",\\\"curriculum_items\\\":[{\\\"curriculum_requisites\\\":[{\\\"source_id\\\":1,\\\"target_id\\\":5,\\\"type\\\":\\\"CurriculumPrerequisite\\\"}],\\\"name\\\":\\\"CSC 120\\\",\\\"metrics\\\":{\\\"complexity\\\":11.0,\\\"centrality\\\":25,\\\"blocking factor\\\":6,\\\"delay factor\\\":5.0},\\\"nameSub\\\":\\\"Intro to Computer Programming II\\\",\\\"id\\\":5,\\\"credits\\\":4,\\\"nameCanonical\\\":\\\"\\\"},{\\\"curriculum_requisites\\\":[{\\\"source_id\\\":2,\\\"target_id\\\":6,\\\"type\\\":\\\"CurriculumPrerequisite\\\"}],\\\"name\\\":\\\"MATH 122A/B\\\",\\\"metrics\\\":{\\\"complexity\\\":4.0,\\\"centrality\\\":3,\\\"blocking factor\\\":1,\\\"delay factor\\\":3.0},\\\"nameSub\\\":\\\"Calculus I\\\",\\\"id\\\":6,\\\"credits\\\":5,\\\"nameCanonical\\\":\\\"\\\"},{\\\"curriculum_requisites\\\":[{\\\"source_id\\\":3,\\\"target_id\\\":7,\\\"type\\\":\\\"CurriculumPrerequisite\\\"}],\\\"name\\\":\\\"ENGL 102\\\",\\\"metrics\\\":{\\\"complexity\\\":2.0,\\\"centrality\\\":0,\\\"blocking factor\\\":0,\\\"delay factor\\\":2.0},\\\"nameSub\\\":\\\"English Composition II\\\",\\\"id\\\":7,\\\"credits\\\":4,\\\"nameCanonical\\\":\\\"\\\"},{\\\"curriculum_requisites\\\":[{\\\"source_id\\\":4,\\\"target_id\\\":8,\\\"type\\\":\\\"CurriculumPrerequisite\\\"}],\\\"name\\\":\\\" \\\",\\\"metrics\\\":{\\\"complexity\\\":2.0,\\\"centrality\\\":0,\\\"blocking factor\\\":0,\\\"delay factor\\\":2.0},\\\"nameSub\\\":\\\"2nd Semester Second Language\\\",\\\"id\\\":8,\\\"credits\\\":4,\\\"nameCanonical\\\":\\\"\\\"}],\\\"id\\\":2},{\\\"name\\\":\\\"Term 3\\\",\\\"curriculum_items\\\":[{\\\"curriculum_requisites\\\":[{\\\"source_id\\\":5,\\\"target_id\\\":9,\\\"type\\\":\\\"CurriculumPrerequisite\\\"}],\\\"name\\\":\\\"CSC 210\\\",\\\"metrics\\\":{\\\"complexity\\\":9.0,\\\"centrality\\\":20,\\\"blocking factor\\\":4,\\\"delay factor\\\":5.0},\\\"nameSub\\\":\\\"Software Development\\\",\\\"id\\\":9,\\\"credits\\\":4,\\\"nameCanonical\\\":\\\"\\\"},{\\\"curriculum_requisites\\\":[{\\\"source_id\\\":5,\\\"target_id\\\":10,\\\"type\\\":\\\"CurriculumPrerequisite\\\"}],\\\"name\\\":\\\"CSC 245\\\",\\\"metrics\\\":{\\\"complexity\\\":6.0,\\\"centrality\\\":5,\\\"blocking factor\\\":1,\\\"delay factor\\\":5.0},\\\"nameSub\\\":\\\"Intro to Discrete Structures\\\",\\\"id\\\":10,\\\"credits\\\":3,\\\"nameCanonical\\\":\\\"\\\"},{\\\"curriculum_requisites\\\":[{\\\"source_id\\\":6,\\\"target_id\\\":11,\\\"type\\\":\\\"CurriculumPrerequisite\\\"}],\\\"name\\\":\\\"MATH 129\\\",\\\"metrics\\\":{\\\"complexity\\\":3.0,\\\"centrality\\\":0,\\\"blocking factor\\\":0,\\\"delay factor\\\":3.0},\\\"nameSub\\\":\\\"Calculus II\\\",\\\"id\\\":11,\\\"credits\\\":3,\\\"nameCanonical\\\":\\\"\\\"},{\\\"curriculum_requisites\\\":[],\\\"name\\\":\\\" \\\",\\\"metrics\\\":{\\\"complexity\\\":1.0,\\\"centrality\\\":0,\\\"blocking factor\\\":0,\\\"delay factor\\\":1.0},\\\"nameSub\\\":\\\"Tier 1 General Education 1\\\",\\\"id\\\":12,\\\"credits\\\":3,\\\"nameCanonical\\\":\\\"\\\"},{\\\"curriculum_requisites\\\":[],\\\"name\\\":\\\" \\\",\\\"metrics\\\":{\\\"complexity\\\":1.0,\\\"centrality\\\":0,\\\"blocking factor\\\":0,\\\"delay factor\\\":1.0},\\\"nameSub\\\":\\\"Tier 1 General Education 2\\\",\\\"id\\\":13,\\\"credits\\\":3,\\\"nameCanonical\\\":\\\"\\\"}],\\\"id\\\":3},{\\\"name\\\":\\\"Term 4\\\",\\\"curriculum_items\\\":[{\\\"curriculum_requisites\\\":[{\\\"source_id\\\":9,\\\"target_id\\\":14,\\\"type\\\":\\\"CurriculumPrerequisite\\\"}],\\\"name\\\":\\\"CSC 252\\\",\\\"metrics\\\":{\\\"complexity\\\":5.0,\\\"centrality\\\":0,\\\"blocking factor\\\":0,\\\"delay factor\\\":5.0},\\\"nameSub\\\":\\\"Computer Organization\\\",\\\"id\\\":14,\\\"credits\\\":3,\\\"nameCanonical\\\":\\\"\\\"},{\\\"curriculum_requisites\\\":[{\\\"source_id\\\":9,\\\"target_id\\\":15,\\\"type\\\":\\\"CurriculumPrerequisite\\\"}],\\\"name\\\":\\\"CSC 352\\\",\\\"metrics\\\":{\\\"complexity\\\":5.0,\\\"centrality\\\":0,\\\"blocking factor\\\":0,\\\"delay factor\\\":5.0},\\\"nameSub\\\":\\\"Systems Programming & Unix\\\",\\\"id\\\":15,\\\"credits\\\":3,\\\"nameCanonical\\\":\\\"\\\"},{\\\"curriculum_requisites\\\":[],\\\"name\\\":\\\" \\\",\\\"metrics\\\":{\\\"complexity\\\":1.0,\\\"centrality\\\":0,\\\"blocking factor\\\":0,\\\"delay factor\\\":1.0},\\\"nameSub\\\":\\\"Supporting Science #1\\\",\\\"id\\\":16,\\\"credits\\\":4,\\\"nameCanonical\\\":\\\"\\\"},{\\\"curriculum_requisites\\\":[],\\\"name\\\":\\\" \\\",\\\"metrics\\\":{\\\"complexity\\\":1.0,\\\"centrality\\\":0,\\\"blocking factor\\\":0,\\\"delay factor\\\":1.0},\\\"nameSub\\\":\\\"Tier 1 General Education 3\\\",\\\"id\\\":17,\\\"credits\\\":3,\\\"nameCanonical\\\":\\\"\\\"},{\\\"curriculum_requisites\\\":[],\\\"name\\\":\\\" \\\",\\\"metrics\\\":{\\\"complexity\\\":1.0,\\\"centrality\\\":0,\\\"blocking factor\\\":0,\\\"delay factor\\\":1.0},\\\"nameSub\\\":\\\"Tier 1 General Education 4\\\",\\\"id\\\":18,\\\"credits\\\":3,\\\"nameCanonical\\\":\\\"\\\"}],\\\"id\\\":4},{\\\"name\\\":\\\"Term 5\\\",\\\"curriculum_items\\\":[{\\\"curriculum_requisites\\\":[{\\\"source_id\\\":9,\\\"target_id\\\":19,\\\"type\\\":\\\"CurriculumPrerequisite\\\"}],\\\"name\\\":\\\"CSC 335\\\",\\\"metrics\\\":{\\\"complexity\\\":5.0,\\\"centrality\\\":0,\\\"blocking factor\\\":0,\\\"delay factor\\\":5.0},\\\"nameSub\\\":\\\"Object-Oriented Programming\\\",\\\"id\\\":19,\\\"credits\\\":3,\\\"nameCanonical\\\":\\\"\\\"},{\\\"curriculum_requisites\\\":[{\\\"source_id\\\":9,\\\"target_id\\\":20,\\\"type\\\":\\\"CurriculumPrerequisite\\\"},{\\\"source_id\\\":10,\\\"target_id\\\":20,\\\"type\\\":\\\"CurriculumPrerequisite\\\"}],\\\"name\\\":\\\"CSC 345\\\",\\\"metrics\\\":{\\\"complexity\\\":5.0,\\\"centrality\\\":0,\\\"blocking factor\\\":0,\\\"delay factor\\\":5.0},\\\"nameSub\\\":\\\"Analysis of Discrete Structures\\\",\\\"id\\\":20,\\\"credits\\\":3,\\\"nameCanonical\\\":\\\"\\\"},{\\\"curriculum_requisites\\\":[],\\\"name\\\":\\\" \\\",\\\"metrics\\\":{\\\"complexity\\\":1.0,\\\"centrality\\\":0,\\\"blocking factor\\\":0,\\\"delay factor\\\":1.0},\\\"nameSub\\\":\\\"Supporting Science #2\\\",\\\"id\\\":21,\\\"credits\\\":4,\\\"nameCanonical\\\":\\\"\\\"},{\\\"curriculum_requisites\\\":[],\\\"name\\\":\\\" \\\",\\\"metrics\\\":{\\\"complexity\\\":1.0,\\\"centrality\\\":0,\\\"blocking factor\\\":0,\\\"delay factor\\\":1.0},\\\"nameSub\\\":\\\"Tier 2 Gen Ed/Upper-Division 1\\\",\\\"id\\\":22,\\\"credits\\\":3,\\\"nameCanonical\\\":\\\"\\\"},{\\\"curriculum_requisites\\\":[],\\\"name\\\":\\\" \\\",\\\"metrics\\\":{\\\"complexity\\\":1.0,\\\"centrality\\\":0,\\\"blocking factor\\\":0,\\\"delay factor\\\":1.0},\\\"nameSub\\\":\\\"Upper-Division Elective\\\",\\\"id\\\":23,\\\"credits\\\":3,\\\"nameCanonical\\\":\\\"\\\"}],\\\"id\\\":5},{\\\"name\\\":\\\"Term 6\\\",\\\"curriculum_items\\\":[{\\\"curriculum_requisites\\\":[],\\\"name\\\":\\\"CSC \\\",\\\"metrics\\\":{\\\"complexity\\\":1.0,\\\"centrality\\\":0,\\\"blocking factor\\\":0,\\\"delay factor\\\":1.0},\\\"nameSub\\\":\\\"CSC Paradigms Elective\\\",\\\"id\\\":24,\\\"credits\\\":3,\\\"nameCanonical\\\":\\\"\\\"},{\\\"curriculum_requisites\\\":[],\\\"name\\\":\\\"CSC \\\",\\\"metrics\\\":{\\\"complexity\\\":1.0,\\\"centrality\\\":0,\\\"blocking factor\\\":0,\\\"delay factor\\\":1.0},\\\"nameSub\\\":\\\"CSC 400-Level Elective 1\\\",\\\"id\\\":25,\\\"credits\\\":3,\\\"nameCanonical\\\":\\\"\\\"},{\\\"curriculum_requisites\\\":[],\\\"name\\\":\\\" \\\",\\\"metrics\\\":{\\\"complexity\\\":1.0,\\\"centrality\\\":0,\\\"blocking factor\\\":0,\\\"delay factor\\\":1.0},\\\"nameSub\\\":\\\"Tier 2 Gen Ed/Upper-Division 2\\\",\\\"id\\\":26,\\\"credits\\\":3,\\\"nameCanonical\\\":\\\"\\\"},{\\\"curriculum_requisites\\\":[],\\\"name\\\":\\\" \\\",\\\"metrics\\\":{\\\"complexity\\\":1.0,\\\"centrality\\\":0,\\\"blocking factor\\\":0,\\\"delay factor\\\":1.0},\\\"nameSub\\\":\\\"Tier 2 Gen Ed/Upper-Division 3\\\",\\\"id\\\":27,\\\"credits\\\":3,\\\"nameCanonical\\\":\\\"\\\"},{\\\"curriculum_requisites\\\":[],\\\"name\\\":\\\" \\\",\\\"metrics\\\":{\\\"complexity\\\":1.0,\\\"centrality\\\":0,\\\"blocking factor\\\":0,\\\"delay factor\\\":1.0},\\\"nameSub\\\":\\\"Elective 1\\\",\\\"id\\\":28,\\\"credits\\\":3,\\\"nameCanonical\\\":\\\"\\\"}],\\\"id\\\":6},{\\\"name\\\":\\\"Term 7\\\",\\\"curriculum_items\\\":[{\\\"curriculum_requisites\\\":[],\\\"name\\\":\\\"CSC \\\",\\\"metrics\\\":{\\\"complexity\\\":1.0,\\\"centrality\\\":0,\\\"blocking factor\\\":0,\\\"delay factor\\\":1.0},\\\"nameSub\\\":\\\"CSC Theory & Writing Elective\\\",\\\"id\\\":29,\\\"credits\\\":3,\\\"nameCanonical\\\":\\\"\\\"},{\\\"curriculum_requisites\\\":[],\\\"name\\\":\\\"CSC \\\",\\\"metrics\\\":{\\\"complexity\\\":1.0,\\\"centrality\\\":0,\\\"blocking factor\\\":0,\\\"delay factor\\\":1.0},\\\"nameSub\\\":\\\"CSC 400-Level Elective 2\\\",\\\"id\\\":30,\\\"credits\\\":3,\\\"nameCanonical\\\":\\\"\\\"},{\\\"curriculum_requisites\\\":[],\\\"name\\\":\\\" \\\",\\\"metrics\\\":{\\\"complexity\\\":1.0,\\\"centrality\\\":0,\\\"blocking factor\\\":0,\\\"delay factor\\\":1.0},\\\"nameSub\\\":\\\"Elective 2\\\",\\\"id\\\":31,\\\"credits\\\":3,\\\"nameCanonical\\\":\\\"\\\"},{\\\"curriculum_requisites\\\":[],\\\"name\\\":\\\" \\\",\\\"metrics\\\":{\\\"complexity\\\":1.0,\\\"centrality\\\":0,\\\"blocking factor\\\":0,\\\"delay factor\\\":1.0},\\\"nameSub\\\":\\\"Elective 3\\\",\\\"id\\\":32,\\\"credits\\\":3,\\\"nameCanonical\\\":\\\"\\\"},{\\\"curriculum_requisites\\\":[],\\\"name\\\":\\\" \\\",\\\"metrics\\\":{\\\"complexity\\\":1.0,\\\"centrality\\\":0,\\\"blocking factor\\\":0,\\\"delay factor\\\":1.0},\\\"nameSub\\\":\\\"Elective 4\\\",\\\"id\\\":33,\\\"credits\\\":3,\\\"nameCanonical\\\":\\\"\\\"}],\\\"id\\\":7},{\\\"name\\\":\\\"Term 8\\\",\\\"curriculum_items\\\":[{\\\"curriculum_requisites\\\":[],\\\"name\\\":\\\"CSC \\\",\\\"metrics\\\":{\\\"complexity\\\":1.0,\\\"centrality\\\":0,\\\"blocking factor\\\":0,\\\"delay factor\\\":1.0},\\\"nameSub\\\":\\\"CSC Systems Elective\\\",\\\"id\\\":34,\\\"credits\\\":3,\\\"nameCanonical\\\":\\\"\\\"},{\\\"curriculum_requisites\\\":[],\\\"name\\\":\\\"CSC \\\",\\\"metrics\\\":{\\\"complexity\\\":1.0,\\\"centrality\\\":0,\\\"blocking factor\\\":0,\\\"delay factor\\\":1.0},\\\"nameSub\\\":\\\"CSC 300/400-Level Elective\\\",\\\"id\\\":35,\\\"credits\\\":3,\\\"nameCanonical\\\":\\\"\\\"},{\\\"curriculum_requisites\\\":[],\\\"name\\\":\\\" \\\",\\\"metrics\\\":{\\\"complexity\\\":1.0,\\\"centrality\\\":0,\\\"blocking factor\\\":0,\\\"delay factor\\\":1.0},\\\"nameSub\\\":\\\"Upper-Division Elective 1\\\",\\\"id\\\":36,\\\"credits\\\":3,\\\"nameCanonical\\\":\\\"\\\"},{\\\"curriculum_requisites\\\":[],\\\"name\\\":\\\" \\\",\\\"metrics\\\":{\\\"complexity\\\":1.0,\\\"centrality\\\":0,\\\"blocking factor\\\":0,\\\"delay factor\\\":1.0},\\\"nameSub\\\":\\\"Upper-Division Elective 2\\\",\\\"id\\\":37,\\\"credits\\\":3,\\\"nameCanonical\\\":\\\"\\\"}],\\\"id\\\":8}],\\\"institution\\\":\\\"University of Arizona\\\"}},\\\"*\\\"); window.removeEventListener(\\\"message\\\",window.messageReceived); window.messageReceived=(function (event){return (event.data.curriculum!==undefined) ? (WebIO.setval({\\\"name\\\":\\\"curriculum-data\\\",\\\"scope\\\":\\\"15664823260496684953\\\",\\\"id\\\":\\\"ob_11\\\",\\\"type\\\":\\\"observable\\\"},event.data.curriculum)) : undefined}); return window.addEventListener(\\\"message\\\",window.messageReceived)})\")),:style => Dict(:padding => \"0\",:height => \"100vh\",:margin => \"0\",:border => \"none\",:width => \"100%\"))), Dict{String,Tuple{Observables.AbstractObservable,Union{Nothing, Bool}}}(\"curriculum-data\" => (Observable{Dict{String,Any}} with 1 listeners. Value:\n",
       "Dict{String,Any}(\"options\" => Dict{String,Any}(\"hideTerms\" => false,\"edit\" => false),\"curriculum\" => Dict{String,Any}(\"name\" => \"Computer Science\",\"dp_name\" => \"2019-20 Degree Plan\",\"curriculum_terms\" => Dict{String,Any}[Dict(\"name\" => \"Term 1\",\"curriculum_items\" => Dict{String,Any}[Dict(\"curriculum_requisites\" => Dict{String,Any}[Dict(\"source_id\" => 2,\"target_id\" => 1,\"type\" => \"CurriculumCorequisite\")],\"name\" => \"CSC 110\",\"metrics\" => Dict{String,Any}(\"complexity\" => 12.0,\"centrality\" => 25,\"blocking factor\" => 7,\"delay factor\" => 5.0),\"nameSub\" => \"Intro to Computer Programming I\",\"id\" => 1,\"credits\" => 4,\"nameCanonical\" => \"\"), Dict(\"curriculum_requisites\" => Dict{String,Any}[],\"name\" => \"MATH 120R\",\"metrics\" => Dict{String,Any}(\"complexity\" => 15.0,\"centrality\" => 0,\"blocking factor\" => 10,\"delay factor\" => 5.0),\"nameSub\" => \"Pre-Calculus\",\"id\" => 2,\"credits\" => 4,\"nameCanonical\" => \"\"), Dict(\"curriculum_requisites\" => Dict{String,Any}[],\"name\" => \"ENGL 101\",\"metrics\" => Dict{String,Any}(\"complexity\" => 3.0,\"centrality\" => 0,\"blocking factor\" => 1,\"delay factor\" => 2.0),\"nameSub\" => \"English Composition I\",\"id\" => 3,\"credits\" => 3,\"nameCanonical\" => \"\"), Dict(\"curriculum_requisites\" => Dict{String,Any}[],\"name\" => \" \",\"metrics\" => Dict{String,Any}(\"complexity\" => 3.0,\"centrality\" => 0,\"blocking factor\" => 1,\"delay factor\" => 2.0),\"nameSub\" => \"1st Semester Second Language\",\"id\" => 4,\"credits\" => 4,\"nameCanonical\" => \"\")],\"id\" => 1), Dict(\"name\" => \"Term 2\",\"curriculum_items\" => Dict{String,Any}[Dict(\"curriculum_requisites\" => Dict{String,Any}[Dict(\"source_id\" => 1,\"target_id\" => 5,\"type\" => \"CurriculumPrerequisite\")],\"name\" => \"CSC 120\",\"metrics\" => Dict{String,Any}(\"complexity\" => 11.0,\"centrality\" => 25,\"blocking factor\" => 6,\"delay factor\" => 5.0),\"nameSub\" => \"Intro to Computer Programming II\",\"id\" => 5,\"credits\" => 4,\"nameCanonical\" => \"\"), Dict(\"curriculum_requisites\" => Dict{String,Any}[Dict(\"source_id\" => 2,\"target_id\" => 6,\"type\" => \"CurriculumPrerequisite\")],\"name\" => \"MATH 122A/B\",\"metrics\" => Dict{String,Any}(\"complexity\" => 4.0,\"centrality\" => 3,\"blocking factor\" => 1,\"delay factor\" => 3.0),\"nameSub\" => \"Calculus I\",\"id\" => 6,\"credits\" => 5,\"nameCanonical\" => \"\"), Dict(\"curriculum_requisites\" => Dict{String,Any}[Dict(\"source_id\" => 3,\"target_id\" => 7,\"type\" => \"CurriculumPrerequisite\")],\"name\" => \"ENGL 102\",\"metrics\" => Dict{String,Any}(\"complexity\" => 2.0,\"centrality\" => 0,\"blocking factor\" => 0,\"delay factor\" => 2.0),\"nameSub\" => \"English Composition II\",\"id\" => 7,\"credits\" => 4,\"nameCanonical\" => \"\"), Dict(\"curriculum_requisites\" => Dict{String,Any}[Dict(\"source_id\" => 4,\"target_id\" => 8,\"type\" => \"CurriculumPrerequisite\")],\"name\" => \" \",\"metrics\" => Dict{String,Any}(\"complexity\" => 2.0,\"centrality\" => 0,\"blocking factor\" => 0,\"delay factor\" => 2.0),\"nameSub\" => \"2nd Semester Second Language\",\"id\" => 8,\"credits\" => 4,\"nameCanonical\" => \"\")],\"id\" => 2), Dict(\"name\" => \"Term 3\",\"curriculum_items\" => Dict{String,Any}[Dict(\"curriculum_requisites\" => Dict{String,Any}[Dict(\"source_id\" => 5,\"target_id\" => 9,\"type\" => \"CurriculumPrerequisite\")],\"name\" => \"CSC 210\",\"metrics\" => Dict{String,Any}(\"complexity\" => 9.0,\"centrality\" => 20,\"blocking factor\" => 4,\"delay factor\" => 5.0),\"nameSub\" => \"Software Development\",\"id\" => 9,\"credits\" => 4,\"nameCanonical\" => \"\"), Dict(\"curriculum_requisites\" => Dict{String,Any}[Dict(\"source_id\" => 5,\"target_id\" => 10,\"type\" => \"CurriculumPrerequisite\")],\"name\" => \"CSC 245\",\"metrics\" => Dict{String,Any}(\"complexity\" => 6.0,\"centrality\" => 5,\"blocking factor\" => 1,\"delay factor\" => 5.0),\"nameSub\" => \"Intro to Discrete Structures\",\"id\" => 10,\"credits\" => 3,\"nameCanonical\" => \"\"), Dict(\"curriculum_requisites\" => Dict{String,Any}[Dict(\"source_id\" => 6,\"target_id\" => 11,\"type\" => \"CurriculumPrerequisite\")],\"name\" => \"MATH 129\",\"metrics\" => Dict{String,Any}(\"complexity\" => 3.0,\"centrality\" => 0,\"blocking factor\" => 0,\"delay factor\" => 3.0),\"nameSub\" => \"Calculus II\",\"id\" => 11,\"credits\" => 3,\"nameCanonical\" => \"\"), Dict(\"curriculum_requisites\" => Dict{String,Any}[],\"name\" => \" \",\"metrics\" => Dict{String,Any}(\"complexity\" => 1.0,\"centrality\" => 0,\"blocking factor\" => 0,\"delay factor\" => 1.0),\"nameSub\" => \"Tier 1 General Education 1\",\"id\" => 12,\"credits\" => 3,\"nameCanonical\" => \"\"), Dict(\"curriculum_requisites\" => Dict{String,Any}[],\"name\" => \" \",\"metrics\" => Dict{String,Any}(\"complexity\" => 1.0,\"centrality\" => 0,\"blocking factor\" => 0,\"delay factor\" => 1.0),\"nameSub\" => \"Tier 1 General Education 2\",\"id\" => 13,\"credits\" => 3,\"nameCanonical\" => \"\")],\"id\" => 3), Dict(\"name\" => \"Term 4\",\"curriculum_items\" => Dict{String,Any}[Dict(\"curriculum_requisites\" => Dict{String,Any}[Dict(\"source_id\" => 9,\"target_id\" => 14,\"type\" => \"CurriculumPrerequisite\")],\"name\" => \"CSC 252\",\"metrics\" => Dict{String,Any}(\"complexity\" => 5.0,\"centrality\" => 0,\"blocking factor\" => 0,\"delay factor\" => 5.0),\"nameSub\" => \"Computer Organization\",\"id\" => 14,\"credits\" => 3,\"nameCanonical\" => \"\"), Dict(\"curriculum_requisites\" => Dict{String,Any}[Dict(\"source_id\" => 9,\"target_id\" => 15,\"type\" => \"CurriculumPrerequisite\")],\"name\" => \"CSC 352\",\"metrics\" => Dict{String,Any}(\"complexity\" => 5.0,\"centrality\" => 0,\"blocking factor\" => 0,\"delay factor\" => 5.0),\"nameSub\" => \"Systems Programming & Unix\",\"id\" => 15,\"credits\" => 3,\"nameCanonical\" => \"\"), Dict(\"curriculum_requisites\" => Dict{String,Any}[],\"name\" => \" \",\"metrics\" => Dict{String,Any}(\"complexity\" => 1.0,\"centrality\" => 0,\"blocking factor\" => 0,\"delay factor\" => 1.0),\"nameSub\" => \"Supporting Science #1\",\"id\" => 16,\"credits\" => 4,\"nameCanonical\" => \"\"), Dict(\"curriculum_requisites\" => Dict{String,Any}[],\"name\" => \" \",\"metrics\" => Dict{String,Any}(\"complexity\" => 1.0,\"centrality\" => 0,\"blocking factor\" => 0,\"delay factor\" => 1.0),\"nameSub\" => \"Tier 1 General Education 3\",\"id\" => 17,\"credits\" => 3,\"nameCanonical\" => \"\"), Dict(\"curriculum_requisites\" => Dict{String,Any}[],\"name\" => \" \",\"metrics\" => Dict{String,Any}(\"complexity\" => 1.0,\"centrality\" => 0,\"blocking factor\" => 0,\"delay factor\" => 1.0),\"nameSub\" => \"Tier 1 General Education 4\",\"id\" => 18,\"credits\" => 3,\"nameCanonical\" => \"\")],\"id\" => 4), Dict(\"name\" => \"Term 5\",\"curriculum_items\" => Dict{String,Any}[Dict(\"curriculum_requisites\" => Dict{String,Any}[Dict(\"source_id\" => 9,\"target_id\" => 19,\"type\" => \"CurriculumPrerequisite\")],\"name\" => \"CSC 335\",\"metrics\" => Dict{String,Any}(\"complexity\" => 5.0,\"centrality\" => 0,\"blocking factor\" => 0,\"delay factor\" => 5.0),\"nameSub\" => \"Object-Oriented Programming\",\"id\" => 19,\"credits\" => 3,\"nameCanonical\" => \"\"), Dict(\"curriculum_requisites\" => Dict{String,Any}[Dict(\"source_id\" => 9,\"target_id\" => 20,\"type\" => \"CurriculumPrerequisite\"), Dict(\"source_id\" => 10,\"target_id\" => 20,\"type\" => \"CurriculumPrerequisite\")],\"name\" => \"CSC 345\",\"metrics\" => Dict{String,Any}(\"complexity\" => 5.0,\"centrality\" => 0,\"blocking factor\" => 0,\"delay factor\" => 5.0),\"nameSub\" => \"Analysis of Discrete Structures\",\"id\" => 20,\"credits\" => 3,\"nameCanonical\" => \"\"), Dict(\"curriculum_requisites\" => Dict{String,Any}[],\"name\" => \" \",\"metrics\" => Dict{String,Any}(\"complexity\" => 1.0,\"centrality\" => 0,\"blocking factor\" => 0,\"delay factor\" => 1.0),\"nameSub\" => \"Supporting Science #2\",\"id\" => 21,\"credits\" => 4,\"nameCanonical\" => \"\"), Dict(\"curriculum_requisites\" => Dict{String,Any}[],\"name\" => \" \",\"metrics\" => Dict{String,Any}(\"complexity\" => 1.0,\"centrality\" => 0,\"blocking factor\" => 0,\"delay factor\" => 1.0),\"nameSub\" => \"Tier 2 Gen Ed/Upper-Division 1\",\"id\" => 22,\"credits\" => 3,\"nameCanonical\" => \"\"), Dict(\"curriculum_requisites\" => Dict{String,Any}[],\"name\" => \" \",\"metrics\" => Dict{String,Any}(\"complexity\" => 1.0,\"centrality\" => 0,\"blocking factor\" => 0,\"delay factor\" => 1.0),\"nameSub\" => \"Upper-Division Elective\",\"id\" => 23,\"credits\" => 3,\"nameCanonical\" => \"\")],\"id\" => 5), Dict(\"name\" => \"Term 6\",\"curriculum_items\" => Dict{String,Any}[Dict(\"curriculum_requisites\" => Dict{String,Any}[],\"name\" => \"CSC \",\"metrics\" => Dict{String,Any}(\"complexity\" => 1.0,\"centrality\" => 0,\"blocking factor\" => 0,\"delay factor\" => 1.0),\"nameSub\" => \"CSC Paradigms Elective\",\"id\" => 24,\"credits\" => 3,\"nameCanonical\" => \"\"), Dict(\"curriculum_requisites\" => Dict{String,Any}[],\"name\" => \"CSC \",\"metrics\" => Dict{String,Any}(\"complexity\" => 1.0,\"centrality\" => 0,\"blocking factor\" => 0,\"delay factor\" => 1.0),\"nameSub\" => \"CSC 400-Level Elective 1\",\"id\" => 25,\"credits\" => 3,\"nameCanonical\" => \"\"), Dict(\"curriculum_requisites\" => Dict{String,Any}[],\"name\" => \" \",\"metrics\" => Dict{String,Any}(\"complexity\" => 1.0,\"centrality\" => 0,\"blocking factor\" => 0,\"delay factor\" => 1.0),\"nameSub\" => \"Tier 2 Gen Ed/Upper-Division 2\",\"id\" => 26,\"credits\" => 3,\"nameCanonical\" => \"\"), Dict(\"curriculum_requisites\" => Dict{String,Any}[],\"name\" => \" \",\"metrics\" => Dict{String,Any}(\"complexity\" => 1.0,\"centrality\" => 0,\"blocking factor\" => 0,\"delay factor\" => 1.0),\"nameSub\" => \"Tier 2 Gen Ed/Upper-Division 3\",\"id\" => 27,\"credits\" => 3,\"nameCanonical\" => \"\"), Dict(\"curriculum_requisites\" => Dict{String,Any}[],\"name\" => \" \",\"metrics\" => Dict{String,Any}(\"complexity\" => 1.0,\"centrality\" => 0,\"blocking factor\" => 0,\"delay factor\" => 1.0),\"nameSub\" => \"Elective 1\",\"id\" => 28,\"credits\" => 3,\"nameCanonical\" => \"\")],\"id\" => 6), Dict(\"name\" => \"Term 7\",\"curriculum_items\" => Dict{String,Any}[Dict(\"curriculum_requisites\" => Dict{String,Any}[],\"name\" => \"CSC \",\"metrics\" => Dict{String,Any}(\"complexity\" => 1.0,\"centrality\" => 0,\"blocking factor\" => 0,\"delay factor\" => 1.0),\"nameSub\" => \"CSC Theory & Writing Elective\",\"id\" => 29,\"credits\" => 3,\"nameCanonical\" => \"\"), Dict(\"curriculum_requisites\" => Dict{String,Any}[],\"name\" => \"CSC \",\"metrics\" => Dict{String,Any}(\"complexity\" => 1.0,\"centrality\" => 0,\"blocking factor\" => 0,\"delay factor\" => 1.0),\"nameSub\" => \"CSC 400-Level Elective 2\",\"id\" => 30,\"credits\" => 3,\"nameCanonical\" => \"\"), Dict(\"curriculum_requisites\" => Dict{String,Any}[],\"name\" => \" \",\"metrics\" => Dict{String,Any}(\"complexity\" => 1.0,\"centrality\" => 0,\"blocking factor\" => 0,\"delay factor\" => 1.0),\"nameSub\" => \"Elective 2\",\"id\" => 31,\"credits\" => 3,\"nameCanonical\" => \"\"), Dict(\"curriculum_requisites\" => Dict{String,Any}[],\"name\" => \" \",\"metrics\" => Dict{String,Any}(\"complexity\" => 1.0,\"centrality\" => 0,\"blocking factor\" => 0,\"delay factor\" => 1.0),\"nameSub\" => \"Elective 3\",\"id\" => 32,\"credits\" => 3,\"nameCanonical\" => \"\"), Dict(\"curriculum_requisites\" => Dict{String,Any}[],\"name\" => \" \",\"metrics\" => Dict{String,Any}(\"complexity\" => 1.0,\"centrality\" => 0,\"blocking factor\" => 0,\"delay factor\" => 1.0),\"nameSub\" => \"Elective 4\",\"id\" => 33,\"credits\" => 3,\"nameCanonical\" => \"\")],\"id\" => 7), Dict(\"name\" => \"Term 8\",\"curriculum_items\" => Dict{String,Any}[Dict(\"curriculum_requisites\" => Dict{String,Any}[],\"name\" => \"CSC \",\"metrics\" => Dict{String,Any}(\"complexity\" => 1.0,\"centrality\" => 0,\"blocking factor\" => 0,\"delay factor\" => 1.0),\"nameSub\" => \"CSC Systems Elective\",\"id\" => 34,\"credits\" => 3,\"nameCanonical\" => \"\"), Dict(\"curriculum_requisites\" => Dict{String,Any}[],\"name\" => \"CSC \",\"metrics\" => Dict{String,Any}(\"complexity\" => 1.0,\"centrality\" => 0,\"blocking factor\" => 0,\"delay factor\" => 1.0),\"nameSub\" => \"CSC 300/400-Level Elective\",\"id\" => 35,\"credits\" => 3,\"nameCanonical\" => \"\"), Dict(\"curriculum_requisites\" => Dict{String,Any}[],\"name\" => \" \",\"metrics\" => Dict{String,Any}(\"complexity\" => 1.0,\"centrality\" => 0,\"blocking factor\" => 0,\"delay factor\" => 1.0),\"nameSub\" => \"Upper-Division Elective 1\",\"id\" => 36,\"credits\" => 3,\"nameCanonical\" => \"\"), Dict(\"curriculum_requisites\" => Dict{String,Any}[],\"name\" => \" \",\"metrics\" => Dict{String,Any}(\"complexity\" => 1.0,\"centrality\" => 0,\"blocking factor\" => 0,\"delay factor\" => 1.0),\"nameSub\" => \"Upper-Division Elective 2\",\"id\" => 37,\"credits\" => 3,\"nameCanonical\" => \"\")],\"id\" => 8)],\"institution\" => \"University of Arizona\")), nothing)), Set(String[]), nothing, WebIO.Asset[], Dict{Any,Any}(), WebIO.ConnectionPool(Channel{Any}(sz_max:32,sz_curr:0), Set(WebIO.AbstractConnection[]), Base.GenericCondition{Base.AlwaysLockedST}(Base.InvasiveLinkedList{Task}(Task (runnable) @0x000000010db19f90, Task (runnable) @0x000000010db19f90), Base.AlwaysLockedST(1))), WebIO.JSString[])"
      ]
     },
     "execution_count": 58,
     "metadata": {
      "application/vnd.webio.node+json": {
       "kernelId": "6b63556e-00a2-4c4b-8383-e64aa21fcd8e"
      }
     },
     "output_type": "execute_result"
    }
   ],
   "source": [
    "CS_plan = plans[\"Computer Science\"]\n",
    "visualize(CS_plan, notebook=true)"
   ]
  },
  {
   "cell_type": "markdown",
   "metadata": {},
   "source": [
    "The `basic_metrics()` function can be used to output a set of basic metrics associatd with a curriculum. As an example, here are the basic curricular metrics associated with the University of Arizona Computer Science program:"
   ]
  },
  {
   "cell_type": "code",
   "execution_count": 59,
   "metadata": {},
   "outputs": [
    {
     "name": "stdout",
     "output_type": "stream",
     "text": [
      "\n",
      "University of Arizona \n",
      "Curriculum: Computer Science\n",
      "  credit hours = 122\n",
      "  number of courses = 37\n",
      "  Blocking Factor --\n",
      "    entire curriculum = 31\n",
      "    max. value = 10, for course(s): MATH 120R - Pre-Calculus\n",
      "  Centrality --\n",
      "    entire curriculum = 78\n",
      "    max. value = 25, for course(s): CSC 110 - Intro to Computer Programming I, CSC 120 - Intro to Computer Programming II\n",
      "  Delay Factor --\n",
      "    entire curriculum = 81.0\n",
      "    max. value = 5.0, for course(s): CSC 110 - Intro to Computer Programming I, MATH 120R - Pre-Calculus, CSC 120 - Intro to Computer Programming II, CSC 210 - Software Development, CSC 245 - Intro to Discrete Structures, CSC 252 - Computer Organization, CSC 352 - Systems Programming & Unix, CSC 335 - Object-Oriented Programming, CSC 345 - Analysis of Discrete Structures\n",
      "  Complexity --\n",
      "    entire curriculum = 112.0\n",
      "    max. value = 15.0, for course(s): MATH 120R - Pre-Calculus\n",
      "  Longest Path(s) --\n",
      "    length = 5, number of paths = 5\n",
      "    path(s):\n",
      "    path 1 = MATH 120R - Pre-Calculus -> CSC 110 - Intro to Computer Programming I -> CSC 120 - Intro to Computer Programming II -> CSC 210 - Software Development -> CSC 252 - Computer Organization\n",
      "    path 2 = MATH 120R - Pre-Calculus -> CSC 110 - Intro to Computer Programming I -> CSC 120 - Intro to Computer Programming II -> CSC 210 - Software Development -> CSC 352 - Systems Programming & Unix\n",
      "    path 3 = MATH 120R - Pre-Calculus -> CSC 110 - Intro to Computer Programming I -> CSC 120 - Intro to Computer Programming II -> CSC 210 - Software Development -> CSC 335 - Object-Oriented Programming\n",
      "    path 4 = MATH 120R - Pre-Calculus -> CSC 110 - Intro to Computer Programming I -> CSC 120 - Intro to Computer Programming II -> CSC 210 - Software Development -> CSC 345 - Analysis of Discrete Structures\n",
      "    path 5 = MATH 120R - Pre-Calculus -> CSC 110 - Intro to Computer Programming I -> CSC 120 - Intro to Computer Programming II -> CSC 245 - Intro to Discrete Structures -> CSC 345 - Analysis of Discrete Structures\n",
      "\n"
     ]
    }
   ],
   "source": [
    "metrics = basic_metrics(CS_plan.curriculum)\n",
    "println(String(take!(metrics)))"
   ]
  },
  {
   "cell_type": "markdown",
   "metadata": {},
   "source": [
    "From a student progression perspective, Math 120R appears to be the most important course in the curriculum.  That is, improving the success rates of the CS students in this program would do the most to facilitate completion of the CS degree. Introduction to Computer Programming II (CSC 120) is the most central course in the curriculum.  That is, from a knowledge flow perspective, this course requires the most requisite knowledge, and it supplies the most knowledge to follow-on courses in the curriculum.\n",
    "\n",
    "One issue worth investigating is the need for a 122 credit hour program.  Given the number of electives in the program, it seems that it would be realitvely straightforward to create a 120 credit hour program without threatening the attainment of any of the program's student learning outcomes."
   ]
  },
  {
   "cell_type": "markdown",
   "metadata": {},
   "source": [
    "### Extraneous Prerequisites\n",
    "The following function will find prerequisites in a curriculum.  These are redundant prerequisites that are unnecessary in a curriculum.  For example, if a curriculum has the prerequisite \n",
    "relationships $c_1 \\rightarrow c_2 \\rightarrow c_3$ and $c_1 \\rightarrow c_3$, and $c_1$ and $c_2$ are \n",
    "*not* co-requisites, then $c_1 \\rightarrow c_3$ is redundant and therefore extraneous.  Extraneous prerequisites do not effect the curricular complexity metric, they simply are unnecessary clutter in a curriculum or degree plan."
   ]
  },
  {
   "cell_type": "code",
   "execution_count": 60,
   "metadata": {},
   "outputs": [
    {
     "name": "stdout",
     "output_type": "stream",
     "text": [
      "\n"
     ]
    }
   ],
   "source": [
    "for plan in plans\n",
    "    extraneous_requisites(plan[2].curriculum, print=true)\n",
    "end"
   ]
  },
  {
   "cell_type": "markdown",
   "metadata": {},
   "source": [
    "There are no extraneous prerequisites in the CS program."
   ]
  },
  {
   "cell_type": "markdown",
   "metadata": {},
   "source": [
    "### Dead End Courses\n",
    "The following function can be used to find \"dead end\" courses in a curricula.  Dead end courses are those that appear at the end of a path (i.e., sink vertices), and are not a part of a course associated with the major.  E.g., in the case of the CS curriculum above, these would be courses at the end of a path that do not have the \"CSC\" prefix.  One might consider these courses dead ends, as their course outcomes are not (formally) used by any \n",
    "major-specific course, i.e., by any course with the prefix \"CS.\""
   ]
  },
  {
   "cell_type": "code",
   "execution_count": 61,
   "metadata": {},
   "outputs": [],
   "source": [
    "prefixes = Dict{String, Array{String,1}}()\n",
    "prefixes[\"Computer Science\"] = [\"CSC\"];"
   ]
  },
  {
   "cell_type": "code",
   "execution_count": 62,
   "metadata": {},
   "outputs": [
    {
     "name": "stdout",
     "output_type": "stream",
     "text": [
      "\n",
      "Dead end courses in the Computer Science curriculum:\n",
      "ENGL 102: English Composition II\n",
      "MATH 129: Calculus II\n"
     ]
    }
   ],
   "source": [
    "for plan in plans\n",
    "    de = dead_ends(plan[2].curriculum, prefixes[plan[2].curriculum.name])\n",
    "    println(\"\\nDead end courses in the $(plan[2].curriculum.name) curriculum:\")\n",
    "    for course in de[2]\n",
    "        println(\"$(course.prefix) $(course.num): $(course.name)\")\n",
    "    end\n",
    "end"
   ]
  },
  {
   "cell_type": "markdown",
   "metadata": {},
   "source": [
    "English Composition II is a general education course, and the skills developed in this class are informally used in other classes in the curriculum, particularly those that are writing intensive.  The Calculus II class, on the other hand, warrants further investigation.  Are the learning outcomes from the class informally required by any other courses in the curriculum, specifically, in any of the typical CS elective courses?"
   ]
  },
  {
   "cell_type": "markdown",
   "metadata": {},
   "source": [
    "### Comparisons to Other CS Programs\n",
    "We recently conducted a study that looked at the rankings of Computer Science departments in the United States, and related them to the complexity of the undergradaute programs in those departments. We found a statistically significant *inverse* relationship between ranking and curricular complexity.  That is, higher ranked programs tend to have less complex curricula. A notebook describing the details of this study is availabe at: \n",
    "\n",
    "#### Methology\n",
    "The study involved grouping undergraduate CS programs into three tiers (top, middle, and bottom) based on their rankings. For this purpose, we used the rankings provided by the CSRankings of Computer Science departments as a proxy for program quality.  That is, for the purpose of this study, we assumed that the highest ranked computer science departments are synonymous with the highest quality computer science undergraduate programs.  We acknowledge the concerns that are routinely expressed concerning these rankings such as these.  However, it should be noted that this study uses aggregations of schools with tiers, and the statistics associated with the aggregations.  Thus, the specific rankings of the schools within the tiers are irrelevant, all that matters is the tier in which a school is placed. Upon inspection of the schools within each tier, we believe that knowledgable and impartial observes would agree that the three tiers constructed in this study are highly correlated with the program quality.\n",
    "\n",
    "#### Results\n",
    "The study results are provided in the nothced box plot below, where the notches roughly correspond to the confidence intervals around the median values.\n",
    "![CS Study Box Plot](CS_study_results.png)\n",
    "ANOVA analysis determined that this is a statisitically significant difference between the means of the complexities of the programs in these tiers.\n",
    "\n",
    "The curricular complexity of the Univeristy of Arizona undergraduate Computer Science program is most similar to that of the top tier of Computer Science programs in this country."
   ]
  },
  {
   "cell_type": "markdown",
   "metadata": {},
   "source": [
    "### Degree Plan Optimization \n",
    "The Curricular Analytics toolbox contains a number of functions that will create different degree plans for a curriculum depending upon various optimization criteria.  In order to use these functions, you must first install the Gourbi solver, called [Gurobi Optimizer](https://www.gurobi.com/downloads/gurobi-optimizer-eula). Gurobi is a commercial product, and requires a license key; however, [academic licenses](https://www.gurobi.com/downloads/end-user-license-agreement-academic) are available at no cost."
   ]
  },
  {
   "cell_type": "code",
   "execution_count": 63,
   "metadata": {},
   "outputs": [],
   "source": [
    "# Uncomment the following two lines if the Gurobi package has not yet been included in your Julia environment.\n",
    "#using Pkg\n",
    "#Pkg.add(\"Gurobi\")\n",
    "using Gurobi"
   ]
  },
  {
   "cell_type": "markdown",
   "metadata": {},
   "source": [
    "Below is an analysis of the 2019-20 University of Arizaon CS degree plan.  (Previously we analyzed the structure of the CS curriculum. Here we are analyzing the degree plan, which considers how the courses in the curriculum are placed into a course-taking plan.)"
   ]
  },
  {
   "cell_type": "code",
   "execution_count": 64,
   "metadata": {},
   "outputs": [
    {
     "name": "stdout",
     "output_type": "stream",
     "text": [
      "\n",
      "Curriculum: Computer Science\n",
      "Degree Plan: 2019-20 Degree Plan\n",
      "  total credit hours = 122\n",
      "  number of terms = 8\n",
      "  max. credits in a term = 17, in term 2\n",
      "  min. credits in a term = 12, in term 8\n",
      "  avg. credits per term = 15.25, with std. dev. = 1.3919410907075054\n",
      "  total distance between all requisites = 15\n",
      "\n"
     ]
    }
   ],
   "source": [
    "metrics = basic_metrics(CS_plan)\n",
    "println(String(take!(metrics)))"
   ]
  },
  {
   "cell_type": "markdown",
   "metadata": {},
   "source": [
    "Notice there is fairly large discrepancy in the credit hours across the terms the program.  There is also a difference of only 15 terms between all of the prequisites and the courses that require them in the curriculum.  This is a low value, which is good. Using Interger Linear Programming, with an objective function aimed at balancing the credit hours across all terms, yeilds the following alternative degree plan."
   ]
  },
  {
   "cell_type": "code",
   "execution_count": 65,
   "metadata": {
    "scrolled": false
   },
   "outputs": [
    {
     "name": "stdout",
     "output_type": "stream",
     "text": [
      "Academic license - for non-commercial use only\n",
      "An optimal solution was found with objective value = 24.0\n"
     ]
    },
    {
     "data": {
      "application/vnd.webio.node+json": {
       "children": [
        {
         "children": [
          ""
         ],
         "instanceArgs": {
          "namespace": "html",
          "tag": "iframe"
         },
         "nodeType": "DOM",
         "props": {
          "events": {
           "load": "(function (){this.contentWindow.postMessage({\"options\":{\"hideTerms\":false,\"edit\":false},\"curriculum\":{\"name\":\"Computer Science\",\"dp_name\":\"\",\"curriculum_terms\":[{\"name\":\"Term 1\",\"curriculum_items\":[{\"curriculum_requisites\":[],\"name\":\"CSC \",\"metrics\":{\"complexity\":1.0,\"centrality\":0,\"blocking factor\":0,\"delay factor\":1.0},\"nameSub\":\"CSC 400-Level Elective 2\",\"id\":30,\"credits\":3,\"nameCanonical\":\"\"},{\"curriculum_requisites\":[],\"name\":\"MATH 120R\",\"metrics\":{\"complexity\":15.0,\"centrality\":0,\"blocking factor\":10,\"delay factor\":5.0},\"nameSub\":\"Pre-Calculus\",\"id\":2,\"credits\":4,\"nameCanonical\":\"\"},{\"curriculum_requisites\":[],\"name\":\" \",\"metrics\":{\"complexity\":3.0,\"centrality\":0,\"blocking factor\":1,\"delay factor\":2.0},\"nameSub\":\"1st Semester Second Language\",\"id\":4,\"credits\":4,\"nameCanonical\":\"\"},{\"curriculum_requisites\":[{\"source_id\":2,\"target_id\":1,\"type\":\"CurriculumCorequisite\"}],\"name\":\"CSC 110\",\"metrics\":{\"complexity\":12.0,\"centrality\":25,\"blocking factor\":7,\"delay factor\":5.0},\"nameSub\":\"Intro to Computer Programming I\",\"id\":1,\"credits\":4,\"nameCanonical\":\"\"}],\"id\":1},{\"name\":\"Term 2\",\"curriculum_items\":[{\"curriculum_requisites\":[],\"name\":\"CSC \",\"metrics\":{\"complexity\":1.0,\"centrality\":0,\"blocking factor\":0,\"delay factor\":1.0},\"nameSub\":\"CSC Theory & Writing Elective\",\"id\":29,\"credits\":3,\"nameCanonical\":\"\"},{\"curriculum_requisites\":[{\"source_id\":2,\"target_id\":6,\"type\":\"CurriculumPrerequisite\"}],\"name\":\"MATH 122A/B\",\"metrics\":{\"complexity\":4.0,\"centrality\":3,\"blocking factor\":1,\"delay factor\":3.0},\"nameSub\":\"Calculus I\",\"id\":6,\"credits\":5,\"nameCanonical\":\"\"},{\"curriculum_requisites\":[],\"name\":\"CSC \",\"metrics\":{\"complexity\":1.0,\"centrality\":0,\"blocking factor\":0,\"delay factor\":1.0},\"nameSub\":\"CSC Paradigms Elective\",\"id\":24,\"credits\":3,\"nameCanonical\":\"\"},{\"curriculum_requisites\":[{\"source_id\":1,\"target_id\":5,\"type\":\"CurriculumPrerequisite\"}],\"name\":\"CSC 120\",\"metrics\":{\"complexity\":11.0,\"centrality\":25,\"blocking factor\":6,\"delay factor\":5.0},\"nameSub\":\"Intro to Computer Programming II\",\"id\":5,\"credits\":4,\"nameCanonical\":\"\"}],\"id\":2},{\"name\":\"Term 3\",\"curriculum_items\":[{\"curriculum_requisites\":[],\"name\":\" \",\"metrics\":{\"complexity\":1.0,\"centrality\":0,\"blocking factor\":0,\"delay factor\":1.0},\"nameSub\":\"Elective 4\",\"id\":33,\"credits\":3,\"nameCanonical\":\"\"},{\"curriculum_requisites\":[],\"name\":\" \",\"metrics\":{\"complexity\":1.0,\"centrality\":0,\"blocking factor\":0,\"delay factor\":1.0},\"nameSub\":\"Upper-Division Elective 2\",\"id\":37,\"credits\":3,\"nameCanonical\":\"\"},{\"curriculum_requisites\":[],\"name\":\"ENGL 101\",\"metrics\":{\"complexity\":3.0,\"centrality\":0,\"blocking factor\":1,\"delay factor\":2.0},\"nameSub\":\"English Composition I\",\"id\":3,\"credits\":3,\"nameCanonical\":\"\"},{\"curriculum_requisites\":[],\"name\":\" \",\"metrics\":{\"complexity\":1.0,\"centrality\":0,\"blocking factor\":0,\"delay factor\":1.0},\"nameSub\":\"Tier 1 General Education 2\",\"id\":13,\"credits\":3,\"nameCanonical\":\"\"},{\"curriculum_requisites\":[],\"name\":\" \",\"metrics\":{\"complexity\":1.0,\"centrality\":0,\"blocking factor\":0,\"delay factor\":1.0},\"nameSub\":\"Elective 2\",\"id\":31,\"credits\":3,\"nameCanonical\":\"\"}],\"id\":3},{\"name\":\"Term 4\",\"curriculum_items\":[{\"curriculum_requisites\":[],\"name\":\" \",\"metrics\":{\"complexity\":1.0,\"centrality\":0,\"blocking factor\":0,\"delay factor\":1.0},\"nameSub\":\"Tier 1 General Education 4\",\"id\":18,\"credits\":3,\"nameCanonical\":\"\"},{\"curriculum_requisites\":[],\"name\":\" \",\"metrics\":{\"complexity\":1.0,\"centrality\":0,\"blocking factor\":0,\"delay factor\":1.0},\"nameSub\":\"Elective 3\",\"id\":32,\"credits\":3,\"nameCanonical\":\"\"},{\"curriculum_requisites\":[],\"name\":\" \",\"metrics\":{\"complexity\":1.0,\"centrality\":0,\"blocking factor\":0,\"delay factor\":1.0},\"nameSub\":\"Tier 2 Gen Ed/Upper-Division 2\",\"id\":26,\"credits\":3,\"nameCanonical\":\"\"},{\"curriculum_requisites\":[],\"name\":\"CSC \",\"metrics\":{\"complexity\":1.0,\"centrality\":0,\"blocking factor\":0,\"delay factor\":1.0},\"nameSub\":\"CSC Systems Elective\",\"id\":34,\"credits\":3,\"nameCanonical\":\"\"},{\"curriculum_requisites\":[],\"name\":\"CSC \",\"metrics\":{\"complexity\":1.0,\"centrality\":0,\"blocking factor\":0,\"delay factor\":1.0},\"nameSub\":\"CSC 300/400-Level Elective\",\"id\":35,\"credits\":3,\"nameCanonical\":\"\"}],\"id\":4},{\"name\":\"Term 5\",\"curriculum_items\":[{\"curriculum_requisites\":[],\"name\":\" \",\"metrics\":{\"complexity\":1.0,\"centrality\":0,\"blocking factor\":0,\"delay factor\":1.0},\"nameSub\":\"Supporting Science #2\",\"id\":21,\"credits\":4,\"nameCanonical\":\"\"},{\"curriculum_requisites\":[{\"source_id\":5,\"target_id\":9,\"type\":\"CurriculumPrerequisite\"}],\"name\":\"CSC 210\",\"metrics\":{\"complexity\":9.0,\"centrality\":20,\"blocking factor\":4,\"delay factor\":5.0},\"nameSub\":\"Software Development\",\"id\":9,\"credits\":4,\"nameCanonical\":\"\"},{\"curriculum_requisites\":[{\"source_id\":4,\"target_id\":8,\"type\":\"CurriculumPrerequisite\"}],\"name\":\" \",\"metrics\":{\"complexity\":2.0,\"centrality\":0,\"blocking factor\":0,\"delay factor\":2.0},\"nameSub\":\"2nd Semester Second Language\",\"id\":8,\"credits\":4,\"nameCanonical\":\"\"},{\"curriculum_requisites\":[],\"name\":\" \",\"metrics\":{\"complexity\":1.0,\"centrality\":0,\"blocking factor\":0,\"delay factor\":1.0},\"nameSub\":\"Upper-Division Elective\",\"id\":23,\"credits\":3,\"nameCanonical\":\"\"}],\"id\":5},{\"name\":\"Term 6\",\"curriculum_items\":[{\"curriculum_requisites\":[{\"source_id\":6,\"target_id\":11,\"type\":\"CurriculumPrerequisite\"}],\"name\":\"MATH 129\",\"metrics\":{\"complexity\":3.0,\"centrality\":0,\"blocking factor\":0,\"delay factor\":3.0},\"nameSub\":\"Calculus II\",\"id\":11,\"credits\":3,\"nameCanonical\":\"\"},{\"curriculum_requisites\":[{\"source_id\":3,\"target_id\":7,\"type\":\"CurriculumPrerequisite\"}],\"name\":\"ENGL 102\",\"metrics\":{\"complexity\":2.0,\"centrality\":0,\"blocking factor\":0,\"delay factor\":2.0},\"nameSub\":\"English Composition II\",\"id\":7,\"credits\":4,\"nameCanonical\":\"\"},{\"curriculum_requisites\":[{\"source_id\":9,\"target_id\":19,\"type\":\"CurriculumPrerequisite\"}],\"name\":\"CSC 335\",\"metrics\":{\"complexity\":5.0,\"centrality\":0,\"blocking factor\":0,\"delay factor\":5.0},\"nameSub\":\"Object-Oriented Programming\",\"id\":19,\"credits\":3,\"nameCanonical\":\"\"},{\"curriculum_requisites\":[],\"name\":\" \",\"metrics\":{\"complexity\":1.0,\"centrality\":0,\"blocking factor\":0,\"delay factor\":1.0},\"nameSub\":\"Tier 2 Gen Ed/Upper-Division 3\",\"id\":27,\"credits\":3,\"nameCanonical\":\"\"},{\"curriculum_requisites\":[],\"name\":\" \",\"metrics\":{\"complexity\":1.0,\"centrality\":0,\"blocking factor\":0,\"delay factor\":1.0},\"nameSub\":\"Tier 1 General Education 1\",\"id\":12,\"credits\":3,\"nameCanonical\":\"\"}],\"id\":6},{\"name\":\"Term 7\",\"curriculum_items\":[{\"curriculum_requisites\":[],\"name\":\"CSC \",\"metrics\":{\"complexity\":1.0,\"centrality\":0,\"blocking factor\":0,\"delay factor\":1.0},\"nameSub\":\"CSC 400-Level Elective 1\",\"id\":25,\"credits\":3,\"nameCanonical\":\"\"},{\"curriculum_requisites\":[{\"source_id\":5,\"target_id\":10,\"type\":\"CurriculumPrerequisite\"}],\"name\":\"CSC 245\",\"metrics\":{\"complexity\":6.0,\"centrality\":5,\"blocking factor\":1,\"delay factor\":5.0},\"nameSub\":\"Intro to Discrete Structures\",\"id\":10,\"credits\":3,\"nameCanonical\":\"\"},{\"curriculum_requisites\":[],\"name\":\" \",\"metrics\":{\"complexity\":1.0,\"centrality\":0,\"blocking factor\":0,\"delay factor\":1.0},\"nameSub\":\"Tier 1 General Education 3\",\"id\":17,\"credits\":3,\"nameCanonical\":\"\"},{\"curriculum_requisites\":[{\"source_id\":9,\"target_id\":14,\"type\":\"CurriculumPrerequisite\"}],\"name\":\"CSC 252\",\"metrics\":{\"complexity\":5.0,\"centrality\":0,\"blocking factor\":0,\"delay factor\":5.0},\"nameSub\":\"Computer Organization\",\"id\":14,\"credits\":3,\"nameCanonical\":\"\"},{\"curriculum_requisites\":[],\"name\":\" \",\"metrics\":{\"complexity\":1.0,\"centrality\":0,\"blocking factor\":0,\"delay factor\":1.0},\"nameSub\":\"Upper-Division Elective 1\",\"id\":36,\"credits\":3,\"nameCanonical\":\"\"}],\"id\":7},{\"name\":\"Term 8\",\"curriculum_items\":[{\"curriculum_requisites\":[],\"name\":\" \",\"metrics\":{\"complexity\":1.0,\"centrality\":0,\"blocking factor\":0,\"delay factor\":1.0},\"nameSub\":\"Supporting Science #1\",\"id\":16,\"credits\":4,\"nameCanonical\":\"\"},{\"curriculum_requisites\":[],\"name\":\" \",\"metrics\":{\"complexity\":1.0,\"centrality\":0,\"blocking factor\":0,\"delay factor\":1.0},\"nameSub\":\"Tier 2 Gen Ed/Upper-Division 1\",\"id\":22,\"credits\":3,\"nameCanonical\":\"\"},{\"curriculum_requisites\":[],\"name\":\" \",\"metrics\":{\"complexity\":1.0,\"centrality\":0,\"blocking factor\":0,\"delay factor\":1.0},\"nameSub\":\"Elective 1\",\"id\":28,\"credits\":3,\"nameCanonical\":\"\"},{\"curriculum_requisites\":[{\"source_id\":9,\"target_id\":20,\"type\":\"CurriculumPrerequisite\"},{\"source_id\":10,\"target_id\":20,\"type\":\"CurriculumPrerequisite\"}],\"name\":\"CSC 345\",\"metrics\":{\"complexity\":5.0,\"centrality\":0,\"blocking factor\":0,\"delay factor\":5.0},\"nameSub\":\"Analysis of Discrete Structures\",\"id\":20,\"credits\":3,\"nameCanonical\":\"\"},{\"curriculum_requisites\":[{\"source_id\":9,\"target_id\":15,\"type\":\"CurriculumPrerequisite\"}],\"name\":\"CSC 352\",\"metrics\":{\"complexity\":5.0,\"centrality\":0,\"blocking factor\":0,\"delay factor\":5.0},\"nameSub\":\"Systems Programming & Unix\",\"id\":15,\"credits\":3,\"nameCanonical\":\"\"}],\"id\":8}],\"institution\":\"University of Arizona\"}},\"*\"); window.removeEventListener(\"message\",window.messageReceived); window.messageReceived=(function (event){return (event.data.curriculum!==undefined) ? (WebIO.setval({\"name\":\"curriculum-data\",\"scope\":\"10891737906893759272\",\"id\":\"ob_12\",\"type\":\"observable\"},event.data.curriculum)) : undefined}); return window.addEventListener(\"message\",window.messageReceived)})"
          },
          "id": "curriculum",
          "src": "http://localhost:8156",
          "style": {
           "border": "none",
           "height": "100vh",
           "margin": "0",
           "padding": "0",
           "width": "100%"
          }
         },
         "type": "node"
        }
       ],
       "instanceArgs": {
        "handlers": {},
        "id": "10891737906893759272",
        "imports": {
         "data": [],
         "type": "async_block"
        },
        "mount_callbacks": [],
        "observables": {
         "curriculum-data": {
          "id": "ob_12",
          "sync": true,
          "value": {
           "curriculum": {
            "curriculum_terms": [
             {
              "curriculum_items": [
               {
                "credits": 3,
                "curriculum_requisites": [],
                "id": 30,
                "metrics": {
                 "blocking factor": 0,
                 "centrality": 0,
                 "complexity": 1,
                 "delay factor": 1
                },
                "name": "CSC ",
                "nameCanonical": "",
                "nameSub": "CSC 400-Level Elective 2"
               },
               {
                "credits": 4,
                "curriculum_requisites": [],
                "id": 2,
                "metrics": {
                 "blocking factor": 10,
                 "centrality": 0,
                 "complexity": 15,
                 "delay factor": 5
                },
                "name": "MATH 120R",
                "nameCanonical": "",
                "nameSub": "Pre-Calculus"
               },
               {
                "credits": 4,
                "curriculum_requisites": [],
                "id": 4,
                "metrics": {
                 "blocking factor": 1,
                 "centrality": 0,
                 "complexity": 3,
                 "delay factor": 2
                },
                "name": " ",
                "nameCanonical": "",
                "nameSub": "1st Semester Second Language"
               },
               {
                "credits": 4,
                "curriculum_requisites": [
                 {
                  "source_id": 2,
                  "target_id": 1,
                  "type": "CurriculumCorequisite"
                 }
                ],
                "id": 1,
                "metrics": {
                 "blocking factor": 7,
                 "centrality": 25,
                 "complexity": 12,
                 "delay factor": 5
                },
                "name": "CSC 110",
                "nameCanonical": "",
                "nameSub": "Intro to Computer Programming I"
               }
              ],
              "id": 1,
              "name": "Term 1"
             },
             {
              "curriculum_items": [
               {
                "credits": 3,
                "curriculum_requisites": [],
                "id": 29,
                "metrics": {
                 "blocking factor": 0,
                 "centrality": 0,
                 "complexity": 1,
                 "delay factor": 1
                },
                "name": "CSC ",
                "nameCanonical": "",
                "nameSub": "CSC Theory & Writing Elective"
               },
               {
                "credits": 5,
                "curriculum_requisites": [
                 {
                  "source_id": 2,
                  "target_id": 6,
                  "type": "CurriculumPrerequisite"
                 }
                ],
                "id": 6,
                "metrics": {
                 "blocking factor": 1,
                 "centrality": 3,
                 "complexity": 4,
                 "delay factor": 3
                },
                "name": "MATH 122A/B",
                "nameCanonical": "",
                "nameSub": "Calculus I"
               },
               {
                "credits": 3,
                "curriculum_requisites": [],
                "id": 24,
                "metrics": {
                 "blocking factor": 0,
                 "centrality": 0,
                 "complexity": 1,
                 "delay factor": 1
                },
                "name": "CSC ",
                "nameCanonical": "",
                "nameSub": "CSC Paradigms Elective"
               },
               {
                "credits": 4,
                "curriculum_requisites": [
                 {
                  "source_id": 1,
                  "target_id": 5,
                  "type": "CurriculumPrerequisite"
                 }
                ],
                "id": 5,
                "metrics": {
                 "blocking factor": 6,
                 "centrality": 25,
                 "complexity": 11,
                 "delay factor": 5
                },
                "name": "CSC 120",
                "nameCanonical": "",
                "nameSub": "Intro to Computer Programming II"
               }
              ],
              "id": 2,
              "name": "Term 2"
             },
             {
              "curriculum_items": [
               {
                "credits": 3,
                "curriculum_requisites": [],
                "id": 33,
                "metrics": {
                 "blocking factor": 0,
                 "centrality": 0,
                 "complexity": 1,
                 "delay factor": 1
                },
                "name": " ",
                "nameCanonical": "",
                "nameSub": "Elective 4"
               },
               {
                "credits": 3,
                "curriculum_requisites": [],
                "id": 37,
                "metrics": {
                 "blocking factor": 0,
                 "centrality": 0,
                 "complexity": 1,
                 "delay factor": 1
                },
                "name": " ",
                "nameCanonical": "",
                "nameSub": "Upper-Division Elective 2"
               },
               {
                "credits": 3,
                "curriculum_requisites": [],
                "id": 3,
                "metrics": {
                 "blocking factor": 1,
                 "centrality": 0,
                 "complexity": 3,
                 "delay factor": 2
                },
                "name": "ENGL 101",
                "nameCanonical": "",
                "nameSub": "English Composition I"
               },
               {
                "credits": 3,
                "curriculum_requisites": [],
                "id": 13,
                "metrics": {
                 "blocking factor": 0,
                 "centrality": 0,
                 "complexity": 1,
                 "delay factor": 1
                },
                "name": " ",
                "nameCanonical": "",
                "nameSub": "Tier 1 General Education 2"
               },
               {
                "credits": 3,
                "curriculum_requisites": [],
                "id": 31,
                "metrics": {
                 "blocking factor": 0,
                 "centrality": 0,
                 "complexity": 1,
                 "delay factor": 1
                },
                "name": " ",
                "nameCanonical": "",
                "nameSub": "Elective 2"
               }
              ],
              "id": 3,
              "name": "Term 3"
             },
             {
              "curriculum_items": [
               {
                "credits": 3,
                "curriculum_requisites": [],
                "id": 18,
                "metrics": {
                 "blocking factor": 0,
                 "centrality": 0,
                 "complexity": 1,
                 "delay factor": 1
                },
                "name": " ",
                "nameCanonical": "",
                "nameSub": "Tier 1 General Education 4"
               },
               {
                "credits": 3,
                "curriculum_requisites": [],
                "id": 32,
                "metrics": {
                 "blocking factor": 0,
                 "centrality": 0,
                 "complexity": 1,
                 "delay factor": 1
                },
                "name": " ",
                "nameCanonical": "",
                "nameSub": "Elective 3"
               },
               {
                "credits": 3,
                "curriculum_requisites": [],
                "id": 26,
                "metrics": {
                 "blocking factor": 0,
                 "centrality": 0,
                 "complexity": 1,
                 "delay factor": 1
                },
                "name": " ",
                "nameCanonical": "",
                "nameSub": "Tier 2 Gen Ed/Upper-Division 2"
               },
               {
                "credits": 3,
                "curriculum_requisites": [],
                "id": 34,
                "metrics": {
                 "blocking factor": 0,
                 "centrality": 0,
                 "complexity": 1,
                 "delay factor": 1
                },
                "name": "CSC ",
                "nameCanonical": "",
                "nameSub": "CSC Systems Elective"
               },
               {
                "credits": 3,
                "curriculum_requisites": [],
                "id": 35,
                "metrics": {
                 "blocking factor": 0,
                 "centrality": 0,
                 "complexity": 1,
                 "delay factor": 1
                },
                "name": "CSC ",
                "nameCanonical": "",
                "nameSub": "CSC 300/400-Level Elective"
               }
              ],
              "id": 4,
              "name": "Term 4"
             },
             {
              "curriculum_items": [
               {
                "credits": 4,
                "curriculum_requisites": [],
                "id": 21,
                "metrics": {
                 "blocking factor": 0,
                 "centrality": 0,
                 "complexity": 1,
                 "delay factor": 1
                },
                "name": " ",
                "nameCanonical": "",
                "nameSub": "Supporting Science #2"
               },
               {
                "credits": 4,
                "curriculum_requisites": [
                 {
                  "source_id": 5,
                  "target_id": 9,
                  "type": "CurriculumPrerequisite"
                 }
                ],
                "id": 9,
                "metrics": {
                 "blocking factor": 4,
                 "centrality": 20,
                 "complexity": 9,
                 "delay factor": 5
                },
                "name": "CSC 210",
                "nameCanonical": "",
                "nameSub": "Software Development"
               },
               {
                "credits": 4,
                "curriculum_requisites": [
                 {
                  "source_id": 4,
                  "target_id": 8,
                  "type": "CurriculumPrerequisite"
                 }
                ],
                "id": 8,
                "metrics": {
                 "blocking factor": 0,
                 "centrality": 0,
                 "complexity": 2,
                 "delay factor": 2
                },
                "name": " ",
                "nameCanonical": "",
                "nameSub": "2nd Semester Second Language"
               },
               {
                "credits": 3,
                "curriculum_requisites": [],
                "id": 23,
                "metrics": {
                 "blocking factor": 0,
                 "centrality": 0,
                 "complexity": 1,
                 "delay factor": 1
                },
                "name": " ",
                "nameCanonical": "",
                "nameSub": "Upper-Division Elective"
               }
              ],
              "id": 5,
              "name": "Term 5"
             },
             {
              "curriculum_items": [
               {
                "credits": 3,
                "curriculum_requisites": [
                 {
                  "source_id": 6,
                  "target_id": 11,
                  "type": "CurriculumPrerequisite"
                 }
                ],
                "id": 11,
                "metrics": {
                 "blocking factor": 0,
                 "centrality": 0,
                 "complexity": 3,
                 "delay factor": 3
                },
                "name": "MATH 129",
                "nameCanonical": "",
                "nameSub": "Calculus II"
               },
               {
                "credits": 4,
                "curriculum_requisites": [
                 {
                  "source_id": 3,
                  "target_id": 7,
                  "type": "CurriculumPrerequisite"
                 }
                ],
                "id": 7,
                "metrics": {
                 "blocking factor": 0,
                 "centrality": 0,
                 "complexity": 2,
                 "delay factor": 2
                },
                "name": "ENGL 102",
                "nameCanonical": "",
                "nameSub": "English Composition II"
               },
               {
                "credits": 3,
                "curriculum_requisites": [
                 {
                  "source_id": 9,
                  "target_id": 19,
                  "type": "CurriculumPrerequisite"
                 }
                ],
                "id": 19,
                "metrics": {
                 "blocking factor": 0,
                 "centrality": 0,
                 "complexity": 5,
                 "delay factor": 5
                },
                "name": "CSC 335",
                "nameCanonical": "",
                "nameSub": "Object-Oriented Programming"
               },
               {
                "credits": 3,
                "curriculum_requisites": [],
                "id": 27,
                "metrics": {
                 "blocking factor": 0,
                 "centrality": 0,
                 "complexity": 1,
                 "delay factor": 1
                },
                "name": " ",
                "nameCanonical": "",
                "nameSub": "Tier 2 Gen Ed/Upper-Division 3"
               },
               {
                "credits": 3,
                "curriculum_requisites": [],
                "id": 12,
                "metrics": {
                 "blocking factor": 0,
                 "centrality": 0,
                 "complexity": 1,
                 "delay factor": 1
                },
                "name": " ",
                "nameCanonical": "",
                "nameSub": "Tier 1 General Education 1"
               }
              ],
              "id": 6,
              "name": "Term 6"
             },
             {
              "curriculum_items": [
               {
                "credits": 3,
                "curriculum_requisites": [],
                "id": 25,
                "metrics": {
                 "blocking factor": 0,
                 "centrality": 0,
                 "complexity": 1,
                 "delay factor": 1
                },
                "name": "CSC ",
                "nameCanonical": "",
                "nameSub": "CSC 400-Level Elective 1"
               },
               {
                "credits": 3,
                "curriculum_requisites": [
                 {
                  "source_id": 5,
                  "target_id": 10,
                  "type": "CurriculumPrerequisite"
                 }
                ],
                "id": 10,
                "metrics": {
                 "blocking factor": 1,
                 "centrality": 5,
                 "complexity": 6,
                 "delay factor": 5
                },
                "name": "CSC 245",
                "nameCanonical": "",
                "nameSub": "Intro to Discrete Structures"
               },
               {
                "credits": 3,
                "curriculum_requisites": [],
                "id": 17,
                "metrics": {
                 "blocking factor": 0,
                 "centrality": 0,
                 "complexity": 1,
                 "delay factor": 1
                },
                "name": " ",
                "nameCanonical": "",
                "nameSub": "Tier 1 General Education 3"
               },
               {
                "credits": 3,
                "curriculum_requisites": [
                 {
                  "source_id": 9,
                  "target_id": 14,
                  "type": "CurriculumPrerequisite"
                 }
                ],
                "id": 14,
                "metrics": {
                 "blocking factor": 0,
                 "centrality": 0,
                 "complexity": 5,
                 "delay factor": 5
                },
                "name": "CSC 252",
                "nameCanonical": "",
                "nameSub": "Computer Organization"
               },
               {
                "credits": 3,
                "curriculum_requisites": [],
                "id": 36,
                "metrics": {
                 "blocking factor": 0,
                 "centrality": 0,
                 "complexity": 1,
                 "delay factor": 1
                },
                "name": " ",
                "nameCanonical": "",
                "nameSub": "Upper-Division Elective 1"
               }
              ],
              "id": 7,
              "name": "Term 7"
             },
             {
              "curriculum_items": [
               {
                "credits": 4,
                "curriculum_requisites": [],
                "id": 16,
                "metrics": {
                 "blocking factor": 0,
                 "centrality": 0,
                 "complexity": 1,
                 "delay factor": 1
                },
                "name": " ",
                "nameCanonical": "",
                "nameSub": "Supporting Science #1"
               },
               {
                "credits": 3,
                "curriculum_requisites": [],
                "id": 22,
                "metrics": {
                 "blocking factor": 0,
                 "centrality": 0,
                 "complexity": 1,
                 "delay factor": 1
                },
                "name": " ",
                "nameCanonical": "",
                "nameSub": "Tier 2 Gen Ed/Upper-Division 1"
               },
               {
                "credits": 3,
                "curriculum_requisites": [],
                "id": 28,
                "metrics": {
                 "blocking factor": 0,
                 "centrality": 0,
                 "complexity": 1,
                 "delay factor": 1
                },
                "name": " ",
                "nameCanonical": "",
                "nameSub": "Elective 1"
               },
               {
                "credits": 3,
                "curriculum_requisites": [
                 {
                  "source_id": 9,
                  "target_id": 20,
                  "type": "CurriculumPrerequisite"
                 },
                 {
                  "source_id": 10,
                  "target_id": 20,
                  "type": "CurriculumPrerequisite"
                 }
                ],
                "id": 20,
                "metrics": {
                 "blocking factor": 0,
                 "centrality": 0,
                 "complexity": 5,
                 "delay factor": 5
                },
                "name": "CSC 345",
                "nameCanonical": "",
                "nameSub": "Analysis of Discrete Structures"
               },
               {
                "credits": 3,
                "curriculum_requisites": [
                 {
                  "source_id": 9,
                  "target_id": 15,
                  "type": "CurriculumPrerequisite"
                 }
                ],
                "id": 15,
                "metrics": {
                 "blocking factor": 0,
                 "centrality": 0,
                 "complexity": 5,
                 "delay factor": 5
                },
                "name": "CSC 352",
                "nameCanonical": "",
                "nameSub": "Systems Programming & Unix"
               }
              ],
              "id": 8,
              "name": "Term 8"
             }
            ],
            "dp_name": "",
            "institution": "University of Arizona",
            "name": "Computer Science"
           },
           "options": {
            "edit": false,
            "hideTerms": false
           }
          }
         }
        },
        "systemjs_options": null
       },
       "nodeType": "Scope",
       "props": {},
       "type": "node"
      },
      "text/html": [
       "<div\n",
       "    class=\"webio-mountpoint\"\n",
       "    data-webio-mountpoint=\"4949915258771922674\"\n",
       ">\n",
       "    <script>\n",
       "    if (window.require && require.defined && require.defined(\"nbextensions/webio-jupyter-notebook\")) {\n",
       "        console.log(\"Jupyter WebIO extension detected, not mounting.\");\n",
       "    } else if (window.WebIO) {\n",
       "        WebIO.mount(\n",
       "            document.querySelector('[data-webio-mountpoint=\"4949915258771922674\"]'),\n",
       "            {\"props\":{},\"nodeType\":\"Scope\",\"type\":\"node\",\"instanceArgs\":{\"imports\":{\"data\":[],\"type\":\"async_block\"},\"id\":\"10891737906893759272\",\"handlers\":{},\"systemjs_options\":null,\"mount_callbacks\":[],\"observables\":{\"curriculum-data\":{\"sync\":true,\"id\":\"ob_12\",\"value\":{\"options\":{\"hideTerms\":false,\"edit\":false},\"curriculum\":{\"name\":\"Computer Science\",\"dp_name\":\"\",\"curriculum_terms\":[{\"name\":\"Term 1\",\"curriculum_items\":[{\"curriculum_requisites\":[],\"name\":\"CSC \",\"metrics\":{\"complexity\":1.0,\"centrality\":0,\"blocking factor\":0,\"delay factor\":1.0},\"nameSub\":\"CSC 400-Level Elective 2\",\"id\":30,\"credits\":3,\"nameCanonical\":\"\"},{\"curriculum_requisites\":[],\"name\":\"MATH 120R\",\"metrics\":{\"complexity\":15.0,\"centrality\":0,\"blocking factor\":10,\"delay factor\":5.0},\"nameSub\":\"Pre-Calculus\",\"id\":2,\"credits\":4,\"nameCanonical\":\"\"},{\"curriculum_requisites\":[],\"name\":\" \",\"metrics\":{\"complexity\":3.0,\"centrality\":0,\"blocking factor\":1,\"delay factor\":2.0},\"nameSub\":\"1st Semester Second Language\",\"id\":4,\"credits\":4,\"nameCanonical\":\"\"},{\"curriculum_requisites\":[{\"source_id\":2,\"target_id\":1,\"type\":\"CurriculumCorequisite\"}],\"name\":\"CSC 110\",\"metrics\":{\"complexity\":12.0,\"centrality\":25,\"blocking factor\":7,\"delay factor\":5.0},\"nameSub\":\"Intro to Computer Programming I\",\"id\":1,\"credits\":4,\"nameCanonical\":\"\"}],\"id\":1},{\"name\":\"Term 2\",\"curriculum_items\":[{\"curriculum_requisites\":[],\"name\":\"CSC \",\"metrics\":{\"complexity\":1.0,\"centrality\":0,\"blocking factor\":0,\"delay factor\":1.0},\"nameSub\":\"CSC Theory & Writing Elective\",\"id\":29,\"credits\":3,\"nameCanonical\":\"\"},{\"curriculum_requisites\":[{\"source_id\":2,\"target_id\":6,\"type\":\"CurriculumPrerequisite\"}],\"name\":\"MATH 122A\\/B\",\"metrics\":{\"complexity\":4.0,\"centrality\":3,\"blocking factor\":1,\"delay factor\":3.0},\"nameSub\":\"Calculus I\",\"id\":6,\"credits\":5,\"nameCanonical\":\"\"},{\"curriculum_requisites\":[],\"name\":\"CSC \",\"metrics\":{\"complexity\":1.0,\"centrality\":0,\"blocking factor\":0,\"delay factor\":1.0},\"nameSub\":\"CSC Paradigms Elective\",\"id\":24,\"credits\":3,\"nameCanonical\":\"\"},{\"curriculum_requisites\":[{\"source_id\":1,\"target_id\":5,\"type\":\"CurriculumPrerequisite\"}],\"name\":\"CSC 120\",\"metrics\":{\"complexity\":11.0,\"centrality\":25,\"blocking factor\":6,\"delay factor\":5.0},\"nameSub\":\"Intro to Computer Programming II\",\"id\":5,\"credits\":4,\"nameCanonical\":\"\"}],\"id\":2},{\"name\":\"Term 3\",\"curriculum_items\":[{\"curriculum_requisites\":[],\"name\":\" \",\"metrics\":{\"complexity\":1.0,\"centrality\":0,\"blocking factor\":0,\"delay factor\":1.0},\"nameSub\":\"Elective 4\",\"id\":33,\"credits\":3,\"nameCanonical\":\"\"},{\"curriculum_requisites\":[],\"name\":\" \",\"metrics\":{\"complexity\":1.0,\"centrality\":0,\"blocking factor\":0,\"delay factor\":1.0},\"nameSub\":\"Upper-Division Elective 2\",\"id\":37,\"credits\":3,\"nameCanonical\":\"\"},{\"curriculum_requisites\":[],\"name\":\"ENGL 101\",\"metrics\":{\"complexity\":3.0,\"centrality\":0,\"blocking factor\":1,\"delay factor\":2.0},\"nameSub\":\"English Composition I\",\"id\":3,\"credits\":3,\"nameCanonical\":\"\"},{\"curriculum_requisites\":[],\"name\":\" \",\"metrics\":{\"complexity\":1.0,\"centrality\":0,\"blocking factor\":0,\"delay factor\":1.0},\"nameSub\":\"Tier 1 General Education 2\",\"id\":13,\"credits\":3,\"nameCanonical\":\"\"},{\"curriculum_requisites\":[],\"name\":\" \",\"metrics\":{\"complexity\":1.0,\"centrality\":0,\"blocking factor\":0,\"delay factor\":1.0},\"nameSub\":\"Elective 2\",\"id\":31,\"credits\":3,\"nameCanonical\":\"\"}],\"id\":3},{\"name\":\"Term 4\",\"curriculum_items\":[{\"curriculum_requisites\":[],\"name\":\" \",\"metrics\":{\"complexity\":1.0,\"centrality\":0,\"blocking factor\":0,\"delay factor\":1.0},\"nameSub\":\"Tier 1 General Education 4\",\"id\":18,\"credits\":3,\"nameCanonical\":\"\"},{\"curriculum_requisites\":[],\"name\":\" \",\"metrics\":{\"complexity\":1.0,\"centrality\":0,\"blocking factor\":0,\"delay factor\":1.0},\"nameSub\":\"Elective 3\",\"id\":32,\"credits\":3,\"nameCanonical\":\"\"},{\"curriculum_requisites\":[],\"name\":\" \",\"metrics\":{\"complexity\":1.0,\"centrality\":0,\"blocking factor\":0,\"delay factor\":1.0},\"nameSub\":\"Tier 2 Gen Ed\\/Upper-Division 2\",\"id\":26,\"credits\":3,\"nameCanonical\":\"\"},{\"curriculum_requisites\":[],\"name\":\"CSC \",\"metrics\":{\"complexity\":1.0,\"centrality\":0,\"blocking factor\":0,\"delay factor\":1.0},\"nameSub\":\"CSC Systems Elective\",\"id\":34,\"credits\":3,\"nameCanonical\":\"\"},{\"curriculum_requisites\":[],\"name\":\"CSC \",\"metrics\":{\"complexity\":1.0,\"centrality\":0,\"blocking factor\":0,\"delay factor\":1.0},\"nameSub\":\"CSC 300\\/400-Level Elective\",\"id\":35,\"credits\":3,\"nameCanonical\":\"\"}],\"id\":4},{\"name\":\"Term 5\",\"curriculum_items\":[{\"curriculum_requisites\":[],\"name\":\" \",\"metrics\":{\"complexity\":1.0,\"centrality\":0,\"blocking factor\":0,\"delay factor\":1.0},\"nameSub\":\"Supporting Science #2\",\"id\":21,\"credits\":4,\"nameCanonical\":\"\"},{\"curriculum_requisites\":[{\"source_id\":5,\"target_id\":9,\"type\":\"CurriculumPrerequisite\"}],\"name\":\"CSC 210\",\"metrics\":{\"complexity\":9.0,\"centrality\":20,\"blocking factor\":4,\"delay factor\":5.0},\"nameSub\":\"Software Development\",\"id\":9,\"credits\":4,\"nameCanonical\":\"\"},{\"curriculum_requisites\":[{\"source_id\":4,\"target_id\":8,\"type\":\"CurriculumPrerequisite\"}],\"name\":\" \",\"metrics\":{\"complexity\":2.0,\"centrality\":0,\"blocking factor\":0,\"delay factor\":2.0},\"nameSub\":\"2nd Semester Second Language\",\"id\":8,\"credits\":4,\"nameCanonical\":\"\"},{\"curriculum_requisites\":[],\"name\":\" \",\"metrics\":{\"complexity\":1.0,\"centrality\":0,\"blocking factor\":0,\"delay factor\":1.0},\"nameSub\":\"Upper-Division Elective\",\"id\":23,\"credits\":3,\"nameCanonical\":\"\"}],\"id\":5},{\"name\":\"Term 6\",\"curriculum_items\":[{\"curriculum_requisites\":[{\"source_id\":6,\"target_id\":11,\"type\":\"CurriculumPrerequisite\"}],\"name\":\"MATH 129\",\"metrics\":{\"complexity\":3.0,\"centrality\":0,\"blocking factor\":0,\"delay factor\":3.0},\"nameSub\":\"Calculus II\",\"id\":11,\"credits\":3,\"nameCanonical\":\"\"},{\"curriculum_requisites\":[{\"source_id\":3,\"target_id\":7,\"type\":\"CurriculumPrerequisite\"}],\"name\":\"ENGL 102\",\"metrics\":{\"complexity\":2.0,\"centrality\":0,\"blocking factor\":0,\"delay factor\":2.0},\"nameSub\":\"English Composition II\",\"id\":7,\"credits\":4,\"nameCanonical\":\"\"},{\"curriculum_requisites\":[{\"source_id\":9,\"target_id\":19,\"type\":\"CurriculumPrerequisite\"}],\"name\":\"CSC 335\",\"metrics\":{\"complexity\":5.0,\"centrality\":0,\"blocking factor\":0,\"delay factor\":5.0},\"nameSub\":\"Object-Oriented Programming\",\"id\":19,\"credits\":3,\"nameCanonical\":\"\"},{\"curriculum_requisites\":[],\"name\":\" \",\"metrics\":{\"complexity\":1.0,\"centrality\":0,\"blocking factor\":0,\"delay factor\":1.0},\"nameSub\":\"Tier 2 Gen Ed\\/Upper-Division 3\",\"id\":27,\"credits\":3,\"nameCanonical\":\"\"},{\"curriculum_requisites\":[],\"name\":\" \",\"metrics\":{\"complexity\":1.0,\"centrality\":0,\"blocking factor\":0,\"delay factor\":1.0},\"nameSub\":\"Tier 1 General Education 1\",\"id\":12,\"credits\":3,\"nameCanonical\":\"\"}],\"id\":6},{\"name\":\"Term 7\",\"curriculum_items\":[{\"curriculum_requisites\":[],\"name\":\"CSC \",\"metrics\":{\"complexity\":1.0,\"centrality\":0,\"blocking factor\":0,\"delay factor\":1.0},\"nameSub\":\"CSC 400-Level Elective 1\",\"id\":25,\"credits\":3,\"nameCanonical\":\"\"},{\"curriculum_requisites\":[{\"source_id\":5,\"target_id\":10,\"type\":\"CurriculumPrerequisite\"}],\"name\":\"CSC 245\",\"metrics\":{\"complexity\":6.0,\"centrality\":5,\"blocking factor\":1,\"delay factor\":5.0},\"nameSub\":\"Intro to Discrete Structures\",\"id\":10,\"credits\":3,\"nameCanonical\":\"\"},{\"curriculum_requisites\":[],\"name\":\" \",\"metrics\":{\"complexity\":1.0,\"centrality\":0,\"blocking factor\":0,\"delay factor\":1.0},\"nameSub\":\"Tier 1 General Education 3\",\"id\":17,\"credits\":3,\"nameCanonical\":\"\"},{\"curriculum_requisites\":[{\"source_id\":9,\"target_id\":14,\"type\":\"CurriculumPrerequisite\"}],\"name\":\"CSC 252\",\"metrics\":{\"complexity\":5.0,\"centrality\":0,\"blocking factor\":0,\"delay factor\":5.0},\"nameSub\":\"Computer Organization\",\"id\":14,\"credits\":3,\"nameCanonical\":\"\"},{\"curriculum_requisites\":[],\"name\":\" \",\"metrics\":{\"complexity\":1.0,\"centrality\":0,\"blocking factor\":0,\"delay factor\":1.0},\"nameSub\":\"Upper-Division Elective 1\",\"id\":36,\"credits\":3,\"nameCanonical\":\"\"}],\"id\":7},{\"name\":\"Term 8\",\"curriculum_items\":[{\"curriculum_requisites\":[],\"name\":\" \",\"metrics\":{\"complexity\":1.0,\"centrality\":0,\"blocking factor\":0,\"delay factor\":1.0},\"nameSub\":\"Supporting Science #1\",\"id\":16,\"credits\":4,\"nameCanonical\":\"\"},{\"curriculum_requisites\":[],\"name\":\" \",\"metrics\":{\"complexity\":1.0,\"centrality\":0,\"blocking factor\":0,\"delay factor\":1.0},\"nameSub\":\"Tier 2 Gen Ed\\/Upper-Division 1\",\"id\":22,\"credits\":3,\"nameCanonical\":\"\"},{\"curriculum_requisites\":[],\"name\":\" \",\"metrics\":{\"complexity\":1.0,\"centrality\":0,\"blocking factor\":0,\"delay factor\":1.0},\"nameSub\":\"Elective 1\",\"id\":28,\"credits\":3,\"nameCanonical\":\"\"},{\"curriculum_requisites\":[{\"source_id\":9,\"target_id\":20,\"type\":\"CurriculumPrerequisite\"},{\"source_id\":10,\"target_id\":20,\"type\":\"CurriculumPrerequisite\"}],\"name\":\"CSC 345\",\"metrics\":{\"complexity\":5.0,\"centrality\":0,\"blocking factor\":0,\"delay factor\":5.0},\"nameSub\":\"Analysis of Discrete Structures\",\"id\":20,\"credits\":3,\"nameCanonical\":\"\"},{\"curriculum_requisites\":[{\"source_id\":9,\"target_id\":15,\"type\":\"CurriculumPrerequisite\"}],\"name\":\"CSC 352\",\"metrics\":{\"complexity\":5.0,\"centrality\":0,\"blocking factor\":0,\"delay factor\":5.0},\"nameSub\":\"Systems Programming & Unix\",\"id\":15,\"credits\":3,\"nameCanonical\":\"\"}],\"id\":8}],\"institution\":\"University of Arizona\"}}}}},\"children\":[{\"props\":{\"src\":\"http:\\/\\/localhost:8156\",\"id\":\"curriculum\",\"events\":{\"load\":\"(function (){this.contentWindow.postMessage({\\\"options\\\":{\\\"hideTerms\\\":false,\\\"edit\\\":false},\\\"curriculum\\\":{\\\"name\\\":\\\"Computer Science\\\",\\\"dp_name\\\":\\\"\\\",\\\"curriculum_terms\\\":[{\\\"name\\\":\\\"Term 1\\\",\\\"curriculum_items\\\":[{\\\"curriculum_requisites\\\":[],\\\"name\\\":\\\"CSC \\\",\\\"metrics\\\":{\\\"complexity\\\":1.0,\\\"centrality\\\":0,\\\"blocking factor\\\":0,\\\"delay factor\\\":1.0},\\\"nameSub\\\":\\\"CSC 400-Level Elective 2\\\",\\\"id\\\":30,\\\"credits\\\":3,\\\"nameCanonical\\\":\\\"\\\"},{\\\"curriculum_requisites\\\":[],\\\"name\\\":\\\"MATH 120R\\\",\\\"metrics\\\":{\\\"complexity\\\":15.0,\\\"centrality\\\":0,\\\"blocking factor\\\":10,\\\"delay factor\\\":5.0},\\\"nameSub\\\":\\\"Pre-Calculus\\\",\\\"id\\\":2,\\\"credits\\\":4,\\\"nameCanonical\\\":\\\"\\\"},{\\\"curriculum_requisites\\\":[],\\\"name\\\":\\\" \\\",\\\"metrics\\\":{\\\"complexity\\\":3.0,\\\"centrality\\\":0,\\\"blocking factor\\\":1,\\\"delay factor\\\":2.0},\\\"nameSub\\\":\\\"1st Semester Second Language\\\",\\\"id\\\":4,\\\"credits\\\":4,\\\"nameCanonical\\\":\\\"\\\"},{\\\"curriculum_requisites\\\":[{\\\"source_id\\\":2,\\\"target_id\\\":1,\\\"type\\\":\\\"CurriculumCorequisite\\\"}],\\\"name\\\":\\\"CSC 110\\\",\\\"metrics\\\":{\\\"complexity\\\":12.0,\\\"centrality\\\":25,\\\"blocking factor\\\":7,\\\"delay factor\\\":5.0},\\\"nameSub\\\":\\\"Intro to Computer Programming I\\\",\\\"id\\\":1,\\\"credits\\\":4,\\\"nameCanonical\\\":\\\"\\\"}],\\\"id\\\":1},{\\\"name\\\":\\\"Term 2\\\",\\\"curriculum_items\\\":[{\\\"curriculum_requisites\\\":[],\\\"name\\\":\\\"CSC \\\",\\\"metrics\\\":{\\\"complexity\\\":1.0,\\\"centrality\\\":0,\\\"blocking factor\\\":0,\\\"delay factor\\\":1.0},\\\"nameSub\\\":\\\"CSC Theory & Writing Elective\\\",\\\"id\\\":29,\\\"credits\\\":3,\\\"nameCanonical\\\":\\\"\\\"},{\\\"curriculum_requisites\\\":[{\\\"source_id\\\":2,\\\"target_id\\\":6,\\\"type\\\":\\\"CurriculumPrerequisite\\\"}],\\\"name\\\":\\\"MATH 122A\\/B\\\",\\\"metrics\\\":{\\\"complexity\\\":4.0,\\\"centrality\\\":3,\\\"blocking factor\\\":1,\\\"delay factor\\\":3.0},\\\"nameSub\\\":\\\"Calculus I\\\",\\\"id\\\":6,\\\"credits\\\":5,\\\"nameCanonical\\\":\\\"\\\"},{\\\"curriculum_requisites\\\":[],\\\"name\\\":\\\"CSC \\\",\\\"metrics\\\":{\\\"complexity\\\":1.0,\\\"centrality\\\":0,\\\"blocking factor\\\":0,\\\"delay factor\\\":1.0},\\\"nameSub\\\":\\\"CSC Paradigms Elective\\\",\\\"id\\\":24,\\\"credits\\\":3,\\\"nameCanonical\\\":\\\"\\\"},{\\\"curriculum_requisites\\\":[{\\\"source_id\\\":1,\\\"target_id\\\":5,\\\"type\\\":\\\"CurriculumPrerequisite\\\"}],\\\"name\\\":\\\"CSC 120\\\",\\\"metrics\\\":{\\\"complexity\\\":11.0,\\\"centrality\\\":25,\\\"blocking factor\\\":6,\\\"delay factor\\\":5.0},\\\"nameSub\\\":\\\"Intro to Computer Programming II\\\",\\\"id\\\":5,\\\"credits\\\":4,\\\"nameCanonical\\\":\\\"\\\"}],\\\"id\\\":2},{\\\"name\\\":\\\"Term 3\\\",\\\"curriculum_items\\\":[{\\\"curriculum_requisites\\\":[],\\\"name\\\":\\\" \\\",\\\"metrics\\\":{\\\"complexity\\\":1.0,\\\"centrality\\\":0,\\\"blocking factor\\\":0,\\\"delay factor\\\":1.0},\\\"nameSub\\\":\\\"Elective 4\\\",\\\"id\\\":33,\\\"credits\\\":3,\\\"nameCanonical\\\":\\\"\\\"},{\\\"curriculum_requisites\\\":[],\\\"name\\\":\\\" \\\",\\\"metrics\\\":{\\\"complexity\\\":1.0,\\\"centrality\\\":0,\\\"blocking factor\\\":0,\\\"delay factor\\\":1.0},\\\"nameSub\\\":\\\"Upper-Division Elective 2\\\",\\\"id\\\":37,\\\"credits\\\":3,\\\"nameCanonical\\\":\\\"\\\"},{\\\"curriculum_requisites\\\":[],\\\"name\\\":\\\"ENGL 101\\\",\\\"metrics\\\":{\\\"complexity\\\":3.0,\\\"centrality\\\":0,\\\"blocking factor\\\":1,\\\"delay factor\\\":2.0},\\\"nameSub\\\":\\\"English Composition I\\\",\\\"id\\\":3,\\\"credits\\\":3,\\\"nameCanonical\\\":\\\"\\\"},{\\\"curriculum_requisites\\\":[],\\\"name\\\":\\\" \\\",\\\"metrics\\\":{\\\"complexity\\\":1.0,\\\"centrality\\\":0,\\\"blocking factor\\\":0,\\\"delay factor\\\":1.0},\\\"nameSub\\\":\\\"Tier 1 General Education 2\\\",\\\"id\\\":13,\\\"credits\\\":3,\\\"nameCanonical\\\":\\\"\\\"},{\\\"curriculum_requisites\\\":[],\\\"name\\\":\\\" \\\",\\\"metrics\\\":{\\\"complexity\\\":1.0,\\\"centrality\\\":0,\\\"blocking factor\\\":0,\\\"delay factor\\\":1.0},\\\"nameSub\\\":\\\"Elective 2\\\",\\\"id\\\":31,\\\"credits\\\":3,\\\"nameCanonical\\\":\\\"\\\"}],\\\"id\\\":3},{\\\"name\\\":\\\"Term 4\\\",\\\"curriculum_items\\\":[{\\\"curriculum_requisites\\\":[],\\\"name\\\":\\\" \\\",\\\"metrics\\\":{\\\"complexity\\\":1.0,\\\"centrality\\\":0,\\\"blocking factor\\\":0,\\\"delay factor\\\":1.0},\\\"nameSub\\\":\\\"Tier 1 General Education 4\\\",\\\"id\\\":18,\\\"credits\\\":3,\\\"nameCanonical\\\":\\\"\\\"},{\\\"curriculum_requisites\\\":[],\\\"name\\\":\\\" \\\",\\\"metrics\\\":{\\\"complexity\\\":1.0,\\\"centrality\\\":0,\\\"blocking factor\\\":0,\\\"delay factor\\\":1.0},\\\"nameSub\\\":\\\"Elective 3\\\",\\\"id\\\":32,\\\"credits\\\":3,\\\"nameCanonical\\\":\\\"\\\"},{\\\"curriculum_requisites\\\":[],\\\"name\\\":\\\" \\\",\\\"metrics\\\":{\\\"complexity\\\":1.0,\\\"centrality\\\":0,\\\"blocking factor\\\":0,\\\"delay factor\\\":1.0},\\\"nameSub\\\":\\\"Tier 2 Gen Ed\\/Upper-Division 2\\\",\\\"id\\\":26,\\\"credits\\\":3,\\\"nameCanonical\\\":\\\"\\\"},{\\\"curriculum_requisites\\\":[],\\\"name\\\":\\\"CSC \\\",\\\"metrics\\\":{\\\"complexity\\\":1.0,\\\"centrality\\\":0,\\\"blocking factor\\\":0,\\\"delay factor\\\":1.0},\\\"nameSub\\\":\\\"CSC Systems Elective\\\",\\\"id\\\":34,\\\"credits\\\":3,\\\"nameCanonical\\\":\\\"\\\"},{\\\"curriculum_requisites\\\":[],\\\"name\\\":\\\"CSC \\\",\\\"metrics\\\":{\\\"complexity\\\":1.0,\\\"centrality\\\":0,\\\"blocking factor\\\":0,\\\"delay factor\\\":1.0},\\\"nameSub\\\":\\\"CSC 300\\/400-Level Elective\\\",\\\"id\\\":35,\\\"credits\\\":3,\\\"nameCanonical\\\":\\\"\\\"}],\\\"id\\\":4},{\\\"name\\\":\\\"Term 5\\\",\\\"curriculum_items\\\":[{\\\"curriculum_requisites\\\":[],\\\"name\\\":\\\" \\\",\\\"metrics\\\":{\\\"complexity\\\":1.0,\\\"centrality\\\":0,\\\"blocking factor\\\":0,\\\"delay factor\\\":1.0},\\\"nameSub\\\":\\\"Supporting Science #2\\\",\\\"id\\\":21,\\\"credits\\\":4,\\\"nameCanonical\\\":\\\"\\\"},{\\\"curriculum_requisites\\\":[{\\\"source_id\\\":5,\\\"target_id\\\":9,\\\"type\\\":\\\"CurriculumPrerequisite\\\"}],\\\"name\\\":\\\"CSC 210\\\",\\\"metrics\\\":{\\\"complexity\\\":9.0,\\\"centrality\\\":20,\\\"blocking factor\\\":4,\\\"delay factor\\\":5.0},\\\"nameSub\\\":\\\"Software Development\\\",\\\"id\\\":9,\\\"credits\\\":4,\\\"nameCanonical\\\":\\\"\\\"},{\\\"curriculum_requisites\\\":[{\\\"source_id\\\":4,\\\"target_id\\\":8,\\\"type\\\":\\\"CurriculumPrerequisite\\\"}],\\\"name\\\":\\\" \\\",\\\"metrics\\\":{\\\"complexity\\\":2.0,\\\"centrality\\\":0,\\\"blocking factor\\\":0,\\\"delay factor\\\":2.0},\\\"nameSub\\\":\\\"2nd Semester Second Language\\\",\\\"id\\\":8,\\\"credits\\\":4,\\\"nameCanonical\\\":\\\"\\\"},{\\\"curriculum_requisites\\\":[],\\\"name\\\":\\\" \\\",\\\"metrics\\\":{\\\"complexity\\\":1.0,\\\"centrality\\\":0,\\\"blocking factor\\\":0,\\\"delay factor\\\":1.0},\\\"nameSub\\\":\\\"Upper-Division Elective\\\",\\\"id\\\":23,\\\"credits\\\":3,\\\"nameCanonical\\\":\\\"\\\"}],\\\"id\\\":5},{\\\"name\\\":\\\"Term 6\\\",\\\"curriculum_items\\\":[{\\\"curriculum_requisites\\\":[{\\\"source_id\\\":6,\\\"target_id\\\":11,\\\"type\\\":\\\"CurriculumPrerequisite\\\"}],\\\"name\\\":\\\"MATH 129\\\",\\\"metrics\\\":{\\\"complexity\\\":3.0,\\\"centrality\\\":0,\\\"blocking factor\\\":0,\\\"delay factor\\\":3.0},\\\"nameSub\\\":\\\"Calculus II\\\",\\\"id\\\":11,\\\"credits\\\":3,\\\"nameCanonical\\\":\\\"\\\"},{\\\"curriculum_requisites\\\":[{\\\"source_id\\\":3,\\\"target_id\\\":7,\\\"type\\\":\\\"CurriculumPrerequisite\\\"}],\\\"name\\\":\\\"ENGL 102\\\",\\\"metrics\\\":{\\\"complexity\\\":2.0,\\\"centrality\\\":0,\\\"blocking factor\\\":0,\\\"delay factor\\\":2.0},\\\"nameSub\\\":\\\"English Composition II\\\",\\\"id\\\":7,\\\"credits\\\":4,\\\"nameCanonical\\\":\\\"\\\"},{\\\"curriculum_requisites\\\":[{\\\"source_id\\\":9,\\\"target_id\\\":19,\\\"type\\\":\\\"CurriculumPrerequisite\\\"}],\\\"name\\\":\\\"CSC 335\\\",\\\"metrics\\\":{\\\"complexity\\\":5.0,\\\"centrality\\\":0,\\\"blocking factor\\\":0,\\\"delay factor\\\":5.0},\\\"nameSub\\\":\\\"Object-Oriented Programming\\\",\\\"id\\\":19,\\\"credits\\\":3,\\\"nameCanonical\\\":\\\"\\\"},{\\\"curriculum_requisites\\\":[],\\\"name\\\":\\\" \\\",\\\"metrics\\\":{\\\"complexity\\\":1.0,\\\"centrality\\\":0,\\\"blocking factor\\\":0,\\\"delay factor\\\":1.0},\\\"nameSub\\\":\\\"Tier 2 Gen Ed\\/Upper-Division 3\\\",\\\"id\\\":27,\\\"credits\\\":3,\\\"nameCanonical\\\":\\\"\\\"},{\\\"curriculum_requisites\\\":[],\\\"name\\\":\\\" \\\",\\\"metrics\\\":{\\\"complexity\\\":1.0,\\\"centrality\\\":0,\\\"blocking factor\\\":0,\\\"delay factor\\\":1.0},\\\"nameSub\\\":\\\"Tier 1 General Education 1\\\",\\\"id\\\":12,\\\"credits\\\":3,\\\"nameCanonical\\\":\\\"\\\"}],\\\"id\\\":6},{\\\"name\\\":\\\"Term 7\\\",\\\"curriculum_items\\\":[{\\\"curriculum_requisites\\\":[],\\\"name\\\":\\\"CSC \\\",\\\"metrics\\\":{\\\"complexity\\\":1.0,\\\"centrality\\\":0,\\\"blocking factor\\\":0,\\\"delay factor\\\":1.0},\\\"nameSub\\\":\\\"CSC 400-Level Elective 1\\\",\\\"id\\\":25,\\\"credits\\\":3,\\\"nameCanonical\\\":\\\"\\\"},{\\\"curriculum_requisites\\\":[{\\\"source_id\\\":5,\\\"target_id\\\":10,\\\"type\\\":\\\"CurriculumPrerequisite\\\"}],\\\"name\\\":\\\"CSC 245\\\",\\\"metrics\\\":{\\\"complexity\\\":6.0,\\\"centrality\\\":5,\\\"blocking factor\\\":1,\\\"delay factor\\\":5.0},\\\"nameSub\\\":\\\"Intro to Discrete Structures\\\",\\\"id\\\":10,\\\"credits\\\":3,\\\"nameCanonical\\\":\\\"\\\"},{\\\"curriculum_requisites\\\":[],\\\"name\\\":\\\" \\\",\\\"metrics\\\":{\\\"complexity\\\":1.0,\\\"centrality\\\":0,\\\"blocking factor\\\":0,\\\"delay factor\\\":1.0},\\\"nameSub\\\":\\\"Tier 1 General Education 3\\\",\\\"id\\\":17,\\\"credits\\\":3,\\\"nameCanonical\\\":\\\"\\\"},{\\\"curriculum_requisites\\\":[{\\\"source_id\\\":9,\\\"target_id\\\":14,\\\"type\\\":\\\"CurriculumPrerequisite\\\"}],\\\"name\\\":\\\"CSC 252\\\",\\\"metrics\\\":{\\\"complexity\\\":5.0,\\\"centrality\\\":0,\\\"blocking factor\\\":0,\\\"delay factor\\\":5.0},\\\"nameSub\\\":\\\"Computer Organization\\\",\\\"id\\\":14,\\\"credits\\\":3,\\\"nameCanonical\\\":\\\"\\\"},{\\\"curriculum_requisites\\\":[],\\\"name\\\":\\\" \\\",\\\"metrics\\\":{\\\"complexity\\\":1.0,\\\"centrality\\\":0,\\\"blocking factor\\\":0,\\\"delay factor\\\":1.0},\\\"nameSub\\\":\\\"Upper-Division Elective 1\\\",\\\"id\\\":36,\\\"credits\\\":3,\\\"nameCanonical\\\":\\\"\\\"}],\\\"id\\\":7},{\\\"name\\\":\\\"Term 8\\\",\\\"curriculum_items\\\":[{\\\"curriculum_requisites\\\":[],\\\"name\\\":\\\" \\\",\\\"metrics\\\":{\\\"complexity\\\":1.0,\\\"centrality\\\":0,\\\"blocking factor\\\":0,\\\"delay factor\\\":1.0},\\\"nameSub\\\":\\\"Supporting Science #1\\\",\\\"id\\\":16,\\\"credits\\\":4,\\\"nameCanonical\\\":\\\"\\\"},{\\\"curriculum_requisites\\\":[],\\\"name\\\":\\\" \\\",\\\"metrics\\\":{\\\"complexity\\\":1.0,\\\"centrality\\\":0,\\\"blocking factor\\\":0,\\\"delay factor\\\":1.0},\\\"nameSub\\\":\\\"Tier 2 Gen Ed\\/Upper-Division 1\\\",\\\"id\\\":22,\\\"credits\\\":3,\\\"nameCanonical\\\":\\\"\\\"},{\\\"curriculum_requisites\\\":[],\\\"name\\\":\\\" \\\",\\\"metrics\\\":{\\\"complexity\\\":1.0,\\\"centrality\\\":0,\\\"blocking factor\\\":0,\\\"delay factor\\\":1.0},\\\"nameSub\\\":\\\"Elective 1\\\",\\\"id\\\":28,\\\"credits\\\":3,\\\"nameCanonical\\\":\\\"\\\"},{\\\"curriculum_requisites\\\":[{\\\"source_id\\\":9,\\\"target_id\\\":20,\\\"type\\\":\\\"CurriculumPrerequisite\\\"},{\\\"source_id\\\":10,\\\"target_id\\\":20,\\\"type\\\":\\\"CurriculumPrerequisite\\\"}],\\\"name\\\":\\\"CSC 345\\\",\\\"metrics\\\":{\\\"complexity\\\":5.0,\\\"centrality\\\":0,\\\"blocking factor\\\":0,\\\"delay factor\\\":5.0},\\\"nameSub\\\":\\\"Analysis of Discrete Structures\\\",\\\"id\\\":20,\\\"credits\\\":3,\\\"nameCanonical\\\":\\\"\\\"},{\\\"curriculum_requisites\\\":[{\\\"source_id\\\":9,\\\"target_id\\\":15,\\\"type\\\":\\\"CurriculumPrerequisite\\\"}],\\\"name\\\":\\\"CSC 352\\\",\\\"metrics\\\":{\\\"complexity\\\":5.0,\\\"centrality\\\":0,\\\"blocking factor\\\":0,\\\"delay factor\\\":5.0},\\\"nameSub\\\":\\\"Systems Programming & Unix\\\",\\\"id\\\":15,\\\"credits\\\":3,\\\"nameCanonical\\\":\\\"\\\"}],\\\"id\\\":8}],\\\"institution\\\":\\\"University of Arizona\\\"}},\\\"*\\\"); window.removeEventListener(\\\"message\\\",window.messageReceived); window.messageReceived=(function (event){return (event.data.curriculum!==undefined) ? (WebIO.setval({\\\"name\\\":\\\"curriculum-data\\\",\\\"scope\\\":\\\"10891737906893759272\\\",\\\"id\\\":\\\"ob_12\\\",\\\"type\\\":\\\"observable\\\"},event.data.curriculum)) : undefined}); return window.addEventListener(\\\"message\\\",window.messageReceived)})\"},\"style\":{\"padding\":\"0\",\"height\":\"100vh\",\"margin\":\"0\",\"border\":\"none\",\"width\":\"100%\"}},\"nodeType\":\"DOM\",\"type\":\"node\",\"instanceArgs\":{\"namespace\":\"html\",\"tag\":\"iframe\"},\"children\":[\"\"]}]},\n",
       "            window,\n",
       "        );\n",
       "    } else {\n",
       "        document\n",
       "            .querySelector('[data-webio-mountpoint=\"4949915258771922674\"]')\n",
       "            .innerHTML = (\n",
       "                '<div style=\"padding: 1em; background-color: #f8d6da; border: 1px solid #f5c6cb\">' +\n",
       "                '<p><strong>WebIO not detected.</strong></p>' +\n",
       "                '<p>Please read ' +\n",
       "                '<a href=\"https://juliagizmos.github.io/WebIO.jl/latest/troubleshooting/not-detected/\" target=\"_blank\">the troubleshooting guide</a> ' +\n",
       "                'for more information on how to resolve this issue.</p>' +\n",
       "                '<p><a href=\"https://juliagizmos.github.io/WebIO.jl/latest/troubleshooting/not-detected/\" target=\"_blank\">https://juliagizmos.github.io/WebIO.jl/latest/troubleshooting/not-detected/</a></p>' +\n",
       "                '</div>'\n",
       "            );\n",
       "    }\n",
       "    </script>\n",
       "</div>\n"
      ],
      "text/plain": [
       "WebIO.Scope(WebIO.Node{WebIO.DOM}(WebIO.DOM(:html, :iframe), Any[\"\"], Dict{Symbol,Any}(:src => \"http://localhost:8156\",:id => \"curriculum\",:events => Dict(:load => WebIO.JSString(\"(function (){this.contentWindow.postMessage({\\\"options\\\":{\\\"hideTerms\\\":false,\\\"edit\\\":false},\\\"curriculum\\\":{\\\"name\\\":\\\"Computer Science\\\",\\\"dp_name\\\":\\\"\\\",\\\"curriculum_terms\\\":[{\\\"name\\\":\\\"Term 1\\\",\\\"curriculum_items\\\":[{\\\"curriculum_requisites\\\":[],\\\"name\\\":\\\"CSC \\\",\\\"metrics\\\":{\\\"complexity\\\":1.0,\\\"centrality\\\":0,\\\"blocking factor\\\":0,\\\"delay factor\\\":1.0},\\\"nameSub\\\":\\\"CSC 400-Level Elective 2\\\",\\\"id\\\":30,\\\"credits\\\":3,\\\"nameCanonical\\\":\\\"\\\"},{\\\"curriculum_requisites\\\":[],\\\"name\\\":\\\"MATH 120R\\\",\\\"metrics\\\":{\\\"complexity\\\":15.0,\\\"centrality\\\":0,\\\"blocking factor\\\":10,\\\"delay factor\\\":5.0},\\\"nameSub\\\":\\\"Pre-Calculus\\\",\\\"id\\\":2,\\\"credits\\\":4,\\\"nameCanonical\\\":\\\"\\\"},{\\\"curriculum_requisites\\\":[],\\\"name\\\":\\\" \\\",\\\"metrics\\\":{\\\"complexity\\\":3.0,\\\"centrality\\\":0,\\\"blocking factor\\\":1,\\\"delay factor\\\":2.0},\\\"nameSub\\\":\\\"1st Semester Second Language\\\",\\\"id\\\":4,\\\"credits\\\":4,\\\"nameCanonical\\\":\\\"\\\"},{\\\"curriculum_requisites\\\":[{\\\"source_id\\\":2,\\\"target_id\\\":1,\\\"type\\\":\\\"CurriculumCorequisite\\\"}],\\\"name\\\":\\\"CSC 110\\\",\\\"metrics\\\":{\\\"complexity\\\":12.0,\\\"centrality\\\":25,\\\"blocking factor\\\":7,\\\"delay factor\\\":5.0},\\\"nameSub\\\":\\\"Intro to Computer Programming I\\\",\\\"id\\\":1,\\\"credits\\\":4,\\\"nameCanonical\\\":\\\"\\\"}],\\\"id\\\":1},{\\\"name\\\":\\\"Term 2\\\",\\\"curriculum_items\\\":[{\\\"curriculum_requisites\\\":[],\\\"name\\\":\\\"CSC \\\",\\\"metrics\\\":{\\\"complexity\\\":1.0,\\\"centrality\\\":0,\\\"blocking factor\\\":0,\\\"delay factor\\\":1.0},\\\"nameSub\\\":\\\"CSC Theory & Writing Elective\\\",\\\"id\\\":29,\\\"credits\\\":3,\\\"nameCanonical\\\":\\\"\\\"},{\\\"curriculum_requisites\\\":[{\\\"source_id\\\":2,\\\"target_id\\\":6,\\\"type\\\":\\\"CurriculumPrerequisite\\\"}],\\\"name\\\":\\\"MATH 122A/B\\\",\\\"metrics\\\":{\\\"complexity\\\":4.0,\\\"centrality\\\":3,\\\"blocking factor\\\":1,\\\"delay factor\\\":3.0},\\\"nameSub\\\":\\\"Calculus I\\\",\\\"id\\\":6,\\\"credits\\\":5,\\\"nameCanonical\\\":\\\"\\\"},{\\\"curriculum_requisites\\\":[],\\\"name\\\":\\\"CSC \\\",\\\"metrics\\\":{\\\"complexity\\\":1.0,\\\"centrality\\\":0,\\\"blocking factor\\\":0,\\\"delay factor\\\":1.0},\\\"nameSub\\\":\\\"CSC Paradigms Elective\\\",\\\"id\\\":24,\\\"credits\\\":3,\\\"nameCanonical\\\":\\\"\\\"},{\\\"curriculum_requisites\\\":[{\\\"source_id\\\":1,\\\"target_id\\\":5,\\\"type\\\":\\\"CurriculumPrerequisite\\\"}],\\\"name\\\":\\\"CSC 120\\\",\\\"metrics\\\":{\\\"complexity\\\":11.0,\\\"centrality\\\":25,\\\"blocking factor\\\":6,\\\"delay factor\\\":5.0},\\\"nameSub\\\":\\\"Intro to Computer Programming II\\\",\\\"id\\\":5,\\\"credits\\\":4,\\\"nameCanonical\\\":\\\"\\\"}],\\\"id\\\":2},{\\\"name\\\":\\\"Term 3\\\",\\\"curriculum_items\\\":[{\\\"curriculum_requisites\\\":[],\\\"name\\\":\\\" \\\",\\\"metrics\\\":{\\\"complexity\\\":1.0,\\\"centrality\\\":0,\\\"blocking factor\\\":0,\\\"delay factor\\\":1.0},\\\"nameSub\\\":\\\"Elective 4\\\",\\\"id\\\":33,\\\"credits\\\":3,\\\"nameCanonical\\\":\\\"\\\"},{\\\"curriculum_requisites\\\":[],\\\"name\\\":\\\" \\\",\\\"metrics\\\":{\\\"complexity\\\":1.0,\\\"centrality\\\":0,\\\"blocking factor\\\":0,\\\"delay factor\\\":1.0},\\\"nameSub\\\":\\\"Upper-Division Elective 2\\\",\\\"id\\\":37,\\\"credits\\\":3,\\\"nameCanonical\\\":\\\"\\\"},{\\\"curriculum_requisites\\\":[],\\\"name\\\":\\\"ENGL 101\\\",\\\"metrics\\\":{\\\"complexity\\\":3.0,\\\"centrality\\\":0,\\\"blocking factor\\\":1,\\\"delay factor\\\":2.0},\\\"nameSub\\\":\\\"English Composition I\\\",\\\"id\\\":3,\\\"credits\\\":3,\\\"nameCanonical\\\":\\\"\\\"},{\\\"curriculum_requisites\\\":[],\\\"name\\\":\\\" \\\",\\\"metrics\\\":{\\\"complexity\\\":1.0,\\\"centrality\\\":0,\\\"blocking factor\\\":0,\\\"delay factor\\\":1.0},\\\"nameSub\\\":\\\"Tier 1 General Education 2\\\",\\\"id\\\":13,\\\"credits\\\":3,\\\"nameCanonical\\\":\\\"\\\"},{\\\"curriculum_requisites\\\":[],\\\"name\\\":\\\" \\\",\\\"metrics\\\":{\\\"complexity\\\":1.0,\\\"centrality\\\":0,\\\"blocking factor\\\":0,\\\"delay factor\\\":1.0},\\\"nameSub\\\":\\\"Elective 2\\\",\\\"id\\\":31,\\\"credits\\\":3,\\\"nameCanonical\\\":\\\"\\\"}],\\\"id\\\":3},{\\\"name\\\":\\\"Term 4\\\",\\\"curriculum_items\\\":[{\\\"curriculum_requisites\\\":[],\\\"name\\\":\\\" \\\",\\\"metrics\\\":{\\\"complexity\\\":1.0,\\\"centrality\\\":0,\\\"blocking factor\\\":0,\\\"delay factor\\\":1.0},\\\"nameSub\\\":\\\"Tier 1 General Education 4\\\",\\\"id\\\":18,\\\"credits\\\":3,\\\"nameCanonical\\\":\\\"\\\"},{\\\"curriculum_requisites\\\":[],\\\"name\\\":\\\" \\\",\\\"metrics\\\":{\\\"complexity\\\":1.0,\\\"centrality\\\":0,\\\"blocking factor\\\":0,\\\"delay factor\\\":1.0},\\\"nameSub\\\":\\\"Elective 3\\\",\\\"id\\\":32,\\\"credits\\\":3,\\\"nameCanonical\\\":\\\"\\\"},{\\\"curriculum_requisites\\\":[],\\\"name\\\":\\\" \\\",\\\"metrics\\\":{\\\"complexity\\\":1.0,\\\"centrality\\\":0,\\\"blocking factor\\\":0,\\\"delay factor\\\":1.0},\\\"nameSub\\\":\\\"Tier 2 Gen Ed/Upper-Division 2\\\",\\\"id\\\":26,\\\"credits\\\":3,\\\"nameCanonical\\\":\\\"\\\"},{\\\"curriculum_requisites\\\":[],\\\"name\\\":\\\"CSC \\\",\\\"metrics\\\":{\\\"complexity\\\":1.0,\\\"centrality\\\":0,\\\"blocking factor\\\":0,\\\"delay factor\\\":1.0},\\\"nameSub\\\":\\\"CSC Systems Elective\\\",\\\"id\\\":34,\\\"credits\\\":3,\\\"nameCanonical\\\":\\\"\\\"},{\\\"curriculum_requisites\\\":[],\\\"name\\\":\\\"CSC \\\",\\\"metrics\\\":{\\\"complexity\\\":1.0,\\\"centrality\\\":0,\\\"blocking factor\\\":0,\\\"delay factor\\\":1.0},\\\"nameSub\\\":\\\"CSC 300/400-Level Elective\\\",\\\"id\\\":35,\\\"credits\\\":3,\\\"nameCanonical\\\":\\\"\\\"}],\\\"id\\\":4},{\\\"name\\\":\\\"Term 5\\\",\\\"curriculum_items\\\":[{\\\"curriculum_requisites\\\":[],\\\"name\\\":\\\" \\\",\\\"metrics\\\":{\\\"complexity\\\":1.0,\\\"centrality\\\":0,\\\"blocking factor\\\":0,\\\"delay factor\\\":1.0},\\\"nameSub\\\":\\\"Supporting Science #2\\\",\\\"id\\\":21,\\\"credits\\\":4,\\\"nameCanonical\\\":\\\"\\\"},{\\\"curriculum_requisites\\\":[{\\\"source_id\\\":5,\\\"target_id\\\":9,\\\"type\\\":\\\"CurriculumPrerequisite\\\"}],\\\"name\\\":\\\"CSC 210\\\",\\\"metrics\\\":{\\\"complexity\\\":9.0,\\\"centrality\\\":20,\\\"blocking factor\\\":4,\\\"delay factor\\\":5.0},\\\"nameSub\\\":\\\"Software Development\\\",\\\"id\\\":9,\\\"credits\\\":4,\\\"nameCanonical\\\":\\\"\\\"},{\\\"curriculum_requisites\\\":[{\\\"source_id\\\":4,\\\"target_id\\\":8,\\\"type\\\":\\\"CurriculumPrerequisite\\\"}],\\\"name\\\":\\\" \\\",\\\"metrics\\\":{\\\"complexity\\\":2.0,\\\"centrality\\\":0,\\\"blocking factor\\\":0,\\\"delay factor\\\":2.0},\\\"nameSub\\\":\\\"2nd Semester Second Language\\\",\\\"id\\\":8,\\\"credits\\\":4,\\\"nameCanonical\\\":\\\"\\\"},{\\\"curriculum_requisites\\\":[],\\\"name\\\":\\\" \\\",\\\"metrics\\\":{\\\"complexity\\\":1.0,\\\"centrality\\\":0,\\\"blocking factor\\\":0,\\\"delay factor\\\":1.0},\\\"nameSub\\\":\\\"Upper-Division Elective\\\",\\\"id\\\":23,\\\"credits\\\":3,\\\"nameCanonical\\\":\\\"\\\"}],\\\"id\\\":5},{\\\"name\\\":\\\"Term 6\\\",\\\"curriculum_items\\\":[{\\\"curriculum_requisites\\\":[{\\\"source_id\\\":6,\\\"target_id\\\":11,\\\"type\\\":\\\"CurriculumPrerequisite\\\"}],\\\"name\\\":\\\"MATH 129\\\",\\\"metrics\\\":{\\\"complexity\\\":3.0,\\\"centrality\\\":0,\\\"blocking factor\\\":0,\\\"delay factor\\\":3.0},\\\"nameSub\\\":\\\"Calculus II\\\",\\\"id\\\":11,\\\"credits\\\":3,\\\"nameCanonical\\\":\\\"\\\"},{\\\"curriculum_requisites\\\":[{\\\"source_id\\\":3,\\\"target_id\\\":7,\\\"type\\\":\\\"CurriculumPrerequisite\\\"}],\\\"name\\\":\\\"ENGL 102\\\",\\\"metrics\\\":{\\\"complexity\\\":2.0,\\\"centrality\\\":0,\\\"blocking factor\\\":0,\\\"delay factor\\\":2.0},\\\"nameSub\\\":\\\"English Composition II\\\",\\\"id\\\":7,\\\"credits\\\":4,\\\"nameCanonical\\\":\\\"\\\"},{\\\"curriculum_requisites\\\":[{\\\"source_id\\\":9,\\\"target_id\\\":19,\\\"type\\\":\\\"CurriculumPrerequisite\\\"}],\\\"name\\\":\\\"CSC 335\\\",\\\"metrics\\\":{\\\"complexity\\\":5.0,\\\"centrality\\\":0,\\\"blocking factor\\\":0,\\\"delay factor\\\":5.0},\\\"nameSub\\\":\\\"Object-Oriented Programming\\\",\\\"id\\\":19,\\\"credits\\\":3,\\\"nameCanonical\\\":\\\"\\\"},{\\\"curriculum_requisites\\\":[],\\\"name\\\":\\\" \\\",\\\"metrics\\\":{\\\"complexity\\\":1.0,\\\"centrality\\\":0,\\\"blocking factor\\\":0,\\\"delay factor\\\":1.0},\\\"nameSub\\\":\\\"Tier 2 Gen Ed/Upper-Division 3\\\",\\\"id\\\":27,\\\"credits\\\":3,\\\"nameCanonical\\\":\\\"\\\"},{\\\"curriculum_requisites\\\":[],\\\"name\\\":\\\" \\\",\\\"metrics\\\":{\\\"complexity\\\":1.0,\\\"centrality\\\":0,\\\"blocking factor\\\":0,\\\"delay factor\\\":1.0},\\\"nameSub\\\":\\\"Tier 1 General Education 1\\\",\\\"id\\\":12,\\\"credits\\\":3,\\\"nameCanonical\\\":\\\"\\\"}],\\\"id\\\":6},{\\\"name\\\":\\\"Term 7\\\",\\\"curriculum_items\\\":[{\\\"curriculum_requisites\\\":[],\\\"name\\\":\\\"CSC \\\",\\\"metrics\\\":{\\\"complexity\\\":1.0,\\\"centrality\\\":0,\\\"blocking factor\\\":0,\\\"delay factor\\\":1.0},\\\"nameSub\\\":\\\"CSC 400-Level Elective 1\\\",\\\"id\\\":25,\\\"credits\\\":3,\\\"nameCanonical\\\":\\\"\\\"},{\\\"curriculum_requisites\\\":[{\\\"source_id\\\":5,\\\"target_id\\\":10,\\\"type\\\":\\\"CurriculumPrerequisite\\\"}],\\\"name\\\":\\\"CSC 245\\\",\\\"metrics\\\":{\\\"complexity\\\":6.0,\\\"centrality\\\":5,\\\"blocking factor\\\":1,\\\"delay factor\\\":5.0},\\\"nameSub\\\":\\\"Intro to Discrete Structures\\\",\\\"id\\\":10,\\\"credits\\\":3,\\\"nameCanonical\\\":\\\"\\\"},{\\\"curriculum_requisites\\\":[],\\\"name\\\":\\\" \\\",\\\"metrics\\\":{\\\"complexity\\\":1.0,\\\"centrality\\\":0,\\\"blocking factor\\\":0,\\\"delay factor\\\":1.0},\\\"nameSub\\\":\\\"Tier 1 General Education 3\\\",\\\"id\\\":17,\\\"credits\\\":3,\\\"nameCanonical\\\":\\\"\\\"},{\\\"curriculum_requisites\\\":[{\\\"source_id\\\":9,\\\"target_id\\\":14,\\\"type\\\":\\\"CurriculumPrerequisite\\\"}],\\\"name\\\":\\\"CSC 252\\\",\\\"metrics\\\":{\\\"complexity\\\":5.0,\\\"centrality\\\":0,\\\"blocking factor\\\":0,\\\"delay factor\\\":5.0},\\\"nameSub\\\":\\\"Computer Organization\\\",\\\"id\\\":14,\\\"credits\\\":3,\\\"nameCanonical\\\":\\\"\\\"},{\\\"curriculum_requisites\\\":[],\\\"name\\\":\\\" \\\",\\\"metrics\\\":{\\\"complexity\\\":1.0,\\\"centrality\\\":0,\\\"blocking factor\\\":0,\\\"delay factor\\\":1.0},\\\"nameSub\\\":\\\"Upper-Division Elective 1\\\",\\\"id\\\":36,\\\"credits\\\":3,\\\"nameCanonical\\\":\\\"\\\"}],\\\"id\\\":7},{\\\"name\\\":\\\"Term 8\\\",\\\"curriculum_items\\\":[{\\\"curriculum_requisites\\\":[],\\\"name\\\":\\\" \\\",\\\"metrics\\\":{\\\"complexity\\\":1.0,\\\"centrality\\\":0,\\\"blocking factor\\\":0,\\\"delay factor\\\":1.0},\\\"nameSub\\\":\\\"Supporting Science #1\\\",\\\"id\\\":16,\\\"credits\\\":4,\\\"nameCanonical\\\":\\\"\\\"},{\\\"curriculum_requisites\\\":[],\\\"name\\\":\\\" \\\",\\\"metrics\\\":{\\\"complexity\\\":1.0,\\\"centrality\\\":0,\\\"blocking factor\\\":0,\\\"delay factor\\\":1.0},\\\"nameSub\\\":\\\"Tier 2 Gen Ed/Upper-Division 1\\\",\\\"id\\\":22,\\\"credits\\\":3,\\\"nameCanonical\\\":\\\"\\\"},{\\\"curriculum_requisites\\\":[],\\\"name\\\":\\\" \\\",\\\"metrics\\\":{\\\"complexity\\\":1.0,\\\"centrality\\\":0,\\\"blocking factor\\\":0,\\\"delay factor\\\":1.0},\\\"nameSub\\\":\\\"Elective 1\\\",\\\"id\\\":28,\\\"credits\\\":3,\\\"nameCanonical\\\":\\\"\\\"},{\\\"curriculum_requisites\\\":[{\\\"source_id\\\":9,\\\"target_id\\\":20,\\\"type\\\":\\\"CurriculumPrerequisite\\\"},{\\\"source_id\\\":10,\\\"target_id\\\":20,\\\"type\\\":\\\"CurriculumPrerequisite\\\"}],\\\"name\\\":\\\"CSC 345\\\",\\\"metrics\\\":{\\\"complexity\\\":5.0,\\\"centrality\\\":0,\\\"blocking factor\\\":0,\\\"delay factor\\\":5.0},\\\"nameSub\\\":\\\"Analysis of Discrete Structures\\\",\\\"id\\\":20,\\\"credits\\\":3,\\\"nameCanonical\\\":\\\"\\\"},{\\\"curriculum_requisites\\\":[{\\\"source_id\\\":9,\\\"target_id\\\":15,\\\"type\\\":\\\"CurriculumPrerequisite\\\"}],\\\"name\\\":\\\"CSC 352\\\",\\\"metrics\\\":{\\\"complexity\\\":5.0,\\\"centrality\\\":0,\\\"blocking factor\\\":0,\\\"delay factor\\\":5.0},\\\"nameSub\\\":\\\"Systems Programming & Unix\\\",\\\"id\\\":15,\\\"credits\\\":3,\\\"nameCanonical\\\":\\\"\\\"}],\\\"id\\\":8}],\\\"institution\\\":\\\"University of Arizona\\\"}},\\\"*\\\"); window.removeEventListener(\\\"message\\\",window.messageReceived); window.messageReceived=(function (event){return (event.data.curriculum!==undefined) ? (WebIO.setval({\\\"name\\\":\\\"curriculum-data\\\",\\\"scope\\\":\\\"10891737906893759272\\\",\\\"id\\\":\\\"ob_12\\\",\\\"type\\\":\\\"observable\\\"},event.data.curriculum)) : undefined}); return window.addEventListener(\\\"message\\\",window.messageReceived)})\")),:style => Dict(:padding => \"0\",:height => \"100vh\",:margin => \"0\",:border => \"none\",:width => \"100%\"))), Dict{String,Tuple{Observables.AbstractObservable,Union{Nothing, Bool}}}(\"curriculum-data\" => (Observable{Dict{String,Any}} with 1 listeners. Value:\n",
       "Dict{String,Any}(\"options\" => Dict{String,Any}(\"hideTerms\" => false,\"edit\" => false),\"curriculum\" => Dict{String,Any}(\"name\" => \"Computer Science\",\"dp_name\" => \"\",\"curriculum_terms\" => Dict{String,Any}[Dict(\"name\" => \"Term 1\",\"curriculum_items\" => Dict{String,Any}[Dict(\"curriculum_requisites\" => Dict{String,Any}[],\"name\" => \"CSC \",\"metrics\" => Dict{String,Any}(\"complexity\" => 1.0,\"centrality\" => 0,\"blocking factor\" => 0,\"delay factor\" => 1.0),\"nameSub\" => \"CSC 400-Level Elective 2\",\"id\" => 30,\"credits\" => 3,\"nameCanonical\" => \"\"), Dict(\"curriculum_requisites\" => Dict{String,Any}[],\"name\" => \"MATH 120R\",\"metrics\" => Dict{String,Any}(\"complexity\" => 15.0,\"centrality\" => 0,\"blocking factor\" => 10,\"delay factor\" => 5.0),\"nameSub\" => \"Pre-Calculus\",\"id\" => 2,\"credits\" => 4,\"nameCanonical\" => \"\"), Dict(\"curriculum_requisites\" => Dict{String,Any}[],\"name\" => \" \",\"metrics\" => Dict{String,Any}(\"complexity\" => 3.0,\"centrality\" => 0,\"blocking factor\" => 1,\"delay factor\" => 2.0),\"nameSub\" => \"1st Semester Second Language\",\"id\" => 4,\"credits\" => 4,\"nameCanonical\" => \"\"), Dict(\"curriculum_requisites\" => Dict{String,Any}[Dict(\"source_id\" => 2,\"target_id\" => 1,\"type\" => \"CurriculumCorequisite\")],\"name\" => \"CSC 110\",\"metrics\" => Dict{String,Any}(\"complexity\" => 12.0,\"centrality\" => 25,\"blocking factor\" => 7,\"delay factor\" => 5.0),\"nameSub\" => \"Intro to Computer Programming I\",\"id\" => 1,\"credits\" => 4,\"nameCanonical\" => \"\")],\"id\" => 1), Dict(\"name\" => \"Term 2\",\"curriculum_items\" => Dict{String,Any}[Dict(\"curriculum_requisites\" => Dict{String,Any}[],\"name\" => \"CSC \",\"metrics\" => Dict{String,Any}(\"complexity\" => 1.0,\"centrality\" => 0,\"blocking factor\" => 0,\"delay factor\" => 1.0),\"nameSub\" => \"CSC Theory & Writing Elective\",\"id\" => 29,\"credits\" => 3,\"nameCanonical\" => \"\"), Dict(\"curriculum_requisites\" => Dict{String,Any}[Dict(\"source_id\" => 2,\"target_id\" => 6,\"type\" => \"CurriculumPrerequisite\")],\"name\" => \"MATH 122A/B\",\"metrics\" => Dict{String,Any}(\"complexity\" => 4.0,\"centrality\" => 3,\"blocking factor\" => 1,\"delay factor\" => 3.0),\"nameSub\" => \"Calculus I\",\"id\" => 6,\"credits\" => 5,\"nameCanonical\" => \"\"), Dict(\"curriculum_requisites\" => Dict{String,Any}[],\"name\" => \"CSC \",\"metrics\" => Dict{String,Any}(\"complexity\" => 1.0,\"centrality\" => 0,\"blocking factor\" => 0,\"delay factor\" => 1.0),\"nameSub\" => \"CSC Paradigms Elective\",\"id\" => 24,\"credits\" => 3,\"nameCanonical\" => \"\"), Dict(\"curriculum_requisites\" => Dict{String,Any}[Dict(\"source_id\" => 1,\"target_id\" => 5,\"type\" => \"CurriculumPrerequisite\")],\"name\" => \"CSC 120\",\"metrics\" => Dict{String,Any}(\"complexity\" => 11.0,\"centrality\" => 25,\"blocking factor\" => 6,\"delay factor\" => 5.0),\"nameSub\" => \"Intro to Computer Programming II\",\"id\" => 5,\"credits\" => 4,\"nameCanonical\" => \"\")],\"id\" => 2), Dict(\"name\" => \"Term 3\",\"curriculum_items\" => Dict{String,Any}[Dict(\"curriculum_requisites\" => Dict{String,Any}[],\"name\" => \" \",\"metrics\" => Dict{String,Any}(\"complexity\" => 1.0,\"centrality\" => 0,\"blocking factor\" => 0,\"delay factor\" => 1.0),\"nameSub\" => \"Elective 4\",\"id\" => 33,\"credits\" => 3,\"nameCanonical\" => \"\"), Dict(\"curriculum_requisites\" => Dict{String,Any}[],\"name\" => \" \",\"metrics\" => Dict{String,Any}(\"complexity\" => 1.0,\"centrality\" => 0,\"blocking factor\" => 0,\"delay factor\" => 1.0),\"nameSub\" => \"Upper-Division Elective 2\",\"id\" => 37,\"credits\" => 3,\"nameCanonical\" => \"\"), Dict(\"curriculum_requisites\" => Dict{String,Any}[],\"name\" => \"ENGL 101\",\"metrics\" => Dict{String,Any}(\"complexity\" => 3.0,\"centrality\" => 0,\"blocking factor\" => 1,\"delay factor\" => 2.0),\"nameSub\" => \"English Composition I\",\"id\" => 3,\"credits\" => 3,\"nameCanonical\" => \"\"), Dict(\"curriculum_requisites\" => Dict{String,Any}[],\"name\" => \" \",\"metrics\" => Dict{String,Any}(\"complexity\" => 1.0,\"centrality\" => 0,\"blocking factor\" => 0,\"delay factor\" => 1.0),\"nameSub\" => \"Tier 1 General Education 2\",\"id\" => 13,\"credits\" => 3,\"nameCanonical\" => \"\"), Dict(\"curriculum_requisites\" => Dict{String,Any}[],\"name\" => \" \",\"metrics\" => Dict{String,Any}(\"complexity\" => 1.0,\"centrality\" => 0,\"blocking factor\" => 0,\"delay factor\" => 1.0),\"nameSub\" => \"Elective 2\",\"id\" => 31,\"credits\" => 3,\"nameCanonical\" => \"\")],\"id\" => 3), Dict(\"name\" => \"Term 4\",\"curriculum_items\" => Dict{String,Any}[Dict(\"curriculum_requisites\" => Dict{String,Any}[],\"name\" => \" \",\"metrics\" => Dict{String,Any}(\"complexity\" => 1.0,\"centrality\" => 0,\"blocking factor\" => 0,\"delay factor\" => 1.0),\"nameSub\" => \"Tier 1 General Education 4\",\"id\" => 18,\"credits\" => 3,\"nameCanonical\" => \"\"), Dict(\"curriculum_requisites\" => Dict{String,Any}[],\"name\" => \" \",\"metrics\" => Dict{String,Any}(\"complexity\" => 1.0,\"centrality\" => 0,\"blocking factor\" => 0,\"delay factor\" => 1.0),\"nameSub\" => \"Elective 3\",\"id\" => 32,\"credits\" => 3,\"nameCanonical\" => \"\"), Dict(\"curriculum_requisites\" => Dict{String,Any}[],\"name\" => \" \",\"metrics\" => Dict{String,Any}(\"complexity\" => 1.0,\"centrality\" => 0,\"blocking factor\" => 0,\"delay factor\" => 1.0),\"nameSub\" => \"Tier 2 Gen Ed/Upper-Division 2\",\"id\" => 26,\"credits\" => 3,\"nameCanonical\" => \"\"), Dict(\"curriculum_requisites\" => Dict{String,Any}[],\"name\" => \"CSC \",\"metrics\" => Dict{String,Any}(\"complexity\" => 1.0,\"centrality\" => 0,\"blocking factor\" => 0,\"delay factor\" => 1.0),\"nameSub\" => \"CSC Systems Elective\",\"id\" => 34,\"credits\" => 3,\"nameCanonical\" => \"\"), Dict(\"curriculum_requisites\" => Dict{String,Any}[],\"name\" => \"CSC \",\"metrics\" => Dict{String,Any}(\"complexity\" => 1.0,\"centrality\" => 0,\"blocking factor\" => 0,\"delay factor\" => 1.0),\"nameSub\" => \"CSC 300/400-Level Elective\",\"id\" => 35,\"credits\" => 3,\"nameCanonical\" => \"\")],\"id\" => 4), Dict(\"name\" => \"Term 5\",\"curriculum_items\" => Dict{String,Any}[Dict(\"curriculum_requisites\" => Dict{String,Any}[],\"name\" => \" \",\"metrics\" => Dict{String,Any}(\"complexity\" => 1.0,\"centrality\" => 0,\"blocking factor\" => 0,\"delay factor\" => 1.0),\"nameSub\" => \"Supporting Science #2\",\"id\" => 21,\"credits\" => 4,\"nameCanonical\" => \"\"), Dict(\"curriculum_requisites\" => Dict{String,Any}[Dict(\"source_id\" => 5,\"target_id\" => 9,\"type\" => \"CurriculumPrerequisite\")],\"name\" => \"CSC 210\",\"metrics\" => Dict{String,Any}(\"complexity\" => 9.0,\"centrality\" => 20,\"blocking factor\" => 4,\"delay factor\" => 5.0),\"nameSub\" => \"Software Development\",\"id\" => 9,\"credits\" => 4,\"nameCanonical\" => \"\"), Dict(\"curriculum_requisites\" => Dict{String,Any}[Dict(\"source_id\" => 4,\"target_id\" => 8,\"type\" => \"CurriculumPrerequisite\")],\"name\" => \" \",\"metrics\" => Dict{String,Any}(\"complexity\" => 2.0,\"centrality\" => 0,\"blocking factor\" => 0,\"delay factor\" => 2.0),\"nameSub\" => \"2nd Semester Second Language\",\"id\" => 8,\"credits\" => 4,\"nameCanonical\" => \"\"), Dict(\"curriculum_requisites\" => Dict{String,Any}[],\"name\" => \" \",\"metrics\" => Dict{String,Any}(\"complexity\" => 1.0,\"centrality\" => 0,\"blocking factor\" => 0,\"delay factor\" => 1.0),\"nameSub\" => \"Upper-Division Elective\",\"id\" => 23,\"credits\" => 3,\"nameCanonical\" => \"\")],\"id\" => 5), Dict(\"name\" => \"Term 6\",\"curriculum_items\" => Dict{String,Any}[Dict(\"curriculum_requisites\" => Dict{String,Any}[Dict(\"source_id\" => 6,\"target_id\" => 11,\"type\" => \"CurriculumPrerequisite\")],\"name\" => \"MATH 129\",\"metrics\" => Dict{String,Any}(\"complexity\" => 3.0,\"centrality\" => 0,\"blocking factor\" => 0,\"delay factor\" => 3.0),\"nameSub\" => \"Calculus II\",\"id\" => 11,\"credits\" => 3,\"nameCanonical\" => \"\"), Dict(\"curriculum_requisites\" => Dict{String,Any}[Dict(\"source_id\" => 3,\"target_id\" => 7,\"type\" => \"CurriculumPrerequisite\")],\"name\" => \"ENGL 102\",\"metrics\" => Dict{String,Any}(\"complexity\" => 2.0,\"centrality\" => 0,\"blocking factor\" => 0,\"delay factor\" => 2.0),\"nameSub\" => \"English Composition II\",\"id\" => 7,\"credits\" => 4,\"nameCanonical\" => \"\"), Dict(\"curriculum_requisites\" => Dict{String,Any}[Dict(\"source_id\" => 9,\"target_id\" => 19,\"type\" => \"CurriculumPrerequisite\")],\"name\" => \"CSC 335\",\"metrics\" => Dict{String,Any}(\"complexity\" => 5.0,\"centrality\" => 0,\"blocking factor\" => 0,\"delay factor\" => 5.0),\"nameSub\" => \"Object-Oriented Programming\",\"id\" => 19,\"credits\" => 3,\"nameCanonical\" => \"\"), Dict(\"curriculum_requisites\" => Dict{String,Any}[],\"name\" => \" \",\"metrics\" => Dict{String,Any}(\"complexity\" => 1.0,\"centrality\" => 0,\"blocking factor\" => 0,\"delay factor\" => 1.0),\"nameSub\" => \"Tier 2 Gen Ed/Upper-Division 3\",\"id\" => 27,\"credits\" => 3,\"nameCanonical\" => \"\"), Dict(\"curriculum_requisites\" => Dict{String,Any}[],\"name\" => \" \",\"metrics\" => Dict{String,Any}(\"complexity\" => 1.0,\"centrality\" => 0,\"blocking factor\" => 0,\"delay factor\" => 1.0),\"nameSub\" => \"Tier 1 General Education 1\",\"id\" => 12,\"credits\" => 3,\"nameCanonical\" => \"\")],\"id\" => 6), Dict(\"name\" => \"Term 7\",\"curriculum_items\" => Dict{String,Any}[Dict(\"curriculum_requisites\" => Dict{String,Any}[],\"name\" => \"CSC \",\"metrics\" => Dict{String,Any}(\"complexity\" => 1.0,\"centrality\" => 0,\"blocking factor\" => 0,\"delay factor\" => 1.0),\"nameSub\" => \"CSC 400-Level Elective 1\",\"id\" => 25,\"credits\" => 3,\"nameCanonical\" => \"\"), Dict(\"curriculum_requisites\" => Dict{String,Any}[Dict(\"source_id\" => 5,\"target_id\" => 10,\"type\" => \"CurriculumPrerequisite\")],\"name\" => \"CSC 245\",\"metrics\" => Dict{String,Any}(\"complexity\" => 6.0,\"centrality\" => 5,\"blocking factor\" => 1,\"delay factor\" => 5.0),\"nameSub\" => \"Intro to Discrete Structures\",\"id\" => 10,\"credits\" => 3,\"nameCanonical\" => \"\"), Dict(\"curriculum_requisites\" => Dict{String,Any}[],\"name\" => \" \",\"metrics\" => Dict{String,Any}(\"complexity\" => 1.0,\"centrality\" => 0,\"blocking factor\" => 0,\"delay factor\" => 1.0),\"nameSub\" => \"Tier 1 General Education 3\",\"id\" => 17,\"credits\" => 3,\"nameCanonical\" => \"\"), Dict(\"curriculum_requisites\" => Dict{String,Any}[Dict(\"source_id\" => 9,\"target_id\" => 14,\"type\" => \"CurriculumPrerequisite\")],\"name\" => \"CSC 252\",\"metrics\" => Dict{String,Any}(\"complexity\" => 5.0,\"centrality\" => 0,\"blocking factor\" => 0,\"delay factor\" => 5.0),\"nameSub\" => \"Computer Organization\",\"id\" => 14,\"credits\" => 3,\"nameCanonical\" => \"\"), Dict(\"curriculum_requisites\" => Dict{String,Any}[],\"name\" => \" \",\"metrics\" => Dict{String,Any}(\"complexity\" => 1.0,\"centrality\" => 0,\"blocking factor\" => 0,\"delay factor\" => 1.0),\"nameSub\" => \"Upper-Division Elective 1\",\"id\" => 36,\"credits\" => 3,\"nameCanonical\" => \"\")],\"id\" => 7), Dict(\"name\" => \"Term 8\",\"curriculum_items\" => Dict{String,Any}[Dict(\"curriculum_requisites\" => Dict{String,Any}[],\"name\" => \" \",\"metrics\" => Dict{String,Any}(\"complexity\" => 1.0,\"centrality\" => 0,\"blocking factor\" => 0,\"delay factor\" => 1.0),\"nameSub\" => \"Supporting Science #1\",\"id\" => 16,\"credits\" => 4,\"nameCanonical\" => \"\"), Dict(\"curriculum_requisites\" => Dict{String,Any}[],\"name\" => \" \",\"metrics\" => Dict{String,Any}(\"complexity\" => 1.0,\"centrality\" => 0,\"blocking factor\" => 0,\"delay factor\" => 1.0),\"nameSub\" => \"Tier 2 Gen Ed/Upper-Division 1\",\"id\" => 22,\"credits\" => 3,\"nameCanonical\" => \"\"), Dict(\"curriculum_requisites\" => Dict{String,Any}[],\"name\" => \" \",\"metrics\" => Dict{String,Any}(\"complexity\" => 1.0,\"centrality\" => 0,\"blocking factor\" => 0,\"delay factor\" => 1.0),\"nameSub\" => \"Elective 1\",\"id\" => 28,\"credits\" => 3,\"nameCanonical\" => \"\"), Dict(\"curriculum_requisites\" => Dict{String,Any}[Dict(\"source_id\" => 9,\"target_id\" => 20,\"type\" => \"CurriculumPrerequisite\"), Dict(\"source_id\" => 10,\"target_id\" => 20,\"type\" => \"CurriculumPrerequisite\")],\"name\" => \"CSC 345\",\"metrics\" => Dict{String,Any}(\"complexity\" => 5.0,\"centrality\" => 0,\"blocking factor\" => 0,\"delay factor\" => 5.0),\"nameSub\" => \"Analysis of Discrete Structures\",\"id\" => 20,\"credits\" => 3,\"nameCanonical\" => \"\"), Dict(\"curriculum_requisites\" => Dict{String,Any}[Dict(\"source_id\" => 9,\"target_id\" => 15,\"type\" => \"CurriculumPrerequisite\")],\"name\" => \"CSC 352\",\"metrics\" => Dict{String,Any}(\"complexity\" => 5.0,\"centrality\" => 0,\"blocking factor\" => 0,\"delay factor\" => 5.0),\"nameSub\" => \"Systems Programming & Unix\",\"id\" => 15,\"credits\" => 3,\"nameCanonical\" => \"\")],\"id\" => 8)],\"institution\" => \"University of Arizona\")), nothing)), Set(String[]), nothing, WebIO.Asset[], Dict{Any,Any}(), WebIO.ConnectionPool(Channel{Any}(sz_max:32,sz_curr:0), Set(WebIO.AbstractConnection[]), Base.GenericCondition{Base.AlwaysLockedST}(Base.InvasiveLinkedList{Task}(Task (runnable) @0x000000010dc40010, Task (runnable) @0x000000010dc40010), Base.AlwaysLockedST(1))), WebIO.JSString[])"
      ]
     },
     "execution_count": 65,
     "metadata": {
      "application/vnd.webio.node+json": {
       "kernelId": "6b63556e-00a2-4c4b-8383-e64aa21fcd8e"
      }
     },
     "output_type": "execute_result"
    }
   ],
   "source": [
    "plan_new = optimize_plan(CS_plan.curriculum, 8, 12, 18, balance_obj);\n",
    "visualize(plan_new, notebook=true)"
   ]
  },
  {
   "cell_type": "code",
   "execution_count": 66,
   "metadata": {},
   "outputs": [
    {
     "name": "stdout",
     "output_type": "stream",
     "text": [
      "\n",
      "Curriculum: Computer Science\n",
      "Degree Plan: \n",
      "  total credit hours = 122\n",
      "  number of terms = 8\n",
      "  max. credits in a term = 16, in term 6\n",
      "  min. credits in a term = 15, in term 1\n",
      "  avg. credits per term = 15.25, with std. dev. = 0.4330127018922193\n",
      "  total distance between all requisites = 31\n",
      "\n"
     ]
    }
   ],
   "source": [
    "metrics = basic_metrics(plan_new)\n",
    "println(String(take!(metrics)))"
   ]
  },
  {
   "cell_type": "markdown",
   "metadata": {},
   "source": [
    "This shows that it is possible to create a more balanced degree plan; however, the distance between prerequisites and the courses that require them is now worse.  To fix this, we can run a multi-objective optimization algorithm that inlcudes an objective aimed at minimizing the distance between prerequisites, as shown below."
   ]
  },
  {
   "cell_type": "code",
   "execution_count": 67,
   "metadata": {},
   "outputs": [
    {
     "name": "stdout",
     "output_type": "stream",
     "text": [
      "Academic license - for non-commercial use only\n",
      "An optimal solution was found with objective value = 24.0\n"
     ]
    },
    {
     "data": {
      "application/vnd.webio.node+json": {
       "children": [
        {
         "children": [
          ""
         ],
         "instanceArgs": {
          "namespace": "html",
          "tag": "iframe"
         },
         "nodeType": "DOM",
         "props": {
          "events": {
           "load": "(function (){this.contentWindow.postMessage({\"options\":{\"hideTerms\":false,\"edit\":false},\"curriculum\":{\"name\":\"Computer Science\",\"dp_name\":\"\",\"curriculum_terms\":[{\"name\":\"Term 1\",\"curriculum_items\":[{\"curriculum_requisites\":[],\"name\":\"CSC \",\"metrics\":{\"complexity\":1.0,\"centrality\":0,\"blocking factor\":0,\"delay factor\":1.0},\"nameSub\":\"CSC 400-Level Elective 2\",\"id\":30,\"credits\":3,\"nameCanonical\":\"\"},{\"curriculum_requisites\":[],\"name\":\"MATH 120R\",\"metrics\":{\"complexity\":15.0,\"centrality\":0,\"blocking factor\":10,\"delay factor\":5.0},\"nameSub\":\"Pre-Calculus\",\"id\":2,\"credits\":4,\"nameCanonical\":\"\"},{\"curriculum_requisites\":[],\"name\":\" \",\"metrics\":{\"complexity\":3.0,\"centrality\":0,\"blocking factor\":1,\"delay factor\":2.0},\"nameSub\":\"1st Semester Second Language\",\"id\":4,\"credits\":4,\"nameCanonical\":\"\"},{\"curriculum_requisites\":[{\"source_id\":2,\"target_id\":1,\"type\":\"CurriculumCorequisite\"}],\"name\":\"CSC 110\",\"metrics\":{\"complexity\":12.0,\"centrality\":25,\"blocking factor\":7,\"delay factor\":5.0},\"nameSub\":\"Intro to Computer Programming I\",\"id\":1,\"credits\":4,\"nameCanonical\":\"\"}],\"id\":1},{\"name\":\"Term 2\",\"curriculum_items\":[{\"curriculum_requisites\":[{\"source_id\":4,\"target_id\":8,\"type\":\"CurriculumPrerequisite\"}],\"name\":\" \",\"metrics\":{\"complexity\":2.0,\"centrality\":0,\"blocking factor\":0,\"delay factor\":2.0},\"nameSub\":\"2nd Semester Second Language\",\"id\":8,\"credits\":4,\"nameCanonical\":\"\"},{\"curriculum_requisites\":[{\"source_id\":2,\"target_id\":6,\"type\":\"CurriculumPrerequisite\"}],\"name\":\"MATH 122A/B\",\"metrics\":{\"complexity\":4.0,\"centrality\":3,\"blocking factor\":1,\"delay factor\":3.0},\"nameSub\":\"Calculus I\",\"id\":6,\"credits\":5,\"nameCanonical\":\"\"},{\"curriculum_requisites\":[{\"source_id\":1,\"target_id\":5,\"type\":\"CurriculumPrerequisite\"}],\"name\":\"CSC 120\",\"metrics\":{\"complexity\":11.0,\"centrality\":25,\"blocking factor\":6,\"delay factor\":5.0},\"nameSub\":\"Intro to Computer Programming II\",\"id\":5,\"credits\":4,\"nameCanonical\":\"\"},{\"curriculum_requisites\":[],\"name\":\" \",\"metrics\":{\"complexity\":1.0,\"centrality\":0,\"blocking factor\":0,\"delay factor\":1.0},\"nameSub\":\"Tier 1 General Education 2\",\"id\":13,\"credits\":3,\"nameCanonical\":\"\"}],\"id\":2},{\"name\":\"Term 3\",\"curriculum_items\":[{\"curriculum_requisites\":[{\"source_id\":6,\"target_id\":11,\"type\":\"CurriculumPrerequisite\"}],\"name\":\"MATH 129\",\"metrics\":{\"complexity\":3.0,\"centrality\":0,\"blocking factor\":0,\"delay factor\":3.0},\"nameSub\":\"Calculus II\",\"id\":11,\"credits\":3,\"nameCanonical\":\"\"},{\"curriculum_requisites\":[{\"source_id\":5,\"target_id\":9,\"type\":\"CurriculumPrerequisite\"}],\"name\":\"CSC 210\",\"metrics\":{\"complexity\":9.0,\"centrality\":20,\"blocking factor\":4,\"delay factor\":5.0},\"nameSub\":\"Software Development\",\"id\":9,\"credits\":4,\"nameCanonical\":\"\"},{\"curriculum_requisites\":[{\"source_id\":5,\"target_id\":10,\"type\":\"CurriculumPrerequisite\"}],\"name\":\"CSC 245\",\"metrics\":{\"complexity\":6.0,\"centrality\":5,\"blocking factor\":1,\"delay factor\":5.0},\"nameSub\":\"Intro to Discrete Structures\",\"id\":10,\"credits\":3,\"nameCanonical\":\"\"},{\"curriculum_requisites\":[],\"name\":\" \",\"metrics\":{\"complexity\":1.0,\"centrality\":0,\"blocking factor\":0,\"delay factor\":1.0},\"nameSub\":\"Upper-Division Elective 2\",\"id\":37,\"credits\":3,\"nameCanonical\":\"\"},{\"curriculum_requisites\":[],\"name\":\" \",\"metrics\":{\"complexity\":1.0,\"centrality\":0,\"blocking factor\":0,\"delay factor\":1.0},\"nameSub\":\"Upper-Division Elective\",\"id\":23,\"credits\":3,\"nameCanonical\":\"\"}],\"id\":3},{\"name\":\"Term 4\",\"curriculum_items\":[{\"curriculum_requisites\":[],\"name\":\"CSC \",\"metrics\":{\"complexity\":1.0,\"centrality\":0,\"blocking factor\":0,\"delay factor\":1.0},\"nameSub\":\"CSC 400-Level Elective 1\",\"id\":25,\"credits\":3,\"nameCanonical\":\"\"},{\"curriculum_requisites\":[{\"source_id\":9,\"target_id\":19,\"type\":\"CurriculumPrerequisite\"}],\"name\":\"CSC 335\",\"metrics\":{\"complexity\":5.0,\"centrality\":0,\"blocking factor\":0,\"delay factor\":5.0},\"nameSub\":\"Object-Oriented Programming\",\"id\":19,\"credits\":3,\"nameCanonical\":\"\"},{\"curriculum_requisites\":[{\"source_id\":9,\"target_id\":20,\"type\":\"CurriculumPrerequisite\"},{\"source_id\":10,\"target_id\":20,\"type\":\"CurriculumPrerequisite\"}],\"name\":\"CSC 345\",\"metrics\":{\"complexity\":5.0,\"centrality\":0,\"blocking factor\":0,\"delay factor\":5.0},\"nameSub\":\"Analysis of Discrete Structures\",\"id\":20,\"credits\":3,\"nameCanonical\":\"\"},{\"curriculum_requisites\":[{\"source_id\":9,\"target_id\":14,\"type\":\"CurriculumPrerequisite\"}],\"name\":\"CSC 252\",\"metrics\":{\"complexity\":5.0,\"centrality\":0,\"blocking factor\":0,\"delay factor\":5.0},\"nameSub\":\"Computer Organization\",\"id\":14,\"credits\":3,\"nameCanonical\":\"\"},{\"curriculum_requisites\":[{\"source_id\":9,\"target_id\":15,\"type\":\"CurriculumPrerequisite\"}],\"name\":\"CSC 352\",\"metrics\":{\"complexity\":5.0,\"centrality\":0,\"blocking factor\":0,\"delay factor\":5.0},\"nameSub\":\"Systems Programming & Unix\",\"id\":15,\"credits\":3,\"nameCanonical\":\"\"}],\"id\":4},{\"name\":\"Term 5\",\"curriculum_items\":[{\"curriculum_requisites\":[],\"name\":\" \",\"metrics\":{\"complexity\":1.0,\"centrality\":0,\"blocking factor\":0,\"delay factor\":1.0},\"nameSub\":\"Tier 2 Gen Ed/Upper-Division 2\",\"id\":26,\"credits\":3,\"nameCanonical\":\"\"},{\"curriculum_requisites\":[],\"name\":\" \",\"metrics\":{\"complexity\":1.0,\"centrality\":0,\"blocking factor\":0,\"delay factor\":1.0},\"nameSub\":\"Tier 1 General Education 3\",\"id\":17,\"credits\":3,\"nameCanonical\":\"\"},{\"curriculum_requisites\":[],\"name\":\" \",\"metrics\":{\"complexity\":1.0,\"centrality\":0,\"blocking factor\":0,\"delay factor\":1.0},\"nameSub\":\"Tier 2 Gen Ed/Upper-Division 1\",\"id\":22,\"credits\":3,\"nameCanonical\":\"\"},{\"curriculum_requisites\":[],\"name\":\"CSC \",\"metrics\":{\"complexity\":1.0,\"centrality\":0,\"blocking factor\":0,\"delay factor\":1.0},\"nameSub\":\"CSC Paradigms Elective\",\"id\":24,\"credits\":3,\"nameCanonical\":\"\"},{\"curriculum_requisites\":[],\"name\":\" \",\"metrics\":{\"complexity\":1.0,\"centrality\":0,\"blocking factor\":0,\"delay factor\":1.0},\"nameSub\":\"Elective 2\",\"id\":31,\"credits\":3,\"nameCanonical\":\"\"}],\"id\":5},{\"name\":\"Term 6\",\"curriculum_items\":[{\"curriculum_requisites\":[],\"name\":\" \",\"metrics\":{\"complexity\":1.0,\"centrality\":0,\"blocking factor\":0,\"delay factor\":1.0},\"nameSub\":\"Tier 1 General Education 4\",\"id\":18,\"credits\":3,\"nameCanonical\":\"\"},{\"curriculum_requisites\":[],\"name\":\" \",\"metrics\":{\"complexity\":1.0,\"centrality\":0,\"blocking factor\":0,\"delay factor\":1.0},\"nameSub\":\"Elective 3\",\"id\":32,\"credits\":3,\"nameCanonical\":\"\"},{\"curriculum_requisites\":[],\"name\":\"CSC \",\"metrics\":{\"complexity\":1.0,\"centrality\":0,\"blocking factor\":0,\"delay factor\":1.0},\"nameSub\":\"CSC Systems Elective\",\"id\":34,\"credits\":3,\"nameCanonical\":\"\"},{\"curriculum_requisites\":[],\"name\":\"CSC \",\"metrics\":{\"complexity\":1.0,\"centrality\":0,\"blocking factor\":0,\"delay factor\":1.0},\"nameSub\":\"CSC 300/400-Level Elective\",\"id\":35,\"credits\":3,\"nameCanonical\":\"\"},{\"curriculum_requisites\":[],\"name\":\" \",\"metrics\":{\"complexity\":1.0,\"centrality\":0,\"blocking factor\":0,\"delay factor\":1.0},\"nameSub\":\"Tier 1 General Education 1\",\"id\":12,\"credits\":3,\"nameCanonical\":\"\"}],\"id\":6},{\"name\":\"Term 7\",\"curriculum_items\":[{\"curriculum_requisites\":[],\"name\":\" \",\"metrics\":{\"complexity\":1.0,\"centrality\":0,\"blocking factor\":0,\"delay factor\":1.0},\"nameSub\":\"Elective 4\",\"id\":33,\"credits\":3,\"nameCanonical\":\"\"},{\"curriculum_requisites\":[],\"name\":\"CSC \",\"metrics\":{\"complexity\":1.0,\"centrality\":0,\"blocking factor\":0,\"delay factor\":1.0},\"nameSub\":\"CSC Theory & Writing Elective\",\"id\":29,\"credits\":3,\"nameCanonical\":\"\"},{\"curriculum_requisites\":[],\"name\":\"ENGL 101\",\"metrics\":{\"complexity\":3.0,\"centrality\":0,\"blocking factor\":1,\"delay factor\":2.0},\"nameSub\":\"English Composition I\",\"id\":3,\"credits\":3,\"nameCanonical\":\"\"},{\"curriculum_requisites\":[],\"name\":\" \",\"metrics\":{\"complexity\":1.0,\"centrality\":0,\"blocking factor\":0,\"delay factor\":1.0},\"nameSub\":\"Elective 1\",\"id\":28,\"credits\":3,\"nameCanonical\":\"\"},{\"curriculum_requisites\":[],\"name\":\" \",\"metrics\":{\"complexity\":1.0,\"centrality\":0,\"blocking factor\":0,\"delay factor\":1.0},\"nameSub\":\"Tier 2 Gen Ed/Upper-Division 3\",\"id\":27,\"credits\":3,\"nameCanonical\":\"\"}],\"id\":7},{\"name\":\"Term 8\",\"curriculum_items\":[{\"curriculum_requisites\":[],\"name\":\" \",\"metrics\":{\"complexity\":1.0,\"centrality\":0,\"blocking factor\":0,\"delay factor\":1.0},\"nameSub\":\"Supporting Science #1\",\"id\":16,\"credits\":4,\"nameCanonical\":\"\"},{\"curriculum_requisites\":[],\"name\":\" \",\"metrics\":{\"complexity\":1.0,\"centrality\":0,\"blocking factor\":0,\"delay factor\":1.0},\"nameSub\":\"Supporting Science #2\",\"id\":21,\"credits\":4,\"nameCanonical\":\"\"},{\"curriculum_requisites\":[{\"source_id\":3,\"target_id\":7,\"type\":\"CurriculumPrerequisite\"}],\"name\":\"ENGL 102\",\"metrics\":{\"complexity\":2.0,\"centrality\":0,\"blocking factor\":0,\"delay factor\":2.0},\"nameSub\":\"English Composition II\",\"id\":7,\"credits\":4,\"nameCanonical\":\"\"},{\"curriculum_requisites\":[],\"name\":\" \",\"metrics\":{\"complexity\":1.0,\"centrality\":0,\"blocking factor\":0,\"delay factor\":1.0},\"nameSub\":\"Upper-Division Elective 1\",\"id\":36,\"credits\":3,\"nameCanonical\":\"\"}],\"id\":8}],\"institution\":\"University of Arizona\"}},\"*\"); window.removeEventListener(\"message\",window.messageReceived); window.messageReceived=(function (event){return (event.data.curriculum!==undefined) ? (WebIO.setval({\"name\":\"curriculum-data\",\"scope\":\"11811825861632195458\",\"id\":\"ob_13\",\"type\":\"observable\"},event.data.curriculum)) : undefined}); return window.addEventListener(\"message\",window.messageReceived)})"
          },
          "id": "curriculum",
          "src": "http://localhost:8156",
          "style": {
           "border": "none",
           "height": "100vh",
           "margin": "0",
           "padding": "0",
           "width": "100%"
          }
         },
         "type": "node"
        }
       ],
       "instanceArgs": {
        "handlers": {},
        "id": "11811825861632195458",
        "imports": {
         "data": [],
         "type": "async_block"
        },
        "mount_callbacks": [],
        "observables": {
         "curriculum-data": {
          "id": "ob_13",
          "sync": true,
          "value": {
           "curriculum": {
            "curriculum_terms": [
             {
              "curriculum_items": [
               {
                "credits": 3,
                "curriculum_requisites": [],
                "id": 30,
                "metrics": {
                 "blocking factor": 0,
                 "centrality": 0,
                 "complexity": 1,
                 "delay factor": 1
                },
                "name": "CSC ",
                "nameCanonical": "",
                "nameSub": "CSC 400-Level Elective 2"
               },
               {
                "credits": 4,
                "curriculum_requisites": [],
                "id": 2,
                "metrics": {
                 "blocking factor": 10,
                 "centrality": 0,
                 "complexity": 15,
                 "delay factor": 5
                },
                "name": "MATH 120R",
                "nameCanonical": "",
                "nameSub": "Pre-Calculus"
               },
               {
                "credits": 4,
                "curriculum_requisites": [],
                "id": 4,
                "metrics": {
                 "blocking factor": 1,
                 "centrality": 0,
                 "complexity": 3,
                 "delay factor": 2
                },
                "name": " ",
                "nameCanonical": "",
                "nameSub": "1st Semester Second Language"
               },
               {
                "credits": 4,
                "curriculum_requisites": [
                 {
                  "source_id": 2,
                  "target_id": 1,
                  "type": "CurriculumCorequisite"
                 }
                ],
                "id": 1,
                "metrics": {
                 "blocking factor": 7,
                 "centrality": 25,
                 "complexity": 12,
                 "delay factor": 5
                },
                "name": "CSC 110",
                "nameCanonical": "",
                "nameSub": "Intro to Computer Programming I"
               }
              ],
              "id": 1,
              "name": "Term 1"
             },
             {
              "curriculum_items": [
               {
                "credits": 4,
                "curriculum_requisites": [
                 {
                  "source_id": 4,
                  "target_id": 8,
                  "type": "CurriculumPrerequisite"
                 }
                ],
                "id": 8,
                "metrics": {
                 "blocking factor": 0,
                 "centrality": 0,
                 "complexity": 2,
                 "delay factor": 2
                },
                "name": " ",
                "nameCanonical": "",
                "nameSub": "2nd Semester Second Language"
               },
               {
                "credits": 5,
                "curriculum_requisites": [
                 {
                  "source_id": 2,
                  "target_id": 6,
                  "type": "CurriculumPrerequisite"
                 }
                ],
                "id": 6,
                "metrics": {
                 "blocking factor": 1,
                 "centrality": 3,
                 "complexity": 4,
                 "delay factor": 3
                },
                "name": "MATH 122A/B",
                "nameCanonical": "",
                "nameSub": "Calculus I"
               },
               {
                "credits": 4,
                "curriculum_requisites": [
                 {
                  "source_id": 1,
                  "target_id": 5,
                  "type": "CurriculumPrerequisite"
                 }
                ],
                "id": 5,
                "metrics": {
                 "blocking factor": 6,
                 "centrality": 25,
                 "complexity": 11,
                 "delay factor": 5
                },
                "name": "CSC 120",
                "nameCanonical": "",
                "nameSub": "Intro to Computer Programming II"
               },
               {
                "credits": 3,
                "curriculum_requisites": [],
                "id": 13,
                "metrics": {
                 "blocking factor": 0,
                 "centrality": 0,
                 "complexity": 1,
                 "delay factor": 1
                },
                "name": " ",
                "nameCanonical": "",
                "nameSub": "Tier 1 General Education 2"
               }
              ],
              "id": 2,
              "name": "Term 2"
             },
             {
              "curriculum_items": [
               {
                "credits": 3,
                "curriculum_requisites": [
                 {
                  "source_id": 6,
                  "target_id": 11,
                  "type": "CurriculumPrerequisite"
                 }
                ],
                "id": 11,
                "metrics": {
                 "blocking factor": 0,
                 "centrality": 0,
                 "complexity": 3,
                 "delay factor": 3
                },
                "name": "MATH 129",
                "nameCanonical": "",
                "nameSub": "Calculus II"
               },
               {
                "credits": 4,
                "curriculum_requisites": [
                 {
                  "source_id": 5,
                  "target_id": 9,
                  "type": "CurriculumPrerequisite"
                 }
                ],
                "id": 9,
                "metrics": {
                 "blocking factor": 4,
                 "centrality": 20,
                 "complexity": 9,
                 "delay factor": 5
                },
                "name": "CSC 210",
                "nameCanonical": "",
                "nameSub": "Software Development"
               },
               {
                "credits": 3,
                "curriculum_requisites": [
                 {
                  "source_id": 5,
                  "target_id": 10,
                  "type": "CurriculumPrerequisite"
                 }
                ],
                "id": 10,
                "metrics": {
                 "blocking factor": 1,
                 "centrality": 5,
                 "complexity": 6,
                 "delay factor": 5
                },
                "name": "CSC 245",
                "nameCanonical": "",
                "nameSub": "Intro to Discrete Structures"
               },
               {
                "credits": 3,
                "curriculum_requisites": [],
                "id": 37,
                "metrics": {
                 "blocking factor": 0,
                 "centrality": 0,
                 "complexity": 1,
                 "delay factor": 1
                },
                "name": " ",
                "nameCanonical": "",
                "nameSub": "Upper-Division Elective 2"
               },
               {
                "credits": 3,
                "curriculum_requisites": [],
                "id": 23,
                "metrics": {
                 "blocking factor": 0,
                 "centrality": 0,
                 "complexity": 1,
                 "delay factor": 1
                },
                "name": " ",
                "nameCanonical": "",
                "nameSub": "Upper-Division Elective"
               }
              ],
              "id": 3,
              "name": "Term 3"
             },
             {
              "curriculum_items": [
               {
                "credits": 3,
                "curriculum_requisites": [],
                "id": 25,
                "metrics": {
                 "blocking factor": 0,
                 "centrality": 0,
                 "complexity": 1,
                 "delay factor": 1
                },
                "name": "CSC ",
                "nameCanonical": "",
                "nameSub": "CSC 400-Level Elective 1"
               },
               {
                "credits": 3,
                "curriculum_requisites": [
                 {
                  "source_id": 9,
                  "target_id": 19,
                  "type": "CurriculumPrerequisite"
                 }
                ],
                "id": 19,
                "metrics": {
                 "blocking factor": 0,
                 "centrality": 0,
                 "complexity": 5,
                 "delay factor": 5
                },
                "name": "CSC 335",
                "nameCanonical": "",
                "nameSub": "Object-Oriented Programming"
               },
               {
                "credits": 3,
                "curriculum_requisites": [
                 {
                  "source_id": 9,
                  "target_id": 20,
                  "type": "CurriculumPrerequisite"
                 },
                 {
                  "source_id": 10,
                  "target_id": 20,
                  "type": "CurriculumPrerequisite"
                 }
                ],
                "id": 20,
                "metrics": {
                 "blocking factor": 0,
                 "centrality": 0,
                 "complexity": 5,
                 "delay factor": 5
                },
                "name": "CSC 345",
                "nameCanonical": "",
                "nameSub": "Analysis of Discrete Structures"
               },
               {
                "credits": 3,
                "curriculum_requisites": [
                 {
                  "source_id": 9,
                  "target_id": 14,
                  "type": "CurriculumPrerequisite"
                 }
                ],
                "id": 14,
                "metrics": {
                 "blocking factor": 0,
                 "centrality": 0,
                 "complexity": 5,
                 "delay factor": 5
                },
                "name": "CSC 252",
                "nameCanonical": "",
                "nameSub": "Computer Organization"
               },
               {
                "credits": 3,
                "curriculum_requisites": [
                 {
                  "source_id": 9,
                  "target_id": 15,
                  "type": "CurriculumPrerequisite"
                 }
                ],
                "id": 15,
                "metrics": {
                 "blocking factor": 0,
                 "centrality": 0,
                 "complexity": 5,
                 "delay factor": 5
                },
                "name": "CSC 352",
                "nameCanonical": "",
                "nameSub": "Systems Programming & Unix"
               }
              ],
              "id": 4,
              "name": "Term 4"
             },
             {
              "curriculum_items": [
               {
                "credits": 3,
                "curriculum_requisites": [],
                "id": 26,
                "metrics": {
                 "blocking factor": 0,
                 "centrality": 0,
                 "complexity": 1,
                 "delay factor": 1
                },
                "name": " ",
                "nameCanonical": "",
                "nameSub": "Tier 2 Gen Ed/Upper-Division 2"
               },
               {
                "credits": 3,
                "curriculum_requisites": [],
                "id": 17,
                "metrics": {
                 "blocking factor": 0,
                 "centrality": 0,
                 "complexity": 1,
                 "delay factor": 1
                },
                "name": " ",
                "nameCanonical": "",
                "nameSub": "Tier 1 General Education 3"
               },
               {
                "credits": 3,
                "curriculum_requisites": [],
                "id": 22,
                "metrics": {
                 "blocking factor": 0,
                 "centrality": 0,
                 "complexity": 1,
                 "delay factor": 1
                },
                "name": " ",
                "nameCanonical": "",
                "nameSub": "Tier 2 Gen Ed/Upper-Division 1"
               },
               {
                "credits": 3,
                "curriculum_requisites": [],
                "id": 24,
                "metrics": {
                 "blocking factor": 0,
                 "centrality": 0,
                 "complexity": 1,
                 "delay factor": 1
                },
                "name": "CSC ",
                "nameCanonical": "",
                "nameSub": "CSC Paradigms Elective"
               },
               {
                "credits": 3,
                "curriculum_requisites": [],
                "id": 31,
                "metrics": {
                 "blocking factor": 0,
                 "centrality": 0,
                 "complexity": 1,
                 "delay factor": 1
                },
                "name": " ",
                "nameCanonical": "",
                "nameSub": "Elective 2"
               }
              ],
              "id": 5,
              "name": "Term 5"
             },
             {
              "curriculum_items": [
               {
                "credits": 3,
                "curriculum_requisites": [],
                "id": 18,
                "metrics": {
                 "blocking factor": 0,
                 "centrality": 0,
                 "complexity": 1,
                 "delay factor": 1
                },
                "name": " ",
                "nameCanonical": "",
                "nameSub": "Tier 1 General Education 4"
               },
               {
                "credits": 3,
                "curriculum_requisites": [],
                "id": 32,
                "metrics": {
                 "blocking factor": 0,
                 "centrality": 0,
                 "complexity": 1,
                 "delay factor": 1
                },
                "name": " ",
                "nameCanonical": "",
                "nameSub": "Elective 3"
               },
               {
                "credits": 3,
                "curriculum_requisites": [],
                "id": 34,
                "metrics": {
                 "blocking factor": 0,
                 "centrality": 0,
                 "complexity": 1,
                 "delay factor": 1
                },
                "name": "CSC ",
                "nameCanonical": "",
                "nameSub": "CSC Systems Elective"
               },
               {
                "credits": 3,
                "curriculum_requisites": [],
                "id": 35,
                "metrics": {
                 "blocking factor": 0,
                 "centrality": 0,
                 "complexity": 1,
                 "delay factor": 1
                },
                "name": "CSC ",
                "nameCanonical": "",
                "nameSub": "CSC 300/400-Level Elective"
               },
               {
                "credits": 3,
                "curriculum_requisites": [],
                "id": 12,
                "metrics": {
                 "blocking factor": 0,
                 "centrality": 0,
                 "complexity": 1,
                 "delay factor": 1
                },
                "name": " ",
                "nameCanonical": "",
                "nameSub": "Tier 1 General Education 1"
               }
              ],
              "id": 6,
              "name": "Term 6"
             },
             {
              "curriculum_items": [
               {
                "credits": 3,
                "curriculum_requisites": [],
                "id": 33,
                "metrics": {
                 "blocking factor": 0,
                 "centrality": 0,
                 "complexity": 1,
                 "delay factor": 1
                },
                "name": " ",
                "nameCanonical": "",
                "nameSub": "Elective 4"
               },
               {
                "credits": 3,
                "curriculum_requisites": [],
                "id": 29,
                "metrics": {
                 "blocking factor": 0,
                 "centrality": 0,
                 "complexity": 1,
                 "delay factor": 1
                },
                "name": "CSC ",
                "nameCanonical": "",
                "nameSub": "CSC Theory & Writing Elective"
               },
               {
                "credits": 3,
                "curriculum_requisites": [],
                "id": 3,
                "metrics": {
                 "blocking factor": 1,
                 "centrality": 0,
                 "complexity": 3,
                 "delay factor": 2
                },
                "name": "ENGL 101",
                "nameCanonical": "",
                "nameSub": "English Composition I"
               },
               {
                "credits": 3,
                "curriculum_requisites": [],
                "id": 28,
                "metrics": {
                 "blocking factor": 0,
                 "centrality": 0,
                 "complexity": 1,
                 "delay factor": 1
                },
                "name": " ",
                "nameCanonical": "",
                "nameSub": "Elective 1"
               },
               {
                "credits": 3,
                "curriculum_requisites": [],
                "id": 27,
                "metrics": {
                 "blocking factor": 0,
                 "centrality": 0,
                 "complexity": 1,
                 "delay factor": 1
                },
                "name": " ",
                "nameCanonical": "",
                "nameSub": "Tier 2 Gen Ed/Upper-Division 3"
               }
              ],
              "id": 7,
              "name": "Term 7"
             },
             {
              "curriculum_items": [
               {
                "credits": 4,
                "curriculum_requisites": [],
                "id": 16,
                "metrics": {
                 "blocking factor": 0,
                 "centrality": 0,
                 "complexity": 1,
                 "delay factor": 1
                },
                "name": " ",
                "nameCanonical": "",
                "nameSub": "Supporting Science #1"
               },
               {
                "credits": 4,
                "curriculum_requisites": [],
                "id": 21,
                "metrics": {
                 "blocking factor": 0,
                 "centrality": 0,
                 "complexity": 1,
                 "delay factor": 1
                },
                "name": " ",
                "nameCanonical": "",
                "nameSub": "Supporting Science #2"
               },
               {
                "credits": 4,
                "curriculum_requisites": [
                 {
                  "source_id": 3,
                  "target_id": 7,
                  "type": "CurriculumPrerequisite"
                 }
                ],
                "id": 7,
                "metrics": {
                 "blocking factor": 0,
                 "centrality": 0,
                 "complexity": 2,
                 "delay factor": 2
                },
                "name": "ENGL 102",
                "nameCanonical": "",
                "nameSub": "English Composition II"
               },
               {
                "credits": 3,
                "curriculum_requisites": [],
                "id": 36,
                "metrics": {
                 "blocking factor": 0,
                 "centrality": 0,
                 "complexity": 1,
                 "delay factor": 1
                },
                "name": " ",
                "nameCanonical": "",
                "nameSub": "Upper-Division Elective 1"
               }
              ],
              "id": 8,
              "name": "Term 8"
             }
            ],
            "dp_name": "",
            "institution": "University of Arizona",
            "name": "Computer Science"
           },
           "options": {
            "edit": false,
            "hideTerms": false
           }
          }
         }
        },
        "systemjs_options": null
       },
       "nodeType": "Scope",
       "props": {},
       "type": "node"
      },
      "text/html": [
       "<div\n",
       "    class=\"webio-mountpoint\"\n",
       "    data-webio-mountpoint=\"12154321329808218321\"\n",
       ">\n",
       "    <script>\n",
       "    if (window.require && require.defined && require.defined(\"nbextensions/webio-jupyter-notebook\")) {\n",
       "        console.log(\"Jupyter WebIO extension detected, not mounting.\");\n",
       "    } else if (window.WebIO) {\n",
       "        WebIO.mount(\n",
       "            document.querySelector('[data-webio-mountpoint=\"12154321329808218321\"]'),\n",
       "            {\"props\":{},\"nodeType\":\"Scope\",\"type\":\"node\",\"instanceArgs\":{\"imports\":{\"data\":[],\"type\":\"async_block\"},\"id\":\"11811825861632195458\",\"handlers\":{},\"systemjs_options\":null,\"mount_callbacks\":[],\"observables\":{\"curriculum-data\":{\"sync\":true,\"id\":\"ob_13\",\"value\":{\"options\":{\"hideTerms\":false,\"edit\":false},\"curriculum\":{\"name\":\"Computer Science\",\"dp_name\":\"\",\"curriculum_terms\":[{\"name\":\"Term 1\",\"curriculum_items\":[{\"curriculum_requisites\":[],\"name\":\"CSC \",\"metrics\":{\"complexity\":1.0,\"centrality\":0,\"blocking factor\":0,\"delay factor\":1.0},\"nameSub\":\"CSC 400-Level Elective 2\",\"id\":30,\"credits\":3,\"nameCanonical\":\"\"},{\"curriculum_requisites\":[],\"name\":\"MATH 120R\",\"metrics\":{\"complexity\":15.0,\"centrality\":0,\"blocking factor\":10,\"delay factor\":5.0},\"nameSub\":\"Pre-Calculus\",\"id\":2,\"credits\":4,\"nameCanonical\":\"\"},{\"curriculum_requisites\":[],\"name\":\" \",\"metrics\":{\"complexity\":3.0,\"centrality\":0,\"blocking factor\":1,\"delay factor\":2.0},\"nameSub\":\"1st Semester Second Language\",\"id\":4,\"credits\":4,\"nameCanonical\":\"\"},{\"curriculum_requisites\":[{\"source_id\":2,\"target_id\":1,\"type\":\"CurriculumCorequisite\"}],\"name\":\"CSC 110\",\"metrics\":{\"complexity\":12.0,\"centrality\":25,\"blocking factor\":7,\"delay factor\":5.0},\"nameSub\":\"Intro to Computer Programming I\",\"id\":1,\"credits\":4,\"nameCanonical\":\"\"}],\"id\":1},{\"name\":\"Term 2\",\"curriculum_items\":[{\"curriculum_requisites\":[{\"source_id\":4,\"target_id\":8,\"type\":\"CurriculumPrerequisite\"}],\"name\":\" \",\"metrics\":{\"complexity\":2.0,\"centrality\":0,\"blocking factor\":0,\"delay factor\":2.0},\"nameSub\":\"2nd Semester Second Language\",\"id\":8,\"credits\":4,\"nameCanonical\":\"\"},{\"curriculum_requisites\":[{\"source_id\":2,\"target_id\":6,\"type\":\"CurriculumPrerequisite\"}],\"name\":\"MATH 122A\\/B\",\"metrics\":{\"complexity\":4.0,\"centrality\":3,\"blocking factor\":1,\"delay factor\":3.0},\"nameSub\":\"Calculus I\",\"id\":6,\"credits\":5,\"nameCanonical\":\"\"},{\"curriculum_requisites\":[{\"source_id\":1,\"target_id\":5,\"type\":\"CurriculumPrerequisite\"}],\"name\":\"CSC 120\",\"metrics\":{\"complexity\":11.0,\"centrality\":25,\"blocking factor\":6,\"delay factor\":5.0},\"nameSub\":\"Intro to Computer Programming II\",\"id\":5,\"credits\":4,\"nameCanonical\":\"\"},{\"curriculum_requisites\":[],\"name\":\" \",\"metrics\":{\"complexity\":1.0,\"centrality\":0,\"blocking factor\":0,\"delay factor\":1.0},\"nameSub\":\"Tier 1 General Education 2\",\"id\":13,\"credits\":3,\"nameCanonical\":\"\"}],\"id\":2},{\"name\":\"Term 3\",\"curriculum_items\":[{\"curriculum_requisites\":[{\"source_id\":6,\"target_id\":11,\"type\":\"CurriculumPrerequisite\"}],\"name\":\"MATH 129\",\"metrics\":{\"complexity\":3.0,\"centrality\":0,\"blocking factor\":0,\"delay factor\":3.0},\"nameSub\":\"Calculus II\",\"id\":11,\"credits\":3,\"nameCanonical\":\"\"},{\"curriculum_requisites\":[{\"source_id\":5,\"target_id\":9,\"type\":\"CurriculumPrerequisite\"}],\"name\":\"CSC 210\",\"metrics\":{\"complexity\":9.0,\"centrality\":20,\"blocking factor\":4,\"delay factor\":5.0},\"nameSub\":\"Software Development\",\"id\":9,\"credits\":4,\"nameCanonical\":\"\"},{\"curriculum_requisites\":[{\"source_id\":5,\"target_id\":10,\"type\":\"CurriculumPrerequisite\"}],\"name\":\"CSC 245\",\"metrics\":{\"complexity\":6.0,\"centrality\":5,\"blocking factor\":1,\"delay factor\":5.0},\"nameSub\":\"Intro to Discrete Structures\",\"id\":10,\"credits\":3,\"nameCanonical\":\"\"},{\"curriculum_requisites\":[],\"name\":\" \",\"metrics\":{\"complexity\":1.0,\"centrality\":0,\"blocking factor\":0,\"delay factor\":1.0},\"nameSub\":\"Upper-Division Elective 2\",\"id\":37,\"credits\":3,\"nameCanonical\":\"\"},{\"curriculum_requisites\":[],\"name\":\" \",\"metrics\":{\"complexity\":1.0,\"centrality\":0,\"blocking factor\":0,\"delay factor\":1.0},\"nameSub\":\"Upper-Division Elective\",\"id\":23,\"credits\":3,\"nameCanonical\":\"\"}],\"id\":3},{\"name\":\"Term 4\",\"curriculum_items\":[{\"curriculum_requisites\":[],\"name\":\"CSC \",\"metrics\":{\"complexity\":1.0,\"centrality\":0,\"blocking factor\":0,\"delay factor\":1.0},\"nameSub\":\"CSC 400-Level Elective 1\",\"id\":25,\"credits\":3,\"nameCanonical\":\"\"},{\"curriculum_requisites\":[{\"source_id\":9,\"target_id\":19,\"type\":\"CurriculumPrerequisite\"}],\"name\":\"CSC 335\",\"metrics\":{\"complexity\":5.0,\"centrality\":0,\"blocking factor\":0,\"delay factor\":5.0},\"nameSub\":\"Object-Oriented Programming\",\"id\":19,\"credits\":3,\"nameCanonical\":\"\"},{\"curriculum_requisites\":[{\"source_id\":9,\"target_id\":20,\"type\":\"CurriculumPrerequisite\"},{\"source_id\":10,\"target_id\":20,\"type\":\"CurriculumPrerequisite\"}],\"name\":\"CSC 345\",\"metrics\":{\"complexity\":5.0,\"centrality\":0,\"blocking factor\":0,\"delay factor\":5.0},\"nameSub\":\"Analysis of Discrete Structures\",\"id\":20,\"credits\":3,\"nameCanonical\":\"\"},{\"curriculum_requisites\":[{\"source_id\":9,\"target_id\":14,\"type\":\"CurriculumPrerequisite\"}],\"name\":\"CSC 252\",\"metrics\":{\"complexity\":5.0,\"centrality\":0,\"blocking factor\":0,\"delay factor\":5.0},\"nameSub\":\"Computer Organization\",\"id\":14,\"credits\":3,\"nameCanonical\":\"\"},{\"curriculum_requisites\":[{\"source_id\":9,\"target_id\":15,\"type\":\"CurriculumPrerequisite\"}],\"name\":\"CSC 352\",\"metrics\":{\"complexity\":5.0,\"centrality\":0,\"blocking factor\":0,\"delay factor\":5.0},\"nameSub\":\"Systems Programming & Unix\",\"id\":15,\"credits\":3,\"nameCanonical\":\"\"}],\"id\":4},{\"name\":\"Term 5\",\"curriculum_items\":[{\"curriculum_requisites\":[],\"name\":\" \",\"metrics\":{\"complexity\":1.0,\"centrality\":0,\"blocking factor\":0,\"delay factor\":1.0},\"nameSub\":\"Tier 2 Gen Ed\\/Upper-Division 2\",\"id\":26,\"credits\":3,\"nameCanonical\":\"\"},{\"curriculum_requisites\":[],\"name\":\" \",\"metrics\":{\"complexity\":1.0,\"centrality\":0,\"blocking factor\":0,\"delay factor\":1.0},\"nameSub\":\"Tier 1 General Education 3\",\"id\":17,\"credits\":3,\"nameCanonical\":\"\"},{\"curriculum_requisites\":[],\"name\":\" \",\"metrics\":{\"complexity\":1.0,\"centrality\":0,\"blocking factor\":0,\"delay factor\":1.0},\"nameSub\":\"Tier 2 Gen Ed\\/Upper-Division 1\",\"id\":22,\"credits\":3,\"nameCanonical\":\"\"},{\"curriculum_requisites\":[],\"name\":\"CSC \",\"metrics\":{\"complexity\":1.0,\"centrality\":0,\"blocking factor\":0,\"delay factor\":1.0},\"nameSub\":\"CSC Paradigms Elective\",\"id\":24,\"credits\":3,\"nameCanonical\":\"\"},{\"curriculum_requisites\":[],\"name\":\" \",\"metrics\":{\"complexity\":1.0,\"centrality\":0,\"blocking factor\":0,\"delay factor\":1.0},\"nameSub\":\"Elective 2\",\"id\":31,\"credits\":3,\"nameCanonical\":\"\"}],\"id\":5},{\"name\":\"Term 6\",\"curriculum_items\":[{\"curriculum_requisites\":[],\"name\":\" \",\"metrics\":{\"complexity\":1.0,\"centrality\":0,\"blocking factor\":0,\"delay factor\":1.0},\"nameSub\":\"Tier 1 General Education 4\",\"id\":18,\"credits\":3,\"nameCanonical\":\"\"},{\"curriculum_requisites\":[],\"name\":\" \",\"metrics\":{\"complexity\":1.0,\"centrality\":0,\"blocking factor\":0,\"delay factor\":1.0},\"nameSub\":\"Elective 3\",\"id\":32,\"credits\":3,\"nameCanonical\":\"\"},{\"curriculum_requisites\":[],\"name\":\"CSC \",\"metrics\":{\"complexity\":1.0,\"centrality\":0,\"blocking factor\":0,\"delay factor\":1.0},\"nameSub\":\"CSC Systems Elective\",\"id\":34,\"credits\":3,\"nameCanonical\":\"\"},{\"curriculum_requisites\":[],\"name\":\"CSC \",\"metrics\":{\"complexity\":1.0,\"centrality\":0,\"blocking factor\":0,\"delay factor\":1.0},\"nameSub\":\"CSC 300\\/400-Level Elective\",\"id\":35,\"credits\":3,\"nameCanonical\":\"\"},{\"curriculum_requisites\":[],\"name\":\" \",\"metrics\":{\"complexity\":1.0,\"centrality\":0,\"blocking factor\":0,\"delay factor\":1.0},\"nameSub\":\"Tier 1 General Education 1\",\"id\":12,\"credits\":3,\"nameCanonical\":\"\"}],\"id\":6},{\"name\":\"Term 7\",\"curriculum_items\":[{\"curriculum_requisites\":[],\"name\":\" \",\"metrics\":{\"complexity\":1.0,\"centrality\":0,\"blocking factor\":0,\"delay factor\":1.0},\"nameSub\":\"Elective 4\",\"id\":33,\"credits\":3,\"nameCanonical\":\"\"},{\"curriculum_requisites\":[],\"name\":\"CSC \",\"metrics\":{\"complexity\":1.0,\"centrality\":0,\"blocking factor\":0,\"delay factor\":1.0},\"nameSub\":\"CSC Theory & Writing Elective\",\"id\":29,\"credits\":3,\"nameCanonical\":\"\"},{\"curriculum_requisites\":[],\"name\":\"ENGL 101\",\"metrics\":{\"complexity\":3.0,\"centrality\":0,\"blocking factor\":1,\"delay factor\":2.0},\"nameSub\":\"English Composition I\",\"id\":3,\"credits\":3,\"nameCanonical\":\"\"},{\"curriculum_requisites\":[],\"name\":\" \",\"metrics\":{\"complexity\":1.0,\"centrality\":0,\"blocking factor\":0,\"delay factor\":1.0},\"nameSub\":\"Elective 1\",\"id\":28,\"credits\":3,\"nameCanonical\":\"\"},{\"curriculum_requisites\":[],\"name\":\" \",\"metrics\":{\"complexity\":1.0,\"centrality\":0,\"blocking factor\":0,\"delay factor\":1.0},\"nameSub\":\"Tier 2 Gen Ed\\/Upper-Division 3\",\"id\":27,\"credits\":3,\"nameCanonical\":\"\"}],\"id\":7},{\"name\":\"Term 8\",\"curriculum_items\":[{\"curriculum_requisites\":[],\"name\":\" \",\"metrics\":{\"complexity\":1.0,\"centrality\":0,\"blocking factor\":0,\"delay factor\":1.0},\"nameSub\":\"Supporting Science #1\",\"id\":16,\"credits\":4,\"nameCanonical\":\"\"},{\"curriculum_requisites\":[],\"name\":\" \",\"metrics\":{\"complexity\":1.0,\"centrality\":0,\"blocking factor\":0,\"delay factor\":1.0},\"nameSub\":\"Supporting Science #2\",\"id\":21,\"credits\":4,\"nameCanonical\":\"\"},{\"curriculum_requisites\":[{\"source_id\":3,\"target_id\":7,\"type\":\"CurriculumPrerequisite\"}],\"name\":\"ENGL 102\",\"metrics\":{\"complexity\":2.0,\"centrality\":0,\"blocking factor\":0,\"delay factor\":2.0},\"nameSub\":\"English Composition II\",\"id\":7,\"credits\":4,\"nameCanonical\":\"\"},{\"curriculum_requisites\":[],\"name\":\" \",\"metrics\":{\"complexity\":1.0,\"centrality\":0,\"blocking factor\":0,\"delay factor\":1.0},\"nameSub\":\"Upper-Division Elective 1\",\"id\":36,\"credits\":3,\"nameCanonical\":\"\"}],\"id\":8}],\"institution\":\"University of Arizona\"}}}}},\"children\":[{\"props\":{\"src\":\"http:\\/\\/localhost:8156\",\"id\":\"curriculum\",\"events\":{\"load\":\"(function (){this.contentWindow.postMessage({\\\"options\\\":{\\\"hideTerms\\\":false,\\\"edit\\\":false},\\\"curriculum\\\":{\\\"name\\\":\\\"Computer Science\\\",\\\"dp_name\\\":\\\"\\\",\\\"curriculum_terms\\\":[{\\\"name\\\":\\\"Term 1\\\",\\\"curriculum_items\\\":[{\\\"curriculum_requisites\\\":[],\\\"name\\\":\\\"CSC \\\",\\\"metrics\\\":{\\\"complexity\\\":1.0,\\\"centrality\\\":0,\\\"blocking factor\\\":0,\\\"delay factor\\\":1.0},\\\"nameSub\\\":\\\"CSC 400-Level Elective 2\\\",\\\"id\\\":30,\\\"credits\\\":3,\\\"nameCanonical\\\":\\\"\\\"},{\\\"curriculum_requisites\\\":[],\\\"name\\\":\\\"MATH 120R\\\",\\\"metrics\\\":{\\\"complexity\\\":15.0,\\\"centrality\\\":0,\\\"blocking factor\\\":10,\\\"delay factor\\\":5.0},\\\"nameSub\\\":\\\"Pre-Calculus\\\",\\\"id\\\":2,\\\"credits\\\":4,\\\"nameCanonical\\\":\\\"\\\"},{\\\"curriculum_requisites\\\":[],\\\"name\\\":\\\" \\\",\\\"metrics\\\":{\\\"complexity\\\":3.0,\\\"centrality\\\":0,\\\"blocking factor\\\":1,\\\"delay factor\\\":2.0},\\\"nameSub\\\":\\\"1st Semester Second Language\\\",\\\"id\\\":4,\\\"credits\\\":4,\\\"nameCanonical\\\":\\\"\\\"},{\\\"curriculum_requisites\\\":[{\\\"source_id\\\":2,\\\"target_id\\\":1,\\\"type\\\":\\\"CurriculumCorequisite\\\"}],\\\"name\\\":\\\"CSC 110\\\",\\\"metrics\\\":{\\\"complexity\\\":12.0,\\\"centrality\\\":25,\\\"blocking factor\\\":7,\\\"delay factor\\\":5.0},\\\"nameSub\\\":\\\"Intro to Computer Programming I\\\",\\\"id\\\":1,\\\"credits\\\":4,\\\"nameCanonical\\\":\\\"\\\"}],\\\"id\\\":1},{\\\"name\\\":\\\"Term 2\\\",\\\"curriculum_items\\\":[{\\\"curriculum_requisites\\\":[{\\\"source_id\\\":4,\\\"target_id\\\":8,\\\"type\\\":\\\"CurriculumPrerequisite\\\"}],\\\"name\\\":\\\" \\\",\\\"metrics\\\":{\\\"complexity\\\":2.0,\\\"centrality\\\":0,\\\"blocking factor\\\":0,\\\"delay factor\\\":2.0},\\\"nameSub\\\":\\\"2nd Semester Second Language\\\",\\\"id\\\":8,\\\"credits\\\":4,\\\"nameCanonical\\\":\\\"\\\"},{\\\"curriculum_requisites\\\":[{\\\"source_id\\\":2,\\\"target_id\\\":6,\\\"type\\\":\\\"CurriculumPrerequisite\\\"}],\\\"name\\\":\\\"MATH 122A\\/B\\\",\\\"metrics\\\":{\\\"complexity\\\":4.0,\\\"centrality\\\":3,\\\"blocking factor\\\":1,\\\"delay factor\\\":3.0},\\\"nameSub\\\":\\\"Calculus I\\\",\\\"id\\\":6,\\\"credits\\\":5,\\\"nameCanonical\\\":\\\"\\\"},{\\\"curriculum_requisites\\\":[{\\\"source_id\\\":1,\\\"target_id\\\":5,\\\"type\\\":\\\"CurriculumPrerequisite\\\"}],\\\"name\\\":\\\"CSC 120\\\",\\\"metrics\\\":{\\\"complexity\\\":11.0,\\\"centrality\\\":25,\\\"blocking factor\\\":6,\\\"delay factor\\\":5.0},\\\"nameSub\\\":\\\"Intro to Computer Programming II\\\",\\\"id\\\":5,\\\"credits\\\":4,\\\"nameCanonical\\\":\\\"\\\"},{\\\"curriculum_requisites\\\":[],\\\"name\\\":\\\" \\\",\\\"metrics\\\":{\\\"complexity\\\":1.0,\\\"centrality\\\":0,\\\"blocking factor\\\":0,\\\"delay factor\\\":1.0},\\\"nameSub\\\":\\\"Tier 1 General Education 2\\\",\\\"id\\\":13,\\\"credits\\\":3,\\\"nameCanonical\\\":\\\"\\\"}],\\\"id\\\":2},{\\\"name\\\":\\\"Term 3\\\",\\\"curriculum_items\\\":[{\\\"curriculum_requisites\\\":[{\\\"source_id\\\":6,\\\"target_id\\\":11,\\\"type\\\":\\\"CurriculumPrerequisite\\\"}],\\\"name\\\":\\\"MATH 129\\\",\\\"metrics\\\":{\\\"complexity\\\":3.0,\\\"centrality\\\":0,\\\"blocking factor\\\":0,\\\"delay factor\\\":3.0},\\\"nameSub\\\":\\\"Calculus II\\\",\\\"id\\\":11,\\\"credits\\\":3,\\\"nameCanonical\\\":\\\"\\\"},{\\\"curriculum_requisites\\\":[{\\\"source_id\\\":5,\\\"target_id\\\":9,\\\"type\\\":\\\"CurriculumPrerequisite\\\"}],\\\"name\\\":\\\"CSC 210\\\",\\\"metrics\\\":{\\\"complexity\\\":9.0,\\\"centrality\\\":20,\\\"blocking factor\\\":4,\\\"delay factor\\\":5.0},\\\"nameSub\\\":\\\"Software Development\\\",\\\"id\\\":9,\\\"credits\\\":4,\\\"nameCanonical\\\":\\\"\\\"},{\\\"curriculum_requisites\\\":[{\\\"source_id\\\":5,\\\"target_id\\\":10,\\\"type\\\":\\\"CurriculumPrerequisite\\\"}],\\\"name\\\":\\\"CSC 245\\\",\\\"metrics\\\":{\\\"complexity\\\":6.0,\\\"centrality\\\":5,\\\"blocking factor\\\":1,\\\"delay factor\\\":5.0},\\\"nameSub\\\":\\\"Intro to Discrete Structures\\\",\\\"id\\\":10,\\\"credits\\\":3,\\\"nameCanonical\\\":\\\"\\\"},{\\\"curriculum_requisites\\\":[],\\\"name\\\":\\\" \\\",\\\"metrics\\\":{\\\"complexity\\\":1.0,\\\"centrality\\\":0,\\\"blocking factor\\\":0,\\\"delay factor\\\":1.0},\\\"nameSub\\\":\\\"Upper-Division Elective 2\\\",\\\"id\\\":37,\\\"credits\\\":3,\\\"nameCanonical\\\":\\\"\\\"},{\\\"curriculum_requisites\\\":[],\\\"name\\\":\\\" \\\",\\\"metrics\\\":{\\\"complexity\\\":1.0,\\\"centrality\\\":0,\\\"blocking factor\\\":0,\\\"delay factor\\\":1.0},\\\"nameSub\\\":\\\"Upper-Division Elective\\\",\\\"id\\\":23,\\\"credits\\\":3,\\\"nameCanonical\\\":\\\"\\\"}],\\\"id\\\":3},{\\\"name\\\":\\\"Term 4\\\",\\\"curriculum_items\\\":[{\\\"curriculum_requisites\\\":[],\\\"name\\\":\\\"CSC \\\",\\\"metrics\\\":{\\\"complexity\\\":1.0,\\\"centrality\\\":0,\\\"blocking factor\\\":0,\\\"delay factor\\\":1.0},\\\"nameSub\\\":\\\"CSC 400-Level Elective 1\\\",\\\"id\\\":25,\\\"credits\\\":3,\\\"nameCanonical\\\":\\\"\\\"},{\\\"curriculum_requisites\\\":[{\\\"source_id\\\":9,\\\"target_id\\\":19,\\\"type\\\":\\\"CurriculumPrerequisite\\\"}],\\\"name\\\":\\\"CSC 335\\\",\\\"metrics\\\":{\\\"complexity\\\":5.0,\\\"centrality\\\":0,\\\"blocking factor\\\":0,\\\"delay factor\\\":5.0},\\\"nameSub\\\":\\\"Object-Oriented Programming\\\",\\\"id\\\":19,\\\"credits\\\":3,\\\"nameCanonical\\\":\\\"\\\"},{\\\"curriculum_requisites\\\":[{\\\"source_id\\\":9,\\\"target_id\\\":20,\\\"type\\\":\\\"CurriculumPrerequisite\\\"},{\\\"source_id\\\":10,\\\"target_id\\\":20,\\\"type\\\":\\\"CurriculumPrerequisite\\\"}],\\\"name\\\":\\\"CSC 345\\\",\\\"metrics\\\":{\\\"complexity\\\":5.0,\\\"centrality\\\":0,\\\"blocking factor\\\":0,\\\"delay factor\\\":5.0},\\\"nameSub\\\":\\\"Analysis of Discrete Structures\\\",\\\"id\\\":20,\\\"credits\\\":3,\\\"nameCanonical\\\":\\\"\\\"},{\\\"curriculum_requisites\\\":[{\\\"source_id\\\":9,\\\"target_id\\\":14,\\\"type\\\":\\\"CurriculumPrerequisite\\\"}],\\\"name\\\":\\\"CSC 252\\\",\\\"metrics\\\":{\\\"complexity\\\":5.0,\\\"centrality\\\":0,\\\"blocking factor\\\":0,\\\"delay factor\\\":5.0},\\\"nameSub\\\":\\\"Computer Organization\\\",\\\"id\\\":14,\\\"credits\\\":3,\\\"nameCanonical\\\":\\\"\\\"},{\\\"curriculum_requisites\\\":[{\\\"source_id\\\":9,\\\"target_id\\\":15,\\\"type\\\":\\\"CurriculumPrerequisite\\\"}],\\\"name\\\":\\\"CSC 352\\\",\\\"metrics\\\":{\\\"complexity\\\":5.0,\\\"centrality\\\":0,\\\"blocking factor\\\":0,\\\"delay factor\\\":5.0},\\\"nameSub\\\":\\\"Systems Programming & Unix\\\",\\\"id\\\":15,\\\"credits\\\":3,\\\"nameCanonical\\\":\\\"\\\"}],\\\"id\\\":4},{\\\"name\\\":\\\"Term 5\\\",\\\"curriculum_items\\\":[{\\\"curriculum_requisites\\\":[],\\\"name\\\":\\\" \\\",\\\"metrics\\\":{\\\"complexity\\\":1.0,\\\"centrality\\\":0,\\\"blocking factor\\\":0,\\\"delay factor\\\":1.0},\\\"nameSub\\\":\\\"Tier 2 Gen Ed\\/Upper-Division 2\\\",\\\"id\\\":26,\\\"credits\\\":3,\\\"nameCanonical\\\":\\\"\\\"},{\\\"curriculum_requisites\\\":[],\\\"name\\\":\\\" \\\",\\\"metrics\\\":{\\\"complexity\\\":1.0,\\\"centrality\\\":0,\\\"blocking factor\\\":0,\\\"delay factor\\\":1.0},\\\"nameSub\\\":\\\"Tier 1 General Education 3\\\",\\\"id\\\":17,\\\"credits\\\":3,\\\"nameCanonical\\\":\\\"\\\"},{\\\"curriculum_requisites\\\":[],\\\"name\\\":\\\" \\\",\\\"metrics\\\":{\\\"complexity\\\":1.0,\\\"centrality\\\":0,\\\"blocking factor\\\":0,\\\"delay factor\\\":1.0},\\\"nameSub\\\":\\\"Tier 2 Gen Ed\\/Upper-Division 1\\\",\\\"id\\\":22,\\\"credits\\\":3,\\\"nameCanonical\\\":\\\"\\\"},{\\\"curriculum_requisites\\\":[],\\\"name\\\":\\\"CSC \\\",\\\"metrics\\\":{\\\"complexity\\\":1.0,\\\"centrality\\\":0,\\\"blocking factor\\\":0,\\\"delay factor\\\":1.0},\\\"nameSub\\\":\\\"CSC Paradigms Elective\\\",\\\"id\\\":24,\\\"credits\\\":3,\\\"nameCanonical\\\":\\\"\\\"},{\\\"curriculum_requisites\\\":[],\\\"name\\\":\\\" \\\",\\\"metrics\\\":{\\\"complexity\\\":1.0,\\\"centrality\\\":0,\\\"blocking factor\\\":0,\\\"delay factor\\\":1.0},\\\"nameSub\\\":\\\"Elective 2\\\",\\\"id\\\":31,\\\"credits\\\":3,\\\"nameCanonical\\\":\\\"\\\"}],\\\"id\\\":5},{\\\"name\\\":\\\"Term 6\\\",\\\"curriculum_items\\\":[{\\\"curriculum_requisites\\\":[],\\\"name\\\":\\\" \\\",\\\"metrics\\\":{\\\"complexity\\\":1.0,\\\"centrality\\\":0,\\\"blocking factor\\\":0,\\\"delay factor\\\":1.0},\\\"nameSub\\\":\\\"Tier 1 General Education 4\\\",\\\"id\\\":18,\\\"credits\\\":3,\\\"nameCanonical\\\":\\\"\\\"},{\\\"curriculum_requisites\\\":[],\\\"name\\\":\\\" \\\",\\\"metrics\\\":{\\\"complexity\\\":1.0,\\\"centrality\\\":0,\\\"blocking factor\\\":0,\\\"delay factor\\\":1.0},\\\"nameSub\\\":\\\"Elective 3\\\",\\\"id\\\":32,\\\"credits\\\":3,\\\"nameCanonical\\\":\\\"\\\"},{\\\"curriculum_requisites\\\":[],\\\"name\\\":\\\"CSC \\\",\\\"metrics\\\":{\\\"complexity\\\":1.0,\\\"centrality\\\":0,\\\"blocking factor\\\":0,\\\"delay factor\\\":1.0},\\\"nameSub\\\":\\\"CSC Systems Elective\\\",\\\"id\\\":34,\\\"credits\\\":3,\\\"nameCanonical\\\":\\\"\\\"},{\\\"curriculum_requisites\\\":[],\\\"name\\\":\\\"CSC \\\",\\\"metrics\\\":{\\\"complexity\\\":1.0,\\\"centrality\\\":0,\\\"blocking factor\\\":0,\\\"delay factor\\\":1.0},\\\"nameSub\\\":\\\"CSC 300\\/400-Level Elective\\\",\\\"id\\\":35,\\\"credits\\\":3,\\\"nameCanonical\\\":\\\"\\\"},{\\\"curriculum_requisites\\\":[],\\\"name\\\":\\\" \\\",\\\"metrics\\\":{\\\"complexity\\\":1.0,\\\"centrality\\\":0,\\\"blocking factor\\\":0,\\\"delay factor\\\":1.0},\\\"nameSub\\\":\\\"Tier 1 General Education 1\\\",\\\"id\\\":12,\\\"credits\\\":3,\\\"nameCanonical\\\":\\\"\\\"}],\\\"id\\\":6},{\\\"name\\\":\\\"Term 7\\\",\\\"curriculum_items\\\":[{\\\"curriculum_requisites\\\":[],\\\"name\\\":\\\" \\\",\\\"metrics\\\":{\\\"complexity\\\":1.0,\\\"centrality\\\":0,\\\"blocking factor\\\":0,\\\"delay factor\\\":1.0},\\\"nameSub\\\":\\\"Elective 4\\\",\\\"id\\\":33,\\\"credits\\\":3,\\\"nameCanonical\\\":\\\"\\\"},{\\\"curriculum_requisites\\\":[],\\\"name\\\":\\\"CSC \\\",\\\"metrics\\\":{\\\"complexity\\\":1.0,\\\"centrality\\\":0,\\\"blocking factor\\\":0,\\\"delay factor\\\":1.0},\\\"nameSub\\\":\\\"CSC Theory & Writing Elective\\\",\\\"id\\\":29,\\\"credits\\\":3,\\\"nameCanonical\\\":\\\"\\\"},{\\\"curriculum_requisites\\\":[],\\\"name\\\":\\\"ENGL 101\\\",\\\"metrics\\\":{\\\"complexity\\\":3.0,\\\"centrality\\\":0,\\\"blocking factor\\\":1,\\\"delay factor\\\":2.0},\\\"nameSub\\\":\\\"English Composition I\\\",\\\"id\\\":3,\\\"credits\\\":3,\\\"nameCanonical\\\":\\\"\\\"},{\\\"curriculum_requisites\\\":[],\\\"name\\\":\\\" \\\",\\\"metrics\\\":{\\\"complexity\\\":1.0,\\\"centrality\\\":0,\\\"blocking factor\\\":0,\\\"delay factor\\\":1.0},\\\"nameSub\\\":\\\"Elective 1\\\",\\\"id\\\":28,\\\"credits\\\":3,\\\"nameCanonical\\\":\\\"\\\"},{\\\"curriculum_requisites\\\":[],\\\"name\\\":\\\" \\\",\\\"metrics\\\":{\\\"complexity\\\":1.0,\\\"centrality\\\":0,\\\"blocking factor\\\":0,\\\"delay factor\\\":1.0},\\\"nameSub\\\":\\\"Tier 2 Gen Ed\\/Upper-Division 3\\\",\\\"id\\\":27,\\\"credits\\\":3,\\\"nameCanonical\\\":\\\"\\\"}],\\\"id\\\":7},{\\\"name\\\":\\\"Term 8\\\",\\\"curriculum_items\\\":[{\\\"curriculum_requisites\\\":[],\\\"name\\\":\\\" \\\",\\\"metrics\\\":{\\\"complexity\\\":1.0,\\\"centrality\\\":0,\\\"blocking factor\\\":0,\\\"delay factor\\\":1.0},\\\"nameSub\\\":\\\"Supporting Science #1\\\",\\\"id\\\":16,\\\"credits\\\":4,\\\"nameCanonical\\\":\\\"\\\"},{\\\"curriculum_requisites\\\":[],\\\"name\\\":\\\" \\\",\\\"metrics\\\":{\\\"complexity\\\":1.0,\\\"centrality\\\":0,\\\"blocking factor\\\":0,\\\"delay factor\\\":1.0},\\\"nameSub\\\":\\\"Supporting Science #2\\\",\\\"id\\\":21,\\\"credits\\\":4,\\\"nameCanonical\\\":\\\"\\\"},{\\\"curriculum_requisites\\\":[{\\\"source_id\\\":3,\\\"target_id\\\":7,\\\"type\\\":\\\"CurriculumPrerequisite\\\"}],\\\"name\\\":\\\"ENGL 102\\\",\\\"metrics\\\":{\\\"complexity\\\":2.0,\\\"centrality\\\":0,\\\"blocking factor\\\":0,\\\"delay factor\\\":2.0},\\\"nameSub\\\":\\\"English Composition II\\\",\\\"id\\\":7,\\\"credits\\\":4,\\\"nameCanonical\\\":\\\"\\\"},{\\\"curriculum_requisites\\\":[],\\\"name\\\":\\\" \\\",\\\"metrics\\\":{\\\"complexity\\\":1.0,\\\"centrality\\\":0,\\\"blocking factor\\\":0,\\\"delay factor\\\":1.0},\\\"nameSub\\\":\\\"Upper-Division Elective 1\\\",\\\"id\\\":36,\\\"credits\\\":3,\\\"nameCanonical\\\":\\\"\\\"}],\\\"id\\\":8}],\\\"institution\\\":\\\"University of Arizona\\\"}},\\\"*\\\"); window.removeEventListener(\\\"message\\\",window.messageReceived); window.messageReceived=(function (event){return (event.data.curriculum!==undefined) ? (WebIO.setval({\\\"name\\\":\\\"curriculum-data\\\",\\\"scope\\\":\\\"11811825861632195458\\\",\\\"id\\\":\\\"ob_13\\\",\\\"type\\\":\\\"observable\\\"},event.data.curriculum)) : undefined}); return window.addEventListener(\\\"message\\\",window.messageReceived)})\"},\"style\":{\"padding\":\"0\",\"height\":\"100vh\",\"margin\":\"0\",\"border\":\"none\",\"width\":\"100%\"}},\"nodeType\":\"DOM\",\"type\":\"node\",\"instanceArgs\":{\"namespace\":\"html\",\"tag\":\"iframe\"},\"children\":[\"\"]}]},\n",
       "            window,\n",
       "        );\n",
       "    } else {\n",
       "        document\n",
       "            .querySelector('[data-webio-mountpoint=\"12154321329808218321\"]')\n",
       "            .innerHTML = (\n",
       "                '<div style=\"padding: 1em; background-color: #f8d6da; border: 1px solid #f5c6cb\">' +\n",
       "                '<p><strong>WebIO not detected.</strong></p>' +\n",
       "                '<p>Please read ' +\n",
       "                '<a href=\"https://juliagizmos.github.io/WebIO.jl/latest/troubleshooting/not-detected/\" target=\"_blank\">the troubleshooting guide</a> ' +\n",
       "                'for more information on how to resolve this issue.</p>' +\n",
       "                '<p><a href=\"https://juliagizmos.github.io/WebIO.jl/latest/troubleshooting/not-detected/\" target=\"_blank\">https://juliagizmos.github.io/WebIO.jl/latest/troubleshooting/not-detected/</a></p>' +\n",
       "                '</div>'\n",
       "            );\n",
       "    }\n",
       "    </script>\n",
       "</div>\n"
      ],
      "text/plain": [
       "WebIO.Scope(WebIO.Node{WebIO.DOM}(WebIO.DOM(:html, :iframe), Any[\"\"], Dict{Symbol,Any}(:src => \"http://localhost:8156\",:id => \"curriculum\",:events => Dict(:load => WebIO.JSString(\"(function (){this.contentWindow.postMessage({\\\"options\\\":{\\\"hideTerms\\\":false,\\\"edit\\\":false},\\\"curriculum\\\":{\\\"name\\\":\\\"Computer Science\\\",\\\"dp_name\\\":\\\"\\\",\\\"curriculum_terms\\\":[{\\\"name\\\":\\\"Term 1\\\",\\\"curriculum_items\\\":[{\\\"curriculum_requisites\\\":[],\\\"name\\\":\\\"CSC \\\",\\\"metrics\\\":{\\\"complexity\\\":1.0,\\\"centrality\\\":0,\\\"blocking factor\\\":0,\\\"delay factor\\\":1.0},\\\"nameSub\\\":\\\"CSC 400-Level Elective 2\\\",\\\"id\\\":30,\\\"credits\\\":3,\\\"nameCanonical\\\":\\\"\\\"},{\\\"curriculum_requisites\\\":[],\\\"name\\\":\\\"MATH 120R\\\",\\\"metrics\\\":{\\\"complexity\\\":15.0,\\\"centrality\\\":0,\\\"blocking factor\\\":10,\\\"delay factor\\\":5.0},\\\"nameSub\\\":\\\"Pre-Calculus\\\",\\\"id\\\":2,\\\"credits\\\":4,\\\"nameCanonical\\\":\\\"\\\"},{\\\"curriculum_requisites\\\":[],\\\"name\\\":\\\" \\\",\\\"metrics\\\":{\\\"complexity\\\":3.0,\\\"centrality\\\":0,\\\"blocking factor\\\":1,\\\"delay factor\\\":2.0},\\\"nameSub\\\":\\\"1st Semester Second Language\\\",\\\"id\\\":4,\\\"credits\\\":4,\\\"nameCanonical\\\":\\\"\\\"},{\\\"curriculum_requisites\\\":[{\\\"source_id\\\":2,\\\"target_id\\\":1,\\\"type\\\":\\\"CurriculumCorequisite\\\"}],\\\"name\\\":\\\"CSC 110\\\",\\\"metrics\\\":{\\\"complexity\\\":12.0,\\\"centrality\\\":25,\\\"blocking factor\\\":7,\\\"delay factor\\\":5.0},\\\"nameSub\\\":\\\"Intro to Computer Programming I\\\",\\\"id\\\":1,\\\"credits\\\":4,\\\"nameCanonical\\\":\\\"\\\"}],\\\"id\\\":1},{\\\"name\\\":\\\"Term 2\\\",\\\"curriculum_items\\\":[{\\\"curriculum_requisites\\\":[{\\\"source_id\\\":4,\\\"target_id\\\":8,\\\"type\\\":\\\"CurriculumPrerequisite\\\"}],\\\"name\\\":\\\" \\\",\\\"metrics\\\":{\\\"complexity\\\":2.0,\\\"centrality\\\":0,\\\"blocking factor\\\":0,\\\"delay factor\\\":2.0},\\\"nameSub\\\":\\\"2nd Semester Second Language\\\",\\\"id\\\":8,\\\"credits\\\":4,\\\"nameCanonical\\\":\\\"\\\"},{\\\"curriculum_requisites\\\":[{\\\"source_id\\\":2,\\\"target_id\\\":6,\\\"type\\\":\\\"CurriculumPrerequisite\\\"}],\\\"name\\\":\\\"MATH 122A/B\\\",\\\"metrics\\\":{\\\"complexity\\\":4.0,\\\"centrality\\\":3,\\\"blocking factor\\\":1,\\\"delay factor\\\":3.0},\\\"nameSub\\\":\\\"Calculus I\\\",\\\"id\\\":6,\\\"credits\\\":5,\\\"nameCanonical\\\":\\\"\\\"},{\\\"curriculum_requisites\\\":[{\\\"source_id\\\":1,\\\"target_id\\\":5,\\\"type\\\":\\\"CurriculumPrerequisite\\\"}],\\\"name\\\":\\\"CSC 120\\\",\\\"metrics\\\":{\\\"complexity\\\":11.0,\\\"centrality\\\":25,\\\"blocking factor\\\":6,\\\"delay factor\\\":5.0},\\\"nameSub\\\":\\\"Intro to Computer Programming II\\\",\\\"id\\\":5,\\\"credits\\\":4,\\\"nameCanonical\\\":\\\"\\\"},{\\\"curriculum_requisites\\\":[],\\\"name\\\":\\\" \\\",\\\"metrics\\\":{\\\"complexity\\\":1.0,\\\"centrality\\\":0,\\\"blocking factor\\\":0,\\\"delay factor\\\":1.0},\\\"nameSub\\\":\\\"Tier 1 General Education 2\\\",\\\"id\\\":13,\\\"credits\\\":3,\\\"nameCanonical\\\":\\\"\\\"}],\\\"id\\\":2},{\\\"name\\\":\\\"Term 3\\\",\\\"curriculum_items\\\":[{\\\"curriculum_requisites\\\":[{\\\"source_id\\\":6,\\\"target_id\\\":11,\\\"type\\\":\\\"CurriculumPrerequisite\\\"}],\\\"name\\\":\\\"MATH 129\\\",\\\"metrics\\\":{\\\"complexity\\\":3.0,\\\"centrality\\\":0,\\\"blocking factor\\\":0,\\\"delay factor\\\":3.0},\\\"nameSub\\\":\\\"Calculus II\\\",\\\"id\\\":11,\\\"credits\\\":3,\\\"nameCanonical\\\":\\\"\\\"},{\\\"curriculum_requisites\\\":[{\\\"source_id\\\":5,\\\"target_id\\\":9,\\\"type\\\":\\\"CurriculumPrerequisite\\\"}],\\\"name\\\":\\\"CSC 210\\\",\\\"metrics\\\":{\\\"complexity\\\":9.0,\\\"centrality\\\":20,\\\"blocking factor\\\":4,\\\"delay factor\\\":5.0},\\\"nameSub\\\":\\\"Software Development\\\",\\\"id\\\":9,\\\"credits\\\":4,\\\"nameCanonical\\\":\\\"\\\"},{\\\"curriculum_requisites\\\":[{\\\"source_id\\\":5,\\\"target_id\\\":10,\\\"type\\\":\\\"CurriculumPrerequisite\\\"}],\\\"name\\\":\\\"CSC 245\\\",\\\"metrics\\\":{\\\"complexity\\\":6.0,\\\"centrality\\\":5,\\\"blocking factor\\\":1,\\\"delay factor\\\":5.0},\\\"nameSub\\\":\\\"Intro to Discrete Structures\\\",\\\"id\\\":10,\\\"credits\\\":3,\\\"nameCanonical\\\":\\\"\\\"},{\\\"curriculum_requisites\\\":[],\\\"name\\\":\\\" \\\",\\\"metrics\\\":{\\\"complexity\\\":1.0,\\\"centrality\\\":0,\\\"blocking factor\\\":0,\\\"delay factor\\\":1.0},\\\"nameSub\\\":\\\"Upper-Division Elective 2\\\",\\\"id\\\":37,\\\"credits\\\":3,\\\"nameCanonical\\\":\\\"\\\"},{\\\"curriculum_requisites\\\":[],\\\"name\\\":\\\" \\\",\\\"metrics\\\":{\\\"complexity\\\":1.0,\\\"centrality\\\":0,\\\"blocking factor\\\":0,\\\"delay factor\\\":1.0},\\\"nameSub\\\":\\\"Upper-Division Elective\\\",\\\"id\\\":23,\\\"credits\\\":3,\\\"nameCanonical\\\":\\\"\\\"}],\\\"id\\\":3},{\\\"name\\\":\\\"Term 4\\\",\\\"curriculum_items\\\":[{\\\"curriculum_requisites\\\":[],\\\"name\\\":\\\"CSC \\\",\\\"metrics\\\":{\\\"complexity\\\":1.0,\\\"centrality\\\":0,\\\"blocking factor\\\":0,\\\"delay factor\\\":1.0},\\\"nameSub\\\":\\\"CSC 400-Level Elective 1\\\",\\\"id\\\":25,\\\"credits\\\":3,\\\"nameCanonical\\\":\\\"\\\"},{\\\"curriculum_requisites\\\":[{\\\"source_id\\\":9,\\\"target_id\\\":19,\\\"type\\\":\\\"CurriculumPrerequisite\\\"}],\\\"name\\\":\\\"CSC 335\\\",\\\"metrics\\\":{\\\"complexity\\\":5.0,\\\"centrality\\\":0,\\\"blocking factor\\\":0,\\\"delay factor\\\":5.0},\\\"nameSub\\\":\\\"Object-Oriented Programming\\\",\\\"id\\\":19,\\\"credits\\\":3,\\\"nameCanonical\\\":\\\"\\\"},{\\\"curriculum_requisites\\\":[{\\\"source_id\\\":9,\\\"target_id\\\":20,\\\"type\\\":\\\"CurriculumPrerequisite\\\"},{\\\"source_id\\\":10,\\\"target_id\\\":20,\\\"type\\\":\\\"CurriculumPrerequisite\\\"}],\\\"name\\\":\\\"CSC 345\\\",\\\"metrics\\\":{\\\"complexity\\\":5.0,\\\"centrality\\\":0,\\\"blocking factor\\\":0,\\\"delay factor\\\":5.0},\\\"nameSub\\\":\\\"Analysis of Discrete Structures\\\",\\\"id\\\":20,\\\"credits\\\":3,\\\"nameCanonical\\\":\\\"\\\"},{\\\"curriculum_requisites\\\":[{\\\"source_id\\\":9,\\\"target_id\\\":14,\\\"type\\\":\\\"CurriculumPrerequisite\\\"}],\\\"name\\\":\\\"CSC 252\\\",\\\"metrics\\\":{\\\"complexity\\\":5.0,\\\"centrality\\\":0,\\\"blocking factor\\\":0,\\\"delay factor\\\":5.0},\\\"nameSub\\\":\\\"Computer Organization\\\",\\\"id\\\":14,\\\"credits\\\":3,\\\"nameCanonical\\\":\\\"\\\"},{\\\"curriculum_requisites\\\":[{\\\"source_id\\\":9,\\\"target_id\\\":15,\\\"type\\\":\\\"CurriculumPrerequisite\\\"}],\\\"name\\\":\\\"CSC 352\\\",\\\"metrics\\\":{\\\"complexity\\\":5.0,\\\"centrality\\\":0,\\\"blocking factor\\\":0,\\\"delay factor\\\":5.0},\\\"nameSub\\\":\\\"Systems Programming & Unix\\\",\\\"id\\\":15,\\\"credits\\\":3,\\\"nameCanonical\\\":\\\"\\\"}],\\\"id\\\":4},{\\\"name\\\":\\\"Term 5\\\",\\\"curriculum_items\\\":[{\\\"curriculum_requisites\\\":[],\\\"name\\\":\\\" \\\",\\\"metrics\\\":{\\\"complexity\\\":1.0,\\\"centrality\\\":0,\\\"blocking factor\\\":0,\\\"delay factor\\\":1.0},\\\"nameSub\\\":\\\"Tier 2 Gen Ed/Upper-Division 2\\\",\\\"id\\\":26,\\\"credits\\\":3,\\\"nameCanonical\\\":\\\"\\\"},{\\\"curriculum_requisites\\\":[],\\\"name\\\":\\\" \\\",\\\"metrics\\\":{\\\"complexity\\\":1.0,\\\"centrality\\\":0,\\\"blocking factor\\\":0,\\\"delay factor\\\":1.0},\\\"nameSub\\\":\\\"Tier 1 General Education 3\\\",\\\"id\\\":17,\\\"credits\\\":3,\\\"nameCanonical\\\":\\\"\\\"},{\\\"curriculum_requisites\\\":[],\\\"name\\\":\\\" \\\",\\\"metrics\\\":{\\\"complexity\\\":1.0,\\\"centrality\\\":0,\\\"blocking factor\\\":0,\\\"delay factor\\\":1.0},\\\"nameSub\\\":\\\"Tier 2 Gen Ed/Upper-Division 1\\\",\\\"id\\\":22,\\\"credits\\\":3,\\\"nameCanonical\\\":\\\"\\\"},{\\\"curriculum_requisites\\\":[],\\\"name\\\":\\\"CSC \\\",\\\"metrics\\\":{\\\"complexity\\\":1.0,\\\"centrality\\\":0,\\\"blocking factor\\\":0,\\\"delay factor\\\":1.0},\\\"nameSub\\\":\\\"CSC Paradigms Elective\\\",\\\"id\\\":24,\\\"credits\\\":3,\\\"nameCanonical\\\":\\\"\\\"},{\\\"curriculum_requisites\\\":[],\\\"name\\\":\\\" \\\",\\\"metrics\\\":{\\\"complexity\\\":1.0,\\\"centrality\\\":0,\\\"blocking factor\\\":0,\\\"delay factor\\\":1.0},\\\"nameSub\\\":\\\"Elective 2\\\",\\\"id\\\":31,\\\"credits\\\":3,\\\"nameCanonical\\\":\\\"\\\"}],\\\"id\\\":5},{\\\"name\\\":\\\"Term 6\\\",\\\"curriculum_items\\\":[{\\\"curriculum_requisites\\\":[],\\\"name\\\":\\\" \\\",\\\"metrics\\\":{\\\"complexity\\\":1.0,\\\"centrality\\\":0,\\\"blocking factor\\\":0,\\\"delay factor\\\":1.0},\\\"nameSub\\\":\\\"Tier 1 General Education 4\\\",\\\"id\\\":18,\\\"credits\\\":3,\\\"nameCanonical\\\":\\\"\\\"},{\\\"curriculum_requisites\\\":[],\\\"name\\\":\\\" \\\",\\\"metrics\\\":{\\\"complexity\\\":1.0,\\\"centrality\\\":0,\\\"blocking factor\\\":0,\\\"delay factor\\\":1.0},\\\"nameSub\\\":\\\"Elective 3\\\",\\\"id\\\":32,\\\"credits\\\":3,\\\"nameCanonical\\\":\\\"\\\"},{\\\"curriculum_requisites\\\":[],\\\"name\\\":\\\"CSC \\\",\\\"metrics\\\":{\\\"complexity\\\":1.0,\\\"centrality\\\":0,\\\"blocking factor\\\":0,\\\"delay factor\\\":1.0},\\\"nameSub\\\":\\\"CSC Systems Elective\\\",\\\"id\\\":34,\\\"credits\\\":3,\\\"nameCanonical\\\":\\\"\\\"},{\\\"curriculum_requisites\\\":[],\\\"name\\\":\\\"CSC \\\",\\\"metrics\\\":{\\\"complexity\\\":1.0,\\\"centrality\\\":0,\\\"blocking factor\\\":0,\\\"delay factor\\\":1.0},\\\"nameSub\\\":\\\"CSC 300/400-Level Elective\\\",\\\"id\\\":35,\\\"credits\\\":3,\\\"nameCanonical\\\":\\\"\\\"},{\\\"curriculum_requisites\\\":[],\\\"name\\\":\\\" \\\",\\\"metrics\\\":{\\\"complexity\\\":1.0,\\\"centrality\\\":0,\\\"blocking factor\\\":0,\\\"delay factor\\\":1.0},\\\"nameSub\\\":\\\"Tier 1 General Education 1\\\",\\\"id\\\":12,\\\"credits\\\":3,\\\"nameCanonical\\\":\\\"\\\"}],\\\"id\\\":6},{\\\"name\\\":\\\"Term 7\\\",\\\"curriculum_items\\\":[{\\\"curriculum_requisites\\\":[],\\\"name\\\":\\\" \\\",\\\"metrics\\\":{\\\"complexity\\\":1.0,\\\"centrality\\\":0,\\\"blocking factor\\\":0,\\\"delay factor\\\":1.0},\\\"nameSub\\\":\\\"Elective 4\\\",\\\"id\\\":33,\\\"credits\\\":3,\\\"nameCanonical\\\":\\\"\\\"},{\\\"curriculum_requisites\\\":[],\\\"name\\\":\\\"CSC \\\",\\\"metrics\\\":{\\\"complexity\\\":1.0,\\\"centrality\\\":0,\\\"blocking factor\\\":0,\\\"delay factor\\\":1.0},\\\"nameSub\\\":\\\"CSC Theory & Writing Elective\\\",\\\"id\\\":29,\\\"credits\\\":3,\\\"nameCanonical\\\":\\\"\\\"},{\\\"curriculum_requisites\\\":[],\\\"name\\\":\\\"ENGL 101\\\",\\\"metrics\\\":{\\\"complexity\\\":3.0,\\\"centrality\\\":0,\\\"blocking factor\\\":1,\\\"delay factor\\\":2.0},\\\"nameSub\\\":\\\"English Composition I\\\",\\\"id\\\":3,\\\"credits\\\":3,\\\"nameCanonical\\\":\\\"\\\"},{\\\"curriculum_requisites\\\":[],\\\"name\\\":\\\" \\\",\\\"metrics\\\":{\\\"complexity\\\":1.0,\\\"centrality\\\":0,\\\"blocking factor\\\":0,\\\"delay factor\\\":1.0},\\\"nameSub\\\":\\\"Elective 1\\\",\\\"id\\\":28,\\\"credits\\\":3,\\\"nameCanonical\\\":\\\"\\\"},{\\\"curriculum_requisites\\\":[],\\\"name\\\":\\\" \\\",\\\"metrics\\\":{\\\"complexity\\\":1.0,\\\"centrality\\\":0,\\\"blocking factor\\\":0,\\\"delay factor\\\":1.0},\\\"nameSub\\\":\\\"Tier 2 Gen Ed/Upper-Division 3\\\",\\\"id\\\":27,\\\"credits\\\":3,\\\"nameCanonical\\\":\\\"\\\"}],\\\"id\\\":7},{\\\"name\\\":\\\"Term 8\\\",\\\"curriculum_items\\\":[{\\\"curriculum_requisites\\\":[],\\\"name\\\":\\\" \\\",\\\"metrics\\\":{\\\"complexity\\\":1.0,\\\"centrality\\\":0,\\\"blocking factor\\\":0,\\\"delay factor\\\":1.0},\\\"nameSub\\\":\\\"Supporting Science #1\\\",\\\"id\\\":16,\\\"credits\\\":4,\\\"nameCanonical\\\":\\\"\\\"},{\\\"curriculum_requisites\\\":[],\\\"name\\\":\\\" \\\",\\\"metrics\\\":{\\\"complexity\\\":1.0,\\\"centrality\\\":0,\\\"blocking factor\\\":0,\\\"delay factor\\\":1.0},\\\"nameSub\\\":\\\"Supporting Science #2\\\",\\\"id\\\":21,\\\"credits\\\":4,\\\"nameCanonical\\\":\\\"\\\"},{\\\"curriculum_requisites\\\":[{\\\"source_id\\\":3,\\\"target_id\\\":7,\\\"type\\\":\\\"CurriculumPrerequisite\\\"}],\\\"name\\\":\\\"ENGL 102\\\",\\\"metrics\\\":{\\\"complexity\\\":2.0,\\\"centrality\\\":0,\\\"blocking factor\\\":0,\\\"delay factor\\\":2.0},\\\"nameSub\\\":\\\"English Composition II\\\",\\\"id\\\":7,\\\"credits\\\":4,\\\"nameCanonical\\\":\\\"\\\"},{\\\"curriculum_requisites\\\":[],\\\"name\\\":\\\" \\\",\\\"metrics\\\":{\\\"complexity\\\":1.0,\\\"centrality\\\":0,\\\"blocking factor\\\":0,\\\"delay factor\\\":1.0},\\\"nameSub\\\":\\\"Upper-Division Elective 1\\\",\\\"id\\\":36,\\\"credits\\\":3,\\\"nameCanonical\\\":\\\"\\\"}],\\\"id\\\":8}],\\\"institution\\\":\\\"University of Arizona\\\"}},\\\"*\\\"); window.removeEventListener(\\\"message\\\",window.messageReceived); window.messageReceived=(function (event){return (event.data.curriculum!==undefined) ? (WebIO.setval({\\\"name\\\":\\\"curriculum-data\\\",\\\"scope\\\":\\\"11811825861632195458\\\",\\\"id\\\":\\\"ob_13\\\",\\\"type\\\":\\\"observable\\\"},event.data.curriculum)) : undefined}); return window.addEventListener(\\\"message\\\",window.messageReceived)})\")),:style => Dict(:padding => \"0\",:height => \"100vh\",:margin => \"0\",:border => \"none\",:width => \"100%\"))), Dict{String,Tuple{Observables.AbstractObservable,Union{Nothing, Bool}}}(\"curriculum-data\" => (Observable{Dict{String,Any}} with 1 listeners. Value:\n",
       "Dict{String,Any}(\"options\" => Dict{String,Any}(\"hideTerms\" => false,\"edit\" => false),\"curriculum\" => Dict{String,Any}(\"name\" => \"Computer Science\",\"dp_name\" => \"\",\"curriculum_terms\" => Dict{String,Any}[Dict(\"name\" => \"Term 1\",\"curriculum_items\" => Dict{String,Any}[Dict(\"curriculum_requisites\" => Dict{String,Any}[],\"name\" => \"CSC \",\"metrics\" => Dict{String,Any}(\"complexity\" => 1.0,\"centrality\" => 0,\"blocking factor\" => 0,\"delay factor\" => 1.0),\"nameSub\" => \"CSC 400-Level Elective 2\",\"id\" => 30,\"credits\" => 3,\"nameCanonical\" => \"\"), Dict(\"curriculum_requisites\" => Dict{String,Any}[],\"name\" => \"MATH 120R\",\"metrics\" => Dict{String,Any}(\"complexity\" => 15.0,\"centrality\" => 0,\"blocking factor\" => 10,\"delay factor\" => 5.0),\"nameSub\" => \"Pre-Calculus\",\"id\" => 2,\"credits\" => 4,\"nameCanonical\" => \"\"), Dict(\"curriculum_requisites\" => Dict{String,Any}[],\"name\" => \" \",\"metrics\" => Dict{String,Any}(\"complexity\" => 3.0,\"centrality\" => 0,\"blocking factor\" => 1,\"delay factor\" => 2.0),\"nameSub\" => \"1st Semester Second Language\",\"id\" => 4,\"credits\" => 4,\"nameCanonical\" => \"\"), Dict(\"curriculum_requisites\" => Dict{String,Any}[Dict(\"source_id\" => 2,\"target_id\" => 1,\"type\" => \"CurriculumCorequisite\")],\"name\" => \"CSC 110\",\"metrics\" => Dict{String,Any}(\"complexity\" => 12.0,\"centrality\" => 25,\"blocking factor\" => 7,\"delay factor\" => 5.0),\"nameSub\" => \"Intro to Computer Programming I\",\"id\" => 1,\"credits\" => 4,\"nameCanonical\" => \"\")],\"id\" => 1), Dict(\"name\" => \"Term 2\",\"curriculum_items\" => Dict{String,Any}[Dict(\"curriculum_requisites\" => Dict{String,Any}[Dict(\"source_id\" => 4,\"target_id\" => 8,\"type\" => \"CurriculumPrerequisite\")],\"name\" => \" \",\"metrics\" => Dict{String,Any}(\"complexity\" => 2.0,\"centrality\" => 0,\"blocking factor\" => 0,\"delay factor\" => 2.0),\"nameSub\" => \"2nd Semester Second Language\",\"id\" => 8,\"credits\" => 4,\"nameCanonical\" => \"\"), Dict(\"curriculum_requisites\" => Dict{String,Any}[Dict(\"source_id\" => 2,\"target_id\" => 6,\"type\" => \"CurriculumPrerequisite\")],\"name\" => \"MATH 122A/B\",\"metrics\" => Dict{String,Any}(\"complexity\" => 4.0,\"centrality\" => 3,\"blocking factor\" => 1,\"delay factor\" => 3.0),\"nameSub\" => \"Calculus I\",\"id\" => 6,\"credits\" => 5,\"nameCanonical\" => \"\"), Dict(\"curriculum_requisites\" => Dict{String,Any}[Dict(\"source_id\" => 1,\"target_id\" => 5,\"type\" => \"CurriculumPrerequisite\")],\"name\" => \"CSC 120\",\"metrics\" => Dict{String,Any}(\"complexity\" => 11.0,\"centrality\" => 25,\"blocking factor\" => 6,\"delay factor\" => 5.0),\"nameSub\" => \"Intro to Computer Programming II\",\"id\" => 5,\"credits\" => 4,\"nameCanonical\" => \"\"), Dict(\"curriculum_requisites\" => Dict{String,Any}[],\"name\" => \" \",\"metrics\" => Dict{String,Any}(\"complexity\" => 1.0,\"centrality\" => 0,\"blocking factor\" => 0,\"delay factor\" => 1.0),\"nameSub\" => \"Tier 1 General Education 2\",\"id\" => 13,\"credits\" => 3,\"nameCanonical\" => \"\")],\"id\" => 2), Dict(\"name\" => \"Term 3\",\"curriculum_items\" => Dict{String,Any}[Dict(\"curriculum_requisites\" => Dict{String,Any}[Dict(\"source_id\" => 6,\"target_id\" => 11,\"type\" => \"CurriculumPrerequisite\")],\"name\" => \"MATH 129\",\"metrics\" => Dict{String,Any}(\"complexity\" => 3.0,\"centrality\" => 0,\"blocking factor\" => 0,\"delay factor\" => 3.0),\"nameSub\" => \"Calculus II\",\"id\" => 11,\"credits\" => 3,\"nameCanonical\" => \"\"), Dict(\"curriculum_requisites\" => Dict{String,Any}[Dict(\"source_id\" => 5,\"target_id\" => 9,\"type\" => \"CurriculumPrerequisite\")],\"name\" => \"CSC 210\",\"metrics\" => Dict{String,Any}(\"complexity\" => 9.0,\"centrality\" => 20,\"blocking factor\" => 4,\"delay factor\" => 5.0),\"nameSub\" => \"Software Development\",\"id\" => 9,\"credits\" => 4,\"nameCanonical\" => \"\"), Dict(\"curriculum_requisites\" => Dict{String,Any}[Dict(\"source_id\" => 5,\"target_id\" => 10,\"type\" => \"CurriculumPrerequisite\")],\"name\" => \"CSC 245\",\"metrics\" => Dict{String,Any}(\"complexity\" => 6.0,\"centrality\" => 5,\"blocking factor\" => 1,\"delay factor\" => 5.0),\"nameSub\" => \"Intro to Discrete Structures\",\"id\" => 10,\"credits\" => 3,\"nameCanonical\" => \"\"), Dict(\"curriculum_requisites\" => Dict{String,Any}[],\"name\" => \" \",\"metrics\" => Dict{String,Any}(\"complexity\" => 1.0,\"centrality\" => 0,\"blocking factor\" => 0,\"delay factor\" => 1.0),\"nameSub\" => \"Upper-Division Elective 2\",\"id\" => 37,\"credits\" => 3,\"nameCanonical\" => \"\"), Dict(\"curriculum_requisites\" => Dict{String,Any}[],\"name\" => \" \",\"metrics\" => Dict{String,Any}(\"complexity\" => 1.0,\"centrality\" => 0,\"blocking factor\" => 0,\"delay factor\" => 1.0),\"nameSub\" => \"Upper-Division Elective\",\"id\" => 23,\"credits\" => 3,\"nameCanonical\" => \"\")],\"id\" => 3), Dict(\"name\" => \"Term 4\",\"curriculum_items\" => Dict{String,Any}[Dict(\"curriculum_requisites\" => Dict{String,Any}[],\"name\" => \"CSC \",\"metrics\" => Dict{String,Any}(\"complexity\" => 1.0,\"centrality\" => 0,\"blocking factor\" => 0,\"delay factor\" => 1.0),\"nameSub\" => \"CSC 400-Level Elective 1\",\"id\" => 25,\"credits\" => 3,\"nameCanonical\" => \"\"), Dict(\"curriculum_requisites\" => Dict{String,Any}[Dict(\"source_id\" => 9,\"target_id\" => 19,\"type\" => \"CurriculumPrerequisite\")],\"name\" => \"CSC 335\",\"metrics\" => Dict{String,Any}(\"complexity\" => 5.0,\"centrality\" => 0,\"blocking factor\" => 0,\"delay factor\" => 5.0),\"nameSub\" => \"Object-Oriented Programming\",\"id\" => 19,\"credits\" => 3,\"nameCanonical\" => \"\"), Dict(\"curriculum_requisites\" => Dict{String,Any}[Dict(\"source_id\" => 9,\"target_id\" => 20,\"type\" => \"CurriculumPrerequisite\"), Dict(\"source_id\" => 10,\"target_id\" => 20,\"type\" => \"CurriculumPrerequisite\")],\"name\" => \"CSC 345\",\"metrics\" => Dict{String,Any}(\"complexity\" => 5.0,\"centrality\" => 0,\"blocking factor\" => 0,\"delay factor\" => 5.0),\"nameSub\" => \"Analysis of Discrete Structures\",\"id\" => 20,\"credits\" => 3,\"nameCanonical\" => \"\"), Dict(\"curriculum_requisites\" => Dict{String,Any}[Dict(\"source_id\" => 9,\"target_id\" => 14,\"type\" => \"CurriculumPrerequisite\")],\"name\" => \"CSC 252\",\"metrics\" => Dict{String,Any}(\"complexity\" => 5.0,\"centrality\" => 0,\"blocking factor\" => 0,\"delay factor\" => 5.0),\"nameSub\" => \"Computer Organization\",\"id\" => 14,\"credits\" => 3,\"nameCanonical\" => \"\"), Dict(\"curriculum_requisites\" => Dict{String,Any}[Dict(\"source_id\" => 9,\"target_id\" => 15,\"type\" => \"CurriculumPrerequisite\")],\"name\" => \"CSC 352\",\"metrics\" => Dict{String,Any}(\"complexity\" => 5.0,\"centrality\" => 0,\"blocking factor\" => 0,\"delay factor\" => 5.0),\"nameSub\" => \"Systems Programming & Unix\",\"id\" => 15,\"credits\" => 3,\"nameCanonical\" => \"\")],\"id\" => 4), Dict(\"name\" => \"Term 5\",\"curriculum_items\" => Dict{String,Any}[Dict(\"curriculum_requisites\" => Dict{String,Any}[],\"name\" => \" \",\"metrics\" => Dict{String,Any}(\"complexity\" => 1.0,\"centrality\" => 0,\"blocking factor\" => 0,\"delay factor\" => 1.0),\"nameSub\" => \"Tier 2 Gen Ed/Upper-Division 2\",\"id\" => 26,\"credits\" => 3,\"nameCanonical\" => \"\"), Dict(\"curriculum_requisites\" => Dict{String,Any}[],\"name\" => \" \",\"metrics\" => Dict{String,Any}(\"complexity\" => 1.0,\"centrality\" => 0,\"blocking factor\" => 0,\"delay factor\" => 1.0),\"nameSub\" => \"Tier 1 General Education 3\",\"id\" => 17,\"credits\" => 3,\"nameCanonical\" => \"\"), Dict(\"curriculum_requisites\" => Dict{String,Any}[],\"name\" => \" \",\"metrics\" => Dict{String,Any}(\"complexity\" => 1.0,\"centrality\" => 0,\"blocking factor\" => 0,\"delay factor\" => 1.0),\"nameSub\" => \"Tier 2 Gen Ed/Upper-Division 1\",\"id\" => 22,\"credits\" => 3,\"nameCanonical\" => \"\"), Dict(\"curriculum_requisites\" => Dict{String,Any}[],\"name\" => \"CSC \",\"metrics\" => Dict{String,Any}(\"complexity\" => 1.0,\"centrality\" => 0,\"blocking factor\" => 0,\"delay factor\" => 1.0),\"nameSub\" => \"CSC Paradigms Elective\",\"id\" => 24,\"credits\" => 3,\"nameCanonical\" => \"\"), Dict(\"curriculum_requisites\" => Dict{String,Any}[],\"name\" => \" \",\"metrics\" => Dict{String,Any}(\"complexity\" => 1.0,\"centrality\" => 0,\"blocking factor\" => 0,\"delay factor\" => 1.0),\"nameSub\" => \"Elective 2\",\"id\" => 31,\"credits\" => 3,\"nameCanonical\" => \"\")],\"id\" => 5), Dict(\"name\" => \"Term 6\",\"curriculum_items\" => Dict{String,Any}[Dict(\"curriculum_requisites\" => Dict{String,Any}[],\"name\" => \" \",\"metrics\" => Dict{String,Any}(\"complexity\" => 1.0,\"centrality\" => 0,\"blocking factor\" => 0,\"delay factor\" => 1.0),\"nameSub\" => \"Tier 1 General Education 4\",\"id\" => 18,\"credits\" => 3,\"nameCanonical\" => \"\"), Dict(\"curriculum_requisites\" => Dict{String,Any}[],\"name\" => \" \",\"metrics\" => Dict{String,Any}(\"complexity\" => 1.0,\"centrality\" => 0,\"blocking factor\" => 0,\"delay factor\" => 1.0),\"nameSub\" => \"Elective 3\",\"id\" => 32,\"credits\" => 3,\"nameCanonical\" => \"\"), Dict(\"curriculum_requisites\" => Dict{String,Any}[],\"name\" => \"CSC \",\"metrics\" => Dict{String,Any}(\"complexity\" => 1.0,\"centrality\" => 0,\"blocking factor\" => 0,\"delay factor\" => 1.0),\"nameSub\" => \"CSC Systems Elective\",\"id\" => 34,\"credits\" => 3,\"nameCanonical\" => \"\"), Dict(\"curriculum_requisites\" => Dict{String,Any}[],\"name\" => \"CSC \",\"metrics\" => Dict{String,Any}(\"complexity\" => 1.0,\"centrality\" => 0,\"blocking factor\" => 0,\"delay factor\" => 1.0),\"nameSub\" => \"CSC 300/400-Level Elective\",\"id\" => 35,\"credits\" => 3,\"nameCanonical\" => \"\"), Dict(\"curriculum_requisites\" => Dict{String,Any}[],\"name\" => \" \",\"metrics\" => Dict{String,Any}(\"complexity\" => 1.0,\"centrality\" => 0,\"blocking factor\" => 0,\"delay factor\" => 1.0),\"nameSub\" => \"Tier 1 General Education 1\",\"id\" => 12,\"credits\" => 3,\"nameCanonical\" => \"\")],\"id\" => 6), Dict(\"name\" => \"Term 7\",\"curriculum_items\" => Dict{String,Any}[Dict(\"curriculum_requisites\" => Dict{String,Any}[],\"name\" => \" \",\"metrics\" => Dict{String,Any}(\"complexity\" => 1.0,\"centrality\" => 0,\"blocking factor\" => 0,\"delay factor\" => 1.0),\"nameSub\" => \"Elective 4\",\"id\" => 33,\"credits\" => 3,\"nameCanonical\" => \"\"), Dict(\"curriculum_requisites\" => Dict{String,Any}[],\"name\" => \"CSC \",\"metrics\" => Dict{String,Any}(\"complexity\" => 1.0,\"centrality\" => 0,\"blocking factor\" => 0,\"delay factor\" => 1.0),\"nameSub\" => \"CSC Theory & Writing Elective\",\"id\" => 29,\"credits\" => 3,\"nameCanonical\" => \"\"), Dict(\"curriculum_requisites\" => Dict{String,Any}[],\"name\" => \"ENGL 101\",\"metrics\" => Dict{String,Any}(\"complexity\" => 3.0,\"centrality\" => 0,\"blocking factor\" => 1,\"delay factor\" => 2.0),\"nameSub\" => \"English Composition I\",\"id\" => 3,\"credits\" => 3,\"nameCanonical\" => \"\"), Dict(\"curriculum_requisites\" => Dict{String,Any}[],\"name\" => \" \",\"metrics\" => Dict{String,Any}(\"complexity\" => 1.0,\"centrality\" => 0,\"blocking factor\" => 0,\"delay factor\" => 1.0),\"nameSub\" => \"Elective 1\",\"id\" => 28,\"credits\" => 3,\"nameCanonical\" => \"\"), Dict(\"curriculum_requisites\" => Dict{String,Any}[],\"name\" => \" \",\"metrics\" => Dict{String,Any}(\"complexity\" => 1.0,\"centrality\" => 0,\"blocking factor\" => 0,\"delay factor\" => 1.0),\"nameSub\" => \"Tier 2 Gen Ed/Upper-Division 3\",\"id\" => 27,\"credits\" => 3,\"nameCanonical\" => \"\")],\"id\" => 7), Dict(\"name\" => \"Term 8\",\"curriculum_items\" => Dict{String,Any}[Dict(\"curriculum_requisites\" => Dict{String,Any}[],\"name\" => \" \",\"metrics\" => Dict{String,Any}(\"complexity\" => 1.0,\"centrality\" => 0,\"blocking factor\" => 0,\"delay factor\" => 1.0),\"nameSub\" => \"Supporting Science #1\",\"id\" => 16,\"credits\" => 4,\"nameCanonical\" => \"\"), Dict(\"curriculum_requisites\" => Dict{String,Any}[],\"name\" => \" \",\"metrics\" => Dict{String,Any}(\"complexity\" => 1.0,\"centrality\" => 0,\"blocking factor\" => 0,\"delay factor\" => 1.0),\"nameSub\" => \"Supporting Science #2\",\"id\" => 21,\"credits\" => 4,\"nameCanonical\" => \"\"), Dict(\"curriculum_requisites\" => Dict{String,Any}[Dict(\"source_id\" => 3,\"target_id\" => 7,\"type\" => \"CurriculumPrerequisite\")],\"name\" => \"ENGL 102\",\"metrics\" => Dict{String,Any}(\"complexity\" => 2.0,\"centrality\" => 0,\"blocking factor\" => 0,\"delay factor\" => 2.0),\"nameSub\" => \"English Composition II\",\"id\" => 7,\"credits\" => 4,\"nameCanonical\" => \"\"), Dict(\"curriculum_requisites\" => Dict{String,Any}[],\"name\" => \" \",\"metrics\" => Dict{String,Any}(\"complexity\" => 1.0,\"centrality\" => 0,\"blocking factor\" => 0,\"delay factor\" => 1.0),\"nameSub\" => \"Upper-Division Elective 1\",\"id\" => 36,\"credits\" => 3,\"nameCanonical\" => \"\")],\"id\" => 8)],\"institution\" => \"University of Arizona\")), nothing)), Set(String[]), nothing, WebIO.Asset[], Dict{Any,Any}(), WebIO.ConnectionPool(Channel{Any}(sz_max:32,sz_curr:0), Set(WebIO.AbstractConnection[]), Base.GenericCondition{Base.AlwaysLockedST}(Base.InvasiveLinkedList{Task}(Task (runnable) @0x000000010dc40910, Task (runnable) @0x000000010dc40910), Base.AlwaysLockedST(1))), WebIO.JSString[])"
      ]
     },
     "execution_count": 67,
     "metadata": {
      "application/vnd.webio.node+json": {
       "kernelId": "6b63556e-00a2-4c4b-8383-e64aa21fcd8e"
      }
     },
     "output_type": "execute_result"
    }
   ],
   "source": [
    "plan_new = optimize_plan(CS_plan.curriculum, 8, 12, 18, [balance_obj, req_distance_obj]);\n",
    "visualize(plan_new, notebook=true)"
   ]
  },
  {
   "cell_type": "code",
   "execution_count": 68,
   "metadata": {},
   "outputs": [
    {
     "name": "stdout",
     "output_type": "stream",
     "text": [
      "\n",
      "Curriculum: Computer Science\n",
      "Degree Plan: \n",
      "  total credit hours = 122\n",
      "  number of terms = 8\n",
      "  max. credits in a term = 16, in term 2\n",
      "  min. credits in a term = 15, in term 1\n",
      "  avg. credits per term = 15.25, with std. dev. = 0.4330127018922193\n",
      "  total distance between all requisites = 12\n",
      "\n"
     ]
    }
   ],
   "source": [
    "metrics = basic_metrics(plan_new)\n",
    "println(String(take!(metrics)))"
   ]
  },
  {
   "cell_type": "markdown",
   "metadata": {},
   "source": [
    "This degree plan is as balanced as possible, and it minimizes the distance between the prerequisites and the courses that require them.  There are still a few things that we need to be fixed, e.g., upper division electives should appear later in the degree plan, etc. We can enforce this by adding some constraints, as shown below."
   ]
  },
  {
   "cell_type": "code",
   "execution_count": 71,
   "metadata": {
    "scrolled": false
   },
   "outputs": [
    {
     "name": "stdout",
     "output_type": "stream",
     "text": [
      "Academic license - for non-commercial use only\n",
      "An optimal solution was found with objective value = 24.0\n"
     ]
    },
    {
     "data": {
      "application/vnd.webio.node+json": {
       "children": [
        {
         "children": [
          ""
         ],
         "instanceArgs": {
          "namespace": "html",
          "tag": "iframe"
         },
         "nodeType": "DOM",
         "props": {
          "events": {
           "load": "(function (){this.contentWindow.postMessage({\"options\":{\"hideTerms\":false,\"edit\":false},\"curriculum\":{\"name\":\"Computer Science\",\"dp_name\":\"\",\"curriculum_terms\":[{\"name\":\"Term 1\",\"curriculum_items\":[{\"curriculum_requisites\":[],\"name\":\" \",\"metrics\":{\"complexity\":3.0,\"centrality\":0,\"blocking factor\":1,\"delay factor\":2.0},\"nameSub\":\"1st Semester Second Language\",\"id\":2800337509,\"credits\":4,\"nameCanonical\":\"\"},{\"curriculum_requisites\":[{\"source_id\":1514830427,\"target_id\":3222280554,\"type\":\"CurriculumCorequisite\"}],\"name\":\"CSC 110\",\"metrics\":{\"complexity\":12.0,\"centrality\":25,\"blocking factor\":7,\"delay factor\":5.0},\"nameSub\":\"Intro to Computer Programming I\",\"id\":3222280554,\"credits\":4,\"nameCanonical\":\"\"},{\"curriculum_requisites\":[],\"name\":\"MATH 120R\",\"metrics\":{\"complexity\":15.0,\"centrality\":0,\"blocking factor\":10,\"delay factor\":5.0},\"nameSub\":\"Pre-Calculus\",\"id\":1514830427,\"credits\":4,\"nameCanonical\":\"\"},{\"curriculum_requisites\":[],\"name\":\"ENGL 101\",\"metrics\":{\"complexity\":3.0,\"centrality\":0,\"blocking factor\":1,\"delay factor\":2.0},\"nameSub\":\"English Composition I\",\"id\":3971825903,\"credits\":3,\"nameCanonical\":\"\"}],\"id\":1},{\"name\":\"Term 2\",\"curriculum_items\":[{\"curriculum_requisites\":[{\"source_id\":3971825903,\"target_id\":4187164012,\"type\":\"CurriculumPrerequisite\"}],\"name\":\"ENGL 102\",\"metrics\":{\"complexity\":2.0,\"centrality\":0,\"blocking factor\":0,\"delay factor\":2.0},\"nameSub\":\"English Composition II\",\"id\":4187164012,\"credits\":4,\"nameCanonical\":\"\"},{\"curriculum_requisites\":[],\"name\":\" \",\"metrics\":{\"complexity\":1.0,\"centrality\":0,\"blocking factor\":0,\"delay factor\":1.0},\"nameSub\":\"Tier 1 General Education 1\",\"id\":2604810423,\"credits\":3,\"nameCanonical\":\"\"},{\"curriculum_requisites\":[{\"source_id\":3222280554,\"target_id\":3149140753,\"type\":\"CurriculumPrerequisite\"}],\"name\":\"CSC 120\",\"metrics\":{\"complexity\":11.0,\"centrality\":25,\"blocking factor\":6,\"delay factor\":5.0},\"nameSub\":\"Intro to Computer Programming II\",\"id\":3149140753,\"credits\":4,\"nameCanonical\":\"\"},{\"curriculum_requisites\":[{\"source_id\":2800337509,\"target_id\":1780932930,\"type\":\"CurriculumPrerequisite\"}],\"name\":\" \",\"metrics\":{\"complexity\":2.0,\"centrality\":0,\"blocking factor\":0,\"delay factor\":2.0},\"nameSub\":\"2nd Semester Second Language\",\"id\":1780932930,\"credits\":4,\"nameCanonical\":\"\"}],\"id\":2},{\"name\":\"Term 3\",\"curriculum_items\":[{\"curriculum_requisites\":[{\"source_id\":3149140753,\"target_id\":3479808924,\"type\":\"CurriculumPrerequisite\"}],\"name\":\"CSC 210\",\"metrics\":{\"complexity\":9.0,\"centrality\":20,\"blocking factor\":4,\"delay factor\":5.0},\"nameSub\":\"Software Development\",\"id\":3479808924,\"credits\":4,\"nameCanonical\":\"\"},{\"curriculum_requisites\":[{\"source_id\":1514830427,\"target_id\":959200943,\"type\":\"CurriculumPrerequisite\"}],\"name\":\"MATH 122A/B\",\"metrics\":{\"complexity\":4.0,\"centrality\":3,\"blocking factor\":1,\"delay factor\":3.0},\"nameSub\":\"Calculus I\",\"id\":959200943,\"credits\":5,\"nameCanonical\":\"\"},{\"curriculum_requisites\":[{\"source_id\":3149140753,\"target_id\":2097584947,\"type\":\"CurriculumPrerequisite\"}],\"name\":\"CSC 245\",\"metrics\":{\"complexity\":6.0,\"centrality\":5,\"blocking factor\":1,\"delay factor\":5.0},\"nameSub\":\"Intro to Discrete Structures\",\"id\":2097584947,\"credits\":3,\"nameCanonical\":\"\"},{\"curriculum_requisites\":[],\"name\":\" \",\"metrics\":{\"complexity\":1.0,\"centrality\":0,\"blocking factor\":0,\"delay factor\":1.0},\"nameSub\":\"Tier 1 General Education 2\",\"id\":3527387319,\"credits\":3,\"nameCanonical\":\"\"}],\"id\":3},{\"name\":\"Term 4\",\"curriculum_items\":[{\"curriculum_requisites\":[{\"source_id\":959200943,\"target_id\":1867558745,\"type\":\"CurriculumPrerequisite\"}],\"name\":\"MATH 129\",\"metrics\":{\"complexity\":3.0,\"centrality\":0,\"blocking factor\":0,\"delay factor\":3.0},\"nameSub\":\"Calculus II\",\"id\":1867558745,\"credits\":3,\"nameCanonical\":\"\"},{\"curriculum_requisites\":[{\"source_id\":3479808924,\"target_id\":2133782056,\"type\":\"CurriculumPrerequisite\"},{\"source_id\":2097584947,\"target_id\":2133782056,\"type\":\"CurriculumPrerequisite\"}],\"name\":\"CSC 345\",\"metrics\":{\"complexity\":5.0,\"centrality\":0,\"blocking factor\":0,\"delay factor\":5.0},\"nameSub\":\"Analysis of Discrete Structures\",\"id\":2133782056,\"credits\":3,\"nameCanonical\":\"\"},{\"curriculum_requisites\":[{\"source_id\":3479808924,\"target_id\":4116067348,\"type\":\"CurriculumPrerequisite\"}],\"name\":\"CSC 252\",\"metrics\":{\"complexity\":5.0,\"centrality\":0,\"blocking factor\":0,\"delay factor\":5.0},\"nameSub\":\"Computer Organization\",\"id\":4116067348,\"credits\":3,\"nameCanonical\":\"\"},{\"curriculum_requisites\":[{\"source_id\":3479808924,\"target_id\":1249457189,\"type\":\"CurriculumPrerequisite\"}],\"name\":\"CSC 335\",\"metrics\":{\"complexity\":5.0,\"centrality\":0,\"blocking factor\":0,\"delay factor\":5.0},\"nameSub\":\"Object-Oriented Programming\",\"id\":1249457189,\"credits\":3,\"nameCanonical\":\"\"},{\"curriculum_requisites\":[{\"source_id\":3479808924,\"target_id\":2946731179,\"type\":\"CurriculumPrerequisite\"}],\"name\":\"CSC 352\",\"metrics\":{\"complexity\":5.0,\"centrality\":0,\"blocking factor\":0,\"delay factor\":5.0},\"nameSub\":\"Systems Programming & Unix\",\"id\":2946731179,\"credits\":3,\"nameCanonical\":\"\"}],\"id\":4},{\"name\":\"Term 5\",\"curriculum_items\":[{\"curriculum_requisites\":[],\"name\":\"CSC \",\"metrics\":{\"complexity\":1.0,\"centrality\":0,\"blocking factor\":0,\"delay factor\":1.0},\"nameSub\":\"CSC Paradigms Elective\",\"id\":3112426931,\"credits\":3,\"nameCanonical\":\"\"},{\"curriculum_requisites\":[],\"name\":\"CSC \",\"metrics\":{\"complexity\":1.0,\"centrality\":0,\"blocking factor\":0,\"delay factor\":1.0},\"nameSub\":\"CSC Theory & Writing Elective\",\"id\":3164190694,\"credits\":3,\"nameCanonical\":\"\"},{\"curriculum_requisites\":[],\"name\":\"CSC \",\"metrics\":{\"complexity\":1.0,\"centrality\":0,\"blocking factor\":0,\"delay factor\":1.0},\"nameSub\":\"CSC Systems Elective\",\"id\":1310252440,\"credits\":3,\"nameCanonical\":\"\"},{\"curriculum_requisites\":[],\"name\":\"CSC \",\"metrics\":{\"complexity\":1.0,\"centrality\":0,\"blocking factor\":0,\"delay factor\":1.0},\"nameSub\":\"CSC 300/400-Level Elective\",\"id\":338495706,\"credits\":3,\"nameCanonical\":\"\"},{\"curriculum_requisites\":[],\"name\":\" \",\"metrics\":{\"complexity\":1.0,\"centrality\":0,\"blocking factor\":0,\"delay factor\":1.0},\"nameSub\":\"Upper-Division Elective 1\",\"id\":2952676055,\"credits\":3,\"nameCanonical\":\"\"}],\"id\":5},{\"name\":\"Term 6\",\"curriculum_items\":[{\"curriculum_requisites\":[],\"name\":\" \",\"metrics\":{\"complexity\":1.0,\"centrality\":0,\"blocking factor\":0,\"delay factor\":1.0},\"nameSub\":\"Tier 2 Gen Ed/Upper-Division 1\",\"id\":1476142855,\"credits\":3,\"nameCanonical\":\"\"},{\"curriculum_requisites\":[],\"name\":\" \",\"metrics\":{\"complexity\":1.0,\"centrality\":0,\"blocking factor\":0,\"delay factor\":1.0},\"nameSub\":\"Elective 4\",\"id\":707206580,\"credits\":3,\"nameCanonical\":\"\"},{\"curriculum_requisites\":[],\"name\":\" \",\"metrics\":{\"complexity\":1.0,\"centrality\":0,\"blocking factor\":0,\"delay factor\":1.0},\"nameSub\":\"Upper-Division Elective 2\",\"id\":1653438614,\"credits\":3,\"nameCanonical\":\"\"},{\"curriculum_requisites\":[],\"name\":\" \",\"metrics\":{\"complexity\":1.0,\"centrality\":0,\"blocking factor\":0,\"delay factor\":1.0},\"nameSub\":\"Elective 3\",\"id\":974144757,\"credits\":3,\"nameCanonical\":\"\"},{\"curriculum_requisites\":[],\"name\":\" \",\"metrics\":{\"complexity\":1.0,\"centrality\":0,\"blocking factor\":0,\"delay factor\":1.0},\"nameSub\":\"Elective 1\",\"id\":2064696548,\"credits\":3,\"nameCanonical\":\"\"}],\"id\":6},{\"name\":\"Term 7\",\"curriculum_items\":[{\"curriculum_requisites\":[],\"name\":\" \",\"metrics\":{\"complexity\":1.0,\"centrality\":0,\"blocking factor\":0,\"delay factor\":1.0},\"nameSub\":\"Elective 2\",\"id\":266560209,\"credits\":3,\"nameCanonical\":\"\"},{\"curriculum_requisites\":[],\"name\":\" \",\"metrics\":{\"complexity\":1.0,\"centrality\":0,\"blocking factor\":0,\"delay factor\":1.0},\"nameSub\":\"Supporting Science #1\",\"id\":314163324,\"credits\":4,\"nameCanonical\":\"\"},{\"curriculum_requisites\":[],\"name\":\" \",\"metrics\":{\"complexity\":1.0,\"centrality\":0,\"blocking factor\":0,\"delay factor\":1.0},\"nameSub\":\"Tier 1 General Education 4\",\"id\":1175402399,\"credits\":3,\"nameCanonical\":\"\"},{\"curriculum_requisites\":[],\"name\":\"CSC \",\"metrics\":{\"complexity\":1.0,\"centrality\":0,\"blocking factor\":0,\"delay factor\":1.0},\"nameSub\":\"CSC 400-Level Elective 2\",\"id\":3442254143,\"credits\":3,\"nameCanonical\":\"\"},{\"curriculum_requisites\":[],\"name\":\"CSC \",\"metrics\":{\"complexity\":1.0,\"centrality\":0,\"blocking factor\":0,\"delay factor\":1.0},\"nameSub\":\"CSC 400-Level Elective 1\",\"id\":1892457245,\"credits\":3,\"nameCanonical\":\"\"}],\"id\":7},{\"name\":\"Term 8\",\"curriculum_items\":[{\"curriculum_requisites\":[],\"name\":\" \",\"metrics\":{\"complexity\":1.0,\"centrality\":0,\"blocking factor\":0,\"delay factor\":1.0},\"nameSub\":\"Tier 1 General Education 3\",\"id\":3658941840,\"credits\":3,\"nameCanonical\":\"\"},{\"curriculum_requisites\":[],\"name\":\" \",\"metrics\":{\"complexity\":1.0,\"centrality\":0,\"blocking factor\":0,\"delay factor\":1.0},\"nameSub\":\"Tier 2 Gen Ed/Upper-Division 2\",\"id\":2385991523,\"credits\":3,\"nameCanonical\":\"\"},{\"curriculum_requisites\":[],\"name\":\" \",\"metrics\":{\"complexity\":1.0,\"centrality\":0,\"blocking factor\":0,\"delay factor\":1.0},\"nameSub\":\"Supporting Science #2\",\"id\":1626957651,\"credits\":4,\"nameCanonical\":\"\"},{\"curriculum_requisites\":[],\"name\":\" \",\"metrics\":{\"complexity\":1.0,\"centrality\":0,\"blocking factor\":0,\"delay factor\":1.0},\"nameSub\":\"Upper-Division Elective\",\"id\":3968398579,\"credits\":3,\"nameCanonical\":\"\"},{\"curriculum_requisites\":[],\"name\":\" \",\"metrics\":{\"complexity\":1.0,\"centrality\":0,\"blocking factor\":0,\"delay factor\":1.0},\"nameSub\":\"Tier 2 Gen Ed/Upper-Division 3\",\"id\":1962301153,\"credits\":3,\"nameCanonical\":\"\"}],\"id\":8}],\"institution\":\"University of Arizona\"}},\"*\"); window.removeEventListener(\"message\",window.messageReceived); window.messageReceived=(function (event){return (event.data.curriculum!==undefined) ? (WebIO.setval({\"name\":\"curriculum-data\",\"scope\":\"11453799399781753071\",\"id\":\"ob_15\",\"type\":\"observable\"},event.data.curriculum)) : undefined}); return window.addEventListener(\"message\",window.messageReceived)})"
          },
          "id": "curriculum",
          "src": "http://localhost:8156",
          "style": {
           "border": "none",
           "height": "100vh",
           "margin": "0",
           "padding": "0",
           "width": "100%"
          }
         },
         "type": "node"
        }
       ],
       "instanceArgs": {
        "handlers": {},
        "id": "11453799399781753071",
        "imports": {
         "data": [],
         "type": "async_block"
        },
        "mount_callbacks": [],
        "observables": {
         "curriculum-data": {
          "id": "ob_15",
          "sync": true,
          "value": {
           "curriculum": {
            "curriculum_terms": [
             {
              "curriculum_items": [
               {
                "credits": 4,
                "curriculum_requisites": [],
                "id": 2800337509,
                "metrics": {
                 "blocking factor": 1,
                 "centrality": 0,
                 "complexity": 3,
                 "delay factor": 2
                },
                "name": " ",
                "nameCanonical": "",
                "nameSub": "1st Semester Second Language"
               },
               {
                "credits": 4,
                "curriculum_requisites": [
                 {
                  "source_id": 1514830427,
                  "target_id": 3222280554,
                  "type": "CurriculumCorequisite"
                 }
                ],
                "id": 3222280554,
                "metrics": {
                 "blocking factor": 7,
                 "centrality": 25,
                 "complexity": 12,
                 "delay factor": 5
                },
                "name": "CSC 110",
                "nameCanonical": "",
                "nameSub": "Intro to Computer Programming I"
               },
               {
                "credits": 4,
                "curriculum_requisites": [],
                "id": 1514830427,
                "metrics": {
                 "blocking factor": 10,
                 "centrality": 0,
                 "complexity": 15,
                 "delay factor": 5
                },
                "name": "MATH 120R",
                "nameCanonical": "",
                "nameSub": "Pre-Calculus"
               },
               {
                "credits": 3,
                "curriculum_requisites": [],
                "id": 3971825903,
                "metrics": {
                 "blocking factor": 1,
                 "centrality": 0,
                 "complexity": 3,
                 "delay factor": 2
                },
                "name": "ENGL 101",
                "nameCanonical": "",
                "nameSub": "English Composition I"
               }
              ],
              "id": 1,
              "name": "Term 1"
             },
             {
              "curriculum_items": [
               {
                "credits": 4,
                "curriculum_requisites": [
                 {
                  "source_id": 3971825903,
                  "target_id": 4187164012,
                  "type": "CurriculumPrerequisite"
                 }
                ],
                "id": 4187164012,
                "metrics": {
                 "blocking factor": 0,
                 "centrality": 0,
                 "complexity": 2,
                 "delay factor": 2
                },
                "name": "ENGL 102",
                "nameCanonical": "",
                "nameSub": "English Composition II"
               },
               {
                "credits": 3,
                "curriculum_requisites": [],
                "id": 2604810423,
                "metrics": {
                 "blocking factor": 0,
                 "centrality": 0,
                 "complexity": 1,
                 "delay factor": 1
                },
                "name": " ",
                "nameCanonical": "",
                "nameSub": "Tier 1 General Education 1"
               },
               {
                "credits": 4,
                "curriculum_requisites": [
                 {
                  "source_id": 3222280554,
                  "target_id": 3149140753,
                  "type": "CurriculumPrerequisite"
                 }
                ],
                "id": 3149140753,
                "metrics": {
                 "blocking factor": 6,
                 "centrality": 25,
                 "complexity": 11,
                 "delay factor": 5
                },
                "name": "CSC 120",
                "nameCanonical": "",
                "nameSub": "Intro to Computer Programming II"
               },
               {
                "credits": 4,
                "curriculum_requisites": [
                 {
                  "source_id": 2800337509,
                  "target_id": 1780932930,
                  "type": "CurriculumPrerequisite"
                 }
                ],
                "id": 1780932930,
                "metrics": {
                 "blocking factor": 0,
                 "centrality": 0,
                 "complexity": 2,
                 "delay factor": 2
                },
                "name": " ",
                "nameCanonical": "",
                "nameSub": "2nd Semester Second Language"
               }
              ],
              "id": 2,
              "name": "Term 2"
             },
             {
              "curriculum_items": [
               {
                "credits": 4,
                "curriculum_requisites": [
                 {
                  "source_id": 3149140753,
                  "target_id": 3479808924,
                  "type": "CurriculumPrerequisite"
                 }
                ],
                "id": 3479808924,
                "metrics": {
                 "blocking factor": 4,
                 "centrality": 20,
                 "complexity": 9,
                 "delay factor": 5
                },
                "name": "CSC 210",
                "nameCanonical": "",
                "nameSub": "Software Development"
               },
               {
                "credits": 5,
                "curriculum_requisites": [
                 {
                  "source_id": 1514830427,
                  "target_id": 959200943,
                  "type": "CurriculumPrerequisite"
                 }
                ],
                "id": 959200943,
                "metrics": {
                 "blocking factor": 1,
                 "centrality": 3,
                 "complexity": 4,
                 "delay factor": 3
                },
                "name": "MATH 122A/B",
                "nameCanonical": "",
                "nameSub": "Calculus I"
               },
               {
                "credits": 3,
                "curriculum_requisites": [
                 {
                  "source_id": 3149140753,
                  "target_id": 2097584947,
                  "type": "CurriculumPrerequisite"
                 }
                ],
                "id": 2097584947,
                "metrics": {
                 "blocking factor": 1,
                 "centrality": 5,
                 "complexity": 6,
                 "delay factor": 5
                },
                "name": "CSC 245",
                "nameCanonical": "",
                "nameSub": "Intro to Discrete Structures"
               },
               {
                "credits": 3,
                "curriculum_requisites": [],
                "id": 3527387319,
                "metrics": {
                 "blocking factor": 0,
                 "centrality": 0,
                 "complexity": 1,
                 "delay factor": 1
                },
                "name": " ",
                "nameCanonical": "",
                "nameSub": "Tier 1 General Education 2"
               }
              ],
              "id": 3,
              "name": "Term 3"
             },
             {
              "curriculum_items": [
               {
                "credits": 3,
                "curriculum_requisites": [
                 {
                  "source_id": 959200943,
                  "target_id": 1867558745,
                  "type": "CurriculumPrerequisite"
                 }
                ],
                "id": 1867558745,
                "metrics": {
                 "blocking factor": 0,
                 "centrality": 0,
                 "complexity": 3,
                 "delay factor": 3
                },
                "name": "MATH 129",
                "nameCanonical": "",
                "nameSub": "Calculus II"
               },
               {
                "credits": 3,
                "curriculum_requisites": [
                 {
                  "source_id": 3479808924,
                  "target_id": 2133782056,
                  "type": "CurriculumPrerequisite"
                 },
                 {
                  "source_id": 2097584947,
                  "target_id": 2133782056,
                  "type": "CurriculumPrerequisite"
                 }
                ],
                "id": 2133782056,
                "metrics": {
                 "blocking factor": 0,
                 "centrality": 0,
                 "complexity": 5,
                 "delay factor": 5
                },
                "name": "CSC 345",
                "nameCanonical": "",
                "nameSub": "Analysis of Discrete Structures"
               },
               {
                "credits": 3,
                "curriculum_requisites": [
                 {
                  "source_id": 3479808924,
                  "target_id": 4116067348,
                  "type": "CurriculumPrerequisite"
                 }
                ],
                "id": 4116067348,
                "metrics": {
                 "blocking factor": 0,
                 "centrality": 0,
                 "complexity": 5,
                 "delay factor": 5
                },
                "name": "CSC 252",
                "nameCanonical": "",
                "nameSub": "Computer Organization"
               },
               {
                "credits": 3,
                "curriculum_requisites": [
                 {
                  "source_id": 3479808924,
                  "target_id": 1249457189,
                  "type": "CurriculumPrerequisite"
                 }
                ],
                "id": 1249457189,
                "metrics": {
                 "blocking factor": 0,
                 "centrality": 0,
                 "complexity": 5,
                 "delay factor": 5
                },
                "name": "CSC 335",
                "nameCanonical": "",
                "nameSub": "Object-Oriented Programming"
               },
               {
                "credits": 3,
                "curriculum_requisites": [
                 {
                  "source_id": 3479808924,
                  "target_id": 2946731179,
                  "type": "CurriculumPrerequisite"
                 }
                ],
                "id": 2946731179,
                "metrics": {
                 "blocking factor": 0,
                 "centrality": 0,
                 "complexity": 5,
                 "delay factor": 5
                },
                "name": "CSC 352",
                "nameCanonical": "",
                "nameSub": "Systems Programming & Unix"
               }
              ],
              "id": 4,
              "name": "Term 4"
             },
             {
              "curriculum_items": [
               {
                "credits": 3,
                "curriculum_requisites": [],
                "id": 3112426931,
                "metrics": {
                 "blocking factor": 0,
                 "centrality": 0,
                 "complexity": 1,
                 "delay factor": 1
                },
                "name": "CSC ",
                "nameCanonical": "",
                "nameSub": "CSC Paradigms Elective"
               },
               {
                "credits": 3,
                "curriculum_requisites": [],
                "id": 3164190694,
                "metrics": {
                 "blocking factor": 0,
                 "centrality": 0,
                 "complexity": 1,
                 "delay factor": 1
                },
                "name": "CSC ",
                "nameCanonical": "",
                "nameSub": "CSC Theory & Writing Elective"
               },
               {
                "credits": 3,
                "curriculum_requisites": [],
                "id": 1310252440,
                "metrics": {
                 "blocking factor": 0,
                 "centrality": 0,
                 "complexity": 1,
                 "delay factor": 1
                },
                "name": "CSC ",
                "nameCanonical": "",
                "nameSub": "CSC Systems Elective"
               },
               {
                "credits": 3,
                "curriculum_requisites": [],
                "id": 338495706,
                "metrics": {
                 "blocking factor": 0,
                 "centrality": 0,
                 "complexity": 1,
                 "delay factor": 1
                },
                "name": "CSC ",
                "nameCanonical": "",
                "nameSub": "CSC 300/400-Level Elective"
               },
               {
                "credits": 3,
                "curriculum_requisites": [],
                "id": 2952676055,
                "metrics": {
                 "blocking factor": 0,
                 "centrality": 0,
                 "complexity": 1,
                 "delay factor": 1
                },
                "name": " ",
                "nameCanonical": "",
                "nameSub": "Upper-Division Elective 1"
               }
              ],
              "id": 5,
              "name": "Term 5"
             },
             {
              "curriculum_items": [
               {
                "credits": 3,
                "curriculum_requisites": [],
                "id": 1476142855,
                "metrics": {
                 "blocking factor": 0,
                 "centrality": 0,
                 "complexity": 1,
                 "delay factor": 1
                },
                "name": " ",
                "nameCanonical": "",
                "nameSub": "Tier 2 Gen Ed/Upper-Division 1"
               },
               {
                "credits": 3,
                "curriculum_requisites": [],
                "id": 707206580,
                "metrics": {
                 "blocking factor": 0,
                 "centrality": 0,
                 "complexity": 1,
                 "delay factor": 1
                },
                "name": " ",
                "nameCanonical": "",
                "nameSub": "Elective 4"
               },
               {
                "credits": 3,
                "curriculum_requisites": [],
                "id": 1653438614,
                "metrics": {
                 "blocking factor": 0,
                 "centrality": 0,
                 "complexity": 1,
                 "delay factor": 1
                },
                "name": " ",
                "nameCanonical": "",
                "nameSub": "Upper-Division Elective 2"
               },
               {
                "credits": 3,
                "curriculum_requisites": [],
                "id": 974144757,
                "metrics": {
                 "blocking factor": 0,
                 "centrality": 0,
                 "complexity": 1,
                 "delay factor": 1
                },
                "name": " ",
                "nameCanonical": "",
                "nameSub": "Elective 3"
               },
               {
                "credits": 3,
                "curriculum_requisites": [],
                "id": 2064696548,
                "metrics": {
                 "blocking factor": 0,
                 "centrality": 0,
                 "complexity": 1,
                 "delay factor": 1
                },
                "name": " ",
                "nameCanonical": "",
                "nameSub": "Elective 1"
               }
              ],
              "id": 6,
              "name": "Term 6"
             },
             {
              "curriculum_items": [
               {
                "credits": 3,
                "curriculum_requisites": [],
                "id": 266560209,
                "metrics": {
                 "blocking factor": 0,
                 "centrality": 0,
                 "complexity": 1,
                 "delay factor": 1
                },
                "name": " ",
                "nameCanonical": "",
                "nameSub": "Elective 2"
               },
               {
                "credits": 4,
                "curriculum_requisites": [],
                "id": 314163324,
                "metrics": {
                 "blocking factor": 0,
                 "centrality": 0,
                 "complexity": 1,
                 "delay factor": 1
                },
                "name": " ",
                "nameCanonical": "",
                "nameSub": "Supporting Science #1"
               },
               {
                "credits": 3,
                "curriculum_requisites": [],
                "id": 1175402399,
                "metrics": {
                 "blocking factor": 0,
                 "centrality": 0,
                 "complexity": 1,
                 "delay factor": 1
                },
                "name": " ",
                "nameCanonical": "",
                "nameSub": "Tier 1 General Education 4"
               },
               {
                "credits": 3,
                "curriculum_requisites": [],
                "id": 3442254143,
                "metrics": {
                 "blocking factor": 0,
                 "centrality": 0,
                 "complexity": 1,
                 "delay factor": 1
                },
                "name": "CSC ",
                "nameCanonical": "",
                "nameSub": "CSC 400-Level Elective 2"
               },
               {
                "credits": 3,
                "curriculum_requisites": [],
                "id": 1892457245,
                "metrics": {
                 "blocking factor": 0,
                 "centrality": 0,
                 "complexity": 1,
                 "delay factor": 1
                },
                "name": "CSC ",
                "nameCanonical": "",
                "nameSub": "CSC 400-Level Elective 1"
               }
              ],
              "id": 7,
              "name": "Term 7"
             },
             {
              "curriculum_items": [
               {
                "credits": 3,
                "curriculum_requisites": [],
                "id": 3658941840,
                "metrics": {
                 "blocking factor": 0,
                 "centrality": 0,
                 "complexity": 1,
                 "delay factor": 1
                },
                "name": " ",
                "nameCanonical": "",
                "nameSub": "Tier 1 General Education 3"
               },
               {
                "credits": 3,
                "curriculum_requisites": [],
                "id": 2385991523,
                "metrics": {
                 "blocking factor": 0,
                 "centrality": 0,
                 "complexity": 1,
                 "delay factor": 1
                },
                "name": " ",
                "nameCanonical": "",
                "nameSub": "Tier 2 Gen Ed/Upper-Division 2"
               },
               {
                "credits": 4,
                "curriculum_requisites": [],
                "id": 1626957651,
                "metrics": {
                 "blocking factor": 0,
                 "centrality": 0,
                 "complexity": 1,
                 "delay factor": 1
                },
                "name": " ",
                "nameCanonical": "",
                "nameSub": "Supporting Science #2"
               },
               {
                "credits": 3,
                "curriculum_requisites": [],
                "id": 3968398579,
                "metrics": {
                 "blocking factor": 0,
                 "centrality": 0,
                 "complexity": 1,
                 "delay factor": 1
                },
                "name": " ",
                "nameCanonical": "",
                "nameSub": "Upper-Division Elective"
               },
               {
                "credits": 3,
                "curriculum_requisites": [],
                "id": 1962301153,
                "metrics": {
                 "blocking factor": 0,
                 "centrality": 0,
                 "complexity": 1,
                 "delay factor": 1
                },
                "name": " ",
                "nameCanonical": "",
                "nameSub": "Tier 2 Gen Ed/Upper-Division 3"
               }
              ],
              "id": 8,
              "name": "Term 8"
             }
            ],
            "dp_name": "",
            "institution": "University of Arizona",
            "name": "Computer Science"
           },
           "options": {
            "edit": false,
            "hideTerms": false
           }
          }
         }
        },
        "systemjs_options": null
       },
       "nodeType": "Scope",
       "props": {},
       "type": "node"
      },
      "text/html": [
       "<div\n",
       "    class=\"webio-mountpoint\"\n",
       "    data-webio-mountpoint=\"15759310930472082384\"\n",
       ">\n",
       "    <script>\n",
       "    if (window.require && require.defined && require.defined(\"nbextensions/webio-jupyter-notebook\")) {\n",
       "        console.log(\"Jupyter WebIO extension detected, not mounting.\");\n",
       "    } else if (window.WebIO) {\n",
       "        WebIO.mount(\n",
       "            document.querySelector('[data-webio-mountpoint=\"15759310930472082384\"]'),\n",
       "            {\"props\":{},\"nodeType\":\"Scope\",\"type\":\"node\",\"instanceArgs\":{\"imports\":{\"data\":[],\"type\":\"async_block\"},\"id\":\"11453799399781753071\",\"handlers\":{},\"systemjs_options\":null,\"mount_callbacks\":[],\"observables\":{\"curriculum-data\":{\"sync\":true,\"id\":\"ob_15\",\"value\":{\"options\":{\"hideTerms\":false,\"edit\":false},\"curriculum\":{\"name\":\"Computer Science\",\"dp_name\":\"\",\"curriculum_terms\":[{\"name\":\"Term 1\",\"curriculum_items\":[{\"curriculum_requisites\":[],\"name\":\" \",\"metrics\":{\"complexity\":3.0,\"centrality\":0,\"blocking factor\":1,\"delay factor\":2.0},\"nameSub\":\"1st Semester Second Language\",\"id\":2800337509,\"credits\":4,\"nameCanonical\":\"\"},{\"curriculum_requisites\":[{\"source_id\":1514830427,\"target_id\":3222280554,\"type\":\"CurriculumCorequisite\"}],\"name\":\"CSC 110\",\"metrics\":{\"complexity\":12.0,\"centrality\":25,\"blocking factor\":7,\"delay factor\":5.0},\"nameSub\":\"Intro to Computer Programming I\",\"id\":3222280554,\"credits\":4,\"nameCanonical\":\"\"},{\"curriculum_requisites\":[],\"name\":\"MATH 120R\",\"metrics\":{\"complexity\":15.0,\"centrality\":0,\"blocking factor\":10,\"delay factor\":5.0},\"nameSub\":\"Pre-Calculus\",\"id\":1514830427,\"credits\":4,\"nameCanonical\":\"\"},{\"curriculum_requisites\":[],\"name\":\"ENGL 101\",\"metrics\":{\"complexity\":3.0,\"centrality\":0,\"blocking factor\":1,\"delay factor\":2.0},\"nameSub\":\"English Composition I\",\"id\":3971825903,\"credits\":3,\"nameCanonical\":\"\"}],\"id\":1},{\"name\":\"Term 2\",\"curriculum_items\":[{\"curriculum_requisites\":[{\"source_id\":3971825903,\"target_id\":4187164012,\"type\":\"CurriculumPrerequisite\"}],\"name\":\"ENGL 102\",\"metrics\":{\"complexity\":2.0,\"centrality\":0,\"blocking factor\":0,\"delay factor\":2.0},\"nameSub\":\"English Composition II\",\"id\":4187164012,\"credits\":4,\"nameCanonical\":\"\"},{\"curriculum_requisites\":[],\"name\":\" \",\"metrics\":{\"complexity\":1.0,\"centrality\":0,\"blocking factor\":0,\"delay factor\":1.0},\"nameSub\":\"Tier 1 General Education 1\",\"id\":2604810423,\"credits\":3,\"nameCanonical\":\"\"},{\"curriculum_requisites\":[{\"source_id\":3222280554,\"target_id\":3149140753,\"type\":\"CurriculumPrerequisite\"}],\"name\":\"CSC 120\",\"metrics\":{\"complexity\":11.0,\"centrality\":25,\"blocking factor\":6,\"delay factor\":5.0},\"nameSub\":\"Intro to Computer Programming II\",\"id\":3149140753,\"credits\":4,\"nameCanonical\":\"\"},{\"curriculum_requisites\":[{\"source_id\":2800337509,\"target_id\":1780932930,\"type\":\"CurriculumPrerequisite\"}],\"name\":\" \",\"metrics\":{\"complexity\":2.0,\"centrality\":0,\"blocking factor\":0,\"delay factor\":2.0},\"nameSub\":\"2nd Semester Second Language\",\"id\":1780932930,\"credits\":4,\"nameCanonical\":\"\"}],\"id\":2},{\"name\":\"Term 3\",\"curriculum_items\":[{\"curriculum_requisites\":[{\"source_id\":3149140753,\"target_id\":3479808924,\"type\":\"CurriculumPrerequisite\"}],\"name\":\"CSC 210\",\"metrics\":{\"complexity\":9.0,\"centrality\":20,\"blocking factor\":4,\"delay factor\":5.0},\"nameSub\":\"Software Development\",\"id\":3479808924,\"credits\":4,\"nameCanonical\":\"\"},{\"curriculum_requisites\":[{\"source_id\":1514830427,\"target_id\":959200943,\"type\":\"CurriculumPrerequisite\"}],\"name\":\"MATH 122A\\/B\",\"metrics\":{\"complexity\":4.0,\"centrality\":3,\"blocking factor\":1,\"delay factor\":3.0},\"nameSub\":\"Calculus I\",\"id\":959200943,\"credits\":5,\"nameCanonical\":\"\"},{\"curriculum_requisites\":[{\"source_id\":3149140753,\"target_id\":2097584947,\"type\":\"CurriculumPrerequisite\"}],\"name\":\"CSC 245\",\"metrics\":{\"complexity\":6.0,\"centrality\":5,\"blocking factor\":1,\"delay factor\":5.0},\"nameSub\":\"Intro to Discrete Structures\",\"id\":2097584947,\"credits\":3,\"nameCanonical\":\"\"},{\"curriculum_requisites\":[],\"name\":\" \",\"metrics\":{\"complexity\":1.0,\"centrality\":0,\"blocking factor\":0,\"delay factor\":1.0},\"nameSub\":\"Tier 1 General Education 2\",\"id\":3527387319,\"credits\":3,\"nameCanonical\":\"\"}],\"id\":3},{\"name\":\"Term 4\",\"curriculum_items\":[{\"curriculum_requisites\":[{\"source_id\":959200943,\"target_id\":1867558745,\"type\":\"CurriculumPrerequisite\"}],\"name\":\"MATH 129\",\"metrics\":{\"complexity\":3.0,\"centrality\":0,\"blocking factor\":0,\"delay factor\":3.0},\"nameSub\":\"Calculus II\",\"id\":1867558745,\"credits\":3,\"nameCanonical\":\"\"},{\"curriculum_requisites\":[{\"source_id\":3479808924,\"target_id\":2133782056,\"type\":\"CurriculumPrerequisite\"},{\"source_id\":2097584947,\"target_id\":2133782056,\"type\":\"CurriculumPrerequisite\"}],\"name\":\"CSC 345\",\"metrics\":{\"complexity\":5.0,\"centrality\":0,\"blocking factor\":0,\"delay factor\":5.0},\"nameSub\":\"Analysis of Discrete Structures\",\"id\":2133782056,\"credits\":3,\"nameCanonical\":\"\"},{\"curriculum_requisites\":[{\"source_id\":3479808924,\"target_id\":4116067348,\"type\":\"CurriculumPrerequisite\"}],\"name\":\"CSC 252\",\"metrics\":{\"complexity\":5.0,\"centrality\":0,\"blocking factor\":0,\"delay factor\":5.0},\"nameSub\":\"Computer Organization\",\"id\":4116067348,\"credits\":3,\"nameCanonical\":\"\"},{\"curriculum_requisites\":[{\"source_id\":3479808924,\"target_id\":1249457189,\"type\":\"CurriculumPrerequisite\"}],\"name\":\"CSC 335\",\"metrics\":{\"complexity\":5.0,\"centrality\":0,\"blocking factor\":0,\"delay factor\":5.0},\"nameSub\":\"Object-Oriented Programming\",\"id\":1249457189,\"credits\":3,\"nameCanonical\":\"\"},{\"curriculum_requisites\":[{\"source_id\":3479808924,\"target_id\":2946731179,\"type\":\"CurriculumPrerequisite\"}],\"name\":\"CSC 352\",\"metrics\":{\"complexity\":5.0,\"centrality\":0,\"blocking factor\":0,\"delay factor\":5.0},\"nameSub\":\"Systems Programming & Unix\",\"id\":2946731179,\"credits\":3,\"nameCanonical\":\"\"}],\"id\":4},{\"name\":\"Term 5\",\"curriculum_items\":[{\"curriculum_requisites\":[],\"name\":\"CSC \",\"metrics\":{\"complexity\":1.0,\"centrality\":0,\"blocking factor\":0,\"delay factor\":1.0},\"nameSub\":\"CSC Paradigms Elective\",\"id\":3112426931,\"credits\":3,\"nameCanonical\":\"\"},{\"curriculum_requisites\":[],\"name\":\"CSC \",\"metrics\":{\"complexity\":1.0,\"centrality\":0,\"blocking factor\":0,\"delay factor\":1.0},\"nameSub\":\"CSC Theory & Writing Elective\",\"id\":3164190694,\"credits\":3,\"nameCanonical\":\"\"},{\"curriculum_requisites\":[],\"name\":\"CSC \",\"metrics\":{\"complexity\":1.0,\"centrality\":0,\"blocking factor\":0,\"delay factor\":1.0},\"nameSub\":\"CSC Systems Elective\",\"id\":1310252440,\"credits\":3,\"nameCanonical\":\"\"},{\"curriculum_requisites\":[],\"name\":\"CSC \",\"metrics\":{\"complexity\":1.0,\"centrality\":0,\"blocking factor\":0,\"delay factor\":1.0},\"nameSub\":\"CSC 300\\/400-Level Elective\",\"id\":338495706,\"credits\":3,\"nameCanonical\":\"\"},{\"curriculum_requisites\":[],\"name\":\" \",\"metrics\":{\"complexity\":1.0,\"centrality\":0,\"blocking factor\":0,\"delay factor\":1.0},\"nameSub\":\"Upper-Division Elective 1\",\"id\":2952676055,\"credits\":3,\"nameCanonical\":\"\"}],\"id\":5},{\"name\":\"Term 6\",\"curriculum_items\":[{\"curriculum_requisites\":[],\"name\":\" \",\"metrics\":{\"complexity\":1.0,\"centrality\":0,\"blocking factor\":0,\"delay factor\":1.0},\"nameSub\":\"Tier 2 Gen Ed\\/Upper-Division 1\",\"id\":1476142855,\"credits\":3,\"nameCanonical\":\"\"},{\"curriculum_requisites\":[],\"name\":\" \",\"metrics\":{\"complexity\":1.0,\"centrality\":0,\"blocking factor\":0,\"delay factor\":1.0},\"nameSub\":\"Elective 4\",\"id\":707206580,\"credits\":3,\"nameCanonical\":\"\"},{\"curriculum_requisites\":[],\"name\":\" \",\"metrics\":{\"complexity\":1.0,\"centrality\":0,\"blocking factor\":0,\"delay factor\":1.0},\"nameSub\":\"Upper-Division Elective 2\",\"id\":1653438614,\"credits\":3,\"nameCanonical\":\"\"},{\"curriculum_requisites\":[],\"name\":\" \",\"metrics\":{\"complexity\":1.0,\"centrality\":0,\"blocking factor\":0,\"delay factor\":1.0},\"nameSub\":\"Elective 3\",\"id\":974144757,\"credits\":3,\"nameCanonical\":\"\"},{\"curriculum_requisites\":[],\"name\":\" \",\"metrics\":{\"complexity\":1.0,\"centrality\":0,\"blocking factor\":0,\"delay factor\":1.0},\"nameSub\":\"Elective 1\",\"id\":2064696548,\"credits\":3,\"nameCanonical\":\"\"}],\"id\":6},{\"name\":\"Term 7\",\"curriculum_items\":[{\"curriculum_requisites\":[],\"name\":\" \",\"metrics\":{\"complexity\":1.0,\"centrality\":0,\"blocking factor\":0,\"delay factor\":1.0},\"nameSub\":\"Elective 2\",\"id\":266560209,\"credits\":3,\"nameCanonical\":\"\"},{\"curriculum_requisites\":[],\"name\":\" \",\"metrics\":{\"complexity\":1.0,\"centrality\":0,\"blocking factor\":0,\"delay factor\":1.0},\"nameSub\":\"Supporting Science #1\",\"id\":314163324,\"credits\":4,\"nameCanonical\":\"\"},{\"curriculum_requisites\":[],\"name\":\" \",\"metrics\":{\"complexity\":1.0,\"centrality\":0,\"blocking factor\":0,\"delay factor\":1.0},\"nameSub\":\"Tier 1 General Education 4\",\"id\":1175402399,\"credits\":3,\"nameCanonical\":\"\"},{\"curriculum_requisites\":[],\"name\":\"CSC \",\"metrics\":{\"complexity\":1.0,\"centrality\":0,\"blocking factor\":0,\"delay factor\":1.0},\"nameSub\":\"CSC 400-Level Elective 2\",\"id\":3442254143,\"credits\":3,\"nameCanonical\":\"\"},{\"curriculum_requisites\":[],\"name\":\"CSC \",\"metrics\":{\"complexity\":1.0,\"centrality\":0,\"blocking factor\":0,\"delay factor\":1.0},\"nameSub\":\"CSC 400-Level Elective 1\",\"id\":1892457245,\"credits\":3,\"nameCanonical\":\"\"}],\"id\":7},{\"name\":\"Term 8\",\"curriculum_items\":[{\"curriculum_requisites\":[],\"name\":\" \",\"metrics\":{\"complexity\":1.0,\"centrality\":0,\"blocking factor\":0,\"delay factor\":1.0},\"nameSub\":\"Tier 1 General Education 3\",\"id\":3658941840,\"credits\":3,\"nameCanonical\":\"\"},{\"curriculum_requisites\":[],\"name\":\" \",\"metrics\":{\"complexity\":1.0,\"centrality\":0,\"blocking factor\":0,\"delay factor\":1.0},\"nameSub\":\"Tier 2 Gen Ed\\/Upper-Division 2\",\"id\":2385991523,\"credits\":3,\"nameCanonical\":\"\"},{\"curriculum_requisites\":[],\"name\":\" \",\"metrics\":{\"complexity\":1.0,\"centrality\":0,\"blocking factor\":0,\"delay factor\":1.0},\"nameSub\":\"Supporting Science #2\",\"id\":1626957651,\"credits\":4,\"nameCanonical\":\"\"},{\"curriculum_requisites\":[],\"name\":\" \",\"metrics\":{\"complexity\":1.0,\"centrality\":0,\"blocking factor\":0,\"delay factor\":1.0},\"nameSub\":\"Upper-Division Elective\",\"id\":3968398579,\"credits\":3,\"nameCanonical\":\"\"},{\"curriculum_requisites\":[],\"name\":\" \",\"metrics\":{\"complexity\":1.0,\"centrality\":0,\"blocking factor\":0,\"delay factor\":1.0},\"nameSub\":\"Tier 2 Gen Ed\\/Upper-Division 3\",\"id\":1962301153,\"credits\":3,\"nameCanonical\":\"\"}],\"id\":8}],\"institution\":\"University of Arizona\"}}}}},\"children\":[{\"props\":{\"src\":\"http:\\/\\/localhost:8156\",\"id\":\"curriculum\",\"events\":{\"load\":\"(function (){this.contentWindow.postMessage({\\\"options\\\":{\\\"hideTerms\\\":false,\\\"edit\\\":false},\\\"curriculum\\\":{\\\"name\\\":\\\"Computer Science\\\",\\\"dp_name\\\":\\\"\\\",\\\"curriculum_terms\\\":[{\\\"name\\\":\\\"Term 1\\\",\\\"curriculum_items\\\":[{\\\"curriculum_requisites\\\":[],\\\"name\\\":\\\" \\\",\\\"metrics\\\":{\\\"complexity\\\":3.0,\\\"centrality\\\":0,\\\"blocking factor\\\":1,\\\"delay factor\\\":2.0},\\\"nameSub\\\":\\\"1st Semester Second Language\\\",\\\"id\\\":2800337509,\\\"credits\\\":4,\\\"nameCanonical\\\":\\\"\\\"},{\\\"curriculum_requisites\\\":[{\\\"source_id\\\":1514830427,\\\"target_id\\\":3222280554,\\\"type\\\":\\\"CurriculumCorequisite\\\"}],\\\"name\\\":\\\"CSC 110\\\",\\\"metrics\\\":{\\\"complexity\\\":12.0,\\\"centrality\\\":25,\\\"blocking factor\\\":7,\\\"delay factor\\\":5.0},\\\"nameSub\\\":\\\"Intro to Computer Programming I\\\",\\\"id\\\":3222280554,\\\"credits\\\":4,\\\"nameCanonical\\\":\\\"\\\"},{\\\"curriculum_requisites\\\":[],\\\"name\\\":\\\"MATH 120R\\\",\\\"metrics\\\":{\\\"complexity\\\":15.0,\\\"centrality\\\":0,\\\"blocking factor\\\":10,\\\"delay factor\\\":5.0},\\\"nameSub\\\":\\\"Pre-Calculus\\\",\\\"id\\\":1514830427,\\\"credits\\\":4,\\\"nameCanonical\\\":\\\"\\\"},{\\\"curriculum_requisites\\\":[],\\\"name\\\":\\\"ENGL 101\\\",\\\"metrics\\\":{\\\"complexity\\\":3.0,\\\"centrality\\\":0,\\\"blocking factor\\\":1,\\\"delay factor\\\":2.0},\\\"nameSub\\\":\\\"English Composition I\\\",\\\"id\\\":3971825903,\\\"credits\\\":3,\\\"nameCanonical\\\":\\\"\\\"}],\\\"id\\\":1},{\\\"name\\\":\\\"Term 2\\\",\\\"curriculum_items\\\":[{\\\"curriculum_requisites\\\":[{\\\"source_id\\\":3971825903,\\\"target_id\\\":4187164012,\\\"type\\\":\\\"CurriculumPrerequisite\\\"}],\\\"name\\\":\\\"ENGL 102\\\",\\\"metrics\\\":{\\\"complexity\\\":2.0,\\\"centrality\\\":0,\\\"blocking factor\\\":0,\\\"delay factor\\\":2.0},\\\"nameSub\\\":\\\"English Composition II\\\",\\\"id\\\":4187164012,\\\"credits\\\":4,\\\"nameCanonical\\\":\\\"\\\"},{\\\"curriculum_requisites\\\":[],\\\"name\\\":\\\" \\\",\\\"metrics\\\":{\\\"complexity\\\":1.0,\\\"centrality\\\":0,\\\"blocking factor\\\":0,\\\"delay factor\\\":1.0},\\\"nameSub\\\":\\\"Tier 1 General Education 1\\\",\\\"id\\\":2604810423,\\\"credits\\\":3,\\\"nameCanonical\\\":\\\"\\\"},{\\\"curriculum_requisites\\\":[{\\\"source_id\\\":3222280554,\\\"target_id\\\":3149140753,\\\"type\\\":\\\"CurriculumPrerequisite\\\"}],\\\"name\\\":\\\"CSC 120\\\",\\\"metrics\\\":{\\\"complexity\\\":11.0,\\\"centrality\\\":25,\\\"blocking factor\\\":6,\\\"delay factor\\\":5.0},\\\"nameSub\\\":\\\"Intro to Computer Programming II\\\",\\\"id\\\":3149140753,\\\"credits\\\":4,\\\"nameCanonical\\\":\\\"\\\"},{\\\"curriculum_requisites\\\":[{\\\"source_id\\\":2800337509,\\\"target_id\\\":1780932930,\\\"type\\\":\\\"CurriculumPrerequisite\\\"}],\\\"name\\\":\\\" \\\",\\\"metrics\\\":{\\\"complexity\\\":2.0,\\\"centrality\\\":0,\\\"blocking factor\\\":0,\\\"delay factor\\\":2.0},\\\"nameSub\\\":\\\"2nd Semester Second Language\\\",\\\"id\\\":1780932930,\\\"credits\\\":4,\\\"nameCanonical\\\":\\\"\\\"}],\\\"id\\\":2},{\\\"name\\\":\\\"Term 3\\\",\\\"curriculum_items\\\":[{\\\"curriculum_requisites\\\":[{\\\"source_id\\\":3149140753,\\\"target_id\\\":3479808924,\\\"type\\\":\\\"CurriculumPrerequisite\\\"}],\\\"name\\\":\\\"CSC 210\\\",\\\"metrics\\\":{\\\"complexity\\\":9.0,\\\"centrality\\\":20,\\\"blocking factor\\\":4,\\\"delay factor\\\":5.0},\\\"nameSub\\\":\\\"Software Development\\\",\\\"id\\\":3479808924,\\\"credits\\\":4,\\\"nameCanonical\\\":\\\"\\\"},{\\\"curriculum_requisites\\\":[{\\\"source_id\\\":1514830427,\\\"target_id\\\":959200943,\\\"type\\\":\\\"CurriculumPrerequisite\\\"}],\\\"name\\\":\\\"MATH 122A\\/B\\\",\\\"metrics\\\":{\\\"complexity\\\":4.0,\\\"centrality\\\":3,\\\"blocking factor\\\":1,\\\"delay factor\\\":3.0},\\\"nameSub\\\":\\\"Calculus I\\\",\\\"id\\\":959200943,\\\"credits\\\":5,\\\"nameCanonical\\\":\\\"\\\"},{\\\"curriculum_requisites\\\":[{\\\"source_id\\\":3149140753,\\\"target_id\\\":2097584947,\\\"type\\\":\\\"CurriculumPrerequisite\\\"}],\\\"name\\\":\\\"CSC 245\\\",\\\"metrics\\\":{\\\"complexity\\\":6.0,\\\"centrality\\\":5,\\\"blocking factor\\\":1,\\\"delay factor\\\":5.0},\\\"nameSub\\\":\\\"Intro to Discrete Structures\\\",\\\"id\\\":2097584947,\\\"credits\\\":3,\\\"nameCanonical\\\":\\\"\\\"},{\\\"curriculum_requisites\\\":[],\\\"name\\\":\\\" \\\",\\\"metrics\\\":{\\\"complexity\\\":1.0,\\\"centrality\\\":0,\\\"blocking factor\\\":0,\\\"delay factor\\\":1.0},\\\"nameSub\\\":\\\"Tier 1 General Education 2\\\",\\\"id\\\":3527387319,\\\"credits\\\":3,\\\"nameCanonical\\\":\\\"\\\"}],\\\"id\\\":3},{\\\"name\\\":\\\"Term 4\\\",\\\"curriculum_items\\\":[{\\\"curriculum_requisites\\\":[{\\\"source_id\\\":959200943,\\\"target_id\\\":1867558745,\\\"type\\\":\\\"CurriculumPrerequisite\\\"}],\\\"name\\\":\\\"MATH 129\\\",\\\"metrics\\\":{\\\"complexity\\\":3.0,\\\"centrality\\\":0,\\\"blocking factor\\\":0,\\\"delay factor\\\":3.0},\\\"nameSub\\\":\\\"Calculus II\\\",\\\"id\\\":1867558745,\\\"credits\\\":3,\\\"nameCanonical\\\":\\\"\\\"},{\\\"curriculum_requisites\\\":[{\\\"source_id\\\":3479808924,\\\"target_id\\\":2133782056,\\\"type\\\":\\\"CurriculumPrerequisite\\\"},{\\\"source_id\\\":2097584947,\\\"target_id\\\":2133782056,\\\"type\\\":\\\"CurriculumPrerequisite\\\"}],\\\"name\\\":\\\"CSC 345\\\",\\\"metrics\\\":{\\\"complexity\\\":5.0,\\\"centrality\\\":0,\\\"blocking factor\\\":0,\\\"delay factor\\\":5.0},\\\"nameSub\\\":\\\"Analysis of Discrete Structures\\\",\\\"id\\\":2133782056,\\\"credits\\\":3,\\\"nameCanonical\\\":\\\"\\\"},{\\\"curriculum_requisites\\\":[{\\\"source_id\\\":3479808924,\\\"target_id\\\":4116067348,\\\"type\\\":\\\"CurriculumPrerequisite\\\"}],\\\"name\\\":\\\"CSC 252\\\",\\\"metrics\\\":{\\\"complexity\\\":5.0,\\\"centrality\\\":0,\\\"blocking factor\\\":0,\\\"delay factor\\\":5.0},\\\"nameSub\\\":\\\"Computer Organization\\\",\\\"id\\\":4116067348,\\\"credits\\\":3,\\\"nameCanonical\\\":\\\"\\\"},{\\\"curriculum_requisites\\\":[{\\\"source_id\\\":3479808924,\\\"target_id\\\":1249457189,\\\"type\\\":\\\"CurriculumPrerequisite\\\"}],\\\"name\\\":\\\"CSC 335\\\",\\\"metrics\\\":{\\\"complexity\\\":5.0,\\\"centrality\\\":0,\\\"blocking factor\\\":0,\\\"delay factor\\\":5.0},\\\"nameSub\\\":\\\"Object-Oriented Programming\\\",\\\"id\\\":1249457189,\\\"credits\\\":3,\\\"nameCanonical\\\":\\\"\\\"},{\\\"curriculum_requisites\\\":[{\\\"source_id\\\":3479808924,\\\"target_id\\\":2946731179,\\\"type\\\":\\\"CurriculumPrerequisite\\\"}],\\\"name\\\":\\\"CSC 352\\\",\\\"metrics\\\":{\\\"complexity\\\":5.0,\\\"centrality\\\":0,\\\"blocking factor\\\":0,\\\"delay factor\\\":5.0},\\\"nameSub\\\":\\\"Systems Programming & Unix\\\",\\\"id\\\":2946731179,\\\"credits\\\":3,\\\"nameCanonical\\\":\\\"\\\"}],\\\"id\\\":4},{\\\"name\\\":\\\"Term 5\\\",\\\"curriculum_items\\\":[{\\\"curriculum_requisites\\\":[],\\\"name\\\":\\\"CSC \\\",\\\"metrics\\\":{\\\"complexity\\\":1.0,\\\"centrality\\\":0,\\\"blocking factor\\\":0,\\\"delay factor\\\":1.0},\\\"nameSub\\\":\\\"CSC Paradigms Elective\\\",\\\"id\\\":3112426931,\\\"credits\\\":3,\\\"nameCanonical\\\":\\\"\\\"},{\\\"curriculum_requisites\\\":[],\\\"name\\\":\\\"CSC \\\",\\\"metrics\\\":{\\\"complexity\\\":1.0,\\\"centrality\\\":0,\\\"blocking factor\\\":0,\\\"delay factor\\\":1.0},\\\"nameSub\\\":\\\"CSC Theory & Writing Elective\\\",\\\"id\\\":3164190694,\\\"credits\\\":3,\\\"nameCanonical\\\":\\\"\\\"},{\\\"curriculum_requisites\\\":[],\\\"name\\\":\\\"CSC \\\",\\\"metrics\\\":{\\\"complexity\\\":1.0,\\\"centrality\\\":0,\\\"blocking factor\\\":0,\\\"delay factor\\\":1.0},\\\"nameSub\\\":\\\"CSC Systems Elective\\\",\\\"id\\\":1310252440,\\\"credits\\\":3,\\\"nameCanonical\\\":\\\"\\\"},{\\\"curriculum_requisites\\\":[],\\\"name\\\":\\\"CSC \\\",\\\"metrics\\\":{\\\"complexity\\\":1.0,\\\"centrality\\\":0,\\\"blocking factor\\\":0,\\\"delay factor\\\":1.0},\\\"nameSub\\\":\\\"CSC 300\\/400-Level Elective\\\",\\\"id\\\":338495706,\\\"credits\\\":3,\\\"nameCanonical\\\":\\\"\\\"},{\\\"curriculum_requisites\\\":[],\\\"name\\\":\\\" \\\",\\\"metrics\\\":{\\\"complexity\\\":1.0,\\\"centrality\\\":0,\\\"blocking factor\\\":0,\\\"delay factor\\\":1.0},\\\"nameSub\\\":\\\"Upper-Division Elective 1\\\",\\\"id\\\":2952676055,\\\"credits\\\":3,\\\"nameCanonical\\\":\\\"\\\"}],\\\"id\\\":5},{\\\"name\\\":\\\"Term 6\\\",\\\"curriculum_items\\\":[{\\\"curriculum_requisites\\\":[],\\\"name\\\":\\\" \\\",\\\"metrics\\\":{\\\"complexity\\\":1.0,\\\"centrality\\\":0,\\\"blocking factor\\\":0,\\\"delay factor\\\":1.0},\\\"nameSub\\\":\\\"Tier 2 Gen Ed\\/Upper-Division 1\\\",\\\"id\\\":1476142855,\\\"credits\\\":3,\\\"nameCanonical\\\":\\\"\\\"},{\\\"curriculum_requisites\\\":[],\\\"name\\\":\\\" \\\",\\\"metrics\\\":{\\\"complexity\\\":1.0,\\\"centrality\\\":0,\\\"blocking factor\\\":0,\\\"delay factor\\\":1.0},\\\"nameSub\\\":\\\"Elective 4\\\",\\\"id\\\":707206580,\\\"credits\\\":3,\\\"nameCanonical\\\":\\\"\\\"},{\\\"curriculum_requisites\\\":[],\\\"name\\\":\\\" \\\",\\\"metrics\\\":{\\\"complexity\\\":1.0,\\\"centrality\\\":0,\\\"blocking factor\\\":0,\\\"delay factor\\\":1.0},\\\"nameSub\\\":\\\"Upper-Division Elective 2\\\",\\\"id\\\":1653438614,\\\"credits\\\":3,\\\"nameCanonical\\\":\\\"\\\"},{\\\"curriculum_requisites\\\":[],\\\"name\\\":\\\" \\\",\\\"metrics\\\":{\\\"complexity\\\":1.0,\\\"centrality\\\":0,\\\"blocking factor\\\":0,\\\"delay factor\\\":1.0},\\\"nameSub\\\":\\\"Elective 3\\\",\\\"id\\\":974144757,\\\"credits\\\":3,\\\"nameCanonical\\\":\\\"\\\"},{\\\"curriculum_requisites\\\":[],\\\"name\\\":\\\" \\\",\\\"metrics\\\":{\\\"complexity\\\":1.0,\\\"centrality\\\":0,\\\"blocking factor\\\":0,\\\"delay factor\\\":1.0},\\\"nameSub\\\":\\\"Elective 1\\\",\\\"id\\\":2064696548,\\\"credits\\\":3,\\\"nameCanonical\\\":\\\"\\\"}],\\\"id\\\":6},{\\\"name\\\":\\\"Term 7\\\",\\\"curriculum_items\\\":[{\\\"curriculum_requisites\\\":[],\\\"name\\\":\\\" \\\",\\\"metrics\\\":{\\\"complexity\\\":1.0,\\\"centrality\\\":0,\\\"blocking factor\\\":0,\\\"delay factor\\\":1.0},\\\"nameSub\\\":\\\"Elective 2\\\",\\\"id\\\":266560209,\\\"credits\\\":3,\\\"nameCanonical\\\":\\\"\\\"},{\\\"curriculum_requisites\\\":[],\\\"name\\\":\\\" \\\",\\\"metrics\\\":{\\\"complexity\\\":1.0,\\\"centrality\\\":0,\\\"blocking factor\\\":0,\\\"delay factor\\\":1.0},\\\"nameSub\\\":\\\"Supporting Science #1\\\",\\\"id\\\":314163324,\\\"credits\\\":4,\\\"nameCanonical\\\":\\\"\\\"},{\\\"curriculum_requisites\\\":[],\\\"name\\\":\\\" \\\",\\\"metrics\\\":{\\\"complexity\\\":1.0,\\\"centrality\\\":0,\\\"blocking factor\\\":0,\\\"delay factor\\\":1.0},\\\"nameSub\\\":\\\"Tier 1 General Education 4\\\",\\\"id\\\":1175402399,\\\"credits\\\":3,\\\"nameCanonical\\\":\\\"\\\"},{\\\"curriculum_requisites\\\":[],\\\"name\\\":\\\"CSC \\\",\\\"metrics\\\":{\\\"complexity\\\":1.0,\\\"centrality\\\":0,\\\"blocking factor\\\":0,\\\"delay factor\\\":1.0},\\\"nameSub\\\":\\\"CSC 400-Level Elective 2\\\",\\\"id\\\":3442254143,\\\"credits\\\":3,\\\"nameCanonical\\\":\\\"\\\"},{\\\"curriculum_requisites\\\":[],\\\"name\\\":\\\"CSC \\\",\\\"metrics\\\":{\\\"complexity\\\":1.0,\\\"centrality\\\":0,\\\"blocking factor\\\":0,\\\"delay factor\\\":1.0},\\\"nameSub\\\":\\\"CSC 400-Level Elective 1\\\",\\\"id\\\":1892457245,\\\"credits\\\":3,\\\"nameCanonical\\\":\\\"\\\"}],\\\"id\\\":7},{\\\"name\\\":\\\"Term 8\\\",\\\"curriculum_items\\\":[{\\\"curriculum_requisites\\\":[],\\\"name\\\":\\\" \\\",\\\"metrics\\\":{\\\"complexity\\\":1.0,\\\"centrality\\\":0,\\\"blocking factor\\\":0,\\\"delay factor\\\":1.0},\\\"nameSub\\\":\\\"Tier 1 General Education 3\\\",\\\"id\\\":3658941840,\\\"credits\\\":3,\\\"nameCanonical\\\":\\\"\\\"},{\\\"curriculum_requisites\\\":[],\\\"name\\\":\\\" \\\",\\\"metrics\\\":{\\\"complexity\\\":1.0,\\\"centrality\\\":0,\\\"blocking factor\\\":0,\\\"delay factor\\\":1.0},\\\"nameSub\\\":\\\"Tier 2 Gen Ed\\/Upper-Division 2\\\",\\\"id\\\":2385991523,\\\"credits\\\":3,\\\"nameCanonical\\\":\\\"\\\"},{\\\"curriculum_requisites\\\":[],\\\"name\\\":\\\" \\\",\\\"metrics\\\":{\\\"complexity\\\":1.0,\\\"centrality\\\":0,\\\"blocking factor\\\":0,\\\"delay factor\\\":1.0},\\\"nameSub\\\":\\\"Supporting Science #2\\\",\\\"id\\\":1626957651,\\\"credits\\\":4,\\\"nameCanonical\\\":\\\"\\\"},{\\\"curriculum_requisites\\\":[],\\\"name\\\":\\\" \\\",\\\"metrics\\\":{\\\"complexity\\\":1.0,\\\"centrality\\\":0,\\\"blocking factor\\\":0,\\\"delay factor\\\":1.0},\\\"nameSub\\\":\\\"Upper-Division Elective\\\",\\\"id\\\":3968398579,\\\"credits\\\":3,\\\"nameCanonical\\\":\\\"\\\"},{\\\"curriculum_requisites\\\":[],\\\"name\\\":\\\" \\\",\\\"metrics\\\":{\\\"complexity\\\":1.0,\\\"centrality\\\":0,\\\"blocking factor\\\":0,\\\"delay factor\\\":1.0},\\\"nameSub\\\":\\\"Tier 2 Gen Ed\\/Upper-Division 3\\\",\\\"id\\\":1962301153,\\\"credits\\\":3,\\\"nameCanonical\\\":\\\"\\\"}],\\\"id\\\":8}],\\\"institution\\\":\\\"University of Arizona\\\"}},\\\"*\\\"); window.removeEventListener(\\\"message\\\",window.messageReceived); window.messageReceived=(function (event){return (event.data.curriculum!==undefined) ? (WebIO.setval({\\\"name\\\":\\\"curriculum-data\\\",\\\"scope\\\":\\\"11453799399781753071\\\",\\\"id\\\":\\\"ob_15\\\",\\\"type\\\":\\\"observable\\\"},event.data.curriculum)) : undefined}); return window.addEventListener(\\\"message\\\",window.messageReceived)})\"},\"style\":{\"padding\":\"0\",\"height\":\"100vh\",\"margin\":\"0\",\"border\":\"none\",\"width\":\"100%\"}},\"nodeType\":\"DOM\",\"type\":\"node\",\"instanceArgs\":{\"namespace\":\"html\",\"tag\":\"iframe\"},\"children\":[\"\"]}]},\n",
       "            window,\n",
       "        );\n",
       "    } else {\n",
       "        document\n",
       "            .querySelector('[data-webio-mountpoint=\"15759310930472082384\"]')\n",
       "            .innerHTML = (\n",
       "                '<div style=\"padding: 1em; background-color: #f8d6da; border: 1px solid #f5c6cb\">' +\n",
       "                '<p><strong>WebIO not detected.</strong></p>' +\n",
       "                '<p>Please read ' +\n",
       "                '<a href=\"https://juliagizmos.github.io/WebIO.jl/latest/troubleshooting/not-detected/\" target=\"_blank\">the troubleshooting guide</a> ' +\n",
       "                'for more information on how to resolve this issue.</p>' +\n",
       "                '<p><a href=\"https://juliagizmos.github.io/WebIO.jl/latest/troubleshooting/not-detected/\" target=\"_blank\">https://juliagizmos.github.io/WebIO.jl/latest/troubleshooting/not-detected/</a></p>' +\n",
       "                '</div>'\n",
       "            );\n",
       "    }\n",
       "    </script>\n",
       "</div>\n"
      ],
      "text/plain": [
       "WebIO.Scope(WebIO.Node{WebIO.DOM}(WebIO.DOM(:html, :iframe), Any[\"\"], Dict{Symbol,Any}(:src => \"http://localhost:8156\",:id => \"curriculum\",:events => Dict(:load => WebIO.JSString(\"(function (){this.contentWindow.postMessage({\\\"options\\\":{\\\"hideTerms\\\":false,\\\"edit\\\":false},\\\"curriculum\\\":{\\\"name\\\":\\\"Computer Science\\\",\\\"dp_name\\\":\\\"\\\",\\\"curriculum_terms\\\":[{\\\"name\\\":\\\"Term 1\\\",\\\"curriculum_items\\\":[{\\\"curriculum_requisites\\\":[],\\\"name\\\":\\\" \\\",\\\"metrics\\\":{\\\"complexity\\\":3.0,\\\"centrality\\\":0,\\\"blocking factor\\\":1,\\\"delay factor\\\":2.0},\\\"nameSub\\\":\\\"1st Semester Second Language\\\",\\\"id\\\":2800337509,\\\"credits\\\":4,\\\"nameCanonical\\\":\\\"\\\"},{\\\"curriculum_requisites\\\":[{\\\"source_id\\\":1514830427,\\\"target_id\\\":3222280554,\\\"type\\\":\\\"CurriculumCorequisite\\\"}],\\\"name\\\":\\\"CSC 110\\\",\\\"metrics\\\":{\\\"complexity\\\":12.0,\\\"centrality\\\":25,\\\"blocking factor\\\":7,\\\"delay factor\\\":5.0},\\\"nameSub\\\":\\\"Intro to Computer Programming I\\\",\\\"id\\\":3222280554,\\\"credits\\\":4,\\\"nameCanonical\\\":\\\"\\\"},{\\\"curriculum_requisites\\\":[],\\\"name\\\":\\\"MATH 120R\\\",\\\"metrics\\\":{\\\"complexity\\\":15.0,\\\"centrality\\\":0,\\\"blocking factor\\\":10,\\\"delay factor\\\":5.0},\\\"nameSub\\\":\\\"Pre-Calculus\\\",\\\"id\\\":1514830427,\\\"credits\\\":4,\\\"nameCanonical\\\":\\\"\\\"},{\\\"curriculum_requisites\\\":[],\\\"name\\\":\\\"ENGL 101\\\",\\\"metrics\\\":{\\\"complexity\\\":3.0,\\\"centrality\\\":0,\\\"blocking factor\\\":1,\\\"delay factor\\\":2.0},\\\"nameSub\\\":\\\"English Composition I\\\",\\\"id\\\":3971825903,\\\"credits\\\":3,\\\"nameCanonical\\\":\\\"\\\"}],\\\"id\\\":1},{\\\"name\\\":\\\"Term 2\\\",\\\"curriculum_items\\\":[{\\\"curriculum_requisites\\\":[{\\\"source_id\\\":3971825903,\\\"target_id\\\":4187164012,\\\"type\\\":\\\"CurriculumPrerequisite\\\"}],\\\"name\\\":\\\"ENGL 102\\\",\\\"metrics\\\":{\\\"complexity\\\":2.0,\\\"centrality\\\":0,\\\"blocking factor\\\":0,\\\"delay factor\\\":2.0},\\\"nameSub\\\":\\\"English Composition II\\\",\\\"id\\\":4187164012,\\\"credits\\\":4,\\\"nameCanonical\\\":\\\"\\\"},{\\\"curriculum_requisites\\\":[],\\\"name\\\":\\\" \\\",\\\"metrics\\\":{\\\"complexity\\\":1.0,\\\"centrality\\\":0,\\\"blocking factor\\\":0,\\\"delay factor\\\":1.0},\\\"nameSub\\\":\\\"Tier 1 General Education 1\\\",\\\"id\\\":2604810423,\\\"credits\\\":3,\\\"nameCanonical\\\":\\\"\\\"},{\\\"curriculum_requisites\\\":[{\\\"source_id\\\":3222280554,\\\"target_id\\\":3149140753,\\\"type\\\":\\\"CurriculumPrerequisite\\\"}],\\\"name\\\":\\\"CSC 120\\\",\\\"metrics\\\":{\\\"complexity\\\":11.0,\\\"centrality\\\":25,\\\"blocking factor\\\":6,\\\"delay factor\\\":5.0},\\\"nameSub\\\":\\\"Intro to Computer Programming II\\\",\\\"id\\\":3149140753,\\\"credits\\\":4,\\\"nameCanonical\\\":\\\"\\\"},{\\\"curriculum_requisites\\\":[{\\\"source_id\\\":2800337509,\\\"target_id\\\":1780932930,\\\"type\\\":\\\"CurriculumPrerequisite\\\"}],\\\"name\\\":\\\" \\\",\\\"metrics\\\":{\\\"complexity\\\":2.0,\\\"centrality\\\":0,\\\"blocking factor\\\":0,\\\"delay factor\\\":2.0},\\\"nameSub\\\":\\\"2nd Semester Second Language\\\",\\\"id\\\":1780932930,\\\"credits\\\":4,\\\"nameCanonical\\\":\\\"\\\"}],\\\"id\\\":2},{\\\"name\\\":\\\"Term 3\\\",\\\"curriculum_items\\\":[{\\\"curriculum_requisites\\\":[{\\\"source_id\\\":3149140753,\\\"target_id\\\":3479808924,\\\"type\\\":\\\"CurriculumPrerequisite\\\"}],\\\"name\\\":\\\"CSC 210\\\",\\\"metrics\\\":{\\\"complexity\\\":9.0,\\\"centrality\\\":20,\\\"blocking factor\\\":4,\\\"delay factor\\\":5.0},\\\"nameSub\\\":\\\"Software Development\\\",\\\"id\\\":3479808924,\\\"credits\\\":4,\\\"nameCanonical\\\":\\\"\\\"},{\\\"curriculum_requisites\\\":[{\\\"source_id\\\":1514830427,\\\"target_id\\\":959200943,\\\"type\\\":\\\"CurriculumPrerequisite\\\"}],\\\"name\\\":\\\"MATH 122A/B\\\",\\\"metrics\\\":{\\\"complexity\\\":4.0,\\\"centrality\\\":3,\\\"blocking factor\\\":1,\\\"delay factor\\\":3.0},\\\"nameSub\\\":\\\"Calculus I\\\",\\\"id\\\":959200943,\\\"credits\\\":5,\\\"nameCanonical\\\":\\\"\\\"},{\\\"curriculum_requisites\\\":[{\\\"source_id\\\":3149140753,\\\"target_id\\\":2097584947,\\\"type\\\":\\\"CurriculumPrerequisite\\\"}],\\\"name\\\":\\\"CSC 245\\\",\\\"metrics\\\":{\\\"complexity\\\":6.0,\\\"centrality\\\":5,\\\"blocking factor\\\":1,\\\"delay factor\\\":5.0},\\\"nameSub\\\":\\\"Intro to Discrete Structures\\\",\\\"id\\\":2097584947,\\\"credits\\\":3,\\\"nameCanonical\\\":\\\"\\\"},{\\\"curriculum_requisites\\\":[],\\\"name\\\":\\\" \\\",\\\"metrics\\\":{\\\"complexity\\\":1.0,\\\"centrality\\\":0,\\\"blocking factor\\\":0,\\\"delay factor\\\":1.0},\\\"nameSub\\\":\\\"Tier 1 General Education 2\\\",\\\"id\\\":3527387319,\\\"credits\\\":3,\\\"nameCanonical\\\":\\\"\\\"}],\\\"id\\\":3},{\\\"name\\\":\\\"Term 4\\\",\\\"curriculum_items\\\":[{\\\"curriculum_requisites\\\":[{\\\"source_id\\\":959200943,\\\"target_id\\\":1867558745,\\\"type\\\":\\\"CurriculumPrerequisite\\\"}],\\\"name\\\":\\\"MATH 129\\\",\\\"metrics\\\":{\\\"complexity\\\":3.0,\\\"centrality\\\":0,\\\"blocking factor\\\":0,\\\"delay factor\\\":3.0},\\\"nameSub\\\":\\\"Calculus II\\\",\\\"id\\\":1867558745,\\\"credits\\\":3,\\\"nameCanonical\\\":\\\"\\\"},{\\\"curriculum_requisites\\\":[{\\\"source_id\\\":3479808924,\\\"target_id\\\":2133782056,\\\"type\\\":\\\"CurriculumPrerequisite\\\"},{\\\"source_id\\\":2097584947,\\\"target_id\\\":2133782056,\\\"type\\\":\\\"CurriculumPrerequisite\\\"}],\\\"name\\\":\\\"CSC 345\\\",\\\"metrics\\\":{\\\"complexity\\\":5.0,\\\"centrality\\\":0,\\\"blocking factor\\\":0,\\\"delay factor\\\":5.0},\\\"nameSub\\\":\\\"Analysis of Discrete Structures\\\",\\\"id\\\":2133782056,\\\"credits\\\":3,\\\"nameCanonical\\\":\\\"\\\"},{\\\"curriculum_requisites\\\":[{\\\"source_id\\\":3479808924,\\\"target_id\\\":4116067348,\\\"type\\\":\\\"CurriculumPrerequisite\\\"}],\\\"name\\\":\\\"CSC 252\\\",\\\"metrics\\\":{\\\"complexity\\\":5.0,\\\"centrality\\\":0,\\\"blocking factor\\\":0,\\\"delay factor\\\":5.0},\\\"nameSub\\\":\\\"Computer Organization\\\",\\\"id\\\":4116067348,\\\"credits\\\":3,\\\"nameCanonical\\\":\\\"\\\"},{\\\"curriculum_requisites\\\":[{\\\"source_id\\\":3479808924,\\\"target_id\\\":1249457189,\\\"type\\\":\\\"CurriculumPrerequisite\\\"}],\\\"name\\\":\\\"CSC 335\\\",\\\"metrics\\\":{\\\"complexity\\\":5.0,\\\"centrality\\\":0,\\\"blocking factor\\\":0,\\\"delay factor\\\":5.0},\\\"nameSub\\\":\\\"Object-Oriented Programming\\\",\\\"id\\\":1249457189,\\\"credits\\\":3,\\\"nameCanonical\\\":\\\"\\\"},{\\\"curriculum_requisites\\\":[{\\\"source_id\\\":3479808924,\\\"target_id\\\":2946731179,\\\"type\\\":\\\"CurriculumPrerequisite\\\"}],\\\"name\\\":\\\"CSC 352\\\",\\\"metrics\\\":{\\\"complexity\\\":5.0,\\\"centrality\\\":0,\\\"blocking factor\\\":0,\\\"delay factor\\\":5.0},\\\"nameSub\\\":\\\"Systems Programming & Unix\\\",\\\"id\\\":2946731179,\\\"credits\\\":3,\\\"nameCanonical\\\":\\\"\\\"}],\\\"id\\\":4},{\\\"name\\\":\\\"Term 5\\\",\\\"curriculum_items\\\":[{\\\"curriculum_requisites\\\":[],\\\"name\\\":\\\"CSC \\\",\\\"metrics\\\":{\\\"complexity\\\":1.0,\\\"centrality\\\":0,\\\"blocking factor\\\":0,\\\"delay factor\\\":1.0},\\\"nameSub\\\":\\\"CSC Paradigms Elective\\\",\\\"id\\\":3112426931,\\\"credits\\\":3,\\\"nameCanonical\\\":\\\"\\\"},{\\\"curriculum_requisites\\\":[],\\\"name\\\":\\\"CSC \\\",\\\"metrics\\\":{\\\"complexity\\\":1.0,\\\"centrality\\\":0,\\\"blocking factor\\\":0,\\\"delay factor\\\":1.0},\\\"nameSub\\\":\\\"CSC Theory & Writing Elective\\\",\\\"id\\\":3164190694,\\\"credits\\\":3,\\\"nameCanonical\\\":\\\"\\\"},{\\\"curriculum_requisites\\\":[],\\\"name\\\":\\\"CSC \\\",\\\"metrics\\\":{\\\"complexity\\\":1.0,\\\"centrality\\\":0,\\\"blocking factor\\\":0,\\\"delay factor\\\":1.0},\\\"nameSub\\\":\\\"CSC Systems Elective\\\",\\\"id\\\":1310252440,\\\"credits\\\":3,\\\"nameCanonical\\\":\\\"\\\"},{\\\"curriculum_requisites\\\":[],\\\"name\\\":\\\"CSC \\\",\\\"metrics\\\":{\\\"complexity\\\":1.0,\\\"centrality\\\":0,\\\"blocking factor\\\":0,\\\"delay factor\\\":1.0},\\\"nameSub\\\":\\\"CSC 300/400-Level Elective\\\",\\\"id\\\":338495706,\\\"credits\\\":3,\\\"nameCanonical\\\":\\\"\\\"},{\\\"curriculum_requisites\\\":[],\\\"name\\\":\\\" \\\",\\\"metrics\\\":{\\\"complexity\\\":1.0,\\\"centrality\\\":0,\\\"blocking factor\\\":0,\\\"delay factor\\\":1.0},\\\"nameSub\\\":\\\"Upper-Division Elective 1\\\",\\\"id\\\":2952676055,\\\"credits\\\":3,\\\"nameCanonical\\\":\\\"\\\"}],\\\"id\\\":5},{\\\"name\\\":\\\"Term 6\\\",\\\"curriculum_items\\\":[{\\\"curriculum_requisites\\\":[],\\\"name\\\":\\\" \\\",\\\"metrics\\\":{\\\"complexity\\\":1.0,\\\"centrality\\\":0,\\\"blocking factor\\\":0,\\\"delay factor\\\":1.0},\\\"nameSub\\\":\\\"Tier 2 Gen Ed/Upper-Division 1\\\",\\\"id\\\":1476142855,\\\"credits\\\":3,\\\"nameCanonical\\\":\\\"\\\"},{\\\"curriculum_requisites\\\":[],\\\"name\\\":\\\" \\\",\\\"metrics\\\":{\\\"complexity\\\":1.0,\\\"centrality\\\":0,\\\"blocking factor\\\":0,\\\"delay factor\\\":1.0},\\\"nameSub\\\":\\\"Elective 4\\\",\\\"id\\\":707206580,\\\"credits\\\":3,\\\"nameCanonical\\\":\\\"\\\"},{\\\"curriculum_requisites\\\":[],\\\"name\\\":\\\" \\\",\\\"metrics\\\":{\\\"complexity\\\":1.0,\\\"centrality\\\":0,\\\"blocking factor\\\":0,\\\"delay factor\\\":1.0},\\\"nameSub\\\":\\\"Upper-Division Elective 2\\\",\\\"id\\\":1653438614,\\\"credits\\\":3,\\\"nameCanonical\\\":\\\"\\\"},{\\\"curriculum_requisites\\\":[],\\\"name\\\":\\\" \\\",\\\"metrics\\\":{\\\"complexity\\\":1.0,\\\"centrality\\\":0,\\\"blocking factor\\\":0,\\\"delay factor\\\":1.0},\\\"nameSub\\\":\\\"Elective 3\\\",\\\"id\\\":974144757,\\\"credits\\\":3,\\\"nameCanonical\\\":\\\"\\\"},{\\\"curriculum_requisites\\\":[],\\\"name\\\":\\\" \\\",\\\"metrics\\\":{\\\"complexity\\\":1.0,\\\"centrality\\\":0,\\\"blocking factor\\\":0,\\\"delay factor\\\":1.0},\\\"nameSub\\\":\\\"Elective 1\\\",\\\"id\\\":2064696548,\\\"credits\\\":3,\\\"nameCanonical\\\":\\\"\\\"}],\\\"id\\\":6},{\\\"name\\\":\\\"Term 7\\\",\\\"curriculum_items\\\":[{\\\"curriculum_requisites\\\":[],\\\"name\\\":\\\" \\\",\\\"metrics\\\":{\\\"complexity\\\":1.0,\\\"centrality\\\":0,\\\"blocking factor\\\":0,\\\"delay factor\\\":1.0},\\\"nameSub\\\":\\\"Elective 2\\\",\\\"id\\\":266560209,\\\"credits\\\":3,\\\"nameCanonical\\\":\\\"\\\"},{\\\"curriculum_requisites\\\":[],\\\"name\\\":\\\" \\\",\\\"metrics\\\":{\\\"complexity\\\":1.0,\\\"centrality\\\":0,\\\"blocking factor\\\":0,\\\"delay factor\\\":1.0},\\\"nameSub\\\":\\\"Supporting Science #1\\\",\\\"id\\\":314163324,\\\"credits\\\":4,\\\"nameCanonical\\\":\\\"\\\"},{\\\"curriculum_requisites\\\":[],\\\"name\\\":\\\" \\\",\\\"metrics\\\":{\\\"complexity\\\":1.0,\\\"centrality\\\":0,\\\"blocking factor\\\":0,\\\"delay factor\\\":1.0},\\\"nameSub\\\":\\\"Tier 1 General Education 4\\\",\\\"id\\\":1175402399,\\\"credits\\\":3,\\\"nameCanonical\\\":\\\"\\\"},{\\\"curriculum_requisites\\\":[],\\\"name\\\":\\\"CSC \\\",\\\"metrics\\\":{\\\"complexity\\\":1.0,\\\"centrality\\\":0,\\\"blocking factor\\\":0,\\\"delay factor\\\":1.0},\\\"nameSub\\\":\\\"CSC 400-Level Elective 2\\\",\\\"id\\\":3442254143,\\\"credits\\\":3,\\\"nameCanonical\\\":\\\"\\\"},{\\\"curriculum_requisites\\\":[],\\\"name\\\":\\\"CSC \\\",\\\"metrics\\\":{\\\"complexity\\\":1.0,\\\"centrality\\\":0,\\\"blocking factor\\\":0,\\\"delay factor\\\":1.0},\\\"nameSub\\\":\\\"CSC 400-Level Elective 1\\\",\\\"id\\\":1892457245,\\\"credits\\\":3,\\\"nameCanonical\\\":\\\"\\\"}],\\\"id\\\":7},{\\\"name\\\":\\\"Term 8\\\",\\\"curriculum_items\\\":[{\\\"curriculum_requisites\\\":[],\\\"name\\\":\\\" \\\",\\\"metrics\\\":{\\\"complexity\\\":1.0,\\\"centrality\\\":0,\\\"blocking factor\\\":0,\\\"delay factor\\\":1.0},\\\"nameSub\\\":\\\"Tier 1 General Education 3\\\",\\\"id\\\":3658941840,\\\"credits\\\":3,\\\"nameCanonical\\\":\\\"\\\"},{\\\"curriculum_requisites\\\":[],\\\"name\\\":\\\" \\\",\\\"metrics\\\":{\\\"complexity\\\":1.0,\\\"centrality\\\":0,\\\"blocking factor\\\":0,\\\"delay factor\\\":1.0},\\\"nameSub\\\":\\\"Tier 2 Gen Ed/Upper-Division 2\\\",\\\"id\\\":2385991523,\\\"credits\\\":3,\\\"nameCanonical\\\":\\\"\\\"},{\\\"curriculum_requisites\\\":[],\\\"name\\\":\\\" \\\",\\\"metrics\\\":{\\\"complexity\\\":1.0,\\\"centrality\\\":0,\\\"blocking factor\\\":0,\\\"delay factor\\\":1.0},\\\"nameSub\\\":\\\"Supporting Science #2\\\",\\\"id\\\":1626957651,\\\"credits\\\":4,\\\"nameCanonical\\\":\\\"\\\"},{\\\"curriculum_requisites\\\":[],\\\"name\\\":\\\" \\\",\\\"metrics\\\":{\\\"complexity\\\":1.0,\\\"centrality\\\":0,\\\"blocking factor\\\":0,\\\"delay factor\\\":1.0},\\\"nameSub\\\":\\\"Upper-Division Elective\\\",\\\"id\\\":3968398579,\\\"credits\\\":3,\\\"nameCanonical\\\":\\\"\\\"},{\\\"curriculum_requisites\\\":[],\\\"name\\\":\\\" \\\",\\\"metrics\\\":{\\\"complexity\\\":1.0,\\\"centrality\\\":0,\\\"blocking factor\\\":0,\\\"delay factor\\\":1.0},\\\"nameSub\\\":\\\"Tier 2 Gen Ed/Upper-Division 3\\\",\\\"id\\\":1962301153,\\\"credits\\\":3,\\\"nameCanonical\\\":\\\"\\\"}],\\\"id\\\":8}],\\\"institution\\\":\\\"University of Arizona\\\"}},\\\"*\\\"); window.removeEventListener(\\\"message\\\",window.messageReceived); window.messageReceived=(function (event){return (event.data.curriculum!==undefined) ? (WebIO.setval({\\\"name\\\":\\\"curriculum-data\\\",\\\"scope\\\":\\\"11453799399781753071\\\",\\\"id\\\":\\\"ob_15\\\",\\\"type\\\":\\\"observable\\\"},event.data.curriculum)) : undefined}); return window.addEventListener(\\\"message\\\",window.messageReceived)})\")),:style => Dict(:padding => \"0\",:height => \"100vh\",:margin => \"0\",:border => \"none\",:width => \"100%\"))), Dict{String,Tuple{Observables.AbstractObservable,Union{Nothing, Bool}}}(\"curriculum-data\" => (Observable{Dict{String,Any}} with 1 listeners. Value:\n",
       "Dict{String,Any}(\"options\" => Dict{String,Any}(\"hideTerms\" => false,\"edit\" => false),\"curriculum\" => Dict{String,Any}(\"name\" => \"Computer Science\",\"dp_name\" => \"\",\"curriculum_terms\" => Dict{String,Any}[Dict(\"name\" => \"Term 1\",\"curriculum_items\" => Dict{String,Any}[Dict(\"curriculum_requisites\" => Dict{String,Any}[],\"name\" => \" \",\"metrics\" => Dict{String,Any}(\"complexity\" => 3.0,\"centrality\" => 0,\"blocking factor\" => 1,\"delay factor\" => 2.0),\"nameSub\" => \"1st Semester Second Language\",\"id\" => 2800337509,\"credits\" => 4,\"nameCanonical\" => \"\"), Dict(\"curriculum_requisites\" => Dict{String,Any}[Dict(\"source_id\" => 1514830427,\"target_id\" => 3222280554,\"type\" => \"CurriculumCorequisite\")],\"name\" => \"CSC 110\",\"metrics\" => Dict{String,Any}(\"complexity\" => 12.0,\"centrality\" => 25,\"blocking factor\" => 7,\"delay factor\" => 5.0),\"nameSub\" => \"Intro to Computer Programming I\",\"id\" => 3222280554,\"credits\" => 4,\"nameCanonical\" => \"\"), Dict(\"curriculum_requisites\" => Dict{String,Any}[],\"name\" => \"MATH 120R\",\"metrics\" => Dict{String,Any}(\"complexity\" => 15.0,\"centrality\" => 0,\"blocking factor\" => 10,\"delay factor\" => 5.0),\"nameSub\" => \"Pre-Calculus\",\"id\" => 1514830427,\"credits\" => 4,\"nameCanonical\" => \"\"), Dict(\"curriculum_requisites\" => Dict{String,Any}[],\"name\" => \"ENGL 101\",\"metrics\" => Dict{String,Any}(\"complexity\" => 3.0,\"centrality\" => 0,\"blocking factor\" => 1,\"delay factor\" => 2.0),\"nameSub\" => \"English Composition I\",\"id\" => 3971825903,\"credits\" => 3,\"nameCanonical\" => \"\")],\"id\" => 1), Dict(\"name\" => \"Term 2\",\"curriculum_items\" => Dict{String,Any}[Dict(\"curriculum_requisites\" => Dict{String,Any}[Dict(\"source_id\" => 3971825903,\"target_id\" => 4187164012,\"type\" => \"CurriculumPrerequisite\")],\"name\" => \"ENGL 102\",\"metrics\" => Dict{String,Any}(\"complexity\" => 2.0,\"centrality\" => 0,\"blocking factor\" => 0,\"delay factor\" => 2.0),\"nameSub\" => \"English Composition II\",\"id\" => 4187164012,\"credits\" => 4,\"nameCanonical\" => \"\"), Dict(\"curriculum_requisites\" => Dict{String,Any}[],\"name\" => \" \",\"metrics\" => Dict{String,Any}(\"complexity\" => 1.0,\"centrality\" => 0,\"blocking factor\" => 0,\"delay factor\" => 1.0),\"nameSub\" => \"Tier 1 General Education 1\",\"id\" => 2604810423,\"credits\" => 3,\"nameCanonical\" => \"\"), Dict(\"curriculum_requisites\" => Dict{String,Any}[Dict(\"source_id\" => 3222280554,\"target_id\" => 3149140753,\"type\" => \"CurriculumPrerequisite\")],\"name\" => \"CSC 120\",\"metrics\" => Dict{String,Any}(\"complexity\" => 11.0,\"centrality\" => 25,\"blocking factor\" => 6,\"delay factor\" => 5.0),\"nameSub\" => \"Intro to Computer Programming II\",\"id\" => 3149140753,\"credits\" => 4,\"nameCanonical\" => \"\"), Dict(\"curriculum_requisites\" => Dict{String,Any}[Dict(\"source_id\" => 2800337509,\"target_id\" => 1780932930,\"type\" => \"CurriculumPrerequisite\")],\"name\" => \" \",\"metrics\" => Dict{String,Any}(\"complexity\" => 2.0,\"centrality\" => 0,\"blocking factor\" => 0,\"delay factor\" => 2.0),\"nameSub\" => \"2nd Semester Second Language\",\"id\" => 1780932930,\"credits\" => 4,\"nameCanonical\" => \"\")],\"id\" => 2), Dict(\"name\" => \"Term 3\",\"curriculum_items\" => Dict{String,Any}[Dict(\"curriculum_requisites\" => Dict{String,Any}[Dict(\"source_id\" => 3149140753,\"target_id\" => 3479808924,\"type\" => \"CurriculumPrerequisite\")],\"name\" => \"CSC 210\",\"metrics\" => Dict{String,Any}(\"complexity\" => 9.0,\"centrality\" => 20,\"blocking factor\" => 4,\"delay factor\" => 5.0),\"nameSub\" => \"Software Development\",\"id\" => 3479808924,\"credits\" => 4,\"nameCanonical\" => \"\"), Dict(\"curriculum_requisites\" => Dict{String,Any}[Dict(\"source_id\" => 1514830427,\"target_id\" => 959200943,\"type\" => \"CurriculumPrerequisite\")],\"name\" => \"MATH 122A/B\",\"metrics\" => Dict{String,Any}(\"complexity\" => 4.0,\"centrality\" => 3,\"blocking factor\" => 1,\"delay factor\" => 3.0),\"nameSub\" => \"Calculus I\",\"id\" => 959200943,\"credits\" => 5,\"nameCanonical\" => \"\"), Dict(\"curriculum_requisites\" => Dict{String,Any}[Dict(\"source_id\" => 3149140753,\"target_id\" => 2097584947,\"type\" => \"CurriculumPrerequisite\")],\"name\" => \"CSC 245\",\"metrics\" => Dict{String,Any}(\"complexity\" => 6.0,\"centrality\" => 5,\"blocking factor\" => 1,\"delay factor\" => 5.0),\"nameSub\" => \"Intro to Discrete Structures\",\"id\" => 2097584947,\"credits\" => 3,\"nameCanonical\" => \"\"), Dict(\"curriculum_requisites\" => Dict{String,Any}[],\"name\" => \" \",\"metrics\" => Dict{String,Any}(\"complexity\" => 1.0,\"centrality\" => 0,\"blocking factor\" => 0,\"delay factor\" => 1.0),\"nameSub\" => \"Tier 1 General Education 2\",\"id\" => 3527387319,\"credits\" => 3,\"nameCanonical\" => \"\")],\"id\" => 3), Dict(\"name\" => \"Term 4\",\"curriculum_items\" => Dict{String,Any}[Dict(\"curriculum_requisites\" => Dict{String,Any}[Dict(\"source_id\" => 959200943,\"target_id\" => 1867558745,\"type\" => \"CurriculumPrerequisite\")],\"name\" => \"MATH 129\",\"metrics\" => Dict{String,Any}(\"complexity\" => 3.0,\"centrality\" => 0,\"blocking factor\" => 0,\"delay factor\" => 3.0),\"nameSub\" => \"Calculus II\",\"id\" => 1867558745,\"credits\" => 3,\"nameCanonical\" => \"\"), Dict(\"curriculum_requisites\" => Dict{String,Any}[Dict(\"source_id\" => 3479808924,\"target_id\" => 2133782056,\"type\" => \"CurriculumPrerequisite\"), Dict(\"source_id\" => 2097584947,\"target_id\" => 2133782056,\"type\" => \"CurriculumPrerequisite\")],\"name\" => \"CSC 345\",\"metrics\" => Dict{String,Any}(\"complexity\" => 5.0,\"centrality\" => 0,\"blocking factor\" => 0,\"delay factor\" => 5.0),\"nameSub\" => \"Analysis of Discrete Structures\",\"id\" => 2133782056,\"credits\" => 3,\"nameCanonical\" => \"\"), Dict(\"curriculum_requisites\" => Dict{String,Any}[Dict(\"source_id\" => 3479808924,\"target_id\" => 4116067348,\"type\" => \"CurriculumPrerequisite\")],\"name\" => \"CSC 252\",\"metrics\" => Dict{String,Any}(\"complexity\" => 5.0,\"centrality\" => 0,\"blocking factor\" => 0,\"delay factor\" => 5.0),\"nameSub\" => \"Computer Organization\",\"id\" => 4116067348,\"credits\" => 3,\"nameCanonical\" => \"\"), Dict(\"curriculum_requisites\" => Dict{String,Any}[Dict(\"source_id\" => 3479808924,\"target_id\" => 1249457189,\"type\" => \"CurriculumPrerequisite\")],\"name\" => \"CSC 335\",\"metrics\" => Dict{String,Any}(\"complexity\" => 5.0,\"centrality\" => 0,\"blocking factor\" => 0,\"delay factor\" => 5.0),\"nameSub\" => \"Object-Oriented Programming\",\"id\" => 1249457189,\"credits\" => 3,\"nameCanonical\" => \"\"), Dict(\"curriculum_requisites\" => Dict{String,Any}[Dict(\"source_id\" => 3479808924,\"target_id\" => 2946731179,\"type\" => \"CurriculumPrerequisite\")],\"name\" => \"CSC 352\",\"metrics\" => Dict{String,Any}(\"complexity\" => 5.0,\"centrality\" => 0,\"blocking factor\" => 0,\"delay factor\" => 5.0),\"nameSub\" => \"Systems Programming & Unix\",\"id\" => 2946731179,\"credits\" => 3,\"nameCanonical\" => \"\")],\"id\" => 4), Dict(\"name\" => \"Term 5\",\"curriculum_items\" => Dict{String,Any}[Dict(\"curriculum_requisites\" => Dict{String,Any}[],\"name\" => \"CSC \",\"metrics\" => Dict{String,Any}(\"complexity\" => 1.0,\"centrality\" => 0,\"blocking factor\" => 0,\"delay factor\" => 1.0),\"nameSub\" => \"CSC Paradigms Elective\",\"id\" => 3112426931,\"credits\" => 3,\"nameCanonical\" => \"\"), Dict(\"curriculum_requisites\" => Dict{String,Any}[],\"name\" => \"CSC \",\"metrics\" => Dict{String,Any}(\"complexity\" => 1.0,\"centrality\" => 0,\"blocking factor\" => 0,\"delay factor\" => 1.0),\"nameSub\" => \"CSC Theory & Writing Elective\",\"id\" => 3164190694,\"credits\" => 3,\"nameCanonical\" => \"\"), Dict(\"curriculum_requisites\" => Dict{String,Any}[],\"name\" => \"CSC \",\"metrics\" => Dict{String,Any}(\"complexity\" => 1.0,\"centrality\" => 0,\"blocking factor\" => 0,\"delay factor\" => 1.0),\"nameSub\" => \"CSC Systems Elective\",\"id\" => 1310252440,\"credits\" => 3,\"nameCanonical\" => \"\"), Dict(\"curriculum_requisites\" => Dict{String,Any}[],\"name\" => \"CSC \",\"metrics\" => Dict{String,Any}(\"complexity\" => 1.0,\"centrality\" => 0,\"blocking factor\" => 0,\"delay factor\" => 1.0),\"nameSub\" => \"CSC 300/400-Level Elective\",\"id\" => 338495706,\"credits\" => 3,\"nameCanonical\" => \"\"), Dict(\"curriculum_requisites\" => Dict{String,Any}[],\"name\" => \" \",\"metrics\" => Dict{String,Any}(\"complexity\" => 1.0,\"centrality\" => 0,\"blocking factor\" => 0,\"delay factor\" => 1.0),\"nameSub\" => \"Upper-Division Elective 1\",\"id\" => 2952676055,\"credits\" => 3,\"nameCanonical\" => \"\")],\"id\" => 5), Dict(\"name\" => \"Term 6\",\"curriculum_items\" => Dict{String,Any}[Dict(\"curriculum_requisites\" => Dict{String,Any}[],\"name\" => \" \",\"metrics\" => Dict{String,Any}(\"complexity\" => 1.0,\"centrality\" => 0,\"blocking factor\" => 0,\"delay factor\" => 1.0),\"nameSub\" => \"Tier 2 Gen Ed/Upper-Division 1\",\"id\" => 1476142855,\"credits\" => 3,\"nameCanonical\" => \"\"), Dict(\"curriculum_requisites\" => Dict{String,Any}[],\"name\" => \" \",\"metrics\" => Dict{String,Any}(\"complexity\" => 1.0,\"centrality\" => 0,\"blocking factor\" => 0,\"delay factor\" => 1.0),\"nameSub\" => \"Elective 4\",\"id\" => 707206580,\"credits\" => 3,\"nameCanonical\" => \"\"), Dict(\"curriculum_requisites\" => Dict{String,Any}[],\"name\" => \" \",\"metrics\" => Dict{String,Any}(\"complexity\" => 1.0,\"centrality\" => 0,\"blocking factor\" => 0,\"delay factor\" => 1.0),\"nameSub\" => \"Upper-Division Elective 2\",\"id\" => 1653438614,\"credits\" => 3,\"nameCanonical\" => \"\"), Dict(\"curriculum_requisites\" => Dict{String,Any}[],\"name\" => \" \",\"metrics\" => Dict{String,Any}(\"complexity\" => 1.0,\"centrality\" => 0,\"blocking factor\" => 0,\"delay factor\" => 1.0),\"nameSub\" => \"Elective 3\",\"id\" => 974144757,\"credits\" => 3,\"nameCanonical\" => \"\"), Dict(\"curriculum_requisites\" => Dict{String,Any}[],\"name\" => \" \",\"metrics\" => Dict{String,Any}(\"complexity\" => 1.0,\"centrality\" => 0,\"blocking factor\" => 0,\"delay factor\" => 1.0),\"nameSub\" => \"Elective 1\",\"id\" => 2064696548,\"credits\" => 3,\"nameCanonical\" => \"\")],\"id\" => 6), Dict(\"name\" => \"Term 7\",\"curriculum_items\" => Dict{String,Any}[Dict(\"curriculum_requisites\" => Dict{String,Any}[],\"name\" => \" \",\"metrics\" => Dict{String,Any}(\"complexity\" => 1.0,\"centrality\" => 0,\"blocking factor\" => 0,\"delay factor\" => 1.0),\"nameSub\" => \"Elective 2\",\"id\" => 266560209,\"credits\" => 3,\"nameCanonical\" => \"\"), Dict(\"curriculum_requisites\" => Dict{String,Any}[],\"name\" => \" \",\"metrics\" => Dict{String,Any}(\"complexity\" => 1.0,\"centrality\" => 0,\"blocking factor\" => 0,\"delay factor\" => 1.0),\"nameSub\" => \"Supporting Science #1\",\"id\" => 314163324,\"credits\" => 4,\"nameCanonical\" => \"\"), Dict(\"curriculum_requisites\" => Dict{String,Any}[],\"name\" => \" \",\"metrics\" => Dict{String,Any}(\"complexity\" => 1.0,\"centrality\" => 0,\"blocking factor\" => 0,\"delay factor\" => 1.0),\"nameSub\" => \"Tier 1 General Education 4\",\"id\" => 1175402399,\"credits\" => 3,\"nameCanonical\" => \"\"), Dict(\"curriculum_requisites\" => Dict{String,Any}[],\"name\" => \"CSC \",\"metrics\" => Dict{String,Any}(\"complexity\" => 1.0,\"centrality\" => 0,\"blocking factor\" => 0,\"delay factor\" => 1.0),\"nameSub\" => \"CSC 400-Level Elective 2\",\"id\" => 3442254143,\"credits\" => 3,\"nameCanonical\" => \"\"), Dict(\"curriculum_requisites\" => Dict{String,Any}[],\"name\" => \"CSC \",\"metrics\" => Dict{String,Any}(\"complexity\" => 1.0,\"centrality\" => 0,\"blocking factor\" => 0,\"delay factor\" => 1.0),\"nameSub\" => \"CSC 400-Level Elective 1\",\"id\" => 1892457245,\"credits\" => 3,\"nameCanonical\" => \"\")],\"id\" => 7), Dict(\"name\" => \"Term 8\",\"curriculum_items\" => Dict{String,Any}[Dict(\"curriculum_requisites\" => Dict{String,Any}[],\"name\" => \" \",\"metrics\" => Dict{String,Any}(\"complexity\" => 1.0,\"centrality\" => 0,\"blocking factor\" => 0,\"delay factor\" => 1.0),\"nameSub\" => \"Tier 1 General Education 3\",\"id\" => 3658941840,\"credits\" => 3,\"nameCanonical\" => \"\"), Dict(\"curriculum_requisites\" => Dict{String,Any}[],\"name\" => \" \",\"metrics\" => Dict{String,Any}(\"complexity\" => 1.0,\"centrality\" => 0,\"blocking factor\" => 0,\"delay factor\" => 1.0),\"nameSub\" => \"Tier 2 Gen Ed/Upper-Division 2\",\"id\" => 2385991523,\"credits\" => 3,\"nameCanonical\" => \"\"), Dict(\"curriculum_requisites\" => Dict{String,Any}[],\"name\" => \" \",\"metrics\" => Dict{String,Any}(\"complexity\" => 1.0,\"centrality\" => 0,\"blocking factor\" => 0,\"delay factor\" => 1.0),\"nameSub\" => \"Supporting Science #2\",\"id\" => 1626957651,\"credits\" => 4,\"nameCanonical\" => \"\"), Dict(\"curriculum_requisites\" => Dict{String,Any}[],\"name\" => \" \",\"metrics\" => Dict{String,Any}(\"complexity\" => 1.0,\"centrality\" => 0,\"blocking factor\" => 0,\"delay factor\" => 1.0),\"nameSub\" => \"Upper-Division Elective\",\"id\" => 3968398579,\"credits\" => 3,\"nameCanonical\" => \"\"), Dict(\"curriculum_requisites\" => Dict{String,Any}[],\"name\" => \" \",\"metrics\" => Dict{String,Any}(\"complexity\" => 1.0,\"centrality\" => 0,\"blocking factor\" => 0,\"delay factor\" => 1.0),\"nameSub\" => \"Tier 2 Gen Ed/Upper-Division 3\",\"id\" => 1962301153,\"credits\" => 3,\"nameCanonical\" => \"\")],\"id\" => 8)],\"institution\" => \"University of Arizona\")), nothing)), Set(String[]), nothing, WebIO.Asset[], Dict{Any,Any}(), WebIO.ConnectionPool(Channel{Any}(sz_max:32,sz_curr:0), Set(WebIO.AbstractConnection[]), Base.GenericCondition{Base.AlwaysLockedST}(Base.InvasiveLinkedList{Task}(Task (runnable) @0x000000010dc42ad0, Task (runnable) @0x000000010dc42ad0), Base.AlwaysLockedST(1))), WebIO.JSString[])"
      ]
     },
     "execution_count": 71,
     "metadata": {
      "application/vnd.webio.node+json": {
       "kernelId": "6b63556e-00a2-4c4b-8383-e64aa21fcd8e"
      }
     },
     "output_type": "execute_result"
    }
   ],
   "source": [
    "curric = CS_plan.curriculum\n",
    "curric = convert_ids(curric)\n",
    "# specify courses that should appear in a specific term\n",
    "fixed = Dict{Course,Int}()\n",
    "fixed[course(curric, \"MATH\", \"120R\", \"Pre-Calculus\", \"\")] = 1\n",
    "fixed[course(curric, \"ENGL\", \"101\", \"English Composition I\", \"\")] = 1\n",
    "# specify courses that should appear in a specific range of terms\n",
    "range = Dict{Course, Pair{Int,Int}}()\n",
    "range[course(curric, \"\", \"\", \"Tier 2 Gen Ed/Upper-Division 1\", \"\")] = 4=>8\n",
    "range[course(curric, \"\", \"\", \"Tier 2 Gen Ed/Upper-Division 2\", \"\")] = 4=>8\n",
    "range[course(curric, \"\", \"\", \"Tier 2 Gen Ed/Upper-Division 3\", \"\")] = 4=>8\n",
    "range[course(curric, \"\", \"\", \"Upper-Division Elective 1\", \"\")] = 4=>8\n",
    "range[course(curric, \"\", \"\", \"Upper-Division Elective 2\", \"\")] = 4=>8\n",
    "range[course(curric, \"CSC\", \"\", \"CSC Paradigms Elective\", \"\")] = 4=>8\n",
    "range[course(curric, \"CSC\", \"\", \"CSC Systems Elective\", \"\")] = 4=>8\n",
    "range[course(curric, \"CSC\", \"\", \"CSC 300/400-Level Elective\", \"\")] = 5=>8\n",
    "range[course(curric, \"CSC\", \"\", \"CSC 400-Level Elective 1\", \"\")] = 7=>8\n",
    "range[course(curric, \"CSC\", \"\", \"CSC 400-Level Elective 2\", \"\")] = 7=>8\n",
    "plan_new = optimize_plan(CS_plan.curriculum, 8, 12, 18, [balance_obj, req_distance_obj], fixed_terms=fixed, term_range=range);\n",
    "visualize(plan_new, notebook=true)"
   ]
  },
  {
   "cell_type": "code",
   "execution_count": 72,
   "metadata": {},
   "outputs": [
    {
     "name": "stdout",
     "output_type": "stream",
     "text": [
      "\n",
      "Curriculum: Computer Science\n",
      "Degree Plan: \n",
      "  total credit hours = 122\n",
      "  number of terms = 8\n",
      "  max. credits in a term = 16, in term 7\n",
      "  min. credits in a term = 15, in term 1\n",
      "  avg. credits per term = 15.25, with std. dev. = 0.4330127018922193\n",
      "  total distance between all requisites = 13\n",
      "\n"
     ]
    }
   ],
   "source": [
    "metrics = basic_metrics(plan_new)\n",
    "println(String(take!(metrics)))"
   ]
  },
  {
   "cell_type": "markdown",
   "metadata": {},
   "source": [
    "This degree plans maintains a good balance and a small overall distance between requisites, and it better places lower and upper division electives. "
   ]
  },
  {
   "cell_type": "markdown",
   "metadata": {},
   "source": [
    "## References\n",
    "<a id='References'></a>\n",
    "\n",
    "[1] Heileman, G. L., Abdallah, C.T., Slim, A., and Hickman, M. (2018). Curricular analytics: A framework for quantifying the impact of curricular reforms and pedagogical innovations. www.arXiv.org, arXiv:1811.09676 [cs.CY].\n",
    "\n",
    "[2] Heileman, G. L., Free, H. W., Abar, O. and Thompson-Arjona, W. G, (2019). CurricularAnalytics.jl Toolbox. https://github.com/heileman/CurricularAnalytics.jl."
   ]
  }
 ],
 "metadata": {
  "@webio": {
   "lastCommId": "c50c864f1da44174889ba549ac42035d",
   "lastKernelId": "6b63556e-00a2-4c4b-8383-e64aa21fcd8e"
  },
  "kernelspec": {
   "display_name": "Julia 1.3.1",
   "language": "julia",
   "name": "julia-1.3"
  },
  "language_info": {
   "file_extension": ".jl",
   "mimetype": "application/julia",
   "name": "julia",
   "version": "1.3.1"
  }
 },
 "nbformat": 4,
 "nbformat_minor": 2
}
