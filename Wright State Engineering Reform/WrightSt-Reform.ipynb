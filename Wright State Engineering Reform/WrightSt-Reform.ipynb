{
 "cells": [
  {
   "cell_type": "markdown",
   "metadata": {},
   "source": [
    "# <center>Adapting Electrical Engineering Curricula to Incoming Student Preparation</center>\n",
    "\n",
    "<center>\n",
    "    <b>Gregory L. Heileman</b> <br>\n",
    "    Department of Electrical & Computer Engineering <br>\n",
    "    Univeristy of Arizaon <br>\n",
    "    heileman@arizona.edu\n",
    "</center>\n",
    "\n",
    "## Introduction\n",
    "In this notebook we investigate, using curricular analytics, the impact of student prepartion on progression through engineering programs.  We then consider how the curricular reforms implemented by the College of Engineering at Wright St. University facilitate student progression.  This analysis is specific to the Electrical Engineering (EE) programs; however, it is broadly applicable to engineering undergraduate programs at any institution. \n",
    "\n",
    "This analysis will make use of the Curricular Analytics toolbox (see <cite data-cite=\"he:18\">Heileman, et. al, (2018)</cite> and <cite data-cite=\"he:18\">Heileman, et. al. (2019)</cite>) for detailed documentation about this toolbox), a Julia programming language package created to support the study of university curricula.  The following commands will install the toolbox: "
   ]
  },
  {
   "cell_type": "code",
   "execution_count": 1,
   "metadata": {},
   "outputs": [
    {
     "data": {
      "text/html": [
       "<script>\n",
       "// Immediately-invoked-function-expression to avoid global variables.\n",
       "(function() {\n",
       "    var warning_div = document.getElementById(\"webio-warning-6672175984414210138\");\n",
       "    var hide = function () {\n",
       "        var script = document.getElementById(\"webio-setup-4213652206180289139\");\n",
       "        var parent = script && script.parentElement;\n",
       "        var grandparent = parent && parent.parentElement;\n",
       "        if (grandparent) {\n",
       "            grandparent.style.display = \"none\";\n",
       "        }\n",
       "        warning_div.style.display = \"none\";\n",
       "    };\n",
       "    if (typeof Jupyter !== \"undefined\") {\n",
       "        console.log(\"WebIO detected Jupyter notebook environment.\");\n",
       "        // Jupyter notebook.\n",
       "        var extensions = (\n",
       "            Jupyter\n",
       "            && Jupyter.notebook.config.data\n",
       "            && Jupyter.notebook.config.data.load_extensions\n",
       "        );\n",
       "        if (extensions && extensions[\"webio/main\"]) {\n",
       "            // Extension already loaded.\n",
       "            console.log(\"Jupyter WebIO nbextension detected; not loading ad-hoc.\");\n",
       "            hide();\n",
       "            return;\n",
       "        }\n",
       "        console.warn(\"Loading WebIO Jupyter extension on an ad-hoc basis. Consider enabling the WebIO nbextension for a stabler experience (this should happen automatically when building WebIO).\");\n",
       "        warning_div.innerHTML = \"<strong>Loading WebIO Jupyter extension on an ad-hoc basis. Consider enabling the WebIO nbextension for a stabler experience (this should happen automatically when building WebIO).</strong>\";\n",
       "    } else if (window.location.pathname.includes(\"/lab\")) {\n",
       "        // Guessing JupyterLa\n",
       "        console.log(\"Jupyter Lab detected; make sure the @webio/jupyter-lab-provider labextension is installed.\");\n",
       "        hide();\n",
       "        return;\n",
       "    }\n",
       "})();\n",
       "\n",
       "</script>\n",
       "<p\n",
       "    id=\"webio-warning-6672175984414210138\"\n",
       "    class=\"output_text output_stderr\"\n",
       "    style=\"padding: 1em; font-weight: bold;\"\n",
       ">\n",
       "    Unable to load WebIO. Please make sure WebIO works for your Jupyter client.\n",
       "    For troubleshooting, please see <a href=\"https://juliagizmos.github.io/WebIO.jl/latest/providers/ijulia/\">\n",
       "    the WebIO/IJulia documentation</a>.\n",
       "    <!-- TODO: link to installation docs. -->\n",
       "</p>\n"
      ],
      "text/plain": [
       "HTML{String}(\"<script>\\n// Immediately-invoked-function-expression to avoid global variables.\\n(function() {\\n    var warning_div = document.getElementById(\\\"webio-warning-6672175984414210138\\\");\\n    var hide = function () {\\n        var script = document.getElementById(\\\"webio-setup-4213652206180289139\\\");\\n        var parent = script && script.parentElement;\\n        var grandparent = parent && parent.parentElement;\\n        if (grandparent) {\\n            grandparent.style.display = \\\"none\\\";\\n        }\\n        warning_div.style.display = \\\"none\\\";\\n    };\\n    if (typeof Jupyter !== \\\"undefined\\\") {\\n        console.log(\\\"WebIO detected Jupyter notebook environment.\\\");\\n        // Jupyter notebook.\\n        var extensions = (\\n            Jupyter\\n            && Jupyter.notebook.config.data\\n            && Jupyter.notebook.config.data.load_extensions\\n        );\\n        if (extensions && extensions[\\\"webio/main\\\"]) {\\n            // Extension already loaded.\\n            console.log(\\\"Jupyter WebIO nbextension detected; not loading ad-hoc.\\\");\\n            hide();\\n            return;\\n        }\\n        console.warn(\\\"Loading WebIO Jupyter extension on an ad-hoc basis. Consider enabling the WebIO nbextension for a stabler experience (this should happen automatically when building WebIO).\\\");\\n        warning_div.innerHTML = \\\"<strong>Loading WebIO Jupyter extension on an ad-hoc basis. Consider enabling the WebIO nbextension for a stabler experience (this should happen automatically when building WebIO).</strong>\\\";\\n    } else if (window.location.pathname.includes(\\\"/lab\\\")) {\\n        // Guessing JupyterLa\\n        console.log(\\\"Jupyter Lab detected; make sure the @webio/jupyter-lab-provider labextension is installed.\\\");\\n        hide();\\n        return;\\n    }\\n})();\\n\\n</script>\\n<p\\n    id=\\\"webio-warning-6672175984414210138\\\"\\n    class=\\\"output_text output_stderr\\\"\\n    style=\\\"padding: 1em; font-weight: bold;\\\"\\n>\\n    Unable to load WebIO. Please make sure WebIO works for your Jupyter client.\\n    For troubleshooting, please see <a href=\\\"https://juliagizmos.github.io/WebIO.jl/latest/providers/ijulia/\\\">\\n    the WebIO/IJulia documentation</a>.\\n    <!-- TODO: link to installation docs. -->\\n</p>\\n\")"
      ]
     },
     "metadata": {},
     "output_type": "display_data"
    }
   ],
   "source": [
    "using CurricularAnalytics"
   ]
  },
  {
   "cell_type": "markdown",
   "metadata": {},
   "source": [
    "## Complexity of Electrical Engineering Programs\n",
    "First consider an example electrical engineering curriculum, in particular, the one offered by <cite data-cite=\"\">University of Kentucky, (2018)</cite>.  The degree plan associated with this curriculum has been stored in a comma separated values (CSV) file entitled UKY_EE_plan.csv. The required file format is described in the Curricular Analtyics toolbox documentation set <cite data-cite=\"\">(Heileman et al., 2019)</cite>.  The following toolbox commands will read, analyze and produce a visualization of the degree plan stored in the CSV file:"
   ]
  },
  {
   "cell_type": "code",
   "execution_count": 2,
   "metadata": {},
   "outputs": [
    {
     "data": {
      "application/vnd.webio.node+json": {
       "children": [
        {
         "children": [
          ""
         ],
         "instanceArgs": {
          "namespace": "html",
          "tag": "iframe"
         },
         "nodeType": "DOM",
         "props": {
          "events": {
           "load": "(function (){this.contentWindow.postMessage({\"options\":{\"hideTerms\":false,\"edit\":false},\"curriculum\":{\"name\":\"University of Kentucky EE Program\",\"dp_name\":\"University of Kentucky EE Program 4-year Plan\",\"curriculum_terms\":[{\"name\":\"Term 1\",\"curriculum_items\":[{\"curriculum_requisites\":[],\"name\":\"EGR 101\",\"metrics\":{\"centrality\":0,\"complexity\":1.0,\"blocking factor\":0,\"delay factor\":1.0},\"nameSub\":\"Engineering Exploration I\",\"id\":2071595408,\"credits\":1,\"nameCanonical\":\"\"},{\"curriculum_requisites\":[],\"name\":\"EGR 102\",\"metrics\":{\"centrality\":0,\"complexity\":6.0,\"blocking factor\":3,\"delay factor\":3.0},\"nameSub\":\"Fundamentals of Engineering Computing\",\"id\":502542156,\"credits\":2,\"nameCanonical\":\"\"},{\"curriculum_requisites\":[{\"source_id\":3389674827,\"target_id\":2865398329,\"type\":\"coreq\"}],\"name\":\"PHY 231\",\"metrics\":{\"centrality\":62,\"complexity\":16.0,\"blocking factor\":10,\"delay factor\":6.0},\"nameSub\":\"General University Physics\",\"id\":2865398329,\"credits\":4,\"nameCanonical\":\"\"},{\"curriculum_requisites\":[{\"source_id\":2865398329,\"target_id\":746915474,\"type\":\"coreq\"}],\"name\":\"PHY 241\",\"metrics\":{\"centrality\":0,\"complexity\":3.0,\"blocking factor\":0,\"delay factor\":3.0},\"nameSub\":\"General University Physics Lab\",\"id\":746915474,\"credits\":1,\"nameCanonical\":\"\"},{\"curriculum_requisites\":[],\"name\":\"CIS/WRD 110\",\"metrics\":{\"centrality\":0,\"complexity\":3.0,\"blocking factor\":1,\"delay factor\":2.0},\"nameSub\":\"Composition and Communication I\",\"id\":858428248,\"credits\":3,\"nameCanonical\":\"\"},{\"curriculum_requisites\":[],\"name\":\"MA 113\",\"metrics\":{\"centrality\":0,\"complexity\":23.0,\"blocking factor\":15,\"delay factor\":8.0},\"nameSub\":\"Calculus I\",\"id\":3389674827,\"credits\":4,\"nameCanonical\":\"\"}],\"id\":1},{\"name\":\"Term 2\",\"curriculum_items\":[{\"curriculum_requisites\":[{\"source_id\":502542156,\"target_id\":1123828828,\"type\":\"prereq\"},{\"source_id\":3389674827,\"target_id\":1123828828,\"type\":\"coreq\"},{\"source_id\":2865398329,\"target_id\":1123828828,\"type\":\"coreq\"},{\"source_id\":738464693,\"target_id\":1123828828,\"type\":\"coreq\"}],\"name\":\"EGR 103\",\"metrics\":{\"centrality\":0,\"complexity\":3.0,\"blocking factor\":0,\"delay factor\":3.0},\"nameSub\":\"Engineering Exploration II\",\"id\":1123828828,\"credits\":2,\"nameCanonical\":\"\"},{\"curriculum_requisites\":[{\"source_id\":858428248,\"target_id\":3660518225,\"type\":\"prereq\"}],\"name\":\"CIS/WRD 111\",\"metrics\":{\"centrality\":0,\"complexity\":2.0,\"blocking factor\":0,\"delay factor\":2.0},\"nameSub\":\"Composition and Communication II\",\"id\":3660518225,\"credits\":3,\"nameCanonical\":\"\"},{\"curriculum_requisites\":[{\"source_id\":3389674827,\"target_id\":2966989896,\"type\":\"prereq\"}],\"name\":\"MA 114\",\"metrics\":{\"centrality\":102,\"complexity\":19.0,\"blocking factor\":11,\"delay factor\":8.0},\"nameSub\":\"Calculus II\",\"id\":2966989896,\"credits\":4,\"nameCanonical\":\"\"},{\"curriculum_requisites\":[],\"name\":\"CHE 105\",\"metrics\":{\"centrality\":0,\"complexity\":3.0,\"blocking factor\":1,\"delay factor\":2.0},\"nameSub\":\"General College Chemistry I\",\"id\":738464693,\"credits\":4,\"nameCanonical\":\"\"},{\"curriculum_requisites\":[],\"name\":\" \",\"metrics\":{\"centrality\":0,\"complexity\":1.0,\"blocking factor\":0,\"delay factor\":1.0},\"nameSub\":\"UK Core - Social Sciences\",\"id\":1586162741,\"credits\":3,\"nameCanonical\":\"\"}],\"id\":2},{\"name\":\"Term 3\",\"curriculum_items\":[{\"curriculum_requisites\":[{\"source_id\":2966989896,\"target_id\":2193700744,\"type\":\"prereq\"}],\"name\":\"MA 213\",\"metrics\":{\"centrality\":102,\"complexity\":18.0,\"blocking factor\":10,\"delay factor\":8.0},\"nameSub\":\"Calculus III\",\"id\":2193700744,\"credits\":4,\"nameCanonical\":\"\"},{\"curriculum_requisites\":[{\"source_id\":2865398329,\"target_id\":24551683,\"type\":\"prereq\"},{\"source_id\":2193700744,\"target_id\":24551683,\"type\":\"coreq\"}],\"name\":\"PHY 232\",\"metrics\":{\"centrality\":121,\"complexity\":15.0,\"blocking factor\":7,\"delay factor\":8.0},\"nameSub\":\"General University Physics\",\"id\":24551683,\"credits\":4,\"nameCanonical\":\"\"},{\"curriculum_requisites\":[{\"source_id\":24551683,\"target_id\":4109240503,\"type\":\"coreq\"}],\"name\":\"PHY 242\",\"metrics\":{\"centrality\":60,\"complexity\":14.0,\"blocking factor\":6,\"delay factor\":8.0},\"nameSub\":\"General University Physics Lab\",\"id\":4109240503,\"credits\":1,\"nameCanonical\":\"\"},{\"curriculum_requisites\":[{\"source_id\":24551683,\"target_id\":1017230148,\"type\":\"coreq\"},{\"source_id\":4109240503,\"target_id\":1017230148,\"type\":\"coreq\"}],\"name\":\"EE 211\",\"metrics\":{\"centrality\":112,\"complexity\":13.0,\"blocking factor\":5,\"delay factor\":8.0},\"nameSub\":\"Circuits I\",\"id\":1017230148,\"credits\":4,\"nameCanonical\":\"\"},{\"curriculum_requisites\":[{\"source_id\":502542156,\"target_id\":1416959221,\"type\":\"prereq\"}],\"name\":\"EE 282\",\"metrics\":{\"centrality\":3,\"complexity\":4.0,\"blocking factor\":1,\"delay factor\":3.0},\"nameSub\":\"Digital Logic Design\",\"id\":1416959221,\"credits\":4,\"nameCanonical\":\"\"}],\"id\":3},{\"name\":\"Term 4\",\"curriculum_items\":[{\"curriculum_requisites\":[{\"source_id\":2193700744,\"target_id\":713164423,\"type\":\"prereq\"}],\"name\":\"MA 214\",\"metrics\":{\"centrality\":29,\"complexity\":9.0,\"blocking factor\":5,\"delay factor\":4.0},\"nameSub\":\"Calculus IV\",\"id\":713164423,\"credits\":3,\"nameCanonical\":\"\"},{\"curriculum_requisites\":[{\"source_id\":1017230148,\"target_id\":2281989961,\"type\":\"prereq\"},{\"source_id\":713164423,\"target_id\":2281989961,\"type\":\"coreq\"}],\"name\":\"EE 223\",\"metrics\":{\"centrality\":136,\"complexity\":12.0,\"blocking factor\":4,\"delay factor\":8.0},\"nameSub\":\"AC Circuits\",\"id\":2281989961,\"credits\":4,\"nameCanonical\":\"\"},{\"curriculum_requisites\":[{\"source_id\":1416959221,\"target_id\":1647567702,\"type\":\"prereq\"},{\"source_id\":1332377596,\"target_id\":1647567702,\"type\":\"coreq\"}],\"name\":\"EE 287\",\"metrics\":{\"centrality\":0,\"complexity\":3.0,\"blocking factor\":0,\"delay factor\":3.0},\"nameSub\":\"Intro. to Embedded Systems\",\"id\":1647567702,\"credits\":4,\"nameCanonical\":\"\"},{\"curriculum_requisites\":[],\"name\":\"CS 215\",\"metrics\":{\"centrality\":0,\"complexity\":3.0,\"blocking factor\":1,\"delay factor\":2.0},\"nameSub\":\"Intro. to Program Design Abstraction and Problem Solving\",\"id\":1332377596,\"credits\":4,\"nameCanonical\":\"\"},{\"curriculum_requisites\":[],\"name\":\" \",\"metrics\":{\"centrality\":0,\"complexity\":1.0,\"blocking factor\":0,\"delay factor\":1.0},\"nameSub\":\"UK Core - Humanities\",\"id\":699408466,\"credits\":3,\"nameCanonical\":\"\"}],\"id\":4},{\"name\":\"Term 5\",\"curriculum_items\":[{\"curriculum_requisites\":[{\"source_id\":2281989961,\"target_id\":3945639322,\"type\":\"prereq\"},{\"source_id\":24551683,\"target_id\":3945639322,\"type\":\"prereq\"}],\"name\":\"EE 415G\",\"metrics\":{\"centrality\":0,\"complexity\":8.0,\"blocking factor\":0,\"delay factor\":8.0},\"nameSub\":\"Electromechanics\",\"id\":3945639322,\"credits\":3,\"nameCanonical\":\"\"},{\"curriculum_requisites\":[{\"source_id\":2281989961,\"target_id\":2950065960,\"type\":\"prereq\"},{\"source_id\":713164423,\"target_id\":2950065960,\"type\":\"prereq\"}],\"name\":\"EE 421G\",\"metrics\":{\"centrality\":0,\"complexity\":8.0,\"blocking factor\":0,\"delay factor\":8.0},\"nameSub\":\"Signals & Systems\",\"id\":2950065960,\"credits\":3,\"nameCanonical\":\"\"},{\"curriculum_requisites\":[],\"name\":\" \",\"metrics\":{\"centrality\":0,\"complexity\":1.0,\"blocking factor\":0,\"delay factor\":1.0},\"nameSub\":\"Elective EE Laboratory 1\",\"id\":448709314,\"credits\":2,\"nameCanonical\":\"\"},{\"curriculum_requisites\":[{\"source_id\":2281989961,\"target_id\":16242192,\"type\":\"prereq\"}],\"name\":\"EE 461G\",\"metrics\":{\"centrality\":0,\"complexity\":8.0,\"blocking factor\":0,\"delay factor\":8.0},\"nameSub\":\"Intro. to Electronics\",\"id\":16242192,\"credits\":3,\"nameCanonical\":\"\"},{\"curriculum_requisites\":[{\"source_id\":2193700744,\"target_id\":2756944549,\"type\":\"prereq\"}],\"name\":\"MA 320\",\"metrics\":{\"centrality\":0,\"complexity\":4.0,\"blocking factor\":0,\"delay factor\":4.0},\"nameSub\":\"Introductory Probability\",\"id\":2756944549,\"credits\":3,\"nameCanonical\":\"\"},{\"curriculum_requisites\":[],\"name\":\" \",\"metrics\":{\"centrality\":0,\"complexity\":1.0,\"blocking factor\":0,\"delay factor\":1.0},\"nameSub\":\"Technical Elective 1\",\"id\":3654615878,\"credits\":3,\"nameCanonical\":\"\"}],\"id\":5},{\"name\":\"Term 6\",\"curriculum_items\":[{\"curriculum_requisites\":[{\"source_id\":2281989961,\"target_id\":1400716874,\"type\":\"prereq\"},{\"source_id\":2193700744,\"target_id\":1400716874,\"type\":\"prereq\"}],\"name\":\"EE 468G\",\"metrics\":{\"centrality\":0,\"complexity\":8.0,\"blocking factor\":0,\"delay factor\":8.0},\"nameSub\":\"Intro. to Engineering Electromagnetics\",\"id\":1400716874,\"credits\":4,\"nameCanonical\":\"\"},{\"curriculum_requisites\":[],\"name\":\" \",\"metrics\":{\"centrality\":0,\"complexity\":1.0,\"blocking factor\":0,\"delay factor\":1.0},\"nameSub\":\"Elective EE Laboratory 2\",\"id\":3008452217,\"credits\":2,\"nameCanonical\":\"\"},{\"curriculum_requisites\":[],\"name\":\" \",\"metrics\":{\"centrality\":0,\"complexity\":1.0,\"blocking factor\":0,\"delay factor\":1.0},\"nameSub\":\"Engineering/Science Elective 1\",\"id\":1824271747,\"credits\":3,\"nameCanonical\":\"\"},{\"curriculum_requisites\":[],\"name\":\" \",\"metrics\":{\"centrality\":0,\"complexity\":1.0,\"blocking factor\":0,\"delay factor\":1.0},\"nameSub\":\"Technical Elective 2\",\"id\":3697264218,\"credits\":3,\"nameCanonical\":\"\"},{\"curriculum_requisites\":[],\"name\":\" \",\"metrics\":{\"centrality\":0,\"complexity\":1.0,\"blocking factor\":0,\"delay factor\":1.0},\"nameSub\":\"UK Core - Citizenship - USA\",\"id\":1496407185,\"credits\":3,\"nameCanonical\":\"\"}],\"id\":6},{\"name\":\"Term 7\",\"curriculum_items\":[{\"curriculum_requisites\":[],\"name\":\"EE 490\",\"metrics\":{\"centrality\":0,\"complexity\":3.0,\"blocking factor\":1,\"delay factor\":2.0},\"nameSub\":\"EE Capstone Design\",\"id\":1116551982,\"credits\":3,\"nameCanonical\":\"\"},{\"curriculum_requisites\":[],\"name\":\" \",\"metrics\":{\"centrality\":0,\"complexity\":1.0,\"blocking factor\":0,\"delay factor\":1.0},\"nameSub\":\"EE Technical Elective 1\",\"id\":1373040133,\"credits\":3,\"nameCanonical\":\"\"},{\"curriculum_requisites\":[],\"name\":\" \",\"metrics\":{\"centrality\":0,\"complexity\":1.0,\"blocking factor\":0,\"delay factor\":1.0},\"nameSub\":\"EE Technical Elective 2\",\"id\":2900608954,\"credits\":3,\"nameCanonical\":\"\"},{\"curriculum_requisites\":[],\"name\":\" \",\"metrics\":{\"centrality\":0,\"complexity\":1.0,\"blocking factor\":0,\"delay factor\":1.0},\"nameSub\":\"Math/Statistics Elective\",\"id\":147960851,\"credits\":3,\"nameCanonical\":\"\"},{\"curriculum_requisites\":[],\"name\":\" \",\"metrics\":{\"centrality\":0,\"complexity\":1.0,\"blocking factor\":0,\"delay factor\":1.0},\"nameSub\":\"UK Core - Global Dynamics\",\"id\":819264340,\"credits\":3,\"nameCanonical\":\"\"}],\"id\":7},{\"name\":\"Term 8\",\"curriculum_items\":[{\"curriculum_requisites\":[{\"source_id\":1116551982,\"target_id\":2674820998,\"type\":\"prereq\"}],\"name\":\"EE 491\",\"metrics\":{\"centrality\":0,\"complexity\":2.0,\"blocking factor\":0,\"delay factor\":2.0},\"nameSub\":\"EE Capstone Design\",\"id\":2674820998,\"credits\":3,\"nameCanonical\":\"\"},{\"curriculum_requisites\":[],\"name\":\" \",\"metrics\":{\"centrality\":0,\"complexity\":1.0,\"blocking factor\":0,\"delay factor\":1.0},\"nameSub\":\"EE Technical Elective 3\",\"id\":3472050261,\"credits\":3,\"nameCanonical\":\"\"},{\"curriculum_requisites\":[],\"name\":\" \",\"metrics\":{\"centrality\":0,\"complexity\":1.0,\"blocking factor\":0,\"delay factor\":1.0},\"nameSub\":\"EE Technical Elective 4\",\"id\":3141179749,\"credits\":3,\"nameCanonical\":\"\"},{\"curriculum_requisites\":[],\"name\":\" \",\"metrics\":{\"centrality\":0,\"complexity\":1.0,\"blocking factor\":0,\"delay factor\":1.0},\"nameSub\":\"Supportive Elective\",\"id\":109586583,\"credits\":3,\"nameCanonical\":\"\"},{\"curriculum_requisites\":[],\"name\":\" \",\"metrics\":{\"centrality\":0,\"complexity\":1.0,\"blocking factor\":0,\"delay factor\":1.0},\"nameSub\":\"Engineering/Science Elective 2\",\"id\":1227973603,\"credits\":3,\"nameCanonical\":\"\"},{\"curriculum_requisites\":[],\"name\":\" \",\"metrics\":{\"centrality\":0,\"complexity\":1.0,\"blocking factor\":0,\"delay factor\":1.0},\"nameSub\":\"UK Core - Statistical Inferential Reasoning\",\"id\":599971617,\"credits\":3,\"nameCanonical\":\"\"}],\"id\":8}],\"institution\":\"\"}},\"*\"); window.removeEventListener(\"message\",window.messageReceived); window.messageReceived=(function (event){return (event.data.curriculum!==undefined) ? (WebIO.setval({\"name\":\"curriculum-data\",\"scope\":\"11344860009623050466\",\"id\":\"ob_01\",\"type\":\"observable\"},event.data.curriculum)) : undefined}); return window.addEventListener(\"message\",window.messageReceived)})"
          },
          "id": "curriculum",
          "src": "http://localhost:8156",
          "style": {
           "border": "none",
           "height": "100vh",
           "margin": "0",
           "padding": "0",
           "width": "100%"
          }
         },
         "type": "node"
        }
       ],
       "instanceArgs": {
        "handlers": {},
        "id": "11344860009623050466",
        "imports": {
         "data": [],
         "type": "async_block"
        },
        "mount_callbacks": [],
        "observables": {
         "curriculum-data": {
          "id": "ob_01",
          "sync": true,
          "value": {
           "curriculum": {
            "curriculum_terms": [
             {
              "curriculum_items": [
               {
                "credits": 1,
                "curriculum_requisites": [],
                "id": 2071595408,
                "metrics": {
                 "blocking factor": 0,
                 "centrality": 0,
                 "complexity": 1,
                 "delay factor": 1
                },
                "name": "EGR 101",
                "nameCanonical": "",
                "nameSub": "Engineering Exploration I"
               },
               {
                "credits": 2,
                "curriculum_requisites": [],
                "id": 502542156,
                "metrics": {
                 "blocking factor": 3,
                 "centrality": 0,
                 "complexity": 6,
                 "delay factor": 3
                },
                "name": "EGR 102",
                "nameCanonical": "",
                "nameSub": "Fundamentals of Engineering Computing"
               },
               {
                "credits": 4,
                "curriculum_requisites": [
                 {
                  "source_id": 3389674827,
                  "target_id": 2865398329,
                  "type": "coreq"
                 }
                ],
                "id": 2865398329,
                "metrics": {
                 "blocking factor": 10,
                 "centrality": 62,
                 "complexity": 16,
                 "delay factor": 6
                },
                "name": "PHY 231",
                "nameCanonical": "",
                "nameSub": "General University Physics"
               },
               {
                "credits": 1,
                "curriculum_requisites": [
                 {
                  "source_id": 2865398329,
                  "target_id": 746915474,
                  "type": "coreq"
                 }
                ],
                "id": 746915474,
                "metrics": {
                 "blocking factor": 0,
                 "centrality": 0,
                 "complexity": 3,
                 "delay factor": 3
                },
                "name": "PHY 241",
                "nameCanonical": "",
                "nameSub": "General University Physics Lab"
               },
               {
                "credits": 3,
                "curriculum_requisites": [],
                "id": 858428248,
                "metrics": {
                 "blocking factor": 1,
                 "centrality": 0,
                 "complexity": 3,
                 "delay factor": 2
                },
                "name": "CIS/WRD 110",
                "nameCanonical": "",
                "nameSub": "Composition and Communication I"
               },
               {
                "credits": 4,
                "curriculum_requisites": [],
                "id": 3389674827,
                "metrics": {
                 "blocking factor": 15,
                 "centrality": 0,
                 "complexity": 23,
                 "delay factor": 8
                },
                "name": "MA 113",
                "nameCanonical": "",
                "nameSub": "Calculus I"
               }
              ],
              "id": 1,
              "name": "Term 1"
             },
             {
              "curriculum_items": [
               {
                "credits": 2,
                "curriculum_requisites": [
                 {
                  "source_id": 502542156,
                  "target_id": 1123828828,
                  "type": "prereq"
                 },
                 {
                  "source_id": 3389674827,
                  "target_id": 1123828828,
                  "type": "coreq"
                 },
                 {
                  "source_id": 2865398329,
                  "target_id": 1123828828,
                  "type": "coreq"
                 },
                 {
                  "source_id": 738464693,
                  "target_id": 1123828828,
                  "type": "coreq"
                 }
                ],
                "id": 1123828828,
                "metrics": {
                 "blocking factor": 0,
                 "centrality": 0,
                 "complexity": 3,
                 "delay factor": 3
                },
                "name": "EGR 103",
                "nameCanonical": "",
                "nameSub": "Engineering Exploration II"
               },
               {
                "credits": 3,
                "curriculum_requisites": [
                 {
                  "source_id": 858428248,
                  "target_id": 3660518225,
                  "type": "prereq"
                 }
                ],
                "id": 3660518225,
                "metrics": {
                 "blocking factor": 0,
                 "centrality": 0,
                 "complexity": 2,
                 "delay factor": 2
                },
                "name": "CIS/WRD 111",
                "nameCanonical": "",
                "nameSub": "Composition and Communication II"
               },
               {
                "credits": 4,
                "curriculum_requisites": [
                 {
                  "source_id": 3389674827,
                  "target_id": 2966989896,
                  "type": "prereq"
                 }
                ],
                "id": 2966989896,
                "metrics": {
                 "blocking factor": 11,
                 "centrality": 102,
                 "complexity": 19,
                 "delay factor": 8
                },
                "name": "MA 114",
                "nameCanonical": "",
                "nameSub": "Calculus II"
               },
               {
                "credits": 4,
                "curriculum_requisites": [],
                "id": 738464693,
                "metrics": {
                 "blocking factor": 1,
                 "centrality": 0,
                 "complexity": 3,
                 "delay factor": 2
                },
                "name": "CHE 105",
                "nameCanonical": "",
                "nameSub": "General College Chemistry I"
               },
               {
                "credits": 3,
                "curriculum_requisites": [],
                "id": 1586162741,
                "metrics": {
                 "blocking factor": 0,
                 "centrality": 0,
                 "complexity": 1,
                 "delay factor": 1
                },
                "name": " ",
                "nameCanonical": "",
                "nameSub": "UK Core - Social Sciences"
               }
              ],
              "id": 2,
              "name": "Term 2"
             },
             {
              "curriculum_items": [
               {
                "credits": 4,
                "curriculum_requisites": [
                 {
                  "source_id": 2966989896,
                  "target_id": 2193700744,
                  "type": "prereq"
                 }
                ],
                "id": 2193700744,
                "metrics": {
                 "blocking factor": 10,
                 "centrality": 102,
                 "complexity": 18,
                 "delay factor": 8
                },
                "name": "MA 213",
                "nameCanonical": "",
                "nameSub": "Calculus III"
               },
               {
                "credits": 4,
                "curriculum_requisites": [
                 {
                  "source_id": 2865398329,
                  "target_id": 24551683,
                  "type": "prereq"
                 },
                 {
                  "source_id": 2193700744,
                  "target_id": 24551683,
                  "type": "coreq"
                 }
                ],
                "id": 24551683,
                "metrics": {
                 "blocking factor": 7,
                 "centrality": 121,
                 "complexity": 15,
                 "delay factor": 8
                },
                "name": "PHY 232",
                "nameCanonical": "",
                "nameSub": "General University Physics"
               },
               {
                "credits": 1,
                "curriculum_requisites": [
                 {
                  "source_id": 24551683,
                  "target_id": 4109240503,
                  "type": "coreq"
                 }
                ],
                "id": 4109240503,
                "metrics": {
                 "blocking factor": 6,
                 "centrality": 60,
                 "complexity": 14,
                 "delay factor": 8
                },
                "name": "PHY 242",
                "nameCanonical": "",
                "nameSub": "General University Physics Lab"
               },
               {
                "credits": 4,
                "curriculum_requisites": [
                 {
                  "source_id": 24551683,
                  "target_id": 1017230148,
                  "type": "coreq"
                 },
                 {
                  "source_id": 4109240503,
                  "target_id": 1017230148,
                  "type": "coreq"
                 }
                ],
                "id": 1017230148,
                "metrics": {
                 "blocking factor": 5,
                 "centrality": 112,
                 "complexity": 13,
                 "delay factor": 8
                },
                "name": "EE 211",
                "nameCanonical": "",
                "nameSub": "Circuits I"
               },
               {
                "credits": 4,
                "curriculum_requisites": [
                 {
                  "source_id": 502542156,
                  "target_id": 1416959221,
                  "type": "prereq"
                 }
                ],
                "id": 1416959221,
                "metrics": {
                 "blocking factor": 1,
                 "centrality": 3,
                 "complexity": 4,
                 "delay factor": 3
                },
                "name": "EE 282",
                "nameCanonical": "",
                "nameSub": "Digital Logic Design"
               }
              ],
              "id": 3,
              "name": "Term 3"
             },
             {
              "curriculum_items": [
               {
                "credits": 3,
                "curriculum_requisites": [
                 {
                  "source_id": 2193700744,
                  "target_id": 713164423,
                  "type": "prereq"
                 }
                ],
                "id": 713164423,
                "metrics": {
                 "blocking factor": 5,
                 "centrality": 29,
                 "complexity": 9,
                 "delay factor": 4
                },
                "name": "MA 214",
                "nameCanonical": "",
                "nameSub": "Calculus IV"
               },
               {
                "credits": 4,
                "curriculum_requisites": [
                 {
                  "source_id": 1017230148,
                  "target_id": 2281989961,
                  "type": "prereq"
                 },
                 {
                  "source_id": 713164423,
                  "target_id": 2281989961,
                  "type": "coreq"
                 }
                ],
                "id": 2281989961,
                "metrics": {
                 "blocking factor": 4,
                 "centrality": 136,
                 "complexity": 12,
                 "delay factor": 8
                },
                "name": "EE 223",
                "nameCanonical": "",
                "nameSub": "AC Circuits"
               },
               {
                "credits": 4,
                "curriculum_requisites": [
                 {
                  "source_id": 1416959221,
                  "target_id": 1647567702,
                  "type": "prereq"
                 },
                 {
                  "source_id": 1332377596,
                  "target_id": 1647567702,
                  "type": "coreq"
                 }
                ],
                "id": 1647567702,
                "metrics": {
                 "blocking factor": 0,
                 "centrality": 0,
                 "complexity": 3,
                 "delay factor": 3
                },
                "name": "EE 287",
                "nameCanonical": "",
                "nameSub": "Intro. to Embedded Systems"
               },
               {
                "credits": 4,
                "curriculum_requisites": [],
                "id": 1332377596,
                "metrics": {
                 "blocking factor": 1,
                 "centrality": 0,
                 "complexity": 3,
                 "delay factor": 2
                },
                "name": "CS 215",
                "nameCanonical": "",
                "nameSub": "Intro. to Program Design Abstraction and Problem Solving"
               },
               {
                "credits": 3,
                "curriculum_requisites": [],
                "id": 699408466,
                "metrics": {
                 "blocking factor": 0,
                 "centrality": 0,
                 "complexity": 1,
                 "delay factor": 1
                },
                "name": " ",
                "nameCanonical": "",
                "nameSub": "UK Core - Humanities"
               }
              ],
              "id": 4,
              "name": "Term 4"
             },
             {
              "curriculum_items": [
               {
                "credits": 3,
                "curriculum_requisites": [
                 {
                  "source_id": 2281989961,
                  "target_id": 3945639322,
                  "type": "prereq"
                 },
                 {
                  "source_id": 24551683,
                  "target_id": 3945639322,
                  "type": "prereq"
                 }
                ],
                "id": 3945639322,
                "metrics": {
                 "blocking factor": 0,
                 "centrality": 0,
                 "complexity": 8,
                 "delay factor": 8
                },
                "name": "EE 415G",
                "nameCanonical": "",
                "nameSub": "Electromechanics"
               },
               {
                "credits": 3,
                "curriculum_requisites": [
                 {
                  "source_id": 2281989961,
                  "target_id": 2950065960,
                  "type": "prereq"
                 },
                 {
                  "source_id": 713164423,
                  "target_id": 2950065960,
                  "type": "prereq"
                 }
                ],
                "id": 2950065960,
                "metrics": {
                 "blocking factor": 0,
                 "centrality": 0,
                 "complexity": 8,
                 "delay factor": 8
                },
                "name": "EE 421G",
                "nameCanonical": "",
                "nameSub": "Signals & Systems"
               },
               {
                "credits": 2,
                "curriculum_requisites": [],
                "id": 448709314,
                "metrics": {
                 "blocking factor": 0,
                 "centrality": 0,
                 "complexity": 1,
                 "delay factor": 1
                },
                "name": " ",
                "nameCanonical": "",
                "nameSub": "Elective EE Laboratory 1"
               },
               {
                "credits": 3,
                "curriculum_requisites": [
                 {
                  "source_id": 2281989961,
                  "target_id": 16242192,
                  "type": "prereq"
                 }
                ],
                "id": 16242192,
                "metrics": {
                 "blocking factor": 0,
                 "centrality": 0,
                 "complexity": 8,
                 "delay factor": 8
                },
                "name": "EE 461G",
                "nameCanonical": "",
                "nameSub": "Intro. to Electronics"
               },
               {
                "credits": 3,
                "curriculum_requisites": [
                 {
                  "source_id": 2193700744,
                  "target_id": 2756944549,
                  "type": "prereq"
                 }
                ],
                "id": 2756944549,
                "metrics": {
                 "blocking factor": 0,
                 "centrality": 0,
                 "complexity": 4,
                 "delay factor": 4
                },
                "name": "MA 320",
                "nameCanonical": "",
                "nameSub": "Introductory Probability"
               },
               {
                "credits": 3,
                "curriculum_requisites": [],
                "id": 3654615878,
                "metrics": {
                 "blocking factor": 0,
                 "centrality": 0,
                 "complexity": 1,
                 "delay factor": 1
                },
                "name": " ",
                "nameCanonical": "",
                "nameSub": "Technical Elective 1"
               }
              ],
              "id": 5,
              "name": "Term 5"
             },
             {
              "curriculum_items": [
               {
                "credits": 4,
                "curriculum_requisites": [
                 {
                  "source_id": 2281989961,
                  "target_id": 1400716874,
                  "type": "prereq"
                 },
                 {
                  "source_id": 2193700744,
                  "target_id": 1400716874,
                  "type": "prereq"
                 }
                ],
                "id": 1400716874,
                "metrics": {
                 "blocking factor": 0,
                 "centrality": 0,
                 "complexity": 8,
                 "delay factor": 8
                },
                "name": "EE 468G",
                "nameCanonical": "",
                "nameSub": "Intro. to Engineering Electromagnetics"
               },
               {
                "credits": 2,
                "curriculum_requisites": [],
                "id": 3008452217,
                "metrics": {
                 "blocking factor": 0,
                 "centrality": 0,
                 "complexity": 1,
                 "delay factor": 1
                },
                "name": " ",
                "nameCanonical": "",
                "nameSub": "Elective EE Laboratory 2"
               },
               {
                "credits": 3,
                "curriculum_requisites": [],
                "id": 1824271747,
                "metrics": {
                 "blocking factor": 0,
                 "centrality": 0,
                 "complexity": 1,
                 "delay factor": 1
                },
                "name": " ",
                "nameCanonical": "",
                "nameSub": "Engineering/Science Elective 1"
               },
               {
                "credits": 3,
                "curriculum_requisites": [],
                "id": 3697264218,
                "metrics": {
                 "blocking factor": 0,
                 "centrality": 0,
                 "complexity": 1,
                 "delay factor": 1
                },
                "name": " ",
                "nameCanonical": "",
                "nameSub": "Technical Elective 2"
               },
               {
                "credits": 3,
                "curriculum_requisites": [],
                "id": 1496407185,
                "metrics": {
                 "blocking factor": 0,
                 "centrality": 0,
                 "complexity": 1,
                 "delay factor": 1
                },
                "name": " ",
                "nameCanonical": "",
                "nameSub": "UK Core - Citizenship - USA"
               }
              ],
              "id": 6,
              "name": "Term 6"
             },
             {
              "curriculum_items": [
               {
                "credits": 3,
                "curriculum_requisites": [],
                "id": 1116551982,
                "metrics": {
                 "blocking factor": 1,
                 "centrality": 0,
                 "complexity": 3,
                 "delay factor": 2
                },
                "name": "EE 490",
                "nameCanonical": "",
                "nameSub": "EE Capstone Design"
               },
               {
                "credits": 3,
                "curriculum_requisites": [],
                "id": 1373040133,
                "metrics": {
                 "blocking factor": 0,
                 "centrality": 0,
                 "complexity": 1,
                 "delay factor": 1
                },
                "name": " ",
                "nameCanonical": "",
                "nameSub": "EE Technical Elective 1"
               },
               {
                "credits": 3,
                "curriculum_requisites": [],
                "id": 2900608954,
                "metrics": {
                 "blocking factor": 0,
                 "centrality": 0,
                 "complexity": 1,
                 "delay factor": 1
                },
                "name": " ",
                "nameCanonical": "",
                "nameSub": "EE Technical Elective 2"
               },
               {
                "credits": 3,
                "curriculum_requisites": [],
                "id": 147960851,
                "metrics": {
                 "blocking factor": 0,
                 "centrality": 0,
                 "complexity": 1,
                 "delay factor": 1
                },
                "name": " ",
                "nameCanonical": "",
                "nameSub": "Math/Statistics Elective"
               },
               {
                "credits": 3,
                "curriculum_requisites": [],
                "id": 819264340,
                "metrics": {
                 "blocking factor": 0,
                 "centrality": 0,
                 "complexity": 1,
                 "delay factor": 1
                },
                "name": " ",
                "nameCanonical": "",
                "nameSub": "UK Core - Global Dynamics"
               }
              ],
              "id": 7,
              "name": "Term 7"
             },
             {
              "curriculum_items": [
               {
                "credits": 3,
                "curriculum_requisites": [
                 {
                  "source_id": 1116551982,
                  "target_id": 2674820998,
                  "type": "prereq"
                 }
                ],
                "id": 2674820998,
                "metrics": {
                 "blocking factor": 0,
                 "centrality": 0,
                 "complexity": 2,
                 "delay factor": 2
                },
                "name": "EE 491",
                "nameCanonical": "",
                "nameSub": "EE Capstone Design"
               },
               {
                "credits": 3,
                "curriculum_requisites": [],
                "id": 3472050261,
                "metrics": {
                 "blocking factor": 0,
                 "centrality": 0,
                 "complexity": 1,
                 "delay factor": 1
                },
                "name": " ",
                "nameCanonical": "",
                "nameSub": "EE Technical Elective 3"
               },
               {
                "credits": 3,
                "curriculum_requisites": [],
                "id": 3141179749,
                "metrics": {
                 "blocking factor": 0,
                 "centrality": 0,
                 "complexity": 1,
                 "delay factor": 1
                },
                "name": " ",
                "nameCanonical": "",
                "nameSub": "EE Technical Elective 4"
               },
               {
                "credits": 3,
                "curriculum_requisites": [],
                "id": 109586583,
                "metrics": {
                 "blocking factor": 0,
                 "centrality": 0,
                 "complexity": 1,
                 "delay factor": 1
                },
                "name": " ",
                "nameCanonical": "",
                "nameSub": "Supportive Elective"
               },
               {
                "credits": 3,
                "curriculum_requisites": [],
                "id": 1227973603,
                "metrics": {
                 "blocking factor": 0,
                 "centrality": 0,
                 "complexity": 1,
                 "delay factor": 1
                },
                "name": " ",
                "nameCanonical": "",
                "nameSub": "Engineering/Science Elective 2"
               },
               {
                "credits": 3,
                "curriculum_requisites": [],
                "id": 599971617,
                "metrics": {
                 "blocking factor": 0,
                 "centrality": 0,
                 "complexity": 1,
                 "delay factor": 1
                },
                "name": " ",
                "nameCanonical": "",
                "nameSub": "UK Core - Statistical Inferential Reasoning"
               }
              ],
              "id": 8,
              "name": "Term 8"
             }
            ],
            "dp_name": "University of Kentucky EE Program 4-year Plan",
            "institution": "",
            "name": "University of Kentucky EE Program"
           },
           "options": {
            "edit": false,
            "hideTerms": false
           }
          }
         }
        },
        "systemjs_options": null
       },
       "nodeType": "Scope",
       "props": {},
       "type": "node"
      },
      "text/html": [
       "<div\n",
       "    class=\"webio-mountpoint\"\n",
       "    data-webio-mountpoint=\"2112910533050583595\"\n",
       ">\n",
       "    <script>\n",
       "    if (window.require && require.defined && require.defined(\"nbextensions/webio/main\")) {\n",
       "        console.log(\"Jupyter WebIO extension detected, not mounting.\");\n",
       "    } else if (window.WebIO) {\n",
       "        WebIO.mount(\n",
       "            document.querySelector('[data-webio-mountpoint=\"2112910533050583595\"]'),\n",
       "            {\"props\":{},\"nodeType\":\"Scope\",\"type\":\"node\",\"instanceArgs\":{\"imports\":{\"data\":[],\"type\":\"async_block\"},\"id\":\"11344860009623050466\",\"handlers\":{},\"systemjs_options\":null,\"mount_callbacks\":[],\"observables\":{\"curriculum-data\":{\"sync\":true,\"id\":\"ob_01\",\"value\":{\"options\":{\"hideTerms\":false,\"edit\":false},\"curriculum\":{\"name\":\"University of Kentucky EE Program\",\"dp_name\":\"University of Kentucky EE Program 4-year Plan\",\"curriculum_terms\":[{\"name\":\"Term 1\",\"curriculum_items\":[{\"curriculum_requisites\":[],\"name\":\"EGR 101\",\"metrics\":{\"centrality\":0,\"complexity\":1.0,\"blocking factor\":0,\"delay factor\":1.0},\"nameSub\":\"Engineering Exploration I\",\"id\":2071595408,\"credits\":1,\"nameCanonical\":\"\"},{\"curriculum_requisites\":[],\"name\":\"EGR 102\",\"metrics\":{\"centrality\":0,\"complexity\":6.0,\"blocking factor\":3,\"delay factor\":3.0},\"nameSub\":\"Fundamentals of Engineering Computing\",\"id\":502542156,\"credits\":2,\"nameCanonical\":\"\"},{\"curriculum_requisites\":[{\"source_id\":3389674827,\"target_id\":2865398329,\"type\":\"coreq\"}],\"name\":\"PHY 231\",\"metrics\":{\"centrality\":62,\"complexity\":16.0,\"blocking factor\":10,\"delay factor\":6.0},\"nameSub\":\"General University Physics\",\"id\":2865398329,\"credits\":4,\"nameCanonical\":\"\"},{\"curriculum_requisites\":[{\"source_id\":2865398329,\"target_id\":746915474,\"type\":\"coreq\"}],\"name\":\"PHY 241\",\"metrics\":{\"centrality\":0,\"complexity\":3.0,\"blocking factor\":0,\"delay factor\":3.0},\"nameSub\":\"General University Physics Lab\",\"id\":746915474,\"credits\":1,\"nameCanonical\":\"\"},{\"curriculum_requisites\":[],\"name\":\"CIS\\/WRD 110\",\"metrics\":{\"centrality\":0,\"complexity\":3.0,\"blocking factor\":1,\"delay factor\":2.0},\"nameSub\":\"Composition and Communication I\",\"id\":858428248,\"credits\":3,\"nameCanonical\":\"\"},{\"curriculum_requisites\":[],\"name\":\"MA 113\",\"metrics\":{\"centrality\":0,\"complexity\":23.0,\"blocking factor\":15,\"delay factor\":8.0},\"nameSub\":\"Calculus I\",\"id\":3389674827,\"credits\":4,\"nameCanonical\":\"\"}],\"id\":1},{\"name\":\"Term 2\",\"curriculum_items\":[{\"curriculum_requisites\":[{\"source_id\":502542156,\"target_id\":1123828828,\"type\":\"prereq\"},{\"source_id\":3389674827,\"target_id\":1123828828,\"type\":\"coreq\"},{\"source_id\":2865398329,\"target_id\":1123828828,\"type\":\"coreq\"},{\"source_id\":738464693,\"target_id\":1123828828,\"type\":\"coreq\"}],\"name\":\"EGR 103\",\"metrics\":{\"centrality\":0,\"complexity\":3.0,\"blocking factor\":0,\"delay factor\":3.0},\"nameSub\":\"Engineering Exploration II\",\"id\":1123828828,\"credits\":2,\"nameCanonical\":\"\"},{\"curriculum_requisites\":[{\"source_id\":858428248,\"target_id\":3660518225,\"type\":\"prereq\"}],\"name\":\"CIS\\/WRD 111\",\"metrics\":{\"centrality\":0,\"complexity\":2.0,\"blocking factor\":0,\"delay factor\":2.0},\"nameSub\":\"Composition and Communication II\",\"id\":3660518225,\"credits\":3,\"nameCanonical\":\"\"},{\"curriculum_requisites\":[{\"source_id\":3389674827,\"target_id\":2966989896,\"type\":\"prereq\"}],\"name\":\"MA 114\",\"metrics\":{\"centrality\":102,\"complexity\":19.0,\"blocking factor\":11,\"delay factor\":8.0},\"nameSub\":\"Calculus II\",\"id\":2966989896,\"credits\":4,\"nameCanonical\":\"\"},{\"curriculum_requisites\":[],\"name\":\"CHE 105\",\"metrics\":{\"centrality\":0,\"complexity\":3.0,\"blocking factor\":1,\"delay factor\":2.0},\"nameSub\":\"General College Chemistry I\",\"id\":738464693,\"credits\":4,\"nameCanonical\":\"\"},{\"curriculum_requisites\":[],\"name\":\" \",\"metrics\":{\"centrality\":0,\"complexity\":1.0,\"blocking factor\":0,\"delay factor\":1.0},\"nameSub\":\"UK Core - Social Sciences\",\"id\":1586162741,\"credits\":3,\"nameCanonical\":\"\"}],\"id\":2},{\"name\":\"Term 3\",\"curriculum_items\":[{\"curriculum_requisites\":[{\"source_id\":2966989896,\"target_id\":2193700744,\"type\":\"prereq\"}],\"name\":\"MA 213\",\"metrics\":{\"centrality\":102,\"complexity\":18.0,\"blocking factor\":10,\"delay factor\":8.0},\"nameSub\":\"Calculus III\",\"id\":2193700744,\"credits\":4,\"nameCanonical\":\"\"},{\"curriculum_requisites\":[{\"source_id\":2865398329,\"target_id\":24551683,\"type\":\"prereq\"},{\"source_id\":2193700744,\"target_id\":24551683,\"type\":\"coreq\"}],\"name\":\"PHY 232\",\"metrics\":{\"centrality\":121,\"complexity\":15.0,\"blocking factor\":7,\"delay factor\":8.0},\"nameSub\":\"General University Physics\",\"id\":24551683,\"credits\":4,\"nameCanonical\":\"\"},{\"curriculum_requisites\":[{\"source_id\":24551683,\"target_id\":4109240503,\"type\":\"coreq\"}],\"name\":\"PHY 242\",\"metrics\":{\"centrality\":60,\"complexity\":14.0,\"blocking factor\":6,\"delay factor\":8.0},\"nameSub\":\"General University Physics Lab\",\"id\":4109240503,\"credits\":1,\"nameCanonical\":\"\"},{\"curriculum_requisites\":[{\"source_id\":24551683,\"target_id\":1017230148,\"type\":\"coreq\"},{\"source_id\":4109240503,\"target_id\":1017230148,\"type\":\"coreq\"}],\"name\":\"EE 211\",\"metrics\":{\"centrality\":112,\"complexity\":13.0,\"blocking factor\":5,\"delay factor\":8.0},\"nameSub\":\"Circuits I\",\"id\":1017230148,\"credits\":4,\"nameCanonical\":\"\"},{\"curriculum_requisites\":[{\"source_id\":502542156,\"target_id\":1416959221,\"type\":\"prereq\"}],\"name\":\"EE 282\",\"metrics\":{\"centrality\":3,\"complexity\":4.0,\"blocking factor\":1,\"delay factor\":3.0},\"nameSub\":\"Digital Logic Design\",\"id\":1416959221,\"credits\":4,\"nameCanonical\":\"\"}],\"id\":3},{\"name\":\"Term 4\",\"curriculum_items\":[{\"curriculum_requisites\":[{\"source_id\":2193700744,\"target_id\":713164423,\"type\":\"prereq\"}],\"name\":\"MA 214\",\"metrics\":{\"centrality\":29,\"complexity\":9.0,\"blocking factor\":5,\"delay factor\":4.0},\"nameSub\":\"Calculus IV\",\"id\":713164423,\"credits\":3,\"nameCanonical\":\"\"},{\"curriculum_requisites\":[{\"source_id\":1017230148,\"target_id\":2281989961,\"type\":\"prereq\"},{\"source_id\":713164423,\"target_id\":2281989961,\"type\":\"coreq\"}],\"name\":\"EE 223\",\"metrics\":{\"centrality\":136,\"complexity\":12.0,\"blocking factor\":4,\"delay factor\":8.0},\"nameSub\":\"AC Circuits\",\"id\":2281989961,\"credits\":4,\"nameCanonical\":\"\"},{\"curriculum_requisites\":[{\"source_id\":1416959221,\"target_id\":1647567702,\"type\":\"prereq\"},{\"source_id\":1332377596,\"target_id\":1647567702,\"type\":\"coreq\"}],\"name\":\"EE 287\",\"metrics\":{\"centrality\":0,\"complexity\":3.0,\"blocking factor\":0,\"delay factor\":3.0},\"nameSub\":\"Intro. to Embedded Systems\",\"id\":1647567702,\"credits\":4,\"nameCanonical\":\"\"},{\"curriculum_requisites\":[],\"name\":\"CS 215\",\"metrics\":{\"centrality\":0,\"complexity\":3.0,\"blocking factor\":1,\"delay factor\":2.0},\"nameSub\":\"Intro. to Program Design Abstraction and Problem Solving\",\"id\":1332377596,\"credits\":4,\"nameCanonical\":\"\"},{\"curriculum_requisites\":[],\"name\":\" \",\"metrics\":{\"centrality\":0,\"complexity\":1.0,\"blocking factor\":0,\"delay factor\":1.0},\"nameSub\":\"UK Core - Humanities\",\"id\":699408466,\"credits\":3,\"nameCanonical\":\"\"}],\"id\":4},{\"name\":\"Term 5\",\"curriculum_items\":[{\"curriculum_requisites\":[{\"source_id\":2281989961,\"target_id\":3945639322,\"type\":\"prereq\"},{\"source_id\":24551683,\"target_id\":3945639322,\"type\":\"prereq\"}],\"name\":\"EE 415G\",\"metrics\":{\"centrality\":0,\"complexity\":8.0,\"blocking factor\":0,\"delay factor\":8.0},\"nameSub\":\"Electromechanics\",\"id\":3945639322,\"credits\":3,\"nameCanonical\":\"\"},{\"curriculum_requisites\":[{\"source_id\":2281989961,\"target_id\":2950065960,\"type\":\"prereq\"},{\"source_id\":713164423,\"target_id\":2950065960,\"type\":\"prereq\"}],\"name\":\"EE 421G\",\"metrics\":{\"centrality\":0,\"complexity\":8.0,\"blocking factor\":0,\"delay factor\":8.0},\"nameSub\":\"Signals & Systems\",\"id\":2950065960,\"credits\":3,\"nameCanonical\":\"\"},{\"curriculum_requisites\":[],\"name\":\" \",\"metrics\":{\"centrality\":0,\"complexity\":1.0,\"blocking factor\":0,\"delay factor\":1.0},\"nameSub\":\"Elective EE Laboratory 1\",\"id\":448709314,\"credits\":2,\"nameCanonical\":\"\"},{\"curriculum_requisites\":[{\"source_id\":2281989961,\"target_id\":16242192,\"type\":\"prereq\"}],\"name\":\"EE 461G\",\"metrics\":{\"centrality\":0,\"complexity\":8.0,\"blocking factor\":0,\"delay factor\":8.0},\"nameSub\":\"Intro. to Electronics\",\"id\":16242192,\"credits\":3,\"nameCanonical\":\"\"},{\"curriculum_requisites\":[{\"source_id\":2193700744,\"target_id\":2756944549,\"type\":\"prereq\"}],\"name\":\"MA 320\",\"metrics\":{\"centrality\":0,\"complexity\":4.0,\"blocking factor\":0,\"delay factor\":4.0},\"nameSub\":\"Introductory Probability\",\"id\":2756944549,\"credits\":3,\"nameCanonical\":\"\"},{\"curriculum_requisites\":[],\"name\":\" \",\"metrics\":{\"centrality\":0,\"complexity\":1.0,\"blocking factor\":0,\"delay factor\":1.0},\"nameSub\":\"Technical Elective 1\",\"id\":3654615878,\"credits\":3,\"nameCanonical\":\"\"}],\"id\":5},{\"name\":\"Term 6\",\"curriculum_items\":[{\"curriculum_requisites\":[{\"source_id\":2281989961,\"target_id\":1400716874,\"type\":\"prereq\"},{\"source_id\":2193700744,\"target_id\":1400716874,\"type\":\"prereq\"}],\"name\":\"EE 468G\",\"metrics\":{\"centrality\":0,\"complexity\":8.0,\"blocking factor\":0,\"delay factor\":8.0},\"nameSub\":\"Intro. to Engineering Electromagnetics\",\"id\":1400716874,\"credits\":4,\"nameCanonical\":\"\"},{\"curriculum_requisites\":[],\"name\":\" \",\"metrics\":{\"centrality\":0,\"complexity\":1.0,\"blocking factor\":0,\"delay factor\":1.0},\"nameSub\":\"Elective EE Laboratory 2\",\"id\":3008452217,\"credits\":2,\"nameCanonical\":\"\"},{\"curriculum_requisites\":[],\"name\":\" \",\"metrics\":{\"centrality\":0,\"complexity\":1.0,\"blocking factor\":0,\"delay factor\":1.0},\"nameSub\":\"Engineering\\/Science Elective 1\",\"id\":1824271747,\"credits\":3,\"nameCanonical\":\"\"},{\"curriculum_requisites\":[],\"name\":\" \",\"metrics\":{\"centrality\":0,\"complexity\":1.0,\"blocking factor\":0,\"delay factor\":1.0},\"nameSub\":\"Technical Elective 2\",\"id\":3697264218,\"credits\":3,\"nameCanonical\":\"\"},{\"curriculum_requisites\":[],\"name\":\" \",\"metrics\":{\"centrality\":0,\"complexity\":1.0,\"blocking factor\":0,\"delay factor\":1.0},\"nameSub\":\"UK Core - Citizenship - USA\",\"id\":1496407185,\"credits\":3,\"nameCanonical\":\"\"}],\"id\":6},{\"name\":\"Term 7\",\"curriculum_items\":[{\"curriculum_requisites\":[],\"name\":\"EE 490\",\"metrics\":{\"centrality\":0,\"complexity\":3.0,\"blocking factor\":1,\"delay factor\":2.0},\"nameSub\":\"EE Capstone Design\",\"id\":1116551982,\"credits\":3,\"nameCanonical\":\"\"},{\"curriculum_requisites\":[],\"name\":\" \",\"metrics\":{\"centrality\":0,\"complexity\":1.0,\"blocking factor\":0,\"delay factor\":1.0},\"nameSub\":\"EE Technical Elective 1\",\"id\":1373040133,\"credits\":3,\"nameCanonical\":\"\"},{\"curriculum_requisites\":[],\"name\":\" \",\"metrics\":{\"centrality\":0,\"complexity\":1.0,\"blocking factor\":0,\"delay factor\":1.0},\"nameSub\":\"EE Technical Elective 2\",\"id\":2900608954,\"credits\":3,\"nameCanonical\":\"\"},{\"curriculum_requisites\":[],\"name\":\" \",\"metrics\":{\"centrality\":0,\"complexity\":1.0,\"blocking factor\":0,\"delay factor\":1.0},\"nameSub\":\"Math\\/Statistics Elective\",\"id\":147960851,\"credits\":3,\"nameCanonical\":\"\"},{\"curriculum_requisites\":[],\"name\":\" \",\"metrics\":{\"centrality\":0,\"complexity\":1.0,\"blocking factor\":0,\"delay factor\":1.0},\"nameSub\":\"UK Core - Global Dynamics\",\"id\":819264340,\"credits\":3,\"nameCanonical\":\"\"}],\"id\":7},{\"name\":\"Term 8\",\"curriculum_items\":[{\"curriculum_requisites\":[{\"source_id\":1116551982,\"target_id\":2674820998,\"type\":\"prereq\"}],\"name\":\"EE 491\",\"metrics\":{\"centrality\":0,\"complexity\":2.0,\"blocking factor\":0,\"delay factor\":2.0},\"nameSub\":\"EE Capstone Design\",\"id\":2674820998,\"credits\":3,\"nameCanonical\":\"\"},{\"curriculum_requisites\":[],\"name\":\" \",\"metrics\":{\"centrality\":0,\"complexity\":1.0,\"blocking factor\":0,\"delay factor\":1.0},\"nameSub\":\"EE Technical Elective 3\",\"id\":3472050261,\"credits\":3,\"nameCanonical\":\"\"},{\"curriculum_requisites\":[],\"name\":\" \",\"metrics\":{\"centrality\":0,\"complexity\":1.0,\"blocking factor\":0,\"delay factor\":1.0},\"nameSub\":\"EE Technical Elective 4\",\"id\":3141179749,\"credits\":3,\"nameCanonical\":\"\"},{\"curriculum_requisites\":[],\"name\":\" \",\"metrics\":{\"centrality\":0,\"complexity\":1.0,\"blocking factor\":0,\"delay factor\":1.0},\"nameSub\":\"Supportive Elective\",\"id\":109586583,\"credits\":3,\"nameCanonical\":\"\"},{\"curriculum_requisites\":[],\"name\":\" \",\"metrics\":{\"centrality\":0,\"complexity\":1.0,\"blocking factor\":0,\"delay factor\":1.0},\"nameSub\":\"Engineering\\/Science Elective 2\",\"id\":1227973603,\"credits\":3,\"nameCanonical\":\"\"},{\"curriculum_requisites\":[],\"name\":\" \",\"metrics\":{\"centrality\":0,\"complexity\":1.0,\"blocking factor\":0,\"delay factor\":1.0},\"nameSub\":\"UK Core - Statistical Inferential Reasoning\",\"id\":599971617,\"credits\":3,\"nameCanonical\":\"\"}],\"id\":8}],\"institution\":\"\"}}}}},\"children\":[{\"props\":{\"src\":\"http:\\/\\/localhost:8156\",\"id\":\"curriculum\",\"events\":{\"load\":\"(function (){this.contentWindow.postMessage({\\\"options\\\":{\\\"hideTerms\\\":false,\\\"edit\\\":false},\\\"curriculum\\\":{\\\"name\\\":\\\"University of Kentucky EE Program\\\",\\\"dp_name\\\":\\\"University of Kentucky EE Program 4-year Plan\\\",\\\"curriculum_terms\\\":[{\\\"name\\\":\\\"Term 1\\\",\\\"curriculum_items\\\":[{\\\"curriculum_requisites\\\":[],\\\"name\\\":\\\"EGR 101\\\",\\\"metrics\\\":{\\\"centrality\\\":0,\\\"complexity\\\":1.0,\\\"blocking factor\\\":0,\\\"delay factor\\\":1.0},\\\"nameSub\\\":\\\"Engineering Exploration I\\\",\\\"id\\\":2071595408,\\\"credits\\\":1,\\\"nameCanonical\\\":\\\"\\\"},{\\\"curriculum_requisites\\\":[],\\\"name\\\":\\\"EGR 102\\\",\\\"metrics\\\":{\\\"centrality\\\":0,\\\"complexity\\\":6.0,\\\"blocking factor\\\":3,\\\"delay factor\\\":3.0},\\\"nameSub\\\":\\\"Fundamentals of Engineering Computing\\\",\\\"id\\\":502542156,\\\"credits\\\":2,\\\"nameCanonical\\\":\\\"\\\"},{\\\"curriculum_requisites\\\":[{\\\"source_id\\\":3389674827,\\\"target_id\\\":2865398329,\\\"type\\\":\\\"coreq\\\"}],\\\"name\\\":\\\"PHY 231\\\",\\\"metrics\\\":{\\\"centrality\\\":62,\\\"complexity\\\":16.0,\\\"blocking factor\\\":10,\\\"delay factor\\\":6.0},\\\"nameSub\\\":\\\"General University Physics\\\",\\\"id\\\":2865398329,\\\"credits\\\":4,\\\"nameCanonical\\\":\\\"\\\"},{\\\"curriculum_requisites\\\":[{\\\"source_id\\\":2865398329,\\\"target_id\\\":746915474,\\\"type\\\":\\\"coreq\\\"}],\\\"name\\\":\\\"PHY 241\\\",\\\"metrics\\\":{\\\"centrality\\\":0,\\\"complexity\\\":3.0,\\\"blocking factor\\\":0,\\\"delay factor\\\":3.0},\\\"nameSub\\\":\\\"General University Physics Lab\\\",\\\"id\\\":746915474,\\\"credits\\\":1,\\\"nameCanonical\\\":\\\"\\\"},{\\\"curriculum_requisites\\\":[],\\\"name\\\":\\\"CIS\\/WRD 110\\\",\\\"metrics\\\":{\\\"centrality\\\":0,\\\"complexity\\\":3.0,\\\"blocking factor\\\":1,\\\"delay factor\\\":2.0},\\\"nameSub\\\":\\\"Composition and Communication I\\\",\\\"id\\\":858428248,\\\"credits\\\":3,\\\"nameCanonical\\\":\\\"\\\"},{\\\"curriculum_requisites\\\":[],\\\"name\\\":\\\"MA 113\\\",\\\"metrics\\\":{\\\"centrality\\\":0,\\\"complexity\\\":23.0,\\\"blocking factor\\\":15,\\\"delay factor\\\":8.0},\\\"nameSub\\\":\\\"Calculus I\\\",\\\"id\\\":3389674827,\\\"credits\\\":4,\\\"nameCanonical\\\":\\\"\\\"}],\\\"id\\\":1},{\\\"name\\\":\\\"Term 2\\\",\\\"curriculum_items\\\":[{\\\"curriculum_requisites\\\":[{\\\"source_id\\\":502542156,\\\"target_id\\\":1123828828,\\\"type\\\":\\\"prereq\\\"},{\\\"source_id\\\":3389674827,\\\"target_id\\\":1123828828,\\\"type\\\":\\\"coreq\\\"},{\\\"source_id\\\":2865398329,\\\"target_id\\\":1123828828,\\\"type\\\":\\\"coreq\\\"},{\\\"source_id\\\":738464693,\\\"target_id\\\":1123828828,\\\"type\\\":\\\"coreq\\\"}],\\\"name\\\":\\\"EGR 103\\\",\\\"metrics\\\":{\\\"centrality\\\":0,\\\"complexity\\\":3.0,\\\"blocking factor\\\":0,\\\"delay factor\\\":3.0},\\\"nameSub\\\":\\\"Engineering Exploration II\\\",\\\"id\\\":1123828828,\\\"credits\\\":2,\\\"nameCanonical\\\":\\\"\\\"},{\\\"curriculum_requisites\\\":[{\\\"source_id\\\":858428248,\\\"target_id\\\":3660518225,\\\"type\\\":\\\"prereq\\\"}],\\\"name\\\":\\\"CIS\\/WRD 111\\\",\\\"metrics\\\":{\\\"centrality\\\":0,\\\"complexity\\\":2.0,\\\"blocking factor\\\":0,\\\"delay factor\\\":2.0},\\\"nameSub\\\":\\\"Composition and Communication II\\\",\\\"id\\\":3660518225,\\\"credits\\\":3,\\\"nameCanonical\\\":\\\"\\\"},{\\\"curriculum_requisites\\\":[{\\\"source_id\\\":3389674827,\\\"target_id\\\":2966989896,\\\"type\\\":\\\"prereq\\\"}],\\\"name\\\":\\\"MA 114\\\",\\\"metrics\\\":{\\\"centrality\\\":102,\\\"complexity\\\":19.0,\\\"blocking factor\\\":11,\\\"delay factor\\\":8.0},\\\"nameSub\\\":\\\"Calculus II\\\",\\\"id\\\":2966989896,\\\"credits\\\":4,\\\"nameCanonical\\\":\\\"\\\"},{\\\"curriculum_requisites\\\":[],\\\"name\\\":\\\"CHE 105\\\",\\\"metrics\\\":{\\\"centrality\\\":0,\\\"complexity\\\":3.0,\\\"blocking factor\\\":1,\\\"delay factor\\\":2.0},\\\"nameSub\\\":\\\"General College Chemistry I\\\",\\\"id\\\":738464693,\\\"credits\\\":4,\\\"nameCanonical\\\":\\\"\\\"},{\\\"curriculum_requisites\\\":[],\\\"name\\\":\\\" \\\",\\\"metrics\\\":{\\\"centrality\\\":0,\\\"complexity\\\":1.0,\\\"blocking factor\\\":0,\\\"delay factor\\\":1.0},\\\"nameSub\\\":\\\"UK Core - Social Sciences\\\",\\\"id\\\":1586162741,\\\"credits\\\":3,\\\"nameCanonical\\\":\\\"\\\"}],\\\"id\\\":2},{\\\"name\\\":\\\"Term 3\\\",\\\"curriculum_items\\\":[{\\\"curriculum_requisites\\\":[{\\\"source_id\\\":2966989896,\\\"target_id\\\":2193700744,\\\"type\\\":\\\"prereq\\\"}],\\\"name\\\":\\\"MA 213\\\",\\\"metrics\\\":{\\\"centrality\\\":102,\\\"complexity\\\":18.0,\\\"blocking factor\\\":10,\\\"delay factor\\\":8.0},\\\"nameSub\\\":\\\"Calculus III\\\",\\\"id\\\":2193700744,\\\"credits\\\":4,\\\"nameCanonical\\\":\\\"\\\"},{\\\"curriculum_requisites\\\":[{\\\"source_id\\\":2865398329,\\\"target_id\\\":24551683,\\\"type\\\":\\\"prereq\\\"},{\\\"source_id\\\":2193700744,\\\"target_id\\\":24551683,\\\"type\\\":\\\"coreq\\\"}],\\\"name\\\":\\\"PHY 232\\\",\\\"metrics\\\":{\\\"centrality\\\":121,\\\"complexity\\\":15.0,\\\"blocking factor\\\":7,\\\"delay factor\\\":8.0},\\\"nameSub\\\":\\\"General University Physics\\\",\\\"id\\\":24551683,\\\"credits\\\":4,\\\"nameCanonical\\\":\\\"\\\"},{\\\"curriculum_requisites\\\":[{\\\"source_id\\\":24551683,\\\"target_id\\\":4109240503,\\\"type\\\":\\\"coreq\\\"}],\\\"name\\\":\\\"PHY 242\\\",\\\"metrics\\\":{\\\"centrality\\\":60,\\\"complexity\\\":14.0,\\\"blocking factor\\\":6,\\\"delay factor\\\":8.0},\\\"nameSub\\\":\\\"General University Physics Lab\\\",\\\"id\\\":4109240503,\\\"credits\\\":1,\\\"nameCanonical\\\":\\\"\\\"},{\\\"curriculum_requisites\\\":[{\\\"source_id\\\":24551683,\\\"target_id\\\":1017230148,\\\"type\\\":\\\"coreq\\\"},{\\\"source_id\\\":4109240503,\\\"target_id\\\":1017230148,\\\"type\\\":\\\"coreq\\\"}],\\\"name\\\":\\\"EE 211\\\",\\\"metrics\\\":{\\\"centrality\\\":112,\\\"complexity\\\":13.0,\\\"blocking factor\\\":5,\\\"delay factor\\\":8.0},\\\"nameSub\\\":\\\"Circuits I\\\",\\\"id\\\":1017230148,\\\"credits\\\":4,\\\"nameCanonical\\\":\\\"\\\"},{\\\"curriculum_requisites\\\":[{\\\"source_id\\\":502542156,\\\"target_id\\\":1416959221,\\\"type\\\":\\\"prereq\\\"}],\\\"name\\\":\\\"EE 282\\\",\\\"metrics\\\":{\\\"centrality\\\":3,\\\"complexity\\\":4.0,\\\"blocking factor\\\":1,\\\"delay factor\\\":3.0},\\\"nameSub\\\":\\\"Digital Logic Design\\\",\\\"id\\\":1416959221,\\\"credits\\\":4,\\\"nameCanonical\\\":\\\"\\\"}],\\\"id\\\":3},{\\\"name\\\":\\\"Term 4\\\",\\\"curriculum_items\\\":[{\\\"curriculum_requisites\\\":[{\\\"source_id\\\":2193700744,\\\"target_id\\\":713164423,\\\"type\\\":\\\"prereq\\\"}],\\\"name\\\":\\\"MA 214\\\",\\\"metrics\\\":{\\\"centrality\\\":29,\\\"complexity\\\":9.0,\\\"blocking factor\\\":5,\\\"delay factor\\\":4.0},\\\"nameSub\\\":\\\"Calculus IV\\\",\\\"id\\\":713164423,\\\"credits\\\":3,\\\"nameCanonical\\\":\\\"\\\"},{\\\"curriculum_requisites\\\":[{\\\"source_id\\\":1017230148,\\\"target_id\\\":2281989961,\\\"type\\\":\\\"prereq\\\"},{\\\"source_id\\\":713164423,\\\"target_id\\\":2281989961,\\\"type\\\":\\\"coreq\\\"}],\\\"name\\\":\\\"EE 223\\\",\\\"metrics\\\":{\\\"centrality\\\":136,\\\"complexity\\\":12.0,\\\"blocking factor\\\":4,\\\"delay factor\\\":8.0},\\\"nameSub\\\":\\\"AC Circuits\\\",\\\"id\\\":2281989961,\\\"credits\\\":4,\\\"nameCanonical\\\":\\\"\\\"},{\\\"curriculum_requisites\\\":[{\\\"source_id\\\":1416959221,\\\"target_id\\\":1647567702,\\\"type\\\":\\\"prereq\\\"},{\\\"source_id\\\":1332377596,\\\"target_id\\\":1647567702,\\\"type\\\":\\\"coreq\\\"}],\\\"name\\\":\\\"EE 287\\\",\\\"metrics\\\":{\\\"centrality\\\":0,\\\"complexity\\\":3.0,\\\"blocking factor\\\":0,\\\"delay factor\\\":3.0},\\\"nameSub\\\":\\\"Intro. to Embedded Systems\\\",\\\"id\\\":1647567702,\\\"credits\\\":4,\\\"nameCanonical\\\":\\\"\\\"},{\\\"curriculum_requisites\\\":[],\\\"name\\\":\\\"CS 215\\\",\\\"metrics\\\":{\\\"centrality\\\":0,\\\"complexity\\\":3.0,\\\"blocking factor\\\":1,\\\"delay factor\\\":2.0},\\\"nameSub\\\":\\\"Intro. to Program Design Abstraction and Problem Solving\\\",\\\"id\\\":1332377596,\\\"credits\\\":4,\\\"nameCanonical\\\":\\\"\\\"},{\\\"curriculum_requisites\\\":[],\\\"name\\\":\\\" \\\",\\\"metrics\\\":{\\\"centrality\\\":0,\\\"complexity\\\":1.0,\\\"blocking factor\\\":0,\\\"delay factor\\\":1.0},\\\"nameSub\\\":\\\"UK Core - Humanities\\\",\\\"id\\\":699408466,\\\"credits\\\":3,\\\"nameCanonical\\\":\\\"\\\"}],\\\"id\\\":4},{\\\"name\\\":\\\"Term 5\\\",\\\"curriculum_items\\\":[{\\\"curriculum_requisites\\\":[{\\\"source_id\\\":2281989961,\\\"target_id\\\":3945639322,\\\"type\\\":\\\"prereq\\\"},{\\\"source_id\\\":24551683,\\\"target_id\\\":3945639322,\\\"type\\\":\\\"prereq\\\"}],\\\"name\\\":\\\"EE 415G\\\",\\\"metrics\\\":{\\\"centrality\\\":0,\\\"complexity\\\":8.0,\\\"blocking factor\\\":0,\\\"delay factor\\\":8.0},\\\"nameSub\\\":\\\"Electromechanics\\\",\\\"id\\\":3945639322,\\\"credits\\\":3,\\\"nameCanonical\\\":\\\"\\\"},{\\\"curriculum_requisites\\\":[{\\\"source_id\\\":2281989961,\\\"target_id\\\":2950065960,\\\"type\\\":\\\"prereq\\\"},{\\\"source_id\\\":713164423,\\\"target_id\\\":2950065960,\\\"type\\\":\\\"prereq\\\"}],\\\"name\\\":\\\"EE 421G\\\",\\\"metrics\\\":{\\\"centrality\\\":0,\\\"complexity\\\":8.0,\\\"blocking factor\\\":0,\\\"delay factor\\\":8.0},\\\"nameSub\\\":\\\"Signals & Systems\\\",\\\"id\\\":2950065960,\\\"credits\\\":3,\\\"nameCanonical\\\":\\\"\\\"},{\\\"curriculum_requisites\\\":[],\\\"name\\\":\\\" \\\",\\\"metrics\\\":{\\\"centrality\\\":0,\\\"complexity\\\":1.0,\\\"blocking factor\\\":0,\\\"delay factor\\\":1.0},\\\"nameSub\\\":\\\"Elective EE Laboratory 1\\\",\\\"id\\\":448709314,\\\"credits\\\":2,\\\"nameCanonical\\\":\\\"\\\"},{\\\"curriculum_requisites\\\":[{\\\"source_id\\\":2281989961,\\\"target_id\\\":16242192,\\\"type\\\":\\\"prereq\\\"}],\\\"name\\\":\\\"EE 461G\\\",\\\"metrics\\\":{\\\"centrality\\\":0,\\\"complexity\\\":8.0,\\\"blocking factor\\\":0,\\\"delay factor\\\":8.0},\\\"nameSub\\\":\\\"Intro. to Electronics\\\",\\\"id\\\":16242192,\\\"credits\\\":3,\\\"nameCanonical\\\":\\\"\\\"},{\\\"curriculum_requisites\\\":[{\\\"source_id\\\":2193700744,\\\"target_id\\\":2756944549,\\\"type\\\":\\\"prereq\\\"}],\\\"name\\\":\\\"MA 320\\\",\\\"metrics\\\":{\\\"centrality\\\":0,\\\"complexity\\\":4.0,\\\"blocking factor\\\":0,\\\"delay factor\\\":4.0},\\\"nameSub\\\":\\\"Introductory Probability\\\",\\\"id\\\":2756944549,\\\"credits\\\":3,\\\"nameCanonical\\\":\\\"\\\"},{\\\"curriculum_requisites\\\":[],\\\"name\\\":\\\" \\\",\\\"metrics\\\":{\\\"centrality\\\":0,\\\"complexity\\\":1.0,\\\"blocking factor\\\":0,\\\"delay factor\\\":1.0},\\\"nameSub\\\":\\\"Technical Elective 1\\\",\\\"id\\\":3654615878,\\\"credits\\\":3,\\\"nameCanonical\\\":\\\"\\\"}],\\\"id\\\":5},{\\\"name\\\":\\\"Term 6\\\",\\\"curriculum_items\\\":[{\\\"curriculum_requisites\\\":[{\\\"source_id\\\":2281989961,\\\"target_id\\\":1400716874,\\\"type\\\":\\\"prereq\\\"},{\\\"source_id\\\":2193700744,\\\"target_id\\\":1400716874,\\\"type\\\":\\\"prereq\\\"}],\\\"name\\\":\\\"EE 468G\\\",\\\"metrics\\\":{\\\"centrality\\\":0,\\\"complexity\\\":8.0,\\\"blocking factor\\\":0,\\\"delay factor\\\":8.0},\\\"nameSub\\\":\\\"Intro. to Engineering Electromagnetics\\\",\\\"id\\\":1400716874,\\\"credits\\\":4,\\\"nameCanonical\\\":\\\"\\\"},{\\\"curriculum_requisites\\\":[],\\\"name\\\":\\\" \\\",\\\"metrics\\\":{\\\"centrality\\\":0,\\\"complexity\\\":1.0,\\\"blocking factor\\\":0,\\\"delay factor\\\":1.0},\\\"nameSub\\\":\\\"Elective EE Laboratory 2\\\",\\\"id\\\":3008452217,\\\"credits\\\":2,\\\"nameCanonical\\\":\\\"\\\"},{\\\"curriculum_requisites\\\":[],\\\"name\\\":\\\" \\\",\\\"metrics\\\":{\\\"centrality\\\":0,\\\"complexity\\\":1.0,\\\"blocking factor\\\":0,\\\"delay factor\\\":1.0},\\\"nameSub\\\":\\\"Engineering\\/Science Elective 1\\\",\\\"id\\\":1824271747,\\\"credits\\\":3,\\\"nameCanonical\\\":\\\"\\\"},{\\\"curriculum_requisites\\\":[],\\\"name\\\":\\\" \\\",\\\"metrics\\\":{\\\"centrality\\\":0,\\\"complexity\\\":1.0,\\\"blocking factor\\\":0,\\\"delay factor\\\":1.0},\\\"nameSub\\\":\\\"Technical Elective 2\\\",\\\"id\\\":3697264218,\\\"credits\\\":3,\\\"nameCanonical\\\":\\\"\\\"},{\\\"curriculum_requisites\\\":[],\\\"name\\\":\\\" \\\",\\\"metrics\\\":{\\\"centrality\\\":0,\\\"complexity\\\":1.0,\\\"blocking factor\\\":0,\\\"delay factor\\\":1.0},\\\"nameSub\\\":\\\"UK Core - Citizenship - USA\\\",\\\"id\\\":1496407185,\\\"credits\\\":3,\\\"nameCanonical\\\":\\\"\\\"}],\\\"id\\\":6},{\\\"name\\\":\\\"Term 7\\\",\\\"curriculum_items\\\":[{\\\"curriculum_requisites\\\":[],\\\"name\\\":\\\"EE 490\\\",\\\"metrics\\\":{\\\"centrality\\\":0,\\\"complexity\\\":3.0,\\\"blocking factor\\\":1,\\\"delay factor\\\":2.0},\\\"nameSub\\\":\\\"EE Capstone Design\\\",\\\"id\\\":1116551982,\\\"credits\\\":3,\\\"nameCanonical\\\":\\\"\\\"},{\\\"curriculum_requisites\\\":[],\\\"name\\\":\\\" \\\",\\\"metrics\\\":{\\\"centrality\\\":0,\\\"complexity\\\":1.0,\\\"blocking factor\\\":0,\\\"delay factor\\\":1.0},\\\"nameSub\\\":\\\"EE Technical Elective 1\\\",\\\"id\\\":1373040133,\\\"credits\\\":3,\\\"nameCanonical\\\":\\\"\\\"},{\\\"curriculum_requisites\\\":[],\\\"name\\\":\\\" \\\",\\\"metrics\\\":{\\\"centrality\\\":0,\\\"complexity\\\":1.0,\\\"blocking factor\\\":0,\\\"delay factor\\\":1.0},\\\"nameSub\\\":\\\"EE Technical Elective 2\\\",\\\"id\\\":2900608954,\\\"credits\\\":3,\\\"nameCanonical\\\":\\\"\\\"},{\\\"curriculum_requisites\\\":[],\\\"name\\\":\\\" \\\",\\\"metrics\\\":{\\\"centrality\\\":0,\\\"complexity\\\":1.0,\\\"blocking factor\\\":0,\\\"delay factor\\\":1.0},\\\"nameSub\\\":\\\"Math\\/Statistics Elective\\\",\\\"id\\\":147960851,\\\"credits\\\":3,\\\"nameCanonical\\\":\\\"\\\"},{\\\"curriculum_requisites\\\":[],\\\"name\\\":\\\" \\\",\\\"metrics\\\":{\\\"centrality\\\":0,\\\"complexity\\\":1.0,\\\"blocking factor\\\":0,\\\"delay factor\\\":1.0},\\\"nameSub\\\":\\\"UK Core - Global Dynamics\\\",\\\"id\\\":819264340,\\\"credits\\\":3,\\\"nameCanonical\\\":\\\"\\\"}],\\\"id\\\":7},{\\\"name\\\":\\\"Term 8\\\",\\\"curriculum_items\\\":[{\\\"curriculum_requisites\\\":[{\\\"source_id\\\":1116551982,\\\"target_id\\\":2674820998,\\\"type\\\":\\\"prereq\\\"}],\\\"name\\\":\\\"EE 491\\\",\\\"metrics\\\":{\\\"centrality\\\":0,\\\"complexity\\\":2.0,\\\"blocking factor\\\":0,\\\"delay factor\\\":2.0},\\\"nameSub\\\":\\\"EE Capstone Design\\\",\\\"id\\\":2674820998,\\\"credits\\\":3,\\\"nameCanonical\\\":\\\"\\\"},{\\\"curriculum_requisites\\\":[],\\\"name\\\":\\\" \\\",\\\"metrics\\\":{\\\"centrality\\\":0,\\\"complexity\\\":1.0,\\\"blocking factor\\\":0,\\\"delay factor\\\":1.0},\\\"nameSub\\\":\\\"EE Technical Elective 3\\\",\\\"id\\\":3472050261,\\\"credits\\\":3,\\\"nameCanonical\\\":\\\"\\\"},{\\\"curriculum_requisites\\\":[],\\\"name\\\":\\\" \\\",\\\"metrics\\\":{\\\"centrality\\\":0,\\\"complexity\\\":1.0,\\\"blocking factor\\\":0,\\\"delay factor\\\":1.0},\\\"nameSub\\\":\\\"EE Technical Elective 4\\\",\\\"id\\\":3141179749,\\\"credits\\\":3,\\\"nameCanonical\\\":\\\"\\\"},{\\\"curriculum_requisites\\\":[],\\\"name\\\":\\\" \\\",\\\"metrics\\\":{\\\"centrality\\\":0,\\\"complexity\\\":1.0,\\\"blocking factor\\\":0,\\\"delay factor\\\":1.0},\\\"nameSub\\\":\\\"Supportive Elective\\\",\\\"id\\\":109586583,\\\"credits\\\":3,\\\"nameCanonical\\\":\\\"\\\"},{\\\"curriculum_requisites\\\":[],\\\"name\\\":\\\" \\\",\\\"metrics\\\":{\\\"centrality\\\":0,\\\"complexity\\\":1.0,\\\"blocking factor\\\":0,\\\"delay factor\\\":1.0},\\\"nameSub\\\":\\\"Engineering\\/Science Elective 2\\\",\\\"id\\\":1227973603,\\\"credits\\\":3,\\\"nameCanonical\\\":\\\"\\\"},{\\\"curriculum_requisites\\\":[],\\\"name\\\":\\\" \\\",\\\"metrics\\\":{\\\"centrality\\\":0,\\\"complexity\\\":1.0,\\\"blocking factor\\\":0,\\\"delay factor\\\":1.0},\\\"nameSub\\\":\\\"UK Core - Statistical Inferential Reasoning\\\",\\\"id\\\":599971617,\\\"credits\\\":3,\\\"nameCanonical\\\":\\\"\\\"}],\\\"id\\\":8}],\\\"institution\\\":\\\"\\\"}},\\\"*\\\"); window.removeEventListener(\\\"message\\\",window.messageReceived); window.messageReceived=(function (event){return (event.data.curriculum!==undefined) ? (WebIO.setval({\\\"name\\\":\\\"curriculum-data\\\",\\\"scope\\\":\\\"11344860009623050466\\\",\\\"id\\\":\\\"ob_01\\\",\\\"type\\\":\\\"observable\\\"},event.data.curriculum)) : undefined}); return window.addEventListener(\\\"message\\\",window.messageReceived)})\"},\"style\":{\"padding\":\"0\",\"height\":\"100vh\",\"margin\":\"0\",\"border\":\"none\",\"width\":\"100%\"}},\"nodeType\":\"DOM\",\"type\":\"node\",\"instanceArgs\":{\"namespace\":\"html\",\"tag\":\"iframe\"},\"children\":[\"\"]}]},\n",
       "            window,\n",
       "        );\n",
       "    } else {\n",
       "        document\n",
       "            .querySelector('[data-webio-mountpoint=\"2112910533050583595\"]')\n",
       "            .innerHTML = '<strong>WebIO not detected.</strong>';\n",
       "    }\n",
       "    </script>\n",
       "</div>\n"
      ],
      "text/plain": [
       "WebIO.Scope(WebIO.Node{WebIO.DOM}(WebIO.DOM(:html, :iframe), Any[\"\"], Dict{Symbol,Any}(:src=>\"http://localhost:8156\",:id=>\"curriculum\",:events=>Dict(:load=>JSString(\"(function (){this.contentWindow.postMessage({\\\"options\\\":{\\\"hideTerms\\\":false,\\\"edit\\\":false},\\\"curriculum\\\":{\\\"name\\\":\\\"University of Kentucky EE Program\\\",\\\"dp_name\\\":\\\"University of Kentucky EE Program 4-year Plan\\\",\\\"curriculum_terms\\\":[{\\\"name\\\":\\\"Term 1\\\",\\\"curriculum_items\\\":[{\\\"curriculum_requisites\\\":[],\\\"name\\\":\\\"EGR 101\\\",\\\"metrics\\\":{\\\"centrality\\\":0,\\\"complexity\\\":1.0,\\\"blocking factor\\\":0,\\\"delay factor\\\":1.0},\\\"nameSub\\\":\\\"Engineering Exploration I\\\",\\\"id\\\":2071595408,\\\"credits\\\":1,\\\"nameCanonical\\\":\\\"\\\"},{\\\"curriculum_requisites\\\":[],\\\"name\\\":\\\"EGR 102\\\",\\\"metrics\\\":{\\\"centrality\\\":0,\\\"complexity\\\":6.0,\\\"blocking factor\\\":3,\\\"delay factor\\\":3.0},\\\"nameSub\\\":\\\"Fundamentals of Engineering Computing\\\",\\\"id\\\":502542156,\\\"credits\\\":2,\\\"nameCanonical\\\":\\\"\\\"},{\\\"curriculum_requisites\\\":[{\\\"source_id\\\":3389674827,\\\"target_id\\\":2865398329,\\\"type\\\":\\\"coreq\\\"}],\\\"name\\\":\\\"PHY 231\\\",\\\"metrics\\\":{\\\"centrality\\\":62,\\\"complexity\\\":16.0,\\\"blocking factor\\\":10,\\\"delay factor\\\":6.0},\\\"nameSub\\\":\\\"General University Physics\\\",\\\"id\\\":2865398329,\\\"credits\\\":4,\\\"nameCanonical\\\":\\\"\\\"},{\\\"curriculum_requisites\\\":[{\\\"source_id\\\":2865398329,\\\"target_id\\\":746915474,\\\"type\\\":\\\"coreq\\\"}],\\\"name\\\":\\\"PHY 241\\\",\\\"metrics\\\":{\\\"centrality\\\":0,\\\"complexity\\\":3.0,\\\"blocking factor\\\":0,\\\"delay factor\\\":3.0},\\\"nameSub\\\":\\\"General University Physics Lab\\\",\\\"id\\\":746915474,\\\"credits\\\":1,\\\"nameCanonical\\\":\\\"\\\"},{\\\"curriculum_requisites\\\":[],\\\"name\\\":\\\"CIS/WRD 110\\\",\\\"metrics\\\":{\\\"centrality\\\":0,\\\"complexity\\\":3.0,\\\"blocking factor\\\":1,\\\"delay factor\\\":2.0},\\\"nameSub\\\":\\\"Composition and Communication I\\\",\\\"id\\\":858428248,\\\"credits\\\":3,\\\"nameCanonical\\\":\\\"\\\"},{\\\"curriculum_requisites\\\":[],\\\"name\\\":\\\"MA 113\\\",\\\"metrics\\\":{\\\"centrality\\\":0,\\\"complexity\\\":23.0,\\\"blocking factor\\\":15,\\\"delay factor\\\":8.0},\\\"nameSub\\\":\\\"Calculus I\\\",\\\"id\\\":3389674827,\\\"credits\\\":4,\\\"nameCanonical\\\":\\\"\\\"}],\\\"id\\\":1},{\\\"name\\\":\\\"Term 2\\\",\\\"curriculum_items\\\":[{\\\"curriculum_requisites\\\":[{\\\"source_id\\\":502542156,\\\"target_id\\\":1123828828,\\\"type\\\":\\\"prereq\\\"},{\\\"source_id\\\":3389674827,\\\"target_id\\\":1123828828,\\\"type\\\":\\\"coreq\\\"},{\\\"source_id\\\":2865398329,\\\"target_id\\\":1123828828,\\\"type\\\":\\\"coreq\\\"},{\\\"source_id\\\":738464693,\\\"target_id\\\":1123828828,\\\"type\\\":\\\"coreq\\\"}],\\\"name\\\":\\\"EGR 103\\\",\\\"metrics\\\":{\\\"centrality\\\":0,\\\"complexity\\\":3.0,\\\"blocking factor\\\":0,\\\"delay factor\\\":3.0},\\\"nameSub\\\":\\\"Engineering Exploration II\\\",\\\"id\\\":1123828828,\\\"credits\\\":2,\\\"nameCanonical\\\":\\\"\\\"},{\\\"curriculum_requisites\\\":[{\\\"source_id\\\":858428248,\\\"target_id\\\":3660518225,\\\"type\\\":\\\"prereq\\\"}],\\\"name\\\":\\\"CIS/WRD 111\\\",\\\"metrics\\\":{\\\"centrality\\\":0,\\\"complexity\\\":2.0,\\\"blocking factor\\\":0,\\\"delay factor\\\":2.0},\\\"nameSub\\\":\\\"Composition and Communication II\\\",\\\"id\\\":3660518225,\\\"credits\\\":3,\\\"nameCanonical\\\":\\\"\\\"},{\\\"curriculum_requisites\\\":[{\\\"source_id\\\":3389674827,\\\"target_id\\\":2966989896,\\\"type\\\":\\\"prereq\\\"}],\\\"name\\\":\\\"MA 114\\\",\\\"metrics\\\":{\\\"centrality\\\":102,\\\"complexity\\\":19.0,\\\"blocking factor\\\":11,\\\"delay factor\\\":8.0},\\\"nameSub\\\":\\\"Calculus II\\\",\\\"id\\\":2966989896,\\\"credits\\\":4,\\\"nameCanonical\\\":\\\"\\\"},{\\\"curriculum_requisites\\\":[],\\\"name\\\":\\\"CHE 105\\\",\\\"metrics\\\":{\\\"centrality\\\":0,\\\"complexity\\\":3.0,\\\"blocking factor\\\":1,\\\"delay factor\\\":2.0},\\\"nameSub\\\":\\\"General College Chemistry I\\\",\\\"id\\\":738464693,\\\"credits\\\":4,\\\"nameCanonical\\\":\\\"\\\"},{\\\"curriculum_requisites\\\":[],\\\"name\\\":\\\" \\\",\\\"metrics\\\":{\\\"centrality\\\":0,\\\"complexity\\\":1.0,\\\"blocking factor\\\":0,\\\"delay factor\\\":1.0},\\\"nameSub\\\":\\\"UK Core - Social Sciences\\\",\\\"id\\\":1586162741,\\\"credits\\\":3,\\\"nameCanonical\\\":\\\"\\\"}],\\\"id\\\":2},{\\\"name\\\":\\\"Term 3\\\",\\\"curriculum_items\\\":[{\\\"curriculum_requisites\\\":[{\\\"source_id\\\":2966989896,\\\"target_id\\\":2193700744,\\\"type\\\":\\\"prereq\\\"}],\\\"name\\\":\\\"MA 213\\\",\\\"metrics\\\":{\\\"centrality\\\":102,\\\"complexity\\\":18.0,\\\"blocking factor\\\":10,\\\"delay factor\\\":8.0},\\\"nameSub\\\":\\\"Calculus III\\\",\\\"id\\\":2193700744,\\\"credits\\\":4,\\\"nameCanonical\\\":\\\"\\\"},{\\\"curriculum_requisites\\\":[{\\\"source_id\\\":2865398329,\\\"target_id\\\":24551683,\\\"type\\\":\\\"prereq\\\"},{\\\"source_id\\\":2193700744,\\\"target_id\\\":24551683,\\\"type\\\":\\\"coreq\\\"}],\\\"name\\\":\\\"PHY 232\\\",\\\"metrics\\\":{\\\"centrality\\\":121,\\\"complexity\\\":15.0,\\\"blocking factor\\\":7,\\\"delay factor\\\":8.0},\\\"nameSub\\\":\\\"General University Physics\\\",\\\"id\\\":24551683,\\\"credits\\\":4,\\\"nameCanonical\\\":\\\"\\\"},{\\\"curriculum_requisites\\\":[{\\\"source_id\\\":24551683,\\\"target_id\\\":4109240503,\\\"type\\\":\\\"coreq\\\"}],\\\"name\\\":\\\"PHY 242\\\",\\\"metrics\\\":{\\\"centrality\\\":60,\\\"complexity\\\":14.0,\\\"blocking factor\\\":6,\\\"delay factor\\\":8.0},\\\"nameSub\\\":\\\"General University Physics Lab\\\",\\\"id\\\":4109240503,\\\"credits\\\":1,\\\"nameCanonical\\\":\\\"\\\"},{\\\"curriculum_requisites\\\":[{\\\"source_id\\\":24551683,\\\"target_id\\\":1017230148,\\\"type\\\":\\\"coreq\\\"},{\\\"source_id\\\":4109240503,\\\"target_id\\\":1017230148,\\\"type\\\":\\\"coreq\\\"}],\\\"name\\\":\\\"EE 211\\\",\\\"metrics\\\":{\\\"centrality\\\":112,\\\"complexity\\\":13.0,\\\"blocking factor\\\":5,\\\"delay factor\\\":8.0},\\\"nameSub\\\":\\\"Circuits I\\\",\\\"id\\\":1017230148,\\\"credits\\\":4,\\\"nameCanonical\\\":\\\"\\\"},{\\\"curriculum_requisites\\\":[{\\\"source_id\\\":502542156,\\\"target_id\\\":1416959221,\\\"type\\\":\\\"prereq\\\"}],\\\"name\\\":\\\"EE 282\\\",\\\"metrics\\\":{\\\"centrality\\\":3,\\\"complexity\\\":4.0,\\\"blocking factor\\\":1,\\\"delay factor\\\":3.0},\\\"nameSub\\\":\\\"Digital Logic Design\\\",\\\"id\\\":1416959221,\\\"credits\\\":4,\\\"nameCanonical\\\":\\\"\\\"}],\\\"id\\\":3},{\\\"name\\\":\\\"Term 4\\\",\\\"curriculum_items\\\":[{\\\"curriculum_requisites\\\":[{\\\"source_id\\\":2193700744,\\\"target_id\\\":713164423,\\\"type\\\":\\\"prereq\\\"}],\\\"name\\\":\\\"MA 214\\\",\\\"metrics\\\":{\\\"centrality\\\":29,\\\"complexity\\\":9.0,\\\"blocking factor\\\":5,\\\"delay factor\\\":4.0},\\\"nameSub\\\":\\\"Calculus IV\\\",\\\"id\\\":713164423,\\\"credits\\\":3,\\\"nameCanonical\\\":\\\"\\\"},{\\\"curriculum_requisites\\\":[{\\\"source_id\\\":1017230148,\\\"target_id\\\":2281989961,\\\"type\\\":\\\"prereq\\\"},{\\\"source_id\\\":713164423,\\\"target_id\\\":2281989961,\\\"type\\\":\\\"coreq\\\"}],\\\"name\\\":\\\"EE 223\\\",\\\"metrics\\\":{\\\"centrality\\\":136,\\\"complexity\\\":12.0,\\\"blocking factor\\\":4,\\\"delay factor\\\":8.0},\\\"nameSub\\\":\\\"AC Circuits\\\",\\\"id\\\":2281989961,\\\"credits\\\":4,\\\"nameCanonical\\\":\\\"\\\"},{\\\"curriculum_requisites\\\":[{\\\"source_id\\\":1416959221,\\\"target_id\\\":1647567702,\\\"type\\\":\\\"prereq\\\"},{\\\"source_id\\\":1332377596,\\\"target_id\\\":1647567702,\\\"type\\\":\\\"coreq\\\"}],\\\"name\\\":\\\"EE 287\\\",\\\"metrics\\\":{\\\"centrality\\\":0,\\\"complexity\\\":3.0,\\\"blocking factor\\\":0,\\\"delay factor\\\":3.0},\\\"nameSub\\\":\\\"Intro. to Embedded Systems\\\",\\\"id\\\":1647567702,\\\"credits\\\":4,\\\"nameCanonical\\\":\\\"\\\"},{\\\"curriculum_requisites\\\":[],\\\"name\\\":\\\"CS 215\\\",\\\"metrics\\\":{\\\"centrality\\\":0,\\\"complexity\\\":3.0,\\\"blocking factor\\\":1,\\\"delay factor\\\":2.0},\\\"nameSub\\\":\\\"Intro. to Program Design Abstraction and Problem Solving\\\",\\\"id\\\":1332377596,\\\"credits\\\":4,\\\"nameCanonical\\\":\\\"\\\"},{\\\"curriculum_requisites\\\":[],\\\"name\\\":\\\" \\\",\\\"metrics\\\":{\\\"centrality\\\":0,\\\"complexity\\\":1.0,\\\"blocking factor\\\":0,\\\"delay factor\\\":1.0},\\\"nameSub\\\":\\\"UK Core - Humanities\\\",\\\"id\\\":699408466,\\\"credits\\\":3,\\\"nameCanonical\\\":\\\"\\\"}],\\\"id\\\":4},{\\\"name\\\":\\\"Term 5\\\",\\\"curriculum_items\\\":[{\\\"curriculum_requisites\\\":[{\\\"source_id\\\":2281989961,\\\"target_id\\\":3945639322,\\\"type\\\":\\\"prereq\\\"},{\\\"source_id\\\":24551683,\\\"target_id\\\":3945639322,\\\"type\\\":\\\"prereq\\\"}],\\\"name\\\":\\\"EE 415G\\\",\\\"metrics\\\":{\\\"centrality\\\":0,\\\"complexity\\\":8.0,\\\"blocking factor\\\":0,\\\"delay factor\\\":8.0},\\\"nameSub\\\":\\\"Electromechanics\\\",\\\"id\\\":3945639322,\\\"credits\\\":3,\\\"nameCanonical\\\":\\\"\\\"},{\\\"curriculum_requisites\\\":[{\\\"source_id\\\":2281989961,\\\"target_id\\\":2950065960,\\\"type\\\":\\\"prereq\\\"},{\\\"source_id\\\":713164423,\\\"target_id\\\":2950065960,\\\"type\\\":\\\"prereq\\\"}],\\\"name\\\":\\\"EE 421G\\\",\\\"metrics\\\":{\\\"centrality\\\":0,\\\"complexity\\\":8.0,\\\"blocking factor\\\":0,\\\"delay factor\\\":8.0},\\\"nameSub\\\":\\\"Signals & Systems\\\",\\\"id\\\":2950065960,\\\"credits\\\":3,\\\"nameCanonical\\\":\\\"\\\"},{\\\"curriculum_requisites\\\":[],\\\"name\\\":\\\" \\\",\\\"metrics\\\":{\\\"centrality\\\":0,\\\"complexity\\\":1.0,\\\"blocking factor\\\":0,\\\"delay factor\\\":1.0},\\\"nameSub\\\":\\\"Elective EE Laboratory 1\\\",\\\"id\\\":448709314,\\\"credits\\\":2,\\\"nameCanonical\\\":\\\"\\\"},{\\\"curriculum_requisites\\\":[{\\\"source_id\\\":2281989961,\\\"target_id\\\":16242192,\\\"type\\\":\\\"prereq\\\"}],\\\"name\\\":\\\"EE 461G\\\",\\\"metrics\\\":{\\\"centrality\\\":0,\\\"complexity\\\":8.0,\\\"blocking factor\\\":0,\\\"delay factor\\\":8.0},\\\"nameSub\\\":\\\"Intro. to Electronics\\\",\\\"id\\\":16242192,\\\"credits\\\":3,\\\"nameCanonical\\\":\\\"\\\"},{\\\"curriculum_requisites\\\":[{\\\"source_id\\\":2193700744,\\\"target_id\\\":2756944549,\\\"type\\\":\\\"prereq\\\"}],\\\"name\\\":\\\"MA 320\\\",\\\"metrics\\\":{\\\"centrality\\\":0,\\\"complexity\\\":4.0,\\\"blocking factor\\\":0,\\\"delay factor\\\":4.0},\\\"nameSub\\\":\\\"Introductory Probability\\\",\\\"id\\\":2756944549,\\\"credits\\\":3,\\\"nameCanonical\\\":\\\"\\\"},{\\\"curriculum_requisites\\\":[],\\\"name\\\":\\\" \\\",\\\"metrics\\\":{\\\"centrality\\\":0,\\\"complexity\\\":1.0,\\\"blocking factor\\\":0,\\\"delay factor\\\":1.0},\\\"nameSub\\\":\\\"Technical Elective 1\\\",\\\"id\\\":3654615878,\\\"credits\\\":3,\\\"nameCanonical\\\":\\\"\\\"}],\\\"id\\\":5},{\\\"name\\\":\\\"Term 6\\\",\\\"curriculum_items\\\":[{\\\"curriculum_requisites\\\":[{\\\"source_id\\\":2281989961,\\\"target_id\\\":1400716874,\\\"type\\\":\\\"prereq\\\"},{\\\"source_id\\\":2193700744,\\\"target_id\\\":1400716874,\\\"type\\\":\\\"prereq\\\"}],\\\"name\\\":\\\"EE 468G\\\",\\\"metrics\\\":{\\\"centrality\\\":0,\\\"complexity\\\":8.0,\\\"blocking factor\\\":0,\\\"delay factor\\\":8.0},\\\"nameSub\\\":\\\"Intro. to Engineering Electromagnetics\\\",\\\"id\\\":1400716874,\\\"credits\\\":4,\\\"nameCanonical\\\":\\\"\\\"},{\\\"curriculum_requisites\\\":[],\\\"name\\\":\\\" \\\",\\\"metrics\\\":{\\\"centrality\\\":0,\\\"complexity\\\":1.0,\\\"blocking factor\\\":0,\\\"delay factor\\\":1.0},\\\"nameSub\\\":\\\"Elective EE Laboratory 2\\\",\\\"id\\\":3008452217,\\\"credits\\\":2,\\\"nameCanonical\\\":\\\"\\\"},{\\\"curriculum_requisites\\\":[],\\\"name\\\":\\\" \\\",\\\"metrics\\\":{\\\"centrality\\\":0,\\\"complexity\\\":1.0,\\\"blocking factor\\\":0,\\\"delay factor\\\":1.0},\\\"nameSub\\\":\\\"Engineering/Science Elective 1\\\",\\\"id\\\":1824271747,\\\"credits\\\":3,\\\"nameCanonical\\\":\\\"\\\"},{\\\"curriculum_requisites\\\":[],\\\"name\\\":\\\" \\\",\\\"metrics\\\":{\\\"centrality\\\":0,\\\"complexity\\\":1.0,\\\"blocking factor\\\":0,\\\"delay factor\\\":1.0},\\\"nameSub\\\":\\\"Technical Elective 2\\\",\\\"id\\\":3697264218,\\\"credits\\\":3,\\\"nameCanonical\\\":\\\"\\\"},{\\\"curriculum_requisites\\\":[],\\\"name\\\":\\\" \\\",\\\"metrics\\\":{\\\"centrality\\\":0,\\\"complexity\\\":1.0,\\\"blocking factor\\\":0,\\\"delay factor\\\":1.0},\\\"nameSub\\\":\\\"UK Core - Citizenship - USA\\\",\\\"id\\\":1496407185,\\\"credits\\\":3,\\\"nameCanonical\\\":\\\"\\\"}],\\\"id\\\":6},{\\\"name\\\":\\\"Term 7\\\",\\\"curriculum_items\\\":[{\\\"curriculum_requisites\\\":[],\\\"name\\\":\\\"EE 490\\\",\\\"metrics\\\":{\\\"centrality\\\":0,\\\"complexity\\\":3.0,\\\"blocking factor\\\":1,\\\"delay factor\\\":2.0},\\\"nameSub\\\":\\\"EE Capstone Design\\\",\\\"id\\\":1116551982,\\\"credits\\\":3,\\\"nameCanonical\\\":\\\"\\\"},{\\\"curriculum_requisites\\\":[],\\\"name\\\":\\\" \\\",\\\"metrics\\\":{\\\"centrality\\\":0,\\\"complexity\\\":1.0,\\\"blocking factor\\\":0,\\\"delay factor\\\":1.0},\\\"nameSub\\\":\\\"EE Technical Elective 1\\\",\\\"id\\\":1373040133,\\\"credits\\\":3,\\\"nameCanonical\\\":\\\"\\\"},{\\\"curriculum_requisites\\\":[],\\\"name\\\":\\\" \\\",\\\"metrics\\\":{\\\"centrality\\\":0,\\\"complexity\\\":1.0,\\\"blocking factor\\\":0,\\\"delay factor\\\":1.0},\\\"nameSub\\\":\\\"EE Technical Elective 2\\\",\\\"id\\\":2900608954,\\\"credits\\\":3,\\\"nameCanonical\\\":\\\"\\\"},{\\\"curriculum_requisites\\\":[],\\\"name\\\":\\\" \\\",\\\"metrics\\\":{\\\"centrality\\\":0,\\\"complexity\\\":1.0,\\\"blocking factor\\\":0,\\\"delay factor\\\":1.0},\\\"nameSub\\\":\\\"Math/Statistics Elective\\\",\\\"id\\\":147960851,\\\"credits\\\":3,\\\"nameCanonical\\\":\\\"\\\"},{\\\"curriculum_requisites\\\":[],\\\"name\\\":\\\" \\\",\\\"metrics\\\":{\\\"centrality\\\":0,\\\"complexity\\\":1.0,\\\"blocking factor\\\":0,\\\"delay factor\\\":1.0},\\\"nameSub\\\":\\\"UK Core - Global Dynamics\\\",\\\"id\\\":819264340,\\\"credits\\\":3,\\\"nameCanonical\\\":\\\"\\\"}],\\\"id\\\":7},{\\\"name\\\":\\\"Term 8\\\",\\\"curriculum_items\\\":[{\\\"curriculum_requisites\\\":[{\\\"source_id\\\":1116551982,\\\"target_id\\\":2674820998,\\\"type\\\":\\\"prereq\\\"}],\\\"name\\\":\\\"EE 491\\\",\\\"metrics\\\":{\\\"centrality\\\":0,\\\"complexity\\\":2.0,\\\"blocking factor\\\":0,\\\"delay factor\\\":2.0},\\\"nameSub\\\":\\\"EE Capstone Design\\\",\\\"id\\\":2674820998,\\\"credits\\\":3,\\\"nameCanonical\\\":\\\"\\\"},{\\\"curriculum_requisites\\\":[],\\\"name\\\":\\\" \\\",\\\"metrics\\\":{\\\"centrality\\\":0,\\\"complexity\\\":1.0,\\\"blocking factor\\\":0,\\\"delay factor\\\":1.0},\\\"nameSub\\\":\\\"EE Technical Elective 3\\\",\\\"id\\\":3472050261,\\\"credits\\\":3,\\\"nameCanonical\\\":\\\"\\\"},{\\\"curriculum_requisites\\\":[],\\\"name\\\":\\\" \\\",\\\"metrics\\\":{\\\"centrality\\\":0,\\\"complexity\\\":1.0,\\\"blocking factor\\\":0,\\\"delay factor\\\":1.0},\\\"nameSub\\\":\\\"EE Technical Elective 4\\\",\\\"id\\\":3141179749,\\\"credits\\\":3,\\\"nameCanonical\\\":\\\"\\\"},{\\\"curriculum_requisites\\\":[],\\\"name\\\":\\\" \\\",\\\"metrics\\\":{\\\"centrality\\\":0,\\\"complexity\\\":1.0,\\\"blocking factor\\\":0,\\\"delay factor\\\":1.0},\\\"nameSub\\\":\\\"Supportive Elective\\\",\\\"id\\\":109586583,\\\"credits\\\":3,\\\"nameCanonical\\\":\\\"\\\"},{\\\"curriculum_requisites\\\":[],\\\"name\\\":\\\" \\\",\\\"metrics\\\":{\\\"centrality\\\":0,\\\"complexity\\\":1.0,\\\"blocking factor\\\":0,\\\"delay factor\\\":1.0},\\\"nameSub\\\":\\\"Engineering/Science Elective 2\\\",\\\"id\\\":1227973603,\\\"credits\\\":3,\\\"nameCanonical\\\":\\\"\\\"},{\\\"curriculum_requisites\\\":[],\\\"name\\\":\\\" \\\",\\\"metrics\\\":{\\\"centrality\\\":0,\\\"complexity\\\":1.0,\\\"blocking factor\\\":0,\\\"delay factor\\\":1.0},\\\"nameSub\\\":\\\"UK Core - Statistical Inferential Reasoning\\\",\\\"id\\\":599971617,\\\"credits\\\":3,\\\"nameCanonical\\\":\\\"\\\"}],\\\"id\\\":8}],\\\"institution\\\":\\\"\\\"}},\\\"*\\\"); window.removeEventListener(\\\"message\\\",window.messageReceived); window.messageReceived=(function (event){return (event.data.curriculum!==undefined) ? (WebIO.setval({\\\"name\\\":\\\"curriculum-data\\\",\\\"scope\\\":\\\"11344860009623050466\\\",\\\"id\\\":\\\"ob_01\\\",\\\"type\\\":\\\"observable\\\"},event.data.curriculum)) : undefined}); return window.addEventListener(\\\"message\\\",window.messageReceived)})\")),:style=>Dict(:padding=>\"0\",:height=>\"100vh\",:margin=>\"0\",:border=>\"none\",:width=>\"100%\"))), Dict{String,Tuple{Observables.AbstractObservable,Union{Nothing, Bool}}}(\"curriculum-data\"=>(Observable{Dict{String,Any}} with 1 listeners. Value:\n",
       "Dict{String,Any}(\"options\"=>Dict{String,Any}(\"hideTerms\"=>false,\"edit\"=>false),\"curriculum\"=>Dict{String,Any}(\"name\"=>\"University of Kentucky EE Program\",\"dp_name\"=>\"University of Kentucky EE Program 4-year Plan\",\"curriculum_terms\"=>Dict{String,Any}[Dict(\"name\"=>\"Term 1\",\"curriculum_items\"=>Dict{String,Any}[Dict(\"curriculum_requisites\"=>Dict{String,Any}[],\"name\"=>\"EGR 101\",\"metrics\"=>Dict{String,Any}(\"centrality\"=>0,\"complexity\"=>1.0,\"blocking factor\"=>0,\"delay factor\"=>1.0),\"nameSub\"=>\"Engineering Exploration I\",\"id\"=>2071595408,\"credits\"=>1,\"nameCanonical\"=>\"\"), Dict(\"curriculum_requisites\"=>Dict{String,Any}[],\"name\"=>\"EGR 102\",\"metrics\"=>Dict{String,Any}(\"centrality\"=>0,\"complexity\"=>6.0,\"blocking factor\"=>3,\"delay factor\"=>3.0),\"nameSub\"=>\"Fundamentals of Engineering Computing\",\"id\"=>502542156,\"credits\"=>2,\"nameCanonical\"=>\"\"), Dict(\"curriculum_requisites\"=>Dict{String,Any}[Dict(\"source_id\"=>3389674827,\"target_id\"=>2865398329,\"type\"=>\"coreq\")],\"name\"=>\"PHY 231\",\"metrics\"=>Dict{String,Any}(\"centrality\"=>62,\"complexity\"=>16.0,\"blocking factor\"=>10,\"delay factor\"=>6.0),\"nameSub\"=>\"General University Physics\",\"id\"=>2865398329,\"credits\"=>4,\"nameCanonical\"=>\"\"), Dict(\"curriculum_requisites\"=>Dict{String,Any}[Dict(\"source_id\"=>2865398329,\"target_id\"=>746915474,\"type\"=>\"coreq\")],\"name\"=>\"PHY 241\",\"metrics\"=>Dict{String,Any}(\"centrality\"=>0,\"complexity\"=>3.0,\"blocking factor\"=>0,\"delay factor\"=>3.0),\"nameSub\"=>\"General University Physics Lab\",\"id\"=>746915474,\"credits\"=>1,\"nameCanonical\"=>\"\"), Dict(\"curriculum_requisites\"=>Dict{String,Any}[],\"name\"=>\"CIS/WRD 110\",\"metrics\"=>Dict{String,Any}(\"centrality\"=>0,\"complexity\"=>3.0,\"blocking factor\"=>1,\"delay factor\"=>2.0),\"nameSub\"=>\"Composition and Communication I\",\"id\"=>858428248,\"credits\"=>3,\"nameCanonical\"=>\"\"), Dict(\"curriculum_requisites\"=>Dict{String,Any}[],\"name\"=>\"MA 113\",\"metrics\"=>Dict{String,Any}(\"centrality\"=>0,\"complexity\"=>23.0,\"blocking factor\"=>15,\"delay factor\"=>8.0),\"nameSub\"=>\"Calculus I\",\"id\"=>3389674827,\"credits\"=>4,\"nameCanonical\"=>\"\")],\"id\"=>1), Dict(\"name\"=>\"Term 2\",\"curriculum_items\"=>Dict{String,Any}[Dict(\"curriculum_requisites\"=>Dict{String,Any}[Dict(\"source_id\"=>502542156,\"target_id\"=>1123828828,\"type\"=>\"prereq\"), Dict(\"source_id\"=>3389674827,\"target_id\"=>1123828828,\"type\"=>\"coreq\"), Dict(\"source_id\"=>2865398329,\"target_id\"=>1123828828,\"type\"=>\"coreq\"), Dict(\"source_id\"=>738464693,\"target_id\"=>1123828828,\"type\"=>\"coreq\")],\"name\"=>\"EGR 103\",\"metrics\"=>Dict{String,Any}(\"centrality\"=>0,\"complexity\"=>3.0,\"blocking factor\"=>0,\"delay factor\"=>3.0),\"nameSub\"=>\"Engineering Exploration II\",\"id\"=>1123828828,\"credits\"=>2,\"nameCanonical\"=>\"\"), Dict(\"curriculum_requisites\"=>Dict{String,Any}[Dict(\"source_id\"=>858428248,\"target_id\"=>3660518225,\"type\"=>\"prereq\")],\"name\"=>\"CIS/WRD 111\",\"metrics\"=>Dict{String,Any}(\"centrality\"=>0,\"complexity\"=>2.0,\"blocking factor\"=>0,\"delay factor\"=>2.0),\"nameSub\"=>\"Composition and Communication II\",\"id\"=>3660518225,\"credits\"=>3,\"nameCanonical\"=>\"\"), Dict(\"curriculum_requisites\"=>Dict{String,Any}[Dict(\"source_id\"=>3389674827,\"target_id\"=>2966989896,\"type\"=>\"prereq\")],\"name\"=>\"MA 114\",\"metrics\"=>Dict{String,Any}(\"centrality\"=>102,\"complexity\"=>19.0,\"blocking factor\"=>11,\"delay factor\"=>8.0),\"nameSub\"=>\"Calculus II\",\"id\"=>2966989896,\"credits\"=>4,\"nameCanonical\"=>\"\"), Dict(\"curriculum_requisites\"=>Dict{String,Any}[],\"name\"=>\"CHE 105\",\"metrics\"=>Dict{String,Any}(\"centrality\"=>0,\"complexity\"=>3.0,\"blocking factor\"=>1,\"delay factor\"=>2.0),\"nameSub\"=>\"General College Chemistry I\",\"id\"=>738464693,\"credits\"=>4,\"nameCanonical\"=>\"\"), Dict(\"curriculum_requisites\"=>Dict{String,Any}[],\"name\"=>\" \",\"metrics\"=>Dict{String,Any}(\"centrality\"=>0,\"complexity\"=>1.0,\"blocking factor\"=>0,\"delay factor\"=>1.0),\"nameSub\"=>\"UK Core - Social Sciences\",\"id\"=>1586162741,\"credits\"=>3,\"nameCanonical\"=>\"\")],\"id\"=>2), Dict(\"name\"=>\"Term 3\",\"curriculum_items\"=>Dict{String,Any}[Dict(\"curriculum_requisites\"=>Dict{String,Any}[Dict(\"source_id\"=>2966989896,\"target_id\"=>2193700744,\"type\"=>\"prereq\")],\"name\"=>\"MA 213\",\"metrics\"=>Dict{String,Any}(\"centrality\"=>102,\"complexity\"=>18.0,\"blocking factor\"=>10,\"delay factor\"=>8.0),\"nameSub\"=>\"Calculus III\",\"id\"=>2193700744,\"credits\"=>4,\"nameCanonical\"=>\"\"), Dict(\"curriculum_requisites\"=>Dict{String,Any}[Dict(\"source_id\"=>2865398329,\"target_id\"=>24551683,\"type\"=>\"prereq\"), Dict(\"source_id\"=>2193700744,\"target_id\"=>24551683,\"type\"=>\"coreq\")],\"name\"=>\"PHY 232\",\"metrics\"=>Dict{String,Any}(\"centrality\"=>121,\"complexity\"=>15.0,\"blocking factor\"=>7,\"delay factor\"=>8.0),\"nameSub\"=>\"General University Physics\",\"id\"=>24551683,\"credits\"=>4,\"nameCanonical\"=>\"\"), Dict(\"curriculum_requisites\"=>Dict{String,Any}[Dict(\"source_id\"=>24551683,\"target_id\"=>4109240503,\"type\"=>\"coreq\")],\"name\"=>\"PHY 242\",\"metrics\"=>Dict{String,Any}(\"centrality\"=>60,\"complexity\"=>14.0,\"blocking factor\"=>6,\"delay factor\"=>8.0),\"nameSub\"=>\"General University Physics Lab\",\"id\"=>4109240503,\"credits\"=>1,\"nameCanonical\"=>\"\"), Dict(\"curriculum_requisites\"=>Dict{String,Any}[Dict(\"source_id\"=>24551683,\"target_id\"=>1017230148,\"type\"=>\"coreq\"), Dict(\"source_id\"=>4109240503,\"target_id\"=>1017230148,\"type\"=>\"coreq\")],\"name\"=>\"EE 211\",\"metrics\"=>Dict{String,Any}(\"centrality\"=>112,\"complexity\"=>13.0,\"blocking factor\"=>5,\"delay factor\"=>8.0),\"nameSub\"=>\"Circuits I\",\"id\"=>1017230148,\"credits\"=>4,\"nameCanonical\"=>\"\"), Dict(\"curriculum_requisites\"=>Dict{String,Any}[Dict(\"source_id\"=>502542156,\"target_id\"=>1416959221,\"type\"=>\"prereq\")],\"name\"=>\"EE 282\",\"metrics\"=>Dict{String,Any}(\"centrality\"=>3,\"complexity\"=>4.0,\"blocking factor\"=>1,\"delay factor\"=>3.0),\"nameSub\"=>\"Digital Logic Design\",\"id\"=>1416959221,\"credits\"=>4,\"nameCanonical\"=>\"\")],\"id\"=>3), Dict(\"name\"=>\"Term 4\",\"curriculum_items\"=>Dict{String,Any}[Dict(\"curriculum_requisites\"=>Dict{String,Any}[Dict(\"source_id\"=>2193700744,\"target_id\"=>713164423,\"type\"=>\"prereq\")],\"name\"=>\"MA 214\",\"metrics\"=>Dict{String,Any}(\"centrality\"=>29,\"complexity\"=>9.0,\"blocking factor\"=>5,\"delay factor\"=>4.0),\"nameSub\"=>\"Calculus IV\",\"id\"=>713164423,\"credits\"=>3,\"nameCanonical\"=>\"\"), Dict(\"curriculum_requisites\"=>Dict{String,Any}[Dict(\"source_id\"=>1017230148,\"target_id\"=>2281989961,\"type\"=>\"prereq\"), Dict(\"source_id\"=>713164423,\"target_id\"=>2281989961,\"type\"=>\"coreq\")],\"name\"=>\"EE 223\",\"metrics\"=>Dict{String,Any}(\"centrality\"=>136,\"complexity\"=>12.0,\"blocking factor\"=>4,\"delay factor\"=>8.0),\"nameSub\"=>\"AC Circuits\",\"id\"=>2281989961,\"credits\"=>4,\"nameCanonical\"=>\"\"), Dict(\"curriculum_requisites\"=>Dict{String,Any}[Dict(\"source_id\"=>1416959221,\"target_id\"=>1647567702,\"type\"=>\"prereq\"), Dict(\"source_id\"=>1332377596,\"target_id\"=>1647567702,\"type\"=>\"coreq\")],\"name\"=>\"EE 287\",\"metrics\"=>Dict{String,Any}(\"centrality\"=>0,\"complexity\"=>3.0,\"blocking factor\"=>0,\"delay factor\"=>3.0),\"nameSub\"=>\"Intro. to Embedded Systems\",\"id\"=>1647567702,\"credits\"=>4,\"nameCanonical\"=>\"\"), Dict(\"curriculum_requisites\"=>Dict{String,Any}[],\"name\"=>\"CS 215\",\"metrics\"=>Dict{String,Any}(\"centrality\"=>0,\"complexity\"=>3.0,\"blocking factor\"=>1,\"delay factor\"=>2.0),\"nameSub\"=>\"Intro. to Program Design Abstraction and Problem Solving\",\"id\"=>1332377596,\"credits\"=>4,\"nameCanonical\"=>\"\"), Dict(\"curriculum_requisites\"=>Dict{String,Any}[],\"name\"=>\" \",\"metrics\"=>Dict{String,Any}(\"centrality\"=>0,\"complexity\"=>1.0,\"blocking factor\"=>0,\"delay factor\"=>1.0),\"nameSub\"=>\"UK Core - Humanities\",\"id\"=>699408466,\"credits\"=>3,\"nameCanonical\"=>\"\")],\"id\"=>4), Dict(\"name\"=>\"Term 5\",\"curriculum_items\"=>Dict{String,Any}[Dict(\"curriculum_requisites\"=>Dict{String,Any}[Dict(\"source_id\"=>2281989961,\"target_id\"=>3945639322,\"type\"=>\"prereq\"), Dict(\"source_id\"=>24551683,\"target_id\"=>3945639322,\"type\"=>\"prereq\")],\"name\"=>\"EE 415G\",\"metrics\"=>Dict{String,Any}(\"centrality\"=>0,\"complexity\"=>8.0,\"blocking factor\"=>0,\"delay factor\"=>8.0),\"nameSub\"=>\"Electromechanics\",\"id\"=>3945639322,\"credits\"=>3,\"nameCanonical\"=>\"\"), Dict(\"curriculum_requisites\"=>Dict{String,Any}[Dict(\"source_id\"=>2281989961,\"target_id\"=>2950065960,\"type\"=>\"prereq\"), Dict(\"source_id\"=>713164423,\"target_id\"=>2950065960,\"type\"=>\"prereq\")],\"name\"=>\"EE 421G\",\"metrics\"=>Dict{String,Any}(\"centrality\"=>0,\"complexity\"=>8.0,\"blocking factor\"=>0,\"delay factor\"=>8.0),\"nameSub\"=>\"Signals & Systems\",\"id\"=>2950065960,\"credits\"=>3,\"nameCanonical\"=>\"\"), Dict(\"curriculum_requisites\"=>Dict{String,Any}[],\"name\"=>\" \",\"metrics\"=>Dict{String,Any}(\"centrality\"=>0,\"complexity\"=>1.0,\"blocking factor\"=>0,\"delay factor\"=>1.0),\"nameSub\"=>\"Elective EE Laboratory 1\",\"id\"=>448709314,\"credits\"=>2,\"nameCanonical\"=>\"\"), Dict(\"curriculum_requisites\"=>Dict{String,Any}[Dict(\"source_id\"=>2281989961,\"target_id\"=>16242192,\"type\"=>\"prereq\")],\"name\"=>\"EE 461G\",\"metrics\"=>Dict{String,Any}(\"centrality\"=>0,\"complexity\"=>8.0,\"blocking factor\"=>0,\"delay factor\"=>8.0),\"nameSub\"=>\"Intro. to Electronics\",\"id\"=>16242192,\"credits\"=>3,\"nameCanonical\"=>\"\"), Dict(\"curriculum_requisites\"=>Dict{String,Any}[Dict(\"source_id\"=>2193700744,\"target_id\"=>2756944549,\"type\"=>\"prereq\")],\"name\"=>\"MA 320\",\"metrics\"=>Dict{String,Any}(\"centrality\"=>0,\"complexity\"=>4.0,\"blocking factor\"=>0,\"delay factor\"=>4.0),\"nameSub\"=>\"Introductory Probability\",\"id\"=>2756944549,\"credits\"=>3,\"nameCanonical\"=>\"\"), Dict(\"curriculum_requisites\"=>Dict{String,Any}[],\"name\"=>\" \",\"metrics\"=>Dict{String,Any}(\"centrality\"=>0,\"complexity\"=>1.0,\"blocking factor\"=>0,\"delay factor\"=>1.0),\"nameSub\"=>\"Technical Elective 1\",\"id\"=>3654615878,\"credits\"=>3,\"nameCanonical\"=>\"\")],\"id\"=>5), Dict(\"name\"=>\"Term 6\",\"curriculum_items\"=>Dict{String,Any}[Dict(\"curriculum_requisites\"=>Dict{String,Any}[Dict(\"source_id\"=>2281989961,\"target_id\"=>1400716874,\"type\"=>\"prereq\"), Dict(\"source_id\"=>2193700744,\"target_id\"=>1400716874,\"type\"=>\"prereq\")],\"name\"=>\"EE 468G\",\"metrics\"=>Dict{String,Any}(\"centrality\"=>0,\"complexity\"=>8.0,\"blocking factor\"=>0,\"delay factor\"=>8.0),\"nameSub\"=>\"Intro. to Engineering Electromagnetics\",\"id\"=>1400716874,\"credits\"=>4,\"nameCanonical\"=>\"\"), Dict(\"curriculum_requisites\"=>Dict{String,Any}[],\"name\"=>\" \",\"metrics\"=>Dict{String,Any}(\"centrality\"=>0,\"complexity\"=>1.0,\"blocking factor\"=>0,\"delay factor\"=>1.0),\"nameSub\"=>\"Elective EE Laboratory 2\",\"id\"=>3008452217,\"credits\"=>2,\"nameCanonical\"=>\"\"), Dict(\"curriculum_requisites\"=>Dict{String,Any}[],\"name\"=>\" \",\"metrics\"=>Dict{String,Any}(\"centrality\"=>0,\"complexity\"=>1.0,\"blocking factor\"=>0,\"delay factor\"=>1.0),\"nameSub\"=>\"Engineering/Science Elective 1\",\"id\"=>1824271747,\"credits\"=>3,\"nameCanonical\"=>\"\"), Dict(\"curriculum_requisites\"=>Dict{String,Any}[],\"name\"=>\" \",\"metrics\"=>Dict{String,Any}(\"centrality\"=>0,\"complexity\"=>1.0,\"blocking factor\"=>0,\"delay factor\"=>1.0),\"nameSub\"=>\"Technical Elective 2\",\"id\"=>3697264218,\"credits\"=>3,\"nameCanonical\"=>\"\"), Dict(\"curriculum_requisites\"=>Dict{String,Any}[],\"name\"=>\" \",\"metrics\"=>Dict{String,Any}(\"centrality\"=>0,\"complexity\"=>1.0,\"blocking factor\"=>0,\"delay factor\"=>1.0),\"nameSub\"=>\"UK Core - Citizenship - USA\",\"id\"=>1496407185,\"credits\"=>3,\"nameCanonical\"=>\"\")],\"id\"=>6), Dict(\"name\"=>\"Term 7\",\"curriculum_items\"=>Dict{String,Any}[Dict(\"curriculum_requisites\"=>Dict{String,Any}[],\"name\"=>\"EE 490\",\"metrics\"=>Dict{String,Any}(\"centrality\"=>0,\"complexity\"=>3.0,\"blocking factor\"=>1,\"delay factor\"=>2.0),\"nameSub\"=>\"EE Capstone Design\",\"id\"=>1116551982,\"credits\"=>3,\"nameCanonical\"=>\"\"), Dict(\"curriculum_requisites\"=>Dict{String,Any}[],\"name\"=>\" \",\"metrics\"=>Dict{String,Any}(\"centrality\"=>0,\"complexity\"=>1.0,\"blocking factor\"=>0,\"delay factor\"=>1.0),\"nameSub\"=>\"EE Technical Elective 1\",\"id\"=>1373040133,\"credits\"=>3,\"nameCanonical\"=>\"\"), Dict(\"curriculum_requisites\"=>Dict{String,Any}[],\"name\"=>\" \",\"metrics\"=>Dict{String,Any}(\"centrality\"=>0,\"complexity\"=>1.0,\"blocking factor\"=>0,\"delay factor\"=>1.0),\"nameSub\"=>\"EE Technical Elective 2\",\"id\"=>2900608954,\"credits\"=>3,\"nameCanonical\"=>\"\"), Dict(\"curriculum_requisites\"=>Dict{String,Any}[],\"name\"=>\" \",\"metrics\"=>Dict{String,Any}(\"centrality\"=>0,\"complexity\"=>1.0,\"blocking factor\"=>0,\"delay factor\"=>1.0),\"nameSub\"=>\"Math/Statistics Elective\",\"id\"=>147960851,\"credits\"=>3,\"nameCanonical\"=>\"\"), Dict(\"curriculum_requisites\"=>Dict{String,Any}[],\"name\"=>\" \",\"metrics\"=>Dict{String,Any}(\"centrality\"=>0,\"complexity\"=>1.0,\"blocking factor\"=>0,\"delay factor\"=>1.0),\"nameSub\"=>\"UK Core - Global Dynamics\",\"id\"=>819264340,\"credits\"=>3,\"nameCanonical\"=>\"\")],\"id\"=>7), Dict(\"name\"=>\"Term 8\",\"curriculum_items\"=>Dict{String,Any}[Dict(\"curriculum_requisites\"=>Dict{String,Any}[Dict(\"source_id\"=>1116551982,\"target_id\"=>2674820998,\"type\"=>\"prereq\")],\"name\"=>\"EE 491\",\"metrics\"=>Dict{String,Any}(\"centrality\"=>0,\"complexity\"=>2.0,\"blocking factor\"=>0,\"delay factor\"=>2.0),\"nameSub\"=>\"EE Capstone Design\",\"id\"=>2674820998,\"credits\"=>3,\"nameCanonical\"=>\"\"), Dict(\"curriculum_requisites\"=>Dict{String,Any}[],\"name\"=>\" \",\"metrics\"=>Dict{String,Any}(\"centrality\"=>0,\"complexity\"=>1.0,\"blocking factor\"=>0,\"delay factor\"=>1.0),\"nameSub\"=>\"EE Technical Elective 3\",\"id\"=>3472050261,\"credits\"=>3,\"nameCanonical\"=>\"\"), Dict(\"curriculum_requisites\"=>Dict{String,Any}[],\"name\"=>\" \",\"metrics\"=>Dict{String,Any}(\"centrality\"=>0,\"complexity\"=>1.0,\"blocking factor\"=>0,\"delay factor\"=>1.0),\"nameSub\"=>\"EE Technical Elective 4\",\"id\"=>3141179749,\"credits\"=>3,\"nameCanonical\"=>\"\"), Dict(\"curriculum_requisites\"=>Dict{String,Any}[],\"name\"=>\" \",\"metrics\"=>Dict{String,Any}(\"centrality\"=>0,\"complexity\"=>1.0,\"blocking factor\"=>0,\"delay factor\"=>1.0),\"nameSub\"=>\"Supportive Elective\",\"id\"=>109586583,\"credits\"=>3,\"nameCanonical\"=>\"\"), Dict(\"curriculum_requisites\"=>Dict{String,Any}[],\"name\"=>\" \",\"metrics\"=>Dict{String,Any}(\"centrality\"=>0,\"complexity\"=>1.0,\"blocking factor\"=>0,\"delay factor\"=>1.0),\"nameSub\"=>\"Engineering/Science Elective 2\",\"id\"=>1227973603,\"credits\"=>3,\"nameCanonical\"=>\"\"), Dict(\"curriculum_requisites\"=>Dict{String,Any}[],\"name\"=>\" \",\"metrics\"=>Dict{String,Any}(\"centrality\"=>0,\"complexity\"=>1.0,\"blocking factor\"=>0,\"delay factor\"=>1.0),\"nameSub\"=>\"UK Core - Statistical Inferential Reasoning\",\"id\"=>599971617,\"credits\"=>3,\"nameCanonical\"=>\"\")],\"id\"=>8)],\"institution\"=>\"\")), nothing)), Set(String[]), nothing, WebIO.Asset[], Dict{Any,Any}(), WebIO.ConnectionPool(Channel{Any}(sz_max:32,sz_curr:0), Set(WebIO.AbstractConnection[]), Channel{WebIO.AbstractConnection}(sz_max:32,sz_curr:0)), WebIO.JSString[])"
      ]
     },
     "execution_count": 2,
     "metadata": {
      "application/vnd.webio.node+json": {
       "kernelId": "648a078a-cf92-4883-a270-432bb7a2c95f"
      }
     },
     "output_type": "execute_result"
    }
   ],
   "source": [
    "visualize(read_csv(\"UKY_EE_plan.csv\"), notebook=true)"
   ]
  },
  {
   "cell_type": "markdown",
   "metadata": {},
   "source": [
    "In the figure above, if you hover over *EE 211 - Circuits I* in the third term, you will see that this course is on a path of length 8 (this determines the delay factor metric shown in the figure), there are eight course that serve as pre- or co-requisites courses that must be completed before a student may take Circuit Analysis I, and Circuit Analysis I \"blocks\" twelve other courses in the curriculum (i.e., these courses cannot be attempted until Circuit Analysis I has been successfully completed).  Thus, Circuit Analysis I is a very important course in this curriculum.  Another way to say this is that Circuit Analysis I is central to the curriculum.  Indeed, it is course with the highest centrality factor in the curriculum.  The centrality factor is measure of how many course prerequisite pathways include a given course. For more information on these measures, see <cite data-cite=\"he2018\">(Heileman, et al., 2018)</cite>.\n",
    "\n",
    "Below is another example example electrical engineering curriculum; in this case the one offered by the <cite data-cite=\"\">University of Houston (2018)</cite>."
   ]
  },
  {
   "cell_type": "code",
   "execution_count": 3,
   "metadata": {},
   "outputs": [
    {
     "data": {
      "application/vnd.webio.node+json": {
       "children": [
        {
         "children": [
          ""
         ],
         "instanceArgs": {
          "namespace": "html",
          "tag": "iframe"
         },
         "nodeType": "DOM",
         "props": {
          "events": {
           "load": "(function (){this.contentWindow.postMessage({\"options\":{\"hideTerms\":false,\"edit\":false},\"curriculum\":{\"name\":\"University of Houston EE Program\",\"dp_name\":\"University of Houston EE Program 4-year Plan\",\"curriculum_terms\":[{\"name\":\"Term 1\",\"curriculum_items\":[{\"curriculum_requisites\":[],\"name\":\"HIST 1377\",\"metrics\":{\"complexity\":1.0,\"centrality\":0,\"blocking factor\":0,\"delay factor\":1.0},\"nameSub\":\"The US to 1877\",\"id\":3824069494,\"credits\":3,\"nameCanonical\":\"\"},{\"curriculum_requisites\":[],\"name\":\"ENGL 1303\",\"metrics\":{\"complexity\":13.0,\"centrality\":0,\"blocking factor\":6,\"delay factor\":7.0},\"nameSub\":\"First Year Writing I\",\"id\":1324171406,\"credits\":3,\"nameCanonical\":\"\"},{\"curriculum_requisites\":[{\"source_id\":4175014649,\"target_id\":1764441140,\"type\":\"coreq\"}],\"name\":\"ENGI 1100\",\"metrics\":{\"complexity\":24.0,\"centrality\":85,\"blocking factor\":15,\"delay factor\":9.0},\"nameSub\":\"Intro to Engr.\",\"id\":1764441140,\"credits\":1,\"nameCanonical\":\"\"},{\"curriculum_requisites\":[],\"name\":\"MATH 1431\",\"metrics\":{\"complexity\":35.0,\"centrality\":0,\"blocking factor\":23,\"delay factor\":12.0},\"nameSub\":\"Calculus I\",\"id\":4175014649,\"credits\":4,\"nameCanonical\":\"\"},{\"curriculum_requisites\":[],\"name\":\"CHEM 1331\",\"metrics\":{\"complexity\":3.0,\"centrality\":0,\"blocking factor\":1,\"delay factor\":2.0},\"nameSub\":\"Fund. of Chemistry\",\"id\":1351802580,\"credits\":3,\"nameCanonical\":\"\"},{\"curriculum_requisites\":[{\"source_id\":1351802580,\"target_id\":2195546016,\"type\":\"coreq\"}],\"name\":\"CHEM 1111\",\"metrics\":{\"complexity\":2.0,\"centrality\":0,\"blocking factor\":0,\"delay factor\":2.0},\"nameSub\":\"Fund. of Chemistry Lab\",\"id\":2195546016,\"credits\":1,\"nameCanonical\":\"\"}],\"id\":1},{\"name\":\"Term 2\",\"curriculum_items\":[{\"curriculum_requisites\":[],\"name\":\"HIST 1378\",\"metrics\":{\"complexity\":1.0,\"centrality\":0,\"blocking factor\":0,\"delay factor\":1.0},\"nameSub\":\"US Since 1877\",\"id\":2731496025,\"credits\":3,\"nameCanonical\":\"\"},{\"curriculum_requisites\":[{\"source_id\":1324171406,\"target_id\":3195103903,\"type\":\"prereq\"}],\"name\":\"ENGL 1304\",\"metrics\":{\"complexity\":12.0,\"centrality\":13,\"blocking factor\":5,\"delay factor\":7.0},\"nameSub\":\"First Year Writing II\",\"id\":3195103903,\"credits\":3,\"nameCanonical\":\"\"},{\"curriculum_requisites\":[{\"source_id\":1764441140,\"target_id\":1051497550,\"type\":\"prereq\"},{\"source_id\":4175014649,\"target_id\":1051497550,\"type\":\"prereq\"}],\"name\":\"ENGI 1331\",\"metrics\":{\"complexity\":23.0,\"centrality\":160,\"blocking factor\":14,\"delay factor\":9.0},\"nameSub\":\"Computing & Prob. Solving\",\"id\":1051497550,\"credits\":3,\"nameCanonical\":\"\"},{\"curriculum_requisites\":[{\"source_id\":4175014649,\"target_id\":1177372781,\"type\":\"prereq\"}],\"name\":\"MATH 1432\",\"metrics\":{\"complexity\":32.0,\"centrality\":607,\"blocking factor\":20,\"delay factor\":12.0},\"nameSub\":\"Calculus II\",\"id\":1177372781,\"credits\":4,\"nameCanonical\":\"\"},{\"curriculum_requisites\":[{\"source_id\":1177372781,\"target_id\":2834873484,\"type\":\"coreq\"}],\"name\":\"PHYS 1321\",\"metrics\":{\"complexity\":28.0,\"centrality\":217,\"blocking factor\":16,\"delay factor\":12.0},\"nameSub\":\"University Physics I\",\"id\":2834873484,\"credits\":3,\"nameCanonical\":\"\"},{\"curriculum_requisites\":[{\"source_id\":2834873484,\"target_id\":3178954113,\"type\":\"coreq\"}],\"name\":\"PHYS 1121\",\"metrics\":{\"complexity\":4.0,\"centrality\":0,\"blocking factor\":0,\"delay factor\":4.0},\"nameSub\":\"Physics Lab I\",\"id\":3178954113,\"credits\":1,\"nameCanonical\":\"\"}],\"id\":2},{\"name\":\"Term 3\",\"curriculum_items\":[{\"curriculum_requisites\":[],\"name\":\"POLS 1336\",\"metrics\":{\"complexity\":1.0,\"centrality\":0,\"blocking factor\":0,\"delay factor\":1.0},\"nameSub\":\"US and TX Constitutions & Politics\",\"id\":1541543378,\"credits\":3,\"nameCanonical\":\"\"},{\"curriculum_requisites\":[{\"source_id\":1177372781,\"target_id\":947037850,\"type\":\"prereq\"}],\"name\":\"MATH 3321\",\"metrics\":{\"complexity\":21.0,\"centrality\":93,\"blocking factor\":13,\"delay factor\":8.0},\"nameSub\":\"Engineering Math\",\"id\":947037850,\"credits\":3,\"nameCanonical\":\"\"},{\"curriculum_requisites\":[{\"source_id\":1051497550,\"target_id\":2138760932,\"type\":\"prereq\"},{\"source_id\":3059602497,\"target_id\":2138760932,\"type\":\"coreq\"},{\"source_id\":3718777895,\"target_id\":2138760932,\"type\":\"coreq\"},{\"source_id\":2258215799,\"target_id\":2138760932,\"type\":\"coreq\"},{\"source_id\":947037850,\"target_id\":2138760932,\"type\":\"coreq\"}],\"name\":\"ECE 2201\",\"metrics\":{\"complexity\":24.0,\"centrality\":677,\"blocking factor\":12,\"delay factor\":12.0},\"nameSub\":\"Circuit Analysis I\",\"id\":2138760932,\"credits\":3,\"nameCanonical\":\"\"},{\"curriculum_requisites\":[{\"source_id\":1177372781,\"target_id\":2258215799,\"type\":\"prereq\"}],\"name\":\"MATH 2433\",\"metrics\":{\"complexity\":25.0,\"centrality\":292,\"blocking factor\":15,\"delay factor\":10.0},\"nameSub\":\"Calculus III\",\"id\":2258215799,\"credits\":3,\"nameCanonical\":\"\"},{\"curriculum_requisites\":[{\"source_id\":2834873484,\"target_id\":3718777895,\"type\":\"prereq\"},{\"source_id\":2258215799,\"target_id\":3718777895,\"type\":\"coreq\"}],\"name\":\"PHYS 1322\",\"metrics\":{\"complexity\":26.0,\"centrality\":426,\"blocking factor\":14,\"delay factor\":12.0},\"nameSub\":\"University Physics II\",\"id\":3718777895,\"credits\":3,\"nameCanonical\":\"\"},{\"curriculum_requisites\":[{\"source_id\":3718777895,\"target_id\":3059602497,\"type\":\"coreq\"}],\"name\":\"PHYS 1122\",\"metrics\":{\"complexity\":25.0,\"centrality\":250,\"blocking factor\":13,\"delay factor\":12.0},\"nameSub\":\"Physics Lab II\",\"id\":3059602497,\"credits\":1,\"nameCanonical\":\"\"}],\"id\":3},{\"name\":\"Term 4\",\"curriculum_items\":[{\"curriculum_requisites\":[{\"source_id\":3195103903,\"target_id\":1770099342,\"type\":\"prereq\"},{\"source_id\":2138760932,\"target_id\":1770099342,\"type\":\"prereq\"}],\"name\":\"ENGI 2304\",\"metrics\":{\"complexity\":11.0,\"centrality\":159,\"blocking factor\":4,\"delay factor\":7.0},\"nameSub\":\"Technical Communication\",\"id\":1770099342,\"credits\":3,\"nameCanonical\":\"\"},{\"curriculum_requisites\":[{\"source_id\":947037850,\"target_id\":649106202,\"type\":\"prereq\"},{\"source_id\":2138760932,\"target_id\":649106202,\"type\":\"prereq\"}],\"name\":\"ECE 3331\",\"metrics\":{\"complexity\":12.0,\"centrality\":152,\"blocking factor\":4,\"delay factor\":8.0},\"nameSub\":\"Programming Apps in ECE\",\"id\":649106202,\"credits\":3,\"nameCanonical\":\"\"},{\"curriculum_requisites\":[{\"source_id\":3059602497,\"target_id\":1083857781,\"type\":\"prereq\"},{\"source_id\":3887805990,\"target_id\":1083857781,\"type\":\"coreq\"}],\"name\":\"ECE 2100\",\"metrics\":{\"complexity\":17.0,\"centrality\":295,\"blocking factor\":5,\"delay factor\":12.0},\"nameSub\":\"Circuits Lab\",\"id\":1083857781,\"credits\":1,\"nameCanonical\":\"\"},{\"curriculum_requisites\":[{\"source_id\":2138760932,\"target_id\":3887805990,\"type\":\"prereq\"}],\"name\":\"ECE 2202\",\"metrics\":{\"complexity\":20.0,\"centrality\":393,\"blocking factor\":8,\"delay factor\":12.0},\"nameSub\":\"Circuit Analysis II\",\"id\":3887805990,\"credits\":3,\"nameCanonical\":\"\"},{\"curriculum_requisites\":[{\"source_id\":3887805990,\"target_id\":2791403937,\"type\":\"coreq\"}],\"name\":\"ECE 3337\",\"metrics\":{\"complexity\":13.0,\"centrality\":154,\"blocking factor\":4,\"delay factor\":9.0},\"nameSub\":\"Signals & Systems Analysis\",\"id\":2791403937,\"credits\":3,\"nameCanonical\":\"\"},{\"curriculum_requisites\":[{\"source_id\":1083857781,\"target_id\":4184346648,\"type\":\"coreq\"},{\"source_id\":649106202,\"target_id\":4184346648,\"type\":\"coreq\"}],\"name\":\"ECE 3436\",\"metrics\":{\"complexity\":11.0,\"centrality\":171,\"blocking factor\":2,\"delay factor\":9.0},\"nameSub\":\"Microprocessors\",\"id\":4184346648,\"credits\":3,\"nameCanonical\":\"\"}],\"id\":4},{\"name\":\"Term 5\",\"curriculum_items\":[{\"curriculum_requisites\":[],\"name\":\" \",\"metrics\":{\"complexity\":1.0,\"centrality\":0,\"blocking factor\":0,\"delay factor\":1.0},\"nameSub\":\"Creative Arts Core\",\"id\":848294223,\"credits\":3,\"nameCanonical\":\"\"},{\"curriculum_requisites\":[{\"source_id\":1770099342,\"target_id\":1966522372,\"type\":\"prereq\"},{\"source_id\":1083857781,\"target_id\":1966522372,\"type\":\"prereq\"}],\"name\":\"ECE 3155\",\"metrics\":{\"complexity\":15.0,\"centrality\":359,\"blocking factor\":3,\"delay factor\":12.0},\"nameSub\":\"Electronics Lab\",\"id\":1966522372,\"credits\":1,\"nameCanonical\":\"\"},{\"curriculum_requisites\":[{\"source_id\":2791403937,\"target_id\":4165958389,\"type\":\"prereq\"},{\"source_id\":1966522372,\"target_id\":4165958389,\"type\":\"strict-coreq\"}],\"name\":\"ECE 3355\",\"metrics\":{\"complexity\":14.0,\"centrality\":266,\"blocking factor\":2,\"delay factor\":12.0},\"nameSub\":\"Electronics\",\"id\":4165958389,\"credits\":3,\"nameCanonical\":\"\"},{\"curriculum_requisites\":[],\"name\":\" \",\"metrics\":{\"complexity\":1.0,\"centrality\":0,\"blocking factor\":0,\"delay factor\":1.0},\"nameSub\":\"Concentration Elective 1\",\"id\":1056053313,\"credits\":3,\"nameCanonical\":\"\"},{\"curriculum_requisites\":[{\"source_id\":2791403937,\"target_id\":2252871414,\"type\":\"prereq\"}],\"name\":\"ECE 3317\",\"metrics\":{\"complexity\":11.0,\"centrality\":77,\"blocking factor\":2,\"delay factor\":9.0},\"nameSub\":\"Applied EM Waves\",\"id\":2252871414,\"credits\":3,\"nameCanonical\":\"\"},{\"curriculum_requisites\":[],\"name\":\" \",\"metrics\":{\"complexity\":1.0,\"centrality\":0,\"blocking factor\":0,\"delay factor\":1.0},\"nameSub\":\"ECE Elective 1\",\"id\":2051928090,\"credits\":3,\"nameCanonical\":\"\"}],\"id\":5},{\"name\":\"Term 6\",\"curriculum_items\":[{\"curriculum_requisites\":[],\"name\":\"POLS 1337\",\"metrics\":{\"complexity\":1.0,\"centrality\":0,\"blocking factor\":0,\"delay factor\":1.0},\"nameSub\":\"US Gov: Congress, President and Courts\",\"id\":951874139,\"credits\":3,\"nameCanonical\":\"\"},{\"curriculum_requisites\":[{\"source_id\":1051497550,\"target_id\":2888554139,\"type\":\"prereq\"},{\"source_id\":1177372781,\"target_id\":2888554139,\"type\":\"prereq\"}],\"name\":\"INDE 2333\",\"metrics\":{\"complexity\":6.0,\"centrality\":16,\"blocking factor\":2,\"delay factor\":4.0},\"nameSub\":\"Engineering Statistics\",\"id\":2888554139,\"credits\":3,\"nameCanonical\":\"\"},{\"curriculum_requisites\":[],\"name\":\" \",\"metrics\":{\"complexity\":1.0,\"centrality\":0,\"blocking factor\":0,\"delay factor\":1.0},\"nameSub\":\"Elective Lab 1\",\"id\":26700799,\"credits\":1,\"nameCanonical\":\"\"},{\"curriculum_requisites\":[],\"name\":\" \",\"metrics\":{\"complexity\":1.0,\"centrality\":0,\"blocking factor\":0,\"delay factor\":1.0},\"nameSub\":\"Concentration Elective 2\",\"id\":1745860227,\"credits\":3,\"nameCanonical\":\"\"},{\"curriculum_requisites\":[{\"source_id\":649106202,\"target_id\":3368026167,\"type\":\"prereq\"}],\"name\":\"ECE 3340\",\"metrics\":{\"complexity\":10.0,\"centrality\":76,\"blocking factor\":2,\"delay factor\":8.0},\"nameSub\":\"Numerical Methods\",\"id\":3368026167,\"credits\":3,\"nameCanonical\":\"\"},{\"curriculum_requisites\":[],\"name\":\" \",\"metrics\":{\"complexity\":1.0,\"centrality\":0,\"blocking factor\":0,\"delay factor\":1.0},\"nameSub\":\"ECE Elective 2\",\"id\":672829327,\"credits\":3,\"nameCanonical\":\"\"}],\"id\":6},{\"name\":\"Term 7\",\"curriculum_items\":[{\"curriculum_requisites\":[],\"name\":\"ECON 2304\",\"metrics\":{\"complexity\":5.0,\"centrality\":0,\"blocking factor\":2,\"delay factor\":3.0},\"nameSub\":\"Microeconomic Principles\",\"id\":3224555476,\"credits\":3,\"nameCanonical\":\"\"},{\"curriculum_requisites\":[{\"source_id\":4184346648,\"target_id\":1337097032,\"type\":\"prereq\"},{\"source_id\":2888554139,\"target_id\":1337097032,\"type\":\"prereq\"},{\"source_id\":3224555476,\"target_id\":1337097032,\"type\":\"coreq\"},{\"source_id\":1966522372,\"target_id\":1337097032,\"type\":\"prereq\"},{\"source_id\":4165958389,\"target_id\":1337097032,\"type\":\"prereq\"},{\"source_id\":2252871414,\"target_id\":1337097032,\"type\":\"prereq\"},{\"source_id\":3368026167,\"target_id\":1337097032,\"type\":\"prereq\"}],\"name\":\"ECE 4335\",\"metrics\":{\"complexity\":13.0,\"centrality\":779,\"blocking factor\":1,\"delay factor\":12.0},\"nameSub\":\"ECE Design I\",\"id\":1337097032,\"credits\":3,\"nameCanonical\":\"\"},{\"curriculum_requisites\":[],\"name\":\" \",\"metrics\":{\"complexity\":1.0,\"centrality\":0,\"blocking factor\":0,\"delay factor\":1.0},\"nameSub\":\"Elective Lab 2\",\"id\":1296179090,\"credits\":1,\"nameCanonical\":\"\"},{\"curriculum_requisites\":[],\"name\":\" \",\"metrics\":{\"complexity\":1.0,\"centrality\":0,\"blocking factor\":0,\"delay factor\":1.0},\"nameSub\":\"Concentration Elective 3\",\"id\":1105094343,\"credits\":3,\"nameCanonical\":\"\"},{\"curriculum_requisites\":[],\"name\":\" \",\"metrics\":{\"complexity\":1.0,\"centrality\":0,\"blocking factor\":0,\"delay factor\":1.0},\"nameSub\":\"Concentration Elective 4\",\"id\":1819261218,\"credits\":3,\"nameCanonical\":\"\"},{\"curriculum_requisites\":[],\"name\":\" \",\"metrics\":{\"complexity\":1.0,\"centrality\":0,\"blocking factor\":0,\"delay factor\":1.0},\"nameSub\":\"Technical Elective\",\"id\":2529896330,\"credits\":3,\"nameCanonical\":\"\"}],\"id\":7},{\"name\":\"Term 8\",\"curriculum_items\":[{\"curriculum_requisites\":[],\"name\":\" \",\"metrics\":{\"complexity\":1.0,\"centrality\":0,\"blocking factor\":0,\"delay factor\":1.0},\"nameSub\":\"Lang., Phil. & Culture Core\",\"id\":1626752824,\"credits\":3,\"nameCanonical\":\"\"},{\"curriculum_requisites\":[{\"source_id\":1337097032,\"target_id\":1158404973,\"type\":\"prereq\"}],\"name\":\"ECE 4336\",\"metrics\":{\"complexity\":12.0,\"centrality\":0,\"blocking factor\":0,\"delay factor\":12.0},\"nameSub\":\"ECE Design II\",\"id\":1158404973,\"credits\":3,\"nameCanonical\":\"\"},{\"curriculum_requisites\":[],\"name\":\" \",\"metrics\":{\"complexity\":1.0,\"centrality\":0,\"blocking factor\":0,\"delay factor\":1.0},\"nameSub\":\"Elective Lab 3\",\"id\":3091492697,\"credits\":1,\"nameCanonical\":\"\"},{\"curriculum_requisites\":[],\"name\":\" \",\"metrics\":{\"complexity\":1.0,\"centrality\":0,\"blocking factor\":0,\"delay factor\":1.0},\"nameSub\":\"Concentration Elective 5\",\"id\":2070124031,\"credits\":3,\"nameCanonical\":\"\"},{\"curriculum_requisites\":[],\"name\":\" \",\"metrics\":{\"complexity\":1.0,\"centrality\":0,\"blocking factor\":0,\"delay factor\":1.0},\"nameSub\":\"Concentration Elective 6\",\"id\":1716266479,\"credits\":3,\"nameCanonical\":\"\"},{\"curriculum_requisites\":[],\"name\":\" \",\"metrics\":{\"complexity\":1.0,\"centrality\":0,\"blocking factor\":0,\"delay factor\":1.0},\"nameSub\":\"Concentration Elective 7\",\"id\":2584207151,\"credits\":3,\"nameCanonical\":\"\"},{\"curriculum_requisites\":[],\"name\":\" \",\"metrics\":{\"complexity\":1.0,\"centrality\":0,\"blocking factor\":0,\"delay factor\":1.0},\"nameSub\":\"Elective Lab 4\",\"id\":2450156574,\"credits\":1,\"nameCanonical\":\"\"}],\"id\":8}],\"institution\":\"\"}},\"*\"); window.removeEventListener(\"message\",window.messageReceived); window.messageReceived=(function (event){return (event.data.curriculum!==undefined) ? (WebIO.setval({\"name\":\"curriculum-data\",\"scope\":\"12490702642073571906\",\"id\":\"ob_02\",\"type\":\"observable\"},event.data.curriculum)) : undefined}); return window.addEventListener(\"message\",window.messageReceived)})"
          },
          "id": "curriculum",
          "src": "http://localhost:8156",
          "style": {
           "border": "none",
           "height": "100vh",
           "margin": "0",
           "padding": "0",
           "width": "100%"
          }
         },
         "type": "node"
        }
       ],
       "instanceArgs": {
        "handlers": {},
        "id": "12490702642073571906",
        "imports": {
         "data": [],
         "type": "async_block"
        },
        "mount_callbacks": [],
        "observables": {
         "curriculum-data": {
          "id": "ob_02",
          "sync": true,
          "value": {
           "curriculum": {
            "curriculum_terms": [
             {
              "curriculum_items": [
               {
                "credits": 3,
                "curriculum_requisites": [],
                "id": 3824069494,
                "metrics": {
                 "blocking factor": 0,
                 "centrality": 0,
                 "complexity": 1,
                 "delay factor": 1
                },
                "name": "HIST 1377",
                "nameCanonical": "",
                "nameSub": "The US to 1877"
               },
               {
                "credits": 3,
                "curriculum_requisites": [],
                "id": 1324171406,
                "metrics": {
                 "blocking factor": 6,
                 "centrality": 0,
                 "complexity": 13,
                 "delay factor": 7
                },
                "name": "ENGL 1303",
                "nameCanonical": "",
                "nameSub": "First Year Writing I"
               },
               {
                "credits": 1,
                "curriculum_requisites": [
                 {
                  "source_id": 4175014649,
                  "target_id": 1764441140,
                  "type": "coreq"
                 }
                ],
                "id": 1764441140,
                "metrics": {
                 "blocking factor": 15,
                 "centrality": 85,
                 "complexity": 24,
                 "delay factor": 9
                },
                "name": "ENGI 1100",
                "nameCanonical": "",
                "nameSub": "Intro to Engr."
               },
               {
                "credits": 4,
                "curriculum_requisites": [],
                "id": 4175014649,
                "metrics": {
                 "blocking factor": 23,
                 "centrality": 0,
                 "complexity": 35,
                 "delay factor": 12
                },
                "name": "MATH 1431",
                "nameCanonical": "",
                "nameSub": "Calculus I"
               },
               {
                "credits": 3,
                "curriculum_requisites": [],
                "id": 1351802580,
                "metrics": {
                 "blocking factor": 1,
                 "centrality": 0,
                 "complexity": 3,
                 "delay factor": 2
                },
                "name": "CHEM 1331",
                "nameCanonical": "",
                "nameSub": "Fund. of Chemistry"
               },
               {
                "credits": 1,
                "curriculum_requisites": [
                 {
                  "source_id": 1351802580,
                  "target_id": 2195546016,
                  "type": "coreq"
                 }
                ],
                "id": 2195546016,
                "metrics": {
                 "blocking factor": 0,
                 "centrality": 0,
                 "complexity": 2,
                 "delay factor": 2
                },
                "name": "CHEM 1111",
                "nameCanonical": "",
                "nameSub": "Fund. of Chemistry Lab"
               }
              ],
              "id": 1,
              "name": "Term 1"
             },
             {
              "curriculum_items": [
               {
                "credits": 3,
                "curriculum_requisites": [],
                "id": 2731496025,
                "metrics": {
                 "blocking factor": 0,
                 "centrality": 0,
                 "complexity": 1,
                 "delay factor": 1
                },
                "name": "HIST 1378",
                "nameCanonical": "",
                "nameSub": "US Since 1877"
               },
               {
                "credits": 3,
                "curriculum_requisites": [
                 {
                  "source_id": 1324171406,
                  "target_id": 3195103903,
                  "type": "prereq"
                 }
                ],
                "id": 3195103903,
                "metrics": {
                 "blocking factor": 5,
                 "centrality": 13,
                 "complexity": 12,
                 "delay factor": 7
                },
                "name": "ENGL 1304",
                "nameCanonical": "",
                "nameSub": "First Year Writing II"
               },
               {
                "credits": 3,
                "curriculum_requisites": [
                 {
                  "source_id": 1764441140,
                  "target_id": 1051497550,
                  "type": "prereq"
                 },
                 {
                  "source_id": 4175014649,
                  "target_id": 1051497550,
                  "type": "prereq"
                 }
                ],
                "id": 1051497550,
                "metrics": {
                 "blocking factor": 14,
                 "centrality": 160,
                 "complexity": 23,
                 "delay factor": 9
                },
                "name": "ENGI 1331",
                "nameCanonical": "",
                "nameSub": "Computing & Prob. Solving"
               },
               {
                "credits": 4,
                "curriculum_requisites": [
                 {
                  "source_id": 4175014649,
                  "target_id": 1177372781,
                  "type": "prereq"
                 }
                ],
                "id": 1177372781,
                "metrics": {
                 "blocking factor": 20,
                 "centrality": 607,
                 "complexity": 32,
                 "delay factor": 12
                },
                "name": "MATH 1432",
                "nameCanonical": "",
                "nameSub": "Calculus II"
               },
               {
                "credits": 3,
                "curriculum_requisites": [
                 {
                  "source_id": 1177372781,
                  "target_id": 2834873484,
                  "type": "coreq"
                 }
                ],
                "id": 2834873484,
                "metrics": {
                 "blocking factor": 16,
                 "centrality": 217,
                 "complexity": 28,
                 "delay factor": 12
                },
                "name": "PHYS 1321",
                "nameCanonical": "",
                "nameSub": "University Physics I"
               },
               {
                "credits": 1,
                "curriculum_requisites": [
                 {
                  "source_id": 2834873484,
                  "target_id": 3178954113,
                  "type": "coreq"
                 }
                ],
                "id": 3178954113,
                "metrics": {
                 "blocking factor": 0,
                 "centrality": 0,
                 "complexity": 4,
                 "delay factor": 4
                },
                "name": "PHYS 1121",
                "nameCanonical": "",
                "nameSub": "Physics Lab I"
               }
              ],
              "id": 2,
              "name": "Term 2"
             },
             {
              "curriculum_items": [
               {
                "credits": 3,
                "curriculum_requisites": [],
                "id": 1541543378,
                "metrics": {
                 "blocking factor": 0,
                 "centrality": 0,
                 "complexity": 1,
                 "delay factor": 1
                },
                "name": "POLS 1336",
                "nameCanonical": "",
                "nameSub": "US and TX Constitutions & Politics"
               },
               {
                "credits": 3,
                "curriculum_requisites": [
                 {
                  "source_id": 1177372781,
                  "target_id": 947037850,
                  "type": "prereq"
                 }
                ],
                "id": 947037850,
                "metrics": {
                 "blocking factor": 13,
                 "centrality": 93,
                 "complexity": 21,
                 "delay factor": 8
                },
                "name": "MATH 3321",
                "nameCanonical": "",
                "nameSub": "Engineering Math"
               },
               {
                "credits": 3,
                "curriculum_requisites": [
                 {
                  "source_id": 1051497550,
                  "target_id": 2138760932,
                  "type": "prereq"
                 },
                 {
                  "source_id": 3059602497,
                  "target_id": 2138760932,
                  "type": "coreq"
                 },
                 {
                  "source_id": 3718777895,
                  "target_id": 2138760932,
                  "type": "coreq"
                 },
                 {
                  "source_id": 2258215799,
                  "target_id": 2138760932,
                  "type": "coreq"
                 },
                 {
                  "source_id": 947037850,
                  "target_id": 2138760932,
                  "type": "coreq"
                 }
                ],
                "id": 2138760932,
                "metrics": {
                 "blocking factor": 12,
                 "centrality": 677,
                 "complexity": 24,
                 "delay factor": 12
                },
                "name": "ECE 2201",
                "nameCanonical": "",
                "nameSub": "Circuit Analysis I"
               },
               {
                "credits": 3,
                "curriculum_requisites": [
                 {
                  "source_id": 1177372781,
                  "target_id": 2258215799,
                  "type": "prereq"
                 }
                ],
                "id": 2258215799,
                "metrics": {
                 "blocking factor": 15,
                 "centrality": 292,
                 "complexity": 25,
                 "delay factor": 10
                },
                "name": "MATH 2433",
                "nameCanonical": "",
                "nameSub": "Calculus III"
               },
               {
                "credits": 3,
                "curriculum_requisites": [
                 {
                  "source_id": 2834873484,
                  "target_id": 3718777895,
                  "type": "prereq"
                 },
                 {
                  "source_id": 2258215799,
                  "target_id": 3718777895,
                  "type": "coreq"
                 }
                ],
                "id": 3718777895,
                "metrics": {
                 "blocking factor": 14,
                 "centrality": 426,
                 "complexity": 26,
                 "delay factor": 12
                },
                "name": "PHYS 1322",
                "nameCanonical": "",
                "nameSub": "University Physics II"
               },
               {
                "credits": 1,
                "curriculum_requisites": [
                 {
                  "source_id": 3718777895,
                  "target_id": 3059602497,
                  "type": "coreq"
                 }
                ],
                "id": 3059602497,
                "metrics": {
                 "blocking factor": 13,
                 "centrality": 250,
                 "complexity": 25,
                 "delay factor": 12
                },
                "name": "PHYS 1122",
                "nameCanonical": "",
                "nameSub": "Physics Lab II"
               }
              ],
              "id": 3,
              "name": "Term 3"
             },
             {
              "curriculum_items": [
               {
                "credits": 3,
                "curriculum_requisites": [
                 {
                  "source_id": 3195103903,
                  "target_id": 1770099342,
                  "type": "prereq"
                 },
                 {
                  "source_id": 2138760932,
                  "target_id": 1770099342,
                  "type": "prereq"
                 }
                ],
                "id": 1770099342,
                "metrics": {
                 "blocking factor": 4,
                 "centrality": 159,
                 "complexity": 11,
                 "delay factor": 7
                },
                "name": "ENGI 2304",
                "nameCanonical": "",
                "nameSub": "Technical Communication"
               },
               {
                "credits": 3,
                "curriculum_requisites": [
                 {
                  "source_id": 947037850,
                  "target_id": 649106202,
                  "type": "prereq"
                 },
                 {
                  "source_id": 2138760932,
                  "target_id": 649106202,
                  "type": "prereq"
                 }
                ],
                "id": 649106202,
                "metrics": {
                 "blocking factor": 4,
                 "centrality": 152,
                 "complexity": 12,
                 "delay factor": 8
                },
                "name": "ECE 3331",
                "nameCanonical": "",
                "nameSub": "Programming Apps in ECE"
               },
               {
                "credits": 1,
                "curriculum_requisites": [
                 {
                  "source_id": 3059602497,
                  "target_id": 1083857781,
                  "type": "prereq"
                 },
                 {
                  "source_id": 3887805990,
                  "target_id": 1083857781,
                  "type": "coreq"
                 }
                ],
                "id": 1083857781,
                "metrics": {
                 "blocking factor": 5,
                 "centrality": 295,
                 "complexity": 17,
                 "delay factor": 12
                },
                "name": "ECE 2100",
                "nameCanonical": "",
                "nameSub": "Circuits Lab"
               },
               {
                "credits": 3,
                "curriculum_requisites": [
                 {
                  "source_id": 2138760932,
                  "target_id": 3887805990,
                  "type": "prereq"
                 }
                ],
                "id": 3887805990,
                "metrics": {
                 "blocking factor": 8,
                 "centrality": 393,
                 "complexity": 20,
                 "delay factor": 12
                },
                "name": "ECE 2202",
                "nameCanonical": "",
                "nameSub": "Circuit Analysis II"
               },
               {
                "credits": 3,
                "curriculum_requisites": [
                 {
                  "source_id": 3887805990,
                  "target_id": 2791403937,
                  "type": "coreq"
                 }
                ],
                "id": 2791403937,
                "metrics": {
                 "blocking factor": 4,
                 "centrality": 154,
                 "complexity": 13,
                 "delay factor": 9
                },
                "name": "ECE 3337",
                "nameCanonical": "",
                "nameSub": "Signals & Systems Analysis"
               },
               {
                "credits": 3,
                "curriculum_requisites": [
                 {
                  "source_id": 1083857781,
                  "target_id": 4184346648,
                  "type": "coreq"
                 },
                 {
                  "source_id": 649106202,
                  "target_id": 4184346648,
                  "type": "coreq"
                 }
                ],
                "id": 4184346648,
                "metrics": {
                 "blocking factor": 2,
                 "centrality": 171,
                 "complexity": 11,
                 "delay factor": 9
                },
                "name": "ECE 3436",
                "nameCanonical": "",
                "nameSub": "Microprocessors"
               }
              ],
              "id": 4,
              "name": "Term 4"
             },
             {
              "curriculum_items": [
               {
                "credits": 3,
                "curriculum_requisites": [],
                "id": 848294223,
                "metrics": {
                 "blocking factor": 0,
                 "centrality": 0,
                 "complexity": 1,
                 "delay factor": 1
                },
                "name": " ",
                "nameCanonical": "",
                "nameSub": "Creative Arts Core"
               },
               {
                "credits": 1,
                "curriculum_requisites": [
                 {
                  "source_id": 1770099342,
                  "target_id": 1966522372,
                  "type": "prereq"
                 },
                 {
                  "source_id": 1083857781,
                  "target_id": 1966522372,
                  "type": "prereq"
                 }
                ],
                "id": 1966522372,
                "metrics": {
                 "blocking factor": 3,
                 "centrality": 359,
                 "complexity": 15,
                 "delay factor": 12
                },
                "name": "ECE 3155",
                "nameCanonical": "",
                "nameSub": "Electronics Lab"
               },
               {
                "credits": 3,
                "curriculum_requisites": [
                 {
                  "source_id": 2791403937,
                  "target_id": 4165958389,
                  "type": "prereq"
                 },
                 {
                  "source_id": 1966522372,
                  "target_id": 4165958389,
                  "type": "strict-coreq"
                 }
                ],
                "id": 4165958389,
                "metrics": {
                 "blocking factor": 2,
                 "centrality": 266,
                 "complexity": 14,
                 "delay factor": 12
                },
                "name": "ECE 3355",
                "nameCanonical": "",
                "nameSub": "Electronics"
               },
               {
                "credits": 3,
                "curriculum_requisites": [],
                "id": 1056053313,
                "metrics": {
                 "blocking factor": 0,
                 "centrality": 0,
                 "complexity": 1,
                 "delay factor": 1
                },
                "name": " ",
                "nameCanonical": "",
                "nameSub": "Concentration Elective 1"
               },
               {
                "credits": 3,
                "curriculum_requisites": [
                 {
                  "source_id": 2791403937,
                  "target_id": 2252871414,
                  "type": "prereq"
                 }
                ],
                "id": 2252871414,
                "metrics": {
                 "blocking factor": 2,
                 "centrality": 77,
                 "complexity": 11,
                 "delay factor": 9
                },
                "name": "ECE 3317",
                "nameCanonical": "",
                "nameSub": "Applied EM Waves"
               },
               {
                "credits": 3,
                "curriculum_requisites": [],
                "id": 2051928090,
                "metrics": {
                 "blocking factor": 0,
                 "centrality": 0,
                 "complexity": 1,
                 "delay factor": 1
                },
                "name": " ",
                "nameCanonical": "",
                "nameSub": "ECE Elective 1"
               }
              ],
              "id": 5,
              "name": "Term 5"
             },
             {
              "curriculum_items": [
               {
                "credits": 3,
                "curriculum_requisites": [],
                "id": 951874139,
                "metrics": {
                 "blocking factor": 0,
                 "centrality": 0,
                 "complexity": 1,
                 "delay factor": 1
                },
                "name": "POLS 1337",
                "nameCanonical": "",
                "nameSub": "US Gov: Congress, President and Courts"
               },
               {
                "credits": 3,
                "curriculum_requisites": [
                 {
                  "source_id": 1051497550,
                  "target_id": 2888554139,
                  "type": "prereq"
                 },
                 {
                  "source_id": 1177372781,
                  "target_id": 2888554139,
                  "type": "prereq"
                 }
                ],
                "id": 2888554139,
                "metrics": {
                 "blocking factor": 2,
                 "centrality": 16,
                 "complexity": 6,
                 "delay factor": 4
                },
                "name": "INDE 2333",
                "nameCanonical": "",
                "nameSub": "Engineering Statistics"
               },
               {
                "credits": 1,
                "curriculum_requisites": [],
                "id": 26700799,
                "metrics": {
                 "blocking factor": 0,
                 "centrality": 0,
                 "complexity": 1,
                 "delay factor": 1
                },
                "name": " ",
                "nameCanonical": "",
                "nameSub": "Elective Lab 1"
               },
               {
                "credits": 3,
                "curriculum_requisites": [],
                "id": 1745860227,
                "metrics": {
                 "blocking factor": 0,
                 "centrality": 0,
                 "complexity": 1,
                 "delay factor": 1
                },
                "name": " ",
                "nameCanonical": "",
                "nameSub": "Concentration Elective 2"
               },
               {
                "credits": 3,
                "curriculum_requisites": [
                 {
                  "source_id": 649106202,
                  "target_id": 3368026167,
                  "type": "prereq"
                 }
                ],
                "id": 3368026167,
                "metrics": {
                 "blocking factor": 2,
                 "centrality": 76,
                 "complexity": 10,
                 "delay factor": 8
                },
                "name": "ECE 3340",
                "nameCanonical": "",
                "nameSub": "Numerical Methods"
               },
               {
                "credits": 3,
                "curriculum_requisites": [],
                "id": 672829327,
                "metrics": {
                 "blocking factor": 0,
                 "centrality": 0,
                 "complexity": 1,
                 "delay factor": 1
                },
                "name": " ",
                "nameCanonical": "",
                "nameSub": "ECE Elective 2"
               }
              ],
              "id": 6,
              "name": "Term 6"
             },
             {
              "curriculum_items": [
               {
                "credits": 3,
                "curriculum_requisites": [],
                "id": 3224555476,
                "metrics": {
                 "blocking factor": 2,
                 "centrality": 0,
                 "complexity": 5,
                 "delay factor": 3
                },
                "name": "ECON 2304",
                "nameCanonical": "",
                "nameSub": "Microeconomic Principles"
               },
               {
                "credits": 3,
                "curriculum_requisites": [
                 {
                  "source_id": 4184346648,
                  "target_id": 1337097032,
                  "type": "prereq"
                 },
                 {
                  "source_id": 2888554139,
                  "target_id": 1337097032,
                  "type": "prereq"
                 },
                 {
                  "source_id": 3224555476,
                  "target_id": 1337097032,
                  "type": "coreq"
                 },
                 {
                  "source_id": 1966522372,
                  "target_id": 1337097032,
                  "type": "prereq"
                 },
                 {
                  "source_id": 4165958389,
                  "target_id": 1337097032,
                  "type": "prereq"
                 },
                 {
                  "source_id": 2252871414,
                  "target_id": 1337097032,
                  "type": "prereq"
                 },
                 {
                  "source_id": 3368026167,
                  "target_id": 1337097032,
                  "type": "prereq"
                 }
                ],
                "id": 1337097032,
                "metrics": {
                 "blocking factor": 1,
                 "centrality": 779,
                 "complexity": 13,
                 "delay factor": 12
                },
                "name": "ECE 4335",
                "nameCanonical": "",
                "nameSub": "ECE Design I"
               },
               {
                "credits": 1,
                "curriculum_requisites": [],
                "id": 1296179090,
                "metrics": {
                 "blocking factor": 0,
                 "centrality": 0,
                 "complexity": 1,
                 "delay factor": 1
                },
                "name": " ",
                "nameCanonical": "",
                "nameSub": "Elective Lab 2"
               },
               {
                "credits": 3,
                "curriculum_requisites": [],
                "id": 1105094343,
                "metrics": {
                 "blocking factor": 0,
                 "centrality": 0,
                 "complexity": 1,
                 "delay factor": 1
                },
                "name": " ",
                "nameCanonical": "",
                "nameSub": "Concentration Elective 3"
               },
               {
                "credits": 3,
                "curriculum_requisites": [],
                "id": 1819261218,
                "metrics": {
                 "blocking factor": 0,
                 "centrality": 0,
                 "complexity": 1,
                 "delay factor": 1
                },
                "name": " ",
                "nameCanonical": "",
                "nameSub": "Concentration Elective 4"
               },
               {
                "credits": 3,
                "curriculum_requisites": [],
                "id": 2529896330,
                "metrics": {
                 "blocking factor": 0,
                 "centrality": 0,
                 "complexity": 1,
                 "delay factor": 1
                },
                "name": " ",
                "nameCanonical": "",
                "nameSub": "Technical Elective"
               }
              ],
              "id": 7,
              "name": "Term 7"
             },
             {
              "curriculum_items": [
               {
                "credits": 3,
                "curriculum_requisites": [],
                "id": 1626752824,
                "metrics": {
                 "blocking factor": 0,
                 "centrality": 0,
                 "complexity": 1,
                 "delay factor": 1
                },
                "name": " ",
                "nameCanonical": "",
                "nameSub": "Lang., Phil. & Culture Core"
               },
               {
                "credits": 3,
                "curriculum_requisites": [
                 {
                  "source_id": 1337097032,
                  "target_id": 1158404973,
                  "type": "prereq"
                 }
                ],
                "id": 1158404973,
                "metrics": {
                 "blocking factor": 0,
                 "centrality": 0,
                 "complexity": 12,
                 "delay factor": 12
                },
                "name": "ECE 4336",
                "nameCanonical": "",
                "nameSub": "ECE Design II"
               },
               {
                "credits": 1,
                "curriculum_requisites": [],
                "id": 3091492697,
                "metrics": {
                 "blocking factor": 0,
                 "centrality": 0,
                 "complexity": 1,
                 "delay factor": 1
                },
                "name": " ",
                "nameCanonical": "",
                "nameSub": "Elective Lab 3"
               },
               {
                "credits": 3,
                "curriculum_requisites": [],
                "id": 2070124031,
                "metrics": {
                 "blocking factor": 0,
                 "centrality": 0,
                 "complexity": 1,
                 "delay factor": 1
                },
                "name": " ",
                "nameCanonical": "",
                "nameSub": "Concentration Elective 5"
               },
               {
                "credits": 3,
                "curriculum_requisites": [],
                "id": 1716266479,
                "metrics": {
                 "blocking factor": 0,
                 "centrality": 0,
                 "complexity": 1,
                 "delay factor": 1
                },
                "name": " ",
                "nameCanonical": "",
                "nameSub": "Concentration Elective 6"
               },
               {
                "credits": 3,
                "curriculum_requisites": [],
                "id": 2584207151,
                "metrics": {
                 "blocking factor": 0,
                 "centrality": 0,
                 "complexity": 1,
                 "delay factor": 1
                },
                "name": " ",
                "nameCanonical": "",
                "nameSub": "Concentration Elective 7"
               },
               {
                "credits": 1,
                "curriculum_requisites": [],
                "id": 2450156574,
                "metrics": {
                 "blocking factor": 0,
                 "centrality": 0,
                 "complexity": 1,
                 "delay factor": 1
                },
                "name": " ",
                "nameCanonical": "",
                "nameSub": "Elective Lab 4"
               }
              ],
              "id": 8,
              "name": "Term 8"
             }
            ],
            "dp_name": "University of Houston EE Program 4-year Plan",
            "institution": "",
            "name": "University of Houston EE Program"
           },
           "options": {
            "edit": false,
            "hideTerms": false
           }
          }
         }
        },
        "systemjs_options": null
       },
       "nodeType": "Scope",
       "props": {},
       "type": "node"
      },
      "text/html": [
       "<div\n",
       "    class=\"webio-mountpoint\"\n",
       "    data-webio-mountpoint=\"10568168598537941806\"\n",
       ">\n",
       "    <script>\n",
       "    if (window.require && require.defined && require.defined(\"nbextensions/webio/main\")) {\n",
       "        console.log(\"Jupyter WebIO extension detected, not mounting.\");\n",
       "    } else if (window.WebIO) {\n",
       "        WebIO.mount(\n",
       "            document.querySelector('[data-webio-mountpoint=\"10568168598537941806\"]'),\n",
       "            {\"props\":{},\"nodeType\":\"Scope\",\"type\":\"node\",\"instanceArgs\":{\"imports\":{\"data\":[],\"type\":\"async_block\"},\"id\":\"12490702642073571906\",\"handlers\":{},\"systemjs_options\":null,\"mount_callbacks\":[],\"observables\":{\"curriculum-data\":{\"sync\":true,\"id\":\"ob_02\",\"value\":{\"options\":{\"hideTerms\":false,\"edit\":false},\"curriculum\":{\"name\":\"University of Houston EE Program\",\"dp_name\":\"University of Houston EE Program 4-year Plan\",\"curriculum_terms\":[{\"name\":\"Term 1\",\"curriculum_items\":[{\"curriculum_requisites\":[],\"name\":\"HIST 1377\",\"metrics\":{\"complexity\":1.0,\"centrality\":0,\"blocking factor\":0,\"delay factor\":1.0},\"nameSub\":\"The US to 1877\",\"id\":3824069494,\"credits\":3,\"nameCanonical\":\"\"},{\"curriculum_requisites\":[],\"name\":\"ENGL 1303\",\"metrics\":{\"complexity\":13.0,\"centrality\":0,\"blocking factor\":6,\"delay factor\":7.0},\"nameSub\":\"First Year Writing I\",\"id\":1324171406,\"credits\":3,\"nameCanonical\":\"\"},{\"curriculum_requisites\":[{\"source_id\":4175014649,\"target_id\":1764441140,\"type\":\"coreq\"}],\"name\":\"ENGI 1100\",\"metrics\":{\"complexity\":24.0,\"centrality\":85,\"blocking factor\":15,\"delay factor\":9.0},\"nameSub\":\"Intro to Engr.\",\"id\":1764441140,\"credits\":1,\"nameCanonical\":\"\"},{\"curriculum_requisites\":[],\"name\":\"MATH 1431\",\"metrics\":{\"complexity\":35.0,\"centrality\":0,\"blocking factor\":23,\"delay factor\":12.0},\"nameSub\":\"Calculus I\",\"id\":4175014649,\"credits\":4,\"nameCanonical\":\"\"},{\"curriculum_requisites\":[],\"name\":\"CHEM 1331\",\"metrics\":{\"complexity\":3.0,\"centrality\":0,\"blocking factor\":1,\"delay factor\":2.0},\"nameSub\":\"Fund. of Chemistry\",\"id\":1351802580,\"credits\":3,\"nameCanonical\":\"\"},{\"curriculum_requisites\":[{\"source_id\":1351802580,\"target_id\":2195546016,\"type\":\"coreq\"}],\"name\":\"CHEM 1111\",\"metrics\":{\"complexity\":2.0,\"centrality\":0,\"blocking factor\":0,\"delay factor\":2.0},\"nameSub\":\"Fund. of Chemistry Lab\",\"id\":2195546016,\"credits\":1,\"nameCanonical\":\"\"}],\"id\":1},{\"name\":\"Term 2\",\"curriculum_items\":[{\"curriculum_requisites\":[],\"name\":\"HIST 1378\",\"metrics\":{\"complexity\":1.0,\"centrality\":0,\"blocking factor\":0,\"delay factor\":1.0},\"nameSub\":\"US Since 1877\",\"id\":2731496025,\"credits\":3,\"nameCanonical\":\"\"},{\"curriculum_requisites\":[{\"source_id\":1324171406,\"target_id\":3195103903,\"type\":\"prereq\"}],\"name\":\"ENGL 1304\",\"metrics\":{\"complexity\":12.0,\"centrality\":13,\"blocking factor\":5,\"delay factor\":7.0},\"nameSub\":\"First Year Writing II\",\"id\":3195103903,\"credits\":3,\"nameCanonical\":\"\"},{\"curriculum_requisites\":[{\"source_id\":1764441140,\"target_id\":1051497550,\"type\":\"prereq\"},{\"source_id\":4175014649,\"target_id\":1051497550,\"type\":\"prereq\"}],\"name\":\"ENGI 1331\",\"metrics\":{\"complexity\":23.0,\"centrality\":160,\"blocking factor\":14,\"delay factor\":9.0},\"nameSub\":\"Computing & Prob. Solving\",\"id\":1051497550,\"credits\":3,\"nameCanonical\":\"\"},{\"curriculum_requisites\":[{\"source_id\":4175014649,\"target_id\":1177372781,\"type\":\"prereq\"}],\"name\":\"MATH 1432\",\"metrics\":{\"complexity\":32.0,\"centrality\":607,\"blocking factor\":20,\"delay factor\":12.0},\"nameSub\":\"Calculus II\",\"id\":1177372781,\"credits\":4,\"nameCanonical\":\"\"},{\"curriculum_requisites\":[{\"source_id\":1177372781,\"target_id\":2834873484,\"type\":\"coreq\"}],\"name\":\"PHYS 1321\",\"metrics\":{\"complexity\":28.0,\"centrality\":217,\"blocking factor\":16,\"delay factor\":12.0},\"nameSub\":\"University Physics I\",\"id\":2834873484,\"credits\":3,\"nameCanonical\":\"\"},{\"curriculum_requisites\":[{\"source_id\":2834873484,\"target_id\":3178954113,\"type\":\"coreq\"}],\"name\":\"PHYS 1121\",\"metrics\":{\"complexity\":4.0,\"centrality\":0,\"blocking factor\":0,\"delay factor\":4.0},\"nameSub\":\"Physics Lab I\",\"id\":3178954113,\"credits\":1,\"nameCanonical\":\"\"}],\"id\":2},{\"name\":\"Term 3\",\"curriculum_items\":[{\"curriculum_requisites\":[],\"name\":\"POLS 1336\",\"metrics\":{\"complexity\":1.0,\"centrality\":0,\"blocking factor\":0,\"delay factor\":1.0},\"nameSub\":\"US and TX Constitutions & Politics\",\"id\":1541543378,\"credits\":3,\"nameCanonical\":\"\"},{\"curriculum_requisites\":[{\"source_id\":1177372781,\"target_id\":947037850,\"type\":\"prereq\"}],\"name\":\"MATH 3321\",\"metrics\":{\"complexity\":21.0,\"centrality\":93,\"blocking factor\":13,\"delay factor\":8.0},\"nameSub\":\"Engineering Math\",\"id\":947037850,\"credits\":3,\"nameCanonical\":\"\"},{\"curriculum_requisites\":[{\"source_id\":1051497550,\"target_id\":2138760932,\"type\":\"prereq\"},{\"source_id\":3059602497,\"target_id\":2138760932,\"type\":\"coreq\"},{\"source_id\":3718777895,\"target_id\":2138760932,\"type\":\"coreq\"},{\"source_id\":2258215799,\"target_id\":2138760932,\"type\":\"coreq\"},{\"source_id\":947037850,\"target_id\":2138760932,\"type\":\"coreq\"}],\"name\":\"ECE 2201\",\"metrics\":{\"complexity\":24.0,\"centrality\":677,\"blocking factor\":12,\"delay factor\":12.0},\"nameSub\":\"Circuit Analysis I\",\"id\":2138760932,\"credits\":3,\"nameCanonical\":\"\"},{\"curriculum_requisites\":[{\"source_id\":1177372781,\"target_id\":2258215799,\"type\":\"prereq\"}],\"name\":\"MATH 2433\",\"metrics\":{\"complexity\":25.0,\"centrality\":292,\"blocking factor\":15,\"delay factor\":10.0},\"nameSub\":\"Calculus III\",\"id\":2258215799,\"credits\":3,\"nameCanonical\":\"\"},{\"curriculum_requisites\":[{\"source_id\":2834873484,\"target_id\":3718777895,\"type\":\"prereq\"},{\"source_id\":2258215799,\"target_id\":3718777895,\"type\":\"coreq\"}],\"name\":\"PHYS 1322\",\"metrics\":{\"complexity\":26.0,\"centrality\":426,\"blocking factor\":14,\"delay factor\":12.0},\"nameSub\":\"University Physics II\",\"id\":3718777895,\"credits\":3,\"nameCanonical\":\"\"},{\"curriculum_requisites\":[{\"source_id\":3718777895,\"target_id\":3059602497,\"type\":\"coreq\"}],\"name\":\"PHYS 1122\",\"metrics\":{\"complexity\":25.0,\"centrality\":250,\"blocking factor\":13,\"delay factor\":12.0},\"nameSub\":\"Physics Lab II\",\"id\":3059602497,\"credits\":1,\"nameCanonical\":\"\"}],\"id\":3},{\"name\":\"Term 4\",\"curriculum_items\":[{\"curriculum_requisites\":[{\"source_id\":3195103903,\"target_id\":1770099342,\"type\":\"prereq\"},{\"source_id\":2138760932,\"target_id\":1770099342,\"type\":\"prereq\"}],\"name\":\"ENGI 2304\",\"metrics\":{\"complexity\":11.0,\"centrality\":159,\"blocking factor\":4,\"delay factor\":7.0},\"nameSub\":\"Technical Communication\",\"id\":1770099342,\"credits\":3,\"nameCanonical\":\"\"},{\"curriculum_requisites\":[{\"source_id\":947037850,\"target_id\":649106202,\"type\":\"prereq\"},{\"source_id\":2138760932,\"target_id\":649106202,\"type\":\"prereq\"}],\"name\":\"ECE 3331\",\"metrics\":{\"complexity\":12.0,\"centrality\":152,\"blocking factor\":4,\"delay factor\":8.0},\"nameSub\":\"Programming Apps in ECE\",\"id\":649106202,\"credits\":3,\"nameCanonical\":\"\"},{\"curriculum_requisites\":[{\"source_id\":3059602497,\"target_id\":1083857781,\"type\":\"prereq\"},{\"source_id\":3887805990,\"target_id\":1083857781,\"type\":\"coreq\"}],\"name\":\"ECE 2100\",\"metrics\":{\"complexity\":17.0,\"centrality\":295,\"blocking factor\":5,\"delay factor\":12.0},\"nameSub\":\"Circuits Lab\",\"id\":1083857781,\"credits\":1,\"nameCanonical\":\"\"},{\"curriculum_requisites\":[{\"source_id\":2138760932,\"target_id\":3887805990,\"type\":\"prereq\"}],\"name\":\"ECE 2202\",\"metrics\":{\"complexity\":20.0,\"centrality\":393,\"blocking factor\":8,\"delay factor\":12.0},\"nameSub\":\"Circuit Analysis II\",\"id\":3887805990,\"credits\":3,\"nameCanonical\":\"\"},{\"curriculum_requisites\":[{\"source_id\":3887805990,\"target_id\":2791403937,\"type\":\"coreq\"}],\"name\":\"ECE 3337\",\"metrics\":{\"complexity\":13.0,\"centrality\":154,\"blocking factor\":4,\"delay factor\":9.0},\"nameSub\":\"Signals & Systems Analysis\",\"id\":2791403937,\"credits\":3,\"nameCanonical\":\"\"},{\"curriculum_requisites\":[{\"source_id\":1083857781,\"target_id\":4184346648,\"type\":\"coreq\"},{\"source_id\":649106202,\"target_id\":4184346648,\"type\":\"coreq\"}],\"name\":\"ECE 3436\",\"metrics\":{\"complexity\":11.0,\"centrality\":171,\"blocking factor\":2,\"delay factor\":9.0},\"nameSub\":\"Microprocessors\",\"id\":4184346648,\"credits\":3,\"nameCanonical\":\"\"}],\"id\":4},{\"name\":\"Term 5\",\"curriculum_items\":[{\"curriculum_requisites\":[],\"name\":\" \",\"metrics\":{\"complexity\":1.0,\"centrality\":0,\"blocking factor\":0,\"delay factor\":1.0},\"nameSub\":\"Creative Arts Core\",\"id\":848294223,\"credits\":3,\"nameCanonical\":\"\"},{\"curriculum_requisites\":[{\"source_id\":1770099342,\"target_id\":1966522372,\"type\":\"prereq\"},{\"source_id\":1083857781,\"target_id\":1966522372,\"type\":\"prereq\"}],\"name\":\"ECE 3155\",\"metrics\":{\"complexity\":15.0,\"centrality\":359,\"blocking factor\":3,\"delay factor\":12.0},\"nameSub\":\"Electronics Lab\",\"id\":1966522372,\"credits\":1,\"nameCanonical\":\"\"},{\"curriculum_requisites\":[{\"source_id\":2791403937,\"target_id\":4165958389,\"type\":\"prereq\"},{\"source_id\":1966522372,\"target_id\":4165958389,\"type\":\"strict-coreq\"}],\"name\":\"ECE 3355\",\"metrics\":{\"complexity\":14.0,\"centrality\":266,\"blocking factor\":2,\"delay factor\":12.0},\"nameSub\":\"Electronics\",\"id\":4165958389,\"credits\":3,\"nameCanonical\":\"\"},{\"curriculum_requisites\":[],\"name\":\" \",\"metrics\":{\"complexity\":1.0,\"centrality\":0,\"blocking factor\":0,\"delay factor\":1.0},\"nameSub\":\"Concentration Elective 1\",\"id\":1056053313,\"credits\":3,\"nameCanonical\":\"\"},{\"curriculum_requisites\":[{\"source_id\":2791403937,\"target_id\":2252871414,\"type\":\"prereq\"}],\"name\":\"ECE 3317\",\"metrics\":{\"complexity\":11.0,\"centrality\":77,\"blocking factor\":2,\"delay factor\":9.0},\"nameSub\":\"Applied EM Waves\",\"id\":2252871414,\"credits\":3,\"nameCanonical\":\"\"},{\"curriculum_requisites\":[],\"name\":\" \",\"metrics\":{\"complexity\":1.0,\"centrality\":0,\"blocking factor\":0,\"delay factor\":1.0},\"nameSub\":\"ECE Elective 1\",\"id\":2051928090,\"credits\":3,\"nameCanonical\":\"\"}],\"id\":5},{\"name\":\"Term 6\",\"curriculum_items\":[{\"curriculum_requisites\":[],\"name\":\"POLS 1337\",\"metrics\":{\"complexity\":1.0,\"centrality\":0,\"blocking factor\":0,\"delay factor\":1.0},\"nameSub\":\"US Gov: Congress, President and Courts\",\"id\":951874139,\"credits\":3,\"nameCanonical\":\"\"},{\"curriculum_requisites\":[{\"source_id\":1051497550,\"target_id\":2888554139,\"type\":\"prereq\"},{\"source_id\":1177372781,\"target_id\":2888554139,\"type\":\"prereq\"}],\"name\":\"INDE 2333\",\"metrics\":{\"complexity\":6.0,\"centrality\":16,\"blocking factor\":2,\"delay factor\":4.0},\"nameSub\":\"Engineering Statistics\",\"id\":2888554139,\"credits\":3,\"nameCanonical\":\"\"},{\"curriculum_requisites\":[],\"name\":\" \",\"metrics\":{\"complexity\":1.0,\"centrality\":0,\"blocking factor\":0,\"delay factor\":1.0},\"nameSub\":\"Elective Lab 1\",\"id\":26700799,\"credits\":1,\"nameCanonical\":\"\"},{\"curriculum_requisites\":[],\"name\":\" \",\"metrics\":{\"complexity\":1.0,\"centrality\":0,\"blocking factor\":0,\"delay factor\":1.0},\"nameSub\":\"Concentration Elective 2\",\"id\":1745860227,\"credits\":3,\"nameCanonical\":\"\"},{\"curriculum_requisites\":[{\"source_id\":649106202,\"target_id\":3368026167,\"type\":\"prereq\"}],\"name\":\"ECE 3340\",\"metrics\":{\"complexity\":10.0,\"centrality\":76,\"blocking factor\":2,\"delay factor\":8.0},\"nameSub\":\"Numerical Methods\",\"id\":3368026167,\"credits\":3,\"nameCanonical\":\"\"},{\"curriculum_requisites\":[],\"name\":\" \",\"metrics\":{\"complexity\":1.0,\"centrality\":0,\"blocking factor\":0,\"delay factor\":1.0},\"nameSub\":\"ECE Elective 2\",\"id\":672829327,\"credits\":3,\"nameCanonical\":\"\"}],\"id\":6},{\"name\":\"Term 7\",\"curriculum_items\":[{\"curriculum_requisites\":[],\"name\":\"ECON 2304\",\"metrics\":{\"complexity\":5.0,\"centrality\":0,\"blocking factor\":2,\"delay factor\":3.0},\"nameSub\":\"Microeconomic Principles\",\"id\":3224555476,\"credits\":3,\"nameCanonical\":\"\"},{\"curriculum_requisites\":[{\"source_id\":4184346648,\"target_id\":1337097032,\"type\":\"prereq\"},{\"source_id\":2888554139,\"target_id\":1337097032,\"type\":\"prereq\"},{\"source_id\":3224555476,\"target_id\":1337097032,\"type\":\"coreq\"},{\"source_id\":1966522372,\"target_id\":1337097032,\"type\":\"prereq\"},{\"source_id\":4165958389,\"target_id\":1337097032,\"type\":\"prereq\"},{\"source_id\":2252871414,\"target_id\":1337097032,\"type\":\"prereq\"},{\"source_id\":3368026167,\"target_id\":1337097032,\"type\":\"prereq\"}],\"name\":\"ECE 4335\",\"metrics\":{\"complexity\":13.0,\"centrality\":779,\"blocking factor\":1,\"delay factor\":12.0},\"nameSub\":\"ECE Design I\",\"id\":1337097032,\"credits\":3,\"nameCanonical\":\"\"},{\"curriculum_requisites\":[],\"name\":\" \",\"metrics\":{\"complexity\":1.0,\"centrality\":0,\"blocking factor\":0,\"delay factor\":1.0},\"nameSub\":\"Elective Lab 2\",\"id\":1296179090,\"credits\":1,\"nameCanonical\":\"\"},{\"curriculum_requisites\":[],\"name\":\" \",\"metrics\":{\"complexity\":1.0,\"centrality\":0,\"blocking factor\":0,\"delay factor\":1.0},\"nameSub\":\"Concentration Elective 3\",\"id\":1105094343,\"credits\":3,\"nameCanonical\":\"\"},{\"curriculum_requisites\":[],\"name\":\" \",\"metrics\":{\"complexity\":1.0,\"centrality\":0,\"blocking factor\":0,\"delay factor\":1.0},\"nameSub\":\"Concentration Elective 4\",\"id\":1819261218,\"credits\":3,\"nameCanonical\":\"\"},{\"curriculum_requisites\":[],\"name\":\" \",\"metrics\":{\"complexity\":1.0,\"centrality\":0,\"blocking factor\":0,\"delay factor\":1.0},\"nameSub\":\"Technical Elective\",\"id\":2529896330,\"credits\":3,\"nameCanonical\":\"\"}],\"id\":7},{\"name\":\"Term 8\",\"curriculum_items\":[{\"curriculum_requisites\":[],\"name\":\" \",\"metrics\":{\"complexity\":1.0,\"centrality\":0,\"blocking factor\":0,\"delay factor\":1.0},\"nameSub\":\"Lang., Phil. & Culture Core\",\"id\":1626752824,\"credits\":3,\"nameCanonical\":\"\"},{\"curriculum_requisites\":[{\"source_id\":1337097032,\"target_id\":1158404973,\"type\":\"prereq\"}],\"name\":\"ECE 4336\",\"metrics\":{\"complexity\":12.0,\"centrality\":0,\"blocking factor\":0,\"delay factor\":12.0},\"nameSub\":\"ECE Design II\",\"id\":1158404973,\"credits\":3,\"nameCanonical\":\"\"},{\"curriculum_requisites\":[],\"name\":\" \",\"metrics\":{\"complexity\":1.0,\"centrality\":0,\"blocking factor\":0,\"delay factor\":1.0},\"nameSub\":\"Elective Lab 3\",\"id\":3091492697,\"credits\":1,\"nameCanonical\":\"\"},{\"curriculum_requisites\":[],\"name\":\" \",\"metrics\":{\"complexity\":1.0,\"centrality\":0,\"blocking factor\":0,\"delay factor\":1.0},\"nameSub\":\"Concentration Elective 5\",\"id\":2070124031,\"credits\":3,\"nameCanonical\":\"\"},{\"curriculum_requisites\":[],\"name\":\" \",\"metrics\":{\"complexity\":1.0,\"centrality\":0,\"blocking factor\":0,\"delay factor\":1.0},\"nameSub\":\"Concentration Elective 6\",\"id\":1716266479,\"credits\":3,\"nameCanonical\":\"\"},{\"curriculum_requisites\":[],\"name\":\" \",\"metrics\":{\"complexity\":1.0,\"centrality\":0,\"blocking factor\":0,\"delay factor\":1.0},\"nameSub\":\"Concentration Elective 7\",\"id\":2584207151,\"credits\":3,\"nameCanonical\":\"\"},{\"curriculum_requisites\":[],\"name\":\" \",\"metrics\":{\"complexity\":1.0,\"centrality\":0,\"blocking factor\":0,\"delay factor\":1.0},\"nameSub\":\"Elective Lab 4\",\"id\":2450156574,\"credits\":1,\"nameCanonical\":\"\"}],\"id\":8}],\"institution\":\"\"}}}}},\"children\":[{\"props\":{\"src\":\"http:\\/\\/localhost:8156\",\"id\":\"curriculum\",\"events\":{\"load\":\"(function (){this.contentWindow.postMessage({\\\"options\\\":{\\\"hideTerms\\\":false,\\\"edit\\\":false},\\\"curriculum\\\":{\\\"name\\\":\\\"University of Houston EE Program\\\",\\\"dp_name\\\":\\\"University of Houston EE Program 4-year Plan\\\",\\\"curriculum_terms\\\":[{\\\"name\\\":\\\"Term 1\\\",\\\"curriculum_items\\\":[{\\\"curriculum_requisites\\\":[],\\\"name\\\":\\\"HIST 1377\\\",\\\"metrics\\\":{\\\"complexity\\\":1.0,\\\"centrality\\\":0,\\\"blocking factor\\\":0,\\\"delay factor\\\":1.0},\\\"nameSub\\\":\\\"The US to 1877\\\",\\\"id\\\":3824069494,\\\"credits\\\":3,\\\"nameCanonical\\\":\\\"\\\"},{\\\"curriculum_requisites\\\":[],\\\"name\\\":\\\"ENGL 1303\\\",\\\"metrics\\\":{\\\"complexity\\\":13.0,\\\"centrality\\\":0,\\\"blocking factor\\\":6,\\\"delay factor\\\":7.0},\\\"nameSub\\\":\\\"First Year Writing I\\\",\\\"id\\\":1324171406,\\\"credits\\\":3,\\\"nameCanonical\\\":\\\"\\\"},{\\\"curriculum_requisites\\\":[{\\\"source_id\\\":4175014649,\\\"target_id\\\":1764441140,\\\"type\\\":\\\"coreq\\\"}],\\\"name\\\":\\\"ENGI 1100\\\",\\\"metrics\\\":{\\\"complexity\\\":24.0,\\\"centrality\\\":85,\\\"blocking factor\\\":15,\\\"delay factor\\\":9.0},\\\"nameSub\\\":\\\"Intro to Engr.\\\",\\\"id\\\":1764441140,\\\"credits\\\":1,\\\"nameCanonical\\\":\\\"\\\"},{\\\"curriculum_requisites\\\":[],\\\"name\\\":\\\"MATH 1431\\\",\\\"metrics\\\":{\\\"complexity\\\":35.0,\\\"centrality\\\":0,\\\"blocking factor\\\":23,\\\"delay factor\\\":12.0},\\\"nameSub\\\":\\\"Calculus I\\\",\\\"id\\\":4175014649,\\\"credits\\\":4,\\\"nameCanonical\\\":\\\"\\\"},{\\\"curriculum_requisites\\\":[],\\\"name\\\":\\\"CHEM 1331\\\",\\\"metrics\\\":{\\\"complexity\\\":3.0,\\\"centrality\\\":0,\\\"blocking factor\\\":1,\\\"delay factor\\\":2.0},\\\"nameSub\\\":\\\"Fund. of Chemistry\\\",\\\"id\\\":1351802580,\\\"credits\\\":3,\\\"nameCanonical\\\":\\\"\\\"},{\\\"curriculum_requisites\\\":[{\\\"source_id\\\":1351802580,\\\"target_id\\\":2195546016,\\\"type\\\":\\\"coreq\\\"}],\\\"name\\\":\\\"CHEM 1111\\\",\\\"metrics\\\":{\\\"complexity\\\":2.0,\\\"centrality\\\":0,\\\"blocking factor\\\":0,\\\"delay factor\\\":2.0},\\\"nameSub\\\":\\\"Fund. of Chemistry Lab\\\",\\\"id\\\":2195546016,\\\"credits\\\":1,\\\"nameCanonical\\\":\\\"\\\"}],\\\"id\\\":1},{\\\"name\\\":\\\"Term 2\\\",\\\"curriculum_items\\\":[{\\\"curriculum_requisites\\\":[],\\\"name\\\":\\\"HIST 1378\\\",\\\"metrics\\\":{\\\"complexity\\\":1.0,\\\"centrality\\\":0,\\\"blocking factor\\\":0,\\\"delay factor\\\":1.0},\\\"nameSub\\\":\\\"US Since 1877\\\",\\\"id\\\":2731496025,\\\"credits\\\":3,\\\"nameCanonical\\\":\\\"\\\"},{\\\"curriculum_requisites\\\":[{\\\"source_id\\\":1324171406,\\\"target_id\\\":3195103903,\\\"type\\\":\\\"prereq\\\"}],\\\"name\\\":\\\"ENGL 1304\\\",\\\"metrics\\\":{\\\"complexity\\\":12.0,\\\"centrality\\\":13,\\\"blocking factor\\\":5,\\\"delay factor\\\":7.0},\\\"nameSub\\\":\\\"First Year Writing II\\\",\\\"id\\\":3195103903,\\\"credits\\\":3,\\\"nameCanonical\\\":\\\"\\\"},{\\\"curriculum_requisites\\\":[{\\\"source_id\\\":1764441140,\\\"target_id\\\":1051497550,\\\"type\\\":\\\"prereq\\\"},{\\\"source_id\\\":4175014649,\\\"target_id\\\":1051497550,\\\"type\\\":\\\"prereq\\\"}],\\\"name\\\":\\\"ENGI 1331\\\",\\\"metrics\\\":{\\\"complexity\\\":23.0,\\\"centrality\\\":160,\\\"blocking factor\\\":14,\\\"delay factor\\\":9.0},\\\"nameSub\\\":\\\"Computing & Prob. Solving\\\",\\\"id\\\":1051497550,\\\"credits\\\":3,\\\"nameCanonical\\\":\\\"\\\"},{\\\"curriculum_requisites\\\":[{\\\"source_id\\\":4175014649,\\\"target_id\\\":1177372781,\\\"type\\\":\\\"prereq\\\"}],\\\"name\\\":\\\"MATH 1432\\\",\\\"metrics\\\":{\\\"complexity\\\":32.0,\\\"centrality\\\":607,\\\"blocking factor\\\":20,\\\"delay factor\\\":12.0},\\\"nameSub\\\":\\\"Calculus II\\\",\\\"id\\\":1177372781,\\\"credits\\\":4,\\\"nameCanonical\\\":\\\"\\\"},{\\\"curriculum_requisites\\\":[{\\\"source_id\\\":1177372781,\\\"target_id\\\":2834873484,\\\"type\\\":\\\"coreq\\\"}],\\\"name\\\":\\\"PHYS 1321\\\",\\\"metrics\\\":{\\\"complexity\\\":28.0,\\\"centrality\\\":217,\\\"blocking factor\\\":16,\\\"delay factor\\\":12.0},\\\"nameSub\\\":\\\"University Physics I\\\",\\\"id\\\":2834873484,\\\"credits\\\":3,\\\"nameCanonical\\\":\\\"\\\"},{\\\"curriculum_requisites\\\":[{\\\"source_id\\\":2834873484,\\\"target_id\\\":3178954113,\\\"type\\\":\\\"coreq\\\"}],\\\"name\\\":\\\"PHYS 1121\\\",\\\"metrics\\\":{\\\"complexity\\\":4.0,\\\"centrality\\\":0,\\\"blocking factor\\\":0,\\\"delay factor\\\":4.0},\\\"nameSub\\\":\\\"Physics Lab I\\\",\\\"id\\\":3178954113,\\\"credits\\\":1,\\\"nameCanonical\\\":\\\"\\\"}],\\\"id\\\":2},{\\\"name\\\":\\\"Term 3\\\",\\\"curriculum_items\\\":[{\\\"curriculum_requisites\\\":[],\\\"name\\\":\\\"POLS 1336\\\",\\\"metrics\\\":{\\\"complexity\\\":1.0,\\\"centrality\\\":0,\\\"blocking factor\\\":0,\\\"delay factor\\\":1.0},\\\"nameSub\\\":\\\"US and TX Constitutions & Politics\\\",\\\"id\\\":1541543378,\\\"credits\\\":3,\\\"nameCanonical\\\":\\\"\\\"},{\\\"curriculum_requisites\\\":[{\\\"source_id\\\":1177372781,\\\"target_id\\\":947037850,\\\"type\\\":\\\"prereq\\\"}],\\\"name\\\":\\\"MATH 3321\\\",\\\"metrics\\\":{\\\"complexity\\\":21.0,\\\"centrality\\\":93,\\\"blocking factor\\\":13,\\\"delay factor\\\":8.0},\\\"nameSub\\\":\\\"Engineering Math\\\",\\\"id\\\":947037850,\\\"credits\\\":3,\\\"nameCanonical\\\":\\\"\\\"},{\\\"curriculum_requisites\\\":[{\\\"source_id\\\":1051497550,\\\"target_id\\\":2138760932,\\\"type\\\":\\\"prereq\\\"},{\\\"source_id\\\":3059602497,\\\"target_id\\\":2138760932,\\\"type\\\":\\\"coreq\\\"},{\\\"source_id\\\":3718777895,\\\"target_id\\\":2138760932,\\\"type\\\":\\\"coreq\\\"},{\\\"source_id\\\":2258215799,\\\"target_id\\\":2138760932,\\\"type\\\":\\\"coreq\\\"},{\\\"source_id\\\":947037850,\\\"target_id\\\":2138760932,\\\"type\\\":\\\"coreq\\\"}],\\\"name\\\":\\\"ECE 2201\\\",\\\"metrics\\\":{\\\"complexity\\\":24.0,\\\"centrality\\\":677,\\\"blocking factor\\\":12,\\\"delay factor\\\":12.0},\\\"nameSub\\\":\\\"Circuit Analysis I\\\",\\\"id\\\":2138760932,\\\"credits\\\":3,\\\"nameCanonical\\\":\\\"\\\"},{\\\"curriculum_requisites\\\":[{\\\"source_id\\\":1177372781,\\\"target_id\\\":2258215799,\\\"type\\\":\\\"prereq\\\"}],\\\"name\\\":\\\"MATH 2433\\\",\\\"metrics\\\":{\\\"complexity\\\":25.0,\\\"centrality\\\":292,\\\"blocking factor\\\":15,\\\"delay factor\\\":10.0},\\\"nameSub\\\":\\\"Calculus III\\\",\\\"id\\\":2258215799,\\\"credits\\\":3,\\\"nameCanonical\\\":\\\"\\\"},{\\\"curriculum_requisites\\\":[{\\\"source_id\\\":2834873484,\\\"target_id\\\":3718777895,\\\"type\\\":\\\"prereq\\\"},{\\\"source_id\\\":2258215799,\\\"target_id\\\":3718777895,\\\"type\\\":\\\"coreq\\\"}],\\\"name\\\":\\\"PHYS 1322\\\",\\\"metrics\\\":{\\\"complexity\\\":26.0,\\\"centrality\\\":426,\\\"blocking factor\\\":14,\\\"delay factor\\\":12.0},\\\"nameSub\\\":\\\"University Physics II\\\",\\\"id\\\":3718777895,\\\"credits\\\":3,\\\"nameCanonical\\\":\\\"\\\"},{\\\"curriculum_requisites\\\":[{\\\"source_id\\\":3718777895,\\\"target_id\\\":3059602497,\\\"type\\\":\\\"coreq\\\"}],\\\"name\\\":\\\"PHYS 1122\\\",\\\"metrics\\\":{\\\"complexity\\\":25.0,\\\"centrality\\\":250,\\\"blocking factor\\\":13,\\\"delay factor\\\":12.0},\\\"nameSub\\\":\\\"Physics Lab II\\\",\\\"id\\\":3059602497,\\\"credits\\\":1,\\\"nameCanonical\\\":\\\"\\\"}],\\\"id\\\":3},{\\\"name\\\":\\\"Term 4\\\",\\\"curriculum_items\\\":[{\\\"curriculum_requisites\\\":[{\\\"source_id\\\":3195103903,\\\"target_id\\\":1770099342,\\\"type\\\":\\\"prereq\\\"},{\\\"source_id\\\":2138760932,\\\"target_id\\\":1770099342,\\\"type\\\":\\\"prereq\\\"}],\\\"name\\\":\\\"ENGI 2304\\\",\\\"metrics\\\":{\\\"complexity\\\":11.0,\\\"centrality\\\":159,\\\"blocking factor\\\":4,\\\"delay factor\\\":7.0},\\\"nameSub\\\":\\\"Technical Communication\\\",\\\"id\\\":1770099342,\\\"credits\\\":3,\\\"nameCanonical\\\":\\\"\\\"},{\\\"curriculum_requisites\\\":[{\\\"source_id\\\":947037850,\\\"target_id\\\":649106202,\\\"type\\\":\\\"prereq\\\"},{\\\"source_id\\\":2138760932,\\\"target_id\\\":649106202,\\\"type\\\":\\\"prereq\\\"}],\\\"name\\\":\\\"ECE 3331\\\",\\\"metrics\\\":{\\\"complexity\\\":12.0,\\\"centrality\\\":152,\\\"blocking factor\\\":4,\\\"delay factor\\\":8.0},\\\"nameSub\\\":\\\"Programming Apps in ECE\\\",\\\"id\\\":649106202,\\\"credits\\\":3,\\\"nameCanonical\\\":\\\"\\\"},{\\\"curriculum_requisites\\\":[{\\\"source_id\\\":3059602497,\\\"target_id\\\":1083857781,\\\"type\\\":\\\"prereq\\\"},{\\\"source_id\\\":3887805990,\\\"target_id\\\":1083857781,\\\"type\\\":\\\"coreq\\\"}],\\\"name\\\":\\\"ECE 2100\\\",\\\"metrics\\\":{\\\"complexity\\\":17.0,\\\"centrality\\\":295,\\\"blocking factor\\\":5,\\\"delay factor\\\":12.0},\\\"nameSub\\\":\\\"Circuits Lab\\\",\\\"id\\\":1083857781,\\\"credits\\\":1,\\\"nameCanonical\\\":\\\"\\\"},{\\\"curriculum_requisites\\\":[{\\\"source_id\\\":2138760932,\\\"target_id\\\":3887805990,\\\"type\\\":\\\"prereq\\\"}],\\\"name\\\":\\\"ECE 2202\\\",\\\"metrics\\\":{\\\"complexity\\\":20.0,\\\"centrality\\\":393,\\\"blocking factor\\\":8,\\\"delay factor\\\":12.0},\\\"nameSub\\\":\\\"Circuit Analysis II\\\",\\\"id\\\":3887805990,\\\"credits\\\":3,\\\"nameCanonical\\\":\\\"\\\"},{\\\"curriculum_requisites\\\":[{\\\"source_id\\\":3887805990,\\\"target_id\\\":2791403937,\\\"type\\\":\\\"coreq\\\"}],\\\"name\\\":\\\"ECE 3337\\\",\\\"metrics\\\":{\\\"complexity\\\":13.0,\\\"centrality\\\":154,\\\"blocking factor\\\":4,\\\"delay factor\\\":9.0},\\\"nameSub\\\":\\\"Signals & Systems Analysis\\\",\\\"id\\\":2791403937,\\\"credits\\\":3,\\\"nameCanonical\\\":\\\"\\\"},{\\\"curriculum_requisites\\\":[{\\\"source_id\\\":1083857781,\\\"target_id\\\":4184346648,\\\"type\\\":\\\"coreq\\\"},{\\\"source_id\\\":649106202,\\\"target_id\\\":4184346648,\\\"type\\\":\\\"coreq\\\"}],\\\"name\\\":\\\"ECE 3436\\\",\\\"metrics\\\":{\\\"complexity\\\":11.0,\\\"centrality\\\":171,\\\"blocking factor\\\":2,\\\"delay factor\\\":9.0},\\\"nameSub\\\":\\\"Microprocessors\\\",\\\"id\\\":4184346648,\\\"credits\\\":3,\\\"nameCanonical\\\":\\\"\\\"}],\\\"id\\\":4},{\\\"name\\\":\\\"Term 5\\\",\\\"curriculum_items\\\":[{\\\"curriculum_requisites\\\":[],\\\"name\\\":\\\" \\\",\\\"metrics\\\":{\\\"complexity\\\":1.0,\\\"centrality\\\":0,\\\"blocking factor\\\":0,\\\"delay factor\\\":1.0},\\\"nameSub\\\":\\\"Creative Arts Core\\\",\\\"id\\\":848294223,\\\"credits\\\":3,\\\"nameCanonical\\\":\\\"\\\"},{\\\"curriculum_requisites\\\":[{\\\"source_id\\\":1770099342,\\\"target_id\\\":1966522372,\\\"type\\\":\\\"prereq\\\"},{\\\"source_id\\\":1083857781,\\\"target_id\\\":1966522372,\\\"type\\\":\\\"prereq\\\"}],\\\"name\\\":\\\"ECE 3155\\\",\\\"metrics\\\":{\\\"complexity\\\":15.0,\\\"centrality\\\":359,\\\"blocking factor\\\":3,\\\"delay factor\\\":12.0},\\\"nameSub\\\":\\\"Electronics Lab\\\",\\\"id\\\":1966522372,\\\"credits\\\":1,\\\"nameCanonical\\\":\\\"\\\"},{\\\"curriculum_requisites\\\":[{\\\"source_id\\\":2791403937,\\\"target_id\\\":4165958389,\\\"type\\\":\\\"prereq\\\"},{\\\"source_id\\\":1966522372,\\\"target_id\\\":4165958389,\\\"type\\\":\\\"strict-coreq\\\"}],\\\"name\\\":\\\"ECE 3355\\\",\\\"metrics\\\":{\\\"complexity\\\":14.0,\\\"centrality\\\":266,\\\"blocking factor\\\":2,\\\"delay factor\\\":12.0},\\\"nameSub\\\":\\\"Electronics\\\",\\\"id\\\":4165958389,\\\"credits\\\":3,\\\"nameCanonical\\\":\\\"\\\"},{\\\"curriculum_requisites\\\":[],\\\"name\\\":\\\" \\\",\\\"metrics\\\":{\\\"complexity\\\":1.0,\\\"centrality\\\":0,\\\"blocking factor\\\":0,\\\"delay factor\\\":1.0},\\\"nameSub\\\":\\\"Concentration Elective 1\\\",\\\"id\\\":1056053313,\\\"credits\\\":3,\\\"nameCanonical\\\":\\\"\\\"},{\\\"curriculum_requisites\\\":[{\\\"source_id\\\":2791403937,\\\"target_id\\\":2252871414,\\\"type\\\":\\\"prereq\\\"}],\\\"name\\\":\\\"ECE 3317\\\",\\\"metrics\\\":{\\\"complexity\\\":11.0,\\\"centrality\\\":77,\\\"blocking factor\\\":2,\\\"delay factor\\\":9.0},\\\"nameSub\\\":\\\"Applied EM Waves\\\",\\\"id\\\":2252871414,\\\"credits\\\":3,\\\"nameCanonical\\\":\\\"\\\"},{\\\"curriculum_requisites\\\":[],\\\"name\\\":\\\" \\\",\\\"metrics\\\":{\\\"complexity\\\":1.0,\\\"centrality\\\":0,\\\"blocking factor\\\":0,\\\"delay factor\\\":1.0},\\\"nameSub\\\":\\\"ECE Elective 1\\\",\\\"id\\\":2051928090,\\\"credits\\\":3,\\\"nameCanonical\\\":\\\"\\\"}],\\\"id\\\":5},{\\\"name\\\":\\\"Term 6\\\",\\\"curriculum_items\\\":[{\\\"curriculum_requisites\\\":[],\\\"name\\\":\\\"POLS 1337\\\",\\\"metrics\\\":{\\\"complexity\\\":1.0,\\\"centrality\\\":0,\\\"blocking factor\\\":0,\\\"delay factor\\\":1.0},\\\"nameSub\\\":\\\"US Gov: Congress, President and Courts\\\",\\\"id\\\":951874139,\\\"credits\\\":3,\\\"nameCanonical\\\":\\\"\\\"},{\\\"curriculum_requisites\\\":[{\\\"source_id\\\":1051497550,\\\"target_id\\\":2888554139,\\\"type\\\":\\\"prereq\\\"},{\\\"source_id\\\":1177372781,\\\"target_id\\\":2888554139,\\\"type\\\":\\\"prereq\\\"}],\\\"name\\\":\\\"INDE 2333\\\",\\\"metrics\\\":{\\\"complexity\\\":6.0,\\\"centrality\\\":16,\\\"blocking factor\\\":2,\\\"delay factor\\\":4.0},\\\"nameSub\\\":\\\"Engineering Statistics\\\",\\\"id\\\":2888554139,\\\"credits\\\":3,\\\"nameCanonical\\\":\\\"\\\"},{\\\"curriculum_requisites\\\":[],\\\"name\\\":\\\" \\\",\\\"metrics\\\":{\\\"complexity\\\":1.0,\\\"centrality\\\":0,\\\"blocking factor\\\":0,\\\"delay factor\\\":1.0},\\\"nameSub\\\":\\\"Elective Lab 1\\\",\\\"id\\\":26700799,\\\"credits\\\":1,\\\"nameCanonical\\\":\\\"\\\"},{\\\"curriculum_requisites\\\":[],\\\"name\\\":\\\" \\\",\\\"metrics\\\":{\\\"complexity\\\":1.0,\\\"centrality\\\":0,\\\"blocking factor\\\":0,\\\"delay factor\\\":1.0},\\\"nameSub\\\":\\\"Concentration Elective 2\\\",\\\"id\\\":1745860227,\\\"credits\\\":3,\\\"nameCanonical\\\":\\\"\\\"},{\\\"curriculum_requisites\\\":[{\\\"source_id\\\":649106202,\\\"target_id\\\":3368026167,\\\"type\\\":\\\"prereq\\\"}],\\\"name\\\":\\\"ECE 3340\\\",\\\"metrics\\\":{\\\"complexity\\\":10.0,\\\"centrality\\\":76,\\\"blocking factor\\\":2,\\\"delay factor\\\":8.0},\\\"nameSub\\\":\\\"Numerical Methods\\\",\\\"id\\\":3368026167,\\\"credits\\\":3,\\\"nameCanonical\\\":\\\"\\\"},{\\\"curriculum_requisites\\\":[],\\\"name\\\":\\\" \\\",\\\"metrics\\\":{\\\"complexity\\\":1.0,\\\"centrality\\\":0,\\\"blocking factor\\\":0,\\\"delay factor\\\":1.0},\\\"nameSub\\\":\\\"ECE Elective 2\\\",\\\"id\\\":672829327,\\\"credits\\\":3,\\\"nameCanonical\\\":\\\"\\\"}],\\\"id\\\":6},{\\\"name\\\":\\\"Term 7\\\",\\\"curriculum_items\\\":[{\\\"curriculum_requisites\\\":[],\\\"name\\\":\\\"ECON 2304\\\",\\\"metrics\\\":{\\\"complexity\\\":5.0,\\\"centrality\\\":0,\\\"blocking factor\\\":2,\\\"delay factor\\\":3.0},\\\"nameSub\\\":\\\"Microeconomic Principles\\\",\\\"id\\\":3224555476,\\\"credits\\\":3,\\\"nameCanonical\\\":\\\"\\\"},{\\\"curriculum_requisites\\\":[{\\\"source_id\\\":4184346648,\\\"target_id\\\":1337097032,\\\"type\\\":\\\"prereq\\\"},{\\\"source_id\\\":2888554139,\\\"target_id\\\":1337097032,\\\"type\\\":\\\"prereq\\\"},{\\\"source_id\\\":3224555476,\\\"target_id\\\":1337097032,\\\"type\\\":\\\"coreq\\\"},{\\\"source_id\\\":1966522372,\\\"target_id\\\":1337097032,\\\"type\\\":\\\"prereq\\\"},{\\\"source_id\\\":4165958389,\\\"target_id\\\":1337097032,\\\"type\\\":\\\"prereq\\\"},{\\\"source_id\\\":2252871414,\\\"target_id\\\":1337097032,\\\"type\\\":\\\"prereq\\\"},{\\\"source_id\\\":3368026167,\\\"target_id\\\":1337097032,\\\"type\\\":\\\"prereq\\\"}],\\\"name\\\":\\\"ECE 4335\\\",\\\"metrics\\\":{\\\"complexity\\\":13.0,\\\"centrality\\\":779,\\\"blocking factor\\\":1,\\\"delay factor\\\":12.0},\\\"nameSub\\\":\\\"ECE Design I\\\",\\\"id\\\":1337097032,\\\"credits\\\":3,\\\"nameCanonical\\\":\\\"\\\"},{\\\"curriculum_requisites\\\":[],\\\"name\\\":\\\" \\\",\\\"metrics\\\":{\\\"complexity\\\":1.0,\\\"centrality\\\":0,\\\"blocking factor\\\":0,\\\"delay factor\\\":1.0},\\\"nameSub\\\":\\\"Elective Lab 2\\\",\\\"id\\\":1296179090,\\\"credits\\\":1,\\\"nameCanonical\\\":\\\"\\\"},{\\\"curriculum_requisites\\\":[],\\\"name\\\":\\\" \\\",\\\"metrics\\\":{\\\"complexity\\\":1.0,\\\"centrality\\\":0,\\\"blocking factor\\\":0,\\\"delay factor\\\":1.0},\\\"nameSub\\\":\\\"Concentration Elective 3\\\",\\\"id\\\":1105094343,\\\"credits\\\":3,\\\"nameCanonical\\\":\\\"\\\"},{\\\"curriculum_requisites\\\":[],\\\"name\\\":\\\" \\\",\\\"metrics\\\":{\\\"complexity\\\":1.0,\\\"centrality\\\":0,\\\"blocking factor\\\":0,\\\"delay factor\\\":1.0},\\\"nameSub\\\":\\\"Concentration Elective 4\\\",\\\"id\\\":1819261218,\\\"credits\\\":3,\\\"nameCanonical\\\":\\\"\\\"},{\\\"curriculum_requisites\\\":[],\\\"name\\\":\\\" \\\",\\\"metrics\\\":{\\\"complexity\\\":1.0,\\\"centrality\\\":0,\\\"blocking factor\\\":0,\\\"delay factor\\\":1.0},\\\"nameSub\\\":\\\"Technical Elective\\\",\\\"id\\\":2529896330,\\\"credits\\\":3,\\\"nameCanonical\\\":\\\"\\\"}],\\\"id\\\":7},{\\\"name\\\":\\\"Term 8\\\",\\\"curriculum_items\\\":[{\\\"curriculum_requisites\\\":[],\\\"name\\\":\\\" \\\",\\\"metrics\\\":{\\\"complexity\\\":1.0,\\\"centrality\\\":0,\\\"blocking factor\\\":0,\\\"delay factor\\\":1.0},\\\"nameSub\\\":\\\"Lang., Phil. & Culture Core\\\",\\\"id\\\":1626752824,\\\"credits\\\":3,\\\"nameCanonical\\\":\\\"\\\"},{\\\"curriculum_requisites\\\":[{\\\"source_id\\\":1337097032,\\\"target_id\\\":1158404973,\\\"type\\\":\\\"prereq\\\"}],\\\"name\\\":\\\"ECE 4336\\\",\\\"metrics\\\":{\\\"complexity\\\":12.0,\\\"centrality\\\":0,\\\"blocking factor\\\":0,\\\"delay factor\\\":12.0},\\\"nameSub\\\":\\\"ECE Design II\\\",\\\"id\\\":1158404973,\\\"credits\\\":3,\\\"nameCanonical\\\":\\\"\\\"},{\\\"curriculum_requisites\\\":[],\\\"name\\\":\\\" \\\",\\\"metrics\\\":{\\\"complexity\\\":1.0,\\\"centrality\\\":0,\\\"blocking factor\\\":0,\\\"delay factor\\\":1.0},\\\"nameSub\\\":\\\"Elective Lab 3\\\",\\\"id\\\":3091492697,\\\"credits\\\":1,\\\"nameCanonical\\\":\\\"\\\"},{\\\"curriculum_requisites\\\":[],\\\"name\\\":\\\" \\\",\\\"metrics\\\":{\\\"complexity\\\":1.0,\\\"centrality\\\":0,\\\"blocking factor\\\":0,\\\"delay factor\\\":1.0},\\\"nameSub\\\":\\\"Concentration Elective 5\\\",\\\"id\\\":2070124031,\\\"credits\\\":3,\\\"nameCanonical\\\":\\\"\\\"},{\\\"curriculum_requisites\\\":[],\\\"name\\\":\\\" \\\",\\\"metrics\\\":{\\\"complexity\\\":1.0,\\\"centrality\\\":0,\\\"blocking factor\\\":0,\\\"delay factor\\\":1.0},\\\"nameSub\\\":\\\"Concentration Elective 6\\\",\\\"id\\\":1716266479,\\\"credits\\\":3,\\\"nameCanonical\\\":\\\"\\\"},{\\\"curriculum_requisites\\\":[],\\\"name\\\":\\\" \\\",\\\"metrics\\\":{\\\"complexity\\\":1.0,\\\"centrality\\\":0,\\\"blocking factor\\\":0,\\\"delay factor\\\":1.0},\\\"nameSub\\\":\\\"Concentration Elective 7\\\",\\\"id\\\":2584207151,\\\"credits\\\":3,\\\"nameCanonical\\\":\\\"\\\"},{\\\"curriculum_requisites\\\":[],\\\"name\\\":\\\" \\\",\\\"metrics\\\":{\\\"complexity\\\":1.0,\\\"centrality\\\":0,\\\"blocking factor\\\":0,\\\"delay factor\\\":1.0},\\\"nameSub\\\":\\\"Elective Lab 4\\\",\\\"id\\\":2450156574,\\\"credits\\\":1,\\\"nameCanonical\\\":\\\"\\\"}],\\\"id\\\":8}],\\\"institution\\\":\\\"\\\"}},\\\"*\\\"); window.removeEventListener(\\\"message\\\",window.messageReceived); window.messageReceived=(function (event){return (event.data.curriculum!==undefined) ? (WebIO.setval({\\\"name\\\":\\\"curriculum-data\\\",\\\"scope\\\":\\\"12490702642073571906\\\",\\\"id\\\":\\\"ob_02\\\",\\\"type\\\":\\\"observable\\\"},event.data.curriculum)) : undefined}); return window.addEventListener(\\\"message\\\",window.messageReceived)})\"},\"style\":{\"padding\":\"0\",\"height\":\"100vh\",\"margin\":\"0\",\"border\":\"none\",\"width\":\"100%\"}},\"nodeType\":\"DOM\",\"type\":\"node\",\"instanceArgs\":{\"namespace\":\"html\",\"tag\":\"iframe\"},\"children\":[\"\"]}]},\n",
       "            window,\n",
       "        );\n",
       "    } else {\n",
       "        document\n",
       "            .querySelector('[data-webio-mountpoint=\"10568168598537941806\"]')\n",
       "            .innerHTML = '<strong>WebIO not detected.</strong>';\n",
       "    }\n",
       "    </script>\n",
       "</div>\n"
      ],
      "text/plain": [
       "WebIO.Scope(WebIO.Node{WebIO.DOM}(WebIO.DOM(:html, :iframe), Any[\"\"], Dict{Symbol,Any}(:src=>\"http://localhost:8156\",:id=>\"curriculum\",:events=>Dict(:load=>JSString(\"(function (){this.contentWindow.postMessage({\\\"options\\\":{\\\"hideTerms\\\":false,\\\"edit\\\":false},\\\"curriculum\\\":{\\\"name\\\":\\\"University of Houston EE Program\\\",\\\"dp_name\\\":\\\"University of Houston EE Program 4-year Plan\\\",\\\"curriculum_terms\\\":[{\\\"name\\\":\\\"Term 1\\\",\\\"curriculum_items\\\":[{\\\"curriculum_requisites\\\":[],\\\"name\\\":\\\"HIST 1377\\\",\\\"metrics\\\":{\\\"complexity\\\":1.0,\\\"centrality\\\":0,\\\"blocking factor\\\":0,\\\"delay factor\\\":1.0},\\\"nameSub\\\":\\\"The US to 1877\\\",\\\"id\\\":3824069494,\\\"credits\\\":3,\\\"nameCanonical\\\":\\\"\\\"},{\\\"curriculum_requisites\\\":[],\\\"name\\\":\\\"ENGL 1303\\\",\\\"metrics\\\":{\\\"complexity\\\":13.0,\\\"centrality\\\":0,\\\"blocking factor\\\":6,\\\"delay factor\\\":7.0},\\\"nameSub\\\":\\\"First Year Writing I\\\",\\\"id\\\":1324171406,\\\"credits\\\":3,\\\"nameCanonical\\\":\\\"\\\"},{\\\"curriculum_requisites\\\":[{\\\"source_id\\\":4175014649,\\\"target_id\\\":1764441140,\\\"type\\\":\\\"coreq\\\"}],\\\"name\\\":\\\"ENGI 1100\\\",\\\"metrics\\\":{\\\"complexity\\\":24.0,\\\"centrality\\\":85,\\\"blocking factor\\\":15,\\\"delay factor\\\":9.0},\\\"nameSub\\\":\\\"Intro to Engr.\\\",\\\"id\\\":1764441140,\\\"credits\\\":1,\\\"nameCanonical\\\":\\\"\\\"},{\\\"curriculum_requisites\\\":[],\\\"name\\\":\\\"MATH 1431\\\",\\\"metrics\\\":{\\\"complexity\\\":35.0,\\\"centrality\\\":0,\\\"blocking factor\\\":23,\\\"delay factor\\\":12.0},\\\"nameSub\\\":\\\"Calculus I\\\",\\\"id\\\":4175014649,\\\"credits\\\":4,\\\"nameCanonical\\\":\\\"\\\"},{\\\"curriculum_requisites\\\":[],\\\"name\\\":\\\"CHEM 1331\\\",\\\"metrics\\\":{\\\"complexity\\\":3.0,\\\"centrality\\\":0,\\\"blocking factor\\\":1,\\\"delay factor\\\":2.0},\\\"nameSub\\\":\\\"Fund. of Chemistry\\\",\\\"id\\\":1351802580,\\\"credits\\\":3,\\\"nameCanonical\\\":\\\"\\\"},{\\\"curriculum_requisites\\\":[{\\\"source_id\\\":1351802580,\\\"target_id\\\":2195546016,\\\"type\\\":\\\"coreq\\\"}],\\\"name\\\":\\\"CHEM 1111\\\",\\\"metrics\\\":{\\\"complexity\\\":2.0,\\\"centrality\\\":0,\\\"blocking factor\\\":0,\\\"delay factor\\\":2.0},\\\"nameSub\\\":\\\"Fund. of Chemistry Lab\\\",\\\"id\\\":2195546016,\\\"credits\\\":1,\\\"nameCanonical\\\":\\\"\\\"}],\\\"id\\\":1},{\\\"name\\\":\\\"Term 2\\\",\\\"curriculum_items\\\":[{\\\"curriculum_requisites\\\":[],\\\"name\\\":\\\"HIST 1378\\\",\\\"metrics\\\":{\\\"complexity\\\":1.0,\\\"centrality\\\":0,\\\"blocking factor\\\":0,\\\"delay factor\\\":1.0},\\\"nameSub\\\":\\\"US Since 1877\\\",\\\"id\\\":2731496025,\\\"credits\\\":3,\\\"nameCanonical\\\":\\\"\\\"},{\\\"curriculum_requisites\\\":[{\\\"source_id\\\":1324171406,\\\"target_id\\\":3195103903,\\\"type\\\":\\\"prereq\\\"}],\\\"name\\\":\\\"ENGL 1304\\\",\\\"metrics\\\":{\\\"complexity\\\":12.0,\\\"centrality\\\":13,\\\"blocking factor\\\":5,\\\"delay factor\\\":7.0},\\\"nameSub\\\":\\\"First Year Writing II\\\",\\\"id\\\":3195103903,\\\"credits\\\":3,\\\"nameCanonical\\\":\\\"\\\"},{\\\"curriculum_requisites\\\":[{\\\"source_id\\\":1764441140,\\\"target_id\\\":1051497550,\\\"type\\\":\\\"prereq\\\"},{\\\"source_id\\\":4175014649,\\\"target_id\\\":1051497550,\\\"type\\\":\\\"prereq\\\"}],\\\"name\\\":\\\"ENGI 1331\\\",\\\"metrics\\\":{\\\"complexity\\\":23.0,\\\"centrality\\\":160,\\\"blocking factor\\\":14,\\\"delay factor\\\":9.0},\\\"nameSub\\\":\\\"Computing & Prob. Solving\\\",\\\"id\\\":1051497550,\\\"credits\\\":3,\\\"nameCanonical\\\":\\\"\\\"},{\\\"curriculum_requisites\\\":[{\\\"source_id\\\":4175014649,\\\"target_id\\\":1177372781,\\\"type\\\":\\\"prereq\\\"}],\\\"name\\\":\\\"MATH 1432\\\",\\\"metrics\\\":{\\\"complexity\\\":32.0,\\\"centrality\\\":607,\\\"blocking factor\\\":20,\\\"delay factor\\\":12.0},\\\"nameSub\\\":\\\"Calculus II\\\",\\\"id\\\":1177372781,\\\"credits\\\":4,\\\"nameCanonical\\\":\\\"\\\"},{\\\"curriculum_requisites\\\":[{\\\"source_id\\\":1177372781,\\\"target_id\\\":2834873484,\\\"type\\\":\\\"coreq\\\"}],\\\"name\\\":\\\"PHYS 1321\\\",\\\"metrics\\\":{\\\"complexity\\\":28.0,\\\"centrality\\\":217,\\\"blocking factor\\\":16,\\\"delay factor\\\":12.0},\\\"nameSub\\\":\\\"University Physics I\\\",\\\"id\\\":2834873484,\\\"credits\\\":3,\\\"nameCanonical\\\":\\\"\\\"},{\\\"curriculum_requisites\\\":[{\\\"source_id\\\":2834873484,\\\"target_id\\\":3178954113,\\\"type\\\":\\\"coreq\\\"}],\\\"name\\\":\\\"PHYS 1121\\\",\\\"metrics\\\":{\\\"complexity\\\":4.0,\\\"centrality\\\":0,\\\"blocking factor\\\":0,\\\"delay factor\\\":4.0},\\\"nameSub\\\":\\\"Physics Lab I\\\",\\\"id\\\":3178954113,\\\"credits\\\":1,\\\"nameCanonical\\\":\\\"\\\"}],\\\"id\\\":2},{\\\"name\\\":\\\"Term 3\\\",\\\"curriculum_items\\\":[{\\\"curriculum_requisites\\\":[],\\\"name\\\":\\\"POLS 1336\\\",\\\"metrics\\\":{\\\"complexity\\\":1.0,\\\"centrality\\\":0,\\\"blocking factor\\\":0,\\\"delay factor\\\":1.0},\\\"nameSub\\\":\\\"US and TX Constitutions & Politics\\\",\\\"id\\\":1541543378,\\\"credits\\\":3,\\\"nameCanonical\\\":\\\"\\\"},{\\\"curriculum_requisites\\\":[{\\\"source_id\\\":1177372781,\\\"target_id\\\":947037850,\\\"type\\\":\\\"prereq\\\"}],\\\"name\\\":\\\"MATH 3321\\\",\\\"metrics\\\":{\\\"complexity\\\":21.0,\\\"centrality\\\":93,\\\"blocking factor\\\":13,\\\"delay factor\\\":8.0},\\\"nameSub\\\":\\\"Engineering Math\\\",\\\"id\\\":947037850,\\\"credits\\\":3,\\\"nameCanonical\\\":\\\"\\\"},{\\\"curriculum_requisites\\\":[{\\\"source_id\\\":1051497550,\\\"target_id\\\":2138760932,\\\"type\\\":\\\"prereq\\\"},{\\\"source_id\\\":3059602497,\\\"target_id\\\":2138760932,\\\"type\\\":\\\"coreq\\\"},{\\\"source_id\\\":3718777895,\\\"target_id\\\":2138760932,\\\"type\\\":\\\"coreq\\\"},{\\\"source_id\\\":2258215799,\\\"target_id\\\":2138760932,\\\"type\\\":\\\"coreq\\\"},{\\\"source_id\\\":947037850,\\\"target_id\\\":2138760932,\\\"type\\\":\\\"coreq\\\"}],\\\"name\\\":\\\"ECE 2201\\\",\\\"metrics\\\":{\\\"complexity\\\":24.0,\\\"centrality\\\":677,\\\"blocking factor\\\":12,\\\"delay factor\\\":12.0},\\\"nameSub\\\":\\\"Circuit Analysis I\\\",\\\"id\\\":2138760932,\\\"credits\\\":3,\\\"nameCanonical\\\":\\\"\\\"},{\\\"curriculum_requisites\\\":[{\\\"source_id\\\":1177372781,\\\"target_id\\\":2258215799,\\\"type\\\":\\\"prereq\\\"}],\\\"name\\\":\\\"MATH 2433\\\",\\\"metrics\\\":{\\\"complexity\\\":25.0,\\\"centrality\\\":292,\\\"blocking factor\\\":15,\\\"delay factor\\\":10.0},\\\"nameSub\\\":\\\"Calculus III\\\",\\\"id\\\":2258215799,\\\"credits\\\":3,\\\"nameCanonical\\\":\\\"\\\"},{\\\"curriculum_requisites\\\":[{\\\"source_id\\\":2834873484,\\\"target_id\\\":3718777895,\\\"type\\\":\\\"prereq\\\"},{\\\"source_id\\\":2258215799,\\\"target_id\\\":3718777895,\\\"type\\\":\\\"coreq\\\"}],\\\"name\\\":\\\"PHYS 1322\\\",\\\"metrics\\\":{\\\"complexity\\\":26.0,\\\"centrality\\\":426,\\\"blocking factor\\\":14,\\\"delay factor\\\":12.0},\\\"nameSub\\\":\\\"University Physics II\\\",\\\"id\\\":3718777895,\\\"credits\\\":3,\\\"nameCanonical\\\":\\\"\\\"},{\\\"curriculum_requisites\\\":[{\\\"source_id\\\":3718777895,\\\"target_id\\\":3059602497,\\\"type\\\":\\\"coreq\\\"}],\\\"name\\\":\\\"PHYS 1122\\\",\\\"metrics\\\":{\\\"complexity\\\":25.0,\\\"centrality\\\":250,\\\"blocking factor\\\":13,\\\"delay factor\\\":12.0},\\\"nameSub\\\":\\\"Physics Lab II\\\",\\\"id\\\":3059602497,\\\"credits\\\":1,\\\"nameCanonical\\\":\\\"\\\"}],\\\"id\\\":3},{\\\"name\\\":\\\"Term 4\\\",\\\"curriculum_items\\\":[{\\\"curriculum_requisites\\\":[{\\\"source_id\\\":3195103903,\\\"target_id\\\":1770099342,\\\"type\\\":\\\"prereq\\\"},{\\\"source_id\\\":2138760932,\\\"target_id\\\":1770099342,\\\"type\\\":\\\"prereq\\\"}],\\\"name\\\":\\\"ENGI 2304\\\",\\\"metrics\\\":{\\\"complexity\\\":11.0,\\\"centrality\\\":159,\\\"blocking factor\\\":4,\\\"delay factor\\\":7.0},\\\"nameSub\\\":\\\"Technical Communication\\\",\\\"id\\\":1770099342,\\\"credits\\\":3,\\\"nameCanonical\\\":\\\"\\\"},{\\\"curriculum_requisites\\\":[{\\\"source_id\\\":947037850,\\\"target_id\\\":649106202,\\\"type\\\":\\\"prereq\\\"},{\\\"source_id\\\":2138760932,\\\"target_id\\\":649106202,\\\"type\\\":\\\"prereq\\\"}],\\\"name\\\":\\\"ECE 3331\\\",\\\"metrics\\\":{\\\"complexity\\\":12.0,\\\"centrality\\\":152,\\\"blocking factor\\\":4,\\\"delay factor\\\":8.0},\\\"nameSub\\\":\\\"Programming Apps in ECE\\\",\\\"id\\\":649106202,\\\"credits\\\":3,\\\"nameCanonical\\\":\\\"\\\"},{\\\"curriculum_requisites\\\":[{\\\"source_id\\\":3059602497,\\\"target_id\\\":1083857781,\\\"type\\\":\\\"prereq\\\"},{\\\"source_id\\\":3887805990,\\\"target_id\\\":1083857781,\\\"type\\\":\\\"coreq\\\"}],\\\"name\\\":\\\"ECE 2100\\\",\\\"metrics\\\":{\\\"complexity\\\":17.0,\\\"centrality\\\":295,\\\"blocking factor\\\":5,\\\"delay factor\\\":12.0},\\\"nameSub\\\":\\\"Circuits Lab\\\",\\\"id\\\":1083857781,\\\"credits\\\":1,\\\"nameCanonical\\\":\\\"\\\"},{\\\"curriculum_requisites\\\":[{\\\"source_id\\\":2138760932,\\\"target_id\\\":3887805990,\\\"type\\\":\\\"prereq\\\"}],\\\"name\\\":\\\"ECE 2202\\\",\\\"metrics\\\":{\\\"complexity\\\":20.0,\\\"centrality\\\":393,\\\"blocking factor\\\":8,\\\"delay factor\\\":12.0},\\\"nameSub\\\":\\\"Circuit Analysis II\\\",\\\"id\\\":3887805990,\\\"credits\\\":3,\\\"nameCanonical\\\":\\\"\\\"},{\\\"curriculum_requisites\\\":[{\\\"source_id\\\":3887805990,\\\"target_id\\\":2791403937,\\\"type\\\":\\\"coreq\\\"}],\\\"name\\\":\\\"ECE 3337\\\",\\\"metrics\\\":{\\\"complexity\\\":13.0,\\\"centrality\\\":154,\\\"blocking factor\\\":4,\\\"delay factor\\\":9.0},\\\"nameSub\\\":\\\"Signals & Systems Analysis\\\",\\\"id\\\":2791403937,\\\"credits\\\":3,\\\"nameCanonical\\\":\\\"\\\"},{\\\"curriculum_requisites\\\":[{\\\"source_id\\\":1083857781,\\\"target_id\\\":4184346648,\\\"type\\\":\\\"coreq\\\"},{\\\"source_id\\\":649106202,\\\"target_id\\\":4184346648,\\\"type\\\":\\\"coreq\\\"}],\\\"name\\\":\\\"ECE 3436\\\",\\\"metrics\\\":{\\\"complexity\\\":11.0,\\\"centrality\\\":171,\\\"blocking factor\\\":2,\\\"delay factor\\\":9.0},\\\"nameSub\\\":\\\"Microprocessors\\\",\\\"id\\\":4184346648,\\\"credits\\\":3,\\\"nameCanonical\\\":\\\"\\\"}],\\\"id\\\":4},{\\\"name\\\":\\\"Term 5\\\",\\\"curriculum_items\\\":[{\\\"curriculum_requisites\\\":[],\\\"name\\\":\\\" \\\",\\\"metrics\\\":{\\\"complexity\\\":1.0,\\\"centrality\\\":0,\\\"blocking factor\\\":0,\\\"delay factor\\\":1.0},\\\"nameSub\\\":\\\"Creative Arts Core\\\",\\\"id\\\":848294223,\\\"credits\\\":3,\\\"nameCanonical\\\":\\\"\\\"},{\\\"curriculum_requisites\\\":[{\\\"source_id\\\":1770099342,\\\"target_id\\\":1966522372,\\\"type\\\":\\\"prereq\\\"},{\\\"source_id\\\":1083857781,\\\"target_id\\\":1966522372,\\\"type\\\":\\\"prereq\\\"}],\\\"name\\\":\\\"ECE 3155\\\",\\\"metrics\\\":{\\\"complexity\\\":15.0,\\\"centrality\\\":359,\\\"blocking factor\\\":3,\\\"delay factor\\\":12.0},\\\"nameSub\\\":\\\"Electronics Lab\\\",\\\"id\\\":1966522372,\\\"credits\\\":1,\\\"nameCanonical\\\":\\\"\\\"},{\\\"curriculum_requisites\\\":[{\\\"source_id\\\":2791403937,\\\"target_id\\\":4165958389,\\\"type\\\":\\\"prereq\\\"},{\\\"source_id\\\":1966522372,\\\"target_id\\\":4165958389,\\\"type\\\":\\\"strict-coreq\\\"}],\\\"name\\\":\\\"ECE 3355\\\",\\\"metrics\\\":{\\\"complexity\\\":14.0,\\\"centrality\\\":266,\\\"blocking factor\\\":2,\\\"delay factor\\\":12.0},\\\"nameSub\\\":\\\"Electronics\\\",\\\"id\\\":4165958389,\\\"credits\\\":3,\\\"nameCanonical\\\":\\\"\\\"},{\\\"curriculum_requisites\\\":[],\\\"name\\\":\\\" \\\",\\\"metrics\\\":{\\\"complexity\\\":1.0,\\\"centrality\\\":0,\\\"blocking factor\\\":0,\\\"delay factor\\\":1.0},\\\"nameSub\\\":\\\"Concentration Elective 1\\\",\\\"id\\\":1056053313,\\\"credits\\\":3,\\\"nameCanonical\\\":\\\"\\\"},{\\\"curriculum_requisites\\\":[{\\\"source_id\\\":2791403937,\\\"target_id\\\":2252871414,\\\"type\\\":\\\"prereq\\\"}],\\\"name\\\":\\\"ECE 3317\\\",\\\"metrics\\\":{\\\"complexity\\\":11.0,\\\"centrality\\\":77,\\\"blocking factor\\\":2,\\\"delay factor\\\":9.0},\\\"nameSub\\\":\\\"Applied EM Waves\\\",\\\"id\\\":2252871414,\\\"credits\\\":3,\\\"nameCanonical\\\":\\\"\\\"},{\\\"curriculum_requisites\\\":[],\\\"name\\\":\\\" \\\",\\\"metrics\\\":{\\\"complexity\\\":1.0,\\\"centrality\\\":0,\\\"blocking factor\\\":0,\\\"delay factor\\\":1.0},\\\"nameSub\\\":\\\"ECE Elective 1\\\",\\\"id\\\":2051928090,\\\"credits\\\":3,\\\"nameCanonical\\\":\\\"\\\"}],\\\"id\\\":5},{\\\"name\\\":\\\"Term 6\\\",\\\"curriculum_items\\\":[{\\\"curriculum_requisites\\\":[],\\\"name\\\":\\\"POLS 1337\\\",\\\"metrics\\\":{\\\"complexity\\\":1.0,\\\"centrality\\\":0,\\\"blocking factor\\\":0,\\\"delay factor\\\":1.0},\\\"nameSub\\\":\\\"US Gov: Congress, President and Courts\\\",\\\"id\\\":951874139,\\\"credits\\\":3,\\\"nameCanonical\\\":\\\"\\\"},{\\\"curriculum_requisites\\\":[{\\\"source_id\\\":1051497550,\\\"target_id\\\":2888554139,\\\"type\\\":\\\"prereq\\\"},{\\\"source_id\\\":1177372781,\\\"target_id\\\":2888554139,\\\"type\\\":\\\"prereq\\\"}],\\\"name\\\":\\\"INDE 2333\\\",\\\"metrics\\\":{\\\"complexity\\\":6.0,\\\"centrality\\\":16,\\\"blocking factor\\\":2,\\\"delay factor\\\":4.0},\\\"nameSub\\\":\\\"Engineering Statistics\\\",\\\"id\\\":2888554139,\\\"credits\\\":3,\\\"nameCanonical\\\":\\\"\\\"},{\\\"curriculum_requisites\\\":[],\\\"name\\\":\\\" \\\",\\\"metrics\\\":{\\\"complexity\\\":1.0,\\\"centrality\\\":0,\\\"blocking factor\\\":0,\\\"delay factor\\\":1.0},\\\"nameSub\\\":\\\"Elective Lab 1\\\",\\\"id\\\":26700799,\\\"credits\\\":1,\\\"nameCanonical\\\":\\\"\\\"},{\\\"curriculum_requisites\\\":[],\\\"name\\\":\\\" \\\",\\\"metrics\\\":{\\\"complexity\\\":1.0,\\\"centrality\\\":0,\\\"blocking factor\\\":0,\\\"delay factor\\\":1.0},\\\"nameSub\\\":\\\"Concentration Elective 2\\\",\\\"id\\\":1745860227,\\\"credits\\\":3,\\\"nameCanonical\\\":\\\"\\\"},{\\\"curriculum_requisites\\\":[{\\\"source_id\\\":649106202,\\\"target_id\\\":3368026167,\\\"type\\\":\\\"prereq\\\"}],\\\"name\\\":\\\"ECE 3340\\\",\\\"metrics\\\":{\\\"complexity\\\":10.0,\\\"centrality\\\":76,\\\"blocking factor\\\":2,\\\"delay factor\\\":8.0},\\\"nameSub\\\":\\\"Numerical Methods\\\",\\\"id\\\":3368026167,\\\"credits\\\":3,\\\"nameCanonical\\\":\\\"\\\"},{\\\"curriculum_requisites\\\":[],\\\"name\\\":\\\" \\\",\\\"metrics\\\":{\\\"complexity\\\":1.0,\\\"centrality\\\":0,\\\"blocking factor\\\":0,\\\"delay factor\\\":1.0},\\\"nameSub\\\":\\\"ECE Elective 2\\\",\\\"id\\\":672829327,\\\"credits\\\":3,\\\"nameCanonical\\\":\\\"\\\"}],\\\"id\\\":6},{\\\"name\\\":\\\"Term 7\\\",\\\"curriculum_items\\\":[{\\\"curriculum_requisites\\\":[],\\\"name\\\":\\\"ECON 2304\\\",\\\"metrics\\\":{\\\"complexity\\\":5.0,\\\"centrality\\\":0,\\\"blocking factor\\\":2,\\\"delay factor\\\":3.0},\\\"nameSub\\\":\\\"Microeconomic Principles\\\",\\\"id\\\":3224555476,\\\"credits\\\":3,\\\"nameCanonical\\\":\\\"\\\"},{\\\"curriculum_requisites\\\":[{\\\"source_id\\\":4184346648,\\\"target_id\\\":1337097032,\\\"type\\\":\\\"prereq\\\"},{\\\"source_id\\\":2888554139,\\\"target_id\\\":1337097032,\\\"type\\\":\\\"prereq\\\"},{\\\"source_id\\\":3224555476,\\\"target_id\\\":1337097032,\\\"type\\\":\\\"coreq\\\"},{\\\"source_id\\\":1966522372,\\\"target_id\\\":1337097032,\\\"type\\\":\\\"prereq\\\"},{\\\"source_id\\\":4165958389,\\\"target_id\\\":1337097032,\\\"type\\\":\\\"prereq\\\"},{\\\"source_id\\\":2252871414,\\\"target_id\\\":1337097032,\\\"type\\\":\\\"prereq\\\"},{\\\"source_id\\\":3368026167,\\\"target_id\\\":1337097032,\\\"type\\\":\\\"prereq\\\"}],\\\"name\\\":\\\"ECE 4335\\\",\\\"metrics\\\":{\\\"complexity\\\":13.0,\\\"centrality\\\":779,\\\"blocking factor\\\":1,\\\"delay factor\\\":12.0},\\\"nameSub\\\":\\\"ECE Design I\\\",\\\"id\\\":1337097032,\\\"credits\\\":3,\\\"nameCanonical\\\":\\\"\\\"},{\\\"curriculum_requisites\\\":[],\\\"name\\\":\\\" \\\",\\\"metrics\\\":{\\\"complexity\\\":1.0,\\\"centrality\\\":0,\\\"blocking factor\\\":0,\\\"delay factor\\\":1.0},\\\"nameSub\\\":\\\"Elective Lab 2\\\",\\\"id\\\":1296179090,\\\"credits\\\":1,\\\"nameCanonical\\\":\\\"\\\"},{\\\"curriculum_requisites\\\":[],\\\"name\\\":\\\" \\\",\\\"metrics\\\":{\\\"complexity\\\":1.0,\\\"centrality\\\":0,\\\"blocking factor\\\":0,\\\"delay factor\\\":1.0},\\\"nameSub\\\":\\\"Concentration Elective 3\\\",\\\"id\\\":1105094343,\\\"credits\\\":3,\\\"nameCanonical\\\":\\\"\\\"},{\\\"curriculum_requisites\\\":[],\\\"name\\\":\\\" \\\",\\\"metrics\\\":{\\\"complexity\\\":1.0,\\\"centrality\\\":0,\\\"blocking factor\\\":0,\\\"delay factor\\\":1.0},\\\"nameSub\\\":\\\"Concentration Elective 4\\\",\\\"id\\\":1819261218,\\\"credits\\\":3,\\\"nameCanonical\\\":\\\"\\\"},{\\\"curriculum_requisites\\\":[],\\\"name\\\":\\\" \\\",\\\"metrics\\\":{\\\"complexity\\\":1.0,\\\"centrality\\\":0,\\\"blocking factor\\\":0,\\\"delay factor\\\":1.0},\\\"nameSub\\\":\\\"Technical Elective\\\",\\\"id\\\":2529896330,\\\"credits\\\":3,\\\"nameCanonical\\\":\\\"\\\"}],\\\"id\\\":7},{\\\"name\\\":\\\"Term 8\\\",\\\"curriculum_items\\\":[{\\\"curriculum_requisites\\\":[],\\\"name\\\":\\\" \\\",\\\"metrics\\\":{\\\"complexity\\\":1.0,\\\"centrality\\\":0,\\\"blocking factor\\\":0,\\\"delay factor\\\":1.0},\\\"nameSub\\\":\\\"Lang., Phil. & Culture Core\\\",\\\"id\\\":1626752824,\\\"credits\\\":3,\\\"nameCanonical\\\":\\\"\\\"},{\\\"curriculum_requisites\\\":[{\\\"source_id\\\":1337097032,\\\"target_id\\\":1158404973,\\\"type\\\":\\\"prereq\\\"}],\\\"name\\\":\\\"ECE 4336\\\",\\\"metrics\\\":{\\\"complexity\\\":12.0,\\\"centrality\\\":0,\\\"blocking factor\\\":0,\\\"delay factor\\\":12.0},\\\"nameSub\\\":\\\"ECE Design II\\\",\\\"id\\\":1158404973,\\\"credits\\\":3,\\\"nameCanonical\\\":\\\"\\\"},{\\\"curriculum_requisites\\\":[],\\\"name\\\":\\\" \\\",\\\"metrics\\\":{\\\"complexity\\\":1.0,\\\"centrality\\\":0,\\\"blocking factor\\\":0,\\\"delay factor\\\":1.0},\\\"nameSub\\\":\\\"Elective Lab 3\\\",\\\"id\\\":3091492697,\\\"credits\\\":1,\\\"nameCanonical\\\":\\\"\\\"},{\\\"curriculum_requisites\\\":[],\\\"name\\\":\\\" \\\",\\\"metrics\\\":{\\\"complexity\\\":1.0,\\\"centrality\\\":0,\\\"blocking factor\\\":0,\\\"delay factor\\\":1.0},\\\"nameSub\\\":\\\"Concentration Elective 5\\\",\\\"id\\\":2070124031,\\\"credits\\\":3,\\\"nameCanonical\\\":\\\"\\\"},{\\\"curriculum_requisites\\\":[],\\\"name\\\":\\\" \\\",\\\"metrics\\\":{\\\"complexity\\\":1.0,\\\"centrality\\\":0,\\\"blocking factor\\\":0,\\\"delay factor\\\":1.0},\\\"nameSub\\\":\\\"Concentration Elective 6\\\",\\\"id\\\":1716266479,\\\"credits\\\":3,\\\"nameCanonical\\\":\\\"\\\"},{\\\"curriculum_requisites\\\":[],\\\"name\\\":\\\" \\\",\\\"metrics\\\":{\\\"complexity\\\":1.0,\\\"centrality\\\":0,\\\"blocking factor\\\":0,\\\"delay factor\\\":1.0},\\\"nameSub\\\":\\\"Concentration Elective 7\\\",\\\"id\\\":2584207151,\\\"credits\\\":3,\\\"nameCanonical\\\":\\\"\\\"},{\\\"curriculum_requisites\\\":[],\\\"name\\\":\\\" \\\",\\\"metrics\\\":{\\\"complexity\\\":1.0,\\\"centrality\\\":0,\\\"blocking factor\\\":0,\\\"delay factor\\\":1.0},\\\"nameSub\\\":\\\"Elective Lab 4\\\",\\\"id\\\":2450156574,\\\"credits\\\":1,\\\"nameCanonical\\\":\\\"\\\"}],\\\"id\\\":8}],\\\"institution\\\":\\\"\\\"}},\\\"*\\\"); window.removeEventListener(\\\"message\\\",window.messageReceived); window.messageReceived=(function (event){return (event.data.curriculum!==undefined) ? (WebIO.setval({\\\"name\\\":\\\"curriculum-data\\\",\\\"scope\\\":\\\"12490702642073571906\\\",\\\"id\\\":\\\"ob_02\\\",\\\"type\\\":\\\"observable\\\"},event.data.curriculum)) : undefined}); return window.addEventListener(\\\"message\\\",window.messageReceived)})\")),:style=>Dict(:padding=>\"0\",:height=>\"100vh\",:margin=>\"0\",:border=>\"none\",:width=>\"100%\"))), Dict{String,Tuple{Observables.AbstractObservable,Union{Nothing, Bool}}}(\"curriculum-data\"=>(Observable{Dict{String,Any}} with 1 listeners. Value:\n",
       "Dict{String,Any}(\"options\"=>Dict{String,Any}(\"hideTerms\"=>false,\"edit\"=>false),\"curriculum\"=>Dict{String,Any}(\"name\"=>\"University of Houston EE Program\",\"dp_name\"=>\"University of Houston EE Program 4-year Plan\",\"curriculum_terms\"=>Dict{String,Any}[Dict(\"name\"=>\"Term 1\",\"curriculum_items\"=>Dict{String,Any}[Dict(\"curriculum_requisites\"=>Dict{String,Any}[],\"name\"=>\"HIST 1377\",\"metrics\"=>Dict{String,Any}(\"complexity\"=>1.0,\"centrality\"=>0,\"blocking factor\"=>0,\"delay factor\"=>1.0),\"nameSub\"=>\"The US to 1877\",\"id\"=>3824069494,\"credits\"=>3,\"nameCanonical\"=>\"\"), Dict(\"curriculum_requisites\"=>Dict{String,Any}[],\"name\"=>\"ENGL 1303\",\"metrics\"=>Dict{String,Any}(\"complexity\"=>13.0,\"centrality\"=>0,\"blocking factor\"=>6,\"delay factor\"=>7.0),\"nameSub\"=>\"First Year Writing I\",\"id\"=>1324171406,\"credits\"=>3,\"nameCanonical\"=>\"\"), Dict(\"curriculum_requisites\"=>Dict{String,Any}[Dict(\"source_id\"=>4175014649,\"target_id\"=>1764441140,\"type\"=>\"coreq\")],\"name\"=>\"ENGI 1100\",\"metrics\"=>Dict{String,Any}(\"complexity\"=>24.0,\"centrality\"=>85,\"blocking factor\"=>15,\"delay factor\"=>9.0),\"nameSub\"=>\"Intro to Engr.\",\"id\"=>1764441140,\"credits\"=>1,\"nameCanonical\"=>\"\"), Dict(\"curriculum_requisites\"=>Dict{String,Any}[],\"name\"=>\"MATH 1431\",\"metrics\"=>Dict{String,Any}(\"complexity\"=>35.0,\"centrality\"=>0,\"blocking factor\"=>23,\"delay factor\"=>12.0),\"nameSub\"=>\"Calculus I\",\"id\"=>4175014649,\"credits\"=>4,\"nameCanonical\"=>\"\"), Dict(\"curriculum_requisites\"=>Dict{String,Any}[],\"name\"=>\"CHEM 1331\",\"metrics\"=>Dict{String,Any}(\"complexity\"=>3.0,\"centrality\"=>0,\"blocking factor\"=>1,\"delay factor\"=>2.0),\"nameSub\"=>\"Fund. of Chemistry\",\"id\"=>1351802580,\"credits\"=>3,\"nameCanonical\"=>\"\"), Dict(\"curriculum_requisites\"=>Dict{String,Any}[Dict(\"source_id\"=>1351802580,\"target_id\"=>2195546016,\"type\"=>\"coreq\")],\"name\"=>\"CHEM 1111\",\"metrics\"=>Dict{String,Any}(\"complexity\"=>2.0,\"centrality\"=>0,\"blocking factor\"=>0,\"delay factor\"=>2.0),\"nameSub\"=>\"Fund. of Chemistry Lab\",\"id\"=>2195546016,\"credits\"=>1,\"nameCanonical\"=>\"\")],\"id\"=>1), Dict(\"name\"=>\"Term 2\",\"curriculum_items\"=>Dict{String,Any}[Dict(\"curriculum_requisites\"=>Dict{String,Any}[],\"name\"=>\"HIST 1378\",\"metrics\"=>Dict{String,Any}(\"complexity\"=>1.0,\"centrality\"=>0,\"blocking factor\"=>0,\"delay factor\"=>1.0),\"nameSub\"=>\"US Since 1877\",\"id\"=>2731496025,\"credits\"=>3,\"nameCanonical\"=>\"\"), Dict(\"curriculum_requisites\"=>Dict{String,Any}[Dict(\"source_id\"=>1324171406,\"target_id\"=>3195103903,\"type\"=>\"prereq\")],\"name\"=>\"ENGL 1304\",\"metrics\"=>Dict{String,Any}(\"complexity\"=>12.0,\"centrality\"=>13,\"blocking factor\"=>5,\"delay factor\"=>7.0),\"nameSub\"=>\"First Year Writing II\",\"id\"=>3195103903,\"credits\"=>3,\"nameCanonical\"=>\"\"), Dict(\"curriculum_requisites\"=>Dict{String,Any}[Dict(\"source_id\"=>1764441140,\"target_id\"=>1051497550,\"type\"=>\"prereq\"), Dict(\"source_id\"=>4175014649,\"target_id\"=>1051497550,\"type\"=>\"prereq\")],\"name\"=>\"ENGI 1331\",\"metrics\"=>Dict{String,Any}(\"complexity\"=>23.0,\"centrality\"=>160,\"blocking factor\"=>14,\"delay factor\"=>9.0),\"nameSub\"=>\"Computing & Prob. Solving\",\"id\"=>1051497550,\"credits\"=>3,\"nameCanonical\"=>\"\"), Dict(\"curriculum_requisites\"=>Dict{String,Any}[Dict(\"source_id\"=>4175014649,\"target_id\"=>1177372781,\"type\"=>\"prereq\")],\"name\"=>\"MATH 1432\",\"metrics\"=>Dict{String,Any}(\"complexity\"=>32.0,\"centrality\"=>607,\"blocking factor\"=>20,\"delay factor\"=>12.0),\"nameSub\"=>\"Calculus II\",\"id\"=>1177372781,\"credits\"=>4,\"nameCanonical\"=>\"\"), Dict(\"curriculum_requisites\"=>Dict{String,Any}[Dict(\"source_id\"=>1177372781,\"target_id\"=>2834873484,\"type\"=>\"coreq\")],\"name\"=>\"PHYS 1321\",\"metrics\"=>Dict{String,Any}(\"complexity\"=>28.0,\"centrality\"=>217,\"blocking factor\"=>16,\"delay factor\"=>12.0),\"nameSub\"=>\"University Physics I\",\"id\"=>2834873484,\"credits\"=>3,\"nameCanonical\"=>\"\"), Dict(\"curriculum_requisites\"=>Dict{String,Any}[Dict(\"source_id\"=>2834873484,\"target_id\"=>3178954113,\"type\"=>\"coreq\")],\"name\"=>\"PHYS 1121\",\"metrics\"=>Dict{String,Any}(\"complexity\"=>4.0,\"centrality\"=>0,\"blocking factor\"=>0,\"delay factor\"=>4.0),\"nameSub\"=>\"Physics Lab I\",\"id\"=>3178954113,\"credits\"=>1,\"nameCanonical\"=>\"\")],\"id\"=>2), Dict(\"name\"=>\"Term 3\",\"curriculum_items\"=>Dict{String,Any}[Dict(\"curriculum_requisites\"=>Dict{String,Any}[],\"name\"=>\"POLS 1336\",\"metrics\"=>Dict{String,Any}(\"complexity\"=>1.0,\"centrality\"=>0,\"blocking factor\"=>0,\"delay factor\"=>1.0),\"nameSub\"=>\"US and TX Constitutions & Politics\",\"id\"=>1541543378,\"credits\"=>3,\"nameCanonical\"=>\"\"), Dict(\"curriculum_requisites\"=>Dict{String,Any}[Dict(\"source_id\"=>1177372781,\"target_id\"=>947037850,\"type\"=>\"prereq\")],\"name\"=>\"MATH 3321\",\"metrics\"=>Dict{String,Any}(\"complexity\"=>21.0,\"centrality\"=>93,\"blocking factor\"=>13,\"delay factor\"=>8.0),\"nameSub\"=>\"Engineering Math\",\"id\"=>947037850,\"credits\"=>3,\"nameCanonical\"=>\"\"), Dict(\"curriculum_requisites\"=>Dict{String,Any}[Dict(\"source_id\"=>1051497550,\"target_id\"=>2138760932,\"type\"=>\"prereq\"), Dict(\"source_id\"=>3059602497,\"target_id\"=>2138760932,\"type\"=>\"coreq\"), Dict(\"source_id\"=>3718777895,\"target_id\"=>2138760932,\"type\"=>\"coreq\"), Dict(\"source_id\"=>2258215799,\"target_id\"=>2138760932,\"type\"=>\"coreq\"), Dict(\"source_id\"=>947037850,\"target_id\"=>2138760932,\"type\"=>\"coreq\")],\"name\"=>\"ECE 2201\",\"metrics\"=>Dict{String,Any}(\"complexity\"=>24.0,\"centrality\"=>677,\"blocking factor\"=>12,\"delay factor\"=>12.0),\"nameSub\"=>\"Circuit Analysis I\",\"id\"=>2138760932,\"credits\"=>3,\"nameCanonical\"=>\"\"), Dict(\"curriculum_requisites\"=>Dict{String,Any}[Dict(\"source_id\"=>1177372781,\"target_id\"=>2258215799,\"type\"=>\"prereq\")],\"name\"=>\"MATH 2433\",\"metrics\"=>Dict{String,Any}(\"complexity\"=>25.0,\"centrality\"=>292,\"blocking factor\"=>15,\"delay factor\"=>10.0),\"nameSub\"=>\"Calculus III\",\"id\"=>2258215799,\"credits\"=>3,\"nameCanonical\"=>\"\"), Dict(\"curriculum_requisites\"=>Dict{String,Any}[Dict(\"source_id\"=>2834873484,\"target_id\"=>3718777895,\"type\"=>\"prereq\"), Dict(\"source_id\"=>2258215799,\"target_id\"=>3718777895,\"type\"=>\"coreq\")],\"name\"=>\"PHYS 1322\",\"metrics\"=>Dict{String,Any}(\"complexity\"=>26.0,\"centrality\"=>426,\"blocking factor\"=>14,\"delay factor\"=>12.0),\"nameSub\"=>\"University Physics II\",\"id\"=>3718777895,\"credits\"=>3,\"nameCanonical\"=>\"\"), Dict(\"curriculum_requisites\"=>Dict{String,Any}[Dict(\"source_id\"=>3718777895,\"target_id\"=>3059602497,\"type\"=>\"coreq\")],\"name\"=>\"PHYS 1122\",\"metrics\"=>Dict{String,Any}(\"complexity\"=>25.0,\"centrality\"=>250,\"blocking factor\"=>13,\"delay factor\"=>12.0),\"nameSub\"=>\"Physics Lab II\",\"id\"=>3059602497,\"credits\"=>1,\"nameCanonical\"=>\"\")],\"id\"=>3), Dict(\"name\"=>\"Term 4\",\"curriculum_items\"=>Dict{String,Any}[Dict(\"curriculum_requisites\"=>Dict{String,Any}[Dict(\"source_id\"=>3195103903,\"target_id\"=>1770099342,\"type\"=>\"prereq\"), Dict(\"source_id\"=>2138760932,\"target_id\"=>1770099342,\"type\"=>\"prereq\")],\"name\"=>\"ENGI 2304\",\"metrics\"=>Dict{String,Any}(\"complexity\"=>11.0,\"centrality\"=>159,\"blocking factor\"=>4,\"delay factor\"=>7.0),\"nameSub\"=>\"Technical Communication\",\"id\"=>1770099342,\"credits\"=>3,\"nameCanonical\"=>\"\"), Dict(\"curriculum_requisites\"=>Dict{String,Any}[Dict(\"source_id\"=>947037850,\"target_id\"=>649106202,\"type\"=>\"prereq\"), Dict(\"source_id\"=>2138760932,\"target_id\"=>649106202,\"type\"=>\"prereq\")],\"name\"=>\"ECE 3331\",\"metrics\"=>Dict{String,Any}(\"complexity\"=>12.0,\"centrality\"=>152,\"blocking factor\"=>4,\"delay factor\"=>8.0),\"nameSub\"=>\"Programming Apps in ECE\",\"id\"=>649106202,\"credits\"=>3,\"nameCanonical\"=>\"\"), Dict(\"curriculum_requisites\"=>Dict{String,Any}[Dict(\"source_id\"=>3059602497,\"target_id\"=>1083857781,\"type\"=>\"prereq\"), Dict(\"source_id\"=>3887805990,\"target_id\"=>1083857781,\"type\"=>\"coreq\")],\"name\"=>\"ECE 2100\",\"metrics\"=>Dict{String,Any}(\"complexity\"=>17.0,\"centrality\"=>295,\"blocking factor\"=>5,\"delay factor\"=>12.0),\"nameSub\"=>\"Circuits Lab\",\"id\"=>1083857781,\"credits\"=>1,\"nameCanonical\"=>\"\"), Dict(\"curriculum_requisites\"=>Dict{String,Any}[Dict(\"source_id\"=>2138760932,\"target_id\"=>3887805990,\"type\"=>\"prereq\")],\"name\"=>\"ECE 2202\",\"metrics\"=>Dict{String,Any}(\"complexity\"=>20.0,\"centrality\"=>393,\"blocking factor\"=>8,\"delay factor\"=>12.0),\"nameSub\"=>\"Circuit Analysis II\",\"id\"=>3887805990,\"credits\"=>3,\"nameCanonical\"=>\"\"), Dict(\"curriculum_requisites\"=>Dict{String,Any}[Dict(\"source_id\"=>3887805990,\"target_id\"=>2791403937,\"type\"=>\"coreq\")],\"name\"=>\"ECE 3337\",\"metrics\"=>Dict{String,Any}(\"complexity\"=>13.0,\"centrality\"=>154,\"blocking factor\"=>4,\"delay factor\"=>9.0),\"nameSub\"=>\"Signals & Systems Analysis\",\"id\"=>2791403937,\"credits\"=>3,\"nameCanonical\"=>\"\"), Dict(\"curriculum_requisites\"=>Dict{String,Any}[Dict(\"source_id\"=>1083857781,\"target_id\"=>4184346648,\"type\"=>\"coreq\"), Dict(\"source_id\"=>649106202,\"target_id\"=>4184346648,\"type\"=>\"coreq\")],\"name\"=>\"ECE 3436\",\"metrics\"=>Dict{String,Any}(\"complexity\"=>11.0,\"centrality\"=>171,\"blocking factor\"=>2,\"delay factor\"=>9.0),\"nameSub\"=>\"Microprocessors\",\"id\"=>4184346648,\"credits\"=>3,\"nameCanonical\"=>\"\")],\"id\"=>4), Dict(\"name\"=>\"Term 5\",\"curriculum_items\"=>Dict{String,Any}[Dict(\"curriculum_requisites\"=>Dict{String,Any}[],\"name\"=>\" \",\"metrics\"=>Dict{String,Any}(\"complexity\"=>1.0,\"centrality\"=>0,\"blocking factor\"=>0,\"delay factor\"=>1.0),\"nameSub\"=>\"Creative Arts Core\",\"id\"=>848294223,\"credits\"=>3,\"nameCanonical\"=>\"\"), Dict(\"curriculum_requisites\"=>Dict{String,Any}[Dict(\"source_id\"=>1770099342,\"target_id\"=>1966522372,\"type\"=>\"prereq\"), Dict(\"source_id\"=>1083857781,\"target_id\"=>1966522372,\"type\"=>\"prereq\")],\"name\"=>\"ECE 3155\",\"metrics\"=>Dict{String,Any}(\"complexity\"=>15.0,\"centrality\"=>359,\"blocking factor\"=>3,\"delay factor\"=>12.0),\"nameSub\"=>\"Electronics Lab\",\"id\"=>1966522372,\"credits\"=>1,\"nameCanonical\"=>\"\"), Dict(\"curriculum_requisites\"=>Dict{String,Any}[Dict(\"source_id\"=>2791403937,\"target_id\"=>4165958389,\"type\"=>\"prereq\"), Dict(\"source_id\"=>1966522372,\"target_id\"=>4165958389,\"type\"=>\"strict-coreq\")],\"name\"=>\"ECE 3355\",\"metrics\"=>Dict{String,Any}(\"complexity\"=>14.0,\"centrality\"=>266,\"blocking factor\"=>2,\"delay factor\"=>12.0),\"nameSub\"=>\"Electronics\",\"id\"=>4165958389,\"credits\"=>3,\"nameCanonical\"=>\"\"), Dict(\"curriculum_requisites\"=>Dict{String,Any}[],\"name\"=>\" \",\"metrics\"=>Dict{String,Any}(\"complexity\"=>1.0,\"centrality\"=>0,\"blocking factor\"=>0,\"delay factor\"=>1.0),\"nameSub\"=>\"Concentration Elective 1\",\"id\"=>1056053313,\"credits\"=>3,\"nameCanonical\"=>\"\"), Dict(\"curriculum_requisites\"=>Dict{String,Any}[Dict(\"source_id\"=>2791403937,\"target_id\"=>2252871414,\"type\"=>\"prereq\")],\"name\"=>\"ECE 3317\",\"metrics\"=>Dict{String,Any}(\"complexity\"=>11.0,\"centrality\"=>77,\"blocking factor\"=>2,\"delay factor\"=>9.0),\"nameSub\"=>\"Applied EM Waves\",\"id\"=>2252871414,\"credits\"=>3,\"nameCanonical\"=>\"\"), Dict(\"curriculum_requisites\"=>Dict{String,Any}[],\"name\"=>\" \",\"metrics\"=>Dict{String,Any}(\"complexity\"=>1.0,\"centrality\"=>0,\"blocking factor\"=>0,\"delay factor\"=>1.0),\"nameSub\"=>\"ECE Elective 1\",\"id\"=>2051928090,\"credits\"=>3,\"nameCanonical\"=>\"\")],\"id\"=>5), Dict(\"name\"=>\"Term 6\",\"curriculum_items\"=>Dict{String,Any}[Dict(\"curriculum_requisites\"=>Dict{String,Any}[],\"name\"=>\"POLS 1337\",\"metrics\"=>Dict{String,Any}(\"complexity\"=>1.0,\"centrality\"=>0,\"blocking factor\"=>0,\"delay factor\"=>1.0),\"nameSub\"=>\"US Gov: Congress, President and Courts\",\"id\"=>951874139,\"credits\"=>3,\"nameCanonical\"=>\"\"), Dict(\"curriculum_requisites\"=>Dict{String,Any}[Dict(\"source_id\"=>1051497550,\"target_id\"=>2888554139,\"type\"=>\"prereq\"), Dict(\"source_id\"=>1177372781,\"target_id\"=>2888554139,\"type\"=>\"prereq\")],\"name\"=>\"INDE 2333\",\"metrics\"=>Dict{String,Any}(\"complexity\"=>6.0,\"centrality\"=>16,\"blocking factor\"=>2,\"delay factor\"=>4.0),\"nameSub\"=>\"Engineering Statistics\",\"id\"=>2888554139,\"credits\"=>3,\"nameCanonical\"=>\"\"), Dict(\"curriculum_requisites\"=>Dict{String,Any}[],\"name\"=>\" \",\"metrics\"=>Dict{String,Any}(\"complexity\"=>1.0,\"centrality\"=>0,\"blocking factor\"=>0,\"delay factor\"=>1.0),\"nameSub\"=>\"Elective Lab 1\",\"id\"=>26700799,\"credits\"=>1,\"nameCanonical\"=>\"\"), Dict(\"curriculum_requisites\"=>Dict{String,Any}[],\"name\"=>\" \",\"metrics\"=>Dict{String,Any}(\"complexity\"=>1.0,\"centrality\"=>0,\"blocking factor\"=>0,\"delay factor\"=>1.0),\"nameSub\"=>\"Concentration Elective 2\",\"id\"=>1745860227,\"credits\"=>3,\"nameCanonical\"=>\"\"), Dict(\"curriculum_requisites\"=>Dict{String,Any}[Dict(\"source_id\"=>649106202,\"target_id\"=>3368026167,\"type\"=>\"prereq\")],\"name\"=>\"ECE 3340\",\"metrics\"=>Dict{String,Any}(\"complexity\"=>10.0,\"centrality\"=>76,\"blocking factor\"=>2,\"delay factor\"=>8.0),\"nameSub\"=>\"Numerical Methods\",\"id\"=>3368026167,\"credits\"=>3,\"nameCanonical\"=>\"\"), Dict(\"curriculum_requisites\"=>Dict{String,Any}[],\"name\"=>\" \",\"metrics\"=>Dict{String,Any}(\"complexity\"=>1.0,\"centrality\"=>0,\"blocking factor\"=>0,\"delay factor\"=>1.0),\"nameSub\"=>\"ECE Elective 2\",\"id\"=>672829327,\"credits\"=>3,\"nameCanonical\"=>\"\")],\"id\"=>6), Dict(\"name\"=>\"Term 7\",\"curriculum_items\"=>Dict{String,Any}[Dict(\"curriculum_requisites\"=>Dict{String,Any}[],\"name\"=>\"ECON 2304\",\"metrics\"=>Dict{String,Any}(\"complexity\"=>5.0,\"centrality\"=>0,\"blocking factor\"=>2,\"delay factor\"=>3.0),\"nameSub\"=>\"Microeconomic Principles\",\"id\"=>3224555476,\"credits\"=>3,\"nameCanonical\"=>\"\"), Dict(\"curriculum_requisites\"=>Dict{String,Any}[Dict(\"source_id\"=>4184346648,\"target_id\"=>1337097032,\"type\"=>\"prereq\"), Dict(\"source_id\"=>2888554139,\"target_id\"=>1337097032,\"type\"=>\"prereq\"), Dict(\"source_id\"=>3224555476,\"target_id\"=>1337097032,\"type\"=>\"coreq\"), Dict(\"source_id\"=>1966522372,\"target_id\"=>1337097032,\"type\"=>\"prereq\"), Dict(\"source_id\"=>4165958389,\"target_id\"=>1337097032,\"type\"=>\"prereq\"), Dict(\"source_id\"=>2252871414,\"target_id\"=>1337097032,\"type\"=>\"prereq\"), Dict(\"source_id\"=>3368026167,\"target_id\"=>1337097032,\"type\"=>\"prereq\")],\"name\"=>\"ECE 4335\",\"metrics\"=>Dict{String,Any}(\"complexity\"=>13.0,\"centrality\"=>779,\"blocking factor\"=>1,\"delay factor\"=>12.0),\"nameSub\"=>\"ECE Design I\",\"id\"=>1337097032,\"credits\"=>3,\"nameCanonical\"=>\"\"), Dict(\"curriculum_requisites\"=>Dict{String,Any}[],\"name\"=>\" \",\"metrics\"=>Dict{String,Any}(\"complexity\"=>1.0,\"centrality\"=>0,\"blocking factor\"=>0,\"delay factor\"=>1.0),\"nameSub\"=>\"Elective Lab 2\",\"id\"=>1296179090,\"credits\"=>1,\"nameCanonical\"=>\"\"), Dict(\"curriculum_requisites\"=>Dict{String,Any}[],\"name\"=>\" \",\"metrics\"=>Dict{String,Any}(\"complexity\"=>1.0,\"centrality\"=>0,\"blocking factor\"=>0,\"delay factor\"=>1.0),\"nameSub\"=>\"Concentration Elective 3\",\"id\"=>1105094343,\"credits\"=>3,\"nameCanonical\"=>\"\"), Dict(\"curriculum_requisites\"=>Dict{String,Any}[],\"name\"=>\" \",\"metrics\"=>Dict{String,Any}(\"complexity\"=>1.0,\"centrality\"=>0,\"blocking factor\"=>0,\"delay factor\"=>1.0),\"nameSub\"=>\"Concentration Elective 4\",\"id\"=>1819261218,\"credits\"=>3,\"nameCanonical\"=>\"\"), Dict(\"curriculum_requisites\"=>Dict{String,Any}[],\"name\"=>\" \",\"metrics\"=>Dict{String,Any}(\"complexity\"=>1.0,\"centrality\"=>0,\"blocking factor\"=>0,\"delay factor\"=>1.0),\"nameSub\"=>\"Technical Elective\",\"id\"=>2529896330,\"credits\"=>3,\"nameCanonical\"=>\"\")],\"id\"=>7), Dict(\"name\"=>\"Term 8\",\"curriculum_items\"=>Dict{String,Any}[Dict(\"curriculum_requisites\"=>Dict{String,Any}[],\"name\"=>\" \",\"metrics\"=>Dict{String,Any}(\"complexity\"=>1.0,\"centrality\"=>0,\"blocking factor\"=>0,\"delay factor\"=>1.0),\"nameSub\"=>\"Lang., Phil. & Culture Core\",\"id\"=>1626752824,\"credits\"=>3,\"nameCanonical\"=>\"\"), Dict(\"curriculum_requisites\"=>Dict{String,Any}[Dict(\"source_id\"=>1337097032,\"target_id\"=>1158404973,\"type\"=>\"prereq\")],\"name\"=>\"ECE 4336\",\"metrics\"=>Dict{String,Any}(\"complexity\"=>12.0,\"centrality\"=>0,\"blocking factor\"=>0,\"delay factor\"=>12.0),\"nameSub\"=>\"ECE Design II\",\"id\"=>1158404973,\"credits\"=>3,\"nameCanonical\"=>\"\"), Dict(\"curriculum_requisites\"=>Dict{String,Any}[],\"name\"=>\" \",\"metrics\"=>Dict{String,Any}(\"complexity\"=>1.0,\"centrality\"=>0,\"blocking factor\"=>0,\"delay factor\"=>1.0),\"nameSub\"=>\"Elective Lab 3\",\"id\"=>3091492697,\"credits\"=>1,\"nameCanonical\"=>\"\"), Dict(\"curriculum_requisites\"=>Dict{String,Any}[],\"name\"=>\" \",\"metrics\"=>Dict{String,Any}(\"complexity\"=>1.0,\"centrality\"=>0,\"blocking factor\"=>0,\"delay factor\"=>1.0),\"nameSub\"=>\"Concentration Elective 5\",\"id\"=>2070124031,\"credits\"=>3,\"nameCanonical\"=>\"\"), Dict(\"curriculum_requisites\"=>Dict{String,Any}[],\"name\"=>\" \",\"metrics\"=>Dict{String,Any}(\"complexity\"=>1.0,\"centrality\"=>0,\"blocking factor\"=>0,\"delay factor\"=>1.0),\"nameSub\"=>\"Concentration Elective 6\",\"id\"=>1716266479,\"credits\"=>3,\"nameCanonical\"=>\"\"), Dict(\"curriculum_requisites\"=>Dict{String,Any}[],\"name\"=>\" \",\"metrics\"=>Dict{String,Any}(\"complexity\"=>1.0,\"centrality\"=>0,\"blocking factor\"=>0,\"delay factor\"=>1.0),\"nameSub\"=>\"Concentration Elective 7\",\"id\"=>2584207151,\"credits\"=>3,\"nameCanonical\"=>\"\"), Dict(\"curriculum_requisites\"=>Dict{String,Any}[],\"name\"=>\" \",\"metrics\"=>Dict{String,Any}(\"complexity\"=>1.0,\"centrality\"=>0,\"blocking factor\"=>0,\"delay factor\"=>1.0),\"nameSub\"=>\"Elective Lab 4\",\"id\"=>2450156574,\"credits\"=>1,\"nameCanonical\"=>\"\")],\"id\"=>8)],\"institution\"=>\"\")), nothing)), Set(String[]), nothing, WebIO.Asset[], Dict{Any,Any}(), WebIO.ConnectionPool(Channel{Any}(sz_max:32,sz_curr:0), Set(WebIO.AbstractConnection[]), Channel{WebIO.AbstractConnection}(sz_max:32,sz_curr:0)), WebIO.JSString[])"
      ]
     },
     "execution_count": 3,
     "metadata": {
      "application/vnd.webio.node+json": {
       "kernelId": "648a078a-cf92-4883-a270-432bb7a2c95f"
      }
     },
     "output_type": "execute_result"
    }
   ],
   "source": [
    "include(\"UH_EE_curric.jl\")\n",
    "visualize(dp; notebook=true)"
   ]
  },
  {
   "cell_type": "markdown",
   "metadata": {},
   "source": [
    "Notice once again that the Circuit Analysis I course in the third term is the course with the highest centrality in the curriculum. The overall complexity of this curriculum is 487, computed as the total amount of the delay and blocking factors associated with all courses in the curriculum.\n",
    "\n",
    "Let us consider one more electrical engineering program, in this case the one offered by  <cite data-cite=\"\">Cornell University (2018)</cite>."
   ]
  },
  {
   "cell_type": "code",
   "execution_count": 4,
   "metadata": {
    "scrolled": false
   },
   "outputs": [
    {
     "data": {
      "application/vnd.webio.node+json": {
       "children": [
        {
         "children": [
          ""
         ],
         "instanceArgs": {
          "namespace": "html",
          "tag": "iframe"
         },
         "nodeType": "DOM",
         "props": {
          "events": {
           "load": "(function (){this.contentWindow.postMessage({\"options\":{\"hideTerms\":false,\"edit\":false},\"curriculum\":{\"name\":\"Cornell University EE Program\",\"dp_name\":\"Cornell University EE Program 4-year Plan\",\"curriculum_terms\":[{\"name\":\"Term 1\",\"curriculum_items\":[{\"curriculum_requisites\":[],\"name\":\"CHEM  2090\",\"metrics\":{\"centrality\":0,\"complexity\":1.0,\"blocking factor\":0,\"delay factor\":1.0},\"nameSub\":\"Engineering Gen. Chemistry\",\"id\":3732084628,\"credits\":3,\"nameCanonical\":\"\"},{\"curriculum_requisites\":[],\"name\":\"MATH 1910\",\"metrics\":{\"centrality\":0,\"complexity\":15.0,\"blocking factor\":10,\"delay factor\":5.0},\"nameSub\":\"Calculus for Engineers\",\"id\":4274504294,\"credits\":3,\"nameCanonical\":\"\"},{\"curriculum_requisites\":[],\"name\":\"ENGRI 1xxx\",\"metrics\":{\"centrality\":0,\"complexity\":1.0,\"blocking factor\":0,\"delay factor\":1.0},\"nameSub\":\"Engineering Distribution 1\",\"id\":3683554939,\"credits\":3,\"nameCanonical\":\"\"},{\"curriculum_requisites\":[],\"name\":\" \",\"metrics\":{\"centrality\":0,\"complexity\":1.0,\"blocking factor\":0,\"delay factor\":1.0},\"nameSub\":\"1st Yr Writing Seminar 1\",\"id\":239686930,\"credits\":3,\"nameCanonical\":\"\"},{\"curriculum_requisites\":[],\"name\":\" \",\"metrics\":{\"centrality\":0,\"complexity\":1.0,\"blocking factor\":0,\"delay factor\":1.0},\"nameSub\":\"PE 1\",\"id\":1523633189,\"credits\":3,\"nameCanonical\":\"\"}],\"id\":1},{\"name\":\"Term 2\",\"curriculum_items\":[{\"curriculum_requisites\":[{\"source_id\":4274504294,\"target_id\":177051436,\"type\":\"prereq\"}],\"name\":\"PHYS 1112\",\"metrics\":{\"centrality\":9,\"complexity\":9.0,\"blocking factor\":4,\"delay factor\":5.0},\"nameSub\":\"Physics I: Mechanics & Heat\",\"id\":177051436,\"credits\":3,\"nameCanonical\":\"\"},{\"curriculum_requisites\":[{\"source_id\":4274504294,\"target_id\":2644941087,\"type\":\"prereq\"}],\"name\":\"MATH 1920\",\"metrics\":{\"centrality\":28,\"complexity\":12.0,\"blocking factor\":8,\"delay factor\":4.0},\"nameSub\":\"Multivariable Calc. for Engineers\",\"id\":2644941087,\"credits\":3,\"nameCanonical\":\"\"},{\"curriculum_requisites\":[],\"name\":\"CS 111x\",\"metrics\":{\"centrality\":0,\"complexity\":6.0,\"blocking factor\":3,\"delay factor\":3.0},\"nameSub\":\"Intro. to Computing\",\"id\":4226399557,\"credits\":3,\"nameCanonical\":\"\"},{\"curriculum_requisites\":[],\"name\":\" \",\"metrics\":{\"centrality\":0,\"complexity\":1.0,\"blocking factor\":0,\"delay factor\":1.0},\"nameSub\":\"1st Yr Writing Seminar 2\",\"id\":4073672988,\"credits\":3,\"nameCanonical\":\"\"},{\"curriculum_requisites\":[],\"name\":\" \",\"metrics\":{\"centrality\":0,\"complexity\":1.0,\"blocking factor\":0,\"delay factor\":1.0},\"nameSub\":\"PE 2\",\"id\":335346848,\"credits\":3,\"nameCanonical\":\"\"}],\"id\":2},{\"name\":\"Term 3\",\"curriculum_items\":[{\"curriculum_requisites\":[{\"source_id\":177051436,\"target_id\":670953379,\"type\":\"prereq\"},{\"source_id\":2644941087,\"target_id\":670953379,\"type\":\"prereq\"}],\"name\":\"PHYS 2213\",\"metrics\":{\"centrality\":18,\"complexity\":8.0,\"blocking factor\":3,\"delay factor\":5.0},\"nameSub\":\"Physics II: Electromagnetism\",\"id\":670953379,\"credits\":3,\"nameCanonical\":\"\"},{\"curriculum_requisites\":[{\"source_id\":2644941087,\"target_id\":1926321183,\"type\":\"prereq\"}],\"name\":\"MATH 2930\",\"metrics\":{\"centrality\":14,\"complexity\":8.0,\"blocking factor\":4,\"delay factor\":4.0},\"nameSub\":\"Diff. Eqs. for Engineers\",\"id\":1926321183,\"credits\":3,\"nameCanonical\":\"\"},{\"curriculum_requisites\":[{\"source_id\":1926321183,\"target_id\":3693590979,\"type\":\"coreq\"},{\"source_id\":670953379,\"target_id\":3693590979,\"type\":\"coreq\"}],\"name\":\"ECE/ENGRD 2100\",\"metrics\":{\"centrality\":15,\"complexity\":6.0,\"blocking factor\":1,\"delay factor\":5.0},\"nameSub\":\"Intro. to Circuits\",\"id\":3693590979,\"credits\":3,\"nameCanonical\":\"\"},{\"curriculum_requisites\":[{\"source_id\":4226399557,\"target_id\":986524819,\"type\":\"prereq\"}],\"name\":\"ECE/ENGRD 2300\",\"metrics\":{\"centrality\":3,\"complexity\":4.0,\"blocking factor\":1,\"delay factor\":3.0},\"nameSub\":\"Digital Logic & Computer Org.\",\"id\":986524819,\"credits\":3,\"nameCanonical\":\"\"},{\"curriculum_requisites\":[],\"name\":\" \",\"metrics\":{\"centrality\":0,\"complexity\":1.0,\"blocking factor\":0,\"delay factor\":1.0},\"nameSub\":\"Liberal Studies 1\",\"id\":1558052753,\"credits\":3,\"nameCanonical\":\"\"}],\"id\":3},{\"name\":\"Term 4\",\"curriculum_items\":[{\"curriculum_requisites\":[{\"source_id\":1926321183,\"target_id\":3377751592,\"type\":\"coreq\"}],\"name\":\"PHYS 2214\",\"metrics\":{\"centrality\":0,\"complexity\":4.0,\"blocking factor\":0,\"delay factor\":4.0},\"nameSub\":\"Physics III: Oscillations, Waves, and Quantum Physics\",\"id\":3377751592,\"credits\":3,\"nameCanonical\":\"\"},{\"curriculum_requisites\":[{\"source_id\":2644941087,\"target_id\":1135328629,\"type\":\"prereq\"}],\"name\":\"MATH 2940\",\"metrics\":{\"centrality\":5,\"complexity\":6.0,\"blocking factor\":2,\"delay factor\":4.0},\"nameSub\":\"Linear Algebra for Engineers\",\"id\":1135328629,\"credits\":3,\"nameCanonical\":\"\"},{\"curriculum_requisites\":[{\"source_id\":670953379,\"target_id\":1098106156,\"type\":\"prereq\"}],\"name\":\"ENGRD 2xxx\",\"metrics\":{\"centrality\":0,\"complexity\":4.0,\"blocking factor\":0,\"delay factor\":4.0},\"nameSub\":\"Engineering Distribution 2\",\"id\":1098106156,\"credits\":3,\"nameCanonical\":\"\"},{\"curriculum_requisites\":[{\"source_id\":1926321183,\"target_id\":2066269668,\"type\":\"prereq\"},{\"source_id\":1135328629,\"target_id\":2066269668,\"type\":\"coreq\"}],\"name\":\"ECE/ENGRD 2200/2220\",\"metrics\":{\"centrality\":10,\"complexity\":5.0,\"blocking factor\":1,\"delay factor\":4.0},\"nameSub\":\"Signals and Information\",\"id\":2066269668,\"credits\":3,\"nameCanonical\":\"\"},{\"curriculum_requisites\":[],\"name\":\" \",\"metrics\":{\"centrality\":0,\"complexity\":1.0,\"blocking factor\":0,\"delay factor\":1.0},\"nameSub\":\"Liberal Studies 2\",\"id\":2054345146,\"credits\":3,\"nameCanonical\":\"\"}],\"id\":4},{\"name\":\"Term 5\",\"curriculum_items\":[{\"curriculum_requisites\":[],\"name\":\" \",\"metrics\":{\"centrality\":0,\"complexity\":1.0,\"blocking factor\":0,\"delay factor\":1.0},\"nameSub\":\"ECE Foundations 1\",\"id\":743914989,\"credits\":3,\"nameCanonical\":\"\"},{\"curriculum_requisites\":[],\"name\":\" \",\"metrics\":{\"centrality\":0,\"complexity\":1.0,\"blocking factor\":0,\"delay factor\":1.0},\"nameSub\":\"Elective 1\",\"id\":2064696548,\"credits\":3,\"nameCanonical\":\"\"},{\"curriculum_requisites\":[{\"source_id\":4226399557,\"target_id\":329854095,\"type\":\"prereq\"}],\"name\":\" \",\"metrics\":{\"centrality\":0,\"complexity\":2.0,\"blocking factor\":0,\"delay factor\":2.0},\"nameSub\":\"Outside Tech. Elective 1\",\"id\":329854095,\"credits\":3,\"nameCanonical\":\"\"},{\"curriculum_requisites\":[{\"source_id\":3693590979,\"target_id\":1413999863,\"type\":\"prereq\"},{\"source_id\":986524819,\"target_id\":1413999863,\"type\":\"prereq\"},{\"source_id\":2066269668,\"target_id\":1413999863,\"type\":\"prereq\"}],\"name\":\"ECE 3400\",\"metrics\":{\"centrality\":0,\"complexity\":5.0,\"blocking factor\":0,\"delay factor\":5.0},\"nameSub\":\"Intelligent Physical Systems\",\"id\":1413999863,\"credits\":3,\"nameCanonical\":\"\"},{\"curriculum_requisites\":[],\"name\":\" \",\"metrics\":{\"centrality\":0,\"complexity\":1.0,\"blocking factor\":0,\"delay factor\":1.0},\"nameSub\":\"Liberal Studies 3\",\"id\":1637204683,\"credits\":3,\"nameCanonical\":\"\"}],\"id\":5},{\"name\":\"Term 6\",\"curriculum_items\":[{\"curriculum_requisites\":[],\"name\":\" \",\"metrics\":{\"centrality\":0,\"complexity\":1.0,\"blocking factor\":0,\"delay factor\":1.0},\"nameSub\":\"ECE Foundations 2\",\"id\":121333895,\"credits\":3,\"nameCanonical\":\"\"},{\"curriculum_requisites\":[],\"name\":\" \",\"metrics\":{\"centrality\":0,\"complexity\":1.0,\"blocking factor\":0,\"delay factor\":1.0},\"nameSub\":\"ECE Foundations 3\",\"id\":1218469900,\"credits\":3,\"nameCanonical\":\"\"},{\"curriculum_requisites\":[],\"name\":\" \",\"metrics\":{\"centrality\":0,\"complexity\":1.0,\"blocking factor\":0,\"delay factor\":1.0},\"nameSub\":\"Outside Tech. Elective 2\",\"id\":329854096,\"credits\":3,\"nameCanonical\":\"\"},{\"curriculum_requisites\":[],\"name\":\" \",\"metrics\":{\"centrality\":0,\"complexity\":1.0,\"blocking factor\":0,\"delay factor\":1.0},\"nameSub\":\"Elective 2\",\"id\":266560209,\"credits\":3,\"nameCanonical\":\"\"},{\"curriculum_requisites\":[],\"name\":\" \",\"metrics\":{\"centrality\":0,\"complexity\":1.0,\"blocking factor\":0,\"delay factor\":1.0},\"nameSub\":\"Liberal Studies 4\",\"id\":1720176282,\"credits\":3,\"nameCanonical\":\"\"}],\"id\":6},{\"name\":\"Term 7\",\"curriculum_items\":[{\"curriculum_requisites\":[],\"name\":\" \",\"metrics\":{\"centrality\":0,\"complexity\":1.0,\"blocking factor\":0,\"delay factor\":1.0},\"nameSub\":\"ECE Elective (CDE)\",\"id\":3224403962,\"credits\":3,\"nameCanonical\":\"\"},{\"curriculum_requisites\":[],\"name\":\" \",\"metrics\":{\"centrality\":0,\"complexity\":1.0,\"blocking factor\":0,\"delay factor\":1.0},\"nameSub\":\"ECE Elective 1\",\"id\":2051928090,\"credits\":3,\"nameCanonical\":\"\"},{\"curriculum_requisites\":[],\"name\":\" \",\"metrics\":{\"centrality\":0,\"complexity\":1.0,\"blocking factor\":0,\"delay factor\":1.0},\"nameSub\":\"Outside Tech. Elective 3\",\"id\":329854097,\"credits\":3,\"nameCanonical\":\"\"},{\"curriculum_requisites\":[],\"name\":\" \",\"metrics\":{\"centrality\":0,\"complexity\":1.0,\"blocking factor\":0,\"delay factor\":1.0},\"nameSub\":\"Liberal Studies 5\",\"id\":3411438757,\"credits\":3,\"nameCanonical\":\"\"}],\"id\":7},{\"name\":\"Term 8\",\"curriculum_items\":[{\"curriculum_requisites\":[],\"name\":\" \",\"metrics\":{\"centrality\":0,\"complexity\":1.0,\"blocking factor\":0,\"delay factor\":1.0},\"nameSub\":\"ECE Elective 2\",\"id\":672829327,\"credits\":3,\"nameCanonical\":\"\"},{\"curriculum_requisites\":[],\"name\":\" \",\"metrics\":{\"centrality\":0,\"complexity\":1.0,\"blocking factor\":0,\"delay factor\":1.0},\"nameSub\":\"ECE Elective 3\",\"id\":562628024,\"credits\":3,\"nameCanonical\":\"\"},{\"curriculum_requisites\":[],\"name\":\" \",\"metrics\":{\"centrality\":0,\"complexity\":1.0,\"blocking factor\":0,\"delay factor\":1.0},\"nameSub\":\"ECE Elective 4\",\"id\":3443198019,\"credits\":3,\"nameCanonical\":\"\"},{\"curriculum_requisites\":[],\"name\":\" \",\"metrics\":{\"centrality\":0,\"complexity\":1.0,\"blocking factor\":0,\"delay factor\":1.0},\"nameSub\":\"Liberal Studies 6\",\"id\":2066864807,\"credits\":3,\"nameCanonical\":\"\"}],\"id\":8}],\"institution\":\"\"}},\"*\"); window.removeEventListener(\"message\",window.messageReceived); window.messageReceived=(function (event){return (event.data.curriculum!==undefined) ? (WebIO.setval({\"name\":\"curriculum-data\",\"scope\":\"278282296172446873\",\"id\":\"ob_03\",\"type\":\"observable\"},event.data.curriculum)) : undefined}); return window.addEventListener(\"message\",window.messageReceived)})"
          },
          "id": "curriculum",
          "src": "http://localhost:8156",
          "style": {
           "border": "none",
           "height": "90vh",
           "margin": "0",
           "padding": "0",
           "width": "100%"
          }
         },
         "type": "node"
        }
       ],
       "instanceArgs": {
        "handlers": {},
        "id": "278282296172446873",
        "imports": {
         "data": [],
         "type": "async_block"
        },
        "mount_callbacks": [],
        "observables": {
         "curriculum-data": {
          "id": "ob_03",
          "sync": true,
          "value": {
           "curriculum": {
            "curriculum_terms": [
             {
              "curriculum_items": [
               {
                "credits": 3,
                "curriculum_requisites": [],
                "id": 3732084628,
                "metrics": {
                 "blocking factor": 0,
                 "centrality": 0,
                 "complexity": 1,
                 "delay factor": 1
                },
                "name": "CHEM  2090",
                "nameCanonical": "",
                "nameSub": "Engineering Gen. Chemistry"
               },
               {
                "credits": 3,
                "curriculum_requisites": [],
                "id": 4274504294,
                "metrics": {
                 "blocking factor": 10,
                 "centrality": 0,
                 "complexity": 15,
                 "delay factor": 5
                },
                "name": "MATH 1910",
                "nameCanonical": "",
                "nameSub": "Calculus for Engineers"
               },
               {
                "credits": 3,
                "curriculum_requisites": [],
                "id": 3683554939,
                "metrics": {
                 "blocking factor": 0,
                 "centrality": 0,
                 "complexity": 1,
                 "delay factor": 1
                },
                "name": "ENGRI 1xxx",
                "nameCanonical": "",
                "nameSub": "Engineering Distribution 1"
               },
               {
                "credits": 3,
                "curriculum_requisites": [],
                "id": 239686930,
                "metrics": {
                 "blocking factor": 0,
                 "centrality": 0,
                 "complexity": 1,
                 "delay factor": 1
                },
                "name": " ",
                "nameCanonical": "",
                "nameSub": "1st Yr Writing Seminar 1"
               },
               {
                "credits": 3,
                "curriculum_requisites": [],
                "id": 1523633189,
                "metrics": {
                 "blocking factor": 0,
                 "centrality": 0,
                 "complexity": 1,
                 "delay factor": 1
                },
                "name": " ",
                "nameCanonical": "",
                "nameSub": "PE 1"
               }
              ],
              "id": 1,
              "name": "Term 1"
             },
             {
              "curriculum_items": [
               {
                "credits": 3,
                "curriculum_requisites": [
                 {
                  "source_id": 4274504294,
                  "target_id": 177051436,
                  "type": "prereq"
                 }
                ],
                "id": 177051436,
                "metrics": {
                 "blocking factor": 4,
                 "centrality": 9,
                 "complexity": 9,
                 "delay factor": 5
                },
                "name": "PHYS 1112",
                "nameCanonical": "",
                "nameSub": "Physics I: Mechanics & Heat"
               },
               {
                "credits": 3,
                "curriculum_requisites": [
                 {
                  "source_id": 4274504294,
                  "target_id": 2644941087,
                  "type": "prereq"
                 }
                ],
                "id": 2644941087,
                "metrics": {
                 "blocking factor": 8,
                 "centrality": 28,
                 "complexity": 12,
                 "delay factor": 4
                },
                "name": "MATH 1920",
                "nameCanonical": "",
                "nameSub": "Multivariable Calc. for Engineers"
               },
               {
                "credits": 3,
                "curriculum_requisites": [],
                "id": 4226399557,
                "metrics": {
                 "blocking factor": 3,
                 "centrality": 0,
                 "complexity": 6,
                 "delay factor": 3
                },
                "name": "CS 111x",
                "nameCanonical": "",
                "nameSub": "Intro. to Computing"
               },
               {
                "credits": 3,
                "curriculum_requisites": [],
                "id": 4073672988,
                "metrics": {
                 "blocking factor": 0,
                 "centrality": 0,
                 "complexity": 1,
                 "delay factor": 1
                },
                "name": " ",
                "nameCanonical": "",
                "nameSub": "1st Yr Writing Seminar 2"
               },
               {
                "credits": 3,
                "curriculum_requisites": [],
                "id": 335346848,
                "metrics": {
                 "blocking factor": 0,
                 "centrality": 0,
                 "complexity": 1,
                 "delay factor": 1
                },
                "name": " ",
                "nameCanonical": "",
                "nameSub": "PE 2"
               }
              ],
              "id": 2,
              "name": "Term 2"
             },
             {
              "curriculum_items": [
               {
                "credits": 3,
                "curriculum_requisites": [
                 {
                  "source_id": 177051436,
                  "target_id": 670953379,
                  "type": "prereq"
                 },
                 {
                  "source_id": 2644941087,
                  "target_id": 670953379,
                  "type": "prereq"
                 }
                ],
                "id": 670953379,
                "metrics": {
                 "blocking factor": 3,
                 "centrality": 18,
                 "complexity": 8,
                 "delay factor": 5
                },
                "name": "PHYS 2213",
                "nameCanonical": "",
                "nameSub": "Physics II: Electromagnetism"
               },
               {
                "credits": 3,
                "curriculum_requisites": [
                 {
                  "source_id": 2644941087,
                  "target_id": 1926321183,
                  "type": "prereq"
                 }
                ],
                "id": 1926321183,
                "metrics": {
                 "blocking factor": 4,
                 "centrality": 14,
                 "complexity": 8,
                 "delay factor": 4
                },
                "name": "MATH 2930",
                "nameCanonical": "",
                "nameSub": "Diff. Eqs. for Engineers"
               },
               {
                "credits": 3,
                "curriculum_requisites": [
                 {
                  "source_id": 1926321183,
                  "target_id": 3693590979,
                  "type": "coreq"
                 },
                 {
                  "source_id": 670953379,
                  "target_id": 3693590979,
                  "type": "coreq"
                 }
                ],
                "id": 3693590979,
                "metrics": {
                 "blocking factor": 1,
                 "centrality": 15,
                 "complexity": 6,
                 "delay factor": 5
                },
                "name": "ECE/ENGRD 2100",
                "nameCanonical": "",
                "nameSub": "Intro. to Circuits"
               },
               {
                "credits": 3,
                "curriculum_requisites": [
                 {
                  "source_id": 4226399557,
                  "target_id": 986524819,
                  "type": "prereq"
                 }
                ],
                "id": 986524819,
                "metrics": {
                 "blocking factor": 1,
                 "centrality": 3,
                 "complexity": 4,
                 "delay factor": 3
                },
                "name": "ECE/ENGRD 2300",
                "nameCanonical": "",
                "nameSub": "Digital Logic & Computer Org."
               },
               {
                "credits": 3,
                "curriculum_requisites": [],
                "id": 1558052753,
                "metrics": {
                 "blocking factor": 0,
                 "centrality": 0,
                 "complexity": 1,
                 "delay factor": 1
                },
                "name": " ",
                "nameCanonical": "",
                "nameSub": "Liberal Studies 1"
               }
              ],
              "id": 3,
              "name": "Term 3"
             },
             {
              "curriculum_items": [
               {
                "credits": 3,
                "curriculum_requisites": [
                 {
                  "source_id": 1926321183,
                  "target_id": 3377751592,
                  "type": "coreq"
                 }
                ],
                "id": 3377751592,
                "metrics": {
                 "blocking factor": 0,
                 "centrality": 0,
                 "complexity": 4,
                 "delay factor": 4
                },
                "name": "PHYS 2214",
                "nameCanonical": "",
                "nameSub": "Physics III: Oscillations, Waves, and Quantum Physics"
               },
               {
                "credits": 3,
                "curriculum_requisites": [
                 {
                  "source_id": 2644941087,
                  "target_id": 1135328629,
                  "type": "prereq"
                 }
                ],
                "id": 1135328629,
                "metrics": {
                 "blocking factor": 2,
                 "centrality": 5,
                 "complexity": 6,
                 "delay factor": 4
                },
                "name": "MATH 2940",
                "nameCanonical": "",
                "nameSub": "Linear Algebra for Engineers"
               },
               {
                "credits": 3,
                "curriculum_requisites": [
                 {
                  "source_id": 670953379,
                  "target_id": 1098106156,
                  "type": "prereq"
                 }
                ],
                "id": 1098106156,
                "metrics": {
                 "blocking factor": 0,
                 "centrality": 0,
                 "complexity": 4,
                 "delay factor": 4
                },
                "name": "ENGRD 2xxx",
                "nameCanonical": "",
                "nameSub": "Engineering Distribution 2"
               },
               {
                "credits": 3,
                "curriculum_requisites": [
                 {
                  "source_id": 1926321183,
                  "target_id": 2066269668,
                  "type": "prereq"
                 },
                 {
                  "source_id": 1135328629,
                  "target_id": 2066269668,
                  "type": "coreq"
                 }
                ],
                "id": 2066269668,
                "metrics": {
                 "blocking factor": 1,
                 "centrality": 10,
                 "complexity": 5,
                 "delay factor": 4
                },
                "name": "ECE/ENGRD 2200/2220",
                "nameCanonical": "",
                "nameSub": "Signals and Information"
               },
               {
                "credits": 3,
                "curriculum_requisites": [],
                "id": 2054345146,
                "metrics": {
                 "blocking factor": 0,
                 "centrality": 0,
                 "complexity": 1,
                 "delay factor": 1
                },
                "name": " ",
                "nameCanonical": "",
                "nameSub": "Liberal Studies 2"
               }
              ],
              "id": 4,
              "name": "Term 4"
             },
             {
              "curriculum_items": [
               {
                "credits": 3,
                "curriculum_requisites": [],
                "id": 743914989,
                "metrics": {
                 "blocking factor": 0,
                 "centrality": 0,
                 "complexity": 1,
                 "delay factor": 1
                },
                "name": " ",
                "nameCanonical": "",
                "nameSub": "ECE Foundations 1"
               },
               {
                "credits": 3,
                "curriculum_requisites": [],
                "id": 2064696548,
                "metrics": {
                 "blocking factor": 0,
                 "centrality": 0,
                 "complexity": 1,
                 "delay factor": 1
                },
                "name": " ",
                "nameCanonical": "",
                "nameSub": "Elective 1"
               },
               {
                "credits": 3,
                "curriculum_requisites": [
                 {
                  "source_id": 4226399557,
                  "target_id": 329854095,
                  "type": "prereq"
                 }
                ],
                "id": 329854095,
                "metrics": {
                 "blocking factor": 0,
                 "centrality": 0,
                 "complexity": 2,
                 "delay factor": 2
                },
                "name": " ",
                "nameCanonical": "",
                "nameSub": "Outside Tech. Elective 1"
               },
               {
                "credits": 3,
                "curriculum_requisites": [
                 {
                  "source_id": 3693590979,
                  "target_id": 1413999863,
                  "type": "prereq"
                 },
                 {
                  "source_id": 986524819,
                  "target_id": 1413999863,
                  "type": "prereq"
                 },
                 {
                  "source_id": 2066269668,
                  "target_id": 1413999863,
                  "type": "prereq"
                 }
                ],
                "id": 1413999863,
                "metrics": {
                 "blocking factor": 0,
                 "centrality": 0,
                 "complexity": 5,
                 "delay factor": 5
                },
                "name": "ECE 3400",
                "nameCanonical": "",
                "nameSub": "Intelligent Physical Systems"
               },
               {
                "credits": 3,
                "curriculum_requisites": [],
                "id": 1637204683,
                "metrics": {
                 "blocking factor": 0,
                 "centrality": 0,
                 "complexity": 1,
                 "delay factor": 1
                },
                "name": " ",
                "nameCanonical": "",
                "nameSub": "Liberal Studies 3"
               }
              ],
              "id": 5,
              "name": "Term 5"
             },
             {
              "curriculum_items": [
               {
                "credits": 3,
                "curriculum_requisites": [],
                "id": 121333895,
                "metrics": {
                 "blocking factor": 0,
                 "centrality": 0,
                 "complexity": 1,
                 "delay factor": 1
                },
                "name": " ",
                "nameCanonical": "",
                "nameSub": "ECE Foundations 2"
               },
               {
                "credits": 3,
                "curriculum_requisites": [],
                "id": 1218469900,
                "metrics": {
                 "blocking factor": 0,
                 "centrality": 0,
                 "complexity": 1,
                 "delay factor": 1
                },
                "name": " ",
                "nameCanonical": "",
                "nameSub": "ECE Foundations 3"
               },
               {
                "credits": 3,
                "curriculum_requisites": [],
                "id": 329854096,
                "metrics": {
                 "blocking factor": 0,
                 "centrality": 0,
                 "complexity": 1,
                 "delay factor": 1
                },
                "name": " ",
                "nameCanonical": "",
                "nameSub": "Outside Tech. Elective 2"
               },
               {
                "credits": 3,
                "curriculum_requisites": [],
                "id": 266560209,
                "metrics": {
                 "blocking factor": 0,
                 "centrality": 0,
                 "complexity": 1,
                 "delay factor": 1
                },
                "name": " ",
                "nameCanonical": "",
                "nameSub": "Elective 2"
               },
               {
                "credits": 3,
                "curriculum_requisites": [],
                "id": 1720176282,
                "metrics": {
                 "blocking factor": 0,
                 "centrality": 0,
                 "complexity": 1,
                 "delay factor": 1
                },
                "name": " ",
                "nameCanonical": "",
                "nameSub": "Liberal Studies 4"
               }
              ],
              "id": 6,
              "name": "Term 6"
             },
             {
              "curriculum_items": [
               {
                "credits": 3,
                "curriculum_requisites": [],
                "id": 3224403962,
                "metrics": {
                 "blocking factor": 0,
                 "centrality": 0,
                 "complexity": 1,
                 "delay factor": 1
                },
                "name": " ",
                "nameCanonical": "",
                "nameSub": "ECE Elective (CDE)"
               },
               {
                "credits": 3,
                "curriculum_requisites": [],
                "id": 2051928090,
                "metrics": {
                 "blocking factor": 0,
                 "centrality": 0,
                 "complexity": 1,
                 "delay factor": 1
                },
                "name": " ",
                "nameCanonical": "",
                "nameSub": "ECE Elective 1"
               },
               {
                "credits": 3,
                "curriculum_requisites": [],
                "id": 329854097,
                "metrics": {
                 "blocking factor": 0,
                 "centrality": 0,
                 "complexity": 1,
                 "delay factor": 1
                },
                "name": " ",
                "nameCanonical": "",
                "nameSub": "Outside Tech. Elective 3"
               },
               {
                "credits": 3,
                "curriculum_requisites": [],
                "id": 3411438757,
                "metrics": {
                 "blocking factor": 0,
                 "centrality": 0,
                 "complexity": 1,
                 "delay factor": 1
                },
                "name": " ",
                "nameCanonical": "",
                "nameSub": "Liberal Studies 5"
               }
              ],
              "id": 7,
              "name": "Term 7"
             },
             {
              "curriculum_items": [
               {
                "credits": 3,
                "curriculum_requisites": [],
                "id": 672829327,
                "metrics": {
                 "blocking factor": 0,
                 "centrality": 0,
                 "complexity": 1,
                 "delay factor": 1
                },
                "name": " ",
                "nameCanonical": "",
                "nameSub": "ECE Elective 2"
               },
               {
                "credits": 3,
                "curriculum_requisites": [],
                "id": 562628024,
                "metrics": {
                 "blocking factor": 0,
                 "centrality": 0,
                 "complexity": 1,
                 "delay factor": 1
                },
                "name": " ",
                "nameCanonical": "",
                "nameSub": "ECE Elective 3"
               },
               {
                "credits": 3,
                "curriculum_requisites": [],
                "id": 3443198019,
                "metrics": {
                 "blocking factor": 0,
                 "centrality": 0,
                 "complexity": 1,
                 "delay factor": 1
                },
                "name": " ",
                "nameCanonical": "",
                "nameSub": "ECE Elective 4"
               },
               {
                "credits": 3,
                "curriculum_requisites": [],
                "id": 2066864807,
                "metrics": {
                 "blocking factor": 0,
                 "centrality": 0,
                 "complexity": 1,
                 "delay factor": 1
                },
                "name": " ",
                "nameCanonical": "",
                "nameSub": "Liberal Studies 6"
               }
              ],
              "id": 8,
              "name": "Term 8"
             }
            ],
            "dp_name": "Cornell University EE Program 4-year Plan",
            "institution": "",
            "name": "Cornell University EE Program"
           },
           "options": {
            "edit": false,
            "hideTerms": false
           }
          }
         }
        },
        "systemjs_options": null
       },
       "nodeType": "Scope",
       "props": {},
       "type": "node"
      },
      "text/html": [
       "<div\n",
       "    class=\"webio-mountpoint\"\n",
       "    data-webio-mountpoint=\"4401420389103008174\"\n",
       ">\n",
       "    <script>\n",
       "    if (window.require && require.defined && require.defined(\"nbextensions/webio/main\")) {\n",
       "        console.log(\"Jupyter WebIO extension detected, not mounting.\");\n",
       "    } else if (window.WebIO) {\n",
       "        WebIO.mount(\n",
       "            document.querySelector('[data-webio-mountpoint=\"4401420389103008174\"]'),\n",
       "            {\"props\":{},\"nodeType\":\"Scope\",\"type\":\"node\",\"instanceArgs\":{\"imports\":{\"data\":[],\"type\":\"async_block\"},\"id\":\"278282296172446873\",\"handlers\":{},\"systemjs_options\":null,\"mount_callbacks\":[],\"observables\":{\"curriculum-data\":{\"sync\":true,\"id\":\"ob_03\",\"value\":{\"options\":{\"hideTerms\":false,\"edit\":false},\"curriculum\":{\"name\":\"Cornell University EE Program\",\"dp_name\":\"Cornell University EE Program 4-year Plan\",\"curriculum_terms\":[{\"name\":\"Term 1\",\"curriculum_items\":[{\"curriculum_requisites\":[],\"name\":\"CHEM  2090\",\"metrics\":{\"centrality\":0,\"complexity\":1.0,\"blocking factor\":0,\"delay factor\":1.0},\"nameSub\":\"Engineering Gen. Chemistry\",\"id\":3732084628,\"credits\":3,\"nameCanonical\":\"\"},{\"curriculum_requisites\":[],\"name\":\"MATH 1910\",\"metrics\":{\"centrality\":0,\"complexity\":15.0,\"blocking factor\":10,\"delay factor\":5.0},\"nameSub\":\"Calculus for Engineers\",\"id\":4274504294,\"credits\":3,\"nameCanonical\":\"\"},{\"curriculum_requisites\":[],\"name\":\"ENGRI 1xxx\",\"metrics\":{\"centrality\":0,\"complexity\":1.0,\"blocking factor\":0,\"delay factor\":1.0},\"nameSub\":\"Engineering Distribution 1\",\"id\":3683554939,\"credits\":3,\"nameCanonical\":\"\"},{\"curriculum_requisites\":[],\"name\":\" \",\"metrics\":{\"centrality\":0,\"complexity\":1.0,\"blocking factor\":0,\"delay factor\":1.0},\"nameSub\":\"1st Yr Writing Seminar 1\",\"id\":239686930,\"credits\":3,\"nameCanonical\":\"\"},{\"curriculum_requisites\":[],\"name\":\" \",\"metrics\":{\"centrality\":0,\"complexity\":1.0,\"blocking factor\":0,\"delay factor\":1.0},\"nameSub\":\"PE 1\",\"id\":1523633189,\"credits\":3,\"nameCanonical\":\"\"}],\"id\":1},{\"name\":\"Term 2\",\"curriculum_items\":[{\"curriculum_requisites\":[{\"source_id\":4274504294,\"target_id\":177051436,\"type\":\"prereq\"}],\"name\":\"PHYS 1112\",\"metrics\":{\"centrality\":9,\"complexity\":9.0,\"blocking factor\":4,\"delay factor\":5.0},\"nameSub\":\"Physics I: Mechanics & Heat\",\"id\":177051436,\"credits\":3,\"nameCanonical\":\"\"},{\"curriculum_requisites\":[{\"source_id\":4274504294,\"target_id\":2644941087,\"type\":\"prereq\"}],\"name\":\"MATH 1920\",\"metrics\":{\"centrality\":28,\"complexity\":12.0,\"blocking factor\":8,\"delay factor\":4.0},\"nameSub\":\"Multivariable Calc. for Engineers\",\"id\":2644941087,\"credits\":3,\"nameCanonical\":\"\"},{\"curriculum_requisites\":[],\"name\":\"CS 111x\",\"metrics\":{\"centrality\":0,\"complexity\":6.0,\"blocking factor\":3,\"delay factor\":3.0},\"nameSub\":\"Intro. to Computing\",\"id\":4226399557,\"credits\":3,\"nameCanonical\":\"\"},{\"curriculum_requisites\":[],\"name\":\" \",\"metrics\":{\"centrality\":0,\"complexity\":1.0,\"blocking factor\":0,\"delay factor\":1.0},\"nameSub\":\"1st Yr Writing Seminar 2\",\"id\":4073672988,\"credits\":3,\"nameCanonical\":\"\"},{\"curriculum_requisites\":[],\"name\":\" \",\"metrics\":{\"centrality\":0,\"complexity\":1.0,\"blocking factor\":0,\"delay factor\":1.0},\"nameSub\":\"PE 2\",\"id\":335346848,\"credits\":3,\"nameCanonical\":\"\"}],\"id\":2},{\"name\":\"Term 3\",\"curriculum_items\":[{\"curriculum_requisites\":[{\"source_id\":177051436,\"target_id\":670953379,\"type\":\"prereq\"},{\"source_id\":2644941087,\"target_id\":670953379,\"type\":\"prereq\"}],\"name\":\"PHYS 2213\",\"metrics\":{\"centrality\":18,\"complexity\":8.0,\"blocking factor\":3,\"delay factor\":5.0},\"nameSub\":\"Physics II: Electromagnetism\",\"id\":670953379,\"credits\":3,\"nameCanonical\":\"\"},{\"curriculum_requisites\":[{\"source_id\":2644941087,\"target_id\":1926321183,\"type\":\"prereq\"}],\"name\":\"MATH 2930\",\"metrics\":{\"centrality\":14,\"complexity\":8.0,\"blocking factor\":4,\"delay factor\":4.0},\"nameSub\":\"Diff. Eqs. for Engineers\",\"id\":1926321183,\"credits\":3,\"nameCanonical\":\"\"},{\"curriculum_requisites\":[{\"source_id\":1926321183,\"target_id\":3693590979,\"type\":\"coreq\"},{\"source_id\":670953379,\"target_id\":3693590979,\"type\":\"coreq\"}],\"name\":\"ECE\\/ENGRD 2100\",\"metrics\":{\"centrality\":15,\"complexity\":6.0,\"blocking factor\":1,\"delay factor\":5.0},\"nameSub\":\"Intro. to Circuits\",\"id\":3693590979,\"credits\":3,\"nameCanonical\":\"\"},{\"curriculum_requisites\":[{\"source_id\":4226399557,\"target_id\":986524819,\"type\":\"prereq\"}],\"name\":\"ECE\\/ENGRD 2300\",\"metrics\":{\"centrality\":3,\"complexity\":4.0,\"blocking factor\":1,\"delay factor\":3.0},\"nameSub\":\"Digital Logic & Computer Org.\",\"id\":986524819,\"credits\":3,\"nameCanonical\":\"\"},{\"curriculum_requisites\":[],\"name\":\" \",\"metrics\":{\"centrality\":0,\"complexity\":1.0,\"blocking factor\":0,\"delay factor\":1.0},\"nameSub\":\"Liberal Studies 1\",\"id\":1558052753,\"credits\":3,\"nameCanonical\":\"\"}],\"id\":3},{\"name\":\"Term 4\",\"curriculum_items\":[{\"curriculum_requisites\":[{\"source_id\":1926321183,\"target_id\":3377751592,\"type\":\"coreq\"}],\"name\":\"PHYS 2214\",\"metrics\":{\"centrality\":0,\"complexity\":4.0,\"blocking factor\":0,\"delay factor\":4.0},\"nameSub\":\"Physics III: Oscillations, Waves, and Quantum Physics\",\"id\":3377751592,\"credits\":3,\"nameCanonical\":\"\"},{\"curriculum_requisites\":[{\"source_id\":2644941087,\"target_id\":1135328629,\"type\":\"prereq\"}],\"name\":\"MATH 2940\",\"metrics\":{\"centrality\":5,\"complexity\":6.0,\"blocking factor\":2,\"delay factor\":4.0},\"nameSub\":\"Linear Algebra for Engineers\",\"id\":1135328629,\"credits\":3,\"nameCanonical\":\"\"},{\"curriculum_requisites\":[{\"source_id\":670953379,\"target_id\":1098106156,\"type\":\"prereq\"}],\"name\":\"ENGRD 2xxx\",\"metrics\":{\"centrality\":0,\"complexity\":4.0,\"blocking factor\":0,\"delay factor\":4.0},\"nameSub\":\"Engineering Distribution 2\",\"id\":1098106156,\"credits\":3,\"nameCanonical\":\"\"},{\"curriculum_requisites\":[{\"source_id\":1926321183,\"target_id\":2066269668,\"type\":\"prereq\"},{\"source_id\":1135328629,\"target_id\":2066269668,\"type\":\"coreq\"}],\"name\":\"ECE\\/ENGRD 2200\\/2220\",\"metrics\":{\"centrality\":10,\"complexity\":5.0,\"blocking factor\":1,\"delay factor\":4.0},\"nameSub\":\"Signals and Information\",\"id\":2066269668,\"credits\":3,\"nameCanonical\":\"\"},{\"curriculum_requisites\":[],\"name\":\" \",\"metrics\":{\"centrality\":0,\"complexity\":1.0,\"blocking factor\":0,\"delay factor\":1.0},\"nameSub\":\"Liberal Studies 2\",\"id\":2054345146,\"credits\":3,\"nameCanonical\":\"\"}],\"id\":4},{\"name\":\"Term 5\",\"curriculum_items\":[{\"curriculum_requisites\":[],\"name\":\" \",\"metrics\":{\"centrality\":0,\"complexity\":1.0,\"blocking factor\":0,\"delay factor\":1.0},\"nameSub\":\"ECE Foundations 1\",\"id\":743914989,\"credits\":3,\"nameCanonical\":\"\"},{\"curriculum_requisites\":[],\"name\":\" \",\"metrics\":{\"centrality\":0,\"complexity\":1.0,\"blocking factor\":0,\"delay factor\":1.0},\"nameSub\":\"Elective 1\",\"id\":2064696548,\"credits\":3,\"nameCanonical\":\"\"},{\"curriculum_requisites\":[{\"source_id\":4226399557,\"target_id\":329854095,\"type\":\"prereq\"}],\"name\":\" \",\"metrics\":{\"centrality\":0,\"complexity\":2.0,\"blocking factor\":0,\"delay factor\":2.0},\"nameSub\":\"Outside Tech. Elective 1\",\"id\":329854095,\"credits\":3,\"nameCanonical\":\"\"},{\"curriculum_requisites\":[{\"source_id\":3693590979,\"target_id\":1413999863,\"type\":\"prereq\"},{\"source_id\":986524819,\"target_id\":1413999863,\"type\":\"prereq\"},{\"source_id\":2066269668,\"target_id\":1413999863,\"type\":\"prereq\"}],\"name\":\"ECE 3400\",\"metrics\":{\"centrality\":0,\"complexity\":5.0,\"blocking factor\":0,\"delay factor\":5.0},\"nameSub\":\"Intelligent Physical Systems\",\"id\":1413999863,\"credits\":3,\"nameCanonical\":\"\"},{\"curriculum_requisites\":[],\"name\":\" \",\"metrics\":{\"centrality\":0,\"complexity\":1.0,\"blocking factor\":0,\"delay factor\":1.0},\"nameSub\":\"Liberal Studies 3\",\"id\":1637204683,\"credits\":3,\"nameCanonical\":\"\"}],\"id\":5},{\"name\":\"Term 6\",\"curriculum_items\":[{\"curriculum_requisites\":[],\"name\":\" \",\"metrics\":{\"centrality\":0,\"complexity\":1.0,\"blocking factor\":0,\"delay factor\":1.0},\"nameSub\":\"ECE Foundations 2\",\"id\":121333895,\"credits\":3,\"nameCanonical\":\"\"},{\"curriculum_requisites\":[],\"name\":\" \",\"metrics\":{\"centrality\":0,\"complexity\":1.0,\"blocking factor\":0,\"delay factor\":1.0},\"nameSub\":\"ECE Foundations 3\",\"id\":1218469900,\"credits\":3,\"nameCanonical\":\"\"},{\"curriculum_requisites\":[],\"name\":\" \",\"metrics\":{\"centrality\":0,\"complexity\":1.0,\"blocking factor\":0,\"delay factor\":1.0},\"nameSub\":\"Outside Tech. Elective 2\",\"id\":329854096,\"credits\":3,\"nameCanonical\":\"\"},{\"curriculum_requisites\":[],\"name\":\" \",\"metrics\":{\"centrality\":0,\"complexity\":1.0,\"blocking factor\":0,\"delay factor\":1.0},\"nameSub\":\"Elective 2\",\"id\":266560209,\"credits\":3,\"nameCanonical\":\"\"},{\"curriculum_requisites\":[],\"name\":\" \",\"metrics\":{\"centrality\":0,\"complexity\":1.0,\"blocking factor\":0,\"delay factor\":1.0},\"nameSub\":\"Liberal Studies 4\",\"id\":1720176282,\"credits\":3,\"nameCanonical\":\"\"}],\"id\":6},{\"name\":\"Term 7\",\"curriculum_items\":[{\"curriculum_requisites\":[],\"name\":\" \",\"metrics\":{\"centrality\":0,\"complexity\":1.0,\"blocking factor\":0,\"delay factor\":1.0},\"nameSub\":\"ECE Elective (CDE)\",\"id\":3224403962,\"credits\":3,\"nameCanonical\":\"\"},{\"curriculum_requisites\":[],\"name\":\" \",\"metrics\":{\"centrality\":0,\"complexity\":1.0,\"blocking factor\":0,\"delay factor\":1.0},\"nameSub\":\"ECE Elective 1\",\"id\":2051928090,\"credits\":3,\"nameCanonical\":\"\"},{\"curriculum_requisites\":[],\"name\":\" \",\"metrics\":{\"centrality\":0,\"complexity\":1.0,\"blocking factor\":0,\"delay factor\":1.0},\"nameSub\":\"Outside Tech. Elective 3\",\"id\":329854097,\"credits\":3,\"nameCanonical\":\"\"},{\"curriculum_requisites\":[],\"name\":\" \",\"metrics\":{\"centrality\":0,\"complexity\":1.0,\"blocking factor\":0,\"delay factor\":1.0},\"nameSub\":\"Liberal Studies 5\",\"id\":3411438757,\"credits\":3,\"nameCanonical\":\"\"}],\"id\":7},{\"name\":\"Term 8\",\"curriculum_items\":[{\"curriculum_requisites\":[],\"name\":\" \",\"metrics\":{\"centrality\":0,\"complexity\":1.0,\"blocking factor\":0,\"delay factor\":1.0},\"nameSub\":\"ECE Elective 2\",\"id\":672829327,\"credits\":3,\"nameCanonical\":\"\"},{\"curriculum_requisites\":[],\"name\":\" \",\"metrics\":{\"centrality\":0,\"complexity\":1.0,\"blocking factor\":0,\"delay factor\":1.0},\"nameSub\":\"ECE Elective 3\",\"id\":562628024,\"credits\":3,\"nameCanonical\":\"\"},{\"curriculum_requisites\":[],\"name\":\" \",\"metrics\":{\"centrality\":0,\"complexity\":1.0,\"blocking factor\":0,\"delay factor\":1.0},\"nameSub\":\"ECE Elective 4\",\"id\":3443198019,\"credits\":3,\"nameCanonical\":\"\"},{\"curriculum_requisites\":[],\"name\":\" \",\"metrics\":{\"centrality\":0,\"complexity\":1.0,\"blocking factor\":0,\"delay factor\":1.0},\"nameSub\":\"Liberal Studies 6\",\"id\":2066864807,\"credits\":3,\"nameCanonical\":\"\"}],\"id\":8}],\"institution\":\"\"}}}}},\"children\":[{\"props\":{\"src\":\"http:\\/\\/localhost:8156\",\"id\":\"curriculum\",\"events\":{\"load\":\"(function (){this.contentWindow.postMessage({\\\"options\\\":{\\\"hideTerms\\\":false,\\\"edit\\\":false},\\\"curriculum\\\":{\\\"name\\\":\\\"Cornell University EE Program\\\",\\\"dp_name\\\":\\\"Cornell University EE Program 4-year Plan\\\",\\\"curriculum_terms\\\":[{\\\"name\\\":\\\"Term 1\\\",\\\"curriculum_items\\\":[{\\\"curriculum_requisites\\\":[],\\\"name\\\":\\\"CHEM  2090\\\",\\\"metrics\\\":{\\\"centrality\\\":0,\\\"complexity\\\":1.0,\\\"blocking factor\\\":0,\\\"delay factor\\\":1.0},\\\"nameSub\\\":\\\"Engineering Gen. Chemistry\\\",\\\"id\\\":3732084628,\\\"credits\\\":3,\\\"nameCanonical\\\":\\\"\\\"},{\\\"curriculum_requisites\\\":[],\\\"name\\\":\\\"MATH 1910\\\",\\\"metrics\\\":{\\\"centrality\\\":0,\\\"complexity\\\":15.0,\\\"blocking factor\\\":10,\\\"delay factor\\\":5.0},\\\"nameSub\\\":\\\"Calculus for Engineers\\\",\\\"id\\\":4274504294,\\\"credits\\\":3,\\\"nameCanonical\\\":\\\"\\\"},{\\\"curriculum_requisites\\\":[],\\\"name\\\":\\\"ENGRI 1xxx\\\",\\\"metrics\\\":{\\\"centrality\\\":0,\\\"complexity\\\":1.0,\\\"blocking factor\\\":0,\\\"delay factor\\\":1.0},\\\"nameSub\\\":\\\"Engineering Distribution 1\\\",\\\"id\\\":3683554939,\\\"credits\\\":3,\\\"nameCanonical\\\":\\\"\\\"},{\\\"curriculum_requisites\\\":[],\\\"name\\\":\\\" \\\",\\\"metrics\\\":{\\\"centrality\\\":0,\\\"complexity\\\":1.0,\\\"blocking factor\\\":0,\\\"delay factor\\\":1.0},\\\"nameSub\\\":\\\"1st Yr Writing Seminar 1\\\",\\\"id\\\":239686930,\\\"credits\\\":3,\\\"nameCanonical\\\":\\\"\\\"},{\\\"curriculum_requisites\\\":[],\\\"name\\\":\\\" \\\",\\\"metrics\\\":{\\\"centrality\\\":0,\\\"complexity\\\":1.0,\\\"blocking factor\\\":0,\\\"delay factor\\\":1.0},\\\"nameSub\\\":\\\"PE 1\\\",\\\"id\\\":1523633189,\\\"credits\\\":3,\\\"nameCanonical\\\":\\\"\\\"}],\\\"id\\\":1},{\\\"name\\\":\\\"Term 2\\\",\\\"curriculum_items\\\":[{\\\"curriculum_requisites\\\":[{\\\"source_id\\\":4274504294,\\\"target_id\\\":177051436,\\\"type\\\":\\\"prereq\\\"}],\\\"name\\\":\\\"PHYS 1112\\\",\\\"metrics\\\":{\\\"centrality\\\":9,\\\"complexity\\\":9.0,\\\"blocking factor\\\":4,\\\"delay factor\\\":5.0},\\\"nameSub\\\":\\\"Physics I: Mechanics & Heat\\\",\\\"id\\\":177051436,\\\"credits\\\":3,\\\"nameCanonical\\\":\\\"\\\"},{\\\"curriculum_requisites\\\":[{\\\"source_id\\\":4274504294,\\\"target_id\\\":2644941087,\\\"type\\\":\\\"prereq\\\"}],\\\"name\\\":\\\"MATH 1920\\\",\\\"metrics\\\":{\\\"centrality\\\":28,\\\"complexity\\\":12.0,\\\"blocking factor\\\":8,\\\"delay factor\\\":4.0},\\\"nameSub\\\":\\\"Multivariable Calc. for Engineers\\\",\\\"id\\\":2644941087,\\\"credits\\\":3,\\\"nameCanonical\\\":\\\"\\\"},{\\\"curriculum_requisites\\\":[],\\\"name\\\":\\\"CS 111x\\\",\\\"metrics\\\":{\\\"centrality\\\":0,\\\"complexity\\\":6.0,\\\"blocking factor\\\":3,\\\"delay factor\\\":3.0},\\\"nameSub\\\":\\\"Intro. to Computing\\\",\\\"id\\\":4226399557,\\\"credits\\\":3,\\\"nameCanonical\\\":\\\"\\\"},{\\\"curriculum_requisites\\\":[],\\\"name\\\":\\\" \\\",\\\"metrics\\\":{\\\"centrality\\\":0,\\\"complexity\\\":1.0,\\\"blocking factor\\\":0,\\\"delay factor\\\":1.0},\\\"nameSub\\\":\\\"1st Yr Writing Seminar 2\\\",\\\"id\\\":4073672988,\\\"credits\\\":3,\\\"nameCanonical\\\":\\\"\\\"},{\\\"curriculum_requisites\\\":[],\\\"name\\\":\\\" \\\",\\\"metrics\\\":{\\\"centrality\\\":0,\\\"complexity\\\":1.0,\\\"blocking factor\\\":0,\\\"delay factor\\\":1.0},\\\"nameSub\\\":\\\"PE 2\\\",\\\"id\\\":335346848,\\\"credits\\\":3,\\\"nameCanonical\\\":\\\"\\\"}],\\\"id\\\":2},{\\\"name\\\":\\\"Term 3\\\",\\\"curriculum_items\\\":[{\\\"curriculum_requisites\\\":[{\\\"source_id\\\":177051436,\\\"target_id\\\":670953379,\\\"type\\\":\\\"prereq\\\"},{\\\"source_id\\\":2644941087,\\\"target_id\\\":670953379,\\\"type\\\":\\\"prereq\\\"}],\\\"name\\\":\\\"PHYS 2213\\\",\\\"metrics\\\":{\\\"centrality\\\":18,\\\"complexity\\\":8.0,\\\"blocking factor\\\":3,\\\"delay factor\\\":5.0},\\\"nameSub\\\":\\\"Physics II: Electromagnetism\\\",\\\"id\\\":670953379,\\\"credits\\\":3,\\\"nameCanonical\\\":\\\"\\\"},{\\\"curriculum_requisites\\\":[{\\\"source_id\\\":2644941087,\\\"target_id\\\":1926321183,\\\"type\\\":\\\"prereq\\\"}],\\\"name\\\":\\\"MATH 2930\\\",\\\"metrics\\\":{\\\"centrality\\\":14,\\\"complexity\\\":8.0,\\\"blocking factor\\\":4,\\\"delay factor\\\":4.0},\\\"nameSub\\\":\\\"Diff. Eqs. for Engineers\\\",\\\"id\\\":1926321183,\\\"credits\\\":3,\\\"nameCanonical\\\":\\\"\\\"},{\\\"curriculum_requisites\\\":[{\\\"source_id\\\":1926321183,\\\"target_id\\\":3693590979,\\\"type\\\":\\\"coreq\\\"},{\\\"source_id\\\":670953379,\\\"target_id\\\":3693590979,\\\"type\\\":\\\"coreq\\\"}],\\\"name\\\":\\\"ECE\\/ENGRD 2100\\\",\\\"metrics\\\":{\\\"centrality\\\":15,\\\"complexity\\\":6.0,\\\"blocking factor\\\":1,\\\"delay factor\\\":5.0},\\\"nameSub\\\":\\\"Intro. to Circuits\\\",\\\"id\\\":3693590979,\\\"credits\\\":3,\\\"nameCanonical\\\":\\\"\\\"},{\\\"curriculum_requisites\\\":[{\\\"source_id\\\":4226399557,\\\"target_id\\\":986524819,\\\"type\\\":\\\"prereq\\\"}],\\\"name\\\":\\\"ECE\\/ENGRD 2300\\\",\\\"metrics\\\":{\\\"centrality\\\":3,\\\"complexity\\\":4.0,\\\"blocking factor\\\":1,\\\"delay factor\\\":3.0},\\\"nameSub\\\":\\\"Digital Logic & Computer Org.\\\",\\\"id\\\":986524819,\\\"credits\\\":3,\\\"nameCanonical\\\":\\\"\\\"},{\\\"curriculum_requisites\\\":[],\\\"name\\\":\\\" \\\",\\\"metrics\\\":{\\\"centrality\\\":0,\\\"complexity\\\":1.0,\\\"blocking factor\\\":0,\\\"delay factor\\\":1.0},\\\"nameSub\\\":\\\"Liberal Studies 1\\\",\\\"id\\\":1558052753,\\\"credits\\\":3,\\\"nameCanonical\\\":\\\"\\\"}],\\\"id\\\":3},{\\\"name\\\":\\\"Term 4\\\",\\\"curriculum_items\\\":[{\\\"curriculum_requisites\\\":[{\\\"source_id\\\":1926321183,\\\"target_id\\\":3377751592,\\\"type\\\":\\\"coreq\\\"}],\\\"name\\\":\\\"PHYS 2214\\\",\\\"metrics\\\":{\\\"centrality\\\":0,\\\"complexity\\\":4.0,\\\"blocking factor\\\":0,\\\"delay factor\\\":4.0},\\\"nameSub\\\":\\\"Physics III: Oscillations, Waves, and Quantum Physics\\\",\\\"id\\\":3377751592,\\\"credits\\\":3,\\\"nameCanonical\\\":\\\"\\\"},{\\\"curriculum_requisites\\\":[{\\\"source_id\\\":2644941087,\\\"target_id\\\":1135328629,\\\"type\\\":\\\"prereq\\\"}],\\\"name\\\":\\\"MATH 2940\\\",\\\"metrics\\\":{\\\"centrality\\\":5,\\\"complexity\\\":6.0,\\\"blocking factor\\\":2,\\\"delay factor\\\":4.0},\\\"nameSub\\\":\\\"Linear Algebra for Engineers\\\",\\\"id\\\":1135328629,\\\"credits\\\":3,\\\"nameCanonical\\\":\\\"\\\"},{\\\"curriculum_requisites\\\":[{\\\"source_id\\\":670953379,\\\"target_id\\\":1098106156,\\\"type\\\":\\\"prereq\\\"}],\\\"name\\\":\\\"ENGRD 2xxx\\\",\\\"metrics\\\":{\\\"centrality\\\":0,\\\"complexity\\\":4.0,\\\"blocking factor\\\":0,\\\"delay factor\\\":4.0},\\\"nameSub\\\":\\\"Engineering Distribution 2\\\",\\\"id\\\":1098106156,\\\"credits\\\":3,\\\"nameCanonical\\\":\\\"\\\"},{\\\"curriculum_requisites\\\":[{\\\"source_id\\\":1926321183,\\\"target_id\\\":2066269668,\\\"type\\\":\\\"prereq\\\"},{\\\"source_id\\\":1135328629,\\\"target_id\\\":2066269668,\\\"type\\\":\\\"coreq\\\"}],\\\"name\\\":\\\"ECE\\/ENGRD 2200\\/2220\\\",\\\"metrics\\\":{\\\"centrality\\\":10,\\\"complexity\\\":5.0,\\\"blocking factor\\\":1,\\\"delay factor\\\":4.0},\\\"nameSub\\\":\\\"Signals and Information\\\",\\\"id\\\":2066269668,\\\"credits\\\":3,\\\"nameCanonical\\\":\\\"\\\"},{\\\"curriculum_requisites\\\":[],\\\"name\\\":\\\" \\\",\\\"metrics\\\":{\\\"centrality\\\":0,\\\"complexity\\\":1.0,\\\"blocking factor\\\":0,\\\"delay factor\\\":1.0},\\\"nameSub\\\":\\\"Liberal Studies 2\\\",\\\"id\\\":2054345146,\\\"credits\\\":3,\\\"nameCanonical\\\":\\\"\\\"}],\\\"id\\\":4},{\\\"name\\\":\\\"Term 5\\\",\\\"curriculum_items\\\":[{\\\"curriculum_requisites\\\":[],\\\"name\\\":\\\" \\\",\\\"metrics\\\":{\\\"centrality\\\":0,\\\"complexity\\\":1.0,\\\"blocking factor\\\":0,\\\"delay factor\\\":1.0},\\\"nameSub\\\":\\\"ECE Foundations 1\\\",\\\"id\\\":743914989,\\\"credits\\\":3,\\\"nameCanonical\\\":\\\"\\\"},{\\\"curriculum_requisites\\\":[],\\\"name\\\":\\\" \\\",\\\"metrics\\\":{\\\"centrality\\\":0,\\\"complexity\\\":1.0,\\\"blocking factor\\\":0,\\\"delay factor\\\":1.0},\\\"nameSub\\\":\\\"Elective 1\\\",\\\"id\\\":2064696548,\\\"credits\\\":3,\\\"nameCanonical\\\":\\\"\\\"},{\\\"curriculum_requisites\\\":[{\\\"source_id\\\":4226399557,\\\"target_id\\\":329854095,\\\"type\\\":\\\"prereq\\\"}],\\\"name\\\":\\\" \\\",\\\"metrics\\\":{\\\"centrality\\\":0,\\\"complexity\\\":2.0,\\\"blocking factor\\\":0,\\\"delay factor\\\":2.0},\\\"nameSub\\\":\\\"Outside Tech. Elective 1\\\",\\\"id\\\":329854095,\\\"credits\\\":3,\\\"nameCanonical\\\":\\\"\\\"},{\\\"curriculum_requisites\\\":[{\\\"source_id\\\":3693590979,\\\"target_id\\\":1413999863,\\\"type\\\":\\\"prereq\\\"},{\\\"source_id\\\":986524819,\\\"target_id\\\":1413999863,\\\"type\\\":\\\"prereq\\\"},{\\\"source_id\\\":2066269668,\\\"target_id\\\":1413999863,\\\"type\\\":\\\"prereq\\\"}],\\\"name\\\":\\\"ECE 3400\\\",\\\"metrics\\\":{\\\"centrality\\\":0,\\\"complexity\\\":5.0,\\\"blocking factor\\\":0,\\\"delay factor\\\":5.0},\\\"nameSub\\\":\\\"Intelligent Physical Systems\\\",\\\"id\\\":1413999863,\\\"credits\\\":3,\\\"nameCanonical\\\":\\\"\\\"},{\\\"curriculum_requisites\\\":[],\\\"name\\\":\\\" \\\",\\\"metrics\\\":{\\\"centrality\\\":0,\\\"complexity\\\":1.0,\\\"blocking factor\\\":0,\\\"delay factor\\\":1.0},\\\"nameSub\\\":\\\"Liberal Studies 3\\\",\\\"id\\\":1637204683,\\\"credits\\\":3,\\\"nameCanonical\\\":\\\"\\\"}],\\\"id\\\":5},{\\\"name\\\":\\\"Term 6\\\",\\\"curriculum_items\\\":[{\\\"curriculum_requisites\\\":[],\\\"name\\\":\\\" \\\",\\\"metrics\\\":{\\\"centrality\\\":0,\\\"complexity\\\":1.0,\\\"blocking factor\\\":0,\\\"delay factor\\\":1.0},\\\"nameSub\\\":\\\"ECE Foundations 2\\\",\\\"id\\\":121333895,\\\"credits\\\":3,\\\"nameCanonical\\\":\\\"\\\"},{\\\"curriculum_requisites\\\":[],\\\"name\\\":\\\" \\\",\\\"metrics\\\":{\\\"centrality\\\":0,\\\"complexity\\\":1.0,\\\"blocking factor\\\":0,\\\"delay factor\\\":1.0},\\\"nameSub\\\":\\\"ECE Foundations 3\\\",\\\"id\\\":1218469900,\\\"credits\\\":3,\\\"nameCanonical\\\":\\\"\\\"},{\\\"curriculum_requisites\\\":[],\\\"name\\\":\\\" \\\",\\\"metrics\\\":{\\\"centrality\\\":0,\\\"complexity\\\":1.0,\\\"blocking factor\\\":0,\\\"delay factor\\\":1.0},\\\"nameSub\\\":\\\"Outside Tech. Elective 2\\\",\\\"id\\\":329854096,\\\"credits\\\":3,\\\"nameCanonical\\\":\\\"\\\"},{\\\"curriculum_requisites\\\":[],\\\"name\\\":\\\" \\\",\\\"metrics\\\":{\\\"centrality\\\":0,\\\"complexity\\\":1.0,\\\"blocking factor\\\":0,\\\"delay factor\\\":1.0},\\\"nameSub\\\":\\\"Elective 2\\\",\\\"id\\\":266560209,\\\"credits\\\":3,\\\"nameCanonical\\\":\\\"\\\"},{\\\"curriculum_requisites\\\":[],\\\"name\\\":\\\" \\\",\\\"metrics\\\":{\\\"centrality\\\":0,\\\"complexity\\\":1.0,\\\"blocking factor\\\":0,\\\"delay factor\\\":1.0},\\\"nameSub\\\":\\\"Liberal Studies 4\\\",\\\"id\\\":1720176282,\\\"credits\\\":3,\\\"nameCanonical\\\":\\\"\\\"}],\\\"id\\\":6},{\\\"name\\\":\\\"Term 7\\\",\\\"curriculum_items\\\":[{\\\"curriculum_requisites\\\":[],\\\"name\\\":\\\" \\\",\\\"metrics\\\":{\\\"centrality\\\":0,\\\"complexity\\\":1.0,\\\"blocking factor\\\":0,\\\"delay factor\\\":1.0},\\\"nameSub\\\":\\\"ECE Elective (CDE)\\\",\\\"id\\\":3224403962,\\\"credits\\\":3,\\\"nameCanonical\\\":\\\"\\\"},{\\\"curriculum_requisites\\\":[],\\\"name\\\":\\\" \\\",\\\"metrics\\\":{\\\"centrality\\\":0,\\\"complexity\\\":1.0,\\\"blocking factor\\\":0,\\\"delay factor\\\":1.0},\\\"nameSub\\\":\\\"ECE Elective 1\\\",\\\"id\\\":2051928090,\\\"credits\\\":3,\\\"nameCanonical\\\":\\\"\\\"},{\\\"curriculum_requisites\\\":[],\\\"name\\\":\\\" \\\",\\\"metrics\\\":{\\\"centrality\\\":0,\\\"complexity\\\":1.0,\\\"blocking factor\\\":0,\\\"delay factor\\\":1.0},\\\"nameSub\\\":\\\"Outside Tech. Elective 3\\\",\\\"id\\\":329854097,\\\"credits\\\":3,\\\"nameCanonical\\\":\\\"\\\"},{\\\"curriculum_requisites\\\":[],\\\"name\\\":\\\" \\\",\\\"metrics\\\":{\\\"centrality\\\":0,\\\"complexity\\\":1.0,\\\"blocking factor\\\":0,\\\"delay factor\\\":1.0},\\\"nameSub\\\":\\\"Liberal Studies 5\\\",\\\"id\\\":3411438757,\\\"credits\\\":3,\\\"nameCanonical\\\":\\\"\\\"}],\\\"id\\\":7},{\\\"name\\\":\\\"Term 8\\\",\\\"curriculum_items\\\":[{\\\"curriculum_requisites\\\":[],\\\"name\\\":\\\" \\\",\\\"metrics\\\":{\\\"centrality\\\":0,\\\"complexity\\\":1.0,\\\"blocking factor\\\":0,\\\"delay factor\\\":1.0},\\\"nameSub\\\":\\\"ECE Elective 2\\\",\\\"id\\\":672829327,\\\"credits\\\":3,\\\"nameCanonical\\\":\\\"\\\"},{\\\"curriculum_requisites\\\":[],\\\"name\\\":\\\" \\\",\\\"metrics\\\":{\\\"centrality\\\":0,\\\"complexity\\\":1.0,\\\"blocking factor\\\":0,\\\"delay factor\\\":1.0},\\\"nameSub\\\":\\\"ECE Elective 3\\\",\\\"id\\\":562628024,\\\"credits\\\":3,\\\"nameCanonical\\\":\\\"\\\"},{\\\"curriculum_requisites\\\":[],\\\"name\\\":\\\" \\\",\\\"metrics\\\":{\\\"centrality\\\":0,\\\"complexity\\\":1.0,\\\"blocking factor\\\":0,\\\"delay factor\\\":1.0},\\\"nameSub\\\":\\\"ECE Elective 4\\\",\\\"id\\\":3443198019,\\\"credits\\\":3,\\\"nameCanonical\\\":\\\"\\\"},{\\\"curriculum_requisites\\\":[],\\\"name\\\":\\\" \\\",\\\"metrics\\\":{\\\"centrality\\\":0,\\\"complexity\\\":1.0,\\\"blocking factor\\\":0,\\\"delay factor\\\":1.0},\\\"nameSub\\\":\\\"Liberal Studies 6\\\",\\\"id\\\":2066864807,\\\"credits\\\":3,\\\"nameCanonical\\\":\\\"\\\"}],\\\"id\\\":8}],\\\"institution\\\":\\\"\\\"}},\\\"*\\\"); window.removeEventListener(\\\"message\\\",window.messageReceived); window.messageReceived=(function (event){return (event.data.curriculum!==undefined) ? (WebIO.setval({\\\"name\\\":\\\"curriculum-data\\\",\\\"scope\\\":\\\"278282296172446873\\\",\\\"id\\\":\\\"ob_03\\\",\\\"type\\\":\\\"observable\\\"},event.data.curriculum)) : undefined}); return window.addEventListener(\\\"message\\\",window.messageReceived)})\"},\"style\":{\"padding\":\"0\",\"height\":\"90vh\",\"margin\":\"0\",\"border\":\"none\",\"width\":\"100%\"}},\"nodeType\":\"DOM\",\"type\":\"node\",\"instanceArgs\":{\"namespace\":\"html\",\"tag\":\"iframe\"},\"children\":[\"\"]}]},\n",
       "            window,\n",
       "        );\n",
       "    } else {\n",
       "        document\n",
       "            .querySelector('[data-webio-mountpoint=\"4401420389103008174\"]')\n",
       "            .innerHTML = '<strong>WebIO not detected.</strong>';\n",
       "    }\n",
       "    </script>\n",
       "</div>\n"
      ],
      "text/plain": [
       "WebIO.Scope(WebIO.Node{WebIO.DOM}(WebIO.DOM(:html, :iframe), Any[\"\"], Dict{Symbol,Any}(:src=>\"http://localhost:8156\",:id=>\"curriculum\",:events=>Dict(:load=>JSString(\"(function (){this.contentWindow.postMessage({\\\"options\\\":{\\\"hideTerms\\\":false,\\\"edit\\\":false},\\\"curriculum\\\":{\\\"name\\\":\\\"Cornell University EE Program\\\",\\\"dp_name\\\":\\\"Cornell University EE Program 4-year Plan\\\",\\\"curriculum_terms\\\":[{\\\"name\\\":\\\"Term 1\\\",\\\"curriculum_items\\\":[{\\\"curriculum_requisites\\\":[],\\\"name\\\":\\\"CHEM  2090\\\",\\\"metrics\\\":{\\\"centrality\\\":0,\\\"complexity\\\":1.0,\\\"blocking factor\\\":0,\\\"delay factor\\\":1.0},\\\"nameSub\\\":\\\"Engineering Gen. Chemistry\\\",\\\"id\\\":3732084628,\\\"credits\\\":3,\\\"nameCanonical\\\":\\\"\\\"},{\\\"curriculum_requisites\\\":[],\\\"name\\\":\\\"MATH 1910\\\",\\\"metrics\\\":{\\\"centrality\\\":0,\\\"complexity\\\":15.0,\\\"blocking factor\\\":10,\\\"delay factor\\\":5.0},\\\"nameSub\\\":\\\"Calculus for Engineers\\\",\\\"id\\\":4274504294,\\\"credits\\\":3,\\\"nameCanonical\\\":\\\"\\\"},{\\\"curriculum_requisites\\\":[],\\\"name\\\":\\\"ENGRI 1xxx\\\",\\\"metrics\\\":{\\\"centrality\\\":0,\\\"complexity\\\":1.0,\\\"blocking factor\\\":0,\\\"delay factor\\\":1.0},\\\"nameSub\\\":\\\"Engineering Distribution 1\\\",\\\"id\\\":3683554939,\\\"credits\\\":3,\\\"nameCanonical\\\":\\\"\\\"},{\\\"curriculum_requisites\\\":[],\\\"name\\\":\\\" \\\",\\\"metrics\\\":{\\\"centrality\\\":0,\\\"complexity\\\":1.0,\\\"blocking factor\\\":0,\\\"delay factor\\\":1.0},\\\"nameSub\\\":\\\"1st Yr Writing Seminar 1\\\",\\\"id\\\":239686930,\\\"credits\\\":3,\\\"nameCanonical\\\":\\\"\\\"},{\\\"curriculum_requisites\\\":[],\\\"name\\\":\\\" \\\",\\\"metrics\\\":{\\\"centrality\\\":0,\\\"complexity\\\":1.0,\\\"blocking factor\\\":0,\\\"delay factor\\\":1.0},\\\"nameSub\\\":\\\"PE 1\\\",\\\"id\\\":1523633189,\\\"credits\\\":3,\\\"nameCanonical\\\":\\\"\\\"}],\\\"id\\\":1},{\\\"name\\\":\\\"Term 2\\\",\\\"curriculum_items\\\":[{\\\"curriculum_requisites\\\":[{\\\"source_id\\\":4274504294,\\\"target_id\\\":177051436,\\\"type\\\":\\\"prereq\\\"}],\\\"name\\\":\\\"PHYS 1112\\\",\\\"metrics\\\":{\\\"centrality\\\":9,\\\"complexity\\\":9.0,\\\"blocking factor\\\":4,\\\"delay factor\\\":5.0},\\\"nameSub\\\":\\\"Physics I: Mechanics & Heat\\\",\\\"id\\\":177051436,\\\"credits\\\":3,\\\"nameCanonical\\\":\\\"\\\"},{\\\"curriculum_requisites\\\":[{\\\"source_id\\\":4274504294,\\\"target_id\\\":2644941087,\\\"type\\\":\\\"prereq\\\"}],\\\"name\\\":\\\"MATH 1920\\\",\\\"metrics\\\":{\\\"centrality\\\":28,\\\"complexity\\\":12.0,\\\"blocking factor\\\":8,\\\"delay factor\\\":4.0},\\\"nameSub\\\":\\\"Multivariable Calc. for Engineers\\\",\\\"id\\\":2644941087,\\\"credits\\\":3,\\\"nameCanonical\\\":\\\"\\\"},{\\\"curriculum_requisites\\\":[],\\\"name\\\":\\\"CS 111x\\\",\\\"metrics\\\":{\\\"centrality\\\":0,\\\"complexity\\\":6.0,\\\"blocking factor\\\":3,\\\"delay factor\\\":3.0},\\\"nameSub\\\":\\\"Intro. to Computing\\\",\\\"id\\\":4226399557,\\\"credits\\\":3,\\\"nameCanonical\\\":\\\"\\\"},{\\\"curriculum_requisites\\\":[],\\\"name\\\":\\\" \\\",\\\"metrics\\\":{\\\"centrality\\\":0,\\\"complexity\\\":1.0,\\\"blocking factor\\\":0,\\\"delay factor\\\":1.0},\\\"nameSub\\\":\\\"1st Yr Writing Seminar 2\\\",\\\"id\\\":4073672988,\\\"credits\\\":3,\\\"nameCanonical\\\":\\\"\\\"},{\\\"curriculum_requisites\\\":[],\\\"name\\\":\\\" \\\",\\\"metrics\\\":{\\\"centrality\\\":0,\\\"complexity\\\":1.0,\\\"blocking factor\\\":0,\\\"delay factor\\\":1.0},\\\"nameSub\\\":\\\"PE 2\\\",\\\"id\\\":335346848,\\\"credits\\\":3,\\\"nameCanonical\\\":\\\"\\\"}],\\\"id\\\":2},{\\\"name\\\":\\\"Term 3\\\",\\\"curriculum_items\\\":[{\\\"curriculum_requisites\\\":[{\\\"source_id\\\":177051436,\\\"target_id\\\":670953379,\\\"type\\\":\\\"prereq\\\"},{\\\"source_id\\\":2644941087,\\\"target_id\\\":670953379,\\\"type\\\":\\\"prereq\\\"}],\\\"name\\\":\\\"PHYS 2213\\\",\\\"metrics\\\":{\\\"centrality\\\":18,\\\"complexity\\\":8.0,\\\"blocking factor\\\":3,\\\"delay factor\\\":5.0},\\\"nameSub\\\":\\\"Physics II: Electromagnetism\\\",\\\"id\\\":670953379,\\\"credits\\\":3,\\\"nameCanonical\\\":\\\"\\\"},{\\\"curriculum_requisites\\\":[{\\\"source_id\\\":2644941087,\\\"target_id\\\":1926321183,\\\"type\\\":\\\"prereq\\\"}],\\\"name\\\":\\\"MATH 2930\\\",\\\"metrics\\\":{\\\"centrality\\\":14,\\\"complexity\\\":8.0,\\\"blocking factor\\\":4,\\\"delay factor\\\":4.0},\\\"nameSub\\\":\\\"Diff. Eqs. for Engineers\\\",\\\"id\\\":1926321183,\\\"credits\\\":3,\\\"nameCanonical\\\":\\\"\\\"},{\\\"curriculum_requisites\\\":[{\\\"source_id\\\":1926321183,\\\"target_id\\\":3693590979,\\\"type\\\":\\\"coreq\\\"},{\\\"source_id\\\":670953379,\\\"target_id\\\":3693590979,\\\"type\\\":\\\"coreq\\\"}],\\\"name\\\":\\\"ECE/ENGRD 2100\\\",\\\"metrics\\\":{\\\"centrality\\\":15,\\\"complexity\\\":6.0,\\\"blocking factor\\\":1,\\\"delay factor\\\":5.0},\\\"nameSub\\\":\\\"Intro. to Circuits\\\",\\\"id\\\":3693590979,\\\"credits\\\":3,\\\"nameCanonical\\\":\\\"\\\"},{\\\"curriculum_requisites\\\":[{\\\"source_id\\\":4226399557,\\\"target_id\\\":986524819,\\\"type\\\":\\\"prereq\\\"}],\\\"name\\\":\\\"ECE/ENGRD 2300\\\",\\\"metrics\\\":{\\\"centrality\\\":3,\\\"complexity\\\":4.0,\\\"blocking factor\\\":1,\\\"delay factor\\\":3.0},\\\"nameSub\\\":\\\"Digital Logic & Computer Org.\\\",\\\"id\\\":986524819,\\\"credits\\\":3,\\\"nameCanonical\\\":\\\"\\\"},{\\\"curriculum_requisites\\\":[],\\\"name\\\":\\\" \\\",\\\"metrics\\\":{\\\"centrality\\\":0,\\\"complexity\\\":1.0,\\\"blocking factor\\\":0,\\\"delay factor\\\":1.0},\\\"nameSub\\\":\\\"Liberal Studies 1\\\",\\\"id\\\":1558052753,\\\"credits\\\":3,\\\"nameCanonical\\\":\\\"\\\"}],\\\"id\\\":3},{\\\"name\\\":\\\"Term 4\\\",\\\"curriculum_items\\\":[{\\\"curriculum_requisites\\\":[{\\\"source_id\\\":1926321183,\\\"target_id\\\":3377751592,\\\"type\\\":\\\"coreq\\\"}],\\\"name\\\":\\\"PHYS 2214\\\",\\\"metrics\\\":{\\\"centrality\\\":0,\\\"complexity\\\":4.0,\\\"blocking factor\\\":0,\\\"delay factor\\\":4.0},\\\"nameSub\\\":\\\"Physics III: Oscillations, Waves, and Quantum Physics\\\",\\\"id\\\":3377751592,\\\"credits\\\":3,\\\"nameCanonical\\\":\\\"\\\"},{\\\"curriculum_requisites\\\":[{\\\"source_id\\\":2644941087,\\\"target_id\\\":1135328629,\\\"type\\\":\\\"prereq\\\"}],\\\"name\\\":\\\"MATH 2940\\\",\\\"metrics\\\":{\\\"centrality\\\":5,\\\"complexity\\\":6.0,\\\"blocking factor\\\":2,\\\"delay factor\\\":4.0},\\\"nameSub\\\":\\\"Linear Algebra for Engineers\\\",\\\"id\\\":1135328629,\\\"credits\\\":3,\\\"nameCanonical\\\":\\\"\\\"},{\\\"curriculum_requisites\\\":[{\\\"source_id\\\":670953379,\\\"target_id\\\":1098106156,\\\"type\\\":\\\"prereq\\\"}],\\\"name\\\":\\\"ENGRD 2xxx\\\",\\\"metrics\\\":{\\\"centrality\\\":0,\\\"complexity\\\":4.0,\\\"blocking factor\\\":0,\\\"delay factor\\\":4.0},\\\"nameSub\\\":\\\"Engineering Distribution 2\\\",\\\"id\\\":1098106156,\\\"credits\\\":3,\\\"nameCanonical\\\":\\\"\\\"},{\\\"curriculum_requisites\\\":[{\\\"source_id\\\":1926321183,\\\"target_id\\\":2066269668,\\\"type\\\":\\\"prereq\\\"},{\\\"source_id\\\":1135328629,\\\"target_id\\\":2066269668,\\\"type\\\":\\\"coreq\\\"}],\\\"name\\\":\\\"ECE/ENGRD 2200/2220\\\",\\\"metrics\\\":{\\\"centrality\\\":10,\\\"complexity\\\":5.0,\\\"blocking factor\\\":1,\\\"delay factor\\\":4.0},\\\"nameSub\\\":\\\"Signals and Information\\\",\\\"id\\\":2066269668,\\\"credits\\\":3,\\\"nameCanonical\\\":\\\"\\\"},{\\\"curriculum_requisites\\\":[],\\\"name\\\":\\\" \\\",\\\"metrics\\\":{\\\"centrality\\\":0,\\\"complexity\\\":1.0,\\\"blocking factor\\\":0,\\\"delay factor\\\":1.0},\\\"nameSub\\\":\\\"Liberal Studies 2\\\",\\\"id\\\":2054345146,\\\"credits\\\":3,\\\"nameCanonical\\\":\\\"\\\"}],\\\"id\\\":4},{\\\"name\\\":\\\"Term 5\\\",\\\"curriculum_items\\\":[{\\\"curriculum_requisites\\\":[],\\\"name\\\":\\\" \\\",\\\"metrics\\\":{\\\"centrality\\\":0,\\\"complexity\\\":1.0,\\\"blocking factor\\\":0,\\\"delay factor\\\":1.0},\\\"nameSub\\\":\\\"ECE Foundations 1\\\",\\\"id\\\":743914989,\\\"credits\\\":3,\\\"nameCanonical\\\":\\\"\\\"},{\\\"curriculum_requisites\\\":[],\\\"name\\\":\\\" \\\",\\\"metrics\\\":{\\\"centrality\\\":0,\\\"complexity\\\":1.0,\\\"blocking factor\\\":0,\\\"delay factor\\\":1.0},\\\"nameSub\\\":\\\"Elective 1\\\",\\\"id\\\":2064696548,\\\"credits\\\":3,\\\"nameCanonical\\\":\\\"\\\"},{\\\"curriculum_requisites\\\":[{\\\"source_id\\\":4226399557,\\\"target_id\\\":329854095,\\\"type\\\":\\\"prereq\\\"}],\\\"name\\\":\\\" \\\",\\\"metrics\\\":{\\\"centrality\\\":0,\\\"complexity\\\":2.0,\\\"blocking factor\\\":0,\\\"delay factor\\\":2.0},\\\"nameSub\\\":\\\"Outside Tech. Elective 1\\\",\\\"id\\\":329854095,\\\"credits\\\":3,\\\"nameCanonical\\\":\\\"\\\"},{\\\"curriculum_requisites\\\":[{\\\"source_id\\\":3693590979,\\\"target_id\\\":1413999863,\\\"type\\\":\\\"prereq\\\"},{\\\"source_id\\\":986524819,\\\"target_id\\\":1413999863,\\\"type\\\":\\\"prereq\\\"},{\\\"source_id\\\":2066269668,\\\"target_id\\\":1413999863,\\\"type\\\":\\\"prereq\\\"}],\\\"name\\\":\\\"ECE 3400\\\",\\\"metrics\\\":{\\\"centrality\\\":0,\\\"complexity\\\":5.0,\\\"blocking factor\\\":0,\\\"delay factor\\\":5.0},\\\"nameSub\\\":\\\"Intelligent Physical Systems\\\",\\\"id\\\":1413999863,\\\"credits\\\":3,\\\"nameCanonical\\\":\\\"\\\"},{\\\"curriculum_requisites\\\":[],\\\"name\\\":\\\" \\\",\\\"metrics\\\":{\\\"centrality\\\":0,\\\"complexity\\\":1.0,\\\"blocking factor\\\":0,\\\"delay factor\\\":1.0},\\\"nameSub\\\":\\\"Liberal Studies 3\\\",\\\"id\\\":1637204683,\\\"credits\\\":3,\\\"nameCanonical\\\":\\\"\\\"}],\\\"id\\\":5},{\\\"name\\\":\\\"Term 6\\\",\\\"curriculum_items\\\":[{\\\"curriculum_requisites\\\":[],\\\"name\\\":\\\" \\\",\\\"metrics\\\":{\\\"centrality\\\":0,\\\"complexity\\\":1.0,\\\"blocking factor\\\":0,\\\"delay factor\\\":1.0},\\\"nameSub\\\":\\\"ECE Foundations 2\\\",\\\"id\\\":121333895,\\\"credits\\\":3,\\\"nameCanonical\\\":\\\"\\\"},{\\\"curriculum_requisites\\\":[],\\\"name\\\":\\\" \\\",\\\"metrics\\\":{\\\"centrality\\\":0,\\\"complexity\\\":1.0,\\\"blocking factor\\\":0,\\\"delay factor\\\":1.0},\\\"nameSub\\\":\\\"ECE Foundations 3\\\",\\\"id\\\":1218469900,\\\"credits\\\":3,\\\"nameCanonical\\\":\\\"\\\"},{\\\"curriculum_requisites\\\":[],\\\"name\\\":\\\" \\\",\\\"metrics\\\":{\\\"centrality\\\":0,\\\"complexity\\\":1.0,\\\"blocking factor\\\":0,\\\"delay factor\\\":1.0},\\\"nameSub\\\":\\\"Outside Tech. Elective 2\\\",\\\"id\\\":329854096,\\\"credits\\\":3,\\\"nameCanonical\\\":\\\"\\\"},{\\\"curriculum_requisites\\\":[],\\\"name\\\":\\\" \\\",\\\"metrics\\\":{\\\"centrality\\\":0,\\\"complexity\\\":1.0,\\\"blocking factor\\\":0,\\\"delay factor\\\":1.0},\\\"nameSub\\\":\\\"Elective 2\\\",\\\"id\\\":266560209,\\\"credits\\\":3,\\\"nameCanonical\\\":\\\"\\\"},{\\\"curriculum_requisites\\\":[],\\\"name\\\":\\\" \\\",\\\"metrics\\\":{\\\"centrality\\\":0,\\\"complexity\\\":1.0,\\\"blocking factor\\\":0,\\\"delay factor\\\":1.0},\\\"nameSub\\\":\\\"Liberal Studies 4\\\",\\\"id\\\":1720176282,\\\"credits\\\":3,\\\"nameCanonical\\\":\\\"\\\"}],\\\"id\\\":6},{\\\"name\\\":\\\"Term 7\\\",\\\"curriculum_items\\\":[{\\\"curriculum_requisites\\\":[],\\\"name\\\":\\\" \\\",\\\"metrics\\\":{\\\"centrality\\\":0,\\\"complexity\\\":1.0,\\\"blocking factor\\\":0,\\\"delay factor\\\":1.0},\\\"nameSub\\\":\\\"ECE Elective (CDE)\\\",\\\"id\\\":3224403962,\\\"credits\\\":3,\\\"nameCanonical\\\":\\\"\\\"},{\\\"curriculum_requisites\\\":[],\\\"name\\\":\\\" \\\",\\\"metrics\\\":{\\\"centrality\\\":0,\\\"complexity\\\":1.0,\\\"blocking factor\\\":0,\\\"delay factor\\\":1.0},\\\"nameSub\\\":\\\"ECE Elective 1\\\",\\\"id\\\":2051928090,\\\"credits\\\":3,\\\"nameCanonical\\\":\\\"\\\"},{\\\"curriculum_requisites\\\":[],\\\"name\\\":\\\" \\\",\\\"metrics\\\":{\\\"centrality\\\":0,\\\"complexity\\\":1.0,\\\"blocking factor\\\":0,\\\"delay factor\\\":1.0},\\\"nameSub\\\":\\\"Outside Tech. Elective 3\\\",\\\"id\\\":329854097,\\\"credits\\\":3,\\\"nameCanonical\\\":\\\"\\\"},{\\\"curriculum_requisites\\\":[],\\\"name\\\":\\\" \\\",\\\"metrics\\\":{\\\"centrality\\\":0,\\\"complexity\\\":1.0,\\\"blocking factor\\\":0,\\\"delay factor\\\":1.0},\\\"nameSub\\\":\\\"Liberal Studies 5\\\",\\\"id\\\":3411438757,\\\"credits\\\":3,\\\"nameCanonical\\\":\\\"\\\"}],\\\"id\\\":7},{\\\"name\\\":\\\"Term 8\\\",\\\"curriculum_items\\\":[{\\\"curriculum_requisites\\\":[],\\\"name\\\":\\\" \\\",\\\"metrics\\\":{\\\"centrality\\\":0,\\\"complexity\\\":1.0,\\\"blocking factor\\\":0,\\\"delay factor\\\":1.0},\\\"nameSub\\\":\\\"ECE Elective 2\\\",\\\"id\\\":672829327,\\\"credits\\\":3,\\\"nameCanonical\\\":\\\"\\\"},{\\\"curriculum_requisites\\\":[],\\\"name\\\":\\\" \\\",\\\"metrics\\\":{\\\"centrality\\\":0,\\\"complexity\\\":1.0,\\\"blocking factor\\\":0,\\\"delay factor\\\":1.0},\\\"nameSub\\\":\\\"ECE Elective 3\\\",\\\"id\\\":562628024,\\\"credits\\\":3,\\\"nameCanonical\\\":\\\"\\\"},{\\\"curriculum_requisites\\\":[],\\\"name\\\":\\\" \\\",\\\"metrics\\\":{\\\"centrality\\\":0,\\\"complexity\\\":1.0,\\\"blocking factor\\\":0,\\\"delay factor\\\":1.0},\\\"nameSub\\\":\\\"ECE Elective 4\\\",\\\"id\\\":3443198019,\\\"credits\\\":3,\\\"nameCanonical\\\":\\\"\\\"},{\\\"curriculum_requisites\\\":[],\\\"name\\\":\\\" \\\",\\\"metrics\\\":{\\\"centrality\\\":0,\\\"complexity\\\":1.0,\\\"blocking factor\\\":0,\\\"delay factor\\\":1.0},\\\"nameSub\\\":\\\"Liberal Studies 6\\\",\\\"id\\\":2066864807,\\\"credits\\\":3,\\\"nameCanonical\\\":\\\"\\\"}],\\\"id\\\":8}],\\\"institution\\\":\\\"\\\"}},\\\"*\\\"); window.removeEventListener(\\\"message\\\",window.messageReceived); window.messageReceived=(function (event){return (event.data.curriculum!==undefined) ? (WebIO.setval({\\\"name\\\":\\\"curriculum-data\\\",\\\"scope\\\":\\\"278282296172446873\\\",\\\"id\\\":\\\"ob_03\\\",\\\"type\\\":\\\"observable\\\"},event.data.curriculum)) : undefined}); return window.addEventListener(\\\"message\\\",window.messageReceived)})\")),:style=>Dict(:padding=>\"0\",:height=>\"90vh\",:margin=>\"0\",:border=>\"none\",:width=>\"100%\"))), Dict{String,Tuple{Observables.AbstractObservable,Union{Nothing, Bool}}}(\"curriculum-data\"=>(Observable{Dict{String,Any}} with 1 listeners. Value:\n",
       "Dict{String,Any}(\"options\"=>Dict{String,Any}(\"hideTerms\"=>false,\"edit\"=>false),\"curriculum\"=>Dict{String,Any}(\"name\"=>\"Cornell University EE Program\",\"dp_name\"=>\"Cornell University EE Program 4-year Plan\",\"curriculum_terms\"=>Dict{String,Any}[Dict(\"name\"=>\"Term 1\",\"curriculum_items\"=>Dict{String,Any}[Dict(\"curriculum_requisites\"=>Dict{String,Any}[],\"name\"=>\"CHEM  2090\",\"metrics\"=>Dict{String,Any}(\"centrality\"=>0,\"complexity\"=>1.0,\"blocking factor\"=>0,\"delay factor\"=>1.0),\"nameSub\"=>\"Engineering Gen. Chemistry\",\"id\"=>3732084628,\"credits\"=>3,\"nameCanonical\"=>\"\"), Dict(\"curriculum_requisites\"=>Dict{String,Any}[],\"name\"=>\"MATH 1910\",\"metrics\"=>Dict{String,Any}(\"centrality\"=>0,\"complexity\"=>15.0,\"blocking factor\"=>10,\"delay factor\"=>5.0),\"nameSub\"=>\"Calculus for Engineers\",\"id\"=>4274504294,\"credits\"=>3,\"nameCanonical\"=>\"\"), Dict(\"curriculum_requisites\"=>Dict{String,Any}[],\"name\"=>\"ENGRI 1xxx\",\"metrics\"=>Dict{String,Any}(\"centrality\"=>0,\"complexity\"=>1.0,\"blocking factor\"=>0,\"delay factor\"=>1.0),\"nameSub\"=>\"Engineering Distribution 1\",\"id\"=>3683554939,\"credits\"=>3,\"nameCanonical\"=>\"\"), Dict(\"curriculum_requisites\"=>Dict{String,Any}[],\"name\"=>\" \",\"metrics\"=>Dict{String,Any}(\"centrality\"=>0,\"complexity\"=>1.0,\"blocking factor\"=>0,\"delay factor\"=>1.0),\"nameSub\"=>\"1st Yr Writing Seminar 1\",\"id\"=>239686930,\"credits\"=>3,\"nameCanonical\"=>\"\"), Dict(\"curriculum_requisites\"=>Dict{String,Any}[],\"name\"=>\" \",\"metrics\"=>Dict{String,Any}(\"centrality\"=>0,\"complexity\"=>1.0,\"blocking factor\"=>0,\"delay factor\"=>1.0),\"nameSub\"=>\"PE 1\",\"id\"=>1523633189,\"credits\"=>3,\"nameCanonical\"=>\"\")],\"id\"=>1), Dict(\"name\"=>\"Term 2\",\"curriculum_items\"=>Dict{String,Any}[Dict(\"curriculum_requisites\"=>Dict{String,Any}[Dict(\"source_id\"=>4274504294,\"target_id\"=>177051436,\"type\"=>\"prereq\")],\"name\"=>\"PHYS 1112\",\"metrics\"=>Dict{String,Any}(\"centrality\"=>9,\"complexity\"=>9.0,\"blocking factor\"=>4,\"delay factor\"=>5.0),\"nameSub\"=>\"Physics I: Mechanics & Heat\",\"id\"=>177051436,\"credits\"=>3,\"nameCanonical\"=>\"\"), Dict(\"curriculum_requisites\"=>Dict{String,Any}[Dict(\"source_id\"=>4274504294,\"target_id\"=>2644941087,\"type\"=>\"prereq\")],\"name\"=>\"MATH 1920\",\"metrics\"=>Dict{String,Any}(\"centrality\"=>28,\"complexity\"=>12.0,\"blocking factor\"=>8,\"delay factor\"=>4.0),\"nameSub\"=>\"Multivariable Calc. for Engineers\",\"id\"=>2644941087,\"credits\"=>3,\"nameCanonical\"=>\"\"), Dict(\"curriculum_requisites\"=>Dict{String,Any}[],\"name\"=>\"CS 111x\",\"metrics\"=>Dict{String,Any}(\"centrality\"=>0,\"complexity\"=>6.0,\"blocking factor\"=>3,\"delay factor\"=>3.0),\"nameSub\"=>\"Intro. to Computing\",\"id\"=>4226399557,\"credits\"=>3,\"nameCanonical\"=>\"\"), Dict(\"curriculum_requisites\"=>Dict{String,Any}[],\"name\"=>\" \",\"metrics\"=>Dict{String,Any}(\"centrality\"=>0,\"complexity\"=>1.0,\"blocking factor\"=>0,\"delay factor\"=>1.0),\"nameSub\"=>\"1st Yr Writing Seminar 2\",\"id\"=>4073672988,\"credits\"=>3,\"nameCanonical\"=>\"\"), Dict(\"curriculum_requisites\"=>Dict{String,Any}[],\"name\"=>\" \",\"metrics\"=>Dict{String,Any}(\"centrality\"=>0,\"complexity\"=>1.0,\"blocking factor\"=>0,\"delay factor\"=>1.0),\"nameSub\"=>\"PE 2\",\"id\"=>335346848,\"credits\"=>3,\"nameCanonical\"=>\"\")],\"id\"=>2), Dict(\"name\"=>\"Term 3\",\"curriculum_items\"=>Dict{String,Any}[Dict(\"curriculum_requisites\"=>Dict{String,Any}[Dict(\"source_id\"=>177051436,\"target_id\"=>670953379,\"type\"=>\"prereq\"), Dict(\"source_id\"=>2644941087,\"target_id\"=>670953379,\"type\"=>\"prereq\")],\"name\"=>\"PHYS 2213\",\"metrics\"=>Dict{String,Any}(\"centrality\"=>18,\"complexity\"=>8.0,\"blocking factor\"=>3,\"delay factor\"=>5.0),\"nameSub\"=>\"Physics II: Electromagnetism\",\"id\"=>670953379,\"credits\"=>3,\"nameCanonical\"=>\"\"), Dict(\"curriculum_requisites\"=>Dict{String,Any}[Dict(\"source_id\"=>2644941087,\"target_id\"=>1926321183,\"type\"=>\"prereq\")],\"name\"=>\"MATH 2930\",\"metrics\"=>Dict{String,Any}(\"centrality\"=>14,\"complexity\"=>8.0,\"blocking factor\"=>4,\"delay factor\"=>4.0),\"nameSub\"=>\"Diff. Eqs. for Engineers\",\"id\"=>1926321183,\"credits\"=>3,\"nameCanonical\"=>\"\"), Dict(\"curriculum_requisites\"=>Dict{String,Any}[Dict(\"source_id\"=>1926321183,\"target_id\"=>3693590979,\"type\"=>\"coreq\"), Dict(\"source_id\"=>670953379,\"target_id\"=>3693590979,\"type\"=>\"coreq\")],\"name\"=>\"ECE/ENGRD 2100\",\"metrics\"=>Dict{String,Any}(\"centrality\"=>15,\"complexity\"=>6.0,\"blocking factor\"=>1,\"delay factor\"=>5.0),\"nameSub\"=>\"Intro. to Circuits\",\"id\"=>3693590979,\"credits\"=>3,\"nameCanonical\"=>\"\"), Dict(\"curriculum_requisites\"=>Dict{String,Any}[Dict(\"source_id\"=>4226399557,\"target_id\"=>986524819,\"type\"=>\"prereq\")],\"name\"=>\"ECE/ENGRD 2300\",\"metrics\"=>Dict{String,Any}(\"centrality\"=>3,\"complexity\"=>4.0,\"blocking factor\"=>1,\"delay factor\"=>3.0),\"nameSub\"=>\"Digital Logic & Computer Org.\",\"id\"=>986524819,\"credits\"=>3,\"nameCanonical\"=>\"\"), Dict(\"curriculum_requisites\"=>Dict{String,Any}[],\"name\"=>\" \",\"metrics\"=>Dict{String,Any}(\"centrality\"=>0,\"complexity\"=>1.0,\"blocking factor\"=>0,\"delay factor\"=>1.0),\"nameSub\"=>\"Liberal Studies 1\",\"id\"=>1558052753,\"credits\"=>3,\"nameCanonical\"=>\"\")],\"id\"=>3), Dict(\"name\"=>\"Term 4\",\"curriculum_items\"=>Dict{String,Any}[Dict(\"curriculum_requisites\"=>Dict{String,Any}[Dict(\"source_id\"=>1926321183,\"target_id\"=>3377751592,\"type\"=>\"coreq\")],\"name\"=>\"PHYS 2214\",\"metrics\"=>Dict{String,Any}(\"centrality\"=>0,\"complexity\"=>4.0,\"blocking factor\"=>0,\"delay factor\"=>4.0),\"nameSub\"=>\"Physics III: Oscillations, Waves, and Quantum Physics\",\"id\"=>3377751592,\"credits\"=>3,\"nameCanonical\"=>\"\"), Dict(\"curriculum_requisites\"=>Dict{String,Any}[Dict(\"source_id\"=>2644941087,\"target_id\"=>1135328629,\"type\"=>\"prereq\")],\"name\"=>\"MATH 2940\",\"metrics\"=>Dict{String,Any}(\"centrality\"=>5,\"complexity\"=>6.0,\"blocking factor\"=>2,\"delay factor\"=>4.0),\"nameSub\"=>\"Linear Algebra for Engineers\",\"id\"=>1135328629,\"credits\"=>3,\"nameCanonical\"=>\"\"), Dict(\"curriculum_requisites\"=>Dict{String,Any}[Dict(\"source_id\"=>670953379,\"target_id\"=>1098106156,\"type\"=>\"prereq\")],\"name\"=>\"ENGRD 2xxx\",\"metrics\"=>Dict{String,Any}(\"centrality\"=>0,\"complexity\"=>4.0,\"blocking factor\"=>0,\"delay factor\"=>4.0),\"nameSub\"=>\"Engineering Distribution 2\",\"id\"=>1098106156,\"credits\"=>3,\"nameCanonical\"=>\"\"), Dict(\"curriculum_requisites\"=>Dict{String,Any}[Dict(\"source_id\"=>1926321183,\"target_id\"=>2066269668,\"type\"=>\"prereq\"), Dict(\"source_id\"=>1135328629,\"target_id\"=>2066269668,\"type\"=>\"coreq\")],\"name\"=>\"ECE/ENGRD 2200/2220\",\"metrics\"=>Dict{String,Any}(\"centrality\"=>10,\"complexity\"=>5.0,\"blocking factor\"=>1,\"delay factor\"=>4.0),\"nameSub\"=>\"Signals and Information\",\"id\"=>2066269668,\"credits\"=>3,\"nameCanonical\"=>\"\"), Dict(\"curriculum_requisites\"=>Dict{String,Any}[],\"name\"=>\" \",\"metrics\"=>Dict{String,Any}(\"centrality\"=>0,\"complexity\"=>1.0,\"blocking factor\"=>0,\"delay factor\"=>1.0),\"nameSub\"=>\"Liberal Studies 2\",\"id\"=>2054345146,\"credits\"=>3,\"nameCanonical\"=>\"\")],\"id\"=>4), Dict(\"name\"=>\"Term 5\",\"curriculum_items\"=>Dict{String,Any}[Dict(\"curriculum_requisites\"=>Dict{String,Any}[],\"name\"=>\" \",\"metrics\"=>Dict{String,Any}(\"centrality\"=>0,\"complexity\"=>1.0,\"blocking factor\"=>0,\"delay factor\"=>1.0),\"nameSub\"=>\"ECE Foundations 1\",\"id\"=>743914989,\"credits\"=>3,\"nameCanonical\"=>\"\"), Dict(\"curriculum_requisites\"=>Dict{String,Any}[],\"name\"=>\" \",\"metrics\"=>Dict{String,Any}(\"centrality\"=>0,\"complexity\"=>1.0,\"blocking factor\"=>0,\"delay factor\"=>1.0),\"nameSub\"=>\"Elective 1\",\"id\"=>2064696548,\"credits\"=>3,\"nameCanonical\"=>\"\"), Dict(\"curriculum_requisites\"=>Dict{String,Any}[Dict(\"source_id\"=>4226399557,\"target_id\"=>329854095,\"type\"=>\"prereq\")],\"name\"=>\" \",\"metrics\"=>Dict{String,Any}(\"centrality\"=>0,\"complexity\"=>2.0,\"blocking factor\"=>0,\"delay factor\"=>2.0),\"nameSub\"=>\"Outside Tech. Elective 1\",\"id\"=>329854095,\"credits\"=>3,\"nameCanonical\"=>\"\"), Dict(\"curriculum_requisites\"=>Dict{String,Any}[Dict(\"source_id\"=>3693590979,\"target_id\"=>1413999863,\"type\"=>\"prereq\"), Dict(\"source_id\"=>986524819,\"target_id\"=>1413999863,\"type\"=>\"prereq\"), Dict(\"source_id\"=>2066269668,\"target_id\"=>1413999863,\"type\"=>\"prereq\")],\"name\"=>\"ECE 3400\",\"metrics\"=>Dict{String,Any}(\"centrality\"=>0,\"complexity\"=>5.0,\"blocking factor\"=>0,\"delay factor\"=>5.0),\"nameSub\"=>\"Intelligent Physical Systems\",\"id\"=>1413999863,\"credits\"=>3,\"nameCanonical\"=>\"\"), Dict(\"curriculum_requisites\"=>Dict{String,Any}[],\"name\"=>\" \",\"metrics\"=>Dict{String,Any}(\"centrality\"=>0,\"complexity\"=>1.0,\"blocking factor\"=>0,\"delay factor\"=>1.0),\"nameSub\"=>\"Liberal Studies 3\",\"id\"=>1637204683,\"credits\"=>3,\"nameCanonical\"=>\"\")],\"id\"=>5), Dict(\"name\"=>\"Term 6\",\"curriculum_items\"=>Dict{String,Any}[Dict(\"curriculum_requisites\"=>Dict{String,Any}[],\"name\"=>\" \",\"metrics\"=>Dict{String,Any}(\"centrality\"=>0,\"complexity\"=>1.0,\"blocking factor\"=>0,\"delay factor\"=>1.0),\"nameSub\"=>\"ECE Foundations 2\",\"id\"=>121333895,\"credits\"=>3,\"nameCanonical\"=>\"\"), Dict(\"curriculum_requisites\"=>Dict{String,Any}[],\"name\"=>\" \",\"metrics\"=>Dict{String,Any}(\"centrality\"=>0,\"complexity\"=>1.0,\"blocking factor\"=>0,\"delay factor\"=>1.0),\"nameSub\"=>\"ECE Foundations 3\",\"id\"=>1218469900,\"credits\"=>3,\"nameCanonical\"=>\"\"), Dict(\"curriculum_requisites\"=>Dict{String,Any}[],\"name\"=>\" \",\"metrics\"=>Dict{String,Any}(\"centrality\"=>0,\"complexity\"=>1.0,\"blocking factor\"=>0,\"delay factor\"=>1.0),\"nameSub\"=>\"Outside Tech. Elective 2\",\"id\"=>329854096,\"credits\"=>3,\"nameCanonical\"=>\"\"), Dict(\"curriculum_requisites\"=>Dict{String,Any}[],\"name\"=>\" \",\"metrics\"=>Dict{String,Any}(\"centrality\"=>0,\"complexity\"=>1.0,\"blocking factor\"=>0,\"delay factor\"=>1.0),\"nameSub\"=>\"Elective 2\",\"id\"=>266560209,\"credits\"=>3,\"nameCanonical\"=>\"\"), Dict(\"curriculum_requisites\"=>Dict{String,Any}[],\"name\"=>\" \",\"metrics\"=>Dict{String,Any}(\"centrality\"=>0,\"complexity\"=>1.0,\"blocking factor\"=>0,\"delay factor\"=>1.0),\"nameSub\"=>\"Liberal Studies 4\",\"id\"=>1720176282,\"credits\"=>3,\"nameCanonical\"=>\"\")],\"id\"=>6), Dict(\"name\"=>\"Term 7\",\"curriculum_items\"=>Dict{String,Any}[Dict(\"curriculum_requisites\"=>Dict{String,Any}[],\"name\"=>\" \",\"metrics\"=>Dict{String,Any}(\"centrality\"=>0,\"complexity\"=>1.0,\"blocking factor\"=>0,\"delay factor\"=>1.0),\"nameSub\"=>\"ECE Elective (CDE)\",\"id\"=>3224403962,\"credits\"=>3,\"nameCanonical\"=>\"\"), Dict(\"curriculum_requisites\"=>Dict{String,Any}[],\"name\"=>\" \",\"metrics\"=>Dict{String,Any}(\"centrality\"=>0,\"complexity\"=>1.0,\"blocking factor\"=>0,\"delay factor\"=>1.0),\"nameSub\"=>\"ECE Elective 1\",\"id\"=>2051928090,\"credits\"=>3,\"nameCanonical\"=>\"\"), Dict(\"curriculum_requisites\"=>Dict{String,Any}[],\"name\"=>\" \",\"metrics\"=>Dict{String,Any}(\"centrality\"=>0,\"complexity\"=>1.0,\"blocking factor\"=>0,\"delay factor\"=>1.0),\"nameSub\"=>\"Outside Tech. Elective 3\",\"id\"=>329854097,\"credits\"=>3,\"nameCanonical\"=>\"\"), Dict(\"curriculum_requisites\"=>Dict{String,Any}[],\"name\"=>\" \",\"metrics\"=>Dict{String,Any}(\"centrality\"=>0,\"complexity\"=>1.0,\"blocking factor\"=>0,\"delay factor\"=>1.0),\"nameSub\"=>\"Liberal Studies 5\",\"id\"=>3411438757,\"credits\"=>3,\"nameCanonical\"=>\"\")],\"id\"=>7), Dict(\"name\"=>\"Term 8\",\"curriculum_items\"=>Dict{String,Any}[Dict(\"curriculum_requisites\"=>Dict{String,Any}[],\"name\"=>\" \",\"metrics\"=>Dict{String,Any}(\"centrality\"=>0,\"complexity\"=>1.0,\"blocking factor\"=>0,\"delay factor\"=>1.0),\"nameSub\"=>\"ECE Elective 2\",\"id\"=>672829327,\"credits\"=>3,\"nameCanonical\"=>\"\"), Dict(\"curriculum_requisites\"=>Dict{String,Any}[],\"name\"=>\" \",\"metrics\"=>Dict{String,Any}(\"centrality\"=>0,\"complexity\"=>1.0,\"blocking factor\"=>0,\"delay factor\"=>1.0),\"nameSub\"=>\"ECE Elective 3\",\"id\"=>562628024,\"credits\"=>3,\"nameCanonical\"=>\"\"), Dict(\"curriculum_requisites\"=>Dict{String,Any}[],\"name\"=>\" \",\"metrics\"=>Dict{String,Any}(\"centrality\"=>0,\"complexity\"=>1.0,\"blocking factor\"=>0,\"delay factor\"=>1.0),\"nameSub\"=>\"ECE Elective 4\",\"id\"=>3443198019,\"credits\"=>3,\"nameCanonical\"=>\"\"), Dict(\"curriculum_requisites\"=>Dict{String,Any}[],\"name\"=>\" \",\"metrics\"=>Dict{String,Any}(\"centrality\"=>0,\"complexity\"=>1.0,\"blocking factor\"=>0,\"delay factor\"=>1.0),\"nameSub\"=>\"Liberal Studies 6\",\"id\"=>2066864807,\"credits\"=>3,\"nameCanonical\"=>\"\")],\"id\"=>8)],\"institution\"=>\"\")), nothing)), Set(String[]), nothing, WebIO.Asset[], Dict{Any,Any}(), WebIO.ConnectionPool(Channel{Any}(sz_max:32,sz_curr:0), Set(WebIO.AbstractConnection[]), Channel{WebIO.AbstractConnection}(sz_max:32,sz_curr:0)), WebIO.JSString[])"
      ]
     },
     "execution_count": 4,
     "metadata": {
      "application/vnd.webio.node+json": {
       "kernelId": "648a078a-cf92-4883-a270-432bb7a2c95f"
      }
     },
     "output_type": "execute_result"
    }
   ],
   "source": [
    "visualize(read_csv(\"Cornell_EE_plan.csv\"), notebook=true, scale = 0.9)"
   ]
  },
  {
   "cell_type": "markdown",
   "metadata": {},
   "source": [
    "Once again, the Circuits I course (called Intro. to Circuits in this curriculum) is the most central course in the curriculum; however, note that its centrality factor is much lower, as are its delay and blocking factors. The complexity of this curriculum is the minimum of the three we have considered.\n",
    "\n",
    "It is interesting to note that the three programs shown above have identical ABET accreditation. This means that each program satisfies the same eleven ABET program learning outcomes.  Thus, from the perspective of ABET, each program is of sufficient quality that the engineers they produce should be prepared to have successful careers. Even though these programs are identically accredited with identical program learning outcomes, it is readily apparent that their structures are quite dissimilar.  A more detailed look at the differneces between the curricular complexities of various electrical engineerig programs, and how this relates to program quality, is considered in a companion notebook (see <cite data-cite=\"he:18\">Thompson, et. al, (2019)</cite>)."
   ]
  },
  {
   "cell_type": "markdown",
   "metadata": {},
   "source": [
    "## Curricular Design Patterns\n",
    "Even though the three curricula consider above have dissimilar structures (and therefore complexities), they do share a common pattern of courses involving Circuits I, which appears to be one of the most important courses in an electrical engineering curriculum.  Indeed, we argue that nearly every bachelor's-level electrical engineering program has a pattern in their curriculm that involves:\n",
    "1. Mathematics through Differential Equations, which then serves as a pre- or co-requisite for Circuits I,\n",
    "2. Physics, including associated laboratories, through Physics II, which then serves as a pre- or co-requisite for Circuits I, and\n",
    "3. A Circuits II or similar course that builds upon Circuits I.\n",
    "\n",
    "We may depict this set of requirements as a generic *curricular design pattern* for Circuits I, as shown below.\n"
   ]
  },
  {
   "cell_type": "code",
   "execution_count": 5,
   "metadata": {},
   "outputs": [
    {
     "data": {
      "application/vnd.webio.node+json": {
       "children": [
        {
         "children": [
          ""
         ],
         "instanceArgs": {
          "namespace": "html",
          "tag": "iframe"
         },
         "nodeType": "DOM",
         "props": {
          "events": {
           "load": "(function (){this.contentWindow.postMessage({\"options\":{\"hideTerms\":false,\"edit\":false},\"curriculum\":{\"name\":\"Circuits I Design Pattern\",\"dp_name\":\"Calculus ready\",\"curriculum_terms\":[{\"name\":\"Term 1\",\"curriculum_items\":[{\"curriculum_requisites\":[],\"name\":\" \",\"metrics\":{\"centrality\":0,\"complexity\":14.0,\"blocking factor\":8,\"delay factor\":6.0},\"nameSub\":\"Calculus I\",\"id\":1,\"credits\":4,\"nameCanonical\":\"\"}],\"id\":1},{\"name\":\"Term 2\",\"curriculum_items\":[{\"curriculum_requisites\":[{\"source_id\":1,\"target_id\":2,\"type\":\"prereq\"}],\"name\":\" \",\"metrics\":{\"centrality\":5,\"complexity\":7.0,\"blocking factor\":3,\"delay factor\":4.0},\"nameSub\":\"Calculus II\",\"id\":2,\"credits\":4,\"nameCanonical\":\"\"},{\"curriculum_requisites\":[{\"source_id\":1,\"target_id\":3,\"type\":\"prereq\"}],\"name\":\" \",\"metrics\":{\"centrality\":20,\"complexity\":11.0,\"blocking factor\":5,\"delay factor\":6.0},\"nameSub\":\"Physics I\",\"id\":3,\"credits\":3,\"nameCanonical\":\"\"},{\"curriculum_requisites\":[{\"source_id\":3,\"target_id\":4,\"type\":\"coreq\"}],\"name\":\" \",\"metrics\":{\"centrality\":11,\"complexity\":10.0,\"blocking factor\":4,\"delay factor\":6.0},\"nameSub\":\"Physics I Lab\",\"id\":4,\"credits\":1,\"nameCanonical\":\"\"}],\"id\":2},{\"name\":\"Term 3\",\"curriculum_items\":[{\"curriculum_requisites\":[{\"source_id\":4,\"target_id\":5,\"type\":\"prereq\"},{\"source_id\":3,\"target_id\":5,\"type\":\"prereq\"}],\"name\":\" \",\"metrics\":{\"centrality\":20,\"complexity\":9.0,\"blocking factor\":3,\"delay factor\":6.0},\"nameSub\":\"Physics II\",\"id\":5,\"credits\":3,\"nameCanonical\":\"\"},{\"curriculum_requisites\":[{\"source_id\":5,\"target_id\":6,\"type\":\"coreq\"}],\"name\":\" \",\"metrics\":{\"centrality\":0,\"complexity\":5.0,\"blocking factor\":0,\"delay factor\":5.0},\"nameSub\":\"Physics II Lab\",\"id\":6,\"credits\":1,\"nameCanonical\":\"\"},{\"curriculum_requisites\":[{\"source_id\":2,\"target_id\":7,\"type\":\"prereq\"}],\"name\":\" \",\"metrics\":{\"centrality\":5,\"complexity\":6.0,\"blocking factor\":2,\"delay factor\":4.0},\"nameSub\":\"Differential Eqs.\",\"id\":7,\"credits\":3,\"nameCanonical\":\"\"},{\"curriculum_requisites\":[{\"source_id\":7,\"target_id\":8,\"type\":\"prereq\"},{\"source_id\":5,\"target_id\":8,\"type\":\"prereq\"}],\"name\":\" \",\"metrics\":{\"centrality\":16,\"complexity\":7.0,\"blocking factor\":1,\"delay factor\":6.0},\"nameSub\":\"Circuits I\",\"id\":8,\"credits\":3,\"nameCanonical\":\"\"}],\"id\":3},{\"name\":\"Term 4\",\"curriculum_items\":[{\"curriculum_requisites\":[{\"source_id\":8,\"target_id\":9,\"type\":\"prereq\"}],\"name\":\" \",\"metrics\":{\"centrality\":0,\"complexity\":6.0,\"blocking factor\":0,\"delay factor\":6.0},\"nameSub\":\"Circuits II\",\"id\":9,\"credits\":3,\"nameCanonical\":\"\"}],\"id\":4}],\"institution\":\"\"}},\"*\"); window.removeEventListener(\"message\",window.messageReceived); window.messageReceived=(function (event){return (event.data.curriculum!==undefined) ? (WebIO.setval({\"name\":\"curriculum-data\",\"scope\":\"5443249209771029105\",\"id\":\"ob_04\",\"type\":\"observable\"},event.data.curriculum)) : undefined}); return window.addEventListener(\"message\",window.messageReceived)})"
          },
          "id": "curriculum",
          "src": "http://localhost:8156",
          "style": {
           "border": "none",
           "height": "70vh",
           "margin": "0",
           "padding": "0",
           "width": "100%"
          }
         },
         "type": "node"
        }
       ],
       "instanceArgs": {
        "handlers": {},
        "id": "5443249209771029105",
        "imports": {
         "data": [],
         "type": "async_block"
        },
        "mount_callbacks": [],
        "observables": {
         "curriculum-data": {
          "id": "ob_04",
          "sync": true,
          "value": {
           "curriculum": {
            "curriculum_terms": [
             {
              "curriculum_items": [
               {
                "credits": 4,
                "curriculum_requisites": [],
                "id": 1,
                "metrics": {
                 "blocking factor": 8,
                 "centrality": 0,
                 "complexity": 14,
                 "delay factor": 6
                },
                "name": " ",
                "nameCanonical": "",
                "nameSub": "Calculus I"
               }
              ],
              "id": 1,
              "name": "Term 1"
             },
             {
              "curriculum_items": [
               {
                "credits": 4,
                "curriculum_requisites": [
                 {
                  "source_id": 1,
                  "target_id": 2,
                  "type": "prereq"
                 }
                ],
                "id": 2,
                "metrics": {
                 "blocking factor": 3,
                 "centrality": 5,
                 "complexity": 7,
                 "delay factor": 4
                },
                "name": " ",
                "nameCanonical": "",
                "nameSub": "Calculus II"
               },
               {
                "credits": 3,
                "curriculum_requisites": [
                 {
                  "source_id": 1,
                  "target_id": 3,
                  "type": "prereq"
                 }
                ],
                "id": 3,
                "metrics": {
                 "blocking factor": 5,
                 "centrality": 20,
                 "complexity": 11,
                 "delay factor": 6
                },
                "name": " ",
                "nameCanonical": "",
                "nameSub": "Physics I"
               },
               {
                "credits": 1,
                "curriculum_requisites": [
                 {
                  "source_id": 3,
                  "target_id": 4,
                  "type": "coreq"
                 }
                ],
                "id": 4,
                "metrics": {
                 "blocking factor": 4,
                 "centrality": 11,
                 "complexity": 10,
                 "delay factor": 6
                },
                "name": " ",
                "nameCanonical": "",
                "nameSub": "Physics I Lab"
               }
              ],
              "id": 2,
              "name": "Term 2"
             },
             {
              "curriculum_items": [
               {
                "credits": 3,
                "curriculum_requisites": [
                 {
                  "source_id": 4,
                  "target_id": 5,
                  "type": "prereq"
                 },
                 {
                  "source_id": 3,
                  "target_id": 5,
                  "type": "prereq"
                 }
                ],
                "id": 5,
                "metrics": {
                 "blocking factor": 3,
                 "centrality": 20,
                 "complexity": 9,
                 "delay factor": 6
                },
                "name": " ",
                "nameCanonical": "",
                "nameSub": "Physics II"
               },
               {
                "credits": 1,
                "curriculum_requisites": [
                 {
                  "source_id": 5,
                  "target_id": 6,
                  "type": "coreq"
                 }
                ],
                "id": 6,
                "metrics": {
                 "blocking factor": 0,
                 "centrality": 0,
                 "complexity": 5,
                 "delay factor": 5
                },
                "name": " ",
                "nameCanonical": "",
                "nameSub": "Physics II Lab"
               },
               {
                "credits": 3,
                "curriculum_requisites": [
                 {
                  "source_id": 2,
                  "target_id": 7,
                  "type": "prereq"
                 }
                ],
                "id": 7,
                "metrics": {
                 "blocking factor": 2,
                 "centrality": 5,
                 "complexity": 6,
                 "delay factor": 4
                },
                "name": " ",
                "nameCanonical": "",
                "nameSub": "Differential Eqs."
               },
               {
                "credits": 3,
                "curriculum_requisites": [
                 {
                  "source_id": 7,
                  "target_id": 8,
                  "type": "prereq"
                 },
                 {
                  "source_id": 5,
                  "target_id": 8,
                  "type": "prereq"
                 }
                ],
                "id": 8,
                "metrics": {
                 "blocking factor": 1,
                 "centrality": 16,
                 "complexity": 7,
                 "delay factor": 6
                },
                "name": " ",
                "nameCanonical": "",
                "nameSub": "Circuits I"
               }
              ],
              "id": 3,
              "name": "Term 3"
             },
             {
              "curriculum_items": [
               {
                "credits": 3,
                "curriculum_requisites": [
                 {
                  "source_id": 8,
                  "target_id": 9,
                  "type": "prereq"
                 }
                ],
                "id": 9,
                "metrics": {
                 "blocking factor": 0,
                 "centrality": 0,
                 "complexity": 6,
                 "delay factor": 6
                },
                "name": " ",
                "nameCanonical": "",
                "nameSub": "Circuits II"
               }
              ],
              "id": 4,
              "name": "Term 4"
             }
            ],
            "dp_name": "Calculus ready",
            "institution": "",
            "name": "Circuits I Design Pattern"
           },
           "options": {
            "edit": false,
            "hideTerms": false
           }
          }
         }
        },
        "systemjs_options": null
       },
       "nodeType": "Scope",
       "props": {},
       "type": "node"
      },
      "text/html": [
       "<div\n",
       "    class=\"webio-mountpoint\"\n",
       "    data-webio-mountpoint=\"17017762962998330672\"\n",
       ">\n",
       "    <script>\n",
       "    if (window.require && require.defined && require.defined(\"nbextensions/webio/main\")) {\n",
       "        console.log(\"Jupyter WebIO extension detected, not mounting.\");\n",
       "    } else if (window.WebIO) {\n",
       "        WebIO.mount(\n",
       "            document.querySelector('[data-webio-mountpoint=\"17017762962998330672\"]'),\n",
       "            {\"props\":{},\"nodeType\":\"Scope\",\"type\":\"node\",\"instanceArgs\":{\"imports\":{\"data\":[],\"type\":\"async_block\"},\"id\":\"5443249209771029105\",\"handlers\":{},\"systemjs_options\":null,\"mount_callbacks\":[],\"observables\":{\"curriculum-data\":{\"sync\":true,\"id\":\"ob_04\",\"value\":{\"options\":{\"hideTerms\":false,\"edit\":false},\"curriculum\":{\"name\":\"Circuits I Design Pattern\",\"dp_name\":\"Calculus ready\",\"curriculum_terms\":[{\"name\":\"Term 1\",\"curriculum_items\":[{\"curriculum_requisites\":[],\"name\":\" \",\"metrics\":{\"centrality\":0,\"complexity\":14.0,\"blocking factor\":8,\"delay factor\":6.0},\"nameSub\":\"Calculus I\",\"id\":1,\"credits\":4,\"nameCanonical\":\"\"}],\"id\":1},{\"name\":\"Term 2\",\"curriculum_items\":[{\"curriculum_requisites\":[{\"source_id\":1,\"target_id\":2,\"type\":\"prereq\"}],\"name\":\" \",\"metrics\":{\"centrality\":5,\"complexity\":7.0,\"blocking factor\":3,\"delay factor\":4.0},\"nameSub\":\"Calculus II\",\"id\":2,\"credits\":4,\"nameCanonical\":\"\"},{\"curriculum_requisites\":[{\"source_id\":1,\"target_id\":3,\"type\":\"prereq\"}],\"name\":\" \",\"metrics\":{\"centrality\":20,\"complexity\":11.0,\"blocking factor\":5,\"delay factor\":6.0},\"nameSub\":\"Physics I\",\"id\":3,\"credits\":3,\"nameCanonical\":\"\"},{\"curriculum_requisites\":[{\"source_id\":3,\"target_id\":4,\"type\":\"coreq\"}],\"name\":\" \",\"metrics\":{\"centrality\":11,\"complexity\":10.0,\"blocking factor\":4,\"delay factor\":6.0},\"nameSub\":\"Physics I Lab\",\"id\":4,\"credits\":1,\"nameCanonical\":\"\"}],\"id\":2},{\"name\":\"Term 3\",\"curriculum_items\":[{\"curriculum_requisites\":[{\"source_id\":4,\"target_id\":5,\"type\":\"prereq\"},{\"source_id\":3,\"target_id\":5,\"type\":\"prereq\"}],\"name\":\" \",\"metrics\":{\"centrality\":20,\"complexity\":9.0,\"blocking factor\":3,\"delay factor\":6.0},\"nameSub\":\"Physics II\",\"id\":5,\"credits\":3,\"nameCanonical\":\"\"},{\"curriculum_requisites\":[{\"source_id\":5,\"target_id\":6,\"type\":\"coreq\"}],\"name\":\" \",\"metrics\":{\"centrality\":0,\"complexity\":5.0,\"blocking factor\":0,\"delay factor\":5.0},\"nameSub\":\"Physics II Lab\",\"id\":6,\"credits\":1,\"nameCanonical\":\"\"},{\"curriculum_requisites\":[{\"source_id\":2,\"target_id\":7,\"type\":\"prereq\"}],\"name\":\" \",\"metrics\":{\"centrality\":5,\"complexity\":6.0,\"blocking factor\":2,\"delay factor\":4.0},\"nameSub\":\"Differential Eqs.\",\"id\":7,\"credits\":3,\"nameCanonical\":\"\"},{\"curriculum_requisites\":[{\"source_id\":7,\"target_id\":8,\"type\":\"prereq\"},{\"source_id\":5,\"target_id\":8,\"type\":\"prereq\"}],\"name\":\" \",\"metrics\":{\"centrality\":16,\"complexity\":7.0,\"blocking factor\":1,\"delay factor\":6.0},\"nameSub\":\"Circuits I\",\"id\":8,\"credits\":3,\"nameCanonical\":\"\"}],\"id\":3},{\"name\":\"Term 4\",\"curriculum_items\":[{\"curriculum_requisites\":[{\"source_id\":8,\"target_id\":9,\"type\":\"prereq\"}],\"name\":\" \",\"metrics\":{\"centrality\":0,\"complexity\":6.0,\"blocking factor\":0,\"delay factor\":6.0},\"nameSub\":\"Circuits II\",\"id\":9,\"credits\":3,\"nameCanonical\":\"\"}],\"id\":4}],\"institution\":\"\"}}}}},\"children\":[{\"props\":{\"src\":\"http:\\/\\/localhost:8156\",\"id\":\"curriculum\",\"events\":{\"load\":\"(function (){this.contentWindow.postMessage({\\\"options\\\":{\\\"hideTerms\\\":false,\\\"edit\\\":false},\\\"curriculum\\\":{\\\"name\\\":\\\"Circuits I Design Pattern\\\",\\\"dp_name\\\":\\\"Calculus ready\\\",\\\"curriculum_terms\\\":[{\\\"name\\\":\\\"Term 1\\\",\\\"curriculum_items\\\":[{\\\"curriculum_requisites\\\":[],\\\"name\\\":\\\" \\\",\\\"metrics\\\":{\\\"centrality\\\":0,\\\"complexity\\\":14.0,\\\"blocking factor\\\":8,\\\"delay factor\\\":6.0},\\\"nameSub\\\":\\\"Calculus I\\\",\\\"id\\\":1,\\\"credits\\\":4,\\\"nameCanonical\\\":\\\"\\\"}],\\\"id\\\":1},{\\\"name\\\":\\\"Term 2\\\",\\\"curriculum_items\\\":[{\\\"curriculum_requisites\\\":[{\\\"source_id\\\":1,\\\"target_id\\\":2,\\\"type\\\":\\\"prereq\\\"}],\\\"name\\\":\\\" \\\",\\\"metrics\\\":{\\\"centrality\\\":5,\\\"complexity\\\":7.0,\\\"blocking factor\\\":3,\\\"delay factor\\\":4.0},\\\"nameSub\\\":\\\"Calculus II\\\",\\\"id\\\":2,\\\"credits\\\":4,\\\"nameCanonical\\\":\\\"\\\"},{\\\"curriculum_requisites\\\":[{\\\"source_id\\\":1,\\\"target_id\\\":3,\\\"type\\\":\\\"prereq\\\"}],\\\"name\\\":\\\" \\\",\\\"metrics\\\":{\\\"centrality\\\":20,\\\"complexity\\\":11.0,\\\"blocking factor\\\":5,\\\"delay factor\\\":6.0},\\\"nameSub\\\":\\\"Physics I\\\",\\\"id\\\":3,\\\"credits\\\":3,\\\"nameCanonical\\\":\\\"\\\"},{\\\"curriculum_requisites\\\":[{\\\"source_id\\\":3,\\\"target_id\\\":4,\\\"type\\\":\\\"coreq\\\"}],\\\"name\\\":\\\" \\\",\\\"metrics\\\":{\\\"centrality\\\":11,\\\"complexity\\\":10.0,\\\"blocking factor\\\":4,\\\"delay factor\\\":6.0},\\\"nameSub\\\":\\\"Physics I Lab\\\",\\\"id\\\":4,\\\"credits\\\":1,\\\"nameCanonical\\\":\\\"\\\"}],\\\"id\\\":2},{\\\"name\\\":\\\"Term 3\\\",\\\"curriculum_items\\\":[{\\\"curriculum_requisites\\\":[{\\\"source_id\\\":4,\\\"target_id\\\":5,\\\"type\\\":\\\"prereq\\\"},{\\\"source_id\\\":3,\\\"target_id\\\":5,\\\"type\\\":\\\"prereq\\\"}],\\\"name\\\":\\\" \\\",\\\"metrics\\\":{\\\"centrality\\\":20,\\\"complexity\\\":9.0,\\\"blocking factor\\\":3,\\\"delay factor\\\":6.0},\\\"nameSub\\\":\\\"Physics II\\\",\\\"id\\\":5,\\\"credits\\\":3,\\\"nameCanonical\\\":\\\"\\\"},{\\\"curriculum_requisites\\\":[{\\\"source_id\\\":5,\\\"target_id\\\":6,\\\"type\\\":\\\"coreq\\\"}],\\\"name\\\":\\\" \\\",\\\"metrics\\\":{\\\"centrality\\\":0,\\\"complexity\\\":5.0,\\\"blocking factor\\\":0,\\\"delay factor\\\":5.0},\\\"nameSub\\\":\\\"Physics II Lab\\\",\\\"id\\\":6,\\\"credits\\\":1,\\\"nameCanonical\\\":\\\"\\\"},{\\\"curriculum_requisites\\\":[{\\\"source_id\\\":2,\\\"target_id\\\":7,\\\"type\\\":\\\"prereq\\\"}],\\\"name\\\":\\\" \\\",\\\"metrics\\\":{\\\"centrality\\\":5,\\\"complexity\\\":6.0,\\\"blocking factor\\\":2,\\\"delay factor\\\":4.0},\\\"nameSub\\\":\\\"Differential Eqs.\\\",\\\"id\\\":7,\\\"credits\\\":3,\\\"nameCanonical\\\":\\\"\\\"},{\\\"curriculum_requisites\\\":[{\\\"source_id\\\":7,\\\"target_id\\\":8,\\\"type\\\":\\\"prereq\\\"},{\\\"source_id\\\":5,\\\"target_id\\\":8,\\\"type\\\":\\\"prereq\\\"}],\\\"name\\\":\\\" \\\",\\\"metrics\\\":{\\\"centrality\\\":16,\\\"complexity\\\":7.0,\\\"blocking factor\\\":1,\\\"delay factor\\\":6.0},\\\"nameSub\\\":\\\"Circuits I\\\",\\\"id\\\":8,\\\"credits\\\":3,\\\"nameCanonical\\\":\\\"\\\"}],\\\"id\\\":3},{\\\"name\\\":\\\"Term 4\\\",\\\"curriculum_items\\\":[{\\\"curriculum_requisites\\\":[{\\\"source_id\\\":8,\\\"target_id\\\":9,\\\"type\\\":\\\"prereq\\\"}],\\\"name\\\":\\\" \\\",\\\"metrics\\\":{\\\"centrality\\\":0,\\\"complexity\\\":6.0,\\\"blocking factor\\\":0,\\\"delay factor\\\":6.0},\\\"nameSub\\\":\\\"Circuits II\\\",\\\"id\\\":9,\\\"credits\\\":3,\\\"nameCanonical\\\":\\\"\\\"}],\\\"id\\\":4}],\\\"institution\\\":\\\"\\\"}},\\\"*\\\"); window.removeEventListener(\\\"message\\\",window.messageReceived); window.messageReceived=(function (event){return (event.data.curriculum!==undefined) ? (WebIO.setval({\\\"name\\\":\\\"curriculum-data\\\",\\\"scope\\\":\\\"5443249209771029105\\\",\\\"id\\\":\\\"ob_04\\\",\\\"type\\\":\\\"observable\\\"},event.data.curriculum)) : undefined}); return window.addEventListener(\\\"message\\\",window.messageReceived)})\"},\"style\":{\"padding\":\"0\",\"height\":\"70vh\",\"margin\":\"0\",\"border\":\"none\",\"width\":\"100%\"}},\"nodeType\":\"DOM\",\"type\":\"node\",\"instanceArgs\":{\"namespace\":\"html\",\"tag\":\"iframe\"},\"children\":[\"\"]}]},\n",
       "            window,\n",
       "        );\n",
       "    } else {\n",
       "        document\n",
       "            .querySelector('[data-webio-mountpoint=\"17017762962998330672\"]')\n",
       "            .innerHTML = '<strong>WebIO not detected.</strong>';\n",
       "    }\n",
       "    </script>\n",
       "</div>\n"
      ],
      "text/plain": [
       "WebIO.Scope(WebIO.Node{WebIO.DOM}(WebIO.DOM(:html, :iframe), Any[\"\"], Dict{Symbol,Any}(:src=>\"http://localhost:8156\",:id=>\"curriculum\",:events=>Dict(:load=>JSString(\"(function (){this.contentWindow.postMessage({\\\"options\\\":{\\\"hideTerms\\\":false,\\\"edit\\\":false},\\\"curriculum\\\":{\\\"name\\\":\\\"Circuits I Design Pattern\\\",\\\"dp_name\\\":\\\"Calculus ready\\\",\\\"curriculum_terms\\\":[{\\\"name\\\":\\\"Term 1\\\",\\\"curriculum_items\\\":[{\\\"curriculum_requisites\\\":[],\\\"name\\\":\\\" \\\",\\\"metrics\\\":{\\\"centrality\\\":0,\\\"complexity\\\":14.0,\\\"blocking factor\\\":8,\\\"delay factor\\\":6.0},\\\"nameSub\\\":\\\"Calculus I\\\",\\\"id\\\":1,\\\"credits\\\":4,\\\"nameCanonical\\\":\\\"\\\"}],\\\"id\\\":1},{\\\"name\\\":\\\"Term 2\\\",\\\"curriculum_items\\\":[{\\\"curriculum_requisites\\\":[{\\\"source_id\\\":1,\\\"target_id\\\":2,\\\"type\\\":\\\"prereq\\\"}],\\\"name\\\":\\\" \\\",\\\"metrics\\\":{\\\"centrality\\\":5,\\\"complexity\\\":7.0,\\\"blocking factor\\\":3,\\\"delay factor\\\":4.0},\\\"nameSub\\\":\\\"Calculus II\\\",\\\"id\\\":2,\\\"credits\\\":4,\\\"nameCanonical\\\":\\\"\\\"},{\\\"curriculum_requisites\\\":[{\\\"source_id\\\":1,\\\"target_id\\\":3,\\\"type\\\":\\\"prereq\\\"}],\\\"name\\\":\\\" \\\",\\\"metrics\\\":{\\\"centrality\\\":20,\\\"complexity\\\":11.0,\\\"blocking factor\\\":5,\\\"delay factor\\\":6.0},\\\"nameSub\\\":\\\"Physics I\\\",\\\"id\\\":3,\\\"credits\\\":3,\\\"nameCanonical\\\":\\\"\\\"},{\\\"curriculum_requisites\\\":[{\\\"source_id\\\":3,\\\"target_id\\\":4,\\\"type\\\":\\\"coreq\\\"}],\\\"name\\\":\\\" \\\",\\\"metrics\\\":{\\\"centrality\\\":11,\\\"complexity\\\":10.0,\\\"blocking factor\\\":4,\\\"delay factor\\\":6.0},\\\"nameSub\\\":\\\"Physics I Lab\\\",\\\"id\\\":4,\\\"credits\\\":1,\\\"nameCanonical\\\":\\\"\\\"}],\\\"id\\\":2},{\\\"name\\\":\\\"Term 3\\\",\\\"curriculum_items\\\":[{\\\"curriculum_requisites\\\":[{\\\"source_id\\\":4,\\\"target_id\\\":5,\\\"type\\\":\\\"prereq\\\"},{\\\"source_id\\\":3,\\\"target_id\\\":5,\\\"type\\\":\\\"prereq\\\"}],\\\"name\\\":\\\" \\\",\\\"metrics\\\":{\\\"centrality\\\":20,\\\"complexity\\\":9.0,\\\"blocking factor\\\":3,\\\"delay factor\\\":6.0},\\\"nameSub\\\":\\\"Physics II\\\",\\\"id\\\":5,\\\"credits\\\":3,\\\"nameCanonical\\\":\\\"\\\"},{\\\"curriculum_requisites\\\":[{\\\"source_id\\\":5,\\\"target_id\\\":6,\\\"type\\\":\\\"coreq\\\"}],\\\"name\\\":\\\" \\\",\\\"metrics\\\":{\\\"centrality\\\":0,\\\"complexity\\\":5.0,\\\"blocking factor\\\":0,\\\"delay factor\\\":5.0},\\\"nameSub\\\":\\\"Physics II Lab\\\",\\\"id\\\":6,\\\"credits\\\":1,\\\"nameCanonical\\\":\\\"\\\"},{\\\"curriculum_requisites\\\":[{\\\"source_id\\\":2,\\\"target_id\\\":7,\\\"type\\\":\\\"prereq\\\"}],\\\"name\\\":\\\" \\\",\\\"metrics\\\":{\\\"centrality\\\":5,\\\"complexity\\\":6.0,\\\"blocking factor\\\":2,\\\"delay factor\\\":4.0},\\\"nameSub\\\":\\\"Differential Eqs.\\\",\\\"id\\\":7,\\\"credits\\\":3,\\\"nameCanonical\\\":\\\"\\\"},{\\\"curriculum_requisites\\\":[{\\\"source_id\\\":7,\\\"target_id\\\":8,\\\"type\\\":\\\"prereq\\\"},{\\\"source_id\\\":5,\\\"target_id\\\":8,\\\"type\\\":\\\"prereq\\\"}],\\\"name\\\":\\\" \\\",\\\"metrics\\\":{\\\"centrality\\\":16,\\\"complexity\\\":7.0,\\\"blocking factor\\\":1,\\\"delay factor\\\":6.0},\\\"nameSub\\\":\\\"Circuits I\\\",\\\"id\\\":8,\\\"credits\\\":3,\\\"nameCanonical\\\":\\\"\\\"}],\\\"id\\\":3},{\\\"name\\\":\\\"Term 4\\\",\\\"curriculum_items\\\":[{\\\"curriculum_requisites\\\":[{\\\"source_id\\\":8,\\\"target_id\\\":9,\\\"type\\\":\\\"prereq\\\"}],\\\"name\\\":\\\" \\\",\\\"metrics\\\":{\\\"centrality\\\":0,\\\"complexity\\\":6.0,\\\"blocking factor\\\":0,\\\"delay factor\\\":6.0},\\\"nameSub\\\":\\\"Circuits II\\\",\\\"id\\\":9,\\\"credits\\\":3,\\\"nameCanonical\\\":\\\"\\\"}],\\\"id\\\":4}],\\\"institution\\\":\\\"\\\"}},\\\"*\\\"); window.removeEventListener(\\\"message\\\",window.messageReceived); window.messageReceived=(function (event){return (event.data.curriculum!==undefined) ? (WebIO.setval({\\\"name\\\":\\\"curriculum-data\\\",\\\"scope\\\":\\\"5443249209771029105\\\",\\\"id\\\":\\\"ob_04\\\",\\\"type\\\":\\\"observable\\\"},event.data.curriculum)) : undefined}); return window.addEventListener(\\\"message\\\",window.messageReceived)})\")),:style=>Dict(:padding=>\"0\",:height=>\"70vh\",:margin=>\"0\",:border=>\"none\",:width=>\"100%\"))), Dict{String,Tuple{Observables.AbstractObservable,Union{Nothing, Bool}}}(\"curriculum-data\"=>(Observable{Dict{String,Any}} with 1 listeners. Value:\n",
       "Dict{String,Any}(\"options\"=>Dict{String,Any}(\"hideTerms\"=>false,\"edit\"=>false),\"curriculum\"=>Dict{String,Any}(\"name\"=>\"Circuits I Design Pattern\",\"dp_name\"=>\"Calculus ready\",\"curriculum_terms\"=>Dict{String,Any}[Dict(\"name\"=>\"Term 1\",\"curriculum_items\"=>Dict{String,Any}[Dict(\"curriculum_requisites\"=>Dict{String,Any}[],\"name\"=>\" \",\"metrics\"=>Dict{String,Any}(\"centrality\"=>0,\"complexity\"=>14.0,\"blocking factor\"=>8,\"delay factor\"=>6.0),\"nameSub\"=>\"Calculus I\",\"id\"=>1,\"credits\"=>4,\"nameCanonical\"=>\"\")],\"id\"=>1), Dict(\"name\"=>\"Term 2\",\"curriculum_items\"=>Dict{String,Any}[Dict(\"curriculum_requisites\"=>Dict{String,Any}[Dict(\"source_id\"=>1,\"target_id\"=>2,\"type\"=>\"prereq\")],\"name\"=>\" \",\"metrics\"=>Dict{String,Any}(\"centrality\"=>5,\"complexity\"=>7.0,\"blocking factor\"=>3,\"delay factor\"=>4.0),\"nameSub\"=>\"Calculus II\",\"id\"=>2,\"credits\"=>4,\"nameCanonical\"=>\"\"), Dict(\"curriculum_requisites\"=>Dict{String,Any}[Dict(\"source_id\"=>1,\"target_id\"=>3,\"type\"=>\"prereq\")],\"name\"=>\" \",\"metrics\"=>Dict{String,Any}(\"centrality\"=>20,\"complexity\"=>11.0,\"blocking factor\"=>5,\"delay factor\"=>6.0),\"nameSub\"=>\"Physics I\",\"id\"=>3,\"credits\"=>3,\"nameCanonical\"=>\"\"), Dict(\"curriculum_requisites\"=>Dict{String,Any}[Dict(\"source_id\"=>3,\"target_id\"=>4,\"type\"=>\"coreq\")],\"name\"=>\" \",\"metrics\"=>Dict{String,Any}(\"centrality\"=>11,\"complexity\"=>10.0,\"blocking factor\"=>4,\"delay factor\"=>6.0),\"nameSub\"=>\"Physics I Lab\",\"id\"=>4,\"credits\"=>1,\"nameCanonical\"=>\"\")],\"id\"=>2), Dict(\"name\"=>\"Term 3\",\"curriculum_items\"=>Dict{String,Any}[Dict(\"curriculum_requisites\"=>Dict{String,Any}[Dict(\"source_id\"=>4,\"target_id\"=>5,\"type\"=>\"prereq\"), Dict(\"source_id\"=>3,\"target_id\"=>5,\"type\"=>\"prereq\")],\"name\"=>\" \",\"metrics\"=>Dict{String,Any}(\"centrality\"=>20,\"complexity\"=>9.0,\"blocking factor\"=>3,\"delay factor\"=>6.0),\"nameSub\"=>\"Physics II\",\"id\"=>5,\"credits\"=>3,\"nameCanonical\"=>\"\"), Dict(\"curriculum_requisites\"=>Dict{String,Any}[Dict(\"source_id\"=>5,\"target_id\"=>6,\"type\"=>\"coreq\")],\"name\"=>\" \",\"metrics\"=>Dict{String,Any}(\"centrality\"=>0,\"complexity\"=>5.0,\"blocking factor\"=>0,\"delay factor\"=>5.0),\"nameSub\"=>\"Physics II Lab\",\"id\"=>6,\"credits\"=>1,\"nameCanonical\"=>\"\"), Dict(\"curriculum_requisites\"=>Dict{String,Any}[Dict(\"source_id\"=>2,\"target_id\"=>7,\"type\"=>\"prereq\")],\"name\"=>\" \",\"metrics\"=>Dict{String,Any}(\"centrality\"=>5,\"complexity\"=>6.0,\"blocking factor\"=>2,\"delay factor\"=>4.0),\"nameSub\"=>\"Differential Eqs.\",\"id\"=>7,\"credits\"=>3,\"nameCanonical\"=>\"\"), Dict(\"curriculum_requisites\"=>Dict{String,Any}[Dict(\"source_id\"=>7,\"target_id\"=>8,\"type\"=>\"prereq\"), Dict(\"source_id\"=>5,\"target_id\"=>8,\"type\"=>\"prereq\")],\"name\"=>\" \",\"metrics\"=>Dict{String,Any}(\"centrality\"=>16,\"complexity\"=>7.0,\"blocking factor\"=>1,\"delay factor\"=>6.0),\"nameSub\"=>\"Circuits I\",\"id\"=>8,\"credits\"=>3,\"nameCanonical\"=>\"\")],\"id\"=>3), Dict(\"name\"=>\"Term 4\",\"curriculum_items\"=>Dict{String,Any}[Dict(\"curriculum_requisites\"=>Dict{String,Any}[Dict(\"source_id\"=>8,\"target_id\"=>9,\"type\"=>\"prereq\")],\"name\"=>\" \",\"metrics\"=>Dict{String,Any}(\"centrality\"=>0,\"complexity\"=>6.0,\"blocking factor\"=>0,\"delay factor\"=>6.0),\"nameSub\"=>\"Circuits II\",\"id\"=>9,\"credits\"=>3,\"nameCanonical\"=>\"\")],\"id\"=>4)],\"institution\"=>\"\")), nothing)), Set(String[]), nothing, WebIO.Asset[], Dict{Any,Any}(), WebIO.ConnectionPool(Channel{Any}(sz_max:32,sz_curr:0), Set(WebIO.AbstractConnection[]), Channel{WebIO.AbstractConnection}(sz_max:32,sz_curr:0)), WebIO.JSString[])"
      ]
     },
     "execution_count": 5,
     "metadata": {
      "application/vnd.webio.node+json": {
       "kernelId": "648a078a-cf92-4883-a270-432bb7a2c95f"
      }
     },
     "output_type": "execute_result"
    }
   ],
   "source": [
    "visualize(read_csv(\"EE-CalculusReady.csv\"), notebook=true, scale=0.7)"
   ]
  },
  {
   "cell_type": "markdown",
   "metadata": {},
   "source": [
    "## Circuit I Design Pattern - Adapted According to Preparation\n",
    "To learn more about the curricular reforms implemented at Wright St. University, see <cite data-cite=\"kl:13\">Klingbiel et al., (2013)</cite>"
   ]
  },
  {
   "cell_type": "code",
   "execution_count": 6,
   "metadata": {},
   "outputs": [
    {
     "data": {
      "application/vnd.webio.node+json": {
       "children": [
        {
         "children": [
          ""
         ],
         "instanceArgs": {
          "namespace": "html",
          "tag": "iframe"
         },
         "nodeType": "DOM",
         "props": {
          "events": {
           "load": "(function (){this.contentWindow.postMessage({\"options\":{\"hideTerms\":false,\"edit\":false},\"curriculum\":{\"name\":\"University of Kentucky EE Program\",\"dp_name\":\"University of Kentucky EE Program 4-year Plan\",\"curriculum_terms\":[{\"name\":\"Term 1\",\"curriculum_items\":[{\"curriculum_requisites\":[],\"name\":\"MA 108R\",\"metrics\":{\"centrality\":0,\"complexity\":29.0,\"blocking factor\":18,\"delay factor\":11.0},\"nameSub\":\"Intermediate Algebra\",\"id\":1,\"credits\":3,\"nameCanonical\":\"\"}],\"id\":1},{\"name\":\"Term 2\",\"curriculum_items\":[{\"curriculum_requisites\":[{\"source_id\":1,\"target_id\":2,\"type\":\"prereq\"}],\"name\":\"MA 109\",\"metrics\":{\"centrality\":250,\"complexity\":28.0,\"blocking factor\":17,\"delay factor\":11.0},\"nameSub\":\"College Algebra\",\"id\":2,\"credits\":3,\"nameCanonical\":\"\"}],\"id\":2},{\"name\":\"Term 3\",\"curriculum_items\":[{\"curriculum_requisites\":[{\"source_id\":2,\"target_id\":3,\"type\":\"prereq\"}],\"name\":\"MA  110\",\"metrics\":{\"centrality\":250,\"complexity\":27.0,\"blocking factor\":16,\"delay factor\":11.0},\"nameSub\":\"Algebra & Trigonometry\",\"id\":3,\"credits\":4,\"nameCanonical\":\"\"}],\"id\":3},{\"name\":\"Term 4\",\"curriculum_items\":[{\"curriculum_requisites\":[],\"name\":\"EGR 101\",\"metrics\":{\"centrality\":0,\"complexity\":1.0,\"blocking factor\":0,\"delay factor\":1.0},\"nameSub\":\"Engineering Exploration I\",\"id\":2071595408,\"credits\":1,\"nameCanonical\":\"\"},{\"curriculum_requisites\":[],\"name\":\"EGR 102\",\"metrics\":{\"centrality\":0,\"complexity\":6.0,\"blocking factor\":3,\"delay factor\":3.0},\"nameSub\":\"Fundamentals of Engineering Computing\",\"id\":502542156,\"credits\":2,\"nameCanonical\":\"\"},{\"curriculum_requisites\":[{\"source_id\":3389674827,\"target_id\":2865398329,\"type\":\"coreq\"}],\"name\":\"PHY 231\",\"metrics\":{\"centrality\":95,\"complexity\":16.0,\"blocking factor\":10,\"delay factor\":6.0},\"nameSub\":\"General University Physics\",\"id\":2865398329,\"credits\":4,\"nameCanonical\":\"\"},{\"curriculum_requisites\":[{\"source_id\":2865398329,\"target_id\":746915474,\"type\":\"coreq\"}],\"name\":\"PHY 241\",\"metrics\":{\"centrality\":0,\"complexity\":6.0,\"blocking factor\":0,\"delay factor\":6.0},\"nameSub\":\"General University Physics Lab\",\"id\":746915474,\"credits\":1,\"nameCanonical\":\"\"},{\"curriculum_requisites\":[],\"name\":\"CIS/WRD 110\",\"metrics\":{\"centrality\":0,\"complexity\":3.0,\"blocking factor\":1,\"delay factor\":2.0},\"nameSub\":\"Composition and Communication I\",\"id\":858428248,\"credits\":3,\"nameCanonical\":\"\"},{\"curriculum_requisites\":[{\"source_id\":3,\"target_id\":3389674827,\"type\":\"coreq\"}],\"name\":\"MA 113\",\"metrics\":{\"centrality\":250,\"complexity\":26.0,\"blocking factor\":15,\"delay factor\":11.0},\"nameSub\":\"Calculus I\",\"id\":3389674827,\"credits\":4,\"nameCanonical\":\"\"}],\"id\":4},{\"name\":\"Term 5\",\"curriculum_items\":[{\"curriculum_requisites\":[{\"source_id\":502542156,\"target_id\":1123828828,\"type\":\"prereq\"},{\"source_id\":3389674827,\"target_id\":1123828828,\"type\":\"coreq\"},{\"source_id\":2865398329,\"target_id\":1123828828,\"type\":\"coreq\"},{\"source_id\":738464693,\"target_id\":1123828828,\"type\":\"coreq\"}],\"name\":\"EGR 103\",\"metrics\":{\"centrality\":0,\"complexity\":6.0,\"blocking factor\":0,\"delay factor\":6.0},\"nameSub\":\"Engineering Exploration II\",\"id\":1123828828,\"credits\":2,\"nameCanonical\":\"\"},{\"curriculum_requisites\":[{\"source_id\":858428248,\"target_id\":3660518225,\"type\":\"prereq\"}],\"name\":\"CIS/WRD 111\",\"metrics\":{\"centrality\":0,\"complexity\":2.0,\"blocking factor\":0,\"delay factor\":2.0},\"nameSub\":\"Composition and Communication II\",\"id\":3660518225,\"credits\":3,\"nameCanonical\":\"\"},{\"curriculum_requisites\":[{\"source_id\":3389674827,\"target_id\":2966989896,\"type\":\"prereq\"}],\"name\":\"MA 114\",\"metrics\":{\"centrality\":150,\"complexity\":22.0,\"blocking factor\":11,\"delay factor\":11.0},\"nameSub\":\"Calculus II\",\"id\":2966989896,\"credits\":4,\"nameCanonical\":\"\"},{\"curriculum_requisites\":[],\"name\":\"CHE 105\",\"metrics\":{\"centrality\":0,\"complexity\":3.0,\"blocking factor\":1,\"delay factor\":2.0},\"nameSub\":\"General College Chemistry I\",\"id\":738464693,\"credits\":4,\"nameCanonical\":\"\"},{\"curriculum_requisites\":[],\"name\":\" \",\"metrics\":{\"centrality\":0,\"complexity\":1.0,\"blocking factor\":0,\"delay factor\":1.0},\"nameSub\":\"UK Core - Social Sciences\",\"id\":1586162741,\"credits\":3,\"nameCanonical\":\"\"}],\"id\":5},{\"name\":\"Term 6\",\"curriculum_items\":[{\"curriculum_requisites\":[{\"source_id\":2966989896,\"target_id\":2193700744,\"type\":\"prereq\"}],\"name\":\"MA 213\",\"metrics\":{\"centrality\":150,\"complexity\":21.0,\"blocking factor\":10,\"delay factor\":11.0},\"nameSub\":\"Calculus III\",\"id\":2193700744,\"credits\":4,\"nameCanonical\":\"\"},{\"curriculum_requisites\":[{\"source_id\":2865398329,\"target_id\":24551683,\"type\":\"prereq\"},{\"source_id\":2193700744,\"target_id\":24551683,\"type\":\"coreq\"}],\"name\":\"PHY 232\",\"metrics\":{\"centrality\":175,\"complexity\":18.0,\"blocking factor\":7,\"delay factor\":11.0},\"nameSub\":\"General University Physics\",\"id\":24551683,\"credits\":4,\"nameCanonical\":\"\"},{\"curriculum_requisites\":[{\"source_id\":24551683,\"target_id\":4109240503,\"type\":\"coreq\"}],\"name\":\"PHY 242\",\"metrics\":{\"centrality\":84,\"complexity\":17.0,\"blocking factor\":6,\"delay factor\":11.0},\"nameSub\":\"General University Physics Lab\",\"id\":4109240503,\"credits\":1,\"nameCanonical\":\"\"},{\"curriculum_requisites\":[{\"source_id\":24551683,\"target_id\":1017230148,\"type\":\"coreq\"},{\"source_id\":4109240503,\"target_id\":1017230148,\"type\":\"coreq\"}],\"name\":\"EE 211\",\"metrics\":{\"centrality\":160,\"complexity\":16.0,\"blocking factor\":5,\"delay factor\":11.0},\"nameSub\":\"Circuits I\",\"id\":1017230148,\"credits\":4,\"nameCanonical\":\"\"},{\"curriculum_requisites\":[{\"source_id\":502542156,\"target_id\":1416959221,\"type\":\"prereq\"}],\"name\":\"EE 282\",\"metrics\":{\"centrality\":3,\"complexity\":4.0,\"blocking factor\":1,\"delay factor\":3.0},\"nameSub\":\"Digital Logic Design\",\"id\":1416959221,\"credits\":4,\"nameCanonical\":\"\"}],\"id\":6},{\"name\":\"Term 7\",\"curriculum_items\":[{\"curriculum_requisites\":[{\"source_id\":2193700744,\"target_id\":713164423,\"type\":\"prereq\"}],\"name\":\"MA 214\",\"metrics\":{\"centrality\":44,\"complexity\":12.0,\"blocking factor\":5,\"delay factor\":7.0},\"nameSub\":\"Calculus IV\",\"id\":713164423,\"credits\":3,\"nameCanonical\":\"\"},{\"curriculum_requisites\":[{\"source_id\":1017230148,\"target_id\":2281989961,\"type\":\"prereq\"},{\"source_id\":713164423,\"target_id\":2281989961,\"type\":\"coreq\"}],\"name\":\"EE 223\",\"metrics\":{\"centrality\":196,\"complexity\":15.0,\"blocking factor\":4,\"delay factor\":11.0},\"nameSub\":\"AC Circuits\",\"id\":2281989961,\"credits\":4,\"nameCanonical\":\"\"},{\"curriculum_requisites\":[{\"source_id\":1416959221,\"target_id\":1647567702,\"type\":\"prereq\"},{\"source_id\":1332377596,\"target_id\":1647567702,\"type\":\"coreq\"}],\"name\":\"EE 287\",\"metrics\":{\"centrality\":0,\"complexity\":3.0,\"blocking factor\":0,\"delay factor\":3.0},\"nameSub\":\"Intro. to Embedded Systems\",\"id\":1647567702,\"credits\":4,\"nameCanonical\":\"\"},{\"curriculum_requisites\":[],\"name\":\"CS 215\",\"metrics\":{\"centrality\":0,\"complexity\":3.0,\"blocking factor\":1,\"delay factor\":2.0},\"nameSub\":\"Intro. to Program Design Abstraction and Problem Solving\",\"id\":1332377596,\"credits\":4,\"nameCanonical\":\"\"},{\"curriculum_requisites\":[],\"name\":\" \",\"metrics\":{\"centrality\":0,\"complexity\":1.0,\"blocking factor\":0,\"delay factor\":1.0},\"nameSub\":\"UK Core - Humanities\",\"id\":699408466,\"credits\":3,\"nameCanonical\":\"\"}],\"id\":7},{\"name\":\"Term 8\",\"curriculum_items\":[{\"curriculum_requisites\":[{\"source_id\":2281989961,\"target_id\":3945639322,\"type\":\"prereq\"},{\"source_id\":24551683,\"target_id\":3945639322,\"type\":\"prereq\"}],\"name\":\"EE 415G\",\"metrics\":{\"centrality\":0,\"complexity\":11.0,\"blocking factor\":0,\"delay factor\":11.0},\"nameSub\":\"Electromechanics\",\"id\":3945639322,\"credits\":3,\"nameCanonical\":\"\"},{\"curriculum_requisites\":[{\"source_id\":2281989961,\"target_id\":2950065960,\"type\":\"prereq\"},{\"source_id\":713164423,\"target_id\":2950065960,\"type\":\"prereq\"}],\"name\":\"EE 421G\",\"metrics\":{\"centrality\":0,\"complexity\":11.0,\"blocking factor\":0,\"delay factor\":11.0},\"nameSub\":\"Signals & Systems\",\"id\":2950065960,\"credits\":3,\"nameCanonical\":\"\"},{\"curriculum_requisites\":[],\"name\":\" \",\"metrics\":{\"centrality\":0,\"complexity\":1.0,\"blocking factor\":0,\"delay factor\":1.0},\"nameSub\":\"Elective EE Laboratory 1\",\"id\":448709314,\"credits\":2,\"nameCanonical\":\"\"},{\"curriculum_requisites\":[{\"source_id\":2281989961,\"target_id\":16242192,\"type\":\"prereq\"}],\"name\":\"EE 461G\",\"metrics\":{\"centrality\":0,\"complexity\":11.0,\"blocking factor\":0,\"delay factor\":11.0},\"nameSub\":\"Intro. to Electronics\",\"id\":16242192,\"credits\":3,\"nameCanonical\":\"\"},{\"curriculum_requisites\":[{\"source_id\":2193700744,\"target_id\":2756944549,\"type\":\"prereq\"}],\"name\":\"MA 320\",\"metrics\":{\"centrality\":0,\"complexity\":7.0,\"blocking factor\":0,\"delay factor\":7.0},\"nameSub\":\"Introductory Probability\",\"id\":2756944549,\"credits\":3,\"nameCanonical\":\"\"},{\"curriculum_requisites\":[],\"name\":\" \",\"metrics\":{\"centrality\":0,\"complexity\":1.0,\"blocking factor\":0,\"delay factor\":1.0},\"nameSub\":\"Technical Elective 1\",\"id\":3654615878,\"credits\":3,\"nameCanonical\":\"\"}],\"id\":8},{\"name\":\"Term 9\",\"curriculum_items\":[{\"curriculum_requisites\":[{\"source_id\":2281989961,\"target_id\":1400716874,\"type\":\"prereq\"},{\"source_id\":2193700744,\"target_id\":1400716874,\"type\":\"prereq\"}],\"name\":\"EE 468G\",\"metrics\":{\"centrality\":0,\"complexity\":11.0,\"blocking factor\":0,\"delay factor\":11.0},\"nameSub\":\"Intro. to Engineering Electromagnetics\",\"id\":1400716874,\"credits\":4,\"nameCanonical\":\"\"},{\"curriculum_requisites\":[],\"name\":\" \",\"metrics\":{\"centrality\":0,\"complexity\":1.0,\"blocking factor\":0,\"delay factor\":1.0},\"nameSub\":\"Elective EE Laboratory 2\",\"id\":3008452217,\"credits\":2,\"nameCanonical\":\"\"},{\"curriculum_requisites\":[],\"name\":\" \",\"metrics\":{\"centrality\":0,\"complexity\":1.0,\"blocking factor\":0,\"delay factor\":1.0},\"nameSub\":\"Engineering/Science Elective 1\",\"id\":1824271747,\"credits\":3,\"nameCanonical\":\"\"},{\"curriculum_requisites\":[],\"name\":\" \",\"metrics\":{\"centrality\":0,\"complexity\":1.0,\"blocking factor\":0,\"delay factor\":1.0},\"nameSub\":\"Technical Elective 2\",\"id\":3697264218,\"credits\":3,\"nameCanonical\":\"\"},{\"curriculum_requisites\":[],\"name\":\" \",\"metrics\":{\"centrality\":0,\"complexity\":1.0,\"blocking factor\":0,\"delay factor\":1.0},\"nameSub\":\"UK Core - Citizenship - USA\",\"id\":1496407185,\"credits\":3,\"nameCanonical\":\"\"}],\"id\":9},{\"name\":\"Term 10\",\"curriculum_items\":[{\"curriculum_requisites\":[],\"name\":\"EE 490\",\"metrics\":{\"centrality\":0,\"complexity\":3.0,\"blocking factor\":1,\"delay factor\":2.0},\"nameSub\":\"EE Capstone Design\",\"id\":1116551982,\"credits\":3,\"nameCanonical\":\"\"},{\"curriculum_requisites\":[],\"name\":\" \",\"metrics\":{\"centrality\":0,\"complexity\":1.0,\"blocking factor\":0,\"delay factor\":1.0},\"nameSub\":\"EE Technical Elective 1\",\"id\":1373040133,\"credits\":3,\"nameCanonical\":\"\"},{\"curriculum_requisites\":[],\"name\":\" \",\"metrics\":{\"centrality\":0,\"complexity\":1.0,\"blocking factor\":0,\"delay factor\":1.0},\"nameSub\":\"EE Technical Elective 2\",\"id\":2900608954,\"credits\":3,\"nameCanonical\":\"\"},{\"curriculum_requisites\":[],\"name\":\" \",\"metrics\":{\"centrality\":0,\"complexity\":1.0,\"blocking factor\":0,\"delay factor\":1.0},\"nameSub\":\"Math/Statistics Elective\",\"id\":147960851,\"credits\":3,\"nameCanonical\":\"\"},{\"curriculum_requisites\":[],\"name\":\" \",\"metrics\":{\"centrality\":0,\"complexity\":1.0,\"blocking factor\":0,\"delay factor\":1.0},\"nameSub\":\"UK Core - Global Dynamics\",\"id\":819264340,\"credits\":3,\"nameCanonical\":\"\"}],\"id\":10},{\"name\":\"Term 11\",\"curriculum_items\":[{\"curriculum_requisites\":[{\"source_id\":1116551982,\"target_id\":2674820998,\"type\":\"prereq\"}],\"name\":\"EE 491\",\"metrics\":{\"centrality\":0,\"complexity\":2.0,\"blocking factor\":0,\"delay factor\":2.0},\"nameSub\":\"EE Capstone Design\",\"id\":2674820998,\"credits\":3,\"nameCanonical\":\"\"},{\"curriculum_requisites\":[],\"name\":\" \",\"metrics\":{\"centrality\":0,\"complexity\":1.0,\"blocking factor\":0,\"delay factor\":1.0},\"nameSub\":\"EE Technical Elective 3\",\"id\":3472050261,\"credits\":3,\"nameCanonical\":\"\"},{\"curriculum_requisites\":[],\"name\":\" \",\"metrics\":{\"centrality\":0,\"complexity\":1.0,\"blocking factor\":0,\"delay factor\":1.0},\"nameSub\":\"EE Technical Elective 4\",\"id\":3141179749,\"credits\":3,\"nameCanonical\":\"\"},{\"curriculum_requisites\":[],\"name\":\" \",\"metrics\":{\"centrality\":0,\"complexity\":1.0,\"blocking factor\":0,\"delay factor\":1.0},\"nameSub\":\"Supportive Elective\",\"id\":109586583,\"credits\":3,\"nameCanonical\":\"\"},{\"curriculum_requisites\":[],\"name\":\" \",\"metrics\":{\"centrality\":0,\"complexity\":1.0,\"blocking factor\":0,\"delay factor\":1.0},\"nameSub\":\"Engineering/Science Elective 2\",\"id\":1227973603,\"credits\":3,\"nameCanonical\":\"\"},{\"curriculum_requisites\":[],\"name\":\" \",\"metrics\":{\"centrality\":0,\"complexity\":1.0,\"blocking factor\":0,\"delay factor\":1.0},\"nameSub\":\"UK Core - Statistical Inferential Reasoning\",\"id\":599971617,\"credits\":3,\"nameCanonical\":\"\"}],\"id\":11}],\"institution\":\"\"}},\"*\"); window.removeEventListener(\"message\",window.messageReceived); window.messageReceived=(function (event){return (event.data.curriculum!==undefined) ? (WebIO.setval({\"name\":\"curriculum-data\",\"scope\":\"8940734422967570559\",\"id\":\"ob_05\",\"type\":\"observable\"},event.data.curriculum)) : undefined}); return window.addEventListener(\"message\",window.messageReceived)})"
          },
          "id": "curriculum",
          "src": "http://localhost:8156",
          "style": {
           "border": "none",
           "height": "100vh",
           "margin": "0",
           "padding": "0",
           "width": "100%"
          }
         },
         "type": "node"
        }
       ],
       "instanceArgs": {
        "handlers": {},
        "id": "8940734422967570559",
        "imports": {
         "data": [],
         "type": "async_block"
        },
        "mount_callbacks": [],
        "observables": {
         "curriculum-data": {
          "id": "ob_05",
          "sync": true,
          "value": {
           "curriculum": {
            "curriculum_terms": [
             {
              "curriculum_items": [
               {
                "credits": 3,
                "curriculum_requisites": [],
                "id": 1,
                "metrics": {
                 "blocking factor": 18,
                 "centrality": 0,
                 "complexity": 29,
                 "delay factor": 11
                },
                "name": "MA 108R",
                "nameCanonical": "",
                "nameSub": "Intermediate Algebra"
               }
              ],
              "id": 1,
              "name": "Term 1"
             },
             {
              "curriculum_items": [
               {
                "credits": 3,
                "curriculum_requisites": [
                 {
                  "source_id": 1,
                  "target_id": 2,
                  "type": "prereq"
                 }
                ],
                "id": 2,
                "metrics": {
                 "blocking factor": 17,
                 "centrality": 250,
                 "complexity": 28,
                 "delay factor": 11
                },
                "name": "MA 109",
                "nameCanonical": "",
                "nameSub": "College Algebra"
               }
              ],
              "id": 2,
              "name": "Term 2"
             },
             {
              "curriculum_items": [
               {
                "credits": 4,
                "curriculum_requisites": [
                 {
                  "source_id": 2,
                  "target_id": 3,
                  "type": "prereq"
                 }
                ],
                "id": 3,
                "metrics": {
                 "blocking factor": 16,
                 "centrality": 250,
                 "complexity": 27,
                 "delay factor": 11
                },
                "name": "MA  110",
                "nameCanonical": "",
                "nameSub": "Algebra & Trigonometry"
               }
              ],
              "id": 3,
              "name": "Term 3"
             },
             {
              "curriculum_items": [
               {
                "credits": 1,
                "curriculum_requisites": [],
                "id": 2071595408,
                "metrics": {
                 "blocking factor": 0,
                 "centrality": 0,
                 "complexity": 1,
                 "delay factor": 1
                },
                "name": "EGR 101",
                "nameCanonical": "",
                "nameSub": "Engineering Exploration I"
               },
               {
                "credits": 2,
                "curriculum_requisites": [],
                "id": 502542156,
                "metrics": {
                 "blocking factor": 3,
                 "centrality": 0,
                 "complexity": 6,
                 "delay factor": 3
                },
                "name": "EGR 102",
                "nameCanonical": "",
                "nameSub": "Fundamentals of Engineering Computing"
               },
               {
                "credits": 4,
                "curriculum_requisites": [
                 {
                  "source_id": 3389674827,
                  "target_id": 2865398329,
                  "type": "coreq"
                 }
                ],
                "id": 2865398329,
                "metrics": {
                 "blocking factor": 10,
                 "centrality": 95,
                 "complexity": 16,
                 "delay factor": 6
                },
                "name": "PHY 231",
                "nameCanonical": "",
                "nameSub": "General University Physics"
               },
               {
                "credits": 1,
                "curriculum_requisites": [
                 {
                  "source_id": 2865398329,
                  "target_id": 746915474,
                  "type": "coreq"
                 }
                ],
                "id": 746915474,
                "metrics": {
                 "blocking factor": 0,
                 "centrality": 0,
                 "complexity": 6,
                 "delay factor": 6
                },
                "name": "PHY 241",
                "nameCanonical": "",
                "nameSub": "General University Physics Lab"
               },
               {
                "credits": 3,
                "curriculum_requisites": [],
                "id": 858428248,
                "metrics": {
                 "blocking factor": 1,
                 "centrality": 0,
                 "complexity": 3,
                 "delay factor": 2
                },
                "name": "CIS/WRD 110",
                "nameCanonical": "",
                "nameSub": "Composition and Communication I"
               },
               {
                "credits": 4,
                "curriculum_requisites": [
                 {
                  "source_id": 3,
                  "target_id": 3389674827,
                  "type": "coreq"
                 }
                ],
                "id": 3389674827,
                "metrics": {
                 "blocking factor": 15,
                 "centrality": 250,
                 "complexity": 26,
                 "delay factor": 11
                },
                "name": "MA 113",
                "nameCanonical": "",
                "nameSub": "Calculus I"
               }
              ],
              "id": 4,
              "name": "Term 4"
             },
             {
              "curriculum_items": [
               {
                "credits": 2,
                "curriculum_requisites": [
                 {
                  "source_id": 502542156,
                  "target_id": 1123828828,
                  "type": "prereq"
                 },
                 {
                  "source_id": 3389674827,
                  "target_id": 1123828828,
                  "type": "coreq"
                 },
                 {
                  "source_id": 2865398329,
                  "target_id": 1123828828,
                  "type": "coreq"
                 },
                 {
                  "source_id": 738464693,
                  "target_id": 1123828828,
                  "type": "coreq"
                 }
                ],
                "id": 1123828828,
                "metrics": {
                 "blocking factor": 0,
                 "centrality": 0,
                 "complexity": 6,
                 "delay factor": 6
                },
                "name": "EGR 103",
                "nameCanonical": "",
                "nameSub": "Engineering Exploration II"
               },
               {
                "credits": 3,
                "curriculum_requisites": [
                 {
                  "source_id": 858428248,
                  "target_id": 3660518225,
                  "type": "prereq"
                 }
                ],
                "id": 3660518225,
                "metrics": {
                 "blocking factor": 0,
                 "centrality": 0,
                 "complexity": 2,
                 "delay factor": 2
                },
                "name": "CIS/WRD 111",
                "nameCanonical": "",
                "nameSub": "Composition and Communication II"
               },
               {
                "credits": 4,
                "curriculum_requisites": [
                 {
                  "source_id": 3389674827,
                  "target_id": 2966989896,
                  "type": "prereq"
                 }
                ],
                "id": 2966989896,
                "metrics": {
                 "blocking factor": 11,
                 "centrality": 150,
                 "complexity": 22,
                 "delay factor": 11
                },
                "name": "MA 114",
                "nameCanonical": "",
                "nameSub": "Calculus II"
               },
               {
                "credits": 4,
                "curriculum_requisites": [],
                "id": 738464693,
                "metrics": {
                 "blocking factor": 1,
                 "centrality": 0,
                 "complexity": 3,
                 "delay factor": 2
                },
                "name": "CHE 105",
                "nameCanonical": "",
                "nameSub": "General College Chemistry I"
               },
               {
                "credits": 3,
                "curriculum_requisites": [],
                "id": 1586162741,
                "metrics": {
                 "blocking factor": 0,
                 "centrality": 0,
                 "complexity": 1,
                 "delay factor": 1
                },
                "name": " ",
                "nameCanonical": "",
                "nameSub": "UK Core - Social Sciences"
               }
              ],
              "id": 5,
              "name": "Term 5"
             },
             {
              "curriculum_items": [
               {
                "credits": 4,
                "curriculum_requisites": [
                 {
                  "source_id": 2966989896,
                  "target_id": 2193700744,
                  "type": "prereq"
                 }
                ],
                "id": 2193700744,
                "metrics": {
                 "blocking factor": 10,
                 "centrality": 150,
                 "complexity": 21,
                 "delay factor": 11
                },
                "name": "MA 213",
                "nameCanonical": "",
                "nameSub": "Calculus III"
               },
               {
                "credits": 4,
                "curriculum_requisites": [
                 {
                  "source_id": 2865398329,
                  "target_id": 24551683,
                  "type": "prereq"
                 },
                 {
                  "source_id": 2193700744,
                  "target_id": 24551683,
                  "type": "coreq"
                 }
                ],
                "id": 24551683,
                "metrics": {
                 "blocking factor": 7,
                 "centrality": 175,
                 "complexity": 18,
                 "delay factor": 11
                },
                "name": "PHY 232",
                "nameCanonical": "",
                "nameSub": "General University Physics"
               },
               {
                "credits": 1,
                "curriculum_requisites": [
                 {
                  "source_id": 24551683,
                  "target_id": 4109240503,
                  "type": "coreq"
                 }
                ],
                "id": 4109240503,
                "metrics": {
                 "blocking factor": 6,
                 "centrality": 84,
                 "complexity": 17,
                 "delay factor": 11
                },
                "name": "PHY 242",
                "nameCanonical": "",
                "nameSub": "General University Physics Lab"
               },
               {
                "credits": 4,
                "curriculum_requisites": [
                 {
                  "source_id": 24551683,
                  "target_id": 1017230148,
                  "type": "coreq"
                 },
                 {
                  "source_id": 4109240503,
                  "target_id": 1017230148,
                  "type": "coreq"
                 }
                ],
                "id": 1017230148,
                "metrics": {
                 "blocking factor": 5,
                 "centrality": 160,
                 "complexity": 16,
                 "delay factor": 11
                },
                "name": "EE 211",
                "nameCanonical": "",
                "nameSub": "Circuits I"
               },
               {
                "credits": 4,
                "curriculum_requisites": [
                 {
                  "source_id": 502542156,
                  "target_id": 1416959221,
                  "type": "prereq"
                 }
                ],
                "id": 1416959221,
                "metrics": {
                 "blocking factor": 1,
                 "centrality": 3,
                 "complexity": 4,
                 "delay factor": 3
                },
                "name": "EE 282",
                "nameCanonical": "",
                "nameSub": "Digital Logic Design"
               }
              ],
              "id": 6,
              "name": "Term 6"
             },
             {
              "curriculum_items": [
               {
                "credits": 3,
                "curriculum_requisites": [
                 {
                  "source_id": 2193700744,
                  "target_id": 713164423,
                  "type": "prereq"
                 }
                ],
                "id": 713164423,
                "metrics": {
                 "blocking factor": 5,
                 "centrality": 44,
                 "complexity": 12,
                 "delay factor": 7
                },
                "name": "MA 214",
                "nameCanonical": "",
                "nameSub": "Calculus IV"
               },
               {
                "credits": 4,
                "curriculum_requisites": [
                 {
                  "source_id": 1017230148,
                  "target_id": 2281989961,
                  "type": "prereq"
                 },
                 {
                  "source_id": 713164423,
                  "target_id": 2281989961,
                  "type": "coreq"
                 }
                ],
                "id": 2281989961,
                "metrics": {
                 "blocking factor": 4,
                 "centrality": 196,
                 "complexity": 15,
                 "delay factor": 11
                },
                "name": "EE 223",
                "nameCanonical": "",
                "nameSub": "AC Circuits"
               },
               {
                "credits": 4,
                "curriculum_requisites": [
                 {
                  "source_id": 1416959221,
                  "target_id": 1647567702,
                  "type": "prereq"
                 },
                 {
                  "source_id": 1332377596,
                  "target_id": 1647567702,
                  "type": "coreq"
                 }
                ],
                "id": 1647567702,
                "metrics": {
                 "blocking factor": 0,
                 "centrality": 0,
                 "complexity": 3,
                 "delay factor": 3
                },
                "name": "EE 287",
                "nameCanonical": "",
                "nameSub": "Intro. to Embedded Systems"
               },
               {
                "credits": 4,
                "curriculum_requisites": [],
                "id": 1332377596,
                "metrics": {
                 "blocking factor": 1,
                 "centrality": 0,
                 "complexity": 3,
                 "delay factor": 2
                },
                "name": "CS 215",
                "nameCanonical": "",
                "nameSub": "Intro. to Program Design Abstraction and Problem Solving"
               },
               {
                "credits": 3,
                "curriculum_requisites": [],
                "id": 699408466,
                "metrics": {
                 "blocking factor": 0,
                 "centrality": 0,
                 "complexity": 1,
                 "delay factor": 1
                },
                "name": " ",
                "nameCanonical": "",
                "nameSub": "UK Core - Humanities"
               }
              ],
              "id": 7,
              "name": "Term 7"
             },
             {
              "curriculum_items": [
               {
                "credits": 3,
                "curriculum_requisites": [
                 {
                  "source_id": 2281989961,
                  "target_id": 3945639322,
                  "type": "prereq"
                 },
                 {
                  "source_id": 24551683,
                  "target_id": 3945639322,
                  "type": "prereq"
                 }
                ],
                "id": 3945639322,
                "metrics": {
                 "blocking factor": 0,
                 "centrality": 0,
                 "complexity": 11,
                 "delay factor": 11
                },
                "name": "EE 415G",
                "nameCanonical": "",
                "nameSub": "Electromechanics"
               },
               {
                "credits": 3,
                "curriculum_requisites": [
                 {
                  "source_id": 2281989961,
                  "target_id": 2950065960,
                  "type": "prereq"
                 },
                 {
                  "source_id": 713164423,
                  "target_id": 2950065960,
                  "type": "prereq"
                 }
                ],
                "id": 2950065960,
                "metrics": {
                 "blocking factor": 0,
                 "centrality": 0,
                 "complexity": 11,
                 "delay factor": 11
                },
                "name": "EE 421G",
                "nameCanonical": "",
                "nameSub": "Signals & Systems"
               },
               {
                "credits": 2,
                "curriculum_requisites": [],
                "id": 448709314,
                "metrics": {
                 "blocking factor": 0,
                 "centrality": 0,
                 "complexity": 1,
                 "delay factor": 1
                },
                "name": " ",
                "nameCanonical": "",
                "nameSub": "Elective EE Laboratory 1"
               },
               {
                "credits": 3,
                "curriculum_requisites": [
                 {
                  "source_id": 2281989961,
                  "target_id": 16242192,
                  "type": "prereq"
                 }
                ],
                "id": 16242192,
                "metrics": {
                 "blocking factor": 0,
                 "centrality": 0,
                 "complexity": 11,
                 "delay factor": 11
                },
                "name": "EE 461G",
                "nameCanonical": "",
                "nameSub": "Intro. to Electronics"
               },
               {
                "credits": 3,
                "curriculum_requisites": [
                 {
                  "source_id": 2193700744,
                  "target_id": 2756944549,
                  "type": "prereq"
                 }
                ],
                "id": 2756944549,
                "metrics": {
                 "blocking factor": 0,
                 "centrality": 0,
                 "complexity": 7,
                 "delay factor": 7
                },
                "name": "MA 320",
                "nameCanonical": "",
                "nameSub": "Introductory Probability"
               },
               {
                "credits": 3,
                "curriculum_requisites": [],
                "id": 3654615878,
                "metrics": {
                 "blocking factor": 0,
                 "centrality": 0,
                 "complexity": 1,
                 "delay factor": 1
                },
                "name": " ",
                "nameCanonical": "",
                "nameSub": "Technical Elective 1"
               }
              ],
              "id": 8,
              "name": "Term 8"
             },
             {
              "curriculum_items": [
               {
                "credits": 4,
                "curriculum_requisites": [
                 {
                  "source_id": 2281989961,
                  "target_id": 1400716874,
                  "type": "prereq"
                 },
                 {
                  "source_id": 2193700744,
                  "target_id": 1400716874,
                  "type": "prereq"
                 }
                ],
                "id": 1400716874,
                "metrics": {
                 "blocking factor": 0,
                 "centrality": 0,
                 "complexity": 11,
                 "delay factor": 11
                },
                "name": "EE 468G",
                "nameCanonical": "",
                "nameSub": "Intro. to Engineering Electromagnetics"
               },
               {
                "credits": 2,
                "curriculum_requisites": [],
                "id": 3008452217,
                "metrics": {
                 "blocking factor": 0,
                 "centrality": 0,
                 "complexity": 1,
                 "delay factor": 1
                },
                "name": " ",
                "nameCanonical": "",
                "nameSub": "Elective EE Laboratory 2"
               },
               {
                "credits": 3,
                "curriculum_requisites": [],
                "id": 1824271747,
                "metrics": {
                 "blocking factor": 0,
                 "centrality": 0,
                 "complexity": 1,
                 "delay factor": 1
                },
                "name": " ",
                "nameCanonical": "",
                "nameSub": "Engineering/Science Elective 1"
               },
               {
                "credits": 3,
                "curriculum_requisites": [],
                "id": 3697264218,
                "metrics": {
                 "blocking factor": 0,
                 "centrality": 0,
                 "complexity": 1,
                 "delay factor": 1
                },
                "name": " ",
                "nameCanonical": "",
                "nameSub": "Technical Elective 2"
               },
               {
                "credits": 3,
                "curriculum_requisites": [],
                "id": 1496407185,
                "metrics": {
                 "blocking factor": 0,
                 "centrality": 0,
                 "complexity": 1,
                 "delay factor": 1
                },
                "name": " ",
                "nameCanonical": "",
                "nameSub": "UK Core - Citizenship - USA"
               }
              ],
              "id": 9,
              "name": "Term 9"
             },
             {
              "curriculum_items": [
               {
                "credits": 3,
                "curriculum_requisites": [],
                "id": 1116551982,
                "metrics": {
                 "blocking factor": 1,
                 "centrality": 0,
                 "complexity": 3,
                 "delay factor": 2
                },
                "name": "EE 490",
                "nameCanonical": "",
                "nameSub": "EE Capstone Design"
               },
               {
                "credits": 3,
                "curriculum_requisites": [],
                "id": 1373040133,
                "metrics": {
                 "blocking factor": 0,
                 "centrality": 0,
                 "complexity": 1,
                 "delay factor": 1
                },
                "name": " ",
                "nameCanonical": "",
                "nameSub": "EE Technical Elective 1"
               },
               {
                "credits": 3,
                "curriculum_requisites": [],
                "id": 2900608954,
                "metrics": {
                 "blocking factor": 0,
                 "centrality": 0,
                 "complexity": 1,
                 "delay factor": 1
                },
                "name": " ",
                "nameCanonical": "",
                "nameSub": "EE Technical Elective 2"
               },
               {
                "credits": 3,
                "curriculum_requisites": [],
                "id": 147960851,
                "metrics": {
                 "blocking factor": 0,
                 "centrality": 0,
                 "complexity": 1,
                 "delay factor": 1
                },
                "name": " ",
                "nameCanonical": "",
                "nameSub": "Math/Statistics Elective"
               },
               {
                "credits": 3,
                "curriculum_requisites": [],
                "id": 819264340,
                "metrics": {
                 "blocking factor": 0,
                 "centrality": 0,
                 "complexity": 1,
                 "delay factor": 1
                },
                "name": " ",
                "nameCanonical": "",
                "nameSub": "UK Core - Global Dynamics"
               }
              ],
              "id": 10,
              "name": "Term 10"
             },
             {
              "curriculum_items": [
               {
                "credits": 3,
                "curriculum_requisites": [
                 {
                  "source_id": 1116551982,
                  "target_id": 2674820998,
                  "type": "prereq"
                 }
                ],
                "id": 2674820998,
                "metrics": {
                 "blocking factor": 0,
                 "centrality": 0,
                 "complexity": 2,
                 "delay factor": 2
                },
                "name": "EE 491",
                "nameCanonical": "",
                "nameSub": "EE Capstone Design"
               },
               {
                "credits": 3,
                "curriculum_requisites": [],
                "id": 3472050261,
                "metrics": {
                 "blocking factor": 0,
                 "centrality": 0,
                 "complexity": 1,
                 "delay factor": 1
                },
                "name": " ",
                "nameCanonical": "",
                "nameSub": "EE Technical Elective 3"
               },
               {
                "credits": 3,
                "curriculum_requisites": [],
                "id": 3141179749,
                "metrics": {
                 "blocking factor": 0,
                 "centrality": 0,
                 "complexity": 1,
                 "delay factor": 1
                },
                "name": " ",
                "nameCanonical": "",
                "nameSub": "EE Technical Elective 4"
               },
               {
                "credits": 3,
                "curriculum_requisites": [],
                "id": 109586583,
                "metrics": {
                 "blocking factor": 0,
                 "centrality": 0,
                 "complexity": 1,
                 "delay factor": 1
                },
                "name": " ",
                "nameCanonical": "",
                "nameSub": "Supportive Elective"
               },
               {
                "credits": 3,
                "curriculum_requisites": [],
                "id": 1227973603,
                "metrics": {
                 "blocking factor": 0,
                 "centrality": 0,
                 "complexity": 1,
                 "delay factor": 1
                },
                "name": " ",
                "nameCanonical": "",
                "nameSub": "Engineering/Science Elective 2"
               },
               {
                "credits": 3,
                "curriculum_requisites": [],
                "id": 599971617,
                "metrics": {
                 "blocking factor": 0,
                 "centrality": 0,
                 "complexity": 1,
                 "delay factor": 1
                },
                "name": " ",
                "nameCanonical": "",
                "nameSub": "UK Core - Statistical Inferential Reasoning"
               }
              ],
              "id": 11,
              "name": "Term 11"
             }
            ],
            "dp_name": "University of Kentucky EE Program 4-year Plan",
            "institution": "",
            "name": "University of Kentucky EE Program"
           },
           "options": {
            "edit": false,
            "hideTerms": false
           }
          }
         }
        },
        "systemjs_options": null
       },
       "nodeType": "Scope",
       "props": {},
       "type": "node"
      },
      "text/html": [
       "<div\n",
       "    class=\"webio-mountpoint\"\n",
       "    data-webio-mountpoint=\"3113303546596310800\"\n",
       ">\n",
       "    <script>\n",
       "    if (window.require && require.defined && require.defined(\"nbextensions/webio/main\")) {\n",
       "        console.log(\"Jupyter WebIO extension detected, not mounting.\");\n",
       "    } else if (window.WebIO) {\n",
       "        WebIO.mount(\n",
       "            document.querySelector('[data-webio-mountpoint=\"3113303546596310800\"]'),\n",
       "            {\"props\":{},\"nodeType\":\"Scope\",\"type\":\"node\",\"instanceArgs\":{\"imports\":{\"data\":[],\"type\":\"async_block\"},\"id\":\"8940734422967570559\",\"handlers\":{},\"systemjs_options\":null,\"mount_callbacks\":[],\"observables\":{\"curriculum-data\":{\"sync\":true,\"id\":\"ob_05\",\"value\":{\"options\":{\"hideTerms\":false,\"edit\":false},\"curriculum\":{\"name\":\"University of Kentucky EE Program\",\"dp_name\":\"University of Kentucky EE Program 4-year Plan\",\"curriculum_terms\":[{\"name\":\"Term 1\",\"curriculum_items\":[{\"curriculum_requisites\":[],\"name\":\"MA 108R\",\"metrics\":{\"centrality\":0,\"complexity\":29.0,\"blocking factor\":18,\"delay factor\":11.0},\"nameSub\":\"Intermediate Algebra\",\"id\":1,\"credits\":3,\"nameCanonical\":\"\"}],\"id\":1},{\"name\":\"Term 2\",\"curriculum_items\":[{\"curriculum_requisites\":[{\"source_id\":1,\"target_id\":2,\"type\":\"prereq\"}],\"name\":\"MA 109\",\"metrics\":{\"centrality\":250,\"complexity\":28.0,\"blocking factor\":17,\"delay factor\":11.0},\"nameSub\":\"College Algebra\",\"id\":2,\"credits\":3,\"nameCanonical\":\"\"}],\"id\":2},{\"name\":\"Term 3\",\"curriculum_items\":[{\"curriculum_requisites\":[{\"source_id\":2,\"target_id\":3,\"type\":\"prereq\"}],\"name\":\"MA  110\",\"metrics\":{\"centrality\":250,\"complexity\":27.0,\"blocking factor\":16,\"delay factor\":11.0},\"nameSub\":\"Algebra & Trigonometry\",\"id\":3,\"credits\":4,\"nameCanonical\":\"\"}],\"id\":3},{\"name\":\"Term 4\",\"curriculum_items\":[{\"curriculum_requisites\":[],\"name\":\"EGR 101\",\"metrics\":{\"centrality\":0,\"complexity\":1.0,\"blocking factor\":0,\"delay factor\":1.0},\"nameSub\":\"Engineering Exploration I\",\"id\":2071595408,\"credits\":1,\"nameCanonical\":\"\"},{\"curriculum_requisites\":[],\"name\":\"EGR 102\",\"metrics\":{\"centrality\":0,\"complexity\":6.0,\"blocking factor\":3,\"delay factor\":3.0},\"nameSub\":\"Fundamentals of Engineering Computing\",\"id\":502542156,\"credits\":2,\"nameCanonical\":\"\"},{\"curriculum_requisites\":[{\"source_id\":3389674827,\"target_id\":2865398329,\"type\":\"coreq\"}],\"name\":\"PHY 231\",\"metrics\":{\"centrality\":95,\"complexity\":16.0,\"blocking factor\":10,\"delay factor\":6.0},\"nameSub\":\"General University Physics\",\"id\":2865398329,\"credits\":4,\"nameCanonical\":\"\"},{\"curriculum_requisites\":[{\"source_id\":2865398329,\"target_id\":746915474,\"type\":\"coreq\"}],\"name\":\"PHY 241\",\"metrics\":{\"centrality\":0,\"complexity\":6.0,\"blocking factor\":0,\"delay factor\":6.0},\"nameSub\":\"General University Physics Lab\",\"id\":746915474,\"credits\":1,\"nameCanonical\":\"\"},{\"curriculum_requisites\":[],\"name\":\"CIS\\/WRD 110\",\"metrics\":{\"centrality\":0,\"complexity\":3.0,\"blocking factor\":1,\"delay factor\":2.0},\"nameSub\":\"Composition and Communication I\",\"id\":858428248,\"credits\":3,\"nameCanonical\":\"\"},{\"curriculum_requisites\":[{\"source_id\":3,\"target_id\":3389674827,\"type\":\"coreq\"}],\"name\":\"MA 113\",\"metrics\":{\"centrality\":250,\"complexity\":26.0,\"blocking factor\":15,\"delay factor\":11.0},\"nameSub\":\"Calculus I\",\"id\":3389674827,\"credits\":4,\"nameCanonical\":\"\"}],\"id\":4},{\"name\":\"Term 5\",\"curriculum_items\":[{\"curriculum_requisites\":[{\"source_id\":502542156,\"target_id\":1123828828,\"type\":\"prereq\"},{\"source_id\":3389674827,\"target_id\":1123828828,\"type\":\"coreq\"},{\"source_id\":2865398329,\"target_id\":1123828828,\"type\":\"coreq\"},{\"source_id\":738464693,\"target_id\":1123828828,\"type\":\"coreq\"}],\"name\":\"EGR 103\",\"metrics\":{\"centrality\":0,\"complexity\":6.0,\"blocking factor\":0,\"delay factor\":6.0},\"nameSub\":\"Engineering Exploration II\",\"id\":1123828828,\"credits\":2,\"nameCanonical\":\"\"},{\"curriculum_requisites\":[{\"source_id\":858428248,\"target_id\":3660518225,\"type\":\"prereq\"}],\"name\":\"CIS\\/WRD 111\",\"metrics\":{\"centrality\":0,\"complexity\":2.0,\"blocking factor\":0,\"delay factor\":2.0},\"nameSub\":\"Composition and Communication II\",\"id\":3660518225,\"credits\":3,\"nameCanonical\":\"\"},{\"curriculum_requisites\":[{\"source_id\":3389674827,\"target_id\":2966989896,\"type\":\"prereq\"}],\"name\":\"MA 114\",\"metrics\":{\"centrality\":150,\"complexity\":22.0,\"blocking factor\":11,\"delay factor\":11.0},\"nameSub\":\"Calculus II\",\"id\":2966989896,\"credits\":4,\"nameCanonical\":\"\"},{\"curriculum_requisites\":[],\"name\":\"CHE 105\",\"metrics\":{\"centrality\":0,\"complexity\":3.0,\"blocking factor\":1,\"delay factor\":2.0},\"nameSub\":\"General College Chemistry I\",\"id\":738464693,\"credits\":4,\"nameCanonical\":\"\"},{\"curriculum_requisites\":[],\"name\":\" \",\"metrics\":{\"centrality\":0,\"complexity\":1.0,\"blocking factor\":0,\"delay factor\":1.0},\"nameSub\":\"UK Core - Social Sciences\",\"id\":1586162741,\"credits\":3,\"nameCanonical\":\"\"}],\"id\":5},{\"name\":\"Term 6\",\"curriculum_items\":[{\"curriculum_requisites\":[{\"source_id\":2966989896,\"target_id\":2193700744,\"type\":\"prereq\"}],\"name\":\"MA 213\",\"metrics\":{\"centrality\":150,\"complexity\":21.0,\"blocking factor\":10,\"delay factor\":11.0},\"nameSub\":\"Calculus III\",\"id\":2193700744,\"credits\":4,\"nameCanonical\":\"\"},{\"curriculum_requisites\":[{\"source_id\":2865398329,\"target_id\":24551683,\"type\":\"prereq\"},{\"source_id\":2193700744,\"target_id\":24551683,\"type\":\"coreq\"}],\"name\":\"PHY 232\",\"metrics\":{\"centrality\":175,\"complexity\":18.0,\"blocking factor\":7,\"delay factor\":11.0},\"nameSub\":\"General University Physics\",\"id\":24551683,\"credits\":4,\"nameCanonical\":\"\"},{\"curriculum_requisites\":[{\"source_id\":24551683,\"target_id\":4109240503,\"type\":\"coreq\"}],\"name\":\"PHY 242\",\"metrics\":{\"centrality\":84,\"complexity\":17.0,\"blocking factor\":6,\"delay factor\":11.0},\"nameSub\":\"General University Physics Lab\",\"id\":4109240503,\"credits\":1,\"nameCanonical\":\"\"},{\"curriculum_requisites\":[{\"source_id\":24551683,\"target_id\":1017230148,\"type\":\"coreq\"},{\"source_id\":4109240503,\"target_id\":1017230148,\"type\":\"coreq\"}],\"name\":\"EE 211\",\"metrics\":{\"centrality\":160,\"complexity\":16.0,\"blocking factor\":5,\"delay factor\":11.0},\"nameSub\":\"Circuits I\",\"id\":1017230148,\"credits\":4,\"nameCanonical\":\"\"},{\"curriculum_requisites\":[{\"source_id\":502542156,\"target_id\":1416959221,\"type\":\"prereq\"}],\"name\":\"EE 282\",\"metrics\":{\"centrality\":3,\"complexity\":4.0,\"blocking factor\":1,\"delay factor\":3.0},\"nameSub\":\"Digital Logic Design\",\"id\":1416959221,\"credits\":4,\"nameCanonical\":\"\"}],\"id\":6},{\"name\":\"Term 7\",\"curriculum_items\":[{\"curriculum_requisites\":[{\"source_id\":2193700744,\"target_id\":713164423,\"type\":\"prereq\"}],\"name\":\"MA 214\",\"metrics\":{\"centrality\":44,\"complexity\":12.0,\"blocking factor\":5,\"delay factor\":7.0},\"nameSub\":\"Calculus IV\",\"id\":713164423,\"credits\":3,\"nameCanonical\":\"\"},{\"curriculum_requisites\":[{\"source_id\":1017230148,\"target_id\":2281989961,\"type\":\"prereq\"},{\"source_id\":713164423,\"target_id\":2281989961,\"type\":\"coreq\"}],\"name\":\"EE 223\",\"metrics\":{\"centrality\":196,\"complexity\":15.0,\"blocking factor\":4,\"delay factor\":11.0},\"nameSub\":\"AC Circuits\",\"id\":2281989961,\"credits\":4,\"nameCanonical\":\"\"},{\"curriculum_requisites\":[{\"source_id\":1416959221,\"target_id\":1647567702,\"type\":\"prereq\"},{\"source_id\":1332377596,\"target_id\":1647567702,\"type\":\"coreq\"}],\"name\":\"EE 287\",\"metrics\":{\"centrality\":0,\"complexity\":3.0,\"blocking factor\":0,\"delay factor\":3.0},\"nameSub\":\"Intro. to Embedded Systems\",\"id\":1647567702,\"credits\":4,\"nameCanonical\":\"\"},{\"curriculum_requisites\":[],\"name\":\"CS 215\",\"metrics\":{\"centrality\":0,\"complexity\":3.0,\"blocking factor\":1,\"delay factor\":2.0},\"nameSub\":\"Intro. to Program Design Abstraction and Problem Solving\",\"id\":1332377596,\"credits\":4,\"nameCanonical\":\"\"},{\"curriculum_requisites\":[],\"name\":\" \",\"metrics\":{\"centrality\":0,\"complexity\":1.0,\"blocking factor\":0,\"delay factor\":1.0},\"nameSub\":\"UK Core - Humanities\",\"id\":699408466,\"credits\":3,\"nameCanonical\":\"\"}],\"id\":7},{\"name\":\"Term 8\",\"curriculum_items\":[{\"curriculum_requisites\":[{\"source_id\":2281989961,\"target_id\":3945639322,\"type\":\"prereq\"},{\"source_id\":24551683,\"target_id\":3945639322,\"type\":\"prereq\"}],\"name\":\"EE 415G\",\"metrics\":{\"centrality\":0,\"complexity\":11.0,\"blocking factor\":0,\"delay factor\":11.0},\"nameSub\":\"Electromechanics\",\"id\":3945639322,\"credits\":3,\"nameCanonical\":\"\"},{\"curriculum_requisites\":[{\"source_id\":2281989961,\"target_id\":2950065960,\"type\":\"prereq\"},{\"source_id\":713164423,\"target_id\":2950065960,\"type\":\"prereq\"}],\"name\":\"EE 421G\",\"metrics\":{\"centrality\":0,\"complexity\":11.0,\"blocking factor\":0,\"delay factor\":11.0},\"nameSub\":\"Signals & Systems\",\"id\":2950065960,\"credits\":3,\"nameCanonical\":\"\"},{\"curriculum_requisites\":[],\"name\":\" \",\"metrics\":{\"centrality\":0,\"complexity\":1.0,\"blocking factor\":0,\"delay factor\":1.0},\"nameSub\":\"Elective EE Laboratory 1\",\"id\":448709314,\"credits\":2,\"nameCanonical\":\"\"},{\"curriculum_requisites\":[{\"source_id\":2281989961,\"target_id\":16242192,\"type\":\"prereq\"}],\"name\":\"EE 461G\",\"metrics\":{\"centrality\":0,\"complexity\":11.0,\"blocking factor\":0,\"delay factor\":11.0},\"nameSub\":\"Intro. to Electronics\",\"id\":16242192,\"credits\":3,\"nameCanonical\":\"\"},{\"curriculum_requisites\":[{\"source_id\":2193700744,\"target_id\":2756944549,\"type\":\"prereq\"}],\"name\":\"MA 320\",\"metrics\":{\"centrality\":0,\"complexity\":7.0,\"blocking factor\":0,\"delay factor\":7.0},\"nameSub\":\"Introductory Probability\",\"id\":2756944549,\"credits\":3,\"nameCanonical\":\"\"},{\"curriculum_requisites\":[],\"name\":\" \",\"metrics\":{\"centrality\":0,\"complexity\":1.0,\"blocking factor\":0,\"delay factor\":1.0},\"nameSub\":\"Technical Elective 1\",\"id\":3654615878,\"credits\":3,\"nameCanonical\":\"\"}],\"id\":8},{\"name\":\"Term 9\",\"curriculum_items\":[{\"curriculum_requisites\":[{\"source_id\":2281989961,\"target_id\":1400716874,\"type\":\"prereq\"},{\"source_id\":2193700744,\"target_id\":1400716874,\"type\":\"prereq\"}],\"name\":\"EE 468G\",\"metrics\":{\"centrality\":0,\"complexity\":11.0,\"blocking factor\":0,\"delay factor\":11.0},\"nameSub\":\"Intro. to Engineering Electromagnetics\",\"id\":1400716874,\"credits\":4,\"nameCanonical\":\"\"},{\"curriculum_requisites\":[],\"name\":\" \",\"metrics\":{\"centrality\":0,\"complexity\":1.0,\"blocking factor\":0,\"delay factor\":1.0},\"nameSub\":\"Elective EE Laboratory 2\",\"id\":3008452217,\"credits\":2,\"nameCanonical\":\"\"},{\"curriculum_requisites\":[],\"name\":\" \",\"metrics\":{\"centrality\":0,\"complexity\":1.0,\"blocking factor\":0,\"delay factor\":1.0},\"nameSub\":\"Engineering\\/Science Elective 1\",\"id\":1824271747,\"credits\":3,\"nameCanonical\":\"\"},{\"curriculum_requisites\":[],\"name\":\" \",\"metrics\":{\"centrality\":0,\"complexity\":1.0,\"blocking factor\":0,\"delay factor\":1.0},\"nameSub\":\"Technical Elective 2\",\"id\":3697264218,\"credits\":3,\"nameCanonical\":\"\"},{\"curriculum_requisites\":[],\"name\":\" \",\"metrics\":{\"centrality\":0,\"complexity\":1.0,\"blocking factor\":0,\"delay factor\":1.0},\"nameSub\":\"UK Core - Citizenship - USA\",\"id\":1496407185,\"credits\":3,\"nameCanonical\":\"\"}],\"id\":9},{\"name\":\"Term 10\",\"curriculum_items\":[{\"curriculum_requisites\":[],\"name\":\"EE 490\",\"metrics\":{\"centrality\":0,\"complexity\":3.0,\"blocking factor\":1,\"delay factor\":2.0},\"nameSub\":\"EE Capstone Design\",\"id\":1116551982,\"credits\":3,\"nameCanonical\":\"\"},{\"curriculum_requisites\":[],\"name\":\" \",\"metrics\":{\"centrality\":0,\"complexity\":1.0,\"blocking factor\":0,\"delay factor\":1.0},\"nameSub\":\"EE Technical Elective 1\",\"id\":1373040133,\"credits\":3,\"nameCanonical\":\"\"},{\"curriculum_requisites\":[],\"name\":\" \",\"metrics\":{\"centrality\":0,\"complexity\":1.0,\"blocking factor\":0,\"delay factor\":1.0},\"nameSub\":\"EE Technical Elective 2\",\"id\":2900608954,\"credits\":3,\"nameCanonical\":\"\"},{\"curriculum_requisites\":[],\"name\":\" \",\"metrics\":{\"centrality\":0,\"complexity\":1.0,\"blocking factor\":0,\"delay factor\":1.0},\"nameSub\":\"Math\\/Statistics Elective\",\"id\":147960851,\"credits\":3,\"nameCanonical\":\"\"},{\"curriculum_requisites\":[],\"name\":\" \",\"metrics\":{\"centrality\":0,\"complexity\":1.0,\"blocking factor\":0,\"delay factor\":1.0},\"nameSub\":\"UK Core - Global Dynamics\",\"id\":819264340,\"credits\":3,\"nameCanonical\":\"\"}],\"id\":10},{\"name\":\"Term 11\",\"curriculum_items\":[{\"curriculum_requisites\":[{\"source_id\":1116551982,\"target_id\":2674820998,\"type\":\"prereq\"}],\"name\":\"EE 491\",\"metrics\":{\"centrality\":0,\"complexity\":2.0,\"blocking factor\":0,\"delay factor\":2.0},\"nameSub\":\"EE Capstone Design\",\"id\":2674820998,\"credits\":3,\"nameCanonical\":\"\"},{\"curriculum_requisites\":[],\"name\":\" \",\"metrics\":{\"centrality\":0,\"complexity\":1.0,\"blocking factor\":0,\"delay factor\":1.0},\"nameSub\":\"EE Technical Elective 3\",\"id\":3472050261,\"credits\":3,\"nameCanonical\":\"\"},{\"curriculum_requisites\":[],\"name\":\" \",\"metrics\":{\"centrality\":0,\"complexity\":1.0,\"blocking factor\":0,\"delay factor\":1.0},\"nameSub\":\"EE Technical Elective 4\",\"id\":3141179749,\"credits\":3,\"nameCanonical\":\"\"},{\"curriculum_requisites\":[],\"name\":\" \",\"metrics\":{\"centrality\":0,\"complexity\":1.0,\"blocking factor\":0,\"delay factor\":1.0},\"nameSub\":\"Supportive Elective\",\"id\":109586583,\"credits\":3,\"nameCanonical\":\"\"},{\"curriculum_requisites\":[],\"name\":\" \",\"metrics\":{\"centrality\":0,\"complexity\":1.0,\"blocking factor\":0,\"delay factor\":1.0},\"nameSub\":\"Engineering\\/Science Elective 2\",\"id\":1227973603,\"credits\":3,\"nameCanonical\":\"\"},{\"curriculum_requisites\":[],\"name\":\" \",\"metrics\":{\"centrality\":0,\"complexity\":1.0,\"blocking factor\":0,\"delay factor\":1.0},\"nameSub\":\"UK Core - Statistical Inferential Reasoning\",\"id\":599971617,\"credits\":3,\"nameCanonical\":\"\"}],\"id\":11}],\"institution\":\"\"}}}}},\"children\":[{\"props\":{\"src\":\"http:\\/\\/localhost:8156\",\"id\":\"curriculum\",\"events\":{\"load\":\"(function (){this.contentWindow.postMessage({\\\"options\\\":{\\\"hideTerms\\\":false,\\\"edit\\\":false},\\\"curriculum\\\":{\\\"name\\\":\\\"University of Kentucky EE Program\\\",\\\"dp_name\\\":\\\"University of Kentucky EE Program 4-year Plan\\\",\\\"curriculum_terms\\\":[{\\\"name\\\":\\\"Term 1\\\",\\\"curriculum_items\\\":[{\\\"curriculum_requisites\\\":[],\\\"name\\\":\\\"MA 108R\\\",\\\"metrics\\\":{\\\"centrality\\\":0,\\\"complexity\\\":29.0,\\\"blocking factor\\\":18,\\\"delay factor\\\":11.0},\\\"nameSub\\\":\\\"Intermediate Algebra\\\",\\\"id\\\":1,\\\"credits\\\":3,\\\"nameCanonical\\\":\\\"\\\"}],\\\"id\\\":1},{\\\"name\\\":\\\"Term 2\\\",\\\"curriculum_items\\\":[{\\\"curriculum_requisites\\\":[{\\\"source_id\\\":1,\\\"target_id\\\":2,\\\"type\\\":\\\"prereq\\\"}],\\\"name\\\":\\\"MA 109\\\",\\\"metrics\\\":{\\\"centrality\\\":250,\\\"complexity\\\":28.0,\\\"blocking factor\\\":17,\\\"delay factor\\\":11.0},\\\"nameSub\\\":\\\"College Algebra\\\",\\\"id\\\":2,\\\"credits\\\":3,\\\"nameCanonical\\\":\\\"\\\"}],\\\"id\\\":2},{\\\"name\\\":\\\"Term 3\\\",\\\"curriculum_items\\\":[{\\\"curriculum_requisites\\\":[{\\\"source_id\\\":2,\\\"target_id\\\":3,\\\"type\\\":\\\"prereq\\\"}],\\\"name\\\":\\\"MA  110\\\",\\\"metrics\\\":{\\\"centrality\\\":250,\\\"complexity\\\":27.0,\\\"blocking factor\\\":16,\\\"delay factor\\\":11.0},\\\"nameSub\\\":\\\"Algebra & Trigonometry\\\",\\\"id\\\":3,\\\"credits\\\":4,\\\"nameCanonical\\\":\\\"\\\"}],\\\"id\\\":3},{\\\"name\\\":\\\"Term 4\\\",\\\"curriculum_items\\\":[{\\\"curriculum_requisites\\\":[],\\\"name\\\":\\\"EGR 101\\\",\\\"metrics\\\":{\\\"centrality\\\":0,\\\"complexity\\\":1.0,\\\"blocking factor\\\":0,\\\"delay factor\\\":1.0},\\\"nameSub\\\":\\\"Engineering Exploration I\\\",\\\"id\\\":2071595408,\\\"credits\\\":1,\\\"nameCanonical\\\":\\\"\\\"},{\\\"curriculum_requisites\\\":[],\\\"name\\\":\\\"EGR 102\\\",\\\"metrics\\\":{\\\"centrality\\\":0,\\\"complexity\\\":6.0,\\\"blocking factor\\\":3,\\\"delay factor\\\":3.0},\\\"nameSub\\\":\\\"Fundamentals of Engineering Computing\\\",\\\"id\\\":502542156,\\\"credits\\\":2,\\\"nameCanonical\\\":\\\"\\\"},{\\\"curriculum_requisites\\\":[{\\\"source_id\\\":3389674827,\\\"target_id\\\":2865398329,\\\"type\\\":\\\"coreq\\\"}],\\\"name\\\":\\\"PHY 231\\\",\\\"metrics\\\":{\\\"centrality\\\":95,\\\"complexity\\\":16.0,\\\"blocking factor\\\":10,\\\"delay factor\\\":6.0},\\\"nameSub\\\":\\\"General University Physics\\\",\\\"id\\\":2865398329,\\\"credits\\\":4,\\\"nameCanonical\\\":\\\"\\\"},{\\\"curriculum_requisites\\\":[{\\\"source_id\\\":2865398329,\\\"target_id\\\":746915474,\\\"type\\\":\\\"coreq\\\"}],\\\"name\\\":\\\"PHY 241\\\",\\\"metrics\\\":{\\\"centrality\\\":0,\\\"complexity\\\":6.0,\\\"blocking factor\\\":0,\\\"delay factor\\\":6.0},\\\"nameSub\\\":\\\"General University Physics Lab\\\",\\\"id\\\":746915474,\\\"credits\\\":1,\\\"nameCanonical\\\":\\\"\\\"},{\\\"curriculum_requisites\\\":[],\\\"name\\\":\\\"CIS\\/WRD 110\\\",\\\"metrics\\\":{\\\"centrality\\\":0,\\\"complexity\\\":3.0,\\\"blocking factor\\\":1,\\\"delay factor\\\":2.0},\\\"nameSub\\\":\\\"Composition and Communication I\\\",\\\"id\\\":858428248,\\\"credits\\\":3,\\\"nameCanonical\\\":\\\"\\\"},{\\\"curriculum_requisites\\\":[{\\\"source_id\\\":3,\\\"target_id\\\":3389674827,\\\"type\\\":\\\"coreq\\\"}],\\\"name\\\":\\\"MA 113\\\",\\\"metrics\\\":{\\\"centrality\\\":250,\\\"complexity\\\":26.0,\\\"blocking factor\\\":15,\\\"delay factor\\\":11.0},\\\"nameSub\\\":\\\"Calculus I\\\",\\\"id\\\":3389674827,\\\"credits\\\":4,\\\"nameCanonical\\\":\\\"\\\"}],\\\"id\\\":4},{\\\"name\\\":\\\"Term 5\\\",\\\"curriculum_items\\\":[{\\\"curriculum_requisites\\\":[{\\\"source_id\\\":502542156,\\\"target_id\\\":1123828828,\\\"type\\\":\\\"prereq\\\"},{\\\"source_id\\\":3389674827,\\\"target_id\\\":1123828828,\\\"type\\\":\\\"coreq\\\"},{\\\"source_id\\\":2865398329,\\\"target_id\\\":1123828828,\\\"type\\\":\\\"coreq\\\"},{\\\"source_id\\\":738464693,\\\"target_id\\\":1123828828,\\\"type\\\":\\\"coreq\\\"}],\\\"name\\\":\\\"EGR 103\\\",\\\"metrics\\\":{\\\"centrality\\\":0,\\\"complexity\\\":6.0,\\\"blocking factor\\\":0,\\\"delay factor\\\":6.0},\\\"nameSub\\\":\\\"Engineering Exploration II\\\",\\\"id\\\":1123828828,\\\"credits\\\":2,\\\"nameCanonical\\\":\\\"\\\"},{\\\"curriculum_requisites\\\":[{\\\"source_id\\\":858428248,\\\"target_id\\\":3660518225,\\\"type\\\":\\\"prereq\\\"}],\\\"name\\\":\\\"CIS\\/WRD 111\\\",\\\"metrics\\\":{\\\"centrality\\\":0,\\\"complexity\\\":2.0,\\\"blocking factor\\\":0,\\\"delay factor\\\":2.0},\\\"nameSub\\\":\\\"Composition and Communication II\\\",\\\"id\\\":3660518225,\\\"credits\\\":3,\\\"nameCanonical\\\":\\\"\\\"},{\\\"curriculum_requisites\\\":[{\\\"source_id\\\":3389674827,\\\"target_id\\\":2966989896,\\\"type\\\":\\\"prereq\\\"}],\\\"name\\\":\\\"MA 114\\\",\\\"metrics\\\":{\\\"centrality\\\":150,\\\"complexity\\\":22.0,\\\"blocking factor\\\":11,\\\"delay factor\\\":11.0},\\\"nameSub\\\":\\\"Calculus II\\\",\\\"id\\\":2966989896,\\\"credits\\\":4,\\\"nameCanonical\\\":\\\"\\\"},{\\\"curriculum_requisites\\\":[],\\\"name\\\":\\\"CHE 105\\\",\\\"metrics\\\":{\\\"centrality\\\":0,\\\"complexity\\\":3.0,\\\"blocking factor\\\":1,\\\"delay factor\\\":2.0},\\\"nameSub\\\":\\\"General College Chemistry I\\\",\\\"id\\\":738464693,\\\"credits\\\":4,\\\"nameCanonical\\\":\\\"\\\"},{\\\"curriculum_requisites\\\":[],\\\"name\\\":\\\" \\\",\\\"metrics\\\":{\\\"centrality\\\":0,\\\"complexity\\\":1.0,\\\"blocking factor\\\":0,\\\"delay factor\\\":1.0},\\\"nameSub\\\":\\\"UK Core - Social Sciences\\\",\\\"id\\\":1586162741,\\\"credits\\\":3,\\\"nameCanonical\\\":\\\"\\\"}],\\\"id\\\":5},{\\\"name\\\":\\\"Term 6\\\",\\\"curriculum_items\\\":[{\\\"curriculum_requisites\\\":[{\\\"source_id\\\":2966989896,\\\"target_id\\\":2193700744,\\\"type\\\":\\\"prereq\\\"}],\\\"name\\\":\\\"MA 213\\\",\\\"metrics\\\":{\\\"centrality\\\":150,\\\"complexity\\\":21.0,\\\"blocking factor\\\":10,\\\"delay factor\\\":11.0},\\\"nameSub\\\":\\\"Calculus III\\\",\\\"id\\\":2193700744,\\\"credits\\\":4,\\\"nameCanonical\\\":\\\"\\\"},{\\\"curriculum_requisites\\\":[{\\\"source_id\\\":2865398329,\\\"target_id\\\":24551683,\\\"type\\\":\\\"prereq\\\"},{\\\"source_id\\\":2193700744,\\\"target_id\\\":24551683,\\\"type\\\":\\\"coreq\\\"}],\\\"name\\\":\\\"PHY 232\\\",\\\"metrics\\\":{\\\"centrality\\\":175,\\\"complexity\\\":18.0,\\\"blocking factor\\\":7,\\\"delay factor\\\":11.0},\\\"nameSub\\\":\\\"General University Physics\\\",\\\"id\\\":24551683,\\\"credits\\\":4,\\\"nameCanonical\\\":\\\"\\\"},{\\\"curriculum_requisites\\\":[{\\\"source_id\\\":24551683,\\\"target_id\\\":4109240503,\\\"type\\\":\\\"coreq\\\"}],\\\"name\\\":\\\"PHY 242\\\",\\\"metrics\\\":{\\\"centrality\\\":84,\\\"complexity\\\":17.0,\\\"blocking factor\\\":6,\\\"delay factor\\\":11.0},\\\"nameSub\\\":\\\"General University Physics Lab\\\",\\\"id\\\":4109240503,\\\"credits\\\":1,\\\"nameCanonical\\\":\\\"\\\"},{\\\"curriculum_requisites\\\":[{\\\"source_id\\\":24551683,\\\"target_id\\\":1017230148,\\\"type\\\":\\\"coreq\\\"},{\\\"source_id\\\":4109240503,\\\"target_id\\\":1017230148,\\\"type\\\":\\\"coreq\\\"}],\\\"name\\\":\\\"EE 211\\\",\\\"metrics\\\":{\\\"centrality\\\":160,\\\"complexity\\\":16.0,\\\"blocking factor\\\":5,\\\"delay factor\\\":11.0},\\\"nameSub\\\":\\\"Circuits I\\\",\\\"id\\\":1017230148,\\\"credits\\\":4,\\\"nameCanonical\\\":\\\"\\\"},{\\\"curriculum_requisites\\\":[{\\\"source_id\\\":502542156,\\\"target_id\\\":1416959221,\\\"type\\\":\\\"prereq\\\"}],\\\"name\\\":\\\"EE 282\\\",\\\"metrics\\\":{\\\"centrality\\\":3,\\\"complexity\\\":4.0,\\\"blocking factor\\\":1,\\\"delay factor\\\":3.0},\\\"nameSub\\\":\\\"Digital Logic Design\\\",\\\"id\\\":1416959221,\\\"credits\\\":4,\\\"nameCanonical\\\":\\\"\\\"}],\\\"id\\\":6},{\\\"name\\\":\\\"Term 7\\\",\\\"curriculum_items\\\":[{\\\"curriculum_requisites\\\":[{\\\"source_id\\\":2193700744,\\\"target_id\\\":713164423,\\\"type\\\":\\\"prereq\\\"}],\\\"name\\\":\\\"MA 214\\\",\\\"metrics\\\":{\\\"centrality\\\":44,\\\"complexity\\\":12.0,\\\"blocking factor\\\":5,\\\"delay factor\\\":7.0},\\\"nameSub\\\":\\\"Calculus IV\\\",\\\"id\\\":713164423,\\\"credits\\\":3,\\\"nameCanonical\\\":\\\"\\\"},{\\\"curriculum_requisites\\\":[{\\\"source_id\\\":1017230148,\\\"target_id\\\":2281989961,\\\"type\\\":\\\"prereq\\\"},{\\\"source_id\\\":713164423,\\\"target_id\\\":2281989961,\\\"type\\\":\\\"coreq\\\"}],\\\"name\\\":\\\"EE 223\\\",\\\"metrics\\\":{\\\"centrality\\\":196,\\\"complexity\\\":15.0,\\\"blocking factor\\\":4,\\\"delay factor\\\":11.0},\\\"nameSub\\\":\\\"AC Circuits\\\",\\\"id\\\":2281989961,\\\"credits\\\":4,\\\"nameCanonical\\\":\\\"\\\"},{\\\"curriculum_requisites\\\":[{\\\"source_id\\\":1416959221,\\\"target_id\\\":1647567702,\\\"type\\\":\\\"prereq\\\"},{\\\"source_id\\\":1332377596,\\\"target_id\\\":1647567702,\\\"type\\\":\\\"coreq\\\"}],\\\"name\\\":\\\"EE 287\\\",\\\"metrics\\\":{\\\"centrality\\\":0,\\\"complexity\\\":3.0,\\\"blocking factor\\\":0,\\\"delay factor\\\":3.0},\\\"nameSub\\\":\\\"Intro. to Embedded Systems\\\",\\\"id\\\":1647567702,\\\"credits\\\":4,\\\"nameCanonical\\\":\\\"\\\"},{\\\"curriculum_requisites\\\":[],\\\"name\\\":\\\"CS 215\\\",\\\"metrics\\\":{\\\"centrality\\\":0,\\\"complexity\\\":3.0,\\\"blocking factor\\\":1,\\\"delay factor\\\":2.0},\\\"nameSub\\\":\\\"Intro. to Program Design Abstraction and Problem Solving\\\",\\\"id\\\":1332377596,\\\"credits\\\":4,\\\"nameCanonical\\\":\\\"\\\"},{\\\"curriculum_requisites\\\":[],\\\"name\\\":\\\" \\\",\\\"metrics\\\":{\\\"centrality\\\":0,\\\"complexity\\\":1.0,\\\"blocking factor\\\":0,\\\"delay factor\\\":1.0},\\\"nameSub\\\":\\\"UK Core - Humanities\\\",\\\"id\\\":699408466,\\\"credits\\\":3,\\\"nameCanonical\\\":\\\"\\\"}],\\\"id\\\":7},{\\\"name\\\":\\\"Term 8\\\",\\\"curriculum_items\\\":[{\\\"curriculum_requisites\\\":[{\\\"source_id\\\":2281989961,\\\"target_id\\\":3945639322,\\\"type\\\":\\\"prereq\\\"},{\\\"source_id\\\":24551683,\\\"target_id\\\":3945639322,\\\"type\\\":\\\"prereq\\\"}],\\\"name\\\":\\\"EE 415G\\\",\\\"metrics\\\":{\\\"centrality\\\":0,\\\"complexity\\\":11.0,\\\"blocking factor\\\":0,\\\"delay factor\\\":11.0},\\\"nameSub\\\":\\\"Electromechanics\\\",\\\"id\\\":3945639322,\\\"credits\\\":3,\\\"nameCanonical\\\":\\\"\\\"},{\\\"curriculum_requisites\\\":[{\\\"source_id\\\":2281989961,\\\"target_id\\\":2950065960,\\\"type\\\":\\\"prereq\\\"},{\\\"source_id\\\":713164423,\\\"target_id\\\":2950065960,\\\"type\\\":\\\"prereq\\\"}],\\\"name\\\":\\\"EE 421G\\\",\\\"metrics\\\":{\\\"centrality\\\":0,\\\"complexity\\\":11.0,\\\"blocking factor\\\":0,\\\"delay factor\\\":11.0},\\\"nameSub\\\":\\\"Signals & Systems\\\",\\\"id\\\":2950065960,\\\"credits\\\":3,\\\"nameCanonical\\\":\\\"\\\"},{\\\"curriculum_requisites\\\":[],\\\"name\\\":\\\" \\\",\\\"metrics\\\":{\\\"centrality\\\":0,\\\"complexity\\\":1.0,\\\"blocking factor\\\":0,\\\"delay factor\\\":1.0},\\\"nameSub\\\":\\\"Elective EE Laboratory 1\\\",\\\"id\\\":448709314,\\\"credits\\\":2,\\\"nameCanonical\\\":\\\"\\\"},{\\\"curriculum_requisites\\\":[{\\\"source_id\\\":2281989961,\\\"target_id\\\":16242192,\\\"type\\\":\\\"prereq\\\"}],\\\"name\\\":\\\"EE 461G\\\",\\\"metrics\\\":{\\\"centrality\\\":0,\\\"complexity\\\":11.0,\\\"blocking factor\\\":0,\\\"delay factor\\\":11.0},\\\"nameSub\\\":\\\"Intro. to Electronics\\\",\\\"id\\\":16242192,\\\"credits\\\":3,\\\"nameCanonical\\\":\\\"\\\"},{\\\"curriculum_requisites\\\":[{\\\"source_id\\\":2193700744,\\\"target_id\\\":2756944549,\\\"type\\\":\\\"prereq\\\"}],\\\"name\\\":\\\"MA 320\\\",\\\"metrics\\\":{\\\"centrality\\\":0,\\\"complexity\\\":7.0,\\\"blocking factor\\\":0,\\\"delay factor\\\":7.0},\\\"nameSub\\\":\\\"Introductory Probability\\\",\\\"id\\\":2756944549,\\\"credits\\\":3,\\\"nameCanonical\\\":\\\"\\\"},{\\\"curriculum_requisites\\\":[],\\\"name\\\":\\\" \\\",\\\"metrics\\\":{\\\"centrality\\\":0,\\\"complexity\\\":1.0,\\\"blocking factor\\\":0,\\\"delay factor\\\":1.0},\\\"nameSub\\\":\\\"Technical Elective 1\\\",\\\"id\\\":3654615878,\\\"credits\\\":3,\\\"nameCanonical\\\":\\\"\\\"}],\\\"id\\\":8},{\\\"name\\\":\\\"Term 9\\\",\\\"curriculum_items\\\":[{\\\"curriculum_requisites\\\":[{\\\"source_id\\\":2281989961,\\\"target_id\\\":1400716874,\\\"type\\\":\\\"prereq\\\"},{\\\"source_id\\\":2193700744,\\\"target_id\\\":1400716874,\\\"type\\\":\\\"prereq\\\"}],\\\"name\\\":\\\"EE 468G\\\",\\\"metrics\\\":{\\\"centrality\\\":0,\\\"complexity\\\":11.0,\\\"blocking factor\\\":0,\\\"delay factor\\\":11.0},\\\"nameSub\\\":\\\"Intro. to Engineering Electromagnetics\\\",\\\"id\\\":1400716874,\\\"credits\\\":4,\\\"nameCanonical\\\":\\\"\\\"},{\\\"curriculum_requisites\\\":[],\\\"name\\\":\\\" \\\",\\\"metrics\\\":{\\\"centrality\\\":0,\\\"complexity\\\":1.0,\\\"blocking factor\\\":0,\\\"delay factor\\\":1.0},\\\"nameSub\\\":\\\"Elective EE Laboratory 2\\\",\\\"id\\\":3008452217,\\\"credits\\\":2,\\\"nameCanonical\\\":\\\"\\\"},{\\\"curriculum_requisites\\\":[],\\\"name\\\":\\\" \\\",\\\"metrics\\\":{\\\"centrality\\\":0,\\\"complexity\\\":1.0,\\\"blocking factor\\\":0,\\\"delay factor\\\":1.0},\\\"nameSub\\\":\\\"Engineering\\/Science Elective 1\\\",\\\"id\\\":1824271747,\\\"credits\\\":3,\\\"nameCanonical\\\":\\\"\\\"},{\\\"curriculum_requisites\\\":[],\\\"name\\\":\\\" \\\",\\\"metrics\\\":{\\\"centrality\\\":0,\\\"complexity\\\":1.0,\\\"blocking factor\\\":0,\\\"delay factor\\\":1.0},\\\"nameSub\\\":\\\"Technical Elective 2\\\",\\\"id\\\":3697264218,\\\"credits\\\":3,\\\"nameCanonical\\\":\\\"\\\"},{\\\"curriculum_requisites\\\":[],\\\"name\\\":\\\" \\\",\\\"metrics\\\":{\\\"centrality\\\":0,\\\"complexity\\\":1.0,\\\"blocking factor\\\":0,\\\"delay factor\\\":1.0},\\\"nameSub\\\":\\\"UK Core - Citizenship - USA\\\",\\\"id\\\":1496407185,\\\"credits\\\":3,\\\"nameCanonical\\\":\\\"\\\"}],\\\"id\\\":9},{\\\"name\\\":\\\"Term 10\\\",\\\"curriculum_items\\\":[{\\\"curriculum_requisites\\\":[],\\\"name\\\":\\\"EE 490\\\",\\\"metrics\\\":{\\\"centrality\\\":0,\\\"complexity\\\":3.0,\\\"blocking factor\\\":1,\\\"delay factor\\\":2.0},\\\"nameSub\\\":\\\"EE Capstone Design\\\",\\\"id\\\":1116551982,\\\"credits\\\":3,\\\"nameCanonical\\\":\\\"\\\"},{\\\"curriculum_requisites\\\":[],\\\"name\\\":\\\" \\\",\\\"metrics\\\":{\\\"centrality\\\":0,\\\"complexity\\\":1.0,\\\"blocking factor\\\":0,\\\"delay factor\\\":1.0},\\\"nameSub\\\":\\\"EE Technical Elective 1\\\",\\\"id\\\":1373040133,\\\"credits\\\":3,\\\"nameCanonical\\\":\\\"\\\"},{\\\"curriculum_requisites\\\":[],\\\"name\\\":\\\" \\\",\\\"metrics\\\":{\\\"centrality\\\":0,\\\"complexity\\\":1.0,\\\"blocking factor\\\":0,\\\"delay factor\\\":1.0},\\\"nameSub\\\":\\\"EE Technical Elective 2\\\",\\\"id\\\":2900608954,\\\"credits\\\":3,\\\"nameCanonical\\\":\\\"\\\"},{\\\"curriculum_requisites\\\":[],\\\"name\\\":\\\" \\\",\\\"metrics\\\":{\\\"centrality\\\":0,\\\"complexity\\\":1.0,\\\"blocking factor\\\":0,\\\"delay factor\\\":1.0},\\\"nameSub\\\":\\\"Math\\/Statistics Elective\\\",\\\"id\\\":147960851,\\\"credits\\\":3,\\\"nameCanonical\\\":\\\"\\\"},{\\\"curriculum_requisites\\\":[],\\\"name\\\":\\\" \\\",\\\"metrics\\\":{\\\"centrality\\\":0,\\\"complexity\\\":1.0,\\\"blocking factor\\\":0,\\\"delay factor\\\":1.0},\\\"nameSub\\\":\\\"UK Core - Global Dynamics\\\",\\\"id\\\":819264340,\\\"credits\\\":3,\\\"nameCanonical\\\":\\\"\\\"}],\\\"id\\\":10},{\\\"name\\\":\\\"Term 11\\\",\\\"curriculum_items\\\":[{\\\"curriculum_requisites\\\":[{\\\"source_id\\\":1116551982,\\\"target_id\\\":2674820998,\\\"type\\\":\\\"prereq\\\"}],\\\"name\\\":\\\"EE 491\\\",\\\"metrics\\\":{\\\"centrality\\\":0,\\\"complexity\\\":2.0,\\\"blocking factor\\\":0,\\\"delay factor\\\":2.0},\\\"nameSub\\\":\\\"EE Capstone Design\\\",\\\"id\\\":2674820998,\\\"credits\\\":3,\\\"nameCanonical\\\":\\\"\\\"},{\\\"curriculum_requisites\\\":[],\\\"name\\\":\\\" \\\",\\\"metrics\\\":{\\\"centrality\\\":0,\\\"complexity\\\":1.0,\\\"blocking factor\\\":0,\\\"delay factor\\\":1.0},\\\"nameSub\\\":\\\"EE Technical Elective 3\\\",\\\"id\\\":3472050261,\\\"credits\\\":3,\\\"nameCanonical\\\":\\\"\\\"},{\\\"curriculum_requisites\\\":[],\\\"name\\\":\\\" \\\",\\\"metrics\\\":{\\\"centrality\\\":0,\\\"complexity\\\":1.0,\\\"blocking factor\\\":0,\\\"delay factor\\\":1.0},\\\"nameSub\\\":\\\"EE Technical Elective 4\\\",\\\"id\\\":3141179749,\\\"credits\\\":3,\\\"nameCanonical\\\":\\\"\\\"},{\\\"curriculum_requisites\\\":[],\\\"name\\\":\\\" \\\",\\\"metrics\\\":{\\\"centrality\\\":0,\\\"complexity\\\":1.0,\\\"blocking factor\\\":0,\\\"delay factor\\\":1.0},\\\"nameSub\\\":\\\"Supportive Elective\\\",\\\"id\\\":109586583,\\\"credits\\\":3,\\\"nameCanonical\\\":\\\"\\\"},{\\\"curriculum_requisites\\\":[],\\\"name\\\":\\\" \\\",\\\"metrics\\\":{\\\"centrality\\\":0,\\\"complexity\\\":1.0,\\\"blocking factor\\\":0,\\\"delay factor\\\":1.0},\\\"nameSub\\\":\\\"Engineering\\/Science Elective 2\\\",\\\"id\\\":1227973603,\\\"credits\\\":3,\\\"nameCanonical\\\":\\\"\\\"},{\\\"curriculum_requisites\\\":[],\\\"name\\\":\\\" \\\",\\\"metrics\\\":{\\\"centrality\\\":0,\\\"complexity\\\":1.0,\\\"blocking factor\\\":0,\\\"delay factor\\\":1.0},\\\"nameSub\\\":\\\"UK Core - Statistical Inferential Reasoning\\\",\\\"id\\\":599971617,\\\"credits\\\":3,\\\"nameCanonical\\\":\\\"\\\"}],\\\"id\\\":11}],\\\"institution\\\":\\\"\\\"}},\\\"*\\\"); window.removeEventListener(\\\"message\\\",window.messageReceived); window.messageReceived=(function (event){return (event.data.curriculum!==undefined) ? (WebIO.setval({\\\"name\\\":\\\"curriculum-data\\\",\\\"scope\\\":\\\"8940734422967570559\\\",\\\"id\\\":\\\"ob_05\\\",\\\"type\\\":\\\"observable\\\"},event.data.curriculum)) : undefined}); return window.addEventListener(\\\"message\\\",window.messageReceived)})\"},\"style\":{\"padding\":\"0\",\"height\":\"100vh\",\"margin\":\"0\",\"border\":\"none\",\"width\":\"100%\"}},\"nodeType\":\"DOM\",\"type\":\"node\",\"instanceArgs\":{\"namespace\":\"html\",\"tag\":\"iframe\"},\"children\":[\"\"]}]},\n",
       "            window,\n",
       "        );\n",
       "    } else {\n",
       "        document\n",
       "            .querySelector('[data-webio-mountpoint=\"3113303546596310800\"]')\n",
       "            .innerHTML = '<strong>WebIO not detected.</strong>';\n",
       "    }\n",
       "    </script>\n",
       "</div>\n"
      ],
      "text/plain": [
       "WebIO.Scope(WebIO.Node{WebIO.DOM}(WebIO.DOM(:html, :iframe), Any[\"\"], Dict{Symbol,Any}(:src=>\"http://localhost:8156\",:id=>\"curriculum\",:events=>Dict(:load=>JSString(\"(function (){this.contentWindow.postMessage({\\\"options\\\":{\\\"hideTerms\\\":false,\\\"edit\\\":false},\\\"curriculum\\\":{\\\"name\\\":\\\"University of Kentucky EE Program\\\",\\\"dp_name\\\":\\\"University of Kentucky EE Program 4-year Plan\\\",\\\"curriculum_terms\\\":[{\\\"name\\\":\\\"Term 1\\\",\\\"curriculum_items\\\":[{\\\"curriculum_requisites\\\":[],\\\"name\\\":\\\"MA 108R\\\",\\\"metrics\\\":{\\\"centrality\\\":0,\\\"complexity\\\":29.0,\\\"blocking factor\\\":18,\\\"delay factor\\\":11.0},\\\"nameSub\\\":\\\"Intermediate Algebra\\\",\\\"id\\\":1,\\\"credits\\\":3,\\\"nameCanonical\\\":\\\"\\\"}],\\\"id\\\":1},{\\\"name\\\":\\\"Term 2\\\",\\\"curriculum_items\\\":[{\\\"curriculum_requisites\\\":[{\\\"source_id\\\":1,\\\"target_id\\\":2,\\\"type\\\":\\\"prereq\\\"}],\\\"name\\\":\\\"MA 109\\\",\\\"metrics\\\":{\\\"centrality\\\":250,\\\"complexity\\\":28.0,\\\"blocking factor\\\":17,\\\"delay factor\\\":11.0},\\\"nameSub\\\":\\\"College Algebra\\\",\\\"id\\\":2,\\\"credits\\\":3,\\\"nameCanonical\\\":\\\"\\\"}],\\\"id\\\":2},{\\\"name\\\":\\\"Term 3\\\",\\\"curriculum_items\\\":[{\\\"curriculum_requisites\\\":[{\\\"source_id\\\":2,\\\"target_id\\\":3,\\\"type\\\":\\\"prereq\\\"}],\\\"name\\\":\\\"MA  110\\\",\\\"metrics\\\":{\\\"centrality\\\":250,\\\"complexity\\\":27.0,\\\"blocking factor\\\":16,\\\"delay factor\\\":11.0},\\\"nameSub\\\":\\\"Algebra & Trigonometry\\\",\\\"id\\\":3,\\\"credits\\\":4,\\\"nameCanonical\\\":\\\"\\\"}],\\\"id\\\":3},{\\\"name\\\":\\\"Term 4\\\",\\\"curriculum_items\\\":[{\\\"curriculum_requisites\\\":[],\\\"name\\\":\\\"EGR 101\\\",\\\"metrics\\\":{\\\"centrality\\\":0,\\\"complexity\\\":1.0,\\\"blocking factor\\\":0,\\\"delay factor\\\":1.0},\\\"nameSub\\\":\\\"Engineering Exploration I\\\",\\\"id\\\":2071595408,\\\"credits\\\":1,\\\"nameCanonical\\\":\\\"\\\"},{\\\"curriculum_requisites\\\":[],\\\"name\\\":\\\"EGR 102\\\",\\\"metrics\\\":{\\\"centrality\\\":0,\\\"complexity\\\":6.0,\\\"blocking factor\\\":3,\\\"delay factor\\\":3.0},\\\"nameSub\\\":\\\"Fundamentals of Engineering Computing\\\",\\\"id\\\":502542156,\\\"credits\\\":2,\\\"nameCanonical\\\":\\\"\\\"},{\\\"curriculum_requisites\\\":[{\\\"source_id\\\":3389674827,\\\"target_id\\\":2865398329,\\\"type\\\":\\\"coreq\\\"}],\\\"name\\\":\\\"PHY 231\\\",\\\"metrics\\\":{\\\"centrality\\\":95,\\\"complexity\\\":16.0,\\\"blocking factor\\\":10,\\\"delay factor\\\":6.0},\\\"nameSub\\\":\\\"General University Physics\\\",\\\"id\\\":2865398329,\\\"credits\\\":4,\\\"nameCanonical\\\":\\\"\\\"},{\\\"curriculum_requisites\\\":[{\\\"source_id\\\":2865398329,\\\"target_id\\\":746915474,\\\"type\\\":\\\"coreq\\\"}],\\\"name\\\":\\\"PHY 241\\\",\\\"metrics\\\":{\\\"centrality\\\":0,\\\"complexity\\\":6.0,\\\"blocking factor\\\":0,\\\"delay factor\\\":6.0},\\\"nameSub\\\":\\\"General University Physics Lab\\\",\\\"id\\\":746915474,\\\"credits\\\":1,\\\"nameCanonical\\\":\\\"\\\"},{\\\"curriculum_requisites\\\":[],\\\"name\\\":\\\"CIS/WRD 110\\\",\\\"metrics\\\":{\\\"centrality\\\":0,\\\"complexity\\\":3.0,\\\"blocking factor\\\":1,\\\"delay factor\\\":2.0},\\\"nameSub\\\":\\\"Composition and Communication I\\\",\\\"id\\\":858428248,\\\"credits\\\":3,\\\"nameCanonical\\\":\\\"\\\"},{\\\"curriculum_requisites\\\":[{\\\"source_id\\\":3,\\\"target_id\\\":3389674827,\\\"type\\\":\\\"coreq\\\"}],\\\"name\\\":\\\"MA 113\\\",\\\"metrics\\\":{\\\"centrality\\\":250,\\\"complexity\\\":26.0,\\\"blocking factor\\\":15,\\\"delay factor\\\":11.0},\\\"nameSub\\\":\\\"Calculus I\\\",\\\"id\\\":3389674827,\\\"credits\\\":4,\\\"nameCanonical\\\":\\\"\\\"}],\\\"id\\\":4},{\\\"name\\\":\\\"Term 5\\\",\\\"curriculum_items\\\":[{\\\"curriculum_requisites\\\":[{\\\"source_id\\\":502542156,\\\"target_id\\\":1123828828,\\\"type\\\":\\\"prereq\\\"},{\\\"source_id\\\":3389674827,\\\"target_id\\\":1123828828,\\\"type\\\":\\\"coreq\\\"},{\\\"source_id\\\":2865398329,\\\"target_id\\\":1123828828,\\\"type\\\":\\\"coreq\\\"},{\\\"source_id\\\":738464693,\\\"target_id\\\":1123828828,\\\"type\\\":\\\"coreq\\\"}],\\\"name\\\":\\\"EGR 103\\\",\\\"metrics\\\":{\\\"centrality\\\":0,\\\"complexity\\\":6.0,\\\"blocking factor\\\":0,\\\"delay factor\\\":6.0},\\\"nameSub\\\":\\\"Engineering Exploration II\\\",\\\"id\\\":1123828828,\\\"credits\\\":2,\\\"nameCanonical\\\":\\\"\\\"},{\\\"curriculum_requisites\\\":[{\\\"source_id\\\":858428248,\\\"target_id\\\":3660518225,\\\"type\\\":\\\"prereq\\\"}],\\\"name\\\":\\\"CIS/WRD 111\\\",\\\"metrics\\\":{\\\"centrality\\\":0,\\\"complexity\\\":2.0,\\\"blocking factor\\\":0,\\\"delay factor\\\":2.0},\\\"nameSub\\\":\\\"Composition and Communication II\\\",\\\"id\\\":3660518225,\\\"credits\\\":3,\\\"nameCanonical\\\":\\\"\\\"},{\\\"curriculum_requisites\\\":[{\\\"source_id\\\":3389674827,\\\"target_id\\\":2966989896,\\\"type\\\":\\\"prereq\\\"}],\\\"name\\\":\\\"MA 114\\\",\\\"metrics\\\":{\\\"centrality\\\":150,\\\"complexity\\\":22.0,\\\"blocking factor\\\":11,\\\"delay factor\\\":11.0},\\\"nameSub\\\":\\\"Calculus II\\\",\\\"id\\\":2966989896,\\\"credits\\\":4,\\\"nameCanonical\\\":\\\"\\\"},{\\\"curriculum_requisites\\\":[],\\\"name\\\":\\\"CHE 105\\\",\\\"metrics\\\":{\\\"centrality\\\":0,\\\"complexity\\\":3.0,\\\"blocking factor\\\":1,\\\"delay factor\\\":2.0},\\\"nameSub\\\":\\\"General College Chemistry I\\\",\\\"id\\\":738464693,\\\"credits\\\":4,\\\"nameCanonical\\\":\\\"\\\"},{\\\"curriculum_requisites\\\":[],\\\"name\\\":\\\" \\\",\\\"metrics\\\":{\\\"centrality\\\":0,\\\"complexity\\\":1.0,\\\"blocking factor\\\":0,\\\"delay factor\\\":1.0},\\\"nameSub\\\":\\\"UK Core - Social Sciences\\\",\\\"id\\\":1586162741,\\\"credits\\\":3,\\\"nameCanonical\\\":\\\"\\\"}],\\\"id\\\":5},{\\\"name\\\":\\\"Term 6\\\",\\\"curriculum_items\\\":[{\\\"curriculum_requisites\\\":[{\\\"source_id\\\":2966989896,\\\"target_id\\\":2193700744,\\\"type\\\":\\\"prereq\\\"}],\\\"name\\\":\\\"MA 213\\\",\\\"metrics\\\":{\\\"centrality\\\":150,\\\"complexity\\\":21.0,\\\"blocking factor\\\":10,\\\"delay factor\\\":11.0},\\\"nameSub\\\":\\\"Calculus III\\\",\\\"id\\\":2193700744,\\\"credits\\\":4,\\\"nameCanonical\\\":\\\"\\\"},{\\\"curriculum_requisites\\\":[{\\\"source_id\\\":2865398329,\\\"target_id\\\":24551683,\\\"type\\\":\\\"prereq\\\"},{\\\"source_id\\\":2193700744,\\\"target_id\\\":24551683,\\\"type\\\":\\\"coreq\\\"}],\\\"name\\\":\\\"PHY 232\\\",\\\"metrics\\\":{\\\"centrality\\\":175,\\\"complexity\\\":18.0,\\\"blocking factor\\\":7,\\\"delay factor\\\":11.0},\\\"nameSub\\\":\\\"General University Physics\\\",\\\"id\\\":24551683,\\\"credits\\\":4,\\\"nameCanonical\\\":\\\"\\\"},{\\\"curriculum_requisites\\\":[{\\\"source_id\\\":24551683,\\\"target_id\\\":4109240503,\\\"type\\\":\\\"coreq\\\"}],\\\"name\\\":\\\"PHY 242\\\",\\\"metrics\\\":{\\\"centrality\\\":84,\\\"complexity\\\":17.0,\\\"blocking factor\\\":6,\\\"delay factor\\\":11.0},\\\"nameSub\\\":\\\"General University Physics Lab\\\",\\\"id\\\":4109240503,\\\"credits\\\":1,\\\"nameCanonical\\\":\\\"\\\"},{\\\"curriculum_requisites\\\":[{\\\"source_id\\\":24551683,\\\"target_id\\\":1017230148,\\\"type\\\":\\\"coreq\\\"},{\\\"source_id\\\":4109240503,\\\"target_id\\\":1017230148,\\\"type\\\":\\\"coreq\\\"}],\\\"name\\\":\\\"EE 211\\\",\\\"metrics\\\":{\\\"centrality\\\":160,\\\"complexity\\\":16.0,\\\"blocking factor\\\":5,\\\"delay factor\\\":11.0},\\\"nameSub\\\":\\\"Circuits I\\\",\\\"id\\\":1017230148,\\\"credits\\\":4,\\\"nameCanonical\\\":\\\"\\\"},{\\\"curriculum_requisites\\\":[{\\\"source_id\\\":502542156,\\\"target_id\\\":1416959221,\\\"type\\\":\\\"prereq\\\"}],\\\"name\\\":\\\"EE 282\\\",\\\"metrics\\\":{\\\"centrality\\\":3,\\\"complexity\\\":4.0,\\\"blocking factor\\\":1,\\\"delay factor\\\":3.0},\\\"nameSub\\\":\\\"Digital Logic Design\\\",\\\"id\\\":1416959221,\\\"credits\\\":4,\\\"nameCanonical\\\":\\\"\\\"}],\\\"id\\\":6},{\\\"name\\\":\\\"Term 7\\\",\\\"curriculum_items\\\":[{\\\"curriculum_requisites\\\":[{\\\"source_id\\\":2193700744,\\\"target_id\\\":713164423,\\\"type\\\":\\\"prereq\\\"}],\\\"name\\\":\\\"MA 214\\\",\\\"metrics\\\":{\\\"centrality\\\":44,\\\"complexity\\\":12.0,\\\"blocking factor\\\":5,\\\"delay factor\\\":7.0},\\\"nameSub\\\":\\\"Calculus IV\\\",\\\"id\\\":713164423,\\\"credits\\\":3,\\\"nameCanonical\\\":\\\"\\\"},{\\\"curriculum_requisites\\\":[{\\\"source_id\\\":1017230148,\\\"target_id\\\":2281989961,\\\"type\\\":\\\"prereq\\\"},{\\\"source_id\\\":713164423,\\\"target_id\\\":2281989961,\\\"type\\\":\\\"coreq\\\"}],\\\"name\\\":\\\"EE 223\\\",\\\"metrics\\\":{\\\"centrality\\\":196,\\\"complexity\\\":15.0,\\\"blocking factor\\\":4,\\\"delay factor\\\":11.0},\\\"nameSub\\\":\\\"AC Circuits\\\",\\\"id\\\":2281989961,\\\"credits\\\":4,\\\"nameCanonical\\\":\\\"\\\"},{\\\"curriculum_requisites\\\":[{\\\"source_id\\\":1416959221,\\\"target_id\\\":1647567702,\\\"type\\\":\\\"prereq\\\"},{\\\"source_id\\\":1332377596,\\\"target_id\\\":1647567702,\\\"type\\\":\\\"coreq\\\"}],\\\"name\\\":\\\"EE 287\\\",\\\"metrics\\\":{\\\"centrality\\\":0,\\\"complexity\\\":3.0,\\\"blocking factor\\\":0,\\\"delay factor\\\":3.0},\\\"nameSub\\\":\\\"Intro. to Embedded Systems\\\",\\\"id\\\":1647567702,\\\"credits\\\":4,\\\"nameCanonical\\\":\\\"\\\"},{\\\"curriculum_requisites\\\":[],\\\"name\\\":\\\"CS 215\\\",\\\"metrics\\\":{\\\"centrality\\\":0,\\\"complexity\\\":3.0,\\\"blocking factor\\\":1,\\\"delay factor\\\":2.0},\\\"nameSub\\\":\\\"Intro. to Program Design Abstraction and Problem Solving\\\",\\\"id\\\":1332377596,\\\"credits\\\":4,\\\"nameCanonical\\\":\\\"\\\"},{\\\"curriculum_requisites\\\":[],\\\"name\\\":\\\" \\\",\\\"metrics\\\":{\\\"centrality\\\":0,\\\"complexity\\\":1.0,\\\"blocking factor\\\":0,\\\"delay factor\\\":1.0},\\\"nameSub\\\":\\\"UK Core - Humanities\\\",\\\"id\\\":699408466,\\\"credits\\\":3,\\\"nameCanonical\\\":\\\"\\\"}],\\\"id\\\":7},{\\\"name\\\":\\\"Term 8\\\",\\\"curriculum_items\\\":[{\\\"curriculum_requisites\\\":[{\\\"source_id\\\":2281989961,\\\"target_id\\\":3945639322,\\\"type\\\":\\\"prereq\\\"},{\\\"source_id\\\":24551683,\\\"target_id\\\":3945639322,\\\"type\\\":\\\"prereq\\\"}],\\\"name\\\":\\\"EE 415G\\\",\\\"metrics\\\":{\\\"centrality\\\":0,\\\"complexity\\\":11.0,\\\"blocking factor\\\":0,\\\"delay factor\\\":11.0},\\\"nameSub\\\":\\\"Electromechanics\\\",\\\"id\\\":3945639322,\\\"credits\\\":3,\\\"nameCanonical\\\":\\\"\\\"},{\\\"curriculum_requisites\\\":[{\\\"source_id\\\":2281989961,\\\"target_id\\\":2950065960,\\\"type\\\":\\\"prereq\\\"},{\\\"source_id\\\":713164423,\\\"target_id\\\":2950065960,\\\"type\\\":\\\"prereq\\\"}],\\\"name\\\":\\\"EE 421G\\\",\\\"metrics\\\":{\\\"centrality\\\":0,\\\"complexity\\\":11.0,\\\"blocking factor\\\":0,\\\"delay factor\\\":11.0},\\\"nameSub\\\":\\\"Signals & Systems\\\",\\\"id\\\":2950065960,\\\"credits\\\":3,\\\"nameCanonical\\\":\\\"\\\"},{\\\"curriculum_requisites\\\":[],\\\"name\\\":\\\" \\\",\\\"metrics\\\":{\\\"centrality\\\":0,\\\"complexity\\\":1.0,\\\"blocking factor\\\":0,\\\"delay factor\\\":1.0},\\\"nameSub\\\":\\\"Elective EE Laboratory 1\\\",\\\"id\\\":448709314,\\\"credits\\\":2,\\\"nameCanonical\\\":\\\"\\\"},{\\\"curriculum_requisites\\\":[{\\\"source_id\\\":2281989961,\\\"target_id\\\":16242192,\\\"type\\\":\\\"prereq\\\"}],\\\"name\\\":\\\"EE 461G\\\",\\\"metrics\\\":{\\\"centrality\\\":0,\\\"complexity\\\":11.0,\\\"blocking factor\\\":0,\\\"delay factor\\\":11.0},\\\"nameSub\\\":\\\"Intro. to Electronics\\\",\\\"id\\\":16242192,\\\"credits\\\":3,\\\"nameCanonical\\\":\\\"\\\"},{\\\"curriculum_requisites\\\":[{\\\"source_id\\\":2193700744,\\\"target_id\\\":2756944549,\\\"type\\\":\\\"prereq\\\"}],\\\"name\\\":\\\"MA 320\\\",\\\"metrics\\\":{\\\"centrality\\\":0,\\\"complexity\\\":7.0,\\\"blocking factor\\\":0,\\\"delay factor\\\":7.0},\\\"nameSub\\\":\\\"Introductory Probability\\\",\\\"id\\\":2756944549,\\\"credits\\\":3,\\\"nameCanonical\\\":\\\"\\\"},{\\\"curriculum_requisites\\\":[],\\\"name\\\":\\\" \\\",\\\"metrics\\\":{\\\"centrality\\\":0,\\\"complexity\\\":1.0,\\\"blocking factor\\\":0,\\\"delay factor\\\":1.0},\\\"nameSub\\\":\\\"Technical Elective 1\\\",\\\"id\\\":3654615878,\\\"credits\\\":3,\\\"nameCanonical\\\":\\\"\\\"}],\\\"id\\\":8},{\\\"name\\\":\\\"Term 9\\\",\\\"curriculum_items\\\":[{\\\"curriculum_requisites\\\":[{\\\"source_id\\\":2281989961,\\\"target_id\\\":1400716874,\\\"type\\\":\\\"prereq\\\"},{\\\"source_id\\\":2193700744,\\\"target_id\\\":1400716874,\\\"type\\\":\\\"prereq\\\"}],\\\"name\\\":\\\"EE 468G\\\",\\\"metrics\\\":{\\\"centrality\\\":0,\\\"complexity\\\":11.0,\\\"blocking factor\\\":0,\\\"delay factor\\\":11.0},\\\"nameSub\\\":\\\"Intro. to Engineering Electromagnetics\\\",\\\"id\\\":1400716874,\\\"credits\\\":4,\\\"nameCanonical\\\":\\\"\\\"},{\\\"curriculum_requisites\\\":[],\\\"name\\\":\\\" \\\",\\\"metrics\\\":{\\\"centrality\\\":0,\\\"complexity\\\":1.0,\\\"blocking factor\\\":0,\\\"delay factor\\\":1.0},\\\"nameSub\\\":\\\"Elective EE Laboratory 2\\\",\\\"id\\\":3008452217,\\\"credits\\\":2,\\\"nameCanonical\\\":\\\"\\\"},{\\\"curriculum_requisites\\\":[],\\\"name\\\":\\\" \\\",\\\"metrics\\\":{\\\"centrality\\\":0,\\\"complexity\\\":1.0,\\\"blocking factor\\\":0,\\\"delay factor\\\":1.0},\\\"nameSub\\\":\\\"Engineering/Science Elective 1\\\",\\\"id\\\":1824271747,\\\"credits\\\":3,\\\"nameCanonical\\\":\\\"\\\"},{\\\"curriculum_requisites\\\":[],\\\"name\\\":\\\" \\\",\\\"metrics\\\":{\\\"centrality\\\":0,\\\"complexity\\\":1.0,\\\"blocking factor\\\":0,\\\"delay factor\\\":1.0},\\\"nameSub\\\":\\\"Technical Elective 2\\\",\\\"id\\\":3697264218,\\\"credits\\\":3,\\\"nameCanonical\\\":\\\"\\\"},{\\\"curriculum_requisites\\\":[],\\\"name\\\":\\\" \\\",\\\"metrics\\\":{\\\"centrality\\\":0,\\\"complexity\\\":1.0,\\\"blocking factor\\\":0,\\\"delay factor\\\":1.0},\\\"nameSub\\\":\\\"UK Core - Citizenship - USA\\\",\\\"id\\\":1496407185,\\\"credits\\\":3,\\\"nameCanonical\\\":\\\"\\\"}],\\\"id\\\":9},{\\\"name\\\":\\\"Term 10\\\",\\\"curriculum_items\\\":[{\\\"curriculum_requisites\\\":[],\\\"name\\\":\\\"EE 490\\\",\\\"metrics\\\":{\\\"centrality\\\":0,\\\"complexity\\\":3.0,\\\"blocking factor\\\":1,\\\"delay factor\\\":2.0},\\\"nameSub\\\":\\\"EE Capstone Design\\\",\\\"id\\\":1116551982,\\\"credits\\\":3,\\\"nameCanonical\\\":\\\"\\\"},{\\\"curriculum_requisites\\\":[],\\\"name\\\":\\\" \\\",\\\"metrics\\\":{\\\"centrality\\\":0,\\\"complexity\\\":1.0,\\\"blocking factor\\\":0,\\\"delay factor\\\":1.0},\\\"nameSub\\\":\\\"EE Technical Elective 1\\\",\\\"id\\\":1373040133,\\\"credits\\\":3,\\\"nameCanonical\\\":\\\"\\\"},{\\\"curriculum_requisites\\\":[],\\\"name\\\":\\\" \\\",\\\"metrics\\\":{\\\"centrality\\\":0,\\\"complexity\\\":1.0,\\\"blocking factor\\\":0,\\\"delay factor\\\":1.0},\\\"nameSub\\\":\\\"EE Technical Elective 2\\\",\\\"id\\\":2900608954,\\\"credits\\\":3,\\\"nameCanonical\\\":\\\"\\\"},{\\\"curriculum_requisites\\\":[],\\\"name\\\":\\\" \\\",\\\"metrics\\\":{\\\"centrality\\\":0,\\\"complexity\\\":1.0,\\\"blocking factor\\\":0,\\\"delay factor\\\":1.0},\\\"nameSub\\\":\\\"Math/Statistics Elective\\\",\\\"id\\\":147960851,\\\"credits\\\":3,\\\"nameCanonical\\\":\\\"\\\"},{\\\"curriculum_requisites\\\":[],\\\"name\\\":\\\" \\\",\\\"metrics\\\":{\\\"centrality\\\":0,\\\"complexity\\\":1.0,\\\"blocking factor\\\":0,\\\"delay factor\\\":1.0},\\\"nameSub\\\":\\\"UK Core - Global Dynamics\\\",\\\"id\\\":819264340,\\\"credits\\\":3,\\\"nameCanonical\\\":\\\"\\\"}],\\\"id\\\":10},{\\\"name\\\":\\\"Term 11\\\",\\\"curriculum_items\\\":[{\\\"curriculum_requisites\\\":[{\\\"source_id\\\":1116551982,\\\"target_id\\\":2674820998,\\\"type\\\":\\\"prereq\\\"}],\\\"name\\\":\\\"EE 491\\\",\\\"metrics\\\":{\\\"centrality\\\":0,\\\"complexity\\\":2.0,\\\"blocking factor\\\":0,\\\"delay factor\\\":2.0},\\\"nameSub\\\":\\\"EE Capstone Design\\\",\\\"id\\\":2674820998,\\\"credits\\\":3,\\\"nameCanonical\\\":\\\"\\\"},{\\\"curriculum_requisites\\\":[],\\\"name\\\":\\\" \\\",\\\"metrics\\\":{\\\"centrality\\\":0,\\\"complexity\\\":1.0,\\\"blocking factor\\\":0,\\\"delay factor\\\":1.0},\\\"nameSub\\\":\\\"EE Technical Elective 3\\\",\\\"id\\\":3472050261,\\\"credits\\\":3,\\\"nameCanonical\\\":\\\"\\\"},{\\\"curriculum_requisites\\\":[],\\\"name\\\":\\\" \\\",\\\"metrics\\\":{\\\"centrality\\\":0,\\\"complexity\\\":1.0,\\\"blocking factor\\\":0,\\\"delay factor\\\":1.0},\\\"nameSub\\\":\\\"EE Technical Elective 4\\\",\\\"id\\\":3141179749,\\\"credits\\\":3,\\\"nameCanonical\\\":\\\"\\\"},{\\\"curriculum_requisites\\\":[],\\\"name\\\":\\\" \\\",\\\"metrics\\\":{\\\"centrality\\\":0,\\\"complexity\\\":1.0,\\\"blocking factor\\\":0,\\\"delay factor\\\":1.0},\\\"nameSub\\\":\\\"Supportive Elective\\\",\\\"id\\\":109586583,\\\"credits\\\":3,\\\"nameCanonical\\\":\\\"\\\"},{\\\"curriculum_requisites\\\":[],\\\"name\\\":\\\" \\\",\\\"metrics\\\":{\\\"centrality\\\":0,\\\"complexity\\\":1.0,\\\"blocking factor\\\":0,\\\"delay factor\\\":1.0},\\\"nameSub\\\":\\\"Engineering/Science Elective 2\\\",\\\"id\\\":1227973603,\\\"credits\\\":3,\\\"nameCanonical\\\":\\\"\\\"},{\\\"curriculum_requisites\\\":[],\\\"name\\\":\\\" \\\",\\\"metrics\\\":{\\\"centrality\\\":0,\\\"complexity\\\":1.0,\\\"blocking factor\\\":0,\\\"delay factor\\\":1.0},\\\"nameSub\\\":\\\"UK Core - Statistical Inferential Reasoning\\\",\\\"id\\\":599971617,\\\"credits\\\":3,\\\"nameCanonical\\\":\\\"\\\"}],\\\"id\\\":11}],\\\"institution\\\":\\\"\\\"}},\\\"*\\\"); window.removeEventListener(\\\"message\\\",window.messageReceived); window.messageReceived=(function (event){return (event.data.curriculum!==undefined) ? (WebIO.setval({\\\"name\\\":\\\"curriculum-data\\\",\\\"scope\\\":\\\"8940734422967570559\\\",\\\"id\\\":\\\"ob_05\\\",\\\"type\\\":\\\"observable\\\"},event.data.curriculum)) : undefined}); return window.addEventListener(\\\"message\\\",window.messageReceived)})\")),:style=>Dict(:padding=>\"0\",:height=>\"100vh\",:margin=>\"0\",:border=>\"none\",:width=>\"100%\"))), Dict{String,Tuple{Observables.AbstractObservable,Union{Nothing, Bool}}}(\"curriculum-data\"=>(Observable{Dict{String,Any}} with 1 listeners. Value:\n",
       "Dict{String,Any}(\"options\"=>Dict{String,Any}(\"hideTerms\"=>false,\"edit\"=>false),\"curriculum\"=>Dict{String,Any}(\"name\"=>\"University of Kentucky EE Program\",\"dp_name\"=>\"University of Kentucky EE Program 4-year Plan\",\"curriculum_terms\"=>Dict{String,Any}[Dict(\"name\"=>\"Term 1\",\"curriculum_items\"=>Dict{String,Any}[Dict(\"curriculum_requisites\"=>Dict{String,Any}[],\"name\"=>\"MA 108R\",\"metrics\"=>Dict{String,Any}(\"centrality\"=>0,\"complexity\"=>29.0,\"blocking factor\"=>18,\"delay factor\"=>11.0),\"nameSub\"=>\"Intermediate Algebra\",\"id\"=>1,\"credits\"=>3,\"nameCanonical\"=>\"\")],\"id\"=>1), Dict(\"name\"=>\"Term 2\",\"curriculum_items\"=>Dict{String,Any}[Dict(\"curriculum_requisites\"=>Dict{String,Any}[Dict(\"source_id\"=>1,\"target_id\"=>2,\"type\"=>\"prereq\")],\"name\"=>\"MA 109\",\"metrics\"=>Dict{String,Any}(\"centrality\"=>250,\"complexity\"=>28.0,\"blocking factor\"=>17,\"delay factor\"=>11.0),\"nameSub\"=>\"College Algebra\",\"id\"=>2,\"credits\"=>3,\"nameCanonical\"=>\"\")],\"id\"=>2), Dict(\"name\"=>\"Term 3\",\"curriculum_items\"=>Dict{String,Any}[Dict(\"curriculum_requisites\"=>Dict{String,Any}[Dict(\"source_id\"=>2,\"target_id\"=>3,\"type\"=>\"prereq\")],\"name\"=>\"MA  110\",\"metrics\"=>Dict{String,Any}(\"centrality\"=>250,\"complexity\"=>27.0,\"blocking factor\"=>16,\"delay factor\"=>11.0),\"nameSub\"=>\"Algebra & Trigonometry\",\"id\"=>3,\"credits\"=>4,\"nameCanonical\"=>\"\")],\"id\"=>3), Dict(\"name\"=>\"Term 4\",\"curriculum_items\"=>Dict{String,Any}[Dict(\"curriculum_requisites\"=>Dict{String,Any}[],\"name\"=>\"EGR 101\",\"metrics\"=>Dict{String,Any}(\"centrality\"=>0,\"complexity\"=>1.0,\"blocking factor\"=>0,\"delay factor\"=>1.0),\"nameSub\"=>\"Engineering Exploration I\",\"id\"=>2071595408,\"credits\"=>1,\"nameCanonical\"=>\"\"), Dict(\"curriculum_requisites\"=>Dict{String,Any}[],\"name\"=>\"EGR 102\",\"metrics\"=>Dict{String,Any}(\"centrality\"=>0,\"complexity\"=>6.0,\"blocking factor\"=>3,\"delay factor\"=>3.0),\"nameSub\"=>\"Fundamentals of Engineering Computing\",\"id\"=>502542156,\"credits\"=>2,\"nameCanonical\"=>\"\"), Dict(\"curriculum_requisites\"=>Dict{String,Any}[Dict(\"source_id\"=>3389674827,\"target_id\"=>2865398329,\"type\"=>\"coreq\")],\"name\"=>\"PHY 231\",\"metrics\"=>Dict{String,Any}(\"centrality\"=>95,\"complexity\"=>16.0,\"blocking factor\"=>10,\"delay factor\"=>6.0),\"nameSub\"=>\"General University Physics\",\"id\"=>2865398329,\"credits\"=>4,\"nameCanonical\"=>\"\"), Dict(\"curriculum_requisites\"=>Dict{String,Any}[Dict(\"source_id\"=>2865398329,\"target_id\"=>746915474,\"type\"=>\"coreq\")],\"name\"=>\"PHY 241\",\"metrics\"=>Dict{String,Any}(\"centrality\"=>0,\"complexity\"=>6.0,\"blocking factor\"=>0,\"delay factor\"=>6.0),\"nameSub\"=>\"General University Physics Lab\",\"id\"=>746915474,\"credits\"=>1,\"nameCanonical\"=>\"\"), Dict(\"curriculum_requisites\"=>Dict{String,Any}[],\"name\"=>\"CIS/WRD 110\",\"metrics\"=>Dict{String,Any}(\"centrality\"=>0,\"complexity\"=>3.0,\"blocking factor\"=>1,\"delay factor\"=>2.0),\"nameSub\"=>\"Composition and Communication I\",\"id\"=>858428248,\"credits\"=>3,\"nameCanonical\"=>\"\"), Dict(\"curriculum_requisites\"=>Dict{String,Any}[Dict(\"source_id\"=>3,\"target_id\"=>3389674827,\"type\"=>\"coreq\")],\"name\"=>\"MA 113\",\"metrics\"=>Dict{String,Any}(\"centrality\"=>250,\"complexity\"=>26.0,\"blocking factor\"=>15,\"delay factor\"=>11.0),\"nameSub\"=>\"Calculus I\",\"id\"=>3389674827,\"credits\"=>4,\"nameCanonical\"=>\"\")],\"id\"=>4), Dict(\"name\"=>\"Term 5\",\"curriculum_items\"=>Dict{String,Any}[Dict(\"curriculum_requisites\"=>Dict{String,Any}[Dict(\"source_id\"=>502542156,\"target_id\"=>1123828828,\"type\"=>\"prereq\"), Dict(\"source_id\"=>3389674827,\"target_id\"=>1123828828,\"type\"=>\"coreq\"), Dict(\"source_id\"=>2865398329,\"target_id\"=>1123828828,\"type\"=>\"coreq\"), Dict(\"source_id\"=>738464693,\"target_id\"=>1123828828,\"type\"=>\"coreq\")],\"name\"=>\"EGR 103\",\"metrics\"=>Dict{String,Any}(\"centrality\"=>0,\"complexity\"=>6.0,\"blocking factor\"=>0,\"delay factor\"=>6.0),\"nameSub\"=>\"Engineering Exploration II\",\"id\"=>1123828828,\"credits\"=>2,\"nameCanonical\"=>\"\"), Dict(\"curriculum_requisites\"=>Dict{String,Any}[Dict(\"source_id\"=>858428248,\"target_id\"=>3660518225,\"type\"=>\"prereq\")],\"name\"=>\"CIS/WRD 111\",\"metrics\"=>Dict{String,Any}(\"centrality\"=>0,\"complexity\"=>2.0,\"blocking factor\"=>0,\"delay factor\"=>2.0),\"nameSub\"=>\"Composition and Communication II\",\"id\"=>3660518225,\"credits\"=>3,\"nameCanonical\"=>\"\"), Dict(\"curriculum_requisites\"=>Dict{String,Any}[Dict(\"source_id\"=>3389674827,\"target_id\"=>2966989896,\"type\"=>\"prereq\")],\"name\"=>\"MA 114\",\"metrics\"=>Dict{String,Any}(\"centrality\"=>150,\"complexity\"=>22.0,\"blocking factor\"=>11,\"delay factor\"=>11.0),\"nameSub\"=>\"Calculus II\",\"id\"=>2966989896,\"credits\"=>4,\"nameCanonical\"=>\"\"), Dict(\"curriculum_requisites\"=>Dict{String,Any}[],\"name\"=>\"CHE 105\",\"metrics\"=>Dict{String,Any}(\"centrality\"=>0,\"complexity\"=>3.0,\"blocking factor\"=>1,\"delay factor\"=>2.0),\"nameSub\"=>\"General College Chemistry I\",\"id\"=>738464693,\"credits\"=>4,\"nameCanonical\"=>\"\"), Dict(\"curriculum_requisites\"=>Dict{String,Any}[],\"name\"=>\" \",\"metrics\"=>Dict{String,Any}(\"centrality\"=>0,\"complexity\"=>1.0,\"blocking factor\"=>0,\"delay factor\"=>1.0),\"nameSub\"=>\"UK Core - Social Sciences\",\"id\"=>1586162741,\"credits\"=>3,\"nameCanonical\"=>\"\")],\"id\"=>5), Dict(\"name\"=>\"Term 6\",\"curriculum_items\"=>Dict{String,Any}[Dict(\"curriculum_requisites\"=>Dict{String,Any}[Dict(\"source_id\"=>2966989896,\"target_id\"=>2193700744,\"type\"=>\"prereq\")],\"name\"=>\"MA 213\",\"metrics\"=>Dict{String,Any}(\"centrality\"=>150,\"complexity\"=>21.0,\"blocking factor\"=>10,\"delay factor\"=>11.0),\"nameSub\"=>\"Calculus III\",\"id\"=>2193700744,\"credits\"=>4,\"nameCanonical\"=>\"\"), Dict(\"curriculum_requisites\"=>Dict{String,Any}[Dict(\"source_id\"=>2865398329,\"target_id\"=>24551683,\"type\"=>\"prereq\"), Dict(\"source_id\"=>2193700744,\"target_id\"=>24551683,\"type\"=>\"coreq\")],\"name\"=>\"PHY 232\",\"metrics\"=>Dict{String,Any}(\"centrality\"=>175,\"complexity\"=>18.0,\"blocking factor\"=>7,\"delay factor\"=>11.0),\"nameSub\"=>\"General University Physics\",\"id\"=>24551683,\"credits\"=>4,\"nameCanonical\"=>\"\"), Dict(\"curriculum_requisites\"=>Dict{String,Any}[Dict(\"source_id\"=>24551683,\"target_id\"=>4109240503,\"type\"=>\"coreq\")],\"name\"=>\"PHY 242\",\"metrics\"=>Dict{String,Any}(\"centrality\"=>84,\"complexity\"=>17.0,\"blocking factor\"=>6,\"delay factor\"=>11.0),\"nameSub\"=>\"General University Physics Lab\",\"id\"=>4109240503,\"credits\"=>1,\"nameCanonical\"=>\"\"), Dict(\"curriculum_requisites\"=>Dict{String,Any}[Dict(\"source_id\"=>24551683,\"target_id\"=>1017230148,\"type\"=>\"coreq\"), Dict(\"source_id\"=>4109240503,\"target_id\"=>1017230148,\"type\"=>\"coreq\")],\"name\"=>\"EE 211\",\"metrics\"=>Dict{String,Any}(\"centrality\"=>160,\"complexity\"=>16.0,\"blocking factor\"=>5,\"delay factor\"=>11.0),\"nameSub\"=>\"Circuits I\",\"id\"=>1017230148,\"credits\"=>4,\"nameCanonical\"=>\"\"), Dict(\"curriculum_requisites\"=>Dict{String,Any}[Dict(\"source_id\"=>502542156,\"target_id\"=>1416959221,\"type\"=>\"prereq\")],\"name\"=>\"EE 282\",\"metrics\"=>Dict{String,Any}(\"centrality\"=>3,\"complexity\"=>4.0,\"blocking factor\"=>1,\"delay factor\"=>3.0),\"nameSub\"=>\"Digital Logic Design\",\"id\"=>1416959221,\"credits\"=>4,\"nameCanonical\"=>\"\")],\"id\"=>6), Dict(\"name\"=>\"Term 7\",\"curriculum_items\"=>Dict{String,Any}[Dict(\"curriculum_requisites\"=>Dict{String,Any}[Dict(\"source_id\"=>2193700744,\"target_id\"=>713164423,\"type\"=>\"prereq\")],\"name\"=>\"MA 214\",\"metrics\"=>Dict{String,Any}(\"centrality\"=>44,\"complexity\"=>12.0,\"blocking factor\"=>5,\"delay factor\"=>7.0),\"nameSub\"=>\"Calculus IV\",\"id\"=>713164423,\"credits\"=>3,\"nameCanonical\"=>\"\"), Dict(\"curriculum_requisites\"=>Dict{String,Any}[Dict(\"source_id\"=>1017230148,\"target_id\"=>2281989961,\"type\"=>\"prereq\"), Dict(\"source_id\"=>713164423,\"target_id\"=>2281989961,\"type\"=>\"coreq\")],\"name\"=>\"EE 223\",\"metrics\"=>Dict{String,Any}(\"centrality\"=>196,\"complexity\"=>15.0,\"blocking factor\"=>4,\"delay factor\"=>11.0),\"nameSub\"=>\"AC Circuits\",\"id\"=>2281989961,\"credits\"=>4,\"nameCanonical\"=>\"\"), Dict(\"curriculum_requisites\"=>Dict{String,Any}[Dict(\"source_id\"=>1416959221,\"target_id\"=>1647567702,\"type\"=>\"prereq\"), Dict(\"source_id\"=>1332377596,\"target_id\"=>1647567702,\"type\"=>\"coreq\")],\"name\"=>\"EE 287\",\"metrics\"=>Dict{String,Any}(\"centrality\"=>0,\"complexity\"=>3.0,\"blocking factor\"=>0,\"delay factor\"=>3.0),\"nameSub\"=>\"Intro. to Embedded Systems\",\"id\"=>1647567702,\"credits\"=>4,\"nameCanonical\"=>\"\"), Dict(\"curriculum_requisites\"=>Dict{String,Any}[],\"name\"=>\"CS 215\",\"metrics\"=>Dict{String,Any}(\"centrality\"=>0,\"complexity\"=>3.0,\"blocking factor\"=>1,\"delay factor\"=>2.0),\"nameSub\"=>\"Intro. to Program Design Abstraction and Problem Solving\",\"id\"=>1332377596,\"credits\"=>4,\"nameCanonical\"=>\"\"), Dict(\"curriculum_requisites\"=>Dict{String,Any}[],\"name\"=>\" \",\"metrics\"=>Dict{String,Any}(\"centrality\"=>0,\"complexity\"=>1.0,\"blocking factor\"=>0,\"delay factor\"=>1.0),\"nameSub\"=>\"UK Core - Humanities\",\"id\"=>699408466,\"credits\"=>3,\"nameCanonical\"=>\"\")],\"id\"=>7), Dict(\"name\"=>\"Term 8\",\"curriculum_items\"=>Dict{String,Any}[Dict(\"curriculum_requisites\"=>Dict{String,Any}[Dict(\"source_id\"=>2281989961,\"target_id\"=>3945639322,\"type\"=>\"prereq\"), Dict(\"source_id\"=>24551683,\"target_id\"=>3945639322,\"type\"=>\"prereq\")],\"name\"=>\"EE 415G\",\"metrics\"=>Dict{String,Any}(\"centrality\"=>0,\"complexity\"=>11.0,\"blocking factor\"=>0,\"delay factor\"=>11.0),\"nameSub\"=>\"Electromechanics\",\"id\"=>3945639322,\"credits\"=>3,\"nameCanonical\"=>\"\"), Dict(\"curriculum_requisites\"=>Dict{String,Any}[Dict(\"source_id\"=>2281989961,\"target_id\"=>2950065960,\"type\"=>\"prereq\"), Dict(\"source_id\"=>713164423,\"target_id\"=>2950065960,\"type\"=>\"prereq\")],\"name\"=>\"EE 421G\",\"metrics\"=>Dict{String,Any}(\"centrality\"=>0,\"complexity\"=>11.0,\"blocking factor\"=>0,\"delay factor\"=>11.0),\"nameSub\"=>\"Signals & Systems\",\"id\"=>2950065960,\"credits\"=>3,\"nameCanonical\"=>\"\"), Dict(\"curriculum_requisites\"=>Dict{String,Any}[],\"name\"=>\" \",\"metrics\"=>Dict{String,Any}(\"centrality\"=>0,\"complexity\"=>1.0,\"blocking factor\"=>0,\"delay factor\"=>1.0),\"nameSub\"=>\"Elective EE Laboratory 1\",\"id\"=>448709314,\"credits\"=>2,\"nameCanonical\"=>\"\"), Dict(\"curriculum_requisites\"=>Dict{String,Any}[Dict(\"source_id\"=>2281989961,\"target_id\"=>16242192,\"type\"=>\"prereq\")],\"name\"=>\"EE 461G\",\"metrics\"=>Dict{String,Any}(\"centrality\"=>0,\"complexity\"=>11.0,\"blocking factor\"=>0,\"delay factor\"=>11.0),\"nameSub\"=>\"Intro. to Electronics\",\"id\"=>16242192,\"credits\"=>3,\"nameCanonical\"=>\"\"), Dict(\"curriculum_requisites\"=>Dict{String,Any}[Dict(\"source_id\"=>2193700744,\"target_id\"=>2756944549,\"type\"=>\"prereq\")],\"name\"=>\"MA 320\",\"metrics\"=>Dict{String,Any}(\"centrality\"=>0,\"complexity\"=>7.0,\"blocking factor\"=>0,\"delay factor\"=>7.0),\"nameSub\"=>\"Introductory Probability\",\"id\"=>2756944549,\"credits\"=>3,\"nameCanonical\"=>\"\"), Dict(\"curriculum_requisites\"=>Dict{String,Any}[],\"name\"=>\" \",\"metrics\"=>Dict{String,Any}(\"centrality\"=>0,\"complexity\"=>1.0,\"blocking factor\"=>0,\"delay factor\"=>1.0),\"nameSub\"=>\"Technical Elective 1\",\"id\"=>3654615878,\"credits\"=>3,\"nameCanonical\"=>\"\")],\"id\"=>8), Dict(\"name\"=>\"Term 9\",\"curriculum_items\"=>Dict{String,Any}[Dict(\"curriculum_requisites\"=>Dict{String,Any}[Dict(\"source_id\"=>2281989961,\"target_id\"=>1400716874,\"type\"=>\"prereq\"), Dict(\"source_id\"=>2193700744,\"target_id\"=>1400716874,\"type\"=>\"prereq\")],\"name\"=>\"EE 468G\",\"metrics\"=>Dict{String,Any}(\"centrality\"=>0,\"complexity\"=>11.0,\"blocking factor\"=>0,\"delay factor\"=>11.0),\"nameSub\"=>\"Intro. to Engineering Electromagnetics\",\"id\"=>1400716874,\"credits\"=>4,\"nameCanonical\"=>\"\"), Dict(\"curriculum_requisites\"=>Dict{String,Any}[],\"name\"=>\" \",\"metrics\"=>Dict{String,Any}(\"centrality\"=>0,\"complexity\"=>1.0,\"blocking factor\"=>0,\"delay factor\"=>1.0),\"nameSub\"=>\"Elective EE Laboratory 2\",\"id\"=>3008452217,\"credits\"=>2,\"nameCanonical\"=>\"\"), Dict(\"curriculum_requisites\"=>Dict{String,Any}[],\"name\"=>\" \",\"metrics\"=>Dict{String,Any}(\"centrality\"=>0,\"complexity\"=>1.0,\"blocking factor\"=>0,\"delay factor\"=>1.0),\"nameSub\"=>\"Engineering/Science Elective 1\",\"id\"=>1824271747,\"credits\"=>3,\"nameCanonical\"=>\"\"), Dict(\"curriculum_requisites\"=>Dict{String,Any}[],\"name\"=>\" \",\"metrics\"=>Dict{String,Any}(\"centrality\"=>0,\"complexity\"=>1.0,\"blocking factor\"=>0,\"delay factor\"=>1.0),\"nameSub\"=>\"Technical Elective 2\",\"id\"=>3697264218,\"credits\"=>3,\"nameCanonical\"=>\"\"), Dict(\"curriculum_requisites\"=>Dict{String,Any}[],\"name\"=>\" \",\"metrics\"=>Dict{String,Any}(\"centrality\"=>0,\"complexity\"=>1.0,\"blocking factor\"=>0,\"delay factor\"=>1.0),\"nameSub\"=>\"UK Core - Citizenship - USA\",\"id\"=>1496407185,\"credits\"=>3,\"nameCanonical\"=>\"\")],\"id\"=>9), Dict(\"name\"=>\"Term 10\",\"curriculum_items\"=>Dict{String,Any}[Dict(\"curriculum_requisites\"=>Dict{String,Any}[],\"name\"=>\"EE 490\",\"metrics\"=>Dict{String,Any}(\"centrality\"=>0,\"complexity\"=>3.0,\"blocking factor\"=>1,\"delay factor\"=>2.0),\"nameSub\"=>\"EE Capstone Design\",\"id\"=>1116551982,\"credits\"=>3,\"nameCanonical\"=>\"\"), Dict(\"curriculum_requisites\"=>Dict{String,Any}[],\"name\"=>\" \",\"metrics\"=>Dict{String,Any}(\"centrality\"=>0,\"complexity\"=>1.0,\"blocking factor\"=>0,\"delay factor\"=>1.0),\"nameSub\"=>\"EE Technical Elective 1\",\"id\"=>1373040133,\"credits\"=>3,\"nameCanonical\"=>\"\"), Dict(\"curriculum_requisites\"=>Dict{String,Any}[],\"name\"=>\" \",\"metrics\"=>Dict{String,Any}(\"centrality\"=>0,\"complexity\"=>1.0,\"blocking factor\"=>0,\"delay factor\"=>1.0),\"nameSub\"=>\"EE Technical Elective 2\",\"id\"=>2900608954,\"credits\"=>3,\"nameCanonical\"=>\"\"), Dict(\"curriculum_requisites\"=>Dict{String,Any}[],\"name\"=>\" \",\"metrics\"=>Dict{String,Any}(\"centrality\"=>0,\"complexity\"=>1.0,\"blocking factor\"=>0,\"delay factor\"=>1.0),\"nameSub\"=>\"Math/Statistics Elective\",\"id\"=>147960851,\"credits\"=>3,\"nameCanonical\"=>\"\"), Dict(\"curriculum_requisites\"=>Dict{String,Any}[],\"name\"=>\" \",\"metrics\"=>Dict{String,Any}(\"centrality\"=>0,\"complexity\"=>1.0,\"blocking factor\"=>0,\"delay factor\"=>1.0),\"nameSub\"=>\"UK Core - Global Dynamics\",\"id\"=>819264340,\"credits\"=>3,\"nameCanonical\"=>\"\")],\"id\"=>10), Dict(\"name\"=>\"Term 11\",\"curriculum_items\"=>Dict{String,Any}[Dict(\"curriculum_requisites\"=>Dict{String,Any}[Dict(\"source_id\"=>1116551982,\"target_id\"=>2674820998,\"type\"=>\"prereq\")],\"name\"=>\"EE 491\",\"metrics\"=>Dict{String,Any}(\"centrality\"=>0,\"complexity\"=>2.0,\"blocking factor\"=>0,\"delay factor\"=>2.0),\"nameSub\"=>\"EE Capstone Design\",\"id\"=>2674820998,\"credits\"=>3,\"nameCanonical\"=>\"\"), Dict(\"curriculum_requisites\"=>Dict{String,Any}[],\"name\"=>\" \",\"metrics\"=>Dict{String,Any}(\"centrality\"=>0,\"complexity\"=>1.0,\"blocking factor\"=>0,\"delay factor\"=>1.0),\"nameSub\"=>\"EE Technical Elective 3\",\"id\"=>3472050261,\"credits\"=>3,\"nameCanonical\"=>\"\"), Dict(\"curriculum_requisites\"=>Dict{String,Any}[],\"name\"=>\" \",\"metrics\"=>Dict{String,Any}(\"centrality\"=>0,\"complexity\"=>1.0,\"blocking factor\"=>0,\"delay factor\"=>1.0),\"nameSub\"=>\"EE Technical Elective 4\",\"id\"=>3141179749,\"credits\"=>3,\"nameCanonical\"=>\"\"), Dict(\"curriculum_requisites\"=>Dict{String,Any}[],\"name\"=>\" \",\"metrics\"=>Dict{String,Any}(\"centrality\"=>0,\"complexity\"=>1.0,\"blocking factor\"=>0,\"delay factor\"=>1.0),\"nameSub\"=>\"Supportive Elective\",\"id\"=>109586583,\"credits\"=>3,\"nameCanonical\"=>\"\"), Dict(\"curriculum_requisites\"=>Dict{String,Any}[],\"name\"=>\" \",\"metrics\"=>Dict{String,Any}(\"centrality\"=>0,\"complexity\"=>1.0,\"blocking factor\"=>0,\"delay factor\"=>1.0),\"nameSub\"=>\"Engineering/Science Elective 2\",\"id\"=>1227973603,\"credits\"=>3,\"nameCanonical\"=>\"\"), Dict(\"curriculum_requisites\"=>Dict{String,Any}[],\"name\"=>\" \",\"metrics\"=>Dict{String,Any}(\"centrality\"=>0,\"complexity\"=>1.0,\"blocking factor\"=>0,\"delay factor\"=>1.0),\"nameSub\"=>\"UK Core - Statistical Inferential Reasoning\",\"id\"=>599971617,\"credits\"=>3,\"nameCanonical\"=>\"\")],\"id\"=>11)],\"institution\"=>\"\")), nothing)), Set(String[]), nothing, WebIO.Asset[], Dict{Any,Any}(), WebIO.ConnectionPool(Channel{Any}(sz_max:32,sz_curr:0), Set(WebIO.AbstractConnection[]), Channel{WebIO.AbstractConnection}(sz_max:32,sz_curr:0)), WebIO.JSString[])"
      ]
     },
     "execution_count": 6,
     "metadata": {
      "application/vnd.webio.node+json": {
       "kernelId": "648a078a-cf92-4883-a270-432bb7a2c95f"
      }
     },
     "output_type": "execute_result"
    }
   ],
   "source": [
    "visualize(read_csv(\"UKY_EE_plan_basic_math.csv\"), notebook=true)"
   ]
  },
  {
   "cell_type": "markdown",
   "metadata": {},
   "source": [
    "### Analyzing the Curricular Design Pattern\n",
    "\n",
    "#### The pattern for Calculus I ready students. \n",
    "In the design pattern displayed above, for an electrical engineering program, notice that the assumption is that students enter Calculus I ready, and that if they are able to successfully complete all of the prerequisite courses, they will be able to take Circuits I (a foundational electrical engineering course) in the second semester of their sophomore year. Notice that the overall curricular complexity of this design pattern is ?.\n",
    "\n",
    "#### The pattern for Precalculus ready students.\n",
    "Now let's look at what happens to students who are not Calculus I ready when they enter the institution -- let's assume instead that they are Precalculus ready.  The curricular complexity increases to ?."
   ]
  },
  {
   "cell_type": "code",
   "execution_count": 7,
   "metadata": {
    "scrolled": false
   },
   "outputs": [
    {
     "data": {
      "application/vnd.webio.node+json": {
       "children": [
        {
         "children": [
          ""
         ],
         "instanceArgs": {
          "namespace": "html",
          "tag": "iframe"
         },
         "nodeType": "DOM",
         "props": {
          "events": {
           "load": "(function (){this.contentWindow.postMessage({\"options\":{\"hideTerms\":false,\"edit\":false},\"curriculum\":{\"name\":\"Circuits I Design Pattern\",\"dp_name\":\"Calculus ready\",\"curriculum_terms\":[{\"name\":\"Term 1\",\"curriculum_items\":[{\"curriculum_requisites\":[],\"name\":\" \",\"metrics\":{\"centrality\":0,\"complexity\":16.0,\"blocking factor\":9,\"delay factor\":7.0},\"nameSub\":\"Precalculus\",\"id\":10,\"credits\":4,\"nameCanonical\":\"\"}],\"id\":1},{\"name\":\"Term 2\",\"curriculum_items\":[{\"curriculum_requisites\":[{\"source_id\":10,\"target_id\":1,\"type\":\"prereq\"}],\"name\":\" \",\"metrics\":{\"centrality\":30,\"complexity\":15.0,\"blocking factor\":8,\"delay factor\":7.0},\"nameSub\":\"Calculus I\",\"id\":1,\"credits\":4,\"nameCanonical\":\"\"}],\"id\":2},{\"name\":\"Term 3\",\"curriculum_items\":[{\"curriculum_requisites\":[{\"source_id\":1,\"target_id\":2,\"type\":\"prereq\"}],\"name\":\" \",\"metrics\":{\"centrality\":6,\"complexity\":7.0,\"blocking factor\":3,\"delay factor\":4.0},\"nameSub\":\"Calculus II\",\"id\":2,\"credits\":4,\"nameCanonical\":\"\"},{\"curriculum_requisites\":[{\"source_id\":1,\"target_id\":3,\"type\":\"prereq\"}],\"name\":\" \",\"metrics\":{\"centrality\":24,\"complexity\":12.0,\"blocking factor\":5,\"delay factor\":7.0},\"nameSub\":\"Physics I\",\"id\":3,\"credits\":3,\"nameCanonical\":\"\"},{\"curriculum_requisites\":[{\"source_id\":3,\"target_id\":4,\"type\":\"coreq\"}],\"name\":\" \",\"metrics\":{\"centrality\":13,\"complexity\":11.0,\"blocking factor\":4,\"delay factor\":7.0},\"nameSub\":\"Physics I Lab\",\"id\":4,\"credits\":1,\"nameCanonical\":\"\"}],\"id\":3},{\"name\":\"Term 4\",\"curriculum_items\":[{\"curriculum_requisites\":[{\"source_id\":4,\"target_id\":5,\"type\":\"prereq\"},{\"source_id\":3,\"target_id\":5,\"type\":\"prereq\"}],\"name\":\" \",\"metrics\":{\"centrality\":24,\"complexity\":10.0,\"blocking factor\":3,\"delay factor\":7.0},\"nameSub\":\"Physics II\",\"id\":5,\"credits\":3,\"nameCanonical\":\"\"},{\"curriculum_requisites\":[{\"source_id\":5,\"target_id\":6,\"type\":\"coreq\"}],\"name\":\" \",\"metrics\":{\"centrality\":0,\"complexity\":6.0,\"blocking factor\":0,\"delay factor\":6.0},\"nameSub\":\"Physics II Lab\",\"id\":6,\"credits\":1,\"nameCanonical\":\"\"},{\"curriculum_requisites\":[{\"source_id\":2,\"target_id\":7,\"type\":\"prereq\"}],\"name\":\" \",\"metrics\":{\"centrality\":6,\"complexity\":6.0,\"blocking factor\":2,\"delay factor\":4.0},\"nameSub\":\"Differential Eqs.\",\"id\":7,\"credits\":3,\"nameCanonical\":\"\"},{\"curriculum_requisites\":[{\"source_id\":7,\"target_id\":8,\"type\":\"prereq\"},{\"source_id\":5,\"target_id\":8,\"type\":\"prereq\"}],\"name\":\" \",\"metrics\":{\"centrality\":19,\"complexity\":8.0,\"blocking factor\":1,\"delay factor\":7.0},\"nameSub\":\"Circuits I\",\"id\":8,\"credits\":3,\"nameCanonical\":\"\"}],\"id\":4},{\"name\":\"Term 5\",\"curriculum_items\":[{\"curriculum_requisites\":[{\"source_id\":8,\"target_id\":9,\"type\":\"prereq\"}],\"name\":\" \",\"metrics\":{\"centrality\":0,\"complexity\":7.0,\"blocking factor\":0,\"delay factor\":7.0},\"nameSub\":\"Circuits II\",\"id\":9,\"credits\":3,\"nameCanonical\":\"\"}],\"id\":5}],\"institution\":\"\"}},\"*\"); window.removeEventListener(\"message\",window.messageReceived); window.messageReceived=(function (event){return (event.data.curriculum!==undefined) ? (WebIO.setval({\"name\":\"curriculum-data\",\"scope\":\"11988695598571899499\",\"id\":\"ob_06\",\"type\":\"observable\"},event.data.curriculum)) : undefined}); return window.addEventListener(\"message\",window.messageReceived)})"
          },
          "id": "curriculum",
          "src": "http://localhost:8156",
          "style": {
           "border": "none",
           "height": "80vh",
           "margin": "0",
           "padding": "0",
           "width": "100%"
          }
         },
         "type": "node"
        }
       ],
       "instanceArgs": {
        "handlers": {},
        "id": "11988695598571899499",
        "imports": {
         "data": [],
         "type": "async_block"
        },
        "mount_callbacks": [],
        "observables": {
         "curriculum-data": {
          "id": "ob_06",
          "sync": true,
          "value": {
           "curriculum": {
            "curriculum_terms": [
             {
              "curriculum_items": [
               {
                "credits": 4,
                "curriculum_requisites": [],
                "id": 10,
                "metrics": {
                 "blocking factor": 9,
                 "centrality": 0,
                 "complexity": 16,
                 "delay factor": 7
                },
                "name": " ",
                "nameCanonical": "",
                "nameSub": "Precalculus"
               }
              ],
              "id": 1,
              "name": "Term 1"
             },
             {
              "curriculum_items": [
               {
                "credits": 4,
                "curriculum_requisites": [
                 {
                  "source_id": 10,
                  "target_id": 1,
                  "type": "prereq"
                 }
                ],
                "id": 1,
                "metrics": {
                 "blocking factor": 8,
                 "centrality": 30,
                 "complexity": 15,
                 "delay factor": 7
                },
                "name": " ",
                "nameCanonical": "",
                "nameSub": "Calculus I"
               }
              ],
              "id": 2,
              "name": "Term 2"
             },
             {
              "curriculum_items": [
               {
                "credits": 4,
                "curriculum_requisites": [
                 {
                  "source_id": 1,
                  "target_id": 2,
                  "type": "prereq"
                 }
                ],
                "id": 2,
                "metrics": {
                 "blocking factor": 3,
                 "centrality": 6,
                 "complexity": 7,
                 "delay factor": 4
                },
                "name": " ",
                "nameCanonical": "",
                "nameSub": "Calculus II"
               },
               {
                "credits": 3,
                "curriculum_requisites": [
                 {
                  "source_id": 1,
                  "target_id": 3,
                  "type": "prereq"
                 }
                ],
                "id": 3,
                "metrics": {
                 "blocking factor": 5,
                 "centrality": 24,
                 "complexity": 12,
                 "delay factor": 7
                },
                "name": " ",
                "nameCanonical": "",
                "nameSub": "Physics I"
               },
               {
                "credits": 1,
                "curriculum_requisites": [
                 {
                  "source_id": 3,
                  "target_id": 4,
                  "type": "coreq"
                 }
                ],
                "id": 4,
                "metrics": {
                 "blocking factor": 4,
                 "centrality": 13,
                 "complexity": 11,
                 "delay factor": 7
                },
                "name": " ",
                "nameCanonical": "",
                "nameSub": "Physics I Lab"
               }
              ],
              "id": 3,
              "name": "Term 3"
             },
             {
              "curriculum_items": [
               {
                "credits": 3,
                "curriculum_requisites": [
                 {
                  "source_id": 4,
                  "target_id": 5,
                  "type": "prereq"
                 },
                 {
                  "source_id": 3,
                  "target_id": 5,
                  "type": "prereq"
                 }
                ],
                "id": 5,
                "metrics": {
                 "blocking factor": 3,
                 "centrality": 24,
                 "complexity": 10,
                 "delay factor": 7
                },
                "name": " ",
                "nameCanonical": "",
                "nameSub": "Physics II"
               },
               {
                "credits": 1,
                "curriculum_requisites": [
                 {
                  "source_id": 5,
                  "target_id": 6,
                  "type": "coreq"
                 }
                ],
                "id": 6,
                "metrics": {
                 "blocking factor": 0,
                 "centrality": 0,
                 "complexity": 6,
                 "delay factor": 6
                },
                "name": " ",
                "nameCanonical": "",
                "nameSub": "Physics II Lab"
               },
               {
                "credits": 3,
                "curriculum_requisites": [
                 {
                  "source_id": 2,
                  "target_id": 7,
                  "type": "prereq"
                 }
                ],
                "id": 7,
                "metrics": {
                 "blocking factor": 2,
                 "centrality": 6,
                 "complexity": 6,
                 "delay factor": 4
                },
                "name": " ",
                "nameCanonical": "",
                "nameSub": "Differential Eqs."
               },
               {
                "credits": 3,
                "curriculum_requisites": [
                 {
                  "source_id": 7,
                  "target_id": 8,
                  "type": "prereq"
                 },
                 {
                  "source_id": 5,
                  "target_id": 8,
                  "type": "prereq"
                 }
                ],
                "id": 8,
                "metrics": {
                 "blocking factor": 1,
                 "centrality": 19,
                 "complexity": 8,
                 "delay factor": 7
                },
                "name": " ",
                "nameCanonical": "",
                "nameSub": "Circuits I"
               }
              ],
              "id": 4,
              "name": "Term 4"
             },
             {
              "curriculum_items": [
               {
                "credits": 3,
                "curriculum_requisites": [
                 {
                  "source_id": 8,
                  "target_id": 9,
                  "type": "prereq"
                 }
                ],
                "id": 9,
                "metrics": {
                 "blocking factor": 0,
                 "centrality": 0,
                 "complexity": 7,
                 "delay factor": 7
                },
                "name": " ",
                "nameCanonical": "",
                "nameSub": "Circuits II"
               }
              ],
              "id": 5,
              "name": "Term 5"
             }
            ],
            "dp_name": "Calculus ready",
            "institution": "",
            "name": "Circuits I Design Pattern"
           },
           "options": {
            "edit": false,
            "hideTerms": false
           }
          }
         }
        },
        "systemjs_options": null
       },
       "nodeType": "Scope",
       "props": {},
       "type": "node"
      },
      "text/html": [
       "<div\n",
       "    class=\"webio-mountpoint\"\n",
       "    data-webio-mountpoint=\"9392465208842372641\"\n",
       ">\n",
       "    <script>\n",
       "    if (window.require && require.defined && require.defined(\"nbextensions/webio/main\")) {\n",
       "        console.log(\"Jupyter WebIO extension detected, not mounting.\");\n",
       "    } else if (window.WebIO) {\n",
       "        WebIO.mount(\n",
       "            document.querySelector('[data-webio-mountpoint=\"9392465208842372641\"]'),\n",
       "            {\"props\":{},\"nodeType\":\"Scope\",\"type\":\"node\",\"instanceArgs\":{\"imports\":{\"data\":[],\"type\":\"async_block\"},\"id\":\"11988695598571899499\",\"handlers\":{},\"systemjs_options\":null,\"mount_callbacks\":[],\"observables\":{\"curriculum-data\":{\"sync\":true,\"id\":\"ob_06\",\"value\":{\"options\":{\"hideTerms\":false,\"edit\":false},\"curriculum\":{\"name\":\"Circuits I Design Pattern\",\"dp_name\":\"Calculus ready\",\"curriculum_terms\":[{\"name\":\"Term 1\",\"curriculum_items\":[{\"curriculum_requisites\":[],\"name\":\" \",\"metrics\":{\"centrality\":0,\"complexity\":16.0,\"blocking factor\":9,\"delay factor\":7.0},\"nameSub\":\"Precalculus\",\"id\":10,\"credits\":4,\"nameCanonical\":\"\"}],\"id\":1},{\"name\":\"Term 2\",\"curriculum_items\":[{\"curriculum_requisites\":[{\"source_id\":10,\"target_id\":1,\"type\":\"prereq\"}],\"name\":\" \",\"metrics\":{\"centrality\":30,\"complexity\":15.0,\"blocking factor\":8,\"delay factor\":7.0},\"nameSub\":\"Calculus I\",\"id\":1,\"credits\":4,\"nameCanonical\":\"\"}],\"id\":2},{\"name\":\"Term 3\",\"curriculum_items\":[{\"curriculum_requisites\":[{\"source_id\":1,\"target_id\":2,\"type\":\"prereq\"}],\"name\":\" \",\"metrics\":{\"centrality\":6,\"complexity\":7.0,\"blocking factor\":3,\"delay factor\":4.0},\"nameSub\":\"Calculus II\",\"id\":2,\"credits\":4,\"nameCanonical\":\"\"},{\"curriculum_requisites\":[{\"source_id\":1,\"target_id\":3,\"type\":\"prereq\"}],\"name\":\" \",\"metrics\":{\"centrality\":24,\"complexity\":12.0,\"blocking factor\":5,\"delay factor\":7.0},\"nameSub\":\"Physics I\",\"id\":3,\"credits\":3,\"nameCanonical\":\"\"},{\"curriculum_requisites\":[{\"source_id\":3,\"target_id\":4,\"type\":\"coreq\"}],\"name\":\" \",\"metrics\":{\"centrality\":13,\"complexity\":11.0,\"blocking factor\":4,\"delay factor\":7.0},\"nameSub\":\"Physics I Lab\",\"id\":4,\"credits\":1,\"nameCanonical\":\"\"}],\"id\":3},{\"name\":\"Term 4\",\"curriculum_items\":[{\"curriculum_requisites\":[{\"source_id\":4,\"target_id\":5,\"type\":\"prereq\"},{\"source_id\":3,\"target_id\":5,\"type\":\"prereq\"}],\"name\":\" \",\"metrics\":{\"centrality\":24,\"complexity\":10.0,\"blocking factor\":3,\"delay factor\":7.0},\"nameSub\":\"Physics II\",\"id\":5,\"credits\":3,\"nameCanonical\":\"\"},{\"curriculum_requisites\":[{\"source_id\":5,\"target_id\":6,\"type\":\"coreq\"}],\"name\":\" \",\"metrics\":{\"centrality\":0,\"complexity\":6.0,\"blocking factor\":0,\"delay factor\":6.0},\"nameSub\":\"Physics II Lab\",\"id\":6,\"credits\":1,\"nameCanonical\":\"\"},{\"curriculum_requisites\":[{\"source_id\":2,\"target_id\":7,\"type\":\"prereq\"}],\"name\":\" \",\"metrics\":{\"centrality\":6,\"complexity\":6.0,\"blocking factor\":2,\"delay factor\":4.0},\"nameSub\":\"Differential Eqs.\",\"id\":7,\"credits\":3,\"nameCanonical\":\"\"},{\"curriculum_requisites\":[{\"source_id\":7,\"target_id\":8,\"type\":\"prereq\"},{\"source_id\":5,\"target_id\":8,\"type\":\"prereq\"}],\"name\":\" \",\"metrics\":{\"centrality\":19,\"complexity\":8.0,\"blocking factor\":1,\"delay factor\":7.0},\"nameSub\":\"Circuits I\",\"id\":8,\"credits\":3,\"nameCanonical\":\"\"}],\"id\":4},{\"name\":\"Term 5\",\"curriculum_items\":[{\"curriculum_requisites\":[{\"source_id\":8,\"target_id\":9,\"type\":\"prereq\"}],\"name\":\" \",\"metrics\":{\"centrality\":0,\"complexity\":7.0,\"blocking factor\":0,\"delay factor\":7.0},\"nameSub\":\"Circuits II\",\"id\":9,\"credits\":3,\"nameCanonical\":\"\"}],\"id\":5}],\"institution\":\"\"}}}}},\"children\":[{\"props\":{\"src\":\"http:\\/\\/localhost:8156\",\"id\":\"curriculum\",\"events\":{\"load\":\"(function (){this.contentWindow.postMessage({\\\"options\\\":{\\\"hideTerms\\\":false,\\\"edit\\\":false},\\\"curriculum\\\":{\\\"name\\\":\\\"Circuits I Design Pattern\\\",\\\"dp_name\\\":\\\"Calculus ready\\\",\\\"curriculum_terms\\\":[{\\\"name\\\":\\\"Term 1\\\",\\\"curriculum_items\\\":[{\\\"curriculum_requisites\\\":[],\\\"name\\\":\\\" \\\",\\\"metrics\\\":{\\\"centrality\\\":0,\\\"complexity\\\":16.0,\\\"blocking factor\\\":9,\\\"delay factor\\\":7.0},\\\"nameSub\\\":\\\"Precalculus\\\",\\\"id\\\":10,\\\"credits\\\":4,\\\"nameCanonical\\\":\\\"\\\"}],\\\"id\\\":1},{\\\"name\\\":\\\"Term 2\\\",\\\"curriculum_items\\\":[{\\\"curriculum_requisites\\\":[{\\\"source_id\\\":10,\\\"target_id\\\":1,\\\"type\\\":\\\"prereq\\\"}],\\\"name\\\":\\\" \\\",\\\"metrics\\\":{\\\"centrality\\\":30,\\\"complexity\\\":15.0,\\\"blocking factor\\\":8,\\\"delay factor\\\":7.0},\\\"nameSub\\\":\\\"Calculus I\\\",\\\"id\\\":1,\\\"credits\\\":4,\\\"nameCanonical\\\":\\\"\\\"}],\\\"id\\\":2},{\\\"name\\\":\\\"Term 3\\\",\\\"curriculum_items\\\":[{\\\"curriculum_requisites\\\":[{\\\"source_id\\\":1,\\\"target_id\\\":2,\\\"type\\\":\\\"prereq\\\"}],\\\"name\\\":\\\" \\\",\\\"metrics\\\":{\\\"centrality\\\":6,\\\"complexity\\\":7.0,\\\"blocking factor\\\":3,\\\"delay factor\\\":4.0},\\\"nameSub\\\":\\\"Calculus II\\\",\\\"id\\\":2,\\\"credits\\\":4,\\\"nameCanonical\\\":\\\"\\\"},{\\\"curriculum_requisites\\\":[{\\\"source_id\\\":1,\\\"target_id\\\":3,\\\"type\\\":\\\"prereq\\\"}],\\\"name\\\":\\\" \\\",\\\"metrics\\\":{\\\"centrality\\\":24,\\\"complexity\\\":12.0,\\\"blocking factor\\\":5,\\\"delay factor\\\":7.0},\\\"nameSub\\\":\\\"Physics I\\\",\\\"id\\\":3,\\\"credits\\\":3,\\\"nameCanonical\\\":\\\"\\\"},{\\\"curriculum_requisites\\\":[{\\\"source_id\\\":3,\\\"target_id\\\":4,\\\"type\\\":\\\"coreq\\\"}],\\\"name\\\":\\\" \\\",\\\"metrics\\\":{\\\"centrality\\\":13,\\\"complexity\\\":11.0,\\\"blocking factor\\\":4,\\\"delay factor\\\":7.0},\\\"nameSub\\\":\\\"Physics I Lab\\\",\\\"id\\\":4,\\\"credits\\\":1,\\\"nameCanonical\\\":\\\"\\\"}],\\\"id\\\":3},{\\\"name\\\":\\\"Term 4\\\",\\\"curriculum_items\\\":[{\\\"curriculum_requisites\\\":[{\\\"source_id\\\":4,\\\"target_id\\\":5,\\\"type\\\":\\\"prereq\\\"},{\\\"source_id\\\":3,\\\"target_id\\\":5,\\\"type\\\":\\\"prereq\\\"}],\\\"name\\\":\\\" \\\",\\\"metrics\\\":{\\\"centrality\\\":24,\\\"complexity\\\":10.0,\\\"blocking factor\\\":3,\\\"delay factor\\\":7.0},\\\"nameSub\\\":\\\"Physics II\\\",\\\"id\\\":5,\\\"credits\\\":3,\\\"nameCanonical\\\":\\\"\\\"},{\\\"curriculum_requisites\\\":[{\\\"source_id\\\":5,\\\"target_id\\\":6,\\\"type\\\":\\\"coreq\\\"}],\\\"name\\\":\\\" \\\",\\\"metrics\\\":{\\\"centrality\\\":0,\\\"complexity\\\":6.0,\\\"blocking factor\\\":0,\\\"delay factor\\\":6.0},\\\"nameSub\\\":\\\"Physics II Lab\\\",\\\"id\\\":6,\\\"credits\\\":1,\\\"nameCanonical\\\":\\\"\\\"},{\\\"curriculum_requisites\\\":[{\\\"source_id\\\":2,\\\"target_id\\\":7,\\\"type\\\":\\\"prereq\\\"}],\\\"name\\\":\\\" \\\",\\\"metrics\\\":{\\\"centrality\\\":6,\\\"complexity\\\":6.0,\\\"blocking factor\\\":2,\\\"delay factor\\\":4.0},\\\"nameSub\\\":\\\"Differential Eqs.\\\",\\\"id\\\":7,\\\"credits\\\":3,\\\"nameCanonical\\\":\\\"\\\"},{\\\"curriculum_requisites\\\":[{\\\"source_id\\\":7,\\\"target_id\\\":8,\\\"type\\\":\\\"prereq\\\"},{\\\"source_id\\\":5,\\\"target_id\\\":8,\\\"type\\\":\\\"prereq\\\"}],\\\"name\\\":\\\" \\\",\\\"metrics\\\":{\\\"centrality\\\":19,\\\"complexity\\\":8.0,\\\"blocking factor\\\":1,\\\"delay factor\\\":7.0},\\\"nameSub\\\":\\\"Circuits I\\\",\\\"id\\\":8,\\\"credits\\\":3,\\\"nameCanonical\\\":\\\"\\\"}],\\\"id\\\":4},{\\\"name\\\":\\\"Term 5\\\",\\\"curriculum_items\\\":[{\\\"curriculum_requisites\\\":[{\\\"source_id\\\":8,\\\"target_id\\\":9,\\\"type\\\":\\\"prereq\\\"}],\\\"name\\\":\\\" \\\",\\\"metrics\\\":{\\\"centrality\\\":0,\\\"complexity\\\":7.0,\\\"blocking factor\\\":0,\\\"delay factor\\\":7.0},\\\"nameSub\\\":\\\"Circuits II\\\",\\\"id\\\":9,\\\"credits\\\":3,\\\"nameCanonical\\\":\\\"\\\"}],\\\"id\\\":5}],\\\"institution\\\":\\\"\\\"}},\\\"*\\\"); window.removeEventListener(\\\"message\\\",window.messageReceived); window.messageReceived=(function (event){return (event.data.curriculum!==undefined) ? (WebIO.setval({\\\"name\\\":\\\"curriculum-data\\\",\\\"scope\\\":\\\"11988695598571899499\\\",\\\"id\\\":\\\"ob_06\\\",\\\"type\\\":\\\"observable\\\"},event.data.curriculum)) : undefined}); return window.addEventListener(\\\"message\\\",window.messageReceived)})\"},\"style\":{\"padding\":\"0\",\"height\":\"80vh\",\"margin\":\"0\",\"border\":\"none\",\"width\":\"100%\"}},\"nodeType\":\"DOM\",\"type\":\"node\",\"instanceArgs\":{\"namespace\":\"html\",\"tag\":\"iframe\"},\"children\":[\"\"]}]},\n",
       "            window,\n",
       "        );\n",
       "    } else {\n",
       "        document\n",
       "            .querySelector('[data-webio-mountpoint=\"9392465208842372641\"]')\n",
       "            .innerHTML = '<strong>WebIO not detected.</strong>';\n",
       "    }\n",
       "    </script>\n",
       "</div>\n"
      ],
      "text/plain": [
       "WebIO.Scope(WebIO.Node{WebIO.DOM}(WebIO.DOM(:html, :iframe), Any[\"\"], Dict{Symbol,Any}(:src=>\"http://localhost:8156\",:id=>\"curriculum\",:events=>Dict(:load=>JSString(\"(function (){this.contentWindow.postMessage({\\\"options\\\":{\\\"hideTerms\\\":false,\\\"edit\\\":false},\\\"curriculum\\\":{\\\"name\\\":\\\"Circuits I Design Pattern\\\",\\\"dp_name\\\":\\\"Calculus ready\\\",\\\"curriculum_terms\\\":[{\\\"name\\\":\\\"Term 1\\\",\\\"curriculum_items\\\":[{\\\"curriculum_requisites\\\":[],\\\"name\\\":\\\" \\\",\\\"metrics\\\":{\\\"centrality\\\":0,\\\"complexity\\\":16.0,\\\"blocking factor\\\":9,\\\"delay factor\\\":7.0},\\\"nameSub\\\":\\\"Precalculus\\\",\\\"id\\\":10,\\\"credits\\\":4,\\\"nameCanonical\\\":\\\"\\\"}],\\\"id\\\":1},{\\\"name\\\":\\\"Term 2\\\",\\\"curriculum_items\\\":[{\\\"curriculum_requisites\\\":[{\\\"source_id\\\":10,\\\"target_id\\\":1,\\\"type\\\":\\\"prereq\\\"}],\\\"name\\\":\\\" \\\",\\\"metrics\\\":{\\\"centrality\\\":30,\\\"complexity\\\":15.0,\\\"blocking factor\\\":8,\\\"delay factor\\\":7.0},\\\"nameSub\\\":\\\"Calculus I\\\",\\\"id\\\":1,\\\"credits\\\":4,\\\"nameCanonical\\\":\\\"\\\"}],\\\"id\\\":2},{\\\"name\\\":\\\"Term 3\\\",\\\"curriculum_items\\\":[{\\\"curriculum_requisites\\\":[{\\\"source_id\\\":1,\\\"target_id\\\":2,\\\"type\\\":\\\"prereq\\\"}],\\\"name\\\":\\\" \\\",\\\"metrics\\\":{\\\"centrality\\\":6,\\\"complexity\\\":7.0,\\\"blocking factor\\\":3,\\\"delay factor\\\":4.0},\\\"nameSub\\\":\\\"Calculus II\\\",\\\"id\\\":2,\\\"credits\\\":4,\\\"nameCanonical\\\":\\\"\\\"},{\\\"curriculum_requisites\\\":[{\\\"source_id\\\":1,\\\"target_id\\\":3,\\\"type\\\":\\\"prereq\\\"}],\\\"name\\\":\\\" \\\",\\\"metrics\\\":{\\\"centrality\\\":24,\\\"complexity\\\":12.0,\\\"blocking factor\\\":5,\\\"delay factor\\\":7.0},\\\"nameSub\\\":\\\"Physics I\\\",\\\"id\\\":3,\\\"credits\\\":3,\\\"nameCanonical\\\":\\\"\\\"},{\\\"curriculum_requisites\\\":[{\\\"source_id\\\":3,\\\"target_id\\\":4,\\\"type\\\":\\\"coreq\\\"}],\\\"name\\\":\\\" \\\",\\\"metrics\\\":{\\\"centrality\\\":13,\\\"complexity\\\":11.0,\\\"blocking factor\\\":4,\\\"delay factor\\\":7.0},\\\"nameSub\\\":\\\"Physics I Lab\\\",\\\"id\\\":4,\\\"credits\\\":1,\\\"nameCanonical\\\":\\\"\\\"}],\\\"id\\\":3},{\\\"name\\\":\\\"Term 4\\\",\\\"curriculum_items\\\":[{\\\"curriculum_requisites\\\":[{\\\"source_id\\\":4,\\\"target_id\\\":5,\\\"type\\\":\\\"prereq\\\"},{\\\"source_id\\\":3,\\\"target_id\\\":5,\\\"type\\\":\\\"prereq\\\"}],\\\"name\\\":\\\" \\\",\\\"metrics\\\":{\\\"centrality\\\":24,\\\"complexity\\\":10.0,\\\"blocking factor\\\":3,\\\"delay factor\\\":7.0},\\\"nameSub\\\":\\\"Physics II\\\",\\\"id\\\":5,\\\"credits\\\":3,\\\"nameCanonical\\\":\\\"\\\"},{\\\"curriculum_requisites\\\":[{\\\"source_id\\\":5,\\\"target_id\\\":6,\\\"type\\\":\\\"coreq\\\"}],\\\"name\\\":\\\" \\\",\\\"metrics\\\":{\\\"centrality\\\":0,\\\"complexity\\\":6.0,\\\"blocking factor\\\":0,\\\"delay factor\\\":6.0},\\\"nameSub\\\":\\\"Physics II Lab\\\",\\\"id\\\":6,\\\"credits\\\":1,\\\"nameCanonical\\\":\\\"\\\"},{\\\"curriculum_requisites\\\":[{\\\"source_id\\\":2,\\\"target_id\\\":7,\\\"type\\\":\\\"prereq\\\"}],\\\"name\\\":\\\" \\\",\\\"metrics\\\":{\\\"centrality\\\":6,\\\"complexity\\\":6.0,\\\"blocking factor\\\":2,\\\"delay factor\\\":4.0},\\\"nameSub\\\":\\\"Differential Eqs.\\\",\\\"id\\\":7,\\\"credits\\\":3,\\\"nameCanonical\\\":\\\"\\\"},{\\\"curriculum_requisites\\\":[{\\\"source_id\\\":7,\\\"target_id\\\":8,\\\"type\\\":\\\"prereq\\\"},{\\\"source_id\\\":5,\\\"target_id\\\":8,\\\"type\\\":\\\"prereq\\\"}],\\\"name\\\":\\\" \\\",\\\"metrics\\\":{\\\"centrality\\\":19,\\\"complexity\\\":8.0,\\\"blocking factor\\\":1,\\\"delay factor\\\":7.0},\\\"nameSub\\\":\\\"Circuits I\\\",\\\"id\\\":8,\\\"credits\\\":3,\\\"nameCanonical\\\":\\\"\\\"}],\\\"id\\\":4},{\\\"name\\\":\\\"Term 5\\\",\\\"curriculum_items\\\":[{\\\"curriculum_requisites\\\":[{\\\"source_id\\\":8,\\\"target_id\\\":9,\\\"type\\\":\\\"prereq\\\"}],\\\"name\\\":\\\" \\\",\\\"metrics\\\":{\\\"centrality\\\":0,\\\"complexity\\\":7.0,\\\"blocking factor\\\":0,\\\"delay factor\\\":7.0},\\\"nameSub\\\":\\\"Circuits II\\\",\\\"id\\\":9,\\\"credits\\\":3,\\\"nameCanonical\\\":\\\"\\\"}],\\\"id\\\":5}],\\\"institution\\\":\\\"\\\"}},\\\"*\\\"); window.removeEventListener(\\\"message\\\",window.messageReceived); window.messageReceived=(function (event){return (event.data.curriculum!==undefined) ? (WebIO.setval({\\\"name\\\":\\\"curriculum-data\\\",\\\"scope\\\":\\\"11988695598571899499\\\",\\\"id\\\":\\\"ob_06\\\",\\\"type\\\":\\\"observable\\\"},event.data.curriculum)) : undefined}); return window.addEventListener(\\\"message\\\",window.messageReceived)})\")),:style=>Dict(:padding=>\"0\",:height=>\"80vh\",:margin=>\"0\",:border=>\"none\",:width=>\"100%\"))), Dict{String,Tuple{Observables.AbstractObservable,Union{Nothing, Bool}}}(\"curriculum-data\"=>(Observable{Dict{String,Any}} with 1 listeners. Value:\n",
       "Dict{String,Any}(\"options\"=>Dict{String,Any}(\"hideTerms\"=>false,\"edit\"=>false),\"curriculum\"=>Dict{String,Any}(\"name\"=>\"Circuits I Design Pattern\",\"dp_name\"=>\"Calculus ready\",\"curriculum_terms\"=>Dict{String,Any}[Dict(\"name\"=>\"Term 1\",\"curriculum_items\"=>Dict{String,Any}[Dict(\"curriculum_requisites\"=>Dict{String,Any}[],\"name\"=>\" \",\"metrics\"=>Dict{String,Any}(\"centrality\"=>0,\"complexity\"=>16.0,\"blocking factor\"=>9,\"delay factor\"=>7.0),\"nameSub\"=>\"Precalculus\",\"id\"=>10,\"credits\"=>4,\"nameCanonical\"=>\"\")],\"id\"=>1), Dict(\"name\"=>\"Term 2\",\"curriculum_items\"=>Dict{String,Any}[Dict(\"curriculum_requisites\"=>Dict{String,Any}[Dict(\"source_id\"=>10,\"target_id\"=>1,\"type\"=>\"prereq\")],\"name\"=>\" \",\"metrics\"=>Dict{String,Any}(\"centrality\"=>30,\"complexity\"=>15.0,\"blocking factor\"=>8,\"delay factor\"=>7.0),\"nameSub\"=>\"Calculus I\",\"id\"=>1,\"credits\"=>4,\"nameCanonical\"=>\"\")],\"id\"=>2), Dict(\"name\"=>\"Term 3\",\"curriculum_items\"=>Dict{String,Any}[Dict(\"curriculum_requisites\"=>Dict{String,Any}[Dict(\"source_id\"=>1,\"target_id\"=>2,\"type\"=>\"prereq\")],\"name\"=>\" \",\"metrics\"=>Dict{String,Any}(\"centrality\"=>6,\"complexity\"=>7.0,\"blocking factor\"=>3,\"delay factor\"=>4.0),\"nameSub\"=>\"Calculus II\",\"id\"=>2,\"credits\"=>4,\"nameCanonical\"=>\"\"), Dict(\"curriculum_requisites\"=>Dict{String,Any}[Dict(\"source_id\"=>1,\"target_id\"=>3,\"type\"=>\"prereq\")],\"name\"=>\" \",\"metrics\"=>Dict{String,Any}(\"centrality\"=>24,\"complexity\"=>12.0,\"blocking factor\"=>5,\"delay factor\"=>7.0),\"nameSub\"=>\"Physics I\",\"id\"=>3,\"credits\"=>3,\"nameCanonical\"=>\"\"), Dict(\"curriculum_requisites\"=>Dict{String,Any}[Dict(\"source_id\"=>3,\"target_id\"=>4,\"type\"=>\"coreq\")],\"name\"=>\" \",\"metrics\"=>Dict{String,Any}(\"centrality\"=>13,\"complexity\"=>11.0,\"blocking factor\"=>4,\"delay factor\"=>7.0),\"nameSub\"=>\"Physics I Lab\",\"id\"=>4,\"credits\"=>1,\"nameCanonical\"=>\"\")],\"id\"=>3), Dict(\"name\"=>\"Term 4\",\"curriculum_items\"=>Dict{String,Any}[Dict(\"curriculum_requisites\"=>Dict{String,Any}[Dict(\"source_id\"=>4,\"target_id\"=>5,\"type\"=>\"prereq\"), Dict(\"source_id\"=>3,\"target_id\"=>5,\"type\"=>\"prereq\")],\"name\"=>\" \",\"metrics\"=>Dict{String,Any}(\"centrality\"=>24,\"complexity\"=>10.0,\"blocking factor\"=>3,\"delay factor\"=>7.0),\"nameSub\"=>\"Physics II\",\"id\"=>5,\"credits\"=>3,\"nameCanonical\"=>\"\"), Dict(\"curriculum_requisites\"=>Dict{String,Any}[Dict(\"source_id\"=>5,\"target_id\"=>6,\"type\"=>\"coreq\")],\"name\"=>\" \",\"metrics\"=>Dict{String,Any}(\"centrality\"=>0,\"complexity\"=>6.0,\"blocking factor\"=>0,\"delay factor\"=>6.0),\"nameSub\"=>\"Physics II Lab\",\"id\"=>6,\"credits\"=>1,\"nameCanonical\"=>\"\"), Dict(\"curriculum_requisites\"=>Dict{String,Any}[Dict(\"source_id\"=>2,\"target_id\"=>7,\"type\"=>\"prereq\")],\"name\"=>\" \",\"metrics\"=>Dict{String,Any}(\"centrality\"=>6,\"complexity\"=>6.0,\"blocking factor\"=>2,\"delay factor\"=>4.0),\"nameSub\"=>\"Differential Eqs.\",\"id\"=>7,\"credits\"=>3,\"nameCanonical\"=>\"\"), Dict(\"curriculum_requisites\"=>Dict{String,Any}[Dict(\"source_id\"=>7,\"target_id\"=>8,\"type\"=>\"prereq\"), Dict(\"source_id\"=>5,\"target_id\"=>8,\"type\"=>\"prereq\")],\"name\"=>\" \",\"metrics\"=>Dict{String,Any}(\"centrality\"=>19,\"complexity\"=>8.0,\"blocking factor\"=>1,\"delay factor\"=>7.0),\"nameSub\"=>\"Circuits I\",\"id\"=>8,\"credits\"=>3,\"nameCanonical\"=>\"\")],\"id\"=>4), Dict(\"name\"=>\"Term 5\",\"curriculum_items\"=>Dict{String,Any}[Dict(\"curriculum_requisites\"=>Dict{String,Any}[Dict(\"source_id\"=>8,\"target_id\"=>9,\"type\"=>\"prereq\")],\"name\"=>\" \",\"metrics\"=>Dict{String,Any}(\"centrality\"=>0,\"complexity\"=>7.0,\"blocking factor\"=>0,\"delay factor\"=>7.0),\"nameSub\"=>\"Circuits II\",\"id\"=>9,\"credits\"=>3,\"nameCanonical\"=>\"\")],\"id\"=>5)],\"institution\"=>\"\")), nothing)), Set(String[]), nothing, WebIO.Asset[], Dict{Any,Any}(), WebIO.ConnectionPool(Channel{Any}(sz_max:32,sz_curr:0), Set(WebIO.AbstractConnection[]), Channel{WebIO.AbstractConnection}(sz_max:32,sz_curr:0)), WebIO.JSString[])"
      ]
     },
     "execution_count": 7,
     "metadata": {
      "application/vnd.webio.node+json": {
       "kernelId": "648a078a-cf92-4883-a270-432bb7a2c95f"
      }
     },
     "output_type": "execute_result"
    }
   ],
   "source": [
    "visualize(read_csv(\"EE-PrecalculusReady.csv\"), notebook=true, scale=0.8)"
   ]
  },
  {
   "cell_type": "markdown",
   "metadata": {},
   "source": [
    "#### The pattern for College Algebra ready students.\n",
    "Now let's look at what happens to students who are not Precalculus ready when they enter the institution -- let's assume instead that they are College Algebra ready. Notice that the longest path through the design pattern is growing, and that due to the prerequisite structure there is limited opportunity to move courses around.  The curricular complexity is now ?. "
   ]
  },
  {
   "cell_type": "code",
   "execution_count": 8,
   "metadata": {},
   "outputs": [
    {
     "data": {
      "application/vnd.webio.node+json": {
       "children": [
        {
         "children": [
          ""
         ],
         "instanceArgs": {
          "namespace": "html",
          "tag": "iframe"
         },
         "nodeType": "DOM",
         "props": {
          "events": {
           "load": "(function (){this.contentWindow.postMessage({\"options\":{\"hideTerms\":false,\"edit\":false},\"curriculum\":{\"name\":\"Circuits I Design Pattern\",\"dp_name\":\"Calculus ready\",\"curriculum_terms\":[{\"name\":\"Term 1\",\"curriculum_items\":[{\"curriculum_requisites\":[],\"name\":\" \",\"metrics\":{\"centrality\":0,\"complexity\":18.0,\"blocking factor\":10,\"delay factor\":8.0},\"nameSub\":\"College Algebra\",\"id\":11,\"credits\":3,\"nameCanonical\":\"\"}],\"id\":1},{\"name\":\"Term 2\",\"curriculum_items\":[{\"curriculum_requisites\":[{\"source_id\":11,\"target_id\":10,\"type\":\"prereq\"}],\"name\":\" \",\"metrics\":{\"centrality\":35,\"complexity\":17.0,\"blocking factor\":9,\"delay factor\":8.0},\"nameSub\":\"Precalculus\",\"id\":10,\"credits\":4,\"nameCanonical\":\"\"}],\"id\":2},{\"name\":\"Term 3\",\"curriculum_items\":[{\"curriculum_requisites\":[{\"source_id\":10,\"target_id\":1,\"type\":\"prereq\"}],\"name\":\" \",\"metrics\":{\"centrality\":35,\"complexity\":16.0,\"blocking factor\":8,\"delay factor\":8.0},\"nameSub\":\"Calculus I\",\"id\":1,\"credits\":4,\"nameCanonical\":\"\"}],\"id\":3},{\"name\":\"Term 4\",\"curriculum_items\":[{\"curriculum_requisites\":[{\"source_id\":1,\"target_id\":2,\"type\":\"prereq\"}],\"name\":\" \",\"metrics\":{\"centrality\":7,\"complexity\":8.0,\"blocking factor\":3,\"delay factor\":5.0},\"nameSub\":\"Calculus II\",\"id\":2,\"credits\":4,\"nameCanonical\":\"\"},{\"curriculum_requisites\":[{\"source_id\":1,\"target_id\":3,\"type\":\"prereq\"}],\"name\":\" \",\"metrics\":{\"centrality\":28,\"complexity\":13.0,\"blocking factor\":5,\"delay factor\":8.0},\"nameSub\":\"Physics I\",\"id\":3,\"credits\":3,\"nameCanonical\":\"\"},{\"curriculum_requisites\":[{\"source_id\":3,\"target_id\":4,\"type\":\"coreq\"}],\"name\":\" \",\"metrics\":{\"centrality\":15,\"complexity\":12.0,\"blocking factor\":4,\"delay factor\":8.0},\"nameSub\":\"Physics I Lab\",\"id\":4,\"credits\":1,\"nameCanonical\":\"\"}],\"id\":4},{\"name\":\"Term 5\",\"curriculum_items\":[{\"curriculum_requisites\":[{\"source_id\":4,\"target_id\":5,\"type\":\"prereq\"},{\"source_id\":3,\"target_id\":5,\"type\":\"prereq\"}],\"name\":\" \",\"metrics\":{\"centrality\":28,\"complexity\":11.0,\"blocking factor\":3,\"delay factor\":8.0},\"nameSub\":\"Physics II\",\"id\":5,\"credits\":3,\"nameCanonical\":\"\"},{\"curriculum_requisites\":[{\"source_id\":5,\"target_id\":6,\"type\":\"coreq\"}],\"name\":\" \",\"metrics\":{\"centrality\":0,\"complexity\":7.0,\"blocking factor\":0,\"delay factor\":7.0},\"nameSub\":\"Physics II Lab\",\"id\":6,\"credits\":1,\"nameCanonical\":\"\"},{\"curriculum_requisites\":[{\"source_id\":2,\"target_id\":7,\"type\":\"prereq\"}],\"name\":\" \",\"metrics\":{\"centrality\":7,\"complexity\":7.0,\"blocking factor\":2,\"delay factor\":5.0},\"nameSub\":\"Differential Eqs.\",\"id\":7,\"credits\":3,\"nameCanonical\":\"\"},{\"curriculum_requisites\":[{\"source_id\":7,\"target_id\":8,\"type\":\"prereq\"},{\"source_id\":5,\"target_id\":8,\"type\":\"prereq\"}],\"name\":\" \",\"metrics\":{\"centrality\":22,\"complexity\":9.0,\"blocking factor\":1,\"delay factor\":8.0},\"nameSub\":\"Circuits I\",\"id\":8,\"credits\":3,\"nameCanonical\":\"\"}],\"id\":5},{\"name\":\"Term 6\",\"curriculum_items\":[{\"curriculum_requisites\":[{\"source_id\":8,\"target_id\":9,\"type\":\"prereq\"}],\"name\":\" \",\"metrics\":{\"centrality\":0,\"complexity\":8.0,\"blocking factor\":0,\"delay factor\":8.0},\"nameSub\":\"Circuits II\",\"id\":9,\"credits\":3,\"nameCanonical\":\"\"}],\"id\":6}],\"institution\":\"\"}},\"*\"); window.removeEventListener(\"message\",window.messageReceived); window.messageReceived=(function (event){return (event.data.curriculum!==undefined) ? (WebIO.setval({\"name\":\"curriculum-data\",\"scope\":\"12715760199733360321\",\"id\":\"ob_07\",\"type\":\"observable\"},event.data.curriculum)) : undefined}); return window.addEventListener(\"message\",window.messageReceived)})"
          },
          "id": "curriculum",
          "src": "http://localhost:8156",
          "style": {
           "border": "none",
           "height": "80vh",
           "margin": "0",
           "padding": "0",
           "width": "100%"
          }
         },
         "type": "node"
        }
       ],
       "instanceArgs": {
        "handlers": {},
        "id": "12715760199733360321",
        "imports": {
         "data": [],
         "type": "async_block"
        },
        "mount_callbacks": [],
        "observables": {
         "curriculum-data": {
          "id": "ob_07",
          "sync": true,
          "value": {
           "curriculum": {
            "curriculum_terms": [
             {
              "curriculum_items": [
               {
                "credits": 3,
                "curriculum_requisites": [],
                "id": 11,
                "metrics": {
                 "blocking factor": 10,
                 "centrality": 0,
                 "complexity": 18,
                 "delay factor": 8
                },
                "name": " ",
                "nameCanonical": "",
                "nameSub": "College Algebra"
               }
              ],
              "id": 1,
              "name": "Term 1"
             },
             {
              "curriculum_items": [
               {
                "credits": 4,
                "curriculum_requisites": [
                 {
                  "source_id": 11,
                  "target_id": 10,
                  "type": "prereq"
                 }
                ],
                "id": 10,
                "metrics": {
                 "blocking factor": 9,
                 "centrality": 35,
                 "complexity": 17,
                 "delay factor": 8
                },
                "name": " ",
                "nameCanonical": "",
                "nameSub": "Precalculus"
               }
              ],
              "id": 2,
              "name": "Term 2"
             },
             {
              "curriculum_items": [
               {
                "credits": 4,
                "curriculum_requisites": [
                 {
                  "source_id": 10,
                  "target_id": 1,
                  "type": "prereq"
                 }
                ],
                "id": 1,
                "metrics": {
                 "blocking factor": 8,
                 "centrality": 35,
                 "complexity": 16,
                 "delay factor": 8
                },
                "name": " ",
                "nameCanonical": "",
                "nameSub": "Calculus I"
               }
              ],
              "id": 3,
              "name": "Term 3"
             },
             {
              "curriculum_items": [
               {
                "credits": 4,
                "curriculum_requisites": [
                 {
                  "source_id": 1,
                  "target_id": 2,
                  "type": "prereq"
                 }
                ],
                "id": 2,
                "metrics": {
                 "blocking factor": 3,
                 "centrality": 7,
                 "complexity": 8,
                 "delay factor": 5
                },
                "name": " ",
                "nameCanonical": "",
                "nameSub": "Calculus II"
               },
               {
                "credits": 3,
                "curriculum_requisites": [
                 {
                  "source_id": 1,
                  "target_id": 3,
                  "type": "prereq"
                 }
                ],
                "id": 3,
                "metrics": {
                 "blocking factor": 5,
                 "centrality": 28,
                 "complexity": 13,
                 "delay factor": 8
                },
                "name": " ",
                "nameCanonical": "",
                "nameSub": "Physics I"
               },
               {
                "credits": 1,
                "curriculum_requisites": [
                 {
                  "source_id": 3,
                  "target_id": 4,
                  "type": "coreq"
                 }
                ],
                "id": 4,
                "metrics": {
                 "blocking factor": 4,
                 "centrality": 15,
                 "complexity": 12,
                 "delay factor": 8
                },
                "name": " ",
                "nameCanonical": "",
                "nameSub": "Physics I Lab"
               }
              ],
              "id": 4,
              "name": "Term 4"
             },
             {
              "curriculum_items": [
               {
                "credits": 3,
                "curriculum_requisites": [
                 {
                  "source_id": 4,
                  "target_id": 5,
                  "type": "prereq"
                 },
                 {
                  "source_id": 3,
                  "target_id": 5,
                  "type": "prereq"
                 }
                ],
                "id": 5,
                "metrics": {
                 "blocking factor": 3,
                 "centrality": 28,
                 "complexity": 11,
                 "delay factor": 8
                },
                "name": " ",
                "nameCanonical": "",
                "nameSub": "Physics II"
               },
               {
                "credits": 1,
                "curriculum_requisites": [
                 {
                  "source_id": 5,
                  "target_id": 6,
                  "type": "coreq"
                 }
                ],
                "id": 6,
                "metrics": {
                 "blocking factor": 0,
                 "centrality": 0,
                 "complexity": 7,
                 "delay factor": 7
                },
                "name": " ",
                "nameCanonical": "",
                "nameSub": "Physics II Lab"
               },
               {
                "credits": 3,
                "curriculum_requisites": [
                 {
                  "source_id": 2,
                  "target_id": 7,
                  "type": "prereq"
                 }
                ],
                "id": 7,
                "metrics": {
                 "blocking factor": 2,
                 "centrality": 7,
                 "complexity": 7,
                 "delay factor": 5
                },
                "name": " ",
                "nameCanonical": "",
                "nameSub": "Differential Eqs."
               },
               {
                "credits": 3,
                "curriculum_requisites": [
                 {
                  "source_id": 7,
                  "target_id": 8,
                  "type": "prereq"
                 },
                 {
                  "source_id": 5,
                  "target_id": 8,
                  "type": "prereq"
                 }
                ],
                "id": 8,
                "metrics": {
                 "blocking factor": 1,
                 "centrality": 22,
                 "complexity": 9,
                 "delay factor": 8
                },
                "name": " ",
                "nameCanonical": "",
                "nameSub": "Circuits I"
               }
              ],
              "id": 5,
              "name": "Term 5"
             },
             {
              "curriculum_items": [
               {
                "credits": 3,
                "curriculum_requisites": [
                 {
                  "source_id": 8,
                  "target_id": 9,
                  "type": "prereq"
                 }
                ],
                "id": 9,
                "metrics": {
                 "blocking factor": 0,
                 "centrality": 0,
                 "complexity": 8,
                 "delay factor": 8
                },
                "name": " ",
                "nameCanonical": "",
                "nameSub": "Circuits II"
               }
              ],
              "id": 6,
              "name": "Term 6"
             }
            ],
            "dp_name": "Calculus ready",
            "institution": "",
            "name": "Circuits I Design Pattern"
           },
           "options": {
            "edit": false,
            "hideTerms": false
           }
          }
         }
        },
        "systemjs_options": null
       },
       "nodeType": "Scope",
       "props": {},
       "type": "node"
      },
      "text/html": [
       "<div\n",
       "    class=\"webio-mountpoint\"\n",
       "    data-webio-mountpoint=\"5755373499426062522\"\n",
       ">\n",
       "    <script>\n",
       "    if (window.require && require.defined && require.defined(\"nbextensions/webio/main\")) {\n",
       "        console.log(\"Jupyter WebIO extension detected, not mounting.\");\n",
       "    } else if (window.WebIO) {\n",
       "        WebIO.mount(\n",
       "            document.querySelector('[data-webio-mountpoint=\"5755373499426062522\"]'),\n",
       "            {\"props\":{},\"nodeType\":\"Scope\",\"type\":\"node\",\"instanceArgs\":{\"imports\":{\"data\":[],\"type\":\"async_block\"},\"id\":\"12715760199733360321\",\"handlers\":{},\"systemjs_options\":null,\"mount_callbacks\":[],\"observables\":{\"curriculum-data\":{\"sync\":true,\"id\":\"ob_07\",\"value\":{\"options\":{\"hideTerms\":false,\"edit\":false},\"curriculum\":{\"name\":\"Circuits I Design Pattern\",\"dp_name\":\"Calculus ready\",\"curriculum_terms\":[{\"name\":\"Term 1\",\"curriculum_items\":[{\"curriculum_requisites\":[],\"name\":\" \",\"metrics\":{\"centrality\":0,\"complexity\":18.0,\"blocking factor\":10,\"delay factor\":8.0},\"nameSub\":\"College Algebra\",\"id\":11,\"credits\":3,\"nameCanonical\":\"\"}],\"id\":1},{\"name\":\"Term 2\",\"curriculum_items\":[{\"curriculum_requisites\":[{\"source_id\":11,\"target_id\":10,\"type\":\"prereq\"}],\"name\":\" \",\"metrics\":{\"centrality\":35,\"complexity\":17.0,\"blocking factor\":9,\"delay factor\":8.0},\"nameSub\":\"Precalculus\",\"id\":10,\"credits\":4,\"nameCanonical\":\"\"}],\"id\":2},{\"name\":\"Term 3\",\"curriculum_items\":[{\"curriculum_requisites\":[{\"source_id\":10,\"target_id\":1,\"type\":\"prereq\"}],\"name\":\" \",\"metrics\":{\"centrality\":35,\"complexity\":16.0,\"blocking factor\":8,\"delay factor\":8.0},\"nameSub\":\"Calculus I\",\"id\":1,\"credits\":4,\"nameCanonical\":\"\"}],\"id\":3},{\"name\":\"Term 4\",\"curriculum_items\":[{\"curriculum_requisites\":[{\"source_id\":1,\"target_id\":2,\"type\":\"prereq\"}],\"name\":\" \",\"metrics\":{\"centrality\":7,\"complexity\":8.0,\"blocking factor\":3,\"delay factor\":5.0},\"nameSub\":\"Calculus II\",\"id\":2,\"credits\":4,\"nameCanonical\":\"\"},{\"curriculum_requisites\":[{\"source_id\":1,\"target_id\":3,\"type\":\"prereq\"}],\"name\":\" \",\"metrics\":{\"centrality\":28,\"complexity\":13.0,\"blocking factor\":5,\"delay factor\":8.0},\"nameSub\":\"Physics I\",\"id\":3,\"credits\":3,\"nameCanonical\":\"\"},{\"curriculum_requisites\":[{\"source_id\":3,\"target_id\":4,\"type\":\"coreq\"}],\"name\":\" \",\"metrics\":{\"centrality\":15,\"complexity\":12.0,\"blocking factor\":4,\"delay factor\":8.0},\"nameSub\":\"Physics I Lab\",\"id\":4,\"credits\":1,\"nameCanonical\":\"\"}],\"id\":4},{\"name\":\"Term 5\",\"curriculum_items\":[{\"curriculum_requisites\":[{\"source_id\":4,\"target_id\":5,\"type\":\"prereq\"},{\"source_id\":3,\"target_id\":5,\"type\":\"prereq\"}],\"name\":\" \",\"metrics\":{\"centrality\":28,\"complexity\":11.0,\"blocking factor\":3,\"delay factor\":8.0},\"nameSub\":\"Physics II\",\"id\":5,\"credits\":3,\"nameCanonical\":\"\"},{\"curriculum_requisites\":[{\"source_id\":5,\"target_id\":6,\"type\":\"coreq\"}],\"name\":\" \",\"metrics\":{\"centrality\":0,\"complexity\":7.0,\"blocking factor\":0,\"delay factor\":7.0},\"nameSub\":\"Physics II Lab\",\"id\":6,\"credits\":1,\"nameCanonical\":\"\"},{\"curriculum_requisites\":[{\"source_id\":2,\"target_id\":7,\"type\":\"prereq\"}],\"name\":\" \",\"metrics\":{\"centrality\":7,\"complexity\":7.0,\"blocking factor\":2,\"delay factor\":5.0},\"nameSub\":\"Differential Eqs.\",\"id\":7,\"credits\":3,\"nameCanonical\":\"\"},{\"curriculum_requisites\":[{\"source_id\":7,\"target_id\":8,\"type\":\"prereq\"},{\"source_id\":5,\"target_id\":8,\"type\":\"prereq\"}],\"name\":\" \",\"metrics\":{\"centrality\":22,\"complexity\":9.0,\"blocking factor\":1,\"delay factor\":8.0},\"nameSub\":\"Circuits I\",\"id\":8,\"credits\":3,\"nameCanonical\":\"\"}],\"id\":5},{\"name\":\"Term 6\",\"curriculum_items\":[{\"curriculum_requisites\":[{\"source_id\":8,\"target_id\":9,\"type\":\"prereq\"}],\"name\":\" \",\"metrics\":{\"centrality\":0,\"complexity\":8.0,\"blocking factor\":0,\"delay factor\":8.0},\"nameSub\":\"Circuits II\",\"id\":9,\"credits\":3,\"nameCanonical\":\"\"}],\"id\":6}],\"institution\":\"\"}}}}},\"children\":[{\"props\":{\"src\":\"http:\\/\\/localhost:8156\",\"id\":\"curriculum\",\"events\":{\"load\":\"(function (){this.contentWindow.postMessage({\\\"options\\\":{\\\"hideTerms\\\":false,\\\"edit\\\":false},\\\"curriculum\\\":{\\\"name\\\":\\\"Circuits I Design Pattern\\\",\\\"dp_name\\\":\\\"Calculus ready\\\",\\\"curriculum_terms\\\":[{\\\"name\\\":\\\"Term 1\\\",\\\"curriculum_items\\\":[{\\\"curriculum_requisites\\\":[],\\\"name\\\":\\\" \\\",\\\"metrics\\\":{\\\"centrality\\\":0,\\\"complexity\\\":18.0,\\\"blocking factor\\\":10,\\\"delay factor\\\":8.0},\\\"nameSub\\\":\\\"College Algebra\\\",\\\"id\\\":11,\\\"credits\\\":3,\\\"nameCanonical\\\":\\\"\\\"}],\\\"id\\\":1},{\\\"name\\\":\\\"Term 2\\\",\\\"curriculum_items\\\":[{\\\"curriculum_requisites\\\":[{\\\"source_id\\\":11,\\\"target_id\\\":10,\\\"type\\\":\\\"prereq\\\"}],\\\"name\\\":\\\" \\\",\\\"metrics\\\":{\\\"centrality\\\":35,\\\"complexity\\\":17.0,\\\"blocking factor\\\":9,\\\"delay factor\\\":8.0},\\\"nameSub\\\":\\\"Precalculus\\\",\\\"id\\\":10,\\\"credits\\\":4,\\\"nameCanonical\\\":\\\"\\\"}],\\\"id\\\":2},{\\\"name\\\":\\\"Term 3\\\",\\\"curriculum_items\\\":[{\\\"curriculum_requisites\\\":[{\\\"source_id\\\":10,\\\"target_id\\\":1,\\\"type\\\":\\\"prereq\\\"}],\\\"name\\\":\\\" \\\",\\\"metrics\\\":{\\\"centrality\\\":35,\\\"complexity\\\":16.0,\\\"blocking factor\\\":8,\\\"delay factor\\\":8.0},\\\"nameSub\\\":\\\"Calculus I\\\",\\\"id\\\":1,\\\"credits\\\":4,\\\"nameCanonical\\\":\\\"\\\"}],\\\"id\\\":3},{\\\"name\\\":\\\"Term 4\\\",\\\"curriculum_items\\\":[{\\\"curriculum_requisites\\\":[{\\\"source_id\\\":1,\\\"target_id\\\":2,\\\"type\\\":\\\"prereq\\\"}],\\\"name\\\":\\\" \\\",\\\"metrics\\\":{\\\"centrality\\\":7,\\\"complexity\\\":8.0,\\\"blocking factor\\\":3,\\\"delay factor\\\":5.0},\\\"nameSub\\\":\\\"Calculus II\\\",\\\"id\\\":2,\\\"credits\\\":4,\\\"nameCanonical\\\":\\\"\\\"},{\\\"curriculum_requisites\\\":[{\\\"source_id\\\":1,\\\"target_id\\\":3,\\\"type\\\":\\\"prereq\\\"}],\\\"name\\\":\\\" \\\",\\\"metrics\\\":{\\\"centrality\\\":28,\\\"complexity\\\":13.0,\\\"blocking factor\\\":5,\\\"delay factor\\\":8.0},\\\"nameSub\\\":\\\"Physics I\\\",\\\"id\\\":3,\\\"credits\\\":3,\\\"nameCanonical\\\":\\\"\\\"},{\\\"curriculum_requisites\\\":[{\\\"source_id\\\":3,\\\"target_id\\\":4,\\\"type\\\":\\\"coreq\\\"}],\\\"name\\\":\\\" \\\",\\\"metrics\\\":{\\\"centrality\\\":15,\\\"complexity\\\":12.0,\\\"blocking factor\\\":4,\\\"delay factor\\\":8.0},\\\"nameSub\\\":\\\"Physics I Lab\\\",\\\"id\\\":4,\\\"credits\\\":1,\\\"nameCanonical\\\":\\\"\\\"}],\\\"id\\\":4},{\\\"name\\\":\\\"Term 5\\\",\\\"curriculum_items\\\":[{\\\"curriculum_requisites\\\":[{\\\"source_id\\\":4,\\\"target_id\\\":5,\\\"type\\\":\\\"prereq\\\"},{\\\"source_id\\\":3,\\\"target_id\\\":5,\\\"type\\\":\\\"prereq\\\"}],\\\"name\\\":\\\" \\\",\\\"metrics\\\":{\\\"centrality\\\":28,\\\"complexity\\\":11.0,\\\"blocking factor\\\":3,\\\"delay factor\\\":8.0},\\\"nameSub\\\":\\\"Physics II\\\",\\\"id\\\":5,\\\"credits\\\":3,\\\"nameCanonical\\\":\\\"\\\"},{\\\"curriculum_requisites\\\":[{\\\"source_id\\\":5,\\\"target_id\\\":6,\\\"type\\\":\\\"coreq\\\"}],\\\"name\\\":\\\" \\\",\\\"metrics\\\":{\\\"centrality\\\":0,\\\"complexity\\\":7.0,\\\"blocking factor\\\":0,\\\"delay factor\\\":7.0},\\\"nameSub\\\":\\\"Physics II Lab\\\",\\\"id\\\":6,\\\"credits\\\":1,\\\"nameCanonical\\\":\\\"\\\"},{\\\"curriculum_requisites\\\":[{\\\"source_id\\\":2,\\\"target_id\\\":7,\\\"type\\\":\\\"prereq\\\"}],\\\"name\\\":\\\" \\\",\\\"metrics\\\":{\\\"centrality\\\":7,\\\"complexity\\\":7.0,\\\"blocking factor\\\":2,\\\"delay factor\\\":5.0},\\\"nameSub\\\":\\\"Differential Eqs.\\\",\\\"id\\\":7,\\\"credits\\\":3,\\\"nameCanonical\\\":\\\"\\\"},{\\\"curriculum_requisites\\\":[{\\\"source_id\\\":7,\\\"target_id\\\":8,\\\"type\\\":\\\"prereq\\\"},{\\\"source_id\\\":5,\\\"target_id\\\":8,\\\"type\\\":\\\"prereq\\\"}],\\\"name\\\":\\\" \\\",\\\"metrics\\\":{\\\"centrality\\\":22,\\\"complexity\\\":9.0,\\\"blocking factor\\\":1,\\\"delay factor\\\":8.0},\\\"nameSub\\\":\\\"Circuits I\\\",\\\"id\\\":8,\\\"credits\\\":3,\\\"nameCanonical\\\":\\\"\\\"}],\\\"id\\\":5},{\\\"name\\\":\\\"Term 6\\\",\\\"curriculum_items\\\":[{\\\"curriculum_requisites\\\":[{\\\"source_id\\\":8,\\\"target_id\\\":9,\\\"type\\\":\\\"prereq\\\"}],\\\"name\\\":\\\" \\\",\\\"metrics\\\":{\\\"centrality\\\":0,\\\"complexity\\\":8.0,\\\"blocking factor\\\":0,\\\"delay factor\\\":8.0},\\\"nameSub\\\":\\\"Circuits II\\\",\\\"id\\\":9,\\\"credits\\\":3,\\\"nameCanonical\\\":\\\"\\\"}],\\\"id\\\":6}],\\\"institution\\\":\\\"\\\"}},\\\"*\\\"); window.removeEventListener(\\\"message\\\",window.messageReceived); window.messageReceived=(function (event){return (event.data.curriculum!==undefined) ? (WebIO.setval({\\\"name\\\":\\\"curriculum-data\\\",\\\"scope\\\":\\\"12715760199733360321\\\",\\\"id\\\":\\\"ob_07\\\",\\\"type\\\":\\\"observable\\\"},event.data.curriculum)) : undefined}); return window.addEventListener(\\\"message\\\",window.messageReceived)})\"},\"style\":{\"padding\":\"0\",\"height\":\"80vh\",\"margin\":\"0\",\"border\":\"none\",\"width\":\"100%\"}},\"nodeType\":\"DOM\",\"type\":\"node\",\"instanceArgs\":{\"namespace\":\"html\",\"tag\":\"iframe\"},\"children\":[\"\"]}]},\n",
       "            window,\n",
       "        );\n",
       "    } else {\n",
       "        document\n",
       "            .querySelector('[data-webio-mountpoint=\"5755373499426062522\"]')\n",
       "            .innerHTML = '<strong>WebIO not detected.</strong>';\n",
       "    }\n",
       "    </script>\n",
       "</div>\n"
      ],
      "text/plain": [
       "WebIO.Scope(WebIO.Node{WebIO.DOM}(WebIO.DOM(:html, :iframe), Any[\"\"], Dict{Symbol,Any}(:src=>\"http://localhost:8156\",:id=>\"curriculum\",:events=>Dict(:load=>JSString(\"(function (){this.contentWindow.postMessage({\\\"options\\\":{\\\"hideTerms\\\":false,\\\"edit\\\":false},\\\"curriculum\\\":{\\\"name\\\":\\\"Circuits I Design Pattern\\\",\\\"dp_name\\\":\\\"Calculus ready\\\",\\\"curriculum_terms\\\":[{\\\"name\\\":\\\"Term 1\\\",\\\"curriculum_items\\\":[{\\\"curriculum_requisites\\\":[],\\\"name\\\":\\\" \\\",\\\"metrics\\\":{\\\"centrality\\\":0,\\\"complexity\\\":18.0,\\\"blocking factor\\\":10,\\\"delay factor\\\":8.0},\\\"nameSub\\\":\\\"College Algebra\\\",\\\"id\\\":11,\\\"credits\\\":3,\\\"nameCanonical\\\":\\\"\\\"}],\\\"id\\\":1},{\\\"name\\\":\\\"Term 2\\\",\\\"curriculum_items\\\":[{\\\"curriculum_requisites\\\":[{\\\"source_id\\\":11,\\\"target_id\\\":10,\\\"type\\\":\\\"prereq\\\"}],\\\"name\\\":\\\" \\\",\\\"metrics\\\":{\\\"centrality\\\":35,\\\"complexity\\\":17.0,\\\"blocking factor\\\":9,\\\"delay factor\\\":8.0},\\\"nameSub\\\":\\\"Precalculus\\\",\\\"id\\\":10,\\\"credits\\\":4,\\\"nameCanonical\\\":\\\"\\\"}],\\\"id\\\":2},{\\\"name\\\":\\\"Term 3\\\",\\\"curriculum_items\\\":[{\\\"curriculum_requisites\\\":[{\\\"source_id\\\":10,\\\"target_id\\\":1,\\\"type\\\":\\\"prereq\\\"}],\\\"name\\\":\\\" \\\",\\\"metrics\\\":{\\\"centrality\\\":35,\\\"complexity\\\":16.0,\\\"blocking factor\\\":8,\\\"delay factor\\\":8.0},\\\"nameSub\\\":\\\"Calculus I\\\",\\\"id\\\":1,\\\"credits\\\":4,\\\"nameCanonical\\\":\\\"\\\"}],\\\"id\\\":3},{\\\"name\\\":\\\"Term 4\\\",\\\"curriculum_items\\\":[{\\\"curriculum_requisites\\\":[{\\\"source_id\\\":1,\\\"target_id\\\":2,\\\"type\\\":\\\"prereq\\\"}],\\\"name\\\":\\\" \\\",\\\"metrics\\\":{\\\"centrality\\\":7,\\\"complexity\\\":8.0,\\\"blocking factor\\\":3,\\\"delay factor\\\":5.0},\\\"nameSub\\\":\\\"Calculus II\\\",\\\"id\\\":2,\\\"credits\\\":4,\\\"nameCanonical\\\":\\\"\\\"},{\\\"curriculum_requisites\\\":[{\\\"source_id\\\":1,\\\"target_id\\\":3,\\\"type\\\":\\\"prereq\\\"}],\\\"name\\\":\\\" \\\",\\\"metrics\\\":{\\\"centrality\\\":28,\\\"complexity\\\":13.0,\\\"blocking factor\\\":5,\\\"delay factor\\\":8.0},\\\"nameSub\\\":\\\"Physics I\\\",\\\"id\\\":3,\\\"credits\\\":3,\\\"nameCanonical\\\":\\\"\\\"},{\\\"curriculum_requisites\\\":[{\\\"source_id\\\":3,\\\"target_id\\\":4,\\\"type\\\":\\\"coreq\\\"}],\\\"name\\\":\\\" \\\",\\\"metrics\\\":{\\\"centrality\\\":15,\\\"complexity\\\":12.0,\\\"blocking factor\\\":4,\\\"delay factor\\\":8.0},\\\"nameSub\\\":\\\"Physics I Lab\\\",\\\"id\\\":4,\\\"credits\\\":1,\\\"nameCanonical\\\":\\\"\\\"}],\\\"id\\\":4},{\\\"name\\\":\\\"Term 5\\\",\\\"curriculum_items\\\":[{\\\"curriculum_requisites\\\":[{\\\"source_id\\\":4,\\\"target_id\\\":5,\\\"type\\\":\\\"prereq\\\"},{\\\"source_id\\\":3,\\\"target_id\\\":5,\\\"type\\\":\\\"prereq\\\"}],\\\"name\\\":\\\" \\\",\\\"metrics\\\":{\\\"centrality\\\":28,\\\"complexity\\\":11.0,\\\"blocking factor\\\":3,\\\"delay factor\\\":8.0},\\\"nameSub\\\":\\\"Physics II\\\",\\\"id\\\":5,\\\"credits\\\":3,\\\"nameCanonical\\\":\\\"\\\"},{\\\"curriculum_requisites\\\":[{\\\"source_id\\\":5,\\\"target_id\\\":6,\\\"type\\\":\\\"coreq\\\"}],\\\"name\\\":\\\" \\\",\\\"metrics\\\":{\\\"centrality\\\":0,\\\"complexity\\\":7.0,\\\"blocking factor\\\":0,\\\"delay factor\\\":7.0},\\\"nameSub\\\":\\\"Physics II Lab\\\",\\\"id\\\":6,\\\"credits\\\":1,\\\"nameCanonical\\\":\\\"\\\"},{\\\"curriculum_requisites\\\":[{\\\"source_id\\\":2,\\\"target_id\\\":7,\\\"type\\\":\\\"prereq\\\"}],\\\"name\\\":\\\" \\\",\\\"metrics\\\":{\\\"centrality\\\":7,\\\"complexity\\\":7.0,\\\"blocking factor\\\":2,\\\"delay factor\\\":5.0},\\\"nameSub\\\":\\\"Differential Eqs.\\\",\\\"id\\\":7,\\\"credits\\\":3,\\\"nameCanonical\\\":\\\"\\\"},{\\\"curriculum_requisites\\\":[{\\\"source_id\\\":7,\\\"target_id\\\":8,\\\"type\\\":\\\"prereq\\\"},{\\\"source_id\\\":5,\\\"target_id\\\":8,\\\"type\\\":\\\"prereq\\\"}],\\\"name\\\":\\\" \\\",\\\"metrics\\\":{\\\"centrality\\\":22,\\\"complexity\\\":9.0,\\\"blocking factor\\\":1,\\\"delay factor\\\":8.0},\\\"nameSub\\\":\\\"Circuits I\\\",\\\"id\\\":8,\\\"credits\\\":3,\\\"nameCanonical\\\":\\\"\\\"}],\\\"id\\\":5},{\\\"name\\\":\\\"Term 6\\\",\\\"curriculum_items\\\":[{\\\"curriculum_requisites\\\":[{\\\"source_id\\\":8,\\\"target_id\\\":9,\\\"type\\\":\\\"prereq\\\"}],\\\"name\\\":\\\" \\\",\\\"metrics\\\":{\\\"centrality\\\":0,\\\"complexity\\\":8.0,\\\"blocking factor\\\":0,\\\"delay factor\\\":8.0},\\\"nameSub\\\":\\\"Circuits II\\\",\\\"id\\\":9,\\\"credits\\\":3,\\\"nameCanonical\\\":\\\"\\\"}],\\\"id\\\":6}],\\\"institution\\\":\\\"\\\"}},\\\"*\\\"); window.removeEventListener(\\\"message\\\",window.messageReceived); window.messageReceived=(function (event){return (event.data.curriculum!==undefined) ? (WebIO.setval({\\\"name\\\":\\\"curriculum-data\\\",\\\"scope\\\":\\\"12715760199733360321\\\",\\\"id\\\":\\\"ob_07\\\",\\\"type\\\":\\\"observable\\\"},event.data.curriculum)) : undefined}); return window.addEventListener(\\\"message\\\",window.messageReceived)})\")),:style=>Dict(:padding=>\"0\",:height=>\"80vh\",:margin=>\"0\",:border=>\"none\",:width=>\"100%\"))), Dict{String,Tuple{Observables.AbstractObservable,Union{Nothing, Bool}}}(\"curriculum-data\"=>(Observable{Dict{String,Any}} with 1 listeners. Value:\n",
       "Dict{String,Any}(\"options\"=>Dict{String,Any}(\"hideTerms\"=>false,\"edit\"=>false),\"curriculum\"=>Dict{String,Any}(\"name\"=>\"Circuits I Design Pattern\",\"dp_name\"=>\"Calculus ready\",\"curriculum_terms\"=>Dict{String,Any}[Dict(\"name\"=>\"Term 1\",\"curriculum_items\"=>Dict{String,Any}[Dict(\"curriculum_requisites\"=>Dict{String,Any}[],\"name\"=>\" \",\"metrics\"=>Dict{String,Any}(\"centrality\"=>0,\"complexity\"=>18.0,\"blocking factor\"=>10,\"delay factor\"=>8.0),\"nameSub\"=>\"College Algebra\",\"id\"=>11,\"credits\"=>3,\"nameCanonical\"=>\"\")],\"id\"=>1), Dict(\"name\"=>\"Term 2\",\"curriculum_items\"=>Dict{String,Any}[Dict(\"curriculum_requisites\"=>Dict{String,Any}[Dict(\"source_id\"=>11,\"target_id\"=>10,\"type\"=>\"prereq\")],\"name\"=>\" \",\"metrics\"=>Dict{String,Any}(\"centrality\"=>35,\"complexity\"=>17.0,\"blocking factor\"=>9,\"delay factor\"=>8.0),\"nameSub\"=>\"Precalculus\",\"id\"=>10,\"credits\"=>4,\"nameCanonical\"=>\"\")],\"id\"=>2), Dict(\"name\"=>\"Term 3\",\"curriculum_items\"=>Dict{String,Any}[Dict(\"curriculum_requisites\"=>Dict{String,Any}[Dict(\"source_id\"=>10,\"target_id\"=>1,\"type\"=>\"prereq\")],\"name\"=>\" \",\"metrics\"=>Dict{String,Any}(\"centrality\"=>35,\"complexity\"=>16.0,\"blocking factor\"=>8,\"delay factor\"=>8.0),\"nameSub\"=>\"Calculus I\",\"id\"=>1,\"credits\"=>4,\"nameCanonical\"=>\"\")],\"id\"=>3), Dict(\"name\"=>\"Term 4\",\"curriculum_items\"=>Dict{String,Any}[Dict(\"curriculum_requisites\"=>Dict{String,Any}[Dict(\"source_id\"=>1,\"target_id\"=>2,\"type\"=>\"prereq\")],\"name\"=>\" \",\"metrics\"=>Dict{String,Any}(\"centrality\"=>7,\"complexity\"=>8.0,\"blocking factor\"=>3,\"delay factor\"=>5.0),\"nameSub\"=>\"Calculus II\",\"id\"=>2,\"credits\"=>4,\"nameCanonical\"=>\"\"), Dict(\"curriculum_requisites\"=>Dict{String,Any}[Dict(\"source_id\"=>1,\"target_id\"=>3,\"type\"=>\"prereq\")],\"name\"=>\" \",\"metrics\"=>Dict{String,Any}(\"centrality\"=>28,\"complexity\"=>13.0,\"blocking factor\"=>5,\"delay factor\"=>8.0),\"nameSub\"=>\"Physics I\",\"id\"=>3,\"credits\"=>3,\"nameCanonical\"=>\"\"), Dict(\"curriculum_requisites\"=>Dict{String,Any}[Dict(\"source_id\"=>3,\"target_id\"=>4,\"type\"=>\"coreq\")],\"name\"=>\" \",\"metrics\"=>Dict{String,Any}(\"centrality\"=>15,\"complexity\"=>12.0,\"blocking factor\"=>4,\"delay factor\"=>8.0),\"nameSub\"=>\"Physics I Lab\",\"id\"=>4,\"credits\"=>1,\"nameCanonical\"=>\"\")],\"id\"=>4), Dict(\"name\"=>\"Term 5\",\"curriculum_items\"=>Dict{String,Any}[Dict(\"curriculum_requisites\"=>Dict{String,Any}[Dict(\"source_id\"=>4,\"target_id\"=>5,\"type\"=>\"prereq\"), Dict(\"source_id\"=>3,\"target_id\"=>5,\"type\"=>\"prereq\")],\"name\"=>\" \",\"metrics\"=>Dict{String,Any}(\"centrality\"=>28,\"complexity\"=>11.0,\"blocking factor\"=>3,\"delay factor\"=>8.0),\"nameSub\"=>\"Physics II\",\"id\"=>5,\"credits\"=>3,\"nameCanonical\"=>\"\"), Dict(\"curriculum_requisites\"=>Dict{String,Any}[Dict(\"source_id\"=>5,\"target_id\"=>6,\"type\"=>\"coreq\")],\"name\"=>\" \",\"metrics\"=>Dict{String,Any}(\"centrality\"=>0,\"complexity\"=>7.0,\"blocking factor\"=>0,\"delay factor\"=>7.0),\"nameSub\"=>\"Physics II Lab\",\"id\"=>6,\"credits\"=>1,\"nameCanonical\"=>\"\"), Dict(\"curriculum_requisites\"=>Dict{String,Any}[Dict(\"source_id\"=>2,\"target_id\"=>7,\"type\"=>\"prereq\")],\"name\"=>\" \",\"metrics\"=>Dict{String,Any}(\"centrality\"=>7,\"complexity\"=>7.0,\"blocking factor\"=>2,\"delay factor\"=>5.0),\"nameSub\"=>\"Differential Eqs.\",\"id\"=>7,\"credits\"=>3,\"nameCanonical\"=>\"\"), Dict(\"curriculum_requisites\"=>Dict{String,Any}[Dict(\"source_id\"=>7,\"target_id\"=>8,\"type\"=>\"prereq\"), Dict(\"source_id\"=>5,\"target_id\"=>8,\"type\"=>\"prereq\")],\"name\"=>\" \",\"metrics\"=>Dict{String,Any}(\"centrality\"=>22,\"complexity\"=>9.0,\"blocking factor\"=>1,\"delay factor\"=>8.0),\"nameSub\"=>\"Circuits I\",\"id\"=>8,\"credits\"=>3,\"nameCanonical\"=>\"\")],\"id\"=>5), Dict(\"name\"=>\"Term 6\",\"curriculum_items\"=>Dict{String,Any}[Dict(\"curriculum_requisites\"=>Dict{String,Any}[Dict(\"source_id\"=>8,\"target_id\"=>9,\"type\"=>\"prereq\")],\"name\"=>\" \",\"metrics\"=>Dict{String,Any}(\"centrality\"=>0,\"complexity\"=>8.0,\"blocking factor\"=>0,\"delay factor\"=>8.0),\"nameSub\"=>\"Circuits II\",\"id\"=>9,\"credits\"=>3,\"nameCanonical\"=>\"\")],\"id\"=>6)],\"institution\"=>\"\")), nothing)), Set(String[]), nothing, WebIO.Asset[], Dict{Any,Any}(), WebIO.ConnectionPool(Channel{Any}(sz_max:32,sz_curr:0), Set(WebIO.AbstractConnection[]), Channel{WebIO.AbstractConnection}(sz_max:32,sz_curr:0)), WebIO.JSString[])"
      ]
     },
     "execution_count": 8,
     "metadata": {
      "application/vnd.webio.node+json": {
       "kernelId": "648a078a-cf92-4883-a270-432bb7a2c95f"
      }
     },
     "output_type": "execute_result"
    }
   ],
   "source": [
    "visualize(read_csv(\"EE-AlgebraReady.csv\"), notebook=true, scale=0.8)"
   ]
  },
  {
   "cell_type": "markdown",
   "metadata": {},
   "source": [
    "#### The pattern for Foundational Math students\n",
    "Finally let's look at what happens to students who enter the institution starting with Foundational Math.  The curricular complexity is now ?. "
   ]
  },
  {
   "cell_type": "code",
   "execution_count": 9,
   "metadata": {},
   "outputs": [
    {
     "data": {
      "application/vnd.webio.node+json": {
       "children": [
        {
         "children": [
          ""
         ],
         "instanceArgs": {
          "namespace": "html",
          "tag": "iframe"
         },
         "nodeType": "DOM",
         "props": {
          "events": {
           "load": "(function (){this.contentWindow.postMessage({\"options\":{\"hideTerms\":false,\"edit\":false},\"curriculum\":{\"name\":\"Circuits I Design Pattern\",\"dp_name\":\"Calculus ready\",\"curriculum_terms\":[{\"name\":\"Term 1\",\"curriculum_items\":[{\"curriculum_requisites\":[],\"name\":\" \",\"metrics\":{\"centrality\":0,\"complexity\":20.0,\"blocking factor\":11,\"delay factor\":9.0},\"nameSub\":\"Foundational Math\",\"id\":12,\"credits\":3,\"nameCanonical\":\"\"}],\"id\":1},{\"name\":\"Term 2\",\"curriculum_items\":[{\"curriculum_requisites\":[{\"source_id\":12,\"target_id\":11,\"type\":\"prereq\"}],\"name\":\" \",\"metrics\":{\"centrality\":40,\"complexity\":19.0,\"blocking factor\":10,\"delay factor\":9.0},\"nameSub\":\"College Algebra\",\"id\":11,\"credits\":3,\"nameCanonical\":\"\"}],\"id\":2},{\"name\":\"Term 3\",\"curriculum_items\":[{\"curriculum_requisites\":[{\"source_id\":11,\"target_id\":10,\"type\":\"prereq\"}],\"name\":\" \",\"metrics\":{\"centrality\":40,\"complexity\":18.0,\"blocking factor\":9,\"delay factor\":9.0},\"nameSub\":\"Precalculus\",\"id\":10,\"credits\":4,\"nameCanonical\":\"\"}],\"id\":3},{\"name\":\"Term 4\",\"curriculum_items\":[{\"curriculum_requisites\":[{\"source_id\":10,\"target_id\":1,\"type\":\"prereq\"}],\"name\":\" \",\"metrics\":{\"centrality\":40,\"complexity\":17.0,\"blocking factor\":8,\"delay factor\":9.0},\"nameSub\":\"Calculus I\",\"id\":1,\"credits\":4,\"nameCanonical\":\"\"}],\"id\":4},{\"name\":\"Term 5\",\"curriculum_items\":[{\"curriculum_requisites\":[{\"source_id\":1,\"target_id\":2,\"type\":\"prereq\"}],\"name\":\" \",\"metrics\":{\"centrality\":8,\"complexity\":9.0,\"blocking factor\":3,\"delay factor\":6.0},\"nameSub\":\"Calculus II\",\"id\":2,\"credits\":4,\"nameCanonical\":\"\"},{\"curriculum_requisites\":[{\"source_id\":1,\"target_id\":3,\"type\":\"prereq\"}],\"name\":\" \",\"metrics\":{\"centrality\":32,\"complexity\":14.0,\"blocking factor\":5,\"delay factor\":9.0},\"nameSub\":\"Physics I\",\"id\":3,\"credits\":3,\"nameCanonical\":\"\"},{\"curriculum_requisites\":[{\"source_id\":3,\"target_id\":4,\"type\":\"coreq\"}],\"name\":\" \",\"metrics\":{\"centrality\":17,\"complexity\":13.0,\"blocking factor\":4,\"delay factor\":9.0},\"nameSub\":\"Physics I Lab\",\"id\":4,\"credits\":1,\"nameCanonical\":\"\"}],\"id\":5},{\"name\":\"Term 6\",\"curriculum_items\":[{\"curriculum_requisites\":[{\"source_id\":4,\"target_id\":5,\"type\":\"prereq\"},{\"source_id\":3,\"target_id\":5,\"type\":\"prereq\"}],\"name\":\" \",\"metrics\":{\"centrality\":32,\"complexity\":12.0,\"blocking factor\":3,\"delay factor\":9.0},\"nameSub\":\"Physics II\",\"id\":5,\"credits\":3,\"nameCanonical\":\"\"},{\"curriculum_requisites\":[{\"source_id\":5,\"target_id\":6,\"type\":\"coreq\"}],\"name\":\" \",\"metrics\":{\"centrality\":0,\"complexity\":8.0,\"blocking factor\":0,\"delay factor\":8.0},\"nameSub\":\"Physics II Lab\",\"id\":6,\"credits\":1,\"nameCanonical\":\"\"},{\"curriculum_requisites\":[{\"source_id\":2,\"target_id\":7,\"type\":\"prereq\"}],\"name\":\" \",\"metrics\":{\"centrality\":8,\"complexity\":8.0,\"blocking factor\":2,\"delay factor\":6.0},\"nameSub\":\"Differential Eqs.\",\"id\":7,\"credits\":3,\"nameCanonical\":\"\"},{\"curriculum_requisites\":[{\"source_id\":7,\"target_id\":8,\"type\":\"prereq\"},{\"source_id\":5,\"target_id\":8,\"type\":\"prereq\"}],\"name\":\" \",\"metrics\":{\"centrality\":25,\"complexity\":10.0,\"blocking factor\":1,\"delay factor\":9.0},\"nameSub\":\"Circuits I\",\"id\":8,\"credits\":3,\"nameCanonical\":\"\"}],\"id\":6},{\"name\":\"Term 7\",\"curriculum_items\":[{\"curriculum_requisites\":[{\"source_id\":8,\"target_id\":9,\"type\":\"prereq\"}],\"name\":\" \",\"metrics\":{\"centrality\":0,\"complexity\":9.0,\"blocking factor\":0,\"delay factor\":9.0},\"nameSub\":\"Circuits II\",\"id\":9,\"credits\":3,\"nameCanonical\":\"\"}],\"id\":7}],\"institution\":\"\"}},\"*\"); window.removeEventListener(\"message\",window.messageReceived); window.messageReceived=(function (event){return (event.data.curriculum!==undefined) ? (WebIO.setval({\"name\":\"curriculum-data\",\"scope\":\"8321807202732826265\",\"id\":\"ob_08\",\"type\":\"observable\"},event.data.curriculum)) : undefined}); return window.addEventListener(\"message\",window.messageReceived)})"
          },
          "id": "curriculum",
          "src": "http://localhost:8156",
          "style": {
           "border": "none",
           "height": "80vh",
           "margin": "0",
           "padding": "0",
           "width": "100%"
          }
         },
         "type": "node"
        }
       ],
       "instanceArgs": {
        "handlers": {},
        "id": "8321807202732826265",
        "imports": {
         "data": [],
         "type": "async_block"
        },
        "mount_callbacks": [],
        "observables": {
         "curriculum-data": {
          "id": "ob_08",
          "sync": true,
          "value": {
           "curriculum": {
            "curriculum_terms": [
             {
              "curriculum_items": [
               {
                "credits": 3,
                "curriculum_requisites": [],
                "id": 12,
                "metrics": {
                 "blocking factor": 11,
                 "centrality": 0,
                 "complexity": 20,
                 "delay factor": 9
                },
                "name": " ",
                "nameCanonical": "",
                "nameSub": "Foundational Math"
               }
              ],
              "id": 1,
              "name": "Term 1"
             },
             {
              "curriculum_items": [
               {
                "credits": 3,
                "curriculum_requisites": [
                 {
                  "source_id": 12,
                  "target_id": 11,
                  "type": "prereq"
                 }
                ],
                "id": 11,
                "metrics": {
                 "blocking factor": 10,
                 "centrality": 40,
                 "complexity": 19,
                 "delay factor": 9
                },
                "name": " ",
                "nameCanonical": "",
                "nameSub": "College Algebra"
               }
              ],
              "id": 2,
              "name": "Term 2"
             },
             {
              "curriculum_items": [
               {
                "credits": 4,
                "curriculum_requisites": [
                 {
                  "source_id": 11,
                  "target_id": 10,
                  "type": "prereq"
                 }
                ],
                "id": 10,
                "metrics": {
                 "blocking factor": 9,
                 "centrality": 40,
                 "complexity": 18,
                 "delay factor": 9
                },
                "name": " ",
                "nameCanonical": "",
                "nameSub": "Precalculus"
               }
              ],
              "id": 3,
              "name": "Term 3"
             },
             {
              "curriculum_items": [
               {
                "credits": 4,
                "curriculum_requisites": [
                 {
                  "source_id": 10,
                  "target_id": 1,
                  "type": "prereq"
                 }
                ],
                "id": 1,
                "metrics": {
                 "blocking factor": 8,
                 "centrality": 40,
                 "complexity": 17,
                 "delay factor": 9
                },
                "name": " ",
                "nameCanonical": "",
                "nameSub": "Calculus I"
               }
              ],
              "id": 4,
              "name": "Term 4"
             },
             {
              "curriculum_items": [
               {
                "credits": 4,
                "curriculum_requisites": [
                 {
                  "source_id": 1,
                  "target_id": 2,
                  "type": "prereq"
                 }
                ],
                "id": 2,
                "metrics": {
                 "blocking factor": 3,
                 "centrality": 8,
                 "complexity": 9,
                 "delay factor": 6
                },
                "name": " ",
                "nameCanonical": "",
                "nameSub": "Calculus II"
               },
               {
                "credits": 3,
                "curriculum_requisites": [
                 {
                  "source_id": 1,
                  "target_id": 3,
                  "type": "prereq"
                 }
                ],
                "id": 3,
                "metrics": {
                 "blocking factor": 5,
                 "centrality": 32,
                 "complexity": 14,
                 "delay factor": 9
                },
                "name": " ",
                "nameCanonical": "",
                "nameSub": "Physics I"
               },
               {
                "credits": 1,
                "curriculum_requisites": [
                 {
                  "source_id": 3,
                  "target_id": 4,
                  "type": "coreq"
                 }
                ],
                "id": 4,
                "metrics": {
                 "blocking factor": 4,
                 "centrality": 17,
                 "complexity": 13,
                 "delay factor": 9
                },
                "name": " ",
                "nameCanonical": "",
                "nameSub": "Physics I Lab"
               }
              ],
              "id": 5,
              "name": "Term 5"
             },
             {
              "curriculum_items": [
               {
                "credits": 3,
                "curriculum_requisites": [
                 {
                  "source_id": 4,
                  "target_id": 5,
                  "type": "prereq"
                 },
                 {
                  "source_id": 3,
                  "target_id": 5,
                  "type": "prereq"
                 }
                ],
                "id": 5,
                "metrics": {
                 "blocking factor": 3,
                 "centrality": 32,
                 "complexity": 12,
                 "delay factor": 9
                },
                "name": " ",
                "nameCanonical": "",
                "nameSub": "Physics II"
               },
               {
                "credits": 1,
                "curriculum_requisites": [
                 {
                  "source_id": 5,
                  "target_id": 6,
                  "type": "coreq"
                 }
                ],
                "id": 6,
                "metrics": {
                 "blocking factor": 0,
                 "centrality": 0,
                 "complexity": 8,
                 "delay factor": 8
                },
                "name": " ",
                "nameCanonical": "",
                "nameSub": "Physics II Lab"
               },
               {
                "credits": 3,
                "curriculum_requisites": [
                 {
                  "source_id": 2,
                  "target_id": 7,
                  "type": "prereq"
                 }
                ],
                "id": 7,
                "metrics": {
                 "blocking factor": 2,
                 "centrality": 8,
                 "complexity": 8,
                 "delay factor": 6
                },
                "name": " ",
                "nameCanonical": "",
                "nameSub": "Differential Eqs."
               },
               {
                "credits": 3,
                "curriculum_requisites": [
                 {
                  "source_id": 7,
                  "target_id": 8,
                  "type": "prereq"
                 },
                 {
                  "source_id": 5,
                  "target_id": 8,
                  "type": "prereq"
                 }
                ],
                "id": 8,
                "metrics": {
                 "blocking factor": 1,
                 "centrality": 25,
                 "complexity": 10,
                 "delay factor": 9
                },
                "name": " ",
                "nameCanonical": "",
                "nameSub": "Circuits I"
               }
              ],
              "id": 6,
              "name": "Term 6"
             },
             {
              "curriculum_items": [
               {
                "credits": 3,
                "curriculum_requisites": [
                 {
                  "source_id": 8,
                  "target_id": 9,
                  "type": "prereq"
                 }
                ],
                "id": 9,
                "metrics": {
                 "blocking factor": 0,
                 "centrality": 0,
                 "complexity": 9,
                 "delay factor": 9
                },
                "name": " ",
                "nameCanonical": "",
                "nameSub": "Circuits II"
               }
              ],
              "id": 7,
              "name": "Term 7"
             }
            ],
            "dp_name": "Calculus ready",
            "institution": "",
            "name": "Circuits I Design Pattern"
           },
           "options": {
            "edit": false,
            "hideTerms": false
           }
          }
         }
        },
        "systemjs_options": null
       },
       "nodeType": "Scope",
       "props": {},
       "type": "node"
      },
      "text/html": [
       "<div\n",
       "    class=\"webio-mountpoint\"\n",
       "    data-webio-mountpoint=\"5927538677473028324\"\n",
       ">\n",
       "    <script>\n",
       "    if (window.require && require.defined && require.defined(\"nbextensions/webio/main\")) {\n",
       "        console.log(\"Jupyter WebIO extension detected, not mounting.\");\n",
       "    } else if (window.WebIO) {\n",
       "        WebIO.mount(\n",
       "            document.querySelector('[data-webio-mountpoint=\"5927538677473028324\"]'),\n",
       "            {\"props\":{},\"nodeType\":\"Scope\",\"type\":\"node\",\"instanceArgs\":{\"imports\":{\"data\":[],\"type\":\"async_block\"},\"id\":\"8321807202732826265\",\"handlers\":{},\"systemjs_options\":null,\"mount_callbacks\":[],\"observables\":{\"curriculum-data\":{\"sync\":true,\"id\":\"ob_08\",\"value\":{\"options\":{\"hideTerms\":false,\"edit\":false},\"curriculum\":{\"name\":\"Circuits I Design Pattern\",\"dp_name\":\"Calculus ready\",\"curriculum_terms\":[{\"name\":\"Term 1\",\"curriculum_items\":[{\"curriculum_requisites\":[],\"name\":\" \",\"metrics\":{\"centrality\":0,\"complexity\":20.0,\"blocking factor\":11,\"delay factor\":9.0},\"nameSub\":\"Foundational Math\",\"id\":12,\"credits\":3,\"nameCanonical\":\"\"}],\"id\":1},{\"name\":\"Term 2\",\"curriculum_items\":[{\"curriculum_requisites\":[{\"source_id\":12,\"target_id\":11,\"type\":\"prereq\"}],\"name\":\" \",\"metrics\":{\"centrality\":40,\"complexity\":19.0,\"blocking factor\":10,\"delay factor\":9.0},\"nameSub\":\"College Algebra\",\"id\":11,\"credits\":3,\"nameCanonical\":\"\"}],\"id\":2},{\"name\":\"Term 3\",\"curriculum_items\":[{\"curriculum_requisites\":[{\"source_id\":11,\"target_id\":10,\"type\":\"prereq\"}],\"name\":\" \",\"metrics\":{\"centrality\":40,\"complexity\":18.0,\"blocking factor\":9,\"delay factor\":9.0},\"nameSub\":\"Precalculus\",\"id\":10,\"credits\":4,\"nameCanonical\":\"\"}],\"id\":3},{\"name\":\"Term 4\",\"curriculum_items\":[{\"curriculum_requisites\":[{\"source_id\":10,\"target_id\":1,\"type\":\"prereq\"}],\"name\":\" \",\"metrics\":{\"centrality\":40,\"complexity\":17.0,\"blocking factor\":8,\"delay factor\":9.0},\"nameSub\":\"Calculus I\",\"id\":1,\"credits\":4,\"nameCanonical\":\"\"}],\"id\":4},{\"name\":\"Term 5\",\"curriculum_items\":[{\"curriculum_requisites\":[{\"source_id\":1,\"target_id\":2,\"type\":\"prereq\"}],\"name\":\" \",\"metrics\":{\"centrality\":8,\"complexity\":9.0,\"blocking factor\":3,\"delay factor\":6.0},\"nameSub\":\"Calculus II\",\"id\":2,\"credits\":4,\"nameCanonical\":\"\"},{\"curriculum_requisites\":[{\"source_id\":1,\"target_id\":3,\"type\":\"prereq\"}],\"name\":\" \",\"metrics\":{\"centrality\":32,\"complexity\":14.0,\"blocking factor\":5,\"delay factor\":9.0},\"nameSub\":\"Physics I\",\"id\":3,\"credits\":3,\"nameCanonical\":\"\"},{\"curriculum_requisites\":[{\"source_id\":3,\"target_id\":4,\"type\":\"coreq\"}],\"name\":\" \",\"metrics\":{\"centrality\":17,\"complexity\":13.0,\"blocking factor\":4,\"delay factor\":9.0},\"nameSub\":\"Physics I Lab\",\"id\":4,\"credits\":1,\"nameCanonical\":\"\"}],\"id\":5},{\"name\":\"Term 6\",\"curriculum_items\":[{\"curriculum_requisites\":[{\"source_id\":4,\"target_id\":5,\"type\":\"prereq\"},{\"source_id\":3,\"target_id\":5,\"type\":\"prereq\"}],\"name\":\" \",\"metrics\":{\"centrality\":32,\"complexity\":12.0,\"blocking factor\":3,\"delay factor\":9.0},\"nameSub\":\"Physics II\",\"id\":5,\"credits\":3,\"nameCanonical\":\"\"},{\"curriculum_requisites\":[{\"source_id\":5,\"target_id\":6,\"type\":\"coreq\"}],\"name\":\" \",\"metrics\":{\"centrality\":0,\"complexity\":8.0,\"blocking factor\":0,\"delay factor\":8.0},\"nameSub\":\"Physics II Lab\",\"id\":6,\"credits\":1,\"nameCanonical\":\"\"},{\"curriculum_requisites\":[{\"source_id\":2,\"target_id\":7,\"type\":\"prereq\"}],\"name\":\" \",\"metrics\":{\"centrality\":8,\"complexity\":8.0,\"blocking factor\":2,\"delay factor\":6.0},\"nameSub\":\"Differential Eqs.\",\"id\":7,\"credits\":3,\"nameCanonical\":\"\"},{\"curriculum_requisites\":[{\"source_id\":7,\"target_id\":8,\"type\":\"prereq\"},{\"source_id\":5,\"target_id\":8,\"type\":\"prereq\"}],\"name\":\" \",\"metrics\":{\"centrality\":25,\"complexity\":10.0,\"blocking factor\":1,\"delay factor\":9.0},\"nameSub\":\"Circuits I\",\"id\":8,\"credits\":3,\"nameCanonical\":\"\"}],\"id\":6},{\"name\":\"Term 7\",\"curriculum_items\":[{\"curriculum_requisites\":[{\"source_id\":8,\"target_id\":9,\"type\":\"prereq\"}],\"name\":\" \",\"metrics\":{\"centrality\":0,\"complexity\":9.0,\"blocking factor\":0,\"delay factor\":9.0},\"nameSub\":\"Circuits II\",\"id\":9,\"credits\":3,\"nameCanonical\":\"\"}],\"id\":7}],\"institution\":\"\"}}}}},\"children\":[{\"props\":{\"src\":\"http:\\/\\/localhost:8156\",\"id\":\"curriculum\",\"events\":{\"load\":\"(function (){this.contentWindow.postMessage({\\\"options\\\":{\\\"hideTerms\\\":false,\\\"edit\\\":false},\\\"curriculum\\\":{\\\"name\\\":\\\"Circuits I Design Pattern\\\",\\\"dp_name\\\":\\\"Calculus ready\\\",\\\"curriculum_terms\\\":[{\\\"name\\\":\\\"Term 1\\\",\\\"curriculum_items\\\":[{\\\"curriculum_requisites\\\":[],\\\"name\\\":\\\" \\\",\\\"metrics\\\":{\\\"centrality\\\":0,\\\"complexity\\\":20.0,\\\"blocking factor\\\":11,\\\"delay factor\\\":9.0},\\\"nameSub\\\":\\\"Foundational Math\\\",\\\"id\\\":12,\\\"credits\\\":3,\\\"nameCanonical\\\":\\\"\\\"}],\\\"id\\\":1},{\\\"name\\\":\\\"Term 2\\\",\\\"curriculum_items\\\":[{\\\"curriculum_requisites\\\":[{\\\"source_id\\\":12,\\\"target_id\\\":11,\\\"type\\\":\\\"prereq\\\"}],\\\"name\\\":\\\" \\\",\\\"metrics\\\":{\\\"centrality\\\":40,\\\"complexity\\\":19.0,\\\"blocking factor\\\":10,\\\"delay factor\\\":9.0},\\\"nameSub\\\":\\\"College Algebra\\\",\\\"id\\\":11,\\\"credits\\\":3,\\\"nameCanonical\\\":\\\"\\\"}],\\\"id\\\":2},{\\\"name\\\":\\\"Term 3\\\",\\\"curriculum_items\\\":[{\\\"curriculum_requisites\\\":[{\\\"source_id\\\":11,\\\"target_id\\\":10,\\\"type\\\":\\\"prereq\\\"}],\\\"name\\\":\\\" \\\",\\\"metrics\\\":{\\\"centrality\\\":40,\\\"complexity\\\":18.0,\\\"blocking factor\\\":9,\\\"delay factor\\\":9.0},\\\"nameSub\\\":\\\"Precalculus\\\",\\\"id\\\":10,\\\"credits\\\":4,\\\"nameCanonical\\\":\\\"\\\"}],\\\"id\\\":3},{\\\"name\\\":\\\"Term 4\\\",\\\"curriculum_items\\\":[{\\\"curriculum_requisites\\\":[{\\\"source_id\\\":10,\\\"target_id\\\":1,\\\"type\\\":\\\"prereq\\\"}],\\\"name\\\":\\\" \\\",\\\"metrics\\\":{\\\"centrality\\\":40,\\\"complexity\\\":17.0,\\\"blocking factor\\\":8,\\\"delay factor\\\":9.0},\\\"nameSub\\\":\\\"Calculus I\\\",\\\"id\\\":1,\\\"credits\\\":4,\\\"nameCanonical\\\":\\\"\\\"}],\\\"id\\\":4},{\\\"name\\\":\\\"Term 5\\\",\\\"curriculum_items\\\":[{\\\"curriculum_requisites\\\":[{\\\"source_id\\\":1,\\\"target_id\\\":2,\\\"type\\\":\\\"prereq\\\"}],\\\"name\\\":\\\" \\\",\\\"metrics\\\":{\\\"centrality\\\":8,\\\"complexity\\\":9.0,\\\"blocking factor\\\":3,\\\"delay factor\\\":6.0},\\\"nameSub\\\":\\\"Calculus II\\\",\\\"id\\\":2,\\\"credits\\\":4,\\\"nameCanonical\\\":\\\"\\\"},{\\\"curriculum_requisites\\\":[{\\\"source_id\\\":1,\\\"target_id\\\":3,\\\"type\\\":\\\"prereq\\\"}],\\\"name\\\":\\\" \\\",\\\"metrics\\\":{\\\"centrality\\\":32,\\\"complexity\\\":14.0,\\\"blocking factor\\\":5,\\\"delay factor\\\":9.0},\\\"nameSub\\\":\\\"Physics I\\\",\\\"id\\\":3,\\\"credits\\\":3,\\\"nameCanonical\\\":\\\"\\\"},{\\\"curriculum_requisites\\\":[{\\\"source_id\\\":3,\\\"target_id\\\":4,\\\"type\\\":\\\"coreq\\\"}],\\\"name\\\":\\\" \\\",\\\"metrics\\\":{\\\"centrality\\\":17,\\\"complexity\\\":13.0,\\\"blocking factor\\\":4,\\\"delay factor\\\":9.0},\\\"nameSub\\\":\\\"Physics I Lab\\\",\\\"id\\\":4,\\\"credits\\\":1,\\\"nameCanonical\\\":\\\"\\\"}],\\\"id\\\":5},{\\\"name\\\":\\\"Term 6\\\",\\\"curriculum_items\\\":[{\\\"curriculum_requisites\\\":[{\\\"source_id\\\":4,\\\"target_id\\\":5,\\\"type\\\":\\\"prereq\\\"},{\\\"source_id\\\":3,\\\"target_id\\\":5,\\\"type\\\":\\\"prereq\\\"}],\\\"name\\\":\\\" \\\",\\\"metrics\\\":{\\\"centrality\\\":32,\\\"complexity\\\":12.0,\\\"blocking factor\\\":3,\\\"delay factor\\\":9.0},\\\"nameSub\\\":\\\"Physics II\\\",\\\"id\\\":5,\\\"credits\\\":3,\\\"nameCanonical\\\":\\\"\\\"},{\\\"curriculum_requisites\\\":[{\\\"source_id\\\":5,\\\"target_id\\\":6,\\\"type\\\":\\\"coreq\\\"}],\\\"name\\\":\\\" \\\",\\\"metrics\\\":{\\\"centrality\\\":0,\\\"complexity\\\":8.0,\\\"blocking factor\\\":0,\\\"delay factor\\\":8.0},\\\"nameSub\\\":\\\"Physics II Lab\\\",\\\"id\\\":6,\\\"credits\\\":1,\\\"nameCanonical\\\":\\\"\\\"},{\\\"curriculum_requisites\\\":[{\\\"source_id\\\":2,\\\"target_id\\\":7,\\\"type\\\":\\\"prereq\\\"}],\\\"name\\\":\\\" \\\",\\\"metrics\\\":{\\\"centrality\\\":8,\\\"complexity\\\":8.0,\\\"blocking factor\\\":2,\\\"delay factor\\\":6.0},\\\"nameSub\\\":\\\"Differential Eqs.\\\",\\\"id\\\":7,\\\"credits\\\":3,\\\"nameCanonical\\\":\\\"\\\"},{\\\"curriculum_requisites\\\":[{\\\"source_id\\\":7,\\\"target_id\\\":8,\\\"type\\\":\\\"prereq\\\"},{\\\"source_id\\\":5,\\\"target_id\\\":8,\\\"type\\\":\\\"prereq\\\"}],\\\"name\\\":\\\" \\\",\\\"metrics\\\":{\\\"centrality\\\":25,\\\"complexity\\\":10.0,\\\"blocking factor\\\":1,\\\"delay factor\\\":9.0},\\\"nameSub\\\":\\\"Circuits I\\\",\\\"id\\\":8,\\\"credits\\\":3,\\\"nameCanonical\\\":\\\"\\\"}],\\\"id\\\":6},{\\\"name\\\":\\\"Term 7\\\",\\\"curriculum_items\\\":[{\\\"curriculum_requisites\\\":[{\\\"source_id\\\":8,\\\"target_id\\\":9,\\\"type\\\":\\\"prereq\\\"}],\\\"name\\\":\\\" \\\",\\\"metrics\\\":{\\\"centrality\\\":0,\\\"complexity\\\":9.0,\\\"blocking factor\\\":0,\\\"delay factor\\\":9.0},\\\"nameSub\\\":\\\"Circuits II\\\",\\\"id\\\":9,\\\"credits\\\":3,\\\"nameCanonical\\\":\\\"\\\"}],\\\"id\\\":7}],\\\"institution\\\":\\\"\\\"}},\\\"*\\\"); window.removeEventListener(\\\"message\\\",window.messageReceived); window.messageReceived=(function (event){return (event.data.curriculum!==undefined) ? (WebIO.setval({\\\"name\\\":\\\"curriculum-data\\\",\\\"scope\\\":\\\"8321807202732826265\\\",\\\"id\\\":\\\"ob_08\\\",\\\"type\\\":\\\"observable\\\"},event.data.curriculum)) : undefined}); return window.addEventListener(\\\"message\\\",window.messageReceived)})\"},\"style\":{\"padding\":\"0\",\"height\":\"80vh\",\"margin\":\"0\",\"border\":\"none\",\"width\":\"100%\"}},\"nodeType\":\"DOM\",\"type\":\"node\",\"instanceArgs\":{\"namespace\":\"html\",\"tag\":\"iframe\"},\"children\":[\"\"]}]},\n",
       "            window,\n",
       "        );\n",
       "    } else {\n",
       "        document\n",
       "            .querySelector('[data-webio-mountpoint=\"5927538677473028324\"]')\n",
       "            .innerHTML = '<strong>WebIO not detected.</strong>';\n",
       "    }\n",
       "    </script>\n",
       "</div>\n"
      ],
      "text/plain": [
       "WebIO.Scope(WebIO.Node{WebIO.DOM}(WebIO.DOM(:html, :iframe), Any[\"\"], Dict{Symbol,Any}(:src=>\"http://localhost:8156\",:id=>\"curriculum\",:events=>Dict(:load=>JSString(\"(function (){this.contentWindow.postMessage({\\\"options\\\":{\\\"hideTerms\\\":false,\\\"edit\\\":false},\\\"curriculum\\\":{\\\"name\\\":\\\"Circuits I Design Pattern\\\",\\\"dp_name\\\":\\\"Calculus ready\\\",\\\"curriculum_terms\\\":[{\\\"name\\\":\\\"Term 1\\\",\\\"curriculum_items\\\":[{\\\"curriculum_requisites\\\":[],\\\"name\\\":\\\" \\\",\\\"metrics\\\":{\\\"centrality\\\":0,\\\"complexity\\\":20.0,\\\"blocking factor\\\":11,\\\"delay factor\\\":9.0},\\\"nameSub\\\":\\\"Foundational Math\\\",\\\"id\\\":12,\\\"credits\\\":3,\\\"nameCanonical\\\":\\\"\\\"}],\\\"id\\\":1},{\\\"name\\\":\\\"Term 2\\\",\\\"curriculum_items\\\":[{\\\"curriculum_requisites\\\":[{\\\"source_id\\\":12,\\\"target_id\\\":11,\\\"type\\\":\\\"prereq\\\"}],\\\"name\\\":\\\" \\\",\\\"metrics\\\":{\\\"centrality\\\":40,\\\"complexity\\\":19.0,\\\"blocking factor\\\":10,\\\"delay factor\\\":9.0},\\\"nameSub\\\":\\\"College Algebra\\\",\\\"id\\\":11,\\\"credits\\\":3,\\\"nameCanonical\\\":\\\"\\\"}],\\\"id\\\":2},{\\\"name\\\":\\\"Term 3\\\",\\\"curriculum_items\\\":[{\\\"curriculum_requisites\\\":[{\\\"source_id\\\":11,\\\"target_id\\\":10,\\\"type\\\":\\\"prereq\\\"}],\\\"name\\\":\\\" \\\",\\\"metrics\\\":{\\\"centrality\\\":40,\\\"complexity\\\":18.0,\\\"blocking factor\\\":9,\\\"delay factor\\\":9.0},\\\"nameSub\\\":\\\"Precalculus\\\",\\\"id\\\":10,\\\"credits\\\":4,\\\"nameCanonical\\\":\\\"\\\"}],\\\"id\\\":3},{\\\"name\\\":\\\"Term 4\\\",\\\"curriculum_items\\\":[{\\\"curriculum_requisites\\\":[{\\\"source_id\\\":10,\\\"target_id\\\":1,\\\"type\\\":\\\"prereq\\\"}],\\\"name\\\":\\\" \\\",\\\"metrics\\\":{\\\"centrality\\\":40,\\\"complexity\\\":17.0,\\\"blocking factor\\\":8,\\\"delay factor\\\":9.0},\\\"nameSub\\\":\\\"Calculus I\\\",\\\"id\\\":1,\\\"credits\\\":4,\\\"nameCanonical\\\":\\\"\\\"}],\\\"id\\\":4},{\\\"name\\\":\\\"Term 5\\\",\\\"curriculum_items\\\":[{\\\"curriculum_requisites\\\":[{\\\"source_id\\\":1,\\\"target_id\\\":2,\\\"type\\\":\\\"prereq\\\"}],\\\"name\\\":\\\" \\\",\\\"metrics\\\":{\\\"centrality\\\":8,\\\"complexity\\\":9.0,\\\"blocking factor\\\":3,\\\"delay factor\\\":6.0},\\\"nameSub\\\":\\\"Calculus II\\\",\\\"id\\\":2,\\\"credits\\\":4,\\\"nameCanonical\\\":\\\"\\\"},{\\\"curriculum_requisites\\\":[{\\\"source_id\\\":1,\\\"target_id\\\":3,\\\"type\\\":\\\"prereq\\\"}],\\\"name\\\":\\\" \\\",\\\"metrics\\\":{\\\"centrality\\\":32,\\\"complexity\\\":14.0,\\\"blocking factor\\\":5,\\\"delay factor\\\":9.0},\\\"nameSub\\\":\\\"Physics I\\\",\\\"id\\\":3,\\\"credits\\\":3,\\\"nameCanonical\\\":\\\"\\\"},{\\\"curriculum_requisites\\\":[{\\\"source_id\\\":3,\\\"target_id\\\":4,\\\"type\\\":\\\"coreq\\\"}],\\\"name\\\":\\\" \\\",\\\"metrics\\\":{\\\"centrality\\\":17,\\\"complexity\\\":13.0,\\\"blocking factor\\\":4,\\\"delay factor\\\":9.0},\\\"nameSub\\\":\\\"Physics I Lab\\\",\\\"id\\\":4,\\\"credits\\\":1,\\\"nameCanonical\\\":\\\"\\\"}],\\\"id\\\":5},{\\\"name\\\":\\\"Term 6\\\",\\\"curriculum_items\\\":[{\\\"curriculum_requisites\\\":[{\\\"source_id\\\":4,\\\"target_id\\\":5,\\\"type\\\":\\\"prereq\\\"},{\\\"source_id\\\":3,\\\"target_id\\\":5,\\\"type\\\":\\\"prereq\\\"}],\\\"name\\\":\\\" \\\",\\\"metrics\\\":{\\\"centrality\\\":32,\\\"complexity\\\":12.0,\\\"blocking factor\\\":3,\\\"delay factor\\\":9.0},\\\"nameSub\\\":\\\"Physics II\\\",\\\"id\\\":5,\\\"credits\\\":3,\\\"nameCanonical\\\":\\\"\\\"},{\\\"curriculum_requisites\\\":[{\\\"source_id\\\":5,\\\"target_id\\\":6,\\\"type\\\":\\\"coreq\\\"}],\\\"name\\\":\\\" \\\",\\\"metrics\\\":{\\\"centrality\\\":0,\\\"complexity\\\":8.0,\\\"blocking factor\\\":0,\\\"delay factor\\\":8.0},\\\"nameSub\\\":\\\"Physics II Lab\\\",\\\"id\\\":6,\\\"credits\\\":1,\\\"nameCanonical\\\":\\\"\\\"},{\\\"curriculum_requisites\\\":[{\\\"source_id\\\":2,\\\"target_id\\\":7,\\\"type\\\":\\\"prereq\\\"}],\\\"name\\\":\\\" \\\",\\\"metrics\\\":{\\\"centrality\\\":8,\\\"complexity\\\":8.0,\\\"blocking factor\\\":2,\\\"delay factor\\\":6.0},\\\"nameSub\\\":\\\"Differential Eqs.\\\",\\\"id\\\":7,\\\"credits\\\":3,\\\"nameCanonical\\\":\\\"\\\"},{\\\"curriculum_requisites\\\":[{\\\"source_id\\\":7,\\\"target_id\\\":8,\\\"type\\\":\\\"prereq\\\"},{\\\"source_id\\\":5,\\\"target_id\\\":8,\\\"type\\\":\\\"prereq\\\"}],\\\"name\\\":\\\" \\\",\\\"metrics\\\":{\\\"centrality\\\":25,\\\"complexity\\\":10.0,\\\"blocking factor\\\":1,\\\"delay factor\\\":9.0},\\\"nameSub\\\":\\\"Circuits I\\\",\\\"id\\\":8,\\\"credits\\\":3,\\\"nameCanonical\\\":\\\"\\\"}],\\\"id\\\":6},{\\\"name\\\":\\\"Term 7\\\",\\\"curriculum_items\\\":[{\\\"curriculum_requisites\\\":[{\\\"source_id\\\":8,\\\"target_id\\\":9,\\\"type\\\":\\\"prereq\\\"}],\\\"name\\\":\\\" \\\",\\\"metrics\\\":{\\\"centrality\\\":0,\\\"complexity\\\":9.0,\\\"blocking factor\\\":0,\\\"delay factor\\\":9.0},\\\"nameSub\\\":\\\"Circuits II\\\",\\\"id\\\":9,\\\"credits\\\":3,\\\"nameCanonical\\\":\\\"\\\"}],\\\"id\\\":7}],\\\"institution\\\":\\\"\\\"}},\\\"*\\\"); window.removeEventListener(\\\"message\\\",window.messageReceived); window.messageReceived=(function (event){return (event.data.curriculum!==undefined) ? (WebIO.setval({\\\"name\\\":\\\"curriculum-data\\\",\\\"scope\\\":\\\"8321807202732826265\\\",\\\"id\\\":\\\"ob_08\\\",\\\"type\\\":\\\"observable\\\"},event.data.curriculum)) : undefined}); return window.addEventListener(\\\"message\\\",window.messageReceived)})\")),:style=>Dict(:padding=>\"0\",:height=>\"80vh\",:margin=>\"0\",:border=>\"none\",:width=>\"100%\"))), Dict{String,Tuple{Observables.AbstractObservable,Union{Nothing, Bool}}}(\"curriculum-data\"=>(Observable{Dict{String,Any}} with 1 listeners. Value:\n",
       "Dict{String,Any}(\"options\"=>Dict{String,Any}(\"hideTerms\"=>false,\"edit\"=>false),\"curriculum\"=>Dict{String,Any}(\"name\"=>\"Circuits I Design Pattern\",\"dp_name\"=>\"Calculus ready\",\"curriculum_terms\"=>Dict{String,Any}[Dict(\"name\"=>\"Term 1\",\"curriculum_items\"=>Dict{String,Any}[Dict(\"curriculum_requisites\"=>Dict{String,Any}[],\"name\"=>\" \",\"metrics\"=>Dict{String,Any}(\"centrality\"=>0,\"complexity\"=>20.0,\"blocking factor\"=>11,\"delay factor\"=>9.0),\"nameSub\"=>\"Foundational Math\",\"id\"=>12,\"credits\"=>3,\"nameCanonical\"=>\"\")],\"id\"=>1), Dict(\"name\"=>\"Term 2\",\"curriculum_items\"=>Dict{String,Any}[Dict(\"curriculum_requisites\"=>Dict{String,Any}[Dict(\"source_id\"=>12,\"target_id\"=>11,\"type\"=>\"prereq\")],\"name\"=>\" \",\"metrics\"=>Dict{String,Any}(\"centrality\"=>40,\"complexity\"=>19.0,\"blocking factor\"=>10,\"delay factor\"=>9.0),\"nameSub\"=>\"College Algebra\",\"id\"=>11,\"credits\"=>3,\"nameCanonical\"=>\"\")],\"id\"=>2), Dict(\"name\"=>\"Term 3\",\"curriculum_items\"=>Dict{String,Any}[Dict(\"curriculum_requisites\"=>Dict{String,Any}[Dict(\"source_id\"=>11,\"target_id\"=>10,\"type\"=>\"prereq\")],\"name\"=>\" \",\"metrics\"=>Dict{String,Any}(\"centrality\"=>40,\"complexity\"=>18.0,\"blocking factor\"=>9,\"delay factor\"=>9.0),\"nameSub\"=>\"Precalculus\",\"id\"=>10,\"credits\"=>4,\"nameCanonical\"=>\"\")],\"id\"=>3), Dict(\"name\"=>\"Term 4\",\"curriculum_items\"=>Dict{String,Any}[Dict(\"curriculum_requisites\"=>Dict{String,Any}[Dict(\"source_id\"=>10,\"target_id\"=>1,\"type\"=>\"prereq\")],\"name\"=>\" \",\"metrics\"=>Dict{String,Any}(\"centrality\"=>40,\"complexity\"=>17.0,\"blocking factor\"=>8,\"delay factor\"=>9.0),\"nameSub\"=>\"Calculus I\",\"id\"=>1,\"credits\"=>4,\"nameCanonical\"=>\"\")],\"id\"=>4), Dict(\"name\"=>\"Term 5\",\"curriculum_items\"=>Dict{String,Any}[Dict(\"curriculum_requisites\"=>Dict{String,Any}[Dict(\"source_id\"=>1,\"target_id\"=>2,\"type\"=>\"prereq\")],\"name\"=>\" \",\"metrics\"=>Dict{String,Any}(\"centrality\"=>8,\"complexity\"=>9.0,\"blocking factor\"=>3,\"delay factor\"=>6.0),\"nameSub\"=>\"Calculus II\",\"id\"=>2,\"credits\"=>4,\"nameCanonical\"=>\"\"), Dict(\"curriculum_requisites\"=>Dict{String,Any}[Dict(\"source_id\"=>1,\"target_id\"=>3,\"type\"=>\"prereq\")],\"name\"=>\" \",\"metrics\"=>Dict{String,Any}(\"centrality\"=>32,\"complexity\"=>14.0,\"blocking factor\"=>5,\"delay factor\"=>9.0),\"nameSub\"=>\"Physics I\",\"id\"=>3,\"credits\"=>3,\"nameCanonical\"=>\"\"), Dict(\"curriculum_requisites\"=>Dict{String,Any}[Dict(\"source_id\"=>3,\"target_id\"=>4,\"type\"=>\"coreq\")],\"name\"=>\" \",\"metrics\"=>Dict{String,Any}(\"centrality\"=>17,\"complexity\"=>13.0,\"blocking factor\"=>4,\"delay factor\"=>9.0),\"nameSub\"=>\"Physics I Lab\",\"id\"=>4,\"credits\"=>1,\"nameCanonical\"=>\"\")],\"id\"=>5), Dict(\"name\"=>\"Term 6\",\"curriculum_items\"=>Dict{String,Any}[Dict(\"curriculum_requisites\"=>Dict{String,Any}[Dict(\"source_id\"=>4,\"target_id\"=>5,\"type\"=>\"prereq\"), Dict(\"source_id\"=>3,\"target_id\"=>5,\"type\"=>\"prereq\")],\"name\"=>\" \",\"metrics\"=>Dict{String,Any}(\"centrality\"=>32,\"complexity\"=>12.0,\"blocking factor\"=>3,\"delay factor\"=>9.0),\"nameSub\"=>\"Physics II\",\"id\"=>5,\"credits\"=>3,\"nameCanonical\"=>\"\"), Dict(\"curriculum_requisites\"=>Dict{String,Any}[Dict(\"source_id\"=>5,\"target_id\"=>6,\"type\"=>\"coreq\")],\"name\"=>\" \",\"metrics\"=>Dict{String,Any}(\"centrality\"=>0,\"complexity\"=>8.0,\"blocking factor\"=>0,\"delay factor\"=>8.0),\"nameSub\"=>\"Physics II Lab\",\"id\"=>6,\"credits\"=>1,\"nameCanonical\"=>\"\"), Dict(\"curriculum_requisites\"=>Dict{String,Any}[Dict(\"source_id\"=>2,\"target_id\"=>7,\"type\"=>\"prereq\")],\"name\"=>\" \",\"metrics\"=>Dict{String,Any}(\"centrality\"=>8,\"complexity\"=>8.0,\"blocking factor\"=>2,\"delay factor\"=>6.0),\"nameSub\"=>\"Differential Eqs.\",\"id\"=>7,\"credits\"=>3,\"nameCanonical\"=>\"\"), Dict(\"curriculum_requisites\"=>Dict{String,Any}[Dict(\"source_id\"=>7,\"target_id\"=>8,\"type\"=>\"prereq\"), Dict(\"source_id\"=>5,\"target_id\"=>8,\"type\"=>\"prereq\")],\"name\"=>\" \",\"metrics\"=>Dict{String,Any}(\"centrality\"=>25,\"complexity\"=>10.0,\"blocking factor\"=>1,\"delay factor\"=>9.0),\"nameSub\"=>\"Circuits I\",\"id\"=>8,\"credits\"=>3,\"nameCanonical\"=>\"\")],\"id\"=>6), Dict(\"name\"=>\"Term 7\",\"curriculum_items\"=>Dict{String,Any}[Dict(\"curriculum_requisites\"=>Dict{String,Any}[Dict(\"source_id\"=>8,\"target_id\"=>9,\"type\"=>\"prereq\")],\"name\"=>\" \",\"metrics\"=>Dict{String,Any}(\"centrality\"=>0,\"complexity\"=>9.0,\"blocking factor\"=>0,\"delay factor\"=>9.0),\"nameSub\"=>\"Circuits II\",\"id\"=>9,\"credits\"=>3,\"nameCanonical\"=>\"\")],\"id\"=>7)],\"institution\"=>\"\")), nothing)), Set(String[]), nothing, WebIO.Asset[], Dict{Any,Any}(), WebIO.ConnectionPool(Channel{Any}(sz_max:32,sz_curr:0), Set(WebIO.AbstractConnection[]), Channel{WebIO.AbstractConnection}(sz_max:32,sz_curr:0)), WebIO.JSString[])"
      ]
     },
     "execution_count": 9,
     "metadata": {
      "application/vnd.webio.node+json": {
       "kernelId": "648a078a-cf92-4883-a270-432bb7a2c95f"
      }
     },
     "output_type": "execute_result"
    }
   ],
   "source": [
    "visualize(read_csv(\"EE-FoundationalMath.csv\"), notebook=true, scale=0.8)"
   ]
  },
  {
   "cell_type": "markdown",
   "metadata": {},
   "source": [
    "### Wright State University Reform\n",
    "A reformed curriculum was implemented at Wright State University.  The key factor enabling this innovation is that fact that a typical Circuits I course only requires the ability to solve first order differential equations, and that it's possible to teach basic concepts regarding first order differential equations, as well as solution techniques, to students prior to taking Calculus I.  At Wright State University, this knowledge is imparted in the Engineering 101 class in the very first semester.  Here's what the reformed curriculum looks like:"
   ]
  },
  {
   "cell_type": "code",
   "execution_count": 10,
   "metadata": {},
   "outputs": [
    {
     "data": {
      "application/vnd.webio.node+json": {
       "children": [
        {
         "children": [
          ""
         ],
         "instanceArgs": {
          "namespace": "html",
          "tag": "iframe"
         },
         "nodeType": "DOM",
         "props": {
          "events": {
           "load": "(function (){this.contentWindow.postMessage({\"options\":{\"hideTerms\":false,\"edit\":false},\"curriculum\":{\"name\":\"Circuits I Design Pattern\",\"dp_name\":\"Calculus ready\",\"curriculum_terms\":[{\"name\":\"Term 1\",\"curriculum_items\":[{\"curriculum_requisites\":[],\"name\":\" \",\"metrics\":{\"centrality\":0,\"complexity\":15.0,\"blocking factor\":9,\"delay factor\":6.0},\"nameSub\":\"Engineering 101\",\"id\":10,\"credits\":4,\"nameCanonical\":\"\"}],\"id\":1},{\"name\":\"Term 2\",\"curriculum_items\":[{\"curriculum_requisites\":[{\"source_id\":10,\"target_id\":1,\"type\":\"prereq\"}],\"name\":\" \",\"metrics\":{\"centrality\":16,\"complexity\":13.0,\"blocking factor\":7,\"delay factor\":6.0},\"nameSub\":\"Calculus I\",\"id\":1,\"credits\":4,\"nameCanonical\":\"\"}],\"id\":2},{\"name\":\"Term 3\",\"curriculum_items\":[{\"curriculum_requisites\":[{\"source_id\":1,\"target_id\":2,\"type\":\"prereq\"}],\"name\":\" \",\"metrics\":{\"centrality\":5,\"complexity\":7.0,\"blocking factor\":2,\"delay factor\":5.0},\"nameSub\":\"Calculus II\",\"id\":2,\"credits\":4,\"nameCanonical\":\"\"},{\"curriculum_requisites\":[{\"source_id\":1,\"target_id\":3,\"type\":\"prereq\"}],\"name\":\" \",\"metrics\":{\"centrality\":11,\"complexity\":9.0,\"blocking factor\":3,\"delay factor\":6.0},\"nameSub\":\"Physics I\",\"id\":3,\"credits\":3,\"nameCanonical\":\"\"},{\"curriculum_requisites\":[{\"source_id\":3,\"target_id\":4,\"type\":\"coreq\"}],\"name\":\" \",\"metrics\":{\"centrality\":6,\"complexity\":8.0,\"blocking factor\":2,\"delay factor\":6.0},\"nameSub\":\"Physics I Lab\",\"id\":4,\"credits\":1,\"nameCanonical\":\"\"},{\"curriculum_requisites\":[{\"source_id\":10,\"target_id\":8,\"type\":\"prereq\"}],\"name\":\" \",\"metrics\":{\"centrality\":3,\"complexity\":3.0,\"blocking factor\":1,\"delay factor\":2.0},\"nameSub\":\"Circuits I\",\"id\":8,\"credits\":3,\"nameCanonical\":\"\"}],\"id\":3},{\"name\":\"Term 4\",\"curriculum_items\":[{\"curriculum_requisites\":[{\"source_id\":4,\"target_id\":5,\"type\":\"prereq\"},{\"source_id\":3,\"target_id\":5,\"type\":\"prereq\"}],\"name\":\" \",\"metrics\":{\"centrality\":11,\"complexity\":7.0,\"blocking factor\":1,\"delay factor\":6.0},\"nameSub\":\"Physics II\",\"id\":5,\"credits\":3,\"nameCanonical\":\"\"},{\"curriculum_requisites\":[{\"source_id\":5,\"target_id\":6,\"type\":\"coreq\"}],\"name\":\" \",\"metrics\":{\"centrality\":0,\"complexity\":6.0,\"blocking factor\":0,\"delay factor\":6.0},\"nameSub\":\"Physics II Lab\",\"id\":6,\"credits\":1,\"nameCanonical\":\"\"},{\"curriculum_requisites\":[{\"source_id\":2,\"target_id\":7,\"type\":\"prereq\"}],\"name\":\" \",\"metrics\":{\"centrality\":5,\"complexity\":6.0,\"blocking factor\":1,\"delay factor\":5.0},\"nameSub\":\"Differential Eqs.\",\"id\":7,\"credits\":3,\"nameCanonical\":\"\"}],\"id\":4},{\"name\":\"Term 5\",\"curriculum_items\":[{\"curriculum_requisites\":[{\"source_id\":7,\"target_id\":9,\"type\":\"prereq\"},{\"source_id\":8,\"target_id\":9,\"type\":\"prereq\"}],\"name\":\" \",\"metrics\":{\"centrality\":0,\"complexity\":5.0,\"blocking factor\":0,\"delay factor\":5.0},\"nameSub\":\"Circuits II\",\"id\":9,\"credits\":3,\"nameCanonical\":\"\"}],\"id\":5}],\"institution\":\"\"}},\"*\"); window.removeEventListener(\"message\",window.messageReceived); window.messageReceived=(function (event){return (event.data.curriculum!==undefined) ? (WebIO.setval({\"name\":\"curriculum-data\",\"scope\":\"4117054640560765571\",\"id\":\"ob_09\",\"type\":\"observable\"},event.data.curriculum)) : undefined}); return window.addEventListener(\"message\",window.messageReceived)})"
          },
          "id": "curriculum",
          "src": "http://localhost:8156",
          "style": {
           "border": "none",
           "height": "80vh",
           "margin": "0",
           "padding": "0",
           "width": "100%"
          }
         },
         "type": "node"
        }
       ],
       "instanceArgs": {
        "handlers": {},
        "id": "4117054640560765571",
        "imports": {
         "data": [],
         "type": "async_block"
        },
        "mount_callbacks": [],
        "observables": {
         "curriculum-data": {
          "id": "ob_09",
          "sync": true,
          "value": {
           "curriculum": {
            "curriculum_terms": [
             {
              "curriculum_items": [
               {
                "credits": 4,
                "curriculum_requisites": [],
                "id": 10,
                "metrics": {
                 "blocking factor": 9,
                 "centrality": 0,
                 "complexity": 15,
                 "delay factor": 6
                },
                "name": " ",
                "nameCanonical": "",
                "nameSub": "Engineering 101"
               }
              ],
              "id": 1,
              "name": "Term 1"
             },
             {
              "curriculum_items": [
               {
                "credits": 4,
                "curriculum_requisites": [
                 {
                  "source_id": 10,
                  "target_id": 1,
                  "type": "prereq"
                 }
                ],
                "id": 1,
                "metrics": {
                 "blocking factor": 7,
                 "centrality": 16,
                 "complexity": 13,
                 "delay factor": 6
                },
                "name": " ",
                "nameCanonical": "",
                "nameSub": "Calculus I"
               }
              ],
              "id": 2,
              "name": "Term 2"
             },
             {
              "curriculum_items": [
               {
                "credits": 4,
                "curriculum_requisites": [
                 {
                  "source_id": 1,
                  "target_id": 2,
                  "type": "prereq"
                 }
                ],
                "id": 2,
                "metrics": {
                 "blocking factor": 2,
                 "centrality": 5,
                 "complexity": 7,
                 "delay factor": 5
                },
                "name": " ",
                "nameCanonical": "",
                "nameSub": "Calculus II"
               },
               {
                "credits": 3,
                "curriculum_requisites": [
                 {
                  "source_id": 1,
                  "target_id": 3,
                  "type": "prereq"
                 }
                ],
                "id": 3,
                "metrics": {
                 "blocking factor": 3,
                 "centrality": 11,
                 "complexity": 9,
                 "delay factor": 6
                },
                "name": " ",
                "nameCanonical": "",
                "nameSub": "Physics I"
               },
               {
                "credits": 1,
                "curriculum_requisites": [
                 {
                  "source_id": 3,
                  "target_id": 4,
                  "type": "coreq"
                 }
                ],
                "id": 4,
                "metrics": {
                 "blocking factor": 2,
                 "centrality": 6,
                 "complexity": 8,
                 "delay factor": 6
                },
                "name": " ",
                "nameCanonical": "",
                "nameSub": "Physics I Lab"
               },
               {
                "credits": 3,
                "curriculum_requisites": [
                 {
                  "source_id": 10,
                  "target_id": 8,
                  "type": "prereq"
                 }
                ],
                "id": 8,
                "metrics": {
                 "blocking factor": 1,
                 "centrality": 3,
                 "complexity": 3,
                 "delay factor": 2
                },
                "name": " ",
                "nameCanonical": "",
                "nameSub": "Circuits I"
               }
              ],
              "id": 3,
              "name": "Term 3"
             },
             {
              "curriculum_items": [
               {
                "credits": 3,
                "curriculum_requisites": [
                 {
                  "source_id": 4,
                  "target_id": 5,
                  "type": "prereq"
                 },
                 {
                  "source_id": 3,
                  "target_id": 5,
                  "type": "prereq"
                 }
                ],
                "id": 5,
                "metrics": {
                 "blocking factor": 1,
                 "centrality": 11,
                 "complexity": 7,
                 "delay factor": 6
                },
                "name": " ",
                "nameCanonical": "",
                "nameSub": "Physics II"
               },
               {
                "credits": 1,
                "curriculum_requisites": [
                 {
                  "source_id": 5,
                  "target_id": 6,
                  "type": "coreq"
                 }
                ],
                "id": 6,
                "metrics": {
                 "blocking factor": 0,
                 "centrality": 0,
                 "complexity": 6,
                 "delay factor": 6
                },
                "name": " ",
                "nameCanonical": "",
                "nameSub": "Physics II Lab"
               },
               {
                "credits": 3,
                "curriculum_requisites": [
                 {
                  "source_id": 2,
                  "target_id": 7,
                  "type": "prereq"
                 }
                ],
                "id": 7,
                "metrics": {
                 "blocking factor": 1,
                 "centrality": 5,
                 "complexity": 6,
                 "delay factor": 5
                },
                "name": " ",
                "nameCanonical": "",
                "nameSub": "Differential Eqs."
               }
              ],
              "id": 4,
              "name": "Term 4"
             },
             {
              "curriculum_items": [
               {
                "credits": 3,
                "curriculum_requisites": [
                 {
                  "source_id": 7,
                  "target_id": 9,
                  "type": "prereq"
                 },
                 {
                  "source_id": 8,
                  "target_id": 9,
                  "type": "prereq"
                 }
                ],
                "id": 9,
                "metrics": {
                 "blocking factor": 0,
                 "centrality": 0,
                 "complexity": 5,
                 "delay factor": 5
                },
                "name": " ",
                "nameCanonical": "",
                "nameSub": "Circuits II"
               }
              ],
              "id": 5,
              "name": "Term 5"
             }
            ],
            "dp_name": "Calculus ready",
            "institution": "",
            "name": "Circuits I Design Pattern"
           },
           "options": {
            "edit": false,
            "hideTerms": false
           }
          }
         }
        },
        "systemjs_options": null
       },
       "nodeType": "Scope",
       "props": {},
       "type": "node"
      },
      "text/html": [
       "<div\n",
       "    class=\"webio-mountpoint\"\n",
       "    data-webio-mountpoint=\"7390012495487478779\"\n",
       ">\n",
       "    <script>\n",
       "    if (window.require && require.defined && require.defined(\"nbextensions/webio/main\")) {\n",
       "        console.log(\"Jupyter WebIO extension detected, not mounting.\");\n",
       "    } else if (window.WebIO) {\n",
       "        WebIO.mount(\n",
       "            document.querySelector('[data-webio-mountpoint=\"7390012495487478779\"]'),\n",
       "            {\"props\":{},\"nodeType\":\"Scope\",\"type\":\"node\",\"instanceArgs\":{\"imports\":{\"data\":[],\"type\":\"async_block\"},\"id\":\"4117054640560765571\",\"handlers\":{},\"systemjs_options\":null,\"mount_callbacks\":[],\"observables\":{\"curriculum-data\":{\"sync\":true,\"id\":\"ob_09\",\"value\":{\"options\":{\"hideTerms\":false,\"edit\":false},\"curriculum\":{\"name\":\"Circuits I Design Pattern\",\"dp_name\":\"Calculus ready\",\"curriculum_terms\":[{\"name\":\"Term 1\",\"curriculum_items\":[{\"curriculum_requisites\":[],\"name\":\" \",\"metrics\":{\"centrality\":0,\"complexity\":15.0,\"blocking factor\":9,\"delay factor\":6.0},\"nameSub\":\"Engineering 101\",\"id\":10,\"credits\":4,\"nameCanonical\":\"\"}],\"id\":1},{\"name\":\"Term 2\",\"curriculum_items\":[{\"curriculum_requisites\":[{\"source_id\":10,\"target_id\":1,\"type\":\"prereq\"}],\"name\":\" \",\"metrics\":{\"centrality\":16,\"complexity\":13.0,\"blocking factor\":7,\"delay factor\":6.0},\"nameSub\":\"Calculus I\",\"id\":1,\"credits\":4,\"nameCanonical\":\"\"}],\"id\":2},{\"name\":\"Term 3\",\"curriculum_items\":[{\"curriculum_requisites\":[{\"source_id\":1,\"target_id\":2,\"type\":\"prereq\"}],\"name\":\" \",\"metrics\":{\"centrality\":5,\"complexity\":7.0,\"blocking factor\":2,\"delay factor\":5.0},\"nameSub\":\"Calculus II\",\"id\":2,\"credits\":4,\"nameCanonical\":\"\"},{\"curriculum_requisites\":[{\"source_id\":1,\"target_id\":3,\"type\":\"prereq\"}],\"name\":\" \",\"metrics\":{\"centrality\":11,\"complexity\":9.0,\"blocking factor\":3,\"delay factor\":6.0},\"nameSub\":\"Physics I\",\"id\":3,\"credits\":3,\"nameCanonical\":\"\"},{\"curriculum_requisites\":[{\"source_id\":3,\"target_id\":4,\"type\":\"coreq\"}],\"name\":\" \",\"metrics\":{\"centrality\":6,\"complexity\":8.0,\"blocking factor\":2,\"delay factor\":6.0},\"nameSub\":\"Physics I Lab\",\"id\":4,\"credits\":1,\"nameCanonical\":\"\"},{\"curriculum_requisites\":[{\"source_id\":10,\"target_id\":8,\"type\":\"prereq\"}],\"name\":\" \",\"metrics\":{\"centrality\":3,\"complexity\":3.0,\"blocking factor\":1,\"delay factor\":2.0},\"nameSub\":\"Circuits I\",\"id\":8,\"credits\":3,\"nameCanonical\":\"\"}],\"id\":3},{\"name\":\"Term 4\",\"curriculum_items\":[{\"curriculum_requisites\":[{\"source_id\":4,\"target_id\":5,\"type\":\"prereq\"},{\"source_id\":3,\"target_id\":5,\"type\":\"prereq\"}],\"name\":\" \",\"metrics\":{\"centrality\":11,\"complexity\":7.0,\"blocking factor\":1,\"delay factor\":6.0},\"nameSub\":\"Physics II\",\"id\":5,\"credits\":3,\"nameCanonical\":\"\"},{\"curriculum_requisites\":[{\"source_id\":5,\"target_id\":6,\"type\":\"coreq\"}],\"name\":\" \",\"metrics\":{\"centrality\":0,\"complexity\":6.0,\"blocking factor\":0,\"delay factor\":6.0},\"nameSub\":\"Physics II Lab\",\"id\":6,\"credits\":1,\"nameCanonical\":\"\"},{\"curriculum_requisites\":[{\"source_id\":2,\"target_id\":7,\"type\":\"prereq\"}],\"name\":\" \",\"metrics\":{\"centrality\":5,\"complexity\":6.0,\"blocking factor\":1,\"delay factor\":5.0},\"nameSub\":\"Differential Eqs.\",\"id\":7,\"credits\":3,\"nameCanonical\":\"\"}],\"id\":4},{\"name\":\"Term 5\",\"curriculum_items\":[{\"curriculum_requisites\":[{\"source_id\":7,\"target_id\":9,\"type\":\"prereq\"},{\"source_id\":8,\"target_id\":9,\"type\":\"prereq\"}],\"name\":\" \",\"metrics\":{\"centrality\":0,\"complexity\":5.0,\"blocking factor\":0,\"delay factor\":5.0},\"nameSub\":\"Circuits II\",\"id\":9,\"credits\":3,\"nameCanonical\":\"\"}],\"id\":5}],\"institution\":\"\"}}}}},\"children\":[{\"props\":{\"src\":\"http:\\/\\/localhost:8156\",\"id\":\"curriculum\",\"events\":{\"load\":\"(function (){this.contentWindow.postMessage({\\\"options\\\":{\\\"hideTerms\\\":false,\\\"edit\\\":false},\\\"curriculum\\\":{\\\"name\\\":\\\"Circuits I Design Pattern\\\",\\\"dp_name\\\":\\\"Calculus ready\\\",\\\"curriculum_terms\\\":[{\\\"name\\\":\\\"Term 1\\\",\\\"curriculum_items\\\":[{\\\"curriculum_requisites\\\":[],\\\"name\\\":\\\" \\\",\\\"metrics\\\":{\\\"centrality\\\":0,\\\"complexity\\\":15.0,\\\"blocking factor\\\":9,\\\"delay factor\\\":6.0},\\\"nameSub\\\":\\\"Engineering 101\\\",\\\"id\\\":10,\\\"credits\\\":4,\\\"nameCanonical\\\":\\\"\\\"}],\\\"id\\\":1},{\\\"name\\\":\\\"Term 2\\\",\\\"curriculum_items\\\":[{\\\"curriculum_requisites\\\":[{\\\"source_id\\\":10,\\\"target_id\\\":1,\\\"type\\\":\\\"prereq\\\"}],\\\"name\\\":\\\" \\\",\\\"metrics\\\":{\\\"centrality\\\":16,\\\"complexity\\\":13.0,\\\"blocking factor\\\":7,\\\"delay factor\\\":6.0},\\\"nameSub\\\":\\\"Calculus I\\\",\\\"id\\\":1,\\\"credits\\\":4,\\\"nameCanonical\\\":\\\"\\\"}],\\\"id\\\":2},{\\\"name\\\":\\\"Term 3\\\",\\\"curriculum_items\\\":[{\\\"curriculum_requisites\\\":[{\\\"source_id\\\":1,\\\"target_id\\\":2,\\\"type\\\":\\\"prereq\\\"}],\\\"name\\\":\\\" \\\",\\\"metrics\\\":{\\\"centrality\\\":5,\\\"complexity\\\":7.0,\\\"blocking factor\\\":2,\\\"delay factor\\\":5.0},\\\"nameSub\\\":\\\"Calculus II\\\",\\\"id\\\":2,\\\"credits\\\":4,\\\"nameCanonical\\\":\\\"\\\"},{\\\"curriculum_requisites\\\":[{\\\"source_id\\\":1,\\\"target_id\\\":3,\\\"type\\\":\\\"prereq\\\"}],\\\"name\\\":\\\" \\\",\\\"metrics\\\":{\\\"centrality\\\":11,\\\"complexity\\\":9.0,\\\"blocking factor\\\":3,\\\"delay factor\\\":6.0},\\\"nameSub\\\":\\\"Physics I\\\",\\\"id\\\":3,\\\"credits\\\":3,\\\"nameCanonical\\\":\\\"\\\"},{\\\"curriculum_requisites\\\":[{\\\"source_id\\\":3,\\\"target_id\\\":4,\\\"type\\\":\\\"coreq\\\"}],\\\"name\\\":\\\" \\\",\\\"metrics\\\":{\\\"centrality\\\":6,\\\"complexity\\\":8.0,\\\"blocking factor\\\":2,\\\"delay factor\\\":6.0},\\\"nameSub\\\":\\\"Physics I Lab\\\",\\\"id\\\":4,\\\"credits\\\":1,\\\"nameCanonical\\\":\\\"\\\"},{\\\"curriculum_requisites\\\":[{\\\"source_id\\\":10,\\\"target_id\\\":8,\\\"type\\\":\\\"prereq\\\"}],\\\"name\\\":\\\" \\\",\\\"metrics\\\":{\\\"centrality\\\":3,\\\"complexity\\\":3.0,\\\"blocking factor\\\":1,\\\"delay factor\\\":2.0},\\\"nameSub\\\":\\\"Circuits I\\\",\\\"id\\\":8,\\\"credits\\\":3,\\\"nameCanonical\\\":\\\"\\\"}],\\\"id\\\":3},{\\\"name\\\":\\\"Term 4\\\",\\\"curriculum_items\\\":[{\\\"curriculum_requisites\\\":[{\\\"source_id\\\":4,\\\"target_id\\\":5,\\\"type\\\":\\\"prereq\\\"},{\\\"source_id\\\":3,\\\"target_id\\\":5,\\\"type\\\":\\\"prereq\\\"}],\\\"name\\\":\\\" \\\",\\\"metrics\\\":{\\\"centrality\\\":11,\\\"complexity\\\":7.0,\\\"blocking factor\\\":1,\\\"delay factor\\\":6.0},\\\"nameSub\\\":\\\"Physics II\\\",\\\"id\\\":5,\\\"credits\\\":3,\\\"nameCanonical\\\":\\\"\\\"},{\\\"curriculum_requisites\\\":[{\\\"source_id\\\":5,\\\"target_id\\\":6,\\\"type\\\":\\\"coreq\\\"}],\\\"name\\\":\\\" \\\",\\\"metrics\\\":{\\\"centrality\\\":0,\\\"complexity\\\":6.0,\\\"blocking factor\\\":0,\\\"delay factor\\\":6.0},\\\"nameSub\\\":\\\"Physics II Lab\\\",\\\"id\\\":6,\\\"credits\\\":1,\\\"nameCanonical\\\":\\\"\\\"},{\\\"curriculum_requisites\\\":[{\\\"source_id\\\":2,\\\"target_id\\\":7,\\\"type\\\":\\\"prereq\\\"}],\\\"name\\\":\\\" \\\",\\\"metrics\\\":{\\\"centrality\\\":5,\\\"complexity\\\":6.0,\\\"blocking factor\\\":1,\\\"delay factor\\\":5.0},\\\"nameSub\\\":\\\"Differential Eqs.\\\",\\\"id\\\":7,\\\"credits\\\":3,\\\"nameCanonical\\\":\\\"\\\"}],\\\"id\\\":4},{\\\"name\\\":\\\"Term 5\\\",\\\"curriculum_items\\\":[{\\\"curriculum_requisites\\\":[{\\\"source_id\\\":7,\\\"target_id\\\":9,\\\"type\\\":\\\"prereq\\\"},{\\\"source_id\\\":8,\\\"target_id\\\":9,\\\"type\\\":\\\"prereq\\\"}],\\\"name\\\":\\\" \\\",\\\"metrics\\\":{\\\"centrality\\\":0,\\\"complexity\\\":5.0,\\\"blocking factor\\\":0,\\\"delay factor\\\":5.0},\\\"nameSub\\\":\\\"Circuits II\\\",\\\"id\\\":9,\\\"credits\\\":3,\\\"nameCanonical\\\":\\\"\\\"}],\\\"id\\\":5}],\\\"institution\\\":\\\"\\\"}},\\\"*\\\"); window.removeEventListener(\\\"message\\\",window.messageReceived); window.messageReceived=(function (event){return (event.data.curriculum!==undefined) ? (WebIO.setval({\\\"name\\\":\\\"curriculum-data\\\",\\\"scope\\\":\\\"4117054640560765571\\\",\\\"id\\\":\\\"ob_09\\\",\\\"type\\\":\\\"observable\\\"},event.data.curriculum)) : undefined}); return window.addEventListener(\\\"message\\\",window.messageReceived)})\"},\"style\":{\"padding\":\"0\",\"height\":\"80vh\",\"margin\":\"0\",\"border\":\"none\",\"width\":\"100%\"}},\"nodeType\":\"DOM\",\"type\":\"node\",\"instanceArgs\":{\"namespace\":\"html\",\"tag\":\"iframe\"},\"children\":[\"\"]}]},\n",
       "            window,\n",
       "        );\n",
       "    } else {\n",
       "        document\n",
       "            .querySelector('[data-webio-mountpoint=\"7390012495487478779\"]')\n",
       "            .innerHTML = '<strong>WebIO not detected.</strong>';\n",
       "    }\n",
       "    </script>\n",
       "</div>\n"
      ],
      "text/plain": [
       "WebIO.Scope(WebIO.Node{WebIO.DOM}(WebIO.DOM(:html, :iframe), Any[\"\"], Dict{Symbol,Any}(:src=>\"http://localhost:8156\",:id=>\"curriculum\",:events=>Dict(:load=>JSString(\"(function (){this.contentWindow.postMessage({\\\"options\\\":{\\\"hideTerms\\\":false,\\\"edit\\\":false},\\\"curriculum\\\":{\\\"name\\\":\\\"Circuits I Design Pattern\\\",\\\"dp_name\\\":\\\"Calculus ready\\\",\\\"curriculum_terms\\\":[{\\\"name\\\":\\\"Term 1\\\",\\\"curriculum_items\\\":[{\\\"curriculum_requisites\\\":[],\\\"name\\\":\\\" \\\",\\\"metrics\\\":{\\\"centrality\\\":0,\\\"complexity\\\":15.0,\\\"blocking factor\\\":9,\\\"delay factor\\\":6.0},\\\"nameSub\\\":\\\"Engineering 101\\\",\\\"id\\\":10,\\\"credits\\\":4,\\\"nameCanonical\\\":\\\"\\\"}],\\\"id\\\":1},{\\\"name\\\":\\\"Term 2\\\",\\\"curriculum_items\\\":[{\\\"curriculum_requisites\\\":[{\\\"source_id\\\":10,\\\"target_id\\\":1,\\\"type\\\":\\\"prereq\\\"}],\\\"name\\\":\\\" \\\",\\\"metrics\\\":{\\\"centrality\\\":16,\\\"complexity\\\":13.0,\\\"blocking factor\\\":7,\\\"delay factor\\\":6.0},\\\"nameSub\\\":\\\"Calculus I\\\",\\\"id\\\":1,\\\"credits\\\":4,\\\"nameCanonical\\\":\\\"\\\"}],\\\"id\\\":2},{\\\"name\\\":\\\"Term 3\\\",\\\"curriculum_items\\\":[{\\\"curriculum_requisites\\\":[{\\\"source_id\\\":1,\\\"target_id\\\":2,\\\"type\\\":\\\"prereq\\\"}],\\\"name\\\":\\\" \\\",\\\"metrics\\\":{\\\"centrality\\\":5,\\\"complexity\\\":7.0,\\\"blocking factor\\\":2,\\\"delay factor\\\":5.0},\\\"nameSub\\\":\\\"Calculus II\\\",\\\"id\\\":2,\\\"credits\\\":4,\\\"nameCanonical\\\":\\\"\\\"},{\\\"curriculum_requisites\\\":[{\\\"source_id\\\":1,\\\"target_id\\\":3,\\\"type\\\":\\\"prereq\\\"}],\\\"name\\\":\\\" \\\",\\\"metrics\\\":{\\\"centrality\\\":11,\\\"complexity\\\":9.0,\\\"blocking factor\\\":3,\\\"delay factor\\\":6.0},\\\"nameSub\\\":\\\"Physics I\\\",\\\"id\\\":3,\\\"credits\\\":3,\\\"nameCanonical\\\":\\\"\\\"},{\\\"curriculum_requisites\\\":[{\\\"source_id\\\":3,\\\"target_id\\\":4,\\\"type\\\":\\\"coreq\\\"}],\\\"name\\\":\\\" \\\",\\\"metrics\\\":{\\\"centrality\\\":6,\\\"complexity\\\":8.0,\\\"blocking factor\\\":2,\\\"delay factor\\\":6.0},\\\"nameSub\\\":\\\"Physics I Lab\\\",\\\"id\\\":4,\\\"credits\\\":1,\\\"nameCanonical\\\":\\\"\\\"},{\\\"curriculum_requisites\\\":[{\\\"source_id\\\":10,\\\"target_id\\\":8,\\\"type\\\":\\\"prereq\\\"}],\\\"name\\\":\\\" \\\",\\\"metrics\\\":{\\\"centrality\\\":3,\\\"complexity\\\":3.0,\\\"blocking factor\\\":1,\\\"delay factor\\\":2.0},\\\"nameSub\\\":\\\"Circuits I\\\",\\\"id\\\":8,\\\"credits\\\":3,\\\"nameCanonical\\\":\\\"\\\"}],\\\"id\\\":3},{\\\"name\\\":\\\"Term 4\\\",\\\"curriculum_items\\\":[{\\\"curriculum_requisites\\\":[{\\\"source_id\\\":4,\\\"target_id\\\":5,\\\"type\\\":\\\"prereq\\\"},{\\\"source_id\\\":3,\\\"target_id\\\":5,\\\"type\\\":\\\"prereq\\\"}],\\\"name\\\":\\\" \\\",\\\"metrics\\\":{\\\"centrality\\\":11,\\\"complexity\\\":7.0,\\\"blocking factor\\\":1,\\\"delay factor\\\":6.0},\\\"nameSub\\\":\\\"Physics II\\\",\\\"id\\\":5,\\\"credits\\\":3,\\\"nameCanonical\\\":\\\"\\\"},{\\\"curriculum_requisites\\\":[{\\\"source_id\\\":5,\\\"target_id\\\":6,\\\"type\\\":\\\"coreq\\\"}],\\\"name\\\":\\\" \\\",\\\"metrics\\\":{\\\"centrality\\\":0,\\\"complexity\\\":6.0,\\\"blocking factor\\\":0,\\\"delay factor\\\":6.0},\\\"nameSub\\\":\\\"Physics II Lab\\\",\\\"id\\\":6,\\\"credits\\\":1,\\\"nameCanonical\\\":\\\"\\\"},{\\\"curriculum_requisites\\\":[{\\\"source_id\\\":2,\\\"target_id\\\":7,\\\"type\\\":\\\"prereq\\\"}],\\\"name\\\":\\\" \\\",\\\"metrics\\\":{\\\"centrality\\\":5,\\\"complexity\\\":6.0,\\\"blocking factor\\\":1,\\\"delay factor\\\":5.0},\\\"nameSub\\\":\\\"Differential Eqs.\\\",\\\"id\\\":7,\\\"credits\\\":3,\\\"nameCanonical\\\":\\\"\\\"}],\\\"id\\\":4},{\\\"name\\\":\\\"Term 5\\\",\\\"curriculum_items\\\":[{\\\"curriculum_requisites\\\":[{\\\"source_id\\\":7,\\\"target_id\\\":9,\\\"type\\\":\\\"prereq\\\"},{\\\"source_id\\\":8,\\\"target_id\\\":9,\\\"type\\\":\\\"prereq\\\"}],\\\"name\\\":\\\" \\\",\\\"metrics\\\":{\\\"centrality\\\":0,\\\"complexity\\\":5.0,\\\"blocking factor\\\":0,\\\"delay factor\\\":5.0},\\\"nameSub\\\":\\\"Circuits II\\\",\\\"id\\\":9,\\\"credits\\\":3,\\\"nameCanonical\\\":\\\"\\\"}],\\\"id\\\":5}],\\\"institution\\\":\\\"\\\"}},\\\"*\\\"); window.removeEventListener(\\\"message\\\",window.messageReceived); window.messageReceived=(function (event){return (event.data.curriculum!==undefined) ? (WebIO.setval({\\\"name\\\":\\\"curriculum-data\\\",\\\"scope\\\":\\\"4117054640560765571\\\",\\\"id\\\":\\\"ob_09\\\",\\\"type\\\":\\\"observable\\\"},event.data.curriculum)) : undefined}); return window.addEventListener(\\\"message\\\",window.messageReceived)})\")),:style=>Dict(:padding=>\"0\",:height=>\"80vh\",:margin=>\"0\",:border=>\"none\",:width=>\"100%\"))), Dict{String,Tuple{Observables.AbstractObservable,Union{Nothing, Bool}}}(\"curriculum-data\"=>(Observable{Dict{String,Any}} with 1 listeners. Value:\n",
       "Dict{String,Any}(\"options\"=>Dict{String,Any}(\"hideTerms\"=>false,\"edit\"=>false),\"curriculum\"=>Dict{String,Any}(\"name\"=>\"Circuits I Design Pattern\",\"dp_name\"=>\"Calculus ready\",\"curriculum_terms\"=>Dict{String,Any}[Dict(\"name\"=>\"Term 1\",\"curriculum_items\"=>Dict{String,Any}[Dict(\"curriculum_requisites\"=>Dict{String,Any}[],\"name\"=>\" \",\"metrics\"=>Dict{String,Any}(\"centrality\"=>0,\"complexity\"=>15.0,\"blocking factor\"=>9,\"delay factor\"=>6.0),\"nameSub\"=>\"Engineering 101\",\"id\"=>10,\"credits\"=>4,\"nameCanonical\"=>\"\")],\"id\"=>1), Dict(\"name\"=>\"Term 2\",\"curriculum_items\"=>Dict{String,Any}[Dict(\"curriculum_requisites\"=>Dict{String,Any}[Dict(\"source_id\"=>10,\"target_id\"=>1,\"type\"=>\"prereq\")],\"name\"=>\" \",\"metrics\"=>Dict{String,Any}(\"centrality\"=>16,\"complexity\"=>13.0,\"blocking factor\"=>7,\"delay factor\"=>6.0),\"nameSub\"=>\"Calculus I\",\"id\"=>1,\"credits\"=>4,\"nameCanonical\"=>\"\")],\"id\"=>2), Dict(\"name\"=>\"Term 3\",\"curriculum_items\"=>Dict{String,Any}[Dict(\"curriculum_requisites\"=>Dict{String,Any}[Dict(\"source_id\"=>1,\"target_id\"=>2,\"type\"=>\"prereq\")],\"name\"=>\" \",\"metrics\"=>Dict{String,Any}(\"centrality\"=>5,\"complexity\"=>7.0,\"blocking factor\"=>2,\"delay factor\"=>5.0),\"nameSub\"=>\"Calculus II\",\"id\"=>2,\"credits\"=>4,\"nameCanonical\"=>\"\"), Dict(\"curriculum_requisites\"=>Dict{String,Any}[Dict(\"source_id\"=>1,\"target_id\"=>3,\"type\"=>\"prereq\")],\"name\"=>\" \",\"metrics\"=>Dict{String,Any}(\"centrality\"=>11,\"complexity\"=>9.0,\"blocking factor\"=>3,\"delay factor\"=>6.0),\"nameSub\"=>\"Physics I\",\"id\"=>3,\"credits\"=>3,\"nameCanonical\"=>\"\"), Dict(\"curriculum_requisites\"=>Dict{String,Any}[Dict(\"source_id\"=>3,\"target_id\"=>4,\"type\"=>\"coreq\")],\"name\"=>\" \",\"metrics\"=>Dict{String,Any}(\"centrality\"=>6,\"complexity\"=>8.0,\"blocking factor\"=>2,\"delay factor\"=>6.0),\"nameSub\"=>\"Physics I Lab\",\"id\"=>4,\"credits\"=>1,\"nameCanonical\"=>\"\"), Dict(\"curriculum_requisites\"=>Dict{String,Any}[Dict(\"source_id\"=>10,\"target_id\"=>8,\"type\"=>\"prereq\")],\"name\"=>\" \",\"metrics\"=>Dict{String,Any}(\"centrality\"=>3,\"complexity\"=>3.0,\"blocking factor\"=>1,\"delay factor\"=>2.0),\"nameSub\"=>\"Circuits I\",\"id\"=>8,\"credits\"=>3,\"nameCanonical\"=>\"\")],\"id\"=>3), Dict(\"name\"=>\"Term 4\",\"curriculum_items\"=>Dict{String,Any}[Dict(\"curriculum_requisites\"=>Dict{String,Any}[Dict(\"source_id\"=>4,\"target_id\"=>5,\"type\"=>\"prereq\"), Dict(\"source_id\"=>3,\"target_id\"=>5,\"type\"=>\"prereq\")],\"name\"=>\" \",\"metrics\"=>Dict{String,Any}(\"centrality\"=>11,\"complexity\"=>7.0,\"blocking factor\"=>1,\"delay factor\"=>6.0),\"nameSub\"=>\"Physics II\",\"id\"=>5,\"credits\"=>3,\"nameCanonical\"=>\"\"), Dict(\"curriculum_requisites\"=>Dict{String,Any}[Dict(\"source_id\"=>5,\"target_id\"=>6,\"type\"=>\"coreq\")],\"name\"=>\" \",\"metrics\"=>Dict{String,Any}(\"centrality\"=>0,\"complexity\"=>6.0,\"blocking factor\"=>0,\"delay factor\"=>6.0),\"nameSub\"=>\"Physics II Lab\",\"id\"=>6,\"credits\"=>1,\"nameCanonical\"=>\"\"), Dict(\"curriculum_requisites\"=>Dict{String,Any}[Dict(\"source_id\"=>2,\"target_id\"=>7,\"type\"=>\"prereq\")],\"name\"=>\" \",\"metrics\"=>Dict{String,Any}(\"centrality\"=>5,\"complexity\"=>6.0,\"blocking factor\"=>1,\"delay factor\"=>5.0),\"nameSub\"=>\"Differential Eqs.\",\"id\"=>7,\"credits\"=>3,\"nameCanonical\"=>\"\")],\"id\"=>4), Dict(\"name\"=>\"Term 5\",\"curriculum_items\"=>Dict{String,Any}[Dict(\"curriculum_requisites\"=>Dict{String,Any}[Dict(\"source_id\"=>7,\"target_id\"=>9,\"type\"=>\"prereq\"), Dict(\"source_id\"=>8,\"target_id\"=>9,\"type\"=>\"prereq\")],\"name\"=>\" \",\"metrics\"=>Dict{String,Any}(\"centrality\"=>0,\"complexity\"=>5.0,\"blocking factor\"=>0,\"delay factor\"=>5.0),\"nameSub\"=>\"Circuits II\",\"id\"=>9,\"credits\"=>3,\"nameCanonical\"=>\"\")],\"id\"=>5)],\"institution\"=>\"\")), nothing)), Set(String[]), nothing, WebIO.Asset[], Dict{Any,Any}(), WebIO.ConnectionPool(Channel{Any}(sz_max:32,sz_curr:0), Set(WebIO.AbstractConnection[]), Channel{WebIO.AbstractConnection}(sz_max:32,sz_curr:0)), WebIO.JSString[])"
      ]
     },
     "execution_count": 10,
     "metadata": {
      "application/vnd.webio.node+json": {
       "kernelId": "648a078a-cf92-4883-a270-432bb7a2c95f"
      }
     },
     "output_type": "execute_result"
    }
   ],
   "source": [
    "visualize(read_csv(\"EE-Reformed.csv\"), notebook=true, scale=0.8)"
   ]
  },
  {
   "cell_type": "markdown",
   "metadata": {},
   "source": [
    "## References\n",
    "Accreditation Board for Engineering and Technology (ABET) (2017). Criteria for Accrediting Engineering Programs: Effective for Reviews During the 2017–2018 Accreditation Cycle. www.abet.org.\n",
    "\n",
    "Cornell University, Electrical and Computer Engineering, Program Requirements, (accessed August 10, 2018). www.ece.cornell.edu/ece/programs/undergraduate-programs/majors/program-requirements.\n",
    "\n",
    "Heileman, G. L., Abdallah, C.T., Slim, A., and Hickman, M. (2018). Curricular analytics: A framework for quantifying the impact of curricular reforms and pedagogical innovations. www.arXiv.org, arXiv:1811.09676 [cs.CY].\n",
    "\n",
    "Heileman, G. L., Free, H. W., Abar, O. and Thompson-Arjona, W. G, (2019). CurricularAnalytics.jl Toolbox. https://github.com/heileman/CurricularAnalytics.jl.\n",
    "\n",
    "Klingbeil, N. W., and Bourne, A. (2015). The Wright State model for engineering mathematics education: Longitudinal impact on initially underprepared students. In *Proceedings of the 122nd ASEE Annual Conference*, Seattle, WA.\n",
    "\n",
    "University of Houston, Electrical and Computer Engineering, Program Requirements, 2017-18 Undergradaute Catalog, (accessed August 10, 2018). http://publications.uh.edu/index.php?catoid=25.\n",
    "\n",
    "University of Kentucky, College of Engineering, Electrical Engineering Program, (accessed August 10, 2018). https://www.engr.uky.edu/research-faculty/departments/electrical-computer-engineering/students/undergraduate/electrical."
   ]
  }
 ],
 "metadata": {
  "@webio": {
   "lastCommId": "550f2bcf2b174611bf0902c9c417ca2d",
   "lastKernelId": "648a078a-cf92-4883-a270-432bb7a2c95f"
  },
  "kernelspec": {
   "display_name": "Julia 1.1.1",
   "language": "julia",
   "name": "julia-1.1"
  },
  "language_info": {
   "file_extension": ".jl",
   "mimetype": "application/julia",
   "name": "julia",
   "version": "1.1.1"
  }
 },
 "nbformat": 4,
 "nbformat_minor": 2
}
